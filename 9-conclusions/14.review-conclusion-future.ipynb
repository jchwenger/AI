{
 "cells": [
  {
   "cell_type": "markdown",
   "metadata": {
    "slideshow": {
     "slide_type": "slide"
    }
   },
   "source": [
    "# Attendance\n",
    "\n",
    "[The link to SEAts](https://gold.seats.cloud/angular/#/lectures)"
   ]
  },
  {
   "cell_type": "markdown",
   "metadata": {
    "slideshow": {
     "slide_type": "slide"
    }
   },
   "source": [
    "---\n",
    "\n",
    "# Exam"
   ]
  },
  {
   "cell_type": "markdown",
   "metadata": {
    "slideshow": {
     "slide_type": "slide"
    }
   },
   "source": [
    "## Friday 13th January, 10:00 AM, 2h15"
   ]
  },
  {
   "cell_type": "markdown",
   "metadata": {
    "slideshow": {
     "slide_type": "slide"
    }
   },
   "source": [
    "- Part A, 45 minutes\n",
    "- Part B, **choose two questions** (out of three), 45 minutes each"
   ]
  },
  {
   "cell_type": "markdown",
   "metadata": {
    "slideshow": {
     "slide_type": "slide"
    }
   },
   "source": [
    "## Do the quizzes!!"
   ]
  },
  {
   "cell_type": "markdown",
   "metadata": {
    "slideshow": {
     "slide_type": "slide"
    }
   },
   "source": [
    "If you can do the quizzes, the exam is fine."
   ]
  },
  {
   "cell_type": "markdown",
   "metadata": {
    "slideshow": {
     "slide_type": "slide"
    }
   },
   "source": [
    "---\n",
    "\n",
    "# Coursework"
   ]
  },
  {
   "cell_type": "code",
   "execution_count": 1,
   "metadata": {
    "slideshow": {
     "slide_type": "skip"
    }
   },
   "outputs": [],
   "source": [
    "import numpy as np\n",
    "\n",
    "import matplotlib.pyplot as plt\n",
    "\n",
    "import tensorflow as tf"
   ]
  },
  {
   "cell_type": "markdown",
   "metadata": {
    "slideshow": {
     "slide_type": "slide"
    }
   },
   "source": [
    "## Options"
   ]
  },
  {
   "cell_type": "markdown",
   "metadata": {
    "slideshow": {
     "slide_type": "slide"
    }
   },
   "source": [
    "### 1. **DL workflow**"
   ]
  },
  {
   "cell_type": "markdown",
   "metadata": {
    "slideshow": {
     "slide_type": "slide"
    }
   },
   "source": [
    "Find the best model for a particular dataset using techniques from Topic 5 (vision) or Topic 6 (sequences)."
   ]
  },
  {
   "cell_type": "markdown",
   "metadata": {
    "jp-MarkdownHeadingCollapsed": true,
    "slideshow": {
     "slide_type": "slide"
    }
   },
   "source": [
    "### 2. **Generative**"
   ]
  },
  {
   "cell_type": "markdown",
   "metadata": {
    "jp-MarkdownHeadingCollapsed": true,
    "slideshow": {
     "slide_type": "slide"
    }
   },
   "source": [
    "A **creative project** based on the generative models of DLWP chapter 12 (using DLWP code as **a starting point** and creating **original work** on that basis, with additional credit for **changes** and **extensions** to the code, and an **exploration** of the capability of a generative technique, and/or **novel applications**).\n",
    "\n",
    "Even as you use DLWP or lecture code, please make sure to **start a new notebook** for your submission, instead of just modifying one of the lecture notebooks."
   ]
  },
  {
   "cell_type": "markdown",
   "metadata": {
    "slideshow": {
     "slide_type": "subslide"
    }
   },
   "source": [
    "## Credit"
   ]
  },
  {
   "cell_type": "markdown",
   "metadata": {
    "slideshow": {
     "slide_type": "subslide"
    }
   },
   "source": [
    "(up to 70 marks)\n",
    "\n",
    "- Report structure and quality as a document (avoid excessive repetition)\n",
    "- Adherence to the DL workflow: common sense baselines, identification and reduction of overfitting, retraining of final model with best hyperparameters\n",
    "- Setting up experiments, drawing conclusions, conducting a systematic hyperparameter investigation\n",
    "- Interpretation of results\n",
    "- Clean, modular code"
   ]
  },
  {
   "cell_type": "markdown",
   "metadata": {
    "slideshow": {
     "slide_type": "subslide"
    }
   },
   "source": [
    "## Extra credit"
   ]
  },
  {
   "cell_type": "markdown",
   "metadata": {
    "slideshow": {
     "slide_type": "subslide"
    }
   },
   "source": [
    "(up to 30 marks)\n",
    "\n",
    "- A dataset external to DLWP and tensorflow\n",
    "- Use/study of trained model (manual testing/examination of successful/failed cases)\n",
    "- Use/experimentation with techniques not seen in class"
   ]
  },
  {
   "cell_type": "markdown",
   "metadata": {
    "slideshow": {
     "slide_type": "subslide"
    }
   },
   "source": [
    "## Submission"
   ]
  },
  {
   "cell_type": "markdown",
   "metadata": {
    "slideshow": {
     "slide_type": "subslide"
    }
   },
   "source": [
    "- Reference any pretrained model and all datasets\n",
    "- Reference any code that is not original\n",
    "- Reference any other source e.g. books, kaggle\n",
    "\n",
    "Submit a single ZIP file containing your executed Jupyter notebook (optionally also an html export), as well as your produced outputs, and intermediary results.\n",
    "\n",
    "**If you use large datasets or pretrained models, please add external download links or describe the steps you took to obtain those, rather than include them in the submission**"
   ]
  },
  {
   "cell_type": "markdown",
   "metadata": {
    "slideshow": {
     "slide_type": "subslide"
    }
   },
   "source": [
    "#### Please look at the grading scheme!"
   ]
  },
  {
   "cell_type": "markdown",
   "metadata": {
    "slideshow": {
     "slide_type": "subslide"
    }
   },
   "source": [
    "---\n",
    "\n",
    "# Important Review"
   ]
  },
  {
   "cell_type": "markdown",
   "metadata": {
    "slideshow": {
     "slide_type": "subslide"
    }
   },
   "source": [
    "### Overfitting/Underfitting Example"
   ]
  },
  {
   "cell_type": "code",
   "execution_count": 26,
   "metadata": {
    "slideshow": {
     "slide_type": "skip"
    }
   },
   "outputs": [],
   "source": [
    "def mnist_example(n_hidden, n_layers):\n",
    "    # load\n",
    "    (train_images, train_labels), (test_images, test_labels) = tf.keras.datasets.mnist.load_data()\n",
    "\n",
    "    # preprocess\n",
    "    train_images = train_images.reshape((60000, 28 * 28))\n",
    "    train_images = train_images.astype('float32') / 255\n",
    "    test_images = test_images.reshape((10000, 28 * 28))\n",
    "    test_images = test_images.astype('float32') / 255\n",
    "\n",
    "    train_labels = tf.keras.utils.to_categorical(train_labels)\n",
    "    test_labels = tf.keras.utils.to_categorical(test_labels)\n",
    "\n",
    "    # split into partial train & val\n",
    "    # NOTE: you can also skip this step and use 'validation_split' in the fit() function\n",
    "    val_images = train_images[:10000]\n",
    "    val_labels = train_labels[:10000]\n",
    "    partial_train_images = train_images[10000:]\n",
    "    partial_train_labels = train_labels[10000:]\n",
    "\n",
    "    # build\n",
    "    network = tf.keras.models.Sequential()\n",
    "    for _ in range(n_layers):\n",
    "        network.add(tf.keras.layers.Dense(n_hidden, activation='relu', input_shape=(28 * 28, )))\n",
    "    network.add(tf.keras.layers.Dense(10, activation='softmax'))\n",
    "    network.compile(\n",
    "        optimizer='rmsprop',\n",
    "        loss='categorical_crossentropy', \n",
    "        metrics=['accuracy']\n",
    "    )\n",
    "\n",
    "    # train\n",
    "    history = network.fit(\n",
    "        partial_train_images,\n",
    "        partial_train_labels,\n",
    "        epochs=10,\n",
    "        batch_size=128,\n",
    "        validation_data=(val_images, val_labels),\n",
    "        # validation_split=0.2. # automatic validation split\n",
    "    )\n",
    "\n",
    "    # plot\n",
    "    fig, axs = plt.subplots(nrows=1,ncols=2, constrained_layout=True, figsize=(10,3))\n",
    "    axs[0].plot(range(len(history.history['loss'])), history.history['loss'], label=\"loss\")\n",
    "    axs[0].plot(range(len(history.history['val_loss'])), history.history['val_loss'], label=\"val loss\")\n",
    "    axs[0].legend()\n",
    "    axs[1].plot(range(len(history.history['accuracy'])), history.history['accuracy'], label=\"accuracy\")\n",
    "    axs[1].plot(range(len(history.history['val_accuracy'])), history.history['val_accuracy'], label=\"val accuracy\")\n",
    "    axs[1].legend()\n",
    "    plt.show()"
   ]
  },
  {
   "cell_type": "code",
   "execution_count": 27,
   "metadata": {
    "slideshow": {
     "slide_type": "subslide"
    }
   },
   "outputs": [
    {
     "name": "stdout",
     "output_type": "stream",
     "text": [
      "Epoch 1/10\n",
      "391/391 [==============================] - 13s 26ms/step - loss: 1.5371 - accuracy: 0.5205 - val_loss: 1.1427 - val_accuracy: 0.6537\n",
      "Epoch 2/10\n",
      "391/391 [==============================] - 8s 22ms/step - loss: 1.0169 - accuracy: 0.6942 - val_loss: 0.9078 - val_accuracy: 0.7374\n",
      "Epoch 3/10\n",
      "391/391 [==============================] - 9s 24ms/step - loss: 0.8544 - accuracy: 0.7537 - val_loss: 0.7897 - val_accuracy: 0.7810\n",
      "Epoch 4/10\n",
      "391/391 [==============================] - 10s 25ms/step - loss: 0.7404 - accuracy: 0.7920 - val_loss: 0.6901 - val_accuracy: 0.8067\n",
      "Epoch 5/10\n",
      "391/391 [==============================] - 10s 25ms/step - loss: 0.6636 - accuracy: 0.8073 - val_loss: 0.6325 - val_accuracy: 0.8173\n",
      "Epoch 6/10\n",
      "391/391 [==============================] - 9s 23ms/step - loss: 0.6199 - accuracy: 0.8167 - val_loss: 0.6008 - val_accuracy: 0.8260\n",
      "Epoch 7/10\n",
      "391/391 [==============================] - 10s 24ms/step - loss: 0.5926 - accuracy: 0.8263 - val_loss: 0.5810 - val_accuracy: 0.8297\n",
      "Epoch 8/10\n",
      "391/391 [==============================] - 9s 24ms/step - loss: 0.5741 - accuracy: 0.8302 - val_loss: 0.5639 - val_accuracy: 0.8343\n",
      "Epoch 9/10\n",
      "391/391 [==============================] - 9s 22ms/step - loss: 0.5605 - accuracy: 0.8354 - val_loss: 0.5569 - val_accuracy: 0.8379\n",
      "Epoch 10/10\n",
      "391/391 [==============================] - 9s 23ms/step - loss: 0.5496 - accuracy: 0.8382 - val_loss: 0.5494 - val_accuracy: 0.8398\n"
     ]
    },
    {
     "data": {
      "image/png": "[encoded data removed]",
      "text/plain": [
       "<Figure size 1000x300 with 2 Axes>"
      ]
     },
     "metadata": {},
     "output_type": "display_data"
    }
   ],
   "source": [
    "mnist_example(n_hidden=4, n_layers=1)"
   ]
  },
  {
   "cell_type": "markdown",
   "metadata": {
    "slideshow": {
     "slide_type": "fragment"
    }
   },
   "source": [
    "Note that we only reach .54 of validation loss, and .84 of validation accuracy: we are **underfitting**.  \n",
    "A model is underfitting on the training loss as long as that loss is above zero!  \n",
    "Once the training loss is zero it is said to **interpolate** the data: every data point is accounted for."
   ]
  },
  {
   "cell_type": "code",
   "execution_count": 28,
   "metadata": {
    "slideshow": {
     "slide_type": "subslide"
    }
   },
   "outputs": [
    {
     "name": "stdout",
     "output_type": "stream",
     "text": [
      "Epoch 1/10\n",
      "391/391 [==============================] - 22s 41ms/step - loss: 0.3350 - accuracy: 0.8973 - val_loss: 0.1843 - val_accuracy: 0.9518\n",
      "Epoch 2/10\n",
      "391/391 [==============================] - 13s 34ms/step - loss: 0.1270 - accuracy: 0.9654 - val_loss: 0.1148 - val_accuracy: 0.9686\n",
      "Epoch 3/10\n",
      "391/391 [==============================] - 13s 34ms/step - loss: 0.0891 - accuracy: 0.9764 - val_loss: 0.1414 - val_accuracy: 0.9662\n",
      "Epoch 4/10\n",
      "391/391 [==============================] - 14s 36ms/step - loss: 0.0719 - accuracy: 0.9817 - val_loss: 0.1098 - val_accuracy: 0.9777\n",
      "Epoch 5/10\n",
      "391/391 [==============================] - 13s 33ms/step - loss: 0.0616 - accuracy: 0.9844 - val_loss: 0.1126 - val_accuracy: 0.9773\n",
      "Epoch 6/10\n",
      "391/391 [==============================] - 13s 32ms/step - loss: 0.0560 - accuracy: 0.9867 - val_loss: 0.1072 - val_accuracy: 0.9778\n",
      "Epoch 7/10\n",
      "391/391 [==============================] - 13s 32ms/step - loss: 0.0501 - accuracy: 0.9876 - val_loss: 0.2069 - val_accuracy: 0.9718\n",
      "Epoch 8/10\n",
      "391/391 [==============================] - 12s 32ms/step - loss: 0.0471 - accuracy: 0.9898 - val_loss: 0.1481 - val_accuracy: 0.9757\n",
      "Epoch 9/10\n",
      "391/391 [==============================] - 13s 33ms/step - loss: 0.0420 - accuracy: 0.9911 - val_loss: 0.1426 - val_accuracy: 0.9785\n",
      "Epoch 10/10\n",
      "391/391 [==============================] - 13s 34ms/step - loss: 0.0419 - accuracy: 0.9916 - val_loss: 0.1509 - val_accuracy: 0.9802\n"
     ]
    },
    {
     "data": {
      "image/png": "[encoded data removed]",
      "text/plain": [
       "<Figure size 1000x300 with 2 Axes>"
      ]
     },
     "metadata": {},
     "output_type": "display_data"
    }
   ],
   "source": [
    "mnist_example(n_hidden=512, n_layers=5)"
   ]
  },
  {
   "cell_type": "markdown",
   "metadata": {
    "slideshow": {
     "slide_type": "fragment"
    }
   },
   "source": [
    "Here we are **overfitting** rather quickly, with our validation loss starting to diverge after one epoch, and our validation accuracy starting to stagnate roughly around the same time!"
   ]
  },
  {
   "cell_type": "markdown",
   "metadata": {
    "slideshow": {
     "slide_type": "subslide"
    }
   },
   "source": [
    "### Baseline"
   ]
  },
  {
   "cell_type": "markdown",
   "metadata": {
    "slideshow": {
     "slide_type": "subslide"
    }
   },
   "source": [
    "A common mistake : the baseline is calculated on the basis of the **data**, not just of the **classes**.\n",
    "\n",
    "If you take the example of the IMDB dataset for sentiment. A random-guess baseline can be used (with an accuracy of roughly 50%), because **there are as many positive as negative reviews in the dataset**.\n",
    "\n",
    "Not (only) because there are two classes.\n",
    "\n",
    "If we had an imbalanced dataset with 80% of one class and 20% of another, the commonsense baseline to use is to **predict the most likely class** (the **mode** of our distribution), which in this case gives you an 80% accuracy on average.\n",
    "\n",
    "*If you know a coin is biased towards heads rather than tail, you know that betting on heads all the time will make you win!*"
   ]
  },
  {
   "cell_type": "markdown",
   "metadata": {
    "slideshow": {
     "slide_type": "subslide"
    }
   },
   "source": [
    "### Baseline breakdown"
   ]
  },
  {
   "cell_type": "markdown",
   "metadata": {
    "slideshow": {
     "slide_type": "subslide"
    }
   },
   "source": [
    "1. Classification or Regression? \n",
    "    1. *Classification*: is the dataset balanced (as many **samples** of each class)?  \n",
    "       1. **Yes**, as many samples of each class: *random guess* is your best bet, giving you an expected accuracy of :  \n",
    "       $\\frac{1}{classes}$ (1/2 for two classes, 1/10 for ten classes)  \n",
    "       2. **No**, one class has more sample than the rest: predicting *this class* will give you better results than a random guess, do that.  \n",
    "       Your expected accuracy is $p(\\text{most represented class})$ (with a dataset of 10 classes, if your most represented class is 14% of it, that's your baseline!).  \n",
    "    2. *Regression*: what are you predicting?  \n",
    "        1. A separate feature (for instance: prices), try computing the **mean** of your data, and see what **MAE** you are getting when using only the mean as your model's prediction;  \n",
    "        2. Something else (e.g. the weather temperature, which is also part of your input data), then it's a custom estimation (like \"the temperature is the same in 24h as it is now\")."
   ]
  },
  {
   "cell_type": "markdown",
   "metadata": {
    "slideshow": {
     "slide_type": "subslide"
    }
   },
   "source": [
    "### Regularisation"
   ]
  },
  {
   "cell_type": "markdown",
   "metadata": {
    "slideshow": {
     "slide_type": "subslide"
    }
   },
   "source": [
    "In practice, it means `Dropout` or `l1/l2` kernel regularisers!\n",
    "\n",
    "*If you do not overfit for whatever reason (e.g. enough data) either __use some regularisation anyway__ or __write a section on the absence of regularisation and why you think you didn't overfit__ (e.g. enough data acts as a natural regulariser!).*"
   ]
  },
  {
   "cell_type": "markdown",
   "metadata": {
    "slideshow": {
     "slide_type": "subslide"
    }
   },
   "source": [
    "### Optimal epoch workflow"
   ]
  },
  {
   "cell_type": "markdown",
   "metadata": {
    "slideshow": {
     "slide_type": "subslide"
    }
   },
   "source": [
    "1. Train using `partial_training` and `validation`;\n",
    "2. Find the best validation value and epoch;\n",
    "3. Retrain a new network with the same hyperparmeters:\n",
    "    - **until the best-performing epoch**;\n",
    "    - **on the whole training set (no validation)**;\n",
    "4. Test on the test set (using `model.evaluate(x_test, y_test)`)."
   ]
  },
  {
   "cell_type": "markdown",
   "metadata": {
    "slideshow": {
     "slide_type": "subslide"
    }
   },
   "source": [
    "```python\n",
    "    # EXPERIMENTS\n",
    "    history = network.fit(\n",
    "        partial_train_images,\n",
    "        partial_train_labels,\n",
    "        epochs=10,\n",
    "        batch_size=128,\n",
    "        validation_data=(val_images, val_labels),\n",
    "        # validation_split=0.2. # automatic validation split\n",
    "    )\n",
    "```"
   ]
  },
  {
   "cell_type": "markdown",
   "metadata": {
    "slideshow": {
     "slide_type": "subslide"
    }
   },
   "source": [
    "```python\n",
    "    # FINAL MODEL\n",
    "    # programmatically select the best epoch\n",
    "    best_epoch = np.argmax(history[\"val_acc\"])\n",
    "    print(f\"The best epoch for validation is {best_epoch}\")\n",
    "    history = network.fit(\n",
    "        train_images,\n",
    "        train_labels,\n",
    "        epochs=best_epoch, # TRAIN UNTIL BEST EPOCH\n",
    "        batch_size=128,    # NO VALIDATION ANY MORE\n",
    "    )\n",
    "```\n",
    "```python\n",
    "    results = model.evaluate(x_test, y_test) # EVALUATE ON THE TEST SET\n",
    "```"
   ]
  },
  {
   "cell_type": "markdown",
   "metadata": {
    "slideshow": {
     "slide_type": "subslide"
    }
   },
   "source": [
    "### Systematic hyperparameter optimisation"
   ]
  },
  {
   "cell_type": "markdown",
   "metadata": {
    "slideshow": {
     "slide_type": "subslide"
    }
   },
   "source": [
    "The original intent is to give those marks when at least **two hyperparameters** have been tuned.\n",
    "\n",
    "Note the **systematic**: you need to show that you are *searching* for better performance, using a plan or strategy, and changing the hyperparameters accordingly."
   ]
  },
  {
   "cell_type": "markdown",
   "metadata": {
    "slideshow": {
     "slide_type": "subslide"
    }
   },
   "source": [
    "### Advanced DL & best practices: examples from topic 7"
   ]
  },
  {
   "cell_type": "markdown",
   "metadata": {
    "slideshow": {
     "slide_type": "subslide"
    }
   },
   "source": [
    "- architectures patterns like residual connections, batch norm or layer norm, more than one input/output with functional syntax;\n",
    "- learning rate schedules;\n",
    "- TPU training;\n",
    "- ensembling (train more than one model, pool their predictions);"
   ]
  },
  {
   "cell_type": "markdown",
   "metadata": {
    "slideshow": {
     "slide_type": "subslide"
    }
   },
   "source": [
    "### Option 2 Generative DL"
   ]
  },
  {
   "cell_type": "markdown",
   "metadata": {
    "slideshow": {
     "slide_type": "subslide"
    }
   },
   "source": [
    "The idea is to explore one of the generative DL techniques we have seen in the last two weeks.\n",
    "\n",
    "Start with the lecture notebooks, and build on top of that.\n",
    "\n",
    "The only thing I require is that **you do not just hand in a modified lecture notebook**.\n",
    "\n",
    "**Start from scratch, in a blank notebook, and import the code you need manually.**\n",
    "\n",
    "Please do include attempts, even if failed ones, we want to see your process!"
   ]
  },
  {
   "cell_type": "markdown",
   "metadata": {
    "colab_type": "text",
    "slideshow": {
     "slide_type": "slide"
    }
   },
   "source": [
    "---\n",
    "\n",
    "# 14 Conclusions"
   ]
  },
  {
   "cell_type": "markdown",
   "metadata": {
    "colab_type": "text",
    "slideshow": {
     "slide_type": "slide"
    }
   },
   "source": [
    "## 14.1 Key concepts in review"
   ]
  },
  {
   "cell_type": "markdown",
   "metadata": {
    "colab_type": "text",
    "slideshow": {
     "slide_type": "subslide"
    }
   },
   "source": [
    "### 14.1.1 Various approaches to AI"
   ]
  },
  {
   "cell_type": "markdown",
   "metadata": {
    "colab_type": "text",
    "slideshow": {
     "slide_type": "subslide"
    }
   },
   "source": [
    "<!-- <img  style=\"width: auto; height: 600px;\" src=\"images/MIT_DeepLearning_L1.pdf.png\"> -->\n",
    "<img  style=\"width: auto; height: 600px;\" src=\"https://github.com/jchwenger/AI/blob/main/9-conclusions/images/MIT_DeepLearning_L1.pdf.png?raw=true\">\n",
    "\n",
    "<small>[MIT 6.S191 Introduction to Deep Learning](http://introtodeeplearning.com)</small>"
   ]
  },
  {
   "cell_type": "markdown",
   "metadata": {
    "colab_type": "text",
    "slideshow": {
     "slide_type": "subslide"
    }
   },
   "source": [
    "### 14.1.2 What makes deep learning special within the field of machine learning"
   ]
  },
  {
   "cell_type": "markdown",
   "metadata": {
    "slideshow": {
     "slide_type": "subslide"
    }
   },
   "source": [
    "DL, in only a few years, has achieved a range of tasks that were previously considered to be very difficult for computers:\n",
    "- machine perception;\n",
    "- information extraction from images, videos and sound;\n",
    "- speech recognition;\n",
    "- smart assistants;\n",
    "- machine translation;\n",
    "- much, much more..."
   ]
  },
  {
   "cell_type": "markdown",
   "metadata": {
    "slideshow": {
     "slide_type": "subslide"
    }
   },
   "source": [
    "Some practitioners (e.g. F. Chollet) claim that given enough human-annotated training data, DL models can be equivalent to humans in these kind of tasks.\n",
    "\n",
    "Some claim that 'perception has been solved'.\n",
    "\n",
    "We are in the middle of a period of intense interest and hype – an AI *summer*.\n",
    "\n",
    "Deep Learning stands to transform many industries and businesses *even if no further progress is made*."
   ]
  },
  {
   "cell_type": "markdown",
   "metadata": {
    "colab_type": "text",
    "slideshow": {
     "slide_type": "slide"
    }
   },
   "source": [
    "### 14.1.3 How to think about deep learning"
   ]
  },
  {
   "cell_type": "markdown",
   "metadata": {
    "colab_type": "text",
    "jp-MarkdownHeadingCollapsed": true,
    "slideshow": {
     "slide_type": "slide"
    }
   },
   "source": [
    "#### The Model"
   ]
  },
  {
   "cell_type": "markdown",
   "metadata": {
    "colab_type": "text",
    "slideshow": {
     "slide_type": "slide"
    }
   },
   "source": [
    "Deep Learning models apply a series of **simple geometric transformations** to vectorised data.\n",
    "\n",
    "A chain of simple transformations creats a **complex transformation from an input to a target space**.\n",
    "\n",
    "The transformations must be **differentiable**."
   ]
  },
  {
   "cell_type": "markdown",
   "metadata": {
    "jp-MarkdownHeadingCollapsed": true,
    "slideshow": {
     "slide_type": "subslide"
    }
   },
   "source": [
    "#### Training"
   ]
  },
  {
   "cell_type": "markdown",
   "metadata": {
    "slideshow": {
     "slide_type": "subslide"
    }
   },
   "source": [
    "The layer parameters determining transformations change during training in order to **lower a loss function**.\n",
    "\n",
    "This loss must also be **differentiable**.\n",
    "\n",
    "Premise: meaning can be derived by smooth mappings between vector spaces.\n",
    "\n",
    "But meaning can be represented in other ways, for example by **graphs**."
   ]
  },
  {
   "cell_type": "markdown",
   "metadata": {
    "slideshow": {
     "slide_type": "subslide"
    }
   },
   "source": [
    "The representation of meaning by graphs was the original stimulus for *connectionism* and was realised in artificial neural networks.\n",
    "\n",
    "However ANN's bear little resemblance to the brain.\n",
    "\n",
    "DL experts talk about *layered representations*, *hierarchical representation learning* and *deep differentiable models of chained geometric transforms*.\n",
    "\n",
    "Despite this jargonised, abstract viewpoint (Chollet's), deep learning concepts and implementations derive from (artificial) neural networks."
   ]
  },
  {
   "cell_type": "markdown",
   "metadata": {
    "slideshow": {
     "slide_type": "subslide"
    }
   },
   "source": [
    "It is always good to have **several, ideally complementary ways** of thinking about the same thing:  \n",
    "\n",
    "*Artificial neurons sending signals along connecting wires...*\n",
    "\n",
    "<!-- <img  style=\"height: 500px;\" src=\"images/stanford.neuron.brain.png\"> -->\n",
    "<img  style=\"height: 500px;\" src=\"https://github.com/jchwenger/AI/blob/main/9-conclusions/images/stanford.neuron.brain.png?raw=true\">\n",
    "\n",
    "<small>Source: [CS231n: Convolutional Neural Networks for Visual Recognition](http://cs231n.stanford.edu/2017/syllabus.html), lecture 4</small>"
   ]
  },
  {
   "cell_type": "markdown",
   "metadata": {
    "colab_type": "text",
    "slideshow": {
     "slide_type": "slide"
    }
   },
   "source": [
    "### 14.1.4 Key enabling technologies"
   ]
  },
  {
   "cell_type": "markdown",
   "metadata": {
    "colab_type": "text",
    "slideshow": {
     "slide_type": "slide"
    }
   },
   "source": [
    "- **Algorithms**: incremental innovations, especially since 2012;\n",
    "- **Big data**: large amounts of data;\n",
    "- **GPU/TPU**: fast parallel GPU computation: the NVIDIA gaming GPU was particularly important;\n",
    "- Open source/public **libraries/APIs**: CUDA, TensorFlow, PyTorch, Numpy, JAX..."
   ]
  },
  {
   "cell_type": "markdown",
   "metadata": {
    "colab_type": "text",
    "slideshow": {
     "slide_type": "slide"
    }
   },
   "source": [
    "### 14.1.5 The universal machine-learning workflow"
   ]
  },
  {
   "cell_type": "markdown",
   "metadata": {
    "colab_type": "text",
    "slideshow": {
     "slide_type": "slide"
    }
   },
   "source": [
    "-  Define the problem: \n",
    "    - what **data** is available, \n",
    "    - what are you trying to **predict**?\n",
    "-  Identify a **measure of success**, e.g. the prediction accuracy;\n",
    "-  Define an **evaluation procedure**: training/validation sets + a test set."
   ]
  },
  {
   "cell_type": "markdown",
   "metadata": {
    "slideshow": {
     "slide_type": "subslide"
    }
   },
   "source": [
    "-  **Vectorise** and if necessary **normalise** data;\n",
    "-  Develop a baseline model that beats a **common sense baseline**;\n",
    "-  Tune **hyperparameters** according to **validation** performance;\n",
    "-  First **overfit** then **regularise/downsize**."
   ]
  },
  {
   "cell_type": "markdown",
   "metadata": {
    "colab_type": "text",
    "slideshow": {
     "slide_type": "slide"
    }
   },
   "source": [
    "---\n",
    "\n",
    "## 14.1.6 Key network architectures"
   ]
  },
  {
   "cell_type": "markdown",
   "metadata": {
    "slideshow": {
     "slide_type": "subslide"
    }
   },
   "source": [
    "### Four families"
   ]
  },
  {
   "cell_type": "markdown",
   "metadata": {
    "slideshow": {
     "slide_type": "subslide"
    }
   },
   "source": [
    "- Dense;\n",
    "- Convolutional;\n",
    "- Recurrent;\n",
    "- Attention-based (transformers).\n",
    "\n",
    "Each type matches a particular task and encodes assumptions about the structure of the data i.e. a hypothesis space.\n",
    "\n",
    "The network types can obviously be combined: for instance, dense layers are found everywhere, but almost never on their own!"
   ]
  },
  {
   "cell_type": "markdown",
   "metadata": {
    "slideshow": {
     "slide_type": "skip"
    }
   },
   "source": [
    "### Note "
   ]
  },
  {
   "cell_type": "markdown",
   "metadata": {
    "slideshow": {
     "slide_type": "skip"
    }
   },
   "source": [
    "This is evolving **fast**. [Diffusion models](https://keras.io/examples/generative/ddim/) are at the peak of hype, you can bet that DLWP 3rd edition will include them."
   ]
  },
  {
   "cell_type": "markdown",
   "metadata": {
    "slideshow": {
     "slide_type": "subslide"
    }
   },
   "source": [
    "| Data | Architecture |\n",
    "| --- | --- |\n",
    "| **General** | fully connected (dense) layers<sup>1</sup> |\n",
    "| **Image** | 2D convnets, Transformers | \n",
    "| **Text** | RNNs, Transformers, also 1D convnets |\n",
    "| **Time series** | RNNs, Transformers or 1D convnets |\n",
    "| **Other types of sequence** | RNNs or convnets<sup>2</sup> |\n",
    "| **Video** | 3D convnets<sup>3</sup> |\n",
    "| **Volumetric** | 3D convnets |\n",
    "\n",
    "<small>1: These days mostly encountered *within* other networks, rather than on their own.<br>\n",
    "2: \"1D convnets can also be used for translation-invariant, continuous sequence data, such as birdsong waveforms.\", DLWP, p.436.<br>\n",
    "3: Also possible: 2D convnets for frame level feature extraction followed by an RNN, Transformer or convnet to process the resulting sequence.</small>\n"
   ]
  },
  {
   "cell_type": "markdown",
   "metadata": {
    "slideshow": {
     "slide_type": "slide"
    }
   },
   "source": [
    "---\n",
    "\n",
    "### Densely connected networks"
   ]
  },
  {
   "cell_type": "markdown",
   "metadata": {
    "slideshow": {
     "slide_type": "slide"
    }
   },
   "source": [
    "A stack of dense layers.\n",
    "\n",
    "No specific structure in the data is assumed. (2D convolutional layers assume *local* structure.)\n",
    "\n",
    "Used for categorical data (e.g. attributes such as in the Boston Housing dataset).\n",
    "\n",
    "Also used as the final classification or regression stage of most other networks."
   ]
  },
  {
   "cell_type": "markdown",
   "metadata": {
    "slideshow": {
     "slide_type": "subslide"
    }
   },
   "source": [
    "#### Binary classification"
   ]
  },
  {
   "cell_type": "markdown",
   "metadata": {
    "slideshow": {
     "slide_type": "subslide"
    }
   },
   "source": [
    "- The final layer is a single sigmoid unit;\n",
    "- The model is trained with the binary cross-entropy loss function.\n",
    "\n",
    "```python\n",
    "num_input_features = 16\n",
    "inputs = tf.keras.Input(shape=(num_input_features,))\n",
    "x = tf.keras.layers.Dense(32, activation=\"relu\")(inputs)\n",
    "x = tf.keras.layers.Dense(32, activation=\"relu\")(x)\n",
    "outputs = tf.keras.layers.Dense(1, activation=\"sigmoid\")(x)\n",
    "model = tf.keras.Model(inputs, outputs)\n",
    "model.compile(optimizer=\"rmsprop\", loss=\"binary_crossentropy\")\n",
    "```"
   ]
  },
  {
   "cell_type": "markdown",
   "metadata": {
    "slideshow": {
     "slide_type": "subslide"
    }
   },
   "source": [
    "#### Single label multi-class classification"
   ]
  },
  {
   "cell_type": "markdown",
   "metadata": {
    "slideshow": {
     "slide_type": "subslide"
    }
   },
   "source": [
    "- Number of final dense layer units = number of classes;\n",
    "- Softmax activation;\n",
    "- Categorical cross-entropy loss.\n",
    "\n",
    "```python\n",
    "num_classes = 10\n",
    "inputs = tf.keras.Input(shape=(num_input_features,))\n",
    "x = tf.keras.layers.Dense(32, activation=\"relu\")(inputs)\n",
    "x = tf.keras.layers.Dense(32, activation=\"relu\")(x)\n",
    "outputs = tf.keras.layers.Dense(num_classes, activation=\"softmax\")(x)\n",
    "model = tf.keras.Model(inputs, outputs)\n",
    "model.compile(optimizer=\"rmsprop\", loss=\"categorical_crossentropy\")\n",
    "```"
   ]
  },
  {
   "cell_type": "markdown",
   "metadata": {
    "slideshow": {
     "slide_type": "subslide"
    }
   },
   "source": [
    "#### Multi-label multi-class classification\n",
    "\n",
    "- Final layer of sigmoid units;\n",
    "- Binary cross-entropy;\n",
    "- `num_classes` copies of binary classification.\n",
    "\n",
    "```python\n",
    "inputs = tf.keras.Input(shape=(num_input_features,))\n",
    "x = tf.keras.layers.Dense(32, activation=\"relu\")(inputs)\n",
    "x = tf.keras.layers.Dense(32, activation=\"relu\")(x)\n",
    "outputs = tf.keras.layers.Dense(num_classes, activation=\"sigmoid\")(x)\n",
    "model = tf.keras.Model(inputs, outputs)\n",
    "model.compile(optimizer=\"rmsprop\", loss=\"binary_crossentropy\")\n",
    "```\n"
   ]
  },
  {
   "cell_type": "markdown",
   "metadata": {
    "slideshow": {
     "slide_type": "subslide"
    }
   },
   "source": [
    "#### Regression"
   ]
  },
  {
   "cell_type": "markdown",
   "metadata": {
    "slideshow": {
     "slide_type": "subslide"
    }
   },
   "source": [
    "- Number of final units = number of values;\n",
    "- Final units have no activation (any continuous value is possible);\n",
    "- Loss is commonly MSE, but could be MAE (used as a metric in the book).\n",
    "\n",
    "```python\n",
    "num_values = 1\n",
    "inputs = tf.keras.Input(shape=(num_input_features,))\n",
    "x = tf.keras.layers.Dense(32, activation=\"relu\")(inputs)\n",
    "x = tf.keras.layers.Dense(32, activation=\"relu\")(x)\n",
    "outputs = tf.keras.layers.Dense(num_values)(x)\n",
    "model = tf.keras.Model(inputs, outputs)\n",
    "model.compile(optimizer=\"rmsprop\", loss=\"mse\")\n",
    "```"
   ]
  },
  {
   "cell_type": "markdown",
   "metadata": {
    "slideshow": {
     "slide_type": "slide"
    }
   },
   "source": [
    "---\n",
    "\n",
    "### Convolutional Networks"
   ]
  },
  {
   "cell_type": "markdown",
   "metadata": {
    "slideshow": {
     "slide_type": "slide"
    }
   },
   "source": [
    "The same geometric transformation is applied to different spatial locations (local receptive fields/patches).\n",
    "\n",
    "Resulting representations are **translation invariant** (can occur anywhere).\n",
    "\n",
    "Applicable to **any image size** without change to the architecture.\n",
    "\n",
    "Can be used for sequence processing if the sequence is translation invariant (not time series, but possibly text)."
   ]
  },
  {
   "cell_type": "markdown",
   "metadata": {
    "slideshow": {
     "slide_type": "subslide"
    }
   },
   "source": [
    "#### Architecture"
   ]
  },
  {
   "cell_type": "markdown",
   "metadata": {
    "slideshow": {
     "slide_type": "subslide"
    }
   },
   "source": [
    "- Stacks of **convolutional and pooling layers**;\n",
    "- Pooling layers **downsize/downsample** the data and **increase the spatial extent** of the filter;\n",
    "- End the stack with a **flattening or a global pooling layer** in order to turn the feature maps into vectors;\n",
    "- Then add a **dense classifier**.\n",
    "\n",
    "Models like **Xception** with separable depthwise convolutions (separate spatial convolutions on each channel) are smaller, quicker to train and perform well."
   ]
  },
  {
   "cell_type": "markdown",
   "metadata": {
    "colab_type": "code",
    "slideshow": {
     "slide_type": "subslide"
    }
   },
   "source": [
    "```python\n",
    "height, width, channels = 200, 200, 3\n",
    "inputs = tf.keras.Input(shape=(height, width, channels))\n",
    "```\n",
    "```python\n",
    "x = tf.keras.layers.SeparableConv2D(32, 3, activation=\"relu\")(inputs)\n",
    "x = tf.keras.layers.SeparableConv2D(64, 3, activation=\"relu\")(x)\n",
    "x = tf.keras.layers.MaxPooling2D(2)(x)\n",
    "x = tf.keras.layers.SeparableConv2D(64, 3, activation=\"relu\")(x)\n",
    "x = tf.keras.layers.SeparableConv2D(128, 3, activation=\"relu\")(x)\n",
    "x = tf.keras.layers.MaxPooling2D(2)(x)\n",
    "x = tf.keras.layers.SeparableConv2D(64, 3, activation=\"relu\")(x)\n",
    "x = tf.keras.layers.SeparableConv2D(128, 3, activation=\"relu\")(x)\n",
    "x = tf.keras.layers.GlobalAveragePooling2D()(x)\n",
    "```\n",
    "```python\n",
    "x = tf.keras.layers.Dense(32, activation=\"relu\")(x)\n",
    "outputs = tf.keras.layers.Dense(num_classes, activation=\"softmax\")(x)\n",
    "model = tf.keras.Model(inputs, outputs)\n",
    "model.compile(optimizer=\"rmsprop\", loss=\"categorical_crossentropy\")\n",
    "```\n"
   ]
  },
  {
   "cell_type": "markdown",
   "metadata": {
    "slideshow": {
     "slide_type": "slide"
    }
   },
   "source": [
    "---\n",
    "\n",
    "### Recurrent Networks (RNNs)"
   ]
  },
  {
   "cell_type": "markdown",
   "metadata": {
    "slideshow": {
     "slide_type": "slide"
    }
   },
   "source": [
    "Process sequences one step at a time.\n",
    "\n",
    "They maintain a **state** or **memory** – the previous output.\n",
    "\n",
    "Used for sequences without translation invariance.\n",
    "\n",
    "E.g. for time series where the recent past is more informative than the distant past."
   ]
  },
  {
   "cell_type": "markdown",
   "metadata": {
    "slideshow": {
     "slide_type": "subslide"
    }
   },
   "source": [
    "`tensorflow.keras` has three RNN layers: `SimpleRNN`, `GRU` and `LSTM`:\n",
    "\n",
    "- `SimpleRNN` is not really used;\n",
    "- `LSTM` is more powerful than the `GRU`, but is computationally more exensive.\n",
    "\n",
    "```python\n",
    "num_timesteps, num_features = 64, 128\n",
    "inputs = tf.keras.Input(shape=(num_timesteps, num_features))\n",
    "x = tf.keras.layers.LSTM(32)(inputs)\n",
    "outputs = tf.keras.layers.Dense(num_classes, activation=\"sigmoid\")(x)\n",
    "model = tf.keras.Model(inputs, outputs)\n",
    "model.compile(optimizer=\"rmsprop\", loss=\"binary_crossentropy\")\n",
    "```"
   ]
  },
  {
   "cell_type": "markdown",
   "metadata": {
    "slideshow": {
     "slide_type": "subslide"
    }
   },
   "source": [
    "When stacking layers, inner layers should return **the full sequence of outputs**.\n",
    "\n",
    "The final RNN layer returns only the last output which contains information about the whole sequence.\n",
    "\n",
    "```python\n",
    "num_timesteps, num_features = 64, 128\n",
    "inputs = tf.keras.Input(shape=(num_timesteps, num_features))\n",
    "x = tf.keras.layers.LSTM(32, return_sequences=True)(inputs)\n",
    "x = tf.keras.layers.LSTM(32, return_sequences=True)(x)\n",
    "x = tf.keras.layers.LSTM(32)(x)\n",
    "outputs = tf.keras.layers.Dense(num_classes, activation=\"sigmoid\")(x)\n",
    "model = tf.keras.Model(inputs, outputs)\n",
    "model.compile(optimizer=\"rmsprop\", loss=\"binary_crossentropy\")\n",
    "```"
   ]
  },
  {
   "cell_type": "markdown",
   "metadata": {
    "colab_type": "text",
    "slideshow": {
     "slide_type": "slide"
    }
   },
   "source": [
    "---\n",
    "\n",
    "### Transformers"
   ]
  },
  {
   "cell_type": "markdown",
   "metadata": {
    "colab_type": "text",
    "slideshow": {
     "slide_type": "slide"
    }
   },
   "source": [
    "- They use **neural attention** ($softmax(Query \\cdot Keys) \\cdot Values$) to enrich input vectors with **contextual information**;\n",
    "- Multiple heads allow the network to look up different types of information in the whole input;\n",
    "- The attention mechanism ignores word order, so we use `PositionalEmbedding`;\n",
    "- Complexity of $O(length^2 \\times dim)$: faster than RNNs and ConvNets for shorter sentences!\n",
    "- Use a **causal mask** in the decoder to enforce causality and prevent lookaheads into the future;"
   ]
  },
  {
   "cell_type": "markdown",
   "metadata": {
    "colab_type": "code",
    "slideshow": {
     "slide_type": "subslide"
    }
   },
   "source": [
    "#### Encoder only (BERT)"
   ]
  },
  {
   "cell_type": "markdown",
   "metadata": {
    "colab_type": "code",
    "slideshow": {
     "slide_type": "subslide"
    }
   },
   "source": [
    "```python\n",
    "inputs = tf.keras.Input(shape=(sequence_length,), dtype=\"int64\")\n",
    "x = PositionalEmbedding(sequence_length, vocab_size, embed_dim)(inputs)\n",
    "  # ↓ Encoder\n",
    "x = TransformerEncoder(embed_dim, dense_dim, num_heads)(x)\n",
    "x = tf.keras.layers.GlobalMaxPooling1D()(x)\n",
    "outputs = tf.keras.layers.Dense(1, activation=\"sigmoid\")(x)\n",
    "model = tf.keras.Model(inputs, outputs)\n",
    "model.compile(optimizer=\"rmsprop\", loss=\"binary_crossentropy\")\n",
    "```"
   ]
  },
  {
   "cell_type": "markdown",
   "metadata": {
    "colab_type": "code",
    "slideshow": {
     "slide_type": "subslide"
    }
   },
   "source": [
    "#### Decoder only (GPT)\n",
    "\n",
    "```python\n",
    "inputs = tf.keras.Input(shape=(None,), dtype=\"int64\")\n",
    "x = PositionalEmbedding(sequence_length,vocab_size, embed_dim)(inputs)\n",
    "  # ↓ Decoder\n",
    "x = TransformerDecoder(embed_dim, latent_dim, num_heads)(\n",
    "    inputs=x, encoder_outputs=x\n",
    ") # x as both decoder & encoder!\n",
    "outputs =tf.keras.layers.Dense(vocab_size, activation=\"softmax\")(x)\n",
    "                             # probability distribution over the vocab\n",
    "model = tf.keras.Model(inputs, outputs)\n",
    "model.compile(optimizer=\"rmsprop\", loss=\"sparse_categorical_crossentropy\")    \n",
    "```"
   ]
  },
  {
   "cell_type": "markdown",
   "metadata": {
    "colab_type": "code",
    "slideshow": {
     "slide_type": "subslide"
    }
   },
   "source": [
    "#### Full (Transformer)"
   ]
  },
  {
   "cell_type": "markdown",
   "metadata": {
    "colab_type": "code",
    "slideshow": {
     "slide_type": "subslide"
    }
   },
   "source": [
    "```python\n",
    "# ↓ Encoder\n",
    "encoder_inputs = tf.keras.Input(shape=(sequence_length,), dtype=\"int64\")\n",
    "x = PositionalEmbedding(sequence_length, vocab_size, embed_dim)(encoder_inputs)\n",
    "encoder_outputs = TransformerEncoder(embed_dim, dense_dim, num_heads)(x)\n",
    "```\n",
    "```python\n",
    "# ↓ Decoder\n",
    "decoder_inputs = tf.keras.Input(shape=(None,), dtype=\"int64\")\n",
    "x = PositionalEmbedding(sequence_length, vocab_size, embed_dim)(decoder_inputs)\n",
    "                                         # inputs from decoder & encoder ↓\n",
    "x = TransformerDecoder(embed_dim, dense_dim, num_heads)(x, encoder_outputs)\n",
    "decoder_outputs = tf.keras.layers.Dense(vocab_size, activation=\"softmax\")(x)\n",
    "```\n",
    "```python\n",
    "transformer = tf.keras.Model([encoder_inputs, decoder_inputs], decoder_outputs)\n",
    "transformer.compile(optimizer=\"rmsprop\", loss=\"categorical_crossentropy\")\n",
    "```"
   ]
  },
  {
   "cell_type": "markdown",
   "metadata": {
    "colab_type": "text",
    "slideshow": {
     "slide_type": "slide"
    }
   },
   "source": [
    "### 14.1.7 The space of possibilities"
   ]
  },
  {
   "cell_type": "markdown",
   "metadata": {
    "colab_type": "text",
    "slideshow": {
     "slide_type": "slide"
    }
   },
   "source": [
    "All of the following are learnable even if generalisation might be impossible."
   ]
  },
  {
   "cell_type": "markdown",
   "metadata": {
    "slideshow": {
     "slide_type": "subslide"
    }
   },
   "source": [
    "| Input           | Output           | Task                         | Example                                                                |\n",
    "| :---             | :---              | :---                          | :---                                                                    |\n",
    "| category        | category         | predictive healthcare        | medical records → prediction of treatment outcome                     |\n",
    "| category        | continuous value | behaviour                    | website attributes → time spent on website                            |\n",
    "| category        | continuous value | quality control              | product attributes → probability of failure                           |"
   ]
  },
  {
   "cell_type": "markdown",
   "metadata": {
    "slideshow": {
     "slide_type": "subslide"
    }
   },
   "source": [
    "| Input           | Output           | Task                         | Example                                                                |\n",
    "| :---             | :---              | :---                          | :---                                                                    |\n",
    "| image           | category         | doctor assistant             | medical slides → diagnosis                                            |\n",
    "| image           | category         | self-driving vehicle         | dash-cam → steering commands                                          |\n",
    "| image           | category         | board game                   | Go, chess images → next move                                          |\n",
    "| image           | category         | age prediction               | selfies → age                                                         |\n",
    "| image           | continuous value | diet helper                  | image of dish → calorie count                                         |\n",
    "| images          | text             | captioning                   | image → short caption                                                 |\n",
    "| images          | images           | super-resolution             | downsized inmages → hi res versions                                   |\n",
    "| images          | images           | visual depth sensing         | image of indoor environment → depth map                               |"
   ]
  },
  {
   "cell_type": "markdown",
   "metadata": {
    "slideshow": {
     "slide_type": "subslide"
    }
   },
   "source": [
    "| Input           | Output           | Task                         | Example                                                                |\n",
    "| :---             | :---              | :---                          | :---                                                                    |\n",
    "| time series     | category         | weather                      | weather data in a grid of locations → prediction at a single location |\n",
    "| time series     | category         | brain-computer interface     | EEG → computer commands                                               |"
   ]
  },
  {
   "cell_type": "markdown",
   "metadata": {
    "slideshow": {
     "slide_type": "subslide"
    }
   },
   "source": [
    "| Input           | Output           | Task                         | Example                                                                |\n",
    "| :---             | :---              | :---                          | :---                                                                    |\n",
    "| text            | text             | smart reply                  | emails → one-line replies                                              |\n",
    "| text            | text             | answering questions          | general knowledge questions → answers                                 |\n",
    "| text            | text             | summarising                  | long article → short summary                                          |\n",
    "| text            | images           | conditioned image generation | short text → matching image                                           |\n",
    "| text            | images           | logo generation/selection    | name and company description → logo                                   |"
   ]
  },
  {
   "cell_type": "markdown",
   "metadata": {
    "slideshow": {
     "slide_type": "subslide"
    }
   },
   "source": [
    "| Input           | Output           | Task                         | Example                                                                |\n",
    "| :---             | :---              | :---                          | :---                                                                    |\n",
    "| images and text | text             | visual QA                    | images and questions → answers                                        |\n",
    "| video and text  | text             | video QA                     | short videos and questions about the contents → answers               |"
   ]
  },
  {
   "cell_type": "markdown",
   "metadata": {
    "colab_type": "text",
    "slideshow": {
     "slide_type": "slide"
    }
   },
   "source": [
    "---\n",
    "\n",
    "## 14.2 The limitations of deep learning"
   ]
  },
  {
   "cell_type": "markdown",
   "metadata": {
    "colab_type": "text",
    "slideshow": {
     "slide_type": "slide"
    }
   },
   "source": [
    "The list of possibilities in 14.1 is impressive but DL has limitations.\n",
    "\n",
    "- Imagine database of text descriptions of a software product. DL could never generate the source code.\n",
    "- Even learning a simple learning algorithm is tremendously difficult.\n",
    "\n",
    "Reasoning – as in designing software or the scientific method – is, or so Chollet states in ~2020, out of reach. "
   ]
  },
  {
   "cell_type": "markdown",
   "metadata": {
    "colab_type": "text",
    "slideshow": {
     "slide_type": "slide"
    }
   },
   "source": [
    "X might be related to Y by a geometric transform, but the transform might be too complex; or, X and Y aren't connected by any such transform.\n",
    "\n",
    "Stacking more layers may only palliate these problems."
   ]
  },
  {
   "cell_type": "markdown",
   "metadata": {
    "slideshow": {
     "slide_type": "slide"
    }
   },
   "source": [
    "DL maps space X to space Y with **continuous geometric transformations** given large amounts of human-annotated data.\n",
    "\n",
    "DL models are like programs...\n",
    "\n",
    "...but **only a (small) subset of all possible programs!**\n",
    "\n",
    "So could *learnable programs* move AI towards reasoning and abstraction?"
   ]
  },
  {
   "cell_type": "markdown",
   "metadata": {
    "colab_type": "text",
    "slideshow": {
     "slide_type": "slide"
    }
   },
   "source": [
    "### 14.2.1 The risk of anthropomorphizing machine-learning models"
   ]
  },
  {
   "cell_type": "markdown",
   "metadata": {
    "colab_type": "text",
    "slideshow": {
     "slide_type": "slide"
    }
   },
   "source": [
    "We risk overestimating ML abilities. Ever more so today!\n",
    "\n",
    "For instance, ML vision models do not *understand* images, at least not in the same way as we do. \n",
    "\n",
    "Our understanding is grounded in **experience** – being able to move and sense the world. \n",
    "\n",
    "ML models have no access to these experiences (for now). They are trained on very narrow examples."
   ]
  },
  {
   "cell_type": "markdown",
   "metadata": {
    "colab_type": "text",
    "slideshow": {
     "slide_type": "slide"
    }
   },
   "source": [
    "---\n",
    "\n",
    "## 14.3 Setting the course toward greater generality in AI"
   ]
  },
  {
   "cell_type": "markdown",
   "metadata": {
    "colab_type": "text",
    "slideshow": {
     "slide_type": "subslide"
    }
   },
   "source": [
    "### 14.3.1 On the importance of setting the right objective: The shortcut rule"
   ]
  },
  {
   "cell_type": "markdown",
   "metadata": {
    "colab_type": "text",
    "slideshow": {
     "slide_type": "subslide"
    }
   },
   "source": [
    "\"If you focus on optimizing one success metric, you will achieve your goal, but at the expense of everything in the system that wasn’t covered by your success metric. You end up taking every available shortcut toward the goal. Your creations are shaped by the incentives you give yourself.\" DLWP, p.459\n",
    "\n",
    "As we have seen, models **will take the shortcut**, every time. (Are we *that* different?)\n",
    "\n",
    "In many ways, seeing a model acting like that teaches you something about **the structure of the incentive/objective itself**!"
   ]
  },
  {
   "cell_type": "markdown",
   "metadata": {
    "colab_type": "text",
    "slideshow": {
     "slide_type": "slide"
    }
   },
   "source": [
    "---\n",
    "\n",
    "## 14.5 The future of deep learning"
   ]
  },
  {
   "cell_type": "markdown",
   "metadata": {
    "colab_type": "text",
    "slideshow": {
     "slide_type": "slide"
    }
   },
   "source": [
    "- *Models closer to computer programs*: richer primitives than the current differentiable layers, leading to abstraction and reasoning;\n",
    "- *A fusion between deep learning and discrete search over program spaces*: combining intuition/perception and reasoning/planning;\n",
    "- These new models would require *new forms of learning*;\n",
    "- *Models that require less human involvement* i.e. more autonomy for tuning.\n",
    "- *Greater and systematic reuse of previously learnt features and architectures* such as meta-learning with reusable and modular program subroutines.\n",
    "\n",
    "These projections are appplicable to unsupervised, self-supervised and reinforcement learning."
   ]
  },
  {
   "cell_type": "markdown",
   "metadata": {
    "colab_type": "text",
    "slideshow": {
     "slide_type": "slide"
    }
   },
   "source": [
    "---\n",
    "\n",
    "## Staying up to date in a fast-moving field"
   ]
  },
  {
   "cell_type": "markdown",
   "metadata": {
    "colab_type": "text",
    "slideshow": {
     "slide_type": "slide"
    }
   },
   "source": [
    "- For practice and competition: [Kaggle](https://www.kaggle.com/);\n",
    "- Latest developments on [arXiv](https://arxiv.org/);\n",
    "- However, there's **so much** there that I would recommend following people on Twitter and YouTube instead;\n",
    "- Explore the ecosystem of libraries (TensorFlow, PyTorch, Jax...);\n",
    "\n",
    "#### **Work on your foundations**! The stronger your foundations, the easier it is to follow new developments."
   ]
  },
  {
   "cell_type": "markdown",
   "metadata": {
    "slideshow": {
     "slide_type": "subslide"
    }
   },
   "source": [
    "### Learn from the best!\n",
    "\n",
    "<a href=\"https://twitter.com/karpathy/status/1325154823856033793?lang=en\" target=\"_blank\">\n",
    "<!--     <img src=\"images/karpathy.expert.png\"> -->\n",
    "    <img src=\"https://github.com/jchwenger/AI/blob/main/9-conclusions/images/karpathy.expert.png?raw=true\">\n",
    "</a>"
   ]
  },
  {
   "cell_type": "markdown",
   "metadata": {
    "colab_type": "text",
    "slideshow": {
     "slide_type": "slide"
    }
   },
   "source": [
    "---\n",
    "\n",
    "## Final words"
   ]
  },
  {
   "cell_type": "markdown",
   "metadata": {
    "colab_type": "text",
    "slideshow": {
     "slide_type": "slide"
    }
   },
   "source": [
    "*\"The future offers very little hope for those who expect that our new mechanical slaves will offer us a world in which we may rest from thinking. Help us they may, but at the cost of supreme demands upon our honesty and our intelligence.\"* \n",
    "\n",
    "– Norbert Wiener, *God and Golem, Inc.: A Comment on Certain Points Where Cybernetics Impinges on Religion*, 1964"
   ]
  },
  {
   "cell_type": "markdown",
   "metadata": {
    "colab_type": "text",
    "slideshow": {
     "slide_type": "subslide"
    }
   },
   "source": [
    "#### Note"
   ]
  },
  {
   "cell_type": "markdown",
   "metadata": {
    "colab_type": "text",
    "slideshow": {
     "slide_type": "subslide"
    }
   },
   "source": [
    "Norbert Wiener coined the term *[cybernetics](https://www.etymonline.com/word/cybernetics)* from the Ancient Greek (or the French, itself from the Greek) term for *helmsman*/*pilot* in 1948.\n",
    "\n",
    "The Ancient Greek word gave us 'govern', 'governor', as the Romans had already imported the Greek word into Latin. Google just reimported it again to name its [open-source container orchestration system](https://kubernetes.io/).\n",
    "\n",
    "<img style=\"float:right; height:450px;\" src=\"images/Leagros-520BCr.jpg\">\n",
    "<!-- <img style=\"float:right; height:450px;\" src=\"https://github.com/jchwenger/AI/blob/main/9-conclusions/images/Leagros-520BCr.jpg?raw=true\"> -->\n",
    "\n",
    "<small style=\"position:absolute;bottom:0;right:0\">[\"Ancient Galleys\", Ancient Ports – Ports Antiques](https://www.ancientportsantiques.com/ancient-ships/ancient-galleys/)</small>"
   ]
  }
 ],
 "metadata": {
  "celltoolbar": "Slideshow",
  "colab": {
   "collapsed_sections": [],
   "name": "chapter14_conclusions.i",
   "private_outputs": false,
   "provenance": [],
   "toc_visible": true
  },
  "kernelspec": {
   "display_name": "Python 3 (ipykernel)",
   "language": "python",
   "name": "python3"
  },
  "language_info": {
   "codemirror_mode": {
    "name": "ipython",
    "version": 3
   },
   "file_extension": ".py",
   "mimetype": "text/x-python",
   "name": "python",
   "nbconvert_exporter": "python",
   "pygments_lexer": "ipython3",
   "version": "3.12.6"
  }
 },
 "nbformat": 4,
 "nbformat_minor": 4
}
