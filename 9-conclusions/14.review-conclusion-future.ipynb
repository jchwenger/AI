{
 "cells": [
  {
   "cell_type": "markdown",
   "metadata": {
    "slideshow": {
     "slide_type": "slide"
    }
   },
   "source": [
    "# Attendance\n",
    "\n",
    "[The link to SEAts](https://goldsmithscollege.sharepoint.com/sites/intranet-supporting-students/SitePages/SEAtS--QR-codes-for-check-in.aspx?utm_campaign=SEAtS%20reminder%2027.09.22&utm_source=emailCampaign&utm_content=&utm_medium=email)\n",
    "\n",
    "[Evaluations!](http://www.doc.gold.ac.uk/evaluation) 🙏"
   ]
  },
  {
   "cell_type": "markdown",
   "metadata": {
    "slideshow": {
     "slide_type": "slide"
    }
   },
   "source": [
    "---\n",
    "\n",
    "# Exam\n",
    "\n",
    "## Friday 19th January, 10:00 AM, 2h15\n",
    "\n",
    "- Part A, 45 minutes\n",
    "- Part B, **choose two questions** (out of three), 45 minutes each\n",
    "\n",
    "## Do the quizzes!!\n",
    "\n",
    "If you can do the quizzes, the exam is fine."
   ]
  },
  {
   "cell_type": "markdown",
   "metadata": {
    "slideshow": {
     "slide_type": "slide"
    }
   },
   "source": [
    "---\n",
    "\n",
    "# Coursework 2"
   ]
  },
  {
   "cell_type": "code",
   "execution_count": 1,
   "metadata": {
    "slideshow": {
     "slide_type": "skip"
    }
   },
   "outputs": [],
   "source": [
    "import tensorflow as tf\n",
    "import numpy as np\n",
    "\n",
    "from IPython.display import YouTubeVideo\n",
    "\n",
    "import matplotlib.pyplot as plt"
   ]
  },
  {
   "cell_type": "markdown",
   "metadata": {
    "slideshow": {
     "slide_type": "slide"
    }
   },
   "source": [
    "## Options\n",
    "\n",
    "### 1. **DL workflow**\n",
    "\n",
    "Find the best model for a particular dataset using techniques from Topic 5 (vision) or Topic 6 (sequences)."
   ]
  },
  {
   "cell_type": "markdown",
   "metadata": {
    "slideshow": {
     "slide_type": "slide"
    }
   },
   "source": [
    "## Options\n",
    "\n",
    "### 2. **Generative**\n",
    "\n",
    "A **creative project** based on the generative models of DLWP chapter 12 (using DLWP code as **a starting point** and creating **original wor**k on that basis, with additional credit for **changes** and **extensions** to the code, and an **exploration** of the capability of a generative technique, and/or **novel applications**).\n",
    "\n",
    "Even as you use DLWP or lecture code, please make sure to **start a new notebook** for your submission, instead of just modifying one of the lecture notebooks."
   ]
  },
  {
   "cell_type": "markdown",
   "metadata": {
    "slideshow": {
     "slide_type": "subslide"
    }
   },
   "source": [
    "## Credit\n",
    " (up to 70 marks)\n",
    "\n",
    "- Report structure and quality as a document (avoid excessive repetition)\n",
    "- Adherence to the DL workflow (option 1)\n",
    "- A systematic investigation\n",
    "- Interpretation of results"
   ]
  },
  {
   "cell_type": "markdown",
   "metadata": {
    "slideshow": {
     "slide_type": "subslide"
    }
   },
   "source": [
    "## Extra credit\n",
    "\n",
    "(up to 30 marks)\n",
    "\n",
    "- Clean, modular code\n",
    "- A dataset external to DLWP and tensorflow\n",
    "- Demonstrable understanding of DLWP part 2 (Topics 5-8) concepts"
   ]
  },
  {
   "cell_type": "markdown",
   "metadata": {
    "slideshow": {
     "slide_type": "subslide"
    }
   },
   "source": [
    "## Submission\n",
    "\n",
    "- Reference any pretrained model and all datasets\n",
    "- Reference any code that is not original\n",
    "- Reference any other source e.g. books, kaggle\n",
    "\n",
    "Submit a single ZIP file containing your executed Jupyter notebook (optionally also an html export), as well as your produced outputs, and intermediary results.\n",
    "\n",
    "**If you use large datasets or pretrained models, please add external download links or describe the steps you took to obtain those, rather than include them in the submission**"
   ]
  },
  {
   "cell_type": "markdown",
   "metadata": {
    "slideshow": {
     "slide_type": "subslide"
    }
   },
   "source": [
    "## Please look at the grading scheme!"
   ]
  },
  {
   "cell_type": "code",
   "execution_count": 26,
   "metadata": {
    "slideshow": {
     "slide_type": "skip"
    }
   },
   "outputs": [],
   "source": [
    "def mnist_example(n_hidden, n_layers):\n",
    "    # load\n",
    "    (train_images, train_labels), (test_images, test_labels) = tf.keras.datasets.mnist.load_data()\n",
    "\n",
    "    # preprocess\n",
    "    train_images = train_images.reshape((60000, 28 * 28))\n",
    "    train_images = train_images.astype('float32') / 255\n",
    "    test_images = test_images.reshape((10000, 28 * 28))\n",
    "    test_images = test_images.astype('float32') / 255\n",
    "\n",
    "    train_labels = tf.keras.utils.to_categorical(train_labels)\n",
    "    test_labels = tf.keras.utils.to_categorical(test_labels)\n",
    "\n",
    "    # split into partial train & val\n",
    "    # NOTE: you can also skip this step and use 'validation_split' in the fit() function\n",
    "    val_images = train_images[:10000]\n",
    "    val_labels = train_labels[:10000]\n",
    "    partial_train_images = train_images[10000:]\n",
    "    partial_train_labels = train_labels[10000:]\n",
    "\n",
    "    # build\n",
    "    network = tf.keras.models.Sequential()\n",
    "    for _ in range(n_layers):\n",
    "        network.add(tf.keras.layers.Dense(n_hidden, activation='relu', input_shape=(28 * 28, )))\n",
    "    network.add(tf.keras.layers.Dense(10, activation='softmax'))\n",
    "    network.compile(\n",
    "        optimizer='rmsprop',\n",
    "        loss='categorical_crossentropy', \n",
    "        metrics=['accuracy']\n",
    "    )\n",
    "\n",
    "    # train\n",
    "    history = network.fit(\n",
    "        partial_train_images,\n",
    "        partial_train_labels,\n",
    "        epochs=10,\n",
    "        batch_size=128,\n",
    "        validation_data=(val_images, val_labels),\n",
    "        # validation_split=0.2. # automatic validation split\n",
    "    )\n",
    "\n",
    "    # plot\n",
    "    fig, axs = plt.subplots(nrows=1,ncols=2, constrained_layout=True, figsize=(10,3))\n",
    "    axs[0].plot(range(len(history.history['loss'])), history.history['loss'], label=\"loss\")\n",
    "    axs[0].plot(range(len(history.history['val_loss'])), history.history['val_loss'], label=\"val loss\")\n",
    "    axs[0].legend()\n",
    "    axs[1].plot(range(len(history.history['accuracy'])), history.history['accuracy'], label=\"accuracy\")\n",
    "    axs[1].plot(range(len(history.history['val_accuracy'])), history.history['val_accuracy'], label=\"val accuracy\")\n",
    "    axs[1].legend()\n",
    "    plt.show()"
   ]
  },
  {
   "cell_type": "code",
   "execution_count": 27,
   "metadata": {
    "slideshow": {
     "slide_type": "subslide"
    }
   },
   "outputs": [
    {
     "name": "stdout",
     "output_type": "stream",
     "text": [
      "Epoch 1/10\n",
      "391/391 [==============================] - 13s 26ms/step - loss: 1.5371 - accuracy: 0.5205 - val_loss: 1.1427 - val_accuracy: 0.6537\n",
      "Epoch 2/10\n",
      "391/391 [==============================] - 8s 22ms/step - loss: 1.0169 - accuracy: 0.6942 - val_loss: 0.9078 - val_accuracy: 0.7374\n",
      "Epoch 3/10\n",
      "391/391 [==============================] - 9s 24ms/step - loss: 0.8544 - accuracy: 0.7537 - val_loss: 0.7897 - val_accuracy: 0.7810\n",
      "Epoch 4/10\n",
      "391/391 [==============================] - 10s 25ms/step - loss: 0.7404 - accuracy: 0.7920 - val_loss: 0.6901 - val_accuracy: 0.8067\n",
      "Epoch 5/10\n",
      "391/391 [==============================] - 10s 25ms/step - loss: 0.6636 - accuracy: 0.8073 - val_loss: 0.6325 - val_accuracy: 0.8173\n",
      "Epoch 6/10\n",
      "391/391 [==============================] - 9s 23ms/step - loss: 0.6199 - accuracy: 0.8167 - val_loss: 0.6008 - val_accuracy: 0.8260\n",
      "Epoch 7/10\n",
      "391/391 [==============================] - 10s 24ms/step - loss: 0.5926 - accuracy: 0.8263 - val_loss: 0.5810 - val_accuracy: 0.8297\n",
      "Epoch 8/10\n",
      "391/391 [==============================] - 9s 24ms/step - loss: 0.5741 - accuracy: 0.8302 - val_loss: 0.5639 - val_accuracy: 0.8343\n",
      "Epoch 9/10\n",
      "391/391 [==============================] - 9s 22ms/step - loss: 0.5605 - accuracy: 0.8354 - val_loss: 0.5569 - val_accuracy: 0.8379\n",
      "Epoch 10/10\n",
      "391/391 [==============================] - 9s 23ms/step - loss: 0.5496 - accuracy: 0.8382 - val_loss: 0.5494 - val_accuracy: 0.8398\n"
     ]
    },
    {
     "data": {
      "image/png": "[encoded data removed]",
      "text/plain": [
       "<Figure size 1000x300 with 2 Axes>"
      ]
     },
     "metadata": {},
     "output_type": "display_data"
    }
   ],
   "source": [
    "mnist_example(n_hidden=4, n_layers=1)"
   ]
  },
  {
   "cell_type": "markdown",
   "metadata": {
    "slideshow": {
     "slide_type": "fragment"
    }
   },
   "source": [
    "Note that we only reach .54 of validation loss, and .84 of validation accuracy: we are **underfitting**.  \n",
    "A model is underfitting on the training loss as long as that loss is above zero!  \n",
    "Once the training loss is zero it is said to **interpolate** the data: every data point is accounted for."
   ]
  },
  {
   "cell_type": "code",
   "execution_count": 28,
   "metadata": {
    "slideshow": {
     "slide_type": "subslide"
    }
   },
   "outputs": [
    {
     "name": "stdout",
     "output_type": "stream",
     "text": [
      "Epoch 1/10\n",
      "391/391 [==============================] - 22s 41ms/step - loss: 0.3350 - accuracy: 0.8973 - val_loss: 0.1843 - val_accuracy: 0.9518\n",
      "Epoch 2/10\n",
      "391/391 [==============================] - 13s 34ms/step - loss: 0.1270 - accuracy: 0.9654 - val_loss: 0.1148 - val_accuracy: 0.9686\n",
      "Epoch 3/10\n",
      "391/391 [==============================] - 13s 34ms/step - loss: 0.0891 - accuracy: 0.9764 - val_loss: 0.1414 - val_accuracy: 0.9662\n",
      "Epoch 4/10\n",
      "391/391 [==============================] - 14s 36ms/step - loss: 0.0719 - accuracy: 0.9817 - val_loss: 0.1098 - val_accuracy: 0.9777\n",
      "Epoch 5/10\n",
      "391/391 [==============================] - 13s 33ms/step - loss: 0.0616 - accuracy: 0.9844 - val_loss: 0.1126 - val_accuracy: 0.9773\n",
      "Epoch 6/10\n",
      "391/391 [==============================] - 13s 32ms/step - loss: 0.0560 - accuracy: 0.9867 - val_loss: 0.1072 - val_accuracy: 0.9778\n",
      "Epoch 7/10\n",
      "391/391 [==============================] - 13s 32ms/step - loss: 0.0501 - accuracy: 0.9876 - val_loss: 0.2069 - val_accuracy: 0.9718\n",
      "Epoch 8/10\n",
      "391/391 [==============================] - 12s 32ms/step - loss: 0.0471 - accuracy: 0.9898 - val_loss: 0.1481 - val_accuracy: 0.9757\n",
      "Epoch 9/10\n",
      "391/391 [==============================] - 13s 33ms/step - loss: 0.0420 - accuracy: 0.9911 - val_loss: 0.1426 - val_accuracy: 0.9785\n",
      "Epoch 10/10\n",
      "391/391 [==============================] - 13s 34ms/step - loss: 0.0419 - accuracy: 0.9916 - val_loss: 0.1509 - val_accuracy: 0.9802\n"
     ]
    },
    {
     "data": {
      "image/png": "[encoded data removed]",
      "text/plain": [
       "<Figure size 1000x300 with 2 Axes>"
      ]
     },
     "metadata": {},
     "output_type": "display_data"
    }
   ],
   "source": [
    "mnist_example(n_hidden=512, n_layers=5)"
   ]
  },
  {
   "cell_type": "markdown",
   "metadata": {
    "slideshow": {
     "slide_type": "fragment"
    }
   },
   "source": [
    "Here we are **overfitting** rather quickly, with our validation loss starting to diverge after one epoch, and our validation accuracy starting to stagnate roughly around the same time!"
   ]
  },
  {
   "cell_type": "markdown",
   "metadata": {
    "slideshow": {
     "slide_type": "subslide"
    }
   },
   "source": [
    "### Baseline\n",
    "\n",
    "A common mistake I saw in CW 1: the baseline is calculated on the basis of the **data**, not just of the **classes**.\n",
    "\n",
    "If you take the example of the IMDB dataset for sentiment. A random-guess baseline can be used (with an accuracy of roughly 50%), because **there are as many positive as negative reviews in the dataset**.\n",
    "\n",
    "Not because there are two classes.\n",
    "\n",
    "If we had an imbalanced dataset with 80% of one class and 20% of another, the commonsense baseline to use is to **predict the most likely class** (the **mode** of our distribution), which in this case gives you an 80% accuracy on average.\n",
    "\n",
    "*If you know a coin is biased towards heads rather than tail, you know that betting on heads all the time will make you win!*"
   ]
  },
  {
   "cell_type": "markdown",
   "metadata": {
    "slideshow": {
     "slide_type": "subslide"
    }
   },
   "source": [
    "### Baseline breakdown\n",
    "\n",
    "1. Classification or Regression? \n",
    "    1. *Classification*: is the dataset balanced (as many **samples** of each class)?  \n",
    "       1. **Yes**, as many samples of each class: *random guess* is your best bet, giving you an expected accuracy of :  \n",
    "       $\\frac{1}{classes}$ (1/2 for two classes, 1/10 for ten classes)  \n",
    "       2. **No**, one class has more sample than the rest: predicting *this class* will give you better results than a random guess, do that.  \n",
    "       Your expected accuracy is $p(\\text{most represented class})$ (with a dataset of 10 classes, if your most represented class is 14% of it, that's your baseline!).  \n",
    "    2. *Regression*: what are you predicting?  \n",
    "        1. A separate feature (for instance: prices), try computing the **mean** of your data, and see what **MAE** you are getting when using only the mean as your model's prediction;  \n",
    "        2. Something else (e.g. the weather temperature, which is also part of your input data), then it's a custom estimation (like \"the temperature is the same in 24h as it is now\")."
   ]
  },
  {
   "cell_type": "markdown",
   "metadata": {
    "slideshow": {
     "slide_type": "subslide"
    }
   },
   "source": [
    "### Regularisation\n",
    "\n",
    "In practice, it means `Dropout` or `l1/l2` kernel regularisers!\n",
    "\n",
    "*If you do not overfit for whatever reason (e.g. enough data) either __use some regularisation anyway__ or __write a section on the absence of regularisation and why you think you didn't overfit__ (e.g. enough data acts as a natural regulariser!).*"
   ]
  },
  {
   "cell_type": "markdown",
   "metadata": {
    "slideshow": {
     "slide_type": "subslide"
    }
   },
   "source": [
    "### Optimal epoch workflow\n",
    "\n",
    "1. Train using `partial_training` and `validation`;\n",
    "2. Find the best validation value and epoch;\n",
    "3. Retrain a new network with the same hyperparmeters:\n",
    "    - **until the best-performing epoch**;\n",
    "    - **on the whole training set (no validation)**;\n",
    "4. Test on the test set (using `model.evaluate(x_test, y_test)`)."
   ]
  },
  {
   "cell_type": "markdown",
   "metadata": {
    "slideshow": {
     "slide_type": "subslide"
    }
   },
   "source": [
    "```python\n",
    "    # EXPERIMENTS\n",
    "    history = network.fit(\n",
    "        partial_train_images,\n",
    "        partial_train_labels,\n",
    "        epochs=10,\n",
    "        batch_size=128,\n",
    "        validation_data=(val_images, val_labels),\n",
    "        # validation_split=0.2. # automatic validation split\n",
    "    )\n",
    "```"
   ]
  },
  {
   "cell_type": "markdown",
   "metadata": {
    "slideshow": {
     "slide_type": "subslide"
    }
   },
   "source": [
    "```python\n",
    "    # FINAL MODEL\n",
    "    # programmatically select the best epoch\n",
    "    best_epoch = np.argmax(history[\"val_acc\"])\n",
    "    print(f\"The best epoch for validation is {best_epoch}\")\n",
    "    history = network.fit(\n",
    "        train_images,\n",
    "        train_labels,\n",
    "        epochs=best_epoch, # TRAIN UNTIL BEST EPOCH\n",
    "        batch_size=128,    # NO VALIDATION ANY MORE\n",
    "    )\n",
    "```\n",
    "```python\n",
    "    results = model.evaluate(x_test, y_test) # EVALUATE ON THE TEST SET\n",
    "```"
   ]
  },
  {
   "cell_type": "markdown",
   "metadata": {
    "slideshow": {
     "slide_type": "subslide"
    }
   },
   "source": [
    "### Systematic hyperparameter optimisation\n",
    "\n",
    "The original intent is to give those marks when at least **two hyperparameters** have been tuned.\n",
    "\n",
    "Note the **systematic**: you need to show that you are *searching* for better performance, using a plan or strategy, and changing the hyperparameters accordingly."
   ]
  },
  {
   "cell_type": "markdown",
   "metadata": {
    "slideshow": {
     "slide_type": "subslide"
    }
   },
   "source": [
    "### Advanced DL & best practices: examples from topic 7\n",
    "\n",
    "- architectures patterns like residual connections, batch norm or layer norm, more than one input/output with functional syntax;\n",
    "- learning rate schedules;\n",
    "- TPU training;\n",
    "- ensembling (train more than one model, pool their predictions);"
   ]
  },
  {
   "cell_type": "markdown",
   "metadata": {
    "slideshow": {
     "slide_type": "subslide"
    }
   },
   "source": [
    "### Option 2 Generative DL\n",
    "\n",
    "The idea is to explore one of the generative DL techniques we have seen in the last two weeks.\n",
    "\n",
    "Start with the lecture notebooks, and build on top of that.\n",
    "\n",
    "The only thing I require is that **you do not just hand in a modified lecture notebook**.\n",
    "\n",
    "**Start from scratch, in a blank notebook, and import the code you need manually.**\n",
    "\n",
    "Please do include attempts, even if failed ones, we want to see your process!"
   ]
  },
  {
   "cell_type": "markdown",
   "metadata": {
    "colab_type": "text",
    "slideshow": {
     "slide_type": "slide"
    }
   },
   "source": [
    "---\n",
    "\n",
    "# 14 Conclusions\n",
    "\n",
    "## 14.1 Key concepts in review"
   ]
  },
  {
   "cell_type": "markdown",
   "metadata": {
    "colab_type": "text",
    "slideshow": {
     "slide_type": "subslide"
    }
   },
   "source": [
    "### 14.1.1 Various approaches to AI\n",
    "\n",
    "<!-- <img  style=\"width: auto; height: 600px;\" src=\"images/MIT_DeepLearning_L1.pdf.png\"> -->\n",
    "<img  style=\"width: auto; height: 600px;\" src=\"https://drive.google.com/uc?id=1qLjS1yl8HJUREBTKaEXjhV5LKesB-N-U\">\n",
    "\n",
    "<small>[MIT 6.S191 Introduction to Deep Learning](http://introtodeeplearning.com)</small>"
   ]
  },
  {
   "cell_type": "markdown",
   "metadata": {
    "colab_type": "text",
    "slideshow": {
     "slide_type": "subslide"
    }
   },
   "source": [
    "### 14.1.2 What makes deep learning special within the field of machine learning"
   ]
  },
  {
   "cell_type": "markdown",
   "metadata": {
    "slideshow": {
     "slide_type": "subslide"
    }
   },
   "source": [
    "DL, in only a few years, has achieved a range of tasks that were previously considered to be very difficult for computers:\n",
    "- machine perception;\n",
    "- information extraction from images, videos and sound;\n",
    "- speech recognition;\n",
    "- smart assistants;\n",
    "- machine translation;\n",
    "- much, much more..."
   ]
  },
  {
   "cell_type": "markdown",
   "metadata": {
    "slideshow": {
     "slide_type": "subslide"
    }
   },
   "source": [
    "Some practitioners (e.g. F. Chollet) claim that given enough human-annotated training data, DL models can be equivalent to humans in these kind of tasks.\n",
    "\n",
    "Some claim that 'perception has been solved'.\n",
    "\n",
    "We are in the middle of a period of intense interest and hype – an AI *summer*.\n",
    "\n",
    "Deep Learning stands to transform many industries and businesses *even if no further progress is made*."
   ]
  },
  {
   "cell_type": "markdown",
   "metadata": {
    "colab_type": "text",
    "slideshow": {
     "slide_type": "slide"
    }
   },
   "source": [
    "### 14.1.3 How to think about deep learning\n",
    "\n",
    "#### The Model\n",
    "\n",
    "Deep Learning models apply a series of **simple geometric transformations** to vectorised data.\n",
    "\n",
    "A chain of simple transformations creats a **complex transformation from an input to a target space**.\n",
    "\n",
    "The transformations must be **differentiable**."
   ]
  },
  {
   "cell_type": "markdown",
   "metadata": {
    "slideshow": {
     "slide_type": "subslide"
    }
   },
   "source": [
    "#### Training\n",
    "\n",
    "The layer parameters determining transformations change during training in order to **lower a loss function**.\n",
    "\n",
    "This loss must also be **differentiable**.\n",
    "\n",
    "Premise: meaning can be derived by smooth mappings between vector spaces.\n",
    "\n",
    "But meaning can be represented in other ways, for example by **graphs**."
   ]
  },
  {
   "cell_type": "markdown",
   "metadata": {
    "slideshow": {
     "slide_type": "subslide"
    }
   },
   "source": [
    "The representation of meaning by graphs was the original stimulus for *connectionism* and was realised in artificial neural networks.\n",
    "\n",
    "However ANN's bear little resemblance to the brain.\n",
    "\n",
    "DL experts talk about *layered representations*, *hierarchical representation learning* and *deep differentiable models of chained geometric transforms*.\n",
    "\n",
    "Despite this jargonised, abstract viewpoint (Chollet's), deep learning concepts and implementations derive from (artificial) neural networks."
   ]
  },
  {
   "cell_type": "markdown",
   "metadata": {
    "slideshow": {
     "slide_type": "subslide"
    }
   },
   "source": [
    "It is always good to have **several, ideally complementary ways** of thinking about the same thing:  \n",
    "\n",
    "*Artificial neurons sending signals along connecting wires...*\n",
    "\n",
    "<!-- <img  style=\"height: 500px;\" src=\"images/stanford.neuron.brain.png\"> -->\n",
    "<img  style=\"height: 500px;\" src=\"https://drive.google.com/uc?id=1j0qbpQclMhA2Wu13j40exP_tC9xcsApP\">\n",
    "\n",
    "<small>Source: [CS231n: Convolutional Neural Networks for Visual Recognition](http://cs231n.stanford.edu/2017/syllabus.html), lecture 4</small>"
   ]
  },
  {
   "cell_type": "markdown",
   "metadata": {
    "colab_type": "text",
    "slideshow": {
     "slide_type": "slide"
    }
   },
   "source": [
    "### 14.1.4 Key enabling technologies\n",
    "\n",
    "- **Algorithms**: incremental innovations, especially since 2012;\n",
    "- **Big data**: large amounts of data;\n",
    "- **GPU/TPU**: fast parallel GPU computation: the NVIDIA gaming GPU was particularly important;\n",
    "- Open source/public **libraries/APIs**: CUDA, TensorFlow, PyTorch, Numpy, JAX..."
   ]
  },
  {
   "cell_type": "markdown",
   "metadata": {
    "colab_type": "text",
    "slideshow": {
     "slide_type": "slide"
    }
   },
   "source": [
    "### 14.1.5 The universal machine-learning workflow\n",
    "\n",
    "-  Define the problem: \n",
    "    - what **data** is available, \n",
    "    - what are you trying to **predict**?\n",
    "-  Identify a **measure of success**, e.g. the prediction accuracy;\n",
    "-  Define an **evaluation procedure**: training/validation sets + a test set."
   ]
  },
  {
   "cell_type": "markdown",
   "metadata": {
    "slideshow": {
     "slide_type": "subslide"
    }
   },
   "source": [
    "-  **Vectorise** and if necessary **normalise** data;\n",
    "-  Develop a baseline model that beats a **common sense baseline**;\n",
    "-  Tune **hyperparameters** according to **validation** performance;\n",
    "-  First **overfit** then **regularise/downsize**."
   ]
  },
  {
   "cell_type": "markdown",
   "metadata": {
    "colab_type": "text",
    "slideshow": {
     "slide_type": "slide"
    }
   },
   "source": [
    "---\n",
    "\n",
    "## 14.1.6 Key network architectures"
   ]
  },
  {
   "cell_type": "markdown",
   "metadata": {
    "slideshow": {
     "slide_type": "subslide"
    }
   },
   "source": [
    "### Four families: \n",
    "- Dense;\n",
    "- Convolutional;\n",
    "- Recurrent;\n",
    "- Attention-based (transformers).\n",
    "\n",
    "Each type matches a particular task and encodes assumptions about the structure of the data i.e. a hypothesis space.\n",
    "\n",
    "The network types can obviously be combined: for instance, dense layers are found everywhere, but almost never on their own!"
   ]
  },
  {
   "cell_type": "markdown",
   "metadata": {
    "slideshow": {
     "slide_type": "skip"
    }
   },
   "source": [
    "### Note \n",
    "\n",
    "This is evolving **fast**. [Diffusion models](https://keras.io/examples/generative/ddim/) are at the peak of hype, you can bet that DLWP 3rd edition will include them."
   ]
  },
  {
   "cell_type": "markdown",
   "metadata": {
    "slideshow": {
     "slide_type": "subslide"
    }
   },
   "source": [
    "| Data | Architecture |\n",
    "| --- | --- |\n",
    "| **General** | fully connected (dense) layers<sup>1</sup> |\n",
    "| **Image** | 2D convnets, Transformers | \n",
    "| **Text** | RNNs, Transformers, also 1D convnets |\n",
    "| **Time series** | RNNs, Transformers or 1D convnets |\n",
    "| **Other types of sequence** | RNNs or convnets<sup>2</sup> |\n",
    "| **Video** | 3D convnets<sup>3</sup> |\n",
    "| **Volumetric** | 3D convnets |\n",
    "\n",
    "<small>1: These days mostly encountered *within* other networks, rather than on their own.<br>\n",
    "2: \"1D convnets can also be used for translation-invariant, continuous sequence data, such as birdsong waveforms.\", DLWP, p.436.<br>\n",
    "3: Also possible: 2D convnets for frame level feature extraction followed by an RNN, Transformer or convnet to process the resulting sequence.</small>\n"
   ]
  },
  {
   "cell_type": "markdown",
   "metadata": {
    "slideshow": {
     "slide_type": "slide"
    }
   },
   "source": [
    "---\n",
    "\n",
    "### Densely connected networks\n",
    "\n",
    "A stack of dense layers.\n",
    "\n",
    "No specific structure in the data is assumed. (2D convolutional layers assume *local* structure.)\n",
    "\n",
    "Used for categorical data (e.g. attributes such as in the Boston Housing dataset).\n",
    "\n",
    "Also used as the final classification or regression stage of most other networks."
   ]
  },
  {
   "cell_type": "markdown",
   "metadata": {
    "slideshow": {
     "slide_type": "subslide"
    }
   },
   "source": [
    "#### Binary classification\n",
    "\n",
    "- The final layer is a single sigmoid unit;\n",
    "- The model is trained with the binary cross-entropy loss function.\n",
    "\n",
    "```python\n",
    "num_input_features = 16\n",
    "inputs = tf.keras.Input(shape=(num_input_features,))\n",
    "x = tf.keras.layers.Dense(32, activation=\"relu\")(inputs)\n",
    "x = tf.keras.layers.Dense(32, activation=\"relu\")(x)\n",
    "outputs = tf.keras.layers.Dense(1, activation=\"sigmoid\")(x)\n",
    "model = tf.keras.Model(inputs, outputs)\n",
    "model.compile(optimizer=\"rmsprop\", loss=\"binary_crossentropy\")\n",
    "```"
   ]
  },
  {
   "cell_type": "markdown",
   "metadata": {
    "slideshow": {
     "slide_type": "subslide"
    }
   },
   "source": [
    "#### Single label multi-class classification\n",
    "\n",
    "- Number of final dense layer units = number of classes;\n",
    "- Softmax activation;\n",
    "- Categorical cross-entropy loss.\n",
    "\n",
    "```python\n",
    "num_classes = 10\n",
    "inputs = tf.keras.Input(shape=(num_input_features,))\n",
    "x = tf.keras.layers.Dense(32, activation=\"relu\")(inputs)\n",
    "x = tf.keras.layers.Dense(32, activation=\"relu\")(x)\n",
    "outputs = tf.keras.layers.Dense(num_classes, activation=\"softmax\")(x)\n",
    "model = tf.keras.Model(inputs, outputs)\n",
    "model.compile(optimizer=\"rmsprop\", loss=\"categorical_crossentropy\")\n",
    "```\n"
   ]
  },
  {
   "cell_type": "markdown",
   "metadata": {
    "slideshow": {
     "slide_type": "subslide"
    }
   },
   "source": [
    "#### Multi-label multi-class classification\n",
    "\n",
    "- Final layer of sigmoid units;\n",
    "- Binary cross-entropy;\n",
    "- `num_classes` copies of binary classification.\n",
    "\n",
    "```python\n",
    "inputs = tf.keras.Input(shape=(num_input_features,))\n",
    "x = tf.keras.layers.Dense(32, activation=\"relu\")(inputs)\n",
    "x = tf.keras.layers.Dense(32, activation=\"relu\")(x)\n",
    "outputs = tf.keras.layers.Dense(num_classes, activation=\"sigmoid\")(x)\n",
    "model = tf.keras.Model(inputs, outputs)\n",
    "model.compile(optimizer=\"rmsprop\", loss=\"binary_crossentropy\")\n",
    "```\n"
   ]
  },
  {
   "cell_type": "markdown",
   "metadata": {
    "slideshow": {
     "slide_type": "subslide"
    }
   },
   "source": [
    "#### Regression\n",
    "\n",
    "- Number of final units = number of values;\n",
    "- Final units have no activation (any continuous value is possible);\n",
    "- Loss is commonly MSE, but could be MAE (used as a metric in the book).\n",
    "\n",
    "```python\n",
    "num_values = 1\n",
    "inputs = tf.keras.Input(shape=(num_input_features,))\n",
    "x = tf.keras.layers.Dense(32, activation=\"relu\")(inputs)\n",
    "x = tf.keras.layers.Dense(32, activation=\"relu\")(x)\n",
    "outputs = tf.keras.layers.Dense(num_values)(x)\n",
    "model = tf.keras.Model(inputs, outputs)\n",
    "model.compile(optimizer=\"rmsprop\", loss=\"mse\")\n",
    "```\n"
   ]
  },
  {
   "cell_type": "markdown",
   "metadata": {
    "slideshow": {
     "slide_type": "slide"
    }
   },
   "source": [
    "---\n",
    "\n",
    "### Convolutional Networks\n",
    "\n",
    "The same geometric transformation is applied to different spatial locations (local receptive fields/patches).\n",
    "\n",
    "Resulting representations are **translation invariant** (can occur anywhere).\n",
    "\n",
    "Applicable to **any image size** without change to the architecture.\n",
    "\n",
    "Can be used for sequence processing if the sequence is translation invariant (not time series, but possibly text)."
   ]
  },
  {
   "cell_type": "markdown",
   "metadata": {
    "slideshow": {
     "slide_type": "subslide"
    }
   },
   "source": [
    "#### Architecture:\n",
    "- Stacks of **convolutional and pooling layers**;\n",
    "- Pooling layers **downsize/downsample** the data and **increase the spatial extent** of the filter;\n",
    "- End the stack with a **flattening or a global pooling layer** in order to turn the feature maps into vectors;\n",
    "- Then add a **dense classifier**.\n",
    "\n",
    "Models like **Xception** with separable depthwise convolutions (separate spatial convolutions on each channel) are smaller, quicker to train and perform well."
   ]
  },
  {
   "cell_type": "markdown",
   "metadata": {
    "colab_type": "code",
    "slideshow": {
     "slide_type": "subslide"
    }
   },
   "source": [
    "```python\n",
    "height, width, channels = 200, 200, 3\n",
    "inputs = tf.keras.Input(shape=(height, width, channels))\n",
    "```\n",
    "```python\n",
    "x = tf.keras.layers.SeparableConv2D(32, 3, activation=\"relu\")(inputs)\n",
    "x = tf.keras.layers.SeparableConv2D(64, 3, activation=\"relu\")(x)\n",
    "x = tf.keras.layers.MaxPooling2D(2)(x)\n",
    "x = tf.keras.layers.SeparableConv2D(64, 3, activation=\"relu\")(x)\n",
    "x = tf.keras.layers.SeparableConv2D(128, 3, activation=\"relu\")(x)\n",
    "x = tf.keras.layers.MaxPooling2D(2)(x)\n",
    "x = tf.keras.layers.SeparableConv2D(64, 3, activation=\"relu\")(x)\n",
    "x = tf.keras.layers.SeparableConv2D(128, 3, activation=\"relu\")(x)\n",
    "x = tf.keras.layers.GlobalAveragePooling2D()(x)\n",
    "```\n",
    "```python\n",
    "x = tf.keras.layers.Dense(32, activation=\"relu\")(x)\n",
    "outputs = tf.keras.layers.Dense(num_classes, activation=\"softmax\")(x)\n",
    "model = tf.keras.Model(inputs, outputs)\n",
    "model.compile(optimizer=\"rmsprop\", loss=\"categorical_crossentropy\")\n",
    "```\n"
   ]
  },
  {
   "cell_type": "markdown",
   "metadata": {
    "slideshow": {
     "slide_type": "slide"
    }
   },
   "source": [
    "---\n",
    "\n",
    "### Recurrent Networks (RNNs)\n",
    "\n",
    "Process sequences one step at a time.\n",
    "\n",
    "They maintain a **state** or **memory** – the previous output.\n",
    "\n",
    "Used for sequences without translation invariance.\n",
    "\n",
    "E.g. for time series where the recent past is more informative than the distant past."
   ]
  },
  {
   "cell_type": "markdown",
   "metadata": {
    "slideshow": {
     "slide_type": "subslide"
    }
   },
   "source": [
    "`tensorflow.keras` has three RNN layers: `SimpleRNN`, `GRU` and `LSTM`:\n",
    "\n",
    "- `SimpleRNN` is not really used;\n",
    "- `LSTM` is more powerful than the `GRU`, but is computationally more exensive.\n",
    "\n",
    "```python\n",
    "num_timesteps, num_features = 64, 128\n",
    "inputs = tf.keras.Input(shape=(num_timesteps, num_features))\n",
    "x = tf.keras.layers.LSTM(32)(inputs)\n",
    "outputs = tf.keras.layers.Dense(num_classes, activation=\"sigmoid\")(x)\n",
    "model = tf.keras.Model(inputs, outputs)\n",
    "model.compile(optimizer=\"rmsprop\", loss=\"binary_crossentropy\")\n",
    "```"
   ]
  },
  {
   "cell_type": "markdown",
   "metadata": {
    "slideshow": {
     "slide_type": "subslide"
    }
   },
   "source": [
    "When stacking layers, inner layers should return **the full sequence of outputs**.\n",
    "\n",
    "The final RNN layer returns only the last output which contains information about the whole sequence.\n",
    "\n",
    "```python\n",
    "num_timesteps, num_features = 64, 128\n",
    "inputs = tf.keras.Input(shape=(num_timesteps, num_features))\n",
    "x = tf.keras.layers.LSTM(32, return_sequences=True)(inputs)\n",
    "x = tf.keras.layers.LSTM(32, return_sequences=True)(x)\n",
    "x = tf.keras.layers.LSTM(32)(x)\n",
    "outputs = tf.keras.layers.Dense(num_classes, activation=\"sigmoid\")(x)\n",
    "model = tf.keras.Model(inputs, outputs)\n",
    "model.compile(optimizer=\"rmsprop\", loss=\"binary_crossentropy\")\n",
    "```"
   ]
  },
  {
   "cell_type": "markdown",
   "metadata": {
    "colab_type": "text",
    "slideshow": {
     "slide_type": "slide"
    }
   },
   "source": [
    "---\n",
    "\n",
    "### Transformers\n",
    "\n",
    "- They use **neural attention** ($softmax(Query \\cdot Keys) \\cdot Values$) to enrich input vectors with **contextual information**;\n",
    "- Multiple heads allow the network to look up different types of information in the whole input;\n",
    "- The attention mechanism ignores word order, so we use `PositionalEmbedding`;\n",
    "- Complexity of $O(length^2 \\times dim)$: faster than RNNs and ConvNets for shorter sentences!\n",
    "- Use a **causal mask** in the decoder to enforce causality and prevent lookaheads into the future;"
   ]
  },
  {
   "cell_type": "markdown",
   "metadata": {
    "colab_type": "code",
    "slideshow": {
     "slide_type": "subslide"
    }
   },
   "source": [
    "#### Encoder only (BERT)\n",
    "\n",
    "```python\n",
    "inputs = tf.keras.Input(shape=(sequence_length,), dtype=\"int64\")\n",
    "x = PositionalEmbedding(sequence_length, vocab_size, embed_dim)(inputs)\n",
    "  # ↓ Encoder\n",
    "x = TransformerEncoder(embed_dim, dense_dim, num_heads)(x)\n",
    "x = tf.keras.layers.GlobalMaxPooling1D()(x)\n",
    "outputs = tf.keras.layers.Dense(1, activation=\"sigmoid\")(x)\n",
    "model = tf.keras.Model(inputs, outputs)\n",
    "model.compile(optimizer=\"rmsprop\", loss=\"binary_crossentropy\")\n",
    "```"
   ]
  },
  {
   "cell_type": "markdown",
   "metadata": {
    "colab_type": "code",
    "slideshow": {
     "slide_type": "subslide"
    }
   },
   "source": [
    "#### Decoder only (GPT)\n",
    "\n",
    "```python\n",
    "inputs = tf.keras.Input(shape=(None,), dtype=\"int64\")\n",
    "x = PositionalEmbedding(sequence_length,vocab_size, embed_dim)(inputs)\n",
    "  # ↓ Decoder\n",
    "x = TransformerDecoder(embed_dim, latent_dim, num_heads)(\n",
    "    inputs=x, encoder_outputs=x\n",
    ") # x as both decoder & encoder!\n",
    "outputs =tf.keras.layers.Dense(vocab_size, activation=\"softmax\")(x)\n",
    "                             # probability distribution over the vocab\n",
    "model = tf.keras.Model(inputs, outputs)\n",
    "model.compile(optimizer=\"rmsprop\", loss=\"sparse_categorical_crossentropy\")    \n",
    "```"
   ]
  },
  {
   "cell_type": "markdown",
   "metadata": {
    "colab_type": "code",
    "slideshow": {
     "slide_type": "subslide"
    }
   },
   "source": [
    "#### Full (Transformer)\n",
    "```python\n",
    "# ↓ Encoder\n",
    "encoder_inputs = tf.keras.Input(shape=(sequence_length,), dtype=\"int64\")\n",
    "x = PositionalEmbedding(sequence_length, vocab_size, embed_dim)(encoder_inputs)\n",
    "encoder_outputs = TransformerEncoder(embed_dim, dense_dim, num_heads)(x)\n",
    "```\n",
    "```python\n",
    "# ↓ Decoder\n",
    "decoder_inputs = tf.keras.Input(shape=(None,), dtype=\"int64\")\n",
    "x = PositionalEmbedding(sequence_length, vocab_size, embed_dim)(decoder_inputs)\n",
    "                                         # inputs from decoder & encoder ↓\n",
    "x = TransformerDecoder(embed_dim, dense_dim, num_heads)(x, encoder_outputs)\n",
    "decoder_outputs = tf.keras.layers.Dense(vocab_size, activation=\"softmax\")(x)\n",
    "```\n",
    "```python\n",
    "transformer = tf.keras.Model([encoder_inputs, decoder_inputs], decoder_outputs)\n",
    "transformer.compile(optimizer=\"rmsprop\", loss=\"categorical_crossentropy\")\n",
    "```\n"
   ]
  },
  {
   "cell_type": "markdown",
   "metadata": {
    "colab_type": "text",
    "slideshow": {
     "slide_type": "slide"
    }
   },
   "source": [
    "### 14.1.7 The space of possibilities\n",
    "\n",
    "All of the following are learnable even if generalisation might be impossible."
   ]
  },
  {
   "cell_type": "markdown",
   "metadata": {
    "slideshow": {
     "slide_type": "subslide"
    }
   },
   "source": [
    "| Input           | Output           | Task                         | Example                                                                |\n",
    "| :---             | :---              | :---                          | :---                                                                    |\n",
    "| category        | category         | predictive healthcare        | medical records → prediction of treatment outcome                     |\n",
    "| category        | continuous value | behaviour                    | website attributes → time spent on website                            |\n",
    "| category        | continuous value | quality control              | product attributes → probability of failure                           |"
   ]
  },
  {
   "cell_type": "markdown",
   "metadata": {
    "slideshow": {
     "slide_type": "subslide"
    }
   },
   "source": [
    "| Input           | Output           | Task                         | Example                                                                |\n",
    "| :---             | :---              | :---                          | :---                                                                    |\n",
    "| image           | category         | doctor assistant             | medical slides → diagnosis                                            |\n",
    "| image           | category         | self-driving vehicle         | dash-cam → steering commands                                          |\n",
    "| image           | category         | board game                   | Go, chess images → next move                                          |\n",
    "| image           | category         | age prediction               | selfies → age                                                         |\n",
    "| image           | continuous value | diet helper                  | image of dish → calorie count                                         |\n",
    "| images          | text             | captioning                   | image → short caption                                                 |\n",
    "| images          | images           | super-resolution             | downsized inmages → hi res versions                                   |\n",
    "| images          | images           | visual depth sensing         | image of indoor environment → depth map                               |"
   ]
  },
  {
   "cell_type": "markdown",
   "metadata": {
    "slideshow": {
     "slide_type": "subslide"
    }
   },
   "source": [
    "| Input           | Output           | Task                         | Example                                                                |\n",
    "| :---             | :---              | :---                          | :---                                                                    |\n",
    "| time series     | category         | weather                      | weather data in a grid of locations → prediction at a single location |\n",
    "| time series     | category         | brain-computer interface     | EEG → computer commands                                               |"
   ]
  },
  {
   "cell_type": "markdown",
   "metadata": {
    "slideshow": {
     "slide_type": "subslide"
    }
   },
   "source": [
    "| Input           | Output           | Task                         | Example                                                                |\n",
    "| :---             | :---              | :---                          | :---                                                                    |\n",
    "| text            | text             | smart reply                  | emails → one-line replies                                              |\n",
    "| text            | text             | answering questions          | general knowledge questions → answers                                 |\n",
    "| text            | text             | summarising                  | long article → short summary                                          |\n",
    "| text            | images           | conditioned image generation | short text → matching image                                           |\n",
    "| text            | images           | logo generation/selection    | name and company description → logo                                   |"
   ]
  },
  {
   "cell_type": "markdown",
   "metadata": {
    "slideshow": {
     "slide_type": "subslide"
    }
   },
   "source": [
    "| Input           | Output           | Task                         | Example                                                                |\n",
    "| :---             | :---              | :---                          | :---                                                                    |\n",
    "| images and text | text             | visual QA                    | images and questions → answers                                        |\n",
    "| video and text  | text             | video QA                     | short videos and questions about the contents → answers               |"
   ]
  },
  {
   "cell_type": "markdown",
   "metadata": {
    "colab_type": "text",
    "slideshow": {
     "slide_type": "slide"
    }
   },
   "source": [
    "---\n",
    "\n",
    "## 14.2 The limitations of deep learning\n",
    "\n",
    "The list of possibilities in 14.1 is impressive but DL has limitations.\n",
    "\n",
    "- Imagine database of text descriptions of a software product. DL could never generate the source code.\n",
    "- Even learning a simple learning algorithm is tremendously difficult.\n",
    "\n",
    "Reasoning – as in designing software or the scientific method – is, or so Chollet states in ~2020, out of reach. "
   ]
  },
  {
   "cell_type": "markdown",
   "metadata": {
    "colab_type": "text",
    "slideshow": {
     "slide_type": "slide"
    }
   },
   "source": [
    "X might be related to Y by a geometric transform, but the transform might be too complex; or, X and Y aren't connected by any such transform.\n",
    "\n",
    "Stacking more layers may only palliate these problems."
   ]
  },
  {
   "cell_type": "markdown",
   "metadata": {
    "slideshow": {
     "slide_type": "slide"
    }
   },
   "source": [
    "DL maps space X to space Y with **continuous geometric transformations** given large amounts of human-annotated data.\n",
    "\n",
    "DL models are like programs...\n",
    "\n",
    "...but **only a (small) subset of all possible programs!**\n",
    "\n",
    "So could *learnable programs* move AI towards reasoning and abstraction?"
   ]
  },
  {
   "cell_type": "markdown",
   "metadata": {
    "colab_type": "text",
    "slideshow": {
     "slide_type": "slide"
    }
   },
   "source": [
    "### 14.2.1 The risk of anthropomorphizing machine-learning models\n",
    "\n",
    "We risk overestimating ML abilities. Ever more so today!\n",
    "\n",
    "For instance, ML vision models do not *understand* images, at least not in the same way as we do. \n",
    "\n",
    "Our understanding is grounded in **experience** – being able to move and sense the world. \n",
    "\n",
    "ML models have no access to these experiences (for now). They are trained on very narrow examples."
   ]
  },
  {
   "cell_type": "markdown",
   "metadata": {
    "colab_type": "text",
    "slideshow": {
     "slide_type": "slide"
    }
   },
   "source": [
    "### 14.2.3 Local generalization vs. extreme generalization\n",
    "\n",
    "Even beyond, through experience, our access to broad training sets, here is another findamental dfference berween us and them (DL models).\n",
    "\n",
    "We maintain *abstract* models of our social and natural environment and we use these models to anticpate and predict.\n",
    "\n",
    "Thanks to that we are able to form representations of things that are novel to our experience, like dogs cooking or winnng the lottery.\n",
    "\n",
    "We manage this feat through abstraction and reasoning."
   ]
  },
  {
   "cell_type": "markdown",
   "metadata": {
    "slideshow": {
     "slide_type": "skip"
    }
   },
   "source": [
    "#### Note\n",
    "\n",
    "Some of these strategies (e.g. building a model of the world and acting accordingly) are studied in **Reinforcement Learning**, that unfortunately we haven't looked at this term."
   ]
  },
  {
   "cell_type": "markdown",
   "metadata": {
    "slideshow": {
     "slide_type": "subslide"
    }
   },
   "source": [
    "#### Extreme generalisation\n",
    "\n",
    "The ability to adapt to novel experiences despite a paucity of data is what Chollet calls *extreme generalisation*.\n",
    "\n",
    "Deep nets generalise only locally. They only adapt to new situations that closely match the training set. \n",
    "\n",
    "<!-- <img src=\"images/chollet.local-vs-extreme-generalisation.p.448.png\"> -->\n",
    "<img src=\"https://drive.google.com/uc?id=1mcK8sReLVA7C1v3iStRfyelFRmqyj7q_\">\n",
    "\n",
    "<small>DLWP, p. 448</small>"
   ]
  },
  {
   "cell_type": "markdown",
   "metadata": {
    "slideshow": {
     "slide_type": "skip"
    }
   },
   "source": [
    "#### Example: a trip to the moon\n",
    "\n",
    "Imagine training a model to launch a moon-bound rocket. The training set would have to include millions of launch trials before the model could accuratley predict the voyage.\n",
    "\n",
    "But humans, using reasoning and abstraction, develop rocket science, and we manage the task with only a few trials."
   ]
  },
  {
   "cell_type": "markdown",
   "metadata": {
    "colab_type": "text",
    "slideshow": {
     "slide_type": "slide"
    }
   },
   "source": [
    "---\n",
    "\n",
    "## 14.3 Setting the course toward greater generality in AI"
   ]
  },
  {
   "cell_type": "markdown",
   "metadata": {
    "colab_type": "text",
    "slideshow": {
     "slide_type": "subslide"
    }
   },
   "source": [
    "### 14.3.1 On the importance of setting the right objective: The shortcut rule\n",
    "\n",
    "\"If you focus on optimizing one success metric, you will achieve your goal, but at the expense of everything in the system that wasn’t covered by your success metric. You end up taking every available shortcut toward the goal. Your creations are shaped by the incentives you give yourself.\" DLWP, p.459\n",
    "\n",
    "As we have seen, models **will take the shortcut**, every time. (Are we *that* different?)\n",
    "\n",
    "In many ways, seeing a model acting like that teaches you something about **the structure of the incentive/objective itself**!"
   ]
  },
  {
   "cell_type": "markdown",
   "metadata": {
    "colab_type": "text",
    "slideshow": {
     "slide_type": "slide"
    }
   },
   "source": [
    "---\n",
    "\n",
    "## 14.4 Implementing intelligence: The missing ingredients"
   ]
  },
  {
   "cell_type": "markdown",
   "metadata": {
    "colab_type": "text",
    "slideshow": {
     "slide_type": "subslide"
    }
   },
   "source": [
    "### 14.4.2 The two poles of abstraction\n",
    "\n",
    "#### Value-centric analogy\n",
    "\n",
    "<!-- <img src=\"images/chollet.value-centric-analogy.p.456.png\"> -->\n",
    "<img src=\"https://drive.google.com/uc?id=1fdCOUL6buTKhEQTj9se9cPOulcXoyhAm\">\n",
    "\n",
    "<small>DLWP, p. 456</small>"
   ]
  },
  {
   "cell_type": "markdown",
   "metadata": {
    "colab_type": "text",
    "slideshow": {
     "slide_type": "subslide"
    }
   },
   "source": [
    "#### Program-centric analogy\n",
    "\n",
    "<!-- <img src=\"images/chollet.program-centric-analogy.p.457.png\"> -->\n",
    "<img src=\"https://drive.google.com/uc?id=1M0KtaLNlzkx1mVnAGV9en2oIRwuPPJ0U\">\n",
    "\n",
    "<small>DLWP, p. 457</small>"
   ]
  },
  {
   "cell_type": "markdown",
   "metadata": {
    "colab_type": "text",
    "slideshow": {
     "slide_type": "subslide"
    }
   },
   "source": [
    "#### Cognition as a combination of both kinds of abstraction\n",
    "\n",
    "<!-- <img src=\"images/chollet.two-poles-abstraction.p.458.png\"> -->\n",
    "<img src=\"https://drive.google.com/uc?id=19NWrkKGW-asGefkKbRbJ9i2KGWfW_2tV\">\n",
    "\n",
    "<small>DLWP, p. 458</small>"
   ]
  },
  {
   "cell_type": "markdown",
   "metadata": {
    "colab_type": "text",
    "slideshow": {
     "slide_type": "subslide"
    }
   },
   "source": [
    "### 14.4.3 The missing half of the picture\n",
    "\n",
    "Deep Learning focusses almost exclusively on the first kind, \"value-centric analogies\".\n",
    "\n",
    "It might be more fruitful to view these two aspects as belonging to a **spectrum**, with humans using different strategies at different times."
   ]
  },
  {
   "cell_type": "markdown",
   "metadata": {
    "colab_type": "text",
    "slideshow": {
     "slide_type": "slide"
    }
   },
   "source": [
    "---\n",
    "\n",
    "## 14.5 The future of deep learning\n",
    "\n",
    "- *Models closer to computer programs*: richer primitives than the current differentiable layers, leading to abstraction and reasoning;\n",
    "- *A fusion between deep learning and discrete search over program spaces*: combining intuition/perception and reasoning/planning;\n",
    "- These new models would require *new forms of learning*;\n",
    "- *Models that require less human involvement* i.e. more autonomy for tuning.\n",
    "- *Greater and systematic reuse of previously learnt features and architectures* such as meta-learning with reusable and modular program subroutines.\n",
    "\n",
    "These projections are appplicable to unsupervised, self-supervised and reinforcement learning."
   ]
  },
  {
   "cell_type": "markdown",
   "metadata": {
    "colab_type": "text",
    "slideshow": {
     "slide_type": "slide"
    }
   },
   "source": [
    "### 14.5.1 Models as programs\n",
    "\n",
    "Current AI reasoning relies on hardcoding e.g. search algorithms, graph manipulation and formal logic.\n",
    "\n",
    "- **AlphaGo**, for example, the intelligence is hardcoded as a [Monte-Carlo Tree Search](https://en.wikipedia.org/wiki/Monte_Carlo_tree_search). Learning from data only occurs in specialised submodules.\n",
    "- **RNNs** are less restricted than feedforward nets becuase they apply simple geometric transformations within a feedback loop. "
   ]
  },
  {
   "cell_type": "markdown",
   "metadata": {
    "slideshow": {
     "slide_type": "subslide"
    }
   },
   "source": [
    "#### Program synthesis\n",
    "\n",
    "If the system had access to **programming primitives** such as `if`, `while`, variables, disk storage, sorting operations, data structures (lists, hash tables etc.), the hypothesis space would far exeed that of current models.\n",
    "\n",
    "**Program synthesis** searches to for simple programs automatically, and terminates when input-output pairs have been matched.\n",
    "\n",
    "But instead of modifying a hardcoded model, program synthesis generates *source code*.\n",
    "\n",
    "One could imagine a augmenting Deep Learning models with program synthesis capabilities."
   ]
  },
  {
   "cell_type": "markdown",
   "metadata": {
    "slideshow": {
     "slide_type": "slide"
    }
   },
   "source": [
    "### Beyond backpropagation\n",
    "\n",
    "Deep Learning/program synthesis hybrids will likely no longer be differentiable. So, we cannot use backpropagation\n",
    "\n",
    "But there are alternatives, such as optimisers that make little assumption about the loss function (or, at least, do not assume continuity and smoothness):\n",
    "- [genetic algorithms](https://en.wikipedia.org/wiki/Evolutionary_computation);\n",
    "- [simulated annealing](https://en.wikipedia.org/wiki/Simulated_annealing);\n",
    "- [swarm intelligence](https://en.wikipedia.org/wiki/Swarm_intelligence);\n",
    "- etc..."
   ]
  },
  {
   "cell_type": "markdown",
   "metadata": {
    "slideshow": {
     "slide_type": "slide"
    }
   },
   "source": [
    "### Automated ML\n",
    "\n",
    "There is research on how **architectures themselves** can be learnt rather than handcrafted, for instance [**Neural Architecture Search** (NAS)](https://en.wikipedia.org/wiki/Neural_architecture_search) and [**Meta-Learning**](https://en.wikipedia.org/wiki/Meta-learning_(computer_science)).\n",
    "\n",
    "Hyperparameter tuning is a simple search procedure. Quite a few tuning systems already exist. Even architecture search algorithms are feasible.\n",
    "\n",
    "But learning architectures in conjunction with model weights would be more desirable. This would be more efficient because at the moment each architecture has to be trained from scratch."
   ]
  },
  {
   "cell_type": "markdown",
   "metadata": {
    "colab_type": "text",
    "slideshow": {
     "slide_type": "slide"
    }
   },
   "source": [
    "### Lifelong learning and modular subroutine reuse\n",
    "\n",
    "There is a lot of wasted effort in Deep Learning: every dataset/model/task requires training from scratch.\n",
    "\n",
    "But future hybrid Deep Learning/synthetic progams would require higher modular reuse.\n",
    "\n",
    "This is because many datasets are insufficiently informative – it will be necessary to use information from previously encountered datasets. \n",
    "\n",
    "(We don't relearn the language every time we read a new book...)"
   ]
  },
  {
   "cell_type": "markdown",
   "metadata": {
    "slideshow": {
     "slide_type": "subslide"
    }
   },
   "source": [
    "#### Example: translation\n",
    "\n",
    "The same DL model trained to translate English/German and French/Italian is better at each indivdual translation.\n",
    "\n",
    "The more you add languages, the better it becomes, due to information overlap.\n",
    "\n",
    "The same goes for vision, training an image segmetation model in conjunction with a an image classification model yields a model that is better at both tasks."
   ]
  },
  {
   "cell_type": "markdown",
   "metadata": {
    "slideshow": {
     "slide_type": "subslide"
    }
   },
   "source": [
    "#### Foundation models\n",
    "\n",
    "We already use **pretained models** – i.e. a fixed model with weights trained an a large database – in computer vision and NLP, and pretraining procedures are expanding fast.\n",
    "\n",
    "The rise of very large models used as a basis for multiple tasks leads to the concept of [**Foundation models**](https://en.wikipedia.org/wiki/Foundation_models) (a large model acquiring general knowledge that can then be finetuned).\n",
    "\n",
    "The rise of Transformers is really that story (GPT-3 being perhaps the most famous foundational model now)."
   ]
  },
  {
   "cell_type": "markdown",
   "metadata": {
    "colab_type": "text",
    "slideshow": {
     "slide_type": "slide"
    }
   },
   "source": [
    "---\n",
    "\n",
    "## Staying up to date in a fast-moving field\n",
    "\n",
    "- For practice and competition: [Kaggle](https://www.kaggle.com/);\n",
    "- Latest developments on [arXiv](https://arxiv.org/);\n",
    "- However, there's **so much** there that I would recommend following people on Twitter and YouTube instead;\n",
    "- Explore the ecosystem of libraries (TensorFlow, PyTorch, Jax...);\n",
    "\n",
    "#### **Work on your foundations**! The stronger your foundations, the easier it is to follow new developments."
   ]
  },
  {
   "cell_type": "markdown",
   "metadata": {
    "slideshow": {
     "slide_type": "skip"
    }
   },
   "source": [
    "### Foudations / Going Deeper\n",
    "\n",
    "[Goodfellow, Bengio and Courville, *Deep Learning*](https://www.deeplearningbook.org/)  \n",
    "[Christopher M. Bishop, *Pattern Recognition and Machine Learning*](https://www.microsoft.com/en-us/research/uploads/prod/2006/01/Bishop-Pattern-Recognition-and-Machine-Learning-2006.pdf)  \n",
    "[MacKay, *Information Theory, Inference, and Learning Algorithms*](https://www.inference.org.uk/mackay/itila/) (ignore the horrendous website)  \n",
    "MacKay has lectures here as well on [YouTube](https://www.youtube.com/playlist?list=PLruBu5BI5n4aFpG32iMbdWoRVAA-Vcso6).  "
   ]
  },
  {
   "cell_type": "markdown",
   "metadata": {
    "slideshow": {
     "slide_type": "subslide"
    }
   },
   "source": [
    "### Learn from the best!\n",
    "\n",
    "<a href=\"https://twitter.com/karpathy/status/1325154823856033793?lang=en\" target=\"_blank\">\n",
    "<!--     <img src=\"images/karpathy.expert.png\"> -->\n",
    "    <img src=\"https://drive.google.com/uc?id=1zvBMCLr7BF9HIb8LVj4ZMXrWV4s-zwSr\">\n",
    "</a>"
   ]
  },
  {
   "cell_type": "markdown",
   "metadata": {
    "colab_type": "text",
    "slideshow": {
     "slide_type": "slide"
    }
   },
   "source": [
    "---\n",
    "\n",
    "## Final words\n",
    "\n",
    "*\"The future offers very little hope for those who expect that our new mechanical slaves will offer us a world in which we may rest from thinking. Help us they may, but at the cost of supreme demands upon our honesty and our intelligence.\"* \n",
    "\n",
    "– Norbert Wiener, *God and Golem, Inc.: A Comment on Certain Points Where Cybernetics Impinges on Religion*, 1964"
   ]
  },
  {
   "cell_type": "markdown",
   "metadata": {
    "colab_type": "text",
    "slideshow": {
     "slide_type": "subslide"
    }
   },
   "source": [
    "#### Note\n",
    "\n",
    "Norbert Wiener coined the term *[cybernetics](https://www.etymonline.com/word/cybernetics)* from the Ancient Greek (or the French, itself from the Greek) term for *helmsman*/*pilot* in 1948.\n",
    "\n",
    "The Ancient Greek word gave us 'govern', 'governor', as the Romans had already imported the Greek word into Latin. Google just reimported it again to name its [open-source container orchestration system](https://kubernetes.io/).\n",
    "\n",
    "<img style=\"float:right; height:450px;\" src=\"images/Leagros-520BCr.jpg\">\n",
    "<!-- <img style=\"float:right; height:450px;\" src=\"https://drive.google.com/uc?id=19XB6T2hDmPbXZ9kLkurHpBZOTo9kxkDq\"> -->\n",
    "\n",
    "<small style=\"position:absolute;bottom:0;right:0\">[\"Ancient Galleys\", Ancient Ports – Ports Antiques](https://www.ancientportsantiques.com/ancient-ships/ancient-galleys/)</small>"
   ]
  },
  {
   "cell_type": "markdown",
   "metadata": {
    "slideshow": {
     "slide_type": "skip"
    }
   },
   "source": [
    "### References\n",
    "\n",
    "If you are interested in Chollet's theory of intelligence, and the series of tests he developed, here's a fairly comprehensive series of video explaining Chollet's paper [\"On the Measure of Intelligence\"](https://arxiv.org/abs/1911.01547)."
   ]
  },
  {
   "cell_type": "code",
   "execution_count": 2,
   "metadata": {
    "slideshow": {
     "slide_type": "skip"
    }
   },
   "outputs": [
    {
     "data": {
      "image/jpeg": "[encoded data removed]",
      "text/html": [
       "\n",
       "        <iframe\n",
       "            width=\"853\"\n",
       "            height=\"480\"\n",
       "            src=\"https://www.youtube.com/embed/3_qGrmD6iQY\"\n",
       "            frameborder=\"0\"\n",
       "            allowfullscreen\n",
       "            \n",
       "        ></iframe>\n",
       "        "
      ],
      "text/plain": [
       "<IPython.lib.display.YouTubeVideo at 0x7fc58d44ee20>"
      ]
     },
     "execution_count": 2,
     "metadata": {},
     "output_type": "execute_result"
    }
   ],
   "source": [
    "YouTubeVideo('3_qGrmD6iQY', width=853, height=480) # Yannic Kilcher, On the Measure of Intelligence by François Chollet - Part 1: Foundations (Paper Explained) "
   ]
  },
  {
   "cell_type": "code",
   "execution_count": 4,
   "metadata": {
    "slideshow": {
     "slide_type": "skip"
    }
   },
   "outputs": [
    {
     "data": {
      "image/jpeg": "[encoded data removed]",
      "text/html": [
       "\n",
       "        <iframe\n",
       "            width=\"853\"\n",
       "            height=\"480\"\n",
       "            src=\"https://www.youtube.com/embed/THcuTJbeD34\"\n",
       "            frameborder=\"0\"\n",
       "            allowfullscreen\n",
       "            \n",
       "        ></iframe>\n",
       "        "
      ],
      "text/plain": [
       "<IPython.lib.display.YouTubeVideo at 0x7fc6003650a0>"
      ]
     },
     "execution_count": 4,
     "metadata": {},
     "output_type": "execute_result"
    }
   ],
   "source": [
    "YouTubeVideo('THcuTJbeD34', width=853, height=480) # Yannic Kilcher, On the Measure of Intelligence by François Chollet - Part 2: Human Priors (Paper Explained) "
   ]
  },
  {
   "cell_type": "code",
   "execution_count": 5,
   "metadata": {
    "slideshow": {
     "slide_type": "skip"
    }
   },
   "outputs": [
    {
     "data": {
      "image/jpeg": "[encoded data removed]",
      "text/html": [
       "\n",
       "        <iframe\n",
       "            width=\"853\"\n",
       "            height=\"480\"\n",
       "            src=\"https://www.youtube.com/embed/cuyM63ugsxI\"\n",
       "            frameborder=\"0\"\n",
       "            allowfullscreen\n",
       "            \n",
       "        ></iframe>\n",
       "        "
      ],
      "text/plain": [
       "<IPython.lib.display.YouTubeVideo at 0x7fc58d44eee0>"
      ]
     },
     "execution_count": 5,
     "metadata": {},
     "output_type": "execute_result"
    }
   ],
   "source": [
    "YouTubeVideo('cuyM63ugsxI', width=853, height=480) # Yannic Kilcher, On the Measure of Intelligence by François Chollet - Part 3: The Math (Paper Explained) "
   ]
  },
  {
   "cell_type": "code",
   "execution_count": 6,
   "metadata": {
    "slideshow": {
     "slide_type": "skip"
    }
   },
   "outputs": [
    {
     "data": {
      "image/jpeg": "[encoded data removed]",
      "text/html": [
       "\n",
       "        <iframe\n",
       "            width=\"853\"\n",
       "            height=\"480\"\n",
       "            src=\"https://www.youtube.com/embed/O9kFX33nUcU\"\n",
       "            frameborder=\"0\"\n",
       "            allowfullscreen\n",
       "            \n",
       "        ></iframe>\n",
       "        "
      ],
      "text/plain": [
       "<IPython.lib.display.YouTubeVideo at 0x7fc58d471310>"
      ]
     },
     "execution_count": 6,
     "metadata": {},
     "output_type": "execute_result"
    }
   ],
   "source": [
    "YouTubeVideo('O9kFX33nUcU', width=853, height=480) # Yannic Kilcher, On the Measure of Intelligence by François Chollet - Part 4: The ARC Challenge (Paper Explained) "
   ]
  }
 ],
 "metadata": {
  "celltoolbar": "Slideshow",
  "colab": {
   "collapsed_sections": [],
   "name": "chapter14_conclusions.i",
   "private_outputs": false,
   "provenance": [],
   "toc_visible": true
  },
  "kernelspec": {
   "display_name": "Python 3 (ipykernel)",
   "language": "python",
   "name": "python3"
  },
  "language_info": {
   "codemirror_mode": {
    "name": "ipython",
    "version": 3
   },
   "file_extension": ".py",
   "mimetype": "text/x-python",
   "name": "python",
   "nbconvert_exporter": "python",
   "pygments_lexer": "ipython3",
   "version": "3.9.15"
  }
 },
 "nbformat": 4,
 "nbformat_minor": 4
}
