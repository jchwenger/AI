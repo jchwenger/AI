{
 "cells": [
  {
   "cell_type": "markdown",
   "metadata": {
    "id": "w9Rv-VzfCfwg"
   },
   "source": [
    "# Attendance\n",
    "\n",
    "[The link to SEAts](https://gold.seats.cloud/angular/#/lectures)\n",
    "\n",
    "[Evaluations!](http://www.doc.gold.ac.uk/evaluation) 🙏"
   ]
  },
  {
   "cell_type": "code",
   "execution_count": 1,
   "metadata": {
    "id": "D66P4n7fCfwp"
   },
   "outputs": [],
   "source": [
    "import os\n",
    "import sys\n",
    "import pathlib\n",
    "\n",
    "import numpy as np\n",
    "import tensorflow as tf\n",
    "\n",
    "import matplotlib.pyplot as plt\n",
    "\n",
    "tf.get_logger().setLevel('WARNING') # https://stackoverflow.com/a/38873777"
   ]
  },
  {
   "cell_type": "markdown",
   "metadata": {
    "id": "TIgvx8hYCfwu"
   },
   "source": [
    "---\n",
    "\n",
    "# 12 Generative deep learning\n",
    "\n",
    "- ## Text generation\n",
    "- ## DeepDream\n",
    "- ## Neural style transfer\n",
    "- ## Variational autoencoders\n",
    "- ## Generative adversarial networks\n"
   ]
  },
  {
   "cell_type": "markdown",
   "metadata": {
    "id": "rMbhcRgzCfwy",
    "jp-MarkdownHeadingCollapsed": true
   },
   "source": [
    "---\n",
    "\n",
    "## 12.1 Text generation"
   ]
  },
  {
   "cell_type": "markdown",
   "metadata": {
    "id": "rMbhcRgzCfwy"
   },
   "source": [
    "“Generating sequential data is the closest computers get to dreaming.”\n",
    "\n",
    "Alex Graves"
   ]
  },
  {
   "cell_type": "markdown",
   "metadata": {
    "id": "1N5w_dbtCfw7"
   },
   "source": [
    "NNs can generate new sequence data:\n",
    "\n",
    "- text (all kinds, including summaries, dialogue);\n",
    "- music (samples, notes);\n",
    "- speech synthesis;\n",
    "- handwriting or brushstrokes recorded on an iPad;\n",
    "- even images, if considered like a sequence of pixels!"
   ]
  },
  {
   "cell_type": "markdown",
   "metadata": {
    "id": "ysdJSCheCfwz",
    "jp-MarkdownHeadingCollapsed": true
   },
   "source": [
    "## 12.1.1 A brief history of generative deep learning for sequence generation"
   ]
  },
  {
   "cell_type": "markdown",
   "metadata": {
    "id": "ysdJSCheCfwz"
   },
   "source": [
    "- 2002: [Eck & Schmidhuber, \"A first look at music composition using LSTM recurrent neural networks\"](https://people.idsia.ch/~juergen/blues/IDSIA-07-02.pdf);\n",
    "- 2013: [Alex Graves, \"Generating Sequences With Recurrent Neural Networks\"](https://arxiv.org/abs/1308.0850);\n",
    "- 2015: Google's DeepDream produced psychedelic images: [\"Inceptionism: Going Deeper into Neural Networks\"](https://ai.googleblog.com/2015/06/inceptionism-going-deeper-into-neural.html);\n",
    "- 2016: [Sunspring](https://www.youtube.com/watch?v=LY7x2Ihqjmc), an experimental film with an LSTM generated script;\n",
    "- 2016: DeepMind's [WaveNet: A generative model for raw audio](https://www.deepmind.com/blog/wavenet-a-generative-model-for-raw-audio);\n",
    "- 2016: Google's [Smart Reply](https://developers.google.com/ml-kit/language/smart-reply) – automatic generation of short replies to emails and text messages."
   ]
  },
  {
   "cell_type": "markdown",
   "metadata": {
    "id": "Sq1XvsVDa8Wm"
   },
   "source": [
    "- 2019: GPT-2 (1.5 bn): [\"Better Language Models and Their Implications\"](https://openai.com/blog/better-language-models/);\n",
    "- 2020: GPT-3 (175 bn): [\"Language Models are Few-Shot Learners\"](https://arxiv.org/abs/2005.14165), and the [API](https://openai.com/api/);\n",
    "- 2020: [Jukebox](https://openai.com/blog/jukebox/), \"a neural net that generates music, including rudimentary singing, as raw audio\";\n",
    "- 2021-2: OpenAI's [WebGPT](https://openai.com/blog/webgpt/), [InstructGPT](https://openai.com/blog/instruction-following/) and [ChatGPT](https://openai.com/blog/chatgpt/).\n",
    "- 2023: [GPT-4](https://openai.com/research/gpt-4), [Llama 1,2,3,...](https://ai.meta.com/llama/), many more!"
   ]
  },
  {
   "cell_type": "markdown",
   "metadata": {
    "id": "b0K0Eg6xCfw5"
   },
   "source": [
    "Deep learning algorithms can learn a statistical **latent space**: a structured compression or *distillation* of the data.\n",
    "\n",
    "That space, like word embeddings, displays remarkable properties, and *can be explored*!\n",
    "\n",
    "**Sampling from the latent space** 'creates' new artworks similar to the training data.\n",
    "\n",
    "Chollet claims that this removes the barriers of craft and skills, to allow for more straightforward expression.\n",
    "\n",
    "In my own experience, I find that it **shifts** the craft and skills needed elsewhere, rather than removing those."
   ]
  },
  {
   "cell_type": "markdown",
   "metadata": {
    "id": "h7w8WLNCa8Wo"
   },
   "source": [
    "*\"What I cannot create, I don't understand.\"*\n",
    "\n",
    "Richard P. Feynman\n",
    "\n",
    "Perhaps another key motivation for Deep Learning researchers and engineers to pursue the generative route."
   ]
  },
  {
   "cell_type": "markdown",
   "metadata": {
    "id": "Tyry3yiaCfw3",
    "jp-MarkdownHeadingCollapsed": true
   },
   "source": [
    "### The replacement debate"
   ]
  },
  {
   "cell_type": "markdown",
   "metadata": {
    "id": "Tyry3yiaCfw3",
    "jp-MarkdownHeadingCollapsed": true
   },
   "source": [
    "Chollet stands firmly on one end, saying AI will lead to *augmented intelligence*, rather than anything autonomous.\n",
    "\n",
    "Others claim that AGI is already here, and that it will surpass humanity in a blink of an eye."
   ]
  },
  {
   "cell_type": "markdown",
   "metadata": {
    "id": "Tyry3yiaCfw3"
   },
   "source": [
    "#### Question"
   ]
  },
  {
   "cell_type": "markdown",
   "metadata": {
    "id": "Tyry3yiaCfw3",
    "jp-MarkdownHeadingCollapsed": true
   },
   "source": [
    "Players of chess, Go and StarCraft/Dota 2 now live with the idea that there is a machine somewhere that is likely **always** to be better than them. (Apparently chess is more popular than ever!) This certainly does not seem to have happened for the arts, but what if it did? What would be the consequences for art and artists?"
   ]
  },
  {
   "cell_type": "markdown",
   "metadata": {
    "id": "Miffo3gNCfw6",
    "jp-MarkdownHeadingCollapsed": true
   },
   "source": [
    "---\n",
    "\n",
    "## 12.1.2 How do you generate sequence data?"
   ]
  },
  {
   "cell_type": "markdown",
   "metadata": {
    "id": "Miffo3gNCfw6"
   },
   "source": [
    "Train a network to predict the next token(s) in a sequence using the previous tokens as input.\n",
    "\n",
    "Source for tokens:  words, characters, samples, pixels, byte.\n",
    "\n",
    "Any *text-based* model is known as a **language model**.\n",
    "\n",
    "A language model captures the *latent space* of language i.e. its **statistical structure**."
   ]
  },
  {
   "cell_type": "markdown",
   "metadata": {
    "id": "6bhQd9Jia8Wo",
    "jp-MarkdownHeadingCollapsed": true
   },
   "source": [
    "### Auto-regressive generation"
   ]
  },
  {
   "cell_type": "markdown",
   "metadata": {
    "id": "6bhQd9Jia8Wo"
   },
   "source": [
    "<!-- ![Chollet, text generation](images/chollet.auto-regressive.p.367.png) -->\n",
    "<img src=\"https://github.com/jchwenger/AI/blob/main/8-generative-deep-learning/images/chollet.auto-regressive.p.367.png?raw=true\">\n",
    "\n",
    "<small>DLWP, p.368</small>"
   ]
  },
  {
   "cell_type": "markdown",
   "metadata": {
    "id": "R7EX3a5pCfw8",
    "jp-MarkdownHeadingCollapsed": true
   },
   "source": [
    "### Text generation workflow"
   ]
  },
  {
   "cell_type": "markdown",
   "metadata": {
    "id": "R7EX3a5pCfw8"
   },
   "source": [
    "1. Train model;\n",
    "2. Present an initial *conditioning* text string (aka **prompt** or **context**);\n",
    "3. Model predicts the **probability distribution** for the next token;\n",
    "4. Sample from that distribution;\n",
    "4. Add the generated text to the input text;\n",
    "5. Go back to step 3."
   ]
  },
  {
   "cell_type": "markdown",
   "metadata": {
    "id": "TWudCgc8Cfw9",
    "jp-MarkdownHeadingCollapsed": true
   },
   "source": [
    "---\n",
    "\n",
    "## 12.1.3 The importance of the sampling strategy"
   ]
  },
  {
   "cell_type": "markdown",
   "metadata": {
    "id": "TWudCgc8Cfw9"
   },
   "source": [
    "The **vanilla** way would be just to sample from the softmax output of the model (a probability distribution over the vocab).\n",
    "\n",
    "This is already smarter than **uniform sampling**, where each token has the same probability (maximum randomness)!\n",
    "\n",
    "However, we can actually vary the softmax itself (the shape of the probability), to **increase** or **decrease** the level of randomness.\n",
    "\n",
    "These *intermediate levels of randomness* are controlled by the **softmax temperature** – a fundamental tool for more interesting, creative outputs."
   ]
  },
  {
   "cell_type": "markdown",
   "metadata": {
    "id": "NVcwDLG2a8Wp"
   },
   "source": [
    "#### Greedy sampling"
   ]
  },
  {
   "cell_type": "markdown",
   "metadata": {
    "id": "NVcwDLG2a8Wp"
   },
   "source": [
    "Always select the **most probable** step. This is called greedy because it is *exactly* the problem you face in real life: pick the best option **now** (= highest reward in the next step) vs have a more long-term strategy (which brings more payoffs in nearly every case)."
   ]
  },
  {
   "cell_type": "markdown",
   "metadata": {
    "id": "kptTYEU3Cfw_",
    "jp-MarkdownHeadingCollapsed": true
   },
   "source": [
    "#### Softmax temperature"
   ]
  },
  {
   "cell_type": "markdown",
   "metadata": {
    "id": "kptTYEU3Cfw_"
   },
   "source": [
    "Remember, the softmax function is:\n",
    "\n",
    "$$\n",
    "\\bbox[5px,border:2px solid red]\n",
    "{\n",
    "\\text{softmax}(x_i) = \\frac{e^{x_i}}{\\sum_i e^{x_i}}\n",
    "}\n",
    "$$\n",
    "\n",
    "$x_i$: logits (scores) for each token in our vocabulary.\n",
    "\n",
    "\n",
    "It makes all numbers positive and normalises them (all lie between 0 and one and sum to 1) → they are turned into a **probability distribution**."
   ]
  },
  {
   "cell_type": "markdown",
   "metadata": {
    "id": "oyUt2wNRCfxA"
   },
   "source": [
    "The parameterised softmax distribution adds a number $T$ like so:\n",
    "\n",
    "$$\n",
    "\\bbox[5px,border:2px solid red]\n",
    "{\n",
    "\\text{softmax}(x_i) = \\frac{e^{\\frac{x_i}{T}}}{\\sum_i e^{\\frac{x_i}{T}}}\n",
    "}\n",
    "$$"
   ]
  },
  {
   "cell_type": "markdown",
   "metadata": {
    "id": "oyUt2wNRCfxA"
   },
   "source": [
    "##### Usual values for $T$"
   ]
  },
  {
   "cell_type": "markdown",
   "metadata": {
    "id": "oyUt2wNRCfxA"
   },
   "source": [
    "Depends on the model!\n",
    "\n",
    "Around 0.9 (most of the time above 0.7, rarely above 1. unless you yearn for delirium!)"
   ]
  },
  {
   "cell_type": "markdown",
   "metadata": {
    "id": "nNZBLuAiCfxA"
   },
   "source": [
    "##### Implementation"
   ]
  },
  {
   "cell_type": "markdown",
   "metadata": {
    "id": "nNZBLuAiCfxA"
   },
   "source": [
    "##### Reweighting a probability distribution to a different temperature"
   ]
  },
  {
   "cell_type": "markdown",
   "metadata": {
    "id": "nNZBLuAiCfxA"
   },
   "source": [
    "Note that here we use the `log` to (half-)revert the effect of the softmax that the model operates already on its final logits.  In other architectures, the model outputs pre-softmax logits, so you do not need that step and directly divide by the temperature."
   ]
  },
  {
   "cell_type": "code",
   "execution_count": 3,
   "metadata": {
    "id": "rK9TFPGCCfxB"
   },
   "outputs": [],
   "source": [
    "def reweight_distribution(original_distribution, temperature=0.5):\n",
    "    \"\"\"\n",
    "    1.a LOG: because `original_distribution` has been softmaxed! (Numerical stability)\n",
    "      b divide by TEMPERATURE: our reweighting\n",
    "    2. SOFTMAX: a. exponentiate\n",
    "                b. divide by the total\n",
    "\n",
    "    Notes:\n",
    "        - In many implementations, the log isn't there because the model returns\n",
    "          logits (before softmax)\n",
    "        - the last two lines could also be written: `tf.nn.softmax(distribution)`!\n",
    "    \"\"\"\n",
    "    distribution = np.log(original_distribution) / temperature # 1.a + b\n",
    "    distribution = np.exp(distribution)                        # 2.a\n",
    "    return distribution / np.sum(distribution)                 # 2.b\n"
   ]
  },
  {
   "cell_type": "markdown",
   "metadata": {
    "id": "2D_MXRZNCfxB",
    "jp-MarkdownHeadingCollapsed": true
   },
   "source": [
    "#### Temperature: limit cases"
   ]
  },
  {
   "cell_type": "markdown",
   "metadata": {
    "id": "2D_MXRZNCfxB"
   },
   "source": [
    "1. $T \\rightarrow 0$:  \n",
    "    $\\frac{x_i}{T} \\rightarrow \\infty$ so $e^{\\frac{x_i}{T}} \\rightarrow \\infty$, so the highest probability dominates and the $softmax(x_i)$ becomes just $max(x_i)$: the maximum probability dominates – also known as **greedy sampling**;    \n",
    "    *If the temperature is too low, the model will tend to repeat itself!* (more 'conservative', less creative)...  \n",
    "    \n",
    "    \n",
    "    \n",
    "2. $T \\rightarrow \\infty$:  \n",
    "    $\\frac{x_i}{T} \\rightarrow 0$ so $e^{\\frac{x_i}{T}} \\rightarrow 1$ so $q_i \\rightarrow \\frac{1}{M}$ where $M$ is the number of softmax outputs – a **uniform distribution** (our well-known **random guess**);  \n",
    "    *If the temperature is too high, the model will tend to 'derail' and stop making sense!*  \n",
    "    (The formalisation of the link between creativity and madness?) Σ(▼□▼メ)...\n",
    "    "
   ]
  },
  {
   "cell_type": "markdown",
   "metadata": {
    "jp-MarkdownHeadingCollapsed": true
   },
   "source": [
    "##### Plotting the effect of softmax temperature"
   ]
  },
  {
   "cell_type": "code",
   "execution_count": 4,
   "metadata": {
    "id": "P88oI5OHa8Wp"
   },
   "outputs": [],
   "source": [
    "def plot_softmax_temperature():\n",
    "    nums = tf.random.uniform(shape=(10,))                           # ten random numbers\n",
    "    nums = tf.math.log(nums)                                        # take the log (optional)\n",
    "    probs = tf.nn.softmax(nums)                                     # turned into probabilities\n",
    "\n",
    "    fig, ((ax1, ax2), (ax3, ax4), (ax5, ax6)) = plt.subplots(3,2, figsize=(16,12))\n",
    "\n",
    "    ax1.bar([str(x) for x in range(nums.shape[0])], nums)           # our ten numbers\n",
    "    ax1.set_title(\"Log of ten random numbers\")\n",
    "    ax1.set_ylabel(\"Original range\")\n",
    "\n",
    "    ax2.bar([str(x) for x in range(probs.shape[0])], probs)         # the probabilities\n",
    "    ax2.set_title(\"Turned into probabilities\")\n",
    "    ax2.set_ylabel(\"From zero to one\")\n",
    "    ax2.set_ylim([0,1])\n",
    "\n",
    "    temp = 0.1                                                      # LOW temperature → very unequal/spiked results\n",
    "    weighted_nums = nums / temp                                     # reweighting\n",
    "    probs = tf.nn.softmax(weighted_nums)                            # turned into probabilities\n",
    "\n",
    "    ax3.bar([str(x) for x in range(probs.shape[0])], weighted_nums) # the probabilities\n",
    "    ax3.set_title(f\"Reweigted by temperature {temp}\")\n",
    "    ax3.set_ylabel(\"Increased range\")\n",
    "\n",
    "    ax4.bar([str(x) for x in range(probs.shape[0])], probs)         # the probabilities\n",
    "    ax4.set_title(\"The distribution is more spiked: likelier tokens will almost always get picked\")\n",
    "    ax4.set_ylabel(\"From zero to one\")\n",
    "    ax4.set_ylim([0,1])\n",
    "\n",
    "    temp = 10                                                       # HIGH temperature → very equal/flat results\n",
    "    weighted_nums = nums / temp                                     # reweighting\n",
    "    probs = tf.nn.softmax(weighted_nums)                            # turned into probabilities\n",
    "\n",
    "    ax5.bar([str(x) for x in range(probs.shape[0])], weighted_nums) # the probabilities\n",
    "    ax5.set_title(f\"Reweigted by temperature {temp}\")\n",
    "    ax5.set_ylabel(\"reduced range\")\n",
    "\n",
    "    ax6.bar([str(x) for x in range(probs.shape[0])], probs)         # the probabilities\n",
    "    ax6.set_title(\"The distribution is more flat: less likely tokens will be picked alongside likelier ones\")\n",
    "    ax6.set_ylabel(\"From zero to one\")\n",
    "    ax6.set_ylim([0,1])\n",
    "\n",
    "    plt.show()"
   ]
  },
  {
   "cell_type": "code",
   "execution_count": 5,
   "metadata": {
    "colab": {
     "base_uri": "https://localhost:8080/",
     "height": 860
    },
    "id": "NximGWbkCfxC",
    "outputId": "6948ef87-dfb3-434b-eb85-985a39e3bf17"
   },
   "outputs": [
    {
     "data": {
      "image/png": "[encoded data removed]",
      "text/plain": [
       "<Figure size 1600x1200 with 6 Axes>"
      ]
     },
     "metadata": {},
     "output_type": "display_data"
    }
   ],
   "source": [
    "plot_softmax_temperature()"
   ]
  },
  {
   "cell_type": "markdown",
   "metadata": {
    "id": "ipbRGxxNCfxD",
    "jp-MarkdownHeadingCollapsed": true
   },
   "source": [
    "#### More Sampling"
   ]
  },
  {
   "cell_type": "markdown",
   "metadata": {
    "id": "ipbRGxxNCfxD"
   },
   "source": [
    "Sampling is usually combined with more techniques (it's an active area of research, as usual)\n",
    "\n",
    "- **Beam search**: generate several branches and iteratively select only the n best ones\n",
    "- **Top k sampling** (in the [GPT-2 paper](https://cdn.openai.com/better-language-models/language_models_are_unsupervised_multitask_learners.pdf)): sample among the most k probable tokens, reapply softmax, sample from them only\n",
    "- [**Top p (nucleus) sampling**](https://arxiv.org/abs/1904.09751): sample among the most probable token which, combined, amount to a probability of p.\n",
    "\n",
    "See [Patrick von Platen, \"How to generate text: using different decoding methods for language generation with Transformers\"](https://huggingface.co/blog/how-to-generate)."
   ]
  },
  {
   "attachments": {},
   "cell_type": "markdown",
   "metadata": {
    "id": "ipbRGxxNCfxD"
   },
   "source": [
    "**Beam Search**: keep the `n_beams` most likely next steps at each step, and regenerate `n_beams` only from those, dropping the less likely branches. As you can see, in the case below, greedy search would not have found the .9, since it wouldn't have selected the .4 path in the first round.\n",
    "\n",
    "<!-- ![beam search](images/beam_search.png) -->\n",
    "\n",
    "![beam search](https://github.com/jchwenger/AI/blob/main/8-generative-deep-learning/images/beam_search.png?raw=true)\n",
    "\n",
    "<small>Source [Patrick von Platen, \"How to generate text: using different decoding methods for language generation with Transformers\"](https://huggingface.co/blog/how-to-generate)</small>\n",
    "\n",
    "\n",
    "**Top K**: now matter how many tokens are likely or not, we sample from the same amount.\n",
    "\n",
    "<!-- ![top k sampling](images/top_k_sampling.png) -->\n",
    "\n",
    "![top k sampling](https://github.com/jchwenger/AI/blob/main/8-generative-deep-learning/images/top_k_sampling.png?raw=true)\n",
    "<small>Source [Patrick von Platen, \"How to generate text: using different decoding methods for language generation with Transformers\"](https://huggingface.co/blog/how-to-generate)</small>\n",
    "\n",
    "**Top p**: if only a few next tokens are likely, we sample from those.\n",
    "\n",
    "<!-- ![top p sampling](images/top_p_sampling.png) -->\n",
    "\n",
    "![top p sampling](https://github.com/jchwenger/AI/blob/main/8-generative-deep-learning/images/top_p_sampling.png?raw=true)\n",
    "\n",
    "<small>Source [Patrick von Platen, \"How to generate text: using different decoding methods for language generation with Transformers\"](https://huggingface.co/blog/how-to-generate)</small>"
   ]
  },
  {
   "cell_type": "markdown",
   "metadata": {
    "id": "ipbRGxxNCfxD"
   },
   "source": [
    "To go even further:\n",
    "\n",
    "- [min p sampling](https://arxiv.org/abs/2407.01082) ([video](https://www.youtube.com/watch?v=LTf_SJOQH4s)): take the top probability, multiply it by a value (e.g. `0.2`, 20% of that), and use the result as a threshold (any token with less probability than that is discarded)\n",
    "- [top a sampling](https://github.com/BlinkDL/RWKV-LM/tree/4cb363e5aa31978d801a47bc89d28e927ab6912e?tab=readme-ov-file#the-top-a-sampling-method): same idea as *min p*, except the threshold is computed using $\\alpha * \\text{top-prob}^\\beta$, with $\\text{top-prob}$ being the top probability among our tokens, $\\alpha\\ (= 0.2)$ and $\\beta\\ (=2)$ as hyperparameters\n",
    "- [locally typical sampling](https://arxiv.org/abs/2202.00666) ([video](https://www.youtube.com/watch?v=_EDr3ryrT_Y&pp=ygUYdHlwaWNhbCBzYW1wbGluZyBraWxjaGVy) & [interview](https://www.youtube.com/watch?v=AvHLJqtmQkE)): sample only from tokens with an expected information content close to the conditional entropy of the model"
   ]
  },
  {
   "cell_type": "markdown",
   "metadata": {
    "id": "Op6HG94LCfxE",
    "jp-MarkdownHeadingCollapsed": true
   },
   "source": [
    "---\n",
    "\n",
    "## 12.1.4 Implementing text generation with Keras"
   ]
  },
  {
   "cell_type": "markdown",
   "metadata": {
    "jp-MarkdownHeadingCollapsed": true
   },
   "source": [
    "#### Dataset loading & processing"
   ]
  },
  {
   "cell_type": "code",
   "execution_count": 6,
   "metadata": {
    "id": "4KK4l2eAC7Zu"
   },
   "outputs": [],
   "source": [
    "DATASET_DIR = pathlib.Path(\"text-generation\")\n",
    "if not DATASET_DIR.is_dir():\n",
    "    DATASET_DIR.mkdir(exist_ok=True)\n",
    "\n",
    "TEXT_DIR = pathlib.Path(DATASET_DIR / \"dataset\")\n",
    "if not TEXT_DIR.is_dir():\n",
    "    TEXT_DIR.mkdir(exist_ok=True)"
   ]
  },
  {
   "cell_type": "code",
   "execution_count": 7,
   "metadata": {
    "colab": {
     "base_uri": "https://localhost:8080/"
    },
    "id": "F270mwFTa8Wq",
    "outputId": "e787a066-8516-4f6b-b1e3-c5261dde0033",
    "tags": []
   },
   "outputs": [
    {
     "name": "stdout",
     "output_type": "stream",
     "text": [
      "Downloading data from https://storage.googleapis.com/download.tensorflow.org/data/shakespeare.txt\n",
      "\u001b[1m1115394/1115394\u001b[0m \u001b[32m━━━━━━━━━━━━━━━━━━━━\u001b[0m\u001b[37m\u001b[0m \u001b[1m1s\u001b[0m 1us/step\n",
      "\n",
      "Length of text: 1,115,394 characters\n",
      "\n",
      "First Citizen:\n",
      "Before we proceed any further, hear me speak.\n",
      "\n",
      "All:\n",
      "Speak, speak.\n",
      "\n",
      "First Citizen:\n",
      "You are all resolved rather to die than to famish?\n",
      "\n",
      "All:\n",
      "Resolved. resolved.\n",
      "\n",
      "First Citizen:\n",
      "First, you know Caius Marcius is chief enemy to the people.\n",
      "\n"
     ]
    }
   ],
   "source": [
    "PATH_TO_FILE = tf.keras.utils.get_file(\n",
    "    'min-shakespeare.txt',\n",
    "    'https://storage.googleapis.com/download.tensorflow.org/data/shakespeare.txt',\n",
    "    cache_dir=DATASET_DIR,\n",
    "    cache_subdir=TEXT_DIR.name\n",
    ")\n",
    "\n",
    "# Read, then decode for py2 compat.\n",
    "with open(PATH_TO_FILE, 'rb') as i:\n",
    "    text = i.read().decode(encoding='utf-8')\n",
    "\n",
    "# length of text is the number of characters in it\n",
    "print()\n",
    "print(f'Length of text: {len(text):,} characters')\n",
    "\n",
    "print()\n",
    "print(text[:250])"
   ]
  },
  {
   "cell_type": "code",
   "execution_count": 8,
   "metadata": {
    "id": "9XMR8g2Za8Wq"
   },
   "outputs": [],
   "source": [
    "text_vectorization = tf.keras.layers.TextVectorization( # note that we don't limit our vocab size here (no need)!\n",
    "    standardize=None,\n",
    "    split=\"character\",\n",
    "    output_mode=\"int\",\n",
    ")\n",
    "\n",
    "text_vectorization.adapt([text])\n",
    "\n",
    "TOKEN_INDEX = dict(enumerate(text_vectorization.get_vocabulary()))\n",
    "VOCAB_SIZE = len(text_vectorization.get_vocabulary())   # retrieve the vocab size afterwards"
   ]
  },
  {
   "cell_type": "code",
   "execution_count": 9,
   "metadata": {
    "colab": {
     "base_uri": "https://localhost:8080/"
    },
    "id": "YV3BdvCaa8Wq",
    "outputId": "31c76996-2332-4add-c912-7bf593b6dfd2"
   },
   "outputs": [
    {
     "name": "stdout",
     "output_type": "stream",
     "text": [
      "b'First Citizen:\\nBefore we proceed any further, hear me speak.\\n\\nAll:\\nSpeak, speak.\\n\\nFirst Citizen:\\nYou are all resolved rather to die than to famish?\\n\\nAll:\\nResolved. resolved.\\n\\nFirst Citizen:\\nFirst, you know Caius Marcius is chief enemy to the people.\\n'\n"
     ]
    }
   ],
   "source": [
    "lm_dataset_raw = tf.data.Dataset.from_tensor_slices([text])\n",
    "\n",
    "for t in lm_dataset_raw:\n",
    "    print(t.numpy()[:250])"
   ]
  },
  {
   "cell_type": "code",
   "execution_count": 10,
   "metadata": {
    "colab": {
     "base_uri": "https://localhost:8080/"
    },
    "id": "dfedB1fga8Wr",
    "outputId": "c440115e-b202-48ff-c184-29e8c0a14418"
   },
   "outputs": [
    {
     "name": "stdout",
     "output_type": "stream",
     "text": [
      "tf.Tensor([51 11  9 ... 22 27 12], shape=(1115394,), dtype=int64)\n"
     ]
    }
   ],
   "source": [
    "lm_dataset_tok = lm_dataset_raw.map(text_vectorization)\n",
    "\n",
    "for t in lm_dataset_tok:\n",
    "    print(t)\n",
    "    DATASET_LENGTH = t.shape[0]"
   ]
  },
  {
   "cell_type": "code",
   "execution_count": 11,
   "metadata": {
    "colab": {
     "base_uri": "https://localhost:8080/"
    },
    "id": "pTge0ulTa8Wr",
    "outputId": "02b95e07-1b81-4c2d-eda2-84a992ad3bf1"
   },
   "outputs": [
    {
     "name": "stdout",
     "output_type": "stream",
     "text": [
      "tf.Tensor(51, shape=(), dtype=int64)\n",
      "tf.Tensor(11, shape=(), dtype=int64)\n"
     ]
    }
   ],
   "source": [
    "# Flatten the dataset of one long tensor into a dataset of individual tokens (ChatGPT 4 12/23)\n",
    "lm_dataset_flat = lm_dataset_tok.flat_map(\n",
    "    lambda x: tf.data.Dataset.from_tensor_slices(x)\n",
    ")\n",
    "for t in lm_dataset_flat.take(2):\n",
    "    print(t)"
   ]
  },
  {
   "cell_type": "code",
   "execution_count": 12,
   "metadata": {
    "colab": {
     "base_uri": "https://localhost:8080/"
    },
    "id": "viU7uczoa8Wr",
    "outputId": "b93a621e-9965-4c8f-cf91-34322461e469"
   },
   "outputs": [
    {
     "name": "stdout",
     "output_type": "stream",
     "text": [
      "tf.Tensor(\n",
      "[51 11  9  8  4  2 39 11  4 11 59  3 10 26 12 45  3 20  5  9  3  2 19  3\n",
      "  2 25  9  5 21  3  3 14  2  6 10 17  2 20 15  9  4  7  3  9 18  2  7  3\n",
      "  6  9  2 16  3  2  8 25  3  6 30 27 12 12 28 13 13 26 12 37 25  3  6 30\n",
      " 18  2  8 25  3  6 30 27 12 12 51 11  9  8  4  2 39 11  4 11 59  3 10 26\n",
      " 12 52  5 15  2], shape=(101,), dtype=int64)\n"
     ]
    }
   ],
   "source": [
    "SEQUENCE_LENGTH = 100\n",
    "\n",
    "lm_dataset_seqs = lm_dataset_flat.batch(\n",
    "    SEQUENCE_LENGTH + 1,\n",
    "    drop_remainder=True\n",
    ")\n",
    "\n",
    "for t in lm_dataset_seqs.take(1):\n",
    "    print(t)"
   ]
  },
  {
   "cell_type": "code",
   "execution_count": 13,
   "metadata": {
    "colab": {
     "base_uri": "https://localhost:8080/"
    },
    "id": "NR1SAPxLa8Wr",
    "outputId": "58dc1c56-f7f6-4f0e-d7ae-36946bfa773d"
   },
   "outputs": [
    {
     "name": "stdout",
     "output_type": "stream",
     "text": [
      "(64, 101)\n"
     ]
    }
   ],
   "source": [
    "# Batch size\n",
    "BATCH_SIZE = 64\n",
    "\n",
    "# Buffer size to shuffle the dataset\n",
    "# (TF data is designed to work with possibly infinite sequences,\n",
    "# so it doesn't attempt to shuffle the entire sequence in memory. Instead,\n",
    "# it maintains a buffer in which it shuffles elements).\n",
    "BUFFER_SIZE = 10000\n",
    "\n",
    "lm_dataset_batched = (\n",
    "    lm_dataset_seqs\n",
    "        .repeat()\n",
    "        .shuffle(BUFFER_SIZE)\n",
    "        .batch(BATCH_SIZE, drop_remainder=True)\n",
    "        .prefetch(tf.data.experimental.AUTOTUNE)\n",
    ")\n",
    "\n",
    "for t in lm_dataset_batched.take(1):\n",
    "    print(t.shape)"
   ]
  },
  {
   "cell_type": "code",
   "execution_count": 14,
   "metadata": {
    "id": "u9thvr9vCfxN"
   },
   "outputs": [],
   "source": [
    "def prepare_lm_dataset(tokens_batch):\n",
    "    x = tokens_batch[:, :-1]  # [a b c d e f g] the model predicts top to bottom,\n",
    "    y = tokens_batch[:, 1:]   # [b c d e f g h] a → b, a b → c, a b c → d, ..., in one go!\n",
    "    return x, y\n",
    "\n",
    "lm_dataset = lm_dataset_batched.map(prepare_lm_dataset, num_parallel_calls=4)"
   ]
  },
  {
   "cell_type": "markdown",
   "metadata": {
    "id": "CXFwYleaCfxN",
    "jp-MarkdownHeadingCollapsed": true
   },
   "source": [
    "#### Sequence-to-sequence modelling"
   ]
  },
  {
   "cell_type": "markdown",
   "metadata": {
    "id": "CXFwYleaCfxN"
   },
   "source": [
    "<!-- ![Chollet seq2seq learning](images/chollet.seq2seq-learning.p.372.png) -->\n",
    "\n",
    "<img src=\"https://github.com/jchwenger/AI/blob/main/8-generative-deep-learning/images/chollet.seq2seq-learning.p.372.png?raw=true\">\n",
    "\n",
    "<small>DLWP, p.372</small>"
   ]
  },
  {
   "cell_type": "markdown",
   "metadata": {
    "id": "x91LnsuTb6qh",
    "jp-MarkdownHeadingCollapsed": true
   },
   "source": [
    "#### Positional Embeddings"
   ]
  },
  {
   "cell_type": "code",
   "execution_count": 15,
   "metadata": {
    "id": "IG6wjsJHCfxO"
   },
   "outputs": [],
   "source": [
    "@tf.keras.utils.register_keras_serializable(\"positional_embedding\")\n",
    "class PositionalEmbedding(tf.keras.layers.Layer):\n",
    "    def __init__(self, sequence_length, input_dim, output_dim, **kwargs):\n",
    "        super().__init__(**kwargs)\n",
    "        self.sequence_length = sequence_length\n",
    "        self.input_dim = input_dim\n",
    "        self.output_dim = output_dim\n",
    "\n",
    "    # new in Keras 3, see: https://keras.io/guides/making_new_layers_and_models_via_subclassing/#best-practice-deferring-weight-creation-until-the-shape-of-the-inputs-is-known\n",
    "    # See also here: https://github.com/keras-team/keras-nlp/blob/4601d88a61a5d3d15279865769af5155804dd785/keras_nlp/src/layers/modeling/token_and_position_embedding.py#L115\n",
    "    def build(self, input_shape):\n",
    "        # token embeddings: semantic information\n",
    "        self.token_embeddings =tf.keras.layers.Embedding(\n",
    "            input_dim=self.input_dim, output_dim=self.output_dim\n",
    "        )\n",
    "        # position embeddings: syntactic (spatial/temporal) information\n",
    "        self.position_embeddings =tf.keras.layers.Embedding(\n",
    "            input_dim=self.sequence_length, output_dim=self.output_dim\n",
    "        )\n",
    "\n",
    "    def call(self, inputs):\n",
    "        length = tf.shape(inputs)[-1]\n",
    "        embedded_tokens = self.token_embeddings(inputs)\n",
    "        positions = tf.range(start=0, limit=length, delta=1) # delta: step size\n",
    "        embedded_positions = self.position_embeddings(positions)\n",
    "        # both embeddings are simply added together!\n",
    "        return embedded_tokens + embedded_positions\n",
    "\n",
    "    # copied from the source here: https://github.com/keras-team/keras-nlp/blob/4601d88a61a5d3d15279865769af5155804dd785/keras_nlp/src/layers/modeling/token_and_position_embedding.py#L146\n",
    "    def compute_mask(self, inputs, mask=None):\n",
    "        return self.token_embeddings.compute_mask(inputs, mask=mask)\n",
    "\n",
    "    def get_config(self): # retrieve config as a dict\n",
    "        config = super().get_config()\n",
    "        config.update({\n",
    "            \"output_dim\": self.output_dim,\n",
    "            \"sequence_length\": self.sequence_length,\n",
    "            \"input_dim\": self.input_dim,\n",
    "        })\n",
    "        return config\n"
   ]
  },
  {
   "cell_type": "markdown",
   "metadata": {
    "jp-MarkdownHeadingCollapsed": true
   },
   "source": [
    "##### Note: the attention mask"
   ]
  },
  {
   "cell_type": "code",
   "execution_count": 16,
   "metadata": {
    "colab": {
     "base_uri": "https://localhost:8080/"
    },
    "id": "mntQSHWK_-ro",
    "outputId": "f217e060-5929-4e9d-9d79-6c889532c763"
   },
   "outputs": [
    {
     "name": "stdout",
     "output_type": "stream",
     "text": [
      "Inputs:\n",
      "tf.Tensor(\n",
      "[[36 27 28 20 43 40 34 18 23  6]\n",
      " [26 28 16 26 23  5  4 44 29 33]], shape=(2, 10), dtype=int32)\n",
      "\n",
      "i:\n",
      "[[0]\n",
      " [1]\n",
      " [2]\n",
      " [3]\n",
      " [4]\n",
      " [5]\n",
      " [6]\n",
      " [7]\n",
      " [8]\n",
      " [9]]\n",
      "\n",
      "j:\n",
      "[0 1 2 3 4 5 6 7 8 9]\n",
      "\n",
      "Is i >= j? Boolean cast to ints. (Note the broadcasting)\n",
      "\n",
      "tf.Tensor(\n",
      "[[1 0 0 0 0 0 0 0 0 0]\n",
      " [1 1 0 0 0 0 0 0 0 0]\n",
      " [1 1 1 0 0 0 0 0 0 0]\n",
      " [1 1 1 1 0 0 0 0 0 0]\n",
      " [1 1 1 1 1 0 0 0 0 0]\n",
      " [1 1 1 1 1 1 0 0 0 0]\n",
      " [1 1 1 1 1 1 1 0 0 0]\n",
      " [1 1 1 1 1 1 1 1 0 0]\n",
      " [1 1 1 1 1 1 1 1 1 0]\n",
      " [1 1 1 1 1 1 1 1 1 1]], shape=(10, 10), dtype=int32)\n",
      "\n",
      "We want mask to have the same dims as input, using `tf.tile`.\n",
      "Creating the right multiplier for it:\n",
      "\n",
      "tf.Tensor([2 1 1], shape=(3,), dtype=int32)\n",
      "\n",
      "Final mask with batch dimensions:\n",
      "\n",
      "tf.Tensor(\n",
      "[[[1 0 0 0 0 0 0 0 0 0]\n",
      "  [1 1 0 0 0 0 0 0 0 0]\n",
      "  [1 1 1 0 0 0 0 0 0 0]\n",
      "  [1 1 1 1 0 0 0 0 0 0]\n",
      "  [1 1 1 1 1 0 0 0 0 0]\n",
      "  [1 1 1 1 1 1 0 0 0 0]\n",
      "  [1 1 1 1 1 1 1 0 0 0]\n",
      "  [1 1 1 1 1 1 1 1 0 0]\n",
      "  [1 1 1 1 1 1 1 1 1 0]\n",
      "  [1 1 1 1 1 1 1 1 1 1]]\n",
      "\n",
      " [[1 0 0 0 0 0 0 0 0 0]\n",
      "  [1 1 0 0 0 0 0 0 0 0]\n",
      "  [1 1 1 0 0 0 0 0 0 0]\n",
      "  [1 1 1 1 0 0 0 0 0 0]\n",
      "  [1 1 1 1 1 0 0 0 0 0]\n",
      "  [1 1 1 1 1 1 0 0 0 0]\n",
      "  [1 1 1 1 1 1 1 0 0 0]\n",
      "  [1 1 1 1 1 1 1 1 0 0]\n",
      "  [1 1 1 1 1 1 1 1 1 0]\n",
      "  [1 1 1 1 1 1 1 1 1 1]]], shape=(2, 10, 10), dtype=int32)\n"
     ]
    }
   ],
   "source": [
    "def get_causal_attention_mask(inputs):\n",
    "    print(\"Inputs:\")\n",
    "    print(inputs)\n",
    "    print()\n",
    "    input_shape = tf.shape(inputs)\n",
    "    batch_size, sequence_length = input_shape[0], input_shape[1]\n",
    "    i = tf.range(sequence_length)[:, tf.newaxis]\n",
    "    j = tf.range(sequence_length)\n",
    "    print(f\"i:\\n{i}\")\n",
    "    print()\n",
    "    print(f\"j:\\n{j}\")\n",
    "    print()\n",
    "    mask = tf.cast(i >= j, dtype=\"int32\")\n",
    "    print(\"Is i >= j? Boolean cast to ints. (Note the broadcasting)\")\n",
    "    print()\n",
    "    print(mask)\n",
    "    print()\n",
    "    mask = tf.reshape(mask, (1, input_shape[1], input_shape[1])) # adding a batch dimension\n",
    "    mult = tf.concat(\n",
    "        [tf.expand_dims(batch_size, -1),\n",
    "         tf.constant([1, 1], dtype=tf.int32)], axis=0)\n",
    "    print(\"We want mask to have the same dims as input, using `tf.tile`.\")\n",
    "    print(\"Creating the right multiplier for it:\")\n",
    "    print()\n",
    "    print(mult)\n",
    "    print()\n",
    "    tile = tf.tile(mask, mult)\n",
    "    print(\"Final mask with batch dimensions:\")\n",
    "    print()\n",
    "    print(tile)\n",
    "    return tile\n",
    "\n",
    "mask = get_causal_attention_mask(tf.random.uniform(shape=(2,10), maxval=50, dtype=tf.int32))"
   ]
  },
  {
   "cell_type": "markdown",
   "metadata": {
    "id": "x91LnsuTb6qh",
    "jp-MarkdownHeadingCollapsed": true
   },
   "source": [
    "#### The Transformer Decoder"
   ]
  },
  {
   "cell_type": "code",
   "execution_count": 17,
   "metadata": {
    "id": "fu2qWHPzCfxO"
   },
   "outputs": [],
   "source": [
    "@tf.keras.utils.register_keras_serializable(\"transformer_decoder\")\n",
    "class TransformerDecoder(tf.keras.layers.Layer):\n",
    "\n",
    "    # simplified class: we don't need two attention layers as we don't have data\n",
    "    # flowing from an encoder!\n",
    "\n",
    "    def __init__(self, embed_dim, dense_dim, num_heads, **kwargs):\n",
    "        super().__init__(**kwargs)\n",
    "        self.embed_dim = embed_dim                              # parameters\n",
    "        self.dense_dim = dense_dim\n",
    "        self.num_heads = num_heads\n",
    "        self.supports_masking = True                            # MASK: enforcing causality\n",
    "\n",
    "    # new in Keras 3, see: https://keras.io/guides/making_new_layers_and_models_via_subclassing/#best-practice-deferring-weight-creation-until-the-shape-of-the-inputs-is-known\n",
    "    def build(self, input_shape):\n",
    "        self.attention_1 = tf.keras.layers.MultiHeadAttention(  # multi-head attention\n",
    "            num_heads=self.num_heads, key_dim=self.embed_dim\n",
    "        )\n",
    "        self.dense_proj = tf.keras.Sequential(                  # dense layer on top: like a nonlinearity\n",
    "            [tf.keras.layers.Dense(self.dense_dim, activation=\"relu\"),\n",
    "             tf.keras.layers.Dense(self.embed_dim),\n",
    "             tf.keras.layers.Dropout(0.1)]\n",
    "        )\n",
    "        self.layernorm_1 = tf.keras.layers.LayerNormalization() # layer norm\n",
    "        self.layernorm_2 = tf.keras.layers.LayerNormalization()\n",
    "\n",
    "    # retrieve config as a dict (necessary for custom Keras layers)\n",
    "    def get_config(self):\n",
    "        config = super().get_config()\n",
    "        config.update({\n",
    "            \"embed_dim\": self.embed_dim,\n",
    "            \"num_heads\": self.num_heads,\n",
    "            \"dense_dim\": self.dense_dim,\n",
    "        })\n",
    "        return config\n",
    "\n",
    "    def get_causal_attention_mask(self, inputs):\n",
    "        input_shape = tf.shape(inputs)\n",
    "        batch_size, sequence_length = input_shape[0], input_shape[1]\n",
    "        i = tf.range(sequence_length)[:, tf.newaxis]\n",
    "        j = tf.range(sequence_length)\n",
    "        mask = tf.cast(i >= j, dtype=\"int32\")\n",
    "        mask = tf.reshape(mask, (1, input_shape[1], input_shape[1]))\n",
    "        mult = tf.concat(\n",
    "            [tf.expand_dims(batch_size, -1),\n",
    "             tf.constant([1, 1], dtype=tf.int32)], axis=0)\n",
    "        return tf.tile(mask, mult)\n",
    "\n",
    "    def call(self, inputs, mask=None):\n",
    "\n",
    "        # prepare the causal mask\n",
    "        causal_mask = self.get_causal_attention_mask(inputs)\n",
    "\n",
    "        # REGULAR MASKED ATTENTION\n",
    "        attention_output_1 = self.attention_1(\n",
    "            query=inputs,\n",
    "            value=inputs,\n",
    "            key=inputs,\n",
    "            attention_mask=causal_mask) # apply the causal mask\n",
    "\n",
    "        # residual / layer norm\n",
    "        attention_output_1 = self.layernorm_1(inputs + attention_output_1)\n",
    "\n",
    "        # dense net (nonlinearity) / layer norm\n",
    "        proj_output = self.layernorm_2(self.dense_proj(attention_output_1))\n",
    "\n",
    "        # residual\n",
    "        return attention_output_1 + proj_output"
   ]
  },
  {
   "cell_type": "markdown",
   "metadata": {
    "id": "x91LnsuTb6qh",
    "jp-MarkdownHeadingCollapsed": true
   },
   "source": [
    "#### A simple Transformer-based language model"
   ]
  },
  {
   "cell_type": "code",
   "execution_count": 18,
   "metadata": {
    "colab": {
     "base_uri": "https://localhost:8080/"
    },
    "id": "Xe7e1LChCfxQ",
    "outputId": "a1f07cd6-d080-4724-e79e-e687ba1970b0"
   },
   "outputs": [
    {
     "name": "stdout",
     "output_type": "stream",
     "text": [
      "learning rate: 0.001\n"
     ]
    }
   ],
   "source": [
    "EMBED_DIM = 256\n",
    "LATENT_DIM = 2048\n",
    "NUM_HEADS = 2\n",
    "NUM_LAYERS = 5\n",
    "\n",
    "LEARNING_RATE = 0.001\n",
    "print(f\"learning rate: {LEARNING_RATE}\")\n",
    "\n",
    "def build_model(embed_dim, latent_dim, num_heads, num_layers):\n",
    "    inputs = tf.keras.Input(shape=(None,), dtype=\"int64\")\n",
    "    x = PositionalEmbedding(SEQUENCE_LENGTH, VOCAB_SIZE, embed_dim)(inputs)\n",
    "    for _ in range(num_layers):\n",
    "        x = TransformerDecoder(embed_dim, latent_dim, num_heads)(inputs=x) # no encoder input!\n",
    "    outputs =tf.keras.layers.Dense(VOCAB_SIZE, activation=\"softmax\")(x)    # probability distribution over the vocab\n",
    "    model = tf.keras.Model(inputs, outputs)\n",
    "    model.compile(\n",
    "        loss=\"sparse_categorical_crossentropy\",\n",
    "        optimizer=tf.keras.optimizers.RMSprop(LEARNING_RATE),\n",
    "    )\n",
    "    return model\n",
    "\n",
    "model = build_model(EMBED_DIM, LATENT_DIM, NUM_HEADS, NUM_LAYERS)"
   ]
  },
  {
   "cell_type": "code",
   "execution_count": 19,
   "metadata": {
    "colab": {
     "base_uri": "https://localhost:8080/",
     "height": 496
    },
    "id": "Ndx1MK7aa8Wx",
    "outputId": "bf36a525-095b-4290-e16f-530b4b95b182"
   },
   "outputs": [
    {
     "data": {
      "text/html": [
       "<pre style=\"white-space:pre;overflow-x:auto;line-height:normal;font-family:Menlo,'DejaVu Sans Mono',consolas,'Courier New',monospace\"><span style=\"font-weight: bold\">Model: \"functional_5\"</span>\n",
       "</pre>\n"
      ],
      "text/plain": [
       "\u001b[1mModel: \"functional_5\"\u001b[0m\n"
      ]
     },
     "metadata": {},
     "output_type": "display_data"
    },
    {
     "data": {
      "text/html": [
       "<pre style=\"white-space:pre;overflow-x:auto;line-height:normal;font-family:Menlo,'DejaVu Sans Mono',consolas,'Courier New',monospace\">┏━━━━━━━━━━━━━━━━━━━━━━━━━━━━━━━━━━━━━━┳━━━━━━━━━━━━━━━━━━━━━━━━━━━━━┳━━━━━━━━━━━━━━━━━┓\n",
       "┃<span style=\"font-weight: bold\"> Layer (type)                         </span>┃<span style=\"font-weight: bold\"> Output Shape                </span>┃<span style=\"font-weight: bold\">         Param # </span>┃\n",
       "┡━━━━━━━━━━━━━━━━━━━━━━━━━━━━━━━━━━━━━━╇━━━━━━━━━━━━━━━━━━━━━━━━━━━━━╇━━━━━━━━━━━━━━━━━┩\n",
       "│ input_layer (<span style=\"color: #0087ff; text-decoration-color: #0087ff\">InputLayer</span>)             │ (<span style=\"color: #00d7ff; text-decoration-color: #00d7ff\">None</span>, <span style=\"color: #00d7ff; text-decoration-color: #00d7ff\">None</span>)                │               <span style=\"color: #00af00; text-decoration-color: #00af00\">0</span> │\n",
       "├──────────────────────────────────────┼─────────────────────────────┼─────────────────┤\n",
       "│ positional_embedding                 │ (<span style=\"color: #00d7ff; text-decoration-color: #00d7ff\">None</span>, <span style=\"color: #00d7ff; text-decoration-color: #00d7ff\">None</span>, <span style=\"color: #00af00; text-decoration-color: #00af00\">256</span>)           │          <span style=\"color: #00af00; text-decoration-color: #00af00\">42,752</span> │\n",
       "│ (<span style=\"color: #0087ff; text-decoration-color: #0087ff\">PositionalEmbedding</span>)                │                             │                 │\n",
       "├──────────────────────────────────────┼─────────────────────────────┼─────────────────┤\n",
       "│ transformer_decoder                  │ (<span style=\"color: #00d7ff; text-decoration-color: #00d7ff\">None</span>, <span style=\"color: #00d7ff; text-decoration-color: #00d7ff\">None</span>, <span style=\"color: #00af00; text-decoration-color: #00af00\">256</span>)           │       <span style=\"color: #00af00; text-decoration-color: #00af00\">1,577,984</span> │\n",
       "│ (<span style=\"color: #0087ff; text-decoration-color: #0087ff\">TransformerDecoder</span>)                 │                             │                 │\n",
       "├──────────────────────────────────────┼─────────────────────────────┼─────────────────┤\n",
       "│ transformer_decoder_1                │ (<span style=\"color: #00d7ff; text-decoration-color: #00d7ff\">None</span>, <span style=\"color: #00d7ff; text-decoration-color: #00d7ff\">None</span>, <span style=\"color: #00af00; text-decoration-color: #00af00\">256</span>)           │       <span style=\"color: #00af00; text-decoration-color: #00af00\">1,577,984</span> │\n",
       "│ (<span style=\"color: #0087ff; text-decoration-color: #0087ff\">TransformerDecoder</span>)                 │                             │                 │\n",
       "├──────────────────────────────────────┼─────────────────────────────┼─────────────────┤\n",
       "│ transformer_decoder_2                │ (<span style=\"color: #00d7ff; text-decoration-color: #00d7ff\">None</span>, <span style=\"color: #00d7ff; text-decoration-color: #00d7ff\">None</span>, <span style=\"color: #00af00; text-decoration-color: #00af00\">256</span>)           │       <span style=\"color: #00af00; text-decoration-color: #00af00\">1,577,984</span> │\n",
       "│ (<span style=\"color: #0087ff; text-decoration-color: #0087ff\">TransformerDecoder</span>)                 │                             │                 │\n",
       "├──────────────────────────────────────┼─────────────────────────────┼─────────────────┤\n",
       "│ transformer_decoder_3                │ (<span style=\"color: #00d7ff; text-decoration-color: #00d7ff\">None</span>, <span style=\"color: #00d7ff; text-decoration-color: #00d7ff\">None</span>, <span style=\"color: #00af00; text-decoration-color: #00af00\">256</span>)           │       <span style=\"color: #00af00; text-decoration-color: #00af00\">1,577,984</span> │\n",
       "│ (<span style=\"color: #0087ff; text-decoration-color: #0087ff\">TransformerDecoder</span>)                 │                             │                 │\n",
       "├──────────────────────────────────────┼─────────────────────────────┼─────────────────┤\n",
       "│ transformer_decoder_4                │ (<span style=\"color: #00d7ff; text-decoration-color: #00d7ff\">None</span>, <span style=\"color: #00d7ff; text-decoration-color: #00d7ff\">None</span>, <span style=\"color: #00af00; text-decoration-color: #00af00\">256</span>)           │       <span style=\"color: #00af00; text-decoration-color: #00af00\">1,577,984</span> │\n",
       "│ (<span style=\"color: #0087ff; text-decoration-color: #0087ff\">TransformerDecoder</span>)                 │                             │                 │\n",
       "├──────────────────────────────────────┼─────────────────────────────┼─────────────────┤\n",
       "│ dense_10 (<span style=\"color: #0087ff; text-decoration-color: #0087ff\">Dense</span>)                     │ (<span style=\"color: #00d7ff; text-decoration-color: #00d7ff\">None</span>, <span style=\"color: #00d7ff; text-decoration-color: #00d7ff\">None</span>, <span style=\"color: #00af00; text-decoration-color: #00af00\">67</span>)            │          <span style=\"color: #00af00; text-decoration-color: #00af00\">17,219</span> │\n",
       "└──────────────────────────────────────┴─────────────────────────────┴─────────────────┘\n",
       "</pre>\n"
      ],
      "text/plain": [
       "┏━━━━━━━━━━━━━━━━━━━━━━━━━━━━━━━━━━━━━━┳━━━━━━━━━━━━━━━━━━━━━━━━━━━━━┳━━━━━━━━━━━━━━━━━┓\n",
       "┃\u001b[1m \u001b[0m\u001b[1mLayer (type)                        \u001b[0m\u001b[1m \u001b[0m┃\u001b[1m \u001b[0m\u001b[1mOutput Shape               \u001b[0m\u001b[1m \u001b[0m┃\u001b[1m \u001b[0m\u001b[1m        Param #\u001b[0m\u001b[1m \u001b[0m┃\n",
       "┡━━━━━━━━━━━━━━━━━━━━━━━━━━━━━━━━━━━━━━╇━━━━━━━━━━━━━━━━━━━━━━━━━━━━━╇━━━━━━━━━━━━━━━━━┩\n",
       "│ input_layer (\u001b[38;5;33mInputLayer\u001b[0m)             │ (\u001b[38;5;45mNone\u001b[0m, \u001b[38;5;45mNone\u001b[0m)                │               \u001b[38;5;34m0\u001b[0m │\n",
       "├──────────────────────────────────────┼─────────────────────────────┼─────────────────┤\n",
       "│ positional_embedding                 │ (\u001b[38;5;45mNone\u001b[0m, \u001b[38;5;45mNone\u001b[0m, \u001b[38;5;34m256\u001b[0m)           │          \u001b[38;5;34m42,752\u001b[0m │\n",
       "│ (\u001b[38;5;33mPositionalEmbedding\u001b[0m)                │                             │                 │\n",
       "├──────────────────────────────────────┼─────────────────────────────┼─────────────────┤\n",
       "│ transformer_decoder                  │ (\u001b[38;5;45mNone\u001b[0m, \u001b[38;5;45mNone\u001b[0m, \u001b[38;5;34m256\u001b[0m)           │       \u001b[38;5;34m1,577,984\u001b[0m │\n",
       "│ (\u001b[38;5;33mTransformerDecoder\u001b[0m)                 │                             │                 │\n",
       "├──────────────────────────────────────┼─────────────────────────────┼─────────────────┤\n",
       "│ transformer_decoder_1                │ (\u001b[38;5;45mNone\u001b[0m, \u001b[38;5;45mNone\u001b[0m, \u001b[38;5;34m256\u001b[0m)           │       \u001b[38;5;34m1,577,984\u001b[0m │\n",
       "│ (\u001b[38;5;33mTransformerDecoder\u001b[0m)                 │                             │                 │\n",
       "├──────────────────────────────────────┼─────────────────────────────┼─────────────────┤\n",
       "│ transformer_decoder_2                │ (\u001b[38;5;45mNone\u001b[0m, \u001b[38;5;45mNone\u001b[0m, \u001b[38;5;34m256\u001b[0m)           │       \u001b[38;5;34m1,577,984\u001b[0m │\n",
       "│ (\u001b[38;5;33mTransformerDecoder\u001b[0m)                 │                             │                 │\n",
       "├──────────────────────────────────────┼─────────────────────────────┼─────────────────┤\n",
       "│ transformer_decoder_3                │ (\u001b[38;5;45mNone\u001b[0m, \u001b[38;5;45mNone\u001b[0m, \u001b[38;5;34m256\u001b[0m)           │       \u001b[38;5;34m1,577,984\u001b[0m │\n",
       "│ (\u001b[38;5;33mTransformerDecoder\u001b[0m)                 │                             │                 │\n",
       "├──────────────────────────────────────┼─────────────────────────────┼─────────────────┤\n",
       "│ transformer_decoder_4                │ (\u001b[38;5;45mNone\u001b[0m, \u001b[38;5;45mNone\u001b[0m, \u001b[38;5;34m256\u001b[0m)           │       \u001b[38;5;34m1,577,984\u001b[0m │\n",
       "│ (\u001b[38;5;33mTransformerDecoder\u001b[0m)                 │                             │                 │\n",
       "├──────────────────────────────────────┼─────────────────────────────┼─────────────────┤\n",
       "│ dense_10 (\u001b[38;5;33mDense\u001b[0m)                     │ (\u001b[38;5;45mNone\u001b[0m, \u001b[38;5;45mNone\u001b[0m, \u001b[38;5;34m67\u001b[0m)            │          \u001b[38;5;34m17,219\u001b[0m │\n",
       "└──────────────────────────────────────┴─────────────────────────────┴─────────────────┘\n"
      ]
     },
     "metadata": {},
     "output_type": "display_data"
    },
    {
     "data": {
      "text/html": [
       "<pre style=\"white-space:pre;overflow-x:auto;line-height:normal;font-family:Menlo,'DejaVu Sans Mono',consolas,'Courier New',monospace\"><span style=\"font-weight: bold\"> Total params: </span><span style=\"color: #00af00; text-decoration-color: #00af00\">7,949,891</span> (30.33 MB)\n",
       "</pre>\n"
      ],
      "text/plain": [
       "\u001b[1m Total params: \u001b[0m\u001b[38;5;34m7,949,891\u001b[0m (30.33 MB)\n"
      ]
     },
     "metadata": {},
     "output_type": "display_data"
    },
    {
     "data": {
      "text/html": [
       "<pre style=\"white-space:pre;overflow-x:auto;line-height:normal;font-family:Menlo,'DejaVu Sans Mono',consolas,'Courier New',monospace\"><span style=\"font-weight: bold\"> Trainable params: </span><span style=\"color: #00af00; text-decoration-color: #00af00\">7,949,891</span> (30.33 MB)\n",
       "</pre>\n"
      ],
      "text/plain": [
       "\u001b[1m Trainable params: \u001b[0m\u001b[38;5;34m7,949,891\u001b[0m (30.33 MB)\n"
      ]
     },
     "metadata": {},
     "output_type": "display_data"
    },
    {
     "data": {
      "text/html": [
       "<pre style=\"white-space:pre;overflow-x:auto;line-height:normal;font-family:Menlo,'DejaVu Sans Mono',consolas,'Courier New',monospace\"><span style=\"font-weight: bold\"> Non-trainable params: </span><span style=\"color: #00af00; text-decoration-color: #00af00\">0</span> (0.00 B)\n",
       "</pre>\n"
      ],
      "text/plain": [
       "\u001b[1m Non-trainable params: \u001b[0m\u001b[38;5;34m0\u001b[0m (0.00 B)\n"
      ]
     },
     "metadata": {},
     "output_type": "display_data"
    }
   ],
   "source": [
    "model.summary()"
   ]
  },
  {
   "cell_type": "markdown",
   "metadata": {
    "id": "dY-Pht-mCfxR",
    "jp-MarkdownHeadingCollapsed": true
   },
   "source": [
    "---\n",
    "\n",
    "## 12.1.5 A text-generation callback with variable-temperature sampling"
   ]
  },
  {
   "cell_type": "code",
   "execution_count": 20,
   "metadata": {
    "id": "blhkdIjvCfxR"
   },
   "outputs": [],
   "source": [
    "def sample_next(predictions, temperature=1.0):\n",
    "    predictions = np.asarray(predictions).astype(\"float64\")\n",
    "    predictions = np.log(predictions) / temperature                 # temperature reweighting\n",
    "    exp_preds = np.exp(predictions)                                 # these two lines are actually\n",
    "    predictions = exp_preds / np.sum(exp_preds)                     # a softmax\n",
    "    probas = np.random.multinomial(1, predictions, 1)               # sampling using our probabilities\n",
    "    return np.argmax(probas)\n",
    "\n",
    "class TextGenerator(tf.keras.callbacks.Callback):\n",
    "    def __init__(self,\n",
    "                 prompt,                                            # initial context\n",
    "                 generate_length,                                   # how many words to generate\n",
    "                 seq_length,\n",
    "                 temperatures=(1.,),                                # a range of different temperatures\n",
    "                 print_every=50):\n",
    "        self.prompt = prompt\n",
    "        self.generate_length = generate_length\n",
    "        self.seq_length = seq_length\n",
    "        self.temperatures = temperatures\n",
    "        self.print_every = print_every\n",
    "\n",
    "    def on_epoch_end(self, epoch, logs=None):\n",
    "        if epoch == 0 or (epoch + 1) % self.print_every == 0:\n",
    "            print()\n",
    "            print()\n",
    "            print(\"EPOCH\", epoch + 1)\n",
    "            print()\n",
    "            print(\"-\" * 40)\n",
    "            for temperature in self.temperatures:\n",
    "                msg = f\"temperature {temperature}\"\n",
    "                print(msg)\n",
    "                print(\"-\" * len(msg))\n",
    "                # TODO: write the optimised version that does not convert back and forth\n",
    "                #       from tokens to strings during generation (the current version could\n",
    "                #       however be used to print the string as it is being generated, with a \n",
    "                #       'typerwriter effect'...)\n",
    "                sentence = self.prompt                                                      # start with our prompt\n",
    "                for i in range(self.generate_length):\n",
    "                    tokenized_sentence = text_vectorization([sentence])                     # encode the sentence & feed to the model\n",
    "                    predictions = self.model(tokenized_sentence[:, - self.seq_length + 1:]) # which gives us predictions (crop to seq_len!)\n",
    "                    next_token = sample_next(predictions[0, -1, :])                         # use these to sample (get the index)\n",
    "                    sampled_token = TOKEN_INDEX[next_token]                                 # use the index to pick the token\n",
    "                    sentence += sampled_token                                               # add it to our sentence\n",
    "                print(sentence)\n",
    "                print()\n",
    "            print(\"-\" * 40)\n",
    "\n",
    "# used when debugging\n",
    "class DatasetInspectionCallback(tf.keras.callbacks.Callback):\n",
    "    def __init__(self, dataset):\n",
    "        super(DatasetInspectionCallback, self).__init__()\n",
    "        self.dataset = dataset\n",
    "\n",
    "    def on_epoch_begin(self, epoch, logs=None):\n",
    "        print()\n",
    "        print(f\"\\nStarting Epoch {epoch + 1}\")\n",
    "        for i, batch in enumerate(self.dataset.take(1)):\n",
    "            print(f\"Batch {i + 1}:\")\n",
    "            b1, b2 = batch\n",
    "            print(b1[0, ])\n",
    "        print()\n",
    "        print()\n",
    "\n",
    "# Use the callback in model.fit()\n",
    "inspection_callback = DatasetInspectionCallback(lm_dataset)\n",
    "\n",
    "\n",
    "prompt = \"JULIET:\"\n",
    "text_gen_callback = TextGenerator(\n",
    "    prompt,\n",
    "    generate_length=SEQUENCE_LENGTH,\n",
    "    seq_length=SEQUENCE_LENGTH,\n",
    "    temperatures=(0.5, 0.7, 1.), # a diverse range of temperature to see its effect\n",
    "    print_every=20,\n",
    ")\n",
    "\n",
    "MODELS_DIR = pathlib.Path(\"models\")\n",
    "MODELS_DIR.mkdir(exist_ok=True)\n",
    "ckpt_callback = tf.keras.callbacks.ModelCheckpoint(\n",
    "    str(MODELS_DIR / \"tiny-gpt.keras\"),\n",
    "    monitor=\"loss\",\n",
    "    save_best_only=True,\n",
    ")"
   ]
  },
  {
   "cell_type": "markdown",
   "metadata": {
    "id": "ooCEauUfCfxS",
    "tags": []
   },
   "source": [
    "### Training"
   ]
  },
  {
   "cell_type": "markdown",
   "metadata": {
    "id": "ooCEauUfCfxS",
    "jp-MarkdownHeadingCollapsed": true,
    "tags": []
   },
   "source": [
    "#### Fitting the language model"
   ]
  },
  {
   "cell_type": "code",
   "execution_count": 21,
   "metadata": {
    "colab": {
     "base_uri": "https://localhost:8080/"
    },
    "collapsed": true,
    "id": "n5lnerB1a8Wy",
    "jupyter": {
     "outputs_hidden": true
    },
    "outputId": "4ee776aa-7830-4ee8-afc9-4532b2573cc7",
    "tags": []
   },
   "outputs": [
    {
     "name": "stdout",
     "output_type": "stream",
     "text": [
      "Epoch 1/100\n",
      "\u001b[1m169/172\u001b[0m \u001b[32m━━━━━━━━━━━━━━━━━━━\u001b[0m\u001b[37m━\u001b[0m \u001b[1m0s\u001b[0m 16ms/step - loss: 4.3207\n",
      "\n",
      "EPOCH 1\n",
      "\n",
      "----------------------------------------\n",
      "temperature 0.5\n",
      "---------------\n",
      "JULIET:\n",
      "Ofe t'd pisellodimine,\n",
      "\n",
      "O:\n",
      "\n",
      "Hatit cory iy hatinoh acr, tuetais is, cour his ll th smir son:\n",
      "\n",
      "Whao e\n",
      "\n",
      "temperature 0.7\n",
      "---------------\n",
      "JULIET:\n",
      "Le your ck bh, s ind st ho IN\n",
      "LESLUCovoumebe t .\n",
      "TEULI sl:\n",
      "Y, fo d lolld ILut me be nce ss ou.\n",
      "LEAN\n",
      "\n",
      "temperature 1.0\n",
      "---------------\n",
      "JULIET:\n",
      "PUSTl tid han st? our linfoo ceer chithor m :\n",
      "\n",
      "Anoen meestllest hor ind al relfhike so h he EA hind\n",
      "\n",
      "----------------------------------------\n",
      "\u001b[1m172/172\u001b[0m \u001b[32m━━━━━━━━━━━━━━━━━━━━\u001b[0m\u001b[37m\u001b[0m \u001b[1m77s\u001b[0m 207ms/step - loss: 4.2976\n",
      "Epoch 2/100\n",
      "\u001b[1m172/172\u001b[0m \u001b[32m━━━━━━━━━━━━━━━━━━━━\u001b[0m\u001b[37m\u001b[0m \u001b[1m3s\u001b[0m 18ms/step - loss: 2.5645\n",
      "Epoch 3/100\n",
      "\u001b[1m172/172\u001b[0m \u001b[32m━━━━━━━━━━━━━━━━━━━━\u001b[0m\u001b[37m\u001b[0m \u001b[1m3s\u001b[0m 17ms/step - loss: 2.4369\n",
      "Epoch 4/100\n",
      "\u001b[1m172/172\u001b[0m \u001b[32m━━━━━━━━━━━━━━━━━━━━\u001b[0m\u001b[37m\u001b[0m \u001b[1m3s\u001b[0m 17ms/step - loss: 2.3230\n",
      "Epoch 5/100\n",
      "\u001b[1m172/172\u001b[0m \u001b[32m━━━━━━━━━━━━━━━━━━━━\u001b[0m\u001b[37m\u001b[0m \u001b[1m3s\u001b[0m 17ms/step - loss: 2.1685\n",
      "Epoch 6/100\n",
      "\u001b[1m172/172\u001b[0m \u001b[32m━━━━━━━━━━━━━━━━━━━━\u001b[0m\u001b[37m\u001b[0m \u001b[1m3s\u001b[0m 18ms/step - loss: 1.9426\n",
      "Epoch 7/100\n",
      "\u001b[1m172/172\u001b[0m \u001b[32m━━━━━━━━━━━━━━━━━━━━\u001b[0m\u001b[37m\u001b[0m \u001b[1m3s\u001b[0m 17ms/step - loss: 1.7884\n",
      "Epoch 8/100\n",
      "\u001b[1m172/172\u001b[0m \u001b[32m━━━━━━━━━━━━━━━━━━━━\u001b[0m\u001b[37m\u001b[0m \u001b[1m3s\u001b[0m 17ms/step - loss: 1.6552\n",
      "Epoch 9/100\n",
      "\u001b[1m172/172\u001b[0m \u001b[32m━━━━━━━━━━━━━━━━━━━━\u001b[0m\u001b[37m\u001b[0m \u001b[1m3s\u001b[0m 17ms/step - loss: 1.5910\n",
      "Epoch 10/100\n",
      "\u001b[1m172/172\u001b[0m \u001b[32m━━━━━━━━━━━━━━━━━━━━\u001b[0m\u001b[37m\u001b[0m \u001b[1m3s\u001b[0m 17ms/step - loss: 1.5243\n",
      "Epoch 11/100\n",
      "\u001b[1m172/172\u001b[0m \u001b[32m━━━━━━━━━━━━━━━━━━━━\u001b[0m\u001b[37m\u001b[0m \u001b[1m3s\u001b[0m 17ms/step - loss: 1.4839\n",
      "Epoch 12/100\n",
      "\u001b[1m172/172\u001b[0m \u001b[32m━━━━━━━━━━━━━━━━━━━━\u001b[0m\u001b[37m\u001b[0m \u001b[1m3s\u001b[0m 17ms/step - loss: 1.4451\n",
      "Epoch 13/100\n",
      "\u001b[1m172/172\u001b[0m \u001b[32m━━━━━━━━━━━━━━━━━━━━\u001b[0m\u001b[37m\u001b[0m \u001b[1m3s\u001b[0m 17ms/step - loss: 1.4148\n",
      "Epoch 14/100\n",
      "\u001b[1m172/172\u001b[0m \u001b[32m━━━━━━━━━━━━━━━━━━━━\u001b[0m\u001b[37m\u001b[0m \u001b[1m3s\u001b[0m 17ms/step - loss: 1.3935\n",
      "Epoch 15/100\n",
      "\u001b[1m172/172\u001b[0m \u001b[32m━━━━━━━━━━━━━━━━━━━━\u001b[0m\u001b[37m\u001b[0m \u001b[1m3s\u001b[0m 17ms/step - loss: 1.3696\n",
      "Epoch 16/100\n",
      "\u001b[1m172/172\u001b[0m \u001b[32m━━━━━━━━━━━━━━━━━━━━\u001b[0m\u001b[37m\u001b[0m \u001b[1m3s\u001b[0m 17ms/step - loss: 1.3494\n",
      "Epoch 17/100\n",
      "\u001b[1m172/172\u001b[0m \u001b[32m━━━━━━━━━━━━━━━━━━━━\u001b[0m\u001b[37m\u001b[0m \u001b[1m3s\u001b[0m 17ms/step - loss: 1.3317\n",
      "Epoch 18/100\n",
      "\u001b[1m172/172\u001b[0m \u001b[32m━━━━━━━━━━━━━━━━━━━━\u001b[0m\u001b[37m\u001b[0m \u001b[1m3s\u001b[0m 17ms/step - loss: 1.3089\n",
      "Epoch 19/100\n",
      "\u001b[1m172/172\u001b[0m \u001b[32m━━━━━━━━━━━━━━━━━━━━\u001b[0m\u001b[37m\u001b[0m \u001b[1m3s\u001b[0m 17ms/step - loss: 1.2950\n",
      "Epoch 20/100\n",
      "\u001b[1m169/172\u001b[0m \u001b[32m━━━━━━━━━━━━━━━━━━━\u001b[0m\u001b[37m━\u001b[0m \u001b[1m0s\u001b[0m 15ms/step - loss: 1.2815\n",
      "\n",
      "EPOCH 20\n",
      "\n",
      "----------------------------------------\n",
      "temperature 0.5\n",
      "---------------\n",
      "JULIET:\n",
      "I do see thy tongue that will remain thee\n",
      "To have heard it kilisper: hurt is not gold.\n",
      "If not your \n",
      "\n",
      "temperature 0.7\n",
      "---------------\n",
      "JULIET:\n",
      "O God aunt, perpetual I have been so.\n",
      "\n",
      "ESCALUS:\n",
      "We should be heard to my master deliver man\n",
      "proclai\n",
      "\n",
      "temperature 1.0\n",
      "---------------\n",
      "JULIET:\n",
      "Stir, merry ill stay.\n",
      "\n",
      "BRUTUS:\n",
      "We let on there.\n",
      "I hope, Lord!\n",
      "\n",
      "SICINIUS:\n",
      "Is too maid?\n",
      "\n",
      "CORIOLANUS:\n",
      "\n",
      "\n",
      "----------------------------------------\n",
      "\u001b[1m172/172\u001b[0m \u001b[32m━━━━━━━━━━━━━━━━━━━━\u001b[0m\u001b[37m\u001b[0m \u001b[1m33s\u001b[0m 191ms/step - loss: 1.2815\n",
      "Epoch 21/100\n",
      "\u001b[1m172/172\u001b[0m \u001b[32m━━━━━━━━━━━━━━━━━━━━\u001b[0m\u001b[37m\u001b[0m \u001b[1m3s\u001b[0m 17ms/step - loss: 1.2717\n",
      "Epoch 22/100\n",
      "\u001b[1m172/172\u001b[0m \u001b[32m━━━━━━━━━━━━━━━━━━━━\u001b[0m\u001b[37m\u001b[0m \u001b[1m3s\u001b[0m 17ms/step - loss: 1.2543\n",
      "Epoch 23/100\n",
      "\u001b[1m172/172\u001b[0m \u001b[32m━━━━━━━━━━━━━━━━━━━━\u001b[0m\u001b[37m\u001b[0m \u001b[1m3s\u001b[0m 17ms/step - loss: 1.2403\n",
      "Epoch 24/100\n",
      "\u001b[1m172/172\u001b[0m \u001b[32m━━━━━━━━━━━━━━━━━━━━\u001b[0m\u001b[37m\u001b[0m \u001b[1m3s\u001b[0m 17ms/step - loss: 1.2295\n",
      "Epoch 25/100\n",
      "\u001b[1m172/172\u001b[0m \u001b[32m━━━━━━━━━━━━━━━━━━━━\u001b[0m\u001b[37m\u001b[0m \u001b[1m3s\u001b[0m 17ms/step - loss: 1.2134\n",
      "Epoch 26/100\n",
      "\u001b[1m172/172\u001b[0m \u001b[32m━━━━━━━━━━━━━━━━━━━━\u001b[0m\u001b[37m\u001b[0m \u001b[1m3s\u001b[0m 17ms/step - loss: 1.2062\n",
      "Epoch 27/100\n",
      "\u001b[1m172/172\u001b[0m \u001b[32m━━━━━━━━━━━━━━━━━━━━\u001b[0m\u001b[37m\u001b[0m \u001b[1m3s\u001b[0m 17ms/step - loss: 1.1893\n",
      "Epoch 28/100\n",
      "\u001b[1m172/172\u001b[0m \u001b[32m━━━━━━━━━━━━━━━━━━━━\u001b[0m\u001b[37m\u001b[0m \u001b[1m3s\u001b[0m 17ms/step - loss: 1.1785\n",
      "Epoch 29/100\n",
      "\u001b[1m172/172\u001b[0m \u001b[32m━━━━━━━━━━━━━━━━━━━━\u001b[0m\u001b[37m\u001b[0m \u001b[1m3s\u001b[0m 17ms/step - loss: 1.1685\n",
      "Epoch 30/100\n",
      "\u001b[1m172/172\u001b[0m \u001b[32m━━━━━━━━━━━━━━━━━━━━\u001b[0m\u001b[37m\u001b[0m \u001b[1m3s\u001b[0m 17ms/step - loss: 1.1527\n",
      "Epoch 31/100\n",
      "\u001b[1m172/172\u001b[0m \u001b[32m━━━━━━━━━━━━━━━━━━━━\u001b[0m\u001b[37m\u001b[0m \u001b[1m3s\u001b[0m 17ms/step - loss: 1.1449\n",
      "Epoch 32/100\n",
      "\u001b[1m172/172\u001b[0m \u001b[32m━━━━━━━━━━━━━━━━━━━━\u001b[0m\u001b[37m\u001b[0m \u001b[1m3s\u001b[0m 17ms/step - loss: 1.1356\n",
      "Epoch 33/100\n",
      "\u001b[1m172/172\u001b[0m \u001b[32m━━━━━━━━━━━━━━━━━━━━\u001b[0m\u001b[37m\u001b[0m \u001b[1m3s\u001b[0m 17ms/step - loss: 1.1174\n",
      "Epoch 34/100\n",
      "\u001b[1m172/172\u001b[0m \u001b[32m━━━━━━━━━━━━━━━━━━━━\u001b[0m\u001b[37m\u001b[0m \u001b[1m3s\u001b[0m 17ms/step - loss: 1.1098\n",
      "Epoch 35/100\n",
      "\u001b[1m172/172\u001b[0m \u001b[32m━━━━━━━━━━━━━━━━━━━━\u001b[0m\u001b[37m\u001b[0m \u001b[1m3s\u001b[0m 17ms/step - loss: 1.0980\n",
      "Epoch 36/100\n",
      "\u001b[1m172/172\u001b[0m \u001b[32m━━━━━━━━━━━━━━━━━━━━\u001b[0m\u001b[37m\u001b[0m \u001b[1m3s\u001b[0m 17ms/step - loss: 1.0882\n",
      "Epoch 37/100\n",
      "\u001b[1m172/172\u001b[0m \u001b[32m━━━━━━━━━━━━━━━━━━━━\u001b[0m\u001b[37m\u001b[0m \u001b[1m3s\u001b[0m 17ms/step - loss: 1.0728\n",
      "Epoch 38/100\n",
      "\u001b[1m172/172\u001b[0m \u001b[32m━━━━━━━━━━━━━━━━━━━━\u001b[0m\u001b[37m\u001b[0m \u001b[1m3s\u001b[0m 18ms/step - loss: 1.0637\n",
      "Epoch 39/100\n",
      "\u001b[1m172/172\u001b[0m \u001b[32m━━━━━━━━━━━━━━━━━━━━\u001b[0m\u001b[37m\u001b[0m \u001b[1m3s\u001b[0m 17ms/step - loss: 1.0504\n",
      "Epoch 40/100\n",
      "\u001b[1m169/172\u001b[0m \u001b[32m━━━━━━━━━━━━━━━━━━━\u001b[0m\u001b[37m━\u001b[0m \u001b[1m0s\u001b[0m 15ms/step - loss: 1.0410\n",
      "\n",
      "EPOCH 40\n",
      "\n",
      "----------------------------------------\n",
      "temperature 0.5\n",
      "---------------\n",
      "JULIET:\n",
      "Thou doth see thy want a little of your father's death,\n",
      "Lest live would that over-disdvined me so,\n",
      "\n",
      "\n",
      "temperature 0.7\n",
      "---------------\n",
      "JULIET:\n",
      "! O, day! come on, I fear that the cide?\n",
      "And mother wits a dash o' the bender on't!\n",
      "\n",
      "DUKE VINCENTIO\n",
      "\n",
      "temperature 1.0\n",
      "---------------\n",
      "JULIET:\n",
      "I wish one of mine other:\n",
      "Then you are so like to be dead,\n",
      "Too suppose friar to my daughter down to\n",
      "\n",
      "----------------------------------------\n",
      "\u001b[1m172/172\u001b[0m \u001b[32m━━━━━━━━━━━━━━━━━━━━\u001b[0m\u001b[37m\u001b[0m \u001b[1m33s\u001b[0m 192ms/step - loss: 1.0409\n",
      "Epoch 41/100\n",
      "\u001b[1m172/172\u001b[0m \u001b[32m━━━━━━━━━━━━━━━━━━━━\u001b[0m\u001b[37m\u001b[0m \u001b[1m3s\u001b[0m 18ms/step - loss: 1.0277\n",
      "Epoch 42/100\n",
      "\u001b[1m172/172\u001b[0m \u001b[32m━━━━━━━━━━━━━━━━━━━━\u001b[0m\u001b[37m\u001b[0m \u001b[1m3s\u001b[0m 17ms/step - loss: 1.0152\n",
      "Epoch 43/100\n",
      "\u001b[1m172/172\u001b[0m \u001b[32m━━━━━━━━━━━━━━━━━━━━\u001b[0m\u001b[37m\u001b[0m \u001b[1m3s\u001b[0m 17ms/step - loss: 1.0066\n",
      "Epoch 44/100\n",
      "\u001b[1m172/172\u001b[0m \u001b[32m━━━━━━━━━━━━━━━━━━━━\u001b[0m\u001b[37m\u001b[0m \u001b[1m3s\u001b[0m 17ms/step - loss: 0.9949\n",
      "Epoch 45/100\n",
      "\u001b[1m172/172\u001b[0m \u001b[32m━━━━━━━━━━━━━━━━━━━━\u001b[0m\u001b[37m\u001b[0m \u001b[1m3s\u001b[0m 17ms/step - loss: 0.9810\n",
      "Epoch 46/100\n",
      "\u001b[1m172/172\u001b[0m \u001b[32m━━━━━━━━━━━━━━━━━━━━\u001b[0m\u001b[37m\u001b[0m \u001b[1m3s\u001b[0m 17ms/step - loss: 0.9698\n",
      "Epoch 47/100\n",
      "\u001b[1m172/172\u001b[0m \u001b[32m━━━━━━━━━━━━━━━━━━━━\u001b[0m\u001b[37m\u001b[0m \u001b[1m3s\u001b[0m 17ms/step - loss: 0.9613\n",
      "Epoch 48/100\n",
      "\u001b[1m172/172\u001b[0m \u001b[32m━━━━━━━━━━━━━━━━━━━━\u001b[0m\u001b[37m\u001b[0m \u001b[1m3s\u001b[0m 17ms/step - loss: 0.9450\n",
      "Epoch 49/100\n",
      "\u001b[1m172/172\u001b[0m \u001b[32m━━━━━━━━━━━━━━━━━━━━\u001b[0m\u001b[37m\u001b[0m \u001b[1m3s\u001b[0m 17ms/step - loss: 0.9343\n",
      "Epoch 50/100\n",
      "\u001b[1m172/172\u001b[0m \u001b[32m━━━━━━━━━━━━━━━━━━━━\u001b[0m\u001b[37m\u001b[0m \u001b[1m3s\u001b[0m 17ms/step - loss: 0.9247\n",
      "Epoch 51/100\n",
      "\u001b[1m172/172\u001b[0m \u001b[32m━━━━━━━━━━━━━━━━━━━━\u001b[0m\u001b[37m\u001b[0m \u001b[1m3s\u001b[0m 17ms/step - loss: 0.9106\n",
      "Epoch 52/100\n",
      "\u001b[1m172/172\u001b[0m \u001b[32m━━━━━━━━━━━━━━━━━━━━\u001b[0m\u001b[37m\u001b[0m \u001b[1m3s\u001b[0m 17ms/step - loss: 0.9001\n",
      "Epoch 53/100\n",
      "\u001b[1m172/172\u001b[0m \u001b[32m━━━━━━━━━━━━━━━━━━━━\u001b[0m\u001b[37m\u001b[0m \u001b[1m3s\u001b[0m 17ms/step - loss: 0.8907\n",
      "Epoch 54/100\n",
      "\u001b[1m172/172\u001b[0m \u001b[32m━━━━━━━━━━━━━━━━━━━━\u001b[0m\u001b[37m\u001b[0m \u001b[1m3s\u001b[0m 17ms/step - loss: 0.8793\n",
      "Epoch 55/100\n",
      "\u001b[1m172/172\u001b[0m \u001b[32m━━━━━━━━━━━━━━━━━━━━\u001b[0m\u001b[37m\u001b[0m \u001b[1m3s\u001b[0m 17ms/step - loss: 0.8685\n",
      "Epoch 56/100\n",
      "\u001b[1m172/172\u001b[0m \u001b[32m━━━━━━━━━━━━━━━━━━━━\u001b[0m\u001b[37m\u001b[0m \u001b[1m3s\u001b[0m 17ms/step - loss: 0.8571\n",
      "Epoch 57/100\n",
      "\u001b[1m172/172\u001b[0m \u001b[32m━━━━━━━━━━━━━━━━━━━━\u001b[0m\u001b[37m\u001b[0m \u001b[1m3s\u001b[0m 17ms/step - loss: 0.8457\n",
      "Epoch 58/100\n",
      "\u001b[1m172/172\u001b[0m \u001b[32m━━━━━━━━━━━━━━━━━━━━\u001b[0m\u001b[37m\u001b[0m \u001b[1m3s\u001b[0m 17ms/step - loss: 0.8365\n",
      "Epoch 59/100\n",
      "\u001b[1m172/172\u001b[0m \u001b[32m━━━━━━━━━━━━━━━━━━━━\u001b[0m\u001b[37m\u001b[0m \u001b[1m3s\u001b[0m 17ms/step - loss: 0.8241\n",
      "Epoch 60/100\n",
      "\u001b[1m169/172\u001b[0m \u001b[32m━━━━━━━━━━━━━━━━━━━\u001b[0m\u001b[37m━\u001b[0m \u001b[1m0s\u001b[0m 15ms/step - loss: 0.8145\n",
      "\n",
      "EPOCH 60\n",
      "\n",
      "----------------------------------------\n",
      "temperature 0.5\n",
      "---------------\n",
      "JULIET:\n",
      "I would this, I would watch my mineasure,\n",
      "And with thee attailes of the first perform't:\n",
      "We are too\n",
      "\n",
      "temperature 0.7\n",
      "---------------\n",
      "JULIET:\n",
      "I hold thou suppose the swoon of a long,\n",
      "Unless you do not know your fairing tyranny,\n",
      "And shall som\n",
      "\n",
      "temperature 1.0\n",
      "---------------\n",
      "JULIET:\n",
      "Nay, not bleeding one solemnly.\n",
      "So that soft, conscience and the joy;\n",
      "This woful comfort worth in m\n",
      "\n",
      "----------------------------------------\n",
      "\u001b[1m172/172\u001b[0m \u001b[32m━━━━━━━━━━━━━━━━━━━━\u001b[0m\u001b[37m\u001b[0m \u001b[1m33s\u001b[0m 191ms/step - loss: 0.8144\n",
      "Epoch 61/100\n",
      "\u001b[1m172/172\u001b[0m \u001b[32m━━━━━━━━━━━━━━━━━━━━\u001b[0m\u001b[37m\u001b[0m \u001b[1m3s\u001b[0m 17ms/step - loss: 0.8012\n",
      "Epoch 62/100\n",
      "\u001b[1m172/172\u001b[0m \u001b[32m━━━━━━━━━━━━━━━━━━━━\u001b[0m\u001b[37m\u001b[0m \u001b[1m3s\u001b[0m 17ms/step - loss: 0.7946\n",
      "Epoch 63/100\n",
      "\u001b[1m172/172\u001b[0m \u001b[32m━━━━━━━━━━━━━━━━━━━━\u001b[0m\u001b[37m\u001b[0m \u001b[1m3s\u001b[0m 17ms/step - loss: 0.7868\n",
      "Epoch 64/100\n",
      "\u001b[1m172/172\u001b[0m \u001b[32m━━━━━━━━━━━━━━━━━━━━\u001b[0m\u001b[37m\u001b[0m \u001b[1m3s\u001b[0m 17ms/step - loss: 0.7701\n",
      "Epoch 65/100\n",
      "\u001b[1m172/172\u001b[0m \u001b[32m━━━━━━━━━━━━━━━━━━━━\u001b[0m\u001b[37m\u001b[0m \u001b[1m3s\u001b[0m 17ms/step - loss: 0.7613\n",
      "Epoch 66/100\n",
      "\u001b[1m172/172\u001b[0m \u001b[32m━━━━━━━━━━━━━━━━━━━━\u001b[0m\u001b[37m\u001b[0m \u001b[1m3s\u001b[0m 17ms/step - loss: 0.7500\n",
      "Epoch 67/100\n",
      "\u001b[1m172/172\u001b[0m \u001b[32m━━━━━━━━━━━━━━━━━━━━\u001b[0m\u001b[37m\u001b[0m \u001b[1m3s\u001b[0m 17ms/step - loss: 0.7388\n",
      "Epoch 68/100\n",
      "\u001b[1m172/172\u001b[0m \u001b[32m━━━━━━━━━━━━━━━━━━━━\u001b[0m\u001b[37m\u001b[0m \u001b[1m3s\u001b[0m 17ms/step - loss: 0.7340\n",
      "Epoch 69/100\n",
      "\u001b[1m172/172\u001b[0m \u001b[32m━━━━━━━━━━━━━━━━━━━━\u001b[0m\u001b[37m\u001b[0m \u001b[1m3s\u001b[0m 17ms/step - loss: 0.7199\n",
      "Epoch 70/100\n",
      "\u001b[1m172/172\u001b[0m \u001b[32m━━━━━━━━━━━━━━━━━━━━\u001b[0m\u001b[37m\u001b[0m \u001b[1m3s\u001b[0m 17ms/step - loss: 0.7102\n",
      "Epoch 71/100\n",
      "\u001b[1m172/172\u001b[0m \u001b[32m━━━━━━━━━━━━━━━━━━━━\u001b[0m\u001b[37m\u001b[0m \u001b[1m3s\u001b[0m 17ms/step - loss: 0.7005\n",
      "Epoch 72/100\n",
      "\u001b[1m172/172\u001b[0m \u001b[32m━━━━━━━━━━━━━━━━━━━━\u001b[0m\u001b[37m\u001b[0m \u001b[1m3s\u001b[0m 17ms/step - loss: 0.6910\n",
      "Epoch 73/100\n",
      "\u001b[1m172/172\u001b[0m \u001b[32m━━━━━━━━━━━━━━━━━━━━\u001b[0m\u001b[37m\u001b[0m \u001b[1m3s\u001b[0m 17ms/step - loss: 0.6821\n",
      "Epoch 74/100\n",
      "\u001b[1m172/172\u001b[0m \u001b[32m━━━━━━━━━━━━━━━━━━━━\u001b[0m\u001b[37m\u001b[0m \u001b[1m3s\u001b[0m 17ms/step - loss: 0.6753\n",
      "Epoch 75/100\n",
      "\u001b[1m172/172\u001b[0m \u001b[32m━━━━━━━━━━━━━━━━━━━━\u001b[0m\u001b[37m\u001b[0m \u001b[1m3s\u001b[0m 17ms/step - loss: 0.6661\n",
      "Epoch 76/100\n",
      "\u001b[1m172/172\u001b[0m \u001b[32m━━━━━━━━━━━━━━━━━━━━\u001b[0m\u001b[37m\u001b[0m \u001b[1m3s\u001b[0m 17ms/step - loss: 0.6577\n",
      "Epoch 77/100\n",
      "\u001b[1m172/172\u001b[0m \u001b[32m━━━━━━━━━━━━━━━━━━━━\u001b[0m\u001b[37m\u001b[0m \u001b[1m3s\u001b[0m 17ms/step - loss: 0.6457\n",
      "Epoch 78/100\n",
      "\u001b[1m172/172\u001b[0m \u001b[32m━━━━━━━━━━━━━━━━━━━━\u001b[0m\u001b[37m\u001b[0m \u001b[1m3s\u001b[0m 17ms/step - loss: 0.6342\n",
      "Epoch 79/100\n",
      "\u001b[1m172/172\u001b[0m \u001b[32m━━━━━━━━━━━━━━━━━━━━\u001b[0m\u001b[37m\u001b[0m \u001b[1m3s\u001b[0m 17ms/step - loss: 0.6280\n",
      "Epoch 80/100\n",
      "\u001b[1m171/172\u001b[0m \u001b[32m━━━━━━━━━━━━━━━━━━━\u001b[0m\u001b[37m━\u001b[0m \u001b[1m0s\u001b[0m 15ms/step - loss: 0.6217\n",
      "\n",
      "EPOCH 80\n",
      "\n",
      "----------------------------------------\n",
      "temperature 0.5\n",
      "---------------\n",
      "JULIET:\n",
      "Now, fool my royal York, sir, seeintly.\n",
      "\n",
      "DUKE OF YORK:\n",
      "Thou hadst but he, father, sir, a villain ge\n",
      "\n",
      "temperature 0.7\n",
      "---------------\n",
      "JULIET:\n",
      "Madam, and you know, my dobles:\n",
      "You might have graced, and not poor Honesty, a devil.\n",
      "\n",
      "JULIET:\n",
      "O do\n",
      "\n",
      "temperature 1.0\n",
      "---------------\n",
      "JULIET:\n",
      "Then shall speak to make a burning: the shame will have them!\n",
      "\n",
      "Nurse:\n",
      "Nay, I have thought it a day \n",
      "\n",
      "----------------------------------------\n",
      "\u001b[1m172/172\u001b[0m \u001b[32m━━━━━━━━━━━━━━━━━━━━\u001b[0m\u001b[37m\u001b[0m \u001b[1m33s\u001b[0m 191ms/step - loss: 0.6216\n",
      "Epoch 81/100\n",
      "\u001b[1m172/172\u001b[0m \u001b[32m━━━━━━━━━━━━━━━━━━━━\u001b[0m\u001b[37m\u001b[0m \u001b[1m3s\u001b[0m 17ms/step - loss: 0.6127\n",
      "Epoch 82/100\n",
      "\u001b[1m172/172\u001b[0m \u001b[32m━━━━━━━━━━━━━━━━━━━━\u001b[0m\u001b[37m\u001b[0m \u001b[1m3s\u001b[0m 17ms/step - loss: 0.6030\n",
      "Epoch 83/100\n",
      "\u001b[1m172/172\u001b[0m \u001b[32m━━━━━━━━━━━━━━━━━━━━\u001b[0m\u001b[37m\u001b[0m \u001b[1m3s\u001b[0m 17ms/step - loss: 0.5968\n",
      "Epoch 84/100\n",
      "\u001b[1m172/172\u001b[0m \u001b[32m━━━━━━━━━━━━━━━━━━━━\u001b[0m\u001b[37m\u001b[0m \u001b[1m3s\u001b[0m 17ms/step - loss: 0.5853\n",
      "Epoch 85/100\n",
      "\u001b[1m172/172\u001b[0m \u001b[32m━━━━━━━━━━━━━━━━━━━━\u001b[0m\u001b[37m\u001b[0m \u001b[1m3s\u001b[0m 17ms/step - loss: 0.5783\n",
      "Epoch 86/100\n",
      "\u001b[1m172/172\u001b[0m \u001b[32m━━━━━━━━━━━━━━━━━━━━\u001b[0m\u001b[37m\u001b[0m \u001b[1m3s\u001b[0m 17ms/step - loss: 0.5691\n",
      "Epoch 87/100\n",
      "\u001b[1m172/172\u001b[0m \u001b[32m━━━━━━━━━━━━━━━━━━━━\u001b[0m\u001b[37m\u001b[0m \u001b[1m3s\u001b[0m 17ms/step - loss: 0.5626\n",
      "Epoch 88/100\n",
      "\u001b[1m172/172\u001b[0m \u001b[32m━━━━━━━━━━━━━━━━━━━━\u001b[0m\u001b[37m\u001b[0m \u001b[1m3s\u001b[0m 17ms/step - loss: 0.5534\n",
      "Epoch 89/100\n",
      "\u001b[1m172/172\u001b[0m \u001b[32m━━━━━━━━━━━━━━━━━━━━\u001b[0m\u001b[37m\u001b[0m \u001b[1m3s\u001b[0m 17ms/step - loss: 0.5490\n",
      "Epoch 90/100\n",
      "\u001b[1m172/172\u001b[0m \u001b[32m━━━━━━━━━━━━━━━━━━━━\u001b[0m\u001b[37m\u001b[0m \u001b[1m3s\u001b[0m 17ms/step - loss: 0.5378\n",
      "Epoch 91/100\n",
      "\u001b[1m172/172\u001b[0m \u001b[32m━━━━━━━━━━━━━━━━━━━━\u001b[0m\u001b[37m\u001b[0m \u001b[1m3s\u001b[0m 17ms/step - loss: 0.5315\n",
      "Epoch 92/100\n",
      "\u001b[1m172/172\u001b[0m \u001b[32m━━━━━━━━━━━━━━━━━━━━\u001b[0m\u001b[37m\u001b[0m \u001b[1m3s\u001b[0m 17ms/step - loss: 0.5275\n",
      "Epoch 93/100\n",
      "\u001b[1m172/172\u001b[0m \u001b[32m━━━━━━━━━━━━━━━━━━━━\u001b[0m\u001b[37m\u001b[0m \u001b[1m3s\u001b[0m 17ms/step - loss: 0.5211\n",
      "Epoch 94/100\n",
      "\u001b[1m172/172\u001b[0m \u001b[32m━━━━━━━━━━━━━━━━━━━━\u001b[0m\u001b[37m\u001b[0m \u001b[1m3s\u001b[0m 17ms/step - loss: 0.5126\n",
      "Epoch 95/100\n",
      "\u001b[1m172/172\u001b[0m \u001b[32m━━━━━━━━━━━━━━━━━━━━\u001b[0m\u001b[37m\u001b[0m \u001b[1m3s\u001b[0m 17ms/step - loss: 0.5066\n",
      "Epoch 96/100\n",
      "\u001b[1m172/172\u001b[0m \u001b[32m━━━━━━━━━━━━━━━━━━━━\u001b[0m\u001b[37m\u001b[0m \u001b[1m3s\u001b[0m 17ms/step - loss: 0.4999\n",
      "Epoch 97/100\n",
      "\u001b[1m172/172\u001b[0m \u001b[32m━━━━━━━━━━━━━━━━━━━━\u001b[0m\u001b[37m\u001b[0m \u001b[1m3s\u001b[0m 17ms/step - loss: 0.4929\n",
      "Epoch 98/100\n",
      "\u001b[1m172/172\u001b[0m \u001b[32m━━━━━━━━━━━━━━━━━━━━\u001b[0m\u001b[37m\u001b[0m \u001b[1m3s\u001b[0m 17ms/step - loss: 0.4848\n",
      "Epoch 99/100\n",
      "\u001b[1m172/172\u001b[0m \u001b[32m━━━━━━━━━━━━━━━━━━━━\u001b[0m\u001b[37m\u001b[0m \u001b[1m3s\u001b[0m 17ms/step - loss: 0.4806\n",
      "Epoch 100/100\n",
      "\u001b[1m169/172\u001b[0m \u001b[32m━━━━━━━━━━━━━━━━━━━\u001b[0m\u001b[37m━\u001b[0m \u001b[1m0s\u001b[0m 15ms/step - loss: 0.4728\n",
      "\n",
      "EPOCH 100\n",
      "\n",
      "----------------------------------------\n",
      "temperature 0.5\n",
      "---------------\n",
      "JULIET:\n",
      "I would thou hold'st death.\n",
      "\n",
      "DUKE VINCENTIO:\n",
      "Thou approachest her grace into a little mutinous;\n",
      "Say\n",
      "\n",
      "temperature 0.7\n",
      "---------------\n",
      "JULIET:\n",
      "I do pizes she not put me, for thy presence\n",
      "Worthy master's kings.\n",
      "\n",
      "DUKE OF YORK:\n",
      "It was creat for \n",
      "\n",
      "temperature 1.0\n",
      "---------------\n",
      "JULIET:\n",
      "I would thou hadst my bones, and I thy nurse clament last;\n",
      "Which with him time with crown and such \n",
      "\n",
      "----------------------------------------\n",
      "\u001b[1m172/172\u001b[0m \u001b[32m━━━━━━━━━━━━━━━━━━━━\u001b[0m\u001b[37m\u001b[0m \u001b[1m33s\u001b[0m 192ms/step - loss: 0.4728\n"
     ]
    },
    {
     "data": {
      "text/plain": [
       "<keras.src.callbacks.history.History at 0x7a84d0c81690>"
      ]
     },
     "execution_count": 21,
     "metadata": {},
     "output_type": "execute_result"
    }
   ],
   "source": [
    "EPOCHS = 100\n",
    "\n",
    "model.fit(\n",
    "    lm_dataset,\n",
    "    epochs=EPOCHS,\n",
    "    steps_per_epoch=DATASET_LENGTH // (SEQUENCE_LENGTH + 1) // BATCH_SIZE,\n",
    "    callbacks=[text_gen_callback, ckpt_callback]\n",
    ")"
   ]
  },
  {
   "cell_type": "markdown",
   "metadata": {
    "id": "ooCEauUfCfxS",
    "jp-MarkdownHeadingCollapsed": true,
    "tags": []
   },
   "source": [
    "#### Inference with the trained model"
   ]
  },
  {
   "cell_type": "code",
   "execution_count": 22,
   "metadata": {
    "colab": {
     "base_uri": "https://localhost:8080/"
    },
    "id": "ttbIPyoMFCZ3",
    "outputId": "b4c261c9-2ac7-446f-8adb-2d570452a6aa"
   },
   "outputs": [
    {
     "name": "stdout",
     "output_type": "stream",
     "text": [
      "JULIET:\n",
      "I would thou hadst my bones, and I thy news:\n",
      "Nay, come, might have leave no change awhile.\n",
      "\n",
      "DUKE OF AUMERLE:\n",
      "There is no more, my mother; who is here?\n",
      "\n",
      "Lost to the duke truth.\n",
      "\n",
      "DUKE OF AUMERLE:\n",
      "That Warwick, doth give thee To meet me the duke?\n",
      "\n",
      "DUKE OF AUMERLE:\n",
      "That Warwick and death would I be confess\n",
      "That English spoke my patience friends,\n",
      "That presently my poor king melancholy truly\n",
      "And so plelt his reign when the handping ever\n",
      "Will unprovise my brother. A day stande;\n",
      "This muslean-should cut\n"
     ]
    }
   ],
   "source": [
    "RELOAD = False\n",
    "if RELOAD:\n",
    "    model = tf.keras.models.load_model(MODEL_DIR / \"tiny-gpt.keras\") # to load a saved model\n",
    "\n",
    "def generate(sentence=\" \", generate_length=100, temperature=1.):\n",
    "    # TODO: write the optimised version that does not convert back and forth\n",
    "    #       from tokens to strings during generation (the current version could\n",
    "    #       however be used to print the string as it is being generated, with a \n",
    "    #       'typerwriter effect'...)    \n",
    "    for i in range(generate_length):\n",
    "        tokenized_sentence = text_vectorization([sentence])                         # encode the sentence & feed to the model\n",
    "        predictions = model(tokenized_sentence[:, - SEQUENCE_LENGTH + 1:])          # which gives us predictions  (crop to seq_len!)\n",
    "        next_token = sample_next(predictions[0, -1, :], temperature)                # use these to sample (get the index)\n",
    "        sampled_token = TOKEN_INDEX[next_token]                                     # use the index to pick the token\n",
    "        sentence += sampled_token                                                   # add it to our sentence\n",
    "    print(sentence)\n",
    "\n",
    "generate(sentence=\"JULIET:\", generate_length=500, temperature=.5)"
   ]
  },
  {
   "cell_type": "markdown",
   "metadata": {
    "id": "G4HvuEo0IV1N",
    "jp-MarkdownHeadingCollapsed": true
   },
   "source": [
    "#### Save models to Google Drive\n"
   ]
  },
  {
   "cell_type": "code",
   "execution_count": 27,
   "metadata": {
    "colab": {
     "base_uri": "https://localhost:8080/"
    },
    "collapsed": true,
    "id": "61lf2L3YWQl9",
    "jupyter": {
     "outputs_hidden": true
    },
    "outputId": "eb6822b6-89d9-45b8-abf0-d665d9277a92"
   },
   "outputs": [
    {
     "name": "stdout",
     "output_type": "stream",
     "text": [
      "  adding: models/tiny-gpt.keras (deflated 9%)\n",
      "Mounted at /content/drive\n"
     ]
    }
   ],
   "source": [
    "EXPORT=False\n",
    "\n",
    "if EXPORT:\n",
    "    # zip models\n",
    "    !zip shakespeare-gpt.models.zip {MODELS_DIR}/*\n",
    "    # connect to drive\n",
    "    from google.colab import drive\n",
    "    drive.mount('/content/drive')\n",
    "    # copy zip to drive (adjust folder as needed)\n",
    "    !cp shakespeare-gpt.models.zip drive/MyDrive/IS53024B-Artificial-Intelligence/models"
   ]
  },
  {
   "cell_type": "markdown",
   "metadata": {
    "id": "yRsuBEcECfxV",
    "jp-MarkdownHeadingCollapsed": true
   },
   "source": [
    "---\n",
    "\n",
    "## 12.1.6 Wrapping up"
   ]
  },
  {
   "cell_type": "markdown",
   "metadata": {
    "id": "yRsuBEcECfxV"
   },
   "source": [
    "- We can generate discrete sequence data by training a model to predict the next token(s) given previous tokens.\n",
    "- **Auto-regressive generation**: the model, conditioned on a sequence, makes a prediction, out of which a token is sampled, that is added to the sequence, and the cycle continues.\n",
    "- In the case of text, such a model is called a **language model**.\n",
    "- Language models can be based on **words**, **subwords**, **characters**, **bytes**.\n",
    "- **Sampling** the next token requires balance between adhering to what the model judges likely, and introducing randomness.\n",
    "-  **Softmax temperature** is one tool, alongside other methods (**beam search**, **top-k/top-p**)."
   ]
  },
  {
   "cell_type": "markdown",
   "metadata": {
    "id": "rol7vdCFCfxU",
    "jp-MarkdownHeadingCollapsed": true
   },
   "source": [
    "### Temperature recap"
   ]
  },
  {
   "cell_type": "markdown",
   "metadata": {
    "id": "rol7vdCFCfxU"
   },
   "source": [
    "- **Low**: extremely repetitive and predictable text, often falls into repetition loops\n",
    "- **Intermediate**: more interesting, surprising, even creative text – sometimes completely new but plausible words are invented\n",
    "- **High** temperature: local structure breaks down and most words look random\n",
    "\n",
    "Each model has a sweet spot, but it's usually somewhere in the range 0.7-1., and in my experience more often to be found closer to 0.9!"
   ]
  },
  {
   "cell_type": "markdown",
   "metadata": {
    "id": "WsGC4YPBa8Wy",
    "jp-MarkdownHeadingCollapsed": true
   },
   "source": [
    "### Experiments"
   ]
  },
  {
   "cell_type": "markdown",
   "metadata": {
    "id": "WsGC4YPBa8Wy"
   },
   "source": [
    "- Some elements have been taken from the tutorials above, check them out!\n",
    "- Being patient is a key factor in training: for the Shakespeare corpus, your char model will start making getting ok quality from a loss of around 1.1! The bigger and more diverse your dataset, the bigger that number will be, but you may need to train for longer.\n",
    "- Note that if you inject some special characters in your dataset, like `<EOS>`, and make sure it is encoded as one integer (token), you can then check for that token when generating! This is how chatbots know when to stop their answers : >.\n",
    "- You could try and implement `top_k` and `top_p` yourself?!\n",
    "- You could also try training a word-level model on IMDB reviews, like in Chollet and the Keras tutorial!\n",
    "- You could modify the dataset pipeline so that you load data from a directory of files, rather than just one file. A quick and dirty way could be done that way:\n",
    "\n",
    "  ```python\n",
    "  files_urls = {\n",
    "      'shakespeare.txt': 'http://www.gutenberg.org/files/100/100-0.txt',\n",
    "      'woolf-mrs-dalloway.txt': 'https://www.gutenberg.org/cache/epub/71865/pg71865.txt',\n",
    "      'woolf-the-voyage-out.txt': 'https://www.gutenberg.org/cache/epub/144/pg144.txt'\n",
    "  }\n",
    "\n",
    "  file_paths = [\n",
    "      tf.keras.utils.get_file(\n",
    "          fname, url,\n",
    "          cache_dir='.',                     # default ~/.keras\n",
    "          cache_subdir= DATASET_DIR / 'dataset' # default: datasets\n",
    "      )\n",
    "      for fname, url\n",
    "      in files_urls.items()\n",
    "  ]\n",
    "\n",
    "  text = \"\"\n",
    "  for fname in file_paths:\n",
    "      with open(fname, 'rb') as i:\n",
    "          t = i.read().decode(encoding='utf-8')\n",
    "      # length of text is the number of characters in it\n",
    "      print()\n",
    "      print(t[:250])\n",
    "      print()\n",
    "      print(f'Length of text: {len(t):,} characters')\n",
    "      print(\"-\"*40)\n",
    "      text += t\n",
    "\n",
    "  print(f'Length of combined texts: {len(text):,} characters')\n",
    "  ```\n",
    "     \n",
    "  This will get your RAM into trouble if you have too many files. In this case, you could look into using the `tf.keras.utils.text_dataset_from_directory`, as Chollet does in his example."
   ]
  },
  {
   "cell_type": "markdown",
   "metadata": {
    "id": "wS7S80MZCfxU",
    "jp-MarkdownHeadingCollapsed": true
   },
   "source": [
    "### Final Notes"
   ]
  },
  {
   "cell_type": "markdown",
   "metadata": {
    "id": "wS7S80MZCfxU",
    "jp-MarkdownHeadingCollapsed": true
   },
   "source": [
    "#### Language models and intelligence"
   ]
  },
  {
   "cell_type": "markdown",
   "metadata": {
    "id": "wS7S80MZCfxU"
   },
   "source": [
    "What do these models know?? After all, our setup is merely sampling a statistical model of which characters follow other characters..."
   ]
  },
  {
   "cell_type": "markdown",
   "metadata": {
    "id": "wS7S80MZCfxU",
    "jp-MarkdownHeadingCollapsed": true
   },
   "source": [
    "##### Those in favour"
   ]
  },
  {
   "cell_type": "markdown",
   "metadata": {
    "id": "wS7S80MZCfxU"
   },
   "source": [
    "In order to make good predictions, you need to know the structure of language, the world, etc. Language models are a pathway to Artificial General Intelligence."
   ]
  },
  {
   "cell_type": "markdown",
   "metadata": {
    "id": "wS7S80MZCfxU",
    "jp-MarkdownHeadingCollapsed": true
   },
   "source": [
    "##### Those against"
   ]
  },
  {
   "cell_type": "markdown",
   "metadata": {
    "id": "wS7S80MZCfxU"
   },
   "source": [
    "Ultimately, the network only picks up patterns and repetition, or even further: it finds a way of *compressing* and *memorising* the data. No intelligence there!"
   ]
  },
  {
   "cell_type": "markdown",
   "metadata": {},
   "source": [
    "Example of a very recent study in this field: [Ruis et al, \"Procedural Knowledge in Pretraining Drives Reasoning in Large Language Models\"](https://arxiv.org/abs/2411.12580) ([thread](https://t.co/HDJEE1KIpz))."
   ]
  }
 ],
 "metadata": {
  "accelerator": "GPU",
  "celltoolbar": "Slideshow",
  "colab": {
   "collapsed_sections": [
    "ipbRGxxNCfxD"
   ],
   "gpuType": "T4",
   "provenance": []
  },
  "kernelspec": {
   "display_name": "Python 3 (ipykernel)",
   "language": "python",
   "name": "python3"
  },
  "language_info": {
   "codemirror_mode": {
    "name": "ipython",
    "version": 3
   },
   "file_extension": ".py",
   "mimetype": "text/x-python",
   "name": "python",
   "nbconvert_exporter": "python",
   "pygments_lexer": "ipython3",
   "version": "3.12.6"
  }
 },
 "nbformat": 4,
 "nbformat_minor": 4
}
