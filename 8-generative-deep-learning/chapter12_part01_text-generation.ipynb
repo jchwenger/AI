{
 "cells": [
  {
   "cell_type": "markdown",
   "metadata": {
    "id": "w9Rv-VzfCfwg",
    "slideshow": {
     "slide_type": "slide"
    }
   },
   "source": [
    "# Attendance\n",
    "\n",
    "[The link to SEAts](https://goldsmithscollege.sharepoint.com/sites/intranet-supporting-students/SitePages/SEAtS--QR-codes-for-check-in.aspx?utm_campaign=SEAtS%20reminder%2027.09.22&utm_source=emailCampaign&utm_content=&utm_medium=email)\n",
    "\n",
    "[Evaluations!](http://www.doc.gold.ac.uk/evaluation) 🙏"
   ]
  },
  {
   "cell_type": "markdown",
   "metadata": {
    "slideshow": {
     "slide_type": "skip"
    },
    "tags": []
   },
   "source": [
    "Reminder, to connect to your drive:\n",
    "\n",
    "```python\n",
    "import sys\n",
    "\n",
    "# reminder: Colab code to mount your drive\n",
    "if 'google.colab' in sys.modules:\n",
    "    from google.colab import drive\n",
    "    drive.mount('/content/drive')\n",
    "    os.chdir('drive/My Drive/IS53024B-Artificial-Intelligence/8-generative-deep-learning') # 'My Drive' is the default name of Google Drives,\n",
    "    os.listdir()\n",
    "```    "
   ]
  },
  {
   "cell_type": "code",
   "execution_count": 1,
   "metadata": {
    "id": "D66P4n7fCfwp",
    "slideshow": {
     "slide_type": "fragment"
    }
   },
   "outputs": [],
   "source": [
    "import os\n",
    "import sys\n",
    "import pathlib\n",
    "\n",
    "import numpy as np\n",
    "import matplotlib.pyplot as plt\n",
    "\n",
    "from IPython.display import YouTubeVideo\n",
    "\n",
    "import tensorflow as tf\n",
    "tf.get_logger().setLevel('WARNING') # https://stackoverflow.com/a/38873777"
   ]
  },
  {
   "cell_type": "markdown",
   "metadata": {
    "id": "TIgvx8hYCfwu",
    "slideshow": {
     "slide_type": "slide"
    }
   },
   "source": [
    "---\n",
    "\n",
    "# 12 Generative deep learning\n",
    "\n",
    "- ## Text generation\n",
    "- ## DeepDream\n",
    "- ## Neural style transfer\n",
    "- ## Variational autoencoders\n",
    "- ## Generative adversarial networks\n"
   ]
  },
  {
   "cell_type": "markdown",
   "metadata": {
    "id": "rMbhcRgzCfwy",
    "slideshow": {
     "slide_type": "slide"
    }
   },
   "source": [
    "---\n",
    "\n",
    "## 12.1 Text generation\n",
    "\n",
    "“Generating sequential data is the closest computers get to dreaming.”\n",
    "\n",
    "Alex Graves"
   ]
  },
  {
   "cell_type": "markdown",
   "metadata": {
    "id": "1N5w_dbtCfw7",
    "slideshow": {
     "slide_type": "subslide"
    }
   },
   "source": [
    "NNs can generate new sequence data:\n",
    "\n",
    "- text (all kinds, including summaries, dialogue);\n",
    "- music (samples, notes);\n",
    "- speech synthesis;\n",
    "- handwriting or brushstrokes recorded on an iPad;\n",
    "- even images, if considered like a sequence of pixels!"
   ]
  },
  {
   "cell_type": "markdown",
   "metadata": {
    "id": "ysdJSCheCfwz",
    "slideshow": {
     "slide_type": "subslide"
    }
   },
   "source": [
    "### 12.1.1 A brief history of generative deep learning for sequence generation\n",
    "\n",
    "- 2002: [Eck & Schmidhuber, \"A first look at music composition using LSTM recurrent neural networks\"](https://people.idsia.ch/~juergen/blues/IDSIA-07-02.pdf);\n",
    "- 2013: [Alex Graves, \"Generating Sequences With Recurrent Neural Networks\"](https://arxiv.org/abs/1308.0850);\n",
    "- 2015: Google's DeepDream produced psychedelic images: [\"Inceptionism: Going Deeper into Neural Networks\"](https://ai.googleblog.com/2015/06/inceptionism-going-deeper-into-neural.html);\n",
    "- 2016: [Sunspring](https://www.youtube.com/watch?v=LY7x2Ihqjmc), an experimental film with an LSTM generated script;\n",
    "- 2016: DeepMind's [WaveNet: A generative model for raw audio](https://www.deepmind.com/blog/wavenet-a-generative-model-for-raw-audio);\n",
    "- 2016: Google's [Smart Reply](https://developers.google.com/ml-kit/language/smart-reply) – automatic generation of short replies to emails and text messages."
   ]
  },
  {
   "cell_type": "markdown",
   "metadata": {
    "id": "ysdJSCheCfwz",
    "slideshow": {
     "slide_type": "subslide"
    }
   },
   "source": [
    "- 2019: GPT-2 (1.5 bn): [\"Better Language Models and Their Implications\"](https://openai.com/blog/better-language-models/);\n",
    "- 2020: GPT-3 (175 bn): [\"Language Models are Few-Shot Learners\"](https://arxiv.org/abs/2005.14165), and the [API](https://openai.com/api/);\n",
    "- 2020: [Jukebox](https://openai.com/blog/jukebox/), \"a neural net that generates music, including rudimentary singing, as raw audio\";\n",
    "- 2021-2: OpenAI's [WebGPT](https://openai.com/blog/webgpt/), [InstructGPT](https://openai.com/blog/instruction-following/) and [ChatGPT](https://openai.com/blog/chatgpt/).\n",
    "- 2023: [GPT-4](https://openai.com/research/gpt-4), [Llama 2](https://ai.meta.com/llama/), many more!"
   ]
  },
  {
   "cell_type": "code",
   "execution_count": 4,
   "metadata": {
    "id": "gZO34IitCfw2",
    "outputId": "8a1e9d49-63c1-4ebc-9702-910c4cc10ad5",
    "slideshow": {
     "slide_type": "subslide"
    }
   },
   "outputs": [
    {
     "data": {
      "image/jpeg": "[encoded data removed]",
      "text/html": [
       "\n",
       "        <iframe\n",
       "            width=\"853\"\n",
       "            height=\"480\"\n",
       "            src=\"https://www.youtube.com/embed/LY7x2Ihqjmc\"\n",
       "            frameborder=\"0\"\n",
       "            allowfullscreen\n",
       "            \n",
       "        ></iframe>\n",
       "        "
      ],
      "text/plain": [
       "<IPython.lib.display.YouTubeVideo at 0x7f9450610820>"
      ]
     },
     "execution_count": 4,
     "metadata": {},
     "output_type": "execute_result"
    }
   ],
   "source": [
    "YouTubeVideo('LY7x2Ihqjmc', width=853, height=480) #  Sunspring | A Sci-Fi Short Film Starring Thomas Middleditch"
   ]
  },
  {
   "cell_type": "markdown",
   "metadata": {
    "id": "b0K0Eg6xCfw5",
    "slideshow": {
     "slide_type": "subslide"
    }
   },
   "source": [
    "Deep learning algorithms can learn a statistical **latent space**: a structured compression or *distillation* of the data.\n",
    "\n",
    "That space, like word embeddings, displays remarkable properties, and *can be explored*!\n",
    "\n",
    "**Sampling from the latent space** 'creates' new artworks similar to the training data.\n",
    "\n",
    "Chollet claims that this removes the barriers of craft and skills, to allow for more straightforward expression.\n",
    "\n",
    "In my own experience, I find that it **shifts** the craft and skills needed elsewhere, rather than removing those."
   ]
  },
  {
   "cell_type": "markdown",
   "metadata": {
    "id": "b0K0Eg6xCfw5",
    "slideshow": {
     "slide_type": "subslide"
    }
   },
   "source": [
    "*\"What I cannot create, I don't understand.\"*\n",
    "\n",
    "Richard P. Feynman\n",
    "\n",
    "Perhaps another key motivation for Deep Learning researchers and engineers to pursue the generative route."
   ]
  },
  {
   "cell_type": "markdown",
   "metadata": {
    "id": "Tyry3yiaCfw3",
    "slideshow": {
     "slide_type": "subslide"
    }
   },
   "source": [
    "### The replacement debate\n",
    "\n",
    "Chollet stands firmly on one end, saying AI will lead to *augmented intelligence*, rather than anything autonomous.\n",
    "\n",
    "Others claim that AGI is already here, and that it will surpass humanity in a blink of an eye.\n",
    "\n",
    "#### Question\n",
    "\n",
    "Players of chess, Go and StarCraft/Dota 2 now live with the idea that there is a machine somewhere that is likely **always** to be better than them. (Apparently chess is more popular than ever!) This certainly does not seem to have happened for the arts, but what if it did? What would be the consequences for art and artists?"
   ]
  },
  {
   "cell_type": "markdown",
   "metadata": {
    "id": "Miffo3gNCfw6",
    "slideshow": {
     "slide_type": "slide"
    }
   },
   "source": [
    "---\n",
    "\n",
    "### 12.1.2 How do you generate sequence data?\n",
    "\n",
    "\n",
    "Train a network to predict the next token(s) in a sequence using the previous tokens as input.\n",
    "\n",
    "Source for tokens:  words, characters, samples, pixels, byte.\n",
    "\n",
    "Any *text-based* model is known as a **language model**.\n",
    "\n",
    "A language model captures the *latent space* of language i.e. its **statistical structure**."
   ]
  },
  {
   "cell_type": "markdown",
   "metadata": {
    "id": "Miffo3gNCfw6",
    "slideshow": {
     "slide_type": "slide"
    }
   },
   "source": [
    "### Auto-regressive generation\n",
    "\n",
    "<!-- ![Chollet, text generation](images/chollet.auto-regressive.p.367.png) -->\n",
    "<img src=\"https://github.com/jchwenger/AI/blob/main/8-generative-deep-learning/images/chollet.auto-regressive.p.367.png?raw=true\">\n",
    "\n",
    "<small>DLWP, p.368</small>"
   ]
  },
  {
   "cell_type": "markdown",
   "metadata": {
    "id": "R7EX3a5pCfw8",
    "slideshow": {
     "slide_type": "subslide"
    }
   },
   "source": [
    "### Text generation workflow\n",
    "\n",
    "1. Train model;\n",
    "2. Present an initial *conditioning* text string (aka **prompt** or **context**);\n",
    "3. Model predicts the **probability distribution** for the next token;\n",
    "4. Sample from that distribution;\n",
    "4. Add the generated text to the input text;\n",
    "5. Go back to step 3."
   ]
  },
  {
   "cell_type": "markdown",
   "metadata": {
    "id": "TWudCgc8Cfw9",
    "slideshow": {
     "slide_type": "slide"
    }
   },
   "source": [
    "---\n",
    "\n",
    "### 12.1.3 The importance of the sampling strategy\n",
    "\n",
    "The **vanilla** way would be just to sample from the softmax output of the model (a probability distribution over the vocab).\n",
    "\n",
    "This is already smarter than **uniform sampling**, where each token has the same probability (maximum randomness)!\n",
    "\n",
    "However, we can actually vary the softmax itself (the shape of the probability), to **increase** or **decrease** the level of randomness.\n",
    "\n",
    "These *intermediate levels of randomness* are controlled by the **softmax temperature** – a fundamental tool for more interesting, creative outputs."
   ]
  },
  {
   "cell_type": "markdown",
   "metadata": {
    "id": "kptTYEU3Cfw_",
    "slideshow": {
     "slide_type": "subslide"
    }
   },
   "source": [
    "### Softmax temperature\n",
    "\n",
    "Remember, the softmax function is: \n",
    "\n",
    "$$\n",
    "\\bbox[5px,border:2px solid red]\n",
    "{\n",
    "\\text{softmax}(x_i) = \\frac{e^{x_i}}{\\sum_i e^{x_i}}\n",
    "}\n",
    "$$\n",
    "\n",
    "$x_i$: logits (scores) for each token in our vocabulary.\n",
    "\n",
    "\n",
    "It makes all numbers positive and normalises them (all lie between 0 and one and sum to 1) → they are turned into a **probability distribution**."
   ]
  },
  {
   "cell_type": "markdown",
   "metadata": {
    "id": "oyUt2wNRCfxA",
    "slideshow": {
     "slide_type": "subslide"
    }
   },
   "source": [
    "The parameterised softmax distribution adds a number $T$ like so:\n",
    "\n",
    "$$\n",
    "\\bbox[5px,border:2px solid red]\n",
    "{\n",
    "\\text{softmax}(x_i) = \\frac{e^{\\frac{x_i}{T}}}{\\sum_i e^{\\frac{x_i}{T}}}\n",
    "}\n",
    "$$\n",
    "\n",
    "### Usual values for $T$\n",
    "\n",
    "Depends on the model!\n",
    "\n",
    "Around 0.9 (most of the time above 0.7, rarely above 1. unless you yearn for delirium!)"
   ]
  },
  {
   "cell_type": "markdown",
   "metadata": {
    "id": "nNZBLuAiCfxA",
    "slideshow": {
     "slide_type": "subslide"
    }
   },
   "source": [
    "**Reweighting a probability distribution to a different temperature**\n",
    "\n",
    "Note that here we use the `log` to (half-)revert the effect of the softmax that the model operates already on its final logits.  In other architectures, the model outputs pre-softmax logits, so you do not need that step and directly divide by the temperature."
   ]
  },
  {
   "cell_type": "code",
   "execution_count": 5,
   "metadata": {
    "id": "rK9TFPGCCfxB",
    "slideshow": {
     "slide_type": "fragment"
    }
   },
   "outputs": [],
   "source": [
    "def reweight_distribution(original_distribution, temperature=0.5):\n",
    "    \"\"\"\n",
    "    1.a LOG: because `original_distribution` has been softmaxed! (Numerical stability)\n",
    "      b divide by TEMPERATURE: our reweighting\n",
    "    2. SOFTMAX: a. exponentiate\n",
    "                b. divide by the total\n",
    "\n",
    "    Notes:\n",
    "        - In many implementations, the log isn't there because the model returns\n",
    "          logits (before softmax)\n",
    "        - the last two lines could also be written: `tf.nn.softmax(distribution)`!\n",
    "    \"\"\"\n",
    "    distribution = np.log(original_distribution) / temperature # 1.a + b\n",
    "    distribution = np.exp(distribution)                        # 2.a\n",
    "    return distribution / np.sum(distribution)                 # 2.b\n"
   ]
  },
  {
   "cell_type": "markdown",
   "metadata": {
    "id": "2D_MXRZNCfxB",
    "slideshow": {
     "slide_type": "subslide"
    }
   },
   "source": [
    "### Limit cases\n",
    "\n",
    "1. $T \\rightarrow 0$:  \n",
    "    $\\frac{x_i}{T} \\rightarrow \\infty$ so $e^{\\frac{x_i}{T}} \\rightarrow \\infty$, so the highest probability dominates and the $softmax(x_i)$ becomes just $max(x_i)$: the maximum probability dominates – also known as **greedy sampling**;    \n",
    "    *If the temperature is too low, the model will tend to repeat itself!* (more 'conservative', less creative)...  \n",
    "    \n",
    "    \n",
    "    \n",
    "2. $T \\rightarrow \\infty$:  \n",
    "    $\\frac{x_i}{T} \\rightarrow 0$ so $e^{\\frac{x_i}{T}} \\rightarrow 1$ so $q_i \\rightarrow \\frac{1}{M}$ where $M$ is the number of softmax outputs – a **uniform distribution** (our well-known **random guess**);  \n",
    "    *If the temperature is too high, the model will tend to 'derail' and stop making sense!*  \n",
    "    (The formalisation of the link between creativity and madness? Σ(▼□▼メ)...\n",
    "    "
   ]
  },
  {
   "cell_type": "markdown",
   "metadata": {
    "id": "2D_MXRZNCfxB",
    "slideshow": {
     "slide_type": "subslide"
    }
   },
   "source": [
    "### Greedy sampling\n",
    "\n",
    "Always select the **most probable** step. This is called greedy because it is *exactly* the problem you face in real life: pick the best option **now** (= highest reward in the next step) vs have a more long-term strategy (which brings more payoffs in nearly every case)."
   ]
  },
  {
   "cell_type": "code",
   "execution_count": 6,
   "metadata": {
    "slideshow": {
     "slide_type": "skip"
    }
   },
   "outputs": [],
   "source": [
    "def plot_softmax_temperature():\n",
    "    nums = tf.random.uniform(shape=(10,))                           # ten random numbers\n",
    "    nums = tf.math.log(nums)                                        # take the log (optional)\n",
    "    probs = tf.nn.softmax(nums)                                     # turned into probabilities\n",
    "\n",
    "    fig, ((ax1, ax2), (ax3, ax4), (ax5, ax6)) = plt.subplots(3,2, figsize=(16,12))\n",
    "\n",
    "    ax1.bar([str(x) for x in range(nums.shape[0])], nums)           # our ten numbers\n",
    "    ax1.set_title(\"Log of ten random numbers\")\n",
    "    ax1.set_ylabel(\"Original range\")\n",
    "\n",
    "    ax2.bar([str(x) for x in range(probs.shape[0])], probs)         # the probabilities\n",
    "    ax2.set_title(\"Turned into probabilities\")\n",
    "    ax2.set_ylabel(\"From zero to one\")\n",
    "    ax2.set_ylim([0,1])\n",
    "\n",
    "    temp = 0.1                                                      # LOW temperature → very unequal/spiked results\n",
    "    weighted_nums = nums / temp                                     # reweighting\n",
    "    probs = tf.nn.softmax(weighted_nums)                            # turned into probabilities\n",
    "\n",
    "    ax3.bar([str(x) for x in range(probs.shape[0])], weighted_nums) # the probabilities\n",
    "    ax3.set_title(f\"Reweigted by temperature {temp}\")\n",
    "    ax3.set_ylabel(\"Increased range\")\n",
    "\n",
    "    ax4.bar([str(x) for x in range(probs.shape[0])], probs)         # the probabilities\n",
    "    ax4.set_title(\"The distribution is more spiked: likelier tokens will almost always get picked\")\n",
    "    ax4.set_ylabel(\"From zero to one\")\n",
    "    ax4.set_ylim([0,1])\n",
    "\n",
    "    temp = 10                                                       # HIGH temperature → very equal/flat results\n",
    "    weighted_nums = nums / temp                                     # reweighting\n",
    "    probs = tf.nn.softmax(weighted_nums)                            # turned into probabilities\n",
    "\n",
    "    ax5.bar([str(x) for x in range(probs.shape[0])], weighted_nums) # the probabilities\n",
    "    ax5.set_title(f\"Reweigted by temperature {temp}\")\n",
    "    ax5.set_ylabel(\"reduced range\")\n",
    "\n",
    "    ax6.bar([str(x) for x in range(probs.shape[0])], probs)         # the probabilities\n",
    "    ax6.set_title(\"The distribution is more flat: less likely tokens will be picked alongside likelier ones\")\n",
    "    ax6.set_ylabel(\"From zero to one\")\n",
    "    ax6.set_ylim([0,1])\n",
    "\n",
    "    plt.show()"
   ]
  },
  {
   "cell_type": "code",
   "execution_count": 7,
   "metadata": {
    "id": "NximGWbkCfxC",
    "outputId": "686e272f-193a-4adf-a0d0-cf60088f0139",
    "slideshow": {
     "slide_type": "subslide"
    }
   },
   "outputs": [
    {
     "data": {
      "image/png": "[encoded data removed]",
      "text/plain": [
       "<Figure size 1600x1200 with 6 Axes>"
      ]
     },
     "metadata": {},
     "output_type": "display_data"
    }
   ],
   "source": [
    "plot_softmax_temperature()"
   ]
  },
  {
   "cell_type": "markdown",
   "metadata": {
    "id": "ipbRGxxNCfxD",
    "slideshow": {
     "slide_type": "subslide"
    }
   },
   "source": [
    "#### More Sampling\n",
    "\n",
    "Sampling is usually combined with more techniques (it's an active area of research, as usual)\n",
    "\n",
    "- **Beam search**: generate several branches and iteratively select only the n best ones;  \n",
    "- **Top k sampling**: sample among the most k probable tokens, reapply softmax, sample from them only;  \n",
    "- **Top p (nucleus) sampling**: sample among the most probable token which, combined, amount to a probability of p;  \n",
    "\n",
    "[Patrick von Platen, \"How to generate text: using different decoding methods for language generation with Transformers\"](https://huggingface.co/blog/how-to-generate)"
   ]
  },
  {
   "cell_type": "markdown",
   "metadata": {
    "id": "Op6HG94LCfxE",
    "slideshow": {
     "slide_type": "slide"
    }
   },
   "source": [
    "---\n",
    "\n",
    "### 12.1.4 Implementing text generation with Keras"
   ]
  },
  {
   "cell_type": "code",
   "execution_count": 8,
   "metadata": {
    "id": "4KK4l2eAC7Zu",
    "slideshow": {
     "slide_type": "skip"
    }
   },
   "outputs": [],
   "source": [
    "base_dir = pathlib.Path(\"text-generation\")\n",
    "if not base_dir.is_dir():\n",
    "    os.mkdir(base_dir)\n",
    "\n",
    "ds_dir = pathlib.Path(base_dir / \"dataset\")\n",
    "if not ds_dir.is_dir():\n",
    "    os.mkdir(ds_dir)"
   ]
  },
  {
   "cell_type": "code",
   "execution_count": 10,
   "metadata": {
    "slideshow": {
     "slide_type": "fragment"
    },
    "tags": []
   },
   "outputs": [
    {
     "name": "stdout",
     "output_type": "stream",
     "text": [
      "\n",
      "Length of text: 1,115,394 characters\n",
      "\n",
      "First Citizen:\n",
      "Before we proceed any further, hear me speak.\n",
      "\n",
      "All:\n",
      "Speak, speak.\n",
      "\n",
      "First Citizen:\n",
      "You are all resolved rather to die than to famish?\n",
      "\n",
      "All:\n",
      "Resolved. resolved.\n",
      "\n",
      "First Citizen:\n",
      "First, you know Caius Marcius is chief enemy to the people.\n",
      "\n"
     ]
    }
   ],
   "source": [
    "path_to_file = tf.keras.utils.get_file(\n",
    "    'min-shakespeare.txt',\n",
    "    'https://storage.googleapis.com/download.tensorflow.org/data/shakespeare.txt',\n",
    "    cache_dir=base_dir,\n",
    "    cache_subdir=ds_dir.name\n",
    ")\n",
    "\n",
    "# Read, then decode for py2 compat.\n",
    "with open(path_to_file, 'rb') as i:\n",
    "    text = i.read().decode(encoding='utf-8')\n",
    "# length of text is the number of characters in it\n",
    "print()\n",
    "print(f'Length of text: {len(text):,} characters')\n",
    "\n",
    "print()\n",
    "print(text[:250])"
   ]
  },
  {
   "cell_type": "code",
   "execution_count": 11,
   "metadata": {
    "slideshow": {
     "slide_type": "subslide"
    }
   },
   "outputs": [],
   "source": [
    "text_vectorization = tf.keras.layers.TextVectorization( # note that we don't limit our vocab size here (no need)!\n",
    "    standardize=None, \n",
    "    split=\"character\",\n",
    "    output_mode=\"int\",\n",
    ")\n",
    "\n",
    "text_vectorization.adapt([text])\n",
    "tokens_index = dict(enumerate(text_vectorization.get_vocabulary()))\n",
    "vocab_size = len(text_vectorization.get_vocabulary())   # retrieve the vocab size afterwards"
   ]
  },
  {
   "cell_type": "code",
   "execution_count": 12,
   "metadata": {
    "slideshow": {
     "slide_type": "fragment"
    }
   },
   "outputs": [
    {
     "name": "stdout",
     "output_type": "stream",
     "text": [
      "b'First Citizen:\\nBefore we proceed any further, hear me speak.\\n\\nAll:\\nSpeak, speak.\\n\\nFirst Citizen:\\nYou are all resolved rather to die than to famish?\\n\\nAll:\\nResolved. resolved.\\n\\nFirst Citizen:\\nFirst, you know Caius Marcius is chief enemy to the people.\\n'\n"
     ]
    }
   ],
   "source": [
    "lm_dataset_raw = tf.data.Dataset.from_tensor_slices([text])\n",
    "\n",
    "for t in lm_dataset_raw:\n",
    "    print(t.numpy()[:250])"
   ]
  },
  {
   "cell_type": "code",
   "execution_count": 13,
   "metadata": {
    "slideshow": {
     "slide_type": "subslide"
    }
   },
   "outputs": [
    {
     "name": "stdout",
     "output_type": "stream",
     "text": [
      "tf.Tensor([51 11  9 ... 22 27 12], shape=(1115394,), dtype=int64)\n"
     ]
    }
   ],
   "source": [
    "lm_dataset_tok = lm_dataset_raw.map(text_vectorization)\n",
    "\n",
    "for t in lm_dataset_tok:\n",
    "    print(t)"
   ]
  },
  {
   "cell_type": "code",
   "execution_count": 14,
   "metadata": {
    "slideshow": {
     "slide_type": "fragment"
    }
   },
   "outputs": [
    {
     "name": "stdout",
     "output_type": "stream",
     "text": [
      "tf.Tensor(51, shape=(), dtype=int64)\n",
      "tf.Tensor(11, shape=(), dtype=int64)\n"
     ]
    }
   ],
   "source": [
    "# Flatten the dataset of one long tensor into a dataset of individual tokens (ChatGPT 4 12/23)\n",
    "lm_dataset_flat = lm_dataset_tok.flat_map(\n",
    "    lambda x: tf.data.Dataset.from_tensor_slices(x)\n",
    ")\n",
    "for t in lm_dataset_flat.take(2):\n",
    "    print(t)"
   ]
  },
  {
   "cell_type": "code",
   "execution_count": 15,
   "metadata": {
    "slideshow": {
     "slide_type": "fragment"
    }
   },
   "outputs": [
    {
     "name": "stdout",
     "output_type": "stream",
     "text": [
      "tf.Tensor(\n",
      "[51 11  9  8  4  2 39 11  4 11 59  3 10 26 12 45  3 20  5  9  3  2 19  3\n",
      "  2 25  9  5 21  3  3 14  2  6 10 17  2 20 15  9  4  7  3  9 18  2  7  3\n",
      "  6  9  2 16  3  2  8 25  3  6 30 27 12 12 28 13 13 26 12 37 25  3  6 30\n",
      " 18  2  8 25  3  6 30 27 12 12 51 11  9  8  4  2 39 11  4 11 59  3 10 26\n",
      " 12 52  5 15], shape=(100,), dtype=int64)\n"
     ]
    }
   ],
   "source": [
    "sequence_length = 100\n",
    "\n",
    "lm_dataset_seqs = lm_dataset_flat.batch(sequence_length, drop_remainder=True)\n",
    "\n",
    "for t in lm_dataset_seqs.take(1):\n",
    "    print(t)"
   ]
  },
  {
   "cell_type": "code",
   "execution_count": 16,
   "metadata": {
    "slideshow": {
     "slide_type": "subslide"
    }
   },
   "outputs": [
    {
     "name": "stdout",
     "output_type": "stream",
     "text": [
      "(64, 100)\n"
     ]
    }
   ],
   "source": [
    "# Batch size\n",
    "batch_size = 64\n",
    "\n",
    "# Buffer size to shuffle the dataset\n",
    "# (TF data is designed to work with possibly infinite sequences,\n",
    "# so it doesn't attempt to shuffle the entire sequence in memory. Instead,\n",
    "# it maintains a buffer in which it shuffles elements).\n",
    "buffer_size = 10000\n",
    "\n",
    "lm_dataset_batched = (\n",
    "    lm_dataset_seqs\n",
    "        .shuffle(buffer_size)\n",
    "        .batch(batch_size, drop_remainder=True)\n",
    "        .prefetch(tf.data.experimental.AUTOTUNE)\n",
    ")\n",
    "\n",
    "\n",
    "for t in lm_dataset_batched.take(1):\n",
    "    print(t.shape)"
   ]
  },
  {
   "cell_type": "code",
   "execution_count": 17,
   "metadata": {
    "colab": {
     "base_uri": "https://localhost:8080/"
    },
    "id": "u9thvr9vCfxN",
    "outputId": "1b8ad455-7c22-48ff-e43e-d85709e7ff74",
    "slideshow": {
     "slide_type": "subslide"
    }
   },
   "outputs": [],
   "source": [
    "def prepare_lm_dataset(tokens_batch):\n",
    "    x = tokens_batch[:, :-1]  # [a b c d e f g] the model predicts top to bottom,\n",
    "    y = tokens_batch[:, 1:]   # [b c d e f g h] a → b, a b → c, a b c → d, ..., in one go!\n",
    "    return x, y\n",
    "\n",
    "lm_dataset = lm_dataset_batched.map(prepare_lm_dataset, num_parallel_calls=4)"
   ]
  },
  {
   "cell_type": "markdown",
   "metadata": {
    "id": "CXFwYleaCfxN",
    "slideshow": {
     "slide_type": "subslide"
    }
   },
   "source": [
    "**Setting up a language modeling dataset**\n",
    "\n",
    "<!-- ![Chollet seq2seq learning](images/chollet.seq2seq-learning.p.372.png) -->\n",
    "\n",
    "<img src=\"https://github.com/jchwenger/AI/blob/main/8-generative-deep-learning/images/chollet.seq2seq-learning.p.372.png?raw=true\">\n",
    "\n",
    "<small>DLWP, p.372</small>"
   ]
  },
  {
   "cell_type": "markdown",
   "metadata": {
    "id": "x91LnsuTb6qh",
    "slideshow": {
     "slide_type": "subslide"
    }
   },
   "source": [
    "#### The Transformer Decoder"
   ]
  },
  {
   "cell_type": "code",
   "execution_count": 18,
   "metadata": {
    "id": "IG6wjsJHCfxO",
    "slideshow": {
     "slide_type": "fragment"
    }
   },
   "outputs": [],
   "source": [
    "@tf.keras.saving.register_keras_serializable(\"positional_embedding\")\n",
    "class PositionalEmbedding(tf.keras.layers.Layer):\n",
    "    def __init__(self, sequence_length, input_dim, output_dim, **kwargs):\n",
    "        super().__init__(**kwargs)\n",
    "        # token embeddings: semantic information\n",
    "        self.token_embeddings =tf.keras.layers.Embedding(\n",
    "            input_dim=input_dim, output_dim=output_dim\n",
    "        )\n",
    "        \n",
    "        # position embeddings: syntactic (spatial/temporal) information\n",
    "        self.position_embeddings =tf.keras.layers.Embedding(\n",
    "            input_dim=sequence_length, output_dim=output_dim\n",
    "        )\n",
    "\n",
    "        # more params\n",
    "        self.sequence_length = sequence_length\n",
    "        self.input_dim = input_dim\n",
    "        self.output_dim = output_dim\n",
    "\n",
    "    def call(self, inputs):\n",
    "        length = tf.shape(inputs)[-1]\n",
    "        embedded_tokens = self.token_embeddings(inputs)\n",
    "        positions = tf.range(start=0, limit=length, delta=1) # delta: step size\n",
    "        embedded_positions = self.position_embeddings(positions)\n",
    "        # both embeddings are simply added together!\n",
    "        return embedded_tokens + embedded_positions\n",
    "                                               # Turns int sequences into a mask, example:\n",
    "    def compute_mask(self, inputs, mask=None): # [ 12   3    54   3    0     0     ]\n",
    "        return tf.math.not_equal(inputs, 0)    # [ True True True True False False ]\n",
    "\n",
    "    def get_config(self): # retrieve config as a dict\n",
    "        config = super().get_config()\n",
    "        config.update({\n",
    "            \"output_dim\": self.output_dim,\n",
    "            \"sequence_length\": self.sequence_length,\n",
    "            \"input_dim\": self.input_dim,\n",
    "        })\n",
    "        return config"
   ]
  },
  {
   "cell_type": "code",
   "execution_count": 19,
   "metadata": {
    "colab": {
     "base_uri": "https://localhost:8080/"
    },
    "id": "mntQSHWK_-ro",
    "outputId": "1293e0ba-e4d1-4d0d-a693-314440b967ae",
    "slideshow": {
     "slide_type": "skip"
    }
   },
   "outputs": [
    {
     "name": "stdout",
     "output_type": "stream",
     "text": [
      "Inputs:\n",
      "tf.Tensor(\n",
      "[[47  9 15  8 33 34 39 40 13 29]\n",
      " [47  2 49 39  8 24 12 34 27 16]], shape=(2, 10), dtype=int32)\n",
      "\n",
      "i:\n",
      "[[0]\n",
      " [1]\n",
      " [2]\n",
      " [3]\n",
      " [4]\n",
      " [5]\n",
      " [6]\n",
      " [7]\n",
      " [8]\n",
      " [9]]\n",
      "\n",
      "j:\n",
      "[0 1 2 3 4 5 6 7 8 9]\n",
      "\n",
      "Is i >= i? Boolean cast to ints. (Note the broadcasting)\n",
      "\n",
      "tf.Tensor(\n",
      "[[1 0 0 0 0 0 0 0 0 0]\n",
      " [1 1 0 0 0 0 0 0 0 0]\n",
      " [1 1 1 0 0 0 0 0 0 0]\n",
      " [1 1 1 1 0 0 0 0 0 0]\n",
      " [1 1 1 1 1 0 0 0 0 0]\n",
      " [1 1 1 1 1 1 0 0 0 0]\n",
      " [1 1 1 1 1 1 1 0 0 0]\n",
      " [1 1 1 1 1 1 1 1 0 0]\n",
      " [1 1 1 1 1 1 1 1 1 0]\n",
      " [1 1 1 1 1 1 1 1 1 1]], shape=(10, 10), dtype=int32)\n",
      "\n",
      "We want mask to have the same dims as input, using `tf.tile`.\n",
      "Creating the right multiplier for it:\n",
      "\n",
      "tf.Tensor([2 1 1], shape=(3,), dtype=int32)\n",
      "\n",
      "Final mask with batch dimensions:\n",
      "\n",
      "tf.Tensor(\n",
      "[[[1 0 0 0 0 0 0 0 0 0]\n",
      "  [1 1 0 0 0 0 0 0 0 0]\n",
      "  [1 1 1 0 0 0 0 0 0 0]\n",
      "  [1 1 1 1 0 0 0 0 0 0]\n",
      "  [1 1 1 1 1 0 0 0 0 0]\n",
      "  [1 1 1 1 1 1 0 0 0 0]\n",
      "  [1 1 1 1 1 1 1 0 0 0]\n",
      "  [1 1 1 1 1 1 1 1 0 0]\n",
      "  [1 1 1 1 1 1 1 1 1 0]\n",
      "  [1 1 1 1 1 1 1 1 1 1]]\n",
      "\n",
      " [[1 0 0 0 0 0 0 0 0 0]\n",
      "  [1 1 0 0 0 0 0 0 0 0]\n",
      "  [1 1 1 0 0 0 0 0 0 0]\n",
      "  [1 1 1 1 0 0 0 0 0 0]\n",
      "  [1 1 1 1 1 0 0 0 0 0]\n",
      "  [1 1 1 1 1 1 0 0 0 0]\n",
      "  [1 1 1 1 1 1 1 0 0 0]\n",
      "  [1 1 1 1 1 1 1 1 0 0]\n",
      "  [1 1 1 1 1 1 1 1 1 0]\n",
      "  [1 1 1 1 1 1 1 1 1 1]]], shape=(2, 10, 10), dtype=int32)\n"
     ]
    }
   ],
   "source": [
    "def get_causal_attention_mask(inputs):\n",
    "    print(\"Inputs:\")\n",
    "    print(inputs)\n",
    "    print()\n",
    "    input_shape = tf.shape(inputs)\n",
    "    batch_size, sequence_length = input_shape[0], input_shape[1]\n",
    "    i = tf.range(sequence_length)[:, tf.newaxis]\n",
    "    j = tf.range(sequence_length)\n",
    "    print(f\"i:\\n{i}\")\n",
    "    print()\n",
    "    print(f\"j:\\n{j}\")\n",
    "    print()\n",
    "    mask = tf.cast(i >= j, dtype=\"int32\")\n",
    "    print(\"Is i >= i? Boolean cast to ints. (Note the broadcasting)\")\n",
    "    print()\n",
    "    print(mask)\n",
    "    print()\n",
    "    mask = tf.reshape(mask, (1, input_shape[1], input_shape[1])) # adding a batch dimension\n",
    "    mult = tf.concat(\n",
    "        [tf.expand_dims(batch_size, -1),\n",
    "         tf.constant([1, 1], dtype=tf.int32)], axis=0)\n",
    "    print(\"We want mask to have the same dims as input, using `tf.tile`.\")\n",
    "    print(\"Creating the right multiplier for it:\")\n",
    "    print()\n",
    "    print(mult)\n",
    "    print()\n",
    "    tile = tf.tile(mask, mult)\n",
    "    print(\"Final mask with batch dimensions:\")\n",
    "    print()\n",
    "    print(tile)\n",
    "    return tile\n",
    "\n",
    "mask = get_causal_attention_mask(tf.random.uniform(shape=(2,10), maxval=50, dtype=tf.int32))"
   ]
  },
  {
   "cell_type": "code",
   "execution_count": 20,
   "metadata": {
    "id": "fu2qWHPzCfxO",
    "slideshow": {
     "slide_type": "subslide"
    }
   },
   "outputs": [],
   "source": [
    "@tf.keras.saving.register_keras_serializable(\"transformer_decoder\")\n",
    "class TransformerDecoder(tf.keras.layers.Layer):\n",
    "    def __init__(self, embed_dim, dense_dim, num_heads, **kwargs):\n",
    "        super().__init__(**kwargs)\n",
    "        self.embed_dim = embed_dim                              # parameters\n",
    "        self.dense_dim = dense_dim\n",
    "        self.num_heads = num_heads\n",
    "        self.attention_1 = tf.keras.layers.MultiHeadAttention(  # multi-head attention\n",
    "            num_heads=num_heads, key_dim=embed_dim\n",
    "        )\n",
    "        self.attention_2 = tf.keras.layers.MultiHeadAttention(\n",
    "            num_heads=num_heads, key_dim=embed_dim)\n",
    "        self.dense_proj = tf.keras.Sequential(                  # dense layer on top: like a nonlinearity\n",
    "            [tf.keras.layers.Dense(dense_dim, activation=\"relu\"),\n",
    "             tf.keras.layers.Dense(embed_dim),]\n",
    "        )\n",
    "        self.layernorm_1 = tf.keras.layers.LayerNormalization() # layer norm\n",
    "        self.layernorm_2 = tf.keras.layers.LayerNormalization()\n",
    "        self.layernorm_3 = tf.keras.layers.LayerNormalization()\n",
    "        self.supports_masking = True                            # MASK: enforcing causality\n",
    "\n",
    "    # retrieve config as a dict (necessary for custom Keras layers)\n",
    "    def get_config(self):\n",
    "        config = super().get_config()\n",
    "        config.update({\n",
    "            \"embed_dim\": self.embed_dim,\n",
    "            \"num_heads\": self.num_heads,\n",
    "            \"dense_dim\": self.dense_dim,\n",
    "        })\n",
    "        return config\n",
    "\n",
    "    def get_causal_attention_mask(self, inputs):                           # CAUSAL MASK\n",
    "        input_shape = tf.shape(inputs)\n",
    "        batch_size, sequence_length = input_shape[0], input_shape[1]\n",
    "        i = tf.range(sequence_length)[:, tf.newaxis]\n",
    "        j = tf.range(sequence_length)\n",
    "        mask = tf.cast(i >= j, dtype=\"int32\")\n",
    "        mask = tf.reshape(mask, (1, input_shape[1], input_shape[1]))\n",
    "        mult = tf.concat(\n",
    "            [tf.expand_dims(batch_size, -1),\n",
    "             tf.constant([1, 1], dtype=tf.int32)], axis=0)\n",
    "        return tf.tile(mask, mult)\n",
    "\n",
    "    def call(self, inputs, encoder_outputs, mask=None):\n",
    "        \n",
    "        causal_mask = self.get_causal_attention_mask(inputs)               # prepare the causal mask\n",
    "        if mask is not None:                                               # (as well as the padding mask:\n",
    "            padding_mask = tf.cast(                                        # ignoring zeros in the input)\n",
    "                mask[:, tf.newaxis, :], dtype=\"int32\")\n",
    "            padding_mask = tf.minimum(padding_mask, causal_mask)\n",
    "            \n",
    "        attention_output_1 = self.attention_1(                             # REGULAR MASKED ATTENTION\n",
    "            query=inputs,\n",
    "            value=inputs,\n",
    "            key=inputs, # ↓ apply the causal mask\n",
    "            attention_mask=causal_mask)\n",
    "        attention_output_1 = self.layernorm_1(inputs + attention_output_1) # layer norm\n",
    "        \n",
    "        attention_output_2 = self.attention_2(                             # CROSS-ATTENTION\n",
    "            query=attention_output_1,                                      # query: output of DECODER\n",
    "            value=encoder_outputs,                                         # key:   output of ENCODER\n",
    "            key=encoder_outputs,                                           # value: output of ENCODER\n",
    "            attention_mask=padding_mask,\n",
    "        )\n",
    "        attention_output_2 = self.layernorm_2(       # layer norm: concatenate both attention matrices\n",
    "            attention_output_1 + attention_output_2  # cross-attention (encoder) + regular masked attention (decoder)\n",
    "        )\n",
    "        proj_output = self.dense_proj(attention_output_2)                  # dense net / nonlinearity\n",
    "        return self.layernorm_3(attention_output_2 + proj_output)"
   ]
  },
  {
   "cell_type": "markdown",
   "metadata": {
    "id": "X4Gjp3HFCfxP",
    "jupyter": {
     "source_hidden": true
    },
    "slideshow": {
     "slide_type": "subslide"
    },
    "tags": []
   },
   "source": [
    "**A simple Transformer-based language model**"
   ]
  },
  {
   "cell_type": "code",
   "execution_count": 21,
   "metadata": {
    "colab": {
     "base_uri": "https://localhost:8080/"
    },
    "id": "Xe7e1LChCfxQ",
    "outputId": "8835f8cf-8d05-4c43-b5a0-4f08fba10a4d",
    "slideshow": {
     "slide_type": "fragment"
    }
   },
   "outputs": [
    {
     "name": "stdout",
     "output_type": "stream",
     "text": [
      "learning rate: 0.001\n"
     ]
    }
   ],
   "source": [
    "embed_dim = 256\n",
    "latent_dim = 2048\n",
    "num_heads = 2\n",
    "\n",
    "learning_rate = 0.001 \n",
    "print(f\"learning rate: {learning_rate}\")\n",
    "\n",
    "def build_model(embed_dim, latent_dim, num_heads):\n",
    "    inputs = tf.keras.Input(shape=(None,), dtype=\"int64\")\n",
    "    x = PositionalEmbedding(sequence_length,vocab_size, embed_dim)(inputs)\n",
    "    x = TransformerDecoder(embed_dim, latent_dim, num_heads)(\n",
    "        inputs=x, encoder_outputs=x # we use x as both encoder & decoder input!\n",
    "    )\n",
    "    outputs =tf.keras.layers.Dense(vocab_size, activation=\"softmax\")(x) # probability distribution over the vocab\n",
    "    model = tf.keras.Model(inputs, outputs)\n",
    "    model.compile(\n",
    "        loss=\"sparse_categorical_crossentropy\",\n",
    "        optimizer=tf.keras.optimizers.RMSprop(learning_rate),\n",
    "    )\n",
    "    return model\n",
    "\n",
    "model = build_model(embed_dim, latent_dim, num_heads)"
   ]
  },
  {
   "cell_type": "code",
   "execution_count": 22,
   "metadata": {
    "slideshow": {
     "slide_type": "subslide"
    }
   },
   "outputs": [
    {
     "name": "stdout",
     "output_type": "stream",
     "text": [
      "Model: \"model\"\n",
      "__________________________________________________________________________________________________\n",
      " Layer (type)                Output Shape                 Param #   Connected to                  \n",
      "==================================================================================================\n",
      " input_1 (InputLayer)        [(None, None)]               0         []                            \n",
      "                                                                                                  \n",
      " positional_embedding (Posi  (None, None, 256)            42752     ['input_1[0][0]']             \n",
      " tionalEmbedding)                                                                                 \n",
      "                                                                                                  \n",
      " transformer_decoder (Trans  (None, None, 256)            2104576   ['positional_embedding[0][0]',\n",
      " formerDecoder)                                                      'positional_embedding[0][0]']\n",
      "                                                                                                  \n",
      " dense_2 (Dense)             (None, None, 67)             17219     ['transformer_decoder[0][0]'] \n",
      "                                                                                                  \n",
      "==================================================================================================\n",
      "Total params: 2164547 (8.26 MB)\n",
      "Trainable params: 2164547 (8.26 MB)\n",
      "Non-trainable params: 0 (0.00 Byte)\n",
      "__________________________________________________________________________________________________\n"
     ]
    }
   ],
   "source": [
    "model.summary()"
   ]
  },
  {
   "cell_type": "markdown",
   "metadata": {
    "id": "dY-Pht-mCfxR",
    "slideshow": {
     "slide_type": "slide"
    }
   },
   "source": [
    "---\n",
    "\n",
    "### 12.1.5 A text-generation callback with variable-temperature sampling"
   ]
  },
  {
   "cell_type": "code",
   "execution_count": 34,
   "metadata": {
    "id": "blhkdIjvCfxR",
    "slideshow": {
     "slide_type": "fragment"
    }
   },
   "outputs": [],
   "source": [
    "def sample_next(predictions, temperature=1.0):\n",
    "    predictions = np.asarray(predictions).astype(\"float64\")\n",
    "    predictions = np.log(predictions) / temperature                 # temperature reweighting\n",
    "    exp_preds = np.exp(predictions)                                 # these two lines are actually\n",
    "    predictions = exp_preds / np.sum(exp_preds)                     # a softmax\n",
    "    probas = np.random.multinomial(1, predictions, 1)               # sampling using our probabilities\n",
    "    return np.argmax(probas)\n",
    "\n",
    "class TextGenerator(tf.keras.callbacks.Callback):\n",
    "    def __init__(self,\n",
    "                 prompt,                                            # initial context\n",
    "                 generate_length,                                   # how many words to generate\n",
    "                 seq_length,\n",
    "                 temperatures=(1.,),                                # a range of different temperatures\n",
    "                 print_freq=50):\n",
    "        self.prompt = prompt\n",
    "        self.generate_length = generate_length\n",
    "        self.seq_length = seq_length\n",
    "        self.temperatures = temperatures\n",
    "        self.print_freq = print_freq\n",
    "\n",
    "    def on_epoch_end(self, epoch, logs=None):\n",
    "        if epoch % self.print_freq == 0:\n",
    "            print()\n",
    "            print()\n",
    "            print(\"EPOCH\", epoch + 1)\n",
    "            print()        \n",
    "            print(\"-\" * 40)\n",
    "            for temperature in self.temperatures:\n",
    "                msg = f\"temperature {temperature}\"\n",
    "                print(msg)\n",
    "                print(\"-\" * len(msg))\n",
    "                sentence = self.prompt                                                      # start with our prompt\n",
    "                for i in range(self.generate_length):\n",
    "                    tokenized_sentence = text_vectorization([sentence])                     # encode the sentence & feed to the model\n",
    "                    predictions = self.model(tokenized_sentence[:, - self.seq_length + 1:]) # which gives us predictions (crop to seq_len!)\n",
    "                    next_token = sample_next(predictions[0, -1, :])                         # use these to sample (get the index)\n",
    "                    sampled_token = tokens_index[next_token]                                # use the index to pick the token\n",
    "                    sentence += sampled_token                                               # add it to our sentence\n",
    "                print(sentence)\n",
    "                print()\n",
    "            print(\"-\" * 40)\n",
    "\n",
    "\n",
    "prompt = \"JULIET:\"\n",
    "text_gen_callback = TextGenerator(\n",
    "    prompt,\n",
    "    generate_length=sequence_length,\n",
    "    seq_length=sequence_length,\n",
    "    temperatures=(0.5, 0.7, 1.), # a diverse range of temperature to see its effect\n",
    "    print_freq=50,\n",
    ")\n",
    "\n",
    "checkpoint_path = base_dir / \"checkpoints/gpt.ckpt\"\n",
    "checkpoint_dir = os.path.dirname(checkpoint_path)\n",
    "ckpt_callback = tf.keras.callbacks.ModelCheckpoint(\n",
    "    str(checkpoint_path),\n",
    "    monitor=\"loss\",\n",
    "    save_best_only=True\n",
    ")"
   ]
  },
  {
   "cell_type": "markdown",
   "metadata": {
    "id": "ooCEauUfCfxS",
    "slideshow": {
     "slide_type": "slide"
    },
    "tags": []
   },
   "source": [
    "### Training\n",
    "\n",
    "**Fitting the language model**"
   ]
  },
  {
   "cell_type": "code",
   "execution_count": 35,
   "metadata": {
    "scrolled": false,
    "slideshow": {
     "slide_type": "fragment"
    },
    "tags": []
   },
   "outputs": [
    {
     "name": "stdout",
     "output_type": "stream",
     "text": [
      "Epoch 1/200\n",
      "      6/Unknown - 4s 57ms/step - loss: 1.9644WARNING:tensorflow:Callback method `on_train_batch_end` is slow compared to the batch time (batch time: 0.0236s vs `on_train_batch_end` time: 0.0320s). Check your callbacks.\n"
     ]
    },
    {
     "name": "stderr",
     "output_type": "stream",
     "text": [
      "WARNING:tensorflow:Callback method `on_train_batch_end` is slow compared to the batch time (batch time: 0.0236s vs `on_train_batch_end` time: 0.0320s). Check your callbacks.\n"
     ]
    },
    {
     "name": "stdout",
     "output_type": "stream",
     "text": [
      "    174/Unknown - 14s 55ms/step - loss: 1.9081\n",
      "\n",
      "EPOCH 1\n",
      "\n",
      "----------------------------------------\n",
      "temperature 0.5\n",
      "---------------\n",
      "JULIET:\n",
      "But the art thee wos; bout fusidad.\n",
      "\n",
      "CLIFIAREL:\n",
      "Now tord my curse bundight\n",
      "And by roith callmp brea\n",
      "\n",
      "temperature 0.7\n",
      "---------------\n",
      "JULIET:\n",
      "If this shis hand ight hends,\n",
      "In not spoces of can own a rell ouranget an Pruiesh. What Clit\n",
      "Chit d\n",
      "\n",
      "temperature 1.0\n",
      "---------------\n",
      "JULIET:\n",
      "Trusthis she have spenth wo with with didd meve\n",
      "His our the ar spose.\n",
      "Citius ses, piresuch's I ham \n",
      "\n",
      "----------------------------------------\n",
      "174/174 [==============================] - 45s 237ms/step - loss: 1.9081\n",
      "Epoch 2/200\n",
      "174/174 [==============================] - 19s 87ms/step - loss: 1.7928\n",
      "Epoch 3/200\n",
      "174/174 [==============================] - 19s 87ms/step - loss: 1.7236\n",
      "Epoch 4/200\n",
      "174/174 [==============================] - 19s 89ms/step - loss: 1.6791\n",
      "Epoch 5/200\n",
      "174/174 [==============================] - 20s 93ms/step - loss: 1.6454\n",
      "Epoch 6/200\n",
      "174/174 [==============================] - 19s 87ms/step - loss: 1.6130\n",
      "Epoch 7/200\n",
      "174/174 [==============================] - 19s 87ms/step - loss: 1.5880\n",
      "Epoch 8/200\n",
      "174/174 [==============================] - 19s 87ms/step - loss: 1.5691\n",
      "Epoch 9/200\n",
      "174/174 [==============================] - 19s 87ms/step - loss: 1.5474\n",
      "Epoch 10/200\n",
      "174/174 [==============================] - 19s 88ms/step - loss: 1.5324\n",
      "Epoch 11/200\n",
      "174/174 [==============================] - 21s 96ms/step - loss: 1.5173\n",
      "Epoch 12/200\n",
      "174/174 [==============================] - 21s 94ms/step - loss: 1.5050\n",
      "Epoch 13/200\n",
      "174/174 [==============================] - 21s 95ms/step - loss: 1.4885\n",
      "Epoch 14/200\n",
      "174/174 [==============================] - 20s 94ms/step - loss: 1.4774\n",
      "Epoch 15/200\n",
      "174/174 [==============================] - 24s 109ms/step - loss: 1.4668\n",
      "Epoch 16/200\n",
      "174/174 [==============================] - 24s 113ms/step - loss: 1.4549\n",
      "Epoch 17/200\n",
      "174/174 [==============================] - 21s 94ms/step - loss: 1.4471\n",
      "Epoch 18/200\n",
      "174/174 [==============================] - 21s 99ms/step - loss: 1.4363\n",
      "Epoch 19/200\n",
      "174/174 [==============================] - 23s 99ms/step - loss: 1.4281\n",
      "Epoch 20/200\n",
      "174/174 [==============================] - 23s 106ms/step - loss: 1.4200\n",
      "Epoch 21/200\n",
      "174/174 [==============================] - 26s 117ms/step - loss: 1.4117\n",
      "Epoch 22/200\n",
      "174/174 [==============================] - 26s 116ms/step - loss: 1.4025\n",
      "Epoch 23/200\n",
      "174/174 [==============================] - 28s 125ms/step - loss: 1.3955\n",
      "Epoch 24/200\n",
      "174/174 [==============================] - 26s 105ms/step - loss: 1.3888\n",
      "Epoch 25/200\n",
      "174/174 [==============================] - 23s 107ms/step - loss: 1.3818\n",
      "Epoch 26/200\n",
      "174/174 [==============================] - 24s 109ms/step - loss: 1.3755\n",
      "Epoch 27/200\n",
      "174/174 [==============================] - 26s 116ms/step - loss: 1.3680\n",
      "Epoch 28/200\n",
      "174/174 [==============================] - 23s 104ms/step - loss: 1.3631\n",
      "Epoch 29/200\n",
      "174/174 [==============================] - 27s 128ms/step - loss: 1.3553\n",
      "Epoch 30/200\n",
      "174/174 [==============================] - 24s 112ms/step - loss: 1.3507\n",
      "Epoch 31/200\n",
      "174/174 [==============================] - 26s 120ms/step - loss: 1.3440\n",
      "Epoch 32/200\n",
      "174/174 [==============================] - 27s 120ms/step - loss: 1.3378\n",
      "Epoch 33/200\n",
      "174/174 [==============================] - 27s 120ms/step - loss: 1.3327\n",
      "Epoch 34/200\n",
      "174/174 [==============================] - 24s 107ms/step - loss: 1.3263\n",
      "Epoch 35/200\n",
      "174/174 [==============================] - 23s 100ms/step - loss: 1.3223\n",
      "Epoch 36/200\n",
      "174/174 [==============================] - 22s 102ms/step - loss: 1.3170\n",
      "Epoch 37/200\n",
      "174/174 [==============================] - 23s 105ms/step - loss: 1.3127\n",
      "Epoch 38/200\n",
      "174/174 [==============================] - 22s 99ms/step - loss: 1.3069\n",
      "Epoch 39/200\n",
      "174/174 [==============================] - 23s 107ms/step - loss: 1.3021\n",
      "Epoch 40/200\n",
      "174/174 [==============================] - 23s 102ms/step - loss: 1.2965\n",
      "Epoch 41/200\n",
      "174/174 [==============================] - 23s 104ms/step - loss: 1.2928\n",
      "Epoch 42/200\n",
      "174/174 [==============================] - 23s 107ms/step - loss: 1.2868\n",
      "Epoch 43/200\n",
      "174/174 [==============================] - 23s 105ms/step - loss: 1.2835\n",
      "Epoch 44/200\n",
      "174/174 [==============================] - 23s 104ms/step - loss: 1.2788\n",
      "Epoch 45/200\n",
      "174/174 [==============================] - 24s 113ms/step - loss: 1.2738\n",
      "Epoch 46/200\n",
      "174/174 [==============================] - 22s 98ms/step - loss: 1.2708\n",
      "Epoch 47/200\n",
      "174/174 [==============================] - 22s 98ms/step - loss: 1.2649\n",
      "Epoch 48/200\n",
      "174/174 [==============================] - 23s 104ms/step - loss: 1.2617\n",
      "Epoch 49/200\n",
      "174/174 [==============================] - 22s 100ms/step - loss: 1.2575\n",
      "Epoch 50/200\n",
      "174/174 [==============================] - 22s 98ms/step - loss: 1.2540\n",
      "Epoch 51/200\n",
      "174/174 [==============================] - ETA: 0s - loss: 1.2494\n",
      "\n",
      "EPOCH 51\n",
      "\n",
      "----------------------------------------\n",
      "temperature 0.5\n",
      "---------------\n",
      "JULIET:\n",
      "Go, get New are wench away.\n",
      "\n",
      "Second Senator:\n",
      "The bite!\n",
      "I'll be them bettermember what werench court\n",
      "\n",
      "temperature 0.7\n",
      "---------------\n",
      "JULIET:\n",
      "O, my good my calm.\n",
      "\n",
      "CLIFFORD:\n",
      "I let me me forth, how ithere you?\n",
      "\n",
      "KING God's to her strange Forth,\n",
      "\n",
      "temperature 1.0\n",
      "---------------\n",
      "JULIET:\n",
      "These bear any of a be peart, were you\n",
      "Julietaute of all prove brought full to death.\n",
      "\n",
      "CURTIS:\n",
      "It g\n",
      "\n",
      "----------------------------------------\n",
      "174/174 [==============================] - 57s 302ms/step - loss: 1.2494\n",
      "Epoch 52/200\n",
      "174/174 [==============================] - 22s 100ms/step - loss: 1.2463\n",
      "Epoch 53/200\n",
      "174/174 [==============================] - 22s 101ms/step - loss: 1.2409\n",
      "Epoch 54/200\n",
      "174/174 [==============================] - 22s 99ms/step - loss: 1.2376\n",
      "Epoch 55/200\n",
      "174/174 [==============================] - 22s 99ms/step - loss: 1.2338\n",
      "Epoch 56/200\n",
      "174/174 [==============================] - 22s 97ms/step - loss: 1.2304\n",
      "Epoch 57/200\n",
      "174/174 [==============================] - 24s 108ms/step - loss: 1.2263\n",
      "Epoch 58/200\n",
      "174/174 [==============================] - 22s 101ms/step - loss: 1.2222\n",
      "Epoch 59/200\n",
      "174/174 [==============================] - 22s 100ms/step - loss: 1.2195\n",
      "Epoch 60/200\n",
      "174/174 [==============================] - 22s 98ms/step - loss: 1.2157\n",
      "Epoch 61/200\n",
      "174/174 [==============================] - 21s 98ms/step - loss: 1.2119\n",
      "Epoch 62/200\n",
      "174/174 [==============================] - 23s 107ms/step - loss: 1.2088\n",
      "Epoch 63/200\n",
      "174/174 [==============================] - 22s 97ms/step - loss: 1.2054\n",
      "Epoch 64/200\n",
      "174/174 [==============================] - 22s 101ms/step - loss: 1.2018\n",
      "Epoch 65/200\n",
      "174/174 [==============================] - 22s 102ms/step - loss: 1.1987\n",
      "Epoch 66/200\n",
      "174/174 [==============================] - 22s 98ms/step - loss: 1.1959\n",
      "Epoch 67/200\n",
      "174/174 [==============================] - 22s 99ms/step - loss: 1.1920\n",
      "Epoch 68/200\n",
      "174/174 [==============================] - 23s 105ms/step - loss: 1.1877\n",
      "Epoch 69/200\n",
      "174/174 [==============================] - 22s 98ms/step - loss: 1.1862\n",
      "Epoch 70/200\n",
      "174/174 [==============================] - 22s 99ms/step - loss: 1.1818\n",
      "Epoch 71/200\n",
      "174/174 [==============================] - 22s 99ms/step - loss: 1.1791\n",
      "Epoch 72/200\n",
      "174/174 [==============================] - 22s 100ms/step - loss: 1.1760\n",
      "Epoch 73/200\n",
      "174/174 [==============================] - 22s 100ms/step - loss: 1.1730\n",
      "Epoch 74/200\n",
      "174/174 [==============================] - 23s 105ms/step - loss: 1.1699\n",
      "Epoch 75/200\n",
      "174/174 [==============================] - 22s 103ms/step - loss: 1.1661\n",
      "Epoch 76/200\n",
      "174/174 [==============================] - 21s 98ms/step - loss: 1.1647\n",
      "Epoch 77/200\n",
      "174/174 [==============================] - 22s 98ms/step - loss: 1.1605\n",
      "Epoch 78/200\n",
      "174/174 [==============================] - 22s 101ms/step - loss: 1.1579\n",
      "Epoch 79/200\n",
      "174/174 [==============================] - 22s 100ms/step - loss: 1.1540\n",
      "Epoch 80/200\n",
      "174/174 [==============================] - 23s 105ms/step - loss: 1.1522\n",
      "Epoch 81/200\n",
      "174/174 [==============================] - 22s 102ms/step - loss: 1.1486\n",
      "Epoch 82/200\n",
      "174/174 [==============================] - 20s 90ms/step - loss: 1.1451\n",
      "Epoch 83/200\n",
      "174/174 [==============================] - 20s 91ms/step - loss: 1.1429\n",
      "Epoch 84/200\n",
      "174/174 [==============================] - 20s 92ms/step - loss: 1.1395\n",
      "Epoch 85/200\n",
      "174/174 [==============================] - 20s 90ms/step - loss: 1.1375\n",
      "Epoch 86/200\n",
      "174/174 [==============================] - 20s 94ms/step - loss: 1.1344\n",
      "Epoch 87/200\n",
      "174/174 [==============================] - 19s 89ms/step - loss: 1.1317\n",
      "Epoch 88/200\n",
      "174/174 [==============================] - 20s 92ms/step - loss: 1.1288\n",
      "Epoch 89/200\n",
      "174/174 [==============================] - 20s 89ms/step - loss: 1.1260\n",
      "Epoch 90/200\n",
      "174/174 [==============================] - 19s 88ms/step - loss: 1.1239\n",
      "Epoch 91/200\n",
      "174/174 [==============================] - 21s 98ms/step - loss: 1.1207\n",
      "Epoch 92/200\n",
      "174/174 [==============================] - 20s 90ms/step - loss: 1.1184\n",
      "Epoch 93/200\n",
      "174/174 [==============================] - 20s 89ms/step - loss: 1.1149\n",
      "Epoch 94/200\n",
      "174/174 [==============================] - 19s 88ms/step - loss: 1.1131\n",
      "Epoch 95/200\n",
      "174/174 [==============================] - 19s 88ms/step - loss: 1.1105\n",
      "Epoch 96/200\n",
      "174/174 [==============================] - 20s 94ms/step - loss: 1.1076\n",
      "Epoch 97/200\n",
      "174/174 [==============================] - 19s 89ms/step - loss: 1.1048\n",
      "Epoch 98/200\n",
      "174/174 [==============================] - 19s 88ms/step - loss: 1.1022\n",
      "Epoch 99/200\n",
      "174/174 [==============================] - 19s 88ms/step - loss: 1.0989\n",
      "Epoch 100/200\n",
      "174/174 [==============================] - 19s 88ms/step - loss: 1.0965\n",
      "Epoch 101/200\n",
      "174/174 [==============================] - ETA: 0s - loss: 1.0947\n",
      "\n",
      "EPOCH 101\n",
      "\n",
      "----------------------------------------\n",
      "temperature 0.5\n",
      "---------------\n",
      "JULIET:\n",
      "Well stand well et me isle upon this gone to me.\n",
      "\n",
      "BAPTISTA:\n",
      "Now, vips, my lords wish is veceive; fo\n",
      "\n",
      "temperature 0.7\n",
      "---------------\n",
      "JULIET:\n",
      "I will wewicked all upon mine ear crown,\n",
      "I should report with all him for goh;\n",
      "There shall field of\n",
      "\n",
      "temperature 1.0\n",
      "---------------\n",
      "JULIET:\n",
      "Here me loved me your well;\n",
      "Our counselen base happy suspecious and with all\n",
      "bedessied will, 'I tha\n",
      "\n",
      "----------------------------------------\n",
      "174/174 [==============================] - 46s 242ms/step - loss: 1.0947\n",
      "Epoch 102/200\n",
      "174/174 [==============================] - 20s 95ms/step - loss: 1.0919\n",
      "Epoch 103/200\n",
      "174/174 [==============================] - 19s 88ms/step - loss: 1.0882\n",
      "Epoch 104/200\n",
      "174/174 [==============================] - 19s 87ms/step - loss: 1.0865\n",
      "Epoch 105/200\n",
      "174/174 [==============================] - 19s 88ms/step - loss: 1.0841\n",
      "Epoch 106/200\n",
      "174/174 [==============================] - 19s 87ms/step - loss: 1.0809\n",
      "Epoch 107/200\n",
      "174/174 [==============================] - 19s 88ms/step - loss: 1.0795\n",
      "Epoch 108/200\n",
      "174/174 [==============================] - 20s 95ms/step - loss: 1.0757\n",
      "Epoch 109/200\n",
      "174/174 [==============================] - 19s 88ms/step - loss: 1.0732\n",
      "Epoch 110/200\n",
      "174/174 [==============================] - 19s 88ms/step - loss: 1.0709\n",
      "Epoch 111/200\n",
      "174/174 [==============================] - 19s 88ms/step - loss: 1.0683\n",
      "Epoch 112/200\n",
      "174/174 [==============================] - 19s 89ms/step - loss: 1.0667\n",
      "Epoch 113/200\n",
      "174/174 [==============================] - 19s 89ms/step - loss: 1.0640\n",
      "Epoch 114/200\n",
      "174/174 [==============================] - 21s 98ms/step - loss: 1.0603\n",
      "Epoch 115/200\n",
      "174/174 [==============================] - 20s 93ms/step - loss: 1.0584\n",
      "Epoch 116/200\n",
      "174/174 [==============================] - 20s 90ms/step - loss: 1.0572\n",
      "Epoch 117/200\n",
      "174/174 [==============================] - 19s 88ms/step - loss: 1.0528\n",
      "Epoch 118/200\n",
      "174/174 [==============================] - 19s 88ms/step - loss: 1.0513\n",
      "Epoch 119/200\n",
      "174/174 [==============================] - 19s 88ms/step - loss: 1.0485\n",
      "Epoch 120/200\n",
      "174/174 [==============================] - 22s 101ms/step - loss: 1.0462\n",
      "Epoch 121/200\n",
      "174/174 [==============================] - 19s 89ms/step - loss: 1.0440\n",
      "Epoch 122/200\n",
      "174/174 [==============================] - 21s 95ms/step - loss: 1.0425\n",
      "Epoch 123/200\n",
      "174/174 [==============================] - 21s 97ms/step - loss: 1.0392\n",
      "Epoch 124/200\n",
      "174/174 [==============================] - 21s 94ms/step - loss: 1.0369\n",
      "Epoch 125/200\n",
      "174/174 [==============================] - 20s 93ms/step - loss: 1.0346\n",
      "Epoch 126/200\n",
      "174/174 [==============================] - 23s 103ms/step - loss: 1.0318\n",
      "Epoch 127/200\n",
      "174/174 [==============================] - 21s 94ms/step - loss: 1.0299\n",
      "Epoch 128/200\n",
      "174/174 [==============================] - 20s 94ms/step - loss: 1.0269\n",
      "Epoch 129/200\n",
      "174/174 [==============================] - 21s 97ms/step - loss: 1.0254\n",
      "Epoch 130/200\n",
      "174/174 [==============================] - 20s 91ms/step - loss: 1.0210\n",
      "Epoch 131/200\n",
      "174/174 [==============================] - 20s 89ms/step - loss: 1.0201\n",
      "Epoch 132/200\n",
      "174/174 [==============================] - 20s 94ms/step - loss: 1.0169\n",
      "Epoch 133/200\n",
      "174/174 [==============================] - 19s 88ms/step - loss: 1.0162\n",
      "Epoch 134/200\n",
      "174/174 [==============================] - 19s 88ms/step - loss: 1.0126\n",
      "Epoch 135/200\n",
      "174/174 [==============================] - 20s 91ms/step - loss: 1.0111\n",
      "Epoch 136/200\n",
      "174/174 [==============================] - 20s 90ms/step - loss: 1.0079\n",
      "Epoch 137/200\n",
      "174/174 [==============================] - 20s 93ms/step - loss: 1.0075\n",
      "Epoch 138/200\n",
      "174/174 [==============================] - 19s 88ms/step - loss: 1.0040\n",
      "Epoch 139/200\n",
      "174/174 [==============================] - 20s 91ms/step - loss: 1.0013\n",
      "Epoch 140/200\n",
      "174/174 [==============================] - 21s 98ms/step - loss: 1.0006\n",
      "Epoch 141/200\n",
      "174/174 [==============================] - 19s 89ms/step - loss: 0.9982\n",
      "Epoch 142/200\n",
      "174/174 [==============================] - 21s 98ms/step - loss: 0.9958\n",
      "Epoch 143/200\n",
      "174/174 [==============================] - 21s 95ms/step - loss: 0.9929\n",
      "Epoch 144/200\n",
      "174/174 [==============================] - 20s 93ms/step - loss: 0.9908\n",
      "Epoch 145/200\n",
      "174/174 [==============================] - 20s 91ms/step - loss: 0.9886\n",
      "Epoch 146/200\n",
      "174/174 [==============================] - 20s 90ms/step - loss: 0.9858\n",
      "Epoch 147/200\n",
      "174/174 [==============================] - 22s 100ms/step - loss: 0.9847\n",
      "Epoch 148/200\n",
      "174/174 [==============================] - 20s 91ms/step - loss: 0.9821\n",
      "Epoch 149/200\n",
      "174/174 [==============================] - 22s 101ms/step - loss: 0.9802\n",
      "Epoch 150/200\n",
      "174/174 [==============================] - 22s 103ms/step - loss: 0.9786\n",
      "Epoch 151/200\n",
      "174/174 [==============================] - ETA: 0s - loss: 0.9750\n",
      "\n",
      "EPOCH 151\n",
      "\n",
      "----------------------------------------\n",
      "temperature 0.5\n",
      "---------------\n",
      "JULIET:\n",
      "Faith, now, farewellow, without shall be and him:\n",
      "In then false the wakes in honer to than found\n",
      "to\n",
      "\n",
      "temperature 0.7\n",
      "---------------\n",
      "JULIET:\n",
      "Have you to mercy, good not thy sovereign,\n",
      "And neither ten omuch to your partny the action\n",
      "And his \n",
      "\n",
      "temperature 1.0\n",
      "---------------\n",
      "JULIET:\n",
      "Nay, noble did tever send in the Tower,\n",
      "I am is a pupon and herited complicious.\n",
      "I'll make he's goo\n",
      "\n",
      "----------------------------------------\n",
      "174/174 [==============================] - 53s 276ms/step - loss: 0.9750\n",
      "Epoch 152/200\n",
      "174/174 [==============================] - 20s 94ms/step - loss: 0.9722\n",
      "Epoch 153/200\n",
      "174/174 [==============================] - 19s 87ms/step - loss: 0.9716\n",
      "Epoch 154/200\n",
      "174/174 [==============================] - 21s 97ms/step - loss: 0.9690\n",
      "Epoch 155/200\n",
      "174/174 [==============================] - 23s 108ms/step - loss: 0.9682\n",
      "Epoch 156/200\n",
      "174/174 [==============================] - 21s 94ms/step - loss: 0.9654\n",
      "Epoch 157/200\n",
      "174/174 [==============================] - 20s 94ms/step - loss: 0.9635\n",
      "Epoch 158/200\n",
      "174/174 [==============================] - 20s 90ms/step - loss: 0.9616\n",
      "Epoch 159/200\n",
      "174/174 [==============================] - 19s 89ms/step - loss: 0.9590\n",
      "Epoch 160/200\n",
      "174/174 [==============================] - 20s 92ms/step - loss: 0.9577\n",
      "Epoch 161/200\n",
      "174/174 [==============================] - 22s 100ms/step - loss: 0.9555\n",
      "Epoch 162/200\n",
      "174/174 [==============================] - 20s 93ms/step - loss: 0.9538\n",
      "Epoch 163/200\n",
      "174/174 [==============================] - 20s 90ms/step - loss: 0.9505\n",
      "Epoch 164/200\n",
      "174/174 [==============================] - 20s 90ms/step - loss: 0.9487\n",
      "Epoch 165/200\n",
      "174/174 [==============================] - 20s 94ms/step - loss: 0.9471\n",
      "Epoch 166/200\n",
      "174/174 [==============================] - 21s 93ms/step - loss: 0.9440\n",
      "Epoch 167/200\n",
      "174/174 [==============================] - 23s 107ms/step - loss: 0.9424\n",
      "Epoch 168/200\n",
      "174/174 [==============================] - 23s 106ms/step - loss: 0.9407\n",
      "Epoch 169/200\n",
      "174/174 [==============================] - 21s 96ms/step - loss: 0.9384\n",
      "Epoch 170/200\n",
      "174/174 [==============================] - 22s 104ms/step - loss: 0.9370\n",
      "Epoch 171/200\n",
      "174/174 [==============================] - 22s 102ms/step - loss: 0.9346\n",
      "Epoch 172/200\n",
      "174/174 [==============================] - 24s 106ms/step - loss: 0.9318\n",
      "Epoch 173/200\n",
      "174/174 [==============================] - 25s 115ms/step - loss: 0.9311\n",
      "Epoch 174/200\n",
      "174/174 [==============================] - 23s 104ms/step - loss: 0.9286\n",
      "Epoch 175/200\n",
      "174/174 [==============================] - 21s 94ms/step - loss: 0.9266\n",
      "Epoch 176/200\n",
      "174/174 [==============================] - 21s 98ms/step - loss: 0.9255\n",
      "Epoch 177/200\n",
      "174/174 [==============================] - 20s 94ms/step - loss: 0.9233\n",
      "Epoch 178/200\n",
      "174/174 [==============================] - 21s 95ms/step - loss: 0.9207\n",
      "Epoch 179/200\n",
      "174/174 [==============================] - 23s 105ms/step - loss: 0.9199\n",
      "Epoch 180/200\n",
      "174/174 [==============================] - 22s 101ms/step - loss: 0.9181\n",
      "Epoch 181/200\n",
      "174/174 [==============================] - 22s 103ms/step - loss: 0.9149\n",
      "Epoch 182/200\n",
      "174/174 [==============================] - 23s 105ms/step - loss: 0.9142\n",
      "Epoch 183/200\n",
      "174/174 [==============================] - 22s 101ms/step - loss: 0.9114\n",
      "Epoch 184/200\n",
      "174/174 [==============================] - 24s 107ms/step - loss: 0.9099\n",
      "Epoch 185/200\n",
      "174/174 [==============================] - 23s 99ms/step - loss: 0.9072\n",
      "Epoch 186/200\n",
      "174/174 [==============================] - 22s 101ms/step - loss: 0.9062\n",
      "Epoch 187/200\n",
      "174/174 [==============================] - 23s 105ms/step - loss: 0.9048\n",
      "Epoch 188/200\n",
      "174/174 [==============================] - 22s 95ms/step - loss: 0.9025\n",
      "Epoch 189/200\n",
      "174/174 [==============================] - 22s 100ms/step - loss: 0.9008\n",
      "Epoch 190/200\n",
      "174/174 [==============================] - 21s 96ms/step - loss: 0.8990\n",
      "Epoch 191/200\n",
      "174/174 [==============================] - 20s 90ms/step - loss: 0.8976\n",
      "Epoch 192/200\n",
      "174/174 [==============================] - 20s 91ms/step - loss: 0.8953\n",
      "Epoch 193/200\n",
      "174/174 [==============================] - 20s 94ms/step - loss: 0.8937\n",
      "Epoch 194/200\n",
      "174/174 [==============================] - 21s 95ms/step - loss: 0.8927\n",
      "Epoch 195/200\n",
      "174/174 [==============================] - 20s 90ms/step - loss: 0.8913\n",
      "Epoch 196/200\n",
      "174/174 [==============================] - 21s 98ms/step - loss: 0.8876\n",
      "Epoch 197/200\n",
      "174/174 [==============================] - 23s 102ms/step - loss: 0.8862\n",
      "Epoch 198/200\n",
      "174/174 [==============================] - 20s 91ms/step - loss: 0.8843\n",
      "Epoch 199/200\n",
      "174/174 [==============================] - 22s 97ms/step - loss: 0.8833\n",
      "Epoch 200/200\n",
      "174/174 [==============================] - 21s 99ms/step - loss: 0.8816\n"
     ]
    },
    {
     "data": {
      "text/plain": [
       "<keras.src.callbacks.History at 0x7f911d482040>"
      ]
     },
     "execution_count": 35,
     "metadata": {},
     "output_type": "execute_result"
    }
   ],
   "source": [
    "epochs = 200 \n",
    "\n",
    "model.fit(\n",
    "    lm_dataset,\n",
    "    epochs=epochs,\n",
    "    callbacks=[text_gen_callback, ckpt_callback]\n",
    ")"
   ]
  },
  {
   "cell_type": "code",
   "execution_count": 36,
   "metadata": {
    "slideshow": {
     "slide_type": "skip"
    }
   },
   "outputs": [],
   "source": [
    "model.save(base_dir / \"mini-gpt.keras\")"
   ]
  },
  {
   "cell_type": "code",
   "execution_count": 40,
   "metadata": {
    "colab": {
     "base_uri": "https://localhost:8080/"
    },
    "id": "ttbIPyoMFCZ3",
    "outputId": "9be84c41-ec8b-4c8c-dfd1-9e4ce640671b",
    "slideshow": {
     "slide_type": "subslide"
    }
   },
   "outputs": [
    {
     "name": "stdout",
     "output_type": "stream",
     "text": [
      "JULIET:\n",
      "I' faith, by comes of that I have: here I do?\n",
      "\n",
      "BAPTISTA:\n",
      "Signior Polixenes, forced all your hoperity\n",
      "Would but I am a vessenger her oper and downrons.\n",
      "The nure are the was tears the was traitor was braised busterfly.\n",
      "Hadst thou dragoes instruments; and the very daughter\n",
      "Again wounds from subjects founds weet do,\n",
      "Was; well's back all the wars.\n",
      "\n",
      "ROMEO:\n",
      "I aparticious, when thou dear the marvell belowser stranges.\n",
      "\n",
      "Messenger:\n",
      "So the confirst there.\n",
      "\n",
      "Servant:\n",
      "He would have not make the from my painc\n"
     ]
    }
   ],
   "source": [
    "# model = tf.keras.models.load_model(base_dir / \"mini-gpt.keras\") # to load a saved model\n",
    "\n",
    "def generate(sentence=\" \", generate_length=100, temperature=1.):\n",
    "    for i in range(generate_length):\n",
    "        tokenized_sentence = text_vectorization([sentence])                         # encode the sentence & feed to the model\n",
    "        predictions = model(tokenized_sentence[:, - sequence_length + 1:])          # which gives us predictions  (crop to seq_len!)\n",
    "        next_token = sample_next(predictions[0, -1, :], temperature)                # use these to sample (get the index)\n",
    "        sampled_token = tokens_index[next_token]                                    # use the index to pick the token\n",
    "        sentence += sampled_token                                                   # add it to our sentence\n",
    "    print(sentence)\n",
    "    \n",
    "generate(sentence=\"JULIET:\", generate_length=500, temperature=.5)"
   ]
  },
  {
   "cell_type": "markdown",
   "metadata": {
    "id": "rol7vdCFCfxU",
    "slideshow": {
     "slide_type": "subslide"
    }
   },
   "source": [
    "### Temperature recap\n",
    "\n",
    "- **Low**: extremely repetitive and predictable text, often falls into repetition loops\n",
    "- **Intermediate**: more interesting, surprising, even creative text – sometimes completely new but plausible words are invented;\n",
    "- **High** temperature: local structure breaks down and most words look random.\n",
    "\n",
    "Each model has a sweet spot, but it's usually somewhere in the range 0.7-1., and in my experience more often to be found closer to 0.9!"
   ]
  },
  {
   "cell_type": "markdown",
   "metadata": {
    "id": "oTQ6A8m4CfxV",
    "slideshow": {
     "slide_type": "skip"
    }
   },
   "source": [
    "#### Tutorials: \n",
    "\n",
    "[\"Text generation with a miniature GPT\"](https://keras.io/examples/generative/text_generation_with_miniature_gpt/): pretty much the same as here, with some interesting variations (the Transformer architecture is closer to what's used for ChatGPT).  \n",
    "[\"Text generation with an RNN\"](https://www.tensorflow.org/text/tutorials/text_generation) using an RNN to train an auto-regressive char-level language model (some nice tricks using `tf.data.Dataset`).\n",
    "\n",
    "#### Reference\n",
    "\n",
    "One of the most famous blog posts in deep learning, the inspiration for the above tutorial: [Andrej Karpathy, \"The Unreasonable Effectiveness of Recurrent Neural Networks\"](https://karpathy.github.io/2015/05/21/rnn-effectiveness/).   \n",
    "[Holtzman et al, \"The Curious Case of Neural Text Degeneration\"](https://arxiv.org/abs/1904.09751)"
   ]
  },
  {
   "cell_type": "code",
   "execution_count": 2,
   "metadata": {
    "colab": {
     "base_uri": "https://localhost:8080/",
     "height": 501
    },
    "id": "g0YtreH9Cfwv",
    "outputId": "8685d309-2c50-4409-c36a-79558aa65d6e",
    "slideshow": {
     "slide_type": "skip"
    }
   },
   "outputs": [
    {
     "data": {
      "image/jpeg": "[encoded data removed]",
      "text/html": [
       "\n",
       "        <iframe\n",
       "            width=\"853\"\n",
       "            height=\"480\"\n",
       "            src=\"https://www.youtube.com/embed/3G5hWM6jqPk\"\n",
       "            frameborder=\"0\"\n",
       "            allowfullscreen\n",
       "            \n",
       "        ></iframe>\n",
       "        "
      ],
      "text/plain": [
       "<IPython.lib.display.YouTubeVideo at 0x7f9450610a30>"
      ]
     },
     "execution_count": 2,
     "metadata": {},
     "output_type": "execute_result"
    }
   ],
   "source": [
    "YouTubeVideo('3G5hWM6jqPk', width=853, height=480) # MIT 6.S191: Deep Generative Modeling \n",
    "                                                   # QcLlc9lj2hk for the 2022 edition"
   ]
  },
  {
   "cell_type": "code",
   "execution_count": 3,
   "metadata": {
    "id": "VUBrNDtcCfwx",
    "outputId": "1a70aa37-c76b-41b7-8a37-4e593e59339c",
    "slideshow": {
     "slide_type": "skip"
    }
   },
   "outputs": [
    {
     "data": {
      "image/jpeg": "[encoded data removed]",
      "text/html": [
       "\n",
       "        <iframe\n",
       "            width=\"853\"\n",
       "            height=\"480\"\n",
       "            src=\"https://www.youtube.com/embed/5WoItGTWV54\"\n",
       "            frameborder=\"0\"\n",
       "            allowfullscreen\n",
       "            \n",
       "        ></iframe>\n",
       "        "
      ],
      "text/plain": [
       "<IPython.lib.display.YouTubeVideo at 0x7f9450610100>"
      ]
     },
     "execution_count": 3,
     "metadata": {},
     "output_type": "execute_result"
    }
   ],
   "source": [
    "YouTubeVideo('5WoItGTWV54', width=853, height=480) # Stanford CS 231N, Lecture 13 | Generative Models"
   ]
  },
  {
   "cell_type": "markdown",
   "metadata": {
    "id": "yRsuBEcECfxV",
    "slideshow": {
     "slide_type": "slide"
    }
   },
   "source": [
    "---\n",
    "\n",
    "### 12.1.6 Wrapping up\n",
    "\n",
    "- We can generate discrete sequence data by training a model to predict the next token(s) given previous tokens;\n",
    "- **Auto-regressive generation**: the model, conditioned on a sequence, makes a prediction, out of which a token is sampled, that is added to the sequence, and the cycle continues;\n",
    "- In the case of text, such a model is called a **language model**;\n",
    "- Language models can be based on **words**, **subwords**, **characters**, **bytes**;\n",
    "- **Sampling** the next token requires balance between adhering to what the model judges likely, and introducing randomness;\n",
    "-  **softmax temperature** is one tool, alongside other methods (**beam search**, **top-k/top-p**);\n"
   ]
  },
  {
   "cell_type": "markdown",
   "metadata": {
    "slideshow": {
     "slide_type": "slide"
    }
   },
   "source": [
    "### Experiments\n",
    "\n",
    "- Some elements have been taken from the tutorials above, check them out!\n",
    "- Being patient is a key factor in training: for the Shakespeare corpus, your char model will start making getting ok quality from a loss of around 1.1! The bigger and more diverse your dataset, the bigger that number will be, but you may need to train for longer.\n",
    "- Note that if you inject some special characters in your dataset, like `<EOS>`, and make sure it is encoded as one integer (token), you can then check for that token when generating! This is how chatbots know when to stop their answers : >.\n",
    "- You could try and implement `top_k` and `top_p` yourself?!\n",
    "- You could also try training a word-level model on IMDB reviews, like in Chollet and the Keras tutorial!\n",
    "- You could modify the dataset pipeline so that you load data from a directory of files, rather than just one file. A quick and dirty way could be done that way:\n",
    "\n",
    "  ```python\n",
    "  files_urls = {\n",
    "      'shakespeare.txt': 'http://www.gutenberg.org/files/100/100-0.txt',\n",
    "      'woolf-mrs-dalloway.txt': 'https://www.gutenberg.org/cache/epub/71865/pg71865.txt',\n",
    "      'woolf-the-voyage-out.txt': 'https://www.gutenberg.org/cache/epub/144/pg144.txt'\n",
    "  }\n",
    "\n",
    "  file_paths = [\n",
    "      tf.keras.utils.get_file(\n",
    "          fname, url,\n",
    "          cache_dir='.',                     # default ~/.keras\n",
    "          cache_subdir= base_dir / 'dataset' # default: datasets\n",
    "      )\n",
    "      for fname, url\n",
    "      in files_urls.items()\n",
    "  ]\n",
    "\n",
    "  text = \"\"\n",
    "  for fname in file_paths:\n",
    "      with open(fname, 'rb') as i:\n",
    "          t = i.read().decode(encoding='utf-8')\n",
    "      # length of text is the number of characters in it\n",
    "      print()\n",
    "      print(t[:250])\n",
    "      print()\n",
    "      print(f'Length of text: {len(t):,} characters')\n",
    "      print(\"-\"*40)\n",
    "      text += t\n",
    "\n",
    "  print(f'Length of combined texts: {len(text):,} characters')\n",
    "  ```\n",
    "     \n",
    "  This will get your RAM into trouble if you have too many files. In this case, you could look into using the `tf.keras.utils.text_dataset_from_directory`, as Chollet does in his example.\n"
   ]
  },
  {
   "cell_type": "markdown",
   "metadata": {
    "id": "wS7S80MZCfxU",
    "slideshow": {
     "slide_type": "skip"
    }
   },
   "source": [
    "## Final Notes\n",
    "\n",
    "### Language models and intelligence\n",
    "\n",
    "What do these models know?? After all, our setup is merely sampling a statistical model of which characters follow other characters...\n",
    "\n",
    "#### Those in favour\n",
    "\n",
    "In order to make good predictions, you need to know the structure of language, the world, etc. Language models are a pathway to Artificial General Intelligence.\n",
    "\n",
    "#### Those against\n",
    "\n",
    "Ultimately, the network only picks up patterns and repetition, or even further: it finds a way of *compressing* and *memorising* the data. No intelligence there!"
   ]
  },
  {
   "cell_type": "markdown",
   "metadata": {
    "id": "o9m8M4mbv39w",
    "slideshow": {
     "slide_type": "skip"
    }
   },
   "source": [
    "\n",
    "### The rise of large language models (LLMs)\n",
    "\n",
    "Truly remarkable results emerge with very large models. Several companies have all built such models to try and make a business out of it. They have APIs with a free tier that allow you to test these capabilities:\n",
    "\n",
    "- [OpenAI's ChatGPT](https://openai.com/blog/chatgpt/)  \n",
    "- [OpenAI's GPT-4](https://openai.com/api/)\n",
    "- [Cohere](https://cohere.ai/) \n",
    "- [Anthropic](https://www.anthropic.com)\n",
    "- [GooseAI](https://goose.ai/) (open-source)\n",
    "- [Huggingface Open LLM Leaderboard](https://huggingface.co/spaces/HuggingFaceH4/open_llm_leaderboard) (open-source)"
   ]
  }
 ],
 "metadata": {
  "accelerator": "GPU",
  "celltoolbar": "Slideshow",
  "colab": {
   "collapsed_sections": [
    "ipbRGxxNCfxD",
    "sJXh6mx3CfxF",
    "eQrYuZ9fbzPF",
    "oTQ6A8m4CfxV"
   ],
   "provenance": []
  },
  "gpuClass": "standard",
  "kernelspec": {
   "display_name": "Python 3 (ipykernel)",
   "language": "python",
   "name": "python3"
  },
  "language_info": {
   "codemirror_mode": {
    "name": "ipython",
    "version": 3
   },
   "file_extension": ".py",
   "mimetype": "text/x-python",
   "name": "python",
   "nbconvert_exporter": "python",
   "pygments_lexer": "ipython3",
   "version": "3.9.15"
  }
 },
 "nbformat": 4,
 "nbformat_minor": 4
}
