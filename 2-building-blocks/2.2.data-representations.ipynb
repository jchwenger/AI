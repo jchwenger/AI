{
  "cells": [
    {
      "cell_type": "markdown",
      "id": "2e4f93f7",
      "metadata": {
        "id": "2e4f93f7"
      },
      "source": [
        "---\n",
        "\n",
        "## Part I: Data representations\n",
        "\n",
        "## Part II: Geometric Interpretation"
      ]
    },
    {
      "cell_type": "code",
      "execution_count": 1,
      "id": "1fd7a2be",
      "metadata": {
        "id": "1fd7a2be"
      },
      "outputs": [],
      "source": [
        "import numpy as np\n",
        "import tensorflow as tf\n",
        "import matplotlib.pyplot as plt\n",
        "from IPython.display import YouTubeVideo"
      ]
    },
    {
      "cell_type": "markdown",
      "id": "153d74a4",
      "metadata": {
        "id": "153d74a4"
      },
      "source": [
        "## Part I. Data representations\n",
        "\n",
        "\n",
        "1. What are scalars, vectors, matrices, tensors\n",
        "2. What is the rank, the axis, the shape of a tensor\n",
        "3. Real examples of data tensors\n",
        "4. What is a (mini-)batch of data\n",
        "5. Tensor operations: arithmetic, slicing, broadcasting, reshaping, element-wise vs dot/matmul ops\n"
      ]
    },
    {
      "cell_type": "markdown",
      "id": "26c4d9eb-ed4c-4123-a977-ff53d56261e7",
      "metadata": {
        "id": "26c4d9eb-ed4c-4123-a977-ff53d56261e7"
      },
      "source": [
        "---\n",
        "\n",
        "# 2.2 Data representations for neural networks\n",
        "\n",
        "- #### [Numerical dojo!](https://drive.google.com/file/d/1IPCbxDB4k33GG1i-Md85KMhzdFqe-NWt/view?usp=sharing) (Lab 1)\n",
        "- #### [Accompanying quiz](https://drive.google.com/file/d/1xJ-A7PG0pU5S_gTuH2RmuEqTq6orLI-3/view?usp=sharing)"
      ]
    },
    {
      "cell_type": "markdown",
      "id": "63ded2a8",
      "metadata": {
        "id": "63ded2a8"
      },
      "source": [
        "### Overview\n",
        "\n",
        "- 0 dimensional: **scalars**: plain numbers;\n",
        "\n",
        "- 1 dimensional: **vectors**:  arrays (in Python: lists/tuples);\n",
        "\n",
        "- 2 dimensional: **matrices**: multi-dimensional arrays → NumPy/TF;\n",
        "\n",
        "- above: **tensors**: generalisation of matrices!"
      ]
    },
    {
      "cell_type": "markdown",
      "id": "88c81820",
      "metadata": {
        "id": "88c81820"
      },
      "source": [
        "##### Note\n",
        "\n",
        "The dimension of a mathematical vector is the **number of elements**.  \n",
        "Tensor dimension is the **number of axes**."
      ]
    },
    {
      "cell_type": "markdown",
      "id": "5798787c",
      "metadata": {
        "id": "5798787c"
      },
      "source": [
        "<!-- ![tf shapes 1](images/tf/tf-shape-1.png) -->\n",
        "<img style=\"\" src=\"https://raw.githubusercontent.com/jchwenger/AI/main/2-building-blocks/images/tf/tf-shape-1.png\">\n",
        "\n",
        "<small>Source: [TensorFlow Introduction to Tensors](https://www.tensorflow.org/guide/tensor)</small>"
      ]
    },
    {
      "cell_type": "markdown",
      "id": "9fd9fc4f",
      "metadata": {
        "id": "9fd9fc4f"
      },
      "source": [
        "<!-- ![tf shapes 2](images/tf/tf-shape-2.png) -->\n",
        "<img style=\"\" src=\"https://raw.githubusercontent.com/jchwenger/AI/main/2-building-blocks/images/tf/tf-shape-2.png\">\n",
        "\n",
        "<small>Source: [TensorFlow Introduction to Tensors](https://www.tensorflow.org/guide/tensor)</small>"
      ]
    },
    {
      "cell_type": "markdown",
      "id": "fd35b3f1-40af-4bfe-a99d-6084cc55959a",
      "metadata": {
        "id": "fd35b3f1-40af-4bfe-a99d-6084cc55959a"
      },
      "source": [
        "<!-- ![tf shapes 3](images/tf/tf-shape-3.png) -->\n",
        "<img style=\"\" src=\"https://raw.githubusercontent.com/jchwenger/AI/main/2-building-blocks/images/tf/tf-shape-3.png\">\n",
        "\n",
        "<small>Source: [TensorFlow Introduction to Tensors](https://www.tensorflow.org/guide/tensor)</small>"
      ]
    },
    {
      "cell_type": "code",
      "execution_count": 2,
      "id": "007b9a4f-0395-4438-b485-6c22e2fe9b2f",
      "metadata": {
        "colab": {
          "base_uri": "https://localhost:8080/"
        },
        "id": "007b9a4f-0395-4438-b485-6c22e2fe9b2f",
        "outputId": "52fd202d-06f9-46f2-c3f3-6df2e547b44d"
      },
      "outputs": [
        {
          "output_type": "stream",
          "name": "stdout",
          "text": [
            "93, shape: (), rank: 0, 1 elements\n",
            "\n"
          ]
        }
      ],
      "source": [
        "x = np.array(93)\n",
        "print(f\"{x}, shape: {x.shape}, rank: {x.ndim}, {x.size} elements\") # rank: 0\n",
        "print()                                                            # the shape is an empty array!"
      ]
    },
    {
      "cell_type": "code",
      "execution_count": 3,
      "id": "b8189e42-56bb-4965-8032-704950a23f8f",
      "metadata": {
        "colab": {
          "base_uri": "https://localhost:8080/"
        },
        "id": "b8189e42-56bb-4965-8032-704950a23f8f",
        "outputId": "115a1778-0d89-40c1-ad0e-08b9d2f6b2f8"
      },
      "outputs": [
        {
          "output_type": "stream",
          "name": "stdout",
          "text": [
            "[0 1 2], shape: (3,), rank: 1, 3 elements\n",
            "\n"
          ]
        }
      ],
      "source": [
        "x = np.arange(3)\n",
        "print(f\"{x}, shape: {x.shape}, rank: {x.ndim}, {x.size} elements\") # rank: 1\n",
        "print()                                                            # shape with tuple syntax: (3,)"
      ]
    },
    {
      "cell_type": "code",
      "execution_count": 4,
      "id": "53c99113-b3d2-424e-a3b3-9a6bf233d3a8",
      "metadata": {
        "colab": {
          "base_uri": "https://localhost:8080/"
        },
        "id": "53c99113-b3d2-424e-a3b3-9a6bf233d3a8",
        "outputId": "fbc27f05-fc21-420e-a5c7-26437457ae0f"
      },
      "outputs": [
        {
          "output_type": "stream",
          "name": "stdout",
          "text": [
            "[[0 1 2]\n",
            " [3 4 5]], shape: (2, 3), rank: 2, 6 elements\n",
            "\n"
          ]
        }
      ],
      "source": [
        "x = np.arange(6).reshape((2,3))\n",
        "print(f\"{x}, shape: {x.shape}, rank: {x.ndim}, {x.size} elements\") # rank: 2\n",
        "print()"
      ]
    },
    {
      "cell_type": "code",
      "execution_count": 5,
      "id": "d651733d-f137-4404-86e7-2185118b1952",
      "metadata": {
        "colab": {
          "base_uri": "https://localhost:8080/"
        },
        "id": "d651733d-f137-4404-86e7-2185118b1952",
        "outputId": "ca19e5c4-0eec-43ac-c61f-1988d88784d0"
      },
      "outputs": [
        {
          "output_type": "stream",
          "name": "stdout",
          "text": [
            "[[[ 0  1  2]\n",
            "  [ 3  4  5]]\n",
            "\n",
            " [[ 6  7  8]\n",
            "  [ 9 10 11]]], shape: (2, 2, 3), rank: 3, 12 elements\n"
          ]
        }
      ],
      "source": [
        "x = np.arange(12).reshape((2,2,3))\n",
        "print(f\"{x}, shape: {x.shape}, rank: {x.ndim}, {x.size} elements\") # rank: 3"
      ]
    },
    {
      "cell_type": "code",
      "execution_count": 6,
      "id": "a843d35d-ae53-4e27-863d-37795816be93",
      "metadata": {
        "colab": {
          "base_uri": "https://localhost:8080/"
        },
        "id": "a843d35d-ae53-4e27-863d-37795816be93",
        "outputId": "41c8c4cd-df61-42ed-8749-065a185d4bc5"
      },
      "outputs": [
        {
          "output_type": "stream",
          "name": "stdout",
          "text": [
            "93, shape: (), rank: 0, 1 elements\n",
            "\n"
          ]
        }
      ],
      "source": [
        "# Now in TensorFlow!\n",
        "x = tf.constant(93)                           # .size not included as a method by default in TF\n",
        "print(f\"{x}, shape: {x.shape}, rank: {x.ndim}, {tf.size(x)} elements\") # rank: 0\n",
        "print()                                                                # the shape is an empty array!"
      ]
    },
    {
      "cell_type": "code",
      "execution_count": 7,
      "id": "e3be3959-eef6-4051-9c4b-f94ea9cbb99f",
      "metadata": {
        "colab": {
          "base_uri": "https://localhost:8080/"
        },
        "id": "e3be3959-eef6-4051-9c4b-f94ea9cbb99f",
        "outputId": "f2fb9a82-1bc5-41e5-a7b0-11171a7bf787"
      },
      "outputs": [
        {
          "output_type": "stream",
          "name": "stdout",
          "text": [
            "[0 1 2], shape: (3,), rank: 1, 3 elements\n",
            "\n"
          ]
        }
      ],
      "source": [
        "x = tf.range(3)\n",
        "print(f\"{x}, shape: {x.shape}, rank: {x.ndim}, {tf.size(x)} elements\") # rank: 1\n",
        "print()                                                                # shape with tuple syntax: (3,)"
      ]
    },
    {
      "cell_type": "code",
      "execution_count": 8,
      "id": "ea509def-dd68-43d4-bd5d-1dd6761349bd",
      "metadata": {
        "colab": {
          "base_uri": "https://localhost:8080/"
        },
        "id": "ea509def-dd68-43d4-bd5d-1dd6761349bd",
        "outputId": "b51bc8ed-c94a-4deb-ec1d-4465c38fbeb5"
      },
      "outputs": [
        {
          "output_type": "stream",
          "name": "stdout",
          "text": [
            "[[0 1 2]\n",
            " [3 4 5]], shape: (2, 3), rank: 2, 6 elements\n",
            "\n"
          ]
        }
      ],
      "source": [
        "x = tf.reshape(tf.range(6), (2,3)) # .reshape not included as a method by default in TF\n",
        "print(f\"{x}, shape: {x.shape}, rank: {x.ndim}, {tf.size(x)} elements\") # rank: 2\n",
        "print()"
      ]
    },
    {
      "cell_type": "code",
      "execution_count": 9,
      "id": "af25b77a-9521-4cdd-a870-8d8f6ffc1ed6",
      "metadata": {
        "colab": {
          "base_uri": "https://localhost:8080/"
        },
        "id": "af25b77a-9521-4cdd-a870-8d8f6ffc1ed6",
        "outputId": "b1bc0cb7-2a28-4d70-caaa-cf7ca1b82683"
      },
      "outputs": [
        {
          "output_type": "stream",
          "name": "stdout",
          "text": [
            "[[[ 0  1  2]\n",
            "  [ 3  4  5]]\n",
            "\n",
            " [[ 6  7  8]\n",
            "  [ 9 10 11]]], shape: (2, 2, 3), rank: 3, 12 elements\n"
          ]
        }
      ],
      "source": [
        "x = tf.reshape(tf.range(12), (2,2,3))\n",
        "print(f\"{x}, shape: {x.shape}, rank: {x.ndim}, {tf.size(x)} elements\") # rank: 3"
      ]
    },
    {
      "cell_type": "markdown",
      "id": "11c6a686",
      "metadata": {
        "id": "11c6a686"
      },
      "source": [
        "A table of comparison between mathematics and programming:\n",
        "\n",
        "|Array |  Tensor | Maths |\n",
        "|:-----|:--------|:------|\n",
        "| 0D | rank 0 | scalar |\n",
        "| 1D | rank 1 | vector |\n",
        "| 2D | rank 2 | matrix |\n",
        "| 3D | rank 3 | - |"
      ]
    },
    {
      "cell_type": "markdown",
      "id": "e3f07323-ad86-44d7-b335-50d24c1c60ad",
      "metadata": {
        "id": "e3f07323-ad86-44d7-b335-50d24c1c60ad"
      },
      "source": [
        "---\n",
        "\n",
        "## 2.2.5 Key attributes\n",
        "\n",
        "- **Axis** = each of the dimension of the tensor;\n",
        "\n",
        "- **Rank** = **dimension** = number of axes (and indices needed to retrieve elements);\n",
        "\n",
        "- **Shape** = a description of the dimensions (size of each axis);\n",
        "\n",
        "- **Type** = the data type of the contained data – `float32`, `uint8`..."
      ]
    },
    {
      "cell_type": "markdown",
      "id": "0b3e92d1",
      "metadata": {
        "id": "0b3e92d1"
      },
      "source": [
        "##### Beware!\n",
        "\n",
        "The NumPy and TensorFlow APIs are quite similar, with yet small differences here and there, leading to confusion."
      ]
    },
    {
      "cell_type": "code",
      "execution_count": 10,
      "id": "2baa759a-2524-419e-90dd-132c0e375576",
      "metadata": {
        "scrolled": true,
        "colab": {
          "base_uri": "https://localhost:8080/"
        },
        "id": "2baa759a-2524-419e-90dd-132c0e375576",
        "outputId": "4b9f7691-0581-4686-8f0a-fe1ddb79393e"
      },
      "outputs": [
        {
          "output_type": "stream",
          "name": "stdout",
          "text": [
            "Beware!\n",
            "\n",
            "The default NumPy type: int64\n",
            "\n",
            "The default TensorFlow type: <dtype: 'int32'>\n"
          ]
        }
      ],
      "source": [
        "print(\"Beware!\")\n",
        "print()\n",
        "\n",
        "x = np.arange(12).reshape((2,2,3))\n",
        "print(f\"The default NumPy type: {x.dtype}\")\n",
        "print()\n",
        "\n",
        "x = tf.reshape(tf.range(12), (2,2,3))\n",
        "print(f\"The default TensorFlow type: {x.dtype}\")"
      ]
    },
    {
      "cell_type": "markdown",
      "id": "4958c16f-1395-4a1b-aaec-17ae7d52e86e",
      "metadata": {
        "id": "4958c16f-1395-4a1b-aaec-17ae7d52e86e"
      },
      "source": [
        "Another table for remembering these terms:\n",
        "\n",
        "|                        |        |\n",
        "|-----------------------:|:-------|\n",
        "| multidimensional array | tensor |\n",
        "| dimension              | axis   |\n",
        "| number of dimensions   | rank  \n",
        "| length | number of elements in a 1D array/along a tensor axis |\n",
        "| size | total number of elements (= rows * cols, for a matrix) |\n",
        "| shape | lengths of each axis |"
      ]
    },
    {
      "cell_type": "markdown",
      "id": "f440fffb-1106-4b3a-a3f5-d2cf15b299ed",
      "metadata": {
        "id": "f440fffb-1106-4b3a-a3f5-d2cf15b299ed"
      },
      "source": [
        "---\n",
        "\n",
        "## 2.2.6 Manipulating tensors in NumPy (slicing)\n",
        "\n",
        "\n",
        "Data frames are pulled from tensors by an operation known as **slicing**.\n",
        "\n",
        "This is one of the things you cannot do in plain Python (you'd need loops and they are **slow**)!\n",
        "\n",
        "##### Note\n",
        "\n",
        "The current notebook has more programming examples you can have a look at, and which are skipped in this presentation mode."
      ]
    },
    {
      "cell_type": "code",
      "execution_count": 11,
      "id": "4afcd862-c218-4da9-9672-0a7808aef543",
      "metadata": {
        "colab": {
          "base_uri": "https://localhost:8080/"
        },
        "id": "4afcd862-c218-4da9-9672-0a7808aef543",
        "outputId": "6bd69c2b-fd37-4e7c-8a59-d630c627e0f3"
      },
      "outputs": [
        {
          "output_type": "stream",
          "name": "stdout",
          "text": [
            "[[[ 1  2]\n",
            "  [ 3  4]]\n",
            "\n",
            " [[ 5  6]\n",
            "  [ 7  8]]\n",
            "\n",
            " [[ 9 10]\n",
            "  [11 12]]]\n"
          ]
        }
      ],
      "source": [
        "# a rank 3 tensor\n",
        "x = np.array([[[1, 2],\n",
        "               [3, 4]],\n",
        "\n",
        "              [[5, 6],\n",
        "               [7, 8]],\n",
        "\n",
        "              [[9, 10],\n",
        "               [11, 12]]])\n",
        "\n",
        "print(x)"
      ]
    },
    {
      "cell_type": "code",
      "execution_count": 12,
      "id": "fd54eb18-520f-442a-a010-6cdeeac665a0",
      "metadata": {
        "colab": {
          "base_uri": "https://localhost:8080/"
        },
        "id": "fd54eb18-520f-442a-a010-6cdeeac665a0",
        "outputId": "e55049aa-50d6-4594-fceb-c360d94075db"
      },
      "outputs": [
        {
          "output_type": "stream",
          "name": "stdout",
          "text": [
            "[[1 2]\n",
            " [3 4]]\n"
          ]
        }
      ],
      "source": [
        "print(x[0])       # first element of the first axis"
      ]
    },
    {
      "cell_type": "code",
      "execution_count": 13,
      "id": "5d82ef74-c8e1-41b3-ae12-4744d93819a7",
      "metadata": {
        "colab": {
          "base_uri": "https://localhost:8080/"
        },
        "id": "5d82ef74-c8e1-41b3-ae12-4744d93819a7",
        "outputId": "2e6c6a0c-29dc-42dc-a428-78680726f5db"
      },
      "outputs": [
        {
          "output_type": "stream",
          "name": "stdout",
          "text": [
            "[1 2]\n"
          ]
        }
      ],
      "source": [
        "print(x[0, 0])    # first row of the above"
      ]
    },
    {
      "cell_type": "code",
      "execution_count": 14,
      "id": "4bfa0e68-7a45-4a0d-a998-1e971b1dbc66",
      "metadata": {
        "colab": {
          "base_uri": "https://localhost:8080/"
        },
        "id": "4bfa0e68-7a45-4a0d-a998-1e971b1dbc66",
        "outputId": "78f09b26-4277-4513-a07b-3c5083c8d8c6"
      },
      "outputs": [
        {
          "output_type": "stream",
          "name": "stdout",
          "text": [
            "1\n"
          ]
        }
      ],
      "source": [
        "print(x[0, 0, 0]) # first element of the above"
      ]
    },
    {
      "cell_type": "code",
      "execution_count": 15,
      "id": "14b18b85-7302-4e1c-a6fb-ae8a666ca27a",
      "metadata": {
        "scrolled": true,
        "colab": {
          "base_uri": "https://localhost:8080/"
        },
        "id": "14b18b85-7302-4e1c-a6fb-ae8a666ca27a",
        "outputId": "40ce34b9-632a-4408-fb45-a8270bad90e2"
      },
      "outputs": [
        {
          "output_type": "stream",
          "name": "stdout",
          "text": [
            "[[[ 0  1]\n",
            "  [ 2  3]]\n",
            "\n",
            " [[ 4  5]\n",
            "  [ 6  7]]\n",
            "\n",
            " [[ 8  9]\n",
            "  [10 11]]]\n"
          ]
        }
      ],
      "source": [
        "x = np.arange(12).reshape((3,2,2))\n",
        "print(x)"
      ]
    },
    {
      "cell_type": "code",
      "execution_count": 16,
      "id": "c5cfe035-8475-4586-892f-b49bd2a1ef91",
      "metadata": {
        "colab": {
          "base_uri": "https://localhost:8080/"
        },
        "id": "c5cfe035-8475-4586-892f-b49bd2a1ef91",
        "outputId": "dc241d16-46ad-4fd7-8379-98299d76a941"
      },
      "outputs": [
        {
          "output_type": "stream",
          "name": "stdout",
          "text": [
            "[[0 1]\n",
            " [4 5]\n",
            " [8 9]]\n"
          ]
        }
      ],
      "source": [
        "               # for each of the blocks, the first row\n",
        "print(x[:, 0]) # ':' means \"everything in this axis/dimension\""
      ]
    },
    {
      "cell_type": "code",
      "execution_count": 17,
      "id": "0dedb6d6-c8c4-49df-968a-95bb5d7d4198",
      "metadata": {
        "colab": {
          "base_uri": "https://localhost:8080/"
        },
        "id": "0dedb6d6-c8c4-49df-968a-95bb5d7d4198",
        "outputId": "d097e42a-aca3-4e8c-d5e4-d10acd936bb0"
      },
      "outputs": [
        {
          "output_type": "stream",
          "name": "stdout",
          "text": [
            "[[ 0  2]\n",
            " [ 4  6]\n",
            " [ 8 10]]\n"
          ]
        }
      ],
      "source": [
        "# for each of the blocks, the first column\n",
        "# (for each block, for each column, the first element)\n",
        "print(x[:, :, 0])"
      ]
    },
    {
      "cell_type": "code",
      "execution_count": 18,
      "id": "f84f8583-6a78-454d-b99e-16e8d8b89d9f",
      "metadata": {
        "colab": {
          "base_uri": "https://localhost:8080/"
        },
        "id": "f84f8583-6a78-454d-b99e-16e8d8b89d9f",
        "outputId": "0f8ca2f1-8c05-4f75-a9f4-61d7ed632698"
      },
      "outputs": [
        {
          "output_type": "stream",
          "name": "stdout",
          "text": [
            "[[ 0  2]\n",
            " [ 4  6]\n",
            " [ 8 10]]\n"
          ]
        }
      ],
      "source": [
        "print(x[..., 0])  # same as above: '...' means: \"fill in the rest\""
      ]
    },
    {
      "cell_type": "markdown",
      "id": "36b5dd4d",
      "metadata": {
        "id": "36b5dd4d"
      },
      "source": [
        "---\n",
        "\n",
        "## 2.2.7 The notion of data batches\n",
        "\n",
        "Slicing is particularly present when preparing data.\n",
        "\n",
        "Datasets are rarely processed in one go, it's intractable."
      ]
    },
    {
      "cell_type": "markdown",
      "id": "1f7312a6",
      "metadata": {
        "id": "1f7312a6"
      },
      "source": [
        "Instead, data is broken up into **mini-batches**:\n",
        "\n",
        "- `train_images[:128]` a mini-batch of the first 128 images;\n",
        "\n",
        "- `train_images[128:256]` the second mini-batch;\n",
        "\n",
        "- `train_images[128 * n, 128 * (n + 1)]` the $n+1$'th mini-batch."
      ]
    },
    {
      "cell_type": "markdown",
      "id": "0e846289",
      "metadata": {
        "id": "0e846289"
      },
      "source": [
        "Slicing MNIST image tensors about the first axis selects contiguous images"
      ]
    },
    {
      "cell_type": "code",
      "execution_count": 19,
      "id": "0b9fcc94-414e-4ed6-b86a-37d2cb0d17f6",
      "metadata": {
        "colab": {
          "base_uri": "https://localhost:8080/"
        },
        "id": "0b9fcc94-414e-4ed6-b86a-37d2cb0d17f6",
        "outputId": "b03c072b-192d-407a-8d0e-36ba42f139c9"
      },
      "outputs": [
        {
          "output_type": "stream",
          "name": "stdout",
          "text": [
            "Downloading data from https://storage.googleapis.com/tensorflow/tf-keras-datasets/mnist.npz\n",
            "\u001b[1m11490434/11490434\u001b[0m \u001b[32m━━━━━━━━━━━━━━━━━━━━\u001b[0m\u001b[37m\u001b[0m \u001b[1m1s\u001b[0m 0us/step\n",
            "'[60'000 images, width, height]'\n",
            "shape (60000, 28, 28)\n",
            "rank: 3\n",
            "dtype: uint8\n"
          ]
        }
      ],
      "source": [
        "from tensorflow.keras.datasets import mnist\n",
        "(train_images, train_labels), (test_images, test_labels) = mnist.load_data()\n",
        "print(\"'[60'000 images, width, height]'\")\n",
        "print(\"shape\", train_images.shape)  # each axis & number of elements\n",
        "print(\"rank:\", train_images.ndim)   # rank = ndim = len(shape)\n",
        "print(\"dtype:\", train_images.dtype) # data type"
      ]
    },
    {
      "cell_type": "code",
      "execution_count": 20,
      "id": "6928e3ee-6a32-434d-8bd2-242e369639bf",
      "metadata": {
        "colab": {
          "base_uri": "https://localhost:8080/"
        },
        "id": "6928e3ee-6a32-434d-8bd2-242e369639bf",
        "outputId": "9b366726-8bf4-4c2b-98ef-f9088d44fee0"
      },
      "outputs": [
        {
          "output_type": "stream",
          "name": "stdout",
          "text": [
            "(10, 28, 28)\n"
          ]
        }
      ],
      "source": [
        "my_slice = train_images[10:20]   # select images 10 through to image 19\n",
        "print(my_slice.shape)"
      ]
    },
    {
      "cell_type": "markdown",
      "id": "3e413f72",
      "metadata": {
        "id": "3e413f72"
      },
      "source": [
        "### Slicing can happen *inside* the data\n",
        "\n",
        "Imagine we wish to extract the middle 14 by 14 sub-image of every test image. Easy with slicing!\n",
        "\n",
        "`7:-7` from element 7 **up to, but not including**, element 21 (= 28 - 7).\n",
        "\n",
        "\n",
        "0, ..., 6,|7, ..., 20|, 21, ..., 27"
      ]
    },
    {
      "cell_type": "code",
      "execution_count": 21,
      "id": "1aa22552-0c8f-4da5-9595-3a54970657fd",
      "metadata": {
        "colab": {
          "base_uri": "https://localhost:8080/"
        },
        "id": "1aa22552-0c8f-4da5-9595-3a54970657fd",
        "outputId": "359cf022-f9ef-47b7-ecb1-3f5c5bc0f6bd"
      },
      "outputs": [
        {
          "output_type": "execute_result",
          "data": {
            "text/plain": [
              "(60000, 14, 14)"
            ]
          },
          "metadata": {},
          "execution_count": 21
        }
      ],
      "source": [
        "# extract the middle 14 x 14 subimages from all test images\n",
        "                 # slicing width, height\n",
        "my_slice = train_images[:, 7:-7, 7:-7] # : on its own means 'everything'\n",
        "my_slice.shape"
      ]
    },
    {
      "cell_type": "markdown",
      "id": "4ccbadfb-dd48-4af3-ac62-fe3307b4fa59",
      "metadata": {
        "id": "4ccbadfb-dd48-4af3-ac62-fe3307b4fa59"
      },
      "source": [
        "---\n",
        "\n",
        "## 2.2.8 Real-world examples of data tensors\n",
        "\n",
        "Let's look at some examples of real data tensors."
      ]
    },
    {
      "cell_type": "markdown",
      "id": "49cfcddd-18f7-4941-90d0-c1b2d99d86fe",
      "metadata": {
        "id": "49cfcddd-18f7-4941-90d0-c1b2d99d86fe"
      },
      "source": [
        "### Rank 2\n",
        "\n",
        "Say we collected data on a population – for example, postcode, age, income.\n",
        "\n",
        "The samples axis, the first axis, is each person surveyed and for each person we collect a vector of information, and the second axis is the data taken as a whole.\n",
        "\n",
        "|  Data  | Rank | Shape     | Example    |\n",
        "|---:|:---:|:---:|:----|\n",
        "| vector | 2 | `(num_samples,num_features)` | demographics of a population - (postcode, age, income,...) for each person |"
      ]
    },
    {
      "cell_type": "markdown",
      "id": "2f0c3b6f-baed-4eca-8952-d50278f392d7",
      "metadata": {
        "id": "2f0c3b6f-baed-4eca-8952-d50278f392d7"
      },
      "source": []
    },
    {
      "cell_type": "markdown",
      "id": "a3afe153-649f-4822-b7c6-37a3ffc24e01",
      "metadata": {
        "id": "a3afe153-649f-4822-b7c6-37a3ffc24e01"
      },
      "source": [
        "### Rank 3: time series, sequences (text/music)\n",
        "\n",
        "Example of time series data: a data-set of weather readings.\n",
        "\n",
        "A series of measurements – precipitation, temperature, etc. – at ten minutes intervals is collected for each day or sample.\n",
        "\n",
        "|  Data  | Rank | Shape     | Example    |\n",
        "|---:|:---:|:---:|:----|\n",
        "| timeseries or sequence| 3 | `(num_samples,num_timesteps,num_features)` | daily weather features at ten minute intervals – (precipitation, temperature, humidity) for each time for each day |"
      ]
    },
    {
      "cell_type": "markdown",
      "id": "98a8ace3-aeb6-40ee-9e07-21340c3fb8a4",
      "metadata": {
        "id": "98a8ace3-aeb6-40ee-9e07-21340c3fb8a4"
      },
      "source": [
        "### Rank 4: colour images\n",
        "\n",
        "A colour image data-set is an example of rank 4 information.\n",
        "\n",
        "An RGB vector resides at each pixel. The samples are individual images.\n",
        "\n",
        "|  Data  | Rank | Shape     | Example    |\n",
        "|---:|:---:|:---:|:----|\n",
        "| image | 4 | `(num_samples,width,height,channels)` | 10,000 colour 256 x 256 colour images – a (256, 256, 3) colour map for each image|\n",
        "\n",
        "##### Note\n",
        "\n",
        "In some formats (PyTorch) you encounter  `(num_samples,channels,width,height)` instead! 💀"
      ]
    },
    {
      "cell_type": "markdown",
      "id": "aade3b18-6459-405c-ae4a-72d948653771",
      "metadata": {
        "id": "aade3b18-6459-405c-ae4a-72d948653771"
      },
      "source": [
        "### Rank 5: video\n",
        "\n",
        "About as high as you will ever meet.\n",
        "\n",
        "The samples are videos: a video is a time series of frames and each frame is a 2D colour image.\n",
        "\n",
        "|  Data  | Rank | Shape     | Example    |\n",
        "|---:|:---:|:---:|:----|\n",
        "| video | 5 | `(num_samples,num_frames,width,height,channels)` | video – a (256, 256, 3) colour map for each frame of each video|"
      ]
    },
    {
      "cell_type": "markdown",
      "id": "c5ca25a3-5fee-4d73-a32b-6247cb72e963",
      "metadata": {
        "id": "c5ca25a3-5fee-4d73-a32b-6247cb72e963"
      },
      "source": [
        "---\n",
        "\n",
        "# 2.3 The gear of neural networks: Tensor operations\n",
        "\n",
        "- Element-wise operations\n",
        "\n",
        "- Broadcasting\n",
        "\n",
        "- Tensor product\n",
        "\n",
        "- Reshaping"
      ]
    },
    {
      "cell_type": "markdown",
      "id": "1c9dba80",
      "metadata": {
        "id": "1c9dba80"
      },
      "source": [
        "---\n",
        "\n",
        "## 2.3.1 Element-wise operations\n",
        "\n",
        "Element-wise means: per-element operation.\n",
        "\n",
        "- Shapes must be **the same**;  \n",
        "- **Or** compatible so that unequal axes can be **broadcast**!"
      ]
    },
    {
      "cell_type": "markdown",
      "id": "1e3f1b76-460f-481c-a617-95f768f05f7e",
      "metadata": {
        "id": "1e3f1b76-460f-481c-a617-95f768f05f7e"
      },
      "source": [
        "Element-wise addition:\n",
        "\n",
        "\\begin{eqnarray}\n",
        "\\left(\\begin{array}{c} 3 \\\\ 4 \\end{array} \\right)\n",
        "+ \\left( \\begin{array}{c} 8 \\\\ 9 \\end{array} \\right)\n",
        "= \\left( \\begin{array}{c} 11 \\\\ 13 \\end{array} \\right)\n",
        "\\end{eqnarray}\n",
        "\n",
        "Hadamard product (point-wise multiplication):\n",
        "\n",
        "\\begin{eqnarray}\n",
        "\\left(\\begin{array}{c} 3 \\\\ 4 \\end{array} \\right)\n",
        "\\odot \\left( \\begin{array}{c} 8 \\\\ 9 \\end{array} \\right)\n",
        "= \\left( \\begin{array}{c} 24 \\\\ 36 \\end{array} \\right)\n",
        "\\end{eqnarray}"
      ]
    },
    {
      "cell_type": "code",
      "execution_count": 22,
      "id": "927a51c7-7209-4da9-8dcc-dea7689d1717",
      "metadata": {
        "colab": {
          "base_uri": "https://localhost:8080/"
        },
        "id": "927a51c7-7209-4da9-8dcc-dea7689d1717",
        "outputId": "bfaeec67-f140-4f45-9051-de9307f99288"
      },
      "outputs": [
        {
          "output_type": "stream",
          "name": "stdout",
          "text": [
            "[11 13]\n"
          ]
        }
      ],
      "source": [
        "x = np.array([3, 4])\n",
        "y = np.array([8, 9])\n",
        "print(x + y)"
      ]
    },
    {
      "cell_type": "markdown",
      "id": "0ebeb934-88a5-495d-9bc9-443402989b40",
      "metadata": {
        "id": "0ebeb934-88a5-495d-9bc9-443402989b40"
      },
      "source": [
        "Element-wise function application: the function is applied to each element.\n",
        "\n",
        "\\begin{eqnarray}\n",
        "  f\\left( \\begin{array}{c} -2 \\\\ 3 \\end{array} \\right)\n",
        "  = \\left( \\begin{array}{c} f(-2) \\\\ f(3) \\end{array} \\right)\n",
        "\\end{eqnarray}\n",
        "\n",
        "\n",
        "For instance, the `ReLU` activation:\n",
        "\n",
        "$$\n",
        "\\begin{eqnarray}\n",
        "  \\texttt{relu}\\left( \\begin{array}{c} -2 \\\\ 3 \\end{array} \\right)\n",
        "   = \\left( \\begin{array}{c} \\texttt{relu}(-2) \\\\ \\texttt{relu}(3) \\end{array} \\right)\n",
        "   = \\left( \\begin{array}{c} 0 \\\\ 3 \\end{array} \\right)\n",
        "\\end{eqnarray}\n",
        "$$"
      ]
    },
    {
      "cell_type": "code",
      "execution_count": 23,
      "id": "43324477-2a4d-4007-a4f9-d48dd30202d1",
      "metadata": {
        "id": "43324477-2a4d-4007-a4f9-d48dd30202d1"
      },
      "outputs": [],
      "source": [
        "# simple definition of a relu function for rank 1 tensors\n",
        "def relu(x):\n",
        "    assert len(x.shape) == 1\n",
        "    y = x.copy()\n",
        "    for i in range(x.shape[0]):\n",
        "        y[i] = max(y[i], 0.)\n",
        "    return y"
      ]
    },
    {
      "cell_type": "code",
      "execution_count": 24,
      "id": "3d184504-9d38-442f-bd98-3d4c2fb062f2",
      "metadata": {
        "colab": {
          "base_uri": "https://localhost:8080/"
        },
        "id": "3d184504-9d38-442f-bd98-3d4c2fb062f2",
        "outputId": "33a03d40-5589-422b-ba35-91f0a0239ca2"
      },
      "outputs": [
        {
          "output_type": "stream",
          "name": "stdout",
          "text": [
            "[0 3]\n",
            "tf.Tensor([0 3], shape=(2,), dtype=int64)\n"
          ]
        }
      ],
      "source": [
        "x = np.array([-2, 3])\n",
        "print(relu(x))\n",
        "print(tf.nn.relu(x))"
      ]
    },
    {
      "cell_type": "markdown",
      "id": "35f56498-5b62-437a-bc6b-5db2258841c1",
      "metadata": {
        "id": "35f56498-5b62-437a-bc6b-5db2258841c1"
      },
      "source": [
        "### Important: *element-wise* stands in opposition to the *tensor product*, coming in a minute."
      ]
    },
    {
      "cell_type": "markdown",
      "id": "664b83fa-575e-48fc-8537-a6ed5f83b9ba",
      "metadata": {
        "id": "664b83fa-575e-48fc-8537-a6ed5f83b9ba"
      },
      "source": [
        "---\n",
        "\n",
        "## 2.3.2 Broadcasting"
      ]
    },
    {
      "cell_type": "markdown",
      "id": "0f43a25c-88f5-4f30-8fe2-b077cd11057c",
      "metadata": {
        "id": "0f43a25c-88f5-4f30-8fe2-b077cd11057c"
      },
      "source": [
        "### General broadcasting rules:\n",
        "\n",
        "1. Tensor shapes are compared right to left: **right-align the axes**;\n",
        "2. If needed, **add empty dimensions** (1s) to the left so that the **ranks** are equal.\n",
        "3. a. Dimensions are compatible if they are **equal** or **one of them is 1**;  \n",
        "   b. The axis with dimension 1 is **copied** (\"stretched\", \"broadcast\") to match the other."
      ]
    },
    {
      "cell_type": "markdown",
      "id": "086502ef-20c6-4fc3-b1dd-5b3a3f32f9ca",
      "metadata": {
        "id": "086502ef-20c6-4fc3-b1dd-5b3a3f32f9ca"
      },
      "source": [
        "<!-- ![Numpy broadcasting 1](images/tf/np_broadcasting_1.png) -->\n",
        "<img style=\"\" src=\"https://raw.githubusercontent.com/jchwenger/AI/main/2-building-blocks/images/tf/np_broadcasting_1.png\">\n",
        "\n",
        "<small>Source: [NumPy Broadcasting](https://numpy.org/doc/stable/user/basics.broadcasting.html)</small>"
      ]
    },
    {
      "cell_type": "markdown",
      "id": "39b2772b-9a6d-46f3-a08b-5d83cfd9903a",
      "metadata": {
        "id": "39b2772b-9a6d-46f3-a08b-5d83cfd9903a"
      },
      "source": [
        "<!-- ![Numpy broadcasting 2](images/tf/np_broadcasting_2.png) -->\n",
        "<img style=\"\" src=\"https://raw.githubusercontent.com/jchwenger/AI/main/2-building-blocks/images/tf/np_broadcasting_2.png\">\n",
        "\n",
        "<small>Source: [NumPy Broadcasting](https://numpy.org/doc/stable/user/basics.broadcasting.html)</small>"
      ]
    },
    {
      "cell_type": "markdown",
      "id": "7011159c-f7a1-40e5-b8cd-19117387cc19",
      "metadata": {
        "id": "7011159c-f7a1-40e5-b8cd-19117387cc19"
      },
      "source": [
        "This does not work, why? Because you first **align the dimension to the right**: `(4,3)` and `(4,) → (1,4)`!\n",
        "\n",
        "<!-- ![Numpy broadcasting 3](images/tf/np_broadcasting_3.png) -->\n",
        "<img style=\"\" src=\"https://raw.githubusercontent.com/jchwenger/AI/main/2-building-blocks/images/tf/np_broadcasting_3.png\">\n",
        "\n",
        "<small>Source: [NumPy Broadcasting](https://numpy.org/doc/stable/user/basics.broadcasting.html)</small>"
      ]
    },
    {
      "cell_type": "markdown",
      "id": "43341583-1639-4ee5-be66-a2d797946da1",
      "metadata": {
        "id": "43341583-1639-4ee5-be66-a2d797946da1"
      },
      "source": [
        "Double broadcasting: `(4,1)` and `(3,) → (1,3)`\n",
        "\n",
        "<!-- ![Numpy broadcasting 4](images/tf/np_broadcasting_4.png) -->\n",
        "<img style=\"\" src=\"https://raw.githubusercontent.com/jchwenger/AI/main/2-building-blocks/images/tf/np_broadcasting_4.png\">\n",
        "\n",
        "<small>Source: [NumPy Broadcasting](https://numpy.org/doc/stable/user/basics.broadcasting.html)</small>"
      ]
    },
    {
      "cell_type": "markdown",
      "id": "3b123355-70b0-4396-84f0-3007ce5b5690",
      "metadata": {
        "id": "3b123355-70b0-4396-84f0-3007ce5b5690"
      },
      "source": [
        "<!-- ![Sasha Rush broadcasting rules](images/tf/srush-broadcasting.png) -->\n",
        "<img style=\"\" src=\"https://raw.githubusercontent.com/jchwenger/AI/main/2-building-blocks/images/tf/srush-broadcasting.png\">\n",
        "\n",
        "<small>Source: [Sasha Rush, Twitter](https://twitter.com/srush_nlp/status/1516781757596680194?t=RwVp5kUWPvHG-e42wo0ryw&s=19)</small>"
      ]
    },
    {
      "cell_type": "markdown",
      "id": "92aeb7a9",
      "metadata": {
        "id": "92aeb7a9"
      },
      "source": [
        "##### Beware!\n",
        "\n",
        "This is an extremely useful functionality, but *sometimes* that's not what you want!\n",
        "\n",
        "As a rule of thumb, **you cannot be too careful** about your shapes and tensor operations.\n",
        "\n",
        "**It takes practice.**\n",
        "\n",
        "What better for this than the [Numerical dojo](https://drive.google.com/file/d/1IPCbxDB4k33GG1i-Md85KMhzdFqe-NWt/view?usp=sharing) and [Accompanying quiz](https://drive.google.com/file/d/1xJ-A7PG0pU5S_gTuH2RmuEqTq6orLI-3/view?usp=sharing)?"
      ]
    },
    {
      "cell_type": "markdown",
      "id": "f8f87794-55d5-42c3-a6a5-84119aef37bd",
      "metadata": {
        "id": "f8f87794-55d5-42c3-a6a5-84119aef37bd"
      },
      "source": [
        "---\n",
        "\n",
        "## 2.3.3 Tensor product\n",
        "\n",
        "The dot operation is the tensor analogue of the dot product."
      ]
    },
    {
      "cell_type": "markdown",
      "id": "6c1926b2-e53f-49b3-87b5-a2c39ef267a0",
      "metadata": {
        "id": "6c1926b2-e53f-49b3-87b5-a2c39ef267a0"
      },
      "source": [
        "- between vectors, the familiar dot or scalar product:\n",
        "\n",
        "\\begin{eqnarray}\n",
        "\\left( \\begin{array}{c} 2 & 3 \\end{array} \\right)\n",
        "\\cdot\n",
        "\\left( \\begin{array}{c}  -1  \\\\ 2  \\end{array} \\right) =\n",
        "4\n",
        "\\end{eqnarray}"
      ]
    },
    {
      "cell_type": "code",
      "execution_count": 25,
      "id": "b64e38af",
      "metadata": {
        "colab": {
          "base_uri": "https://localhost:8080/"
        },
        "id": "b64e38af",
        "outputId": "6b9b339c-e595-4b05-d1dc-58f0bd9e5a73"
      },
      "outputs": [
        {
          "output_type": "stream",
          "name": "stdout",
          "text": [
            "4\n",
            "tf.Tensor(4, shape=(), dtype=int64)\n"
          ]
        }
      ],
      "source": [
        "x = np.array([2,3])\n",
        "y = np.array([-1,2])\n",
        "print(x.dot(y))\n",
        "print(tf.reduce_sum(x*y))"
      ]
    },
    {
      "cell_type": "markdown",
      "id": "cb14b156-eaef-47f0-b4e5-bdf9834bd9ad",
      "metadata": {
        "id": "cb14b156-eaef-47f0-b4e5-bdf9834bd9ad"
      },
      "source": [
        "- between a matrix and a vector:\n",
        "\n",
        "\\begin{eqnarray}\n",
        "\\left( \\begin{array}{cc} 2 & 3  \\\\ 4 & 5  \\end{array} \\right)\n",
        "\\cdot\n",
        "\\left( \\begin{array}{c}  -1  \\\\ 2  \\end{array} \\right) =\n",
        "\\left( \\begin{array}{c}  4  \\\\ 6  \\end{array} \\right)\n",
        "\\end{eqnarray}"
      ]
    },
    {
      "cell_type": "code",
      "execution_count": 26,
      "id": "cf008751",
      "metadata": {
        "scrolled": true,
        "colab": {
          "base_uri": "https://localhost:8080/"
        },
        "id": "cf008751",
        "outputId": "ea67cf08-0e7a-4793-e030-ccb7deaa1f86"
      },
      "outputs": [
        {
          "output_type": "stream",
          "name": "stdout",
          "text": [
            "[4 6]\n",
            "tf.Tensor(\n",
            "[[4]\n",
            " [6]], shape=(2, 1), dtype=int64)\n"
          ]
        }
      ],
      "source": [
        "x = np.array([[2,3],[4,5]])\n",
        "y = np.array([-1,2])\n",
        "print(x.dot(y))\n",
        "print(x @ tf.reshape(y, (-1,1))) # turn y into a column vector"
      ]
    },
    {
      "cell_type": "markdown",
      "id": "0a285c7c-d1b9-4db0-b2e5-401ad1a9dfde",
      "metadata": {
        "id": "0a285c7c-d1b9-4db0-b2e5-401ad1a9dfde"
      },
      "source": [
        "- between matrices: \\( $(m \\times n)\\cdot (n \\times k) = (m \\times k)$ **inner dimensions must match!**)\n",
        "\n",
        "\\begin{eqnarray}\n",
        "\\left( \\begin{array}{cc} 2 & 3  \\\\ 4 & 5  \\end{array} \\right)\n",
        "\\cdot\n",
        "\\left( \\begin{array}{cc}  -1  & 2 \\\\ 2 & -3  \\end{array} \\right) =\n",
        "\\left( \\begin{array}{cc}  4 & -5  \\\\ 6 & -7  \\end{array} \\right)\n",
        "\\end{eqnarray}"
      ]
    },
    {
      "cell_type": "code",
      "execution_count": 27,
      "id": "9e2efaac",
      "metadata": {
        "scrolled": true,
        "colab": {
          "base_uri": "https://localhost:8080/"
        },
        "id": "9e2efaac",
        "outputId": "2e11a632-c717-4929-a2eb-f5f4cb20b6ee"
      },
      "outputs": [
        {
          "output_type": "stream",
          "name": "stdout",
          "text": [
            "[[ 4 -5]\n",
            " [ 6 -7]]\n",
            "[[ 4 -5]\n",
            " [ 6 -7]]\n"
          ]
        }
      ],
      "source": [
        "x = np.array([[2,3],[4,5]])\n",
        "y = np.array([[-1,2], [2, -3]])\n",
        "print(x.dot(y))\n",
        "print(x @ y)"
      ]
    },
    {
      "cell_type": "markdown",
      "id": "f53db60c-4d57-4cb2-aeed-850e43862a8d",
      "metadata": {
        "id": "f53db60c-4d57-4cb2-aeed-850e43862a8d"
      },
      "source": [
        "### For example\n",
        "\n",
        "The first layer of our MNIST network performed `relu(dot(w, x) + b)`.\n",
        "\n",
        "Suppose `w` is a (512, 784) rank 2 tensor , `x` is a (784, ) rank 1 tensor and `b` is (512,)."
      ]
    },
    {
      "cell_type": "markdown",
      "id": "df6e1c25-7b41-4907-9f14-e3574bfebeb8",
      "metadata": {
        "id": "df6e1c25-7b41-4907-9f14-e3574bfebeb8"
      },
      "source": [
        "The result of `dot(w, x)` is a (512, ) tensor.\n",
        "\n",
        "Element `i` of `dot(w, x)` is:\n",
        "\n",
        "\\begin{align*}\n",
        "(w \\cdot x)_i &= \\sum_{j=0}^{783} w_{ij}x_j \\\\\n",
        "i &= 0, 1,\\ldots, 511\n",
        "\\end{align*}"
      ]
    },
    {
      "cell_type": "markdown",
      "id": "a45a3f3a-4044-4f95-a175-2a66b05ec1c2",
      "metadata": {
        "id": "a45a3f3a-4044-4f95-a175-2a66b05ec1c2"
      },
      "source": [
        "The result of `dot(w, x)` is added element-wise to `b` (they have the same shape) and `relu` is applied to each element.\n",
        "\n",
        "The layer transformation `relu(dot(w, x) + b)` is a composition of elementary tensor operations.  "
      ]
    },
    {
      "cell_type": "markdown",
      "id": "df25239f-955d-4814-be59-d3ed2d1d07c5",
      "metadata": {
        "id": "df25239f-955d-4814-be59-d3ed2d1d07c5"
      },
      "source": [
        "---\n",
        "\n",
        "## 2.3.4 Tensor reshaping\n",
        "\n",
        "As we have seen, tensors elements can be redistributed in an operation known as **reshaping**.\n",
        "\n",
        "For instance, the original `(60000, 28, 28)` MNIST images were flattened to `(60000, 28*28)`:"
      ]
    },
    {
      "cell_type": "code",
      "execution_count": 28,
      "id": "08b95d97",
      "metadata": {
        "colab": {
          "base_uri": "https://localhost:8080/"
        },
        "id": "08b95d97",
        "outputId": "91e5ab80-1bdf-495c-f8d8-2d18f1c6cf22"
      },
      "outputs": [
        {
          "output_type": "stream",
          "name": "stdout",
          "text": [
            "train_images shape: (60000, 28, 28), after reshape: (60000, 784)\n"
          ]
        }
      ],
      "source": [
        "train_images_reshaped = train_images.reshape((60000, 28 * 28))\n",
        "print(f\"train_images shape: {train_images.shape}, after reshape: {train_images_reshaped.shape}\")"
      ]
    },
    {
      "cell_type": "markdown",
      "id": "65d6e59a-5833-455d-8447-f23663cc03ea",
      "metadata": {
        "id": "65d6e59a-5833-455d-8447-f23663cc03ea"
      },
      "source": [
        "**Transposition** is another possibility.\n",
        "\n",
        "Transposition flips rows and columns along the main diagonal.\n",
        "\n",
        "Used all the time to make tensor dimensions agree for the tensor product!\n",
        "\n",
        "<!-- <img style=\"height: 500px; float:right\" src=\"images/matrix-transpose.wiki.gif\"> -->\n",
        "<img style=\"height: 500px; float:right\" src=\"https://raw.githubusercontent.com/jchwenger/AI/main/2-building-blocks/images/matrix-transpose.wiki.gif\">\n",
        "\n",
        "\n",
        "<small style=\"position: absolute; bottom:0; right:0\">[Transpose, Wikipedia](https://en.wikipedia.org/wiki/Transpose)</small>  "
      ]
    },
    {
      "cell_type": "code",
      "execution_count": 29,
      "id": "e3e63554-31ad-4bc6-b5ab-1a4732afe6c0",
      "metadata": {
        "scrolled": true,
        "colab": {
          "base_uri": "https://localhost:8080/"
        },
        "id": "e3e63554-31ad-4bc6-b5ab-1a4732afe6c0",
        "outputId": "4d92db1a-7d3a-42ee-eaf4-23495738808a"
      },
      "outputs": [
        {
          "output_type": "stream",
          "name": "stdout",
          "text": [
            "[[0 1 2]\n",
            " [3 4 5]]\n",
            "\n",
            "[[0 3]\n",
            " [1 4]\n",
            " [2 5]]\n",
            "\n",
            "tf.Tensor(\n",
            "[[0 1 2]\n",
            " [3 4 5]], shape=(2, 3), dtype=int32)\n",
            "\n",
            "tf.Tensor(\n",
            "[[0 3]\n",
            " [1 4]\n",
            " [2 5]], shape=(3, 2), dtype=int32)\n"
          ]
        }
      ],
      "source": [
        "x = np.arange(6).reshape((2,3))\n",
        "print(x)\n",
        "print()\n",
        "print(x.T) # same as x.transpose()\n",
        "print()\n",
        "\n",
        "x = tf.reshape(tf.range(6), (2,3))\n",
        "print(x)\n",
        "print()\n",
        "print(tf.transpose(x)) # as before, TF has functional equivalents\n",
        "                       # no x.T in TF!"
      ]
    },
    {
      "cell_type": "markdown",
      "id": "aea001a7",
      "metadata": {
        "id": "aea001a7"
      },
      "source": [
        "### Part I. Recap\n",
        "\n",
        "1. What are scalars, vectors, matrices, tensors  \n",
        "2. What is the rank, the axis, the shape of a tensor  \n",
        "3. Real examples of data tensors  \n",
        "4. What is a (mini-)batch of data  \n",
        "5. Tensor operations: arithmetic, slicing, broadcasting, reshaping, element-wise vs dot/matmul ops  \n",
        "\n",
        "##### Practice Makes Perfect!"
      ]
    },
    {
      "cell_type": "markdown",
      "id": "0f5e3f51-203c-45fe-9996-b6b8bf47dbd0",
      "metadata": {
        "id": "0f5e3f51-203c-45fe-9996-b6b8bf47dbd0"
      },
      "source": [
        "---\n",
        "\n",
        "# Part II\n",
        "\n",
        "## 2.3.5 Geometric interpretation of tensor operations"
      ]
    },
    {
      "cell_type": "markdown",
      "id": "01fe4f8d",
      "metadata": {
        "id": "01fe4f8d"
      },
      "source": [
        "Neural networks are of course transforming data into useful representations, but one way I like to think about that\n",
        "is that they **transform space itself** to achieve their goals.\n",
        "\n",
        "Indeed, numerical tensor elements can be interpreted not only as:\n",
        "\n",
        "- coordinates in a (high-dimensional) real space;  \n",
        "- but also as **linear transformations** in this space."
      ]
    },
    {
      "cell_type": "markdown",
      "id": "475f888e-6c2a-4538-b6a1-b6e38eac3008",
      "metadata": {
        "id": "475f888e-6c2a-4538-b6a1-b6e38eac3008"
      },
      "source": [
        "A function is linear if:\n",
        "1. $f(x + y) = f(x) + f(y) \\quad \\text{(additivity)}$\n",
        "2. $f(ax) = af(x) \\quad \\text{(homogeneity)}$\n",
        "\n",
        "Otherwise it is nonlinear.\n",
        "\n",
        "Intuitively, this is equivalent to:\n",
        "- **squishing** or **stretching**;  \n",
        "- **performing rotations** or a **shear**;  \n",
        "- (all **straight lines** remain straight);  \n",
        "- (and the **origin remains fixed**)."
      ]
    },
    {
      "cell_type": "markdown",
      "id": "d11b054e",
      "metadata": {
        "id": "d11b054e"
      },
      "source": [
        "For example, a rotation:\n",
        "\n",
        "<!-- ![Chollet geometric rotation](images/geometric/chollet.geometric.2.png) -->\n",
        "<img style=\"\" src=\"https://raw.githubusercontent.com/jchwenger/AI/main/2-building-blocks/images/geometric/chollet.geometric.2.png\">\n",
        "\n",
        "<small>DLWP, p.45</small>\n",
        "\n",
        "<!-- \\begin{align*}\n",
        "w\\cdot x = \\begin{pmatrix} \\cos \\theta & -\\sin \\theta \\\\ \\sin \\theta & \\cos \\theta \\end{pmatrix}\n",
        "\\begin{pmatrix} x_1 \\\\ x_2 \\end{pmatrix}\n",
        "=\n",
        "\\begin{pmatrix} x_1 \\cos \\theta - x_2 \\sin \\theta \\\\ x_1 \\sin \\theta + y_2 \\cos \\theta \\end{pmatrix}\n",
        "\\end{align*} -->"
      ]
    },
    {
      "cell_type": "markdown",
      "id": "65ddc259-8e9b-4b75-8023-4ef0b6400845",
      "metadata": {
        "id": "65ddc259-8e9b-4b75-8023-4ef0b6400845"
      },
      "source": [
        "Or this:\n",
        "\n",
        "<!-- ![Chollet geometric rotation](images/geometric/chollet.geometric.3.png) -->\n",
        "<img style=\"\" src=\"https://raw.githubusercontent.com/jchwenger/AI/main/2-building-blocks/images/geometric/chollet.geometric.3.png\">\n",
        "\n",
        "<small>DLWP, p.46</small>\n",
        "\n",
        "<!-- \\begin{align*}\n",
        "w\\cdot x = \\begin{pmatrix} \\cos \\theta & -\\sin \\theta \\\\ \\sin \\theta & \\cos \\theta \\end{pmatrix}\n",
        "\\begin{pmatrix} x_1 \\\\ x_2 \\end{pmatrix}\n",
        "=\n",
        "\\begin{pmatrix} x_1 \\cos \\theta - x_2 \\sin \\theta \\\\ x_1 \\sin \\theta + y_2 \\cos \\theta \\end{pmatrix}\n",
        "\\end{align*} -->"
      ]
    },
    {
      "cell_type": "markdown",
      "id": "a72980b6",
      "metadata": {
        "id": "a72980b6"
      },
      "source": [
        "$w \\cdot x$ is a linear transformation.\n",
        "\n",
        "If you add a bias, $wx + b$, this is no longer linear, but **affine**: the origin does not stay where it is.\n",
        "\n",
        "##### Note\n",
        "\n",
        "In the deep learning world, *often* you will only hear **linear** to describe these transformations, even if **affine** is the rigorous mathematical concept."
      ]
    },
    {
      "cell_type": "markdown",
      "id": "a0d82e0f",
      "metadata": {
        "id": "a0d82e0f"
      },
      "source": [
        "<!-- ![Chollet geometric rotation](images/geometric/chollet.geometric.1.png) -->\n",
        "<img style=\"\" src=\"https://github.com/jchwenger/AI/blob/main/2-building-blocks/images/geometric/chollet.geometric.1.png?raw=true\">\n",
        "\n",
        "<small>DLWP, p.46</small>"
      ]
    },
    {
      "cell_type": "markdown",
      "id": "7061603b",
      "metadata": {
        "id": "7061603b"
      },
      "source": [
        "<!-- ![Chollet geometric rotation](images/geometric/chollet.geometric.4.png) -->\n",
        "<img style=\"\" src=\"https://github.com/jchwenger/AI/blob/main/2-building-blocks/images/geometric/chollet.geometric.4.png?raw=true\">\n",
        "\n",
        "<small>DLWP, p.46</small>"
      ]
    },
    {
      "cell_type": "markdown",
      "id": "35e0a21c-3093-48a7-b564-141e9fd609a9",
      "metadata": {
        "id": "35e0a21c-3093-48a7-b564-141e9fd609a9"
      },
      "source": [
        "Each layer in a neural network performs a non-linear data transformation:\n",
        "\n",
        "$$f(w\\cdot x + b)$$\n",
        "\n",
        "where $f$ is the **activation function** and $w \\cdot x + b$ is an affine transformation."
      ]
    },
    {
      "cell_type": "markdown",
      "id": "7a24f500",
      "metadata": {
        "id": "7a24f500"
      },
      "source": [
        "<!-- ![Chollet geometric rotation](images/geometric/chollet.geometric.5.png) -->\n",
        "<img style=\"\" src=\"https://github.com/jchwenger/AI/blob/main/2-building-blocks/images/geometric/chollet.geometric.5.png?raw=true\">\n",
        "\n",
        "<small>DLWP, p.47</small>"
      ]
    },
    {
      "cell_type": "markdown",
      "id": "1e12b324-fe2c-4a9a-aa79-f3aa058408e1",
      "metadata": {
        "id": "1e12b324-fe2c-4a9a-aa79-f3aa058408e1"
      },
      "source": [
        "The network as a whole, in a series of linear, affine and non-linear transformations  implements a *complex transformation on a high dimensional geometric object* (the data).\n",
        "\n",
        "The overall function of the network is **composed of a series of simpler transformations**.\n",
        "\n",
        "The network unfolds complex data into something simple and meaningful (a representation where you can easily separate your classes...). Chollet's image: unfolding a paper sheet, crumpled into a 1000 dimensional ball.\n",
        "\n",
        "<!-- ![Chollet uncrumpling](images/geometric/chollet.uncrumpling.png) -->\n",
        "<img style=\"\" src=\"https://github.com/jchwenger/AI/blob/main/2-building-blocks/images/geometric/chollet.uncrumpling.png?raw=true\">\n",
        "\n",
        "<small>DLWP, p.47</small>"
      ]
    },
    {
      "cell_type": "markdown",
      "id": "86c5605b",
      "metadata": {
        "id": "86c5605b"
      },
      "source": [
        "Here's one of the rare good visualisations of what is happening under the hood!\n",
        "\n",
        "This network is *uncrumpling* the data (**three spirals: three classes**) in successive layers.\n",
        "\n",
        "(I let you sole judge as to whether the data is **simpler** at the start or the end...)\n",
        "\n",
        "At the end, the net is able to **separate the space into regions with only one class** (classification).\n",
        "\n",
        "This is of course a very simple network with two neurons in each layer (only 2D transforms)!"
      ]
    },
    {
      "cell_type": "code",
      "execution_count": 30,
      "id": "fd18d357",
      "metadata": {
        "colab": {
          "base_uri": "https://localhost:8080/",
          "height": 501
        },
        "id": "fd18d357",
        "outputId": "68ced634-1bcc-4ddf-99ac-a780c34f4228"
      },
      "outputs": [
        {
          "output_type": "execute_result",
          "data": {
            "text/plain": [
              "<IPython.lib.display.YouTubeVideo at 0x79dd0ca9e650>"
            ],
            "text/html": [
              "\n",
              "        <iframe\n",
              "            width=\"853\"\n",
              "            height=\"480\"\n",
              "            src=\"https://www.youtube.com/embed/FW5gFiJb-ig?start=180\"\n",
              "            frameborder=\"0\"\n",
              "            allowfullscreen\n",
              "            \n",
              "        ></iframe>\n",
              "        "
            ],
            "image/jpeg": "[encoded data removed]"
          },
          "metadata": {},
          "execution_count": 30
        }
      ],
      "source": [
        "YouTubeVideo(\"FW5gFiJb-ig\", width=853, height=480, start=180) # NYU Canziani Week 3, until 4.21"
      ]
    },
    {
      "cell_type": "code",
      "execution_count": 31,
      "id": "71b0c599",
      "metadata": {
        "colab": {
          "base_uri": "https://localhost:8080/",
          "height": 501
        },
        "id": "71b0c599",
        "outputId": "702806b4-2ce6-42db-8ffb-96a7c0bb8b85"
      },
      "outputs": [
        {
          "output_type": "execute_result",
          "data": {
            "text/plain": [
              "<IPython.lib.display.YouTubeVideo at 0x79dd0ca9ff10>"
            ],
            "text/html": [
              "\n",
              "        <iframe\n",
              "            width=\"853\"\n",
              "            height=\"480\"\n",
              "            src=\"https://www.youtube.com/embed/5_qrxVq1kvc?start=831\"\n",
              "            frameborder=\"0\"\n",
              "            allowfullscreen\n",
              "            \n",
              "        ></iframe>\n",
              "        "
            ],
            "image/jpeg": "[encoded data removed]"
          },
          "metadata": {},
          "execution_count": 31
        }
      ],
      "source": [
        "YouTubeVideo(\"5_qrxVq1kvc\", width=853, height=480, start=831) # NYU Canziani Week 1 Practicum, until 16'10"
      ]
    },
    {
      "cell_type": "markdown",
      "id": "99fb6df7",
      "metadata": {
        "id": "99fb6df7"
      },
      "source": [
        "### A simple example: a square\n",
        "\n",
        "We will consider a layer transformation of a low dimensional object – a tensor holding four 2D points.\n",
        "\n",
        "Each point is a corner of a square."
      ]
    },
    {
      "cell_type": "code",
      "execution_count": 32,
      "id": "d1172f2f",
      "metadata": {
        "scrolled": true,
        "colab": {
          "base_uri": "https://localhost:8080/"
        },
        "id": "d1172f2f",
        "outputId": "35e89a55-aff1-44b6-f48f-8d7580063ebf"
      },
      "outputs": [
        {
          "output_type": "stream",
          "name": "stdout",
          "text": [
            "[[ 1 -1]\n",
            " [ 1  1]\n",
            " [-1  1]\n",
            " [-1 -1]] \t (4, 2)\n"
          ]
        }
      ],
      "source": [
        "import numpy as np\n",
        "a = np.array([1, -1])\n",
        "b = np.array([1, 1])\n",
        "c = np.array([-1, 1])\n",
        "d = np.array([-1, -1])\n",
        "x = np.array([a, b, c, d])\n",
        "print(x, '\\t', x.shape)"
      ]
    },
    {
      "cell_type": "code",
      "execution_count": 33,
      "id": "118853a4",
      "metadata": {
        "id": "118853a4"
      },
      "outputs": [],
      "source": [
        "def plot_poly(a, b, col, label=\"\"):\n",
        "    axes = plt.gca()\n",
        "    axes.axis('equal')\n",
        "    plt.plot(a, b, 'ro')\n",
        "    plt.plot(a, b, color=col, linestyle = '-', label=label)\n",
        "    plt.plot([a[-1], a[0]], [b[-1], b[0]], color=col, linestyle = '-')"
      ]
    },
    {
      "cell_type": "code",
      "execution_count": 34,
      "id": "f223bdcf",
      "metadata": {
        "colab": {
          "base_uri": "https://localhost:8080/",
          "height": 430
        },
        "id": "f223bdcf",
        "outputId": "67460e06-2401-4e1d-b645-12d282ffc745"
      },
      "outputs": [
        {
          "output_type": "display_data",
          "data": {
            "text/plain": [
              "<Figure size 640x480 with 1 Axes>"
            ],
            "image/png": "[encoded data removed]"
          },
          "metadata": {}
        }
      ],
      "source": [
        "plot_poly(x[:, 0], x[:, 1], 'b')\n",
        "plt.show()"
      ]
    },
    {
      "cell_type": "markdown",
      "id": "b3b73147",
      "metadata": {
        "id": "b3b73147"
      },
      "source": [
        "$w \\cdot x + b$ implements an affine transformation (for nonzero $b$):\n",
        "\n",
        "- a linear transformation ($w$)\n",
        "- followed by a translation ($b$)"
      ]
    },
    {
      "cell_type": "code",
      "execution_count": 35,
      "id": "442d8423",
      "metadata": {
        "id": "442d8423"
      },
      "outputs": [],
      "source": [
        "theta = 1\n",
        "w = np.array([[np.cos(theta), -np.sin(theta)], [np.sin(theta), np.cos(theta)]])\n",
        "\n",
        "y = np.zeros([4, 2])\n",
        "for i in range(len(x)):\n",
        "    y[i] = np.dot(w, x[i])"
      ]
    },
    {
      "cell_type": "code",
      "execution_count": 36,
      "id": "68733648",
      "metadata": {
        "colab": {
          "base_uri": "https://localhost:8080/",
          "height": 433
        },
        "id": "68733648",
        "outputId": "33780498-bec0-4344-bd3d-273865a357ac"
      },
      "outputs": [
        {
          "output_type": "display_data",
          "data": {
            "text/plain": [
              "<Figure size 640x480 with 1 Axes>"
            ],
            "image/png": "[encoded data removed]"
          },
          "metadata": {}
        }
      ],
      "source": [
        "plot_poly(x[:, 0], x[:, 1], 'b', label=\"original\")\n",
        "plot_poly(y[:, 0], y[:, 1], 'g', label=\"rotated\") # the blue square has been rotated by 1 radian (linear)\n",
        "plt.legend()\n",
        "plt.show()"
      ]
    },
    {
      "cell_type": "code",
      "execution_count": 37,
      "id": "95069918",
      "metadata": {
        "colab": {
          "base_uri": "https://localhost:8080/",
          "height": 430
        },
        "id": "95069918",
        "outputId": "451c8967-d886-44c9-c106-dc167c5b7783"
      },
      "outputs": [
        {
          "output_type": "display_data",
          "data": {
            "text/plain": [
              "<Figure size 640x480 with 1 Axes>"
            ],
            "image/png": "[encoded data removed]"
          },
          "metadata": {}
        }
      ],
      "source": [
        "b = np.array([1, -0.1])\n",
        "z = np.add(y, b)\n",
        "\n",
        "plot_poly(y[:, 0], y[:, 1], 'g', label=\"rotated\")\n",
        "plot_poly(z[:, 0], z[:, 1], 'red', label=\"translated\") # translation: affine\n",
        "plt.legend()\n",
        "plt.show()"
      ]
    },
    {
      "cell_type": "markdown",
      "id": "58dcd556",
      "metadata": {
        "id": "58dcd556"
      },
      "source": [
        "Element-wise application of a nonlinear function to $w \\cdot x + b$ will introduce *distortions*."
      ]
    },
    {
      "cell_type": "code",
      "execution_count": 38,
      "id": "5579407b",
      "metadata": {
        "colab": {
          "base_uri": "https://localhost:8080/",
          "height": 430
        },
        "id": "5579407b",
        "outputId": "c3713877-f936-48c6-b2c0-974f3798f8df"
      },
      "outputs": [
        {
          "output_type": "display_data",
          "data": {
            "text/plain": [
              "<Figure size 640x480 with 1 Axes>"
            ],
            "image/png": "[encoded data removed]"
          },
          "metadata": {}
        }
      ],
      "source": [
        "w = tf.nn.relu(z)\n",
        "\n",
        "plot_poly(w[:, 0], w[:, 1], 'black', label=\"relu\") # distortion\n",
        "plt.grid()\n",
        "plt.legend()\n",
        "plt.show()"
      ]
    },
    {
      "cell_type": "code",
      "execution_count": 39,
      "id": "25575364",
      "metadata": {
        "colab": {
          "base_uri": "https://localhost:8080/",
          "height": 430
        },
        "id": "25575364",
        "outputId": "8bf9aa31-a9e5-441a-8227-66dfde18853b"
      },
      "outputs": [
        {
          "output_type": "display_data",
          "data": {
            "text/plain": [
              "<Figure size 640x480 with 1 Axes>"
            ],
            "image/png": "[encoded data removed]"
          },
          "metadata": {}
        }
      ],
      "source": [
        "plot_poly(x[:, 0], x[:, 1], 'b', label=\"original\")\n",
        "plot_poly(y[:, 0], y[:, 1], 'g', label=\"rotated\")\n",
        "plot_poly(z[:, 0], z[:, 1], 'red', label=\"translated\")\n",
        "plot_poly(w[:, 0], w[:, 1], 'black', label=\"relu\")\n",
        "plt.grid()\n",
        "plt.legend()\n",
        "plt.show()"
      ]
    },
    {
      "cell_type": "markdown",
      "id": "350fe970",
      "metadata": {
        "id": "350fe970"
      },
      "source": [
        "### Linear transformations recap & visualisations\n",
        "\n",
        "For those who want/need a great visual recap, 3Blue1Brown strikes again!\n",
        "\n",
        "(In case you're bored of these videos, this should the last lecture where we have them!)"
      ]
    },
    {
      "cell_type": "code",
      "execution_count": 40,
      "id": "80e80429",
      "metadata": {
        "colab": {
          "base_uri": "https://localhost:8080/",
          "height": 501
        },
        "id": "80e80429",
        "outputId": "1d3f177c-5a5e-4c36-8d4b-aca1e8dfba27"
      },
      "outputs": [
        {
          "output_type": "execute_result",
          "data": {
            "text/plain": [
              "<IPython.lib.display.YouTubeVideo at 0x79dd098a6ef0>"
            ],
            "text/html": [
              "\n",
              "        <iframe\n",
              "            width=\"853\"\n",
              "            height=\"480\"\n",
              "            src=\"https://www.youtube.com/embed/kYB8IZa5AuE\"\n",
              "            frameborder=\"0\"\n",
              "            allowfullscreen\n",
              "            \n",
              "        ></iframe>\n",
              "        "
            ],
            "image/jpeg": "[encoded data removed]"
          },
          "metadata": {},
          "execution_count": 40
        }
      ],
      "source": [
        "YouTubeVideo('kYB8IZa5AuE', width=853, height=480) # 3Blue1Brown Linear transformations\n",
        "\n",
        "# Essence of Linear Algebra playlist:\n",
        "# https://www.youtube.com/watch?v=kYB8IZa5AuE&list=PLZHQObOWTQDPD3MizzM2xVFitgF8hE_ab"
      ]
    }
  ],
  "metadata": {
    "celltoolbar": "Slideshow",
    "kernelspec": {
      "display_name": "Python 3 (ipykernel)",
      "language": "python",
      "name": "python3"
    },
    "language_info": {
      "codemirror_mode": {
        "name": "ipython",
        "version": 3
      },
      "file_extension": ".py",
      "mimetype": "text/x-python",
      "name": "python",
      "nbconvert_exporter": "python",
      "pygments_lexer": "ipython3",
      "version": "3.9.18"
    },
    "colab": {
      "provenance": []
    }
  },
  "nbformat": 4,
  "nbformat_minor": 5
}