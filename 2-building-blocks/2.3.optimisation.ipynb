{
 "cells": [
  {
   "cell_type": "markdown",
   "id": "385d77cc-5965-4806-a6f7-830b9b64658e",
   "metadata": {
    "editable": true,
    "id": "385d77cc-5965-4806-a6f7-830b9b64658e",
    "slideshow": {
     "slide_type": ""
    },
    "tags": []
   },
   "source": [
    "---\n",
    "\n",
    "## 2.4 The engine of neural networks: Gradient-based optimization"
   ]
  },
  {
   "cell_type": "code",
   "execution_count": 1,
   "id": "44bb1253",
   "metadata": {
    "id": "44bb1253"
   },
   "outputs": [],
   "source": [
    "import numpy as np\n",
    "import tensorflow as tf\n",
    "import matplotlib.pyplot as plt\n",
    "from IPython.display import YouTubeVideo"
   ]
  },
  {
   "cell_type": "markdown",
   "id": "9a0dd58b-b8ee-4157-a920-94add627251a",
   "metadata": {
    "editable": true,
    "id": "9a0dd58b-b8ee-4157-a920-94add627251a",
    "slideshow": {
     "slide_type": ""
    },
    "tags": []
   },
   "source": [
    "Each neural layer performs `activation(dot(w, x) + b)`.\n",
    "\n",
    "But what are the optimal values of `w` and `b` for a particular problem?\n",
    "\n",
    "We have seen an example of **training**, allowing the network to find those.\n",
    "\n",
    "<!-- <img src=\"images/understanding/chollet.three-figures.3.png\" style=\"height: 400px\"> -->\n",
    "<img style=\"height: 400px; float:right\" src=\"https://github.com/jchwenger/AI/blob/main/2-building-blocks/images/understanding/chollet.three-figures.3.png?raw=true\">\n",
    "\n",
    "<small>DLWP, p.10</small>"
   ]
  },
  {
   "cell_type": "markdown",
   "id": "b4e9d62e",
   "metadata": {
    "id": "b4e9d62e"
   },
   "source": [
    "##### Note\n",
    "\n",
    "The training loop either terminates (reaching the specified number of epochs) or is interrupted (manually).\n",
    "\n",
    "💀 There is **no universal formula** for when to stop. (This is an active area of research.)\n",
    "\n",
    "Practitioners tend to save various versions along the way, keeping the best-performing one."
   ]
  },
  {
   "cell_type": "markdown",
   "id": "e3cb83dd",
   "metadata": {
    "id": "e3cb83dd"
   },
   "source": [
    "### Gradient descent: our compass\n",
    "\n",
    "  - We want to minimise our loss function;\n",
    "\n",
    "  - The output of the loss function can be viewed as the **ground height** in a **multidimensional landscape (the input space)** – this is computed for **each** sample;\n",
    "\n",
    "  - The value of all the weights and biases define a **coordinate** in this landscape;\n",
    "\n",
    "  - The **gradient** gives us the **direction of steepest ascent**: it tells us how to tweak parameters so as to increase our loss the most;\n",
    "\n",
    "  - Going the opposite way is like **taking a step downward** on the **landscape** of the loss function."
   ]
  },
  {
   "cell_type": "markdown",
   "id": "9ee035c9",
   "metadata": {
    "id": "9ee035c9"
   },
   "source": [
    "### Backpropagation: our gradient engine\n",
    "\n",
    "But then, we want to know which parameters change our loss the most, to lower our loss as much as possible.\n",
    "\n",
    "By calculating the derivative of **each operation** with respect to the loss, we know how much each of them **affects** the loss.\n",
    "\n",
    "And so by how much we need to change each parameter in order to lower the overall loss the most effectively.\n",
    "\n",
    "##### Note\n",
    "\n",
    "**Everything must be smooth and differentiable**, so we can precisely compute the influence of every operation on the final loss."
   ]
  },
  {
   "cell_type": "markdown",
   "id": "3256629e",
   "metadata": {
    "id": "3256629e"
   },
   "source": [
    "## What do we need now?\n",
    "\n",
    "- ### 1. Derivatives (2.4.1)\n",
    "- ### 2. Derivatives for tensors: the gradient (2.4.2)\n",
    "- ### 3. Optimization: stochastic gradient descent, momentum (2.4.3)\n",
    "- ### 4. Chaining derivatives: the backpropagation algorithm (2.4.4)"
   ]
  },
  {
   "cell_type": "markdown",
   "id": "bdfe245b-b47f-4a41-89a2-8e3494f3c7e1",
   "metadata": {
    "id": "bdfe245b-b47f-4a41-89a2-8e3494f3c7e1"
   },
   "source": [
    "---\n",
    "\n",
    "## 2.4.1 What's a derivative?"
   ]
  },
  {
   "cell_type": "markdown",
   "id": "8795a411-e69c-4e65-ac77-5a00f8e7a51a",
   "metadata": {
    "id": "8795a411-e69c-4e65-ac77-5a00f8e7a51a"
   },
   "source": [
    "A smooth function $f$ is a function without abrupt changes.\n",
    "\n",
    "$f$ in the vicinity of a point $x$ can always be approximated:\n",
    "\n",
    "\\begin{align*}\n",
    "f(x + \\delta x) \\approx f(x) + m \\delta x\n",
    "\\end{align*}\n",
    "\n",
    "where $m$ is the gradient of the tangent at $x$ and $\\delta x$ is a small step."
   ]
  },
  {
   "cell_type": "markdown",
   "id": "e433ef2e-328a-4a7d-afe9-a4865d3fa263",
   "metadata": {
    "id": "e433ef2e-328a-4a7d-afe9-a4865d3fa263"
   },
   "source": [
    "<!-- ![derivative.png](images/derivative.png) -->\n",
    "<img style=\"\" src=\"https://github.com/jchwenger/AI/blob/main/2-building-blocks/images/derivative.png?raw=true\">"
   ]
  },
  {
   "cell_type": "markdown",
   "id": "f4b95ec7-bf8b-45c8-9381-ed2ddd6cdea7",
   "metadata": {
    "id": "f4b95ec7-bf8b-45c8-9381-ed2ddd6cdea7"
   },
   "source": [
    "The gradient of differentiable functions – those without abrupt changes – is calculable from simple rules.\n",
    "\n",
    "Here are differentiation rules:\n",
    "\n",
    "\n",
    "|$f$ |$\\frac{df}{dx}$ | |\n",
    "|:---|:---|:---|\n",
    "|$x^n$|$nx^{n-1}$| Power |\n",
    "|$g(x) + h(x)$ | $\\frac{dg}{dx} + \\frac{dh}{dx}$| Linearity |\n",
    "|$af(x)$ | $a\\frac{df}{dx}$ | Linearity |\n",
    "|$f(y(x))$ | $\\frac{df}{dy}\\frac{dy}{dx}$ | Chain rule |\n",
    "\n"
   ]
  },
  {
   "cell_type": "markdown",
   "id": "02d4e707",
   "metadata": {
    "id": "02d4e707"
   },
   "source": [
    "Here are some differentiation examples:\n",
    "\n",
    "|$f$ |$\\frac{df}{dx}$ | |\n",
    "|:---|:---|---|\n",
    "| $5x^3$ | $15 x^2$ | |\n",
    "| $5x^2 - 2x + 3$ | $10x - 2$ | |\n",
    "| $(3x + 2x^2)^2$ | $2(3x + 2x^2)(3 + 4x)$ | chain rule!  |"
   ]
  },
  {
   "cell_type": "markdown",
   "id": "48fe2342",
   "metadata": {
    "id": "48fe2342"
   },
   "source": [
    "$$\\color{red}{(}\\color{green}{3x + 2x^2}\\color{red}{)^2}$$\n",
    "\n",
    "can be written as a composition:\n",
    "\n",
    "\\begin{align*}\n",
    "f &= \\color{red}{y^2} \\color{black}{\\text{ where}}\\\\\n",
    "y &= \\color{green}{3x + 2x^2}  \\\\\n",
    "\\end{align*}\n",
    "\n",
    "$f$ is differentiated with respect to $y$, and then $y$ is differentiated with respect to $x$:\n",
    "\n",
    "\\begin{align*}\n",
    "\\frac{df}{dx} &= \\color{red}{\\frac{df}{dy}}\\color{green}{\\frac{dy}{dx}} \\\\\n",
    "               &= \\color{red}{2y}   \\color{green}{(3 + 4x)} \\\\\n",
    "               &= \\color{red}{2(3x + 2x^2)}\\color{green}{(3 + 4x)}\n",
    "\\end{align*}\n",
    "\n",
    "##### Note\n",
    "\n",
    "Complex derivatives (compositions of functions) can be broken down into simpler ones!"
   ]
  },
  {
   "cell_type": "markdown",
   "id": "8afedf08",
   "metadata": {
    "id": "8afedf08"
   },
   "source": [
    "TensorFlow is meant to automate all that.\n",
    "\n",
    "TensorFlow can track operations and calculate gradients with the `GradientTape` object.\n",
    "\n",
    "Then, the method `tape.gradient(df, dx)` takes a function and a point and returns the gradient."
   ]
  },
  {
   "cell_type": "markdown",
   "id": "b371f9a7",
   "metadata": {
    "id": "b371f9a7"
   },
   "source": [
    "Let's start with a super simple example, the gradient function of $f(x) = x^2$ is $f'(x) = 2x$.\n",
    "\n",
    "The gradient at $x = 3$ is $6$."
   ]
  },
  {
   "cell_type": "code",
   "execution_count": 2,
   "id": "5e8806c0",
   "metadata": {
    "colab": {
     "base_uri": "https://localhost:8080/"
    },
    "id": "5e8806c0",
    "outputId": "80ed97e3-08e2-45f0-9626-93f4765bb808"
   },
   "outputs": [
    {
     "name": "stdout",
     "output_type": "stream",
     "text": [
      "6.0\n"
     ]
    }
   ],
   "source": [
    "x = tf.Variable(3.0)\n",
    "\n",
    "with tf.GradientTape() as tape:  # GradientTape means: \"please please record operations and please calculate\n",
    "    f = x**2                     # all derivatives automatically for me!\"\n",
    "                                 # https://www.tensorflow.org/api_docs/python/tf/GradientTape\n",
    "df_dx = tape.gradient(f, x) # x can also be an array of variables\n",
    "print(df_dx.numpy())"
   ]
  },
  {
   "cell_type": "markdown",
   "id": "2f36153f",
   "metadata": {
    "id": "2f36153f"
   },
   "source": [
    "## Next\n",
    "\n",
    "- ##### 1. Derivatives (2.4.1)\n",
    "- ### 2. Derivatives for tensors: the gradient (2.4.2)\n",
    "- ##### 3. Optimization: stochastic gradient descent, momentum (2.4.3)\n",
    "- ##### 4. Chaining derivatives: the backpropagation algorithm (2.4.4)"
   ]
  },
  {
   "cell_type": "markdown",
   "id": "566860ab-714d-40a1-8476-c3f2bb2b129c",
   "metadata": {
    "id": "566860ab-714d-40a1-8476-c3f2bb2b129c"
   },
   "source": [
    "---\n",
    "\n",
    "## 2.4.2 Derivative of a tensor operation: the gradient\n",
    "\n",
    "But the loss function is tensor-valued...\n",
    "\n",
    "What is the derivative of a tensor operation?"
   ]
  },
  {
   "cell_type": "markdown",
   "id": "64c3cfc8-23ee-43e0-8b44-ba1dabc8e8c8",
   "metadata": {
    "id": "64c3cfc8-23ee-43e0-8b44-ba1dabc8e8c8"
   },
   "source": [
    "Here's our affine transformation from last time.\n",
    "\n",
    "\\begin{eqnarray}\n",
    "y = \\left(\\begin{array}{c} y_1 \\\\\n",
    "                       y_2 \\end{array} \\right)\n",
    "=\n",
    "\\left( \\begin{array}{c} w_{11} & w_{12} \\\\\n",
    "                        w_{21} & w_{22} \\end{array} \\right)\n",
    "\\left( \\begin{array}{c} x_1  \\\\\n",
    "                        x_2  \\end{array}  \\right)\n",
    "+\n",
    "\\left( \\begin{array}{c} b_1  \\\\\n",
    "                        b_2         \\end{array}  \\right)\n",
    "\\end{eqnarray}\n",
    "\n",
    "For example:\n",
    "\\begin{eqnarray}\n",
    "\\left( \\begin{array}{c} 1 & -2 \\\\\n",
    "                                 2 & 1  \\end{array}  \\right)\n",
    "\\left( \\begin{array}{c} 1  \\\\\n",
    "                        2  \\end{array}  \\right)\n",
    "+\n",
    "\\left( \\begin{array}{c} 0  \\\\\n",
    "                        -1\\end{array}  \\right)\n",
    "=\n",
    "\\left( \\begin{array}{c}-3  \\\\\n",
    "                        3         \\end{array}  \\right)\n",
    "\\end{eqnarray}\n",
    "\n",
    "\n",
    "                   "
   ]
  },
  {
   "cell_type": "code",
   "execution_count": 3,
   "id": "4ff76ec6-7c09-470a-9cc9-5a6856897e6d",
   "metadata": {
    "colab": {
     "base_uri": "https://localhost:8080/"
    },
    "id": "4ff76ec6-7c09-470a-9cc9-5a6856897e6d",
    "outputId": "55007dd5-2b91-42ed-d26a-8c667c26b2d4"
   },
   "outputs": [
    {
     "name": "stdout",
     "output_type": "stream",
     "text": [
      "[[-3.]\n",
      " [ 3.]]\n"
     ]
    }
   ],
   "source": [
    "w = tf.Variable([\n",
    "    [1., -2.],\n",
    "    [2.,  1.]\n",
    "])\n",
    "b = tf.Variable([\n",
    "    [ 0.],\n",
    "    [-1.]\n",
    "])\n",
    "x = tf.Variable([\n",
    "    [1.],\n",
    "    [2.]\n",
    "])\n",
    "\n",
    "y = w @ x + b # @ is the matrix multiplication operator\n",
    "\n",
    "print(y.numpy())"
   ]
  },
  {
   "cell_type": "markdown",
   "id": "5acbd180-bbd9-46e1-b90c-f80633e579be",
   "metadata": {
    "id": "5acbd180-bbd9-46e1-b90c-f80633e579be"
   },
   "source": [
    "The gradient of a two variable function, $f = f(x, y)$, with respect to either variable, is written $\\frac{\\partial f}{\\partial x}, \\frac{\\partial f}{\\partial y}...$ (with 'curly' d's).\n",
    "\n",
    "We almost have all we need to explain automatic gradient descent – how the optimiser tweaks layer weights and biases in an efficient implementation known as backpropagation.\n",
    "\n",
    "The final bit of theory is **partial differentiation**.\n",
    "\n",
    "Partial differentiation means the differentiation of a function of several variables.\n",
    "\n",
    "\n",
    "Here, $f$ is a function of two variables."
   ]
  },
  {
   "cell_type": "markdown",
   "id": "5e582977-9464-44aa-a699-0af36e673d45",
   "metadata": {
    "id": "5e582977-9464-44aa-a699-0af36e673d45"
   },
   "source": [
    "Differentiation follows the single-variable rules.\n",
    "\n",
    "The **undifferentiated variable is held constant**:\n",
    "\n",
    "| $f$|$\\frac{\\partial f}{\\partial x}$ |$\\frac{\\partial f}{\\partial y}$ |\n",
    "|:---|:---|:---|\n",
    "|$xy$|$y$| $x$ |\n",
    "| $ax^n + by^m$|$anx^{n-1}$| $bmy^{m-1}$ |\n",
    "\n",
    "These are literally the same the rules for one variable."
   ]
  },
  {
   "cell_type": "markdown",
   "id": "d6026c62-a3c8-4103-9634-11244dae00f7",
   "metadata": {
    "id": "d6026c62-a3c8-4103-9634-11244dae00f7"
   },
   "source": [
    "Suppose we have a very simple network that implements a single 2D affine transformation.\n",
    "\n",
    "\\begin{align*}\\\\\n",
    "Input&:\\ (x_1, x_2)\\\\\n",
    "Prediction&:\\ (y_1, y_2)\\\\\n",
    "Target&:\\ (0, 0)\\\\\n",
    "\\bf{Loss}&:\\ (y_1 - 0)^2 + (y_2 - 0)^2 = \\mathbf{y_1^2 + y_2^2}\\ \\leftarrow squared\\ distance\n",
    "\\end{align*}"
   ]
  },
  {
   "cell_type": "markdown",
   "id": "5c56e18a-6974-41d3-ab9a-a7df6cecb738",
   "metadata": {
    "id": "5c56e18a-6974-41d3-ab9a-a7df6cecb738"
   },
   "source": [
    "We wish to adjust the weights in order to lower the loss on the input $(1, 2)^T$.\n",
    "\n",
    "We need to find the gradients in $w, b$-space.\n",
    "\n",
    "We must differentiate with respect to $w_{11}, w_{12}, w_{21}, w_{22}, b_1, b_2$."
   ]
  },
  {
   "cell_type": "markdown",
   "id": "645ecabc-784b-4c16-ab66-cddba161d0e9",
   "metadata": {
    "id": "645ecabc-784b-4c16-ab66-cddba161d0e9"
   },
   "source": [
    "\\begin{align*}\n",
    "y_1 &= w_{11}x_1 + w_{12}x_2 + b_1 \\\\\n",
    "y_2 &= w_{21}x_1 + w_{22}x_2  + b_2 \\\\\n",
    "\\\\\n",
    "J^* &= y_1^2 + y_2^2 &\\\\\n",
    "  &= (w_{11}x_1 + w_{12}x_2 + b_1)^2 + (w_{21}x_1 + w_{22}x_2  + b_2)^2\n",
    "\\end{align*}\n",
    "\n",
    "\\* **_J_** is commonly used for the loss (think:ob*J*ective? It actually comes from the [Jacobian matrix](https://en.wikipedia.org/wiki/Jacobian_matrix_and_determinant), the matrix of partial derivatives of a vector-valued function)."
   ]
  },
  {
   "cell_type": "markdown",
   "id": "1e6e2b0f-fc20-48d4-b960-aa36066d12bc",
   "metadata": {
    "id": "1e6e2b0f-fc20-48d4-b960-aa36066d12bc"
   },
   "source": [
    "The loss is a fairly horrible function of the weights and biases. Here for $w_{11}$:"
   ]
  },
  {
   "cell_type": "markdown",
   "id": "9195c2df",
   "metadata": {
    "id": "9195c2df"
   },
   "source": [
    "\\begin{align*}\n",
    "\\frac{\\partial J}{\\partial w_{11}} &= \\frac{\\partial J}{\\partial y_1} \\frac{\\partial y_1}{\\partial w_{11}}\\ &&|\\ J = y_1^2 + y_2^2 \\\\\n",
    "                                   &= \\frac{\\partial (\\color{red}{y_1^2} + \\color{blue}{y_2^2})}{\\partial y_1}  \\frac{\\partial y_1}{\\partial w_{11}}\\ &&|\\ only\\ y_1^2\\ remains \\\\\n",
    "                                   &= 2\\color{red}{y_1} \\frac{\\partial y_1}{\\partial w_{11}}\\ &&|\\ y_1 = w_{11}x_1 + w_{12}x_2 + b_1 \\\\\n",
    "                                   &= 2y_1 \\frac{\\partial (\\color{red}{w_{11}x_1} + \\color{blue}{w_{12}x_2} + \\color{blue}{b_1})}{\\partial w_{11}}\\ &&|\\ only\\ w_{11}x_1\\ remains,\\ x_1\\ treated\\ as\\ a\\ constant  \\\\\n",
    "                                   &= \\underline{2y_1 \\color{red}{x_1}}\n",
    "\\end{align*}\n"
   ]
  },
  {
   "cell_type": "markdown",
   "id": "818a7268-693a-4772-94d7-fe193fe95c8a",
   "metadata": {
    "id": "818a7268-693a-4772-94d7-fe193fe95c8a"
   },
   "source": [
    "Now we can calculate the partial derivative with respect to $w_{11}$ at a particular coordinate:\n",
    "\n",
    "\\begin{eqnarray}\n",
    "x = \\left( \\begin{array}{c} 1  \\\\\n",
    "                            2  \\end{array}  \\right),\\quad y = \\left( \\begin{array}{c} -3 \\\\ 3 \\end{array} \\right), then\n",
    "\\end{eqnarray}\n",
    "\n",
    "\\begin{align*}\n",
    "\\frac{\\partial J}{\\partial w_{11}} &= 2y_1 x_1 \\\\\n",
    "& = 2\\times-3\\times1 \\\\\n",
    "&= \\color{red}{-6}\n",
    "\\end{align*}"
   ]
  },
  {
   "cell_type": "markdown",
   "id": "f8d333d1",
   "metadata": {
    "id": "f8d333d1"
   },
   "source": [
    "The weights $w_{11}, w_{12}, w_{21} \\text{ and } w_{22}$ are elements of the weight tensor – in this case a matrix.\n",
    "\n",
    "The tensor derivative is just the **tensor of partial derivatives**.\n",
    "\n",
    "I've written it out here but you will **not ever** need to write code for this thing!\n",
    "\n",
    "That's why we have TensorFlow and other similar deep learning frameworks."
   ]
  },
  {
   "cell_type": "markdown",
   "id": "bb8f71ec-c90c-4906-81bb-d5fea1b1cce7",
   "metadata": {
    "id": "bb8f71ec-c90c-4906-81bb-d5fea1b1cce7"
   },
   "source": [
    "\\begin{align*}\n",
    "J &= y_1^2 + y_2^2 = (w_{11}x_1 + w_{12}x_2 + b_1)^2 + (w_{21}x_1 + w_{22}x_2  + b_2)^2\\\\\n",
    "\\\\\n",
    "\\frac{\\partial J}{\\partial w}\n",
    "&=\n",
    "\\left(\n",
    "\\begin{array}{c}\n",
    "    \\frac{\\partial J}{\\partial w_{11}} & \\frac{\\partial J}{\\partial w_{12}} \\\\\n",
    "    \\frac{\\partial J}{\\partial w_{21}} & \\frac{\\partial J}{\\partial w_{22}}\n",
    "\\end{array}\n",
    "\\right)\n",
    "            &x =\\left(\\begin{array}{c}1  \\\\2  \\end{array}  \\right),\\\\\n",
    "&=\n",
    "\\left(\n",
    "\\begin{array}{c}\n",
    "    2 y_1 \\frac{\\partial y_1}{\\partial w_{11}} & 2y_1\\frac{y_1}{\\partial w_{12}} \\\\\n",
    "    2y_2\\frac{\\partial y_2}{\\partial w_{21}}   & 2y_2\\frac{\\partial y_2}{\\partial w_{22}}\n",
    "\\end{array}\n",
    "\\right)\n",
    "=\n",
    "\\left(\n",
    "\\begin{array}{c}\n",
    "    -6 \\frac{\\partial y_1}{\\partial w_{11}} & -6\\frac{y_1}{\\partial w_{12}} \\\\\n",
    "    6 \\frac{\\partial y_2}{\\partial w_{21}} &  6\\frac{\\partial y_2}{\\partial w_{22}}\n",
    "\\end{array}\n",
    "\\right)\n",
    "            &y = \\left(\\begin{array}{c} -3 \\\\ 3\\end{array}\\right)\\\\\n",
    "&=\n",
    "\\left(\n",
    "\\begin{array}{r}\n",
    "    -6 x_1 & -6 x_2 \\\\\n",
    "    6 x_1 &  6 x_2\n",
    "\\end{array}\n",
    "\\right)\n",
    "=\n",
    "\\color{red}{\n",
    "\\left(\n",
    "\\begin{array}{r}\n",
    "    -6  & -12 \\\\\n",
    "    6  &  12\n",
    "\\end{array}\n",
    "\\right)}\n",
    "\\end{align*}\n"
   ]
  },
  {
   "cell_type": "markdown",
   "id": "e7c56291",
   "metadata": {
    "id": "e7c56291"
   },
   "source": [
    "The calculation is similar for the biases.\n",
    "\n",
    "This was for a system with **four** weights!\n",
    "\n",
    "Regular networks these days have **hundreds of millions** or more.\n",
    "\n",
    "This is what TensorFlow's automatic differentiation engine takes care of."
   ]
  },
  {
   "cell_type": "code",
   "execution_count": 4,
   "id": "f75a76e8",
   "metadata": {
    "colab": {
     "base_uri": "https://localhost:8080/"
    },
    "id": "f75a76e8",
    "outputId": "9bf07bbf-4a64-4ca5-a084-4a8162ad9bdd"
   },
   "outputs": [
    {
     "name": "stdout",
     "output_type": "stream",
     "text": [
      "x:\n",
      " [[1.]\n",
      " [2.]]\n",
      "\n",
      "y:\n",
      " [[-3.]\n",
      " [ 3.]]\n",
      "\n",
      "our gradient tensor:\n",
      "[[ -6. -12.]\n",
      " [  6.  12.]]\n"
     ]
    }
   ],
   "source": [
    "print(\"x:\\n\", x.numpy())\n",
    "print()\n",
    "print(\"y:\\n\", y.numpy())\n",
    "print()\n",
    "\n",
    "with tf.GradientTape(persistent=True) as tape: # please record all operations in the \"with\" context\n",
    "    y = w @ x + b           # our operation\n",
    "    J = tf.reduce_sum(y**2) # our loss\n",
    "\n",
    "           # gradient of f w.r.t. w and b\n",
    "[df_dw, df_db] = tape.gradient(J, [w, b])      # please do all the math for us\n",
    "print(\"our gradient tensor:\")\n",
    "print(df_dw.numpy())                           # voilà"
   ]
  },
  {
   "cell_type": "markdown",
   "id": "6f67256a",
   "metadata": {
    "id": "6f67256a"
   },
   "source": [
    "##### Note\n",
    "\n",
    "We won't even need this code for most cases: it is done automatically inside `Model.fit()`.\n",
    "\n",
    "This would show up if you wanted to write your own custom loss and training loop."
   ]
  },
  {
   "cell_type": "markdown",
   "id": "1e31f2b4-7101-49c5-b893-df3c8b1c2ab5",
   "metadata": {
    "id": "1e31f2b4-7101-49c5-b893-df3c8b1c2ab5"
   },
   "source": [
    "## Next\n",
    "\n",
    "- ##### 1. Derivatives (2.4.1)  \n",
    "- ##### 2. Derivatives for tensors: the gradient (2.4.2)\n",
    "- ### 3. Optimization: stochastic gradient descent, momentum (2.4.3)\n",
    "- ##### 4. Chaining derivatives: the backpropagation algorithm (2.4.4)"
   ]
  },
  {
   "cell_type": "markdown",
   "id": "a65cc41f-f8df-4ea8-96ff-7db6d8d99b4f",
   "metadata": {
    "id": "a65cc41f-f8df-4ea8-96ff-7db6d8d99b4f"
   },
   "source": [
    "---\n",
    "\n",
    "## 2.4.3 Stochastic gradient descent"
   ]
  },
  {
   "cell_type": "markdown",
   "id": "d55b0acf",
   "metadata": {
    "id": "d55b0acf"
   },
   "source": [
    "The gradient tensor is written $\\nabla J$ (the nabla symbol).\n",
    "\n",
    "The loss function is at a minimum when $w$ and $b$ are solutions of $\\nabla J = 0$.\n",
    "\n",
    "However, computing all the solutions explicitly is intractable, for two reasons."
   ]
  },
  {
   "cell_type": "markdown",
   "id": "56965bf9-f780-41e2-b739-63db9ae4aa94",
   "metadata": {
    "id": "56965bf9-f780-41e2-b739-63db9ae4aa94"
   },
   "source": [
    "First, because of the function itself, **too many parameters**!\n",
    "\n",
    "It makes knowing the behaviour of the function very difficult.\n",
    "\n",
    "This includes knowing **whether a minimum is local or global**.\n",
    "\n",
    "Let's call this **the landscape problem**."
   ]
  },
  {
   "cell_type": "code",
   "execution_count": 7,
   "id": "fcddcd2d",
   "metadata": {
    "id": "fcddcd2d"
   },
   "outputs": [],
   "source": [
    "def f(x, x_1, x_2, x_3, x_4):\n",
    "    return (x - x_1) * (x - x_2) * (x - x_3) * (x - x_4)\n",
    "\n",
    "def plot_loss():\n",
    "    x = np.linspace(0, 10, num=101)\n",
    "    x_1, x_2, x_3, x_4 = 0, 4, 7, 8\n",
    "    y = f(x, x_1, x_2, x_3, x_4)\n",
    "\n",
    "    plt.plot(x, y + 150)\n",
    "    plt.figtext(0.2, 0.25, 'Global\\nminimum', fontsize='large')\n",
    "    plt.figtext(0.6, 0.4, 'Local\\nminimum', fontsize='large')\n",
    "\n",
    "    ax = plt.gca()\n",
    "    ax.spines['right'].set_visible(False)\n",
    "    ax.spines['top'].set_visible(False)\n",
    "    ax.yaxis.set_ticks_position('left')\n",
    "    ax.xaxis.set_ticks_position('bottom')"
   ]
  },
  {
   "cell_type": "code",
   "execution_count": 8,
   "id": "132a0feb",
   "metadata": {
    "colab": {
     "base_uri": "https://localhost:8080/",
     "height": 430
    },
    "id": "132a0feb",
    "outputId": "946d9acd-f215-4348-e808-3adac44ab81c"
   },
   "outputs": [
    {
     "data": {
      "image/png": "[encoded data removed]",
      "text/plain": [
       "<Figure size 640x480 with 1 Axes>"
      ]
     },
     "metadata": {},
     "output_type": "display_data"
    }
   ],
   "source": [
    "plot_loss()"
   ]
  },
  {
   "cell_type": "markdown",
   "id": "e3087ae2",
   "metadata": {
    "id": "e3087ae2"
   },
   "source": [
    "Second, because the *loss* is defined over **the entire training set**: that's **expensive** to compute.\n",
    "\n",
    "Even if we calculate the loss over **one example** at a time:\n",
    "\n",
    "$$f = model, \\theta = parameters, x = sample, y = label$$\n",
    "\n",
    "$$\n",
    "\\bbox[5px,border:2px solid red]\n",
    "{\n",
    "Loss(f(x;\\theta),y)\n",
    "}\n",
    "$$"
   ]
  },
  {
   "cell_type": "markdown",
   "id": "3a06db9e",
   "metadata": {
    "id": "3a06db9e"
   },
   "source": [
    "We want to model not just one sample but a **whole dataset** of size $m$, the loss being an **average** over all samples $i$:\n",
    "\n",
    "\n",
    "$$\n",
    "\\bbox[5px,border:2px solid red]\n",
    "{\n",
    "\\DeclareMathOperator*{\\argmax}{argmax} % thin space, limits underneath in displays\n",
    "J(\\theta) = \\frac{1}{m}\\sum_{i=1}^m Loss(f(x^i;\\theta),y^i)\n",
    "}\n",
    "$$\n",
    "\n",
    "We want to find parameters ($\\theta$) that make this as small as possible."
   ]
  },
  {
   "cell_type": "markdown",
   "id": "ccc305e2",
   "metadata": {
    "id": "ccc305e2"
   },
   "source": [
    "#### The Rubik problem\n",
    "\n",
    "Every time we calculate the gradient with respect to **one sample**, we are solving for just one side of the Rubik's.\n",
    "\n",
    "Ideally, you'd want to make an update that improves your model for **all of your data** in one go.\n",
    "\n",
    "In the *space of the loss function*, this is equivalent to have 'perfect' gradient: **know exactly** in which direction to step.\n",
    "\n",
    "But there's way too much data! \n",
    "\n",
    "*Intuitively, perhaps you can think about this problem a bit like a Rubik's cube: you don't know which tweak is best to reach the solutions, so you tweak your machine to recognise 1s, which is a bit like solving for one face of the cube, but maybe as you do so, you realise that it now recognises 3s less. So you go on rectifying that, but then you lose on 7s, etc.*\n",
    "\n",
    "We could call this the **Rubik problem**."
   ]
  },
  {
   "cell_type": "markdown",
   "id": "ff9e30d2-ab37-4ac1-ba0c-0fc4a9599f12",
   "metadata": {
    "id": "ff9e30d2-ab37-4ac1-ba0c-0fc4a9599f12"
   },
   "source": [
    "This is where gradient descent kicks in, solving our two problems:\n",
    "\n",
    "1. We can improve our loss **without fully understanding its behaviour** (*landscape*).\n",
    "\n",
    "2. The second is **stochastic**/**mini-batch** gradient descent, allowing us to **approximate  the gradient** using just a small batch of our data (one 'rubik face')."
   ]
  },
  {
   "cell_type": "markdown",
   "id": "7128869c-1f10-482d-a37d-a85fef5ef5d7",
   "metadata": {
    "id": "7128869c-1f10-482d-a37d-a85fef5ef5d7"
   },
   "source": [
    "#### The landscape problem\n",
    "\n",
    "As we have seen, the **loss** is a multivariate function taking **all the parameters** of the network as input.\n",
    "\n",
    "The input space has **as many dimensions as the number of parameters (weights and biases)**.\n",
    "\n",
    "Given the difficulty of the task, we take an **iterative** approach.\n",
    "\n",
    "We start anywhere on that landscape, we improve things a tiny bit, and repeat."
   ]
  },
  {
   "cell_type": "markdown",
   "id": "c253e707-7a2f-4b53-8c7f-e80f7addfd66",
   "metadata": {
    "id": "c253e707-7a2f-4b53-8c7f-e80f7addfd66"
   },
   "source": [
    "If the input space of the loss is like a **multidimensional landscape**,\n",
    "\n",
    "and each network parameter is a **dimension**,\n",
    "\n",
    "the loss is our **ground height**,\n",
    "\n",
    "the negative of the gradient gives us the **direction of steepest descent** (our *compas*)\n",
    "\n",
    "and the update to our parameters is one step **downhill** to find a minimum."
   ]
  },
  {
   "cell_type": "markdown",
   "id": "4b2e6fc0-b71a-4cfb-804d-67ae7b519851",
   "metadata": {
    "id": "4b2e6fc0-b71a-4cfb-804d-67ae7b519851"
   },
   "source": [
    "<!-- <img style=\"height: 700px;\" src=\"images/loss.landscape.jpeg\"> -->\n",
    "<img style=\"height: 700px;\" src=\"https://github.com/jchwenger/AI/blob/main/2-building-blocks/images/loss.landscape.jpeg?raw=true\">\n",
    "\n",
    "<small>Image Source: A. Amini et al. “[Spatial Uncertainty Sampling for End-to-End Control](https://arxiv.org/abs/1805.04829)”. *NeurIPS Bayesian Deep Learning 2018*</small>"
   ]
  },
  {
   "cell_type": "markdown",
   "id": "2bea1900-8972-448b-bc24-7467c93d2320",
   "metadata": {
    "id": "2bea1900-8972-448b-bc24-7467c93d2320"
   },
   "source": [
    "### Gradient descent\n",
    "\n",
    "$$\n",
    "\\bbox[5px,border:2px solid red]\n",
    "{\n",
    "    \\begin{align*}\n",
    "    w &= w - \\eta \\nabla_w f \\\\\n",
    "    b &= b - \\eta \\nabla_b f\n",
    "    \\end{align*}\n",
    "}\n",
    "$$\n",
    "\n",
    "In Python:\n",
    "\n",
    "$$\n",
    "\\bbox[5px,border:2px solid red]\n",
    "{\n",
    "    \\begin{align*}\n",
    "    w\\ &\\mathrel{{-}{=}} eta * w\\_gradient \\\\\n",
    "    b\\ &\\mathrel{{-}{=}} eta * b\\_gradient\n",
    "    \\end{align*}\n",
    "}\n",
    "$$\n",
    "\n",
    "$\\bf{\\eta}$ **= step size =  learning rate**.\n",
    "\n",
    "By convention, we make $w$ and $\\nabla_w f$ the same shape (big tensors), so that the updates are applied *elementwise*.\n",
    "\n",
    "<small>For reference, here's the official TensorFlow [Introduction to gradients and automatic differentiation](https://www.tensorflow.org/guide/autodiff).</small>"
   ]
  },
  {
   "cell_type": "markdown",
   "id": "bf039045-88fa-4bde-b192-a424b0ccce09",
   "metadata": {
    "id": "bf039045-88fa-4bde-b192-a424b0ccce09"
   },
   "source": [
    "**If the step size is too small**, the ball might get stuck in a local minimum – never climbing the barrier between the minima. Also, it is **slow**.\n",
    "\n",
    "**But if the step size is too large**, the ball might never find any minimum, it would just keep bouncing around, and could even diverge.\n",
    "\n",
    "💀  There is **no way of knowing** the optimal step size because we never know what the loss landscape looks like. Must be tweaked!\n",
    "\n",
    "<!-- <img style=\"height:300px;float:right;\" src=\"images/imperial.learning_rate.svg\"> -->\n",
    "<img style=\"height:300px;float:right;\" src=\"https://raw.githubusercontent.com/jchwenger/AI/d942b064df6d0e929cbd027bc6a6939f9e8fc763/2-building-blocks/images/imperial.learning_rate.svg\">\n",
    "\n",
    "<small style=\"position:absolute;bottom:0;right:0;\">Source: [Imperial College Machine Learning - Neural Networks](https://www.doc.ic.ac.uk/~nuric/teaching/imperial-college-machine-learning-neural-networks.html)</small>"
   ]
  },
  {
   "cell_type": "markdown",
   "id": "8a2614cf-10d6-459a-b7a3-5afa47b4caae",
   "metadata": {
    "id": "8a2614cf-10d6-459a-b7a3-5afa47b4caae"
   },
   "source": [
    "Research around optimizers is active, and focusses on solving these problems:\n",
    "\n",
    "- How to learn **as fast as possible** (in particular, faster than SGD).\n",
    "\n",
    "- How to avoid getting stuck in a **local optimum** (slightly less relevant for large nets.).\n",
    "\n",
    "- How not to **overshoot** (you are near your goal and you go past it).\n",
    "\n",
    "- How to move at different speeds in **different dimensions** (automatically).\n",
    "\n",
    "- How to **minimize memory consumption**.\n",
    "\n",
    "A key idea to improve vanilla SGD is **momentum**."
   ]
  },
  {
   "cell_type": "markdown",
   "id": "4ff90815-c55d-4684-8d49-4ba59e0aacc9",
   "metadata": {
    "id": "4ff90815-c55d-4684-8d49-4ba59e0aacc9"
   },
   "source": [
    "### Momentum\n",
    "\n",
    "Momentum can be understood in two ways:\n",
    "\n",
    "- from **physics**, with the ball on slope analogy: an acceleration is added to the velocity and the velocity is added to position.  \n",
    "- as an **exponential moving average** (EMA) (where the previous gradients still have an influence on the current one)."
   ]
  },
  {
   "cell_type": "markdown",
   "id": "3993b5a4-b515-474f-acb4-4b456ed17923",
   "metadata": {
    "id": "3993b5a4-b515-474f-acb4-4b456ed17923"
   },
   "source": [
    "<!-- <img style=\"height:500px\" src=\"images/khandewal.momentum.png\"> -->\n",
    "<img style=\"height:500px\" src=\"https://github.com/jchwenger/AI/blob/main/2-building-blocks/images/khandewal.momentum.png?raw=true\">\n",
    "\n",
    "<small>[Harsh Khandewal, *Gradient Descent with Momentum, RMSprop And Adam Optimizer*, Medium](https://medium.com/analytics-vidhya/momentum-rmsprop-and-adam-optimizer-5769721b4b19)</small>"
   ]
  },
  {
   "cell_type": "markdown",
   "id": "328a5676-ebba-4dea-9284-42d67d585275",
   "metadata": {
    "id": "328a5676-ebba-4dea-9284-42d67d585275"
   },
   "source": [
    "Particle dynamics:\n",
    "    \n",
    "$\\begin{cases}\n",
    "v(t + \\Delta t) = v(t) + a(t) \\Delta t\\\\\n",
    "x(t + \\Delta t) = x(t) + v(t) \\Delta t\n",
    "\\end{cases}$\n",
    "    \n",
    "Or, with $\\Delta t = 1$\n",
    "    \n",
    "$\\begin{cases}\n",
    "v(t + 1) = v(t) + a(t) \\\\\n",
    "x(t + 1) = x(t) + v(t + 1)\n",
    "\\end{cases}$\n",
    "    \n",
    "   "
   ]
  },
  {
   "cell_type": "markdown",
   "id": "de532658-05f8-46a0-8ce3-9b127ffe6731",
   "metadata": {
    "id": "de532658-05f8-46a0-8ce3-9b127ffe6731"
   },
   "source": [
    "The acceleration of a ball has two parts: friction and gradient.\n",
    "\n",
    "$\\color{red}{\\alpha - 1}$: the coefficient of friction, values between 0 and 1.  \n",
    "$\\color{blue}{\\eta } $: step size, aka learning rate.  \n",
    "$\\color{blue}{\\nabla f}$: our gradient (*direction of steepest ascent*).  \n",
    "\n",
    "\\begin{align*}\n",
    "a(t) = \\color{red}{(\\alpha - 1)}v(t) - \\color{blue}{\\eta \\nabla f},\\quad  \\alpha \\in [0, 1]\n",
    "\\end{align*}\n",
    "    \n",
    "\\begin{align*}\n",
    "\\begin{cases}\n",
    "\\color{green}{v(t + 1)} &= v(t) + \\color{red}{(\\alpha - 1)}v(t)  - \\color{blue}{\\eta \\nabla f} \\\\\n",
    "         &= \\color{red}{\\alpha} v(t) - \\color{blue}{\\eta \\nabla f}  & \\leftarrow \\color{red}{(\\alpha - 1)}\\ \\text{simplifies} \\\\\n",
    "x(t + 1) &= x(t) + \\color{green}{v(t + 1)}\n",
    "\\end{cases}\n",
    "\\end{align*}\n",
    "\n",
    "The negative gradient is the **downwards force** and the **opposing friction** is proportional to velocity."
   ]
  },
  {
   "cell_type": "markdown",
   "id": "5c67fad4-7c26-4a4f-869d-d00c3163208b",
   "metadata": {
    "id": "5c67fad4-7c26-4a4f-869d-d00c3163208b"
   },
   "source": [
    "Instead of this:\n",
    "\n",
    "$$\n",
    "\\bbox[5px,border:2px solid red]\n",
    "{\n",
    "    \\begin{align*}\n",
    "    w &= w - \\eta \\nabla_w f \\\\\n",
    "    \\end{align*}\n",
    "}\n",
    "$$\n",
    "\n",
    "We initialize $v_0$ with zeros, then do:\n",
    "\n",
    "$$\n",
    "\\bbox[5px,border:2px solid red]\n",
    "{\n",
    "    \\begin{cases}\n",
    "        \\begin{align*}\n",
    "            v_t &= \\alpha v_{t-1} - \\eta \\nabla_w f &&| \\leftarrow \\text{updating our velocity}\\\\\n",
    "            w &= w + v_t &&| \\leftarrow \\text{updating our weights} \\\\\n",
    "        \\end{align*}\n",
    "    \\end{cases}\n",
    "}\n",
    "$$\n",
    "\n",
    "$\\bf{\\eta}$ **= step size = learning rate**  \n",
    "$\\bf{\\alpha}$ **= momentum coefficient**\n",
    "\n",
    "\n",
    "\n",
    "<!-- $\\begin{cases}\n",
    "\\Delta w(t + 1) = \\alpha \\Delta w(t) - \\eta \\nabla f  \\\\\n",
    "w(t + 1) = w(t) + \\Delta w(t + 1)\n",
    "\\end{cases}$\n",
    " -->\n",
    "\n",
    "And similarly for $b$."
   ]
  },
  {
   "cell_type": "markdown",
   "id": "41253ab9-1111-4522-bbb3-785118ae1ce5",
   "metadata": {
    "id": "41253ab9-1111-4522-bbb3-785118ae1ce5"
   },
   "source": [
    "As pseudocode:\n",
    "\n",
    "```python\n",
    "delta_w = 0\n",
    "loop:\n",
    "    v = alpha * v - eta * gradient\n",
    "    w = w + v\n",
    "```\n",
    "\n",
    "`eta` = `step_size` = `learning_rate`  \n",
    "`alpha` = momentum coefficient"
   ]
  },
  {
   "cell_type": "markdown",
   "id": "aa24aafa-38d4-4cae-b38c-a248ac9fad4c",
   "metadata": {
    "id": "aa24aafa-38d4-4cae-b38c-a248ac9fad4c"
   },
   "source": [
    "Another way of looking at the phenomenon: the current value being an **exponential moving average**.\n",
    "\n",
    "Aka the **smoothing** of your values.\n",
    "\n",
    "\"If your gradient was big for a while, even if current values are low, it take some time to go down.\""
   ]
  },
  {
   "cell_type": "markdown",
   "id": "d0168545-f9c0-445b-9ef7-2c61473de4a4",
   "metadata": {
    "id": "d0168545-f9c0-445b-9ef7-2c61473de4a4"
   },
   "source": [
    "<!-- ![Ng exponentially weighted averages](images/andrew-ng-exponentially-weighted-averages.png) -->\n",
    "<img src=\"https://github.com/jchwenger/AI/blob/main/2-building-blocks/images/andrew-ng-exponentially-weighted-averages.png?raw=true\">\n",
    "\n",
    "<small>[Andrew Ng, Improving Deep Neural Networks: Hyperparameter Tuning, Regularization and Optimization (Course 2 of the Deep Learning Specialization)](https://www.youtube.com/watch?v=k8fTYJPd3_I&list=PLkDaE6sCZn6Hn0vK8co82zjQtt3T2Nkqc&index=20).</small>"
   ]
  },
  {
   "cell_type": "markdown",
   "id": "f210bee2-9664-45e1-a33d-57a72abeff8b",
   "metadata": {
    "id": "f210bee2-9664-45e1-a33d-57a72abeff8b"
   },
   "source": [
    "Instead of this:\n",
    "\n",
    "$$\n",
    "\\bbox[5px,border:2px solid red]\n",
    "{\n",
    "    \\begin{align*}\n",
    "    w &= w - \\eta \\nabla_w f \\\\\n",
    "    \\end{align*}\n",
    "}\n",
    "$$\n",
    "  \n",
    "We initialize $v_0$ with zeros, then:\n",
    "\n",
    "$$\n",
    "\\bbox[5px,border:2px solid red]\n",
    "{\n",
    "    \\begin{cases}\n",
    "        \\begin{align*}\n",
    "            v_t &= \\beta v_{t-1} + (1 - \\beta) \\nabla_w f &&| \\leftarrow \\text{updating our EMA*}\\\\\n",
    "            w &= w + \\eta v_t &&| \\leftarrow \\text{updating our weights} \\\\\n",
    "        \\end{align*}\n",
    "    \\end{cases}\n",
    "}\n",
    "$$\n",
    "\n",
    "$\\bf{\\eta}$ **= step size = learning rate**  \n",
    "$\\bf{\\beta}$ **= smoothing coefficient**  \n",
    "\\* EMA: exponential moving average.\n",
    "\n",
    "<!-- $\\begin{cases}\n",
    "\\Delta w(t + 1) = \\alpha \\Delta w(t) - \\eta \\nabla f  \\\\\n",
    "w(t + 1) = w(t) + \\Delta w(t + 1)\n",
    "\\end{cases}$\n",
    " -->\n",
    "  \n",
    "And similarly for $b$.\n",
    "\n",
    "*This is in fact just a scaled version of the previous equations, shifting the value of $\\eta$.*\n"
   ]
  },
  {
   "cell_type": "markdown",
   "id": "842e68dc-5753-4d6b-aa64-d2f8b9a8513e",
   "metadata": {
    "id": "842e68dc-5753-4d6b-aa64-d2f8b9a8513e",
    "jp-MarkdownHeadingCollapsed": true,
    "tags": []
   },
   "source": [
    "This is just scratching the surface on optimizers. Here are the most common:\n",
    "\n",
    "### 1. `SGD with momentum`\n",
    "(The less costly method, and the first developed historically, can outperform the ones below, but tricky/requires tuning)\n",
    "\n",
    "### 2. `RMSProp`\n",
    "(used by Chollet all the time, scales the gradient for each dimension)\n",
    "\n",
    "### 3. `Adam`\n",
    "(frankly, the most popular out there, literally 1 & 2 together!)\n",
    "\n",
    "Great blog posts by Sebastian Ruder [here](https://ruder.io/optimizing-gradient-descent) and [here](https://ruder.io/deep-learning-optimization-2017)."
   ]
  },
  {
   "cell_type": "markdown",
   "id": "4e426844-c38c-475d-8aa5-ad2ca300e3a0",
   "metadata": {
    "id": "4e426844-c38c-475d-8aa5-ad2ca300e3a0"
   },
   "source": [
    "### Recommended learning rate to start with:\n",
    "- #### `1e-4` (Chollet)\n",
    "- #### `3e-4` (many others)\n",
    "\n",
    "(In that ballpark: needs to be tweaked ⚙️.)\n",
    "\n",
    "### Momentum for SGD: `0.9`.\n",
    "\n",
    "Keras has all these default settings built-in.\n",
    "\n",
    "You can check the default parameters [in the documentation](https://www.tensorflow.org/api_docs/python/tf/keras/optimizers)."
   ]
  },
  {
   "cell_type": "markdown",
   "id": "65abc023-a39a-428c-ad4d-d6e608d127df",
   "metadata": {
    "id": "65abc023-a39a-428c-ad4d-d6e608d127df"
   },
   "source": [
    "### Recommended playground\n",
    "\n",
    "[\"Why Momentum Really Works\", by Gabriel Oh, on Distill](https://distill.pub/2017/momentum/), with:\n",
    "1. an interactive graph!\n",
    "2. a lot of math, for those who crave that.\n",
    "\n",
    "<!-- <a href=\"https://distill.pub/2017/momentum/\"><img style=\"height:450px; float:right\" src=\"images/gabriel-oh-momentum.png\"></a> -->\n",
    "<a href=\"https://distill.pub/2017/momentum/\"><img style=\"height:450px; float:right\" src=\"https://github.com/jchwenger/AI/blob/main/2-building-blocks/images/gabriel-oh-momentum.png?raw=true\"></a>\n",
    "\n",
    "\n"
   ]
  },
  {
   "cell_type": "markdown",
   "id": "5461f7d9-5518-4725-99a4-e6c18ff1ded0",
   "metadata": {
    "id": "5461f7d9-5518-4725-99a4-e6c18ff1ded0"
   },
   "source": [
    "#### The Rubik's problem\n",
    "\n",
    "The loss is the average of the losses for each sample in the entire training set (the **batch**).\n",
    "\n",
    "Batch gradient descent gives us the true gradient but is still prohibitively expensive.\n",
    "\n",
    "We can use the gradient for **one sample**, cheap but *high variance*, and iterate many times: **stochastic gradient descent**.\n",
    "\n",
    "But there is a tradeoff!\n",
    "\n",
    "We can calculate the loss and gradient for small, randomly selected subsets of the training set – **mini-batch (stochastic) gradient descent**.\n",
    "\n",
    "Our gradient approximation is better, and the compute is manageable."
   ]
  },
  {
   "cell_type": "markdown",
   "id": "67259cb0-6ec4-4c23-94f8-6b2e94e45768",
   "metadata": {
    "id": "67259cb0-6ec4-4c23-94f8-6b2e94e45768"
   },
   "source": [
    "$$\n",
    "\t\\qquad \\qquad \\qquad \\underleftrightarrow{\\bf{\\text{batch} \\qquad \\qquad \\qquad \\text{mini-batch} \\qquad \\qquad \\text{stochastic}}}\n",
    "$$\n",
    "$$\n",
    "    \\begin{array}{r|cc}\n",
    "    \\bf{\\text{data}} & \\text{whole dataset} \\qquad & \\text{a few samples}  & \\qquad \\text{one sample}\\\\\n",
    "    \\bf{\\text{compute}} & \\text{intractable} \\qquad  &  \\text{manageable}  &  \\qquad \\text{cheap}\\\\\n",
    "    \\bf{\\text{gradient}} & \\text{exact} \\qquad  &  \\text{intermediate}  &  \\qquad \\text{high variance}\\\\\n",
    "    \\end{array}\n",
    "$$\n",
    "\n",
    "Calculating the gradient on a mini-batch only will yield an **approximation** of the real gradient.\n",
    "\n",
    "Better than a single sample, cheaper than the whole batch!\n",
    "\n",
    "What we lose in precision, we gain in training speed!\n",
    "\n",
    "💀 Guess what: **no magic formula** for the ideal batch size. Must be tweaked, depends on hardware.\n",
    "\n",
    "##### Rule of thumb\n",
    "\n",
    "If your batch size is big, your gradient is more accurate, so you can increase your learning rate! ⚙️ Tweak!\n"
   ]
  },
  {
   "cell_type": "markdown",
   "id": "1c5cbdff",
   "metadata": {
    "id": "1c5cbdff"
   },
   "source": [
    "## Next\n",
    "\n",
    "- ##### 1. Derivatives (2.4.1)  \n",
    "- ##### 2. Derivatives for tensors: the gradient (2.4.2)\n",
    "- ##### 3. Optimization: stochastic gradient descent, momentum (2.4.3)\n",
    "- ### 4. Chaining derivatives: the backpropagation algorithm (2.4.4)"
   ]
  },
  {
   "cell_type": "markdown",
   "id": "a4d3be55",
   "metadata": {
    "id": "a4d3be55"
   },
   "source": [
    "---\n",
    "\n",
    "## 2.4.4 Chaining derivatives: The Backpropagation algorithm"
   ]
  },
  {
   "cell_type": "markdown",
   "id": "ecc1492b",
   "metadata": {
    "id": "ecc1492b"
   },
   "source": [
    "The gradient in SGD optimisers is calculated by an efficient organisation of the chain rule for differentiable loss and layer functions: **backpropagation**.\n",
    "\n",
    "It is automatically implemented in TensorFlow."
   ]
  },
  {
   "cell_type": "markdown",
   "id": "accdd214",
   "metadata": {
    "id": "accdd214"
   },
   "source": [
    "The revolution of automatic differentiation (TensorFlow, PyTorch, JAX, etc.) is **all based on two principles**:\n",
    "\n",
    "- Once you implement the derivative of an operation (`+`, or `*`, or anything more complex), it is **the same** wherever it appears (duh!, but this wouldn't be useful, if we didn't also have:);\n",
    "\n",
    "- The chain rule means everything is **modular**: we only need to implement **local operations**, then we **chain** them together.\n"
   ]
  },
  {
   "cell_type": "markdown",
   "id": "97703954",
   "metadata": {
    "id": "97703954"
   },
   "source": [
    "What does modular mean?\n",
    "\n",
    "That each node only needs:\n",
    "  - to know how to **compute the gradient** of its operation (\"if the op is $x^2$, the gradient will be $2x$\");\n",
    "  - to know the **previous gradient(s)** flowing back from downward in the net;  \n",
    "  - and **the values at the node during the forward pass** (they must be stored during the forward pass).\n",
    "  \n",
    "\n",
    "And that's it! With it you can calculate the gradient coming out, and pass it to the neurons upstream.\n",
    "\n",
    "##### Note\n",
    "\n",
    "If there is more than one branch coming in, the gradients are summed up!"
   ]
  },
  {
   "cell_type": "markdown",
   "id": "61ce014b",
   "metadata": {
    "id": "61ce014b"
   },
   "source": [
    "<!-- ![Stanford backprop](images/stanford-backprop/backprop.13.png) -->\n",
    "<img src=\"https://github.com/jchwenger/AI/blob/main/2-building-blocks/images/stanford-backprop/backprop.13.png?raw=true\">\n",
    "\n",
    "<small>Source: [CS231n: Convolutional Neural Networks for Visual Recognition](http://cs231n.stanford.edu/2017/syllabus.html), lecture 4</small>"
   ]
  },
  {
   "cell_type": "markdown",
   "id": "81e4e092",
   "metadata": {
    "id": "81e4e092"
   },
   "source": [
    "What have we here: a node. It can be any operation combining the inputs $x$ and $y$ to obtain $z$.\n",
    "\n",
    "This node knows how to compute $\\frac{\\partial z}{\\partial x}$ and $\\frac{\\partial z}{\\partial y}$."
   ]
  },
  {
   "cell_type": "markdown",
   "id": "40ae6e27",
   "metadata": {
    "id": "40ae6e27"
   },
   "source": [
    "<!-- ![Stanford backprop](images/stanford-backprop/backprop.14.png) -->\n",
    "<img src=\"https://github.com/jchwenger/AI/blob/main/2-building-blocks/images/stanford-backprop/backprop.14.png?raw=true\">\n",
    "\n",
    "Source: [CS231n: Convolutional Neural Networks for Visual Recognition](http://cs231n.stanford.edu/2017/syllabus.html), lecture 4"
   ]
  },
  {
   "cell_type": "markdown",
   "id": "0f590985",
   "metadata": {
    "id": "0f590985"
   },
   "source": [
    "During backprop, information flows backward from the loss to the input: the node will receive $\\frac{\\partial L}{\\partial z}$, *the gradient up to this point*, without knowing at all what the operations are or how it was computed. It just receives that number."
   ]
  },
  {
   "cell_type": "markdown",
   "id": "67d8da9e",
   "metadata": {
    "id": "67d8da9e"
   },
   "source": [
    "<!-- ![Stanford backprop](images/stanford-backprop/backprop.15.png) -->\n",
    "<img src=\"https://github.com/jchwenger/AI/blob/main/2-building-blocks/images/stanford-backprop/backprop.15.png?raw=true\">\n",
    "\n",
    "Source: [CS231n: Convolutional Neural Networks for Visual Recognition](http://cs231n.stanford.edu/2017/syllabus.html), lecture 4"
   ]
  },
  {
   "cell_type": "markdown",
   "id": "f3dc945f",
   "metadata": {
    "id": "f3dc945f"
   },
   "source": [
    "Thanks to the chain rule, the node can then compute $\\frac{\\partial z}{\\partial x}$ and multiply that by $\\frac{\\partial L}{\\partial z}$ to obtain the gradient flowing in the $x$ direction, $\\frac{\\partial L}{\\partial x}$.\n",
    "\n",
    "##### Note\n",
    "\n",
    "In order to compute $\\frac{\\partial z}{\\partial x}$, the node needs to know what $x$ was in the forward pass!"
   ]
  },
  {
   "cell_type": "markdown",
   "id": "49188e82",
   "metadata": {
    "id": "49188e82"
   },
   "source": [
    "<!-- ![Stanford backprop](images/stanford-backprop/backprop.16.png) -->\n",
    "<img src=\"https://github.com/jchwenger/AI/blob/main/2-building-blocks/images/stanford-backprop/backprop.16.png?raw=true\">\n",
    "\n",
    "Source: [CS231n: Convolutional Neural Networks for Visual Recognition](http://cs231n.stanford.edu/2017/syllabus.html), lecture 4"
   ]
  },
  {
   "cell_type": "markdown",
   "id": "11b4773a",
   "metadata": {
    "id": "11b4773a"
   },
   "source": [
    "And the same happens for $\\frac{\\partial L}{\\partial y}$, multiplying $\\frac{\\partial L}{\\partial z}$ by $\\frac{\\partial z}{\\partial y}$, which amounts to *routing* the gradient information upstream!"
   ]
  },
  {
   "cell_type": "markdown",
   "id": "1c445270",
   "metadata": {
    "id": "1c445270"
   },
   "source": [
    "This node has **no idea** how complex the whole network is!\n",
    "\n",
    "It is only one cog in the big machine."
   ]
  },
  {
   "cell_type": "markdown",
   "id": "93cb607e",
   "metadata": {
    "id": "93cb607e"
   },
   "source": [
    "The most important things to understand:\n",
    "\n",
    "- A neural net can be represented as a **(directed acyclic) graph** or **DAG** (several paths, but no loops), where information flows from input(s) to output(s), passing by a series of nodes (operations);\n",
    "\n",
    "- When doing backprop, information flows **backward** through the network, computing the **influence** of each node on the loss!\n",
    "\n",
    "- The chain rule says that if *if you know the gradient up to this point*, and the local gradient, you can move back one step by **multiplying** the incoming gradient with the current one;"
   ]
  },
  {
   "cell_type": "markdown",
   "id": "5f56eb21",
   "metadata": {
    "id": "5f56eb21"
   },
   "source": [
    "<!-- ![Stanford backprop](images/stanford-backprop/backprop.01.png) -->\n",
    "<img src=\"https://github.com/jchwenger/AI/blob/main/2-building-blocks/images/stanford-backprop/backprop.01.png?raw=true\">\n",
    "\n",
    "<small>Source: [CS231n: Convolutional Neural Networks for Visual Recognition](http://cs231n.stanford.edu/2017/syllabus.html), lecture 4</small>"
   ]
  },
  {
   "cell_type": "markdown",
   "id": "49ff7619",
   "metadata": {
    "id": "49ff7619"
   },
   "source": [
    "Here is an example. Our equation is\n",
    "\n",
    "$$\n",
    "\\begin{align*}\n",
    "f(x, y, z) &= (x + y)z\\\\\n",
    "\\text{With:}&\\\\\n",
    "x &= -2\\\\\n",
    "y &= 5\\\\\n",
    "z &= -4\\\\\n",
    "\\text{We have:}\\\\ -2 + 5 &= 3\\\\\n",
    "3 * -4 &= -12\n",
    "\\end{align*}$$"
   ]
  },
  {
   "cell_type": "markdown",
   "id": "b7498773",
   "metadata": {
    "id": "b7498773"
   },
   "source": [
    "<!-- ![Stanford backprop](images/stanford-backprop/backprop.02.png) -->\n",
    "<img src=\"https://github.com/jchwenger/AI/blob/main/2-building-blocks/images/stanford-backprop/backprop.02.png?raw=true\">\n",
    "\n",
    "<small>Source: [CS231n: Convolutional Neural Networks for Visual Recognition](http://cs231n.stanford.edu/2017/syllabus.html), lecture 4</small>"
   ]
  },
  {
   "cell_type": "markdown",
   "id": "57f86321",
   "metadata": {
    "id": "57f86321"
   },
   "source": [
    "All the partial derivatives have been calculated for us."
   ]
  },
  {
   "cell_type": "markdown",
   "id": "5b3b2b8d",
   "metadata": {
    "id": "5b3b2b8d"
   },
   "source": [
    "<!-- ![Stanford backprop](images/stanford-backprop/backprop.03.png) -->\n",
    "<img src=\"https://github.com/jchwenger/AI/blob/main/2-building-blocks/images/stanford-backprop/backprop.03.png?raw=true\">\n",
    "<small>Source: [CS231n: Convolutional Neural Networks for Visual Recognition](http://cs231n.stanford.edu/2017/syllabus.html), lecture 4</small>"
   ]
  },
  {
   "cell_type": "markdown",
   "id": "cd747615",
   "metadata": {
    "id": "cd747615"
   },
   "source": [
    "What is $\\frac{\\partial f}{\\partial f}$?"
   ]
  },
  {
   "cell_type": "markdown",
   "id": "70336b79",
   "metadata": {
    "id": "70336b79"
   },
   "source": [
    "<!-- ![Stanford backprop](images/stanford-backprop/backprop.04.png) -->\n",
    "<img src=\"https://github.com/jchwenger/AI/blob/main/2-building-blocks/images/stanford-backprop/backprop.04.png?raw=true\">\n",
    "\n",
    "<small>Source: [CS231n: Convolutional Neural Networks for Visual Recognition](http://cs231n.stanford.edu/2017/syllabus.html), lecture 4</small>"
   ]
  },
  {
   "cell_type": "markdown",
   "id": "16e61355",
   "metadata": {
    "id": "16e61355"
   },
   "source": [
    "One of course."
   ]
  },
  {
   "cell_type": "markdown",
   "id": "fc78aa43",
   "metadata": {
    "id": "fc78aa43"
   },
   "source": [
    "<!-- ![Stanford backprop](images/stanford-backprop/backprop.05.png) -->\n",
    "<img src=\"https://github.com/jchwenger/AI/blob/main/2-building-blocks/images/stanford-backprop/backprop.05.png?raw=true\">\n",
    "\n",
    "<small>Source: [CS231n: Convolutional Neural Networks for Visual Recognition](http://cs231n.stanford.edu/2017/syllabus.html), lecture 4</small>"
   ]
  },
  {
   "cell_type": "markdown",
   "id": "986d3302",
   "metadata": {
    "id": "986d3302"
   },
   "source": [
    "Now what is $\\frac{\\partial f}{\\partial z}$? On the left we have the derivative of the op: $\\frac{\\partial f}{\\partial z} = q$."
   ]
  },
  {
   "cell_type": "markdown",
   "id": "8e9a5b8e",
   "metadata": {
    "id": "8e9a5b8e"
   },
   "source": [
    "<!-- ![Stanford backprop](images/stanford-backprop/backprop.06.png) -->\n",
    "<img src=\"https://github.com/jchwenger/AI/blob/main/2-building-blocks/images/stanford-backprop/backprop.06.png?raw=true\">\n",
    "\n",
    "<small>Source: [CS231n: Convolutional Neural Networks for Visual Recognition](http://cs231n.stanford.edu/2017/syllabus.html), lecture 4</small>"
   ]
  },
  {
   "cell_type": "markdown",
   "id": "805aafa7",
   "metadata": {
    "id": "805aafa7"
   },
   "source": [
    "It is 3, that is $q$."
   ]
  },
  {
   "cell_type": "markdown",
   "id": "ccac9e38",
   "metadata": {
    "id": "ccac9e38"
   },
   "source": [
    "<!-- ![Stanford backprop](images/stanford-backprop/backprop.07.png) -->\n",
    "<img src=\"https://github.com/jchwenger/AI/blob/main/2-building-blocks/images/stanford-backprop/backprop.07.png?raw=true\">\n",
    "\n",
    "<small>Source: [CS231n: Convolutional Neural Networks for Visual Recognition](http://cs231n.stanford.edu/2017/syllabus.html), lecture 4</small>"
   ]
  },
  {
   "cell_type": "markdown",
   "id": "010b3916",
   "metadata": {
    "id": "010b3916"
   },
   "source": [
    "Now what is $\\frac{\\partial f}{\\partial q}$? The equation on the left tells us: $\\frac{\\partial f}{\\partial q} = z$"
   ]
  },
  {
   "cell_type": "markdown",
   "id": "ba52ed08",
   "metadata": {
    "id": "ba52ed08"
   },
   "source": [
    "<!-- ![Stanford backprop](images/stanford-backprop/backprop.08.png) -->\n",
    "<img src=\"https://github.com/jchwenger/AI/blob/main/2-building-blocks/images/stanford-backprop/backprop.08.png?raw=true\">\n",
    "\n",
    "<small>Source: [CS231n: Convolutional Neural Networks for Visual Recognition](http://cs231n.stanford.edu/2017/syllabus.html), lecture 4</small>"
   ]
  },
  {
   "cell_type": "markdown",
   "id": "7bed3cfd",
   "metadata": {
    "id": "7bed3cfd"
   },
   "source": [
    "It's -4."
   ]
  },
  {
   "cell_type": "markdown",
   "id": "f78cb67a",
   "metadata": {
    "id": "f78cb67a"
   },
   "source": [
    "<!-- ![Stanford backprop](images/stanford-backprop/backprop.09.png) -->\n",
    "<img src=\"https://github.com/jchwenger/AI/blob/main/2-building-blocks/images/stanford-backprop/backprop.09.png?raw=true\">\n",
    "\n",
    "<small>Source: [CS231n: Convolutional Neural Networks for Visual Recognition](http://cs231n.stanford.edu/2017/syllabus.html), lecture 4</small>"
   ]
  },
  {
   "cell_type": "markdown",
   "id": "281f5b61",
   "metadata": {
    "id": "281f5b61"
   },
   "source": [
    "Now we can move further up. The gradient of additions is just one, so what does that node do? It multiplies the incoming gradient by 1."
   ]
  },
  {
   "cell_type": "markdown",
   "id": "40b602e9",
   "metadata": {
    "id": "40b602e9"
   },
   "source": [
    "<!-- ![Stanford backprop](images/stanford-backprop/backprop.10.png) -->\n",
    "<img src=\"https://github.com/jchwenger/AI/blob/main/2-building-blocks/images/stanford-backprop/backprop.10.png?raw=true\">\n",
    "\n",
    "<small>Source: [CS231n: Convolutional Neural Networks for Visual Recognition](http://cs231n.stanford.edu/2017/syllabus.html), lecture 4</small>"
   ]
  },
  {
   "cell_type": "markdown",
   "id": "11dcdd03",
   "metadata": {
    "id": "11dcdd03"
   },
   "source": [
    "Which means the gradient at $y$ will also be -4."
   ]
  },
  {
   "cell_type": "markdown",
   "id": "dfdb2cf4",
   "metadata": {
    "id": "dfdb2cf4"
   },
   "source": [
    "<!-- ![Stanford backprop](images/stanford-backprop/backprop.12.png) -->\n",
    "<img src=\"https://github.com/jchwenger/AI/blob/main/2-building-blocks/images/stanford-backprop/backprop.12.png?raw=true\">\n",
    "\n",
    "<small>Source: [CS231n: Convolutional Neural Networks for Visual Recognition](http://cs231n.stanford.edu/2017/syllabus.html), lecture 4</small>"
   ]
  },
  {
   "cell_type": "markdown",
   "id": "5d279de4",
   "metadata": {
    "id": "5d279de4"
   },
   "source": [
    "And finally the same for $x$, -4."
   ]
  },
  {
   "cell_type": "markdown",
   "id": "69dc2cd7-38d8-4719-b4d4-bf09553dfce9",
   "metadata": {
    "id": "cb4dc1e1"
   },
   "source": [
    "##### Note\n",
    "\n",
    "Several branches going 'back' into a node (i.e. if above we used `q` for several operations downstream) result in gradients **being summed together** (the mirror image of the summation in the forward pass)."
   ]
  },
  {
   "cell_type": "markdown",
   "id": "cb2563e0",
   "metadata": {
    "editable": true,
    "id": "cb2563e0",
    "slideshow": {
     "slide_type": ""
    },
    "tags": []
   },
   "source": [
    "#### A concrete example\n",
    "\n",
    "The simplest example I could find for the **chain rule**, illustrating the gradient swap for multiplication.\n",
    "\n",
    "$$ 🏃 \\leftarrow_{2x} 🚲 \\leftarrow_{3x} 🚗 \\quad | \\quad f=3y, y=2x$$\n",
    "\n",
    "\n",
    "How much faster than me does the car go? 2 x 3, right?\n",
    "\n",
    "The gradient for car-to-bike ($ \\frac{df}{dy}  $) is 3, and bike-to-me ($ \\frac{dy}{dx}  $) is  is 2 $\\rightarrow$ the car-to-me ($ \\frac{df}{dy}\\frac{dy}{dx}$)  is 6.\n",
    "\n",
    "What does that mean? It means that if I nudge **bike-to-me** by 1, the car-to-me goes up by 3 (the car-to-bike gradient):\n",
    "- bike-to-me at 3 instead of 2 → car-to-me is now: $3 * 3 = 9\\ (6 + 3)$\n",
    "\n",
    "Conversely, if I nudge the **car-to-bike** by 1, car-to-me will be nudged by 2 (the bike-to-me gradient):\n",
    "\n",
    "- car-to-bike at 4 instead of 3 → car-to-me is now: $2 * 4 = 8\\ (6 + 2)$\n",
    "\n",
    "Here is an [interactive website](https://webspace.ship.edu/msrenault/geogebracalculus/derivative_intuitive_chain_rule.html) allowing you to play with this!\n"
   ]
  },
  {
   "cell_type": "markdown",
   "id": "7c56d714",
   "metadata": {
    "id": "7c56d714"
   },
   "source": [
    "---\n",
    "\n",
    "### WE MADE IT\n",
    "\n",
    "What does this all mean for us?\n",
    "\n",
    "Automatic differentiation allows us to construct **arbitrary complex graphs of operations**.\n",
    "\n",
    "And we don't need ever to do the mathematical derivation by hand!\n",
    "\n",
    "This may not feel like it now, but this is **hugely** simplifying our lives."
   ]
  },
  {
   "cell_type": "markdown",
   "id": "ac5b9260",
   "metadata": {
    "id": "ac5b9260"
   },
   "source": [
    "---\n",
    "\n",
    "## 3Blue1Brown summary"
   ]
  },
  {
   "cell_type": "code",
   "execution_count": 5,
   "id": "8a75bfe7",
   "metadata": {
    "colab": {
     "base_uri": "https://localhost:8080/",
     "height": 501
    },
    "id": "8a75bfe7",
    "outputId": "c751f8a2-afca-4f61-b44f-f15fb8df0000"
   },
   "outputs": [
    {
     "data": {
      "image/jpeg": "[encoded data removed]",
      "text/html": [
       "\n",
       "        <iframe\n",
       "            width=\"853\"\n",
       "            height=\"480\"\n",
       "            src=\"https://www.youtube.com/embed/IHZwWFHWa-w?start=109\"\n",
       "            frameborder=\"0\"\n",
       "            allowfullscreen\n",
       "            \n",
       "        ></iframe>\n",
       "        "
      ],
      "text/plain": [
       "<IPython.lib.display.YouTubeVideo at 0x7d2dd8593160>"
      ]
     },
     "execution_count": 5,
     "metadata": {},
     "output_type": "execute_result"
    }
   ],
   "source": [
    "YouTubeVideo('IHZwWFHWa-w', width=853, height=480, start=109) # 3Blue1Brown 2, until 16'38"
   ]
  },
  {
   "cell_type": "code",
   "execution_count": 10,
   "id": "572ac9f9",
   "metadata": {
    "colab": {
     "base_uri": "https://localhost:8080/",
     "height": 501
    },
    "id": "572ac9f9",
    "outputId": "6e64d7af-f707-4af5-fa3b-c01ed964c97a"
   },
   "outputs": [
    {
     "data": {
      "image/jpeg": "[encoded data removed]",
      "text/html": [
       "\n",
       "        <iframe\n",
       "            width=\"853\"\n",
       "            height=\"480\"\n",
       "            src=\"https://www.youtube.com/embed/Ilg3gGewQ5U?start=187\"\n",
       "            frameborder=\"0\"\n",
       "            allowfullscreen\n",
       "            \n",
       "        ></iframe>\n",
       "        "
      ],
      "text/plain": [
       "<IPython.lib.display.YouTubeVideo at 0x7d2dd8593040>"
      ]
     },
     "execution_count": 10,
     "metadata": {},
     "output_type": "execute_result"
    }
   ],
   "source": [
    "YouTubeVideo('Ilg3gGewQ5U', width=853, height=480, start=187) # 3Blue1Brown 3, until 12'30"
   ]
  },
  {
   "cell_type": "markdown",
   "id": "8c5536ef-cdaa-4162-a84f-689005995b72",
   "metadata": {
    "id": "8c5536ef-cdaa-4162-a84f-689005995b72"
   },
   "source": [
    "---\n",
    "\n",
    "# 2.5 Looking back at our first example"
   ]
  },
  {
   "cell_type": "markdown",
   "id": "9c3a72f1-5295-48cf-b858-741239616c46",
   "metadata": {
    "id": "9c3a72f1-5295-48cf-b858-741239616c46"
   },
   "source": [
    "### What we've seen\n",
    "\n",
    "- Our first network;\n",
    "\n",
    "- Tensors and their operations recap;\n",
    "\n",
    "- SGD, differentiation and the chain rule."
   ]
  },
  {
   "cell_type": "markdown",
   "id": "380af092-bec5-4e42-bd66-c1e434a48423",
   "metadata": {
    "id": "380af092-bec5-4e42-bd66-c1e434a48423"
   },
   "source": [
    "All this for **that**??"
   ]
  },
  {
   "cell_type": "code",
   "execution_count": 11,
   "id": "7d45ab7f-dafb-4f2d-be89-413bc6a45e31",
   "metadata": {
    "id": "7d45ab7f-dafb-4f2d-be89-413bc6a45e31"
   },
   "outputs": [],
   "source": [
    "(train_images, train_labels), (test_images, test_labels) = tf.keras.datasets.mnist.load_data()\n",
    "\n",
    "train_images = train_images.reshape((60000, 28 * 28))\n",
    "train_images = train_images.astype('float32') / 255\n",
    "test_images = test_images.reshape((10000, 28 * 28))\n",
    "test_images = test_images.astype('float32') / 255\n",
    "\n",
    "train_labels = tf.keras.utils.to_categorical(train_labels)\n",
    "test_labels = tf.keras.utils.to_categorical(test_labels)"
   ]
  },
  {
   "cell_type": "code",
   "execution_count": 12,
   "id": "6779e3ea-78f8-49db-8656-9114d9cf1800",
   "metadata": {
    "id": "6779e3ea-78f8-49db-8656-9114d9cf1800"
   },
   "outputs": [],
   "source": [
    "model = tf.keras.models.Sequential()\n",
    "model.add(tf.keras.Input((28 * 28, )))\n",
    "model.add(tf.keras.layers.Dense(512, activation='relu'))\n",
    "model.add(tf.keras.layers.Dense(10, activation='softmax'))"
   ]
  },
  {
   "cell_type": "code",
   "execution_count": 13,
   "id": "4cb45396-9ca9-47e4-9c1b-5742383bff30",
   "metadata": {
    "id": "4cb45396-9ca9-47e4-9c1b-5742383bff30"
   },
   "outputs": [],
   "source": [
    "model.compile(\n",
    "    optimizer='rmsprop',\n",
    "    loss='categorical_crossentropy',\n",
    "    metrics=['accuracy']\n",
    ")"
   ]
  },
  {
   "cell_type": "markdown",
   "id": "a8007f1b",
   "metadata": {
    "id": "a8007f1b"
   },
   "source": [
    "Before training, our model performs poorly."
   ]
  },
  {
   "cell_type": "code",
   "execution_count": 14,
   "id": "e1b6a06e",
   "metadata": {
    "colab": {
     "base_uri": "https://localhost:8080/"
    },
    "id": "e1b6a06e",
    "outputId": "2d9c6840-abac-4f48-8431-371f8f6d0a32"
   },
   "outputs": [
    {
     "name": "stdout",
     "output_type": "stream",
     "text": [
      "\u001b[1m313/313\u001b[0m \u001b[32m━━━━━━━━━━━━━━━━━━━━\u001b[0m\u001b[37m\u001b[0m \u001b[1m4s\u001b[0m 6ms/step - accuracy: 0.1303 - loss: 2.3224\n",
      "\n",
      "0.1339000016450882 (*μ_μ)\n"
     ]
    }
   ],
   "source": [
    "test_loss, test_acc = model.evaluate(test_images, test_labels) # testing before training\n",
    "print()\n",
    "print(test_acc, '(*μ_μ)')"
   ]
  },
  {
   "cell_type": "markdown",
   "id": "8d59649a",
   "metadata": {
    "id": "8d59649a"
   },
   "source": [
    "Then we train."
   ]
  },
  {
   "cell_type": "code",
   "execution_count": 15,
   "id": "5b71f438-1844-4343-9a64-7f89b41f60f8",
   "metadata": {
    "colab": {
     "base_uri": "https://localhost:8080/"
    },
    "id": "5b71f438-1844-4343-9a64-7f89b41f60f8",
    "outputId": "ed956b37-aff2-4d53-9fe7-396d445a2b62"
   },
   "outputs": [
    {
     "name": "stdout",
     "output_type": "stream",
     "text": [
      "Epoch 1/5\n",
      "\u001b[1m469/469\u001b[0m \u001b[32m━━━━━━━━━━━━━━━━━━━━\u001b[0m\u001b[37m\u001b[0m \u001b[1m3s\u001b[0m 3ms/step - accuracy: 0.8752 - loss: 0.4366\n",
      "Epoch 2/5\n",
      "\u001b[1m469/469\u001b[0m \u001b[32m━━━━━━━━━━━━━━━━━━━━\u001b[0m\u001b[37m\u001b[0m \u001b[1m1s\u001b[0m 2ms/step - accuracy: 0.9647 - loss: 0.1167\n",
      "Epoch 3/5\n",
      "\u001b[1m469/469\u001b[0m \u001b[32m━━━━━━━━━━━━━━━━━━━━\u001b[0m\u001b[37m\u001b[0m \u001b[1m1s\u001b[0m 2ms/step - accuracy: 0.9793 - loss: 0.0719\n",
      "Epoch 4/5\n",
      "\u001b[1m469/469\u001b[0m \u001b[32m━━━━━━━━━━━━━━━━━━━━\u001b[0m\u001b[37m\u001b[0m \u001b[1m2s\u001b[0m 2ms/step - accuracy: 0.9844 - loss: 0.0524\n",
      "Epoch 5/5\n",
      "\u001b[1m469/469\u001b[0m \u001b[32m━━━━━━━━━━━━━━━━━━━━\u001b[0m\u001b[37m\u001b[0m \u001b[1m1s\u001b[0m 2ms/step - accuracy: 0.9892 - loss: 0.0374\n"
     ]
    },
    {
     "data": {
      "text/plain": [
       "<keras.src.callbacks.history.History at 0x7d2d94209cc0>"
      ]
     },
     "execution_count": 15,
     "metadata": {},
     "output_type": "execute_result"
    }
   ],
   "source": [
    "model.fit(train_images, train_labels, epochs=5, batch_size=128)"
   ]
  },
  {
   "cell_type": "markdown",
   "id": "f81999ca-135d-43c6-8d7f-9795936fa16a",
   "metadata": {
    "id": "f81999ca-135d-43c6-8d7f-9795936fa16a"
   },
   "source": [
    "##### Note\n",
    "\n",
    "\n",
    "There are $\\lceil(60000 / 128)\\rceil * 5 = 2345$ gradient updates for 5 epochs of 128 sample mini-batches."
   ]
  },
  {
   "cell_type": "markdown",
   "id": "01aef2e6",
   "metadata": {
    "id": "01aef2e6"
   },
   "source": [
    "The network is evaluated on the unseen test set. If successful, the trained model can be deployed.\n",
    "\n",
    "In post office sorting rooms, for example."
   ]
  },
  {
   "cell_type": "code",
   "execution_count": 16,
   "id": "869dbbc3-d9c1-4408-bb85-f32a26181bd2",
   "metadata": {
    "colab": {
     "base_uri": "https://localhost:8080/"
    },
    "id": "869dbbc3-d9c1-4408-bb85-f32a26181bd2",
    "outputId": "86accbdd-3cfc-47ca-a9ea-c0d359f02173"
   },
   "outputs": [
    {
     "name": "stdout",
     "output_type": "stream",
     "text": [
      "\u001b[1m313/313\u001b[0m \u001b[32m━━━━━━━━━━━━━━━━━━━━\u001b[0m\u001b[37m\u001b[0m \u001b[1m0s\u001b[0m 1ms/step - accuracy: 0.9749 - loss: 0.0813\n",
      "\n",
      "0.9782000184059143 (╯✧▽✧)╯\n"
     ]
    }
   ],
   "source": [
    "test_loss, test_acc = model.evaluate(test_images, test_labels)\n",
    "print()\n",
    "print(test_acc, '(╯✧▽✧)╯')"
   ]
  },
  {
   "cell_type": "markdown",
   "id": "4d55f2c3-c001-4821-b378-594528cc7d47",
   "metadata": {
    "id": "4d55f2c3-c001-4821-b378-594528cc7d47"
   },
   "source": [
    "# Recap"
   ]
  },
  {
   "cell_type": "markdown",
   "id": "0eb93a23",
   "metadata": {
    "id": "0eb93a23"
   },
   "source": [
    "**The Training Loop**\n",
    "\n",
    "0. **Initialize** the weight and bias tensors with small random values.\n",
    "\n",
    "1. Draw a **mini-batch** of training samples `x` and corresponding labels `y`.\n",
    "\n",
    "2. **Forward pass**/**Inference**: the network makes a prediction `y_pred`.\n",
    "\n",
    "3. **Loss**: Calculate how much `y_pred` differs from `y`.\n",
    "\n",
    "4. **Backward pass**: using the gradient of the parameters with respect to the loss, update all parameters to lower the loss on this mini-batch.\n",
    "\n",
    "5. Exit or return to 1."
   ]
  },
  {
   "cell_type": "markdown",
   "id": "45d5d3da-faeb-4f1d-92db-a81b06a33266",
   "metadata": {
    "id": "45d5d3da-faeb-4f1d-92db-a81b06a33266"
   },
   "source": [
    "Learning is the process of minimising the **predictive loss** of a model.\n",
    "\n",
    "A neural network is trained by presenting **mini-batches** of samples and labels."
   ]
  },
  {
   "cell_type": "markdown",
   "id": "bd81d63b",
   "metadata": {
    "id": "bd81d63b"
   },
   "source": [
    "Network parameters are adjusted in order to **reduce the difference** between prediction and target.\n",
    "\n",
    "The neural network implements a chain of **differentiable layer transformations**."
   ]
  },
  {
   "cell_type": "markdown",
   "id": "97913581-1629-4019-8113-5e8116c6ce63",
   "metadata": {
    "id": "97913581-1629-4019-8113-5e8116c6ce63"
   },
   "source": [
    "The loss-parmeter gradient is efficiently computed using the **chain rule**: the **backpropagation** algorithm.\n",
    "\n",
    "\n",
    "The **optimizer** changes the parameters a small amount (our step) in the direction of the negative gradient."
   ]
  }
 ],
 "metadata": {
  "accelerator": "GPU",
  "celltoolbar": "Slideshow",
  "colab": {
   "gpuType": "T4",
   "provenance": []
  },
  "kernelspec": {
   "display_name": "Python 3 (ipykernel)",
   "language": "python",
   "name": "python3"
  },
  "language_info": {
   "codemirror_mode": {
    "name": "ipython",
    "version": 3
   },
   "file_extension": ".py",
   "mimetype": "text/x-python",
   "name": "python",
   "nbconvert_exporter": "python",
   "pygments_lexer": "ipython3",
   "version": "3.12.6"
  }
 },
 "nbformat": 4,
 "nbformat_minor": 5
}
