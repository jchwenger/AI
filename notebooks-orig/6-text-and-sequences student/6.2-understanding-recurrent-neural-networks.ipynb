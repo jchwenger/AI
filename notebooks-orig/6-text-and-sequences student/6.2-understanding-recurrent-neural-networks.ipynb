{
 "cells": [
  {
   "cell_type": "code",
   "execution_count": 1,
   "metadata": {
    "slideshow": {
     "slide_type": "slide"
    }
   },
   "outputs": [
    {
     "data": {
      "text/plain": [
       "'2.3.0'"
      ]
     },
     "execution_count": 1,
     "metadata": {},
     "output_type": "execute_result"
    }
   ],
   "source": [
    "import tensorflow\n",
    "tensorflow.__version__"
   ]
  },
  {
   "cell_type": "markdown",
   "metadata": {
    "slideshow": {
     "slide_type": "slide"
    }
   },
   "source": [
    "---"
   ]
  },
  {
   "cell_type": "markdown",
   "metadata": {
    "slideshow": {
     "slide_type": "slide"
    }
   },
   "source": [
    "## 6.200 Understanding recurrent neural networks\n",
    "\n",
    "The dense, fully connected layers and the convnet layers have no memory\n",
    "\n",
    "These feedforward networks process each input in turn with no information transfer\n",
    "\n",
    "A recurrent neural network (RNN) retains information of past inputs"
   ]
  },
  {
   "cell_type": "markdown",
   "metadata": {
    "slideshow": {
     "slide_type": "slide"
    }
   },
   "source": [
    "The RNN has a feedback loop\n",
    "\n",
    "The activation (layer output) $a(t - 1)$ at time $t - 1$ is fed back to the input where it joins the sequence term $x(t)$, at time $t$ \n",
    "\n",
    "DLWP: the previous activation is called a 'state' "
   ]
  },
  {
   "cell_type": "markdown",
   "metadata": {
    "slideshow": {
     "slide_type": "slide"
    }
   },
   "source": [
    "The previous activation is weighted and the network learns correlations with earlier inputs by adjusting these weights, in the usual manner\n",
    "\n",
    "Here, we imagine that sequence terms $x(1), x(2), x(3), \\ldots$ etc. occur at successive times, even if the sequence is not chronological\n",
    "\n",
    "For example, successive words $x(1), x(2), x(3), \\ldots$ \n",
    "\n",
    "of a single movie review"
   ]
  },
  {
   "cell_type": "markdown",
   "metadata": {
    "slideshow": {
     "slide_type": "slide"
    }
   },
   "source": [
    "The state is reset before a new sequence (new movie review) is processed\n",
    "\n",
    "Previously, in a feed forward networks, the entire sequence (review) was treated as a single input vector"
   ]
  },
  {
   "cell_type": "markdown",
   "metadata": {
    "slideshow": {
     "slide_type": "slide"
    }
   },
   "source": [
    "##### Dense feedforward layer - recap\n",
    "\n",
    "Layer input $x = [x_1, x_2, \\ldots x_N]^T$\n",
    "\n",
    "Layer output (activation) $a = [a_1, a_2, \\ldots, a_M]^T$\n",
    "\n",
    "There are $M$ output features (one per neuron/unit) and $N$ input features\n",
    "\n"
   ]
  },
  {
   "cell_type": "markdown",
   "metadata": {
    "slideshow": {
     "slide_type": "slide"
    }
   },
   "source": [
    "The weight matrix is\n",
    " \\begin{bmatrix}\n",
    "  W_{11} & W_{12} & \\ldots & W_{1N} \\\\\n",
    "  W_{21} & W_{22} & \\ldots & W_{2N} \\\\\n",
    "  \\ldots \\\\\n",
    "  W_{M1} & W_{M2} & \\ldots & W_{MN} \\\\\n",
    " \\end{bmatrix}\n",
    " \n",
    "and the bias is $b = [b_1, b_2, \\ldots, b_M]$: there are $M \\times N + M$ adjustable parameters"
   ]
  },
  {
   "cell_type": "markdown",
   "metadata": {
    "slideshow": {
     "slide_type": "slide"
    }
   },
   "source": [
    "The layer activation is \n",
    "\n",
    "$\n",
    "a = f(W \\cdot x + b)\n",
    "$\n",
    "\n",
    "which means \n",
    "\n",
    "$\n",
    "a_i = f\\left(\\sum_{j = 1}^{N} W_{ij}x_j + b_i\\right).\n",
    "$"
   ]
  },
  {
   "cell_type": "markdown",
   "metadata": {
    "slideshow": {
     "slide_type": "slide"
    }
   },
   "source": [
    "##### The simple recurrent layer\n",
    "\n",
    "There are two inputs: the current input, $x(t)$, and the previous activation, $a(t - 1)$ \n",
    "\n",
    "The activation from the RNN layer is \n",
    "\n",
    "$\n",
    "a(t) = f(W \\cdot x(t) + U \\cdot a(t - 1) + b)\n",
    "$\n"
   ]
  },
  {
   "cell_type": "markdown",
   "metadata": {
    "slideshow": {
     "slide_type": "slide"
    }
   },
   "source": [
    "The previous activation, $a(t - 1)$, can have more or less effect on the current activation\n",
    "\n",
    "The influence of the previous activation and input is controlled by the weights"
   ]
  },
  {
   "cell_type": "markdown",
   "metadata": {
    "slideshow": {
     "slide_type": "slide"
    }
   },
   "source": [
    "The recursion\n",
    "\n",
    "$\n",
    "\\begin{align*}\n",
    "a(t) &= f(x(t), a(t-1)) \\\\\n",
    "     &= f(x(t), f( x(t - 1),  a(t-2)) ) \\\\\n",
    "     &= f( x(t),   f( x(t - 1),   f(x(t-2), a(t-3)) ) ) \\\\ \n",
    "     &= \\ldots\n",
    "\\end{align*}\n",
    "$\n",
    "\n",
    "means that, in principle, all previous activations, \n",
    "\n",
    "even those reaching back into the distant past, can influence the present"
   ]
  },
  {
   "cell_type": "markdown",
   "metadata": {
    "slideshow": {
     "slide_type": "slide"
    }
   },
   "source": [
    "The simple RNN layer in pseudocode is"
   ]
  },
  {
   "cell_type": "code",
   "execution_count": null,
   "metadata": {},
   "outputs": [],
   "source": [
    "prev_output = 0\n",
    "for input_t in input_sequence:\n",
    "    output_t = activation(dot(W, input_t) + dot(U, prev_output) + b)\n",
    "    prev_output = output_t"
   ]
  },
  {
   "cell_type": "markdown",
   "metadata": {
    "slideshow": {
     "slide_type": "slide"
    }
   },
   "source": [
    "U is an $M \\times M$ matrix - or, as a tensor, it has shape `(output_features, output_features)`\n",
    "\n",
    "So, there are $M \\times N + M + M \\times M $ adjustable parameters"
   ]
  },
  {
   "cell_type": "markdown",
   "metadata": {
    "slideshow": {
     "slide_type": "slide"
    }
   },
   "source": [
    "*Or*: each neuron has $N$ weights for the $N$ input features, $M$ weights for the previous output, and a bias: that's $(N + M + 1)$ parameters. But there are $M$ units, giving $(N + M + 1) \\times M$ parameters"
   ]
  },
  {
   "cell_type": "markdown",
   "metadata": {
    "slideshow": {
     "slide_type": "slide"
    }
   },
   "source": [
    "----"
   ]
  },
  {
   "cell_type": "markdown",
   "metadata": {
    "slideshow": {
     "slide_type": "slide"
    }
   },
   "source": [
    "## 6.210 Simple RNN layer\n",
    "\n",
    "The RNN pseudocode is implemented as a SimpleRNN layer"
   ]
  },
  {
   "cell_type": "code",
   "execution_count": 4,
   "metadata": {},
   "outputs": [],
   "source": [
    "from tensorflow.keras.layers import SimpleRNN"
   ]
  },
  {
   "cell_type": "markdown",
   "metadata": {
    "slideshow": {
     "slide_type": "slide"
    }
   },
   "source": [
    "`SimpleRNN` processes batches of sequences, like all other Keras layers\n",
    "\n",
    "This means that it takes inputs of shape `(batch_size, timesteps, input_features)`"
   ]
  },
  {
   "cell_type": "markdown",
   "metadata": {
    "slideshow": {
     "slide_type": "slide"
    }
   },
   "source": [
    "`SimpleRNN` (and all recurrent layers) can be run in two different modes: \n",
    "\n",
    "1. Return either the full sequences of successive outputs for each timestep (a 3D tensor of shape `(batch_size, timesteps, output_features)`), \n",
    "\n",
    "2. Return only the last output for each input sequence (a 2D tensor of shape `(batch_size, output_features)`) \n"
   ]
  },
  {
   "cell_type": "markdown",
   "metadata": {
    "slideshow": {
     "slide_type": "slide"
    }
   },
   "source": [
    "These modes are controlled by the `return_sequences` constructor argument \n",
    "\n",
    "Let's take a look at an example:"
   ]
  },
  {
   "cell_type": "code",
   "execution_count": 3,
   "metadata": {
    "slideshow": {
     "slide_type": "slide"
    }
   },
   "outputs": [
    {
     "name": "stdout",
     "output_type": "stream",
     "text": [
      "Model: \"sequential\"\n",
      "_________________________________________________________________\n",
      "Layer (type)                 Output Shape              Param #   \n",
      "=================================================================\n",
      "embedding (Embedding)        (None, None, 32)          320000    \n",
      "_________________________________________________________________\n",
      "simple_rnn (SimpleRNN)       (None, 32)                2080      \n",
      "=================================================================\n",
      "Total params: 322,080\n",
      "Trainable params: 322,080\n",
      "Non-trainable params: 0\n",
      "_________________________________________________________________\n"
     ]
    }
   ],
   "source": [
    "from tensorflow.keras.models import Sequential\n",
    "from tensorflow.keras.layers import Embedding, SimpleRNN\n",
    "\n",
    "model = Sequential()\n",
    "model.add(Embedding(10000, 32))\n",
    "model.add(SimpleRNN(32))\n",
    "model.summary()"
   ]
  },
  {
   "cell_type": "markdown",
   "metadata": {
    "slideshow": {
     "slide_type": "slide"
    }
   },
   "source": [
    "The number of parameters in the `SimpleRNN` layer, from the above calculation is "
   ]
  },
  {
   "cell_type": "code",
   "execution_count": 1,
   "metadata": {},
   "outputs": [
    {
     "data": {
      "text/plain": [
       "2080"
      ]
     },
     "execution_count": 1,
     "metadata": {},
     "output_type": "execute_result"
    }
   ],
   "source": [
    "(32 + 32 + 1) * 32"
   ]
  },
  {
   "cell_type": "markdown",
   "metadata": {
    "slideshow": {
     "slide_type": "slide"
    }
   },
   "source": [
    "The following `SimpleRNN` layer returns the full sequence"
   ]
  },
  {
   "cell_type": "code",
   "execution_count": 4,
   "metadata": {},
   "outputs": [
    {
     "name": "stdout",
     "output_type": "stream",
     "text": [
      "Model: \"sequential_1\"\n",
      "_________________________________________________________________\n",
      "Layer (type)                 Output Shape              Param #   \n",
      "=================================================================\n",
      "embedding_1 (Embedding)      (None, None, 32)          320000    \n",
      "_________________________________________________________________\n",
      "simple_rnn_1 (SimpleRNN)     (None, None, 32)          2080      \n",
      "=================================================================\n",
      "Total params: 322,080\n",
      "Trainable params: 322,080\n",
      "Non-trainable params: 0\n",
      "_________________________________________________________________\n"
     ]
    }
   ],
   "source": [
    "model = Sequential()\n",
    "model.add(Embedding(10000, 32))\n",
    "model.add(SimpleRNN(32, return_sequences=True))\n",
    "model.summary()"
   ]
  },
  {
   "cell_type": "markdown",
   "metadata": {
    "slideshow": {
     "slide_type": "slide"
    }
   },
   "source": [
    "Recurrent layers can be stacked in order to increase the representational power of the network\n",
    "\n",
    "All intermediate layers must return full sequences:"
   ]
  },
  {
   "cell_type": "code",
   "execution_count": 5,
   "metadata": {
    "slideshow": {
     "slide_type": "slide"
    }
   },
   "outputs": [
    {
     "name": "stdout",
     "output_type": "stream",
     "text": [
      "Model: \"sequential_2\"\n",
      "_________________________________________________________________\n",
      "Layer (type)                 Output Shape              Param #   \n",
      "=================================================================\n",
      "embedding_2 (Embedding)      (None, None, 32)          320000    \n",
      "_________________________________________________________________\n",
      "simple_rnn_2 (SimpleRNN)     (None, None, 32)          2080      \n",
      "_________________________________________________________________\n",
      "simple_rnn_3 (SimpleRNN)     (None, None, 32)          2080      \n",
      "_________________________________________________________________\n",
      "simple_rnn_4 (SimpleRNN)     (None, None, 32)          2080      \n",
      "_________________________________________________________________\n",
      "simple_rnn_5 (SimpleRNN)     (None, 32)                2080      \n",
      "=================================================================\n",
      "Total params: 328,320\n",
      "Trainable params: 328,320\n",
      "Non-trainable params: 0\n",
      "_________________________________________________________________\n"
     ]
    }
   ],
   "source": [
    "model = Sequential()\n",
    "model.add(Embedding(10000, 32))\n",
    "model.add(SimpleRNN(32, return_sequences=True))\n",
    "model.add(SimpleRNN(32, return_sequences=True))\n",
    "model.add(SimpleRNN(32, return_sequences=True))\n",
    "model.add(SimpleRNN(32))  # This last layer only returns the last outputs.\n",
    "model.summary()"
   ]
  },
  {
   "cell_type": "markdown",
   "metadata": {
    "slideshow": {
     "slide_type": "slide"
    }
   },
   "source": [
    "Let's try to classify IMDB movie reviews with an RNN"
   ]
  },
  {
   "cell_type": "code",
   "execution_count": 6,
   "metadata": {
    "slideshow": {
     "slide_type": "skip"
    }
   },
   "outputs": [
    {
     "name": "stdout",
     "output_type": "stream",
     "text": [
      "Loading data...\n",
      "25000 train sequences\n",
      "25000 test sequences\n",
      "Pad sequences (samples x time)\n",
      "input_train shape: (25000, 500)\n",
      "input_test shape: (25000, 500)\n"
     ]
    }
   ],
   "source": [
    "from tensorflow.keras.datasets import imdb\n",
    "from tensorflow.keras.preprocessing import sequence\n",
    "\n",
    "max_features = 10000  # number of words to consider as features\n",
    "maxlen = 500  # cut texts after this number of words (among top max_features most common words)\n",
    "batch_size = 32\n",
    "\n",
    "print('Loading data...')\n",
    "(input_train, y_train), (input_test, y_test) = imdb.load_data(num_words=max_features)\n",
    "print(len(input_train), 'train sequences')\n",
    "print(len(input_test), 'test sequences')\n",
    "\n",
    "print('Pad sequences (samples x time)')\n",
    "input_train = sequence.pad_sequences(input_train, maxlen=maxlen)\n",
    "input_test = sequence.pad_sequences(input_test, maxlen=maxlen)\n",
    "print('input_train shape:', input_train.shape)\n",
    "print('input_test shape:', input_test.shape)"
   ]
  },
  {
   "cell_type": "markdown",
   "metadata": {
    "slideshow": {
     "slide_type": "slide"
    }
   },
   "source": [
    "Build and train a simple recurrent network - an `Embedding` layer, a `SimpleRNN` layer and a classifier:"
   ]
  },
  {
   "cell_type": "code",
   "execution_count": 7,
   "metadata": {},
   "outputs": [
    {
     "name": "stdout",
     "output_type": "stream",
     "text": [
      "Epoch 1/10\n",
      "157/157 [==============================] - 19s 121ms/step - loss: 0.6067 - acc: 0.6651 - val_loss: 0.4249 - val_acc: 0.8318\n",
      "Epoch 2/10\n",
      "157/157 [==============================] - 18s 116ms/step - loss: 0.3680 - acc: 0.8483 - val_loss: 0.4968 - val_acc: 0.8030\n",
      "Epoch 3/10\n",
      "157/157 [==============================] - 18s 112ms/step - loss: 0.2814 - acc: 0.8882 - val_loss: 0.3794 - val_acc: 0.8456\n",
      "Epoch 4/10\n",
      "157/157 [==============================] - 17s 106ms/step - loss: 0.2175 - acc: 0.9176 - val_loss: 0.3391 - val_acc: 0.8702\n",
      "Epoch 5/10\n",
      "157/157 [==============================] - 16s 103ms/step - loss: 0.1757 - acc: 0.9359 - val_loss: 0.3886 - val_acc: 0.8450\n",
      "Epoch 6/10\n",
      "157/157 [==============================] - 16s 101ms/step - loss: 0.1351 - acc: 0.9541 - val_loss: 0.5445 - val_acc: 0.7674\n",
      "Epoch 7/10\n",
      "157/157 [==============================] - 16s 104ms/step - loss: 0.0984 - acc: 0.9679 - val_loss: 0.5324 - val_acc: 0.8398\n",
      "Epoch 8/10\n",
      "157/157 [==============================] - 16s 102ms/step - loss: 0.0683 - acc: 0.9784 - val_loss: 0.4616 - val_acc: 0.8402\n",
      "Epoch 9/10\n",
      "157/157 [==============================] - 16s 101ms/step - loss: 0.0460 - acc: 0.9855 - val_loss: 0.5902 - val_acc: 0.8440\n",
      "Epoch 10/10\n",
      "157/157 [==============================] - 16s 101ms/step - loss: 0.0307 - acc: 0.9908 - val_loss: 0.6001 - val_acc: 0.8134\n"
     ]
    }
   ],
   "source": [
    "from tensorflow.keras.layers import Dense\n",
    "\n",
    "model = Sequential()\n",
    "model.add(Embedding(max_features, 32))\n",
    "model.add(SimpleRNN(32))\n",
    "model.add(Dense(1, activation='sigmoid'))\n",
    "\n",
    "model.compile(optimizer='rmsprop', loss='binary_crossentropy', metrics=['acc'])\n",
    "history = model.fit(input_train, y_train,\n",
    "                    epochs=10,\n",
    "                    batch_size=128,\n",
    "                    validation_split=0.2)"
   ]
  },
  {
   "cell_type": "code",
   "execution_count": null,
   "metadata": {
    "slideshow": {
     "slide_type": "skip"
    }
   },
   "outputs": [],
   "source": [
    "import matplotlib.pyplot as plt\n",
    "\n",
    "acc = history.history['acc']\n",
    "val_acc = history.history['val_acc']\n",
    "loss = history.history['loss']\n",
    "val_loss = history.history['val_loss']\n",
    "\n",
    "epochs = range(len(acc))\n",
    "\n",
    "plt.plot(epochs, acc, 'bo', label='Training acc')\n",
    "plt.plot(epochs, val_acc, 'b', label='Validation acc')\n",
    "plt.title('Training and validation accuracy')\n",
    "plt.legend()\n",
    "\n",
    "plt.figure()\n",
    "\n",
    "plt.plot(epochs, loss, 'bo', label='Training loss')\n",
    "plt.plot(epochs, val_loss, 'b', label='Validation loss')\n",
    "plt.title('Training and validation loss')\n",
    "plt.legend()"
   ]
  },
  {
   "cell_type": "code",
   "execution_count": 8,
   "metadata": {
    "slideshow": {
     "slide_type": "slide"
    }
   },
   "outputs": [
    {
     "data": {
      "image/png": "[encoded data removed]",
      "text/plain": [
       "<Figure size 432x288 with 1 Axes>"
      ]
     },
     "metadata": {
      "needs_background": "light"
     },
     "output_type": "display_data"
    },
    {
     "data": {
      "image/png": "[encoded data removed]",
      "text/plain": [
       "<Figure size 432x288 with 1 Axes>"
      ]
     },
     "metadata": {
      "needs_background": "light"
     },
     "output_type": "display_data"
    }
   ],
   "source": [
    "plt.show()"
   ]
  },
  {
   "cell_type": "markdown",
   "metadata": {
    "slideshow": {
     "slide_type": "slide"
    }
   },
   "source": [
    "Best validation accuracy close to 87%\n",
    "\n",
    "The three layer feed forward network of Topic 3 achieved about 89% test accuracy\n",
    "\n",
    "Let's compare model architecture:"
   ]
  },
  {
   "cell_type": "code",
   "execution_count": null,
   "metadata": {
    "slideshow": {
     "slide_type": "slide"
    }
   },
   "outputs": [],
   "source": [
    "from tensorflow.keras.models import Sequential\n",
    "from tensorflow.keras.layers import Embedding, SimpleRNN\n",
    "\n",
    "model = Sequential()\n",
    "model.add(layers.Dense(16, activation = 'relu', input_shape = (10000,)))\n",
    "model.add(layers.Dense(16, activation = 'relu'))\n",
    "model.add(layers.Dense(1, activation = 'sigmoid'))\n",
    "model.summary()\n",
    "\n",
    "model = Sequential()\n",
    "model.add(Embedding(10000, 32))\n",
    "model.add(SimpleRNN(32))\n",
    "model.add(layers.Dense(1, activation='sigmoid'))\n",
    "model.summary()"
   ]
  },
  {
   "cell_type": "code",
   "execution_count": 11,
   "metadata": {
    "slideshow": {
     "slide_type": "slide"
    }
   },
   "outputs": [
    {
     "name": "stdout",
     "output_type": "stream",
     "text": [
      "Model: \"sequential_11\"\n",
      "_________________________________________________________________\n",
      "Layer (type)                 Output Shape              Param #   \n",
      "=================================================================\n",
      "dense_19 (Dense)             (None, 16)                160016    \n",
      "_________________________________________________________________\n",
      "dense_20 (Dense)             (None, 16)                272       \n",
      "_________________________________________________________________\n",
      "dense_21 (Dense)             (None, 1)                 17        \n",
      "=================================================================\n",
      "Total params: 160,305\n",
      "Trainable params: 160,305\n",
      "Non-trainable params: 0\n",
      "_________________________________________________________________\n",
      "Model: \"sequential_12\"\n",
      "_________________________________________________________________\n",
      "Layer (type)                 Output Shape              Param #   \n",
      "=================================================================\n",
      "embedding_2 (Embedding)      (None, None, 32)          320000    \n",
      "_________________________________________________________________\n",
      "simple_rnn_2 (SimpleRNN)     (None, 32)                2080      \n",
      "_________________________________________________________________\n",
      "dense_22 (Dense)             (None, 1)                 33        \n",
      "=================================================================\n",
      "Total params: 322,113\n",
      "Trainable params: 322,113\n",
      "Non-trainable params: 0\n",
      "_________________________________________________________________\n"
     ]
    }
   ],
   "source": []
  },
  {
   "cell_type": "markdown",
   "metadata": {
    "slideshow": {
     "slide_type": "slide"
    }
   },
   "source": [
    "The RNN has twice the capacity of the baseline feedforward model (they both have three layers) but underperforms\n",
    "\n",
    "- the RNN has access to less information (only the first 500 words) than the baseline model\n",
    "\n",
    "- `SimpleRNN` isn't very good at processing long sequences, like text. Other types of recurrent layers perform much better. \n",
    "\n",
    "Let's take a look at some more advanced layers"
   ]
  },
  {
   "cell_type": "markdown",
   "metadata": {
    "slideshow": {
     "slide_type": "slide"
    }
   },
   "source": [
    "----"
   ]
  },
  {
   "cell_type": "markdown",
   "metadata": {
    "slideshow": {
     "slide_type": "slide"
    }
   },
   "source": [
    "## 6.220 Understanding LSTM layers\n",
    "\n",
    "The simple RNN suffers from the vanishing gradients affliction\n",
    "\n",
    "Long term dependencies stretching back in time are almost impossible to learn - the backpropagated signal progressively weakens"
   ]
  },
  {
   "cell_type": "markdown",
   "metadata": {
    "slideshow": {
     "slide_type": "slide"
    }
   },
   "source": [
    "LSTM's have a conveyor - a mechanism that carries information forward in time. The conveyor sidesteps the vanishing gradients problem\n",
    "\n",
    "But the LSTM is quite a complicated beast. We start by revise three common activation functions:"
   ]
  },
  {
   "cell_type": "code",
   "execution_count": 12,
   "metadata": {
    "slideshow": {
     "slide_type": "slide"
    }
   },
   "outputs": [],
   "source": [
    "import numpy as np\n",
    "\n",
    "def sigmoid(x):\n",
    "    return 1 / (1 + np.exp(-x))\n",
    "\n",
    "def tanh(x):\n",
    "    return (np.exp(x) - np.exp(-x)) / (np.exp(x) + np.exp(-x))\n",
    "\n",
    "def relu(x):\n",
    "    y = np.zeros(len(x))\n",
    "    return np.maximum(0, x)\n",
    "\n",
    "import matplotlib.pyplot as plt\n",
    "\n",
    "x = np.arange(-10, 10, 0.01)"
   ]
  },
  {
   "cell_type": "code",
   "execution_count": 13,
   "metadata": {
    "slideshow": {
     "slide_type": "slide"
    }
   },
   "outputs": [
    {
     "data": {
      "image/png": "[encoded data removed]",
      "text/plain": [
       "<Figure size 432x288 with 1 Axes>"
      ]
     },
     "metadata": {
      "needs_background": "light"
     },
     "output_type": "display_data"
    }
   ],
   "source": [
    "plt.plot(x, sigmoid(x), 'k')\n",
    "plt.title('sigmoid')\n",
    "plt.show()"
   ]
  },
  {
   "cell_type": "code",
   "execution_count": 14,
   "metadata": {
    "slideshow": {
     "slide_type": "slide"
    }
   },
   "outputs": [
    {
     "data": {
      "image/png": "[encoded data removed]",
      "text/plain": [
       "<Figure size 432x288 with 1 Axes>"
      ]
     },
     "metadata": {
      "needs_background": "light"
     },
     "output_type": "display_data"
    }
   ],
   "source": [
    "plt.plot(x, tanh(x), 'k')\n",
    "plt.title('tanh')\n",
    "plt.show()"
   ]
  },
  {
   "cell_type": "code",
   "execution_count": 15,
   "metadata": {
    "slideshow": {
     "slide_type": "slide"
    }
   },
   "outputs": [
    {
     "data": {
      "image/png": "[encoded data removed]",
      "text/plain": [
       "<Figure size 432x288 with 1 Axes>"
      ]
     },
     "metadata": {
      "needs_background": "light"
     },
     "output_type": "display_data"
    }
   ],
   "source": [
    "plt.plot(x, relu(x), 'k')\n",
    "plt.title('relu')\n",
    "plt.show()"
   ]
  },
  {
   "cell_type": "markdown",
   "metadata": {
    "slideshow": {
     "slide_type": "slide"
    }
   },
   "source": [
    "##### Gates\n",
    "\n",
    "Suppose we wish to turn an RNN off or on\n",
    "\n",
    "Simple! Multiply by a binary switch: \n",
    "\n",
    "$\\delta \\times k(t)$ where $\\delta$ takes values $0, 1$ and $k(t)$ is the activation of a simple RNN"
   ]
  },
  {
   "cell_type": "markdown",
   "metadata": {
    "slideshow": {
     "slide_type": "slide"
    }
   },
   "source": [
    "The switch should have its own trainable parameters so that it can learn to be on/off for different inputs\n",
    "\n",
    "Backpropagation requires differentiability"
   ]
  },
  {
   "cell_type": "markdown",
   "metadata": {
    "slideshow": {
     "slide_type": "slide"
    }
   },
   "source": [
    "So the switch has to be a continuous function - it can't just instantaneously jump from 0 to 1\n",
    "\n",
    "This is a gate - gates (unlike switches) can be half closed or quarter closed etc. - and degrees of closure might be advantageous"
   ]
  },
  {
   "cell_type": "markdown",
   "metadata": {
    "slideshow": {
     "slide_type": "slide"
    }
   },
   "source": [
    "The sigmoid function takes values in $[0, 1]$ with a smooth changeover for arguments around $0$ \n",
    "\n",
    "Gated RNN: $ \\boxed{\\sigma(z) \\times k(t)}$\n",
    "\n",
    "But what is $z$?"
   ]
  },
  {
   "cell_type": "markdown",
   "metadata": {
    "slideshow": {
     "slide_type": "slide"
    }
   },
   "source": [
    "We might want (because we are processing sequences) the state of the gate - on, off or in between - to depend on the current input and past activations:\n",
    "\n",
    "$z = W \\cdot x(t) + U \\cdot a(t - 1) + b$\n",
    "\n",
    "Our recurrently gated RNN is\n",
    "\n",
    "$\\boxed{\\sigma(W \\cdot x(t) + U \\cdot a(t-1) + b) \\times k(t)}$ "
   ]
  },
  {
   "cell_type": "markdown",
   "metadata": {
    "slideshow": {
     "slide_type": "slide"
    }
   },
   "source": [
    "##### LSTM pseudocode \n",
    "\n",
    "```\n",
    "memory = gated_prev_memory + gated_simple_RNN\n",
    "output_t = gated_tanh(memory)\n",
    "```"
   ]
  },
  {
   "cell_type": "markdown",
   "metadata": {
    "slideshow": {
     "slide_type": "slide"
    }
   },
   "source": [
    "````\n",
    "memory = gated_prev_memory + gated_simple_RNN\n",
    "output_t = gated_tanh(memory)\n",
    "````\n",
    "\n",
    "`output_t, prev_output`: current and previous LSTM layer outputs\n"
   ]
  },
  {
   "cell_type": "markdown",
   "metadata": {
    "slideshow": {
     "slide_type": "slide"
    }
   },
   "source": [
    "````\n",
    "memory = gated_prev_memory + gated_simple_RNN\n",
    "output_t = gated_tanh(memory)\n",
    "````\n",
    "\n",
    "`memory`: aka 'carry' or 'state' - the conveyor, allowing free flow of information from the past (if gates are open) "
   ]
  },
  {
   "cell_type": "markdown",
   "metadata": {
    "slideshow": {
     "slide_type": "slide"
    }
   },
   "source": [
    "````\n",
    "memory = gated_prev_memory + gated_simple_RNN\n",
    "output_t = gated_tanh(memory)\n",
    "````\n",
    "\n",
    "`simple_RNN`: `tanh(dot(input_t, W) + dot(prev_output, U) + b)`"
   ]
  },
  {
   "cell_type": "markdown",
   "metadata": {
    "slideshow": {
     "slide_type": "slide"
    }
   },
   "source": [
    "````\n",
    "memory = gated_prev_memory + gated_simple_RNN\n",
    "output_t = gated_tanh(memory)\n",
    "````\n",
    "\n",
    "`gated`: multiply by `sigmoid(dot(input_t, W) + dot(prev_output, U) + b)`"
   ]
  },
  {
   "cell_type": "markdown",
   "metadata": {
    "slideshow": {
     "slide_type": "slide"
    }
   },
   "source": [
    "````\n",
    "memory = gated_prev_memory + gated_simple_RNN\n",
    "output_t = gated_tanh(memory)\n",
    "````\n",
    "`gated_tanh(memory)`: the memory is squashed to $[-1, 1]$ and gated"
   ]
  },
  {
   "cell_type": "markdown",
   "metadata": {
    "slideshow": {
     "slide_type": "slide"
    }
   },
   "source": [
    "##### Parameters\n",
    "\n",
    "All gates and simple RNN layers have their own parameters $(W, U, b)$\n",
    "\n",
    "There are four $(W, U, b)$ units - 3 gates and the simple RNN, $k$\n",
    "\n",
    "Each set of $(W, U, b)$ units has $M \\times (M + N + 1)$ trainable parameters\n",
    "\n",
    "Hence an LTSM layer has $4M(M + N + 1)$ trainable parameters."
   ]
  },
  {
   "cell_type": "markdown",
   "metadata": {
    "slideshow": {
     "slide_type": "skip"
    }
   },
   "source": [
    "##### The LSTM layer in detail\n",
    "\n",
    "[A popular blog account](http://colah.github.io/posts/2015-08-Understanding-LSTMs/) and [there's always Wikipedia](https://en.wikipedia.org/wiki/Long_short-term_memory)\n",
    "\n",
    "##### Memory\n",
    "\n",
    "The LTSM layer has a memory, called 'carry' by Chollet and, confusingly, 'state' by other authors. \n",
    "\n",
    "----\n",
    "\n",
    "1. A forget gate:\n",
    "\n",
    "$\n",
    "f(t) = \\sigma_g(W_f \\cdot x(t) + U_f \\cdot a(t - 1) + b_f)\n",
    "$\n",
    "\n",
    "$\\sigma_g$ is a sigmoid, outputing in $[0, 1]$, a kind of smoothed 'gate'.\n",
    "\n",
    "----\n",
    "\n",
    "2. An input gate:\n",
    "\n",
    "$\n",
    "i(t) = \\sigma_g(W_i \\cdot x(t) + U_i \\cdot a(t - 1) + b_i)\n",
    "$\n",
    "\n",
    "which we can also imagine as open or closed or in-between.\n",
    "\n",
    "----\n",
    "\n",
    "3. A simple RNN layer - to inject new information into the memory\n",
    "\n",
    "$\n",
    "k(t) = \\sigma_h(W_k \\cdot x(t) + U_k \\cdot a(t - 1) + b_k)\n",
    "$\n",
    "\n",
    "where $\\sigma_h$ is the $\\tanh$ activation.\n",
    "\n",
    "----\n",
    "\n",
    "4. Putting all this together:\n",
    "\n",
    "```\n",
    "memory = gated_prev_memory + gated_simple_RNN\n",
    "```\n",
    "\n",
    "$\n",
    "c(t) = f(t) * c(t - 1) + i(t) * k(t)\n",
    "$\n",
    "\n",
    "\n",
    "\n",
    "##### Output\n",
    "\n",
    "----\n",
    "\n",
    "1. An output gate\n",
    "\n",
    "$\n",
    "o(t) = \\sigma_d(W_o \\cdot x(t) + U_o \\cdot a(t - 1) + b_o)\n",
    "$\n",
    "\n",
    "----\n",
    "2. which multiplies, or gates, the memory\n",
    "\n",
    "```\n",
    "output_t = output_gate(t) * tanh-activation(memory)\n",
    "```\n",
    "\n",
    "$\n",
    "a(t) = o(t) * \\sigma_h(c(t))\n",
    "$\n",
    "\n",
    "\n",
    "\n",
    "\n",
    "\n",
    "$\\sigma_h$ is a hyperbolic tangent (or, in a 'peephole' LSTM, the identity function $\\sigma(x) = x$). "
   ]
  },
  {
   "cell_type": "markdown",
   "metadata": {
    "slideshow": {
     "slide_type": "slide"
    }
   },
   "source": [
    "Let's see how an LSTM is instantiated in `tensorflow.keras` and check the parameter count algebra:"
   ]
  },
  {
   "cell_type": "code",
   "execution_count": 3,
   "metadata": {
    "slideshow": {
     "slide_type": "slide"
    }
   },
   "outputs": [
    {
     "name": "stdout",
     "output_type": "stream",
     "text": [
      "Trainable params:  416 \n",
      "\n",
      "Model: \"sequential\"\n",
      "_________________________________________________________________\n",
      "Layer (type)                 Output Shape              Param #   \n",
      "=================================================================\n",
      "lstm (LSTM)                  (None, 8)                 416       \n",
      "=================================================================\n",
      "Total params: 416\n",
      "Trainable params: 416\n",
      "Non-trainable params: 0\n",
      "_________________________________________________________________\n"
     ]
    }
   ],
   "source": [
    "import tensorflow.keras.models as models, tensorflow.keras.layers as layers\n",
    "\n",
    "time_steps = 10\n",
    "input_feats = 4\n",
    "output_feats = 8\n",
    "\n",
    "model = models.Sequential()\n",
    "model.add(layers.LSTM(output_feats, input_shape=(time_steps, input_feats)))\n",
    "print('Trainable params: ', 4 * output_feats * (output_feats + input_feats + 1), '\\n')\n",
    "model.summary()"
   ]
  },
  {
   "cell_type": "markdown",
   "metadata": {
    "slideshow": {
     "slide_type": "slide"
    }
   },
   "source": [
    "----"
   ]
  },
  {
   "cell_type": "markdown",
   "metadata": {
    "slideshow": {
     "slide_type": "slide"
    }
   },
   "source": [
    "## 6.230 A concrete LSTM example\n",
    "\n",
    "Set up a model with an LSTM layer\n",
    "\n",
    "Train on IMDB data\n",
    "\n",
    "The network will be similar to the earlier IMDB simple RNN model"
   ]
  },
  {
   "cell_type": "markdown",
   "metadata": {
    "slideshow": {
     "slide_type": "slide"
    }
   },
   "source": [
    "We only specify the output dimensionality of the LSTM layer \n",
    "\n",
    "(there are many other arguments which we leave at the recommended default values)"
   ]
  },
  {
   "cell_type": "code",
   "execution_count": 9,
   "metadata": {
    "slideshow": {
     "slide_type": "slide"
    }
   },
   "outputs": [
    {
     "name": "stdout",
     "output_type": "stream",
     "text": [
      "Epoch 1/10\n",
      "157/157 [==============================] - 38s 245ms/step - loss: 0.5273 - acc: 0.7477 - val_loss: 0.4331 - val_acc: 0.8048\n",
      "Epoch 2/10\n",
      "157/157 [==============================] - 34s 216ms/step - loss: 0.3066 - acc: 0.8819 - val_loss: 0.2901 - val_acc: 0.8818\n",
      "Epoch 3/10\n",
      "157/157 [==============================] - 40s 252ms/step - loss: 0.2457 - acc: 0.9074 - val_loss: 0.3075 - val_acc: 0.8682\n",
      "Epoch 4/10\n",
      "157/157 [==============================] - 37s 234ms/step - loss: 0.2031 - acc: 0.9240 - val_loss: 0.5283 - val_acc: 0.8436\n",
      "Epoch 5/10\n",
      "157/157 [==============================] - 39s 245ms/step - loss: 0.1808 - acc: 0.9328 - val_loss: 0.2874 - val_acc: 0.8824\n",
      "Epoch 6/10\n",
      "157/157 [==============================] - 35s 226ms/step - loss: 0.1599 - acc: 0.9431 - val_loss: 0.3899 - val_acc: 0.8616\n",
      "Epoch 7/10\n",
      "157/157 [==============================] - 34s 219ms/step - loss: 0.1503 - acc: 0.9469 - val_loss: 0.3154 - val_acc: 0.8878\n",
      "Epoch 8/10\n",
      "157/157 [==============================] - 37s 233ms/step - loss: 0.1387 - acc: 0.9516 - val_loss: 0.3129 - val_acc: 0.8746\n",
      "Epoch 9/10\n",
      "157/157 [==============================] - 34s 215ms/step - loss: 0.1215 - acc: 0.9584 - val_loss: 0.4533 - val_acc: 0.8466\n",
      "Epoch 10/10\n",
      "157/157 [==============================] - 33s 213ms/step - loss: 0.1130 - acc: 0.9610 - val_loss: 0.4076 - val_acc: 0.8748\n"
     ]
    }
   ],
   "source": [
    "from tensorflow.keras.layers import LSTM\n",
    "\n",
    "model = Sequential()\n",
    "model.add(Embedding(max_features, 32))\n",
    "model.add(LSTM(32))\n",
    "model.add(Dense(1, activation='sigmoid'))\n",
    "\n",
    "model.compile(optimizer='rmsprop',\n",
    "              loss='binary_crossentropy',\n",
    "              metrics=['acc'])\n",
    "history = model.fit(input_train, y_train,\n",
    "                    epochs=10,\n",
    "                    batch_size=128,\n",
    "                    validation_split=0.2)"
   ]
  },
  {
   "cell_type": "code",
   "execution_count": null,
   "metadata": {
    "slideshow": {
     "slide_type": "skip"
    }
   },
   "outputs": [],
   "source": [
    "acc = history.history['acc']\n",
    "val_acc = history.history['val_acc']\n",
    "loss = history.history['loss']\n",
    "val_loss = history.history['val_loss']\n",
    "\n",
    "epochs = range(len(acc))\n",
    "\n",
    "plt.plot(epochs, acc, 'bo', label='Training acc')\n",
    "plt.plot(epochs, val_acc, 'b', label='Validation acc')\n",
    "plt.title('Training and validation accuracy')\n",
    "plt.legend()\n",
    "\n",
    "plt.figure()\n",
    "\n",
    "plt.plot(epochs, loss, 'bo', label='Training loss')\n",
    "plt.plot(epochs, val_loss, 'b', label='Validation loss')\n",
    "plt.title('Training and validation loss')\n",
    "plt.legend()"
   ]
  },
  {
   "cell_type": "code",
   "execution_count": 10,
   "metadata": {
    "slideshow": {
     "slide_type": "slide"
    }
   },
   "outputs": [
    {
     "data": {
      "image/png": "[encoded data removed]",
      "text/plain": [
       "<Figure size 432x288 with 1 Axes>"
      ]
     },
     "metadata": {
      "needs_background": "light"
     },
     "output_type": "display_data"
    },
    {
     "data": {
      "image/png": "[encoded data removed]",
      "text/plain": [
       "<Figure size 432x288 with 1 Axes>"
      ]
     },
     "metadata": {
      "needs_background": "light"
     },
     "output_type": "display_data"
    }
   ],
   "source": [
    "plt.show()"
   ]
  },
  {
   "cell_type": "markdown",
   "metadata": {
    "slideshow": {
     "slide_type": "slide"
    }
   },
   "source": [
    "88% validation accuracy, improving slightly on the simple RNN result \n",
    "\n",
    "LSTM might perform better with hyper-parameter tuning and regularisation but the main issue is that the salient information in the reviews is not sequential - frequencies of positive and negative words are enough for good prediction  "
   ]
  },
  {
   "cell_type": "markdown",
   "metadata": {
    "slideshow": {
     "slide_type": "slide"
    }
   },
   "source": [
    "----"
   ]
  },
  {
   "cell_type": "markdown",
   "metadata": {
    "slideshow": {
     "slide_type": "slide"
    }
   },
   "source": [
    "## 6.240 Wrapping up\n",
    "\n",
    "- Recurrent layers have a feedback loop enabling information to flow from the past\n",
    "- LSTMs utilise a carry/memory to cure the vanishing gradient problem\n",
    "- LSTMs are easily implemented: `model.add(LSTM(32))`"
   ]
  },
  {
   "cell_type": "markdown",
   "metadata": {
    "slideshow": {
     "slide_type": "slide"
    }
   },
   "source": [
    "----"
   ]
  },
  {
   "cell_type": "markdown",
   "metadata": {
    "slideshow": {
     "slide_type": "skip"
    }
   },
   "source": [
    "MIT Licence\n",
    " \n",
    "Copyright (c) 2017-present François Chollet\n",
    " \n",
    "Permission is hereby granted, free of charge, to any person obtaining a copy\n",
    "of this software and associated documentation files (the \"Software\"), to deal\n",
    "in the Software without restriction, including without limitation the rights\n",
    "to use, copy, modify, merge, publish, distribute, sublicense, and/or sell\n",
    "copies of the Software, and to permit persons to whom the Software is\n",
    "furnished to do so, subject to the following conditions:\n",
    " \n",
    "The above copyright notice and this permission notice shall be included in all\n",
    "copies or substantial portions of the Software.\n",
    " \n",
    "THE SOFTWARE IS PROVIDED \"AS IS\", WITHOUT WARRANTY OF ANY KIND, EXPRESS OR\n",
    "IMPLIED, INCLUDING BUT NOT LIMITED TO THE WARRANTIES OF MERCHANTABILITY,\n",
    "FITNESS FOR A PARTICULAR PURPOSE AND NONINFRINGEMENT. IN NO EVENT SHALL THE\n",
    "AUTHORS OR COPYRIGHT HOLDERS BE LIABLE FOR ANY CLAIM, DAMAGES OR OTHER\n",
    "LIABILITY, WHETHER IN AN ACTION OF CONTRACT, TORT OR OTHERWISE, ARISING FROM,\n",
    "OUT OF OR IN CONNECTION WITH THE SOFTWARE OR THE USE OR OTHER DEALINGS IN THE\n",
    "SOFTWARE."
   ]
  }
 ],
 "metadata": {
  "celltoolbar": "Slideshow",
  "kernelspec": {
   "display_name": "Python 3",
   "language": "python",
   "name": "python3"
  },
  "language_info": {
   "codemirror_mode": {
    "name": "ipython",
    "version": 3
   },
   "file_extension": ".py",
   "mimetype": "text/x-python",
   "name": "python",
   "nbconvert_exporter": "python",
   "pygments_lexer": "ipython3",
   "version": "3.8.5"
  }
 },
 "nbformat": 4,
 "nbformat_minor": 2
}
