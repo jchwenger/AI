{
 "cells": [
  {
   "cell_type": "markdown",
   "metadata": {
    "slideshow": {
     "slide_type": "slide"
    }
   },
   "source": [
    "## 6.500 Summary\n",
    "\n",
    "This topic has described\n",
    "- text tokenisation\n",
    "- word embeddings\n",
    "- recurrent networks\n",
    "- stacked RNN layers\n",
    "- bidirectional layers\n",
    "- 1D convnet sequence processing\n",
    "- 1D convnet preprocessing before RNN layers"
   ]
  },
  {
   "cell_type": "markdown",
   "metadata": {
    "slideshow": {
     "slide_type": "slide"
    }
   },
   "source": [
    "RNNs are aimed at timeseries regression and sequence prediction\n",
    "\n",
    "Use an RNN if global order matters; especially for timeseries where the immediate past is more informative than the far past\n",
    "\n",
    "Otherwise the cheaper 1D convnet could be a good choice; especially for text where the exact position of a keyword is irrelevant"
   ]
  }
 ],
 "metadata": {
  "celltoolbar": "Slideshow",
  "kernelspec": {
   "display_name": "Python 3",
   "language": "python",
   "name": "python3"
  },
  "language_info": {
   "codemirror_mode": {
    "name": "ipython",
    "version": 3
   },
   "file_extension": ".py",
   "mimetype": "text/x-python",
   "name": "python",
   "nbconvert_exporter": "python",
   "pygments_lexer": "ipython3",
   "version": "3.8.5"
  }
 },
 "nbformat": 4,
 "nbformat_minor": 2
}
