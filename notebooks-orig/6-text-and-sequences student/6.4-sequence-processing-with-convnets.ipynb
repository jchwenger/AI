{
 "cells": [
  {
   "cell_type": "markdown",
   "metadata": {
    "slideshow": {
     "slide_type": "slide"
    }
   },
   "source": [
    "## 6.400 Sequence processing with convnets\n",
    "\n",
    "Convnets are good for CV tasks\n",
    "\n",
    "They extract and modularise salient 2D information from local patches\n",
    "\n",
    "1D data - timeseries - might have similar local regularities\n",
    "\n",
    "And then 1D convnets would provide a cheap alternative to RNNs"
   ]
  },
  {
   "cell_type": "markdown",
   "metadata": {
    "slideshow": {
     "slide_type": "slide"
    }
   },
   "source": [
    "----"
   ]
  },
  {
   "cell_type": "markdown",
   "metadata": {
    "slideshow": {
     "slide_type": "slide"
    }
   },
   "source": [
    "## 6.410 1D convolutions\n",
    "\n",
    "Operate just as 2D convnets - the same convolution is applied throughout the timeseries\n",
    "\n",
    "A convolution of size 5 would recognise words or word fragments of length 5 or less at any point in the input sequence\n",
    "\n"
   ]
  },
  {
   "cell_type": "markdown",
   "metadata": {
    "slideshow": {
     "slide_type": "slide"
    }
   },
   "source": [
    "Patterns learned at a certain position in a sentence can be recognised elsewhere - a kind of translation invariance (temporal invariance)"
   ]
  },
  {
   "cell_type": "markdown",
   "metadata": {
    "slideshow": {
     "slide_type": "slide"
    }
   },
   "source": [
    "----"
   ]
  },
  {
   "cell_type": "markdown",
   "metadata": {
    "slideshow": {
     "slide_type": "slide"
    }
   },
   "source": [
    "## 6.420 1D pooling for sequence data\n",
    "\n",
    "Works just like 2D pooling - max or average pooling\n",
    "\n",
    "Used for subsampling - reducing the length of 1D inputs"
   ]
  },
  {
   "cell_type": "markdown",
   "metadata": {
    "slideshow": {
     "slide_type": "slide"
    }
   },
   "source": [
    "----"
   ]
  },
  {
   "cell_type": "markdown",
   "metadata": {
    "slideshow": {
     "slide_type": "slide"
    }
   },
   "source": [
    "## 6.430 Implementing a 1D convnet\n",
    "\n",
    "The 1D convnet is implemented in `tensorflow.keras` as the `Conv1D` layer\n",
    "\n",
    "It takes 3D tensor input `(samples, time, features)` and returns 3D tensors of the same shape\n",
    "\n",
    "The convolution window is a 1D window on the temporal axis (axis 1)"
   ]
  },
  {
   "cell_type": "code",
   "execution_count": 1,
   "metadata": {
    "slideshow": {
     "slide_type": "skip"
    }
   },
   "outputs": [
    {
     "name": "stdout",
     "output_type": "stream",
     "text": [
      "Loading data...\n",
      "25000 train sequences\n",
      "25000 test sequences\n",
      "Pad sequences (samples x time)\n",
      "x_train shape: (25000, 500)\n",
      "x_test shape: (25000, 500)\n"
     ]
    }
   ],
   "source": [
    "import tensorflow\n",
    "from tensorflow.keras.datasets import imdb\n",
    "from tensorflow.keras.preprocessing import sequence\n",
    "\n",
    "\n",
    "max_features = 10000  # number of words to consider as features\n",
    "max_len = 500  # cut texts after this number of words (among top max_features most common words)\n",
    "\n",
    "print('Loading data...')\n",
    "(x_train, y_train), (x_test, y_test) = imdb.load_data(num_words=max_features)\n",
    "print(len(x_train), 'train sequences')\n",
    "print(len(x_test), 'test sequences')\n",
    "\n",
    "print('Pad sequences (samples x time)')\n",
    "x_train = sequence.pad_sequences(x_train, maxlen=max_len)\n",
    "x_test = sequence.pad_sequences(x_test, maxlen=max_len)\n",
    "print('x_train shape:', x_train.shape)\n",
    "print('x_test shape:', x_test.shape)"
   ]
  },
  {
   "cell_type": "markdown",
   "metadata": {
    "slideshow": {
     "slide_type": "slide"
    }
   },
   "source": [
    "1D convnets are typically stacks of `Conv1D` and `MaxPooling1D` layers\n",
    "\n",
    "The stack ends in either a global pooling layer or a `Flatten` layer, \n",
    "\n",
    "The 3D outputs are turned into 2D tensors, suitable for input to a dense classifier or regressor "
   ]
  },
  {
   "cell_type": "markdown",
   "metadata": {
    "slideshow": {
     "slide_type": "slide"
    }
   },
   "source": [
    "Let's build a 2 layer 1D convnet for the IMDB sentiment classification task \n",
    "\n",
    "Use a larger convolution window than the typical 2D  local receptive field: windows of size 7 or 9 "
   ]
  },
  {
   "cell_type": "code",
   "execution_count": 2,
   "metadata": {
    "slideshow": {
     "slide_type": "slide"
    }
   },
   "outputs": [
    {
     "name": "stdout",
     "output_type": "stream",
     "text": [
      "Model: \"sequential\"\n",
      "_________________________________________________________________\n",
      "Layer (type)                 Output Shape              Param #   \n",
      "=================================================================\n",
      "embedding (Embedding)        (None, 500, 128)          1280000   \n",
      "_________________________________________________________________\n",
      "conv1d (Conv1D)              (None, 494, 32)           28704     \n",
      "_________________________________________________________________\n",
      "max_pooling1d (MaxPooling1D) (None, 98, 32)            0         \n",
      "_________________________________________________________________\n",
      "conv1d_1 (Conv1D)            (None, 92, 32)            7200      \n",
      "_________________________________________________________________\n",
      "global_max_pooling1d (Global (None, 32)                0         \n",
      "_________________________________________________________________\n",
      "dense (Dense)                (None, 1)                 33        \n",
      "=================================================================\n",
      "Total params: 1,315,937\n",
      "Trainable params: 1,315,937\n",
      "Non-trainable params: 0\n",
      "_________________________________________________________________\n",
      "Epoch 1/10\n",
      "157/157 [==============================] - 27s 170ms/step - loss: 0.6928 - acc: 0.5178 - val_loss: 0.6917 - val_acc: 0.5558\n",
      "Epoch 2/10\n",
      "157/157 [==============================] - 30s 189ms/step - loss: 0.6869 - acc: 0.6667 - val_loss: 0.6878 - val_acc: 0.6512\n",
      "Epoch 3/10\n",
      "157/157 [==============================] - 32s 203ms/step - loss: 0.6766 - acc: 0.7532 - val_loss: 0.6728 - val_acc: 0.7274\n",
      "Epoch 4/10\n",
      "157/157 [==============================] - 27s 174ms/step - loss: 0.6425 - acc: 0.7929 - val_loss: 0.6121 - val_acc: 0.7844\n",
      "Epoch 5/10\n",
      "157/157 [==============================] - 28s 181ms/step - loss: 0.5496 - acc: 0.8167 - val_loss: 0.4955 - val_acc: 0.8214\n",
      "Epoch 6/10\n",
      "157/157 [==============================] - 35s 225ms/step - loss: 0.4236 - acc: 0.8478 - val_loss: 0.3929 - val_acc: 0.8456\n",
      "Epoch 7/10\n",
      "157/157 [==============================] - 28s 178ms/step - loss: 0.3371 - acc: 0.8694 - val_loss: 0.3457 - val_acc: 0.8550\n",
      "Epoch 8/10\n",
      "157/157 [==============================] - 29s 184ms/step - loss: 0.2898 - acc: 0.8871 - val_loss: 0.3251 - val_acc: 0.8632\n",
      "Epoch 9/10\n",
      "157/157 [==============================] - 29s 182ms/step - loss: 0.2589 - acc: 0.9000 - val_loss: 0.3155 - val_acc: 0.8652\n",
      "Epoch 10/10\n",
      "157/157 [==============================] - 30s 189ms/step - loss: 0.2360 - acc: 0.9097 - val_loss: 0.3099 - val_acc: 0.8670\n"
     ]
    }
   ],
   "source": [
    "from tensorflow.keras.models import Sequential\n",
    "from tensorflow.keras import layers\n",
    "from tensorflow.keras.optimizers import RMSprop\n",
    "\n",
    "model = Sequential()\n",
    "model.add(layers.Embedding(max_features, 128, input_length=max_len))\n",
    "model.add(layers.Conv1D(32, 7, activation='relu'))\n",
    "model.add(layers.MaxPooling1D(5))\n",
    "model.add(layers.Conv1D(32, 7, activation='relu'))\n",
    "model.add(layers.GlobalMaxPooling1D())\n",
    "model.add(layers.Dense(1, activation='sigmoid'))\n",
    "\n",
    "model.summary()\n",
    "\n",
    "model.compile(optimizer=RMSprop(lr=1e-4),\n",
    "              loss='binary_crossentropy',\n",
    "              metrics=['acc'])\n",
    "history = model.fit(x_train, y_train,\n",
    "                    epochs=10,\n",
    "                    batch_size=128,\n",
    "                    validation_split=0.2)"
   ]
  },
  {
   "cell_type": "code",
   "execution_count": null,
   "metadata": {
    "slideshow": {
     "slide_type": "skip"
    }
   },
   "outputs": [],
   "source": [
    "import matplotlib.pyplot as plt\n",
    "\n",
    "acc = history.history['acc']\n",
    "val_acc = history.history['val_acc']\n",
    "loss = history.history['loss']\n",
    "val_loss = history.history['val_loss']\n",
    "\n",
    "epochs = range(len(acc))\n",
    "\n",
    "plt.plot(epochs, acc, 'bo', label='Training acc')\n",
    "plt.plot(epochs, val_acc, 'b', label='Validation acc')\n",
    "plt.title('Training and validation accuracy')\n",
    "plt.legend()\n",
    "\n",
    "plt.figure()\n",
    "\n",
    "plt.plot(epochs, loss, 'bo', label='Training loss')\n",
    "plt.plot(epochs, val_loss, 'b', label='Validation loss')\n",
    "plt.title('Training and validation loss')\n",
    "plt.legend()"
   ]
  },
  {
   "cell_type": "code",
   "execution_count": 4,
   "metadata": {
    "slideshow": {
     "slide_type": "slide"
    }
   },
   "outputs": [
    {
     "data": {
      "image/png": "[encoded data removed]",
      "text/plain": [
       "<Figure size 432x288 with 1 Axes>"
      ]
     },
     "metadata": {
      "needs_background": "light"
     },
     "output_type": "display_data"
    },
    {
     "data": {
      "image/png": "[encoded data removed]",
      "text/plain": [
       "<Figure size 432x288 with 1 Axes>"
      ]
     },
     "metadata": {
      "needs_background": "light"
     },
     "output_type": "display_data"
    }
   ],
   "source": [
    "plt.show()"
   ]
  },
  {
   "cell_type": "markdown",
   "metadata": {
    "slideshow": {
     "slide_type": "slide"
    }
   },
   "source": [
    "Validation accuracy is lower than the equivalent LSTM model \n",
    "\n",
    "But runtime is faster\n",
    "\n",
    "We should now retrain on all the training data for the optimal epoch (longer runs are probabLy needed) and evaluate on the test set "
   ]
  },
  {
   "cell_type": "markdown",
   "metadata": {
    "slideshow": {
     "slide_type": "slide"
    }
   },
   "source": [
    "So 1D convnet can offer fast, cheap alternatives to a recurrent network on a word-level sentiment classification task"
   ]
  },
  {
   "cell_type": "markdown",
   "metadata": {
    "slideshow": {
     "slide_type": "slide"
    }
   },
   "source": [
    "----"
   ]
  },
  {
   "cell_type": "markdown",
   "metadata": {
    "slideshow": {
     "slide_type": "slide"
    }
   },
   "source": [
    "## 6.440 Combining CNNs and RNNs to process long sequences\n",
    "\n",
    "1D convnets are not sensitive to order beyond the patch size\n",
    "\n",
    "RNNs, of course, are - in principle - sensitive to order at any timescale"
   ]
  },
  {
   "cell_type": "markdown",
   "metadata": {
    "slideshow": {
     "slide_type": "slide"
    }
   },
   "source": [
    "A large stack of 1D convnet and pooling layers might be able to recognize long-term patterns \n",
    "\n",
    "Lets try a stacked 1D convnet on the temperature forecast problem "
   ]
  },
  {
   "cell_type": "code",
   "execution_count": 8,
   "metadata": {
    "slideshow": {
     "slide_type": "skip"
    }
   },
   "outputs": [],
   "source": [
    "# We reuse the following variables defined in the last section:\n",
    "# float_data, train_gen, val_gen, val_steps\n",
    "\n",
    "import os\n",
    "import numpy as np\n",
    "\n",
    "data_dir = '/Users/timblackwell/Documents/Goldsmiths/2021/Data Science/data/jena_climate'\n",
    "fname = os.path.join(data_dir, 'jena_climate_2009_2016.csv')\n",
    "\n",
    "f = open(fname)\n",
    "data = f.read()\n",
    "f.close()\n",
    "\n",
    "lines = data.split('\\n')\n",
    "header = lines[0].split(',')\n",
    "lines = lines[1:]\n",
    "\n",
    "float_data = np.zeros((len(lines), len(header) - 1))\n",
    "for i, line in enumerate(lines):\n",
    "    values = [float(x) for x in line.split(',')[1:]]\n",
    "    float_data[i, :] = values\n",
    "    \n",
    "mean = float_data[:200000].mean(axis=0)\n",
    "float_data -= mean\n",
    "std = float_data[:200000].std(axis=0)\n",
    "float_data /= std\n",
    "\n",
    "def generator(data, lookback, delay, min_index, max_index,\n",
    "              shuffle=False, batch_size=128, step=6):\n",
    "    if max_index is None:\n",
    "        max_index = len(data) - delay - 1\n",
    "    i = min_index + lookback\n",
    "    while 1:\n",
    "        if shuffle:\n",
    "            rows = np.random.randint(\n",
    "                min_index + lookback, max_index, size=batch_size)\n",
    "        else:\n",
    "            if i + batch_size >= max_index:\n",
    "                i = min_index + lookback\n",
    "            rows = np.arange(i, min(i + batch_size, max_index))\n",
    "            i += len(rows)\n",
    "\n",
    "        samples = np.zeros((len(rows),\n",
    "                           lookback // step,\n",
    "                           data.shape[-1]))\n",
    "        targets = np.zeros((len(rows),))\n",
    "        for j, row in enumerate(rows):\n",
    "            indices = range(rows[j] - lookback, rows[j], step)\n",
    "            samples[j] = data[indices]\n",
    "            targets[j] = data[rows[j] + delay][1]\n",
    "        yield samples, targets\n",
    "        \n",
    "lookback = 1440\n",
    "step = 6\n",
    "delay = 144\n",
    "batch_size = 128\n",
    "\n",
    "train_gen = generator(float_data,\n",
    "                      lookback=lookback,\n",
    "                      delay=delay,\n",
    "                      min_index=0,\n",
    "                      max_index=200000,\n",
    "                      shuffle=True,\n",
    "                      step=step, \n",
    "                      batch_size=batch_size)\n",
    "val_gen = generator(float_data,\n",
    "                    lookback=lookback,\n",
    "                    delay=delay,\n",
    "                    min_index=200001,\n",
    "                    max_index=300000,\n",
    "                    step=step,\n",
    "                    batch_size=batch_size)\n",
    "test_gen = generator(float_data,\n",
    "                     lookback=lookback,\n",
    "                     delay=delay,\n",
    "                     min_index=300001,\n",
    "                     max_index=None,\n",
    "                     step=step,\n",
    "                     batch_size=batch_size)\n",
    "\n",
    "# This is how many steps to draw from `val_gen`\n",
    "# in order to see the whole validation set:\n",
    "val_steps = (300000 - 200001 - lookback) // batch_size\n",
    "\n",
    "# This is how many steps to draw from `test_gen`\n",
    "# in order to see the whole test set:\n",
    "test_steps = (len(float_data) - 300001 - lookback) // batch_size"
   ]
  },
  {
   "cell_type": "code",
   "execution_count": 10,
   "metadata": {
    "slideshow": {
     "slide_type": "slide"
    }
   },
   "outputs": [
    {
     "name": "stdout",
     "output_type": "stream",
     "text": [
      "Epoch 1/20\n",
      "500/500 [==============================] - 17s 35ms/step - loss: 0.4110 - val_loss: 0.4827\n",
      "Epoch 2/20\n",
      "500/500 [==============================] - 17s 35ms/step - loss: 0.3560 - val_loss: 0.4384\n",
      "Epoch 3/20\n",
      "500/500 [==============================] - 17s 35ms/step - loss: 0.3319 - val_loss: 0.4362\n",
      "Epoch 4/20\n",
      "500/500 [==============================] - 18s 35ms/step - loss: 0.3158 - val_loss: 0.4995\n",
      "Epoch 5/20\n",
      "500/500 [==============================] - 18s 36ms/step - loss: 0.3034 - val_loss: 0.4380\n",
      "Epoch 6/20\n",
      "500/500 [==============================] - 18s 35ms/step - loss: 0.2937 - val_loss: 0.4661\n",
      "Epoch 7/20\n",
      "500/500 [==============================] - 18s 36ms/step - loss: 0.2862 - val_loss: 0.4473\n",
      "Epoch 8/20\n",
      "500/500 [==============================] - 20s 40ms/step - loss: 0.2787 - val_loss: 0.4949\n",
      "Epoch 9/20\n",
      "500/500 [==============================] - 19s 38ms/step - loss: 0.2738 - val_loss: 0.4606\n",
      "Epoch 10/20\n",
      "500/500 [==============================] - 19s 39ms/step - loss: 0.2682 - val_loss: 0.4582\n",
      "Epoch 11/20\n",
      "500/500 [==============================] - 20s 41ms/step - loss: 0.2642 - val_loss: 0.4919\n",
      "Epoch 12/20\n",
      "500/500 [==============================] - 19s 38ms/step - loss: 0.2587 - val_loss: 0.4685\n",
      "Epoch 13/20\n",
      "500/500 [==============================] - 19s 38ms/step - loss: 0.2553 - val_loss: 0.4786\n",
      "Epoch 14/20\n",
      "500/500 [==============================] - 20s 41ms/step - loss: 0.2544 - val_loss: 0.4886\n",
      "Epoch 15/20\n",
      "500/500 [==============================] - 18s 37ms/step - loss: 0.2496 - val_loss: 0.4795\n",
      "Epoch 16/20\n",
      "500/500 [==============================] - 18s 36ms/step - loss: 0.2458 - val_loss: 0.4657\n",
      "Epoch 17/20\n",
      "500/500 [==============================] - 20s 39ms/step - loss: 0.2437 - val_loss: 0.4841\n",
      "Epoch 18/20\n",
      "500/500 [==============================] - 19s 38ms/step - loss: 0.2410 - val_loss: 0.4799\n",
      "Epoch 19/20\n",
      "500/500 [==============================] - 21s 42ms/step - loss: 0.2397 - val_loss: 0.4767\n",
      "Epoch 20/20\n",
      "500/500 [==============================] - 23s 45ms/step - loss: 0.2367 - val_loss: 0.4828\n"
     ]
    }
   ],
   "source": [
    "from tensorflow.keras.models import Sequential\n",
    "from tensorflow.keras import layers\n",
    "from tensorflow.keras.optimizers import RMSprop\n",
    "\n",
    "model = Sequential()\n",
    "model.add(layers.Conv1D(32, 5, activation='relu',\n",
    "                        input_shape=(None, float_data.shape[-1])))\n",
    "model.add(layers.MaxPooling1D(3))\n",
    "model.add(layers.Conv1D(32, 5, activation='relu'))\n",
    "model.add(layers.MaxPooling1D(3))\n",
    "model.add(layers.Conv1D(32, 5, activation='relu'))\n",
    "model.add(layers.GlobalMaxPooling1D())\n",
    "model.add(layers.Dense(1))\n",
    "\n",
    "model.compile(optimizer=RMSprop(), loss='mae')\n",
    "history = model.fit(train_gen,\n",
    "                    steps_per_epoch=500,\n",
    "                    epochs=20,\n",
    "                    validation_data=val_gen,\n",
    "                    validation_steps=val_steps)"
   ]
  },
  {
   "cell_type": "code",
   "execution_count": null,
   "metadata": {
    "slideshow": {
     "slide_type": "skip"
    }
   },
   "outputs": [],
   "source": [
    "import matplotlib.pyplot as plt\n",
    "\n",
    "loss = history.history['loss']\n",
    "val_loss = history.history['val_loss']\n",
    "\n",
    "epochs = range(len(loss))\n",
    "\n",
    "plt.figure()\n",
    "\n",
    "plt.plot(epochs, loss, 'bo', label='Training loss')\n",
    "plt.plot(epochs, val_loss, 'b', label='Validation loss')\n",
    "plt.title('Training and validation loss')\n",
    "plt.legend()"
   ]
  },
  {
   "cell_type": "code",
   "execution_count": 11,
   "metadata": {
    "slideshow": {
     "slide_type": "slide"
    }
   },
   "outputs": [
    {
     "data": {
      "image/png": "[encoded data removed]",
      "text/plain": [
       "<Figure size 432x288 with 1 Axes>"
      ]
     },
     "metadata": {
      "needs_background": "light"
     },
     "output_type": "display_data"
    }
   ],
   "source": [
    "plt.show()"
   ]
  },
  {
   "cell_type": "markdown",
   "metadata": {
    "slideshow": {
     "slide_type": "slide"
    }
   },
   "source": [
    "Abject failure - cannot beat even the common sense baseline\n",
    "\n",
    "The convnet looks for patterns anywhere in the timeseries but has no knowledge of the temporal position of that pattern (at the beginning, the end, etc.)\n",
    "\n",
    "But we know recent weather datapoints are more salient than older datapoints\n",
    "\n",
    "That's why this convnet fails to produce a meaningful result"
   ]
  },
  {
   "cell_type": "markdown",
   "metadata": {
    "slideshow": {
     "slide_type": "slide"
    }
   },
   "source": [
    "The local limitation is not an issue for sentiment analysis because salient patterns of keywords ('great movie', 'a real stinker') are informative irrespective of their position in the review\n",
    "\n",
    "Preprocess the sequence with a 1D convnet before applying an RNN layer\n",
    "\n",
    "A compromise that blends the speed and local pattern spotting of a 1D convnet with the power and order-sensitivy  of an RNN"
   ]
  },
  {
   "cell_type": "markdown",
   "metadata": {
    "slideshow": {
     "slide_type": "slide"
    }
   },
   "source": [
    "This compromise is especially beneficial when dealing with very long sequences\n",
    "\n",
    "Sequences with thousands of steps cannot be realistically processed with RNNs \n",
    "\n",
    "A convnet will compress a long input sequence into a much shorter sequence of higher-level features\n",
    "\n",
    "This sequence of extracted features is fed into an RNN layer"
   ]
  },
  {
   "cell_type": "markdown",
   "metadata": {
    "slideshow": {
     "slide_type": "slide"
    }
   },
   "source": [
    "Let's try 1D convnet preprocessing on the temperature forecasting dataset \n",
    "\n",
    "The network can manipulate much longer sequences\n",
    "    - input data from further back (increasing the generator `lookback`)\n",
    "    - or look at high-resolution timeseries (decreasing `step` ) \n",
    "\n",
    "We will use a `step` of half the size, resulting in a double length timeseries\n",
    "\n",
    "i.e. the weather data is being sampled at a rate of one point per 30 minutes"
   ]
  },
  {
   "cell_type": "code",
   "execution_count": 12,
   "metadata": {
    "slideshow": {
     "slide_type": "skip"
    }
   },
   "outputs": [],
   "source": [
    "# This was previously set to 6 (one point per hour).\n",
    "# Now 3 (one point per 30 min).\n",
    "step = 3\n",
    "lookback = 720  # Unchanged\n",
    "delay = 144 # Unchanged\n",
    "\n",
    "train_gen = generator(float_data,\n",
    "                      lookback=lookback,\n",
    "                      delay=delay,\n",
    "                      min_index=0,\n",
    "                      max_index=200000,\n",
    "                      shuffle=True,\n",
    "                      step=step)\n",
    "val_gen = generator(float_data,\n",
    "                    lookback=lookback,\n",
    "                    delay=delay,\n",
    "                    min_index=200001,\n",
    "                    max_index=300000,\n",
    "                    step=step)\n",
    "test_gen = generator(float_data,\n",
    "                     lookback=lookback,\n",
    "                     delay=delay,\n",
    "                     min_index=300001,\n",
    "                     max_index=None,\n",
    "                     step=step)\n",
    "val_steps = (300000 - 200001 - lookback) // 128\n",
    "test_steps = (len(float_data) - 300001 - lookback) // 128"
   ]
  },
  {
   "cell_type": "markdown",
   "metadata": {
    "slideshow": {
     "slide_type": "slide"
    }
   },
   "source": [
    "The model, two `Conv1D` layers followed by a `GRU` layer:"
   ]
  },
  {
   "cell_type": "code",
   "execution_count": 13,
   "metadata": {},
   "outputs": [
    {
     "name": "stdout",
     "output_type": "stream",
     "text": [
      "Model: \"sequential_3\"\n",
      "_________________________________________________________________\n",
      "Layer (type)                 Output Shape              Param #   \n",
      "=================================================================\n",
      "conv1d_8 (Conv1D)            (None, None, 32)          2272      \n",
      "_________________________________________________________________\n",
      "max_pooling1d_5 (MaxPooling1 (None, None, 32)          0         \n",
      "_________________________________________________________________\n",
      "conv1d_9 (Conv1D)            (None, None, 32)          5152      \n",
      "_________________________________________________________________\n",
      "gru (GRU)                    (None, 32)                6336      \n",
      "_________________________________________________________________\n",
      "dense_3 (Dense)              (None, 1)                 33        \n",
      "=================================================================\n",
      "Total params: 13,793\n",
      "Trainable params: 13,793\n",
      "Non-trainable params: 0\n",
      "_________________________________________________________________\n",
      "Epoch 1/20\n",
      "500/500 [==============================] - 55s 110ms/step - loss: 0.3344 - val_loss: 0.2901\n",
      "Epoch 2/20\n",
      "500/500 [==============================] - 51s 102ms/step - loss: 0.2954 - val_loss: 0.2796\n",
      "Epoch 3/20\n",
      "500/500 [==============================] - 51s 103ms/step - loss: 0.2824 - val_loss: 0.2747\n",
      "Epoch 4/20\n",
      "500/500 [==============================] - 53s 106ms/step - loss: 0.2720 - val_loss: 0.2822\n",
      "Epoch 5/20\n",
      "500/500 [==============================] - 54s 108ms/step - loss: 0.2634 - val_loss: 0.2798\n",
      "Epoch 6/20\n",
      "500/500 [==============================] - 53s 105ms/step - loss: 0.2560 - val_loss: 0.2840\n",
      "Epoch 7/20\n",
      "500/500 [==============================] - 54s 108ms/step - loss: 0.2503 - val_loss: 0.2917\n",
      "Epoch 8/20\n",
      "500/500 [==============================] - 55s 110ms/step - loss: 0.2450 - val_loss: 0.2964\n",
      "Epoch 9/20\n",
      "500/500 [==============================] - 64s 127ms/step - loss: 0.2395 - val_loss: 0.2959\n",
      "Epoch 10/20\n",
      "500/500 [==============================] - 57s 114ms/step - loss: 0.2339 - val_loss: 0.2918\n",
      "Epoch 11/20\n",
      "500/500 [==============================] - 55s 109ms/step - loss: 0.2293 - val_loss: 0.3033\n",
      "Epoch 12/20\n",
      "500/500 [==============================] - 53s 107ms/step - loss: 0.2244 - val_loss: 0.2965\n",
      "Epoch 13/20\n",
      "500/500 [==============================] - 53s 107ms/step - loss: 0.2199 - val_loss: 0.3023\n",
      "Epoch 14/20\n",
      "500/500 [==============================] - 56s 112ms/step - loss: 0.2171 - val_loss: 0.3002\n",
      "Epoch 15/20\n",
      "500/500 [==============================] - 54s 107ms/step - loss: 0.2155 - val_loss: 0.3038\n",
      "Epoch 16/20\n",
      "500/500 [==============================] - 54s 108ms/step - loss: 0.2109 - val_loss: 0.3003\n",
      "Epoch 17/20\n",
      "500/500 [==============================] - 54s 108ms/step - loss: 0.2087 - val_loss: 0.3035\n",
      "Epoch 18/20\n",
      "500/500 [==============================] - 54s 109ms/step - loss: 0.2053 - val_loss: 0.3088\n",
      "Epoch 19/20\n",
      "500/500 [==============================] - 55s 109ms/step - loss: 0.2053 - val_loss: 0.3152\n",
      "Epoch 20/20\n",
      "500/500 [==============================] - 54s 109ms/step - loss: 0.2007 - val_loss: 0.3150\n"
     ]
    }
   ],
   "source": [
    "model = Sequential()\n",
    "model.add(layers.Conv1D(32, 5, activation='relu',\n",
    "                        input_shape=(None, float_data.shape[-1])))\n",
    "model.add(layers.MaxPooling1D(3))\n",
    "model.add(layers.Conv1D(32, 5, activation='relu'))\n",
    "model.add(layers.GRU(32, dropout=0.1, recurrent_dropout=0.5))\n",
    "model.add(layers.Dense(1))\n",
    "\n",
    "model.summary()\n",
    "\n",
    "model.compile(optimizer=RMSprop(), loss='mae')\n",
    "history = model.fit_generator(train_gen,\n",
    "                              steps_per_epoch=500,\n",
    "                              epochs=20,\n",
    "                              validation_data=val_gen,\n",
    "                              validation_steps=val_steps)"
   ]
  },
  {
   "cell_type": "code",
   "execution_count": null,
   "metadata": {
    "slideshow": {
     "slide_type": "skip"
    }
   },
   "outputs": [],
   "source": [
    "loss = history.history['loss']\n",
    "val_loss = history.history['val_loss']\n",
    "\n",
    "epochs = range(len(loss))\n",
    "\n",
    "plt.figure()\n",
    "\n",
    "plt.plot(epochs, loss, 'bo', label='Training loss')\n",
    "plt.plot(epochs, val_loss, 'b', label='Validation loss')\n",
    "plt.title('Training and validation loss')\n",
    "plt.legend()"
   ]
  },
  {
   "cell_type": "code",
   "execution_count": 14,
   "metadata": {
    "slideshow": {
     "slide_type": "slide"
    }
   },
   "outputs": [
    {
     "data": {
      "image/png": "[encoded data removed]",
      "text/plain": [
       "<Figure size 432x288 with 1 Axes>"
      ]
     },
     "metadata": {
      "needs_background": "light"
     },
     "output_type": "display_data"
    }
   ],
   "source": [
    "plt.show()"
   ]
  },
  {
   "cell_type": "markdown",
   "metadata": {
    "slideshow": {
     "slide_type": "slide"
    }
   },
   "source": [
    "The performance is not quite as good as the regularized GRU but it's significantly faster\n",
    "\n",
    "It is looking at twice the data - not so helpful here - but may be important for other timeseries"
   ]
  },
  {
   "cell_type": "markdown",
   "metadata": {
    "slideshow": {
     "slide_type": "slide"
    }
   },
   "source": [
    "----"
   ]
  },
  {
   "cell_type": "markdown",
   "metadata": {
    "slideshow": {
     "slide_type": "slide"
    }
   },
   "source": [
    "## 6.450 Wrapping up\n",
    "\n",
    "- 1D convnets spot local (in time) patterns in 1D ordered data \n",
    "\n",
    "- They are faster than RNNs but not as general"
   ]
  },
  {
   "cell_type": "markdown",
   "metadata": {
    "slideshow": {
     "slide_type": "slide"
    }
   },
   "source": [
    "- Typically 1D convnets consist of stacks of `Conv1D` and `MaxPooling1D` layers and end in a global pooling operation or a flattening operation\n",
    "\n",
    "- RNNs are impractical for very long sequences: use a 1D convnet as a preprocessing step before an RNN to shorten the sequence and extract useful representation"
   ]
  },
  {
   "cell_type": "markdown",
   "metadata": {
    "slideshow": {
     "slide_type": "slide"
    }
   },
   "source": [
    "----"
   ]
  }
 ],
 "metadata": {
  "celltoolbar": "Slideshow",
  "kernelspec": {
   "display_name": "Python 3",
   "language": "python",
   "name": "python3"
  },
  "language_info": {
   "codemirror_mode": {
    "name": "ipython",
    "version": 3
   },
   "file_extension": ".py",
   "mimetype": "text/x-python",
   "name": "python",
   "nbconvert_exporter": "python",
   "pygments_lexer": "ipython3",
   "version": "3.8.5"
  }
 },
 "nbformat": 4,
 "nbformat_minor": 2
}
