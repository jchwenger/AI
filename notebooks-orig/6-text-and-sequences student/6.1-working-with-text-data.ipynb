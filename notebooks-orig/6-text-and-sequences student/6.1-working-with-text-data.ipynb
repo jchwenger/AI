{
 "cells": [
  {
   "cell_type": "code",
   "execution_count": 1,
   "metadata": {
    "slideshow": {
     "slide_type": "skip"
    }
   },
   "outputs": [
    {
     "name": "stdout",
     "output_type": "stream",
     "text": [
      "2.3.0   2.4.0\n"
     ]
    }
   ],
   "source": [
    "import tensorflow as tf\n",
    "\n",
    "from tensorflow import keras\n",
    "\n",
    "print(tf.__version__, ' ', tf.keras.__version__)"
   ]
  },
  {
   "cell_type": "markdown",
   "metadata": {
    "slideshow": {
     "slide_type": "slide"
    }
   },
   "source": [
    "----"
   ]
  },
  {
   "cell_type": "markdown",
   "metadata": {
    "slideshow": {
     "slide_type": "slide"
    }
   },
   "source": [
    "## 6.100 Working with text data\n",
    "\n",
    "DL cannot input raw text - text must be vectorised\n",
    "- words or characters to vectors\n",
    "- n-grams of words or characters to vectors"
   ]
  },
  {
   "cell_type": "markdown",
   "metadata": {
    "slideshow": {
     "slide_type": "slide"
    }
   },
   "source": [
    "Text is broken down into words, characters or n-grams\n",
    "\n",
    "These units are called tokens\n",
    "\n",
    "Two main tokenisations:\n",
    "- one-hot\n",
    "- token- (usually word-) embeddings."
   ]
  },
  {
   "cell_type": "markdown",
   "metadata": {
    "slideshow": {
     "slide_type": "slide"
    }
   },
   "source": [
    "n-grams are sets of consecutive words with maximum length n. \n",
    "\n",
    "\"The cat sat on the mat\" -> {\"the\", \"cat\", \"sat\", \"on\", \"the\", \"mat\", \"the cat\", \"cat sat\", \"sat on\", \"on the\", \"the mat\"} is a *bag of 2-grams*.\n",
    "\n",
    "- order is lost\n",
    "- a kind of feature engineering\n",
    "- used in shallow learning (logistic regression, random forests)\n",
    "- DL uses recurrent neural networks 1D convnets to learn representations for ordered groups of tokens without any priors"
   ]
  },
  {
   "cell_type": "markdown",
   "metadata": {
    "slideshow": {
     "slide_type": "slide"
    }
   },
   "source": [
    "----"
   ]
  },
  {
   "cell_type": "markdown",
   "metadata": {
    "slideshow": {
     "slide_type": "slide"
    }
   },
   "source": [
    "## 6.110 One-hot encoding\n",
    "\n",
    "One-hot encoding is the most common way to turn a token into a vector\n",
    "\n",
    "Remember  IMDB and Reuters examples"
   ]
  },
  {
   "cell_type": "markdown",
   "metadata": {
    "slideshow": {
     "slide_type": "slide"
    }
   },
   "source": [
    "1. associate a unique integer $n$ with each word in a dictionary of $N$ words\n",
    "2. convert text to integer vector $(n_1, n_2, n_3\\ldots)$\n",
    "3. form an $N$ dimensional binary vector with ones at positions $n_1, n_2, n_3\\ldots$, zeros elsewhere"
   ]
  },
  {
   "cell_type": "markdown",
   "metadata": {
    "slideshow": {
     "slide_type": "slide"
    }
   },
   "source": [
    "`tensorflow.keras` has built-in utilities one-hot encoding text at the word or character level from raw text\n",
    "\n",
    "Word-level one-hot encoding:"
   ]
  },
  {
   "cell_type": "code",
   "execution_count": 5,
   "metadata": {
    "slideshow": {
     "slide_type": "slide"
    }
   },
   "outputs": [
    {
     "name": "stdout",
     "output_type": "stream",
     "text": [
      "Found 9 unique tokens.\n"
     ]
    }
   ],
   "source": [
    "from tensorflow.keras.preprocessing.text import Tokenizer\n",
    "\n",
    "samples = ['The cat sat on the mat.', 'The dog ate my homework.']\n",
    "\n",
    "# We create a tokenizer, configured to only take\n",
    "# into account the top-N most common words\n",
    "# N is usually large e.g.10000 - choose N = 10 dfor this demo\n",
    "tokenizer = Tokenizer(num_words=10)\n",
    "# This builds the word index\n",
    "tokenizer.fit_on_texts(samples)\n",
    "\n",
    "# This turns strings into lists of integer indices.\n",
    "sequences = tokenizer.texts_to_sequences(samples)\n",
    "\n",
    "# You could also directly get the one-hot binary representations.\n",
    "# Note that other vectorization modes than one-hot encoding are supported!\n",
    "one_hot_results = tokenizer.texts_to_matrix(samples, mode='binary')\n",
    "\n",
    "# This is how you can recover the word index that was computed\n",
    "word_index = tokenizer.word_index\n",
    "print('Found %s unique tokens.' % len(word_index))"
   ]
  },
  {
   "cell_type": "code",
   "execution_count": 12,
   "metadata": {
    "slideshow": {
     "slide_type": "slide"
    }
   },
   "outputs": [
    {
     "name": "stdout",
     "output_type": "stream",
     "text": [
      "The cat sat on the mat. => [1, 2, 3, 4, 1, 5] => [0. 1. 1. 1. 1. 1. 0. 0. 0. 0.]\n",
      "The dog ate my homework. => [1, 6, 7, 8, 9] => [0. 1. 0. 0. 0. 0. 1. 1. 1. 1.]\n"
     ]
    }
   ],
   "source": [
    "print(samples[0], '=>', sequences[0], '=>', one_hot_results[0])\n",
    "print(samples[1], '=>', sequences[1], '=>', one_hot_results[1])"
   ]
  },
  {
   "cell_type": "markdown",
   "metadata": {},
   "source": [
    "Note that the first component of the one-hot vector is always 0 (because dictonaries start at word 1)"
   ]
  },
  {
   "cell_type": "markdown",
   "metadata": {
    "slideshow": {
     "slide_type": "slide"
    }
   },
   "source": [
    "The *one-hot hashing trick* can be used for very large dictionaries \n",
    "\n",
    "Form an integer vector $(h(n_1), h(n_2), h(n_3)\\ldots)$ and then one-hot"
   ]
  },
  {
   "cell_type": "markdown",
   "metadata": {
    "slideshow": {
     "slide_type": "slide"
    }
   },
   "source": [
    "$h$ is a hash function - an integer function that squeezes the domain into a smaller image\n",
    "\n",
    "The image of Python's `hash` is still very large - take the modulo with respect to the required dimensionality\n",
    "\n",
    "\n",
    "`index = 1 + abs(hash(word)) % dimensionality`"
   ]
  },
  {
   "cell_type": "markdown",
   "metadata": {
    "slideshow": {
     "slide_type": "slide"
    }
   },
   "source": [
    "Two different words may end up with the same hash - a 'collision' \n",
    "\n",
    "Models won't be able to distinguish colliding words that are in collision \n",
    "\n",
    "Reduce the likelihood of hash collisions by taking a large hashing dimensionality"
   ]
  },
  {
   "cell_type": "markdown",
   "metadata": {
    "slideshow": {
     "slide_type": "slide"
    }
   },
   "source": [
    "----"
   ]
  },
  {
   "cell_type": "markdown",
   "metadata": {
    "slideshow": {
     "slide_type": "slide"
    }
   },
   "source": [
    "## 6.120 Word embeddings\n",
    "\n",
    "Word embeddings are the second main method of text tokenisation\n",
    "\n"
   ]
  },
  {
   "cell_type": "markdown",
   "metadata": {
    "slideshow": {
     "slide_type": "slide"
    }
   },
   "source": [
    "One-hot encoded vectors are\n",
    "\n",
    "- binary \n",
    "\n",
    "- sparse (most elements are zeros) \n",
    "\n",
    "- very high-dimensional "
   ]
  },
  {
   "cell_type": "markdown",
   "metadata": {
    "slideshow": {
     "slide_type": "slide"
    }
   },
   "source": [
    "Word embeddings are \n",
    "\n",
    "- low-dim. floating point vectors\n",
    "\n",
    "- 'dense', not sparse \n",
    "\n",
    "- are learned from data"
   ]
  },
  {
   "cell_type": "markdown",
   "metadata": {
    "slideshow": {
     "slide_type": "slide"
    }
   },
   "source": [
    "Word embeddings in the context of a large dictionary have typically 256, 512 or 1024 dimensions (the dimension of a vector is its length i.e. the number of components)\n",
    "\n",
    "One-hot encoded vectors can exceed 20,000-dimensions \n",
    "\n",
    "Word embeddings press the information into fewer dimensions"
   ]
  },
  {
   "cell_type": "markdown",
   "metadata": {
    "slideshow": {
     "slide_type": "slide"
    }
   },
   "source": [
    "![word embeddings vs. one hot encoding](https://s3.amazonaws.com/book.keras.io/img/ch6/word_embeddings.png)"
   ]
  },
  {
   "cell_type": "markdown",
   "metadata": {
    "slideshow": {
     "slide_type": "slide"
    }
   },
   "source": [
    "So how do we embed words in a low dimensional floating point space?\n",
    "\n",
    "1. Word embeddings are learned just like any other layer parameter - during training, starting from random\n",
    "\n",
    "2. Use pretrained word embeddings"
   ]
  },
  {
   "cell_type": "markdown",
   "metadata": {
    "slideshow": {
     "slide_type": "slide"
    }
   },
   "source": [
    "The motivation behind word embedding is to attempt to map language into a geometric space - that is, a space with distance and angle\n",
    "\n",
    "A space that is semantically structured"
   ]
  },
  {
   "cell_type": "markdown",
   "metadata": {
    "slideshow": {
     "slide_type": "slide"
    }
   },
   "source": [
    "Suppose otherwise - that dense vectors were picked at random - then semantically similar words (e.g. 'precise' and 'accurate) might have very different representations\n",
    "\n",
    "The network would struggle to make sense of such an unstructured, noisy embedding space"
   ]
  },
  {
   "cell_type": "markdown",
   "metadata": {
    "slideshow": {
     "slide_type": "slide"
    }
   },
   "source": [
    "A structured embedding space is desired\n",
    "\n",
    "Words of similar meanings are close\n",
    "\n",
    "Geometric and semantic relationships match\n",
    "- wolf-to-dog = lion-to-cat\n",
    "- lion-to-wolf = cat-to-dog\n",
    "- woman-to-women = man-to-men"
   ]
  },
  {
   "cell_type": "markdown",
   "metadata": {
    "slideshow": {
     "slide_type": "slide"
    }
   },
   "source": [
    "But a universal embedding is unlikely\n",
    "\n",
    "Semantic relationships depend on task - text and context\n",
    "\n",
    "Expect different geometries for different tasks (sentiment analysis is very different from classification of legal documents)"
   ]
  },
  {
   "cell_type": "markdown",
   "metadata": {
    "slideshow": {
     "slide_type": "slide"
    }
   },
   "source": [
    "----"
   ]
  },
  {
   "cell_type": "markdown",
   "metadata": {
    "slideshow": {
     "slide_type": "slide"
    }
   },
   "source": [
    "## 6.121 Learning embeddings\n",
    "\n",
    "New embedding spaces can be learned with every new task\n",
    "\n",
    "Facilitated by backpropagation and implemented by Tensorflow  \n",
    "\n",
    "It's just about learning the weights of a layer: the `Embedding` layer"
   ]
  },
  {
   "cell_type": "markdown",
   "metadata": {
    "slideshow": {
     "slide_type": "slide"
    }
   },
   "source": [
    "The `Embedding` layer acts as a dictionary mapping integer indices (specific words) to dense vectors\n",
    "\n",
    "It takes integer input, looks up these integers into an internal dictionary, and returns the associated floating-point vector"
   ]
  },
  {
   "cell_type": "markdown",
   "metadata": {
    "slideshow": {
     "slide_type": "slide"
    }
   },
   "source": [
    "Input of shape `(samples, sequence_length)`\n",
    "\n",
    "Each sample is a sequence of integers"
   ]
  },
  {
   "cell_type": "markdown",
   "metadata": {
    "slideshow": {
     "slide_type": "slide"
    }
   },
   "source": [
    "All sequences in a mini-batch must have the same length because they will be packed into a single tensor\n",
    "\n",
    "Short sequences are padded with zeros over-long sequences are truncated"
   ]
  },
  {
   "cell_type": "markdown",
   "metadata": {
    "slideshow": {
     "slide_type": "slide"
    }
   },
   "source": [
    "The `Embedding` layer returns a 3D floating point tensor of shape `(samples, sequence_length, embedding_dimensionality)` \n",
    "\n",
    "ready for processing by an RNN layer or a 1D convolution layer (upcoming topics)"
   ]
  },
  {
   "cell_type": "markdown",
   "metadata": {
    "slideshow": {
     "slide_type": "slide"
    }
   },
   "source": [
    "The weights of an `Embedding` layer are initially random, just like with any other layer \n",
    "\n",
    "Word vectors will be gradually adjusted via backpropagation; structuring is automatic\n",
    "\n",
    "The final embedding space will exhibit a specialised structure, appropriate to the particular task"
   ]
  },
  {
   "cell_type": "markdown",
   "metadata": {
    "slideshow": {
     "slide_type": "slide"
    }
   },
   "source": [
    "Let's apply this idea to the IMDB sentiment prediction task\n",
    "\n",
    "Restrict the movie reviews to the top 10,000 most common words and cut reviews after only 20 words "
   ]
  },
  {
   "cell_type": "markdown",
   "metadata": {
    "slideshow": {
     "slide_type": "slide"
    }
   },
   "source": [
    "Our network will:\n",
    "- learn 8-dimensional embeddings for each of the 10,000 words\n",
    "- turn the input integer sequences (2D integer tensor) into embedded sequences (3D float tensor)\n",
    "- flatten the tensor to 2D\n",
    "\n",
    "- train a single `Dense` layer classifier"
   ]
  },
  {
   "cell_type": "code",
   "execution_count": 5,
   "metadata": {
    "slideshow": {
     "slide_type": "slide"
    }
   },
   "outputs": [],
   "source": [
    "from tensorflow.keras.datasets import imdb\n",
    "from tensorflow.keras import preprocessing\n",
    "\n",
    "# Number of words to consider as features\n",
    "max_features = 10000\n",
    "# Cut texts after this number of words \n",
    "# (among top max_features most common words)\n",
    "maxlen = 20\n",
    "\n",
    "# Load the data as lists of integers.\n",
    "(x_train, y_train), (x_test, y_test) = imdb.load_data(num_words=max_features)\n",
    "\n",
    "# This turns our lists of integers\n",
    "# into a 2D integer tensor of shape `(samples, maxlen)`\n",
    "x_train = preprocessing.sequence.pad_sequences(x_train, maxlen=maxlen)\n",
    "x_test = preprocessing.sequence.pad_sequences(x_test, maxlen=maxlen)"
   ]
  },
  {
   "cell_type": "markdown",
   "metadata": {
    "slideshow": {
     "slide_type": "slide"
    }
   },
   "source": [
    "The three argument embedding layer code is\n",
    "\n",
    "`Embedding(max_features, embedding_dimensionality, sequence_length)`\n",
    "\n",
    "    - max_features = 10000\n",
    "    - embedding_dimensionality = 8\n",
    "    - sequence_length = 20"
   ]
  },
  {
   "cell_type": "markdown",
   "metadata": {
    "slideshow": {
     "slide_type": "slide"
    }
   },
   "source": [
    "Our reviews have been reduced (or expanded) to a constant length of 20 words\n",
    "\n",
    "E.g. `x_test[0] = [65, 16, 38, 1334, 88, 12, 16, 283, 5, 16, 4472, 113, 103, 32, 15, 16, 5345, 19, 178,  32]`\n",
    "\n",
    "65, 16, 38... are dictionary entries - word 65, word 16, word 38... in the 10000 word dictionary "
   ]
  },
  {
   "cell_type": "markdown",
   "metadata": {
    "slideshow": {
     "slide_type": "slide"
    }
   },
   "source": [
    "Each elements of `x_test[0]` is one-hot encoded => 20 one-hot vectors of length 10000\n",
    "\n",
    "The embedding layer multiplies each one-hot vector by a matrix of dimensions $8 \\times 10000$ => 20 FP vectors of length 8\n",
    "\n",
    "This matrix has $8 \\times 10000 = 80000$ elements"
   ]
  },
  {
   "cell_type": "markdown",
   "metadata": {
    "slideshow": {
     "slide_type": "slide"
    }
   },
   "source": [
    "`model.add(Embedding(max_features, embedding_dimensionality, sequence_length)`\n",
    "\n",
    "The embedding layer outputs tensors of shape `(sequence_length, embedding_dimensionality)`\n",
    "  "
   ]
  },
  {
   "cell_type": "markdown",
   "metadata": {
    "slideshow": {
     "slide_type": "slide"
    }
   },
   "source": [
    "The embedding weight matrix has \n",
    "\n",
    "`embedding_dimensionality * max_features` tuneable parameters"
   ]
  },
  {
   "cell_type": "code",
   "execution_count": null,
   "metadata": {
    "slideshow": {
     "slide_type": "slide"
    }
   },
   "outputs": [],
   "source": [
    "from tensorflow.keras.models import Sequential\n",
    "from tensorflow.keras.layers import Flatten, Dense\n",
    "\n",
    "model = Sequential()\n",
    "# We specify the maximum input length to our Embedding layer\n",
    "# so we can later flatten the embedded inputs\n",
    "model.add(Embedding(10000, 8, input_length=maxlen))\n",
    "# After the Embedding layer, \n",
    "# our activations have shape `(samples, maxlen, 8)`.\n",
    "\n",
    "# We flatten the 3D tensor of embeddings \n",
    "# into a 2D tensor of shape `(samples, maxlen * 8)`\n",
    "model.add(Flatten())\n",
    "\n",
    "# We add the classifier on top\n",
    "model.add(Dense(1, activation='sigmoid'))\n",
    "model.compile(optimizer='rmsprop', loss='binary_crossentropy', metrics=['acc'])\n",
    "model.summary()"
   ]
  },
  {
   "cell_type": "code",
   "execution_count": 6,
   "metadata": {
    "slideshow": {
     "slide_type": "slide"
    }
   },
   "outputs": [
    {
     "name": "stdout",
     "output_type": "stream",
     "text": [
      "Model: \"sequential\"\n",
      "_________________________________________________________________\n",
      "Layer (type)                 Output Shape              Param #   \n",
      "=================================================================\n",
      "embedding_1 (Embedding)      (None, 20, 8)             80000     \n",
      "_________________________________________________________________\n",
      "flatten (Flatten)            (None, 160)               0         \n",
      "_________________________________________________________________\n",
      "dense (Dense)                (None, 1)                 161       \n",
      "=================================================================\n",
      "Total params: 80,161\n",
      "Trainable params: 80,161\n",
      "Non-trainable params: 0\n",
      "_________________________________________________________________\n",
      "Epoch 1/10\n",
      "625/625 [==============================] - 1s 1ms/step - loss: 0.6725 - acc: 0.6218 - val_loss: 0.6252 - val_acc: 0.7024\n",
      "Epoch 2/10\n",
      "625/625 [==============================] - 1s 915us/step - loss: 0.5448 - acc: 0.7518 - val_loss: 0.5265 - val_acc: 0.7330\n",
      "Epoch 3/10\n",
      "625/625 [==============================] - 1s 957us/step - loss: 0.4597 - acc: 0.7891 - val_loss: 0.5013 - val_acc: 0.7470\n",
      "Epoch 4/10\n",
      "625/625 [==============================] - 1s 960us/step - loss: 0.4207 - acc: 0.8101 - val_loss: 0.4959 - val_acc: 0.7516\n",
      "Epoch 5/10\n",
      "625/625 [==============================] - 1s 930us/step - loss: 0.3940 - acc: 0.8249 - val_loss: 0.4965 - val_acc: 0.7542\n",
      "Epoch 6/10\n",
      "625/625 [==============================] - 1s 937us/step - loss: 0.3720 - acc: 0.8363 - val_loss: 0.4993 - val_acc: 0.7570\n",
      "Epoch 7/10\n",
      "625/625 [==============================] - 1s 932us/step - loss: 0.3522 - acc: 0.8471 - val_loss: 0.5051 - val_acc: 0.7556\n",
      "Epoch 8/10\n",
      "625/625 [==============================] - 1s 953us/step - loss: 0.3338 - acc: 0.8580 - val_loss: 0.5126 - val_acc: 0.7532\n",
      "Epoch 9/10\n",
      "625/625 [==============================] - 1s 952us/step - loss: 0.3159 - acc: 0.8684 - val_loss: 0.5181 - val_acc: 0.7538\n",
      "Epoch 10/10\n",
      "625/625 [==============================] - 1s 982us/step - loss: 0.2980 - acc: 0.8780 - val_loss: 0.5279 - val_acc: 0.7488\n"
     ]
    }
   ],
   "source": [
    "history = model.fit(x_train, y_train,\n",
    "                    epochs=10,\n",
    "                    batch_size=32,\n",
    "                    validation_split=0.2)"
   ]
  },
  {
   "cell_type": "markdown",
   "metadata": {
    "slideshow": {
     "slide_type": "slide"
    }
   },
   "source": [
    "A validation accuracy of ~75%\n",
    "\n",
    "Not bad: we only look at the first 20 words in every review "
   ]
  },
  {
   "cell_type": "markdown",
   "metadata": {
    "slideshow": {
     "slide_type": "slide"
    }
   },
   "source": [
    "But note that merely flattening the embedded sequences destroys sequential information \n",
    "\n",
    "Later we shall see how recurrent and \n",
    "\n",
    "1D convolutional layers can respond to ordered data "
   ]
  },
  {
   "cell_type": "markdown",
   "metadata": {
    "slideshow": {
     "slide_type": "slide"
    }
   },
   "source": [
    "----"
   ]
  },
  {
   "cell_type": "markdown",
   "metadata": {
    "slideshow": {
     "slide_type": "slide"
    }
   },
   "source": [
    "## 6.122 Using pretrained word embeddings\n",
    "\n",
    "Pretrained word embeddings are useful when training data is limited - just as with pretrained convnets\n",
    "\n",
    "Very structured embeddings hopefully capture generic structure appropriate to diverse domains "
   ]
  },
  {
   "cell_type": "markdown",
   "metadata": {
    "slideshow": {
     "slide_type": "slide"
    }
   },
   "source": [
    "Capture generic structures cf. generic low-level visual features \n",
    "\n",
    "Pretrained word embeddings are computed using a variety of techniques including word occurrence statistics and neural networks "
   ]
  },
  {
   "cell_type": "markdown",
   "metadata": {
    "slideshow": {
     "slide_type": "slide"
    }
   },
   "source": [
    "2013:  Google's Word2Vec algorithm\n",
    "\n",
    "The most famous and successful word embedding scheme\n",
    "\n",
    "Word2Vec captures specific semantic properties\n",
    "\n",
    "e.g. gender"
   ]
  },
  {
   "cell_type": "markdown",
   "metadata": {
    "slideshow": {
     "slide_type": "slide"
    }
   },
   "source": [
    "2014: Stanford university's 'GloVe' - 'Global Vectors for Word Representation'\n",
    "\n",
    "Based on factorizing a matrix of word co-occurrence statistics\n",
    "\n",
    "Millions of English tokens harvested from Wikipedia and other sources "
   ]
  },
  {
   "cell_type": "markdown",
   "metadata": {
    "slideshow": {
     "slide_type": "slide"
    }
   },
   "source": [
    "Let's see how we can use GloVe embeddings in `tensorflow.keras` \n",
    "\n",
    "(The same method applies to Word2Vec or any other embedding database) "
   ]
  },
  {
   "cell_type": "markdown",
   "metadata": {
    "slideshow": {
     "slide_type": "slide"
    }
   },
   "source": [
    "----"
   ]
  },
  {
   "cell_type": "markdown",
   "metadata": {
    "slideshow": {
     "slide_type": "slide"
    }
   },
   "source": [
    "## 6.130 Raw text to word embeddings\n",
    "\n",
    "Instead of using the pre-tokenized IMDB data packaged in `tensorflow.keras` we will start from scratch\n",
    "\n",
    "Downloading the original text data from `http://ai.stanford.edu/~amaas/data/sentiment/` and inflate"
   ]
  },
  {
   "cell_type": "markdown",
   "metadata": {
    "slideshow": {
     "slide_type": "slide"
    }
   },
   "source": [
    "Put individual training reviews into a list of strings - one string per review\n",
    "\n",
    "and collect the review labels (positive / negative) into a `labels` list:"
   ]
  },
  {
   "cell_type": "code",
   "execution_count": 7,
   "metadata": {
    "slideshow": {
     "slide_type": "slide"
    }
   },
   "outputs": [],
   "source": [
    "import os\n",
    "\n",
    "imdb_dir = '/Users/timblackwell/Documents/Goldsmiths/2021/Data Science/data/aclImdb'\n",
    "train_dir = os.path.join(imdb_dir, 'train')\n",
    "\n",
    "labels = []\n",
    "texts = []\n",
    "\n",
    "for label_type in ['neg', 'pos']:\n",
    "    dir_name = os.path.join(train_dir, label_type)\n",
    "    for fname in os.listdir(dir_name):\n",
    "        if fname[-4:] == '.txt':\n",
    "            f = open(os.path.join(dir_name, fname))\n",
    "            texts.append(f.read())\n",
    "            f.close()\n",
    "            if label_type == 'neg':\n",
    "                labels.append(0)\n",
    "            else:\n",
    "                labels.append(1)"
   ]
  },
  {
   "cell_type": "markdown",
   "metadata": {
    "slideshow": {
     "slide_type": "slide"
    }
   },
   "source": [
    "Now tokenize data and prepare a training and validation split.\n",
    "\n",
    "Pretrained word embeddings are by reputation useful where training data limited\n",
    " - otherwise, task-specific embeddings are preferable\n",
    " \n",
    "Challenge: can we predict sentiment on from just 200 examples??"
   ]
  },
  {
   "cell_type": "code",
   "execution_count": 8,
   "metadata": {
    "slideshow": {
     "slide_type": "slide"
    }
   },
   "outputs": [
    {
     "name": "stdout",
     "output_type": "stream",
     "text": [
      "Found 88582 unique tokens.\n",
      "Shape of data tensor: (25000, 100)\n",
      "Shape of label tensor: (25000,)\n"
     ]
    }
   ],
   "source": [
    "from tensorflow.keras.preprocessing.text import Tokenizer\n",
    "from tensorflow.keras.preprocessing.sequence import pad_sequences\n",
    "import numpy as np\n",
    "\n",
    "maxlen = 100  # We will cut reviews after 100 words\n",
    "training_samples = 200  # We will be training on 200 samples\n",
    "validation_samples = 10000  # We will be validating on 10000 samples\n",
    "max_words = 10000  # We will only consider the top 10,000 words in the dataset\n",
    "\n",
    "tokenizer = Tokenizer(num_words=max_words)\n",
    "tokenizer.fit_on_texts(texts)\n",
    "sequences = tokenizer.texts_to_sequences(texts)\n",
    "\n",
    "word_index = tokenizer.word_index\n",
    "print('Found %s unique tokens.' % len(word_index))\n",
    "\n",
    "data = pad_sequences(sequences, maxlen=maxlen)\n",
    "\n",
    "labels = np.asarray(labels)\n",
    "print('Shape of data tensor:', data.shape)\n",
    "print('Shape of label tensor:', labels.shape)\n",
    "\n",
    "# Split the data into a training set and a validation set\n",
    "# But first, shuffle the data, since we started from data\n",
    "# where sample are ordered (all negative first, then all positive).\n",
    "indices = np.arange(data.shape[0])\n",
    "np.random.shuffle(indices)\n",
    "data = data[indices]\n",
    "labels = labels[indices]\n",
    "\n",
    "x_train = data[:training_samples]\n",
    "y_train = labels[:training_samples]\n",
    "x_val = data[training_samples: training_samples + validation_samples]\n",
    "y_val = labels[training_samples: training_samples + validation_samples]"
   ]
  },
  {
   "cell_type": "markdown",
   "metadata": {
    "slideshow": {
     "slide_type": "slide"
    }
   },
   "source": [
    "Download the GloVe embeddings from 2014 English Wikipedia `https://nlp.stanford.edu/projects/glove/` \n",
    "\n",
    "Unzip and preprocess "
   ]
  },
  {
   "cell_type": "code",
   "execution_count": 9,
   "metadata": {
    "slideshow": {
     "slide_type": "slide"
    }
   },
   "outputs": [
    {
     "name": "stdout",
     "output_type": "stream",
     "text": [
      "Found 400000 word vectors.\n"
     ]
    }
   ],
   "source": [
    "glove_dir = '/Users/timblackwell/Documents/Goldsmiths/2021/Data Science/data/glove'\n",
    "\n",
    "embeddings_index = {}\n",
    "f = open(os.path.join(glove_dir, 'glove.6B.100d.txt'))\n",
    "for line in f:\n",
    "    values = line.split()\n",
    "    word = values[0]\n",
    "    coefs = np.asarray(values[1:], dtype='float32')\n",
    "    embeddings_index[word] = coefs\n",
    "f.close()\n",
    "\n",
    "print('Found %s word vectors.' % len(embeddings_index))"
   ]
  },
  {
   "cell_type": "markdown",
   "metadata": {
    "slideshow": {
     "slide_type": "slide"
    }
   },
   "source": [
    "Build an embedding matrix of shape `(max_words, embedding_dim)` ready to load into an `Embedding` layer"
   ]
  },
  {
   "cell_type": "code",
   "execution_count": 10,
   "metadata": {},
   "outputs": [],
   "source": [
    "embedding_dim = 100\n",
    "\n",
    "embedding_matrix = np.zeros((max_words, embedding_dim))\n",
    "for word, i in word_index.items():\n",
    "    embedding_vector = embeddings_index.get(word)\n",
    "    if i < max_words:\n",
    "        if embedding_vector is not None:\n",
    "            # Words not found in embedding index will be all-zeros.\n",
    "            embedding_matrix[i] = embedding_vector"
   ]
  },
  {
   "cell_type": "markdown",
   "metadata": {
    "slideshow": {
     "slide_type": "slide"
    }
   },
   "source": [
    "Define a model"
   ]
  },
  {
   "cell_type": "code",
   "execution_count": null,
   "metadata": {
    "slideshow": {
     "slide_type": "slide"
    }
   },
   "outputs": [],
   "source": [
    "from tensorflow.keras.models import Sequential\n",
    "from tensorflow.keras.layers import Embedding, Flatten, Dense\n",
    "\n",
    "model = Sequential()\n",
    "model.add(Embedding(max_words, embedding_dim, input_length=maxlen))\n",
    "model.add(Flatten())\n",
    "model.add(Dense(32, activation='relu'))\n",
    "model.add(Dense(1, activation='sigmoid'))"
   ]
  },
  {
   "cell_type": "code",
   "execution_count": 11,
   "metadata": {
    "slideshow": {
     "slide_type": "slide"
    }
   },
   "outputs": [
    {
     "name": "stdout",
     "output_type": "stream",
     "text": [
      "Model: \"sequential_1\"\n",
      "_________________________________________________________________\n",
      "Layer (type)                 Output Shape              Param #   \n",
      "=================================================================\n",
      "embedding_2 (Embedding)      (None, 100, 100)          1000000   \n",
      "_________________________________________________________________\n",
      "flatten_1 (Flatten)          (None, 10000)             0         \n",
      "_________________________________________________________________\n",
      "dense_1 (Dense)              (None, 32)                320032    \n",
      "_________________________________________________________________\n",
      "dense_2 (Dense)              (None, 1)                 33        \n",
      "=================================================================\n",
      "Total params: 1,320,065\n",
      "Trainable params: 1,320,065\n",
      "Non-trainable params: 0\n",
      "_________________________________________________________________\n"
     ]
    }
   ],
   "source": [
    "model.summary()"
   ]
  },
  {
   "cell_type": "markdown",
   "metadata": {
    "slideshow": {
     "slide_type": "slide"
    }
   },
   "source": [
    "Load GloVe embeddings\n",
    "\n",
    "and freeze the embedding layer (just as we did for the pretrained convents, and for the same reasons): "
   ]
  },
  {
   "cell_type": "code",
   "execution_count": 12,
   "metadata": {},
   "outputs": [],
   "source": [
    "model.layers[0].set_weights([embedding_matrix])\n",
    "model.layers[0].trainable = False"
   ]
  },
  {
   "cell_type": "markdown",
   "metadata": {
    "slideshow": {
     "slide_type": "slide"
    }
   },
   "source": [
    "Train and save model:"
   ]
  },
  {
   "cell_type": "code",
   "execution_count": 13,
   "metadata": {},
   "outputs": [
    {
     "name": "stdout",
     "output_type": "stream",
     "text": [
      "Epoch 1/10\n",
      "7/7 [==============================] - 0s 58ms/step - loss: 1.8822 - acc: 0.5850 - val_loss: 0.9960 - val_acc: 0.5052\n",
      "Epoch 2/10\n",
      "7/7 [==============================] - 0s 46ms/step - loss: 0.6972 - acc: 0.6650 - val_loss: 0.9531 - val_acc: 0.5056\n",
      "Epoch 3/10\n",
      "7/7 [==============================] - 0s 46ms/step - loss: 0.4817 - acc: 0.7550 - val_loss: 1.3907 - val_acc: 0.5053\n",
      "Epoch 4/10\n",
      "7/7 [==============================] - 0s 46ms/step - loss: 0.3363 - acc: 0.8850 - val_loss: 0.7229 - val_acc: 0.5519\n",
      "Epoch 5/10\n",
      "7/7 [==============================] - 0s 46ms/step - loss: 0.4206 - acc: 0.8250 - val_loss: 0.8141 - val_acc: 0.5348\n",
      "Epoch 6/10\n",
      "7/7 [==============================] - 0s 47ms/step - loss: 0.0958 - acc: 0.9950 - val_loss: 1.2222 - val_acc: 0.5124\n",
      "Epoch 7/10\n",
      "7/7 [==============================] - 0s 56ms/step - loss: 0.1780 - acc: 0.9250 - val_loss: 0.8222 - val_acc: 0.5464\n",
      "Epoch 8/10\n",
      "7/7 [==============================] - 0s 49ms/step - loss: 0.0416 - acc: 1.0000 - val_loss: 0.7819 - val_acc: 0.5592\n",
      "Epoch 9/10\n",
      "7/7 [==============================] - 0s 56ms/step - loss: 0.0291 - acc: 1.0000 - val_loss: 0.7596 - val_acc: 0.5730\n",
      "Epoch 10/10\n",
      "7/7 [==============================] - 0s 53ms/step - loss: 0.0226 - acc: 1.0000 - val_loss: 1.4591 - val_acc: 0.5160\n"
     ]
    }
   ],
   "source": [
    "model.compile(optimizer='rmsprop',\n",
    "              loss='binary_crossentropy',\n",
    "              metrics=['acc'])\n",
    "history = model.fit(x_train, y_train,\n",
    "                    epochs=10,\n",
    "                    batch_size=32,\n",
    "                    validation_data=(x_val, y_val))\n",
    "model.save_weights('pre_trained_glove_model.h5')"
   ]
  },
  {
   "cell_type": "markdown",
   "metadata": {
    "slideshow": {
     "slide_type": "slide"
    }
   },
   "source": [
    "Plot results:"
   ]
  },
  {
   "cell_type": "code",
   "execution_count": null,
   "metadata": {
    "slideshow": {
     "slide_type": "skip"
    }
   },
   "outputs": [],
   "source": [
    "import matplotlib.pyplot as plt\n",
    "\n",
    "acc = history.history['acc']\n",
    "val_acc = history.history['val_acc']\n",
    "loss = history.history['loss']\n",
    "val_loss = history.history['val_loss']\n",
    "\n",
    "epochs = range(1, len(acc) + 1)\n",
    "\n",
    "plt.plot(epochs, acc, 'bo', label='Training acc')\n",
    "plt.plot(epochs, val_acc, 'b', label='Validation acc')\n",
    "plt.title('Training and validation accuracy')\n",
    "plt.legend()\n",
    "\n",
    "plt.figure()\n",
    "\n",
    "plt.plot(epochs, loss, 'bo', label='Training loss')\n",
    "plt.plot(epochs, val_loss, 'b', label='Validation loss')\n",
    "plt.title('Training and validation loss')\n",
    "plt.legend()"
   ]
  },
  {
   "cell_type": "code",
   "execution_count": 14,
   "metadata": {
    "slideshow": {
     "slide_type": "slide"
    }
   },
   "outputs": [
    {
     "data": {
      "image/png": "[encoded data removed]",
      "text/plain": [
       "<Figure size 432x288 with 1 Axes>"
      ]
     },
     "metadata": {
      "needs_background": "light"
     },
     "output_type": "display_data"
    },
    {
     "data": {
      "image/png": "[encoded data removed]",
      "text/plain": [
       "<Figure size 432x288 with 1 Axes>"
      ]
     },
     "metadata": {
      "needs_background": "light"
     },
     "output_type": "display_data"
    }
   ],
   "source": [
    "plt.show()"
   ]
  },
  {
   "cell_type": "markdown",
   "metadata": {
    "slideshow": {
     "slide_type": "slide"
    }
   },
   "source": [
    "Overfits and validation accuracy has high variance, as expected (a very small training set)\n",
    "\n",
    "\n",
    "Let's compare the performance of this model to training the embedding weights for the task in hand \n",
    "\n",
    "=> generally more powerful than pretrained word embeddings if dataset is copious\n",
    "\n",
    "We have only 200 training samples... "
   ]
  },
  {
   "cell_type": "code",
   "execution_count": null,
   "metadata": {
    "slideshow": {
     "slide_type": "slide"
    }
   },
   "outputs": [],
   "source": [
    "from tensorflow.keras.models import Sequential\n",
    "from tensorflow.keras.layers import Embedding, Flatten, Dense\n",
    "\n",
    "model = Sequential()\n",
    "model.add(Embedding(max_words, embedding_dim, input_length=maxlen))\n",
    "model.add(Flatten())\n",
    "model.add(Dense(32, activation='relu'))\n",
    "model.add(Dense(1, activation='sigmoid'))"
   ]
  },
  {
   "cell_type": "code",
   "execution_count": 15,
   "metadata": {
    "scrolled": true,
    "slideshow": {
     "slide_type": "slide"
    }
   },
   "outputs": [
    {
     "name": "stdout",
     "output_type": "stream",
     "text": [
      "Model: \"sequential_2\"\n",
      "_________________________________________________________________\n",
      "Layer (type)                 Output Shape              Param #   \n",
      "=================================================================\n",
      "embedding_3 (Embedding)      (None, 100, 100)          1000000   \n",
      "_________________________________________________________________\n",
      "flatten_2 (Flatten)          (None, 10000)             0         \n",
      "_________________________________________________________________\n",
      "dense_3 (Dense)              (None, 32)                320032    \n",
      "_________________________________________________________________\n",
      "dense_4 (Dense)              (None, 1)                 33        \n",
      "=================================================================\n",
      "Total params: 1,320,065\n",
      "Trainable params: 1,320,065\n",
      "Non-trainable params: 0\n",
      "_________________________________________________________________\n",
      "Epoch 1/10\n",
      "7/7 [==============================] - 1s 73ms/step - loss: 0.6934 - acc: 0.5200 - val_loss: 0.6924 - val_acc: 0.5177\n",
      "Epoch 2/10\n",
      "7/7 [==============================] - 0s 51ms/step - loss: 0.5066 - acc: 0.9950 - val_loss: 0.6989 - val_acc: 0.5120\n",
      "Epoch 3/10\n",
      "7/7 [==============================] - 0s 59ms/step - loss: 0.2801 - acc: 1.0000 - val_loss: 0.6975 - val_acc: 0.5234\n",
      "Epoch 4/10\n",
      "7/7 [==============================] - 0s 52ms/step - loss: 0.1182 - acc: 1.0000 - val_loss: 0.7122 - val_acc: 0.5293\n",
      "Epoch 5/10\n",
      "7/7 [==============================] - 0s 57ms/step - loss: 0.0536 - acc: 1.0000 - val_loss: 0.7067 - val_acc: 0.5218\n",
      "Epoch 6/10\n",
      "7/7 [==============================] - 0s 51ms/step - loss: 0.0278 - acc: 1.0000 - val_loss: 0.7255 - val_acc: 0.5297\n",
      "Epoch 7/10\n",
      "7/7 [==============================] - 0s 65ms/step - loss: 0.0149 - acc: 1.0000 - val_loss: 0.7234 - val_acc: 0.5299\n",
      "Epoch 8/10\n",
      "7/7 [==============================] - 0s 64ms/step - loss: 0.0086 - acc: 1.0000 - val_loss: 0.7351 - val_acc: 0.5299\n",
      "Epoch 9/10\n",
      "7/7 [==============================] - 0s 55ms/step - loss: 0.0051 - acc: 1.0000 - val_loss: 0.7441 - val_acc: 0.5302\n",
      "Epoch 10/10\n",
      "7/7 [==============================] - 0s 55ms/step - loss: 0.0031 - acc: 1.0000 - val_loss: 0.7568 - val_acc: 0.5314\n"
     ]
    }
   ],
   "source": [
    "model.summary()\n",
    "model.compile(optimizer='rmsprop',\n",
    "              loss='binary_crossentropy',\n",
    "              metrics=['acc'])\n",
    "history = model.fit(x_train, y_train,\n",
    "                    epochs=10,\n",
    "                    batch_size=32,\n",
    "                    validation_data=(x_val, y_val))"
   ]
  },
  {
   "cell_type": "code",
   "execution_count": null,
   "metadata": {
    "slideshow": {
     "slide_type": "skip"
    }
   },
   "outputs": [],
   "source": [
    "acc = history.history['acc']\n",
    "val_acc = history.history['val_acc']\n",
    "loss = history.history['loss']\n",
    "val_loss = history.history['val_loss']\n",
    "\n",
    "epochs = range(1, len(acc) + 1)\n",
    "\n",
    "plt.plot(epochs, acc, 'bo', label='Training acc')\n",
    "plt.plot(epochs, val_acc, 'b', label='Validation acc')\n",
    "plt.title('Training and validation accuracy')\n",
    "plt.legend()\n",
    "\n",
    "plt.figure()\n",
    "\n",
    "plt.plot(epochs, loss, 'bo', label='Training loss')\n",
    "plt.plot(epochs, val_loss, 'b', label='Validation loss')\n",
    "plt.title('Training and validation loss')\n",
    "plt.legend()"
   ]
  },
  {
   "cell_type": "code",
   "execution_count": 16,
   "metadata": {
    "slideshow": {
     "slide_type": "slide"
    }
   },
   "outputs": [
    {
     "data": {
      "image/png": "[encoded data removed]",
      "text/plain": [
       "<Figure size 432x288 with 1 Axes>"
      ]
     },
     "metadata": {
      "needs_background": "light"
     },
     "output_type": "display_data"
    },
    {
     "data": {
      "image/png": "[encoded data removed]",
      "text/plain": [
       "<Figure size 432x288 with 1 Axes>"
      ]
     },
     "metadata": {
      "needs_background": "light"
     },
     "output_type": "display_data"
    }
   ],
   "source": [
    "plt.show()"
   ]
  },
  {
   "cell_type": "markdown",
   "metadata": {
    "slideshow": {
     "slide_type": "slide"
    }
   },
   "source": [
    "Validation accuracy stalls in the low 50s but the variance is low\n",
    "\n",
    "Pretrained word embeddings have outperformed jointly learned embeddings in this small data example \n",
    "\n",
    "IDEA: try increasing training dateaset size - jointly-learned embeddings should eventually conquer"
   ]
  },
  {
   "cell_type": "markdown",
   "metadata": {
    "slideshow": {
     "slide_type": "slide"
    }
   },
   "source": [
    "Let's tokenise the test data and evaluate the better model"
   ]
  },
  {
   "cell_type": "code",
   "execution_count": 17,
   "metadata": {
    "slideshow": {
     "slide_type": "skip"
    }
   },
   "outputs": [],
   "source": [
    "test_dir = os.path.join(imdb_dir, 'test')\n",
    "\n",
    "labels = []\n",
    "texts = []\n",
    "\n",
    "for label_type in ['neg', 'pos']:\n",
    "    dir_name = os.path.join(test_dir, label_type)\n",
    "    for fname in sorted(os.listdir(dir_name)):\n",
    "        if fname[-4:] == '.txt':\n",
    "            f = open(os.path.join(dir_name, fname))\n",
    "            texts.append(f.read())\n",
    "            f.close()\n",
    "            if label_type == 'neg':\n",
    "                labels.append(0)\n",
    "            else:\n",
    "                labels.append(1)\n",
    "\n",
    "sequences = tokenizer.texts_to_sequences(texts)\n",
    "x_test = pad_sequences(sequences, maxlen=maxlen)\n",
    "y_test = np.asarray(labels)"
   ]
  },
  {
   "cell_type": "markdown",
   "metadata": {
    "slideshow": {
     "slide_type": "slide"
    }
   },
   "source": [
    "Load and evaluate the first model:"
   ]
  },
  {
   "cell_type": "code",
   "execution_count": 18,
   "metadata": {},
   "outputs": [
    {
     "name": "stdout",
     "output_type": "stream",
     "text": [
      "782/782 [==============================] - 1s 1ms/step - loss: 1.4892 - acc: 0.5127\n"
     ]
    },
    {
     "data": {
      "text/plain": [
       "[1.489208698272705, 0.512719988822937]"
      ]
     },
     "execution_count": 18,
     "metadata": {},
     "output_type": "execute_result"
    }
   ],
   "source": [
    "model.load_weights('pre_trained_glove_model.h5')\n",
    "model.evaluate(x_test, y_test)"
   ]
  },
  {
   "cell_type": "markdown",
   "metadata": {
    "slideshow": {
     "slide_type": "slide"
    }
   },
   "source": [
    "Test accuracy only narrowly beats a commonsense baseline!\n",
    "\n",
    "DL is really struggling with this small dataset"
   ]
  },
  {
   "cell_type": "markdown",
   "metadata": {
    "slideshow": {
     "slide_type": "slide"
    }
   },
   "source": [
    "----"
   ]
  },
  {
   "cell_type": "markdown",
   "metadata": {
    "slideshow": {
     "slide_type": "slide"
    }
   },
   "source": [
    "## 6.140 Wrapping up\n",
    "\n",
    "- Raw text must be processed into an acceptable form for neural network input\n",
    "- Train task-specific embeddings with the `Embedding` layer\n",
    "- Pretrained embeddings preferred for small data tasks"
   ]
  },
  {
   "cell_type": "markdown",
   "metadata": {
    "slideshow": {
     "slide_type": "slide"
    }
   },
   "source": [
    "----"
   ]
  },
  {
   "cell_type": "markdown",
   "metadata": {
    "slideshow": {
     "slide_type": "skip"
    }
   },
   "source": [
    "MIT Licence\n",
    " \n",
    "Copyright (c) 2017-present François Chollet\n",
    " \n",
    "Permission is hereby granted, free of charge, to any person obtaining a copy\n",
    "of this software and associated documentation files (the \"Software\"), to deal\n",
    "in the Software without restriction, including without limitation the rights\n",
    "to use, copy, modify, merge, publish, distribute, sublicense, and/or sell\n",
    "copies of the Software, and to permit persons to whom the Software is\n",
    "furnished to do so, subject to the following conditions:\n",
    " \n",
    "The above copyright notice and this permission notice shall be included in all\n",
    "copies or substantial portions of the Software.\n",
    " \n",
    "THE SOFTWARE IS PROVIDED \"AS IS\", WITHOUT WARRANTY OF ANY KIND, EXPRESS OR\n",
    "IMPLIED, INCLUDING BUT NOT LIMITED TO THE WARRANTIES OF MERCHANTABILITY,\n",
    "FITNESS FOR A PARTICULAR PURPOSE AND NONINFRINGEMENT. IN NO EVENT SHALL THE\n",
    "AUTHORS OR COPYRIGHT HOLDERS BE LIABLE FOR ANY CLAIM, DAMAGES OR OTHER\n",
    "LIABILITY, WHETHER IN AN ACTION OF CONTRACT, TORT OR OTHERWISE, ARISING FROM,\n",
    "OUT OF OR IN CONNECTION WITH THE SOFTWARE OR THE USE OR OTHER DEALINGS IN THE\n",
    "SOFTWARE."
   ]
  }
 ],
 "metadata": {
  "celltoolbar": "Slideshow",
  "kernelspec": {
   "display_name": "Python 3",
   "language": "python",
   "name": "python3"
  },
  "language_info": {
   "codemirror_mode": {
    "name": "ipython",
    "version": 3
   },
   "file_extension": ".py",
   "mimetype": "text/x-python",
   "name": "python",
   "nbconvert_exporter": "python",
   "pygments_lexer": "ipython3",
   "version": "3.8.5"
  }
 },
 "nbformat": 4,
 "nbformat_minor": 2
}
