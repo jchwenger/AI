{
 "cells": [
  {
   "cell_type": "markdown",
   "metadata": {
    "slideshow": {
     "slide_type": "slide"
    }
   },
   "source": [
    "Data in a 2D array is accessed with two indices\n",
    "\n",
    "- analogous to mathematical matrices\n",
    "\n",
    "- the size of a matrix is the number of rows and columns"
   ]
  },
  {
   "cell_type": "markdown",
   "metadata": {
    "slideshow": {
     "slide_type": "notes"
    }
   },
   "source": [
    "Data in a 2D array is accessed with two indices. 2D arrays are analogous to mathematical matrices - the 'size' of a matrix is the number of rows and columns."
   ]
  },
  {
   "cell_type": "markdown",
   "metadata": {
    "slideshow": {
     "slide_type": "slide"
    }
   },
   "source": [
    "\\begin{eqnarray}\n",
    "x = \\begin{pmatrix}\n",
    "1 & 2 & 3 \\\\\n",
    "4 & 5 & 6 \n",
    "\\end{pmatrix}\n",
    "\\end{eqnarray}\n",
    "\n",
    "A matrix of size 2 x 3\n",
    "\n",
    "- two rows and three columns"
   ]
  },
  {
   "cell_type": "markdown",
   "metadata": {
    "slideshow": {
     "slide_type": "notes"
    }
   },
   "source": [
    "A matrix of size 2 by 3 - two rows and three columns"
   ]
  },
  {
   "cell_type": "code",
   "execution_count": 1,
   "metadata": {
    "slideshow": {
     "slide_type": "slide"
    }
   },
   "outputs": [
    {
     "name": "stdout",
     "output_type": "stream",
     "text": [
      "x:  [[1, 2, 3], [4, 5, 6]] \n",
      "\n",
      "a: [1, 2, 3]\n",
      "b: [4, 5, 6]\n",
      "[a, b]:  [[1, 2, 3], [4, 5, 6]]\n"
     ]
    }
   ],
   "source": [
    "# python 2D array\n",
    "x = [[1, 2, 3], \n",
    "     [4, 5, 6]]\n",
    "print('x: ', x, '\\n')\n",
    "\n",
    "# an array of vectors\n",
    "a = [1, 2, 3]\n",
    "b = [4, 5, 6]\n",
    "print('a:', a)\n",
    "print('b:', b)\n",
    "print('[a, b]: ', [a, b]) "
   ]
  },
  {
   "cell_type": "markdown",
   "metadata": {
    "slideshow": {
     "slide_type": "notes"
    }
   },
   "source": [
    "Python 2D arrays are lists of lists. `x` is constructed by nesting lists directly, or by creating and then stacking two lists `a` and `b`."
   ]
  },
  {
   "cell_type": "code",
   "execution_count": 2,
   "metadata": {
    "slideshow": {
     "slide_type": "slide"
    }
   },
   "outputs": [
    {
     "name": "stdout",
     "output_type": "stream",
     "text": [
      "x: \n",
      " [[1 2 3]\n",
      " [4 5 6]] \trank: 2 \n",
      "\n",
      "x[0]: [1 2 3] \trank: 1\n"
     ]
    }
   ],
   "source": [
    "# numpy 2D array\n",
    "import numpy as np\n",
    "x = np.array([[1, 2, 3], \n",
    "              [4, 5, 6]])\n",
    "\n",
    "print('x: \\n', x, '\\trank:', x.ndim, '\\n') \n",
    "print('x[0]:', x[0], '\\trank:', x[0].ndim)"
   ]
  },
  {
   "cell_type": "markdown",
   "metadata": {
    "slideshow": {
     "slide_type": "notes"
    }
   },
   "source": [
    "Rank 2 tensor formation is similar in Numpy - nested lists - except the Python structure is passed to `np.array`. `x[0]` and `x[1]` retreive matrix rows as rank 1 tensors or vectors. "
   ]
  },
  {
   "cell_type": "code",
   "execution_count": 3,
   "metadata": {
    "slideshow": {
     "slide_type": "slide"
    }
   },
   "outputs": [
    {
     "name": "stdout",
     "output_type": "stream",
     "text": [
      "x:\n",
      " [[[ 1  2]\n",
      "  [ 3  4]]\n",
      "\n",
      " [[ 5  6]\n",
      "  [ 7  8]]\n",
      "\n",
      " [[ 9 10]\n",
      "  [11 12]]] \trank: 3\n"
     ]
    }
   ],
   "source": [
    "# a rank 3 tensor\n",
    "x = np.array([[[1, 2], \n",
    "               [3, 4]],\n",
    "              \n",
    "              [[5, 6], \n",
    "               [7, 8]],\n",
    "              \n",
    "              [[9, 10], \n",
    "               [11, 12]]])\n",
    "\n",
    "print('x:\\n', x, '\\trank:', x.ndim) "
   ]
  },
  {
   "cell_type": "markdown",
   "metadata": {
    "slideshow": {
     "slide_type": "notes"
    }
   },
   "source": [
    "Creating rank 3 tensors is a little hairy - difficult to get all the brackets matched. But the idea is clear: a vector of 2D arrays. "
   ]
  },
  {
   "cell_type": "code",
   "execution_count": 4,
   "metadata": {
    "slideshow": {
     "slide_type": "slide"
    }
   },
   "outputs": [
    {
     "name": "stdout",
     "output_type": "stream",
     "text": [
      "x: \n",
      " [[[ 1  2]\n",
      "  [ 3  4]]\n",
      "\n",
      " [[ 5  6]\n",
      "  [ 7  8]]\n",
      "\n",
      " [[ 9 10]\n",
      "  [11 12]]] \n",
      "\n",
      "\n",
      "x[2]:\n",
      " [[ 9 10]\n",
      " [11 12]] \trank: 2\n"
     ]
    }
   ],
   "source": [
    "# one index selects a 2D array\n",
    "print('x: \\n', x, '\\n\\n') \n",
    "print('x[2]:\\n', x[2], '\\trank:', x[2].ndim)"
   ]
  },
  {
   "cell_type": "markdown",
   "metadata": {
    "slideshow": {
     "slide_type": "notes"
    }
   },
   "source": [
    "One index selects a 2D array."
   ]
  },
  {
   "cell_type": "code",
   "execution_count": 5,
   "metadata": {
    "slideshow": {
     "slide_type": "slide"
    }
   },
   "outputs": [
    {
     "name": "stdout",
     "output_type": "stream",
     "text": [
      "x: \n",
      " [[[ 1  2]\n",
      "  [ 3  4]]\n",
      "\n",
      " [[ 5  6]\n",
      "  [ 7  8]]\n",
      "\n",
      " [[ 9 10]\n",
      "  [11 12]]] \n",
      "\n",
      " x[2][0]:  [ 9 10] \trank: 1\n"
     ]
    }
   ],
   "source": [
    "# two indices select a vector\n",
    "print('x: \\n', x, '\\n\\n', \n",
    "       'x[2][0]: ', x[2][0], '\\trank:', x[2][0].ndim)"
   ]
  },
  {
   "cell_type": "markdown",
   "metadata": {
    "slideshow": {
     "slide_type": "notes"
    }
   },
   "source": [
    "Two indices select a vector."
   ]
  },
  {
   "cell_type": "code",
   "execution_count": 6,
   "metadata": {
    "slideshow": {
     "slide_type": "slide"
    }
   },
   "outputs": [
    {
     "name": "stdout",
     "output_type": "stream",
     "text": [
      "x: \n",
      " [[[ 1  2]\n",
      "  [ 3  4]]\n",
      "\n",
      " [[ 5  6]\n",
      "  [ 7  8]]\n",
      "\n",
      " [[ 9 10]\n",
      "  [11 12]]] \n",
      "\n",
      "x[2][0][1]: 10\n"
     ]
    }
   ],
   "source": [
    "# three indices select a scalar - a single element\n",
    "print('x: \\n', x, '\\n\\n'\n",
    "      'x[2][0][1]:', x[2][0][1])"
   ]
  },
  {
   "cell_type": "markdown",
   "metadata": {
    "slideshow": {
     "slide_type": "notes"
    }
   },
   "source": [
    " Three indices select a scalar - a single element."
   ]
  }
 ],
 "metadata": {
  "celltoolbar": "Slideshow",
  "kernelspec": {
   "display_name": "Python 3",
   "language": "python",
   "name": "python3"
  },
  "language_info": {
   "codemirror_mode": {
    "name": "ipython",
    "version": 3
   },
   "file_extension": ".py",
   "mimetype": "text/x-python",
   "name": "python",
   "nbconvert_exporter": "python",
   "pygments_lexer": "ipython3",
   "version": "3.8.5"
  }
 },
 "nbformat": 4,
 "nbformat_minor": 4
}
