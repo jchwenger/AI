{
 "cells": [
  {
   "cell_type": "markdown",
   "metadata": {
    "slideshow": {
     "slide_type": "slide"
    }
   },
   "source": [
    "The gradient tensor is written $\\nabla f$\n",
    "\n",
    "The loss function is at a minimum when $w$ and $b$ are solutions of $\\nabla f = 0$"
   ]
  },
  {
   "cell_type": "markdown",
   "metadata": {
    "slideshow": {
     "slide_type": "notes"
    }
   },
   "source": [
    "The gradient of the loss with respect the weights and biases is written with this upside down triangle. The loss is at a minimum when the gradient is zero - at the bottom of the slope, when the the ground levels."
   ]
  },
  {
   "cell_type": "markdown",
   "metadata": {
    "slideshow": {
     "slide_type": "slide"
    }
   },
   "source": [
    "There may be more than one solution; check one against the other\n",
    "\n",
    "The computation is prohibitively expensive\n",
    "\n",
    "Instead use an iterative scheme"
   ]
  },
  {
   "cell_type": "markdown",
   "metadata": {
    "slideshow": {
     "slide_type": "notes"
    }
   },
   "source": [
    "So all we have to do is solve for gradient of $f$ equals zero. Apart from the likelihood that there are many solutions - in which case we would have to compare one against the other - the computation is effectively impossible. Instead, we employ an iterative scheme that gets closer and closer to the solution in small steps. "
   ]
  },
  {
   "cell_type": "markdown",
   "metadata": {
    "slideshow": {
     "slide_type": "slide"
    }
   },
   "source": [
    "**Training Loop**\n",
    "0. Fill weight and bias tensors with small random values\n",
    "1. Draw a mini-batch of training samples and corresponding labels\n",
    "2. Forward pass\n",
    "3. Calculate the loss \n",
    "4. Update all parameters to lower the loss on this mini-batch\n",
    "5. Exit or return to 1."
   ]
  },
  {
   "cell_type": "markdown",
   "metadata": {
    "slideshow": {
     "slide_type": "notes"
    }
   },
   "source": [
    "Here is the training loop again. The optimiser implements step 4."
   ]
  },
  {
   "cell_type": "markdown",
   "metadata": {
    "slideshow": {
     "slide_type": "slide"
    }
   },
   "source": [
    "4. `w -= step * w_gradient`, `b -= step * b_gradient` \n",
    "\n",
    "\\begin{align*}\n",
    "w &= w - \\eta \\nabla_w f \\\\\n",
    "b &= b - \\eta \\nabla_b f\n",
    "\\end{align*}\n",
    "\n",
    "$\\eta$ is a small step size known as the **learning rate**"
   ]
  },
  {
   "cell_type": "markdown",
   "metadata": {
    "slideshow": {
     "slide_type": "notes"
    }
   },
   "source": [
    "Here (at last!) is the algorithm. The gradient in the $w$ and $b$ directions is scaled by a small parameter known as the learning rate. The scaled gradient is then subtracted from the current parameter values - a small steop downhill."
   ]
  },
  {
   "cell_type": "markdown",
   "metadata": {
    "slideshow": {
     "slide_type": "slide"
    }
   },
   "source": [
    "The loss is the combined losses of each sample in the entire training set (the batch)\n",
    "\n",
    "Batch gradient descent is still prohibitively expensive\n",
    "\n",
    "Instead, calculate the loss and gradient for small, randomly selected subsets of the training set - **stochastic gradient descent**"
   ]
  },
  {
   "cell_type": "markdown",
   "metadata": {
    "slideshow": {
     "slide_type": "notes"
    }
   },
   "source": [
    "The true loss is the combined losses of each sample in the entire training set - the batch. But even batch gradient descent is prohibitively expensive. Instead, the loss and gradient for small, randomly selected subsets of the training set is calculated. This is the 'stochastic' in **stochastic gradient descent** - the loss is approximated by the mini-batch loss. "
   ]
  },
  {
   "cell_type": "code",
   "execution_count": 1,
   "metadata": {
    "slideshow": {
     "slide_type": "skip"
    }
   },
   "outputs": [],
   "source": [
    "import numpy as np\n",
    "def f(x, x_1, x_2, x_3, x_4):\n",
    "    return (x - x_1) * (x - x_2) * (x - x_3) * (x - x_4)\n",
    "\n",
    "def plot_loss():\n",
    "    x = np.linspace(0, 10, num=101)\n",
    "    x_1, x_2, x_3, x_4 = 0, 4, 7, 8\n",
    "    y = f(x, x_1, x_2, x_3, x_4)\n",
    "\n",
    "    import matplotlib.pyplot as plt\n",
    "    plt.plot(x, y + 150)\n",
    "    plt.figtext(0.2, 0.25, 'Global\\nminimum', fontsize='large')\n",
    "    plt.figtext(0.6, 0.4, 'Local\\nminimum', fontsize='large')\n",
    "\n",
    "    ax = plt.gca()\n",
    "    ax.spines['right'].set_visible(False)\n",
    "    ax.spines['top'].set_visible(False)\n",
    "    ax.yaxis.set_ticks_position('left')\n",
    "    ax.xaxis.set_ticks_position('bottom')"
   ]
  },
  {
   "cell_type": "code",
   "execution_count": 2,
   "metadata": {
    "slideshow": {
     "slide_type": "slide"
    }
   },
   "outputs": [
    {
     "data": {
      "image/png": "[encoded data removed]",
      "text/plain": [
       "<Figure size 432x288 with 1 Axes>"
      ]
     },
     "metadata": {
      "needs_background": "light"
     },
     "output_type": "display_data"
    }
   ],
   "source": [
    "plot_loss()"
   ]
  },
  {
   "cell_type": "markdown",
   "metadata": {
    "slideshow": {
     "slide_type": "notes"
    }
   },
   "source": [
    "This is a simple 1D loss function. We can see that there are two places where the gradient is zero - at the 'local' and 'global' minimum. Imagine that the weights and biases are the coordinates of a ball. Stochastic gradient descent - SGD - is equivalent to rolling the ball downhill in small steps. \n",
    "\n",
    "The ball might get stuck in the local minimum if the step size is too small - overshooting the minimum spot at each iteration and never climbing the barrier between the minimums.\n",
    "\n",
    "But the ball would never find any minimum if the step size is too large. \n",
    "\n",
    "There is no way of knowing the optimal step size because we never know what the loss landscape looks like."
   ]
  },
  {
   "cell_type": "markdown",
   "metadata": {
    "slideshow": {
     "slide_type": "slide"
    }
   },
   "source": [
    "TensorFlow.Keras offers several **optimisers** SGD, Adagrad, RMSprop\n",
    "\n",
    "Many optimsers use **momentum** to avoid getting stuck in a local optimum"
   ]
  },
  {
   "cell_type": "markdown",
   "metadata": {
    "slideshow": {
     "slide_type": "notes"
    }
   },
   "source": [
    "TensorFlow has several optimisers - SGD, Adagrad, RMSprop and so on, and you can even create your own - in which case you will probably need that Gradient Tape code. All inbuilt optimisers implement various forms of SGD. We have the option of setting a learning rate or using the default value. Many optimisers attempt to avoid the local optimum problem by employing 'momentum'. "
   ]
  },
  {
   "cell_type": "markdown",
   "metadata": {
    "slideshow": {
     "slide_type": "slide"
    }
   },
   "source": [
    "Particle dynamics:\n",
    "    \n",
    "$\\begin{cases}\n",
    "v(t + \\Delta t) = v(t) + a(t) \\Delta t\\\\\n",
    "x(t + \\Delta t) = x(t) + v(t) \\Delta t\n",
    "\\end{cases}$\n",
    "    \n",
    "Or, with $\\Delta t = 1$\n",
    "    \n",
    "$\\begin{cases}\n",
    "v(t + 1) = v(t) + a(t) \\\\\n",
    "x(t + 1) = x(t) + v(t + 1) \n",
    "\\end{cases}$\n",
    "    \n",
    "   "
   ]
  },
  {
   "cell_type": "markdown",
   "metadata": {
    "slideshow": {
     "slide_type": "notes"
    }
   },
   "source": [
    "Momentum is understood from the ball on slope analogy. The discretised dynamics of a particle - or ball - is governed by these update rules. An acceleration, $a$, is added to the velocity, $v$ and the velocity is added to position, $x$."
   ]
  },
  {
   "cell_type": "markdown",
   "metadata": {
    "slideshow": {
     "slide_type": "slide"
    }
   },
   "source": [
    "The acceleration of a ball has two parts: friction and gradient\n",
    "\n",
    "\\begin{align*}\n",
    "a(t) = (\\alpha - 1)v(t) - \\eta \\nabla f,\\quad  \\alpha \\in [0, 1]\n",
    "\\end{align*}\n",
    "    \n",
    "\\begin{align*}\n",
    "\\begin{cases}\n",
    "v(t + 1) &= v(t) + (\\alpha - 1)v(t)  - \\eta \\nabla f \\\\\n",
    "         &= \\alpha v(t) - \\eta \\nabla f  \\\\\n",
    "x(t + 1) &= x(t) + v(t + 1) \n",
    "\\end{cases}\n",
    "\\end{align*}"
   ]
  },
  {
   "cell_type": "markdown",
   "metadata": {
    "slideshow": {
     "slide_type": "notes"
    }
   },
   "source": [
    "The acceleration of a ball on a slope has two parts: friction and gradient. The negative gradient is the downwards force and the opposing friction is proportional to velocity. $\\alpha - 1$ is the coefficient of friction and takes values between 0 and 1. The algebra yields a simple result: the velocity is scaled by $\\alpha$ and added to the learning rate times the negative gradient  "
   ]
  },
  {
   "cell_type": "markdown",
   "metadata": {
    "slideshow": {
     "slide_type": "slide"
    }
   },
   "source": [
    "$\\begin{cases}\n",
    "\\Delta w(t + 1) = \\alpha \\Delta w(t) - \\eta \\nabla f  \\\\\n",
    "w(t + 1) = w(t) + \\Delta w(t + 1) \n",
    "\\end{cases}$\n",
    "\n",
    "And similarly for $b$"
   ]
  },
  {
   "cell_type": "markdown",
   "metadata": {
    "slideshow": {
     "slide_type": "notes"
    }
   },
   "source": [
    "$w$ and $b$ are updated as if they were the coordinates of a ball sliding down a rough slope. $\\Delta w$ and $\\Delta b$, the difference in positions over one time step, are velocity components. This scheme is called momentum because the $\\alpha \\Delta w$ term reinforces motion along the direction of the last change, like the momentum of a moving object.  "
   ]
  },
  {
   "cell_type": "markdown",
   "metadata": {
    "slideshow": {
     "slide_type": "slide"
    }
   },
   "source": [
    "```\n",
    "delta_w = 0\n",
    "loop:\n",
    "  delta_w = alpha * delta_w - eta * gradient\n",
    "  w = w + delta_w\n",
    "```"
   ]
  },
  {
   "cell_type": "markdown",
   "metadata": {
    "slideshow": {
     "slide_type": "notes"
    }
   },
   "source": [
    "The momentum SGD algorithm as pseudocode. Parameter - $w$ and $b$ - update is controlled by $\\alpha$ and the learning rate. The idea is that momentum carries the ball - $w$ and $b$ - over the barrier between the local and global optimum. "
   ]
  }
 ],
 "metadata": {
  "celltoolbar": "Slideshow",
  "kernelspec": {
   "display_name": "Python 3 (ipykernel)",
   "language": "python",
   "name": "python3"
  },
  "language_info": {
   "codemirror_mode": {
    "name": "ipython",
    "version": 3
   },
   "file_extension": ".py",
   "mimetype": "text/x-python",
   "name": "python",
   "nbconvert_exporter": "python",
   "pygments_lexer": "ipython3",
   "version": "3.7.7"
  }
 },
 "nbformat": 4,
 "nbformat_minor": 4
}
