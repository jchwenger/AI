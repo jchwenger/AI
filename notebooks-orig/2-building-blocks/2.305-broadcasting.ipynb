{
 "cells": [
  {
   "cell_type": "markdown",
   "metadata": {
    "slideshow": {
     "slide_type": "slide"
    }
   },
   "source": [
    "Broadcasting can enable element-wise operations between tensors of different shape"
   ]
  },
  {
   "cell_type": "markdown",
   "metadata": {
    "slideshow": {
     "slide_type": "notes"
    }
   },
   "source": [
    "Broadcasting can enable element-wise operations between tensors of different shape."
   ]
  },
  {
   "cell_type": "markdown",
   "metadata": {
    "slideshow": {
     "slide_type": "slide"
    }
   },
   "source": [
    "Suppose we wish to element-wise multiply a tensor of shape (2, 3) by a tensor of shape (3,)\n",
    "\n",
    "A (2, 3) tensor is formed from the (3, ) tensor by duplicating along a broadcast axis"
   ]
  },
  {
   "cell_type": "markdown",
   "metadata": {
    "slideshow": {
     "slide_type": "notes"
    }
   },
   "source": [
    "Suppose we wish to element-wise multiply a tensor of shape (2, 3) by a tensor of shape (3,). A (2, 3) tensor is formed from the (3, ) tensor by duplicating along a 'broadcast axis'."
   ]
  },
  {
   "cell_type": "markdown",
   "metadata": {
    "slideshow": {
     "slide_type": "slide"
    }
   },
   "source": [
    "Element-wise multiplication can now proceed\n",
    "\n",
    "(Actually, broadcasting is efficiently achieved by appropriate loops)"
   ]
  },
  {
   "cell_type": "markdown",
   "metadata": {
    "slideshow": {
     "slide_type": "notes"
    }
   },
   "source": [
    "Element-wise multiplication can now proceed. Actually, broadcasting is efficiently achieved by appropriate loops rather than by expensive duplication, but we *think of it* as duplication."
   ]
  },
  {
   "cell_type": "markdown",
   "metadata": {
    "slideshow": {
     "slide_type": "slide"
    }
   },
   "source": [
    "\\begin{align*}\n",
    "\\begin{pmatrix} 2 & 3 & 4 \\\\ 5 & 6 & 7 \\end{pmatrix}\n",
    "\\times_B\n",
    "\\begin{pmatrix}0.5 & 0 & 10 \\end{pmatrix}\n",
    "&=\n",
    "\\begin{pmatrix} 2 & 3 & 4 \\\\ 5 & 6 & 7 \\end{pmatrix}\n",
    "\\otimes\n",
    "\\begin{pmatrix}0.5 & 0 & 10 \\\\ 0.5 & 0 & 10 \\end{pmatrix} \\\\\n",
    "&=\n",
    "\\begin{pmatrix} 1 & 0 & 40 \\\\ 2.5 & 0 & 70 \\end{pmatrix}\n",
    "\\end{align*}"
   ]
  },
  {
   "cell_type": "markdown",
   "metadata": {
    "slideshow": {
     "slide_type": "notes"
    }
   },
   "source": [
    "The (3,) tensor is duplicated to (2, 3)."
   ]
  },
  {
   "cell_type": "code",
   "execution_count": 1,
   "metadata": {
    "slideshow": {
     "slide_type": "slide"
    }
   },
   "outputs": [
    {
     "name": "stdout",
     "output_type": "stream",
     "text": [
      "[[ 1.   0.  40. ]\n",
      " [ 2.5  0.  70. ]]\n",
      "\n",
      "[[ 1.   0.  40. ]\n",
      " [ 2.5  0.  70. ]]\n"
     ]
    }
   ],
   "source": [
    "import numpy as np\n",
    "x = np.array([[2, 3, 4], \n",
    "              [5, 6, 7]])\n",
    "y = np.array([0.5, 0, 10])\n",
    "print(x * y)\n",
    "print()\n",
    "\n",
    "# equivalent to broadcasting\n",
    "z = np.array([[0.5, 0, 10],\n",
    "              [0.5, 0, 10]])\n",
    "print(x * z) "
   ]
  },
  {
   "cell_type": "markdown",
   "metadata": {
    "slideshow": {
     "slide_type": "notes"
    }
   },
   "source": [
    "Our example in code."
   ]
  },
  {
   "cell_type": "markdown",
   "metadata": {
    "slideshow": {
     "slide_type": "slide"
    }
   },
   "source": [
    "The General Broadcasting Rule:\n",
    "\n",
    "- tensor shapes are compared right to left\n",
    "- dimensions are compatible if they are equal or one of them is 1\n",
    "- the axis with dimension 1 is copied to match the other"
   ]
  },
  {
   "cell_type": "markdown",
   "metadata": {
    "slideshow": {
     "slide_type": "notes"
    }
   },
   "source": [
    "The Numpy manual gives a General Broadcasting Rule:\n",
    "\n",
    "Tensor shapes are compared right to left. Dimensions are said to be compatible if they are equal or one of them is 1. The axis with dimension 1 is copied to match the other."
   ]
  },
  {
   "cell_type": "markdown",
   "metadata": {
    "slideshow": {
     "slide_type": "slide"
    }
   },
   "source": [
    "In our example:\n",
    "\\begin{eqnarray}\n",
    "x & : & 2 & \\times & 3 \\\\\n",
    "y & : &   &        & 3 \\\\\n",
    "\\text{result} & : & 2 & \\times & 3 \n",
    "\\end{eqnarray}"
   ]
  },
  {
   "cell_type": "markdown",
   "metadata": {
    "slideshow": {
     "slide_type": "notes"
    }
   },
   "source": [
    "The dimensions are compatible - even if the ranks differ."
   ]
  },
  {
   "cell_type": "markdown",
   "metadata": {
    "slideshow": {
     "slide_type": "slide"
    }
   },
   "source": [
    "Suppose you wish to scale the colours of scale a 256 x 256 RGB image by a vector of scale factors\n",
    "\n",
    "\\begin{eqnarray}\n",
    "\\text{image tensor} & : & 256 & \\times & 256 & \\times & 3 \\\\\n",
    "\\text{scale vector} & : &   &   &   &   & 3 \\\\\n",
    "\\text{result} & : & 256 & \\times & 256 & \\times &  3 \n",
    "\\end{eqnarray}"
   ]
  },
  {
   "cell_type": "markdown",
   "metadata": {
    "slideshow": {
     "slide_type": "notes"
    }
   },
   "source": [
    "Another example. The scaling vector is expanded to (256, 256, 3) by duplication along the first and second axis."
   ]
  },
  {
   "cell_type": "markdown",
   "metadata": {
    "slideshow": {
     "slide_type": "slide"
    }
   },
   "source": [
    "\\begin{eqnarray}\n",
    "x & : & 5 & \\times & 1 & \\times & 3 \\\\\n",
    "y & : & 5 & \\times & 2 & \\times & 3 \\\\\n",
    "\\text{result} & : & 5 & \\times & 2 & \\times & 3 \\\\\n",
    "\\end{eqnarray}"
   ]
  },
  {
   "cell_type": "markdown",
   "metadata": {
    "slideshow": {
     "slide_type": "notes"
    }
   },
   "source": [
    "The dimensions are compatible and broadcasting can proceed. x is expanded to (5, 2, 3) by copying."
   ]
  },
  {
   "cell_type": "markdown",
   "metadata": {
    "slideshow": {
     "slide_type": "slide"
    }
   },
   "source": [
    "\\begin{eqnarray}\n",
    "x & : & 5 & \\times & 1 & \\times & 3 \\\\\n",
    "y & : & 4 & \\times & 2 & \\times & 3 \\\\\n",
    "\\end{eqnarray}"
   ]
  },
  {
   "cell_type": "markdown",
   "metadata": {
    "slideshow": {
     "slide_type": "notes"
    }
   },
   "source": [
    "The first dimension is not compatible and an attempt to broadcast will throw an error."
   ]
  }
 ],
 "metadata": {
  "celltoolbar": "Slideshow",
  "kernelspec": {
   "display_name": "Python 3 (ipykernel)",
   "language": "python",
   "name": "python3"
  },
  "language_info": {
   "codemirror_mode": {
    "name": "ipython",
    "version": 3
   },
   "file_extension": ".py",
   "mimetype": "text/x-python",
   "name": "python",
   "nbconvert_exporter": "python",
   "pygments_lexer": "ipython3",
   "version": "3.7.7"
  }
 },
 "nbformat": 4,
 "nbformat_minor": 4
}
