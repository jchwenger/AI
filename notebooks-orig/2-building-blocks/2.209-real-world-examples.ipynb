{
 "cells": [
  {
   "cell_type": "markdown",
   "metadata": {
    "slideshow": {
     "slide_type": "slide"
    }
   },
   "source": [
    "|  Data  | Rank | Shape     | Example    |\n",
    "|---:|:---:|:---:|:----|\n",
    "| vector | 2 | (num_samples, num_features) | demographics of a population - (postcode, age, income,...) for each person |\n"
   ]
  },
  {
   "cell_type": "markdown",
   "metadata": {
    "slideshow": {
     "slide_type": "notes"
    }
   },
   "source": [
    "Let's look at some examples of real data tensors. Say we collected data on a population - for example, postcode, age, income. The samples axis, for first axis, is each person surveyed and for each person we collect a vector of information.  "
   ]
  },
  {
   "cell_type": "markdown",
   "metadata": {
    "slideshow": {
     "slide_type": "slide"
    }
   },
   "source": [
    "|  Data  | Rank | Shape     | Example    |\n",
    "|---:|:---:|:---:|:----|\n",
    "| timeseries or sequence | 3 | (num_samples, num_timesteps, num_features) | daily weather features at ten minute intervals - (precipitation, temperature, humidity) for each time for each day|"
   ]
  },
  {
   "cell_type": "markdown",
   "metadata": {
    "slideshow": {
     "slide_type": "notes"
    }
   },
   "source": [
    "A data-set of weather readings is an example of time series data. A series of measurements - precipitation, temperature etc - at ten minutes intervals is collected for each day or sample.  "
   ]
  },
  {
   "cell_type": "markdown",
   "metadata": {
    "slideshow": {
     "slide_type": "slide"
    }
   },
   "source": [
    "|  Data  | Rank | Shape     | Example    |\n",
    "|---:|:---:|:---:|:----|\n",
    "| image | 4 | (num_samples, width, height, colour_depth) | 10,000 colour 256 x 256 colour images - a (256, 256, 3) colour map for each image|"
   ]
  },
  {
   "cell_type": "markdown",
   "metadata": {
    "slideshow": {
     "slide_type": "notes"
    }
   },
   "source": [
    "A colour image data-set is an example of rank 4 information. An RGB vector resides at each pixel. The samples are individual images. "
   ]
  },
  {
   "cell_type": "markdown",
   "metadata": {
    "slideshow": {
     "slide_type": "slide"
    }
   },
   "source": [
    "|  Data  | Rank | Shape     | Example    |\n",
    "|---:|:---:|:---:|:----|\n",
    "| video | 5 | (num_samples, num_frames, width, height, colour_depth) | video - a (256, 256, 3) colour map for each frame of each video|"
   ]
  },
  {
   "cell_type": "markdown",
   "metadata": {
    "slideshow": {
     "slide_type": "notes"
    }
   },
   "source": [
    "Rank 5 tensors are about as exotic as you will ever meet. The samples are videos: a video is a time series of frames and each frame is a 2D colour image. "
   ]
  }
 ],
 "metadata": {
  "celltoolbar": "Slideshow",
  "kernelspec": {
   "display_name": "Python 3",
   "language": "python",
   "name": "python3"
  },
  "language_info": {
   "codemirror_mode": {
    "name": "ipython",
    "version": 3
   },
   "file_extension": ".py",
   "mimetype": "text/x-python",
   "name": "python",
   "nbconvert_exporter": "python",
   "pygments_lexer": "ipython3",
   "version": "3.8.5"
  }
 },
 "nbformat": 4,
 "nbformat_minor": 4
}
