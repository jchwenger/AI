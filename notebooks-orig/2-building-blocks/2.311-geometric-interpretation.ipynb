{
 "cells": [
  {
   "cell_type": "markdown",
   "metadata": {
    "slideshow": {
     "slide_type": "slide"
    }
   },
   "source": [
    "Numerical tensor elements can be interpreted as coordinates in a (often very high dimensional) real space"
   ]
  },
  {
   "cell_type": "markdown",
   "metadata": {
    "slideshow": {
     "slide_type": "notes"
    }
   },
   "source": [
    "We have completed our overview of tensors and their operations. Time to step back a little and think what the layer does in broader terms - we know it implements an activation function of w dot x plus b - but what does that mean, really?\n",
    "\n",
    "A helpful insight is that tensor elements can be interpreted as coordinates of a high dimensional geometric object. "
   ]
  },
  {
   "cell_type": "code",
   "execution_count": 1,
   "metadata": {
    "slideshow": {
     "slide_type": "skip"
    }
   },
   "outputs": [
    {
     "name": "stdout",
     "output_type": "stream",
     "text": [
      "[[ 1 -1]\n",
      " [ 1  1]\n",
      " [-1  1]\n",
      " [-1 -1]] \t (4, 2)\n"
     ]
    }
   ],
   "source": [
    "import numpy as np\n",
    "a = np.array([1, -1])\n",
    "b = np.array([1, 1])\n",
    "c = np.array([-1, 1])\n",
    "d = np.array([-1, -1])\n",
    "x = np.array([a, b, c, d])\n",
    "print(x, '\\t', x.shape)"
   ]
  },
  {
   "cell_type": "markdown",
   "metadata": {
    "slideshow": {
     "slide_type": "slide"
    }
   },
   "source": [
    "We will consider a layer transformation of a low dimensional object - a tensor holding four 2D points\n",
    "\n",
    "Each point is a corner of a square. "
   ]
  },
  {
   "cell_type": "markdown",
   "metadata": {
    "slideshow": {
     "slide_type": "notes"
    }
   },
   "source": [
    "We will consider a layer transformation of a low dimensional object - a tensor holding four 2D points. Each point is a corner of a square.  "
   ]
  },
  {
   "cell_type": "code",
   "execution_count": 2,
   "metadata": {
    "slideshow": {
     "slide_type": "skip"
    }
   },
   "outputs": [],
   "source": [
    "import matplotlib.pyplot as plt\n",
    "def plot_poly(a, b, col):\n",
    "    axes = plt.gca()\n",
    "    axes.axis('equal')\n",
    "    plt.plot(a, b, 'ro')\n",
    "    plt.plot(a, b, color=col, linestyle = '-')\n",
    "    plt.plot([a[-1], a[0]], [b[-1], b[0]], color=col, linestyle = '-')"
   ]
  },
  {
   "cell_type": "code",
   "execution_count": 4,
   "metadata": {
    "slideshow": {
     "slide_type": "slide"
    }
   },
   "outputs": [
    {
     "data": {
      "image/png": "[encoded data removed]",
      "text/plain": [
       "<Figure size 432x288 with 1 Axes>"
      ]
     },
     "metadata": {
      "needs_background": "light"
     },
     "output_type": "display_data"
    }
   ],
   "source": [
    "plot_poly(x[:, 0], x[:, 1], 'b')\n",
    "plt.show()"
   ]
  },
  {
   "cell_type": "markdown",
   "metadata": {
    "slideshow": {
     "slide_type": "notes"
    }
   },
   "source": [
    "Four data points forming a square."
   ]
  },
  {
   "cell_type": "markdown",
   "metadata": {
    "slideshow": {
     "slide_type": "slide"
    }
   },
   "source": [
    "A function is linear if\n",
    "1. $f(x + y) = f(x) + f(y)$\n",
    "2. $f(ax) = af(x)$\n",
    "\n",
    "Otherwise it is nonlinear"
   ]
  },
  {
   "cell_type": "markdown",
   "metadata": {
    "slideshow": {
     "slide_type": "notes"
    }
   },
   "source": [
    "We have mentioned 'linearity' a few times. Here is the definition of a linear function. A function is linear if $f(x + y) = f(x) + f(y)$ and $f(ax) = af(x)$ for scalar $a$ and vectors $x, y$"
   ]
  },
  {
   "cell_type": "markdown",
   "metadata": {
    "slideshow": {
     "slide_type": "slide"
    }
   },
   "source": [
    "$w \\cdot x$ is a linear transformation"
   ]
  },
  {
   "cell_type": "markdown",
   "metadata": {
    "slideshow": {
     "slide_type": "notes"
    }
   },
   "source": [
    "$w \\cdot x$ is a linear transformation."
   ]
  },
  {
   "cell_type": "markdown",
   "metadata": {
    "slideshow": {
     "slide_type": "slide"
    }
   },
   "source": [
    "For example, a rotation \n",
    "\n",
    "\\begin{align*}\n",
    "w\\cdot x = \\begin{pmatrix} \\cos \\theta & -\\sin \\theta \\\\ \\sin \\theta & \\cos \\theta \\end{pmatrix}\n",
    "\\begin{pmatrix} x_1 \\\\ x_2 \\end{pmatrix}\n",
    "=\n",
    "\\begin{pmatrix} x_1 \\cos \\theta - x_2 \\sin \\theta \\\\ x_1 \\sin \\theta + y_2 \\cos \\theta \\end{pmatrix}\n",
    "\\end{align*}"
   ]
  },
  {
   "cell_type": "markdown",
   "metadata": {
    "slideshow": {
     "slide_type": "notes"
    }
   },
   "source": [
    "For example, $w \\cdot x$ is a linear function if $w$ is a rotation matrix. Rotations are linear: a rotation by 60 degrees and then by 30 degrees is the same as a single rotation by 60 + 30 = 90 degrees, and a rotation by 3 times 30 degrees is the same as three rotations of thirty degrees each."
   ]
  },
  {
   "cell_type": "code",
   "execution_count": 3,
   "metadata": {
    "slideshow": {
     "slide_type": "skip"
    }
   },
   "outputs": [],
   "source": [
    "theta = 1\n",
    "w = np.array([[np.cos(theta), -np.sin(theta)], [np.sin(theta), np.cos(theta)]])\n",
    "\n",
    "y = np.zeros([4, 2])\n",
    "for i in range(len(x)):\n",
    "    y[i] = np.dot(w, x[i])"
   ]
  },
  {
   "cell_type": "code",
   "execution_count": 5,
   "metadata": {
    "slideshow": {
     "slide_type": "slide"
    }
   },
   "outputs": [
    {
     "data": {
      "image/png": "[encoded data removed]",
      "text/plain": [
       "<Figure size 432x288 with 1 Axes>"
      ]
     },
     "metadata": {
      "needs_background": "light"
     },
     "output_type": "display_data"
    }
   ],
   "source": [
    "plot_poly(y[:, 0], y[:, 1], 'g')\n",
    "plot_poly(x[:, 0], x[:, 1], 'b')\n",
    "plt.show()"
   ]
  },
  {
   "cell_type": "markdown",
   "metadata": {
    "slideshow": {
     "slide_type": "notes"
    }
   },
   "source": [
    "The blue square has been rotated by 1 radian."
   ]
  },
  {
   "cell_type": "markdown",
   "metadata": {
    "slideshow": {
     "slide_type": "slide"
    }
   },
   "source": [
    "$w \\cdot x + b$ implements an affine transformation (for nonzero $b$) -  a linear transformation followed by a translation"
   ]
  },
  {
   "cell_type": "markdown",
   "metadata": {
    "slideshow": {
     "slide_type": "notes"
    }
   },
   "source": [
    "$w \\cdot x + b$ is not linear (unless b is zero). $w \\cdot x + b$ is an 'affine' transformation -  a linear transformation followed by a translation."
   ]
  },
  {
   "cell_type": "code",
   "execution_count": 6,
   "metadata": {
    "slideshow": {
     "slide_type": "slide"
    }
   },
   "outputs": [
    {
     "data": {
      "image/png": "[encoded data removed]",
      "text/plain": [
       "<Figure size 432x288 with 1 Axes>"
      ]
     },
     "metadata": {
      "needs_background": "light"
     },
     "output_type": "display_data"
    }
   ],
   "source": [
    "b = np.array([1, -0.1])\n",
    "z = np.add(y, b)\n",
    "\n",
    "plot_poly(z[:, 0], z[:, 1], 'red')\n",
    "plot_poly(y[:, 0], y[:, 1], 'g')\n",
    "plt.show()"
   ]
  },
  {
   "cell_type": "markdown",
   "metadata": {
    "slideshow": {
     "slide_type": "notes"
    }
   },
   "source": [
    "The rotated square is translated by one unit to the right and by one tenth of a unit downwards."
   ]
  },
  {
   "cell_type": "markdown",
   "metadata": {
    "slideshow": {
     "slide_type": "slide"
    }
   },
   "source": [
    "Element-wise application of a nonlinear function to $w \\cdot x + b$ will introduce distortions"
   ]
  },
  {
   "cell_type": "markdown",
   "metadata": {
    "slideshow": {
     "slide_type": "notes"
    }
   },
   "source": [
    "Element-wise application of a nonlinear function to $w \\cdot x + b$ introduces *distortions*."
   ]
  },
  {
   "cell_type": "code",
   "execution_count": 7,
   "metadata": {
    "slideshow": {
     "slide_type": "slide"
    }
   },
   "outputs": [
    {
     "data": {
      "image/png": "[encoded data removed]",
      "text/plain": [
       "<Figure size 432x288 with 1 Axes>"
      ]
     },
     "metadata": {
      "needs_background": "light"
     },
     "output_type": "display_data"
    }
   ],
   "source": [
    "def relu(x):\n",
    "    assert len(x.shape) == 2\n",
    "    y = x.copy()\n",
    "    for i in range(x.shape[0]):\n",
    "        for j in range(x.shape[1]):\n",
    "            y[i, j] = max(x[i, j], 0.)\n",
    "    return y\n",
    "\n",
    "w = relu(z)\n",
    "\n",
    "plot_poly(w[:, 0], w[:, 1], 'black')\n",
    "plt.show()"
   ]
  },
  {
   "cell_type": "markdown",
   "metadata": {
    "slideshow": {
     "slide_type": "notes"
    }
   },
   "source": [
    "`relu` is applied to the corners of the rotated and translated square."
   ]
  },
  {
   "cell_type": "code",
   "execution_count": 8,
   "metadata": {
    "slideshow": {
     "slide_type": "slide"
    }
   },
   "outputs": [
    {
     "data": {
      "image/png": "[encoded data removed]",
      "text/plain": [
       "<Figure size 432x288 with 1 Axes>"
      ]
     },
     "metadata": {
      "needs_background": "light"
     },
     "output_type": "display_data"
    }
   ],
   "source": [
    "plot_poly(x[:, 0], x[:, 1], 'b')\n",
    "plot_poly(w[:, 0], w[:, 1], 'black')\n",
    "plt.show()"
   ]
  },
  {
   "cell_type": "markdown",
   "metadata": {
    "slideshow": {
     "slide_type": "notes"
    }
   },
   "source": [
    "Before and after. "
   ]
  },
  {
   "cell_type": "markdown",
   "metadata": {
    "slideshow": {
     "slide_type": "slide"
    }
   },
   "source": [
    "Each layer in a neural network performs a non-linear data transformation - $f(w\\cdot x + b)$ - where $f$ is the activation function and $w \\cdot x + b$ is an affine transformation\n",
    "\n",
    "The network as a whole, in a series of activations and affine transformations implements a complex transformation on a high dimensional geometric object (the data)"
   ]
  },
  {
   "cell_type": "markdown",
   "metadata": {
    "slideshow": {
     "slide_type": "notes"
    }
   },
   "source": [
    "To summarise: each layer in a neural network performs a non-linear data transformation - $f(w\\cdot x + b)$ - where $f$ is a non-linear activation function and $w \\cdot x + b$ is an affine transformation.\n",
    "\n",
    "The network as a whole, in as series of activations and affine transformations implements a complex transformation on a high dimensional geometric object (the data)."
   ]
  },
  {
   "cell_type": "markdown",
   "metadata": {
    "slideshow": {
     "slide_type": "slide"
    }
   },
   "source": [
    "The complexity of the overall function of the network is composed of a series of simpler non-linear transformations\n",
    "\n",
    "The network unfolds complex data into something simple and meaningful - imagine unfolding a paper sheet, crumpled into a 1000 dimensional ball "
   ]
  },
  {
   "cell_type": "markdown",
   "metadata": {
    "slideshow": {
     "slide_type": "notes"
    }
   },
   "source": [
    "The complexity of the overall function of the network is composed of a series of simpler non-linear transformations\n",
    "\n",
    "The network unfolds complex data into something simple and meaningful - imagine unfolding a paper sheet, crumpled into a 1000 dimensional ball "
   ]
  }
 ],
 "metadata": {
  "celltoolbar": "Slideshow",
  "kernelspec": {
   "display_name": "Python 3 (ipykernel)",
   "language": "python",
   "name": "python3"
  },
  "language_info": {
   "codemirror_mode": {
    "name": "ipython",
    "version": 3
   },
   "file_extension": ".py",
   "mimetype": "text/x-python",
   "name": "python",
   "nbconvert_exporter": "python",
   "pygments_lexer": "ipython3",
   "version": "3.7.7"
  }
 },
 "nbformat": 4,
 "nbformat_minor": 4
}
