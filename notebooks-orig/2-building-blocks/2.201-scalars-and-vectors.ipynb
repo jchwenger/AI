{
 "cells": [
  {
   "cell_type": "markdown",
   "metadata": {
    "slideshow": {
     "slide_type": "slide"
    }
   },
   "source": [
    "Overview\n",
    "\n",
    "- Python lists and arrays, dimension and length\n",
    "\n",
    "- Numpy tensors, tensor axes and rank"
   ]
  },
  {
   "cell_type": "markdown",
   "metadata": {
    "slideshow": {
     "slide_type": "notes"
    }
   },
   "source": [
    "We must must spend some time on core deep learning ideas: tensors, tensor operations and network optimisation before returning to building, training and testing. The remainder of this topic will cover these building blocks; the subject is a little theoretical, but not difficult, so please be patient for a while longer.   \n",
    "\n",
    "We begin with a reminder of Python lists and arrays. We then explore Numpy arrays - a far more efficient representation of multidimensional data containers, and explain tensor axis and rank."
   ]
  },
  {
   "cell_type": "markdown",
   "metadata": {
    "slideshow": {
     "slide_type": "slide"
    }
   },
   "source": [
    "Arrays are a fundamental data structure\n",
    "\n",
    "They are implemented in Python as lists"
   ]
  },
  {
   "cell_type": "markdown",
   "metadata": {
    "slideshow": {
     "slide_type": "notes"
    }
   },
   "source": [
    "Arrays are a fundamental data structure. They are implemented in Python as lists."
   ]
  },
  {
   "cell_type": "markdown",
   "metadata": {
    "slideshow": {
     "slide_type": "slide"
    }
   },
   "source": [
    "The dimensionality of an array is the number of indices needed to retrieve a value\n",
    "\n",
    "A 0D array requires no indices - a simple value\n",
    "\n",
    "A 1D array requires a single index, a 2D array has two indices and so on"
   ]
  },
  {
   "cell_type": "markdown",
   "metadata": {
    "slideshow": {
     "slide_type": "notes"
    }
   },
   "source": [
    "The dimensionality of an array is the number of indices needed to retrieve a value. A 0D array requires no indices - a simple value. A 1D array requires a single index, a 2D array has two indices and so on."
   ]
  },
  {
   "cell_type": "markdown",
   "metadata": {
    "slideshow": {
     "slide_type": "slide"
    }
   },
   "source": [
    "The **length** of a 1D array is the maximum number of elements in the array\n",
    "\n",
    "A 1D array is the computational analogue of the mathematical vector"
   ]
  },
  {
   "cell_type": "markdown",
   "metadata": {
    "slideshow": {
     "slide_type": "notes"
    }
   },
   "source": [
    "The **length** of a 1D array is the maximum number of elements in the array. A 1D array is the computational analogue of the mathematical vector.\n",
    "\n",
    "[FRAG]\n",
    "\n",
    "x has a length of four; the third element is 0."
   ]
  },
  {
   "cell_type": "code",
   "execution_count": 1,
   "metadata": {
    "slideshow": {
     "slide_type": "fragment"
    }
   },
   "outputs": [
    {
     "name": "stdout",
     "output_type": "stream",
     "text": [
      "x: [304, -2, 0, 57] \tlength: 4 \tx[2] = 0\n"
     ]
    }
   ],
   "source": [
    "# a vector\n",
    "x = [304, -2, 0, 57]\n",
    "\n",
    "# print vector, vector length and the third element\n",
    "print('x:', x, '\\tlength:', len(x), '\\tx[2] =', x[2])"
   ]
  },
  {
   "cell_type": "markdown",
   "metadata": {
    "slideshow": {
     "slide_type": "slide"
    }
   },
   "source": [
    "TensorFlow uses an efficient data structure - the multidimensional Numpy array or **tensor**"
   ]
  },
  {
   "cell_type": "markdown",
   "metadata": {
    "slideshow": {
     "slide_type": "notes"
    }
   },
   "source": [
    "TensorFlow uses an efficient data structure - the multidimensional Numpy array or 'tensor'."
   ]
  },
  {
   "cell_type": "markdown",
   "metadata": {
    "slideshow": {
     "slide_type": "slide"
    }
   },
   "source": [
    "A tensor **axis** is equivalent to an array dimension\n",
    "\n",
    "The number of tensor axes (number of dimensions) is the **rank** of the tensor"
   ]
  },
  {
   "cell_type": "markdown",
   "metadata": {
    "slideshow": {
     "slide_type": "notes"
    }
   },
   "source": [
    "A tensor 'axis' is equivalent to an array dimension. The number of tensor axes (number of dimensions) is the 'rank' of the tensor. "
   ]
  },
  {
   "cell_type": "markdown",
   "metadata": {
    "slideshow": {
     "slide_type": "slide"
    }
   },
   "source": [
    "A 0D tensor is a container for a single value - equivalent to a mathematical 'scalar'."
   ]
  },
  {
   "cell_type": "markdown",
   "metadata": {
    "slideshow": {
     "slide_type": "notes"
    }
   },
   "source": [
    "A 0D tensor is a container for a single value - equivalent to a mathematical 'scalar'.\n",
    "\n",
    "[FRAG]\n",
    "\n",
    "`np.array` creates a Numpy array - in this case a rank 0 tensor. The rank of a Numpy array can be accessed with the  `ndim` attribute."
   ]
  },
  {
   "cell_type": "code",
   "execution_count": 2,
   "metadata": {
    "slideshow": {
     "slide_type": "fragment"
    }
   },
   "outputs": [
    {
     "name": "stdout",
     "output_type": "stream",
     "text": [
      "x: 93 \trank: 0\n"
     ]
    }
   ],
   "source": [
    "import numpy as np\n",
    "x = np.array(93)\n",
    "print('x:', x, '\\trank:', x.ndim)"
   ]
  },
  {
   "cell_type": "markdown",
   "metadata": {
    "slideshow": {
     "slide_type": "slide"
    }
   },
   "source": [
    "A 1D tensor is a list of values.\n",
    "\n",
    "`np.array([304, -2, 0, 57])` creates a tensor with a single axis - a rank 1 tensor."
   ]
  },
  {
   "cell_type": "markdown",
   "metadata": {
    "slideshow": {
     "slide_type": "notes"
    }
   },
   "source": [
    "A 1D tensor is a list of values\n",
    "\n",
    "[FRAG]\n",
    "\n",
    "Rank 1 and higher rank tensors are created by passing lists to `np.array`.\n",
    "\n",
    "`np.array([304, -2, 0, 57])` creates a tensor with a single axis - a rank 1 tensor."
   ]
  },
  {
   "cell_type": "code",
   "execution_count": 3,
   "metadata": {
    "slideshow": {
     "slide_type": "fragment"
    }
   },
   "outputs": [
    {
     "name": "stdout",
     "output_type": "stream",
     "text": [
      "x: [304  -2   0  57] \trank:  1\n"
     ]
    }
   ],
   "source": [
    "x = np.array([304, -2, 0, 57])\n",
    "print('x:', x, '\\trank: ', x.ndim)"
   ]
  },
  {
   "cell_type": "markdown",
   "metadata": {
    "slideshow": {
     "slide_type": "slide"
    }
   },
   "source": [
    "Beware! The dimension of a mathematical vector is the number of elements; tensor dimension is the number of axes  "
   ]
  },
  {
   "cell_type": "markdown",
   "metadata": {
    "slideshow": {
     "slide_type": "notes"
    }
   },
   "source": [
    "Beware! The dimension of a mathematical vector is the number of elements; tensor dimension is the number of axes. "
   ]
  }
 ],
 "metadata": {
  "celltoolbar": "Slideshow",
  "kernelspec": {
   "display_name": "Python 3",
   "language": "python",
   "name": "python3"
  },
  "language_info": {
   "codemirror_mode": {
    "name": "ipython",
    "version": 3
   },
   "file_extension": ".py",
   "mimetype": "text/x-python",
   "name": "python",
   "nbconvert_exporter": "python",
   "pygments_lexer": "ipython3",
   "version": "3.8.5"
  }
 },
 "nbformat": 4,
 "nbformat_minor": 4
}
