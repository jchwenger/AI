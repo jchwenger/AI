{
 "cells": [
  {
   "cell_type": "markdown",
   "metadata": {
    "slideshow": {
     "slide_type": "slide"
    }
   },
   "source": [
    "The dot operation is the tensor analogue of the dot product"
   ]
  },
  {
   "cell_type": "markdown",
   "metadata": {
    "slideshow": {
     "slide_type": "notes"
    }
   },
   "source": [
    "The dot operation is the tensor analogue of the dot product."
   ]
  },
  {
   "cell_type": "markdown",
   "metadata": {
    "slideshow": {
     "slide_type": "slide"
    }
   },
   "source": [
    "- between vectors \n",
    "\n",
    "\\begin{eqnarray}\n",
    "\\left( \\begin{array}{c} 2 & 3 \\end{array} \\right)\n",
    "\\cdot \n",
    "\\left( \\begin{array}{c}  -1  \\\\ 2  \\end{array} \\right) =\n",
    "4\n",
    "\\end{eqnarray}"
   ]
  },
  {
   "cell_type": "markdown",
   "metadata": {
    "slideshow": {
     "slide_type": "notes"
    }
   },
   "source": [
    "The familiar dot or scalar product."
   ]
  },
  {
   "cell_type": "markdown",
   "metadata": {
    "slideshow": {
     "slide_type": "slide"
    }
   },
   "source": [
    "- between a matrix and a vector\n",
    "\n",
    "\\begin{eqnarray}\n",
    "\\left( \\begin{array}{cc} 2 & 3  \\\\ 4 & 5  \\end{array} \\right)\n",
    "\\cdot \n",
    "\\left( \\begin{array}{c}  -1  \\\\ 2  \\end{array} \\right) =\n",
    "\\left( \\begin{array}{c}  4  \\\\ 6  \\end{array} \\right)\n",
    "\\end{eqnarray}"
   ]
  },
  {
   "cell_type": "markdown",
   "metadata": {
    "slideshow": {
     "slide_type": "notes"
    }
   },
   "source": [
    "Matrix-vector multiplication."
   ]
  },
  {
   "cell_type": "markdown",
   "metadata": {
    "slideshow": {
     "slide_type": "slide"
    }
   },
   "source": [
    "- between matrices\n",
    "\n",
    "\\begin{eqnarray}\n",
    "\\left( \\begin{array}{cc} 2 & 3  \\\\ 4 & 5  \\end{array} \\right)\n",
    "\\cdot \n",
    "\\left( \\begin{array}{cc}  -1  & 2 \\\\ 2 & -3  \\end{array} \\right) =\n",
    "\\left( \\begin{array}{cc}  4 & -5  \\\\ 6 & -7  \\end{array} \\right)\n",
    "\\end{eqnarray}"
   ]
  },
  {
   "cell_type": "markdown",
   "metadata": {
    "slideshow": {
     "slide_type": "notes"
    }
   },
   "source": [
    "Matrix multiplication."
   ]
  },
  {
   "cell_type": "markdown",
   "metadata": {
    "slideshow": {
     "slide_type": "slide"
    }
   },
   "source": [
    "`relu(dot(w, x) + b)`\n",
    "\n",
    "Suppose `w` is a (512, 784) rank 2 tensor , `x` is a (784, ) rank 1 tensor and `b` is (512,). "
   ]
  },
  {
   "cell_type": "markdown",
   "metadata": {
    "slideshow": {
     "slide_type": "notes"
    }
   },
   "source": [
    "The first layer of our MNIST network performed `relu(dot(w, x) + b)`. Suppose `w` is a (512, 784) rank 2 tensor , `x` is a (784, ) rank 1 tensor and `b` is (512,)  \n",
    "\n"
   ]
  },
  {
   "cell_type": "markdown",
   "metadata": {
    "slideshow": {
     "slide_type": "slide"
    }
   },
   "source": [
    "`dot(w, x)` is a (512, ) tensor\n",
    "\n",
    "Element `i` of `dot(w, x)` is\n",
    "\n",
    "\\begin{align*}\n",
    "(w \\cdot x)_i &= \\sum_{j=0}^{783} w_{ij}x_j \\\\\n",
    "i &= 0, 1,\\ldots, 511\n",
    "\\end{align*}"
   ]
  },
  {
   "cell_type": "markdown",
   "metadata": {
    "slideshow": {
     "slide_type": "notes"
    }
   },
   "source": [
    "`dot(w, x)` is a (512,) tensor. Element `i` of `dot(w, x)` is the sum of $w_{ij}$ times $x_j$."
   ]
  },
  {
   "cell_type": "markdown",
   "metadata": {
    "slideshow": {
     "slide_type": "slide"
    }
   },
   "source": [
    "The result of `dot(w, x)` is added element-wise to `b` (they have the same shape) and `relu` is applied to each element\n",
    "\n",
    "The layer transformation `relu(dot(w, x) + b)` is a composition of elementary tensor operations.  "
   ]
  },
  {
   "cell_type": "markdown",
   "metadata": {
    "slideshow": {
     "slide_type": "notes"
    }
   },
   "source": [
    "The result of `dot(w, x)` is added element-wise to `b` (they have the same shape) and `relu` is applied to each element. We disciver that he layer transformation `relu(dot(w, x) + b)` is not so obscure after all: it is a composition of elementary tensor operations. "
   ]
  }
 ],
 "metadata": {
  "celltoolbar": "Slideshow",
  "kernelspec": {
   "display_name": "Python 3 (ipykernel)",
   "language": "python",
   "name": "python3"
  },
  "language_info": {
   "codemirror_mode": {
    "name": "ipython",
    "version": 3
   },
   "file_extension": ".py",
   "mimetype": "text/x-python",
   "name": "python",
   "nbconvert_exporter": "python",
   "pygments_lexer": "ipython3",
   "version": "3.7.7"
  }
 },
 "nbformat": 4,
 "nbformat_minor": 4
}
