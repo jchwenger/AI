{
 "cells": [
  {
   "cell_type": "markdown",
   "metadata": {
    "slideshow": {
     "slide_type": "slide"
    }
   },
   "source": [
    "Learning is the process of minimising the predictive loss of a model\n",
    "\n",
    "A neural network is trained by presenting mini-batches of samples and labels"
   ]
  },
  {
   "cell_type": "markdown",
   "metadata": {
    "slideshow": {
     "slide_type": "notes"
    }
   },
   "source": [
    "Let's look at topic 2 from a great distance. \n",
    "\n",
    "Learning is the process of minimising the predictive loss of a model. A neural network is trained by presenting mini-batches of samples and labels."
   ]
  },
  {
   "cell_type": "markdown",
   "metadata": {
    "slideshow": {
     "slide_type": "slide"
    }
   },
   "source": [
    "Network parameters are adjusted in order to reduce the difference between prediction and target\n",
    "\n",
    "The neural network implements a chain of differentiable layer transformations"
   ]
  },
  {
   "cell_type": "markdown",
   "metadata": {
    "slideshow": {
     "slide_type": "notes"
    }
   },
   "source": [
    "Network parameters are adjusted in order to reduce the difference between prediction and target. The neural network implements a chain of differentiable layer transformations."
   ]
  },
  {
   "cell_type": "markdown",
   "metadata": {
    "slideshow": {
     "slide_type": "slide"
    }
   },
   "source": [
    "The loss-parmeter gradient is computed by the chain rule\n",
    "- efficiently organised by the backpropagation algorithm\n",
    "- parameters are moved by a small step in the direction of the negative gradient"
   ]
  },
  {
   "cell_type": "markdown",
   "metadata": {
    "slideshow": {
     "slide_type": "notes"
    }
   },
   "source": [
    "The loss-parameter gradient is computed by the chain rule - efficiently organised by the backpropagation algorithm. Parameters are moved by a small step in the direction of the negative gradient.\n",
    "\n",
    "Preliminaries over, we proceed to the third topic in which we build, train and test networks for three representative problems. Deep learning is a practical subject and we are about to get our hands dirty.  "
   ]
  }
 ],
 "metadata": {
  "celltoolbar": "Slideshow",
  "kernelspec": {
   "display_name": "Python 3",
   "language": "python",
   "name": "python3"
  },
  "language_info": {
   "codemirror_mode": {
    "name": "ipython",
    "version": 3
   },
   "file_extension": ".py",
   "mimetype": "text/x-python",
   "name": "python",
   "nbconvert_exporter": "python",
   "pygments_lexer": "ipython3",
   "version": "3.8.5"
  }
 },
 "nbformat": 4,
 "nbformat_minor": 4
}
