{
 "cells": [
  {
   "cell_type": "markdown",
   "metadata": {
    "slideshow": {
     "slide_type": "slide"
    }
   },
   "source": [
    "Data frames are pulled from tensors by an operation known as **slicing**"
   ]
  },
  {
   "cell_type": "markdown",
   "metadata": {
    "slideshow": {
     "slide_type": "notes"
    }
   },
   "source": [
    "Slicing is a very important tensor operation. It enables us to get hold of different parts of the tensor. Slicing is especially useful when we are designing network tests but can also be necessary for data processing. We don't need to worry about preparing data for training: Tensorflow is clever enough to automatically slice the data for us."
   ]
  },
  {
   "cell_type": "markdown",
   "metadata": {
    "slideshow": {
     "slide_type": "slide"
    }
   },
   "source": [
    "The slice operator is `:` and `a:b` means select elements `a` to `b-1`"
   ]
  },
  {
   "cell_type": "markdown",
   "metadata": {
    "slideshow": {
     "slide_type": "notes"
    }
   },
   "source": [
    "The slice operator is `:` and `a:b` means select elements `a` to `b-1`."
   ]
  },
  {
   "cell_type": "code",
   "execution_count": 1,
   "metadata": {
    "slideshow": {
     "slide_type": "slide"
    }
   },
   "outputs": [
    {
     "name": "stdout",
     "output_type": "stream",
     "text": [
      "[7 5]\n"
     ]
    }
   ],
   "source": [
    "import numpy as np\n",
    "x = np.array([3, 7, 5, 1])\n",
    "print(x[1:3])"
   ]
  },
  {
   "cell_type": "markdown",
   "metadata": {
    "slideshow": {
     "slide_type": "notes"
    }
   },
   "source": [
    "Elements 1 and 2."
   ]
  },
  {
   "cell_type": "markdown",
   "metadata": {
    "slideshow": {
     "slide_type": "slide"
    }
   },
   "source": [
    "The last element is `-1`, the second last is `-2` etc."
   ]
  },
  {
   "cell_type": "markdown",
   "metadata": {
    "slideshow": {
     "slide_type": "notes"
    }
   },
   "source": [
    "The last element is `-1`, the second last is `-2` etc."
   ]
  },
  {
   "cell_type": "code",
   "execution_count": 2,
   "metadata": {
    "slideshow": {
     "slide_type": "slide"
    }
   },
   "outputs": [
    {
     "name": "stdout",
     "output_type": "stream",
     "text": [
      "[7 5]\n"
     ]
    }
   ],
   "source": [
    "x = np.array([3, 7, 5, 1])\n",
    "print(x[-3:-1])           "
   ]
  },
  {
   "cell_type": "markdown",
   "metadata": {
    "slideshow": {
     "slide_type": "notes"
    }
   },
   "source": [
    "The vector has length 4. \n",
    "\n",
    "-3 is short for element 4 - 3 i.e. element 1 and -1 is short for element 4 - 1 i.e. element 3. \n",
    "\n",
    "So -3:-1 means from 1 (inclusive) to 3 (exclusive)."
   ]
  },
  {
   "cell_type": "code",
   "execution_count": 3,
   "metadata": {
    "slideshow": {
     "slide_type": "slide"
    }
   },
   "outputs": [
    {
     "name": "stdout",
     "output_type": "stream",
     "text": [
      "[[[ 1  2]\n",
      "  [ 3  4]]\n",
      "\n",
      " [[ 5  6]\n",
      "  [ 7  8]]\n",
      "\n",
      " [[ 9 10]\n",
      "  [11 12]]] \t (3, 2, 2)\n"
     ]
    }
   ],
   "source": [
    "# stack of three (2, 2) tensors\n",
    "a = np.array([[1, 2], [3, 4]])\n",
    "b = np.array([[5, 6], [7, 8]])\n",
    "c = np.array([[9, 10], [11, 12]])\n",
    "x = np.array([a, b, c])\n",
    "print(x, '\\t', x.shape)"
   ]
  },
  {
   "cell_type": "markdown",
   "metadata": {
    "slideshow": {
     "slide_type": "notes"
    }
   },
   "source": [
    "Let's demonstrate slicing with a rank 3 tensor. This tensor is a stack of 2 by 2 arrays, `a`, `b` and `c`."
   ]
  },
  {
   "cell_type": "code",
   "execution_count": 4,
   "metadata": {
    "slideshow": {
     "slide_type": "slide"
    }
   },
   "outputs": [
    {
     "name": "stdout",
     "output_type": "stream",
     "text": [
      "[[[1 2]\n",
      "  [3 4]]] \t (1, 2, 2)\n"
     ]
    }
   ],
   "source": [
    "# [a]\n",
    "slice = x[0:1, :, :]\n",
    "print(slice, '\\t', slice.shape)"
   ]
  },
  {
   "cell_type": "markdown",
   "metadata": {
    "slideshow": {
     "slide_type": "notes"
    }
   },
   "source": [
    "In this example, `0:1` selects element 0 only. A blank either side indicates all elements. So `x[0]` is the first 2 by 2 array, and the colons in positions two and three mean select everything. "
   ]
  },
  {
   "cell_type": "code",
   "execution_count": 5,
   "metadata": {
    "slideshow": {
     "slide_type": "slide"
    }
   },
   "outputs": [
    {
     "name": "stdout",
     "output_type": "stream",
     "text": [
      "[[[1 2]\n",
      "  [3 4]]] \t (1, 2, 2)\n",
      "\n",
      "[[[1 2]\n",
      "  [3 4]]] \t (1, 2, 2)\n"
     ]
    }
   ],
   "source": [
    "# equivalent to x[:1, :, :]\n",
    "slice = x[:1, :, :]\n",
    "print(slice, '\\t', slice.shape)\n",
    "print()\n",
    "slice = x[:1]\n",
    "print(slice, '\\t', slice.shape)"
   ]
  },
  {
   "cell_type": "markdown",
   "metadata": {
    "slideshow": {
     "slide_type": "notes"
    }
   },
   "source": [
    "Here are a couple of alternative forms. The first 2 by 2 array is selected in each case."
   ]
  },
  {
   "cell_type": "code",
   "execution_count": 6,
   "metadata": {
    "slideshow": {
     "slide_type": "slide"
    }
   },
   "outputs": [
    {
     "name": "stdout",
     "output_type": "stream",
     "text": [
      "[b, c] =\n",
      " [[[ 5  6]\n",
      "  [ 7  8]]\n",
      "\n",
      " [[ 9 10]\n",
      "  [11 12]]]\n",
      "\n",
      "x[1:3] =\n",
      " [[[ 5  6]\n",
      "  [ 7  8]]\n",
      "\n",
      " [[ 9 10]\n",
      "  [11 12]]] \t (2, 2, 2)\n"
     ]
    }
   ],
   "source": [
    "# [b, c]\n",
    "print('[b, c] =\\n', np.array([b, c]))\n",
    "slice = x[1:3]\n",
    "print('\\nx[1:3] =\\n', slice, '\\t', slice.shape)"
   ]
  },
  {
   "cell_type": "markdown",
   "metadata": {
    "slideshow": {
     "slide_type": "notes"
    }
   },
   "source": [
    "1:3 means select elements 1 and 2, that is, b and c."
   ]
  },
  {
   "cell_type": "code",
   "execution_count": 7,
   "metadata": {
    "slideshow": {
     "slide_type": "slide"
    }
   },
   "outputs": [
    {
     "name": "stdout",
     "output_type": "stream",
     "text": [
      "[[ 1  2]\n",
      " [ 5  6]\n",
      " [ 9 10]] \t (3, 2)\n"
     ]
    }
   ],
   "source": [
    "# the first row of a, b and c\n",
    "slice = x[:, 0, :] # or, x[:, 0]\n",
    "print(slice, '\\t', slice.shape)"
   ]
  },
  {
   "cell_type": "markdown",
   "metadata": {
    "slideshow": {
     "slide_type": "notes"
    }
   },
   "source": [
    "The second position in the slice operator expression corresponds to the first element of `a`, `b` and `c` i.e. to the first 'row' or 'vector' of `a`, `b` or `c`."
   ]
  },
  {
   "cell_type": "markdown",
   "metadata": {
    "slideshow": {
     "slide_type": "slide"
    }
   },
   "source": [
    "Slicing MNIST image tensors about the first axis selects contiguous images"
   ]
  },
  {
   "cell_type": "markdown",
   "metadata": {
    "slideshow": {
     "slide_type": "notes"
    }
   },
   "source": [
    "Slicing MNIST image tensors about the first axis selects contiguous images."
   ]
  },
  {
   "cell_type": "code",
   "execution_count": 8,
   "metadata": {
    "slideshow": {
     "slide_type": "slide"
    }
   },
   "outputs": [
    {
     "name": "stdout",
     "output_type": "stream",
     "text": [
      "(10, 28, 28)\n"
     ]
    }
   ],
   "source": [
    "from tensorflow.keras.datasets import mnist\n",
    "(train_images, train_labels), (test_images, test_labels) = mnist.load_data()\n",
    "\n",
    "# select images 10 through to image 19\n",
    "slice = train_images[10:20]   \n",
    "print(slice.shape)"
   ]
  },
  {
   "cell_type": "markdown",
   "metadata": {
    "slideshow": {
     "slide_type": "notes"
    }
   },
   "source": [
    "The first index of the images tensors selects a specific image. `[10:20]` selects images 10 to 19."
   ]
  },
  {
   "cell_type": "markdown",
   "metadata": {
    "slideshow": {
     "slide_type": "slide"
    }
   },
   "source": [
    "`7:-7` from element 7 up to, but not including, element 21 (= 28 - 7)\n",
    " \n",
    " \n",
    "0, ..., 6,|7, ..., 20|, 21, ..., 27"
   ]
  },
  {
   "cell_type": "markdown",
   "metadata": {
    "slideshow": {
     "slide_type": "notes"
    }
   },
   "source": [
    "`7:-7` means from element 7 up to, but not including, element 21 (= 28 - 7)"
   ]
  },
  {
   "cell_type": "code",
   "execution_count": 9,
   "metadata": {
    "slideshow": {
     "slide_type": "slide"
    }
   },
   "outputs": [
    {
     "data": {
      "text/plain": [
       "(60000, 14, 14)"
      ]
     },
     "execution_count": 9,
     "metadata": {},
     "output_type": "execute_result"
    }
   ],
   "source": [
    "# extract the middle 14 x 14 subimages from all test images\n",
    "slice = train_images[:, 7:-7, 7:-7]\n",
    "slice.shape"
   ]
  },
  {
   "cell_type": "markdown",
   "metadata": {
    "slideshow": {
     "slide_type": "notes"
    }
   },
   "source": [
    "Imagine we wish to extract the middle 14 by 14 sub-image of every test image. Easy with slicing!"
   ]
  },
  {
   "cell_type": "markdown",
   "metadata": {
    "slideshow": {
     "slide_type": "slide"
    }
   },
   "source": [
    "Axis 0 (the first axis) is always the samples axis\n",
    "\n",
    "- `train_images[0]` - the first 28 x 28 image\n",
    "\n",
    "- `train_images[1]` - the second 28 x 28 image"
   ]
  },
  {
   "cell_type": "markdown",
   "metadata": {
    "slideshow": {
     "slide_type": "notes"
    }
   },
   "source": [
    "Axis 0 (the first axis) is always the samples axis\n",
    "\n",
    "`train_images[0]` - the first 28 x 28 image\n",
    "\n",
    "`train_images[1]` - the second 28 x 28 image"
   ]
  },
  {
   "cell_type": "markdown",
   "metadata": {
    "slideshow": {
     "slide_type": "slide"
    }
   },
   "source": [
    "Data is rarely processed in its entirety\n",
    "\n",
    "Data is broken up into **mini-batches**\n",
    "\n",
    "- `train_images[:128]` a mini-batch of the first 128 images\n",
    "\n",
    "- `train_images[128:256]` the second mini-batch\n",
    "\n",
    "- `train_images[128 * n, 128 * (n + 1)]` the $n+1$'th mini-batch"
   ]
  },
  {
   "cell_type": "markdown",
   "metadata": {
    "slideshow": {
     "slide_type": "notes"
    }
   },
   "source": [
    "Data is rarely processed by the network in its entirety. Data is broken up into 'mini-batches'.\n",
    "\n",
    "`train_images[:128]` a mini-batch of the first 128 images, `train_images[128:256]` the second mini-batch etc. Luckily for us, Tensorflow automatically slices training data mini-batches. We just need to specifit the size of the mini-batch - the `batch_size` argument to `fit`."
   ]
  }
 ],
 "metadata": {
  "celltoolbar": "Slideshow",
  "kernelspec": {
   "display_name": "Python 3",
   "language": "python",
   "name": "python3"
  },
  "language_info": {
   "codemirror_mode": {
    "name": "ipython",
    "version": 3
   },
   "file_extension": ".py",
   "mimetype": "text/x-python",
   "name": "python",
   "nbconvert_exporter": "python",
   "pygments_lexer": "ipython3",
   "version": "3.8.5"
  }
 },
 "nbformat": 4,
 "nbformat_minor": 4
}
