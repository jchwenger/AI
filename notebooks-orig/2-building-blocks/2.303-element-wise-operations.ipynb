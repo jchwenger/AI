{
 "cells": [
  {
   "cell_type": "markdown",
   "metadata": {
    "slideshow": {
     "slide_type": "slide"
    }
   },
   "source": [
    "Element-wise addition\n",
    "\n",
    "\\begin{eqnarray}\n",
    "\\left(\\begin{array}{c} 3 \\\\ 4 \\end{array} \\right)\n",
    "+ \\left( \\begin{array}{c} 8 \\\\ 9 \\end{array} \\right)\n",
    "= \\left( \\begin{array}{c} 11 \\\\ 13 \\end{array} \\right)\n",
    "\\end{eqnarray}"
   ]
  },
  {
   "cell_type": "markdown",
   "metadata": {
    "slideshow": {
     "slide_type": "notes"
    }
   },
   "source": [
    "Element-wise addition, and element-wise arithmetic in general proceed as if each element were separate."
   ]
  },
  {
   "cell_type": "code",
   "execution_count": 1,
   "metadata": {
    "slideshow": {
     "slide_type": "fragment"
    }
   },
   "outputs": [
    {
     "name": "stdout",
     "output_type": "stream",
     "text": [
      "[11 13]\n"
     ]
    }
   ],
   "source": [
    "import numpy as np\n",
    "x = np.array([3, 4])\n",
    "y = np.array([8, 9])\n",
    "print(x + y)"
   ]
  },
  {
   "cell_type": "markdown",
   "metadata": {
    "slideshow": {
     "slide_type": "notes"
    }
   },
   "source": [
    "Numpy interprets tensors as element-wise operands."
   ]
  },
  {
   "cell_type": "markdown",
   "metadata": {
    "slideshow": {
     "slide_type": "slide"
    }
   },
   "source": [
    "Element-wise function application\n",
    "\n",
    "\\begin{eqnarray}\n",
    "  f\\left( \\begin{array}{c} -2 \\\\ 3 \\end{array} \\right)\n",
    "  = \\left( \\begin{array}{c} f(-2) \\\\ f(3) \\end{array} \\right)\n",
    "\\end{eqnarray}"
   ]
  },
  {
   "cell_type": "markdown",
   "metadata": {
    "slideshow": {
     "slide_type": "notes"
    }
   },
   "source": [
    "Element-wise funtion application - the function is applied to each element."
   ]
  },
  {
   "cell_type": "markdown",
   "metadata": {
    "slideshow": {
     "slide_type": "slide"
    }
   },
   "source": [
    "\n",
    "`relu` activation: \n",
    "\n",
    "\\begin{eqnarray}\n",
    "  \\texttt{relu}\\left( \\begin{array}{c} -2 \\\\ 3 \\end{array} \\right)\n",
    "   = \\left( \\begin{array}{c} \\texttt{relu}(-2) \\\\ \\texttt{relu}(3) \\end{array} \\right)\n",
    "   = \\left( \\begin{array}{c} 0 \\\\ 3 \\end{array} \\right)\n",
    "\\end{eqnarray}"
   ]
  },
  {
   "cell_type": "markdown",
   "metadata": {
    "slideshow": {
     "slide_type": "notes"
    }
   },
   "source": [
    "For example, `relu` of a vector is a vector of relu applications."
   ]
  },
  {
   "cell_type": "code",
   "execution_count": 2,
   "metadata": {
    "slideshow": {
     "slide_type": "slide"
    }
   },
   "outputs": [],
   "source": [
    "# simple definition of a relu function for rank 1 tensors\n",
    "def relu(x):\n",
    "    assert len(x.shape) == 1\n",
    "    y = x.copy()\n",
    "    for i in range(x.shape[0]):\n",
    "        y[i] = max(y[i], 0.)\n",
    "    return y"
   ]
  },
  {
   "cell_type": "markdown",
   "metadata": {
    "slideshow": {
     "slide_type": "notes"
    }
   },
   "source": [
    "Here's a simple relu definition. The function parameter is assumed to be a vector. The vector is copied and `relu`'d element by element.\n",
    "\n",
    "[FRAG]\n",
    "\n",
    "A vector is returned."
   ]
  },
  {
   "cell_type": "code",
   "execution_count": 3,
   "metadata": {
    "slideshow": {
     "slide_type": "fragment"
    }
   },
   "outputs": [
    {
     "name": "stdout",
     "output_type": "stream",
     "text": [
      "[0 3]\n"
     ]
    }
   ],
   "source": [
    "x = np.array([-2, 3])\n",
    "print(relu(x))"
   ]
  }
 ],
 "metadata": {
  "celltoolbar": "Slideshow",
  "kernelspec": {
   "display_name": "Python 3",
   "language": "python",
   "name": "python3"
  },
  "language_info": {
   "codemirror_mode": {
    "name": "ipython",
    "version": 3
   },
   "file_extension": ".py",
   "mimetype": "text/x-python",
   "name": "python",
   "nbconvert_exporter": "python",
   "pygments_lexer": "ipython3",
   "version": "3.8.5"
  }
 },
 "nbformat": 4,
 "nbformat_minor": 4
}
