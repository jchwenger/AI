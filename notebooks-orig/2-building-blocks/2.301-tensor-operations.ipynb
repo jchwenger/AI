{
 "cells": [
  {
   "cell_type": "markdown",
   "metadata": {
    "slideshow": {
     "slide_type": "slide"
    }
   },
   "source": [
    "Tensor operations\n",
    "\n",
    "- slicing\n",
    "- arithmetic: addition, multiplication\n",
    "- broadcasting\n",
    "- element-wise operations\n",
    "- tensor dot (akin to matrix multiplication)"
   ]
  },
  {
   "cell_type": "markdown",
   "metadata": {
    "slideshow": {
     "slide_type": "notes"
    }
   },
   "source": [
    "Now we know what tensors are. But what can we do with them? The Numpy manual gives a vast range of operations and functions. We don't need them all. All we need to understand is what a layer does to data. For that, we have to get an grasp on tensor arithmetic and broadcasting, element-wise operations and the tensor dot.  "
   ]
  },
  {
   "cell_type": "markdown",
   "metadata": {
    "slideshow": {
     "slide_type": "slide"
    }
   },
   "source": [
    "`layers.Dense(512, activation='relu')`\n",
    "\n",
    "What does it mean?"
   ]
  },
  {
   "cell_type": "markdown",
   "metadata": {
    "slideshow": {
     "slide_type": "notes"
    }
   },
   "source": [
    "Let's begin by unpacking `layers.Dense`. What does it mean?"
   ]
  },
  {
   "cell_type": "markdown",
   "metadata": {
    "slideshow": {
     "slide_type": "slide"
    }
   },
   "source": [
    "A layer performs\n",
    "\n",
    "`f(dot(w, x) + b)`\n",
    "\n",
    "mapping rank 2 tensors to rank 2 tensors"
   ]
  },
  {
   "cell_type": "markdown",
   "metadata": {
    "slideshow": {
     "slide_type": "notes"
    }
   },
   "source": [
    "A layer performs `f(dot(w, x) + b)`, mapping rank 2 tensors to rank 2 tensors."
   ]
  },
  {
   "cell_type": "markdown",
   "metadata": {
    "slideshow": {
     "slide_type": "slide"
    }
   },
   "source": [
    "`f(dot(w, x) + b)`\n",
    "\n",
    "- `w` is the tensor of weight parameters\n",
    "- `b` is the tensor of bias parameters\n",
    "- `x` is the input tensor"
   ]
  },
  {
   "cell_type": "markdown",
   "metadata": {
    "slideshow": {
     "slide_type": "notes"
    }
   },
   "source": [
    "The expression `f(dot(w, x) + b)` is composed of operations and tensors. The tensors are `w`, the tensor of weight parameters, `b`, the tensor of bias parameters and `x`, the input tensor. The tensors are 'dotted', added and a function `f` is applied. "
   ]
  },
  {
   "cell_type": "markdown",
   "metadata": {
    "slideshow": {
     "slide_type": "slide"
    }
   },
   "source": [
    "`f(dot(w, x) + b)`\n",
    "\n",
    "- `dot` is a tensor operation similar to matrix multiplication "
   ]
  },
  {
   "cell_type": "markdown",
   "metadata": {
    "slideshow": {
     "slide_type": "notes"
    }
   },
   "source": [
    "`dot` is a tensor operation similar to matrix multiplication."
   ]
  },
  {
   "cell_type": "markdown",
   "metadata": {
    "slideshow": {
     "slide_type": "slide"
    }
   },
   "source": [
    "`f(dot(w, x) + b)`\n",
    "\n",
    "- `+` is element-wise addition "
   ]
  },
  {
   "cell_type": "markdown",
   "metadata": {
    "slideshow": {
     "slide_type": "notes"
    }
   },
   "source": [
    "`+` is element-wise addition"
   ]
  },
  {
   "cell_type": "markdown",
   "metadata": {
    "slideshow": {
     "slide_type": "slide"
    }
   },
   "source": [
    "`f(dot(w, x) + b)`\n",
    "\n",
    "- `f` is the **activation** function\n",
    "- `layers.Dense(512, activation='relu')` specifies a `relu` activation\n",
    "- `relu(x) = max(x, 0.)`"
   ]
  },
  {
   "cell_type": "markdown",
   "metadata": {
    "slideshow": {
     "slide_type": "notes"
    }
   },
   "source": [
    "`f` is the **activation** function.\n",
    "\n",
    "`layers.Dense(512, activation='relu')` specifies a `relu` activation\n",
    "\n",
    "The relu function returns the maximum of the input and 0."
   ]
  }
 ],
 "metadata": {
  "celltoolbar": "Slideshow",
  "kernelspec": {
   "display_name": "Python 3",
   "language": "python",
   "name": "python3"
  },
  "language_info": {
   "codemirror_mode": {
    "name": "ipython",
    "version": 3
   },
   "file_extension": ".py",
   "mimetype": "text/x-python",
   "name": "python",
   "nbconvert_exporter": "python",
   "pygments_lexer": "ipython3",
   "version": "3.8.5"
  }
 },
 "nbformat": 4,
 "nbformat_minor": 4
}
