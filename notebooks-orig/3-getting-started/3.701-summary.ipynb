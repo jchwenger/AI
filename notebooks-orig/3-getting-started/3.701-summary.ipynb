{
 "cells": [
  {
   "cell_type": "markdown",
   "metadata": {
    "slideshow": {
     "slide_type": "slide"
    }
   },
   "source": [
    "Binary classification, multi-class classification and scalar regression are the most common ML tasks"
   ]
  },
  {
   "cell_type": "markdown",
   "metadata": {
    "slideshow": {
     "slide_type": "notes"
    }
   },
   "source": [
    "Binary classification, multi-class classification and scalar regression are the most common ML tasks."
   ]
  },
  {
   "cell_type": "markdown",
   "metadata": {
    "slideshow": {
     "slide_type": "slide"
    }
   },
   "source": [
    "Data frequently needs preprocessing \n",
    "\n",
    "This preprocessing might include rescaling if the features are in different ranges"
   ]
  },
  {
   "cell_type": "markdown",
   "metadata": {
    "slideshow": {
     "slide_type": "notes"
    }
   },
   "source": [
    "Data frequently needs preprocessing. Rescale if the features are in different ranges."
   ]
  },
  {
   "cell_type": "markdown",
   "metadata": {
    "slideshow": {
     "slide_type": "slide"
    }
   },
   "source": [
    "Neural networks will eventually start to overfit as training progreses"
   ]
  },
  {
   "cell_type": "markdown",
   "metadata": {
    "slideshow": {
     "slide_type": "notes"
    }
   },
   "source": [
    "Neural networks will eventually start to overfit as training progreses"
   ]
  },
  {
   "cell_type": "markdown",
   "metadata": {
    "slideshow": {
     "slide_type": "slide"
    }
   },
   "source": [
    "Use one or two hidden layers if the dataset is small. This will mitigate overfitting\n",
    "\n",
    "Consider K-fold validation if the dataset is small and validation metrics waver"
   ]
  },
  {
   "cell_type": "markdown",
   "metadata": {
    "slideshow": {
     "slide_type": "notes"
    }
   },
   "source": [
    "Mitigate overfitting with a one or two hidden layer network if the dataset is small and consider K-fold validation if the dataset is small and validation metrics waver."
   ]
  },
  {
   "cell_type": "markdown",
   "metadata": {
    "slideshow": {
     "slide_type": "slide"
    }
   },
   "source": [
    "Bottlenecks occur if the data has many categories and hidden layers have too few units\n",
    "\n",
    "Regression uses different loss functions and evaluation metrics"
   ]
  },
  {
   "cell_type": "markdown",
   "metadata": {
    "slideshow": {
     "slide_type": "notes"
    }
   },
   "source": [
    "Bottlenecks occur if the data has many categories and hidden layers have too few units. Regression uses different loss functions and evaluation metrics.\n",
    "\n",
    "You will now have a pretty good idea how neural networks can solve classification and regression problems. You have also met the a major machine learning problem: overfitting. The final topic will advise on overfitting cures and outline the seven step machine learning workflow."
   ]
  }
 ],
 "metadata": {
  "celltoolbar": "Slideshow",
  "kernelspec": {
   "display_name": "Python 3",
   "language": "python",
   "name": "python3"
  },
  "language_info": {
   "codemirror_mode": {
    "name": "ipython",
    "version": 3
   },
   "file_extension": ".py",
   "mimetype": "text/x-python",
   "name": "python",
   "nbconvert_exporter": "python",
   "pygments_lexer": "ipython3",
   "version": "3.8.5"
  }
 },
 "nbformat": 4,
 "nbformat_minor": 4
}
