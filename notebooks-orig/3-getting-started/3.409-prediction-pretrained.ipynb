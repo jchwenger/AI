{
 "cells": [
  {
   "cell_type": "markdown",
   "metadata": {
    "slideshow": {
     "slide_type": "slide"
    }
   },
   "source": [
    "Our IMDB network has been trained"
   ]
  },
  {
   "cell_type": "markdown",
   "metadata": {
    "slideshow": {
     "slide_type": "notes"
    }
   },
   "source": [
    "Our IMDB network has been trained and is ready for deployment. Perhaps get a machine to rate chucks of text as positive or negative. "
   ]
  },
  {
   "cell_type": "code",
   "execution_count": 1,
   "metadata": {
    "slideshow": {
     "slide_type": "skip"
    }
   },
   "outputs": [
    {
     "name": "stdout",
     "output_type": "stream",
     "text": [
      "Epoch 1/4\n",
      "49/49 [==============================] - 1s 11ms/step - loss: 0.4552 - accuracy: 0.8173\n",
      "Epoch 2/4\n",
      "49/49 [==============================] - 1s 11ms/step - loss: 0.2551 - accuracy: 0.9113\n",
      "Epoch 3/4\n",
      "49/49 [==============================] - 1s 11ms/step - loss: 0.1969 - accuracy: 0.9292\n",
      "Epoch 4/4\n",
      "49/49 [==============================] - 1s 11ms/step - loss: 0.1657 - accuracy: 0.9392\n"
     ]
    },
    {
     "data": {
      "text/plain": [
       "<tensorflow.python.keras.callbacks.History at 0x13b737070>"
      ]
     },
     "execution_count": 1,
     "metadata": {},
     "output_type": "execute_result"
    }
   ],
   "source": [
    "from tensorflow.keras.datasets import imdb\n",
    "\n",
    "((train_data, train_labels), (test_data, test_labels)) = imdb.load_data(num_words = 10000)\n",
    "\n",
    "import numpy as np\n",
    "\n",
    "def vectorize_sequences(sequences, dimension = 10000):\n",
    "    results = np.zeros( (len(sequences), dimension) )\n",
    "    for i, sequence in enumerate(sequences):\n",
    "        results[i, sequence] = 1.\n",
    "    return results\n",
    "\n",
    "x_train = vectorize_sequences(train_data)\n",
    "x_test = vectorize_sequences(test_data)\n",
    "\n",
    "y_train = np.asarray(train_labels).astype('float32')\n",
    "y_test = np.asarray(test_labels).astype('float32')\n",
    "\n",
    "from tensorflow.keras import models\n",
    "from tensorflow.keras import layers\n",
    "\n",
    "model = models.Sequential()\n",
    "model.add(layers.Dense(16, activation = 'relu', input_shape = (10000,)))\n",
    "model.add(layers.Dense(16, activation = 'relu'))\n",
    "model.add(layers.Dense(1, activation = 'sigmoid'))\n",
    "\n",
    "model.compile(optimizer='rmsprop',\n",
    "             loss='binary_crossentropy',\n",
    "             metrics=['accuracy'])\n",
    "\n",
    "model.fit(x_train, y_train, epochs = 4, batch_size = 512)"
   ]
  },
  {
   "cell_type": "code",
   "execution_count": 4,
   "metadata": {
    "slideshow": {
     "slide_type": "slide"
    }
   },
   "outputs": [
    {
     "data": {
      "text/plain": [
       "array([[0.16038436],\n",
       "       [0.9999798 ],\n",
       "       [0.915747  ],\n",
       "       [0.83915466],\n",
       "       [0.9537009 ],\n",
       "       [0.8669092 ],\n",
       "       [0.99947035],\n",
       "       [0.01265699],\n",
       "       [0.9718611 ],\n",
       "       [0.9978831 ]], dtype=float32)"
      ]
     },
     "execution_count": 4,
     "metadata": {},
     "output_type": "execute_result"
    }
   ],
   "source": [
    "model.predict(x_test[:10])"
   ]
  },
  {
   "cell_type": "markdown",
   "metadata": {
    "slideshow": {
     "slide_type": "notes"
    }
   },
   "source": [
    "`predict` gives network output. Here we see the first ten predictions as values between 0 and 1."
   ]
  },
  {
   "cell_type": "code",
   "execution_count": 5,
   "metadata": {
    "slideshow": {
     "slide_type": "slide"
    }
   },
   "outputs": [
    {
     "data": {
      "text/plain": [
       "array([0, 1, 1, 0, 1, 1, 1, 0, 0, 1])"
      ]
     },
     "execution_count": 5,
     "metadata": {},
     "output_type": "execute_result"
    }
   ],
   "source": [
    "test_labels[0:10]"
   ]
  },
  {
   "cell_type": "markdown",
   "metadata": {
    "slideshow": {
     "slide_type": "notes"
    }
   },
   "source": [
    "Here are the targets - the first ten labels."
   ]
  },
  {
   "cell_type": "code",
   "execution_count": 6,
   "metadata": {
    "slideshow": {
     "slide_type": "slide"
    }
   },
   "outputs": [
    {
     "name": "stdout",
     "output_type": "stream",
     "text": [
      "review \t prediction \t \t label\n",
      "0 \t 0.16038433 \t 0.0 \t 0\n",
      "1 \t 0.9999798 \t 1.0 \t 1\n",
      "2 \t 0.91574717 \t 1.0 \t 1\n",
      "3 \t 0.83915484 \t 1.0 \t 0\n",
      "4 \t 0.9537009 \t 1.0 \t 1\n",
      "5 \t 0.86690915 \t 1.0 \t 1\n",
      "6 \t 0.9994703 \t 1.0 \t 1\n",
      "7 \t 0.012656927 \t 0.0 \t 0\n",
      "8 \t 0.9718611 \t 1.0 \t 0\n",
      "9 \t 0.9978831 \t 1.0 \t 1\n",
      "10 \t 0.9553802 \t 1.0 \t 1\n",
      "11 \t 0.007366717 \t 0.0 \t 0\n",
      "12 \t 0.00028815866 \t 0.0 \t 0\n",
      "13 \t 0.027026087 \t 0.0 \t 0\n",
      "14 \t 0.9992556 \t 1.0 \t 1\n",
      "15 \t 0.00021713972 \t 0.0 \t 0\n",
      "16 \t 0.9063751 \t 1.0 \t 1\n",
      "17 \t 0.7856398 \t 1.0 \t 0\n",
      "18 \t 0.0067875385 \t 0.0 \t 0\n",
      "19 \t 0.05469632 \t 0.0 \t 0\n"
     ]
    }
   ],
   "source": [
    "print('review', '\\t', 'prediction', '\\t', '\\t', 'label')\n",
    "for i in range(20):\n",
    "    y_pred = model.predict(x_test[i:i+1])[0][0]\n",
    "\n",
    "    print(i, '\\t', y_pred,'\\t', round(y_pred), '\\t', test_labels[i])"
   ]
  },
  {
   "cell_type": "markdown",
   "metadata": {
    "slideshow": {
     "slide_type": "notes"
    }
   },
   "source": [
    "Let's look at some examples... the third column is the rounded network prediction. Quite a lot of hits, but a few mistakes too."
   ]
  },
  {
   "cell_type": "code",
   "execution_count": 2,
   "metadata": {
    "slideshow": {
     "slide_type": "skip"
    }
   },
   "outputs": [],
   "source": [
    "def find_first(prediction, label):\n",
    "    for i in range(len(x_test)):\n",
    "        y_pred = round(model.predict(x_test[i:i+1])[0][0])\n",
    "        if(y_pred == prediction and test_labels[i] == label):\n",
    "            return i"
   ]
  },
  {
   "cell_type": "code",
   "execution_count": 3,
   "metadata": {
    "slideshow": {
     "slide_type": "skip"
    }
   },
   "outputs": [],
   "source": [
    "def print_review(n):\n",
    "    \n",
    "    word_index = imdb.get_word_index()\n",
    "    reverse_word_index = dict([(value, key) for (key,value) in word_index.items()])\n",
    "    decoded_review = ' '.join([reverse_word_index.get(i - 3, '?') for i in test_data[n]])\n",
    "    \n",
    "    y_pred = model.predict(x_test[n:n+1])[0][0]\n",
    "    print('predicted: ', np.round(y_pred), '\\tlabel:', test_labels[n])\n",
    "    print(decoded_review, '\\n')   "
   ]
  },
  {
   "cell_type": "code",
   "execution_count": 7,
   "metadata": {
    "slideshow": {
     "slide_type": "slide"
    }
   },
   "outputs": [
    {
     "name": "stdout",
     "output_type": "stream",
     "text": [
      "predicted:  0.0 \tlabel: 0\n",
      "? please give this one a miss br br ? ? and the rest of the cast rendered terrible performances the show is flat flat flat br br i don't know how michael madison could have allowed this one on his plate he almost seemed to know this wasn't going to work out and his performance was quite ? so all you madison fans give this a miss \n",
      "\n"
     ]
    }
   ],
   "source": [
    "print_review(find_first(prediction=0, label=0))"
   ]
  },
  {
   "cell_type": "markdown",
   "metadata": {
    "slideshow": {
     "slide_type": "notes"
    }
   },
   "source": [
    "The first successful prediction of a negative review. "
   ]
  },
  {
   "cell_type": "code",
   "execution_count": 8,
   "metadata": {
    "slideshow": {
     "slide_type": "slide"
    }
   },
   "outputs": [
    {
     "name": "stdout",
     "output_type": "stream",
     "text": [
      "predicted:  1.0 \tlabel: 1\n",
      "? this film requires a lot of patience because it focuses on mood and character development the plot is very simple and many of the scenes take place on the same set in frances ? the sandy dennis character apartment but the film builds to a disturbing climax br br the characters create an atmosphere ? with sexual tension and psychological ? it's very interesting that robert altman directed this considering the style and structure of his other films still the trademark altman audio style is evident here and there i think what really makes this film work is the brilliant performance by sandy dennis it's definitely one of her darker characters but she plays it so perfectly and convincingly that it's scary michael burns does a good job as the mute young man regular altman player michael murphy has a small part the ? moody set fits the content of the story very well in short this movie is a powerful study of loneliness sexual ? and desperation be patient ? up the atmosphere and pay attention to the wonderfully written script br br i praise robert altman this is one of his many films that deals with unconventional fascinating subject matter this film is disturbing but it's sincere and it's sure to ? a strong emotional response from the viewer if you want to see an unusual film some might even say bizarre this is worth the time br br unfortunately it's very difficult to find in video stores you may have to buy it off the internet \n",
      "\n"
     ]
    }
   ],
   "source": [
    "print_review(find_first(prediction=1, label=1))"
   ]
  },
  {
   "cell_type": "markdown",
   "metadata": {
    "slideshow": {
     "slide_type": "notes"
    }
   },
   "source": [
    "The first successful positive prediction."
   ]
  },
  {
   "cell_type": "code",
   "execution_count": 9,
   "metadata": {
    "slideshow": {
     "slide_type": "slide"
    }
   },
   "outputs": [
    {
     "name": "stdout",
     "output_type": "stream",
     "text": [
      "predicted:  0.0 \tlabel: 1\n",
      "? how managed to avoid attention remains a mystery a potent mix of comedy and crime this one takes chances where tarantino plays it safe with the hollywood formula the risks don't always pay off one character in one sequence comes off ? silly and falls flat in the lead role thomas jane gives a wonderful and complex performance and two brief appearances by mickey rourke hint at the high potential of this much under and ? used actor here's a director one should keep one's eye on \n",
      "\n"
     ]
    }
   ],
   "source": [
    "print_review(find_first(prediction=0, label=1))"
   ]
  },
  {
   "cell_type": "markdown",
   "metadata": {
    "slideshow": {
     "slide_type": "notes"
    }
   },
   "source": [
    "The network predicted negative but the actual label is positive. What do you think?"
   ]
  },
  {
   "cell_type": "code",
   "execution_count": 10,
   "metadata": {
    "slideshow": {
     "slide_type": "slide"
    }
   },
   "outputs": [
    {
     "name": "stdout",
     "output_type": "stream",
     "text": [
      "predicted:  1.0 \tlabel: 0\n",
      "? i generally love this type of movie however this time i found myself wanting to kick the screen since i can't do that i will just complain about it this was absolutely idiotic the things that happen with the dead kids are very cool but the alive people are absolute idiots i am a grown man pretty big and i can defend myself well however i would not do half the stuff the little girl does in this movie also the mother in this movie is reckless with her children to the point of neglect i wish i wasn't so angry about her and her actions because i would have otherwise enjoyed the flick what a number she was take my advise and fast forward through everything you see her do until the end also is anyone else getting sick of watching movies that are filmed so dark anymore one can hardly see what is being filmed as an audience we are ? involved with the actions on the screen so then why the hell can't we have night vision \n",
      "\n"
     ]
    }
   ],
   "source": [
    "print_review(find_first(prediction=1, label=0))"
   ]
  },
  {
   "cell_type": "markdown",
   "metadata": {
    "slideshow": {
     "slide_type": "notes"
    }
   },
   "source": [
    "And the network wrongly classed this review as positive."
   ]
  }
 ],
 "metadata": {
  "celltoolbar": "Slideshow",
  "kernelspec": {
   "display_name": "Python 3",
   "language": "python",
   "name": "python3"
  },
  "language_info": {
   "codemirror_mode": {
    "name": "ipython",
    "version": 3
   },
   "file_extension": ".py",
   "mimetype": "text/x-python",
   "name": "python",
   "nbconvert_exporter": "python",
   "pygments_lexer": "ipython3",
   "version": "3.8.5"
  }
 },
 "nbformat": 4,
 "nbformat_minor": 4
}
