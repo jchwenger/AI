{
 "cells": [
  {
   "cell_type": "markdown",
   "metadata": {
    "slideshow": {
     "slide_type": "slide"
    }
   },
   "source": [
    "The training data is normalised by shifting and rescaling to a mean of 0 and a standard deviation of 1\n",
    "\n",
    "Test data is normalised using the mean and standard deviation of the *training* set "
   ]
  },
  {
   "cell_type": "markdown",
   "metadata": {
    "slideshow": {
     "slide_type": "notes"
    }
   },
   "source": [
    "The training data is normalised by shifting and rescaling to a mean of 0 and a standard deviation of 1. For consistency, test data is normalised using the mean and standard deviation of the *training* set. And the workflow should never be polluted with any property that has been derived from the test set.  "
   ]
  },
  {
   "cell_type": "code",
   "execution_count": 1,
   "metadata": {
    "slideshow": {
     "slide_type": "skip"
    }
   },
   "outputs": [
    {
     "name": "stdout",
     "output_type": "stream",
     "text": [
      "(404, 13) (102, 13)\n"
     ]
    }
   ],
   "source": [
    "from tensorflow.keras.datasets import boston_housing\n",
    "\n",
    "(train_data, train_targets), (test_data, test_targets) = boston_housing.load_data()\n",
    "print(train_data.shape, test_data.shape)"
   ]
  },
  {
   "cell_type": "code",
   "execution_count": 2,
   "metadata": {
    "slideshow": {
     "slide_type": "slide"
    }
   },
   "outputs": [],
   "source": [
    "mean = train_data.mean(axis = 0)\n",
    "train_data -= mean # shift\n",
    "std = train_data.std(axis = 0)\n",
    "train_data /= std # rescale\n",
    "\n",
    "test_data -= mean\n",
    "test_data /= std"
   ]
  },
  {
   "cell_type": "markdown",
   "metadata": {
    "slideshow": {
     "slide_type": "notes"
    }
   },
   "source": [
    "Normalisation. The mean is calculated about the samples axis i.e. column by column in the sample-feature table. The mean is subtracted from each sample so that the mean of the shifted data is zero, and division by the standard deviation scales the data to a standard deviation of one.    "
   ]
  },
  {
   "cell_type": "code",
   "execution_count": 3,
   "metadata": {
    "slideshow": {
     "slide_type": "slide"
    }
   },
   "outputs": [],
   "source": [
    "def stats(x):\n",
    "    mean = sum(x) / len(x)\n",
    "    devs = x - mean\n",
    "    ave_sq_devs = sum(devs**2) / len(x)\n",
    "    std = np.sqrt(ave_sq_devs)\n",
    "    return mean, std  "
   ]
  },
  {
   "cell_type": "markdown",
   "metadata": {
    "slideshow": {
     "slide_type": "notes"
    }
   },
   "source": [
    "Let's have a look at what all that means. This function returns the mean and standard deviation of a list of values. The mean is exactly the same as the average - the total divided by then number of items - and the standard deviation is the square root of the average square deviation from the mean. The square deviation is used because deviations can be negative as well as positive and we wish to measure spread.    "
   ]
  },
  {
   "cell_type": "code",
   "execution_count": 4,
   "metadata": {
    "slideshow": {
     "slide_type": "slide"
    }
   },
   "outputs": [],
   "source": [
    "def normalise(x):\n",
    "    mean, std = stats(x)\n",
    "    return (x - mean) / std"
   ]
  },
  {
   "cell_type": "markdown",
   "metadata": {
    "slideshow": {
     "slide_type": "notes"
    }
   },
   "source": [
    "Here is a normalisation function."
   ]
  },
  {
   "cell_type": "code",
   "execution_count": 5,
   "metadata": {
    "slideshow": {
     "slide_type": "slide"
    }
   },
   "outputs": [],
   "source": [
    "def print_stats(x):\n",
    "    mean, std = stats(x)\n",
    "    print('x =', x, '\\nmean = ', mean, ', std =', std)"
   ]
  },
  {
   "cell_type": "markdown",
   "metadata": {
    "slideshow": {
     "slide_type": "notes"
    }
   },
   "source": [
    "A simple print function to declutter code."
   ]
  },
  {
   "cell_type": "code",
   "execution_count": 6,
   "metadata": {
    "slideshow": {
     "slide_type": "slide"
    }
   },
   "outputs": [
    {
     "name": "stdout",
     "output_type": "stream",
     "text": [
      "x = [10. 20. 30. 40. 50.] \n",
      "mean =  30.0 , std = 14.142135623730951\n",
      "x = [-1.41421356 -0.70710678  0.          0.70710678  1.41421356] \n",
      "mean =  0.0 , std = 0.9999999999999999\n"
     ]
    }
   ],
   "source": [
    "import numpy as np\n",
    "x = np.array([10.0, 20.0, 30.0, 40.0, 50.0])\n",
    "print_stats(x)\n",
    "\n",
    "x = normalise(x)\n",
    "print_stats(x)"
   ]
  },
  {
   "cell_type": "markdown",
   "metadata": {
    "slideshow": {
     "slide_type": "notes"
    }
   },
   "source": [
    "The mean of the data held in `x` is clearly 30 and the standard deviation is... 14. Most of the data is between 16\n",
    "and 44; the data has a range of 40. The normalised data is distributed around 0 and has a range of 2.8."
   ]
  },
  {
   "cell_type": "code",
   "execution_count": 7,
   "metadata": {
    "slideshow": {
     "slide_type": "slide"
    }
   },
   "outputs": [
    {
     "name": "stdout",
     "output_type": "stream",
     "text": [
      "x = [ 5. 10. 30. 50. 55.] \n",
      "mean =  30.0 , std = 20.248456731316587\n",
      "x = [-1.234662  -0.9877296  0.         0.9877296  1.234662 ] \n",
      "mean =  0.0 , std = 1.0\n"
     ]
    }
   ],
   "source": [
    "x = np.array([5.0, 10.0, 30.0, 50.0, 55.0])\n",
    "print_stats(x)\n",
    "\n",
    "x = normalise(x)\n",
    "print_stats(x)"
   ]
  },
  {
   "cell_type": "markdown",
   "metadata": {
    "slideshow": {
     "slide_type": "notes"
    }
   },
   "source": [
    "The mean of this list is still 30 but the data is more spread out . Indeed the standard deviation is... 20. The normalised data is distributed about 0 and most values are within one 1 unit of the mean."
   ]
  },
  {
   "cell_type": "code",
   "execution_count": 8,
   "metadata": {
    "slideshow": {
     "slide_type": "slide"
    }
   },
   "outputs": [
    {
     "name": "stdout",
     "output_type": "stream",
     "text": [
      "[[1 2]\n",
      " [3 4]\n",
      " [5 6]]\n",
      "\n",
      "[ 9 12]\n",
      "\n",
      "[ 3  7 11]\n"
     ]
    }
   ],
   "source": [
    "x = np.array([[1, 2], [3, 4], [5, 6]])\n",
    "print(x)\n",
    "print()\n",
    "print(np.sum(x, axis=0))\n",
    "print()\n",
    "print(np.sum(x, axis=1)) "
   ]
  },
  {
   "cell_type": "markdown",
   "metadata": {
    "slideshow": {
     "slide_type": "notes"
    }
   },
   "source": [
    "The axis = 0 parameter tells `mean()` to calculate by summing down columns. The affect of summing along different axes is illustrated with this example. `x` is a 3 by 2 matrix. The column sums are 9 and 12 and the row sums - axis 1 - are 3, 7 and 11."
   ]
  }
 ],
 "metadata": {
  "celltoolbar": "Slideshow",
  "kernelspec": {
   "display_name": "Python 3",
   "language": "python",
   "name": "python3"
  },
  "language_info": {
   "codemirror_mode": {
    "name": "ipython",
    "version": 3
   },
   "file_extension": ".py",
   "mimetype": "text/x-python",
   "name": "python",
   "nbconvert_exporter": "python",
   "pygments_lexer": "ipython3",
   "version": "3.8.5"
  }
 },
 "nbformat": 4,
 "nbformat_minor": 4
}
