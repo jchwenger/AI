{
 "cells": [
  {
   "cell_type": "markdown",
   "metadata": {
    "slideshow": {
     "slide_type": "slide"
    }
   },
   "source": [
    "There are 46 classes. The classification problem is more complex than the two class IMDB example\n",
    "\n",
    "We used a 16 dimensional representational space for the intermediate IMDB layers \n",
    "\n",
    "But 16 dimensions might be too small"
   ]
  },
  {
   "cell_type": "markdown",
   "metadata": {
    "slideshow": {
     "slide_type": "notes"
    }
   },
   "source": [
    "There are 46 classes. The classification problem is more complex than the two class IMDB example\n",
    "\n",
    "We used a 16 dimensional representational space for the intermediate IMDB layers \n",
    "\n",
    "But 16 dimensions might be too small"
   ]
  },
  {
   "cell_type": "markdown",
   "metadata": {
    "slideshow": {
     "slide_type": "slide"
    }
   },
   "source": [
    "Information dropped by a layer can never be recovered - a potential **information bottleneck**\n",
    "\n",
    "Therefore we need bigger layers (more units)\n",
    "\n",
    "Try 64 unit layers"
   ]
  },
  {
   "cell_type": "markdown",
   "metadata": {
    "slideshow": {
     "slide_type": "notes"
    }
   },
   "source": [
    "Information dropped by a layer can never be recovered - a potential **information bottleneck**\n",
    "\n",
    "Therefore we need bigger layers (more units)\n",
    "\n",
    "Try 64 unit layers"
   ]
  },
  {
   "cell_type": "markdown",
   "metadata": {
    "slideshow": {
     "slide_type": "slide"
    }
   },
   "source": [
    "We require that the network outputs a 46D vector; therefore the final layer must have 46 units\n",
    "\n",
    "The layer should output the probability of class membership\n",
    "\n",
    "A softmax activation produces an output interpretable as a probability distribution\n",
    "\n",
    "\\begin{align*}\n",
    "f(x_i) &= \\frac{e^{x_i}}{\\sum_i e^{x_i}}\n",
    "\\end{align*}"
   ]
  },
  {
   "cell_type": "markdown",
   "metadata": {
    "slideshow": {
     "slide_type": "notes"
    }
   },
   "source": [
    "We require that the network outputs a 46D vector; therefore the final layer must have 46 units. The layer should output the probabilty of class membership. A softmax activation produces an output interpretable as a probability distribution.\n",
    "\n",
    "\\begin{align*}\n",
    "f(x_i) &= \\frac{e^{x_i}}{\\sum_i e^{x_i}}\n",
    "\\end{align*}"
   ]
  },
  {
   "cell_type": "code",
   "execution_count": 2,
   "metadata": {
    "slideshow": {
     "slide_type": "slide"
    }
   },
   "outputs": [],
   "source": [
    "import numpy as np\n",
    "\n",
    "def softmax(x):\n",
    "    return np.exp(x) / sum(np.exp(x))"
   ]
  },
  {
   "cell_type": "markdown",
   "metadata": {
    "slideshow": {
     "slide_type": "notes"
    }
   },
   "source": [
    "The softmax function as code."
   ]
  },
  {
   "cell_type": "code",
   "execution_count": 3,
   "metadata": {
    "slideshow": {
     "slide_type": "slide"
    }
   },
   "outputs": [
    {
     "name": "stdout",
     "output_type": "stream",
     "text": [
      "x = [1 1 1 1] \t softmax(x) = [0.25 0.25 0.25 0.25] \t sum = 1.0\n"
     ]
    }
   ],
   "source": [
    "x = np.array([1, 1, 1, 1])\n",
    "print('x =', x, '\\t', 'softmax(x) =', softmax(x), '\\t', 'sum =', sum(softmax(x)))"
   ]
  },
  {
   "cell_type": "markdown",
   "metadata": {
    "slideshow": {
     "slide_type": "notes"
    }
   },
   "source": [
    "Let's look at softmax of a vector with equal elements... the output vector also has equal elements, and since the elements must sum to zero, each element of softmax(x) is 0.25."
   ]
  },
  {
   "cell_type": "code",
   "execution_count": 4,
   "metadata": {
    "slideshow": {
     "slide_type": "slide"
    }
   },
   "outputs": [
    {
     "name": "stdout",
     "output_type": "stream",
     "text": [
      "x = [1 2 1 1] \t softmax(x) = [0.1748777  0.47536689 0.1748777  0.1748777 ] \t sum = 1.0000000000000002\n"
     ]
    }
   ],
   "source": [
    "x = np.array([1, 2, 1, 1])\n",
    "print('x =', x, '\\t', 'softmax(x) =', softmax(x), '\\t', 'sum =', sum(softmax(x)))"
   ]
  },
  {
   "cell_type": "markdown",
   "metadata": {
    "slideshow": {
     "slide_type": "notes"
    }
   },
   "source": [
    "The second element of x is larger than the other elements... and the second element of softmax(x) is the largest. The elements sum to 1. "
   ]
  },
  {
   "cell_type": "code",
   "execution_count": 5,
   "metadata": {
    "slideshow": {
     "slide_type": "slide"
    }
   },
   "outputs": [
    {
     "name": "stdout",
     "output_type": "stream",
     "text": [
      "x = [1 8 1 1] \t softmax(x) = [9.09394185e-04 9.97271817e-01 9.09394185e-04 9.09394185e-04] \t sum = 0.9999999999999999\n"
     ]
    }
   ],
   "source": [
    "x = np.array([1, 8, 1, 1])\n",
    "print('x =', x, '\\t', 'softmax(x) =', softmax(x), '\\t', 'sum =', sum(softmax(x)))"
   ]
  },
  {
   "cell_type": "markdown",
   "metadata": {
    "slideshow": {
     "slide_type": "notes"
    }
   },
   "source": [
    "The second element of x is again the largest - but by a bigger proportion. Now softmax(x) has a clear peak in the second element - about 1000 times bigger than the other elements.\n",
    "\n",
    "Softmax heightens the larger elements of a vector whilst ensuring that the vector elements sum to 1. A hardmax function in these examples would have produced [0, 1, 0, 0]. Softmax retains information of the smaller elements. Furthermore, it is differentiable."
   ]
  },
  {
   "cell_type": "code",
   "execution_count": 1,
   "metadata": {
    "slideshow": {
     "slide_type": "skip"
    }
   },
   "outputs": [],
   "source": [
    "from tensorflow.keras.datasets import reuters\n",
    "(train_data, train_labels,), (test_data, test_labels) = reuters.load_data(num_words=10000)\n",
    "\n",
    "import numpy as np\n",
    "def vectorize_sequences(sequences, dimension = 10000):\n",
    "    results = np.zeros((len(sequences), dimension))\n",
    "    for i, sequence in enumerate(sequences):\n",
    "        results[i, sequence] = 1.\n",
    "    return results\n",
    "\n",
    "x_train = vectorize_sequences(train_data)\n",
    "x_test = vectorize_sequences(test_data)\n",
    "\n",
    "y_train = np.asarray(train_labels).astype('float32')\n",
    "y_test = np.asarray(test_labels).astype('float32')\n",
    "\n",
    "from tensorflow.keras.utils import to_categorical # one hot encoder for lists\n",
    "one_hot_train_labels = to_categorical(train_labels)\n",
    "one_hot_test_labels = to_categorical(test_labels)"
   ]
  },
  {
   "cell_type": "code",
   "execution_count": 6,
   "metadata": {
    "slideshow": {
     "slide_type": "slide"
    }
   },
   "outputs": [
    {
     "name": "stdout",
     "output_type": "stream",
     "text": [
      "Model: \"sequential\"\n",
      "_________________________________________________________________\n",
      "Layer (type)                 Output Shape              Param #   \n",
      "=================================================================\n",
      "dense (Dense)                (None, 64)                640064    \n",
      "_________________________________________________________________\n",
      "dense_1 (Dense)              (None, 64)                4160      \n",
      "_________________________________________________________________\n",
      "dense_2 (Dense)              (None, 46)                2990      \n",
      "=================================================================\n",
      "Total params: 647,214\n",
      "Trainable params: 647,214\n",
      "Non-trainable params: 0\n",
      "_________________________________________________________________\n"
     ]
    }
   ],
   "source": [
    "from tensorflow.keras import models\n",
    "from tensorflow.keras import layers\n",
    "\n",
    "model = models.Sequential()\n",
    "model.add(layers.Dense(64, activation = 'relu', input_shape = (10000,)))\n",
    "model.add(layers.Dense(64, activation = 'relu'))\n",
    "model.add(layers.Dense(46, activation = 'softmax'))\n",
    "\n",
    "model.summary()"
   ]
  },
  {
   "cell_type": "markdown",
   "metadata": {
    "slideshow": {
     "slide_type": "notes"
    }
   },
   "source": [
    "Two 64 unit relu layers and a final 46 unit softmax layer. `model.summary` shows the output shape of each layer and the number of trainable parameters - the number of parameters in the w and b layer tensors. The length of the zero'th axis, the samples axis, is zero as usual. There are 647,214 trainable parameters. "
   ]
  },
  {
   "cell_type": "code",
   "execution_count": 7,
   "metadata": {
    "slideshow": {
     "slide_type": "slide"
    }
   },
   "outputs": [
    {
     "name": "stdout",
     "output_type": "stream",
     "text": [
      "0 \t (10000, 64) \t (64,)\n",
      "1 \t (64, 64) \t (64,)\n",
      "2 \t (64, 46) \t (46,)\n"
     ]
    }
   ],
   "source": [
    "# The weight and bias tensors\n",
    "def print_layer_tensor_shape(layer):\n",
    "    weight_params = model.layers[layer].get_weights()[0]\n",
    "    bias_params = model.layers[layer].get_weights()[1]\n",
    "    print(layer, '\\t', weight_params.shape, '\\t', bias_params.shape)\n",
    "\n",
    "print_layer_tensor_shape(layer=0)\n",
    "print_layer_tensor_shape(layer=1)\n",
    "print_layer_tensor_shape(layer=2)"
   ]
  },
  {
   "cell_type": "markdown",
   "metadata": {
    "slideshow": {
     "slide_type": "notes"
    }
   },
   "source": [
    "...the shape of the weight and bias tensors, layer by layer."
   ]
  },
  {
   "cell_type": "code",
   "execution_count": 8,
   "metadata": {
    "slideshow": {
     "slide_type": "slide"
    }
   },
   "outputs": [
    {
     "data": {
      "text/plain": [
       "647214"
      ]
     },
     "execution_count": 8,
     "metadata": {},
     "output_type": "execute_result"
    }
   ],
   "source": [
    "(10000 * 64 + 64) + (64 * 64 + 64) + (64 * 46 + 46)"
   ]
  },
  {
   "cell_type": "markdown",
   "metadata": {
    "slideshow": {
     "slide_type": "notes"
    }
   },
   "source": [
    "The weight tensor has shape (n, m) - a matrix with n rows and m columns. Therefore there are n times m elements. The bias tensor is just a vector so the number of elements is equal to the length. The total number of trainable parameters - the total number of elements in all the w and b tensors is therefore given by this sum... which evaluates to 647,214."
   ]
  },
  {
   "cell_type": "code",
   "execution_count": 9,
   "metadata": {
    "slideshow": {
     "slide_type": "slide"
    }
   },
   "outputs": [],
   "source": [
    "model.compile(optimizer = 'rmsprop', loss = 'categorical_crossentropy', metrics = ['accuracy'])"
   ]
  },
  {
   "cell_type": "markdown",
   "metadata": {
    "slideshow": {
     "slide_type": "notes"
    }
   },
   "source": [
    "The loss function should measure the distance from the output distribution to the true distribution. `categorical_crossentropy` is the best choice. The `rmsprop` optimiser is again chosen..."
   ]
  }
 ],
 "metadata": {
  "celltoolbar": "Slideshow",
  "kernelspec": {
   "display_name": "Python 3",
   "language": "python",
   "name": "python3"
  },
  "language_info": {
   "codemirror_mode": {
    "name": "ipython",
    "version": 3
   },
   "file_extension": ".py",
   "mimetype": "text/x-python",
   "name": "python",
   "nbconvert_exporter": "python",
   "pygments_lexer": "ipython3",
   "version": "3.8.5"
  }
 },
 "nbformat": 4,
 "nbformat_minor": 4
}
