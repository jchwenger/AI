{
 "cells": [
  {
   "cell_type": "markdown",
   "metadata": {
    "slideshow": {
     "slide_type": "slide"
    }
   },
   "source": [
    "Vector samples, scalar labels\n",
    "\n",
    "A  stack of fully connected `relu`-activated layers performs well"
   ]
  },
  {
   "cell_type": "markdown",
   "metadata": {
    "slideshow": {
     "slide_type": "notes"
    }
   },
   "source": [
    "A stack of fully connected `relu`-activated layer is expepced to perform well with vector samples and scalar labels."
   ]
  },
  {
   "cell_type": "markdown",
   "metadata": {
    "slideshow": {
     "slide_type": "slide"
    }
   },
   "source": [
    "`Dense(16, activation='relu')`\n",
    "\n",
    "This layer transforms an input tensor into a 1D tensor of length 16 - equivalent to a 16 dimensional vector"
   ]
  },
  {
   "cell_type": "markdown",
   "metadata": {
    "slideshow": {
     "slide_type": "notes"
    }
   },
   "source": [
    "This 'dense' layer transforms an input tensor into a 1D tensor of length 16 - equivalent to a 16 dimensional vector"
   ]
  },
  {
   "cell_type": "markdown",
   "metadata": {
    "slideshow": {
     "slide_type": "slide"
    }
   },
   "source": [
    "The number of elements in a vector is the 'dimension' or 'length' of the vector - easily confused with the dimension of a tensor, which is the number of axes of that tensor\n",
    "\n",
    "The representational space of this layer has 16 dimensions - the layer has 16 **(hidden) units**"
   ]
  },
  {
   "cell_type": "markdown",
   "metadata": {
    "slideshow": {
     "slide_type": "notes"
    }
   },
   "source": [
    "The number of elements in a vector is the 'dimension' or 'length' of the vector - easily confused with the dimension of a tensor, which is the number of axes of that tensor. The representational space of this layer has 16 dimensions - the input is transformed into a 16 element vector. The layer has 16 **(hidden) units**. What is a unit?"
   ]
  },
  {
   "cell_type": "markdown",
   "metadata": {
    "slideshow": {
     "slide_type": "slide"
    }
   },
   "source": [
    "A unit is a throwback to the days when artificial neural networks were based on biological neural networks\n",
    "\n",
    "A unit is the computational analogue of the neuron\n",
    "\n",
    "This layer performs a geometric transformation resulting in a point in 16 dimensional space"
   ]
  },
  {
   "cell_type": "markdown",
   "metadata": {
    "slideshow": {
     "slide_type": "notes"
    }
   },
   "source": [
    "A unit is a throwback to the days when artificial neural networks were based on biological neural networks. A unit is the computational analogue of the neuron. This layer performs a geometric transformation resulting in a point in 16 dimensional space. 16 units, 16 dimensional output - that's all you need know. Modern deep learning regards the layer and not the unit as fundamental."
   ]
  },
  {
   "cell_type": "markdown",
   "metadata": {
    "slideshow": {
     "slide_type": "slide"
    }
   },
   "source": [
    "`Dense(16, activation='relu')` implements `output = relu(dot(w, input) + b)`\n",
    "\n",
    "The weight parmeters are stored in a 2D tensor of shape `(n, 16)` where `n` is the length of the input 1D tensor\n",
    "\n",
    "The bias tensor has shape `(16,)`"
   ]
  },
  {
   "cell_type": "markdown",
   "metadata": {
    "slideshow": {
     "slide_type": "notes"
    }
   },
   "source": [
    "`Dense(16, activation='relu')` implements the transformation `relu(dot(w, input) + b)`. The weight parmeters are stored in a 2D tensor of shape `(n, 16)` where `n` is the length of the input 1D tensor; the bias tensor has shape `(16,)`"
   ]
  },
  {
   "cell_type": "markdown",
   "metadata": {
    "slideshow": {
     "slide_type": "skip"
    }
   },
   "source": [
    "TensorFlow knows how to correctly match axes in the `dot` and `+` operations\n",
    "\n",
    "The mathematical analogue..."
   ]
  },
  {
   "cell_type": "markdown",
   "metadata": {
    "slideshow": {
     "slide_type": "skip"
    }
   },
   "source": [
    "\\begin{align*}\n",
    "z &= w \\cdot x + b \\\\\n",
    "z_i &= \\sum_{j = 1}^{16} w_{ij}x_j + b_i, \\quad i = 1, 2\\ldots, n\n",
    "\\end{align*}\n",
    "\n",
    "| $z$ | $=$ | $w$ | $\\cdot$ | $x$ | $+$ | $b$ |\n",
    "|:-----:|:-----:|:-----:|:---------:|:-----:|:-----:|:-----:|\n",
    "|$16 \\times 1$ | | $ 16 \\times n$ | |$n \\times 1$|  | $16 \\times 1$ |"
   ]
  },
  {
   "cell_type": "markdown",
   "metadata": {
    "slideshow": {
     "slide_type": "skip"
    }
   },
   "source": [
    "\\begin{align*}\n",
    "z^T &= x^T \\cdot w^T + b^T \\\\\n",
    "z_i^T &= \\sum_{j = 1}^{16} x_j^T w_{ji}^T + b_i^T, \\quad i = 1, 2\\ldots, n\n",
    "\\end{align*}\n",
    "\n",
    "| $z^T$ | $=$ | $x^T$ | $\\cdot$ | $w^T$ | $+$ | $b^T$ |\n",
    "|:-----:|:-----:|:-----:|:---------:|:-----:|:-----:|:-----:|\n",
    "|$1 \\times 16$ | | $ 1 \\times n$ | |$n \\times 16$|  | $1 \\times 16$ |\n",
    "\n"
   ]
  },
  {
   "cell_type": "markdown",
   "metadata": {
    "slideshow": {
     "slide_type": "skip"
    }
   },
   "source": [
    "And in code..."
   ]
  },
  {
   "cell_type": "code",
   "execution_count": 1,
   "metadata": {
    "slideshow": {
     "slide_type": "skip"
    }
   },
   "outputs": [
    {
     "name": "stdout",
     "output_type": "stream",
     "text": [
      "w=\n",
      "[[3 1 1]\n",
      " [3 0 1]]\n",
      "b=[1 0 2]\n",
      "x=[4 0]\n",
      "y=[13.  4.  6.]\n"
     ]
    }
   ],
   "source": [
    "# a three unit layer\n",
    "import numpy as np\n",
    "units = 3\n",
    "len_input = 2\n",
    "w = np.random.randint(4, size=(len_input, units))\n",
    "b = np.random.randint(4, size=(units))\n",
    "x = np.random.randint(5, size=(len_input,))\n",
    "y = np.zeros([units,])\n",
    "\n",
    "for j in range(units):\n",
    "    for i in range(len_input):\n",
    "        y[j] += x[i] * w[i][j]\n",
    "    y[j] += b[j]    \n",
    "print('w=\\n', w, '\\nb=', b, '\\nx=', x, '\\ny=', y, sep='') "
   ]
  },
  {
   "cell_type": "markdown",
   "metadata": {
    "slideshow": {
     "slide_type": "slide"
    }
   },
   "source": [
    "How many hidden units?\n",
    "\n",
    "More hidden units means more complex representations can be learned but\n",
    "\n",
    "- the network is computationally more expensive \n",
    "- the network might fit the training data too tightly and performance on the test set degrades"
   ]
  },
  {
   "cell_type": "markdown",
   "metadata": {
    "slideshow": {
     "slide_type": "notes"
    }
   },
   "source": [
    "How many hidden units? More hidden units means more complex representations can be learned but the network is computationally more expensive and the network might fit the training data too tightly. Overfitting means test set performance degrades. More on that later."
   ]
  },
  {
   "cell_type": "markdown",
   "metadata": {
    "slideshow": {
     "slide_type": "slide"
    }
   },
   "source": [
    "Choose two intermediate `relu` layers of 16 hidden units \n",
    "\n",
    "A third sigmoid layer to output a 'probability"
   ]
  },
  {
   "cell_type": "markdown",
   "metadata": {
    "slideshow": {
     "slide_type": "notes"
    }
   },
   "source": [
    "We will choose two intermediate `relu` layers of 16 hidden units and a final sigmoid layer. Sigmoid layers output probability distributions."
   ]
  },
  {
   "cell_type": "code",
   "execution_count": 2,
   "metadata": {
    "slideshow": {
     "slide_type": "skip"
    }
   },
   "outputs": [],
   "source": [
    "from tensorflow.keras.datasets import imdb\n",
    "\n",
    "((train_data, train_labels), (test_data, test_labels)) = imdb.load_data(num_words = 10000)\n",
    "\n",
    "import numpy as np\n",
    "\n",
    "def vectorize_sequences(sequences, dimension = 10000):\n",
    "    results = np.zeros( (len(sequences), dimension) )\n",
    "    for i, sequence in enumerate(sequences):\n",
    "        results[i, sequence] = 1.\n",
    "    return results\n",
    "\n",
    "x_train = vectorize_sequences(train_data)\n",
    "x_test = vectorize_sequences(test_data)\n",
    "\n",
    "y_train = np.asarray(train_labels).astype('float32')\n",
    "y_test = np.asarray(test_labels).astype('float32')"
   ]
  },
  {
   "cell_type": "code",
   "execution_count": 3,
   "metadata": {
    "slideshow": {
     "slide_type": "slide"
    }
   },
   "outputs": [],
   "source": [
    "from tensorflow.keras import models\n",
    "from tensorflow.keras import layers\n",
    "\n",
    "model = models.Sequential()\n",
    "model.add(layers.Dense(16, activation = 'relu', input_shape = (10000,)))\n",
    "model.add(layers.Dense(16, activation = 'relu'))\n",
    "model.add(layers.Dense(1, activation = 'sigmoid'))"
   ]
  },
  {
   "cell_type": "markdown",
   "metadata": {
    "slideshow": {
     "slide_type": "notes"
    }
   },
   "source": [
    "Our network. Depth three. Notice that the final layer has a single unit - it ouputs a one dimensional vector i.e. a scalar. "
   ]
  },
  {
   "cell_type": "markdown",
   "metadata": {
    "slideshow": {
     "slide_type": "slide"
    }
   },
   "source": [
    "Why apply an activation function?\n",
    "\n",
    "Suppose `output = dot(W, input) + b`\n",
    "\n",
    "Only affine transformations can be learnt\n",
    "\n"
   ]
  },
  {
   "cell_type": "markdown",
   "metadata": {
    "slideshow": {
     "slide_type": "notes"
    }
   },
   "source": [
    "Let's stop there and consider why we even have activation functions at all. Well without activations, layers would only perform affine transformations."
   ]
  },
  {
   "cell_type": "markdown",
   "metadata": {
    "slideshow": {
     "slide_type": "slide"
    }
   },
   "source": [
    "The hypothesis space of a unactivated layer is the set of all possible affine transformations\n",
    "\n",
    "A stack of unactivated layers (series of affine transformations) has the same hypothesis space "
   ]
  },
  {
   "cell_type": "markdown",
   "metadata": {
    "slideshow": {
     "slide_type": "notes"
    }
   },
   "source": [
    "The hypothesis space of a unactivated layer is the set of all possible affine transformations. A stack of unactivated layers (series of affine transformations) has the same hypothesis space - nothing has been gained!"
   ]
  },
  {
   "cell_type": "markdown",
   "metadata": {
    "slideshow": {
     "slide_type": "slide"
    }
   },
   "source": [
    "An affine hypothesis space is representationally limited\n",
    "\n",
    "Much richer to apply a non-linear transformation such as `relu` (most popular) and `sigmoid`"
   ]
  },
  {
   "cell_type": "markdown",
   "metadata": {
    "slideshow": {
     "slide_type": "notes"
    }
   },
   "source": [
    "An affine hypothesis space is representationally limited. Activated layers, though, are much richer, The activation must be non-linear: for example, `relu` (most popular) and `sigmoid`."
   ]
  },
  {
   "cell_type": "markdown",
   "metadata": {
    "slideshow": {
     "slide_type": "slide"
    }
   },
   "source": [
    "`relu(x)` zeros out negative values:\n",
    "\n",
    "\\begin{align*}\n",
    "f_{\\text{relu}}(x) = \\max(0, x)\n",
    "\\end{align*}"
   ]
  },
  {
   "cell_type": "markdown",
   "metadata": {
    "slideshow": {
     "slide_type": "notes"
    }
   },
   "source": [
    "`relu`s, you remember, zero out negative values."
   ]
  },
  {
   "cell_type": "code",
   "execution_count": 4,
   "metadata": {
    "slideshow": {
     "slide_type": "skip"
    }
   },
   "outputs": [],
   "source": [
    "def plot_relu():\n",
    "    x = np.linspace(-2, 2, 101)\n",
    "    import matplotlib.pyplot as plt\n",
    "    plt.plot(x, np.maximum(0, x))\n",
    "    plt.show()"
   ]
  },
  {
   "cell_type": "code",
   "execution_count": 5,
   "metadata": {
    "slideshow": {
     "slide_type": "slide"
    }
   },
   "outputs": [
    {
     "data": {
      "image/png": "[encoded data removed]",
      "text/plain": [
       "<Figure size 432x288 with 1 Axes>"
      ]
     },
     "metadata": {
      "needs_background": "light"
     },
     "output_type": "display_data"
    }
   ],
   "source": [
    "plot_relu()"
   ]
  },
  {
   "cell_type": "markdown",
   "metadata": {
    "slideshow": {
     "slide_type": "notes"
    }
   },
   "source": [
    "The relu function."
   ]
  },
  {
   "cell_type": "markdown",
   "metadata": {
    "slideshow": {
     "slide_type": "slide"
    }
   },
   "source": [
    "The sigmoid squashes output to $[0, 1]$:\n",
    "\n",
    "\\begin{align*}\n",
    "f_{\\text{sigmoid}}(x) = \\frac{1}{1 + e^{-x}}\n",
    "\\end{align*}"
   ]
  },
  {
   "cell_type": "markdown",
   "metadata": {
    "slideshow": {
     "slide_type": "notes"
    }
   },
   "source": [
    "Sigmoid, on the other hand, squashes."
   ]
  },
  {
   "cell_type": "code",
   "execution_count": 6,
   "metadata": {
    "slideshow": {
     "slide_type": "skip"
    }
   },
   "outputs": [],
   "source": [
    "def sigmoid(x):\n",
    "    return 1.0 / (1.0 + np.exp(-x)) \n",
    "\n",
    "def plot_sigmoid():\n",
    "    x = np.linspace(-10, 10, 101)\n",
    "\n",
    "    import matplotlib.pyplot as plt\n",
    "    plt.plot(x, sigmoid(x))\n",
    "    plt.show()"
   ]
  },
  {
   "cell_type": "code",
   "execution_count": 7,
   "metadata": {
    "slideshow": {
     "slide_type": "slide"
    }
   },
   "outputs": [
    {
     "data": {
      "image/png": "[encoded data removed]",
      "text/plain": [
       "<Figure size 432x288 with 1 Axes>"
      ]
     },
     "metadata": {
      "needs_background": "light"
     },
     "output_type": "display_data"
    }
   ],
   "source": [
    "plot_sigmoid()"
   ]
  },
  {
   "cell_type": "markdown",
   "metadata": {
    "slideshow": {
     "slide_type": "notes"
    }
   },
   "source": [
    "The form of the sigmoid function."
   ]
  },
  {
   "cell_type": "markdown",
   "metadata": {
    "slideshow": {
     "slide_type": "slide"
    }
   },
   "source": [
    "Loss and optimiser?\n",
    "\n",
    "This is a binary classification problem and the network output is a 'probability'\n",
    "\n",
    "The binary cross-entropy is the preferred choice\n",
    "\n",
    "Choose `RMSprop` - SGD with momentum"
   ]
  },
  {
   "cell_type": "markdown",
   "metadata": {
    "slideshow": {
     "slide_type": "notes"
    }
   },
   "source": [
    "There are still choices to be made. What about loss and optimiser? This is a binary classification problem and the network output is a 'probability'. The binary cross-entropy is the preferred loss. We choose the `RMSprop` optimser, an SGD algorithm with momentum."
   ]
  },
  {
   "cell_type": "markdown",
   "metadata": {
    "slideshow": {
     "slide_type": "slide"
    }
   },
   "source": [
    "The cross entropy loss function is the sum of\n",
    "\n",
    "\\begin{align*}\n",
    "f_{sample} = - y \\log y_{pred} - (1 - y) \\log (1 - y_{pred}) \n",
    "\\end{align*}\n",
    "\n",
    "over the mini-batch\n",
    "\n",
    "- sample $x$ \n",
    "- target $y$\n",
    "- network output $y_{pred}$"
   ]
  },
  {
   "cell_type": "markdown",
   "metadata": {
    "slideshow": {
     "slide_type": "notes"
    }
   },
   "source": [
    "The cross entropy loss function is defined by this complicated looking formula. $f_{sample}$ is summed over each sample of the mini-batch. "
   ]
  },
  {
   "cell_type": "markdown",
   "metadata": {
    "slideshow": {
     "slide_type": "slide"
    }
   },
   "source": [
    "- counteracts slowdown\n",
    "- Michael Nielsen's free online book Neural Networks and Deep Learning"
   ]
  },
  {
   "cell_type": "markdown",
   "metadata": {
    "slideshow": {
     "slide_type": "notes"
    }
   },
   "source": [
    "The cross entropy was introduced to counteract learning 'slowdown'. We won't go into that right here, but Michael Nielsen's free online book Neural Networks and Deep Learning provides an exceptionally clear explanation.\n",
    "\n",
    "But what we will do is explain why the cross entropy is a possible loss function. Remember that a loss function has to be zero when prediction equals target, and positive otherwise. And SGD demands that the loss is smooth.  "
   ]
  },
  {
   "cell_type": "markdown",
   "metadata": {
    "slideshow": {
     "slide_type": "slide"
    }
   },
   "source": [
    "\\begin{align*}\n",
    "f_{sample} = - y \\log y_{pred} - (1 - y) \\log (1 - y_{pred}) \n",
    "\\end{align*}\n",
    "\n",
    "\n",
    "\\begin{align*}\n",
    "y = 0 \\Rightarrow f_{sample} &= -\\log(1 - y_{pred}) \\\\ \n",
    "                             &= 0\\quad (y_{pred} = 0)\n",
    "\\end{align*}"
   ]
  },
  {
   "cell_type": "markdown",
   "metadata": {
    "slideshow": {
     "slide_type": "notes"
    }
   },
   "source": [
    "The labels, $y$, are either 0 or 1 because this is binary classification. If $y = 0$ and $y_{pred} = 0$ then $f_{sample} = 0$ because $\\log(1) = 0$. "
   ]
  },
  {
   "cell_type": "markdown",
   "metadata": {
    "slideshow": {
     "slide_type": "slide"
    }
   },
   "source": [
    "\\begin{align*}\n",
    "f_{sample} = - y \\log y_{pred} - (1 - y) \\log (1 - y_{pred}) \n",
    "\\end{align*}\n",
    "\n",
    "\n",
    "\\begin{align*}\n",
    "y = 1 \\Rightarrow f_{sample} &= -\\log y_{pred} \\\\\n",
    "                                &= 0 \\quad (y_{pred} = 1)\n",
    "\\end{align*}  "
   ]
  },
  {
   "cell_type": "markdown",
   "metadata": {
    "slideshow": {
     "slide_type": "notes"
    }
   },
   "source": [
    "And if  $y = 1$ and $y_{pred} = 1$ then $f_{sample} = 0$. So the loss is zero when prediction agrees with label. "
   ]
  },
  {
   "cell_type": "markdown",
   "metadata": {
    "slideshow": {
     "slide_type": "slide"
    }
   },
   "source": [
    "- $\\log y_{pred} \\le 0$ \n",
    "- $\\log (1 - y_{pred}) \\le 0$\n",
    "- $-y \\log y_{pred} - (1 - y) \\log (1 - y_{pred}) \\ge 0$"
   ]
  },
  {
   "cell_type": "markdown",
   "metadata": {
    "slideshow": {
     "slide_type": "notes"
    }
   },
   "source": [
    "Suppose that $y_{pred} \\ne y$. The logarithms are negative because $y_{pred}$ is the sigmoid output, and sigmoids give values between 0 and 1. The minus signs in the definition ensure that sample cross entropy is greater than 0. So the cross entropy does measure a positive loss when $y_{pred}$ does not agree with the label. The binary cross-entropy is indeed differentiable, although I won't demonstrate that here! Once more, Nielsen's book has a thorough explanation.  "
   ]
  },
  {
   "cell_type": "code",
   "execution_count": 8,
   "metadata": {
    "slideshow": {
     "slide_type": "slide"
    }
   },
   "outputs": [],
   "source": [
    "model.compile(optimizer='rmsprop',\n",
    "             loss='binary_crossentropy',\n",
    "             metrics=['accuracy'])"
   ]
  },
  {
   "cell_type": "markdown",
   "metadata": {
    "slideshow": {
     "slide_type": "notes"
    }
   },
   "source": [
    "The compilation step with loss, optimiser and monitoring metric."
   ]
  },
  {
   "cell_type": "code",
   "execution_count": 9,
   "metadata": {
    "slideshow": {
     "slide_type": "slide"
    }
   },
   "outputs": [],
   "source": [
    "from tensorflow.keras import optimizers, losses\n",
    "model.compile(optimizer = optimizers.RMSprop(lr = 0.001),\n",
    "              loss = losses.binary_crossentropy,\n",
    "              metrics = ['accuracy'])"
   ]
  },
  {
   "cell_type": "markdown",
   "metadata": {
    "slideshow": {
     "slide_type": "notes"
    }
   },
   "source": [
    "Optimiser and loss can be customised. In that case we would pass function objects, as in this example. Incidentally, the `RMSprop` learning rate has been set to 0.001. "
   ]
  }
 ],
 "metadata": {
  "celltoolbar": "Slideshow",
  "kernelspec": {
   "display_name": "Python 3",
   "language": "python",
   "name": "python3"
  },
  "language_info": {
   "codemirror_mode": {
    "name": "ipython",
    "version": 3
   },
   "file_extension": ".py",
   "mimetype": "text/x-python",
   "name": "python",
   "nbconvert_exporter": "python",
   "pygments_lexer": "ipython3",
   "version": "3.8.5"
  }
 },
 "nbformat": 4,
 "nbformat_minor": 4
}
