{
 "cells": [
  {
   "cell_type": "markdown",
   "metadata": {
    "slideshow": {
     "slide_type": "slide"
    }
   },
   "source": [
    "Experiments\n",
    "\n",
    "- larger and smaller layers - 128 units and 32 units etc.\n",
    "\n",
    "- one and three hidden layers"
   ]
  },
  {
   "cell_type": "markdown",
   "metadata": {
    "slideshow": {
     "slide_type": "notes"
    }
   },
   "source": [
    "You might run tests on networks with larger and smaller layers - 128 units and 32 units etc, and with one and three hidden layers"
   ]
  },
  {
   "cell_type": "markdown",
   "metadata": {
    "slideshow": {
     "slide_type": "slide"
    }
   },
   "source": [
    "Summary\n",
    "\n",
    "- the output layer for a multi-classification task should have as many units as there are classes\n",
    "\n",
    "- use a softmax activation function for single-label multi-classification\n",
    "\n",
    "- a softmax layer outputs a probability distribution"
   ]
  },
  {
   "cell_type": "markdown",
   "metadata": {
    "slideshow": {
     "slide_type": "notes"
    }
   },
   "source": [
    "In summary: the output layer for a multi-classification task should have as many units as there are classes; use a softmax activation function for single-label multi-classification; a softmax layer outputs a probability distribution."
   ]
  },
  {
   "cell_type": "markdown",
   "metadata": {
    "slideshow": {
     "slide_type": "slide"
    }
   },
   "source": [
    "- one-hot encode labels (categorical encoding) and use the categorical_crossentropy loss\n",
    "\n",
    "- beware of creating information bottlenecks by defining small intermediate layers"
   ]
  },
  {
   "cell_type": "markdown",
   "metadata": {
    "slideshow": {
     "slide_type": "notes"
    }
   },
   "source": [
    "One-hot encode labels (categorical encoding) in preference and use the categorical crossentropy loss for single label multiclass tasks. Finally, beware of creating information bottlenecks by defining small intermediate layers"
   ]
  }
 ],
 "metadata": {
  "celltoolbar": "Slideshow",
  "kernelspec": {
   "display_name": "Python 3",
   "language": "python",
   "name": "python3"
  },
  "language_info": {
   "codemirror_mode": {
    "name": "ipython",
    "version": 3
   },
   "file_extension": ".py",
   "mimetype": "text/x-python",
   "name": "python",
   "nbconvert_exporter": "python",
   "pygments_lexer": "ipython3",
   "version": "3.8.5"
  }
 },
 "nbformat": 4,
 "nbformat_minor": 4
}
