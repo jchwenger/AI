{
 "cells": [
  {
   "cell_type": "markdown",
   "metadata": {
    "slideshow": {
     "slide_type": "slide"
    }
   },
   "source": [
    "The final layer has 46 units\n",
    "\n",
    "Intermediate layers of fewer than 46 units might cause an information bottleneck\n",
    "\n",
    "Explore the consequence of a very small intermediate representation - just 4D"
   ]
  },
  {
   "cell_type": "markdown",
   "metadata": {
    "slideshow": {
     "slide_type": "notes"
    }
   },
   "source": [
    "The final layer of our Reuters network has 46 units. We might guess that intermediate layers of fewer than 46 units could cause an information bottleneck. Let's explore the consequence of a very small intermediate representation - just 4D."
   ]
  },
  {
   "cell_type": "code",
   "execution_count": 1,
   "metadata": {
    "slideshow": {
     "slide_type": "skip"
    }
   },
   "outputs": [],
   "source": [
    "from tensorflow.keras.datasets import reuters\n",
    "(train_data, train_labels,), (test_data, test_labels) = reuters.load_data(num_words=10000)\n",
    "\n",
    "import numpy as np\n",
    "def vectorize_sequences(sequences, dimension = 10000):\n",
    "    results = np.zeros((len(sequences), dimension))\n",
    "    for i, sequence in enumerate(sequences):\n",
    "        results[i, sequence] = 1.\n",
    "    return results\n",
    "\n",
    "x_train = vectorize_sequences(train_data)\n",
    "x_test = vectorize_sequences(test_data)\n",
    "\n",
    "y_train = np.asarray(train_labels).astype('float32')\n",
    "y_test = np.asarray(test_labels).astype('float32')\n",
    "\n",
    "from tensorflow.keras.utils import to_categorical # one hot encoder for lists\n",
    "one_hot_train_labels = to_categorical(train_labels)\n",
    "one_hot_test_labels = to_categorical(test_labels)\n",
    "\n",
    "x_val = x_train[:1000]\n",
    "partial_x_train = x_train[1000:]\n",
    "\n",
    "y_val = one_hot_train_labels[:1000]\n",
    "partial_y_train = one_hot_train_labels[1000:]"
   ]
  },
  {
   "cell_type": "code",
   "execution_count": 2,
   "metadata": {
    "slideshow": {
     "slide_type": "slide"
    }
   },
   "outputs": [],
   "source": [
    "def build(layer_1, layer_2, layer_3):\n",
    "    from tensorflow.keras import models\n",
    "    from tensorflow.keras import layers\n",
    "    model = models.Sequential()\n",
    "    model.add(layers.Dense(layer_1, activation = 'relu', input_shape = (10000,)))\n",
    "    model.add(layers.Dense(layer_2, activation = 'relu'))\n",
    "    model.add(layers.Dense(layer_3, activation = 'softmax'))\n",
    "    model.compile(optimizer = 'rmsprop', loss = 'categorical_crossentropy', metrics = ['accuracy'])\n",
    "    return model"
   ]
  },
  {
   "cell_type": "markdown",
   "metadata": {
    "slideshow": {
     "slide_type": "notes"
    }
   },
   "source": [
    "A network building function for decluttering notebooks and ease of experimentation. The size of each layer - number of units - is passed as function arguments."
   ]
  },
  {
   "cell_type": "code",
   "execution_count": 3,
   "metadata": {
    "slideshow": {
     "slide_type": "slide"
    }
   },
   "outputs": [],
   "source": [
    "def train(model):\n",
    "    return model.fit(partial_x_train, \n",
    "              partial_y_train,\n",
    "              epochs = 20,\n",
    "              batch_size = 512,\n",
    "              validation_data = (x_val, y_val),\n",
    "              verbose=0)"
   ]
  },
  {
   "cell_type": "markdown",
   "metadata": {
    "slideshow": {
     "slide_type": "notes"
    }
   },
   "source": [
    "A training function. This function could be modified to include training hyperparameters as function parameters. "
   ]
  },
  {
   "cell_type": "code",
   "execution_count": 4,
   "metadata": {
    "slideshow": {
     "slide_type": "slide"
    }
   },
   "outputs": [
    {
     "name": "stdout",
     "output_type": "stream",
     "text": [
      "0.8199999928474426\n"
     ]
    }
   ],
   "source": [
    "model = build(layer_1=64, layer_2=64, layer_3=46)\n",
    "history = train(model)\n",
    "print(max(history.history['val_accuracy']))"
   ]
  },
  {
   "cell_type": "markdown",
   "metadata": {
    "slideshow": {
     "slide_type": "notes"
    }
   },
   "source": [
    "Our original Reuters network. A maximum validation accuracy of..."
   ]
  },
  {
   "cell_type": "code",
   "execution_count": 5,
   "metadata": {
    "slideshow": {
     "slide_type": "slide"
    }
   },
   "outputs": [
    {
     "name": "stdout",
     "output_type": "stream",
     "text": [
      "0.6349999904632568\n"
     ]
    }
   ],
   "source": [
    "model = build(layer_1=64, layer_2=4, layer_3=46)\n",
    "history = train(model)\n",
    "print(max(history.history['val_accuracy']))"
   ]
  },
  {
   "cell_type": "markdown",
   "metadata": {
    "slideshow": {
     "slide_type": "notes"
    }
   },
   "source": [
    "A bottlenecked network - just 4 units in the middle layer. A maximum validation error of... The fall in validation accuracy is largely due to the crowded intermediate representation"
   ]
  }
 ],
 "metadata": {
  "celltoolbar": "Slideshow",
  "kernelspec": {
   "display_name": "Python 3",
   "language": "python",
   "name": "python3"
  },
  "language_info": {
   "codemirror_mode": {
    "name": "ipython",
    "version": 3
   },
   "file_extension": ".py",
   "mimetype": "text/x-python",
   "name": "python",
   "nbconvert_exporter": "python",
   "pygments_lexer": "ipython3",
   "version": "3.8.5"
  }
 },
 "nbformat": 4,
 "nbformat_minor": 4
}
