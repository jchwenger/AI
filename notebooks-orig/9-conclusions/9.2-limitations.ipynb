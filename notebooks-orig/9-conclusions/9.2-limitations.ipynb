{
 "cells": [
  {
   "cell_type": "markdown",
   "metadata": {},
   "source": [
    "The list of possibilities in 9.1 is impressive but DL has limitations.\n",
    "\n",
    "- Imagine database of text descriptions of a software product. DL could never generate the source code.\n",
    "- Even learning a simple learning algorithm is tremendously difficult.\n",
    "\n",
    "Reasoning - as in designing software or the scientific method - is out of reach. \n",
    "\n",
    "X might be related to Y by a geometric transform, but the transform might be too complex; or, X and Y aren't connected by any such transform.\n",
    "\n",
    "Although DL models are programs, most programs aren't DL models.\n",
    "\n",
    "Stacking more layers may only palliate these problems.\n",
    "\n",
    "# Anthropomorphising ML\n",
    "\n",
    "We risk overestimating ML abilities.\n",
    "\n",
    "ML vision models do not 'understand' images. \n",
    "\n",
    "Trombone or Dog?, The Joy of AI transcript.\n",
    "\n",
    "Our understanding is grounded in experience - being able to move and sense the world. \n",
    "\n",
    "ML models have no access to these experiences. They are trained on very narrow examples.\n",
    "\n",
    "# Local vs. extreme generalisation\n",
    "\n",
    "Even beyond, through experience, our access to broad training sets, here is another findamental dfference berween us and them (DL models).\n",
    "\n",
    "We maintain *abstract* models of our social and natural envorinment.\n",
    "\n",
    "We use these models to anticpate and predict\n",
    "\n",
    "and to represent things that are novel to our experience, like dogs cooking or winnng the lottery.\n",
    "\n",
    "We manage this feat through abstraction and reasoning.\n",
    "\n",
    "The ability to adapt to novel experiences despite a paucity of data is 'extreme generalisation'.\n",
    "\n",
    "Deep nets, on the other hand, generalise only locally. They can only adapt to new situations that closely match the training set. \n",
    "\n",
    "Imagine training a model to launch a moon-bound rocket. The training set would have to include millions of launch trials before the model could accuratley predict the voyage.\n",
    "\n",
    "But humans, using reasoning and abstraction, develop rocket science, and we manage the task with only a few trials.\n",
    "\n",
    "# Summary\n",
    "\n",
    "DL maps space X to space Y with continuous geometric transformations given large amounts of human-annotated data.\n",
    "\n",
    "DL models are like programs...\n",
    "\n",
    "...but programs in general are far more general.\n",
    "\n",
    "So could *learnable programs* move AI towards reasoning and abstraction?"
   ]
  },
  {
   "cell_type": "code",
   "execution_count": null,
   "metadata": {},
   "outputs": [],
   "source": []
  }
 ],
 "metadata": {
  "kernelspec": {
   "display_name": "Python 3",
   "language": "python",
   "name": "python3"
  },
  "language_info": {
   "codemirror_mode": {
    "name": "ipython",
    "version": 3
   },
   "file_extension": ".py",
   "mimetype": "text/x-python",
   "name": "python",
   "nbconvert_exporter": "python",
   "pygments_lexer": "ipython3",
   "version": "3.8.5"
  }
 },
 "nbformat": 4,
 "nbformat_minor": 2
}
