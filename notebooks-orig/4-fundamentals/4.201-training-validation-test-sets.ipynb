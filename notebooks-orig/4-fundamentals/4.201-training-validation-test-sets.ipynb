{
 "cells": [
  {
   "cell_type": "markdown",
   "metadata": {
    "slideshow": {
     "slide_type": "slide"
    }
   },
   "source": [
    "We look at some fundamental machine learning concepts in this final topic\n",
    "\n",
    "We will discover how to cure overfitting and outline the seven step machine learning workflow"
   ]
  },
  {
   "cell_type": "markdown",
   "metadata": {
    "slideshow": {
     "slide_type": "slide"
    }
   },
   "source": [
    "Models are not evaluated on their training data because the aim of machine learning is **generalisation** - the ability to make good predictions on new, unseen data\n",
    "\n",
    "Predictive power on unseen data can worsen even though the fit to training data improves\n",
    "\n",
    "We need stategies to limit overfitting and maximise generalisation"
   ]
  },
  {
   "cell_type": "markdown",
   "metadata": {
    "slideshow": {
     "slide_type": "slide"
    }
   },
   "source": [
    "Why not just train on one set and test on another? \n",
    "\n",
    "Why do we bother with a separate 'validation' set?"
   ]
  },
  {
   "cell_type": "markdown",
   "metadata": {
    "slideshow": {
     "slide_type": "slide"
    }
   },
   "source": [
    "Because we wish to find good **hyperparameter** settings \n",
    "\n",
    "The hyperparameters of a model are all its non-trainable parameters - number of layers, number of units in a layer, learning rate etc."
   ]
  },
  {
   "cell_type": "markdown",
   "metadata": {
    "slideshow": {
     "slide_type": "slide"
    }
   },
   "source": [
    "Hyperparameters are tuned by considering their effect on a validation set\n",
    "\n",
    "Eventually we evaluate our best model on the unseen test set"
   ]
  },
  {
   "cell_type": "markdown",
   "metadata": {
    "slideshow": {
     "slide_type": "slide"
    }
   },
   "source": [
    "The model absorbs something about that validation set every time a hyperparameter is tuned\n",
    "\n",
    "The more experiments we perform, the more information 'leaks' into our model \n"
   ]
  },
  {
   "cell_type": "markdown",
   "metadata": {
    "slideshow": {
     "slide_type": "slide"
    }
   },
   "source": [
    "So, we need to take care\n",
    "\n",
    "The model is eventually optimised for the validation set\n",
    "\n",
    "Generalisation is now checked by running on unused test data"
   ]
  },
  {
   "cell_type": "markdown",
   "metadata": {
    "slideshow": {
     "slide_type": "slide"
    }
   },
   "source": [
    "There are three validation techniques"
   ]
  }
 ],
 "metadata": {
  "celltoolbar": "Slideshow",
  "kernelspec": {
   "display_name": "Python 3",
   "language": "python",
   "name": "python3"
  },
  "language_info": {
   "codemirror_mode": {
    "name": "ipython",
    "version": 3
   },
   "file_extension": ".py",
   "mimetype": "text/x-python",
   "name": "python",
   "nbconvert_exporter": "python",
   "pygments_lexer": "ipython3",
   "version": "3.8.5"
  }
 },
 "nbformat": 4,
 "nbformat_minor": 4
}
