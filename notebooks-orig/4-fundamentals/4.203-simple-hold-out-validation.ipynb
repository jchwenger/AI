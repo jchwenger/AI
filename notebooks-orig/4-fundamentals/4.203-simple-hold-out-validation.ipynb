{
 "cells": [
  {
   "cell_type": "markdown",
   "metadata": {
    "slideshow": {
     "slide_type": "slide"
    }
   },
   "source": [
    "Hold-out validation: split off part of the training set and use for validation"
   ]
  },
  {
   "cell_type": "code",
   "execution_count": null,
   "metadata": {
    "slideshow": {
     "slide_type": "slide"
    }
   },
   "outputs": [],
   "source": [
    "# decide on the validation-training split\n",
    "num_val_samples = 10000\n",
    "\n",
    "# shuffle data \n",
    "np.random.shuffle(train_data)\n",
    "\n",
    "# slice training data into validation and partial training\n",
    "val_data = train_data[:num_val_samples]\n",
    "partial_train_data = train_data[num_val_samples:]\n",
    "\n",
    "# tune, retrain, tune, retrain...\n",
    "model = get_model()\n",
    "model.train(partial_train_data)\n",
    "val_score = model.evaluate(val_data)\n",
    "\n",
    "# finally retrain a fresh model on all training data\n",
    "model = get_model()\n",
    "model.train(train_data)\n",
    "\n",
    "# evaluate on the unseen test set \n",
    "test_score = model.evaluate(test_data)"
   ]
  },
  {
   "cell_type": "markdown",
   "metadata": {
    "slideshow": {
     "slide_type": "slide"
    }
   },
   "source": [
    "But the technique is vulnerable to statistical fluctuation if the validation and test set are small\n",
    "\n",
    "Noticeable if different rounds of shuffling yield validation variance"
   ]
  }
 ],
 "metadata": {
  "celltoolbar": "Slideshow",
  "kernelspec": {
   "display_name": "Python 3",
   "language": "python",
   "name": "python3"
  },
  "language_info": {
   "codemirror_mode": {
    "name": "ipython",
    "version": 3
   },
   "file_extension": ".py",
   "mimetype": "text/x-python",
   "name": "python",
   "nbconvert_exporter": "python",
   "pygments_lexer": "ipython3",
   "version": "3.8.5"
  }
 },
 "nbformat": 4,
 "nbformat_minor": 4
}
