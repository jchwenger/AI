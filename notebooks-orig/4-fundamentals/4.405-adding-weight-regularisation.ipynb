{
 "cells": [
  {
   "cell_type": "code",
   "execution_count": 1,
   "metadata": {
    "slideshow": {
     "slide_type": "skip"
    }
   },
   "outputs": [],
   "source": [
    "import numpy as np\n",
    "\n",
    "num_points = 11\n",
    "degree = 10\n",
    "x = np.linspace(0, 10, num_points)\n",
    "y = x + np.random.random(size=11) - 0.5\n",
    "\n",
    "import matplotlib.pyplot as plt\n",
    "p = np.polyfit(x, y, degree)\n",
    "\n",
    "xx = np.linspace(0, 10, 101)\n",
    "def fit(xx, degree):\n",
    "    yy = np.zeros(len(xx))\n",
    "    for i in range(len(p)):\n",
    "        yy += xx ** (degree - i) * p[i]\n",
    "    return yy\n",
    "yy = fit(xx, degree)\n",
    "\n",
    "poly_str = ''     \n",
    "for i in range(degree):\n",
    "    poly_str += str(p[i]) + 'x^' + str(degree - i) + ' + '\n",
    "poly_str += str(p[degree])"
   ]
  },
  {
   "cell_type": "code",
   "execution_count": 2,
   "metadata": {
    "slideshow": {
     "slide_type": "slide"
    }
   },
   "outputs": [
    {
     "data": {
      "image/png": "[encoded data removed]",
      "text/plain": [
       "<Figure size 432x288 with 1 Axes>"
      ]
     },
     "metadata": {
      "needs_background": "light"
     },
     "output_type": "display_data"
    }
   ],
   "source": [
    "import matplotlib.pyplot as plt\n",
    "plt.plot(x, y, 'bo')\n",
    "plt.title('Data')\n",
    "plt.show()"
   ]
  },
  {
   "cell_type": "markdown",
   "metadata": {
    "slideshow": {
     "slide_type": "notes"
    }
   },
   "source": [
    "Here is some data"
   ]
  },
  {
   "cell_type": "code",
   "execution_count": 3,
   "metadata": {
    "slideshow": {
     "slide_type": "skip"
    }
   },
   "outputs": [
    {
     "name": "stdout",
     "output_type": "stream",
     "text": [
      "y = x + u, u ~ U(-0.5, 0.5)\n"
     ]
    }
   ],
   "source": [
    "print('y = x + u, u ~ U(-0.5, 0.5)')"
   ]
  },
  {
   "cell_type": "markdown",
   "metadata": {
    "slideshow": {
     "slide_type": "slide"
    }
   },
   "source": [
    "Which model do you prefer?"
   ]
  },
  {
   "cell_type": "markdown",
   "metadata": {
    "slideshow": {
     "slide_type": "notes"
    }
   },
   "source": [
    "Which model do you prefer?"
   ]
  },
  {
   "cell_type": "code",
   "execution_count": 4,
   "metadata": {
    "slideshow": {
     "slide_type": "slide"
    }
   },
   "outputs": [
    {
     "data": {
      "image/png": "[encoded data removed]",
      "text/plain": [
       "<Figure size 432x288 with 1 Axes>"
      ]
     },
     "metadata": {
      "needs_background": "light"
     },
     "output_type": "display_data"
    }
   ],
   "source": [
    "plt.plot(x, y, 'bo')\n",
    "plt.plot(xx, yy)\n",
    "plt.title('Model 1')\n",
    "plt.show()"
   ]
  },
  {
   "cell_type": "markdown",
   "metadata": {
    "slideshow": {
     "slide_type": "notes"
    }
   },
   "source": [
    "Model 1"
   ]
  },
  {
   "cell_type": "code",
   "execution_count": 5,
   "metadata": {
    "slideshow": {
     "slide_type": "slide"
    }
   },
   "outputs": [
    {
     "name": "stdout",
     "output_type": "stream",
     "text": [
      "2.1531832401930588e-05x^10 + -0.001128483488179379x^9 + 0.025280653012903036x^8 + -0.3159164181383804x^7 + 2.410386125064206x^6 + -11.551307379389943x^5 + 34.444845226282304x^4 + -60.95698781613111x^3 + 57.3122758993355x^2 + -20.409888433069373x^1 + 0.4791438738111367\n"
     ]
    }
   ],
   "source": [
    "print(poly_str)"
   ]
  },
  {
   "cell_type": "markdown",
   "metadata": {
    "slideshow": {
     "slide_type": "notes"
    }
   },
   "source": [
    "The mathematical form of model 1. A tenth order polynomial."
   ]
  },
  {
   "cell_type": "code",
   "execution_count": 6,
   "metadata": {
    "slideshow": {
     "slide_type": "slide"
    }
   },
   "outputs": [
    {
     "data": {
      "image/png": "[encoded data removed]",
      "text/plain": [
       "<Figure size 432x288 with 1 Axes>"
      ]
     },
     "metadata": {
      "needs_background": "light"
     },
     "output_type": "display_data"
    }
   ],
   "source": [
    "plt.plot(x, y, 'bo')\n",
    "plt.plot(x, x, 'r')\n",
    "plt.title('Model 2')\n",
    "plt.show()"
   ]
  },
  {
   "cell_type": "markdown",
   "metadata": {
    "slideshow": {
     "slide_type": "notes"
    }
   },
   "source": [
    "Model 2."
   ]
  },
  {
   "cell_type": "code",
   "execution_count": 7,
   "metadata": {
    "slideshow": {
     "slide_type": "slide"
    }
   },
   "outputs": [
    {
     "name": "stdout",
     "output_type": "stream",
     "text": [
      "y = x\n"
     ]
    }
   ],
   "source": [
    "print('y = x')"
   ]
  },
  {
   "cell_type": "markdown",
   "metadata": {
    "slideshow": {
     "slide_type": "notes"
    }
   },
   "source": [
    "The mathematical form of model 2."
   ]
  },
  {
   "cell_type": "markdown",
   "metadata": {
    "slideshow": {
     "slide_type": "slide"
    }
   },
   "source": [
    "Prefer a *simple* model (Occam's razor)"
   ]
  },
  {
   "cell_type": "markdown",
   "metadata": {
    "slideshow": {
     "slide_type": "notes"
    }
   },
   "source": [
    "I expect you prefer model 2. We prefer simple models - that's Occam's razor. The tenth order polynomial fits our data perfectly, but the fit is too good. Model 1 won't generalise because the shape of the fit is too specific."
   ]
  },
  {
   "cell_type": "markdown",
   "metadata": {
    "slideshow": {
     "slide_type": "slide"
    }
   },
   "source": [
    "A simple network has low capacity (small number of units) and small weight and bias values"
   ]
  },
  {
   "cell_type": "markdown",
   "metadata": {
    "slideshow": {
     "slide_type": "notes"
    }
   },
   "source": [
    "In analogy with polynomial fits of points, 'simple', means low capacity. "
   ]
  },
  {
   "cell_type": "markdown",
   "metadata": {
    "slideshow": {
     "slide_type": "slide"
    }
   },
   "source": [
    "Parameters are **regular** if they occupy a small interval close to zero\n",
    "\n",
    "- large weight parameters will amplify input noise\n",
    "\n",
    "- the network will attempt to fit to the noise\n",
    "\n",
    "- a model with smaller weights is more robust"
   ]
  },
  {
   "cell_type": "markdown",
   "metadata": {
    "slideshow": {
     "slide_type": "notes"
    }
   },
   "source": [
    "Parameters are 'regular' if they occupy a small interval close to zero. Large weight parameters will amplify input noise. The network will attempt to fit to the noise. A model with smaller weights is therfore more robust."
   ]
  },
  {
   "cell_type": "markdown",
   "metadata": {
    "slideshow": {
     "slide_type": "slide"
    }
   },
   "source": [
    "**Weight regularisation**\n",
    "\n",
    "- L1: A cost proportional to the absolute value of the weight parameters is added to the loss function\n",
    "\n",
    "- L2 (aka weight decay): As above, but the cost is the square of the weight parameters"
   ]
  },
  {
   "cell_type": "markdown",
   "metadata": {
    "slideshow": {
     "slide_type": "notes"
    }
   },
   "source": [
    "Weight regularisation is the attempt to prevent weights getting too big and dominant. In L1 regularisation, a cost proportional to the absolute value of the weight parameters is added to the loss function and in L2 regularisation (aka weight decay) the additional cost is the square of the weight parameters."
   ]
  },
  {
   "cell_type": "markdown",
   "metadata": {
    "slideshow": {
     "slide_type": "slide"
    }
   },
   "source": [
    "TensorFlow Keras weight parameter regularisation is achieved by adding a weight regularizer instance to the `add` argument list\n",
    "\n",
    "```\n",
    "model.add(layers.Dense(16, \n",
    "                       kernel_regularizer = regularizers.l2(0.001),\n",
    "                       activation='relu', \n",
    "                       input_shape=(10000,)))\n",
    "```                         "
   ]
  },
  {
   "cell_type": "markdown",
   "metadata": {
    "slideshow": {
     "slide_type": "notes"
    }
   },
   "source": [
    "TensorFlow Keras weight parameter regularisation is achieved by adding a weight regularizer instance to the `add` argument list."
   ]
  },
  {
   "cell_type": "markdown",
   "metadata": {
    "slideshow": {
     "slide_type": "slide"
    }
   },
   "source": [
    "`l2(0.001)` means $0.001 \\times w^T \\cdot w$ is added to the loss function"
   ]
  },
  {
   "cell_type": "markdown",
   "metadata": {
    "slideshow": {
     "slide_type": "notes"
    }
   },
   "source": [
    "`l2(0.001)` means $0.001 \\times w^T \\cdot w$ is added to the loss function."
   ]
  },
  {
   "cell_type": "markdown",
   "metadata": {
    "slideshow": {
     "slide_type": "slide"
    }
   },
   "source": [
    "`regularizers.l1(0.001)` for L1 regularisation\n",
    "\n",
    "`regularizers.l1(0.001) + regularizers.l2(0.001)` for combined L1 and L2 regularisation"
   ]
  },
  {
   "cell_type": "markdown",
   "metadata": {
    "slideshow": {
     "slide_type": "notes"
    }
   },
   "source": [
    "L1 regularisation and combine L1 and L2 regularisation. "
   ]
  },
  {
   "cell_type": "code",
   "execution_count": 8,
   "metadata": {
    "slideshow": {
     "slide_type": "slide"
    }
   },
   "outputs": [],
   "source": [
    "from tensorflow.keras.datasets import imdb\n",
    "\n",
    "((train_data, train_labels), (test_data, test_labels)) = imdb.load_data(num_words = 10000)\n",
    "\n",
    "import numpy as np\n",
    "\n",
    "def vectorize_sequences(sequences, dimension = 10000):\n",
    "    results = np.zeros( (len(sequences), dimension) )\n",
    "    for i, sequence in enumerate(sequences):\n",
    "        results[i, sequence] = 1.\n",
    "    return results\n",
    "\n",
    "x_train = vectorize_sequences(train_data)\n",
    "x_test = vectorize_sequences(test_data)\n",
    "\n",
    "y_train = np.asarray(train_labels).astype('float32')\n",
    "y_test = np.asarray(test_labels).astype('float32')\n",
    "\n",
    "x_val = x_train[:10000]\n",
    "partial_x_train = x_train[10000:]\n",
    "y_val = y_train[:10000]\n",
    "partial_y_train = y_train[10000:]"
   ]
  },
  {
   "cell_type": "markdown",
   "metadata": {
    "slideshow": {
     "slide_type": "notes"
    }
   },
   "source": [
    "Let us compare L2 regularisation to the unregularised IMDB network. \n",
    "\n",
    "Download and vectorise data."
   ]
  },
  {
   "cell_type": "code",
   "execution_count": 9,
   "metadata": {
    "slideshow": {
     "slide_type": "slide"
    }
   },
   "outputs": [],
   "source": [
    "from tensorflow.keras import models, layers, regularizers\n",
    "\n",
    "def build_model(layer_1_units, layer_2_units, layer_3_units, reg):\n",
    "    model = models.Sequential()\n",
    "    \n",
    "    if (reg):\n",
    "        model.add(layers.Dense(layer_1_units, kernel_regularizer = regularizers.l2(0.001), \n",
    "                               activation='relu', input_shape=(10000,)))\n",
    "        model.add(layers.Dense(layer_2_units, kernel_regularizer=regularizers.l2(0.001), \n",
    "                               activation='relu'))\n",
    "    else:\n",
    "        model.add(layers.Dense(layer_1_units, activation='relu', input_shape=(10000,)))\n",
    "        model.add(layers.Dense(layer_2_units, activation='relu'))\n",
    "    \n",
    "\n",
    "    model.add(layers.Dense(layer_3_units, activation='sigmoid'))\n",
    "    model.compile(optimizer='rmsprop',\n",
    "                  loss='binary_crossentropy',\n",
    "                  metrics=['acc'])\n",
    "    return model"
   ]
  },
  {
   "cell_type": "markdown",
   "metadata": {
    "slideshow": {
     "slide_type": "notes"
    }
   },
   "source": [
    "A model building function with optional regularisation."
   ]
  },
  {
   "cell_type": "code",
   "execution_count": 10,
   "metadata": {
    "slideshow": {
     "slide_type": "slide"
    }
   },
   "outputs": [
    {
     "name": "stdout",
     "output_type": "stream",
     "text": [
      "Epoch 1/20\n",
      "30/30 [==============================] - 1s 31ms/step - loss: 0.5480 - acc: 0.7622 - val_loss: 0.4131 - val_acc: 0.8705\n",
      "Epoch 2/20\n",
      "30/30 [==============================] - 1s 18ms/step - loss: 0.3331 - acc: 0.8966 - val_loss: 0.3238 - val_acc: 0.8840\n",
      "Epoch 3/20\n",
      "30/30 [==============================] - 1s 18ms/step - loss: 0.2426 - acc: 0.9231 - val_loss: 0.2838 - val_acc: 0.8919\n",
      "Epoch 4/20\n",
      "30/30 [==============================] - 1s 18ms/step - loss: 0.1905 - acc: 0.9390 - val_loss: 0.2734 - val_acc: 0.8938\n",
      "Epoch 5/20\n",
      "30/30 [==============================] - 1s 22ms/step - loss: 0.1543 - acc: 0.9512 - val_loss: 0.2748 - val_acc: 0.8924\n",
      "Epoch 6/20\n",
      "30/30 [==============================] - 1s 22ms/step - loss: 0.1268 - acc: 0.9623 - val_loss: 0.2829 - val_acc: 0.8890\n",
      "Epoch 7/20\n",
      "30/30 [==============================] - 1s 20ms/step - loss: 0.1063 - acc: 0.9684 - val_loss: 0.3015 - val_acc: 0.8860\n",
      "Epoch 8/20\n",
      "30/30 [==============================] - 1s 19ms/step - loss: 0.0875 - acc: 0.9746 - val_loss: 0.3136 - val_acc: 0.8855\n",
      "Epoch 9/20\n",
      "30/30 [==============================] - 1s 22ms/step - loss: 0.0746 - acc: 0.9793 - val_loss: 0.3629 - val_acc: 0.8705\n",
      "Epoch 10/20\n",
      "30/30 [==============================] - ETA: 0s - loss: 0.0599 - acc: 0.985 - 1s 18ms/step - loss: 0.0603 - acc: 0.9854 - val_loss: 0.3535 - val_acc: 0.8815\n",
      "Epoch 11/20\n",
      "30/30 [==============================] - 1s 18ms/step - loss: 0.0497 - acc: 0.9889 - val_loss: 0.3787 - val_acc: 0.8810\n",
      "Epoch 12/20\n",
      "30/30 [==============================] - 1s 18ms/step - loss: 0.0401 - acc: 0.9917 - val_loss: 0.4265 - val_acc: 0.8765\n",
      "Epoch 13/20\n",
      "30/30 [==============================] - 1s 21ms/step - loss: 0.0331 - acc: 0.9931 - val_loss: 0.4334 - val_acc: 0.8765\n",
      "Epoch 14/20\n",
      "30/30 [==============================] - 1s 20ms/step - loss: 0.0254 - acc: 0.9961 - val_loss: 0.4911 - val_acc: 0.8667\n",
      "Epoch 15/20\n",
      "30/30 [==============================] - 1s 22ms/step - loss: 0.0205 - acc: 0.9969 - val_loss: 0.4952 - val_acc: 0.8752\n",
      "Epoch 16/20\n",
      "30/30 [==============================] - 1s 18ms/step - loss: 0.0154 - acc: 0.9985 - val_loss: 0.5644 - val_acc: 0.8614\n",
      "Epoch 17/20\n",
      "30/30 [==============================] - 1s 18ms/step - loss: 0.0144 - acc: 0.9973 - val_loss: 0.5545 - val_acc: 0.8721\n",
      "Epoch 18/20\n",
      "30/30 [==============================] - 1s 19ms/step - loss: 0.0083 - acc: 0.9996 - val_loss: 0.6183 - val_acc: 0.8636\n",
      "Epoch 19/20\n",
      "30/30 [==============================] - 1s 18ms/step - loss: 0.0078 - acc: 0.9996 - val_loss: 0.6934 - val_acc: 0.8545\n",
      "Epoch 20/20\n",
      "30/30 [==============================] - 1s 18ms/step - loss: 0.0048 - acc: 0.9998 - val_loss: 0.6826 - val_acc: 0.8697\n"
     ]
    }
   ],
   "source": [
    "model = build_model(16, 16, 1, reg=False)\n",
    "history = model.fit(partial_x_train,\n",
    "                    partial_y_train,\n",
    "                    epochs=20,\n",
    "                    batch_size=512,\n",
    "                    validation_data=(x_val, y_val))"
   ]
  },
  {
   "cell_type": "markdown",
   "metadata": {
    "slideshow": {
     "slide_type": "notes"
    }
   },
   "source": [
    "Training the unregularised original IMDB network"
   ]
  },
  {
   "cell_type": "code",
   "execution_count": 11,
   "metadata": {
    "slideshow": {
     "slide_type": "slide"
    }
   },
   "outputs": [
    {
     "name": "stdout",
     "output_type": "stream",
     "text": [
      "Epoch 1/20\n",
      "30/30 [==============================] - 1s 32ms/step - loss: 0.6014 - acc: 0.7837 - val_loss: 0.4949 - val_acc: 0.8534\n",
      "Epoch 2/20\n",
      "30/30 [==============================] - 1s 18ms/step - loss: 0.4189 - acc: 0.8890 - val_loss: 0.4187 - val_acc: 0.8492\n",
      "Epoch 3/20\n",
      "30/30 [==============================] - 1s 20ms/step - loss: 0.3348 - acc: 0.9078 - val_loss: 0.3743 - val_acc: 0.8717\n",
      "Epoch 4/20\n",
      "30/30 [==============================] - 1s 21ms/step - loss: 0.2893 - acc: 0.9207 - val_loss: 0.3796 - val_acc: 0.8643\n",
      "Epoch 5/20\n",
      "30/30 [==============================] - 1s 18ms/step - loss: 0.2627 - acc: 0.9293 - val_loss: 0.3376 - val_acc: 0.8879\n",
      "Epoch 6/20\n",
      "30/30 [==============================] - 1s 18ms/step - loss: 0.2442 - acc: 0.9373 - val_loss: 0.3349 - val_acc: 0.8871\n",
      "Epoch 7/20\n",
      "30/30 [==============================] - 1s 19ms/step - loss: 0.2287 - acc: 0.9440 - val_loss: 0.3524 - val_acc: 0.8806\n",
      "Epoch 8/20\n",
      "30/30 [==============================] - 1s 18ms/step - loss: 0.2178 - acc: 0.9477 - val_loss: 0.3420 - val_acc: 0.8834\n",
      "Epoch 9/20\n",
      "30/30 [==============================] - 1s 19ms/step - loss: 0.2113 - acc: 0.9498 - val_loss: 0.3467 - val_acc: 0.8833\n",
      "Epoch 10/20\n",
      "30/30 [==============================] - 1s 25ms/step - loss: 0.2019 - acc: 0.9538 - val_loss: 0.3563 - val_acc: 0.8822\n",
      "Epoch 11/20\n",
      "30/30 [==============================] - 1s 20ms/step - loss: 0.1904 - acc: 0.9603 - val_loss: 0.3596 - val_acc: 0.8815\n",
      "Epoch 12/20\n",
      "30/30 [==============================] - 1s 20ms/step - loss: 0.1904 - acc: 0.9584 - val_loss: 0.3668 - val_acc: 0.8803\n",
      "Epoch 13/20\n",
      "30/30 [==============================] - 1s 21ms/step - loss: 0.1836 - acc: 0.9611 - val_loss: 0.4091 - val_acc: 0.8712\n",
      "Epoch 14/20\n",
      "30/30 [==============================] - 1s 23ms/step - loss: 0.1789 - acc: 0.9645 - val_loss: 0.3923 - val_acc: 0.8719\n",
      "Epoch 15/20\n",
      "30/30 [==============================] - 1s 21ms/step - loss: 0.1746 - acc: 0.9648 - val_loss: 0.3893 - val_acc: 0.8739\n",
      "Epoch 16/20\n",
      "30/30 [==============================] - 1s 21ms/step - loss: 0.1730 - acc: 0.9649 - val_loss: 0.3959 - val_acc: 0.8761\n",
      "Epoch 17/20\n",
      "30/30 [==============================] - 1s 25ms/step - loss: 0.1681 - acc: 0.9677 - val_loss: 0.4130 - val_acc: 0.8745\n",
      "Epoch 18/20\n",
      "30/30 [==============================] - 1s 23ms/step - loss: 0.1645 - acc: 0.9677 - val_loss: 0.4293 - val_acc: 0.8644\n",
      "Epoch 19/20\n",
      "30/30 [==============================] - 1s 19ms/step - loss: 0.1614 - acc: 0.9689 - val_loss: 0.4119 - val_acc: 0.8737\n",
      "Epoch 20/20\n",
      "30/30 [==============================] - 1s 18ms/step - loss: 0.1569 - acc: 0.9719 - val_loss: 0.4128 - val_acc: 0.8727\n"
     ]
    }
   ],
   "source": [
    "l2_model = build_model(16, 16, 1, reg=True)\n",
    "l2_history = l2_model.fit(partial_x_train,\n",
    "                          partial_y_train,\n",
    "                          epochs=20,\n",
    "                          batch_size=512,\n",
    "                          validation_data=(x_val, y_val))"
   ]
  },
  {
   "cell_type": "markdown",
   "metadata": {
    "slideshow": {
     "slide_type": "notes"
    }
   },
   "source": [
    "Training the regularised model."
   ]
  },
  {
   "cell_type": "code",
   "execution_count": 12,
   "metadata": {
    "slideshow": {
     "slide_type": "slide"
    }
   },
   "outputs": [],
   "source": [
    "import matplotlib.pyplot as plt\n",
    "    \n",
    "def plot_loss_comparison(loss_a, label_a, loss_b, label_b, y_label):\n",
    "\n",
    "    epochs = range(1, len(loss_a) + 1)\n",
    "\n",
    "    plt.plot(epochs, loss_a, 'b+', label = label_a)\n",
    "    plt.plot(epochs, loss_b, 'bo', label = label_b)\n",
    "    plt.xlabel('Epochs')\n",
    "    plt.ylabel(y_label)\n",
    "    plt.legend()\n",
    "    plt.show()"
   ]
  },
  {
   "cell_type": "markdown",
   "metadata": {
    "slideshow": {
     "slide_type": "notes"
    }
   },
   "source": [
    "Plot comparison function."
   ]
  },
  {
   "cell_type": "code",
   "execution_count": 13,
   "metadata": {
    "scrolled": true,
    "slideshow": {
     "slide_type": "slide"
    }
   },
   "outputs": [
    {
     "data": {
      "image/png": "[encoded data removed]",
      "text/plain": [
       "<Figure size 432x288 with 1 Axes>"
      ]
     },
     "metadata": {
      "needs_background": "light"
     },
     "output_type": "display_data"
    }
   ],
   "source": [
    "plot_loss_comparison(history.history['val_loss'], 'No reg', \n",
    "                     l2_history.history['val_loss'], 'L2 reg', 'Validation Loss')"
   ]
  },
  {
   "cell_type": "markdown",
   "metadata": {
    "slideshow": {
     "slide_type": "notes"
    }
   },
   "source": [
    "The L2 regularised model resists overfitting even though both networks have the same capacity (160305 tuneable parameters)"
   ]
  }
 ],
 "metadata": {
  "celltoolbar": "Slideshow",
  "kernelspec": {
   "display_name": "Python 3",
   "language": "python",
   "name": "python3"
  },
  "language_info": {
   "codemirror_mode": {
    "name": "ipython",
    "version": 3
   },
   "file_extension": ".py",
   "mimetype": "text/x-python",
   "name": "python",
   "nbconvert_exporter": "python",
   "pygments_lexer": "ipython3",
   "version": "3.8.5"
  }
 },
 "nbformat": 4,
 "nbformat_minor": 4
}
