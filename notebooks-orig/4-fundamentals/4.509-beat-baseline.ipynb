{
 "cells": [
  {
   "cell_type": "markdown",
   "metadata": {
    "slideshow": {
     "slide_type": "slide"
    }
   },
   "source": [
    "We aim for *statistical power* - a small model that can beat a common sense check\n",
    "\n",
    "- for example, in digit classification, a baseline algorithm merely assigns labels at random - our small model must beat 10%\n",
    "\n",
    "- For the movie reviews, our model must perform better than 50% accuracy\n",
    "\n",
    "(Assuming that MNIST and IMDB have an equal distribution of class membership) "
   ]
  },
  {
   "cell_type": "markdown",
   "metadata": {
    "slideshow": {
     "slide_type": "slide"
    }
   },
   "source": [
    "But sometimes, after much experimentation, we cannot beat the baseline\n",
    "\n",
    "Perhaps one or more of the hypotheses are false"
   ]
  },
  {
   "cell_type": "markdown",
   "metadata": {
    "slideshow": {
     "slide_type": "slide"
    }
   },
   "source": [
    "There is no prescription for model design, but there are guidelines\n",
    "\n",
    "- the smallest capacity model with statistical power\n",
    "\n",
    "- `rmsprop` optimiser with default learning rate \n",
    "\n",
    "- loss and last layer activation according to the table: "
   ]
  },
  {
   "cell_type": "markdown",
   "metadata": {
    "slideshow": {
     "slide_type": "slide"
    }
   },
   "source": [
    "|Problem type | Last layer activation | Loss function|\n",
    "|:-----------:|:---------------------:|:------------:|\n",
    "Binary clas'n | `sigmoid` | `binary_crossentropy`\n",
    "Multiclass, single-label class'n | `softmax` | `categorical_crossentropy`\n",
    "Multiclass, multi-label class'n | `sigmoid` | `binary_crossentropy`\n",
    "Regression to arbitrary values | None | `mse`\n",
    "Regression to values in [0, 1] | `sigmoid` | `mse` or `binary_crossentropy`"
   ]
  }
 ],
 "metadata": {
  "celltoolbar": "Slideshow",
  "kernelspec": {
   "display_name": "Python 3",
   "language": "python",
   "name": "python3"
  },
  "language_info": {
   "codemirror_mode": {
    "name": "ipython",
    "version": 3
   },
   "file_extension": ".py",
   "mimetype": "text/x-python",
   "name": "python",
   "nbconvert_exporter": "python",
   "pygments_lexer": "ipython3",
   "version": "3.8.5"
  }
 },
 "nbformat": 4,
 "nbformat_minor": 4
}
