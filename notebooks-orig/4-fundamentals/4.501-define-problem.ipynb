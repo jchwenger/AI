{
 "cells": [
  {
   "cell_type": "markdown",
   "metadata": {
    "slideshow": {
     "slide_type": "slide"
    }
   },
   "source": [
    "What are you trying to predict? \n",
    "\n",
    "And is the data (samples and labels) available?\n",
    "\n",
    "What is the type of the problem? \n",
    "\n",
    "Binary classification, single label multiclass, multilabel multiclass, regression? "
   ]
  },
  {
   "cell_type": "markdown",
   "metadata": {
    "slideshow": {
     "slide_type": "notes"
    }
   },
   "source": [
    "We end this half module with the deep learning workflow. There are seven steps. \n",
    "\n",
    "Firstly, answer these questions: What are you trying to predict? Is the data (samples and labels) available? What is the type of the problem (binary classification, single label multiclass, multilabel multiclass, regression)? "
   ]
  },
  {
   "cell_type": "markdown",
   "metadata": {
    "slideshow": {
     "slide_type": "slide"
    }
   },
   "source": [
    "Hypotheses\n",
    "\n",
    "- the outputs can be predicted from the inputs\n",
    "\n",
    "- the available data is sufficiently informative"
   ]
  },
  {
   "cell_type": "markdown",
   "metadata": {
    "slideshow": {
     "slide_type": "notes"
    }
   },
   "source": [
    "Remember that all rests on the validity of these hypotheses. "
   ]
  },
  {
   "cell_type": "markdown",
   "metadata": {
    "slideshow": {
     "slide_type": "slide"
    }
   },
   "source": [
    "The hypotheses might not be met even if your problem is well defined\n",
    "\n",
    "- for example, an attempt to the predict stock prices from the recent past will likely fail because recent prices contain very little predictive information"
   ]
  },
  {
   "cell_type": "markdown",
   "metadata": {
    "slideshow": {
     "slide_type": "notes"
    }
   },
   "source": [
    "The hypotheses might not be met even if your problem is well defined. ror example, an attempt to the predict stock prices from the recent past will likely fail because recent prices contain very little predictive information."
   ]
  },
  {
   "cell_type": "markdown",
   "metadata": {
    "slideshow": {
     "slide_type": "slide"
    }
   },
   "source": [
    "Nonstationary problems have a time ordering\n",
    "\n",
    "- for example, a clothing recommender will have to take the time of year into account (swimsuits in summer, coats in winter)\n",
    "\n",
    "- either gather information from a period when the problem is stationary (a succession of summers) or train the model on recent trends (the past few weeks) or on all data but include the time of year as an input"
   ]
  },
  {
   "cell_type": "markdown",
   "metadata": {
    "slideshow": {
     "slide_type": "notes"
    }
   },
   "source": [
    "Nonstationary problems have a time ordering. for example, a clothing recommender will have to take the time of year into account (swimsuits in summer, coats in winter). Either gather information from a period when the problem is stationary (a succession of summers) or train the model on recent trends (the past few weeks) or on all data but include the time of year as an input"
   ]
  },
  {
   "cell_type": "markdown",
   "metadata": {
    "slideshow": {
     "slide_type": "slide"
    }
   },
   "source": [
    "A third hypothesis\n",
    "\n",
    "- the future is like the past"
   ]
  },
  {
   "cell_type": "markdown",
   "metadata": {
    "slideshow": {
     "slide_type": "notes"
    }
   },
   "source": [
    "Machine learning only spots patterns in collected data - data that lies in the past. We assume, when we use a trained model, that the past is relevant today."
   ]
  }
 ],
 "metadata": {
  "celltoolbar": "Slideshow",
  "kernelspec": {
   "display_name": "Python 3",
   "language": "python",
   "name": "python3"
  },
  "language_info": {
   "codemirror_mode": {
    "name": "ipython",
    "version": 3
   },
   "file_extension": ".py",
   "mimetype": "text/x-python",
   "name": "python",
   "nbconvert_exporter": "python",
   "pygments_lexer": "ipython3",
   "version": "3.8.5"
  }
 },
 "nbformat": 4,
 "nbformat_minor": 4
}
