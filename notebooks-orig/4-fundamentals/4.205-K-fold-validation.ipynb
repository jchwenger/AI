{
 "cells": [
  {
   "cell_type": "markdown",
   "metadata": {
    "slideshow": {
     "slide_type": "slide"
    }
   },
   "source": [
    "K-fold validation:\n",
    "\n",
    "Split the training data into $K$ equal partitions\n",
    "\n",
    "Fold 1: instantiate a model and train on partitions $2-K$, validate on partition 1\n",
    "\n",
    "Fold 2: instantiate a model and train on partitions 1 and $3-K$, validate on partition 2\n",
    "\n",
    " ...\n",
    "\n",
    "Fold K: instantiate a model and train on partitions $1- (K-1)$, validate on $K$\n"
   ]
  },
  {
   "cell_type": "code",
   "execution_count": null,
   "metadata": {
    "slideshow": {
     "slide_type": "slide"
    }
   },
   "outputs": [],
   "source": [
    "# K-fold validation function\n",
    "def k_fold():\n",
    "    K = 4\n",
    "    num_val_samples = len(data) // K\n",
    "\n",
    "    np.random.shuffle(data)\n",
    "    val_scores = []\n",
    "    \n",
    "    for fold in range(K): # loop over folds\n",
    "        \n",
    "        # a, b mark partition end points\n",
    "        a, b = num_val_samples * fold, num_val_samples * (fold + 1)\n",
    "        # validation data partition\n",
    "        val_data = train_data[a : b]\n",
    "        # concatenate the remaining partitions\n",
    "        partial_train_data = np.concatenate(train_data[:a], train_data[b:])\n",
    "    \n",
    "        # train and evaluate a fresh model\n",
    "        model = get_model()\n",
    "        model.train(partial_train_data)\n",
    "        score = model.evaluate(val_data)\n",
    "        val_scores.append(score)\n",
    "\n",
    "    return val_scores\n",
    "\n",
    "# tune, retrain, tune, retrain...\n",
    "val_scores = k_fold()\n",
    "ave_val_score = np.mean(val_scores)\n",
    "    \n",
    "# finally retrain a fresh model on all the training data \n",
    "# evaluate on the unseen test set                             "
   ]
  },
  {
   "cell_type": "markdown",
   "metadata": {
    "slideshow": {
     "slide_type": "slide"
    }
   },
   "source": [
    "In a variant known as **iterated** or repeated **K-fold validation**, K-fold validation is repeated $P$ times\n",
    "\n",
    "The K-fold averages are gathered and re-averaged\n",
    "\n",
    "$P \\times K$ models are trained and evaluated - expensive"
   ]
  },
  {
   "cell_type": "code",
   "execution_count": null,
   "metadata": {
    "slideshow": {
     "slide_type": "slide"
    }
   },
   "outputs": [],
   "source": [
    "ave_val_scores = []\n",
    "# repeat P times:\n",
    "for k_folds in range(P):\n",
    "    # K-fold validation \n",
    "    val_scores = k_fold()\n",
    "    # save the mean K-fold validation\n",
    "    ave_val_scores.append(np.mean(val_scores))\n",
    "\n",
    "# the iterated average is the mean of the P K-fold scores\n",
    "iterated_ave_val_score = np.mean(ave_val_scores)     "
   ]
  }
 ],
 "metadata": {
  "celltoolbar": "Slideshow",
  "kernelspec": {
   "display_name": "Python 3 (ipykernel)",
   "language": "python",
   "name": "python3"
  },
  "language_info": {
   "codemirror_mode": {
    "name": "ipython",
    "version": 3
   },
   "file_extension": ".py",
   "mimetype": "text/x-python",
   "name": "python",
   "nbconvert_exporter": "python",
   "pygments_lexer": "ipython3",
   "version": "3.7.7"
  }
 },
 "nbformat": 4,
 "nbformat_minor": 4
}
