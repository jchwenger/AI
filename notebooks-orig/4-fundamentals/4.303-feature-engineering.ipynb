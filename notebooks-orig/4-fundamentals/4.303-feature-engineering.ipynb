{
 "cells": [
  {
   "cell_type": "markdown",
   "metadata": {
    "slideshow": {
     "slide_type": "slide"
    }
   },
   "source": [
    "Feature engineering (FE) is data preprocessing in the light of human knowledge of the data and the workings of a neural network\n",
    "\n",
    "FE was critical pre-DL since shallow networks do not have a large hypothesis space\n",
    "\n",
    "DL networks, thanks to their large hypothesis space, are less dependent on FE"
   ]
  },
  {
   "cell_type": "markdown",
   "metadata": {
    "slideshow": {
     "slide_type": "slide"
    }
   },
   "source": [
    "However, FE is still relevant because it helps us to solve problems cheaply and elegantly and with less data\n",
    "\n",
    "The smaller the training set, the greater the need for FE"
   ]
  },
  {
   "cell_type": "markdown",
   "metadata": {
    "slideshow": {
     "slide_type": "slide"
    }
   },
   "source": [
    "Example: learning to tell the time\n",
    "\n",
    "- suppose the input data is a pixel map of a clock face\n",
    "\n",
    "- this is a difficult machine learning task\n",
    "\n",
    "- requires convolutional nets and a vast data set of clock faces"
   ]
  },
  {
   "cell_type": "markdown",
   "metadata": {
    "slideshow": {
     "slide_type": "slide"
    }
   },
   "source": [
    "- FE might extract the x, y coordinates of the hands\n",
    "\n",
    "- the problem becomes tractable\n",
    "\n",
    "- in fact the problem is solved by a formula - the angle of the hands"
   ]
  }
 ],
 "metadata": {
  "celltoolbar": "Slideshow",
  "kernelspec": {
   "display_name": "Python 3",
   "language": "python",
   "name": "python3"
  },
  "language_info": {
   "codemirror_mode": {
    "name": "ipython",
    "version": 3
   },
   "file_extension": ".py",
   "mimetype": "text/x-python",
   "name": "python",
   "nbconvert_exporter": "python",
   "pygments_lexer": "ipython3",
   "version": "3.8.5"
  }
 },
 "nbformat": 4,
 "nbformat_minor": 4
}
