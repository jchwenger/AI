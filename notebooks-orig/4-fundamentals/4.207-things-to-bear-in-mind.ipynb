{
 "cells": [
  {
   "cell_type": "markdown",
   "metadata": {
    "slideshow": {
     "slide_type": "slide"
    }
   },
   "source": [
    "The training and test data should be representative \n",
    "\n",
    "- for example, suppose in the MNIST problem that the images come sorted by digit \n",
    "\n",
    "- clearly, the test set and training sets will contain different classes; easily remedied by shuffling "
   ]
  },
  {
   "cell_type": "markdown",
   "metadata": {
    "slideshow": {
     "slide_type": "slide"
    }
   },
   "source": [
    "The arrow of time\n",
    "\n",
    "- don't shuffle time-ordered data (e.g. weather and stock prediction)"
   ]
  },
  {
   "cell_type": "markdown",
   "metadata": {
    "slideshow": {
     "slide_type": "slide"
    }
   },
   "source": [
    "Avoid data redundancy\n",
    "\n",
    "- a data point not uncommonly occurs twice or more in real world data\n",
    "\n",
    "- the risk is testing on part of the training set\n",
    "\n",
    "- you have to ensure that the training and test sets are disjoint"
   ]
  }
 ],
 "metadata": {
  "celltoolbar": "Slideshow",
  "kernelspec": {
   "display_name": "Python 3 (ipykernel)",
   "language": "python",
   "name": "python3"
  },
  "language_info": {
   "codemirror_mode": {
    "name": "ipython",
    "version": 3
   },
   "file_extension": ".py",
   "mimetype": "text/x-python",
   "name": "python",
   "nbconvert_exporter": "python",
   "pygments_lexer": "ipython3",
   "version": "3.7.7"
  }
 },
 "nbformat": 4,
 "nbformat_minor": 4
}
