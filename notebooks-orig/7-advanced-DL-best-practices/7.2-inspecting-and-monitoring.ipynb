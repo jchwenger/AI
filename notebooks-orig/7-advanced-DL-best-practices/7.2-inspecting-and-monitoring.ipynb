{
 "cells": [
  {
   "cell_type": "markdown",
   "metadata": {
    "slideshow": {
     "slide_type": "slide"
    }
   },
   "source": [
    "## 7.210 Callbacks\n",
    "\n",
    "A callback object can be passed to `fit()`\n",
    "\n",
    "\n",
    "The object has access to all model data (including performance)"
   ]
  },
  {
   "cell_type": "markdown",
   "metadata": {
    "slideshow": {
     "slide_type": "slide"
    }
   },
   "source": [
    "The callback object can \n",
    "\n",
    "    - save weights at different stages in the training\n",
    "    - interrupt training when validation loss is no longer decreasing \n",
    "    - dynamically adjust model hyperparameters e.g. learning rate\n",
    "    - log training and validation metrics\n",
    "    - visualise learned representations"
   ]
  },
  {
   "cell_type": "code",
   "execution_count": null,
   "metadata": {
    "slideshow": {
     "slide_type": "slide"
    }
   },
   "outputs": [],
   "source": [
    "import keras\n",
    "\n",
    "callbacks_list = [\n",
    "    keras.callbacks.EarlyStopping(monitor='val_acc', patience=1), # stop if no impr. for 1 epoch\n",
    "    keras.callbacks.ModelCheckpoint(filepath='my_model.h5', \n",
    "                                    monitor='val_loss', # only overwrites if loss improves\n",
    "                                    save_best_only=True)\n",
    "]\n",
    ".\n",
    ".\n",
    ".\n",
    "model.fit(x, y, \n",
    "          epochs=10, \n",
    "          batch_size=32, \n",
    "          callbacks=callbacks_list, \n",
    "          validation_data=(x_val, y_val))\n",
    "\n"
   ]
  },
  {
   "cell_type": "markdown",
   "metadata": {
    "slideshow": {
     "slide_type": "slide"
    }
   },
   "source": [
    "The `ReduceLROnPlateau` callback can help the optimiser negotiate loss plateau\n",
    "\n",
    "Reducing learning rate can help the optiser search the plateau for crevices i.e. continue search on a small granualrity"
   ]
  },
  {
   "cell_type": "markdown",
   "metadata": {
    "slideshow": {
     "slide_type": "slide"
    }
   },
   "source": [
    "There are several built-in callbacks and you can write your own by subclassing keras.callbacks.Callback:"
   ]
  },
  {
   "cell_type": "code",
   "execution_count": null,
   "metadata": {},
   "outputs": [],
   "source": [
    "class ActivationLogger(keras.callbacks.Callback):\n",
    "    def on_epoch_end(self, epoch, logs=None):\n",
    "        ..."
   ]
  },
  {
   "cell_type": "markdown",
   "metadata": {},
   "source": [
    "----"
   ]
  }
 ],
 "metadata": {
  "celltoolbar": "Slideshow",
  "kernelspec": {
   "display_name": "Python 3 (ipykernel)",
   "language": "python",
   "name": "python3"
  },
  "language_info": {
   "codemirror_mode": {
    "name": "ipython",
    "version": 3
   },
   "file_extension": ".py",
   "mimetype": "text/x-python",
   "name": "python",
   "nbconvert_exporter": "python",
   "pygments_lexer": "ipython3",
   "version": "3.7.13"
  }
 },
 "nbformat": 4,
 "nbformat_minor": 2
}
