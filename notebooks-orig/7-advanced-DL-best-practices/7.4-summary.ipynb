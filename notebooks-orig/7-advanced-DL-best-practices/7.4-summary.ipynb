{
 "cells": [
  {
   "cell_type": "markdown",
   "metadata": {
    "slideshow": {
     "slide_type": "slide"
    }
   },
   "source": [
    "#### 7.400 Summary\n",
    "\n",
    "Tools for real world DL modeling: \n",
    "- Models of arbitrary non-cyclic graphs can be built with the functional api\n",
    "- There are some special architectures, such as Inception\n",
    "- Callbacks can monitor training"
   ]
  },
  {
   "cell_type": "markdown",
   "metadata": {
    "slideshow": {
     "slide_type": "slide"
    }
   },
   "source": [
    "- Batch normalisation, depthwise separable convolution and residual connections\n",
    "- Hyperparameter optimisation and model ensembling"
   ]
  }
 ],
 "metadata": {
  "celltoolbar": "Slideshow",
  "kernelspec": {
   "display_name": "Python 3",
   "language": "python",
   "name": "python3"
  },
  "language_info": {
   "codemirror_mode": {
    "name": "ipython",
    "version": 3
   },
   "file_extension": ".py",
   "mimetype": "text/x-python",
   "name": "python",
   "nbconvert_exporter": "python",
   "pygments_lexer": "ipython3",
   "version": "3.8.5"
  }
 },
 "nbformat": 4,
 "nbformat_minor": 2
}
