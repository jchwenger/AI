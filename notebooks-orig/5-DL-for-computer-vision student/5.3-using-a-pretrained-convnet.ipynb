{
 "cells": [
  {
   "cell_type": "code",
   "execution_count": 1,
   "metadata": {
    "scrolled": true
   },
   "outputs": [
    {
     "name": "stdout",
     "output_type": "stream",
     "text": [
      "2.3.0   2.4.0\n"
     ]
    }
   ],
   "source": [
    "from tensorflow import keras\n",
    "\n",
    "print(tf.__version__, ' ', tf.keras.__version__)"
   ]
  },
  {
   "cell_type": "markdown",
   "metadata": {
    "slideshow": {
     "slide_type": "slide"
    }
   },
   "source": [
    "----"
   ]
  },
  {
   "cell_type": "markdown",
   "metadata": {
    "slideshow": {
     "slide_type": "slide"
    }
   },
   "source": [
    "## 5.300 Using a pretrained convnet\n",
    "\n",
    "A pretrained network is simply a network that has been trained on a large dataset - typically, a large-scale image classification task - and saved for public use"
   ]
  },
  {
   "cell_type": "markdown",
   "metadata": {
    "slideshow": {
     "slide_type": "slide"
    }
   },
   "source": [
    "Philosophy: the pre-trained model, if it has been trained on a large and sufficiently general dataset, will have learned the spatial feature hierarchy of real-world objects (edges and corners, simple shapes, compound shapes) "
   ]
  },
  {
   "cell_type": "markdown",
   "metadata": {
    "slideshow": {
     "slide_type": "slide"
    }
   },
   "source": [
    "Such a pretrained model would prove useful for many different computer vision problems - even for completely different classes from those of the original task\n",
    "\n",
    "For example, train a network on a dataset where the classes are mostly animals and everyday objects \n",
    "\n",
    "and apply this trained network to identifying furniture"
   ]
  },
  {
   "cell_type": "markdown",
   "metadata": {
    "slideshow": {
     "slide_type": "slide"
    }
   },
   "source": [
    "The ability of DL models to solve new, unseen problems distinguishes DL from older, shallow learning techniques\n",
    "\n",
    "and it makes DL very effective for small-data problems"
   ]
  },
  {
   "cell_type": "markdown",
   "metadata": {
    "slideshow": {
     "slide_type": "slide"
    }
   },
   "source": [
    "Let's consider a large convnet trained on the ImageNet dataset (1.4 million labeled images and 1000 different classes)\n",
    "\n",
    "ImageNet contains many animal classes, including different types of cats and dogs\n",
    "\n",
    "We can expect it to perform very well on our Dog vs. Cat problem"
   ]
  },
  {
   "cell_type": "markdown",
   "metadata": {
    "slideshow": {
     "slide_type": "slide"
    }
   },
   "source": [
    "`tensorflow.keras` has several pretrained models - they have all been trained on ImageNet :\n",
    "\n",
    "* Xception\n",
    "* InceptionV3\n",
    "* ResNet50\n",
    "* VGG16\n",
    "* VGG19\n",
    "* MobileNet"
   ]
  },
  {
   "cell_type": "markdown",
   "metadata": {
    "slideshow": {
     "slide_type": "slide"
    }
   },
   "source": [
    "We will use the VGG16 architecture\n",
    "\n",
    "It is a simple and widely used convnet architecture for ImageNet\n",
    "\n",
    "VGG16 is not necessarily the lightest and best pretrained model, but the architecture is similar to our previous convnets"
   ]
  },
  {
   "cell_type": "markdown",
   "metadata": {
    "slideshow": {
     "slide_type": "slide"
    }
   },
   "source": [
    "There are two ways to deploy a pre-trained network: *feature extraction* and *fine-tuning*\n",
    "\n",
    "We start with feature extraction"
   ]
  },
  {
   "cell_type": "markdown",
   "metadata": {
    "slideshow": {
     "slide_type": "slide"
    }
   },
   "source": [
    "----"
   ]
  },
  {
   "cell_type": "markdown",
   "metadata": {
    "slideshow": {
     "slide_type": "slide"
    }
   },
   "source": [
    "## 5.310 Feature extraction\n",
    "\n",
    "Feature extraction means using the learned representations of trained networks to find relevant features in new datasets\n",
    "\n",
    "Convnets are built in two parts:\n",
    "- a *convolutional base* of pooling and conv layers \n",
    "- densely-connected classifier"
   ]
  },
  {
   "cell_type": "markdown",
   "metadata": {
    "slideshow": {
     "slide_type": "slide"
    }
   },
   "source": [
    "The base weights and biases are 'frozen' - held fixed - and the original classifier is replaced with a new classifier that is more appropriate to the task in hand\n",
    "\n",
    "The trained conv base extracts features; \n",
    "\n",
    "the new classifier is trained to interpret \n",
    "\n",
    "these features in terms of the new classes"
   ]
  },
  {
   "cell_type": "markdown",
   "metadata": {
    "slideshow": {
     "slide_type": "slide"
    }
   },
   "source": [
    "Why only reuse the convolutional base? Why not use the densely-connected classifier as well? \n",
    "\n",
    "Because representations learned by the convolutional base are likely to be *generic*; \n",
    "\n",
    "those learned by the classifier are *specific* \n",
    "\n",
    "and *non-spatial*"
   ]
  },
  {
   "cell_type": "markdown",
   "metadata": {
    "slideshow": {
     "slide_type": "slide"
    }
   },
   "source": [
    "Convnet feature maps represent generic concepts (edges, corners, objects etc) - concepts that will apply to many real-world images \n",
    "\n",
    "But representations learned by the pretrained classifier \n",
    "\n",
    "will be very specific to the classes \n",
    "\n",
    "of the original training set"
   ]
  },
  {
   "cell_type": "markdown",
   "metadata": {
    "slideshow": {
     "slide_type": "slide"
    }
   },
   "source": [
    "Convolutional layers preserve object location; densely-connected layers lose spatial information\n",
    "\n",
    "The loss of spatial information might be problematic for some tasks\n",
    "\n",
    "=> disconnect pretrained classifier"
   ]
  },
  {
   "cell_type": "markdown",
   "metadata": {
    "slideshow": {
     "slide_type": "slide"
    }
   },
   "source": [
    "The generality (and therefore reusability) of the representations extracted by specific convolution layers depends on the depth of the layer in the model "
   ]
  },
  {
   "cell_type": "markdown",
   "metadata": {
    "slideshow": {
     "slide_type": "slide"
    }
   },
   "source": [
    "- early, lower, layers extract local, highly generic feature (such as visual edges, colors, and textures)\n",
    "\n",
    "- higher layers extract more abstract concepts \n",
    "- (such as 'cat ear' or 'dog eye)"
   ]
  },
  {
   "cell_type": "markdown",
   "metadata": {
    "slideshow": {
     "slide_type": "slide"
    }
   },
   "source": [
    "- use the lower layers only, and not the entire base, for datasets that differ markedly from the original dataset of the trained model"
   ]
  },
  {
   "cell_type": "markdown",
   "metadata": {
    "slideshow": {
     "slide_type": "slide"
    }
   },
   "source": [
    "The ImageNet class set did in fact contain multiple dog and cat classes - so it would be beneficial to reuse the the densely-connected layers of the original model \n",
    "\n",
    "We will chose to disconnect the top level classifier in order to demonstrate the more general case \n",
    "\n",
    "where the class set of the new problem \n",
    "\n",
    "is not a subset of the original class set"
   ]
  },
  {
   "cell_type": "code",
   "execution_count": 12,
   "metadata": {
    "slideshow": {
     "slide_type": "slide"
    }
   },
   "outputs": [],
   "source": [
    "from tensorflow.keras.applications import VGG16\n",
    "\n",
    "conv_base = VGG16(weights='imagenet',\n",
    "                  include_top=False,\n",
    "                  input_shape=(150, 150, 3))"
   ]
  },
  {
   "cell_type": "markdown",
   "metadata": {
    "slideshow": {
     "slide_type": "slide"
    }
   },
   "source": [
    "The constructor takes three arguments:\n",
    "\n",
    "* `weights`, either `none`, `imagenet` or a path to a weights file  \n",
    "* `include_top` for possible retention of the three layer densely-connected 1000 class classifier\n",
    "* `input_shape`, shape of input image tensor"
   ]
  },
  {
   "cell_type": "markdown",
   "metadata": {
    "slideshow": {
     "slide_type": "slide"
    }
   },
   "source": [
    "Here's the detail of the architecture of the VGG16 convolutional base: it's very similar to the simple convnets that you are already familiar with..."
   ]
  },
  {
   "cell_type": "code",
   "execution_count": 3,
   "metadata": {
    "slideshow": {
     "slide_type": "slide"
    }
   },
   "outputs": [
    {
     "name": "stdout",
     "output_type": "stream",
     "text": [
      "Model: \"vgg16\"\n",
      "_________________________________________________________________\n",
      "Layer (type)                 Output Shape              Param #   \n",
      "=================================================================\n",
      "input_1 (InputLayer)         [(None, 150, 150, 3)]     0         \n",
      "_________________________________________________________________\n",
      "block1_conv1 (Conv2D)        (None, 150, 150, 64)      1792      \n",
      "_________________________________________________________________\n",
      "block1_conv2 (Conv2D)        (None, 150, 150, 64)      36928     \n",
      "_________________________________________________________________\n",
      "block1_pool (MaxPooling2D)   (None, 75, 75, 64)        0         \n",
      "_________________________________________________________________\n",
      "block2_conv1 (Conv2D)        (None, 75, 75, 128)       73856     \n",
      "_________________________________________________________________\n",
      "block2_conv2 (Conv2D)        (None, 75, 75, 128)       147584    \n",
      "_________________________________________________________________\n",
      "block2_pool (MaxPooling2D)   (None, 37, 37, 128)       0         \n",
      "_________________________________________________________________\n",
      "block3_conv1 (Conv2D)        (None, 37, 37, 256)       295168    \n",
      "_________________________________________________________________\n",
      "block3_conv2 (Conv2D)        (None, 37, 37, 256)       590080    \n",
      "_________________________________________________________________\n",
      "block3_conv3 (Conv2D)        (None, 37, 37, 256)       590080    \n",
      "_________________________________________________________________\n",
      "block3_pool (MaxPooling2D)   (None, 18, 18, 256)       0         \n",
      "_________________________________________________________________\n",
      "block4_conv1 (Conv2D)        (None, 18, 18, 512)       1180160   \n",
      "_________________________________________________________________\n",
      "block4_conv2 (Conv2D)        (None, 18, 18, 512)       2359808   \n",
      "_________________________________________________________________\n",
      "block4_conv3 (Conv2D)        (None, 18, 18, 512)       2359808   \n",
      "_________________________________________________________________\n",
      "block4_pool (MaxPooling2D)   (None, 9, 9, 512)         0         \n",
      "_________________________________________________________________\n",
      "block5_conv1 (Conv2D)        (None, 9, 9, 512)         2359808   \n",
      "_________________________________________________________________\n",
      "block5_conv2 (Conv2D)        (None, 9, 9, 512)         2359808   \n",
      "_________________________________________________________________\n",
      "block5_conv3 (Conv2D)        (None, 9, 9, 512)         2359808   \n",
      "_________________________________________________________________\n",
      "block5_pool (MaxPooling2D)   (None, 4, 4, 512)         0         \n",
      "=================================================================\n",
      "Total params: 14,714,688\n",
      "Trainable params: 14,714,688\n",
      "Non-trainable params: 0\n",
      "_________________________________________________________________\n"
     ]
    }
   ],
   "source": [
    "conv_base.summary()"
   ]
  },
  {
   "cell_type": "markdown",
   "metadata": {
    "slideshow": {
     "slide_type": "slide"
    }
   },
   "source": [
    "The densely-connected classifier must accept the `(4, 4, 512)` output of the final feature map \n",
    "\n",
    "We have two options:"
   ]
  },
  {
   "cell_type": "markdown",
   "metadata": {
    "slideshow": {
     "slide_type": "slide"
    }
   },
   "source": [
    "1. Extract *then* train\n",
    "    - run the convolutional base over Dogs vs Cats and save output as a Numpy array\n",
    "    - use the processed features as input to a standalone densely-connected classifier\n",
    "\n",
    "Similar to training a classifier \n",
    "\n",
    "on a set of 4 x 4 'images' of 512 channels (!)\n",
    "\n"
   ]
  },
  {
   "cell_type": "markdown",
   "metadata": {
    "slideshow": {
     "slide_type": "slide"
    }
   },
   "source": [
    "Extract-then-train is very fast because it only requires running the convolutional base once for every input image (the convolutional base is by far the most expensive part of the pipeline) \n",
    "\n",
    "But this technique would prohibit data augmentation"
   ]
  },
  {
   "cell_type": "markdown",
   "metadata": {
    "slideshow": {
     "slide_type": "slide"
    }
   },
   "source": [
    "2. Extract *and* train\n",
    "    - add `Dense` layers on top of `conv_base`\n",
    "    - running the whole thing end-to-end on the input data \n",
    "\n",
    "Every input image is going through the convolutional base every time it is seen by the model - so we can use data augmentation\n",
    "\n",
    "But this technique is computationally intense"
   ]
  },
  {
   "cell_type": "markdown",
   "metadata": {
    "slideshow": {
     "slide_type": "slide"
    }
   },
   "source": [
    "Let's look at option 1 (recording the outputs of `conv_base` on our data and using these outputs as inputs to a new model)\n",
    "\n",
    "- extract features by calling \n",
    "\n",
    "the `predict` method of `conv_base`\n",
    "- define a dense classifier and train \n",
    "\n",
    "on the extracted features"
   ]
  },
  {
   "cell_type": "code",
   "execution_count": null,
   "metadata": {
    "slideshow": {
     "slide_type": "slide"
    }
   },
   "outputs": [],
   "source": [
    "import os\n",
    "import numpy as np\n",
    "from tensorflow.keras.preprocessing.image import ImageDataGenerator\n",
    "\n",
    "base_dir = '/Users/timblackwell/Documents/Goldsmiths/2021/Data Science/data/cats_and_dogs_small'\n",
    "\n",
    "train_dir = os.path.join(base_dir, 'train')\n",
    "validation_dir = os.path.join(base_dir, 'validation')\n",
    "test_dir = os.path.join(base_dir, 'test')\n",
    "\n",
    "datagen = ImageDataGenerator(rescale=1./255)\n",
    "batch_size = 20\n",
    "\n",
    "def extract_features(directory, sample_count):\n",
    "    features = np.zeros(shape=(sample_count, 4, 4, 512))\n",
    "    labels = np.zeros(shape=(sample_count))\n",
    "    generator = datagen.flow_from_directory(\n",
    "        directory,\n",
    "        target_size=(150, 150),\n",
    "        batch_size=batch_size,\n",
    "        class_mode='binary')\n",
    "    i = 0\n",
    "    for inputs_batch, labels_batch in generator:\n",
    "        features_batch = conv_base.predict(inputs_batch)\n",
    "        features[i * batch_size : (i + 1) * batch_size] = features_batch\n",
    "        labels[i * batch_size : (i + 1) * batch_size] = labels_batch\n",
    "        i += 1\n",
    "        if i * batch_size >= sample_count:\n",
    "            # Note that since generators yield data indefinitely in a loop,\n",
    "            # we must `break` after every image has been seen once.\n",
    "            break\n",
    "    return features, labels"
   ]
  },
  {
   "cell_type": "code",
   "execution_count": 9,
   "metadata": {
    "slideshow": {
     "slide_type": "slide"
    }
   },
   "outputs": [
    {
     "name": "stdout",
     "output_type": "stream",
     "text": [
      "Found 2000 images belonging to 2 classes.\n",
      "0\n",
      "20\n",
      "40\n",
      "60\n",
      "80\n",
      "100\n",
      "120\n",
      "140\n",
      "160\n",
      "180\n",
      "200\n",
      "220\n",
      "240\n",
      "260\n",
      "280\n",
      "300\n",
      "320\n",
      "340\n",
      "360\n",
      "380\n",
      "400\n",
      "420\n",
      "440\n",
      "460\n",
      "480\n",
      "500\n",
      "520\n",
      "540\n",
      "560\n",
      "580\n",
      "600\n",
      "620\n",
      "640\n",
      "660\n",
      "680\n",
      "700\n",
      "720\n",
      "740\n",
      "760\n",
      "780\n",
      "800\n",
      "820\n",
      "840\n",
      "860\n",
      "880\n",
      "900\n",
      "920\n",
      "940\n",
      "960\n",
      "980\n",
      "1000\n",
      "1020\n",
      "1040\n",
      "1060\n",
      "1080\n",
      "1100\n",
      "1120\n",
      "1140\n",
      "1160\n",
      "1180\n",
      "1200\n",
      "1220\n",
      "1240\n",
      "1260\n",
      "1280\n",
      "1300\n",
      "1320\n",
      "1340\n",
      "1360\n",
      "1380\n",
      "1400\n",
      "1420\n",
      "1440\n",
      "1460\n",
      "1480\n",
      "1500\n",
      "1520\n",
      "1540\n",
      "1560\n",
      "1580\n",
      "1600\n",
      "1620\n",
      "1640\n",
      "1660\n",
      "1680\n",
      "1700\n",
      "1720\n",
      "1740\n",
      "1760\n",
      "1780\n",
      "1800\n",
      "1820\n",
      "1840\n",
      "1860\n",
      "1880\n",
      "1900\n",
      "1920\n",
      "1940\n",
      "1960\n",
      "1980\n",
      "Found 1000 images belonging to 2 classes.\n",
      "0\n",
      "20\n",
      "40\n",
      "60\n",
      "80\n",
      "100\n",
      "120\n",
      "140\n",
      "160\n",
      "180\n",
      "200\n",
      "220\n",
      "240\n",
      "260\n",
      "280\n",
      "300\n",
      "320\n",
      "340\n",
      "360\n",
      "380\n",
      "400\n",
      "420\n",
      "440\n",
      "460\n",
      "480\n",
      "500\n",
      "520\n",
      "540\n",
      "560\n",
      "580\n",
      "600\n",
      "620\n",
      "640\n",
      "660\n",
      "680\n",
      "700\n",
      "720\n",
      "740\n",
      "760\n",
      "780\n",
      "800\n",
      "820\n",
      "840\n",
      "860\n",
      "880\n",
      "900\n",
      "920\n",
      "940\n",
      "960\n",
      "980\n",
      "Found 1000 images belonging to 2 classes.\n",
      "0\n",
      "20\n",
      "40\n",
      "60\n",
      "80\n",
      "100\n",
      "120\n",
      "140\n",
      "160\n",
      "180\n",
      "200\n",
      "220\n",
      "240\n",
      "260\n",
      "280\n",
      "300\n",
      "320\n",
      "340\n",
      "360\n",
      "380\n",
      "400\n",
      "420\n",
      "440\n",
      "460\n",
      "480\n",
      "500\n",
      "520\n",
      "540\n",
      "560\n",
      "580\n",
      "600\n",
      "620\n",
      "640\n",
      "660\n",
      "680\n",
      "700\n",
      "720\n",
      "740\n",
      "760\n",
      "780\n",
      "800\n",
      "820\n",
      "840\n",
      "860\n",
      "880\n",
      "900\n",
      "920\n",
      "940\n",
      "960\n",
      "980\n"
     ]
    }
   ],
   "source": [
    "train_features, train_labels = extract_features(train_dir, 2000)\n",
    "validation_features, validation_labels = extract_features(validation_dir, 1000)\n",
    "test_features, test_labels = extract_features(test_dir, 1000)"
   ]
  },
  {
   "cell_type": "markdown",
   "metadata": {
    "slideshow": {
     "slide_type": "slide"
    }
   },
   "source": [
    "The extracted features are currently of shape `(samples, 4, 4, 512)`\n",
    "\n",
    "Flatten to `(samples, 8192)` ready for input to a dense classifier"
   ]
  },
  {
   "cell_type": "code",
   "execution_count": 10,
   "metadata": {
    "slideshow": {
     "slide_type": "slide"
    }
   },
   "outputs": [],
   "source": [
    "train_features = np.reshape(train_features, (2000, 4 * 4 * 512))\n",
    "validation_features = np.reshape(validation_features, (1000, 4 * 4 * 512))\n",
    "test_features = np.reshape(test_features, (1000, 4 * 4 * 512))"
   ]
  },
  {
   "cell_type": "markdown",
   "metadata": {
    "slideshow": {
     "slide_type": "slide"
    }
   },
   "source": [
    "Define the densely-connected classifier (with dropout for regularisation)\n",
    "\n",
    "and train it on the recorded data and labels:"
   ]
  },
  {
   "cell_type": "code",
   "execution_count": 11,
   "metadata": {
    "slideshow": {
     "slide_type": "slide"
    }
   },
   "outputs": [
    {
     "name": "stdout",
     "output_type": "stream",
     "text": [
      "Epoch 1/30\n",
      "100/100 [==============================] - 1s 15ms/step - loss: 0.5896 - acc: 0.6765 - val_loss: 0.4369 - val_acc: 0.8350\n",
      "Epoch 2/30\n",
      "100/100 [==============================] - 1s 12ms/step - loss: 0.4219 - acc: 0.8110 - val_loss: 0.3619 - val_acc: 0.8570\n",
      "Epoch 3/30\n",
      "100/100 [==============================] - 1s 11ms/step - loss: 0.3516 - acc: 0.8435 - val_loss: 0.3189 - val_acc: 0.8850\n",
      "Epoch 4/30\n",
      "100/100 [==============================] - 1s 11ms/step - loss: 0.3140 - acc: 0.8705 - val_loss: 0.2978 - val_acc: 0.8790\n",
      "Epoch 5/30\n",
      "100/100 [==============================] - 1s 12ms/step - loss: 0.2855 - acc: 0.8865 - val_loss: 0.2858 - val_acc: 0.8780\n",
      "Epoch 6/30\n",
      "100/100 [==============================] - 1s 13ms/step - loss: 0.2592 - acc: 0.9010 - val_loss: 0.2809 - val_acc: 0.8760\n",
      "Epoch 7/30\n",
      "100/100 [==============================] - 1s 13ms/step - loss: 0.2381 - acc: 0.9110 - val_loss: 0.2630 - val_acc: 0.8980\n",
      "Epoch 8/30\n",
      "100/100 [==============================] - 1s 12ms/step - loss: 0.2327 - acc: 0.9150 - val_loss: 0.2604 - val_acc: 0.9030\n",
      "Epoch 9/30\n",
      "100/100 [==============================] - 1s 13ms/step - loss: 0.2191 - acc: 0.9190 - val_loss: 0.2544 - val_acc: 0.9020\n",
      "Epoch 10/30\n",
      "100/100 [==============================] - 1s 13ms/step - loss: 0.2048 - acc: 0.9240 - val_loss: 0.2533 - val_acc: 0.9050\n",
      "Epoch 11/30\n",
      "100/100 [==============================] - 1s 13ms/step - loss: 0.1852 - acc: 0.9295 - val_loss: 0.2462 - val_acc: 0.9010\n",
      "Epoch 12/30\n",
      "100/100 [==============================] - 1s 12ms/step - loss: 0.1825 - acc: 0.9335 - val_loss: 0.2428 - val_acc: 0.9030\n",
      "Epoch 13/30\n",
      "100/100 [==============================] - 1s 12ms/step - loss: 0.1793 - acc: 0.9380 - val_loss: 0.2504 - val_acc: 0.8880\n",
      "Epoch 14/30\n",
      "100/100 [==============================] - 1s 12ms/step - loss: 0.1658 - acc: 0.9435 - val_loss: 0.2452 - val_acc: 0.8910\n",
      "Epoch 15/30\n",
      "100/100 [==============================] - 1s 12ms/step - loss: 0.1606 - acc: 0.9385 - val_loss: 0.2401 - val_acc: 0.9040\n",
      "Epoch 16/30\n",
      "100/100 [==============================] - 1s 12ms/step - loss: 0.1479 - acc: 0.9505 - val_loss: 0.2394 - val_acc: 0.8990\n",
      "Epoch 17/30\n",
      "100/100 [==============================] - 1s 12ms/step - loss: 0.1504 - acc: 0.9475 - val_loss: 0.2400 - val_acc: 0.8960\n",
      "Epoch 18/30\n",
      "100/100 [==============================] - 1s 14ms/step - loss: 0.1377 - acc: 0.9580 - val_loss: 0.2450 - val_acc: 0.8960\n",
      "Epoch 19/30\n",
      "100/100 [==============================] - 1s 12ms/step - loss: 0.1358 - acc: 0.9530 - val_loss: 0.2431 - val_acc: 0.8960\n",
      "Epoch 20/30\n",
      "100/100 [==============================] - 1s 13ms/step - loss: 0.1347 - acc: 0.9540 - val_loss: 0.2351 - val_acc: 0.9050\n",
      "Epoch 21/30\n",
      "100/100 [==============================] - 1s 12ms/step - loss: 0.1270 - acc: 0.9595 - val_loss: 0.2401 - val_acc: 0.8950\n",
      "Epoch 22/30\n",
      "100/100 [==============================] - 1s 12ms/step - loss: 0.1219 - acc: 0.9615 - val_loss: 0.2373 - val_acc: 0.9050\n",
      "Epoch 23/30\n",
      "100/100 [==============================] - 1s 12ms/step - loss: 0.1143 - acc: 0.9645 - val_loss: 0.2506 - val_acc: 0.8940\n",
      "Epoch 24/30\n",
      "100/100 [==============================] - 1s 12ms/step - loss: 0.1113 - acc: 0.9670 - val_loss: 0.2370 - val_acc: 0.9060\n",
      "Epoch 25/30\n",
      "100/100 [==============================] - 1s 12ms/step - loss: 0.1000 - acc: 0.9680 - val_loss: 0.2471 - val_acc: 0.8940\n",
      "Epoch 26/30\n",
      "100/100 [==============================] - 1s 12ms/step - loss: 0.1021 - acc: 0.9645 - val_loss: 0.2405 - val_acc: 0.9010\n",
      "Epoch 27/30\n",
      "100/100 [==============================] - 1s 12ms/step - loss: 0.0968 - acc: 0.9680 - val_loss: 0.2509 - val_acc: 0.8950\n",
      "Epoch 28/30\n",
      "100/100 [==============================] - 1s 12ms/step - loss: 0.0945 - acc: 0.9710 - val_loss: 0.2434 - val_acc: 0.9010\n",
      "Epoch 29/30\n",
      "100/100 [==============================] - 1s 13ms/step - loss: 0.0913 - acc: 0.9690 - val_loss: 0.2448 - val_acc: 0.9000\n",
      "Epoch 30/30\n",
      "100/100 [==============================] - 1s 13ms/step - loss: 0.0888 - acc: 0.9760 - val_loss: 0.2388 - val_acc: 0.9050\n"
     ]
    }
   ],
   "source": [
    "from tensorflow.keras import models\n",
    "from tensorflow.keras import layers\n",
    "from tensorflow.keras import optimizers\n",
    "\n",
    "model = models.Sequential()\n",
    "model.add(layers.Dense(256, activation='relu', input_dim=4 * 4 * 512))\n",
    "model.add(layers.Dropout(0.5))\n",
    "model.add(layers.Dense(1, activation='sigmoid'))\n",
    "\n",
    "model.compile(optimizer=optimizers.RMSprop(lr=2e-5),\n",
    "              loss='binary_crossentropy',\n",
    "              metrics=['acc'])\n",
    "\n",
    "history = model.fit(train_features, train_labels,\n",
    "                    epochs=30,\n",
    "                    batch_size=20,\n",
    "                    validation_data=(validation_features, validation_labels))"
   ]
  },
  {
   "cell_type": "markdown",
   "metadata": {
    "slideshow": {
     "slide_type": "slide"
    }
   },
   "source": [
    "Training is very fast, less than 1 sec/epoch, since there are only two `Dense` layers\n",
    "\n",
    "Inspect training loss and accuracy:"
   ]
  },
  {
   "cell_type": "code",
   "execution_count": null,
   "metadata": {
    "slideshow": {
     "slide_type": "skip"
    }
   },
   "outputs": [],
   "source": [
    "import matplotlib.pyplot as plt\n",
    "\n",
    "acc = history.history['acc']\n",
    "val_acc = history.history['val_acc']\n",
    "loss = history.history['loss']\n",
    "val_loss = history.history['val_loss']\n",
    "\n",
    "epochs = range(len(acc))\n",
    "\n",
    "plt.plot(epochs, acc, 'bo', label='Training acc')\n",
    "plt.plot(epochs, val_acc, 'b', label='Validation acc')\n",
    "plt.title('Training and validation accuracy')\n",
    "plt.legend()\n",
    "\n",
    "plt.figure()\n",
    "\n",
    "plt.plot(epochs, loss, 'bo', label='Training loss')\n",
    "plt.plot(epochs, val_loss, 'b', label='Validation loss')\n",
    "plt.title('Training and validation loss')\n",
    "plt.legend()"
   ]
  },
  {
   "cell_type": "code",
   "execution_count": 12,
   "metadata": {
    "slideshow": {
     "slide_type": "slide"
    }
   },
   "outputs": [
    {
     "data": {
      "image/png": "[encoded data removed]",
      "text/plain": [
       "<Figure size 432x288 with 1 Axes>"
      ]
     },
     "metadata": {
      "needs_background": "light"
     },
     "output_type": "display_data"
    },
    {
     "data": {
      "image/png": "[encoded data removed]",
      "text/plain": [
       "<Figure size 432x288 with 1 Axes>"
      ]
     },
     "metadata": {
      "needs_background": "light"
     },
     "output_type": "display_data"
    }
   ],
   "source": [
    "plt.show()"
   ]
  },
  {
   "cell_type": "markdown",
   "metadata": {
    "slideshow": {
     "slide_type": "slide"
    }
   },
   "source": [
    "We attain about 90% validation accuracy\n",
    "\n",
    "Much better than our small model trained from scratch\n",
    "\n",
    "But the plots also indicate overfitting despite 50% d.o."
   ]
  },
  {
   "cell_type": "markdown",
   "metadata": {
    "slideshow": {
     "slide_type": "slide"
    }
   },
   "source": [
    "Generator driven data augmentation is impossible with option 1\n",
    "\n",
    "and data augmentation is essential for preventing overfitting with small image datasets"
   ]
  },
  {
   "cell_type": "markdown",
   "metadata": {
    "slideshow": {
     "slide_type": "slide"
    }
   },
   "source": [
    "So let's now consider Option 2 (extract and train)\n",
    "\n",
    "- add a classifier to the `conv_base` model\n",
    "- train the entire model on the \n",
    "\n",
    "data-augmented inputs "
   ]
  },
  {
   "cell_type": "markdown",
   "metadata": {
    "slideshow": {
     "slide_type": "slide"
    }
   },
   "source": [
    "This technique is very expensive (about 5 mins/epoch on a cpu) - you should consider using a GPU, or even a TPU\n",
    "\n",
    "GPU and TPU runtimes are available at \n",
    "\n",
    "Google Colaboratory"
   ]
  },
  {
   "cell_type": "markdown",
   "metadata": {
    "slideshow": {
     "slide_type": "slide"
    }
   },
   "source": [
    "`tensorflow.keras` presents a common interface for models and layers - models can be clicked into place as if they were layers\n",
    "\n",
    "Simple add `conv_base` to a `Sequential` model:"
   ]
  },
  {
   "cell_type": "code",
   "execution_count": 14,
   "metadata": {
    "slideshow": {
     "slide_type": "slide"
    }
   },
   "outputs": [],
   "source": [
    "from tensorflow.keras import models\n",
    "from tensorflow.keras import layers\n",
    "\n",
    "model = models.Sequential()\n",
    "model.add(conv_base)\n",
    "model.add(layers.Flatten())\n",
    "model.add(layers.Dense(256, activation='relu'))\n",
    "model.add(layers.Dense(1, activation='sigmoid'))"
   ]
  },
  {
   "cell_type": "code",
   "execution_count": 14,
   "metadata": {
    "slideshow": {
     "slide_type": "slide"
    }
   },
   "outputs": [
    {
     "name": "stdout",
     "output_type": "stream",
     "text": [
      "Model: \"sequential_1\"\n",
      "_________________________________________________________________\n",
      "Layer (type)                 Output Shape              Param #   \n",
      "=================================================================\n",
      "vgg16 (Functional)           (None, 4, 4, 512)         14714688  \n",
      "_________________________________________________________________\n",
      "flatten (Flatten)            (None, 8192)              0         \n",
      "_________________________________________________________________\n",
      "dense_2 (Dense)              (None, 256)               2097408   \n",
      "_________________________________________________________________\n",
      "dense_3 (Dense)              (None, 1)                 257       \n",
      "=================================================================\n",
      "Total params: 16,812,353\n",
      "Trainable params: 16,812,353\n",
      "Non-trainable params: 0\n",
      "_________________________________________________________________\n"
     ]
    }
   ],
   "source": [
    "model.summary()"
   ]
  },
  {
   "cell_type": "markdown",
   "metadata": {
    "slideshow": {
     "slide_type": "slide"
    }
   },
   "source": [
    "14.7 million parameters in the convolutional base and 2 million dense classifier parameters\n",
    "\n",
    "Pretty big!\n",
    "\n",
    "It would be disastrous to go ahead \n",
    "\n",
    "and train the model"
   ]
  },
  {
   "cell_type": "markdown",
   "metadata": {
    "slideshow": {
     "slide_type": "slide"
    }
   },
   "source": [
    "The `Dense` layers on top are randomly initialized; very large weight updates would be propagated through the network, effectively destroying the previously learned representations of the conv base"
   ]
  },
  {
   "cell_type": "markdown",
   "metadata": {
    "slideshow": {
     "slide_type": "slide"
    }
   },
   "source": [
    "Solution: 'freeze' the convolutional base \n",
    "\n",
    "A layer is 'frozen' if its weights cannot be updated during training \n",
    "\n",
    "Model or layer `trainable` attribute to `False`\n",
    "\n",
    "Freezing must take place before compilation"
   ]
  },
  {
   "cell_type": "markdown",
   "metadata": {
    "slideshow": {
     "slide_type": "slide"
    }
   },
   "source": [
    "![swapping FC classifiers](https://s3.amazonaws.com/book.keras.io/img/ch5/swapping_fc_classifier.png)"
   ]
  },
  {
   "cell_type": "code",
   "execution_count": 15,
   "metadata": {
    "slideshow": {
     "slide_type": "slide"
    }
   },
   "outputs": [
    {
     "name": "stdout",
     "output_type": "stream",
     "text": [
      "Trainable parameter tensors before freezing the conv base: 30\n"
     ]
    }
   ],
   "source": [
    "print('Trainable parameter tensors before freezing the conv base:', len(model.trainable_weights))"
   ]
  },
  {
   "cell_type": "code",
   "execution_count": 16,
   "metadata": {
    "slideshow": {
     "slide_type": "-"
    }
   },
   "outputs": [],
   "source": [
    "conv_base.trainable = False"
   ]
  },
  {
   "cell_type": "code",
   "execution_count": 17,
   "metadata": {},
   "outputs": [
    {
     "name": "stdout",
     "output_type": "stream",
     "text": [
      "Trainable parameter tensors after freezing the conv base: 4\n"
     ]
    }
   ],
   "source": [
    "print('Trainable parameter tensors after freezing the conv base:', len(model.trainable_weights))"
   ]
  },
  {
   "cell_type": "markdown",
   "metadata": {
    "slideshow": {
     "slide_type": "slide"
    }
   },
   "source": [
    "VGG16 has 13 conv layers and each layer has a main weight tensor ($w$) and a bias tensor ($b$)\n",
    "\n",
    "The dense classifier has two trainable layers - that's four more tensors of trainable parameters\n",
    "\n",
    "30 tensors of trainable parameters before freezing\n",
    "\n",
    "4 tensors after freezing"
   ]
  },
  {
   "cell_type": "markdown",
   "metadata": {
    "slideshow": {
     "slide_type": "slide"
    }
   },
   "source": [
    "Training the model with data augmented input:"
   ]
  },
  {
   "cell_type": "code",
   "execution_count": null,
   "metadata": {
    "slideshow": {
     "slide_type": "skip"
    }
   },
   "outputs": [],
   "source": [
    "from tensorflow.keras.preprocessing.image import ImageDataGenerator\n",
    "\n",
    "train_datagen = ImageDataGenerator(\n",
    "      rescale=1./255,\n",
    "      rotation_range=40,\n",
    "      width_shift_range=0.2,\n",
    "      height_shift_range=0.2,\n",
    "      shear_range=0.2,\n",
    "      zoom_range=0.2,\n",
    "      horizontal_flip=True,\n",
    "      fill_mode='nearest')\n",
    "\n",
    "# Note that the validation data should not be augmented!\n",
    "test_datagen = ImageDataGenerator(rescale=1./255)\n",
    "\n",
    "train_generator = train_datagen.flow_from_directory(\n",
    "        # This is the target directory\n",
    "        train_dir,\n",
    "        # All images will be resized to 150x150\n",
    "        target_size=(150, 150),\n",
    "        batch_size=20,\n",
    "        # Since we use binary_crossentropy loss, we need binary labels\n",
    "        class_mode='binary')\n",
    "\n",
    "validation_generator = test_datagen.flow_from_directory(\n",
    "        validation_dir,\n",
    "        target_size=(150, 150),\n",
    "        batch_size=20,\n",
    "        class_mode='binary')"
   ]
  },
  {
   "cell_type": "code",
   "execution_count": 19,
   "metadata": {
    "slideshow": {
     "slide_type": "slide"
    }
   },
   "outputs": [
    {
     "name": "stdout",
     "output_type": "stream",
     "text": [
      "Found 2000 images belonging to 2 classes.\n",
      "Found 1000 images belonging to 2 classes.\n",
      "Epoch 1/30\n",
      "100/100 - 274s - loss: 0.5804 - acc: 0.7150 - val_loss: 0.4457 - val_acc: 0.8250\n",
      "Epoch 2/30\n",
      "100/100 - 303s - loss: 0.4691 - acc: 0.7940 - val_loss: 0.3538 - val_acc: 0.8660\n",
      "Epoch 3/30\n",
      "100/100 - 305s - loss: 0.4280 - acc: 0.8035 - val_loss: 0.3203 - val_acc: 0.8870\n",
      "Epoch 4/30\n",
      "100/100 - 325s - loss: 0.3954 - acc: 0.8195 - val_loss: 0.2996 - val_acc: 0.8910\n",
      "Epoch 5/30\n",
      "100/100 - 329s - loss: 0.3862 - acc: 0.8250 - val_loss: 0.2902 - val_acc: 0.8750\n",
      "Epoch 6/30\n",
      "100/100 - 309s - loss: 0.3694 - acc: 0.8295 - val_loss: 0.2808 - val_acc: 0.8820\n",
      "Epoch 7/30\n",
      "100/100 - 307s - loss: 0.3472 - acc: 0.8470 - val_loss: 0.2673 - val_acc: 0.8900\n",
      "Epoch 8/30\n",
      "100/100 - 346s - loss: 0.3529 - acc: 0.8455 - val_loss: 0.2603 - val_acc: 0.8930\n",
      "Epoch 9/30\n",
      "100/100 - 309s - loss: 0.3425 - acc: 0.8495 - val_loss: 0.2650 - val_acc: 0.8930\n",
      "Epoch 10/30\n",
      "100/100 - 326s - loss: 0.3394 - acc: 0.8470 - val_loss: 0.2615 - val_acc: 0.8880\n",
      "Epoch 11/30\n",
      "100/100 - 304s - loss: 0.3341 - acc: 0.8555 - val_loss: 0.2562 - val_acc: 0.8890\n",
      "Epoch 12/30\n",
      "100/100 - 298s - loss: 0.3315 - acc: 0.8610 - val_loss: 0.2530 - val_acc: 0.9010\n",
      "Epoch 13/30\n",
      "100/100 - 2348s - loss: 0.3252 - acc: 0.8670 - val_loss: 0.2626 - val_acc: 0.8880\n",
      "Epoch 14/30\n",
      "100/100 - 436s - loss: 0.3189 - acc: 0.8610 - val_loss: 0.2466 - val_acc: 0.8990\n",
      "Epoch 15/30\n",
      "100/100 - 2521s - loss: 0.3120 - acc: 0.8630 - val_loss: 0.2478 - val_acc: 0.8970\n",
      "Epoch 16/30\n",
      "100/100 - 2302s - loss: 0.3089 - acc: 0.8650 - val_loss: 0.2791 - val_acc: 0.8780\n",
      "Epoch 17/30\n",
      "100/100 - 284s - loss: 0.2968 - acc: 0.8710 - val_loss: 0.2424 - val_acc: 0.9000\n",
      "Epoch 18/30\n",
      "100/100 - 265s - loss: 0.3094 - acc: 0.8635 - val_loss: 0.2409 - val_acc: 0.8980\n",
      "Epoch 19/30\n",
      "100/100 - 265s - loss: 0.3024 - acc: 0.8685 - val_loss: 0.2410 - val_acc: 0.8980\n",
      "Epoch 20/30\n",
      "100/100 - 267s - loss: 0.3024 - acc: 0.8660 - val_loss: 0.2383 - val_acc: 0.9010\n",
      "Epoch 21/30\n",
      "100/100 - 269s - loss: 0.2944 - acc: 0.8695 - val_loss: 0.2362 - val_acc: 0.8990\n",
      "Epoch 22/30\n",
      "100/100 - 2681s - loss: 0.2971 - acc: 0.8765 - val_loss: 0.2335 - val_acc: 0.9040\n",
      "Epoch 23/30\n",
      "100/100 - 785s - loss: 0.2972 - acc: 0.8725 - val_loss: 0.2420 - val_acc: 0.9050\n",
      "Epoch 24/30\n",
      "100/100 - 264s - loss: 0.2901 - acc: 0.8785 - val_loss: 0.2402 - val_acc: 0.9050\n",
      "Epoch 25/30\n",
      "100/100 - 260s - loss: 0.3051 - acc: 0.8655 - val_loss: 0.2364 - val_acc: 0.9020\n",
      "Epoch 26/30\n",
      "100/100 - 261s - loss: 0.2867 - acc: 0.8720 - val_loss: 0.2334 - val_acc: 0.9080\n",
      "Epoch 27/30\n",
      "100/100 - 2325s - loss: 0.2764 - acc: 0.8900 - val_loss: 0.2337 - val_acc: 0.9050\n",
      "Epoch 28/30\n",
      "100/100 - 388s - loss: 0.2907 - acc: 0.8750 - val_loss: 0.2308 - val_acc: 0.9100\n",
      "Epoch 29/30\n",
      "100/100 - 732s - loss: 0.3029 - acc: 0.8650 - val_loss: 0.2335 - val_acc: 0.9080\n",
      "Epoch 30/30\n",
      "100/100 - 262s - loss: 0.2888 - acc: 0.8765 - val_loss: 0.2348 - val_acc: 0.9090\n"
     ]
    }
   ],
   "source": [
    "model.compile(loss='binary_crossentropy',\n",
    "              optimizer=optimizers.RMSprop(lr=2e-5),\n",
    "              metrics=['acc'])\n",
    "\n",
    "history = model.fit(\n",
    "      train_generator,\n",
    "      steps_per_epoch=100,\n",
    "      epochs=30,\n",
    "      validation_data=validation_generator,\n",
    "      validation_steps=50,\n",
    "      verbose=2)"
   ]
  },
  {
   "cell_type": "code",
   "execution_count": 20,
   "metadata": {
    "slideshow": {
     "slide_type": "slide"
    }
   },
   "outputs": [],
   "source": [
    "model.save('cats_and_dogs_small_3.h5')"
   ]
  },
  {
   "cell_type": "markdown",
   "metadata": {
    "slideshow": {
     "slide_type": "slide"
    }
   },
   "source": [
    "Inspect training:"
   ]
  },
  {
   "cell_type": "code",
   "execution_count": null,
   "metadata": {
    "slideshow": {
     "slide_type": "skip"
    }
   },
   "outputs": [],
   "source": [
    "acc = history.history['acc']\n",
    "val_acc = history.history['val_acc']\n",
    "loss = history.history['loss']\n",
    "val_loss = history.history['val_loss']\n",
    "\n",
    "epochs = range(len(acc))\n",
    "\n",
    "plt.plot(epochs, acc, 'bo', label='Training acc')\n",
    "plt.plot(epochs, val_acc, 'b', label='Validation acc')\n",
    "plt.title('Training and validation accuracy')\n",
    "plt.legend()\n",
    "\n",
    "plt.figure()\n",
    "\n",
    "plt.plot(epochs, loss, 'bo', label='Training loss')\n",
    "plt.plot(epochs, val_loss, 'b', label='Validation loss')\n",
    "plt.title('Training and validation loss')\n",
    "plt.legend()"
   ]
  },
  {
   "cell_type": "code",
   "execution_count": 21,
   "metadata": {
    "slideshow": {
     "slide_type": "slide"
    }
   },
   "outputs": [
    {
     "data": {
      "image/png": "[encoded data removed]",
      "text/plain": [
       "<Figure size 432x288 with 1 Axes>"
      ]
     },
     "metadata": {
      "needs_background": "light"
     },
     "output_type": "display_data"
    },
    {
     "data": {
      "image/png": "[encoded data removed]",
      "text/plain": [
       "<Figure size 432x288 with 1 Axes>"
      ]
     },
     "metadata": {
      "needs_background": "light"
     },
     "output_type": "display_data"
    }
   ],
   "source": [
    "plt.show()"
   ]
  },
  {
   "cell_type": "markdown",
   "metadata": {
    "slideshow": {
     "slide_type": "slide"
    }
   },
   "source": [
    "No overfitting - data augmentation has worked\n",
    "\n",
    "We reach a validation accuracy of about 90%, about the same as option 1 (extract, then train) and again better than the small convnet trained from scratch\n",
    "\n",
    "But there is a final trick up the pretrained sleeve"
   ]
  },
  {
   "cell_type": "markdown",
   "metadata": {
    "slideshow": {
     "slide_type": "slide"
    }
   },
   "source": [
    "----"
   ]
  },
  {
   "cell_type": "markdown",
   "metadata": {
    "slideshow": {
     "slide_type": "slide"
    }
   },
   "source": [
    "## 5.320 Fine-tuning\n",
    "\n",
    "Another widely used technique: unfreezing a few of the top layers of a frozen model base \n",
    "\n",
    "'Fine-tuning' adjusts the more abstract representations of the pretrained model in order to make them more relevant for the problem at hand"
   ]
  },
  {
   "cell_type": "markdown",
   "metadata": {
    "slideshow": {
     "slide_type": "slide"
    }
   },
   "source": [
    "![fine-tuning VGG16](https://s3.amazonaws.com/book.keras.io/img/ch5/vgg16_fine_tuning.png)"
   ]
  },
  {
   "cell_type": "markdown",
   "metadata": {
    "slideshow": {
     "slide_type": "slide"
    }
   },
   "source": [
    "It is only possible to fine-tune the top layers of the convolutional base *once the classifier on \n",
    "top has already been trained* \n",
    "\n",
    "Otherwise the error signal propagating back through the network would be too large and the representations previously learned by the unfrozen conv layers would be destroyed "
   ]
  },
  {
   "cell_type": "markdown",
   "metadata": {
    "slideshow": {
     "slide_type": "slide"
    }
   },
   "source": [
    "Steps for fine-tuning a network:\n",
    "\n",
    "1. Add the custom network on top of the pretrained base\n",
    "2. Freeze the base\n",
    "3. Train the custom network\n",
    "4. Unfreeze some base layers\n",
    "5. Jointly train these layers and the custom network\n",
    "\n",
    "We have already completed the first 3 steps\n",
    "\n",
    "Let's proceed with step 4. "
   ]
  },
  {
   "cell_type": "markdown",
   "metadata": {
    "slideshow": {
     "slide_type": "slide"
    }
   },
   "source": [
    "Fine-tune the last 3 convolutional layers\n",
    "\n",
    "All layers up to `block4_pool` will be frozen\n",
    "\n",
    "`block5_conv1`, `block5_conv2` and `block5_conv3` will be trainable:"
   ]
  },
  {
   "cell_type": "code",
   "execution_count": 22,
   "metadata": {
    "slideshow": {
     "slide_type": "slide"
    }
   },
   "outputs": [
    {
     "name": "stdout",
     "output_type": "stream",
     "text": [
      "Model: \"vgg16\"\n",
      "_________________________________________________________________\n",
      "Layer (type)                 Output Shape              Param #   \n",
      "=================================================================\n",
      "input_1 (InputLayer)         [(None, 150, 150, 3)]     0         \n",
      "_________________________________________________________________\n",
      "block1_conv1 (Conv2D)        (None, 150, 150, 64)      1792      \n",
      "_________________________________________________________________\n",
      "block1_conv2 (Conv2D)        (None, 150, 150, 64)      36928     \n",
      "_________________________________________________________________\n",
      "block1_pool (MaxPooling2D)   (None, 75, 75, 64)        0         \n",
      "_________________________________________________________________\n",
      "block2_conv1 (Conv2D)        (None, 75, 75, 128)       73856     \n",
      "_________________________________________________________________\n",
      "block2_conv2 (Conv2D)        (None, 75, 75, 128)       147584    \n",
      "_________________________________________________________________\n",
      "block2_pool (MaxPooling2D)   (None, 37, 37, 128)       0         \n",
      "_________________________________________________________________\n",
      "block3_conv1 (Conv2D)        (None, 37, 37, 256)       295168    \n",
      "_________________________________________________________________\n",
      "block3_conv2 (Conv2D)        (None, 37, 37, 256)       590080    \n",
      "_________________________________________________________________\n",
      "block3_conv3 (Conv2D)        (None, 37, 37, 256)       590080    \n",
      "_________________________________________________________________\n",
      "block3_pool (MaxPooling2D)   (None, 18, 18, 256)       0         \n",
      "_________________________________________________________________\n",
      "block4_conv1 (Conv2D)        (None, 18, 18, 512)       1180160   \n",
      "_________________________________________________________________\n",
      "block4_conv2 (Conv2D)        (None, 18, 18, 512)       2359808   \n",
      "_________________________________________________________________\n",
      "block4_conv3 (Conv2D)        (None, 18, 18, 512)       2359808   \n",
      "_________________________________________________________________\n",
      "block4_pool (MaxPooling2D)   (None, 9, 9, 512)         0         \n",
      "_________________________________________________________________\n",
      "block5_conv1 (Conv2D)        (None, 9, 9, 512)         2359808   \n",
      "_________________________________________________________________\n",
      "block5_conv2 (Conv2D)        (None, 9, 9, 512)         2359808   \n",
      "_________________________________________________________________\n",
      "block5_conv3 (Conv2D)        (None, 9, 9, 512)         2359808   \n",
      "_________________________________________________________________\n",
      "block5_pool (MaxPooling2D)   (None, 4, 4, 512)         0         \n",
      "=================================================================\n",
      "Total params: 14,714,688\n",
      "Trainable params: 0\n",
      "Non-trainable params: 14,714,688\n",
      "_________________________________________________________________\n"
     ]
    }
   ],
   "source": [
    "conv_base.summary()"
   ]
  },
  {
   "cell_type": "markdown",
   "metadata": {
    "slideshow": {
     "slide_type": "slide"
    }
   },
   "source": [
    "Why not fine-tune more layers? \n",
    "\n",
    "Why not fine-tune the entire convolutional base? "
   ]
  },
  {
   "cell_type": "markdown",
   "metadata": {
    "slideshow": {
     "slide_type": "slide"
    }
   },
   "source": [
    "But consider:"
   ]
  },
  {
   "cell_type": "markdown",
   "metadata": {
    "slideshow": {
     "slide_type": "slide"
    }
   },
   "source": [
    "Earlier conv base layers encode generic features whilst higher layers encode more specialized features\n",
    "\n",
    "It is more useful to fine-tune the more specialized features - the generic festures (edges, corners, colours etc) are expected to be present in any real-world image"
   ]
  },
  {
   "cell_type": "markdown",
   "metadata": {
    "slideshow": {
     "slide_type": "slide"
    }
   },
   "source": [
    "The convolutional base has 14.7M parameters - a huge model with a very real chance of overfitting\n",
    "\n",
    "Another reason not to fine tune the entire base"
   ]
  },
  {
   "cell_type": "markdown",
   "metadata": {
    "slideshow": {
     "slide_type": "slide"
    }
   },
   "source": [
    "Freeze all but block 5 layers: "
   ]
  },
  {
   "cell_type": "code",
   "execution_count": 23,
   "metadata": {},
   "outputs": [],
   "source": [
    "conv_base.trainable = True\n",
    "\n",
    "set_trainable = False\n",
    "for layer in conv_base.layers:\n",
    "    if layer.name == 'block5_conv1':\n",
    "        set_trainable = True\n",
    "    if set_trainable:\n",
    "        layer.trainable = True\n",
    "    else:\n",
    "        layer.trainable = False"
   ]
  },
  {
   "cell_type": "markdown",
   "metadata": {
    "slideshow": {
     "slide_type": "slide"
    }
   },
   "source": [
    "We should limit the magnitude of modifications to the representations of the unfrozen layers\n",
    "\n",
    "Use a tiny learning rate - large updates may damage these representations\n",
    "\n",
    "Let's go:"
   ]
  },
  {
   "cell_type": "code",
   "execution_count": 25,
   "metadata": {
    "slideshow": {
     "slide_type": "slide"
    }
   },
   "outputs": [
    {
     "name": "stdout",
     "output_type": "stream",
     "text": [
      "Epoch 1/30\n",
      "100/100 [==============================] - 340s 3s/step - loss: 0.2832 - acc: 0.8750 - val_loss: 0.2493 - val_acc: 0.8890\n",
      "Epoch 2/30\n",
      "100/100 [==============================] - 332s 3s/step - loss: 0.2403 - acc: 0.9030 - val_loss: 0.2037 - val_acc: 0.9150\n",
      "Epoch 3/30\n",
      "100/100 [==============================] - 325s 3s/step - loss: 0.2344 - acc: 0.9015 - val_loss: 0.1845 - val_acc: 0.9200\n",
      "Epoch 4/30\n",
      "100/100 [==============================] - 329s 3s/step - loss: 0.2072 - acc: 0.9110 - val_loss: 0.2185 - val_acc: 0.9100\n",
      "Epoch 5/30\n",
      "100/100 [==============================] - 346s 3s/step - loss: 0.2124 - acc: 0.9100 - val_loss: 0.1933 - val_acc: 0.9270\n",
      "Epoch 6/30\n",
      "100/100 [==============================] - 342s 3s/step - loss: 0.2034 - acc: 0.9130 - val_loss: 0.1858 - val_acc: 0.9260\n",
      "Epoch 7/30\n",
      "100/100 [==============================] - 357s 4s/step - loss: 0.1785 - acc: 0.9300 - val_loss: 0.1816 - val_acc: 0.9270\n",
      "Epoch 8/30\n",
      "100/100 [==============================] - 338s 3s/step - loss: 0.1797 - acc: 0.9270 - val_loss: 0.1885 - val_acc: 0.9300\n",
      "Epoch 9/30\n",
      "100/100 [==============================] - 335s 3s/step - loss: 0.1566 - acc: 0.9310 - val_loss: 0.1795 - val_acc: 0.9290\n",
      "Epoch 10/30\n",
      "100/100 [==============================] - 346s 3s/step - loss: 0.1506 - acc: 0.9365 - val_loss: 0.1925 - val_acc: 0.9300\n",
      "Epoch 11/30\n",
      "100/100 [==============================] - 361s 4s/step - loss: 0.1429 - acc: 0.9470 - val_loss: 0.3088 - val_acc: 0.8920\n",
      "Epoch 12/30\n",
      "100/100 [==============================] - 361s 4s/step - loss: 0.1255 - acc: 0.9485 - val_loss: 0.2016 - val_acc: 0.9210\n",
      "Epoch 13/30\n",
      "100/100 [==============================] - 373s 4s/step - loss: 0.1329 - acc: 0.9475 - val_loss: 0.2016 - val_acc: 0.9310\n",
      "Epoch 14/30\n",
      "100/100 [==============================] - 376s 4s/step - loss: 0.1247 - acc: 0.9540 - val_loss: 0.1939 - val_acc: 0.9320\n",
      "Epoch 15/30\n",
      "100/100 [==============================] - 356s 4s/step - loss: 0.1264 - acc: 0.9490 - val_loss: 0.1728 - val_acc: 0.9320\n",
      "Epoch 16/30\n",
      "100/100 [==============================] - 344s 3s/step - loss: 0.1112 - acc: 0.9565 - val_loss: 0.2213 - val_acc: 0.9220\n",
      "Epoch 17/30\n",
      "100/100 [==============================] - 336s 3s/step - loss: 0.1041 - acc: 0.9605 - val_loss: 0.1827 - val_acc: 0.9280\n",
      "Epoch 18/30\n",
      "100/100 [==============================] - 358s 4s/step - loss: 0.1084 - acc: 0.9540 - val_loss: 0.1989 - val_acc: 0.9290\n",
      "Epoch 19/30\n",
      "100/100 [==============================] - 335s 3s/step - loss: 0.1038 - acc: 0.9585 - val_loss: 0.2189 - val_acc: 0.9310\n",
      "Epoch 20/30\n",
      "100/100 [==============================] - 323s 3s/step - loss: 0.0963 - acc: 0.9615 - val_loss: 0.1751 - val_acc: 0.9360\n",
      "Epoch 21/30\n",
      "100/100 [==============================] - 318s 3s/step - loss: 0.0960 - acc: 0.9615 - val_loss: 0.1766 - val_acc: 0.9360\n",
      "Epoch 22/30\n",
      "100/100 [==============================] - 1524s 15s/step - loss: 0.0883 - acc: 0.9675 - val_loss: 0.1803 - val_acc: 0.9320\n",
      "Epoch 23/30\n",
      "100/100 [==============================] - 527s 5s/step - loss: 0.0775 - acc: 0.9750 - val_loss: 0.1864 - val_acc: 0.9340\n",
      "Epoch 24/30\n",
      "100/100 [==============================] - 574s 6s/step - loss: 0.0749 - acc: 0.9720 - val_loss: 0.1838 - val_acc: 0.9350\n",
      "Epoch 25/30\n",
      "100/100 [==============================] - 562s 6s/step - loss: 0.0798 - acc: 0.9650 - val_loss: 0.1965 - val_acc: 0.9300\n",
      "Epoch 26/30\n",
      "100/100 [==============================] - 567s 6s/step - loss: 0.0839 - acc: 0.9725 - val_loss: 0.2078 - val_acc: 0.9240\n",
      "Epoch 27/30\n",
      "100/100 [==============================] - 633s 6s/step - loss: 0.0688 - acc: 0.9740 - val_loss: 0.2913 - val_acc: 0.9150\n",
      "Epoch 28/30\n",
      "100/100 [==============================] - 474s 5s/step - loss: 0.0769 - acc: 0.9700 - val_loss: 0.1717 - val_acc: 0.9360\n",
      "Epoch 29/30\n",
      "100/100 [==============================] - 443s 4s/step - loss: 0.0916 - acc: 0.9655 - val_loss: 0.2861 - val_acc: 0.9170\n",
      "Epoch 30/30\n",
      "100/100 [==============================] - 678s 7s/step - loss: 0.0628 - acc: 0.9790 - val_loss: 0.1924 - val_acc: 0.9380\n"
     ]
    }
   ],
   "source": [
    "model.compile(loss='binary_crossentropy',\n",
    "              optimizer=optimizers.RMSprop(lr=1e-5),\n",
    "              metrics=['acc'])\n",
    "\n",
    "history = model.fit_generator(\n",
    "      train_generator,\n",
    "      steps_per_epoch=100,\n",
    "      epochs=30,\n",
    "      validation_data=validation_generator,\n",
    "      validation_steps=50)"
   ]
  },
  {
   "cell_type": "code",
   "execution_count": 26,
   "metadata": {
    "slideshow": {
     "slide_type": "slide"
    }
   },
   "outputs": [],
   "source": [
    "model.save('cats_and_dogs_small_4.h5')"
   ]
  },
  {
   "cell_type": "markdown",
   "metadata": {
    "slideshow": {
     "slide_type": "slide"
    }
   },
   "source": [
    "Inspect results:"
   ]
  },
  {
   "cell_type": "code",
   "execution_count": null,
   "metadata": {
    "slideshow": {
     "slide_type": "skip"
    }
   },
   "outputs": [],
   "source": [
    "acc = history.history['acc']\n",
    "val_acc = history.history['val_acc']\n",
    "loss = history.history['loss']\n",
    "val_loss = history.history['val_loss']\n",
    "\n",
    "epochs = range(len(acc))\n",
    "\n",
    "plt.plot(epochs, acc, 'bo', label='Training acc')\n",
    "plt.plot(epochs, val_acc, 'b', label='Validation acc')\n",
    "plt.title('Training and validation accuracy')\n",
    "plt.legend()\n",
    "\n",
    "plt.figure()\n",
    "\n",
    "plt.plot(epochs, loss, 'bo', label='Training loss')\n",
    "plt.plot(epochs, val_loss, 'b', label='Validation loss')\n",
    "plt.title('Training and validation loss')\n",
    "plt.legend()"
   ]
  },
  {
   "cell_type": "code",
   "execution_count": 27,
   "metadata": {
    "slideshow": {
     "slide_type": "slide"
    }
   },
   "outputs": [
    {
     "data": {
      "image/png": "[encoded data removed]",
      "text/plain": [
       "<Figure size 432x288 with 1 Axes>"
      ]
     },
     "metadata": {
      "needs_background": "light"
     },
     "output_type": "display_data"
    },
    {
     "data": {
      "image/png": "[encoded data removed]",
      "text/plain": [
       "<Figure size 432x288 with 1 Axes>"
      ]
     },
     "metadata": {
      "needs_background": "light"
     },
     "output_type": "display_data"
    }
   ],
   "source": [
    "plt.show()"
   ]
  },
  {
   "cell_type": "markdown",
   "metadata": {
    "slideshow": {
     "slide_type": "slide"
    }
   },
   "source": [
    "The curves are very noisy\n",
    "\n",
    "Smooth by replacing with exponential moving averages:"
   ]
  },
  {
   "cell_type": "code",
   "execution_count": null,
   "metadata": {
    "slideshow": {
     "slide_type": "skip"
    }
   },
   "outputs": [],
   "source": [
    "def smooth_curve(points, factor=0.8):\n",
    "  smoothed_points = []\n",
    "  for point in points:\n",
    "    if smoothed_points:\n",
    "      previous = smoothed_points[-1]\n",
    "      smoothed_points.append(previous * factor + point * (1 - factor))\n",
    "    else:\n",
    "      smoothed_points.append(point)\n",
    "  return smoothed_points\n",
    "\n",
    "plt.plot(epochs,\n",
    "         smooth_curve(acc), 'bo', label='Smoothed training acc')\n",
    "plt.plot(epochs,\n",
    "         smooth_curve(val_acc), 'b', label='Smoothed validation acc')\n",
    "plt.title('Training and validation accuracy')\n",
    "plt.legend()\n",
    "\n",
    "plt.figure()\n",
    "\n",
    "plt.plot(epochs,\n",
    "         smooth_curve(loss), 'bo', label='Smoothed training loss')\n",
    "plt.plot(epochs,\n",
    "         smooth_curve(val_loss), 'b', label='Smoothed validation loss')\n",
    "plt.title('Training and validation loss')\n",
    "plt.legend()"
   ]
  },
  {
   "cell_type": "code",
   "execution_count": 28,
   "metadata": {
    "slideshow": {
     "slide_type": "slide"
    }
   },
   "outputs": [
    {
     "data": {
      "image/png": "[encoded data removed]",
      "text/plain": [
       "<Figure size 432x288 with 1 Axes>"
      ]
     },
     "metadata": {
      "needs_background": "light"
     },
     "output_type": "display_data"
    },
    {
     "data": {
      "image/png": "[encoded data removed]",
      "text/plain": [
       "<Figure size 432x288 with 1 Axes>"
      ]
     },
     "metadata": {
      "needs_background": "light"
     },
     "output_type": "display_data"
    }
   ],
   "source": [
    "plt.show()"
   ]
  },
  {
   "cell_type": "markdown",
   "metadata": {
    "slideshow": {
     "slide_type": "slide"
    }
   },
   "source": [
    "The curves are smoother and more stable\n",
    "\n",
    "Accuracy has improved by 2 or 3%\n",
    "\n",
    "You might find in your experiments that the average loss increases whilst accuracy improves\n",
    "\n",
    "Accuracy depends on the distribution of values and not the average "
   ]
  },
  {
   "cell_type": "markdown",
   "metadata": {
    "slideshow": {
     "slide_type": "slide"
    }
   },
   "source": [
    "labels (0, 0, 0, 1, 1, 1)\n",
    "\n",
    "output (0.0, 0.0, 0.6, 0.4, 0.0, 0.0): acc =  67%, loss (MSE) = $\\frac{2 \\times 0.36}{6} = 0.12$\n",
    "\n",
    "output (0.4, 0.4, 0.4, 0.6, 0.6, 0.6): acc = 100%, loss (MSE) = $0.4^2 = 0.16$\n",
    "\n",
    "Accuracy has improved (67% to 100%) but loss has worsened (0.12 to 0.16)"
   ]
  },
  {
   "cell_type": "markdown",
   "metadata": {
    "slideshow": {
     "slide_type": "slide"
    }
   },
   "source": [
    "Finally evaluate this model on the test data (ideally we should retrain on the merger of the training and the validation sets):"
   ]
  },
  {
   "cell_type": "code",
   "execution_count": 30,
   "metadata": {
    "slideshow": {
     "slide_type": "slide"
    }
   },
   "outputs": [
    {
     "name": "stdout",
     "output_type": "stream",
     "text": [
      "Found 1000 images belonging to 2 classes.\n",
      "50/50 [==============================] - 89s 2s/step - loss: 0.2155 - acc: 0.9300\n",
      "test acc: 0.9300000071525574\n"
     ]
    }
   ],
   "source": [
    "test_generator = test_datagen.flow_from_directory(\n",
    "        test_dir,\n",
    "        target_size=(150, 150),\n",
    "        batch_size=20,\n",
    "        class_mode='binary')\n",
    "\n",
    "test_loss, test_acc = model.evaluate(test_generator, steps=50)\n",
    "print('test acc:', test_acc)"
   ]
  },
  {
   "cell_type": "markdown",
   "metadata": {
    "slideshow": {
     "slide_type": "slide"
    }
   },
   "source": [
    "----"
   ]
  },
  {
   "cell_type": "markdown",
   "metadata": {
    "slideshow": {
     "slide_type": "slide"
    }
   },
   "source": [
    "## 5.330 Wrapping-up\n",
    "\n",
    "- Convnets are the first-choice machine learning models for computer vision tasks\n",
    "- Overfitting on small datasets can be ameliorated by data augmentation \n",
    "- Pretrained feature extraction is another possible technique for small CV datasets\n",
    "- Fine-tune upper pretrained layers for even better performance\n"
   ]
  },
  {
   "cell_type": "markdown",
   "metadata": {},
   "source": [
    "----"
   ]
  },
  {
   "cell_type": "markdown",
   "metadata": {
    "slideshow": {
     "slide_type": "skip"
    }
   },
   "source": [
    "MIT Licence\n",
    " \n",
    "Copyright (c) 2017-present François Chollet\n",
    " \n",
    "Permission is hereby granted, free of charge, to any person obtaining a copy\n",
    "of this software and associated documentation files (the \"Software\"), to deal\n",
    "in the Software without restriction, including without limitation the rights\n",
    "to use, copy, modify, merge, publish, distribute, sublicense, and/or sell\n",
    "copies of the Software, and to permit persons to whom the Software is\n",
    "furnished to do so, subject to the following conditions:\n",
    " \n",
    "The above copyright notice and this permission notice shall be included in all\n",
    "copies or substantial portions of the Software.\n",
    " \n",
    "THE SOFTWARE IS PROVIDED \"AS IS\", WITHOUT WARRANTY OF ANY KIND, EXPRESS OR\n",
    "IMPLIED, INCLUDING BUT NOT LIMITED TO THE WARRANTIES OF MERCHANTABILITY,\n",
    "FITNESS FOR A PARTICULAR PURPOSE AND NONINFRINGEMENT. IN NO EVENT SHALL THE\n",
    "AUTHORS OR COPYRIGHT HOLDERS BE LIABLE FOR ANY CLAIM, DAMAGES OR OTHER\n",
    "LIABILITY, WHETHER IN AN ACTION OF CONTRACT, TORT OR OTHERWISE, ARISING FROM,\n",
    "OUT OF OR IN CONNECTION WITH THE SOFTWARE OR THE USE OR OTHER DEALINGS IN THE\n",
    "SOFTWARE."
   ]
  }
 ],
 "metadata": {
  "celltoolbar": "Slideshow",
  "kernelspec": {
   "display_name": "Python 3 (ipykernel)",
   "language": "python",
   "name": "python3"
  },
  "language_info": {
   "codemirror_mode": {
    "name": "ipython",
    "version": 3
   },
   "file_extension": ".py",
   "mimetype": "text/x-python",
   "name": "python",
   "nbconvert_exporter": "python",
   "pygments_lexer": "ipython3",
   "version": "3.7.13"
  }
 },
 "nbformat": 4,
 "nbformat_minor": 4
}
