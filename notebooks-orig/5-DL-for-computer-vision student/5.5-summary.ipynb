{
 "cells": [
  {
   "cell_type": "markdown",
   "metadata": {},
   "source": [
    "## 5.500 Summary\n",
    "\n",
    "- Convnets are the best tool for image classification\n",
    "\n",
    "- Convnets learn a heirarchy of modular patterns\n",
    "\n",
    "- These patterns are easy to visualise\n",
    "\n",
    "- Data augmentation combats overfitting on small datasets\n",
    "\n",
    "- Pretrained convnets can be deployed even if the target classes are quite different\n",
    "\n",
    "- Decouple the classifier and either freeze the entire base, or by fine-tuning (unfreeze several upper layers)"
   ]
  }
 ],
 "metadata": {
  "kernelspec": {
   "display_name": "Python 3",
   "language": "python",
   "name": "python3"
  },
  "language_info": {
   "codemirror_mode": {
    "name": "ipython",
    "version": 3
   },
   "file_extension": ".py",
   "mimetype": "text/x-python",
   "name": "python",
   "nbconvert_exporter": "python",
   "pygments_lexer": "ipython3",
   "version": "3.8.5"
  }
 },
 "nbformat": 4,
 "nbformat_minor": 2
}
