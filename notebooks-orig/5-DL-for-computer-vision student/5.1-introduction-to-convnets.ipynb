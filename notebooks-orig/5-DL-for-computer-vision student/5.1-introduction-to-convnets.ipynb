{
 "cells": [
  {
   "cell_type": "code",
   "execution_count": 1,
   "metadata": {
    "slideshow": {
     "slide_type": "skip"
    }
   },
   "outputs": [],
   "source": [
    "import tensorflow as tf\n",
    "\n",
    "from tensorflow import keras"
   ]
  },
  {
   "cell_type": "code",
   "execution_count": 2,
   "metadata": {
    "slideshow": {
     "slide_type": "skip"
    }
   },
   "outputs": [
    {
     "name": "stdout",
     "output_type": "stream",
     "text": [
      "2.3.0   2.4.0\n"
     ]
    }
   ],
   "source": [
    "print(tf.__version__, ' ', tf.keras.__version__)"
   ]
  },
  {
   "cell_type": "markdown",
   "metadata": {
    "slideshow": {
     "slide_type": "slide"
    }
   },
   "source": [
    "----"
   ]
  },
  {
   "cell_type": "markdown",
   "metadata": {
    "slideshow": {
     "slide_type": "slide"
    }
   },
   "source": [
    "# 5 Deep learning for computer vision\n",
    "\n",
    "This topic introduces a new type of layer: the convolutional layer\n",
    "\n",
    "Convnets - models with convolutional layers - are first-call choices for computer vision DL applications\n",
    "\n",
    "We will learn \n",
    "\n",
    "- convnet assembly\n",
    "- use with small training sets\n",
    "- use of powerful pretrained convnets\n",
    "- convnet visualisation "
   ]
  },
  {
   "cell_type": "markdown",
   "metadata": {
    "slideshow": {
     "slide_type": "slide"
    }
   },
   "source": [
    "----"
   ]
  },
  {
   "cell_type": "markdown",
   "metadata": {
    "collapsed": true,
    "slideshow": {
     "slide_type": "slide"
    }
   },
   "source": [
    "## 5.100 Introduction to convnets\n",
    "\n",
    "We begin with a simple convnet for the MNIST task\n",
    "\n",
    "Six lines of code\n",
    "\n",
    "Easily outperforms our previous dense-layer models"
   ]
  },
  {
   "cell_type": "code",
   "execution_count": 3,
   "metadata": {
    "slideshow": {
     "slide_type": "slide"
    }
   },
   "outputs": [],
   "source": [
    "from tensorflow.keras import layers\n",
    "from tensorflow.keras import models\n",
    "\n",
    "model = models.Sequential()\n",
    "model.add(layers.Conv2D(32, (3, 3), activation='relu', input_shape=(28, 28, 1)))\n",
    "model.add(layers.MaxPooling2D((2, 2)))\n",
    "model.add(layers.Conv2D(64, (3, 3), activation='relu'))\n",
    "model.add(layers.MaxPooling2D((2, 2)))\n",
    "model.add(layers.Conv2D(64, (3, 3), activation='relu'))"
   ]
  },
  {
   "cell_type": "markdown",
   "metadata": {
    "slideshow": {
     "slide_type": "slide"
    }
   },
   "source": [
    "A stack of '`Conv2D`' and '`MaxPooling2D`' layers - explanation to follow\n",
    "\n",
    "A convnet accepts input tensors of shape (excluding the batch dimension)\n",
    "\n",
    "`(image_height, image_width, \n",
    " image_channels)` \n",
    "\n",
    "First layer: `input_shape=(28, 28, 1)` "
   ]
  },
  {
   "cell_type": "code",
   "execution_count": 4,
   "metadata": {
    "slideshow": {
     "slide_type": "slide"
    }
   },
   "outputs": [
    {
     "name": "stdout",
     "output_type": "stream",
     "text": [
      "Model: \"sequential\"\n",
      "_________________________________________________________________\n",
      "Layer (type)                 Output Shape              Param #   \n",
      "=================================================================\n",
      "conv2d (Conv2D)              (None, 26, 26, 32)        320       \n",
      "_________________________________________________________________\n",
      "max_pooling2d (MaxPooling2D) (None, 13, 13, 32)        0         \n",
      "_________________________________________________________________\n",
      "conv2d_1 (Conv2D)            (None, 11, 11, 64)        18496     \n",
      "_________________________________________________________________\n",
      "max_pooling2d_1 (MaxPooling2 (None, 5, 5, 64)          0         \n",
      "_________________________________________________________________\n",
      "conv2d_2 (Conv2D)            (None, 3, 3, 64)          36928     \n",
      "=================================================================\n",
      "Total params: 55,744\n",
      "Trainable params: 55,744\n",
      "Non-trainable params: 0\n",
      "_________________________________________________________________\n"
     ]
    }
   ],
   "source": [
    "model.summary()"
   ]
  },
  {
   "cell_type": "markdown",
   "metadata": {
    "collapsed": true,
    "slideshow": {
     "slide_type": "slide"
    }
   },
   "source": [
    "Output of every `Conv2D` and `MaxPooling2D` layer is a 3D tensor of shape `(height, width, channels)` \n",
    "\n",
    "Notice how the width and height dimensions \n",
    "\n",
    "shrink along the processing pipeline"
   ]
  },
  {
   "cell_type": "markdown",
   "metadata": {
    "slideshow": {
     "slide_type": "slide"
    }
   },
   "source": [
    "Conv layer parameters:\n",
    "\n",
    "`model.add(layers.Conv2D(64, (3, 3), activation='relu'))`\n",
    "\n",
    "64 channels, a 3 x 3 patch (local receptive field), \n",
    "\n",
    "relu activation"
   ]
  },
  {
   "cell_type": "markdown",
   "metadata": {
    "slideshow": {
     "slide_type": "slide"
    }
   },
   "source": [
    "The output tensor (of shape `(3, 3, 64)`) must be fed into a densely-connected classifier\n",
    "\n",
    "`Dense` layer classifiers process 1D vectors - convnet output is a 3D tensor\n",
    "\n",
    "We will have to flatten our 3D output to 1D, \n",
    "\n",
    "and then add a few `Dense` layers on top:"
   ]
  },
  {
   "cell_type": "code",
   "execution_count": 5,
   "metadata": {
    "slideshow": {
     "slide_type": "slide"
    }
   },
   "outputs": [],
   "source": [
    "model.add(layers.Flatten())\n",
    "model.add(layers.Dense(64, activation='relu'))\n",
    "model.add(layers.Dense(10, activation='softmax'))"
   ]
  },
  {
   "cell_type": "code",
   "execution_count": 6,
   "metadata": {
    "slideshow": {
     "slide_type": "slide"
    }
   },
   "outputs": [
    {
     "name": "stdout",
     "output_type": "stream",
     "text": [
      "Model: \"sequential\"\n",
      "_________________________________________________________________\n",
      "Layer (type)                 Output Shape              Param #   \n",
      "=================================================================\n",
      "conv2d (Conv2D)              (None, 26, 26, 32)        320       \n",
      "_________________________________________________________________\n",
      "max_pooling2d (MaxPooling2D) (None, 13, 13, 32)        0         \n",
      "_________________________________________________________________\n",
      "conv2d_1 (Conv2D)            (None, 11, 11, 64)        18496     \n",
      "_________________________________________________________________\n",
      "max_pooling2d_1 (MaxPooling2 (None, 5, 5, 64)          0         \n",
      "_________________________________________________________________\n",
      "conv2d_2 (Conv2D)            (None, 3, 3, 64)          36928     \n",
      "_________________________________________________________________\n",
      "flatten (Flatten)            (None, 576)               0         \n",
      "_________________________________________________________________\n",
      "dense (Dense)                (None, 64)                36928     \n",
      "_________________________________________________________________\n",
      "dense_1 (Dense)              (None, 10)                650       \n",
      "=================================================================\n",
      "Total params: 93,322\n",
      "Trainable params: 93,322\n",
      "Non-trainable params: 0\n",
      "_________________________________________________________________\n"
     ]
    }
   ],
   "source": [
    "model.summary()"
   ]
  },
  {
   "cell_type": "markdown",
   "metadata": {
    "slideshow": {
     "slide_type": "slide"
    }
   },
   "source": [
    "The `(3, 3, 64)` convnet output is flattened into a `(3 * 3 * 64,)` vector (`576 = 3 * 3 * 64`) and then passed into two `Dense` layers"
   ]
  },
  {
   "cell_type": "code",
   "execution_count": 7,
   "metadata": {
    "slideshow": {
     "slide_type": "slide"
    }
   },
   "outputs": [],
   "source": [
    "from tensorflow.keras.datasets import mnist\n",
    "from tensorflow.keras.utils import to_categorical\n",
    "\n",
    "(train_images, train_labels), (test_images, test_labels) = mnist.load_data()\n",
    "\n",
    "train_images = train_images.reshape((60000, 28, 28, 1))\n",
    "train_images = train_images.astype('float32') / 255\n",
    "\n",
    "test_images = test_images.reshape((10000, 28, 28, 1))\n",
    "test_images = test_images.astype('float32') / 255\n",
    "\n",
    "train_labels = to_categorical(train_labels)\n",
    "test_labels = to_categorical(test_labels)"
   ]
  },
  {
   "cell_type": "code",
   "execution_count": 8,
   "metadata": {
    "slideshow": {
     "slide_type": "slide"
    }
   },
   "outputs": [
    {
     "name": "stdout",
     "output_type": "stream",
     "text": [
      "Epoch 1/5\n",
      "938/938 [==============================] - 39s 42ms/step - loss: 0.1718 - accuracy: 0.9463\n",
      "Epoch 2/5\n",
      "938/938 [==============================] - 32s 34ms/step - loss: 0.0488 - accuracy: 0.9843\n",
      "Epoch 3/5\n",
      "938/938 [==============================] - 23s 24ms/step - loss: 0.0331 - accuracy: 0.9896\n",
      "Epoch 4/5\n",
      "938/938 [==============================] - 32s 34ms/step - loss: 0.0252 - accuracy: 0.9923\n",
      "Epoch 5/5\n",
      "938/938 [==============================] - 25s 27ms/step - loss: 0.0214 - accuracy: 0.9935\n"
     ]
    },
    {
     "data": {
      "text/plain": [
       "<tensorflow.python.keras.callbacks.History at 0x1389c6400>"
      ]
     },
     "execution_count": 8,
     "metadata": {},
     "output_type": "execute_result"
    }
   ],
   "source": [
    "model.compile(optimizer='rmsprop',\n",
    "              loss='categorical_crossentropy',\n",
    "              metrics=['accuracy'])\n",
    "model.fit(train_images, train_labels, epochs=5, batch_size=64)"
   ]
  },
  {
   "cell_type": "markdown",
   "metadata": {
    "slideshow": {
     "slide_type": "slide"
    }
   },
   "source": [
    "Evaluate on test data (not the approved DL workflow!):"
   ]
  },
  {
   "cell_type": "code",
   "execution_count": 9,
   "metadata": {
    "slideshow": {
     "slide_type": "slide"
    }
   },
   "outputs": [
    {
     "name": "stdout",
     "output_type": "stream",
     "text": [
      "313/313 [==============================] - 1s 3ms/step - loss: 0.0287 - accuracy: 0.9906\n"
     ]
    }
   ],
   "source": [
    "test_loss, test_acc = model.evaluate(test_images, test_labels)"
   ]
  },
  {
   "cell_type": "code",
   "execution_count": 10,
   "metadata": {
    "slideshow": {
     "slide_type": "-"
    }
   },
   "outputs": [
    {
     "data": {
      "text/plain": [
       "0.9905999898910522"
      ]
     },
     "execution_count": 10,
     "metadata": {},
     "output_type": "execute_result"
    }
   ],
   "source": [
    "test_acc"
   ]
  },
  {
   "cell_type": "markdown",
   "metadata": {
    "slideshow": {
     "slide_type": "slide"
    }
   },
   "source": [
    "The test accuracy over the earlier dense networks has been increased by at least one per cent - a significant improvement"
   ]
  },
  {
   "cell_type": "markdown",
   "metadata": {
    "slideshow": {
     "slide_type": "slide"
    }
   },
   "source": [
    "----"
   ]
  },
  {
   "attachments": {
    "tikz41.png": {
     "image/png": "[encoded data removed]"
    }
   },
   "cell_type": "markdown",
   "metadata": {
    "slideshow": {
     "slide_type": "slide"
    }
   },
   "source": [
    "## 5.110 The convolution operation\n",
    "\n",
    "Previously, we built a fully-connected (dense layered) feedforward network \n",
    "\n",
    "![tikz41.png](attachment:tikz41.png)"
   ]
  },
  {
   "cell_type": "markdown",
   "metadata": {
    "slideshow": {
     "slide_type": "slide"
    }
   },
   "source": [
    "The architecture does not match the local structure of the images\n",
    "\n",
    "Pixels that are far apart are treated the same way as pixels that are close\n",
    "\n",
    "But images typically have local structure \n",
    "\n",
    "(edges, corners, shading etc)\n",
    "\n",
    "And that local structures are repeated \n",
    "\n",
    "throughout the image "
   ]
  },
  {
   "cell_type": "markdown",
   "metadata": {
    "slideshow": {
     "slide_type": "slide"
    }
   },
   "source": [
    "Convolutional nets respect translational invariance of image detail\n",
    "\n",
    "They are the natural choice for deep learning computer vision\n",
    "\n",
    "They are smaller than dense layered models \n",
    "\n",
    "and faster to train "
   ]
  },
  {
   "attachments": {
    "tikz42.png": {
     "image/png": "[encoded data removed]"
    }
   },
   "cell_type": "markdown",
   "metadata": {
    "slideshow": {
     "slide_type": "slide"
    }
   },
   "source": [
    " An MNIST sample is a 28 x 28 greyscale array\n",
    "\n",
    "Let's imagine that each pixel is attached directly to an input unit (neuron):\n",
    "\n",
    "![tikz42.png](attachment:tikz42.png)\n",
    "\n",
    "These input neurons are not usually coded in keras - \n",
    "\n",
    "just imagine a neutral layer of connections; \n",
    "\n",
    "neurons that pass any input without modification"
   ]
  },
  {
   "attachments": {
    "tikz43.png": {
     "image/png": "[encoded data removed]"
    }
   },
   "cell_type": "markdown",
   "metadata": {
    "slideshow": {
     "slide_type": "slide"
    }
   },
   "source": [
    "A unit (neuron) in the first hidden layer - a convolutional layer - connected to 25 = 5 x 5 input pixel neurons\n",
    "\n",
    "![tikz43.png](attachment:tikz43.png)"
   ]
  },
  {
   "cell_type": "markdown",
   "metadata": {
    "slideshow": {
     "slide_type": "slide"
    }
   },
   "source": [
    "This 5 x 5 patch is also known as a local receptive field\n",
    "\n",
    "Each connection is, as usual, weighted, and there is a single bias\n",
    "\n",
    "That's 26 adjustable parameters"
   ]
  },
  {
   "attachments": {
    "tikz44.png": {
     "image/png": "[encoded data removed]"
    }
   },
   "cell_type": "markdown",
   "metadata": {
    "slideshow": {
     "slide_type": "slide"
    }
   },
   "source": [
    "Each hidden neuron has its own receptive field\n",
    "\n",
    "For example, here is a unit connected to the top left local receptive field:\n",
    "\n",
    "![tikz44.png](attachment:tikz44.png)"
   ]
  },
  {
   "attachments": {
    "tikz45.png": {
     "image/png": "[encoded data removed]"
    }
   },
   "cell_type": "markdown",
   "metadata": {
    "slideshow": {
     "slide_type": "slide"
    }
   },
   "source": [
    "The local receptive field is moved across the image so that a single hidden convolutional unit connects to each field:\n",
    "\n",
    "![tikz45.png](attachment:tikz45.png)"
   ]
  },
  {
   "cell_type": "markdown",
   "metadata": {
    "slideshow": {
     "slide_type": "slide"
    }
   },
   "source": [
    "There are 24 x 24 neurons in the first hidden layer\n",
    "\n",
    "The local receptive field is repeated by shifting one pixel at a time - a *stride* length of 1\n",
    "\n",
    "Other stride lengths are possible, \n",
    "\n",
    "and other local receptive fields are possible too - \n",
    "\n",
    "DLWP sticks to 3 x 3 fields with a stride of 1"
   ]
  },
  {
   "cell_type": "markdown",
   "metadata": {
    "slideshow": {
     "slide_type": "slide"
    }
   },
   "source": [
    "The weights and bias do not change even though the local receptive field is repeated across the image\n",
    "\n",
    "There are precisely (5 x 5 + 1) parameters\n",
    "\n",
    "The shared weights and bias are known as a *kernel* \n",
    "\n",
    "A single convolution acts as a *filter* "
   ]
  },
  {
   "cell_type": "markdown",
   "metadata": {
    "slideshow": {
     "slide_type": "slide"
    }
   },
   "source": [
    "A filter can detect a single feature\n",
    "\n",
    "Perhaps it detects an edge\n",
    "\n",
    "It can detect this edge at any location in the image - that's how the convolutional layer respects local image structure\n",
    "\n",
    "The filter is a *feature map*, mapping the \n",
    "\n",
    "28 x 28 input image features to a smaller, \n",
    "\n",
    "24 x 24 dimensional 'image'.\n",
    "\n"
   ]
  },
  {
   "attachments": {
    "tikz46.png": {
     "image/png": "[encoded data removed]"
    }
   },
   "cell_type": "markdown",
   "metadata": {
    "slideshow": {
     "slide_type": "slide"
    }
   },
   "source": [
    "But one filter can only detect one feature.\n",
    "\n",
    "Use more filters for more features:\n",
    "\n",
    "![tikz46.png](attachment:tikz46.png)\n",
    "\n",
    "There are three features here - three channels"
   ]
  },
  {
   "cell_type": "markdown",
   "metadata": {
    "slideshow": {
     "slide_type": "slide"
    }
   },
   "source": [
    "Let's calculate the number of parameters in the first layers of our convnet (ignoring the parameterless `max pooling` layer):"
   ]
  },
  {
   "cell_type": "code",
   "execution_count": 4,
   "metadata": {
    "slideshow": {
     "slide_type": "slide"
    }
   },
   "outputs": [
    {
     "name": "stdout",
     "output_type": "stream",
     "text": [
      "Model: \"sequential\"\n",
      "_________________________________________________________________\n",
      "Layer (type)                 Output Shape              Param #   \n",
      "=================================================================\n",
      "conv2d (Conv2D)              (None, 26, 26, 32)        320       \n",
      "_________________________________________________________________\n",
      "conv2d_1 (Conv2D)            (None, 24, 24, 64)        18496     \n",
      "=================================================================\n",
      "Total params: 18,816\n",
      "Trainable params: 18,816\n",
      "Non-trainable params: 0\n",
      "_________________________________________________________________\n"
     ]
    }
   ],
   "source": [
    "from tensorflow.keras import layers\n",
    "from tensorflow.keras import models\n",
    "\n",
    "model = models.Sequential()\n",
    "model.add(layers.Conv2D(32, (3, 3), activation='relu', input_shape=(28, 28, 1)))\n",
    "model.add(layers.Conv2D(64, (3, 3), activation='relu'))\n",
    "model.summary()"
   ]
  },
  {
   "cell_type": "markdown",
   "metadata": {
    "slideshow": {
     "slide_type": "slide"
    }
   },
   "source": [
    "`layers.Conv2D(32, (3, 3), activation='relu', input_shape=(28, 28, 1))`\n",
    "\n",
    "32 filters, each operating on a 3 x 3 local receptive field \n",
    "\n",
    "Hence there are 32 x (3 x 3 + 1) = 320 parameters"
   ]
  },
  {
   "cell_type": "markdown",
   "metadata": {
    "slideshow": {
     "slide_type": "slide"
    }
   },
   "source": [
    "For comparison: the input layer of our earlier MNIST model\n",
    "\n",
    "`layers.Dense(512, activation = 'relu', input_shape = (28 * 28,)`\n",
    "\n",
    "has 512 * (28 * 28 + 1) = 401920 parameters"
   ]
  },
  {
   "cell_type": "markdown",
   "metadata": {
    "slideshow": {
     "slide_type": "slide"
    }
   },
   "source": [
    "`model.add(layers.Conv2D(64, (3, 3), activation='relu'))` \n",
    "\n",
    "Each filter is connected, in 3 x 3 patches, to the 32 filters of the first conv layer\n",
    "\n",
    "That's 9 x 32 weight paramaters plus a single bias - \n",
    "\n",
    "289 parameters\n",
    "\n",
    "There are 64 second conv layer filters - \n",
    "\n",
    "289 x 64 = 18496 parameters "
   ]
  },
  {
   "cell_type": "markdown",
   "metadata": {
    "slideshow": {
     "slide_type": "slide"
    }
   },
   "source": [
    "----"
   ]
  },
  {
   "cell_type": "markdown",
   "metadata": {
    "slideshow": {
     "slide_type": "slide"
    }
   },
   "source": [
    "## 5.120 Max pooling\n",
    "\n",
    "Convnets also contain pooling layers\n",
    "\n",
    "Pooling layers are usually used immediately after \n",
    "\n",
    "convolutional layers\n",
    "\n",
    "Pooling layers simplify the information \n",
    "\n",
    "from the preceding convolutional layer"
   ]
  },
  {
   "attachments": {
    "tikz47.png": {
     "image/png": "[encoded data removed]"
    }
   },
   "cell_type": "markdown",
   "metadata": {
    "slideshow": {
     "slide_type": "slide"
    }
   },
   "source": [
    "A pooling layer prepares a condensed feature map\n",
    "\n",
    "For instance, each unit in the pooling layer may summarize a 2 x 2 patch in the previous layer\n",
    "\n",
    "In *max-pooling*, a pooling unit simply outputs the maximum activation in the 2 × 2 input region:\n",
    "\n",
    "![tikz47.png](attachment:tikz47.png)"
   ]
  },
  {
   "cell_type": "markdown",
   "metadata": {
    "slideshow": {
     "slide_type": "slide"
    }
   },
   "source": [
    "There are 24 × 24 neurons in the depicted convolutional layer\n",
    "\n",
    "and 12 × 12 neurons in the pooling layer (2 x 2 pooling patch)\n",
    "\n",
    "The feature map has been halved in size"
   ]
  },
  {
   "attachments": {
    "tikz48.png": {
     "image/png": "[encoded data removed]"
    }
   },
   "cell_type": "markdown",
   "metadata": {
    "slideshow": {
     "slide_type": "slide"
    }
   },
   "source": [
    "Max-pooling is applied to each feature map separately \n",
    "\n",
    "So if there were three feature maps, the combined convolutional and max-pooling layers would look like:\n",
    "\n",
    "![tikz48.png](attachment:tikz48.png)\n",
    "\n",
    "(Each feature map has a 5 x 5 local receptive field\n",
    "\n",
    "hence there are 24 x 24 neurons in the filter)"
   ]
  },
  {
   "cell_type": "markdown",
   "metadata": {
    "slideshow": {
     "slide_type": "slide"
    }
   },
   "source": [
    " \n",
    "\n",
    "Usually: \n",
    "\n",
    "- 3 x 3, stride 1, filter patches\n",
    "- 2 x 2, stride 2, pooling patches \n",
    "\n"
   ]
  },
  {
   "cell_type": "markdown",
   "metadata": {
    "slideshow": {
     "slide_type": "slide"
    }
   },
   "source": [
    "L2 pooling: take the square root of the sum of the squares of the patch activations\n",
    "\n",
    "Average pooling: average rather than max"
   ]
  },
  {
   "cell_type": "markdown",
   "metadata": {
    "slideshow": {
     "slide_type": "slide"
    }
   },
   "source": [
    "Max-pooling is arguably preferential - it is more informative to look at the maximal presence of a feature rather than risk \n",
    "\n",
    "diluting the presence by taking an average \n",
    "\n",
    "The intuition behind any type of pooling \n",
    "\n",
    "is similar - pooling is a way of condensing information"
   ]
  },
  {
   "cell_type": "markdown",
   "metadata": {
    "slideshow": {
     "slide_type": "slide"
    }
   },
   "source": [
    "Pooling not only downsamples (and therefore reduces parameter count) but it also widens the effective receptive field seen by the next layer\n",
    "\n",
    "For example, in 2 x 2, stride 2 pooling, \n",
    "\n",
    "a 6 x 6 patch in conv layer 1 is reduced to a 3 x 3 patch in the pooling layer\n",
    "\n",
    "This 3 x 3 patch is seen by a single neuron \n",
    "\n",
    "in conv layer 2\n",
    "\n",
    "the neuron's field of vision has increased \n",
    "\n",
    "from 3 x 3 to 6 x 6"
   ]
  },
  {
   "cell_type": "markdown",
   "metadata": {
    "slideshow": {
     "slide_type": "slide"
    }
   },
   "source": [
    "----"
   ]
  },
  {
   "cell_type": "markdown",
   "metadata": {
    "slideshow": {
     "slide_type": "slide"
    }
   },
   "source": [
    "MIT Licence\n",
    " \n",
    "Copyright (c) 2017-present François Chollet\n",
    " \n",
    "Permission is hereby granted, free of charge, to any person obtaining a copy\n",
    "of this software and associated documentation files (the \"Software\"), to deal\n",
    "in the Software without restriction, including without limitation the rights\n",
    "to use, copy, modify, merge, publish, distribute, sublicense, and/or sell\n",
    "copies of the Software, and to permit persons to whom the Software is\n",
    "furnished to do so, subject to the following conditions:\n",
    " \n",
    "The above copyright notice and this permission notice shall be included in all\n",
    "copies or substantial portions of the Software.\n",
    " \n",
    "THE SOFTWARE IS PROVIDED \"AS IS\", WITHOUT WARRANTY OF ANY KIND, EXPRESS OR\n",
    "IMPLIED, INCLUDING BUT NOT LIMITED TO THE WARRANTIES OF MERCHANTABILITY,\n",
    "FITNESS FOR A PARTICULAR PURPOSE AND NONINFRINGEMENT. IN NO EVENT SHALL THE\n",
    "AUTHORS OR COPYRIGHT HOLDERS BE LIABLE FOR ANY CLAIM, DAMAGES OR OTHER\n",
    "LIABILITY, WHETHER IN AN ACTION OF CONTRACT, TORT OR OTHERWISE, ARISING FROM,\n",
    "OUT OF OR IN CONNECTION WITH THE SOFTWARE OR THE USE OR OTHER DEALINGS IN THE\n",
    "SOFTWARE."
   ]
  },
  {
   "cell_type": "markdown",
   "metadata": {
    "slideshow": {
     "slide_type": "slide"
    }
   },
   "source": [
    "Creative Commons LIcence\n",
    "\n",
    "Copyright (c) 2015-present Michael A. Nielsen \n",
    "\n",
    "Creative Commons Attribution-NonCommercial 3.0 Unported License\n",
    "https://creativecommons.org/licenses/by-nc/3.0/deed.en_GB"
   ]
  }
 ],
 "metadata": {
  "celltoolbar": "Slideshow",
  "kernelspec": {
   "display_name": "Python 3",
   "language": "python",
   "name": "python3"
  },
  "language_info": {
   "codemirror_mode": {
    "name": "ipython",
    "version": 3
   },
   "file_extension": ".py",
   "mimetype": "text/x-python",
   "name": "python",
   "nbconvert_exporter": "python",
   "pygments_lexer": "ipython3",
   "version": "3.8.5"
  }
 },
 "nbformat": 4,
 "nbformat_minor": 2
}
