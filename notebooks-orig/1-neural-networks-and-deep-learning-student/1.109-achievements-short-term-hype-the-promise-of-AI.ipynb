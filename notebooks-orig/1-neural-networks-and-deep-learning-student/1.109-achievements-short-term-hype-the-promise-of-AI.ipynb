{
 "cells": [
  {
   "cell_type": "markdown",
   "metadata": {
    "slideshow": {
     "slide_type": "slide"
    }
   },
   "source": [
    "Deep learning has been in the ascendant since the early 2010s\n",
    "\n",
    "Solves some problems that machines have previously found very difficult"
   ]
  },
  {
   "cell_type": "markdown",
   "metadata": {
    "slideshow": {
     "slide_type": "notes"
    }
   },
   "source": [
    "Deep learning has been in the ascendant since the early 2010s. It solves some problems that machines have previously found very difficult. It has created much excitement and hope and some concern. The breakthrough was driven by big data, GPU technology and improved algorithms."
   ]
  },
  {
   "cell_type": "markdown",
   "metadata": {
    "slideshow": {
     "slide_type": "slide"
    }
   },
   "source": [
    "Near human level\n",
    "- image classification\n",
    "- speech recognition\n",
    "- handwriting transcription\n",
    "- autonomous driving    "
   ]
  },
  {
   "cell_type": "markdown",
   "metadata": {
    "slideshow": {
     "slide_type": "notes"
    }
   },
   "source": [
    "Some practical tasks are now accomplished at a near human level: image classification, speech recognition, handwriting transcription and autonomous driving."
   ]
  },
  {
   "cell_type": "markdown",
   "metadata": {
    "slideshow": {
     "slide_type": "slide"
    }
   },
   "source": [
    "Improved\n",
    " - machine translation\n",
    " - text-to-speech\n",
    " - ad targeting\n",
    " - search results"
   ]
  },
  {
   "cell_type": "markdown",
   "metadata": {
    "slideshow": {
     "slide_type": "notes"
    }
   },
   "source": [
    "Other tasks are improved, if not still falling short of human competency: machine translation, text-to-speech,  ad targeting and search results."
   ]
  },
  {
   "cell_type": "markdown",
   "metadata": {
    "slideshow": {
     "slide_type": "slide"
    }
   },
   "source": [
    "Breakthroughs\n",
    "- digital assistance\n",
    "- Go and Chess\n",
    "- medical diagnosis"
   ]
  },
  {
   "cell_type": "markdown",
   "metadata": {
    "slideshow": {
     "slide_type": "notes"
    }
   },
   "source": [
    "There have been a few spectacular breakthroughs: digital assistance, Go and Chess and medical diagnosis."
   ]
  },
  {
   "cell_type": "markdown",
   "metadata": {
    "slideshow": {
     "slide_type": "slide"
    }
   },
   "source": [
    "Out of reach\n",
    "- believable dialogue\n",
    "- human-level translation across several languages\n",
    "- complete natural language understanding\n",
    "- general intelligence"
   ]
  },
  {
   "cell_type": "markdown",
   "metadata": {
    "slideshow": {
     "slide_type": "notes"
    }
   },
   "source": [
    "But some abilities remain out of reach:  believable dialogue, complete natural language understanding and general intelligence."
   ]
  },
  {
   "cell_type": "markdown",
   "metadata": {
    "slideshow": {
     "slide_type": "slide"
    }
   },
   "source": [
    "History of AI\n",
    "- 1960s: symbolic AI\n",
    "- 1970s: AI winter\n",
    "- 1980's: expert systems\n",
    "- 1990s: a second winter\n",
    "- 2010s: deep learning\n",
    "- 2020s: ?"
   ]
  },
  {
   "cell_type": "markdown",
   "metadata": {
    "slideshow": {
     "slide_type": "notes"
    }
   },
   "source": [
    "A potted history of AI: \n",
    "\n",
    "1960s: the era of symbolic AI. 1970s: an AI ‘winter’. This was a period of disappointment. Practical results were poor and funding dried up. There was an AI revival in the 1980’s with the development of expert systems but the weather chilled and the world entered another AI winter in the 1990s. Then, in the 2010s, the second coming of neural networks, now manifest as deep learning. The technology spread quickly and AI and deep learning - mystically reported in the media as 'algorithms' - is everywhere, or almost everywhere. It’s certainly in your pockets right now. The prophets of doom speak of the rise of the algorithm, but algorithms are neither autonomous or moral. What does the future hold?"
   ]
  },
  {
   "cell_type": "markdown",
   "metadata": {
    "slideshow": {
     "slide_type": "slide"
    }
   },
   "source": [
    "Reasons to doubt a third winter\n",
    "\n",
    "- many DL developments await deployment\n",
    "\n",
    "- continued diffusion into everyday life even if research stalls\n",
    "\n",
    "- many new applications: assisting human scientists, climatology, drug discovery..."
   ]
  },
  {
   "cell_type": "markdown",
   "metadata": {
    "slideshow": {
     "slide_type": "notes"
    }
   },
   "source": [
    "There are reasons to doubt a third winter: many deep learning developments await deployment; there is a continued diffusion into everyday life even if research stalls, and there are many new applications, for example, assisting human scientists, climatology and drug discovery.\n",
    "\n",
    "\n",
    "This ends the first topic. We have looked at neural networks from a distance; now we need to get close and get our hands dirty. The second topic launches straight into engineering. We use TensorFlow to build, train and evaluate our first neural network."
   ]
  }
 ],
 "metadata": {
  "celltoolbar": "Slideshow",
  "kernelspec": {
   "display_name": "Python 3 (ipykernel)",
   "language": "python",
   "name": "python3"
  },
  "language_info": {
   "codemirror_mode": {
    "name": "ipython",
    "version": 3
   },
   "file_extension": ".py",
   "mimetype": "text/x-python",
   "name": "python",
   "nbconvert_exporter": "python",
   "pygments_lexer": "ipython3",
   "version": "3.7.7"
  },
  "rise": {
   "enable_chalkboard": true
  }
 },
 "nbformat": 4,
 "nbformat_minor": 4
}
