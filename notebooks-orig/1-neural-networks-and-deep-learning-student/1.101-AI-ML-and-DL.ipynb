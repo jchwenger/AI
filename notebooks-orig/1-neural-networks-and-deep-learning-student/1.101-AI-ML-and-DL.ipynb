{
 "cells": [
  {
   "cell_type": "markdown",
   "metadata": {
    "slideshow": {
     "slide_type": "slide"
    }
   },
   "source": [
    "Artificial Intelligence is the automation of thought "
   ]
  },
  {
   "cell_type": "markdown",
   "metadata": {
    "slideshow": {
     "slide_type": "notes"
    }
   },
   "source": [
    "Artificial intelligence is mechanical thought. Thinking machines, machines that do things that, until they did them, we thought only humans could do. As soon as machines accomplish a task we move the goal posts. They're not so clever after all, we say. Skill at chess was believed to be the apex of human thought; now machines dominate Chess and even Go, a far more complex game. "
   ]
  },
  {
   "cell_type": "markdown",
   "metadata": {
    "slideshow": {
     "slide_type": "slide"
    }
   },
   "source": [
    "1950s-1980s: manipulation of symbols - like rearranging equations\n",
    "\n",
    "The idea works for tightly defined tasks such as chess, but struggles with looser tasks\n",
    "\n",
    "For example, image classification and speech recognition"
   ]
  },
  {
   "cell_type": "markdown",
   "metadata": {
    "slideshow": {
     "slide_type": "notes"
    }
   },
   "source": [
    "AI began by modelling thought as the manipulation of symbols. Like rearranging equations, symbols are moved around and conclusions drawn. If it is raining I will get wet. It is raining. Therefore I will get wet. Although the logic calculus is an aspect of thinking, it is not all of thinking; it fails miserably for tasks with undefinable rules such as image classification - is this a dog or a cat? - or speech recognition - Alexa, when is the next train to London?"
   ]
  },
  {
   "cell_type": "markdown",
   "metadata": {
    "slideshow": {
     "slide_type": "slide"
    }
   },
   "source": [
    "Rules are codified as a program\n",
    "\n",
    "Answers are computed from data\n",
    "\n",
    "For example: what is the best chess move?"
   ]
  },
  {
   "cell_type": "markdown",
   "metadata": {
    "slideshow": {
     "slide_type": "notes"
    }
   },
   "source": [
    "The traditional approach to problem solving by computation is to encode rules - rules of logic and heuristics (rules of thumb) - in a program and present the program with data. The wheels spin and the computer announces the result. 'You will get wet'. 'Better move the Queen'."
   ]
  },
  {
   "cell_type": "markdown",
   "metadata": {
    "slideshow": {
     "slide_type": "slide"
    }
   },
   "source": [
    "1990s: Machine learning\n",
    "\n",
    "2010s: Deep learning\n",
    "\n",
    "Hard coded rules are replaced with a statistical model"
   ]
  },
  {
   "cell_type": "markdown",
   "metadata": {
    "slideshow": {
     "slide_type": "notes"
    }
   },
   "source": [
    "A new paradigm gained traction in the 1990s. Rules are learned, not hard coded. The machine is trained by comparing data with desired response. A parametrised map between input and target is gradually tweaked. The rules are implicit: they are contained in the internal representations. Discerning images of dogs from cats, impossible by any hard coding, is now feasible."
   ]
  },
  {
   "cell_type": "markdown",
   "metadata": {
    "slideshow": {
     "slide_type": "slide"
    }
   },
   "source": [
    "The model is trained on  data\n",
    "\n",
    "Rules are implicit\n",
    "\n",
    "For example: predict an image tag"
   ]
  },
  {
   "cell_type": "markdown",
   "metadata": {
    "slideshow": {
     "slide_type": "notes"
    }
   },
   "source": [
    "This new paradigm is Machine Learning. Machines learning to associate labels to data. The rules are manifest as internal connections; no more transparent to us than examining a biological brain. "
   ]
  },
  {
   "cell_type": "markdown",
   "metadata": {
    "slideshow": {
     "slide_type": "slide"
    }
   },
   "source": [
    "![Diagram](images/AI-ML-DL.png)"
   ]
  },
  {
   "cell_type": "markdown",
   "metadata": {
    "slideshow": {
     "slide_type": "notes"
    }
   },
   "source": [
    "Deep learning is a more recent development. Supercharged machine learning. Deep learning is implemented by neural networks - the subject of this half course."
   ]
  },
  {
   "cell_type": "markdown",
   "metadata": {
    "slideshow": {
     "slide_type": "slide"
    }
   },
   "source": [
    "Machine learning, and deep learning in particular, rely on huge data sets\n",
    "\n",
    "Lack a firm mathematical base\n",
    "\n",
    "Engineering, hands-on, empirical"
   ]
  },
  {
   "cell_type": "markdown",
   "metadata": {
    "slideshow": {
     "slide_type": "notes"
    }
   },
   "source": [
    "Machine learning, and deep learning in particular, rely on huge data sets. They lack a firm mathematical base - the subject is hands-on.\n",
    "\n",
    "Machine and deep learning are ultimately the search for transformations of data into something meaningful. \n",
    "\n",
    "What is a 'data transformation' and what does 'something meaningful'?"
   ]
  }
 ],
 "metadata": {
  "celltoolbar": "Slideshow",
  "kernelspec": {
   "display_name": "Python 3 (ipykernel)",
   "language": "python",
   "name": "python3"
  },
  "language_info": {
   "codemirror_mode": {
    "name": "ipython",
    "version": 3
   },
   "file_extension": ".py",
   "mimetype": "text/x-python",
   "name": "python",
   "nbconvert_exporter": "python",
   "pygments_lexer": "ipython3",
   "version": "3.7.7"
  },
  "rise": {
   "enable_chalkboard": true
  }
 },
 "nbformat": 4,
 "nbformat_minor": 4
}
