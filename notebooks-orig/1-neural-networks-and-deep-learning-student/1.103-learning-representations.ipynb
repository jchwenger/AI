{
 "cells": [
  {
   "cell_type": "markdown",
   "metadata": {
    "slideshow": {
     "slide_type": "slide"
    }
   },
   "source": [
    "Machine learning requires\n",
    "\n",
    "- input data e.g. images  \n",
    "- output expectation e.g. image tags  \n",
    "- a measure of the difference between output and expectation  "
   ]
  },
  {
   "cell_type": "markdown",
   "metadata": {
    "slideshow": {
     "slide_type": "notes"
    }
   },
   "source": [
    "Machine learning requires input data (cat and dog images), output expectations (the labels 'cat' and 'dog') and a measure of how different the output is from the expectation (the prediction is 36% wrong)."
   ]
  },
  {
   "cell_type": "markdown",
   "metadata": {
    "slideshow": {
     "slide_type": "slide"
    }
   },
   "source": [
    "The adjustment step is called **learning**\n",
    "\n",
    "Data is progressively transformed into a series of intermediate representations\n",
    "\n",
    "A **statistical model** learns a combined transformation from input data into a meaningful output"
   ]
  },
  {
   "cell_type": "markdown",
   "metadata": {
    "slideshow": {
     "slide_type": "notes"
    }
   },
   "source": [
    "Parameters are tweaked in a series of steps and the machine's predictions (hopefully) improve. The program - or statistical model, or specifically, the neural network - makes predictions by processing data through a series of intermediate representations - from pixel maps to labels 'dog' or 'cat'."
   ]
  },
  {
   "cell_type": "markdown",
   "metadata": {
    "slideshow": {
     "slide_type": "slide"
    }
   },
   "source": [
    "E.g. data points (x, y) are 'red' or 'black'\n",
    "\n",
    "Seek a transformation $(x, y) \\to \\{\\text{black}, \\text{red}\\}$"
   ]
  },
  {
   "cell_type": "markdown",
   "metadata": {
    "slideshow": {
     "slide_type": "notes"
    }
   },
   "source": [
    "For example, suppose data is of the form (x, y) - a two element vector. Each data point is labeled 'black' or 'red'. We wish to identify which data points are red and which are black."
   ]
  },
  {
   "cell_type": "code",
   "execution_count": 1,
   "metadata": {
    "slideshow": {
     "slide_type": "skip"
    }
   },
   "outputs": [],
   "source": [
    "import numpy as np\n",
    "import matplotlib.pyplot as plt\n",
    "\n",
    "num_points = 100\n",
    "x = -1 + 2 * np.random.random(num_points)\n",
    "L = np.sqrt(1 - x * x)\n",
    "y = L * (-1 + 2 * np.random.random(num_points))\n",
    "\n",
    "def f(x):\n",
    "    return -2 * x\n",
    "\n",
    "x_black = x[y > f(x)]\n",
    "y_black = y[y > f(x)]\n",
    "\n",
    "x_red = x[y <= f(x)]\n",
    "y_red = y[y <= f(x)]"
   ]
  },
  {
   "cell_type": "code",
   "execution_count": 2,
   "metadata": {
    "slideshow": {
     "slide_type": "skip"
    }
   },
   "outputs": [],
   "source": [
    "def plot_data():\n",
    "    \n",
    "    plt.axes().set_aspect('equal')\n",
    "    plt.plot(x_black, y_black, 'ko')\n",
    "    plt.plot(x_red, y_red, 'ro')\n",
    "\n",
    "    u = np.linspace(-1, 1, 100)\n",
    "    v = np.zeros(100)\n",
    "    \n",
    "    plt.plot(u, v, 'b')\n",
    "    plt.plot(v, u, 'b')\n",
    "    plt.show()"
   ]
  },
  {
   "cell_type": "code",
   "execution_count": 3,
   "metadata": {
    "slideshow": {
     "slide_type": "skip"
    }
   },
   "outputs": [],
   "source": [
    "def print_data():\n",
    "    for i in range(len(x)):\n",
    "        label = 'black' if y[i] > f(x[i]) else 'red'\n",
    "        print(f'{x[i]: 12.10f}', ', ', f'{y[i]: 12.10f}', '\\t', label,  sep='')"
   ]
  },
  {
   "cell_type": "code",
   "execution_count": 4,
   "metadata": {
    "slideshow": {
     "slide_type": "slide"
    }
   },
   "outputs": [
    {
     "name": "stdout",
     "output_type": "stream",
     "text": [
      "-0.7196194015,  0.0768843182\tred\n",
      "-0.7733622903,  0.4822502158\tred\n",
      "-0.1687069560,  0.1940698981\tred\n",
      "-0.7593503947,  0.6132877874\tred\n",
      "-0.3728508990,  0.6032301272\tred\n",
      " 0.9511936903,  0.2137315401\tblack\n",
      "-0.3461635841,  0.2671155599\tred\n",
      "-0.4534801280, -0.5658154768\tred\n",
      "-0.7692616772,  0.6065827073\tred\n",
      "-0.9376677300,  0.0894997839\tred\n",
      " 0.5890293787, -0.2404057772\tblack\n",
      " 0.0493696812,  0.4034707323\tblack\n",
      " 0.0123642054, -0.2467772787\tred\n",
      " 0.1427722121, -0.0403073333\tblack\n",
      "-0.3084044337, -0.2586423558\tred\n",
      "-0.1882522786, -0.1980493333\tred\n",
      "-0.8849681227,  0.1711109518\tred\n",
      "-0.0509441630,  0.9391880072\tblack\n",
      " 0.9490004293, -0.1528670598\tblack\n",
      "-0.3064188652,  0.4595253704\tred\n",
      " 0.8154186041,  0.5708986167\tblack\n",
      "-0.5582569962,  0.4169337742\tred\n",
      "-0.8997255715, -0.3370019726\tred\n",
      "-0.0676870379,  0.0434726440\tred\n",
      "-0.8698930172,  0.1480605883\tred\n",
      "-0.9778067408,  0.0234544163\tred\n",
      "-0.5664430465, -0.3832901425\tred\n",
      " 0.2475992245, -0.9499718576\tred\n",
      " 0.4007984488,  0.3589747859\tblack\n",
      "-0.7251442642, -0.0365750990\tred\n",
      " 0.9774444616, -0.1300217932\tblack\n",
      "-0.2212134083, -0.6184937758\tred\n",
      " 0.9734676154, -0.1873385405\tblack\n",
      " 0.5462866762, -0.4396867893\tblack\n",
      "-0.8438386319,  0.2574480174\tred\n",
      "-0.2197099830, -0.3368012322\tred\n",
      " 0.5592820831,  0.7479256976\tblack\n",
      " 0.1593415841,  0.8546582674\tblack\n",
      " 0.8770883711,  0.2263986334\tblack\n",
      "-0.7173133764,  0.3664219016\tred\n",
      " 0.7418232901, -0.2337879743\tblack\n",
      "-0.7310240415,  0.3792864397\tred\n",
      "-0.4122279187, -0.5096884904\tred\n",
      " 0.7221242489,  0.2145394272\tblack\n",
      "-0.6421695494, -0.4702303031\tred\n",
      " 0.9918746506,  0.1210544941\tblack\n",
      " 0.6146801291, -0.6475837496\tblack\n",
      "-0.6896555261,  0.1164945184\tred\n",
      "-0.8502177025,  0.0184039606\tred\n",
      "-0.2650475947, -0.6798506504\tred\n",
      "-0.4995034617,  0.6253765489\tred\n",
      " 0.2544128834, -0.6685311530\tred\n",
      " 0.6322948522,  0.3530254370\tblack\n",
      "-0.5213431093,  0.6414450207\tred\n",
      " 0.3815018336, -0.8714003189\tred\n",
      " 0.1579168871,  0.5909146287\tblack\n",
      "-0.2348354937,  0.2004379492\tred\n",
      "-0.6089774463,  0.7113843142\tred\n",
      "-0.5049805730, -0.0171512072\tred\n",
      "-0.3056120777, -0.1597981260\tred\n",
      "-0.3537044803, -0.8899266763\tred\n",
      " 0.9283501050, -0.0221799771\tblack\n",
      " 0.3738602416,  0.7561637966\tblack\n",
      "-0.1849299073,  0.7676481159\tblack\n",
      " 0.8056526122,  0.4875691496\tblack\n",
      "-0.0299490610, -0.2710520335\tred\n",
      "-0.0425320344, -0.8176207993\tred\n",
      "-0.1463655599,  0.6726872189\tblack\n",
      " 0.2997725526, -0.5135472944\tblack\n",
      " 0.7559359912, -0.6534234344\tblack\n",
      " 0.9738310445,  0.1043014688\tblack\n",
      "-0.8553906490, -0.0571175029\tred\n",
      "-0.6372223098, -0.5661904522\tred\n",
      "-0.6358284054,  0.1555363368\tred\n",
      " 0.2697176177, -0.8637469982\tred\n",
      "-0.9291058732, -0.1339031387\tred\n",
      " 0.5795787076,  0.4839620821\tblack\n",
      " 0.2120146291, -0.4875313264\tred\n",
      " 0.1983602166, -0.5699773605\tred\n",
      "-0.5545427433,  0.4313011711\tred\n",
      " 0.6251940815,  0.3702132502\tblack\n",
      "-0.2155994498,  0.0394629127\tred\n",
      "-0.3914894746,  0.4160238322\tred\n",
      " 0.4287499673,  0.4172891948\tblack\n",
      " 0.6968477217, -0.3447261643\tblack\n",
      " 0.2650434687, -0.8154173269\tred\n",
      "-0.4258386186,  0.7202691036\tred\n",
      "-0.2165541752,  0.5206363474\tblack\n",
      "-0.1667692946,  0.4731499280\tblack\n",
      " 0.2546063929, -0.6260376277\tred\n",
      "-0.6607127170,  0.6546330961\tred\n",
      "-0.3154993058,  0.7626950682\tblack\n",
      " 0.0263488677,  0.1896728865\tblack\n",
      " 0.4605182536,  0.8524861443\tblack\n",
      " 0.9982788178,  0.0535758992\tblack\n",
      " 0.4222029857, -0.0346497139\tblack\n",
      "-0.4989718133,  0.4407756435\tred\n",
      " 0.7169206729,  0.4418829994\tblack\n",
      "-0.6271710712,  0.5008283647\tred\n",
      " 0.2078181609, -0.5565115288\tred\n"
     ]
    }
   ],
   "source": [
    "print_data()"
   ]
  },
  {
   "cell_type": "markdown",
   "metadata": {
    "slideshow": {
     "slide_type": "notes"
    }
   },
   "source": [
    "Here is the data set, as the machine 'sees' it. Is there a simple association between (x, y) and red/black?  "
   ]
  },
  {
   "cell_type": "markdown",
   "metadata": {
    "slideshow": {
     "slide_type": "slide"
    }
   },
   "source": [
    "The machine seeks a transformation\n",
    "\n",
    "\\begin{align*}\n",
    "x' &= w_{11} x + w_{12} y \\\\\n",
    "y' &= w_{21} x + w_{22} y\n",
    "\\end{align*}\n",
    "\n",
    "such that\n",
    "\n",
    "\\begin{align*}\n",
    "x' > 0 &\\implies \\text{ 'black'} \\\\\n",
    "x' \\le 0 &\\implies \\text{ 'red'}\n",
    "\\end{align*}"
   ]
  },
  {
   "cell_type": "markdown",
   "metadata": {
    "slideshow": {
     "slide_type": "notes"
    }
   },
   "source": [
    "w11, w12, w21, and w22 are adjustable parameters. They specify a particular linear transformation.  The task is to find values of these six parameters that will ensure black vectors are mapped to vectors with a positive x; red vectors are taken to vectors with a zero or negative x value."
   ]
  },
  {
   "cell_type": "markdown",
   "metadata": {
    "slideshow": {
     "slide_type": "slide"
    }
   },
   "source": [
    "The machine starts with random parameter values\n",
    "\n",
    "The parameters are tweaked\n",
    "\n",
    "Trials are informed by error"
   ]
  },
  {
   "cell_type": "markdown",
   "metadata": {
    "slideshow": {
     "slide_type": "notes"
    }
   },
   "source": [
    "Parameter values are initially random.  w11, w12, w21, and w22 are tweaked until all the points are correctly separated (or until there is no further improvement). The error in the prediction informs the subsequent trial."
   ]
  },
  {
   "cell_type": "markdown",
   "metadata": {
    "slideshow": {
     "slide_type": "slide"
    }
   },
   "source": [
    "After much hunting, the machine discovers that\n",
    "\n",
    "\\begin{align*}\n",
    "w_{11} &= 0.8944271909999159 \\\\\n",
    "w_{12} &= 0.447213595499958 \\\\\n",
    "w_{21} &= -0.447213595499958 \\\\\n",
    "w_{22} &= 0.8944271909999159\n",
    "\\end{align*}\n",
    "\n",
    "enable a correct prediction $x' > 0 \\implies \\text{ 'black'}$, otherwise 'red'"
   ]
  },
  {
   "cell_type": "markdown",
   "metadata": {
    "slideshow": {
     "slide_type": "notes"
    }
   },
   "source": [
    "After much hunting the machine discovers that these values... enable a correct prediction x' > 0 implies 'black', otherwise 'red'. "
   ]
  },
  {
   "cell_type": "code",
   "execution_count": 5,
   "metadata": {
    "slideshow": {
     "slide_type": "skip"
    }
   },
   "outputs": [],
   "source": [
    "p_black = np.column_stack((x_black, y_black))\n",
    "p_red = np.column_stack((x_red, y_red))\n",
    "\n",
    "import math\n",
    "theta = -math.atan(0.5) \n",
    "\n",
    "A = np.array([[np.cos(theta), -np.sin(theta)], [np.sin(theta), np.cos(theta)]])\n",
    "p_black_rot = np.dot(p_black, A.T)\n",
    "p_red_rot = np.dot(p_red, A.T)"
   ]
  },
  {
   "cell_type": "code",
   "execution_count": 6,
   "metadata": {
    "slideshow": {
     "slide_type": "skip"
    }
   },
   "outputs": [],
   "source": [
    "def plot_rotated():\n",
    "    \n",
    "    plt.axes().set_aspect('equal')\n",
    "    plt.plot(p_black_rot[:, 0], p_black_rot[:, 1], 'ko')\n",
    "    plt.plot(p_red_rot[:, 0], p_red_rot[:, 1], 'ro')\n",
    "\n",
    "    u = np.linspace(-1, 1, 100)\n",
    "    v = np.zeros(100)\n",
    "\n",
    "    plt.plot(u, v, 'b')\n",
    "    plt.plot(v, u, 'b')\n",
    "    plt.show()"
   ]
  },
  {
   "cell_type": "code",
   "execution_count": 7,
   "metadata": {
    "slideshow": {
     "slide_type": "slide"
    }
   },
   "outputs": [
    {
     "data": {
      "image/png": "[encoded data removed]",
      "text/plain": [
       "<Figure size 432x288 with 1 Axes>"
      ]
     },
     "metadata": {
      "needs_background": "light"
     },
     "output_type": "display_data"
    }
   ],
   "source": [
    "plot_data()"
   ]
  },
  {
   "cell_type": "markdown",
   "metadata": {
    "slideshow": {
     "slide_type": "notes"
    }
   },
   "source": [
    "A visual representation of the data provides immediate human understanding. But machines do not have visual cortexes (yet)."
   ]
  },
  {
   "cell_type": "markdown",
   "metadata": {
    "slideshow": {
     "slide_type": "skip"
    }
   },
   "source": [
    "Rotate points about $O$\n",
    "\n",
    "\\begin{equation*}\n",
    "\\begin{bmatrix}\n",
    "x' \\\\\n",
    "y'\n",
    "\\end{bmatrix} = \\begin{bmatrix}\n",
    "\\cos \\theta & -\\sin \\theta \\\\\n",
    "\\sin \\theta & \\cos \\theta\n",
    "\\end{bmatrix}\n",
    "\\begin{bmatrix}\n",
    "x \\\\\n",
    "y\n",
    "\\end{bmatrix}\n",
    "\\end{equation*}"
   ]
  },
  {
   "cell_type": "code",
   "execution_count": 8,
   "metadata": {
    "slideshow": {
     "slide_type": "slide"
    }
   },
   "outputs": [
    {
     "data": {
      "image/png": "[encoded data removed]",
      "text/plain": [
       "<Figure size 432x288 with 1 Axes>"
      ]
     },
     "metadata": {
      "needs_background": "light"
     },
     "output_type": "display_data"
    }
   ],
   "source": [
    "plot_rotated()"
   ]
  },
  {
   "cell_type": "markdown",
   "metadata": {
    "slideshow": {
     "slide_type": "notes"
    }
   },
   "source": [
    "The machine has discovered that data merely needs to be rotated."
   ]
  },
  {
   "cell_type": "markdown",
   "metadata": {
    "slideshow": {
     "slide_type": "skip"
    }
   },
   "source": [
    "The data points are separated by a line\n",
    "\n",
    "\\begin{align*}\n",
    "2x + y \\ge 0 &\\implies \\text{ black} \\\\\n",
    "2x + y < 0 &\\implies \\text{ red}\n",
    "\\end{align*}"
   ]
  },
  {
   "cell_type": "code",
   "execution_count": 9,
   "metadata": {
    "slideshow": {
     "slide_type": "skip"
    }
   },
   "outputs": [],
   "source": [
    "def plot_line():\n",
    "    \n",
    "    plt.axes().set_aspect('equal')\n",
    "    plt.plot(x_black, y_black, 'ko')\n",
    "    plt.plot(x_red, y_red, 'ro')\n",
    "\n",
    "    u = np.linspace(-1, 1, 100)\n",
    "    v = np.zeros(100)\n",
    "    w = np.linspace(-0.5, 0.5, 100)\n",
    "    \n",
    "    \n",
    "    plt.plot(u, v, 'b')\n",
    "    plt.plot(v, u, 'b')\n",
    "    plt.plot(w, f(w), 'g')\n",
    "    plt.show()\n",
    "    "
   ]
  },
  {
   "cell_type": "code",
   "execution_count": 10,
   "metadata": {
    "slideshow": {
     "slide_type": "skip"
    }
   },
   "outputs": [
    {
     "data": {
      "image/png": "[encoded data removed]",
      "text/plain": [
       "<Figure size 432x288 with 1 Axes>"
      ]
     },
     "metadata": {
      "needs_background": "light"
     },
     "output_type": "display_data"
    }
   ],
   "source": [
    "plot_line()"
   ]
  },
  {
   "cell_type": "markdown",
   "metadata": {
    "slideshow": {
     "slide_type": "slide"
    }
   },
   "source": [
    "Learning is the automatic search for meaningful representations\n",
    "\n",
    "Possible transformations include rotations, translations, linear projections and nonlinear operations such as select all points with $x > 0$"
   ]
  },
  {
   "cell_type": "markdown",
   "metadata": {
    "slideshow": {
     "slide_type": "notes"
    }
   },
   "source": [
    "Machine learning can be understood as an automatic search for meaningful representations. Possible transformations include rotations, translations, linear projections and nonlinear operations such as select all points with x > 0."
   ]
  },
  {
   "cell_type": "code",
   "execution_count": 11,
   "metadata": {
    "slideshow": {
     "slide_type": "skip"
    }
   },
   "outputs": [],
   "source": [
    "def print_transformed():\n",
    "    for i in range(len(x)):\n",
    "        x_trans = np.cos(theta) * x[i] - np.sin(theta) * y[i]\n",
    "        y_trans = np.sin(theta) * x[i] + np.cos(theta) * y[i]\n",
    "        label = 'black' if x_trans > 0 else 'red'\n",
    "        print(f'{x_trans: 12.10f}', ', ', f'{y_trans: 12.10f}', '\\t', label,  sep='')"
   ]
  },
  {
   "cell_type": "code",
   "execution_count": 12,
   "metadata": {
    "slideshow": {
     "slide_type": "slide"
    }
   },
   "outputs": [
    {
     "name": "stdout",
     "output_type": "stream",
     "text": [
      "-0.6092634475,  0.3905910047\tred\n",
      "-0.4760474080,  0.7771958364\tred\n",
      "-0.0641053919,  0.2490294382\tred\n",
      "-0.4049130040,  0.8881330933\tred\n",
      "-0.0637152681,  0.7062894193\tred\n",
      " 0.9463571511, -0.2342194492\tblack\n",
      "-0.1901604122,  0.3937244810\tred\n",
      "-0.6586453309, -0.3032782690\tred\n",
      "-0.4167765276,  0.8865683475\tred\n",
      "-0.7986499936,  0.4993887973\tred\n",
      " 0.4193311606, -0.4784474103\tblack\n",
      " 0.2245951822,  0.3387964010\tblack\n",
      "-0.0993032726, -0.2262537490\tred\n",
      " 0.1096733612, -0.0999016492\tblack\n",
      "-0.3915136893, -0.0934141001\tred\n",
      "-0.2569483112, -0.0929517305\tred\n",
      "-0.7150164081,  0.5488160640\tred\n",
      " 0.3744518009,  0.8628182134\tblack\n",
      " 0.7804475608, -0.5611343490\tblack\n",
      "-0.0685633717,  0.5480466687\tred\n",
      " 0.9846461946,  0.1459609603\tblack\n",
      "-0.3128617847,  0.6225770229\tred\n",
      "-0.9554508794,  0.1009457801\tred\n",
      "-0.0410995697,  0.0691536785\tred\n",
      "-0.7118412598,  0.5214574000\tred\n",
      "-0.8640878027,  0.4582667359\tred\n",
      "-0.6780546257, -0.0895040941\tred\n",
      "-0.2033808512, -0.9604103996\tred\n",
      " 0.5190234354,  0.1418342941\tblack\n",
      "-0.6649456289,  0.2915806106\tred\n",
      " 0.8161053905, -0.5534214793\tblack\n",
      "-0.4744581127, -0.4542680068\tred\n",
      " 0.7869155625, -0.6029086369\tblack\n",
      " 0.2919797473, -0.6375746485\tblack\n",
      "-0.6396179636,  0.6076446157\tred\n",
      "-0.3471366730, -0.2029868885\tred\n",
      " 0.8347196429,  0.4188465295\tblack\n",
      " 0.5247342421,  0.6931698707\tblack\n",
      " 0.8857402349, -0.1897487503\tblack\n",
      "-0.4777157322,  0.6485300064\tred\n",
      " 0.5589537610, -0.5408597819\tblack\n",
      "-0.4842257276,  0.6661679948\tred\n",
      "-0.5966474817, -0.2715253151\tred\n",
      " 0.7418325121, -0.1310538845\tblack\n",
      "-0.7846672908, -0.1333998161\tred\n",
      " 0.9412968732, -0.3353053977\tblack\n",
      " 0.2601783642, -0.8541098247\tblack\n",
      "-0.5647487226,  0.4126191924\tred\n",
      "-0.7522273300,  0.3966899185\tred\n",
      "-0.5411042294, -0.4895440197\tred\n",
      "-0.1670925832,  0.7827385290\tred\n",
      "-0.0714224199, -0.7117293416\tred\n",
      " 0.7234194835,  0.0329846957\tblack\n",
      "-0.1794405188,  0.8068775945\tred\n",
      "-0.0484764564, -0.9500169461\tred\n",
      " 0.4055102134,  0.4579075326\tblack\n",
      "-0.1204046751,  0.2842987774\tred\n",
      "-0.2265452497,  0.9086244672\tred\n",
      "-0.4593386085,  0.2104936716\tred\n",
      "-0.3448116467, -0.0062539129\tred\n",
      "-0.7143502134, -0.6377931649\tred\n",
      " 0.8204223894, -0.4350091629\tblack\n",
      " 0.6725574960,  0.5091380776\tblack\n",
      " 0.1778963365,  0.7693085168\tblack\n",
      " 0.9386451553,  0.0757963035\tblack\n",
      "-0.1480054090, -0.2290426817\tred\n",
      "-0.4036929454, -0.7122813708\tred\n",
      " 0.1699215332,  0.6671264079\tblack\n",
      " 0.0384593902, -0.5933930251\tblack\n",
      " 0.3839098617, -0.9225045395\tblack\n",
      " 0.9176660006, -0.3422204131\tblack\n",
      "-0.7906283793,  0.3314548800\tred\n",
      "-0.8231570285, -0.2214416554\tred\n",
      "-0.4991442502,  0.4234670361\tred\n",
      "-0.1450366295, -0.8931801869\tred\n",
      "-0.8909008604,  0.2957421700\tred\n",
      " 0.7348253782,  0.1736733680\tblack\n",
      "-0.0283989882, -0.5308770993\tred\n",
      "-0.0774828534, -0.5985126352\tred\n",
      "-0.3031143607,  0.6337665490\tred\n",
      " 0.7247549849,  0.0515335044\tblack\n",
      "-0.1751896592,  0.1317157073\tred\n",
      "-0.1641073173,  0.5471824431\tred\n",
      " 0.5701030301,  0.1814919879\tblack\n",
      " 0.4691133229, -0.6199722299\tblack\n",
      "-0.1276036294, -0.8478624718\tred\n",
      "-0.0587675039,  0.8346690908\tred\n",
      " 0.0391437102,  0.5625172770\tblack\n",
      " 0.0624360887,  0.4977796569\tblack\n",
      "-0.0522456576, -0.6738085172\tred\n",
      "-0.2981985989,  0.8810013510\tred\n",
      " 0.0588964458,  0.8232707863\tblack\n",
      " 0.1083914373,  0.1578650152\tblack\n",
      " 0.7931434417,  0.5565367634\tblack\n",
      " 0.9168475894, -0.3985241184\tblack\n",
      " 0.3621340074, -0.2198065616\tblack\n",
      "-0.2491730971,  0.6173886993\tred\n",
      " 0.8388494286,  0.0746154981\tblack\n",
      "-0.3369816058,  0.7284339371\tred\n",
      "-0.0630013078, -0.5906981504\tred\n"
     ]
    }
   ],
   "source": [
    "print_transformed()"
   ]
  },
  {
   "cell_type": "markdown",
   "metadata": {
    "slideshow": {
     "slide_type": "notes"
    }
   },
   "source": [
    "The data is more meaningful because the label can be inferred directly from the x-coordinate."
   ]
  },
  {
   "cell_type": "markdown",
   "metadata": {
    "slideshow": {
     "slide_type": "slide"
    }
   },
   "source": [
    "The machine searches through a set of predefined operations \n",
    "\n",
    "It is guided by a feedback signal that depends on the mismatch between expectation and output"
   ]
  },
  {
   "cell_type": "markdown",
   "metadata": {
    "slideshow": {
     "slide_type": "notes"
    }
   },
   "source": [
    "The machine is restricted to a set of predefined but parameterised operations - in this case, linear transformations. The search for meaningful representations is guided by a feedback signal that depends on the mismatch between expectation and output."
   ]
  },
  {
   "cell_type": "markdown",
   "metadata": {
    "slideshow": {
     "slide_type": "slide"
    }
   },
   "source": [
    "This is machine learning\n",
    "\n",
    "But what is the deep in deep learning, and where are the neural networks?"
   ]
  },
  {
   "cell_type": "markdown",
   "metadata": {
    "slideshow": {
     "slide_type": "notes"
    }
   },
   "source": [
    "This is machine learning. But what is the deep in deep learning, and where in all this are the neural networks?"
   ]
  }
 ],
 "metadata": {
  "celltoolbar": "Slideshow",
  "kernelspec": {
   "display_name": "Python 3 (ipykernel)",
   "language": "python",
   "name": "python3"
  },
  "language_info": {
   "codemirror_mode": {
    "name": "ipython",
    "version": 3
   },
   "file_extension": ".py",
   "mimetype": "text/x-python",
   "name": "python",
   "nbconvert_exporter": "python",
   "pygments_lexer": "ipython3",
   "version": "3.7.7"
  },
  "rise": {
   "enable_chalkboard": true
  }
 },
 "nbformat": 4,
 "nbformat_minor": 4
}
