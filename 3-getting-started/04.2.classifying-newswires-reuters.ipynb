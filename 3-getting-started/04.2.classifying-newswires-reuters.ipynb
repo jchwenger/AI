{
 "cells": [
  {
   "cell_type": "markdown",
   "id": "2fe0d87f-7ff2-4e5a-826d-f79d8ff37546",
   "metadata": {
    "id": "446153c8"
   },
   "source": [
    "---\n",
    "\n",
    "# 4 Getting started with neural networks:\n",
    "\n",
    "# Classification and regression"
   ]
  },
  {
   "cell_type": "code",
   "execution_count": 1,
   "id": "080dfe6c",
   "metadata": {
    "id": "080dfe6c"
   },
   "outputs": [],
   "source": [
    "import os\n",
    "import numpy as np\n",
    "import tensorflow as tf\n",
    "\n",
    "import matplotlib.pyplot as plt\n",
    "plt.rcParams['lines.markersize'] = 3  # nice scatter point size\n",
    "\n",
    "from IPython.display import clear_output\n",
    "from IPython.display import YouTubeVideo\n",
    "\n",
    "os.environ['TF_CPP_MIN_LOG_LEVEL'] = '3' # mute some annoying warnings"
   ]
  },
  {
   "cell_type": "markdown",
   "id": "2e6c59eb-f94f-4635-aa6c-894de6c7be0c",
   "metadata": {
    "id": "2e6c59eb-f94f-4635-aa6c-894de6c7be0c"
   },
   "source": [
    "#### Binary classification: data → scalar (probability of *one* class)\n",
    "\n",
    "*\\\"Here is a photo, is it a cat or not?\" (Negative/Positive, detecting if something is there, etc.)*\n",
    "\n",
    "## * Multiclass classification: data → vector (distribution over *many classes*)\n",
    "\n",
    "*\\\"Here is a photo, multiple choice for you: is it a cat, a dog, an airplane, a flower, ... ?*\n",
    "\n",
    "#### Regression: data → scalar (a continuous value describing the data)\n",
    "\n",
    "*\\\"Here is a data about a house, what is its price)?* <small>☠️☠️☠️ *Logistic regression* (*classification problem*) ≠ *regression*!!</small>"
   ]
  },
  {
   "cell_type": "markdown",
   "id": "1850d81a-8b65-420b-a31f-aafecbdd66ee",
   "metadata": {
    "id": "f991dc97-bc31-42af-9f8f-1250a03516fe"
   },
   "source": [
    "---\n",
    "\n",
    "# 4.2 Classifying newswires: A multiclass classification example"
   ]
  },
  {
   "cell_type": "markdown",
   "id": "0b28511e-2c42-4e08-b62d-1c420c92ebf7",
   "metadata": {
    "id": "f991dc97-bc31-42af-9f8f-1250a03516fe",
    "jp-MarkdownHeadingCollapsed": true
   },
   "source": [
    "### 4.2.1 The Reuters dataset"
   ]
  },
  {
   "cell_type": "markdown",
   "id": "a96be8e4-6adf-460c-8b29-c9cece4821cf",
   "metadata": {
    "id": "a96be8e4-6adf-460c-8b29-c9cece4821cf"
   },
   "source": [
    "The reviews in the IMDB were either positive or negative.\n",
    "\n",
    "Single-label, two classes.\n",
    "\n",
    "Other classification tasks:\n",
    " - single-label, multiclass;\n",
    " - multi-label, multiclass."
   ]
  },
  {
   "cell_type": "markdown",
   "id": "363361c4-8b2c-49a8-84c2-4c678025a3d6",
   "metadata": {
    "id": "363361c4-8b2c-49a8-84c2-4c678025a3d6"
   },
   "source": [
    "Each newswire (short textual reports) in the Reuters dataset fits into **one of 46 possible classes**.\n",
    "\n",
    " - **single-label, multiclass;**\n",
    " - multi-label, multiclass."
   ]
  },
  {
   "cell_type": "markdown",
   "id": "b7d06982-4549-4397-828f-7da43bf9b634",
   "metadata": {},
   "source": [
    "### Code: loading the dataset"
   ]
  },
  {
   "cell_type": "code",
   "execution_count": 2,
   "id": "e8c90a42-759c-46ad-9a2d-ebf2716ed0cc",
   "metadata": {
    "colab": {
     "base_uri": "https://localhost:8080/"
    },
    "id": "e8c90a42-759c-46ad-9a2d-ebf2716ed0cc",
    "outputId": "7be83c40-cd71-4886-a822-79e3ac6479b8"
   },
   "outputs": [
    {
     "name": "stdout",
     "output_type": "stream",
     "text": [
      "(8982,) (2246,)\n"
     ]
    }
   ],
   "source": [
    "(train_data, train_labels,), (test_data, test_labels) = tf.keras.datasets.reuters.load_data(num_words=10000)\n",
    "print(train_data.shape, test_data.shape)"
   ]
  },
  {
   "cell_type": "code",
   "execution_count": 3,
   "id": "6200e3ca-732b-43c5-8915-0283ad2f4a55",
   "metadata": {
    "id": "6200e3ca-732b-43c5-8915-0283ad2f4a55"
   },
   "outputs": [],
   "source": [
    "def decode_wire(wire):\n",
    "    \"\"\"A helper function to decode a wire.\"\"\"\n",
    "    word_index = tf.keras.datasets.reuters.get_word_index()\n",
    "    reverse_word_index = {value:key for key,value in word_index.items()}\n",
    "    decoded_review = ' '.join([reverse_word_index.get(i - 3, '?') for i in wire])\n",
    "    return decoded_review"
   ]
  },
  {
   "cell_type": "code",
   "execution_count": 4,
   "id": "3fd2dfa1-a004-4923-a881-83c511717ae7",
   "metadata": {
    "id": "3fd2dfa1-a004-4923-a881-83c511717ae7"
   },
   "outputs": [],
   "source": [
    "# https://github.com/keras-team/keras/issues/12072\n",
    "# and here: https://martin-thoma.com/nlp-reuters/\n",
    "topics = [\n",
    "    'cocoa','grain','veg-oil','earn','acq','wheat','copper','housing','money-supply',\n",
    "    'coffee','sugar','trade','reserves','ship','cotton','carcass','crude','nat-gas',\n",
    "    'cpi','money-fx','interest','gnp','meal-feed','alum','oilseed','gold','tin',\n",
    "    'strategic-metal','livestock','retail','ipi','iron-steel','rubber','heat','jobs',\n",
    "    'lei','bop','zinc','orange','pet-chem','dlr','gas','silver','wpi','hog','lead'\n",
    "]"
   ]
  },
  {
   "cell_type": "markdown",
   "id": "353561c8-4c48-4cdb-bf8b-7ea9f3942744",
   "metadata": {
    "id": "afbf7f1d",
    "jp-MarkdownHeadingCollapsed": true
   },
   "source": [
    "#### Check one text"
   ]
  },
  {
   "cell_type": "code",
   "execution_count": 8,
   "id": "ad551ce5-0e57-46e3-8b23-5103f0f18710",
   "metadata": {
    "colab": {
     "base_uri": "https://localhost:8080/"
    },
    "id": "ad551ce5-0e57-46e3-8b23-5103f0f18710",
    "outputId": "7aed57e0-9d7a-40e6-bbc3-66ecacd0642b"
   },
   "outputs": [
    {
     "name": "stdout",
     "output_type": "stream",
     "text": [
      "? the great atlantic and pacific tea co said its three year 345 mln dlr capital program will be be substantially increased to ? growth and expansion plans for ? inc and ? inc over the next two years a and p said the acquisition of ? in august 1986 and ? in december helped us achieve better than expected results in the fourth quarter ended february 28 its net income from continuing operations jumped 52 6 pct to 20 7 mln dlrs or 55 cts a share in the latest quarter as sales increased 48 3 pct to 1 58 billion dlrs a and p gave no details on the expanded capital program but it did say it completed the first year of the program during 1986 a and p is 52 4 pct owned by lt ? ? of west germany reuter 3\n",
      "\n",
      "topic:  earn\n"
     ]
    }
   ],
   "source": [
    "print(decode_wire(test_data[0]))\n",
    "print()\n",
    "print('topic: ', topics[test_labels[0]])"
   ]
  },
  {
   "cell_type": "markdown",
   "id": "eabb9960-1389-4182-aeab-6ccbf64f5477",
   "metadata": {
    "id": "0da1d729-4711-460d-848c-f1becbde65ae"
   },
   "source": [
    "---\n",
    "\n",
    "## 4.2.2 Preparing the data"
   ]
  },
  {
   "cell_type": "markdown",
   "id": "912419f1-2749-4d86-b279-78edad7ff248",
   "metadata": {
    "id": "0da1d729-4711-460d-848c-f1becbde65ae"
   },
   "source": [
    "Data preprocessing follows the IMDB example.\n",
    "\n",
    "The sequences are **multi-hot** encoded, like before.\n",
    "\n",
    "The labels are also one-hot/categorically encoded."
   ]
  },
  {
   "cell_type": "markdown",
   "id": "dc21a2ac",
   "metadata": {
    "id": "dc21a2ac"
   },
   "source": [
    "#### Code: encode the samples"
   ]
  },
  {
   "cell_type": "code",
   "execution_count": 5,
   "id": "fb814436-7ae2-4f75-940d-5772d99abf01",
   "metadata": {
    "id": "fb814436-7ae2-4f75-940d-5772d99abf01"
   },
   "outputs": [],
   "source": [
    "def vectorize_sequences(sequences, dimension = 10000):\n",
    "    results = np.zeros((len(sequences), dimension))       # create an empty matrix of zeros\n",
    "    for i, sequence in enumerate(sequences):              # for each sequence\n",
    "        results[i, sequence] = 1.                         # at the `indices` of our words, add a 1.\n",
    "    return results\n",
    "\n",
    "x_train = vectorize_sequences(train_data)\n",
    "x_test = vectorize_sequences(test_data)\n",
    "\n",
    "y_train = np.asarray(train_labels).astype('float32')\n",
    "y_test = np.asarray(test_labels).astype('float32')"
   ]
  },
  {
   "cell_type": "code",
   "execution_count": 6,
   "id": "366b72a5",
   "metadata": {
    "colab": {
     "base_uri": "https://localhost:8080/"
    },
    "id": "366b72a5",
    "outputId": "142d8c4d-9f4a-44f9-d0e8-6686707d80d5"
   },
   "outputs": [
    {
     "name": "stdout",
     "output_type": "stream",
     "text": [
      "sequence length: 87\n",
      "[1, 2, 2, 8, 43, 10, 447, 5, 25, 207, 270, 5, 3095, 111, 16, 369, 186, 90, 67, 7, 89, 5, 19, 102, 6, 19, 124, 15, 90, 67, 84, 22, 482, 26, 7, 48, 4, 49, 8, 864, 39, 209, 154, 6, 151, 6, 83, 11, 15, 22, 155, 11, 15, 7, 48, 9, 4579, 1005, 504, 6, 258, 6, 272, 11, 15, 22, 134, 44, 11, 15, 16, 8, 197, 1245, 90, 67, 52, 29, 209, 30, 32, 132, 6, 109, 15, 17, 12]\n",
      "\n",
      "sequence length: 10000\n",
      "[0. 1. 1. ... 0. 0. 0.]\n"
     ]
    }
   ],
   "source": [
    "print(f\"sequence length: {len(train_data[0])}\")\n",
    "print(train_data[0])\n",
    "print()\n",
    "print(f\"sequence length: {len(x_train[0])}\")\n",
    "print(x_train[0]) # index = word, '1' means: the word was present (note: all order is dropped!)"
   ]
  },
  {
   "cell_type": "markdown",
   "id": "e0ea3ea6",
   "metadata": {
    "id": "e0ea3ea6"
   },
   "source": [
    "#### Code: encode the labels"
   ]
  },
  {
   "cell_type": "code",
   "execution_count": 7,
   "id": "e931252a-f037-4b11-ad62-1d885d31510b",
   "metadata": {
    "id": "e931252a-f037-4b11-ad62-1d885d31510b"
   },
   "outputs": [],
   "source": [
    "# one hot encoder for our labels\n",
    "one_hot_train_labels = tf.keras.utils.to_categorical(train_labels)\n",
    "one_hot_test_labels = tf.keras.utils.to_categorical(test_labels)"
   ]
  },
  {
   "cell_type": "code",
   "execution_count": 8,
   "id": "3c9651d8",
   "metadata": {
    "colab": {
     "base_uri": "https://localhost:8080/"
    },
    "id": "3c9651d8",
    "outputId": "30208d3c-6cc5-4330-8cfb-bc42e2f2499c"
   },
   "outputs": [
    {
     "name": "stdout",
     "output_type": "stream",
     "text": [
      "number of classes: 46\n",
      "\n",
      "label: 3\n",
      "\n",
      "one hot:\n",
      "[0. 0. 0. 1. 0. 0. 0. 0. 0. 0. 0. 0. 0. 0. 0. 0. 0. 0. 0. 0. 0. 0. 0. 0.\n",
      " 0. 0. 0. 0. 0. 0. 0. 0. 0. 0. 0. 0. 0. 0. 0. 0. 0. 0. 0. 0. 0. 0.]\n"
     ]
    }
   ],
   "source": [
    "print(f\"number of classes: {one_hot_train_labels.shape[1]}\")\n",
    "print()\n",
    "print(f\"label: {train_labels[0]}\")\n",
    "print()\n",
    "print(\"one hot:\")\n",
    "print(one_hot_train_labels[0])"
   ]
  },
  {
   "cell_type": "markdown",
   "id": "2a135b87-4cd9-4fbf-a8e0-05a34ec61d94",
   "metadata": {
    "id": "d104e640-4838-4ea9-b031-804981b7bede"
   },
   "source": [
    "---\n",
    "\n",
    "## 4.2.3 Building your model"
   ]
  },
  {
   "cell_type": "markdown",
   "id": "7e2c9bc5-89f3-40b5-8970-8551508e1158",
   "metadata": {},
   "source": [
    "### Our problem"
   ]
  },
  {
   "cell_type": "markdown",
   "id": "9b927f2a-88ce-4f02-85e5-bd175fced62c",
   "metadata": {
    "id": "d104e640-4838-4ea9-b031-804981b7bede"
   },
   "source": [
    "With 46 classes, the classification problem is more complex than the two class IMDB example.\n",
    "\n",
    "We used a 16 dimensional representational space for the intermediate IMDB layers.\n",
    "\n",
    "But 16 dimensions might be too small."
   ]
  },
  {
   "cell_type": "markdown",
   "id": "6bc13e50-4dd9-489c-ae84-f06a15f64078",
   "metadata": {
    "id": "6bc13e50-4dd9-489c-ae84-f06a15f64078"
   },
   "source": [
    "Information dropped by a layer can never be recovered – a potential **information bottleneck**.\n",
    "\n",
    "Therefore we need bigger layers (more units).\n",
    "\n",
    "Let's try 64 unit layers."
   ]
  },
  {
   "cell_type": "markdown",
   "id": "f7133d59-e30a-4df6-88a9-d0222b2c7fc6",
   "metadata": {},
   "source": [
    "### Loss & Final Layer"
   ]
  },
  {
   "cell_type": "markdown",
   "id": "8eae6a77",
   "metadata": {
    "id": "8eae6a77"
   },
   "source": [
    "We require that the network outputs a 46D vector; therefore the final layer must have 46 units.\n",
    "\n",
    "The layer should output the **probability of class membership**.\n",
    "\n",
    "For that we use our old friend the **softmax**."
   ]
  },
  {
   "cell_type": "markdown",
   "id": "9da234de-4bff-4c99-ba4f-b116480e19a4",
   "metadata": {
    "jp-MarkdownHeadingCollapsed": true
   },
   "source": [
    "#### Softmax"
   ]
  },
  {
   "cell_type": "markdown",
   "id": "61acbf47-a46d-4dce-9239-46193b1de245",
   "metadata": {
    "id": "61acbf47-a46d-4dce-9239-46193b1de245"
   },
   "source": [
    "The math, in case...\n",
    "\n",
    "$$\n",
    "\\bbox[5px,border:2px solid red]\n",
    "{\n",
    "\\text{softmax}(x_i) = \\frac{e^{x_i}}{\\sum_i e^{x_i}}\n",
    "}\n",
    "$$"
   ]
  },
  {
   "cell_type": "code",
   "execution_count": 13,
   "id": "1c70d87a-bee6-497f-b78a-3946bbb061c4",
   "metadata": {
    "colab": {
     "base_uri": "https://localhost:8080/",
     "height": 314
    },
    "id": "1c70d87a-bee6-497f-b78a-3946bbb061c4",
    "outputId": "7d461fae-755c-4166-96aa-4f853054bb09"
   },
   "outputs": [
    {
     "name": "stderr",
     "output_type": "stream",
     "text": [
      "WARNING: All log messages before absl::InitializeLog() is called are written to STDERR\n",
      "I0000 00:00:1729068543.012762 12470967 service.cc:146] XLA service 0x600001b04500 initialized for platform Host (this does not guarantee that XLA will be used). Devices:\n",
      "I0000 00:00:1729068543.013546 12470967 service.cc:154]   StreamExecutor device (0): Host, Default Version\n"
     ]
    },
    {
     "data": {
      "image/png": "[encoded data removed]",
      "text/plain": [
       "<Figure size 1600x300 with 2 Axes>"
      ]
     },
     "metadata": {},
     "output_type": "display_data"
    }
   ],
   "source": [
    "nums = tf.random.uniform(shape=(46,)) * 10              # 46 random numbers\n",
    "probs = tf.nn.softmax(nums)                             # turned into probabilities\n",
    "\n",
    "fig, (ax1, ax2) = plt.subplots(1,2, sharex=True, figsize=(16,3))\n",
    "ax1.bar([str(x) for x in range(nums.shape[0])], nums)   # our ten numbers\n",
    "ax1.set_title(\"46 random numbers\")\n",
    "ax2.bar([str(x) for x in range(probs.shape[0])], probs) # plot the probabilities\n",
    "ax2.set_title(\"(Random) probabilities\")\n",
    "ax2.set_ylim([0,1])\n",
    "plt.show()"
   ]
  },
  {
   "cell_type": "markdown",
   "id": "3f90e964-21db-4bb5-baa1-f5d539ff9313",
   "metadata": {
    "id": "0193d6d0",
    "jp-MarkdownHeadingCollapsed": true
   },
   "source": [
    "#### Categorical Cross-Entropy"
   ]
  },
  {
   "cell_type": "markdown",
   "id": "552cbc9f-0e03-4650-9eb8-9c109e245c2d",
   "metadata": {
    "id": "0193d6d0"
   },
   "source": [
    "What does the categorical cross-entropy loss do?\n",
    "\n",
    "$$\n",
    "\\bbox[5px,border:2px solid red]\n",
    "{\n",
    "H(p,q)=-\\sum _{x}p(x)\\,\\log q(x)\n",
    "}\n",
    "$$\n",
    "\n",
    "$H$: relative entropy, what we're actually measuring  \n",
    "$p$: true probability (our labels)  \n",
    "$q$: model probability (our guesses)\n",
    "\n",
    "- the ground truth will be multiplied with our probabilities\n",
    "- all terms except the correct class (label 1) become zero\n",
    "- the last remaining term is just $ - \\log(q(x_{true})) = - \\log(guessed\\ probability\\ of\\ true\\ label)$\n",
    "\n",
    "See Aurélien Géron's video on Cross-Entropy is in the reference!"
   ]
  },
  {
   "cell_type": "code",
   "execution_count": 17,
   "id": "adc28684",
   "metadata": {
    "colab": {
     "base_uri": "https://localhost:8080/",
     "height": 468
    },
    "id": "adc28684",
    "outputId": "57138200-b2fc-4188-9c7a-36e1a631e0de"
   },
   "outputs": [
    {
     "data": {
      "image/png": "[encoded data removed]",
      "text/plain": [
       "<Figure size 1200x500 with 2 Axes>"
      ]
     },
     "metadata": {},
     "output_type": "display_data"
    }
   ],
   "source": [
    "probs = tf.nn.softmax(nums)\n",
    "random_label = np.zeros(probs.shape)                             # a random label with 1 at the index of the correct class\n",
    "random_label[np.random.randint(0,random_label.shape[0])] = 1\n",
    "\n",
    "fig, (ax1, ax2) = plt.subplots(2,1, sharex=True, figsize=(12,5))\n",
    "ax1.bar([str(x) for x in range(nums.shape[0])], random_label)   # our ten numbers\n",
    "ax1.set_title(\"Ground truth label\")\n",
    "ax1.set_ylim([0,1])\n",
    "ax2.bar([str(x) for x in range(probs.shape[0])], probs) # plot the probabilities\n",
    "ax2.set_title(\"Our probabilities\")\n",
    "ax2.set_ylim([0,1])\n",
    "plt.show()"
   ]
  },
  {
   "cell_type": "code",
   "execution_count": 18,
   "id": "b787564a-bbb7-4706-9d08-f617e3248e2a",
   "metadata": {
    "colab": {
     "base_uri": "https://localhost:8080/",
     "height": 468
    },
    "id": "b787564a-bbb7-4706-9d08-f617e3248e2a",
    "outputId": "a1d57301-b356-462c-dee5-7e06937b8479"
   },
   "outputs": [
    {
     "data": {
      "image/png": "[encoded data removed]",
      "text/plain": [
       "<Figure size 1200x500 with 2 Axes>"
      ]
     },
     "metadata": {},
     "output_type": "display_data"
    }
   ],
   "source": [
    "fig, (ax1, ax2) = plt.subplots(2,1, sharex=True, figsize=(12,5))\n",
    "ax1.bar([str(x) for x in range(nums.shape[0])], random_label)   # our ten numbers\n",
    "ax1.set_title(\"Ground truth label\")\n",
    "ax1.set_ylim([0,1])\n",
    "ax2.bar([str(x) for x in range(probs.shape[0])], probs * random_label) # plot the probabilities\n",
    "ax2.set_title(\"All probabilities set to zero except for the correct one\")\n",
    "ax2.set_ylim([0,1])\n",
    "plt.show()"
   ]
  },
  {
   "cell_type": "markdown",
   "id": "36634749-255d-4620-a280-a99cc1334fd3",
   "metadata": {},
   "source": [
    "### Code: build the model"
   ]
  },
  {
   "cell_type": "code",
   "execution_count": 28,
   "id": "ad2a38eb-3383-4279-b0e7-2ef944f8afa9",
   "metadata": {
    "colab": {
     "base_uri": "https://localhost:8080/",
     "height": 232
    },
    "id": "ad2a38eb-3383-4279-b0e7-2ef944f8afa9",
    "outputId": "4c41881a-199c-471f-d61a-4f8198497870"
   },
   "outputs": [
    {
     "data": {
      "text/html": [
       "<pre style=\"white-space:pre;overflow-x:auto;line-height:normal;font-family:Menlo,'DejaVu Sans Mono',consolas,'Courier New',monospace\"><span style=\"font-weight: bold\">Model: \"sequential_2\"</span>\n",
       "</pre>\n"
      ],
      "text/plain": [
       "\u001b[1mModel: \"sequential_2\"\u001b[0m\n"
      ]
     },
     "metadata": {},
     "output_type": "display_data"
    },
    {
     "data": {
      "text/html": [
       "<pre style=\"white-space:pre;overflow-x:auto;line-height:normal;font-family:Menlo,'DejaVu Sans Mono',consolas,'Courier New',monospace\">┏━━━━━━━━━━━━━━━━━━━━━━━━━━━━━━━━━┳━━━━━━━━━━━━━━━━━━━━━━━━┳━━━━━━━━━━━━━━━┓\n",
       "┃<span style=\"font-weight: bold\"> Layer (type)                    </span>┃<span style=\"font-weight: bold\"> Output Shape           </span>┃<span style=\"font-weight: bold\">       Param # </span>┃\n",
       "┡━━━━━━━━━━━━━━━━━━━━━━━━━━━━━━━━━╇━━━━━━━━━━━━━━━━━━━━━━━━╇━━━━━━━━━━━━━━━┩\n",
       "│ dense_6 (<span style=\"color: #0087ff; text-decoration-color: #0087ff\">Dense</span>)                 │ (<span style=\"color: #00d7ff; text-decoration-color: #00d7ff\">None</span>, <span style=\"color: #00af00; text-decoration-color: #00af00\">64</span>)             │       <span style=\"color: #00af00; text-decoration-color: #00af00\">640,064</span> │\n",
       "├─────────────────────────────────┼────────────────────────┼───────────────┤\n",
       "│ dense_7 (<span style=\"color: #0087ff; text-decoration-color: #0087ff\">Dense</span>)                 │ (<span style=\"color: #00d7ff; text-decoration-color: #00d7ff\">None</span>, <span style=\"color: #00af00; text-decoration-color: #00af00\">64</span>)             │         <span style=\"color: #00af00; text-decoration-color: #00af00\">4,160</span> │\n",
       "├─────────────────────────────────┼────────────────────────┼───────────────┤\n",
       "│ dense_8 (<span style=\"color: #0087ff; text-decoration-color: #0087ff\">Dense</span>)                 │ (<span style=\"color: #00d7ff; text-decoration-color: #00d7ff\">None</span>, <span style=\"color: #00af00; text-decoration-color: #00af00\">46</span>)             │         <span style=\"color: #00af00; text-decoration-color: #00af00\">2,990</span> │\n",
       "└─────────────────────────────────┴────────────────────────┴───────────────┘\n",
       "</pre>\n"
      ],
      "text/plain": [
       "┏━━━━━━━━━━━━━━━━━━━━━━━━━━━━━━━━━┳━━━━━━━━━━━━━━━━━━━━━━━━┳━━━━━━━━━━━━━━━┓\n",
       "┃\u001b[1m \u001b[0m\u001b[1mLayer (type)                   \u001b[0m\u001b[1m \u001b[0m┃\u001b[1m \u001b[0m\u001b[1mOutput Shape          \u001b[0m\u001b[1m \u001b[0m┃\u001b[1m \u001b[0m\u001b[1m      Param #\u001b[0m\u001b[1m \u001b[0m┃\n",
       "┡━━━━━━━━━━━━━━━━━━━━━━━━━━━━━━━━━╇━━━━━━━━━━━━━━━━━━━━━━━━╇━━━━━━━━━━━━━━━┩\n",
       "│ dense_6 (\u001b[38;5;33mDense\u001b[0m)                 │ (\u001b[38;5;45mNone\u001b[0m, \u001b[38;5;34m64\u001b[0m)             │       \u001b[38;5;34m640,064\u001b[0m │\n",
       "├─────────────────────────────────┼────────────────────────┼───────────────┤\n",
       "│ dense_7 (\u001b[38;5;33mDense\u001b[0m)                 │ (\u001b[38;5;45mNone\u001b[0m, \u001b[38;5;34m64\u001b[0m)             │         \u001b[38;5;34m4,160\u001b[0m │\n",
       "├─────────────────────────────────┼────────────────────────┼───────────────┤\n",
       "│ dense_8 (\u001b[38;5;33mDense\u001b[0m)                 │ (\u001b[38;5;45mNone\u001b[0m, \u001b[38;5;34m46\u001b[0m)             │         \u001b[38;5;34m2,990\u001b[0m │\n",
       "└─────────────────────────────────┴────────────────────────┴───────────────┘\n"
      ]
     },
     "metadata": {},
     "output_type": "display_data"
    },
    {
     "data": {
      "text/html": [
       "<pre style=\"white-space:pre;overflow-x:auto;line-height:normal;font-family:Menlo,'DejaVu Sans Mono',consolas,'Courier New',monospace\"><span style=\"font-weight: bold\"> Total params: </span><span style=\"color: #00af00; text-decoration-color: #00af00\">647,214</span> (2.47 MB)\n",
       "</pre>\n"
      ],
      "text/plain": [
       "\u001b[1m Total params: \u001b[0m\u001b[38;5;34m647,214\u001b[0m (2.47 MB)\n"
      ]
     },
     "metadata": {},
     "output_type": "display_data"
    },
    {
     "data": {
      "text/html": [
       "<pre style=\"white-space:pre;overflow-x:auto;line-height:normal;font-family:Menlo,'DejaVu Sans Mono',consolas,'Courier New',monospace\"><span style=\"font-weight: bold\"> Trainable params: </span><span style=\"color: #00af00; text-decoration-color: #00af00\">647,214</span> (2.47 MB)\n",
       "</pre>\n"
      ],
      "text/plain": [
       "\u001b[1m Trainable params: \u001b[0m\u001b[38;5;34m647,214\u001b[0m (2.47 MB)\n"
      ]
     },
     "metadata": {},
     "output_type": "display_data"
    },
    {
     "data": {
      "text/html": [
       "<pre style=\"white-space:pre;overflow-x:auto;line-height:normal;font-family:Menlo,'DejaVu Sans Mono',consolas,'Courier New',monospace\"><span style=\"font-weight: bold\"> Non-trainable params: </span><span style=\"color: #00af00; text-decoration-color: #00af00\">0</span> (0.00 B)\n",
       "</pre>\n"
      ],
      "text/plain": [
       "\u001b[1m Non-trainable params: \u001b[0m\u001b[38;5;34m0\u001b[0m (0.00 B)\n"
      ]
     },
     "metadata": {},
     "output_type": "display_data"
    }
   ],
   "source": [
    "model = tf.keras.models.Sequential()\n",
    "model.add(tf.keras.Input((10000,)))\n",
    "model.add(tf.keras.layers.Dense(64, activation='relu'))\n",
    "model.add(tf.keras.layers.Dense(64, activation='relu'))\n",
    "model.add(tf.keras.layers.Dense(46, activation='softmax')) # ← ACTIVATION & as many units as we have classes!\n",
    "\n",
    "model.summary()"
   ]
  },
  {
   "cell_type": "markdown",
   "id": "e3f43ce0-36af-4ed8-a884-54fd3ea6e31e",
   "metadata": {
    "id": "b723e4d5",
    "jp-MarkdownHeadingCollapsed": true
   },
   "source": [
    "#### Note: calculating the number of parameters"
   ]
  },
  {
   "cell_type": "markdown",
   "id": "82309813-b169-4dc6-8bc0-8ec103316622",
   "metadata": {
    "id": "b723e4d5"
   },
   "source": [
    "$$\n",
    "\\bbox[5px,border:2px solid red]\n",
    "{\n",
    "\\mathrm{number\\ of\\ params\\ per\\ layer} = \\underbrace{\\mathrm{input\\ dim} \\times \\mathrm{number\\ of\\ units}}_{\\mathrm{weights\\ matrix}}\n",
    "+\n",
    "\\underbrace{\\mathrm{number\\ of\\ units}}_{\\mathrm{bias\\ vector}}\n",
    "}\n",
    "$$"
   ]
  },
  {
   "cell_type": "code",
   "execution_count": 20,
   "id": "6405bf83-fcc3-41ab-8eef-6236f90b3656",
   "metadata": {
    "colab": {
     "base_uri": "https://localhost:8080/"
    },
    "id": "6405bf83-fcc3-41ab-8eef-6236f90b3656",
    "outputId": "4520a680-e00e-447b-9a18-e08e0e80357b"
   },
   "outputs": [
    {
     "name": "stdout",
     "output_type": "stream",
     "text": [
      "layer \t (in, units) \t bias\n",
      "0 \t (10000, 64) \t (64,)\n",
      "1 \t (64, 64) \t (64,)\n",
      "2 \t (64, 46) \t (46,)\n"
     ]
    }
   ],
   "source": [
    "# The weight and bias tensors\n",
    "def print_layer_tensor_shape(layer):\n",
    "    weight_params, bias_params = model.layers[layer].get_weights()\n",
    "    print(layer, \"\\t\", weight_params.shape, \"\\t\", bias_params.shape)\n",
    "\n",
    "print(\"layer\", \"\\t\", \"(in, units)\", \"\\t\", \"bias\")\n",
    "print_layer_tensor_shape(layer=0)\n",
    "print_layer_tensor_shape(layer=1)\n",
    "print_layer_tensor_shape(layer=2)"
   ]
  },
  {
   "cell_type": "code",
   "execution_count": 21,
   "id": "3a9b9432-936f-431f-bb84-db390b6394bb",
   "metadata": {
    "colab": {
     "base_uri": "https://localhost:8080/"
    },
    "id": "3a9b9432-936f-431f-bb84-db390b6394bb",
    "outputId": "b6d77450-1f9c-42ca-d14c-5bd9abe4d9dc"
   },
   "outputs": [
    {
     "name": "stdout",
     "output_type": "stream",
     "text": [
      "647,214\n"
     ]
    }
   ],
   "source": [
    "print(f\"{(10000 * 64 + 64) + (64 * 64 + 64) + (64 * 46 + 46):,}\") # same as above"
   ]
  },
  {
   "cell_type": "markdown",
   "id": "736d8185-21f5-4acf-8213-fb0f8a2fce7e",
   "metadata": {},
   "source": [
    "### Code: compilation"
   ]
  },
  {
   "cell_type": "code",
   "execution_count": 29,
   "id": "cd7d7817-7322-4469-951d-796f5e3cb6b8",
   "metadata": {
    "id": "cd7d7817-7322-4469-951d-796f5e3cb6b8"
   },
   "outputs": [],
   "source": [
    "model.compile(\n",
    "    optimizer='rmsprop',\n",
    "    loss='categorical_crossentropy', # one label out of multiple choices\n",
    "    metrics=['accuracy']\n",
    ")"
   ]
  },
  {
   "cell_type": "markdown",
   "id": "eb667c27-b613-4f43-8f66-fbf22eeb2608",
   "metadata": {
    "id": "3d3150af",
    "jp-MarkdownHeadingCollapsed": true
   },
   "source": [
    "## Before training: commonsense baseline / evaluate untrained model"
   ]
  },
  {
   "cell_type": "markdown",
   "id": "b43aef86-8267-4f2a-b398-9383d45b6d7e",
   "metadata": {
    "id": "3d3150af"
   },
   "source": [
    "### Random baseline"
   ]
  },
  {
   "cell_type": "markdown",
   "id": "f083f0e6-fe29-4b02-9f32-e9a39c204466",
   "metadata": {
    "id": "3d3150af",
    "jp-MarkdownHeadingCollapsed": true
   },
   "source": [
    "What would be a **random baseline**?\n",
    "\n",
    "We assume all our classes have the same probability of happening, which, in our case, means that **there are the same amount of samples per class in our dataset**:\n",
    "\n",
    "$$\n",
    "\\bbox[5px,border:2px solid red] {\n",
    "p_{class} = \\frac{1}{n\\_classes}\n",
    "}\n",
    "$$"
   ]
  },
  {
   "cell_type": "code",
   "execution_count": 87,
   "id": "bbef1559-9909-40ad-accd-1e03630863cd",
   "metadata": {},
   "outputs": [
    {
     "name": "stdout",
     "output_type": "stream",
     "text": [
      "A random baseline (assuming a balanced dataset with 46 classes) is: 0.021739130434782608\n"
     ]
    }
   ],
   "source": [
    "print(\"A random baseline (assuming a balanced dataset with 46 classes) is:\", 1/46)"
   ]
  },
  {
   "cell_type": "markdown",
   "id": "956e0423-3e82-4c01-bee6-dbdfda53c0e5",
   "metadata": {},
   "source": [
    "#### Sanity checks"
   ]
  },
  {
   "cell_type": "code",
   "execution_count": 11,
   "id": "17d6f535",
   "metadata": {
    "colab": {
     "base_uri": "https://localhost:8080/"
    },
    "id": "17d6f535",
    "outputId": "98c937b4-ba0d-4a8f-9e59-eb23d23447a9"
   },
   "outputs": [
    {
     "name": "stdout",
     "output_type": "stream",
     "text": [
      "0.022707034728406055\n"
     ]
    }
   ],
   "source": [
    "attempts = []\n",
    "for test in test_labels: # ↓ a random number between 0 and 45\n",
    "    attempts.append(np.random.randint(46) == test)\n",
    "print(np.mean(attempts))"
   ]
  },
  {
   "cell_type": "code",
   "execution_count": 12,
   "id": "6978ab67",
   "metadata": {
    "colab": {
     "base_uri": "https://localhost:8080/"
    },
    "id": "6978ab67",
    "outputId": "295ff16f-52eb-4abf-95a6-f3878540f98b"
   },
   "outputs": [
    {
     "name": "stdout",
     "output_type": "stream",
     "text": [
      "1000/1000\n",
      "0.02160106856634016\n"
     ]
    }
   ],
   "source": [
    "# This was just one random run... Why not try this many times over?\n",
    "many_attempts = []\n",
    "n = 1000\n",
    "for i in range(n):\n",
    "    clear_output(wait=True)\n",
    "    print(f\"{i+1}/{n}\")\n",
    "    attempts = []\n",
    "    for test in test_labels:\n",
    "        attempts.append(np.random.randint(46) == test)\n",
    "    many_attempts.append(np.mean(attempts))\n",
    "print(np.mean(many_attempts))"
   ]
  },
  {
   "cell_type": "markdown",
   "id": "3112c9bb-6966-4880-a83c-07f10d86b035",
   "metadata": {
    "id": "128ee794"
   },
   "source": [
    "### 'Neural' baseline: our untrained model"
   ]
  },
  {
   "cell_type": "markdown",
   "id": "47f89ad4-9ee5-4b5a-a0b0-94db72da945c",
   "metadata": {
    "id": "128ee794"
   },
   "source": [
    "Most randomly initialized models will perform worse than this..."
   ]
  },
  {
   "cell_type": "code",
   "execution_count": 31,
   "id": "c9b28abc",
   "metadata": {
    "colab": {
     "base_uri": "https://localhost:8080/"
    },
    "id": "c9b28abc",
    "outputId": "4a62a818-5828-47f4-f4ad-373e765f64e4"
   },
   "outputs": [
    {
     "name": "stdout",
     "output_type": "stream",
     "text": [
      "test loss: 3.8405895233154297, test accuracy: 0.014247551560401917\n"
     ]
    }
   ],
   "source": [
    "results = model.evaluate(x_test, one_hot_test_labels, verbose=0) # our untrained model\n",
    "print(f\"test loss: {results[0]}, test accuracy: {results[1]}\")"
   ]
  },
  {
   "cell_type": "markdown",
   "id": "5af0d744-2a96-4273-8963-0891395e9efe",
   "metadata": {},
   "source": [
    "#### Want more precision? Random runs..."
   ]
  },
  {
   "cell_type": "code",
   "execution_count": 90,
   "id": "785b6db8",
   "metadata": {
    "id": "785b6db8"
   },
   "outputs": [
    {
     "name": "stdout",
     "output_type": "stream",
     "text": [
      "10/10\n",
      "\n",
      "test loss: 3.834512233734131, test accuracy: 0.02199465725570917\n"
     ]
    }
   ],
   "source": [
    "# Again, just one random run... You could be obsessive and try this many times...\n",
    "\n",
    "if True: # change to True to run\n",
    "    attempts = []\n",
    "    n = 10 # could be more\n",
    "    for i in range(n):\n",
    "        clear_output(wait=True)\n",
    "        print(f\"{i+1}/{n}\")\n",
    "        tf.keras.backend.clear_session()\n",
    "        dummy_model = tf.keras.models.Sequential()\n",
    "        dummy_model.add(tf.keras.Input((10000,)))\n",
    "        dummy_model.add(tf.keras.layers.Dense(64, activation='relu'))\n",
    "        dummy_model.add(tf.keras.layers.Dense(64, activation='relu'))\n",
    "        dummy_model.add(tf.keras.layers.Dense(46, activation='softmax'))\n",
    "\n",
    "        dummy_model.compile(\n",
    "            optimizer='rmsprop',\n",
    "            loss='categorical_crossentropy', # one label out of multiple choices\n",
    "            metrics=['accuracy']\n",
    "        )\n",
    "\n",
    "        results = dummy_model.evaluate(x_test, one_hot_test_labels, verbose=0)\n",
    "        attempts.append(results)\n",
    "\n",
    "    results = np.array(attempts).mean(axis=0) # average along loss and accuracy respectively\n",
    "    print()\n",
    "    print(f\"test loss: {results[0]}, test accuracy: {results[1]}\")"
   ]
  },
  {
   "cell_type": "markdown",
   "id": "8172298f-4834-4ca7-a13c-75319f816614",
   "metadata": {
    "id": "aba900d4"
   },
   "source": [
    "### Commonsense baseline for unbalanced datasets?"
   ]
  },
  {
   "attachments": {},
   "cell_type": "markdown",
   "id": "c471663e-e1b1-4345-8893-811a15049571",
   "metadata": {
    "id": "aba900d4"
   },
   "source": [
    "We use the probability of **the most frequent** class instead of a random guess.\n",
    "\n",
    "Predicting the most common class in an unbalanced dataset **will do better** than a plain random guess...\n",
    "\n",
    "Namely: \"The most common class is X. Let's only predict X, and see how wrong we are (overall).\"\n",
    "\n",
    "*Take a coin toss: if you know that the coin is biased towards head, 80% of the time, you can just predict head only and expect to win 80%  of the time!*"
   ]
  },
  {
   "cell_type": "code",
   "execution_count": 20,
   "id": "865c8e64",
   "metadata": {
    "colab": {
     "base_uri": "https://localhost:8080/"
    },
    "id": "865c8e64",
    "outputId": "57b432e9-b815-4db4-c5af-04c244f3c340"
   },
   "outputs": [
    {
     "name": "stdout",
     "output_type": "stream",
     "text": [
      "The most prevalent class is: 3, occurring 813 times (total: 2246),  probability: 0.361977.\n"
     ]
    }
   ],
   "source": [
    "totals = np.zeros(46)\n",
    "for i in range(len(test_labels)): # counting how many examples we have\n",
    "    totals[test_labels[i]] += 1   # of each class by looping and incrementing\n",
    "indx = np.argmax(totals)\n",
    "\n",
    "msg =  f\"The most prevalent class is: {indx}, occurring {totals[indx]:.0f} times \"\n",
    "msg += f\"(total: {test_labels.shape[0]}),  probability: {totals[indx]/test_labels.shape[0]:.6f}.\"\n",
    "print(msg)                                               # ↑ number of occurrences / total"
   ]
  },
  {
   "cell_type": "code",
   "execution_count": 93,
   "id": "de09d00d",
   "metadata": {
    "colab": {
     "base_uri": "https://localhost:8080/"
    },
    "id": "de09d00d",
    "outputId": "bc21a2cf-5304-4255-f81d-9b0cc0fbcdcd"
   },
   "outputs": [
    {
     "data": {
      "text/plain": [
       "3"
      ]
     },
     "execution_count": 93,
     "metadata": {},
     "output_type": "execute_result"
    }
   ],
   "source": [
    "# Note: we could also use a counter:\n",
    "from collections import Counter\n",
    "c = Counter(test_labels)\n",
    "c.most_common(n=1)[0][0] # ← you could ask for the n most common items"
   ]
  },
  {
   "cell_type": "code",
   "execution_count": 88,
   "id": "fda8aded",
   "metadata": {
    "colab": {
     "base_uri": "https://localhost:8080/"
    },
    "id": "fda8aded",
    "outputId": "e59f9edb-d56e-4f9f-9049-389f0960e93f"
   },
   "outputs": [
    {
     "name": "stdout",
     "output_type": "stream",
     "text": [
      "The accuracy baseline to beat (if we predict the most prevalent class): 0.3619768477292965\n"
     ]
    }
   ],
   "source": [
    "# a plain loop will give us the same result\n",
    "attempts = []\n",
    "for test in test_labels: # only predict the most prevalent class\n",
    "    attempts.append(indx == test)\n",
    "print(f\"The accuracy baseline to beat (if we predict the most prevalent class):\", np.mean(attempts))"
   ]
  },
  {
   "cell_type": "markdown",
   "id": "f4961957-0c8e-4c92-91ea-e28f5a58d70a",
   "metadata": {
    "id": "f4961957-0c8e-4c92-91ea-e28f5a58d70a"
   },
   "source": [
    "---\n",
    "\n",
    "## 4.2.4 Validating your approach"
   ]
  },
  {
   "cell_type": "markdown",
   "id": "46974ad4-7516-49dd-a436-d597b7f4385b",
   "metadata": {},
   "source": [
    "### Code: train"
   ]
  },
  {
   "cell_type": "code",
   "execution_count": 32,
   "id": "74cb7a4e",
   "metadata": {
    "id": "74cb7a4e"
   },
   "outputs": [],
   "source": [
    "# split into train and evaluation\n",
    "x_val = x_train[:1000]\n",
    "partial_x_train = x_train[1000:]\n",
    "\n",
    "y_val = one_hot_train_labels[:1000]\n",
    "partial_y_train = one_hot_train_labels[1000:]"
   ]
  },
  {
   "cell_type": "code",
   "execution_count": 33,
   "id": "3903dca3-cf7f-4021-9a5a-f540d0101937",
   "metadata": {
    "colab": {
     "base_uri": "https://localhost:8080/"
    },
    "id": "3903dca3-cf7f-4021-9a5a-f540d0101937",
    "outputId": "60ea5ddc-f919-4659-b33d-e10831470667"
   },
   "outputs": [
    {
     "name": "stdout",
     "output_type": "stream",
     "text": [
      "Epoch 1/20\n",
      "\u001b[1m16/16\u001b[0m \u001b[32m━━━━━━━━━━━━━━━━━━━━\u001b[0m\u001b[37m\u001b[0m \u001b[1m6s\u001b[0m 229ms/step - accuracy: 0.3398 - loss: 3.1143 - val_accuracy: 0.5980 - val_loss: 1.8411\n",
      "Epoch 2/20\n",
      "\u001b[1m16/16\u001b[0m \u001b[32m━━━━━━━━━━━━━━━━━━━━\u001b[0m\u001b[37m\u001b[0m \u001b[1m1s\u001b[0m 19ms/step - accuracy: 0.6498 - loss: 1.6286 - val_accuracy: 0.6810 - val_loss: 1.3847\n",
      "Epoch 3/20\n",
      "\u001b[1m16/16\u001b[0m \u001b[32m━━━━━━━━━━━━━━━━━━━━\u001b[0m\u001b[37m\u001b[0m \u001b[1m0s\u001b[0m 15ms/step - accuracy: 0.7346 - loss: 1.2140 - val_accuracy: 0.7340 - val_loss: 1.1983\n",
      "Epoch 4/20\n",
      "\u001b[1m16/16\u001b[0m \u001b[32m━━━━━━━━━━━━━━━━━━━━\u001b[0m\u001b[37m\u001b[0m \u001b[1m0s\u001b[0m 23ms/step - accuracy: 0.7862 - loss: 1.0096 - val_accuracy: 0.7800 - val_loss: 1.0710\n",
      "Epoch 5/20\n",
      "\u001b[1m16/16\u001b[0m \u001b[32m━━━━━━━━━━━━━━━━━━━━\u001b[0m\u001b[37m\u001b[0m \u001b[1m1s\u001b[0m 26ms/step - accuracy: 0.8258 - loss: 0.8167 - val_accuracy: 0.7860 - val_loss: 0.9983\n",
      "Epoch 6/20\n",
      "\u001b[1m16/16\u001b[0m \u001b[32m━━━━━━━━━━━━━━━━━━━━\u001b[0m\u001b[37m\u001b[0m \u001b[1m1s\u001b[0m 26ms/step - accuracy: 0.8537 - loss: 0.6855 - val_accuracy: 0.8000 - val_loss: 0.9578\n",
      "Epoch 7/20\n",
      "\u001b[1m16/16\u001b[0m \u001b[32m━━━━━━━━━━━━━━━━━━━━\u001b[0m\u001b[37m\u001b[0m \u001b[1m0s\u001b[0m 27ms/step - accuracy: 0.8787 - loss: 0.5705 - val_accuracy: 0.8170 - val_loss: 0.9002\n",
      "Epoch 8/20\n",
      "\u001b[1m16/16\u001b[0m \u001b[32m━━━━━━━━━━━━━━━━━━━━\u001b[0m\u001b[37m\u001b[0m \u001b[1m1s\u001b[0m 40ms/step - accuracy: 0.9012 - loss: 0.4711 - val_accuracy: 0.8110 - val_loss: 0.8784\n",
      "Epoch 9/20\n",
      "\u001b[1m16/16\u001b[0m \u001b[32m━━━━━━━━━━━━━━━━━━━━\u001b[0m\u001b[37m\u001b[0m \u001b[1m1s\u001b[0m 42ms/step - accuracy: 0.9205 - loss: 0.3983 - val_accuracy: 0.8190 - val_loss: 0.8708\n",
      "Epoch 10/20\n",
      "\u001b[1m16/16\u001b[0m \u001b[32m━━━━━━━━━━━━━━━━━━━━\u001b[0m\u001b[37m\u001b[0m \u001b[1m1s\u001b[0m 35ms/step - accuracy: 0.9245 - loss: 0.3494 - val_accuracy: 0.8200 - val_loss: 0.8579\n",
      "Epoch 11/20\n",
      "\u001b[1m16/16\u001b[0m \u001b[32m━━━━━━━━━━━━━━━━━━━━\u001b[0m\u001b[37m\u001b[0m \u001b[1m1s\u001b[0m 35ms/step - accuracy: 0.9356 - loss: 0.2967 - val_accuracy: 0.8270 - val_loss: 0.8602\n",
      "Epoch 12/20\n",
      "\u001b[1m16/16\u001b[0m \u001b[32m━━━━━━━━━━━━━━━━━━━━\u001b[0m\u001b[37m\u001b[0m \u001b[1m1s\u001b[0m 31ms/step - accuracy: 0.9450 - loss: 0.2527 - val_accuracy: 0.8040 - val_loss: 0.9042\n",
      "Epoch 13/20\n",
      "\u001b[1m16/16\u001b[0m \u001b[32m━━━━━━━━━━━━━━━━━━━━\u001b[0m\u001b[37m\u001b[0m \u001b[1m1s\u001b[0m 30ms/step - accuracy: 0.9517 - loss: 0.2246 - val_accuracy: 0.8190 - val_loss: 0.8787\n",
      "Epoch 14/20\n",
      "\u001b[1m16/16\u001b[0m \u001b[32m━━━━━━━━━━━━━━━━━━━━\u001b[0m\u001b[37m\u001b[0m \u001b[1m0s\u001b[0m 21ms/step - accuracy: 0.9521 - loss: 0.2008 - val_accuracy: 0.8110 - val_loss: 0.8994\n",
      "Epoch 15/20\n",
      "\u001b[1m16/16\u001b[0m \u001b[32m━━━━━━━━━━━━━━━━━━━━\u001b[0m\u001b[37m\u001b[0m \u001b[1m0s\u001b[0m 18ms/step - accuracy: 0.9532 - loss: 0.1776 - val_accuracy: 0.8130 - val_loss: 0.9271\n",
      "Epoch 16/20\n",
      "\u001b[1m16/16\u001b[0m \u001b[32m━━━━━━━━━━━━━━━━━━━━\u001b[0m\u001b[37m\u001b[0m \u001b[1m1s\u001b[0m 19ms/step - accuracy: 0.9529 - loss: 0.1783 - val_accuracy: 0.8270 - val_loss: 0.8744\n",
      "Epoch 17/20\n",
      "\u001b[1m16/16\u001b[0m \u001b[32m━━━━━━━━━━━━━━━━━━━━\u001b[0m\u001b[37m\u001b[0m \u001b[1m1s\u001b[0m 17ms/step - accuracy: 0.9587 - loss: 0.1513 - val_accuracy: 0.8270 - val_loss: 0.8785\n",
      "Epoch 18/20\n",
      "\u001b[1m16/16\u001b[0m \u001b[32m━━━━━━━━━━━━━━━━━━━━\u001b[0m\u001b[37m\u001b[0m \u001b[1m1s\u001b[0m 14ms/step - accuracy: 0.9577 - loss: 0.1424 - val_accuracy: 0.8160 - val_loss: 0.9171\n",
      "Epoch 19/20\n",
      "\u001b[1m16/16\u001b[0m \u001b[32m━━━━━━━━━━━━━━━━━━━━\u001b[0m\u001b[37m\u001b[0m \u001b[1m0s\u001b[0m 14ms/step - accuracy: 0.9603 - loss: 0.1374 - val_accuracy: 0.8040 - val_loss: 0.9882\n",
      "Epoch 20/20\n",
      "\u001b[1m16/16\u001b[0m \u001b[32m━━━━━━━━━━━━━━━━━━━━\u001b[0m\u001b[37m\u001b[0m \u001b[1m0s\u001b[0m 15ms/step - accuracy: 0.9630 - loss: 0.1220 - val_accuracy: 0.8180 - val_loss: 0.9562\n"
     ]
    }
   ],
   "source": [
    "history = model.fit(\n",
    "    partial_x_train,\n",
    "    partial_y_train,\n",
    "    epochs = 20,\n",
    "    batch_size = 512,\n",
    "    validation_data = (x_val, y_val) # ← validation!\n",
    ")"
   ]
  },
  {
   "cell_type": "markdown",
   "id": "81d78d2b-a658-4c2b-9e6f-e69f3c09d4c4",
   "metadata": {},
   "source": [
    "### Code: plot & automatic best epoch extraction"
   ]
  },
  {
   "cell_type": "code",
   "execution_count": 34,
   "id": "f8110db1-7b38-4d54-ba95-6b0e992cca6a",
   "metadata": {
    "colab": {
     "base_uri": "https://localhost:8080/"
    },
    "id": "f8110db1-7b38-4d54-ba95-6b0e992cca6a",
    "outputId": "5d68495a-2192-433b-f0e7-c9ec33be7fc7"
   },
   "outputs": [
    {
     "data": {
      "text/plain": [
       "dict_keys(['accuracy', 'loss', 'val_accuracy', 'val_loss'])"
      ]
     },
     "execution_count": 34,
     "metadata": {},
     "output_type": "execute_result"
    }
   ],
   "source": [
    "history.history.keys() # Training and validation loss and accuracy are saved in the history object"
   ]
  },
  {
   "cell_type": "code",
   "execution_count": 35,
   "id": "3b598a61",
   "metadata": {
    "id": "3b598a61"
   },
   "outputs": [],
   "source": [
    "def plot_epochs(y_train, y_validation, title, y_label):\n",
    "    x = range(1, len(y_train) + 1)\n",
    "    plt.clf()\n",
    "    plt.plot(x, y_train, \"bo\", label = \"training\")\n",
    "    plt.plot(x, y_validation, \"b\", label = \"validation\")\n",
    "    if y_label == \"Loss\":\n",
    "        x_overfitting = np.argmin(y_validation)\n",
    "        plt.text(x_overfitting + 1,\n",
    "                 y_validation[x_overfitting] + y_validation[x_overfitting]/10,\n",
    "                 f\"↓ min: epoch {x_overfitting + 1}\")\n",
    "    elif y_label == \"Accuracy\":\n",
    "        x_overfitting = np.argmax(y_validation)\n",
    "        plt.text(x_overfitting + 1,\n",
    "                 y_validation[x_overfitting] - y_validation[x_overfitting]/20,\n",
    "                 f\"↑ max: epoch {x_overfitting + 1}\")\n",
    "    plt.title(title)\n",
    "    plt.ylabel(y_label)\n",
    "    plt.xlabel(\"Epochs\")\n",
    "    plt.xlim(xmin=0)\n",
    "    plt.legend()\n",
    "    plt.show()"
   ]
  },
  {
   "cell_type": "code",
   "execution_count": 36,
   "id": "f11d6290-ba8f-4697-a0bb-26c5a133441d",
   "metadata": {
    "id": "f11d6290-ba8f-4697-a0bb-26c5a133441d"
   },
   "outputs": [],
   "source": [
    "loss = history.history['loss']\n",
    "val_loss = history.history['val_loss']\n",
    "acc = history.history['accuracy']\n",
    "val_acc = history.history['val_accuracy']"
   ]
  },
  {
   "cell_type": "code",
   "execution_count": 37,
   "id": "b4469424",
   "metadata": {
    "colab": {
     "base_uri": "https://localhost:8080/"
    },
    "id": "b4469424",
    "outputId": "65779828-6378-48d3-bee7-0ace49a08587",
    "scrolled": true
   },
   "outputs": [
    {
     "name": "stdout",
     "output_type": "stream",
     "text": [
      "Smallest val loss at epoch 10: 0.857914924621582\n"
     ]
    }
   ],
   "source": [
    "print(f\"Smallest val loss at epoch {np.argmin(val_loss) + 1}: {np.min(val_loss)}\")"
   ]
  },
  {
   "cell_type": "code",
   "execution_count": 38,
   "id": "5d440167",
   "metadata": {
    "colab": {
     "base_uri": "https://localhost:8080/",
     "height": 472
    },
    "id": "5d440167",
    "outputId": "ecddb854-fe52-4baf-dde8-53ed302905b5"
   },
   "outputs": [
    {
     "data": {
      "image/png": "[encoded data removed]",
      "text/plain": [
       "<Figure size 640x480 with 1 Axes>"
      ]
     },
     "metadata": {},
     "output_type": "display_data"
    }
   ],
   "source": [
    "plot_epochs(\n",
    "    loss, val_loss,\n",
    "    title='Training and validation loss',\n",
    "    y_label='Loss'\n",
    ")"
   ]
  },
  {
   "cell_type": "code",
   "execution_count": 39,
   "id": "d80e0d36",
   "metadata": {
    "colab": {
     "base_uri": "https://localhost:8080/"
    },
    "id": "d80e0d36",
    "outputId": "e222f1f0-c922-462d-c239-451b86d5c3a3",
    "scrolled": true
   },
   "outputs": [
    {
     "name": "stdout",
     "output_type": "stream",
     "text": [
      "Higest val accuracy at epoch 11: 0.8270000219345093\n"
     ]
    }
   ],
   "source": [
    "print(f\"Higest val accuracy at epoch {np.argmax(val_acc) + 1}: {np.max(val_acc)}\")"
   ]
  },
  {
   "cell_type": "code",
   "execution_count": 40,
   "id": "505b166f-248c-4353-8a9c-f1cc14a513b5",
   "metadata": {
    "colab": {
     "base_uri": "https://localhost:8080/",
     "height": 472
    },
    "id": "505b166f-248c-4353-8a9c-f1cc14a513b5",
    "outputId": "ce44ba38-7ba1-4e3a-e9ed-2852e3b47694"
   },
   "outputs": [
    {
     "data": {
      "image/png": "[encoded data removed]",
      "text/plain": [
       "<Figure size 640x480 with 1 Axes>"
      ]
     },
     "metadata": {},
     "output_type": "display_data"
    }
   ],
   "source": [
    "plot_epochs(\n",
    "    acc, val_acc,\n",
    "    title='Training and validation accuracy',\n",
    "    y_label='Accuracy'\n",
    ")"
   ]
  },
  {
   "cell_type": "markdown",
   "id": "fc07fbcf",
   "metadata": {
    "id": "fc07fbcf"
   },
   "source": [
    "### Code: early stopping – retrain on whole training data up until the overfitting starts"
   ]
  },
  {
   "cell_type": "code",
   "execution_count": 41,
   "id": "df14736b-bdef-402d-b4fd-3c3b85040e7c",
   "metadata": {
    "colab": {
     "base_uri": "https://localhost:8080/"
    },
    "id": "df14736b-bdef-402d-b4fd-3c3b85040e7c",
    "outputId": "f113633e-ddba-4eb5-c8b6-827aeec04594"
   },
   "outputs": [
    {
     "name": "stdout",
     "output_type": "stream",
     "text": [
      "Epoch 1/11\n",
      "\u001b[1m18/18\u001b[0m \u001b[32m━━━━━━━━━━━━━━━━━━━━\u001b[0m\u001b[37m\u001b[0m \u001b[1m3s\u001b[0m 80ms/step - accuracy: 0.4108 - loss: 3.1612\n",
      "Epoch 2/11\n",
      "\u001b[1m18/18\u001b[0m \u001b[32m━━━━━━━━━━━━━━━━━━━━\u001b[0m\u001b[37m\u001b[0m \u001b[1m0s\u001b[0m 18ms/step - accuracy: 0.6637 - loss: 1.5857\n",
      "Epoch 3/11\n",
      "\u001b[1m18/18\u001b[0m \u001b[32m━━━━━━━━━━━━━━━━━━━━\u001b[0m\u001b[37m\u001b[0m \u001b[1m0s\u001b[0m 19ms/step - accuracy: 0.7401 - loss: 1.1941\n",
      "Epoch 4/11\n",
      "\u001b[1m18/18\u001b[0m \u001b[32m━━━━━━━━━━━━━━━━━━━━\u001b[0m\u001b[37m\u001b[0m \u001b[1m0s\u001b[0m 20ms/step - accuracy: 0.7945 - loss: 0.9464\n",
      "Epoch 5/11\n",
      "\u001b[1m18/18\u001b[0m \u001b[32m━━━━━━━━━━━━━━━━━━━━\u001b[0m\u001b[37m\u001b[0m \u001b[1m1s\u001b[0m 17ms/step - accuracy: 0.8322 - loss: 0.7912\n",
      "Epoch 6/11\n",
      "\u001b[1m18/18\u001b[0m \u001b[32m━━━━━━━━━━━━━━━━━━━━\u001b[0m\u001b[37m\u001b[0m \u001b[1m0s\u001b[0m 14ms/step - accuracy: 0.8569 - loss: 0.6561\n",
      "Epoch 7/11\n",
      "\u001b[1m18/18\u001b[0m \u001b[32m━━━━━━━━━━━━━━━━━━━━\u001b[0m\u001b[37m\u001b[0m \u001b[1m0s\u001b[0m 12ms/step - accuracy: 0.8795 - loss: 0.5543\n",
      "Epoch 8/11\n",
      "\u001b[1m18/18\u001b[0m \u001b[32m━━━━━━━━━━━━━━━━━━━━\u001b[0m\u001b[37m\u001b[0m \u001b[1m0s\u001b[0m 12ms/step - accuracy: 0.8991 - loss: 0.4739\n",
      "Epoch 9/11\n",
      "\u001b[1m18/18\u001b[0m \u001b[32m━━━━━━━━━━━━━━━━━━━━\u001b[0m\u001b[37m\u001b[0m \u001b[1m0s\u001b[0m 13ms/step - accuracy: 0.9145 - loss: 0.4013\n",
      "Epoch 10/11\n",
      "\u001b[1m18/18\u001b[0m \u001b[32m━━━━━━━━━━━━━━━━━━━━\u001b[0m\u001b[37m\u001b[0m \u001b[1m0s\u001b[0m 12ms/step - accuracy: 0.9271 - loss: 0.3323\n",
      "Epoch 11/11\n",
      "\u001b[1m18/18\u001b[0m \u001b[32m━━━━━━━━━━━━━━━━━━━━\u001b[0m\u001b[37m\u001b[0m \u001b[1m0s\u001b[0m 13ms/step - accuracy: 0.9398 - loss: 0.2929\n"
     ]
    }
   ],
   "source": [
    "tf.keras.backend.clear_session()\n",
    "\n",
    "model = tf.keras.models.Sequential()\n",
    "model.add(tf.keras.Input((10000,)))\n",
    "model.add(tf.keras.layers.Dense(64, activation=\"relu\"))\n",
    "model.add(tf.keras.layers.Dense(64, activation=\"relu\"))\n",
    "model.add(tf.keras.layers.Dense(46, activation=\"softmax\"))\n",
    "\n",
    "model.compile(\n",
    "    optimizer=\"rmsprop\",\n",
    "    loss=\"categorical_crossentropy\",\n",
    "    metrics=[\"accuracy\"]\n",
    ")\n",
    "\n",
    "history=model.fit(\n",
    "    x_train,                        # ← retrain on whole train dataset\n",
    "    one_hot_train_labels,\n",
    "    epochs=np.argmax(val_acc) + 1,  # ← use the index of our maximum validation accuracy as max epoch\n",
    "    batch_size=512\n",
    ")"
   ]
  },
  {
   "cell_type": "markdown",
   "id": "747a7a7b",
   "metadata": {
    "id": "747a7a7b"
   },
   "source": [
    "### Code: evaluate on the test set"
   ]
  },
  {
   "cell_type": "code",
   "execution_count": 42,
   "id": "a46a4288-03cf-4cb4-881b-cf46ffa6ecc2",
   "metadata": {
    "colab": {
     "base_uri": "https://localhost:8080/"
    },
    "id": "a46a4288-03cf-4cb4-881b-cf46ffa6ecc2",
    "outputId": "d09cbe10-faa8-4b9f-b07f-034709e99097"
   },
   "outputs": [
    {
     "name": "stdout",
     "output_type": "stream",
     "text": [
      "test loss: 0.9072009921073914, test accuracy: 0.7934104800224304\n"
     ]
    }
   ],
   "source": [
    "results = model.evaluate(x_test, one_hot_test_labels, verbose=0)\n",
    "\n",
    "print(f\"test loss: {results[0]}, test accuracy: {results[1]}\")"
   ]
  },
  {
   "cell_type": "markdown",
   "id": "8e223c7e-bbac-482f-b22c-98f43a8870cc",
   "metadata": {
    "id": "3650e43b-3f35-4667-8d3e-80c7fc3cda42"
   },
   "source": [
    "---\n",
    "\n",
    "## 4.2.5 Generating prediction on new data"
   ]
  },
  {
   "cell_type": "markdown",
   "id": "f5fdbfb1-41d0-4660-9f6c-71772cfcc31a",
   "metadata": {
    "id": "3650e43b-3f35-4667-8d3e-80c7fc3cda42"
   },
   "source": [
    "Let's get back to our trained model.\n",
    "\n",
    "The predictions and labels for the first 10 wires in the test set."
   ]
  },
  {
   "cell_type": "code",
   "execution_count": 43,
   "id": "377b5d69-7db8-4934-b643-5a8ef7f3d028",
   "metadata": {
    "colab": {
     "base_uri": "https://localhost:8080/"
    },
    "id": "377b5d69-7db8-4934-b643-5a8ef7f3d028",
    "outputId": "eb5be848-8be6-4c36-fc6f-db1fa79ee10c"
   },
   "outputs": [
    {
     "name": "stdout",
     "output_type": "stream",
     "text": [
      "wire \t pred \t label \t correct?\n",
      "0 \t 3 \t 3 \t True\n",
      "1 \t 10 \t 10 \t True\n",
      "2 \t 1 \t 1 \t True\n",
      "3 \t 16 \t 4 \t False\n",
      "4 \t 13 \t 4 \t False\n",
      "5 \t 3 \t 3 \t True\n",
      "6 \t 3 \t 3 \t True\n",
      "7 \t 3 \t 3 \t True\n",
      "8 \t 3 \t 3 \t True\n",
      "9 \t 3 \t 3 \t True\n"
     ]
    }
   ],
   "source": [
    "predictions = model.predict(x_test, verbose=0)\n",
    "print('wire', '\\t', 'pred', '\\t', 'label', '\\t', 'correct?')\n",
    "for i in range(10):\n",
    "    print(i, '\\t', np.argmax(predictions[i]), '\\t', test_labels[i], '\\t', np.argmax(predictions[i]) == test_labels[i])"
   ]
  },
  {
   "cell_type": "markdown",
   "id": "d0549d8c-4fcb-4d57-a46b-80a55224d4c9",
   "metadata": {
    "id": "452fab47"
   },
   "source": [
    "It would be nice to have a more concrete idea of where our network got it wrong, wouldn't it?"
   ]
  },
  {
   "cell_type": "code",
   "execution_count": 44,
   "id": "c160b8ed-50e0-4a71-ac0b-326385e38b83",
   "metadata": {
    "id": "c160b8ed-50e0-4a71-ac0b-326385e38b83"
   },
   "outputs": [],
   "source": [
    "def indices_of_wrong_predictions():\n",
    "    indices = []\n",
    "    for i in range(len(x_test)):\n",
    "        y_pred = np.argmax(predictions[i])\n",
    "        if(y_pred != test_labels[i]):\n",
    "            indices.append(i)\n",
    "    return indices"
   ]
  },
  {
   "cell_type": "code",
   "execution_count": 45,
   "id": "d51cdc06-d7dd-489b-a2c4-3672722ec3fe",
   "metadata": {
    "id": "d51cdc06-d7dd-489b-a2c4-3672722ec3fe"
   },
   "outputs": [],
   "source": [
    "def misprediction(i):\n",
    "    wrongs = indices_of_wrong_predictions()\n",
    "    print(f\"Wire n° {i}/{len(wrongs)}\")\n",
    "    try:\n",
    "        oops = wrongs[i]\n",
    "        pred = np.argmax(predictions[oops])\n",
    "        print(f\"predicted: {topics[pred]}, label: {topics[test_labels[oops]]}\")\n",
    "        print()\n",
    "        print(decode_wire(test_data[oops]))\n",
    "    except:\n",
    "        print(f\"Oops, your index was {i} and the max is {len(wrongs)}\")"
   ]
  },
  {
   "cell_type": "code",
   "execution_count": 46,
   "id": "55ddc573-0129-4f03-8792-72bfe8358018",
   "metadata": {
    "colab": {
     "base_uri": "https://localhost:8080/"
    },
    "id": "55ddc573-0129-4f03-8792-72bfe8358018",
    "outputId": "7844496b-48fd-44da-8cb4-7e8c8c65e642"
   },
   "outputs": [
    {
     "name": "stdout",
     "output_type": "stream",
     "text": [
      "Wire n° 1/464\n",
      "predicted: ship, label: acq\n",
      "\n",
      "? strong south ? winds were keeping many vessels trapped in the ice off the finnish and swedish coasts in one of the worst icy periods in the baltic for many years the finnish board of navigation said in finland and sweden up to 50 vessels were reported to be stuck in the ice and even the largest of the ? ? were having difficulties in breaking through to the ? ships ? officials said however icy conditions in the southern baltic at the soviet oil ports of ? and ? had eased they said weather officials in neighbouring sweden said the icy conditions in the baltic were the worst for 30 years with ships fighting a losing battle to keep moving in the coastal stretches of the gulf of ? which ? finland and sweden the ice is up to one ? thick with ? and ? packing it into almost ? walls three metres high swedish ? officials said weather forecasts say winds may ease during the weekend but a further drop in temperature could bring shipping to a standstill the officials said reuter 3\n"
     ]
    }
   ],
   "source": [
    "misprediction(1) # the second mistaken prediction..."
   ]
  },
  {
   "cell_type": "code",
   "execution_count": 47,
   "id": "e0678532-5080-4ee3-80b5-3e81264ac906",
   "metadata": {
    "colab": {
     "base_uri": "https://localhost:8080/"
    },
    "id": "e0678532-5080-4ee3-80b5-3e81264ac906",
    "outputId": "501b610b-c872-4153-f100-bda81bdaefb8"
   },
   "outputs": [
    {
     "name": "stdout",
     "output_type": "stream",
     "text": [
      "Wire n° 11/464\n",
      "predicted: earn, label: gnp\n",
      "\n",
      "? the japanese economy has bottomed out after an extended period of ? finance minister kiichi miyazawa told a press conference but he said he was not too optimistic about the state of the economy as the employment situation was still ? in certain regions of the country yesterday the finance ministry said its quarterly corporate survey showed that the economy was showing increasing signs of recovery reuter 3\n"
     ]
    }
   ],
   "source": [
    "misprediction(11) # and another one..."
   ]
  },
  {
   "cell_type": "markdown",
   "id": "c74e12c5-25be-4a5e-91f9-12bb98cc9f8c",
   "metadata": {
    "id": "153a606e-45a4-481c-bd14-9ec776589160",
    "jp-MarkdownHeadingCollapsed": true
   },
   "source": [
    "---\n",
    "\n",
    "## 4.2.6 A different way to handle the labels and the loss"
   ]
  },
  {
   "cell_type": "markdown",
   "id": "5b02588d-2309-4ac1-9fab-5adad705c99a",
   "metadata": {
    "id": "153a606e-45a4-481c-bd14-9ec776589160"
   },
   "source": [
    "One-hot encoding takes a lot of memory, and is very sparse (zeros everywhere).\n",
    "\n",
    "Instead of that, we could cast the labels as integer tensors, simply storing the right index."
   ]
  },
  {
   "cell_type": "code",
   "execution_count": 48,
   "id": "4b603e26-baf2-4ff7-bb7d-f343e6a4c8fa",
   "metadata": {
    "colab": {
     "base_uri": "https://localhost:8080/"
    },
    "id": "4b603e26-baf2-4ff7-bb7d-f343e6a4c8fa",
    "outputId": "d97839dc-a2d5-4d3a-a6ee-af1c78974d26"
   },
   "outputs": [
    {
     "name": "stdout",
     "output_type": "stream",
     "text": [
      "[ 3  4  3  4  4  4  4  3  3 16] int64\n"
     ]
    }
   ],
   "source": [
    "y_train_sparse = np.array(train_labels) # cast as int\n",
    "y_test_sparse = np.array(test_labels)\n",
    "print(y_train_sparse[:10], y_train_sparse.dtype)"
   ]
  },
  {
   "cell_type": "markdown",
   "id": "fede84fe-30ae-4735-a253-914e88e02e36",
   "metadata": {
    "id": "fede84fe-30ae-4735-a253-914e88e02e36"
   },
   "source": [
    "Everything else remains the same, except for the choice of loss function.\n",
    "\n",
    "Use `sparse_categorical_crossentropy` with integer labels: instead of a one-hot vector with the label at index i, you just provide i as an integer.\n",
    "\n",
    "**Sparse** refers to the fact that we encode the same amount of information as a big matrix full of zeros (one-hot) into a vector of integers, much more compact!\n",
    "\n",
    "(Actually, the new loss function is the same as `categorical_crossentropy` – the programming interface has changed, that's all)."
   ]
  },
  {
   "cell_type": "code",
   "execution_count": 49,
   "id": "e74659a1-6b3b-40de-8020-2227efe589d6",
   "metadata": {
    "id": "e74659a1-6b3b-40de-8020-2227efe589d6"
   },
   "outputs": [],
   "source": [
    "tf.keras.backend.clear_session()\n",
    "\n",
    "model = tf.keras.models.Sequential()\n",
    "model.add(tf.keras.Input((10000,)))\n",
    "model.add(tf.keras.layers.Dense(64, activation=\"relu\"))\n",
    "model.add(tf.keras.layers.Dense(64, activation=\"relu\"))\n",
    "model.add(tf.keras.layers.Dense(46, activation=\"softmax\"))\n",
    "\n",
    "model.compile(\n",
    "    optimizer='rmsprop',\n",
    "        # ↓ instead of 'categorical_crossentropy'\n",
    "    loss='sparse_categorical_crossentropy',\n",
    "        # ↑ -------------------------------------\n",
    "    metrics=['acc']\n",
    ")"
   ]
  },
  {
   "cell_type": "code",
   "execution_count": 50,
   "id": "b8f48c5e",
   "metadata": {
    "colab": {
     "base_uri": "https://localhost:8080/"
    },
    "id": "b8f48c5e",
    "outputId": "8db34952-05f8-4370-fb9e-4c37438f616d"
   },
   "outputs": [
    {
     "name": "stdout",
     "output_type": "stream",
     "text": [
      "Epoch 1/10\n",
      "\u001b[1m18/18\u001b[0m \u001b[32m━━━━━━━━━━━━━━━━━━━━\u001b[0m\u001b[37m\u001b[0m \u001b[1m2s\u001b[0m 44ms/step - acc: 0.4177 - loss: 3.1719\n",
      "Epoch 2/10\n",
      "\u001b[1m18/18\u001b[0m \u001b[32m━━━━━━━━━━━━━━━━━━━━\u001b[0m\u001b[37m\u001b[0m \u001b[1m1s\u001b[0m 14ms/step - acc: 0.6771 - loss: 1.5353\n",
      "Epoch 3/10\n",
      "\u001b[1m18/18\u001b[0m \u001b[32m━━━━━━━━━━━━━━━━━━━━\u001b[0m\u001b[37m\u001b[0m \u001b[1m0s\u001b[0m 13ms/step - acc: 0.7582 - loss: 1.1318\n",
      "Epoch 4/10\n",
      "\u001b[1m18/18\u001b[0m \u001b[32m━━━━━━━━━━━━━━━━━━━━\u001b[0m\u001b[37m\u001b[0m \u001b[1m0s\u001b[0m 12ms/step - acc: 0.8029 - loss: 0.9204\n",
      "Epoch 5/10\n",
      "\u001b[1m18/18\u001b[0m \u001b[32m━━━━━━━━━━━━━━━━━━━━\u001b[0m\u001b[37m\u001b[0m \u001b[1m0s\u001b[0m 11ms/step - acc: 0.8336 - loss: 0.7802\n",
      "Epoch 6/10\n",
      "\u001b[1m18/18\u001b[0m \u001b[32m━━━━━━━━━━━━━━━━━━━━\u001b[0m\u001b[37m\u001b[0m \u001b[1m0s\u001b[0m 12ms/step - acc: 0.8655 - loss: 0.6321\n",
      "Epoch 7/10\n",
      "\u001b[1m18/18\u001b[0m \u001b[32m━━━━━━━━━━━━━━━━━━━━\u001b[0m\u001b[37m\u001b[0m \u001b[1m0s\u001b[0m 13ms/step - acc: 0.8901 - loss: 0.5073\n",
      "Epoch 8/10\n",
      "\u001b[1m18/18\u001b[0m \u001b[32m━━━━━━━━━━━━━━━━━━━━\u001b[0m\u001b[37m\u001b[0m \u001b[1m0s\u001b[0m 16ms/step - acc: 0.9061 - loss: 0.4391\n",
      "Epoch 9/10\n",
      "\u001b[1m18/18\u001b[0m \u001b[32m━━━━━━━━━━━━━━━━━━━━\u001b[0m\u001b[37m\u001b[0m \u001b[1m0s\u001b[0m 16ms/step - acc: 0.9240 - loss: 0.3649\n",
      "Epoch 10/10\n",
      "\u001b[1m18/18\u001b[0m \u001b[32m━━━━━━━━━━━━━━━━━━━━\u001b[0m\u001b[37m\u001b[0m \u001b[1m0s\u001b[0m 16ms/step - acc: 0.9331 - loss: 0.3001\n"
     ]
    }
   ],
   "source": [
    "history = model.fit(\n",
    "    x_train,         # the same x_train as before\n",
    "    y_train_sparse,  # integers instead of one-hot vectors\n",
    "    epochs=np.argmin(val_loss) + 1,\n",
    "    batch_size=512,\n",
    ")"
   ]
  },
  {
   "cell_type": "code",
   "execution_count": 51,
   "id": "8fc809e6-0c99-464e-85d3-cdf89e9f625a",
   "metadata": {
    "colab": {
     "base_uri": "https://localhost:8080/"
    },
    "id": "8fc809e6-0c99-464e-85d3-cdf89e9f625a",
    "outputId": "240fe3f1-51f7-4c0d-b23e-fd6323cf52a5"
   },
   "outputs": [
    {
     "name": "stdout",
     "output_type": "stream",
     "text": [
      "\n",
      "\u001b[1m71/71\u001b[0m \u001b[32m━━━━━━━━━━━━━━━━━━━━\u001b[0m\u001b[37m\u001b[0m \u001b[1m2s\u001b[0m 9ms/step - acc: 0.7991 - loss: 0.9060\n"
     ]
    }
   ],
   "source": [
    "results = model.evaluate(x_test, y_test_sparse)"
   ]
  },
  {
   "cell_type": "markdown",
   "id": "3724a420-e3f8-4b89-8019-5a686fd5642d",
   "metadata": {
    "id": "09a137a5-30be-4ef5-97dd-ba5231daa12e"
   },
   "source": [
    "---\n",
    "\n",
    "## 4.2.7 The importance of having sufficiently large intermediate layers\n",
    "\n",
    "## (+ Modular programming!)"
   ]
  },
  {
   "cell_type": "markdown",
   "id": "e6cb2a3d-19a1-425a-8c75-b87c72c3a0dc",
   "metadata": {
    "id": "09a137a5-30be-4ef5-97dd-ba5231daa12e"
   },
   "source": [
    "The final layer has 46 units.\n",
    "\n",
    "Intermediate layers of fewer than 46 units might cause an information bottleneck.\n",
    "\n",
    "Explore the consequence of a very small intermediate representation – just 4D."
   ]
  },
  {
   "cell_type": "markdown",
   "id": "b3fc236a-fafb-4016-93a7-9de48604f5c0",
   "metadata": {
    "id": "e76724c8"
   },
   "source": [
    "### Code: modular programming – a build function"
   ]
  },
  {
   "cell_type": "markdown",
   "id": "02562e35-86e5-4f9b-ac57-10e388e59743",
   "metadata": {
    "id": "e76724c8"
   },
   "source": [
    "A network building function for decluttering notebooks and ease of experimentation. The size of each layer – number of units – is passed as function arguments."
   ]
  },
  {
   "cell_type": "code",
   "execution_count": 52,
   "id": "96450622-64fc-465f-8f38-21b407306cf1",
   "metadata": {
    "id": "96450622-64fc-465f-8f38-21b407306cf1"
   },
   "outputs": [],
   "source": [
    "def build(layer_1, layer_2, layer_3, clear=True):\n",
    "    if clear: # by default, I clear the memory of previous models\n",
    "        tf.keras.backend.clear_session()\n",
    "    model = tf.keras.models.Sequential()\n",
    "    model.add(tf.keras.Input((10000,)))\n",
    "    model.add(tf.keras.layers.Dense(layer_1, activation='relu'))    # ← IDEA FOR COURSEWORK: rewrite this\n",
    "    model.add(tf.keras.layers.Dense(layer_2, activation='relu'))    # as a loop allowing you to build\n",
    "    model.add(tf.keras.layers.Dense(layer_3, activation='softmax')) # models with variable depths straight\n",
    "    model.compile(                                                  # from the function's arguments...\n",
    "        optimizer='rmsprop',\n",
    "        loss='categorical_crossentropy',\n",
    "        metrics=['accuracy']\n",
    "    )\n",
    "    return model"
   ]
  },
  {
   "cell_type": "markdown",
   "id": "7d61702f-8257-45a4-a8b8-6cb0c719c062",
   "metadata": {
    "id": "65c460f9"
   },
   "source": [
    "### Code: modular programming – a train function"
   ]
  },
  {
   "cell_type": "markdown",
   "id": "43764e8b-ce99-4db7-aea5-0410bb07d800",
   "metadata": {
    "id": "65c460f9"
   },
   "source": [
    "A training function. This function could be modified to include training hyperparameters as function parameters."
   ]
  },
  {
   "cell_type": "code",
   "execution_count": 53,
   "id": "02c1a901-8562-4e6f-b31c-d88d3dca5852",
   "metadata": {
    "id": "02c1a901-8562-4e6f-b31c-d88d3dca5852"
   },
   "outputs": [],
   "source": [
    "def train(model):\n",
    "    # we train and return the history!\n",
    "    return model.fit(\n",
    "        partial_x_train,\n",
    "        partial_y_train,\n",
    "        epochs=20,\n",
    "        batch_size=512,\n",
    "        validation_data=(x_val, y_val),\n",
    "        verbose=0\n",
    "    )"
   ]
  },
  {
   "cell_type": "markdown",
   "id": "2b38e6fc-f01e-4004-bd55-1e598abf6470",
   "metadata": {},
   "source": [
    "### Code: automated model building and training"
   ]
  },
  {
   "cell_type": "code",
   "execution_count": 54,
   "id": "3c84bb17-1584-4aea-ab1b-1b2b15de06c3",
   "metadata": {
    "colab": {
     "base_uri": "https://localhost:8080/"
    },
    "id": "3c84bb17-1584-4aea-ab1b-1b2b15de06c3",
    "outputId": "4530011c-70ec-4bfe-a2ff-3fdfcdbde7e5"
   },
   "outputs": [
    {
     "name": "stdout",
     "output_type": "stream",
     "text": [
      "max val accuracy: 0.8259999752044678 at epoch 16\n"
     ]
    }
   ],
   "source": [
    "model = build(layer_1=64, layer_2=64, layer_3=46) # our original Reuters network\n",
    "history = train(model)\n",
    "ind = np.argmax(history.history['val_accuracy'])\n",
    "print(f\"max val accuracy: {history.history['val_accuracy'][ind]} at epoch {ind}\")"
   ]
  },
  {
   "cell_type": "code",
   "execution_count": 55,
   "id": "f2c4cb43-7e9f-4279-b763-b55a95351983",
   "metadata": {
    "colab": {
     "base_uri": "https://localhost:8080/"
    },
    "id": "f2c4cb43-7e9f-4279-b763-b55a95351983",
    "outputId": "1c06fdf1-3f01-469d-eb62-67d89bd8a718"
   },
   "outputs": [
    {
     "name": "stdout",
     "output_type": "stream",
     "text": [
      "max val accuracy: 0.6909999847412109 at epoch 14\n"
     ]
    }
   ],
   "source": [
    "model = build(layer_1=64, layer_2=4, layer_3=46) # creating a bottleneck in the second layer\n",
    "history = train(model)\n",
    "ind = np.argmax(history.history['val_accuracy'])\n",
    "print(f\"max val accuracy: {history.history['val_accuracy'][ind]} at epoch {ind}\")"
   ]
  },
  {
   "cell_type": "markdown",
   "id": "39c020cf",
   "metadata": {
    "id": "39c020cf"
   },
   "source": [
    "---\n",
    "\n",
    "## 4.2.8 Further experiments\n",
    "\n",
    "## 4.2.9 Wrapping up"
   ]
  },
  {
   "cell_type": "markdown",
   "id": "17f1062e-88f3-4200-a900-6d7a06f39518",
   "metadata": {
    "id": "0cecc0ba"
   },
   "source": [
    "### Workflow"
   ]
  },
  {
   "cell_type": "markdown",
   "id": "7ac25fc6-99a9-4ff6-ab67-0561e3d074d5",
   "metadata": {
    "id": "0cecc0ba"
   },
   "source": [
    "1. Prepare the data & split into Train/Validation/Test\n",
    "2. Define your model\n",
    "4. Evaluate your untrained model / a **commonsense baseline**\n",
    "5. Train using **Train/Validation**\n",
    "6. Tweak **hyperparameters** → pick best validation results\n",
    "7. Retrain on **whole train dataset**\n",
    "8. Evaluate on **Test**"
   ]
  },
  {
   "cell_type": "markdown",
   "id": "1c96364d-b3db-4068-b64e-c4e9040b5ec3",
   "metadata": {
    "id": "eb853b9c"
   },
   "source": [
    "### Summary"
   ]
  },
  {
   "cell_type": "markdown",
   "id": "1a7b4b72-346f-4327-ae53-081eb8e7422d",
   "metadata": {
    "id": "eb853b9c",
    "jp-MarkdownHeadingCollapsed": true
   },
   "source": [
    "#### Inputs"
   ]
  },
  {
   "cell_type": "markdown",
   "id": "0449a1b1-9eb5-49f6-8258-d35a0ee8cc6d",
   "metadata": {
    "id": "eb853b9c"
   },
   "source": [
    "- Processing inputs as *multi-hot*;"
   ]
  },
  {
   "cell_type": "markdown",
   "id": "9e417988-18a1-4a26-b4f3-6af79e6ec8b2",
   "metadata": {
    "id": "eb853b9c",
    "jp-MarkdownHeadingCollapsed": true
   },
   "source": [
    "#### Labels"
   ]
  },
  {
   "cell_type": "markdown",
   "id": "248923fc-3cdf-46f7-ad3b-2e113a5b1988",
   "metadata": {
    "id": "eb853b9c"
   },
   "source": [
    "- Labels as *one-hot* vectors with the `categorical_crossentropy`;\n",
    "- Labels as *integers* with the `sparse_categorical_crossentropy`;"
   ]
  },
  {
   "cell_type": "markdown",
   "id": "deede5ff-6582-4f64-83ce-6599cd85da2d",
   "metadata": {
    "id": "d96845af",
    "jp-MarkdownHeadingCollapsed": true
   },
   "source": [
    "#### Key ideas"
   ]
  },
  {
   "cell_type": "markdown",
   "id": "ad1449b5-f42d-46b9-9bc7-7e429d8e455a",
   "metadata": {
    "id": "d96845af"
   },
   "source": [
    "- Train/Validation/Test splits;\n",
    "- Overfitting;\n",
    "- Commonsense baselines;\n",
    "- Information bottlenecks (small intermediate layers)!"
   ]
  },
  {
   "cell_type": "markdown",
   "id": "d83a6f8e-e87a-4aa9-b3bc-56211e33487f",
   "metadata": {
    "id": "28f2be65"
   },
   "source": [
    "### Single-label multi-class classification"
   ]
  },
  {
   "cell_type": "markdown",
   "id": "d36c8904-77d1-4239-ac9f-7bea7b0d9b37",
   "metadata": {
    "id": "28f2be65"
   },
   "source": [
    "- The output layer for a multi-classification task should have **as many units as there are classes**;\n",
    "- Use a **softmax** activation function;\n",
    "- The loss function is `categorical_crossentropy` or `sparse_categorical_crossentropy`;\n",
    "- A softmax layer outputs a **probability distribution** over possible classes;"
   ]
  },
  {
   "cell_type": "markdown",
   "id": "b624d5fc-3fed-49d4-8cb6-75f91d0a99d6",
   "metadata": {
    "id": "8cdeeb38-8501-4dbf-ad64-2077f4707a85"
   },
   "source": [
    "### Experiments"
   ]
  },
  {
   "cell_type": "markdown",
   "id": "c6771060-7861-4b9b-8425-90780837c5f2",
   "metadata": {
    "id": "8cdeeb38-8501-4dbf-ad64-2077f4707a85"
   },
   "source": [
    "- More or fewer hidden layers, with less/more units;\n",
    "- Try different learning rates and batch sizes;\n",
    "- Replace `relu` with an early neural network favourite, `tanh`;\n",
    "- Try the [`Adam` optimizer](https://www.tensorflow.org/api_docs/python/tf/keras/optimizers#classes_2): `optimizers.Adam(learning_rate=0.001)`, with various learning rates.\n",
    "- Try and think about how you would go about automating hyperparameter search (= making your life easier, so that the search is done by a system rather than manually)"
   ]
  },
  {
   "cell_type": "markdown",
   "id": "7c9fa2f5-2c4e-4dd4-8003-64124bbd283b",
   "metadata": {
    "id": "e11251f7"
   },
   "source": [
    "---\n",
    "\n",
    "### Extra: Multi-label multi-class classification"
   ]
  },
  {
   "cell_type": "markdown",
   "id": "f797734a-8007-4e66-9c25-17f72f681463",
   "metadata": {
    "id": "e11251f7"
   },
   "source": [
    "What about *multi-label multi-class classification*?\n",
    "\n",
    "Namely, more than one label are possible?\n",
    "\n",
    "(Not in the Chollet. [Here is an example in Keras](https://keras.io/examples/nlp/multi_label_classification/))."
   ]
  },
  {
   "cell_type": "markdown",
   "id": "f1690fb9-f843-4233-886b-e6fedced15c0",
   "metadata": {
    "id": "d6933192"
   },
   "source": [
    "#### Workflow "
   ]
  },
  {
   "cell_type": "markdown",
   "id": "a883f093-1171-404e-91bc-b04c8ac9ca0a",
   "metadata": {
    "id": "d6933192"
   },
   "source": [
    "- make your labels **multi-hot**;\n",
    "- output activation is `sigmoid`;\n",
    "- track accuracy with `categorical_accuracy`;\n",
    "- select the top $k$ highest probabilities when using the model (typically using `np.argsort`).\n",
    "\n",
    "Keras knows that if you give it multi-hot labels and select `binary_crossentropy`, it means that **each class is treated as an independent probability**."
   ]
  },
  {
   "cell_type": "markdown",
   "id": "b5840359-92bd-45e9-ba4b-82ca5291a4ee",
   "metadata": {},
   "source": [
    "### Types of Problems: Summary table "
   ]
  },
  {
   "cell_type": "markdown",
   "id": "673a2c41",
   "metadata": {
    "id": "673a2c41"
   },
   "source": [
    "\n",
    "<!-- ![correct last layers activations](images/ml/chollet.correct-last-layer-activations.png) -->\n",
    "<img src=\"https://github.com/jchwenger/AI/blob/main/3-getting-started/images/ml/chollet.correct-last-layer-activations.png?raw=true\">\n",
    "\n",
    "<small>DLWP, p.164</small>"
   ]
  }
 ],
 "metadata": {
  "accelerator": "GPU",
  "celltoolbar": "Slideshow",
  "colab": {
   "gpuType": "T4",
   "provenance": []
  },
  "kernelspec": {
   "display_name": "Python 3 (ipykernel)",
   "language": "python",
   "name": "python3"
  },
  "language_info": {
   "codemirror_mode": {
    "name": "ipython",
    "version": 3
   },
   "file_extension": ".py",
   "mimetype": "text/x-python",
   "name": "python",
   "nbconvert_exporter": "python",
   "pygments_lexer": "ipython3",
   "version": "3.12.6"
  }
 },
 "nbformat": 4,
 "nbformat_minor": 5
}
