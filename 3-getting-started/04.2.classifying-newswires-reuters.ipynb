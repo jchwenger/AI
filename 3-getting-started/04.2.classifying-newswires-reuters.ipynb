{
 "cells": [
  {
   "cell_type": "markdown",
   "id": "ee2f2086",
   "metadata": {
    "slideshow": {
     "slide_type": "slide"
    }
   },
   "source": [
    "---\n",
    "\n",
    "# Recap\n",
    "\n",
    "- ## Hyperparameter tuning\n",
    "- ## Overfitting"
   ]
  },
  {
   "cell_type": "code",
   "execution_count": 2,
   "id": "080dfe6c",
   "metadata": {
    "slideshow": {
     "slide_type": "fragment"
    }
   },
   "outputs": [],
   "source": [
    "import os\n",
    "import numpy as np\n",
    "import tensorflow as tf\n",
    "\n",
    "import matplotlib.pyplot as plt\n",
    "plt.rcParams['lines.markersize'] = 3  # nice scatter point size\n",
    "\n",
    "from IPython.display import clear_output\n",
    "from IPython.display import YouTubeVideo\n",
    "\n",
    "os.environ['TF_CPP_MIN_LOG_LEVEL'] = '3' # mute some annoying warnings"
   ]
  },
  {
   "cell_type": "markdown",
   "id": "1895cab1",
   "metadata": {
    "slideshow": {
     "slide_type": "slide"
    }
   },
   "source": [
    "---\n",
    "\n",
    "## Hyperparameter tuning: three ideas\n",
    "\n",
    "1. ###  Grid search\n",
    "2. ###  Random search\n",
    "3. ###  Babysitting"
   ]
  },
  {
   "cell_type": "markdown",
   "id": "b96ebfb3",
   "metadata": {
    "slideshow": {
     "slide_type": "subslide"
    }
   },
   "source": [
    "### 1.  Grid search\n",
    "\n",
    "Systematically try the range of your parameter.\n",
    "\n",
    "Example: learning rate, **best model in bold**, we then search around the best parameter...\n",
    "\n",
    "| **first pass** | **second pass** | **third pass** |\n",
    "| ---            | ---             | ---            |\n",
    "| .001           | .0037           | .00377         |\n",
    "| .002           | **.0038**       | .00378         |\n",
    "| .003           | .0039           | .00379         |\n",
    "| **.004**       | .0040           | .00380         |\n",
    "| .005           | .0041           | .00381         |\n",
    "| .006           | .0042           | .00382         |\n",
    "| .007           | .0043           | **.00383**     |\n",
    "\n",
    "Note: it might not be worth your while to do these several passes, but you get the overall methodology."
   ]
  },
  {
   "cell_type": "markdown",
   "id": "aee39062",
   "metadata": {
    "slideshow": {
     "slide_type": "subslide"
    }
   },
   "source": [
    "### 2.  Random search\n",
    "\n",
    "Given that you want to optimize **many** hyperparmeters at the same time, it [has been argued](https://cs231n.github.io/neural-networks-3/#hyper) that grid search is not only infeasible with many params, but also less successful than random search!\n",
    "\n",
    "#### Workflow\n",
    "\n",
    "- Determine a **range** for each hyperparameter;\n",
    "- Use a random generator to create numbers within this range;\n",
    "- Try a number of different models, pick the best one.\n",
    "\n",
    "Document the methodology and list the hyperparameters that were tried!"
   ]
  },
  {
   "cell_type": "markdown",
   "id": "72b92cf4",
   "metadata": {
    "slideshow": {
     "slide_type": "subslide"
    }
   },
   "source": [
    "Example: you want to try different momentums, between let's say between .9, and .999.\n",
    "\n",
    "```python\n",
    "momentum = 0.9 + np.random.uniform()/10 # a random number between 0. and 0.01\n",
    "```\n",
    "\n",
    "You would do the same for a few other hyperparameters.\n",
    "\n",
    "Make sure to **document the process** of randomisation and the parameters that have been tried!\n",
    "\n",
    "Also: you may want to start with this then try and go back to grid search and try further."
   ]
  },
  {
   "cell_type": "markdown",
   "id": "d2aafae8",
   "metadata": {
    "slideshow": {
     "slide_type": "subslide"
    }
   },
   "source": [
    "### 3.  Babysitting\n",
    "\n",
    "This could seem clunky, but is what happens with [LARGE models](https://github.com/facebookresearch/metaseq/blob/main/projects/OPT/chronicles/) (← check the logbooks (╯✧▽✧)╯).\n",
    "\n",
    "#### Workflow\n",
    "\n",
    "1. Start training for some epochs, look at how your network is doing;\n",
    "2. Save your net, and **document** the parameters, epoch, etc.\n",
    "3. Think about what hyperparameters to change next, if any;\n",
    "4. Keep training;\n",
    "5. If the result is good, **document** & go back to 3 (save); if not, **document** & go back to 2 (retry)!\n",
    "\n",
    "\n",
    "Make sure to **document** every stage of the process of tuning!  \n",
    "\n",
    "Ideally, **someone else should be able to reproduce your results**."
   ]
  },
  {
   "cell_type": "markdown",
   "id": "b8b28abf",
   "metadata": {
    "slideshow": {
     "slide_type": "subslide"
    }
   },
   "source": [
    "### For reproducible results\n",
    "\n",
    "```python\n",
    "import tensorflow as tf\n",
    "tf.random.set_seed(42) # can be any number\n",
    "```"
   ]
  },
  {
   "cell_type": "code",
   "execution_count": 3,
   "id": "bda15383",
   "metadata": {
    "slideshow": {
     "slide_type": "skip"
    }
   },
   "outputs": [
    {
     "data": {
      "image/jpeg": "[encoded data removed]",
      "text/html": [
       "\n",
       "        <iframe\n",
       "            width=\"853\"\n",
       "            height=\"480\"\n",
       "            src=\"https://www.youtube.com/embed/wEoyxE0GP2M?start=4054\"\n",
       "            frameborder=\"0\"\n",
       "            allowfullscreen\n",
       "            \n",
       "        ></iframe>\n",
       "        "
      ],
      "text/plain": [
       "<IPython.lib.display.YouTubeVideo at 0x1061cdf70>"
      ]
     },
     "execution_count": 3,
     "metadata": {},
     "output_type": "execute_result"
    }
   ],
   "source": [
    "# A good discussion of hyperparam search\n",
    "YouTubeVideo('wEoyxE0GP2M', width=853, height=480, start=4054) # Stanford cs231n Training 1"
   ]
  },
  {
   "cell_type": "markdown",
   "id": "0a416b24-3b1c-4d4e-b17a-f09bb49944ac",
   "metadata": {
    "slideshow": {
     "slide_type": "subslide"
    }
   },
   "source": [
    "### Overfitting\n",
    "\n",
    "<!-- <img style=\"height:400px\" src=\"images/overfitting/chollet.overfitting-1.p124.png\"> -->\n",
    "<img src=\"https://github.com/jchwenger/AI/blob/main/3-getting-started/images/overfitting/chollet.overfitting-1.p124.png?raw=true\">\n",
    "\n",
    "<small>DLWP, p.124</small>"
   ]
  },
  {
   "cell_type": "markdown",
   "id": "8b3aae01",
   "metadata": {
    "slideshow": {
     "slide_type": "subslide"
    }
   },
   "source": [
    "<!-- <img style=\"height:700px\" src=\"images/overfitting/chollet.overfitting-3.p131.png\"> -->\n",
    "<img style=\"height:750px\" src=\"https://github.com/jchwenger/AI/blob/main/3-getting-started/images/overfitting/chollet.overfitting-2.p124.png?raw=true\">\n",
    "\n",
    "<small>DLWP, p.131</small>"
   ]
  },
  {
   "cell_type": "markdown",
   "id": "72d0e36b",
   "metadata": {
    "slideshow": {
     "slide_type": "skip"
    }
   },
   "source": [
    "#### An nice, accessible summary\n",
    "\n",
    "[Santiago bias/variance tradeoff, Twitter](https://twitter.com/svpino/status/1584515105374339073?t=cYoz1-lqowkiDkOrac65Nw)"
   ]
  },
  {
   "cell_type": "code",
   "execution_count": 4,
   "id": "867afa31",
   "metadata": {
    "slideshow": {
     "slide_type": "skip"
    }
   },
   "outputs": [
    {
     "data": {
      "image/jpeg": "[encoded data removed]",
      "text/html": [
       "\n",
       "        <iframe\n",
       "            width=\"853\"\n",
       "            height=\"480\"\n",
       "            src=\"https://www.youtube.com/embed/SjQyLhQIXSM\"\n",
       "            frameborder=\"0\"\n",
       "            allowfullscreen\n",
       "            \n",
       "        ></iframe>\n",
       "        "
      ],
      "text/plain": [
       "<IPython.lib.display.YouTubeVideo at 0x16bb4b820>"
      ]
     },
     "execution_count": 4,
     "metadata": {},
     "output_type": "execute_result"
    }
   ],
   "source": [
    "# A good discussion of hyperparam search\n",
    "YouTubeVideo('SjQyLhQIXSM', width=853, height=480) # Andrew Ng Bias/Variance"
   ]
  },
  {
   "cell_type": "code",
   "execution_count": 5,
   "id": "905008b6-d49c-4ec3-b70d-e03a7c386cb8",
   "metadata": {
    "slideshow": {
     "slide_type": "skip"
    }
   },
   "outputs": [
    {
     "data": {
      "image/jpeg": "[encoded data removed]",
      "text/html": [
       "\n",
       "        <iframe\n",
       "            width=\"853\"\n",
       "            height=\"480\"\n",
       "            src=\"https://www.youtube.com/embed/C1N_PDHuJ6Q\"\n",
       "            frameborder=\"0\"\n",
       "            allowfullscreen\n",
       "            \n",
       "        ></iframe>\n",
       "        "
      ],
      "text/plain": [
       "<IPython.lib.display.YouTubeVideo at 0x16bb4b550>"
      ]
     },
     "execution_count": 5,
     "metadata": {},
     "output_type": "execute_result"
    }
   ],
   "source": [
    "# A good discussion of hyperparam search\n",
    "YouTubeVideo('C1N_PDHuJ6Q', width=853, height=480) # Andrew Ng Basic Recipe for Machine Learning"
   ]
  },
  {
   "cell_type": "markdown",
   "id": "446153c8",
   "metadata": {
    "slideshow": {
     "slide_type": "slide"
    }
   },
   "source": [
    "---\n",
    "\n",
    "# 4 Getting started with neural networks:\n",
    "\n",
    "# Classification and regression"
   ]
  },
  {
   "cell_type": "markdown",
   "id": "2e6c59eb-f94f-4635-aa6c-894de6c7be0c",
   "metadata": {
    "slideshow": {
     "slide_type": "subslide"
    }
   },
   "source": [
    "#### Binary classification: data → scalar (probability of *one* class)\n",
    "\n",
    "*\\\"Here is a photo, is it a cat or not?\" (Negative/Positive, detecting if something is there, etc.)*\n",
    "\n",
    "## * Multiclass classification: data → vector (distribution over *many classes*)\n",
    "\n",
    "*\\\"Here is a photo, multiple choice for you: is it a cat, a dog, an airplane, a flower, ... ?*\n",
    "\n",
    "#### Regression: data → scalar (a continuous value describing the data)\n",
    "\n",
    "*\\\"Here is a data about a house, what is its price)?* <small>☠️☠️☠️ *Logistic regression* (*classification problem*) ≠ *regression*!!</small>"
   ]
  },
  {
   "cell_type": "markdown",
   "id": "671566b7",
   "metadata": {
    "slideshow": {
     "slide_type": "subslide"
    }
   },
   "source": [
    "<!-- ![Classification vs regression](images/ml/Classification-vs-Regression.png) -->\n",
    "<img src=\"https://github.com/jchwenger/AI/blob/main/3-getting-started/images/ml/Classification-vs-Regression.png?raw=true\">\n",
    "\n",
    "<small>[Sami Belkacem, \"Machine learning approaches to rank news feed updates on social media\", ResearchGate](https://www.researchgate.net/figure/Classification-vs-Regression_fig2_350993856)</small>"
   ]
  },
  {
   "cell_type": "markdown",
   "id": "4ac38481",
   "metadata": {
    "slideshow": {
     "slide_type": "subslide"
    }
   },
   "source": [
    "<!-- ![Binary vs multiclass classification](images/ml/Binary-vs-Multiclass-classification.jpg) -->\n",
    "<img src=\"https://github.com/jchwenger/AI/blob/main/3-getting-started/images/ml/Binary-vs-Multiclass-classification.jpg?raw=true\">\n",
    "\n",
    "<small>[Nithiyaraj et al., \"FPGA Based Real Time Classification With Support Vector Machine\", ResearchGate](https://www.researchgate.net/figure/Binary-vs-Multiclass-classification_fig1_342987800)</small>"
   ]
  },
  {
   "cell_type": "markdown",
   "id": "f991dc97-bc31-42af-9f8f-1250a03516fe",
   "metadata": {
    "slideshow": {
     "slide_type": "slide"
    }
   },
   "source": [
    "---\n",
    "\n",
    "# 4.2 Classifying newswires: A multiclass classification example\n",
    "\n",
    "## 4.2.1 The Reuters dataset"
   ]
  },
  {
   "cell_type": "markdown",
   "id": "a96be8e4-6adf-460c-8b29-c9cece4821cf",
   "metadata": {
    "slideshow": {
     "slide_type": "subslide"
    }
   },
   "source": [
    "The reviews in the IMDB were either positive or negative.\n",
    "\n",
    "Single-label, two classes.\n",
    "\n",
    "Other classification tasks:\n",
    " - single-label, multiclass;\n",
    " - multi-label, multiclass."
   ]
  },
  {
   "cell_type": "markdown",
   "id": "363361c4-8b2c-49a8-84c2-4c678025a3d6",
   "metadata": {
    "slideshow": {
     "slide_type": "subslide"
    }
   },
   "source": [
    "Each newswire (short textual reports) in the Reuters dataset fits into **one of 46 possible classes**.\n",
    "\n",
    " - **single-label, multiclass;**\n",
    " - multi-label, multiclass."
   ]
  },
  {
   "cell_type": "code",
   "execution_count": 6,
   "id": "e8c90a42-759c-46ad-9a2d-ebf2716ed0cc",
   "metadata": {
    "slideshow": {
     "slide_type": "subslide"
    }
   },
   "outputs": [
    {
     "name": "stdout",
     "output_type": "stream",
     "text": [
      "Downloading data from https://storage.googleapis.com/tensorflow/tf-keras-datasets/reuters.npz\n",
      "2110848/2110848 [==============================] - 1s 1us/step\n",
      "(8982,) (2246,)\n"
     ]
    }
   ],
   "source": [
    "(train_data, train_labels,), (test_data, test_labels) = tf.keras.datasets.reuters.load_data(num_words=10000)\n",
    "print(train_data.shape, test_data.shape)"
   ]
  },
  {
   "cell_type": "code",
   "execution_count": 7,
   "id": "6200e3ca-732b-43c5-8915-0283ad2f4a55",
   "metadata": {
    "slideshow": {
     "slide_type": "fragment"
    }
   },
   "outputs": [],
   "source": [
    "def decode_wire(wire):\n",
    "    \"\"\"A helper function to decode a wire.\"\"\"\n",
    "    word_index = tf.keras.datasets.reuters.get_word_index()\n",
    "    reverse_word_index = {value:key for key,value in word_index.items()}\n",
    "    decoded_review = ' '.join([reverse_word_index.get(i - 3, '?') for i in wire])\n",
    "    return decoded_review"
   ]
  },
  {
   "cell_type": "code",
   "execution_count": 8,
   "id": "3fd2dfa1-a004-4923-a881-83c511717ae7",
   "metadata": {
    "slideshow": {
     "slide_type": "fragment"
    }
   },
   "outputs": [],
   "source": [
    "# https://github.com/keras-team/keras/issues/12072\n",
    "# and here: https://martin-thoma.com/nlp-reuters/\n",
    "topics = [\n",
    "    'cocoa','grain','veg-oil','earn','acq','wheat','copper','housing','money-supply',\n",
    "    'coffee','sugar','trade','reserves','ship','cotton','carcass','crude','nat-gas',\n",
    "    'cpi','money-fx','interest','gnp','meal-feed','alum','oilseed','gold','tin',\n",
    "    'strategic-metal','livestock','retail','ipi','iron-steel','rubber','heat','jobs',\n",
    "    'lei','bop','zinc','orange','pet-chem','dlr','gas','silver','wpi','hog','lead'\n",
    "]"
   ]
  },
  {
   "cell_type": "code",
   "execution_count": 9,
   "id": "ad551ce5-0e57-46e3-8b23-5103f0f18710",
   "metadata": {
    "slideshow": {
     "slide_type": "subslide"
    }
   },
   "outputs": [
    {
     "name": "stdout",
     "output_type": "stream",
     "text": [
      "Downloading data from https://storage.googleapis.com/tensorflow/tf-keras-datasets/reuters_word_index.json\n",
      "550378/550378 [==============================] - 0s 1us/step\n",
      "? the great atlantic and pacific tea co said its three year 345 mln dlr capital program will be be substantially increased to ? growth and expansion plans for ? inc and ? inc over the next two years a and p said the acquisition of ? in august 1986 and ? in december helped us achieve better than expected results in the fourth quarter ended february 28 its net income from continuing operations jumped 52 6 pct to 20 7 mln dlrs or 55 cts a share in the latest quarter as sales increased 48 3 pct to 1 58 billion dlrs a and p gave no details on the expanded capital program but it did say it completed the first year of the program during 1986 a and p is 52 4 pct owned by lt ? ? of west germany reuter 3\n",
      "\n",
      "topic:  earn\n"
     ]
    }
   ],
   "source": [
    "print(decode_wire(test_data[0]))\n",
    "print()\n",
    "print('topic: ', topics[test_labels[0]])"
   ]
  },
  {
   "cell_type": "markdown",
   "id": "0da1d729-4711-460d-848c-f1becbde65ae",
   "metadata": {
    "slideshow": {
     "slide_type": "subslide"
    }
   },
   "source": [
    "---\n",
    "\n",
    "## 4.2.2 Preparing the data\n",
    "\n",
    "Data preprocessing follows the IMDB example.\n",
    "\n",
    "The sequences are **multi-hot** encoded, like before.\n",
    "\n",
    "The labels are also one-hot/categorically encoded."
   ]
  },
  {
   "cell_type": "markdown",
   "id": "dc21a2ac",
   "metadata": {
    "slideshow": {
     "slide_type": "subslide"
    }
   },
   "source": [
    "#### Encode the samples"
   ]
  },
  {
   "cell_type": "code",
   "execution_count": 10,
   "id": "fb814436-7ae2-4f75-940d-5772d99abf01",
   "metadata": {
    "slideshow": {
     "slide_type": "fragment"
    }
   },
   "outputs": [],
   "source": [
    "def vectorize_sequences(sequences, dimension = 10000):\n",
    "    results = np.zeros((len(sequences), dimension))       # create an empty matrix of zeros\n",
    "    for i, sequence in enumerate(sequences):              # for each sequence\n",
    "        results[i, sequence] = 1.                         # at the `indices` of our words, add a 1.\n",
    "    return results\n",
    "\n",
    "x_train = vectorize_sequences(train_data)\n",
    "x_test = vectorize_sequences(test_data)\n",
    "\n",
    "y_train = np.asarray(train_labels).astype('float32')\n",
    "y_test = np.asarray(test_labels).astype('float32')"
   ]
  },
  {
   "cell_type": "code",
   "execution_count": 11,
   "id": "366b72a5",
   "metadata": {
    "slideshow": {
     "slide_type": "fragment"
    }
   },
   "outputs": [
    {
     "name": "stdout",
     "output_type": "stream",
     "text": [
      "sequence length: 87\n",
      "[1, 2, 2, 8, 43, 10, 447, 5, 25, 207, 270, 5, 3095, 111, 16, 369, 186, 90, 67, 7, 89, 5, 19, 102, 6, 19, 124, 15, 90, 67, 84, 22, 482, 26, 7, 48, 4, 49, 8, 864, 39, 209, 154, 6, 151, 6, 83, 11, 15, 22, 155, 11, 15, 7, 48, 9, 4579, 1005, 504, 6, 258, 6, 272, 11, 15, 22, 134, 44, 11, 15, 16, 8, 197, 1245, 90, 67, 52, 29, 209, 30, 32, 132, 6, 109, 15, 17, 12]\n",
      "\n",
      "sequence length: 10000\n",
      "[0. 1. 1. ... 0. 0. 0.]\n"
     ]
    }
   ],
   "source": [
    "print(f\"sequence length: {len(train_data[0])}\")\n",
    "print(train_data[0])\n",
    "print()\n",
    "print(f\"sequence length: {len(x_train[0])}\")\n",
    "print(x_train[0]) # index = word, '1' means: the word was present (note: all order is dropped!)"
   ]
  },
  {
   "cell_type": "markdown",
   "id": "e0ea3ea6",
   "metadata": {
    "slideshow": {
     "slide_type": "subslide"
    }
   },
   "source": [
    "#### Encode the labels"
   ]
  },
  {
   "cell_type": "code",
   "execution_count": 12,
   "id": "e931252a-f037-4b11-ad62-1d885d31510b",
   "metadata": {
    "slideshow": {
     "slide_type": "fragment"
    }
   },
   "outputs": [],
   "source": [
    "# one hot encoder for our labels\n",
    "one_hot_train_labels = tf.keras.utils.to_categorical(train_labels)\n",
    "one_hot_test_labels = tf.keras.utils.to_categorical(test_labels)"
   ]
  },
  {
   "cell_type": "code",
   "execution_count": 13,
   "id": "3c9651d8",
   "metadata": {
    "scrolled": true,
    "slideshow": {
     "slide_type": "fragment"
    }
   },
   "outputs": [
    {
     "name": "stdout",
     "output_type": "stream",
     "text": [
      "number of classes: 46\n",
      "\n",
      "label: 3\n",
      "\n",
      "one hot:\n",
      "[0. 0. 0. 1. 0. 0. 0. 0. 0. 0. 0. 0. 0. 0. 0. 0. 0. 0. 0. 0. 0. 0. 0. 0.\n",
      " 0. 0. 0. 0. 0. 0. 0. 0. 0. 0. 0. 0. 0. 0. 0. 0. 0. 0. 0. 0. 0. 0.]\n"
     ]
    }
   ],
   "source": [
    "print(f\"number of classes: {one_hot_train_labels.shape[1]}\")\n",
    "print()\n",
    "print(f\"label: {train_labels[0]}\")\n",
    "print()\n",
    "print(\"one hot:\")\n",
    "print(one_hot_train_labels[0])"
   ]
  },
  {
   "cell_type": "markdown",
   "id": "d104e640-4838-4ea9-b031-804981b7bede",
   "metadata": {
    "slideshow": {
     "slide_type": "slide"
    }
   },
   "source": [
    "---\n",
    "\n",
    "## 4.2.3 Building your model\n",
    "\n",
    "With 46 classes, the classification problem is more complex than the two class IMDB example.\n",
    "\n",
    "We used a 16 dimensional representational space for the intermediate IMDB layers.\n",
    "\n",
    "But 16 dimensions might be too small."
   ]
  },
  {
   "cell_type": "markdown",
   "id": "6bc13e50-4dd9-489c-ae84-f06a15f64078",
   "metadata": {
    "slideshow": {
     "slide_type": "subslide"
    }
   },
   "source": [
    "Information dropped by a layer can never be recovered – a potential **information bottleneck**.\n",
    "\n",
    "Therefore we need bigger layers (more units).\n",
    "\n",
    "Let's try 64 unit layers."
   ]
  },
  {
   "cell_type": "markdown",
   "id": "8eae6a77",
   "metadata": {
    "slideshow": {
     "slide_type": "subslide"
    }
   },
   "source": [
    "We require that the network outputs a 46D vector; therefore the final layer must have 46 units.\n",
    "\n",
    "The layer should output the **probability of class membership**.\n",
    "\n",
    "For that we use our old friend the **softmax**."
   ]
  },
  {
   "cell_type": "markdown",
   "id": "61acbf47-a46d-4dce-9239-46193b1de245",
   "metadata": {
    "slideshow": {
     "slide_type": "skip"
    }
   },
   "source": [
    "The math, in case...\n",
    "\n",
    "$$\n",
    "\\bbox[5px,border:2px solid red]\n",
    "{\n",
    "\\text{softmax}(x_i) = \\frac{e^{x_i}}{\\sum_i e^{x_i}}\n",
    "}\n",
    "$$"
   ]
  },
  {
   "cell_type": "code",
   "execution_count": 14,
   "id": "1c70d87a-bee6-497f-b78a-3946bbb061c4",
   "metadata": {
    "scrolled": true,
    "slideshow": {
     "slide_type": "subslide"
    }
   },
   "outputs": [
    {
     "data": {
      "image/png": "[encoded data removed]",
      "text/plain": [
       "<Figure size 1600x300 with 2 Axes>"
      ]
     },
     "metadata": {},
     "output_type": "display_data"
    }
   ],
   "source": [
    "nums = tf.random.uniform(shape=(46,)) * 10              # 46 random numbers\n",
    "probs = tf.nn.softmax(nums)                             # turned into probabilities\n",
    "\n",
    "fig, (ax1, ax2) = plt.subplots(1,2, sharex=True, figsize=(16,3))\n",
    "ax1.bar([str(x) for x in range(nums.shape[0])], nums)   # our ten numbers\n",
    "ax1.set_title(\"46 random numbers\")\n",
    "ax2.bar([str(x) for x in range(probs.shape[0])], probs) # plot the probabilities\n",
    "ax2.set_title(\"(Random) probabilities\")\n",
    "ax2.set_ylim([0,1])\n",
    "plt.show()"
   ]
  },
  {
   "cell_type": "markdown",
   "id": "0193d6d0",
   "metadata": {
    "slideshow": {
     "slide_type": "skip"
    }
   },
   "source": [
    "#### Reminder\n",
    "\n",
    "What does the categorical cross-entropy loss do?\n",
    "\n",
    "$$\n",
    "\\bbox[5px,border:2px solid red]\n",
    "{\n",
    "H(p,q)=-\\sum _{x^i}p(x^i)\\,\\log q(x^i)\n",
    "}\n",
    "$$\n",
    "\n",
    "$H$: relative entropy, what we're actually measuring  \n",
    "$p$: true probability (our labels)  \n",
    "$q$: model probability (our guesses)\n",
    "\n",
    "- the ground truth will be multiplied with our probabilities\n",
    "- all terms except the correct class (label 1) become zero\n",
    "- the last remaining term is just $ - \\log(q(x^{true})) = - \\log(guessed\\ probability\\ of\\ true\\ label)$"
   ]
  },
  {
   "cell_type": "code",
   "execution_count": 15,
   "id": "adc28684",
   "metadata": {
    "slideshow": {
     "slide_type": "skip"
    }
   },
   "outputs": [
    {
     "data": {
      "image/png": "[encoded data removed]",
      "text/plain": [
       "<Figure size 1200x500 with 2 Axes>"
      ]
     },
     "metadata": {},
     "output_type": "display_data"
    }
   ],
   "source": [
    "probs = tf.nn.softmax(nums)                                      \n",
    "random_label = np.zeros(probs.shape)                             # a random label with 1 at the index of the correct class\n",
    "random_label[np.random.randint(0,random_label.shape[0])] = 1\n",
    "\n",
    "fig, (ax1, ax2) = plt.subplots(2,1, sharex=True, figsize=(12,5))\n",
    "ax1.bar([str(x) for x in range(nums.shape[0])], random_label)   # our ten numbers\n",
    "ax1.set_title(\"Ground truth label\")\n",
    "ax1.set_ylim([0,1])\n",
    "ax2.bar([str(x) for x in range(probs.shape[0])], probs) # plot the probabilities\n",
    "ax2.set_title(\"Our probabilities\")\n",
    "ax2.set_ylim([0,1])\n",
    "plt.show()"
   ]
  },
  {
   "cell_type": "code",
   "execution_count": 16,
   "id": "b787564a-bbb7-4706-9d08-f617e3248e2a",
   "metadata": {
    "slideshow": {
     "slide_type": "skip"
    }
   },
   "outputs": [
    {
     "data": {
      "image/png": "[encoded data removed]",
      "text/plain": [
       "<Figure size 1200x500 with 2 Axes>"
      ]
     },
     "metadata": {},
     "output_type": "display_data"
    }
   ],
   "source": [
    "fig, (ax1, ax2) = plt.subplots(2,1, sharex=True, figsize=(12,5))\n",
    "ax1.bar([str(x) for x in range(nums.shape[0])], random_label)   # our ten numbers\n",
    "ax1.set_title(\"Ground truth label\")\n",
    "ax1.set_ylim([0,1])\n",
    "ax2.bar([str(x) for x in range(probs.shape[0])], probs * random_label) # plot the probabilities\n",
    "ax2.set_title(\"All probabilities set to zero except for the correct one\")\n",
    "ax2.set_ylim([0,1])\n",
    "plt.show()"
   ]
  },
  {
   "cell_type": "code",
   "execution_count": 17,
   "id": "ad2a38eb-3383-4279-b0e7-2ef944f8afa9",
   "metadata": {
    "slideshow": {
     "slide_type": "subslide"
    }
   },
   "outputs": [
    {
     "name": "stdout",
     "output_type": "stream",
     "text": [
      "Model: \"sequential\"\n",
      "_________________________________________________________________\n",
      " Layer (type)                Output Shape              Param #   \n",
      "=================================================================\n",
      " dense (Dense)               (None, 64)                640064    \n",
      "                                                                 \n",
      " dense_1 (Dense)             (None, 64)                4160      \n",
      "                                                                 \n",
      " dense_2 (Dense)             (None, 46)                2990      \n",
      "                                                                 \n",
      "=================================================================\n",
      "Total params: 647214 (2.47 MB)\n",
      "Trainable params: 647214 (2.47 MB)\n",
      "Non-trainable params: 0 (0.00 Byte)\n",
      "_________________________________________________________________\n"
     ]
    }
   ],
   "source": [
    "model = tf.keras.models.Sequential()\n",
    "model.add(tf.keras.layers.Dense(64, activation='relu', input_shape=(10000,)))\n",
    "model.add(tf.keras.layers.Dense(64, activation='relu'))\n",
    "model.add(tf.keras.layers.Dense(46, activation='softmax')) # ← ACTIVATION & as many units as we have classes!\n",
    "\n",
    "model.summary()"
   ]
  },
  {
   "cell_type": "markdown",
   "id": "b723e4d5",
   "metadata": {
    "slideshow": {
     "slide_type": "subslide"
    }
   },
   "source": [
    "#### Note: calculating the number of parameters\n",
    "\n",
    "$$\n",
    "\\bbox[5px,border:2px solid red]\n",
    "{ \n",
    "\\mathrm{number\\ of\\ params\\ per\\ layer} = \\underbrace{\\mathrm{input\\ dim} \\times \\mathrm{number\\ of\\ units}}_{\\mathrm{weights\\ matrix}}\n",
    "+\n",
    "\\underbrace{\\mathrm{number\\ of\\ units}}_{\\mathrm{bias\\ vector}}\n",
    "}\n",
    "$$"
   ]
  },
  {
   "cell_type": "code",
   "execution_count": 18,
   "id": "6405bf83-fcc3-41ab-8eef-6236f90b3656",
   "metadata": {
    "slideshow": {
     "slide_type": "fragment"
    }
   },
   "outputs": [
    {
     "name": "stdout",
     "output_type": "stream",
     "text": [
      "layer \t (in, units) \t bias\n",
      "0 \t (10000, 64) \t (64,)\n",
      "1 \t (64, 64) \t (64,)\n",
      "2 \t (64, 46) \t (46,)\n"
     ]
    }
   ],
   "source": [
    "# The weight and bias tensors\n",
    "def print_layer_tensor_shape(layer):\n",
    "    weight_params, bias_params = model.layers[layer].get_weights()\n",
    "    print(layer, \"\\t\", weight_params.shape, \"\\t\", bias_params.shape)\n",
    "\n",
    "print(\"layer\", \"\\t\", \"(in, units)\", \"\\t\", \"bias\")\n",
    "print_layer_tensor_shape(layer=0)\n",
    "print_layer_tensor_shape(layer=1)\n",
    "print_layer_tensor_shape(layer=2)"
   ]
  },
  {
   "cell_type": "code",
   "execution_count": 19,
   "id": "3a9b9432-936f-431f-bb84-db390b6394bb",
   "metadata": {
    "slideshow": {
     "slide_type": "fragment"
    }
   },
   "outputs": [
    {
     "name": "stdout",
     "output_type": "stream",
     "text": [
      "647,214\n"
     ]
    }
   ],
   "source": [
    "print(f\"{(10000 * 64 + 64) + (64 * 64 + 64) + (64 * 46 + 46):,}\") # same as above"
   ]
  },
  {
   "cell_type": "code",
   "execution_count": 20,
   "id": "cd7d7817-7322-4469-951d-796f5e3cb6b8",
   "metadata": {
    "slideshow": {
     "slide_type": "subslide"
    }
   },
   "outputs": [],
   "source": [
    "model.compile(\n",
    "    optimizer='rmsprop',\n",
    "    loss='categorical_crossentropy', # one label out of multiple choices\n",
    "    metrics=['accuracy']\n",
    ")"
   ]
  },
  {
   "cell_type": "markdown",
   "id": "3d3150af",
   "metadata": {
    "slideshow": {
     "slide_type": "subslide"
    }
   },
   "source": [
    "### Before training: evaluate untrained model / commonsense baseline\n",
    "\n",
    "What would be a **random baseline**?"
   ]
  },
  {
   "cell_type": "code",
   "execution_count": 21,
   "id": "17d6f535",
   "metadata": {
    "scrolled": true,
    "slideshow": {
     "slide_type": "fragment"
    }
   },
   "outputs": [
    {
     "name": "stdout",
     "output_type": "stream",
     "text": [
      "0.020480854853072127\n"
     ]
    }
   ],
   "source": [
    "attempts = [] \n",
    "for test in test_labels: # ↓ a random number between 0 and 45\n",
    "    attempts.append(np.random.randint(46) == test)\n",
    "print(np.mean(attempts))"
   ]
  },
  {
   "cell_type": "code",
   "execution_count": 22,
   "id": "6978ab67",
   "metadata": {
    "slideshow": {
     "slide_type": "skip"
    }
   },
   "outputs": [
    {
     "name": "stdout",
     "output_type": "stream",
     "text": [
      "0.021938557435440785\n"
     ]
    }
   ],
   "source": [
    "# This was just one random run... Why not try this many times over?\n",
    "many_attempts = []\n",
    "n = 1000\n",
    "for i in range(n):\n",
    "    print(f\"{i+1}/{n}\\r\", end=\"\")\n",
    "    attempts = [] \n",
    "    for test in test_labels:\n",
    "        attempts.append(np.random.randint(46) == test)\n",
    "    many_attempts.append(np.mean(attempts))\n",
    "print(np.mean(many_attempts))"
   ]
  },
  {
   "cell_type": "markdown",
   "id": "1c76c99d",
   "metadata": {
    "slideshow": {
     "slide_type": "skip"
    }
   },
   "source": [
    "One way of computing the prevalence of classes in the test set mathematically, in a Pythonic way.\n",
    "\n",
    "I use a formula *summing the product of the true probabilities of each class multiplied by my guess of their probabilities*:\n",
    "\n",
    "$$\\sum_i^{n\\_classes}(p_{i} * q_{i})$$\n",
    "\n",
    "$p_{i}$: probability of occurrence of this class (number of occurrences / total)  \n",
    "$q_{i}$: the probability that my guess assigns to each class\n",
    "\n",
    "And $q_{class}$ is the same for all classes (since it's a random guess): 1/46."
   ]
  },
  {
   "cell_type": "code",
   "execution_count": 23,
   "id": "596bdcb0",
   "metadata": {
    "slideshow": {
     "slide_type": "skip"
    }
   },
   "outputs": [
    {
     "data": {
      "text/plain": [
       "0.021739130434782608"
      ]
     },
     "execution_count": 23,
     "metadata": {},
     "output_type": "execute_result"
    }
   ],
   "source": [
    "from collections import Counter\n",
    "\n",
    "c = Counter(test_labels)                 # built-in object to count occurrences in Python\n",
    "\n",
    "n_classes = test_labels.max() + 1        # 46 classes (the max integer we get is 45)\n",
    "n_test_samples = test_labels.shape[0]    # total number of samples\n",
    "\n",
    "# a Pythonic way of getting  \n",
    "        # each prob with its count turned into a list, then into a Numpy array\n",
    "        # [[class1, count],\n",
    "        #  [class2, count],\n",
    "        #   ...\n",
    "        # [class46, count]]\n",
    "        #  → select only the counts [:, 1] → divide by the total\n",
    "        # each one is the probability of each class\n",
    "probs = np.array(list(c.items()))[:,1] / n_test_samples\n",
    "\n",
    "# a random guess would mean that each of these probabilities has 1/46 chances of being drawn\n",
    "(probs * (1/n_classes)).sum()"
   ]
  },
  {
   "cell_type": "markdown",
   "id": "863d875f",
   "metadata": {
    "slideshow": {
     "slide_type": "skip"
    }
   },
   "source": [
    "This is in fact a direct application of cross-entropy, where I assume that my data is representative of the true probability of events $p$, and my guess (1/46) is my model $q$.\n",
    "\n",
    "Here a very useful overview of this."
   ]
  },
  {
   "cell_type": "code",
   "execution_count": 24,
   "id": "cc5ff349",
   "metadata": {
    "slideshow": {
     "slide_type": "skip"
    }
   },
   "outputs": [
    {
     "data": {
      "image/jpeg": "[encoded data removed]",
      "text/html": [
       "\n",
       "        <iframe\n",
       "            width=\"853\"\n",
       "            height=\"480\"\n",
       "            src=\"https://www.youtube.com/embed/ErfnhcEV1O8\"\n",
       "            frameborder=\"0\"\n",
       "            allowfullscreen\n",
       "            \n",
       "        ></iframe>\n",
       "        "
      ],
      "text/plain": [
       "<IPython.lib.display.YouTubeVideo at 0x1791d2220>"
      ]
     },
     "execution_count": 24,
     "metadata": {},
     "output_type": "execute_result"
    }
   ],
   "source": [
    "                                                   #  Aurélien Géron, A Short Introduction \n",
    "YouTubeVideo('ErfnhcEV1O8', width=853, height=480) # to Entropy, Cross-Entropy and KL-Divergence"
   ]
  },
  {
   "cell_type": "markdown",
   "id": "128ee794",
   "metadata": {
    "slideshow": {
     "slide_type": "fragment"
    }
   },
   "source": [
    "Our untrained model."
   ]
  },
  {
   "cell_type": "code",
   "execution_count": 25,
   "id": "c9b28abc",
   "metadata": {
    "scrolled": true,
    "slideshow": {
     "slide_type": "fragment"
    }
   },
   "outputs": [
    {
     "name": "stdout",
     "output_type": "stream",
     "text": [
      "test accuracy: 0.04051647335290909\n"
     ]
    }
   ],
   "source": [
    "results = model.evaluate(x_test, one_hot_test_labels, verbose=0) # our untrained model\n",
    "print(f\"test accuracy: {results[1]}\")"
   ]
  },
  {
   "cell_type": "code",
   "execution_count": 27,
   "id": "785b6db8",
   "metadata": {
    "slideshow": {
     "slide_type": "skip"
    }
   },
   "outputs": [],
   "source": [
    "# Again, just one random run... You could be obsessive and try this 100 times...\n",
    "\n",
    "if False: # change to True to run\n",
    "    attempts = []\n",
    "    n = 100\n",
    "    for i in range(n):\n",
    "        print(f\"{i+1}/{n}\\r\", end=\"\")\n",
    "        tf.keras.backend.clear_session()\n",
    "        dummy_model = tf.keras.models.Sequential()\n",
    "        dummy_model.add(tf.keras.layers.Dense(64, activation='relu', input_shape=(10000,)))\n",
    "        dummy_model.add(tf.keras.layers.Dense(64, activation='relu'))\n",
    "        dummy_model.add(tf.keras.layers.Dense(46, activation='softmax'))\n",
    "    \n",
    "        dummy_model.compile(\n",
    "            optimizer='rmsprop',\n",
    "            loss='categorical_crossentropy', # one label out of multiple choices\n",
    "            metrics=['accuracy']\n",
    "        )\n",
    "    \n",
    "        results = dummy_model.evaluate(x_test, one_hot_test_labels, verbose=0)\n",
    "        attempts.append(results)\n",
    "    \n",
    "    results = np.array(attempts).mean(axis=0) # average along loss and accuracy respectively\n",
    "    print()\n",
    "    print(f\"test loss: {results[0]}, test accuracy: {results[1]}\")"
   ]
  },
  {
   "cell_type": "markdown",
   "id": "aba900d4",
   "metadata": {
    "slideshow": {
     "slide_type": "subslide"
    }
   },
   "source": [
    "#### Predicting the most frequent class\n",
    "\n",
    "However, we can do better.\n",
    "\n",
    "Predicting the most common class in an unbalanced dataset **will do better** than plain random... \n",
    "\n",
    "Namely: \"The most common class is X. Let's only predict X, and see how wrong we are (overall).\"\n",
    "\n",
    "*Take a coin toss: if you know that the coin is biased towards head, 80% of the time, you can just predict head only and expect to win 80%  of the time!*"
   ]
  },
  {
   "cell_type": "code",
   "execution_count": 26,
   "id": "865c8e64",
   "metadata": {
    "slideshow": {
     "slide_type": "subslide"
    }
   },
   "outputs": [
    {
     "name": "stdout",
     "output_type": "stream",
     "text": [
      "The most prevalent class is: 3, occurring 813 times (total: 2246),  probability: 0.361977.\n"
     ]
    }
   ],
   "source": [
    "totals = np.zeros(46)             \n",
    "for i in range(len(test_labels)): # counting how many examples we have \n",
    "    totals[test_labels[i]] += 1   # of each class by looping and incrementing\n",
    "indx = np.argmax(totals)          \n",
    "\n",
    "msg =  f\"The most prevalent class is: {indx}, occurring {totals[indx]:.0f} times \" \n",
    "msg += f\"(total: {test_labels.shape[0]}),  probability: {totals[indx]/test_labels.shape[0]:.6f}.\"    \n",
    "print(msg)                                               # ↑ number of occurrences / total"
   ]
  },
  {
   "cell_type": "code",
   "execution_count": 27,
   "id": "de09d00d",
   "metadata": {
    "slideshow": {
     "slide_type": "skip"
    }
   },
   "outputs": [
    {
     "data": {
      "text/plain": [
       "3"
      ]
     },
     "execution_count": 27,
     "metadata": {},
     "output_type": "execute_result"
    }
   ],
   "source": [
    "# note that in the above cell, using our counter,\n",
    "# we could also have done:\n",
    "indx_counter = c.most_common(n=1)[0][0] # ← you could ask for the n most common items\n",
    "indx_counter"
   ]
  },
  {
   "cell_type": "code",
   "execution_count": 28,
   "id": "fda8aded",
   "metadata": {
    "slideshow": {
     "slide_type": "fragment"
    }
   },
   "outputs": [
    {
     "name": "stdout",
     "output_type": "stream",
     "text": [
      "0.3619768477292965\n"
     ]
    }
   ],
   "source": [
    "# a plain loop will give us the same result\n",
    "attempts = [] \n",
    "for test in test_labels: # only predict the most probable class\n",
    "    attempts.append(indx == test)\n",
    "print(np.mean(attempts))"
   ]
  },
  {
   "cell_type": "markdown",
   "id": "f4961957-0c8e-4c92-91ea-e28f5a58d70a",
   "metadata": {
    "slideshow": {
     "slide_type": "slide"
    }
   },
   "source": [
    "---\n",
    "\n",
    "## 4.2.4 Validating your approach"
   ]
  },
  {
   "cell_type": "code",
   "execution_count": 29,
   "id": "74cb7a4e",
   "metadata": {
    "slideshow": {
     "slide_type": "fragment"
    }
   },
   "outputs": [],
   "source": [
    "# split into train and evaluation\n",
    "x_val = x_train[:1000]\n",
    "partial_x_train = x_train[1000:]\n",
    "\n",
    "y_val = one_hot_train_labels[:1000]\n",
    "partial_y_train = one_hot_train_labels[1000:]"
   ]
  },
  {
   "cell_type": "code",
   "execution_count": 58,
   "id": "3903dca3-cf7f-4021-9a5a-f540d0101937",
   "metadata": {
    "slideshow": {
     "slide_type": "subslide"
    }
   },
   "outputs": [
    {
     "name": "stdout",
     "output_type": "stream",
     "text": [
      "Epoch 1/20\n",
      "16/16 [==============================] - 3s 53ms/step - loss: 2.7867 - accuracy: 0.4971 - val_loss: 1.8818 - val_accuracy: 0.6220\n",
      "Epoch 2/20\n",
      "16/16 [==============================] - 0s 22ms/step - loss: 1.5294 - accuracy: 0.6936 - val_loss: 1.3370 - val_accuracy: 0.7000\n",
      "Epoch 3/20\n",
      "16/16 [==============================] - 0s 20ms/step - loss: 1.1422 - accuracy: 0.7582 - val_loss: 1.1544 - val_accuracy: 0.7570\n",
      "Epoch 4/20\n",
      "16/16 [==============================] - 0s 22ms/step - loss: 0.9317 - accuracy: 0.8009 - val_loss: 1.0435 - val_accuracy: 0.7680\n",
      "Epoch 5/20\n",
      "16/16 [==============================] - 0s 22ms/step - loss: 0.7763 - accuracy: 0.8312 - val_loss: 0.9728 - val_accuracy: 0.7870\n",
      "Epoch 6/20\n",
      "16/16 [==============================] - 0s 20ms/step - loss: 0.6499 - accuracy: 0.8587 - val_loss: 0.9197 - val_accuracy: 0.8030\n",
      "Epoch 7/20\n",
      "16/16 [==============================] - 0s 21ms/step - loss: 0.5450 - accuracy: 0.8812 - val_loss: 0.8945 - val_accuracy: 0.8140\n",
      "Epoch 8/20\n",
      "16/16 [==============================] - 0s 19ms/step - loss: 0.4585 - accuracy: 0.8979 - val_loss: 0.8587 - val_accuracy: 0.8150\n",
      "Epoch 9/20\n",
      "16/16 [==============================] - 0s 20ms/step - loss: 0.3907 - accuracy: 0.9142 - val_loss: 0.8505 - val_accuracy: 0.8170\n",
      "Epoch 10/20\n",
      "16/16 [==============================] - 0s 19ms/step - loss: 0.3348 - accuracy: 0.9260 - val_loss: 0.8741 - val_accuracy: 0.8060\n",
      "Epoch 11/20\n",
      "16/16 [==============================] - 0s 21ms/step - loss: 0.2921 - accuracy: 0.9350 - val_loss: 0.8324 - val_accuracy: 0.8240\n",
      "Epoch 12/20\n",
      "16/16 [==============================] - 0s 20ms/step - loss: 0.2567 - accuracy: 0.9429 - val_loss: 0.8461 - val_accuracy: 0.8180\n",
      "Epoch 13/20\n",
      "16/16 [==============================] - 0s 21ms/step - loss: 0.2270 - accuracy: 0.9471 - val_loss: 0.8846 - val_accuracy: 0.8140\n",
      "Epoch 14/20\n",
      "16/16 [==============================] - 0s 20ms/step - loss: 0.2024 - accuracy: 0.9503 - val_loss: 0.8802 - val_accuracy: 0.8170\n",
      "Epoch 15/20\n",
      "16/16 [==============================] - 0s 21ms/step - loss: 0.1874 - accuracy: 0.9505 - val_loss: 0.8858 - val_accuracy: 0.8240\n",
      "Epoch 16/20\n",
      "16/16 [==============================] - 0s 21ms/step - loss: 0.1686 - accuracy: 0.9539 - val_loss: 0.8670 - val_accuracy: 0.8200\n",
      "Epoch 17/20\n",
      "16/16 [==============================] - 0s 19ms/step - loss: 0.1617 - accuracy: 0.9539 - val_loss: 0.9473 - val_accuracy: 0.8060\n",
      "Epoch 18/20\n",
      "16/16 [==============================] - 0s 19ms/step - loss: 0.1497 - accuracy: 0.9550 - val_loss: 0.9053 - val_accuracy: 0.8170\n",
      "Epoch 19/20\n",
      "16/16 [==============================] - 0s 23ms/step - loss: 0.1436 - accuracy: 0.9560 - val_loss: 0.9747 - val_accuracy: 0.7990\n",
      "Epoch 20/20\n",
      "16/16 [==============================] - 0s 20ms/step - loss: 0.1328 - accuracy: 0.9567 - val_loss: 0.9280 - val_accuracy: 0.8070\n"
     ]
    }
   ],
   "source": [
    "history = model.fit(\n",
    "    partial_x_train, \n",
    "    partial_y_train,\n",
    "    epochs = 20,\n",
    "    batch_size = 512,\n",
    "    validation_data = (x_val, y_val) # ← validation!\n",
    ")"
   ]
  },
  {
   "cell_type": "code",
   "execution_count": 59,
   "id": "f8110db1-7b38-4d54-ba95-6b0e992cca6a",
   "metadata": {
    "slideshow": {
     "slide_type": "subslide"
    }
   },
   "outputs": [
    {
     "data": {
      "text/plain": [
       "dict_keys(['loss', 'accuracy', 'val_loss', 'val_accuracy'])"
      ]
     },
     "execution_count": 59,
     "metadata": {},
     "output_type": "execute_result"
    }
   ],
   "source": [
    "history.history.keys() # Training and validation loss and accuracy are saved in the history object"
   ]
  },
  {
   "cell_type": "code",
   "execution_count": 79,
   "id": "3b598a61",
   "metadata": {
    "slideshow": {
     "slide_type": "skip"
    }
   },
   "outputs": [],
   "source": [
    "def plot_epochs(y_train, y_validation, title, y_label):\n",
    "    x = range(1, len(y_train) + 1)\n",
    "    plt.clf()\n",
    "    plt.plot(x, y_train, \"bo\", label = \"training\")\n",
    "    plt.plot(x, y_validation, \"b\", label = \"validation\")\n",
    "    if y_label == \"Loss\":\n",
    "        x_overfitting = np.argmin(y_validation)\n",
    "        plt.text(x_overfitting + 1,\n",
    "                 y_validation[x_overfitting] + y_validation[x_overfitting]/10,\n",
    "                 f\"↓ min: epoch {x_overfitting + 1}\")\n",
    "    elif y_label == \"Accuracy\":\n",
    "        x_overfitting = np.argmax(y_validation)\n",
    "        plt.text(x_overfitting + 1,\n",
    "                 y_validation[x_overfitting] - y_validation[x_overfitting]/20,\n",
    "                 f\"↑ max: epoch {x_overfitting + 1}\")        \n",
    "    plt.title(title)\n",
    "    plt.ylabel(y_label)\n",
    "    plt.xlabel(\"Epochs\")\n",
    "    plt.xlim(xmin=0)\n",
    "    plt.legend()\n",
    "    plt.show()"
   ]
  },
  {
   "cell_type": "code",
   "execution_count": 80,
   "id": "f11d6290-ba8f-4697-a0bb-26c5a133441d",
   "metadata": {
    "slideshow": {
     "slide_type": "fragment"
    }
   },
   "outputs": [],
   "source": [
    "loss = history.history['loss']\n",
    "val_loss = history.history['val_loss']\n",
    "acc = history.history['accuracy']\n",
    "val_acc = history.history['val_accuracy']  "
   ]
  },
  {
   "cell_type": "code",
   "execution_count": 81,
   "id": "b4469424",
   "metadata": {
    "scrolled": true,
    "slideshow": {
     "slide_type": "fragment"
    }
   },
   "outputs": [
    {
     "name": "stdout",
     "output_type": "stream",
     "text": [
      "Smallest val loss at epoch 11: 0.8323678970336914\n"
     ]
    }
   ],
   "source": [
    "print(f\"Smallest val loss at epoch {np.argmin(val_loss) + 1}: {np.min(val_loss)}\")"
   ]
  },
  {
   "cell_type": "code",
   "execution_count": 82,
   "id": "5d440167",
   "metadata": {
    "slideshow": {
     "slide_type": "subslide"
    }
   },
   "outputs": [
    {
     "data": {
      "image/png": "[encoded data removed]",
      "text/plain": [
       "<Figure size 640x480 with 1 Axes>"
      ]
     },
     "metadata": {},
     "output_type": "display_data"
    }
   ],
   "source": [
    "plot_epochs(\n",
    "    loss, val_loss, \n",
    "    title='Training and validation loss',\n",
    "    y_label='Loss'\n",
    ")"
   ]
  },
  {
   "cell_type": "code",
   "execution_count": 83,
   "id": "d80e0d36",
   "metadata": {
    "scrolled": true,
    "slideshow": {
     "slide_type": "subslide"
    }
   },
   "outputs": [
    {
     "name": "stdout",
     "output_type": "stream",
     "text": [
      "Higest val accuracy at epoch 11: 0.8240000009536743\n"
     ]
    }
   ],
   "source": [
    "print(f\"Higest val accuracy at epoch {np.argmax(val_acc) + 1}: {np.max(val_acc)}\")"
   ]
  },
  {
   "cell_type": "code",
   "execution_count": 84,
   "id": "505b166f-248c-4353-8a9c-f1cc14a513b5",
   "metadata": {
    "slideshow": {
     "slide_type": "fragment"
    }
   },
   "outputs": [
    {
     "data": {
      "image/png": "[encoded data removed]",
      "text/plain": [
       "<Figure size 640x480 with 1 Axes>"
      ]
     },
     "metadata": {},
     "output_type": "display_data"
    }
   ],
   "source": [
    "plot_epochs(\n",
    "    acc, val_acc, \n",
    "    title='Training and validation accuracy',\n",
    "    y_label='Accuracy'\n",
    ")"
   ]
  },
  {
   "cell_type": "markdown",
   "id": "fc07fbcf",
   "metadata": {
    "slideshow": {
     "slide_type": "subslide"
    }
   },
   "source": [
    "### Early stopping: retrain on whole training data up until the overfitting starts"
   ]
  },
  {
   "cell_type": "code",
   "execution_count": 86,
   "id": "df14736b-bdef-402d-b4fd-3c3b85040e7c",
   "metadata": {
    "slideshow": {
     "slide_type": "fragment"
    }
   },
   "outputs": [
    {
     "name": "stdout",
     "output_type": "stream",
     "text": [
      "Epoch 1/11\n",
      "18/18 [==============================] - 2s 15ms/step - loss: 2.6968 - accuracy: 0.4886\n",
      "Epoch 2/11\n",
      "18/18 [==============================] - 0s 14ms/step - loss: 1.4868 - accuracy: 0.6785\n",
      "Epoch 3/11\n",
      "18/18 [==============================] - 0s 14ms/step - loss: 1.1496 - accuracy: 0.7469\n",
      "Epoch 4/11\n",
      "18/18 [==============================] - 0s 15ms/step - loss: 0.9406 - accuracy: 0.7963\n",
      "Epoch 5/11\n",
      "18/18 [==============================] - 0s 14ms/step - loss: 0.7838 - accuracy: 0.8271\n",
      "Epoch 6/11\n",
      "18/18 [==============================] - 0s 15ms/step - loss: 0.6513 - accuracy: 0.8550\n",
      "Epoch 7/11\n",
      "18/18 [==============================] - 0s 15ms/step - loss: 0.5432 - accuracy: 0.8803\n",
      "Epoch 8/11\n",
      "18/18 [==============================] - 0s 14ms/step - loss: 0.4559 - accuracy: 0.9048\n",
      "Epoch 9/11\n",
      "18/18 [==============================] - 0s 14ms/step - loss: 0.3878 - accuracy: 0.9173\n",
      "Epoch 10/11\n",
      "18/18 [==============================] - 0s 14ms/step - loss: 0.3308 - accuracy: 0.9283\n",
      "Epoch 11/11\n",
      "18/18 [==============================] - 0s 13ms/step - loss: 0.2890 - accuracy: 0.9361\n"
     ]
    }
   ],
   "source": [
    "tf.keras.backend.clear_session()\n",
    "\n",
    "model = tf.keras.models.Sequential()\n",
    "model.add(tf.keras.layers.Dense(64, activation=\"relu\", input_shape=(10000,)))\n",
    "model.add(tf.keras.layers.Dense(64, activation=\"relu\"))\n",
    "model.add(tf.keras.layers.Dense(46, activation=\"softmax\"))\n",
    "\n",
    "model.compile(\n",
    "    optimizer=\"rmsprop\",\n",
    "    loss=\"categorical_crossentropy\",\n",
    "    metrics=[\"accuracy\"]\n",
    ")\n",
    "\n",
    "history=model.fit(\n",
    "    x_train,                        # ← retrain on whole train dataset\n",
    "    one_hot_train_labels,\n",
    "    epochs=np.argmax(val_acc) + 1,  # ← use the index of our maximum validation accuracy as max epoch\n",
    "    batch_size=512\n",
    ")"
   ]
  },
  {
   "cell_type": "markdown",
   "id": "747a7a7b",
   "metadata": {
    "slideshow": {
     "slide_type": "subslide"
    }
   },
   "source": [
    "### Finally, test on the test set"
   ]
  },
  {
   "cell_type": "code",
   "execution_count": 87,
   "id": "a46a4288-03cf-4cb4-881b-cf46ffa6ecc2",
   "metadata": {
    "slideshow": {
     "slide_type": "fragment"
    }
   },
   "outputs": [
    {
     "name": "stdout",
     "output_type": "stream",
     "text": [
      "test loss: 0.944118320941925, test accuracy: 0.7894033789634705\n"
     ]
    }
   ],
   "source": [
    "results = model.evaluate(x_test, one_hot_test_labels, verbose=0)\n",
    "\n",
    "print(f\"test loss: {results[0]}, test accuracy: {results[1]}\")"
   ]
  },
  {
   "cell_type": "markdown",
   "id": "3650e43b-3f35-4667-8d3e-80c7fc3cda42",
   "metadata": {
    "slideshow": {
     "slide_type": "subslide"
    }
   },
   "source": [
    "---\n",
    "\n",
    "## 4.2.5 Generating prediction on new data\n",
    "\n",
    "Let's get back to our trained model.\n",
    "\n",
    "The predictions and labels for the first 10 wires in the test set."
   ]
  },
  {
   "cell_type": "code",
   "execution_count": 40,
   "id": "377b5d69-7db8-4934-b643-5a8ef7f3d028",
   "metadata": {
    "slideshow": {
     "slide_type": "subslide"
    }
   },
   "outputs": [
    {
     "name": "stdout",
     "output_type": "stream",
     "text": [
      "wire \t pred \t label \t correct?\n",
      "0 \t 3 \t 3 \t True\n",
      "1 \t 10 \t 10 \t True\n",
      "2 \t 1 \t 1 \t True\n",
      "3 \t 4 \t 4 \t True\n",
      "4 \t 13 \t 4 \t False\n",
      "5 \t 3 \t 3 \t True\n",
      "6 \t 3 \t 3 \t True\n",
      "7 \t 3 \t 3 \t True\n",
      "8 \t 3 \t 3 \t True\n",
      "9 \t 3 \t 3 \t True\n"
     ]
    }
   ],
   "source": [
    "predictions = model.predict(x_test, verbose=0)\n",
    "print('wire', '\\t', 'pred', '\\t', 'label', '\\t', 'correct?')\n",
    "for i in range(10):\n",
    "    print(i, '\\t', np.argmax(predictions[i]), '\\t', test_labels[i], '\\t', np.argmax(predictions[i]) == test_labels[i]) "
   ]
  },
  {
   "cell_type": "markdown",
   "id": "452fab47",
   "metadata": {
    "slideshow": {
     "slide_type": "subslide"
    }
   },
   "source": [
    "### Inspecting our model\n",
    "\n",
    "It would be nice to have a more concrete idea of where our network got it wrong, wouldn't it?"
   ]
  },
  {
   "cell_type": "code",
   "execution_count": 41,
   "id": "c160b8ed-50e0-4a71-ac0b-326385e38b83",
   "metadata": {
    "slideshow": {
     "slide_type": "subslide"
    }
   },
   "outputs": [],
   "source": [
    "def indices_of_wrong_predictions():\n",
    "    indices = []\n",
    "    for i in range(len(x_test)):\n",
    "        y_pred = np.argmax(predictions[i])\n",
    "        if(y_pred != test_labels[i]):\n",
    "            indices.append(i)\n",
    "    return indices        "
   ]
  },
  {
   "cell_type": "code",
   "execution_count": 42,
   "id": "d51cdc06-d7dd-489b-a2c4-3672722ec3fe",
   "metadata": {
    "slideshow": {
     "slide_type": "fragment"
    }
   },
   "outputs": [],
   "source": [
    "def misprediction(i):\n",
    "    wrongs = indices_of_wrong_predictions()\n",
    "    print(f\"Wire n° {i}/{len(wrongs)}\")\n",
    "    try:\n",
    "        oops = wrongs[i]\n",
    "        pred = np.argmax(predictions[oops])\n",
    "        print(f\"predicted: {topics[pred]}, label: {topics[test_labels[oops]]}\")\n",
    "        print()\n",
    "        print(decode_wire(test_data[oops]))\n",
    "    except:\n",
    "        print(f\"Oops, your index was {i} and the max is {len(wrongs)}\")"
   ]
  },
  {
   "cell_type": "code",
   "execution_count": 43,
   "id": "55ddc573-0129-4f03-8792-72bfe8358018",
   "metadata": {
    "scrolled": true,
    "slideshow": {
     "slide_type": "subslide"
    }
   },
   "outputs": [
    {
     "name": "stdout",
     "output_type": "stream",
     "text": [
      "Wire n° 1/467\n",
      "predicted: grain, label: wheat\n",
      "\n",
      "? grain traders said they were still awaiting results of yesterday's u k intervention feed wheat tender for the home market the market sought to buy 340 000 tonnes more than double the remaining 150 000 tonnes available under the current tender however some of the tonnage included ? bids for supplies in the same stores since the tenders started last july ? 000 tonnes of british feed wheat have been sold back to the home market reuter 3\n"
     ]
    }
   ],
   "source": [
    "misprediction(1) # the second mistaken prediction..."
   ]
  },
  {
   "cell_type": "code",
   "execution_count": 44,
   "id": "e0678532-5080-4ee3-80b5-3e81264ac906",
   "metadata": {
    "slideshow": {
     "slide_type": "fragment"
    }
   },
   "outputs": [
    {
     "name": "stdout",
     "output_type": "stream",
     "text": [
      "Wire n° 11/467\n",
      "predicted: acq, label: crude\n",
      "\n",
      "? asamera inc said wholly owned asamera oil u s inc concluded the 25 25 mln u s dlr sale of its denver refinery to total petroleum north america ltd in addition total is purchasing crude oil and refined product inventories at market value asamera said reuter 3\n"
     ]
    }
   ],
   "source": [
    "misprediction(11) # and another one..."
   ]
  },
  {
   "cell_type": "markdown",
   "id": "153a606e-45a4-481c-bd14-9ec776589160",
   "metadata": {
    "slideshow": {
     "slide_type": "slide"
    }
   },
   "source": [
    "---\n",
    "\n",
    "## 4.2.6 A different way to handle the labels and the loss\n",
    "\n",
    "One-hot encoding takes a lot of memory, and is very sparse (zeros everywhere).\n",
    "\n",
    "Instead of that, we could cast the labels as integer tensors, simply storing the right index."
   ]
  },
  {
   "cell_type": "code",
   "execution_count": 45,
   "id": "4b603e26-baf2-4ff7-bb7d-f343e6a4c8fa",
   "metadata": {
    "scrolled": true,
    "slideshow": {
     "slide_type": "fragment"
    }
   },
   "outputs": [
    {
     "name": "stdout",
     "output_type": "stream",
     "text": [
      "[ 3  4  3  4  4  4  4  3  3 16] int64\n"
     ]
    }
   ],
   "source": [
    "y_train_sparse = np.array(train_labels) # cast as int\n",
    "y_test_sparse = np.array(test_labels)\n",
    "print(y_train_sparse[:10], y_train_sparse.dtype)"
   ]
  },
  {
   "cell_type": "markdown",
   "id": "fede84fe-30ae-4735-a253-914e88e02e36",
   "metadata": {
    "slideshow": {
     "slide_type": "subslide"
    }
   },
   "source": [
    "Everything else remains the same, except for the choice of loss function.\n",
    "\n",
    "Use `sparse_categorical_crossentropy` with integer labels: instead of a one-hot vector with the label at index i, you just provide i as an integer.\n",
    "\n",
    "**Sparse** refers to the fact that we encode the same amount of information as a big matrix full of zeros (one-hot) into a vector of integers, much more compact!\n",
    "\n",
    "(Actually, the new loss function is the same as `categorical_crossentropy` – the programming interface has changed, that's all)."
   ]
  },
  {
   "cell_type": "code",
   "execution_count": 88,
   "id": "e74659a1-6b3b-40de-8020-2227efe589d6",
   "metadata": {
    "slideshow": {
     "slide_type": "subslide"
    }
   },
   "outputs": [],
   "source": [
    "tf.keras.backend.clear_session()\n",
    "\n",
    "model = tf.keras.models.Sequential()\n",
    "model.add(tf.keras.layers.Dense(64, activation=\"relu\", input_shape=(10000,)))\n",
    "model.add(tf.keras.layers.Dense(64, activation=\"relu\"))\n",
    "model.add(tf.keras.layers.Dense(46, activation=\"softmax\"))\n",
    "\n",
    "model.compile(\n",
    "    optimizer='rmsprop',\n",
    "        # ↓ instead of 'categorical_crossentropy'\n",
    "    loss='sparse_categorical_crossentropy', \n",
    "        # ↑ -------------------------------------\n",
    "    metrics=['acc']\n",
    ")"
   ]
  },
  {
   "cell_type": "code",
   "execution_count": 89,
   "id": "b8f48c5e",
   "metadata": {
    "slideshow": {
     "slide_type": "subslide"
    }
   },
   "outputs": [
    {
     "name": "stdout",
     "output_type": "stream",
     "text": [
      "Epoch 1/11\n",
      "18/18 [==============================] - 2s 14ms/step - loss: 2.6422 - acc: 0.4908\n",
      "Epoch 2/11\n",
      "18/18 [==============================] - 0s 14ms/step - loss: 1.4352 - acc: 0.6962\n",
      "Epoch 3/11\n",
      "18/18 [==============================] - 0s 15ms/step - loss: 1.0957 - acc: 0.7586\n",
      "Epoch 4/11\n",
      "18/18 [==============================] - 0s 15ms/step - loss: 0.9004 - acc: 0.8003\n",
      "Epoch 5/11\n",
      "18/18 [==============================] - 0s 15ms/step - loss: 0.7476 - acc: 0.8371\n",
      "Epoch 6/11\n",
      "18/18 [==============================] - 0s 16ms/step - loss: 0.6243 - acc: 0.8681\n",
      "Epoch 7/11\n",
      "18/18 [==============================] - 0s 14ms/step - loss: 0.5235 - acc: 0.8907\n",
      "Epoch 8/11\n",
      "18/18 [==============================] - 0s 14ms/step - loss: 0.4432 - acc: 0.9084\n",
      "Epoch 9/11\n",
      "18/18 [==============================] - 0s 15ms/step - loss: 0.3751 - acc: 0.9191\n",
      "Epoch 10/11\n",
      "18/18 [==============================] - 0s 16ms/step - loss: 0.3192 - acc: 0.9302\n",
      "Epoch 11/11\n",
      "18/18 [==============================] - 0s 15ms/step - loss: 0.2804 - acc: 0.9363\n"
     ]
    }
   ],
   "source": [
    "history = model.fit(\n",
    "    x_train,         # the same x_train as before\n",
    "    y_train_sparse,  # integers instead of one-hot vectors\n",
    "    epochs=np.argmin(val_loss) + 1,\n",
    "    batch_size=512,\n",
    ")"
   ]
  },
  {
   "cell_type": "code",
   "execution_count": 90,
   "id": "8fc809e6-0c99-464e-85d3-cdf89e9f625a",
   "metadata": {
    "slideshow": {
     "slide_type": "fragment"
    }
   },
   "outputs": [
    {
     "name": "stdout",
     "output_type": "stream",
     "text": [
      "\n",
      "71/71 [==============================] - 1s 5ms/step - loss: 0.9140 - acc: 0.7961\n"
     ]
    }
   ],
   "source": [
    "print()\n",
    "results = model.evaluate(x_test, y_test_sparse)"
   ]
  },
  {
   "cell_type": "markdown",
   "id": "09a137a5-30be-4ef5-97dd-ba5231daa12e",
   "metadata": {
    "slideshow": {
     "slide_type": "slide"
    }
   },
   "source": [
    "---\n",
    "\n",
    "## 4.2.7 The importance of having sufficiently large intermediate layers\n",
    "\n",
    "The final layer has 46 units.\n",
    "\n",
    "Intermediate layers of fewer than 46 units might cause an information bottleneck.\n",
    "\n",
    "Explore the consequence of a very small intermediate representation – just 4D."
   ]
  },
  {
   "cell_type": "markdown",
   "id": "e76724c8",
   "metadata": {
    "slideshow": {
     "slide_type": "subslide"
    }
   },
   "source": [
    "### Modular programming\n",
    "\n",
    "A network building function for decluttering notebooks and ease of experimentation. The size of each layer – number of units – is passed as function arguments."
   ]
  },
  {
   "cell_type": "code",
   "execution_count": 49,
   "id": "96450622-64fc-465f-8f38-21b407306cf1",
   "metadata": {
    "slideshow": {
     "slide_type": "fragment"
    }
   },
   "outputs": [],
   "source": [
    "def build(layer_1, layer_2, layer_3, clear=True):\n",
    "    if clear: # by default, I clear the memory of previous models\n",
    "        tf.keras.backend.clear_session()\n",
    "    model = tf.keras.models.Sequential()\n",
    "    model.add(tf.keras.layers.Dense(layer_1, activation='relu', input_shape=(10000,))) # ← IDEA FOR COURSEWORK: rewrite this\n",
    "    model.add(tf.keras.layers.Dense(layer_2, activation='relu'))                       # as a loop allowing you to build \n",
    "    model.add(tf.keras.layers.Dense(layer_3, activation='softmax'))                    # models with variable depths straight\n",
    "    model.compile(                                                            # from the function's arguments...\n",
    "        optimizer='rmsprop',\n",
    "        loss='categorical_crossentropy',\n",
    "        metrics=['accuracy']\n",
    "    )\n",
    "    return model"
   ]
  },
  {
   "cell_type": "markdown",
   "id": "65c460f9",
   "metadata": {
    "slideshow": {
     "slide_type": "subslide"
    }
   },
   "source": [
    "### Modular programming\n",
    "\n",
    "A training function. This function could be modified to include training hyperparameters as function parameters. "
   ]
  },
  {
   "cell_type": "code",
   "execution_count": 50,
   "id": "02c1a901-8562-4e6f-b31c-d88d3dca5852",
   "metadata": {
    "slideshow": {
     "slide_type": "fragment"
    }
   },
   "outputs": [],
   "source": [
    "def train(model):\n",
    "    # we train and return the history!\n",
    "    return model.fit(\n",
    "        partial_x_train, \n",
    "        partial_y_train,\n",
    "        epochs=20,\n",
    "        batch_size=512,\n",
    "        validation_data=(x_val, y_val),\n",
    "        verbose=0\n",
    "    )"
   ]
  },
  {
   "cell_type": "code",
   "execution_count": 51,
   "id": "3c84bb17-1584-4aea-ab1b-1b2b15de06c3",
   "metadata": {
    "slideshow": {
     "slide_type": "subslide"
    }
   },
   "outputs": [
    {
     "name": "stdout",
     "output_type": "stream",
     "text": [
      "max val accuracy: 0.8299999833106995 at epoch 13\n"
     ]
    }
   ],
   "source": [
    "model = build(layer_1=64, layer_2=64, layer_3=46) # our original Reuters network\n",
    "history = train(model)\n",
    "ind = np.argmax(history.history['val_accuracy'])\n",
    "print(f\"max val accuracy: {history.history['val_accuracy'][ind]} at epoch {ind}\")"
   ]
  },
  {
   "cell_type": "code",
   "execution_count": 52,
   "id": "f2c4cb43-7e9f-4279-b763-b55a95351983",
   "metadata": {
    "slideshow": {
     "slide_type": "fragment"
    }
   },
   "outputs": [
    {
     "name": "stdout",
     "output_type": "stream",
     "text": [
      "max val accuracy: 0.5120000243186951 at epoch 4\n"
     ]
    }
   ],
   "source": [
    "model = build(layer_1=64, layer_2=4, layer_3=46) # creating a bottleneck in the second layer\n",
    "history = train(model)\n",
    "ind = np.argmax(history.history['val_accuracy'])\n",
    "print(f\"max val accuracy: {history.history['val_accuracy'][ind]} at epoch {ind}\")"
   ]
  },
  {
   "cell_type": "markdown",
   "id": "39c020cf",
   "metadata": {
    "slideshow": {
     "slide_type": "slide"
    }
   },
   "source": [
    "---\n",
    "\n",
    "## 4.2.8 Further experiments\n",
    "\n",
    "## 4.2.9 Wrapping up"
   ]
  },
  {
   "cell_type": "markdown",
   "id": "eb853b9c",
   "metadata": {
    "slideshow": {
     "slide_type": "subslide"
    }
   },
   "source": [
    "### Summary\n",
    "\n",
    "#### Inputs\n",
    "- Processing inputs as *multi-hot*;\n",
    "\n",
    "##### Labels\n",
    "\n",
    "- Labels as *one-hot* vectors with the `categorical_crossentropy`;\n",
    "- Labels as *integers* with the `sparse_categorical_crossentropy`;"
   ]
  },
  {
   "cell_type": "markdown",
   "id": "d96845af",
   "metadata": {
    "slideshow": {
     "slide_type": "subslide"
    }
   },
   "source": [
    "##### Key ideas\n",
    "\n",
    "- Train/Validation/Test splits;\n",
    "- Overfitting;\n",
    "- Commonsense baselines;\n",
    "- Information bottlenecks (small intermediate layers)!"
   ]
  },
  {
   "cell_type": "markdown",
   "id": "28f2be65",
   "metadata": {
    "slideshow": {
     "slide_type": "subslide"
    }
   },
   "source": [
    "### Single-label multi-class classification\n",
    "\n",
    "- The output layer for a multi-classification task should have **as many units as there are classes**;\n",
    "- Use a **softmax** activation function;\n",
    "- The loss function is `categorical_crossentropy` or `sparse_categorical_crossentropy`; \n",
    "- A softmax layer outputs a **probability distribution** over possible classes;\n"
   ]
  },
  {
   "cell_type": "markdown",
   "id": "0cecc0ba",
   "metadata": {
    "slideshow": {
     "slide_type": "subslide"
    }
   },
   "source": [
    "### Workflow\n",
    "\n",
    "1. Prepare the data & split into Train/Validation/Test\n",
    "2. Define your model\n",
    "3. Evaluate your untrained model / a **commonsense baseline**\n",
    "4. Train using **Train/Validation**\n",
    "5. Tweak **hyperparameters** → pick best validation results\n",
    "6. Retrain on **whole train dataset**\n",
    "7. Evaluate on **Test**"
   ]
  },
  {
   "cell_type": "markdown",
   "id": "8cdeeb38-8501-4dbf-ad64-2077f4707a85",
   "metadata": {
    "slideshow": {
     "slide_type": "subslide"
    }
   },
   "source": [
    "### Experiments\n",
    "\n",
    "- More or fewer hidden layers, with less/more units;\n",
    "- Try different learning rates and batch sizes;\n",
    "- Replace `relu` with an early neural network favourite, `tanh`;\n",
    "- Try the [`Adam` optimizer](https://www.tensorflow.org/api_docs/python/tf/keras/optimizers#classes_2): `optimizers.Adam(learning_rate=0.001)`, with various learning rates.\n",
    "- Try and think about how you would go about automating hyperparameter search (= making your life easier, so that the search is done by a system rather than manually)"
   ]
  },
  {
   "cell_type": "markdown",
   "id": "e11251f7",
   "metadata": {
    "slideshow": {
     "slide_type": "skip"
    }
   },
   "source": [
    "---\n",
    "\n",
    "### Extra\n",
    "\n",
    "What about *multi-label multi-class classification*? \n",
    "\n",
    "Namely, more than one label are possible?\n",
    "\n",
    "(Not in the Chollet. [Here is an example in Keras](https://keras.io/examples/nlp/multi_label_classification/))."
   ]
  },
  {
   "cell_type": "markdown",
   "id": "d6933192",
   "metadata": {
    "slideshow": {
     "slide_type": "skip"
    }
   },
   "source": [
    "### Multi-label multi-class classification\n",
    "\n",
    "- make your labels **multi-hot**;\n",
    "- output activation is `sigmoid`;\n",
    "- track accuracy with `categorical_accuracy`;\n",
    "- select the top $k$ highest probabilities when using the model (typically using `np.argsort`).\n",
    "\n",
    "Keras knows that if you give it multi-hot labels and select `binary_crossentropy`, it means that **each class is treated as an independent probability**."
   ]
  },
  {
   "cell_type": "markdown",
   "id": "673a2c41",
   "metadata": {
    "slideshow": {
     "slide_type": "skip"
    }
   },
   "source": [
    "\n",
    "<!-- ![correct last layers activations](images/ml/chollet.correct-last-layer-activations.png) -->\n",
    "<img src=\"https://github.com/jchwenger/AI/blob/main/3-getting-started/images/ml/chollet.correct-last-layer-activations.png?raw=true\">\n",
    "\n",
    "<small>DLWP, p.164</small>"
   ]
  }
 ],
 "metadata": {
  "accelerator": "GPU",
  "celltoolbar": "Slideshow",
  "colab": {
   "gpuType": "T4",
   "provenance": []
  },
  "kernelspec": {
   "display_name": "Python 3 (ipykernel)",
   "language": "python",
   "name": "python3"
  },
  "language_info": {
   "codemirror_mode": {
    "name": "ipython",
    "version": 3
   },
   "file_extension": ".py",
   "mimetype": "text/x-python",
   "name": "python",
   "nbconvert_exporter": "python",
   "pygments_lexer": "ipython3",
   "version": "3.9.18"
  }
 },
 "nbformat": 4,
 "nbformat_minor": 5
}
