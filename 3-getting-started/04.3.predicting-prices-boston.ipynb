{
 "cells": [
  {
   "cell_type": "markdown",
   "id": "7bcf6188-684a-464c-bd97-29ec054c79f3",
   "metadata": {
    "id": "7bcf6188-684a-464c-bd97-29ec054c79f3"
   },
   "source": [
    "---\n",
    "\n",
    "# 4 Getting started with neural networks:\n",
    "\n",
    "# Classification and regression"
   ]
  },
  {
   "cell_type": "code",
   "execution_count": 1,
   "id": "7926b126",
   "metadata": {
    "id": "7926b126"
   },
   "outputs": [],
   "source": [
    "import os\n",
    "import numpy as np\n",
    "import tensorflow as tf\n",
    "\n",
    "import matplotlib.pyplot as plt\n",
    "\n",
    "plt.rcParams['lines.markersize'] = 2  # nice scatter point size\n",
    "from IPython.display import YouTubeVideo\n",
    "from IPython.display import clear_output\n",
    "\n",
    "import tensorflow as tf\n",
    "os.environ['TF_CPP_MIN_LOG_LEVEL'] = '3' # mute some annoying warnings"
   ]
  },
  {
   "cell_type": "markdown",
   "id": "263ee501-fa0a-415c-b26d-3d9e7df8565a",
   "metadata": {
    "id": "263ee501-fa0a-415c-b26d-3d9e7df8565a"
   },
   "source": [
    "#### Binary classification: data → scalar (probability of *one* class)\n",
    "\n",
    "*\\\"Here is a photo, is it a cat or not?\" (Negative/Positive, detecting if something is there, etc.)*\n",
    "\n",
    "#### Multiclass classification: data → vector (distribution over *many classes*)\n",
    "\n",
    "*\\\"Here is a photo, multiple choice for you: is it a cat, a dog, an airplane, a flower, ... ?*\n",
    "\n",
    "## * Regression: data → scalar (a continuous value describing the data)\n",
    "\n",
    "*\\\"Here is a data about a house, what is its price)?* <small>☠️☠️☠️ *Logistic regression* (*classification problem*) ≠ *regression*!!</small>"
   ]
  },
  {
   "cell_type": "markdown",
   "id": "671566b7",
   "metadata": {
    "id": "671566b7"
   },
   "source": [
    "<!-- ![Classification vs regression](images/ml/Classification-vs-Regression.png) -->\n",
    "<img src=\"https://github.com/jchwenger/AI/blob/main/3-getting-started/images/ml/Classification-vs-Regression.png?raw=true\">\n",
    "\n",
    "<small>[Sami Belkacem, \"Machine learning approaches to rank news feed updates on social media\", ResearchGate](https://www.researchgate.net/figure/Classification-vs-Regression_fig2_350993856)</small>"
   ]
  },
  {
   "cell_type": "markdown",
   "id": "b5c4ee12-b7b4-4f0c-b5ec-1107b024617a",
   "metadata": {
    "id": "94ce6919-3144-49a7-9d48-0a71ca7e78d0"
   },
   "source": [
    "---\n",
    "\n",
    "# 4.3 Predicting house prices: A regression example"
   ]
  },
  {
   "cell_type": "markdown",
   "id": "adfadd3d-0add-430f-94eb-b9d5d382bb55",
   "metadata": {
    "id": "94ce6919-3144-49a7-9d48-0a71ca7e78d0",
    "jp-MarkdownHeadingCollapsed": true
   },
   "source": [
    "### 4.3.1 The Boston housing price dataset"
   ]
  },
  {
   "cell_type": "markdown",
   "id": "315609ef-5ebf-431c-b0df-a72cbbe30fe8",
   "metadata": {
    "id": "315609ef-5ebf-431c-b0df-a72cbbe30fe8"
   },
   "source": [
    "The IMDB and Reuters (and MNIST) problems are examples of **classification**.\n",
    "\n",
    "Decide a particular **class** from a finite number of possibilities.\n",
    "\n",
    "They are **discrete** problems."
   ]
  },
  {
   "cell_type": "markdown",
   "id": "10c7ff15-b4c8-4ee1-858c-d98dcf3711c9",
   "metadata": {
    "id": "10c7ff15-b4c8-4ee1-858c-d98dcf3711c9"
   },
   "source": [
    "**Regression** problems, on the other hand, are **continuous**.\n",
    "\n",
    "E.g. Predicting tomorrow's temperature, the time to run a marathon or...\n",
    "\n",
    "1970s house prices in a Boston suburb.\n",
    "\n",
    "Prices are continuous!"
   ]
  },
  {
   "cell_type": "markdown",
   "id": "10ae11b9",
   "metadata": {
    "id": "10ae11b9"
   },
   "source": [
    "The [Boston Housing dataset](https://www.cs.toronto.edu/~delve/data/boston/bostonDetail.html) (also on [Kaggle](https://www.kaggle.com/code/prasadperera/the-boston-housing-dataset)).\n",
    "\n",
    "The aim is the prediction of the median house price on the basis of knowledge of local property tax, crime rate, rooms per dwelling, accesibility to highways and nine other features.\n",
    "\n",
    "There are only 506 data samples, split into 404 training and 102 test.\n",
    "\n",
    "It is a good example of a **small** dataset."
   ]
  },
  {
   "cell_type": "markdown",
   "id": "62018fe0-ff80-4dce-9218-5b607965b3b4",
   "metadata": {
    "id": "62018fe0-ff80-4dce-9218-5b607965b3b4"
   },
   "source": [
    "Furthermore, each feature has a **different scale**.\n",
    "\n",
    "Some features are values in $[0, 1]$, some in $[1, 12]$, some in $[0, 100]$."
   ]
  },
  {
   "cell_type": "markdown",
   "id": "69a81b43",
   "metadata": {
    "id": "69a81b43"
   },
   "source": [
    "<!-- ![Boston boxplots](images/kaggle.boston.png) -->\n",
    "<img style=\"height:650px\" src=\"https://github.com/jchwenger/AI/blob/main/3-getting-started/images/kaggle.boston.png?raw=true\">\n",
    "\n",
    "<small>A **lot** of visualisations of this data: [Prasad Perera, \"The Boston Housing Dataset\", Kaggle](https://www.kaggle.com/code/prasadperera/the-boston-housing-dataset)</small>"
   ]
  },
  {
   "cell_type": "markdown",
   "id": "2d46a264-4f33-46ca-9059-41b95c87242a",
   "metadata": {
    "id": "9beb0564",
    "jp-MarkdownHeadingCollapsed": true
   },
   "source": [
    "#### Note on ethics"
   ]
  },
  {
   "cell_type": "markdown",
   "id": "b1d61236-2d2b-431a-9033-74761d011f9e",
   "metadata": {
    "id": "9beb0564"
   },
   "source": [
    "On the [Keras](https://keras.io/api/datasets/boston_housing/) website (also [Scikit-learn](https://scikit-learn.org/stable/modules/generated/sklearn.datasets.load_boston.html), however [TensorFlow](https://www.tensorflow.org/api_docs/python/tf/keras/datasets/boston_housing) says nothing!), you find:\n",
    "\n",
    "<!-- <img style=\"float:right\" src=\"images/boston/keras.boston.png\"> -->\n",
    "\n",
    "<img  style=\"float:right\" src=\"https://github.com/jchwenger/AI/blob/main/3-getting-started/images/boston/keras.boston.png?raw=true \">"
   ]
  },
  {
   "cell_type": "markdown",
   "id": "b6a7ce5f",
   "metadata": {
    "id": "b6a7ce5f"
   },
   "source": [
    "**B - 1000(Bk - 0.63)^2 where Bk is the proportion of blacks by town**\n",
    "\n",
    "The study was made in the 1970s. There is a **lot** to say about the history of housing and racial segregation in the United States, and the impact that this still has on the present (see for instance [this talk](https://www.youtube.com/watch?v=Gzo65lP7yOk), also in the reference).\n",
    "\n",
    "It is a disappointment to me to see that no mention of this is to be found in Chollet's book.\n",
    "\n",
    "Two alternative datasets are suggested on scikit-learn:\n",
    "- the [California Housing dataset](https://scikit-learn.org/stable/datasets/real_world.html#california-housing-dataset) (rather accessible)\n",
    "- the [Ames Housing dataset](https://www.openml.org/search?type=data&sort=runs&id=42165&status=active) (more complex)\n",
    "\n",
    "Unfortunately they are not readily available in TensorFlow."
   ]
  },
  {
   "cell_type": "markdown",
   "id": "ebb5e08a",
   "metadata": {
    "id": "ebb5e08a"
   },
   "source": [
    "Two articles to know more:\n",
    "- [\"Revisiting the Boston Housing Dataset\", Fairlearn](https://fairlearn.org/main/user_guide/datasets/boston_housing_data.html)\n",
    "- [M Carlisle, \"racist data destruction?\", Medium](https://medium.com/@docintangible/racist-data-destruction-113e3eff54a8)\n",
    "\n",
    "This is a typical example of the risk of **abstraction** that Data Science: work on numbers only, and come up with models, while not necessarily reflecting on the content, and historical context, of the underlying reality.\n",
    "\n",
    "We are using the Boston housing dataset in the workshop next week, because it is a good example of a **regression** problem with a **small dataset**, requiring **standardisation**. Also, it's been a staple of data science for a while, and is directly available in TF. In the labs, there is also the option to tackle the same problem using the more recent California Housing dataset."
   ]
  },
  {
   "cell_type": "markdown",
   "id": "7404a91e-b58e-4cab-992d-4586ffb1e511",
   "metadata": {},
   "source": [
    "### Code: loading our dataset"
   ]
  },
  {
   "cell_type": "code",
   "execution_count": 2,
   "id": "68901c7b-09c0-490a-b47e-b186d78254b2",
   "metadata": {
    "colab": {
     "base_uri": "https://localhost:8080/"
    },
    "id": "68901c7b-09c0-490a-b47e-b186d78254b2",
    "outputId": "25da3263-d65b-477b-b67e-59f7eec26288"
   },
   "outputs": [
    {
     "name": "stdout",
     "output_type": "stream",
     "text": [
      "(404, 13) (102, 13)\n"
     ]
    }
   ],
   "source": [
    "(train_data, train_targets), (test_data, test_targets) = tf.keras.datasets.boston_housing.load_data()\n",
    "print(train_data.shape, test_data.shape)"
   ]
  },
  {
   "cell_type": "markdown",
   "id": "e3d8e888-98b9-469a-ad32-695879fb840e",
   "metadata": {},
   "source": [
    "### Examining our dataset"
   ]
  },
  {
   "cell_type": "markdown",
   "id": "dda52d74",
   "metadata": {
    "id": "dda52d74"
   },
   "source": [
    "The first sample."
   ]
  },
  {
   "cell_type": "code",
   "execution_count": 3,
   "id": "7929754d-8d69-424f-a9b9-97b9e6d14a72",
   "metadata": {
    "colab": {
     "base_uri": "https://localhost:8080/"
    },
    "id": "7929754d-8d69-424f-a9b9-97b9e6d14a72",
    "outputId": "2c128ff3-2a6e-4637-e09d-faec12193902"
   },
   "outputs": [
    {
     "name": "stdout",
     "output_type": "stream",
     "text": [
      "[  1.23247   0.        8.14      0.        0.538     6.142    91.7\n",
      "   3.9769    4.      307.       21.      396.9      18.72   ]\n"
     ]
    }
   ],
   "source": [
    "print(train_data[0])"
   ]
  },
  {
   "cell_type": "markdown",
   "id": "9d032a75",
   "metadata": {
    "id": "9d032a75"
   },
   "source": [
    "The targets of the first ten samples in thousands of dollars."
   ]
  },
  {
   "cell_type": "code",
   "execution_count": 4,
   "id": "42d87344-c982-4843-929f-a9b071972555",
   "metadata": {
    "colab": {
     "base_uri": "https://localhost:8080/"
    },
    "id": "42d87344-c982-4843-929f-a9b071972555",
    "outputId": "78e7400e-73d6-4cd1-e65f-a017477b5e05"
   },
   "outputs": [
    {
     "data": {
      "text/plain": [
       "array([15.2, 42.3, 50. , 21.1, 17.7, 18.5, 11.3, 15.6, 15.6, 14.4])"
      ]
     },
     "execution_count": 4,
     "metadata": {},
     "output_type": "execute_result"
    }
   ],
   "source": [
    "train_targets[:10] # multiply by 1000 to get the price in $"
   ]
  },
  {
   "cell_type": "code",
   "execution_count": 5,
   "id": "98f38847-ec97-4cce-9ed1-b0614e7db34b",
   "metadata": {
    "colab": {
     "base_uri": "https://localhost:8080/"
    },
    "id": "98f38847-ec97-4cce-9ed1-b0614e7db34b",
    "outputId": "101c6bbc-386e-4f41-c7eb-18ecb4d2cec9",
    "scrolled": true
   },
   "outputs": [
    {
     "name": "stdout",
     "output_type": "stream",
     "text": [
      "      CRIM        ZN     INDUS      CHAS       NOX        RM       AGE       DIS\n",
      "--------------------------------------------------------------------------------\n",
      "    1.2325    0.0000    8.1400    0.0000    0.5380    6.1420   91.7000    3.9769\n",
      "    0.0218   82.5000    2.0300    0.0000    0.4150    7.6100   15.7000    6.2700\n",
      "    4.8982    0.0000   18.1000    0.0000    0.6310    4.9700  100.0000    1.3325\n",
      "    0.0396    0.0000    5.1900    0.0000    0.5150    6.0370   34.5000    5.9853\n",
      "    3.6931    0.0000   18.1000    0.0000    0.7130    6.3760   88.4000    2.5671\n",
      "    0.2839    0.0000    7.3800    0.0000    0.4930    5.7080   74.3000    4.7211\n",
      "    9.1870    0.0000   18.1000    0.0000    0.7000    5.5360  100.0000    1.5804\n",
      "    4.0974    0.0000   19.5800    0.0000    0.8710    5.4680  100.0000    1.4118\n"
     ]
    }
   ],
   "source": [
    "column_names = [\n",
    "    'CRIM', 'ZN', 'INDUS', 'CHAS', 'NOX', 'RM', 'AGE', 'DIS', 'RAD', 'TAX', 'PTRATIO', 'B', 'LSTAT', 'MEDV'\n",
    "]\n",
    "for name in column_names[:8]:  # displaying the first 8 columns\n",
    "    print(f\"{name:>10}\", end=\"\")\n",
    "print()\n",
    "print(\"-\" * 80)\n",
    "for row in range(8):\n",
    "    for col in range(8):\n",
    "        x = train_data[row, col]\n",
    "        print(f\"{x:10.4f}\", end=\"\")\n",
    "    print()"
   ]
  },
  {
   "cell_type": "markdown",
   "id": "63f27c35-1817-468c-8bf8-52cfa4b0b8a6",
   "metadata": {
    "id": "e1602f08-1199-4630-97b1-ef373f349d3c",
    "jp-MarkdownHeadingCollapsed": true
   },
   "source": [
    "#### Standardisation / Normalisation"
   ]
  },
  {
   "cell_type": "markdown",
   "id": "c1a81685-f792-49ce-8601-a1d178fed628",
   "metadata": {
    "id": "e1602f08-1199-4630-97b1-ef373f349d3c"
   },
   "source": [
    "These ranges present difficulties.\n",
    "\n",
    "Neural networks have difficulty adapting to heterogeneous data.\n",
    "\n",
    "The data will have to be **standardised** / **normalised**.\n",
    "\n",
    "Note: Chollet uses normalisation as an umbrella term, [as it often happens](https://en.wikipedia.org/wiki/Normalization_(statistics))."
   ]
  },
  {
   "cell_type": "markdown",
   "id": "54642d4e-50c2-4d7b-b364-2b3e4b775c01",
   "metadata": {
    "id": "54642d4e-50c2-4d7b-b364-2b3e4b775c01"
   },
   "source": [
    "---\n",
    "\n",
    "## 4.3.1 Preparing the data"
   ]
  },
  {
   "cell_type": "markdown",
   "id": "4f4bbe53-ca83-420d-ba41-8ce45bcf410f",
   "metadata": {
    "id": "f1750df9",
    "jp-MarkdownHeadingCollapsed": true
   },
   "source": [
    "### Standardisation"
   ]
  },
  {
   "cell_type": "markdown",
   "id": "2a0ee8b8-fee2-45cb-8c6d-ce6513c781ad",
   "metadata": {
    "id": "f1750df9"
   },
   "source": [
    "- subtract the **mean** (= **average**);\n",
    "- divide by the **standard deviation**.\n",
    "\n",
    "What does this do?\n",
    "\n",
    "It makes any distribution **centred** at zero, with a **standard deviation** of one."
   ]
  },
  {
   "cell_type": "markdown",
   "id": "eae37414",
   "metadata": {
    "id": "eae37414"
   },
   "source": [
    "The math...\n",
    "\n",
    "$$\n",
    "\\bbox[5px,border:2px solid red]\n",
    "{\n",
    "{\\frac {X-\\mu }{\\sigma }}\n",
    "}\n",
    "$$\n",
    "\n",
    "$X$: our data  \n",
    "$\\mu$: the mean\n",
    "$\\sigma$: the standard deviation"
   ]
  },
  {
   "cell_type": "markdown",
   "id": "63247a17-8d22-4353-938b-f42802330332",
   "metadata": {
    "id": "bd8c4a48",
    "jp-MarkdownHeadingCollapsed": true
   },
   "source": [
    "### Normalisation"
   ]
  },
  {
   "cell_type": "markdown",
   "id": "2a5ebc47-34f3-4bb2-b5fa-00cd919f6ff1",
   "metadata": {
    "id": "bd8c4a48"
   },
   "source": [
    "- subtract the **min value**;\n",
    "- divide by the **range (max value - min value)**.\n",
    "\n",
    "What does this do?\n",
    "\n",
    "It squishes any distribution to a range of *\\[0, 1\\]*.\n",
    "\n",
    "(We are not using this now.)"
   ]
  },
  {
   "cell_type": "markdown",
   "id": "a4abb849",
   "metadata": {
    "id": "a4abb849"
   },
   "source": [
    "The math...\n",
    "\n",
    "$$\n",
    "\\bbox[5px,border:2px solid red]\n",
    "{\n",
    "X'={\\frac {X-X_{\\min }}{X_{\\max}-X_{\\min }}}}\n",
    "$$\n",
    "\n",
    "$X$: our data   \n",
    "$X_{\\min }$: the min value in our data  \n",
    "$X_{\\max}$: the max value in our data  "
   ]
  },
  {
   "cell_type": "markdown",
   "id": "3b624b1b",
   "metadata": {
    "id": "3b624b1b"
   },
   "source": [
    "Test data is normalised using the mean and standard deviation of the *training* set.\n",
    "\n",
    "In general, we want the **train** and **test** (and any further data) sets to come for the **same distribution**.\n",
    "\n",
    "But we also want to keep our **test** aside, not get any influence from it.\n",
    "\n",
    "Treat it as if was really data our net would encounter *in the wild*.\n",
    "\n",
    "<!-- <img style=\"height:300px;float:right\" src=\"images/ml/training-validation-test.png\"> -->\n",
    "<img style=\"height:300px;float:right\" src=\"https://github.com/jchwenger/AI/blob/main/3-getting-started/images/ml/training-validation-test.png?raw=true\">\n",
    "\n",
    "<small style=\"position:absolute;right:0;bottom:0\">[\"Training, Validation and Test sets 차이 및 정확한 용도 (훈련, 검정, 테스트 데이터 차이)\"](https://modern-manual.tistory.com/m/19)</small>"
   ]
  },
  {
   "cell_type": "code",
   "execution_count": 6,
   "id": "12073bfc-4772-4bd9-8c8c-741943a5cc64",
   "metadata": {
    "id": "12073bfc-4772-4bd9-8c8c-741943a5cc64"
   },
   "outputs": [],
   "source": [
    "mean = train_data.mean(axis=0) # axis 0: along each feature axis!\n",
    "train_data -= mean             # shift\n",
    "std = train_data.std(axis=0)\n",
    "train_data /= std              # rescale\n",
    "\n",
    "test_data -= mean              # use the mean & std\n",
    "test_data /= std               # of our training set"
   ]
  },
  {
   "cell_type": "markdown",
   "id": "6571c733",
   "metadata": {
    "id": "6571c733"
   },
   "source": [
    "How you would do this manually."
   ]
  },
  {
   "cell_type": "code",
   "execution_count": 7,
   "id": "1c450889-baf1-427b-b0fc-115210e63a0e",
   "metadata": {
    "id": "1c450889-baf1-427b-b0fc-115210e63a0e"
   },
   "outputs": [],
   "source": [
    "def stats(x):\n",
    "    mean = sum(x) / len(x)                          # compute the mean\n",
    "    deviations = x - mean                           # deviations can be positive or negative\n",
    "    avg_sq_deviations = sum(deviations**2) / len(x) # we square them and take the mean\n",
    "    std = np.sqrt(avg_sq_deviations)                # then we take the square root\n",
    "    return mean, std"
   ]
  },
  {
   "cell_type": "code",
   "execution_count": 8,
   "id": "a9262d66-470a-406a-98ae-ac13e1365ba4",
   "metadata": {
    "id": "a9262d66-470a-406a-98ae-ac13e1365ba4"
   },
   "outputs": [],
   "source": [
    "def normalise(x):\n",
    "    mean, std = stats(x)\n",
    "    return (x - mean) / std, mean, std # subtract the mean, divide by the standard deviation"
   ]
  },
  {
   "cell_type": "markdown",
   "id": "0e7bb91f",
   "metadata": {
    "id": "0e7bb91f"
   },
   "source": [
    "\n",
    "\n",
    "```python\n",
    "                               # IRL you use built-in functions...\n",
    "mean = x.mean()                # NumPy\n",
    "std = x.std()\n",
    "\n",
    "mean = tf.reduce_mean(x)       # TF\n",
    "std = tf.math.reduce_std(x)\n",
    "```"
   ]
  },
  {
   "cell_type": "code",
   "execution_count": 9,
   "id": "0798c433",
   "metadata": {
    "id": "0798c433"
   },
   "outputs": [],
   "source": [
    "def plot_mean_std(nums):\n",
    "    nums_norm, mean, std = normalise(nums)\n",
    "\n",
    "    fig, (ax1, ax2) = plt.subplots(1,2, sharex=True, figsize=(16,3))\n",
    "\n",
    "    ax1.bar([str(x) for x in range(nums.shape[0])], nums)                              # our numbers\n",
    "    ax1.set_title(f\"Original numbers | mean: {mean:.2f}, std: {std:.2f}\")\n",
    "    ax1.plot([mean] * nums.shape[0], linestyle='solid', color=\"r\", label=\"mean\")       # the mean\n",
    "    ax1.plot([mean + std] * nums.shape[0], linestyle='dotted', color=\"r\", label=\"std\") # mean + std\n",
    "    ax1.plot([mean - std] * nums.shape[0], linestyle='dotted', color=\"r\")              # mean - std\n",
    "    ax1.legend()\n",
    "\n",
    "    ax2.bar([str(x) for x in range(nums_norm.shape[0])], nums_norm)                    # our numbers normalised\n",
    "    ax2.set_title(f\"Normalized | mean: {nums_norm.mean():.2f}, std: {nums_norm.std():.2f}\")\n",
    "    plt.show()"
   ]
  },
  {
   "cell_type": "markdown",
   "id": "5ee26785",
   "metadata": {
    "id": "5ee26785"
   },
   "source": [
    "First example, 5 numbers. **Mean**: 30. **Standard deviation** : ~14."
   ]
  },
  {
   "cell_type": "code",
   "execution_count": 10,
   "id": "452a1e4c",
   "metadata": {
    "colab": {
     "base_uri": "https://localhost:8080/",
     "height": 314
    },
    "id": "452a1e4c",
    "outputId": "252d9b2c-31e8-4fd6-f2c0-bb63ce34bc31"
   },
   "outputs": [
    {
     "data": {
      "image/png": "[encoded data removed]",
      "text/plain": [
       "<Figure size 1600x300 with 2 Axes>"
      ]
     },
     "metadata": {},
     "output_type": "display_data"
    }
   ],
   "source": [
    "plot_mean_std(np.array([10.0, 20.0, 30.0, 40.0, 50.0]))"
   ]
  },
  {
   "cell_type": "markdown",
   "id": "5e7d14d4",
   "metadata": {
    "id": "5e7d14d4"
   },
   "source": [
    "Second example, 5 numbers. **Mean**: 30. **Standard deviation** : ~20."
   ]
  },
  {
   "cell_type": "code",
   "execution_count": 11,
   "id": "d9e43824-90d9-4cab-af01-67ed00f9b070",
   "metadata": {
    "colab": {
     "base_uri": "https://localhost:8080/",
     "height": 314
    },
    "id": "d9e43824-90d9-4cab-af01-67ed00f9b070",
    "outputId": "03d2edc5-8e47-47cb-ebd5-6d7692923351"
   },
   "outputs": [
    {
     "data": {
      "image/png": "[encoded data removed]",
      "text/plain": [
       "<Figure size 1600x300 with 2 Axes>"
      ]
     },
     "metadata": {},
     "output_type": "display_data"
    }
   ],
   "source": [
    "plot_mean_std(np.array([5.0, 10.0, 30.0, 50.0, 55.0]))"
   ]
  },
  {
   "cell_type": "markdown",
   "id": "11b3b78c-34c8-41d0-bd7b-33ca0275c005",
   "metadata": {
    "id": "11b3b78c-34c8-41d0-bd7b-33ca0275c005"
   },
   "source": [
    "---\n",
    "\n",
    "## 4.3.3 Building your model\n",
    "\n",
    "We predict the value directly, therefore _no activation_ on the last layer."
   ]
  },
  {
   "cell_type": "markdown",
   "id": "9b094a55-d530-4505-92c2-103d46b70afc",
   "metadata": {
    "id": "fe22a673-4e4d-4850-9826-184f0874c454",
    "jp-MarkdownHeadingCollapsed": true
   },
   "source": [
    "### Loss: Mean squared error  (MSE)"
   ]
  },
  {
   "cell_type": "markdown",
   "id": "9427f77b-8922-4f0a-b883-6c8a73cec19c",
   "metadata": {
    "id": "fe22a673-4e4d-4850-9826-184f0874c454"
   },
   "source": [
    "A common regression **loss**:\n",
    "\n",
    "$$\n",
    "\\bbox[5px,border:2px solid red]\n",
    "{\n",
    "\\text{MSE} = \\frac{1}{N} \\sum (y_{pred} - y)^2\n",
    "}\n",
    "$$\n",
    "\n",
    "$y$: target  \n",
    "$y_{pred}$: network output  \n",
    "$N$: mini-batch size\n",
    "\n",
    "- continuous and differentiable;\n",
    "- cost grows exponentially: outliers are penalised."
   ]
  },
  {
   "cell_type": "markdown",
   "id": "a4e4d046-f69a-437e-ac10-63b43b143a1a",
   "metadata": {
    "id": "08388a8b-3adc-433e-9692-5cffe71afb36",
    "jp-MarkdownHeadingCollapsed": true
   },
   "source": [
    "### Metric: Mean absolute error (MAE)"
   ]
  },
  {
   "cell_type": "markdown",
   "id": "580e8ab7-e63b-4f0a-9fbb-f02c20b92cd3",
   "metadata": {
    "id": "08388a8b-3adc-433e-9692-5cffe71afb36"
   },
   "source": [
    "Our **metric** will be:\n",
    "\n",
    "$$\n",
    "\\bbox[5px,border:2px solid red]\n",
    "{\n",
    "\\text{MAE} = \\frac{1}{N}\\sum |y_{pred} - y |\n",
    "}\n",
    "$$\n",
    "\n",
    "- nondifferentiable ([Keras will still allow you to use it as a loss...](https://stats.stackexchange.com/questions/312737/mean-absolute-error-mae-derivative));\n",
    "- grows linearly: outliers are not more penalised."
   ]
  },
  {
   "cell_type": "code",
   "execution_count": 13,
   "id": "f548c04b",
   "metadata": {
    "id": "f548c04b"
   },
   "outputs": [],
   "source": [
    "def plot_mse_mae():\n",
    "    nums = np.linspace(-1.5,1.5, 100) # one hundred numbers from -10 to 10\n",
    "\n",
    "    fig, (ax1, ax2) = plt.subplots(1,2, sharey=True, sharex=True, figsize=(16,3))\n",
    "\n",
    "    ax1.plot(nums, nums ** 2)                     # mean squared error (from zero)\n",
    "    ax1.set_title(\"Mean squared error (MSE)\")\n",
    "    ax1.set_xlabel(\"distance from the mean\")\n",
    "    ax1.set_ylabel(\"loss\")\n",
    "    ax2.plot(nums, np.abs(nums))                  # mean absolute error (from zero)\n",
    "    ax2.set_title(f\"Mean absolute error (MAE)\")\n",
    "    ax2.set_xlabel(\"distance from the mean\")\n",
    "    ax2.set_ylabel(\"loss\")\n",
    "    plt.show()"
   ]
  },
  {
   "cell_type": "code",
   "execution_count": 14,
   "id": "7b207f9a",
   "metadata": {
    "colab": {
     "base_uri": "https://localhost:8080/",
     "height": 333
    },
    "id": "7b207f9a",
    "outputId": "744e649b-04ea-4416-a179-601a01bc01fb"
   },
   "outputs": [
    {
     "data": {
      "image/png": "[encoded data removed]",
      "text/plain": [
       "<Figure size 1600x300 with 2 Axes>"
      ]
     },
     "metadata": {},
     "output_type": "display_data"
    }
   ],
   "source": [
    "plot_mse_mae()"
   ]
  },
  {
   "cell_type": "markdown",
   "id": "552c9a71-ecee-41f9-9345-9ad1b07dfed1",
   "metadata": {},
   "source": [
    "### Code: build the model"
   ]
  },
  {
   "cell_type": "code",
   "execution_count": 12,
   "id": "da22d3ce-9ed9-45e3-8d7a-6a51a8839088",
   "metadata": {
    "id": "da22d3ce-9ed9-45e3-8d7a-6a51a8839088"
   },
   "outputs": [],
   "source": [
    "def build_model(clear=True): # modular programming!\n",
    "    if clear:\n",
    "        tf.keras.backend.clear_session()\n",
    "    model=tf.keras.models.Sequential()\n",
    "    model.add(tf.keras.Input((train_data.shape[1],))),\n",
    "    model.add(tf.keras.layers.Dense(64, activation='relu'))\n",
    "    model.add(tf.keras.layers.Dense(64, activation='relu'))\n",
    "            # ↓ NO ACTIVATION! We just predict (any) number\n",
    "    model.add(tf.keras.layers.Dense(1))\n",
    "            # ↑ -------------------------------------------\n",
    "    model.compile(\n",
    "        optimizer='rmsprop',\n",
    "        loss='mse',            # ← MSE: mean squared error\n",
    "        metrics=['mae']        # ← MAE: mean absolute error\n",
    "    )\n",
    "    return model"
   ]
  },
  {
   "cell_type": "markdown",
   "id": "7133d2c0-3d77-45c9-8932-e6552b928a25",
   "metadata": {
    "id": "7133d2c0-3d77-45c9-8932-e6552b928a25"
   },
   "source": [
    "---\n",
    "\n",
    "## 4.3.4 Validating your approach using K-fold validation"
   ]
  },
  {
   "cell_type": "markdown",
   "id": "85888c9b-a746-42dd-9681-2e0c257bbca6",
   "metadata": {
    "id": "896f62e4-6277-4d50-9a77-43aad97ad53c",
    "jp-MarkdownHeadingCollapsed": true
   },
   "source": [
    "### Techniques for very small datasets"
   ]
  },
  {
   "cell_type": "markdown",
   "id": "1e6d203d-7e77-4373-88d5-3be9c999290a",
   "metadata": {
    "id": "896f62e4-6277-4d50-9a77-43aad97ad53c"
   },
   "source": [
    "The training set is **small** and if we split it to have a a validation set it will be even smaller.\n",
    "\n",
    "(The validation set would be tiny.)\n",
    "\n",
    "The validation scores – on a tiny validation set – would be very sensitive to the constitution of that set."
   ]
  },
  {
   "cell_type": "markdown",
   "id": "b10d87f9-623b-4123-90c2-c55ae38445a4",
   "metadata": {
    "id": "f4db0f41-b704-403b-9092-71b351ad23c9",
    "jp-MarkdownHeadingCollapsed": true
   },
   "source": [
    "### $K$-fold cross-validation"
   ]
  },
  {
   "cell_type": "markdown",
   "id": "73dffbb5-43ef-4b57-9f98-c13d9adfc8cd",
   "metadata": {
    "id": "f4db0f41-b704-403b-9092-71b351ad23c9"
   },
   "source": [
    "A common solution for small datasets.\n",
    "\n",
    "The data is spilt into $K$ partitions (usually 4 or 5).\n",
    "\n",
    "$K$ identical models are instantiated.\n",
    "\n",
    "One of the $K$s is validation, the rest is train."
   ]
  },
  {
   "cell_type": "markdown",
   "id": "8d3125e8",
   "metadata": {
    "id": "8d3125e8"
   },
   "source": [
    "We then rotate which partition is the validation.\n",
    "\n",
    "A new network is trained and validated on each of these *fold*.\n",
    "\n",
    "The validation score is the **average** of the $K$ validation scores.\n",
    "\n",
    "This technique mitigates **validation variance**."
   ]
  },
  {
   "cell_type": "markdown",
   "id": "1aba924c-7674-4b16-93e0-8d2a234e1655",
   "metadata": {
    "id": "1aba924c-7674-4b16-93e0-8d2a234e1655"
   },
   "source": [
    "<!-- ![Chollet K-fold](images/ml/chollet.k-fold.png) -->\n",
    "<img style=\"height:600px\" src=\"https://github.com/jchwenger/AI/blob/main/3-getting-started/images/ml/chollet.k-fold.png?raw=true\">\n",
    "\n",
    "<small>DLWP, p. 116</small>"
   ]
  },
  {
   "cell_type": "markdown",
   "id": "5250fb01-94f3-4528-ae0f-5e313a91c14a",
   "metadata": {},
   "source": [
    "### Code: loading and standardising our dataset"
   ]
  },
  {
   "cell_type": "code",
   "execution_count": 15,
   "id": "27654806-f091-4817-8242-f7b9ce0b5277",
   "metadata": {
    "id": "27654806-f091-4817-8242-f7b9ce0b5277"
   },
   "outputs": [],
   "source": [
    "(train_data, train_targets), (test_data, test_targets) = tf.keras.datasets.boston_housing.load_data()\n",
    "\n",
    "mean = train_data.mean(axis = 0)\n",
    "train_data -= mean # shift\n",
    "std = train_data.std(axis = 0)\n",
    "train_data /= std # rescale\n",
    "\n",
    "test_data -= mean\n",
    "test_data /= std"
   ]
  },
  {
   "cell_type": "markdown",
   "id": "0afc3664-9985-42e9-9438-5d3ff5caf148",
   "metadata": {
    "id": "0df30662"
   },
   "source": [
    "### Before training: commonsense baseline / evaluate untrained model"
   ]
  },
  {
   "cell_type": "markdown",
   "id": "7f021b56-5235-4af3-9410-b918d43b35e2",
   "metadata": {
    "jp-MarkdownHeadingCollapsed": true
   },
   "source": [
    "#### Compute dataset statistics"
   ]
  },
  {
   "cell_type": "markdown",
   "id": "5baa1f88-d8ce-42d8-bc25-97460ba527c3",
   "metadata": {
    "id": "0df30662"
   },
   "source": [
    "What are the max, min, mean and variance of our test targets?"
   ]
  },
  {
   "cell_type": "code",
   "execution_count": 16,
   "id": "63af99d8",
   "metadata": {
    "colab": {
     "base_uri": "https://localhost:8080/"
    },
    "id": "63af99d8",
    "outputId": "4f103b56-d2b7-4bc6-c1d8-0a5495b03382"
   },
   "outputs": [
    {
     "name": "stdout",
     "output_type": "stream",
     "text": [
      "Test prices, min: 5.6000 (~5,000$) | max:  50.0000 (~50,000$)\n",
      "Mean of our test prices: 23.0784 (~23,000$)\n",
      "STD of our test prices:  9.1238 (~9,000$)\n"
     ]
    }
   ],
   "source": [
    "test_targets_min, test_targets_max = test_targets.min(), test_targets.max()\n",
    "test_targets_mean, test_targets_std = test_targets.mean(), test_targets.std()\n",
    "print(f\"Test prices, min: {test_targets_min:.4f} (~{int(test_targets_min)*1000:,}$) | max:  {test_targets_max:.4f} (~{int(test_targets_max)*1000:,}$)\")\n",
    "print(f\"Mean of our test prices: {test_targets_mean:.4f} (~{int(test_targets_mean)*1000:,}$)\")\n",
    "print(f\"STD of our test prices:  {test_targets_std:.4f} (~{int(test_targets_std)*1000:,}$)\")"
   ]
  },
  {
   "cell_type": "markdown",
   "id": "eb210b50-bd76-45e2-b629-1633515871e0",
   "metadata": {
    "jp-MarkdownHeadingCollapsed": true
   },
   "source": [
    "#### Regression baseline: predicting the mean"
   ]
  },
  {
   "cell_type": "markdown",
   "id": "5c6f0616",
   "metadata": {
    "id": "5c6f0616"
   },
   "source": [
    "What score do we get if we just predict the mean?"
   ]
  },
  {
   "cell_type": "code",
   "execution_count": 17,
   "id": "29595a9b",
   "metadata": {
    "colab": {
     "base_uri": "https://localhost:8080/"
    },
    "id": "29595a9b",
    "outputId": "6899ea1c-6560-4b40-be98-5e0cb3b209e8"
   },
   "outputs": [
    {
     "name": "stdout",
     "output_type": "stream",
     "text": [
      "Predicting the mean of our test_set: 23.07843 (~23,000$)\n",
      "MAE: 6.5990 (~6,000$)\n"
     ]
    }
   ],
   "source": [
    "mean_prediction = []\n",
    "test_targets_mean = test_targets.mean()\n",
    "for test in test_targets:                                     # a very plain loop!\n",
    "    mean_prediction.append(np.abs(test - test_targets_mean))  # MAE using the mean of our test dataset\n",
    "mean_prediction_mae = np.array(mean_prediction).mean()\n",
    "print(f\"Predicting the mean of our test_set: {test_targets_mean:.5f} (~{int(test_targets_mean)*1000:,}$)\")\n",
    "print(f\"MAE: {mean_prediction_mae:.4f} (~{int(mean_prediction_mae)*1000:,}$)\")"
   ]
  },
  {
   "cell_type": "markdown",
   "id": "3994f7df-f232-44f0-a9b6-5a4251962309",
   "metadata": {
    "jp-MarkdownHeadingCollapsed": true
   },
   "source": [
    "#### 'Neural' baseline: our untrained model"
   ]
  },
  {
   "cell_type": "code",
   "execution_count": 18,
   "id": "2c340a69",
   "metadata": {
    "colab": {
     "base_uri": "https://localhost:8080/"
    },
    "id": "2c340a69",
    "outputId": "295378b9-40cb-4502-81ff-79cc4bb81b73"
   },
   "outputs": [
    {
     "name": "stdout",
     "output_type": "stream",
     "text": [
      "MSE: 618.4594, sqrt: 24.8688 (~24,869$) | MAE: 23.1082 (~23,000$)\n"
     ]
    }
   ],
   "source": [
    "test_mse_score, test_mae_score = build_model().evaluate(test_data, test_targets, verbose=0)\n",
    "test_mse_score_sqrt = np.sqrt(test_mse_score)\n",
    "msg =  f\"MSE: {test_mse_score:.4f}, sqrt: {test_mse_score_sqrt:.4f} \"\n",
    "msg += f\"(~{round(test_mse_score_sqrt*1000):,}$) | \"\n",
    "msg += f\"MAE: {test_mae_score:.4f} (~{int(test_mae_score)*1000:,}$)\"\n",
    "print(msg)"
   ]
  },
  {
   "cell_type": "markdown",
   "id": "83604b29-e94b-4475-9ec7-48ce5e5ff3a4",
   "metadata": {},
   "source": [
    "### Code: Training with K-Fold validation"
   ]
  },
  {
   "cell_type": "code",
   "execution_count": 19,
   "id": "7ee8e541-5681-4c0a-858c-2160289a33e9",
   "metadata": {
    "colab": {
     "base_uri": "https://localhost:8080/"
    },
    "id": "7ee8e541-5681-4c0a-858c-2160289a33e9",
    "outputId": "ab3b1d70-3d09-4480-bb4e-1dfca71b6ffa"
   },
   "outputs": [
    {
     "name": "stdout",
     "output_type": "stream",
     "text": [
      "Processing fold 1\n",
      "Processing fold 2\n",
      "Processing fold 3\n",
      "Processing fold 4\n"
     ]
    }
   ],
   "source": [
    "K = 4\n",
    "num_val_samples = len(train_data) // K\n",
    "num_epochs = 100\n",
    "all_scores = []\n",
    "\n",
    "for i in range(K):\n",
    "    print(f\"Processing fold {i+1}\")\n",
    "                                                          # 1. Validation data: data from partition i\n",
    "    a, b = i * num_val_samples, (i + 1) * num_val_samples\n",
    "    val_data, val_targets = train_data[a : b], train_targets[a : b]\n",
    "\n",
    "                                                          # 2. Training data: data from all other partitions\n",
    "    partial_train_data = np.concatenate([train_data[:a], train_data[b:]], axis=0)\n",
    "    partial_train_targets = np.concatenate([train_targets[:a], train_targets[b:]], axis=0)\n",
    "\n",
    "    model = build_model()                                 # 3. Build the Keras model (already compiled)\n",
    "\n",
    "    model.fit(partial_train_data, partial_train_targets,  # 4. Train the model (in silent mode, verbose=0)\n",
    "              epochs=num_epochs, batch_size=16, verbose=0)\n",
    "\n",
    "                                                          # 5. Evaluate the model on the validation data\n",
    "    val_mse, val_mae = model.evaluate(val_data, val_targets, verbose=0)\n",
    "    all_scores.append(val_mae)\n"
   ]
  },
  {
   "cell_type": "markdown",
   "id": "8b7f111a-e5f3-41a2-a5dd-538a3079af43",
   "metadata": {},
   "source": [
    "### Code: Validation results"
   ]
  },
  {
   "cell_type": "markdown",
   "id": "353e3bb3",
   "metadata": {
    "id": "353e3bb3"
   },
   "source": [
    "The fold MAE scores, and their range."
   ]
  },
  {
   "cell_type": "code",
   "execution_count": 20,
   "id": "28904f78-2255-40cd-8b79-3680bd71dc1a",
   "metadata": {
    "colab": {
     "base_uri": "https://localhost:8080/"
    },
    "id": "28904f78-2255-40cd-8b79-3680bd71dc1a",
    "outputId": "e0c7d638-4dcb-45dc-f45c-cc6f19da9cd4"
   },
   "outputs": [
    {
     "name": "stdout",
     "output_type": "stream",
     "text": [
      "Validation MAE scores for each fold:\n",
      "1.8502 (~1,850$)\n",
      "2.4019 (~2,401$)\n",
      "2.4527 (~2,452$)\n",
      "2.3753 (~2,375$)\n"
     ]
    }
   ],
   "source": [
    "print(f\"Validation MAE scores for each fold:\")\n",
    "for score in all_scores:\n",
    "      print(f\"{score:.4f} (~{int(score * 1000):,}$)\")"
   ]
  },
  {
   "cell_type": "code",
   "execution_count": 21,
   "id": "62f3086b-5b8b-42e6-be29-921bf95124fe",
   "metadata": {
    "colab": {
     "base_uri": "https://localhost:8080/"
    },
    "id": "62f3086b-5b8b-42e6-be29-921bf95124fe",
    "outputId": "d38a0000-70a5-4bfd-ed79-24f4e202f66b"
   },
   "outputs": [
    {
     "name": "stdout",
     "output_type": "stream",
     "text": [
      "Validation MAE scores range from:\n",
      "1.8502 (~1,850$) to\n",
      "2.4527 (~2,452$)\n"
     ]
    }
   ],
   "source": [
    "min_score, max_score = min(all_scores), max(all_scores)\n",
    "print(f\"Validation MAE scores range from:\")\n",
    "print(f\"{min_score:.4f} (~{int(min_score * 1000):,}$) to\")\n",
    "print(f\"{max_score:.4f} (~{int(max_score * 1000):,}$)\")"
   ]
  },
  {
   "cell_type": "markdown",
   "id": "f9ffd9e3",
   "metadata": {
    "id": "f9ffd9e3"
   },
   "source": [
    "The fold MAE scores mean."
   ]
  },
  {
   "cell_type": "code",
   "execution_count": 22,
   "id": "692c43c3",
   "metadata": {
    "colab": {
     "base_uri": "https://localhost:8080/"
    },
    "id": "692c43c3",
    "outputId": "d5671dd5-3932-43ac-bff7-e663467e7c27"
   },
   "outputs": [
    {
     "name": "stdout",
     "output_type": "stream",
     "text": [
      "Validation MAE mean:\n",
      "2.2700 (~2,270$)\n"
     ]
    }
   ],
   "source": [
    "val_mae_mean = np.mean(all_scores)\n",
    "print(f\"Validation MAE mean:\")\n",
    "print(f\"{val_mae_mean:.4f} (~{int(val_mae_mean * 1000):,}$)\")"
   ]
  },
  {
   "cell_type": "markdown",
   "id": "1c5801ae",
   "metadata": {
    "id": "1c5801ae"
   },
   "source": [
    "The average MAE is significant since the prices range from \\\\$5,000 to \\\\$50,000"
   ]
  },
  {
   "cell_type": "markdown",
   "id": "f6dbece1-a118-45c9-ba6c-024e13517a2f",
   "metadata": {
    "id": "4090e2ea-1101-4795-befd-a7f51051df30"
   },
   "source": [
    "---\n",
    "\n",
    "## More epochs & smoothing"
   ]
  },
  {
   "cell_type": "markdown",
   "id": "56a3d2c9-8996-4a2b-ac5f-fa5f7a4a0ffb",
   "metadata": {
    "id": "4090e2ea-1101-4795-befd-a7f51051df30"
   },
   "source": [
    "We will now extend the run to 500 epochs and use a `history` object to record validation MAE at each epoch."
   ]
  },
  {
   "cell_type": "markdown",
   "id": "e8b9742b-9908-4d54-aeae-e964d990c9b5",
   "metadata": {
    "id": "4090e2ea-1101-4795-befd-a7f51051df30",
    "jp-MarkdownHeadingCollapsed": true
   },
   "source": [
    "#### Callbacks"
   ]
  },
  {
   "cell_type": "markdown",
   "id": "89087019-fb03-4c05-bdf0-dbe94d8020f6",
   "metadata": {
    "id": "4090e2ea-1101-4795-befd-a7f51051df30"
   },
   "source": [
    "The `Model.fit()` has a parameter, `callbacks`, allowing us to add functionalities to be run at various points in our training. This is highly customizable.\n",
    "\n",
    "See this [tutorial](https://www.tensorflow.org/guide/keras/custom_callback)."
   ]
  },
  {
   "cell_type": "markdown",
   "id": "794a8f8f-661f-425b-a1bb-891dd56f1c7c",
   "metadata": {
    "id": "4090e2ea-1101-4795-befd-a7f51051df30"
   },
   "source": [
    "#### Code: custom callback"
   ]
  },
  {
   "cell_type": "code",
   "execution_count": 23,
   "id": "c13af073-a3dd-413b-8a84-fdcba0a71362",
   "metadata": {
    "id": "c13af073-a3dd-413b-8a84-fdcba0a71362"
   },
   "outputs": [],
   "source": [
    "class CustomCallback(tf.keras.callbacks.Callback):\n",
    "    def __init__(self, epochs):                                            # by passing epochs at initialization\n",
    "        super(tf.keras.callbacks.Callback, self).__init__()                # I can use this as our total in on_epoch_begin\n",
    "        self.epochs = epochs\n",
    "    def on_epoch_begin(self, epoch, logs=None):                            # run at the start of each epoch\n",
    "        c = ['|', '/', '-', '\\\\']\n",
    "        clear_output(wait=True)\n",
    "        print(f\"{c[epoch % 4]} epoch: {epoch+1}/{self.epochs}\")  # run at the very end of training\n",
    "    def on_train_end(self, logs=None):\n",
    "        print()"
   ]
  },
  {
   "cell_type": "markdown",
   "id": "08705224-6a6d-40d9-a227-b35d5dfce804",
   "metadata": {},
   "source": [
    "### Code: longer K-fold training"
   ]
  },
  {
   "cell_type": "code",
   "execution_count": 24,
   "id": "41d1cca8-b7b2-4953-8eca-d27295762e1e",
   "metadata": {
    "colab": {
     "base_uri": "https://localhost:8080/"
    },
    "id": "41d1cca8-b7b2-4953-8eca-d27295762e1e",
    "outputId": "9a073cf5-8616-4cc0-c04f-bf28f8afb590"
   },
   "outputs": [
    {
     "name": "stdout",
     "output_type": "stream",
     "text": [
      "Processing fold 1\n",
      "\\ epoch: 500/500\n",
      "Processing fold 2\n",
      "\\ epoch: 500/500\n",
      "Processing fold 3\n",
      "\\ epoch: 500/500\n",
      "Processing fold 4\n",
      "\\ epoch: 500/500\n"
     ]
    }
   ],
   "source": [
    "K = 4\n",
    "num_val_samples = len(train_data) // K\n",
    "num_epochs = 500\n",
    "all_mae_histories = []\n",
    "\n",
    "for i in range(K):\n",
    "    print(f\"Processing fold {i+1}\")\n",
    "\n",
    "    a, b = i * num_val_samples, (i + 1) * num_val_samples          # 1. Validation data: data from partition i\n",
    "    val_data, val_targets = train_data[a : b], train_targets[a : b]\n",
    "\n",
    "                                                                   # 2. Training data: data from all other partitions\n",
    "    partial_train_data = np.concatenate([train_data[:a], train_data[b:]], axis=0)\n",
    "    partial_train_targets = np.concatenate([train_targets[:a], train_targets[b:]], axis=0)\n",
    "\n",
    "    model = build_model()                                          # 3. Build the Keras model (already compiled)\n",
    "\n",
    "    history = model.fit(\n",
    "        partial_train_data, partial_train_targets,                 # 4. Train the model (in silent mode, verbose=0)\n",
    "        epochs=num_epochs, batch_size=16, verbose=0,\n",
    "        validation_data=(val_data, val_targets),\n",
    "        callbacks=[CustomCallback(num_epochs)]                     # (← Callback object is passed to `Model.fit()`)\n",
    "    )\n",
    "    mae_history = history.history['val_mae']\n",
    "    all_mae_histories.append(mae_history)"
   ]
  },
  {
   "cell_type": "markdown",
   "id": "e78324f5-0411-4140-a31c-134064a2347f",
   "metadata": {},
   "source": [
    "### Code: plotting results"
   ]
  },
  {
   "cell_type": "code",
   "execution_count": 25,
   "id": "a9063644",
   "metadata": {
    "id": "a9063644"
   },
   "outputs": [],
   "source": [
    "# take the mean of all four folds for each epoch\n",
    "average_mae_history = np.array(all_mae_histories).mean(axis=0)"
   ]
  },
  {
   "cell_type": "code",
   "execution_count": 26,
   "id": "2ee6fa66-00c8-4e8d-a61c-eaa672d373f7",
   "metadata": {
    "colab": {
     "base_uri": "https://localhost:8080/",
     "height": 472
    },
    "id": "2ee6fa66-00c8-4e8d-a61c-eaa672d373f7",
    "outputId": "1a07cc48-49a3-49c6-b326-f8b06b20ff21"
   },
   "outputs": [
    {
     "data": {
      "image/png": "[encoded data removed]",
      "text/plain": [
       "<Figure size 640x480 with 1 Axes>"
      ]
     },
     "metadata": {},
     "output_type": "display_data"
    }
   ],
   "source": [
    "plt.plot(range(1, len(average_mae_history) + 1), average_mae_history)\n",
    "plt.xlabel(\"Epochs\")\n",
    "plt.ylabel(\"Validation MAE\")\n",
    "plt.title(\"Average MAE\")\n",
    "plt.show()"
   ]
  },
  {
   "cell_type": "code",
   "execution_count": 27,
   "id": "0e7babe1",
   "metadata": {
    "colab": {
     "base_uri": "https://localhost:8080/",
     "height": 472
    },
    "id": "0e7babe1",
    "outputId": "f8f83ed5-7022-4434-9071-e27202a2a9be"
   },
   "outputs": [
    {
     "data": {
      "image/png": "[encoded data removed]",
      "text/plain": [
       "<Figure size 640x480 with 1 Axes>"
      ]
     },
     "metadata": {},
     "output_type": "display_data"
    }
   ],
   "source": [
    "plt.plot(range(1, len(average_mae_history[10:]) + 1), average_mae_history[10:])\n",
    "plt.xlabel(\"Epochs\")\n",
    "plt.ylabel(\"Validation MAE\")\n",
    "plt.title(\"Average MAE, omitting the first 10 values\")\n",
    "\n",
    "plt.show()"
   ]
  },
  {
   "cell_type": "code",
   "execution_count": 28,
   "id": "bdc08ea2",
   "metadata": {
    "colab": {
     "base_uri": "https://localhost:8080/",
     "height": 472
    },
    "id": "bdc08ea2",
    "outputId": "f922d28a-11d0-42ff-d337-56b08e93bc10"
   },
   "outputs": [
    {
     "data": {
      "image/png": "[encoded data removed]",
      "text/plain": [
       "<Figure size 640x480 with 1 Axes>"
      ]
     },
     "metadata": {},
     "output_type": "display_data"
    }
   ],
   "source": [
    "plt.plot(range(1, len(average_mae_history[30:]) + 1), average_mae_history[30:])\n",
    "plt.xlabel(\"Epochs\")\n",
    "plt.ylabel(\"Validation MAE\")\n",
    "plt.title(\"Average MAE, omitting the first 30 values\")\n",
    "plt.show()"
   ]
  },
  {
   "cell_type": "markdown",
   "id": "ad0657f4-6690-49c4-93dc-266ee0a0cc13",
   "metadata": {},
   "source": [
    "### Code: smoothing results (EMA)"
   ]
  },
  {
   "cell_type": "markdown",
   "id": "58d86067",
   "metadata": {
    "id": "58d86067"
   },
   "source": [
    "The code to smooth data by replacing each data point with a weighted sum of itself and the previous smoothed point."
   ]
  },
  {
   "cell_type": "code",
   "execution_count": 29,
   "id": "7b61b43f-1dc2-4576-b44d-c0d8e0e7a3cb",
   "metadata": {
    "id": "7b61b43f-1dc2-4576-b44d-c0d8e0e7a3cb"
   },
   "outputs": [],
   "source": [
    "def smooth_curve(points, beta = 0.9):       # beta must be between 0 and 1!\n",
    "    smoothed_points = []\n",
    "    for current in points:\n",
    "        if smoothed_points:                 # (an nonempty list is 'True')\n",
    "            previous = smoothed_points[-1]  # the last appended point\n",
    "                                            # ↓ a weighted sum of previous & point, controlled by beta\n",
    "            smoothed_points.append(beta * previous + (1 - beta) * current)\n",
    "        else:\n",
    "            smoothed_points.append(current) # at the start, the list is empty, we just add the first point\n",
    "    return smoothed_points"
   ]
  },
  {
   "cell_type": "markdown",
   "id": "cadb09fc-f495-430c-986f-b03e296b3cce",
   "metadata": {
    "id": "d3577962",
    "jp-MarkdownHeadingCollapsed": true
   },
   "source": [
    "#### Exponential Moving Averages"
   ]
  },
  {
   "cell_type": "markdown",
   "id": "9d2c3457-7ae7-454b-ba7b-c9a00b3b9763",
   "metadata": {
    "id": "d3577962"
   },
   "source": [
    "This is the same technique we briefly saw when we talked about *momentum*.\n",
    "\n",
    "<!-- <img style=\"height:550px;float:right\" src=\"images/andrew-ng-exponentially-weighted-averages.png\"> -->\n",
    "<img style=\"height:550px;float:right\" src=\"https://github.com/jchwenger/AI/blob/main/3-getting-started/images/andrew-ng-exponentially-weighted-averages.png?raw=true\">\n",
    "\n",
    "\n",
    "<small style=\"position:absolute;bottom:0;right:0\">[Andrew Ng, Improving Deep Neural Networks: Hyperparameter Tuning, Regularization and Optimization (Course 2 of the Deep Learning Specialization)](https://www.youtube.com/watch?v=k8fTYJPd3_I&list=PLkDaE6sCZn6Hn0vK8co82zjQtt3T2Nkqc&index=20).</small>"
   ]
  },
  {
   "cell_type": "markdown",
   "id": "3f70d66d-9fd0-4d45-b8e9-610c14b02fda",
   "metadata": {},
   "source": [
    "#### Code: smoothed plot"
   ]
  },
  {
   "cell_type": "markdown",
   "id": "b879379e",
   "metadata": {
    "id": "b879379e"
   },
   "source": [
    "The smoothed outcome, omitting the first 30 points"
   ]
  },
  {
   "cell_type": "code",
   "execution_count": 31,
   "id": "b8ad25af-687c-49d5-afa8-019e5b947331",
   "metadata": {
    "colab": {
     "base_uri": "https://localhost:8080/",
     "height": 472
    },
    "id": "b8ad25af-687c-49d5-afa8-019e5b947331",
    "outputId": "d2c8c8de-3542-498f-96c7-221eeb374436"
   },
   "outputs": [
    {
     "data": {
      "image/png": "[encoded data removed]",
      "text/plain": [
       "<Figure size 640x480 with 1 Axes>"
      ]
     },
     "metadata": {},
     "output_type": "display_data"
    }
   ],
   "source": [
    "smooth_mae_history = smooth_curve(mae_history[30:]) # from 30 onward\n",
    "\n",
    "plt.plot(range(1, len(smooth_mae_history) + 1), smooth_mae_history)\n",
    "plt.xlabel('Epochs')\n",
    "plt.ylabel('Validation MAE')\n",
    "plt.title(\"Average MAE, smoothed, omitting the first 30 values\")\n",
    "plt.show()"
   ]
  },
  {
   "cell_type": "markdown",
   "id": "8d2260f7-f535-4337-bbab-9da1f98b8fde",
   "metadata": {},
   "source": [
    "### Code: automatic best epoch extraction "
   ]
  },
  {
   "cell_type": "markdown",
   "id": "762f4b80",
   "metadata": {
    "id": "762f4b80"
   },
   "source": [
    "Lowest MAE occurs at epoch..."
   ]
  },
  {
   "cell_type": "code",
   "execution_count": 32,
   "id": "d2504cfb-184a-4f48-9984-0ea8733dd176",
   "metadata": {
    "colab": {
     "base_uri": "https://localhost:8080/"
    },
    "id": "d2504cfb-184a-4f48-9984-0ea8733dd176",
    "outputId": "04f77b50-016f-4dac-adf8-f284bdbc407a"
   },
   "outputs": [
    {
     "name": "stdout",
     "output_type": "stream",
     "text": [
      "212\n"
     ]
    }
   ],
   "source": [
    "print(np.argmin(average_mae_history)) # compare with smooth_mae_history"
   ]
  },
  {
   "cell_type": "markdown",
   "id": "e137dc89-ea7a-4405-854b-d8eeca36cda4",
   "metadata": {
    "id": "2fd857d0-b0ff-42aa-87c2-16989f60dac0"
   },
   "source": [
    "---\n",
    "\n",
    "## Final model"
   ]
  },
  {
   "cell_type": "markdown",
   "id": "28153906-983e-4b6e-8af0-08d249766857",
   "metadata": {
    "id": "2fd857d0-b0ff-42aa-87c2-16989f60dac0"
   },
   "source": [
    "We train a new model:\n",
    "- on the whole training data\n",
    "- until the epoch with lowest MAE"
   ]
  },
  {
   "cell_type": "markdown",
   "id": "307e2ef9-3c34-4e1c-aa50-c0666c4e5810",
   "metadata": {},
   "source": [
    "### Code: build and train with early stopping"
   ]
  },
  {
   "cell_type": "code",
   "execution_count": 33,
   "id": "289d2282-8589-4ba8-a5a1-3633ce4339fd",
   "metadata": {
    "colab": {
     "base_uri": "https://localhost:8080/"
    },
    "id": "289d2282-8589-4ba8-a5a1-3633ce4339fd",
    "outputId": "3a8deb11-dcf6-427a-8beb-38756f3ea367",
    "scrolled": true
   },
   "outputs": [
    {
     "name": "stdout",
     "output_type": "stream",
     "text": [
      "Epoch 1/213\n",
      "\u001b[1m26/26\u001b[0m \u001b[32m━━━━━━━━━━━━━━━━━━━━\u001b[0m\u001b[37m\u001b[0m \u001b[1m1s\u001b[0m 22ms/step - loss: 548.8683 - mae: 21.5348\n",
      "Epoch 2/213\n",
      "\u001b[1m26/26\u001b[0m \u001b[32m━━━━━━━━━━━━━━━━━━━━\u001b[0m\u001b[37m\u001b[0m \u001b[1m0s\u001b[0m 2ms/step - loss: 382.8077 - mae: 17.5065 \n",
      "Epoch 3/213\n",
      "\u001b[1m26/26\u001b[0m \u001b[32m━━━━━━━━━━━━━━━━━━━━\u001b[0m\u001b[37m\u001b[0m \u001b[1m0s\u001b[0m 2ms/step - loss: 212.5397 - mae: 12.3451 \n",
      "Epoch 4/213\n",
      "\u001b[1m26/26\u001b[0m \u001b[32m━━━━━━━━━━━━━━━━━━━━\u001b[0m\u001b[37m\u001b[0m \u001b[1m0s\u001b[0m 2ms/step - loss: 109.6883 - mae: 7.9337 \n",
      "Epoch 5/213\n",
      "\u001b[1m26/26\u001b[0m \u001b[32m━━━━━━━━━━━━━━━━━━━━\u001b[0m\u001b[37m\u001b[0m \u001b[1m0s\u001b[0m 2ms/step - loss: 51.0119 - mae: 5.3065 \n",
      "Epoch 6/213\n",
      "\u001b[1m26/26\u001b[0m \u001b[32m━━━━━━━━━━━━━━━━━━━━\u001b[0m\u001b[37m\u001b[0m \u001b[1m0s\u001b[0m 2ms/step - loss: 32.8147 - mae: 4.0337\n",
      "Epoch 7/213\n",
      "\u001b[1m26/26\u001b[0m \u001b[32m━━━━━━━━━━━━━━━━━━━━\u001b[0m\u001b[37m\u001b[0m \u001b[1m0s\u001b[0m 2ms/step - loss: 26.4276 - mae: 3.5552 \n",
      "Epoch 8/213\n",
      "\u001b[1m26/26\u001b[0m \u001b[32m━━━━━━━━━━━━━━━━━━━━\u001b[0m\u001b[37m\u001b[0m \u001b[1m0s\u001b[0m 2ms/step - loss: 22.1426 - mae: 3.2854 \n",
      "Epoch 9/213\n",
      "\u001b[1m26/26\u001b[0m \u001b[32m━━━━━━━━━━━━━━━━━━━━\u001b[0m\u001b[37m\u001b[0m \u001b[1m0s\u001b[0m 2ms/step - loss: 22.3070 - mae: 3.0573 \n",
      "Epoch 10/213\n",
      "\u001b[1m26/26\u001b[0m \u001b[32m━━━━━━━━━━━━━━━━━━━━\u001b[0m\u001b[37m\u001b[0m \u001b[1m0s\u001b[0m 2ms/step - loss: 16.0052 - mae: 2.7536\n",
      "Epoch 11/213\n",
      "\u001b[1m26/26\u001b[0m \u001b[32m━━━━━━━━━━━━━━━━━━━━\u001b[0m\u001b[37m\u001b[0m \u001b[1m0s\u001b[0m 2ms/step - loss: 18.1033 - mae: 2.9314 \n",
      "Epoch 12/213\n",
      "\u001b[1m26/26\u001b[0m \u001b[32m━━━━━━━━━━━━━━━━━━━━\u001b[0m\u001b[37m\u001b[0m \u001b[1m0s\u001b[0m 2ms/step - loss: 13.1458 - mae: 2.7199\n",
      "Epoch 13/213\n",
      "\u001b[1m26/26\u001b[0m \u001b[32m━━━━━━━━━━━━━━━━━━━━\u001b[0m\u001b[37m\u001b[0m \u001b[1m0s\u001b[0m 2ms/step - loss: 13.6701 - mae: 2.6167\n",
      "Epoch 14/213\n",
      "\u001b[1m26/26\u001b[0m \u001b[32m━━━━━━━━━━━━━━━━━━━━\u001b[0m\u001b[37m\u001b[0m \u001b[1m0s\u001b[0m 2ms/step - loss: 21.1325 - mae: 3.0253 \n",
      "Epoch 15/213\n",
      "\u001b[1m26/26\u001b[0m \u001b[32m━━━━━━━━━━━━━━━━━━━━\u001b[0m\u001b[37m\u001b[0m \u001b[1m0s\u001b[0m 3ms/step - loss: 12.2296 - mae: 2.4701\n",
      "Epoch 16/213\n",
      "\u001b[1m26/26\u001b[0m \u001b[32m━━━━━━━━━━━━━━━━━━━━\u001b[0m\u001b[37m\u001b[0m \u001b[1m0s\u001b[0m 3ms/step - loss: 13.5018 - mae: 2.5278\n",
      "Epoch 17/213\n",
      "\u001b[1m26/26\u001b[0m \u001b[32m━━━━━━━━━━━━━━━━━━━━\u001b[0m\u001b[37m\u001b[0m \u001b[1m0s\u001b[0m 2ms/step - loss: 10.1856 - mae: 2.2936\n",
      "Epoch 18/213\n",
      "\u001b[1m26/26\u001b[0m \u001b[32m━━━━━━━━━━━━━━━━━━━━\u001b[0m\u001b[37m\u001b[0m \u001b[1m0s\u001b[0m 2ms/step - loss: 11.4793 - mae: 2.4172\n",
      "Epoch 19/213\n",
      "\u001b[1m26/26\u001b[0m \u001b[32m━━━━━━━━━━━━━━━━━━━━\u001b[0m\u001b[37m\u001b[0m \u001b[1m0s\u001b[0m 3ms/step - loss: 11.8924 - mae: 2.4619\n",
      "Epoch 20/213\n",
      "\u001b[1m26/26\u001b[0m \u001b[32m━━━━━━━━━━━━━━━━━━━━\u001b[0m\u001b[37m\u001b[0m \u001b[1m0s\u001b[0m 3ms/step - loss: 9.5143 - mae: 2.2187\n",
      "Epoch 21/213\n",
      "\u001b[1m26/26\u001b[0m \u001b[32m━━━━━━━━━━━━━━━━━━━━\u001b[0m\u001b[37m\u001b[0m \u001b[1m0s\u001b[0m 2ms/step - loss: 9.4557 - mae: 2.2147\n",
      "Epoch 22/213\n",
      "\u001b[1m26/26\u001b[0m \u001b[32m━━━━━━━━━━━━━━━━━━━━\u001b[0m\u001b[37m\u001b[0m \u001b[1m0s\u001b[0m 3ms/step - loss: 9.3288 - mae: 2.2301\n",
      "Epoch 23/213\n",
      "\u001b[1m26/26\u001b[0m \u001b[32m━━━━━━━━━━━━━━━━━━━━\u001b[0m\u001b[37m\u001b[0m \u001b[1m0s\u001b[0m 3ms/step - loss: 9.3320 - mae: 2.1706\n",
      "Epoch 24/213\n",
      "\u001b[1m26/26\u001b[0m \u001b[32m━━━━━━━━━━━━━━━━━━━━\u001b[0m\u001b[37m\u001b[0m \u001b[1m0s\u001b[0m 3ms/step - loss: 9.8472 - mae: 2.2449\n",
      "Epoch 25/213\n",
      "\u001b[1m26/26\u001b[0m \u001b[32m━━━━━━━━━━━━━━━━━━━━\u001b[0m\u001b[37m\u001b[0m \u001b[1m0s\u001b[0m 3ms/step - loss: 12.2372 - mae: 2.3215\n",
      "Epoch 26/213\n",
      "\u001b[1m26/26\u001b[0m \u001b[32m━━━━━━━━━━━━━━━━━━━━\u001b[0m\u001b[37m\u001b[0m \u001b[1m0s\u001b[0m 3ms/step - loss: 9.5510 - mae: 2.1953\n",
      "Epoch 27/213\n",
      "\u001b[1m26/26\u001b[0m \u001b[32m━━━━━━━━━━━━━━━━━━━━\u001b[0m\u001b[37m\u001b[0m \u001b[1m0s\u001b[0m 3ms/step - loss: 11.9428 - mae: 2.3525\n",
      "Epoch 28/213\n",
      "\u001b[1m26/26\u001b[0m \u001b[32m━━━━━━━━━━━━━━━━━━━━\u001b[0m\u001b[37m\u001b[0m \u001b[1m0s\u001b[0m 2ms/step - loss: 11.7721 - mae: 2.3016\n",
      "Epoch 29/213\n",
      "\u001b[1m26/26\u001b[0m \u001b[32m━━━━━━━━━━━━━━━━━━━━\u001b[0m\u001b[37m\u001b[0m \u001b[1m0s\u001b[0m 2ms/step - loss: 8.7432 - mae: 2.0995\n",
      "Epoch 30/213\n",
      "\u001b[1m26/26\u001b[0m \u001b[32m━━━━━━━━━━━━━━━━━━━━\u001b[0m\u001b[37m\u001b[0m \u001b[1m0s\u001b[0m 3ms/step - loss: 8.0104 - mae: 2.0445\n",
      "Epoch 31/213\n",
      "\u001b[1m26/26\u001b[0m \u001b[32m━━━━━━━━━━━━━━━━━━━━\u001b[0m\u001b[37m\u001b[0m \u001b[1m0s\u001b[0m 3ms/step - loss: 8.8405 - mae: 2.0666\n",
      "Epoch 32/213\n",
      "\u001b[1m26/26\u001b[0m \u001b[32m━━━━━━━━━━━━━━━━━━━━\u001b[0m\u001b[37m\u001b[0m \u001b[1m0s\u001b[0m 2ms/step - loss: 7.7636 - mae: 2.0713 \n",
      "Epoch 33/213\n",
      "\u001b[1m26/26\u001b[0m \u001b[32m━━━━━━━━━━━━━━━━━━━━\u001b[0m\u001b[37m\u001b[0m \u001b[1m0s\u001b[0m 2ms/step - loss: 8.7348 - mae: 2.1078 \n",
      "Epoch 34/213\n",
      "\u001b[1m26/26\u001b[0m \u001b[32m━━━━━━━━━━━━━━━━━━━━\u001b[0m\u001b[37m\u001b[0m \u001b[1m0s\u001b[0m 2ms/step - loss: 7.6429 - mae: 2.0343 \n",
      "Epoch 35/213\n",
      "\u001b[1m26/26\u001b[0m \u001b[32m━━━━━━━━━━━━━━━━━━━━\u001b[0m\u001b[37m\u001b[0m \u001b[1m0s\u001b[0m 2ms/step - loss: 7.8733 - mae: 2.0217  \n",
      "Epoch 36/213\n",
      "\u001b[1m26/26\u001b[0m \u001b[32m━━━━━━━━━━━━━━━━━━━━\u001b[0m\u001b[37m\u001b[0m \u001b[1m0s\u001b[0m 2ms/step - loss: 7.6318 - mae: 2.0143 \n",
      "Epoch 37/213\n",
      "\u001b[1m26/26\u001b[0m \u001b[32m━━━━━━━━━━━━━━━━━━━━\u001b[0m\u001b[37m\u001b[0m \u001b[1m0s\u001b[0m 2ms/step - loss: 9.1892 - mae: 1.9429 \n",
      "Epoch 38/213\n",
      "\u001b[1m26/26\u001b[0m \u001b[32m━━━━━━━━━━━━━━━━━━━━\u001b[0m\u001b[37m\u001b[0m \u001b[1m0s\u001b[0m 2ms/step - loss: 8.8833 - mae: 2.0238 \n",
      "Epoch 39/213\n",
      "\u001b[1m26/26\u001b[0m \u001b[32m━━━━━━━━━━━━━━━━━━━━\u001b[0m\u001b[37m\u001b[0m \u001b[1m0s\u001b[0m 2ms/step - loss: 8.0568 - mae: 2.0354 \n",
      "Epoch 40/213\n",
      "\u001b[1m26/26\u001b[0m \u001b[32m━━━━━━━━━━━━━━━━━━━━\u001b[0m\u001b[37m\u001b[0m \u001b[1m0s\u001b[0m 2ms/step - loss: 7.4918 - mae: 1.9234 \n",
      "Epoch 41/213\n",
      "\u001b[1m26/26\u001b[0m \u001b[32m━━━━━━━━━━━━━━━━━━━━\u001b[0m\u001b[37m\u001b[0m \u001b[1m0s\u001b[0m 2ms/step - loss: 7.3585 - mae: 1.9762 \n",
      "Epoch 42/213\n",
      "\u001b[1m26/26\u001b[0m \u001b[32m━━━━━━━━━━━━━━━━━━━━\u001b[0m\u001b[37m\u001b[0m \u001b[1m0s\u001b[0m 2ms/step - loss: 8.1869 - mae: 2.0706 \n",
      "Epoch 43/213\n",
      "\u001b[1m26/26\u001b[0m \u001b[32m━━━━━━━━━━━━━━━━━━━━\u001b[0m\u001b[37m\u001b[0m \u001b[1m0s\u001b[0m 2ms/step - loss: 8.1207 - mae: 1.9505 \n",
      "Epoch 44/213\n",
      "\u001b[1m26/26\u001b[0m \u001b[32m━━━━━━━━━━━━━━━━━━━━\u001b[0m\u001b[37m\u001b[0m \u001b[1m0s\u001b[0m 2ms/step - loss: 6.7973 - mae: 1.8755 \n",
      "Epoch 45/213\n",
      "\u001b[1m26/26\u001b[0m \u001b[32m━━━━━━━━━━━━━━━━━━━━\u001b[0m\u001b[37m\u001b[0m \u001b[1m0s\u001b[0m 2ms/step - loss: 5.5512 - mae: 1.8001 \n",
      "Epoch 46/213\n",
      "\u001b[1m26/26\u001b[0m \u001b[32m━━━━━━━━━━━━━━━━━━━━\u001b[0m\u001b[37m\u001b[0m \u001b[1m0s\u001b[0m 2ms/step - loss: 8.7716 - mae: 1.9785 \n",
      "Epoch 47/213\n",
      "\u001b[1m26/26\u001b[0m \u001b[32m━━━━━━━━━━━━━━━━━━━━\u001b[0m\u001b[37m\u001b[0m \u001b[1m0s\u001b[0m 2ms/step - loss: 6.9680 - mae: 1.9324 \n",
      "Epoch 48/213\n",
      "\u001b[1m26/26\u001b[0m \u001b[32m━━━━━━━━━━━━━━━━━━━━\u001b[0m\u001b[37m\u001b[0m \u001b[1m0s\u001b[0m 2ms/step - loss: 6.9138 - mae: 1.9472 \n",
      "Epoch 49/213\n",
      "\u001b[1m26/26\u001b[0m \u001b[32m━━━━━━━━━━━━━━━━━━━━\u001b[0m\u001b[37m\u001b[0m \u001b[1m0s\u001b[0m 2ms/step - loss: 9.7406 - mae: 2.0216  \n",
      "Epoch 50/213\n",
      "\u001b[1m26/26\u001b[0m \u001b[32m━━━━━━━━━━━━━━━━━━━━\u001b[0m\u001b[37m\u001b[0m \u001b[1m0s\u001b[0m 2ms/step - loss: 7.9579 - mae: 2.0187 \n",
      "Epoch 51/213\n",
      "\u001b[1m26/26\u001b[0m \u001b[32m━━━━━━━━━━━━━━━━━━━━\u001b[0m\u001b[37m\u001b[0m \u001b[1m0s\u001b[0m 2ms/step - loss: 7.1155 - mae: 1.8748 \n",
      "Epoch 52/213\n",
      "\u001b[1m26/26\u001b[0m \u001b[32m━━━━━━━━━━━━━━━━━━━━\u001b[0m\u001b[37m\u001b[0m \u001b[1m0s\u001b[0m 2ms/step - loss: 8.9410 - mae: 2.0485 \n",
      "Epoch 53/213\n",
      "\u001b[1m26/26\u001b[0m \u001b[32m━━━━━━━━━━━━━━━━━━━━\u001b[0m\u001b[37m\u001b[0m \u001b[1m0s\u001b[0m 2ms/step - loss: 9.0721 - mae: 1.9161  \n",
      "Epoch 54/213\n",
      "\u001b[1m26/26\u001b[0m \u001b[32m━━━━━━━━━━━━━━━━━━━━\u001b[0m\u001b[37m\u001b[0m \u001b[1m0s\u001b[0m 2ms/step - loss: 8.7413 - mae: 1.9779 \n",
      "Epoch 55/213\n",
      "\u001b[1m26/26\u001b[0m \u001b[32m━━━━━━━━━━━━━━━━━━━━\u001b[0m\u001b[37m\u001b[0m \u001b[1m0s\u001b[0m 2ms/step - loss: 5.7656 - mae: 1.7530 \n",
      "Epoch 56/213\n",
      "\u001b[1m26/26\u001b[0m \u001b[32m━━━━━━━━━━━━━━━━━━━━\u001b[0m\u001b[37m\u001b[0m \u001b[1m0s\u001b[0m 2ms/step - loss: 8.2452 - mae: 1.9432 \n",
      "Epoch 57/213\n",
      "\u001b[1m26/26\u001b[0m \u001b[32m━━━━━━━━━━━━━━━━━━━━\u001b[0m\u001b[37m\u001b[0m \u001b[1m0s\u001b[0m 2ms/step - loss: 6.2343 - mae: 1.8620 \n",
      "Epoch 58/213\n",
      "\u001b[1m26/26\u001b[0m \u001b[32m━━━━━━━━━━━━━━━━━━━━\u001b[0m\u001b[37m\u001b[0m \u001b[1m0s\u001b[0m 2ms/step - loss: 7.0908 - mae: 1.9149  \n",
      "Epoch 59/213\n",
      "\u001b[1m26/26\u001b[0m \u001b[32m━━━━━━━━━━━━━━━━━━━━\u001b[0m\u001b[37m\u001b[0m \u001b[1m0s\u001b[0m 2ms/step - loss: 6.7204 - mae: 1.9669 \n",
      "Epoch 60/213\n",
      "\u001b[1m26/26\u001b[0m \u001b[32m━━━━━━━━━━━━━━━━━━━━\u001b[0m\u001b[37m\u001b[0m \u001b[1m0s\u001b[0m 2ms/step - loss: 8.9809 - mae: 2.0812 \n",
      "Epoch 61/213\n",
      "\u001b[1m26/26\u001b[0m \u001b[32m━━━━━━━━━━━━━━━━━━━━\u001b[0m\u001b[37m\u001b[0m \u001b[1m0s\u001b[0m 2ms/step - loss: 6.3765 - mae: 1.8654 \n",
      "Epoch 62/213\n",
      "\u001b[1m26/26\u001b[0m \u001b[32m━━━━━━━━━━━━━━━━━━━━\u001b[0m\u001b[37m\u001b[0m \u001b[1m0s\u001b[0m 2ms/step - loss: 6.4914 - mae: 1.7936\n",
      "Epoch 63/213\n",
      "\u001b[1m26/26\u001b[0m \u001b[32m━━━━━━━━━━━━━━━━━━━━\u001b[0m\u001b[37m\u001b[0m \u001b[1m0s\u001b[0m 2ms/step - loss: 6.2659 - mae: 1.7447 \n",
      "Epoch 64/213\n",
      "\u001b[1m26/26\u001b[0m \u001b[32m━━━━━━━━━━━━━━━━━━━━\u001b[0m\u001b[37m\u001b[0m \u001b[1m0s\u001b[0m 2ms/step - loss: 5.3407 - mae: 1.6876 \n",
      "Epoch 65/213\n",
      "\u001b[1m26/26\u001b[0m \u001b[32m━━━━━━━━━━━━━━━━━━━━\u001b[0m\u001b[37m\u001b[0m \u001b[1m0s\u001b[0m 2ms/step - loss: 6.7767 - mae: 1.7581 \n",
      "Epoch 66/213\n",
      "\u001b[1m26/26\u001b[0m \u001b[32m━━━━━━━━━━━━━━━━━━━━\u001b[0m\u001b[37m\u001b[0m \u001b[1m0s\u001b[0m 2ms/step - loss: 6.2466 - mae: 1.8004 \n",
      "Epoch 67/213\n",
      "\u001b[1m26/26\u001b[0m \u001b[32m━━━━━━━━━━━━━━━━━━━━\u001b[0m\u001b[37m\u001b[0m \u001b[1m0s\u001b[0m 2ms/step - loss: 7.3764 - mae: 1.9249  \n",
      "Epoch 68/213\n",
      "\u001b[1m26/26\u001b[0m \u001b[32m━━━━━━━━━━━━━━━━━━━━\u001b[0m\u001b[37m\u001b[0m \u001b[1m0s\u001b[0m 2ms/step - loss: 6.1233 - mae: 1.7991 \n",
      "Epoch 69/213\n",
      "\u001b[1m26/26\u001b[0m \u001b[32m━━━━━━━━━━━━━━━━━━━━\u001b[0m\u001b[37m\u001b[0m \u001b[1m0s\u001b[0m 2ms/step - loss: 6.3224 - mae: 1.6822 \n",
      "Epoch 70/213\n",
      "\u001b[1m26/26\u001b[0m \u001b[32m━━━━━━━━━━━━━━━━━━━━\u001b[0m\u001b[37m\u001b[0m \u001b[1m0s\u001b[0m 2ms/step - loss: 8.3321 - mae: 1.8611  \n",
      "Epoch 71/213\n",
      "\u001b[1m26/26\u001b[0m \u001b[32m━━━━━━━━━━━━━━━━━━━━\u001b[0m\u001b[37m\u001b[0m \u001b[1m0s\u001b[0m 2ms/step - loss: 6.2425 - mae: 1.7008 \n",
      "Epoch 72/213\n",
      "\u001b[1m26/26\u001b[0m \u001b[32m━━━━━━━━━━━━━━━━━━━━\u001b[0m\u001b[37m\u001b[0m \u001b[1m0s\u001b[0m 2ms/step - loss: 5.7739 - mae: 1.8031 \n",
      "Epoch 73/213\n",
      "\u001b[1m26/26\u001b[0m \u001b[32m━━━━━━━━━━━━━━━━━━━━\u001b[0m\u001b[37m\u001b[0m \u001b[1m0s\u001b[0m 2ms/step - loss: 6.4696 - mae: 1.7146  \n",
      "Epoch 74/213\n",
      "\u001b[1m26/26\u001b[0m \u001b[32m━━━━━━━━━━━━━━━━━━━━\u001b[0m\u001b[37m\u001b[0m \u001b[1m0s\u001b[0m 2ms/step - loss: 6.0695 - mae: 1.7939 \n",
      "Epoch 75/213\n",
      "\u001b[1m26/26\u001b[0m \u001b[32m━━━━━━━━━━━━━━━━━━━━\u001b[0m\u001b[37m\u001b[0m \u001b[1m0s\u001b[0m 2ms/step - loss: 5.7988 - mae: 1.7236 \n",
      "Epoch 76/213\n",
      "\u001b[1m26/26\u001b[0m \u001b[32m━━━━━━━━━━━━━━━━━━━━\u001b[0m\u001b[37m\u001b[0m \u001b[1m0s\u001b[0m 2ms/step - loss: 6.0397 - mae: 1.7456 \n",
      "Epoch 77/213\n",
      "\u001b[1m26/26\u001b[0m \u001b[32m━━━━━━━━━━━━━━━━━━━━\u001b[0m\u001b[37m\u001b[0m \u001b[1m0s\u001b[0m 2ms/step - loss: 5.4249 - mae: 1.6116 \n",
      "Epoch 78/213\n",
      "\u001b[1m26/26\u001b[0m \u001b[32m━━━━━━━━━━━━━━━━━━━━\u001b[0m\u001b[37m\u001b[0m \u001b[1m0s\u001b[0m 2ms/step - loss: 5.4613 - mae: 1.6767 \n",
      "Epoch 79/213\n",
      "\u001b[1m26/26\u001b[0m \u001b[32m━━━━━━━━━━━━━━━━━━━━\u001b[0m\u001b[37m\u001b[0m \u001b[1m0s\u001b[0m 2ms/step - loss: 5.1837 - mae: 1.6086 \n",
      "Epoch 80/213\n",
      "\u001b[1m26/26\u001b[0m \u001b[32m━━━━━━━━━━━━━━━━━━━━\u001b[0m\u001b[37m\u001b[0m \u001b[1m0s\u001b[0m 2ms/step - loss: 7.1306 - mae: 1.8440  \n",
      "Epoch 81/213\n",
      "\u001b[1m26/26\u001b[0m \u001b[32m━━━━━━━━━━━━━━━━━━━━\u001b[0m\u001b[37m\u001b[0m \u001b[1m0s\u001b[0m 2ms/step - loss: 6.7513 - mae: 1.7577 \n",
      "Epoch 82/213\n",
      "\u001b[1m26/26\u001b[0m \u001b[32m━━━━━━━━━━━━━━━━━━━━\u001b[0m\u001b[37m\u001b[0m \u001b[1m0s\u001b[0m 2ms/step - loss: 4.8412 - mae: 1.6424 \n",
      "Epoch 83/213\n",
      "\u001b[1m26/26\u001b[0m \u001b[32m━━━━━━━━━━━━━━━━━━━━\u001b[0m\u001b[37m\u001b[0m \u001b[1m0s\u001b[0m 2ms/step - loss: 5.0560 - mae: 1.6106 \n",
      "Epoch 84/213\n",
      "\u001b[1m26/26\u001b[0m \u001b[32m━━━━━━━━━━━━━━━━━━━━\u001b[0m\u001b[37m\u001b[0m \u001b[1m0s\u001b[0m 2ms/step - loss: 4.9316 - mae: 1.6809 \n",
      "Epoch 85/213\n",
      "\u001b[1m26/26\u001b[0m \u001b[32m━━━━━━━━━━━━━━━━━━━━\u001b[0m\u001b[37m\u001b[0m \u001b[1m0s\u001b[0m 2ms/step - loss: 4.7226 - mae: 1.5666 \n",
      "Epoch 86/213\n",
      "\u001b[1m26/26\u001b[0m \u001b[32m━━━━━━━━━━━━━━━━━━━━\u001b[0m\u001b[37m\u001b[0m \u001b[1m0s\u001b[0m 2ms/step - loss: 5.5677 - mae: 1.6757\n",
      "Epoch 87/213\n",
      "\u001b[1m26/26\u001b[0m \u001b[32m━━━━━━━━━━━━━━━━━━━━\u001b[0m\u001b[37m\u001b[0m \u001b[1m0s\u001b[0m 2ms/step - loss: 5.5059 - mae: 1.6888 \n",
      "Epoch 88/213\n",
      "\u001b[1m26/26\u001b[0m \u001b[32m━━━━━━━━━━━━━━━━━━━━\u001b[0m\u001b[37m\u001b[0m \u001b[1m0s\u001b[0m 2ms/step - loss: 4.9922 - mae: 1.6372 \n",
      "Epoch 89/213\n",
      "\u001b[1m26/26\u001b[0m \u001b[32m━━━━━━━━━━━━━━━━━━━━\u001b[0m\u001b[37m\u001b[0m \u001b[1m0s\u001b[0m 2ms/step - loss: 5.1911 - mae: 1.6027 \n",
      "Epoch 90/213\n",
      "\u001b[1m26/26\u001b[0m \u001b[32m━━━━━━━━━━━━━━━━━━━━\u001b[0m\u001b[37m\u001b[0m \u001b[1m0s\u001b[0m 2ms/step - loss: 5.3526 - mae: 1.6229 \n",
      "Epoch 91/213\n",
      "\u001b[1m26/26\u001b[0m \u001b[32m━━━━━━━━━━━━━━━━━━━━\u001b[0m\u001b[37m\u001b[0m \u001b[1m0s\u001b[0m 2ms/step - loss: 4.3638 - mae: 1.5167 \n",
      "Epoch 92/213\n",
      "\u001b[1m26/26\u001b[0m \u001b[32m━━━━━━━━━━━━━━━━━━━━\u001b[0m\u001b[37m\u001b[0m \u001b[1m0s\u001b[0m 2ms/step - loss: 5.1139 - mae: 1.5886 \n",
      "Epoch 93/213\n",
      "\u001b[1m26/26\u001b[0m \u001b[32m━━━━━━━━━━━━━━━━━━━━\u001b[0m\u001b[37m\u001b[0m \u001b[1m0s\u001b[0m 2ms/step - loss: 4.5573 - mae: 1.5247 \n",
      "Epoch 94/213\n",
      "\u001b[1m26/26\u001b[0m \u001b[32m━━━━━━━━━━━━━━━━━━━━\u001b[0m\u001b[37m\u001b[0m \u001b[1m0s\u001b[0m 2ms/step - loss: 4.6100 - mae: 1.6180 \n",
      "Epoch 95/213\n",
      "\u001b[1m26/26\u001b[0m \u001b[32m━━━━━━━━━━━━━━━━━━━━\u001b[0m\u001b[37m\u001b[0m \u001b[1m0s\u001b[0m 2ms/step - loss: 4.9372 - mae: 1.6212 \n",
      "Epoch 96/213\n",
      "\u001b[1m26/26\u001b[0m \u001b[32m━━━━━━━━━━━━━━━━━━━━\u001b[0m\u001b[37m\u001b[0m \u001b[1m0s\u001b[0m 2ms/step - loss: 4.6373 - mae: 1.5770 \n",
      "Epoch 97/213\n",
      "\u001b[1m26/26\u001b[0m \u001b[32m━━━━━━━━━━━━━━━━━━━━\u001b[0m\u001b[37m\u001b[0m \u001b[1m0s\u001b[0m 2ms/step - loss: 4.9816 - mae: 1.5718 \n",
      "Epoch 98/213\n",
      "\u001b[1m26/26\u001b[0m \u001b[32m━━━━━━━━━━━━━━━━━━━━\u001b[0m\u001b[37m\u001b[0m \u001b[1m0s\u001b[0m 2ms/step - loss: 4.7351 - mae: 1.5858 \n",
      "Epoch 99/213\n",
      "\u001b[1m26/26\u001b[0m \u001b[32m━━━━━━━━━━━━━━━━━━━━\u001b[0m\u001b[37m\u001b[0m \u001b[1m0s\u001b[0m 2ms/step - loss: 4.6586 - mae: 1.4987 \n",
      "Epoch 100/213\n",
      "\u001b[1m26/26\u001b[0m \u001b[32m━━━━━━━━━━━━━━━━━━━━\u001b[0m\u001b[37m\u001b[0m \u001b[1m0s\u001b[0m 2ms/step - loss: 4.5023 - mae: 1.5154 \n",
      "Epoch 101/213\n",
      "\u001b[1m26/26\u001b[0m \u001b[32m━━━━━━━━━━━━━━━━━━━━\u001b[0m\u001b[37m\u001b[0m \u001b[1m0s\u001b[0m 2ms/step - loss: 5.8280 - mae: 1.6220 \n",
      "Epoch 102/213\n",
      "\u001b[1m26/26\u001b[0m \u001b[32m━━━━━━━━━━━━━━━━━━━━\u001b[0m\u001b[37m\u001b[0m \u001b[1m0s\u001b[0m 2ms/step - loss: 4.0695 - mae: 1.5014 \n",
      "Epoch 103/213\n",
      "\u001b[1m26/26\u001b[0m \u001b[32m━━━━━━━━━━━━━━━━━━━━\u001b[0m\u001b[37m\u001b[0m \u001b[1m0s\u001b[0m 2ms/step - loss: 6.3181 - mae: 1.6898  \n",
      "Epoch 104/213\n",
      "\u001b[1m26/26\u001b[0m \u001b[32m━━━━━━━━━━━━━━━━━━━━\u001b[0m\u001b[37m\u001b[0m \u001b[1m0s\u001b[0m 2ms/step - loss: 3.9847 - mae: 1.4377 \n",
      "Epoch 105/213\n",
      "\u001b[1m26/26\u001b[0m \u001b[32m━━━━━━━━━━━━━━━━━━━━\u001b[0m\u001b[37m\u001b[0m \u001b[1m0s\u001b[0m 2ms/step - loss: 4.0200 - mae: 1.4731 \n",
      "Epoch 106/213\n",
      "\u001b[1m26/26\u001b[0m \u001b[32m━━━━━━━━━━━━━━━━━━━━\u001b[0m\u001b[37m\u001b[0m \u001b[1m0s\u001b[0m 2ms/step - loss: 5.3806 - mae: 1.5062 \n",
      "Epoch 107/213\n",
      "\u001b[1m26/26\u001b[0m \u001b[32m━━━━━━━━━━━━━━━━━━━━\u001b[0m\u001b[37m\u001b[0m \u001b[1m0s\u001b[0m 2ms/step - loss: 3.2402 - mae: 1.3358 \n",
      "Epoch 108/213\n",
      "\u001b[1m26/26\u001b[0m \u001b[32m━━━━━━━━━━━━━━━━━━━━\u001b[0m\u001b[37m\u001b[0m \u001b[1m0s\u001b[0m 2ms/step - loss: 5.6749 - mae: 1.5405 \n",
      "Epoch 109/213\n",
      "\u001b[1m26/26\u001b[0m \u001b[32m━━━━━━━━━━━━━━━━━━━━\u001b[0m\u001b[37m\u001b[0m \u001b[1m0s\u001b[0m 2ms/step - loss: 4.0247 - mae: 1.4314 \n",
      "Epoch 110/213\n",
      "\u001b[1m26/26\u001b[0m \u001b[32m━━━━━━━━━━━━━━━━━━━━\u001b[0m\u001b[37m\u001b[0m \u001b[1m0s\u001b[0m 2ms/step - loss: 3.7311 - mae: 1.3683 \n",
      "Epoch 111/213\n",
      "\u001b[1m26/26\u001b[0m \u001b[32m━━━━━━━━━━━━━━━━━━━━\u001b[0m\u001b[37m\u001b[0m \u001b[1m0s\u001b[0m 2ms/step - loss: 4.0998 - mae: 1.4958 \n",
      "Epoch 112/213\n",
      "\u001b[1m26/26\u001b[0m \u001b[32m━━━━━━━━━━━━━━━━━━━━\u001b[0m\u001b[37m\u001b[0m \u001b[1m0s\u001b[0m 2ms/step - loss: 4.1543 - mae: 1.5030 \n",
      "Epoch 113/213\n",
      "\u001b[1m26/26\u001b[0m \u001b[32m━━━━━━━━━━━━━━━━━━━━\u001b[0m\u001b[37m\u001b[0m \u001b[1m0s\u001b[0m 2ms/step - loss: 4.4058 - mae: 1.4934 \n",
      "Epoch 114/213\n",
      "\u001b[1m26/26\u001b[0m \u001b[32m━━━━━━━━━━━━━━━━━━━━\u001b[0m\u001b[37m\u001b[0m \u001b[1m0s\u001b[0m 2ms/step - loss: 4.0212 - mae: 1.4193 \n",
      "Epoch 115/213\n",
      "\u001b[1m26/26\u001b[0m \u001b[32m━━━━━━━━━━━━━━━━━━━━\u001b[0m\u001b[37m\u001b[0m \u001b[1m0s\u001b[0m 2ms/step - loss: 3.9596 - mae: 1.4484 \n",
      "Epoch 116/213\n",
      "\u001b[1m26/26\u001b[0m \u001b[32m━━━━━━━━━━━━━━━━━━━━\u001b[0m\u001b[37m\u001b[0m \u001b[1m0s\u001b[0m 2ms/step - loss: 3.5476 - mae: 1.4252 \n",
      "Epoch 117/213\n",
      "\u001b[1m26/26\u001b[0m \u001b[32m━━━━━━━━━━━━━━━━━━━━\u001b[0m\u001b[37m\u001b[0m \u001b[1m0s\u001b[0m 2ms/step - loss: 3.7088 - mae: 1.3736 \n",
      "Epoch 118/213\n",
      "\u001b[1m26/26\u001b[0m \u001b[32m━━━━━━━━━━━━━━━━━━━━\u001b[0m\u001b[37m\u001b[0m \u001b[1m0s\u001b[0m 2ms/step - loss: 3.7348 - mae: 1.4175 \n",
      "Epoch 119/213\n",
      "\u001b[1m26/26\u001b[0m \u001b[32m━━━━━━━━━━━━━━━━━━━━\u001b[0m\u001b[37m\u001b[0m \u001b[1m0s\u001b[0m 2ms/step - loss: 3.2823 - mae: 1.3236 \n",
      "Epoch 120/213\n",
      "\u001b[1m26/26\u001b[0m \u001b[32m━━━━━━━━━━━━━━━━━━━━\u001b[0m\u001b[37m\u001b[0m \u001b[1m0s\u001b[0m 2ms/step - loss: 4.0211 - mae: 1.4727 \n",
      "Epoch 121/213\n",
      "\u001b[1m26/26\u001b[0m \u001b[32m━━━━━━━━━━━━━━━━━━━━\u001b[0m\u001b[37m\u001b[0m \u001b[1m0s\u001b[0m 2ms/step - loss: 3.7639 - mae: 1.3249 \n",
      "Epoch 122/213\n",
      "\u001b[1m26/26\u001b[0m \u001b[32m━━━━━━━━━━━━━━━━━━━━\u001b[0m\u001b[37m\u001b[0m \u001b[1m0s\u001b[0m 2ms/step - loss: 3.8750 - mae: 1.4336 \n",
      "Epoch 123/213\n",
      "\u001b[1m26/26\u001b[0m \u001b[32m━━━━━━━━━━━━━━━━━━━━\u001b[0m\u001b[37m\u001b[0m \u001b[1m0s\u001b[0m 2ms/step - loss: 3.9591 - mae: 1.4382 \n",
      "Epoch 124/213\n",
      "\u001b[1m26/26\u001b[0m \u001b[32m━━━━━━━━━━━━━━━━━━━━\u001b[0m\u001b[37m\u001b[0m \u001b[1m0s\u001b[0m 2ms/step - loss: 3.3970 - mae: 1.3095 \n",
      "Epoch 125/213\n",
      "\u001b[1m26/26\u001b[0m \u001b[32m━━━━━━━━━━━━━━━━━━━━\u001b[0m\u001b[37m\u001b[0m \u001b[1m0s\u001b[0m 2ms/step - loss: 5.1399 - mae: 1.4442  \n",
      "Epoch 126/213\n",
      "\u001b[1m26/26\u001b[0m \u001b[32m━━━━━━━━━━━━━━━━━━━━\u001b[0m\u001b[37m\u001b[0m \u001b[1m0s\u001b[0m 2ms/step - loss: 3.5792 - mae: 1.3686 \n",
      "Epoch 127/213\n",
      "\u001b[1m26/26\u001b[0m \u001b[32m━━━━━━━━━━━━━━━━━━━━\u001b[0m\u001b[37m\u001b[0m \u001b[1m0s\u001b[0m 2ms/step - loss: 3.7457 - mae: 1.3659 \n",
      "Epoch 128/213\n",
      "\u001b[1m26/26\u001b[0m \u001b[32m━━━━━━━━━━━━━━━━━━━━\u001b[0m\u001b[37m\u001b[0m \u001b[1m0s\u001b[0m 2ms/step - loss: 3.9928 - mae: 1.3719 \n",
      "Epoch 129/213\n",
      "\u001b[1m26/26\u001b[0m \u001b[32m━━━━━━━━━━━━━━━━━━━━\u001b[0m\u001b[37m\u001b[0m \u001b[1m0s\u001b[0m 2ms/step - loss: 3.2566 - mae: 1.3387 \n",
      "Epoch 130/213\n",
      "\u001b[1m26/26\u001b[0m \u001b[32m━━━━━━━━━━━━━━━━━━━━\u001b[0m\u001b[37m\u001b[0m \u001b[1m0s\u001b[0m 2ms/step - loss: 2.7739 - mae: 1.2458 \n",
      "Epoch 131/213\n",
      "\u001b[1m26/26\u001b[0m \u001b[32m━━━━━━━━━━━━━━━━━━━━\u001b[0m\u001b[37m\u001b[0m \u001b[1m0s\u001b[0m 2ms/step - loss: 3.3507 - mae: 1.3652 \n",
      "Epoch 132/213\n",
      "\u001b[1m26/26\u001b[0m \u001b[32m━━━━━━━━━━━━━━━━━━━━\u001b[0m\u001b[37m\u001b[0m \u001b[1m0s\u001b[0m 2ms/step - loss: 3.8402 - mae: 1.3696 \n",
      "Epoch 133/213\n",
      "\u001b[1m26/26\u001b[0m \u001b[32m━━━━━━━━━━━━━━━━━━━━\u001b[0m\u001b[37m\u001b[0m \u001b[1m0s\u001b[0m 2ms/step - loss: 3.5832 - mae: 1.3540 \n",
      "Epoch 134/213\n",
      "\u001b[1m26/26\u001b[0m \u001b[32m━━━━━━━━━━━━━━━━━━━━\u001b[0m\u001b[37m\u001b[0m \u001b[1m0s\u001b[0m 2ms/step - loss: 3.6857 - mae: 1.3722 \n",
      "Epoch 135/213\n",
      "\u001b[1m26/26\u001b[0m \u001b[32m━━━━━━━━━━━━━━━━━━━━\u001b[0m\u001b[37m\u001b[0m \u001b[1m0s\u001b[0m 2ms/step - loss: 3.1826 - mae: 1.2723 \n",
      "Epoch 136/213\n",
      "\u001b[1m26/26\u001b[0m \u001b[32m━━━━━━━━━━━━━━━━━━━━\u001b[0m\u001b[37m\u001b[0m \u001b[1m0s\u001b[0m 2ms/step - loss: 3.1670 - mae: 1.3028 \n",
      "Epoch 137/213\n",
      "\u001b[1m26/26\u001b[0m \u001b[32m━━━━━━━━━━━━━━━━━━━━\u001b[0m\u001b[37m\u001b[0m \u001b[1m0s\u001b[0m 2ms/step - loss: 3.6284 - mae: 1.3461 \n",
      "Epoch 138/213\n",
      "\u001b[1m26/26\u001b[0m \u001b[32m━━━━━━━━━━━━━━━━━━━━\u001b[0m\u001b[37m\u001b[0m \u001b[1m0s\u001b[0m 3ms/step - loss: 2.8672 - mae: 1.1986\n",
      "Epoch 139/213\n",
      "\u001b[1m26/26\u001b[0m \u001b[32m━━━━━━━━━━━━━━━━━━━━\u001b[0m\u001b[37m\u001b[0m \u001b[1m0s\u001b[0m 3ms/step - loss: 2.8536 - mae: 1.2018\n",
      "Epoch 140/213\n",
      "\u001b[1m26/26\u001b[0m \u001b[32m━━━━━━━━━━━━━━━━━━━━\u001b[0m\u001b[37m\u001b[0m \u001b[1m0s\u001b[0m 3ms/step - loss: 3.1278 - mae: 1.2650\n",
      "Epoch 141/213\n",
      "\u001b[1m26/26\u001b[0m \u001b[32m━━━━━━━━━━━━━━━━━━━━\u001b[0m\u001b[37m\u001b[0m \u001b[1m0s\u001b[0m 2ms/step - loss: 3.2200 - mae: 1.2132\n",
      "Epoch 142/213\n",
      "\u001b[1m26/26\u001b[0m \u001b[32m━━━━━━━━━━━━━━━━━━━━\u001b[0m\u001b[37m\u001b[0m \u001b[1m0s\u001b[0m 3ms/step - loss: 3.2831 - mae: 1.3169\n",
      "Epoch 143/213\n",
      "\u001b[1m26/26\u001b[0m \u001b[32m━━━━━━━━━━━━━━━━━━━━\u001b[0m\u001b[37m\u001b[0m \u001b[1m0s\u001b[0m 2ms/step - loss: 3.8602 - mae: 1.3468 \n",
      "Epoch 144/213\n",
      "\u001b[1m26/26\u001b[0m \u001b[32m━━━━━━━━━━━━━━━━━━━━\u001b[0m\u001b[37m\u001b[0m \u001b[1m0s\u001b[0m 3ms/step - loss: 3.2023 - mae: 1.2763\n",
      "Epoch 145/213\n",
      "\u001b[1m26/26\u001b[0m \u001b[32m━━━━━━━━━━━━━━━━━━━━\u001b[0m\u001b[37m\u001b[0m \u001b[1m0s\u001b[0m 3ms/step - loss: 3.3902 - mae: 1.3345\n",
      "Epoch 146/213\n",
      "\u001b[1m26/26\u001b[0m \u001b[32m━━━━━━━━━━━━━━━━━━━━\u001b[0m\u001b[37m\u001b[0m \u001b[1m0s\u001b[0m 2ms/step - loss: 2.9969 - mae: 1.2415\n",
      "Epoch 147/213\n",
      "\u001b[1m26/26\u001b[0m \u001b[32m━━━━━━━━━━━━━━━━━━━━\u001b[0m\u001b[37m\u001b[0m \u001b[1m0s\u001b[0m 2ms/step - loss: 4.8738 - mae: 1.3716  \n",
      "Epoch 148/213\n",
      "\u001b[1m26/26\u001b[0m \u001b[32m━━━━━━━━━━━━━━━━━━━━\u001b[0m\u001b[37m\u001b[0m \u001b[1m0s\u001b[0m 2ms/step - loss: 2.8711 - mae: 1.2563\n",
      "Epoch 149/213\n",
      "\u001b[1m26/26\u001b[0m \u001b[32m━━━━━━━━━━━━━━━━━━━━\u001b[0m\u001b[37m\u001b[0m \u001b[1m0s\u001b[0m 2ms/step - loss: 4.4048 - mae: 1.4792\n",
      "Epoch 150/213\n",
      "\u001b[1m26/26\u001b[0m \u001b[32m━━━━━━━━━━━━━━━━━━━━\u001b[0m\u001b[37m\u001b[0m \u001b[1m0s\u001b[0m 2ms/step - loss: 3.3366 - mae: 1.2812\n",
      "Epoch 151/213\n",
      "\u001b[1m26/26\u001b[0m \u001b[32m━━━━━━━━━━━━━━━━━━━━\u001b[0m\u001b[37m\u001b[0m \u001b[1m0s\u001b[0m 2ms/step - loss: 3.5611 - mae: 1.3091\n",
      "Epoch 152/213\n",
      "\u001b[1m26/26\u001b[0m \u001b[32m━━━━━━━━━━━━━━━━━━━━\u001b[0m\u001b[37m\u001b[0m \u001b[1m0s\u001b[0m 3ms/step - loss: 3.3073 - mae: 1.3333\n",
      "Epoch 153/213\n",
      "\u001b[1m26/26\u001b[0m \u001b[32m━━━━━━━━━━━━━━━━━━━━\u001b[0m\u001b[37m\u001b[0m \u001b[1m0s\u001b[0m 3ms/step - loss: 3.4117 - mae: 1.2894\n",
      "Epoch 154/213\n",
      "\u001b[1m26/26\u001b[0m \u001b[32m━━━━━━━━━━━━━━━━━━━━\u001b[0m\u001b[37m\u001b[0m \u001b[1m0s\u001b[0m 3ms/step - loss: 2.9317 - mae: 1.2493\n",
      "Epoch 155/213\n",
      "\u001b[1m26/26\u001b[0m \u001b[32m━━━━━━━━━━━━━━━━━━━━\u001b[0m\u001b[37m\u001b[0m \u001b[1m0s\u001b[0m 3ms/step - loss: 3.2977 - mae: 1.3251\n",
      "Epoch 156/213\n",
      "\u001b[1m26/26\u001b[0m \u001b[32m━━━━━━━━━━━━━━━━━━━━\u001b[0m\u001b[37m\u001b[0m \u001b[1m0s\u001b[0m 4ms/step - loss: 3.1225 - mae: 1.2539\n",
      "Epoch 157/213\n",
      "\u001b[1m26/26\u001b[0m \u001b[32m━━━━━━━━━━━━━━━━━━━━\u001b[0m\u001b[37m\u001b[0m \u001b[1m0s\u001b[0m 3ms/step - loss: 3.2678 - mae: 1.2462\n",
      "Epoch 158/213\n",
      "\u001b[1m26/26\u001b[0m \u001b[32m━━━━━━━━━━━━━━━━━━━━\u001b[0m\u001b[37m\u001b[0m \u001b[1m0s\u001b[0m 3ms/step - loss: 3.4865 - mae: 1.3032\n",
      "Epoch 159/213\n",
      "\u001b[1m26/26\u001b[0m \u001b[32m━━━━━━━━━━━━━━━━━━━━\u001b[0m\u001b[37m\u001b[0m \u001b[1m0s\u001b[0m 3ms/step - loss: 2.9394 - mae: 1.2771\n",
      "Epoch 160/213\n",
      "\u001b[1m26/26\u001b[0m \u001b[32m━━━━━━━━━━━━━━━━━━━━\u001b[0m\u001b[37m\u001b[0m \u001b[1m0s\u001b[0m 2ms/step - loss: 3.6523 - mae: 1.3155 \n",
      "Epoch 161/213\n",
      "\u001b[1m26/26\u001b[0m \u001b[32m━━━━━━━━━━━━━━━━━━━━\u001b[0m\u001b[37m\u001b[0m \u001b[1m0s\u001b[0m 2ms/step - loss: 2.8518 - mae: 1.2835 \n",
      "Epoch 162/213\n",
      "\u001b[1m26/26\u001b[0m \u001b[32m━━━━━━━━━━━━━━━━━━━━\u001b[0m\u001b[37m\u001b[0m \u001b[1m0s\u001b[0m 2ms/step - loss: 3.2482 - mae: 1.3167 \n",
      "Epoch 163/213\n",
      "\u001b[1m26/26\u001b[0m \u001b[32m━━━━━━━━━━━━━━━━━━━━\u001b[0m\u001b[37m\u001b[0m \u001b[1m0s\u001b[0m 2ms/step - loss: 2.7034 - mae: 1.1525\n",
      "Epoch 164/213\n",
      "\u001b[1m26/26\u001b[0m \u001b[32m━━━━━━━━━━━━━━━━━━━━\u001b[0m\u001b[37m\u001b[0m \u001b[1m0s\u001b[0m 2ms/step - loss: 3.0786 - mae: 1.2280 \n",
      "Epoch 165/213\n",
      "\u001b[1m26/26\u001b[0m \u001b[32m━━━━━━━━━━━━━━━━━━━━\u001b[0m\u001b[37m\u001b[0m \u001b[1m0s\u001b[0m 2ms/step - loss: 2.8256 - mae: 1.1981 \n",
      "Epoch 166/213\n",
      "\u001b[1m26/26\u001b[0m \u001b[32m━━━━━━━━━━━━━━━━━━━━\u001b[0m\u001b[37m\u001b[0m \u001b[1m0s\u001b[0m 2ms/step - loss: 2.4558 - mae: 1.1263 \n",
      "Epoch 167/213\n",
      "\u001b[1m26/26\u001b[0m \u001b[32m━━━━━━━━━━━━━━━━━━━━\u001b[0m\u001b[37m\u001b[0m \u001b[1m0s\u001b[0m 2ms/step - loss: 3.6967 - mae: 1.3428 \n",
      "Epoch 168/213\n",
      "\u001b[1m26/26\u001b[0m \u001b[32m━━━━━━━━━━━━━━━━━━━━\u001b[0m\u001b[37m\u001b[0m \u001b[1m0s\u001b[0m 2ms/step - loss: 2.9754 - mae: 1.2092\n",
      "Epoch 169/213\n",
      "\u001b[1m26/26\u001b[0m \u001b[32m━━━━━━━━━━━━━━━━━━━━\u001b[0m\u001b[37m\u001b[0m \u001b[1m0s\u001b[0m 2ms/step - loss: 2.2884 - mae: 1.1337 \n",
      "Epoch 170/213\n",
      "\u001b[1m26/26\u001b[0m \u001b[32m━━━━━━━━━━━━━━━━━━━━\u001b[0m\u001b[37m\u001b[0m \u001b[1m0s\u001b[0m 2ms/step - loss: 3.2173 - mae: 1.3236 \n",
      "Epoch 171/213\n",
      "\u001b[1m26/26\u001b[0m \u001b[32m━━━━━━━━━━━━━━━━━━━━\u001b[0m\u001b[37m\u001b[0m \u001b[1m0s\u001b[0m 2ms/step - loss: 2.4886 - mae: 1.1323 \n",
      "Epoch 172/213\n",
      "\u001b[1m26/26\u001b[0m \u001b[32m━━━━━━━━━━━━━━━━━━━━\u001b[0m\u001b[37m\u001b[0m \u001b[1m0s\u001b[0m 2ms/step - loss: 2.4568 - mae: 1.0912 \n",
      "Epoch 173/213\n",
      "\u001b[1m26/26\u001b[0m \u001b[32m━━━━━━━━━━━━━━━━━━━━\u001b[0m\u001b[37m\u001b[0m \u001b[1m0s\u001b[0m 2ms/step - loss: 2.5095 - mae: 1.1441 \n",
      "Epoch 174/213\n",
      "\u001b[1m26/26\u001b[0m \u001b[32m━━━━━━━━━━━━━━━━━━━━\u001b[0m\u001b[37m\u001b[0m \u001b[1m0s\u001b[0m 2ms/step - loss: 3.0290 - mae: 1.2806 \n",
      "Epoch 175/213\n",
      "\u001b[1m26/26\u001b[0m \u001b[32m━━━━━━━━━━━━━━━━━━━━\u001b[0m\u001b[37m\u001b[0m \u001b[1m0s\u001b[0m 2ms/step - loss: 2.8295 - mae: 1.1735 \n",
      "Epoch 176/213\n",
      "\u001b[1m26/26\u001b[0m \u001b[32m━━━━━━━━━━━━━━━━━━━━\u001b[0m\u001b[37m\u001b[0m \u001b[1m0s\u001b[0m 2ms/step - loss: 2.5131 - mae: 1.1494 \n",
      "Epoch 177/213\n",
      "\u001b[1m26/26\u001b[0m \u001b[32m━━━━━━━━━━━━━━━━━━━━\u001b[0m\u001b[37m\u001b[0m \u001b[1m0s\u001b[0m 2ms/step - loss: 3.1659 - mae: 1.2916 \n",
      "Epoch 178/213\n",
      "\u001b[1m26/26\u001b[0m \u001b[32m━━━━━━━━━━━━━━━━━━━━\u001b[0m\u001b[37m\u001b[0m \u001b[1m0s\u001b[0m 2ms/step - loss: 2.5998 - mae: 1.1307 \n",
      "Epoch 179/213\n",
      "\u001b[1m26/26\u001b[0m \u001b[32m━━━━━━━━━━━━━━━━━━━━\u001b[0m\u001b[37m\u001b[0m \u001b[1m0s\u001b[0m 2ms/step - loss: 2.9631 - mae: 1.2187 \n",
      "Epoch 180/213\n",
      "\u001b[1m26/26\u001b[0m \u001b[32m━━━━━━━━━━━━━━━━━━━━\u001b[0m\u001b[37m\u001b[0m \u001b[1m0s\u001b[0m 2ms/step - loss: 2.5799 - mae: 1.1318 \n",
      "Epoch 181/213\n",
      "\u001b[1m26/26\u001b[0m \u001b[32m━━━━━━━━━━━━━━━━━━━━\u001b[0m\u001b[37m\u001b[0m \u001b[1m0s\u001b[0m 2ms/step - loss: 2.7291 - mae: 1.1908 \n",
      "Epoch 182/213\n",
      "\u001b[1m26/26\u001b[0m \u001b[32m━━━━━━━━━━━━━━━━━━━━\u001b[0m\u001b[37m\u001b[0m \u001b[1m0s\u001b[0m 2ms/step - loss: 3.8558 - mae: 1.2979  \n",
      "Epoch 183/213\n",
      "\u001b[1m26/26\u001b[0m \u001b[32m━━━━━━━━━━━━━━━━━━━━\u001b[0m\u001b[37m\u001b[0m \u001b[1m0s\u001b[0m 2ms/step - loss: 2.3369 - mae: 1.1377 \n",
      "Epoch 184/213\n",
      "\u001b[1m26/26\u001b[0m \u001b[32m━━━━━━━━━━━━━━━━━━━━\u001b[0m\u001b[37m\u001b[0m \u001b[1m0s\u001b[0m 2ms/step - loss: 2.3762 - mae: 1.1382 \n",
      "Epoch 185/213\n",
      "\u001b[1m26/26\u001b[0m \u001b[32m━━━━━━━━━━━━━━━━━━━━\u001b[0m\u001b[37m\u001b[0m \u001b[1m0s\u001b[0m 2ms/step - loss: 2.6404 - mae: 1.1499 \n",
      "Epoch 186/213\n",
      "\u001b[1m26/26\u001b[0m \u001b[32m━━━━━━━━━━━━━━━━━━━━\u001b[0m\u001b[37m\u001b[0m \u001b[1m0s\u001b[0m 2ms/step - loss: 3.3073 - mae: 1.2617 \n",
      "Epoch 187/213\n",
      "\u001b[1m26/26\u001b[0m \u001b[32m━━━━━━━━━━━━━━━━━━━━\u001b[0m\u001b[37m\u001b[0m \u001b[1m0s\u001b[0m 2ms/step - loss: 3.4178 - mae: 1.2783 \n",
      "Epoch 188/213\n",
      "\u001b[1m26/26\u001b[0m \u001b[32m━━━━━━━━━━━━━━━━━━━━\u001b[0m\u001b[37m\u001b[0m \u001b[1m0s\u001b[0m 2ms/step - loss: 3.2525 - mae: 1.2125 \n",
      "Epoch 189/213\n",
      "\u001b[1m26/26\u001b[0m \u001b[32m━━━━━━━━━━━━━━━━━━━━\u001b[0m\u001b[37m\u001b[0m \u001b[1m0s\u001b[0m 2ms/step - loss: 2.9325 - mae: 1.2319 \n",
      "Epoch 190/213\n",
      "\u001b[1m26/26\u001b[0m \u001b[32m━━━━━━━━━━━━━━━━━━━━\u001b[0m\u001b[37m\u001b[0m \u001b[1m0s\u001b[0m 2ms/step - loss: 3.3859 - mae: 1.2668 \n",
      "Epoch 191/213\n",
      "\u001b[1m26/26\u001b[0m \u001b[32m━━━━━━━━━━━━━━━━━━━━\u001b[0m\u001b[37m\u001b[0m \u001b[1m0s\u001b[0m 2ms/step - loss: 2.5724 - mae: 1.2165 \n",
      "Epoch 192/213\n",
      "\u001b[1m26/26\u001b[0m \u001b[32m━━━━━━━━━━━━━━━━━━━━\u001b[0m\u001b[37m\u001b[0m \u001b[1m0s\u001b[0m 2ms/step - loss: 2.3595 - mae: 1.1166 \n",
      "Epoch 193/213\n",
      "\u001b[1m26/26\u001b[0m \u001b[32m━━━━━━━━━━━━━━━━━━━━\u001b[0m\u001b[37m\u001b[0m \u001b[1m0s\u001b[0m 2ms/step - loss: 2.7930 - mae: 1.1802 \n",
      "Epoch 194/213\n",
      "\u001b[1m26/26\u001b[0m \u001b[32m━━━━━━━━━━━━━━━━━━━━\u001b[0m\u001b[37m\u001b[0m \u001b[1m0s\u001b[0m 2ms/step - loss: 2.8177 - mae: 1.2145 \n",
      "Epoch 195/213\n",
      "\u001b[1m26/26\u001b[0m \u001b[32m━━━━━━━━━━━━━━━━━━━━\u001b[0m\u001b[37m\u001b[0m \u001b[1m0s\u001b[0m 2ms/step - loss: 2.7306 - mae: 1.1430 \n",
      "Epoch 196/213\n",
      "\u001b[1m26/26\u001b[0m \u001b[32m━━━━━━━━━━━━━━━━━━━━\u001b[0m\u001b[37m\u001b[0m \u001b[1m0s\u001b[0m 2ms/step - loss: 2.6511 - mae: 1.1274 \n",
      "Epoch 197/213\n",
      "\u001b[1m26/26\u001b[0m \u001b[32m━━━━━━━━━━━━━━━━━━━━\u001b[0m\u001b[37m\u001b[0m \u001b[1m0s\u001b[0m 2ms/step - loss: 2.7845 - mae: 1.1938 \n",
      "Epoch 198/213\n",
      "\u001b[1m26/26\u001b[0m \u001b[32m━━━━━━━━━━━━━━━━━━━━\u001b[0m\u001b[37m\u001b[0m \u001b[1m0s\u001b[0m 2ms/step - loss: 2.3180 - mae: 1.0991 \n",
      "Epoch 199/213\n",
      "\u001b[1m26/26\u001b[0m \u001b[32m━━━━━━━━━━━━━━━━━━━━\u001b[0m\u001b[37m\u001b[0m \u001b[1m0s\u001b[0m 2ms/step - loss: 2.3792 - mae: 1.0956 \n",
      "Epoch 200/213\n",
      "\u001b[1m26/26\u001b[0m \u001b[32m━━━━━━━━━━━━━━━━━━━━\u001b[0m\u001b[37m\u001b[0m \u001b[1m0s\u001b[0m 2ms/step - loss: 2.5207 - mae: 1.1518 \n",
      "Epoch 201/213\n",
      "\u001b[1m26/26\u001b[0m \u001b[32m━━━━━━━━━━━━━━━━━━━━\u001b[0m\u001b[37m\u001b[0m \u001b[1m0s\u001b[0m 2ms/step - loss: 1.9378 - mae: 1.0528 \n",
      "Epoch 202/213\n",
      "\u001b[1m26/26\u001b[0m \u001b[32m━━━━━━━━━━━━━━━━━━━━\u001b[0m\u001b[37m\u001b[0m \u001b[1m0s\u001b[0m 2ms/step - loss: 2.7588 - mae: 1.1209 \n",
      "Epoch 203/213\n",
      "\u001b[1m26/26\u001b[0m \u001b[32m━━━━━━━━━━━━━━━━━━━━\u001b[0m\u001b[37m\u001b[0m \u001b[1m0s\u001b[0m 2ms/step - loss: 2.8125 - mae: 1.1752 \n",
      "Epoch 204/213\n",
      "\u001b[1m26/26\u001b[0m \u001b[32m━━━━━━━━━━━━━━━━━━━━\u001b[0m\u001b[37m\u001b[0m \u001b[1m0s\u001b[0m 2ms/step - loss: 2.9586 - mae: 1.2246 \n",
      "Epoch 205/213\n",
      "\u001b[1m26/26\u001b[0m \u001b[32m━━━━━━━━━━━━━━━━━━━━\u001b[0m\u001b[37m\u001b[0m \u001b[1m0s\u001b[0m 2ms/step - loss: 2.9696 - mae: 1.2054 \n",
      "Epoch 206/213\n",
      "\u001b[1m26/26\u001b[0m \u001b[32m━━━━━━━━━━━━━━━━━━━━\u001b[0m\u001b[37m\u001b[0m \u001b[1m0s\u001b[0m 2ms/step - loss: 1.9653 - mae: 1.0422 \n",
      "Epoch 207/213\n",
      "\u001b[1m26/26\u001b[0m \u001b[32m━━━━━━━━━━━━━━━━━━━━\u001b[0m\u001b[37m\u001b[0m \u001b[1m0s\u001b[0m 2ms/step - loss: 2.4593 - mae: 1.1303\n",
      "Epoch 208/213\n",
      "\u001b[1m26/26\u001b[0m \u001b[32m━━━━━━━━━━━━━━━━━━━━\u001b[0m\u001b[37m\u001b[0m \u001b[1m0s\u001b[0m 2ms/step - loss: 2.9733 - mae: 1.2052 \n",
      "Epoch 209/213\n",
      "\u001b[1m26/26\u001b[0m \u001b[32m━━━━━━━━━━━━━━━━━━━━\u001b[0m\u001b[37m\u001b[0m \u001b[1m0s\u001b[0m 2ms/step - loss: 2.0850 - mae: 0.9991 \n",
      "Epoch 210/213\n",
      "\u001b[1m26/26\u001b[0m \u001b[32m━━━━━━━━━━━━━━━━━━━━\u001b[0m\u001b[37m\u001b[0m \u001b[1m0s\u001b[0m 2ms/step - loss: 2.2973 - mae: 1.0578 \n",
      "Epoch 211/213\n",
      "\u001b[1m26/26\u001b[0m \u001b[32m━━━━━━━━━━━━━━━━━━━━\u001b[0m\u001b[37m\u001b[0m \u001b[1m0s\u001b[0m 2ms/step - loss: 2.6525 - mae: 1.1245 \n",
      "Epoch 212/213\n",
      "\u001b[1m26/26\u001b[0m \u001b[32m━━━━━━━━━━━━━━━━━━━━\u001b[0m\u001b[37m\u001b[0m \u001b[1m0s\u001b[0m 2ms/step - loss: 2.1694 - mae: 1.1246 \n",
      "Epoch 213/213\n",
      "\u001b[1m26/26\u001b[0m \u001b[32m━━━━━━━━━━━━━━━━━━━━\u001b[0m\u001b[37m\u001b[0m \u001b[1m0s\u001b[0m 2ms/step - loss: 2.7396 - mae: 1.1440 \n"
     ]
    },
    {
     "data": {
      "text/plain": [
       "<keras.src.callbacks.history.History at 0x78f122112800>"
      ]
     },
     "execution_count": 33,
     "metadata": {},
     "output_type": "execute_result"
    }
   ],
   "source": [
    "model = build_model()\n",
    "model.fit(\n",
    "    train_data, # ← WHOLE TRAINING DATA\n",
    "    train_targets,\n",
    "           # ↓ EPOCH WITH LOWEST MAE ----------\n",
    "    epochs = np.argmin(average_mae_history) + 1, # could do another run with smooth_mae_history as well\n",
    "           # ↑ --------------------------------\n",
    "    batch_size = 16\n",
    ")"
   ]
  },
  {
   "cell_type": "markdown",
   "id": "283acfb3-41c5-4b9b-9e6e-59fad54ee1b5",
   "metadata": {
    "id": "747a7a7b"
   },
   "source": [
    "### Code: evaluate on the test set"
   ]
  },
  {
   "cell_type": "code",
   "execution_count": 34,
   "id": "86620f92",
   "metadata": {
    "colab": {
     "base_uri": "https://localhost:8080/"
    },
    "id": "86620f92",
    "outputId": "1ea8b4af-ad9e-45a1-d261-cb82d151df2b"
   },
   "outputs": [
    {
     "name": "stdout",
     "output_type": "stream",
     "text": [
      "MSE: 10.1040, sqrt: 3.1787 (~3,179$) | MAE: 2.2628 (~2,262$)\n"
     ]
    }
   ],
   "source": [
    "test_mse_score, test_mae_score = model.evaluate(test_data, test_targets, verbose=0)\n",
    "test_mse_score_sqrt = np.sqrt(test_mse_score)\n",
    "msg =  f\"MSE: {test_mse_score:.4f}, sqrt: {test_mse_score_sqrt:.4f} \"\n",
    "msg += f\"(~{round(test_mse_score_sqrt*1000):,}$) | \"\n",
    "msg += f\"MAE: {test_mae_score:.4f} (~{int(test_mae_score*1000):,}$)\"\n",
    "print(msg)"
   ]
  },
  {
   "cell_type": "markdown",
   "id": "edfc9e63-467a-473d-ab63-bef805a017bf",
   "metadata": {
    "id": "edfc9e63-467a-473d-ab63-bef805a017bf"
   },
   "source": [
    "---\n",
    "\n",
    "## 4.3.6 Wrapping up"
   ]
  },
  {
   "cell_type": "markdown",
   "id": "3bebf6ea-5eab-4248-90af-2c314477f560",
   "metadata": {
    "id": "e0b4604f",
    "jp-MarkdownHeadingCollapsed": true
   },
   "source": [
    "### Workflow"
   ]
  },
  {
   "cell_type": "markdown",
   "id": "9cbee429-9229-40dc-89e4-ea0c94f6fe36",
   "metadata": {
    "id": "e0b4604f"
   },
   "source": [
    "1. Prepare the data & split into Train/Validation/Test\n",
    "2. Define your model\n",
    "3. Evaluate your untrained model / a **commonsense baseline**\n",
    "4. Train using **Train/Validation**\n",
    "5. Tweak **hyperparameters** → pick best validation results\n",
    "5. Evaluate on **Test**"
   ]
  },
  {
   "cell_type": "markdown",
   "id": "f46c2ec0-23a1-47fa-af87-71c3fc222a36",
   "metadata": {
    "id": "87b1562a",
    "jp-MarkdownHeadingCollapsed": true
   },
   "source": [
    "### Summary"
   ]
  },
  {
   "cell_type": "markdown",
   "id": "ed58bfc0-9d94-453a-84b6-930b0f9af65a",
   "metadata": {
    "id": "87b1562a",
    "jp-MarkdownHeadingCollapsed": true
   },
   "source": [
    "#### Inputs"
   ]
  },
  {
   "cell_type": "markdown",
   "id": "278906c7-5677-4346-a008-6a60d059f574",
   "metadata": {
    "id": "87b1562a"
   },
   "source": [
    "- **Standardise/normalise** if the features are in different ranges;"
   ]
  },
  {
   "cell_type": "markdown",
   "id": "09b29706-17fe-4f32-b870-3fe1eeb6da4a",
   "metadata": {
    "id": "87b1562a",
    "jp-MarkdownHeadingCollapsed": true
   },
   "source": [
    "##### Labels"
   ]
  },
  {
   "cell_type": "markdown",
   "id": "f7841da9-fdd8-41bd-ac38-1d7114446c44",
   "metadata": {
    "id": "87b1562a"
   },
   "source": [
    "- Just a number, meaning **no activation** in the last layer;"
   ]
  },
  {
   "cell_type": "markdown",
   "id": "10527e09-b01c-4d00-a0b3-874ff2f7b8c9",
   "metadata": {
    "id": "54767a2b-f0b2-4329-b505-c1639739d443",
    "jp-MarkdownHeadingCollapsed": true
   },
   "source": [
    "#### Key ideas"
   ]
  },
  {
   "cell_type": "markdown",
   "id": "4cb400d7-1c06-4a01-aca7-bb8fdc48a787",
   "metadata": {
    "id": "54767a2b-f0b2-4329-b505-c1639739d443"
   },
   "source": [
    "- **Do you know your data??**\n",
    "- Overfitting;\n",
    "- Commonsense baselines;\n",
    "- K-fold validation (for small datasets);"
   ]
  },
  {
   "cell_type": "markdown",
   "id": "4e7723d6-67ed-4557-8720-77288c1d0e3e",
   "metadata": {
    "id": "86877d7a",
    "jp-MarkdownHeadingCollapsed": true
   },
   "source": [
    "### Regression"
   ]
  },
  {
   "cell_type": "markdown",
   "id": "860c4b34-d9db-4500-abf7-10341db4bad6",
   "metadata": {
    "id": "86877d7a"
   },
   "source": [
    "- We predict a **continuous value** (the price of a house);\n",
    "- The final layer has **no activation**;\n",
    "- The loss function is the **mean squared error**: `mse`;\n",
    "- Instead of accuracy, use the **mean average error** `mae`;\n",
    "- The model outputs the **desired output** (scaled)."
   ]
  },
  {
   "cell_type": "markdown",
   "id": "389cabc3-48b0-47e8-bf10-85ded5109e02",
   "metadata": {
    "id": "0110d223",
    "jp-MarkdownHeadingCollapsed": true
   },
   "source": [
    "### Experiments"
   ]
  },
  {
   "cell_type": "markdown",
   "id": "c9657b2a-ee2d-4209-8df6-381baca13dfd",
   "metadata": {
    "id": "0110d223"
   },
   "source": [
    "- More or fewer hidden layers – 32 units, 64 units etc.;\n",
    "- Try different learning rates;\n",
    "- Replace `relu` with an early neural network favourite, `tanh`;\n",
    "- Try the [`Adam` optimizer](https://www.tensorflow.org/api_docs/python/tf/keras/optimizers#classes_2): `optimizers.Adam(learning_rate=0.001)`"
   ]
  }
 ],
 "metadata": {
  "accelerator": "GPU",
  "celltoolbar": "Slideshow",
  "colab": {
   "gpuType": "T4",
   "provenance": []
  },
  "kernelspec": {
   "display_name": "Python 3 (ipykernel)",
   "language": "python",
   "name": "python3"
  },
  "language_info": {
   "codemirror_mode": {
    "name": "ipython",
    "version": 3
   },
   "file_extension": ".py",
   "mimetype": "text/x-python",
   "name": "python",
   "nbconvert_exporter": "python",
   "pygments_lexer": "ipython3",
   "version": "3.12.6"
  }
 },
 "nbformat": 4,
 "nbformat_minor": 5
}
