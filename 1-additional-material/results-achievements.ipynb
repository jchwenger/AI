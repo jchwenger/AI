{
 "cells": [
  {
   "cell_type": "markdown",
   "id": "3cbe520d-41e6-4f56-bdf4-dbdf8a10c6c1",
   "metadata": {
    "slideshow": {
     "slide_type": "slide"
    }
   },
   "source": [
    "# Results & Achievements"
   ]
  },
  {
   "cell_type": "code",
   "execution_count": null,
   "id": "97ce484d-447a-42a7-bb37-2a3ec76a1d73",
   "metadata": {
    "slideshow": {
     "slide_type": "fragment"
    }
   },
   "outputs": [],
   "source": [
    "from IPython.display import YouTubeVideo"
   ]
  },
  {
   "cell_type": "markdown",
   "id": "f112c72a-27a4-4226-9160-19b59dda50f0",
   "metadata": {
    "slideshow": {
     "slide_type": "slide"
    }
   },
   "source": [
    "# 1.1.6-1.1.8 Achievements "
   ]
  },
  {
   "cell_type": "markdown",
   "id": "e2e2c463-703d-40b5-be12-e622c5b70d45",
   "metadata": {
    "slideshow": {
     "slide_type": "slide"
    }
   },
   "source": [
    "---\n",
    "\n",
    "## Computer vision"
   ]
  },
  {
   "cell_type": "code",
   "execution_count": null,
   "id": "e2490edc-e6be-4186-898c-c5b90f5f0bfa",
   "metadata": {
    "slideshow": {
     "slide_type": "subslide"
    }
   },
   "outputs": [],
   "source": [
    "YouTubeVideo('XxJNebC_oqc', width=853, height=480) #  Movenet Multipose Estimation \n",
    "# See also:\n",
    "# YouTubeVideo('pW6nZXeWlGM', width=853, height=480) # Realtime Multi-Person 2D Human Pose Estimationcv 4'31"
   ]
  },
  {
   "cell_type": "code",
   "execution_count": null,
   "id": "ec7fb1de",
   "metadata": {
    "slideshow": {
     "slide_type": "subslide"
    }
   },
   "outputs": [],
   "source": [
    "YouTubeVideo('v-FgOACRgfs', width=853, height=480) # Powered by TensorFlow: helping paleographers transcribe medieval text using machine learning"
   ]
  },
  {
   "cell_type": "markdown",
   "id": "1e89a2c5-d9f3-4d49-b0da-acd184a2ed4e",
   "metadata": {
    "slideshow": {
     "slide_type": "subslide"
    }
   },
   "source": [
    "Now also for animals! \n",
    "\n",
    "**Social LEAP Estimates Animal Poses (SLEAP)**   \n",
    "[sleap.ai](https://sleap.ai/)\n",
    "\n",
    "<!-- ![Social LEAP Estimates Animal Poses (SLEAP)](images/achievements/sleap_movie.gif) -->\n",
    "\n",
    "![Social LEAP Estimates Animal Poses (SLEAP)](https://raw.githubusercontent.com/jchwenger/AI/main/1-additional-material/images/achievements/sleap_movie.gif)"
   ]
  },
  {
   "cell_type": "markdown",
   "id": "5111e704-5b68-417f-9bb6-fe9f621a875e",
   "metadata": {
    "slideshow": {
     "slide_type": "subslide"
    }
   },
   "source": [
    "Dries Depoorter, [*The Follower*](https://driesdepoorter.be/thefollower/)\n",
    "\n",
    "<!-- ![The Follower](images/achievements/The-Follower-Dries-Depoorter-03.gif) -->\n",
    "![The Follower](https://raw.githubusercontent.com/jchwenger/AI/main/1-additional-material/images/achievements/The-Follower-Dries-Depoorter-03.gif)"
   ]
  },
  {
   "cell_type": "markdown",
   "id": "08841c13-45c2-44c0-9560-ce5723a3c1e6",
   "metadata": {
    "slideshow": {
     "slide_type": "slide"
    }
   },
   "source": [
    "---\n",
    "\n",
    "## Bias"
   ]
  },
  {
   "cell_type": "code",
   "execution_count": null,
   "id": "ca14a925-fc53-4b03-aa86-42493a0b262e",
   "metadata": {
    "slideshow": {
     "slide_type": "subslide"
    }
   },
   "outputs": [],
   "source": [
    "YouTubeVideo('162VzSzzoPs', width=853, height=480) # The Coded Gaze: Unmasking Algorithmic Bias 2'42"
   ]
  },
  {
   "cell_type": "code",
   "execution_count": null,
   "id": "2f517a1f-e5a6-4ea6-a75d-4f8a794f1032",
   "metadata": {
    "slideshow": {
     "slide_type": "subslide"
    }
   },
   "outputs": [],
   "source": [
    "YouTubeVideo('Mk5gLInf7So', width=853, height=480) # Stanford HAI 2019 Fall Conference - Keynote: The Coded Gaze with Joy Buolamwini"
   ]
  },
  {
   "cell_type": "code",
   "execution_count": null,
   "id": "9a5b4304-5d27-4c67-906b-99c3cc132f78",
   "metadata": {
    "slideshow": {
     "slide_type": "subslide"
    }
   },
   "outputs": [],
   "source": [
    "YouTubeVideo('0GrknKMfdTM', width=853, height=480) # Timnit Gebru (Google) -- Towards transparency in AI, Methods and Challenges"
   ]
  },
  {
   "cell_type": "markdown",
   "id": "c1436d03",
   "metadata": {
    "slideshow": {
     "slide_type": "slide"
    }
   },
   "source": [
    "---\n",
    "\n",
    "## Recommender systems"
   ]
  },
  {
   "cell_type": "code",
   "execution_count": null,
   "id": "b7be34a2",
   "metadata": {
    "slideshow": {
     "slide_type": "subslide"
    }
   },
   "outputs": [],
   "source": [
    "YouTubeVideo('nfczi2cI6Cs', width=853, height=480) # How TikTok's Algorithm Figures You Out | WSJ"
   ]
  },
  {
   "cell_type": "markdown",
   "id": "54bf546e-fea2-4587-b401-a5550bbc9984",
   "metadata": {
    "slideshow": {
     "slide_type": "slide"
    }
   },
   "source": [
    "---\n",
    "\n",
    "## Autonomous Driving & flying"
   ]
  },
  {
   "cell_type": "code",
   "execution_count": null,
   "id": "a7041147-cab0-4eb3-bf9b-b8d8378b8f31",
   "metadata": {
    "slideshow": {
     "slide_type": "subslide"
    }
   },
   "outputs": [],
   "source": [
    "YouTubeVideo('tlThdr3O5Qo', width=853, height=480) # Full Self-Driving 1'57"
   ]
  },
  {
   "cell_type": "code",
   "execution_count": null,
   "id": "85e32d19-9962-44a2-9d31-61c8e3513c9c",
   "metadata": {
    "slideshow": {
     "slide_type": "subslide"
    }
   },
   "outputs": [],
   "source": [
    "YouTubeVideo('umRdt3zGgpU', width=853, height=480) # Quadcopter Navigation in the Forest using Deep Neural Networks"
   ]
  },
  {
   "cell_type": "markdown",
   "id": "0b15541a-0dc0-4b9b-b1c7-0e91582baefc",
   "metadata": {
    "slideshow": {
     "slide_type": "slide"
    }
   },
   "source": [
    "---\n",
    "\n",
    "## Sound"
   ]
  },
  {
   "cell_type": "code",
   "execution_count": null,
   "id": "3493751f-35e1-4faa-9b98-bafb6c5e287e",
   "metadata": {
    "slideshow": {
     "slide_type": "subslide"
    }
   },
   "outputs": [],
   "source": [
    "YouTubeVideo('iyyM4vDg0xw', width=853, height=480, start=62) # Hito Steyerl: The Language of Broken Glass"
   ]
  },
  {
   "cell_type": "code",
   "execution_count": null,
   "id": "7e5693cd",
   "metadata": {
    "slideshow": {
     "slide_type": "subslide"
    }
   },
   "outputs": [],
   "source": [
    "YouTubeVideo('5cbCYwgQkTE', width=853, height=480) # What if You Could Sing in Your Favorite Musician's Voice? | Holly Herndon | TED"
   ]
  },
  {
   "cell_type": "code",
   "execution_count": null,
   "id": "858ab85c",
   "metadata": {
    "slideshow": {
     "slide_type": "subslide"
    }
   },
   "outputs": [],
   "source": [
    "YouTubeVideo('-pcUUENVxW8', width=853, height=480) # Udio: Make your music"
   ]
  },
  {
   "cell_type": "markdown",
   "id": "3382b71d-fe58-4688-ba2e-438e858ceb22",
   "metadata": {
    "slideshow": {
     "slide_type": "slide"
    }
   },
   "source": [
    "---\n",
    "\n",
    "## GANs & VAEs"
   ]
  },
  {
   "cell_type": "code",
   "execution_count": null,
   "id": "af9d1744-8e05-40b3-bd32-0113d23c138c",
   "metadata": {
    "slideshow": {
     "slide_type": "subslide"
    }
   },
   "outputs": [],
   "source": [
    "YouTubeVideo('9reHvktowLY', width=853, height=480) # CycleGAN horse zebra 0'7"
   ]
  },
  {
   "cell_type": "code",
   "execution_count": null,
   "id": "3f8ce889-046d-419d-b16a-7e73ad6afcda",
   "metadata": {
    "slideshow": {
     "slide_type": "subslide"
    }
   },
   "outputs": [],
   "source": [
    "YouTubeVideo('Jjv3m5oWICA', width=853, height=480) # Mario Klingemann: The Hypnotic Allure of the AI Art Generator"
   ]
  },
  {
   "cell_type": "code",
   "execution_count": null,
   "id": "47c28007-d744-431e-9032-7476a75bf0d8",
   "metadata": {
    "slideshow": {
     "slide_type": "subslide"
    }
   },
   "outputs": [],
   "source": [
    "YouTubeVideo('A6bo_mIOto0', width=853, height=480) # Mario Klingemann: StyleGAN2 - mapping music to facial expressions in real time"
   ]
  },
  {
   "cell_type": "code",
   "execution_count": null,
   "id": "99a703e7-b081-46e8-93f1-e52f1759a01c",
   "metadata": {
    "slideshow": {
     "slide_type": "subslide"
    }
   },
   "outputs": [],
   "source": [
    "YouTubeVideo('9QuDh3W3lOY', width=853, height=480) # Synthesizing High-Resolution Images with StyleGAN2"
   ]
  },
  {
   "cell_type": "markdown",
   "id": "bfefbda6",
   "metadata": {},
   "source": [
    "---\n",
    "\n",
    "## DeepFakes"
   ]
  },
  {
   "cell_type": "code",
   "execution_count": null,
   "id": "654b8cd3",
   "metadata": {},
   "outputs": [],
   "source": [
    "YouTubeVideo('l82PxsKHxYc', width=853, height=480, start=33)"
   ]
  },
  {
   "cell_type": "markdown",
   "id": "cf800bef-8244-4ab3-b83c-b88142cfb204",
   "metadata": {
    "slideshow": {
     "slide_type": "subslide"
    }
   },
   "source": [
    "<!-- ![DeepFake timeline](images/deepfake/deepfake-timeline.png) -->\n",
    "![DeepFake timeline](https://raw.githubusercontent.com/jchwenger/AI/main/1-additional-material/images/deepfake/deepfake-timeline.png)\n",
    "\n",
    "[Momina Masood, Marriam Nawaz, Khalid Mahmood Malik, Ali Javed, Aun Irtaza, *Deepfakes Generation and Detection: State-of-the-art, open challenges, countermeasures, and way forward*](https://arxiv.org/abs/2103.00484)"
   ]
  },
  {
   "cell_type": "markdown",
   "id": "b7c0daa1-4914-40f5-855a-c87158e9c6bb",
   "metadata": {
    "slideshow": {
     "slide_type": "subslide"
    }
   },
   "source": [
    "<!-- ![DeepFake table](images/deepfake/deepfake-table.png) -->\n",
    "![DeepFake table](https://raw.githubusercontent.com/jchwenger/AI/main/1-additional-material/images/deepfake/deepfake-table.png)\n",
    "\n",
    "[Momina Masood, Marriam Nawaz, Khalid Mahmood Malik, Ali Javed, Aun Irtaza, *Deepfakes Generation and Detection: State-of-the-art, open challenges, countermeasures, and way forward*](https://arxiv.org/abs/2103.00484)"
   ]
  },
  {
   "cell_type": "markdown",
   "id": "acec617c-d1ce-4e0d-a351-d51fa25a421f",
   "metadata": {
    "slideshow": {
     "slide_type": "slide"
    }
   },
   "source": [
    "---\n",
    "\n",
    "## Adversarial attacks"
   ]
  },
  {
   "cell_type": "markdown",
   "id": "7833a5ad",
   "metadata": {
    "slideshow": {
     "slide_type": "subslide"
    }
   },
   "source": [
    "<!-- ![Adversarial imperceptible noise](images/adversarial/adversarial-imperceptible.png) -->\n",
    "![Adversarial imperceptible noise](https://raw.githubusercontent.com/jchwenger/AI/main/1-additional-material/images/adversarial/adversarial-imperceptible.png)\n",
    "\n",
    "[Ian J. Goodfellow, Jonathon Shlens, Christian Szegedy, *Explaining and Harnessing Adversarial Examples*](https://arxiv.org/abs/1412.6572)"
   ]
  },
  {
   "cell_type": "code",
   "execution_count": null,
   "id": "69170065",
   "metadata": {
    "slideshow": {
     "slide_type": "subslide"
    }
   },
   "outputs": [],
   "source": [
    "YouTubeVideo('CIfsB_EYsVI', width=853, height=480) # Lecture 16 | Adversarial Examples and Adversarial Training"
   ]
  },
  {
   "cell_type": "markdown",
   "id": "547380dc",
   "metadata": {},
   "source": [
    "<!-- ![Adversarial concentric circles](images/adversarial/concentric-circles.png) -->\n",
    "![Adversarial concentric circles](https://raw.githubusercontent.com/jchwenger/AI/main/1-additional-material/images/adversarial/concentric-circles.png)\n",
    "\n",
    "[Ian Goodfellow, Lecture 16 | Adversarial Examples and Adversarial Training](https://youtu.be/CIfsB_EYsVI?t=3260)  "
   ]
  },
  {
   "cell_type": "markdown",
   "id": "aa8bb6b9",
   "metadata": {
    "slideshow": {
     "slide_type": "subslide"
    }
   },
   "source": [
    "<!-- ![Adversarial glasses 1](images/adversarial/adversarial-glasses.1.png) -->\n",
    "![Adversarial glasses 1](https://raw.githubusercontent.com/jchwenger/AI/main/1-additional-material/images/adversarial/adversarial-glasses.1.png)\n",
    "\n",
    "[Mahmood Sharif, Sruti Bhagavatula, Lujo Bauer, Michael K. Reiter, *A General Framework for Adversarial Examples with Objectives*](https://arxiv.org/abs/1801.00349)"
   ]
  },
  {
   "cell_type": "markdown",
   "id": "9d233235",
   "metadata": {
    "slideshow": {
     "slide_type": "subslide"
    }
   },
   "source": [
    "<!-- ![Adversarial glasses 2](images/adversarial/adversarial-glasses.2.png) -->\n",
    "![Adversarial glasses 2](https://raw.githubusercontent.com/jchwenger/AI/main/1-additional-material/images/adversarial/adversarial-glasses.2.png)\n",
    "\n",
    "[Mahmood Sharif, Sruti Bhagavatula, Lujo Bauer, Michael K. Reiter, *A General Framework for Adversarial Examples with Objectives*](https://arxiv.org/abs/1801.00349)"
   ]
  },
  {
   "cell_type": "markdown",
   "id": "3cd0c729",
   "metadata": {
    "slideshow": {
     "slide_type": "subslide"
    }
   },
   "source": [
    "<!-- ![Adversarial typographic attack 1](images/adversarial/adversarial-typography.1.png) -->\n",
    "![Adversarial typographic attack 1](https://raw.githubusercontent.com/jchwenger/AI/main/1-additional-material/images/adversarial/adversarial-typography.1.png)\n",
    "\n",
    "<!-- ![Adversarial typographic attack 2](images/adversarial/adversarial-typography.2.png) -->\n",
    "![Adversarial typographic attack 2](https://raw.githubusercontent.com/jchwenger/AI/main/1-additional-material/images/adversarial/adversarial-typography.2.png)\n",
    "\n",
    "[Gabriel Goh, Chelsea Voss, Daniela Amodei, Shan Carter, Michael Petrov, Justin Jay Wang, Nick Cammarata & Chris Olah, *Multimodal Neurons in Artificial Neural Networks*, OpenAI blog](https://openai.com/blog/multimodal-neurons/)"
   ]
  },
  {
   "cell_type": "code",
   "execution_count": null,
   "id": "16f51084",
   "metadata": {
    "slideshow": {
     "slide_type": "subslide"
    },
    "tags": []
   },
   "outputs": [],
   "source": [
    "YouTubeVideo('MIbFvK2S9g8', width=853, height=480) # Generating adversarial patches against YOLOv2 2'14"
   ]
  },
  {
   "cell_type": "code",
   "execution_count": null,
   "id": "15d890ed",
   "metadata": {
    "slideshow": {
     "slide_type": "subslide"
    }
   },
   "outputs": [],
   "source": [
    "YouTubeVideo('gGIiechWEFs', width=853, height=480) # Tricking AI Image Recognition - Computerphile 12'32"
   ]
  },
  {
   "cell_type": "markdown",
   "id": "95325514",
   "metadata": {
    "slideshow": {
     "slide_type": "subslide"
    }
   },
   "source": [
    "## NLP model hacking\n",
    "\n",
    "([The video of the course does not allow embedding on external sites](https://www.youtube.com/watch?v=Cgago6NNf7Y&list=PLWnsVgP6CzadI4-FT2Po4wsEK7MHCIQ-d&index=21&t=2463s)).\n",
    "\n",
    "It is possible to *extract* knowledge from a model by querying its public api with random sentences, getting the results, and training a similar net on these pairs (random query → API response)!\n",
    "\n",
    "It even works for translation: send **random** sentences in language X to Google Translate, get the (random?) translations into language Y, then train on these pairs, and lo and behold!, if you query your pirate model with **real** sentences from language X, the model should work reasonably well to give you translations into language Y.\n",
    "\n",
    "Even if the inputs are random to us, the relationship between these inputs and the API outputs somehow contain the knowledge the network has learnt when trained on the original datasets.\n",
    "\n",
    "There does not seem to be any real countermeasure against yet!"
   ]
  },
  {
   "cell_type": "markdown",
   "id": "e067be55-bd1f-444e-b388-aee684c6bed2",
   "metadata": {
    "slideshow": {
     "slide_type": "slide"
    }
   },
   "source": [
    "---\n",
    "\n",
    "## Transformers"
   ]
  },
  {
   "cell_type": "code",
   "execution_count": null,
   "id": "d8f0a434",
   "metadata": {
    "slideshow": {
     "slide_type": "subslide"
    }
   },
   "outputs": [],
   "source": [
    "YouTubeVideo('T0I88NhR_9M', width=853, height=480, start=1431) # Ilya Sutskever - GPT-2"
   ]
  },
  {
   "cell_type": "code",
   "execution_count": null,
   "id": "f4c99fae-eda0-4402-9ef3-1919797961fe",
   "metadata": {
    "slideshow": {
     "slide_type": "subslide"
    }
   },
   "outputs": [],
   "source": [
    "YouTubeVideo('qTgPSKKjfVg', width=853, height=480) # DALL·E 2 Explained 2'47"
   ]
  },
  {
   "cell_type": "code",
   "execution_count": null,
   "id": "6feae432",
   "metadata": {
    "slideshow": {
     "slide_type": "subslide"
    }
   },
   "outputs": [],
   "source": [
    "YouTubeVideo('gg7WjuFs8F4', width=853, height=480) # AlphaFold (BERT?) 7'55"
   ]
  },
  {
   "cell_type": "code",
   "execution_count": null,
   "id": "b0ef20cf",
   "metadata": {
    "slideshow": {
     "slide_type": "subslide"
    }
   },
   "outputs": [],
   "source": [
    "YouTubeVideo('KpedmJdrTpY', width=853, height=480) # DeepMind protein folding 1'52"
   ]
  },
  {
   "cell_type": "markdown",
   "id": "4586742d-4dd7-43e6-8c08-a4a3facabb98",
   "metadata": {
    "slideshow": {
     "slide_type": "slide"
    }
   },
   "source": [
    "---\n",
    "\n",
    "## Diffusion"
   ]
  },
  {
   "cell_type": "code",
   "execution_count": null,
   "id": "6f9156af-32f8-4e35-9253-d8f2f84775bc",
   "metadata": {
    "slideshow": {
     "slide_type": "subslide"
    }
   },
   "outputs": [],
   "source": [
    "YouTubeVideo('sP3u09_YFxk', width=853, height=480) # Stable Diffusion Img2Img x EbSynth x Koe Recast TEST"
   ]
  },
  {
   "cell_type": "markdown",
   "id": "d3be7502-297f-4e9f-a8a8-bcdc0fddb776",
   "metadata": {
    "slideshow": {
     "slide_type": "slide"
    }
   },
   "source": [
    "---\n",
    "\n",
    "## Reinforcement Learning"
   ]
  },
  {
   "cell_type": "code",
   "execution_count": null,
   "id": "046e555a-dfb4-4514-85d7-eb01881656a8",
   "metadata": {
    "slideshow": {
     "slide_type": "subslide"
    }
   },
   "outputs": [],
   "source": [
    "YouTubeVideo('8tq1C8spV_g', width=853, height=480) # AlphaGo Official Trailer 1'31"
   ]
  },
  {
   "cell_type": "code",
   "execution_count": null,
   "id": "db64ccb6",
   "metadata": {
    "slideshow": {
     "slide_type": "subslide"
    }
   },
   "outputs": [],
   "source": [
    "YouTubeVideo('WXuK6gekU1Y', width=853, height=480) # AlphaGo The Movie 1h30'"
   ]
  },
  {
   "cell_type": "code",
   "execution_count": null,
   "id": "f51d630a",
   "metadata": {
    "scrolled": true,
    "slideshow": {
     "slide_type": "subslide"
    }
   },
   "outputs": [],
   "source": [
    "YouTubeVideo('WXuK6gekU1Y', width=853, height=480) # AlphaStar Official Trailer 5'11"
   ]
  },
  {
   "cell_type": "code",
   "execution_count": null,
   "id": "a4ab0058",
   "metadata": {
    "slideshow": {
     "slide_type": "subslide"
    }
   },
   "outputs": [],
   "source": [
    "YouTubeVideo('cUTMhmVh1qs', width=853, height=480) # AlphaStar Demonstration 2h22'"
   ]
  },
  {
   "cell_type": "code",
   "execution_count": null,
   "id": "7f2a5081",
   "metadata": {
    "slideshow": {
     "slide_type": "subslide"
    }
   },
   "outputs": [],
   "source": [
    "YouTubeVideo('kVmp0uGtShk', width=853, height=480) # Solving Rubik’s Cube with a Robot Hand: Uncut 4'09"
   ]
  },
  {
   "cell_type": "code",
   "execution_count": null,
   "id": "7bd800aa-9826-4668-8aab-1d7bb329b4c8",
   "metadata": {
    "slideshow": {
     "slide_type": "subslide"
    }
   },
   "outputs": [],
   "source": [
    "YouTubeVideo('hx_bgoTF7bs', width=853, height=480) # Emergence of Locomotion Behaviours in Rich Environments"
   ]
  },
  {
   "cell_type": "code",
   "execution_count": null,
   "id": "a2aa7f6f-0f29-4ff7-982d-48050b7b008c",
   "metadata": {
    "slideshow": {
     "slide_type": "subslide"
    }
   },
   "outputs": [],
   "source": [
    "YouTubeVideo('pgaEE27nsQw', width=853, height=480) # Flexible Muscle-Based Locomotion for Bipedal Creatures"
   ]
  },
  {
   "cell_type": "code",
   "execution_count": null,
   "id": "69476962-8337-4914-bf86-15fb3e4b8a26",
   "metadata": {
    "slideshow": {
     "slide_type": "subslide"
    }
   },
   "outputs": [],
   "source": [
    "YouTubeVideo('n2gE7n11h1Y', width=853, height=480) # Learning to Walk via Deep Reinforcement Learning"
   ]
  },
  {
   "cell_type": "code",
   "execution_count": null,
   "id": "1f6532dc-9d13-48b0-afc1-82bac05a08e0",
   "metadata": {
    "slideshow": {
     "slide_type": "subslide"
    }
   },
   "outputs": [],
   "source": [
    "YouTubeVideo('TmPfTpjtdgg', width=853, height=480) # DQN Breakout 1'13"
   ]
  },
  {
   "cell_type": "code",
   "execution_count": null,
   "id": "31cb01b7-220b-4a91-a5de-e629780c483e",
   "metadata": {
    "slideshow": {
     "slide_type": "subslide"
    }
   },
   "outputs": [],
   "source": [
    "YouTubeVideo('kopoLzvh5jY', width=853, height=480) # Multi-Agent Hide and Seek 2'58"
   ]
  },
  {
   "cell_type": "markdown",
   "id": "750b6667-3621-48b1-b1f7-52bf7ed46bd9",
   "metadata": {
    "slideshow": {
     "slide_type": "slide"
    }
   },
   "source": [
    "---\n",
    "\n",
    "## Some alarm bells..."
   ]
  },
  {
   "cell_type": "code",
   "execution_count": null,
   "id": "aad4f7ba-212d-427d-86a7-d78bbfb2fa26",
   "metadata": {
    "slideshow": {
     "slide_type": "subslide"
    }
   },
   "outputs": [],
   "source": [
    "YouTubeVideo('IOJhgC1ksNU', width=853, height=480) # DARPA's AI vs. Human in Virtual F-16 Aerial Dogfight (FINALS) 11'02"
   ]
  },
  {
   "cell_type": "code",
   "execution_count": null,
   "id": "ee3b1cc7-c7f3-4f41-b589-8bbb91633d36",
   "metadata": {
    "slideshow": {
     "slide_type": "subslide"
    }
   },
   "outputs": [],
   "source": [
    "YouTubeVideo('tF4DML7FIWk', width=853, height=480) # NOT AI: Boston Dynamics, Atlas | Partners in Parkour 1'06"
   ]
  }
 ],
 "metadata": {
  "celltoolbar": "Slideshow",
  "kernelspec": {
   "display_name": "Python 3 (ipykernel)",
   "language": "python",
   "name": "python3"
  },
  "language_info": {
   "codemirror_mode": {
    "name": "ipython",
    "version": 3
   },
   "file_extension": ".py",
   "mimetype": "text/x-python",
   "name": "python",
   "nbconvert_exporter": "python",
   "pygments_lexer": "ipython3",
   "version": "3.9.18"
  }
 },
 "nbformat": 4,
 "nbformat_minor": 5
}
