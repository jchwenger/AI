{
 "cells": [
  {
   "cell_type": "markdown",
   "metadata": {
    "id": "oeFpOtnJA6R1"
   },
   "source": [
    "# Attendance\n",
    "\n",
    "[The link to SEAts](https://gold.seats.cloud/angular/#/lectures)"
   ]
  },
  {
   "cell_type": "markdown",
   "metadata": {
    "id": "h0MveCcAA6R2"
   },
   "source": [
    "---\n",
    "\n",
    "## 11.4 The Transformer architecture\n"
   ]
  },
  {
   "cell_type": "code",
   "execution_count": 1,
   "metadata": {
    "id": "4DvAO5qaA6R2"
   },
   "outputs": [],
   "source": [
    "import os\n",
    "import sys\n",
    "import shutil\n",
    "import random\n",
    "import pathlib\n",
    "\n",
    "import numpy as np\n",
    "import tensorflow as tf\n",
    "\n",
    "import matplotlib.pyplot as plt\n",
    "\n",
    "from IPython.display import YouTubeVideo"
   ]
  },
  {
   "cell_type": "markdown",
   "metadata": {
    "id": "seSsphoMA6R2",
    "jp-MarkdownHeadingCollapsed": true,
    "tags": []
   },
   "source": [
    "### The Transformer architecture"
   ]
  },
  {
   "cell_type": "markdown",
   "metadata": {
    "id": "seSsphoMA6R2",
    "tags": []
   },
   "source": [
    "<!-- <img style=\"float:right\" src=\"images/transformer/the-annotated-transformer_14_0.transformer-full.png\"> -->\n",
    "<img style=\"float:right\" src=\"https://github.com/jchwenger/AI/blob/main/6-text-and-sequences/images/transformer/the-annotated-transformer_14_0.transformer-full.png?raw=true\">\n",
    "\n",
    "\n",
    "<small style=\"position:absolute;bottom:0;right:0\">[Vaswani et al, \"Attention Is All You Need\"](https://arxiv.org/abs/1706.03762)</small>"
   ]
  },
  {
   "cell_type": "markdown",
   "metadata": {
    "id": "_K87Xyl0A6R2"
   },
   "source": [
    "The **Transformer** architecture was developed for NLP, specifically for translation.\n",
    "\n",
    "The dual architecture pattern (*sequence to sequence*) reflects this:\n",
    "- the left-hand side (**\"reading\"**) transforms an **input** sentence into abstract representations;\n",
    "- the right hand side (**\"generation\"**) transforms the **output** sentence into abstract representations;\n",
    "- the output probabilities (\"what is the next token?\") are produced on the basis of both branches!"
   ]
  },
  {
   "cell_type": "markdown",
   "metadata": {
    "id": "iYyGhBOBA6R2",
    "jp-MarkdownHeadingCollapsed": true
   },
   "source": [
    "### Transormers: before"
   ]
  },
  {
   "cell_type": "markdown",
   "metadata": {
    "id": "iYyGhBOBA6R2"
   },
   "source": [
    "<!-- <img style=\"float:right;height:650px\" src=\"images/transformer/beyer.takeover.1.png\"> -->\n",
    "<img style=\"float:right;height:650px\" src=\"https://github.com/jchwenger/AI/blob/main/6-text-and-sequences/images/transformer/beyer.takeover.1.png?raw=true\">\n",
    "\n",
    "<small style=\"position:absolute;bottom:0;right:0\">[Lucas Beyer, \"Transformers\"](https://docs.google.com/presentation/d/1ZXFIhYczos679r70Yu8vV9uO6B1J0ztzeDxbnBxD1S0/edit)</small>"
   ]
  },
  {
   "cell_type": "markdown",
   "metadata": {
    "id": "6HUEdgYpA6R2",
    "jp-MarkdownHeadingCollapsed": true
   },
   "source": [
    "### Transormers: after"
   ]
  },
  {
   "cell_type": "markdown",
   "metadata": {
    "id": "6HUEdgYpA6R2"
   },
   "source": [
    "<!-- <img style=\"float:right;height:650px\" src=\"images/transformer/beyer.takeover.2.png\"> -->\n",
    "<img style=\"float:right;height:650px\" src=\"https://github.com/jchwenger/AI/blob/main/6-text-and-sequences/images/transformer/beyer.takeover.2.png?raw=true\">\n",
    "\n",
    "<small style=\"position:absolute;bottom:0;right:0\">[Lucas Beyer, \"Transformers\"](https://docs.google.com/presentation/d/1ZXFIhYczos679r70Yu8vV9uO6B1J0ztzeDxbnBxD1S0/edit)</small>"
   ]
  },
  {
   "cell_type": "markdown",
   "metadata": {
    "id": "Ri9p5AvyA6R2",
    "jp-MarkdownHeadingCollapsed": true
   },
   "source": [
    "### Three variants/applications"
   ]
  },
  {
   "cell_type": "markdown",
   "metadata": {
    "id": "Ri9p5AvyA6R2"
   },
   "source": [
    "<!-- <img style=\"float:right;height:650px\" src=\"images/transformer/beyer.gpt-bert-t5.png\"> -->\n",
    "<img style=\"float:right;height:650px\"  src=\"https://github.com/jchwenger/AI/blob/main/6-text-and-sequences/images/transformer/beyer.gpt-bert-t5.png?raw=true\">\n",
    "\n",
    "<small style=\"position:absolute;bottom:0;right:0\">[Lucas Beyer, \"Transformers\"](https://docs.google.com/presentation/d/1ZXFIhYczos679r70Yu8vV9uO6B1J0ztzeDxbnBxD1S0/edit)</small>"
   ]
  },
  {
   "cell_type": "markdown",
   "metadata": {
    "id": "4kZGaXfKA6R3"
   },
   "source": [
    "---\n",
    "\n",
    "### 11.4.1 Understanding self-attention"
   ]
  },
  {
   "cell_type": "markdown",
   "metadata": {
    "id": "4kZGaXfKA6R3",
    "jp-MarkdownHeadingCollapsed": true
   },
   "source": [
    "#### Generalized self-attention: the query-key-value model"
   ]
  },
  {
   "cell_type": "markdown",
   "metadata": {
    "id": "zSG51WOfA6R3"
   },
   "source": [
    "<!-- <img style=\"\" src=\"images/transformer/chollet.key-query-value.png\"> -->\n",
    "<img src=\"https://github.com/jchwenger/AI/blob/main/6-text-and-sequences/images/transformer/chollet.key-query-value.png?raw=true\">\n",
    "\n",
    "\n",
    "<small>DLWP, p.341</small>"
   ]
  },
  {
   "cell_type": "markdown",
   "metadata": {
    "id": "RiB-VnOIA6R3"
   },
   "source": [
    "<!-- ![Stanford CS224n soft look-up](images/cs224n/02.soft-lookup.png) -->\n",
    "<img style=\"height:750px\" src=\"https://github.com/jchwenger/AI/blob/main/6-text-and-sequences/images/cs224n/02.soft-lookup.png?raw=true\">\n",
    "\n",
    "[Stanford CS224n, lecture 8](https://web.stanford.edu/class/cs224n/slides/cs224n-2023-lecture08-transformers.pdf#page=8&zoom=auto,-74,536) ([YouTube](https://www.youtube.com/watch?v=LWMzyfvuehA))"
   ]
  },
  {
   "cell_type": "markdown",
   "metadata": {
    "id": "5Y0xBMnrA6R3"
   },
   "source": [
    "<!-- <imgsrc=\"images/transformer/chollet.attention.2.png\"> -->\n",
    "<img src=\"https://github.com/jchwenger/AI/blob/main/6-text-and-sequences/images/transformer/chollet.attention.2.png?raw=true\">\n",
    "\n",
    "\n",
    "<small>DLWP, p.338</small>"
   ]
  },
  {
   "cell_type": "markdown",
   "metadata": {
    "id": "8FWrFM_HA6R3"
   },
   "source": [
    "### The operations of attention"
   ]
  },
  {
   "cell_type": "markdown",
   "metadata": {
    "id": "8FWrFM_HA6R3"
   },
   "source": [
    "1. First, we **transform our input sequence** $X$ (`timesteps_x` x `embedding_dim_x`) by integrating information from a context sequence $Y$ (`timesteps_y` x `embedding_dim_y`), each token is a vector embedding) into **Keys**, **Queries**, and **Values**, using three different matrices (here denoted $W$):\n",
    "\n",
    "$$\n",
    "Q = XW_Q, \\qquad K = YW_K, \\qquad V = YW_V\n",
    "$$\n",
    "\n",
    "With:\n",
    "- $t$ denotes time steps, $d$ embedding dimensions, $t_X$ and $t_Y$ are the lengths of the respective sequences\n",
    ", and $d_k$ is the space dimension of the attention operation, `attn_dim`:\n",
    "- $X$: $t_X \\times d_x$\n",
    "- $Y$: $t_Y \\times d_y$\n",
    "- $W_Q$: $d_x \\times d_k$, therefore $Q$: $ t_X \\times d_k $\n",
    "- $W_K$: $d_y \\times d_k$, therefore  $K$: $ t_Y \\times d_k$\n",
    "- $W_V$: $d_y \\times  d_{out}$, therefore $V$: $  t_Y \\times d_{out}$\n",
    "\n",
    "**Note**\n",
    "\n",
    "Very often $X = Y$, we aggregate input $X$ with itself. That means that $d_X = d_Y$. Also, often $d_{out} = d_{embed}$: our output sequence has the same number of time steps as our input, and the same embedding dimension."
   ]
  },
  {
   "cell_type": "markdown",
   "metadata": {
    "id": "3y51C70JA6R3"
   },
   "source": [
    "2. Then, we perform the **attention** proper:\n",
    "\n",
    "$$\n",
    "\\begin{align*}\n",
    "\\mathrm{Attention}(Q, K, V) &= softmax(\\frac{QK^T}{\\sqrt{d_k}})V\\\\\n",
    "\\\\\n",
    "& = softmax(\\frac{QK^T}{scaling})V \\\\\n",
    "\\\\\n",
    "&= \\bbox[5px,border:2px solid red]{“softmax(\\mathrm{Queries} \\cdot \\mathrm{Keys)} \\cdot \\mathrm{Values}”}\\\\\n",
    "\\\\\n",
    "&= \\underbrace{ \\underbrace{ softmax( \\overbrace{ \\mathrm{Queries} \\cdot \\mathrm{Keys} }^{  \\text{how much each source token is compatible with all context tokens} } )  }_{ \\text{turn compatibilities into a normalised mask} } \\cdot \\mathrm{Values}  }_{ \\text{turn each token into a weighted average of all context tokens} }\\\\\n",
    "\\end{align*}\n",
    "$$\n",
    "\n",
    "$Q$: queries ($t_X \\times d_k$)  \n",
    "$K$: keys ($t_Y \\times d_k$)  \n",
    "$V$: values ($t_Y \\times d_{out}$)  \n",
    "$\\sqrt{d_k}$: scaling factor, $d_k$: dimension of $Q$ (same as $K$), to prevent small gradients."
   ]
  },
  {
   "cell_type": "markdown",
   "metadata": {},
   "source": [
    "#### Attention: the maths"
   ]
  },
  {
   "cell_type": "markdown",
   "metadata": {},
   "source": [
    "$$\n",
    "\\begin{aligned}\n",
    "QK^T & =\n",
    "\\begin{pmatrix}\n",
    "- & q_1 & -\\\\\n",
    "- & \\vdots & -\\\\\n",
    "- & q_{t_X} & - \\\\\n",
    "\\end{pmatrix}_{t_X \\times d_k} \\begin{pmatrix}\n",
    "| & | & |\\\\\n",
    "k_1 & \\cdots & k_{t_Y}\\\\\n",
    "| & | & |\\\\\n",
    "\\end{pmatrix}_{d_k \\times t_Y} =\n",
    "\\begin{pmatrix}\n",
    "q_1 k_1 & \\cdots & q_1 k_{t_Y}\\\\\n",
    "\\vdots & \\cdots & \\vdots \\\\\n",
    "q_{t_X} k_1 & \\cdots & q_{t_X} k_{t_Y}\\\\\n",
    "\\end{pmatrix}_{t_X \\times t_Y} \\\\\n",
    "\\\\\n",
    "& =\n",
    "\\begin{pmatrix}\n",
    "w_{11} & \\cdots & w_{1 t_Y}\\\\\n",
    "\\vdots & \\cdots & \\vdots \\\\\n",
    "w_{t_X1} & \\cdots & w_{t_X t_Y}\\\\\n",
    "\\end{pmatrix}_{t_X \\times t_Y} \\\\\n",
    "\\\\\n",
    "& \\rightarrow \\begin{pmatrix}\n",
    "\\frac{w_{11}}{\\sqrt{d_k}} & \\cdots & \\frac{w_{1 t_Y}}{\\sqrt{d_k}}\\\\\n",
    "\\vdots & \\cdots & \\vdots \\\\\n",
    "\\frac{w_{t_X 1}}{\\sqrt{d_k}} & \\cdots & \\frac{w_{t_X t_Y}}{\\sqrt{d_k}}\\\\\n",
    "\\end{pmatrix}_{t_X \\times t_Y}\n",
    "\\end{aligned}\n",
    "$$\n",
    "\n",
    "Again, more often than not $t_X = t_Y$, therefore the attention matrix is square.\n",
    "\n",
    "The number $w_{ij}$ describes who similar/close $q_i$ (the query for token i in the source) is to $k_j$ (the key for token j in the context)."
   ]
  },
  {
   "cell_type": "markdown",
   "metadata": {},
   "source": [
    "Then we normalize along the rows, so that the numbers in each can be interpreted as weighting factors:\n",
    "\n",
    "$$\n",
    "\\begin{pmatrix}\n",
    "softmax( w_{11} & \\cdots & w_{1 t_Y})\\\\\n",
    "\\vdots & \\cdots & \\vdots \\\\\n",
    "softmax(w_{t_X 1} & \\cdots & w_{t_X t_Y})\\\\\n",
    "\\end{pmatrix} =\n",
    "\\begin{pmatrix}\n",
    "\\frac{e^{ w_{11} } }{ \\sum_i e^{w_{1i}} } & \\cdots & \\frac{e^{ w_{1 t_Y} } }{ \\sum_i e^{w_{1i}} }\\\\\n",
    "\\vdots & \\cdots & \\vdots \\\\\n",
    "\\frac{e^{ w_{t_X 1} } }{ \\sum_i e^{w_{t_X i} } } & \\cdots & \\frac{e^{ w_{d_k t_Y} } }{ \\sum_i e^{w_{t_X i}} }\\\\\n",
    "\\end{pmatrix}  =\n",
    "\\begin{pmatrix}\n",
    "w'_{11} & \\cdots & w'_{1 t_Y}\\\\\n",
    "\\vdots & \\cdots & \\vdots \\\\\n",
    "w'_{t_X 1} & \\cdots & w'_{t_X t_Y}\\\\\n",
    "\\end{pmatrix}_{t_X \\times t_Y} = A\n",
    "$$\n"
   ]
  },
  {
   "cell_type": "markdown",
   "metadata": {},
   "source": [
    "Mix the values using the normalized weights:\n",
    "\n",
    "$$\n",
    "\\begin{aligned}\n",
    "softmax(QK^T)V = A V & =\n",
    "\\begin{pmatrix}\n",
    "- & w'_1 & -\\\\\n",
    "- & \\vdots & - \\\\\n",
    "- & w'_{t_X} &  -\\\\\n",
    "\\end{pmatrix}_{t_X \\times t_Y}\n",
    "\\begin{pmatrix}\n",
    "- & v_1 & -\\\\\n",
    "- & \\cdots & -\\\\\n",
    "- & v_{t_Y} & - \\\\\n",
    "\\end{pmatrix}_{t_Y \\times d_{out}}\\\\\n",
    "& =\n",
    "\\begin{pmatrix}\n",
    "- & x'_1 & -\\\\\n",
    "- & \\vdots & - \\\\\n",
    "- & x'_{t_X} &  -\\\\\n",
    "\\end{pmatrix}_{t_X \\times d_{out}} = X'\n",
    "\\end{aligned}\n",
    "$$\n",
    "\n",
    "$X'$ is our output matrix (`timesteps_x`, `embedding_dim_x_prime`) composed of all $x'_i$ vectors representing each updated, 'enriched' tokens (having incorporated information from $Y$). More often than not, $d_{out} = d_X$, the embedding dimension of the output is the same as the one of the input.\n"
   ]
  },
  {
   "cell_type": "markdown",
   "metadata": {},
   "source": [
    "Each new vector $v_i$ merges the all the dimensions of the previous vectors $v$ according to the weighting given by $w$:\n",
    "\n",
    "$$\n",
    "\\begin{aligned}\n",
    "& \\begin{pmatrix}\n",
    "- & w'_1 & -\\\\\n",
    "- & \\cdots & - \\\\\n",
    "- & w'_{t_X} &  -\\\\\n",
    "\\end{pmatrix}_{t_X \\times t_Y}\n",
    "\\begin{pmatrix}\n",
    "- & v_1 & -\\\\\n",
    "- & \\vdots & -\\\\\n",
    "- & v_{t_Y} & - \\\\\n",
    "\\end{pmatrix}_{t_Y \\times d_{out}} = \\\\\n",
    "\\\\\n",
    "= & \\begin{pmatrix}\n",
    "- & \\color{red}{w'_1} & -\\\\\n",
    "\\vdots & \\cdots & \\vdots \\\\\n",
    "- & w'_{t_X} &  -\\\\\n",
    "\\end{pmatrix}_{t_X \\times t_Y}\n",
    "\\begin{pmatrix}\n",
    "\\overbrace{\\color{blue}{v_{11}}}^{ \\color{blue}{v'_1}\\text{: first dim across all } t_Y } & \\cdots & v_{1 t_{out}} \\\\\n",
    "\\vdots & \\cdots & \\vdots \\\\\n",
    "\\color{blue}{v_{t_Y 1}} & \\cdots & v_{t_Y  t_{out}} \\\\\n",
    "\\end{pmatrix}_{t_Y \\times d_{out}} \\\\\n",
    "\\\\\n",
    "= & \\begin{pmatrix}\n",
    "\\color{red}{w'_{11}} \\color{blue}{v'_1} & \\cdots & x'_1 & -\\\\\n",
    "- & \\cdots & \\vdots & - \\\\\n",
    "- & \\cdots & x'_{t_X} &  -\\\\\n",
    "\\end{pmatrix}_{t_X \\times d_{out}}\n",
    "\\end{aligned}\n",
    "$$\n",
    "\n",
    "$\\color{red}{w_1}$, in this example, will control how much each of the $v$s will contribute to new, updated vector $x'_1$ (our updated vector representation for token 1).\n",
    "\n",
    "Each $o_i$ will have aggregated information from all $v$ (including itself) using the normalised weighting $w_i$. \n"
   ]
  },
  {
   "cell_type": "markdown",
   "metadata": {
    "id": "_Ya5NCIXA6R4"
   },
   "source": [
    "### Notes"
   ]
  },
  {
   "cell_type": "markdown",
   "metadata": {
    "id": "_Ya5NCIXA6R4"
   },
   "source": [
    "- We saw the concept of a **gate** being like a smooth 1/0 switch. Here the *softmax* is used in the same way, for a whole array of values (letting more or less information flow through from different tokens as you mix/average their values).\n",
    "- The dot product is a fairly straightforward **similarity measure** between two vectors."
   ]
  },
  {
   "cell_type": "markdown",
   "metadata": {
    "id": "YUdxUSJBA6R4"
   },
   "source": [
    "### Causal Masking: Preventing look-aheads"
   ]
  },
  {
   "cell_type": "markdown",
   "metadata": {
    "id": "YUdxUSJBA6R4"
   },
   "source": [
    "Notice the **optional masking operation**: on the right-hand side of the Transformer (generation), we use a mask that effectively prevents any look-up into the future.\n",
    "\n",
    "<!-- <img style=\"float:right;height:400px\" src=\"images/transformer/the-annotated-transformer_33_0.attention.png\"> -->\n",
    "<img style=\"float:right;height:400px\" src=\"https://github.com/jchwenger/AI/blob/main/6-text-and-sequences/images/transformer/the-annotated-transformer_33_0.attention.png?raw=true\">\n",
    "\n",
    "<small style=\"position:absolute;bottom:0;right:0\">[Vaswani et al, \"Attention Is All You Need\"](https://arxiv.org/abs/1706.03762)</small>"
   ]
  },
  {
   "cell_type": "markdown",
   "metadata": {
    "id": "OEc9Kh-GA6R4"
   },
   "source": [
    "To prevent certain positions to be accessed, multiplying them by large negative number translates into a near zero value after the $softmax$. (Below, the white squares will be these negative numbers. Each slot in the matrix on the left can look up information to its left, but not to its right, the 'future'.)\n",
    "\n",
    "<!-- <img src=\"images/transformer/masked-attention.png\"> -->\n",
    "<img src=\"https://github.com/jchwenger/AI/blob/main/6-text-and-sequences/images/transformer/masked-attention.png?raw=true\">\n",
    "\n",
    "<small>[Peter Bloem, \"Transformers From Scratch\"](https://peterbloem.nl/blog/transformers)</small>"
   ]
  },
  {
   "cell_type": "markdown",
   "metadata": {
    "id": "O_83Dun1A6R4"
   },
   "source": [
    "<!-- ![Stanford CS224n masked attention](images/cs224n/08.masked-attention.png) -->\n",
    "<img src=\"https://github.com/jchwenger/AI/blob/main/6-text-and-sequences/images/cs224n/08.masked-attention.png?raw=true\">\n",
    "\n",
    "[Stanford CS224n, lecture 8, p.19](https://web.stanford.edu/class/archive/cs/cs224n/cs224n.1234/slides/cs224n-2023-lecture08-transformers.pdf) ([YouTube](https://www.youtube.com/watch?v=LWMzyfvuehA))"
   ]
  },
  {
   "cell_type": "markdown",
   "metadata": {
    "jp-MarkdownHeadingCollapsed": true
   },
   "source": [
    "#### Masking: the maths"
   ]
  },
  {
   "cell_type": "markdown",
   "metadata": {},
   "source": [
    "What happens when we use causal masking?\n",
    "\n",
    "$$\n",
    "\\begin{pmatrix}\n",
    "\\color{red}{w'_{11}} & 0 & \\cdots & \\cdots & 0\\\\\n",
    "\\color{green}{w'_{21}} & \\color{green}{w'_{22}} & 0 & \\cdots & 0\\\\\n",
    "\\vdots & \\cdots & \\cdots & \\cdots & \\vdots \\\\\n",
    "\\color{orange}{w'_{t_X 1}} & \\cdots & \\cdots & \\cdots &  \\color{orange}{w'_{t_X t_Y}} \\\\\n",
    "\\end{pmatrix}_{t_X \\times t_Y}\n",
    "\\begin{pmatrix}\n",
    "\\color{blue}{v_{11}} & \\cdots & v_{1 d_{out}} \\\\\n",
    "\\color{blue}{v_{21}} & \\cdots & v_{2 d_{out}} \\\\\n",
    "\\vdots & \\cdots & \\vdots \\\\\n",
    "\\color{blue}{v_{t_Y 1}} & \\cdots & v_{t_Y d_{out}} \\\\\n",
    "\\end{pmatrix}_{t_Y \\times d_{out}}  =\n",
    "\\begin{pmatrix}\n",
    "\\color{red}{w'_{11}} \\color{blue}{v_{11}} & \\cdots & y_1 & - \\\\\n",
    "\\color{green}{w'_{21}} \\color{blue}{v_{11}} + \\color{green}{w'_{22}} \\color{blue}{v_{21}} & \\cdots & y_2 & -\\\\\n",
    "- & \\cdots & \\vdots & - \\\\\n",
    "\\sum_i \\color{orange}{w_{t_X i}} \\color{blue}{v_{i1}} & \\cdots & y_{t_X} &  -\\\\\n",
    "\\end{pmatrix}_{t_X \\times d_{out}}\n",
    "$$\n",
    "\n",
    "$y_1$ only aggregates itself, $y_2$ aggregates itself and $y_1$, and $y_{d_k}$ aggregates all rows (all time steps).\n"
   ]
  },
  {
   "cell_type": "markdown",
   "metadata": {
    "id": "M_63xuRWA6R4",
    "jp-MarkdownHeadingCollapsed": true
   },
   "source": [
    "---\n",
    "\n",
    "### 11.4.2 Multi-head attention"
   ]
  },
  {
   "cell_type": "markdown",
   "metadata": {
    "id": "M_63xuRWA6R4"
   },
   "source": [
    "The author found it beneficial to **subdivide the embedding space** into multiple $Queries$, $Keys$ and $Values$, each called **attention heads** looking for different *types* of information (each looks at the **whole sequence** differently)! Perk: the overall matrix multiplication operations and shapes remain the same.\n",
    "\n",
    "*Similar to the idea of several kernels scanning the same image in search of different features!*\n",
    "\n",
    "<!-- <img style=\"float:right;height:500px\" src=\"images/transformer/the-annotated-transformer_38_0.multi-head.png\"> -->\n",
    "<img style=\"float:right;height:500px\" src=\"https://github.com/jchwenger/AI/blob/main/6-text-and-sequences/images/transformer/the-annotated-transformer_38_0.multi-head.png?raw=true\">\n",
    "\n",
    "\n",
    "<small style=\"position:absolute;bottom:0;right:0\">[Vaswani et al, \"Attention Is All You Need\"](https://arxiv.org/abs/1706.03762)</small>"
   ]
  },
  {
   "cell_type": "markdown",
   "metadata": {
    "id": "Ato2GdMwA6R4"
   },
   "source": [
    "<!-- ![Stanford CS224n multi-head attention](images/cs224n/06.multi-head.2.png) -->\n",
    "<img style=\"height:750px\" src=\"https://github.com/jchwenger/AI/blob/main/6-text-and-sequences/images/cs224n/06.multi-head.2.png?raw=true\">\n",
    "\n",
    "[Stanford CS224n, lecture 8, p.26](https://web.stanford.edu/class/archive/cs/cs224n/cs224n.1234/slides/cs224n-2023-lecture08-transformers.pdf) ([YouTube](https://www.youtube.com/watch?v=LWMzyfvuehA))"
   ]
  },
  {
   "cell_type": "markdown",
   "metadata": {
    "jp-MarkdownHeadingCollapsed": true
   },
   "source": [
    "### Visualising what Attention learns"
   ]
  },
  {
   "cell_type": "markdown",
   "metadata": {
    "id": "gj2napcEA6R4"
   },
   "source": [
    "Attention allows a network to make decisions about the importance of various parts of the input, and learn **complex internal patterns**.\n",
    "\n",
    "In this example, \"it\" could refer to \"animal\" or to \"street\", and resolving this depends on **meaning** (and syntax). After attention, the embedding for \"it\" will have changed according to its context!\n",
    "\n",
    "<!-- <div style=\"display:flex;justify-content:center\">\n",
    "    <img src=\"images/transformer/attention.png\">\n",
    "    <img src=\"images/transformer/attention.2.png\">\n",
    "</div> -->\n",
    "\n",
    "<div style=\"display:flex\">\n",
    "    <img src=\"https://github.com/jchwenger/AI/blob/main/6-text-and-sequences/images/transformer/attention.png?raw=true\">\n",
    "    <img src=\"https://github.com/jchwenger/AI/blob/main/6-text-and-sequences/images/transformer/attention.2.png?raw=true\">\n",
    "</div>\n",
    "\n",
    "<small>[\"Transformer: A Novel Neural Network Architecture for Language Understanding\", Google Reseearch Blog](https://ai.googleblog.com/2017/08/transformer-novel-neural-network.html)</small>"
   ]
  },
  {
   "cell_type": "markdown",
   "metadata": {
    "id": "KFnb34xcA6R4"
   },
   "source": [
    "<!-- ![Stanford CS224n multi-head attention](images/cs224n/07.multi-head.3.png) -->\n",
    "<img src=\"https://github.com/jchwenger/AI/blob/main/6-text-and-sequences/images/cs224n/07.multi-head.3.png?raw=true\">\n",
    "\n",
    "[Stanford CS224n, lecture 8](https://web.stanford.edu/class/cs224n/slides/cs224n-2023-lecture08-transformers.pdf#page=8&zoom=auto,-74,536) ([YouTube](https://www.youtube.com/watch?v=LWMzyfvuehA))"
   ]
  },
  {
   "attachments": {},
   "cell_type": "markdown",
   "metadata": {
    "id": "nUHI8HGzA6R4"
   },
   "source": [
    "**BertViz**\n",
    "\n",
    "Visualise what different heads learn!\n",
    "\n",
    "<!-- <img src=\"images/transformer/bertviz.head-view.gif\"> -->\n",
    "<img src=\"https://github.com/jchwenger/AI/blob/main/6-text-and-sequences/images/transformer/bertviz.head-view.gif?raw=true\">\n",
    "\n",
    "<small>[BertViz, Visualize Attention in NLP Models](https://github.com/jessevig/bertviz)</small>"
   ]
  },
  {
   "cell_type": "markdown",
   "metadata": {
    "id": "NC7XsrpCA6R4",
    "jp-MarkdownHeadingCollapsed": true
   },
   "source": [
    "### Self-attention and Cross attention"
   ]
  },
  {
   "cell_type": "markdown",
   "metadata": {
    "id": "NC7XsrpCA6R4"
   },
   "source": [
    "In the standard case, we are calculating the similarity of parts of the data **with itself**.\n",
    "\n",
    "We are creating a **new representation** of the word 'station' taking the context into account.\n",
    "\n",
    "For example, our new representation would know this station is a *train* (not space or radio) station..."
   ]
  },
  {
   "cell_type": "markdown",
   "metadata": {
    "id": "EtMUJ559A6R4"
   },
   "source": [
    "It is possible to have a query coming from one source (**target**) and the key/values from another (**source**)!\n",
    "\n",
    "<!-- <img style=\"float:right;height:600px\" src=\"images/transformer/beyer.cross-attention.png\"> -->\n",
    "<img style=\"float:right;height:600px\"  src=\"https://github.com/jchwenger/AI/blob/main/6-text-and-sequences/images/transformer/beyer.cross-attention.png?raw=true\">\n",
    "\n",
    "<small style=\"position:absolute;bottom:0;right:0\">[Lucas Beyer, \"Transformers\"](https://docs.google.com/presentation/d/1ZXFIhYczos679r70Yu8vV9uO6B1J0ztzeDxbnBxD1S0/edit#slide=id.g13dd67c5ab8_0_79)</small>"
   ]
  },
  {
   "cell_type": "markdown",
   "metadata": {
    "id": "AwUd_2mPA6R4",
    "jp-MarkdownHeadingCollapsed": true
   },
   "source": [
    "### Attention is cheap: if your input sequence is short(ish)"
   ]
  },
  {
   "cell_type": "markdown",
   "metadata": {
    "id": "AwUd_2mPA6R4"
   },
   "source": [
    "The bulk of the computation happens in the `sequence_length` * `sequence_length` matrices!\n",
    "\n",
    "<!-- <img src=\"images/transformer/vaswani-huang.attention-is-cheap.png\"> -->\n",
    "<img src=\"https://github.com/jchwenger/AI/blob/main/6-text-and-sequences/images/transformer/vaswani-huang.attention-is-cheap.png?raw=true\">\n",
    "\n",
    "<small>[Ashish Vaswani and Anna Huang, \"Self-Attention For Generative Models\", CS224n Stanford](https://web.stanford.edu/class/cs224n/slides/cs224n-2019-lecture14-transformers.pdf)</small>"
   ]
  },
  {
   "cell_type": "markdown",
   "metadata": {
    "id": "SPpk53-FA6R4",
    "jp-MarkdownHeadingCollapsed": true
   },
   "source": [
    "### Positional Encoding"
   ]
  },
  {
   "cell_type": "markdown",
   "metadata": {
    "id": "SPpk53-FA6R4"
   },
   "source": [
    "**Attention in itself ignores word order!**\n",
    "\n",
    "But we can reinject that information in the form of a **second embedding layer** that is added to the first one, and whose job is to encode positional information. This time we just embed **positions** (1,2,...)."
   ]
  },
  {
   "cell_type": "markdown",
   "metadata": {
    "id": "SPpk53-FA6R4"
   },
   "source": [
    "#### Note"
   ]
  },
  {
   "cell_type": "markdown",
   "metadata": {
    "id": "SPpk53-FA6R4"
   },
   "source": [
    "The original paper had a subtle approach to this, and as often happens there are a few variants out there.\n",
    "\n",
    "[What is the positional encoding in the transformer model?](https://datascience.stackexchange.com/questions/51065/what-is-the-positional-encoding-in-the-transformer-model)  \n",
    "[Amirhossein Kazemnejad, \"Transformer Architecture: The Positional Encoding\"](https://kazemnejad.com/blog/transformer_architecture_positional_encoding/)\n",
    "[Mehreen Saeed, \"A Gentle Introduction to Positional Encoding in Transformer Models, Part 1\"](https://machinelearningmastery.com/a-gentle-introduction-to-positional-encoding-in-transformer-models-part-1/)  \n",
    "[Mehreen Saeed, \"The Transformer Positional Encoding Layer in Keras, Part 2\"](https://machinelearningmastery.com/the-transformer-positional-encoding-layer-in-keras-part-2/)"
   ]
  },
  {
   "cell_type": "markdown",
   "metadata": {
    "id": "VJkjQ5CGA6R4",
    "jp-MarkdownHeadingCollapsed": true
   },
   "source": [
    "### Comparisons of various NLP approaches"
   ]
  },
  {
   "cell_type": "markdown",
   "metadata": {
    "id": "VJkjQ5CGA6R4"
   },
   "source": [
    "<!-- ![Chollet types of language modles](images/nlp/chollet.types-of-lms.346.png) -->\n",
    "<img src=\"https://github.com/jchwenger/AI/blob/main/6-text-and-sequences/images/nlp/chollet.types-of-lms.346.png?raw=true\">\n",
    "\n",
    "<small>DLWP, p.346</small>"
   ]
  },
  {
   "cell_type": "markdown",
   "metadata": {
    "id": "At5d_GO2A6R4",
    "jp-MarkdownHeadingCollapsed": true
   },
   "source": [
    "### Quite a few more bells & whistles (as always, with current architectures)"
   ]
  },
  {
   "cell_type": "markdown",
   "metadata": {
    "id": "At5d_GO2A6R4"
   },
   "source": [
    "- Technically there's almost no nonlinearity in attention → add **dense nets between attention blocks** (MLP: \"multilayer perceptron\")!\n",
    "- Using **Layer Normalization** to stabilise the data & gradient flow (next week);\n",
    "- Using **Residual Connections** to stabilise the data & gradient  flow (next week);\n",
    "- Using fancy **learning rate schedules** during training (next week)."
   ]
  },
  {
   "cell_type": "markdown",
   "metadata": {
    "id": "ZNpcN0mbA6R5",
    "jp-MarkdownHeadingCollapsed": true
   },
   "source": [
    "---\n",
    "\n",
    "### 11.4.3 The Transformer encoder"
   ]
  },
  {
   "cell_type": "markdown",
   "metadata": {
    "id": "ZNpcN0mbA6R5"
   },
   "source": [
    "<!-- <img style=\"float:right;height:600px\" src=\"images/transformer/beyer.encoder.png\"> -->\n",
    "<img style=\"float:right;height:600px\"  src=\"https://github.com/jchwenger/AI/blob/main/6-text-and-sequences/images/transformer/beyer.encoder.png?raw=true\">\n",
    "\n",
    "<small style=\"position:absolute;bottom:0;right:0\">[Lucas Beyer, \"Transformers\"](https://docs.google.com/presentation/d/1ZXFIhYczos679r70Yu8vV9uO6B1J0ztzeDxbnBxD1S0/edit#slide=id.g13dd67c5ab8_0_79)</small>"
   ]
  },
  {
   "cell_type": "markdown",
   "metadata": {
    "id": "u3IC5aS8A6R5"
   },
   "source": [
    "#### Downloading the data"
   ]
  },
  {
   "cell_type": "code",
   "execution_count": 4,
   "metadata": {
    "id": "u3ivGCEMBOAm"
   },
   "outputs": [],
   "source": [
    "DATASET_DIR = pathlib.Path(\"aclImdb\")\n",
    "\n",
    "if not DATASET_DIR.exists():\n",
    "    !curl -O https://ai.stanford.edu/~amaas/data/sentiment/aclImdb_v1.tar.gz\n",
    "    !tar -xf aclImdb_v1.tar.gz # this untars the archive to a folder called aclImdb\n",
    "    !rm -r aclImdb/train/unsup\n",
    "\n",
    "MODELS_DIR = pathlib.Path(\"models\")\n",
    "MODELS_DIR.mkdir(exist_ok=True)"
   ]
  },
  {
   "cell_type": "markdown",
   "metadata": {
    "id": "sOYJrVGXA6R5"
   },
   "source": [
    "#### Preparing the data"
   ]
  },
  {
   "cell_type": "code",
   "execution_count": 5,
   "metadata": {
    "id": "9C6UTdXsA6R5"
   },
   "outputs": [],
   "source": [
    "BATCH_SIZE = 32\n",
    "TRAIN_DIR = DATASET_DIR / \"train\"\n",
    "VAL_DIR = DATASET_DIR / \"val\"\n",
    "TEST_DIR = DATASET_DIR / \"test\"\n",
    "\n",
    "for category in (\"neg\", \"pos\"):\n",
    "    if not os.path.isdir(VAL_DIR / category):    # do this only once\n",
    "        os.makedirs(VAL_DIR / category)          # make 'neg'/'pos' dir in validation\n",
    "        files = os.listdir(TRAIN_DIR / category) # list files in 'train'\n",
    "        random.Random(1337).shuffle(files)       # shuffle using a seed\n",
    "        num_val_samples = int(0.2 * len(files))  # 2% of our samples for validation\n",
    "        val_files = files[-num_val_samples:]\n",
    "        for fname in val_files:                  # move our files\n",
    "            shutil.move(\n",
    "                TRAIN_DIR / category / fname,\n",
    "                VAL_DIR / category / fname\n",
    "            )"
   ]
  },
  {
   "cell_type": "code",
   "execution_count": 6,
   "metadata": {
    "colab": {
     "base_uri": "https://localhost:8080/"
    },
    "id": "Ik3wVpDsA6R5",
    "outputId": "1a7f4277-99c4-4d52-8b7c-d23b91b3981f"
   },
   "outputs": [
    {
     "name": "stdout",
     "output_type": "stream",
     "text": [
      "Found 20000 files belonging to 2 classes.\n",
      "Found 5000 files belonging to 2 classes.\n",
      "Found 25000 files belonging to 2 classes.\n"
     ]
    }
   ],
   "source": [
    "train_ds = tf.keras.utils.text_dataset_from_directory(\n",
    "    TRAIN_DIR, batch_size=BATCH_SIZE\n",
    ")\n",
    "val_ds = tf.keras.utils.text_dataset_from_directory(\n",
    "    VAL_DIR, batch_size=BATCH_SIZE\n",
    ")\n",
    "test_ds = tf.keras.utils.text_dataset_from_directory(\n",
    "    TEST_DIR, batch_size=BATCH_SIZE\n",
    ")\n",
    "text_only_train_ds = train_ds.map(lambda x, y: x)"
   ]
  },
  {
   "cell_type": "markdown",
   "metadata": {
    "id": "HVPhY-YdA6R5"
   },
   "source": [
    "#### Vectorizing the data"
   ]
  },
  {
   "cell_type": "code",
   "execution_count": 7,
   "metadata": {
    "id": "dcqvlTDnA6R8"
   },
   "outputs": [],
   "source": [
    "max_length = 600\n",
    "max_tokens = 20000\n",
    "text_vectorization = tf.keras.layers.TextVectorization(\n",
    "    max_tokens=max_tokens,\n",
    "    output_mode=\"int\",\n",
    "    output_sequence_length=max_length,\n",
    ")\n",
    "text_vectorization.adapt(text_only_train_ds)\n",
    "\n",
    "int_train_ds = train_ds.map(\n",
    "    lambda x, y: (text_vectorization(x), y),\n",
    "    num_parallel_calls=4)\n",
    "int_val_ds = val_ds.map(\n",
    "    lambda x, y: (text_vectorization(x), y),\n",
    "    num_parallel_calls=4)\n",
    "int_test_ds = test_ds.map(\n",
    "    lambda x, y: (text_vectorization(x), y),\n",
    "    num_parallel_calls=4)"
   ]
  },
  {
   "cell_type": "markdown",
   "metadata": {
    "id": "B2JEyaatA6R8"
   },
   "source": [
    "#### The Transformer encoder implemented as a subclassed `Layer`"
   ]
  },
  {
   "cell_type": "code",
   "execution_count": 8,
   "metadata": {
    "id": "sx_fIkcLA6R8"
   },
   "outputs": [],
   "source": [
    "class TransformerEncoder(tf.keras.layers.Layer):\n",
    "    def __init__(self, embed_dim, dense_dim, num_heads, **kwargs):\n",
    "        super().__init__(**kwargs)\n",
    "        self.embed_dim = embed_dim                               # parameters\n",
    "        self.dense_dim = dense_dim                               # ! embed_dim % num_head must be zero! (divisibility)\n",
    "        self.num_heads = num_heads\n",
    "\n",
    "    # new in Keras 3, see: https://keras.io/guides/making_new_layers_and_models_via_subclassing/#best-practice-deferring-weight-creation-until-the-shape-of-the-inputs-is-known\n",
    "    def build(self, input_shape):\n",
    "        self.attention = tf.keras.layers.MultiHeadAttention(     # multi-head attention layer\n",
    "            num_heads=self.num_heads, key_dim=self.embed_dim\n",
    "        )\n",
    "        self.dense_proj = tf.keras.Sequential(                   # dense layer on top: like a nonlinearity\n",
    "            [tf.keras.layers.Dense(self.dense_dim, activation=\"relu\"),\n",
    "             tf.keras.layers.Dense(self.embed_dim),]\n",
    "        )\n",
    "        self.layernorm_1 = tf.keras.layers.LayerNormalization()  # layer norm\n",
    "        self.layernorm_2 = tf.keras.layers.LayerNormalization()\n",
    "\n",
    "    def call(self, inputs, mask=None):\n",
    "        if mask is not None:                                     # optional mask (used in the decoder, see\n",
    "            mask = mask[:, tf.newaxis, :]                        # translation notebook for an analysis)\n",
    "        attention_output = self.attention(\n",
    "            inputs, inputs, attention_mask=mask                  # only two inputs! Value is used as key as well\n",
    "        )\n",
    "        proj_input = self.layernorm_1(inputs + attention_output) # inputs + attn: residual connection\n",
    "        proj_output = self.dense_proj(proj_input)                # dense layer on top: like a nonlinearity\n",
    "        return self.layernorm_2(proj_input + proj_output)\n",
    "\n",
    "    def get_config(self):                                        # retrieve config as a dict\n",
    "        config = super().get_config()                            # (required for Keras layers)\n",
    "        config.update({\n",
    "            \"embed_dim\": self.embed_dim,\n",
    "            \"num_heads\": self.num_heads,\n",
    "            \"dense_dim\": self.dense_dim,\n",
    "        })\n",
    "        return config\n"
   ]
  },
  {
   "cell_type": "markdown",
   "metadata": {
    "id": "6e3MzKCxA6R8"
   },
   "source": [
    "#### Using the Transformer encoder for text classification"
   ]
  },
  {
   "cell_type": "code",
   "execution_count": 9,
   "metadata": {
    "colab": {
     "base_uri": "https://localhost:8080/",
     "height": 364
    },
    "id": "MK3XqIWFA6R8",
    "outputId": "54865b14-44ba-4070-ba1f-7aeba46c5d49"
   },
   "outputs": [
    {
     "data": {
      "text/html": [
       "<pre style=\"white-space:pre;overflow-x:auto;line-height:normal;font-family:Menlo,'DejaVu Sans Mono',consolas,'Courier New',monospace\"><span style=\"font-weight: bold\">Model: \"functional_1\"</span>\n",
       "</pre>\n"
      ],
      "text/plain": [
       "\u001b[1mModel: \"functional_1\"\u001b[0m\n"
      ]
     },
     "metadata": {},
     "output_type": "display_data"
    },
    {
     "data": {
      "text/html": [
       "<pre style=\"white-space:pre;overflow-x:auto;line-height:normal;font-family:Menlo,'DejaVu Sans Mono',consolas,'Courier New',monospace\">┏━━━━━━━━━━━━━━━━━━━━━━━━━━━━━━━━━━━━━━┳━━━━━━━━━━━━━━━━━━━━━━━━━━━━━┳━━━━━━━━━━━━━━━━━┓\n",
       "┃<span style=\"font-weight: bold\"> Layer (type)                         </span>┃<span style=\"font-weight: bold\"> Output Shape                </span>┃<span style=\"font-weight: bold\">         Param # </span>┃\n",
       "┡━━━━━━━━━━━━━━━━━━━━━━━━━━━━━━━━━━━━━━╇━━━━━━━━━━━━━━━━━━━━━━━━━━━━━╇━━━━━━━━━━━━━━━━━┩\n",
       "│ input_layer (<span style=\"color: #0087ff; text-decoration-color: #0087ff\">InputLayer</span>)             │ (<span style=\"color: #00d7ff; text-decoration-color: #00d7ff\">None</span>, <span style=\"color: #00d7ff; text-decoration-color: #00d7ff\">None</span>)                │               <span style=\"color: #00af00; text-decoration-color: #00af00\">0</span> │\n",
       "├──────────────────────────────────────┼─────────────────────────────┼─────────────────┤\n",
       "│ embedding (<span style=\"color: #0087ff; text-decoration-color: #0087ff\">Embedding</span>)                │ (<span style=\"color: #00d7ff; text-decoration-color: #00d7ff\">None</span>, <span style=\"color: #00d7ff; text-decoration-color: #00d7ff\">None</span>, <span style=\"color: #00af00; text-decoration-color: #00af00\">256</span>)           │       <span style=\"color: #00af00; text-decoration-color: #00af00\">5,120,000</span> │\n",
       "├──────────────────────────────────────┼─────────────────────────────┼─────────────────┤\n",
       "│ transformer_encoder                  │ (<span style=\"color: #00d7ff; text-decoration-color: #00d7ff\">None</span>, <span style=\"color: #00d7ff; text-decoration-color: #00d7ff\">None</span>, <span style=\"color: #00af00; text-decoration-color: #00af00\">256</span>)           │         <span style=\"color: #00af00; text-decoration-color: #00af00\">543,776</span> │\n",
       "│ (<span style=\"color: #0087ff; text-decoration-color: #0087ff\">TransformerEncoder</span>)                 │                             │                 │\n",
       "├──────────────────────────────────────┼─────────────────────────────┼─────────────────┤\n",
       "│ global_max_pooling1d                 │ (<span style=\"color: #00d7ff; text-decoration-color: #00d7ff\">None</span>, <span style=\"color: #00af00; text-decoration-color: #00af00\">256</span>)                 │               <span style=\"color: #00af00; text-decoration-color: #00af00\">0</span> │\n",
       "│ (<span style=\"color: #0087ff; text-decoration-color: #0087ff\">GlobalMaxPooling1D</span>)                 │                             │                 │\n",
       "├──────────────────────────────────────┼─────────────────────────────┼─────────────────┤\n",
       "│ dropout_1 (<span style=\"color: #0087ff; text-decoration-color: #0087ff\">Dropout</span>)                  │ (<span style=\"color: #00d7ff; text-decoration-color: #00d7ff\">None</span>, <span style=\"color: #00af00; text-decoration-color: #00af00\">256</span>)                 │               <span style=\"color: #00af00; text-decoration-color: #00af00\">0</span> │\n",
       "├──────────────────────────────────────┼─────────────────────────────┼─────────────────┤\n",
       "│ dense_2 (<span style=\"color: #0087ff; text-decoration-color: #0087ff\">Dense</span>)                      │ (<span style=\"color: #00d7ff; text-decoration-color: #00d7ff\">None</span>, <span style=\"color: #00af00; text-decoration-color: #00af00\">1</span>)                   │             <span style=\"color: #00af00; text-decoration-color: #00af00\">257</span> │\n",
       "└──────────────────────────────────────┴─────────────────────────────┴─────────────────┘\n",
       "</pre>\n"
      ],
      "text/plain": [
       "┏━━━━━━━━━━━━━━━━━━━━━━━━━━━━━━━━━━━━━━┳━━━━━━━━━━━━━━━━━━━━━━━━━━━━━┳━━━━━━━━━━━━━━━━━┓\n",
       "┃\u001b[1m \u001b[0m\u001b[1mLayer (type)                        \u001b[0m\u001b[1m \u001b[0m┃\u001b[1m \u001b[0m\u001b[1mOutput Shape               \u001b[0m\u001b[1m \u001b[0m┃\u001b[1m \u001b[0m\u001b[1m        Param #\u001b[0m\u001b[1m \u001b[0m┃\n",
       "┡━━━━━━━━━━━━━━━━━━━━━━━━━━━━━━━━━━━━━━╇━━━━━━━━━━━━━━━━━━━━━━━━━━━━━╇━━━━━━━━━━━━━━━━━┩\n",
       "│ input_layer (\u001b[38;5;33mInputLayer\u001b[0m)             │ (\u001b[38;5;45mNone\u001b[0m, \u001b[38;5;45mNone\u001b[0m)                │               \u001b[38;5;34m0\u001b[0m │\n",
       "├──────────────────────────────────────┼─────────────────────────────┼─────────────────┤\n",
       "│ embedding (\u001b[38;5;33mEmbedding\u001b[0m)                │ (\u001b[38;5;45mNone\u001b[0m, \u001b[38;5;45mNone\u001b[0m, \u001b[38;5;34m256\u001b[0m)           │       \u001b[38;5;34m5,120,000\u001b[0m │\n",
       "├──────────────────────────────────────┼─────────────────────────────┼─────────────────┤\n",
       "│ transformer_encoder                  │ (\u001b[38;5;45mNone\u001b[0m, \u001b[38;5;45mNone\u001b[0m, \u001b[38;5;34m256\u001b[0m)           │         \u001b[38;5;34m543,776\u001b[0m │\n",
       "│ (\u001b[38;5;33mTransformerEncoder\u001b[0m)                 │                             │                 │\n",
       "├──────────────────────────────────────┼─────────────────────────────┼─────────────────┤\n",
       "│ global_max_pooling1d                 │ (\u001b[38;5;45mNone\u001b[0m, \u001b[38;5;34m256\u001b[0m)                 │               \u001b[38;5;34m0\u001b[0m │\n",
       "│ (\u001b[38;5;33mGlobalMaxPooling1D\u001b[0m)                 │                             │                 │\n",
       "├──────────────────────────────────────┼─────────────────────────────┼─────────────────┤\n",
       "│ dropout_1 (\u001b[38;5;33mDropout\u001b[0m)                  │ (\u001b[38;5;45mNone\u001b[0m, \u001b[38;5;34m256\u001b[0m)                 │               \u001b[38;5;34m0\u001b[0m │\n",
       "├──────────────────────────────────────┼─────────────────────────────┼─────────────────┤\n",
       "│ dense_2 (\u001b[38;5;33mDense\u001b[0m)                      │ (\u001b[38;5;45mNone\u001b[0m, \u001b[38;5;34m1\u001b[0m)                   │             \u001b[38;5;34m257\u001b[0m │\n",
       "└──────────────────────────────────────┴─────────────────────────────┴─────────────────┘\n"
      ]
     },
     "metadata": {},
     "output_type": "display_data"
    },
    {
     "data": {
      "text/html": [
       "<pre style=\"white-space:pre;overflow-x:auto;line-height:normal;font-family:Menlo,'DejaVu Sans Mono',consolas,'Courier New',monospace\"><span style=\"font-weight: bold\"> Total params: </span><span style=\"color: #00af00; text-decoration-color: #00af00\">5,664,033</span> (21.61 MB)\n",
       "</pre>\n"
      ],
      "text/plain": [
       "\u001b[1m Total params: \u001b[0m\u001b[38;5;34m5,664,033\u001b[0m (21.61 MB)\n"
      ]
     },
     "metadata": {},
     "output_type": "display_data"
    },
    {
     "data": {
      "text/html": [
       "<pre style=\"white-space:pre;overflow-x:auto;line-height:normal;font-family:Menlo,'DejaVu Sans Mono',consolas,'Courier New',monospace\"><span style=\"font-weight: bold\"> Trainable params: </span><span style=\"color: #00af00; text-decoration-color: #00af00\">5,664,033</span> (21.61 MB)\n",
       "</pre>\n"
      ],
      "text/plain": [
       "\u001b[1m Trainable params: \u001b[0m\u001b[38;5;34m5,664,033\u001b[0m (21.61 MB)\n"
      ]
     },
     "metadata": {},
     "output_type": "display_data"
    },
    {
     "data": {
      "text/html": [
       "<pre style=\"white-space:pre;overflow-x:auto;line-height:normal;font-family:Menlo,'DejaVu Sans Mono',consolas,'Courier New',monospace\"><span style=\"font-weight: bold\"> Non-trainable params: </span><span style=\"color: #00af00; text-decoration-color: #00af00\">0</span> (0.00 B)\n",
       "</pre>\n"
      ],
      "text/plain": [
       "\u001b[1m Non-trainable params: \u001b[0m\u001b[38;5;34m0\u001b[0m (0.00 B)\n"
      ]
     },
     "metadata": {},
     "output_type": "display_data"
    }
   ],
   "source": [
    "vocab_size = 20000\n",
    "embed_dim = 256\n",
    "num_heads = 2\n",
    "dense_dim = 32\n",
    "\n",
    "inputs = tf.keras.Input(shape=(None,), dtype=\"int64\")\n",
    "x = tf.keras.layers.Embedding(vocab_size, embed_dim)(inputs) # 1. Regular embeddings\n",
    "x = TransformerEncoder(embed_dim, dense_dim, num_heads)(x)   # 2. Transformer encoder\n",
    "x = tf.keras.layers.GlobalMaxPooling1D()(x)                  # (reduce full sequence to a single vector...)\n",
    "x = tf.keras.layers.Dropout(0.5)(x)\n",
    "outputs = tf.keras.layers.Dense(1, activation=\"sigmoid\")(x)\n",
    "model = tf.keras.Model(inputs, outputs)\n",
    "\n",
    "model.compile(\n",
    "    optimizer=\"rmsprop\",\n",
    "    loss=\"binary_crossentropy\",\n",
    "    metrics=[\"accuracy\"]\n",
    ")\n",
    "model.summary()"
   ]
  },
  {
   "cell_type": "markdown",
   "metadata": {
    "id": "mS7B-gfYA6R8"
   },
   "source": [
    "#### Training and evaluating the Transformer encoder based model"
   ]
  },
  {
   "cell_type": "code",
   "execution_count": 10,
   "metadata": {
    "colab": {
     "base_uri": "https://localhost:8080/"
    },
    "id": "Yc_vGqYYA6R8",
    "outputId": "9b4363db-81a4-430b-ea8d-e897bb98b2fe"
   },
   "outputs": [
    {
     "name": "stdout",
     "output_type": "stream",
     "text": [
      "Epoch 1/20\n",
      "\u001b[1m625/625\u001b[0m \u001b[32m━━━━━━━━━━━━━━━━━━━━\u001b[0m\u001b[37m\u001b[0m \u001b[1m88s\u001b[0m 106ms/step - accuracy: 0.5536 - loss: 0.8838 - val_accuracy: 0.8004 - val_loss: 0.4323\n",
      "Epoch 2/20\n",
      "\u001b[1m625/625\u001b[0m \u001b[32m━━━━━━━━━━━━━━━━━━━━\u001b[0m\u001b[37m\u001b[0m \u001b[1m56s\u001b[0m 89ms/step - accuracy: 0.8144 - loss: 0.4138 - val_accuracy: 0.8450 - val_loss: 0.3526\n",
      "Epoch 3/20\n",
      "\u001b[1m625/625\u001b[0m \u001b[32m━━━━━━━━━━━━━━━━━━━━\u001b[0m\u001b[37m\u001b[0m \u001b[1m57s\u001b[0m 90ms/step - accuracy: 0.8475 - loss: 0.3525 - val_accuracy: 0.8454 - val_loss: 0.3514\n",
      "Epoch 4/20\n",
      "\u001b[1m625/625\u001b[0m \u001b[32m━━━━━━━━━━━━━━━━━━━━\u001b[0m\u001b[37m\u001b[0m \u001b[1m57s\u001b[0m 91ms/step - accuracy: 0.8638 - loss: 0.3203 - val_accuracy: 0.8516 - val_loss: 0.3381\n",
      "Epoch 5/20\n",
      "\u001b[1m625/625\u001b[0m \u001b[32m━━━━━━━━━━━━━━━━━━━━\u001b[0m\u001b[37m\u001b[0m \u001b[1m57s\u001b[0m 92ms/step - accuracy: 0.8762 - loss: 0.2911 - val_accuracy: 0.8564 - val_loss: 0.3281\n",
      "Epoch 6/20\n",
      "\u001b[1m625/625\u001b[0m \u001b[32m━━━━━━━━━━━━━━━━━━━━\u001b[0m\u001b[37m\u001b[0m \u001b[1m57s\u001b[0m 92ms/step - accuracy: 0.8869 - loss: 0.2736 - val_accuracy: 0.8570 - val_loss: 0.3253\n",
      "Epoch 7/20\n",
      "\u001b[1m625/625\u001b[0m \u001b[32m━━━━━━━━━━━━━━━━━━━━\u001b[0m\u001b[37m\u001b[0m \u001b[1m58s\u001b[0m 93ms/step - accuracy: 0.8993 - loss: 0.2475 - val_accuracy: 0.8640 - val_loss: 0.3201\n",
      "Epoch 8/20\n",
      "\u001b[1m625/625\u001b[0m \u001b[32m━━━━━━━━━━━━━━━━━━━━\u001b[0m\u001b[37m\u001b[0m \u001b[1m58s\u001b[0m 92ms/step - accuracy: 0.9079 - loss: 0.2261 - val_accuracy: 0.8674 - val_loss: 0.3319\n",
      "Epoch 9/20\n",
      "\u001b[1m625/625\u001b[0m \u001b[32m━━━━━━━━━━━━━━━━━━━━\u001b[0m\u001b[37m\u001b[0m \u001b[1m57s\u001b[0m 92ms/step - accuracy: 0.9172 - loss: 0.2089 - val_accuracy: 0.8668 - val_loss: 0.3301\n",
      "Epoch 10/20\n",
      "\u001b[1m625/625\u001b[0m \u001b[32m━━━━━━━━━━━━━━━━━━━━\u001b[0m\u001b[37m\u001b[0m \u001b[1m57s\u001b[0m 91ms/step - accuracy: 0.9281 - loss: 0.1874 - val_accuracy: 0.8724 - val_loss: 0.3188\n",
      "Epoch 11/20\n",
      "\u001b[1m625/625\u001b[0m \u001b[32m━━━━━━━━━━━━━━━━━━━━\u001b[0m\u001b[37m\u001b[0m \u001b[1m56s\u001b[0m 89ms/step - accuracy: 0.9346 - loss: 0.1667 - val_accuracy: 0.8654 - val_loss: 0.3405\n",
      "Epoch 12/20\n",
      "\u001b[1m625/625\u001b[0m \u001b[32m━━━━━━━━━━━━━━━━━━━━\u001b[0m\u001b[37m\u001b[0m \u001b[1m55s\u001b[0m 88ms/step - accuracy: 0.9432 - loss: 0.1511 - val_accuracy: 0.8674 - val_loss: 0.3630\n",
      "Epoch 13/20\n",
      "\u001b[1m625/625\u001b[0m \u001b[32m━━━━━━━━━━━━━━━━━━━━\u001b[0m\u001b[37m\u001b[0m \u001b[1m53s\u001b[0m 85ms/step - accuracy: 0.9484 - loss: 0.1337 - val_accuracy: 0.8698 - val_loss: 0.3748\n",
      "Epoch 14/20\n",
      "\u001b[1m625/625\u001b[0m \u001b[32m━━━━━━━━━━━━━━━━━━━━\u001b[0m\u001b[37m\u001b[0m \u001b[1m52s\u001b[0m 82ms/step - accuracy: 0.9586 - loss: 0.1167 - val_accuracy: 0.8666 - val_loss: 0.3962\n",
      "Epoch 15/20\n",
      "\u001b[1m625/625\u001b[0m \u001b[32m━━━━━━━━━━━━━━━━━━━━\u001b[0m\u001b[37m\u001b[0m \u001b[1m50s\u001b[0m 79ms/step - accuracy: 0.9639 - loss: 0.0970 - val_accuracy: 0.8646 - val_loss: 0.4393\n",
      "Epoch 16/20\n",
      "\u001b[1m625/625\u001b[0m \u001b[32m━━━━━━━━━━━━━━━━━━━━\u001b[0m\u001b[37m\u001b[0m \u001b[1m48s\u001b[0m 76ms/step - accuracy: 0.9721 - loss: 0.0804 - val_accuracy: 0.8686 - val_loss: 0.4237\n",
      "Epoch 17/20\n",
      "\u001b[1m625/625\u001b[0m \u001b[32m━━━━━━━━━━━━━━━━━━━━\u001b[0m\u001b[37m\u001b[0m \u001b[1m45s\u001b[0m 72ms/step - accuracy: 0.9759 - loss: 0.0702 - val_accuracy: 0.8614 - val_loss: 0.5073\n",
      "Epoch 18/20\n",
      "\u001b[1m625/625\u001b[0m \u001b[32m━━━━━━━━━━━━━━━━━━━━\u001b[0m\u001b[37m\u001b[0m \u001b[1m43s\u001b[0m 69ms/step - accuracy: 0.9820 - loss: 0.0543 - val_accuracy: 0.8588 - val_loss: 0.5128\n",
      "Epoch 19/20\n",
      "\u001b[1m625/625\u001b[0m \u001b[32m━━━━━━━━━━━━━━━━━━━━\u001b[0m\u001b[37m\u001b[0m \u001b[1m39s\u001b[0m 63ms/step - accuracy: 0.9845 - loss: 0.0467 - val_accuracy: 0.8568 - val_loss: 0.5616\n",
      "Epoch 20/20\n",
      "\u001b[1m625/625\u001b[0m \u001b[32m━━━━━━━━━━━━━━━━━━━━\u001b[0m\u001b[37m\u001b[0m \u001b[1m38s\u001b[0m 61ms/step - accuracy: 0.9842 - loss: 0.0437 - val_accuracy: 0.8588 - val_loss: 0.5701\n"
     ]
    }
   ],
   "source": [
    "callbacks = [\n",
    "    tf.keras.callbacks.ModelCheckpoint(\n",
    "        str(MODELS_DIR / \"transformer_encoder.keras\"),\n",
    "        save_best_only=True\n",
    "\n",
    "    )\n",
    "]\n",
    "history = model.fit(\n",
    "    int_train_ds,\n",
    "    validation_data=int_val_ds,\n",
    "    epochs=20,\n",
    "    callbacks=callbacks\n",
    ")"
   ]
  },
  {
   "cell_type": "code",
   "execution_count": 11,
   "metadata": {
    "id": "FnBlFx3UA6R8"
   },
   "outputs": [],
   "source": [
    "def plot_history(history):\n",
    "    fig, (ax1, ax2) = plt.subplots(1,2, figsize=(12,4))\n",
    "    loss = history.history[\"loss\"]\n",
    "    val_loss = history.history[\"val_loss\"]\n",
    "    acc = history.history[\"accuracy\"]\n",
    "    val_acc = history.history[\"val_accuracy\"]\n",
    "    epochs = range(1, len(loss) + 1)\n",
    "    ax1.plot(epochs, loss, label=\"Training\")\n",
    "    ax1.plot(epochs, val_loss, label=\"Validation\")\n",
    "    ax1.set_title(\"Training and validation loss\")\n",
    "    ax1.legend()\n",
    "    ax2.plot(epochs, acc, label=\"Training\")\n",
    "    ax2.plot(epochs, val_acc, label=\"Validation\")\n",
    "    ax2.set_title(\"Training and validation accuracy\")\n",
    "    ax2.legend()\n",
    "    plt.show()"
   ]
  },
  {
   "cell_type": "code",
   "execution_count": 12,
   "metadata": {
    "colab": {
     "base_uri": "https://localhost:8080/",
     "height": 391
    },
    "id": "4JGN5hCDA6R8",
    "outputId": "f7b1601d-422e-4782-f183-3b7a8d83cfef"
   },
   "outputs": [
    {
     "data": {
      "image/png": "[encoded data removed]",
      "text/plain": [
       "<Figure size 1200x400 with 2 Axes>"
      ]
     },
     "metadata": {},
     "output_type": "display_data"
    }
   ],
   "source": [
    "plot_history(history) # a LOT of overfitting"
   ]
  },
  {
   "cell_type": "code",
   "execution_count": 13,
   "metadata": {
    "colab": {
     "base_uri": "https://localhost:8080/"
    },
    "id": "bv_o3yHjA6R8",
    "outputId": "6df85a3e-f932-46ad-8b89-b7fa2d98fc0d"
   },
   "outputs": [
    {
     "name": "stdout",
     "output_type": "stream",
     "text": [
      "\u001b[1m782/782\u001b[0m \u001b[32m━━━━━━━━━━━━━━━━━━━━\u001b[0m\u001b[37m\u001b[0m \u001b[1m9s\u001b[0m 9ms/step - accuracy: 0.8654 - loss: 0.3325\n",
      "Test acc: 0.866\n"
     ]
    }
   ],
   "source": [
    "model = tf.keras.models.load_model(\n",
    "    MODELS_DIR / \"transformer_encoder.keras\",\n",
    "    custom_objects={\"TransformerEncoder\": TransformerEncoder}\n",
    ")\n",
    "print(f\"Test acc: {model.evaluate(int_test_ds)[1]:.3f}\")"
   ]
  },
  {
   "cell_type": "markdown",
   "metadata": {
    "id": "0JJ4_q87A6R8"
   },
   "source": [
    "#### Implementing positional embedding as a subclassed layer"
   ]
  },
  {
   "cell_type": "code",
   "execution_count": 14,
   "metadata": {
    "id": "3Os82vQIA6R8"
   },
   "outputs": [],
   "source": [
    "class PositionalEmbedding(tf.keras.layers.Layer):\n",
    "    def __init__(self, sequence_length, input_dim, output_dim, **kwargs):\n",
    "        super().__init__(**kwargs)\n",
    "        self.sequence_length = sequence_length                   # more params\n",
    "        self.input_dim = input_dim\n",
    "        self.output_dim = output_dim\n",
    "\n",
    "    # new in Keras 3, see: https://keras.io/guides/making_new_layers_and_models_via_subclassing/#best-practice-deferring-weight-creation-until-the-shape-of-the-inputs-is-known\n",
    "    def build(self, input_shape):\n",
    "        self.token_embeddings = tf.keras.layers.Embedding(       # token embeddings: semantic information\n",
    "            input_dim=self.input_dim, output_dim=self.output_dim\n",
    "        )\n",
    "        self.position_embeddings = tf.keras.layers.Embedding(    # position embeddings: syntactic/spatial information\n",
    "            input_dim=self.sequence_length, output_dim=self.output_dim\n",
    "        )\n",
    "\n",
    "    def call(self, inputs):\n",
    "        length = tf.shape(inputs)[-1]\n",
    "        embedded_tokens = self.token_embeddings(inputs)          # 1. create token embeddings\n",
    "                                                                 # 2. create pos embeddings\n",
    "        positions = tf.range(start=0, limit=length, delta=1)     #    (as many as our input length, delta: step size)\n",
    "        embedded_positions = self.position_embeddings(positions)\n",
    "\n",
    "        return embedded_tokens + embedded_positions              # 3. Both embeddings are simply added together!\n",
    "\n",
    "    # copied from the source here: https://github.com/keras-team/keras-nlp/blob/4601d88a61a5d3d15279865769af5155804dd785/keras_nlp/src/layers/modeling/token_and_position_embedding.py#L146\n",
    "    def compute_mask(self, inputs, mask=None):\n",
    "        return self.token_embeddings.compute_mask(inputs, mask=mask)\n",
    "\n",
    "    def get_config(self):                                        # retrieve config as a dict\n",
    "        config = super().get_config()                            # (required for Keras layers)\n",
    "        config.update({\n",
    "            \"output_dim\": self.output_dim,\n",
    "            \"sequence_length\": self.sequence_length,\n",
    "            \"input_dim\": self.input_dim,\n",
    "        })\n",
    "        return config"
   ]
  },
  {
   "cell_type": "markdown",
   "metadata": {
    "id": "_zz4g_d2A6R9"
   },
   "source": [
    "#### Putting it all together: A text-classification Transformer"
   ]
  },
  {
   "cell_type": "markdown",
   "metadata": {
    "id": "_zz4g_d2A6R9"
   },
   "source": [
    "We go from a **sequence** to a(n abstract) **representation** (= BERT).\n",
    "\n",
    "<!-- <img style=\"float:right;height:600px\" src=\"images/transformer/beyer.encoder.png\"> -->\n",
    "<img style=\"float:right;height:600px\"  src=\"https://github.com/jchwenger/AI/blob/main/6-text-and-sequences/images/transformer/beyer.encoder.png?raw=true\">\n",
    "\n",
    "<small style=\"position:absolute;bottom:0;right:0\">[Lucas Beyer, \"Transformers\"](https://docs.google.com/presentation/d/1ZXFIhYczos679r70Yu8vV9uO6B1J0ztzeDxbnBxD1S0/edit#slide=id.g13dd67c5ab8_0_79)</small>"
   ]
  },
  {
   "cell_type": "markdown",
   "metadata": {
    "id": "tcj7qD9GA6R9"
   },
   "source": [
    "#### Combining the Transformer encoder with positional embedding"
   ]
  },
  {
   "cell_type": "code",
   "execution_count": 15,
   "metadata": {
    "colab": {
     "base_uri": "https://localhost:8080/",
     "height": 485
    },
    "id": "IiB_h1jrA6R9",
    "outputId": "38484f7c-4851-498f-f5d4-b5a9ac582543"
   },
   "outputs": [
    {
     "name": "stderr",
     "output_type": "stream",
     "text": [
      "/usr/local/lib/python3.10/dist-packages/keras/src/layers/layer.py:915: UserWarning: Layer 'transformer_encoder_1' (of type TransformerEncoder) was passed an input with a mask attached to it. However, this layer does not support masking and will therefore destroy the mask information. Downstream layers will not see the mask.\n",
      "  warnings.warn(\n"
     ]
    },
    {
     "data": {
      "text/html": [
       "<pre style=\"white-space:pre;overflow-x:auto;line-height:normal;font-family:Menlo,'DejaVu Sans Mono',consolas,'Courier New',monospace\"><span style=\"font-weight: bold\">Model: \"functional_4\"</span>\n",
       "</pre>\n"
      ],
      "text/plain": [
       "\u001b[1mModel: \"functional_4\"\u001b[0m\n"
      ]
     },
     "metadata": {},
     "output_type": "display_data"
    },
    {
     "data": {
      "text/html": [
       "<pre style=\"white-space:pre;overflow-x:auto;line-height:normal;font-family:Menlo,'DejaVu Sans Mono',consolas,'Courier New',monospace\">┏━━━━━━━━━━━━━━━━━━━━━━━━━━━┳━━━━━━━━━━━━━━━━━━━━━━━━┳━━━━━━━━━━━━━━━━┳━━━━━━━━━━━━━━━━━━━━━━━━┓\n",
       "┃<span style=\"font-weight: bold\"> Layer (type)              </span>┃<span style=\"font-weight: bold\"> Output Shape           </span>┃<span style=\"font-weight: bold\">        Param # </span>┃<span style=\"font-weight: bold\"> Connected to           </span>┃\n",
       "┡━━━━━━━━━━━━━━━━━━━━━━━━━━━╇━━━━━━━━━━━━━━━━━━━━━━━━╇━━━━━━━━━━━━━━━━╇━━━━━━━━━━━━━━━━━━━━━━━━┩\n",
       "│ input_layer_3             │ (<span style=\"color: #00d7ff; text-decoration-color: #00d7ff\">None</span>, <span style=\"color: #00d7ff; text-decoration-color: #00d7ff\">None</span>)           │              <span style=\"color: #00af00; text-decoration-color: #00af00\">0</span> │ -                      │\n",
       "│ (<span style=\"color: #0087ff; text-decoration-color: #0087ff\">InputLayer</span>)              │                        │                │                        │\n",
       "├───────────────────────────┼────────────────────────┼────────────────┼────────────────────────┤\n",
       "│ positional_embedding      │ (<span style=\"color: #00d7ff; text-decoration-color: #00d7ff\">None</span>, <span style=\"color: #00d7ff; text-decoration-color: #00d7ff\">None</span>, <span style=\"color: #00af00; text-decoration-color: #00af00\">256</span>)      │      <span style=\"color: #00af00; text-decoration-color: #00af00\">5,273,600</span> │ input_layer_3[<span style=\"color: #00af00; text-decoration-color: #00af00\">0</span>][<span style=\"color: #00af00; text-decoration-color: #00af00\">0</span>]    │\n",
       "│ (<span style=\"color: #0087ff; text-decoration-color: #0087ff\">PositionalEmbedding</span>)     │                        │                │                        │\n",
       "├───────────────────────────┼────────────────────────┼────────────────┼────────────────────────┤\n",
       "│ not_equal (<span style=\"color: #0087ff; text-decoration-color: #0087ff\">NotEqual</span>)      │ (<span style=\"color: #00d7ff; text-decoration-color: #00d7ff\">None</span>, <span style=\"color: #00d7ff; text-decoration-color: #00d7ff\">None</span>)           │              <span style=\"color: #00af00; text-decoration-color: #00af00\">0</span> │ input_layer_3[<span style=\"color: #00af00; text-decoration-color: #00af00\">0</span>][<span style=\"color: #00af00; text-decoration-color: #00af00\">0</span>]    │\n",
       "├───────────────────────────┼────────────────────────┼────────────────┼────────────────────────┤\n",
       "│ transformer_encoder_1     │ (<span style=\"color: #00d7ff; text-decoration-color: #00d7ff\">None</span>, <span style=\"color: #00d7ff; text-decoration-color: #00d7ff\">None</span>, <span style=\"color: #00af00; text-decoration-color: #00af00\">256</span>)      │        <span style=\"color: #00af00; text-decoration-color: #00af00\">543,776</span> │ positional_embedding[<span style=\"color: #00af00; text-decoration-color: #00af00\">…</span> │\n",
       "│ (<span style=\"color: #0087ff; text-decoration-color: #0087ff\">TransformerEncoder</span>)      │                        │                │ not_equal[<span style=\"color: #00af00; text-decoration-color: #00af00\">0</span>][<span style=\"color: #00af00; text-decoration-color: #00af00\">0</span>]        │\n",
       "├───────────────────────────┼────────────────────────┼────────────────┼────────────────────────┤\n",
       "│ global_max_pooling1d_1    │ (<span style=\"color: #00d7ff; text-decoration-color: #00d7ff\">None</span>, <span style=\"color: #00af00; text-decoration-color: #00af00\">256</span>)            │              <span style=\"color: #00af00; text-decoration-color: #00af00\">0</span> │ transformer_encoder_1… │\n",
       "│ (<span style=\"color: #0087ff; text-decoration-color: #0087ff\">GlobalMaxPooling1D</span>)      │                        │                │                        │\n",
       "├───────────────────────────┼────────────────────────┼────────────────┼────────────────────────┤\n",
       "│ dropout_4 (<span style=\"color: #0087ff; text-decoration-color: #0087ff\">Dropout</span>)       │ (<span style=\"color: #00d7ff; text-decoration-color: #00d7ff\">None</span>, <span style=\"color: #00af00; text-decoration-color: #00af00\">256</span>)            │              <span style=\"color: #00af00; text-decoration-color: #00af00\">0</span> │ global_max_pooling1d_… │\n",
       "├───────────────────────────┼────────────────────────┼────────────────┼────────────────────────┤\n",
       "│ dense_7 (<span style=\"color: #0087ff; text-decoration-color: #0087ff\">Dense</span>)           │ (<span style=\"color: #00d7ff; text-decoration-color: #00d7ff\">None</span>, <span style=\"color: #00af00; text-decoration-color: #00af00\">1</span>)              │            <span style=\"color: #00af00; text-decoration-color: #00af00\">257</span> │ dropout_4[<span style=\"color: #00af00; text-decoration-color: #00af00\">0</span>][<span style=\"color: #00af00; text-decoration-color: #00af00\">0</span>]        │\n",
       "└───────────────────────────┴────────────────────────┴────────────────┴────────────────────────┘\n",
       "</pre>\n"
      ],
      "text/plain": [
       "┏━━━━━━━━━━━━━━━━━━━━━━━━━━━┳━━━━━━━━━━━━━━━━━━━━━━━━┳━━━━━━━━━━━━━━━━┳━━━━━━━━━━━━━━━━━━━━━━━━┓\n",
       "┃\u001b[1m \u001b[0m\u001b[1mLayer (type)             \u001b[0m\u001b[1m \u001b[0m┃\u001b[1m \u001b[0m\u001b[1mOutput Shape          \u001b[0m\u001b[1m \u001b[0m┃\u001b[1m \u001b[0m\u001b[1m       Param #\u001b[0m\u001b[1m \u001b[0m┃\u001b[1m \u001b[0m\u001b[1mConnected to          \u001b[0m\u001b[1m \u001b[0m┃\n",
       "┡━━━━━━━━━━━━━━━━━━━━━━━━━━━╇━━━━━━━━━━━━━━━━━━━━━━━━╇━━━━━━━━━━━━━━━━╇━━━━━━━━━━━━━━━━━━━━━━━━┩\n",
       "│ input_layer_3             │ (\u001b[38;5;45mNone\u001b[0m, \u001b[38;5;45mNone\u001b[0m)           │              \u001b[38;5;34m0\u001b[0m │ -                      │\n",
       "│ (\u001b[38;5;33mInputLayer\u001b[0m)              │                        │                │                        │\n",
       "├───────────────────────────┼────────────────────────┼────────────────┼────────────────────────┤\n",
       "│ positional_embedding      │ (\u001b[38;5;45mNone\u001b[0m, \u001b[38;5;45mNone\u001b[0m, \u001b[38;5;34m256\u001b[0m)      │      \u001b[38;5;34m5,273,600\u001b[0m │ input_layer_3[\u001b[38;5;34m0\u001b[0m][\u001b[38;5;34m0\u001b[0m]    │\n",
       "│ (\u001b[38;5;33mPositionalEmbedding\u001b[0m)     │                        │                │                        │\n",
       "├───────────────────────────┼────────────────────────┼────────────────┼────────────────────────┤\n",
       "│ not_equal (\u001b[38;5;33mNotEqual\u001b[0m)      │ (\u001b[38;5;45mNone\u001b[0m, \u001b[38;5;45mNone\u001b[0m)           │              \u001b[38;5;34m0\u001b[0m │ input_layer_3[\u001b[38;5;34m0\u001b[0m][\u001b[38;5;34m0\u001b[0m]    │\n",
       "├───────────────────────────┼────────────────────────┼────────────────┼────────────────────────┤\n",
       "│ transformer_encoder_1     │ (\u001b[38;5;45mNone\u001b[0m, \u001b[38;5;45mNone\u001b[0m, \u001b[38;5;34m256\u001b[0m)      │        \u001b[38;5;34m543,776\u001b[0m │ positional_embedding[\u001b[38;5;34m…\u001b[0m │\n",
       "│ (\u001b[38;5;33mTransformerEncoder\u001b[0m)      │                        │                │ not_equal[\u001b[38;5;34m0\u001b[0m][\u001b[38;5;34m0\u001b[0m]        │\n",
       "├───────────────────────────┼────────────────────────┼────────────────┼────────────────────────┤\n",
       "│ global_max_pooling1d_1    │ (\u001b[38;5;45mNone\u001b[0m, \u001b[38;5;34m256\u001b[0m)            │              \u001b[38;5;34m0\u001b[0m │ transformer_encoder_1… │\n",
       "│ (\u001b[38;5;33mGlobalMaxPooling1D\u001b[0m)      │                        │                │                        │\n",
       "├───────────────────────────┼────────────────────────┼────────────────┼────────────────────────┤\n",
       "│ dropout_4 (\u001b[38;5;33mDropout\u001b[0m)       │ (\u001b[38;5;45mNone\u001b[0m, \u001b[38;5;34m256\u001b[0m)            │              \u001b[38;5;34m0\u001b[0m │ global_max_pooling1d_… │\n",
       "├───────────────────────────┼────────────────────────┼────────────────┼────────────────────────┤\n",
       "│ dense_7 (\u001b[38;5;33mDense\u001b[0m)           │ (\u001b[38;5;45mNone\u001b[0m, \u001b[38;5;34m1\u001b[0m)              │            \u001b[38;5;34m257\u001b[0m │ dropout_4[\u001b[38;5;34m0\u001b[0m][\u001b[38;5;34m0\u001b[0m]        │\n",
       "└───────────────────────────┴────────────────────────┴────────────────┴────────────────────────┘\n"
      ]
     },
     "metadata": {},
     "output_type": "display_data"
    },
    {
     "data": {
      "text/html": [
       "<pre style=\"white-space:pre;overflow-x:auto;line-height:normal;font-family:Menlo,'DejaVu Sans Mono',consolas,'Courier New',monospace\"><span style=\"font-weight: bold\"> Total params: </span><span style=\"color: #00af00; text-decoration-color: #00af00\">5,817,633</span> (22.19 MB)\n",
       "</pre>\n"
      ],
      "text/plain": [
       "\u001b[1m Total params: \u001b[0m\u001b[38;5;34m5,817,633\u001b[0m (22.19 MB)\n"
      ]
     },
     "metadata": {},
     "output_type": "display_data"
    },
    {
     "data": {
      "text/html": [
       "<pre style=\"white-space:pre;overflow-x:auto;line-height:normal;font-family:Menlo,'DejaVu Sans Mono',consolas,'Courier New',monospace\"><span style=\"font-weight: bold\"> Trainable params: </span><span style=\"color: #00af00; text-decoration-color: #00af00\">5,817,633</span> (22.19 MB)\n",
       "</pre>\n"
      ],
      "text/plain": [
       "\u001b[1m Trainable params: \u001b[0m\u001b[38;5;34m5,817,633\u001b[0m (22.19 MB)\n"
      ]
     },
     "metadata": {},
     "output_type": "display_data"
    },
    {
     "data": {
      "text/html": [
       "<pre style=\"white-space:pre;overflow-x:auto;line-height:normal;font-family:Menlo,'DejaVu Sans Mono',consolas,'Courier New',monospace\"><span style=\"font-weight: bold\"> Non-trainable params: </span><span style=\"color: #00af00; text-decoration-color: #00af00\">0</span> (0.00 B)\n",
       "</pre>\n"
      ],
      "text/plain": [
       "\u001b[1m Non-trainable params: \u001b[0m\u001b[38;5;34m0\u001b[0m (0.00 B)\n"
      ]
     },
     "metadata": {},
     "output_type": "display_data"
    }
   ],
   "source": [
    "vocab_size = 20000\n",
    "sequence_length = 600\n",
    "embed_dim = 256\n",
    "num_heads = 2\n",
    "dense_dim = 32\n",
    "\n",
    "inputs = tf.keras.Input(shape=(None,), dtype=\"int64\")\n",
    "x = PositionalEmbedding(sequence_length, vocab_size, embed_dim)(inputs)\n",
    "x = TransformerEncoder(embed_dim, dense_dim, num_heads)(x)\n",
    "x = tf.keras.layers.GlobalMaxPooling1D()(x)\n",
    "x = tf.keras.layers.Dropout(0.5)(x)\n",
    "outputs = tf.keras.layers.Dense(1, activation=\"sigmoid\")(x)\n",
    "model = tf.keras.Model(inputs, outputs)\n",
    "model.compile(\n",
    "    optimizer=\"rmsprop\",\n",
    "    loss=\"binary_crossentropy\",\n",
    "    metrics=[\"accuracy\"]\n",
    ")\n",
    "model.summary()"
   ]
  },
  {
   "cell_type": "code",
   "execution_count": 16,
   "metadata": {
    "colab": {
     "base_uri": "https://localhost:8080/"
    },
    "id": "FdYfkUzbA6R9",
    "outputId": "9af20fc0-08e6-4566-ad6d-8da12765e506"
   },
   "outputs": [
    {
     "name": "stdout",
     "output_type": "stream",
     "text": [
      "Epoch 1/20\n"
     ]
    },
    {
     "name": "stderr",
     "output_type": "stream",
     "text": [
      "/usr/local/lib/python3.10/dist-packages/keras/src/layers/layer.py:915: UserWarning: Layer 'query' (of type EinsumDense) was passed an input with a mask attached to it. However, this layer does not support masking and will therefore destroy the mask information. Downstream layers will not see the mask.\n",
      "  warnings.warn(\n",
      "/usr/local/lib/python3.10/dist-packages/keras/src/layers/layer.py:915: UserWarning: Layer 'key' (of type EinsumDense) was passed an input with a mask attached to it. However, this layer does not support masking and will therefore destroy the mask information. Downstream layers will not see the mask.\n",
      "  warnings.warn(\n",
      "/usr/local/lib/python3.10/dist-packages/keras/src/layers/layer.py:915: UserWarning: Layer 'value' (of type EinsumDense) was passed an input with a mask attached to it. However, this layer does not support masking and will therefore destroy the mask information. Downstream layers will not see the mask.\n",
      "  warnings.warn(\n"
     ]
    },
    {
     "name": "stdout",
     "output_type": "stream",
     "text": [
      "\u001b[1m625/625\u001b[0m \u001b[32m━━━━━━━━━━━━━━━━━━━━\u001b[0m\u001b[37m\u001b[0m \u001b[1m34s\u001b[0m 41ms/step - accuracy: 0.6307 - loss: 0.7581 - val_accuracy: 0.7740 - val_loss: 0.4691\n",
      "Epoch 2/20\n",
      "\u001b[1m625/625\u001b[0m \u001b[32m━━━━━━━━━━━━━━━━━━━━\u001b[0m\u001b[37m\u001b[0m \u001b[1m27s\u001b[0m 43ms/step - accuracy: 0.8378 - loss: 0.3673 - val_accuracy: 0.8570 - val_loss: 0.3252\n",
      "Epoch 3/20\n",
      "\u001b[1m625/625\u001b[0m \u001b[32m━━━━━━━━━━━━━━━━━━━━\u001b[0m\u001b[37m\u001b[0m \u001b[1m30s\u001b[0m 49ms/step - accuracy: 0.8773 - loss: 0.2904 - val_accuracy: 0.8796 - val_loss: 0.3052\n",
      "Epoch 4/20\n",
      "\u001b[1m625/625\u001b[0m \u001b[32m━━━━━━━━━━━━━━━━━━━━\u001b[0m\u001b[37m\u001b[0m \u001b[1m28s\u001b[0m 44ms/step - accuracy: 0.9076 - loss: 0.2378 - val_accuracy: 0.8578 - val_loss: 0.4155\n",
      "Epoch 5/20\n",
      "\u001b[1m625/625\u001b[0m \u001b[32m━━━━━━━━━━━━━━━━━━━━\u001b[0m\u001b[37m\u001b[0m \u001b[1m29s\u001b[0m 46ms/step - accuracy: 0.9201 - loss: 0.2017 - val_accuracy: 0.8754 - val_loss: 0.3316\n",
      "Epoch 6/20\n",
      "\u001b[1m625/625\u001b[0m \u001b[32m━━━━━━━━━━━━━━━━━━━━\u001b[0m\u001b[37m\u001b[0m \u001b[1m30s\u001b[0m 48ms/step - accuracy: 0.9395 - loss: 0.1623 - val_accuracy: 0.8696 - val_loss: 0.3478\n",
      "Epoch 7/20\n",
      "\u001b[1m625/625\u001b[0m \u001b[32m━━━━━━━━━━━━━━━━━━━━\u001b[0m\u001b[37m\u001b[0m \u001b[1m27s\u001b[0m 43ms/step - accuracy: 0.9521 - loss: 0.1290 - val_accuracy: 0.8802 - val_loss: 0.3302\n",
      "Epoch 8/20\n",
      "\u001b[1m625/625\u001b[0m \u001b[32m━━━━━━━━━━━━━━━━━━━━\u001b[0m\u001b[37m\u001b[0m \u001b[1m27s\u001b[0m 43ms/step - accuracy: 0.9629 - loss: 0.1024 - val_accuracy: 0.8764 - val_loss: 0.4855\n",
      "Epoch 9/20\n",
      "\u001b[1m625/625\u001b[0m \u001b[32m━━━━━━━━━━━━━━━━━━━━\u001b[0m\u001b[37m\u001b[0m \u001b[1m26s\u001b[0m 41ms/step - accuracy: 0.9720 - loss: 0.0755 - val_accuracy: 0.8744 - val_loss: 0.7306\n",
      "Epoch 10/20\n",
      "\u001b[1m625/625\u001b[0m \u001b[32m━━━━━━━━━━━━━━━━━━━━\u001b[0m\u001b[37m\u001b[0m \u001b[1m23s\u001b[0m 36ms/step - accuracy: 0.9798 - loss: 0.0579 - val_accuracy: 0.8708 - val_loss: 0.6018\n",
      "Epoch 11/20\n",
      "\u001b[1m625/625\u001b[0m \u001b[32m━━━━━━━━━━━━━━━━━━━━\u001b[0m\u001b[37m\u001b[0m \u001b[1m22s\u001b[0m 34ms/step - accuracy: 0.9855 - loss: 0.0427 - val_accuracy: 0.8562 - val_loss: 0.8951\n",
      "Epoch 12/20\n",
      "\u001b[1m625/625\u001b[0m \u001b[32m━━━━━━━━━━━━━━━━━━━━\u001b[0m\u001b[37m\u001b[0m \u001b[1m21s\u001b[0m 34ms/step - accuracy: 0.9886 - loss: 0.0333 - val_accuracy: 0.8718 - val_loss: 0.7323\n",
      "Epoch 13/20\n",
      "\u001b[1m625/625\u001b[0m \u001b[32m━━━━━━━━━━━━━━━━━━━━\u001b[0m\u001b[37m\u001b[0m \u001b[1m20s\u001b[0m 33ms/step - accuracy: 0.9920 - loss: 0.0257 - val_accuracy: 0.8722 - val_loss: 0.7760\n",
      "Epoch 14/20\n",
      "\u001b[1m625/625\u001b[0m \u001b[32m━━━━━━━━━━━━━━━━━━━━\u001b[0m\u001b[37m\u001b[0m \u001b[1m18s\u001b[0m 29ms/step - accuracy: 0.9909 - loss: 0.0246 - val_accuracy: 0.8650 - val_loss: 0.9545\n",
      "Epoch 15/20\n",
      "\u001b[1m625/625\u001b[0m \u001b[32m━━━━━━━━━━━━━━━━━━━━\u001b[0m\u001b[37m\u001b[0m \u001b[1m17s\u001b[0m 27ms/step - accuracy: 0.9945 - loss: 0.0148 - val_accuracy: 0.8756 - val_loss: 0.8816\n",
      "Epoch 16/20\n",
      "\u001b[1m625/625\u001b[0m \u001b[32m━━━━━━━━━━━━━━━━━━━━\u001b[0m\u001b[37m\u001b[0m \u001b[1m17s\u001b[0m 26ms/step - accuracy: 0.9950 - loss: 0.0145 - val_accuracy: 0.8634 - val_loss: 1.0933\n",
      "Epoch 17/20\n",
      "\u001b[1m625/625\u001b[0m \u001b[32m━━━━━━━━━━━━━━━━━━━━\u001b[0m\u001b[37m\u001b[0m \u001b[1m16s\u001b[0m 25ms/step - accuracy: 0.9960 - loss: 0.0132 - val_accuracy: 0.8660 - val_loss: 1.2625\n",
      "Epoch 18/20\n",
      "\u001b[1m625/625\u001b[0m \u001b[32m━━━━━━━━━━━━━━━━━━━━\u001b[0m\u001b[37m\u001b[0m \u001b[1m16s\u001b[0m 25ms/step - accuracy: 0.9974 - loss: 0.0095 - val_accuracy: 0.8724 - val_loss: 1.2272\n",
      "Epoch 19/20\n",
      "\u001b[1m625/625\u001b[0m \u001b[32m━━━━━━━━━━━━━━━━━━━━\u001b[0m\u001b[37m\u001b[0m \u001b[1m16s\u001b[0m 26ms/step - accuracy: 0.9958 - loss: 0.0131 - val_accuracy: 0.8762 - val_loss: 1.1048\n",
      "Epoch 20/20\n",
      "\u001b[1m625/625\u001b[0m \u001b[32m━━━━━━━━━━━━━━━━━━━━\u001b[0m\u001b[37m\u001b[0m \u001b[1m15s\u001b[0m 24ms/step - accuracy: 0.9970 - loss: 0.0095 - val_accuracy: 0.8680 - val_loss: 0.9483\n"
     ]
    }
   ],
   "source": [
    "callbacks = [\n",
    "    tf.keras.callbacks.ModelCheckpoint(\n",
    "        str(MODELS_DIR / \"full_transformer_encoder.keras\"),\n",
    "        save_best_only=True\n",
    "    )\n",
    "]\n",
    "\n",
    "history = model.fit(\n",
    "    int_train_ds,\n",
    "    validation_data=int_val_ds,\n",
    "    epochs=20,\n",
    "    callbacks=callbacks\n",
    ")"
   ]
  },
  {
   "cell_type": "code",
   "execution_count": 17,
   "metadata": {
    "colab": {
     "base_uri": "https://localhost:8080/",
     "height": 391
    },
    "id": "u1XgE4oaA6R9",
    "outputId": "29f929b0-5d01-4e99-9943-8e6c77e8a836"
   },
   "outputs": [
    {
     "data": {
      "image/png": "[encoded data removed]",
      "text/plain": [
       "<Figure size 1200x400 with 2 Axes>"
      ]
     },
     "metadata": {},
     "output_type": "display_data"
    }
   ],
   "source": [
    "plot_history(history) # overfitting also here"
   ]
  },
  {
   "cell_type": "code",
   "execution_count": 18,
   "metadata": {
    "colab": {
     "base_uri": "https://localhost:8080/"
    },
    "id": "4uZ1wwqsA6R9",
    "outputId": "84c81985-cf17-4ee1-ca8e-506b9da46512"
   },
   "outputs": [
    {
     "name": "stderr",
     "output_type": "stream",
     "text": [
      "/usr/local/lib/python3.10/dist-packages/keras/src/layers/layer.py:372: UserWarning: `build()` was called on layer 'positional_embedding', however the layer does not have a `build()` method implemented and it looks like it has unbuilt state. This will cause the layer to be marked as built, despite not being actually built, which may cause failures down the line. Make sure to implement a proper `build()` method.\n",
      "  warnings.warn(\n"
     ]
    },
    {
     "name": "stdout",
     "output_type": "stream",
     "text": [
      "\u001b[1m782/782\u001b[0m \u001b[32m━━━━━━━━━━━━━━━━━━━━\u001b[0m\u001b[37m\u001b[0m \u001b[1m8s\u001b[0m 9ms/step - accuracy: 0.8777 - loss: 0.2988\n",
      "Test acc: 0.878\n"
     ]
    }
   ],
   "source": [
    "model = tf.keras.models.load_model(\n",
    "    MODELS_DIR / \"full_transformer_encoder.keras\",\n",
    "    custom_objects={                                  # special load syntax as our model uses custom layers!\n",
    "        \"TransformerEncoder\": TransformerEncoder,\n",
    "        \"PositionalEmbedding\": PositionalEmbedding\n",
    "    }\n",
    ")\n",
    "print(f\"Test acc: {model.evaluate(int_test_ds)[1]:.3f}\")"
   ]
  },
  {
   "cell_type": "markdown",
   "metadata": {
    "id": "G4HvuEo0IV1N",
    "jp-MarkdownHeadingCollapsed": true
   },
   "source": [
    "### Save models to Google Drive\n"
   ]
  },
  {
   "cell_type": "code",
   "execution_count": 22,
   "metadata": {
    "id": "JYIXMpgSV2ks"
   },
   "outputs": [],
   "source": [
    "EXPORT=False\n",
    "\n",
    "if EXPORT:\n",
    "    # zip models\n",
    "    !zip aclImdb-transformer.models.zip {MODELS_DIR}/*\n",
    "    # connect to drive\n",
    "    from google.colab import drive\n",
    "    drive.mount('/content/drive')\n",
    "    # copy zip to drive (adjust folder as needed)\n",
    "    !cp aclImdb-transformer.models.zip drive/MyDrive/IS53024B-Artificial-Intelligence/models"
   ]
  },
  {
   "cell_type": "markdown",
   "metadata": {
    "id": "9F5iNBtxA6R9",
    "jp-MarkdownHeadingCollapsed": true
   },
   "source": [
    "---\n",
    "\n",
    "### 11.4.4 When to use sequence models over bag-of-words models?"
   ]
  },
  {
   "cell_type": "markdown",
   "metadata": {
    "id": "9F5iNBtxA6R9"
   },
   "source": [
    "<!-- ![Chollet When to use sequence models over bag-of-words models](images/chollet.when-to-use-bow.p349.png) -->\n",
    "![Chollet When to use sequence models over bag-of-words models](https://github.com/jchwenger/AI/blob/main/6-text-and-sequences/images/chollet.when-to-use-bow.p349.png?raw=true)\n",
    "\n",
    "<small>DLWP, p.349</small>"
   ]
  },
  {
   "cell_type": "markdown",
   "metadata": {
    "id": "KE35bphuA6R9"
   },
   "source": [
    "#### The Transformer applied to translation"
   ]
  },
  {
   "cell_type": "markdown",
   "metadata": {
    "id": "KE35bphuA6R9"
   },
   "source": [
    "The full Transformer (applied to translation) can be found in the notebook [`chapter11_part04_sequence_to_sequence_learning.ipynb`](https://github.com/jchwenger/AI/blob/main/6-additional-material/chapter11_part04_sequence_to_sequence_learning.ipynb)."
   ]
  },
  {
   "cell_type": "markdown",
   "metadata": {
    "id": "botkIyI1A6R9"
   },
   "source": [
    "#### The Transformer applied to vision"
   ]
  },
  {
   "cell_type": "markdown",
   "metadata": {
    "id": "botkIyI1A6R9"
   },
   "source": [
    "[Vision Transformers (ViT) Explained](https://www.pinecone.io/learn/vision-transformers/)\n",
    "\n",
    "Keras tutorial: [Image classification with Vision Transformer](https://keras.io/examples/vision/image_classification_with_vision_transformer/)"
   ]
  },
  {
   "cell_type": "markdown",
   "metadata": {
    "id": "rMIb0lKbA6R9"
   },
   "source": [
    "## Summary"
   ]
  },
  {
   "cell_type": "markdown",
   "metadata": {
    "id": "rMIb0lKbA6R9"
   },
   "source": [
    "#### Attention"
   ]
  },
  {
   "cell_type": "markdown",
   "metadata": {
    "id": "rMIb0lKbA6R9"
   },
   "source": [
    "- **Neural attention** is a way to create context-aware word representations, the basis for the **Transformer**.\n",
    "  - The operations are $\\bbox[5px,border:2px solid red]{“softmax(\\mathrm{Queries} \\cdot \\mathrm{Keys)} \\cdot \\mathrm{Values}”}$.\n",
    "  - **Multi-head** attention allows us to split the attention process (similar to different filters in a CNN), looking up different types of information in the input.\n",
    "  - To enforce causality / prevent lookaheads into the future, we use **masking** to zero out values.\n",
    "  - Attention **ignores order**: reinject that information with **Position Encoding**.\n",
    "  "
   ]
  },
  {
   "cell_type": "markdown",
   "metadata": {
    "id": "81vAkXyRA6R9"
   },
   "source": [
    "### Transformer  "
   ]
  },
  {
   "cell_type": "markdown",
   "metadata": {
    "id": "81vAkXyRA6R9"
   },
   "source": [
    "- The full **Transformer** architecture consists of a TransformerEncoder and a TransformerDecoder, has yielded great results in many fields.  \n",
    "    - The first half, the **TransformerEncoder**, can also be used for text classification or any sort of single-input NLP task.  \n",
    "    - The second half, the **TransformerDecoder**, can be used to generate text (like an RNN).  \n",
    "    - Both were developed together with translation in mind, on the basis of the **sequence to sequence** model."
   ]
  },
  {
   "cell_type": "markdown",
   "metadata": {
    "id": "81vAkXyRA6R9"
   },
   "source": [
    "#### Note"
   ]
  },
  {
   "cell_type": "markdown",
   "metadata": {
    "id": "81vAkXyRA6R9"
   },
   "source": [
    "When it comes to text classification, you can use Chollet's ratio to help you determine whether to use a bag-of-words model or a sequence model."
   ]
  }
 ],
 "metadata": {
  "accelerator": "GPU",
  "celltoolbar": "Slideshow",
  "colab": {
   "gpuType": "T4",
   "machine_shape": "hm",
   "provenance": []
  },
  "kernelspec": {
   "display_name": "Python 3 (ipykernel)",
   "language": "python",
   "name": "python3"
  },
  "language_info": {
   "codemirror_mode": {
    "name": "ipython",
    "version": 3
   },
   "file_extension": ".py",
   "mimetype": "text/x-python",
   "name": "python",
   "nbconvert_exporter": "python",
   "pygments_lexer": "ipython3",
   "version": "3.12.6"
  }
 },
 "nbformat": 4,
 "nbformat_minor": 4
}
