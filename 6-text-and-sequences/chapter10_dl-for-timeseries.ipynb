{
 "cells": [
  {
   "cell_type": "markdown",
   "metadata": {
    "id": "wrNWlOodxM-4"
   },
   "source": [
    "# Attendance\n",
    "\n",
    "[The link to SEAts](https://gold.seats.cloud/angular/#/lectures)"
   ]
  },
  {
   "cell_type": "markdown",
   "metadata": {
    "id": "lng94zBNxM-8"
   },
   "source": [
    "# Today\n",
    "\n",
    "- ## RNNs\n",
    "- ## NLP toolkit (text vectorisation, word embeddings)\n",
    "- ## Transformers"
   ]
  },
  {
   "cell_type": "markdown",
   "metadata": {
    "id": "ZlWwAiz8xM-8"
   },
   "source": [
    "# 10 Deep learning for timeseries"
   ]
  },
  {
   "cell_type": "code",
   "execution_count": 1,
   "metadata": {
    "id": "Hu6vPKtVxM-8"
   },
   "outputs": [],
   "source": [
    "import os\n",
    "import sys\n",
    "import pathlib\n",
    "\n",
    "import numpy as np\n",
    "import tensorflow as tf\n",
    "\n",
    "from tqdm import tqdm\n",
    "from matplotlib import pyplot as plt"
   ]
  },
  {
   "cell_type": "markdown",
   "metadata": {
    "id": "Qts_vFvqxM-9"
   },
   "source": [
    "---\n",
    "\n",
    "## 10.2 A temperature-forecasting example"
   ]
  },
  {
   "cell_type": "markdown",
   "metadata": {
    "id": "ewl9_rzSxM-9"
   },
   "source": [
    "### Download the data"
   ]
  },
  {
   "cell_type": "code",
   "execution_count": 2,
   "metadata": {
    "id": "hHYj6Qhmxq-r"
   },
   "outputs": [],
   "source": [
    "DATASET_DIR = pathlib.Path(\"jena\")\n",
    "\n",
    "if not DATASET_DIR.exists():\n",
    "    !wget https://s3.amazonaws.com/keras-datasets/jena_climate_2009_2016.csv.zip\n",
    "    !unzip jena_climate_2009_2016.csv.zip -d jena\n",
    "\n",
    "MODELS_DIR = pathlib.Path(\"models\")\n",
    "MODELS_DIR.mkdir(exist_ok=True)"
   ]
  },
  {
   "cell_type": "markdown",
   "metadata": {
    "id": "N83RDGTWxM-9"
   },
   "source": [
    "#### Inspecting the data of the Jena weather dataset"
   ]
  },
  {
   "cell_type": "code",
   "execution_count": 3,
   "metadata": {
    "colab": {
     "base_uri": "https://localhost:8080/"
    },
    "id": "WvSX-oFIxM-9",
    "outputId": "0e6e8411-9912-40d2-d712-a4fd478d1fea"
   },
   "outputs": [
    {
     "name": "stdout",
     "output_type": "stream",
     "text": [
      "0  | \"Date Time\"\n",
      "1  | \"p (mbar)\"\n",
      "2  | \u001b[1;3m\"T (degC)\" ← temperature in °C\u001b[0m\n",
      "3  | \"Tpot (K)\"\n",
      "4  | \"Tdew (degC)\"\n",
      "5  | \"rh (%)\"\n",
      "6  | \"VPmax (mbar)\"\n",
      "7  | \"VPact (mbar)\"\n",
      "8  | \"VPdef (mbar)\"\n",
      "9  | \"sh (g/kg)\"\n",
      "10 | \"H2OC (mmol/mol)\"\n",
      "11 | \"rho (g/m**3)\"\n",
      "12 | \"wv (m/s)\"\n",
      "13 | \"max. wv (m/s)\"\n",
      "14 | \"wd (deg)\"\n",
      "\n",
      "420451 lines\n"
     ]
    }
   ],
   "source": [
    "fname = DATASET_DIR / \"jena_climate_2009_2016.csv\"\n",
    "\n",
    "with open(fname) as f:\n",
    "    data = f.read()\n",
    "\n",
    "lines = data.split(\"\\n\")             # split on lines\n",
    "header = lines[0].split(\",\")         # first line is our header (split on commas)\n",
    "lines = lines[1:]                    # our data is all the next lines\n",
    "for i, feature in enumerate(header): # loop through our header items\n",
    "    if feature == '\"T (degC)\"':\n",
    "        print(f\"{i:<2} | \\033[1;3m{feature} ← temperature in °C\\033[0m\")\n",
    "    else:\n",
    "        print(f\"{i:<2} | {feature}\")\n",
    "\n",
    "print()\n",
    "print(f\"{len(lines)} lines\")"
   ]
  },
  {
   "cell_type": "markdown",
   "metadata": {
    "id": "ShVH5mtmxM--"
   },
   "source": [
    "#### Parsing the data"
   ]
  },
  {
   "cell_type": "code",
   "execution_count": 4,
   "metadata": {
    "colab": {
     "base_uri": "https://localhost:8080/"
    },
    "id": "dlPOp58BxM--",
    "outputId": "6c549716-e406-43a6-e2da-8f9170f27e29"
   },
   "outputs": [
    {
     "name": "stdout",
     "output_type": "stream",
     "text": [
      "loading numpy files\n"
     ]
    }
   ],
   "source": [
    "temperature = np.zeros((len(lines),))\n",
    "raw_data = np.zeros((len(lines), len(header) - 1))   # (len minus the date)\n",
    "\n",
    "if not os.path.isfile(DATASET_DIR / \"temperature.npy\") and not os.path.isfile(DATASET_DIR / \"raw_data.npz\"):\n",
    "    for i, line in tqdm(enumerate(lines), total=len(lines)):\n",
    "        values = [float(x) for x in line.split(\",\")[1:]] # (don't take the date)\n",
    "        temperature[i] = values[1]                       # temperature at index 1\n",
    "        raw_data[i, :] = values[:]\n",
    "    np.save(DATASET_DIR / \"temperature.npy\", temperature)   # save as binary data\n",
    "    np.save(DATASET_DIR / \"raw_data.npy\", raw_data)         # (much faster reloads)\n",
    "else:\n",
    "    print(\"loading numpy files\")\n",
    "    temperature = np.load(DATASET_DIR / \"temperature.npy\")\n",
    "    raw_data = np.load(DATASET_DIR / \"raw_data.npy\")"
   ]
  },
  {
   "cell_type": "markdown",
   "metadata": {
    "id": "f3sCUfojxM--"
   },
   "source": [
    "#### Plotting the temperature timeseries"
   ]
  },
  {
   "cell_type": "code",
   "execution_count": 5,
   "metadata": {
    "colab": {
     "base_uri": "https://localhost:8080/",
     "height": 452
    },
    "id": "uofg09lXxM--",
    "outputId": "bf34d244-046c-4161-8aa9-e011ffbf690f"
   },
   "outputs": [
    {
     "data": {
      "text/plain": [
       "[<matplotlib.lines.Line2D at 0x7df5b525b970>]"
      ]
     },
     "execution_count": 5,
     "metadata": {},
     "output_type": "execute_result"
    },
    {
     "data": {
      "image/png": "[encoded data removed]",
      "text/plain": [
       "<Figure size 640x480 with 1 Axes>"
      ]
     },
     "metadata": {},
     "output_type": "display_data"
    }
   ],
   "source": [
    "plt.plot(range(len(temperature)), temperature) # globally cyclical"
   ]
  },
  {
   "cell_type": "markdown",
   "metadata": {
    "id": "bw5o-sSFxM--"
   },
   "source": [
    "#### Plotting the first 10 days of the temperature timeseries"
   ]
  },
  {
   "cell_type": "code",
   "execution_count": 6,
   "metadata": {
    "colab": {
     "base_uri": "https://localhost:8080/",
     "height": 448
    },
    "id": "TZhXVPtcxM--",
    "outputId": "28366aac-cb14-4739-f4d1-cda1b9ee70a6"
   },
   "outputs": [
    {
     "data": {
      "text/plain": [
       "[<matplotlib.lines.Line2D at 0x7df5b469d2d0>]"
      ]
     },
     "execution_count": 6,
     "metadata": {},
     "output_type": "execute_result"
    },
    {
     "data": {
      "image/png": "[encoded data removed]",
      "text/plain": [
       "<Figure size 640x480 with 1 Axes>"
      ]
     },
     "metadata": {},
     "output_type": "display_data"
    }
   ],
   "source": [
    "plt.plot(range(1440), temperature[:1440]) # locally much less so"
   ]
  },
  {
   "cell_type": "markdown",
   "metadata": {
    "id": "ZLdXSxvixM-_"
   },
   "source": [
    "#### Computing the number of samples we'll use for each data split"
   ]
  },
  {
   "cell_type": "code",
   "execution_count": 7,
   "metadata": {
    "colab": {
     "base_uri": "https://localhost:8080/"
    },
    "id": "WKoIERKtxM-_",
    "outputId": "5579a8c2-8393-4513-8005-78ce877accb3"
   },
   "outputs": [
    {
     "name": "stdout",
     "output_type": "stream",
     "text": [
      "num_train_samples: 210225\n",
      "num_val_samples: 105112\n",
      "num_test_samples: 105114\n"
     ]
    }
   ],
   "source": [
    "num_train_samples = int(0.5 * len(raw_data))                           # 50% for training\n",
    "num_val_samples = int(0.25 * len(raw_data))                            # 25% for validation\n",
    "num_test_samples = len(raw_data) - num_train_samples - num_val_samples # the rest (25%) for test\n",
    "print(\"num_train_samples:\", num_train_samples)\n",
    "print(\"num_val_samples:\", num_val_samples)\n",
    "print(\"num_test_samples:\", num_test_samples)"
   ]
  },
  {
   "cell_type": "markdown",
   "metadata": {
    "id": "k2q60mHLxM-_"
   },
   "source": [
    "---\n",
    "\n",
    "### 10.2.1 Preparing the data"
   ]
  },
  {
   "cell_type": "markdown",
   "metadata": {
    "id": "oW9Hq9tfxM-_"
   },
   "source": [
    "#### Normalizing the data"
   ]
  },
  {
   "cell_type": "code",
   "execution_count": 8,
   "metadata": {
    "id": "3tBjlVdXxM-_"
   },
   "outputs": [],
   "source": [
    "mean = raw_data[:num_train_samples].mean(axis=0) # we use the train data only to normalise\n",
    "raw_data -= mean\n",
    "std = raw_data[:num_train_samples].std(axis=0)\n",
    "raw_data /= std"
   ]
  },
  {
   "cell_type": "markdown",
   "metadata": {
    "id": "zlEijzGxxM-_"
   },
   "source": [
    "What will our dataset look like? A sequence, and a next step.\n",
    "\n",
    "Documentation for [`tf.keras.utils.timeseries_dataset_from_array`](https://www.tensorflow.org/api_docs/python/tf/keras/utils/timeseries_dataset_from_array)."
   ]
  },
  {
   "cell_type": "code",
   "execution_count": 9,
   "metadata": {
    "colab": {
     "base_uri": "https://localhost:8080/"
    },
    "id": "sJ7SAyLxxM-_",
    "outputId": "654ae7ef-952c-47b9-b212-925eaff7f77a"
   },
   "outputs": [
    {
     "name": "stdout",
     "output_type": "stream",
     "text": [
      "----------------------------------------\n",
      "[0, 1, 2] 3\n",
      "[1, 2, 3] 4\n",
      "----------------------------------------\n",
      "[2, 3, 4] 5\n",
      "[3, 4, 5] 6\n",
      "----------------------------------------\n",
      "[4, 5, 6] 7\n"
     ]
    }
   ],
   "source": [
    "int_sequence = np.arange(10)\n",
    "dummy_dataset = tf.keras.utils.timeseries_dataset_from_array(\n",
    "    data=int_sequence[:-3],   # given our length, stop 3 before the end\n",
    "    targets=int_sequence[3:], # the first target will be at the fourth element\n",
    "    sequence_length=3,\n",
    "    batch_size=2,\n",
    ")\n",
    "\n",
    "for inputs, targets in dummy_dataset:\n",
    "    print(\"-\"*40)\n",
    "    for i in range(inputs.shape[0]): # loop over batch\n",
    "        print([int(x) for x in inputs[i]], int(targets[i]))"
   ]
  },
  {
   "cell_type": "markdown",
   "metadata": {
    "id": "6sRFH-mYxM-_"
   },
   "source": [
    "#### Instantiating datasets for training, validation, and testing"
   ]
  },
  {
   "cell_type": "code",
   "execution_count": 10,
   "metadata": {
    "id": "j4av8HgGxM-_"
   },
   "outputs": [],
   "source": [
    "sampling_rate = 6                                  # in the data, one sample every 10 mins: x 6 → one per hour\n",
    "sequence_length = 120                              # the length of our sequence is 5 days (120 hours)\n",
    "delay = sampling_rate * (sequence_length + 24 - 1) # target is 24h after the end of the sequence (one day after)\n",
    "BATCH_SIZE = 256\n",
    "\n",
    "train_dataset = tf.keras.utils.timeseries_dataset_from_array(\n",
    "    raw_data[:-delay],           # not beyond `delay` steps before the end (that's our targets)\n",
    "    targets=temperature[delay:], # first traget will start at `delay` step after the start\n",
    "    sampling_rate=sampling_rate,\n",
    "    sequence_length=sequence_length,\n",
    "    shuffle=True,\n",
    "    batch_size=BATCH_SIZE,\n",
    "    start_index=0,\n",
    "    end_index=num_train_samples\n",
    ")\n",
    "\n",
    "val_dataset = tf.keras.utils.timeseries_dataset_from_array(\n",
    "    raw_data[:-delay],\n",
    "    targets=temperature[delay:],\n",
    "    sampling_rate=sampling_rate,\n",
    "    sequence_length=sequence_length,\n",
    "    shuffle=True,\n",
    "    batch_size=BATCH_SIZE,\n",
    "    start_index=num_train_samples,                           # start after train\n",
    "    end_index=num_train_samples + num_val_samples\n",
    ")\n",
    "\n",
    "test_dataset = tf.keras.utils.timeseries_dataset_from_array(\n",
    "    raw_data[:-delay],\n",
    "    targets=temperature[delay:],\n",
    "    sampling_rate=sampling_rate,\n",
    "    sequence_length=sequence_length,\n",
    "    shuffle=True,\n",
    "    batch_size=BATCH_SIZE,\n",
    "    start_index=num_train_samples + num_val_samples         # start after train & val\n",
    ")"
   ]
  },
  {
   "cell_type": "markdown",
   "metadata": {
    "id": "xgbvmzUzxM-_"
   },
   "source": [
    "#### Inspecting the output of one of our datasets"
   ]
  },
  {
   "cell_type": "code",
   "execution_count": 11,
   "metadata": {
    "colab": {
     "base_uri": "https://localhost:8080/"
    },
    "id": "xXTpi9tMxM-_",
    "outputId": "e3f32984-2b3e-4515-d708-fae68cae1c92"
   },
   "outputs": [
    {
     "name": "stdout",
     "output_type": "stream",
     "text": [
      "samples shape: (256, 120, 14)\n",
      "targets shape: (256,)\n"
     ]
    }
   ],
   "source": [
    "for samples, targets in train_dataset:\n",
    "    print(\"samples shape:\", samples.shape)\n",
    "    print(\"targets shape:\", targets.shape)\n",
    "    break"
   ]
  },
  {
   "cell_type": "markdown",
   "metadata": {
    "id": "aWb4kGv5xM-_"
   },
   "source": [
    "---\n",
    "\n",
    "### 10.2.2 A common-sense, non-machine-learning baseline\n",
    "\n",
    "What would that look like for continuous data, like temperature?\n",
    "\n",
    "The assumptions that Chollet make (would it work for UK weather?!) are:\n",
    "\n",
    "> \"In this case, the temperature timeseries can safely be assumed to be continuous (the temperatures tomorrow are likely to be close to the temperatures today) as well as periodical with a daily period. Thus a common-sense approach is to always predict that the temperature 24 hours from now will be equal to the temperature right now.\" (DLWP, p. 288)\n",
    "\n",
    "This is similar to the Boston Housing dataset example we had: calculate the Mean Absolute Error (MAE)."
   ]
  },
  {
   "cell_type": "markdown",
   "metadata": {
    "id": "uwG9RUloxM-_"
   },
   "source": [
    "#### Computing the common-sense baseline MAE"
   ]
  },
  {
   "cell_type": "code",
   "execution_count": 12,
   "metadata": {
    "colab": {
     "base_uri": "https://localhost:8080/"
    },
    "id": "sVFdueS2xM-_",
    "outputId": "d6393aa9-4c8e-4997-e6d4-dd2cdb3df687"
   },
   "outputs": [
    {
     "name": "stdout",
     "output_type": "stream",
     "text": [
      "Validation MAE: 2.44\n",
      "Test MAE: 2.62\n"
     ]
    }
   ],
   "source": [
    "def evaluate_naive_method(dataset):\n",
    "    \"\"\"Evaluation: the target (in 24h) is identical to the last temperature measurement\"\"\"\n",
    "    total_abs_err = 0.\n",
    "    samples_seen = 0\n",
    "    for samples, targets in dataset:\n",
    "        #                   ┌ (the last sample, as our shape is: [samples, step, feature])\n",
    "        #        (batch ↓)  ↓ (↓ feature at index 1: temperature)\n",
    "        preds = samples[:, -1, 1] * std[1] + mean[1]     # unnormalize, same mean/std as in training\n",
    "        total_abs_err += np.sum(np.abs(preds - targets)) # absolute distance between current & in 24h\n",
    "        samples_seen += samples.shape[0]\n",
    "    return total_abs_err / samples_seen\n",
    "\n",
    "print(f\"Validation MAE: {evaluate_naive_method(val_dataset):.2f}\")\n",
    "print(f\"Test MAE: {evaluate_naive_method(test_dataset):.2f}\")"
   ]
  },
  {
   "cell_type": "markdown",
   "metadata": {
    "id": "ejWqSatixM_A"
   },
   "source": [
    "Can we beat this baseline?\n",
    "\n",
    "A common sense baseline is essential – otherwise we cannot calibrate the performance of any model.\n",
    "\n",
    "An ML baseline – a simple, cheap model – is also useful.\n",
    "\n",
    "Our focus is: **are sophisticated models worth the extra computational effort?**"
   ]
  },
  {
   "cell_type": "markdown",
   "metadata": {
    "id": "kLpI85lpxM_A"
   },
   "source": [
    "---\n",
    "### 10.2.3 Let's try a basic machine-learning model\n",
    "\n",
    "Our baseline model is a two layer (plus flattening layer) fully-connected feedforward network.\n",
    "\n",
    "#### Regression task\n",
    "\n",
    "The final layer has a single unit without activation.\n",
    "\n",
    "#### Loss\n",
    "Mean Squared Error (MSE)\n",
    "\n",
    "#### Metric\n",
    "\n",
    "Mean Absolute Error (MAE), so results are directly comparable to the common-sense baseline."
   ]
  },
  {
   "cell_type": "markdown",
   "metadata": {
    "id": "ttGOXlmsxM_A"
   },
   "source": [
    "#### Training and evaluating a densely connected model"
   ]
  },
  {
   "cell_type": "code",
   "execution_count": 13,
   "metadata": {
    "id": "8lSXj9F9xM_A"
   },
   "outputs": [],
   "source": [
    "inputs = tf.keras.Input(shape=(sequence_length, raw_data.shape[-1]))\n",
    "x = tf.keras.layers.Reshape((sequence_length * raw_data.shape[-1],))(inputs) # Flatten throws errors\n",
    "x = tf.keras.layers.Dense(16, activation=\"relu\")(x)\n",
    "outputs = tf.keras.layers.Dense(1)(x)\n",
    "model = tf.keras.Model(inputs, outputs)"
   ]
  },
  {
   "cell_type": "code",
   "execution_count": 14,
   "metadata": {
    "colab": {
     "base_uri": "https://localhost:8080/",
     "height": 265
    },
    "id": "dAc4D6tyxM_A",
    "outputId": "22f78b73-75ad-4e20-ed09-5e64fe626e5f"
   },
   "outputs": [
    {
     "data": {
      "text/html": [
       "<pre style=\"white-space:pre;overflow-x:auto;line-height:normal;font-family:Menlo,'DejaVu Sans Mono',consolas,'Courier New',monospace\"><span style=\"font-weight: bold\">Model: \"functional\"</span>\n",
       "</pre>\n"
      ],
      "text/plain": [
       "\u001b[1mModel: \"functional\"\u001b[0m\n"
      ]
     },
     "metadata": {},
     "output_type": "display_data"
    },
    {
     "data": {
      "text/html": [
       "<pre style=\"white-space:pre;overflow-x:auto;line-height:normal;font-family:Menlo,'DejaVu Sans Mono',consolas,'Courier New',monospace\">┏━━━━━━━━━━━━━━━━━━━━━━━━━━━━━━━━━━━━━━┳━━━━━━━━━━━━━━━━━━━━━━━━━━━━━┳━━━━━━━━━━━━━━━━━┓\n",
       "┃<span style=\"font-weight: bold\"> Layer (type)                         </span>┃<span style=\"font-weight: bold\"> Output Shape                </span>┃<span style=\"font-weight: bold\">         Param # </span>┃\n",
       "┡━━━━━━━━━━━━━━━━━━━━━━━━━━━━━━━━━━━━━━╇━━━━━━━━━━━━━━━━━━━━━━━━━━━━━╇━━━━━━━━━━━━━━━━━┩\n",
       "│ input_layer (<span style=\"color: #0087ff; text-decoration-color: #0087ff\">InputLayer</span>)             │ (<span style=\"color: #00d7ff; text-decoration-color: #00d7ff\">None</span>, <span style=\"color: #00af00; text-decoration-color: #00af00\">120</span>, <span style=\"color: #00af00; text-decoration-color: #00af00\">14</span>)             │               <span style=\"color: #00af00; text-decoration-color: #00af00\">0</span> │\n",
       "├──────────────────────────────────────┼─────────────────────────────┼─────────────────┤\n",
       "│ reshape (<span style=\"color: #0087ff; text-decoration-color: #0087ff\">Reshape</span>)                    │ (<span style=\"color: #00d7ff; text-decoration-color: #00d7ff\">None</span>, <span style=\"color: #00af00; text-decoration-color: #00af00\">1680</span>)                │               <span style=\"color: #00af00; text-decoration-color: #00af00\">0</span> │\n",
       "├──────────────────────────────────────┼─────────────────────────────┼─────────────────┤\n",
       "│ dense (<span style=\"color: #0087ff; text-decoration-color: #0087ff\">Dense</span>)                        │ (<span style=\"color: #00d7ff; text-decoration-color: #00d7ff\">None</span>, <span style=\"color: #00af00; text-decoration-color: #00af00\">16</span>)                  │          <span style=\"color: #00af00; text-decoration-color: #00af00\">26,896</span> │\n",
       "├──────────────────────────────────────┼─────────────────────────────┼─────────────────┤\n",
       "│ dense_1 (<span style=\"color: #0087ff; text-decoration-color: #0087ff\">Dense</span>)                      │ (<span style=\"color: #00d7ff; text-decoration-color: #00d7ff\">None</span>, <span style=\"color: #00af00; text-decoration-color: #00af00\">1</span>)                   │              <span style=\"color: #00af00; text-decoration-color: #00af00\">17</span> │\n",
       "└──────────────────────────────────────┴─────────────────────────────┴─────────────────┘\n",
       "</pre>\n"
      ],
      "text/plain": [
       "┏━━━━━━━━━━━━━━━━━━━━━━━━━━━━━━━━━━━━━━┳━━━━━━━━━━━━━━━━━━━━━━━━━━━━━┳━━━━━━━━━━━━━━━━━┓\n",
       "┃\u001b[1m \u001b[0m\u001b[1mLayer (type)                        \u001b[0m\u001b[1m \u001b[0m┃\u001b[1m \u001b[0m\u001b[1mOutput Shape               \u001b[0m\u001b[1m \u001b[0m┃\u001b[1m \u001b[0m\u001b[1m        Param #\u001b[0m\u001b[1m \u001b[0m┃\n",
       "┡━━━━━━━━━━━━━━━━━━━━━━━━━━━━━━━━━━━━━━╇━━━━━━━━━━━━━━━━━━━━━━━━━━━━━╇━━━━━━━━━━━━━━━━━┩\n",
       "│ input_layer (\u001b[38;5;33mInputLayer\u001b[0m)             │ (\u001b[38;5;45mNone\u001b[0m, \u001b[38;5;34m120\u001b[0m, \u001b[38;5;34m14\u001b[0m)             │               \u001b[38;5;34m0\u001b[0m │\n",
       "├──────────────────────────────────────┼─────────────────────────────┼─────────────────┤\n",
       "│ reshape (\u001b[38;5;33mReshape\u001b[0m)                    │ (\u001b[38;5;45mNone\u001b[0m, \u001b[38;5;34m1680\u001b[0m)                │               \u001b[38;5;34m0\u001b[0m │\n",
       "├──────────────────────────────────────┼─────────────────────────────┼─────────────────┤\n",
       "│ dense (\u001b[38;5;33mDense\u001b[0m)                        │ (\u001b[38;5;45mNone\u001b[0m, \u001b[38;5;34m16\u001b[0m)                  │          \u001b[38;5;34m26,896\u001b[0m │\n",
       "├──────────────────────────────────────┼─────────────────────────────┼─────────────────┤\n",
       "│ dense_1 (\u001b[38;5;33mDense\u001b[0m)                      │ (\u001b[38;5;45mNone\u001b[0m, \u001b[38;5;34m1\u001b[0m)                   │              \u001b[38;5;34m17\u001b[0m │\n",
       "└──────────────────────────────────────┴─────────────────────────────┴─────────────────┘\n"
      ]
     },
     "metadata": {},
     "output_type": "display_data"
    },
    {
     "data": {
      "text/html": [
       "<pre style=\"white-space:pre;overflow-x:auto;line-height:normal;font-family:Menlo,'DejaVu Sans Mono',consolas,'Courier New',monospace\"><span style=\"font-weight: bold\"> Total params: </span><span style=\"color: #00af00; text-decoration-color: #00af00\">26,913</span> (105.13 KB)\n",
       "</pre>\n"
      ],
      "text/plain": [
       "\u001b[1m Total params: \u001b[0m\u001b[38;5;34m26,913\u001b[0m (105.13 KB)\n"
      ]
     },
     "metadata": {},
     "output_type": "display_data"
    },
    {
     "data": {
      "text/html": [
       "<pre style=\"white-space:pre;overflow-x:auto;line-height:normal;font-family:Menlo,'DejaVu Sans Mono',consolas,'Courier New',monospace\"><span style=\"font-weight: bold\"> Trainable params: </span><span style=\"color: #00af00; text-decoration-color: #00af00\">26,913</span> (105.13 KB)\n",
       "</pre>\n"
      ],
      "text/plain": [
       "\u001b[1m Trainable params: \u001b[0m\u001b[38;5;34m26,913\u001b[0m (105.13 KB)\n"
      ]
     },
     "metadata": {},
     "output_type": "display_data"
    },
    {
     "data": {
      "text/html": [
       "<pre style=\"white-space:pre;overflow-x:auto;line-height:normal;font-family:Menlo,'DejaVu Sans Mono',consolas,'Courier New',monospace\"><span style=\"font-weight: bold\"> Non-trainable params: </span><span style=\"color: #00af00; text-decoration-color: #00af00\">0</span> (0.00 B)\n",
       "</pre>\n"
      ],
      "text/plain": [
       "\u001b[1m Non-trainable params: \u001b[0m\u001b[38;5;34m0\u001b[0m (0.00 B)\n"
      ]
     },
     "metadata": {},
     "output_type": "display_data"
    }
   ],
   "source": [
    "model.summary()"
   ]
  },
  {
   "cell_type": "code",
   "execution_count": 15,
   "metadata": {
    "colab": {
     "base_uri": "https://localhost:8080/"
    },
    "id": "rth7V1vjxM_A",
    "outputId": "fe545997-95a6-4232-967f-dfc4603e9671"
   },
   "outputs": [
    {
     "name": "stdout",
     "output_type": "stream",
     "text": [
      "Epoch 1/10\n",
      "\u001b[1m819/819\u001b[0m \u001b[32m━━━━━━━━━━━━━━━━━━━━\u001b[0m\u001b[37m\u001b[0m \u001b[1m42s\u001b[0m 49ms/step - loss: 21.5293 - mae: 3.5000 - val_loss: 13.1392 - val_mae: 2.8519\n",
      "Epoch 2/10\n",
      "\u001b[1m819/819\u001b[0m \u001b[32m━━━━━━━━━━━━━━━━━━━━\u001b[0m\u001b[37m\u001b[0m \u001b[1m90s\u001b[0m 60ms/step - loss: 9.9618 - mae: 2.4801 - val_loss: 10.1338 - val_mae: 2.5196\n",
      "Epoch 3/10\n",
      "\u001b[1m819/819\u001b[0m \u001b[32m━━━━━━━━━━━━━━━━━━━━\u001b[0m\u001b[37m\u001b[0m \u001b[1m79s\u001b[0m 57ms/step - loss: 8.9977 - mae: 2.3596 - val_loss: 10.9208 - val_mae: 2.6092\n",
      "Epoch 4/10\n",
      "\u001b[1m819/819\u001b[0m \u001b[32m━━━━━━━━━━━━━━━━━━━━\u001b[0m\u001b[37m\u001b[0m \u001b[1m38s\u001b[0m 46ms/step - loss: 8.5397 - mae: 2.3001 - val_loss: 11.1531 - val_mae: 2.6619\n",
      "Epoch 5/10\n",
      "\u001b[1m819/819\u001b[0m \u001b[32m━━━━━━━━━━━━━━━━━━━━\u001b[0m\u001b[37m\u001b[0m \u001b[1m50s\u001b[0m 57ms/step - loss: 8.1362 - mae: 2.2436 - val_loss: 11.3650 - val_mae: 2.6970\n",
      "Epoch 6/10\n",
      "\u001b[1m819/819\u001b[0m \u001b[32m━━━━━━━━━━━━━━━━━━━━\u001b[0m\u001b[37m\u001b[0m \u001b[1m82s\u001b[0m 57ms/step - loss: 7.8087 - mae: 2.2005 - val_loss: 10.7751 - val_mae: 2.6179\n",
      "Epoch 7/10\n",
      "\u001b[1m819/819\u001b[0m \u001b[32m━━━━━━━━━━━━━━━━━━━━\u001b[0m\u001b[37m\u001b[0m \u001b[1m40s\u001b[0m 48ms/step - loss: 7.6415 - mae: 2.1768 - val_loss: 10.9092 - val_mae: 2.6334\n",
      "Epoch 8/10\n",
      "\u001b[1m819/819\u001b[0m \u001b[32m━━━━━━━━━━━━━━━━━━━━\u001b[0m\u001b[37m\u001b[0m \u001b[1m47s\u001b[0m 57ms/step - loss: 7.3712 - mae: 2.1391 - val_loss: 11.7071 - val_mae: 2.7082\n",
      "Epoch 9/10\n",
      "\u001b[1m819/819\u001b[0m \u001b[32m━━━━━━━━━━━━━━━━━━━━\u001b[0m\u001b[37m\u001b[0m \u001b[1m47s\u001b[0m 57ms/step - loss: 7.2413 - mae: 2.1230 - val_loss: 11.0476 - val_mae: 2.6383\n",
      "Epoch 10/10\n",
      "\u001b[1m819/819\u001b[0m \u001b[32m━━━━━━━━━━━━━━━━━━━━\u001b[0m\u001b[37m\u001b[0m \u001b[1m39s\u001b[0m 47ms/step - loss: 7.0555 - mae: 2.0971 - val_loss: 11.4218 - val_mae: 2.6846\n"
     ]
    }
   ],
   "source": [
    "callbacks = [\n",
    "    tf.keras.callbacks.ModelCheckpoint(\n",
    "        str(MODELS_DIR / \"jena_dense.keras\"),\n",
    "        save_best_only=True\n",
    "    )\n",
    "]\n",
    "\n",
    "model.compile(\n",
    "    optimizer=\"rmsprop\",\n",
    "    loss=\"mse\",\n",
    "    metrics=[\"mae\"]\n",
    ")\n",
    "\n",
    "history = model.fit(\n",
    "    train_dataset,\n",
    "    epochs=10,\n",
    "    validation_data=val_dataset,\n",
    "    callbacks=callbacks\n",
    ")"
   ]
  },
  {
   "cell_type": "code",
   "execution_count": 16,
   "metadata": {
    "colab": {
     "base_uri": "https://localhost:8080/"
    },
    "id": "_8LMK240xM_A",
    "outputId": "05cf7df6-b77f-4248-9b87-c570509df28b",
    "scrolled": true
   },
   "outputs": [
    {
     "name": "stdout",
     "output_type": "stream",
     "text": [
      "\u001b[1m405/405\u001b[0m \u001b[32m━━━━━━━━━━━━━━━━━━━━\u001b[0m\u001b[37m\u001b[0m \u001b[1m14s\u001b[0m 33ms/step - loss: 11.3264 - mae: 2.6537\n",
      "Test MAE: 2.66\n"
     ]
    }
   ],
   "source": [
    "model = tf.keras.models.load_model(MODELS_DIR / \"jena_dense.keras\")\n",
    "print(f\"Test MAE: {model.evaluate(test_dataset)[1]:.2f}\")"
   ]
  },
  {
   "cell_type": "markdown",
   "metadata": {
    "id": "95ju6_kyxM_A"
   },
   "source": [
    "We haven't beaten the common sense baseline!\n",
    "\n",
    "The model is worse than common sense.\n",
    "\n",
    "The machine is not privy to the wealth of human experiential evidence.\n",
    "\n",
    "But why hasn't the machine found our simple model: that tomorrow's temperature will be pretty similar to today's?\n"
   ]
  },
  {
   "cell_type": "markdown",
   "metadata": {
    "id": "XkgUMR5OxM_A"
   },
   "source": [
    "The hypothesis space is the *space of all two layer networks*.\n",
    "\n",
    "Already a very complicated space.\n",
    "\n",
    "The simple baseline might hidden in a tiny corner of this vast, intricate hypothesis space."
   ]
  },
  {
   "cell_type": "markdown",
   "metadata": {
    "id": "XpQiQHfOxM_A"
   },
   "source": [
    "ML limitation: parameter learning can fail to find a simple solution to a simple problem.\n",
    "\n",
    "Of course we could hard-code models to look for a specific kind of solution but we wish to avoid excessive feature engineering."
   ]
  },
  {
   "cell_type": "markdown",
   "metadata": {
    "id": "QJpWcEFFxM_E"
   },
   "source": [
    "#### Plotting results"
   ]
  },
  {
   "cell_type": "code",
   "execution_count": 17,
   "metadata": {
    "id": "2Sm20_OLxM_E"
   },
   "outputs": [],
   "source": [
    "def plot_history(history):\n",
    "    loss = history.history[\"mae\"]\n",
    "    val_loss = history.history[\"val_mae\"]\n",
    "    epochs = range(1, len(loss) + 1)\n",
    "    plt.figure()\n",
    "    plt.plot(epochs, loss, label=\"Training MAE\")\n",
    "    plt.plot(epochs, val_loss, label=\"Validation MAE\")\n",
    "    plt.title(\"Training and validation MAE\")\n",
    "    plt.legend()\n",
    "    plt.show()"
   ]
  },
  {
   "cell_type": "code",
   "execution_count": 18,
   "metadata": {
    "colab": {
     "base_uri": "https://localhost:8080/",
     "height": 452
    },
    "id": "WepUxh7XxM_E",
    "outputId": "77aa38f4-491e-4893-bafa-76a8fdfc587e"
   },
   "outputs": [
    {
     "data": {
      "image/png": "[encoded data removed]",
      "text/plain": [
       "<Figure size 640x480 with 1 Axes>"
      ]
     },
     "metadata": {},
     "output_type": "display_data"
    }
   ],
   "source": [
    "plot_history(history)"
   ]
  },
  {
   "cell_type": "markdown",
   "metadata": {
    "id": "WJZYkbQXxM_E"
   },
   "source": [
    "---\n",
    "\n",
    "### 10.2.4 Let's try a 1D convolutional model"
   ]
  },
  {
   "cell_type": "markdown",
   "metadata": {
    "id": "0vcpapTexM_E"
   },
   "source": [
    "Convnets extract and modularise salient 2D information from local patches.\n",
    "\n",
    "1D data – timeseries – might have similar local regularities.\n",
    "\n",
    "And then 1D convnets would provide a cheap alternative to RNNs."
   ]
  },
  {
   "cell_type": "markdown",
   "metadata": {
    "id": "4DHJ0ZV_xM_E"
   },
   "source": [
    "1D Pooling works just like 2D pooling – max (or average) pooling.\n",
    "\n",
    "Used for subsampling – reducing the length of 1D inputs."
   ]
  },
  {
   "cell_type": "markdown",
   "metadata": {
    "id": "DWsxD88sxM_E"
   },
   "source": [
    "<!-- <img src=\"images/convolutions/1d-conv.png\"> -->\n",
    "<img src=\"https://github.com/jchwenger/AI/blob/main/6-text-and-sequences/images/convolutions/1d-conv.png?raw=true\">\n",
    "\n",
    "<small>[Castro et al., \"STConvS2S: Spatiotemporal Convolutional Sequence to Sequence Network for weather forecasting\", ResearchGate](https://www.researchgate.net/figure/Causal-convolution-operation-in-a-1D-convolutional-layer-with-k-3-kernel-size-Input_fig1_337703712)</small>"
   ]
  },
  {
   "cell_type": "code",
   "execution_count": 19,
   "metadata": {
    "id": "V8PkWxt_xM_E"
   },
   "outputs": [],
   "source": [
    "tf.keras.backend.clear_session()\n",
    "\n",
    "inputs = tf.keras.Input(shape=(sequence_length, raw_data.shape[-1]))\n",
    "                            # ↓ note the larger convolution window: 24\n",
    "x = tf.keras.layers.Conv1D(8, 24, activation=\"relu\")(inputs)\n",
    "x = tf.keras.layers.MaxPooling1D(2)(x)\n",
    "x = tf.keras.layers.Conv1D(8, 12, activation=\"relu\")(x)\n",
    "x = tf.keras.layers.MaxPooling1D(2)(x)\n",
    "x = tf.keras.layers.Conv1D(8, 6, activation=\"relu\")(x)\n",
    "x = tf.keras.layers.GlobalAveragePooling1D()(x)\n",
    "outputs = tf.keras.layers.Dense(1)(x)\n",
    "model = tf.keras.Model(inputs, outputs)"
   ]
  },
  {
   "cell_type": "code",
   "execution_count": 20,
   "metadata": {
    "colab": {
     "base_uri": "https://localhost:8080/"
    },
    "id": "Y4QTqXB6xM_E",
    "outputId": "e6c04b98-10d1-47a8-b1aa-1dad6e2469fa"
   },
   "outputs": [
    {
     "name": "stdout",
     "output_type": "stream",
     "text": [
      "Epoch 1/10\n",
      "\u001b[1m819/819\u001b[0m \u001b[32m━━━━━━━━━━━━━━━━━━━━\u001b[0m\u001b[37m\u001b[0m \u001b[1m45s\u001b[0m 50ms/step - loss: 30.2033 - mae: 4.2580 - val_loss: 17.3102 - val_mae: 3.2523\n",
      "Epoch 2/10\n",
      "\u001b[1m819/819\u001b[0m \u001b[32m━━━━━━━━━━━━━━━━━━━━\u001b[0m\u001b[37m\u001b[0m \u001b[1m39s\u001b[0m 48ms/step - loss: 16.5024 - mae: 3.2363 - val_loss: 14.7753 - val_mae: 3.0361\n",
      "Epoch 3/10\n",
      "\u001b[1m819/819\u001b[0m \u001b[32m━━━━━━━━━━━━━━━━━━━━\u001b[0m\u001b[37m\u001b[0m \u001b[1m52s\u001b[0m 61ms/step - loss: 14.7930 - mae: 3.0589 - val_loss: 18.9171 - val_mae: 3.3737\n",
      "Epoch 4/10\n",
      "\u001b[1m819/819\u001b[0m \u001b[32m━━━━━━━━━━━━━━━━━━━━\u001b[0m\u001b[37m\u001b[0m \u001b[1m70s\u001b[0m 46ms/step - loss: 13.8105 - mae: 2.9495 - val_loss: 16.0089 - val_mae: 3.1265\n",
      "Epoch 5/10\n",
      "\u001b[1m819/819\u001b[0m \u001b[32m━━━━━━━━━━━━━━━━━━━━\u001b[0m\u001b[37m\u001b[0m \u001b[1m42s\u001b[0m 47ms/step - loss: 13.0166 - mae: 2.8593 - val_loss: 15.3663 - val_mae: 3.0748\n",
      "Epoch 6/10\n",
      "\u001b[1m819/819\u001b[0m \u001b[32m━━━━━━━━━━━━━━━━━━━━\u001b[0m\u001b[37m\u001b[0m \u001b[1m41s\u001b[0m 47ms/step - loss: 12.5144 - mae: 2.7984 - val_loss: 14.9314 - val_mae: 3.0332\n",
      "Epoch 7/10\n",
      "\u001b[1m819/819\u001b[0m \u001b[32m━━━━━━━━━━━━━━━━━━━━\u001b[0m\u001b[37m\u001b[0m \u001b[1m41s\u001b[0m 47ms/step - loss: 12.0092 - mae: 2.7413 - val_loss: 15.1134 - val_mae: 3.0424\n",
      "Epoch 8/10\n",
      "\u001b[1m819/819\u001b[0m \u001b[32m━━━━━━━━━━━━━━━━━━━━\u001b[0m\u001b[37m\u001b[0m \u001b[1m50s\u001b[0m 58ms/step - loss: 11.6010 - mae: 2.6941 - val_loss: 15.5449 - val_mae: 3.1193\n",
      "Epoch 9/10\n",
      "\u001b[1m819/819\u001b[0m \u001b[32m━━━━━━━━━━━━━━━━━━━━\u001b[0m\u001b[37m\u001b[0m \u001b[1m40s\u001b[0m 49ms/step - loss: 11.2657 - mae: 2.6530 - val_loss: 17.6880 - val_mae: 3.2846\n",
      "Epoch 10/10\n",
      "\u001b[1m819/819\u001b[0m \u001b[32m━━━━━━━━━━━━━━━━━━━━\u001b[0m\u001b[37m\u001b[0m \u001b[1m42s\u001b[0m 50ms/step - loss: 10.9166 - mae: 2.6094 - val_loss: 19.3710 - val_mae: 3.3887\n"
     ]
    }
   ],
   "source": [
    "callbacks = [\n",
    "    tf.keras.callbacks.ModelCheckpoint(\n",
    "        str(MODELS_DIR / \"jena_conv.keras\"),\n",
    "        save_best_only=True\n",
    "    )\n",
    "]\n",
    "\n",
    "model.compile(\n",
    "    optimizer=\"rmsprop\",\n",
    "    loss=\"mse\",\n",
    "    metrics=[\"mae\"]\n",
    ")\n",
    "\n",
    "history = model.fit(\n",
    "    train_dataset,\n",
    "    epochs=10,\n",
    "    validation_data=val_dataset,\n",
    "    callbacks=callbacks\n",
    ")"
   ]
  },
  {
   "cell_type": "code",
   "execution_count": 21,
   "metadata": {
    "colab": {
     "base_uri": "https://localhost:8080/",
     "height": 452
    },
    "id": "FAizMIZQxM_E",
    "outputId": "2c265bed-ec0c-456b-af88-1011c3619f65"
   },
   "outputs": [
    {
     "data": {
      "image/png": "[encoded data removed]",
      "text/plain": [
       "<Figure size 640x480 with 1 Axes>"
      ]
     },
     "metadata": {},
     "output_type": "display_data"
    }
   ],
   "source": [
    "plot_history(history)"
   ]
  },
  {
   "cell_type": "code",
   "execution_count": 23,
   "metadata": {
    "colab": {
     "base_uri": "https://localhost:8080/"
    },
    "id": "2uDDxIBQxM_E",
    "outputId": "4f4cfe56-6ef6-41ba-a35e-9ba2efd7acfb"
   },
   "outputs": [
    {
     "name": "stdout",
     "output_type": "stream",
     "text": [
      "\u001b[1m405/405\u001b[0m \u001b[32m━━━━━━━━━━━━━━━━━━━━\u001b[0m\u001b[37m\u001b[0m \u001b[1m14s\u001b[0m 33ms/step - loss: 17.0271 - mae: 3.2666\n",
      "Test MAE: 3.27\n"
     ]
    }
   ],
   "source": [
    "model = tf.keras.models.load_model(MODELS_DIR / \"jena_conv.keras\")\n",
    "print(f\"Test MAE: {model.evaluate(test_dataset)[1]:.2f}\")\n",
    "del model # Not as good performance as the baseline or RNNs/LSTMs, but cheaper to run!"
   ]
  },
  {
   "cell_type": "markdown",
   "metadata": {
    "id": "adZM4FUqxM_E"
   },
   "source": [
    "Even worse! What went wrong?\n",
    "\n",
    "Two things:\n",
    "- weather data doesn't quite respect translational invariance: patterns are not quite the same in the morning, noon, and evening – invariance only happens at a specific scale;\n",
    "- *order* in our data matters a lot, with the recent past especially influencing the future: a ConvNet cannot leverage this (DLWP, p. 291)"
   ]
  },
  {
   "cell_type": "markdown",
   "metadata": {
    "id": "T47W71WMxM_E"
   },
   "source": [
    "---\n",
    "\n",
    "### 10.2.5 A first recurrent baseline\n",
    "\n",
    "Perhaps causality and order matter (weather is not actually random, but follows day-by-day patterns).\n",
    "\n",
    "We need an order-preserving model – an RNN."
   ]
  },
  {
   "cell_type": "markdown",
   "metadata": {
    "id": "43ifbJK4xM_E"
   },
   "source": [
    "#### A simple LSTM-based model"
   ]
  },
  {
   "cell_type": "code",
   "execution_count": 24,
   "metadata": {
    "id": "drE5TOScxM_E"
   },
   "outputs": [],
   "source": [
    "tf.keras.backend.clear_session()\n",
    "\n",
    "inputs = tf.keras.Input(shape=(sequence_length, raw_data.shape[-1]))\n",
    "x = tf.keras.layers.LSTM(16)(inputs) # ← our LSTM\n",
    "outputs = tf.keras.layers.Dense(1)(x)\n",
    "model = tf.keras.Model(inputs, outputs)"
   ]
  },
  {
   "cell_type": "code",
   "execution_count": 25,
   "metadata": {
    "colab": {
     "base_uri": "https://localhost:8080/",
     "height": 232
    },
    "id": "H8qHDwCexM_E",
    "outputId": "ecebde1e-2423-44fd-fdd7-95775d2d9bf6"
   },
   "outputs": [
    {
     "data": {
      "text/html": [
       "<pre style=\"white-space:pre;overflow-x:auto;line-height:normal;font-family:Menlo,'DejaVu Sans Mono',consolas,'Courier New',monospace\"><span style=\"font-weight: bold\">Model: \"functional\"</span>\n",
       "</pre>\n"
      ],
      "text/plain": [
       "\u001b[1mModel: \"functional\"\u001b[0m\n"
      ]
     },
     "metadata": {},
     "output_type": "display_data"
    },
    {
     "data": {
      "text/html": [
       "<pre style=\"white-space:pre;overflow-x:auto;line-height:normal;font-family:Menlo,'DejaVu Sans Mono',consolas,'Courier New',monospace\">┏━━━━━━━━━━━━━━━━━━━━━━━━━━━━━━━━━━━━━━┳━━━━━━━━━━━━━━━━━━━━━━━━━━━━━┳━━━━━━━━━━━━━━━━━┓\n",
       "┃<span style=\"font-weight: bold\"> Layer (type)                         </span>┃<span style=\"font-weight: bold\"> Output Shape                </span>┃<span style=\"font-weight: bold\">         Param # </span>┃\n",
       "┡━━━━━━━━━━━━━━━━━━━━━━━━━━━━━━━━━━━━━━╇━━━━━━━━━━━━━━━━━━━━━━━━━━━━━╇━━━━━━━━━━━━━━━━━┩\n",
       "│ input_layer (<span style=\"color: #0087ff; text-decoration-color: #0087ff\">InputLayer</span>)             │ (<span style=\"color: #00d7ff; text-decoration-color: #00d7ff\">None</span>, <span style=\"color: #00af00; text-decoration-color: #00af00\">120</span>, <span style=\"color: #00af00; text-decoration-color: #00af00\">14</span>)             │               <span style=\"color: #00af00; text-decoration-color: #00af00\">0</span> │\n",
       "├──────────────────────────────────────┼─────────────────────────────┼─────────────────┤\n",
       "│ lstm (<span style=\"color: #0087ff; text-decoration-color: #0087ff\">LSTM</span>)                          │ (<span style=\"color: #00d7ff; text-decoration-color: #00d7ff\">None</span>, <span style=\"color: #00af00; text-decoration-color: #00af00\">16</span>)                  │           <span style=\"color: #00af00; text-decoration-color: #00af00\">1,984</span> │\n",
       "├──────────────────────────────────────┼─────────────────────────────┼─────────────────┤\n",
       "│ dense (<span style=\"color: #0087ff; text-decoration-color: #0087ff\">Dense</span>)                        │ (<span style=\"color: #00d7ff; text-decoration-color: #00d7ff\">None</span>, <span style=\"color: #00af00; text-decoration-color: #00af00\">1</span>)                   │              <span style=\"color: #00af00; text-decoration-color: #00af00\">17</span> │\n",
       "└──────────────────────────────────────┴─────────────────────────────┴─────────────────┘\n",
       "</pre>\n"
      ],
      "text/plain": [
       "┏━━━━━━━━━━━━━━━━━━━━━━━━━━━━━━━━━━━━━━┳━━━━━━━━━━━━━━━━━━━━━━━━━━━━━┳━━━━━━━━━━━━━━━━━┓\n",
       "┃\u001b[1m \u001b[0m\u001b[1mLayer (type)                        \u001b[0m\u001b[1m \u001b[0m┃\u001b[1m \u001b[0m\u001b[1mOutput Shape               \u001b[0m\u001b[1m \u001b[0m┃\u001b[1m \u001b[0m\u001b[1m        Param #\u001b[0m\u001b[1m \u001b[0m┃\n",
       "┡━━━━━━━━━━━━━━━━━━━━━━━━━━━━━━━━━━━━━━╇━━━━━━━━━━━━━━━━━━━━━━━━━━━━━╇━━━━━━━━━━━━━━━━━┩\n",
       "│ input_layer (\u001b[38;5;33mInputLayer\u001b[0m)             │ (\u001b[38;5;45mNone\u001b[0m, \u001b[38;5;34m120\u001b[0m, \u001b[38;5;34m14\u001b[0m)             │               \u001b[38;5;34m0\u001b[0m │\n",
       "├──────────────────────────────────────┼─────────────────────────────┼─────────────────┤\n",
       "│ lstm (\u001b[38;5;33mLSTM\u001b[0m)                          │ (\u001b[38;5;45mNone\u001b[0m, \u001b[38;5;34m16\u001b[0m)                  │           \u001b[38;5;34m1,984\u001b[0m │\n",
       "├──────────────────────────────────────┼─────────────────────────────┼─────────────────┤\n",
       "│ dense (\u001b[38;5;33mDense\u001b[0m)                        │ (\u001b[38;5;45mNone\u001b[0m, \u001b[38;5;34m1\u001b[0m)                   │              \u001b[38;5;34m17\u001b[0m │\n",
       "└──────────────────────────────────────┴─────────────────────────────┴─────────────────┘\n"
      ]
     },
     "metadata": {},
     "output_type": "display_data"
    },
    {
     "data": {
      "text/html": [
       "<pre style=\"white-space:pre;overflow-x:auto;line-height:normal;font-family:Menlo,'DejaVu Sans Mono',consolas,'Courier New',monospace\"><span style=\"font-weight: bold\"> Total params: </span><span style=\"color: #00af00; text-decoration-color: #00af00\">2,001</span> (7.82 KB)\n",
       "</pre>\n"
      ],
      "text/plain": [
       "\u001b[1m Total params: \u001b[0m\u001b[38;5;34m2,001\u001b[0m (7.82 KB)\n"
      ]
     },
     "metadata": {},
     "output_type": "display_data"
    },
    {
     "data": {
      "text/html": [
       "<pre style=\"white-space:pre;overflow-x:auto;line-height:normal;font-family:Menlo,'DejaVu Sans Mono',consolas,'Courier New',monospace\"><span style=\"font-weight: bold\"> Trainable params: </span><span style=\"color: #00af00; text-decoration-color: #00af00\">2,001</span> (7.82 KB)\n",
       "</pre>\n"
      ],
      "text/plain": [
       "\u001b[1m Trainable params: \u001b[0m\u001b[38;5;34m2,001\u001b[0m (7.82 KB)\n"
      ]
     },
     "metadata": {},
     "output_type": "display_data"
    },
    {
     "data": {
      "text/html": [
       "<pre style=\"white-space:pre;overflow-x:auto;line-height:normal;font-family:Menlo,'DejaVu Sans Mono',consolas,'Courier New',monospace\"><span style=\"font-weight: bold\"> Non-trainable params: </span><span style=\"color: #00af00; text-decoration-color: #00af00\">0</span> (0.00 B)\n",
       "</pre>\n"
      ],
      "text/plain": [
       "\u001b[1m Non-trainable params: \u001b[0m\u001b[38;5;34m0\u001b[0m (0.00 B)\n"
      ]
     },
     "metadata": {},
     "output_type": "display_data"
    }
   ],
   "source": [
    "model.summary()"
   ]
  },
  {
   "cell_type": "code",
   "execution_count": 26,
   "metadata": {
    "colab": {
     "base_uri": "https://localhost:8080/"
    },
    "id": "kBno2eKRxM_E",
    "outputId": "9935f2d1-edf2-40dc-a43f-52a31e4b7931"
   },
   "outputs": [
    {
     "name": "stdout",
     "output_type": "stream",
     "text": [
      "Epoch 1/10\n",
      "\u001b[1m819/819\u001b[0m \u001b[32m━━━━━━━━━━━━━━━━━━━━\u001b[0m\u001b[37m\u001b[0m \u001b[1m56s\u001b[0m 66ms/step - loss: 84.3489 - mae: 7.1408 - val_loss: 14.9029 - val_mae: 2.8831\n",
      "Epoch 2/10\n",
      "\u001b[1m819/819\u001b[0m \u001b[32m━━━━━━━━━━━━━━━━━━━━\u001b[0m\u001b[37m\u001b[0m \u001b[1m45s\u001b[0m 54ms/step - loss: 13.1778 - mae: 2.7723 - val_loss: 9.6446 - val_mae: 2.4248\n",
      "Epoch 3/10\n",
      "\u001b[1m819/819\u001b[0m \u001b[32m━━━━━━━━━━━━━━━━━━━━\u001b[0m\u001b[37m\u001b[0m \u001b[1m43s\u001b[0m 52ms/step - loss: 10.0664 - mae: 2.4702 - val_loss: 9.2511 - val_mae: 2.3735\n",
      "Epoch 4/10\n",
      "\u001b[1m819/819\u001b[0m \u001b[32m━━━━━━━━━━━━━━━━━━━━\u001b[0m\u001b[37m\u001b[0m \u001b[1m82s\u001b[0m 52ms/step - loss: 9.4495 - mae: 2.3937 - val_loss: 9.2218 - val_mae: 2.3524\n",
      "Epoch 5/10\n",
      "\u001b[1m819/819\u001b[0m \u001b[32m━━━━━━━━━━━━━━━━━━━━\u001b[0m\u001b[37m\u001b[0m \u001b[1m83s\u001b[0m 53ms/step - loss: 8.9820 - mae: 2.3330 - val_loss: 9.1864 - val_mae: 2.3607\n",
      "Epoch 6/10\n",
      "\u001b[1m819/819\u001b[0m \u001b[32m━━━━━━━━━━━━━━━━━━━━\u001b[0m\u001b[37m\u001b[0m \u001b[1m42s\u001b[0m 51ms/step - loss: 8.6330 - mae: 2.2879 - val_loss: 9.3006 - val_mae: 2.3615\n",
      "Epoch 7/10\n",
      "\u001b[1m819/819\u001b[0m \u001b[32m━━━━━━━━━━━━━━━━━━━━\u001b[0m\u001b[37m\u001b[0m \u001b[1m82s\u001b[0m 52ms/step - loss: 8.2672 - mae: 2.2398 - val_loss: 9.3512 - val_mae: 2.3803\n",
      "Epoch 8/10\n",
      "\u001b[1m819/819\u001b[0m \u001b[32m━━━━━━━━━━━━━━━━━━━━\u001b[0m\u001b[37m\u001b[0m \u001b[1m44s\u001b[0m 53ms/step - loss: 8.0343 - mae: 2.2075 - val_loss: 9.5576 - val_mae: 2.4050\n",
      "Epoch 9/10\n",
      "\u001b[1m819/819\u001b[0m \u001b[32m━━━━━━━━━━━━━━━━━━━━\u001b[0m\u001b[37m\u001b[0m \u001b[1m43s\u001b[0m 53ms/step - loss: 7.8251 - mae: 2.1763 - val_loss: 9.6472 - val_mae: 2.4114\n",
      "Epoch 10/10\n",
      "\u001b[1m819/819\u001b[0m \u001b[32m━━━━━━━━━━━━━━━━━━━━\u001b[0m\u001b[37m\u001b[0m \u001b[1m53s\u001b[0m 64ms/step - loss: 7.6852 - mae: 2.1570 - val_loss: 9.3600 - val_mae: 2.3909\n"
     ]
    }
   ],
   "source": [
    "callbacks = [\n",
    "    tf.keras.callbacks.ModelCheckpoint(\n",
    "        str(MODELS_DIR / \"jena_lstm.keras\"),\n",
    "        save_best_only=True\n",
    "    )\n",
    "]\n",
    "model.compile(optimizer=\"rmsprop\", loss=\"mse\", metrics=[\"mae\"])\n",
    "history = model.fit(\n",
    "    train_dataset,\n",
    "    epochs=10,\n",
    "    validation_data=val_dataset,\n",
    "    callbacks=callbacks\n",
    ")"
   ]
  },
  {
   "cell_type": "code",
   "execution_count": 27,
   "metadata": {
    "colab": {
     "base_uri": "https://localhost:8080/",
     "height": 452
    },
    "id": "YANDbXtUxM_E",
    "outputId": "a8b2619c-118f-4701-9209-ea2ef89222d1"
   },
   "outputs": [
    {
     "data": {
      "image/png": "[encoded data removed]",
      "text/plain": [
       "<Figure size 640x480 with 1 Axes>"
      ]
     },
     "metadata": {},
     "output_type": "display_data"
    }
   ],
   "source": [
    "plot_history(history)"
   ]
  },
  {
   "cell_type": "code",
   "execution_count": 29,
   "metadata": {
    "colab": {
     "base_uri": "https://localhost:8080/"
    },
    "id": "KGVBbtGsxM_F",
    "outputId": "30e794d9-b7b3-49d7-b059-9d16014cf812"
   },
   "outputs": [
    {
     "name": "stdout",
     "output_type": "stream",
     "text": [
      "\u001b[1m405/405\u001b[0m \u001b[32m━━━━━━━━━━━━━━━━━━━━\u001b[0m\u001b[37m\u001b[0m \u001b[1m18s\u001b[0m 41ms/step - loss: 10.6199 - mae: 2.5861\n",
      "Test MAE: 2.58\n"
     ]
    }
   ],
   "source": [
    "model = tf.keras.models.load_model(MODELS_DIR / \"jena_lstm.keras\")\n",
    "print(f\"Test MAE: {model.evaluate(test_dataset)[1]:.2f}\")  # it is possible to get down to ~2.55 like in the book!"
   ]
  },
  {
   "cell_type": "markdown",
   "metadata": {
    "id": "FV76uz-KxM_F"
   },
   "source": [
    "---\n",
    "\n",
    "## 10.3 Understanding recurrent neural networks\n",
    "\n",
    "The dense, fully connected layers and the convnet layers have no memory.\n",
    "\n",
    "These feedforward networks process each input in turn with no information transfer.\n",
    "\n",
    "A recurrent neural network (RNN) retains information of past inputs."
   ]
  },
  {
   "cell_type": "markdown",
   "metadata": {
    "id": "KLKkES9_xM_F"
   },
   "source": [
    "The RNN has a **feedback loop**, and the **parameters are shared** (the same at each iteration).\n",
    "\n",
    "(Saves a lot of parameters, like in CNNs.)\n",
    "\n",
    "<!-- ![RNN unrolled](images/rnn/RNN-unrolled.png) -->\n",
    "![RNN unrolled](https://github.com/jchwenger/AI/blob/main/6-text-and-sequences/images/rnn/RNN-unrolled.png?raw=true)\n",
    "\n",
    "<small>[Olah, \"Understanding LSTM Networks\"](https://colah.github.io/posts/2015-08-Understanding-LSTMs/)</small>"
   ]
  },
  {
   "cell_type": "markdown",
   "metadata": {
    "id": "pPdm15IexM_F"
   },
   "source": [
    "\n",
    "The activation $h_{t-1}$ at time $t-1$ is fed back to the input and combined with the new input $x_t$, at time $t$.\n",
    "\n",
    "The previous activation (layer output) is called the **state** of the unit."
   ]
  },
  {
   "cell_type": "markdown",
   "metadata": {
    "id": "A7K9khVIxM_F"
   },
   "source": [
    "The previous activation/state is weighted and the network learns correlations with earlier inputs by adjusting these weights, in the usual manner.\n",
    "\n",
    "Here, we imagine that sequence terms $x_1, x_2, x_3, \\ldots$ etc. occur at successive times, (even if the sequence is not chronological).\n",
    "\n",
    "Previously, in a feed forward networks, the entire sequence (review) was treated as a single input vector!\n",
    "\n",
    "#### Note\n",
    "\n",
    "The state is reset before a new sequence is processed (if don't do that your RNN is called **stateful**).\n"
   ]
  },
  {
   "cell_type": "markdown",
   "metadata": {
    "id": "oEcKQ1nWxM_F"
   },
   "source": [
    "<!-- <img style=\"height:750px\" src=\"images/rnn/mit.rnn.png\"> -->\n",
    "<img style=\"height:750px\" src=\"https://github.com/jchwenger/AI/blob/main/6-text-and-sequences/images/rnn/mit.rnn.png?raw=true\">\n",
    "\n",
    "<small>[Ava Soleimany, MIT 6.S191 (2021): Recurrent Neural Networks](https://www.youtube.com/watch?v=qjrad0V0uJE)</small>"
   ]
  },
  {
   "cell_type": "markdown",
   "metadata": {
    "id": "HSC5W-byxM_F"
   },
   "source": [
    "##### The standard recurrent layer\n",
    "\n",
    "There are two inputs: the **current input**, $x_t$, and the **previous state**, $h_{t-1}$.\n",
    "\n",
    "The state (= activation) of the RNN layer is:\n",
    "\n",
    "$$\n",
    "\\bbox[5px,border:2px solid red]\n",
    "{\n",
    "\\begin{align*}\n",
    "h_t &= f(W \\cdot x_t + U \\cdot \\color{green}{h_{t-1}} + b_h)  \\\\\n",
    "\\end{align*}\n",
    "}\n",
    "$$\n",
    "\n",
    "$f$: typically: $\\color{red}{tanh}$, also sometimes $relu$.  \n",
    "W is an $M \\times N$ matrix – a tensor with shape `(output_features, input_features)`.  \n",
    "U is an $M \\times M$ matrix – a tensor with shape `(output_features, output_features)`.  \n",
    "\n",
    "$N$: number of input features  \n",
    "$M$: number of output features = number of units  \n"
   ]
  },
  {
   "cell_type": "markdown",
   "metadata": {
    "id": "OcFIOyflxM_F"
   },
   "source": [
    "##### Note\n",
    "\n",
    "That was the **internal mechanism** for the state. To *use* this state and turn it into a prediction, you apply yet another typical operation like so:\n",
    "\n",
    "$$\n",
    "\\bbox[5px,border:2px solid red]\n",
    "{\n",
    "\\begin{align*}\n",
    "y_t &= \\sigma(V \\cdot h_t + b_y)\n",
    "\\end{align*}\n",
    "}\n",
    "$$\n",
    "\n",
    "$\\sigma$: $softmax$, $sigmoid$, depending on your needs.  \n",
    "V is an $O \\times M$ matrix – a tensor with shape `(task_features, output_features)`.  \n"
   ]
  },
  {
   "cell_type": "markdown",
   "metadata": {
    "id": "-giUZIk3xM_F"
   },
   "source": [
    "The previous activation, $h_{t-1}$, can have more or less effect on the current activation.\n",
    "\n",
    "The influence of the previous activation and input is controlled by the weights."
   ]
  },
  {
   "cell_type": "markdown",
   "metadata": {
    "id": "WcDXOd3DxM_F"
   },
   "source": [
    "$\n",
    "\\begin{align*}\n",
    "The\\ recursion: \\quad h_t &= f(x_t, \\color{blue}{h_{t-1}}) \\\\\n",
    "      &= f(x_t, \\color{blue}{f( x_{t-1},  \\color{green}{h_{t-2}})} ) \\\\\n",
    "      &= f( x_t,  \\color{blue}{ f( x_{t-1},   \\color{green}{f(x_{t-2}, \\color{red}{h_{t-3}}) } ) } ) \\\\\n",
    "      &= \\ldots\n",
    "\\end{align*}\n",
    "$\n",
    "\n",
    "In principle, all previous activations, even those reaching far back into the past, can influence the present.\n",
    "\n",
    "\n",
    "**However**, because of the repeated multiplications involved in the gradient calculation, we quickly get either very large or very small numbers. This is known as the **exploding/vanishing gradient problem**."
   ]
  },
  {
   "cell_type": "markdown",
   "metadata": {
    "id": "0gOuFGdSxM_F"
   },
   "source": [
    "The simple RNN layer in pseudocode is:\n",
    "\n",
    "```python\n",
    "prev_output = 0\n",
    "for input_t in input_sequence:\n",
    "                        # ↓ current input | ↓ previous state\n",
    "    output_t = activation(dot(W, input_t) + dot(U, prev_output) + b)\n",
    "    prev_output = output_t\n",
    "```"
   ]
  },
  {
   "cell_type": "markdown",
   "metadata": {
    "id": "s-qdQhe4xM_F"
   },
   "source": [
    "#### NumPy implementation of a simple RNN"
   ]
  },
  {
   "cell_type": "code",
   "execution_count": 30,
   "metadata": {
    "colab": {
     "base_uri": "https://localhost:8080/"
    },
    "id": "UnxUG4G2xM_F",
    "outputId": "b91a1fac-bb4d-4ab9-bc4c-0e70861e87d7"
   },
   "outputs": [
    {
     "name": "stdout",
     "output_type": "stream",
     "text": [
      "input_t,  shape: (32,)\n",
      "W,        shape: (64, 32)\n",
      "current,  shape: (64,)\n",
      "U,        shape: (64, 64)\n",
      "previous, shape: (64,)\n",
      "b,        shape: (64,)\n",
      "output_t, shape: (64,)\n"
     ]
    }
   ],
   "source": [
    "timesteps = 100\n",
    "input_features = 32\n",
    "output_features = 64\n",
    "inputs = np.random.random((timesteps, input_features))\n",
    "state_t = np.zeros((output_features,))\n",
    "W = np.random.random((output_features, input_features))\n",
    "U = np.random.random((output_features, output_features))\n",
    "b = np.random.random((output_features,))\n",
    "successive_outputs = []\n",
    "for i, input_t in enumerate(inputs):\n",
    "    current = np.dot(W, input_t)\n",
    "    previous = np.dot(U, state_t)\n",
    "    output_t = np.tanh(current + previous + b)\n",
    "    successive_outputs.append(output_t)\n",
    "    state_t = output_t\n",
    "    if i == 0:\n",
    "        print(\"input_t,  shape:\", input_t.shape)\n",
    "        print(\"W,        shape:\", W.shape)\n",
    "        print(\"current,  shape:\", current.shape)\n",
    "        print(\"U,        shape:\", U.shape)\n",
    "        print(\"previous, shape:\", previous.shape)\n",
    "        print(\"b,        shape:\", b.shape)\n",
    "        print(\"output_t, shape:\", output_t.shape)\n",
    "final_output_sequence = np.stack(successive_outputs, axis=0)"
   ]
  },
  {
   "cell_type": "markdown",
   "metadata": {
    "id": "fH_QprSKxM_F"
   },
   "source": [
    "More details in [this notebook](https://github.com/jchwenger/AI/blob/main/6-additional-material/chapter10_dl-for-timeseries_rnn_lstm.ipynb)."
   ]
  },
  {
   "cell_type": "markdown",
   "metadata": {
    "id": "ns7FdvyVxM_F"
   },
   "source": [
    "#### \\# of Learnable parameters\n",
    "\n",
    "\n",
    "\\begin{align*}\n",
    "RNNparams &= (current + bias) + previous\\\\\n",
    " &= \\bbox[5px,border:2px solid red]{(M \\times N + M) + (M \\times M)}\\\\\n",
    " &= (M \\times N) + (M \\times M) + M\\\\\n",
    " &= \\bbox[5px,border:2px solid red]{(N + M + 1) \\times M}\\\\\n",
    "\\end{align*}\n",
    "\n",
    "\n",
    "$N$: number of input features  \n",
    "$M$: previous output = number of units\n",
    "\n",
    "Each neuron has $N$ weights for the $N$ input features, $M$ weights for the previous output, and a bias, so $(N + M + 1)$ parameters, but there are $M$ units!"
   ]
  },
  {
   "cell_type": "code",
   "execution_count": 31,
   "metadata": {
    "colab": {
     "base_uri": "https://localhost:8080/",
     "height": 252
    },
    "id": "b0X6qjenxM_F",
    "outputId": "db3c099f-f490-4351-b858-05075ac169f2"
   },
   "outputs": [
    {
     "data": {
      "text/html": [
       "<pre style=\"white-space:pre;overflow-x:auto;line-height:normal;font-family:Menlo,'DejaVu Sans Mono',consolas,'Courier New',monospace\"><span style=\"font-weight: bold\">Model: \"functional_1\"</span>\n",
       "</pre>\n"
      ],
      "text/plain": [
       "\u001b[1mModel: \"functional_1\"\u001b[0m\n"
      ]
     },
     "metadata": {},
     "output_type": "display_data"
    },
    {
     "data": {
      "text/html": [
       "<pre style=\"white-space:pre;overflow-x:auto;line-height:normal;font-family:Menlo,'DejaVu Sans Mono',consolas,'Courier New',monospace\">┏━━━━━━━━━━━━━━━━━━━━━━━━━━━━━━━━━━━━━━┳━━━━━━━━━━━━━━━━━━━━━━━━━━━━━┳━━━━━━━━━━━━━━━━━┓\n",
       "┃<span style=\"font-weight: bold\"> Layer (type)                         </span>┃<span style=\"font-weight: bold\"> Output Shape                </span>┃<span style=\"font-weight: bold\">         Param # </span>┃\n",
       "┡━━━━━━━━━━━━━━━━━━━━━━━━━━━━━━━━━━━━━━╇━━━━━━━━━━━━━━━━━━━━━━━━━━━━━╇━━━━━━━━━━━━━━━━━┩\n",
       "│ input_layer_1 (<span style=\"color: #0087ff; text-decoration-color: #0087ff\">InputLayer</span>)           │ (<span style=\"color: #00d7ff; text-decoration-color: #00d7ff\">None</span>, <span style=\"color: #00af00; text-decoration-color: #00af00\">120</span>, <span style=\"color: #00af00; text-decoration-color: #00af00\">32</span>)             │               <span style=\"color: #00af00; text-decoration-color: #00af00\">0</span> │\n",
       "├──────────────────────────────────────┼─────────────────────────────┼─────────────────┤\n",
       "│ simple_rnn (<span style=\"color: #0087ff; text-decoration-color: #0087ff\">SimpleRNN</span>)               │ (<span style=\"color: #00d7ff; text-decoration-color: #00d7ff\">None</span>, <span style=\"color: #00af00; text-decoration-color: #00af00\">16</span>)                  │             <span style=\"color: #00af00; text-decoration-color: #00af00\">784</span> │\n",
       "└──────────────────────────────────────┴─────────────────────────────┴─────────────────┘\n",
       "</pre>\n"
      ],
      "text/plain": [
       "┏━━━━━━━━━━━━━━━━━━━━━━━━━━━━━━━━━━━━━━┳━━━━━━━━━━━━━━━━━━━━━━━━━━━━━┳━━━━━━━━━━━━━━━━━┓\n",
       "┃\u001b[1m \u001b[0m\u001b[1mLayer (type)                        \u001b[0m\u001b[1m \u001b[0m┃\u001b[1m \u001b[0m\u001b[1mOutput Shape               \u001b[0m\u001b[1m \u001b[0m┃\u001b[1m \u001b[0m\u001b[1m        Param #\u001b[0m\u001b[1m \u001b[0m┃\n",
       "┡━━━━━━━━━━━━━━━━━━━━━━━━━━━━━━━━━━━━━━╇━━━━━━━━━━━━━━━━━━━━━━━━━━━━━╇━━━━━━━━━━━━━━━━━┩\n",
       "│ input_layer_1 (\u001b[38;5;33mInputLayer\u001b[0m)           │ (\u001b[38;5;45mNone\u001b[0m, \u001b[38;5;34m120\u001b[0m, \u001b[38;5;34m32\u001b[0m)             │               \u001b[38;5;34m0\u001b[0m │\n",
       "├──────────────────────────────────────┼─────────────────────────────┼─────────────────┤\n",
       "│ simple_rnn (\u001b[38;5;33mSimpleRNN\u001b[0m)               │ (\u001b[38;5;45mNone\u001b[0m, \u001b[38;5;34m16\u001b[0m)                  │             \u001b[38;5;34m784\u001b[0m │\n",
       "└──────────────────────────────────────┴─────────────────────────────┴─────────────────┘\n"
      ]
     },
     "metadata": {},
     "output_type": "display_data"
    },
    {
     "data": {
      "text/html": [
       "<pre style=\"white-space:pre;overflow-x:auto;line-height:normal;font-family:Menlo,'DejaVu Sans Mono',consolas,'Courier New',monospace\"><span style=\"font-weight: bold\"> Total params: </span><span style=\"color: #00af00; text-decoration-color: #00af00\">784</span> (3.06 KB)\n",
       "</pre>\n"
      ],
      "text/plain": [
       "\u001b[1m Total params: \u001b[0m\u001b[38;5;34m784\u001b[0m (3.06 KB)\n"
      ]
     },
     "metadata": {},
     "output_type": "display_data"
    },
    {
     "data": {
      "text/html": [
       "<pre style=\"white-space:pre;overflow-x:auto;line-height:normal;font-family:Menlo,'DejaVu Sans Mono',consolas,'Courier New',monospace\"><span style=\"font-weight: bold\"> Trainable params: </span><span style=\"color: #00af00; text-decoration-color: #00af00\">784</span> (3.06 KB)\n",
       "</pre>\n"
      ],
      "text/plain": [
       "\u001b[1m Trainable params: \u001b[0m\u001b[38;5;34m784\u001b[0m (3.06 KB)\n"
      ]
     },
     "metadata": {},
     "output_type": "display_data"
    },
    {
     "data": {
      "text/html": [
       "<pre style=\"white-space:pre;overflow-x:auto;line-height:normal;font-family:Menlo,'DejaVu Sans Mono',consolas,'Courier New',monospace\"><span style=\"font-weight: bold\"> Non-trainable params: </span><span style=\"color: #00af00; text-decoration-color: #00af00\">0</span> (0.00 B)\n",
       "</pre>\n"
      ],
      "text/plain": [
       "\u001b[1m Non-trainable params: \u001b[0m\u001b[38;5;34m0\u001b[0m (0.00 B)\n"
      ]
     },
     "metadata": {},
     "output_type": "display_data"
    },
    {
     "name": "stdout",
     "output_type": "stream",
     "text": [
      "\n",
      "Number of learnable RNN params, (N + M + 1) * M:   784\n",
      "Note: it's the same same as (M * N + M) + (M * M): 784\n"
     ]
    }
   ],
   "source": [
    "steps = 120\n",
    "num_features = 32\n",
    "num_units = 16\n",
    "inputs = tf.keras.Input(shape=(steps, num_features))\n",
    "                            # the default\n",
    "outputs = tf.keras.layers.SimpleRNN(num_units, return_sequences=False)(inputs)\n",
    "model = tf.keras.Model(inputs,outputs)\n",
    "model.summary()\n",
    "\n",
    "print()\n",
    "print(f\"Number of learnable RNN params, (N + M + 1) * M:   {(num_features + num_units  + 1) * num_units}\")\n",
    "print(f\"Note: it's the same same as (M * N + M) + (M * M): {(num_units * num_features + num_units) + (num_units * num_units)}\")"
   ]
  },
  {
   "cell_type": "markdown",
   "metadata": {
    "id": "8Dsc4lqmxM_G"
   },
   "source": [
    "### LSTM: Long Short Term Memory\n",
    "\n",
    "Fully-fledged recurrent nets: LSTMs have a **memory** or **carry** ($C_t$) – passing information forward in time, like a conveyor belt, with potentially no modification – and **gates** ($\\sigma$) acting as smooth on/off switches.\n",
    "\n",
    "The conveyor belt was developed to solve the **exploding/vanishing gradients problem**!  \n",
    "It is similar to **residual connections** in ConvNets (next week!).\n",
    "\n",
    "<!-- ![LSTM](images/rnn/dprogrammer.LSTM.png) -->\n",
    "\n",
    "![LSTM](https://github.com/jchwenger/AI/blob/main/6-text-and-sequences/images/rnn/dprogrammer.LSTM.png?raw=true)\n",
    "\n",
    "<small>[\"RNN, LSTM & GRU\", dprogrammer.org](http://dprogrammer.org/rnn-lstm-gru)</small>"
   ]
  },
  {
   "cell_type": "markdown",
   "metadata": {
    "id": "_jv1GeVZxM_G"
   },
   "source": [
    "More details in [this notebook](https://github.com/jchwenger/AI/blob/main/6-additional-material/chapter10_dl-for-timeseries_rnn_lstm.ipynb)."
   ]
  },
  {
   "cell_type": "markdown",
   "metadata": {
    "id": "qXXln1PlxM_G"
   },
   "source": [
    "<!-- <img src=\"images/rnn/mit.lstm.2.png\"> -->\n",
    "<img src=\"https://github.com/jchwenger/AI/blob/main/6-text-and-sequences/images/rnn/mit.lstm.2.png?raw=true\">\n",
    "\n",
    "<small>[Ava Soleimany, MIT 6.S191 (2021): Recurrent Neural Networks](https://www.youtube.com/watch?v=qjrad0V0uJE)</small>"
   ]
  },
  {
   "cell_type": "markdown",
   "metadata": {
    "id": "sKEIAx2pxM_G"
   },
   "source": [
    "### Gates\n",
    "\n",
    "Suppose we wish to turn an RNN off or on.\n",
    "\n",
    "Simple! Multiply by a binary switch:\n",
    "\n",
    "$$\\delta \\times f(t)$$\n",
    "\n",
    "$\\delta$: smooth values between $0, 1$  \n",
    "$f(t)$: the activation of a simple RNN"
   ]
  },
  {
   "cell_type": "markdown",
   "metadata": {
    "id": "xMjL65sxxM_G"
   },
   "source": [
    "What we want:\n",
    "- the parameters of the switch should be **learnable**;\n",
    "- because of backpropagation, the process must be **differentiable**: the switch has to be a continuous function – smoothly going from 0 to 1.\n",
    "  \n",
    "The smooth activation function that takes values in $[0, 1]$?  \n",
    "$sigmoid\\ (\\sigma)$!"
   ]
  },
  {
   "cell_type": "markdown",
   "metadata": {
    "id": "RFqMV8XkxM_G"
   },
   "source": [
    "#### A learnable gate\n",
    "\n",
    "$$\n",
    "\\bbox[5px,border:2px solid red]\n",
    "{\n",
    "\\sigma(z) \\odot f(t)\n",
    "}\n",
    "$$\n",
    "\n",
    "$\\odot$: the Hadamard (element-wise) product ($\\sigma(z)$ and $f(t)$ have the same shape).\n",
    "\n",
    "\n",
    "But what is $z$?"
   ]
  },
  {
   "cell_type": "markdown",
   "metadata": {
    "id": "d0biwlahxM_G"
   },
   "source": [
    "We might want (because we are processing sequences) the state of the gate – on, off or in between – to depend on the current input and past activations:\n",
    "\n",
    "$$\n",
    "\\bbox[5px,border:2px solid red]\n",
    "{\n",
    "z = W \\cdot x_t + U \\cdot h_{t-1} + b\n",
    "}\n",
    "$$\n",
    "\n",
    "Our recurrently gated RNN is:\n",
    "\n",
    "$$\n",
    "\\bbox[5px,border:2px solid red]\n",
    "{\n",
    "\\sigma(W \\cdot x_t + U \\cdot h_{t-1} + b) \\odot f(t)\n",
    "}\n",
    "$$\n",
    "\n",
    "$\\odot$ : the Hadamard (element-wise) product.\n"
   ]
  },
  {
   "cell_type": "markdown",
   "metadata": {
    "id": "5f0oKgCPxM_G"
   },
   "source": [
    "#### \\# of Learnable parameters\n",
    "\n",
    "\n",
    "The LSTM follows the same logic as the vanilla RNN, all gates and simple RNN layers have their own parameters $(W, U, b)$, but with **four** internal matrices.\n",
    "\n",
    "There are four $(W, U, b)$ units – 3 gates and the simple RNN, $f$. Each set of $(W, U, b)$ units has $(N + M + 1) \\times M$ trainable parameters\n",
    "\n",
    "Therefore:\n",
    "\n",
    "$$\n",
    "LSTMparams = \\bbox[5px,border:2px solid red]{((N + M + 1) \\times M) \\times 4}\n",
    "$$\n",
    "\n",
    "$N$: input features weights  \n",
    "$M$: previous output = number of units"
   ]
  },
  {
   "cell_type": "code",
   "execution_count": 32,
   "metadata": {
    "colab": {
     "base_uri": "https://localhost:8080/",
     "height": 234
    },
    "id": "r8ZPpEB7xM_G",
    "outputId": "86e87343-550b-4285-df27-7ba074213879"
   },
   "outputs": [
    {
     "data": {
      "text/html": [
       "<pre style=\"white-space:pre;overflow-x:auto;line-height:normal;font-family:Menlo,'DejaVu Sans Mono',consolas,'Courier New',monospace\"><span style=\"font-weight: bold\">Model: \"functional_2\"</span>\n",
       "</pre>\n"
      ],
      "text/plain": [
       "\u001b[1mModel: \"functional_2\"\u001b[0m\n"
      ]
     },
     "metadata": {},
     "output_type": "display_data"
    },
    {
     "data": {
      "text/html": [
       "<pre style=\"white-space:pre;overflow-x:auto;line-height:normal;font-family:Menlo,'DejaVu Sans Mono',consolas,'Courier New',monospace\">┏━━━━━━━━━━━━━━━━━━━━━━━━━━━━━━━━━━━━━━┳━━━━━━━━━━━━━━━━━━━━━━━━━━━━━┳━━━━━━━━━━━━━━━━━┓\n",
       "┃<span style=\"font-weight: bold\"> Layer (type)                         </span>┃<span style=\"font-weight: bold\"> Output Shape                </span>┃<span style=\"font-weight: bold\">         Param # </span>┃\n",
       "┡━━━━━━━━━━━━━━━━━━━━━━━━━━━━━━━━━━━━━━╇━━━━━━━━━━━━━━━━━━━━━━━━━━━━━╇━━━━━━━━━━━━━━━━━┩\n",
       "│ input_layer_2 (<span style=\"color: #0087ff; text-decoration-color: #0087ff\">InputLayer</span>)           │ (<span style=\"color: #00d7ff; text-decoration-color: #00d7ff\">None</span>, <span style=\"color: #00af00; text-decoration-color: #00af00\">120</span>, <span style=\"color: #00af00; text-decoration-color: #00af00\">16</span>)             │               <span style=\"color: #00af00; text-decoration-color: #00af00\">0</span> │\n",
       "├──────────────────────────────────────┼─────────────────────────────┼─────────────────┤\n",
       "│ lstm_1 (<span style=\"color: #0087ff; text-decoration-color: #0087ff\">LSTM</span>)                        │ (<span style=\"color: #00d7ff; text-decoration-color: #00d7ff\">None</span>, <span style=\"color: #00af00; text-decoration-color: #00af00\">8</span>)                   │             <span style=\"color: #00af00; text-decoration-color: #00af00\">800</span> │\n",
       "└──────────────────────────────────────┴─────────────────────────────┴─────────────────┘\n",
       "</pre>\n"
      ],
      "text/plain": [
       "┏━━━━━━━━━━━━━━━━━━━━━━━━━━━━━━━━━━━━━━┳━━━━━━━━━━━━━━━━━━━━━━━━━━━━━┳━━━━━━━━━━━━━━━━━┓\n",
       "┃\u001b[1m \u001b[0m\u001b[1mLayer (type)                        \u001b[0m\u001b[1m \u001b[0m┃\u001b[1m \u001b[0m\u001b[1mOutput Shape               \u001b[0m\u001b[1m \u001b[0m┃\u001b[1m \u001b[0m\u001b[1m        Param #\u001b[0m\u001b[1m \u001b[0m┃\n",
       "┡━━━━━━━━━━━━━━━━━━━━━━━━━━━━━━━━━━━━━━╇━━━━━━━━━━━━━━━━━━━━━━━━━━━━━╇━━━━━━━━━━━━━━━━━┩\n",
       "│ input_layer_2 (\u001b[38;5;33mInputLayer\u001b[0m)           │ (\u001b[38;5;45mNone\u001b[0m, \u001b[38;5;34m120\u001b[0m, \u001b[38;5;34m16\u001b[0m)             │               \u001b[38;5;34m0\u001b[0m │\n",
       "├──────────────────────────────────────┼─────────────────────────────┼─────────────────┤\n",
       "│ lstm_1 (\u001b[38;5;33mLSTM\u001b[0m)                        │ (\u001b[38;5;45mNone\u001b[0m, \u001b[38;5;34m8\u001b[0m)                   │             \u001b[38;5;34m800\u001b[0m │\n",
       "└──────────────────────────────────────┴─────────────────────────────┴─────────────────┘\n"
      ]
     },
     "metadata": {},
     "output_type": "display_data"
    },
    {
     "data": {
      "text/html": [
       "<pre style=\"white-space:pre;overflow-x:auto;line-height:normal;font-family:Menlo,'DejaVu Sans Mono',consolas,'Courier New',monospace\"><span style=\"font-weight: bold\"> Total params: </span><span style=\"color: #00af00; text-decoration-color: #00af00\">800</span> (3.12 KB)\n",
       "</pre>\n"
      ],
      "text/plain": [
       "\u001b[1m Total params: \u001b[0m\u001b[38;5;34m800\u001b[0m (3.12 KB)\n"
      ]
     },
     "metadata": {},
     "output_type": "display_data"
    },
    {
     "data": {
      "text/html": [
       "<pre style=\"white-space:pre;overflow-x:auto;line-height:normal;font-family:Menlo,'DejaVu Sans Mono',consolas,'Courier New',monospace\"><span style=\"font-weight: bold\"> Trainable params: </span><span style=\"color: #00af00; text-decoration-color: #00af00\">800</span> (3.12 KB)\n",
       "</pre>\n"
      ],
      "text/plain": [
       "\u001b[1m Trainable params: \u001b[0m\u001b[38;5;34m800\u001b[0m (3.12 KB)\n"
      ]
     },
     "metadata": {},
     "output_type": "display_data"
    },
    {
     "data": {
      "text/html": [
       "<pre style=\"white-space:pre;overflow-x:auto;line-height:normal;font-family:Menlo,'DejaVu Sans Mono',consolas,'Courier New',monospace\"><span style=\"font-weight: bold\"> Non-trainable params: </span><span style=\"color: #00af00; text-decoration-color: #00af00\">0</span> (0.00 B)\n",
       "</pre>\n"
      ],
      "text/plain": [
       "\u001b[1m Non-trainable params: \u001b[0m\u001b[38;5;34m0\u001b[0m (0.00 B)\n"
      ]
     },
     "metadata": {},
     "output_type": "display_data"
    },
    {
     "name": "stdout",
     "output_type": "stream",
     "text": [
      "\n",
      "Number of learnable LSTM params: 800\n"
     ]
    }
   ],
   "source": [
    "steps = 120\n",
    "num_features = 16\n",
    "num_units = 8\n",
    "inputs = tf.keras.Input(shape=(steps, num_features))\n",
    "                            # the default\n",
    "outputs = tf.keras.layers.LSTM(num_units, return_sequences=False)(inputs)\n",
    "model = tf.keras.Model(inputs,outputs)\n",
    "model.summary()\n",
    "\n",
    "print()\n",
    "print(f\"Number of learnable LSTM params: { ((num_features + num_units + 1) * num_units) * 4}\")"
   ]
  },
  {
   "cell_type": "markdown",
   "metadata": {
    "id": "sdOZkbuWxM_G"
   },
   "source": [
    "<!-- <img src=\"images/rnn/mit.lstm.8.png\"> -->\n",
    "<img style=\"height:750px\" src=\"https://github.com/jchwenger/AI/blob/main/6-text-and-sequences/images/rnn/mit.lstm.8.png?raw=true\">\n",
    "\n",
    "<small>[Ava Soleimany, MIT 6.S191 (2021): Recurrent Neural Networks](https://www.youtube.com/watch?v=qjrad0V0uJE)</small>"
   ]
  },
  {
   "cell_type": "markdown",
   "metadata": {
    "id": "QL2T-6NpxM_G"
   },
   "source": [
    "### GRU Gated Recurrent Unit\n",
    "\n",
    "'Optimised' recurrent nets: same logic as LSTM, but with less connections/parameters!\n",
    "\n",
    "<!-- ![GRU](images/rnn/dprogrammer.GRU.png) -->\n",
    "\n",
    "![LSTM](https://github.com/jchwenger/AI/blob/main/6-text-and-sequences/images/rnn/dprogrammer.GRU.png?raw=true)\n",
    "\n",
    "<small>[\"RNN, LSTM & GRU\", dprogrammer.org](http://dprogrammer.org/rnn-lstm-gru)</small>"
   ]
  },
  {
   "cell_type": "markdown",
   "metadata": {
    "id": "bIH41vw_xM_G"
   },
   "source": [
    "---\n",
    "\n",
    "### 10.3.1 A recurrent layer in Keras"
   ]
  },
  {
   "cell_type": "markdown",
   "metadata": {
    "id": "vJknT6tuxM_G"
   },
   "source": [
    "#### An RNN layer that can process sequences of any length"
   ]
  },
  {
   "cell_type": "code",
   "execution_count": 34,
   "metadata": {
    "colab": {
     "base_uri": "https://localhost:8080/"
    },
    "id": "QL4mfaQuxM_G",
    "outputId": "5bd8458c-394c-48ce-e00d-703d58a406cd"
   },
   "outputs": [
    {
     "name": "stdout",
     "output_type": "stream",
     "text": [
      "(None, 16)\n"
     ]
    }
   ],
   "source": [
    "num_features = 14            # ↓ we don't need specify the length!\n",
    "inputs = tf.keras.Input(shape=(None, num_features))\n",
    "outputs = tf.keras.layers.SimpleRNN(16)(inputs)\n",
    "print(outputs.shape)"
   ]
  },
  {
   "cell_type": "markdown",
   "metadata": {
    "id": "aokln8BixM_G"
   },
   "source": [
    "#### An RNN layer that returns only its last output step\n",
    "\n",
    "By default RNN layers only return the **last state**."
   ]
  },
  {
   "cell_type": "code",
   "execution_count": 35,
   "metadata": {
    "colab": {
     "base_uri": "https://localhost:8080/"
    },
    "id": "WJmTS_FsxM_G",
    "outputId": "873dcd10-0be0-4a7b-d537-dc55989f01e6"
   },
   "outputs": [
    {
     "name": "stdout",
     "output_type": "stream",
     "text": [
      "(None, 16)\n"
     ]
    }
   ],
   "source": [
    "num_features = 14\n",
    "steps = 120                  # ↓ but we can also do it\n",
    "inputs = tf.keras.Input(shape=(steps, num_features))\n",
    "                                      # ↓ the default!\n",
    "outputs = tf.keras.layers.SimpleRNN(16, return_sequences=False)(inputs)\n",
    "print(outputs.shape)"
   ]
  },
  {
   "cell_type": "markdown",
   "metadata": {
    "id": "8CJSU5YfxM_G"
   },
   "source": [
    "#### An RNN layer that returns its full output sequence\n",
    "\n",
    "If you wish to stack layers of those, all intermediate layers should return their full sequence of outputs.\n",
    "\n",
    "<!-- <img style=\"float:right;height:400px\" src=\"images/rnn/stanford.stacked-rnns.png\"> -->\n",
    "\n",
    "<img style=\"float:right;height:400px\" src=\"https://github.com/jchwenger/AI/blob/main/6-text-and-sequences/images/rnn/stanford.stacked-rnns.png?raw=true\">\n",
    "\n",
    "<small style=\"position:absolute;bottom:0;right:0\">[John Lambert, \"Stacked RNNs for Encoder-Decoder Networks: Accurate Machine Understanding of Images\", Stanford CS224d, figure 2, p.3](https://cs224d.stanford.edu/reports/Lambert.pdf)</small>"
   ]
  },
  {
   "cell_type": "markdown",
   "metadata": {
    "id": "r2FBVGRdxM_H"
   },
   "source": [
    "For that,we  specify:\n",
    "\n",
    "```python\n",
    "return_sequences=True\n",
    "```"
   ]
  },
  {
   "cell_type": "code",
   "execution_count": 36,
   "metadata": {
    "colab": {
     "base_uri": "https://localhost:8080/"
    },
    "id": "sWCPmay2xM_H",
    "outputId": "a3342421-a644-4531-b6ba-b84fa25a9775"
   },
   "outputs": [
    {
     "name": "stdout",
     "output_type": "stream",
     "text": [
      "(None, 120, 16)\n"
     ]
    }
   ],
   "source": [
    "num_features = 14\n",
    "steps = 120\n",
    "inputs = tf.keras.Input(shape=(steps, num_features))\n",
    "outputs = tf.keras.layers.SimpleRNN(16, return_sequences=True)(inputs)\n",
    "print(outputs.shape)                  # ↑ return the entire sequence!"
   ]
  },
  {
   "cell_type": "markdown",
   "metadata": {
    "id": "8038u49PxM_H"
   },
   "source": [
    "#### Stacking RNN layers"
   ]
  },
  {
   "cell_type": "code",
   "execution_count": 37,
   "metadata": {
    "id": "UN1vPLXjxM_H"
   },
   "outputs": [],
   "source": [
    "inputs = tf.keras.Input(shape=(steps, num_features))\n",
    "x = tf.keras.layers.SimpleRNN(16, return_sequences=True)(inputs) # return sequences\n",
    "x = tf.keras.layers.SimpleRNN(16, return_sequences=True)(x)      # return sequences\n",
    "outputs = tf.keras.layers.SimpleRNN(16)(x)                       # no need in the last layer"
   ]
  },
  {
   "cell_type": "markdown",
   "metadata": {
    "id": "yq_Mi8lGxM_H"
   },
   "source": [
    "---\n",
    "\n",
    "## 10.4 Advanced use of recurrent neural networks"
   ]
  },
  {
   "cell_type": "markdown",
   "metadata": {
    "id": "oMwCymUZxM_H"
   },
   "source": [
    "### 10.4.1 Using recurrent dropout to fight overfitting\n",
    "\n",
    "> \"\\[T\\]he proper way to use dropout with a\n",
    "recurrent network: the same dropout mask (the same pattern of dropped units) should be applied at every timestep, instead of using a dropout mask that varies randomly from timestep to timestep.\" (DLWP, p.301)\n",
    "\n",
    "Implemented in Keras recurrent layers:\n",
    "\n",
    "```python\n",
    "recurrent_dropout=0.25\n",
    "```\n",
    "\n",
    "Don't use regular dropout layers in a stack of RNNs (except at the very end)!"
   ]
  },
  {
   "cell_type": "markdown",
   "metadata": {
    "id": "tFPrFSSwxM_H"
   },
   "source": [
    "### RNN runtime performance\n",
    "\n",
    "`recurrent_dropout` is not supported by optimized cuDNN kernels, meaning you do not benefit from the best GPU acceleration. **SLOW!**\n",
    "\n",
    "If your sequences are **not too long** (~100 steps) – this will increase memory consumption a lot –, and if **your sequence length is known in advance**, you can **unroll** your RNN to have it as one full graph on the GPU. (You still can't use cuDNN kernels, but the graph will optimise things a bit.)\n",
    "\n",
    "\n",
    "```python\n",
    "inputs = tf.keras.Input(shape=(sequence_length, num_features))\n",
    "                                                  # ↓ unroll (memory-greedy!)\n",
    "x = tf.keras.layers.LSTM(32, recurrent_dropout=0.2, unroll=True)(inputs)\n",
    "```"
   ]
  },
  {
   "cell_type": "markdown",
   "metadata": {
    "id": "NSKt5GfXlBbM"
   },
   "source": [
    "#### Training and evaluating a dropout-regularized LSTM (0.5)\n",
    "\n",
    "If you wanted to replicate the examples in DLWP, here is the code (it will take quite a few hours to run on a T4 in Colab!\n",
    "\n",
    "```python\n",
    "tf.keras.backend.clear_session()\n",
    "\n",
    "inputs = tf.keras.Input(shape=(sequence_length, raw_data.shape[-1]))\n",
    "x = tf.keras.layers.LSTM(32, recurrent_dropout=0.5)(inputs)\n",
    "x = tf.keras.layers.Dropout(0.5)(x)\n",
    "outputs = tf.keras.layers.Dense(1)(x)\n",
    "model = tf.keras.Model(inputs, outputs)\n",
    "\n",
    "callbacks = [\n",
    "    tf.keras.callbacks.ModelCheckpoint(\n",
    "        str(MODELS_DIR / \"jena_lstm_dropout.keras\"),\n",
    "        save_best_only=True\n",
    "    )\n",
    "]\n",
    "model.compile(optimizer=\"rmsprop\", loss=\"mse\", metrics=[\"mae\"])\n",
    "history = model.fit(\n",
    "    train_dataset,\n",
    "    epochs=50,\n",
    "    validation_data=val_dataset,\n",
    "    callbacks=callbacks\n",
    ")\n",
    "\n",
    "plot_history(history)\n",
    "\n",
    "model = tf.keras.models.load_model(MODELS_DIR / \"jena_lstm_dropout.keras\")\n",
    "print(f\"Test MAE: {model.evaluate(test_dataset)[1]:.2f}\")\n",
    "```"
   ]
  },
  {
   "cell_type": "markdown",
   "metadata": {
    "id": "sNZTsKDWxM_H"
   },
   "source": [
    "#### Training and evaluating an LSTM without dropout\n",
    "\n",
    "(This also takes quite a while.)"
   ]
  },
  {
   "cell_type": "code",
   "execution_count": 38,
   "metadata": {
    "id": "d3n3TChulBbO"
   },
   "outputs": [],
   "source": [
    "tf.keras.backend.clear_session()\n",
    "\n",
    "inputs = tf.keras.Input(shape=(sequence_length, raw_data.shape[-1]))\n",
    "x = tf.keras.layers.LSTM(32)(inputs)\n",
    "x = tf.keras.layers.Dropout(0.5)(x)\n",
    "outputs = tf.keras.layers.Dense(1)(x)\n",
    "model = tf.keras.Model(inputs, outputs)"
   ]
  },
  {
   "cell_type": "code",
   "execution_count": 39,
   "metadata": {
    "colab": {
     "base_uri": "https://localhost:8080/"
    },
    "collapsed": true,
    "id": "WFe5vvcilBbO",
    "jupyter": {
     "outputs_hidden": true
    },
    "outputId": "5886cd9e-937f-4254-ed8c-4799e742ac75",
    "tags": []
   },
   "outputs": [
    {
     "name": "stdout",
     "output_type": "stream",
     "text": [
      "Epoch 1/50\n",
      "\u001b[1m819/819\u001b[0m \u001b[32m━━━━━━━━━━━━━━━━━━━━\u001b[0m\u001b[37m\u001b[0m \u001b[1m47s\u001b[0m 55ms/step - loss: 42.5582 - mae: 4.8176 - val_loss: 9.9398 - val_mae: 2.4391\n",
      "Epoch 2/50\n",
      "\u001b[1m819/819\u001b[0m \u001b[32m━━━━━━━━━━━━━━━━━━━━\u001b[0m\u001b[37m\u001b[0m \u001b[1m80s\u001b[0m 53ms/step - loss: 14.5886 - mae: 2.9713 - val_loss: 9.6465 - val_mae: 2.4001\n",
      "Epoch 3/50\n",
      "\u001b[1m819/819\u001b[0m \u001b[32m━━━━━━━━━━━━━━━━━━━━\u001b[0m\u001b[37m\u001b[0m \u001b[1m44s\u001b[0m 54ms/step - loss: 13.6656 - mae: 2.8733 - val_loss: 9.6822 - val_mae: 2.4046\n",
      "Epoch 4/50\n",
      "\u001b[1m819/819\u001b[0m \u001b[32m━━━━━━━━━━━━━━━━━━━━\u001b[0m\u001b[37m\u001b[0m \u001b[1m43s\u001b[0m 52ms/step - loss: 12.8903 - mae: 2.7911 - val_loss: 9.7070 - val_mae: 2.4138\n",
      "Epoch 5/50\n",
      "\u001b[1m819/819\u001b[0m \u001b[32m━━━━━━━━━━━━━━━━━━━━\u001b[0m\u001b[37m\u001b[0m \u001b[1m82s\u001b[0m 52ms/step - loss: 12.3037 - mae: 2.7240 - val_loss: 9.4683 - val_mae: 2.3850\n",
      "Epoch 6/50\n",
      "\u001b[1m819/819\u001b[0m \u001b[32m━━━━━━━━━━━━━━━━━━━━\u001b[0m\u001b[37m\u001b[0m \u001b[1m43s\u001b[0m 52ms/step - loss: 11.9757 - mae: 2.6814 - val_loss: 9.9178 - val_mae: 2.4466\n",
      "Epoch 7/50\n",
      "\u001b[1m819/819\u001b[0m \u001b[32m━━━━━━━━━━━━━━━━━━━━\u001b[0m\u001b[37m\u001b[0m \u001b[1m44s\u001b[0m 53ms/step - loss: 11.5984 - mae: 2.6393 - val_loss: 10.3774 - val_mae: 2.5143\n",
      "Epoch 8/50\n",
      "\u001b[1m819/819\u001b[0m \u001b[32m━━━━━━━━━━━━━━━━━━━━\u001b[0m\u001b[37m\u001b[0m \u001b[1m52s\u001b[0m 64ms/step - loss: 11.3020 - mae: 2.6048 - val_loss: 10.0689 - val_mae: 2.4650\n",
      "Epoch 9/50\n",
      "\u001b[1m819/819\u001b[0m \u001b[32m━━━━━━━━━━━━━━━━━━━━\u001b[0m\u001b[37m\u001b[0m \u001b[1m72s\u001b[0m 52ms/step - loss: 10.9937 - mae: 2.5680 - val_loss: 11.2970 - val_mae: 2.6142\n",
      "Epoch 10/50\n",
      "\u001b[1m819/819\u001b[0m \u001b[32m━━━━━━━━━━━━━━━━━━━━\u001b[0m\u001b[37m\u001b[0m \u001b[1m43s\u001b[0m 52ms/step - loss: 10.6365 - mae: 2.5259 - val_loss: 10.6920 - val_mae: 2.5528\n",
      "Epoch 11/50\n",
      "\u001b[1m819/819\u001b[0m \u001b[32m━━━━━━━━━━━━━━━━━━━━\u001b[0m\u001b[37m\u001b[0m \u001b[1m83s\u001b[0m 53ms/step - loss: 10.4568 - mae: 2.5018 - val_loss: 11.5282 - val_mae: 2.6468\n",
      "Epoch 12/50\n",
      "\u001b[1m819/819\u001b[0m \u001b[32m━━━━━━━━━━━━━━━━━━━━\u001b[0m\u001b[37m\u001b[0m \u001b[1m81s\u001b[0m 52ms/step - loss: 10.2192 - mae: 2.4746 - val_loss: 10.8456 - val_mae: 2.5566\n",
      "Epoch 13/50\n",
      "\u001b[1m819/819\u001b[0m \u001b[32m━━━━━━━━━━━━━━━━━━━━\u001b[0m\u001b[37m\u001b[0m \u001b[1m82s\u001b[0m 51ms/step - loss: 9.9666 - mae: 2.4460 - val_loss: 10.4206 - val_mae: 2.5149\n",
      "Epoch 14/50\n",
      "\u001b[1m819/819\u001b[0m \u001b[32m━━━━━━━━━━━━━━━━━━━━\u001b[0m\u001b[37m\u001b[0m \u001b[1m82s\u001b[0m 52ms/step - loss: 9.8453 - mae: 2.4303 - val_loss: 10.6218 - val_mae: 2.5354\n",
      "Epoch 15/50\n",
      "\u001b[1m819/819\u001b[0m \u001b[32m━━━━━━━━━━━━━━━━━━━━\u001b[0m\u001b[37m\u001b[0m \u001b[1m83s\u001b[0m 53ms/step - loss: 9.7596 - mae: 2.4184 - val_loss: 11.2920 - val_mae: 2.6138\n",
      "Epoch 16/50\n",
      "\u001b[1m819/819\u001b[0m \u001b[32m━━━━━━━━━━━━━━━━━━━━\u001b[0m\u001b[37m\u001b[0m \u001b[1m44s\u001b[0m 54ms/step - loss: 9.4548 - mae: 2.3803 - val_loss: 11.0150 - val_mae: 2.5882\n",
      "Epoch 17/50\n",
      "\u001b[1m819/819\u001b[0m \u001b[32m━━━━━━━━━━━━━━━━━━━━\u001b[0m\u001b[37m\u001b[0m \u001b[1m44s\u001b[0m 54ms/step - loss: 9.4128 - mae: 2.3717 - val_loss: 11.7957 - val_mae: 2.6634\n",
      "Epoch 18/50\n",
      "\u001b[1m819/819\u001b[0m \u001b[32m━━━━━━━━━━━━━━━━━━━━\u001b[0m\u001b[37m\u001b[0m \u001b[1m80s\u001b[0m 52ms/step - loss: 9.2796 - mae: 2.3548 - val_loss: 11.3506 - val_mae: 2.6298\n",
      "Epoch 19/50\n",
      "\u001b[1m819/819\u001b[0m \u001b[32m━━━━━━━━━━━━━━━━━━━━\u001b[0m\u001b[37m\u001b[0m \u001b[1m43s\u001b[0m 52ms/step - loss: 9.1266 - mae: 2.3367 - val_loss: 11.1101 - val_mae: 2.6016\n",
      "Epoch 20/50\n",
      "\u001b[1m819/819\u001b[0m \u001b[32m━━━━━━━━━━━━━━━━━━━━\u001b[0m\u001b[37m\u001b[0m \u001b[1m82s\u001b[0m 52ms/step - loss: 9.1138 - mae: 2.3328 - val_loss: 11.9823 - val_mae: 2.6740\n",
      "Epoch 21/50\n",
      "\u001b[1m819/819\u001b[0m \u001b[32m━━━━━━━━━━━━━━━━━━━━\u001b[0m\u001b[37m\u001b[0m \u001b[1m84s\u001b[0m 54ms/step - loss: 8.9531 - mae: 2.3155 - val_loss: 11.6442 - val_mae: 2.6631\n",
      "Epoch 22/50\n",
      "\u001b[1m819/819\u001b[0m \u001b[32m━━━━━━━━━━━━━━━━━━━━\u001b[0m\u001b[37m\u001b[0m \u001b[1m80s\u001b[0m 52ms/step - loss: 8.8783 - mae: 2.3075 - val_loss: 11.8761 - val_mae: 2.6873\n",
      "Epoch 23/50\n",
      "\u001b[1m819/819\u001b[0m \u001b[32m━━━━━━━━━━━━━━━━━━━━\u001b[0m\u001b[37m\u001b[0m \u001b[1m82s\u001b[0m 52ms/step - loss: 8.8193 - mae: 2.2965 - val_loss: 12.2370 - val_mae: 2.7234\n",
      "Epoch 24/50\n",
      "\u001b[1m819/819\u001b[0m \u001b[32m━━━━━━━━━━━━━━━━━━━━\u001b[0m\u001b[37m\u001b[0m \u001b[1m82s\u001b[0m 52ms/step - loss: 8.6636 - mae: 2.2803 - val_loss: 12.2303 - val_mae: 2.7298\n",
      "Epoch 25/50\n",
      "\u001b[1m819/819\u001b[0m \u001b[32m━━━━━━━━━━━━━━━━━━━━\u001b[0m\u001b[37m\u001b[0m \u001b[1m45s\u001b[0m 54ms/step - loss: 8.5768 - mae: 2.2667 - val_loss: 12.2898 - val_mae: 2.7332\n",
      "Epoch 26/50\n",
      "\u001b[1m819/819\u001b[0m \u001b[32m━━━━━━━━━━━━━━━━━━━━\u001b[0m\u001b[37m\u001b[0m \u001b[1m43s\u001b[0m 52ms/step - loss: 8.5294 - mae: 2.2620 - val_loss: 11.9149 - val_mae: 2.6808\n",
      "Epoch 27/50\n",
      "\u001b[1m819/819\u001b[0m \u001b[32m━━━━━━━━━━━━━━━━━━━━\u001b[0m\u001b[37m\u001b[0m \u001b[1m42s\u001b[0m 51ms/step - loss: 8.4578 - mae: 2.2504 - val_loss: 12.4214 - val_mae: 2.7511\n",
      "Epoch 28/50\n",
      "\u001b[1m819/819\u001b[0m \u001b[32m━━━━━━━━━━━━━━━━━━━━\u001b[0m\u001b[37m\u001b[0m \u001b[1m44s\u001b[0m 53ms/step - loss: 8.3362 - mae: 2.2391 - val_loss: 12.2258 - val_mae: 2.7394\n",
      "Epoch 29/50\n",
      "\u001b[1m819/819\u001b[0m \u001b[32m━━━━━━━━━━━━━━━━━━━━\u001b[0m\u001b[37m\u001b[0m \u001b[1m44s\u001b[0m 53ms/step - loss: 8.3564 - mae: 2.2355 - val_loss: 12.3774 - val_mae: 2.7447\n",
      "Epoch 30/50\n",
      "\u001b[1m819/819\u001b[0m \u001b[32m━━━━━━━━━━━━━━━━━━━━\u001b[0m\u001b[37m\u001b[0m \u001b[1m46s\u001b[0m 55ms/step - loss: 8.2726 - mae: 2.2228 - val_loss: 12.3443 - val_mae: 2.7422\n",
      "Epoch 31/50\n",
      "\u001b[1m819/819\u001b[0m \u001b[32m━━━━━━━━━━━━━━━━━━━━\u001b[0m\u001b[37m\u001b[0m \u001b[1m79s\u001b[0m 51ms/step - loss: 8.2228 - mae: 2.2177 - val_loss: 12.6248 - val_mae: 2.7775\n",
      "Epoch 32/50\n",
      "\u001b[1m819/819\u001b[0m \u001b[32m━━━━━━━━━━━━━━━━━━━━\u001b[0m\u001b[37m\u001b[0m \u001b[1m52s\u001b[0m 63ms/step - loss: 8.2100 - mae: 2.2147 - val_loss: 12.7291 - val_mae: 2.7791\n",
      "Epoch 33/50\n",
      "\u001b[1m819/819\u001b[0m \u001b[32m━━━━━━━━━━━━━━━━━━━━\u001b[0m\u001b[37m\u001b[0m \u001b[1m43s\u001b[0m 53ms/step - loss: 8.0063 - mae: 2.1864 - val_loss: 12.2071 - val_mae: 2.7295\n",
      "Epoch 34/50\n",
      "\u001b[1m819/819\u001b[0m \u001b[32m━━━━━━━━━━━━━━━━━━━━\u001b[0m\u001b[37m\u001b[0m \u001b[1m81s\u001b[0m 51ms/step - loss: 8.0718 - mae: 2.1923 - val_loss: 12.4179 - val_mae: 2.7507\n",
      "Epoch 35/50\n",
      "\u001b[1m819/819\u001b[0m \u001b[32m━━━━━━━━━━━━━━━━━━━━\u001b[0m\u001b[37m\u001b[0m \u001b[1m86s\u001b[0m 56ms/step - loss: 8.1254 - mae: 2.2002 - val_loss: 12.5606 - val_mae: 2.7767\n",
      "Epoch 36/50\n",
      "\u001b[1m819/819\u001b[0m \u001b[32m━━━━━━━━━━━━━━━━━━━━\u001b[0m\u001b[37m\u001b[0m \u001b[1m78s\u001b[0m 51ms/step - loss: 7.9524 - mae: 2.1769 - val_loss: 12.5689 - val_mae: 2.7783\n",
      "Epoch 37/50\n",
      "\u001b[1m819/819\u001b[0m \u001b[32m━━━━━━━━━━━━━━━━━━━━\u001b[0m\u001b[37m\u001b[0m \u001b[1m84s\u001b[0m 53ms/step - loss: 7.8786 - mae: 2.1737 - val_loss: 12.4594 - val_mae: 2.7641\n",
      "Epoch 38/50\n",
      "\u001b[1m819/819\u001b[0m \u001b[32m━━━━━━━━━━━━━━━━━━━━\u001b[0m\u001b[37m\u001b[0m \u001b[1m44s\u001b[0m 54ms/step - loss: 7.8563 - mae: 2.1668 - val_loss: 12.5301 - val_mae: 2.7576\n",
      "Epoch 39/50\n",
      "\u001b[1m819/819\u001b[0m \u001b[32m━━━━━━━━━━━━━━━━━━━━\u001b[0m\u001b[37m\u001b[0m \u001b[1m43s\u001b[0m 52ms/step - loss: 7.7847 - mae: 2.1557 - val_loss: 12.9596 - val_mae: 2.8102\n",
      "Epoch 40/50\n",
      "\u001b[1m819/819\u001b[0m \u001b[32m━━━━━━━━━━━━━━━━━━━━\u001b[0m\u001b[37m\u001b[0m \u001b[1m45s\u001b[0m 55ms/step - loss: 7.8373 - mae: 2.1612 - val_loss: 12.8919 - val_mae: 2.7978\n",
      "Epoch 41/50\n",
      "\u001b[1m819/819\u001b[0m \u001b[32m━━━━━━━━━━━━━━━━━━━━\u001b[0m\u001b[37m\u001b[0m \u001b[1m44s\u001b[0m 54ms/step - loss: 7.7195 - mae: 2.1502 - val_loss: 12.2054 - val_mae: 2.7310\n",
      "Epoch 42/50\n",
      "\u001b[1m819/819\u001b[0m \u001b[32m━━━━━━━━━━━━━━━━━━━━\u001b[0m\u001b[37m\u001b[0m \u001b[1m46s\u001b[0m 55ms/step - loss: 7.6580 - mae: 2.1405 - val_loss: 11.8627 - val_mae: 2.7051\n",
      "Epoch 43/50\n",
      "\u001b[1m819/819\u001b[0m \u001b[32m━━━━━━━━━━━━━━━━━━━━\u001b[0m\u001b[37m\u001b[0m \u001b[1m44s\u001b[0m 53ms/step - loss: 7.6640 - mae: 2.1396 - val_loss: 12.7541 - val_mae: 2.7857\n",
      "Epoch 44/50\n",
      "\u001b[1m819/819\u001b[0m \u001b[32m━━━━━━━━━━━━━━━━━━━━\u001b[0m\u001b[37m\u001b[0m \u001b[1m51s\u001b[0m 62ms/step - loss: 7.6019 - mae: 2.1341 - val_loss: 13.0361 - val_mae: 2.8205\n",
      "Epoch 45/50\n",
      "\u001b[1m819/819\u001b[0m \u001b[32m━━━━━━━━━━━━━━━━━━━━\u001b[0m\u001b[37m\u001b[0m \u001b[1m76s\u001b[0m 55ms/step - loss: 7.6309 - mae: 2.1335 - val_loss: 12.4558 - val_mae: 2.7646\n",
      "Epoch 46/50\n",
      "\u001b[1m819/819\u001b[0m \u001b[32m━━━━━━━━━━━━━━━━━━━━\u001b[0m\u001b[37m\u001b[0m \u001b[1m43s\u001b[0m 52ms/step - loss: 7.5181 - mae: 2.1177 - val_loss: 13.8893 - val_mae: 2.9195\n",
      "Epoch 47/50\n",
      "\u001b[1m819/819\u001b[0m \u001b[32m━━━━━━━━━━━━━━━━━━━━\u001b[0m\u001b[37m\u001b[0m \u001b[1m44s\u001b[0m 53ms/step - loss: 7.5431 - mae: 2.1220 - val_loss: 13.2672 - val_mae: 2.8411\n",
      "Epoch 48/50\n",
      "\u001b[1m819/819\u001b[0m \u001b[32m━━━━━━━━━━━━━━━━━━━━\u001b[0m\u001b[37m\u001b[0m \u001b[1m81s\u001b[0m 53ms/step - loss: 7.4040 - mae: 2.0999 - val_loss: 12.6448 - val_mae: 2.7844\n",
      "Epoch 49/50\n",
      "\u001b[1m819/819\u001b[0m \u001b[32m━━━━━━━━━━━━━━━━━━━━\u001b[0m\u001b[37m\u001b[0m \u001b[1m46s\u001b[0m 55ms/step - loss: 7.3973 - mae: 2.1016 - val_loss: 12.7366 - val_mae: 2.7923\n",
      "Epoch 50/50\n",
      "\u001b[1m819/819\u001b[0m \u001b[32m━━━━━━━━━━━━━━━━━━━━\u001b[0m\u001b[37m\u001b[0m \u001b[1m51s\u001b[0m 62ms/step - loss: 7.4669 - mae: 2.1060 - val_loss: 13.0754 - val_mae: 2.8161\n"
     ]
    }
   ],
   "source": [
    "callbacks = [\n",
    "    tf.keras.callbacks.ModelCheckpoint(\n",
    "        str(MODELS_DIR / \"jena_lstm_no_dropout.keras\"),\n",
    "        save_best_only=True\n",
    "    )\n",
    "]\n",
    "model.compile(\n",
    "    optimizer=\"rmsprop\",\n",
    "    loss=\"mse\",\n",
    "    metrics=[\"mae\"]\n",
    ")\n",
    "\n",
    "history = model.fit(\n",
    "    train_dataset,\n",
    "    epochs=50,\n",
    "    validation_data=val_dataset,\n",
    "    callbacks=callbacks\n",
    ")"
   ]
  },
  {
   "cell_type": "code",
   "execution_count": 40,
   "metadata": {
    "colab": {
     "base_uri": "https://localhost:8080/",
     "height": 452
    },
    "id": "S-wCpSCjlBbP",
    "outputId": "73ccc3f8-6377-4cd5-c2ca-f96551477352"
   },
   "outputs": [
    {
     "data": {
      "image/png": "[encoded data removed]",
      "text/plain": [
       "<Figure size 640x480 with 1 Axes>"
      ]
     },
     "metadata": {},
     "output_type": "display_data"
    }
   ],
   "source": [
    "plot_history(history)"
   ]
  },
  {
   "cell_type": "code",
   "execution_count": 41,
   "metadata": {
    "colab": {
     "base_uri": "https://localhost:8080/"
    },
    "id": "nADvpfZalBbP",
    "outputId": "4a2b8ab8-3181-4ba7-b308-bb2acf392a1d"
   },
   "outputs": [
    {
     "name": "stdout",
     "output_type": "stream",
     "text": [
      "\u001b[1m405/405\u001b[0m \u001b[32m━━━━━━━━━━━━━━━━━━━━\u001b[0m\u001b[37m\u001b[0m \u001b[1m14s\u001b[0m 33ms/step - loss: 10.8353 - mae: 2.6108\n",
      "Test MAE: 2.61\n"
     ]
    }
   ],
   "source": [
    "model = tf.keras.models.load_model(MODELS_DIR / \"jena_lstm_no_dropout.keras\")\n",
    "print(f\"Test MAE: {model.evaluate(test_dataset)[1]:.2f}\")"
   ]
  },
  {
   "cell_type": "markdown",
   "metadata": {
    "id": "2PGJ4GUIxM_H"
   },
   "source": [
    "#### Training and evaluating an L2-regularized LSTM\n",
    "\n",
    "There is also such a thing as a `recurrent_regularizer`! (Works as usual.)"
   ]
  },
  {
   "cell_type": "code",
   "execution_count": 42,
   "metadata": {
    "id": "KwJV4FdilBbQ"
   },
   "outputs": [],
   "source": [
    "inputs = tf.keras.Input(shape=(sequence_length, raw_data.shape[-1]))\n",
    "                           # ↓ recurrent regularizer\n",
    "x = tf.keras.layers.LSTM(32, recurrent_regularizer=tf.keras.regularizers.L2(0.3))(inputs)\n",
    "x = tf.keras.layers.Dropout(0.5)(x)\n",
    "outputs = tf.keras.layers.Dense(1)(x)\n",
    "model = tf.keras.Model(inputs, outputs)"
   ]
  },
  {
   "cell_type": "code",
   "execution_count": 43,
   "metadata": {
    "colab": {
     "base_uri": "https://localhost:8080/"
    },
    "collapsed": true,
    "id": "tamtt7b3lBbQ",
    "jupyter": {
     "outputs_hidden": true
    },
    "outputId": "64daf94c-ccf8-43c1-ceee-407f72a0cefa",
    "tags": []
   },
   "outputs": [
    {
     "name": "stdout",
     "output_type": "stream",
     "text": [
      "Epoch 1/50\n",
      "\u001b[1m819/819\u001b[0m \u001b[32m━━━━━━━━━━━━━━━━━━━━\u001b[0m\u001b[37m\u001b[0m \u001b[1m44s\u001b[0m 52ms/step - loss: 51.8788 - mae: 5.0967 - val_loss: 9.8846 - val_mae: 2.4175\n",
      "Epoch 2/50\n",
      "\u001b[1m819/819\u001b[0m \u001b[32m━━━━━━━━━━━━━━━━━━━━\u001b[0m\u001b[37m\u001b[0m \u001b[1m83s\u001b[0m 53ms/step - loss: 15.5136 - mae: 3.0487 - val_loss: 9.4781 - val_mae: 2.3789\n",
      "Epoch 3/50\n",
      "\u001b[1m819/819\u001b[0m \u001b[32m━━━━━━━━━━━━━━━━━━━━\u001b[0m\u001b[37m\u001b[0m \u001b[1m43s\u001b[0m 52ms/step - loss: 14.7680 - mae: 2.9802 - val_loss: 9.8157 - val_mae: 2.4215\n",
      "Epoch 4/50\n",
      "\u001b[1m819/819\u001b[0m \u001b[32m━━━━━━━━━━━━━━━━━━━━\u001b[0m\u001b[37m\u001b[0m \u001b[1m83s\u001b[0m 53ms/step - loss: 14.2902 - mae: 2.9260 - val_loss: 9.2754 - val_mae: 2.3566\n",
      "Epoch 5/50\n",
      "\u001b[1m819/819\u001b[0m \u001b[32m━━━━━━━━━━━━━━━━━━━━\u001b[0m\u001b[37m\u001b[0m \u001b[1m90s\u001b[0m 63ms/step - loss: 13.9985 - mae: 2.8937 - val_loss: 9.3271 - val_mae: 2.3679\n",
      "Epoch 6/50\n",
      "\u001b[1m819/819\u001b[0m \u001b[32m━━━━━━━━━━━━━━━━━━━━\u001b[0m\u001b[37m\u001b[0m \u001b[1m77s\u001b[0m 56ms/step - loss: 13.7040 - mae: 2.8605 - val_loss: 9.1761 - val_mae: 2.3508\n",
      "Epoch 7/50\n",
      "\u001b[1m819/819\u001b[0m \u001b[32m━━━━━━━━━━━━━━━━━━━━\u001b[0m\u001b[37m\u001b[0m \u001b[1m44s\u001b[0m 54ms/step - loss: 13.4511 - mae: 2.8329 - val_loss: 9.4915 - val_mae: 2.3937\n",
      "Epoch 8/50\n",
      "\u001b[1m819/819\u001b[0m \u001b[32m━━━━━━━━━━━━━━━━━━━━\u001b[0m\u001b[37m\u001b[0m \u001b[1m45s\u001b[0m 54ms/step - loss: 13.1722 - mae: 2.8028 - val_loss: 9.1684 - val_mae: 2.3395\n",
      "Epoch 9/50\n",
      "\u001b[1m819/819\u001b[0m \u001b[32m━━━━━━━━━━━━━━━━━━━━\u001b[0m\u001b[37m\u001b[0m \u001b[1m44s\u001b[0m 54ms/step - loss: 12.9703 - mae: 2.7805 - val_loss: 9.2456 - val_mae: 2.3502\n",
      "Epoch 10/50\n",
      "\u001b[1m819/819\u001b[0m \u001b[32m━━━━━━━━━━━━━━━━━━━━\u001b[0m\u001b[37m\u001b[0m \u001b[1m43s\u001b[0m 52ms/step - loss: 12.8211 - mae: 2.7640 - val_loss: 9.4777 - val_mae: 2.3798\n",
      "Epoch 11/50\n",
      "\u001b[1m819/819\u001b[0m \u001b[32m━━━━━━━━━━━━━━━━━━━━\u001b[0m\u001b[37m\u001b[0m \u001b[1m82s\u001b[0m 52ms/step - loss: 12.5816 - mae: 2.7331 - val_loss: 9.3170 - val_mae: 2.3512\n",
      "Epoch 12/50\n",
      "\u001b[1m819/819\u001b[0m \u001b[32m━━━━━━━━━━━━━━━━━━━━\u001b[0m\u001b[37m\u001b[0m \u001b[1m50s\u001b[0m 61ms/step - loss: 12.4060 - mae: 2.7138 - val_loss: 9.2479 - val_mae: 2.3405\n",
      "Epoch 13/50\n",
      "\u001b[1m819/819\u001b[0m \u001b[32m━━━━━━━━━━━━━━━━━━━━\u001b[0m\u001b[37m\u001b[0m \u001b[1m76s\u001b[0m 54ms/step - loss: 12.2527 - mae: 2.6952 - val_loss: 9.8543 - val_mae: 2.4288\n",
      "Epoch 14/50\n",
      "\u001b[1m819/819\u001b[0m \u001b[32m━━━━━━━━━━━━━━━━━━━━\u001b[0m\u001b[37m\u001b[0m \u001b[1m46s\u001b[0m 55ms/step - loss: 12.0064 - mae: 2.6665 - val_loss: 9.5738 - val_mae: 2.3834\n",
      "Epoch 15/50\n",
      "\u001b[1m819/819\u001b[0m \u001b[32m━━━━━━━━━━━━━━━━━━━━\u001b[0m\u001b[37m\u001b[0m \u001b[1m43s\u001b[0m 52ms/step - loss: 11.9500 - mae: 2.6608 - val_loss: 10.0344 - val_mae: 2.4475\n",
      "Epoch 16/50\n",
      "\u001b[1m819/819\u001b[0m \u001b[32m━━━━━━━━━━━━━━━━━━━━\u001b[0m\u001b[37m\u001b[0m \u001b[1m43s\u001b[0m 52ms/step - loss: 11.7746 - mae: 2.6407 - val_loss: 9.8804 - val_mae: 2.4218\n",
      "Epoch 17/50\n",
      "\u001b[1m819/819\u001b[0m \u001b[32m━━━━━━━━━━━━━━━━━━━━\u001b[0m\u001b[37m\u001b[0m \u001b[1m82s\u001b[0m 52ms/step - loss: 11.6504 - mae: 2.6277 - val_loss: 9.9588 - val_mae: 2.4406\n",
      "Epoch 18/50\n",
      "\u001b[1m819/819\u001b[0m \u001b[32m━━━━━━━━━━━━━━━━━━━━\u001b[0m\u001b[37m\u001b[0m \u001b[1m43s\u001b[0m 53ms/step - loss: 11.6037 - mae: 2.6249 - val_loss: 9.6740 - val_mae: 2.3936\n",
      "Epoch 19/50\n",
      "\u001b[1m819/819\u001b[0m \u001b[32m━━━━━━━━━━━━━━━━━━━━\u001b[0m\u001b[37m\u001b[0m \u001b[1m83s\u001b[0m 55ms/step - loss: 11.4980 - mae: 2.6047 - val_loss: 9.6791 - val_mae: 2.3901\n",
      "Epoch 20/50\n",
      "\u001b[1m819/819\u001b[0m \u001b[32m━━━━━━━━━━━━━━━━━━━━\u001b[0m\u001b[37m\u001b[0m \u001b[1m44s\u001b[0m 53ms/step - loss: 11.4743 - mae: 2.6002 - val_loss: 10.1958 - val_mae: 2.4618\n",
      "Epoch 21/50\n",
      "\u001b[1m819/819\u001b[0m \u001b[32m━━━━━━━━━━━━━━━━━━━━\u001b[0m\u001b[37m\u001b[0m \u001b[1m89s\u001b[0m 62ms/step - loss: 11.3936 - mae: 2.5958 - val_loss: 9.5229 - val_mae: 2.3742\n",
      "Epoch 22/50\n",
      "\u001b[1m819/819\u001b[0m \u001b[32m━━━━━━━━━━━━━━━━━━━━\u001b[0m\u001b[37m\u001b[0m \u001b[1m76s\u001b[0m 55ms/step - loss: 11.3849 - mae: 2.5907 - val_loss: 10.0025 - val_mae: 2.4441\n",
      "Epoch 23/50\n",
      "\u001b[1m819/819\u001b[0m \u001b[32m━━━━━━━━━━━━━━━━━━━━\u001b[0m\u001b[37m\u001b[0m \u001b[1m80s\u001b[0m 53ms/step - loss: 11.2851 - mae: 2.5769 - val_loss: 10.6758 - val_mae: 2.5132\n",
      "Epoch 24/50\n",
      "\u001b[1m819/819\u001b[0m \u001b[32m━━━━━━━━━━━━━━━━━━━━\u001b[0m\u001b[37m\u001b[0m \u001b[1m81s\u001b[0m 52ms/step - loss: 11.2999 - mae: 2.5802 - val_loss: 9.6466 - val_mae: 2.3812\n",
      "Epoch 25/50\n",
      "\u001b[1m819/819\u001b[0m \u001b[32m━━━━━━━━━━━━━━━━━━━━\u001b[0m\u001b[37m\u001b[0m \u001b[1m52s\u001b[0m 63ms/step - loss: 11.1390 - mae: 2.5611 - val_loss: 9.7224 - val_mae: 2.3894\n",
      "Epoch 26/50\n",
      "\u001b[1m819/819\u001b[0m \u001b[32m━━━━━━━━━━━━━━━━━━━━\u001b[0m\u001b[37m\u001b[0m \u001b[1m73s\u001b[0m 52ms/step - loss: 11.1284 - mae: 2.5583 - val_loss: 10.4754 - val_mae: 2.4902\n",
      "Epoch 27/50\n",
      "\u001b[1m819/819\u001b[0m \u001b[32m━━━━━━━━━━━━━━━━━━━━\u001b[0m\u001b[37m\u001b[0m \u001b[1m82s\u001b[0m 52ms/step - loss: 11.0936 - mae: 2.5543 - val_loss: 10.1716 - val_mae: 2.4532\n",
      "Epoch 28/50\n",
      "\u001b[1m819/819\u001b[0m \u001b[32m━━━━━━━━━━━━━━━━━━━━\u001b[0m\u001b[37m\u001b[0m \u001b[1m52s\u001b[0m 63ms/step - loss: 11.1065 - mae: 2.5548 - val_loss: 11.8613 - val_mae: 2.6434\n",
      "Epoch 29/50\n",
      "\u001b[1m819/819\u001b[0m \u001b[32m━━━━━━━━━━━━━━━━━━━━\u001b[0m\u001b[37m\u001b[0m \u001b[1m43s\u001b[0m 52ms/step - loss: 11.0050 - mae: 2.5363 - val_loss: 10.5899 - val_mae: 2.5017\n",
      "Epoch 30/50\n",
      "\u001b[1m819/819\u001b[0m \u001b[32m━━━━━━━━━━━━━━━━━━━━\u001b[0m\u001b[37m\u001b[0m \u001b[1m83s\u001b[0m 54ms/step - loss: 10.9805 - mae: 2.5352 - val_loss: 10.2810 - val_mae: 2.4683\n",
      "Epoch 31/50\n",
      "\u001b[1m819/819\u001b[0m \u001b[32m━━━━━━━━━━━━━━━━━━━━\u001b[0m\u001b[37m\u001b[0m \u001b[1m86s\u001b[0m 58ms/step - loss: 10.9928 - mae: 2.5436 - val_loss: 9.9658 - val_mae: 2.4190\n",
      "Epoch 32/50\n",
      "\u001b[1m819/819\u001b[0m \u001b[32m━━━━━━━━━━━━━━━━━━━━\u001b[0m\u001b[37m\u001b[0m \u001b[1m81s\u001b[0m 57ms/step - loss: 10.9212 - mae: 2.5295 - val_loss: 10.3319 - val_mae: 2.4590\n",
      "Epoch 33/50\n",
      "\u001b[1m819/819\u001b[0m \u001b[32m━━━━━━━━━━━━━━━━━━━━\u001b[0m\u001b[37m\u001b[0m \u001b[1m79s\u001b[0m 54ms/step - loss: 10.9426 - mae: 2.5266 - val_loss: 10.4380 - val_mae: 2.4752\n",
      "Epoch 34/50\n",
      "\u001b[1m819/819\u001b[0m \u001b[32m━━━━━━━━━━━━━━━━━━━━\u001b[0m\u001b[37m\u001b[0m \u001b[1m51s\u001b[0m 62ms/step - loss: 10.8617 - mae: 2.5185 - val_loss: 10.3052 - val_mae: 2.4752\n",
      "Epoch 35/50\n",
      "\u001b[1m819/819\u001b[0m \u001b[32m━━━━━━━━━━━━━━━━━━━━\u001b[0m\u001b[37m\u001b[0m \u001b[1m44s\u001b[0m 53ms/step - loss: 10.8515 - mae: 2.5158 - val_loss: 10.2667 - val_mae: 2.4516\n",
      "Epoch 36/50\n",
      "\u001b[1m819/819\u001b[0m \u001b[32m━━━━━━━━━━━━━━━━━━━━\u001b[0m\u001b[37m\u001b[0m \u001b[1m44s\u001b[0m 54ms/step - loss: 10.8207 - mae: 2.5135 - val_loss: 10.4266 - val_mae: 2.4770\n",
      "Epoch 37/50\n",
      "\u001b[1m819/819\u001b[0m \u001b[32m━━━━━━━━━━━━━━━━━━━━\u001b[0m\u001b[37m\u001b[0m \u001b[1m83s\u001b[0m 55ms/step - loss: 10.8390 - mae: 2.5153 - val_loss: 10.7244 - val_mae: 2.5062\n",
      "Epoch 38/50\n",
      "\u001b[1m819/819\u001b[0m \u001b[32m━━━━━━━━━━━━━━━━━━━━\u001b[0m\u001b[37m\u001b[0m \u001b[1m80s\u001b[0m 53ms/step - loss: 10.7717 - mae: 2.5067 - val_loss: 10.4548 - val_mae: 2.4790\n",
      "Epoch 39/50\n",
      "\u001b[1m819/819\u001b[0m \u001b[32m━━━━━━━━━━━━━━━━━━━━\u001b[0m\u001b[37m\u001b[0m \u001b[1m84s\u001b[0m 55ms/step - loss: 10.7156 - mae: 2.4983 - val_loss: 10.8991 - val_mae: 2.5362\n",
      "Epoch 40/50\n",
      "\u001b[1m819/819\u001b[0m \u001b[32m━━━━━━━━━━━━━━━━━━━━\u001b[0m\u001b[37m\u001b[0m \u001b[1m45s\u001b[0m 55ms/step - loss: 10.7588 - mae: 2.5050 - val_loss: 10.6888 - val_mae: 2.5110\n",
      "Epoch 41/50\n",
      "\u001b[1m819/819\u001b[0m \u001b[32m━━━━━━━━━━━━━━━━━━━━\u001b[0m\u001b[37m\u001b[0m \u001b[1m44s\u001b[0m 53ms/step - loss: 10.6459 - mae: 2.4947 - val_loss: 10.8980 - val_mae: 2.5382\n",
      "Epoch 42/50\n",
      "\u001b[1m819/819\u001b[0m \u001b[32m━━━━━━━━━━━━━━━━━━━━\u001b[0m\u001b[37m\u001b[0m \u001b[1m82s\u001b[0m 53ms/step - loss: 10.6976 - mae: 2.4924 - val_loss: 10.6578 - val_mae: 2.5147\n",
      "Epoch 43/50\n",
      "\u001b[1m819/819\u001b[0m \u001b[32m━━━━━━━━━━━━━━━━━━━━\u001b[0m\u001b[37m\u001b[0m \u001b[1m45s\u001b[0m 54ms/step - loss: 10.6489 - mae: 2.4888 - val_loss: 11.5217 - val_mae: 2.6166\n",
      "Epoch 44/50\n",
      "\u001b[1m819/819\u001b[0m \u001b[32m━━━━━━━━━━━━━━━━━━━━\u001b[0m\u001b[37m\u001b[0m \u001b[1m45s\u001b[0m 54ms/step - loss: 10.5961 - mae: 2.4833 - val_loss: 11.9232 - val_mae: 2.6580\n",
      "Epoch 45/50\n",
      "\u001b[1m819/819\u001b[0m \u001b[32m━━━━━━━━━━━━━━━━━━━━\u001b[0m\u001b[37m\u001b[0m \u001b[1m45s\u001b[0m 55ms/step - loss: 10.6503 - mae: 2.4874 - val_loss: 11.2408 - val_mae: 2.5657\n",
      "Epoch 46/50\n",
      "\u001b[1m819/819\u001b[0m \u001b[32m━━━━━━━━━━━━━━━━━━━━\u001b[0m\u001b[37m\u001b[0m \u001b[1m80s\u001b[0m 53ms/step - loss: 10.6367 - mae: 2.4885 - val_loss: 10.9378 - val_mae: 2.5477\n",
      "Epoch 47/50\n",
      "\u001b[1m819/819\u001b[0m \u001b[32m━━━━━━━━━━━━━━━━━━━━\u001b[0m\u001b[37m\u001b[0m \u001b[1m43s\u001b[0m 52ms/step - loss: 10.6001 - mae: 2.4797 - val_loss: 11.4000 - val_mae: 2.6141\n",
      "Epoch 48/50\n",
      "\u001b[1m819/819\u001b[0m \u001b[32m━━━━━━━━━━━━━━━━━━━━\u001b[0m\u001b[37m\u001b[0m \u001b[1m43s\u001b[0m 52ms/step - loss: 10.5798 - mae: 2.4807 - val_loss: 10.8256 - val_mae: 2.5238\n",
      "Epoch 49/50\n",
      "\u001b[1m819/819\u001b[0m \u001b[32m━━━━━━━━━━━━━━━━━━━━\u001b[0m\u001b[37m\u001b[0m \u001b[1m43s\u001b[0m 53ms/step - loss: 10.5409 - mae: 2.4723 - val_loss: 10.7951 - val_mae: 2.5115\n",
      "Epoch 50/50\n",
      "\u001b[1m819/819\u001b[0m \u001b[32m━━━━━━━━━━━━━━━━━━━━\u001b[0m\u001b[37m\u001b[0m \u001b[1m45s\u001b[0m 55ms/step - loss: 10.5658 - mae: 2.4761 - val_loss: 10.7409 - val_mae: 2.5027\n"
     ]
    }
   ],
   "source": [
    "callbacks = [\n",
    "    tf.keras.callbacks.ModelCheckpoint(\n",
    "        str(MODELS_DIR / \"jena_lstm_l2.keras\"),\n",
    "        save_best_only=True\n",
    "    )\n",
    "]\n",
    "model.compile(\n",
    "    optimizer=\"rmsprop\",\n",
    "    loss=\"mse\",\n",
    "    metrics=[\"mae\"]\n",
    ")\n",
    "\n",
    "history = model.fit(\n",
    "    train_dataset,\n",
    "    epochs=50,\n",
    "    validation_data=val_dataset,\n",
    "    callbacks=callbacks\n",
    ")"
   ]
  },
  {
   "cell_type": "code",
   "execution_count": 44,
   "metadata": {
    "colab": {
     "base_uri": "https://localhost:8080/",
     "height": 452
    },
    "id": "UKZyNkzplBbR",
    "outputId": "9d4505b2-c37e-4c98-9264-9c50732a1a11"
   },
   "outputs": [
    {
     "data": {
      "image/png": "[encoded data removed]",
      "text/plain": [
       "<Figure size 640x480 with 1 Axes>"
      ]
     },
     "metadata": {},
     "output_type": "display_data"
    }
   ],
   "source": [
    "plot_history(history)"
   ]
  },
  {
   "cell_type": "code",
   "execution_count": 45,
   "metadata": {
    "colab": {
     "base_uri": "https://localhost:8080/"
    },
    "id": "yEpNxiAQlBbR",
    "outputId": "25f3f1f8-23da-46a2-b0c1-ba02e64431eb"
   },
   "outputs": [
    {
     "name": "stdout",
     "output_type": "stream",
     "text": [
      "\u001b[1m405/405\u001b[0m \u001b[32m━━━━━━━━━━━━━━━━━━━━\u001b[0m\u001b[37m\u001b[0m \u001b[1m14s\u001b[0m 34ms/step - loss: 10.1972 - mae: 2.4728\n",
      "Test MAE: 2.47\n"
     ]
    }
   ],
   "source": [
    "model = tf.keras.models.load_model(MODELS_DIR / \"jena_lstm_l2.keras\")\n",
    "print(f\"Test MAE: {model.evaluate(test_dataset)[1]:.2f}\")"
   ]
  },
  {
   "cell_type": "markdown",
   "metadata": {
    "id": "GmD6K--nxM_H"
   },
   "source": [
    "---\n",
    "\n",
    "### 10.4.2 Stacking recurrent layers"
   ]
  },
  {
   "cell_type": "markdown",
   "metadata": {
    "id": "BzhkIDxnlBbS"
   },
   "source": [
    "#### Training and evaluating a dropout-regularized, stacked GRU model\n",
    "\n",
    "Just as with the `LSTM` earlier, the `recurrent_dropout`, not (yet?) being supported by optimised low-level CUDA operations, is very slow:\n",
    "\n",
    "```python\n",
    "\n",
    "tf.keras.backend.clear_session()\n",
    "\n",
    "inputs = tf.keras.Input(shape=(sequence_length, raw_data.shape[-1]))\n",
    "                                                #  we return all inner states\n",
    "x = tf.keras.layers.GRU(32, recurrent_dropout=0.5, return_sequences=True)(inputs)\n",
    "x = tf.keras.layers.GRU(32, recurrent_dropout=0.5)(x) # Note: recurrent_dropout is INSANELY slow!!\n",
    "x = tf.keras.layers.Dropout(0.5)(x)\n",
    "outputs = tf.keras.layers.Dense(1)(x)\n",
    "model = tf.keras.Model(inputs, outputs)\n",
    "\n",
    "callbacks = [\n",
    "    tf.keras.callbacks.ModelCheckpoint(\n",
    "        str(MODELS_DIR / \"jena_stacked_gru_dropout.keras\"),\n",
    "        save_best_only=True\n",
    "    )\n",
    "]\n",
    "model.compile(optimizer=\"rmsprop\", loss=\"mse\", metrics=[\"mae\"])\n",
    "history = model.fit(\n",
    "    train_dataset,\n",
    "    epochs=50,\n",
    "    validation_data=val_dataset,\n",
    "    callbacks=callbacks\n",
    ")\n",
    "\n",
    "plot_history(history)\n",
    "\n",
    "model = tf.keras.models.load_model(MODELS_DIR / \"jena_stacked_gru_dropout.keras\")\n",
    "print(f\"Test MAE: {model.evaluate(test_dataset)[1]:.2f}\")\n",
    "```"
   ]
  },
  {
   "cell_type": "markdown",
   "metadata": {
    "id": "dphuOWK3xM_I"
   },
   "source": [
    "#### Training and evaluating an L2-regularized, stacked GRU model"
   ]
  },
  {
   "cell_type": "code",
   "execution_count": 46,
   "metadata": {
    "id": "-aESg_khxM_I"
   },
   "outputs": [],
   "source": [
    "tf.keras.backend.clear_session()\n",
    "\n",
    "inputs = tf.keras.Input(shape=(sequence_length, raw_data.shape[-1]))           # we return all inner states\n",
    "x = tf.keras.layers.GRU(32, recurrent_regularizer=tf.keras.regularizers.l2(0.8), return_sequences=True)(inputs)\n",
    "x = tf.keras.layers.GRU(32, recurrent_regularizer=tf.keras.regularizers.l2(0.8))(x)\n",
    "x = tf.keras.layers.Dropout(0.5)(x) # ↑ the L2 regularizer works with cuDNN\n",
    "outputs = tf.keras.layers.Dense(1)(x)\n",
    "model = tf.keras.Model(inputs, outputs)"
   ]
  },
  {
   "cell_type": "code",
   "execution_count": 47,
   "metadata": {
    "colab": {
     "base_uri": "https://localhost:8080/"
    },
    "collapsed": true,
    "id": "iM-GADA8xM_I",
    "jupyter": {
     "outputs_hidden": true
    },
    "outputId": "83f03f9f-ae6b-4e83-d1be-71f2ff37d672",
    "tags": []
   },
   "outputs": [
    {
     "name": "stdout",
     "output_type": "stream",
     "text": [
      "Epoch 1/50\n",
      "\u001b[1m819/819\u001b[0m \u001b[32m━━━━━━━━━━━━━━━━━━━━\u001b[0m\u001b[37m\u001b[0m \u001b[1m51s\u001b[0m 60ms/step - loss: 60.4574 - mae: 5.0933 - val_loss: 10.0283 - val_mae: 2.4244\n",
      "Epoch 2/50\n",
      "\u001b[1m819/819\u001b[0m \u001b[32m━━━━━━━━━━━━━━━━━━━━\u001b[0m\u001b[37m\u001b[0m \u001b[1m46s\u001b[0m 56ms/step - loss: 14.6311 - mae: 2.9513 - val_loss: 9.2037 - val_mae: 2.3441\n",
      "Epoch 3/50\n",
      "\u001b[1m819/819\u001b[0m \u001b[32m━━━━━━━━━━━━━━━━━━━━\u001b[0m\u001b[37m\u001b[0m \u001b[1m83s\u001b[0m 57ms/step - loss: 13.8194 - mae: 2.8752 - val_loss: 9.8993 - val_mae: 2.4293\n",
      "Epoch 4/50\n",
      "\u001b[1m819/819\u001b[0m \u001b[32m━━━━━━━━━━━━━━━━━━━━\u001b[0m\u001b[37m\u001b[0m \u001b[1m89s\u001b[0m 66ms/step - loss: 13.3572 - mae: 2.8259 - val_loss: 9.1432 - val_mae: 2.3378\n",
      "Epoch 5/50\n",
      "\u001b[1m819/819\u001b[0m \u001b[32m━━━━━━━━━━━━━━━━━━━━\u001b[0m\u001b[37m\u001b[0m \u001b[1m77s\u001b[0m 60ms/step - loss: 13.0057 - mae: 2.7913 - val_loss: 9.6393 - val_mae: 2.4087\n",
      "Epoch 6/50\n",
      "\u001b[1m819/819\u001b[0m \u001b[32m━━━━━━━━━━━━━━━━━━━━\u001b[0m\u001b[37m\u001b[0m \u001b[1m48s\u001b[0m 58ms/step - loss: 12.7188 - mae: 2.7558 - val_loss: 9.0213 - val_mae: 2.3151\n",
      "Epoch 7/50\n",
      "\u001b[1m819/819\u001b[0m \u001b[32m━━━━━━━━━━━━━━━━━━━━\u001b[0m\u001b[37m\u001b[0m \u001b[1m82s\u001b[0m 59ms/step - loss: 12.3428 - mae: 2.7227 - val_loss: 9.3291 - val_mae: 2.3512\n",
      "Epoch 8/50\n",
      "\u001b[1m819/819\u001b[0m \u001b[32m━━━━━━━━━━━━━━━━━━━━\u001b[0m\u001b[37m\u001b[0m \u001b[1m47s\u001b[0m 57ms/step - loss: 12.0247 - mae: 2.6881 - val_loss: 9.9513 - val_mae: 2.4323\n",
      "Epoch 9/50\n",
      "\u001b[1m819/819\u001b[0m \u001b[32m━━━━━━━━━━━━━━━━━━━━\u001b[0m\u001b[37m\u001b[0m \u001b[1m47s\u001b[0m 57ms/step - loss: 11.8040 - mae: 2.6610 - val_loss: 8.8511 - val_mae: 2.2996\n",
      "Epoch 10/50\n",
      "\u001b[1m819/819\u001b[0m \u001b[32m━━━━━━━━━━━━━━━━━━━━\u001b[0m\u001b[37m\u001b[0m \u001b[1m55s\u001b[0m 67ms/step - loss: 11.5943 - mae: 2.6409 - val_loss: 8.9817 - val_mae: 2.3141\n",
      "Epoch 11/50\n",
      "\u001b[1m819/819\u001b[0m \u001b[32m━━━━━━━━━━━━━━━━━━━━\u001b[0m\u001b[37m\u001b[0m \u001b[1m47s\u001b[0m 57ms/step - loss: 11.3986 - mae: 2.6205 - val_loss: 9.1031 - val_mae: 2.3309\n",
      "Epoch 12/50\n",
      "\u001b[1m819/819\u001b[0m \u001b[32m━━━━━━━━━━━━━━━━━━━━\u001b[0m\u001b[37m\u001b[0m \u001b[1m82s\u001b[0m 57ms/step - loss: 11.2039 - mae: 2.5979 - val_loss: 8.9892 - val_mae: 2.3187\n",
      "Epoch 13/50\n",
      "\u001b[1m819/819\u001b[0m \u001b[32m━━━━━━━━━━━━━━━━━━━━\u001b[0m\u001b[37m\u001b[0m \u001b[1m47s\u001b[0m 57ms/step - loss: 11.0886 - mae: 2.5867 - val_loss: 8.9531 - val_mae: 2.3149\n",
      "Epoch 14/50\n",
      "\u001b[1m819/819\u001b[0m \u001b[32m━━━━━━━━━━━━━━━━━━━━\u001b[0m\u001b[37m\u001b[0m \u001b[1m84s\u001b[0m 59ms/step - loss: 10.9902 - mae: 2.5716 - val_loss: 9.2414 - val_mae: 2.3498\n",
      "Epoch 15/50\n",
      "\u001b[1m819/819\u001b[0m \u001b[32m━━━━━━━━━━━━━━━━━━━━\u001b[0m\u001b[37m\u001b[0m \u001b[1m47s\u001b[0m 57ms/step - loss: 10.8925 - mae: 2.5629 - val_loss: 9.1415 - val_mae: 2.3432\n",
      "Epoch 16/50\n",
      "\u001b[1m819/819\u001b[0m \u001b[32m━━━━━━━━━━━━━━━━━━━━\u001b[0m\u001b[37m\u001b[0m \u001b[1m81s\u001b[0m 56ms/step - loss: 10.7092 - mae: 2.5425 - val_loss: 9.1258 - val_mae: 2.3448\n",
      "Epoch 17/50\n",
      "\u001b[1m819/819\u001b[0m \u001b[32m━━━━━━━━━━━━━━━━━━━━\u001b[0m\u001b[37m\u001b[0m \u001b[1m47s\u001b[0m 57ms/step - loss: 10.6544 - mae: 2.5378 - val_loss: 8.9628 - val_mae: 2.3177\n",
      "Epoch 18/50\n",
      "\u001b[1m819/819\u001b[0m \u001b[32m━━━━━━━━━━━━━━━━━━━━\u001b[0m\u001b[37m\u001b[0m \u001b[1m46s\u001b[0m 55ms/step - loss: 10.5169 - mae: 2.5196 - val_loss: 8.8416 - val_mae: 2.2937\n",
      "Epoch 19/50\n",
      "\u001b[1m819/819\u001b[0m \u001b[32m━━━━━━━━━━━━━━━━━━━━\u001b[0m\u001b[37m\u001b[0m \u001b[1m82s\u001b[0m 55ms/step - loss: 10.4523 - mae: 2.5151 - val_loss: 9.3095 - val_mae: 2.3543\n",
      "Epoch 20/50\n",
      "\u001b[1m819/819\u001b[0m \u001b[32m━━━━━━━━━━━━━━━━━━━━\u001b[0m\u001b[37m\u001b[0m \u001b[1m82s\u001b[0m 55ms/step - loss: 10.3834 - mae: 2.5051 - val_loss: 9.1759 - val_mae: 2.3441\n",
      "Epoch 21/50\n",
      "\u001b[1m819/819\u001b[0m \u001b[32m━━━━━━━━━━━━━━━━━━━━\u001b[0m\u001b[37m\u001b[0m \u001b[1m48s\u001b[0m 58ms/step - loss: 10.3484 - mae: 2.5012 - val_loss: 10.0789 - val_mae: 2.4607\n",
      "Epoch 22/50\n",
      "\u001b[1m819/819\u001b[0m \u001b[32m━━━━━━━━━━━━━━━━━━━━\u001b[0m\u001b[37m\u001b[0m \u001b[1m80s\u001b[0m 56ms/step - loss: 10.2353 - mae: 2.4895 - val_loss: 9.1484 - val_mae: 2.3359\n",
      "Epoch 23/50\n",
      "\u001b[1m819/819\u001b[0m \u001b[32m━━━━━━━━━━━━━━━━━━━━\u001b[0m\u001b[37m\u001b[0m \u001b[1m48s\u001b[0m 58ms/step - loss: 10.1847 - mae: 2.4797 - val_loss: 9.5528 - val_mae: 2.3871\n",
      "Epoch 24/50\n",
      "\u001b[1m819/819\u001b[0m \u001b[32m━━━━━━━━━━━━━━━━━━━━\u001b[0m\u001b[37m\u001b[0m \u001b[1m80s\u001b[0m 56ms/step - loss: 10.0380 - mae: 2.4681 - val_loss: 9.1107 - val_mae: 2.3374\n",
      "Epoch 25/50\n",
      "\u001b[1m819/819\u001b[0m \u001b[32m━━━━━━━━━━━━━━━━━━━━\u001b[0m\u001b[37m\u001b[0m \u001b[1m46s\u001b[0m 55ms/step - loss: 10.0189 - mae: 2.4585 - val_loss: 9.2728 - val_mae: 2.3660\n",
      "Epoch 26/50\n",
      "\u001b[1m819/819\u001b[0m \u001b[32m━━━━━━━━━━━━━━━━━━━━\u001b[0m\u001b[37m\u001b[0m \u001b[1m47s\u001b[0m 57ms/step - loss: 9.9113 - mae: 2.4495 - val_loss: 9.8845 - val_mae: 2.4209\n",
      "Epoch 27/50\n",
      "\u001b[1m819/819\u001b[0m \u001b[32m━━━━━━━━━━━━━━━━━━━━\u001b[0m\u001b[37m\u001b[0m \u001b[1m82s\u001b[0m 57ms/step - loss: 9.9863 - mae: 2.4559 - val_loss: 9.0139 - val_mae: 2.3233\n",
      "Epoch 28/50\n",
      "\u001b[1m819/819\u001b[0m \u001b[32m━━━━━━━━━━━━━━━━━━━━\u001b[0m\u001b[37m\u001b[0m \u001b[1m82s\u001b[0m 57ms/step - loss: 9.8891 - mae: 2.4446 - val_loss: 9.1151 - val_mae: 2.3389\n",
      "Epoch 29/50\n",
      "\u001b[1m819/819\u001b[0m \u001b[32m━━━━━━━━━━━━━━━━━━━━\u001b[0m\u001b[37m\u001b[0m \u001b[1m46s\u001b[0m 56ms/step - loss: 9.7365 - mae: 2.4269 - val_loss: 10.0143 - val_mae: 2.4624\n",
      "Epoch 30/50\n",
      "\u001b[1m819/819\u001b[0m \u001b[32m━━━━━━━━━━━━━━━━━━━━\u001b[0m\u001b[37m\u001b[0m \u001b[1m83s\u001b[0m 57ms/step - loss: 9.7959 - mae: 2.4313 - val_loss: 9.2580 - val_mae: 2.3620\n",
      "Epoch 31/50\n",
      "\u001b[1m819/819\u001b[0m \u001b[32m━━━━━━━━━━━━━━━━━━━━\u001b[0m\u001b[37m\u001b[0m \u001b[1m48s\u001b[0m 58ms/step - loss: 9.7124 - mae: 2.4245 - val_loss: 9.7641 - val_mae: 2.4299\n",
      "Epoch 32/50\n",
      "\u001b[1m819/819\u001b[0m \u001b[32m━━━━━━━━━━━━━━━━━━━━\u001b[0m\u001b[37m\u001b[0m \u001b[1m90s\u001b[0m 68ms/step - loss: 9.7615 - mae: 2.4256 - val_loss: 9.4040 - val_mae: 2.3716\n",
      "Epoch 33/50\n",
      "\u001b[1m819/819\u001b[0m \u001b[32m━━━━━━━━━━━━━━━━━━━━\u001b[0m\u001b[37m\u001b[0m \u001b[1m74s\u001b[0m 59ms/step - loss: 9.6897 - mae: 2.4226 - val_loss: 9.3840 - val_mae: 2.3779\n",
      "Epoch 34/50\n",
      "\u001b[1m819/819\u001b[0m \u001b[32m━━━━━━━━━━━━━━━━━━━━\u001b[0m\u001b[37m\u001b[0m \u001b[1m48s\u001b[0m 59ms/step - loss: 9.5992 - mae: 2.4079 - val_loss: 10.4646 - val_mae: 2.5206\n",
      "Epoch 35/50\n",
      "\u001b[1m819/819\u001b[0m \u001b[32m━━━━━━━━━━━━━━━━━━━━\u001b[0m\u001b[37m\u001b[0m \u001b[1m81s\u001b[0m 57ms/step - loss: 9.6284 - mae: 2.4110 - val_loss: 9.2537 - val_mae: 2.3640\n",
      "Epoch 36/50\n",
      "\u001b[1m819/819\u001b[0m \u001b[32m━━━━━━━━━━━━━━━━━━━━\u001b[0m\u001b[37m\u001b[0m \u001b[1m55s\u001b[0m 67ms/step - loss: 9.5728 - mae: 2.4067 - val_loss: 9.9763 - val_mae: 2.4605\n",
      "Epoch 37/50\n",
      "\u001b[1m819/819\u001b[0m \u001b[32m━━━━━━━━━━━━━━━━━━━━\u001b[0m\u001b[37m\u001b[0m \u001b[1m48s\u001b[0m 59ms/step - loss: 9.4771 - mae: 2.3950 - val_loss: 9.6939 - val_mae: 2.4159\n",
      "Epoch 38/50\n",
      "\u001b[1m819/819\u001b[0m \u001b[32m━━━━━━━━━━━━━━━━━━━━\u001b[0m\u001b[37m\u001b[0m \u001b[1m80s\u001b[0m 57ms/step - loss: 9.4458 - mae: 2.3907 - val_loss: 9.9039 - val_mae: 2.4488\n",
      "Epoch 39/50\n",
      "\u001b[1m819/819\u001b[0m \u001b[32m━━━━━━━━━━━━━━━━━━━━\u001b[0m\u001b[37m\u001b[0m \u001b[1m85s\u001b[0m 60ms/step - loss: 9.4965 - mae: 2.3931 - val_loss: 9.6700 - val_mae: 2.4084\n",
      "Epoch 40/50\n",
      "\u001b[1m819/819\u001b[0m \u001b[32m━━━━━━━━━━━━━━━━━━━━\u001b[0m\u001b[37m\u001b[0m \u001b[1m78s\u001b[0m 56ms/step - loss: 9.3822 - mae: 2.3819 - val_loss: 9.4740 - val_mae: 2.3936\n",
      "Epoch 41/50\n",
      "\u001b[1m819/819\u001b[0m \u001b[32m━━━━━━━━━━━━━━━━━━━━\u001b[0m\u001b[37m\u001b[0m \u001b[1m48s\u001b[0m 59ms/step - loss: 9.3670 - mae: 2.3816 - val_loss: 9.5970 - val_mae: 2.4066\n",
      "Epoch 42/50\n",
      "\u001b[1m819/819\u001b[0m \u001b[32m━━━━━━━━━━━━━━━━━━━━\u001b[0m\u001b[37m\u001b[0m \u001b[1m46s\u001b[0m 56ms/step - loss: 9.3802 - mae: 2.3781 - val_loss: 9.6414 - val_mae: 2.4308\n",
      "Epoch 43/50\n",
      "\u001b[1m819/819\u001b[0m \u001b[32m━━━━━━━━━━━━━━━━━━━━\u001b[0m\u001b[37m\u001b[0m \u001b[1m47s\u001b[0m 57ms/step - loss: 9.3614 - mae: 2.3766 - val_loss: 9.5637 - val_mae: 2.3999\n",
      "Epoch 44/50\n",
      "\u001b[1m819/819\u001b[0m \u001b[32m━━━━━━━━━━━━━━━━━━━━\u001b[0m\u001b[37m\u001b[0m \u001b[1m47s\u001b[0m 57ms/step - loss: 9.1975 - mae: 2.3545 - val_loss: 10.1088 - val_mae: 2.4750\n",
      "Epoch 45/50\n",
      "\u001b[1m819/819\u001b[0m \u001b[32m━━━━━━━━━━━━━━━━━━━━\u001b[0m\u001b[37m\u001b[0m \u001b[1m82s\u001b[0m 58ms/step - loss: 9.2797 - mae: 2.3678 - val_loss: 10.8250 - val_mae: 2.5588\n",
      "Epoch 46/50\n",
      "\u001b[1m819/819\u001b[0m \u001b[32m━━━━━━━━━━━━━━━━━━━━\u001b[0m\u001b[37m\u001b[0m \u001b[1m47s\u001b[0m 57ms/step - loss: 9.1968 - mae: 2.3547 - val_loss: 10.1502 - val_mae: 2.4884\n",
      "Epoch 47/50\n",
      "\u001b[1m819/819\u001b[0m \u001b[32m━━━━━━━━━━━━━━━━━━━━\u001b[0m\u001b[37m\u001b[0m \u001b[1m50s\u001b[0m 61ms/step - loss: 9.1474 - mae: 2.3528 - val_loss: 9.6388 - val_mae: 2.4141\n",
      "Epoch 48/50\n",
      "\u001b[1m819/819\u001b[0m \u001b[32m━━━━━━━━━━━━━━━━━━━━\u001b[0m\u001b[37m\u001b[0m \u001b[1m79s\u001b[0m 57ms/step - loss: 9.1370 - mae: 2.3462 - val_loss: 11.0723 - val_mae: 2.5845\n",
      "Epoch 49/50\n",
      "\u001b[1m819/819\u001b[0m \u001b[32m━━━━━━━━━━━━━━━━━━━━\u001b[0m\u001b[37m\u001b[0m \u001b[1m83s\u001b[0m 58ms/step - loss: 9.1423 - mae: 2.3507 - val_loss: 9.6833 - val_mae: 2.4211\n",
      "Epoch 50/50\n",
      "\u001b[1m819/819\u001b[0m \u001b[32m━━━━━━━━━━━━━━━━━━━━\u001b[0m\u001b[37m\u001b[0m \u001b[1m47s\u001b[0m 57ms/step - loss: 9.1062 - mae: 2.3457 - val_loss: 9.9193 - val_mae: 2.4571\n"
     ]
    }
   ],
   "source": [
    "callbacks = [\n",
    "    tf.keras.callbacks.ModelCheckpoint(\n",
    "        str(MODELS_DIR / \"jena_stacked_gru_l2.keras\"),\n",
    "        save_best_only=True\n",
    "    )\n",
    "]\n",
    "model.compile(optimizer=\"rmsprop\", loss=\"mse\", metrics=[\"mae\"])\n",
    "history = model.fit(\n",
    "    train_dataset,\n",
    "    epochs=50,\n",
    "    validation_data=val_dataset,\n",
    "    callbacks=callbacks\n",
    ")"
   ]
  },
  {
   "cell_type": "code",
   "execution_count": 48,
   "metadata": {
    "colab": {
     "base_uri": "https://localhost:8080/",
     "height": 452
    },
    "id": "E6Fk7ABxxM_I",
    "outputId": "fa1dbfbf-d8d8-491a-d89b-8f153d07af2a"
   },
   "outputs": [
    {
     "data": {
      "image/png": "[encoded data removed]",
      "text/plain": [
       "<Figure size 640x480 with 1 Axes>"
      ]
     },
     "metadata": {},
     "output_type": "display_data"
    }
   ],
   "source": [
    "plot_history(history)"
   ]
  },
  {
   "cell_type": "code",
   "execution_count": 49,
   "metadata": {
    "colab": {
     "base_uri": "https://localhost:8080/"
    },
    "id": "F7mfOLyvxM_I",
    "outputId": "712435b6-56bb-4d62-db8e-c4a01d0c257f"
   },
   "outputs": [
    {
     "name": "stdout",
     "output_type": "stream",
     "text": [
      "\u001b[1m405/405\u001b[0m \u001b[32m━━━━━━━━━━━━━━━━━━━━\u001b[0m\u001b[37m\u001b[0m \u001b[1m15s\u001b[0m 35ms/step - loss: 10.2494 - mae: 2.4971\n",
      "Test MAE: 2.49\n"
     ]
    }
   ],
   "source": [
    "model = tf.keras.models.load_model(MODELS_DIR / \"jena_stacked_gru_l2.keras\")\n",
    "print(f\"Test MAE: {model.evaluate(test_dataset)[1]:.2f}\")"
   ]
  },
  {
   "cell_type": "markdown",
   "metadata": {
    "id": "1RaQTQSyxM_I"
   },
   "source": [
    "---\n",
    "\n",
    "### 10.4.3 Using bidirectional RNNs\n",
    "\n",
    "RNNs exploit patterns in data that has a definite order (like weather readings).\n",
    "\n",
    "But the **reverse** of an ordered list is still ordered and might hold pertinent information.\n",
    "\n",
    "The idea is to train one net on sequential data, then another one with **the same hyperparameters** on the same dataset but with the order *reversed*.\n",
    "\n",
    "The hypothesis is that word order *does* matter in understanding language but *which* order (forward or back) isn't critical (on the basis if this single experiment)."
   ]
  },
  {
   "cell_type": "markdown",
   "metadata": {
    "id": "uOeLtlOAxM_I"
   },
   "source": [
    "An RNN trained on a reversed sequence will learn different representations than one trained on the original sequence.\n",
    "\n",
    "Representations that are *different* yet *useful* are always worth exploiting. The more they differ the better!\n",
    "\n",
    "Alternative representations can capture aspects of the data that were missed by other approaches.\n",
    "\n",
    "#### Note\n",
    "\n",
    "This is the intuition behind *ensembling* (gathering predictions from several models)."
   ]
  },
  {
   "cell_type": "markdown",
   "metadata": {
    "id": "xximJ5NsxM_I"
   },
   "source": [
    "A bidirectional RNN is two regular RNNs: one chronological, the other antichronological. Representations are merged at the end.\n",
    "\n",
    "Strong suit: create representations for the whole sentence (e.g. for sentiment).  \n",
    "However: cannot be used to predict the next token!\n",
    "\n",
    "<!-- ![bidirectional rnn](images/rnn/chollet.bidirectional.png) -->\n",
    "![bidirectional rnn](https://github.com/jchwenger/AI/blob/main/6-text-and-sequences/images/rnn/chollet.bidirectional.png?raw=true)\n",
    "\n",
    "<small>DLWP, p.306</small>"
   ]
  },
  {
   "cell_type": "markdown",
   "metadata": {
    "id": "qvzdrNkfxM_I"
   },
   "source": [
    "#### Training and evaluating a bidirectional LSTM"
   ]
  },
  {
   "cell_type": "code",
   "execution_count": null,
   "metadata": {
    "id": "-MBVJGOyxM_I"
   },
   "outputs": [],
   "source": [
    "inputs = tf.keras.Input(shape=(sequence_length, raw_data.shape[-1]))\n",
    "                  # ↓ BIDIRECTIONAL -------------------------------\n",
    "x = tf.keras.layers.Bidirectional(tf.keras.layers.LSTM(16))(inputs)\n",
    "                  # ------------- ↑ wrapping an RNN layer ---------\n",
    "outputs = tf.keras.layers.Dense(1)(x)\n",
    "model = tf.keras.Model(inputs, outputs)"
   ]
  },
  {
   "cell_type": "code",
   "execution_count": 51,
   "metadata": {
    "colab": {
     "base_uri": "https://localhost:8080/"
    },
    "id": "HWNjg9eoxM_I",
    "outputId": "e033a497-87c8-4c99-da94-daa7a719c6c4"
   },
   "outputs": [
    {
     "name": "stdout",
     "output_type": "stream",
     "text": [
      "Epoch 1/10\n",
      "\u001b[1m819/819\u001b[0m \u001b[32m━━━━━━━━━━━━━━━━━━━━\u001b[0m\u001b[37m\u001b[0m \u001b[1m50s\u001b[0m 59ms/step - loss: 54.8445 - mae: 5.4888 - val_loss: 10.5578 - val_mae: 2.5182\n",
      "Epoch 2/10\n",
      "\u001b[1m819/819\u001b[0m \u001b[32m━━━━━━━━━━━━━━━━━━━━\u001b[0m\u001b[37m\u001b[0m \u001b[1m47s\u001b[0m 57ms/step - loss: 9.9841 - mae: 2.4721 - val_loss: 9.9233 - val_mae: 2.4481\n",
      "Epoch 3/10\n",
      "\u001b[1m819/819\u001b[0m \u001b[32m━━━━━━━━━━━━━━━━━━━━\u001b[0m\u001b[37m\u001b[0m \u001b[1m46s\u001b[0m 56ms/step - loss: 8.7806 - mae: 2.3070 - val_loss: 9.7717 - val_mae: 2.4220\n",
      "Epoch 4/10\n",
      "\u001b[1m819/819\u001b[0m \u001b[32m━━━━━━━━━━━━━━━━━━━━\u001b[0m\u001b[37m\u001b[0m \u001b[1m84s\u001b[0m 58ms/step - loss: 8.1703 - mae: 2.2238 - val_loss: 10.0756 - val_mae: 2.4473\n",
      "Epoch 5/10\n",
      "\u001b[1m819/819\u001b[0m \u001b[32m━━━━━━━━━━━━━━━━━━━━\u001b[0m\u001b[37m\u001b[0m \u001b[1m47s\u001b[0m 57ms/step - loss: 7.7277 - mae: 2.1662 - val_loss: 10.3687 - val_mae: 2.4730\n",
      "Epoch 6/10\n",
      "\u001b[1m819/819\u001b[0m \u001b[32m━━━━━━━━━━━━━━━━━━━━\u001b[0m\u001b[37m\u001b[0m \u001b[1m49s\u001b[0m 59ms/step - loss: 7.3668 - mae: 2.1191 - val_loss: 10.5934 - val_mae: 2.4866\n",
      "Epoch 7/10\n",
      "\u001b[1m819/819\u001b[0m \u001b[32m━━━━━━━━━━━━━━━━━━━━\u001b[0m\u001b[37m\u001b[0m \u001b[1m47s\u001b[0m 57ms/step - loss: 7.1154 - mae: 2.0830 - val_loss: 10.8794 - val_mae: 2.5439\n",
      "Epoch 8/10\n",
      "\u001b[1m819/819\u001b[0m \u001b[32m━━━━━━━━━━━━━━━━━━━━\u001b[0m\u001b[37m\u001b[0m \u001b[1m84s\u001b[0m 60ms/step - loss: 6.8748 - mae: 2.0445 - val_loss: 10.7753 - val_mae: 2.5272\n",
      "Epoch 9/10\n",
      "\u001b[1m819/819\u001b[0m \u001b[32m━━━━━━━━━━━━━━━━━━━━\u001b[0m\u001b[37m\u001b[0m \u001b[1m79s\u001b[0m 57ms/step - loss: 6.6590 - mae: 2.0114 - val_loss: 10.8828 - val_mae: 2.5470\n",
      "Epoch 10/10\n",
      "\u001b[1m819/819\u001b[0m \u001b[32m━━━━━━━━━━━━━━━━━━━━\u001b[0m\u001b[37m\u001b[0m \u001b[1m83s\u001b[0m 58ms/step - loss: 6.4987 - mae: 1.9877 - val_loss: 10.9208 - val_mae: 2.5543\n"
     ]
    }
   ],
   "source": [
    "callbacks = [\n",
    "    tf.keras.callbacks.ModelCheckpoint(\n",
    "        str(MODELS_DIR / \"jena_lstm_bidirectional.keras\"),\n",
    "        save_best_only=True\n",
    "    )\n",
    "]\n",
    "\n",
    "model.compile(optimizer=\"rmsprop\", loss=\"mse\", metrics=[\"mae\"])\n",
    "history = model.fit(\n",
    "    train_dataset,\n",
    "    epochs=10,\n",
    "    validation_data=val_dataset,\n",
    "    callbacks=callbacks,\n",
    ")"
   ]
  },
  {
   "cell_type": "code",
   "execution_count": null,
   "metadata": {
    "id": "G1XjBlfvxM_I"
   },
   "outputs": [],
   "source": [
    "plot_history(history)"
   ]
  },
  {
   "cell_type": "code",
   "execution_count": 53,
   "metadata": {
    "colab": {
     "base_uri": "https://localhost:8080/"
    },
    "id": "GzOs9AYLxM_I",
    "outputId": "c35d9069-5fa9-445c-dc9a-674780a1ec81"
   },
   "outputs": [
    {
     "metadata": {
      "tags": null
     },
     "name": "stdout",
     "output_type": "stream",
     "text": [
      "\u001b[1m405/405\u001b[0m \u001b[32m━━━━━━━━━━━━━━━━━━━━\u001b[0m\u001b[37m\u001b[0m \u001b[1m15s\u001b[0m 35ms/step - loss: 11.5004 - mae: 2.6018\n",
      "Test MAE: 2.60\n"
     ]
    }
   ],
   "source": [
    "model = tf.keras.models.load_model(MODELS_DIR / \"jena_lstm_bidirectional.keras\")\n",
    "print(f\"Test MAE: {model.evaluate(test_dataset)[1]:.2f}\")"
   ]
  },
  {
   "cell_type": "markdown",
   "metadata": {
    "id": "G4HvuEo0IV1N"
   },
   "source": [
    "### Save models to Google Drive\n"
   ]
  },
  {
   "cell_type": "code",
   "execution_count": null,
   "metadata": {},
   "outputs": [],
   "source": [
    "EXPORT=False\n",
    "\n",
    "if EXPORT:\n",
    "    # zip models\n",
    "    !zip jena.models.zip {MODELS_DIR}/*\n",
    "    # connect to drive\n",
    "    from google.colab import drive\n",
    "    drive.mount('/content/drive')\n",
    "    # copy zip to drive (adjust folder as needed)\n",
    "    !cp jena.models.zip drive/MyDrive/IS53024B-Artificial-Intelligence/models"
   ]
  },
  {
   "cell_type": "markdown",
   "metadata": {
    "id": "OkHYZLMvlBbZ"
   },
   "source": [
    "---\n",
    "\n",
    "### 10.4.4 Going even further\n",
    "\n",
    "- Experiment with the number of units in recurrent layers, and with the l2 regularizer;\n",
    "- Experiment with the optimizer and learning rate;\n",
    "- Try and have a stack of Dense layers instead of just one;\n",
    "- Vary the length of input sequences, try a different sampling rate, or think about feature engineering."
   ]
  },
  {
   "cell_type": "markdown",
   "metadata": {
    "id": "O-1OzaUrxM_I"
   },
   "source": [
    "## Summary\n",
    "\n",
    "### As always\n",
    "\n",
    "- *Baselines, baselines, baselines*;\n",
    "- Try simple models, then more complex ones;"
   ]
  },
  {
   "cell_type": "markdown",
   "metadata": {
    "id": "QkyikBQuxM_I"
   },
   "source": [
    "### RNNs\n",
    "\n",
    "- Recurrent nets work well for data where **ordering** matters;\n",
    "- Two main layers:\n",
    "  - **LSTM**: most complex, most expensive;\n",
    "  - **GRU**: slightly less complex, faster;\n",
    "- For recurrent nets use the time-constant `recurrent_dropout` (slow!) or the `recurrent_regularizer`;\n",
    "- For more representational power, try **stacking** RNN layers\n",
    "- If you're not predicting future steps, you can try **bidirectional** layers."
   ]
  }
 ],
 "metadata": {
  "accelerator": "GPU",
  "celltoolbar": "Slideshow",
  "colab": {
   "provenance": []
  },
  "kernelspec": {
   "display_name": "Python 3 (ipykernel)",
   "language": "python",
   "name": "python3"
  },
  "language_info": {
   "codemirror_mode": {
    "name": "ipython",
    "version": 3
   },
   "file_extension": ".py",
   "mimetype": "text/x-python",
   "name": "python",
   "nbconvert_exporter": "python",
   "pygments_lexer": "ipython3",
   "version": "3.9.18"
  }
 },
 "nbformat": 4,
 "nbformat_minor": 4
}
