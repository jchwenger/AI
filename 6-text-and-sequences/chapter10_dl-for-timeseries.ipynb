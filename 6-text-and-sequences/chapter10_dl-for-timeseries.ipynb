{
 "cells": [
  {
   "cell_type": "markdown",
   "metadata": {
    "slideshow": {
     "slide_type": "slide"
    }
   },
   "source": [
    "# Attendance\n",
    "\n",
    "[The link to SEAts](https://goldsmithscollege.sharepoint.com/sites/intranet-supporting-students/SitePages/SEAtS--QR-codes-for-check-in.aspx?utm_campaign=SEAtS%20reminder%2027.09.22&utm_source=emailCampaign&utm_content=&utm_medium=email)"
   ]
  },
  {
   "cell_type": "markdown",
   "metadata": {
    "slideshow": {
     "slide_type": "slide"
    }
   },
   "source": [
    "# Today\n",
    "\n",
    "- ## RNNs\n",
    "- ## NLP toolkit (text vectorisation, word embeddings)\n",
    "- ## Transformers"
   ]
  },
  {
   "cell_type": "markdown",
   "metadata": {
    "slideshow": {
     "slide_type": "slide"
    }
   },
   "source": [
    "# 10 Deep learning for timeseries"
   ]
  },
  {
   "cell_type": "code",
   "execution_count": 1,
   "metadata": {
    "slideshow": {
     "slide_type": "skip"
    }
   },
   "outputs": [],
   "source": [
    "import os\n",
    "import sys\n",
    "import pathlib\n",
    "\n",
    "import numpy as np\n",
    "import tensorflow as tf\n",
    "\n",
    "from matplotlib import pyplot as plt\n",
    "\n",
    "from IPython.display import YouTubeVideo\n",
    "from IPython.display import clear_output"
   ]
  },
  {
   "cell_type": "markdown",
   "metadata": {
    "id": "j3A_-4d8lBaM",
    "slideshow": {
     "slide_type": "skip"
    }
   },
   "source": [
    "#### Note\n",
    "\n",
    "In the case of this notebook, the length it takes to do some of the training made me run into time-out issue linked to the drive (after a while the drive disconnects). If you would like to experiment with this, I therefore recommend that you work exclusively on the virtual machine, and download the models manually from the file explorer on the left (or connect to the drive after training and move the model files using, for instance [`shutil`](https://realpython.com/working-with-files-in-python/#copying-moving-and-renaming-files-and-directories)).\n",
    "\n",
    "```python\n",
    "# reminder: Colab code to mount your drive\n",
    "if 'google.colab' in sys.modules:\n",
    "    from google.colab import drive\n",
    "    drive.mount('/content/drive') # 'My Drive' is the default name of Google Drives, change the rest accordingly!\n",
    "    os.chdir('drive/My Drive/IS53024B-Artificial-Intelligence/6-text-and-sequences')\n",
    "    os.listdir()\n",
    "```"
   ]
  },
  {
   "cell_type": "markdown",
   "metadata": {
    "slideshow": {
     "slide_type": "slide"
    }
   },
   "source": [
    "---\n",
    "\n",
    "## 10.2 A temperature-forecasting example"
   ]
  },
  {
   "cell_type": "markdown",
   "metadata": {
    "slideshow": {
     "slide_type": "skip"
    }
   },
   "source": [
    "Download the data\n",
    "```bash\n",
    "!wget https://s3.amazonaws.com/keras-datasets/jena_climate_2009_2016.csv.zip\n",
    "!unzip jena_climate_2009_2016.csv.zip -d jena\n",
    "```"
   ]
  },
  {
   "cell_type": "markdown",
   "metadata": {
    "slideshow": {
     "slide_type": "slide"
    }
   },
   "source": [
    "#### Inspecting the data of the Jena weather dataset"
   ]
  },
  {
   "cell_type": "code",
   "execution_count": 21,
   "metadata": {
    "slideshow": {
     "slide_type": "fragment"
    }
   },
   "outputs": [
    {
     "name": "stdout",
     "output_type": "stream",
     "text": [
      "0  | \"Date Time\"\n",
      "1  | \"p (mbar)\"\n",
      "2  | \u001b[1;3m\"T (degC)\" ← temperature in °C\u001b[0m\n",
      "3  | \"Tpot (K)\"\n",
      "4  | \"Tdew (degC)\"\n",
      "5  | \"rh (%)\"\n",
      "6  | \"VPmax (mbar)\"\n",
      "7  | \"VPact (mbar)\"\n",
      "8  | \"VPdef (mbar)\"\n",
      "9  | \"sh (g/kg)\"\n",
      "10 | \"H2OC (mmol/mol)\"\n",
      "11 | \"rho (g/m**3)\"\n",
      "12 | \"wv (m/s)\"\n",
      "13 | \"max. wv (m/s)\"\n",
      "14 | \"wd (deg)\"\n",
      "\n",
      "420451 lines\n"
     ]
    }
   ],
   "source": [
    "base_dir = pathlib.Path(\"jena\")\n",
    "fname = base_dir / \"jena_climate_2009_2016.csv\"\n",
    "\n",
    "with open(fname) as f:\n",
    "    data = f.read()\n",
    "\n",
    "lines = data.split(\"\\n\")             # split on lines\n",
    "header = lines[0].split(\",\")         # first line is our header (split on commas)\n",
    "lines = lines[1:]                    # our data is all the next lines\n",
    "for i, feature in enumerate(header): # loop through our header items\n",
    "    if feature == '\"T (degC)\"':\n",
    "        print(f\"{i:<2} | \\033[1;3m{feature} ← temperature in °C\\033[0m\")\n",
    "    else:\n",
    "        print(f\"{i:<2} | {feature}\")\n",
    "\n",
    "print()\n",
    "print(f\"{len(lines)} lines\")"
   ]
  },
  {
   "cell_type": "markdown",
   "metadata": {
    "slideshow": {
     "slide_type": "skip"
    }
   },
   "source": [
    "#### Parsing the data"
   ]
  },
  {
   "cell_type": "code",
   "execution_count": 22,
   "metadata": {
    "slideshow": {
     "slide_type": "skip"
    }
   },
   "outputs": [
    {
     "name": "stdout",
     "output_type": "stream",
     "text": [
      "loading numpy files\n"
     ]
    }
   ],
   "source": [
    "temperature = np.zeros((len(lines),))\n",
    "raw_data = np.zeros((len(lines), len(header) - 1))   # (len minus the date)\n",
    "\n",
    "if not os.path.isfile(base_dir / \"temperature.npy\") and not os.path.isfile(base_dir / \"raw_data.npz\"):\n",
    "    print(\"loading dataset\")\n",
    "    for i, line in enumerate(lines):\n",
    "        clear_output(wait=True)\n",
    "        print(f\"line {i}/{len(lines)}\")\n",
    "        values = [float(x) for x in line.split(\",\")[1:]] # (don't take the date)\n",
    "        temperature[i] = values[1]                       # temperature at index 1\n",
    "        raw_data[i, :] = values[:]\n",
    "    np.save(base_dir / \"temperature.npy\", temperature)   # save as binary data\n",
    "    np.save(base_dir / \"raw_data.npy\", raw_data)         # (much faster reloads)\n",
    "else:\n",
    "    print(\"loading numpy files\")    \n",
    "    temperature = np.load(base_dir / \"temperature.npy\")\n",
    "    raw_data = np.load(base_dir / \"raw_data.npy\")"
   ]
  },
  {
   "cell_type": "markdown",
   "metadata": {
    "slideshow": {
     "slide_type": "subslide"
    }
   },
   "source": [
    "#### Plotting the temperature timeseries"
   ]
  },
  {
   "cell_type": "code",
   "execution_count": 23,
   "metadata": {
    "slideshow": {
     "slide_type": "fragment"
    }
   },
   "outputs": [
    {
     "data": {
      "text/plain": [
       "[<matplotlib.lines.Line2D at 0x7f3ef0cca460>]"
      ]
     },
     "execution_count": 23,
     "metadata": {},
     "output_type": "execute_result"
    },
    {
     "data": {
      "image/png": "[encoded data removed]",
      "text/plain": [
       "<Figure size 640x480 with 1 Axes>"
      ]
     },
     "metadata": {},
     "output_type": "display_data"
    }
   ],
   "source": [
    "plt.plot(range(len(temperature)), temperature) # globally cyclical"
   ]
  },
  {
   "cell_type": "markdown",
   "metadata": {
    "slideshow": {
     "slide_type": "subslide"
    }
   },
   "source": [
    "#### Plotting the first 10 days of the temperature timeseries"
   ]
  },
  {
   "cell_type": "code",
   "execution_count": 24,
   "metadata": {
    "slideshow": {
     "slide_type": "fragment"
    }
   },
   "outputs": [
    {
     "data": {
      "text/plain": [
       "[<matplotlib.lines.Line2D at 0x7f3eea202a00>]"
      ]
     },
     "execution_count": 24,
     "metadata": {},
     "output_type": "execute_result"
    },
    {
     "data": {
      "image/png": "[encoded data removed]",
      "text/plain": [
       "<Figure size 640x480 with 1 Axes>"
      ]
     },
     "metadata": {},
     "output_type": "display_data"
    }
   ],
   "source": [
    "plt.plot(range(1440), temperature[:1440]) # locally much less so"
   ]
  },
  {
   "cell_type": "markdown",
   "metadata": {
    "slideshow": {
     "slide_type": "subslide"
    }
   },
   "source": [
    "#### Computing the number of samples we'll use for each data split"
   ]
  },
  {
   "cell_type": "code",
   "execution_count": 25,
   "metadata": {
    "slideshow": {
     "slide_type": "fragment"
    }
   },
   "outputs": [
    {
     "name": "stdout",
     "output_type": "stream",
     "text": [
      "num_train_samples: 210225\n",
      "num_val_samples: 105112\n",
      "num_test_samples: 105114\n"
     ]
    }
   ],
   "source": [
    "num_train_samples = int(0.5 * len(raw_data))                           # 50% for training\n",
    "num_val_samples = int(0.25 * len(raw_data))                            # 25% for validation\n",
    "num_test_samples = len(raw_data) - num_train_samples - num_val_samples # the rest (25%) for test\n",
    "print(\"num_train_samples:\", num_train_samples)\n",
    "print(\"num_val_samples:\", num_val_samples)\n",
    "print(\"num_test_samples:\", num_test_samples)"
   ]
  },
  {
   "cell_type": "markdown",
   "metadata": {
    "slideshow": {
     "slide_type": "slide"
    }
   },
   "source": [
    "---\n",
    "\n",
    "### 10.2.1 Preparing the data"
   ]
  },
  {
   "cell_type": "markdown",
   "metadata": {
    "slideshow": {
     "slide_type": "fragment"
    }
   },
   "source": [
    "#### Normalizing the data"
   ]
  },
  {
   "cell_type": "code",
   "execution_count": 26,
   "metadata": {
    "slideshow": {
     "slide_type": "fragment"
    }
   },
   "outputs": [],
   "source": [
    "mean = raw_data[:num_train_samples].mean(axis=0) # we use the train data only to normalise\n",
    "raw_data -= mean\n",
    "std = raw_data[:num_train_samples].std(axis=0)\n",
    "raw_data /= std"
   ]
  },
  {
   "cell_type": "markdown",
   "metadata": {
    "slideshow": {
     "slide_type": "subslide"
    }
   },
   "source": [
    "What will our dataset look like? A sequence, and a next step.\n",
    "\n",
    "Documentation for [`tf.keras.utils.timeseries_dataset_from_array`](https://www.tensorflow.org/api_docs/python/tf/keras/utils/timeseries_dataset_from_array)."
   ]
  },
  {
   "cell_type": "code",
   "execution_count": 27,
   "metadata": {
    "slideshow": {
     "slide_type": "fragment"
    }
   },
   "outputs": [
    {
     "name": "stdout",
     "output_type": "stream",
     "text": [
      "----------------------------------------\n",
      "[0, 1, 2] 3\n",
      "[1, 2, 3] 4\n",
      "----------------------------------------\n",
      "[2, 3, 4] 5\n",
      "[3, 4, 5] 6\n",
      "----------------------------------------\n",
      "[4, 5, 6] 7\n"
     ]
    }
   ],
   "source": [
    "int_sequence = np.arange(10)\n",
    "dummy_dataset = tf.keras.utils.timeseries_dataset_from_array(\n",
    "    data=int_sequence[:-3],   # given our length, stop 3 before the end\n",
    "    targets=int_sequence[3:], # the first target will be at the fourth element\n",
    "    sequence_length=3,\n",
    "    batch_size=2,\n",
    ")\n",
    "\n",
    "for inputs, targets in dummy_dataset:\n",
    "    print(\"-\"*40)\n",
    "    for i in range(inputs.shape[0]): # loop over batch\n",
    "        print([int(x) for x in inputs[i]], int(targets[i]))"
   ]
  },
  {
   "cell_type": "markdown",
   "metadata": {
    "slideshow": {
     "slide_type": "subslide"
    }
   },
   "source": [
    "#### Instantiating datasets for training, validation, and testing"
   ]
  },
  {
   "cell_type": "code",
   "execution_count": 28,
   "metadata": {
    "slideshow": {
     "slide_type": "fragment"
    }
   },
   "outputs": [],
   "source": [
    "sampling_rate = 6                                  # in the data, one sample every 10 mins: x 6 → one per hour\n",
    "sequence_length = 120                              # the length of our sequence is 5 days (120 hours)\n",
    "delay = sampling_rate * (sequence_length + 24 - 1) # target is 24h after the end of the sequence (one day after)\n",
    "batch_size = 256\n",
    "\n",
    "train_dataset = tf.keras.utils.timeseries_dataset_from_array(\n",
    "    raw_data[:-delay],           # not beyond `delay` steps before the end (that's our targets)\n",
    "    targets=temperature[delay:], # first traget will start at `delay` step after the start\n",
    "    sampling_rate=sampling_rate,\n",
    "    sequence_length=sequence_length,\n",
    "    shuffle=True,\n",
    "    batch_size=batch_size,\n",
    "    start_index=0,\n",
    "    end_index=num_train_samples\n",
    ")\n",
    "\n",
    "val_dataset = tf.keras.utils.timeseries_dataset_from_array(\n",
    "    raw_data[:-delay],\n",
    "    targets=temperature[delay:],\n",
    "    sampling_rate=sampling_rate,\n",
    "    sequence_length=sequence_length,\n",
    "    shuffle=True,\n",
    "    batch_size=batch_size,\n",
    "    start_index=num_train_samples,                           # start after train\n",
    "    end_index=num_train_samples + num_val_samples\n",
    ")\n",
    "\n",
    "test_dataset = tf.keras.utils.timeseries_dataset_from_array(\n",
    "    raw_data[:-delay],\n",
    "    targets=temperature[delay:],\n",
    "    sampling_rate=sampling_rate,\n",
    "    sequence_length=sequence_length,\n",
    "    shuffle=True,\n",
    "    batch_size=batch_size,\n",
    "    start_index=num_train_samples + num_val_samples         # start after train & val\n",
    ")"
   ]
  },
  {
   "cell_type": "markdown",
   "metadata": {
    "slideshow": {
     "slide_type": "subslide"
    }
   },
   "source": [
    "#### Inspecting the output of one of our datasets"
   ]
  },
  {
   "cell_type": "code",
   "execution_count": 29,
   "metadata": {
    "slideshow": {
     "slide_type": "fragment"
    }
   },
   "outputs": [
    {
     "name": "stdout",
     "output_type": "stream",
     "text": [
      "samples shape: (256, 120, 14)\n",
      "targets shape: (256,)\n"
     ]
    }
   ],
   "source": [
    "for samples, targets in train_dataset:\n",
    "    print(\"samples shape:\", samples.shape)\n",
    "    print(\"targets shape:\", targets.shape)\n",
    "    break"
   ]
  },
  {
   "cell_type": "markdown",
   "metadata": {
    "slideshow": {
     "slide_type": "slide"
    }
   },
   "source": [
    "---\n",
    "\n",
    "### 10.2.2 A common-sense, non-machine-learning baseline\n",
    "\n",
    "What would that look like for continuous data, like temperature?\n",
    "\n",
    "The assumptions that Chollet make (would it work for UK weather?!) are:\n",
    "\n",
    "> \"In this case, the temperature timeseries can safely be assumed to be continuous (the temperatures tomorrow are likely to be close to the temperatures today) as well as periodical with a daily period. Thus a common-sense approach is to always predict that the temperature 24 hours from now will be equal to the temperature right now.\" (DLWP, p. 288)\n",
    "\n",
    "This is similar to the Boston Housing dataset example we had: calculate the Mean Absolute Error (MAE)."
   ]
  },
  {
   "cell_type": "markdown",
   "metadata": {
    "slideshow": {
     "slide_type": "subslide"
    }
   },
   "source": [
    "#### Computing the common-sense baseline MAE"
   ]
  },
  {
   "cell_type": "code",
   "execution_count": 30,
   "metadata": {
    "slideshow": {
     "slide_type": "fragment"
    }
   },
   "outputs": [
    {
     "name": "stdout",
     "output_type": "stream",
     "text": [
      "Validation MAE: 2.44\n",
      "Test MAE: 2.62\n"
     ]
    }
   ],
   "source": [
    "def evaluate_naive_method(dataset):\n",
    "    \"\"\"Evaluation: the target (in 24h) is identical to the last temperature measurement\"\"\"\n",
    "    total_abs_err = 0.\n",
    "    samples_seen = 0\n",
    "    for samples, targets in dataset:\n",
    "        #                   ┌ (the last sample, as our shape is: [samples, step, feature])\n",
    "        #        (batch ↓)  ↓ (↓ feature at index 1: temperature) \n",
    "        preds = samples[:, -1, 1] * std[1] + mean[1]     # unnormalize, same mean/std as in training\n",
    "        total_abs_err += np.sum(np.abs(preds - targets)) # absolute distance between current & in 24h\n",
    "        samples_seen += samples.shape[0]\n",
    "    return total_abs_err / samples_seen\n",
    "\n",
    "print(f\"Validation MAE: {evaluate_naive_method(val_dataset):.2f}\")\n",
    "print(f\"Test MAE: {evaluate_naive_method(test_dataset):.2f}\")"
   ]
  },
  {
   "cell_type": "markdown",
   "metadata": {
    "slideshow": {
     "slide_type": "subslide"
    }
   },
   "source": [
    "Can we beat this baseline? \n",
    "\n",
    "A common sense baseline is essential – otherwise we cannot calibrate the performance of any model.\n",
    "\n",
    "An ML baseline – a simple, cheap model – is also useful.\n",
    "\n",
    "Our focus is: **are sophisticated models worth the extra computational effort?**"
   ]
  },
  {
   "cell_type": "markdown",
   "metadata": {
    "slideshow": {
     "slide_type": "slide"
    }
   },
   "source": [
    "---\n",
    "### 10.2.3 Let's try a basic machine-learning model\n",
    "\n",
    "Our baseline model is a two layer (plus flattening layer) fully-connected feedforward network.\n",
    "\n",
    "#### Regression task\n",
    "\n",
    "The final layer has a single unit without activation.\n",
    "\n",
    "#### Loss\n",
    "Mean Squared Error (MSE)\n",
    "\n",
    "#### Metric\n",
    "\n",
    "Mean Absolute Error (MAE), so results are directly comparable to the common-sense baseline."
   ]
  },
  {
   "cell_type": "markdown",
   "metadata": {
    "slideshow": {
     "slide_type": "subslide"
    }
   },
   "source": [
    "#### Training and evaluating a densely connected model"
   ]
  },
  {
   "cell_type": "code",
   "execution_count": 31,
   "metadata": {
    "slideshow": {
     "slide_type": "fragment"
    }
   },
   "outputs": [],
   "source": [
    "inputs = tf.keras.Input(shape=(sequence_length, raw_data.shape[-1]))\n",
    "x = tf.keras.layers.Flatten()(inputs)\n",
    "x = tf.keras.layers.Dense(16, activation=\"relu\")(x)\n",
    "outputs = tf.keras.layers.Dense(1)(x)\n",
    "model = tf.keras.Model(inputs, outputs)"
   ]
  },
  {
   "cell_type": "code",
   "execution_count": 32,
   "metadata": {
    "slideshow": {
     "slide_type": "skip"
    }
   },
   "outputs": [
    {
     "name": "stdout",
     "output_type": "stream",
     "text": [
      "Model: \"model_2\"\n",
      "_________________________________________________________________\n",
      " Layer (type)                Output Shape              Param #   \n",
      "=================================================================\n",
      " input_3 (InputLayer)        [(None, 120, 14)]         0         \n",
      "                                                                 \n",
      " flatten_2 (Flatten)         (None, 1680)              0         \n",
      "                                                                 \n",
      " dense_4 (Dense)             (None, 16)                26896     \n",
      "                                                                 \n",
      " dense_5 (Dense)             (None, 1)                 17        \n",
      "                                                                 \n",
      "=================================================================\n",
      "Total params: 26913 (105.13 KB)\n",
      "Trainable params: 26913 (105.13 KB)\n",
      "Non-trainable params: 0 (0.00 Byte)\n",
      "_________________________________________________________________\n"
     ]
    }
   ],
   "source": [
    "model.summary()"
   ]
  },
  {
   "cell_type": "code",
   "execution_count": 41,
   "metadata": {
    "slideshow": {
     "slide_type": "skip"
    }
   },
   "outputs": [
    {
     "name": "stdout",
     "output_type": "stream",
     "text": [
      "Epoch 1/10\n",
      "819/819 [==============================] - 34s 39ms/step - loss: 6.7306 - mae: 2.0450 - val_loss: 10.8086 - val_mae: 2.5882\n",
      "Epoch 2/10\n"
     ]
    },
    {
     "name": "stderr",
     "output_type": "stream",
     "text": [
      "/home/jcw/anaconda3/envs/gold/lib/python3.9/site-packages/keras/src/engine/training.py:3000: UserWarning: You are saving your model as an HDF5 file via `model.save()`. This file format is considered legacy. We recommend using instead the native Keras format, e.g. `model.save('my_model.keras')`.\n",
      "  saving_api.save_model(\n"
     ]
    },
    {
     "name": "stdout",
     "output_type": "stream",
     "text": [
      "819/819 [==============================] - 32s 39ms/step - loss: 6.6439 - mae: 2.0313 - val_loss: 10.6961 - val_mae: 2.5708\n",
      "Epoch 3/10\n",
      "819/819 [==============================] - 36s 44ms/step - loss: 6.5522 - mae: 2.0179 - val_loss: 11.1722 - val_mae: 2.6387\n",
      "Epoch 4/10\n",
      "819/819 [==============================] - 32s 39ms/step - loss: 6.4959 - mae: 2.0114 - val_loss: 11.6322 - val_mae: 2.6880\n",
      "Epoch 5/10\n",
      "819/819 [==============================] - 28s 34ms/step - loss: 6.4210 - mae: 1.9983 - val_loss: 10.9670 - val_mae: 2.6082\n",
      "Epoch 6/10\n",
      "819/819 [==============================] - 34s 41ms/step - loss: 6.3617 - mae: 1.9903 - val_loss: 10.7818 - val_mae: 2.5942\n",
      "Epoch 7/10\n",
      "819/819 [==============================] - 42s 50ms/step - loss: 6.3176 - mae: 1.9838 - val_loss: 11.3367 - val_mae: 2.6471\n",
      "Epoch 8/10\n",
      "819/819 [==============================] - 34s 41ms/step - loss: 6.2701 - mae: 1.9749 - val_loss: 13.1173 - val_mae: 2.8621\n",
      "Epoch 9/10\n",
      "819/819 [==============================] - 30s 37ms/step - loss: 6.2248 - mae: 1.9677 - val_loss: 10.7186 - val_mae: 2.5805\n",
      "Epoch 10/10\n",
      "819/819 [==============================] - 32s 38ms/step - loss: 6.1931 - mae: 1.9626 - val_loss: 11.0781 - val_mae: 2.6298\n"
     ]
    }
   ],
   "source": [
    "callbacks = [\n",
    "    tf.keras.callbacks.ModelCheckpoint(\n",
    "        str(base_dir / \"jena_dense.h5\"),\n",
    "        save_best_only=True\n",
    "    )\n",
    "]\n",
    "\n",
    "\n",
    "model.compile(\n",
    "    optimizer=\"rmsprop\",\n",
    "    loss=\"mse\",\n",
    "    metrics=[\"mae\"]\n",
    ")\n",
    "\n",
    "history = model.fit(\n",
    "    train_dataset,\n",
    "    epochs=10,\n",
    "    validation_data=val_dataset,\n",
    "    callbacks=callbacks\n",
    ")"
   ]
  },
  {
   "cell_type": "code",
   "execution_count": 40,
   "metadata": {
    "scrolled": true,
    "slideshow": {
     "slide_type": "fragment"
    }
   },
   "outputs": [
    {
     "name": "stdout",
     "output_type": "stream",
     "text": [
      "405/405 [==============================] - 11s 26ms/step - loss: 13.2314 - mae: 2.8943\n",
      "Test MAE: 2.89\n"
     ]
    }
   ],
   "source": [
    "model = tf.keras.models.load_model(base_dir / \"jena_dense.h5\")\n",
    "print(f\"Test MAE: {model.evaluate(test_dataset)[1]:.2f}\")"
   ]
  },
  {
   "cell_type": "markdown",
   "metadata": {
    "slideshow": {
     "slide_type": "subslide"
    }
   },
   "source": [
    "We haven't beaten the common sense baseline!\n",
    "\n",
    "The model is worse than common sense.\n",
    "\n",
    "The machine is not privy to the wealth of human experiential evidence.\n",
    "\n",
    "But why hasn't the machine found our simple model: that tomorrow's temperature will be pretty similar to today's? \n"
   ]
  },
  {
   "cell_type": "markdown",
   "metadata": {
    "slideshow": {
     "slide_type": "subslide"
    }
   },
   "source": [
    "The hypothesis space is the *space of all two layer networks*.\n",
    "\n",
    "Already a very complicated space.\n",
    "\n",
    "The simple baseline might hidden in a tiny corner of this vast, intricate hypothesis space."
   ]
  },
  {
   "cell_type": "markdown",
   "metadata": {
    "slideshow": {
     "slide_type": "subslide"
    }
   },
   "source": [
    "ML limitation: parameter learning can fail to find a simple solution to a simple problem.\n",
    "\n",
    "Of course we could hard-code models to look for a specific kind of solution but we wish to avoid excessive feature engineering."
   ]
  },
  {
   "cell_type": "markdown",
   "metadata": {
    "slideshow": {
     "slide_type": "skip"
    }
   },
   "source": [
    "#### Plotting results"
   ]
  },
  {
   "cell_type": "code",
   "execution_count": 10,
   "metadata": {
    "slideshow": {
     "slide_type": "skip"
    }
   },
   "outputs": [],
   "source": [
    "def plot_history(history):\n",
    "    loss = history.history[\"mae\"]\n",
    "    val_loss = history.history[\"val_mae\"]\n",
    "    epochs = range(1, len(loss) + 1)\n",
    "    plt.figure()\n",
    "    plt.plot(epochs, loss, label=\"Training MAE\")\n",
    "    plt.plot(epochs, val_loss, label=\"Validation MAE\")\n",
    "    plt.title(\"Training and validation MAE\")\n",
    "    plt.legend()\n",
    "    plt.show()"
   ]
  },
  {
   "cell_type": "code",
   "execution_count": 22,
   "metadata": {
    "slideshow": {
     "slide_type": "skip"
    }
   },
   "outputs": [
    {
     "data": {
      "image/png": "[encoded data removed]",
      "text/plain": [
       "<Figure size 640x480 with 1 Axes>"
      ]
     },
     "metadata": {},
     "output_type": "display_data"
    }
   ],
   "source": [
    "plot_history(history)"
   ]
  },
  {
   "cell_type": "markdown",
   "metadata": {
    "slideshow": {
     "slide_type": "slide"
    }
   },
   "source": [
    "---\n",
    "\n",
    "### 10.2.4 Let's try a 1D convolutional model"
   ]
  },
  {
   "cell_type": "markdown",
   "metadata": {
    "slideshow": {
     "slide_type": "subslide"
    }
   },
   "source": [
    "Convnets extract and modularise salient 2D information from local patches.\n",
    "\n",
    "1D data – timeseries – might have similar local regularities.\n",
    "\n",
    "And then 1D convnets would provide a cheap alternative to RNNs."
   ]
  },
  {
   "cell_type": "markdown",
   "metadata": {
    "slideshow": {
     "slide_type": "subslide"
    }
   },
   "source": [
    "1D Pooling works just like 2D pooling – max (or average) pooling.\n",
    "\n",
    "Used for subsampling – reducing the length of 1D inputs."
   ]
  },
  {
   "cell_type": "markdown",
   "metadata": {
    "slideshow": {
     "slide_type": "subslide"
    }
   },
   "source": [
    "<!-- <img src=\"images/convolutions/1d-conv.png\"> -->\n",
    "<img src=\"https://github.com/jchwenger/AI/blob/main/6-text-and-sequences/images/convolutions/1d-conv.png?raw=true\">\n",
    "\n",
    "<small>[Castro et al., \"STConvS2S: Spatiotemporal Convolutional Sequence to Sequence Network for weather forecasting\", ResearchGate](https://www.researchgate.net/figure/Causal-convolution-operation-in-a-1D-convolutional-layer-with-k-3-kernel-size-Input_fig1_337703712)</small>"
   ]
  },
  {
   "cell_type": "code",
   "execution_count": 25,
   "metadata": {
    "slideshow": {
     "slide_type": "subslide"
    }
   },
   "outputs": [],
   "source": [
    "tf.keras.backend.clear_session()\n",
    "\n",
    "inputs = tf.keras.Input(shape=(sequence_length, raw_data.shape[-1]))\n",
    "                            # ↓ note the larger convolution window: 24\n",
    "x = tf.keras.layers.Conv1D(8, 24, activation=\"relu\")(inputs)\n",
    "x = tf.keras.layers.MaxPooling1D(2)(x)\n",
    "x = tf.keras.layers.Conv1D(8, 12, activation=\"relu\")(x)\n",
    "x = tf.keras.layers.MaxPooling1D(2)(x)\n",
    "x = tf.keras.layers.Conv1D(8, 6, activation=\"relu\")(x)\n",
    "x = tf.keras.layers.GlobalAveragePooling1D()(x)\n",
    "outputs = tf.keras.layers.Dense(1)(x)\n",
    "model = tf.keras.Model(inputs, outputs)"
   ]
  },
  {
   "cell_type": "code",
   "execution_count": 26,
   "metadata": {
    "slideshow": {
     "slide_type": "skip"
    }
   },
   "outputs": [
    {
     "name": "stdout",
     "output_type": "stream",
     "text": [
      "Epoch 1/10\n",
      "819/819 [==============================] - 37s 42ms/step - loss: 22.6764 - mae: 3.7402 - val_loss: 17.2227 - val_mae: 3.3239\n",
      "Epoch 2/10\n",
      "819/819 [==============================] - 30s 37ms/step - loss: 15.8596 - mae: 3.1847 - val_loss: 17.1841 - val_mae: 3.2985\n",
      "Epoch 3/10\n",
      "819/819 [==============================] - 33s 40ms/step - loss: 14.5838 - mae: 3.0461 - val_loss: 14.8074 - val_mae: 3.0218\n",
      "Epoch 4/10\n",
      "819/819 [==============================] - 32s 38ms/step - loss: 13.6190 - mae: 2.9363 - val_loss: 19.1734 - val_mae: 3.4623\n",
      "Epoch 5/10\n",
      "819/819 [==============================] - 28s 33ms/step - loss: 12.9764 - mae: 2.8631 - val_loss: 14.3195 - val_mae: 2.9808\n",
      "Epoch 6/10\n",
      "819/819 [==============================] - 31s 38ms/step - loss: 12.4982 - mae: 2.8070 - val_loss: 19.2121 - val_mae: 3.4513\n",
      "Epoch 7/10\n",
      "819/819 [==============================] - 31s 38ms/step - loss: 12.1809 - mae: 2.7697 - val_loss: 15.7789 - val_mae: 3.1094\n",
      "Epoch 8/10\n",
      "819/819 [==============================] - 30s 36ms/step - loss: 11.8297 - mae: 2.7270 - val_loss: 14.5724 - val_mae: 2.9841\n",
      "Epoch 9/10\n",
      "819/819 [==============================] - 30s 36ms/step - loss: 11.5054 - mae: 2.6890 - val_loss: 15.5491 - val_mae: 3.1048\n",
      "Epoch 10/10\n",
      "819/819 [==============================] - 29s 35ms/step - loss: 11.2578 - mae: 2.6617 - val_loss: 13.9782 - val_mae: 2.9344\n"
     ]
    }
   ],
   "source": [
    "callbacks = [\n",
    "    tf.keras.callbacks.ModelCheckpoint(\n",
    "        str(base_dir / \"jena_conv.h5\"),\n",
    "        save_best_only=True\n",
    "    )\n",
    "]\n",
    "\n",
    "model.compile(\n",
    "    optimizer=\"rmsprop\",\n",
    "    loss=\"mse\",\n",
    "    metrics=[\"mae\"]\n",
    ")\n",
    "\n",
    "history = model.fit(\n",
    "    train_dataset,\n",
    "    epochs=10,\n",
    "    validation_data=val_dataset,\n",
    "    callbacks=callbacks\n",
    ")"
   ]
  },
  {
   "cell_type": "code",
   "execution_count": 27,
   "metadata": {
    "slideshow": {
     "slide_type": "skip"
    }
   },
   "outputs": [
    {
     "data": {
      "image/png": "[encoded data removed]",
      "text/plain": [
       "<Figure size 640x480 with 1 Axes>"
      ]
     },
     "metadata": {},
     "output_type": "display_data"
    }
   ],
   "source": [
    "plot_history(history)"
   ]
  },
  {
   "cell_type": "code",
   "execution_count": 24,
   "metadata": {
    "slideshow": {
     "slide_type": "fragment"
    }
   },
   "outputs": [
    {
     "name": "stdout",
     "output_type": "stream",
     "text": [
      "405/405 [==============================] - 14s 25ms/step - loss: 14.8517 - mae: 3.0467\n",
      "Test MAE: 3.05\n"
     ]
    }
   ],
   "source": [
    "model = tf.keras.models.load_model(base_dir / \"jena_conv.h5\")\n",
    "print(f\"Test MAE: {model.evaluate(test_dataset)[1]:.2f}\")\n",
    "del model # Not as good performance as the baseline or RNNs/LSTMs, but cheaper to run!"
   ]
  },
  {
   "cell_type": "markdown",
   "metadata": {
    "slideshow": {
     "slide_type": "subslide"
    }
   },
   "source": [
    "Even worse! What went wrong?\n",
    "\n",
    "Two things:\n",
    "- weather data doesn't quite respect translational invariance: patterns are not quite the same in the morning, noon, and evening – invariance only happens at a specific scale;\n",
    "- *order* in our data matters a lot, with the recent past especially influencing the future: a ConvNet cannot leverage this (DLWP, p. 291)"
   ]
  },
  {
   "cell_type": "markdown",
   "metadata": {
    "slideshow": {
     "slide_type": "slide"
    }
   },
   "source": [
    "---\n",
    "\n",
    "### 10.2.5 A first recurrent baseline\n",
    "\n",
    "Perhaps causality and order matter (weather is not actually random, but follows day-by-day patterns).\n",
    "\n",
    "We need an order-preserving model – an RNN."
   ]
  },
  {
   "cell_type": "markdown",
   "metadata": {
    "slideshow": {
     "slide_type": "subslide"
    }
   },
   "source": [
    "#### A simple LSTM-based model"
   ]
  },
  {
   "cell_type": "code",
   "execution_count": 22,
   "metadata": {
    "slideshow": {
     "slide_type": "fragment"
    }
   },
   "outputs": [],
   "source": [
    "tf.keras.backend.clear_session()\n",
    "\n",
    "inputs = tf.keras.Input(shape=(sequence_length, raw_data.shape[-1]))\n",
    "x = tf.keras.layers.LSTM(16)(inputs) # ← our LSTM\n",
    "outputs = tf.keras.layers.Dense(1)(x)\n",
    "model = tf.keras.Model(inputs, outputs)"
   ]
  },
  {
   "cell_type": "code",
   "execution_count": 23,
   "metadata": {
    "slideshow": {
     "slide_type": "skip"
    }
   },
   "outputs": [
    {
     "name": "stdout",
     "output_type": "stream",
     "text": [
      "Model: \"model\"\n",
      "_________________________________________________________________\n",
      " Layer (type)                Output Shape              Param #   \n",
      "=================================================================\n",
      " input_1 (InputLayer)        [(None, 120, 14)]         0         \n",
      "                                                                 \n",
      " lstm (LSTM)                 (None, 16)                1984      \n",
      "                                                                 \n",
      " dense (Dense)               (None, 1)                 17        \n",
      "                                                                 \n",
      "=================================================================\n",
      "Total params: 2,001\n",
      "Trainable params: 2,001\n",
      "Non-trainable params: 0\n",
      "_________________________________________________________________\n"
     ]
    }
   ],
   "source": [
    "model.summary()"
   ]
  },
  {
   "cell_type": "code",
   "execution_count": 29,
   "metadata": {
    "slideshow": {
     "slide_type": "skip"
    }
   },
   "outputs": [
    {
     "name": "stdout",
     "output_type": "stream",
     "text": [
      "Epoch 1/10\n",
      "819/819 [==============================] - 38s 39ms/step - loss: 37.2632 - mae: 4.4338 - val_loss: 11.6923 - val_mae: 2.6286\n",
      "Epoch 2/10\n",
      "819/819 [==============================] - 34s 41ms/step - loss: 10.9944 - mae: 2.5781 - val_loss: 9.6755 - val_mae: 2.4259\n",
      "Epoch 3/10\n",
      "819/819 [==============================] - 32s 39ms/step - loss: 9.9950 - mae: 2.4591 - val_loss: 9.8242 - val_mae: 2.4123\n",
      "Epoch 4/10\n",
      "819/819 [==============================] - 30s 36ms/step - loss: 9.6236 - mae: 2.4104 - val_loss: 9.2215 - val_mae: 2.3570\n",
      "Epoch 5/10\n",
      "819/819 [==============================] - 32s 39ms/step - loss: 9.3747 - mae: 2.3749 - val_loss: 9.2315 - val_mae: 2.3612\n",
      "Epoch 6/10\n",
      "819/819 [==============================] - 33s 39ms/step - loss: 9.1929 - mae: 2.3506 - val_loss: 9.3484 - val_mae: 2.3779\n",
      "Epoch 7/10\n",
      "819/819 [==============================] - 32s 39ms/step - loss: 9.0145 - mae: 2.3268 - val_loss: 9.4529 - val_mae: 2.3904\n",
      "Epoch 8/10\n",
      "819/819 [==============================] - 32s 39ms/step - loss: 8.8537 - mae: 2.3037 - val_loss: 9.8329 - val_mae: 2.4416\n",
      "Epoch 9/10\n",
      "819/819 [==============================] - 33s 40ms/step - loss: 8.7064 - mae: 2.2883 - val_loss: 9.7270 - val_mae: 2.4251\n",
      "Epoch 10/10\n",
      "819/819 [==============================] - 33s 40ms/step - loss: 8.5762 - mae: 2.2726 - val_loss: 10.0316 - val_mae: 2.4710\n"
     ]
    }
   ],
   "source": [
    "callbacks = [\n",
    "    tf.keras.callbacks.ModelCheckpoint(\n",
    "        str(base_dir / \"jena_lstm.h5\"),\n",
    "        save_best_only=True\n",
    "    )\n",
    "]\n",
    "model.compile(optimizer=\"rmsprop\", loss=\"mse\", metrics=[\"mae\"])\n",
    "history = model.fit(\n",
    "    train_dataset,\n",
    "    epochs=10,\n",
    "    validation_data=val_dataset,\n",
    "    callbacks=callbacks\n",
    ")"
   ]
  },
  {
   "cell_type": "code",
   "execution_count": 30,
   "metadata": {
    "slideshow": {
     "slide_type": "skip"
    }
   },
   "outputs": [
    {
     "data": {
      "image/png": "[encoded data removed]",
      "text/plain": [
       "<Figure size 640x480 with 1 Axes>"
      ]
     },
     "metadata": {},
     "output_type": "display_data"
    }
   ],
   "source": [
    "plot_history(history)"
   ]
  },
  {
   "cell_type": "code",
   "execution_count": 28,
   "metadata": {
    "slideshow": {
     "slide_type": "fragment"
    }
   },
   "outputs": [
    {
     "name": "stdout",
     "output_type": "stream",
     "text": [
      "405/405 [==============================] - 13s 29ms/step - loss: 10.7969 - mae: 2.5951\n",
      "Test MAE: 2.60\n"
     ]
    }
   ],
   "source": [
    "model = tf.keras.models.load_model(base_dir / \"jena_lstm.h5\")\n",
    "print(f\"Test MAE: {model.evaluate(test_dataset)[1]:.2f}\")  # it is possible to get down to ~2.55 like in the book!"
   ]
  },
  {
   "cell_type": "markdown",
   "metadata": {
    "slideshow": {
     "slide_type": "slide"
    }
   },
   "source": [
    "---\n",
    "\n",
    "## 10.3 Understanding recurrent neural networks\n",
    "\n",
    "The dense, fully connected layers and the convnet layers have no memory.\n",
    "\n",
    "These feedforward networks process each input in turn with no information transfer.\n",
    "\n",
    "A recurrent neural network (RNN) retains information of past inputs."
   ]
  },
  {
   "cell_type": "markdown",
   "metadata": {
    "slideshow": {
     "slide_type": "subslide"
    }
   },
   "source": [
    "The RNN has a **feedback loop**, and the **parameters are shared** (the same at each iteration).\n",
    "\n",
    "(Saves a lot of parameters, like in CNNs.)\n",
    "\n",
    "<!-- ![RNN unrolled](images/rnn/RNN-unrolled.png) -->\n",
    "![RNN unrolled](https://github.com/jchwenger/AI/blob/main/6-text-and-sequences/images/rnn/RNN-unrolled.png?raw=true)\n",
    "\n",
    "<small>[Olah, \"Understanding LSTM Networks\"](https://colah.github.io/posts/2015-08-Understanding-LSTMs/)</small>"
   ]
  },
  {
   "cell_type": "markdown",
   "metadata": {
    "slideshow": {
     "slide_type": "subslide"
    }
   },
   "source": [
    "\n",
    "The activation $h_{t-1}$ at time $t-1$ is fed back to the input and combined with the new input $x_t$, at time $t$.\n",
    "\n",
    "The previous activation (layer output) is called the **state** of the unit."
   ]
  },
  {
   "cell_type": "markdown",
   "metadata": {
    "slideshow": {
     "slide_type": "subslide"
    }
   },
   "source": [
    "The previous activation/state is weighted and the network learns correlations with earlier inputs by adjusting these weights, in the usual manner.\n",
    "\n",
    "Here, we imagine that sequence terms $x_1, x_2, x_3, \\ldots$ etc. occur at successive times, (even if the sequence is not chronological).\n",
    "\n",
    "Previously, in a feed forward networks, the entire sequence (review) was treated as a single input vector!\n",
    "\n",
    "#### Note\n",
    "\n",
    "The state is reset before a new sequence is processed (if don't do that your RNN is called **stateful**).\n"
   ]
  },
  {
   "cell_type": "markdown",
   "metadata": {
    "slideshow": {
     "slide_type": "subslide"
    }
   },
   "source": [
    "<!-- <img style=\"height:750px\" src=\"images/rnn/mit.rnn.png\"> -->\n",
    "<img style=\"height:750px\" src=\"https://github.com/jchwenger/AI/blob/main/6-text-and-sequences/images/rnn/mit.rnn.png?raw=true\">\n",
    "\n",
    "<small>[Ava Soleimany, MIT 6.S191 (2021): Recurrent Neural Networks](https://www.youtube.com/watch?v=qjrad0V0uJE)</small>"
   ]
  },
  {
   "cell_type": "markdown",
   "metadata": {
    "slideshow": {
     "slide_type": "subslide"
    }
   },
   "source": [
    "##### The standard recurrent layer\n",
    "\n",
    "There are two inputs: the **current input**, $x_t$, and the **previous state**, $h_{t-1}$.\n",
    "\n",
    "The state (= activation) of the RNN layer is:\n",
    "\n",
    "$$\n",
    "\\bbox[5px,border:2px solid red]\n",
    "{\n",
    "\\begin{align*}\n",
    "h_t &= f(W \\cdot x_t + U \\cdot \\color{green}{h_{t-1}} + b_h)  \\\\\n",
    "\\end{align*}\n",
    "}\n",
    "$$\n",
    "\n",
    "$f$: typically: $\\color{red}{tanh}$, also sometimes $relu$.  \n",
    "W is an $M \\times N$ matrix – a tensor with shape `(output_features, input_features)`.  \n",
    "U is an $M \\times M$ matrix – a tensor with shape `(output_features, output_features)`.  \n",
    "\n",
    "$N$: number of input features  \n",
    "$M$: number of output features = number of units  \n"
   ]
  },
  {
   "cell_type": "markdown",
   "metadata": {
    "slideshow": {
     "slide_type": "subslide"
    }
   },
   "source": [
    "##### Note\n",
    "\n",
    "That was the **internal mechanism** for the state. To *use* this state and turn it into a prediction, you apply yet another typical operation like so:\n",
    "\n",
    "$$\n",
    "\\bbox[5px,border:2px solid red]\n",
    "{\n",
    "\\begin{align*}\n",
    "y_t &= \\sigma(V \\cdot h_t + b_y) \n",
    "\\end{align*}\n",
    "}\n",
    "$$\n",
    "\n",
    "$\\sigma$: $softmax$, $sigmoid$, depending on your needs.  \n",
    "V is an $O \\times M$ matrix – a tensor with shape `(task_features, output_features)`.  \n"
   ]
  },
  {
   "cell_type": "markdown",
   "metadata": {
    "slideshow": {
     "slide_type": "subslide"
    }
   },
   "source": [
    "The previous activation, $h_{t-1}$, can have more or less effect on the current activation.\n",
    "\n",
    "The influence of the previous activation and input is controlled by the weights."
   ]
  },
  {
   "cell_type": "markdown",
   "metadata": {
    "slideshow": {
     "slide_type": "fragment"
    }
   },
   "source": [
    "$\n",
    "\\begin{align*}\n",
    "The\\ recursion: \\quad h_t &= f(x_t, \\color{blue}{h_{t-1}}) \\\\\n",
    "      &= f(x_t, \\color{blue}{f( x_{t-1},  \\color{green}{h_{t-2}})} ) \\\\\n",
    "      &= f( x_t,  \\color{blue}{ f( x_{t-1},   \\color{green}{f(x_{t-2}, \\color{red}{h_{t-3}}) } ) } ) \\\\ \n",
    "      &= \\ldots\n",
    "\\end{align*}\n",
    "$\n",
    "\n",
    "In principle, all previous activations, even those reaching far back into the past, can influence the present.\n",
    "\n",
    "\n",
    "**However**, because of the repeated multiplications involved in the gradient calculation, we quickly get either very large or very small numbers. This is known as the **exploding/vanishing gradient problem**."
   ]
  },
  {
   "cell_type": "markdown",
   "metadata": {
    "slideshow": {
     "slide_type": "subslide"
    }
   },
   "source": [
    "The simple RNN layer in pseudocode is:\n",
    "\n",
    "```python\n",
    "prev_output = 0\n",
    "for input_t in input_sequence:\n",
    "                        # ↓ current input | ↓ previous state\n",
    "    output_t = activation(dot(W, input_t) + dot(U, prev_output) + b)\n",
    "    prev_output = output_t\n",
    "```"
   ]
  },
  {
   "cell_type": "markdown",
   "metadata": {
    "slideshow": {
     "slide_type": "skip"
    }
   },
   "source": [
    "#### NumPy implementation of a simple RNN"
   ]
  },
  {
   "cell_type": "code",
   "execution_count": 8,
   "metadata": {
    "slideshow": {
     "slide_type": "skip"
    }
   },
   "outputs": [
    {
     "name": "stdout",
     "output_type": "stream",
     "text": [
      "input_t,  shape: (32,)\n",
      "W,        shape: (64, 32)\n",
      "current,  shape: (64,)\n",
      "U,        shape: (64, 64)\n",
      "previous, shape: (64,)\n",
      "b,        shape: (64,)\n",
      "output_t, shape: (64,)\n"
     ]
    }
   ],
   "source": [
    "timesteps = 100\n",
    "input_features = 32\n",
    "output_features = 64\n",
    "inputs = np.random.random((timesteps, input_features))\n",
    "state_t = np.zeros((output_features,))\n",
    "W = np.random.random((output_features, input_features))\n",
    "U = np.random.random((output_features, output_features))\n",
    "b = np.random.random((output_features,))\n",
    "successive_outputs = []\n",
    "for i, input_t in enumerate(inputs):\n",
    "    current = np.dot(W, input_t)\n",
    "    previous = np.dot(U, state_t)\n",
    "    output_t = np.tanh(current + previous + b)\n",
    "    successive_outputs.append(output_t)\n",
    "    state_t = output_t\n",
    "    if i == 0:\n",
    "        print(\"input_t,  shape:\", input_t.shape)\n",
    "        print(\"W,        shape:\", W.shape)\n",
    "        print(\"current,  shape:\", current.shape)\n",
    "        print(\"U,        shape:\", U.shape)\n",
    "        print(\"previous, shape:\", previous.shape)\n",
    "        print(\"b,        shape:\", b.shape)\n",
    "        print(\"output_t, shape:\", output_t.shape)    \n",
    "final_output_sequence = np.stack(successive_outputs, axis=0)"
   ]
  },
  {
   "cell_type": "markdown",
   "metadata": {
    "slideshow": {
     "slide_type": "skip"
    }
   },
   "source": [
    "More details in [this notebook](https://github.com/jchwenger/AI/blob/main/6-additional-material/chapter10_dl-for-timeseries_rnn_lstm.ipynb)."
   ]
  },
  {
   "cell_type": "markdown",
   "metadata": {
    "slideshow": {
     "slide_type": "subslide"
    }
   },
   "source": [
    "#### \\# of Learnable parameters\n",
    "\n",
    "\n",
    "\\begin{align*}\n",
    "RNNparams &= (current + bias) + previous\\\\\n",
    " &= \\bbox[5px,border:2px solid red]{(M \\times N + M) + (M \\times M)}\\\\\n",
    " &= (M \\times N) + (M \\times M) + M\\\\ \n",
    " &= \\bbox[5px,border:2px solid red]{(N + M + 1) \\times M}\\\\\n",
    "\\end{align*}\n",
    "\n",
    "\n",
    "$N$: number of input features  \n",
    "$M$: previous output = number of units\n",
    "\n",
    "Each neuron has $N$ weights for the $N$ input features, $M$ weights for the previous output, and a bias, so $(N + M + 1)$ parameters, but there are $M$ units!"
   ]
  },
  {
   "cell_type": "code",
   "execution_count": 30,
   "metadata": {
    "slideshow": {
     "slide_type": "subslide"
    }
   },
   "outputs": [
    {
     "name": "stdout",
     "output_type": "stream",
     "text": [
      "Model: \"model_2\"\n",
      "_________________________________________________________________\n",
      " Layer (type)                Output Shape              Param #   \n",
      "=================================================================\n",
      " input_3 (InputLayer)        [(None, 120, 32)]         0         \n",
      "                                                                 \n",
      " simple_rnn_1 (SimpleRNN)    (None, 16)                784       \n",
      "                                                                 \n",
      "=================================================================\n",
      "Total params: 784\n",
      "Trainable params: 784\n",
      "Non-trainable params: 0\n",
      "_________________________________________________________________\n",
      "\n",
      "Number of learnable RNN params, (N + M + 1) * M:   784\n",
      "Note: it's the same same as (M * N + M) + (M * M): 784\n"
     ]
    }
   ],
   "source": [
    "steps = 120\n",
    "num_features = 32\n",
    "num_units = 16\n",
    "inputs = tf.keras.Input(shape=(steps, num_features))\n",
    "                            # the default\n",
    "outputs = tf.keras.layers.SimpleRNN(num_units, return_sequences=False)(inputs)\n",
    "model = tf.keras.Model(inputs,outputs)\n",
    "model.summary()\n",
    "\n",
    "print()\n",
    "print(f\"Number of learnable RNN params, (N + M + 1) * M:   {(num_features + num_units  + 1) * num_units}\")\n",
    "print(f\"Note: it's the same same as (M * N + M) + (M * M): {(num_units * num_features + num_units) + (num_units * num_units)}\")"
   ]
  },
  {
   "cell_type": "markdown",
   "metadata": {
    "slideshow": {
     "slide_type": "subslide"
    }
   },
   "source": [
    "### LSTM: Long Short Term Memory\n",
    "\n",
    "Fully-fledged recurrent nets: LSTMs have a **memory** or **carry** ($C_t$) – passing information forward in time, like a conveyor belt, with potentially no modification – and **gates** ($\\sigma$) acting as smooth on/off switches.\n",
    "\n",
    "The conveyor belt was developed to solve the **exploding/vanishing gradients problem**!  \n",
    "It is similar to **residual connections** in ConvNets (next week!).\n",
    "\n",
    "<!-- ![LSTM](images/rnn/dprogrammer.LSTM.png) -->\n",
    " \n",
    "![LSTM](https://github.com/jchwenger/AI/blob/main/6-text-and-sequences/images/rnn/dprogrammer.LSTM.png?raw=true)\n",
    "\n",
    "<small>[\"RNN, LSTM & GRU\", dprogrammer.org](http://dprogrammer.org/rnn-lstm-gru)</small>"
   ]
  },
  {
   "cell_type": "markdown",
   "metadata": {
    "slideshow": {
     "slide_type": "skip"
    }
   },
   "source": [
    "More details in [this notebook](https://github.com/jchwenger/AI/blob/main/6-additional-material/chapter10_dl-for-timeseries_rnn_lstm.ipynb)."
   ]
  },
  {
   "cell_type": "markdown",
   "metadata": {
    "slideshow": {
     "slide_type": "subslide"
    }
   },
   "source": [
    "<!-- <img src=\"images/rnn/mit.lstm.2.png\"> -->\n",
    "<img src=\"https://github.com/jchwenger/AI/blob/main/6-text-and-sequences/images/rnn/mit.lstm.2.png?raw=true\">\n",
    "\n",
    "<small>[Ava Soleimany, MIT 6.S191 (2021): Recurrent Neural Networks](https://www.youtube.com/watch?v=qjrad0V0uJE)</small>"
   ]
  },
  {
   "cell_type": "markdown",
   "metadata": {
    "slideshow": {
     "slide_type": "subslide"
    }
   },
   "source": [
    "### Gates\n",
    "\n",
    "Suppose we wish to turn an RNN off or on.\n",
    "\n",
    "Simple! Multiply by a binary switch: \n",
    "\n",
    "$$\\delta \\times f(t)$$\n",
    "\n",
    "$\\delta$: smooth values between $0, 1$  \n",
    "$f(t)$: the activation of a simple RNN"
   ]
  },
  {
   "cell_type": "markdown",
   "metadata": {
    "slideshow": {
     "slide_type": "subslide"
    }
   },
   "source": [
    "What we want:\n",
    "- the parameters of the switch should be **learnable**;\n",
    "- because of backpropagation, the process must be **differentiable**: the switch has to be a continuous function – smoothly going from 0 to 1.\n",
    "  \n",
    "The smooth activation function that takes values in $[0, 1]$?  \n",
    "$sigmoid\\ (\\sigma)$!"
   ]
  },
  {
   "cell_type": "markdown",
   "metadata": {
    "slideshow": {
     "slide_type": "subslide"
    }
   },
   "source": [
    "#### A learnable gate\n",
    "\n",
    "$$\n",
    "\\bbox[5px,border:2px solid red]\n",
    "{\n",
    "\\sigma(z) \\odot f(t)\n",
    "}\n",
    "$$\n",
    "\n",
    "$\\odot$: the Hadamard (element-wise) product ($\\sigma(z)$ and $f(t)$ have the same shape).\n",
    "\n",
    "\n",
    "But what is $z$?"
   ]
  },
  {
   "cell_type": "markdown",
   "metadata": {
    "slideshow": {
     "slide_type": "subslide"
    }
   },
   "source": [
    "We might want (because we are processing sequences) the state of the gate – on, off or in between – to depend on the current input and past activations:\n",
    "\n",
    "$$\n",
    "\\bbox[5px,border:2px solid red]\n",
    "{\n",
    "z = W \\cdot x_t + U \\cdot h_{t-1} + b\n",
    "}\n",
    "$$\n",
    "\n",
    "Our recurrently gated RNN is: \n",
    "\n",
    "$$\n",
    "\\bbox[5px,border:2px solid red]\n",
    "{\n",
    "\\sigma(W \\cdot x_t + U \\cdot h_{t-1} + b) \\odot f(t)\n",
    "}\n",
    "$$ \n",
    "\n",
    "$\\odot$ : the Hadamard (element-wise) product.\n"
   ]
  },
  {
   "cell_type": "markdown",
   "metadata": {
    "slideshow": {
     "slide_type": "subslide"
    }
   },
   "source": [
    "#### \\# of Learnable parameters\n",
    "\n",
    "\n",
    "The LSTM follows the same logic as the vanilla RNN, all gates and simple RNN layers have their own parameters $(W, U, b)$, but with **four** internal matrices.\n",
    "\n",
    "There are four $(W, U, b)$ units – 3 gates and the simple RNN, $f$. Each set of $(W, U, b)$ units has $(N + M + 1) \\times M$ trainable parameters\n",
    "\n",
    "Therefore: \n",
    "\n",
    "$$\n",
    "LSTMparams = \\bbox[5px,border:2px solid red]{((N + M + 1) \\times M) \\times 4}\n",
    "$$ \n",
    "\n",
    "$N$: input features weights  \n",
    "$M$: previous output = number of units"
   ]
  },
  {
   "cell_type": "code",
   "execution_count": 31,
   "metadata": {
    "slideshow": {
     "slide_type": "subslide"
    }
   },
   "outputs": [
    {
     "name": "stdout",
     "output_type": "stream",
     "text": [
      "Model: \"model_3\"\n",
      "_________________________________________________________________\n",
      " Layer (type)                Output Shape              Param #   \n",
      "=================================================================\n",
      " input_4 (InputLayer)        [(None, 120, 16)]         0         \n",
      "                                                                 \n",
      " lstm_1 (LSTM)               (None, 8)                 800       \n",
      "                                                                 \n",
      "=================================================================\n",
      "Total params: 800\n",
      "Trainable params: 800\n",
      "Non-trainable params: 0\n",
      "_________________________________________________________________\n",
      "\n",
      "Number of learnable LSTM params: 800\n"
     ]
    }
   ],
   "source": [
    "steps = 120\n",
    "num_features = 16\n",
    "num_units = 8\n",
    "inputs = tf.keras.Input(shape=(steps, num_features))\n",
    "                            # the default\n",
    "outputs = tf.keras.layers.LSTM(num_units, return_sequences=False)(inputs)\n",
    "model = tf.keras.Model(inputs,outputs)\n",
    "model.summary()\n",
    "\n",
    "print()\n",
    "print(f\"Number of learnable LSTM params: { ((num_features + num_units + 1) * num_units) * 4}\")"
   ]
  },
  {
   "cell_type": "markdown",
   "metadata": {
    "slideshow": {
     "slide_type": "subslide"
    }
   },
   "source": [
    "<!-- <img src=\"images/rnn/mit.lstm.8.png\"> -->\n",
    "<img style=\"height:750px\" src=\"https://github.com/jchwenger/AI/blob/main/6-text-and-sequences/images/rnn/mit.lstm.8.png?raw=true\">\n",
    "\n",
    "<small>[Ava Soleimany, MIT 6.S191 (2021): Recurrent Neural Networks](https://www.youtube.com/watch?v=qjrad0V0uJE)</small>"
   ]
  },
  {
   "cell_type": "markdown",
   "metadata": {
    "slideshow": {
     "slide_type": "subslide"
    }
   },
   "source": [
    "### GRU Gated Recurrent Unit\n",
    "\n",
    "'Optimised' recurrent nets: same logic as LSTM, but with less connections/parameters!\n",
    "\n",
    "<!-- ![GRU](images/rnn/dprogrammer.GRU.png) -->\n",
    " \n",
    "![LSTM](https://github.com/jchwenger/AI/blob/main/6-text-and-sequences/images/rnn/dprogrammer.GRU.png?raw=true)\n",
    "\n",
    "<small>[\"RNN, LSTM & GRU\", dprogrammer.org](http://dprogrammer.org/rnn-lstm-gru)</small>"
   ]
  },
  {
   "cell_type": "markdown",
   "metadata": {
    "slideshow": {
     "slide_type": "skip"
    }
   },
   "source": [
    "#### Blog posts\n",
    "\n",
    "[Olah, \"Understanding LSTM Networks\"](https://colah.github.io/posts/2015-08-Understanding-LSTMs/)  \n",
    "[Madsen, \"Visualizing memorization in RNNs\", Distill](https://distill.pub/2019/memorization-in-rnns/)  \n",
    "[Wikipedia](https://en.wikipedia.org/wiki/Long_short-term_memory)\n",
    "\n",
    "\n",
    "### Tutorials\n",
    "\n",
    "[Text generation with an RNN](https://www.tensorflow.org/text/tutorials/text_generation)  \n",
    "[TensorFlow Addons Networks : Sequence-to-Sequence NMT with Attention Mechanism](https://www.tensorflow.org/addons/tutorials/networks_seq2seq_nmt)\n"
   ]
  },
  {
   "cell_type": "markdown",
   "metadata": {
    "slideshow": {
     "slide_type": "skip"
    }
   },
   "source": [
    "---\n",
    "\n",
    "### References\n",
    "\n",
    "More details in [this notebook](https://github.com/jchwenger/AI/blob/main/6-additional-material/chapter10_dl-for-timeseries_rnn_lstm.ipynb).\n",
    "\n",
    "An [in-depth survey from CS230, Stanford University](https://stanford.edu/~shervine/teaching/cs-230/cheatsheet-recurrent-neural-networks)\n",
    "\n",
    "\n",
    "#### RNNs\n",
    "[Rumelhart, David E; Hinton, Geoffrey E, and Williams, Ronald J (Sept. 1985), \"Learning internal representations by error propagation\"](https://apps.dtic.mil/dtic/tr/fulltext/u2/a164453.pdf)  \n",
    "[Jordan, Michael I. (May 1986), \"Serial order: a parallel distributed processing approach\"](https://www.osti.gov/biblio/6910294)\n",
    "\n",
    "#### LSTMs\n",
    "[Sepp Hochreiter, Jürgen Schmidhuber, \"Long Short-Term Memory\"](https://arxiv.org/abs/2105.06756)\n",
    "\n",
    "#### GRUs\n",
    "[Kyunghyun Cho, Bart van Merrienboer, Dzmitry Bahdanau, Yoshua Bengio, \"On the Properties of Neural Machine Translation: Encoder-Decoder Approaches\"](https://arxiv.org/abs/1409.1259)  \n",
    "[Ralf C. Staudemeyer, Eric Rothstein Morris, \"Understanding LSTM -- a tutorial into Long Short-Term Memory Recurrent Neural Networks\", arXiv](https://arxiv.org/abs/1909.09586)  "
   ]
  },
  {
   "cell_type": "code",
   "execution_count": 3,
   "metadata": {
    "slideshow": {
     "slide_type": "skip"
    }
   },
   "outputs": [
    {
     "data": {
      "image/jpeg": "[encoded data removed]",
      "text/html": [
       "\n",
       "        <iframe\n",
       "            width=\"853\"\n",
       "            height=\"480\"\n",
       "            src=\"https://www.youtube.com/embed/qjrad0V0uJE\"\n",
       "            frameborder=\"0\"\n",
       "            allowfullscreen\n",
       "            \n",
       "        ></iframe>\n",
       "        "
      ],
      "text/plain": [
       "<IPython.lib.display.YouTubeVideo at 0x7f9756ccc3a0>"
      ]
     },
     "execution_count": 3,
     "metadata": {},
     "output_type": "execute_result"
    }
   ],
   "source": [
    "YouTubeVideo('qjrad0V0uJE', width=853, height=480) #  MIT 6.S191 (2021): Recurrent Neural Networks "
   ]
  },
  {
   "cell_type": "markdown",
   "metadata": {
    "slideshow": {
     "slide_type": "slide"
    }
   },
   "source": [
    "---\n",
    "\n",
    "### 10.3.1 A recurrent layer in Keras"
   ]
  },
  {
   "cell_type": "markdown",
   "metadata": {
    "slideshow": {
     "slide_type": "fragment"
    }
   },
   "source": [
    "#### An RNN layer that can process sequences of any length"
   ]
  },
  {
   "cell_type": "code",
   "execution_count": 13,
   "metadata": {
    "slideshow": {
     "slide_type": "fragment"
    }
   },
   "outputs": [
    {
     "name": "stdout",
     "output_type": "stream",
     "text": [
      "(None, 16)\n"
     ]
    }
   ],
   "source": [
    "num_features = 14            # ↓ we don't need specify the length!\n",
    "inputs = tf.keras.Input(shape=(None, num_features))\n",
    "outputs = tf.keras.layers.SimpleRNN(16)(inputs)\n",
    "print(outputs.shape)"
   ]
  },
  {
   "cell_type": "markdown",
   "metadata": {
    "slideshow": {
     "slide_type": "subslide"
    }
   },
   "source": [
    "#### An RNN layer that returns only its last output step\n",
    "\n",
    "By default RNN layers only return the **last state**."
   ]
  },
  {
   "cell_type": "code",
   "execution_count": 14,
   "metadata": {
    "slideshow": {
     "slide_type": "fragment"
    }
   },
   "outputs": [
    {
     "name": "stdout",
     "output_type": "stream",
     "text": [
      "(None, 16)\n"
     ]
    }
   ],
   "source": [
    "num_features = 14\n",
    "steps = 120                  # ↓ but we can also do it\n",
    "inputs = tf.keras.Input(shape=(steps, num_features))\n",
    "                                      # ↓ the default!\n",
    "outputs = tf.keras.layers.SimpleRNN(16, return_sequences=False)(inputs)\n",
    "print(outputs.shape)"
   ]
  },
  {
   "cell_type": "markdown",
   "metadata": {
    "slideshow": {
     "slide_type": "subslide"
    }
   },
   "source": [
    "#### An RNN layer that returns its full output sequence\n",
    "\n",
    "If you wish to stack layers of those, all intermediate layers should return their full sequence of outputs.\n",
    "\n",
    "<!-- <img style=\"float:right;height:400px\" src=\"images/rnn/stanford.stacked-rnns.png\"> -->\n",
    "\n",
    "<img style=\"float:right;height:400px\" src=\"https://github.com/jchwenger/AI/blob/main/6-text-and-sequences/images/rnn/stanford.stacked-rnns.png?raw=true\">\n",
    "\n",
    "<small style=\"position:absolute;bottom:0;right:0\">[John Lambert, \"Stacked RNNs for Encoder-Decoder Networks: Accurate Machine Understanding of Images\", Stanford CS224d, figure 2, p.3](https://cs224d.stanford.edu/reports/Lambert.pdf)</small>"
   ]
  },
  {
   "cell_type": "markdown",
   "metadata": {
    "slideshow": {
     "slide_type": "subslide"
    }
   },
   "source": [
    "For that,we  specify: \n",
    "\n",
    "```python\n",
    "return_sequences=True\n",
    "```"
   ]
  },
  {
   "cell_type": "code",
   "execution_count": 10,
   "metadata": {
    "slideshow": {
     "slide_type": "fragment"
    }
   },
   "outputs": [
    {
     "name": "stdout",
     "output_type": "stream",
     "text": [
      "(None, 120, 16)\n"
     ]
    }
   ],
   "source": [
    "num_features = 14\n",
    "steps = 120\n",
    "inputs = tf.keras.Input(shape=(steps, num_features))\n",
    "outputs = tf.keras.layers.SimpleRNN(16, return_sequences=True)(inputs)\n",
    "print(outputs.shape)                  # ↑ return the entire sequence!"
   ]
  },
  {
   "cell_type": "markdown",
   "metadata": {
    "slideshow": {
     "slide_type": "subslide"
    }
   },
   "source": [
    "#### Stacking RNN layers"
   ]
  },
  {
   "cell_type": "code",
   "execution_count": 35,
   "metadata": {
    "slideshow": {
     "slide_type": "fragment"
    }
   },
   "outputs": [],
   "source": [
    "inputs = tf.keras.Input(shape=(steps, num_features))\n",
    "x = tf.keras.layers.SimpleRNN(16, return_sequences=True)(inputs) # return sequences\n",
    "x = tf.keras.layers.SimpleRNN(16, return_sequences=True)(x)      # return sequences\n",
    "outputs = tf.keras.layers.SimpleRNN(16)(x)                       # no need in the last layer"
   ]
  },
  {
   "cell_type": "markdown",
   "metadata": {
    "slideshow": {
     "slide_type": "slide"
    }
   },
   "source": [
    "---\n",
    "\n",
    "## 10.4 Advanced use of recurrent neural networks"
   ]
  },
  {
   "cell_type": "markdown",
   "metadata": {
    "slideshow": {
     "slide_type": "fragment"
    }
   },
   "source": [
    "### 10.4.1 Using recurrent dropout to fight overfitting\n",
    "\n",
    "> \"\\[T\\]he proper way to use dropout with a\n",
    "recurrent network: the same dropout mask (the same pattern of dropped units) should be applied at every timestep, instead of using a dropout mask that varies randomly from timestep to timestep.\" (DLWP, p.301)\n",
    "\n",
    "Implemented in Keras recurrent layers:\n",
    "\n",
    "```python\n",
    "recurrent_dropout=0.25\n",
    "```\n",
    "\n",
    "Don't use regular dropout layers in a stack of RNNs (except at the very end)!"
   ]
  },
  {
   "cell_type": "markdown",
   "metadata": {
    "slideshow": {
     "slide_type": "subslide"
    }
   },
   "source": [
    "### RNN runtime performance\n",
    "\n",
    "`recurrent_dropout` is not supported by optimized cuDNN kernels, meaning you do not benefit from the best GPU acceleration. **SLOW!**\n",
    "\n",
    "If your sequences are **not too long** (~100 steps) – this will increase memory consumption a lot –, and if **your sequence length is known in advance**, you can **unroll** your RNN to have it as one full graph on the GPU. (You still can't use cuDNN kernels, but the graph will optimise things a bit.)\n",
    "\n",
    "\n",
    "```python\n",
    "inputs = tf.keras.Input(shape=(sequence_length, num_features))\n",
    "                                                  # ↓ unroll (memory-greedy!)\n",
    "x = tf.keras.layers.LSTM(32, recurrent_dropout=0.2, unroll=True)(inputs)\n",
    "```"
   ]
  },
  {
   "cell_type": "markdown",
   "metadata": {
    "id": "NSKt5GfXlBbM",
    "slideshow": {
     "slide_type": "skip"
    }
   },
   "source": [
    "#### Training and evaluating a dropout-regularized LSTM (0.5)\n",
    "\n",
    "If you wanted to replicate the examples in DLWP, here is the code (it will take quite a few hours to run on a T4 in Colab!\n",
    "\n",
    "```python\n",
    "tf.keras.backend.clear_session()\n",
    "\n",
    "inputs = tf.keras.Input(shape=(sequence_length, raw_data.shape[-1]))\n",
    "x = tf.keras.layers.LSTM(32, recurrent_dropout=0.5)(inputs)\n",
    "x = tf.keras.layers.Dropout(0.5)(x)\n",
    "outputs = tf.keras.layers.Dense(1)(x)\n",
    "model = tf.keras.Model(inputs, outputs)\n",
    "\n",
    "callbacks = [\n",
    "    tf.keras.callbacks.ModelCheckpoint(\n",
    "        str(base_dir / \"jena_lstm_dropout.h5\"),\n",
    "        save_best_only=True\n",
    "    )\n",
    "]\n",
    "model.compile(optimizer=\"rmsprop\", loss=\"mse\", metrics=[\"mae\"])\n",
    "history = model.fit(\n",
    "    train_dataset,\n",
    "    epochs=50,\n",
    "    validation_data=val_dataset,\n",
    "    callbacks=callbacks\n",
    ")\n",
    "\n",
    "plot_history(history)\n",
    "\n",
    "model = tf.keras.models.load_model(base_dir / \"jena_lstm_dropout.h5\")\n",
    "print(f\"Test MAE: {model.evaluate(test_dataset)[1]:.2f}\")\n",
    "```"
   ]
  },
  {
   "cell_type": "markdown",
   "metadata": {
    "slideshow": {
     "slide_type": "skip"
    }
   },
   "source": [
    "#### Training and evaluating an LSTM without dropout\n",
    "\n",
    "(This also takes quite a while.)"
   ]
  },
  {
   "cell_type": "code",
   "execution_count": 47,
   "metadata": {
    "id": "d3n3TChulBbO",
    "slideshow": {
     "slide_type": "skip"
    }
   },
   "outputs": [],
   "source": [
    "tf.keras.backend.clear_session()\n",
    "\n",
    "inputs = tf.keras.Input(shape=(sequence_length, raw_data.shape[-1]))\n",
    "x = tf.keras.layers.LSTM(32)(inputs)\n",
    "x = tf.keras.layers.Dropout(0.5)(x)\n",
    "outputs = tf.keras.layers.Dense(1)(x)\n",
    "model = tf.keras.Model(inputs, outputs)"
   ]
  },
  {
   "cell_type": "code",
   "execution_count": 48,
   "metadata": {
    "colab": {
     "base_uri": "https://localhost:8080/"
    },
    "collapsed": true,
    "id": "WFe5vvcilBbO",
    "jupyter": {
     "outputs_hidden": true
    },
    "outputId": "d9fc308a-681d-4386-fa69-9e087afd2a10",
    "slideshow": {
     "slide_type": "skip"
    },
    "tags": []
   },
   "outputs": [
    {
     "name": "stdout",
     "output_type": "stream",
     "text": [
      "Epoch 1/50\n",
      "819/819 [==============================] - 53s 61ms/step - loss: 27.2496 - mae: 3.8588 - val_loss: 9.8935 - val_mae: 2.4388\n",
      "Epoch 2/50\n",
      "819/819 [==============================] - 44s 54ms/step - loss: 14.5410 - mae: 2.9546 - val_loss: 9.5294 - val_mae: 2.4002\n",
      "Epoch 3/50\n",
      "819/819 [==============================] - 44s 53ms/step - loss: 13.6395 - mae: 2.8524 - val_loss: 9.2842 - val_mae: 2.3691\n",
      "Epoch 4/50\n",
      "819/819 [==============================] - 51s 62ms/step - loss: 13.0112 - mae: 2.7842 - val_loss: 9.1041 - val_mae: 2.3496\n",
      "Epoch 5/50\n",
      "819/819 [==============================] - 43s 52ms/step - loss: 12.5414 - mae: 2.7332 - val_loss: 9.4071 - val_mae: 2.3885\n",
      "Epoch 6/50\n",
      "819/819 [==============================] - 51s 62ms/step - loss: 12.0855 - mae: 2.6809 - val_loss: 9.0527 - val_mae: 2.3374\n",
      "Epoch 7/50\n",
      "819/819 [==============================] - 43s 53ms/step - loss: 11.6712 - mae: 2.6336 - val_loss: 9.3202 - val_mae: 2.3713\n",
      "Epoch 8/50\n",
      "819/819 [==============================] - 43s 52ms/step - loss: 11.3544 - mae: 2.5942 - val_loss: 9.9143 - val_mae: 2.4454\n",
      "Epoch 9/50\n",
      "819/819 [==============================] - 43s 52ms/step - loss: 11.0489 - mae: 2.5607 - val_loss: 9.3219 - val_mae: 2.3685\n",
      "Epoch 10/50\n",
      "819/819 [==============================] - 51s 62ms/step - loss: 10.7727 - mae: 2.5302 - val_loss: 9.7313 - val_mae: 2.4091\n",
      "Epoch 11/50\n",
      "819/819 [==============================] - 43s 53ms/step - loss: 10.6832 - mae: 2.5140 - val_loss: 9.4695 - val_mae: 2.3914\n",
      "Epoch 12/50\n",
      "819/819 [==============================] - 43s 52ms/step - loss: 10.3980 - mae: 2.4833 - val_loss: 9.5960 - val_mae: 2.3906\n",
      "Epoch 13/50\n",
      "819/819 [==============================] - 43s 52ms/step - loss: 10.1892 - mae: 2.4598 - val_loss: 10.4539 - val_mae: 2.5246\n",
      "Epoch 14/50\n",
      "819/819 [==============================] - 52s 63ms/step - loss: 10.0861 - mae: 2.4458 - val_loss: 9.8225 - val_mae: 2.4352\n",
      "Epoch 15/50\n",
      "819/819 [==============================] - 51s 63ms/step - loss: 9.8647 - mae: 2.4203 - val_loss: 9.9920 - val_mae: 2.4659\n",
      "Epoch 16/50\n",
      "819/819 [==============================] - 44s 53ms/step - loss: 9.6827 - mae: 2.3995 - val_loss: 10.2008 - val_mae: 2.4801\n",
      "Epoch 17/50\n",
      "819/819 [==============================] - 43s 52ms/step - loss: 9.5729 - mae: 2.3843 - val_loss: 10.1602 - val_mae: 2.4590\n",
      "Epoch 18/50\n",
      "819/819 [==============================] - 42s 51ms/step - loss: 9.4263 - mae: 2.3649 - val_loss: 10.4528 - val_mae: 2.5222\n",
      "Epoch 19/50\n",
      "819/819 [==============================] - 51s 62ms/step - loss: 9.2814 - mae: 2.3461 - val_loss: 10.2841 - val_mae: 2.4846\n",
      "Epoch 20/50\n",
      "819/819 [==============================] - 43s 53ms/step - loss: 9.1457 - mae: 2.3332 - val_loss: 10.4909 - val_mae: 2.5170\n",
      "Epoch 21/50\n",
      "819/819 [==============================] - 51s 62ms/step - loss: 9.0896 - mae: 2.3204 - val_loss: 10.4825 - val_mae: 2.5148\n",
      "Epoch 22/50\n",
      "819/819 [==============================] - 51s 62ms/step - loss: 8.9833 - mae: 2.3102 - val_loss: 10.3990 - val_mae: 2.4921\n",
      "Epoch 23/50\n",
      "819/819 [==============================] - 44s 53ms/step - loss: 8.8749 - mae: 2.2954 - val_loss: 10.3509 - val_mae: 2.5001\n",
      "Epoch 24/50\n",
      "819/819 [==============================] - 51s 62ms/step - loss: 8.8119 - mae: 2.2849 - val_loss: 10.1631 - val_mae: 2.4748\n",
      "Epoch 25/50\n",
      "819/819 [==============================] - 45s 54ms/step - loss: 8.7152 - mae: 2.2780 - val_loss: 10.6474 - val_mae: 2.5458\n",
      "Epoch 26/50\n",
      "819/819 [==============================] - 44s 53ms/step - loss: 8.6845 - mae: 2.2720 - val_loss: 10.8920 - val_mae: 2.5590\n",
      "Epoch 27/50\n",
      "819/819 [==============================] - 52s 63ms/step - loss: 8.5348 - mae: 2.2540 - val_loss: 10.1905 - val_mae: 2.4884\n",
      "Epoch 28/50\n",
      "819/819 [==============================] - 44s 53ms/step - loss: 8.5068 - mae: 2.2467 - val_loss: 10.6265 - val_mae: 2.5325\n",
      "Epoch 29/50\n",
      "819/819 [==============================] - 43s 52ms/step - loss: 8.3670 - mae: 2.2307 - val_loss: 10.4304 - val_mae: 2.5168\n",
      "Epoch 30/50\n",
      "819/819 [==============================] - 43s 53ms/step - loss: 8.3255 - mae: 2.2268 - val_loss: 10.9823 - val_mae: 2.5781\n",
      "Epoch 31/50\n",
      "819/819 [==============================] - 51s 62ms/step - loss: 8.2842 - mae: 2.2180 - val_loss: 11.2041 - val_mae: 2.6013\n",
      "Epoch 32/50\n",
      "819/819 [==============================] - 43s 52ms/step - loss: 8.2106 - mae: 2.2088 - val_loss: 10.7313 - val_mae: 2.5545\n",
      "Epoch 33/50\n",
      "819/819 [==============================] - 42s 52ms/step - loss: 8.1377 - mae: 2.1969 - val_loss: 11.2229 - val_mae: 2.6207\n",
      "Epoch 34/50\n",
      "819/819 [==============================] - 43s 52ms/step - loss: 8.1014 - mae: 2.1942 - val_loss: 11.6454 - val_mae: 2.6551\n",
      "Epoch 35/50\n",
      "819/819 [==============================] - 51s 62ms/step - loss: 8.1741 - mae: 2.2000 - val_loss: 11.4682 - val_mae: 2.6364\n",
      "Epoch 36/50\n",
      "819/819 [==============================] - 50s 61ms/step - loss: 7.9438 - mae: 2.1715 - val_loss: 11.4642 - val_mae: 2.6352\n",
      "Epoch 37/50\n",
      "819/819 [==============================] - 45s 55ms/step - loss: 7.9511 - mae: 2.1699 - val_loss: 11.8521 - val_mae: 2.6868\n",
      "Epoch 38/50\n",
      "819/819 [==============================] - 43s 52ms/step - loss: 7.8947 - mae: 2.1632 - val_loss: 11.3772 - val_mae: 2.6344\n",
      "Epoch 39/50\n",
      "819/819 [==============================] - 44s 53ms/step - loss: 7.7956 - mae: 2.1499 - val_loss: 11.6750 - val_mae: 2.6618\n",
      "Epoch 40/50\n",
      "819/819 [==============================] - 50s 61ms/step - loss: 7.7162 - mae: 2.1408 - val_loss: 11.1844 - val_mae: 2.6020\n",
      "Epoch 41/50\n",
      "819/819 [==============================] - 50s 61ms/step - loss: 7.6840 - mae: 2.1349 - val_loss: 11.7994 - val_mae: 2.6877\n",
      "Epoch 42/50\n",
      "819/819 [==============================] - 42s 51ms/step - loss: 7.6457 - mae: 2.1288 - val_loss: 11.6340 - val_mae: 2.6666\n",
      "Epoch 43/50\n",
      "819/819 [==============================] - 51s 62ms/step - loss: 7.6215 - mae: 2.1213 - val_loss: 11.4780 - val_mae: 2.6490\n",
      "Epoch 44/50\n",
      "819/819 [==============================] - 51s 62ms/step - loss: 7.5800 - mae: 2.1199 - val_loss: 11.4963 - val_mae: 2.6515\n",
      "Epoch 45/50\n",
      "819/819 [==============================] - 42s 51ms/step - loss: 7.5473 - mae: 2.1139 - val_loss: 11.6634 - val_mae: 2.6668\n",
      "Epoch 46/50\n",
      "819/819 [==============================] - 42s 51ms/step - loss: 7.4758 - mae: 2.1055 - val_loss: 11.8824 - val_mae: 2.6894\n",
      "Epoch 47/50\n",
      "819/819 [==============================] - 51s 62ms/step - loss: 7.4462 - mae: 2.0972 - val_loss: 12.5856 - val_mae: 2.7545\n",
      "Epoch 48/50\n",
      "819/819 [==============================] - 51s 62ms/step - loss: 7.3227 - mae: 2.0844 - val_loss: 11.4510 - val_mae: 2.6422\n",
      "Epoch 49/50\n",
      "819/819 [==============================] - 50s 61ms/step - loss: 7.3455 - mae: 2.0855 - val_loss: 11.8668 - val_mae: 2.6778\n",
      "Epoch 50/50\n",
      "819/819 [==============================] - 42s 51ms/step - loss: 7.3154 - mae: 2.0805 - val_loss: 11.7501 - val_mae: 2.6740\n"
     ]
    }
   ],
   "source": [
    "callbacks = [\n",
    "    tf.keras.callbacks.ModelCheckpoint(\n",
    "        str(base_dir / \"jena_lstm_no_dropout.h5\"),\n",
    "        save_best_only=True\n",
    "    )\n",
    "]\n",
    "model.compile(\n",
    "    optimizer=\"rmsprop\",\n",
    "    loss=\"mse\",\n",
    "    metrics=[\"mae\"]\n",
    ")\n",
    "\n",
    "history = model.fit(\n",
    "    train_dataset,\n",
    "    epochs=50,\n",
    "    validation_data=val_dataset,\n",
    "    callbacks=callbacks\n",
    ")"
   ]
  },
  {
   "cell_type": "code",
   "execution_count": 49,
   "metadata": {
    "colab": {
     "base_uri": "https://localhost:8080/",
     "height": 452
    },
    "id": "S-wCpSCjlBbP",
    "outputId": "c3b79cfe-2ef9-4f1a-8967-289481631920",
    "slideshow": {
     "slide_type": "skip"
    }
   },
   "outputs": [
    {
     "data": {
      "image/png": "[encoded data removed]",
      "text/plain": [
       "<Figure size 640x480 with 1 Axes>"
      ]
     },
     "metadata": {},
     "output_type": "display_data"
    }
   ],
   "source": [
    "plot_history(history)"
   ]
  },
  {
   "cell_type": "code",
   "execution_count": 50,
   "metadata": {
    "colab": {
     "base_uri": "https://localhost:8080/"
    },
    "id": "nADvpfZalBbP",
    "outputId": "39f00b4b-40fd-4b9e-a77c-8a98ecb2a742",
    "slideshow": {
     "slide_type": "skip"
    }
   },
   "outputs": [
    {
     "name": "stdout",
     "output_type": "stream",
     "text": [
      "405/405 [==============================] - 13s 32ms/step - loss: 10.5762 - mae: 2.5455\n",
      "Test MAE: 2.55\n"
     ]
    }
   ],
   "source": [
    "model = tf.keras.models.load_model(base_dir / \"jena_lstm_no_dropout.h5\")\n",
    "print(f\"Test MAE: {model.evaluate(test_dataset)[1]:.2f}\")"
   ]
  },
  {
   "cell_type": "markdown",
   "metadata": {
    "slideshow": {
     "slide_type": "subslide"
    }
   },
   "source": [
    "#### Training and evaluating an L2-regularized LSTM\n",
    "\n",
    "There is also such a thing as a `recurrent_regularizer`! (Works as usual.)"
   ]
  },
  {
   "cell_type": "code",
   "execution_count": 51,
   "metadata": {
    "id": "KwJV4FdilBbQ",
    "slideshow": {
     "slide_type": "subslide"
    }
   },
   "outputs": [],
   "source": [
    "inputs = tf.keras.Input(shape=(sequence_length, raw_data.shape[-1]))\n",
    "                           # ↓ recurrent regularizer\n",
    "x = tf.keras.layers.LSTM(32, recurrent_regularizer=tf.keras.regularizers.L2(0.3))(inputs)\n",
    "x = tf.keras.layers.Dropout(0.5)(x)\n",
    "outputs = tf.keras.layers.Dense(1)(x)\n",
    "model = tf.keras.Model(inputs, outputs)"
   ]
  },
  {
   "cell_type": "code",
   "execution_count": 52,
   "metadata": {
    "colab": {
     "base_uri": "https://localhost:8080/"
    },
    "collapsed": true,
    "id": "tamtt7b3lBbQ",
    "jupyter": {
     "outputs_hidden": true
    },
    "outputId": "def881bb-413d-4eb9-9382-d1483e45cbaf",
    "slideshow": {
     "slide_type": "skip"
    },
    "tags": []
   },
   "outputs": [
    {
     "name": "stdout",
     "output_type": "stream",
     "text": [
      "Epoch 1/50\n",
      "819/819 [==============================] - 45s 52ms/step - loss: 29.1555 - mae: 3.8464 - val_loss: 10.4261 - val_mae: 2.4828\n",
      "Epoch 2/50\n",
      "819/819 [==============================] - 43s 52ms/step - loss: 15.2464 - mae: 3.0200 - val_loss: 9.7622 - val_mae: 2.4095\n",
      "Epoch 3/50\n",
      "819/819 [==============================] - 43s 52ms/step - loss: 14.6060 - mae: 2.9589 - val_loss: 9.6899 - val_mae: 2.4013\n",
      "Epoch 4/50\n",
      "819/819 [==============================] - 43s 52ms/step - loss: 14.1862 - mae: 2.9125 - val_loss: 9.5179 - val_mae: 2.3807\n",
      "Epoch 5/50\n",
      "819/819 [==============================] - 43s 52ms/step - loss: 13.8446 - mae: 2.8751 - val_loss: 9.2535 - val_mae: 2.3466\n",
      "Epoch 6/50\n",
      "819/819 [==============================] - 43s 52ms/step - loss: 13.5485 - mae: 2.8437 - val_loss: 10.0214 - val_mae: 2.4471\n",
      "Epoch 7/50\n",
      "819/819 [==============================] - 42s 52ms/step - loss: 13.3435 - mae: 2.8222 - val_loss: 9.1795 - val_mae: 2.3328\n",
      "Epoch 8/50\n",
      "819/819 [==============================] - 42s 51ms/step - loss: 13.1202 - mae: 2.7955 - val_loss: 9.1819 - val_mae: 2.3334\n",
      "Epoch 9/50\n",
      "819/819 [==============================] - 52s 63ms/step - loss: 12.8684 - mae: 2.7639 - val_loss: 8.9779 - val_mae: 2.3029\n",
      "Epoch 10/50\n",
      "819/819 [==============================] - 51s 62ms/step - loss: 12.7099 - mae: 2.7457 - val_loss: 9.2485 - val_mae: 2.3316\n",
      "Epoch 11/50\n",
      "819/819 [==============================] - 43s 52ms/step - loss: 12.5386 - mae: 2.7245 - val_loss: 9.1697 - val_mae: 2.3235\n",
      "Epoch 12/50\n",
      "819/819 [==============================] - 43s 52ms/step - loss: 12.3646 - mae: 2.7045 - val_loss: 9.3749 - val_mae: 2.3504\n",
      "Epoch 13/50\n",
      "819/819 [==============================] - 43s 53ms/step - loss: 12.2390 - mae: 2.6905 - val_loss: 9.2645 - val_mae: 2.3362\n",
      "Epoch 14/50\n",
      "819/819 [==============================] - 51s 62ms/step - loss: 12.1000 - mae: 2.6747 - val_loss: 9.2129 - val_mae: 2.3331\n",
      "Epoch 15/50\n",
      "819/819 [==============================] - 52s 63ms/step - loss: 12.0147 - mae: 2.6667 - val_loss: 9.1602 - val_mae: 2.3187\n",
      "Epoch 16/50\n",
      "819/819 [==============================] - 43s 53ms/step - loss: 11.9236 - mae: 2.6543 - val_loss: 9.2737 - val_mae: 2.3332\n",
      "Epoch 17/50\n",
      "819/819 [==============================] - 43s 52ms/step - loss: 11.7860 - mae: 2.6384 - val_loss: 9.3621 - val_mae: 2.3416\n",
      "Epoch 18/50\n",
      "819/819 [==============================] - 51s 61ms/step - loss: 11.7500 - mae: 2.6327 - val_loss: 9.4105 - val_mae: 2.3534\n",
      "Epoch 19/50\n",
      "819/819 [==============================] - 43s 52ms/step - loss: 11.6096 - mae: 2.6199 - val_loss: 9.6842 - val_mae: 2.3879\n",
      "Epoch 20/50\n",
      "819/819 [==============================] - 50s 61ms/step - loss: 11.5699 - mae: 2.6127 - val_loss: 9.3562 - val_mae: 2.3443\n",
      "Epoch 21/50\n",
      "819/819 [==============================] - 42s 51ms/step - loss: 11.4595 - mae: 2.5976 - val_loss: 9.7731 - val_mae: 2.4034\n",
      "Epoch 22/50\n",
      "819/819 [==============================] - 51s 62ms/step - loss: 11.4299 - mae: 2.5926 - val_loss: 10.6280 - val_mae: 2.5280\n",
      "Epoch 23/50\n",
      "819/819 [==============================] - 42s 51ms/step - loss: 11.3608 - mae: 2.5866 - val_loss: 9.5296 - val_mae: 2.3727\n",
      "Epoch 24/50\n",
      "819/819 [==============================] - 42s 51ms/step - loss: 11.2855 - mae: 2.5753 - val_loss: 10.0282 - val_mae: 2.4342\n",
      "Epoch 25/50\n",
      "819/819 [==============================] - 42s 51ms/step - loss: 11.2144 - mae: 2.5656 - val_loss: 10.1420 - val_mae: 2.4580\n",
      "Epoch 26/50\n",
      "819/819 [==============================] - 43s 52ms/step - loss: 11.1507 - mae: 2.5563 - val_loss: 10.1955 - val_mae: 2.4521\n",
      "Epoch 27/50\n",
      "819/819 [==============================] - 42s 51ms/step - loss: 11.0909 - mae: 2.5536 - val_loss: 10.8968 - val_mae: 2.5543\n",
      "Epoch 28/50\n",
      "819/819 [==============================] - 51s 63ms/step - loss: 11.0604 - mae: 2.5469 - val_loss: 10.4252 - val_mae: 2.4802\n",
      "Epoch 29/50\n",
      "819/819 [==============================] - 50s 61ms/step - loss: 11.0213 - mae: 2.5418 - val_loss: 10.9236 - val_mae: 2.5670\n",
      "Epoch 30/50\n",
      "819/819 [==============================] - 50s 61ms/step - loss: 10.9767 - mae: 2.5335 - val_loss: 10.8893 - val_mae: 2.5229\n",
      "Epoch 31/50\n",
      "819/819 [==============================] - 42s 51ms/step - loss: 10.9098 - mae: 2.5290 - val_loss: 10.4805 - val_mae: 2.4874\n",
      "Epoch 32/50\n",
      "819/819 [==============================] - 42s 51ms/step - loss: 10.8683 - mae: 2.5245 - val_loss: 10.9440 - val_mae: 2.5485\n",
      "Epoch 33/50\n",
      "819/819 [==============================] - 46s 56ms/step - loss: 10.7853 - mae: 2.5107 - val_loss: 11.0799 - val_mae: 2.5432\n",
      "Epoch 34/50\n",
      "819/819 [==============================] - 45s 55ms/step - loss: 10.7337 - mae: 2.5059 - val_loss: 11.1180 - val_mae: 2.5437\n",
      "Epoch 35/50\n",
      "819/819 [==============================] - 44s 53ms/step - loss: 10.6576 - mae: 2.4976 - val_loss: 10.8308 - val_mae: 2.5237\n",
      "Epoch 36/50\n",
      "819/819 [==============================] - 45s 54ms/step - loss: 10.6731 - mae: 2.4983 - val_loss: 10.1787 - val_mae: 2.4262\n",
      "Epoch 37/50\n",
      "819/819 [==============================] - 43s 52ms/step - loss: 10.6607 - mae: 2.4958 - val_loss: 10.7228 - val_mae: 2.5087\n",
      "Epoch 38/50\n",
      "819/819 [==============================] - 46s 56ms/step - loss: 10.5363 - mae: 2.4831 - val_loss: 10.7115 - val_mae: 2.5054\n",
      "Epoch 39/50\n",
      "819/819 [==============================] - 45s 55ms/step - loss: 10.5766 - mae: 2.4878 - val_loss: 10.4444 - val_mae: 2.4713\n",
      "Epoch 40/50\n",
      "819/819 [==============================] - 43s 52ms/step - loss: 10.5163 - mae: 2.4779 - val_loss: 10.9176 - val_mae: 2.5382\n",
      "Epoch 41/50\n",
      "819/819 [==============================] - 42s 51ms/step - loss: 10.4799 - mae: 2.4715 - val_loss: 10.6260 - val_mae: 2.4984\n",
      "Epoch 42/50\n",
      "819/819 [==============================] - 51s 61ms/step - loss: 10.4506 - mae: 2.4698 - val_loss: 10.8854 - val_mae: 2.5390\n",
      "Epoch 43/50\n",
      "819/819 [==============================] - 51s 62ms/step - loss: 10.4129 - mae: 2.4661 - val_loss: 11.2409 - val_mae: 2.5668\n",
      "Epoch 44/50\n",
      "819/819 [==============================] - 43s 52ms/step - loss: 10.4213 - mae: 2.4689 - val_loss: 10.4671 - val_mae: 2.4706\n",
      "Epoch 45/50\n",
      "819/819 [==============================] - 43s 52ms/step - loss: 10.4315 - mae: 2.4673 - val_loss: 10.2069 - val_mae: 2.4195\n",
      "Epoch 46/50\n",
      "819/819 [==============================] - 44s 53ms/step - loss: 10.3822 - mae: 2.4627 - val_loss: 10.8553 - val_mae: 2.5199\n",
      "Epoch 47/50\n",
      "819/819 [==============================] - 43s 53ms/step - loss: 10.3403 - mae: 2.4554 - val_loss: 10.5543 - val_mae: 2.4887\n",
      "Epoch 48/50\n",
      "819/819 [==============================] - 52s 63ms/step - loss: 10.3291 - mae: 2.4528 - val_loss: 11.3649 - val_mae: 2.5912\n",
      "Epoch 49/50\n",
      "819/819 [==============================] - 43s 52ms/step - loss: 10.3016 - mae: 2.4529 - val_loss: 11.1012 - val_mae: 2.5578\n",
      "Epoch 50/50\n",
      "819/819 [==============================] - 51s 62ms/step - loss: 10.2518 - mae: 2.4474 - val_loss: 10.7485 - val_mae: 2.5121\n"
     ]
    }
   ],
   "source": [
    "callbacks = [\n",
    "    tf.keras.callbacks.ModelCheckpoint(\n",
    "        str(base_dir / \"jena_lstm_l2.h5\"),\n",
    "        save_best_only=True\n",
    "    )\n",
    "]\n",
    "model.compile(\n",
    "    optimizer=\"rmsprop\",\n",
    "    loss=\"mse\",\n",
    "    metrics=[\"mae\"]\n",
    ")\n",
    "\n",
    "history = model.fit(\n",
    "    train_dataset,\n",
    "    epochs=50,\n",
    "    validation_data=val_dataset,\n",
    "    callbacks=callbacks\n",
    ")"
   ]
  },
  {
   "cell_type": "code",
   "execution_count": 53,
   "metadata": {
    "colab": {
     "base_uri": "https://localhost:8080/",
     "height": 452
    },
    "id": "UKZyNkzplBbR",
    "outputId": "d75d07ca-ed48-43d1-aaff-ad1f4df3c8a2",
    "slideshow": {
     "slide_type": "skip"
    }
   },
   "outputs": [
    {
     "data": {
      "image/png": "[encoded data removed]",
      "text/plain": [
       "<Figure size 640x480 with 1 Axes>"
      ]
     },
     "metadata": {},
     "output_type": "display_data"
    }
   ],
   "source": [
    "plot_history(history)"
   ]
  },
  {
   "cell_type": "code",
   "execution_count": 54,
   "metadata": {
    "colab": {
     "base_uri": "https://localhost:8080/"
    },
    "id": "yEpNxiAQlBbR",
    "outputId": "6725b8a2-1921-4e1e-dba3-44996b297afc",
    "slideshow": {
     "slide_type": "skip"
    }
   },
   "outputs": [
    {
     "name": "stdout",
     "output_type": "stream",
     "text": [
      "405/405 [==============================] - 14s 32ms/step - loss: 9.9793 - mae: 2.4453\n",
      "Test MAE: 2.45\n"
     ]
    }
   ],
   "source": [
    "model = tf.keras.models.load_model(base_dir / \"jena_lstm_l2.h5\")\n",
    "print(f\"Test MAE: {model.evaluate(test_dataset)[1]:.2f}\")"
   ]
  },
  {
   "cell_type": "markdown",
   "metadata": {
    "slideshow": {
     "slide_type": "slide"
    }
   },
   "source": [
    "---\n",
    "\n",
    "### 10.4.2 Stacking recurrent layers"
   ]
  },
  {
   "cell_type": "markdown",
   "metadata": {
    "id": "BzhkIDxnlBbS",
    "slideshow": {
     "slide_type": "skip"
    }
   },
   "source": [
    "#### Training and evaluating a dropout-regularized, stacked GRU model\n",
    "\n",
    "Just as with the `LSTM` earlier, the `recurrent_dropout`, not (yet?) being supported by optimised low-level CUDA operations, is very slow:\n",
    "\n",
    "```python\n",
    "\n",
    "tf.keras.backend.clear_session()\n",
    "\n",
    "inputs = tf.keras.Input(shape=(sequence_length, raw_data.shape[-1]))\n",
    "                                                #  we return all inner states\n",
    "x = tf.keras.layers.GRU(32, recurrent_dropout=0.5, return_sequences=True)(inputs)\n",
    "x = tf.keras.layers.GRU(32, recurrent_dropout=0.5)(x) # Note: recurrent_dropout is INSANELY slow!!\n",
    "x = tf.keras.layers.Dropout(0.5)(x)\n",
    "outputs = tf.keras.layers.Dense(1)(x)\n",
    "model = tf.keras.Model(inputs, outputs)\n",
    "\n",
    "callbacks = [\n",
    "    tf.keras.callbacks.ModelCheckpoint(\n",
    "        str(base_dir / \"jena_stacked_gru_dropout.h5\"),\n",
    "        save_best_only=True\n",
    "    )\n",
    "]\n",
    "model.compile(optimizer=\"rmsprop\", loss=\"mse\", metrics=[\"mae\"])\n",
    "history = model.fit(\n",
    "    train_dataset,\n",
    "    epochs=50,\n",
    "    validation_data=val_dataset,\n",
    "    callbacks=callbacks\n",
    ")\n",
    "\n",
    "plot_history(history)\n",
    "\n",
    "model = tf.keras.models.load_model(base_dir / \"jena_stacked_gru_dropout.h5\")\n",
    "print(f\"Test MAE: {model.evaluate(test_dataset)[1]:.2f}\")\n",
    "```"
   ]
  },
  {
   "cell_type": "markdown",
   "metadata": {
    "slideshow": {
     "slide_type": "fragment"
    }
   },
   "source": [
    "#### Training and evaluating an L2-regularized, stacked GRU model"
   ]
  },
  {
   "cell_type": "code",
   "execution_count": 122,
   "metadata": {
    "slideshow": {
     "slide_type": "fragment"
    }
   },
   "outputs": [],
   "source": [
    "tf.keras.backend.clear_session()\n",
    "\n",
    "inputs = tf.keras.Input(shape=(sequence_length, raw_data.shape[-1]))           # we return all inner states\n",
    "x = tf.keras.layers.GRU(32, recurrent_regularizer=tf.keras.regularizers.l2(0.8), return_sequences=True)(inputs)\n",
    "x = tf.keras.layers.GRU(32, recurrent_regularizer=tf.keras.regularizers.l2(0.8))(x)\n",
    "x = tf.keras.layers.Dropout(0.5)(x) # ↑ the L2 regularizer works with cuDNN\n",
    "outputs = tf.keras.layers.Dense(1)(x)\n",
    "model = tf.keras.Model(inputs, outputs)"
   ]
  },
  {
   "cell_type": "code",
   "execution_count": 123,
   "metadata": {
    "collapsed": true,
    "jupyter": {
     "outputs_hidden": true
    },
    "slideshow": {
     "slide_type": "skip"
    },
    "tags": []
   },
   "outputs": [
    {
     "name": "stdout",
     "output_type": "stream",
     "text": [
      "Epoch 1/50\n",
      "819/819 [==============================] - 54s 51ms/step - loss: 29.5583 - mae: 3.6853 - val_loss: 9.4801 - val_mae: 2.3585\n",
      "Epoch 2/50\n",
      "819/819 [==============================] - 39s 48ms/step - loss: 14.2595 - mae: 2.9172 - val_loss: 9.2738 - val_mae: 2.3555\n",
      "Epoch 3/50\n",
      "819/819 [==============================] - 44s 54ms/step - loss: 13.7008 - mae: 2.8577 - val_loss: 10.2424 - val_mae: 2.4953\n",
      "Epoch 4/50\n",
      "819/819 [==============================] - 45s 55ms/step - loss: 13.1864 - mae: 2.8032 - val_loss: 9.2510 - val_mae: 2.3657\n",
      "Epoch 5/50\n",
      "819/819 [==============================] - 45s 54ms/step - loss: 12.8375 - mae: 2.7694 - val_loss: 9.0631 - val_mae: 2.3338\n",
      "Epoch 6/50\n",
      "819/819 [==============================] - 45s 54ms/step - loss: 12.5329 - mae: 2.7369 - val_loss: 8.9297 - val_mae: 2.3268\n",
      "Epoch 7/50\n",
      "819/819 [==============================] - 45s 55ms/step - loss: 12.2470 - mae: 2.7091 - val_loss: 9.0576 - val_mae: 2.3468\n",
      "Epoch 8/50\n",
      "819/819 [==============================] - 46s 56ms/step - loss: 11.9520 - mae: 2.6745 - val_loss: 8.7651 - val_mae: 2.2901\n",
      "Epoch 9/50\n",
      "819/819 [==============================] - 44s 54ms/step - loss: 11.7169 - mae: 2.6500 - val_loss: 9.0436 - val_mae: 2.3424\n",
      "Epoch 10/50\n",
      "819/819 [==============================] - 48s 59ms/step - loss: 11.5368 - mae: 2.6293 - val_loss: 8.8621 - val_mae: 2.3120\n",
      "Epoch 11/50\n",
      "819/819 [==============================] - 51s 62ms/step - loss: 11.3583 - mae: 2.6095 - val_loss: 8.7758 - val_mae: 2.2959\n",
      "Epoch 12/50\n",
      "819/819 [==============================] - 50s 60ms/step - loss: 11.1540 - mae: 2.5867 - val_loss: 9.3109 - val_mae: 2.3782\n",
      "Epoch 13/50\n",
      "819/819 [==============================] - 53s 65ms/step - loss: 11.0489 - mae: 2.5738 - val_loss: 8.9606 - val_mae: 2.3194\n",
      "Epoch 14/50\n",
      "819/819 [==============================] - 55s 66ms/step - loss: 10.9321 - mae: 2.5604 - val_loss: 8.8279 - val_mae: 2.3012\n",
      "Epoch 15/50\n",
      "819/819 [==============================] - 57s 69ms/step - loss: 10.8426 - mae: 2.5479 - val_loss: 8.5685 - val_mae: 2.2678\n",
      "Epoch 16/50\n",
      "819/819 [==============================] - 47s 57ms/step - loss: 10.7133 - mae: 2.5345 - val_loss: 9.9672 - val_mae: 2.4586\n",
      "Epoch 17/50\n",
      "819/819 [==============================] - 51s 61ms/step - loss: 10.6447 - mae: 2.5254 - val_loss: 9.6461 - val_mae: 2.4163\n",
      "Epoch 18/50\n",
      "819/819 [==============================] - 46s 56ms/step - loss: 10.5559 - mae: 2.5181 - val_loss: 8.6858 - val_mae: 2.2841\n",
      "Epoch 19/50\n",
      "819/819 [==============================] - 42s 51ms/step - loss: 10.5159 - mae: 2.5124 - val_loss: 8.8603 - val_mae: 2.3114\n",
      "Epoch 20/50\n",
      "819/819 [==============================] - 45s 54ms/step - loss: 10.4593 - mae: 2.5039 - val_loss: 9.3107 - val_mae: 2.3756\n",
      "Epoch 21/50\n",
      "819/819 [==============================] - 44s 53ms/step - loss: 10.3529 - mae: 2.4948 - val_loss: 9.4386 - val_mae: 2.3839\n",
      "Epoch 22/50\n",
      "819/819 [==============================] - 51s 62ms/step - loss: 10.3228 - mae: 2.4907 - val_loss: 9.1090 - val_mae: 2.3384\n",
      "Epoch 23/50\n",
      "819/819 [==============================] - 42s 51ms/step - loss: 10.2854 - mae: 2.4854 - val_loss: 10.3621 - val_mae: 2.5257\n",
      "Epoch 24/50\n",
      "819/819 [==============================] - 52s 63ms/step - loss: 10.2599 - mae: 2.4835 - val_loss: 9.5636 - val_mae: 2.4063\n",
      "Epoch 25/50\n",
      "819/819 [==============================] - 46s 55ms/step - loss: 10.1919 - mae: 2.4759 - val_loss: 8.9771 - val_mae: 2.3211\n",
      "Epoch 26/50\n",
      "819/819 [==============================] - 38s 47ms/step - loss: 10.0981 - mae: 2.4656 - val_loss: 8.7326 - val_mae: 2.2866\n",
      "Epoch 27/50\n",
      "819/819 [==============================] - 42s 51ms/step - loss: 10.0803 - mae: 2.4592 - val_loss: 9.0043 - val_mae: 2.3189\n",
      "Epoch 28/50\n",
      "819/819 [==============================] - 51s 62ms/step - loss: 10.0844 - mae: 2.4609 - val_loss: 12.3275 - val_mae: 2.7836\n",
      "Epoch 29/50\n",
      "819/819 [==============================] - 55s 67ms/step - loss: 10.0030 - mae: 2.4525 - val_loss: 9.6612 - val_mae: 2.4210\n",
      "Epoch 30/50\n",
      "819/819 [==============================] - 42s 51ms/step - loss: 9.9932 - mae: 2.4520 - val_loss: 9.2643 - val_mae: 2.3608\n",
      "Epoch 31/50\n",
      "819/819 [==============================] - 49s 59ms/step - loss: 9.9081 - mae: 2.4444 - val_loss: 8.9013 - val_mae: 2.3001\n",
      "Epoch 32/50\n",
      "819/819 [==============================] - 45s 55ms/step - loss: 9.8470 - mae: 2.4340 - val_loss: 10.1024 - val_mae: 2.4733\n",
      "Epoch 33/50\n",
      "819/819 [==============================] - 45s 55ms/step - loss: 9.8507 - mae: 2.4345 - val_loss: 9.6131 - val_mae: 2.4068\n",
      "Epoch 34/50\n",
      "819/819 [==============================] - 47s 57ms/step - loss: 9.8379 - mae: 2.4353 - val_loss: 9.1172 - val_mae: 2.3307\n",
      "Epoch 35/50\n",
      "819/819 [==============================] - 45s 55ms/step - loss: 9.7801 - mae: 2.4248 - val_loss: 9.3651 - val_mae: 2.3787\n",
      "Epoch 36/50\n",
      "819/819 [==============================] - 45s 55ms/step - loss: 9.7480 - mae: 2.4228 - val_loss: 10.0821 - val_mae: 2.4652\n",
      "Epoch 37/50\n",
      "819/819 [==============================] - 45s 54ms/step - loss: 9.6706 - mae: 2.4112 - val_loss: 9.2045 - val_mae: 2.3449\n",
      "Epoch 38/50\n",
      "819/819 [==============================] - 44s 54ms/step - loss: 9.6352 - mae: 2.4122 - val_loss: 9.6522 - val_mae: 2.4108\n",
      "Epoch 39/50\n",
      "819/819 [==============================] - 40s 48ms/step - loss: 9.6029 - mae: 2.4035 - val_loss: 9.4539 - val_mae: 2.3830\n",
      "Epoch 40/50\n",
      "819/819 [==============================] - 40s 49ms/step - loss: 9.5983 - mae: 2.4027 - val_loss: 9.6437 - val_mae: 2.4221\n",
      "Epoch 41/50\n",
      "819/819 [==============================] - 41s 50ms/step - loss: 9.5732 - mae: 2.3994 - val_loss: 10.2904 - val_mae: 2.5059\n",
      "Epoch 42/50\n",
      "819/819 [==============================] - 42s 51ms/step - loss: 9.5261 - mae: 2.3932 - val_loss: 10.2352 - val_mae: 2.4913\n",
      "Epoch 43/50\n",
      "819/819 [==============================] - 46s 56ms/step - loss: 9.4665 - mae: 2.3880 - val_loss: 10.2707 - val_mae: 2.4991\n",
      "Epoch 44/50\n",
      "819/819 [==============================] - 45s 55ms/step - loss: 9.4471 - mae: 2.3834 - val_loss: 9.5294 - val_mae: 2.4010\n",
      "Epoch 45/50\n",
      "819/819 [==============================] - 43s 52ms/step - loss: 9.4322 - mae: 2.3831 - val_loss: 10.6233 - val_mae: 2.5428\n",
      "Epoch 46/50\n",
      "819/819 [==============================] - 42s 50ms/step - loss: 9.3887 - mae: 2.3783 - val_loss: 9.4143 - val_mae: 2.3790\n",
      "Epoch 47/50\n",
      "819/819 [==============================] - 43s 52ms/step - loss: 9.3878 - mae: 2.3779 - val_loss: 9.8877 - val_mae: 2.4400\n",
      "Epoch 48/50\n",
      "819/819 [==============================] - 46s 56ms/step - loss: 9.3422 - mae: 2.3721 - val_loss: 9.7949 - val_mae: 2.4315\n",
      "Epoch 49/50\n",
      "819/819 [==============================] - 45s 55ms/step - loss: 9.3104 - mae: 2.3677 - val_loss: 9.5269 - val_mae: 2.3982\n",
      "Epoch 50/50\n",
      "819/819 [==============================] - 45s 55ms/step - loss: 9.3063 - mae: 2.3686 - val_loss: 9.5561 - val_mae: 2.3941\n"
     ]
    }
   ],
   "source": [
    "callbacks = [\n",
    "    tf.keras.callbacks.ModelCheckpoint(\n",
    "        str(base_dir / \"jena_stacked_gru_l2.h5\"),\n",
    "        save_best_only=True\n",
    "    )\n",
    "]\n",
    "model.compile(optimizer=\"rmsprop\", loss=\"mse\", metrics=[\"mae\"])\n",
    "history = model.fit(\n",
    "    train_dataset,\n",
    "    epochs=50,\n",
    "    validation_data=val_dataset,\n",
    "    callbacks=callbacks\n",
    ")"
   ]
  },
  {
   "cell_type": "code",
   "execution_count": 124,
   "metadata": {
    "slideshow": {
     "slide_type": "skip"
    }
   },
   "outputs": [
    {
     "data": {
      "image/png": "[encoded data removed]",
      "text/plain": [
       "<Figure size 640x480 with 1 Axes>"
      ]
     },
     "metadata": {},
     "output_type": "display_data"
    }
   ],
   "source": [
    "plot_history(history)"
   ]
  },
  {
   "cell_type": "code",
   "execution_count": 125,
   "metadata": {
    "slideshow": {
     "slide_type": "skip"
    }
   },
   "outputs": [
    {
     "name": "stdout",
     "output_type": "stream",
     "text": [
      "405/405 [==============================] - 16s 32ms/step - loss: 9.7227 - mae: 2.4296\n",
      "Test MAE: 2.43\n"
     ]
    }
   ],
   "source": [
    "model = tf.keras.models.load_model(base_dir / \"jena_stacked_gru_l2.h5\")\n",
    "print(f\"Test MAE: {model.evaluate(test_dataset)[1]:.2f}\")"
   ]
  },
  {
   "cell_type": "markdown",
   "metadata": {
    "slideshow": {
     "slide_type": "slide"
    }
   },
   "source": [
    "---\n",
    "\n",
    "### 10.4.3 Using bidirectional RNNs\n",
    "\n",
    "RNNs exploit patterns in data that has a definite order (like weather readings).\n",
    "\n",
    "But the **reverse** of an ordered list is still ordered and might hold pertinent information.\n",
    "\n",
    "The idea is to train one net on sequential data, then another one with **the same hyperparameters** on the same dataset but with the order *reversed*.\n",
    "\n",
    "The hypothesis is that word order *does* matter in understanding language but *which* order (forward or back) isn't critical (on the basis if this single experiment)."
   ]
  },
  {
   "cell_type": "markdown",
   "metadata": {
    "slideshow": {
     "slide_type": "subslide"
    }
   },
   "source": [
    "An RNN trained on a reversed sequence will learn different representations than one trained on the original sequence.\n",
    "\n",
    "Representations that are *different* yet *useful* are always worth exploiting. The more they differ the better!\n",
    "\n",
    "Alternative representations can capture aspects of the data that were missed by other approaches.\n",
    "\n",
    "#### Note \n",
    "\n",
    "This is the intuition behind *ensembling* (gathering predictions from several models)."
   ]
  },
  {
   "cell_type": "markdown",
   "metadata": {
    "slideshow": {
     "slide_type": "subslide"
    }
   },
   "source": [
    "A bidirectional RNN is two regular RNNs: one chronological, the other antichronological. Representations are merged at the end.\n",
    "\n",
    "Strong suit: create representations for the whole sentence (e.g. for sentiment).  \n",
    "However: cannot be used to predict the next token!\n",
    "\n",
    "<!-- ![bidirectional rnn](images/rnn/chollet.bidirectional.png) -->\n",
    "![bidirectional rnn](https://github.com/jchwenger/AI/blob/main/6-text-and-sequences/images/rnn/chollet.bidirectional.png?raw=true)\n",
    "\n",
    "<small>DLWP, p.306</small>"
   ]
  },
  {
   "cell_type": "markdown",
   "metadata": {
    "slideshow": {
     "slide_type": "subslide"
    }
   },
   "source": [
    "#### Training and evaluating a bidirectional LSTM"
   ]
  },
  {
   "cell_type": "code",
   "execution_count": null,
   "metadata": {
    "slideshow": {
     "slide_type": "fragment"
    }
   },
   "outputs": [],
   "source": [
    "inputs = tf.keras.Input(shape=(sequence_length, raw_data.shape[-1]))\n",
    "                  # ↓ BIDIRECTIONAL -------------------------------\n",
    "x = tf.keras.layers.Bidirectional(tf.keras.layers.LSTM(16))(inputs) \n",
    "                  # ------------- ↑ wrapping an RNN layer ---------\n",
    "outputs = tf.keras.layers.Dense(1)(x)\n",
    "model = tf.keras.Model(inputs, outputs)"
   ]
  },
  {
   "cell_type": "code",
   "execution_count": 126,
   "metadata": {
    "slideshow": {
     "slide_type": "skip"
    }
   },
   "outputs": [
    {
     "name": "stdout",
     "output_type": "stream",
     "text": [
      "Epoch 1/10\n",
      "819/819 [==============================] - 60s 61ms/step - loss: 26.4216 - mae: 3.6921 - val_loss: 11.4313 - val_mae: 2.6293\n",
      "Epoch 2/10\n",
      "819/819 [==============================] - 46s 56ms/step - loss: 9.5115 - mae: 2.4129 - val_loss: 10.4757 - val_mae: 2.5242\n",
      "Epoch 3/10\n",
      "819/819 [==============================] - 47s 57ms/step - loss: 8.4618 - mae: 2.2687 - val_loss: 9.8176 - val_mae: 2.4496\n",
      "Epoch 4/10\n",
      "819/819 [==============================] - 46s 56ms/step - loss: 7.9159 - mae: 2.1893 - val_loss: 9.9030 - val_mae: 2.4602\n",
      "Epoch 5/10\n",
      "819/819 [==============================] - 49s 59ms/step - loss: 7.4896 - mae: 2.1289 - val_loss: 10.2907 - val_mae: 2.5108\n",
      "Epoch 6/10\n",
      "819/819 [==============================] - 46s 56ms/step - loss: 7.1696 - mae: 2.0835 - val_loss: 10.7141 - val_mae: 2.5476\n",
      "Epoch 7/10\n",
      "819/819 [==============================] - 47s 57ms/step - loss: 6.9118 - mae: 2.0426 - val_loss: 10.7991 - val_mae: 2.5762\n",
      "Epoch 8/10\n",
      "819/819 [==============================] - 45s 55ms/step - loss: 6.6370 - mae: 2.0030 - val_loss: 10.8970 - val_mae: 2.5904\n",
      "Epoch 9/10\n",
      "819/819 [==============================] - 44s 53ms/step - loss: 6.4353 - mae: 1.9714 - val_loss: 11.3692 - val_mae: 2.6362\n",
      "Epoch 10/10\n",
      "819/819 [==============================] - 44s 53ms/step - loss: 6.2758 - mae: 1.9471 - val_loss: 11.5527 - val_mae: 2.6571\n"
     ]
    }
   ],
   "source": [
    "callbacks = [\n",
    "    tf.keras.callbacks.ModelCheckpoint(\n",
    "        str(base_dir / \"jena_lstm_bidirectional.h5\"),\n",
    "        save_best_only=True\n",
    "    )\n",
    "]\n",
    "\n",
    "model.compile(optimizer=\"rmsprop\", loss=\"mse\", metrics=[\"mae\"])\n",
    "history = model.fit(\n",
    "    train_dataset,\n",
    "    epochs=10,\n",
    "    validation_data=val_dataset,\n",
    "    callbacks=callbacks,\n",
    ")"
   ]
  },
  {
   "cell_type": "code",
   "execution_count": 127,
   "metadata": {
    "slideshow": {
     "slide_type": "skip"
    }
   },
   "outputs": [
    {
     "data": {
      "image/png": "[encoded data removed]",
      "text/plain": [
       "<Figure size 640x480 with 1 Axes>"
      ]
     },
     "metadata": {},
     "output_type": "display_data"
    }
   ],
   "source": [
    "plot_history(history)"
   ]
  },
  {
   "cell_type": "code",
   "execution_count": 128,
   "metadata": {
    "slideshow": {
     "slide_type": "skip"
    }
   },
   "outputs": [
    {
     "name": "stdout",
     "output_type": "stream",
     "text": [
      "405/405 [==============================] - 13s 28ms/step - loss: 10.8978 - mae: 2.6199\n",
      "Test MAE: 2.62\n"
     ]
    }
   ],
   "source": [
    "model = tf.keras.models.load_model(base_dir / \"jena_lstm_bidirectional.h5\")\n",
    "print(f\"Test MAE: {model.evaluate(test_dataset)[1]:.2f}\") "
   ]
  },
  {
   "cell_type": "markdown",
   "metadata": {
    "id": "OkHYZLMvlBbZ",
    "slideshow": {
     "slide_type": "notes"
    }
   },
   "source": [
    "---\n",
    "\n",
    "### 10.4.4 Going even further\n",
    "\n",
    "- Experiment with the number of units in recurrent layers, and with the l2 regularizer;\n",
    "- Experiment with the optimizer and learning rate;\n",
    "- Try and have a stack of Dense layers instead of just one;\n",
    "- Vary the length of input sequences, try a different sampling rate, or think about feature engineering."
   ]
  },
  {
   "cell_type": "markdown",
   "metadata": {
    "slideshow": {
     "slide_type": "slide"
    }
   },
   "source": [
    "## Summary\n",
    "\n",
    "### As always\n",
    "\n",
    "- *Baselines, baselines, baselines*;\n",
    "- Try simple models, then more complex ones;"
   ]
  },
  {
   "cell_type": "markdown",
   "metadata": {
    "slideshow": {
     "slide_type": "slide"
    }
   },
   "source": [
    "### RNNs\n",
    "\n",
    "- Recurrent nets work well for data where **ordering** matters;\n",
    "- Two main layers:\n",
    "  - **LSTM**: most complex, most expensive;\n",
    "  - **GRU**: slightly less complex, faster;\n",
    "- For recurrent nets use the time-constant `recurrent_dropout` (slow!) or the `recurrent_regularizer`;\n",
    "- For more representational power, try **stacking** RNN layers\n",
    "- If you're not predicting future steps, you can try **bidirectional** layers."
   ]
  }
 ],
 "metadata": {
  "accelerator": "GPU",
  "celltoolbar": "Slideshow",
  "colab": {
   "collapsed_sections": [],
   "name": "chapter10_dl-for-timeseries.i",
   "private_outputs": false,
   "provenance": [],
   "toc_visible": true
  },
  "kernelspec": {
   "display_name": "Python 3 (ipykernel)",
   "language": "python",
   "name": "python3"
  },
  "language_info": {
   "codemirror_mode": {
    "name": "ipython",
    "version": 3
   },
   "file_extension": ".py",
   "mimetype": "text/x-python",
   "name": "python",
   "nbconvert_exporter": "python",
   "pygments_lexer": "ipython3",
   "version": "3.9.18"
  }
 },
 "nbformat": 4,
 "nbformat_minor": 4
}
