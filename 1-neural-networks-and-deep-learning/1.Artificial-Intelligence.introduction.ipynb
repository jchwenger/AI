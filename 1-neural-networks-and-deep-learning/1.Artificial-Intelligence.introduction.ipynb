{
 "cells": [
  {
   "cell_type": "markdown",
   "id": "aaa76523",
   "metadata": {
    "editable": true,
    "slideshow": {
     "slide_type": "subslide"
    },
    "tags": []
   },
   "source": [
    "# Attendance\n",
    "\n",
    "[The link to SEAts](https://gold.seats.cloud/angular/#/lectures)"
   ]
  },
  {
   "cell_type": "markdown",
   "id": "af323c7f",
   "metadata": {
    "slideshow": {
     "slide_type": "slide"
    }
   },
   "source": [
    "# IS53024B/IS53024S/IS71039A Artificial-Intelligence"
   ]
  },
  {
   "cell_type": "markdown",
   "id": "f2c5d5b5-9d8e-4ea1-8f4d-a822a0e581a8",
   "metadata": {
    "editable": true,
    "slideshow": {
     "slide_type": "fragment"
    },
    "tags": []
   },
   "source": [
    "#### Jérémie* Wenger  \n",
    "(he/him)  \n",
    "[j.wenger@gold.ac.uk](mailto:j.wenger@gold.ac.uk)  \n",
    "office hours: Friday 2-3.30pm (before the labs)  \n",
    "\\* Jeremie is totally fine\n",
    "\n",
    "#### TA: Jyothi Malla\n",
    "(she/her)  \n",
    "[jmall003@gold.ac.uk](mailto:jmall003@gold.ac.uk)  "
   ]
  },
  {
   "cell_type": "markdown",
   "id": "54c66047",
   "metadata": {
    "slideshow": {
     "slide_type": "slide"
    },
    "tags": []
   },
   "source": [
    "---\n",
    "\n",
    "## Before we start...\n",
    "\n",
    "## How will you be assessed?\n",
    "\n",
    "All the quizzes are formative!"
   ]
  },
  {
   "cell_type": "markdown",
   "id": "b7506506",
   "metadata": {
    "slideshow": {
     "slide_type": "subslide"
    },
    "tags": []
   },
   "source": [
    "### Undergraduate\n",
    "\n",
    "- **Coursework**: 50%  \n",
    "  Due: 13/1/25  \n",
    "  Feedback: 3/2/25  \n",
    "  \n",
    "\n",
    "- **Exam**: 50%  \n",
    "  Date: Early-Mid 1/25  "
   ]
  },
  {
   "cell_type": "markdown",
   "id": "cdf6e06d",
   "metadata": {
    "slideshow": {
     "slide_type": "subslide"
    },
    "tags": []
   },
   "source": [
    "### Postgraduate\n",
    "\n",
    "- **Coursework**: 100%  \n",
    "  Due: 13/1/25  \n",
    "  Feedback: 3/2/25  "
   ]
  },
  {
   "cell_type": "markdown",
   "id": "f9becda0",
   "metadata": {
    "slideshow": {
     "slide_type": "subslide"
    }
   },
   "source": [
    "## January Exam 2025 (UG students only)\n",
    "\n",
    "This exam will take place **on campus**. It lasts for 2 hours. RASA students have special accommodations, in a separate room.\n",
    "\n",
    "Please read Student Guidelines for Exams [here](https://www.gold.ac.uk/students/assessments/).\n",
    "\n",
    "There are be no deadline extensions for this."
   ]
  },
  {
   "cell_type": "markdown",
   "id": "659dbe90",
   "metadata": {
    "slideshow": {
     "slide_type": "slide"
    }
   },
   "source": [
    "---\n",
    "\n",
    "# Action plan!\n",
    "\n",
    "We will be studying François Chollet's book [Deep Learning With Python](https://www.manning.com/books/deep-learning-with-python-second-edition?a_aid=keras&a_bid=76564dff) (here's his [original GitHub repo](https://github.com/fchollet/deep-learning-with-python-notebooks)).\n",
    "\n",
    "<!-- <img  style=\"width: auto; height: 500px; float:right;\"src=\"images/chollet-cover.png\"> -->\n",
    "<img style=\"width: auto; height: 500px; float:right;\" src=\"https://raw.githubusercontent.com/jchwenger/AI/main/1-neural-networks-and-deep-learning/images/chollet-cover.png\">\n",
    "\n",
    "<small style=\"position:absolute; bottom: 0; right:0;\">(It _must_ be the second edition of 2021, without the **Licensed to \\<null\\>** at the bottom of each page, come talk to me if you have a doubt.)</small>"
   ]
  },
  {
   "cell_type": "markdown",
   "id": "3d8e32d9-0de3-4b84-9d27-e372747ce41b",
   "metadata": {
    "slideshow": {
     "slide_type": "subslide"
    }
   },
   "source": [
    "### To help me help you\n",
    "\n",
    "- How many of you are UG/PG?\n",
    "\n",
    "- Interests/focus: Data Science? Job in ML? Research? Art?\n",
    "\n",
    "- Who has NumPy/Python experience? Who has none?\n",
    "\n",
    "- Who has DL experience?\n",
    "\n",
    "- Who fears maths? Who loves it?"
   ]
  },
  {
   "cell_type": "markdown",
   "id": "17ad7f69-a626-4b0a-88b5-9908f9cf29d5",
   "metadata": {
    "slideshow": {
     "slide_type": "subslide"
    }
   },
   "source": [
    "# Topics\n",
    "\n",
    "1. Introduction\n",
    "\n",
    "2. Neural networks: the building blocks\n",
    "\n",
    "3. Getting started with ML: classification & regression \n",
    "\n",
    "4. Fundamentals\n",
    "\n",
    "5. Computer Vision\n",
    "\n",
    "6. Text and sequences\n",
    "\n",
    "7. Best & advanced practices\n",
    "\n",
    "8. Generative models\n",
    "\n",
    "9. Conclusion"
   ]
  },
  {
   "cell_type": "markdown",
   "id": "5ede5176-6243-4c98-a07f-5137e1ac8cd1",
   "metadata": {
    "slideshow": {
     "slide_type": "slide"
    }
   },
   "source": [
    "---\n",
    "\n",
    "# Today!\n",
    "\n",
    "### 1.1-1.1.2. Artificial Intelligence, machine learning, and deep learning\n",
    "\n",
    "### 1.1.3-1.1.4 Learning representations\n",
    "\n",
    "### 1.1.4 The \"deep\" in \"deep learning\"\n",
    "\n",
    "### 1.2-1.2.6 A brief history of machine learning\n",
    "\n",
    "### 1.2.7 The modern landscape & 1.1.6-1.1.8 Achievements "
   ]
  },
  {
   "cell_type": "markdown",
   "id": "4b3f58fe",
   "metadata": {
    "slideshow": {
     "slide_type": "slide"
    }
   },
   "source": [
    "---\n",
    "\n",
    "#  1.1-1.1.2. Artificial Intelligence, machine learning, and deep learning\n",
    "\n",
    "\n",
    "Artificial Intelligence is the automation of thought.\n",
    "\n",
    "Thinking machines, machines that do things that, until they did them, we thought only humans could do. \n",
    "\n",
    "However, as soon as machines accomplish a task we tend to move the goal post, and think the task was not so hard after all."
   ]
  },
  {
   "cell_type": "markdown",
   "id": "1fa61af7",
   "metadata": {
    "slideshow": {
     "slide_type": "subslide"
    }
   },
   "source": [
    "A terrible way to start..."
   ]
  },
  {
   "cell_type": "code",
   "execution_count": 33,
   "id": "4974f4c4",
   "metadata": {
    "slideshow": {
     "slide_type": "fragment"
    }
   },
   "outputs": [
    {
     "data": {
      "image/jpeg": "[encoded data removed]",
      "text/html": [
       "\n",
       "        <iframe\n",
       "            width=\"853\"\n",
       "            height=\"480\"\n",
       "            src=\"https://www.youtube.com/embed/-J_xL4IGhJA?start=20\"\n",
       "            frameborder=\"0\"\n",
       "            allowfullscreen\n",
       "            \n",
       "        ></iframe>\n",
       "        "
      ],
      "text/plain": [
       "<IPython.lib.display.YouTubeVideo at 0x10b1bf0b0>"
      ]
     },
     "execution_count": 33,
     "metadata": {},
     "output_type": "execute_result"
    }
   ],
   "source": [
    "from IPython.display import YouTubeVideo                      # MIT 6.001 Structure and Interpretation\n",
    "YouTubeVideo('-J_xL4IGhJA', width=853, height=480, start=20)  # of Computer Programs (until 3'55.)"
   ]
  },
  {
   "cell_type": "markdown",
   "id": "42e0bf3b",
   "metadata": {
    "slideshow": {
     "slide_type": "fragment"
    }
   },
   "source": [
    "<small>Source: [MIT 6.001 Structure and Interpretation of Computer Programs, 1986](https://www.youtube.com/playlist?list=PLE18841CABEA24090)</small>"
   ]
  },
  {
   "cell_type": "markdown",
   "id": "5dfa5c84",
   "metadata": {
    "slideshow": {
     "slide_type": "subslide"
    }
   },
   "source": [
    "Artificial Intelligence: not *quite* a science (it's a work in progress...).\n",
    "\n",
    "It is *certainly* engineering, and many view it as a **(dark) art or magic**. 🧙\n",
    "\n",
    "It's not really about computers, or accelerators (GPUs, TPUs).\n",
    "\n",
    "*Programming*: formalising *processes* (how-to-s, methods, *recipes*).\n",
    "\n",
    "*Artificial Intelligence*: formalises *learning*."
   ]
  },
  {
   "cell_type": "markdown",
   "id": "c2f3abcc",
   "metadata": {
    "slideshow": {
     "slide_type": "slide"
    }
   },
   "source": [
    "## A few puzzles just for fun\n",
    "\n",
    "Any mobile in this room can do calculations almost no human is capable of. Are they intelligent?\n",
    "\n",
    "For many years, games like chess or Go were thought to be unreachable, the pinnacle of *intelligence*. Now it's a done deal.\n",
    "\n",
    "*Does that make networks AlphaGo and AlphaZero, who beat humans at these games, intelligent*? Or is it the same thing as your calculator?"
   ]
  },
  {
   "cell_type": "markdown",
   "id": "5a448d65",
   "metadata": {
    "slideshow": {
     "slide_type": "subslide"
    }
   },
   "source": [
    "In fact, *search algorithms* (finding shortest paths for instance) were the focus of AI research, and are still a part of many courses on the subject.\n",
    "\n",
    "But if a computer, given fixed rules (the algorithm), can do it, is it intelligence? \n",
    "\n",
    "If we discover that many of the functions of *our brains* are \"just\", say, search algorithms, does this make us *dumb* (like computers)?\n",
    "\n",
    "What if a *living organism* can do it??"
   ]
  },
  {
   "cell_type": "code",
   "execution_count": 34,
   "id": "8aff474c",
   "metadata": {
    "slideshow": {
     "slide_type": "subslide"
    }
   },
   "outputs": [
    {
     "data": {
      "image/jpeg": "[encoded data removed]",
      "text/html": [
       "\n",
       "        <iframe\n",
       "            width=\"853\"\n",
       "            height=\"480\"\n",
       "            src=\"https://www.youtube.com/embed/HyzT5b0tNtk\"\n",
       "            frameborder=\"0\"\n",
       "            allowfullscreen\n",
       "            \n",
       "        ></iframe>\n",
       "        "
      ],
      "text/plain": [
       "<IPython.lib.display.YouTubeVideo at 0x10b094140>"
      ]
     },
     "execution_count": 34,
     "metadata": {},
     "output_type": "execute_result"
    }
   ],
   "source": [
    "YouTubeVideo('HyzT5b0tNtk', width=853, height=480) # Slime mold BBC"
   ]
  },
  {
   "cell_type": "markdown",
   "id": "214a1481",
   "metadata": {
    "slideshow": {
     "slide_type": "fragment"
    }
   },
   "source": [
    "This organism seems to be able to solve path-finding problems very well. Is it intelligent?"
   ]
  },
  {
   "cell_type": "markdown",
   "id": "e1305bc5",
   "metadata": {
    "slideshow": {
     "slide_type": "subslide"
    }
   },
   "source": [
    "Another thing: does a lizard or a fly's ability to *see things* (\"this is food\", \"this is a predator\") make them intelligent? \n",
    "\n",
    "If not, is a neural network trained to label images (\"this is a cat\", \"this is a stop sign\") intelligent?\n",
    "\n",
    "(One could think about the idea of *Artificial Perception* as a better name for many of the breakthroughs of the past decade...)"
   ]
  },
  {
   "cell_type": "markdown",
   "id": "7c4eedbf",
   "metadata": {
    "slideshow": {
     "slide_type": "subslide"
    }
   },
   "source": [
    "Recall the famous Richard Feynman quote: *What I cannot create, I do not understand.*\n",
    "\n",
    "The same argument could apply to intelligence? Do we even know what *intelligence* means?\n",
    "\n",
    "Then we, humans, as a species, are slowly working toward knowing what *learning*, and *intelligence*, are.\n",
    "\n",
    "One thing for sure, *we* are learning a lot trying to build it all!"
   ]
  },
  {
   "cell_type": "markdown",
   "id": "a08e7904",
   "metadata": {
    "slideshow": {
     "slide_type": "slide"
    }
   },
   "source": [
    "## The paradigm shift of machine learning\n",
    "\n",
    "1950s-1980s: *symbolic AI*, which is the manipulation of symbols – like rearranging equations, or writing a program!\n",
    "\n",
    "\"If it is raining I will get wet. It is raining. Therefore I will get wet.\" ([Good](https://en.wikipedia.org/wiki/Syllogism) [old](https://www.britannica.com/topic/history-of-logic/Syllogisms) [Aristotle](https://plato.stanford.edu/entries/aristotle-logic/)...)\n",
    "\n",
    "The idea works for tightly defined tasks such as chess, but struggles with *looser* tasks.\n",
    "\n",
    "For example, image classification and speech recognition."
   ]
  },
  {
   "cell_type": "markdown",
   "id": "eb9602c5",
   "metadata": {
    "slideshow": {
     "slide_type": "subslide"
    }
   },
   "source": [
    "In the *symbolic* paradigm, the rules are codified as a program.\n",
    "\n",
    "The answers are computed from data.\n",
    "\n",
    "For example: given this board configuration and the rules of chess, what is the best next move?"
   ]
  },
  {
   "cell_type": "markdown",
   "id": "4c49d030",
   "metadata": {
    "slideshow": {
     "slide_type": "subslide"
    }
   },
   "source": [
    "1990s: Machine learning (\"Classical\" ML): [Random Forests](https://en.wikipedia.org/wiki/Random_forest), [Support Vector Machines](https://en.wikipedia.org/wiki/Support_vector_machine)\n",
    "\n",
    "2010s: Deep learning\n",
    "\n",
    "Hard coded rules are replaced with a *statistical model*.\n",
    "\n",
    "Rules are **learned**, by comparing our output with the desired response.\n",
    "\n",
    "The program is trying to find **map** between an input and a target, by creating **internal representations**."
   ]
  },
  {
   "cell_type": "markdown",
   "id": "badc5923",
   "metadata": {
    "slideshow": {
     "slide_type": "subslide"
    }
   },
   "source": [
    "<!-- ![Classical ML shift](images/chollet.programming-ml-shift.png) -->\n",
    "<img style=\"\" src=\"https://raw.githubusercontent.com/jchwenger/AI/main/1-neural-networks-and-deep-learning/images/chollet.programming-ml-shift.png\">\n",
    "\n",
    "<small>DLWP, p. 4</small>"
   ]
  },
  {
   "cell_type": "markdown",
   "id": "1c016e51",
   "metadata": {
    "slideshow": {
     "slide_type": "subslide"
    }
   },
   "source": [
    "The model is **trained** on  data.\n",
    "\n",
    "The rules are implicit instead of hardcoded.\n",
    "\n",
    "Or, better put, there is a level of rules that is *explicit*, which sets up a context in which the *implicit* rules are **learnt**, or **emerge**, from the training process.\n",
    "\n",
    "For example: predict an image tag (feed an image, the program gives you \"cat\", or \"dog\", etc.).\n",
    "\n",
    "This also means that the rules the algorithm comes up with are **unknown** (a bit like our brains)."
   ]
  },
  {
   "cell_type": "markdown",
   "id": "09229715",
   "metadata": {
    "slideshow": {
     "slide_type": "slide"
    }
   },
   "source": [
    "<!-- ![xkcd data](images/xkcd-data.png) -->\n",
    "<img style=\"height:700px\" src=\"https://raw.githubusercontent.com/jchwenger/AI/main/1-neural-networks-and-deep-learning/images/xkcd-data.png\">\n",
    "\n",
    "([Source](https://twitter.com/MIT_CSAIL/status/1571529480081850369?t=_YJZE31qe4MT0pTvWfQnig&s=03))"
   ]
  },
  {
   "cell_type": "markdown",
   "id": "0a50b312-d6d3-4d8d-9ea0-56ddde8ea219",
   "metadata": {
    "slideshow": {
     "slide_type": "subslide"
    }
   },
   "source": [
    "<!-- <img style=\"height:700px\" src=\"images/AI-ML-DL.png\"> -->\n",
    "<img style=\"height:700px\" src=\"https://raw.githubusercontent.com/jchwenger/AI/main/1-neural-networks-and-deep-learning/images/AI-ML-DL.png\">\n",
    "\n",
    "[Elizabeth Fuentes Leone, \"Introduction to Artificial Intelligence and Machine Learning\"](https://community.aws/posts/introduction-to-artificial-intelligence-and-machine-learning)"
   ]
  },
  {
   "cell_type": "markdown",
   "id": "5c6146b9",
   "metadata": {
    "slideshow": {
     "slide_type": "subslide"
    }
   },
   "source": [
    "<!-- <img  style=\"width: auto; height: 700px;\" src=\"images/MIT_DeepLearning_L1.png\"> -->\n",
    "<img  style=\"width: auto; height: 700px;\" src=\"https://raw.githubusercontent.com/jchwenger/AI/main/1-neural-networks-and-deep-learning/images/MIT_DeepLearning_L1.png\">\n",
    "\n",
    "[MIT 6.S191 Introduction to Deep Learning](http://introtodeeplearning.com)"
   ]
  },
  {
   "cell_type": "markdown",
   "id": "afce7091",
   "metadata": {
    "slideshow": {
     "slide_type": "subslide"
    }
   },
   "source": [
    "Within the current Deep Learning landscape, *mostly* these categories:\n",
    "\n",
    "- **supervised learning**: the right answer for the task is available (like a test with right and wrong answers) (when there are labels only for _some_ samples, it is called **semi-supervised**);\n",
    "\n",
    "- **self-supervised learning**: when the _data itself_ provides the labels/right answers;\n",
    "\n",
    "- **unsupervised learning**: the right answer is not available, but we can use a _measure of similarity or distance between samples_ to cluster them together;\n",
    "\n",
    "- **reinforcement learning**: after a potentially long trajectory and many actions, we reach, or fail to reach, a goal, and get a reward.\n",
    "\n",
    "We will be focussing on the first two categories."
   ]
  },
  {
   "cell_type": "markdown",
   "id": "c602f4ca",
   "metadata": {
    "slideshow": {
     "slide_type": "subslide"
    }
   },
   "source": [
    "<!-- <img src=\"images/lecake.png\" style=\"width: auto; height: 700px;\"> -->\n",
    "<img style=\"width: auto; height: 700px;\" src=\"https://raw.githubusercontent.com/jchwenger/AI/main/1-neural-networks-and-deep-learning/images/lecake.png\">\n",
    "\n",
    "\n",
    "[Predictive Learning, NIPS 2016 | Yann LeCun, Facebook Research](https://youtu.be/Ount2Y4qxQo?t=1154)"
   ]
  },
  {
   "cell_type": "markdown",
   "id": "bfef6511",
   "metadata": {
    "slideshow": {
     "slide_type": "slide"
    }
   },
   "source": [
    "## Why the current boom?\n",
    "\n",
    "The success of deep learning – learning with neural networks – is very recent!\n",
    "\n",
    "> On **30 September 2012**, a convolutional neural network (CNN) called **AlexNet** achieved a top-5 error of 15.3% in the **ImageNet** 2012 Challenge, more than 10.8 percentage points lower than that of the runner up. This was made feasible **due to the use of graphics processing units (GPUs)** during training, an essential ingredient of the deep learning revolution. According to The Economist, \"Suddenly people started to pay attention, not just within the AI community but across the technology industry as a whole.\" ([Wikipedia](https://en.wikipedia.org/wiki/ImageNet#Significance_for_deep_learning), *my emphasis*)"
   ]
  },
  {
   "cell_type": "markdown",
   "id": "7ac4ec42",
   "metadata": {
    "slideshow": {
     "slide_type": "subslide"
    }
   },
   "source": [
    "Machine learning, and deep learning in particular, rely on huge data sets and enormous **compute power**.\n",
    "\n",
    "The first neural networks were invented in the '50s, but even in the '80s and '90s the sheer computation required meant most people thought it was impossible.\n",
    "\n",
    "Fun fact: it is the rise of video games, that created a **huge** demande for graphics hardware (Graphics Processing Units, or GPU), that enabled the current Deep Learning boom. (Graphics also require large amounts of optimised matrix operations, like neural networks.)"
   ]
  },
  {
   "cell_type": "markdown",
   "id": "f0efc96a",
   "metadata": {
    "slideshow": {
     "slide_type": "subslide"
    }
   },
   "source": [
    "<!-- <img src=\"images/deep-learning-rise-scale.png\" style=\"width: auto; height: 700px;\"> -->\n",
    "<img style=\"width: auto; height: 700px;\" src=\"https://raw.githubusercontent.com/jchwenger/AI/main/1-neural-networks-and-deep-learning/images/deep-learning-rise-scale.png\">\n",
    "\n",
    "<small>[Andrew Ng, DeepLearning.ai, Stanford](https://cs230.stanford.edu/files/C1M1.pdf), [Stanford CS230, C1M1](https://cs230.stanford.edu/syllabus/)</small>\n"
   ]
  },
  {
   "cell_type": "markdown",
   "id": "6506ffd8",
   "metadata": {
    "slideshow": {
     "slide_type": "subslide"
    }
   },
   "source": [
    "The field **lacks a firm mathematical base**: engineers got there first, and now theorists are working to try and explain what is happening.\n",
    "\n",
    "It is truly an engineering field: it is **hands-on**, **empirical**, based on **know-how**.\n",
    "\n",
    "Good math knowledge is essential, especially at a high level or for research, but so does intuition and a readiness to **tinker**.\n",
    "\n",
    "In fact, it happens quite often that people get into the field without being very good at math, and their passion for the field leads them to shed their fear of math and start learning!"
   ]
  },
  {
   "cell_type": "markdown",
   "id": "f61d00f4",
   "metadata": {
    "slideshow": {
     "slide_type": "subslide"
    }
   },
   "source": [
    "Machine and deep learning are ultimately the search for **transformations** of data into something meaningful. \n",
    "\n",
    "What is a 'data transformation' and what does 'something meaningful'?"
   ]
  },
  {
   "cell_type": "markdown",
   "id": "9caf6583-6e73-4ba4-b6eb-6b8ec81318f2",
   "metadata": {
    "slideshow": {
     "slide_type": "slide"
    }
   },
   "source": [
    "---\n",
    "\n",
    "# 1.1.3-1.1.4 Learning representations\n",
    "\n",
    "Supervised machine learning requires:\n",
    "\n",
    "- **input data**, e.g. images of dogs and cats;\n",
    "\n",
    "- **output expectation**, probabilities over e.g. image labels (which ones are cats or dogs); \n",
    "\n",
    "- a **measure** or **criterion** of the difference between output and expectation, that we will call this **loss** or **cost**."
   ]
  },
  {
   "cell_type": "markdown",
   "id": "894d696d",
   "metadata": {
    "slideshow": {
     "slide_type": "subslide"
    }
   },
   "source": [
    "The model, as it were, plays a game: **guessing** what the right labels are. \n",
    "\n",
    "Then, the measure will tell it how right or wrong its prediction was.\n",
    "\n",
    "After that, the model will **adjust** itself and try again, hoping to make better predictions.\n",
    "\n",
    "Because of the adjustment step, this whole process is called **learning**."
   ]
  },
  {
   "cell_type": "markdown",
   "id": "06f0cc44",
   "metadata": {
    "slideshow": {
     "slide_type": "subslide"
    }
   },
   "source": [
    "The main thing to realise here is that the **rules** for how to distinguish a dog from a cat are **not given to the system**. The system must figure them out!\n",
    "\n",
    "Something like *f(\"photo of a cat\") = \"cat\"*\n",
    "\n",
    "In order to do that, data is progressively transformed into a series of **intermediate representations**.\n",
    "\n",
    "A **statistical model** (a neural net) learns a combined transformation from input data (pixels) into a meaningful output (\"cat\")."
   ]
  },
  {
   "cell_type": "markdown",
   "id": "c906311a",
   "metadata": {
    "slideshow": {
     "slide_type": "subslide"
    }
   },
   "source": [
    "### A simple example\n",
    "\n",
    "We have a bunch of 2D data points (x, y), and each point can be 'red' or 'black'.\n",
    "\n",
    "Seek a transformation $(x, y) \\to \\{\\text{red}, \\text{black}\\}$."
   ]
  },
  {
   "cell_type": "code",
   "execution_count": 21,
   "id": "e0df29e2-41a0-438b-8f24-f246cfc10eac",
   "metadata": {
    "slideshow": {
     "slide_type": "skip"
    }
   },
   "outputs": [],
   "source": [
    "import numpy as np\n",
    "import matplotlib.pyplot as plt\n",
    "plt.rcParams['image.cmap'] = 'plasma' # nice colours\n",
    "plt.rcParams['lines.markersize'] = 3  # nice scatter point size\n",
    "\n",
    "num_points = 100\n",
    "\n",
    "# np.random.random generates floats from 0 to 1\n",
    "# multiply those by two and subtract one to get num_points points between -1 and 1\n",
    "x = np.random.random(num_points) * 2 - 1\n",
    "\n",
    "# the Euclidean (L2) distance between our points and the limit (1 == 1**2)\n",
    "# the closer a point is to 1 or -1, the lower its corresponding value in L will be\n",
    "L = np.sqrt(1 - x * x)\n",
    "\n",
    "# use the distance measure when generating y (otherwise also using the same np.random.random)\n",
    "# if an x is close to 1 or -1 (larger), the y will be correspondingly smaller\n",
    "# the effect of this is to distribute the data on a disk of radius 1 (instead of uniformly → a square)\n",
    "y = L * (np.random.random(num_points) * 2 - 1)\n",
    "\n",
    "# for uniformly distributed data:\n",
    "# y = np.random.random(num_points) * 2 - 1\n",
    "\n",
    "# we use a hypothetical line, y = -2x to split our data:\n",
    "# every point on or below it will be red, every point above black\n",
    "\n",
    "slope = -2 # we define a variable here as we need it later\n",
    "def f(x, slope=slope):\n",
    "    return slope*x\n",
    "\n",
    "x_black = x[y > f(x)] # if y is above f(x) == -2x, black\n",
    "y_black = y[y > f(x)]\n",
    "\n",
    "x_red = x[y <= f(x)] # if y is on or below f(x) == -2x, red\n",
    "y_red = y[y <= f(x)]"
   ]
  },
  {
   "cell_type": "code",
   "execution_count": 22,
   "id": "a2f217fa-f6f5-404a-978e-c40560c21a58",
   "metadata": {
    "slideshow": {
     "slide_type": "skip"
    }
   },
   "outputs": [],
   "source": [
    "def plot_data():\n",
    "    \n",
    "    plt.axes().set_aspect('equal')\n",
    "    plt.plot(x_black, y_black, 'ko')\n",
    "    plt.plot(x_red, y_red, 'ro')\n",
    "\n",
    "    u = np.linspace(-1, 1, 100)\n",
    "    v = np.zeros(100)\n",
    "    \n",
    "    plt.plot(u, v, 'b')\n",
    "    plt.plot(v, u, 'b')\n",
    "    plt.show()"
   ]
  },
  {
   "cell_type": "code",
   "execution_count": 23,
   "id": "cd1cf91c-0dd2-4b9b-ad3a-8f09f1558b89",
   "metadata": {
    "slideshow": {
     "slide_type": "skip"
    }
   },
   "outputs": [],
   "source": [
    "def print_data():\n",
    "    for i in range(len(x)):\n",
    "        label = 'black' if y[i] > f(x[i]) else 'red'\n",
    "        print(f'{x[i]: 12.10f}', ', ', f'{y[i]: 12.10f}', '\\t', label,  sep='')"
   ]
  },
  {
   "cell_type": "markdown",
   "id": "1272b077",
   "metadata": {
    "slideshow": {
     "slide_type": "subslide"
    }
   },
   "source": [
    "Here is the data set, as the machine 'sees' it. Is there a simple association between (x, y) and red/black?  "
   ]
  },
  {
   "cell_type": "code",
   "execution_count": 24,
   "id": "c1d45448-a8b3-4fd7-a486-f865e1bb2d2f",
   "metadata": {
    "slideshow": {
     "slide_type": "fragment"
    }
   },
   "outputs": [
    {
     "name": "stdout",
     "output_type": "stream",
     "text": [
      "-0.5477246345,  0.1288230680\tred\n",
      "-0.2633643792,  0.7523505425\tblack\n",
      " 0.8253084177, -0.3445522917\tblack\n",
      " 0.3759777766, -0.0892008653\tblack\n",
      " 0.3271639656, -0.8845287975\tred\n",
      " 0.2621650062,  0.1614420790\tblack\n",
      " 0.6399069046, -0.6573811105\tblack\n",
      " 0.7383852069,  0.4334371425\tblack\n",
      "-0.3724815849, -0.4193210429\tred\n",
      "-0.5650319725,  0.4274431589\tred\n",
      "-0.1899865167, -0.9288852005\tred\n",
      " 0.5613998874, -0.4560422753\tblack\n",
      "-0.9455355394, -0.0067995807\tred\n",
      " 0.9557175132, -0.0085478604\tblack\n",
      "-0.7236223820, -0.5696790833\tred\n",
      "-0.2580942451,  0.3839196972\tred\n",
      "-0.6041965948, -0.4890132259\tred\n",
      "-0.2737895663,  0.0665646308\tred\n",
      "-0.1022139949,  0.4097656857\tblack\n",
      "-0.3378465537, -0.8705758835\tred\n",
      "-0.9689292617,  0.0046193445\tred\n",
      " 0.9225227595,  0.2643603183\tblack\n",
      " 0.0379462351, -0.6421940069\tred\n",
      " 0.6785243833,  0.5185770291\tblack\n",
      "-0.2694098803, -0.4638928883\tred\n",
      " 0.2417347010, -0.6697890485\tred\n",
      " 0.3030742397, -0.1969826373\tblack\n",
      " 0.2404485398, -0.2347552264\tblack\n",
      "-0.4762708557, -0.0879468766\tred\n",
      "-0.9855928656, -0.0781346990\tred\n",
      "-0.1294489966,  0.4644468288\tblack\n",
      "-0.3221334500,  0.7334877378\tblack\n",
      "-0.8569857165,  0.0713670062\tred\n",
      " 0.1249423744, -0.3822960698\tred\n",
      " 0.1121388820,  0.9677186781\tblack\n",
      " 0.2142519290,  0.1575343189\tblack\n",
      "-0.1238453239, -0.9730039776\tred\n",
      " 0.9672875755, -0.2054640584\tblack\n",
      "-0.3047496171, -0.0462434236\tred\n",
      " 0.8299195115,  0.2335749744\tblack\n",
      "-0.1691802326, -0.4020058427\tred\n",
      " 0.0942292473,  0.3194388934\tblack\n",
      "-0.7932976352, -0.3717030656\tred\n",
      "-0.9496918410, -0.3060451947\tred\n",
      " 0.7582790988,  0.1900215052\tblack\n",
      "-0.3502354904, -0.1798510602\tred\n",
      "-0.6059773169, -0.1914918209\tred\n",
      " 0.4859414572,  0.5503110135\tblack\n",
      " 0.0957814040, -0.4012674335\tred\n",
      " 0.5251276169,  0.2281788720\tblack\n",
      " 0.1457967168, -0.3456653388\tred\n",
      "-0.0810526428, -0.2900894592\tred\n",
      " 0.4746946003, -0.7478755341\tblack\n",
      "-0.7000924396,  0.2968371895\tred\n",
      " 0.7723302487,  0.0050699645\tblack\n",
      " 0.1961323453, -0.2653816929\tblack\n",
      "-0.0812738933,  0.5545246176\tblack\n",
      " 0.9859704449, -0.0961718589\tblack\n",
      "-0.4699574732,  0.5252477185\tred\n",
      "-0.8385247297, -0.3970306861\tred\n",
      " 0.0296576553, -0.1410724597\tred\n",
      "-0.8846686697,  0.4575077184\tred\n",
      "-0.0883715609,  0.5633439370\tblack\n",
      " 0.0837686717, -0.7532477559\tred\n",
      "-0.5564623334, -0.6368504972\tred\n",
      "-0.1881922051,  0.9042130749\tblack\n",
      " 0.9427159392, -0.0968940964\tblack\n",
      " 0.0002166642, -0.5889911400\tred\n",
      " 0.6292520690, -0.2401663601\tblack\n",
      " 0.1216802692,  0.7606337392\tblack\n",
      "-0.3771151759, -0.0622170295\tred\n",
      "-0.8987258215,  0.1233279831\tred\n",
      "-0.1834106397,  0.6820362720\tblack\n",
      "-0.7471765532,  0.5093917041\tred\n",
      " 0.8561858523,  0.3273689967\tblack\n",
      "-0.4699307222,  0.2784148861\tred\n",
      " 0.7682885330, -0.1289682349\tblack\n",
      "-0.9828462490,  0.0661740952\tred\n",
      "-0.7674181465, -0.5782642345\tred\n",
      "-0.4126625346,  0.6612015972\tred\n",
      " 0.3472524407, -0.4873469215\tblack\n",
      " 0.4501464786,  0.0905442538\tblack\n",
      "-0.8561503335,  0.3409162975\tred\n",
      "-0.5594926561, -0.0531184637\tred\n",
      " 0.1892520091, -0.0351640745\tblack\n",
      "-0.9191885257, -0.0564776667\tred\n",
      " 0.1551762384, -0.3425140821\tred\n",
      " 0.0799056651, -0.9821686036\tred\n",
      "-0.3838449732,  0.1755884151\tred\n",
      " 0.5413203070,  0.5375990068\tblack\n",
      "-0.0332785752,  0.4814012665\tblack\n",
      " 0.4636589490, -0.7035493845\tblack\n",
      " 0.7155377566, -0.6691557678\tblack\n",
      "-0.1080251959,  0.2329574364\tblack\n",
      " 0.3338530994, -0.2983811163\tblack\n",
      "-0.8909170806, -0.4282545517\tred\n",
      " 0.5492726743,  0.6123092039\tblack\n",
      " 0.5762905556, -0.7846186360\tblack\n",
      "-0.5383948364, -0.1869981648\tred\n",
      " 0.5610609348, -0.5816022311\tblack\n"
     ]
    }
   ],
   "source": [
    "print_data()"
   ]
  },
  {
   "cell_type": "markdown",
   "id": "3c720216",
   "metadata": {
    "slideshow": {
     "slide_type": "subslide"
    }
   },
   "source": [
    "The machine seeks a transformation\n",
    "\n",
    "\\begin{align*}\n",
    "x' &= w_{11} x + w_{12} y \\\\\n",
    "y' &= w_{21} x + w_{22} y\n",
    "\\end{align*}\n",
    "\n",
    "such that\n",
    "\n",
    "\\begin{align*}\n",
    "x' > 0 &\\implies \\text{ `black'} \\\\\n",
    "x' \\le 0 &\\implies \\text{ `red'}\n",
    "\\end{align*}\n",
    "\n",
    "$w_{11}$, $w_{12}$, $w_{21}$, and $w_{22}$ are adjustable parameters. They specify a particular linear transformation. \n",
    "\n",
    "After that, all point with a positive x will be black, the rest red."
   ]
  },
  {
   "cell_type": "markdown",
   "id": "c80fe38c",
   "metadata": {
    "slideshow": {
     "slide_type": "subslide"
    }
   },
   "source": [
    "The machine starts with **random** parameter values.\n",
    "\n",
    "The machine makes attempts (**guesses**), and the parameters are tweaked iteratively.\n",
    "\n",
    "Trials are informed by the error (the **loss**)."
   ]
  },
  {
   "cell_type": "markdown",
   "id": "10d7cfbe-e303-44de-956c-18d2aa645f0c",
   "metadata": {
    "slideshow": {
     "slide_type": "subslide"
    }
   },
   "source": [
    "After much hunting, the machine discovers that\n",
    "\n",
    "\\begin{align*}\n",
    "w_{11} &= 0.8944271909999159 \\\\\n",
    "w_{12} &= 0.447213595499958 \\\\\n",
    "w_{21} &= -0.447213595499958 \\\\\n",
    "w_{22} &= 0.8944271909999159\n",
    "\\end{align*}\n",
    "\n",
    "enable a correct prediction $x' > 0 \\implies \\text{`black'}$, otherwise $\\text{`red'}$ for the given data points."
   ]
  },
  {
   "cell_type": "code",
   "execution_count": 25,
   "id": "a36312f0-1fe8-4f5a-af89-8150228ab573",
   "metadata": {
    "slideshow": {
     "slide_type": "skip"
    }
   },
   "outputs": [],
   "source": [
    "p_black = np.column_stack((x_black, y_black))\n",
    "p_red = np.column_stack((x_red, y_red))\n",
    "\n",
    "import math\n",
    "theta = math.atan(1/slope)\n",
    "\n",
    "A = np.array(\n",
    "    [[np.cos(theta), -np.sin(theta)],\n",
    "     [np.sin(theta), np.cos(theta)]]\n",
    ")\n",
    "p_black_rot = np.dot(p_black, A.T)\n",
    "p_red_rot = np.dot(p_red, A.T)"
   ]
  },
  {
   "cell_type": "code",
   "execution_count": 26,
   "id": "c73fad1b-8159-4c7c-ad18-48bf7cfab351",
   "metadata": {
    "slideshow": {
     "slide_type": "skip"
    }
   },
   "outputs": [],
   "source": [
    "def plot_rotated():\n",
    "    \n",
    "    plt.axes().set_aspect('equal')\n",
    "    plt.plot(p_black_rot[:, 0], p_black_rot[:, 1], 'ko')\n",
    "    plt.plot(p_red_rot[:, 0], p_red_rot[:, 1], 'ro')\n",
    "\n",
    "    u = np.linspace(-1, 1, 100)\n",
    "    v = np.zeros(100)\n",
    "\n",
    "    plt.plot(u, v, 'b')\n",
    "    plt.plot(v, u, 'b')\n",
    "    plt.show()"
   ]
  },
  {
   "cell_type": "markdown",
   "id": "45d630b5",
   "metadata": {
    "slideshow": {
     "slide_type": "subslide"
    }
   },
   "source": [
    "A visual representation of the data provides immediate human understanding. But machines do not have visual cortices (yet)!"
   ]
  },
  {
   "cell_type": "code",
   "execution_count": 27,
   "id": "66117113-7b26-4e49-af65-1406effc0c3d",
   "metadata": {
    "slideshow": {
     "slide_type": "fragment"
    }
   },
   "outputs": [
    {
     "data": {
      "image/png": "[encoded data removed]",
      "text/plain": [
       "<Figure size 640x480 with 1 Axes>"
      ]
     },
     "metadata": {},
     "output_type": "display_data"
    }
   ],
   "source": [
    "plot_data()"
   ]
  },
  {
   "cell_type": "markdown",
   "id": "dc846c02-f24e-42da-894e-abee4661431e",
   "metadata": {
    "slideshow": {
     "slide_type": "skip"
    }
   },
   "source": [
    "Rotate points about $O$\n",
    "\n",
    "\\begin{equation*}\n",
    "\\begin{bmatrix}\n",
    "x' \\\\\n",
    "y'\n",
    "\\end{bmatrix} = \\begin{bmatrix}\n",
    "\\cos \\theta & -\\sin \\theta \\\\\n",
    "\\sin \\theta & \\cos \\theta\n",
    "\\end{bmatrix}\n",
    "\\begin{bmatrix}\n",
    "x \\\\\n",
    "y\n",
    "\\end{bmatrix}\n",
    "\\end{equation*}"
   ]
  },
  {
   "cell_type": "code",
   "execution_count": 28,
   "id": "e538169d-5481-4e5f-81db-6cda711b7ca8",
   "metadata": {
    "slideshow": {
     "slide_type": "subslide"
    }
   },
   "outputs": [
    {
     "data": {
      "image/png": "[encoded data removed]",
      "text/plain": [
       "<Figure size 640x480 with 1 Axes>"
      ]
     },
     "metadata": {},
     "output_type": "display_data"
    }
   ],
   "source": [
    "plot_rotated() # after applying the transformation!"
   ]
  },
  {
   "cell_type": "markdown",
   "id": "affa7aba-2874-4c3f-a3f5-fc26e1d15fb7",
   "metadata": {
    "slideshow": {
     "slide_type": "fragment"
    }
   },
   "source": [
    "The machine has discovered that data merely needs to be rotated."
   ]
  },
  {
   "cell_type": "markdown",
   "id": "6d130439-4e7c-4855-9fd8-fbc4f41fb8b6",
   "metadata": {
    "slideshow": {
     "slide_type": "skip"
    }
   },
   "source": [
    "The data points are separated by a line\n",
    "\n",
    "\\begin{align*}\n",
    "2x + y > 0 &\\implies \\text{ black} \\\\\n",
    "2x + y \\le 0 &\\implies \\text{ red}\n",
    "\\end{align*}"
   ]
  },
  {
   "cell_type": "code",
   "execution_count": 29,
   "id": "caff7c22-497d-4077-8d74-842741ed836b",
   "metadata": {
    "slideshow": {
     "slide_type": "skip"
    }
   },
   "outputs": [],
   "source": [
    "def plot_line():\n",
    "    \n",
    "    plt.axes().set_aspect('equal')\n",
    "    plt.plot(x_black, y_black, 'ko')\n",
    "    plt.plot(x_red, y_red, 'ro')\n",
    "\n",
    "    u = np.linspace(-1, 1, 100)\n",
    "    v = np.zeros(100)\n",
    "    w = np.linspace(-1/slope, 1/slope, 100)  \n",
    "    \n",
    "    plt.plot(u, v, 'b')\n",
    "    plt.plot(v, u, 'b')\n",
    "    plt.plot(w, f(w), 'g')\n",
    "    plt.show() "
   ]
  },
  {
   "cell_type": "code",
   "execution_count": 30,
   "id": "158e3894-3110-4e79-b807-c564429ef16c",
   "metadata": {
    "slideshow": {
     "slide_type": "skip"
    }
   },
   "outputs": [
    {
     "data": {
      "image/png": "[encoded data removed]",
      "text/plain": [
       "<Figure size 640x480 with 1 Axes>"
      ]
     },
     "metadata": {},
     "output_type": "display_data"
    }
   ],
   "source": [
    "plot_line()"
   ]
  },
  {
   "cell_type": "markdown",
   "id": "38b47bcc",
   "metadata": {
    "slideshow": {
     "slide_type": "subslide"
    }
   },
   "source": [
    "Learning is the automatic search for **meaningful representations**.\n",
    "\n",
    "In our example, we start in the 2D space, and we end up in a space of two elements, 'red' and 'black', and we want our points to land on the right label!\n",
    "\n",
    "Possible transformations include:\n",
    "\n",
    "- rotations,\n",
    "\n",
    "- translations,\n",
    "\n",
    "- linear projections,\n",
    "\n",
    "- and nonlinear operations such as select all points with $x > 0$..."
   ]
  },
  {
   "cell_type": "code",
   "execution_count": 15,
   "id": "6ead9dcf-b8d7-41e4-9b5c-ab47fa828269",
   "metadata": {
    "slideshow": {
     "slide_type": "skip"
    }
   },
   "outputs": [],
   "source": [
    "def print_transformed():\n",
    "    for i in range(len(x)):\n",
    "        x_trans = np.cos(theta) * x[i] - np.sin(theta) * y[i]\n",
    "        y_trans = np.sin(theta) * x[i] + np.cos(theta) * y[i]\n",
    "        label = 'black' if x_trans > 0 else 'red'\n",
    "        print(f'{x_trans: 12.10f}', ', ', f'{y_trans: 12.10f}', '\\t', label,  sep='')"
   ]
  },
  {
   "cell_type": "code",
   "execution_count": 16,
   "id": "2b2ce45b-c862-4c11-85e3-883ef25c0224",
   "metadata": {
    "slideshow": {
     "slide_type": "subslide"
    }
   },
   "outputs": [
    {
     "name": "stdout",
     "output_type": "stream",
     "text": [
      "-0.2486214713, -0.2225114039\tred\n",
      "-0.7876588441, -0.4844113302\tred\n",
      " 0.5267296489, -0.4003753015\tblack\n",
      " 0.2101868120,  0.4950349404\tblack\n",
      "-0.9532343750, -0.2279408798\tred\n",
      "-0.1340421522, -0.5850309383\tred\n",
      "-0.6768993349,  0.1913591206\tred\n",
      "-0.9387456758,  0.2704943671\tred\n",
      " 0.0554664545,  0.7967570759\tblack\n",
      " 0.4840608282,  0.2957784434\tblack\n",
      " 0.1970506995, -0.6977758408\tblack\n",
      "-0.4305244881, -0.1752504348\tred\n",
      " 0.9148244936,  0.1915650683\tblack\n",
      " 0.5903484179,  0.0523788827\tblack\n",
      "-0.8187627758,  0.5235781524\tred\n",
      " 0.5161441139,  0.5163281383\tblack\n",
      " 0.3010661316, -0.2552036448\tblack\n",
      "-0.4472234106, -0.5872340324\tred\n",
      "-0.9016969035,  0.2939537650\tred\n",
      " 0.1596169575,  0.0538832560\tblack\n",
      "-0.0495123406,  0.2112452689\tred\n",
      "-0.6925415235, -0.4607075695\tred\n",
      "-0.9153126538,  0.3988225474\tred\n",
      "-0.0997304112, -0.3564883729\tred\n",
      "-0.5748986644,  0.2915713381\tred\n",
      " 0.0219951876, -0.6920115430\tblack\n",
      "-0.3507931612,  0.3589887999\tred\n",
      "-0.5338515207,  0.7284797158\tred\n",
      "-0.2203722369,  0.8688859378\tred\n",
      " 0.5212935194,  0.7307771032\tblack\n",
      " 0.3839902882, -0.8354252244\tblack\n",
      "-0.3967567478,  0.7130651773\tred\n",
      "-0.5790746948, -0.0077617015\tred\n",
      " 0.6733197801, -0.2614978859\tblack\n",
      "-0.3075946528,  0.6040098407\tred\n",
      "-0.3553731878,  0.4013525394\tred\n",
      " 0.5141310551,  0.7713233257\tblack\n",
      "-0.3093258668,  0.3236623031\tred\n",
      "-0.3551370192, -0.7554096965\tred\n",
      " 0.3735389656, -0.8698000348\tblack\n",
      "-0.5460921633,  0.7968796665\tred\n",
      " 0.4329746346, -0.5092703504\tblack\n",
      " 0.9187430809, -0.3852730024\tblack\n",
      " 0.7940954392,  0.2517118609\tblack\n",
      " 0.2149758979, -0.1052588385\tblack\n",
      "-0.2194550176,  0.7269029981\tred\n",
      "-0.9564893143,  0.0538603829\tred\n",
      "-0.8657700647,  0.3422213914\tred\n",
      "-0.2465608932,  0.8607116380\tred\n",
      " 0.4572711923, -0.3923468195\tblack\n",
      " 0.7291536526,  0.3765906609\tblack\n",
      " 0.5848362682, -0.6666552918\tblack\n",
      "-0.8844833337, -0.3932894107\tred\n",
      "-0.5978229394,  0.5539830701\tred\n",
      "-0.4744234056,  0.3476130221\tred\n",
      "-0.4211941179,  0.4444280110\tred\n",
      "-0.9767704947, -0.0360939132\tred\n",
      "-0.8956610947,  0.4444462895\tred\n",
      "-0.1874094896,  0.9322596567\tred\n",
      "-0.4324036473,  0.4150468219\tred\n",
      "-0.5849945168, -0.0752917933\tred\n",
      "-0.0727630796,  0.0707305041\tred\n",
      " 0.4238129517, -0.8323293860\tblack\n",
      "-0.1679097849, -0.5341532902\tred\n",
      " 0.8410181940, -0.4165252087\tblack\n",
      "-0.1144498837,  0.9245367328\tred\n",
      " 0.8767296347, -0.4523986364\tblack\n",
      "-0.2834735876,  0.2094630080\tred\n",
      "-0.1591505728,  0.3133551448\tred\n",
      " 0.5231622403,  0.2430605612\tblack\n",
      " 0.6465002033,  0.0091135085\tblack\n",
      " 0.4277819114,  0.8692493082\tblack\n",
      " 0.9138010451,  0.0763933115\tblack\n",
      " 0.6689720182,  0.0362298752\tblack\n",
      "-0.5392833287, -0.6277400479\tred\n",
      "-0.2710590523,  0.2586133468\tred\n",
      "-0.7165469048,  0.5123445691\tred\n",
      "-0.3032995080, -0.0434699527\tred\n",
      " 0.2137081234, -0.2033249535\tblack\n",
      "-0.8585488819,  0.3736548357\tred\n",
      "-0.8291207387, -0.4988473585\tred\n",
      "-0.9664139044, -0.1589654104\tred\n",
      "-0.8517972411,  0.3837893305\tred\n",
      " 0.0547735132, -0.4448969030\tblack\n",
      "-0.8240735898,  0.5161528843\tred\n",
      "-0.6390155468, -0.6025344644\tred\n",
      " 0.6321876147, -0.5481753344\tblack\n",
      "-0.8802058927,  0.4730468316\tred\n",
      "-0.5548743409,  0.0417805069\tred\n",
      " 0.7517999582, -0.0008279211\tblack\n",
      "-0.7369091216,  0.0957963829\tred\n",
      "-0.6352021081, -0.5318950835\tred\n",
      "-0.4739270821,  0.7727152799\tred\n",
      "-0.3224825363, -0.1374696306\tred\n",
      " 0.9509627878,  0.0657303226\tblack\n",
      "-0.0480054096,  0.0725598769\tred\n",
      " 0.8265112577, -0.4164268081\tblack\n",
      "-0.3066458919,  0.3168461943\tred\n",
      "-0.5666952457, -0.7753464338\tred\n",
      " 0.8475440137, -0.0313181652\tblack\n"
     ]
    }
   ],
   "source": [
    "print_transformed() # now the first coordinate tells you what the label will be!"
   ]
  },
  {
   "cell_type": "markdown",
   "id": "0982778c",
   "metadata": {
    "slideshow": {
     "slide_type": "subslide"
    }
   },
   "source": [
    "The machine searches through a set of predefined operations (e.g. linear transformations).\n",
    "\n",
    "It is guided by a feedback **signal** (information about our data, embedded in our **loss**) that depends on the mismatch between expectation and output.\n",
    "\n",
    "This is machine learning.\n",
    "\n",
    "But what is the deep in deep learning, and where are the neural networks?"
   ]
  },
  {
   "cell_type": "markdown",
   "id": "8f46abde-219c-4fe7-86bb-8e7afea0a11a",
   "metadata": {
    "slideshow": {
     "slide_type": "slide"
    }
   },
   "source": [
    "---\n",
    "\n",
    "# 1.1.4 The \"deep\" in \"deep learning\"\n",
    "\n",
    "The previous data (red/black vectors) was processed with a linear transformation – a **rotation** – and then a **nonlinear projection** – select points with positive x.\n",
    "\n",
    "In more complex models, each transformation (input → function → output) is performed by a **layer**.\n",
    "\n",
    "The model **depth** is simply the number of layers.\n",
    "\n",
    "Models with three or more layers are **deep** (otherwise they are **shallow**)."
   ]
  },
  {
   "cell_type": "markdown",
   "id": "166440cc-007c-45ad-82e4-91dd34ebf8b6",
   "metadata": {
    "slideshow": {
     "slide_type": "subslide"
    }
   },
   "source": [
    "Deep models are almost invariably **neural networks**.\n",
    "\n",
    "Although neural networks were developed by analogy to the function of the brain, they do not emulate brain function.\n",
    "\n",
    "They do not *think* or *learn* like brains do.\n",
    "\n",
    "A neural network is a stacked sequence of *computational layers*."
   ]
  },
  {
   "cell_type": "markdown",
   "id": "a4e20c39",
   "metadata": {
    "slideshow": {
     "slide_type": "subslide"
    }
   },
   "source": [
    "Example: mastering flight, imitating birds or building planes?\n",
    "\n",
    "<!-- ![Birds vs planes](images/birds-planes.png) -->\n",
    "<img src=\"https://raw.githubusercontent.com/jchwenger/AI/main/1-neural-networks-and-deep-learning/images/birds-planes.png\">\n",
    "\n",
    "<small>A [Red-shouldered hawk taking flight at Green Cay Wetlands, Florida (Wikipedia)](https://en.wikipedia.org/wiki/Red-shouldered_hawk#/media/File:Red-shouldered_hawk_taking_flight.JPG)</small>  \n",
    "<small>The [Biot-Massia plane, 1883 (Aviation and Heritage)](https://aviationandheritage.weebly.com/biot-massia.html)</small>  \n",
    "<small>An [All Nippon Airways Boeing 777-300ER taking off from New York JFK Airport (Wikipedia)](https://en.wikipedia.org/wiki/Airplane#/media/File:ANA_777-300_Taking_off_from_JFK.jpg)</small>"
   ]
  },
  {
   "cell_type": "markdown",
   "id": "fcf7c3e2",
   "metadata": {
    "slideshow": {
     "slide_type": "subslide"
    }
   },
   "source": [
    "Note: a hundred years or so after the first planes we can fly faster and farther than most birds, but can we say we **mastered** flight?\n",
    "\n",
    "Are we anywhere near making artificial versions of these? (Perhaps drones, yes, but that came a long time after 1783, the first manned flight in history...)\n",
    "\n",
    "\n",
    "<!-- <img src=\"images/hummingbird.gif\" style=\"height: 350px; display: inline-block;\"> -->\n",
    "<!-- <img src=\"images/gannet.gif\" style=\"height: 350px; display: inline-block;\"> -->\n",
    "<!-- <img src=\"images/kestrel.gif\" style=\"height: 350px; display: inline-block;\"> -->\n",
    "\n",
    "<img src=\"https://raw.githubusercontent.com/jchwenger/AI/main/1-neural-networks-and-deep-learning/images/hummingbird.gif\" style=\"height: 350px; display: inline-block;\">\n",
    "<img src=\"https://raw.githubusercontent.com/jchwenger/AI/main/1-neural-networks-and-deep-learning/images/gannet.gif\" style=\"height: 350px; display: inline-block;\">\n",
    "<img src=\"https://raw.githubusercontent.com/jchwenger/AI/main/1-neural-networks-and-deep-learning/images/kestrel.gif\" style=\"height: 350px; display: inline-block;\">\n",
    "\n",
    "<small><a href=\"https://fyfluiddynamics.com/2017/07/hummingbirds-are-incredible-acrobatic-fliers/\">Nicole Sharp, \"How Hummingbirds Drink\"</a></small>  \n",
    "<small><a href=\"https://giphy.com/gifs/bbcamerica-nature-bbc-america-natures-great-events-W5xAJGqkf8OokMIwFW\">Gannet dive, BBC America? (on Giphy)</a></small>  \n",
    "<small><a href=\"https://imgur.com/gallery/s04Oxcw\">Hovering kestrel (imgur)</a></small>"
   ]
  },
  {
   "cell_type": "markdown",
   "id": "bc3916ba",
   "metadata": {
    "slideshow": {
     "slide_type": "subslide"
    }
   },
   "source": [
    "<!-- <img  style=\"height: 600px;\" src=\"images/stanford.neuron.brain.png\"> -->\n",
    "<img style=\"height: 600px;\"  src=\"https://raw.githubusercontent.com/jchwenger/AI/main/1-neural-networks-and-deep-learning/images/stanford.neuron.brain.png\">\n",
    "\n",
    "<small>Source: [CS231n: Convolutional Neural Networks for Visual Recognition](http://cs231n.stanford.edu/2017/syllabus.html), lecture 4</small>"
   ]
  },
  {
   "cell_type": "markdown",
   "id": "65590fd1",
   "metadata": {
    "slideshow": {
     "slide_type": "fragment"
    }
   },
   "source": [
    "The study of the similarities/differences between the two is a **booming** area of research!"
   ]
  },
  {
   "cell_type": "markdown",
   "id": "170ae43a-19b8-4dc6-923d-7f126e7dd85f",
   "metadata": {
    "slideshow": {
     "slide_type": "slide"
    }
   },
   "source": [
    "---\n",
    "\n",
    "# 1.1.5 Understanding how deep learning works, in three figures\n",
    "\n",
    "The layer transformation is governed by a number of adjustable parameters.\n",
    "\n",
    "The **weights** and **biases**.\n",
    "\n",
    "\n",
    "\\begin{align*}\n",
    "&\\bf{wx + b}\\\\\n",
    "&w:\\ weights\\\\\n",
    "&b:\\ bias\\\\\n",
    "&x:\\ input\n",
    "\\end{align*}"
   ]
  },
  {
   "cell_type": "markdown",
   "id": "32219df1",
   "metadata": {
    "slideshow": {
     "slide_type": "subslide"
    }
   },
   "source": [
    "Something like *knobs* you can tweak on a big machine.\n",
    "\n",
    "<!-- <img style=\"height: 600px; float:right\" src=\"images/marlyn-wescoff-and-ruth-lichterman-were-two-of-the-female-programmers-of-eniac.webp\"> -->\n",
    "<img style=\"height: 600px; float:right\" src=\"https://raw.githubusercontent.com/jchwenger/AI/main/1-neural-networks-and-deep-learning/images/marlyn-wescoff-and-ruth-lichterman-were-two-of-the-female-programmers-of-eniac.webp\">\n",
    "\n",
    "<small style=\"position:absolute; bottom:0; right:0\">Source: [Oscar Schwartz, *Untold History of AI: Invisible Women Programmed America's First Electronic Computer*, Wired](https://spectrum.ieee.org/untold-history-of-ai-invisible-woman-programmed-americas-first-electronic-computer)</small>"
   ]
  },
  {
   "cell_type": "markdown",
   "id": "8e863f26-9e20-4e67-9f97-016a11dc459a",
   "metadata": {
    "slideshow": {
     "slide_type": "subslide"
    }
   },
   "source": [
    "\\begin{align*}\n",
    "x' &= w_{11} x + w_{12} y \\\\\n",
    "y' &= w_{21} x + w_{22} y\n",
    "\\end{align*}\n",
    "\n",
    "Before, in the red/black example, the first layer had four parameters – four *knobs* – the $w$’s."
   ]
  },
  {
   "cell_type": "markdown",
   "id": "21ecfc8e",
   "metadata": {
    "slideshow": {
     "slide_type": "subslide"
    }
   },
   "source": [
    "Neural networks are a sequence of simple data transformations:\n",
    "\n",
    "- parameterised by **weights** and **biases**:\n",
    "\n",
    "$$wx + b$$\n",
    "\n",
    "- also, and that's important, a **nonlinearity** (confusing but standard notation: $\\sigma$ is _not_ the standard deviation!, but a nonlinear function):\n",
    "\n",
    "$$\\sigma(w x + b)$$\n",
    "\n",
    "- the whole system maps inputs (**samples**) to outputs (**predictions**)."
   ]
  },
  {
   "cell_type": "markdown",
   "id": "ac8c4ccb",
   "metadata": {
    "slideshow": {
     "slide_type": "subslide"
    }
   },
   "source": [
    "In a first stage, we feed the network some data, and it makes predictions.\n",
    "\n",
    "It maps **inputs** (data) to **outputs** (predictions).\n",
    "\n",
    "The data is gradually transformed by the layers."
   ]
  },
  {
   "cell_type": "markdown",
   "id": "bf17c035",
   "metadata": {
    "slideshow": {
     "slide_type": "subslide"
    }
   },
   "source": [
    "#### Figure 1\n",
    "\n",
    "<!-- ![Chollet, three figures 1](images/understanding/chollet.three-figures.1.png) -->\n",
    "<img style=\"\" src=\"https://raw.githubusercontent.com/jchwenger/AI/main/1-neural-networks-and-deep-learning/images/understanding/chollet.three-figures.1.png\">\n",
    "\n",
    "DLWP, p.9"
   ]
  },
  {
   "cell_type": "markdown",
   "id": "39559bdf",
   "metadata": {
    "slideshow": {
     "slide_type": "subslide"
    }
   },
   "source": [
    "Network performance is evaluated with a **loss function** that compares prediction to target.\n",
    "\n",
    "The loss has to be **low** (ideally zero) for a perfect match (prediction = target) and otherwise **positive**.\n",
    "\n",
    "We'll talk about mathematical constraints later."
   ]
  },
  {
   "cell_type": "markdown",
   "id": "7bff3658",
   "metadata": {
    "slideshow": {
     "slide_type": "subslide"
    }
   },
   "source": [
    "#### Figure 2\n",
    "\n",
    "<!-- ![Chollet, three figures 2](images/understanding/chollet.three-figures.2.png) -->\n",
    "<img style=\"\" src=\"https://raw.githubusercontent.com/jchwenger/AI/main/1-neural-networks-and-deep-learning/images/understanding/chollet.three-figures.2.png\">\n",
    "\n",
    "<small>DLWP, p.9</small>"
   ]
  },
  {
   "cell_type": "markdown",
   "id": "1491cf59",
   "metadata": {
    "slideshow": {
     "slide_type": "subslide"
    }
   },
   "source": [
    "Weights and biases are initially set at **random values** and the loss is likely to be very high.\n",
    "\n",
    "The optimiser (there many variants) makes small changes to the weights and biases in order to **minimise the loss**.\n",
    "\n",
    "The loss slowly drops over many training loops and the network becomes a better predictor.\n",
    "\n",
    "The optimiser advantageously implements a layer-by-layer backwards correction mechanism know as **backpropagation**."
   ]
  },
  {
   "cell_type": "markdown",
   "id": "7a6e2afd",
   "metadata": {
    "slideshow": {
     "slide_type": "subslide"
    }
   },
   "source": [
    "Samples are fed forward through the network, losses calculated, and parameter values are tweaked to **minimize the loss**.\n",
    "\n",
    "The entire data set is processed **over many training loops** until the loss is small and our network a good predictor.\n",
    "\n",
    "The network is then **tested on unseen data**."
   ]
  },
  {
   "cell_type": "markdown",
   "id": "04cddf1e",
   "metadata": {
    "slideshow": {
     "slide_type": "subslide"
    }
   },
   "source": [
    "#### Figure 3\n",
    "\n",
    "<!-- ![Chollet, three figures 3](images/understanding/chollet.three-figures.3.png) -->\n",
    "<img style=\"\" src=\"https://raw.githubusercontent.com/jchwenger/AI/main/1-neural-networks-and-deep-learning/images/understanding/chollet.three-figures.2.png\">\n",
    "\n",
    "<small>DLWP, p.10</small>"
   ]
  },
  {
   "cell_type": "markdown",
   "id": "8eaabb2b",
   "metadata": {
    "slideshow": {
     "slide_type": "subslide"
    }
   },
   "source": [
    "I personally find that the *best* intro to neural networks out there is by [Grant Sanderson](https://www.3blue1brown.com/about).\n",
    "\n",
    "I learnt this subject starting with this, and I think you'd really enjoy this too!"
   ]
  },
  {
   "cell_type": "code",
   "execution_count": 35,
   "id": "a7ed21a2",
   "metadata": {
    "slideshow": {
     "slide_type": "subslide"
    }
   },
   "outputs": [
    {
     "data": {
      "image/jpeg": "[encoded data removed]",
      "text/html": [
       "\n",
       "        <iframe\n",
       "            width=\"853\"\n",
       "            height=\"480\"\n",
       "            src=\"https://www.youtube.com/embed/aircAruvnKk\"\n",
       "            frameborder=\"0\"\n",
       "            allowfullscreen\n",
       "            \n",
       "        ></iframe>\n",
       "        "
      ],
      "text/plain": [
       "<IPython.lib.display.YouTubeVideo at 0x10b097e30>"
      ]
     },
     "execution_count": 35,
     "metadata": {},
     "output_type": "execute_result"
    }
   ],
   "source": [
    "YouTubeVideo('aircAruvnKk', width=853, height=480) # 3Blue1Brown 1, until 16'"
   ]
  },
  {
   "cell_type": "markdown",
   "id": "8033e1d9",
   "metadata": {
    "slideshow": {
     "slide_type": "slide"
    }
   },
   "source": [
    "---\n",
    "\n",
    "# 1.2-1.2.6 A brief history of machine learning\n",
    "\n",
    "A short history of AI:\n",
    "\n",
    "- 1960s: symbolic AI\n",
    "\n",
    "- 1970s: AI winter (after the Lighthill report), people lost faith, funding dried up\n",
    "\n",
    "- 1980s: expert systems, a revival, but no deep learning\n",
    "\n",
    "- 1990s: a second winter, kernel methods (Support Vector Machines)\n",
    "\n",
    "- 2010s: deep learning\n",
    "\n",
    "- 2020s: ?"
   ]
  },
  {
   "cell_type": "markdown",
   "id": "109ababe",
   "metadata": {
    "slideshow": {
     "slide_type": "subslide"
    }
   },
   "source": [
    "Reasons to doubt a third winter:\n",
    "\n",
    "- many DL developments await deployment;\n",
    "\n",
    "- continued diffusion into everyday life even if research stalls;\n",
    "\n",
    "- many new applications: assisting human scientists, climatology, drug discovery...\n",
    "\n",
    "However, one thing that *could* lead to an AI winter would be if suddenly we reached a limit in performance improvement with bigger models, which has been the fuel of the current boom..."
   ]
  },
  {
   "cell_type": "markdown",
   "id": "2bf1daa6",
   "metadata": {
    "slideshow": {
     "slide_type": "slide"
    }
   },
   "source": [
    "---\n",
    "\n",
    "# 1.1.6-1.1.8 Achievements, hype, promise\n",
    "\n",
    "Deep learning has been in the ascendant since the early 2010s.\n",
    "\n",
    "The breakthrough was driven by big data, GPU technology and improved algorithms.\n",
    "\n",
    "It solves some problems that machines have previously found very difficult and out of reach.\n",
    "\n",
    "It also poses new problems as well, in terms of ethics and understanding its risks."
   ]
  },
  {
   "cell_type": "markdown",
   "id": "d24fce1d",
   "metadata": {
    "editable": true,
    "slideshow": {
     "slide_type": "subslide"
    },
    "tags": []
   },
   "source": [
    "### Human level (or above)\n",
    "\n",
    "- image classification;\n",
    "- speech recognition;\n",
    "- handwriting transcription;\n",
    "- playing games (chess, Go, Atari, StarCraft)."
   ]
  },
  {
   "cell_type": "markdown",
   "id": "299fc975",
   "metadata": {
    "slideshow": {
     "slide_type": "subslide"
    }
   },
   "source": [
    "### Improved\n",
    "\n",
    "- machine translation (still very difficult for less represented languages);\n",
    "- text-to-speech and speech-to-text;\n",
    "- ad targeting & recommendation systems (Facebook, Instagram, TikTok);\n",
    "- search results;\n",
    "- digital assistants (Alexa, Siri, etc.);\n",
    "- autonomous driving."
   ]
  },
  {
   "cell_type": "markdown",
   "id": "cd6f4bb4-f91c-47b1-8f20-a21d1bdea01f",
   "metadata": {
    "editable": true,
    "slideshow": {
     "slide_type": "subslide"
    },
    "tags": []
   },
   "source": [
    "### Breakthroughs\n",
    "\n",
    "- Go, chess and other games (Atari 2013, AlphaGo 2016, AlphaStar 2019, ...);\n",
    "- medical diagnosis;\n",
    "- protein folding (AlphaFold 2018);\n",
    "- robotics;\n",
    "- writing text since GPT-2 in 2018, GPT-3 in 2020, GPT-4 in 2023, etc.;\n",
    "- sustained, coherent dialogue with ChatGPT;\n",
    "- image, text-to-image generation (GANs 2014, VAE 2014, DALL-E & CLIP 2021, DALL-E 2 2022, DALL-E 3 2023, diffusion boom **now**);\n",
    "- video, text-to-video generation in 2024 (Sora, FLUX by BlackForest Labs, Stable Video, etc.)"
   ]
  },
  {
   "cell_type": "markdown",
   "id": "2bb87f02",
   "metadata": {
    "slideshow": {
     "slide_type": "subslide"
    }
   },
   "source": [
    "### Still out of reach\n",
    "\n",
    "- human-level translation across several languages, *especially* low-resource ones;\n",
    "- complete natural language understanding, reasoning and inference;\n",
    "- autonomous driving;\n",
    "- human sample efficiency (current amounts of data needed to learn are huge)\n",
    "- full multi-modal integration (tasks across vision, hearing, language, robotics); \n",
    "- transfer learning, *general intelligence* (ability to learn and perform many different tasks);"
   ]
  },
  {
   "cell_type": "markdown",
   "id": "4a293270",
   "metadata": {
    "slideshow": {
     "slide_type": "slide"
    }
   },
   "source": [
    "---\n",
    "\n",
    "# 1.2.7 The modern landscape\n",
    "\n",
    "# Frameworks\n",
    "\n",
    "- ### [TensorFlow](tensorflow.org/) (Google, integrated Keras from version 2.0)\n",
    "- ### [PyTorch](https://pytorch.org/) (Meta)\n",
    "- ### [JAX](https://jax.readthedocs.io/en/latest/) (Google, research)\n",
    "- ### [ONNX](https://onnx.ai) (the rising 'Linux' for NNs?)\n",
    "\n",
    "Of note:\n",
    "\n",
    "- ### [Fast.ai](https://www.fast.ai/) (Independent course & library in PyTorch)\n",
    "- ### [Kaggle](https://www.kaggle.com/) (Platform for data competitions, many datasets available!)\n"
   ]
  },
  {
   "cell_type": "markdown",
   "id": "00f8e816",
   "metadata": {
    "slideshow": {
     "slide_type": "subslide"
    }
   },
   "source": [
    "Note:\n",
    "- TensorFlow originally aimed to be a functional approach. This didn't go super well.\n",
    "- PyTorch is Object Oriented.\n",
    "- Since TF 2.0, they moved to Object Oriented (PyTorch won).\n",
    "- Keras was in fact meant to be an Object Oriented framework, and a higher-level API, to simplify TF.\n",
    "- The field keeps moving, and now JAX is the pure functional approach (and people are writing Keras/PyTorch OO libraries on top of it).\n",
    "\n",
    "There are other frameworks, like CNTK, Theano, but they are not as popular."
   ]
  },
  {
   "cell_type": "markdown",
   "id": "195b63b3-d38e-43ca-ac1f-0e9fcdc234ea",
   "metadata": {
    "jp-MarkdownHeadingCollapsed": true,
    "slideshow": {
     "slide_type": "subslide"
    }
   },
   "source": [
    "# Recommended Experiment\n",
    "\n",
    "<!-- [<img style=\"height:750px\" src=\"images/tensorflow-playground.png\">](https://playground.tensorflow.org/#activation=tanh&batchSize=10&dataset=circle&regDataset=reg-plane&learningRate=0.03&regularizationRate=0&noise=0&networkShape=4,2&seed=0.38531&showTestData=false&discretize=false&percTrainData=50&x=true&y=true&xTimesY=false&xSquared=false&ySquared=false&cosX=false&sinX=false&cosY=false&sinY=false&collectStats=false&problem=classification&initZero=false&hideText=false) -->\n",
    "\n",
    "[<img style=\"height:750px\" src=\"https://raw.githubusercontent.com/jchwenger/AI/main/1-neural-networks-and-deep-learning/images/tensorflow-playground.png\">](https://playground.tensorflow.org/#activation=tanh&batchSize=10&dataset=circle&regDataset=reg-plane&learningRate=0.03&regularizationRate=0&noise=0&networkShape=4,2&seed=0.38531&showTestData=false&discretize=false&percTrainData=50&x=true&y=true&xTimesY=false&xSquared=false&ySquared=false&cosX=false&sinX=false&cosY=false&sinY=false&collectStats=false&problem=classification&initZero=false&hideText=false)"
   ]
  },
  {
   "cell_type": "markdown",
   "id": "98700734-7eeb-4564-aced-94b253c296ee",
   "metadata": {
    "slideshow": {
     "slide_type": "subslide"
    }
   },
   "source": [
    "# A note on learning\n",
    "\n",
    "I personally find that for mathematical/programming concepts, there is no avoiding _repetition/practice_ on top of understanding (in fact both help each other). For that, I highly recommend [Anki](https://ankiweb.net/about) (sadly the [iOS app](https://apps.apple.com/us/app/ankimobile-flashcards/id373493387) is ~20£, but [AnkiDroid](https://play.google.com/store/apps/details?id=com.ichi2.anki) for Android is free).\n",
    "\n",
    "Look at the [documentation](https://docs.ankiweb.net/) to learn more about creating cards.\n",
    "\n",
    "<!-- ![AnkiWeb screenshot](images/anki.png) -->\n",
    "![AnkiWeb screenshot](https://raw.githubusercontent.com/jchwenger/AI/main/1-neural-networks-and-deep-learning/images/anki.png)"
   ]
  }
 ],
 "metadata": {
  "accelerator": "GPU",
  "celltoolbar": "Slideshow",
  "colab": {
   "gpuType": "T4",
   "provenance": []
  },
  "kernelspec": {
   "display_name": "Python 3 (ipykernel)",
   "language": "python",
   "name": "python3"
  },
  "language_info": {
   "codemirror_mode": {
    "name": "ipython",
    "version": 3
   },
   "file_extension": ".py",
   "mimetype": "text/x-python",
   "name": "python",
   "nbconvert_exporter": "python",
   "pygments_lexer": "ipython3",
   "version": "3.12.6"
  }
 },
 "nbformat": 4,
 "nbformat_minor": 5
}
