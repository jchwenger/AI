{
 "cells": [
  {
   "cell_type": "markdown",
   "id": "f895dca7",
   "metadata": {
    "id": "f895dca7"
   },
   "source": [
    "# Attendance\n",
    "\n",
    "[The link to SEAts](https://gold.seats.cloud/angular/#/lectures)"
   ]
  },
  {
   "cell_type": "markdown",
   "id": "318fc839-a86f-43ed-9be2-bf5053ad44a9",
   "metadata": {
    "id": "8a6e7a28"
   },
   "source": [
    "---\n",
    "\n",
    "# 5. Fundamentals of machine learning"
   ]
  },
  {
   "cell_type": "markdown",
   "id": "b4df9d69-b92e-41dc-975c-0fd311817a6e",
   "metadata": {
    "id": "8a6e7a28",
    "jp-MarkdownHeadingCollapsed": true
   },
   "source": [
    "## 5.1 Generalisation: The goal of machine learning"
   ]
  },
  {
   "cell_type": "code",
   "execution_count": 1,
   "id": "00c656d6",
   "metadata": {
    "id": "00c656d6"
   },
   "outputs": [],
   "source": [
    "import os\n",
    "import numpy as np\n",
    "import tensorflow as tf\n",
    "\n",
    "import matplotlib.pyplot as plt\n",
    "\n",
    "from IPython.display import clear_output\n",
    "\n",
    "# we need more than the default 75 below\n",
    "np.set_printoptions(linewidth=100)\n",
    "\n",
    "plt.rcParams['lines.markersize'] = 3  # nice scatter point size\n",
    "\n",
    "os.environ['TF_CPP_MIN_LOG_LEVEL'] = '3' # mute some annoying warnings"
   ]
  },
  {
   "cell_type": "markdown",
   "id": "a992a2cb",
   "metadata": {
    "id": "a992a2cb"
   },
   "source": [
    "The fundamental tension of learning:\n",
    "- *Optimization*: fit **training** data as closely as possible;\n",
    "- *Generalisation*: perform on **unseen** data as best as possible.\n"
   ]
  },
  {
   "cell_type": "markdown",
   "id": "371f6614",
   "metadata": {
    "id": "371f6614"
   },
   "source": [
    "### Overfitting, *again*!\n"
   ]
  },
  {
   "cell_type": "markdown",
   "id": "6e164c5b-3cb7-47a0-82f1-c15ef2aacc3a",
   "metadata": {
    "id": "6e164c5b-3cb7-47a0-82f1-c15ef2aacc3a"
   },
   "source": [
    "<!-- ![Chollet canonical overfitting](images/chollet.canonical-overfitting.png) -->\n",
    "<img src=\"https://github.com/jchwenger/AI/blob/main/4-fundamentals/images/chollet.canonical-overfitting.png?raw=true\">\n",
    "\n",
    "<small>DLWP, p.122</small>"
   ]
  },
  {
   "cell_type": "markdown",
   "id": "4e9498f8",
   "metadata": {
    "id": "4e9498f8"
   },
   "source": [
    "If we think about this in abstract terms, if we want our model to generalise, it needs not to take into account **every single detail** in the training data.\n",
    "\n",
    "Because these are the things are that may not be present in unseen data.\n",
    "\n",
    "We want our model to produce **an abstract/underlying representation** of the data, not rote learn it."
   ]
  },
  {
   "cell_type": "markdown",
   "id": "c84aa88a",
   "metadata": {
    "id": "c84aa88a"
   },
   "source": [
    "<!-- ![Chollet outliers](images/chollet.overfitting-outliers.png) -->\n",
    "<img src=\"https://github.com/jchwenger/AI/blob/main/4-fundamentals/images/chollet.overfitting-outliers.png?raw=true\">\n",
    "\n",
    "\n",
    "<small>DLWP, p.124</small>"
   ]
  },
  {
   "cell_type": "markdown",
   "id": "7f592693",
   "metadata": {
    "id": "7f592693"
   },
   "source": [
    "The green line learns the underlying border between classes, discarding the fine-grained detail and noise in the area of uncertainty.\n",
    "\n",
    "<!-- ![Chollet ambiguous](images/chollet.overfitting-ambiguous.png) -->\n",
    "<img src=\"https://github.com/jchwenger/AI/blob/main/4-fundamentals/images/chollet.overfitting-ambiguous.png?raw=true\">\n",
    "\n",
    "<small>DLWP, p.124</small>"
   ]
  },
  {
   "cell_type": "markdown",
   "id": "a6cf21ca-ac99-4877-a4b0-09ecb76b3875",
   "metadata": {},
   "source": [
    "Have a look at the reference notebook for a coded example with polynomials!"
   ]
  },
  {
   "cell_type": "markdown",
   "id": "0debe854-8783-4bde-ac04-8d22795b78ba",
   "metadata": {
    "id": "2943ba68"
   },
   "source": [
    "### Noisy training data / Ambiguous features"
   ]
  },
  {
   "cell_type": "markdown",
   "id": "b1d681c8-1255-48b5-b5ca-81a6e55ab9ca",
   "metadata": {
    "id": "2943ba68"
   },
   "source": [
    "Datasets can contain errors.\n",
    "\n",
    "But also, data can be *intrinsically* ambiguous!\n",
    "\n",
    "For instance, sometimes a hand-written 7 can be really close to a 1!"
   ]
  },
  {
   "cell_type": "markdown",
   "id": "692eb167",
   "metadata": {
    "id": "692eb167"
   },
   "source": [
    "<!-- ![Chollet noisy data](images/chollet.noisy-data.png) -->\n",
    "<img src=\"https://github.com/jchwenger/AI/blob/main/4-fundamentals/images/chollet.noisy-data.png?raw=true\">\n",
    "\n",
    "\n",
    "<small>DLWP, p.123</small>"
   ]
  },
  {
   "cell_type": "markdown",
   "id": "4c940d14",
   "metadata": {
    "id": "4c940d14"
   },
   "source": [
    "<!-- ![Chollet mislabeled data](images/chollet.mislabeled-data.png) -->\n",
    "<img src=\"https://github.com/jchwenger/AI/blob/main/4-fundamentals/images/chollet.mislabeled-data.png?raw=true\">\n",
    "\n",
    "\n",
    "<small>DLWP, p.123</small>"
   ]
  },
  {
   "cell_type": "markdown",
   "id": "d7987109-62c7-49df-964f-6e19aa50231f",
   "metadata": {
    "id": "4c89f2fc"
   },
   "source": [
    "### Rare features and spurious correlations"
   ]
  },
  {
   "cell_type": "markdown",
   "id": "898bb83c-dad3-4a1f-b784-9418fe0b17fe",
   "metadata": {
    "id": "4c89f2fc"
   },
   "source": [
    "One other danger is to **think certain features are correlated when they are not**, you simply have never seen data that contradicts your assumption.\n",
    "\n",
    "*Example: you've known two orange tabby cats, they were antisocial. You think all orange tabby cats are, even if they are not.* DLWP, p.125.\n",
    "\n",
    "\n",
    "<a href=\"https://twitter.com/fchollet/status/1585640324948406275?t=8r0T5VGcy5RZ_xF1L6_5Xw&s=03\">\n",
    "<!--     <img style=\"float:right\" src=\"images/chollet.overfitting-ikea.png\"> -->\n",
    "    <img style=\"float:right\" src=\"https://github.com/jchwenger/AI/blob/main/4-fundamentals/images/chollet.overfitting-ikea.png?raw=true\">\n",
    "</a>"
   ]
  },
  {
   "cell_type": "markdown",
   "id": "369fb26d-ae5c-44ea-bfab-5adcd07bcb4f",
   "metadata": {},
   "source": [
    "### Experiment: adding noise to our training data"
   ]
  },
  {
   "cell_type": "markdown",
   "id": "2f491f52",
   "metadata": {
    "id": "2f491f52"
   },
   "source": [
    "As an experiment, we can add 784 noise dimension to MNIST images and see the result."
   ]
  },
  {
   "cell_type": "code",
   "execution_count": 2,
   "id": "8508639a",
   "metadata": {
    "id": "8508639a"
   },
   "outputs": [],
   "source": [
    "(train_images, train_labels), _ = tf.keras.datasets.mnist.load_data()\n",
    "train_images = train_images.reshape((60000, 28 * 28))\n",
    "train_images = train_images.astype(\"float32\") / 255\n",
    "\n",
    "train_images_with_noise_channels = np.concatenate(\n",
    "    [train_images, np.random.random((len(train_images), 784))], axis=1\n",
    ")                 # ↑ ADDING RANDOM FEATURES (same size as the samples)\n",
    "\n",
    "train_images_with_zeros_channels = np.concatenate(\n",
    "    [train_images, np.zeros((len(train_images), 784))], axis=1\n",
    ")                 # ↑ ADDING ZEROS (EMPTY) FEATURES (same size as the samples)"
   ]
  },
  {
   "cell_type": "code",
   "execution_count": 3,
   "id": "a940921e",
   "metadata": {
    "id": "a940921e"
   },
   "outputs": [],
   "source": [
    "def get_model(clear=True):\n",
    "    if clear:\n",
    "        tf.keras.backend.clear_session()\n",
    "    model = tf.keras.Sequential([\n",
    "        tf.keras.layers.Dense(512, activation=\"relu\"),\n",
    "        tf.keras.layers.Dense(10, activation=\"softmax\")\n",
    "    ])\n",
    "    model.compile(\n",
    "        optimizer=\"rmsprop\",\n",
    "        loss=\"sparse_categorical_crossentropy\",\n",
    "        metrics=[\"accuracy\"]\n",
    "    )\n",
    "    return model"
   ]
  },
  {
   "cell_type": "code",
   "execution_count": 4,
   "id": "331f553c",
   "metadata": {
    "colab": {
     "base_uri": "https://localhost:8080/"
    },
    "id": "331f553c",
    "outputId": "38956e9b-0729-4e6d-99c5-03f4a41f8cde"
   },
   "outputs": [
    {
     "name": "stdout",
     "output_type": "stream",
     "text": [
      "Epoch 1/10\n",
      "\u001b[1m375/375\u001b[0m \u001b[32m━━━━━━━━━━━━━━━━━━━━\u001b[0m\u001b[37m\u001b[0m \u001b[1m7s\u001b[0m 7ms/step - accuracy: 0.8596 - loss: 0.4849 - val_accuracy: 0.9553 - val_loss: 0.1565\n",
      "Epoch 2/10\n",
      "\u001b[1m375/375\u001b[0m \u001b[32m━━━━━━━━━━━━━━━━━━━━\u001b[0m\u001b[37m\u001b[0m \u001b[1m6s\u001b[0m 2ms/step - accuracy: 0.9605 - loss: 0.1335 - val_accuracy: 0.9698 - val_loss: 0.1092\n",
      "Epoch 3/10\n",
      "\u001b[1m375/375\u001b[0m \u001b[32m━━━━━━━━━━━━━━━━━━━━\u001b[0m\u001b[37m\u001b[0m \u001b[1m1s\u001b[0m 2ms/step - accuracy: 0.9749 - loss: 0.0827 - val_accuracy: 0.9712 - val_loss: 0.1005\n",
      "Epoch 4/10\n",
      "\u001b[1m375/375\u001b[0m \u001b[32m━━━━━━━━━━━━━━━━━━━━\u001b[0m\u001b[37m\u001b[0m \u001b[1m1s\u001b[0m 2ms/step - accuracy: 0.9829 - loss: 0.0581 - val_accuracy: 0.9754 - val_loss: 0.0831\n",
      "Epoch 5/10\n",
      "\u001b[1m375/375\u001b[0m \u001b[32m━━━━━━━━━━━━━━━━━━━━\u001b[0m\u001b[37m\u001b[0m \u001b[1m2s\u001b[0m 3ms/step - accuracy: 0.9874 - loss: 0.0430 - val_accuracy: 0.9763 - val_loss: 0.0798\n",
      "Epoch 6/10\n",
      "\u001b[1m375/375\u001b[0m \u001b[32m━━━━━━━━━━━━━━━━━━━━\u001b[0m\u001b[37m\u001b[0m \u001b[1m1s\u001b[0m 3ms/step - accuracy: 0.9912 - loss: 0.0313 - val_accuracy: 0.9793 - val_loss: 0.0747\n",
      "Epoch 7/10\n",
      "\u001b[1m375/375\u001b[0m \u001b[32m━━━━━━━━━━━━━━━━━━━━\u001b[0m\u001b[37m\u001b[0m \u001b[1m1s\u001b[0m 3ms/step - accuracy: 0.9935 - loss: 0.0221 - val_accuracy: 0.9779 - val_loss: 0.0768\n",
      "Epoch 8/10\n",
      "\u001b[1m375/375\u001b[0m \u001b[32m━━━━━━━━━━━━━━━━━━━━\u001b[0m\u001b[37m\u001b[0m \u001b[1m1s\u001b[0m 2ms/step - accuracy: 0.9957 - loss: 0.0164 - val_accuracy: 0.9774 - val_loss: 0.0789\n",
      "Epoch 9/10\n",
      "\u001b[1m375/375\u001b[0m \u001b[32m━━━━━━━━━━━━━━━━━━━━\u001b[0m\u001b[37m\u001b[0m \u001b[1m1s\u001b[0m 2ms/step - accuracy: 0.9970 - loss: 0.0125 - val_accuracy: 0.9783 - val_loss: 0.0747\n",
      "Epoch 10/10\n",
      "\u001b[1m375/375\u001b[0m \u001b[32m━━━━━━━━━━━━━━━━━━━━\u001b[0m\u001b[37m\u001b[0m \u001b[1m1s\u001b[0m 2ms/step - accuracy: 0.9978 - loss: 0.0098 - val_accuracy: 0.9806 - val_loss: 0.0717\n"
     ]
    }
   ],
   "source": [
    "# training original dataset\n",
    "model = get_model()\n",
    "history_orig = model.fit(\n",
    "    train_images,\n",
    "    train_labels,\n",
    "    epochs=10,\n",
    "    batch_size=128,\n",
    "    validation_split=0.2 # ← NOTE: Keras is so nice you can even ask it to set aside validation data for you...\n",
    ")\n",
    "del model"
   ]
  },
  {
   "cell_type": "code",
   "execution_count": 5,
   "id": "87d335f0-67d4-40af-bffe-4656fdd2747b",
   "metadata": {
    "colab": {
     "base_uri": "https://localhost:8080/"
    },
    "id": "87d335f0-67d4-40af-bffe-4656fdd2747b",
    "outputId": "1e77dd9e-fabe-4f45-ab6f-6e0277b3d00e"
   },
   "outputs": [
    {
     "name": "stdout",
     "output_type": "stream",
     "text": [
      "Epoch 1/10\n",
      "\u001b[1m375/375\u001b[0m \u001b[32m━━━━━━━━━━━━━━━━━━━━\u001b[0m\u001b[37m\u001b[0m \u001b[1m3s\u001b[0m 4ms/step - accuracy: 0.6949 - loss: 1.0444 - val_accuracy: 0.9003 - val_loss: 0.3203\n",
      "Epoch 2/10\n",
      "\u001b[1m375/375\u001b[0m \u001b[32m━━━━━━━━━━━━━━━━━━━━\u001b[0m\u001b[37m\u001b[0m \u001b[1m1s\u001b[0m 2ms/step - accuracy: 0.9131 - loss: 0.2782 - val_accuracy: 0.9299 - val_loss: 0.2291\n",
      "Epoch 3/10\n",
      "\u001b[1m375/375\u001b[0m \u001b[32m━━━━━━━━━━━━━━━━━━━━\u001b[0m\u001b[37m\u001b[0m \u001b[1m1s\u001b[0m 2ms/step - accuracy: 0.9452 - loss: 0.1774 - val_accuracy: 0.9366 - val_loss: 0.2122\n",
      "Epoch 4/10\n",
      "\u001b[1m375/375\u001b[0m \u001b[32m━━━━━━━━━━━━━━━━━━━━\u001b[0m\u001b[37m\u001b[0m \u001b[1m1s\u001b[0m 2ms/step - accuracy: 0.9618 - loss: 0.1227 - val_accuracy: 0.9463 - val_loss: 0.1836\n",
      "Epoch 5/10\n",
      "\u001b[1m375/375\u001b[0m \u001b[32m━━━━━━━━━━━━━━━━━━━━\u001b[0m\u001b[37m\u001b[0m \u001b[1m2s\u001b[0m 3ms/step - accuracy: 0.9718 - loss: 0.0877 - val_accuracy: 0.9626 - val_loss: 0.1270\n",
      "Epoch 6/10\n",
      "\u001b[1m375/375\u001b[0m \u001b[32m━━━━━━━━━━━━━━━━━━━━\u001b[0m\u001b[37m\u001b[0m \u001b[1m1s\u001b[0m 3ms/step - accuracy: 0.9805 - loss: 0.0619 - val_accuracy: 0.9633 - val_loss: 0.1241\n",
      "Epoch 7/10\n",
      "\u001b[1m375/375\u001b[0m \u001b[32m━━━━━━━━━━━━━━━━━━━━\u001b[0m\u001b[37m\u001b[0m \u001b[1m1s\u001b[0m 2ms/step - accuracy: 0.9862 - loss: 0.0439 - val_accuracy: 0.9620 - val_loss: 0.1281\n",
      "Epoch 8/10\n",
      "\u001b[1m375/375\u001b[0m \u001b[32m━━━━━━━━━━━━━━━━━━━━\u001b[0m\u001b[37m\u001b[0m \u001b[1m1s\u001b[0m 2ms/step - accuracy: 0.9895 - loss: 0.0342 - val_accuracy: 0.9707 - val_loss: 0.1096\n",
      "Epoch 9/10\n",
      "\u001b[1m375/375\u001b[0m \u001b[32m━━━━━━━━━━━━━━━━━━━━\u001b[0m\u001b[37m\u001b[0m \u001b[1m1s\u001b[0m 2ms/step - accuracy: 0.9933 - loss: 0.0230 - val_accuracy: 0.9644 - val_loss: 0.1316\n",
      "Epoch 10/10\n",
      "\u001b[1m375/375\u001b[0m \u001b[32m━━━━━━━━━━━━━━━━━━━━\u001b[0m\u001b[37m\u001b[0m \u001b[1m1s\u001b[0m 2ms/step - accuracy: 0.9955 - loss: 0.0175 - val_accuracy: 0.9712 - val_loss: 0.1179\n"
     ]
    }
   ],
   "source": [
    "# training with noise\n",
    "model = get_model()\n",
    "history_noise = model.fit(\n",
    "    train_images_with_noise_channels,\n",
    "    train_labels,\n",
    "    epochs=10,\n",
    "    batch_size=128,\n",
    "    validation_split=0.2\n",
    ")\n",
    "del model"
   ]
  },
  {
   "cell_type": "code",
   "execution_count": 6,
   "id": "39ce38ff-1fd0-406a-929b-433b9fcdc39f",
   "metadata": {
    "colab": {
     "base_uri": "https://localhost:8080/"
    },
    "id": "39ce38ff-1fd0-406a-929b-433b9fcdc39f",
    "outputId": "86b4c9fc-3e54-4a01-c040-7614f5d2741f"
   },
   "outputs": [
    {
     "name": "stdout",
     "output_type": "stream",
     "text": [
      "Epoch 1/10\n",
      "\u001b[1m375/375\u001b[0m \u001b[32m━━━━━━━━━━━━━━━━━━━━\u001b[0m\u001b[37m\u001b[0m \u001b[1m2s\u001b[0m 4ms/step - accuracy: 0.8518 - loss: 0.4983 - val_accuracy: 0.9576 - val_loss: 0.1470\n",
      "Epoch 2/10\n",
      "\u001b[1m375/375\u001b[0m \u001b[32m━━━━━━━━━━━━━━━━━━━━\u001b[0m\u001b[37m\u001b[0m \u001b[1m1s\u001b[0m 2ms/step - accuracy: 0.9603 - loss: 0.1345 - val_accuracy: 0.9669 - val_loss: 0.1190\n",
      "Epoch 3/10\n",
      "\u001b[1m375/375\u001b[0m \u001b[32m━━━━━━━━━━━━━━━━━━━━\u001b[0m\u001b[37m\u001b[0m \u001b[1m1s\u001b[0m 2ms/step - accuracy: 0.9750 - loss: 0.0873 - val_accuracy: 0.9688 - val_loss: 0.1042\n",
      "Epoch 4/10\n",
      "\u001b[1m375/375\u001b[0m \u001b[32m━━━━━━━━━━━━━━━━━━━━\u001b[0m\u001b[37m\u001b[0m \u001b[1m2s\u001b[0m 3ms/step - accuracy: 0.9828 - loss: 0.0596 - val_accuracy: 0.9755 - val_loss: 0.0838\n",
      "Epoch 5/10\n",
      "\u001b[1m375/375\u001b[0m \u001b[32m━━━━━━━━━━━━━━━━━━━━\u001b[0m\u001b[37m\u001b[0m \u001b[1m1s\u001b[0m 3ms/step - accuracy: 0.9880 - loss: 0.0431 - val_accuracy: 0.9774 - val_loss: 0.0739\n",
      "Epoch 6/10\n",
      "\u001b[1m375/375\u001b[0m \u001b[32m━━━━━━━━━━━━━━━━━━━━\u001b[0m\u001b[37m\u001b[0m \u001b[1m1s\u001b[0m 2ms/step - accuracy: 0.9913 - loss: 0.0333 - val_accuracy: 0.9777 - val_loss: 0.0785\n",
      "Epoch 7/10\n",
      "\u001b[1m375/375\u001b[0m \u001b[32m━━━━━━━━━━━━━━━━━━━━\u001b[0m\u001b[37m\u001b[0m \u001b[1m1s\u001b[0m 2ms/step - accuracy: 0.9932 - loss: 0.0239 - val_accuracy: 0.9753 - val_loss: 0.0809\n",
      "Epoch 8/10\n",
      "\u001b[1m375/375\u001b[0m \u001b[32m━━━━━━━━━━━━━━━━━━━━\u001b[0m\u001b[37m\u001b[0m \u001b[1m1s\u001b[0m 3ms/step - accuracy: 0.9946 - loss: 0.0181 - val_accuracy: 0.9786 - val_loss: 0.0725\n",
      "Epoch 9/10\n",
      "\u001b[1m375/375\u001b[0m \u001b[32m━━━━━━━━━━━━━━━━━━━━\u001b[0m\u001b[37m\u001b[0m \u001b[1m1s\u001b[0m 2ms/step - accuracy: 0.9967 - loss: 0.0129 - val_accuracy: 0.9793 - val_loss: 0.0748\n",
      "Epoch 10/10\n",
      "\u001b[1m375/375\u001b[0m \u001b[32m━━━━━━━━━━━━━━━━━━━━\u001b[0m\u001b[37m\u001b[0m \u001b[1m1s\u001b[0m 3ms/step - accuracy: 0.9979 - loss: 0.0099 - val_accuracy: 0.9807 - val_loss: 0.0732\n"
     ]
    }
   ],
   "source": [
    "# training with zeros\n",
    "model = get_model()\n",
    "history_zeros = model.fit(\n",
    "    train_images_with_zeros_channels,\n",
    "    train_labels,\n",
    "    epochs=10,\n",
    "    batch_size=128,\n",
    "    validation_split=0.2\n",
    ")\n",
    "del model"
   ]
  },
  {
   "cell_type": "code",
   "execution_count": 7,
   "id": "fd7d6746",
   "metadata": {
    "colab": {
     "base_uri": "https://localhost:8080/",
     "height": 472
    },
    "id": "fd7d6746",
    "outputId": "121d6ae9-fc4e-4ac0-d83a-5dcc94eb209e"
   },
   "outputs": [
    {
     "data": {
      "image/png": "[encoded data removed]",
      "text/plain": [
       "<Figure size 640x480 with 1 Axes>"
      ]
     },
     "metadata": {},
     "output_type": "display_data"
    }
   ],
   "source": [
    "val_acc_orig = history_orig.history[\"val_accuracy\"]\n",
    "val_acc_noise = history_noise.history[\"val_accuracy\"]\n",
    "val_acc_zeros = history_zeros.history[\"val_accuracy\"]\n",
    "epochs = range(1, 11)\n",
    "plt.plot(epochs, val_acc_orig, \":\", label=\"Validation accuracy without additional channels\")\n",
    "plt.plot(epochs, val_acc_noise, \"-\", label=\"Validation accuracy with noise channels\")\n",
    "plt.plot(epochs, val_acc_zeros, \"--\", label=\"Validation accuracy with zeros channels\")\n",
    "plt.title(\"Effect of noise channels on validation accuracy\")\n",
    "plt.xlabel(\"Epochs\")\n",
    "plt.ylabel(\"Accuracy\")\n",
    "plt.legend()\n",
    "plt.show()"
   ]
  },
  {
   "cell_type": "markdown",
   "id": "26ceb37f",
   "metadata": {
    "id": "26ceb37f"
   },
   "source": [
    "Almost one percentage point lower validation accuracy for the noisy model despite the same information in both cases!\n",
    "\n",
    "*The more noise channels you add, the further accuracy will degrade.* (DLWP, p.126)\n",
    "\n",
    "The model **fits the noise** (another way of seeing overfitting)."
   ]
  },
  {
   "cell_type": "markdown",
   "id": "c6408694-0725-4f35-9dd8-5db3f4a148fc",
   "metadata": {
    "id": "81fa6626"
   },
   "source": [
    "---"
   ]
  },
  {
   "cell_type": "markdown",
   "id": "bbb4e262-e94d-453d-8df3-8ecf1fd0f1bb",
   "metadata": {
    "id": "81fa6626"
   },
   "source": [
    "##  5.1.2 The nature of generalisation in deep learning"
   ]
  },
  {
   "cell_type": "markdown",
   "id": "b2607dba-12e2-4cfa-b0b1-56215229ff4f",
   "metadata": {
    "jp-MarkdownHeadingCollapsed": true
   },
   "source": [
    "### Training on pure noise"
   ]
  },
  {
   "cell_type": "markdown",
   "id": "1983215a-489e-4bad-b33f-0fc7f178903d",
   "metadata": {
    "id": "81fa6626"
   },
   "source": [
    "A remarkable fact about deep learning models is that **they can be trained to fit anything**, as long as they have enough representational power.\n",
    "\n",
    "For example, you can shuffle the MNIST labels and train on that!"
   ]
  },
  {
   "cell_type": "code",
   "execution_count": 8,
   "id": "853b6650",
   "metadata": {
    "colab": {
     "base_uri": "https://localhost:8080/"
    },
    "id": "853b6650",
    "outputId": "afa3ba9e-e05d-41e8-af6f-b540ec3fc3c0"
   },
   "outputs": [
    {
     "name": "stdout",
     "output_type": "stream",
     "text": [
      "Epoch 1/20\n",
      "\u001b[1m375/375\u001b[0m \u001b[32m━━━━━━━━━━━━━━━━━━━━\u001b[0m\u001b[37m\u001b[0m \u001b[1m2s\u001b[0m 3ms/step - accuracy: 0.0989 - loss: 2.3329 - val_accuracy: 0.1022 - val_loss: 2.3064\n",
      "Epoch 2/20\n",
      "\u001b[1m375/375\u001b[0m \u001b[32m━━━━━━━━━━━━━━━━━━━━\u001b[0m\u001b[37m\u001b[0m \u001b[1m1s\u001b[0m 2ms/step - accuracy: 0.1239 - loss: 2.2961 - val_accuracy: 0.1028 - val_loss: 2.3065\n",
      "Epoch 3/20\n",
      "\u001b[1m375/375\u001b[0m \u001b[32m━━━━━━━━━━━━━━━━━━━━\u001b[0m\u001b[37m\u001b[0m \u001b[1m1s\u001b[0m 2ms/step - accuracy: 0.1270 - loss: 2.2886 - val_accuracy: 0.1049 - val_loss: 2.3186\n",
      "Epoch 4/20\n",
      "\u001b[1m375/375\u001b[0m \u001b[32m━━━━━━━━━━━━━━━━━━━━\u001b[0m\u001b[37m\u001b[0m \u001b[1m1s\u001b[0m 3ms/step - accuracy: 0.1408 - loss: 2.2770 - val_accuracy: 0.1007 - val_loss: 2.3277\n",
      "Epoch 5/20\n",
      "\u001b[1m375/375\u001b[0m \u001b[32m━━━━━━━━━━━━━━━━━━━━\u001b[0m\u001b[37m\u001b[0m \u001b[1m1s\u001b[0m 3ms/step - accuracy: 0.1541 - loss: 2.2580 - val_accuracy: 0.0973 - val_loss: 2.3333\n",
      "Epoch 6/20\n",
      "\u001b[1m375/375\u001b[0m \u001b[32m━━━━━━━━━━━━━━━━━━━━\u001b[0m\u001b[37m\u001b[0m \u001b[1m1s\u001b[0m 2ms/step - accuracy: 0.1693 - loss: 2.2395 - val_accuracy: 0.1040 - val_loss: 2.3421\n",
      "Epoch 7/20\n",
      "\u001b[1m375/375\u001b[0m \u001b[32m━━━━━━━━━━━━━━━━━━━━\u001b[0m\u001b[37m\u001b[0m \u001b[1m1s\u001b[0m 2ms/step - accuracy: 0.1893 - loss: 2.2153 - val_accuracy: 0.0967 - val_loss: 2.3599\n",
      "Epoch 8/20\n",
      "\u001b[1m375/375\u001b[0m \u001b[32m━━━━━━━━━━━━━━━━━━━━\u001b[0m\u001b[37m\u001b[0m \u001b[1m1s\u001b[0m 2ms/step - accuracy: 0.2036 - loss: 2.1852 - val_accuracy: 0.0999 - val_loss: 2.3800\n",
      "Epoch 9/20\n",
      "\u001b[1m375/375\u001b[0m \u001b[32m━━━━━━━━━━━━━━━━━━━━\u001b[0m\u001b[37m\u001b[0m \u001b[1m1s\u001b[0m 2ms/step - accuracy: 0.2203 - loss: 2.1558 - val_accuracy: 0.1017 - val_loss: 2.3990\n",
      "Epoch 10/20\n",
      "\u001b[1m375/375\u001b[0m \u001b[32m━━━━━━━━━━━━━━━━━━━━\u001b[0m\u001b[37m\u001b[0m \u001b[1m1s\u001b[0m 2ms/step - accuracy: 0.2365 - loss: 2.1198 - val_accuracy: 0.1026 - val_loss: 2.4164\n",
      "Epoch 11/20\n",
      "\u001b[1m375/375\u001b[0m \u001b[32m━━━━━━━━━━━━━━━━━━━━\u001b[0m\u001b[37m\u001b[0m \u001b[1m1s\u001b[0m 3ms/step - accuracy: 0.2571 - loss: 2.0863 - val_accuracy: 0.1024 - val_loss: 2.4458\n",
      "Epoch 12/20\n",
      "\u001b[1m375/375\u001b[0m \u001b[32m━━━━━━━━━━━━━━━━━━━━\u001b[0m\u001b[37m\u001b[0m \u001b[1m1s\u001b[0m 3ms/step - accuracy: 0.2681 - loss: 2.0536 - val_accuracy: 0.1027 - val_loss: 2.4656\n",
      "Epoch 13/20\n",
      "\u001b[1m375/375\u001b[0m \u001b[32m━━━━━━━━━━━━━━━━━━━━\u001b[0m\u001b[37m\u001b[0m \u001b[1m1s\u001b[0m 2ms/step - accuracy: 0.2872 - loss: 2.0140 - val_accuracy: 0.1010 - val_loss: 2.5062\n",
      "Epoch 14/20\n",
      "\u001b[1m375/375\u001b[0m \u001b[32m━━━━━━━━━━━━━━━━━━━━\u001b[0m\u001b[37m\u001b[0m \u001b[1m1s\u001b[0m 2ms/step - accuracy: 0.3063 - loss: 1.9705 - val_accuracy: 0.1007 - val_loss: 2.5291\n",
      "Epoch 15/20\n",
      "\u001b[1m375/375\u001b[0m \u001b[32m━━━━━━━━━━━━━━━━━━━━\u001b[0m\u001b[37m\u001b[0m \u001b[1m1s\u001b[0m 2ms/step - accuracy: 0.3239 - loss: 1.9277 - val_accuracy: 0.1009 - val_loss: 2.5563\n",
      "Epoch 16/20\n",
      "\u001b[1m375/375\u001b[0m \u001b[32m━━━━━━━━━━━━━━━━━━━━\u001b[0m\u001b[37m\u001b[0m \u001b[1m2s\u001b[0m 3ms/step - accuracy: 0.3421 - loss: 1.8882 - val_accuracy: 0.0956 - val_loss: 2.5968\n",
      "Epoch 17/20\n",
      "\u001b[1m375/375\u001b[0m \u001b[32m━━━━━━━━━━━━━━━━━━━━\u001b[0m\u001b[37m\u001b[0m \u001b[1m1s\u001b[0m 3ms/step - accuracy: 0.3580 - loss: 1.8491 - val_accuracy: 0.0988 - val_loss: 2.6223\n",
      "Epoch 18/20\n",
      "\u001b[1m375/375\u001b[0m \u001b[32m━━━━━━━━━━━━━━━━━━━━\u001b[0m\u001b[37m\u001b[0m \u001b[1m1s\u001b[0m 2ms/step - accuracy: 0.3735 - loss: 1.8087 - val_accuracy: 0.1018 - val_loss: 2.6501\n",
      "Epoch 19/20\n",
      "\u001b[1m375/375\u001b[0m \u001b[32m━━━━━━━━━━━━━━━━━━━━\u001b[0m\u001b[37m\u001b[0m \u001b[1m1s\u001b[0m 2ms/step - accuracy: 0.3892 - loss: 1.7725 - val_accuracy: 0.1012 - val_loss: 2.7003\n",
      "Epoch 20/20\n",
      "\u001b[1m375/375\u001b[0m \u001b[32m━━━━━━━━━━━━━━━━━━━━\u001b[0m\u001b[37m\u001b[0m \u001b[1m1s\u001b[0m 2ms/step - accuracy: 0.4097 - loss: 1.7244 - val_accuracy: 0.1010 - val_loss: 2.7447\n"
     ]
    }
   ],
   "source": [
    "random_train_labels = train_labels[:]  # [:] is a nice way to guarantee you are making a copy\n",
    "np.random.shuffle(random_train_labels) # shuffle the labels\n",
    "\n",
    "model = tf.keras.Sequential([\n",
    "    tf.keras.layers.Dense(512, activation=\"relu\"),\n",
    "    tf.keras.layers.Dense(10, activation=\"softmax\")\n",
    "])\n",
    "model.compile(\n",
    "    optimizer=\"rmsprop\",\n",
    "    loss=\"sparse_categorical_crossentropy\",\n",
    "    metrics=[\"accuracy\"]\n",
    ")\n",
    "model.fit(\n",
    "    train_images, random_train_labels,\n",
    "    epochs=20,\n",
    "    batch_size=128,\n",
    "    validation_split=0.2\n",
    ")\n",
    "del model, train_images_with_noise_channels, train_images_with_zeros_channels"
   ]
  },
  {
   "cell_type": "markdown",
   "id": "67bb85e5",
   "metadata": {
    "id": "67bb85e5"
   },
   "source": [
    "If you do that, you find that:\n",
    "\n",
    "- the **loss** *still* goes down (although learning is far easier when the labels are meaningful)\n",
    "- the **validation loss** tends to diverge, and certainly does not go down!\n",
    "- your **validation accuracy** will be, in our case, around 0.1: *random guessing*!\n",
    "\n",
    "But this is a fascinating phenomenon: you can generate random data points and labels, and your network **will** learn them.\n",
    "\n",
    "So, how come networks *do* learn something and generalise?"
   ]
  },
  {
   "cell_type": "markdown",
   "id": "5241c0da",
   "metadata": {
    "id": "5241c0da",
    "jp-MarkdownHeadingCollapsed": true
   },
   "source": [
    "### The manifold hypothesis"
   ]
  },
  {
   "cell_type": "markdown",
   "id": "f9cfc92c-4926-4a39-8698-c214052a0851",
   "metadata": {
    "id": "9f0a8db3",
    "jp-MarkdownHeadingCollapsed": true
   },
   "source": [
    "#### Note: Manifolds"
   ]
  },
  {
   "cell_type": "markdown",
   "id": "37b59c01-67ee-42ab-9239-ab28ddafd5b9",
   "metadata": {
    "id": "9f0a8db3"
   },
   "source": [
    "**Manifold** is the topological generalisation of a surface (like tensors with vectors and matrices).\n",
    "\n",
    "Technically: a manifold **locally resembles Euclidean space near each point** ([Wikipedia](https://en.wikipedia.org/wiki/Manifold)).\n",
    "\n",
    "The Earth's surface looks flat from our (sufficiently local) perspective.\n",
    "\n",
    "A line is an example of a 1D manifold. A plane, but also the surface of a sphere, or a torus (doughnut), are all 2D manifolds. And of course this doesn't stop there, this works in any dimension."
   ]
  },
  {
   "cell_type": "markdown",
   "id": "cf1e2fa7",
   "metadata": {
    "id": "cf1e2fa7"
   },
   "source": [
    "<!-- ![Brian Keng circle manifold](images/bjlkeng.manifold-circle.png) -->\n",
    "<img src=\"https://github.com/jchwenger/AI/blob/main/4-fundamentals/images/bjlkeng.manifold-circle.png?raw=true\">\n",
    "\n",
    "\"A circle is a one-dimensional manifold embedded in two dimensions where each arc of the circle locally resembles a line segment.\"  \n",
    "<small>Source: [Brian Keng, \"Manifolds: A Gentle Introduction\"](https://bjlkeng.github.io/posts/manifolds/), itself taken from: [Manifold, Wikipedia](https://en.wikipedia.org/wiki/Manifold#Circle)</small>"
   ]
  },
  {
   "cell_type": "markdown",
   "id": "16b45ebd-7059-4aac-98a2-2ac1448dbc42",
   "metadata": {},
   "source": [
    "#### Data is (usually) highly structured"
   ]
  },
  {
   "cell_type": "markdown",
   "id": "c4e3d872",
   "metadata": {
    "id": "c4e3d872"
   },
   "source": [
    "The idea comes from the fact that our data is **highly structured**.\n",
    "\n",
    "Our network can learn that structure, instead of, as said, *rote-learning*/*memorising* the data.\n",
    "\n",
    "We are not at all learning **all possible 28x28 images** ($255^{784}\\ \\text{possibilities!}$), only a tiny subset."
   ]
  },
  {
   "cell_type": "markdown",
   "id": "11b7fbc7",
   "metadata": {
    "id": "11b7fbc7"
   },
   "source": [
    "You can easily imagine that *most* possible images are not MNIST digits...\n",
    "\n",
    "What is more, we can make the *hypothesis* that the subset of digits is in fact a **manifold** within the space of possible 28 x 28 `uint8` arrays."
   ]
  },
  {
   "cell_type": "markdown",
   "id": "24b28c13",
   "metadata": {
    "id": "24b28c13"
   },
   "source": [
    "If the space of MNIST digits is a manifold:\n",
    "- it is **continuous**: if you modify a sample a little, it is still recognisable;\n",
    "- all as samples are **connected** (you can travel from one to the other without jumps)."
   ]
  },
  {
   "cell_type": "markdown",
   "id": "09c4496d",
   "metadata": {
    "id": "09c4496d"
   },
   "source": [
    "What does this mean for us?\n",
    "- Machine learning models only have to fit **relatively simple, low-dimensional, highly structured subspaces** within their potential input space (latent manifolds).\n",
    "- Within one of these manifolds, it’s always possible to **interpolate between two inputs**, that is to say, morph one into another via a continuous path along which all points are still valid points, still on the manifold (MNIST digits)."
   ]
  },
  {
   "cell_type": "markdown",
   "id": "0c56280c",
   "metadata": {
    "id": "0c56280c"
   },
   "source": [
    "<!-- ![Chollet MNIST morphing](images/chollet.mnist-morphing.png) -->\n",
    "<img src=\"https://github.com/jchwenger/AI/blob/main/4-fundamentals/images/chollet.mnist-morphing.png?raw=true\">\n",
    "\n",
    "<small>DLWP, p.129</small>"
   ]
  },
  {
   "cell_type": "markdown",
   "id": "b0a211e0-c83c-4983-b8b4-6c388b01a0a1",
   "metadata": {
    "id": "2cd76ec1"
   },
   "source": [
    "#### Interpolation as a source of generalisation"
   ]
  },
  {
   "cell_type": "markdown",
   "id": "1b4a1e3a-4e02-478c-927e-95d9fd9ead2b",
   "metadata": {
    "id": "2cd76ec1"
   },
   "source": [
    "So, if you have been able to learn that manifold, you can start making sense of points you’ve never seen before by **relating them to other points that lie close on the manifold**.\n",
    "\n",
    "You can make sense of the **totality** of the space using only a **sample** of the space."
   ]
  },
  {
   "cell_type": "markdown",
   "id": "54d9f522",
   "metadata": {
    "id": "54d9f522"
   },
   "source": [
    "<!-- ![Chollet ](images/chollet.manifold-linear-interpolation.png) -->\n",
    "<img src=\"https://github.com/jchwenger/AI/blob/main/4-fundamentals/images/chollet.manifold-linear-interpolation.png?raw=true\">\n",
    "\n",
    "<small>DLWP, p.130</small>"
   ]
  },
  {
   "cell_type": "markdown",
   "id": "2bbd222f",
   "metadata": {
    "id": "2bbd222f"
   },
   "source": [
    "However, one should remember this is only *one* aspect of generalisation.\n",
    "\n",
    "The tip of the iceberg, and only working for *close* points: **local generalisation**.\n",
    "\n",
    "In Chollet's theory, humans are capable of much more: **extreme generalisation**.\n",
    "\n",
    "This was exposted in his article, [*On the Measure of Intelligence*](https://arxiv.org/abs/1911.01547), 2019, arXiv:1911.01547, see also the video in the reference notebook."
   ]
  },
  {
   "cell_type": "markdown",
   "id": "c77189b9-44ba-4c9b-80c2-3d5486b45d51",
   "metadata": {
    "id": "06181787"
   },
   "source": [
    "#### Why deep learning works"
   ]
  },
  {
   "attachments": {},
   "cell_type": "markdown",
   "id": "b653f5f7-caa4-49b7-aa3a-0dcf1c32c3aa",
   "metadata": {
    "id": "06181787"
   },
   "source": [
    "A deep learning model is basically:\n",
    "- a very high-dimensional curve that is smooth and continuous, (required for gradient descent), an approximation of the data manifold;\n",
    "- you can also see it as **finding the appropriate projection** of the data into the structured space (the manifold).\n",
    "\n",
    "Chollet's image, as a reminder: a sheet of paper is a 2D manifold in 3D: as the net learns, the curve is fitted to data points, **uncrumpling** the sheet.\n",
    "\n",
    "<!-- <img src=\"images/chollet.generalization-dense-sampling.png\"> -->\n",
    "<img src=\"https://github.com/jchwenger/AI/blob/main/4-fundamentals/images/chollet.uncrumpling.png?raw=true\">\n",
    "\n",
    "<small  style=\"position:absolute;right:0;bottom:0\">DLWP, p.132</small>"
   ]
  },
  {
   "cell_type": "markdown",
   "id": "72f72934-d3d6-4771-a94f-c79b4dcf50d8",
   "metadata": {
    "id": "d3cc8835"
   },
   "source": [
    "#### The Curse of Dimensionality"
   ]
  },
  {
   "cell_type": "markdown",
   "id": "236e703c-69c0-4b22-9748-1e51f6d0e1d1",
   "metadata": {
    "id": "d3cc8835"
   },
   "source": [
    "The [**curse of dimensionality**](https://en.wikipedia.org/wiki/Curse_of_dimensionality) is actually one of the real challenges in Deep Learning.\n",
    "\n",
    "When your data is distributed in a very high-dimensional space, data points have barely **any neighbours**.\n",
    "\n",
    "The space is very **sparse** (very few data points compared to all possibilities).\n",
    "\n",
    "That is because **one dimension is enough** for two points to be far apart.\n",
    "\n",
    "*Example: MNIST images. 784 pixels, each indpendent of each other, thus considered the __dimensions__ of the space of possible images. What are the chances that, given two images of a number, __all__ pixel values are really close to each other (↔ the coordinates of the two images are close)?*"
   ]
  },
  {
   "cell_type": "code",
   "execution_count": 9,
   "id": "16d99704",
   "metadata": {
    "id": "16d99704"
   },
   "outputs": [],
   "source": [
    "def plot_distant_points():\n",
    "    fig = plt.figure()\n",
    "    ax = fig.add_subplot(projection='3d')\n",
    "\n",
    "    p1 = (6,5,0)   # the two points are very close in the two first dims\n",
    "    p2 = (5,6,10)  # but one dimension is enough to draw them apart\n",
    "\n",
    "    p12 = (6,5,10)   # the two points are very close in the two first dims\n",
    "    p22 = (5,6,0)   # the two points are very close in the two first dims\n",
    "\n",
    "    ax.set_xlim([0,12])\n",
    "    ax.set_ylim([0,12])\n",
    "    ax.set_zlim([0,12])\n",
    "\n",
    "    ax.scatter(*p1, marker='o', c='b', s=100, label=f\"Point 1:  {p1}\")\n",
    "    ax.scatter(*p2, marker='x', c='b', s=100, label=f\"Point 2:  {p2}\")\n",
    "\n",
    "    ax.scatter(*p12, marker='o', c='coral', label=f\"Point 1': {p12}\")\n",
    "    ax.scatter(*p22, marker='x', c='coral', label=f\"Point 2': {p22}\")\n",
    "\n",
    "    ax.set_xlabel('X Label')\n",
    "    ax.set_ylabel('Y Label')\n",
    "    ax.set_zlabel('Z Label')\n",
    "    plt.legend()\n",
    "    plt.show()"
   ]
  },
  {
   "cell_type": "markdown",
   "id": "7dd0d0eb",
   "metadata": {
    "id": "7dd0d0eb"
   },
   "source": [
    "A 3D example. Two points are close to each other in the first two dimensions, but the third dimension sets them apart. What is the chance for two points to be close if there are 784 dimensions?"
   ]
  },
  {
   "cell_type": "code",
   "execution_count": 10,
   "id": "44a4c622",
   "metadata": {
    "colab": {
     "base_uri": "https://localhost:8080/",
     "height": 418
    },
    "id": "44a4c622",
    "outputId": "25492a3f-3d1f-4b89-ee68-8b908048677f"
   },
   "outputs": [
    {
     "data": {
      "image/png": "[encoded data removed]",
      "text/plain": [
       "<Figure size 640x480 with 1 Axes>"
      ]
     },
     "metadata": {},
     "output_type": "display_data"
    }
   ],
   "source": [
    "plot_distant_points()"
   ]
  },
  {
   "cell_type": "markdown",
   "id": "de9825f2-6b92-4f03-815f-76f8cf9abbac",
   "metadata": {},
   "source": [
    "*Other example: given the interval $[0,1]$, if you placed 4 data points every $0.2$, you can cover the space evenly. Now, for a square, how many points do you need to have a similar coverage? $4^2 = 16$. And for a cube? $4^3 = 64$. The number of data points you need to obtain a uniform, good coverage of your space grows exponentially with the number of dimensions!*\n",
    "\n",
    "See [this page](https://en.wikipedia.org/wiki/Curse_of_dimensionality#Sampling) as well.\n",
    "\n",
    "This is why **training data is paramount**! The more data you train on, the better you cover the space, and the better you can fit!"
   ]
  },
  {
   "cell_type": "markdown",
   "id": "46dd9985-cbfb-4255-acfb-b02cc8cb7775",
   "metadata": {
    "id": "46dd9985-cbfb-4255-acfb-b02cc8cb7775"
   },
   "source": [
    "---\n",
    "\n",
    "## 5.2 Evaluating machine-learning models\n",
    "\n",
    "## 5.2.1 Training, validation, and test sets"
   ]
  },
  {
   "cell_type": "markdown",
   "id": "db10c026-6843-44d3-ad3a-c8f9d59c58ee",
   "metadata": {
    "id": "25abb24d-77eb-4a3b-8d57-1bfe443d07c6",
    "jp-MarkdownHeadingCollapsed": true
   },
   "source": [
    "### Recap"
   ]
  },
  {
   "cell_type": "markdown",
   "id": "35334ebc-c097-45fc-a6c2-5fe89f176a86",
   "metadata": {
    "id": "25abb24d-77eb-4a3b-8d57-1bfe443d07c6"
   },
   "source": [
    "Models are not evaluated on their training data because we want **generalisation** – the ability to make good predictions on new, unseen data.\n",
    "\n",
    "Predictive power on unseen data can **worsen** even though the fit to training data **improves**.\n",
    "\n",
    "We need stategies to limit overfitting and maximise generalisation."
   ]
  },
  {
   "cell_type": "markdown",
   "id": "f4d220e0-c015-4045-b7cc-d19dbac64929",
   "metadata": {
    "id": "f4d220e0-c015-4045-b7cc-d19dbac64929"
   },
   "source": [
    "Remember, the reason we use a **validation set** on top of our **test set** is:\n",
    "\n",
    "We wish to find good **hyperparameter** settings!"
   ]
  },
  {
   "cell_type": "markdown",
   "id": "5d78e4c7-eb36-41f4-a36e-2076af93062e",
   "metadata": {
    "id": "5d78e4c7-eb36-41f4-a36e-2076af93062e"
   },
   "source": [
    "Hyperparameters are tuned by considering their effect on a validation set.\n",
    "\n",
    "**We** inject into our model information about that validation set every time a hyperparameter is tuned.\n",
    "\n",
    "The more experiments we perform, the more information from that set **leaks** into our model.\n"
   ]
  },
  {
   "cell_type": "markdown",
   "id": "34c1d157-24a9-4706-aa57-e5076375bb33",
   "metadata": {
    "id": "34c1d157-24a9-4706-aa57-e5076375bb33"
   },
   "source": [
    "Thus, we cannot possibly consider the validation set **unseen data**.\n",
    "\n",
    "At the end of the tuning process, the model is actually optimised for the validation set.\n",
    "\n",
    "And generalisation can still be checked by evaluating our model on our **(unseen) test data**."
   ]
  },
  {
   "cell_type": "markdown",
   "id": "f818fb6b-3cc2-470a-93ec-f01475c02bf2",
   "metadata": {
    "id": "73a85c4a-574d-4725-a859-c52b0509e5b6",
    "jp-MarkdownHeadingCollapsed": true
   },
   "source": [
    "### Three validation techniques"
   ]
  },
  {
   "cell_type": "markdown",
   "id": "4d449a63-78e0-4316-9c28-bbb29eeaec59",
   "metadata": {
    "id": "73a85c4a-574d-4725-a859-c52b0509e5b6"
   },
   "source": [
    "- Simple hold-out validation\n",
    "- K-fold validation\n",
    "- Iterated K-fold validation with shuffling"
   ]
  },
  {
   "cell_type": "markdown",
   "id": "31546355-642c-4ec2-a4a7-a59877d0bf51",
   "metadata": {
    "id": "86035189"
   },
   "source": [
    "#### 1. Simple hold-out validation"
   ]
  },
  {
   "cell_type": "markdown",
   "id": "98718d99-04dc-4ac7-8ece-66ad83f296fe",
   "metadata": {
    "id": "86035189"
   },
   "source": [
    "Basic setup (common in big data settings):\n",
    "\n",
    "<!-- <img style=\"height:350px;float:right\" src=\"images/chollet.simple-holdout-validation.png\"> -->\n",
    "<img style=\"height:350px;float:left\" src=\"https://github.com/jchwenger/AI/blob/main/4-fundamentals/images/chollet.simple-holdout-validation.png?raw=true\">\n",
    "<small  style=\"position:absolute;left:0;bottom:0\">DLWP, p.134</small>"
   ]
  },
  {
   "cell_type": "markdown",
   "id": "1849471d",
   "metadata": {
    "id": "1849471d"
   },
   "source": [
    "Our setup (theoretically better!):\n",
    "\n",
    "\n",
    "<!-- <img style=\"height:300px;float:right\" src=\"images/training-validation-test.png\"> -->\n",
    "<img  style=\"height:300px;float:right\" src=\"https://github.com/jchwenger/AI/blob/main/4-fundamentals/images/training-validation-test.png?raw=true\">\n",
    "\n",
    "<small style=\"position:absolute;right:0;bottom:0\">[\"Training, Validation and Test sets 차이 및 정확한 용도 (훈련, 검정, 테스트 데이터 차이)\"](https://modern-manual.tistory.com/m/19)</small>"
   ]
  },
  {
   "cell_type": "markdown",
   "id": "975b7754",
   "metadata": {
    "id": "975b7754"
   },
   "source": [
    "Note that even the second technique is vulnerable to statistical fluctuation if the validation and test set are small.\n",
    "\n",
    "You can notice this if different rounds of **shuffling** yield **validation variance** (= validation results are very variable)."
   ]
  },
  {
   "cell_type": "markdown",
   "id": "8a6fa119-7045-4a90-825f-f1bc865a033a",
   "metadata": {
    "id": "a3576606-2e65-4780-a10a-9165843302f9"
   },
   "source": [
    "#### 2. K-fold validation"
   ]
  },
  {
   "cell_type": "markdown",
   "id": "4ffe9342-905a-4b29-b438-c7df2779e84b",
   "metadata": {
    "id": "a3576606-2e65-4780-a10a-9165843302f9"
   },
   "source": [
    "What we've seen last time, see the previous notebooks for the code.\n",
    "\n",
    "<!-- <img  style=\"float:right\"  src=\"images/chollet.k-fold.png\"> -->\n",
    "<img  style=\"float:right\"  src=\"https://github.com/jchwenger/AI/blob/main/4-fundamentals/images/chollet.k-fold.png?raw=true\">\n",
    "\n",
    "\n",
    "<small style=\"position:absolute;right:0;bottom:0\">DLWP, p.135</small>"
   ]
  },
  {
   "cell_type": "markdown",
   "id": "1e17e735-1c2b-4d1b-a537-a84eb5dbe5c3",
   "metadata": {
    "id": "eef35fb4-b209-4f34-9547-b3e6c71cf45d"
   },
   "source": [
    "#### 3. Iterated K-fold validation with shuffling"
   ]
  },
  {
   "cell_type": "markdown",
   "id": "a72f5f8e-b233-448b-877b-30af857c7947",
   "metadata": {
    "id": "eef35fb4-b209-4f34-9547-b3e6c71cf45d"
   },
   "source": [
    "In a variant known as **iterated** or **repeated** K-fold validation, K-fold validation is repeated $P$ times.\n",
    "\n",
    "Each time, the dataset is shuffled, leading to different partial training and validation sets!\n",
    "\n",
    "The K-fold averages are gathered and re-averaged.\n",
    "\n",
    "$P \\times K$ models are trained and evaluated – this is expensive!"
   ]
  },
  {
   "cell_type": "markdown",
   "id": "c9eb82f8",
   "metadata": {
    "id": "c9eb82f8"
   },
   "source": [
    "```python\n",
    "iterated_val_scores = []\n",
    "             # ↓ repeat P times\n",
    "for _ in range(P):      # ↓ shuffle train and validation sets together\n",
    "    shuffled_indz = np.random.permutation(train_val_dataset.shape[0])\n",
    "    train_val_dataset = train_val_dataset[shuffled_indz]\n",
    "    train_val_labels = train_val_labels[shuffled_indz]\n",
    "                        # ↓ do K-fold validation (trains K-models!)\n",
    "    k_fold_val_scores = k_fold_validation(train_val_dataset)\n",
    "                               # ↓ save the mean this round of K-fold validation\n",
    "    iterated_val_scores.append(np.mean(k_fold_val_scores))\n",
    "# the iterated average is the mean of the P K-fold score means\n",
    "avg_iterated_age_val_score = np.mean(iterated_val_scores)  \n",
    "```"
   ]
  },
  {
   "cell_type": "markdown",
   "id": "7586dd4f",
   "metadata": {
    "id": "7586dd4f"
   },
   "source": [
    "This method is useful when **little** data is available.\n",
    "\n",
    "In more and more deep learning contexts, we are dealing with **heaps** of data!   \n",
    "\n",
    "K-fold is then both too expensive and not relevant..."
   ]
  },
  {
   "cell_type": "markdown",
   "id": "7a71e36b-394a-4c9e-b298-b85821f8517b",
   "metadata": {
    "id": "31758e17",
    "jp-MarkdownHeadingCollapsed": true
   },
   "source": [
    "---\n",
    "\n",
    "## 5.2.2 Beating a common-sense baseline"
   ]
  },
  {
   "cell_type": "markdown",
   "id": "103eabd7-5110-405b-b1a3-f83444a6b514",
   "metadata": {
    "id": "31758e17"
   },
   "source": [
    "Because deep learning is somewhat opaque, it is important to have an idea of what simpler methods achieve.\n",
    "\n",
    "The simplest of all methods is a random classifier (use _if the dataset is balanced_): just **a random guess**.\n",
    "\n",
    "The second most simple (_if the dataset is imbalanced_): only predict **the most prevalent class**.\n",
    "\n",
    "*If your dataset has 90% of class A, and 10% of class B, a model that **always** predicts A will get .9 accuracy, you need to beat that!*\n",
    "\n",
    "In the case of regression, there is more diversity, as estimating this depends on the structure of the problem, but a common approach is to predict **the mean of the data**."
   ]
  },
  {
   "cell_type": "markdown",
   "id": "8c35fbc3-3710-4033-b88e-2fb6818308a9",
   "metadata": {
    "id": "8c35fbc3-3710-4033-b88e-2fb6818308a9"
   },
   "source": [
    "---\n",
    "\n",
    "## 5.2.3 Things to keep in mind about model evaluation"
   ]
  },
  {
   "cell_type": "markdown",
   "id": "c8860157-d872-4cb1-aa9c-0a31ae3609f9",
   "metadata": {
    "id": "0be965fe-1b08-424b-b4b5-e418444ecd27",
    "jp-MarkdownHeadingCollapsed": true
   },
   "source": [
    "### The training and test data should be representative"
   ]
  },
  {
   "cell_type": "markdown",
   "id": "6e335073-797f-48f8-a410-1ffb7edb16ed",
   "metadata": {
    "id": "0be965fe-1b08-424b-b4b5-e418444ecd27"
   },
   "source": [
    "- Train set, validation set *and* test set  must come **from the same distribution**;\n",
    "- That means: they **must contain a bit of everything**.\n",
    "\n",
    "\n",
    "_For example, suppose in the MNIST problem that the images come sorted by digit. Clearly, the test set and training sets will contain different classes, not good! This is easily remedied by **shuffling**._"
   ]
  },
  {
   "cell_type": "markdown",
   "id": "3aa1f7df-76d2-4b73-b5ec-f50d16dd54b1",
   "metadata": {
    "id": "167b01d0-96bf-4367-b835-f130d93b7419",
    "jp-MarkdownHeadingCollapsed": true
   },
   "source": [
    "### Beware the arrow of time!"
   ]
  },
  {
   "cell_type": "markdown",
   "id": "1325d915-056f-438a-ae81-f9a9f991c82b",
   "metadata": {
    "id": "167b01d0-96bf-4367-b835-f130d93b7419"
   },
   "source": [
    "- Don't shuffle time-ordered data (e.g. weather and stock prediction)!\n",
    "- Make sure the training does not allow your model to just cheat and look up the solutions (causality/look ahead)."
   ]
  },
  {
   "cell_type": "markdown",
   "id": "293c9304-57e2-4f0f-be92-10cc24edf399",
   "metadata": {
    "id": "ef80655e-3002-4fab-a73c-d32fa25f3f66",
    "jp-MarkdownHeadingCollapsed": true
   },
   "source": [
    "### Avoid data redundancy (as much as possible):"
   ]
  },
  {
   "cell_type": "markdown",
   "id": "3335c36e-cb7e-4516-b651-64f13e9899b6",
   "metadata": {
    "id": "ef80655e-3002-4fab-a73c-d32fa25f3f66"
   },
   "source": [
    "- A data point not uncommonly occurs twice or more in real world data;\n",
    "- The risk is doing testing on data that was present in the training set;\n",
    "- **Ideally**, you have to ensure that the training and test sets are **disjoint**.\n",
    "\n",
    "*Good luck if you train on the entire Internet...  (⇀‸↼‶)*"
   ]
  },
  {
   "cell_type": "markdown",
   "id": "a6ce56cf-35b7-41f9-bc60-5c0d05a1cf71",
   "metadata": {
    "id": "1b7d1903-9f35-4497-8959-3301d545351d"
   },
   "source": [
    "---\n",
    "\n",
    "## 5.3 Improving model fit"
   ]
  },
  {
   "cell_type": "markdown",
   "id": "bd8a4a23-6289-491b-800c-fdfe383de222",
   "metadata": {
    "id": "1b7d1903-9f35-4497-8959-3301d545351d"
   },
   "source": [
    "One side of our problem is **not being able to fit** the data (we don't really encouter that here, but for larger datasets that will happen).\n",
    "\n",
    "Then, what we want is **increasing the power (capacity)** of our model."
   ]
  },
  {
   "cell_type": "markdown",
   "id": "25e4ba35-187a-4109-b69a-9a5695738fc2",
   "metadata": {
    "id": "80f73da3-3ca7-4dc6-971b-35112ac0b649"
   },
   "source": [
    "## 5.3.3 Increasing model capacity"
   ]
  },
  {
   "cell_type": "markdown",
   "id": "3fff8da7-31ce-4b8f-830f-dabf08282582",
   "metadata": {
    "id": "80f73da3-3ca7-4dc6-971b-35112ac0b649"
   },
   "source": [
    "Let's compare two models and their respective performance."
   ]
  },
  {
   "cell_type": "markdown",
   "id": "e4b35f1f-5f4d-4e9d-a052-b0a5602d7945",
   "metadata": {},
   "source": [
    "### Code: train"
   ]
  },
  {
   "cell_type": "code",
   "execution_count": 11,
   "id": "70e273c7",
   "metadata": {
    "colab": {
     "base_uri": "https://localhost:8080/"
    },
    "id": "70e273c7",
    "outputId": "f04c5bba-2ab7-4328-ee3a-f4441e66cdd0"
   },
   "outputs": [
    {
     "name": "stdout",
     "output_type": "stream",
     "text": [
      "Epoch 1/20\n",
      "\u001b[1m375/375\u001b[0m \u001b[32m━━━━━━━━━━━━━━━━━━━━\u001b[0m\u001b[37m\u001b[0m \u001b[1m2s\u001b[0m 4ms/step - accuracy: 0.1026 - loss: 2.3393 - val_accuracy: 0.0965 - val_loss: 2.3276\n",
      "Epoch 2/20\n",
      "\u001b[1m375/375\u001b[0m \u001b[32m━━━━━━━━━━━━━━━━━━━━\u001b[0m\u001b[37m\u001b[0m \u001b[1m1s\u001b[0m 2ms/step - accuracy: 0.1081 - loss: 2.3102 - val_accuracy: 0.1014 - val_loss: 2.3200\n",
      "Epoch 3/20\n",
      "\u001b[1m375/375\u001b[0m \u001b[32m━━━━━━━━━━━━━━━━━━━━\u001b[0m\u001b[37m\u001b[0m \u001b[1m1s\u001b[0m 2ms/step - accuracy: 0.1194 - loss: 2.3035 - val_accuracy: 0.1029 - val_loss: 2.3195\n",
      "Epoch 4/20\n",
      "\u001b[1m375/375\u001b[0m \u001b[32m━━━━━━━━━━━━━━━━━━━━\u001b[0m\u001b[37m\u001b[0m \u001b[1m1s\u001b[0m 2ms/step - accuracy: 0.1210 - loss: 2.3002 - val_accuracy: 0.1024 - val_loss: 2.3234\n",
      "Epoch 5/20\n",
      "\u001b[1m375/375\u001b[0m \u001b[32m━━━━━━━━━━━━━━━━━━━━\u001b[0m\u001b[37m\u001b[0m \u001b[1m1s\u001b[0m 2ms/step - accuracy: 0.1247 - loss: 2.2966 - val_accuracy: 0.0993 - val_loss: 2.3224\n",
      "Epoch 6/20\n",
      "\u001b[1m375/375\u001b[0m \u001b[32m━━━━━━━━━━━━━━━━━━━━\u001b[0m\u001b[37m\u001b[0m \u001b[1m1s\u001b[0m 3ms/step - accuracy: 0.1261 - loss: 2.2957 - val_accuracy: 0.1025 - val_loss: 2.3268\n",
      "Epoch 7/20\n",
      "\u001b[1m375/375\u001b[0m \u001b[32m━━━━━━━━━━━━━━━━━━━━\u001b[0m\u001b[37m\u001b[0m \u001b[1m1s\u001b[0m 3ms/step - accuracy: 0.1293 - loss: 2.2908 - val_accuracy: 0.0995 - val_loss: 2.3230\n",
      "Epoch 8/20\n",
      "\u001b[1m375/375\u001b[0m \u001b[32m━━━━━━━━━━━━━━━━━━━━\u001b[0m\u001b[37m\u001b[0m \u001b[1m1s\u001b[0m 2ms/step - accuracy: 0.1294 - loss: 2.2911 - val_accuracy: 0.1112 - val_loss: 2.3273\n",
      "Epoch 9/20\n",
      "\u001b[1m375/375\u001b[0m \u001b[32m━━━━━━━━━━━━━━━━━━━━\u001b[0m\u001b[37m\u001b[0m \u001b[1m1s\u001b[0m 2ms/step - accuracy: 0.1351 - loss: 2.2868 - val_accuracy: 0.1013 - val_loss: 2.3264\n",
      "Epoch 10/20\n",
      "\u001b[1m375/375\u001b[0m \u001b[32m━━━━━━━━━━━━━━━━━━━━\u001b[0m\u001b[37m\u001b[0m \u001b[1m1s\u001b[0m 2ms/step - accuracy: 0.1357 - loss: 2.2856 - val_accuracy: 0.1050 - val_loss: 2.3241\n",
      "Epoch 11/20\n",
      "\u001b[1m375/375\u001b[0m \u001b[32m━━━━━━━━━━━━━━━━━━━━\u001b[0m\u001b[37m\u001b[0m \u001b[1m1s\u001b[0m 2ms/step - accuracy: 0.1380 - loss: 2.2841 - val_accuracy: 0.1012 - val_loss: 2.3310\n",
      "Epoch 12/20\n",
      "\u001b[1m375/375\u001b[0m \u001b[32m━━━━━━━━━━━━━━━━━━━━\u001b[0m\u001b[37m\u001b[0m \u001b[1m1s\u001b[0m 2ms/step - accuracy: 0.1341 - loss: 2.2842 - val_accuracy: 0.0972 - val_loss: 2.3331\n",
      "Epoch 13/20\n",
      "\u001b[1m375/375\u001b[0m \u001b[32m━━━━━━━━━━━━━━━━━━━━\u001b[0m\u001b[37m\u001b[0m \u001b[1m1s\u001b[0m 2ms/step - accuracy: 0.1389 - loss: 2.2806 - val_accuracy: 0.0980 - val_loss: 2.3311\n",
      "Epoch 14/20\n",
      "\u001b[1m375/375\u001b[0m \u001b[32m━━━━━━━━━━━━━━━━━━━━\u001b[0m\u001b[37m\u001b[0m \u001b[1m1s\u001b[0m 2ms/step - accuracy: 0.1378 - loss: 2.2800 - val_accuracy: 0.0991 - val_loss: 2.3329\n",
      "Epoch 15/20\n",
      "\u001b[1m375/375\u001b[0m \u001b[32m━━━━━━━━━━━━━━━━━━━━\u001b[0m\u001b[37m\u001b[0m \u001b[1m2s\u001b[0m 3ms/step - accuracy: 0.1369 - loss: 2.2795 - val_accuracy: 0.0954 - val_loss: 2.3355\n",
      "Epoch 16/20\n",
      "\u001b[1m375/375\u001b[0m \u001b[32m━━━━━━━━━━━━━━━━━━━━\u001b[0m\u001b[37m\u001b[0m \u001b[1m1s\u001b[0m 3ms/step - accuracy: 0.1361 - loss: 2.2805 - val_accuracy: 0.0977 - val_loss: 2.3322\n",
      "Epoch 17/20\n",
      "\u001b[1m375/375\u001b[0m \u001b[32m━━━━━━━━━━━━━━━━━━━━\u001b[0m\u001b[37m\u001b[0m \u001b[1m1s\u001b[0m 2ms/step - accuracy: 0.1390 - loss: 2.2779 - val_accuracy: 0.0968 - val_loss: 2.3323\n",
      "Epoch 18/20\n",
      "\u001b[1m375/375\u001b[0m \u001b[32m━━━━━━━━━━━━━━━━━━━━\u001b[0m\u001b[37m\u001b[0m \u001b[1m1s\u001b[0m 3ms/step - accuracy: 0.1423 - loss: 2.2787 - val_accuracy: 0.1021 - val_loss: 2.3323\n",
      "Epoch 19/20\n",
      "\u001b[1m375/375\u001b[0m \u001b[32m━━━━━━━━━━━━━━━━━━━━\u001b[0m\u001b[37m\u001b[0m \u001b[1m1s\u001b[0m 3ms/step - accuracy: 0.1425 - loss: 2.2753 - val_accuracy: 0.1006 - val_loss: 2.3337\n",
      "Epoch 20/20\n",
      "\u001b[1m375/375\u001b[0m \u001b[32m━━━━━━━━━━━━━━━━━━━━\u001b[0m\u001b[37m\u001b[0m \u001b[1m1s\u001b[0m 2ms/step - accuracy: 0.1449 - loss: 2.2747 - val_accuracy: 0.1052 - val_loss: 2.3332\n"
     ]
    }
   ],
   "source": [
    "tf.keras.backend.clear_session()\n",
    "batch_size = 128\n",
    "\n",
    "model = tf.keras.Sequential([\n",
    "    tf.keras.layers.Dense(10, activation=\"softmax\") # ← ONE LAYER\n",
    "])\n",
    "model.compile(\n",
    "    optimizer=\"rmsprop\",\n",
    "    loss=\"sparse_categorical_crossentropy\",\n",
    "    metrics=[\"accuracy\"]\n",
    ")\n",
    "history_small_model = model.fit(\n",
    "    train_images, train_labels,\n",
    "    epochs=20,\n",
    "    batch_size=batch_size,\n",
    "    validation_split=0.2\n",
    ")\n",
    "del model"
   ]
  },
  {
   "cell_type": "code",
   "execution_count": 12,
   "id": "c67be564-864f-4b7c-ab11-ed2779e08046",
   "metadata": {
    "colab": {
     "base_uri": "https://localhost:8080/"
    },
    "id": "c67be564-864f-4b7c-ab11-ed2779e08046",
    "outputId": "d0b1c5cd-cf5a-48e5-8f27-92d9630abf92"
   },
   "outputs": [
    {
     "name": "stdout",
     "output_type": "stream",
     "text": [
      "Epoch 1/20\n",
      "\u001b[1m375/375\u001b[0m \u001b[32m━━━━━━━━━━━━━━━━━━━━\u001b[0m\u001b[37m\u001b[0m \u001b[1m3s\u001b[0m 4ms/step - accuracy: 0.1057 - loss: 2.3094 - val_accuracy: 0.1053 - val_loss: 2.3043\n",
      "Epoch 2/20\n",
      "\u001b[1m375/375\u001b[0m \u001b[32m━━━━━━━━━━━━━━━━━━━━\u001b[0m\u001b[37m\u001b[0m \u001b[1m1s\u001b[0m 2ms/step - accuracy: 0.1107 - loss: 2.3016 - val_accuracy: 0.1103 - val_loss: 2.3034\n",
      "Epoch 3/20\n",
      "\u001b[1m375/375\u001b[0m \u001b[32m━━━━━━━━━━━━━━━━━━━━\u001b[0m\u001b[37m\u001b[0m \u001b[1m1s\u001b[0m 2ms/step - accuracy: 0.1190 - loss: 2.2980 - val_accuracy: 0.1026 - val_loss: 2.3066\n",
      "Epoch 4/20\n",
      "\u001b[1m375/375\u001b[0m \u001b[32m━━━━━━━━━━━━━━━━━━━━\u001b[0m\u001b[37m\u001b[0m \u001b[1m1s\u001b[0m 2ms/step - accuracy: 0.1208 - loss: 2.2946 - val_accuracy: 0.1066 - val_loss: 2.3069\n",
      "Epoch 5/20\n",
      "\u001b[1m375/375\u001b[0m \u001b[32m━━━━━━━━━━━━━━━━━━━━\u001b[0m\u001b[37m\u001b[0m \u001b[1m1s\u001b[0m 2ms/step - accuracy: 0.1284 - loss: 2.2889 - val_accuracy: 0.1052 - val_loss: 2.3122\n",
      "Epoch 6/20\n",
      "\u001b[1m375/375\u001b[0m \u001b[32m━━━━━━━━━━━━━━━━━━━━\u001b[0m\u001b[37m\u001b[0m \u001b[1m1s\u001b[0m 2ms/step - accuracy: 0.1364 - loss: 2.2815 - val_accuracy: 0.1023 - val_loss: 2.3169\n",
      "Epoch 7/20\n",
      "\u001b[1m375/375\u001b[0m \u001b[32m━━━━━━━━━━━━━━━━━━━━\u001b[0m\u001b[37m\u001b[0m \u001b[1m2s\u001b[0m 3ms/step - accuracy: 0.1433 - loss: 2.2732 - val_accuracy: 0.1029 - val_loss: 2.3236\n",
      "Epoch 8/20\n",
      "\u001b[1m375/375\u001b[0m \u001b[32m━━━━━━━━━━━━━━━━━━━━\u001b[0m\u001b[37m\u001b[0m \u001b[1m1s\u001b[0m 3ms/step - accuracy: 0.1515 - loss: 2.2632 - val_accuracy: 0.0997 - val_loss: 2.3252\n",
      "Epoch 9/20\n",
      "\u001b[1m375/375\u001b[0m \u001b[32m━━━━━━━━━━━━━━━━━━━━\u001b[0m\u001b[37m\u001b[0m \u001b[1m2s\u001b[0m 5ms/step - accuracy: 0.1570 - loss: 2.2529 - val_accuracy: 0.0997 - val_loss: 2.3373\n",
      "Epoch 10/20\n",
      "\u001b[1m375/375\u001b[0m \u001b[32m━━━━━━━━━━━━━━━━━━━━\u001b[0m\u001b[37m\u001b[0m \u001b[1m2s\u001b[0m 4ms/step - accuracy: 0.1649 - loss: 2.2388 - val_accuracy: 0.1049 - val_loss: 2.3427\n",
      "Epoch 11/20\n",
      "\u001b[1m375/375\u001b[0m \u001b[32m━━━━━━━━━━━━━━━━━━━━\u001b[0m\u001b[37m\u001b[0m \u001b[1m3s\u001b[0m 5ms/step - accuracy: 0.1736 - loss: 2.2278 - val_accuracy: 0.1001 - val_loss: 2.3558\n",
      "Epoch 12/20\n",
      "\u001b[1m375/375\u001b[0m \u001b[32m━━━━━━━━━━━━━━━━━━━━\u001b[0m\u001b[37m\u001b[0m \u001b[1m1s\u001b[0m 4ms/step - accuracy: 0.1850 - loss: 2.2135 - val_accuracy: 0.1047 - val_loss: 2.3610\n",
      "Epoch 13/20\n",
      "\u001b[1m375/375\u001b[0m \u001b[32m━━━━━━━━━━━━━━━━━━━━\u001b[0m\u001b[37m\u001b[0m \u001b[1m2s\u001b[0m 2ms/step - accuracy: 0.1929 - loss: 2.2001 - val_accuracy: 0.1004 - val_loss: 2.3803\n",
      "Epoch 14/20\n",
      "\u001b[1m375/375\u001b[0m \u001b[32m━━━━━━━━━━━━━━━━━━━━\u001b[0m\u001b[37m\u001b[0m \u001b[1m2s\u001b[0m 3ms/step - accuracy: 0.2012 - loss: 2.1826 - val_accuracy: 0.1069 - val_loss: 2.3788\n",
      "Epoch 15/20\n",
      "\u001b[1m375/375\u001b[0m \u001b[32m━━━━━━━━━━━━━━━━━━━━\u001b[0m\u001b[37m\u001b[0m \u001b[1m1s\u001b[0m 2ms/step - accuracy: 0.2080 - loss: 2.1709 - val_accuracy: 0.1036 - val_loss: 2.4082\n",
      "Epoch 16/20\n",
      "\u001b[1m375/375\u001b[0m \u001b[32m━━━━━━━━━━━━━━━━━━━━\u001b[0m\u001b[37m\u001b[0m \u001b[1m1s\u001b[0m 2ms/step - accuracy: 0.2152 - loss: 2.1518 - val_accuracy: 0.1042 - val_loss: 2.4138\n",
      "Epoch 17/20\n",
      "\u001b[1m375/375\u001b[0m \u001b[32m━━━━━━━━━━━━━━━━━━━━\u001b[0m\u001b[37m\u001b[0m \u001b[1m1s\u001b[0m 2ms/step - accuracy: 0.2227 - loss: 2.1396 - val_accuracy: 0.1037 - val_loss: 2.4283\n",
      "Epoch 18/20\n",
      "\u001b[1m375/375\u001b[0m \u001b[32m━━━━━━━━━━━━━━━━━━━━\u001b[0m\u001b[37m\u001b[0m \u001b[1m1s\u001b[0m 2ms/step - accuracy: 0.2305 - loss: 2.1203 - val_accuracy: 0.1031 - val_loss: 2.4456\n",
      "Epoch 19/20\n",
      "\u001b[1m375/375\u001b[0m \u001b[32m━━━━━━━━━━━━━━━━━━━━\u001b[0m\u001b[37m\u001b[0m \u001b[1m1s\u001b[0m 2ms/step - accuracy: 0.2363 - loss: 2.1070 - val_accuracy: 0.1005 - val_loss: 2.4751\n",
      "Epoch 20/20\n",
      "\u001b[1m375/375\u001b[0m \u001b[32m━━━━━━━━━━━━━━━━━━━━\u001b[0m\u001b[37m\u001b[0m \u001b[1m1s\u001b[0m 2ms/step - accuracy: 0.2421 - loss: 2.0930 - val_accuracy: 0.1057 - val_loss: 2.4640\n"
     ]
    }
   ],
   "source": [
    "tf.keras.backend.clear_session()\n",
    "model = tf.keras.Sequential([\n",
    "    tf.keras.layers.Dense(96, activation=\"relu\"),    # ← THREE LAYERS, more neurons\n",
    "    tf.keras.layers.Dense(96, activation=\"relu\"),\n",
    "    tf.keras.layers.Dense(10, activation=\"softmax\"),\n",
    "])\n",
    "model.compile(\n",
    "    optimizer=\"rmsprop\",\n",
    "    loss=\"sparse_categorical_crossentropy\",\n",
    "    metrics=[\"accuracy\"]\n",
    ")\n",
    "history_large_model = model.fit(\n",
    "    train_images, train_labels,\n",
    "    epochs=20,\n",
    "    batch_size=batch_size,\n",
    "    validation_split=0.2\n",
    ")\n",
    "del model"
   ]
  },
  {
   "cell_type": "markdown",
   "id": "4058c02d-7dae-45e0-9c9b-f0588a259c30",
   "metadata": {},
   "source": [
    "### Code: plot"
   ]
  },
  {
   "cell_type": "code",
   "execution_count": 13,
   "id": "7766d0da-1599-472a-b872-f2f0aa667214",
   "metadata": {
    "id": "7766d0da-1599-472a-b872-f2f0aa667214"
   },
   "outputs": [],
   "source": [
    "def plot_two_losses(losses1, losses2, epochs=range(1,21), share_axes=False):\n",
    "    if share_axes:\n",
    "        fig, (ax1, ax2) = plt.subplots(nrows=1,ncols=2, constrained_layout=True, sharex=True, sharey=True, figsize=(10,4))\n",
    "    else:\n",
    "        fig, (ax1, ax2) = plt.subplots(nrows=1,ncols=2, constrained_layout=True, figsize=(10,4))\n",
    "\n",
    "    ax1.plot(epochs, losses1, \"b--\", label=\"Validation loss small\")\n",
    "    ax1.set_title(\"Effect of insufficient model capacity on validation loss\")\n",
    "    ax1.set_xlabel(\"Epochs\")\n",
    "    ax1.set_ylabel(\"Loss\")\n",
    "    ax1.legend()\n",
    "\n",
    "    ax2.plot(epochs, losses2, \"r--\", label=\"Validation loss large\")\n",
    "    ax2.set_title(\"Effect of sufficient model capacity on validation loss\")\n",
    "    ax2.set_xlabel(\"Epochs\")\n",
    "    ax2.set_ylabel(\"Loss\")\n",
    "    ax2.legend()\n",
    "    plt.show()"
   ]
  },
  {
   "cell_type": "markdown",
   "id": "73867e2e-360e-44af-ac62-e59d66fe86b6",
   "metadata": {},
   "source": [
    "#### First plots"
   ]
  },
  {
   "cell_type": "code",
   "execution_count": 14,
   "id": "be7a6833",
   "metadata": {
    "colab": {
     "base_uri": "https://localhost:8080/",
     "height": 428
    },
    "id": "be7a6833",
    "outputId": "239cef3f-040c-4909-92a3-c6c2553f77f2"
   },
   "outputs": [
    {
     "data": {
      "image/png": "[encoded data removed]",
      "text/plain": [
       "<Figure size 1000x400 with 2 Axes>"
      ]
     },
     "metadata": {},
     "output_type": "display_data"
    }
   ],
   "source": [
    "val_loss_small = history_small_model.history[\"val_loss\"]\n",
    "val_loss_large = history_large_model.history[\"val_loss\"]\n",
    "plot_two_losses(val_loss_small, val_loss_large)"
   ]
  },
  {
   "attachments": {},
   "cell_type": "markdown",
   "id": "211b5026-16c5-4aca-b2d8-a80a511dce36",
   "metadata": {
    "id": "927676a8"
   },
   "source": [
    "**Note: scale matters!**\n",
    "\n",
    "**Never** forget to keep the scales of the axes in mind! What we saw is a reproduction of what you find in DLWP, 141-2. However, if you force the axes to be at the same scale, the picture is somewhat different: you clearly see the insufficient capacity model stagnating, but your overfitting model is **overall better**! (You would need to train it longer to degrade the validation loss beyond what the simpler model does.)"
   ]
  },
  {
   "cell_type": "markdown",
   "id": "13c8f913-57b9-4d36-999f-4d1ea1b04bb4",
   "metadata": {},
   "source": [
    "#### Scaled plots"
   ]
  },
  {
   "cell_type": "code",
   "execution_count": 15,
   "id": "987db0cc",
   "metadata": {
    "colab": {
     "base_uri": "https://localhost:8080/",
     "height": 428
    },
    "id": "987db0cc",
    "outputId": "a591253c-b576-4e2e-b554-176b39e067b9"
   },
   "outputs": [
    {
     "data": {
      "image/png": "[encoded data removed]",
      "text/plain": [
       "<Figure size 1000x400 with 2 Axes>"
      ]
     },
     "metadata": {},
     "output_type": "display_data"
    }
   ],
   "source": [
    "val_loss_small = history_small_model.history[\"val_loss\"]\n",
    "val_loss_large = history_large_model.history[\"val_loss\"]\n",
    "plot_two_losses(val_loss_small, val_loss_large, share_axes=True)"
   ]
  },
  {
   "cell_type": "code",
   "execution_count": 16,
   "id": "d939533a",
   "metadata": {
    "id": "d939533a"
   },
   "outputs": [],
   "source": [
    "del train_images, train_labels"
   ]
  },
  {
   "cell_type": "markdown",
   "id": "9b96b8d0-77e6-4013-b4ec-1ff12fe83966",
   "metadata": {
    "id": "9610a8bc"
   },
   "source": [
    "---\n",
    "\n",
    "## 5.4 Improving generalisation"
   ]
  },
  {
   "cell_type": "markdown",
   "id": "4509dea6-c413-4c9e-ba75-2ed25dfe336e",
   "metadata": {
    "id": "9610a8bc"
   },
   "source": [
    "Once we are able to overfit, we want to make sure our gains will **remain valid on unseen data**.\n",
    "\n",
    "That's the other side of our problem.\n",
    "\n",
    "What we aim for is a *middle ground* between performing on known *and* unknown data!"
   ]
  },
  {
   "cell_type": "markdown",
   "id": "8b2d2bd2-5cb3-4495-86a8-0ada759010f8",
   "metadata": {
    "id": "9b9b4b36"
   },
   "source": [
    "## 5.4.1 Dataset curation"
   ]
  },
  {
   "cell_type": "markdown",
   "id": "b0b31e5c-f813-4c17-b697-12101ac9fb51",
   "metadata": {
    "id": "9b9b4b36"
   },
   "source": [
    "- **More data is better!** Make sure you have enough data.\n",
    "- Minimize labeling errors: visualize your inputs to check for anomalies, and proofread your labels.  \n",
    "  **Knowing your data well will help you!**\n",
    "- Clean your data and deal with missing values.  \n",
    "  (Beware! Real data in production might not be clean... → not the same distribution!)\n",
    "- Look at your **features**, remove useless ones if necessary."
   ]
  },
  {
   "cell_type": "markdown",
   "id": "fcdd15a9-a61f-4044-b85f-ec6e57f2b35c",
   "metadata": {
    "id": "6006d7b7-1bd4-40f3-bc7f-c6ac23e17724"
   },
   "source": [
    "## 5.4.2 Feature engineering"
   ]
  },
  {
   "cell_type": "markdown",
   "id": "29974a99-ceed-457d-82b8-a7424be3c72b",
   "metadata": {
    "id": "6006d7b7-1bd4-40f3-bc7f-c6ac23e17724"
   },
   "source": [
    "Feature engineering is data preprocessing in the light of human knowledge of the data and the workings of a neural network.\n",
    "\n",
    "Feature engineering was critical pre-DL since shallow networks do not have a large hypothesis space.\n",
    "\n",
    "DL networks, thanks to their large hypothesis space, are less dependent on feature engineering."
   ]
  },
  {
   "cell_type": "markdown",
   "id": "2ba973d6-b588-422d-ab8d-db38c4ad57ce",
   "metadata": {
    "id": "2ba973d6-b588-422d-ab8d-db38c4ad57ce"
   },
   "source": [
    "Feature engineering can still relevant because it helps us to solve problems cheaply and elegantly and with less data.\n",
    "\n",
    "The smaller the training set, the greater the need for feature engineering.\n",
    "\n",
    "The opposite is usually true: **if you work at scale, feature engineering tends to lose out**."
   ]
  },
  {
   "cell_type": "markdown",
   "id": "351f65e3-c7e0-4823-bc3e-4c828bd9dc9d",
   "metadata": {
    "id": "68022108-7e65-4dc1-a2e2-11b485c3f70f"
   },
   "source": [
    "### Example: learning to tell the time"
   ]
  },
  {
   "cell_type": "markdown",
   "id": "429cdd9a-7fd3-42b8-8544-099b77951880",
   "metadata": {
    "id": "68022108-7e65-4dc1-a2e2-11b485c3f70f"
   },
   "source": [
    "- suppose the input data is a pixel map of a clock face;\n",
    "\n",
    "- this is a difficult machine learning task;\n",
    "\n",
    "- requires convolutional nets and a vast data set of clock faces."
   ]
  },
  {
   "cell_type": "markdown",
   "id": "2ecc0055-8f80-4428-9b53-f225c4318b11",
   "metadata": {
    "id": "2ecc0055-8f80-4428-9b53-f225c4318b11"
   },
   "source": [
    "- Feature engineering might extract the x, y coordinates of the hands;\n",
    "\n",
    "- the problem then becomes tractable;\n",
    "\n",
    "- in fact the problem can be solved by a formula – the angle of the hands."
   ]
  },
  {
   "cell_type": "markdown",
   "id": "d5c7ed35-d3d4-4174-aa6f-5d561b1afe2c",
   "metadata": {
    "id": "d5c7ed35-d3d4-4174-aa6f-5d561b1afe2c"
   },
   "source": [
    "<!-- ![Chollet features time](images/chollet.features-time.png) -->\n",
    "<img src=\"https://github.com/jchwenger/AI/blob/main/4-fundamentals/images/chollet.features-time.png?raw=true\">\n",
    "\n",
    "\n",
    "<small>DLWP, p.143</small>"
   ]
  },
  {
   "cell_type": "markdown",
   "id": "64eff790-f045-4c24-b9e0-af8540f7b8e2",
   "metadata": {
    "id": "a72a6e64-480e-47dd-9b6a-d6e41164215c"
   },
   "source": [
    "---\n",
    "\n",
    "## 5.4.3 Using early stopping"
   ]
  },
  {
   "cell_type": "markdown",
   "id": "788fdcaa-e768-4230-aa05-9a06e6be43b6",
   "metadata": {
    "id": "a72a6e64-480e-47dd-9b6a-d6e41164215c"
   },
   "source": [
    "Deep learning models are most of the time (very) **overparameterised**.\n",
    "\n",
    "They have way more parameters (degrees of freedom) than what is needed to fit the data.\n",
    "\n",
    "This is not a problem, as we *don't fit the data perfectly*."
   ]
  },
  {
   "cell_type": "markdown",
   "id": "e2820eac-4f76-4e01-9c6b-a3b3f364dd3a",
   "metadata": {
    "id": "a72a6e64-480e-47dd-9b6a-d6e41164215c"
   },
   "source": [
    "---\n",
    "\n",
    "## 5.4.4 Regularising your model"
   ]
  },
  {
   "cell_type": "markdown",
   "id": "7c42ea08-6611-41d8-acfc-bf34c518bcd6",
   "metadata": {
    "id": "6bfea83a-20b2-4682-b60c-b9c195f6ae80"
   },
   "source": [
    "Our experience with classification of movie reviews and newswires shows that model performance on validation data peaks and then decreases with training.\n",
    "\n",
    "Because of this, we seek a balance between:\n",
    "- **optimisation** (of training data) and\n",
    "- **generalisation** (to test data)."
   ]
  },
  {
   "cell_type": "markdown",
   "id": "9ce7623a-a0f1-4000-98fd-9d6b6eabb115",
   "metadata": {
    "id": "ca1b1208-e52f-477a-b91f-8bac2c55718c"
   },
   "source": [
    "### Data: More Is More!"
   ]
  },
  {
   "attachments": {},
   "cell_type": "markdown",
   "id": "8b21de48-eadb-469b-b038-f7e6c7092cde",
   "metadata": {
    "id": "ca1b1208-e52f-477a-b91f-8bac2c55718c"
   },
   "source": [
    "Often the easiest, and almost always the best remedy to overfitting is to find **more training data**.\n",
    "\n",
    "**Note: limited data?**\n",
    "\n",
    "*We need solutions for when the data is limited. (；⌣̀_⌣́ )*\n",
    "\n",
    "**Note: what if we underfit?**\n",
    "\n",
    "More data won't help you if you **underfit**!"
   ]
  },
  {
   "cell_type": "markdown",
   "id": "2a818967-c1df-4212-afdd-91a57e51b132",
   "metadata": {
    "id": "7147ada1-4f6f-48ac-8fee-f12eb8882519"
   },
   "source": [
    "### More regularisation techniques"
   ]
  },
  {
   "cell_type": "markdown",
   "id": "b5bfda00-e7a1-4766-8046-9d63349e6126",
   "metadata": {
    "id": "7147ada1-4f6f-48ac-8fee-f12eb8882519"
   },
   "source": [
    "-  network size/capacity reduction\n",
    "-  weight regularisation (L1/L2)\n",
    "-  dropout"
   ]
  },
  {
   "cell_type": "markdown",
   "id": "61a697dc-da90-48e9-95f6-77293b2cc708",
   "metadata": {
    "id": "542be60d-2026-4e59-96b8-9324e25514f8"
   },
   "source": [
    "### 1. Reducing the network’s size"
   ]
  },
  {
   "cell_type": "markdown",
   "id": "2467d785-f287-4d41-b3f3-760ec27d5e09",
   "metadata": {},
   "source": [
    "#### Finding the right capacity"
   ]
  },
  {
   "attachments": {},
   "cell_type": "markdown",
   "id": "7d4a70ad-5b6d-4857-8c2f-0d5bc6770d4e",
   "metadata": {
    "id": "70d94090-d631-41cc-aab2-d0c15e5bb3b8"
   },
   "source": [
    "Network **capacity** is simply the number of learnable  parameters (weight and bias parameters).\n",
    "\n",
    "Between a low capacity model, likely to **underfit** our training data, and a high capacity one, that **fits the training data perfectly and fails to generalise**, there might be one that is just right!\n",
    "\n",
    "The goal is a model with *sufficient but limited* capacity.\n",
    "\n",
    "Such a model will be forced to learn **compressed representations** (the **underlying manifold**) – which then gives it predictive power.\n",
    "\n",
    "The ideal number of layers and number of units in each layer is unknowable in advance ."
   ]
  },
  {
   "cell_type": "markdown",
   "id": "c355978d-2f3c-4844-a7e3-b20ea7263f6e",
   "metadata": {
    "id": "70d94090-d631-41cc-aab2-d0c15e5bb3b8"
   },
   "source": [
    "#### Workflow"
   ]
  },
  {
   "cell_type": "markdown",
   "id": "fd9d77fc-4788-4acc-9ef5-19d80e5a4cb8",
   "metadata": {
    "id": "70d94090-d631-41cc-aab2-d0c15e5bb3b8"
   },
   "source": [
    "- Start with a low capacity model and\n",
    "- increase capacity until validation gains flatten out."
   ]
  },
  {
   "cell_type": "markdown",
   "id": "98afc6ec-3113-4cb1-946f-8361f66ca7f4",
   "metadata": {},
   "source": [
    "#### Code: train three nets of different sizes"
   ]
  },
  {
   "cell_type": "markdown",
   "id": "a7b01fb2-946f-4da0-b22d-399474ed7c74",
   "metadata": {
    "id": "a7b01fb2-946f-4da0-b22d-399474ed7c74"
   },
   "source": [
    "Let's compare a small and a large network to the original IMDB network.\n",
    "\n",
    "A three layer model building function. Two `relu` layers followed by a `sigmoid` layer for the output of a probability."
   ]
  },
  {
   "cell_type": "code",
   "execution_count": 17,
   "id": "7b873f49-6791-41f7-94e8-d379892cc474",
   "metadata": {
    "id": "7b873f49-6791-41f7-94e8-d379892cc474"
   },
   "outputs": [],
   "source": [
    "def build_model(layer_1_units, layer_2_units, layer_3_units, clear=True):\n",
    "    if clear: # O gods of GPU memory, have mercy upon us\n",
    "        tf.keras.backend.clear_session()\n",
    "    model = tf.keras.models.Sequential()\n",
    "    model.add(tf.keras.Input((10000,)))\n",
    "    model.add(tf.keras.layers.Dense(layer_1_units, activation='relu'))\n",
    "    model.add(tf.keras.layers.Dense(layer_2_units, activation='relu'))\n",
    "    model.add(tf.keras.layers.Dense(layer_3_units, activation='sigmoid'))\n",
    "    model.compile(\n",
    "        optimizer='rmsprop',\n",
    "        loss='binary_crossentropy',\n",
    "        metrics=['acc']\n",
    "    )\n",
    "    return model"
   ]
  },
  {
   "cell_type": "markdown",
   "id": "7a4b8d28",
   "metadata": {
    "id": "7a4b8d28"
   },
   "source": [
    "The original network. 160,305 trainable parameters."
   ]
  },
  {
   "cell_type": "code",
   "execution_count": 18,
   "id": "eea4ed02-0352-4cee-8b85-460e70aa8ecb",
   "metadata": {
    "colab": {
     "base_uri": "https://localhost:8080/",
     "height": 232
    },
    "id": "eea4ed02-0352-4cee-8b85-460e70aa8ecb",
    "outputId": "85105643-4409-49b7-e256-6ac8de5b6664"
   },
   "outputs": [
    {
     "data": {
      "text/html": [
       "<pre style=\"white-space:pre;overflow-x:auto;line-height:normal;font-family:Menlo,'DejaVu Sans Mono',consolas,'Courier New',monospace\"><span style=\"font-weight: bold\">Model: \"sequential\"</span>\n",
       "</pre>\n"
      ],
      "text/plain": [
       "\u001b[1mModel: \"sequential\"\u001b[0m\n"
      ]
     },
     "metadata": {},
     "output_type": "display_data"
    },
    {
     "data": {
      "text/html": [
       "<pre style=\"white-space:pre;overflow-x:auto;line-height:normal;font-family:Menlo,'DejaVu Sans Mono',consolas,'Courier New',monospace\">┏━━━━━━━━━━━━━━━━━━━━━━━━━━━━━━━━━━━━━━┳━━━━━━━━━━━━━━━━━━━━━━━━━━━━━┳━━━━━━━━━━━━━━━━━┓\n",
       "┃<span style=\"font-weight: bold\"> Layer (type)                         </span>┃<span style=\"font-weight: bold\"> Output Shape                </span>┃<span style=\"font-weight: bold\">         Param # </span>┃\n",
       "┡━━━━━━━━━━━━━━━━━━━━━━━━━━━━━━━━━━━━━━╇━━━━━━━━━━━━━━━━━━━━━━━━━━━━━╇━━━━━━━━━━━━━━━━━┩\n",
       "│ dense (<span style=\"color: #0087ff; text-decoration-color: #0087ff\">Dense</span>)                        │ (<span style=\"color: #00d7ff; text-decoration-color: #00d7ff\">None</span>, <span style=\"color: #00af00; text-decoration-color: #00af00\">16</span>)                  │         <span style=\"color: #00af00; text-decoration-color: #00af00\">160,016</span> │\n",
       "├──────────────────────────────────────┼─────────────────────────────┼─────────────────┤\n",
       "│ dense_1 (<span style=\"color: #0087ff; text-decoration-color: #0087ff\">Dense</span>)                      │ (<span style=\"color: #00d7ff; text-decoration-color: #00d7ff\">None</span>, <span style=\"color: #00af00; text-decoration-color: #00af00\">16</span>)                  │             <span style=\"color: #00af00; text-decoration-color: #00af00\">272</span> │\n",
       "├──────────────────────────────────────┼─────────────────────────────┼─────────────────┤\n",
       "│ dense_2 (<span style=\"color: #0087ff; text-decoration-color: #0087ff\">Dense</span>)                      │ (<span style=\"color: #00d7ff; text-decoration-color: #00d7ff\">None</span>, <span style=\"color: #00af00; text-decoration-color: #00af00\">1</span>)                   │              <span style=\"color: #00af00; text-decoration-color: #00af00\">17</span> │\n",
       "└──────────────────────────────────────┴─────────────────────────────┴─────────────────┘\n",
       "</pre>\n"
      ],
      "text/plain": [
       "┏━━━━━━━━━━━━━━━━━━━━━━━━━━━━━━━━━━━━━━┳━━━━━━━━━━━━━━━━━━━━━━━━━━━━━┳━━━━━━━━━━━━━━━━━┓\n",
       "┃\u001b[1m \u001b[0m\u001b[1mLayer (type)                        \u001b[0m\u001b[1m \u001b[0m┃\u001b[1m \u001b[0m\u001b[1mOutput Shape               \u001b[0m\u001b[1m \u001b[0m┃\u001b[1m \u001b[0m\u001b[1m        Param #\u001b[0m\u001b[1m \u001b[0m┃\n",
       "┡━━━━━━━━━━━━━━━━━━━━━━━━━━━━━━━━━━━━━━╇━━━━━━━━━━━━━━━━━━━━━━━━━━━━━╇━━━━━━━━━━━━━━━━━┩\n",
       "│ dense (\u001b[38;5;33mDense\u001b[0m)                        │ (\u001b[38;5;45mNone\u001b[0m, \u001b[38;5;34m16\u001b[0m)                  │         \u001b[38;5;34m160,016\u001b[0m │\n",
       "├──────────────────────────────────────┼─────────────────────────────┼─────────────────┤\n",
       "│ dense_1 (\u001b[38;5;33mDense\u001b[0m)                      │ (\u001b[38;5;45mNone\u001b[0m, \u001b[38;5;34m16\u001b[0m)                  │             \u001b[38;5;34m272\u001b[0m │\n",
       "├──────────────────────────────────────┼─────────────────────────────┼─────────────────┤\n",
       "│ dense_2 (\u001b[38;5;33mDense\u001b[0m)                      │ (\u001b[38;5;45mNone\u001b[0m, \u001b[38;5;34m1\u001b[0m)                   │              \u001b[38;5;34m17\u001b[0m │\n",
       "└──────────────────────────────────────┴─────────────────────────────┴─────────────────┘\n"
      ]
     },
     "metadata": {},
     "output_type": "display_data"
    },
    {
     "data": {
      "text/html": [
       "<pre style=\"white-space:pre;overflow-x:auto;line-height:normal;font-family:Menlo,'DejaVu Sans Mono',consolas,'Courier New',monospace\"><span style=\"font-weight: bold\"> Total params: </span><span style=\"color: #00af00; text-decoration-color: #00af00\">160,305</span> (626.19 KB)\n",
       "</pre>\n"
      ],
      "text/plain": [
       "\u001b[1m Total params: \u001b[0m\u001b[38;5;34m160,305\u001b[0m (626.19 KB)\n"
      ]
     },
     "metadata": {},
     "output_type": "display_data"
    },
    {
     "data": {
      "text/html": [
       "<pre style=\"white-space:pre;overflow-x:auto;line-height:normal;font-family:Menlo,'DejaVu Sans Mono',consolas,'Courier New',monospace\"><span style=\"font-weight: bold\"> Trainable params: </span><span style=\"color: #00af00; text-decoration-color: #00af00\">160,305</span> (626.19 KB)\n",
       "</pre>\n"
      ],
      "text/plain": [
       "\u001b[1m Trainable params: \u001b[0m\u001b[38;5;34m160,305\u001b[0m (626.19 KB)\n"
      ]
     },
     "metadata": {},
     "output_type": "display_data"
    },
    {
     "data": {
      "text/html": [
       "<pre style=\"white-space:pre;overflow-x:auto;line-height:normal;font-family:Menlo,'DejaVu Sans Mono',consolas,'Courier New',monospace\"><span style=\"font-weight: bold\"> Non-trainable params: </span><span style=\"color: #00af00; text-decoration-color: #00af00\">0</span> (0.00 B)\n",
       "</pre>\n"
      ],
      "text/plain": [
       "\u001b[1m Non-trainable params: \u001b[0m\u001b[38;5;34m0\u001b[0m (0.00 B)\n"
      ]
     },
     "metadata": {},
     "output_type": "display_data"
    }
   ],
   "source": [
    "model = build_model(16, 16, 1)\n",
    "model.summary()\n",
    "del model"
   ]
  },
  {
   "cell_type": "markdown",
   "id": "9ecca190",
   "metadata": {
    "id": "9ecca190"
   },
   "source": [
    "A small (low capacity) network with about one quarter the capacity of the original network."
   ]
  },
  {
   "cell_type": "code",
   "execution_count": 19,
   "id": "b51f8a24-d664-47a0-b60d-daf74bfbd08d",
   "metadata": {
    "colab": {
     "base_uri": "https://localhost:8080/",
     "height": 232
    },
    "id": "b51f8a24-d664-47a0-b60d-daf74bfbd08d",
    "outputId": "9457b843-5a4d-4150-c9e9-54da7eb763d1"
   },
   "outputs": [
    {
     "data": {
      "text/html": [
       "<pre style=\"white-space:pre;overflow-x:auto;line-height:normal;font-family:Menlo,'DejaVu Sans Mono',consolas,'Courier New',monospace\"><span style=\"font-weight: bold\">Model: \"sequential\"</span>\n",
       "</pre>\n"
      ],
      "text/plain": [
       "\u001b[1mModel: \"sequential\"\u001b[0m\n"
      ]
     },
     "metadata": {},
     "output_type": "display_data"
    },
    {
     "data": {
      "text/html": [
       "<pre style=\"white-space:pre;overflow-x:auto;line-height:normal;font-family:Menlo,'DejaVu Sans Mono',consolas,'Courier New',monospace\">┏━━━━━━━━━━━━━━━━━━━━━━━━━━━━━━━━━━━━━━┳━━━━━━━━━━━━━━━━━━━━━━━━━━━━━┳━━━━━━━━━━━━━━━━━┓\n",
       "┃<span style=\"font-weight: bold\"> Layer (type)                         </span>┃<span style=\"font-weight: bold\"> Output Shape                </span>┃<span style=\"font-weight: bold\">         Param # </span>┃\n",
       "┡━━━━━━━━━━━━━━━━━━━━━━━━━━━━━━━━━━━━━━╇━━━━━━━━━━━━━━━━━━━━━━━━━━━━━╇━━━━━━━━━━━━━━━━━┩\n",
       "│ dense (<span style=\"color: #0087ff; text-decoration-color: #0087ff\">Dense</span>)                        │ (<span style=\"color: #00d7ff; text-decoration-color: #00d7ff\">None</span>, <span style=\"color: #00af00; text-decoration-color: #00af00\">4</span>)                   │          <span style=\"color: #00af00; text-decoration-color: #00af00\">40,004</span> │\n",
       "├──────────────────────────────────────┼─────────────────────────────┼─────────────────┤\n",
       "│ dense_1 (<span style=\"color: #0087ff; text-decoration-color: #0087ff\">Dense</span>)                      │ (<span style=\"color: #00d7ff; text-decoration-color: #00d7ff\">None</span>, <span style=\"color: #00af00; text-decoration-color: #00af00\">4</span>)                   │              <span style=\"color: #00af00; text-decoration-color: #00af00\">20</span> │\n",
       "├──────────────────────────────────────┼─────────────────────────────┼─────────────────┤\n",
       "│ dense_2 (<span style=\"color: #0087ff; text-decoration-color: #0087ff\">Dense</span>)                      │ (<span style=\"color: #00d7ff; text-decoration-color: #00d7ff\">None</span>, <span style=\"color: #00af00; text-decoration-color: #00af00\">1</span>)                   │               <span style=\"color: #00af00; text-decoration-color: #00af00\">5</span> │\n",
       "└──────────────────────────────────────┴─────────────────────────────┴─────────────────┘\n",
       "</pre>\n"
      ],
      "text/plain": [
       "┏━━━━━━━━━━━━━━━━━━━━━━━━━━━━━━━━━━━━━━┳━━━━━━━━━━━━━━━━━━━━━━━━━━━━━┳━━━━━━━━━━━━━━━━━┓\n",
       "┃\u001b[1m \u001b[0m\u001b[1mLayer (type)                        \u001b[0m\u001b[1m \u001b[0m┃\u001b[1m \u001b[0m\u001b[1mOutput Shape               \u001b[0m\u001b[1m \u001b[0m┃\u001b[1m \u001b[0m\u001b[1m        Param #\u001b[0m\u001b[1m \u001b[0m┃\n",
       "┡━━━━━━━━━━━━━━━━━━━━━━━━━━━━━━━━━━━━━━╇━━━━━━━━━━━━━━━━━━━━━━━━━━━━━╇━━━━━━━━━━━━━━━━━┩\n",
       "│ dense (\u001b[38;5;33mDense\u001b[0m)                        │ (\u001b[38;5;45mNone\u001b[0m, \u001b[38;5;34m4\u001b[0m)                   │          \u001b[38;5;34m40,004\u001b[0m │\n",
       "├──────────────────────────────────────┼─────────────────────────────┼─────────────────┤\n",
       "│ dense_1 (\u001b[38;5;33mDense\u001b[0m)                      │ (\u001b[38;5;45mNone\u001b[0m, \u001b[38;5;34m4\u001b[0m)                   │              \u001b[38;5;34m20\u001b[0m │\n",
       "├──────────────────────────────────────┼─────────────────────────────┼─────────────────┤\n",
       "│ dense_2 (\u001b[38;5;33mDense\u001b[0m)                      │ (\u001b[38;5;45mNone\u001b[0m, \u001b[38;5;34m1\u001b[0m)                   │               \u001b[38;5;34m5\u001b[0m │\n",
       "└──────────────────────────────────────┴─────────────────────────────┴─────────────────┘\n"
      ]
     },
     "metadata": {},
     "output_type": "display_data"
    },
    {
     "data": {
      "text/html": [
       "<pre style=\"white-space:pre;overflow-x:auto;line-height:normal;font-family:Menlo,'DejaVu Sans Mono',consolas,'Courier New',monospace\"><span style=\"font-weight: bold\"> Total params: </span><span style=\"color: #00af00; text-decoration-color: #00af00\">40,029</span> (156.36 KB)\n",
       "</pre>\n"
      ],
      "text/plain": [
       "\u001b[1m Total params: \u001b[0m\u001b[38;5;34m40,029\u001b[0m (156.36 KB)\n"
      ]
     },
     "metadata": {},
     "output_type": "display_data"
    },
    {
     "data": {
      "text/html": [
       "<pre style=\"white-space:pre;overflow-x:auto;line-height:normal;font-family:Menlo,'DejaVu Sans Mono',consolas,'Courier New',monospace\"><span style=\"font-weight: bold\"> Trainable params: </span><span style=\"color: #00af00; text-decoration-color: #00af00\">40,029</span> (156.36 KB)\n",
       "</pre>\n"
      ],
      "text/plain": [
       "\u001b[1m Trainable params: \u001b[0m\u001b[38;5;34m40,029\u001b[0m (156.36 KB)\n"
      ]
     },
     "metadata": {},
     "output_type": "display_data"
    },
    {
     "data": {
      "text/html": [
       "<pre style=\"white-space:pre;overflow-x:auto;line-height:normal;font-family:Menlo,'DejaVu Sans Mono',consolas,'Courier New',monospace\"><span style=\"font-weight: bold\"> Non-trainable params: </span><span style=\"color: #00af00; text-decoration-color: #00af00\">0</span> (0.00 B)\n",
       "</pre>\n"
      ],
      "text/plain": [
       "\u001b[1m Non-trainable params: \u001b[0m\u001b[38;5;34m0\u001b[0m (0.00 B)\n"
      ]
     },
     "metadata": {},
     "output_type": "display_data"
    }
   ],
   "source": [
    "model = build_model(4, 4, 1)\n",
    "model.summary()\n",
    "del model"
   ]
  },
  {
   "cell_type": "markdown",
   "id": "99b9d457",
   "metadata": {
    "id": "99b9d457"
   },
   "source": [
    "A larger (high capacity) network – 32 times original capacity."
   ]
  },
  {
   "cell_type": "code",
   "execution_count": 20,
   "id": "34ed8630-2a3b-414c-8dec-f54e0eb121c4",
   "metadata": {
    "colab": {
     "base_uri": "https://localhost:8080/",
     "height": 232
    },
    "id": "34ed8630-2a3b-414c-8dec-f54e0eb121c4",
    "outputId": "456aecb9-9bba-4acd-cf6d-15cd31aa3d3e"
   },
   "outputs": [
    {
     "data": {
      "text/html": [
       "<pre style=\"white-space:pre;overflow-x:auto;line-height:normal;font-family:Menlo,'DejaVu Sans Mono',consolas,'Courier New',monospace\"><span style=\"font-weight: bold\">Model: \"sequential\"</span>\n",
       "</pre>\n"
      ],
      "text/plain": [
       "\u001b[1mModel: \"sequential\"\u001b[0m\n"
      ]
     },
     "metadata": {},
     "output_type": "display_data"
    },
    {
     "data": {
      "text/html": [
       "<pre style=\"white-space:pre;overflow-x:auto;line-height:normal;font-family:Menlo,'DejaVu Sans Mono',consolas,'Courier New',monospace\">┏━━━━━━━━━━━━━━━━━━━━━━━━━━━━━━━━━━━━━━┳━━━━━━━━━━━━━━━━━━━━━━━━━━━━━┳━━━━━━━━━━━━━━━━━┓\n",
       "┃<span style=\"font-weight: bold\"> Layer (type)                         </span>┃<span style=\"font-weight: bold\"> Output Shape                </span>┃<span style=\"font-weight: bold\">         Param # </span>┃\n",
       "┡━━━━━━━━━━━━━━━━━━━━━━━━━━━━━━━━━━━━━━╇━━━━━━━━━━━━━━━━━━━━━━━━━━━━━╇━━━━━━━━━━━━━━━━━┩\n",
       "│ dense (<span style=\"color: #0087ff; text-decoration-color: #0087ff\">Dense</span>)                        │ (<span style=\"color: #00d7ff; text-decoration-color: #00d7ff\">None</span>, <span style=\"color: #00af00; text-decoration-color: #00af00\">512</span>)                 │       <span style=\"color: #00af00; text-decoration-color: #00af00\">5,120,512</span> │\n",
       "├──────────────────────────────────────┼─────────────────────────────┼─────────────────┤\n",
       "│ dense_1 (<span style=\"color: #0087ff; text-decoration-color: #0087ff\">Dense</span>)                      │ (<span style=\"color: #00d7ff; text-decoration-color: #00d7ff\">None</span>, <span style=\"color: #00af00; text-decoration-color: #00af00\">512</span>)                 │         <span style=\"color: #00af00; text-decoration-color: #00af00\">262,656</span> │\n",
       "├──────────────────────────────────────┼─────────────────────────────┼─────────────────┤\n",
       "│ dense_2 (<span style=\"color: #0087ff; text-decoration-color: #0087ff\">Dense</span>)                      │ (<span style=\"color: #00d7ff; text-decoration-color: #00d7ff\">None</span>, <span style=\"color: #00af00; text-decoration-color: #00af00\">1</span>)                   │             <span style=\"color: #00af00; text-decoration-color: #00af00\">513</span> │\n",
       "└──────────────────────────────────────┴─────────────────────────────┴─────────────────┘\n",
       "</pre>\n"
      ],
      "text/plain": [
       "┏━━━━━━━━━━━━━━━━━━━━━━━━━━━━━━━━━━━━━━┳━━━━━━━━━━━━━━━━━━━━━━━━━━━━━┳━━━━━━━━━━━━━━━━━┓\n",
       "┃\u001b[1m \u001b[0m\u001b[1mLayer (type)                        \u001b[0m\u001b[1m \u001b[0m┃\u001b[1m \u001b[0m\u001b[1mOutput Shape               \u001b[0m\u001b[1m \u001b[0m┃\u001b[1m \u001b[0m\u001b[1m        Param #\u001b[0m\u001b[1m \u001b[0m┃\n",
       "┡━━━━━━━━━━━━━━━━━━━━━━━━━━━━━━━━━━━━━━╇━━━━━━━━━━━━━━━━━━━━━━━━━━━━━╇━━━━━━━━━━━━━━━━━┩\n",
       "│ dense (\u001b[38;5;33mDense\u001b[0m)                        │ (\u001b[38;5;45mNone\u001b[0m, \u001b[38;5;34m512\u001b[0m)                 │       \u001b[38;5;34m5,120,512\u001b[0m │\n",
       "├──────────────────────────────────────┼─────────────────────────────┼─────────────────┤\n",
       "│ dense_1 (\u001b[38;5;33mDense\u001b[0m)                      │ (\u001b[38;5;45mNone\u001b[0m, \u001b[38;5;34m512\u001b[0m)                 │         \u001b[38;5;34m262,656\u001b[0m │\n",
       "├──────────────────────────────────────┼─────────────────────────────┼─────────────────┤\n",
       "│ dense_2 (\u001b[38;5;33mDense\u001b[0m)                      │ (\u001b[38;5;45mNone\u001b[0m, \u001b[38;5;34m1\u001b[0m)                   │             \u001b[38;5;34m513\u001b[0m │\n",
       "└──────────────────────────────────────┴─────────────────────────────┴─────────────────┘\n"
      ]
     },
     "metadata": {},
     "output_type": "display_data"
    },
    {
     "data": {
      "text/html": [
       "<pre style=\"white-space:pre;overflow-x:auto;line-height:normal;font-family:Menlo,'DejaVu Sans Mono',consolas,'Courier New',monospace\"><span style=\"font-weight: bold\"> Total params: </span><span style=\"color: #00af00; text-decoration-color: #00af00\">5,383,681</span> (20.54 MB)\n",
       "</pre>\n"
      ],
      "text/plain": [
       "\u001b[1m Total params: \u001b[0m\u001b[38;5;34m5,383,681\u001b[0m (20.54 MB)\n"
      ]
     },
     "metadata": {},
     "output_type": "display_data"
    },
    {
     "data": {
      "text/html": [
       "<pre style=\"white-space:pre;overflow-x:auto;line-height:normal;font-family:Menlo,'DejaVu Sans Mono',consolas,'Courier New',monospace\"><span style=\"font-weight: bold\"> Trainable params: </span><span style=\"color: #00af00; text-decoration-color: #00af00\">5,383,681</span> (20.54 MB)\n",
       "</pre>\n"
      ],
      "text/plain": [
       "\u001b[1m Trainable params: \u001b[0m\u001b[38;5;34m5,383,681\u001b[0m (20.54 MB)\n"
      ]
     },
     "metadata": {},
     "output_type": "display_data"
    },
    {
     "data": {
      "text/html": [
       "<pre style=\"white-space:pre;overflow-x:auto;line-height:normal;font-family:Menlo,'DejaVu Sans Mono',consolas,'Courier New',monospace\"><span style=\"font-weight: bold\"> Non-trainable params: </span><span style=\"color: #00af00; text-decoration-color: #00af00\">0</span> (0.00 B)\n",
       "</pre>\n"
      ],
      "text/plain": [
       "\u001b[1m Non-trainable params: \u001b[0m\u001b[38;5;34m0\u001b[0m (0.00 B)\n"
      ]
     },
     "metadata": {},
     "output_type": "display_data"
    }
   ],
   "source": [
    "model = build_model(512, 512, 1)\n",
    "model.summary()\n",
    "del model"
   ]
  },
  {
   "cell_type": "markdown",
   "id": "b9fd18e0-4ed6-4200-aa6e-583591b6c886",
   "metadata": {},
   "source": [
    "#### Code: load and preprocess dataset"
   ]
  },
  {
   "cell_type": "code",
   "execution_count": 21,
   "id": "36465a00-1988-4bfc-85e7-b02ed6b7c5e5",
   "metadata": {
    "id": "36465a00-1988-4bfc-85e7-b02ed6b7c5e5"
   },
   "outputs": [],
   "source": [
    "((train_data, train_labels), (test_data, test_labels)) = tf.keras.datasets.imdb.load_data(num_words = 10000)\n",
    "\n",
    "def vectorize_sequences(sequences, dimension = 10000):\n",
    "    results = np.zeros( (len(sequences), dimension) )\n",
    "    for i, sequence in enumerate(sequences):\n",
    "        results[i, sequence] = 1.\n",
    "    return results\n",
    "\n",
    "x_train = vectorize_sequences(train_data)\n",
    "x_test = vectorize_sequences(test_data)\n",
    "\n",
    "y_train = np.asarray(train_labels).astype('float32')\n",
    "y_test = np.asarray(test_labels).astype('float32')"
   ]
  },
  {
   "cell_type": "markdown",
   "id": "76108bd7-e8eb-424b-99af-35b5df1f382e",
   "metadata": {
    "id": "22b252c9"
   },
   "source": [
    "#### Code: a nice callback"
   ]
  },
  {
   "cell_type": "markdown",
   "id": "0a8cf537-7fe9-4904-9c16-d346c5588b1a",
   "metadata": {
    "id": "22b252c9"
   },
   "source": [
    "The same as last time.\n",
    "\n",
    "See this [tutorial](https://www.tensorflow.org/guide/keras/custom_callback) for more."
   ]
  },
  {
   "cell_type": "code",
   "execution_count": 22,
   "id": "e1f35aa6-5cf7-41e5-a503-a6492c0395ce",
   "metadata": {
    "id": "e1f35aa6-5cf7-41e5-a503-a6492c0395ce"
   },
   "outputs": [],
   "source": [
    "class CustomCallback(tf.keras.callbacks.Callback):\n",
    "    def __init__(self, epochs):                                            # by passing epochs at initialization\n",
    "        super(tf.keras.callbacks.Callback, self).__init__()                # I can use this as our total in on_epoch_begin\n",
    "        self.epochs = epochs\n",
    "    def on_epoch_begin(self, epoch, logs=None):                            # run at the start of each epoch\n",
    "        c = ['|', '/', '-', '\\\\']\n",
    "        print(f\"\\r{c[epoch % 4]} epoch: {epoch+1}/{self.epochs}\", end=\"\")  # run at the very end of training\n",
    "    def on_train_end(self, logs=None):\n",
    "        print()"
   ]
  },
  {
   "cell_type": "markdown",
   "id": "cc65c8fc-0309-4b2c-adc0-6d1a0ea95432",
   "metadata": {
    "id": "bb27231a"
   },
   "source": [
    "#### Code: modular programming – a loop for building and training three networks"
   ]
  },
  {
   "cell_type": "markdown",
   "id": "c1cc61ef-9707-4c7b-9cf3-6d136563dbd0",
   "metadata": {
    "id": "bb27231a"
   },
   "source": [
    "The networks are named according to the number of units in each layer and the histories are saved in a dictionary. The progress spinner rotates slowly on the large network because there are many more parameters to train in each epoch."
   ]
  },
  {
   "cell_type": "code",
   "execution_count": 23,
   "id": "92398a7b-fb94-4887-ab7f-a276e4bf13af",
   "metadata": {
    "colab": {
     "base_uri": "https://localhost:8080/"
    },
    "id": "92398a7b-fb94-4887-ab7f-a276e4bf13af",
    "outputId": "b9aecdca-597b-4889-86cf-d73b5b0be82b"
   },
   "outputs": [
    {
     "name": "stdout",
     "output_type": "stream",
     "text": [
      "\\ epoch: 20/20\n",
      "\n"
     ]
    }
   ],
   "source": [
    "histories = {}\n",
    "for i in [4, 16, 512]:\n",
    "    model = build_model(i, i, 1)                      # 1. Build models:\n",
    "    model_name = f\"{i}-{i}-1\"                         # '4-4-1', '16-16-1', '512-512-1'\n",
    "    print('Training', model_name)\n",
    "    history = model.fit(                              # 2. Train & validation\n",
    "        x_train,\n",
    "        y_train,\n",
    "        epochs=20,\n",
    "        batch_size=512,\n",
    "        validation_split=0.4,\n",
    "        verbose=0,\n",
    "        callbacks=[CustomCallback(20)]                # ← same lovely callback as last time\n",
    "    )\n",
    "    histories[model_name] = history                   # 3. Save history in a dictionary\n",
    "    del model"
   ]
  },
  {
   "cell_type": "markdown",
   "id": "7e1a2375-3c74-443a-9b93-bc523c6b6189",
   "metadata": {},
   "source": [
    "#### Code: plot results"
   ]
  },
  {
   "cell_type": "code",
   "execution_count": 24,
   "id": "505ee3cf-9fd6-4deb-870d-d2f0bacfacf9",
   "metadata": {
    "id": "505ee3cf-9fd6-4deb-870d-d2f0bacfacf9"
   },
   "outputs": [],
   "source": [
    "def plot_loss_comparison(loss_a, label_a, loss_b, label_b, y_label, save=False): # IDEA FOR COURSEWORK: can you\n",
    "    \"\"\"A plot function for comparing two losses.\"\"\"                              # modify this function so as to\n",
    "    epochs = range(1, len(loss_a) + 1)                                           # accept any number of models, not\n",
    "    plt.plot(epochs, loss_a, 'b-', label = label_a)                              # just two? Perhaps packing a\n",
    "    plt.plot(epochs, loss_b, 'r--', label = label_b)                              # single model's data into a list,\n",
    "    plt.xlabel('Epochs')                                                         # and looping through your list of\n",
    "    plt.ylabel(y_label)                                                          # lists to plot the data?\n",
    "    plt.legend()\n",
    "    if save:\n",
    "        plt.savefig('overfitting.png', format='png')                             # save image locally\n",
    "    plt.show()"
   ]
  },
  {
   "cell_type": "markdown",
   "id": "98e4f85f",
   "metadata": {
    "id": "98e4f85f"
   },
   "source": [
    "The low capacity starts overfitting later and at a slower rate than the original network"
   ]
  },
  {
   "cell_type": "code",
   "execution_count": 25,
   "id": "e0f1935b",
   "metadata": {
    "colab": {
     "base_uri": "https://localhost:8080/",
     "height": 449
    },
    "id": "e0f1935b",
    "outputId": "8047786c-75fc-423a-a2c9-dd8c7841b279"
   },
   "outputs": [
    {
     "data": {
      "image/png": "[encoded data removed]",
      "text/plain": [
       "<Figure size 640x480 with 1 Axes>"
      ]
     },
     "metadata": {},
     "output_type": "display_data"
    }
   ],
   "source": [
    "net_a, net_b = '4-4-1', '16-16-1'\n",
    "plot_loss_comparison(\n",
    "    loss_a=histories[net_a].history['val_loss'], label_a=net_a,\n",
    "    loss_b=histories[net_b].history['val_loss'], label_b=net_b,\n",
    "    y_label='Validation Loss'\n",
    ")"
   ]
  },
  {
   "cell_type": "markdown",
   "id": "ae309156",
   "metadata": {
    "id": "ae309156"
   },
   "source": [
    "The high capacity network overfits almost at the outset, and more vigorously."
   ]
  },
  {
   "cell_type": "code",
   "execution_count": 26,
   "id": "895702fc-4cbf-4b55-b00f-3f1d694abf0e",
   "metadata": {
    "colab": {
     "base_uri": "https://localhost:8080/",
     "height": 449
    },
    "id": "895702fc-4cbf-4b55-b00f-3f1d694abf0e",
    "outputId": "cd86d353-97b5-4b0b-bb3c-e7af611d4b47"
   },
   "outputs": [
    {
     "data": {
      "image/png": "[encoded data removed]",
      "text/plain": [
       "<Figure size 640x480 with 1 Axes>"
      ]
     },
     "metadata": {},
     "output_type": "display_data"
    }
   ],
   "source": [
    "net_a, net_b = '16-16-1', '512-512-1'\n",
    "plot_loss_comparison(\n",
    "    loss_a=histories[net_a].history['val_loss'], label_a=net_a,\n",
    "    loss_b=histories[net_b].history['val_loss'], label_b=net_b,\n",
    "    y_label='Validation Loss'\n",
    ")"
   ]
  },
  {
   "cell_type": "markdown",
   "id": "7ba641cd",
   "metadata": {
    "id": "7ba641cd"
   },
   "source": [
    "The high capacity network reaches zero training loss earlier than the original network. The high capacity network easily models training data – at the expense of overfitting."
   ]
  },
  {
   "cell_type": "code",
   "execution_count": 27,
   "id": "b2e1281c-7882-425c-b891-885c342dac65",
   "metadata": {
    "colab": {
     "base_uri": "https://localhost:8080/",
     "height": 449
    },
    "id": "b2e1281c-7882-425c-b891-885c342dac65",
    "outputId": "d62dadba-1f50-4e3b-c919-4a4e75ce6b0d"
   },
   "outputs": [
    {
     "data": {
      "image/png": "[encoded data removed]",
      "text/plain": [
       "<Figure size 640x480 with 1 Axes>"
      ]
     },
     "metadata": {},
     "output_type": "display_data"
    }
   ],
   "source": [
    "net_a, net_b = '16-16-1', '512-512-1'\n",
    "plot_loss_comparison(\n",
    "    loss_a=histories[net_a].history['loss'], label_a=net_a,\n",
    "    loss_b=histories[net_b].history['loss'], label_b=net_b,\n",
    "    y_label='Loss'\n",
    ")"
   ]
  },
  {
   "cell_type": "markdown",
   "id": "55455087-059a-41d8-b24b-3dbf5b417d68",
   "metadata": {
    "id": "865b0ed3-375b-4b43-a88c-5cf29143134f"
   },
   "source": [
    "### 2. Adding weight regularization (L1/L2)"
   ]
  },
  {
   "cell_type": "markdown",
   "id": "ff0aba7d-09c5-40d7-97d3-73ab20c8be6b",
   "metadata": {},
   "source": [
    "#### Continuous capacity control"
   ]
  },
  {
   "cell_type": "markdown",
   "id": "2cae1f9f-cbbc-4783-85eb-9e78644afeb7",
   "metadata": {
    "id": "865b0ed3-375b-4b43-a88c-5cf29143134f"
   },
   "source": [
    "A simple network has low capacity (small number of units) and small weight and bias values.\n",
    "\n",
    "In analogy with polynomial fits of points, **simple** means low capacity, equivalent to a low degree.\n",
    "\n",
    "What if we had a way of controlling the capacity in a **continuous, smooth way**?\n",
    "\n",
    "Weight regularisation is a way to do that."
   ]
  },
  {
   "cell_type": "markdown",
   "id": "665b4fcd-e6a9-451d-b3ba-d2b12ebefa79",
   "metadata": {
    "id": "665b4fcd-e6a9-451d-b3ba-d2b12ebefa79"
   },
   "source": [
    "Parameters are **regular** if they occupy a small interval close to zero:\n",
    "\n",
    "- large weight parameters will amplify input noise (just like larger coefficients in a polynomial);\n",
    "- the network will attempt to fit the noise;\n",
    "- a model with smaller weight will behave like a **lower capacity model**.\n",
    "\n",
    "\n",
    "*An example: the `tanh` activation is almost linear around zero. With small weights, the network tends to behave like a linear model!*"
   ]
  },
  {
   "cell_type": "markdown",
   "id": "932a27a6-f545-4e31-b421-7367ba8b2db8",
   "metadata": {
    "id": "e80579d1-dbe7-44e8-a902-46c6fe862afb"
   },
   "source": [
    "#### Weight regularisation"
   ]
  },
  {
   "cell_type": "markdown",
   "id": "f01227b3-046c-4b6d-8fa0-138539cf29ca",
   "metadata": {
    "id": "e80579d1-dbe7-44e8-a902-46c6fe862afb"
   },
   "source": [
    "- L1: a cost proportional to the **absolute value** of the weight parameters is added to the loss function;\n",
    "\n",
    "- L2: as above, but the cost is the **square** of the weight parameters.\n",
    "\n",
    "L2 is more often used! It is also known as **weight decay**, in-depth explanation by Andrew Ng in the references.\n",
    "\n",
    "These regularisation terms are added to the loss function, and **penalise the network if it has large weights**."
   ]
  },
  {
   "cell_type": "markdown",
   "id": "4f24599d-9fd3-4e65-b692-0d3f55df9ea5",
   "metadata": {},
   "source": [
    "#### TensorFlow syntax"
   ]
  },
  {
   "cell_type": "markdown",
   "id": "134e9e28-55b7-4223-b2fa-0a48e4729cf9",
   "metadata": {
    "id": "134e9e28-55b7-4223-b2fa-0a48e4729cf9"
   },
   "source": [
    "TensorFlow Keras weight parameter regularisation is achieved by adding a weight regularizer instance to the layer you are using:\n",
    "\n",
    "```python\n",
    "tf.keras.layers.Dense(\n",
    "    16,\n",
    "    # ↓ REGULARISATION -------------------------------\n",
    "    kernel_regularizer=tf.keras.regularizers.l2(0.001),\n",
    "    activation='relu'\n",
    ")\n",
    "```                         \n",
    "\n",
    "`l2(0.001)` $0.001 \\times \\sum(w^T \\cdot w)$ is added to the loss function ($0.001 \\times \\sum|w|$ for `l1(0.001)`)."
   ]
  },
  {
   "cell_type": "markdown",
   "id": "8e02b051",
   "metadata": {
    "id": "8e02b051"
   },
   "source": [
    "L1, or a combination, are selected like so:\n",
    "\n",
    "```python\n",
    "    # ↓ ------------------------------------ ↓ L1 ---\n",
    "    kernel_regularizer=tf.keras.regularizers.l1(0.001),\n",
    "```  \n",
    "```python\n",
    "    kernel_regularizer=(\n",
    "        # ↓ ----------------- ↓ L1 ---- combined with --------- ↓ L2 ! --\n",
    "        tf.keras.regularizers.l1(0.001) + tf.keras.regularizers.l2(0.001)\n",
    "    )\n",
    "```       \n",
    "```python\n",
    "    #                  or, same as the previous one:\n",
    "    # ↓ -------------- ↓ ----------------- ↓ L1 and L2,\n",
    "    kernel_regularizer=tf.keras.regularizers.l1_l2(0.001, 0.001)\n",
    "```     "
   ]
  },
  {
   "cell_type": "markdown",
   "id": "5a37495e-09a8-497b-8cb9-a04ca677871a",
   "metadata": {
    "id": "e9b76cfd"
   },
   "source": [
    "#### L1/L2 regularisation: math reference"
   ]
  },
  {
   "cell_type": "markdown",
   "id": "6ff497c6-8cb8-4619-8d2a-833dbe733950",
   "metadata": {
    "id": "e9b76cfd"
   },
   "source": [
    "$$\n",
    "\\bbox[5px,border:2px solid red]\n",
    "{\n",
    "\\begin{align*}\n",
    "\\mathrm{L1}&: J(w,b) = \\frac{1}{m} \\sum Loss(y_{pred}, y) + \\color{blue}{\\frac{\\lambda}{m} |w|} \\quad (\\text{equivalent to} \\lVert w \\rVert_1)\\\\\n",
    "\\\\\n",
    "\\\\\n",
    "\\mathrm{L2}&: J(w,b) = \\frac{1}{m} \\sum Loss(y_{pred}, y) + \\color{blue}{\\frac{\\lambda}{2m} \\lVert w \\rVert^2_2}\\\\\n",
    "\\end{align*}\n",
    "}\n",
    "$$\n",
    "\n",
    "\n",
    "L1 regularisation is also known as [LASSO](https://en.wikipedia.org/wiki/Lasso_(statistics)).  \n",
    "\n",
    "L2 regularisation is also known as [Ridge](https://en.wikipedia.org/wiki/Ridge_regression) (or Tikhonov regularisation).\n",
    "\n",
    "See also [this](https://en.wikipedia.org/wiki/Regularization_(mathematics)#L1_and_L2_Regularization).\n",
    "\n",
    "$J$: final loss over all training examples    \n",
    "$w$: weights  \n",
    "$b$: biases  \n",
    "$y_{pred}$: model predictions  \n",
    "$y$: true labels  \n",
    "$|w|$: the absolute value of the elements  \n",
    "$\\lVert w \\rVert^2_2$: the sum of the squares of the elements (equivalent to $w^Tw$)  \n",
    "$\\lambda$: the regularisation (hyper)parameter: how strong you wish this regularisation to be..."
   ]
  },
  {
   "cell_type": "markdown",
   "id": "2bb24420-c761-406f-908a-d36a27111184",
   "metadata": {
    "id": "c1cf76b1"
   },
   "source": [
    "#### Code: modular programming – a model building function with optional regularisation"
   ]
  },
  {
   "cell_type": "markdown",
   "id": "91ad4102-9f98-41e8-9cbe-356319636ef7",
   "metadata": {
    "id": "c1cf76b1"
   },
   "source": [
    "Let us compare L2 regularisation to the unregularised IMDB network."
   ]
  },
  {
   "cell_type": "code",
   "execution_count": 28,
   "id": "9ccd6bab-7d71-4f19-81fe-88a98c75b879",
   "metadata": {
    "id": "9ccd6bab-7d71-4f19-81fe-88a98c75b879"
   },
   "outputs": [],
   "source": [
    "def build_model(layer_1_units, layer_2_units, layer_3_units, reg=True, clear=True):\n",
    "    if clear:                                               # ↑ REGULARISATION parameter\n",
    "        tf.keras.backend.clear_session()\n",
    "    model = tf.keras.models.Sequential()\n",
    "\n",
    "    model.add(tf.keras.Input((10000,)))\n",
    "\n",
    "    model.add(\n",
    "        tf.keras.layers.Dense(\n",
    "            layer_1_units,     # ↓ REGULARISATION (only if reg is True) --------\n",
    "            kernel_regularizer=tf.keras.regularizers.l2(0.001) if reg else None,\n",
    "            activation='relu'\n",
    "        )\n",
    "    )\n",
    "\n",
    "    model.add(\n",
    "        tf.keras.layers.Dense(\n",
    "            layer_2_units,     # ↓ REGULARISATION (only if reg is True) --------\n",
    "            kernel_regularizer=tf.keras.regularizers.l2(0.001) if reg else None,\n",
    "            activation='relu'\n",
    "        )\n",
    "    )\n",
    "\n",
    "    model.add(tf.keras.layers.Dense(layer_3_units, activation='sigmoid'))\n",
    "    model.compile(\n",
    "        optimizer='rmsprop',\n",
    "        loss='binary_crossentropy',\n",
    "        metrics=['acc']\n",
    "    )\n",
    "    return model"
   ]
  },
  {
   "cell_type": "code",
   "execution_count": 29,
   "id": "c2e18c68-4a60-4c41-a039-b6260a25064f",
   "metadata": {
    "colab": {
     "base_uri": "https://localhost:8080/"
    },
    "id": "c2e18c68-4a60-4c41-a039-b6260a25064f",
    "outputId": "c2a45c89-80e9-4960-822d-356a5b890eb9"
   },
   "outputs": [
    {
     "name": "stdout",
     "output_type": "stream",
     "text": [
      "Epoch 1/20\n",
      "\u001b[1m30/30\u001b[0m \u001b[32m━━━━━━━━━━━━━━━━━━━━\u001b[0m\u001b[37m\u001b[0m \u001b[1m3s\u001b[0m 77ms/step - acc: 0.7165 - loss: 0.5940 - val_acc: 0.8606 - val_loss: 0.4046\n",
      "Epoch 2/20\n",
      "\u001b[1m30/30\u001b[0m \u001b[32m━━━━━━━━━━━━━━━━━━━━\u001b[0m\u001b[37m\u001b[0m \u001b[1m1s\u001b[0m 24ms/step - acc: 0.8920 - loss: 0.3476 - val_acc: 0.8786 - val_loss: 0.3241\n",
      "Epoch 3/20\n",
      "\u001b[1m30/30\u001b[0m \u001b[32m━━━━━━━━━━━━━━━━━━━━\u001b[0m\u001b[37m\u001b[0m \u001b[1m1s\u001b[0m 21ms/step - acc: 0.9232 - loss: 0.2523 - val_acc: 0.8904 - val_loss: 0.2856\n",
      "Epoch 4/20\n",
      "\u001b[1m30/30\u001b[0m \u001b[32m━━━━━━━━━━━━━━━━━━━━\u001b[0m\u001b[37m\u001b[0m \u001b[1m1s\u001b[0m 20ms/step - acc: 0.9349 - loss: 0.2014 - val_acc: 0.8905 - val_loss: 0.2752\n",
      "Epoch 5/20\n",
      "\u001b[1m30/30\u001b[0m \u001b[32m━━━━━━━━━━━━━━━━━━━━\u001b[0m\u001b[37m\u001b[0m \u001b[1m1s\u001b[0m 23ms/step - acc: 0.9486 - loss: 0.1628 - val_acc: 0.8883 - val_loss: 0.2771\n",
      "Epoch 6/20\n",
      "\u001b[1m30/30\u001b[0m \u001b[32m━━━━━━━━━━━━━━━━━━━━\u001b[0m\u001b[37m\u001b[0m \u001b[1m1s\u001b[0m 23ms/step - acc: 0.9601 - loss: 0.1371 - val_acc: 0.8866 - val_loss: 0.2824\n",
      "Epoch 7/20\n",
      "\u001b[1m30/30\u001b[0m \u001b[32m━━━━━━━━━━━━━━━━━━━━\u001b[0m\u001b[37m\u001b[0m \u001b[1m1s\u001b[0m 23ms/step - acc: 0.9658 - loss: 0.1199 - val_acc: 0.8862 - val_loss: 0.2927\n",
      "Epoch 8/20\n",
      "\u001b[1m30/30\u001b[0m \u001b[32m━━━━━━━━━━━━━━━━━━━━\u001b[0m\u001b[37m\u001b[0m \u001b[1m1s\u001b[0m 22ms/step - acc: 0.9717 - loss: 0.1011 - val_acc: 0.8840 - val_loss: 0.3053\n",
      "Epoch 9/20\n",
      "\u001b[1m30/30\u001b[0m \u001b[32m━━━━━━━━━━━━━━━━━━━━\u001b[0m\u001b[37m\u001b[0m \u001b[1m1s\u001b[0m 25ms/step - acc: 0.9752 - loss: 0.0904 - val_acc: 0.8838 - val_loss: 0.3202\n",
      "Epoch 10/20\n",
      "\u001b[1m30/30\u001b[0m \u001b[32m━━━━━━━━━━━━━━━━━━━━\u001b[0m\u001b[37m\u001b[0m \u001b[1m2s\u001b[0m 37ms/step - acc: 0.9815 - loss: 0.0762 - val_acc: 0.8744 - val_loss: 0.3578\n",
      "Epoch 11/20\n",
      "\u001b[1m30/30\u001b[0m \u001b[32m━━━━━━━━━━━━━━━━━━━━\u001b[0m\u001b[37m\u001b[0m \u001b[1m1s\u001b[0m 21ms/step - acc: 0.9863 - loss: 0.0645 - val_acc: 0.8801 - val_loss: 0.3537\n",
      "Epoch 12/20\n",
      "\u001b[1m30/30\u001b[0m \u001b[32m━━━━━━━━━━━━━━━━━━━━\u001b[0m\u001b[37m\u001b[0m \u001b[1m1s\u001b[0m 20ms/step - acc: 0.9907 - loss: 0.0519 - val_acc: 0.8793 - val_loss: 0.3713\n",
      "Epoch 13/20\n",
      "\u001b[1m30/30\u001b[0m \u001b[32m━━━━━━━━━━━━━━━━━━━━\u001b[0m\u001b[37m\u001b[0m \u001b[1m1s\u001b[0m 20ms/step - acc: 0.9905 - loss: 0.0474 - val_acc: 0.8770 - val_loss: 0.3958\n",
      "Epoch 14/20\n",
      "\u001b[1m30/30\u001b[0m \u001b[32m━━━━━━━━━━━━━━━━━━━━\u001b[0m\u001b[37m\u001b[0m \u001b[1m1s\u001b[0m 19ms/step - acc: 0.9922 - loss: 0.0396 - val_acc: 0.8766 - val_loss: 0.4167\n",
      "Epoch 15/20\n",
      "\u001b[1m30/30\u001b[0m \u001b[32m━━━━━━━━━━━━━━━━━━━━\u001b[0m\u001b[37m\u001b[0m \u001b[1m1s\u001b[0m 21ms/step - acc: 0.9958 - loss: 0.0315 - val_acc: 0.8722 - val_loss: 0.4529\n",
      "Epoch 16/20\n",
      "\u001b[1m30/30\u001b[0m \u001b[32m━━━━━━━━━━━━━━━━━━━━\u001b[0m\u001b[37m\u001b[0m \u001b[1m1s\u001b[0m 20ms/step - acc: 0.9964 - loss: 0.0265 - val_acc: 0.8752 - val_loss: 0.4598\n",
      "Epoch 17/20\n",
      "\u001b[1m30/30\u001b[0m \u001b[32m━━━━━━━━━━━━━━━━━━━━\u001b[0m\u001b[37m\u001b[0m \u001b[1m1s\u001b[0m 20ms/step - acc: 0.9968 - loss: 0.0227 - val_acc: 0.8592 - val_loss: 0.5469\n",
      "Epoch 18/20\n",
      "\u001b[1m30/30\u001b[0m \u001b[32m━━━━━━━━━━━━━━━━━━━━\u001b[0m\u001b[37m\u001b[0m \u001b[1m1s\u001b[0m 24ms/step - acc: 0.9976 - loss: 0.0201 - val_acc: 0.8720 - val_loss: 0.5109\n",
      "Epoch 19/20\n",
      "\u001b[1m30/30\u001b[0m \u001b[32m━━━━━━━━━━━━━━━━━━━━\u001b[0m\u001b[37m\u001b[0m \u001b[1m1s\u001b[0m 20ms/step - acc: 0.9988 - loss: 0.0139 - val_acc: 0.8729 - val_loss: 0.5211\n",
      "Epoch 20/20\n",
      "\u001b[1m30/30\u001b[0m \u001b[32m━━━━━━━━━━━━━━━━━━━━\u001b[0m\u001b[37m\u001b[0m \u001b[1m1s\u001b[0m 19ms/step - acc: 0.9994 - loss: 0.0107 - val_acc: 0.8705 - val_loss: 0.5730\n"
     ]
    }
   ],
   "source": [
    "model = build_model(16, 16, 1, reg=False) # NO REGULARISATION\n",
    "history = model.fit(\n",
    "    x_train,\n",
    "    y_train,\n",
    "    epochs=20,\n",
    "    batch_size=512,\n",
    "    validation_split=0.4,\n",
    ")\n",
    "del model"
   ]
  },
  {
   "cell_type": "code",
   "execution_count": 30,
   "id": "cc8d4350-0dc7-4e8a-8377-5d19f6d60f6d",
   "metadata": {
    "colab": {
     "base_uri": "https://localhost:8080/"
    },
    "id": "cc8d4350-0dc7-4e8a-8377-5d19f6d60f6d",
    "outputId": "b7b42b5e-6408-4f00-9145-65488de5abcf"
   },
   "outputs": [
    {
     "name": "stdout",
     "output_type": "stream",
     "text": [
      "Epoch 1/20\n",
      "\u001b[1m30/30\u001b[0m \u001b[32m━━━━━━━━━━━━━━━━━━━━\u001b[0m\u001b[37m\u001b[0m \u001b[1m5s\u001b[0m 112ms/step - acc: 0.6887 - loss: 0.6525 - val_acc: 0.8738 - val_loss: 0.4386\n",
      "Epoch 2/20\n",
      "\u001b[1m30/30\u001b[0m \u001b[32m━━━━━━━━━━━━━━━━━━━━\u001b[0m\u001b[37m\u001b[0m \u001b[1m1s\u001b[0m 19ms/step - acc: 0.8920 - loss: 0.3892 - val_acc: 0.8868 - val_loss: 0.3601\n",
      "Epoch 3/20\n",
      "\u001b[1m30/30\u001b[0m \u001b[32m━━━━━━━━━━━━━━━━━━━━\u001b[0m\u001b[37m\u001b[0m \u001b[1m1s\u001b[0m 20ms/step - acc: 0.9145 - loss: 0.3082 - val_acc: 0.8567 - val_loss: 0.3963\n",
      "Epoch 4/20\n",
      "\u001b[1m30/30\u001b[0m \u001b[32m━━━━━━━━━━━━━━━━━━━━\u001b[0m\u001b[37m\u001b[0m \u001b[1m1s\u001b[0m 20ms/step - acc: 0.9268 - loss: 0.2641 - val_acc: 0.8831 - val_loss: 0.3397\n",
      "Epoch 5/20\n",
      "\u001b[1m30/30\u001b[0m \u001b[32m━━━━━━━━━━━━━━━━━━━━\u001b[0m\u001b[37m\u001b[0m \u001b[1m1s\u001b[0m 20ms/step - acc: 0.9445 - loss: 0.2306 - val_acc: 0.8828 - val_loss: 0.3454\n",
      "Epoch 6/20\n",
      "\u001b[1m30/30\u001b[0m \u001b[32m━━━━━━━━━━━━━━━━━━━━\u001b[0m\u001b[37m\u001b[0m \u001b[1m1s\u001b[0m 23ms/step - acc: 0.9473 - loss: 0.2154 - val_acc: 0.8763 - val_loss: 0.3639\n",
      "Epoch 7/20\n",
      "\u001b[1m30/30\u001b[0m \u001b[32m━━━━━━━━━━━━━━━━━━━━\u001b[0m\u001b[37m\u001b[0m \u001b[1m1s\u001b[0m 22ms/step - acc: 0.9581 - loss: 0.2013 - val_acc: 0.8671 - val_loss: 0.3936\n",
      "Epoch 8/20\n",
      "\u001b[1m30/30\u001b[0m \u001b[32m━━━━━━━━━━━━━━━━━━━━\u001b[0m\u001b[37m\u001b[0m \u001b[1m1s\u001b[0m 20ms/step - acc: 0.9574 - loss: 0.1942 - val_acc: 0.8820 - val_loss: 0.3538\n",
      "Epoch 9/20\n",
      "\u001b[1m30/30\u001b[0m \u001b[32m━━━━━━━━━━━━━━━━━━━━\u001b[0m\u001b[37m\u001b[0m \u001b[1m1s\u001b[0m 26ms/step - acc: 0.9661 - loss: 0.1793 - val_acc: 0.8808 - val_loss: 0.3744\n",
      "Epoch 10/20\n",
      "\u001b[1m30/30\u001b[0m \u001b[32m━━━━━━━━━━━━━━━━━━━━\u001b[0m\u001b[37m\u001b[0m \u001b[1m1s\u001b[0m 20ms/step - acc: 0.9669 - loss: 0.1755 - val_acc: 0.8805 - val_loss: 0.3724\n",
      "Epoch 11/20\n",
      "\u001b[1m30/30\u001b[0m \u001b[32m━━━━━━━━━━━━━━━━━━━━\u001b[0m\u001b[37m\u001b[0m \u001b[1m1s\u001b[0m 21ms/step - acc: 0.9690 - loss: 0.1706 - val_acc: 0.8570 - val_loss: 0.4554\n",
      "Epoch 12/20\n",
      "\u001b[1m30/30\u001b[0m \u001b[32m━━━━━━━━━━━━━━━━━━━━\u001b[0m\u001b[37m\u001b[0m \u001b[1m1s\u001b[0m 23ms/step - acc: 0.9662 - loss: 0.1716 - val_acc: 0.8795 - val_loss: 0.3880\n",
      "Epoch 13/20\n",
      "\u001b[1m30/30\u001b[0m \u001b[32m━━━━━━━━━━━━━━━━━━━━\u001b[0m\u001b[37m\u001b[0m \u001b[1m1s\u001b[0m 20ms/step - acc: 0.9763 - loss: 0.1522 - val_acc: 0.8773 - val_loss: 0.3956\n",
      "Epoch 14/20\n",
      "\u001b[1m30/30\u001b[0m \u001b[32m━━━━━━━━━━━━━━━━━━━━\u001b[0m\u001b[37m\u001b[0m \u001b[1m1s\u001b[0m 21ms/step - acc: 0.9752 - loss: 0.1518 - val_acc: 0.8728 - val_loss: 0.4270\n",
      "Epoch 15/20\n",
      "\u001b[1m30/30\u001b[0m \u001b[32m━━━━━━━━━━━━━━━━━━━━\u001b[0m\u001b[37m\u001b[0m \u001b[1m1s\u001b[0m 23ms/step - acc: 0.9791 - loss: 0.1447 - val_acc: 0.8752 - val_loss: 0.4128\n",
      "Epoch 16/20\n",
      "\u001b[1m30/30\u001b[0m \u001b[32m━━━━━━━━━━━━━━━━━━━━\u001b[0m\u001b[37m\u001b[0m \u001b[1m1s\u001b[0m 23ms/step - acc: 0.9785 - loss: 0.1488 - val_acc: 0.8749 - val_loss: 0.4183\n",
      "Epoch 17/20\n",
      "\u001b[1m30/30\u001b[0m \u001b[32m━━━━━━━━━━━━━━━━━━━━\u001b[0m\u001b[37m\u001b[0m \u001b[1m1s\u001b[0m 19ms/step - acc: 0.9778 - loss: 0.1467 - val_acc: 0.8704 - val_loss: 0.4461\n",
      "Epoch 18/20\n",
      "\u001b[1m30/30\u001b[0m \u001b[32m━━━━━━━━━━━━━━━━━━━━\u001b[0m\u001b[37m\u001b[0m \u001b[1m1s\u001b[0m 20ms/step - acc: 0.9778 - loss: 0.1465 - val_acc: 0.8713 - val_loss: 0.4389\n",
      "Epoch 19/20\n",
      "\u001b[1m30/30\u001b[0m \u001b[32m━━━━━━━━━━━━━━━━━━━━\u001b[0m\u001b[37m\u001b[0m \u001b[1m1s\u001b[0m 20ms/step - acc: 0.9791 - loss: 0.1423 - val_acc: 0.8573 - val_loss: 0.5295\n",
      "Epoch 20/20\n",
      "\u001b[1m30/30\u001b[0m \u001b[32m━━━━━━━━━━━━━━━━━━━━\u001b[0m\u001b[37m\u001b[0m \u001b[1m1s\u001b[0m 22ms/step - acc: 0.9791 - loss: 0.1378 - val_acc: 0.8718 - val_loss: 0.4520\n"
     ]
    }
   ],
   "source": [
    "l2_model = build_model(16, 16, 1, reg=True) # WITH L2 REGULARISATION\n",
    "l2_history = l2_model.fit(\n",
    "    x_train,\n",
    "    y_train,\n",
    "    epochs=20,\n",
    "    batch_size=512,\n",
    "    validation_split=0.4,\n",
    ")\n",
    "del l2_model"
   ]
  },
  {
   "cell_type": "markdown",
   "id": "ebf87337",
   "metadata": {
    "id": "ebf87337"
   },
   "source": [
    "The L2 regularised model resists (or delays) overfitting even though both networks have the same capacity  \n",
    "(160'305 learnable parameters)."
   ]
  },
  {
   "cell_type": "markdown",
   "id": "b76acec2-8451-497e-8fdf-c4a0f3866771",
   "metadata": {},
   "source": [
    "#### Code: plot results"
   ]
  },
  {
   "cell_type": "code",
   "execution_count": 31,
   "id": "e277989f-52a9-4506-a8e9-3b32e25de2e9",
   "metadata": {
    "colab": {
     "base_uri": "https://localhost:8080/",
     "height": 449
    },
    "id": "e277989f-52a9-4506-a8e9-3b32e25de2e9",
    "outputId": "e42156d2-c758-432d-e482-c94d4115a6a6"
   },
   "outputs": [
    {
     "data": {
      "image/png": "[encoded data removed]",
      "text/plain": [
       "<Figure size 640x480 with 1 Axes>"
      ]
     },
     "metadata": {},
     "output_type": "display_data"
    }
   ],
   "source": [
    "plot_loss_comparison(\n",
    "    l2_history.history['val_loss'], 'L2 reg',\n",
    "    history.history['val_loss'], 'No reg',\n",
    "    'Validation Loss'\n",
    ")"
   ]
  },
  {
   "cell_type": "markdown",
   "id": "7cdff669-af13-440b-9a14-3d1c3f2dd539",
   "metadata": {
    "id": "d6e459d2-349c-4da9-b0c9-02968964f290"
   },
   "source": [
    "### 3. Dropout"
   ]
  },
  {
   "cell_type": "markdown",
   "id": "82f7187d-74ba-4a79-907d-efa34a665212",
   "metadata": {},
   "source": [
    "#### What is Dropout?"
   ]
  },
  {
   "cell_type": "markdown",
   "id": "45dbaf05-5fd9-4cae-843d-37ed7e0d1a67",
   "metadata": {
    "id": "d6e459d2-349c-4da9-b0c9-02968964f290"
   },
   "source": [
    "Finally, dropout is a common and effective regularisation technique.\n",
    "\n",
    "A fraction ('the dropout rate') of the output from a dropout layer is zeroed."
   ]
  },
  {
   "cell_type": "markdown",
   "id": "045d123c",
   "metadata": {
    "id": "045d123c"
   },
   "source": [
    "<!-- ![Chollet dropout](images/chollet.dropout.png) -->\n",
    "<img src=\"https://github.com/jchwenger/AI/blob/main/4-fundamentals/images/chollet.dropout.png?raw=true\">\n",
    "\n",
    "\n",
    "<small>DLWP, p.150</small>"
   ]
  },
  {
   "cell_type": "markdown",
   "id": "2e376306-4ba3-4f3c-9970-e914fbb4b715",
   "metadata": {
    "id": "2e376306-4ba3-4f3c-9970-e914fbb4b715"
   },
   "source": [
    "<!-- <img style=\"height:700px\" src=\"images/ng.dropout.1.png\"> -->\n",
    "<img style=\"height:700px\" src=\"https://github.com/jchwenger/AI/blob/main/4-fundamentals/images/ng.dropout.1.png?raw=true\">\n",
    "\n",
    "<small>[Andrew Ng, Improving Deep Neural Networks: Hyperparameter Tuning, Regularization and Optimization (Course 2 of the Deep Learning Specialization)](https://www.youtube.com/watch?v=D8PJAL-MZv8&list=PLkDaE6sCZn6Hn0vK8co82zjQtt3T2Nkqc&index=6)</small>"
   ]
  },
  {
   "cell_type": "markdown",
   "id": "0ad5087e",
   "metadata": {
    "id": "0ad5087e"
   },
   "source": [
    "<!-- <img style=\"height:700px\" src=\"images/ng.dropout.2.png\"> -->\n",
    "<img  style=\"height:700px\" src=\"https://github.com/jchwenger/AI/blob/main/4-fundamentals/images/ng.dropout.2.png?raw=true\">\n",
    "\n",
    "\n",
    "<small>[Andrew Ng, Improving Deep Neural Networks: Hyperparameter Tuning, Regularization and Optimization (Course 2 of the Deep Learning Specialization)](https://www.youtube.com/watch?v=D8PJAL-MZv8&list=PLkDaE6sCZn6Hn0vK8co82zjQtt3T2Nkqc&index=6)</small>"
   ]
  },
  {
   "cell_type": "markdown",
   "id": "d80339e8",
   "metadata": {
    "id": "d80339e8"
   },
   "source": [
    "<!-- <img style=\"height:700px\" src=\"images/ng.dropout.3.png\"> -->\n",
    "<img  style=\"height:700px\" src=\"https://github.com/jchwenger/AI/blob/main/4-fundamentals/images/ng.dropout.3.png?raw=true\">\n",
    "\n",
    "<small>[Andrew Ng, Improving Deep Neural Networks: Hyperparameter Tuning, Regularization and Optimization (Course 2 of the Deep Learning Specialization)](https://www.youtube.com/watch?v=D8PJAL-MZv8&list=PLkDaE6sCZn6Hn0vK8co82zjQtt3T2Nkqc&index=6)</small>"
   ]
  },
  {
   "cell_type": "markdown",
   "id": "406712af-7369-475f-97a2-4ee80778413a",
   "metadata": {},
   "source": [
    "#### Dropout: manual implementation"
   ]
  },
  {
   "cell_type": "code",
   "execution_count": 32,
   "id": "36c64ac9-5e75-43e2-8678-059164ce9e3e",
   "metadata": {
    "colab": {
     "base_uri": "https://localhost:8080/"
    },
    "id": "36c64ac9-5e75-43e2-8678-059164ce9e3e",
    "outputId": "ca3c0390-f3cd-40f9-b1dc-12b7a69ce177"
   },
   "outputs": [
    {
     "name": "stdout",
     "output_type": "stream",
     "text": [
      "mask = [0 0 1 1 1 1 1 1]\n",
      "\n",
      "layer_out        = [0.10301371 0.81179188 0.02796008 0.51815836 0.782214   0.44938119 0.13171168 0.02107716]\n",
      "mask * layer_out = [0.         0.         0.02796008 0.51815836 0.782214   0.44938119 0.13171168 0.02107716]\n"
     ]
    }
   ],
   "source": [
    "# dropout rate = 0.5\n",
    "length = 8\n",
    "mask = np.random.randint(0, high=2, size=length) # the mask is a vector with, on average,\n",
    "with np.printoptions():                          # equal numbers of zeros and ones (a rate of 0.5)\n",
    "    print('mask =', mask)\n",
    "    print()\n",
    "\n",
    "layer_out = np.random.rand(length)\n",
    "\n",
    "with np.printoptions(linewidth=120):\n",
    "    # layer output\n",
    "    print('layer_out        =', layer_out)\n",
    "\n",
    "    # regularised layer output\n",
    "    print('mask * layer_out =', mask * layer_out) # dropout is just multiplying the layer output by the mask"
   ]
  },
  {
   "cell_type": "markdown",
   "id": "eac79e7d-5f6b-40dc-94e1-749d18843318",
   "metadata": {
    "id": "2163baa5-ad56-43c4-8de5-3731d2331fc6"
   },
   "source": [
    "The dropout rate is usually between 0.2 and 0.5.\n",
    "\n",
    "Dropout is removed while evaluating the final network."
   ]
  },
  {
   "cell_type": "markdown",
   "id": "dbe133cf-c759-428d-9db5-ecb96a9dcab2",
   "metadata": {
    "id": "2163baa5-ad56-43c4-8de5-3731d2331fc6"
   },
   "source": [
    "#### Note"
   ]
  },
  {
   "cell_type": "markdown",
   "id": "898c53a4-dd89-4da1-99de-55ee928bee84",
   "metadata": {
    "id": "2163baa5-ad56-43c4-8de5-3731d2331fc6"
   },
   "source": [
    "In order to **keep the expected value** of activations constant between the net with and without dropout, the\n",
    " output activations after activation need to be **scaled up by the dropout rate** to compensate for the parts of the layer output removed by dropout. Indeed, in expectation the output activation of the layer will be reduced by the dropout rate (50% in our case) as 50% of the elements are zeroed out.\n",
    "\n",
    "```python\n",
    "layer_output *= np.random.random(0, high=2, size=layer_output.shape)\n",
    "layer_output /= 0.5\n",
    "```\n",
    "\n",
    "TensorFlow applies this scaling automatically."
   ]
  },
  {
   "cell_type": "markdown",
   "id": "4deae119",
   "metadata": {
    "id": "4deae119"
   },
   "source": [
    "#### Code: modular programming – a model building function with optional 50% dropout"
   ]
  },
  {
   "cell_type": "code",
   "execution_count": 33,
   "id": "402ce324-8f61-4383-98c5-bf86ad28ac5f",
   "metadata": {
    "id": "402ce324-8f61-4383-98c5-bf86ad28ac5f"
   },
   "outputs": [],
   "source": [
    "def build_model(layer_1_units, layer_2_units, layer_3_units, drop, clear=True):\n",
    "    if clear:                                               # ↑ DROPOUT parameter\n",
    "        tf.keras.backend.clear_session()\n",
    "    model = tf.keras.models.Sequential()\n",
    "    model.add(tf.keras.Input((10000,)))\n",
    "\n",
    "    model.add(tf.keras.layers.Dense(layer_1_units, activation='relu'))\n",
    "    if drop:                      # ↓ DROPOUT                        # IDEA FOR COURSEWORK: instead of drop being\n",
    "        model.add(tf.keras.layers.Dropout(0.5))                      # a boolean, how about passing the *rate*,\n",
    "                                                                     # and only activating the layer if it is > 0 ?\n",
    "    model.add(tf.keras.layers.Dense(layer_2_units, activation='relu'))\n",
    "    if drop:                      # ↓ DROPOUT                        # ALSO: can you find a way to combine layer\n",
    "        model.add(tf.keras.layers.Dropout(0.5))                      # automation with specifying a dropout rate\n",
    "                                                                     # for each layer?\n",
    "    model.add(tf.keras.layers.Dense(layer_3_units, activation='sigmoid'))\n",
    "    model.compile(optimizer='rmsprop',\n",
    "                  loss='binary_crossentropy',\n",
    "                  metrics=['acc'])\n",
    "    return model"
   ]
  },
  {
   "cell_type": "markdown",
   "id": "a7d457f5-fb15-4b04-b63d-fc267a5bca12",
   "metadata": {},
   "source": [
    "#### Code: compare models with and without dropout (& plot)"
   ]
  },
  {
   "cell_type": "code",
   "execution_count": 34,
   "id": "cb41aaa8-2122-4eae-8c60-91a5d6cc4cff",
   "metadata": {
    "colab": {
     "base_uri": "https://localhost:8080/"
    },
    "id": "cb41aaa8-2122-4eae-8c60-91a5d6cc4cff",
    "outputId": "7eaeed54-0e92-4f18-c453-29bc58edd87f"
   },
   "outputs": [
    {
     "name": "stdout",
     "output_type": "stream",
     "text": [
      "\\ epoch: 20/20\n",
      "\n"
     ]
    }
   ],
   "source": [
    "model = build_model(16, 16, 1, drop=False) # training the original network\n",
    "history = model.fit(\n",
    "    x_train,\n",
    "    y_train,\n",
    "    epochs=20,\n",
    "    batch_size=512,\n",
    "    validation_split=0.4,\n",
    "    verbose=0,\n",
    "    callbacks=[CustomCallback(20)]\n",
    ")\n",
    "del model"
   ]
  },
  {
   "cell_type": "code",
   "execution_count": 35,
   "id": "98320edb-fcf9-4e89-ad30-0b5973b9a381",
   "metadata": {
    "colab": {
     "base_uri": "https://localhost:8080/"
    },
    "id": "98320edb-fcf9-4e89-ad30-0b5973b9a381",
    "outputId": "01903c65-4be8-4be2-fcd1-b5cd3525658e"
   },
   "outputs": [
    {
     "name": "stdout",
     "output_type": "stream",
     "text": [
      "\\ epoch: 20/20\n",
      "\n"
     ]
    }
   ],
   "source": [
    "do_model = build_model(16, 16, 1, drop=True) # training a network with dropout\n",
    "do_history = do_model.fit(\n",
    "    x_train,\n",
    "    y_train,\n",
    "    epochs=20,\n",
    "    batch_size=512,\n",
    "    validation_split=0.4,\n",
    "    verbose=0,\n",
    "    callbacks=[CustomCallback(20)]\n",
    ")\n",
    "del do_model"
   ]
  },
  {
   "cell_type": "markdown",
   "id": "830df2d9",
   "metadata": {
    "id": "830df2d9"
   },
   "source": [
    "The plot show that dropout has successfully reduced overfitting."
   ]
  },
  {
   "cell_type": "code",
   "execution_count": 36,
   "id": "0a127c3a",
   "metadata": {
    "colab": {
     "base_uri": "https://localhost:8080/",
     "height": 449
    },
    "id": "0a127c3a",
    "outputId": "b42d4be8-e7f2-4d91-b3d8-4f98b4878211"
   },
   "outputs": [
    {
     "data": {
      "image/png": "[encoded data removed]",
      "text/plain": [
       "<Figure size 640x480 with 1 Axes>"
      ]
     },
     "metadata": {},
     "output_type": "display_data"
    }
   ],
   "source": [
    "plot_loss_comparison(\n",
    "    do_history.history['val_loss'], 'With dropout',\n",
    "    history.history['val_loss'], 'No dropout',\n",
    "    'Validation Loss'\n",
    ")"
   ]
  },
  {
   "attachments": {},
   "cell_type": "markdown",
   "id": "47ffaa64-ccea-4a0f-875b-9092539a7839",
   "metadata": {
    "id": "3e184073-7400-4906-8940-bcfe15b2a7a9"
   },
   "source": [
    "---\n",
    "\n",
    "# 6. The universal workflow of machine learning"
   ]
  },
  {
   "cell_type": "markdown",
   "id": "42811c0a-d4d5-47fc-8589-bcfbddd31073",
   "metadata": {
    "id": "a4555179-f7c3-4dbd-a7bb-59f93e12b083",
    "jp-MarkdownHeadingCollapsed": true
   },
   "source": [
    "## 6.1 Define the task\n",
    "\n",
    "## 6.1.1 Frame the problem"
   ]
  },
  {
   "cell_type": "markdown",
   "id": "fe67371d-e5f5-4141-b619-c70b32d01bd2",
   "metadata": {
    "id": "fe67371d-e5f5-4141-b619-c70b32d01bd2"
   },
   "source": [
    "What are you trying to predict?\n",
    "\n",
    "And is the data (samples and labels) available?\n",
    "\n",
    "What is the type of the problem?\n",
    "\n",
    "Binary classification, single label multiclass, multilabel multiclass, regression?"
   ]
  },
  {
   "cell_type": "markdown",
   "id": "7929d228-edc9-464c-ac17-2a8712b57d7a",
   "metadata": {
    "id": "7929d228-edc9-464c-ac17-2a8712b57d7a"
   },
   "source": [
    "Hypotheses\n",
    "\n",
    "- the outputs can be predicted from the inputs;\n",
    "- the available data is sufficiently informative."
   ]
  },
  {
   "cell_type": "markdown",
   "id": "fc8481b6-2873-4e3e-97d7-9c2558d45739",
   "metadata": {
    "id": "fc8481b6-2873-4e3e-97d7-9c2558d45739"
   },
   "source": [
    "The hypotheses might not be met even if your problem is well defined.\n",
    "\n",
    "For example, an attempt to the predict stock prices from the recent past will likely fail because recent prices contain too little predictive information."
   ]
  },
  {
   "cell_type": "markdown",
   "id": "9082da77-2e00-4615-a670-6f66843598a7",
   "metadata": {
    "id": "70195da1",
    "jp-MarkdownHeadingCollapsed": true
   },
   "source": [
    "## Note on Ethics"
   ]
  },
  {
   "cell_type": "markdown",
   "id": "3ad0be93-fe99-4e8e-94e4-372f3a785851",
   "metadata": {
    "id": "70195da1"
   },
   "source": [
    "This probably should go without saying, but when a project seems fishy, *use your judgement*!\n",
    "\n",
    "A project to classify people as trustworthy or not on the basis of their portrait is **clearly a non-starter**.\n",
    "\n",
    "We do encode our own biases in all sort of ways, as individuals and societies, when we build models. Beware claims of **objectivity** and **authority** linked to these technologies.\n",
    "\n",
    "Technology is not neutral, and has an impact on our societies. It is important to think about these issues and be open about them."
   ]
  },
  {
   "cell_type": "markdown",
   "id": "ade63476-6e33-485e-a722-e359eb029008",
   "metadata": {
    "jp-MarkdownHeadingCollapsed": true
   },
   "source": [
    "### Example: detecting criminality based on face images"
   ]
  },
  {
   "cell_type": "markdown",
   "id": "2faac4f9",
   "metadata": {
    "id": "2faac4f9"
   },
   "source": [
    "<!-- ![Criminality paper](images/criminality.cnns.png) -->\n",
    "![Criminality paper](https://github.com/jchwenger/AI/blob/main/4-fundamentals/images/criminality.cnns.png?raw=true)\n",
    "\n",
    "<small>[Xiaolin Wu, Xi Zhang, \"Automated Inference on Criminality using Face Images\"](https://arxiv.org/abs/1611.04135v1)</small>"
   ]
  },
  {
   "cell_type": "markdown",
   "id": "1c87e35f",
   "metadata": {
    "id": "1c87e35f"
   },
   "source": [
    "<!-- ![Criminality paper](images/criminality.cnns.2.png) -->\n",
    "![Criminality paper](https://github.com/jchwenger/AI/blob/main/4-fundamentals/images/criminality.cnns.2.png?raw=true)\n",
    "\n",
    "<small>[Mahdi Hashemi, Margeret Hall, \"Criminal tendency detection from facial images and the gender bias effect\"](https://journalofbigdata.springeropen.com/articles/10.1186/s40537-019-0282-4)</small>"
   ]
  },
  {
   "cell_type": "markdown",
   "id": "3de1fa97-c016-40d0-8257-c4bbbfcdffc2",
   "metadata": {
    "id": "b6c35833"
   },
   "source": [
    "**References**\n",
    "\n",
    "[Kevin W. Bowyer, Michael King, Walter Scheirer, Kushal Vangara, \"The Criminality From Face Illusion\"](https://arxiv.org/abs/2006.03895)"
   ]
  },
  {
   "cell_type": "markdown",
   "id": "a2fc0737-be28-4114-9184-3b9d0372797d",
   "metadata": {
    "id": "80240d29",
    "jp-MarkdownHeadingCollapsed": true
   },
   "source": [
    "### Historical example of pseudoscience: phrenology"
   ]
  },
  {
   "cell_type": "markdown",
   "id": "3c9e60b6-ff36-4799-bfcb-9198b25f1109",
   "metadata": {
    "id": "80240d29"
   },
   "source": [
    "[Phrenology, Wikipedia](https://en.wikipedia.org/wiki/Phrenology)\n",
    "\n",
    "<!-- ![Phrenology husband](images/phrenology.husband.jpg) -->\n",
    "![Phrenology husband](https://github.com/jchwenger/AI/blob/main/4-fundamentals/images/phrenology.husband.jpg?raw=true)\n",
    "\n",
    "\n",
    "<small>[33 Absurd Phrenology Diagrams From A Century Ago](https://allthatsinteresting.com/phrenology-charts)</small>"
   ]
  },
  {
   "cell_type": "markdown",
   "id": "50231d17",
   "metadata": {
    "id": "50231d17"
   },
   "source": [
    "<!-- ![Phrenology husband](images/phrenology.wife.jpg) -->\n",
    "![Phrenology husband](https://github.com/jchwenger/AI/blob/main/4-fundamentals/images/phrenology.wife.jpg?raw=true)\n",
    "\n",
    "<small>[Phrenology, University of Missouri](https://library.missouri.edu/news/special-collections/phrenology)</small>"
   ]
  },
  {
   "cell_type": "markdown",
   "id": "7d4ddf45-2bbb-4f09-9d99-310f2f1d70c1",
   "metadata": {
    "id": "f28bb408-f8e8-4c44-9315-a7f35c2178eb",
    "jp-MarkdownHeadingCollapsed": true
   },
   "source": [
    "## Nonstationariness / Concept drift"
   ]
  },
  {
   "cell_type": "markdown",
   "id": "350d401f-0560-4485-bfca-5faefbc5d27d",
   "metadata": {},
   "source": [
    "### Handling change in our data / prediction task"
   ]
  },
  {
   "cell_type": "markdown",
   "id": "23790df3-8d67-4599-be2d-b7743846cb3e",
   "metadata": {
    "id": "f28bb408-f8e8-4c44-9315-a7f35c2178eb"
   },
   "source": [
    "Much of the data in the world changes constantly.\n",
    "\n",
    "Nonstationary problems have a time ordering.\n",
    "\n",
    "Chollet's example: recommender system, you can't have the same system now as in a few years ago! It could be clothing, music, anything. A good recommendation is time-dependent.\n",
    "\n",
    "Either gather information from a period when the problem is stationary (a succession of summers) or train the model on recent trends (the past few weeks) or on all data but include the time of year as an input."
   ]
  },
  {
   "cell_type": "markdown",
   "id": "0441930c-200b-4b7d-8d11-b0ec78a5ba6f",
   "metadata": {
    "id": "0441930c-200b-4b7d-8d11-b0ec78a5ba6f"
   },
   "source": [
    "A third hypothesis: **the future is like the past**.\n",
    "\n",
    "The kind of machine learning we study now **only spots patterns in collected data** – data that lies in the past.\n",
    "\n",
    "We assume, when we use a trained model, that the past is relevant today."
   ]
  },
  {
   "cell_type": "markdown",
   "id": "47da949b-f7fb-4f36-8880-a92cf6897e58",
   "metadata": {
    "id": "47da949b-f7fb-4f36-8880-a92cf6897e58",
    "jp-MarkdownHeadingCollapsed": true
   },
   "source": [
    "---\n",
    "\n",
    "## 6.1.2 Collect a dataset"
   ]
  },
  {
   "cell_type": "markdown",
   "id": "ac12d1f9-3f7e-442e-afda-f15980bb4670",
   "metadata": {
    "id": "a3414d3a-ca67-403e-b869-20e3f8919265",
    "jp-MarkdownHeadingCollapsed": true
   },
   "source": [
    "### Beware of non-representative data"
   ]
  },
  {
   "cell_type": "markdown",
   "id": "1bf81846-1318-4d33-af7e-bcdfa51fc108",
   "metadata": {
    "id": "a3414d3a-ca67-403e-b869-20e3f8919265"
   },
   "source": [
    "You should strive to make sure that your **training data** and the **real world (unseen)** data you're using your model on come from the **same distribution**."
   ]
  },
  {
   "cell_type": "markdown",
   "id": "73d9709a-06a1-4477-982d-4efe246006ee",
   "metadata": {
    "id": "a3414d3a-ca67-403e-b869-20e3f8919265",
    "jp-MarkdownHeadingCollapsed": true
   },
   "source": [
    "#### Examples"
   ]
  },
  {
   "cell_type": "markdown",
   "id": "12a1f6fa-d637-4acd-a83f-70b18dd3a508",
   "metadata": {
    "id": "a3414d3a-ca67-403e-b869-20e3f8919265"
   },
   "source": [
    "Very clean and well-lit pictures in training, real-world pictures from social media in production, you're in for trouble!\n",
    "\n",
    "The same goes with text: if your chatbot is trained on very well edited and clean text, there is no way it could then chat with real people using slang, abbreviations, spelling mistakes, etc."
   ]
  },
  {
   "cell_type": "markdown",
   "id": "92a80d4a-b6b7-4094-8202-854e9d6f9f02",
   "metadata": {
    "id": "4ba201a3-ee5e-43ea-94b3-3fd486dc3a08",
    "jp-MarkdownHeadingCollapsed": true
   },
   "source": [
    "#### The problem of sampling bias"
   ]
  },
  {
   "cell_type": "markdown",
   "id": "0b60a1ca-7b26-46c9-99e7-760161af9a4d",
   "metadata": {
    "id": "4ba201a3-ee5e-43ea-94b3-3fd486dc3a08"
   },
   "source": [
    "If you based your estimation of who won the election that night just on this one newspaper, you would be wrong!\n",
    "<!-- <img style=\"float:right;height:550px\" src=\"images/chollet.sampling-bias.png\"> -->\n",
    "<img  style=\"float:right;height:550px\" src=\"https://github.com/jchwenger/AI/blob/main/4-fundamentals/images/chollet.sampling-bias.png?raw=true\">\n",
    "\n",
    "<small style=\"position:absolute;bottom:0;right:0\">DLWP, p.184</small>"
   ]
  },
  {
   "cell_type": "markdown",
   "id": "6dbea9d2-e049-498f-bb9c-dac8c75b5a09",
   "metadata": {
    "id": "5df10ba9-ec8c-4978-9cf5-ddc976aa5a28"
   },
   "source": [
    "---\n",
    "\n",
    "# Technical appendix: Keras Callbacks (and other things)"
   ]
  },
  {
   "cell_type": "markdown",
   "id": "47cf1126-2f6d-4255-abcb-f728794e3442",
   "metadata": {},
   "source": [
    "### Custom Callbacks"
   ]
  },
  {
   "cell_type": "markdown",
   "id": "1134db49-2b01-47a9-a9db-09225689593d",
   "metadata": {
    "id": "5df10ba9-ec8c-4978-9cf5-ddc976aa5a28"
   },
   "source": [
    "The [documentation](https://www.tensorflow.org/api_docs/python/tf/keras/callbacks/Callback), [list](https://www.tensorflow.org/api_docs/python/tf/keras/callbacks) and [tutorial](https://www.tensorflow.org/guide/keras/custom_callback).\n",
    "\n",
    "You add one or more callbacks through the `callbacks` argument to `fit/evaluate/predict` in a list:\n",
    "\n",
    "```python\n",
    "model.(fit|evaluate|predict)(\n",
    "    ...\n",
    "    callbacks=[MyCustomCallback(), MyOtherCustomCallback()]\n",
    ")\n",
    "```"
   ]
  },
  {
   "cell_type": "markdown",
   "id": "652d3d0e-b5f6-47bb-bb60-a9acc3bec669",
   "metadata": {
    "id": "8b7b68cf-15a4-46b6-acd3-8f4e533c3f5a"
   },
   "source": [
    "### Early Stopping"
   ]
  },
  {
   "cell_type": "markdown",
   "id": "e4c43014-1419-4640-aa83-ad0c73c6ee6f",
   "metadata": {
    "id": "8b7b68cf-15a4-46b6-acd3-8f4e533c3f5a"
   },
   "source": [
    "```python\n",
    "tf.keras.callbacks.EarlyStopping\n",
    "```\n",
    "\n",
    "([docs](https://www.tensorflow.org/api_docs/python/tf/keras/callbacks/EarlyStopping))\n",
    "\n",
    "**What we are doing manually now.** Please refrain from using this in Coursework 1, as the points for identifying the epoch with best performance can only be given if you implement the process yourself!"
   ]
  },
  {
   "cell_type": "markdown",
   "id": "fa823fe9-e4bf-40b3-9f36-249589b62e6d",
   "metadata": {
    "id": "fa823fe9-e4bf-40b3-9f36-249589b62e6d"
   },
   "source": [
    "```python\n",
    "tf.keras.callbacks.EarlyStopping(\n",
    "    monitor='val_loss', # the metric to monitor\n",
    "    min_delta=0,        # specify a minimum change considered an improvement\n",
    "    patience=0,         # how many epochs allowed without an improvement\n",
    "    verbose=0,\n",
    "    mode='auto',        # do we aim for min or max? (auto: inferred from metric)\n",
    "    baseline=None,      # specify baseline, training stops if model can't beat it\n",
    "    restore_best_weights=False\n",
    ")\n"
   ]
  },
  {
   "cell_type": "markdown",
   "id": "b077090e-e51c-4cb7-a31d-1e38afc25d13",
   "metadata": {
    "id": "5204d30b-c7d9-41d4-ab25-46cf02b1d1c2"
   },
   "source": [
    "### Checkpoints"
   ]
  },
  {
   "cell_type": "markdown",
   "id": "995387cf-2f69-485f-92b7-720dba093f44",
   "metadata": {
    "id": "5204d30b-c7d9-41d4-ab25-46cf02b1d1c2"
   },
   "source": [
    "```python\n",
    "tf.keras.callbacks.ModelCheckpoint\n",
    "```\n",
    "\n",
    "([docs](https://www.tensorflow.org/api_docs/python/tf/keras/callbacks/ModelCheckpoint))\n",
    "\n",
    "To save your network automatically."
   ]
  },
  {
   "cell_type": "markdown",
   "id": "f5793350-2b50-4427-824c-6feaa34b7ebb",
   "metadata": {
    "id": "f5793350-2b50-4427-824c-6feaa34b7ebb"
   },
   "source": [
    "```python\n",
    "model_checkpoint_callback = tf.keras.callbacks.ModelCheckpoint(\n",
    "    filepath='model.keras',       # name and path of the file: format the name\n",
    "                                  # to prevent overwriting, e.g.\n",
    "                                  # f\"model.{epoch:02d}-{val_loss:.2f}.keras\"\n",
    "    save_weights_only=False,      # save full model\n",
    "    monitor='val_accuracy',       # the metric to monitor\n",
    "    mode='max',                   # do we aim for max or min?\n",
    "    save_best_only=True           # if False, you can specify\n",
    ")                                 # `save_freq=n` to save every n epochs\n",
    "```"
   ]
  },
  {
   "cell_type": "markdown",
   "id": "d23e2fa5-48b3-4bc1-b28d-8e270549137e",
   "metadata": {
    "id": "b29e025c"
   },
   "source": [
    "### TensorBoard"
   ]
  },
  {
   "cell_type": "markdown",
   "id": "bf1576a6-6de7-4452-af10-f951f50aebe7",
   "metadata": {
    "id": "b29e025c"
   },
   "source": [
    "```python\n",
    "tf.keras.callbacks.TensorBoard(\n",
    "    log_dir='logs',      # as above, you can specify the log directory\n",
    "    update_freq='epoch', # specific to this particular model\n",
    ")\n",
    "\n",
    "```\n",
    "\n",
    "Many more options in the ([docs](https://www.tensorflow.org/api_docs/python/tf/keras/callbacks/TensorBoard))..."
   ]
  },
  {
   "cell_type": "markdown",
   "id": "7c2626ee-87df-49e9-ba92-ccb6f7ddd55b",
   "metadata": {
    "id": "7c2626ee-87df-49e9-ba92-ccb6f7ddd55b"
   },
   "source": [
    "Locally, you start training, then open a terminal, activate your environment, then do:\n",
    "```bash\n",
    "tensorboard --logdir logs # same logdir as above!\n",
    "```\n",
    "The output will give you a local web address (default: ` http://localhost:6006/`) where the interface is accessible.\n",
    "\n",
    "This is **supposed** to work in Colab, but on the condition that Third-Party Cookies are allowed, etc. It hasn't in the past month for me, see [this](https://github.com/googlecolab/colabtools/issues/3990). Here is [the reference notebook](https://colab.research.google.com/drive/1AWienDOZQuHiJ2mFFXNpqnoZLI1aZ1Fi#scrollTo=NkTyhz9a8SNw)! Also in the zip on the VLE."
   ]
  },
  {
   "cell_type": "markdown",
   "id": "2221d914-38f8-4c69-8e96-f89d6ca1cd88",
   "metadata": {
    "id": "b3e413e5"
   },
   "source": [
    "### Saving/Loading models"
   ]
  },
  {
   "cell_type": "markdown",
   "id": "e90a3a0d-80b0-4594-9ee3-2525ffb77fbe",
   "metadata": {
    "id": "b3e413e5"
   },
   "source": [
    "The [Save and load Keras models](https://www.tensorflow.org/guide/keras/save_and_serialize) tutorial.\n",
    "\n",
    "\n",
    "```python\n",
    "model.save('path/to/location')         # save the full model\n",
    "\n",
    "model.save_weights('path/to/location') # save only the weights\n",
    "\n",
    "model = tf.keras.models.load_model('path/to/location')\n",
    "\n",
    "```"
   ]
  },
  {
   "cell_type": "markdown",
   "id": "14fb28d2-b89f-4129-b7da-6a2df5f6e13a",
   "metadata": {
    "id": "47054c27-bd5c-4f00-b4cb-1cc558b38307"
   },
   "source": [
    "---\n",
    "\n",
    "# Summary"
   ]
  },
  {
   "cell_type": "markdown",
   "id": "05bd64c8-3f92-4f27-a611-b428b1e34fad",
   "metadata": {
    "id": "cc2f53c9-722a-44eb-a4c5-1c316f70d744"
   },
   "source": [
    "## Workflow"
   ]
  },
  {
   "cell_type": "markdown",
   "id": "6760f49f-dd51-46ec-ac22-e8e7190ba201",
   "metadata": {
    "id": "cc2f53c9-722a-44eb-a4c5-1c316f70d744"
   },
   "source": [
    "1. **Define** the problem and **collect data** (samples and labels)\n",
    "2. Choose the **success criterion** (**loss**) and monitoring **metrics**\n",
    "3. Chose a **validation protocol** (hold-out...)\n",
    "4. **Prepare your data**\n",
    "5. Check your **baselines**\n",
    "5. **Train**  \n",
    "   a. a first underfitting model (still with statistical power, not a total wreck)  \n",
    "   b. a larger overfitting model  \n",
    "7. **Tune**  \n",
    "   a. **Regularise** the overfitting model  \n",
    "   b. **Tweak** hyperparameters based on performance on the **validation set**  \n",
    "8. **Retrain on the entire training set** and evaluate on your **unseen test set**"
   ]
  },
  {
   "cell_type": "markdown",
   "id": "8528e64b-5944-4eea-a9b2-416f56a110db",
   "metadata": {
    "id": "47054c27-bd5c-4f00-b4cb-1cc558b38307"
   },
   "source": [
    "## Overfitting"
   ]
  },
  {
   "cell_type": "markdown",
   "id": "da35e414-bfdd-4815-92f5-3d7c594ebfdf",
   "metadata": {
    "id": "47054c27-bd5c-4f00-b4cb-1cc558b38307"
   },
   "source": [
    "- **More data** is better. (By far the best and most straightforward measure...)\n",
    "\n",
    "Other techniques:\n",
    "\n",
    "- **Capacity reduction**\n",
    "- **Weight regularisation**\n",
    "- **Dropout**"
   ]
  },
  {
   "cell_type": "markdown",
   "id": "d0ea9993-c4dc-4399-91d5-d2087d6ab2e4",
   "metadata": {
    "id": "c4131965-4c3f-4e82-a36b-6ea259ad542c"
   },
   "source": [
    "## Statistical power"
   ]
  },
  {
   "cell_type": "markdown",
   "id": "7cae81c4-bd1a-4092-9d33-f44b092bcc2b",
   "metadata": {
    "id": "c4131965-4c3f-4e82-a36b-6ea259ad542c"
   },
   "source": [
    "We aim for statistical (predictive) power.\n",
    "\n",
    "- Establish a **baseline** will help you know what to aim for;\n",
    "- Grow your model until you beat the baseline and **overfit** (often happens straight away);\n",
    "- **Regularise** your model using various techniques.\n",
    "\n",
    "*It is informative to know what the **lower capacity limit** is for a particular architecture & problem (the largest network that does not overfit).*"
   ]
  },
  {
   "cell_type": "markdown",
   "id": "db408759-1201-400d-81f8-9eaa52c506c3",
   "metadata": {
    "id": "b07a693c-daa6-43d6-a15e-650fa6ea8555"
   },
   "source": [
    "## Experiments"
   ]
  },
  {
   "cell_type": "markdown",
   "id": "700a0ae8-3f78-491e-b7b8-444ecaee11a5",
   "metadata": {
    "id": "b07a693c-daa6-43d6-a15e-650fa6ea8555"
   },
   "source": [
    "- Different architectures (number of layers, units per layer)  \n",
    "- Dropout\n",
    "- L1/L2 regularisation\n",
    "- Other hyperparameters..."
   ]
  },
  {
   "cell_type": "markdown",
   "id": "0b5024d9-be9d-41e0-a489-2196e8ecc088",
   "metadata": {},
   "source": [
    "## Types of problems: summary table"
   ]
  },
  {
   "cell_type": "markdown",
   "id": "938b580a-5937-442d-8397-b53ec3836283",
   "metadata": {
    "id": "d01f5af8"
   },
   "source": [
    "|Problem type | Last layer activation | Loss function| Metric |\n",
    "|:---|:---|:---|:---|\n",
    "Binary classification | `sigmoid` | `binary_crossentropy`| `accuracy` |\n",
    "Multiclass, single-label classification | `softmax` | `categorical_crossentropy`| `accuracy` |\n",
    "Multiclass, multi-label classification | `sigmoid` | `binary_crossentropy` | `categorical_accuracy`|\n",
    "Regression to arbitrary values | `None` | `mse` | `mae` |\n",
    "Regression to values in [0, 1] | `sigmoid` | `mse` or `binary_crossentropy` | `mae`|\n"
   ]
  }
 ],
 "metadata": {
  "accelerator": "GPU",
  "celltoolbar": "Slideshow",
  "colab": {
   "gpuType": "T4",
   "provenance": []
  },
  "kernelspec": {
   "display_name": "Python 3 (ipykernel)",
   "language": "python",
   "name": "python3"
  },
  "language_info": {
   "codemirror_mode": {
    "name": "ipython",
    "version": 3
   },
   "file_extension": ".py",
   "mimetype": "text/x-python",
   "name": "python",
   "nbconvert_exporter": "python",
   "pygments_lexer": "ipython3",
   "version": "3.12.6"
  }
 },
 "nbformat": 4,
 "nbformat_minor": 5
}
