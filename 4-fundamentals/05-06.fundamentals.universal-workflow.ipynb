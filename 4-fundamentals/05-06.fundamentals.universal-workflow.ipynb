{
 "cells": [
  {
   "cell_type": "markdown",
   "id": "f895dca7",
   "metadata": {
    "id": "f895dca7"
   },
   "source": [
    "# Attendance\n",
    "\n",
    "[The link to SEAts](https://goldsmithscollege.sharepoint.com/sites/intranet-supporting-students/SitePages/SEAtS--QR-codes-for-check-in.aspx?utm_campaign=SEAtS%20reminder%2027.09.22&utm_source=emailCampaign&utm_content=&utm_medium=email)\n",
    "\n",
    "Announcement: added examples of previous outstanding CW1 submissions on the VLE!"
   ]
  },
  {
   "cell_type": "markdown",
   "id": "8a6e7a28",
   "metadata": {
    "id": "8a6e7a28"
   },
   "source": [
    "---\n",
    "\n",
    "# 5. Fundamentals of machine learning\n",
    "\n",
    "## 5.1 Generalisation: The goal of machine learning"
   ]
  },
  {
   "cell_type": "code",
   "execution_count": 1,
   "id": "00c656d6",
   "metadata": {
    "id": "00c656d6"
   },
   "outputs": [],
   "source": [
    "import os\n",
    "import numpy as np\n",
    "# we need more than the default 75 below\n",
    "np.set_printoptions(linewidth=100)\n",
    "\n",
    "import matplotlib.pyplot as plt\n",
    "plt.rcParams['lines.markersize'] = 3  # nice scatter point size\n",
    "\n",
    "import tensorflow as tf\n",
    "os.environ['TF_CPP_MIN_LOG_LEVEL'] = '3' # mute some annoying warnings"
   ]
  },
  {
   "cell_type": "markdown",
   "id": "a992a2cb",
   "metadata": {
    "id": "a992a2cb"
   },
   "source": [
    "The fundamental tension of learning:\n",
    "- *Optimization*: fit **training** data as closely as possible;\n",
    "- *Generalisation*: perform on **unseen** data as best as possible.\n"
   ]
  },
  {
   "cell_type": "markdown",
   "id": "371f6614",
   "metadata": {
    "id": "371f6614"
   },
   "source": [
    "---\n",
    "\n",
    "## Overfitting, *again*!\n"
   ]
  },
  {
   "cell_type": "markdown",
   "id": "6e164c5b-3cb7-47a0-82f1-c15ef2aacc3a",
   "metadata": {
    "id": "6e164c5b-3cb7-47a0-82f1-c15ef2aacc3a"
   },
   "source": [
    "<!-- ![Chollet canonical overfitting](images/chollet.canonical-overfitting.png) -->\n",
    "<img src=\"https://github.com/jchwenger/AI/blob/main/4-fundamentals/images/chollet.canonical-overfitting.png?raw=true\">\n",
    "\n",
    "<small>DLWP, p.122</small>\n",
    "\n",
    "An nice, accessible summary: [Santiago bias/variance tradeoff, Twitter](https://twitter.com/svpino/status/1584515105374339073?t=cYoz1-lqowkiDkOrac65Nw)."
   ]
  },
  {
   "cell_type": "markdown",
   "id": "4e9498f8",
   "metadata": {
    "id": "4e9498f8"
   },
   "source": [
    "If we think about this in abstract terms, if we want our model to generalise, it needs not to take into account **every single detail** in the training data.\n",
    "\n",
    "Because these are the things are that may not be present in unseen data.\n",
    "\n",
    "We want our model to produce **an abstract/underlying representation** of the data, not rote learn it."
   ]
  },
  {
   "cell_type": "markdown",
   "id": "c84aa88a",
   "metadata": {
    "id": "c84aa88a"
   },
   "source": [
    "<!-- ![Chollet outliers](images/chollet.overfitting-outliers.png) -->\n",
    "<img src=\"https://github.com/jchwenger/AI/blob/main/4-fundamentals/images/chollet.overfitting-outliers.png?raw=true\">\n",
    "\n",
    "\n",
    "<small>DLWP, p.124</small>"
   ]
  },
  {
   "cell_type": "markdown",
   "id": "7f592693",
   "metadata": {
    "id": "7f592693"
   },
   "source": [
    "The green line learns the underlying border between classes, discarding the fine-grained detail and noise in the area of uncertainty.\n",
    "\n",
    "<!-- ![Chollet ambiguous](images/chollet.overfitting-ambiguous.png) -->\n",
    "<img src=\"https://github.com/jchwenger/AI/blob/main/4-fundamentals/images/chollet.overfitting-ambiguous.png?raw=true\">\n",
    "\n",
    "<small>DLWP, p.124</small>"
   ]
  },
  {
   "cell_type": "markdown",
   "id": "2943ba68",
   "metadata": {
    "id": "2943ba68"
   },
   "source": [
    "### Noisy training data / Ambiguous features\n",
    "\n",
    "Datasets can contain errors.\n",
    "\n",
    "But also, data can be *intrinsically* ambiguous!\n",
    "\n",
    "For instance, sometimes a hand-written 7 can be really close to a 1!"
   ]
  },
  {
   "cell_type": "markdown",
   "id": "692eb167",
   "metadata": {
    "id": "692eb167"
   },
   "source": [
    "<!-- ![Chollet noisy data](images/chollet.noisy-data.png) -->\n",
    "<img src=\"https://github.com/jchwenger/AI/blob/main/4-fundamentals/images/chollet.noisy-data.png?raw=true\">\n",
    "\n",
    "\n",
    "<small>DLWP, p.123</small>"
   ]
  },
  {
   "cell_type": "markdown",
   "id": "4c940d14",
   "metadata": {
    "id": "4c940d14"
   },
   "source": [
    "<!-- ![Chollet mislabeled data](images/chollet.mislabeled-data.png) -->\n",
    "<img src=\"https://github.com/jchwenger/AI/blob/main/4-fundamentals/images/chollet.mislabeled-data.png?raw=true\">\n",
    "\n",
    "\n",
    "<small>DLWP, p.123</small>"
   ]
  },
  {
   "cell_type": "markdown",
   "id": "4c89f2fc",
   "metadata": {
    "id": "4c89f2fc"
   },
   "source": [
    "### Rare features and spurious correlations\n",
    "\n",
    "One other danger is to **think certain features are correlated when they are not**, you simply have never seen data that contradicts your assumption.\n",
    "\n",
    "*Example: you've known two orange tabby cats, they were antisocial. You think all orange tabby cats are, even if they are not.* DLWP, p.125.\n",
    "\n",
    "\n",
    "<a href=\"https://twitter.com/fchollet/status/1585640324948406275?t=8r0T5VGcy5RZ_xF1L6_5Xw&s=03\">\n",
    "<!--     <img style=\"float:right\" src=\"images/chollet.overfitting-ikea.png\"> -->\n",
    "    <img style=\"float:right\" src=\"https://github.com/jchwenger/AI/blob/main/4-fundamentals/images/chollet.overfitting-ikea.png?raw=true\">\n",
    "</a>"
   ]
  },
  {
   "cell_type": "markdown",
   "id": "2f491f52",
   "metadata": {
    "id": "2f491f52"
   },
   "source": [
    "As an experiment, we can add 784 noise dimension to MNIST images and see the result."
   ]
  },
  {
   "cell_type": "code",
   "execution_count": 73,
   "id": "8508639a",
   "metadata": {
    "id": "8508639a"
   },
   "outputs": [],
   "source": [
    "(train_images, train_labels), _ = tf.keras.datasets.mnist.load_data()\n",
    "train_images = train_images.reshape((60000, 28 * 28))\n",
    "train_images = train_images.astype(\"float32\") / 255\n",
    "\n",
    "train_images_with_noise_channels = np.concatenate(\n",
    "    [train_images, np.random.random((len(train_images), 784))], axis=1\n",
    ")                 # ↑ ADDING RANDOM FEATURES (same size as the samples)\n",
    "\n",
    "train_images_with_zeros_channels = np.concatenate(\n",
    "    [train_images, np.zeros((len(train_images), 784))], axis=1\n",
    ")                 # ↑ ADDING ZEROS (EMPTY) FEATURES (same size as the samples)"
   ]
  },
  {
   "cell_type": "code",
   "execution_count": 74,
   "id": "a940921e",
   "metadata": {
    "id": "a940921e"
   },
   "outputs": [],
   "source": [
    "def get_model(clear=True):\n",
    "    if clear:\n",
    "        tf.keras.backend.clear_session()\n",
    "    model = tf.keras.Sequential([\n",
    "        tf.keras.layers.Dense(512, activation=\"relu\"),\n",
    "        tf.keras.layers.Dense(10, activation=\"softmax\")\n",
    "    ])\n",
    "    model.compile(\n",
    "        optimizer=\"rmsprop\",\n",
    "        loss=\"sparse_categorical_crossentropy\",\n",
    "        metrics=[\"accuracy\"]\n",
    "    )\n",
    "    return model"
   ]
  },
  {
   "cell_type": "code",
   "execution_count": 75,
   "id": "331f553c",
   "metadata": {
    "colab": {
     "base_uri": "https://localhost:8080/"
    },
    "id": "331f553c",
    "outputId": "db70dc06-e2ac-470f-f152-7d6e89a3d78b"
   },
   "outputs": [
    {
     "name": "stdout",
     "output_type": "stream",
     "text": [
      "Epoch 1/10\n",
      "375/375 [==============================] - 2s 5ms/step - loss: 0.2947 - accuracy: 0.9140 - val_loss: 0.1894 - val_accuracy: 0.9417\n",
      "Epoch 2/10\n",
      "375/375 [==============================] - 2s 5ms/step - loss: 0.1243 - accuracy: 0.9636 - val_loss: 0.1209 - val_accuracy: 0.9643\n",
      "Epoch 3/10\n",
      "375/375 [==============================] - 2s 4ms/step - loss: 0.0809 - accuracy: 0.9768 - val_loss: 0.0899 - val_accuracy: 0.9738\n",
      "Epoch 4/10\n",
      "375/375 [==============================] - 1s 3ms/step - loss: 0.0585 - accuracy: 0.9831 - val_loss: 0.0843 - val_accuracy: 0.9746\n",
      "Epoch 5/10\n",
      "375/375 [==============================] - 1s 3ms/step - loss: 0.0438 - accuracy: 0.9872 - val_loss: 0.0849 - val_accuracy: 0.9737\n",
      "Epoch 6/10\n",
      "375/375 [==============================] - 1s 4ms/step - loss: 0.0327 - accuracy: 0.9908 - val_loss: 0.0781 - val_accuracy: 0.9775\n",
      "Epoch 7/10\n",
      "375/375 [==============================] - 1s 3ms/step - loss: 0.0241 - accuracy: 0.9938 - val_loss: 0.0730 - val_accuracy: 0.9791\n",
      "Epoch 8/10\n",
      "375/375 [==============================] - 1s 3ms/step - loss: 0.0182 - accuracy: 0.9952 - val_loss: 0.0760 - val_accuracy: 0.9793\n",
      "Epoch 9/10\n",
      "375/375 [==============================] - 1s 4ms/step - loss: 0.0142 - accuracy: 0.9965 - val_loss: 0.0772 - val_accuracy: 0.9783\n",
      "Epoch 10/10\n",
      "375/375 [==============================] - 1s 3ms/step - loss: 0.0099 - accuracy: 0.9978 - val_loss: 0.0728 - val_accuracy: 0.9795\n"
     ]
    }
   ],
   "source": [
    "# training original dataset\n",
    "model = get_model()\n",
    "history_orig = model.fit(\n",
    "    train_images,\n",
    "    train_labels,\n",
    "    epochs=10,\n",
    "    batch_size=128,\n",
    "    validation_split=0.2 # ← NOTE: Keras is so nice you can even ask it to set aside validation data for you...\n",
    ")\n",
    "del model"
   ]
  },
  {
   "cell_type": "code",
   "execution_count": 76,
   "id": "87d335f0-67d4-40af-bffe-4656fdd2747b",
   "metadata": {
    "colab": {
     "base_uri": "https://localhost:8080/"
    },
    "id": "87d335f0-67d4-40af-bffe-4656fdd2747b",
    "outputId": "e9ab123b-3af4-4d7a-f498-131a773d9237"
   },
   "outputs": [
    {
     "name": "stdout",
     "output_type": "stream",
     "text": [
      "Epoch 1/10\n",
      "375/375 [==============================] - 2s 5ms/step - loss: 0.6006 - accuracy: 0.8138 - val_loss: 0.3450 - val_accuracy: 0.8902\n",
      "Epoch 2/10\n",
      "375/375 [==============================] - 1s 3ms/step - loss: 0.2561 - accuracy: 0.9200 - val_loss: 0.2040 - val_accuracy: 0.9364\n",
      "Epoch 3/10\n",
      "375/375 [==============================] - 1s 4ms/step - loss: 0.1694 - accuracy: 0.9482 - val_loss: 0.1763 - val_accuracy: 0.9474\n",
      "Epoch 4/10\n",
      "375/375 [==============================] - 2s 5ms/step - loss: 0.1228 - accuracy: 0.9623 - val_loss: 0.2184 - val_accuracy: 0.9303\n",
      "Epoch 5/10\n",
      "375/375 [==============================] - 2s 4ms/step - loss: 0.0906 - accuracy: 0.9715 - val_loss: 0.1541 - val_accuracy: 0.9538\n",
      "Epoch 6/10\n",
      "375/375 [==============================] - 1s 3ms/step - loss: 0.0677 - accuracy: 0.9787 - val_loss: 0.1326 - val_accuracy: 0.9603\n",
      "Epoch 7/10\n",
      "375/375 [==============================] - 1s 3ms/step - loss: 0.0504 - accuracy: 0.9838 - val_loss: 0.1376 - val_accuracy: 0.9617\n",
      "Epoch 8/10\n",
      "375/375 [==============================] - 1s 4ms/step - loss: 0.0375 - accuracy: 0.9880 - val_loss: 0.1371 - val_accuracy: 0.9643\n",
      "Epoch 9/10\n",
      "375/375 [==============================] - 1s 3ms/step - loss: 0.0298 - accuracy: 0.9904 - val_loss: 0.1314 - val_accuracy: 0.9659\n",
      "Epoch 10/10\n",
      "375/375 [==============================] - 1s 4ms/step - loss: 0.0213 - accuracy: 0.9931 - val_loss: 0.1284 - val_accuracy: 0.9678\n"
     ]
    }
   ],
   "source": [
    "# training with noise\n",
    "model = get_model()\n",
    "history_noise = model.fit(\n",
    "    train_images_with_noise_channels,\n",
    "    train_labels,\n",
    "    epochs=10,\n",
    "    batch_size=128,\n",
    "    validation_split=0.2\n",
    ")\n",
    "del model"
   ]
  },
  {
   "cell_type": "code",
   "execution_count": 77,
   "id": "39ce38ff-1fd0-406a-929b-433b9fcdc39f",
   "metadata": {
    "colab": {
     "base_uri": "https://localhost:8080/"
    },
    "id": "39ce38ff-1fd0-406a-929b-433b9fcdc39f",
    "outputId": "671af14b-95ee-4323-e9fe-dec1f4d3272f"
   },
   "outputs": [
    {
     "name": "stdout",
     "output_type": "stream",
     "text": [
      "Epoch 1/10\n",
      "375/375 [==============================] - 2s 4ms/step - loss: 0.2988 - accuracy: 0.9135 - val_loss: 0.1561 - val_accuracy: 0.9558\n",
      "Epoch 2/10\n",
      "375/375 [==============================] - 1s 3ms/step - loss: 0.1251 - accuracy: 0.9624 - val_loss: 0.1085 - val_accuracy: 0.9691\n",
      "Epoch 3/10\n",
      "375/375 [==============================] - 1s 4ms/step - loss: 0.0807 - accuracy: 0.9762 - val_loss: 0.0921 - val_accuracy: 0.9728\n",
      "Epoch 4/10\n",
      "375/375 [==============================] - 1s 4ms/step - loss: 0.0583 - accuracy: 0.9825 - val_loss: 0.0887 - val_accuracy: 0.9745\n",
      "Epoch 5/10\n",
      "375/375 [==============================] - 1s 4ms/step - loss: 0.0433 - accuracy: 0.9867 - val_loss: 0.0784 - val_accuracy: 0.9765\n",
      "Epoch 6/10\n",
      "375/375 [==============================] - 2s 5ms/step - loss: 0.0326 - accuracy: 0.9905 - val_loss: 0.0728 - val_accuracy: 0.9781\n",
      "Epoch 7/10\n",
      "375/375 [==============================] - 2s 4ms/step - loss: 0.0245 - accuracy: 0.9935 - val_loss: 0.0717 - val_accuracy: 0.9794\n",
      "Epoch 8/10\n",
      "375/375 [==============================] - 1s 3ms/step - loss: 0.0182 - accuracy: 0.9950 - val_loss: 0.0753 - val_accuracy: 0.9789\n",
      "Epoch 9/10\n",
      "375/375 [==============================] - 1s 3ms/step - loss: 0.0141 - accuracy: 0.9962 - val_loss: 0.0771 - val_accuracy: 0.9783\n",
      "Epoch 10/10\n",
      "375/375 [==============================] - 1s 3ms/step - loss: 0.0102 - accuracy: 0.9976 - val_loss: 0.0763 - val_accuracy: 0.9797\n"
     ]
    }
   ],
   "source": [
    "# training with zeros\n",
    "model = get_model()\n",
    "history_zeros = model.fit(\n",
    "    train_images_with_zeros_channels,\n",
    "    train_labels,\n",
    "    epochs=10,\n",
    "    batch_size=128,\n",
    "    validation_split=0.2\n",
    ")\n",
    "del model"
   ]
  },
  {
   "cell_type": "code",
   "execution_count": 78,
   "id": "fd7d6746",
   "metadata": {
    "colab": {
     "base_uri": "https://localhost:8080/",
     "height": 472
    },
    "id": "fd7d6746",
    "outputId": "2333d994-aa81-4d03-b96f-d1744589cc87"
   },
   "outputs": [
    {
     "data": {
      "image/png": "[encoded data removed]",
      "text/plain": [
       "<Figure size 640x480 with 1 Axes>"
      ]
     },
     "metadata": {},
     "output_type": "display_data"
    }
   ],
   "source": [
    "val_acc_orig = history_orig.history[\"val_accuracy\"]\n",
    "val_acc_noise = history_noise.history[\"val_accuracy\"]\n",
    "val_acc_zeros = history_zeros.history[\"val_accuracy\"]\n",
    "epochs = range(1, 11)\n",
    "plt.plot(epochs, val_acc_orig, \":\", label=\"Validation accuracy without additional channels\")\n",
    "plt.plot(epochs, val_acc_noise, \"-\", label=\"Validation accuracy with noise channels\")\n",
    "plt.plot(epochs, val_acc_zeros, \"--\", label=\"Validation accuracy with zeros channels\")\n",
    "plt.title(\"Effect of noise channels on validation accuracy\")\n",
    "plt.xlabel(\"Epochs\")\n",
    "plt.ylabel(\"Accuracy\")\n",
    "plt.legend()\n",
    "plt.show()"
   ]
  },
  {
   "cell_type": "markdown",
   "id": "26ceb37f",
   "metadata": {
    "id": "26ceb37f"
   },
   "source": [
    "Almost one percentage point lower validation accuracy for the noisy model despite the same information in both cases!\n",
    "\n",
    "*The more noise channels you add, the further accuracy will degrade.* (DLWP, p.126)\n",
    "\n",
    "The model **fits the noise** (another way of seeing overfitting)."
   ]
  },
  {
   "cell_type": "markdown",
   "id": "81fa6626",
   "metadata": {
    "id": "81fa6626"
   },
   "source": [
    "---\n",
    "\n",
    "##  5.1.2 The nature of generalisation in deep learning\n",
    "\n",
    "A remarkable fact about deep learning models is that **they can be trained to fit anything**, as long as they have enough representational power.\n",
    "\n",
    "For example, you can shuffle the MNIST labels and train on that!"
   ]
  },
  {
   "cell_type": "code",
   "execution_count": 79,
   "id": "853b6650",
   "metadata": {
    "colab": {
     "base_uri": "https://localhost:8080/"
    },
    "id": "853b6650",
    "outputId": "2adab667-e179-4dab-f730-ec5983ffe09a"
   },
   "outputs": [
    {
     "name": "stdout",
     "output_type": "stream",
     "text": [
      "Epoch 1/20\n",
      "375/375 [==============================] - 2s 4ms/step - loss: 2.3149 - accuracy: 0.1017 - val_loss: 2.3034 - val_accuracy: 0.1082\n",
      "Epoch 2/20\n",
      "375/375 [==============================] - 1s 4ms/step - loss: 2.2998 - accuracy: 0.1178 - val_loss: 2.3126 - val_accuracy: 0.1050\n",
      "Epoch 3/20\n",
      "375/375 [==============================] - 1s 3ms/step - loss: 2.2921 - accuracy: 0.1257 - val_loss: 2.3145 - val_accuracy: 0.1048\n",
      "Epoch 4/20\n",
      "375/375 [==============================] - 1s 4ms/step - loss: 2.2803 - accuracy: 0.1359 - val_loss: 2.3246 - val_accuracy: 0.1013\n",
      "Epoch 5/20\n",
      "375/375 [==============================] - 1s 3ms/step - loss: 2.2642 - accuracy: 0.1494 - val_loss: 2.3360 - val_accuracy: 0.0997\n",
      "Epoch 6/20\n",
      "375/375 [==============================] - 1s 3ms/step - loss: 2.2460 - accuracy: 0.1635 - val_loss: 2.3499 - val_accuracy: 0.0995\n",
      "Epoch 7/20\n",
      "375/375 [==============================] - 1s 4ms/step - loss: 2.2234 - accuracy: 0.1788 - val_loss: 2.3628 - val_accuracy: 0.1053\n",
      "Epoch 8/20\n",
      "375/375 [==============================] - 1s 4ms/step - loss: 2.1966 - accuracy: 0.1936 - val_loss: 2.3842 - val_accuracy: 0.1003\n",
      "Epoch 9/20\n",
      "375/375 [==============================] - 2s 5ms/step - loss: 2.1678 - accuracy: 0.2115 - val_loss: 2.3995 - val_accuracy: 0.1018\n",
      "Epoch 10/20\n",
      "375/375 [==============================] - 1s 4ms/step - loss: 2.1355 - accuracy: 0.2266 - val_loss: 2.4171 - val_accuracy: 0.0976\n",
      "Epoch 11/20\n",
      "375/375 [==============================] - 1s 4ms/step - loss: 2.1016 - accuracy: 0.2438 - val_loss: 2.4407 - val_accuracy: 0.1011\n",
      "Epoch 12/20\n",
      "375/375 [==============================] - 1s 3ms/step - loss: 2.0658 - accuracy: 0.2640 - val_loss: 2.4654 - val_accuracy: 0.1022\n",
      "Epoch 13/20\n",
      "375/375 [==============================] - 1s 3ms/step - loss: 2.0285 - accuracy: 0.2773 - val_loss: 2.5078 - val_accuracy: 0.1003\n",
      "Epoch 14/20\n",
      "375/375 [==============================] - 1s 3ms/step - loss: 1.9901 - accuracy: 0.2947 - val_loss: 2.5273 - val_accuracy: 0.1049\n",
      "Epoch 15/20\n",
      "375/375 [==============================] - 1s 3ms/step - loss: 1.9517 - accuracy: 0.3101 - val_loss: 2.5775 - val_accuracy: 0.1018\n",
      "Epoch 16/20\n",
      "375/375 [==============================] - 1s 4ms/step - loss: 1.9116 - accuracy: 0.3262 - val_loss: 2.5927 - val_accuracy: 0.1012\n",
      "Epoch 17/20\n",
      "375/375 [==============================] - 1s 4ms/step - loss: 1.8731 - accuracy: 0.3440 - val_loss: 2.6346 - val_accuracy: 0.1029\n",
      "Epoch 18/20\n",
      "375/375 [==============================] - 2s 5ms/step - loss: 1.8346 - accuracy: 0.3566 - val_loss: 2.6794 - val_accuracy: 0.0960\n",
      "Epoch 19/20\n",
      "375/375 [==============================] - 2s 4ms/step - loss: 1.7943 - accuracy: 0.3753 - val_loss: 2.6969 - val_accuracy: 0.0999\n",
      "Epoch 20/20\n",
      "375/375 [==============================] - 1s 3ms/step - loss: 1.7581 - accuracy: 0.3887 - val_loss: 2.7313 - val_accuracy: 0.1004\n"
     ]
    }
   ],
   "source": [
    "random_train_labels = train_labels[:]  # [:] is a nice way to guarantee you are making a copy\n",
    "np.random.shuffle(random_train_labels) # shuffle the labels\n",
    "\n",
    "model = tf.keras.Sequential([\n",
    "    tf.keras.layers.Dense(512, activation=\"relu\"),\n",
    "    tf.keras.layers.Dense(10, activation=\"softmax\")\n",
    "])\n",
    "model.compile(\n",
    "    optimizer=\"rmsprop\",\n",
    "    loss=\"sparse_categorical_crossentropy\",\n",
    "    metrics=[\"accuracy\"]\n",
    ")\n",
    "model.fit(\n",
    "    train_images, random_train_labels,\n",
    "    epochs=20,\n",
    "    batch_size=128,\n",
    "    validation_split=0.2\n",
    ")\n",
    "del model, train_images_with_noise_channels, train_images_with_zeros_channels"
   ]
  },
  {
   "cell_type": "markdown",
   "id": "67bb85e5",
   "metadata": {
    "id": "67bb85e5"
   },
   "source": [
    "If you do that, you find that:\n",
    "\n",
    "- the **loss** *still* goes down (although learning is far easier when the labels are meaningful)\n",
    "- the **validation loss** tends to diverge, and certainly does not go down!\n",
    "- your **validation accuracy** will be, in our case, around 0.1: *random guessing*!\n",
    "\n",
    "But this is a fascinating phenomenon: you can generate random data points and labels, and your network **will** learn them.\n",
    "\n",
    "So, how come networks *do* learn something and generalise?"
   ]
  },
  {
   "cell_type": "markdown",
   "id": "5241c0da",
   "metadata": {
    "id": "5241c0da"
   },
   "source": [
    "### The manifold hypothesis"
   ]
  },
  {
   "cell_type": "markdown",
   "id": "9f0a8db3",
   "metadata": {
    "id": "9f0a8db3"
   },
   "source": [
    "#### Manifolds\n",
    "\n",
    "**Manifold** is the topological generalisation of a surface (like tensors with vectors and matrices).\n",
    "\n",
    "Technically: a manifold **locally resembles Euclidean space near each point** ([Wikipedia](https://en.wikipedia.org/wiki/Manifold)).\n",
    "\n",
    "The Earth's surface looks flat from our (sufficiently local) perspective.\n",
    "\n",
    "A line is an example of a 1D manifold. A plane, but also the surface of a sphere, or a torus (doughnut), are all 2D manifolds. And of course this doesn't stop there, this works in any dimension."
   ]
  },
  {
   "cell_type": "markdown",
   "id": "cf1e2fa7",
   "metadata": {
    "id": "cf1e2fa7"
   },
   "source": [
    "<!-- ![Brian Keng circle manifold](images/bjlkeng.manifold-circle.png) -->\n",
    "<img src=\"https://github.com/jchwenger/AI/blob/main/4-fundamentals/images/bjlkeng.manifold-circle.png?raw=true\">\n",
    "\n",
    "\"A circle is a one-dimensional manifold embedded in two dimensions where each arc of the circle locally resembles a line segment.\"  \n",
    "<small>Source: [Brian Keng, \"Manifolds: A Gentle Introduction\"](https://bjlkeng.github.io/posts/manifolds/), itself taken from: [Manifold, Wikipedia](https://en.wikipedia.org/wiki/Manifold#Circle)</small>"
   ]
  },
  {
   "cell_type": "markdown",
   "id": "c4e3d872",
   "metadata": {
    "id": "c4e3d872"
   },
   "source": [
    "The idea comes from the fact that our data is **highly structured**.\n",
    "\n",
    "Our network can learn that structure, instead of, as said, *rote-learning*/*memorising* the data.\n",
    "\n",
    "We are not at all learning **all possible 28x28 images** ($255^{784}\\ \\text{possibilities!}$), only a tiny subset."
   ]
  },
  {
   "cell_type": "markdown",
   "id": "11b7fbc7",
   "metadata": {
    "id": "11b7fbc7"
   },
   "source": [
    "You can easily imagine that *most* possible images are not MNIST digits...\n",
    "\n",
    "What is more, we can make the *hypothesis* that the subset of digits is in fact a **manifold** within the space of possible 28 x 28 `uint8` arrays."
   ]
  },
  {
   "cell_type": "markdown",
   "id": "24b28c13",
   "metadata": {
    "id": "24b28c13"
   },
   "source": [
    "If the space of MNIST digits is a manifold:\n",
    "- it is **continuous**: if you modify a sample a little, it is still recognisable;\n",
    "- all as samples are **connected** (you can travel from one to the other without jumps)."
   ]
  },
  {
   "cell_type": "markdown",
   "id": "09c4496d",
   "metadata": {
    "id": "09c4496d"
   },
   "source": [
    "What does this mean for us?\n",
    "- Machine learning models only have to fit **relatively simple, low-dimensional, highly structured subspaces** within their potential input space (latent manifolds).\n",
    "- Within one of these manifolds, it’s always possible to **interpolate between two inputs**, that is to say, morph one into another via a continuous path along which all points are still valid points, still on the manifold (MNIST digits)."
   ]
  },
  {
   "cell_type": "markdown",
   "id": "0c56280c",
   "metadata": {
    "id": "0c56280c"
   },
   "source": [
    "<!-- ![Chollet MNIST morphing](images/chollet.mnist-morphing.png) -->\n",
    "<img src=\"https://github.com/jchwenger/AI/blob/main/4-fundamentals/images/chollet.mnist-morphing.png?raw=true\">\n",
    "\n",
    "<small>DLWP, p.129</small>"
   ]
  },
  {
   "cell_type": "markdown",
   "id": "2cd76ec1",
   "metadata": {
    "id": "2cd76ec1"
   },
   "source": [
    "### Interpolation as a source of generalisation\n",
    "\n",
    "So, if you have been able to learn that manifold, you can start making sense of points you’ve never seen before by **relating them to other points that lie close on the manifold**.\n",
    "\n",
    "You can make sense of the **totality** of the space using only a **sample** of the space."
   ]
  },
  {
   "cell_type": "markdown",
   "id": "54d9f522",
   "metadata": {
    "id": "54d9f522"
   },
   "source": [
    "<!-- ![Chollet ](images/chollet.manifold-linear-interpolation.png) -->\n",
    "<img src=\"https://github.com/jchwenger/AI/blob/main/4-fundamentals/images/chollet.manifold-linear-interpolation.png?raw=true\">\n",
    "\n",
    "<small>DLWP, p.130</small>"
   ]
  },
  {
   "cell_type": "markdown",
   "id": "2bbd222f",
   "metadata": {
    "id": "2bbd222f"
   },
   "source": [
    "However, one should remember this is only *one* aspect of generalisation.\n",
    "\n",
    "The tip of the iceberg, and only working for *close* points: **local generalisation**.\n",
    "\n",
    "In Chollet's theory, humans are capable of much more: **extreme generalisation**."
   ]
  },
  {
   "cell_type": "markdown",
   "id": "06181787",
   "metadata": {
    "id": "06181787"
   },
   "source": [
    "### Why deep learning works\n",
    "\n",
    "A deep learning model is basically:\n",
    "- a sheet of paper is a 2D manifold in 3D: as the net learns, the curve is fitted to data points, **uncrumpling** the sheet;\n",
    "- a very high-dimensional curve that is smooth and continuous, (required for gradient descent);\n",
    "- you can also see it as **finding the appropriate projection** of the data into the structured space (the manifold).\n",
    "\n",
    "<!-- ![Chollet training intermediate state](images/chollet.overfitting-training-intermediate.png) -->\n",
    "<img  style=\"height:650\"  src=\"https://github.com/jchwenger/AI/blob/main/4-fundamentals/images/chollet.overfitting-training-intermediate.png?raw=true\">\n",
    "\n",
    "<small>DLWP, p.131</small>"
   ]
  },
  {
   "cell_type": "markdown",
   "id": "490f2467",
   "metadata": {
    "id": "490f2467"
   },
   "source": [
    "### Training data is paramount\n",
    "\n",
    "The more data you train on, the better you can fit!\n",
    "\n",
    "<!-- <img src=\"images/chollet.generalization-dense-sampling.png\"> -->\n",
    "<img src=\"https://github.com/jchwenger/AI/blob/main/4-fundamentals/images/chollet.uncrumpling.png?raw=true\">\n",
    "\n",
    "<small  style=\"position:absolute;right:0;bottom:0\">DLWP, p.132</small>"
   ]
  },
  {
   "cell_type": "markdown",
   "id": "d3cc8835",
   "metadata": {
    "id": "d3cc8835"
   },
   "source": [
    "### The Curse of Dimensionality\n",
    "\n",
    "The [**curse of dimensionality**](https://en.wikipedia.org/wiki/Curse_of_dimensionality) is actually one of the real challenges in Deep Learning.\n",
    "\n",
    "When your data is distributed in a very high-dimensional space, data points have barely **any neighbours**.\n",
    "\n",
    "The space is very **sparse** (very few data points compared to all possibilities).\n",
    "\n",
    "That is because **one dimension is enough** for two points to be far apart.\n",
    "\n",
    "*Example: MNIST images. 784 pixels, each indpendent of each other, thus considered the __dimensions__ of the space of possible images. What are the chances that, given two images of a number, __all__ pixel values are really close to each other (↔ the coordinates of the two images are close)?*"
   ]
  },
  {
   "cell_type": "code",
   "execution_count": 80,
   "id": "16d99704",
   "metadata": {
    "id": "16d99704"
   },
   "outputs": [],
   "source": [
    "def plot_distant_points():\n",
    "    fig = plt.figure()\n",
    "    ax = fig.add_subplot(projection='3d')\n",
    "\n",
    "    p1 = (6,5,0)   # the two points are very close in the two first dims\n",
    "    p2 = (5,6,10)  # but one dimension is enough to draw them apart\n",
    "\n",
    "    p12 = (6,5,10)   # the two points are very close in the two first dims\n",
    "    p22 = (5,6,0)   # the two points are very close in the two first dims\n",
    "\n",
    "    ax.set_xlim([0,12])\n",
    "    ax.set_ylim([0,12])\n",
    "    ax.set_zlim([0,12])\n",
    "\n",
    "    ax.scatter(*p1, marker='o', c='b', s=100, label=f\"Point 1:  {p1}\")\n",
    "    ax.scatter(*p2, marker='x', c='b', s=100, label=f\"Point 2:  {p2}\")\n",
    "\n",
    "    ax.scatter(*p12, marker='o', c='coral', label=f\"Point 1': {p12}\")\n",
    "    ax.scatter(*p22, marker='x', c='coral', label=f\"Point 2': {p22}\")\n",
    "\n",
    "    ax.set_xlabel('X Label')\n",
    "    ax.set_ylabel('Y Label')\n",
    "    ax.set_zlabel('Z Label')\n",
    "    plt.legend()\n",
    "    plt.show()"
   ]
  },
  {
   "cell_type": "markdown",
   "id": "7dd0d0eb",
   "metadata": {
    "id": "7dd0d0eb"
   },
   "source": [
    "A 3D example. Two points are close to each other in the first two dimensions, but the third dimension sets them apart. What is the chance for two points to be close if there are 784 dimensions?"
   ]
  },
  {
   "cell_type": "code",
   "execution_count": 81,
   "id": "44a4c622",
   "metadata": {
    "colab": {
     "base_uri": "https://localhost:8080/",
     "height": 418
    },
    "id": "44a4c622",
    "outputId": "b40701bb-470c-4567-df79-fb2d41e3fd89"
   },
   "outputs": [
    {
     "data": {
      "image/png": "[encoded data removed]",
      "text/plain": [
       "<Figure size 640x480 with 1 Axes>"
      ]
     },
     "metadata": {},
     "output_type": "display_data"
    }
   ],
   "source": [
    "plot_distant_points()"
   ]
  },
  {
   "cell_type": "markdown",
   "id": "46dd9985-cbfb-4255-acfb-b02cc8cb7775",
   "metadata": {
    "id": "46dd9985-cbfb-4255-acfb-b02cc8cb7775"
   },
   "source": [
    "---\n",
    "\n",
    "## 5.2 Evaluating machine-learning models\n",
    "\n",
    "## 5.2.1 Training, validation, and test sets"
   ]
  },
  {
   "cell_type": "markdown",
   "id": "25abb24d-77eb-4a3b-8d57-1bfe443d07c6",
   "metadata": {
    "id": "25abb24d-77eb-4a3b-8d57-1bfe443d07c6"
   },
   "source": [
    "### Recap\n",
    "\n",
    "Models are not evaluated on their training data because we want **generalisation** – the ability to make good predictions on new, unseen data.\n",
    "\n",
    "Predictive power on unseen data can **worsen** even though the fit to training data **improves**.\n",
    "\n",
    "We need stategies to limit overfitting and maximise generalisation."
   ]
  },
  {
   "cell_type": "markdown",
   "id": "f4d220e0-c015-4045-b7cc-d19dbac64929",
   "metadata": {
    "id": "f4d220e0-c015-4045-b7cc-d19dbac64929"
   },
   "source": [
    "Remember, the reason we use a **validation set** on top of our **test set** is:\n",
    "\n",
    "We wish to find good **hyperparameter** settings!"
   ]
  },
  {
   "cell_type": "markdown",
   "id": "5d78e4c7-eb36-41f4-a36e-2076af93062e",
   "metadata": {
    "id": "5d78e4c7-eb36-41f4-a36e-2076af93062e"
   },
   "source": [
    "Hyperparameters are tuned by considering their effect on a validation set.\n",
    "\n",
    "**We** inject into our model information about that validation set every time a hyperparameter is tuned.\n",
    "\n",
    "The more experiments we perform, the more information from that set **leaks** into our model.\n"
   ]
  },
  {
   "cell_type": "markdown",
   "id": "34c1d157-24a9-4706-aa57-e5076375bb33",
   "metadata": {
    "id": "34c1d157-24a9-4706-aa57-e5076375bb33"
   },
   "source": [
    "Thus, we cannot possibly consider the validation set **unseen data**.\n",
    "\n",
    "At the end of the tuning process, the model is actually optimised for the validation set.\n",
    "\n",
    "And generalisation can still be checked by evaluating our model on our **(unseen) test data**.\n",
    "\n",
    "<!-- <img style=\"height:300px;float:right\" src=\"images/select-best-model.png\"> -->\n",
    "<img style=\"height:300px;float:right\" src=\"https://github.com/jchwenger/AI/blob/main/4-fundamentals/images/select-best-model.png?raw=true\">\n",
    "\n",
    "<small style=\"position:absolute;right:0;bottom:0\">[\"Training, Validation and Test sets 차이 및 정확한 용도 (훈련, 검정, 테스트 데이터 차이)\"](https://modern-manual.tistory.com/m/19)</small>"
   ]
  },
  {
   "cell_type": "markdown",
   "id": "73a85c4a-574d-4725-a859-c52b0509e5b6",
   "metadata": {
    "id": "73a85c4a-574d-4725-a859-c52b0509e5b6"
   },
   "source": [
    "## Three validation techniques\n",
    "\n",
    "- #### Simple hold-out validation\n",
    "- #### K-fold validation\n",
    "- #### Iterated K-fold validation with shuffling"
   ]
  },
  {
   "cell_type": "markdown",
   "id": "86035189",
   "metadata": {
    "id": "86035189"
   },
   "source": [
    "### 1. Simple hold-out validation\n",
    "\n",
    "Basic setup (common in big data settings):\n",
    "\n",
    "<!-- <img style=\"height:350px;float:right\" src=\"images/chollet.simple-holdout-validation.png\"> -->\n",
    "<img style=\"height:350px;float:left\" src=\"https://github.com/jchwenger/AI/blob/main/4-fundamentals/images/chollet.simple-holdout-validation.png?raw=true\">\n",
    "<small  style=\"position:absolute;left:0;bottom:0\">DLWP, p.134</small>\n"
   ]
  },
  {
   "cell_type": "markdown",
   "id": "1849471d",
   "metadata": {
    "id": "1849471d"
   },
   "source": [
    "Our setup (theoretically better!):\n",
    "\n",
    "\n",
    "<!-- <img style=\"height:300px;float:right\" src=\"images/training-validation-test.png\"> -->\n",
    "<img  style=\"height:300px;float:right\" src=\"https://github.com/jchwenger/AI/blob/main/4-fundamentals/images/training-validation-test.png?raw=true\">\n",
    "\n",
    "<small style=\"position:absolute;right:0;bottom:0\">[\"Training, Validation and Test sets 차이 및 정확한 용도 (훈련, 검정, 테스트 데이터 차이)\"](https://modern-manual.tistory.com/m/19)</small>"
   ]
  },
  {
   "cell_type": "markdown",
   "id": "975b7754",
   "metadata": {
    "id": "975b7754"
   },
   "source": [
    "Note that even the second technique is vulnerable to statistical fluctuation if the validation and test set are small.\n",
    "\n",
    "You can notice this if different rounds of **shuffling** yield **validation variance** (= validation results are very variable)."
   ]
  },
  {
   "cell_type": "markdown",
   "id": "a3576606-2e65-4780-a10a-9165843302f9",
   "metadata": {
    "id": "a3576606-2e65-4780-a10a-9165843302f9"
   },
   "source": [
    "### 2. K-fold validation\n",
    "\n",
    "What we've seen last time, see the previous notebooks for the code.\n",
    "\n",
    "<!-- <img  style=\"float:right\"  src=\"images/chollet.k-fold.png\"> -->\n",
    "<img  style=\"float:right\"  src=\"https://github.com/jchwenger/AI/blob/main/4-fundamentals/images/chollet.k-fold.png?raw=true\">\n",
    "\n",
    "\n",
    "<small style=\"position:absolute;right:0;bottom:0\">DLWP, p.135</small>"
   ]
  },
  {
   "cell_type": "markdown",
   "id": "eef35fb4-b209-4f34-9547-b3e6c71cf45d",
   "metadata": {
    "id": "eef35fb4-b209-4f34-9547-b3e6c71cf45d"
   },
   "source": [
    "### 3. Iterated K-fold validation with shuffling\n",
    "\n",
    "In a variant known as **iterated** or **repeated** K-fold validation, K-fold validation is repeated $P$ times.\n",
    "\n",
    "Each time, the dataset is shuffled, leading to different partial training and validation sets!\n",
    "\n",
    "The K-fold averages are gathered and re-averaged.\n",
    "\n",
    "$P \\times K$ models are trained and evaluated – this is expensive!"
   ]
  },
  {
   "cell_type": "markdown",
   "id": "c9eb82f8",
   "metadata": {
    "id": "c9eb82f8"
   },
   "source": [
    "```python\n",
    "iterated_val_scores = []\n",
    "             # ↓ repeat P times\n",
    "for _ in range(P):      # ↓ shuffle train and validation sets         \n",
    "    train_val_dataset = np.shuffle(train_val_dataset)\n",
    "                        # ↓ do K-fold validation (trains K-models!)\n",
    "    k_fold_val_scores = k_fold_validation(train_val_dataset)\n",
    "                               # ↓ save the mean this round of K-fold validation\n",
    "    iterated_val_scores.append(np.mean(k_fold_val_scores))\n",
    "# the iterated average is the mean of the P K-fold score means\n",
    "avg_iterated_age_val_score = np.mean(iterated_val_scores)  \n",
    "```"
   ]
  },
  {
   "cell_type": "markdown",
   "id": "7586dd4f",
   "metadata": {
    "id": "7586dd4f"
   },
   "source": [
    "This method is useful when **little** data is available.\n",
    "\n",
    "In more and more deep learning contexts, we are dealing with **heaps** of data!   \n",
    "\n",
    "K-fold is then both too expensive and not relevant..."
   ]
  },
  {
   "cell_type": "markdown",
   "id": "31758e17",
   "metadata": {
    "id": "31758e17"
   },
   "source": [
    "---\n",
    "\n",
    "## 5.2.2 Beating a common-sense baseline\n",
    "\n",
    "Because deep learning is somewhat opaque, it is important to have an idea of what simpler methods achieve.\n",
    "\n",
    "The simplest of all methods is a random classifier: just **a random guess**.\n",
    "\n",
    "The second most simple: only predict **the most prevalent class**.\n",
    "\n",
    "*If your dataset has 90% of class A, and 10% of class B, a model that **always** predicts A will get .9 accuracy, you need to beat that!*"
   ]
  },
  {
   "cell_type": "markdown",
   "id": "8c35fbc3-3710-4033-b88e-2fb6818308a9",
   "metadata": {
    "id": "8c35fbc3-3710-4033-b88e-2fb6818308a9"
   },
   "source": [
    "---\n",
    "\n",
    "## 5.2.3 Things to keep in mind about model evaluation"
   ]
  },
  {
   "cell_type": "markdown",
   "id": "0be965fe-1b08-424b-b4b5-e418444ecd27",
   "metadata": {
    "id": "0be965fe-1b08-424b-b4b5-e418444ecd27"
   },
   "source": [
    "### The training and test data should be representative\n",
    "\n",
    "- Train set, validation set *and* test set  must come **from the same distribution**;\n",
    "- That mean: they **must contain a bit of everything**.\n",
    "\n",
    "\n",
    "_For example, suppose in the MNIST problem that the images come sorted by digit. Clearly, the test set and training sets will contain different classes, not good! This is easily remedied by **shuffling**._"
   ]
  },
  {
   "cell_type": "markdown",
   "id": "167b01d0-96bf-4367-b835-f130d93b7419",
   "metadata": {
    "id": "167b01d0-96bf-4367-b835-f130d93b7419"
   },
   "source": [
    "### The arrow of time\n",
    "\n",
    "- Don't shuffle time-ordered data (e.g. weather and stock prediction)!\n",
    "- Make sure the training does not allow your model to just cheat and look up the solutions (causality/look ahead)."
   ]
  },
  {
   "cell_type": "markdown",
   "id": "ef80655e-3002-4fab-a73c-d32fa25f3f66",
   "metadata": {
    "id": "ef80655e-3002-4fab-a73c-d32fa25f3f66"
   },
   "source": [
    "### Avoid data redundancy (as much as possible):\n",
    "\n",
    "- A data point not uncommonly occurs twice or more in real world data;\n",
    "- The risk is doing testing on data that was present in the training set;\n",
    "- **Ideally**, you have to ensure that the training and test sets are **disjoint**.\n",
    "\n",
    "*Good luck if you train on the entire Internet...  (⇀‸↼‶)*"
   ]
  },
  {
   "cell_type": "markdown",
   "id": "1b7d1903-9f35-4497-8959-3301d545351d",
   "metadata": {
    "id": "1b7d1903-9f35-4497-8959-3301d545351d"
   },
   "source": [
    "---\n",
    "\n",
    "## 5.3 Improving model fit\n",
    "\n",
    "One side of our problem is **not being able to fit** the data (we don't really encouter that here, but for larger datasets that will happen).\n",
    "\n",
    "Then, what we want is **increasing the power (capacity)** of our model."
   ]
  },
  {
   "cell_type": "markdown",
   "id": "80f73da3-3ca7-4dc6-971b-35112ac0b649",
   "metadata": {
    "id": "80f73da3-3ca7-4dc6-971b-35112ac0b649"
   },
   "source": [
    "## 5.3.3 Increasing model capacity\n",
    "\n",
    "Let's compare two models and their respective performance."
   ]
  },
  {
   "cell_type": "code",
   "execution_count": 82,
   "id": "70e273c7",
   "metadata": {
    "colab": {
     "base_uri": "https://localhost:8080/"
    },
    "id": "70e273c7",
    "outputId": "97d708c5-0c6a-414d-c59b-2f86691123a8"
   },
   "outputs": [
    {
     "name": "stdout",
     "output_type": "stream",
     "text": [
      "Epoch 1/20\n",
      "375/375 [==============================] - 2s 4ms/step - loss: 2.3303 - accuracy: 0.1019 - val_loss: 2.3182 - val_accuracy: 0.1084\n",
      "Epoch 2/20\n",
      "375/375 [==============================] - 1s 3ms/step - loss: 2.3124 - accuracy: 0.1097 - val_loss: 2.3231 - val_accuracy: 0.1018\n",
      "Epoch 3/20\n",
      "375/375 [==============================] - 1s 3ms/step - loss: 2.3065 - accuracy: 0.1122 - val_loss: 2.3219 - val_accuracy: 0.0986\n",
      "Epoch 4/20\n",
      "375/375 [==============================] - 1s 3ms/step - loss: 2.3026 - accuracy: 0.1157 - val_loss: 2.3163 - val_accuracy: 0.1032\n",
      "Epoch 5/20\n",
      "375/375 [==============================] - 1s 3ms/step - loss: 2.2994 - accuracy: 0.1218 - val_loss: 2.3207 - val_accuracy: 0.1059\n",
      "Epoch 6/20\n",
      "375/375 [==============================] - 1s 4ms/step - loss: 2.2965 - accuracy: 0.1236 - val_loss: 2.3262 - val_accuracy: 0.1039\n",
      "Epoch 7/20\n",
      "375/375 [==============================] - 2s 4ms/step - loss: 2.2947 - accuracy: 0.1241 - val_loss: 2.3249 - val_accuracy: 0.1047\n",
      "Epoch 8/20\n",
      "375/375 [==============================] - 1s 3ms/step - loss: 2.2931 - accuracy: 0.1273 - val_loss: 2.3231 - val_accuracy: 0.0994\n",
      "Epoch 9/20\n",
      "375/375 [==============================] - 1s 3ms/step - loss: 2.2910 - accuracy: 0.1283 - val_loss: 2.3253 - val_accuracy: 0.1069\n",
      "Epoch 10/20\n",
      "375/375 [==============================] - 1s 3ms/step - loss: 2.2903 - accuracy: 0.1295 - val_loss: 2.3248 - val_accuracy: 0.1042\n",
      "Epoch 11/20\n",
      "375/375 [==============================] - 1s 3ms/step - loss: 2.2886 - accuracy: 0.1318 - val_loss: 2.3223 - val_accuracy: 0.1007\n",
      "Epoch 12/20\n",
      "375/375 [==============================] - 1s 4ms/step - loss: 2.2876 - accuracy: 0.1316 - val_loss: 2.3248 - val_accuracy: 0.0999\n",
      "Epoch 13/20\n",
      "375/375 [==============================] - 2s 4ms/step - loss: 2.2861 - accuracy: 0.1316 - val_loss: 2.3260 - val_accuracy: 0.1017\n",
      "Epoch 14/20\n",
      "375/375 [==============================] - 1s 4ms/step - loss: 2.2851 - accuracy: 0.1334 - val_loss: 2.3259 - val_accuracy: 0.1024\n",
      "Epoch 15/20\n",
      "375/375 [==============================] - 1s 3ms/step - loss: 2.2843 - accuracy: 0.1331 - val_loss: 2.3299 - val_accuracy: 0.1022\n",
      "Epoch 16/20\n",
      "375/375 [==============================] - 2s 5ms/step - loss: 2.2838 - accuracy: 0.1342 - val_loss: 2.3285 - val_accuracy: 0.1012\n",
      "Epoch 17/20\n",
      "375/375 [==============================] - 2s 4ms/step - loss: 2.2828 - accuracy: 0.1359 - val_loss: 2.3298 - val_accuracy: 0.1037\n",
      "Epoch 18/20\n",
      "375/375 [==============================] - 1s 3ms/step - loss: 2.2820 - accuracy: 0.1368 - val_loss: 2.3291 - val_accuracy: 0.1053\n",
      "Epoch 19/20\n",
      "375/375 [==============================] - 1s 3ms/step - loss: 2.2816 - accuracy: 0.1375 - val_loss: 2.3316 - val_accuracy: 0.1047\n",
      "Epoch 20/20\n",
      "375/375 [==============================] - 1s 3ms/step - loss: 2.2808 - accuracy: 0.1376 - val_loss: 2.3347 - val_accuracy: 0.1037\n"
     ]
    }
   ],
   "source": [
    "tf.keras.backend.clear_session()\n",
    "batch_size = 128\n",
    "\n",
    "model = tf.keras.Sequential([\n",
    "    tf.keras.layers.Dense(10, activation=\"softmax\") # ← ONE LAYER\n",
    "])\n",
    "model.compile(\n",
    "    optimizer=\"rmsprop\",\n",
    "    loss=\"sparse_categorical_crossentropy\",\n",
    "    metrics=[\"accuracy\"]\n",
    ")\n",
    "history_small_model = model.fit(\n",
    "    train_images, train_labels,\n",
    "    epochs=20,\n",
    "    batch_size=batch_size,\n",
    "    validation_split=0.2\n",
    ")\n",
    "del model"
   ]
  },
  {
   "cell_type": "code",
   "execution_count": 83,
   "id": "c67be564-864f-4b7c-ab11-ed2779e08046",
   "metadata": {
    "colab": {
     "base_uri": "https://localhost:8080/"
    },
    "id": "c67be564-864f-4b7c-ab11-ed2779e08046",
    "outputId": "4bee33ff-2ece-4d4f-a789-7a7083c29da9"
   },
   "outputs": [
    {
     "name": "stdout",
     "output_type": "stream",
     "text": [
      "Epoch 1/20\n",
      "375/375 [==============================] - 2s 4ms/step - loss: 2.3066 - accuracy: 0.1055 - val_loss: 2.3042 - val_accuracy: 0.0999\n",
      "Epoch 2/20\n",
      "375/375 [==============================] - 1s 4ms/step - loss: 2.3012 - accuracy: 0.1133 - val_loss: 2.3043 - val_accuracy: 0.1119\n",
      "Epoch 3/20\n",
      "375/375 [==============================] - 1s 4ms/step - loss: 2.2988 - accuracy: 0.1148 - val_loss: 2.3076 - val_accuracy: 0.1049\n",
      "Epoch 4/20\n",
      "375/375 [==============================] - 2s 5ms/step - loss: 2.2955 - accuracy: 0.1176 - val_loss: 2.3098 - val_accuracy: 0.1033\n",
      "Epoch 5/20\n",
      "375/375 [==============================] - 2s 5ms/step - loss: 2.2898 - accuracy: 0.1277 - val_loss: 2.3156 - val_accuracy: 0.1007\n",
      "Epoch 6/20\n",
      "375/375 [==============================] - 1s 3ms/step - loss: 2.2840 - accuracy: 0.1334 - val_loss: 2.3203 - val_accuracy: 0.1024\n",
      "Epoch 7/20\n",
      "375/375 [==============================] - 1s 4ms/step - loss: 2.2766 - accuracy: 0.1398 - val_loss: 2.3208 - val_accuracy: 0.1008\n",
      "Epoch 8/20\n",
      "375/375 [==============================] - 1s 4ms/step - loss: 2.2686 - accuracy: 0.1459 - val_loss: 2.3278 - val_accuracy: 0.1026\n",
      "Epoch 9/20\n",
      "375/375 [==============================] - 2s 4ms/step - loss: 2.2589 - accuracy: 0.1533 - val_loss: 2.3371 - val_accuracy: 0.1026\n",
      "Epoch 10/20\n",
      "375/375 [==============================] - 1s 4ms/step - loss: 2.2484 - accuracy: 0.1610 - val_loss: 2.3544 - val_accuracy: 0.1039\n",
      "Epoch 11/20\n",
      "375/375 [==============================] - 1s 4ms/step - loss: 2.2365 - accuracy: 0.1684 - val_loss: 2.3544 - val_accuracy: 0.1015\n",
      "Epoch 12/20\n",
      "375/375 [==============================] - 1s 4ms/step - loss: 2.2246 - accuracy: 0.1741 - val_loss: 2.3642 - val_accuracy: 0.1014\n",
      "Epoch 13/20\n",
      "375/375 [==============================] - 2s 5ms/step - loss: 2.2118 - accuracy: 0.1815 - val_loss: 2.3800 - val_accuracy: 0.1008\n",
      "Epoch 14/20\n",
      "375/375 [==============================] - 2s 5ms/step - loss: 2.1984 - accuracy: 0.1884 - val_loss: 2.3913 - val_accuracy: 0.1046\n",
      "Epoch 15/20\n",
      "375/375 [==============================] - 1s 4ms/step - loss: 2.1849 - accuracy: 0.1949 - val_loss: 2.3993 - val_accuracy: 0.0991\n",
      "Epoch 16/20\n",
      "375/375 [==============================] - 1s 4ms/step - loss: 2.1720 - accuracy: 0.2024 - val_loss: 2.4111 - val_accuracy: 0.1041\n",
      "Epoch 17/20\n",
      "375/375 [==============================] - 1s 4ms/step - loss: 2.1573 - accuracy: 0.2119 - val_loss: 2.4224 - val_accuracy: 0.1023\n",
      "Epoch 18/20\n",
      "375/375 [==============================] - 1s 4ms/step - loss: 2.1452 - accuracy: 0.2150 - val_loss: 2.4492 - val_accuracy: 0.1017\n",
      "Epoch 19/20\n",
      "375/375 [==============================] - 2s 4ms/step - loss: 2.1302 - accuracy: 0.2229 - val_loss: 2.4465 - val_accuracy: 0.1018\n",
      "Epoch 20/20\n",
      "375/375 [==============================] - 1s 4ms/step - loss: 2.1177 - accuracy: 0.2301 - val_loss: 2.4675 - val_accuracy: 0.1013\n"
     ]
    }
   ],
   "source": [
    "tf.keras.backend.clear_session()\n",
    "model = tf.keras.Sequential([\n",
    "    tf.keras.layers.Dense(96, activation=\"relu\"),    # ← THREE LAYERS, more neurons\n",
    "    tf.keras.layers.Dense(96, activation=\"relu\"),\n",
    "    tf.keras.layers.Dense(10, activation=\"softmax\"),\n",
    "])\n",
    "model.compile(\n",
    "    optimizer=\"rmsprop\",\n",
    "    loss=\"sparse_categorical_crossentropy\",\n",
    "    metrics=[\"accuracy\"]\n",
    ")\n",
    "history_large_model = model.fit(\n",
    "    train_images, train_labels,\n",
    "    epochs=20,\n",
    "    batch_size=batch_size,\n",
    "    validation_split=0.2\n",
    ")\n",
    "del model"
   ]
  },
  {
   "cell_type": "code",
   "execution_count": 84,
   "id": "7766d0da-1599-472a-b872-f2f0aa667214",
   "metadata": {
    "id": "7766d0da-1599-472a-b872-f2f0aa667214"
   },
   "outputs": [],
   "source": [
    "def plot_two_losses(losses1, losses2, epochs=range(1,21), share_axes=False):\n",
    "    if share_axes:\n",
    "        fig, (ax1, ax2) = plt.subplots(nrows=1,ncols=2, constrained_layout=True, sharex=True, sharey=True, figsize=(10,4))\n",
    "    else:\n",
    "        fig, (ax1, ax2) = plt.subplots(nrows=1,ncols=2, constrained_layout=True, figsize=(10,4))\n",
    "\n",
    "    ax1.plot(epochs, losses1, \"b--\", label=\"Validation loss small\")\n",
    "    ax1.set_title(\"Effect of insufficient model capacity on validation loss\")\n",
    "    ax1.set_xlabel(\"Epochs\")\n",
    "    ax1.set_ylabel(\"Loss\")\n",
    "    ax1.legend()\n",
    "\n",
    "    ax2.plot(epochs, losses2, \"r--\", label=\"Validation loss large\")\n",
    "    ax2.set_title(\"Effect of sufficient model capacity on validation loss\")\n",
    "    ax2.set_xlabel(\"Epochs\")\n",
    "    ax2.set_ylabel(\"Loss\")\n",
    "    ax2.legend()\n",
    "    plt.show()"
   ]
  },
  {
   "cell_type": "code",
   "execution_count": 85,
   "id": "be7a6833",
   "metadata": {
    "colab": {
     "base_uri": "https://localhost:8080/",
     "height": 428
    },
    "id": "be7a6833",
    "outputId": "6eb19c53-64b4-44ff-da09-3bd71dbed3e6"
   },
   "outputs": [
    {
     "data": {
      "image/png": "[encoded data removed]",
      "text/plain": [
       "<Figure size 1000x400 with 2 Axes>"
      ]
     },
     "metadata": {},
     "output_type": "display_data"
    }
   ],
   "source": [
    "val_loss_small = history_small_model.history[\"val_loss\"]\n",
    "val_loss_large = history_large_model.history[\"val_loss\"]\n",
    "plot_two_losses(val_loss_small, val_loss_large)"
   ]
  },
  {
   "cell_type": "markdown",
   "id": "927676a8",
   "metadata": {
    "id": "927676a8"
   },
   "source": [
    "#### Note\n",
    "\n",
    "**Never** forget to keep the scales of the axes in mind! What we saw is a reproduction of what you find in DLWP, 141-2. However, if you force the axes to be at the same scale, the picture is somewhat different: you clearly see the insufficient capacity model stagnating, but your overfitting model is **overall better**! (You would need to train it longer to degrade the validation loss beyond what the simpler model does.)"
   ]
  },
  {
   "cell_type": "code",
   "execution_count": 86,
   "id": "987db0cc",
   "metadata": {
    "colab": {
     "base_uri": "https://localhost:8080/",
     "height": 428
    },
    "id": "987db0cc",
    "outputId": "d20e26f7-1b1f-4048-cc7e-aa86871cc265"
   },
   "outputs": [
    {
     "data": {
      "image/png": "[encoded data removed]",
      "text/plain": [
       "<Figure size 1000x400 with 2 Axes>"
      ]
     },
     "metadata": {},
     "output_type": "display_data"
    }
   ],
   "source": [
    "val_loss_small = history_small_model.history[\"val_loss\"]\n",
    "val_loss_large = history_large_model.history[\"val_loss\"]\n",
    "plot_two_losses(val_loss_small, val_loss_large, share_axes=True)"
   ]
  },
  {
   "cell_type": "code",
   "execution_count": 87,
   "id": "d939533a",
   "metadata": {
    "id": "d939533a"
   },
   "outputs": [],
   "source": [
    "del train_images, train_labels"
   ]
  },
  {
   "cell_type": "markdown",
   "id": "9610a8bc",
   "metadata": {
    "id": "9610a8bc"
   },
   "source": [
    "---\n",
    "\n",
    "## 5.4 Improving generalisation\n",
    "\n",
    "Once we are able to overfit, we want to make sure our gains will **remain valid on unseen data**.\n",
    "\n",
    "That's the other side of our problem.\n",
    "\n",
    "What we aim for is a *middle ground* between performing on known *and* unknown data!"
   ]
  },
  {
   "cell_type": "markdown",
   "id": "9b9b4b36",
   "metadata": {
    "id": "9b9b4b36"
   },
   "source": [
    "## 5.4.1 Dataset curation\n",
    "\n",
    "\n",
    "- **More data is better!** Make sure you have enough data.\n",
    "- Minimize labeling errors: visualize your inputs to check for anomalies, and proofread your labels.  \n",
    "  **Knowing your data well will help you!**\n",
    "- Clean your data and deal with missing values.  \n",
    "  (Beware! Real data in production might not be clean... → not the same distribution!)\n",
    "- Look at your **features**, remove useless ones if necessary."
   ]
  },
  {
   "cell_type": "markdown",
   "id": "6006d7b7-1bd4-40f3-bc7f-c6ac23e17724",
   "metadata": {
    "id": "6006d7b7-1bd4-40f3-bc7f-c6ac23e17724"
   },
   "source": [
    "## 5.4.2 Feature engineering\n",
    "\n",
    "Feature engineering is data preprocessing in the light of human knowledge of the data and the workings of a neural network.\n",
    "\n",
    "Feature engineering was critical pre-DL since shallow networks do not have a large hypothesis space.\n",
    "\n",
    "DL networks, thanks to their large hypothesis space, are less dependent on feature engineering."
   ]
  },
  {
   "cell_type": "markdown",
   "id": "2ba973d6-b588-422d-ab8d-db38c4ad57ce",
   "metadata": {
    "id": "2ba973d6-b588-422d-ab8d-db38c4ad57ce"
   },
   "source": [
    "Feature engineering can still relevant because it helps us to solve problems cheaply and elegantly and with less data.\n",
    "\n",
    "The smaller the training set, the greater the need for feature engineering.\n",
    "\n",
    "The opposite is usually true: **if you work at scale, feature engineering tends to lose out**."
   ]
  },
  {
   "cell_type": "markdown",
   "id": "68022108-7e65-4dc1-a2e2-11b485c3f70f",
   "metadata": {
    "id": "68022108-7e65-4dc1-a2e2-11b485c3f70f"
   },
   "source": [
    "### Example: learning to tell the time\n",
    "\n",
    "- suppose the input data is a pixel map of a clock face;\n",
    "\n",
    "- this is a difficult machine learning task;\n",
    "\n",
    "- requires convolutional nets and a vast data set of clock faces."
   ]
  },
  {
   "cell_type": "markdown",
   "id": "2ecc0055-8f80-4428-9b53-f225c4318b11",
   "metadata": {
    "id": "2ecc0055-8f80-4428-9b53-f225c4318b11"
   },
   "source": [
    "- Feature engineering might extract the x, y coordinates of the hands;\n",
    "\n",
    "- the problem then becomes tractable;\n",
    "\n",
    "- in fact the problem can be solved by a formula – the angle of the hands."
   ]
  },
  {
   "cell_type": "markdown",
   "id": "d5c7ed35-d3d4-4174-aa6f-5d561b1afe2c",
   "metadata": {
    "id": "d5c7ed35-d3d4-4174-aa6f-5d561b1afe2c"
   },
   "source": [
    "<!-- ![Chollet features time](images/chollet.features-time.png) -->\n",
    "<img src=\"https://github.com/jchwenger/AI/blob/main/4-fundamentals/images/chollet.features-time.png?raw=true\">\n",
    "\n",
    "\n",
    "<small>DLWP, p.143</small>"
   ]
  },
  {
   "cell_type": "markdown",
   "id": "a72a6e64-480e-47dd-9b6a-d6e41164215c",
   "metadata": {
    "id": "a72a6e64-480e-47dd-9b6a-d6e41164215c"
   },
   "source": [
    "---\n",
    "\n",
    "## 5.4.3 Using early stopping\n",
    "\n",
    "Deep learning models are most of the time (very) **overparameterised**.\n",
    "\n",
    "They have way more parameters (degrees of freedom) than what is needed to fit the data.\n",
    "\n",
    "This is not a problem, as we *don't fit the data perfectly*."
   ]
  },
  {
   "cell_type": "markdown",
   "id": "6bfea83a-20b2-4682-b60c-b9c195f6ae80",
   "metadata": {
    "id": "6bfea83a-20b2-4682-b60c-b9c195f6ae80"
   },
   "source": [
    "---\n",
    "\n",
    "## 5.4.4 Regularising your model\n",
    "\n",
    "Our experience with classification of movie reviews and newswires shows that model performance on validation data peaks and then decreases with training.\n",
    "\n",
    "Because of this, we seek a balance between\n",
    "- **optimisation** (of training data) and\n",
    "- **generalisation** (to test data)."
   ]
  },
  {
   "cell_type": "markdown",
   "id": "ca1b1208-e52f-477a-b91f-8bac2c55718c",
   "metadata": {
    "id": "ca1b1208-e52f-477a-b91f-8bac2c55718c"
   },
   "source": [
    "### More Is More\n",
    "\n",
    "Often the easiest, and almost always the best remedy to overfitting is to find **more training data**.\n",
    "\n",
    "#### Note\n",
    "\n",
    "*We need solutions for when the data is limited. (；⌣̀_⌣́ )*\n",
    "\n",
    "#### Note\n",
    "\n",
    "More data won't help you if you **underfit**!"
   ]
  },
  {
   "cell_type": "markdown",
   "id": "7147ada1-4f6f-48ac-8fee-f12eb8882519",
   "metadata": {
    "id": "7147ada1-4f6f-48ac-8fee-f12eb8882519"
   },
   "source": [
    "### Three other regularisation techniques\n",
    "\n",
    "- #### network size reduction\n",
    "- #### weight regularisation\n",
    "- #### dropout"
   ]
  },
  {
   "cell_type": "markdown",
   "id": "542be60d-2026-4e59-96b8-9324e25514f8",
   "metadata": {
    "id": "542be60d-2026-4e59-96b8-9324e25514f8"
   },
   "source": [
    "### 1. Reducing the network’s size\n",
    "\n",
    "Network **capacity** is simply the number of learnable  parameters (weight and bias parameters).\n",
    "\n",
    "Between a low capacity model, likely to **underfit** our training data, and a high capacity one, that **fits the training data perfectly and fails to generalise**, there might be one that is just right!"
   ]
  },
  {
   "cell_type": "markdown",
   "id": "70d94090-d631-41cc-aab2-d0c15e5bb3b8",
   "metadata": {
    "id": "70d94090-d631-41cc-aab2-d0c15e5bb3b8"
   },
   "source": [
    "The goal is a model with *sufficient but limited* capacity.\n",
    "\n",
    "Such a model will be forced to learn **compressed representations** (the **underlying manifold**) – which then gives it predictive power.\n",
    "\n",
    "The ideal number of layers and number of units in each layer is unknowable in advance .\n",
    "\n",
    "#### Workflow\n",
    "\n",
    "- Start with a low capacity model and\n",
    "- increase capacity until validation gains flatten out."
   ]
  },
  {
   "cell_type": "markdown",
   "id": "a7b01fb2-946f-4da0-b22d-399474ed7c74",
   "metadata": {
    "id": "a7b01fb2-946f-4da0-b22d-399474ed7c74"
   },
   "source": [
    "Let's compare a small and a large network to the original IMDB network.\n",
    "\n",
    "A three layer model building function. Two `relu` layers followed by a `sigmoid` layer for the output of a probability."
   ]
  },
  {
   "cell_type": "code",
   "execution_count": 88,
   "id": "7b873f49-6791-41f7-94e8-d379892cc474",
   "metadata": {
    "id": "7b873f49-6791-41f7-94e8-d379892cc474"
   },
   "outputs": [],
   "source": [
    "def build_model(layer_1_units, layer_2_units, layer_3_units, clear=True):\n",
    "    if clear: # O gods of GPU memory, have mercy upon us\n",
    "        tf.keras.backend.clear_session()\n",
    "    model = tf.keras.models.Sequential()\n",
    "    model.add(tf.keras.Input((10000,)))\n",
    "    model.add(tf.keras.layers.Dense(layer_1_units, activation='relu'))\n",
    "    model.add(tf.keras.layers.Dense(layer_2_units, activation='relu'))\n",
    "    model.add(tf.keras.layers.Dense(layer_3_units, activation='sigmoid'))\n",
    "    model.compile(\n",
    "        optimizer='rmsprop',\n",
    "        loss='binary_crossentropy',\n",
    "        metrics=['acc']\n",
    "    )\n",
    "    return model"
   ]
  },
  {
   "cell_type": "markdown",
   "id": "7a4b8d28",
   "metadata": {
    "id": "7a4b8d28"
   },
   "source": [
    "The original network. 160,305 trainable parameters."
   ]
  },
  {
   "cell_type": "code",
   "execution_count": 89,
   "id": "eea4ed02-0352-4cee-8b85-460e70aa8ecb",
   "metadata": {
    "colab": {
     "base_uri": "https://localhost:8080/"
    },
    "id": "eea4ed02-0352-4cee-8b85-460e70aa8ecb",
    "outputId": "7a0a8bd4-5e83-4054-93e4-67f09cead374"
   },
   "outputs": [
    {
     "name": "stdout",
     "output_type": "stream",
     "text": [
      "Model: \"sequential\"\n",
      "_________________________________________________________________\n",
      " Layer (type)                Output Shape              Param #   \n",
      "=================================================================\n",
      " dense (Dense)               (None, 16)                160016    \n",
      "                                                                 \n",
      " dense_1 (Dense)             (None, 16)                272       \n",
      "                                                                 \n",
      " dense_2 (Dense)             (None, 1)                 17        \n",
      "                                                                 \n",
      "=================================================================\n",
      "Total params: 160305 (626.19 KB)\n",
      "Trainable params: 160305 (626.19 KB)\n",
      "Non-trainable params: 0 (0.00 Byte)\n",
      "_________________________________________________________________\n"
     ]
    }
   ],
   "source": [
    "model = build_model(16, 16, 1)\n",
    "model.summary()\n",
    "del model"
   ]
  },
  {
   "cell_type": "markdown",
   "id": "9ecca190",
   "metadata": {
    "id": "9ecca190"
   },
   "source": [
    "A small (low capacity) network with about one quarter the capacity of the original network."
   ]
  },
  {
   "cell_type": "code",
   "execution_count": 90,
   "id": "b51f8a24-d664-47a0-b60d-daf74bfbd08d",
   "metadata": {
    "colab": {
     "base_uri": "https://localhost:8080/"
    },
    "id": "b51f8a24-d664-47a0-b60d-daf74bfbd08d",
    "outputId": "3e1f5516-28ef-40bf-e43a-a0c080b20d1d"
   },
   "outputs": [
    {
     "name": "stdout",
     "output_type": "stream",
     "text": [
      "Model: \"sequential\"\n",
      "_________________________________________________________________\n",
      " Layer (type)                Output Shape              Param #   \n",
      "=================================================================\n",
      " dense (Dense)               (None, 4)                 40004     \n",
      "                                                                 \n",
      " dense_1 (Dense)             (None, 4)                 20        \n",
      "                                                                 \n",
      " dense_2 (Dense)             (None, 1)                 5         \n",
      "                                                                 \n",
      "=================================================================\n",
      "Total params: 40029 (156.36 KB)\n",
      "Trainable params: 40029 (156.36 KB)\n",
      "Non-trainable params: 0 (0.00 Byte)\n",
      "_________________________________________________________________\n"
     ]
    }
   ],
   "source": [
    "model = build_model(4, 4, 1)\n",
    "model.summary()\n",
    "del model"
   ]
  },
  {
   "cell_type": "markdown",
   "id": "99b9d457",
   "metadata": {
    "id": "99b9d457"
   },
   "source": [
    "A larger (high capacity) network – 32 times original capacity."
   ]
  },
  {
   "cell_type": "code",
   "execution_count": 91,
   "id": "34ed8630-2a3b-414c-8dec-f54e0eb121c4",
   "metadata": {
    "colab": {
     "base_uri": "https://localhost:8080/"
    },
    "id": "34ed8630-2a3b-414c-8dec-f54e0eb121c4",
    "outputId": "f9811168-785e-490f-e537-f9099bb40d41"
   },
   "outputs": [
    {
     "name": "stdout",
     "output_type": "stream",
     "text": [
      "Model: \"sequential\"\n",
      "_________________________________________________________________\n",
      " Layer (type)                Output Shape              Param #   \n",
      "=================================================================\n",
      " dense (Dense)               (None, 512)               5120512   \n",
      "                                                                 \n",
      " dense_1 (Dense)             (None, 512)               262656    \n",
      "                                                                 \n",
      " dense_2 (Dense)             (None, 1)                 513       \n",
      "                                                                 \n",
      "=================================================================\n",
      "Total params: 5383681 (20.54 MB)\n",
      "Trainable params: 5383681 (20.54 MB)\n",
      "Non-trainable params: 0 (0.00 Byte)\n",
      "_________________________________________________________________\n"
     ]
    }
   ],
   "source": [
    "model = build_model(512, 512, 1)\n",
    "model.summary()\n",
    "del model"
   ]
  },
  {
   "cell_type": "code",
   "execution_count": 92,
   "id": "36465a00-1988-4bfc-85e7-b02ed6b7c5e5",
   "metadata": {
    "id": "36465a00-1988-4bfc-85e7-b02ed6b7c5e5"
   },
   "outputs": [],
   "source": [
    "((train_data, train_labels), (test_data, test_labels)) = tf.keras.datasets.imdb.load_data(num_words = 10000)\n",
    "\n",
    "def vectorize_sequences(sequences, dimension = 10000):\n",
    "    results = np.zeros( (len(sequences), dimension) )\n",
    "    for i, sequence in enumerate(sequences):\n",
    "        results[i, sequence] = 1.\n",
    "    return results\n",
    "\n",
    "x_train = vectorize_sequences(train_data)\n",
    "x_test = vectorize_sequences(test_data)\n",
    "\n",
    "y_train = np.asarray(train_labels).astype('float32')\n",
    "y_test = np.asarray(test_labels).astype('float32')"
   ]
  },
  {
   "cell_type": "markdown",
   "id": "22b252c9",
   "metadata": {
    "id": "22b252c9"
   },
   "source": [
    "### A nice callback\n",
    "\n",
    "The same as last time.\n",
    "\n",
    "See this [tutorial](https://www.tensorflow.org/guide/keras/custom_callback) for more."
   ]
  },
  {
   "cell_type": "code",
   "execution_count": 93,
   "id": "e1f35aa6-5cf7-41e5-a503-a6492c0395ce",
   "metadata": {
    "id": "e1f35aa6-5cf7-41e5-a503-a6492c0395ce"
   },
   "outputs": [],
   "source": [
    "class CustomCallback(tf.keras.callbacks.Callback):\n",
    "    def __init__(self, epochs):                                            # by passing epochs at initialization\n",
    "        super(tf.keras.callbacks.Callback, self).__init__()                # I can use this as our total in on_epoch_begin\n",
    "        self.epochs = epochs\n",
    "    def on_epoch_begin(self, epoch, logs=None):                            # run at the start of each epoch\n",
    "        c = ['|', '/', '-', '\\\\']\n",
    "        clear_output(wait=True)\n",
    "        print(f\"{c[epoch % 4]} epoch: {epoch+1}/{self.epochs}\")  # run at the very end of training\n",
    "    def on_train_end(self, logs=None):\n",
    "        print()"
   ]
  },
  {
   "cell_type": "markdown",
   "id": "bb27231a",
   "metadata": {
    "id": "bb27231a"
   },
   "source": [
    "### Modular programming: a loop for building and training three networks\n",
    "\n",
    "The networks are named according to the number of units in each layer and the histories are saved in a dictionary. The progress spinner rotates slowly on the large network because there are many more parameters to train in each epoch."
   ]
  },
  {
   "cell_type": "code",
   "execution_count": 94,
   "id": "92398a7b-fb94-4887-ab7f-a276e4bf13af",
   "metadata": {
    "colab": {
     "base_uri": "https://localhost:8080/"
    },
    "id": "92398a7b-fb94-4887-ab7f-a276e4bf13af",
    "outputId": "2e6c3b55-47e6-46f6-9b3c-a3b3d7b110d4"
   },
   "outputs": [
    {
     "name": "stdout",
     "output_type": "stream",
     "text": [
      "Training 4-4-1\n",
      "\\ epoch: 20/20\n",
      "Training 16-16-1\n",
      "\\ epoch: 20/20\n",
      "Training 512-512-1\n",
      "\\ epoch: 20/20\n"
     ]
    }
   ],
   "source": [
    "histories = {}\n",
    "for i in [4, 16, 512]:\n",
    "    model = build_model(i, i, 1)                      # 1. Build models:\n",
    "    model_name = f\"{i}-{i}-1\"                         # '4-4-1', '16-16-1', '512-512-1'\n",
    "    print('Training', model_name)\n",
    "    history = model.fit(                              # 2. Train & validation\n",
    "        x_train,\n",
    "        y_train,\n",
    "        epochs=20,\n",
    "        batch_size=512,\n",
    "        validation_split=0.4,\n",
    "        verbose=0,\n",
    "        callbacks=[CustomCallback(20)]                # ← same lovely callback as last time\n",
    "    )\n",
    "    histories[model_name] = history                   # 3. Save history in a dictionary\n",
    "    del model"
   ]
  },
  {
   "cell_type": "code",
   "execution_count": 95,
   "id": "505ee3cf-9fd6-4deb-870d-d2f0bacfacf9",
   "metadata": {
    "id": "505ee3cf-9fd6-4deb-870d-d2f0bacfacf9"
   },
   "outputs": [],
   "source": [
    "def plot_loss_comparison(loss_a, label_a, loss_b, label_b, y_label, save=False): # IDEA FOR COURSEWORK: can you\n",
    "    \"\"\"A plot function for comparing two losses.\"\"\"                              # modify this function so as to\n",
    "    epochs = range(1, len(loss_a) + 1)                                           # accept any number of models, not\n",
    "    plt.plot(epochs, loss_a, 'b-', label = label_a)                              # just two? Perhaps packing a\n",
    "    plt.plot(epochs, loss_b, 'r--', label = label_b)                              # single model's data into a list,\n",
    "    plt.xlabel('Epochs')                                                         # and looping through your list of\n",
    "    plt.ylabel(y_label)                                                          # lists to plot the data?\n",
    "    plt.legend()\n",
    "    if save:\n",
    "        plt.savefig('overfitting.png', format='png')                             # save image locally\n",
    "    plt.show()"
   ]
  },
  {
   "cell_type": "markdown",
   "id": "98e4f85f",
   "metadata": {
    "id": "98e4f85f"
   },
   "source": [
    "The low capacity starts overfitting later and at a slower rate than the original network"
   ]
  },
  {
   "cell_type": "code",
   "execution_count": 96,
   "id": "e0f1935b",
   "metadata": {
    "colab": {
     "base_uri": "https://localhost:8080/",
     "height": 449
    },
    "id": "e0f1935b",
    "outputId": "a195aa80-f719-421e-e5d6-89cfd5e04e1f"
   },
   "outputs": [
    {
     "data": {
      "image/png": "[encoded data removed]",
      "text/plain": [
       "<Figure size 640x480 with 1 Axes>"
      ]
     },
     "metadata": {},
     "output_type": "display_data"
    }
   ],
   "source": [
    "net_a, net_b = '4-4-1', '16-16-1'\n",
    "plot_loss_comparison(\n",
    "    loss_a=histories[net_a].history['val_loss'], label_a=net_a,\n",
    "    loss_b=histories[net_b].history['val_loss'], label_b=net_b,\n",
    "    y_label='Validation Loss'\n",
    ")"
   ]
  },
  {
   "cell_type": "markdown",
   "id": "ae309156",
   "metadata": {
    "id": "ae309156"
   },
   "source": [
    "The high capacity network overfits almost at the outset, and more vigorously."
   ]
  },
  {
   "cell_type": "code",
   "execution_count": 97,
   "id": "895702fc-4cbf-4b55-b00f-3f1d694abf0e",
   "metadata": {
    "colab": {
     "base_uri": "https://localhost:8080/",
     "height": 449
    },
    "id": "895702fc-4cbf-4b55-b00f-3f1d694abf0e",
    "outputId": "4465c835-b943-4098-cf63-dd5e7b0aa73c"
   },
   "outputs": [
    {
     "data": {
      "image/png": "[encoded data removed]",
      "text/plain": [
       "<Figure size 640x480 with 1 Axes>"
      ]
     },
     "metadata": {},
     "output_type": "display_data"
    }
   ],
   "source": [
    "net_a, net_b = '16-16-1', '512-512-1'\n",
    "plot_loss_comparison(\n",
    "    loss_a=histories[net_a].history['val_loss'], label_a=net_a,\n",
    "    loss_b=histories[net_b].history['val_loss'], label_b=net_b,\n",
    "    y_label='Validation Loss'\n",
    ")"
   ]
  },
  {
   "cell_type": "markdown",
   "id": "7ba641cd",
   "metadata": {
    "id": "7ba641cd"
   },
   "source": [
    "The high capacity network reaches zero training loss earlier than the original network. The high capacity network easily models training data – at the expense of overfitting."
   ]
  },
  {
   "cell_type": "code",
   "execution_count": 98,
   "id": "b2e1281c-7882-425c-b891-885c342dac65",
   "metadata": {
    "colab": {
     "base_uri": "https://localhost:8080/",
     "height": 455
    },
    "id": "b2e1281c-7882-425c-b891-885c342dac65",
    "outputId": "ba5a3492-ecb2-4321-8a41-1fe2e9ecdfcf"
   },
   "outputs": [
    {
     "data": {
      "image/png": "[encoded data removed]",
      "text/plain": [
       "<Figure size 640x480 with 1 Axes>"
      ]
     },
     "metadata": {},
     "output_type": "display_data"
    }
   ],
   "source": [
    "net_a, net_b = '16-16-1', '512-512-1'\n",
    "plot_loss_comparison(\n",
    "    loss_a=histories[net_a].history['loss'], label_a=net_a,\n",
    "    loss_b=histories[net_b].history['loss'], label_b=net_b,\n",
    "    y_label='Loss'\n",
    ")"
   ]
  },
  {
   "cell_type": "markdown",
   "id": "865b0ed3-375b-4b43-a88c-5cf29143134f",
   "metadata": {
    "id": "865b0ed3-375b-4b43-a88c-5cf29143134f"
   },
   "source": [
    "### 2. Adding weight regularization\n",
    "\n",
    "A simple network has low capacity (small number of units) and small weight and bias values.\n",
    "\n",
    "In analogy with polynomial fits of points, **simple** means low capacity, equivalent to a low degree.\n",
    "\n",
    "What if we had a way of controlling the capacity in a **continuous, smooth way**?\n",
    "\n",
    "Weight regularisation is a way to do that."
   ]
  },
  {
   "cell_type": "markdown",
   "id": "665b4fcd-e6a9-451d-b3ba-d2b12ebefa79",
   "metadata": {
    "id": "665b4fcd-e6a9-451d-b3ba-d2b12ebefa79"
   },
   "source": [
    "Parameters are **regular** if they occupy a small interval close to zero:\n",
    "\n",
    "- large weight parameters will amplify input noise (just like larger coefficients in a polynomial);\n",
    "- the network will attempt to fit the noise;\n",
    "- a model with smaller weight will behave like a **lower capacity model**.\n",
    "\n",
    "\n",
    "*An example: the `tanh` activation is almost linear around zero. With small weights, the network tends to behave like a linear model!*"
   ]
  },
  {
   "cell_type": "markdown",
   "id": "e80579d1-dbe7-44e8-a902-46c6fe862afb",
   "metadata": {
    "id": "e80579d1-dbe7-44e8-a902-46c6fe862afb"
   },
   "source": [
    "**Weight regularisation**\n",
    "\n",
    "- L1: a cost proportional to the absolute value of the weight parameters is added to the loss function;\n",
    "\n",
    "- L2: as above, but the cost is the square of the weight parameters.\n",
    "\n",
    "L2 is more often used! It is also known as **weight decay**, explanation by Andrew Ng in the video below.\n",
    "\n",
    "These regularisation terms are added to the loss function, and **penalise the network if it has large weights**."
   ]
  },
  {
   "cell_type": "markdown",
   "id": "134e9e28-55b7-4223-b2fa-0a48e4729cf9",
   "metadata": {
    "id": "134e9e28-55b7-4223-b2fa-0a48e4729cf9"
   },
   "source": [
    "TensorFlow Keras weight parameter regularisation is achieved by adding a weight regularizer instance to the layer you are using:\n",
    "\n",
    "```python\n",
    "tf.keras.layers.Dense(\n",
    "    16,\n",
    "    # ↓ REGULARISATION -------------------------------\n",
    "    kernel_regularizer=tf.keras.regularizers.l2(0.001),\n",
    "    activation='relu'\n",
    ")\n",
    "```                         \n",
    "\n",
    "`l2(0.001)` $0.001 \\times \\sum(w^T \\cdot w)$ is added to the loss function ($0.001 \\times \\sum|w|$ for `l1(0.001)`)."
   ]
  },
  {
   "cell_type": "markdown",
   "id": "8e02b051",
   "metadata": {
    "id": "8e02b051"
   },
   "source": [
    "L1, or a combination, are selected like so:\n",
    "\n",
    "```python\n",
    "    # ↓ ------------------------------------ ↓ L1 ---\n",
    "    kernel_regularizer=tf.keras.regularizers.l1(0.001),\n",
    "```  \n",
    "```python\n",
    "    kernel_regularizer=(\n",
    "        # ↓ ----------------- ↓ L1 ---- combined with --------- ↓ L2 ! --\n",
    "        tf.keras.regularizers.l1(0.001) + tf.keras.regularizers.l2(0.001)\n",
    "    )\n",
    "```       \n",
    "```python\n",
    "    #                  or, same as the previous one:\n",
    "    # ↓ -------------- ↓ ----------------- ↓ L1 and L2,\n",
    "    kernel_regularizer=tf.keras.regularizers.l1_l2(0.001, 0.001)\n",
    "```     "
   ]
  },
  {
   "cell_type": "markdown",
   "id": "e9b76cfd",
   "metadata": {
    "id": "e9b76cfd"
   },
   "source": [
    "#### Reference\n",
    "\n",
    "$$\n",
    "\\bbox[5px,border:2px solid red]\n",
    "{\n",
    "\\begin{align*}\n",
    "\\mathrm{L1}&: J(w,b) = \\frac{1}{m} \\sum Loss(y_{pred}, y) + \\color{blue}{\\frac{\\lambda}{m} |w|} \\quad (\\text{equivalent to} \\lVert w \\rVert_1)\\\\\n",
    "\\\\\n",
    "\\\\\n",
    "\\mathrm{L2}&: J(w,b) = \\frac{1}{m} \\sum Loss(y_{pred}, y) + \\color{blue}{\\frac{\\lambda}{2m} \\lVert w \\rVert^2_2}\\\\\n",
    "\\end{align*}\n",
    "}\n",
    "$$\n",
    "\n",
    "\n",
    "L1 regularisation is also known as [LASSO](https://en.wikipedia.org/wiki/Regularization_(mathematics)#Regularizers_for_sparsity).  \n",
    "\n",
    "L2 regularisation is also known as [Ridge](https://en.wikipedia.org/wiki/Ridge_regression) (or Tikhonov regularisation).\n",
    "\n",
    "$J$: final loss over all training examples    \n",
    "$w$: weights  \n",
    "$b$: biases  \n",
    "$y_{pred}$: model predictions  \n",
    "$y$: true labels  \n",
    "$|w|$: the absolute value of the elements  \n",
    "$\\lVert w \\rVert^2_2$: the sum of the squares of the elements (equivalent to $w^Tw$)  \n",
    "$\\lambda$: the regularisation (hyper)parameter: how strong you wish this regularisation to be..."
   ]
  },
  {
   "cell_type": "markdown",
   "id": "c1cf76b1",
   "metadata": {
    "id": "c1cf76b1"
   },
   "source": [
    "### Modular programming: a model building function with optional regularisation\n",
    "\n",
    "Let us compare L2 regularisation to the unregularised IMDB network.\n"
   ]
  },
  {
   "cell_type": "code",
   "execution_count": 102,
   "id": "9ccd6bab-7d71-4f19-81fe-88a98c75b879",
   "metadata": {
    "id": "9ccd6bab-7d71-4f19-81fe-88a98c75b879"
   },
   "outputs": [],
   "source": [
    "def build_model(layer_1_units, layer_2_units, layer_3_units, reg=True, clear=True):\n",
    "    if clear:                                               # ↑ REGULARISATION parameter\n",
    "        tf.keras.backend.clear_session()\n",
    "    model = tf.keras.models.Sequential()\n",
    "\n",
    "    model.add(tf.keras.Input((10000,)))\n",
    "\n",
    "    model.add(\n",
    "        tf.keras.layers.Dense(\n",
    "            layer_1_units,     # ↓ REGULARISATION (only if reg is True) --------\n",
    "            kernel_regularizer=tf.keras.regularizers.l2(0.001) if reg else None,\n",
    "            activation='relu'\n",
    "        )\n",
    "    )\n",
    "\n",
    "    model.add(\n",
    "        tf.keras.layers.Dense(\n",
    "            layer_2_units,     # ↓ REGULARISATION (only if reg is True) --------\n",
    "            kernel_regularizer=tf.keras.regularizers.l2(0.001) if reg else None,\n",
    "            activation='relu'\n",
    "        )\n",
    "    )\n",
    "\n",
    "    model.add(tf.keras.layers.Dense(layer_3_units, activation='sigmoid'))\n",
    "    model.compile(\n",
    "        optimizer='rmsprop',\n",
    "        loss='binary_crossentropy',\n",
    "        metrics=['acc']\n",
    "    )\n",
    "    return model"
   ]
  },
  {
   "cell_type": "code",
   "execution_count": 103,
   "id": "c2e18c68-4a60-4c41-a039-b6260a25064f",
   "metadata": {
    "colab": {
     "base_uri": "https://localhost:8080/"
    },
    "id": "c2e18c68-4a60-4c41-a039-b6260a25064f",
    "outputId": "a37780dc-5544-4744-d4af-92577d147603"
   },
   "outputs": [
    {
     "name": "stdout",
     "output_type": "stream",
     "text": [
      "Epoch 1/20\n",
      "30/30 [==============================] - 3s 68ms/step - loss: 0.5199 - acc: 0.7729 - val_loss: 0.3938 - val_acc: 0.8513\n",
      "Epoch 2/20\n",
      "30/30 [==============================] - 1s 24ms/step - loss: 0.3173 - acc: 0.8945 - val_loss: 0.3160 - val_acc: 0.8802\n",
      "Epoch 3/20\n",
      "30/30 [==============================] - 1s 25ms/step - loss: 0.2386 - acc: 0.9171 - val_loss: 0.3083 - val_acc: 0.8733\n",
      "Epoch 4/20\n",
      "30/30 [==============================] - 1s 23ms/step - loss: 0.1934 - acc: 0.9335 - val_loss: 0.2769 - val_acc: 0.8911\n",
      "Epoch 5/20\n",
      "30/30 [==============================] - 1s 26ms/step - loss: 0.1572 - acc: 0.9478 - val_loss: 0.3339 - val_acc: 0.8642\n",
      "Epoch 6/20\n",
      "30/30 [==============================] - 1s 25ms/step - loss: 0.1343 - acc: 0.9568 - val_loss: 0.2965 - val_acc: 0.8837\n",
      "Epoch 7/20\n",
      "30/30 [==============================] - 1s 38ms/step - loss: 0.1175 - acc: 0.9628 - val_loss: 0.3002 - val_acc: 0.8840\n",
      "Epoch 8/20\n",
      "30/30 [==============================] - 1s 34ms/step - loss: 0.0984 - acc: 0.9705 - val_loss: 0.3227 - val_acc: 0.8817\n",
      "Epoch 9/20\n",
      "30/30 [==============================] - 1s 34ms/step - loss: 0.0856 - acc: 0.9739 - val_loss: 0.3600 - val_acc: 0.8747\n",
      "Epoch 10/20\n",
      "30/30 [==============================] - 1s 26ms/step - loss: 0.0775 - acc: 0.9768 - val_loss: 0.3551 - val_acc: 0.8786\n",
      "Epoch 11/20\n",
      "30/30 [==============================] - 1s 25ms/step - loss: 0.0662 - acc: 0.9829 - val_loss: 0.3766 - val_acc: 0.8770\n",
      "Epoch 12/20\n",
      "30/30 [==============================] - 1s 23ms/step - loss: 0.0550 - acc: 0.9861 - val_loss: 0.3952 - val_acc: 0.8762\n",
      "Epoch 13/20\n",
      "30/30 [==============================] - 1s 23ms/step - loss: 0.0484 - acc: 0.9883 - val_loss: 0.4198 - val_acc: 0.8733\n",
      "Epoch 14/20\n",
      "30/30 [==============================] - 1s 23ms/step - loss: 0.0454 - acc: 0.9890 - val_loss: 0.4427 - val_acc: 0.8739\n",
      "Epoch 15/20\n",
      "30/30 [==============================] - 1s 23ms/step - loss: 0.0371 - acc: 0.9915 - val_loss: 0.4609 - val_acc: 0.8728\n",
      "Epoch 16/20\n",
      "30/30 [==============================] - 1s 24ms/step - loss: 0.0289 - acc: 0.9943 - val_loss: 0.5116 - val_acc: 0.8680\n",
      "Epoch 17/20\n",
      "30/30 [==============================] - 1s 24ms/step - loss: 0.0271 - acc: 0.9954 - val_loss: 0.5129 - val_acc: 0.8702\n",
      "Epoch 18/20\n",
      "30/30 [==============================] - 1s 23ms/step - loss: 0.0242 - acc: 0.9957 - val_loss: 0.5390 - val_acc: 0.8698\n",
      "Epoch 19/20\n",
      "30/30 [==============================] - 1s 24ms/step - loss: 0.0187 - acc: 0.9973 - val_loss: 0.5619 - val_acc: 0.8704\n",
      "Epoch 20/20\n",
      "30/30 [==============================] - 1s 25ms/step - loss: 0.0174 - acc: 0.9975 - val_loss: 0.5875 - val_acc: 0.8682\n"
     ]
    }
   ],
   "source": [
    "model = build_model(16, 16, 1, reg=False) # NO REGULARISATION\n",
    "history = model.fit(\n",
    "    x_train,\n",
    "    y_train,\n",
    "    epochs=20,\n",
    "    batch_size=512,\n",
    "    validation_split=0.4,\n",
    ")\n",
    "del model"
   ]
  },
  {
   "cell_type": "code",
   "execution_count": 104,
   "id": "cc8d4350-0dc7-4e8a-8377-5d19f6d60f6d",
   "metadata": {
    "colab": {
     "base_uri": "https://localhost:8080/"
    },
    "id": "cc8d4350-0dc7-4e8a-8377-5d19f6d60f6d",
    "outputId": "d9ab5773-6346-47b6-c17e-a1da013714a8"
   },
   "outputs": [
    {
     "name": "stdout",
     "output_type": "stream",
     "text": [
      "Epoch 1/20\n",
      "30/30 [==============================] - 3s 68ms/step - loss: 0.5818 - acc: 0.7737 - val_loss: 0.4621 - val_acc: 0.8450\n",
      "Epoch 2/20\n",
      "30/30 [==============================] - 1s 25ms/step - loss: 0.3853 - acc: 0.8923 - val_loss: 0.3655 - val_acc: 0.8877\n",
      "Epoch 3/20\n",
      "30/30 [==============================] - 1s 26ms/step - loss: 0.3084 - acc: 0.9148 - val_loss: 0.3378 - val_acc: 0.8933\n",
      "Epoch 4/20\n",
      "30/30 [==============================] - 1s 25ms/step - loss: 0.2657 - acc: 0.9275 - val_loss: 0.3298 - val_acc: 0.8920\n",
      "Epoch 5/20\n",
      "30/30 [==============================] - 1s 24ms/step - loss: 0.2417 - acc: 0.9364 - val_loss: 0.3321 - val_acc: 0.8900\n",
      "Epoch 6/20\n",
      "30/30 [==============================] - 1s 23ms/step - loss: 0.2240 - acc: 0.9433 - val_loss: 0.3529 - val_acc: 0.8800\n",
      "Epoch 7/20\n",
      "30/30 [==============================] - 1s 23ms/step - loss: 0.2078 - acc: 0.9529 - val_loss: 0.3443 - val_acc: 0.8850\n",
      "Epoch 8/20\n",
      "30/30 [==============================] - 1s 26ms/step - loss: 0.1985 - acc: 0.9563 - val_loss: 0.3559 - val_acc: 0.8854\n",
      "Epoch 9/20\n",
      "30/30 [==============================] - 1s 26ms/step - loss: 0.1876 - acc: 0.9621 - val_loss: 0.3629 - val_acc: 0.8840\n",
      "Epoch 10/20\n",
      "30/30 [==============================] - 1s 42ms/step - loss: 0.1833 - acc: 0.9617 - val_loss: 0.4249 - val_acc: 0.8668\n",
      "Epoch 11/20\n",
      "30/30 [==============================] - 1s 33ms/step - loss: 0.1737 - acc: 0.9667 - val_loss: 0.3925 - val_acc: 0.8770\n",
      "Epoch 12/20\n",
      "30/30 [==============================] - 1s 31ms/step - loss: 0.1690 - acc: 0.9675 - val_loss: 0.3852 - val_acc: 0.8797\n",
      "Epoch 13/20\n",
      "30/30 [==============================] - 1s 24ms/step - loss: 0.1667 - acc: 0.9691 - val_loss: 0.3931 - val_acc: 0.8787\n",
      "Epoch 14/20\n",
      "30/30 [==============================] - 1s 22ms/step - loss: 0.1573 - acc: 0.9721 - val_loss: 0.4495 - val_acc: 0.8641\n",
      "Epoch 15/20\n",
      "30/30 [==============================] - 1s 23ms/step - loss: 0.1583 - acc: 0.9724 - val_loss: 0.4089 - val_acc: 0.8767\n",
      "Epoch 16/20\n",
      "30/30 [==============================] - 1s 25ms/step - loss: 0.1509 - acc: 0.9754 - val_loss: 0.4265 - val_acc: 0.8754\n",
      "Epoch 17/20\n",
      "30/30 [==============================] - 1s 23ms/step - loss: 0.1507 - acc: 0.9750 - val_loss: 0.4243 - val_acc: 0.8752\n",
      "Epoch 18/20\n",
      "30/30 [==============================] - 1s 25ms/step - loss: 0.1465 - acc: 0.9761 - val_loss: 0.4308 - val_acc: 0.8748\n",
      "Epoch 19/20\n",
      "30/30 [==============================] - 1s 24ms/step - loss: 0.1510 - acc: 0.9746 - val_loss: 0.4369 - val_acc: 0.8756\n",
      "Epoch 20/20\n",
      "30/30 [==============================] - 1s 25ms/step - loss: 0.1379 - acc: 0.9801 - val_loss: 0.4497 - val_acc: 0.8735\n"
     ]
    }
   ],
   "source": [
    "l2_model = build_model(16, 16, 1, reg=True) # WITH L2 REGULARISATION\n",
    "l2_history = l2_model.fit(\n",
    "    x_train,\n",
    "    y_train,\n",
    "    epochs=20,\n",
    "    batch_size=512,\n",
    "    validation_split=0.4,\n",
    ")\n",
    "del l2_model"
   ]
  },
  {
   "cell_type": "markdown",
   "id": "ebf87337",
   "metadata": {
    "id": "ebf87337"
   },
   "source": [
    "The L2 regularised model resists (or delays) overfitting even though both networks have the same capacity  \n",
    "(160'305 learnable parameters)."
   ]
  },
  {
   "cell_type": "code",
   "execution_count": 105,
   "id": "e277989f-52a9-4506-a8e9-3b32e25de2e9",
   "metadata": {
    "colab": {
     "base_uri": "https://localhost:8080/",
     "height": 452
    },
    "id": "e277989f-52a9-4506-a8e9-3b32e25de2e9",
    "outputId": "fa275c5c-5fe2-4fb7-ddf4-d0bb64de33c3"
   },
   "outputs": [
    {
     "data": {
      "image/png": "[encoded data removed]",
      "text/plain": [
       "<Figure size 640x480 with 1 Axes>"
      ]
     },
     "metadata": {},
     "output_type": "display_data"
    }
   ],
   "source": [
    "plot_loss_comparison(\n",
    "    l2_history.history['val_loss'], 'L2 reg',\n",
    "    history.history['val_loss'], 'No reg',\n",
    "    'Validation Loss'\n",
    ")"
   ]
  },
  {
   "cell_type": "markdown",
   "id": "d6e459d2-349c-4da9-b0c9-02968964f290",
   "metadata": {
    "id": "d6e459d2-349c-4da9-b0c9-02968964f290"
   },
   "source": [
    "### 3. Dropout\n",
    "\n",
    "Finally, dropout is a common and effective regularisation technique.\n",
    "\n",
    "A fraction ('the dropout rate') of the output from a dropout layer is zeroed."
   ]
  },
  {
   "cell_type": "markdown",
   "id": "045d123c",
   "metadata": {
    "id": "045d123c"
   },
   "source": [
    "<!-- ![Chollet dropout](images/chollet.dropout.png) -->\n",
    "<img src=\"https://github.com/jchwenger/AI/blob/main/4-fundamentals/images/chollet.dropout.png?raw=true\">\n",
    "\n",
    "\n",
    "<small>DLWP, p.150</small>"
   ]
  },
  {
   "cell_type": "markdown",
   "id": "2e376306-4ba3-4f3c-9970-e914fbb4b715",
   "metadata": {
    "id": "2e376306-4ba3-4f3c-9970-e914fbb4b715"
   },
   "source": [
    "<!-- <img style=\"height:700px\" src=\"images/ng.dropout.1.png\"> -->\n",
    "<img style=\"height:700px\" src=\"https://github.com/jchwenger/AI/blob/main/4-fundamentals/images/ng.dropout.1.png?raw=true\">\n",
    "\n",
    "<small>[Andrew Ng, Improving Deep Neural Networks: Hyperparameter Tuning, Regularization and Optimization (Course 2 of the Deep Learning Specialization)](https://www.youtube.com/watch?v=D8PJAL-MZv8&list=PLkDaE6sCZn6Hn0vK8co82zjQtt3T2Nkqc&index=6)</small>"
   ]
  },
  {
   "cell_type": "markdown",
   "id": "0ad5087e",
   "metadata": {
    "id": "0ad5087e"
   },
   "source": [
    "<!-- <img style=\"height:700px\" src=\"images/ng.dropout.2.png\"> -->\n",
    "<img  style=\"height:700px\" src=\"https://github.com/jchwenger/AI/blob/main/4-fundamentals/images/ng.dropout.2.png?raw=true\">\n",
    "\n",
    "\n",
    "<small>[Andrew Ng, Improving Deep Neural Networks: Hyperparameter Tuning, Regularization and Optimization (Course 2 of the Deep Learning Specialization)](https://www.youtube.com/watch?v=D8PJAL-MZv8&list=PLkDaE6sCZn6Hn0vK8co82zjQtt3T2Nkqc&index=6)</small>"
   ]
  },
  {
   "cell_type": "markdown",
   "id": "d80339e8",
   "metadata": {
    "id": "d80339e8"
   },
   "source": [
    "<!-- <img style=\"height:700px\" src=\"images/ng.dropout.3.png\"> -->\n",
    "<img  style=\"height:700px\" src=\"https://github.com/jchwenger/AI/blob/main/4-fundamentals/images/ng.dropout.3.png?raw=true\">\n",
    "\n",
    "<small>[Andrew Ng, Improving Deep Neural Networks: Hyperparameter Tuning, Regularization and Optimization (Course 2 of the Deep Learning Specialization)](https://www.youtube.com/watch?v=D8PJAL-MZv8&list=PLkDaE6sCZn6Hn0vK8co82zjQtt3T2Nkqc&index=6)</small>"
   ]
  },
  {
   "cell_type": "code",
   "execution_count": 108,
   "id": "36c64ac9-5e75-43e2-8678-059164ce9e3e",
   "metadata": {
    "colab": {
     "base_uri": "https://localhost:8080/"
    },
    "id": "36c64ac9-5e75-43e2-8678-059164ce9e3e",
    "outputId": "5fe6324c-564f-4dc0-8c9a-5176acedd397"
   },
   "outputs": [
    {
     "name": "stdout",
     "output_type": "stream",
     "text": [
      "mask = [1 0 0 0 0 0 0 1]\n",
      "\n",
      "layer_out        = [0.71729509 0.75654232 0.92864762 0.72937042 0.65982335 0.16591615 0.5918732  0.26138593]\n",
      "mask * layer_out = [0.71729509 0.         0.         0.         0.         0.         0.         0.26138593]\n"
     ]
    }
   ],
   "source": [
    "# dropout rate = 0.5\n",
    "length = 8\n",
    "mask = np.random.randint(0, high=2, size=length) # the mask is a vector with, on average,\n",
    "with np.printoptions():                          # equal numbers of zeros and ones (a rate of 0.5)\n",
    "    print('mask =', mask)\n",
    "    print()\n",
    "\n",
    "layer_out = np.random.rand(length)\n",
    "\n",
    "with np.printoptions(linewidth=120):\n",
    "    # layer output\n",
    "    print('layer_out        =', layer_out)\n",
    "\n",
    "    # regularised layer output\n",
    "    print('mask * layer_out =', mask * layer_out) # dropout is just multiplying the layer output by the mask"
   ]
  },
  {
   "cell_type": "markdown",
   "id": "2163baa5-ad56-43c4-8de5-3731d2331fc6",
   "metadata": {
    "id": "2163baa5-ad56-43c4-8de5-3731d2331fc6"
   },
   "source": [
    "The dropout rate is usually between 0.2 and 0.5.\n",
    "\n",
    "Dropout is removed while evaluating the final network.\n",
    "\n",
    "### Note\n",
    "\n",
    "In order to **keep the expected value** of activations constant between the net with and without dropout, the\n",
    " output activations after activation need to be **scaled up by the dropout rate** to compensate for the parts of the layer output removed by dropout. Indeed, in expectation the output activation of the layer will be reduced by the dropout rate (50% in our case) as 50% of the elements are zeroed out.\n",
    "\n",
    "```python\n",
    "layer_output *= np.random.random(0, high=2, size=layer_output.shape)\n",
    "layer_output /= 0.5\n",
    "```\n",
    "\n",
    "TensorFlow applies this scaling automatically."
   ]
  },
  {
   "cell_type": "markdown",
   "id": "4deae119",
   "metadata": {
    "id": "4deae119"
   },
   "source": [
    "### Modular programming: a model building function with optional 50% dropout."
   ]
  },
  {
   "cell_type": "code",
   "execution_count": 109,
   "id": "402ce324-8f61-4383-98c5-bf86ad28ac5f",
   "metadata": {
    "id": "402ce324-8f61-4383-98c5-bf86ad28ac5f"
   },
   "outputs": [],
   "source": [
    "def build_model(layer_1_units, layer_2_units, layer_3_units, drop, clear=True):\n",
    "    if clear:                                               # ↑ DROPOUT parameter\n",
    "        tf.keras.backend.clear_session()\n",
    "    model = tf.keras.models.Sequential()\n",
    "    model.add(tf.keras.Input((10000,)))\n",
    "\n",
    "    model.add(tf.keras.layers.Dense(layer_1_units, activation='relu'))\n",
    "    if drop:                      # ↓ DROPOUT                        # IDEA FOR COURSEWORK: instead of drop being\n",
    "        model.add(tf.keras.layers.Dropout(0.5))                      # a boolean, how about passing the *rate*,\n",
    "                                                                     # and only activating the layer if it is > 0 ?\n",
    "    model.add(tf.keras.layers.Dense(layer_2_units, activation='relu'))\n",
    "    if drop:                      # ↓ DROPOUT                        # ALSO: can you find a way to combine layer\n",
    "        model.add(tf.keras.layers.Dropout(0.5))                      # automation with specifying a dropout rate\n",
    "                                                                     # for each layer?\n",
    "    model.add(tf.keras.layers.Dense(layer_3_units, activation='sigmoid'))\n",
    "    model.compile(optimizer='rmsprop',\n",
    "                  loss='binary_crossentropy',\n",
    "                  metrics=['acc'])\n",
    "    return model"
   ]
  },
  {
   "cell_type": "code",
   "execution_count": 110,
   "id": "cb41aaa8-2122-4eae-8c60-91a5d6cc4cff",
   "metadata": {
    "colab": {
     "base_uri": "https://localhost:8080/"
    },
    "id": "cb41aaa8-2122-4eae-8c60-91a5d6cc4cff",
    "outputId": "05d0b48b-da4b-4336-df44-da6385c341d1"
   },
   "outputs": [
    {
     "name": "stdout",
     "output_type": "stream",
     "text": [
      "\\ epoch: 20/20\n"
     ]
    }
   ],
   "source": [
    "model = build_model(16, 16, 1, drop=False) # training the original network\n",
    "history = model.fit(\n",
    "    x_train,\n",
    "    y_train,\n",
    "    epochs=20,\n",
    "    batch_size=512,\n",
    "    validation_split=0.4,\n",
    "    verbose=0,\n",
    "    callbacks=[CustomCallback(20)]\n",
    ")\n",
    "del model"
   ]
  },
  {
   "cell_type": "code",
   "execution_count": 111,
   "id": "98320edb-fcf9-4e89-ad30-0b5973b9a381",
   "metadata": {
    "colab": {
     "base_uri": "https://localhost:8080/"
    },
    "id": "98320edb-fcf9-4e89-ad30-0b5973b9a381",
    "outputId": "3d3882cf-1586-4261-a6e4-e1524a2dfa20"
   },
   "outputs": [
    {
     "name": "stdout",
     "output_type": "stream",
     "text": [
      "\\ epoch: 20/20\n"
     ]
    }
   ],
   "source": [
    "do_model = build_model(16, 16, 1, drop=True) # training a network with dropout\n",
    "do_history = do_model.fit(\n",
    "    x_train,\n",
    "    y_train,\n",
    "    epochs=20,\n",
    "    batch_size=512,\n",
    "    validation_split=0.4,\n",
    "    verbose=0,\n",
    "    callbacks=[CustomCallback(20)]\n",
    ")\n",
    "del do_model"
   ]
  },
  {
   "cell_type": "markdown",
   "id": "830df2d9",
   "metadata": {
    "id": "830df2d9"
   },
   "source": [
    "The plot show that dropout has successfully reduced overfitting."
   ]
  },
  {
   "cell_type": "code",
   "execution_count": 112,
   "id": "0a127c3a",
   "metadata": {
    "colab": {
     "base_uri": "https://localhost:8080/",
     "height": 449
    },
    "id": "0a127c3a",
    "outputId": "086890d9-3a7e-4ff8-ec31-f5b0be774532"
   },
   "outputs": [
    {
     "data": {
      "image/png": "[encoded data removed]",
      "text/plain": [
       "<Figure size 640x480 with 1 Axes>"
      ]
     },
     "metadata": {},
     "output_type": "display_data"
    }
   ],
   "source": [
    "plot_loss_comparison(\n",
    "    do_history.history['val_loss'], 'With dropout',\n",
    "    history.history['val_loss'], 'No dropout',\n",
    "    'Validation Loss'\n",
    ")"
   ]
  },
  {
   "cell_type": "markdown",
   "id": "3e184073-7400-4906-8940-bcfe15b2a7a9",
   "metadata": {
    "id": "3e184073-7400-4906-8940-bcfe15b2a7a9"
   },
   "source": [
    "---\n",
    "\n",
    "# 6. The universal workflow of machine learning"
   ]
  },
  {
   "cell_type": "markdown",
   "id": "a4555179-f7c3-4dbd-a7bb-59f93e12b083",
   "metadata": {
    "id": "a4555179-f7c3-4dbd-a7bb-59f93e12b083"
   },
   "source": [
    "---\n",
    "\n",
    "## 6.1 Define the task\n",
    "\n",
    "## 6.1.1 Frame the problem"
   ]
  },
  {
   "cell_type": "markdown",
   "id": "fe67371d-e5f5-4141-b619-c70b32d01bd2",
   "metadata": {
    "id": "fe67371d-e5f5-4141-b619-c70b32d01bd2"
   },
   "source": [
    "What are you trying to predict?\n",
    "\n",
    "And is the data (samples and labels) available?\n",
    "\n",
    "What is the type of the problem?\n",
    "\n",
    "Binary classification, single label multiclass, multilabel multiclass, regression?"
   ]
  },
  {
   "cell_type": "markdown",
   "id": "7929d228-edc9-464c-ac17-2a8712b57d7a",
   "metadata": {
    "id": "7929d228-edc9-464c-ac17-2a8712b57d7a"
   },
   "source": [
    "Hypotheses\n",
    "\n",
    "- the outputs can be predicted from the inputs;\n",
    "- the available data is sufficiently informative."
   ]
  },
  {
   "cell_type": "markdown",
   "id": "fc8481b6-2873-4e3e-97d7-9c2558d45739",
   "metadata": {
    "id": "fc8481b6-2873-4e3e-97d7-9c2558d45739"
   },
   "source": [
    "The hypotheses might not be met even if your problem is well defined.\n",
    "\n",
    "For example, an attempt to the predict stock prices from the recent past will likely fail because recent prices contain too little predictive information."
   ]
  },
  {
   "cell_type": "markdown",
   "id": "70195da1",
   "metadata": {
    "id": "70195da1"
   },
   "source": [
    "## Note on Ethics\n",
    "\n",
    "This probably should go without saying, but when a project seems fishy, *use your judgement*!\n",
    "\n",
    "A project to classify people as trustworthy or not on the basis of their portrait is **clearly a non-starter**.\n",
    "\n",
    "We do encode our own biases in all sort of ways, as individuals and societies, when we build models. Beware claims of **objectivity** and **authority** linked to these technologies.\n",
    "\n",
    "Technology is not neutral, and has an impact on our societies. It is important to think about these issues and be open about them."
   ]
  },
  {
   "cell_type": "markdown",
   "id": "2faac4f9",
   "metadata": {
    "id": "2faac4f9"
   },
   "source": [
    "<!-- ![Criminality paper](images/criminality.cnns.png) -->\n",
    "![Criminality paper](https://github.com/jchwenger/AI/blob/main/4-fundamentals/images/criminality.cnns.png?raw=true)\n",
    "\n",
    "<small>[Xiaolin Wu, Xi Zhang, \"Automated Inference on Criminality using Face Images\"](https://arxiv.org/abs/1611.04135v1)</small>"
   ]
  },
  {
   "cell_type": "markdown",
   "id": "1c87e35f",
   "metadata": {
    "id": "1c87e35f"
   },
   "source": [
    "<!-- ![Criminality paper](images/criminality.cnns.2.png) -->\n",
    "![Criminality paper](https://github.com/jchwenger/AI/blob/main/4-fundamentals/images/criminality.cnns.2.png?raw=true)\n",
    "\n",
    "<small>[Mahdi Hashemi, Margeret Hall, \"Criminal tendency detection from facial images and the gender bias effect\"](https://journalofbigdata.springeropen.com/articles/10.1186/s40537-019-0282-4)</small>"
   ]
  },
  {
   "cell_type": "markdown",
   "id": "80240d29",
   "metadata": {
    "id": "80240d29"
   },
   "source": [
    "### Historical example of pseudoscience: phrenology\n",
    "\n",
    "[Phrenology, Wikipedia](https://en.wikipedia.org/wiki/Phrenology)\n",
    "\n",
    "<!-- ![Phrenology husband](images/phrenology.husband.jpg) -->\n",
    "![Phrenology husband](https://github.com/jchwenger/AI/blob/main/4-fundamentals/images/phrenology.husband.jpg?raw=true)\n",
    "\n",
    "\n",
    "<small>[33 Absurd Phrenology Diagrams From A Century Ago](https://allthatsinteresting.com/phrenology-charts)</small>"
   ]
  },
  {
   "cell_type": "markdown",
   "id": "50231d17",
   "metadata": {
    "id": "50231d17"
   },
   "source": [
    "<!-- ![Phrenology husband](images/phrenology.wife.jpg) -->\n",
    "![Phrenology husband](https://github.com/jchwenger/AI/blob/main/4-fundamentals/images/phrenology.wife.jpg?raw=true)\n",
    "\n",
    "<small>[Phrenology, University of Missouri](https://library.missouri.edu/news/special-collections/phrenology)</small>"
   ]
  },
  {
   "cell_type": "markdown",
   "id": "b6c35833",
   "metadata": {
    "id": "b6c35833"
   },
   "source": [
    "### References\n",
    "\n",
    "[Kevin W. Bowyer, Michael King, Walter Scheirer, Kushal Vangara, \"The Criminality From Face Illusion\"](https://arxiv.org/abs/2006.03895)"
   ]
  },
  {
   "cell_type": "markdown",
   "id": "f28bb408-f8e8-4c44-9315-a7f35c2178eb",
   "metadata": {
    "id": "f28bb408-f8e8-4c44-9315-a7f35c2178eb"
   },
   "source": [
    "### Nonstationariness / Concept drift\n",
    "\n",
    "Much of the data in the world changes constantly.\n",
    "\n",
    "Nonstationary problems have a time ordering.\n",
    "\n",
    "Chollet's example: recommender system, you can't have the same system now as in a few years ago! It could be clothing, music, anything. A good recommendation is time-dependent.\n",
    "\n",
    "Either gather information from a period when the problem is stationary (a succession of summers) or train the model on recent trends (the past few weeks) or on all data but include the time of year as an input."
   ]
  },
  {
   "cell_type": "markdown",
   "id": "0441930c-200b-4b7d-8d11-b0ec78a5ba6f",
   "metadata": {
    "id": "0441930c-200b-4b7d-8d11-b0ec78a5ba6f"
   },
   "source": [
    "A third hypothesis: **the future is like the past**.\n",
    "\n",
    "The kind of machine learning we study now **only spots patterns in collected data** – data that lies in the past.\n",
    "\n",
    "We assume, when we use a trained model, that the past is relevant today."
   ]
  },
  {
   "cell_type": "markdown",
   "id": "47da949b-f7fb-4f36-8880-a92cf6897e58",
   "metadata": {
    "id": "47da949b-f7fb-4f36-8880-a92cf6897e58"
   },
   "source": [
    "---\n",
    "\n",
    "## 6.1.2 Collect a dataset"
   ]
  },
  {
   "cell_type": "markdown",
   "id": "a3414d3a-ca67-403e-b869-20e3f8919265",
   "metadata": {
    "id": "a3414d3a-ca67-403e-b869-20e3f8919265"
   },
   "source": [
    "### Beware of non-representative data\n",
    "\n",
    "You should strive to make sure that your **training data** and the **real world (unseen)** data you're using your model on come from the **same distribution**.\n",
    "\n",
    "#### Examples\n",
    "\n",
    "Very clean and well-lit pictures in training, real-world pictures from social media in production, you're in for trouble!\n",
    "\n",
    "The same goes with text: if your chatbot is trained on very well edited and clean text, there is no way it could then chat with real people using slang, abbreviations, spelling mistakes, etc."
   ]
  },
  {
   "cell_type": "markdown",
   "id": "4ba201a3-ee5e-43ea-94b3-3fd486dc3a08",
   "metadata": {
    "id": "4ba201a3-ee5e-43ea-94b3-3fd486dc3a08"
   },
   "source": [
    "#### The problem of sampling bias\n",
    "\n",
    "If you based your estimation of who won the election that night just on this one newspaper, you would be wrong!\n",
    "<!-- <img style=\"float:right;height:550px\" src=\"images/chollet.sampling-bias.png\"> -->\n",
    "<img  style=\"float:right;height:550px\" src=\"https://github.com/jchwenger/AI/blob/main/4-fundamentals/images/chollet.sampling-bias.png?raw=true\">\n",
    "\n",
    "<small style=\"position:absolute;bottom:0;right:0\">DLWP, p.184</small>"
   ]
  },
  {
   "cell_type": "markdown",
   "id": "5df10ba9-ec8c-4978-9cf5-ddc976aa5a28",
   "metadata": {
    "id": "5df10ba9-ec8c-4978-9cf5-ddc976aa5a28"
   },
   "source": [
    "---\n",
    "\n",
    "# Keras Callbacks (and other things)\n",
    "\n",
    "The [documentation](https://www.tensorflow.org/api_docs/python/tf/keras/callbacks/Callback), [list](https://www.tensorflow.org/api_docs/python/tf/keras/callbacks) and [tutorial](https://www.tensorflow.org/guide/keras/custom_callback).\n",
    "\n",
    "You add one or more callbacks through the `callbacks` argument to `fit/evaluate/predict` in a list:\n",
    "\n",
    "```python\n",
    "model.(fit|evaluate|predict)(\n",
    "    ...\n",
    "    callbacks=[MyCustomCallback(), MyOtherCustomCallback()]\n",
    ")\n",
    "```"
   ]
  },
  {
   "cell_type": "markdown",
   "id": "8b7b68cf-15a4-46b6-acd3-8f4e533c3f5a",
   "metadata": {
    "id": "8b7b68cf-15a4-46b6-acd3-8f4e533c3f5a"
   },
   "source": [
    "conda install -c conda-forge keras-tuner\n",
    "### Early Stopping\n",
    "\n",
    "```\n",
    "tf.keras.callbacks.EarlyStopping\n",
    "```\n",
    "\n",
    "([docs](https://www.tensorflow.org/api_docs/python/tf/keras/callbacks/EarlyStopping))\n",
    "\n",
    "**What we are doing manually now.** Please refrain from using this in Coursework 1, as the points for identifying the epoch with best performance can only be given if you implement the process yourself!"
   ]
  },
  {
   "cell_type": "markdown",
   "id": "fa823fe9-e4bf-40b3-9f36-249589b62e6d",
   "metadata": {
    "id": "fa823fe9-e4bf-40b3-9f36-249589b62e6d"
   },
   "source": [
    "```python\n",
    "tf.keras.callbacks.EarlyStopping(\n",
    "    monitor='val_loss', # the metric to monitor\n",
    "    min_delta=0,        # specify a minimum change considered an improvement\n",
    "    patience=0,         # how many epochs allowed without an improvement\n",
    "    verbose=0,\n",
    "    mode='auto',        # do we aim for min or max? (auto: inferred from metric)\n",
    "    baseline=None,      # specify baseline, training stops if model can't beat it\n",
    "    restore_best_weights=False\n",
    ")\n"
   ]
  },
  {
   "cell_type": "markdown",
   "id": "5204d30b-c7d9-41d4-ab25-46cf02b1d1c2",
   "metadata": {
    "id": "5204d30b-c7d9-41d4-ab25-46cf02b1d1c2"
   },
   "source": [
    "### Checkpoints\n",
    "\n",
    "```python\n",
    "tf.keras.callbacks.ModelCheckpoint\n",
    "```\n",
    "\n",
    "([docs](https://www.tensorflow.org/api_docs/python/tf/keras/callbacks/ModelCheckpoint))\n",
    "\n",
    "To save your network automatically."
   ]
  },
  {
   "cell_type": "markdown",
   "id": "f5793350-2b50-4427-824c-6feaa34b7ebb",
   "metadata": {
    "id": "f5793350-2b50-4427-824c-6feaa34b7ebb"
   },
   "source": [
    "```python\n",
    "model_checkpoint_callback = tf.keras.callbacks.ModelCheckpoint(\n",
    "    filepath='model.keras',       # name and path of the file: format the name\n",
    "                                  # to prevent overwriting, e.g.\n",
    "                                  # f\"model.{epoch:02d}-{val_loss:.2f}.keras\"\n",
    "    save_weights_only=False,      # save full model\n",
    "    monitor='val_accuracy',       # the metric to monitor\n",
    "    mode='max',                   # do we aim for max or min?\n",
    "    save_best_only=True           # if False, you can specify\n",
    ")                                 # `save_freq=n` to save every n epochs\n",
    "```"
   ]
  },
  {
   "cell_type": "markdown",
   "id": "b29e025c",
   "metadata": {
    "id": "b29e025c"
   },
   "source": [
    "### TensorBoard\n",
    "\n",
    "```python\n",
    "tf.keras.callbacks.TensorBoard(\n",
    "    log_dir='logs',      # as above, you can specify the log directory\n",
    "    update_freq='epoch', # specific to this particular model\n",
    ")\n",
    "\n",
    "```\n",
    "\n",
    "Many more options in the ([docs](https://www.tensorflow.org/api_docs/python/tf/keras/callbacks/TensorBoard))..."
   ]
  },
  {
   "cell_type": "markdown",
   "id": "7c2626ee-87df-49e9-ba92-ccb6f7ddd55b",
   "metadata": {
    "id": "7c2626ee-87df-49e9-ba92-ccb6f7ddd55b"
   },
   "source": [
    "Locally, you start training, then open a terminal, activate your environment, then do:\n",
    "```bash\n",
    "tensorboard --logdir logs # same logdir as above!\n",
    "```\n",
    "The output will give you a local web address (default: ` http://localhost:6006/`) where the interface is accessible.\n",
    "\n",
    "This is **supposed** to work in Colab, but on the condition that Third-Party Cookies are allowed, etc. It hasn't in the past month for me, see [this](https://github.com/googlecolab/colabtools/issues/3990). Here is [the reference notebook](https://colab.research.google.com/drive/1AWienDOZQuHiJ2mFFXNpqnoZLI1aZ1Fi#scrollTo=NkTyhz9a8SNw)! Also in the zip on the VLE."
   ]
  },
  {
   "cell_type": "markdown",
   "id": "b3e413e5",
   "metadata": {
    "id": "b3e413e5",
    "jp-MarkdownHeadingCollapsed": true,
    "tags": []
   },
   "source": [
    "### Saving/Loading\n",
    "\n",
    "The [Save and load Keras models](https://www.tensorflow.org/guide/keras/save_and_serialize) tutorial.\n",
    "\n",
    "\n",
    "```python\n",
    "model.save('path/to/location')         # save the full model\n",
    "\n",
    "model.save_weights('path/to/location') # save only the weights\n",
    "\n",
    "model = tf.keras.models.load_model('path/to/location')\n",
    "\n",
    "```"
   ]
  },
  {
   "cell_type": "markdown",
   "id": "47054c27-bd5c-4f00-b4cb-1cc558b38307",
   "metadata": {
    "id": "47054c27-bd5c-4f00-b4cb-1cc558b38307"
   },
   "source": [
    "---\n",
    "\n",
    "# Summary\n",
    "\n",
    "## Overfitting\n",
    "\n",
    "- **More data** is better. (By far the best and most straightforward measure...)\n",
    "\n",
    "Other techniques:\n",
    "\n",
    "- **Capacity reduction**\n",
    "- **Weight regularisation**\n",
    "- **Dropout**"
   ]
  },
  {
   "cell_type": "markdown",
   "id": "c4131965-4c3f-4e82-a36b-6ea259ad542c",
   "metadata": {
    "id": "c4131965-4c3f-4e82-a36b-6ea259ad542c"
   },
   "source": [
    "## Statistical power\n",
    "\n",
    "We aim for statistical (predictive) power.\n",
    "\n",
    "- Establish a **baseline** will help you know what to aim for;\n",
    "- Grow your model until you beat the baseline and **overfit** (often happens straight away);\n",
    "- **Regularise** your model using various techniques.\n",
    "\n",
    "*It is informative to know what the **lower capacity limit** is for a particular architecture & problem (the largest network that does not overfit).*"
   ]
  },
  {
   "cell_type": "markdown",
   "id": "cc2f53c9-722a-44eb-a4c5-1c316f70d744",
   "metadata": {
    "id": "cc2f53c9-722a-44eb-a4c5-1c316f70d744"
   },
   "source": [
    "## Workflow\n",
    "\n",
    "1. **Define** the problem and **collect data** (samples and labels)\n",
    "2. Choose the **success criterion** (**loss**) and monitoring **metrics**\n",
    "3. Chose a **validation protocol** (hold-out...)\n",
    "4. **Prepare your data**\n",
    "5. Check your **baselines**\n",
    "5. **Train**  \n",
    "   a. a first underfitting model (still with statistical power, not a total wreck)  \n",
    "   b. a larger overfitting model  \n",
    "7. **Tune**  \n",
    "   a. **Regularise** the overfitting model  \n",
    "   b. **Tweak** hyperparameters based on performance on the **validation set**  \n",
    "8. **Retrain on the entire training set** and evaluate on your **unseen test set**\n"
   ]
  },
  {
   "cell_type": "markdown",
   "id": "d01f5af8",
   "metadata": {
    "id": "d01f5af8"
   },
   "source": [
    "|Problem type | Last layer activation | Loss function| Metric |\n",
    "|:---|:---|:---|:---|\n",
    "Binary classification | `sigmoid` | `binary_crossentropy`| `accuracy` |\n",
    "Multiclass, single-label classification | `softmax` | `categorical_crossentropy`| `accuracy` |\n",
    "Multiclass, multi-label classification | `sigmoid` | `binary_crossentropy` | `categorical_accuracy`|\n",
    "Regression to arbitrary values | `None` | `mse` | `mae` |\n",
    "Regression to values in [0, 1] | `sigmoid` | `mse` or `binary_crossentropy` | `mae`|\n"
   ]
  },
  {
   "cell_type": "markdown",
   "id": "b07a693c-daa6-43d6-a15e-650fa6ea8555",
   "metadata": {
    "id": "b07a693c-daa6-43d6-a15e-650fa6ea8555"
   },
   "source": [
    "## Experiments\n",
    "\n",
    "- Different architectures (number of layers, units per layer)  \n",
    "- Dropout\n",
    "- L1/L2 regularisation\n",
    "- Other hyperparameters..."
   ]
  }
 ],
 "metadata": {
  "accelerator": "GPU",
  "celltoolbar": "Slideshow",
  "colab": {
   "gpuType": "T4",
   "provenance": []
  },
  "kernelspec": {
   "display_name": "Python 3 (ipykernel)",
   "language": "python",
   "name": "python3"
  },
  "language_info": {
   "codemirror_mode": {
    "name": "ipython",
    "version": 3
   },
   "file_extension": ".py",
   "mimetype": "text/x-python",
   "name": "python",
   "nbconvert_exporter": "python",
   "pygments_lexer": "ipython3",
   "version": "3.9.18"
  }
 },
 "nbformat": 4,
 "nbformat_minor": 5
}
