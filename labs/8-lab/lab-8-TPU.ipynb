{
 "cells": [
  {
   "cell_type": "markdown",
   "id": "8a275d44",
   "metadata": {},
   "source": [
    "---\n",
    "\n",
    "# 13.2.3 TPU Training\n",
    "\n",
    "TPUs are available in Colab. Here is a template to get you started.\n",
    "\n",
    "#### Note\n",
    "\n",
    "Sadly, given the huge popularity of the service, Google has introduced paid tiers and reduce (eliminated?) free TPU access. I do remember being able to experiment with this, but of late I have not been able to connect to a TPU runtime any longer... It might be that the free version of Colab no longer offers TPUs, even if the option is there. Let me know if you are able to connect!"
   ]
  },
  {
   "cell_type": "code",
   "execution_count": null,
   "id": "c2bc2c7c",
   "metadata": {},
   "outputs": [],
   "source": [
    "import tensorflow as tf\n",
    "print(\"Tensorflow version \" + tf.__version__)\n",
    "\n",
    "# connect to the TPU cluster\n",
    "# https://colab.research.google.com/github/tensorflow/docs/blob/master/site/en/guide/tpu.ipynb#scrollTo=7SO23K8oRpjI\n",
    "try:\n",
    "    resolver = tf.distribute.cluster_resolver.TPUClusterResolver(tpu='local')\n",
    "    tf.config.experimental_connect_to_cluster(resolver)\n",
    "    # This is the TPU initialization code that has to be at the beginning.\n",
    "    tf.tpu.experimental.initialize_tpu_system(resolver)\n",
    "    print(\"All devices: \", tf.config.list_logical_devices('TPU'))\n",
    "    strategy = tf.distribute.TPUStrategy(resolver)\n",
    "    print(f\"Number of replicas: {strategy.num_replicas_in_sync}\") # a TPU has 8 cores \n",
    "\n",
    "except ValueError:\n",
    "    strategy = tf.distribute.get_strategy() \n",
    "    print(\"No TPU found, falling back onto default strategy.\")"
   ]
  },
  {
   "cell_type": "markdown",
   "id": "ff111978",
   "metadata": {},
   "source": [
    "(Listing 13.4)"
   ]
  },
  {
   "cell_type": "code",
   "execution_count": null,
   "id": "e14f3b01-0a74-4dc1-a884-206742d0093a",
   "metadata": {},
   "outputs": [],
   "source": [
    "# functional encapsulation: everything inside the function\n",
    "# will be created following the strategy\n",
    "def build_model(input_size):\n",
    "    inputs = tf.keras.Input((input_size, input_size, 3))\n",
    "    x = tf.keras.applications.resnet.preprocess_input(inputs)\n",
    "    x = tf.keras.applications.resnet.ResNet50(\n",
    "        weights=None, include_top=False, pooling=\"max\"\n",
    "    )(x)\n",
    "    outputs = tf.keras.layers.Dense(10, activation=\"softmax\")(x)\n",
    "    model = tf.keras.Model(inputs, outputs)\n",
    "    model.compile(\n",
    "        optimizer=\"rmsprop\",\n",
    "        loss=\"sparse_categorical_crossentropy\",\n",
    "        metrics=[\"accuracy\"]\n",
    "    )\n",
    "    return model\n",
    "\n",
    "# ↓ we create our model in the 'scope' of the strategy\n",
    "with strategy.scope():\n",
    "    model = build_model(input_size=32)\n",
    "# ↑ --------------------------------------------------\n",
    "\n",
    "(x_train, y_train), (x_test, y_test) = tf.keras.datasets.cifar10.load_data()"
   ]
  },
  {
   "cell_type": "code",
   "execution_count": null,
   "id": "659efcf4-fdf0-463c-9086-d83a4af71ac2",
   "metadata": {},
   "outputs": [],
   "source": [
    "# the first epoch is always much slower, as the system compiles every single step\n",
    "# once that compilation has taken place, the speedup gain is great\n",
    "model.fit(\n",
    "    x_train,\n",
    "    y_train, \n",
    "    epochs=10,\n",
    "    batch_size=1024 # notice the large batch size, TPUs have a large capacity!\n",
    ")"
   ]
  },
  {
   "cell_type": "markdown",
   "id": "b1d94173-7929-42c1-82e7-f8bd04759d28",
   "metadata": {},
   "source": [
    "---\n",
    "\n",
    "TensorFlow has various Colabs available showing use cases of TPUs:\n",
    "- See [this page](https://www.tensorflow.org/guide/tpu), which has more links at the bottom."
   ]
  }
 ],
 "metadata": {
  "kernelspec": {
   "display_name": "Python 3 (ipykernel)",
   "language": "python",
   "name": "python3"
  },
  "language_info": {
   "codemirror_mode": {
    "name": "ipython",
    "version": 3
   },
   "file_extension": ".py",
   "mimetype": "text/x-python",
   "name": "python",
   "nbconvert_exporter": "python",
   "pygments_lexer": "ipython3",
   "version": "3.9.18"
  }
 },
 "nbformat": 4,
 "nbformat_minor": 5
}
