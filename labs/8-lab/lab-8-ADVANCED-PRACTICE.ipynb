{
 "cells": [
  {
   "cell_type": "markdown",
   "metadata": {},
   "source": [
    "# Deep Dives & Best Practices\n",
    "\n",
    "---\n",
    "\n",
    "1. Consider the following neural net:\n",
    "\n",
    "    ```python\n",
    "    import tensorflow as tf\n",
    "    model = tf.keras.models.Sequential()\n",
    "    model.add(tf.keras.layers.Conv2D(32, kernel_size=3, activation=\"relu\", input_shape=(28, 28, 3)))\n",
    "    model.add(tf.keras.layers.MaxPooling2D(pool_size=2))\n",
    "    model.add(tf.keras.layers.Conv2D(64, kernel_size=3, activation=\"relu\"))\n",
    "    model.add(tf.keras.layers.MaxPooling2D(pool_size=2))\n",
    "    model.add(tf.keras.layers.Conv2D(128, kernel_size=3, activation=\"relu\"))\n",
    "    model.add(tf.keras.layers.MaxPooling2D(pool_size=2))\n",
    "    model.add(tf.keras.layers.Flatten())\n",
    "    model.add(tf.keras.layers.Dense(512, activation=\"relu\"))\n",
    "    model.add(tf.keras.layers.Dense(10, activation=\"softmax\"))\n",
    "    model.compile()\n",
    "    model.summary()\n",
    "    ```\n",
    "     \n",
    "2. Rewrite it using functional code.\n",
    "4. Add an extra convolutional layer of 128 filters with `kernel_size` 3 before the `Flatten` layer.\n",
    "5. Add a residual connection between the two 128 filter layers (DLWP section 9.3.2). Hint: specify `padding='same'` to guarantee shape compatibility.\n",
    "6. Compile and train on MNIST using one or more callbacks, such as `tf.keras.callbacks.ModelCheckpoint`, `tf.keras.callbacks.EarlyStopping` or `tf.keras.callbacks.EarlyStopping` (DLWP 7.3.2).\n",
    "7. Try adding batch normalisation (DLWP section 9.3.3).\n",
    "\n",
    "Optional: check out the [TPU template notebook](https://drive.google.com/file/d/1sQXVc4WmWZWRxWGy6yAzz2vrA-qIh0fP/view?usp=share_link). Encapsulate your net so as to run it using TPU acceleartion (note: these days TPU availability in Google Colab is quite irregular.)"
   ]
  },
  {
   "cell_type": "markdown",
   "metadata": {
    "tags": []
   },
   "source": [
    "---\n",
    "\n",
    "# 2. Advanced practice (optional)\n",
    "\n",
    "### Pick **one** of these two topics. \n",
    "\n",
    "These can be useful experiments if you feel like dedicating your coursework 2 to either computer vision or text-related tasks. Note that next week's labs focus on generative systems for artistic experiments, also a possible topic for the coursework."
   ]
  },
  {
   "cell_type": "markdown",
   "metadata": {
    "tags": []
   },
   "source": [
    "## 2.1 Image segmentation with a ConvNet\n",
    "\n",
    "Set up and run [this notebook](https://drive.google.com/file/d/1EPPh0vjqwLgzWBlf9TVGZ9dVbo3g4vgW/view?usp=share_link).\n",
    "\n",
    "- Experiment with various hyperparameters.\n",
    "- Can you encapsulate your ConvNet model so that it is easier to change its architecture (number of layers, number of heads, etc.)?"
   ]
  },
  {
   "cell_type": "markdown",
   "metadata": {
    "tags": []
   },
   "source": [
    "## 2.2 Sequence-to-sequence learning with RNNs/Transformers\n",
    "\n",
    "Set up and run [this notebook](https://drive.google.com/file/d/1EPPh0vjqwLgzWBlf9TVGZ9dVbo3g4vgW/view?usp=share_link).\n",
    "\n",
    "- Compare the RNN and Transformer architectures.\n",
    "- Experiment with various hyperparameters.\n",
    "- Can you encapsulate your Transformer model so that it is easier to change its architecture (number of layers, number of heads, etc.)?\n",
    "\n",
    "\n",
    "Note: What would it take for the final Transformer model to be trained on more than one language?"
   ]
  },
  {
   "cell_type": "markdown",
   "metadata": {},
   "source": [
    "---\n",
    "\n",
    "#### Remember to run your best performing models on the test set."
   ]
  }
 ],
 "metadata": {
  "kernelspec": {
   "display_name": "Python 3 (ipykernel)",
   "language": "python",
   "name": "python3"
  },
  "language_info": {
   "codemirror_mode": {
    "name": "ipython",
    "version": 3
   },
   "file_extension": ".py",
   "mimetype": "text/x-python",
   "name": "python",
   "nbconvert_exporter": "python",
   "pygments_lexer": "ipython3",
   "version": "3.7.13"
  }
 },
 "nbformat": 4,
 "nbformat_minor": 4
}
