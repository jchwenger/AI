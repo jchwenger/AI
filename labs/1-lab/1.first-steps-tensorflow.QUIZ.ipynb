{
 "cells": [
  {
   "cell_type": "markdown",
   "id": "78fae3cb-c681-48cc-add8-f60db3a92c11",
   "metadata": {
    "id": "78fae3cb-c681-48cc-add8-f60db3a92c11"
   },
   "source": [
    "# Introduction to TensorFlow (2.2-2.3, 3.5)\n",
    "\n",
    "This is a 'quiz' for [`1.first-steps-tensorflow.ipynb`](https://github.com/jchwenger/AI/blob/main/labs/1-lab/1.first-steps-tensorflow.ipynb)."
   ]
  },
  {
   "cell_type": "code",
   "execution_count": null,
   "id": "24c658cd-b33a-4fc9-b381-f588e8985529",
   "metadata": {
    "id": "24c658cd-b33a-4fc9-b381-f588e8985529"
   },
   "outputs": [],
   "source": [
    "# import tensorflow and numpy as usual"
   ]
  },
  {
   "cell_type": "markdown",
   "id": "8f6ed645",
   "metadata": {
    "id": "8f6ed645"
   },
   "source": [
    "## TensorFlow Dojo!"
   ]
  },
  {
   "cell_type": "markdown",
   "id": "5b3c33a3-c2f3-413c-8250-521a55af13a3",
   "metadata": {
    "id": "5b3c33a3-c2f3-413c-8250-521a55af13a3"
   },
   "source": [
    "---\n",
    "\n",
    "### First: NumPy recap"
   ]
  },
  {
   "cell_type": "code",
   "execution_count": null,
   "id": "4914f035",
   "metadata": {
    "id": "4914f035"
   },
   "outputs": [],
   "source": [
    "arr = [0,1,2,3,4]\n",
    "print(arr[?]) # select the second element\n",
    "print(arr[?]) # select the next-to-last element\n",
    "print(arr[?]) # select the second and third elements\n",
    "print(arr[?]) # select everything"
   ]
  },
  {
   "cell_type": "markdown",
   "id": "oM9N4UIMtIiA",
   "metadata": {
    "id": "oM9N4UIMtIiA"
   },
   "source": [
    "Slicing in Python."
   ]
  },
  {
   "cell_type": "code",
   "execution_count": null,
   "id": "80a29ee7-a9e9-4868-ad45-f6d4a66be2c0",
   "metadata": {
    "id": "80a29ee7-a9e9-4868-ad45-f6d4a66be2c0"
   },
   "outputs": [],
   "source": [
    "matrix = [\n",
    "            [1,2,3],\n",
    "            [4,5,6],\n",
    "            [7,8,9]\n",
    "         ]\n",
    "\n",
    "print(matrix?)       # select a row\n",
    "print(matrix?)       # select a number (inside a row)\n",
    "print(?)             # select a column\n",
    "print()\n",
    "print(\"matrix * 2:\") # multiply all numbers by 2\n",
    "print(?) "
   ]
  },
  {
   "cell_type": "markdown",
   "id": "z9H2XW5ztE9G",
   "metadata": {
    "id": "z9H2XW5ztE9G"
   },
   "source": [
    "Slicing in NumPy."
   ]
  },
  {
   "cell_type": "code",
   "execution_count": null,
   "id": "1dd8744d-2342-4819-acbf-6c6f35ee4d6a",
   "metadata": {
    "id": "1dd8744d-2342-4819-acbf-6c6f35ee4d6a"
   },
   "outputs": [],
   "source": [
    "matrix = np.?    # a range of 9 integers ranging from 1 to 9, reshaped as a 3x3 matrix\n",
    "print(matrix)\n",
    "print(matrix[?]) # the first row\n",
    "print(matrix[?]) # the first column\n",
    "print(matrix[?]) # the second column, from third element  until the end"
   ]
  },
  {
   "cell_type": "markdown",
   "id": "dd46b2a1-790e-4b70-ba41-28af2c86c085",
   "metadata": {
    "id": "dd46b2a1-790e-4b70-ba41-28af2c86c085"
   },
   "source": [
    "Math."
   ]
  },
  {
   "cell_type": "code",
   "execution_count": null,
   "id": "aa8610f8-95b8-48a4-8ba0-40e3948500ef",
   "metadata": {
    "id": "aa8610f8-95b8-48a4-8ba0-40e3948500ef"
   },
   "outputs": [],
   "source": [
    "print(matrix)  \n",
    "print(matrix ?) # matrix multiplied by two\n",
    "print(matrix ?) # matrix plus three\n",
    "print(matrix ?) # matrix raised to the power 2\n"
   ]
  },
  {
   "cell_type": "markdown",
   "id": "e5b547ba",
   "metadata": {
    "id": "e5b547ba"
   },
   "source": [
    "Transposition."
   ]
  },
  {
   "cell_type": "code",
   "execution_count": null,
   "id": "e1cfa259-5f7a-4733-9ca3-a4cb204fce5a",
   "metadata": {
    "id": "e1cfa259-5f7a-4733-9ca3-a4cb204fce5a"
   },
   "outputs": [],
   "source": [
    "print(matrix)\n",
    "print(matrix?) # transposed"
   ]
  },
  {
   "cell_type": "code",
   "execution_count": null,
   "id": "05375019-0e9b-4894-88b9-49794aa2ec62",
   "metadata": {
    "id": "05375019-0e9b-4894-88b9-49794aa2ec62"
   },
   "outputs": [],
   "source": [
    "array = ?     # a numpy array containing 1 2 and 3 from a Python list\n",
    "print(array)  # use the two available types of syntax:\n",
    "print(array?) # adding a new axis in the front\n",
    "print(array?) # turning the array into a column vector by adding a new axis in the back"
   ]
  },
  {
   "cell_type": "markdown",
   "id": "d8eb56e0-a469-45e7-ab2a-87ad05c43174",
   "metadata": {
    "id": "d8eb56e0-a469-45e7-ab2a-87ad05c43174"
   },
   "source": [
    "Broadcasting."
   ]
  },
  {
   "cell_type": "code",
   "execution_count": null,
   "id": "92915151-af0d-4d39-b724-697c3fa4e4d0",
   "metadata": {
    "id": "92915151-af0d-4d39-b724-697c3fa4e4d0"
   },
   "outputs": [],
   "source": [
    "print(matrix)\n",
    "print(array)\n",
    "print(?)  # add the array to the matrix, horizontally\n",
    "print(?)  # the same, just vertically (transforming the array)"
   ]
  },
  {
   "cell_type": "markdown",
   "id": "b131703b-658b-41ff-ae22-01f962ae0c0f",
   "metadata": {
    "id": "b131703b-658b-41ff-ae22-01f962ae0c0f"
   },
   "source": [
    "More functions."
   ]
  },
  {
   "cell_type": "code",
   "execution_count": null,
   "id": "d7b6d59e-fc45-4feb-a717-f1c4f100d8dc",
   "metadata": {
    "id": "d7b6d59e-fc45-4feb-a717-f1c4f100d8dc"
   },
   "outputs": [],
   "source": [
    "print(matrix)  # use one of NumPy's maths methods on the matrix\n",
    "               # (summation, minimum, maximum, mean, standard deviation)\n",
    "print(matrix?) # on the whole matrix\n",
    "print(matrix?) # on the columns\n",
    "print(matrix?) # on the rows"
   ]
  },
  {
   "cell_type": "markdown",
   "id": "20316452-1c6f-401b-84bb-315f2daa29b3",
   "metadata": {
    "id": "20316452-1c6f-401b-84bb-315f2daa29b3"
   },
   "source": [
    "Linear algebra operations, for example: dot product."
   ]
  },
  {
   "cell_type": "code",
   "execution_count": null,
   "id": "448f9b77-9824-4db6-aa5e-41b5797d22f4",
   "metadata": {
    "id": "448f9b77-9824-4db6-aa5e-41b5797d22f4"
   },
   "outputs": [],
   "source": [
    "arr1 = np.array([1,2,3])\n",
    "arr2 = np.array([4,5,6])\n",
    "print(?) # dot product"
   ]
  },
  {
   "cell_type": "code",
   "execution_count": null,
   "id": "9a0cd14a-67c3-4b66-bdf8-a8738b5044e5",
   "metadata": {
    "id": "9a0cd14a-67c3-4b66-bdf8-a8738b5044e5"
   },
   "outputs": [],
   "source": [
    "second_matrix = ? # generate a random array of integers ranging from 0 to 9\n",
    "                  # and of shape 3x 3\n",
    "print(second_matrix)\n",
    "print(?)          # matrix multiplication between matrix and second_matrix\n",
    "                  # use either type of the syntax"
   ]
  },
  {
   "cell_type": "markdown",
   "id": "b4c01c36",
   "metadata": {
    "id": "b4c01c36"
   },
   "source": [
    "\n",
    "---"
   ]
  },
  {
   "attachments": {},
   "cell_type": "markdown",
   "id": "970f833b-b8d5-4276-a678-efb3c53d7d7f",
   "metadata": {
    "id": "7da5fe81"
   },
   "source": [
    "## Now to TensorFlow: plan\n",
    "\n",
    "- Constants/Variables, shape, type\n",
    "- Reshaping\n",
    "- Slicing\n",
    "- Tensor creation (zeros, ones, random)\n",
    "- Broadcasting\n",
    "- Maths & other ops"
   ]
  },
  {
   "cell_type": "markdown",
   "id": "f626cb1c-0fd8-41b6-9b03-3ce8d4050866",
   "metadata": {
    "id": "f626cb1c-0fd8-41b6-9b03-3ce8d4050866"
   },
   "source": [
    "---\n",
    "\n",
    "### 3.5.1 The basics of TensorFlow objects\n",
    "\n",
    "`Tensors` are the generalisation of matrices (and vectors) in higher dimensions!"
   ]
  },
  {
   "cell_type": "code",
   "execution_count": null,
   "id": "ff15e09e-ce22-4b53-86bb-087cbad75bc7",
   "metadata": {
    "id": "ff15e09e-ce22-4b53-86bb-087cbad75bc7"
   },
   "outputs": [],
   "source": [
    "x = ? # use TensorFlow to create a simple array with one element: one"
   ]
  },
  {
   "cell_type": "code",
   "execution_count": null,
   "id": "0fbaa26f-2984-4876-908d-3dfb15190980",
   "metadata": {
    "id": "0fbaa26f-2984-4876-908d-3dfb15190980"
   },
   "outputs": [],
   "source": [
    "? # its shape"
   ]
  },
  {
   "cell_type": "code",
   "execution_count": null,
   "id": "1Ry4gxVQiUy-",
   "metadata": {
    "id": "1Ry4gxVQiUy-"
   },
   "outputs": [],
   "source": [
    "? # its shape as a list"
   ]
  },
  {
   "cell_type": "code",
   "execution_count": null,
   "id": "f8442728-168a-4bc6-ba93-44f521a93d75",
   "metadata": {
    "id": "f8442728-168a-4bc6-ba93-44f521a93d75"
   },
   "outputs": [],
   "source": [
    "? # its data type"
   ]
  },
  {
   "cell_type": "code",
   "execution_count": null,
   "id": "d222debc-354e-4760-9b61-899ad0b39543",
   "metadata": {
    "id": "d222debc-354e-4760-9b61-899ad0b39543"
   },
   "outputs": [],
   "source": [
    "? # as a Numpy array"
   ]
  },
  {
   "cell_type": "code",
   "execution_count": null,
   "id": "608670f2-4cb4-46b7-ab2d-0bf808c46e65",
   "metadata": {
    "id": "608670f2-4cb4-46b7-ab2d-0bf808c46e65"
   },
   "outputs": [],
   "source": [
    "? # the single number (as an integer, not an array)"
   ]
  },
  {
   "cell_type": "code",
   "execution_count": null,
   "id": "98f604f3-05a2-4b99-998f-8e409a24408e",
   "metadata": {
    "id": "98f604f3-05a2-4b99-998f-8e409a24408e"
   },
   "outputs": [],
   "source": [
    "? # the TF way to create a range of 12 elements"
   ]
  },
  {
   "cell_type": "markdown",
   "id": "8caf00d3-a16d-4d79-86ca-40a6c9a6f71e",
   "metadata": {
    "id": "8caf00d3-a16d-4d79-86ca-40a6c9a6f71e"
   },
   "source": [
    "What is the 'tensor' way to represent the shape of 1D tensors?"
   ]
  },
  {
   "cell_type": "code",
   "execution_count": null,
   "id": "fe459de0-9869-4d14-81b4-4656dd71fb96",
   "metadata": {
    "id": "fe459de0-9869-4d14-81b4-4656dd71fb96"
   },
   "outputs": [],
   "source": [
    "print(?) # create a range of three elements, print its shape"
   ]
  },
  {
   "cell_type": "code",
   "execution_count": null,
   "id": "fpOVWuFKjLGs",
   "metadata": {
    "id": "fpOVWuFKjLGs"
   },
   "outputs": [],
   "source": [
    "print(?) # print a range of three elements reshaped into a column vector"
   ]
  },
  {
   "cell_type": "markdown",
   "id": "39c353ba",
   "metadata": {
    "id": "39c353ba"
   },
   "source": [
    "---\n",
    "\n",
    "### Creating tensors: all-ones, all-zeros, random tensors"
   ]
  },
  {
   "cell_type": "code",
   "execution_count": null,
   "id": "c646f6b7",
   "metadata": {
    "id": "c646f6b7"
   },
   "outputs": [],
   "source": [
    "x = ? # create a tensor of ones with shape 2x1\n",
    "x"
   ]
  },
  {
   "cell_type": "code",
   "execution_count": null,
   "id": "7882f1bc",
   "metadata": {
    "id": "7882f1bc"
   },
   "outputs": [],
   "source": [
    "y = ? # the same with zeros\n",
    "y"
   ]
  },
  {
   "cell_type": "code",
   "execution_count": null,
   "id": "065e97dd",
   "metadata": {
    "id": "065e97dd"
   },
   "outputs": [],
   "source": [
    "z = ? # create a diagonal matrix of size 2 \n",
    "z"
   ]
  },
  {
   "cell_type": "code",
   "execution_count": null,
   "id": "de3pHGNzjjjs",
   "metadata": {
    "id": "de3pHGNzjjjs"
   },
   "outputs": [],
   "source": [
    "z = ? # create a diagonal matrix of size 2 with three columns\n",
    "z"
   ]
  },
  {
   "cell_type": "code",
   "execution_count": null,
   "id": "5448f0d5",
   "metadata": {
    "id": "5448f0d5"
   },
   "outputs": [],
   "source": [
    "x = ? # create a random tensor of shape 3x1, normal distribution with \n",
    "      # mean of zero and standard deviation of 1. (← float) \n",
    "x"
   ]
  },
  {
   "cell_type": "code",
   "execution_count": null,
   "id": "98b345cc",
   "metadata": {
    "id": "98b345cc"
   },
   "outputs": [],
   "source": [
    "x =  ? # create a random tensor of shape 3x1, uniform distribution\n",
    "       # with values ranging from 0. to 1.\n",
    "x"
   ]
  },
  {
   "cell_type": "markdown",
   "id": "c53fe8fd",
   "metadata": {
    "id": "c53fe8fd"
   },
   "source": [
    "For random ints, just use `tf.random.uniform` and specify the dtype."
   ]
  },
  {
   "cell_type": "code",
   "execution_count": null,
   "id": "ac825d10",
   "metadata": {
    "id": "ac825d10"
   },
   "outputs": [],
   "source": [
    "x = ? # create a tensor of random integers, uniform distribution\n",
    "      # with values ranging from 1 to 15\n",
    "x"
   ]
  },
  {
   "cell_type": "markdown",
   "id": "05596bb4-b6d0-4f76-bd61-d3b5e321d314",
   "metadata": {
    "id": "05596bb4-b6d0-4f76-bd61-d3b5e321d314"
   },
   "source": [
    "---\n",
    "\n",
    "### Reshaping"
   ]
  },
  {
   "cell_type": "code",
   "execution_count": null,
   "id": "1b2337c0-21b7-430e-973f-48b445ce6664",
   "metadata": {
    "id": "1b2337c0-21b7-430e-973f-48b445ce6664",
    "tags": []
   },
   "outputs": [],
   "source": [
    "x = ? # create a range of numbers and reshape it in four different ways\n",
    "print(?)\n",
    "print()\n",
    "print(?)\n",
    "print()\n",
    "print(?)\n",
    "print()\n",
    "print(?)"
   ]
  },
  {
   "cell_type": "markdown",
   "id": "1787d134-17a1-4a7f-b440-c5de5a0449f7",
   "metadata": {
    "id": "1787d134-17a1-4a7f-b440-c5de5a0449f7"
   },
   "source": [
    "---\n",
    "\n",
    "### Slicing"
   ]
  },
  {
   "cell_type": "code",
   "execution_count": null,
   "id": "036344d5-d4ab-477f-967d-41123870eecf",
   "metadata": {
    "id": "036344d5-d4ab-477f-967d-41123870eecf"
   },
   "outputs": [],
   "source": [
    "x = ? # create a tensor of shape 2x3x4 by creating a range of the appropriate\n",
    "x     # length and reshaping it"
   ]
  },
  {
   "cell_type": "code",
   "execution_count": null,
   "id": "ea2adcaa-b4be-467f-86d3-95fab90b5de4",
   "metadata": {
    "id": "ea2adcaa-b4be-467f-86d3-95fab90b5de4"
   },
   "outputs": [],
   "source": [
    "print(x)\n",
    "x[?]     # first dim, second element"
   ]
  },
  {
   "cell_type": "code",
   "execution_count": null,
   "id": "79719090-9d4b-4c9d-ae39-0267026387f0",
   "metadata": {
    "id": "79719090-9d4b-4c9d-ae39-0267026387f0"
   },
   "outputs": [],
   "source": [
    "print(x)\n",
    "x[?] # first dim, second element\n",
    "     # second dim, first element"
   ]
  },
  {
   "cell_type": "code",
   "execution_count": null,
   "id": "fad88d93-01bc-4e9b-b07b-67318b8eba28",
   "metadata": {
    "id": "fad88d93-01bc-4e9b-b07b-67318b8eba28"
   },
   "outputs": [],
   "source": [
    "print(x)\n",
    "x[?] # first dim, second element\n",
    "     # second dim, first element\n",
    "     # third dim, third element"
   ]
  },
  {
   "cell_type": "code",
   "execution_count": null,
   "id": "ea205fca",
   "metadata": {
    "id": "ea205fca"
   },
   "outputs": [],
   "source": [
    "print(x)\n",
    "x[?] # first dim, second element\n",
    "     # second dim, first element\n",
    "     # third dim, from second to the third element"
   ]
  },
  {
   "cell_type": "code",
   "execution_count": null,
   "id": "88e8c456-25ac-4568-989f-c6240e3dfd58",
   "metadata": {
    "id": "88e8c456-25ac-4568-989f-c6240e3dfd58"
   },
   "outputs": [],
   "source": [
    "print(x)\n",
    "x[?] # first dim, second element\n",
    "     # second dim, first *column*"
   ]
  },
  {
   "cell_type": "code",
   "execution_count": null,
   "id": "3dfc08d1-a428-45e6-ae4c-f0338c20025f",
   "metadata": {
    "id": "3dfc08d1-a428-45e6-ae4c-f0338c20025f"
   },
   "outputs": [],
   "source": [
    "selection = ? # use an array to select the first number in our matrix\n",
    "x?"
   ]
  },
  {
   "cell_type": "markdown",
   "id": "a72a6dab",
   "metadata": {
    "id": "a72a6dab"
   },
   "source": [
    "---\n",
    "\n",
    "**Broadcasting**\n",
    "\n",
    "Can you remember the three steps of broadcasting shown in Sasha Rush's tweet?"
   ]
  },
  {
   "cell_type": "code",
   "execution_count": null,
   "id": "364cccec",
   "metadata": {
    "id": "364cccec"
   },
   "outputs": [],
   "source": [
    "x = ? # create a column vector of ones of shape 2,1\n",
    "x"
   ]
  },
  {
   "cell_type": "code",
   "execution_count": null,
   "id": "1265bf6c-451a-4d9e-a9b9-4dd48d66b9b3",
   "metadata": {
    "id": "1265bf6c-451a-4d9e-a9b9-4dd48d66b9b3"
   },
   "outputs": [],
   "source": [
    "y = ? # create a vector y being the result of the addition\n",
    "      # of x and another tensor of one number (2)\n",
    "y"
   ]
  },
  {
   "cell_type": "code",
   "execution_count": null,
   "id": "08fed02b-32ff-4329-a44e-84d802d38831",
   "metadata": {
    "id": "08fed02b-32ff-4329-a44e-84d802d38831"
   },
   "outputs": [],
   "source": [
    "x ? # the same with just an integer"
   ]
  },
  {
   "cell_type": "code",
   "execution_count": null,
   "id": "d04987d5-51af-45b3-8771-2e885e6df9d6",
   "metadata": {
    "id": "d04987d5-51af-45b3-8771-2e885e6df9d6"
   },
   "outputs": [],
   "source": [
    "z = ? # create a 2x2 matrix of ones, multiplied by two\n",
    "z"
   ]
  },
  {
   "cell_type": "code",
   "execution_count": null,
   "id": "a94ecd37-a95a-4e47-9a66-c53f5af3f45e",
   "metadata": {
    "id": "a94ecd37-a95a-4e47-9a66-c53f5af3f45e"
   },
   "outputs": [],
   "source": [
    "print(y)\n",
    "print(z)\n",
    "? # add z and y"
   ]
  },
  {
   "cell_type": "code",
   "execution_count": null,
   "id": "dec6e01c",
   "metadata": {
    "id": "dec6e01c"
   },
   "outputs": [],
   "source": [
    "? # add x and the transpose of y"
   ]
  },
  {
   "cell_type": "markdown",
   "id": "1a896597-39a6-4450-9d9f-9616788fb97c",
   "metadata": {
    "id": "1a896597-39a6-4450-9d9f-9616788fb97c"
   },
   "source": [
    "---\n",
    "\n",
    "### Reminder, NumPy arrays are assignable (like lists in Python)"
   ]
  },
  {
   "cell_type": "code",
   "execution_count": null,
   "id": "fe0bc1e2-76a6-4578-8e6b-426b3802c15d",
   "metadata": {
    "id": "fe0bc1e2-76a6-4578-8e6b-426b3802c15d"
   },
   "outputs": [],
   "source": [
    "x = ? # create a numpy array and assign a different value to one element"
   ]
  },
  {
   "cell_type": "markdown",
   "id": "4b80459e-723b-4644-9286-aa4d8f97c901",
   "metadata": {
    "id": "4b80459e-723b-4644-9286-aa4d8f97c901"
   },
   "source": [
    "### But TensorFlow variables resist usual assignment!"
   ]
  },
  {
   "cell_type": "code",
   "execution_count": null,
   "id": "f2810d49-cc6c-47ce-8cce-69761875deac",
   "metadata": {
    "id": "f2810d49-cc6c-47ce-8cce-69761875deac"
   },
   "outputs": [],
   "source": [
    "v = # create a tensorflow variable with an initial value being a\n",
    "    # tensor of zeros of shape 2x2, and raise an error trying to \n",
    "    # assign different value to one element\n",
    "    # (bonus: catch the error and print it)"
   ]
  },
  {
   "cell_type": "markdown",
   "id": "781b03fd-6d27-455a-8dba-831e4d5427a1",
   "metadata": {
    "id": "781b03fd-6d27-455a-8dba-831e4d5427a1"
   },
   "source": [
    "### Assigning a value to a TensorFlow variable"
   ]
  },
  {
   "cell_type": "code",
   "execution_count": null,
   "id": "46dc6b17-3faf-4d11-9a9d-243f3b1c1dbf",
   "metadata": {
    "id": "46dc6b17-3faf-4d11-9a9d-243f3b1c1dbf"
   },
   "outputs": [],
   "source": [
    "print(v) # use the tensorflow assign method to assign to v\n",
    "?        # a tensor of ones\n",
    "print()\n",
    "print(v)"
   ]
  },
  {
   "cell_type": "markdown",
   "id": "5b9e773a-cb01-4159-9815-c3fc93522285",
   "metadata": {
    "id": "5b9e773a-cb01-4159-9815-c3fc93522285"
   },
   "source": [
    "### Assigning a value to a subset of a TensorFlow variable"
   ]
  },
  {
   "cell_type": "code",
   "execution_count": null,
   "id": "72747ce2-60bb-4a67-b015-752aeaf2db2c",
   "metadata": {
    "id": "72747ce2-60bb-4a67-b015-752aeaf2db2c"
   },
   "outputs": [],
   "source": [
    "print(v)  # use the tensorflow assign method to assign to v\n",
    "?         # an integer in the first element of the first row\n",
    "print()\n",
    "print(v)"
   ]
  },
  {
   "cell_type": "markdown",
   "id": "c1391a27-dd3e-4c5b-baa8-c363800ae113",
   "metadata": {
    "id": "c1391a27-dd3e-4c5b-baa8-c363800ae113"
   },
   "source": [
    "### Using `assign_add`"
   ]
  },
  {
   "cell_type": "code",
   "execution_count": null,
   "id": "e5955882-61aa-4b54-96d0-5a89659cb689",
   "metadata": {
    "id": "e5955882-61aa-4b54-96d0-5a89659cb689"
   },
   "outputs": [],
   "source": [
    "print(v) # use the tensorflow assign method to add to v\n",
    "?        # a 2x2 matrix of ones\n",
    "print()\n",
    "print(v)"
   ]
  },
  {
   "cell_type": "code",
   "execution_count": null,
   "id": "3f0297af-d4e5-4a9d-bcc0-25c5689076cf",
   "metadata": {
    "id": "3f0297af-d4e5-4a9d-bcc0-25c5689076cf"
   },
   "outputs": [],
   "source": [
    "print(v) # use the tensorflow assign method to subtract from v\n",
    "?        # a 2x2 matrix of ones\n",
    "print()\n",
    "print(v)"
   ]
  },
  {
   "attachments": {},
   "cell_type": "markdown",
   "id": "5a5672f5-6116-4f09-8fd2-4f31cef269ef",
   "metadata": {
    "id": "82371176-f377-4afe-a17b-6b2c37793d34"
   },
   "source": [
    "---\n",
    "\n",
    "### 3.5.2. Tensor operations: Doing math in TensorFlow\n",
    "\n",
    "### Important!\n",
    "\n",
    "**Element-wise**: apply the operation to each element! \n",
    "\n",
    "If you apply an element-wise op to two tensors of different dimensions, tf will try to **broadcast** the values.\n",
    "\n",
    "What is **not** element-wise? The dot product / matrix multiplication / tensor multiplication."
   ]
  },
  {
   "cell_type": "code",
   "execution_count": null,
   "id": "a96bacee",
   "metadata": {
    "id": "a96bacee",
    "scrolled": true
   },
   "outputs": [],
   "source": [
    "a = ? # create a as a 2x2 matrix of ones\n",
    "print(a)\n",
    "? # multiply a by 2\n",
    "print()\n",
    "print(a)"
   ]
  },
  {
   "cell_type": "code",
   "execution_count": null,
   "id": "d5ec3a14",
   "metadata": {
    "id": "d5ec3a14"
   },
   "outputs": [],
   "source": [
    "b = ? # use tensorflow to square a\n",
    "b"
   ]
  },
  {
   "cell_type": "code",
   "execution_count": null,
   "id": "eeb96ef2",
   "metadata": {
    "id": "eeb96ef2"
   },
   "outputs": [],
   "source": [
    "c = ? # use tensorflow to take the square root of b\n",
    "c"
   ]
  },
  {
   "cell_type": "code",
   "execution_count": null,
   "id": "96c904f1",
   "metadata": {
    "id": "96c904f1"
   },
   "outputs": [],
   "source": [
    "d = ? # add b and c\n",
    "d"
   ]
  },
  {
   "cell_type": "code",
   "execution_count": null,
   "id": "35e1485a",
   "metadata": {
    "id": "35e1485a"
   },
   "outputs": [],
   "source": [
    "e = ? # use the Python shorthand to matrix multiply a and b\n",
    "e         "
   ]
  },
  {
   "cell_type": "code",
   "execution_count": null,
   "id": "f9e0ab0e-78f6-4180-8082-222ca0a8577a",
   "metadata": {
    "id": "f9e0ab0e-78f6-4180-8082-222ca0a8577a"
   },
   "outputs": [],
   "source": [
    "e = ? # multiply by d\n",
    "e"
   ]
  },
  {
   "cell_type": "markdown",
   "id": "18dfa78c-3645-4625-bbe6-7adc0bb904f7",
   "metadata": {
    "id": "18dfa78c-3645-4625-bbe6-7adc0bb904f7"
   },
   "source": [
    "---\n",
    "\n",
    "### Finally, `reduce` operations"
   ]
  },
  {
   "cell_type": "code",
   "execution_count": null,
   "id": "e6265a40-718a-49ea-aba8-14909d33c08f",
   "metadata": {
    "id": "e6265a40-718a-49ea-aba8-14909d33c08f"
   },
   "outputs": [],
   "source": [
    "x = ?    # create a 3x2 tensor of uniformly random integers ranging from 1 to 15\n",
    "print(x)\n",
    "print()  # use the TF equivalent to the min method in NumPy to print the minimum\n",
    "print(?) # value of the whole tensor\n",
    "print()\n",
    "print(?) # of the columns\n",
    "print()\n",
    "print(?) # of the rows\n",
    "\n",
    "         # repeat this process for the max, the mean and the sum"
   ]
  },
  {
   "attachments": {},
   "cell_type": "markdown",
   "id": "a217ef27-88ce-4b73-b22c-e31deb631477",
   "metadata": {
    "id": "f31d6830"
   },
   "source": [
    "## Recap\n",
    "\n",
    "- Constants/Variables, shape, type\n",
    "- Reshaping\n",
    "- Slicing\n",
    "- Tensor creation (zeros, ones, random)\n",
    "- Broadcasting\n",
    "- Maths & other ops"
   ]
  },
  {
   "cell_type": "markdown",
   "id": "18d63758",
   "metadata": {
    "id": "18d63758"
   },
   "source": [
    "---\n",
    "\n",
    "## Note: Matmul with more dimensions"
   ]
  },
  {
   "cell_type": "code",
   "execution_count": null,
   "id": "72c85b25",
   "metadata": {
    "id": "72c85b25"
   },
   "outputs": [],
   "source": [
    "x = ?    # create a rank 3 tensor of uniformly random integers ranging from 1 to 5\n",
    "print(x)\n",
    "print()\n",
    "\n",
    "y = ?    # create another rank 3 tensor of a different shape from x, that is both\n",
    "print(y) # compatible with x in terms of matrix multiplication and broadcasting\n",
    "print()"
   ]
  },
  {
   "cell_type": "code",
   "execution_count": null,
   "id": "71ee0e2f",
   "metadata": {
    "id": "71ee0e2f"
   },
   "outputs": [],
   "source": [
    "? # what is the shape of the matrix multiplication of x and y?"
   ]
  },
  {
   "cell_type": "code",
   "execution_count": null,
   "id": "f974775c",
   "metadata": {
    "id": "f974775c"
   },
   "outputs": [],
   "source": [
    "? # matrix multiply two slices of x and y to show that you can reproduce \n",
    "  # one of the matrices present in the last dimensions of the full matmul of x and y"
   ]
  },
  {
   "cell_type": "markdown",
   "id": "3845d083",
   "metadata": {
    "id": "3845d083"
   },
   "source": [
    "---\n",
    "\n",
    "What should you remember about `np.dot` in higher dimensions?"
   ]
  }
 ],
 "metadata": {
  "accelerator": "GPU",
  "celltoolbar": "Slideshow",
  "colab": {
   "collapsed_sections": [],
   "provenance": []
  },
  "kernelspec": {
   "display_name": "Python 3 (ipykernel)",
   "language": "python",
   "name": "python3"
  },
  "language_info": {
   "codemirror_mode": {
    "name": "ipython",
    "version": 3
   },
   "file_extension": ".py",
   "mimetype": "text/x-python",
   "name": "python",
   "nbconvert_exporter": "python",
   "pygments_lexer": "ipython3",
   "version": "3.12.6"
  }
 },
 "nbformat": 4,
 "nbformat_minor": 5
}
