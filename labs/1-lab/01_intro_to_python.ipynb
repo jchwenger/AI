{
 "cells": [
  {
   "cell_type": "markdown",
   "metadata": {},
   "source": [
    "---\n",
    "\n",
    "# Python Foundations"
   ]
  },
  {
   "cell_type": "markdown",
   "metadata": {},
   "source": [
    "This will cover some of the main features of the Python programming language. For more resources, see the end of this notebook.\n",
    "\n",
    "Similarly to Javascript Python in an **interpreted language** (rather than a compiled one).\n",
    "\n",
    "This is what allows Jupyter Notebooks in the first place: an *interactive console* giving you instant results!"
   ]
  },
  {
   "cell_type": "markdown",
   "metadata": {},
   "source": [
    "## Variables & Arithmetic"
   ]
  },
  {
   "cell_type": "code",
   "execution_count": null,
   "metadata": {},
   "outputs": [],
   "source": [
    "a = 10\n",
    "b = 5\n",
    "print(a + b) # same as console.log() in JS"
   ]
  },
  {
   "cell_type": "markdown",
   "metadata": {},
   "source": [
    "## Comments"
   ]
  },
  {
   "cell_type": "code",
   "execution_count": null,
   "metadata": {},
   "outputs": [],
   "source": [
    "# This is a common Python comment\n",
    "d = 20 # It can be put on the same line"
   ]
  },
  {
   "cell_type": "markdown",
   "metadata": {},
   "source": [
    "## Operator & Comparisons\n",
    "\n",
    "```python\n",
    "+ -\n",
    "* /\n",
    "// % # integer division, modulo\n",
    "**   # power\n",
    "```\n",
    "\n",
    "```python\n",
    "> <\n",
    ">= <=\n",
    "== !=\n",
    "```"
   ]
  },
  {
   "cell_type": "markdown",
   "metadata": {
    "tags": []
   },
   "source": [
    "## Strings\n",
    "\n"
   ]
  },
  {
   "cell_type": "code",
   "execution_count": null,
   "metadata": {},
   "outputs": [],
   "source": [
    "text = \"hello\"        # 'hello' (single quotes) also works\n",
    "print(text, \"world\")"
   ]
  },
  {
   "cell_type": "code",
   "execution_count": null,
   "metadata": {},
   "outputs": [],
   "source": [
    "multiline_text = \"\"\"This string\n",
    "will contain\n",
    "newlines\"\"\"\n",
    "print(multiline_text)"
   ]
  },
  {
   "cell_type": "code",
   "execution_count": null,
   "metadata": {},
   "outputs": [],
   "source": [
    "len(\"hello\") # number of characters: 'length'"
   ]
  },
  {
   "cell_type": "markdown",
   "metadata": {},
   "source": [
    "`len()` is a built-in function, more [here](https://docs.python.org/3/library/functions.html)."
   ]
  },
  {
   "cell_type": "markdown",
   "metadata": {},
   "source": [
    "### Operations on strings"
   ]
  },
  {
   "cell_type": "code",
   "execution_count": null,
   "metadata": {},
   "outputs": [],
   "source": [
    "s = 'An entire sentence'\n",
    "              # indexing: [start:end] (start included, end excluded)\n",
    "print(s[:10]) # up until but excluding the 11th character\n",
    "print(s[-8:]) # from the 8th character from the end until the end"
   ]
  },
  {
   "cell_type": "code",
   "execution_count": null,
   "metadata": {},
   "outputs": [],
   "source": [
    "s = \"ababababababa\"\n",
    "print(s[::2]) # all the string, but only one every two char\n",
    "print(s[1::2])\n",
    "s = \"abcabcabcabcabcabcabc\"\n",
    "print(s[::3]) # every three char"
   ]
  },
  {
   "cell_type": "code",
   "execution_count": null,
   "metadata": {},
   "outputs": [],
   "source": [
    "s = \"12345\"\n",
    "print(s[::-1]) # reverse the order with -1"
   ]
  },
  {
   "cell_type": "code",
   "execution_count": null,
   "metadata": {},
   "outputs": [],
   "source": [
    "\"Hello\" + \" ,world!\" # addition"
   ]
  },
  {
   "cell_type": "code",
   "execution_count": null,
   "metadata": {},
   "outputs": [],
   "source": [
    "message = \"hello world\"\n",
    "print(message)\n",
    "print(\"-\" * len(message)) # multiplication!"
   ]
  },
  {
   "cell_type": "markdown",
   "metadata": {},
   "source": [
    "### String formatting"
   ]
  },
  {
   "cell_type": "code",
   "execution_count": null,
   "metadata": {},
   "outputs": [],
   "source": [
    "w = 4\n",
    "print(\"2 + 2 = \" + str(w)) # you need casting here\n",
    "print(\"2 + 2 = {}\".format(w))\n",
    "print(\"2 + 2 = %d\" % w)\n",
    "print(f\"2 + 2 = {w}\")"
   ]
  },
  {
   "cell_type": "markdown",
   "metadata": {},
   "source": [
    "For more, see [here (format)](https://www.w3schools.com/python/ref_string_format.asp), [here (%)](https://www.learnpython.org/en/String_Formatting) and the more recent, and recommended [f-string syntax](https://realpython.com/python-f-strings/)."
   ]
  },
  {
   "cell_type": "markdown",
   "metadata": {},
   "source": [
    "## Lists\n",
    "\n",
    "See more on [w3schools](https://www.w3schools.com/python/python_lists.asp), [here](https://www.learnbyexample.org/python-list-slicing/) and the [Python reference](https://docs.python.org/3/tutorial/datastructures.html#more-on-lists)."
   ]
  },
  {
   "cell_type": "code",
   "execution_count": null,
   "metadata": {},
   "outputs": [],
   "source": [
    "my_list = [0, 1, 4, 6, 10]\n",
    "print(my_list)\n",
    "print(my_list[2]) # same indexing as before\n",
    "my_list[2] = 1000 # lists are mutable!\n",
    "print(my_list)"
   ]
  },
  {
   "cell_type": "code",
   "execution_count": null,
   "metadata": {},
   "outputs": [],
   "source": [
    "print(my_list[-1]) # the last element\n",
    "print(my_list[1:3]) # a 'slice' from the second to the third element"
   ]
  },
  {
   "cell_type": "code",
   "execution_count": null,
   "metadata": {},
   "outputs": [],
   "source": [
    "my_list = []\n",
    "my_list.append(\"Hello\")\n",
    "my_list.append(\", \")\n",
    "my_list.append(\"World\")\n",
    "print(my_list)"
   ]
  },
  {
   "cell_type": "code",
   "execution_count": null,
   "metadata": {},
   "outputs": [],
   "source": [
    "print(len(my_list)) # like with strings"
   ]
  },
  {
   "cell_type": "code",
   "execution_count": null,
   "metadata": {},
   "outputs": [],
   "source": [
    "p = my_list.pop()\n",
    "print(my_list)\n",
    "print(p)"
   ]
  },
  {
   "cell_type": "code",
   "execution_count": null,
   "metadata": {},
   "outputs": [],
   "source": [
    "pp = my_list.pop(0) # or another index\n",
    "print(pp)\n",
    "print(my_list)\n",
    "print(p)"
   ]
  },
  {
   "cell_type": "markdown",
   "metadata": {},
   "source": [
    "## Identation and scope\n",
    "\n",
    "**Python uses indentation to define scope!**\n",
    "\n",
    "In JS, C++, and other languages, the curly braces `{}` are used instead."
   ]
  },
  {
   "cell_type": "code",
   "execution_count": null,
   "metadata": {},
   "outputs": [],
   "source": [
    "if False:\n",
    "    # everything with one indent is within the scope of the if statement\n",
    "    print(\"Inside the scope, I don't execute\")\n",
    "print(\"Outside the scope, I execute\")"
   ]
  },
  {
   "cell_type": "markdown",
   "metadata": {},
   "source": [
    "## Functions"
   ]
  },
  {
   "cell_type": "code",
   "execution_count": null,
   "metadata": {},
   "outputs": [],
   "source": [
    "def my_function(x): # snake_case is the standard\n",
    "    return x**2     # scope: indent defines the body\n",
    "\n",
    "my_function(2)      # scope: less indent == outside scope"
   ]
  },
  {
   "cell_type": "code",
   "execution_count": null,
   "metadata": {},
   "outputs": [],
   "source": [
    "def my_other_function(x=2): # default argument\n",
    "    return x**2\n",
    "\n",
    "my_other_function()"
   ]
  },
  {
   "cell_type": "markdown",
   "metadata": {},
   "source": [
    "## Control Flow & Boolean logic"
   ]
  },
  {
   "cell_type": "code",
   "execution_count": null,
   "metadata": {},
   "outputs": [],
   "source": [
    "a = False # note: capital letter\n",
    "b = True\n",
    "\n",
    "if a and b:                     # note: the order matters! If the first logical\n",
    "    print(\"both true\")          #       test fails, the rest is not evaluated\n",
    "elif a or b:                    # note: elif instead of else if\n",
    "    print(\"either one is true\")\n",
    "else:\n",
    "    print(\"both false\")"
   ]
  },
  {
   "cell_type": "code",
   "execution_count": null,
   "metadata": {},
   "outputs": [],
   "source": [
    "print(\"b before:\", b)\n",
    "\n",
    "b = not b # flip a boolean\n",
    "\n",
    "print(\"b after:\", b)"
   ]
  },
  {
   "cell_type": "markdown",
   "metadata": {},
   "source": [
    "## Iterables and loops\n",
    "\n",
    "See [The `range()` function](https://docs.python.org/3/tutorial/controlflow.html#the-range-function), [Looping techniques](https://docs.python.org/3/tutorial/datastructures.html#looping-techniques)."
   ]
  },
  {
   "cell_type": "code",
   "execution_count": null,
   "metadata": {},
   "outputs": [],
   "source": [
    "for i in range(10): # this is how you do `for (let i = 0; i < 10; i++)`...\n",
    "    print(i)"
   ]
  },
  {
   "cell_type": "code",
   "execution_count": null,
   "metadata": {},
   "outputs": [],
   "source": [
    "for i in range(1,10): # you can specify a starting point\n",
    "    print(i)"
   ]
  },
  {
   "cell_type": "code",
   "execution_count": null,
   "metadata": {},
   "outputs": [],
   "source": [
    "for i in range(1,10,2): # and a step\n",
    "    print(i)"
   ]
  },
  {
   "cell_type": "code",
   "execution_count": null,
   "metadata": {},
   "outputs": [],
   "source": [
    "for i in range(10,1,-1): # -1 step to reverse\n",
    "    print(i)"
   ]
  },
  {
   "cell_type": "code",
   "execution_count": null,
   "metadata": {},
   "outputs": [],
   "source": [
    "list(range(10)) # since range is a special object, convert it to a list before printing"
   ]
  },
  {
   "cell_type": "markdown",
   "metadata": {},
   "source": [
    "Find more about range [here](https://www.w3schools.com/python/ref_func_range.asp) is a function that returns an object that can be iterated. Note: range is actually a [generator](https://www.programiz.com/python-programming/generator)."
   ]
  },
  {
   "cell_type": "code",
   "execution_count": null,
   "metadata": {},
   "outputs": [],
   "source": [
    "my_list = [1,2,3,4]\n",
    "for s in my_list:\n",
    "    print(s)"
   ]
  },
  {
   "cell_type": "code",
   "execution_count": null,
   "metadata": {},
   "outputs": [],
   "source": [
    "for c in \"hello world\":\n",
    "    print(c)"
   ]
  },
  {
   "cell_type": "markdown",
   "metadata": {},
   "source": [
    "But when we need a counter? Use [`enumerate`](https://docs.python.org/3/library/functions.html#enumerate) (also [here](https://realpython.com/python-enumerate/))."
   ]
  },
  {
   "cell_type": "code",
   "execution_count": null,
   "metadata": {},
   "outputs": [],
   "source": [
    "my_list = [1,2,3,4]\n",
    "for i, s in enumerate(my_list):\n",
    "    print(i, s)"
   ]
  },
  {
   "cell_type": "markdown",
   "metadata": {},
   "source": [
    "### while, break, continue, pass"
   ]
  },
  {
   "cell_type": "code",
   "execution_count": null,
   "metadata": {},
   "outputs": [],
   "source": [
    "a, b = 5, 0\n",
    "\n",
    "while b < a:\n",
    "    print(b)\n",
    "    b += 1"
   ]
  },
  {
   "cell_type": "code",
   "execution_count": null,
   "metadata": {},
   "outputs": [],
   "source": [
    "a, b = 5, 0\n",
    "\n",
    "while b < a:\n",
    "    if b == 2:\n",
    "        break  # break the loop\n",
    "    print(b)\n",
    "    b += 1"
   ]
  },
  {
   "cell_type": "code",
   "execution_count": null,
   "metadata": {},
   "outputs": [],
   "source": [
    "a, b = 5, 0\n",
    "\n",
    "while b < a:\n",
    "    print(b)\n",
    "    if b == 2:\n",
    "        b += 2\n",
    "        continue  # skip the rest of loop, go to next iteration\n",
    "    b += 1"
   ]
  },
  {
   "cell_type": "markdown",
   "metadata": {},
   "source": [
    "### List comprehensions\n",
    "\n",
    "A Python quirk! It allows you to define loops as one-liners.\n",
    "\n"
   ]
  },
  {
   "cell_type": "code",
   "execution_count": null,
   "metadata": {},
   "outputs": [],
   "source": [
    "my_list = [\"what\", \"a\", \"wonderful\", \"world\", \"\"]\n",
    "lengths = [len(s) for s in my_list]\n",
    "\n",
    "# # the above is equivalent to:\n",
    "# lengths = []\n",
    "# for s in my_list:\n",
    "#     lengths.append(s)\n",
    "\n",
    "print(lengths)"
   ]
  },
  {
   "cell_type": "code",
   "execution_count": null,
   "metadata": {},
   "outputs": [],
   "source": [
    "print(my_list)\n",
    "\n",
    "filtered_list = [s for s in my_list if len(s) > 0] # add a condition, here no empty words\n",
    "\n",
    "# # the above is equivalent to:\n",
    "# filtered_list = []\n",
    "# for s in my_list:\n",
    "#     if len(s) > 0:\n",
    "#         filtered_list.append(s)\n",
    "\n",
    "print(filtered_list)"
   ]
  },
  {
   "cell_type": "code",
   "execution_count": null,
   "metadata": {},
   "outputs": [],
   "source": [
    "my_matrix = [[\"what\", \"a\"],[\"wonderful\", \"world\"]]\n",
    "flattened = [word for line in my_matrix for word in line] # double loop, to flatten the matrix\n",
    "#                 ↑ outer loop          ↑ inner loop      # written *as you would normally*\n",
    "\n",
    "# # the above equivalent to:\n",
    "# flattened = []\n",
    "# for line in my_matrix:         # outer loop\n",
    "#     for word in tupl:          # inner loop\n",
    "#         flattened.append(word)\n",
    "\n",
    "print(flattened)"
   ]
  },
  {
   "cell_type": "markdown",
   "metadata": {},
   "source": [
    "## More data structures: dictionaries and sets\n",
    "\n",
    "- **tuples** are *immutable* arrays\n",
    "- **dictionaries** are objects (key/value pairs)\n",
    "- **sets** are sets"
   ]
  },
  {
   "cell_type": "markdown",
   "metadata": {},
   "source": [
    "### Tuples\n",
    "\n"
   ]
  },
  {
   "cell_type": "markdown",
   "metadata": {},
   "source": [
    "The `tuple` object in Python is an iterable object very similar to a `list`, with the main difference that it is **immutable**. We create it with opening and closing round brackets. E.g.\n",
    "\n"
   ]
  },
  {
   "cell_type": "code",
   "execution_count": null,
   "metadata": {},
   "outputs": [],
   "source": [
    "vals = (10, 20, 30)"
   ]
  },
  {
   "cell_type": "code",
   "execution_count": null,
   "metadata": {},
   "outputs": [],
   "source": [
    "try:\n",
    "    vals[0] = 1 # error! Tuples are immutable\n",
    "except Exception as e:\n",
    "    print(e)"
   ]
  },
  {
   "cell_type": "markdown",
   "metadata": {},
   "source": [
    "### Tuples and destructuring\n",
    "\n",
    "You will often see tuples \"hidden\" in Python code, as they can be defined and assigned also without the use of the parenthesis. The [Python reference](https://docs.python.org/3/tutorial/datastructures.html#tuples-and-sequences)."
   ]
  },
  {
   "cell_type": "code",
   "execution_count": null,
   "metadata": {},
   "outputs": [],
   "source": [
    "vals = 10, 20, 30 # same as (10, 20, 30)\n",
    "print(vals)"
   ]
  },
  {
   "cell_type": "code",
   "execution_count": null,
   "metadata": {},
   "outputs": [],
   "source": [
    "a, b, c = 10, 20, 30 # three variables assigned in one line"
   ]
  },
  {
   "cell_type": "code",
   "execution_count": null,
   "metadata": {},
   "outputs": [],
   "source": [
    "a, b = b, a # nice one-line swap"
   ]
  },
  {
   "cell_type": "markdown",
   "metadata": {},
   "source": [
    "Or for example we can iterate more conveniently over a list of tuples\n",
    "\n"
   ]
  },
  {
   "cell_type": "code",
   "execution_count": null,
   "metadata": {},
   "outputs": [],
   "source": [
    "for a, b in [(2, 4), (2, 5)]:\n",
    "    print(f\"{a} + {b} = {a+b}\")"
   ]
  },
  {
   "cell_type": "markdown",
   "metadata": {},
   "source": [
    "### Dictionaries\n",
    "\n",
    "A \"dictionary\" is very similar also in syntax to Javasript objects and it is a collection of key:value pairs. More [here](https://www.w3schools.com/python/python_dictionaries.asp), The [Python reference](https://docs.python.org/3/tutorial/datastructures.html#dictionaries)."
   ]
  },
  {
   "cell_type": "code",
   "execution_count": null,
   "metadata": {},
   "outputs": [],
   "source": [
    "mydict = {\n",
    "    \"name\": \"John\",\n",
    "    \"surname\": \"Doe\",\n",
    "    \"age\": 360\n",
    "}"
   ]
  },
  {
   "cell_type": "code",
   "execution_count": null,
   "metadata": {},
   "outputs": [],
   "source": [
    "mydict['age'] # access value by key"
   ]
  },
  {
   "cell_type": "code",
   "execution_count": null,
   "metadata": {},
   "outputs": [],
   "source": [
    "for key, value in mydict.items():\n",
    "    print(key, value)\n",
    "\n",
    "# also available: .keys(), .values()[here](https://www.learnbyexample.org/python-list-slicing/)"
   ]
  },
  {
   "cell_type": "markdown",
   "metadata": {},
   "source": [
    "### Sets\n",
    "\n",
    "Sets are unordered collections of elements that are **unique**. For more, see  [here](https://www.w3schools.com/python/python_sets.asp). The [Python reference](https://docs.python.org/3/tutorial/datastructures.html#sets)."
   ]
  },
  {
   "cell_type": "code",
   "execution_count": null,
   "metadata": {},
   "outputs": [],
   "source": [
    "l = {1, 2, 2, 2, 3, 5} # duplicates are removed\n",
    "# l = set([1, 2, 2, 2, 3, 5]) # same as above\n",
    "print(l)\n",
    "\n",
    "s = \"the quick fox jumped over the lazy dog\"\n",
    "print(set(s)) # all characters present in s"
   ]
  },
  {
   "cell_type": "code",
   "execution_count": null,
   "metadata": {},
   "outputs": [],
   "source": [
    "basket = {'apple', 'orange', 'apple', 'pear', 'orange', 'banana'}\n",
    "print(basket)                      # show that duplicates have been removed"
   ]
  },
  {
   "cell_type": "code",
   "execution_count": null,
   "metadata": {},
   "outputs": [],
   "source": [
    "'orange' in basket                 # fast membership testing"
   ]
  },
  {
   "cell_type": "code",
   "execution_count": null,
   "metadata": {},
   "outputs": [],
   "source": [
    "'crabgrass' in basket"
   ]
  },
  {
   "cell_type": "code",
   "execution_count": null,
   "metadata": {},
   "outputs": [],
   "source": [
    "# Demonstrate set operations on unique letters from two words\n",
    "a = set('abracadabra')\n",
    "b = set('alacazam')\n",
    "a                                  # unique letters in a"
   ]
  },
  {
   "cell_type": "code",
   "execution_count": null,
   "metadata": {},
   "outputs": [],
   "source": [
    "a - b                              # letters in a but not in b"
   ]
  },
  {
   "cell_type": "code",
   "execution_count": null,
   "metadata": {},
   "outputs": [],
   "source": [
    "a | b                              # letters in a or b or both"
   ]
  },
  {
   "cell_type": "code",
   "execution_count": null,
   "metadata": {},
   "outputs": [],
   "source": [
    "a & b                              # letters in both a and b"
   ]
  },
  {
   "cell_type": "code",
   "execution_count": null,
   "metadata": {},
   "outputs": [],
   "source": [
    "a ^ b                              # letters in a or b but not both"
   ]
  },
  {
   "cell_type": "markdown",
   "metadata": {
    "tags": []
   },
   "source": [
    "### A note on assignments and references in Python\n",
    "\n",
    "Assignment does not always create deep copies (only pointers)!"
   ]
  },
  {
   "cell_type": "code",
   "execution_count": null,
   "metadata": {},
   "outputs": [],
   "source": [
    "a = [0, 2, 3]\n",
    "b = a         # b is a new pointer to the same data as a\n",
    "print(b)\n",
    "a[2] = 100\n",
    "print(b)      # b has changed as well (same underlying memory)!"
   ]
  },
  {
   "cell_type": "markdown",
   "metadata": {},
   "source": [
    "Assignments creates copies:\n",
    "- lists: no\n",
    "- dictionaries: no\n",
    "- sets: no\n",
    "- tuple: yes\n",
    "- string: yes"
   ]
  },
  {
   "cell_type": "code",
   "execution_count": null,
   "metadata": {},
   "outputs": [],
   "source": [
    "x = [\"apple\", \"banana\", \"cherry\"]\n",
    "y = x\n",
    "print(\"Are x and y the same object?\", x is y) # test object identity with `is`\n",
    "y = [\"apple\", \"banana\", \"cherry\"]\n",
    "print(\"How about now?\", x is y)"
   ]
  },
  {
   "cell_type": "markdown",
   "metadata": {},
   "source": [
    "## Functions"
   ]
  },
  {
   "cell_type": "code",
   "execution_count": null,
   "metadata": {},
   "outputs": [],
   "source": [
    "def add(x, y):\n",
    "    return x + y\n",
    "\n",
    "add(2,2)"
   ]
  },
  {
   "cell_type": "code",
   "execution_count": null,
   "metadata": {},
   "outputs": [],
   "source": [
    "def add(x, y=2): # key-value arguments *must* follow all positional ones\n",
    "    return x + y\n",
    "\n",
    "print(add(3))\n",
    "print(add(3, 3))\n",
    "print(add(x=3, y=3))"
   ]
  },
  {
   "cell_type": "markdown",
   "metadata": {},
   "source": [
    "### Note on unpacking\n",
    "\n",
    "Real Python on [`args` and `kwargs`](https://realpython.com/python-kwargs-and-args/)."
   ]
  },
  {
   "cell_type": "code",
   "execution_count": null,
   "metadata": {},
   "outputs": [],
   "source": [
    "l = [1,2,3]\n",
    "print(l)  # the list as such\n",
    "print(*l) # one star unpacks the iterable (= print(1,2,3))"
   ]
  },
  {
   "cell_type": "code",
   "execution_count": 1,
   "metadata": {},
   "outputs": [
    {
     "name": "stdout",
     "output_type": "stream",
     "text": [
      "The name is Jane Doe, 230 years old.\n"
     ]
    }
   ],
   "source": [
    "kwargs = {\n",
    "    \"name\": \"Jane\",\n",
    "    \"surname\": \"Doe\",\n",
    "    \"age\": 230\n",
    "}\n",
    "\n",
    "def print_info(name, surname, age):\n",
    "    print(f\"The name is {name} {surname}, {age} years old.\")\n",
    "    \n",
    "# two stars unpacks the key-value pairs (= print_info(name=\"Jane\", surname=\"Doe\", age=230)\n",
    "print_info(**kwargs)"
   ]
  },
  {
   "cell_type": "markdown",
   "metadata": {},
   "source": [
    "### Functions are first-class citizens in Python:"
   ]
  },
  {
   "cell_type": "code",
   "execution_count": null,
   "metadata": {},
   "outputs": [],
   "source": [
    "a = add # a function name can be manipulated like any other variable\n",
    "\n",
    "a(2,2)"
   ]
  },
  {
   "cell_type": "code",
   "execution_count": null,
   "metadata": {},
   "outputs": [],
   "source": [
    "def print_before_and_after(func):\n",
    "    print(\"before...\")\n",
    "    func()\n",
    "    print(\"after...\")\n",
    "\n",
    "def hello():\n",
    "    print(\"hello!\")\n",
    "\n",
    "print_before_and_after(hello)"
   ]
  },
  {
   "cell_type": "code",
   "execution_count": null,
   "metadata": {},
   "outputs": [],
   "source": [
    "def print_before_and_after(func):\n",
    "    # construct a new function that calls func\n",
    "    def new_func(*args, **kwargs):\n",
    "        print(\"before...\")\n",
    "        func(*args, **kwargs) # pass all arguments, positional or keyword\n",
    "        print(\"after...\")\n",
    "    # returns the new func\n",
    "    return new_func\n",
    "\n",
    "def say_x(x):\n",
    "    print(x)\n",
    "\n",
    "new_hello = print_before_and_after(say_x)\n",
    "\n",
    "new_hello(\"goodbye!\")"
   ]
  },
  {
   "cell_type": "markdown",
   "metadata": {},
   "source": [
    "That leads to the subtle art of [decorators](https://realpython.com/primer-on-python-decorators/)."
   ]
  },
  {
   "cell_type": "markdown",
   "metadata": {},
   "source": [
    "## Classes\n",
    "\n",
    "Real Python pages [here](https://realpython.com/python-classes/) and [here](https://realpython.com/python3-object-oriented-programming/)."
   ]
  },
  {
   "cell_type": "code",
   "execution_count": null,
   "metadata": {},
   "outputs": [],
   "source": [
    "class Account:\n",
    "    def __init__(self, amount): # needed for all classes\n",
    "        self.amount = amount\n",
    "\n",
    "    def deposit(self, amount): # methods always take 'self' (the instance) as the first arg\n",
    "        self.amount += amount\n",
    "\n",
    "    def withdraw(self, amount):\n",
    "        self.amount -= amount\n",
    "        \n",
    "    def balance(self):\n",
    "        print(self.amount)\n",
    "\n",
    "acc = Account(100)\n",
    "acc.balance()\n",
    "acc.deposit(100)\n",
    "acc.withdraw(50)\n",
    "acc.balance()"
   ]
  },
  {
   "cell_type": "markdown",
   "metadata": {},
   "source": [
    "## Packages and modules\n",
    "\n"
   ]
  },
  {
   "cell_type": "markdown",
   "metadata": {},
   "source": [
    "Apart from being a powerful languages, one of the most attractive features of Python is the availability of a immense variety of \"packages\", extensions that allow to achieve all kinds of functionality. A package is a collection of *modules* that are organized in a directory structure and can be imported into other programs to use their functionality. A module is a single file that contains definitions and statements, and can include functions, classes, and variables.\n",
    "\n",
    "See [this Real Python page](https://realpython.com/python-modules-packages/)."
   ]
  },
  {
   "cell_type": "markdown",
   "metadata": {},
   "source": [
    "### Example of a module import"
   ]
  },
  {
   "cell_type": "markdown",
   "metadata": {},
   "source": [
    "```bash\n",
    "# directory structure\n",
    "python-experiments\n",
    "├── main.py\n",
    "└── my_functions.py\n",
    "```\n",
    "\n",
    "```python\n",
    "# my_functions.py\n",
    "def add(x, y):\n",
    "    return x + y\n",
    "```\n",
    "\n",
    "```python\n",
    "# main.py\n",
    "from my_functions import add\n",
    "print(add(2,3)) # 5\n",
    "```"
   ]
  },
  {
   "cell_type": "markdown",
   "metadata": {},
   "source": [
    "### Built-in modules"
   ]
  },
  {
   "cell_type": "markdown",
   "metadata": {},
   "source": [
    "AKA the Python Standard Library. A lot of functionalities that ship with Python. See the [list here](https://docs.python.org/3/library/index.html#library-index)."
   ]
  },
  {
   "cell_type": "markdown",
   "metadata": {},
   "source": [
    "#### [math](https://docs.python.org/3/library/math.html) (math operations)"
   ]
  },
  {
   "cell_type": "code",
   "execution_count": null,
   "metadata": {},
   "outputs": [],
   "source": [
    "import math  # import the package\n",
    "math.sqrt(2) # use its functionality"
   ]
  },
  {
   "cell_type": "markdown",
   "metadata": {},
   "source": [
    "#### [random](https://docs.python.org/3/library/random.html) (random numbers function)"
   ]
  },
  {
   "cell_type": "code",
   "execution_count": null,
   "metadata": {},
   "outputs": [],
   "source": [
    "import random   # the random package is very useful\n",
    "random.random() # a number between 0 and 1 "
   ]
  },
  {
   "cell_type": "code",
   "execution_count": null,
   "metadata": {},
   "outputs": [],
   "source": [
    "# random.seed(42) # to get predictable results\n",
    "breakfast = [\"cereals\", \"fruits\", \"eggs & bacon\", \"pancakes\"]\n",
    "print(f\"My random breakfast today:\", random.choice(breakfast))"
   ]
  },
  {
   "cell_type": "markdown",
   "metadata": {},
   "source": [
    "#### [os](https://docs.python.org/3/library/os.html#module-os) (operating system commands)"
   ]
  },
  {
   "cell_type": "code",
   "execution_count": null,
   "metadata": {},
   "outputs": [],
   "source": [
    "import os\n",
    "\n",
    "print(os.listdir()) # list contents"
   ]
  },
  {
   "cell_type": "code",
   "execution_count": null,
   "metadata": {},
   "outputs": [],
   "source": [
    "cwd = os.getcwd()\n",
    "print(cwd)\n",
    "os.chdir(\"..\") # move up a directory\n",
    "print(os.getcwd())\n",
    "os.chdir(cwd) # go back to our directory\n",
    "print(os.getcwd())"
   ]
  },
  {
   "cell_type": "code",
   "execution_count": null,
   "metadata": {},
   "outputs": [],
   "source": [
    "text = \"hello\\nworld\"\n",
    "fname = \"text.txt\"\n",
    "\n",
    "# open file to write 'w'\n",
    "with open(fname, \"w\") as o:\n",
    "    o.write(text)\n",
    "\n",
    "# open file to read 'r'\n",
    "with open(\"text.txt\", \"r\") as i:\n",
    "    reloaded_text = i.read() # entire file contents, use .split(\"\\n\") to split on new lines\n",
    "    # reloaded_text = i.readlines() # splits on new lines, returns a list\n",
    "print(reloaded_text)"
   ]
  },
  {
   "cell_type": "markdown",
   "metadata": {},
   "source": [
    "#### [glob](https://docs.python.org/3/library/glob.html#module-glob) (pattern expansions)"
   ]
  },
  {
   "cell_type": "code",
   "execution_count": null,
   "metadata": {},
   "outputs": [],
   "source": [
    "import glob\n",
    "pngs = list(glob.glob('**/*.png', recursive=True))\n",
    "pngs"
   ]
  },
  {
   "cell_type": "markdown",
   "metadata": {},
   "source": [
    "#### [os.path](https://docs.python.org/3/library/os.path.html#module-os.path)"
   ]
  },
  {
   "cell_type": "code",
   "execution_count": null,
   "metadata": {},
   "outputs": [],
   "source": [
    "img_name = pngs[0]\n",
    "\n",
    "os.path.isfile(img_name), os.path.isdir(img_name)"
   ]
  },
  {
   "cell_type": "code",
   "execution_count": null,
   "metadata": {},
   "outputs": [],
   "source": [
    "os.path.abspath(img_name)"
   ]
  },
  {
   "cell_type": "code",
   "execution_count": null,
   "metadata": {},
   "outputs": [],
   "source": [
    "os.path.dirname(img_name) # parent directory"
   ]
  },
  {
   "cell_type": "code",
   "execution_count": null,
   "metadata": {},
   "outputs": [],
   "source": [
    "os.path.splitext(img_name) # separate name and extension"
   ]
  },
  {
   "cell_type": "code",
   "execution_count": null,
   "metadata": {},
   "outputs": [],
   "source": [
    "for (top_dir, dirs, files) in os.walk(\".\"): # to cross all sub directories\n",
    "    print(f\"current dir: {top_dir}\")\n",
    "    print(f\"directories:\")\n",
    "    for d in dirs:\n",
    "        print(f\"   {d}\")\n",
    "    print(f\"files:\")\n",
    "    for f in files:\n",
    "        print(f\"   {f}\")\n",
    "    print(\"---\")"
   ]
  },
  {
   "cell_type": "markdown",
   "metadata": {},
   "source": [
    "#### [shutil](https://docs.python.org/3/library/shutil.html#module-shutil) (more file manipulation)"
   ]
  },
  {
   "cell_type": "markdown",
   "metadata": {},
   "source": [
    "To remove a directory with files: `shutil.rmtree(\"dir\")`."
   ]
  },
  {
   "cell_type": "code",
   "execution_count": null,
   "metadata": {},
   "outputs": [],
   "source": [
    "import shutil\n",
    "\n",
    "new_fname = f\"{os.path.splitext(fname)[0]}.2.txt\"\n",
    "\n",
    "if os.path.isfile(fname):\n",
    "    shutil.copy(fname, new_fname)"
   ]
  },
  {
   "cell_type": "code",
   "execution_count": null,
   "metadata": {},
   "outputs": [],
   "source": [
    "if os.path.isfile(fname):\n",
    "    os.remove(fname)\n",
    "if os.path.isfile(new_fname):    \n",
    "    os.remove(new_fname)"
   ]
  },
  {
   "cell_type": "markdown",
   "metadata": {},
   "source": [
    "#### [pathlib](https://docs.python.org/3/library/pathlib.html#module-pathlib) (modern file system handling)"
   ]
  },
  {
   "cell_type": "code",
   "execution_count": null,
   "metadata": {},
   "outputs": [],
   "source": [
    "import pathlib\n",
    "\n",
    "p = pathlib.Path('.')\n",
    "[x for x in p.iterdir() if x.is_dir()]"
   ]
  },
  {
   "cell_type": "code",
   "execution_count": null,
   "metadata": {},
   "outputs": [],
   "source": [
    "dir_path = pathlib.Path(\"new_directory\")\n",
    "subdir_path = dir_path / \"new_subdirectory\" # automatically combine directories & strings\n",
    "print(subdir_path)"
   ]
  },
  {
   "cell_type": "markdown",
   "metadata": {},
   "source": [
    "To remove an (empty) directory: `pathlib_dir.rmdir()` (when not empty, use `shutil.rmtree()`."
   ]
  },
  {
   "cell_type": "code",
   "execution_count": null,
   "metadata": {},
   "outputs": [],
   "source": [
    "text = \"hello\\nworld\"\n",
    "fname = pathlib.Path(\"text.txt\")\n",
    "\n",
    "print(fname.absolute())\n",
    "print(fname.name)\n",
    "print(fname.stem, fname.suffix)\n",
    "print(fname.parent)"
   ]
  },
  {
   "cell_type": "code",
   "execution_count": null,
   "metadata": {},
   "outputs": [],
   "source": [
    "# open file to write 'w'\n",
    "with fname.open(\"w\") as o:\n",
    "    o.write(text)\n",
    "\n",
    "# open file to read 'r'\n",
    "with fname.open(\"r\") as i:\n",
    "    reloaded_text = i.read() # entire file contents, use .split(\"\\n\") to split on new lines\n",
    "    # reloaded_text = i.readlines() # splits on new lines, returns a list\n",
    "print(reloaded_text)\n",
    "\n",
    "new_fname = pathlib.Path(f\"{os.path.splitext(fname)[0]}.2.txt\")\n",
    "fname.rename(new_fname)\n",
    "new_fname.unlink() # remove"
   ]
  },
  {
   "cell_type": "code",
   "execution_count": null,
   "metadata": {},
   "outputs": [],
   "source": [
    "for f in p.iterdir(): # loop through directory\n",
    "    print(f)"
   ]
  },
  {
   "cell_type": "code",
   "execution_count": null,
   "metadata": {},
   "outputs": [],
   "source": [
    "list(p.glob('**/*.png')) # pathlib offers glob out of the box"
   ]
  },
  {
   "cell_type": "markdown",
   "metadata": {},
   "source": [
    "#### Additional libraries, aliases"
   ]
  },
  {
   "cell_type": "code",
   "execution_count": null,
   "metadata": {},
   "outputs": [],
   "source": [
    "import numpy as np # import and define alias ('np' is just a convention)"
   ]
  },
  {
   "cell_type": "code",
   "execution_count": null,
   "metadata": {},
   "outputs": [],
   "source": [
    "from matplotlib import pyplot    # import only parts of a package\n",
    "import matplotlib.pyplot as plt  # import the package and rename it\n",
    "# from matplotlib import pyplot as plt # same as above"
   ]
  },
  {
   "cell_type": "markdown",
   "metadata": {},
   "source": [
    "## Resources\n",
    "\n",
    "- [LearnPython.org](https://www.learnpython.org), (also, [Codecademy](https://www.codecademy.com/catalog/language/python), and other paid services, where you can audit for free)\n",
    "- A nice and accessible [video tutorial](https://www.youtube.com/watch?v=rfscVS0vtbw) (there are so many on YouTube, if you find one that suits you better, go for it!)\n",
    "- Many more [tutorials](https://wiki.python.org/moin/BeginnersGuide/Programmers), also [here](https://www.learnbyexample.org/python-introduction/)\n",
    "- The official [Python docs tutorial](https://docs.python.org/3/tutorial/index.html)\n",
    "- A treasure trove of resources: [Real Python](https://realpython.com/)"
   ]
  }
 ],
 "metadata": {
  "kernelspec": {
   "display_name": "Python 3 (ipykernel)",
   "language": "python",
   "name": "python3"
  },
  "language_info": {
   "codemirror_mode": {
    "name": "ipython",
    "version": 3
   },
   "file_extension": ".py",
   "mimetype": "text/x-python",
   "name": "python",
   "nbconvert_exporter": "python",
   "pygments_lexer": "ipython3",
   "version": "3.9.18"
  },
  "org": null,
  "vscode": {
   "interpreter": {
    "hash": "1c544d3133b9d8c6f36fca025551af31afa9ef134259e7064ad6be0c15e6401c"
   }
  }
 },
 "nbformat": 4,
 "nbformat_minor": 4
}
