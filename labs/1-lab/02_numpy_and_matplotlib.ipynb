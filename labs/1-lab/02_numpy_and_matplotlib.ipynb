{
 "cells": [
  {
   "cell_type": "markdown",
   "metadata": {},
   "source": [
    "# Numpy and Matplotlib\n",
    "\n",
    "What are they?\n",
    "- [NumPy](https://numpy.org): number manipulation & crunching\n",
    "- [Matplotlib](https://matplotlib.org): visualisations and plots\n",
    "\n",
    "Why do we learn NumPy? Its syntax has inspired the whole field of ML (TensorFlow, PyTorch, JAX, TensorFlowJS and therefore ml5js). Note: it is also similar to [Matlab](https://en.wikipedia.org/wiki/MATLAB).\n",
    "\n",
    "### Installation\n",
    "On google collab most of the content in this notebook will not need installation. If using your local Python installation install with conda by writing the following in the terminal:\n",
    "```\n",
    "conda install -c conda-forge numpy\n",
    "conda install -c conda-forge matplotlib\n",
    "```"
   ]
  },
  {
   "cell_type": "markdown",
   "metadata": {},
   "source": [
    "---\n",
    "\n",
    "# Numpy\n",
    "\n",
    "Numpy is a *numerical computation* package allowing us to do all sort of things with `array`s.\n",
    "\n",
    "### Vocab note\n",
    "\n",
    "- a **matrix** is a 2D array\n",
    "- a **tensor** is everything above that (3D, 4D arrays, etc.) (and because it's so common now, people talk about tensors for all sizes of arrays...)"
   ]
  },
  {
   "cell_type": "code",
   "execution_count": null,
   "metadata": {},
   "outputs": [],
   "source": [
    "import numpy as np # import the package and rename it 'np', the convention"
   ]
  },
  {
   "cell_type": "code",
   "execution_count": null,
   "metadata": {},
   "outputs": [],
   "source": [
    "x = np.array([0, 1, 2, 3]) # think of this as a Python list on steroids\n",
    "print(x)\n",
    "print(len(x)) # like a Python list\n",
    "print(x[0:2]) # slicing"
   ]
  },
  {
   "cell_type": "markdown",
   "metadata": {},
   "source": [
    "## Array creation\n",
    "\n",
    "### arange"
   ]
  },
  {
   "cell_type": "code",
   "execution_count": null,
   "metadata": {},
   "outputs": [],
   "source": [
    "x = np.arange(9) # like Python range\n",
    "print(x)"
   ]
  },
  {
   "cell_type": "markdown",
   "metadata": {},
   "source": [
    "#### zeros, ones"
   ]
  },
  {
   "cell_type": "code",
   "execution_count": null,
   "metadata": {},
   "outputs": [],
   "source": [
    "x = np.zeros((5, 10)) # 5 rows, 10 columns, try also `np.ones`\n",
    "print(x)\n",
    "print(len(x)) # ! number of *rows*, like a list of lists\n",
    "print(x.size) # total number of elements"
   ]
  },
  {
   "cell_type": "code",
   "execution_count": null,
   "metadata": {},
   "outputs": [],
   "source": [
    "print(x.shape) # `shape`: this is the information we need\n",
    "rows, cols = x.shape\n",
    "# rows = x.shape[0]  # the same\n",
    "# cols = x.shape[1]"
   ]
  },
  {
   "cell_type": "markdown",
   "metadata": {},
   "source": [
    "#### eye"
   ]
  },
  {
   "cell_type": "code",
   "execution_count": null,
   "metadata": {},
   "outputs": [],
   "source": [
    "np.eye(3) # a 3x3 matrix with ones in the diagonal"
   ]
  },
  {
   "cell_type": "markdown",
   "metadata": {},
   "source": [
    "#### linspace"
   ]
  },
  {
   "cell_type": "code",
   "execution_count": null,
   "metadata": {},
   "outputs": [],
   "source": [
    "np.linspace(-1, 1, 9) # 9 numbers equally spaced between -1 and 1"
   ]
  },
  {
   "cell_type": "markdown",
   "metadata": {},
   "source": [
    "## Indexing and slicing\n",
    "\n"
   ]
  },
  {
   "cell_type": "code",
   "execution_count": null,
   "metadata": {},
   "outputs": [],
   "source": [
    "x = np.arange(9).reshape(3,3)\n",
    "x"
   ]
  },
  {
   "cell_type": "code",
   "execution_count": null,
   "metadata": {},
   "outputs": [],
   "source": [
    "x[2] # the third row"
   ]
  },
  {
   "cell_type": "code",
   "execution_count": null,
   "metadata": {},
   "outputs": [],
   "source": [
    "x[2, 0] # a single element!\n",
    "        # same as x[0][2] for a list of lists in plain Python"
   ]
  },
  {
   "cell_type": "code",
   "execution_count": null,
   "metadata": {},
   "outputs": [],
   "source": [
    "x[1, :] # first row, all elements (`:` means \"everything\")\n",
    "        # can you display only the second column?"
   ]
  },
  {
   "cell_type": "markdown",
   "metadata": {},
   "source": [
    "## Reshaping & transposing arrays\n",
    "\n",
    "In ML we constantly reshape data tensors to suit our needs!"
   ]
  },
  {
   "cell_type": "code",
   "execution_count": null,
   "metadata": {},
   "outputs": [],
   "source": [
    "x = np.arange(2*3*4)\n",
    "print(x.shape)\n",
    "print(x) # in NumPy, the shape of a 1D array is a tuple of one el (note the comma: (24,)!)"
   ]
  },
  {
   "cell_type": "code",
   "execution_count": null,
   "metadata": {},
   "outputs": [],
   "source": [
    "print(x.reshape((2,3,4))) # the shape must divide the total number of els without remainder!\n",
    "                          # \"two matrices with three rows of four columns\""
   ]
  },
  {
   "cell_type": "code",
   "execution_count": null,
   "metadata": {},
   "outputs": [],
   "source": [
    "print(x.reshape((2,-1))) # '-1': calculate that dimension for me"
   ]
  },
  {
   "cell_type": "code",
   "execution_count": null,
   "metadata": {},
   "outputs": [],
   "source": [
    "x_reshaped = x.reshape((2, 2, -1))\n",
    "print(x_reshaped)\n",
    "print(x_reshaped.shape) # see how '-1' calculated '6' for the last dim"
   ]
  },
  {
   "cell_type": "code",
   "execution_count": null,
   "metadata": {},
   "outputs": [],
   "source": [
    "print(x.reshape((3,-1))) # '-1': calculate that dimension for me"
   ]
  },
  {
   "cell_type": "markdown",
   "metadata": {},
   "source": [
    "We can also *add dimensions*:"
   ]
  },
  {
   "cell_type": "code",
   "execution_count": null,
   "metadata": {},
   "outputs": [],
   "source": [
    "print(x)\n",
    "\n",
    "print(np.expand_dims(x, 0))   # wrap the array with one more dimension\n",
    "# print(x[np.newaxis, ...])   # the same. '...' means \"fill in the remaining dimensions\"\n",
    "# print(x[None, ...])         # the same"
   ]
  },
  {
   "cell_type": "code",
   "execution_count": null,
   "metadata": {},
   "outputs": [],
   "source": [
    "column_x = x[..., None]\n",
    "print(column_x) # adding a dimension at the end turns the row vector into a column one\n",
    "print(column_x.shape)"
   ]
  },
  {
   "cell_type": "markdown",
   "metadata": {},
   "source": [
    "... and also *remove them* (`np.squeeze` by default removes all dimensions of size one)."
   ]
  },
  {
   "cell_type": "code",
   "execution_count": null,
   "metadata": {},
   "outputs": [],
   "source": [
    "x_squeezed = np.squeeze(column_x)\n",
    "print(x_squeezed)\n",
    "print(x_squeezed.shape) # back where we started"
   ]
  },
  {
   "cell_type": "markdown",
   "metadata": {},
   "source": [
    "### Transposing\n",
    "\n",
    "AKA \"rows become columns and columns become rows\":"
   ]
  },
  {
   "cell_type": "code",
   "execution_count": null,
   "metadata": {},
   "outputs": [],
   "source": [
    "x = np.arange(9).reshape((3,3))\n",
    "print(x)\n",
    "print()\n",
    "print(x.T)               # transpose the matrix (= flip it along the diagonal)\n",
    "# print(np.transpose(x)) # the same"
   ]
  },
  {
   "cell_type": "markdown",
   "metadata": {},
   "source": [
    "Algebra is not everyone's cup of tea, but is a fundamental part of ML!\n",
    "For more:\n",
    "- the fantastic [Essence of Linear Algebra by 3Blue1Brown](https://www.youtube.com/watch?v=fNk_zzaMoSs&list=PLZHQObOWTQDPD3MizzM2xVFitgF8hE_ab)\n",
    "- [a matrix algebra primer](https://www.statlect.com/matrix-algebra/)."
   ]
  },
  {
   "cell_type": "markdown",
   "metadata": {},
   "source": [
    "## More fun: images are arrays!\n",
    "\n",
    "To practice slicing it is useful to actually look at an image, which we will represent as a numpy array.\n",
    "\n",
    "We will use the [Pillow](https://realpython.com/image-processing-with-the-python-pillow-library/) library which can be accessed with the `PIL` module. If the code below does not work install Pillow with:\n",
    "\n",
    "```bash\n",
    "conda install -c conda-forge pillow\n",
    "```\n",
    "\n",
    "Note that we are not limited to 2d arrays, for example a R,G,B image could be\n",
    "represented as a `(rows, columns, 3)` array where the last 3 dimensions each\n",
    "represents a channel of the image... more on this later when we look at\n",
    "plotting."
   ]
  },
  {
   "cell_type": "code",
   "execution_count": null,
   "metadata": {},
   "outputs": [],
   "source": [
    "from PIL import Image\n",
    "import matplotlib.pyplot as plt\n",
    "\n",
    "# In Colab\n",
    "# https://stackoverflow.com/a/23489503\n",
    "import requests\n",
    "from io import BytesIO\n",
    "url = \"https://raw.githubusercontent.com/jchwenger/DMLAP/main/python/images/spock.jpg\"\n",
    "response = requests.get(url)\n",
    "img = np.array(Image.open(BytesIO(response.content)))\n",
    "\n",
    "# Locally\n",
    "# img = np.array(Image.open('images/spock.jpg')) # also possible: plt.imread(). see below\n",
    "print(img.shape)                               # our image is an array of shape (w,h,channels)"
   ]
  },
  {
   "cell_type": "code",
   "execution_count": null,
   "metadata": {},
   "outputs": [],
   "source": [
    "plt.imshow(img)"
   ]
  },
  {
   "cell_type": "code",
   "execution_count": null,
   "metadata": {},
   "outputs": [],
   "source": [
    "plt.imshow(img[170:220, 100:480]) # slicing in the first two dims!"
   ]
  },
  {
   "cell_type": "markdown",
   "metadata": {},
   "source": [
    "Now let's look at a single channel. We need to specify the display in greyscale. There are [many other options](https://matplotlib.org/stable/tutorials/colors/colormaps.html#sequential)."
   ]
  },
  {
   "cell_type": "code",
   "execution_count": null,
   "metadata": {},
   "outputs": [],
   "source": [
    "plt.imshow(img[:, :, 0], cmap='gray') # try viridis, plasma, inferno..."
   ]
  },
  {
   "cell_type": "code",
   "execution_count": null,
   "metadata": {},
   "outputs": [],
   "source": [
    "plt.imshow(img[:, ::-1]) # flipped left to right: how do you flip it upside down?"
   ]
  },
  {
   "cell_type": "code",
   "execution_count": null,
   "metadata": {},
   "outputs": [],
   "source": [
    "plt.imshow(img[:, :, ::-1]) # reversing the channels!"
   ]
  },
  {
   "cell_type": "markdown",
   "metadata": {},
   "source": [
    "### Note: handling batches\n",
    "\n",
    "Almost systematically in ML, we deal with *batches* of images, rather than single ones, to take advantage of parallel computing. That can be handled by adding an additional (batch) dimension at the front of our image array/tensor:"
   ]
  },
  {
   "cell_type": "code",
   "execution_count": null,
   "metadata": {},
   "outputs": [],
   "source": [
    "print(img.shape)\n",
    "img_batch = img.reshape([1, 688, 500, 3])  # note: these numbers must be exact otherwise np complains!\n",
    "# img_batch = img.reshape([1, *img.shape]) # the same, programmatically unpacking the shape array\n",
    "# img_batch = np.expand_dims(img, 0)       # the same: 'expands' the zeroth dimension\n",
    "# img_batch = img[np.newaxis, ...]         # the same newaxis adds an axis, '...' means \"the rest of the shape\"\n",
    "# img_batch = img[None, ...]               # the same! None in this context works like np.newaxis\n",
    "print(img_batch.shape)"
   ]
  },
  {
   "cell_type": "markdown",
   "metadata": {},
   "source": [
    "Other times, you just want to flatten everything:"
   ]
  },
  {
   "cell_type": "code",
   "execution_count": null,
   "metadata": {},
   "outputs": [],
   "source": [
    "print(img.shape)\n",
    "print(img.ravel()[None, ...].shape) # `ravel` flattens, then we add a batch dimension\n",
    "print(img.reshape([1, -1]).shape)   # the same, '-1' means 'calculate the size of this dimension for me"
   ]
  },
  {
   "cell_type": "markdown",
   "metadata": {},
   "source": [
    "## Stacking & combining arrays\n",
    "\n",
    "### concatenate"
   ]
  },
  {
   "cell_type": "code",
   "execution_count": null,
   "metadata": {},
   "outputs": [],
   "source": [
    "a = np.arange(3)\n",
    "b = np.arange(3,6)\n",
    "a,b"
   ]
  },
  {
   "cell_type": "code",
   "execution_count": null,
   "metadata": {},
   "outputs": [],
   "source": [
    "np.concatenate([a,b])"
   ]
  },
  {
   "cell_type": "markdown",
   "metadata": {},
   "source": [
    "### tile"
   ]
  },
  {
   "cell_type": "code",
   "execution_count": null,
   "metadata": {},
   "outputs": [],
   "source": [
    "np.tile(a, 3) # repeat the array three times"
   ]
  },
  {
   "cell_type": "markdown",
   "metadata": {},
   "source": [
    "### vstack, hstack (concatenating vertically, horizontally)\n",
    "\n",
    "Along an *existing* axis, like concatenate (discussion [here](https://stackoverflow.com/a/61760947))."
   ]
  },
  {
   "cell_type": "code",
   "execution_count": null,
   "metadata": {},
   "outputs": [],
   "source": [
    "a = np.arange(2)\n",
    "b = np.arange(2,6).reshape(2,2)\n",
    "\n",
    "a, b"
   ]
  },
  {
   "cell_type": "code",
   "execution_count": null,
   "metadata": {},
   "outputs": [],
   "source": [
    "np.vstack([a, b]) # vertically"
   ]
  },
  {
   "cell_type": "code",
   "execution_count": null,
   "metadata": {},
   "outputs": [],
   "source": [
    "a_col = a[...,None] # to stack horizontally, we turn a into a column vector\n",
    "print(a_col)\n",
    "np.hstack([a_col, b]) "
   ]
  },
  {
   "cell_type": "markdown",
   "metadata": {},
   "source": [
    "### stack\n",
    "\n",
    "Along a *new* axis (discussion [here](https://stackoverflow.com/a/61760947))."
   ]
  },
  {
   "cell_type": "code",
   "execution_count": null,
   "metadata": {},
   "outputs": [],
   "source": [
    "a = np.arange(3)\n",
    "b = np.arange(3,6)\n",
    "\n",
    "a,b"
   ]
  },
  {
   "cell_type": "code",
   "execution_count": null,
   "metadata": {},
   "outputs": [],
   "source": [
    "np.stack([a,b], axis=0) # creates a new container 'in axis 0' and puts the two arrays in it"
   ]
  },
  {
   "cell_type": "code",
   "execution_count": null,
   "metadata": {},
   "outputs": [],
   "source": [
    "np.stack([a,b], axis=1) # # creates new containers 'in axis 1' and puts the contents of the arrays in them"
   ]
  },
  {
   "cell_type": "markdown",
   "metadata": {},
   "source": [
    "These functions will only work if the size of the arrays we want to combine is **compatible**, i.e. we can only stack horizontally if arrays have the same number of rows, and we can only stack vertically if arrays have the number of columns.\n",
    "\n",
    "More:\n",
    "- [joining arrays](https://numpy.org/doc/stable/reference/routines.array-manipulation.html#joining-arrays)\n",
    "- [splitting arrays](https://numpy.org/doc/stable/reference/routines.array-manipulation.html#splitting-arrays)\n",
    "- [tiling arrays](https://numpy.org/doc/stable/reference/routines.array-manipulation.html#tiling-arrays)\n",
    "- [adding and removing elements](https://numpy.org/doc/stable/reference/routines.array-manipulation.html#adding-and-removing-elements)"
   ]
  },
  {
   "cell_type": "markdown",
   "metadata": {},
   "source": [
    "## Math operations and broadcasting\n",
    "\n",
    "- [matrix multiplication](https://numpy.org/doc/stable/reference/generated/numpy.matmul.html#numpy-matmul)\n",
    "- [dot product](https://numpy.org/doc/stable/reference/generated/numpy.dot.html)\n",
    "- see [here](https://stackoverflow.com/a/34142617)"
   ]
  },
  {
   "cell_type": "code",
   "execution_count": null,
   "metadata": {},
   "outputs": [],
   "source": [
    "a = np.arange(4).reshape((2,2))\n",
    "print(a)\n",
    "print(a @ a)            # matrix multiplication\n",
    "# print(np.matmul(a,a)) # same\n",
    "# print(a.dot(a))       # dot product, in this case the same"
   ]
  },
  {
   "cell_type": "markdown",
   "metadata": {},
   "source": [
    "#### broadcasting\n",
    "\n",
    "This is the real superpower of NumPy (copied by all ML libraries).\n",
    "\n",
    "Often you wish to apply the same operations to all elements of a tensor. In plain Python, you need a loop. In NumPy, you use **broadcasting** (which much, *much* faster)."
   ]
  },
  {
   "cell_type": "code",
   "execution_count": null,
   "metadata": {},
   "outputs": [],
   "source": [
    "a = np.ones((3,3))\n",
    "a"
   ]
  },
  {
   "cell_type": "code",
   "execution_count": null,
   "metadata": {},
   "outputs": [],
   "source": [
    "print(a * 9) # works with all basic operations: + - * / **"
   ]
  },
  {
   "cell_type": "code",
   "execution_count": null,
   "metadata": {},
   "outputs": [],
   "source": [
    "a = np.ones((3,3))\n",
    "b = np.arange(3)\n",
    "a,b"
   ]
  },
  {
   "cell_type": "code",
   "execution_count": null,
   "metadata": {},
   "outputs": [],
   "source": [
    "a.shape, b.shape # b is transformed to shape (1,3), then copied three times"
   ]
  },
  {
   "cell_type": "code",
   "execution_count": null,
   "metadata": {},
   "outputs": [],
   "source": [
    "a * b # broadcasting vertically"
   ]
  },
  {
   "cell_type": "code",
   "execution_count": null,
   "metadata": {},
   "outputs": [],
   "source": [
    "a.shape, b[...,None].shape "
   ]
  },
  {
   "cell_type": "code",
   "execution_count": null,
   "metadata": {},
   "outputs": [],
   "source": [
    "a * b[...,None] # broadcasting horizontally"
   ]
  },
  {
   "cell_type": "markdown",
   "metadata": {},
   "source": [
    "#### Beware, there are rules!\n",
    "\n",
    "![Sasha Rush broadcasting tweet](https://raw.githubusercontent.com/jchwenger/AI/main/2-building-blocks/images/tf/srush-broadcasting.png)\n",
    "\n",
    "See also [this tutorial](https://numpy.org/doc/stable/user/basics.broadcasting.html)."
   ]
  },
  {
   "cell_type": "markdown",
   "metadata": {
    "tags": []
   },
   "source": [
    "## Random numbers\n"
   ]
  },
  {
   "cell_type": "code",
   "execution_count": null,
   "metadata": {},
   "outputs": [],
   "source": [
    "print(np.random.uniform())                    # a number between 0 and 1\n",
    "print(np.random.uniform(-100, 100))           # a number between -100 and 100\n",
    "print(np.random.uniform(-10, 10, size=(2,3))) # an array of shape 2x3 with numbers between -10 and 10"
   ]
  },
  {
   "cell_type": "code",
   "execution_count": null,
   "metadata": {},
   "outputs": [],
   "source": [
    "np.random.normal() # a number from a Gaussian distribution: mean 0, standard deviation of 1"
   ]
  },
  {
   "cell_type": "code",
   "execution_count": null,
   "metadata": {},
   "outputs": [],
   "source": [
    "np.random.randint(0, 10) # an integer between 0 and 10"
   ]
  },
  {
   "cell_type": "markdown",
   "metadata": {},
   "source": [
    "### Note: random seeds\n",
    "\n",
    "If we want to always get the same random values, we can set a number as a **seed** to the random number generator."
   ]
  },
  {
   "cell_type": "code",
   "execution_count": null,
   "metadata": {},
   "outputs": [],
   "source": [
    "np.random.seed(100)\n",
    "print(np.random.uniform(-1, 1, 3))\n",
    "np.random.seed(100) # try and comment this out\n",
    "print(np.random.uniform(-1, 1, 3))"
   ]
  },
  {
   "cell_type": "markdown",
   "metadata": {},
   "source": [
    "### Note: uniform vs normal?\n",
    "\n",
    "- **Uniform**: flat distribution ('pure' random)\n",
    "- **Normal**: Gaussian, Bell curve, Normal distribution, centred around around a *mean*, with tails on both ends determined by the *standard deviation*\n",
    "\n",
    "(Don't worry about the plotting code, it's a [histogram](https://matplotlib.org/stable/gallery/statistics/hist.html#sphx-glr-gallery-statistics-hist-py).)"
   ]
  },
  {
   "cell_type": "code",
   "execution_count": null,
   "metadata": {},
   "outputs": [],
   "source": [
    "import matplotlib.pyplot as plt\n",
    "\n",
    "uniform_throws = np.random.uniform(size=(1000,))\n",
    "normal_throws = np.random.normal(size=(1000,))\n",
    "                                   \n",
    "fig, (ax1, ax2) = plt.subplots(1,2, sharey=True, tight_layout=True) # 1,2 means: 1 row & 2 columns\n",
    "fig.suptitle(\"Throwing one 'uniform' and one 'normal' die 1000 times, plotting the results\")\n",
    "ax1.set_title(\"Uniform\")                                            # ax1 is our 'axes' (the plot object of subplot 1)\n",
    "ax1.hist(uniform_throws, bins=25)\n",
    "ax2.set_title(\"Normal/Gaussian\")                                    # ax2 is our 'axes' (the plot object of subplot 2)\n",
    "ax2.hist(normal_throws, bins=25)\n",
    "plt.show()"
   ]
  },
  {
   "cell_type": "markdown",
   "metadata": {},
   "source": [
    "## More operations on arrays\n",
    "\n",
    "### min, max"
   ]
  },
  {
   "cell_type": "code",
   "execution_count": null,
   "metadata": {},
   "outputs": [],
   "source": [
    "z = np.random.uniform(-10, 10, 10) # 10 random numbers between -10 and 10\n",
    "print(z)\n",
    "print(np.max(z)) # the biggest number, try np.min()"
   ]
  },
  {
   "cell_type": "code",
   "execution_count": null,
   "metadata": {},
   "outputs": [],
   "source": [
    "(z - np.min(z)) / (np.max(z) - np.min(z)) # useful to normalize the array"
   ]
  },
  {
   "cell_type": "markdown",
   "metadata": {},
   "source": [
    "### argmin, argmax\n",
    "\n",
    "Often instead of the *value* (min or max), you need its **index**!"
   ]
  },
  {
   "cell_type": "code",
   "execution_count": null,
   "metadata": {},
   "outputs": [],
   "source": [
    "p = [0.3, 0.5, 0.1, 0.1]\n",
    "print(p)\n",
    "print(np.argmax(p)) # *index* of the max, try np.argmax"
   ]
  },
  {
   "cell_type": "markdown",
   "metadata": {},
   "source": [
    "### sum\n",
    "\n",
    "We can specify *along which axis* to perform the operation.\n",
    "\n",
    "(See also [`np.average` and others](https://numpy.org/doc/stable/reference/routines.statistics.html#averages-and-variances).)"
   ]
  },
  {
   "cell_type": "code",
   "execution_count": null,
   "metadata": {},
   "outputs": [],
   "source": [
    "z = np.ones((3, 4))\n",
    "print(z)\n",
    "print()\n",
    "\n",
    "print(np.sum(z))             # grand total\n",
    "print(np.sum(z, axis=0)) # sum along columns\n",
    "print(np.sum(z, axis=1))     # sum along rows"
   ]
  },
  {
   "cell_type": "markdown",
   "metadata": {},
   "source": [
    "Often we want to keep the dimensions intact:"
   ]
  },
  {
   "cell_type": "code",
   "execution_count": null,
   "metadata": {},
   "outputs": [],
   "source": [
    "np.sum(z, keepdims=True) # keepdims exists in many NumPy functions"
   ]
  },
  {
   "cell_type": "markdown",
   "metadata": {},
   "source": [
    "### Note: duplicate methods\n",
    "\n",
    "A lot of these methods also exist as methods, so you can write `z.min()`, `z.sum()`, etc.\n",
    "\n",
    "More resources:\n",
    "- [NumPy: the absolute basics for beginners](https://numpy.org/doc/stable/user/absolute_beginners.html)\n",
    "- [NumPy quickstart](https://numpy.org/doc/stable/user/quickstart.html)\n",
    "- [NumPy fundamentals](https://numpy.org/doc/stable/user/basics.html)\n",
    "- [Even more learning resources](https://numpy.org/learn/)"
   ]
  },
  {
   "cell_type": "markdown",
   "metadata": {},
   "source": [
    "---\n",
    "\n",
    "# Beyond NumPy: TensorFlow\n",
    "\n",
    "For a notebook covering many similar concepts in TensorFlow:\n",
    "- see [`1.first-steps-tensorflow.ipynb`](https://github.com/jchwenger/AI/blob/main/labs/1-lab/1.first-steps-tensorflow.ipynb)\n",
    "- and its empty, 'quiz' form [`1.first-steps-tensorflow.QUIZ.ipynb`](https://github.com/jchwenger/AI/blob/main/labs/1-lab/1.first-steps-tensorflow.QUIZ.ipynb))."
   ]
  },
  {
   "cell_type": "markdown",
   "metadata": {},
   "source": [
    "---\n",
    "\n",
    "# Matplotlib (plotting)\n",
    "\n",
    "One of the most widely used tools for plotting tasks in Python is a package called [Matplotlib](https://matplotlib.org)."
   ]
  },
  {
   "cell_type": "code",
   "execution_count": null,
   "metadata": {},
   "outputs": [],
   "source": [
    "import matplotlib.pyplot as plt    # import pyplot submodule, rename it 'plt'"
   ]
  },
  {
   "cell_type": "code",
   "execution_count": null,
   "metadata": {},
   "outputs": [],
   "source": [
    "x = np.linspace(0, np.pi * 4, 100) # 100 numbers between 0 and 4 * pi\n",
    "y = np.sin(x)                      # the sinus of each of these (broadcasting!)\n",
    "\n",
    "plt.figure(figsize=(10, 5))        # create figure, specifying its size as a tuple (optional, try without it)\n",
    "plt.plot(x, y)                     # plot the numbers\n",
    "plt.show()                         # show the plot"
   ]
  },
  {
   "cell_type": "markdown",
   "metadata": {},
   "source": [
    "### Multiple pieces of data in one plot"
   ]
  },
  {
   "cell_type": "code",
   "execution_count": null,
   "metadata": {},
   "outputs": [],
   "source": [
    "plt.figure(figsize=(10, 5))            # create the figure\n",
    "plt.title(\"Cosine and Sine\")           # title\n",
    "\n",
    "plt.plot(x, np.cos(x), label='Cosine') # some data\n",
    "plt.plot(x, np.sin(x), label='Sine')   # more data\n",
    "\n",
    "plt.legend()                           # without this, the 'labels' aren't shown\n",
    "# plt.savefig('myplot.pdf')            # you can save to pdf, png, etc.\n",
    "plt.show()                             # show the figure"
   ]
  },
  {
   "cell_type": "markdown",
   "metadata": {},
   "source": [
    "See [the `plot` documentation](https://matplotlib.org/stable/api/_as_gen/matplotlib.pyplot.plot.html), and [the examples](https://matplotlib.org/stable/gallery/index.html)."
   ]
  },
  {
   "cell_type": "markdown",
   "metadata": {},
   "source": [
    "### Multiple plots, aka subplots"
   ]
  },
  {
   "cell_type": "code",
   "execution_count": null,
   "metadata": {},
   "outputs": [],
   "source": [
    "plt.figure(figsize=(10, 5))\n",
    "\n",
    "ax1 = plt.subplot(1, 2, 1)   # (1,2,1) means: 1 row & 2 columns, setting up subplot 1\n",
    "ax1.set(title=\"Cosine\")      # ax1 is our 'axes' (the plot object of subplot 1)\n",
    "ax1.plot(x, np.cos(x))\n",
    "\n",
    "ax2 = plt.subplot(1, 2, 2)   # (1,2,2) means: 1 row & 2 columns, setting up subplot 2\n",
    "ax2.set(title=\"Sine\")        # ax2 is our 'axes' (the plot object of subplot 2)\n",
    "ax2.plot(x, np.sin(x))\n",
    "\n",
    "plt.show()"
   ]
  },
  {
   "cell_type": "markdown",
   "metadata": {},
   "source": [
    "## Loading and showing images"
   ]
  },
  {
   "cell_type": "code",
   "execution_count": null,
   "metadata": {},
   "outputs": [],
   "source": [
    "# In Colab, see requests code above\n",
    "img = plt.imread(BytesIO(response.content), format=\"jpeg\") # format necessary: https://stackoverflow.com/a/64100066\n",
    "\n",
    "# Locally\n",
    "# img = plt.imread('images/spock.jpg') # pyplot can load images directly\n",
    "plt.figure()\n",
    "plt.imshow(img)\n",
    "plt.axis('off') # comment this to get the ticks/numbers back\n",
    "plt.show()"
   ]
  },
  {
   "cell_type": "code",
   "execution_count": null,
   "metadata": {},
   "outputs": [],
   "source": [
    "print(img.shape) # this is a np.array\n",
    "print(img.dtype) # type 'uint8"
   ]
  },
  {
   "cell_type": "markdown",
   "metadata": {},
   "source": [
    "This is a subtlety that we will have do deal with especially when working with images.\n",
    "\n",
    "We can still do slicing etc for example this will show a detail of only one channel of the image:\n",
    "\n"
   ]
  },
  {
   "cell_type": "code",
   "execution_count": null,
   "metadata": {},
   "outputs": [],
   "source": [
    "plt.figure()\n",
    "plt.imshow(img[180:220, 220:280, 2], interpolation='nearest')\n",
    "plt.show()"
   ]
  },
  {
   "cell_type": "markdown",
   "metadata": {},
   "source": [
    "Note that we use an optional parameter `interpolation='nearest'`. This indicates that we do not want to filter the image when scaling it and it results in the pixels being shown as distinct squares. More [here](https://matplotlib.org/stable/gallery/images_contours_and_fields/interpolation_methods.html) and [here](https://matplotlib.org/stable/gallery/images_contours_and_fields/image_antialiasing.html).\n",
    "\n"
   ]
  },
  {
   "cell_type": "markdown",
   "metadata": {},
   "source": [
    "More resources:\n",
    "- [Pyplot tutorial](https://matplotlib.org/stable/tutorials/introductory/pyplot.html)\n",
    "- [Image tutorial](https://matplotlib.org/stable/tutorials/introductory/images.html)\n",
    "- [Quick start guide](https://matplotlib.org/stable/tutorials/introductory/quick_start.html)"
   ]
  }
 ],
 "metadata": {
  "kernelspec": {
   "display_name": "Python 3 (ipykernel)",
   "language": "python",
   "name": "python3"
  },
  "language_info": {
   "codemirror_mode": {
    "name": "ipython",
    "version": 3
   },
   "file_extension": ".py",
   "mimetype": "text/x-python",
   "name": "python",
   "nbconvert_exporter": "python",
   "pygments_lexer": "ipython3",
   "version": "3.9.18"
  },
  "org": null,
  "vscode": {
   "interpreter": {
    "hash": "1c544d3133b9d8c6f36fca025551af31afa9ef134259e7064ad6be0c15e6401c"
   }
  }
 },
 "nbformat": 4,
 "nbformat_minor": 4
}
