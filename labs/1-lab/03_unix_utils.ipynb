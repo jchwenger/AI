{
 "cells": [
  {
   "cell_type": "markdown",
   "id": "994afcf9-50d0-4028-88c5-382cfae218f0",
   "metadata": {},
   "source": [
    "## Unix Tools"
   ]
  },
  {
   "cell_type": "markdown",
   "id": "0f9d23a7-88d0-4b0d-9f6e-084fef8e7a17",
   "metadata": {},
   "source": [
    "These are very useful to know when working with Colaboratory (most cloud machines for deep learning run Linux distributions).\n",
    "\n",
    "I prepend `!` in Jupyter Notebooks, meaning: \"run this command as a shell command\".\n",
    "\n",
    "Tutorial [here](https://www.tutorialspoint.com/unix/index.htm), but I would recommend also [Allison Parrish's](https://www.decontextualize.com/teaching/rwet/introduction-and-unix-tutorial/), and perhaps [this](https://linuxjourney.com/) or [this](https://www.codecademy.com/learn/introduction-to-linux)."
   ]
  },
  {
   "cell_type": "code",
   "execution_count": null,
   "id": "00e65406-c2d0-4382-9ed2-7c3ddf662759",
   "metadata": {},
   "outputs": [],
   "source": [
    "!pwd # print working (current) directory"
   ]
  },
  {
   "cell_type": "markdown",
   "id": "a941214b-32bf-460b-ba46-b01df44d0664",
   "metadata": {},
   "source": [
    "Change directories."
   ]
  },
  {
   "cell_type": "code",
   "execution_count": null,
   "id": "4814279e-1076-49d4-acf9-eda62a616a60",
   "metadata": {},
   "outputs": [],
   "source": [
    "# note: when working from Colab, this fails to change directories\n",
    "# to change the dir in Jupyter, use Python tools like os.chdir\n",
    "!cd .. # go up one directory\n",
    "!pwd\n",
    "!cd - # - means \"the last directory\"\n",
    "!pwd"
   ]
  },
  {
   "cell_type": "code",
   "execution_count": null,
   "id": "2f0fd4d1-644f-41b6-a977-81e66234bcce",
   "metadata": {},
   "outputs": [],
   "source": [
    "!ls # list current directory"
   ]
  },
  {
   "cell_type": "code",
   "execution_count": null,
   "id": "fbf23201-15bf-425b-9026-dc9994115b6b",
   "metadata": {},
   "outputs": [],
   "source": [
    "!touch text.txt # create an empty file\n",
    "                # (if it exists, it will update its 'last opened' data to now)"
   ]
  },
  {
   "cell_type": "markdown",
   "id": "6b9e8d93-5913-42e2-85a7-2871e3ef329d",
   "metadata": {},
   "source": [
    "### [cat](https://www.geeksforgeeks.org/cat-command-in-linux-with-examples/)\n",
    "\n",
    "Get contents of a file"
   ]
  },
  {
   "cell_type": "code",
   "execution_count": null,
   "id": "8782516b-47c4-4964-9c21-51b9f1481153",
   "metadata": {},
   "outputs": [],
   "source": [
    "!cat text.txt # empty"
   ]
  },
  {
   "cell_type": "code",
   "execution_count": null,
   "id": "3b04f911-72b1-4886-afea-c60a6a1cca7f",
   "metadata": {},
   "outputs": [],
   "source": [
    "!echo \"hello\\world\" > text.txt"
   ]
  },
  {
   "cell_type": "code",
   "execution_count": null,
   "id": "0cb730fe-ac2b-45ca-9148-d23e61a63c5a",
   "metadata": {},
   "outputs": [],
   "source": [
    "!cat text.txt"
   ]
  },
  {
   "cell_type": "code",
   "execution_count": null,
   "id": "19e2c7a0-d384-4945-9439-b75818d194eb",
   "metadata": {},
   "outputs": [],
   "source": [
    "fname = \"text.txt\"\n",
    "!cat {fname}"
   ]
  },
  {
   "cell_type": "markdown",
   "id": "39e610d5-6b1a-4b38-b64e-c0f855f7b341",
   "metadata": {},
   "source": [
    "### Pipes"
   ]
  },
  {
   "cell_type": "markdown",
   "id": "53f1a1ff-ac3a-4deb-a6a4-4852e8c0784e",
   "metadata": {},
   "source": [
    "Pipes (`|`) allow you to use the output of one command as the input of another. Here I output the content of this file to `head` (only display the `-n` first lines) or `tail` (the `-n` last lines). "
   ]
  },
  {
   "cell_type": "code",
   "execution_count": null,
   "id": "63f4a272-69ab-4bdc-a3cd-fc33a46f8102",
   "metadata": {},
   "outputs": [],
   "source": [
    "!cat 03_unix_utils.ipynb | head -n 5"
   ]
  },
  {
   "cell_type": "code",
   "execution_count": null,
   "id": "cf46236b-2744-422b-baa8-946db764c99d",
   "metadata": {},
   "outputs": [],
   "source": [
    "!cat 03_unix_utils.ipynb | tail -n 5"
   ]
  },
  {
   "cell_type": "markdown",
   "id": "40388aa1-4968-4733-9ec9-c21a3b1f8b3e",
   "metadata": {},
   "source": [
    "#### [tr](https://www.geeksforgeeks.org/tr-command-in-unix-linux-with-examples/)\n",
    "\n",
    "Translate character by character"
   ]
  },
  {
   "cell_type": "code",
   "execution_count": null,
   "id": "18949d58-2d7d-4211-a544-f37d414176a9",
   "metadata": {},
   "outputs": [],
   "source": [
    "!echo \"hello\" | tr 'h' 'H'"
   ]
  },
  {
   "cell_type": "code",
   "execution_count": null,
   "id": "5e9fe434-9ec5-445f-b2a2-183da075563f",
   "metadata": {},
   "outputs": [],
   "source": [
    "!echo \"hello\" | tr '[a-z]' '[A-Z]'"
   ]
  },
  {
   "cell_type": "markdown",
   "id": "70866f2d-3e4e-4d2c-944b-176016651d95",
   "metadata": {},
   "source": [
    "#### [sort](https://www.geeksforgeeks.org/sort-command-linuxunix-examples/)\n",
    "\n",
    "Sort lines"
   ]
  },
  {
   "cell_type": "code",
   "execution_count": null,
   "id": "9a7b81cf-03ad-43ef-a5c2-43d069946a65",
   "metadata": {},
   "outputs": [],
   "source": [
    "!echo \"tangerine\\nbanana\\napple\\ncherry\" > text.txt\n",
    "!cat text.txt | sort"
   ]
  },
  {
   "cell_type": "code",
   "execution_count": null,
   "id": "57475d94-2fc6-463c-9901-3dc6690e5346",
   "metadata": {},
   "outputs": [],
   "source": [
    "!cat text.txt | sort -r"
   ]
  },
  {
   "cell_type": "markdown",
   "id": "55f0d294-a0c1-4090-9c2e-1bbeb7bd8a9b",
   "metadata": {},
   "source": [
    "#### [grep](https://www.geeksforgeeks.org/grep-command-in-unixlinux/?ref=header_outind)\n",
    "\n",
    "Search through plain text"
   ]
  },
  {
   "cell_type": "code",
   "execution_count": null,
   "id": "d95a094b-e7fe-4c71-88f1-33bc8bb5a257",
   "metadata": {},
   "outputs": [],
   "source": [
    "!cat text.txt | grep \"an\""
   ]
  },
  {
   "cell_type": "markdown",
   "id": "37076c17-ee6f-4e41-9f69-4b3de903925a",
   "metadata": {},
   "source": [
    "#### [find](https://www.geeksforgeeks.org/find-command-in-linux-with-examples/)\n",
    "\n",
    "Find files and directories"
   ]
  },
  {
   "cell_type": "code",
   "execution_count": null,
   "id": "52fc694b-75de-45fc-b82e-c6139ce643e4",
   "metadata": {
    "scrolled": true
   },
   "outputs": [],
   "source": [
    "!find . -name \"*.ipynb\""
   ]
  },
  {
   "cell_type": "markdown",
   "id": "d3a04297-617e-4c73-ae12-042a891e81fb",
   "metadata": {},
   "source": [
    "### Creating directories"
   ]
  },
  {
   "cell_type": "code",
   "execution_count": null,
   "id": "bf47d4a0-0ddb-40ca-b3bc-7fa457e76857",
   "metadata": {},
   "outputs": [],
   "source": [
    "!mkdir texts"
   ]
  },
  {
   "cell_type": "markdown",
   "id": "2fd0647a-729c-448d-811c-7ee83d14f1ee",
   "metadata": {},
   "source": [
    "### Renaming and moving files or directories"
   ]
  },
  {
   "cell_type": "code",
   "execution_count": null,
   "id": "c84da41b-7355-4188-8869-d70df520697e",
   "metadata": {},
   "outputs": [],
   "source": [
    "!mv text.txt texts/text.txt"
   ]
  },
  {
   "cell_type": "markdown",
   "id": "3b08c4e0-74f2-4853-bf5e-eaad27e9e9f9",
   "metadata": {},
   "source": [
    "`rm -r` for directories (recursive), and `rm -f` for force (be careful, there is no turning back from `rm`, the data is lost)."
   ]
  },
  {
   "cell_type": "code",
   "execution_count": null,
   "id": "89842aab-cec9-4c18-a279-b4eaf5503cba",
   "metadata": {},
   "outputs": [],
   "source": [
    "!rm texts/text.txt # remove files\n",
    "!rm -r texts # remove directories"
   ]
  }
 ],
 "metadata": {
  "kernelspec": {
   "display_name": "Python 3 (ipykernel)",
   "language": "python",
   "name": "python3"
  },
  "language_info": {
   "codemirror_mode": {
    "name": "ipython",
    "version": 3
   },
   "file_extension": ".py",
   "mimetype": "text/x-python",
   "name": "python",
   "nbconvert_exporter": "python",
   "pygments_lexer": "ipython3",
   "version": "3.9.18"
  }
 },
 "nbformat": 4,
 "nbformat_minor": 5
}
