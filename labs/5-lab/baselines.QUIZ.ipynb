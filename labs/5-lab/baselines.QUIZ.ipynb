{
 "cells": [
  {
   "cell_type": "markdown",
   "id": "3e044249-ebbf-4c3a-b367-7551ab1483c0",
   "metadata": {},
   "source": [
    "# Common sense baselines Quiz!\n",
    "\n",
    "Idea and functionality taken from the [einops](https://github.com/arogozhnikov/einops/blob/main/docs/2-einops-for-deep-learning.ipynb) tutorials."
   ]
  },
  {
   "cell_type": "code",
   "execution_count": null,
   "id": "d3033eb9-71d8-4aa2-8439-7092d0eec488",
   "metadata": {},
   "outputs": [],
   "source": [
    "from IPython.display import display_html\n",
    "\n",
    "_style_inline = \"\"\"<style>\n",
    ".conv-answer {\n",
    "    color: transparent;\n",
    "    padding: 15px:\n",
    "    background-color: lightgray;\n",
    "}\n",
    ".conv-answer:hover { color: fuchsia; }\n",
    "</style>\n",
    "\"\"\"\n",
    "\n",
    "\n",
    "def guess(x):\n",
    "    is_classification, is_balanced, data = x\n",
    "    if is_classification:\n",
    "        if is_balanced:\n",
    "            n_classes = data\n",
    "            answ = f\"<pre> Answer:<br><br><span class='conv-answer'>A random guess: 1/{n_classes} (= {1/n_classes:.3f}, or a {1/n_classes*100:.0f}% accuracy baseline)</span> (hover to see)</pre>\"\n",
    "        else:\n",
    "            data, most_frequent_class, n_most_frequent_class = data\n",
    "            tot = sum(data)\n",
    "            answ = f\"<pre> Answer:<br><br><span class='conv-answer'>Predicting class {most_frequent_class} (with the most samples) yields {n_most_frequent_class}/{tot} (= {n_most_frequent_class/tot:.3f}, or a {n_most_frequent_class/tot*100:.0f}% accuracy baseline).\\nThis is better than a random guess: 1/{len(data)} (= {1/len(data):.3f}, or a {1/len(data)*100:.0f}% accuracy baseline)</span> <br><br> (hover to see)</pre>\"\n",
    "    else:\n",
    "        answ = f\"<pre> Answer:<br><br><span class='conv-answer'>The baseline depends on the problem, but often we use the *mean* of the data.</span> <br><br> (hover to see)</pre>\"\n",
    "    display_html(_style_inline + answ,raw=True,)"
   ]
  },
  {
   "cell_type": "code",
   "execution_count": null,
   "id": "38587990-fa84-45b7-acb1-f061b6d3a5d5",
   "metadata": {},
   "outputs": [],
   "source": [
    "import random\n",
    "import numpy as np\n",
    "import matplotlib.pyplot as plt"
   ]
  },
  {
   "cell_type": "code",
   "execution_count": null,
   "id": "22821223-7a12-4d9a-81a8-af9e81efe22b",
   "metadata": {},
   "outputs": [],
   "source": [
    "def random_dataset():\n",
    "    is_classification = bool(random.randint(0,1))\n",
    "    if is_classification:\n",
    "        print(\"We are faced with a classification problem.\")\n",
    "        n_classes = random.choice(range(3, 20))\n",
    "        balanced = bool(random.randint(0,1))\n",
    "        if balanced:\n",
    "            samples_per_class = np.random.randint(100, 1000)\n",
    "            print(f\"The dataset is balanced, with {n_classes} classes, and {samples_per_class} samples per class.\")\n",
    "            print(\"What is the common sense baseline?\")\n",
    "            print()\n",
    "            return True, True, n_classes\n",
    "        else:\n",
    "            samples_per_class = [np.random.randint(100, 1000) for _ in range(n_classes)]\n",
    "            argmax = np.argmax(samples_per_class)\n",
    "            print(f\"The dataset is imbalanced, with the following sample distribution:\")\n",
    "            \n",
    "            bars = plt.bar(range(n_classes), samples_per_class)\n",
    "            \n",
    "            # Add the number of samples on top of each bar\n",
    "            for i, bar in enumerate(bars):\n",
    "                height = bar.get_height()\n",
    "                plt.text(bar.get_x() + bar.get_width() / 2.0, height, f'{height}', ha='center', va='bottom')\n",
    "    \n",
    "            # Set the ticks to be at the center of each bar\n",
    "            plt.xticks(ticks=range(n_classes), labels=[str(i) for i in range(n_classes)])\n",
    "    \n",
    "            plt.xlabel(\"Classes\")\n",
    "            plt.ylabel(\"Number of Samples\")\n",
    "            plt.title(f\"Dataset (total samples: {sum(samples_per_class)})\")\n",
    "            plt.show()\n",
    "            print(\"What is the common sense baseline?\")\n",
    "            print()\n",
    "            return (True, False, (samples_per_class, argmax, samples_per_class[argmax]))\n",
    "    else:\n",
    "        print(\"We are faced with a regression problem.\")\n",
    "        print(\"What is the common sense baseline?\")\n",
    "        print()\n",
    "        return False, None, None"
   ]
  },
  {
   "cell_type": "markdown",
   "id": "211e70b2-6a4a-4aee-bef8-2ab14a239943",
   "metadata": {},
   "source": [
    "## The Quiz\n",
    "\n",
    "Rerun for a new set-up, hover to see the answer.\n",
    "\n",
    "Remember, it's not the actual calculation that's important (use Python for that), but an understanding of the choice of the baseline!"
   ]
  },
  {
   "cell_type": "code",
   "execution_count": null,
   "id": "36d74461-4744-4a10-8ef9-45eb090dabc2",
   "metadata": {},
   "outputs": [],
   "source": [
    "guess(random_dataset())"
   ]
  }
 ],
 "metadata": {
  "kernelspec": {
   "display_name": "Python 3 (ipykernel)",
   "language": "python",
   "name": "python3"
  },
  "language_info": {
   "codemirror_mode": {
    "name": "ipython",
    "version": 3
   },
   "file_extension": ".py",
   "mimetype": "text/x-python",
   "name": "python",
   "nbconvert_exporter": "python",
   "pygments_lexer": "ipython3",
   "version": "3.12.6"
  }
 },
 "nbformat": 4,
 "nbformat_minor": 5
}
