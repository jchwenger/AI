{
 "cells": [
  {
   "cell_type": "markdown",
   "metadata": {
    "id": "C6gb6X1pzNp1"
   },
   "source": [
    "# The California Housing Dataset\n",
    "\n",
    "---\n",
    "\n",
    "### Colab Note\n",
    "\n",
    "Don't forget that you can link your notebook to your drive and save your work there. Then you can download and backup your models, reload them to keep training them, or upload datasets to your drive."
   ]
  },
  {
   "cell_type": "code",
   "execution_count": null,
   "metadata": {
    "id": "3kZEnuWuDyQe"
   },
   "outputs": [],
   "source": [
    "import os\n",
    "import sys\n",
    "\n",
    "if 'google.colab' in sys.modules:\n",
    "    from google.colab import drive\n",
    "    drive.mount('/content/drive')\n",
    "    os.chdir('drive/My Drive/') # 'My Drive' is the default name of Google Drives\n",
    "    os.listdir()\n",
    "\n",
    "# use os.chdir(\"my-directory\") # to change directory, and\n",
    "# os.listdir()                 # to list its contents\n",
    "# os.getcwd()                  # to get the name of the current directory\n",
    "# os.mkdir(\"my-new-dir\")       # to create a new directory\n",
    "# See: https://realpython.com/working-with-files-in-python/\n",
    "\n",
    "# You can also use bash commands directly, preceded by a bang\n",
    "# !ls\n",
    "# However, the following will *not* change the Python directory\n",
    "# the notebook points to (use os.chdir for that)!\n",
    "# !cd my-directory"
   ]
  },
  {
   "cell_type": "markdown",
   "metadata": {
    "id": "UxAMektPDyQf"
   },
   "source": [
    "### For reproducible results\n",
    "\n",
    "```python\n",
    "tf.random.set_seed(42) # can be any number\n",
    "```"
   ]
  },
  {
   "cell_type": "code",
   "execution_count": null,
   "metadata": {
    "id": "s_a-FRQSH84B"
   },
   "outputs": [],
   "source": [
    "import numpy as np\n",
    "import tensorflow as tf\n",
    "import matplotlib.pyplot as plt"
   ]
  },
  {
   "cell_type": "markdown",
   "metadata": {
    "id": "6ee-bCfzGkCq"
   },
   "source": [
    "## Method 1: Scikit-Learn\n",
    "\n",
    "Locally you will have to install `scikit-learn`, using conda or pip, in your environment."
   ]
  },
  {
   "cell_type": "code",
   "execution_count": null,
   "metadata": {
    "id": "vGOAu29gD1Jn"
   },
   "outputs": [],
   "source": [
    "from sklearn.datasets import fetch_california_housing\n",
    "california_housing = fetch_california_housing()"
   ]
  },
  {
   "cell_type": "code",
   "execution_count": null,
   "metadata": {
    "id": "mGj2YchOE0Jt"
   },
   "outputs": [],
   "source": [
    "all_data = california_housing['data']\n",
    "all_targets = california_housing['target']"
   ]
  },
  {
   "cell_type": "code",
   "execution_count": null,
   "metadata": {
    "colab": {
     "base_uri": "https://localhost:8080/"
    },
    "id": "AJ4wHvA3FLEz",
    "outputId": "0cc16ebe-4c29-4206-d877-0cb434cc831e"
   },
   "outputs": [],
   "source": [
    "all_data.shape, all_targets.shape"
   ]
  },
  {
   "cell_type": "code",
   "execution_count": null,
   "metadata": {
    "colab": {
     "base_uri": "https://localhost:8080/"
    },
    "id": "Uy3GsqAbJTZV",
    "outputId": "3b3b732e-0ac5-4ade-b630-35fe5085aa14"
   },
   "outputs": [],
   "source": [
    "# multiply by 100000 to get the real price\n",
    "print(all_data.max())\n",
    "print(all_targets.min())"
   ]
  },
  {
   "cell_type": "markdown",
   "metadata": {
    "id": "xOo2xGzbIbfk"
   },
   "source": [
    "The dataset is much bigger than the Boston Housing Dataset (404 train samples, 102 test samples). One way we could reproduce the set-up would be randomly to select 404 samples from this dataset, and pretend it's all we have."
   ]
  },
  {
   "cell_type": "code",
   "execution_count": null,
   "metadata": {
    "colab": {
     "base_uri": "https://localhost:8080/"
    },
    "id": "aQqN4bJmIngb",
    "outputId": "abf724bf-cc21-472b-ab01-6bd7f6ce2b48"
   },
   "outputs": [],
   "source": [
    "n = 402\n",
    "m = 102\n",
    "indz = tf.keras.random.randint((n+m,), 0, all_data.shape[0])\n",
    "reduced_data = all_data[indz]\n",
    "reduced_targets = all_targets[indz]\n",
    "\n",
    "reduced_data.shape, reduced_targets.shape"
   ]
  },
  {
   "cell_type": "code",
   "execution_count": null,
   "metadata": {
    "colab": {
     "base_uri": "https://localhost:8080/"
    },
    "id": "sGXNF7mBFh-j",
    "outputId": "5d0e4ace-84f1-49d9-d1f9-919773646cac"
   },
   "outputs": [],
   "source": [
    "print(reduced_data.max())\n",
    "print(reduced_targets.min())"
   ]
  },
  {
   "cell_type": "code",
   "execution_count": null,
   "metadata": {
    "colab": {
     "base_uri": "https://localhost:8080/"
    },
    "id": "wRqku5XVHFM9",
    "outputId": "525753b9-2e07-4c81-b8bf-93166cb9fab2"
   },
   "outputs": [],
   "source": [
    "train_data, test_data = reduced_data[:n], reduced_data[n:]\n",
    "train_targets, test_targets = reduced_targets[:n], reduced_targets[n:]\n",
    "\n",
    "print(train_data.shape)\n",
    "print(train_targets.shape)\n",
    "print(test_data.shape)\n",
    "print(test_targets.shape)"
   ]
  },
  {
   "cell_type": "code",
   "execution_count": null,
   "metadata": {
    "id": "Wet33LwpHZfL"
   },
   "outputs": [],
   "source": [
    "mean = train_data.mean(axis = 0)\n",
    "train_data -= mean # shift\n",
    "std = train_data.std(axis = 0)\n",
    "train_data /= std # rescale\n",
    "test_data -= mean\n",
    "test_data /= std"
   ]
  },
  {
   "cell_type": "markdown",
   "metadata": {
    "id": "ynWYwJg7FCKR"
   },
   "source": [
    "#### Note\n",
    "\n",
    "Can you make the function below more modular? You could modify it so that it accepts arguments changing the architecture of the network, and other hyperparameters."
   ]
  },
  {
   "cell_type": "code",
   "execution_count": null,
   "metadata": {
    "id": "g_5i-iAKFCKR"
   },
   "outputs": [],
   "source": [
    "def build_model(clear=True):\n",
    "    if clear:\n",
    "        tf.keras.backend.clear_session()\n",
    "    model = tf.keras.models.Sequential()\n",
    "    model.add(tf.keras.Input((train_data.shape[1],)))\n",
    "    model.add(tf.keras.layers.Dense(64, activation = 'relu'))\n",
    "    model.add(tf.keras.layers.Dense(64, activation = 'relu'))\n",
    "    model.add(tf.keras.layers.Dense(1))\n",
    "    model.compile(\n",
    "        optimizer='rmsprop',\n",
    "        loss='mse',\n",
    "        metrics=['mae']\n",
    "    )\n",
    "    return model"
   ]
  },
  {
   "cell_type": "code",
   "execution_count": null,
   "metadata": {
    "id": "bOCOzAjOzNqC",
    "tags": []
   },
   "outputs": [],
   "source": [
    "class CustomCallback(tf.keras.callbacks.Callback):\n",
    "    def __init__(self, epochs):\n",
    "        super(tf.keras.callbacks.Callback, self).__init__()\n",
    "        self.epochs = epochs\n",
    "    def on_epoch_begin(self, epoch, logs=None):\n",
    "        c = ['|', '/', '-', '\\\\']\n",
    "        print(f\"\\r{c[epoch % 4]} epoch: {epoch+1}/{self.epochs}\", end=\"\")\n",
    "    def on_train_end(self, logs=None):\n",
    "        print()"
   ]
  },
  {
   "cell_type": "markdown",
   "metadata": {
    "id": "elBbSjUWFCKS"
   },
   "source": [
    "The K-fold algorithm:"
   ]
  },
  {
   "cell_type": "code",
   "execution_count": null,
   "metadata": {
    "colab": {
     "base_uri": "https://localhost:8080/",
     "height": 400
    },
    "id": "2cubqyRFzNqG",
    "outputId": "166d813c-4428-462d-edac-143ceb09f7de"
   },
   "outputs": [],
   "source": [
    "K = 4\n",
    "num_val_samples = len(train_data) // K\n",
    "num_epochs = 500\n",
    "all_mae_histories = []\n",
    "for i in range(K):\n",
    "    print('processing fold', i)\n",
    "\n",
    "    # Prepare the validation data: data from partition i\n",
    "    a, b = i * num_val_samples, (i + 1) * num_val_samples\n",
    "    val_data = train_data[a : b]\n",
    "    val_targets = train_targets[a : b]\n",
    "\n",
    "    # Prepare the training data: data from all other partitions\n",
    "    partial_train_data = np.concatenate([train_data[:a], train_data[b:]], axis=0)\n",
    "    partial_train_targets = np.concatenate([train_targets[:a], train_targets[b:]], axis=0)\n",
    "\n",
    "    # Build the Keras model (already compiled)\n",
    "    model = build_model()\n",
    "\n",
    "    # Train the model (in silent mode, verbose=0)\n",
    "    history = model.fit(\n",
    "        partial_train_data,\n",
    "        partial_train_targets,\n",
    "        validation_data=(val_data, val_targets),\n",
    "        epochs=num_epochs, batch_size=1, verbose=0,\n",
    "        callbacks=[CustomCallback(num_epochs)]\n",
    "    )\n",
    "\n",
    "    mae_history = history.history['val_mae']\n",
    "    all_mae_histories.append(mae_history)"
   ]
  },
  {
   "cell_type": "markdown",
   "metadata": {
    "id": "aZ5Fp--7FCKS"
   },
   "source": [
    "### Visualise your results\n",
    "\n",
    "Can you think of a way to automate the visualisation once the training is done? This would mean encapsulating the plotting code into a function, and calling it once the K-fold loop is done."
   ]
  },
  {
   "cell_type": "code",
   "execution_count": null,
   "metadata": {
    "id": "7dNFOVfdzNqJ"
   },
   "outputs": [],
   "source": [
    "average_mae_history = np.array(all_mae_histories).mean(axis=0)\n",
    "plt.plot(range(1, len(average_mae_history) + 1), average_mae_history)\n",
    "plt.xlabel('Epochs')\n",
    "plt.ylabel('Validation MAE')\n",
    "plt.show()"
   ]
  },
  {
   "cell_type": "code",
   "execution_count": null,
   "metadata": {
    "id": "8I58FoiazNqM"
   },
   "outputs": [],
   "source": [
    "def smooth_curve(points, beta = 0.9):       # beta must be between 0 and 1!\n",
    "    smoothed_points = []\n",
    "    for current in points:\n",
    "        if smoothed_points:                 # (an nonempty list is 'True')\n",
    "            previous = smoothed_points[-1]  # the last appended point\n",
    "                                            # ↓ a weighted sum of previous & point, controlled by beta\n",
    "            smoothed_points.append(beta * previous + (1 - beta) * current)\n",
    "        else:\n",
    "            smoothed_points.append(current) # at the start, the list is empty, we just add the first point\n",
    "    return smoothed_points"
   ]
  },
  {
   "cell_type": "code",
   "execution_count": null,
   "metadata": {
    "id": "7IaEOcb8zNqO"
   },
   "outputs": [],
   "source": [
    "smooth_mae_history = smooth_curve(average_mae_history[10:])\n",
    "plt.plot(range(1, len(smooth_mae_history) + 1), smooth_mae_history)\n",
    "plt.xlabel('Epochs')\n",
    "plt.ylabel('Validation MAE')\n",
    "plt.show()"
   ]
  },
  {
   "cell_type": "markdown",
   "metadata": {
    "id": "oV50wyjqLd6v"
   },
   "source": [
    "### Experiments\n",
    "\n",
    "- Run k-fold validation on the California dataset;\n",
    "- Notice that the mini-batch size is set to 1. Experiment with different mini-batch sizes. What do you observe? Can you account for your observation?\n",
    "- Run a series of experiments to find the best model, like in previous labs.\n",
    "\n",
    "The obvious thing to be done here is to compare the results between the small random subset and the full dataset, if you were to train models on it (don't forget to split into train, validation and test sets when you work on the full data!). Varying the size of the test set could also be of interest."
   ]
  },
  {
   "cell_type": "markdown",
   "metadata": {
    "id": "cfwCUU0uIMEP"
   },
   "source": [
    "### 2. Conclusion\n",
    "\n",
    "Retrain the best model (with the same hyperparameters on the entire the training data (`train_data` and `train_targets`) and evaluate on the test data (`test_data`, `test_targets`)."
   ]
  },
  {
   "cell_type": "code",
   "execution_count": null,
   "metadata": {
    "id": "aIW2NMUGIMEP"
   },
   "outputs": [],
   "source": []
  },
  {
   "cell_type": "markdown",
   "metadata": {
    "id": "RPLEO30ODyQg"
   },
   "source": [
    "---"
   ]
  },
  {
   "cell_type": "markdown",
   "metadata": {
    "id": "SJMH6z9GLcgt"
   },
   "source": [
    "## Method 2: Manual Download\n"
   ]
  },
  {
   "cell_type": "markdown",
   "metadata": {
    "id": "LRmlPyG4IBS1"
   },
   "source": [
    "\n",
    "[California Housing](https://www.dcc.fc.up.pt/~ltorgo/Regression/cal_housing.html), original website. (Also available on [Kaggle](https://www.kaggle.com/datasets/camnugent/california-housing-prices).)\n",
    "\n",
    "### 1. Download\n",
    "\n",
    "The terminal commands to download it. (Add a `!` in front of them to use them from Jupyter or Colab.)\n",
    "\n",
    "```bash\n",
    "wget https://www.dcc.fc.up.pt/~ltorgo/Regression/cal_housing.tgz\n",
    "tar -xvf cal_housing.tgz\n",
    "```"
   ]
  },
  {
   "cell_type": "code",
   "execution_count": null,
   "metadata": {
    "id": "XAeSnHizDyQg"
   },
   "outputs": [],
   "source": []
  },
  {
   "cell_type": "markdown",
   "metadata": {
    "id": "xjj3dR2xDyQg"
   },
   "source": [
    "### 2. Load the data\n",
    "\n",
    "Use the name of the file `cal_housing.data` to:\n",
    "- open it\n",
    "- read the lines\n",
    "- strip the final newline `\\n`\n",
    "- split on commas\n",
    "- turn the data into a numpy array, casting it as floats\n",
    "\n",
    "#### Note\n",
    "\n",
    "You can see the features by loading `cal_housing.domain`, read its lines, and print its contents."
   ]
  },
  {
   "cell_type": "code",
   "execution_count": null,
   "metadata": {
    "id": "flVUBl9uDyQg"
   },
   "outputs": [],
   "source": []
  },
  {
   "cell_type": "markdown",
   "metadata": {
    "id": "8e5EjEmJDyQh"
   },
   "source": [
    "### 3. Separate the features and the targets\n",
    "\n",
    "The price is the last feature, so you need to use NumPy to slice all the `targets` in the last dimension, and the rest of the `features` in another array."
   ]
  },
  {
   "cell_type": "code",
   "execution_count": null,
   "metadata": {
    "id": "lFXwQ9G-DyQh"
   },
   "outputs": [],
   "source": []
  },
  {
   "cell_type": "markdown",
   "metadata": {
    "id": "nC-zUspdDyQh"
   },
   "source": [
    "### 4. Scale the prices to a more manageable range\n",
    "\n",
    "You can print the `min()` and the `max()` of your `targets` to see the kind of range we are dealing with.\n",
    "\n",
    "Then a division by `100000` will give us similar numbers to the Boston Housing Dataset (and the `scikit-learn` version, as above).\n",
    "\n",
    "Once you have your reduced targets, you may want to print again the `min()` and the `max()` as a sanity check.\n"
   ]
  },
  {
   "cell_type": "code",
   "execution_count": null,
   "metadata": {
    "id": "g46-rbBZDyQh"
   },
   "outputs": [],
   "source": []
  },
  {
   "cell_type": "markdown",
   "metadata": {
    "id": "bM_Iu278DyQh"
   },
   "source": [
    "### 5. Reduce the dataset to Boston Housing size, or split your data into train and test\n",
    "\n",
    "Use `.shape` on your `features` (and/or `targets`) to check how many samples this dataset has.\n",
    "\n",
    "Either use random indices as above to select only 504 samples, or train normally, but splitting into train and test sets.\n",
    "\n",
    "Slice both `features` and `targets` to obtain `train_data`, `test_data`, and `train_targets`, `test_targets` respectively.\n",
    "\n",
    "This is actually a potential subject of experiment. You could slice it roughly in the middle, or have more in your training than your testing set.\n",
    "\n",
    "As a sanity check, your shapes should look like this:\n",
    "```\n",
    "# n_train: number of training samples\n",
    "# n_train: number of testing samples\n",
    "train_data (n_train, 8)\n",
    "train_targets (n_train,)\n",
    "test_data (n_test, 8)\n",
    "test_targets (n_test,)\n",
    "```"
   ]
  },
  {
   "cell_type": "code",
   "execution_count": null,
   "metadata": {
    "id": "XFpKpHYZDyQh"
   },
   "outputs": [],
   "source": []
  },
  {
   "cell_type": "markdown",
   "metadata": {
    "id": "1BwauS6YDyQh"
   },
   "source": [
    "### 6. Normalisation/scaling\n",
    "\n",
    "Use the mean and standard deviation of the **train data** to normalise it, and apply the same transform to test data, exactly as above with the Boston Housing Dataset."
   ]
  },
  {
   "cell_type": "code",
   "execution_count": null,
   "metadata": {
    "id": "-s8FLct8DyQh"
   },
   "outputs": [],
   "source": []
  },
  {
   "cell_type": "markdown",
   "metadata": {
    "id": "E7wvRPCCDyQi"
   },
   "source": [
    "### 7. Everything is now set up for training\n",
    "\n",
    "The rest of the procedure (define the model, train, plot) is now the same.\n",
    "\n",
    "#### Note\n",
    "\n",
    "This dataset is not small like the Boston Housing Dataset, so you may find that it's taking too long to do many epochs with K-fold given the compute you have. This doesn't matter *too* much, the important thing is to understand the K-fold logic."
   ]
  },
  {
   "cell_type": "code",
   "execution_count": null,
   "metadata": {
    "id": "X1kyCcaADyQi"
   },
   "outputs": [],
   "source": []
  },
  {
   "cell_type": "markdown",
   "metadata": {
    "id": "gtOLngZXDyQi",
    "tags": []
   },
   "source": [
    "### Experiments\n",
    "\n",
    "The obvious thing to be done here is to compare the results between the small random subset and the full dataset. Varying the size of the test set could also be of interesting!"
   ]
  },
  {
   "cell_type": "code",
   "execution_count": null,
   "metadata": {
    "id": "vnRx7UKTDyQi"
   },
   "outputs": [],
   "source": []
  },
  {
   "cell_type": "markdown",
   "metadata": {
    "id": "hmGGVwnaDyQi"
   },
   "source": [
    "### 8. Conclusion\n",
    "\n",
    "Don't forget to retrain on the entire training set using the best hyperparamemters, and evaluate your model on the test set."
   ]
  },
  {
   "cell_type": "code",
   "execution_count": null,
   "metadata": {
    "id": "E1V5AkAyDyQi"
   },
   "outputs": [],
   "source": []
  },
  {
   "cell_type": "markdown",
   "metadata": {
    "id": "CtyRXlyPDyQi",
    "jp-MarkdownHeadingCollapsed": true,
    "tags": []
   },
   "source": [
    "## Visualisations\n",
    "\n",
    "Three examples of how people use visualisations for this dataset:\n",
    "- [California Housing Modelling and Map Visualisation](https://www.kaggle.com/code/qixuan/california-housing-modelling-and-map-visualisation)\n",
    "- [California Housing Prices: EDA and Visualization](https://www.kaggle.com/code/ujwalkandi/california-housing-prices-eda-and-visualization)\n",
    "- [The California housing dataset](https://inria.github.io/scikit-learn-mooc/python_scripts/datasets_california_housing.html)"
   ]
  }
 ],
 "metadata": {
  "colab": {
   "provenance": []
  },
  "gpuClass": "standard",
  "kernelspec": {
   "display_name": "Python 3 (ipykernel)",
   "language": "python",
   "name": "python3"
  },
  "language_info": {
   "codemirror_mode": {
    "name": "ipython",
    "version": 3
   },
   "file_extension": ".py",
   "mimetype": "text/x-python",
   "name": "python",
   "nbconvert_exporter": "python",
   "pygments_lexer": "ipython3",
   "version": "3.9.18"
  }
 },
 "nbformat": 4,
 "nbformat_minor": 4
}
