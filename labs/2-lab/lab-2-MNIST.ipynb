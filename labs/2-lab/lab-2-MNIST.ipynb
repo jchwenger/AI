{
 "cells": [
  {
   "cell_type": "markdown",
   "metadata": {},
   "source": [
    "# The MNIST Dataset"
   ]
  },
  {
   "cell_type": "markdown",
   "metadata": {},
   "source": [
    "Remember that you can connect this notebook to a Google drive using this piece of code:\n",
    "\n",
    "```python\n",
    "from google.colab import drive\n",
    "drive.mount('/content/drive')\n",
    "```\n",
    "\n",
    "Then you can `import os` and use `os.listdir()`, `os.mkdir()` and `os.chdir()` to point the notebook to the directory you want ([tutorial](https://www.geeksforgeeks.org/os-module-python-examples/))."
   ]
  },
  {
   "cell_type": "markdown",
   "metadata": {},
   "source": [
    "---"
   ]
  },
  {
   "cell_type": "markdown",
   "metadata": {},
   "source": [
    "## 1. Theory"
   ]
  },
  {
   "cell_type": "markdown",
   "metadata": {},
   "source": [
    "Make sure you understand the second video of 3Blue1Brown's introduction to neural nets, and ask questions if there's anything unclear."
   ]
  },
  {
   "cell_type": "code",
   "execution_count": null,
   "metadata": {
    "scrolled": true
   },
   "outputs": [],
   "source": [
    "from IPython.display import YouTubeVideo\n",
    "YouTubeVideo('IHZwWFHWa-w', width=853, height=480) # 3Blue1Brown 2"
   ]
  },
  {
   "cell_type": "markdown",
   "metadata": {},
   "source": [
    "---"
   ]
  },
  {
   "cell_type": "markdown",
   "metadata": {},
   "source": [
    "## 2. Hello world"
   ]
  },
  {
   "cell_type": "markdown",
   "metadata": {},
   "source": [
    "Let's import TensorFlow."
   ]
  },
  {
   "cell_type": "code",
   "execution_count": null,
   "metadata": {},
   "outputs": [],
   "source": [
    "import tensorflow as tf"
   ]
  },
  {
   "cell_type": "markdown",
   "metadata": {},
   "source": [
    "Let's do some preprocessing first."
   ]
  },
  {
   "cell_type": "code",
   "execution_count": null,
   "metadata": {},
   "outputs": [],
   "source": [
    "# MNIST\n",
    "\n",
    "# load\n",
    "(train_images, train_labels), (test_images, test_labels) = tf.keras.datasets.mnist.load_data()\n",
    "\n",
    "# preprocess\n",
    "train_images = train_images.reshape((60000, 28 * 28))\n",
    "train_images = train_images.astype('float32') / 255\n",
    "test_images = test_images.reshape((10000, 28 * 28))\n",
    "test_images = test_images.astype('float32') / 255\n",
    "\n",
    "train_labels_one_hot = tf.keras.utils.to_categorical(train_labels)\n",
    "test_labels_one_hot = tf.keras.utils.to_categorical(test_labels)"
   ]
  },
  {
   "cell_type": "markdown",
   "metadata": {},
   "source": [
    "Our labels are now encoded as one-hot vectors (a one at the index of the correct class).\n",
    "\n",
    "To see that, try and print out the label at the same index in `train_labels` and `train_labels_one_hot`."
   ]
  },
  {
   "cell_type": "code",
   "execution_count": null,
   "metadata": {},
   "outputs": [],
   "source": []
  },
  {
   "cell_type": "code",
   "execution_count": null,
   "metadata": {},
   "outputs": [],
   "source": [
    "# build\n",
    "model = tf.keras.models.Sequential()\n",
    "model.add(tf.keras.Input((28 * 28,)))\n",
    "model.add(tf.keras.layers.Dense(12, activation='relu'))\n",
    "model.add(tf.keras.layers.Dense(10, activation='softmax'))\n",
    "model.compile(\n",
    "    optimizer='rmsprop',\n",
    "    loss='categorical_crossentropy', \n",
    "    metrics=['accuracy']\n",
    ")"
   ]
  },
  {
   "cell_type": "markdown",
   "metadata": {},
   "source": [
    "How does our 'raw' model perform on our test set?\n",
    "\n",
    "Apply the network's `.evaluate()` method to `test_images` and `test_labels_one_hot`, collect the result into `test_loss` and `test_acc`, and see how well your network performs."
   ]
  },
  {
   "cell_type": "code",
   "execution_count": null,
   "metadata": {},
   "outputs": [],
   "source": []
  },
  {
   "cell_type": "markdown",
   "metadata": {},
   "source": [
    "Now we can train the model."
   ]
  },
  {
   "cell_type": "code",
   "execution_count": null,
   "metadata": {},
   "outputs": [],
   "source": [
    "# train\n",
    "model.fit(\n",
    "    train_images,\n",
    "    train_labels_one_hot,\n",
    "    epochs=5,\n",
    "    batch_size=128\n",
    ")"
   ]
  },
  {
   "cell_type": "markdown",
   "metadata": {},
   "source": [
    "Now apply the network's `.evaluate()` method again to `test_images` and `test_labels_one_hot`. Any change?"
   ]
  },
  {
   "cell_type": "code",
   "execution_count": null,
   "metadata": {},
   "outputs": [],
   "source": []
  },
  {
   "cell_type": "markdown",
   "metadata": {},
   "source": [
    "## 3. Research"
   ]
  },
  {
   "cell_type": "markdown",
   "metadata": {},
   "source": [
    "- Add a text cell and comment on network training and test accuracy;\n",
    "- Train for 20 epochs and evaluate. Comment on your findings;\n",
    "- The first layer transforms the 784-element image vector to a 12-dimensional intermediate representation:  \n",
    "  - Experiment with different intermediate dimensions (for instance: what is the smallest number of units needed to reach 100% accuracy in 5 epochs? In 20 epochs?); \n",
    "  - Make a markdown table of network performance on the test set for varying intermediate dimension. \n",
    "  - Comment on your results;\n",
    "- Replace network compilation with:\n",
    "  ```python\n",
    "  model.compile(\n",
    "      optimizer=tf.keras.optimizers.RMSprop(learning_rate=0.001, momentum=0.0),\n",
    "      loss='categorical_crossentropy',\n",
    "      metrics=['accuracy']\n",
    "  )\n",
    "  ```\n",
    "  \n",
    "  The code is exactly equivalent, but we are now able to adjust learning rate and momentum. `learning_rate=0.001` is the default value: experiment with different learning rates. Tabulate your results and interpret.\n",
    "- Experiment with different momentums. Tabulate and interpret."
   ]
  },
  {
   "cell_type": "markdown",
   "metadata": {},
   "source": [
    "### Two playgrounds to keep in mind"
   ]
  },
  {
   "cell_type": "markdown",
   "metadata": {},
   "source": [
    "- [TensorFlow playground](https://playground.tensorflow.org/#activation=tanh&batchSize=10&dataset=circle&regDataset=reg-plane&learningRate=0.03&regularizationRate=0&noise=0&networkShape=4,2&seed=0.29184&showTestData=false&discretize=false&percTrainData=50&x=true&y=true&xTimesY=false&xSquared=false&ySquared=false&cosX=false&sinX=false&cosY=false&sinY=false&collectStats=false&problem=classification&initZero=false&hideText=false)\n",
    "- [Why Momentum Really Works](https://distill.pub/2017/momentum/)"
   ]
  },
  {
   "cell_type": "markdown",
   "metadata": {},
   "source": [
    "---"
   ]
  },
  {
   "cell_type": "markdown",
   "metadata": {},
   "source": [
    "## 4. Extra: use your model"
   ]
  },
  {
   "cell_type": "markdown",
   "metadata": {},
   "source": [
    "Can you select an image from the training set, display it using `plt.imshow()` (you need to do `import matplotlib as plt` before that)?\n",
    "\n",
    "Can you then use the same image (don't forget it should be of shape [1, 784], the 1 being the batch size), pass it to `model.predict()`, collect the predictions, and find which class was predicted using the `.argmax()` method? Note again the shape of the prediction tensor: it contains a batch dimension at the front!\n",
    "\n",
    "Try with different images, or even take a picture of a number you've drawn, open it in Python, resize it to 28x28 (using pillow for instance), and try the network on it!."
   ]
  },
  {
   "cell_type": "code",
   "execution_count": null,
   "metadata": {},
   "outputs": [],
   "source": []
  },
  {
   "cell_type": "markdown",
   "metadata": {},
   "source": [
    "---"
   ]
  },
  {
   "cell_type": "markdown",
   "metadata": {},
   "source": [
    "## 5. Saving/Reloading"
   ]
  },
  {
   "cell_type": "markdown",
   "metadata": {},
   "source": [
    "You can save and reload your model like so:\n",
    "\n",
    "```python\n",
    "model.save(\"dense.mnist.keras\")\n",
    "network_reloaded = tf.keras.models.load_model(\"dense.mnist.keras\")\n",
    "```"
   ]
  },
  {
   "cell_type": "code",
   "execution_count": null,
   "metadata": {},
   "outputs": [],
   "source": []
  },
  {
   "cell_type": "markdown",
   "metadata": {},
   "source": [
    "It is possible to call `fit()` on the loaded model and continue training.\n",
    "\n",
    "```python\n",
    "network_reloaded.fit(train_images, train_labels_one_hot, epochs=5, batch_size=128)\n",
    "```"
   ]
  },
  {
   "cell_type": "code",
   "execution_count": null,
   "metadata": {},
   "outputs": [],
   "source": []
  },
  {
   "cell_type": "markdown",
   "metadata": {},
   "source": [
    "---"
   ]
  },
  {
   "cell_type": "markdown",
   "metadata": {},
   "source": [
    "## Reminder"
   ]
  },
  {
   "cell_type": "markdown",
   "metadata": {},
   "source": [
    "Check out the numerical dojo if you haven't done so:\n",
    "- #### [`1.first-steps-tensorflow.ipynb`](https://github.com/jchwenger/AI/blob/main/labs/1-lab/1.first-steps-tensorflow.ipynb)\n",
    "- #### [`1.first-steps-tensorflow.QUIZ.ipynb`](https://github.com/jchwenger/AI/blob/main/labs/1-lab/1.first-steps-tensorflow.QUIZ.ipynb)"
   ]
  }
 ],
 "metadata": {
  "kernelspec": {
   "display_name": "Python 3 (ipykernel)",
   "language": "python",
   "name": "python3"
  },
  "language_info": {
   "codemirror_mode": {
    "name": "ipython",
    "version": 3
   },
   "file_extension": ".py",
   "mimetype": "text/x-python",
   "name": "python",
   "nbconvert_exporter": "python",
   "pygments_lexer": "ipython3",
   "version": "3.12.6"
  }
 },
 "nbformat": 4,
 "nbformat_minor": 4
}
