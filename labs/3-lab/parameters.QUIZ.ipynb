{
 "cells": [
  {
   "cell_type": "markdown",
   "id": "3e044249-ebbf-4c3a-b367-7551ab1483c0",
   "metadata": {},
   "source": [
    "# Layer parameters Quiz!\n",
    "\n",
    "Idea and functionality taken from the [einops](https://github.com/arogozhnikov/einops/blob/main/docs/2-einops-for-deep-learning.ipynb) tutorials."
   ]
  },
  {
   "cell_type": "code",
   "execution_count": 91,
   "id": "d3033eb9-71d8-4aa2-8439-7092d0eec488",
   "metadata": {},
   "outputs": [],
   "source": [
    "from IPython.display import display_html\n",
    "\n",
    "_style_inline = \"\"\"<style>\n",
    ".conv-answer {\n",
    "    color: transparent;\n",
    "    padding: 5px 15px;\n",
    "    background-color: lightgray;\n",
    "}\n",
    ".conv-answer:hover { color: fuchsia; }\n",
    "</style>\n",
    "\"\"\"\n",
    "\n",
    "\n",
    "def guess(x):\n",
    "    if len(x) == 2:\n",
    "        w, b = x\n",
    "        answ = f\"<pre>Answer: <br><br> 1) <span class='conv-answer'>{w.shape}</span> <br><br> 2) <span class='conv-answer'>{w.shape[0]:,} * {w.shape[1]:,} + {b.shape[0]:,} = {w.shape[0] * w.shape[1] + b.shape[0]:,} </span> (hover to see)</pre>\"\n",
    "    else:\n",
    "        w = x[0]\n",
    "        answ = answ = f\"<pre>Answer: <br><br> 1) <span class='conv-answer'>{w.shape}</span> <br><br> 2) <span class='conv-answer'>{w.shape[0]:,} * {w.shape[1]:,} = {w.shape[0] * w.shape[1]:,} </span> (hover to see)</pre>\"\n",
    "    display_html(_style_inline + answ,raw=True,)"
   ]
  },
  {
   "cell_type": "code",
   "execution_count": 3,
   "id": "38587990-fa84-45b7-acb1-f061b6d3a5d5",
   "metadata": {},
   "outputs": [],
   "source": [
    "import random\n",
    "import tensorflow as tf"
   ]
  },
  {
   "cell_type": "code",
   "execution_count": 96,
   "id": "22821223-7a12-4d9a-81a8-af9e81efe22b",
   "metadata": {},
   "outputs": [],
   "source": [
    "def random_model():\n",
    "    input_shape = random.choice(range(1000, 10_000, 1000))\n",
    "    hidden_units = 2**random.randint(2,6)\n",
    "    use_bias = bool(random.randint(0,1))\n",
    "    \n",
    "    model = tf.keras.models.Sequential()\n",
    "    model.add(tf.keras.Input((input_shape,)))\n",
    "    model.add(tf.keras.layers.Dense(hidden_units, activation=\"relu\", use_bias=use_bias))\n",
    "    model.add(tf.keras.layers.Dense(1, activation=\"sigmoid\"))\n",
    "    print(f\"\"\"\n",
    "model = tf.keras.models.Sequential()\n",
    "model.add(tf.keras.Input(({input_shape},)))\n",
    "model.add(tf.keras.layers.Dense({hidden_units}, activation=\"relu\", use_bias={use_bias})) # | ← L1\n",
    "model.add(tf.keras.layers.Dense(1, activation=\"sigmoid\"))\n",
    "model.summary()\n",
    "    \"\"\")\n",
    "    print(\"Consider layer L1:\")\n",
    "    print(\" 1) What is the shape of its weight matrix?\")\n",
    "    print(\" 2) How many parameters (weights & biases) does this layer have in total?\")\n",
    "    print()\n",
    "    print(\"(Copy the above code and run it if you want to check this.)\")\n",
    "    print()\n",
    "\n",
    "    return model.layers[0].weights"
   ]
  },
  {
   "cell_type": "markdown",
   "id": "211e70b2-6a4a-4aee-bef8-2ab14a239943",
   "metadata": {},
   "source": [
    "## The Quiz\n",
    "\n",
    "Rerun for a new set-up, hover to see the answer."
   ]
  },
  {
   "cell_type": "code",
   "execution_count": 97,
   "id": "36d74461-4744-4a10-8ef9-45eb090dabc2",
   "metadata": {},
   "outputs": [
    {
     "name": "stdout",
     "output_type": "stream",
     "text": [
      "\n",
      "model = tf.keras.models.Sequential()\n",
      "model.add(tf.keras.Input((3000,)))\n",
      "model.add(tf.keras.layers.Dense(4, activation=\"relu\", use_bias=True)) # | ← L1\n",
      "model.add(tf.keras.layers.Dense(1, activation=\"sigmoid\"))\n",
      "model.summary()\n",
      "    \n",
      "Consider layer L1:\n",
      " 1) What is the shape of its weight matrix?\n",
      " 2) How many parameters (weights & biases) does this layer have in total?\n",
      "\n",
      "(Copy the above code and run it if you want to check this.)\n",
      "\n"
     ]
    },
    {
     "data": {
      "text/html": [
       "<style>\n",
       ".conv-answer {\n",
       "    color: transparent;\n",
       "    padding: 5px 15px;\n",
       "    background-color: lightgray;\n",
       "}\n",
       ".conv-answer:hover { color: fuchsia; }\n",
       "</style>\n",
       "<pre>Answer: <br><br> 1) <span class='conv-answer'>(3000, 4)</span> <br><br> 2) <span class='conv-answer'>3,000 * 4 + 4 = 12,004 </span> (hover to see)</pre>"
      ]
     },
     "metadata": {},
     "output_type": "display_data"
    }
   ],
   "source": [
    "guess(random_model())"
   ]
  }
 ],
 "metadata": {
  "kernelspec": {
   "display_name": "Python 3 (ipykernel)",
   "language": "python",
   "name": "python3"
  },
  "language_info": {
   "codemirror_mode": {
    "name": "ipython",
    "version": 3
   },
   "file_extension": ".py",
   "mimetype": "text/x-python",
   "name": "python",
   "nbconvert_exporter": "python",
   "pygments_lexer": "ipython3",
   "version": "3.12.6"
  }
 },
 "nbformat": 4,
 "nbformat_minor": 5
}
