{
 "cells": [
  {
   "cell_type": "markdown",
   "id": "3e044249-ebbf-4c3a-b367-7551ab1483c0",
   "metadata": {},
   "source": [
    "# Convolutions Quiz!\n",
    "\n",
    "Idea and functionality taken from the [einops](https://github.com/arogozhnikov/einops/blob/main/docs/2-einops-for-deep-learning.ipynb) tutorials."
   ]
  },
  {
   "cell_type": "code",
   "execution_count": 81,
   "id": "d3033eb9-71d8-4aa2-8439-7092d0eec488",
   "metadata": {},
   "outputs": [],
   "source": [
    "from IPython.display import display_html\n",
    "\n",
    "_style_inline = \"\"\"<style>\n",
    ".conv-answer {\n",
    "    color: transparent;\n",
    "    padding: 5px 15px;\n",
    "    background-color: lightgray;\n",
    "}\n",
    ".conv-answer:hover { color: fuchsia; }\n",
    "</style>\n",
    "\"\"\"\n",
    "\n",
    "\n",
    "def guess(x):\n",
    "    display_html(\n",
    "        _style_inline \n",
    "        + f\"<pre>Answer: <span class='conv-answer'>{x.shape}</span> (hover to see)</pre>\",\n",
    "        raw=True,\n",
    "    )"
   ]
  },
  {
   "cell_type": "code",
   "execution_count": 73,
   "id": "38587990-fa84-45b7-acb1-f061b6d3a5d5",
   "metadata": {},
   "outputs": [],
   "source": [
    "import random\n",
    "import tensorflow as tf"
   ]
  },
  {
   "cell_type": "code",
   "execution_count": 88,
   "id": "22821223-7a12-4d9a-81a8-af9e81efe22b",
   "metadata": {},
   "outputs": [],
   "source": [
    "def random_convolution():\n",
    "    B = random.choice([4,8,16,32,64,128])\n",
    "    WH = random.randint(12,64)\n",
    "    x = tf.random.normal((B,WH,WH,3))\n",
    "    filters = random.choice([16,32,64,128])\n",
    "    kernel_size = random.randint(2,5)\n",
    "    strides = random.randint(1,2)\n",
    "    padding = random.choice([\"valid\", \"same\"])\n",
    "    print(f\"\"\"\n",
    "x = tf.random.normal(({B},{WH},{WH},3))\n",
    "x_convolved = tf.keras.layers.Conv2D(\n",
    "    filters={filters},\n",
    "    kernel_size={kernel_size},\n",
    "    strides={strides},\n",
    "    padding=\"{padding}\"\n",
    ")(x)\n",
    "    \"\"\")    \n",
    "    print(\"What is the shape of the output (x_convolved)?\")\n",
    "    print()\n",
    "\n",
    "    return tf.keras.layers.Conv2D(\n",
    "        filters=filters,\n",
    "        kernel_size=kernel_size,\n",
    "        strides=strides,\n",
    "        padding=padding\n",
    "    )(x)"
   ]
  },
  {
   "cell_type": "markdown",
   "id": "cef4ce63-6f3c-45ec-9851-26330808aefc",
   "metadata": {},
   "source": [
    "## The Quiz\n",
    "\n",
    "Remember, the equation is:\n",
    "\n",
    "$$\n",
    "\\frac{W - K + 2*P}{S}\n",
    "$$\n",
    "\n",
    "$W$: width (or height, same if square, as in this case)  \n",
    "$K$: kernel size  \n",
    "$P$: padding (beware, `TF` only has \"valid\" and \"same\")  \n",
    "$S$: strides\n",
    "\n",
    "Rerun for a new set-up, hover to see the answer."
   ]
  },
  {
   "cell_type": "code",
   "execution_count": 89,
   "id": "b807464c-a21d-42dc-8af7-f9f79bcb1464",
   "metadata": {},
   "outputs": [
    {
     "name": "stdout",
     "output_type": "stream",
     "text": [
      "\n",
      "x = tf.random.normal((16,13,13,3))\n",
      "x_convolved = tf.keras.layers.Conv2D(\n",
      "    filters=64,\n",
      "    kernel_size=4,\n",
      "    strides=1,\n",
      "    padding=\"valid\"\n",
      ")(x)\n",
      "    \n",
      "What is the shape of the output (x_convolved)?\n",
      "\n"
     ]
    },
    {
     "data": {
      "text/html": [
       "<style>\n",
       ".conv-answer {\n",
       "    color: transparent;\n",
       "    padding: 5px 15px;\n",
       "    background-color: lightgray;\n",
       "}\n",
       ".conv-answer:hover { color: fuchsia; }\n",
       "</style>\n",
       "<pre>Answer: <span class='conv-answer'>(16, 10, 10, 64)</span> (hover to see)</pre>"
      ]
     },
     "metadata": {},
     "output_type": "display_data"
    }
   ],
   "source": [
    "guess(random_convolution())"
   ]
  }
 ],
 "metadata": {
  "kernelspec": {
   "display_name": "Python 3 (ipykernel)",
   "language": "python",
   "name": "python3"
  },
  "language_info": {
   "codemirror_mode": {
    "name": "ipython",
    "version": 3
   },
   "file_extension": ".py",
   "mimetype": "text/x-python",
   "name": "python",
   "nbconvert_exporter": "python",
   "pygments_lexer": "ipython3",
   "version": "3.9.18"
  }
 },
 "nbformat": 4,
 "nbformat_minor": 5
}
