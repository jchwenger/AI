{
 "cells": [
  {
   "cell_type": "markdown",
   "metadata": {
    "id": "orCWPlazrhZf"
   },
   "source": [
    "# Attendance\n",
    "\n",
    "[The link to SEAts](https://gold.seats.cloud/angular/#/lectures)"
   ]
  },
  {
   "cell_type": "markdown",
   "metadata": {
    "id": "sXZ0OCXKrhZg"
   },
   "source": [
    "---\n",
    "\n",
    "# 7 Working with Keras: A deep dive"
   ]
  },
  {
   "cell_type": "code",
   "execution_count": 1,
   "metadata": {
    "id": "Q5sCvnSjrhZg"
   },
   "outputs": [],
   "source": [
    "import time\n",
    "import pathlib\n",
    "\n",
    "import numpy as np\n",
    "\n",
    "import tensorflow as tf\n",
    "\n",
    "from matplotlib import pyplot as plt\n",
    "\n",
    "IMAGE_DIR = pathlib.Path(\"images\")\n",
    "IMAGE_DIR.mkdir(exist_ok=True)"
   ]
  },
  {
   "cell_type": "markdown",
   "metadata": {
    "id": "Dpq0y_ItrhZh",
    "jp-MarkdownHeadingCollapsed": true
   },
   "source": [
    "## 7.1 A spectrum of workflows"
   ]
  },
  {
   "cell_type": "markdown",
   "metadata": {
    "id": "Dpq0y_ItrhZh"
   },
   "source": [
    "The principle of *progressive disclosure of complexity*:\n",
    "\n",
    "<!-- ![Chollet spectrum](images/chollet.spectrum.p.173.png) -->\n",
    "![Chollet spectrum](https://github.com/jchwenger/AI/blob/main/7-advanced-DL-best-practices/images/chollet.spectrum.p.173.png?raw=true)\n",
    "\n",
    "<small>DLWP, p.173</small>"
   ]
  },
  {
   "cell_type": "markdown",
   "metadata": {
    "id": "FXxVZUbtrhZh"
   },
   "source": [
    "---\n",
    "\n",
    "## 7.2 Different ways to build Keras models"
   ]
  },
  {
   "cell_type": "markdown",
   "metadata": {
    "id": "bc5Ve0q_rhZh",
    "jp-MarkdownHeadingCollapsed": true
   },
   "source": [
    "### 7.2.1 The Sequential model"
   ]
  },
  {
   "cell_type": "markdown",
   "metadata": {
    "id": "bc5Ve0q_rhZh"
   },
   "source": [
    "We started this module with the `Sequential` class:"
   ]
  },
  {
   "cell_type": "code",
   "execution_count": 2,
   "metadata": {
    "id": "Dh9hpE9ArhZh"
   },
   "outputs": [],
   "source": [
    "model = tf.keras.Sequential([\n",
    "    tf.keras.layers.Dense(64, activation=\"relu\"),\n",
    "    tf.keras.layers.Dense(10, activation=\"softmax\")\n",
    "])"
   ]
  },
  {
   "cell_type": "markdown",
   "metadata": {
    "id": "6N1mRQF9rhZh"
   },
   "source": [
    "With this, we saw that we could build a Sequential model incrementally:"
   ]
  },
  {
   "cell_type": "code",
   "execution_count": 3,
   "metadata": {
    "id": "VsYbhsWjrhZh"
   },
   "outputs": [],
   "source": [
    "model = tf.keras.Sequential()\n",
    "model.add(tf.keras.layers.Dense(64, activation=\"relu\"))\n",
    "model.add(tf.keras.layers.Dense(10, activation=\"softmax\"))"
   ]
  },
  {
   "cell_type": "markdown",
   "metadata": {
    "id": "9oEdhCzjrhZh",
    "jp-MarkdownHeadingCollapsed": true
   },
   "source": [
    "#### Calling a model for the first time to build it"
   ]
  },
  {
   "cell_type": "markdown",
   "metadata": {
    "id": "9oEdhCzjrhZh"
   },
   "source": [
    "The weights of the model are not initialised yet! Trying to access them will raise an error."
   ]
  },
  {
   "cell_type": "code",
   "execution_count": 4,
   "metadata": {
    "colab": {
     "base_uri": "https://localhost:8080/"
    },
    "id": "fUDlBtVYrhZi",
    "outputId": "281a343f-e41a-481c-cb5c-e2f5e142ee15"
   },
   "outputs": [
    {
     "name": "stdout",
     "output_type": "stream",
     "text": [
      "[]\n"
     ]
    }
   ],
   "source": [
    "try:\n",
    "    print(model.weights)\n",
    "except ValueError as e:\n",
    "    print(e)"
   ]
  },
  {
   "cell_type": "markdown",
   "metadata": {
    "id": "dufV0i62rhZi"
   },
   "source": [
    "The building happens either when the model is used on data, or if `build()` is called *with the `Input` shape specified.*"
   ]
  },
  {
   "cell_type": "code",
   "execution_count": 5,
   "metadata": {
    "id": "cWd_KG-drhZi",
    "scrolled": true
   },
   "outputs": [],
   "source": [
    "try:\n",
    "    model.build()         # also an error\n",
    "except ValueError as e:\n",
    "    print(e)"
   ]
  },
  {
   "cell_type": "code",
   "execution_count": 6,
   "metadata": {
    "colab": {
     "base_uri": "https://localhost:8080/"
    },
    "id": "Wgs2OLfprhZi",
    "outputId": "d7cbf880-f1de-4167-c7ca-f12756724513",
    "tags": []
   },
   "outputs": [
    {
     "data": {
      "text/plain": [
       "[<KerasVariable shape=(3, 64), dtype=float32, path=sequential_1/dense_2/kernel>,\n",
       " <KerasVariable shape=(64,), dtype=float32, path=sequential_1/dense_2/bias>,\n",
       " <KerasVariable shape=(64, 10), dtype=float32, path=sequential_1/dense_3/kernel>,\n",
       " <KerasVariable shape=(10,), dtype=float32, path=sequential_1/dense_3/bias>]"
      ]
     },
     "execution_count": 6,
     "metadata": {},
     "output_type": "execute_result"
    }
   ],
   "source": [
    "model.build(input_shape=(None, 3)) # you must specify the input shape!\n",
    "model.weights                      # (this also happens automatically if you run data through the model!)"
   ]
  },
  {
   "cell_type": "markdown",
   "metadata": {
    "id": "7zXLx_ZorhZi",
    "jp-MarkdownHeadingCollapsed": true
   },
   "source": [
    "#### Naming models and layers with the `name` argument"
   ]
  },
  {
   "cell_type": "markdown",
   "metadata": {
    "id": "7zXLx_ZorhZi"
   },
   "source": [
    "The default behaviour will give automatic names to layers."
   ]
  },
  {
   "cell_type": "code",
   "execution_count": 7,
   "metadata": {
    "colab": {
     "base_uri": "https://localhost:8080/",
     "height": 199
    },
    "id": "Q788SeP6rhZi",
    "outputId": "d7874769-a12b-455e-b30e-72da3cff0905"
   },
   "outputs": [
    {
     "data": {
      "text/html": [
       "<pre style=\"white-space:pre;overflow-x:auto;line-height:normal;font-family:Menlo,'DejaVu Sans Mono',consolas,'Courier New',monospace\"><span style=\"font-weight: bold\">Model: \"sequential_1\"</span>\n",
       "</pre>\n"
      ],
      "text/plain": [
       "\u001b[1mModel: \"sequential_1\"\u001b[0m\n"
      ]
     },
     "metadata": {},
     "output_type": "display_data"
    },
    {
     "data": {
      "text/html": [
       "<pre style=\"white-space:pre;overflow-x:auto;line-height:normal;font-family:Menlo,'DejaVu Sans Mono',consolas,'Courier New',monospace\">┏━━━━━━━━━━━━━━━━━━━━━━━━━━━━━━━━━━━━━━┳━━━━━━━━━━━━━━━━━━━━━━━━━━━━━┳━━━━━━━━━━━━━━━━━┓\n",
       "┃<span style=\"font-weight: bold\"> Layer (type)                         </span>┃<span style=\"font-weight: bold\"> Output Shape                </span>┃<span style=\"font-weight: bold\">         Param # </span>┃\n",
       "┡━━━━━━━━━━━━━━━━━━━━━━━━━━━━━━━━━━━━━━╇━━━━━━━━━━━━━━━━━━━━━━━━━━━━━╇━━━━━━━━━━━━━━━━━┩\n",
       "│ dense_2 (<span style=\"color: #0087ff; text-decoration-color: #0087ff\">Dense</span>)                      │ (<span style=\"color: #00d7ff; text-decoration-color: #00d7ff\">None</span>, <span style=\"color: #00af00; text-decoration-color: #00af00\">64</span>)                  │             <span style=\"color: #00af00; text-decoration-color: #00af00\">256</span> │\n",
       "├──────────────────────────────────────┼─────────────────────────────┼─────────────────┤\n",
       "│ dense_3 (<span style=\"color: #0087ff; text-decoration-color: #0087ff\">Dense</span>)                      │ (<span style=\"color: #00d7ff; text-decoration-color: #00d7ff\">None</span>, <span style=\"color: #00af00; text-decoration-color: #00af00\">10</span>)                  │             <span style=\"color: #00af00; text-decoration-color: #00af00\">650</span> │\n",
       "└──────────────────────────────────────┴─────────────────────────────┴─────────────────┘\n",
       "</pre>\n"
      ],
      "text/plain": [
       "┏━━━━━━━━━━━━━━━━━━━━━━━━━━━━━━━━━━━━━━┳━━━━━━━━━━━━━━━━━━━━━━━━━━━━━┳━━━━━━━━━━━━━━━━━┓\n",
       "┃\u001b[1m \u001b[0m\u001b[1mLayer (type)                        \u001b[0m\u001b[1m \u001b[0m┃\u001b[1m \u001b[0m\u001b[1mOutput Shape               \u001b[0m\u001b[1m \u001b[0m┃\u001b[1m \u001b[0m\u001b[1m        Param #\u001b[0m\u001b[1m \u001b[0m┃\n",
       "┡━━━━━━━━━━━━━━━━━━━━━━━━━━━━━━━━━━━━━━╇━━━━━━━━━━━━━━━━━━━━━━━━━━━━━╇━━━━━━━━━━━━━━━━━┩\n",
       "│ dense_2 (\u001b[38;5;33mDense\u001b[0m)                      │ (\u001b[38;5;45mNone\u001b[0m, \u001b[38;5;34m64\u001b[0m)                  │             \u001b[38;5;34m256\u001b[0m │\n",
       "├──────────────────────────────────────┼─────────────────────────────┼─────────────────┤\n",
       "│ dense_3 (\u001b[38;5;33mDense\u001b[0m)                      │ (\u001b[38;5;45mNone\u001b[0m, \u001b[38;5;34m10\u001b[0m)                  │             \u001b[38;5;34m650\u001b[0m │\n",
       "└──────────────────────────────────────┴─────────────────────────────┴─────────────────┘\n"
      ]
     },
     "metadata": {},
     "output_type": "display_data"
    },
    {
     "data": {
      "text/html": [
       "<pre style=\"white-space:pre;overflow-x:auto;line-height:normal;font-family:Menlo,'DejaVu Sans Mono',consolas,'Courier New',monospace\"><span style=\"font-weight: bold\"> Total params: </span><span style=\"color: #00af00; text-decoration-color: #00af00\">906</span> (3.54 KB)\n",
       "</pre>\n"
      ],
      "text/plain": [
       "\u001b[1m Total params: \u001b[0m\u001b[38;5;34m906\u001b[0m (3.54 KB)\n"
      ]
     },
     "metadata": {},
     "output_type": "display_data"
    },
    {
     "data": {
      "text/html": [
       "<pre style=\"white-space:pre;overflow-x:auto;line-height:normal;font-family:Menlo,'DejaVu Sans Mono',consolas,'Courier New',monospace\"><span style=\"font-weight: bold\"> Trainable params: </span><span style=\"color: #00af00; text-decoration-color: #00af00\">906</span> (3.54 KB)\n",
       "</pre>\n"
      ],
      "text/plain": [
       "\u001b[1m Trainable params: \u001b[0m\u001b[38;5;34m906\u001b[0m (3.54 KB)\n"
      ]
     },
     "metadata": {},
     "output_type": "display_data"
    },
    {
     "data": {
      "text/html": [
       "<pre style=\"white-space:pre;overflow-x:auto;line-height:normal;font-family:Menlo,'DejaVu Sans Mono',consolas,'Courier New',monospace\"><span style=\"font-weight: bold\"> Non-trainable params: </span><span style=\"color: #00af00; text-decoration-color: #00af00\">0</span> (0.00 B)\n",
       "</pre>\n"
      ],
      "text/plain": [
       "\u001b[1m Non-trainable params: \u001b[0m\u001b[38;5;34m0\u001b[0m (0.00 B)\n"
      ]
     },
     "metadata": {},
     "output_type": "display_data"
    }
   ],
   "source": [
    "model.summary() # note the default names under Layer"
   ]
  },
  {
   "cell_type": "markdown",
   "metadata": {
    "id": "uq4EXuagrhZj"
   },
   "source": [
    "However, we can name our layers ourselves."
   ]
  },
  {
   "cell_type": "code",
   "execution_count": 8,
   "metadata": {
    "colab": {
     "base_uri": "https://localhost:8080/",
     "height": 199
    },
    "id": "BzdWwuBhrhZj",
    "outputId": "67757d94-b380-43da-f22c-312b886b2f03"
   },
   "outputs": [
    {
     "data": {
      "text/html": [
       "<pre style=\"white-space:pre;overflow-x:auto;line-height:normal;font-family:Menlo,'DejaVu Sans Mono',consolas,'Courier New',monospace\"><span style=\"font-weight: bold\">Model: \"my_example_model\"</span>\n",
       "</pre>\n"
      ],
      "text/plain": [
       "\u001b[1mModel: \"my_example_model\"\u001b[0m\n"
      ]
     },
     "metadata": {},
     "output_type": "display_data"
    },
    {
     "data": {
      "text/html": [
       "<pre style=\"white-space:pre;overflow-x:auto;line-height:normal;font-family:Menlo,'DejaVu Sans Mono',consolas,'Courier New',monospace\">┏━━━━━━━━━━━━━━━━━━━━━━━━━━━━━━━━━━━━━━┳━━━━━━━━━━━━━━━━━━━━━━━━━━━━━┳━━━━━━━━━━━━━━━━━┓\n",
       "┃<span style=\"font-weight: bold\"> Layer (type)                         </span>┃<span style=\"font-weight: bold\"> Output Shape                </span>┃<span style=\"font-weight: bold\">         Param # </span>┃\n",
       "┡━━━━━━━━━━━━━━━━━━━━━━━━━━━━━━━━━━━━━━╇━━━━━━━━━━━━━━━━━━━━━━━━━━━━━╇━━━━━━━━━━━━━━━━━┩\n",
       "│ my_first_layer (<span style=\"color: #0087ff; text-decoration-color: #0087ff\">Dense</span>)               │ (<span style=\"color: #00d7ff; text-decoration-color: #00d7ff\">None</span>, <span style=\"color: #00af00; text-decoration-color: #00af00\">64</span>)                  │             <span style=\"color: #00af00; text-decoration-color: #00af00\">256</span> │\n",
       "├──────────────────────────────────────┼─────────────────────────────┼─────────────────┤\n",
       "│ my_last_layer (<span style=\"color: #0087ff; text-decoration-color: #0087ff\">Dense</span>)                │ (<span style=\"color: #00d7ff; text-decoration-color: #00d7ff\">None</span>, <span style=\"color: #00af00; text-decoration-color: #00af00\">10</span>)                  │             <span style=\"color: #00af00; text-decoration-color: #00af00\">650</span> │\n",
       "└──────────────────────────────────────┴─────────────────────────────┴─────────────────┘\n",
       "</pre>\n"
      ],
      "text/plain": [
       "┏━━━━━━━━━━━━━━━━━━━━━━━━━━━━━━━━━━━━━━┳━━━━━━━━━━━━━━━━━━━━━━━━━━━━━┳━━━━━━━━━━━━━━━━━┓\n",
       "┃\u001b[1m \u001b[0m\u001b[1mLayer (type)                        \u001b[0m\u001b[1m \u001b[0m┃\u001b[1m \u001b[0m\u001b[1mOutput Shape               \u001b[0m\u001b[1m \u001b[0m┃\u001b[1m \u001b[0m\u001b[1m        Param #\u001b[0m\u001b[1m \u001b[0m┃\n",
       "┡━━━━━━━━━━━━━━━━━━━━━━━━━━━━━━━━━━━━━━╇━━━━━━━━━━━━━━━━━━━━━━━━━━━━━╇━━━━━━━━━━━━━━━━━┩\n",
       "│ my_first_layer (\u001b[38;5;33mDense\u001b[0m)               │ (\u001b[38;5;45mNone\u001b[0m, \u001b[38;5;34m64\u001b[0m)                  │             \u001b[38;5;34m256\u001b[0m │\n",
       "├──────────────────────────────────────┼─────────────────────────────┼─────────────────┤\n",
       "│ my_last_layer (\u001b[38;5;33mDense\u001b[0m)                │ (\u001b[38;5;45mNone\u001b[0m, \u001b[38;5;34m10\u001b[0m)                  │             \u001b[38;5;34m650\u001b[0m │\n",
       "└──────────────────────────────────────┴─────────────────────────────┴─────────────────┘\n"
      ]
     },
     "metadata": {},
     "output_type": "display_data"
    },
    {
     "data": {
      "text/html": [
       "<pre style=\"white-space:pre;overflow-x:auto;line-height:normal;font-family:Menlo,'DejaVu Sans Mono',consolas,'Courier New',monospace\"><span style=\"font-weight: bold\"> Total params: </span><span style=\"color: #00af00; text-decoration-color: #00af00\">906</span> (3.54 KB)\n",
       "</pre>\n"
      ],
      "text/plain": [
       "\u001b[1m Total params: \u001b[0m\u001b[38;5;34m906\u001b[0m (3.54 KB)\n"
      ]
     },
     "metadata": {},
     "output_type": "display_data"
    },
    {
     "data": {
      "text/html": [
       "<pre style=\"white-space:pre;overflow-x:auto;line-height:normal;font-family:Menlo,'DejaVu Sans Mono',consolas,'Courier New',monospace\"><span style=\"font-weight: bold\"> Trainable params: </span><span style=\"color: #00af00; text-decoration-color: #00af00\">906</span> (3.54 KB)\n",
       "</pre>\n"
      ],
      "text/plain": [
       "\u001b[1m Trainable params: \u001b[0m\u001b[38;5;34m906\u001b[0m (3.54 KB)\n"
      ]
     },
     "metadata": {},
     "output_type": "display_data"
    },
    {
     "data": {
      "text/html": [
       "<pre style=\"white-space:pre;overflow-x:auto;line-height:normal;font-family:Menlo,'DejaVu Sans Mono',consolas,'Courier New',monospace\"><span style=\"font-weight: bold\"> Non-trainable params: </span><span style=\"color: #00af00; text-decoration-color: #00af00\">0</span> (0.00 B)\n",
       "</pre>\n"
      ],
      "text/plain": [
       "\u001b[1m Non-trainable params: \u001b[0m\u001b[38;5;34m0\u001b[0m (0.00 B)\n"
      ]
     },
     "metadata": {},
     "output_type": "display_data"
    }
   ],
   "source": [
    "model = tf.keras.Sequential(name=\"my_example_model\")\n",
    "model.add(tf.keras.layers.Dense(64, activation=\"relu\", name=\"my_first_layer\"))\n",
    "model.add(tf.keras.layers.Dense(10, activation=\"softmax\", name=\"my_last_layer\"))\n",
    "model.build((None, 3))\n",
    "model.summary() # now summary reflects our name choices"
   ]
  },
  {
   "cell_type": "markdown",
   "metadata": {
    "id": "MttnQEEerhZj",
    "jp-MarkdownHeadingCollapsed": true
   },
   "source": [
    "#### Specifying the input shape of your model in advance"
   ]
  },
  {
   "cell_type": "markdown",
   "metadata": {
    "id": "MttnQEEerhZj"
   },
   "source": [
    "That allows us to call `build()` without argument."
   ]
  },
  {
   "cell_type": "code",
   "execution_count": 9,
   "metadata": {
    "id": "xwnGF20trhZj"
   },
   "outputs": [],
   "source": [
    "model = tf.keras.Sequential()\n",
    "model.add(tf.keras.Input(shape=(3,)))                   # our input shape is specified (not including batch size)\n",
    "model.add(tf.keras.layers.Dense(64, activation=\"relu\"))\n",
    "model.build()                                           # no error, the input shape was defined"
   ]
  },
  {
   "cell_type": "markdown",
   "metadata": {
    "id": "wsmhjwwirhZj",
    "jp-MarkdownHeadingCollapsed": true
   },
   "source": [
    "#### Summary can be called while you are building your model"
   ]
  },
  {
   "cell_type": "markdown",
   "metadata": {
    "id": "wsmhjwwirhZj"
   },
   "source": [
    "That allows you to track your progress."
   ]
  },
  {
   "cell_type": "code",
   "execution_count": 10,
   "metadata": {
    "colab": {
     "base_uri": "https://localhost:8080/",
     "height": 166
    },
    "id": "B-sTE-MKrhZj",
    "outputId": "ca98106a-5e7f-406a-e538-6875d9487961",
    "scrolled": true
   },
   "outputs": [
    {
     "data": {
      "text/html": [
       "<pre style=\"white-space:pre;overflow-x:auto;line-height:normal;font-family:Menlo,'DejaVu Sans Mono',consolas,'Courier New',monospace\"><span style=\"font-weight: bold\">Model: \"sequential_2\"</span>\n",
       "</pre>\n"
      ],
      "text/plain": [
       "\u001b[1mModel: \"sequential_2\"\u001b[0m\n"
      ]
     },
     "metadata": {},
     "output_type": "display_data"
    },
    {
     "data": {
      "text/html": [
       "<pre style=\"white-space:pre;overflow-x:auto;line-height:normal;font-family:Menlo,'DejaVu Sans Mono',consolas,'Courier New',monospace\">┏━━━━━━━━━━━━━━━━━━━━━━━━━━━━━━━━━━━━━━┳━━━━━━━━━━━━━━━━━━━━━━━━━━━━━┳━━━━━━━━━━━━━━━━━┓\n",
       "┃<span style=\"font-weight: bold\"> Layer (type)                         </span>┃<span style=\"font-weight: bold\"> Output Shape                </span>┃<span style=\"font-weight: bold\">         Param # </span>┃\n",
       "┡━━━━━━━━━━━━━━━━━━━━━━━━━━━━━━━━━━━━━━╇━━━━━━━━━━━━━━━━━━━━━━━━━━━━━╇━━━━━━━━━━━━━━━━━┩\n",
       "│ dense_4 (<span style=\"color: #0087ff; text-decoration-color: #0087ff\">Dense</span>)                      │ (<span style=\"color: #00d7ff; text-decoration-color: #00d7ff\">None</span>, <span style=\"color: #00af00; text-decoration-color: #00af00\">64</span>)                  │             <span style=\"color: #00af00; text-decoration-color: #00af00\">256</span> │\n",
       "└──────────────────────────────────────┴─────────────────────────────┴─────────────────┘\n",
       "</pre>\n"
      ],
      "text/plain": [
       "┏━━━━━━━━━━━━━━━━━━━━━━━━━━━━━━━━━━━━━━┳━━━━━━━━━━━━━━━━━━━━━━━━━━━━━┳━━━━━━━━━━━━━━━━━┓\n",
       "┃\u001b[1m \u001b[0m\u001b[1mLayer (type)                        \u001b[0m\u001b[1m \u001b[0m┃\u001b[1m \u001b[0m\u001b[1mOutput Shape               \u001b[0m\u001b[1m \u001b[0m┃\u001b[1m \u001b[0m\u001b[1m        Param #\u001b[0m\u001b[1m \u001b[0m┃\n",
       "┡━━━━━━━━━━━━━━━━━━━━━━━━━━━━━━━━━━━━━━╇━━━━━━━━━━━━━━━━━━━━━━━━━━━━━╇━━━━━━━━━━━━━━━━━┩\n",
       "│ dense_4 (\u001b[38;5;33mDense\u001b[0m)                      │ (\u001b[38;5;45mNone\u001b[0m, \u001b[38;5;34m64\u001b[0m)                  │             \u001b[38;5;34m256\u001b[0m │\n",
       "└──────────────────────────────────────┴─────────────────────────────┴─────────────────┘\n"
      ]
     },
     "metadata": {},
     "output_type": "display_data"
    },
    {
     "data": {
      "text/html": [
       "<pre style=\"white-space:pre;overflow-x:auto;line-height:normal;font-family:Menlo,'DejaVu Sans Mono',consolas,'Courier New',monospace\"><span style=\"font-weight: bold\"> Total params: </span><span style=\"color: #00af00; text-decoration-color: #00af00\">256</span> (1.00 KB)\n",
       "</pre>\n"
      ],
      "text/plain": [
       "\u001b[1m Total params: \u001b[0m\u001b[38;5;34m256\u001b[0m (1.00 KB)\n"
      ]
     },
     "metadata": {},
     "output_type": "display_data"
    },
    {
     "data": {
      "text/html": [
       "<pre style=\"white-space:pre;overflow-x:auto;line-height:normal;font-family:Menlo,'DejaVu Sans Mono',consolas,'Courier New',monospace\"><span style=\"font-weight: bold\"> Trainable params: </span><span style=\"color: #00af00; text-decoration-color: #00af00\">256</span> (1.00 KB)\n",
       "</pre>\n"
      ],
      "text/plain": [
       "\u001b[1m Trainable params: \u001b[0m\u001b[38;5;34m256\u001b[0m (1.00 KB)\n"
      ]
     },
     "metadata": {},
     "output_type": "display_data"
    },
    {
     "data": {
      "text/html": [
       "<pre style=\"white-space:pre;overflow-x:auto;line-height:normal;font-family:Menlo,'DejaVu Sans Mono',consolas,'Courier New',monospace\"><span style=\"font-weight: bold\"> Non-trainable params: </span><span style=\"color: #00af00; text-decoration-color: #00af00\">0</span> (0.00 B)\n",
       "</pre>\n"
      ],
      "text/plain": [
       "\u001b[1m Non-trainable params: \u001b[0m\u001b[38;5;34m0\u001b[0m (0.00 B)\n"
      ]
     },
     "metadata": {},
     "output_type": "display_data"
    }
   ],
   "source": [
    "model.summary()"
   ]
  },
  {
   "cell_type": "code",
   "execution_count": 11,
   "metadata": {
    "colab": {
     "base_uri": "https://localhost:8080/",
     "height": 199
    },
    "id": "3j3XJpsbrhZj",
    "outputId": "7c18aad8-1cfe-456a-f276-8080d01eaa35"
   },
   "outputs": [
    {
     "data": {
      "text/html": [
       "<pre style=\"white-space:pre;overflow-x:auto;line-height:normal;font-family:Menlo,'DejaVu Sans Mono',consolas,'Courier New',monospace\"><span style=\"font-weight: bold\">Model: \"sequential_2\"</span>\n",
       "</pre>\n"
      ],
      "text/plain": [
       "\u001b[1mModel: \"sequential_2\"\u001b[0m\n"
      ]
     },
     "metadata": {},
     "output_type": "display_data"
    },
    {
     "data": {
      "text/html": [
       "<pre style=\"white-space:pre;overflow-x:auto;line-height:normal;font-family:Menlo,'DejaVu Sans Mono',consolas,'Courier New',monospace\">┏━━━━━━━━━━━━━━━━━━━━━━━━━━━━━━━━━━━━━━┳━━━━━━━━━━━━━━━━━━━━━━━━━━━━━┳━━━━━━━━━━━━━━━━━┓\n",
       "┃<span style=\"font-weight: bold\"> Layer (type)                         </span>┃<span style=\"font-weight: bold\"> Output Shape                </span>┃<span style=\"font-weight: bold\">         Param # </span>┃\n",
       "┡━━━━━━━━━━━━━━━━━━━━━━━━━━━━━━━━━━━━━━╇━━━━━━━━━━━━━━━━━━━━━━━━━━━━━╇━━━━━━━━━━━━━━━━━┩\n",
       "│ dense_4 (<span style=\"color: #0087ff; text-decoration-color: #0087ff\">Dense</span>)                      │ (<span style=\"color: #00d7ff; text-decoration-color: #00d7ff\">None</span>, <span style=\"color: #00af00; text-decoration-color: #00af00\">64</span>)                  │             <span style=\"color: #00af00; text-decoration-color: #00af00\">256</span> │\n",
       "├──────────────────────────────────────┼─────────────────────────────┼─────────────────┤\n",
       "│ dense_5 (<span style=\"color: #0087ff; text-decoration-color: #0087ff\">Dense</span>)                      │ (<span style=\"color: #00d7ff; text-decoration-color: #00d7ff\">None</span>, <span style=\"color: #00af00; text-decoration-color: #00af00\">10</span>)                  │             <span style=\"color: #00af00; text-decoration-color: #00af00\">650</span> │\n",
       "└──────────────────────────────────────┴─────────────────────────────┴─────────────────┘\n",
       "</pre>\n"
      ],
      "text/plain": [
       "┏━━━━━━━━━━━━━━━━━━━━━━━━━━━━━━━━━━━━━━┳━━━━━━━━━━━━━━━━━━━━━━━━━━━━━┳━━━━━━━━━━━━━━━━━┓\n",
       "┃\u001b[1m \u001b[0m\u001b[1mLayer (type)                        \u001b[0m\u001b[1m \u001b[0m┃\u001b[1m \u001b[0m\u001b[1mOutput Shape               \u001b[0m\u001b[1m \u001b[0m┃\u001b[1m \u001b[0m\u001b[1m        Param #\u001b[0m\u001b[1m \u001b[0m┃\n",
       "┡━━━━━━━━━━━━━━━━━━━━━━━━━━━━━━━━━━━━━━╇━━━━━━━━━━━━━━━━━━━━━━━━━━━━━╇━━━━━━━━━━━━━━━━━┩\n",
       "│ dense_4 (\u001b[38;5;33mDense\u001b[0m)                      │ (\u001b[38;5;45mNone\u001b[0m, \u001b[38;5;34m64\u001b[0m)                  │             \u001b[38;5;34m256\u001b[0m │\n",
       "├──────────────────────────────────────┼─────────────────────────────┼─────────────────┤\n",
       "│ dense_5 (\u001b[38;5;33mDense\u001b[0m)                      │ (\u001b[38;5;45mNone\u001b[0m, \u001b[38;5;34m10\u001b[0m)                  │             \u001b[38;5;34m650\u001b[0m │\n",
       "└──────────────────────────────────────┴─────────────────────────────┴─────────────────┘\n"
      ]
     },
     "metadata": {},
     "output_type": "display_data"
    },
    {
     "data": {
      "text/html": [
       "<pre style=\"white-space:pre;overflow-x:auto;line-height:normal;font-family:Menlo,'DejaVu Sans Mono',consolas,'Courier New',monospace\"><span style=\"font-weight: bold\"> Total params: </span><span style=\"color: #00af00; text-decoration-color: #00af00\">906</span> (3.54 KB)\n",
       "</pre>\n"
      ],
      "text/plain": [
       "\u001b[1m Total params: \u001b[0m\u001b[38;5;34m906\u001b[0m (3.54 KB)\n"
      ]
     },
     "metadata": {},
     "output_type": "display_data"
    },
    {
     "data": {
      "text/html": [
       "<pre style=\"white-space:pre;overflow-x:auto;line-height:normal;font-family:Menlo,'DejaVu Sans Mono',consolas,'Courier New',monospace\"><span style=\"font-weight: bold\"> Trainable params: </span><span style=\"color: #00af00; text-decoration-color: #00af00\">906</span> (3.54 KB)\n",
       "</pre>\n"
      ],
      "text/plain": [
       "\u001b[1m Trainable params: \u001b[0m\u001b[38;5;34m906\u001b[0m (3.54 KB)\n"
      ]
     },
     "metadata": {},
     "output_type": "display_data"
    },
    {
     "data": {
      "text/html": [
       "<pre style=\"white-space:pre;overflow-x:auto;line-height:normal;font-family:Menlo,'DejaVu Sans Mono',consolas,'Courier New',monospace\"><span style=\"font-weight: bold\"> Non-trainable params: </span><span style=\"color: #00af00; text-decoration-color: #00af00\">0</span> (0.00 B)\n",
       "</pre>\n"
      ],
      "text/plain": [
       "\u001b[1m Non-trainable params: \u001b[0m\u001b[38;5;34m0\u001b[0m (0.00 B)\n"
      ]
     },
     "metadata": {},
     "output_type": "display_data"
    }
   ],
   "source": [
    "model.add(tf.keras.layers.Dense(10, activation=\"softmax\"))\n",
    "model.summary()"
   ]
  },
  {
   "cell_type": "markdown",
   "metadata": {
    "id": "x1D-y3OurhZj",
    "jp-MarkdownHeadingCollapsed": true
   },
   "source": [
    "---\n",
    "\n",
    "### 7.2.2 The Functional API"
   ]
  },
  {
   "cell_type": "markdown",
   "metadata": {
    "id": "x1D-y3OurhZj"
   },
   "source": [
    "This is the more involved, and more flexible way to define models in `Keras`. The [official tutorial](https://www.tensorflow.org/guide/keras/functional)."
   ]
  },
  {
   "cell_type": "markdown",
   "metadata": {
    "id": "x1D-y3OurhZj",
    "jp-MarkdownHeadingCollapsed": true
   },
   "source": [
    "#### A simple Functional model with two `Dense` layers"
   ]
  },
  {
   "cell_type": "code",
   "execution_count": 12,
   "metadata": {
    "id": "vX-lbl5orhZj"
   },
   "outputs": [],
   "source": [
    "inputs = tf.keras.Input(shape=(3,), name=\"my_input\")\n",
    "features = tf.keras.layers.Dense(64, activation=\"relu\")(inputs)\n",
    "outputs = tf.keras.layers.Dense(10, activation=\"softmax\")(features)\n",
    "model = tf.keras.Model(inputs=inputs, outputs=outputs)"
   ]
  },
  {
   "cell_type": "markdown",
   "metadata": {
    "id": "YvcldixarhZj"
   },
   "source": [
    "Building the model step-by-step:"
   ]
  },
  {
   "cell_type": "code",
   "execution_count": 13,
   "metadata": {
    "id": "YJEJ-nZurhZk"
   },
   "outputs": [],
   "source": [
    "inputs = tf.keras.Input(shape=(3,), name=\"my_input\") # this is a *symbolic tensor*, without data in it yet"
   ]
  },
  {
   "cell_type": "code",
   "execution_count": 14,
   "metadata": {
    "colab": {
     "base_uri": "https://localhost:8080/"
    },
    "id": "RT80xDPrrhZk",
    "outputId": "4735377c-cc6b-40ea-add8-afd5f907499d"
   },
   "outputs": [
    {
     "data": {
      "text/plain": [
       "(None, 3)"
      ]
     },
     "execution_count": 14,
     "metadata": {},
     "output_type": "execute_result"
    }
   ],
   "source": [
    "inputs.shape # will include the batch size as 'None'"
   ]
  },
  {
   "cell_type": "code",
   "execution_count": 15,
   "metadata": {
    "colab": {
     "base_uri": "https://localhost:8080/",
     "height": 35
    },
    "id": "kpDpKYO-rhZk",
    "outputId": "a2aa3424-7190-415b-bde0-99de688fdbb8",
    "scrolled": true
   },
   "outputs": [
    {
     "data": {
      "application/vnd.google.colaboratory.intrinsic+json": {
       "type": "string"
      },
      "text/plain": [
       "'float32'"
      ]
     },
     "execution_count": 15,
     "metadata": {},
     "output_type": "execute_result"
    }
   ],
   "source": [
    "inputs.dtype # the default dtype"
   ]
  },
  {
   "cell_type": "code",
   "execution_count": 16,
   "metadata": {
    "id": "GitJbJAnrhZk"
   },
   "outputs": [],
   "source": [
    "features = tf.keras.layers.Dense(64, activation=\"relu\")(inputs)"
   ]
  },
  {
   "cell_type": "code",
   "execution_count": 17,
   "metadata": {
    "colab": {
     "base_uri": "https://localhost:8080/"
    },
    "id": "dgfrVPbVrhZk",
    "outputId": "d6fc56d1-0821-4581-a82b-065048edff4c",
    "scrolled": true
   },
   "outputs": [
    {
     "data": {
      "text/plain": [
       "(None, 64)"
      ]
     },
     "execution_count": 17,
     "metadata": {},
     "output_type": "execute_result"
    }
   ],
   "source": [
    "features.shape # we can check the shape dynamically"
   ]
  },
  {
   "cell_type": "code",
   "execution_count": 18,
   "metadata": {
    "id": "kfsRBdmprhZk"
   },
   "outputs": [],
   "source": [
    "outputs = tf.keras.layers.Dense(10, activation=\"softmax\")(features)\n",
    "model = tf.keras.Model(inputs=inputs, outputs=outputs) # ← specify inputs & outputs"
   ]
  },
  {
   "cell_type": "markdown",
   "metadata": {
    "id": "0dM2YV1_rhZl"
   },
   "source": [
    "Result:"
   ]
  },
  {
   "cell_type": "code",
   "execution_count": 19,
   "metadata": {
    "colab": {
     "base_uri": "https://localhost:8080/",
     "height": 232
    },
    "id": "utJgB6bJrhZl",
    "outputId": "4f82e453-4db9-492f-bce5-8e5de0bbed4d"
   },
   "outputs": [
    {
     "data": {
      "text/html": [
       "<pre style=\"white-space:pre;overflow-x:auto;line-height:normal;font-family:Menlo,'DejaVu Sans Mono',consolas,'Courier New',monospace\"><span style=\"font-weight: bold\">Model: \"functional_5\"</span>\n",
       "</pre>\n"
      ],
      "text/plain": [
       "\u001b[1mModel: \"functional_5\"\u001b[0m\n"
      ]
     },
     "metadata": {},
     "output_type": "display_data"
    },
    {
     "data": {
      "text/html": [
       "<pre style=\"white-space:pre;overflow-x:auto;line-height:normal;font-family:Menlo,'DejaVu Sans Mono',consolas,'Courier New',monospace\">┏━━━━━━━━━━━━━━━━━━━━━━━━━━━━━━━━━━━━━━┳━━━━━━━━━━━━━━━━━━━━━━━━━━━━━┳━━━━━━━━━━━━━━━━━┓\n",
       "┃<span style=\"font-weight: bold\"> Layer (type)                         </span>┃<span style=\"font-weight: bold\"> Output Shape                </span>┃<span style=\"font-weight: bold\">         Param # </span>┃\n",
       "┡━━━━━━━━━━━━━━━━━━━━━━━━━━━━━━━━━━━━━━╇━━━━━━━━━━━━━━━━━━━━━━━━━━━━━╇━━━━━━━━━━━━━━━━━┩\n",
       "│ my_input (<span style=\"color: #0087ff; text-decoration-color: #0087ff\">InputLayer</span>)                │ (<span style=\"color: #00d7ff; text-decoration-color: #00d7ff\">None</span>, <span style=\"color: #00af00; text-decoration-color: #00af00\">3</span>)                   │               <span style=\"color: #00af00; text-decoration-color: #00af00\">0</span> │\n",
       "├──────────────────────────────────────┼─────────────────────────────┼─────────────────┤\n",
       "│ dense_8 (<span style=\"color: #0087ff; text-decoration-color: #0087ff\">Dense</span>)                      │ (<span style=\"color: #00d7ff; text-decoration-color: #00d7ff\">None</span>, <span style=\"color: #00af00; text-decoration-color: #00af00\">64</span>)                  │             <span style=\"color: #00af00; text-decoration-color: #00af00\">256</span> │\n",
       "├──────────────────────────────────────┼─────────────────────────────┼─────────────────┤\n",
       "│ dense_9 (<span style=\"color: #0087ff; text-decoration-color: #0087ff\">Dense</span>)                      │ (<span style=\"color: #00d7ff; text-decoration-color: #00d7ff\">None</span>, <span style=\"color: #00af00; text-decoration-color: #00af00\">10</span>)                  │             <span style=\"color: #00af00; text-decoration-color: #00af00\">650</span> │\n",
       "└──────────────────────────────────────┴─────────────────────────────┴─────────────────┘\n",
       "</pre>\n"
      ],
      "text/plain": [
       "┏━━━━━━━━━━━━━━━━━━━━━━━━━━━━━━━━━━━━━━┳━━━━━━━━━━━━━━━━━━━━━━━━━━━━━┳━━━━━━━━━━━━━━━━━┓\n",
       "┃\u001b[1m \u001b[0m\u001b[1mLayer (type)                        \u001b[0m\u001b[1m \u001b[0m┃\u001b[1m \u001b[0m\u001b[1mOutput Shape               \u001b[0m\u001b[1m \u001b[0m┃\u001b[1m \u001b[0m\u001b[1m        Param #\u001b[0m\u001b[1m \u001b[0m┃\n",
       "┡━━━━━━━━━━━━━━━━━━━━━━━━━━━━━━━━━━━━━━╇━━━━━━━━━━━━━━━━━━━━━━━━━━━━━╇━━━━━━━━━━━━━━━━━┩\n",
       "│ my_input (\u001b[38;5;33mInputLayer\u001b[0m)                │ (\u001b[38;5;45mNone\u001b[0m, \u001b[38;5;34m3\u001b[0m)                   │               \u001b[38;5;34m0\u001b[0m │\n",
       "├──────────────────────────────────────┼─────────────────────────────┼─────────────────┤\n",
       "│ dense_8 (\u001b[38;5;33mDense\u001b[0m)                      │ (\u001b[38;5;45mNone\u001b[0m, \u001b[38;5;34m64\u001b[0m)                  │             \u001b[38;5;34m256\u001b[0m │\n",
       "├──────────────────────────────────────┼─────────────────────────────┼─────────────────┤\n",
       "│ dense_9 (\u001b[38;5;33mDense\u001b[0m)                      │ (\u001b[38;5;45mNone\u001b[0m, \u001b[38;5;34m10\u001b[0m)                  │             \u001b[38;5;34m650\u001b[0m │\n",
       "└──────────────────────────────────────┴─────────────────────────────┴─────────────────┘\n"
      ]
     },
     "metadata": {},
     "output_type": "display_data"
    },
    {
     "data": {
      "text/html": [
       "<pre style=\"white-space:pre;overflow-x:auto;line-height:normal;font-family:Menlo,'DejaVu Sans Mono',consolas,'Courier New',monospace\"><span style=\"font-weight: bold\"> Total params: </span><span style=\"color: #00af00; text-decoration-color: #00af00\">906</span> (3.54 KB)\n",
       "</pre>\n"
      ],
      "text/plain": [
       "\u001b[1m Total params: \u001b[0m\u001b[38;5;34m906\u001b[0m (3.54 KB)\n"
      ]
     },
     "metadata": {},
     "output_type": "display_data"
    },
    {
     "data": {
      "text/html": [
       "<pre style=\"white-space:pre;overflow-x:auto;line-height:normal;font-family:Menlo,'DejaVu Sans Mono',consolas,'Courier New',monospace\"><span style=\"font-weight: bold\"> Trainable params: </span><span style=\"color: #00af00; text-decoration-color: #00af00\">906</span> (3.54 KB)\n",
       "</pre>\n"
      ],
      "text/plain": [
       "\u001b[1m Trainable params: \u001b[0m\u001b[38;5;34m906\u001b[0m (3.54 KB)\n"
      ]
     },
     "metadata": {},
     "output_type": "display_data"
    },
    {
     "data": {
      "text/html": [
       "<pre style=\"white-space:pre;overflow-x:auto;line-height:normal;font-family:Menlo,'DejaVu Sans Mono',consolas,'Courier New',monospace\"><span style=\"font-weight: bold\"> Non-trainable params: </span><span style=\"color: #00af00; text-decoration-color: #00af00\">0</span> (0.00 B)\n",
       "</pre>\n"
      ],
      "text/plain": [
       "\u001b[1m Non-trainable params: \u001b[0m\u001b[38;5;34m0\u001b[0m (0.00 B)\n"
      ]
     },
     "metadata": {},
     "output_type": "display_data"
    }
   ],
   "source": [
    "model.summary()"
   ]
  },
  {
   "cell_type": "markdown",
   "metadata": {
    "id": "LGaCog5jrhZl",
    "jp-MarkdownHeadingCollapsed": true
   },
   "source": [
    "#### An example of a multi-input, multi-output model"
   ]
  },
  {
   "cell_type": "markdown",
   "metadata": {
    "id": "LGaCog5jrhZl"
   },
   "source": [
    "The example involves ranking tickets by priority.\n",
    "\n",
    "Inputs:\n",
    "- The **title** of the ticket (text input)\n",
    "- The **text body** of the ticket (text input)\n",
    "- Any **tags** added by the user (categorical input, assumed here to be one-hot)\n",
    "\n",
    "Outputs:\n",
    "- The **priority** score of the ticket, a scalar between 0 and 1 (sigmoid output);\n",
    "- The **department** that should handle the ticket (a softmax over the set of departments)\n",
    "\n",
    "\n",
    "Note the use of the [`Concatenate`](https://www.tensorflow.org/api_docs/python/tf/keras/layers/Concatenate) layer!"
   ]
  },
  {
   "cell_type": "code",
   "execution_count": 20,
   "metadata": {
    "id": "bXDLFPx8rhZl"
   },
   "outputs": [],
   "source": [
    "vocabulary_size = 10000\n",
    "num_tags = 100\n",
    "num_departments = 4\n",
    "                                               # ↓ NAMES (useful later)\n",
    "title = tf.keras.Input(shape=(vocabulary_size,), name=\"title\")          # 1. THREE INPUTS\n",
    "text_body = tf.keras.Input(shape=(vocabulary_size,), name=\"text_body\")\n",
    "tags = tf.keras.Input(shape=(num_tags,), name=\"tags\")\n",
    "\n",
    "features = tf.keras.layers.Concatenate()([title, text_body, tags])      # 2. GRAPH: - concatenate\n",
    "features = tf.keras.layers.Dense(64, activation=\"relu\")(features)       #           - dense\n",
    "\n",
    "priority = tf.keras.layers.Dense(                                       #           - OUTPUT 1: processing `features`\n",
    "    1, activation=\"sigmoid\", name=\"priority\"\n",
    ")(features)\n",
    "\n",
    "department = tf.keras.layers.Dense(                                     #           - OUTPUT 2: also processing `features`\n",
    "    num_departments, activation=\"softmax\", name=\"department\"\n",
    ")(features)\n",
    "\n",
    "model = tf.keras.Model(                                                 # 3. MODEL DEFINITION\n",
    "    inputs=[title, text_body, tags],                                    #            - inputs\n",
    "    outputs=[priority, department]                                      #            - outputs\n",
    ")"
   ]
  },
  {
   "cell_type": "markdown",
   "metadata": {
    "id": "mfOyu-VErhZl",
    "jp-MarkdownHeadingCollapsed": true
   },
   "source": [
    "##### Training a multi-input, multi-output model"
   ]
  },
  {
   "cell_type": "markdown",
   "metadata": {
    "id": "mfOyu-VErhZl"
   },
   "source": [
    "We provide lists:\n",
    " - of losses;\n",
    " - of metrics;\n",
    " - of inputs & targets."
   ]
  },
  {
   "cell_type": "markdown",
   "metadata": {
    "id": "mfOyu-VErhZl",
    "jp-MarkdownHeadingCollapsed": true
   },
   "source": [
    "##### All in the same order/format as in the model definition"
   ]
  },
  {
   "cell_type": "code",
   "execution_count": 21,
   "metadata": {
    "colab": {
     "base_uri": "https://localhost:8080/"
    },
    "id": "Nquoxur8rhZl",
    "outputId": "b95298e2-0230-4140-f8df-c1d8e08f1485"
   },
   "outputs": [
    {
     "name": "stdout",
     "output_type": "stream",
     "text": [
      "\u001b[1m40/40\u001b[0m \u001b[32m━━━━━━━━━━━━━━━━━━━━\u001b[0m\u001b[37m\u001b[0m \u001b[1m2s\u001b[0m 4ms/step - department_accuracy: 0.3543 - loss: 38.5035 - priority_mean_absolute_error: 0.4755\n"
     ]
    },
    {
     "data": {
      "text/plain": [
       "<keras.src.callbacks.history.History at 0x7a4005ac0190>"
      ]
     },
     "execution_count": 21,
     "metadata": {},
     "output_type": "execute_result"
    }
   ],
   "source": [
    "num_samples = 1280\n",
    "\n",
    "title_data = np.random.randint(0, 2, size=(num_samples, vocabulary_size))      # INPUTS\n",
    "text_body_data = np.random.randint(0, 2, size=(num_samples, vocabulary_size))\n",
    "tags_data = np.random.randint(0, 2, size=(num_samples, num_tags))\n",
    "\n",
    "priority_data = np.random.random(size=(num_samples, 1))                        # OUTPUTS\n",
    "department_data = np.random.randint(0, 2, size=(num_samples, num_departments))\n",
    "\n",
    "model.compile(\n",
    "    optimizer=\"rmsprop\",\n",
    "    loss=[\n",
    "        \"mean_squared_error\",       # loss for output 1\n",
    "        \"categorical_crossentropy\"  # loss for output 2\n",
    "    ],\n",
    "    metrics=[\n",
    "        [\"mean_absolute_error\"],    # metrics for output 1\n",
    "        [\"accuracy\"]                # metrics for output 2\n",
    "    ],\n",
    ")\n",
    "model.fit(\n",
    "    [title_data, text_body_data, tags_data], # input data and target data\n",
    "    [priority_data, department_data],        # as specified in model definition\n",
    "    epochs=1\n",
    ")"
   ]
  },
  {
   "cell_type": "code",
   "execution_count": 22,
   "metadata": {
    "colab": {
     "base_uri": "https://localhost:8080/"
    },
    "id": "b5qJYwACrhZm",
    "outputId": "9d82d421-4724-461a-ea68-058846c47dd3"
   },
   "outputs": [
    {
     "name": "stdout",
     "output_type": "stream",
     "text": [
      "evaluating:\n",
      "\u001b[1m40/40\u001b[0m \u001b[32m━━━━━━━━━━━━━━━━━━━━\u001b[0m\u001b[37m\u001b[0m \u001b[1m1s\u001b[0m 4ms/step - department_accuracy: 0.1416 - loss: 30.7907 - priority_mean_absolute_error: 0.5173\n",
      "\n",
      "predicting:\n",
      "\u001b[1m40/40\u001b[0m \u001b[32m━━━━━━━━━━━━━━━━━━━━\u001b[0m\u001b[37m\u001b[0m \u001b[1m1s\u001b[0m 5ms/step\n"
     ]
    }
   ],
   "source": [
    "print(\"evaluating:\")\n",
    "model.evaluate(                                    # EVALUATE: the *same* as training, but without changing the net\n",
    "    [title_data, text_body_data, tags_data],       #           used to test the network e.g. on the test set\n",
    "    [priority_data, department_data]\n",
    ")\n",
    "print()\n",
    "print(\"predicting:\")\n",
    "priority_preds, department_preds = model.predict(  # PREDICT: just use the model as is (given some inputs, what\n",
    "    [title_data, text_body_data, tags_data]        #          are the model's predictions?)\n",
    ")"
   ]
  },
  {
   "cell_type": "markdown",
   "metadata": {
    "id": "th06CnZ0rhZu",
    "jp-MarkdownHeadingCollapsed": true
   },
   "source": [
    "#### Training a model by providing dicts of input & target arrays"
   ]
  },
  {
   "cell_type": "markdown",
   "metadata": {
    "id": "th06CnZ0rhZu"
   },
   "source": [
    "The same as above. This is only possible because we **named** our layers!\n",
    "\n",
    "```python\n",
    "                                               # ↓ naming the layer\n",
    "title = tf.keras.Input(shape=(vocabulary_size,), name=\"title\")\n",
    "```"
   ]
  },
  {
   "cell_type": "code",
   "execution_count": 23,
   "metadata": {
    "colab": {
     "base_uri": "https://localhost:8080/"
    },
    "id": "gClLGVwdrhZu",
    "outputId": "0469eed7-f36c-4cb4-87df-ac8a59bb2790"
   },
   "outputs": [
    {
     "name": "stdout",
     "output_type": "stream",
     "text": [
      "\u001b[1m40/40\u001b[0m \u001b[32m━━━━━━━━━━━━━━━━━━━━\u001b[0m\u001b[37m\u001b[0m \u001b[1m2s\u001b[0m 4ms/step - department_accuracy: 0.2711 - loss: 43.4293 - priority_mean_absolute_error: 0.4937\n"
     ]
    },
    {
     "data": {
      "text/plain": [
       "<keras.src.callbacks.history.History at 0x7a4005aa6920>"
      ]
     },
     "execution_count": 23,
     "metadata": {},
     "output_type": "execute_result"
    }
   ],
   "source": [
    "model.compile(\n",
    "    optimizer=\"rmsprop\",\n",
    "    loss={\n",
    "        \"priority\": \"mean_squared_error\",         # loss for output 1\n",
    "        \"department\": \"categorical_crossentropy\"  # loss for output 2\n",
    "    },\n",
    "    metrics={\n",
    "        \"priority\": [\"mean_absolute_error\"],      # metrics for output 1\n",
    "        \"department\": [\"accuracy\"]                # metrics for output 2\n",
    "    },\n",
    ")\n",
    "\n",
    "model.fit(\n",
    "    {                                             # input data\n",
    "        \"title\": title_data,\n",
    "        \"text_body\": text_body_data,\n",
    "        \"tags\": tags_data\n",
    "    },\n",
    "    {                                             # target data\n",
    "        \"priority\": priority_data,\n",
    "        \"department\": department_data\n",
    "    },\n",
    "    epochs=1,\n",
    ")"
   ]
  },
  {
   "cell_type": "code",
   "execution_count": 24,
   "metadata": {
    "colab": {
     "base_uri": "https://localhost:8080/"
    },
    "id": "sySpQzRFrhZu",
    "outputId": "03a75eb4-44fa-438d-81bb-bcccc3661e8d"
   },
   "outputs": [
    {
     "name": "stdout",
     "output_type": "stream",
     "text": [
      "evaluatiing:\n",
      "\u001b[1m40/40\u001b[0m \u001b[32m━━━━━━━━━━━━━━━━━━━━\u001b[0m\u001b[37m\u001b[0m \u001b[1m1s\u001b[0m 3ms/step - department_accuracy: 0.5770 - loss: 39.3909 - priority_mean_absolute_error: 0.5173\n",
      "\n",
      "predicting:\n",
      "\u001b[1m40/40\u001b[0m \u001b[32m━━━━━━━━━━━━━━━━━━━━\u001b[0m\u001b[37m\u001b[0m \u001b[1m0s\u001b[0m 4ms/step\n"
     ]
    }
   ],
   "source": [
    "print(\"evaluatiing:\")\n",
    "model.evaluate(\n",
    "    {                                             # input data\n",
    "        \"title\": title_data,\n",
    "        \"text_body\": text_body_data,\n",
    "        \"tags\": tags_data\n",
    "    },\n",
    "    {                                             # target data\n",
    "        \"priority\": priority_data,\n",
    "        \"department\": department_data\n",
    "    },\n",
    ")\n",
    "\n",
    "print()\n",
    "print(\"predicting:\")\n",
    "priority_preds, department_preds = model.predict(\n",
    "    {\n",
    "        \"title\": title_data,\n",
    "        \"text_body\": text_body_data,\n",
    "        \"tags\": tags_data\n",
    "    }\n",
    ")"
   ]
  },
  {
   "cell_type": "markdown",
   "metadata": {
    "id": "7A8BMuSXrhZu"
   },
   "source": [
    "#### Ignore one or more model output(s) during training"
   ]
  },
  {
   "cell_type": "markdown",
   "metadata": {
    "id": "7A8BMuSXrhZu"
   },
   "source": [
    "Use `None` in the loss like so:\n",
    "\n",
    "```python\n",
    "model.compile(\n",
    "    optimizer=\"rmsprop\",\n",
    "    loss=[\"categorical_crossentropy\", None], # second output without loss\n",
    "    metrics=[\"accuracy\"]\n",
    ")\n",
    "```\n",
    "\n",
    "Useful if you want to be able to inspect the insides of your model. Other option: train your model, then use the functional syntax to build another model that outputs the inner layers you are interested in..."
   ]
  },
  {
   "cell_type": "markdown",
   "metadata": {
    "id": "m-nWVJDprhZu",
    "jp-MarkdownHeadingCollapsed": true
   },
   "source": [
    "#### The power of the Functional API: Access to layer connectivity"
   ]
  },
  {
   "cell_type": "markdown",
   "metadata": {
    "id": "m-nWVJDprhZu"
   },
   "source": [
    "Thanks to it, we could create a more complex **graph** than the `Sequential` model.\n",
    "\n",
    "Using [`tf.keras.utils.plot_model`](https://www.tensorflow.org/api_docs/python/tf/keras/utils/plot_model) we can create a summary of the model.\n",
    "\n",
    "Default setup:"
   ]
  },
  {
   "cell_type": "code",
   "execution_count": 25,
   "metadata": {
    "colab": {
     "base_uri": "https://localhost:8080/",
     "height": 839
    },
    "id": "fpZrd4POrhZu",
    "outputId": "79656445-acab-4ba9-a288-9082bbd69c58"
   },
   "outputs": [
    {
     "data": {
      "image/png": "[encoded data removed]",
      "text/plain": [
       "<IPython.core.display.Image object>"
      ]
     },
     "execution_count": 25,
     "metadata": {},
     "output_type": "execute_result"
    }
   ],
   "source": [
    "tf.keras.utils.plot_model(model, IMAGE_DIR / \"ticket_classifier.png\")"
   ]
  },
  {
   "cell_type": "markdown",
   "metadata": {
    "id": "oYweAa4PrhZu"
   },
   "source": [
    "Displaying the shapes:"
   ]
  },
  {
   "cell_type": "code",
   "execution_count": 26,
   "metadata": {
    "colab": {
     "base_uri": "https://localhost:8080/",
     "height": 872
    },
    "id": "1NemPxSVrhZu",
    "outputId": "21970c2f-ed6a-420b-824d-3cbaf306e1e9"
   },
   "outputs": [
    {
     "data": {
      "image/png": "[encoded data removed]",
      "text/plain": [
       "<IPython.core.display.Image object>"
      ]
     },
     "execution_count": 26,
     "metadata": {},
     "output_type": "execute_result"
    }
   ],
   "source": [
    "tf.keras.utils.plot_model(model, IMAGE_DIR / \"ticket_classifier_with_shape_info.png\", show_shapes=True)"
   ]
  },
  {
   "cell_type": "markdown",
   "metadata": {
    "id": "-_VxaInHrhZu",
    "jp-MarkdownHeadingCollapsed": true
   },
   "source": [
    "#### Retrieving the inputs or outputs of a layer in a Functional model"
   ]
  },
  {
   "cell_type": "code",
   "execution_count": 27,
   "metadata": {
    "colab": {
     "base_uri": "https://localhost:8080/"
    },
    "id": "Ond0LxdjrhZv",
    "outputId": "f14bc286-24b9-47e7-e690-54069c6aae63"
   },
   "outputs": [
    {
     "data": {
      "text/plain": [
       "[<InputLayer name=title, built=True>,\n",
       " <InputLayer name=text_body, built=True>,\n",
       " <InputLayer name=tags, built=True>,\n",
       " <Concatenate name=concatenate, built=True>,\n",
       " <Dense name=dense_10, built=True>,\n",
       " <Dense name=priority, built=True>,\n",
       " <Dense name=department, built=True>]"
      ]
     },
     "execution_count": 27,
     "metadata": {},
     "output_type": "execute_result"
    }
   ],
   "source": [
    "model.layers # concatenate is the 4th layer, last common dense layer is 5th"
   ]
  },
  {
   "cell_type": "code",
   "execution_count": 28,
   "metadata": {
    "colab": {
     "base_uri": "https://localhost:8080/"
    },
    "id": "1sd5w0j7rhZv",
    "outputId": "9e2fe1d8-49f0-472d-82ea-002dc67e1912"
   },
   "outputs": [
    {
     "name": "stdout",
     "output_type": "stream",
     "text": [
      "Our concatenation layer\n",
      "=======================\n",
      "\n",
      "inputs:\n",
      "-------\n",
      "<KerasTensor shape=(None, 10000), dtype=float32, sparse=None, name=title>\n",
      "\n",
      "<KerasTensor shape=(None, 10000), dtype=float32, sparse=None, name=text_body>\n",
      "\n",
      "<KerasTensor shape=(None, 100), dtype=float32, sparse=None, name=tags>\n",
      "\n",
      "outputs:\n",
      "--------\n",
      "<KerasTensor shape=(None, 20100), dtype=float32, sparse=False, name=keras_tensor_14>\n"
     ]
    }
   ],
   "source": [
    "msg = \"Our concatenation layer\"\n",
    "print(f\"{msg}\\n{'='*len(msg)}\")\n",
    "print()\n",
    "msg = \"inputs:\"\n",
    "print(f\"{msg}\\n{'-'*len(msg)}\")\n",
    "for i in model.layers[3].input:   # DISSECTING LAYER 4: inputs\n",
    "    print(i)\n",
    "    print()\n",
    "msg = \"outputs:\"\n",
    "print(f\"{msg}\\n{'-'*len(msg)}\")\n",
    "print(model.layers[3].output)     # DISSECTING LAYER 4: only one output"
   ]
  },
  {
   "cell_type": "markdown",
   "metadata": {
    "id": "A_TPwmhQrhZv",
    "jp-MarkdownHeadingCollapsed": true
   },
   "source": [
    "#### Creating a new model by reusing intermediate layer outputs"
   ]
  },
  {
   "attachments": {},
   "cell_type": "markdown",
   "metadata": {
    "id": "A_TPwmhQrhZv"
   },
   "source": [
    "**Workflow**\n",
    "\n",
    "1. Extract intermediate features;\n",
    "2. Add a new layer / create a new output;\n",
    "3. Define a new model specifying that new output."
   ]
  },
  {
   "cell_type": "code",
   "execution_count": 29,
   "metadata": {
    "id": "F9KNzAySrhZv"
   },
   "outputs": [],
   "source": [
    "                                               # 1. Extract & reuse the features of our intermediate Dense\n",
    "features = model.layers[4].output              #    5th layer (after concatenate)\n",
    "\n",
    "                                               # 2. Create a new output\n",
    "difficulty = tf.keras.layers.Dense(3, activation=\"softmax\", name=\"difficulty\")(features)\n",
    "\n",
    "new_model = tf.keras.Model(\n",
    "    inputs=[title, text_body, tags],\n",
    "    outputs=[priority, department, difficulty] # same as before, with an additional output!\n",
    ")"
   ]
  },
  {
   "cell_type": "markdown",
   "metadata": {
    "id": "8cQcfUu7rhZv"
   },
   "source": [
    "Displaying the new topology:"
   ]
  },
  {
   "cell_type": "code",
   "execution_count": 30,
   "metadata": {
    "colab": {
     "base_uri": "https://localhost:8080/",
     "height": 584
    },
    "id": "cDOyofOhrhZv",
    "outputId": "d7144c53-001c-4b88-d556-18a62395ca4b"
   },
   "outputs": [
    {
     "data": {
      "image/png": "[encoded data removed]",
      "text/plain": [
       "<IPython.core.display.Image object>"
      ]
     },
     "execution_count": 30,
     "metadata": {},
     "output_type": "execute_result"
    }
   ],
   "source": [
    "tf.keras.utils.plot_model(new_model, IMAGE_DIR / \"updated_ticket_classifier.png\", show_shapes=True)"
   ]
  },
  {
   "cell_type": "markdown",
   "metadata": {
    "id": "K8mLO9vPrhZv",
    "jp-MarkdownHeadingCollapsed": true
   },
   "source": [
    "---\n",
    "\n",
    "### Example of layer sharing/reuse"
   ]
  },
  {
   "cell_type": "markdown",
   "metadata": {
    "id": "701UGDLMrhZv"
   },
   "source": [
    "Imagine you would like to process two different sentences for semantic similarity.  \n",
    "You could use the same network to process each of them!\n",
    "\n",
    "```python\n",
    "reusable_LSTM = tf.keras.layers.LSTM(32)         # define our reusable layer\n",
    "\n",
    "left_input = tf.keras.Input(shape=(None, 128))   # 1. first input\n",
    "left_ouput = reusable_LSTM(left_input)           #    → reusable layer\n",
    "\n",
    "right_input = tf.keras.Input(shape=(None, 128))  # 2. second input\n",
    "right_output = reusable_LSTM(right_input)        #    → reusable layer\n",
    "```\n",
    "```python\n",
    "merged = tf.keras.layers.concatenate(            # 3. concatenate\n",
    "    [left_ouput, right_output], axis=-1\n",
    ")\n",
    "predictions = tf.keras.layers.Dense(1, activation='sigmoid')(merged)\n",
    "\n",
    "model = tf.keras.Model([left_input, right_input], predictions)\n",
    "```\n"
   ]
  },
  {
   "cell_type": "markdown",
   "metadata": {
    "id": "K8mLO9vPrhZv",
    "jp-MarkdownHeadingCollapsed": true
   },
   "source": [
    "#### Note: Conv filters & RNNs"
   ]
  },
  {
   "cell_type": "markdown",
   "metadata": {
    "id": "K8mLO9vPrhZv"
   },
   "source": [
    "Convolutional filters and RNNs are both examples of layer reuse (the same operation is applied multiple times)!"
   ]
  },
  {
   "cell_type": "markdown",
   "metadata": {
    "id": "Z3wg7NR0rhZv",
    "jp-MarkdownHeadingCollapsed": true
   },
   "source": [
    "---\n",
    "\n",
    "### Example of multiple branches: the *Inception* network"
   ]
  },
  {
   "cell_type": "markdown",
   "metadata": {
    "id": "Z3wg7NR0rhZv"
   },
   "source": [
    "The popular *Inception* architecture has several parallel branches, doing multiple different operations on the data."
   ]
  },
  {
   "cell_type": "markdown",
   "metadata": {
    "id": "V32dWGiirhZv"
   },
   "source": [
    "<!-- <img src=\"images/chollet.inception.png\"> -->\n",
    "<img src=\"https://github.com/jchwenger/AI/blob/main/7-advanced-DL-best-practices/images/chollet.inception.png?raw=true\">\n",
    "\n",
    "DLWP, 1<sup>st</sup> edition, p.236."
   ]
  },
  {
   "cell_type": "markdown",
   "metadata": {
    "id": "R5GGO21PrhZv",
    "jp-MarkdownHeadingCollapsed": true
   },
   "source": [
    "#### Inception pseudocode"
   ]
  },
  {
   "cell_type": "markdown",
   "metadata": {
    "id": "R5GGO21PrhZv"
   },
   "source": [
    "```python\n",
    "x = tf.zeros([10, 128, 128, 3])                              # ← INPUT x defined\n",
    "\n",
    "branch_a = tf.keras.layers.Conv2D(                           # BRANCH A\n",
    "    128, 1, activation=\"relu\", strides=2, padding=\"same\")(x) # ← x\n",
    "```\n",
    "\n",
    "```python\n",
    "branch_b = tf.keras.layers.Conv2D(                           # BRANCH B\n",
    "    128, 1, activation=\"relu\", padding=\"same\")(x)            # ← x\n",
    "branch_b = tf.keras.layers.Conv2D(\n",
    "    128, 3, activation=\"relu\", strides=2, padding=\"same\")(branch_b)\n",
    "```\n",
    "\n",
    "```python\n",
    "branch_c = tf.keras.layers.AveragePooling2D(                 # BRANCH C\n",
    "                # ↓ rare case of pooling with padding\n",
    "    3, strides=2, padding=\"same\")(x)                         # ← x\n",
    "branch_c = tf.keras.layers.Conv2D(\n",
    "    128, 3, activation=\"relu\", padding=\"same\")(branch_c)\n",
    "```\n",
    "\n",
    "```python\n",
    "branch_d = tf.keras.layers.Conv2D(                           # BRANCH D\n",
    "    128, 1, activation=\"relu\", padding=\"same\")(x)            # ← x\n",
    "branch_d = tf.keras.layers.Conv2D(\n",
    "    128, 3, activation=\"relu\", padding=\"same\")(branch_d)\n",
    "branch_d = tf.keras.layers.Conv2D(\n",
    "    128, 3, activation=\"relu\", strides=2, padding=\"same\")(branch_d)\n",
    "```\n",
    "\n",
    "```python\n",
    "output = tf.keras.layers.concatenate(\n",
    "    [branch_a, branch_b, branch_c, branch_d], axis=-1)\n",
    "```\n",
    "\n",
    "The [actual code](https://github.com/keras-team/keras-applications/blob/master/keras_applications/inception_v3.py#L169) is somewhat more extended... (*/_＼)"
   ]
  },
  {
   "cell_type": "markdown",
   "metadata": {
    "id": "T9z11EyjrhZw",
    "jp-MarkdownHeadingCollapsed": true
   },
   "source": [
    "---\n",
    "\n",
    "### 7.2.3 Subclassing the Model class"
   ]
  },
  {
   "cell_type": "markdown",
   "metadata": {
    "id": "T9z11EyjrhZw",
    "jp-MarkdownHeadingCollapsed": true
   },
   "source": [
    "#### Rewriting our previous example as a subclassed model"
   ]
  },
  {
   "cell_type": "code",
   "execution_count": 33,
   "metadata": {
    "id": "LzN8Ve7zrhZw"
   },
   "outputs": [],
   "source": [
    "class CustomerTicketModel(tf.keras.Model):                               # ← define a SUBCLASSED MODEL\n",
    "\n",
    "    def __init__(self, num_departments):\n",
    "        super().__init__()\n",
    "        self.concat_layer = tf.keras.layers.Concatenate()                # the layers are now linked to\n",
    "        self.mixing_layer = tf.keras.layers.Dense(64, activation=\"relu\") # this object\n",
    "        self.priority_scorer = tf.keras.layers.Dense(1, activation=\"sigmoid\")\n",
    "        self.department_classifier = tf.keras.layers.Dense(\n",
    "            num_departments, activation=\"softmax\"\n",
    "        )\n",
    "\n",
    "    def call(self, inputs):                                              # CALL: what all Keras models must implement!\n",
    "        title = inputs[\"title\"]                                          # (note: we assume 'inputs' is a dictionary)\n",
    "        text_body = inputs[\"text_body\"]\n",
    "        tags = inputs[\"tags\"]\n",
    "\n",
    "        features = self.concat_layer([title, text_body, tags])           # where the computation actually happens\n",
    "        features = self.mixing_layer(features)\n",
    "        priority = self.priority_scorer(features)\n",
    "        department = self.department_classifier(features)\n",
    "        return priority, department"
   ]
  },
  {
   "cell_type": "code",
   "execution_count": 34,
   "metadata": {
    "id": "enXs7jqyrhZw"
   },
   "outputs": [],
   "source": [
    "model = CustomerTicketModel(num_departments=4)                           # ← instantiate the model object\n",
    "\n",
    "priority, department = model(\n",
    "    {\"title\": title_data, \"text_body\": text_body_data, \"tags\": tags_data}\n",
    ")"
   ]
  },
  {
   "cell_type": "markdown",
   "metadata": {
    "id": "YMgm6XP3rhZw"
   },
   "source": [
    "The rest of the code is the same as before:"
   ]
  },
  {
   "cell_type": "code",
   "execution_count": 35,
   "metadata": {
    "colab": {
     "base_uri": "https://localhost:8080/"
    },
    "id": "mxBBfdhPrhZw",
    "outputId": "8dd34858-2aec-4340-a3a8-220b9c4b5cfd"
   },
   "outputs": [
    {
     "name": "stdout",
     "output_type": "stream",
     "text": [
      "\u001b[1m40/40\u001b[0m \u001b[32m━━━━━━━━━━━━━━━━━━━━\u001b[0m\u001b[37m\u001b[0m \u001b[1m1s\u001b[0m 4ms/step - accuracy: 0.2469 - loss: 91.6841 - mean_absolute_error: 0.4352\n",
      "\u001b[1m40/40\u001b[0m \u001b[32m━━━━━━━━━━━━━━━━━━━━\u001b[0m\u001b[37m\u001b[0m \u001b[1m1s\u001b[0m 4ms/step - accuracy: 0.5080 - loss: 191.7367 - mean_absolute_error: 0.5173\n",
      "\u001b[1m40/40\u001b[0m \u001b[32m━━━━━━━━━━━━━━━━━━━━\u001b[0m\u001b[37m\u001b[0m \u001b[1m0s\u001b[0m 3ms/step\n"
     ]
    }
   ],
   "source": [
    "model.compile(\n",
    "    optimizer=\"rmsprop\",\n",
    "    loss=[\"mean_squared_error\", \"categorical_crossentropy\"],\n",
    "    metrics=[[\"mean_absolute_error\"], [\"accuracy\"]],\n",
    ")\n",
    "model.fit(\n",
    "    {\"title\": title_data, \"text_body\": text_body_data, \"tags\": tags_data},\n",
    "    [priority_data, department_data],\n",
    "    epochs=1,\n",
    ")\n",
    "model.evaluate(\n",
    "    {\"title\": title_data, \"text_body\": text_body_data, \"tags\": tags_data},\n",
    "    [priority_data, department_data],\n",
    ")\n",
    "priority_preds, department_preds = model.predict(\n",
    "    {\"title\": title_data, \"text_body\": text_body_data, \"tags\": tags_data}\n",
    ")"
   ]
  },
  {
   "cell_type": "markdown",
   "metadata": {
    "id": "mUcelIIgrhZw"
   },
   "source": [
    "#### Beware: What subclassed models don't support"
   ]
  },
  {
   "cell_type": "markdown",
   "metadata": {
    "id": "mUcelIIgrhZw"
   },
   "source": [
    "The `summary()` method will work with the **functional** syntax but not with **subclassed models**!"
   ]
  },
  {
   "cell_type": "markdown",
   "metadata": {
    "id": "S7vK2p1HrhZw",
    "jp-MarkdownHeadingCollapsed": true
   },
   "source": [
    "#### Multiple losses"
   ]
  },
  {
   "cell_type": "markdown",
   "metadata": {
    "id": "S7vK2p1HrhZw"
   },
   "source": [
    "Multiple losses are *summed* to get one final number.\n",
    "\n",
    "You can modulate the importance of each element using `loss_weights`.\n",
    "\n",
    "```python\n",
    "model.compile(\n",
    "    optimizer=\"rmsprop\",\n",
    "    loss=[\"mean_squared_error\", \"categorical_crossentropy\"],\n",
    "    # ↓ the final loss will be :\n",
    "    loss_weights=[2,1]\n",
    "               # ↑ (2 * `mean_squared_error` + 1 * `categorical_crossentropy`)\n",
    "    metrics=[[\"mean_absolute_error\"], [\"accuracy\"]],\n",
    ")\n",
    "```\n",
    "\n",
    "[Keras Model documentation](https://www.tensorflow.org/api_docs/python/tf/keras/Model)"
   ]
  },
  {
   "cell_type": "markdown",
   "metadata": {
    "id": "rxtTUkvDrhZw",
    "jp-MarkdownHeadingCollapsed": true
   },
   "source": [
    "---\n",
    "\n",
    "### 7.2.4 Mixing and matching different components"
   ]
  },
  {
   "cell_type": "markdown",
   "metadata": {
    "id": "rxtTUkvDrhZw",
    "jp-MarkdownHeadingCollapsed": true
   },
   "source": [
    "#### Creating a Functional model that includes a subclassed model"
   ]
  },
  {
   "cell_type": "code",
   "execution_count": 36,
   "metadata": {
    "id": "q3P6gwcxrhZw"
   },
   "outputs": [],
   "source": [
    "class Classifier(tf.keras.Model):                               # ← define a SUBCLASSED MODEL\n",
    "    \"\"\"A basic subclassed model\"\"\"\n",
    "    def __init__(self, num_classes=2):\n",
    "        super().__init__()\n",
    "        if num_classes == 2:\n",
    "            num_units = 1\n",
    "            activation = \"sigmoid\"\n",
    "        else:\n",
    "            num_units = num_classes\n",
    "            activation = \"softmax\"\n",
    "        self.dense = tf.keras.layers.Dense(num_units, activation=activation)\n",
    "    def call(self, inputs):                                     # CALL: what all Keras models must implement!\n",
    "        return self.dense(inputs)\n",
    "\n",
    "inputs = tf.keras.Input(shape=(3,))                             # ← FUNCTIONAL SYNTAX\n",
    "features = tf.keras.layers.Dense(64, activation=\"relu\")(inputs) # ← ..., then\n",
    "outputs = Classifier(num_classes=10)(features)                  # ← our SUBCLASSED MODEL in the middle\n",
    "model = tf.keras.Model(inputs=inputs, outputs=outputs)          # ← back to functional syntax\n"
   ]
  },
  {
   "cell_type": "markdown",
   "metadata": {
    "id": "7Y_09LLxrhZw",
    "jp-MarkdownHeadingCollapsed": true
   },
   "source": [
    "#### Creating a subclassed model that includes a Functional model"
   ]
  },
  {
   "cell_type": "code",
   "execution_count": 37,
   "metadata": {
    "id": "qIw4u-yqrhZw"
   },
   "outputs": [],
   "source": [
    "inputs = tf.keras.Input(shape=(64,))\n",
    "outputs = tf.keras.layers.Dense(1, activation=\"sigmoid\")(inputs)\n",
    "binary_classifier = tf.keras.Model(inputs=inputs, outputs=outputs) # ← FUNCTIONAL MODEL definition\n",
    "\n",
    "class MyModel(tf.keras.Model):                                     # ← SUBCLASSED MODEL\n",
    "    \"\"\"Another basic subclassed model\"\"\"\n",
    "    def __init__(self, num_classes=2):\n",
    "        super().__init__()\n",
    "        self.dense = tf.keras.layers.Dense(64, activation=\"relu\")\n",
    "        self.classifier = binary_classifier                        # ← included INTO OUR SUBCLASSED ONE\n",
    "\n",
    "    def call(self, inputs):                                        # CALL: what all Keras models must implement!\n",
    "        features = self.dense(inputs)\n",
    "        return self.classifier(features)                           # ← used here\n",
    "\n",
    "model = MyModel()"
   ]
  },
  {
   "cell_type": "markdown",
   "metadata": {
    "id": "F0-YoHxNrhZw",
    "jp-MarkdownHeadingCollapsed": true
   },
   "source": [
    "---\n",
    "\n",
    "## 7.3 Using built-in training and evaluation loops"
   ]
  },
  {
   "cell_type": "markdown",
   "metadata": {
    "id": "rZ1yJQRxrhZx",
    "jp-MarkdownHeadingCollapsed": true
   },
   "source": [
    "### 7.3.2 Using callbacks"
   ]
  },
  {
   "cell_type": "markdown",
   "metadata": {
    "id": "rZ1yJQRxrhZx"
   },
   "source": [
    "You add one or more callbacks through the `callbacks` argument to `fit/evaluate/predict` in a list:\n",
    "\n",
    "```python\n",
    "model.(fit|evaluate|predict)(\n",
    "    ...\n",
    "    callbacks=[MyCustomCallback(), MyOtherCustomCallback()]\n",
    ")\n",
    "```\n",
    "\n",
    "The [documentation](https://www.tensorflow.org/api_docs/python/tf/keras/callbacks/Callback), [list](https://www.tensorflow.org/api_docs/python/tf/keras/callbacks) and a [tutorial](https://www.tensorflow.org/guide/keras/custom_callback)."
   ]
  },
  {
   "cell_type": "markdown",
   "metadata": {
    "id": "RA1JTybnrhZx",
    "jp-MarkdownHeadingCollapsed": true
   },
   "source": [
    "### Early Stopping"
   ]
  },
  {
   "cell_type": "markdown",
   "metadata": {
    "id": "RA1JTybnrhZx"
   },
   "source": [
    "```python\n",
    "tf.keras.callbacks.EarlyStopping\n",
    "```\n",
    "\n",
    "Stops training as soon as the tracked metric stops improving. ([docs](https://www.tensorflow.org/api_docs/python/tf/keras/callbacks/EarlyStopping))"
   ]
  },
  {
   "cell_type": "markdown",
   "metadata": {
    "id": "ps16jI4rrhZx",
    "jp-MarkdownHeadingCollapsed": true,
    "tags": []
   },
   "source": [
    "### Checkpoints"
   ]
  },
  {
   "cell_type": "markdown",
   "metadata": {
    "id": "ps16jI4rrhZx",
    "tags": []
   },
   "source": [
    "```python\n",
    "tf.keras.callbacks.ModelCheckpoint\n",
    "```\n",
    "\n",
    "Saves your network automatically. ([docs](https://www.tensorflow.org/api_docs/python/tf/keras/callbacks/ModelCheckpoint))"
   ]
  },
  {
   "cell_type": "markdown",
   "metadata": {
    "id": "GikLKSoqrhZx",
    "jp-MarkdownHeadingCollapsed": true
   },
   "source": [
    "### Learning rate schedules"
   ]
  },
  {
   "cell_type": "markdown",
   "metadata": {
    "id": "GikLKSoqrhZx"
   },
   "source": [
    "While it is recommended to use `RMSprop` and `Adam` to start with (they adapt the learning rate for you)), the state of the art is usually achieved with tweaked variants of `SGD` with momentum (where you need to search for the right parameters).\n",
    "\n",
    "In this context, you usually want your learning rate to go down as you get nearer to your optimisation goal.\n",
    "\n",
    "\n",
    "```python\n",
    "tf.keras.callbacks.LearningRateScheduler\n",
    "tf.keras.callbacks.ReduceLROnPlateau\n",
    "```\n",
    "\n",
    "Changes your learning rate during training. ([Scheduler docs](https://www.tensorflow.org/api_docs/python/tf/keras/callbacks/LearningRateScheduler))  \n",
    "Reduces the learning rate during training as soon as the tracked metrick stops improving. ([Plateau docs](https://www.tensorflow.org/api_docs/python/tf/keras/callbacks/ReduceLROnPlateau))"
   ]
  },
  {
   "cell_type": "markdown",
   "metadata": {
    "id": "7VeoEpyDrhZx",
    "jp-MarkdownHeadingCollapsed": true
   },
   "source": [
    "#### Note on Adaptive Methods"
   ]
  },
  {
   "cell_type": "markdown",
   "metadata": {
    "id": "7VeoEpyDrhZx"
   },
   "source": [
    "`RMSProp`, `Adam` and other adaptive methods do not need this so much as the size of the updates are already dynamically changed during the training process.\n",
    "\n",
    "All these fancy learning rate techniques are usually implemented to make SGD outperform those! In which case you'd search for optimal performance with SGD + Momentum + Schedule + Nesterov!"
   ]
  },
  {
   "cell_type": "markdown",
   "metadata": {
    "id": "x6WotzYKrhZx",
    "jp-MarkdownHeadingCollapsed": true
   },
   "source": [
    "### 7.3.4 Monitoring and visualization with TensorBoard"
   ]
  },
  {
   "cell_type": "markdown",
   "metadata": {
    "id": "x6WotzYKrhZx"
   },
   "source": [
    "```python\n",
    "tf.keras.callbacks.TensorBoard\n",
    "```\n",
    "\n",
    "Checkout [`tensorboard_in_notebooks.ipynb`](https://github.com/jchwenger/AI/blob/main/4-fundamentals/tensorboard_in_notebooks.ipynb)! Also on the VLE. ([docs](https://www.tensorflow.org/api_docs/python/tf/keras/callbacks/TensorBoard)) (Topic 4: Fundamentals)."
   ]
  },
  {
   "cell_type": "markdown",
   "metadata": {
    "id": "-TlccYSgrhZx"
   },
   "source": [
    "More references and examples in the notebook [`callbacks.learning-rate-schedules.ipynb`](https://github.com/jchwenger/AI/blob/main/7-additional-material/07.3.2.callbacks.learning-rate-schedules.ipynb)."
   ]
  },
  {
   "cell_type": "markdown",
   "metadata": {
    "id": "aMViExcvrhZx",
    "jp-MarkdownHeadingCollapsed": true
   },
   "source": [
    "---\n",
    "\n",
    "## 7.4 Writing your own training and evaluation loops"
   ]
  },
  {
   "cell_type": "markdown",
   "metadata": {
    "id": "aMViExcvrhZx"
   },
   "source": [
    "And also: **7.3.1 Writing your own metrics**\n",
    "\n",
    "Please refer to the notebook [`custom-classes.subclassing.ipynb`](https://github.com/jchwenger/AI/blob/main/7-additional-material/custom-classes.subclassing.ipynb)."
   ]
  },
  {
   "cell_type": "markdown",
   "metadata": {
    "id": "1ZexLQnVrhZx",
    "jp-MarkdownHeadingCollapsed": true
   },
   "source": [
    "### 7.4.4 Make it fast with `@tf.function`"
   ]
  },
  {
   "cell_type": "markdown",
   "metadata": {
    "id": "1ZexLQnVrhZx"
   },
   "source": [
    "**Adding a `tf.function` decorator to our evaluation-step function**"
   ]
  },
  {
   "cell_type": "markdown",
   "metadata": {
    "id": "1ZexLQnVrhZx"
   },
   "source": [
    "```python\n",
    "@tf.function # ← this decorator will compile and run the function faster\n",
    "def test_step_compiled(inputs, targets):\n",
    "    predictions = model(inputs, training=False)\n",
    "    loss = loss_fn(targets, predictions)\n",
    "\n",
    "    logs = {}\n",
    "    for metric in metrics:\n",
    "        metric.update_state(targets, predictions)\n",
    "        logs[\"val_\" + metric.name] = metric.result()\n",
    "\n",
    "    loss_tracking_metric.update_state(loss)\n",
    "    logs[\"val_loss\"] = loss_tracking_metric.result()\n",
    "    return logs\n",
    "```"
   ]
  },
  {
   "cell_type": "markdown",
   "metadata": {
    "id": "lD27gnCPrhZx"
   },
   "source": [
    "The same notebook [`custom-classes.subclassing.ipynb`](https://github.com/jchwenger/AI/blob/main/7-additional-material/custom-classes.subclassing.ipynb) has an example of this you can run."
   ]
  },
  {
   "cell_type": "markdown",
   "metadata": {
    "id": "HeImlHZ9rhZx"
   },
   "source": [
    "---\n",
    "\n",
    "# 13 Best practices for the real world"
   ]
  },
  {
   "cell_type": "markdown",
   "metadata": {
    "id": "HeImlHZ9rhZx",
    "jp-MarkdownHeadingCollapsed": true
   },
   "source": [
    "## 13.1 Getting the most out of your models"
   ]
  },
  {
   "cell_type": "markdown",
   "metadata": {
    "id": "71Kd9YIurhZx",
    "jp-MarkdownHeadingCollapsed": true
   },
   "source": [
    "### 13.1.1 Hyperparameter optimization"
   ]
  },
  {
   "cell_type": "markdown",
   "metadata": {
    "id": "71Kd9YIurhZx"
   },
   "source": [
    "Deep Learning engineers have many seemingly arbitrary decisions:\n",
    "\n",
    "- How many layers?\n",
    "- How many unites per layer?\n",
    "- What activation function(s)?\n",
    "- Batch/Layer normalise?\n",
    "- How much dropout/regularisation?\n",
    "- What optimizer or learning rate?\n",
    "- etc.."
   ]
  },
  {
   "cell_type": "markdown",
   "metadata": {
    "id": "5-LMzxkerhZx",
    "jp-MarkdownHeadingCollapsed": true
   },
   "source": [
    "### Hyperparameter optimisation workflow"
   ]
  },
  {
   "cell_type": "markdown",
   "metadata": {
    "id": "5-LMzxkerhZx"
   },
   "source": [
    "Throughout: **Document everything**.\n",
    "\n",
    "1. Think of a *baseline* (without a neural net & with an untrained net)\n",
    "2. Choose a set of hyperparameters;\n",
    "3. Build the model;\n",
    "4. Fit to training data and measure performance on validation data;\n",
    "5. If good enough:\n",
    "    - Stop & go to 7.;\n",
    "6. Go to 2;\n",
    "7. Retrain with the same hyperparameters as the best run on *your entire training set* (partial train + validation, no longer any validation split!), up until the epoch where your best model started overfitting, evaluate on test data."
   ]
  },
  {
   "cell_type": "markdown",
   "metadata": {
    "id": "ZagtIQxcrhZy",
    "jp-MarkdownHeadingCollapsed": true
   },
   "source": [
    "### Remember the three ideas!"
   ]
  },
  {
   "cell_type": "markdown",
   "metadata": {
    "id": "ZagtIQxcrhZy"
   },
   "source": [
    "Topic 3, [`04.1.classifying-movie-reviews-imdb.ipynb`](https://github.com/jchwenger/AI/blob/main/3-getting-started/04.1.classifying-movie-reviews-imdb.ipynb).\n",
    "\n",
    "- **Grid search**: systematic covering of the space\n",
    "- **Random search**: random trials in the space\n",
    "- **Babysitting**: gradual progress with manual monitoring"
   ]
  },
  {
   "cell_type": "markdown",
   "metadata": {
    "id": "d1cIe89WrhZy",
    "jp-MarkdownHeadingCollapsed": true
   },
   "source": [
    "---\n",
    "\n",
    "### Keras Tuner"
   ]
  },
  {
   "cell_type": "markdown",
   "metadata": {
    "id": "d1cIe89WrhZy"
   },
   "source": [
    "Keras now comes with its own module for automated hyperparameter optimisation.\n",
    "\n",
    "If you go for the Data Science option in Coursework 2, please **do not use it**!!  \n",
    "We would like you to practice building this **yourself**.\n",
    "\n",
    "This could be used in projects with another focus."
   ]
  },
  {
   "cell_type": "markdown",
   "metadata": {
    "id": "d1cIe89WrhZy",
    "jp-MarkdownHeadingCollapsed": true
   },
   "source": [
    "#### References"
   ]
  },
  {
   "cell_type": "markdown",
   "metadata": {
    "id": "d1cIe89WrhZy"
   },
   "source": [
    "[Documentation](https://keras.io/keras_tuner/)  \n",
    "[TensorFlow tutorial](https://www.tensorflow.org/tutorials/keras/keras_tuner)"
   ]
  },
  {
   "cell_type": "markdown",
   "metadata": {
    "id": "OHRW76F5rhZy",
    "jp-MarkdownHeadingCollapsed": true
   },
   "source": [
    "#### The future of hyperparameter tuning: automated machine learning"
   ]
  },
  {
   "cell_type": "markdown",
   "metadata": {
    "id": "OHRW76F5rhZy"
   },
   "source": [
    "Automating Hyperparameter search is an active area of research, known as AutoML. Here is the [the Keras package trying to develop that](https://autokeras.com/)."
   ]
  },
  {
   "cell_type": "markdown",
   "metadata": {
    "id": "Ld3ykRcvrhZy",
    "jp-MarkdownHeadingCollapsed": true
   },
   "source": [
    "---\n",
    "\n",
    "### 13.1.2 Model ensembling"
   ]
  },
  {
   "cell_type": "markdown",
   "metadata": {
    "id": "Ld3ykRcvrhZy"
   },
   "source": [
    "Ensembling means pooling predictions from a number of **independent models**.\n",
    "\n",
    "The idea is based on the observation that any model can only grasp **part of the truth**.\n",
    "\n",
    "We hope that a *more diverse* set of models might access **more aspects of the truth**.\n",
    "\n",
    "Ensembling generally produces the most competitive models."
   ]
  },
  {
   "cell_type": "markdown",
   "metadata": {
    "id": "OW15pmcxrhZy"
   },
   "source": [
    "Pooling can proceed by **averaging** model predictions.\n",
    "\n",
    "But there is a disadvantage – a poor model can worsen the average, even dragging it below the performace of the best model.\n",
    "\n",
    "The predictions can be weighted, with higher weights to better models.\n",
    "\n",
    "The weights can even be automatically optimised.  \n",
    "(Idea: give the best-performing model on the validation set the highest weight...)  "
   ]
  },
  {
   "cell_type": "markdown",
   "metadata": {
    "id": "hoSON0IrrhZy",
    "jp-MarkdownHeadingCollapsed": true
   },
   "source": [
    "#### Equal weight for all predictions"
   ]
  },
  {
   "cell_type": "markdown",
   "metadata": {
    "id": "hoSON0IrrhZy"
   },
   "source": [
    "```python\n",
    "preds_a = model_a.predict(x_val) # Use four different\n",
    "preds_b = model_b.predict(x_val) # models to compute\n",
    "preds_c = model_c.predict(x_val) # initial predictions.\n",
    "preds_d = model_d.predict(x_val)\n",
    "             # ↓ This new prediction array should be accurate than any of the initial ones.\n",
    "final_preds = 0.25 * (preds_a + preds_b + preds_c + preds_d)\n",
    "```\n",
    "\n",
    "DLWP, p.420"
   ]
  },
  {
   "cell_type": "markdown",
   "metadata": {
    "id": "cRSRJJMXrhZy",
    "jp-MarkdownHeadingCollapsed": true
   },
   "source": [
    "#### Different weights for predictions"
   ]
  },
  {
   "cell_type": "markdown",
   "metadata": {
    "id": "cRSRJJMXrhZy"
   },
   "source": [
    "```python\n",
    "preds_a = model_a.predict(x_val)\n",
    "preds_b = model_b.predict(x_val)\n",
    "preds_c = model_c.predict(x_val)\n",
    "preds_d = model_d.predict(x_val)\n",
    "            # ↓ These weights (0.5, 0.25, 0.1, 0.15) are assumed to be learned empirically.\n",
    "final_preds = 0.5 * preds_a + 0.25 * preds_b + 0.1 * preds_c + 0.15 * preds_d\n",
    "```\n",
    "DLWP, p.420-1"
   ]
  },
  {
   "cell_type": "markdown",
   "metadata": {
    "id": "KuUlclbErhZy",
    "jp-MarkdownHeadingCollapsed": true
   },
   "source": [
    "#### Note: Diversity"
   ]
  },
  {
   "cell_type": "markdown",
   "metadata": {
    "id": "KuUlclbErhZy"
   },
   "source": [
    "The models in the ensemble need to be **as diverse** as possible.\n",
    "\n",
    "A model in the ensemble might be comparatively poor and have low weight, but can nevertheless make a quantitative difference to the overall prediction because it was distant from the other models and may perform really well in specific situations.\n",
    "\n",
    "The concern is for a **diversity of models** rather than how well the best model performs."
   ]
  },
  {
   "cell_type": "markdown",
   "metadata": {
    "id": "KuUlclbErhZy",
    "jp-MarkdownHeadingCollapsed": true
   },
   "source": [
    "#### Note: different initialisations vs architectures"
   ]
  },
  {
   "cell_type": "markdown",
   "metadata": {
    "id": "KuUlclbErhZy"
   },
   "source": [
    "Avoid training the same model from different initialisations/order of exposure to data: this is not different enough!\n",
    "\n",
    "Better to have different architectures or approaches (neural and not neural, for instance)."
   ]
  },
  {
   "cell_type": "markdown",
   "metadata": {
    "id": "OJiM9ofArhZy",
    "jp-MarkdownHeadingCollapsed": true
   },
   "source": [
    "---\n",
    "\n",
    "## 13.2 Scaling-up model training"
   ]
  },
  {
   "cell_type": "markdown",
   "metadata": {
    "id": "kcInTrxsrhZy",
    "jp-MarkdownHeadingCollapsed": true
   },
   "source": [
    "### 13.2.1 Speeding up training on GPU with mixed precision"
   ]
  },
  {
   "cell_type": "markdown",
   "metadata": {
    "id": "kcInTrxsrhZy",
    "jp-MarkdownHeadingCollapsed": true
   },
   "source": [
    "#### Understanding floating-point precision"
   ]
  },
  {
   "cell_type": "markdown",
   "metadata": {
    "id": "kcInTrxsrhZy"
   },
   "source": [
    "There are three of levels of precision you’d typically use:\n",
    "- Half precision, or `float16`, where numbers are stored on 16 bits;\n",
    "- Single precision, or `float32`, where numbers are stored on 32 bits;\n",
    "- Double precision, or `float64`, where numbers are stored on 64 bits.\n",
    "\n",
    "(DLWP, p.422)\n",
    "\n",
    "Tradeoff: for some operations, you want more **precision** (requires more compute), for others you want more **speed** (the precision matters less)."
   ]
  },
  {
   "cell_type": "markdown",
   "metadata": {
    "id": "gGTycStVrhZy",
    "jp-MarkdownHeadingCollapsed": true
   },
   "source": [
    "#### Manual tensor conversion"
   ]
  },
  {
   "cell_type": "code",
   "execution_count": 38,
   "metadata": {
    "colab": {
     "base_uri": "https://localhost:8080/"
    },
    "id": "cIqa4zAArhZy",
    "outputId": "a5e9181c-8c95-481b-beca-53beffa9b33e"
   },
   "outputs": [
    {
     "data": {
      "text/plain": [
       "tf.float64"
      ]
     },
     "execution_count": 38,
     "metadata": {},
     "output_type": "execute_result"
    }
   ],
   "source": [
    "np_array = np.zeros((2, 2))\n",
    "tf_tensor = tf.convert_to_tensor(np_array)\n",
    "tf_tensor.dtype"
   ]
  },
  {
   "cell_type": "code",
   "execution_count": 39,
   "metadata": {
    "colab": {
     "base_uri": "https://localhost:8080/"
    },
    "id": "LAetHdycrhZy",
    "outputId": "c854c6e0-5308-44ff-c6ea-7440d3a29d09"
   },
   "outputs": [
    {
     "data": {
      "text/plain": [
       "tf.float32"
      ]
     },
     "execution_count": 39,
     "metadata": {},
     "output_type": "execute_result"
    }
   ],
   "source": [
    "np_array = np.zeros((2, 2))\n",
    "tf_tensor = tf.convert_to_tensor(np_array, dtype=\"float32\")\n",
    "tf_tensor.dtype"
   ]
  },
  {
   "cell_type": "markdown",
   "metadata": {
    "id": "emDZZ_0KrhZy",
    "jp-MarkdownHeadingCollapsed": true
   },
   "source": [
    "#### Mixed-precision training in practice"
   ]
  },
  {
   "cell_type": "markdown",
   "metadata": {
    "id": "emDZZ_0KrhZy"
   },
   "source": [
    "```python\n",
    "tf.keras.mixed_precision.set_global_policy(\"mixed_float16\")\n",
    "```"
   ]
  },
  {
   "cell_type": "markdown",
   "metadata": {
    "id": "ZQU9gpjlrhZy",
    "jp-MarkdownHeadingCollapsed": true
   },
   "source": [
    "### 13.2.2 Multi-GPU training"
   ]
  },
  {
   "cell_type": "markdown",
   "metadata": {
    "id": "ZQU9gpjlrhZy"
   },
   "source": [
    "<!-- ![Chollet mirrored strategy](images/chollet.mirrored-strategy.p.427.png) -->\n",
    "\n",
    "![Chollet  mirrored strategy](https://github.com/jchwenger/AI/blob/main/7-advanced-DL-best-practices/images/chollet.mirrored-strategy.p.427.png?raw=true)\n",
    "\n",
    "<small>DLWP, p.427</small>"
   ]
  },
  {
   "cell_type": "markdown",
   "metadata": {
    "id": "dBuOBYadrhZy"
   },
   "source": [
    "```python\n",
    "# Create a “distribution strategy” object. (go-to solution: `MirroredStrategy`)\n",
    "strategy = tf.distribute.MirroredStrategy()\n",
    "\n",
    "print(f\"Number of devices: {strategy.num_replicas_in_sync}\")\n",
    "\n",
    "with strategy.scope():           # Open scope: everything inside is distributed\n",
    "    model = get_compiled_model() # All variables must be under the scope!\n",
    "                                 # (Model construction and `compile()`)\n",
    "```\n",
    "```python\n",
    "model.fit(                       # The training will automatically be\n",
    "    train_dataset,               # distributed across devices!\n",
    "    epochs=100,\n",
    "    validation_data=val_dataset\n",
    ")\n",
    "\n",
    "```"
   ]
  },
  {
   "cell_type": "markdown",
   "metadata": {
    "id": "XyObWiECrhZz",
    "jp-MarkdownHeadingCollapsed": true
   },
   "source": [
    "#### Global batch size"
   ]
  },
  {
   "cell_type": "markdown",
   "metadata": {
    "id": "XyObWiECrhZz"
   },
   "source": [
    "When using `datasets`, the batch size is then a **global** batch size, and gets split up on each device.\n",
    "\n",
    "Usually then you calculate it from the capacity of each GPU:\n",
    "\n",
    "```python\n",
    "batch_size = batch_size_per_device * n_devices\n",
    "```"
   ]
  },
  {
   "cell_type": "markdown",
   "metadata": {
    "id": "N6rOTmZhrhZz",
    "jp-MarkdownHeadingCollapsed": true
   },
   "source": [
    "### 13.2.3 TPU training"
   ]
  },
  {
   "cell_type": "markdown",
   "metadata": {
    "id": "N6rOTmZhrhZz",
    "jp-MarkdownHeadingCollapsed": true
   },
   "source": [
    "#### Using a TPU via Google Colab"
   ]
  },
  {
   "cell_type": "markdown",
   "metadata": {
    "id": "N6rOTmZhrhZz"
   },
   "source": [
    "They still sometimes have a few available for free, try it with the starter code in [`lab-8-TPU`](https://github.com/jchwenger/AI/blob/main/labs/8-lab/lab-8-TPU.ipynb)! (Change the Runtime to TPU.)\n",
    "\n",
    "This notebook also contains a link to another Colab notebook, which itself refers to **more** Colab notebooks!"
   ]
  },
  {
   "cell_type": "markdown",
   "metadata": {
    "id": "nwAv0ZyVrhZz",
    "jp-MarkdownHeadingCollapsed": true
   },
   "source": [
    "#### TPU checklist"
   ]
  },
  {
   "cell_type": "markdown",
   "metadata": {
    "id": "nwAv0ZyVrhZz"
   },
   "source": [
    "- TPUs have a lot of capacity: you can easily have larger batch sizes!\n",
    "- Loading data can be a big bottleneck in these contexts. TensorFlow recommends using their [binary format TFRecords](https://www.tensorflow.org/tutorials/load_data/tfrecord) (and the [Keras page](https://keras.io/examples/keras_recipes/creating_tfrecords/));\n",
    "- TPUs require that everything is compiled before it runs. You can even gain in speed by *compiling several steps of training in one* (called **step fusing**) to improve performance: specify `steps_per_execution=n` in the `compile()` method."
   ]
  },
  {
   "cell_type": "markdown",
   "metadata": {
    "id": "fhAuCqegrhZz",
    "jp-MarkdownHeadingCollapsed": true
   },
   "source": [
    "# Summary"
   ]
  },
  {
   "cell_type": "markdown",
   "metadata": {
    "id": "fhAuCqegrhZz",
    "jp-MarkdownHeadingCollapsed": true
   },
   "source": [
    "### Spectrum of Workflows"
   ]
  },
  {
   "cell_type": "markdown",
   "metadata": {
    "id": "fhAuCqegrhZz"
   },
   "source": [
    "- the `Sequential` syntax;\n",
    "- the `Functional` syntax;\n",
    "- `Model` or `Layer` subclassing\n",
    "- Losses must match outputs!\n",
    "- Various losses are **summed**, weighted average using `loss_weights`;\n",
    "- Retrieve inner layers from models → build new ones;\n",
    "- Mix & match: functional & subclassing can be combined;\n",
    "- No `summary()` method with subclassing!\n",
    "\n",
    "Personal advice: *when you reach subclassing, you may leave Keras behind and just use TF... :}*"
   ]
  },
  {
   "cell_type": "markdown",
   "metadata": {
    "id": "8MvKfYShrhZz",
    "jp-MarkdownHeadingCollapsed": true
   },
   "source": [
    "### Advanced practices for training stability"
   ]
  },
  {
   "cell_type": "markdown",
   "metadata": {
    "id": "8MvKfYShrhZz"
   },
   "source": [
    "- Residual connections;\n",
    "- Batch normalisation;\n",
    "- Layer normalisation."
   ]
  },
  {
   "cell_type": "markdown",
   "metadata": {
    "id": "8MvKfYShrhZz",
    "jp-MarkdownHeadingCollapsed": true
   },
   "source": [
    "### CNN optimisation"
   ]
  },
  {
   "cell_type": "markdown",
   "metadata": {
    "id": "8MvKfYShrhZz"
   },
   "source": [
    "- Depthwise separable convolutions."
   ]
  },
  {
   "cell_type": "markdown",
   "metadata": {
    "id": "vlTE-AkWrhZz",
    "jp-MarkdownHeadingCollapsed": true
   },
   "source": [
    "### Hyperparameter search"
   ]
  },
  {
   "cell_type": "markdown",
   "metadata": {
    "id": "vlTE-AkWrhZz"
   },
   "source": [
    "- DL engineering requires exploration in hyperparameter space:\n",
    "    - currently guided by intuition/experience;\n",
    "    - automation is coming;\n",
    "    - human or automatic search should be as **systematic** as possible;\n",
    "    - three ideas:\n",
    "        - grid search;\n",
    "        - random search;\n",
    "        - babysitting"
   ]
  },
  {
   "cell_type": "markdown",
   "metadata": {
    "id": "OgWRvp76rhZz",
    "jp-MarkdownHeadingCollapsed": true
   },
   "source": [
    "### Ensembling"
   ]
  },
  {
   "cell_type": "markdown",
   "metadata": {
    "id": "OgWRvp76rhZz"
   },
   "source": [
    "- Ensembling with the appropriate weighted average of contributions is very powerful;\n",
    "- Component models should be as dissimilar as possible."
   ]
  }
 ],
 "metadata": {
  "accelerator": "GPU",
  "celltoolbar": "Slideshow",
  "colab": {
   "gpuType": "T4",
   "provenance": []
  },
  "kernelspec": {
   "display_name": "Python 3 (ipykernel)",
   "language": "python",
   "name": "python3"
  },
  "language_info": {
   "codemirror_mode": {
    "name": "ipython",
    "version": 3
   },
   "file_extension": ".py",
   "mimetype": "text/x-python",
   "name": "python",
   "nbconvert_exporter": "python",
   "pygments_lexer": "ipython3",
   "version": "3.12.6"
  }
 },
 "nbformat": 4,
 "nbformat_minor": 4
}
