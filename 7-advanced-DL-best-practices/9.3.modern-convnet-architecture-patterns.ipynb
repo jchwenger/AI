{
 "cells": [
  {
   "cell_type": "markdown",
   "metadata": {
    "id": "fPXgTQ7Tb-Sp"
   },
   "source": [
    "## 9.3 Modern convnet architecture patterns"
   ]
  },
  {
   "cell_type": "code",
   "execution_count": 1,
   "metadata": {
    "id": "m-mr8yYR-8PV"
   },
   "outputs": [],
   "source": [
    "import os\n",
    "import sys\n",
    "import shutil\n",
    "import pathlib\n",
    "\n",
    "import numpy as np\n",
    "\n",
    "import tensorflow as tf\n",
    "\n",
    "import matplotlib.pyplot as plt"
   ]
  },
  {
   "cell_type": "markdown",
   "metadata": {
    "id": "pcIll3J5b-Sv",
    "jp-MarkdownHeadingCollapsed": true
   },
   "source": [
    "---\n",
    "\n",
    "## 9.3.2 Residual connections"
   ]
  },
  {
   "cell_type": "markdown",
   "metadata": {
    "id": "pcIll3J5b-Sv"
   },
   "source": [
    "<!-- ![Chollet residual](images/chollet.residual.png) -->\n",
    "<img src=\"https://github.com/jchwenger/AI/blob/main/7-advanced-DL-best-practices/images/chollet.residual.png?raw=true\">\n",
    "\n",
    "<small>DLWP, p.252</small>"
   ]
  },
  {
   "cell_type": "markdown",
   "metadata": {
    "id": "_wlywyr-teqY"
   },
   "source": [
    "Residual connections address two problems:\n",
    "1. Information bottlenecks;\n",
    "2. Vanishing gradients."
   ]
  },
  {
   "cell_type": "markdown",
   "metadata": {
    "id": "VHLPrYtoteqY",
    "jp-MarkdownHeadingCollapsed": true
   },
   "source": [
    "### 1. Information bottlenecks"
   ]
  },
  {
   "cell_type": "markdown",
   "metadata": {
    "id": "VHLPrYtoteqY"
   },
   "source": [
    "The representational power of a layer is limited by its size: information can get lost in the processing pipeline.\n",
    "\n",
    "*For example, high frequency information can never be recovered by later layers if there is a low pass filter early on.*\n",
    "\n",
    "Residual connections re-inject the information content of earlier layer outputs."
   ]
  },
  {
   "cell_type": "markdown",
   "metadata": {
    "id": "jrxM2aIateqY",
    "jp-MarkdownHeadingCollapsed": true
   },
   "source": [
    "### 2. Vanishing gradients"
   ]
  },
  {
   "cell_type": "markdown",
   "metadata": {
    "id": "jrxM2aIateqY"
   },
   "source": [
    "During backpropagation, we apply the **chain rule**, as we have seen, which means that we multiply the gradients of each node in our network.\n",
    "\n",
    "As we saw in the case of RNNs, multiplying either small numbers will make them smaller!"
   ]
  },
  {
   "cell_type": "markdown",
   "metadata": {
    "id": "Cmg35SqnteqY"
   },
   "source": [
    "Suppose layer 1 is the top layer, layer 2 is the first hidden layer from the top etc, the gradient of the loss with respect to a weight in layer 8 is:\n",
    "\n",
    "$$\n",
    "\\frac{d  \\mathcal{L} }{d X_1} = \\frac{d \\mathcal{L} }{d  X_L} \\frac{d  X_L}{d X_{L-1}} \\frac{ d X_{L-1}}{ d X_{L-2} } \\ldots \\frac{d X_2}{d  X_1}$$\n",
    "\n",
    "A product of layer gradients $\\frac{dL_{i+1}}{dL_i}$, with $X_1$ being the 'shallowest' (or first) layer, and $X_L$ the 'deepest' (or last, before the loss).\n",
    "\n",
    "The combined product can get **very small** if the layer gradients have an absolute value less than 1."
   ]
  },
  {
   "cell_type": "markdown",
   "metadata": {
    "id": "p9GzQ5UqteqY",
    "jp-MarkdownHeadingCollapsed": true
   },
   "source": [
    "#### Residual connections: the maths"
   ]
  },
  {
   "cell_type": "markdown",
   "metadata": {
    "id": "p9GzQ5UqteqY"
   },
   "source": [
    "A consequence of all this is that it incentivises the network to learn the **difference** between the previous step and the new one.\n",
    "\n",
    "Indeed, the transformed representation will be re-added to its input: what is encoded by the layer is **how the input should change**.\n",
    "\n",
    "Instead of $X_{l+1} = \\mathcal{H}(X_l)$, where $\\mathcal{H}$ is the layer transformation, $X_{l+1}$ the layer output and $X_l$ its input, we learn: \n",
    "\n",
    "$$X_{l+1} = X_l + \\mathcal{F}(X_l, W_l)$$\n",
    "\n",
    "With $\\mathcal{F}$ being the $l$-th residual unit with any number of layers containing the weights $W_l$."
   ]
  },
  {
   "cell_type": "markdown",
   "metadata": {
    "id": "Cmg35SqnteqY"
   },
   "source": [
    "Here is an example of what this could look like (**BN** stands for batch normalization, **weight** for your standard affine transform $\\sigma(wx + b)$):\n",
    "\n",
    "<!-- ![He residual unit](images/he.residual-unit.png) -->\n",
    "<img style=\"height:400px\" src=\"https://github.com/jchwenger/AI/blob/main/7-advanced-DL-best-practices/images/he.residual-unit.png?raw=true\">"
   ]
  },
  {
   "cell_type": "markdown",
   "metadata": {
    "id": "Cmg35SqnteqY"
   },
   "source": [
    "Stacking such blocks would allow us to reuse the definition above:\n",
    "\n",
    "$$\n",
    "\\begin{aligned}\n",
    "X_{l+2} &= {\\color{blue} X_{l+1} } + \\mathcal{F}(X_{l+1}, W_{l+1}) \\\\\n",
    "\\\\\n",
    "& =  { \\color{blue}X_l + \\mathcal{F}(X_l, W_l) } + \\mathcal{F}(X_{l+1}, W_{l+1})\n",
    "\\end{aligned}\n",
    "$$\n",
    "\n",
    "Therefore, if we have more, the initial input remains, and is only modified by **a sum** of the results of the residual units (as opposed to a **product**, without the skip-connections):\n",
    "\n",
    "$$ X_{L} = X_{l} + \\sum_{i=l}^{L-1} \\mathcal{F}(X_i, W_i) $$"
   ]
  },
  {
   "cell_type": "markdown",
   "metadata": {
    "id": "Cmg35SqnteqY"
   },
   "source": [
    "Backpropagation will then be written like so:\n",
    "\n",
    "$$\n",
    "\\begin{aligned}\n",
    "\\frac{d \\mathcal{L}}{d X_l} &= \\frac{d \\mathcal{L}}{d X_L} \\frac{d { \\color{orange} X_L } }{d X_l} \\\\\n",
    "\\\\\n",
    "& = \\frac{d \\mathcal{L}}{d X_L} \\frac{ d ({\\color{orange} X_{l} + \\sum_{i=l}^{L-1} \\mathcal{F}(X_i, W_i) }) }{d X_l} \\\\\n",
    "\\\\\n",
    "& = \\frac{d \\mathcal{L}}{d X_L} (\\frac{ d { \\color{orange} X_{l} } }{ d X_l }  + \\frac{ { \\color{orange} \\sum_{i=l}^{L-1} \\mathcal{F}(X_i, W_i) } }{d X_l}) \\\\\n",
    "\\\\\n",
    "& =  \\frac{d \\mathcal{L}}{d X_L} ( 1 + \\frac{ d }{d X_l} {\\color{orange}\\sum_{i=l}^{L-1} \\mathcal{F}(X_i, W_i) }  ) \\\\\n",
    "\\\\\n",
    "& =  \\underbrace{\\frac{d \\mathcal{L}}{d X_L}}_{\\substack{ \\text{backpropagates signal back to } X_l\\\\ \\text{no matter what intermediate} \\\\ \\text{transformations do} } } +  \\underbrace{ \\frac{d \\mathcal{L}}{d X_L} \\frac{ d }{d X_l} \\sum_{i=l}^{L-1} \\mathcal{F}(X_i, W_i) )}_{ \\substack{ \\text{can become very small without} \\\\ \\text{affecting overall training} } } \\\\\n",
    "\\end{aligned}\n",
    "$$\n",
    "\n",
    "With $\\mathcal{L}$ as our loss.\n",
    "\n",
    "Reference: [He et al, \"Identity Mappings in Deep Residual Networks\", 2016](http://arxiv.org/abs/1603.05027)"
   ]
  },
  {
   "cell_type": "markdown",
   "metadata": {
    "id": "jrxM2aIateqY"
   },
   "source": [
    "#### Note: LSTM carry"
   ]
  },
  {
   "cell_type": "markdown",
   "metadata": {
    "id": "jrxM2aIateqY"
   },
   "source": [
    "The LSTM **carry** (memory) propagates information forward in time and helps avoid vanishing gradients in recurrent networks. The residual connection has a similar effect!"
   ]
  },
  {
   "cell_type": "markdown",
   "metadata": {
    "id": "ghpmyDsPb-Sz",
    "jp-MarkdownHeadingCollapsed": true
   },
   "source": [
    "### Residual block where the number of filters changes"
   ]
  },
  {
   "cell_type": "code",
   "execution_count": 2,
   "metadata": {
    "id": "1CM5H_Mob-S0"
   },
   "outputs": [],
   "source": [
    "inputs = tf.keras.Input(shape=(32, 32, 3))\n",
    "x = tf.keras.layers.Conv2D(32, 3, activation=\"relu\")(inputs)\n",
    "\n",
    "residual = x                                                            # 1. save the current state of x (residual)\n",
    "\n",
    "                                                   # ↓ keep dimensions the same!\n",
    "x = tf.keras.layers.Conv2D(64, 3, activation=\"relu\", padding=\"same\")(x) # 2.a the first branch\n",
    "\n",
    "\n",
    "residual = tf.keras.layers.Conv2D(64, 1)(residual)                      # 2.b the second branch\n",
    "                                                                        # (transform residual with Conv2D and\n",
    "                                                                        # just 1 filter so that the shapes work)\n",
    "\n",
    "x = tf.keras.layers.add([x, residual])                                  #  reinject past x"
   ]
  },
  {
   "cell_type": "markdown",
   "metadata": {
    "id": "bbLJX4iab-S5",
    "jp-MarkdownHeadingCollapsed": true
   },
   "source": [
    "### Residual block where the target block includes a max pooling layer"
   ]
  },
  {
   "cell_type": "code",
   "execution_count": 3,
   "metadata": {
    "id": "_CtLdZjob-S7"
   },
   "outputs": [],
   "source": [
    "inputs = tf.keras.Input(shape=(32, 32, 3))\n",
    "x = tf.keras.layers.Conv2D(32, 3, activation=\"relu\")(inputs)\n",
    "\n",
    "residual = x                                                            # 1. save the current state of x (residual)\n",
    "\n",
    "                                                 # ↓ keep dimensions the same!\n",
    "x = tf.keras.layers.Conv2D(64, 3,activation=\"relu\", padding=\"same\")(x) # 2.a the first branch\n",
    "                                  # ↓ also with MaxPooling (rare)\n",
    "x = tf.keras.layers.MaxPooling2D(2, padding=\"same\")(x)\n",
    "\n",
    "residual = tf.keras.layers.Conv2D(64, 1, strides=2)(residual)           # 2.b the second branch\n",
    "                                                                        # (transform residual with Conv2D and\n",
    "                                                                        # just 1 filter so that the shapes work)\n",
    "\n",
    "x = tf.keras.layers.add([x, residual]) # merging current and residual"
   ]
  },
  {
   "cell_type": "code",
   "execution_count": 4,
   "metadata": {
    "colab": {
     "base_uri": "https://localhost:8080/",
     "height": 842
    },
    "id": "zVvyC8Dkb-S_",
    "outputId": "452da56b-635a-4e2f-eb8c-f89853436073"
   },
   "outputs": [
    {
     "data": {
      "text/html": [
       "<pre style=\"white-space:pre;overflow-x:auto;line-height:normal;font-family:Menlo,'DejaVu Sans Mono',consolas,'Courier New',monospace\"><span style=\"font-weight: bold\">Model: \"functional\"</span>\n",
       "</pre>\n"
      ],
      "text/plain": [
       "\u001b[1mModel: \"functional\"\u001b[0m\n"
      ]
     },
     "metadata": {},
     "output_type": "display_data"
    },
    {
     "data": {
      "text/html": [
       "<pre style=\"white-space:pre;overflow-x:auto;line-height:normal;font-family:Menlo,'DejaVu Sans Mono',consolas,'Courier New',monospace\">┏━━━━━━━━━━━━━━━━━━━━━━━━━━━┳━━━━━━━━━━━━━━━━━━━━━━━━┳━━━━━━━━━━━━━━━━┳━━━━━━━━━━━━━━━━━━━━━━━━┓\n",
       "┃<span style=\"font-weight: bold\"> Layer (type)              </span>┃<span style=\"font-weight: bold\"> Output Shape           </span>┃<span style=\"font-weight: bold\">        Param # </span>┃<span style=\"font-weight: bold\"> Connected to           </span>┃\n",
       "┡━━━━━━━━━━━━━━━━━━━━━━━━━━━╇━━━━━━━━━━━━━━━━━━━━━━━━╇━━━━━━━━━━━━━━━━╇━━━━━━━━━━━━━━━━━━━━━━━━┩\n",
       "│ input_layer_2             │ (<span style=\"color: #00d7ff; text-decoration-color: #00d7ff\">None</span>, <span style=\"color: #00af00; text-decoration-color: #00af00\">32</span>, <span style=\"color: #00af00; text-decoration-color: #00af00\">32</span>, <span style=\"color: #00af00; text-decoration-color: #00af00\">3</span>)      │              <span style=\"color: #00af00; text-decoration-color: #00af00\">0</span> │ -                      │\n",
       "│ (<span style=\"color: #0087ff; text-decoration-color: #0087ff\">InputLayer</span>)              │                        │                │                        │\n",
       "├───────────────────────────┼────────────────────────┼────────────────┼────────────────────────┤\n",
       "│ rescaling (<span style=\"color: #0087ff; text-decoration-color: #0087ff\">Rescaling</span>)     │ (<span style=\"color: #00d7ff; text-decoration-color: #00d7ff\">None</span>, <span style=\"color: #00af00; text-decoration-color: #00af00\">32</span>, <span style=\"color: #00af00; text-decoration-color: #00af00\">32</span>, <span style=\"color: #00af00; text-decoration-color: #00af00\">3</span>)      │              <span style=\"color: #00af00; text-decoration-color: #00af00\">0</span> │ input_layer_2[<span style=\"color: #00af00; text-decoration-color: #00af00\">0</span>][<span style=\"color: #00af00; text-decoration-color: #00af00\">0</span>]    │\n",
       "├───────────────────────────┼────────────────────────┼────────────────┼────────────────────────┤\n",
       "│ conv2d_6 (<span style=\"color: #0087ff; text-decoration-color: #0087ff\">Conv2D</span>)         │ (<span style=\"color: #00d7ff; text-decoration-color: #00d7ff\">None</span>, <span style=\"color: #00af00; text-decoration-color: #00af00\">32</span>, <span style=\"color: #00af00; text-decoration-color: #00af00\">32</span>, <span style=\"color: #00af00; text-decoration-color: #00af00\">32</span>)     │            <span style=\"color: #00af00; text-decoration-color: #00af00\">896</span> │ rescaling[<span style=\"color: #00af00; text-decoration-color: #00af00\">0</span>][<span style=\"color: #00af00; text-decoration-color: #00af00\">0</span>]        │\n",
       "├───────────────────────────┼────────────────────────┼────────────────┼────────────────────────┤\n",
       "│ conv2d_7 (<span style=\"color: #0087ff; text-decoration-color: #0087ff\">Conv2D</span>)         │ (<span style=\"color: #00d7ff; text-decoration-color: #00d7ff\">None</span>, <span style=\"color: #00af00; text-decoration-color: #00af00\">32</span>, <span style=\"color: #00af00; text-decoration-color: #00af00\">32</span>, <span style=\"color: #00af00; text-decoration-color: #00af00\">32</span>)     │          <span style=\"color: #00af00; text-decoration-color: #00af00\">9,248</span> │ conv2d_6[<span style=\"color: #00af00; text-decoration-color: #00af00\">0</span>][<span style=\"color: #00af00; text-decoration-color: #00af00\">0</span>]         │\n",
       "├───────────────────────────┼────────────────────────┼────────────────┼────────────────────────┤\n",
       "│ max_pooling2d_1           │ (<span style=\"color: #00d7ff; text-decoration-color: #00d7ff\">None</span>, <span style=\"color: #00af00; text-decoration-color: #00af00\">16</span>, <span style=\"color: #00af00; text-decoration-color: #00af00\">16</span>, <span style=\"color: #00af00; text-decoration-color: #00af00\">32</span>)     │              <span style=\"color: #00af00; text-decoration-color: #00af00\">0</span> │ conv2d_7[<span style=\"color: #00af00; text-decoration-color: #00af00\">0</span>][<span style=\"color: #00af00; text-decoration-color: #00af00\">0</span>]         │\n",
       "│ (<span style=\"color: #0087ff; text-decoration-color: #0087ff\">MaxPooling2D</span>)            │                        │                │                        │\n",
       "├───────────────────────────┼────────────────────────┼────────────────┼────────────────────────┤\n",
       "│ conv2d_8 (<span style=\"color: #0087ff; text-decoration-color: #0087ff\">Conv2D</span>)         │ (<span style=\"color: #00d7ff; text-decoration-color: #00d7ff\">None</span>, <span style=\"color: #00af00; text-decoration-color: #00af00\">16</span>, <span style=\"color: #00af00; text-decoration-color: #00af00\">16</span>, <span style=\"color: #00af00; text-decoration-color: #00af00\">32</span>)     │            <span style=\"color: #00af00; text-decoration-color: #00af00\">128</span> │ rescaling[<span style=\"color: #00af00; text-decoration-color: #00af00\">0</span>][<span style=\"color: #00af00; text-decoration-color: #00af00\">0</span>]        │\n",
       "├───────────────────────────┼────────────────────────┼────────────────┼────────────────────────┤\n",
       "│ add_2 (<span style=\"color: #0087ff; text-decoration-color: #0087ff\">Add</span>)               │ (<span style=\"color: #00d7ff; text-decoration-color: #00d7ff\">None</span>, <span style=\"color: #00af00; text-decoration-color: #00af00\">16</span>, <span style=\"color: #00af00; text-decoration-color: #00af00\">16</span>, <span style=\"color: #00af00; text-decoration-color: #00af00\">32</span>)     │              <span style=\"color: #00af00; text-decoration-color: #00af00\">0</span> │ max_pooling2d_1[<span style=\"color: #00af00; text-decoration-color: #00af00\">0</span>][<span style=\"color: #00af00; text-decoration-color: #00af00\">0</span>], │\n",
       "│                           │                        │                │ conv2d_8[<span style=\"color: #00af00; text-decoration-color: #00af00\">0</span>][<span style=\"color: #00af00; text-decoration-color: #00af00\">0</span>]         │\n",
       "├───────────────────────────┼────────────────────────┼────────────────┼────────────────────────┤\n",
       "│ conv2d_9 (<span style=\"color: #0087ff; text-decoration-color: #0087ff\">Conv2D</span>)         │ (<span style=\"color: #00d7ff; text-decoration-color: #00d7ff\">None</span>, <span style=\"color: #00af00; text-decoration-color: #00af00\">16</span>, <span style=\"color: #00af00; text-decoration-color: #00af00\">16</span>, <span style=\"color: #00af00; text-decoration-color: #00af00\">64</span>)     │         <span style=\"color: #00af00; text-decoration-color: #00af00\">18,496</span> │ add_2[<span style=\"color: #00af00; text-decoration-color: #00af00\">0</span>][<span style=\"color: #00af00; text-decoration-color: #00af00\">0</span>]            │\n",
       "├───────────────────────────┼────────────────────────┼────────────────┼────────────────────────┤\n",
       "│ conv2d_10 (<span style=\"color: #0087ff; text-decoration-color: #0087ff\">Conv2D</span>)        │ (<span style=\"color: #00d7ff; text-decoration-color: #00d7ff\">None</span>, <span style=\"color: #00af00; text-decoration-color: #00af00\">16</span>, <span style=\"color: #00af00; text-decoration-color: #00af00\">16</span>, <span style=\"color: #00af00; text-decoration-color: #00af00\">64</span>)     │         <span style=\"color: #00af00; text-decoration-color: #00af00\">36,928</span> │ conv2d_9[<span style=\"color: #00af00; text-decoration-color: #00af00\">0</span>][<span style=\"color: #00af00; text-decoration-color: #00af00\">0</span>]         │\n",
       "├───────────────────────────┼────────────────────────┼────────────────┼────────────────────────┤\n",
       "│ max_pooling2d_2           │ (<span style=\"color: #00d7ff; text-decoration-color: #00d7ff\">None</span>, <span style=\"color: #00af00; text-decoration-color: #00af00\">8</span>, <span style=\"color: #00af00; text-decoration-color: #00af00\">8</span>, <span style=\"color: #00af00; text-decoration-color: #00af00\">64</span>)       │              <span style=\"color: #00af00; text-decoration-color: #00af00\">0</span> │ conv2d_10[<span style=\"color: #00af00; text-decoration-color: #00af00\">0</span>][<span style=\"color: #00af00; text-decoration-color: #00af00\">0</span>]        │\n",
       "│ (<span style=\"color: #0087ff; text-decoration-color: #0087ff\">MaxPooling2D</span>)            │                        │                │                        │\n",
       "├───────────────────────────┼────────────────────────┼────────────────┼────────────────────────┤\n",
       "│ conv2d_11 (<span style=\"color: #0087ff; text-decoration-color: #0087ff\">Conv2D</span>)        │ (<span style=\"color: #00d7ff; text-decoration-color: #00d7ff\">None</span>, <span style=\"color: #00af00; text-decoration-color: #00af00\">8</span>, <span style=\"color: #00af00; text-decoration-color: #00af00\">8</span>, <span style=\"color: #00af00; text-decoration-color: #00af00\">64</span>)       │          <span style=\"color: #00af00; text-decoration-color: #00af00\">2,112</span> │ add_2[<span style=\"color: #00af00; text-decoration-color: #00af00\">0</span>][<span style=\"color: #00af00; text-decoration-color: #00af00\">0</span>]            │\n",
       "├───────────────────────────┼────────────────────────┼────────────────┼────────────────────────┤\n",
       "│ add_3 (<span style=\"color: #0087ff; text-decoration-color: #0087ff\">Add</span>)               │ (<span style=\"color: #00d7ff; text-decoration-color: #00d7ff\">None</span>, <span style=\"color: #00af00; text-decoration-color: #00af00\">8</span>, <span style=\"color: #00af00; text-decoration-color: #00af00\">8</span>, <span style=\"color: #00af00; text-decoration-color: #00af00\">64</span>)       │              <span style=\"color: #00af00; text-decoration-color: #00af00\">0</span> │ max_pooling2d_2[<span style=\"color: #00af00; text-decoration-color: #00af00\">0</span>][<span style=\"color: #00af00; text-decoration-color: #00af00\">0</span>], │\n",
       "│                           │                        │                │ conv2d_11[<span style=\"color: #00af00; text-decoration-color: #00af00\">0</span>][<span style=\"color: #00af00; text-decoration-color: #00af00\">0</span>]        │\n",
       "├───────────────────────────┼────────────────────────┼────────────────┼────────────────────────┤\n",
       "│ conv2d_12 (<span style=\"color: #0087ff; text-decoration-color: #0087ff\">Conv2D</span>)        │ (<span style=\"color: #00d7ff; text-decoration-color: #00d7ff\">None</span>, <span style=\"color: #00af00; text-decoration-color: #00af00\">8</span>, <span style=\"color: #00af00; text-decoration-color: #00af00\">8</span>, <span style=\"color: #00af00; text-decoration-color: #00af00\">128</span>)      │         <span style=\"color: #00af00; text-decoration-color: #00af00\">73,856</span> │ add_3[<span style=\"color: #00af00; text-decoration-color: #00af00\">0</span>][<span style=\"color: #00af00; text-decoration-color: #00af00\">0</span>]            │\n",
       "├───────────────────────────┼────────────────────────┼────────────────┼────────────────────────┤\n",
       "│ conv2d_13 (<span style=\"color: #0087ff; text-decoration-color: #0087ff\">Conv2D</span>)        │ (<span style=\"color: #00d7ff; text-decoration-color: #00d7ff\">None</span>, <span style=\"color: #00af00; text-decoration-color: #00af00\">8</span>, <span style=\"color: #00af00; text-decoration-color: #00af00\">8</span>, <span style=\"color: #00af00; text-decoration-color: #00af00\">128</span>)      │        <span style=\"color: #00af00; text-decoration-color: #00af00\">147,584</span> │ conv2d_12[<span style=\"color: #00af00; text-decoration-color: #00af00\">0</span>][<span style=\"color: #00af00; text-decoration-color: #00af00\">0</span>]        │\n",
       "├───────────────────────────┼────────────────────────┼────────────────┼────────────────────────┤\n",
       "│ conv2d_14 (<span style=\"color: #0087ff; text-decoration-color: #0087ff\">Conv2D</span>)        │ (<span style=\"color: #00d7ff; text-decoration-color: #00d7ff\">None</span>, <span style=\"color: #00af00; text-decoration-color: #00af00\">8</span>, <span style=\"color: #00af00; text-decoration-color: #00af00\">8</span>, <span style=\"color: #00af00; text-decoration-color: #00af00\">128</span>)      │          <span style=\"color: #00af00; text-decoration-color: #00af00\">8,320</span> │ add_3[<span style=\"color: #00af00; text-decoration-color: #00af00\">0</span>][<span style=\"color: #00af00; text-decoration-color: #00af00\">0</span>]            │\n",
       "├───────────────────────────┼────────────────────────┼────────────────┼────────────────────────┤\n",
       "│ add_4 (<span style=\"color: #0087ff; text-decoration-color: #0087ff\">Add</span>)               │ (<span style=\"color: #00d7ff; text-decoration-color: #00d7ff\">None</span>, <span style=\"color: #00af00; text-decoration-color: #00af00\">8</span>, <span style=\"color: #00af00; text-decoration-color: #00af00\">8</span>, <span style=\"color: #00af00; text-decoration-color: #00af00\">128</span>)      │              <span style=\"color: #00af00; text-decoration-color: #00af00\">0</span> │ conv2d_13[<span style=\"color: #00af00; text-decoration-color: #00af00\">0</span>][<span style=\"color: #00af00; text-decoration-color: #00af00\">0</span>],       │\n",
       "│                           │                        │                │ conv2d_14[<span style=\"color: #00af00; text-decoration-color: #00af00\">0</span>][<span style=\"color: #00af00; text-decoration-color: #00af00\">0</span>]        │\n",
       "├───────────────────────────┼────────────────────────┼────────────────┼────────────────────────┤\n",
       "│ global_average_pooling2d  │ (<span style=\"color: #00d7ff; text-decoration-color: #00d7ff\">None</span>, <span style=\"color: #00af00; text-decoration-color: #00af00\">128</span>)            │              <span style=\"color: #00af00; text-decoration-color: #00af00\">0</span> │ add_4[<span style=\"color: #00af00; text-decoration-color: #00af00\">0</span>][<span style=\"color: #00af00; text-decoration-color: #00af00\">0</span>]            │\n",
       "│ (<span style=\"color: #0087ff; text-decoration-color: #0087ff\">GlobalAveragePooling2D</span>)  │                        │                │                        │\n",
       "├───────────────────────────┼────────────────────────┼────────────────┼────────────────────────┤\n",
       "│ dense (<span style=\"color: #0087ff; text-decoration-color: #0087ff\">Dense</span>)             │ (<span style=\"color: #00d7ff; text-decoration-color: #00d7ff\">None</span>, <span style=\"color: #00af00; text-decoration-color: #00af00\">1</span>)              │            <span style=\"color: #00af00; text-decoration-color: #00af00\">129</span> │ global_average_poolin… │\n",
       "└───────────────────────────┴────────────────────────┴────────────────┴────────────────────────┘\n",
       "</pre>\n"
      ],
      "text/plain": [
       "┏━━━━━━━━━━━━━━━━━━━━━━━━━━━┳━━━━━━━━━━━━━━━━━━━━━━━━┳━━━━━━━━━━━━━━━━┳━━━━━━━━━━━━━━━━━━━━━━━━┓\n",
       "┃\u001b[1m \u001b[0m\u001b[1mLayer (type)             \u001b[0m\u001b[1m \u001b[0m┃\u001b[1m \u001b[0m\u001b[1mOutput Shape          \u001b[0m\u001b[1m \u001b[0m┃\u001b[1m \u001b[0m\u001b[1m       Param #\u001b[0m\u001b[1m \u001b[0m┃\u001b[1m \u001b[0m\u001b[1mConnected to          \u001b[0m\u001b[1m \u001b[0m┃\n",
       "┡━━━━━━━━━━━━━━━━━━━━━━━━━━━╇━━━━━━━━━━━━━━━━━━━━━━━━╇━━━━━━━━━━━━━━━━╇━━━━━━━━━━━━━━━━━━━━━━━━┩\n",
       "│ input_layer_2             │ (\u001b[38;5;45mNone\u001b[0m, \u001b[38;5;34m32\u001b[0m, \u001b[38;5;34m32\u001b[0m, \u001b[38;5;34m3\u001b[0m)      │              \u001b[38;5;34m0\u001b[0m │ -                      │\n",
       "│ (\u001b[38;5;33mInputLayer\u001b[0m)              │                        │                │                        │\n",
       "├───────────────────────────┼────────────────────────┼────────────────┼────────────────────────┤\n",
       "│ rescaling (\u001b[38;5;33mRescaling\u001b[0m)     │ (\u001b[38;5;45mNone\u001b[0m, \u001b[38;5;34m32\u001b[0m, \u001b[38;5;34m32\u001b[0m, \u001b[38;5;34m3\u001b[0m)      │              \u001b[38;5;34m0\u001b[0m │ input_layer_2[\u001b[38;5;34m0\u001b[0m][\u001b[38;5;34m0\u001b[0m]    │\n",
       "├───────────────────────────┼────────────────────────┼────────────────┼────────────────────────┤\n",
       "│ conv2d_6 (\u001b[38;5;33mConv2D\u001b[0m)         │ (\u001b[38;5;45mNone\u001b[0m, \u001b[38;5;34m32\u001b[0m, \u001b[38;5;34m32\u001b[0m, \u001b[38;5;34m32\u001b[0m)     │            \u001b[38;5;34m896\u001b[0m │ rescaling[\u001b[38;5;34m0\u001b[0m][\u001b[38;5;34m0\u001b[0m]        │\n",
       "├───────────────────────────┼────────────────────────┼────────────────┼────────────────────────┤\n",
       "│ conv2d_7 (\u001b[38;5;33mConv2D\u001b[0m)         │ (\u001b[38;5;45mNone\u001b[0m, \u001b[38;5;34m32\u001b[0m, \u001b[38;5;34m32\u001b[0m, \u001b[38;5;34m32\u001b[0m)     │          \u001b[38;5;34m9,248\u001b[0m │ conv2d_6[\u001b[38;5;34m0\u001b[0m][\u001b[38;5;34m0\u001b[0m]         │\n",
       "├───────────────────────────┼────────────────────────┼────────────────┼────────────────────────┤\n",
       "│ max_pooling2d_1           │ (\u001b[38;5;45mNone\u001b[0m, \u001b[38;5;34m16\u001b[0m, \u001b[38;5;34m16\u001b[0m, \u001b[38;5;34m32\u001b[0m)     │              \u001b[38;5;34m0\u001b[0m │ conv2d_7[\u001b[38;5;34m0\u001b[0m][\u001b[38;5;34m0\u001b[0m]         │\n",
       "│ (\u001b[38;5;33mMaxPooling2D\u001b[0m)            │                        │                │                        │\n",
       "├───────────────────────────┼────────────────────────┼────────────────┼────────────────────────┤\n",
       "│ conv2d_8 (\u001b[38;5;33mConv2D\u001b[0m)         │ (\u001b[38;5;45mNone\u001b[0m, \u001b[38;5;34m16\u001b[0m, \u001b[38;5;34m16\u001b[0m, \u001b[38;5;34m32\u001b[0m)     │            \u001b[38;5;34m128\u001b[0m │ rescaling[\u001b[38;5;34m0\u001b[0m][\u001b[38;5;34m0\u001b[0m]        │\n",
       "├───────────────────────────┼────────────────────────┼────────────────┼────────────────────────┤\n",
       "│ add_2 (\u001b[38;5;33mAdd\u001b[0m)               │ (\u001b[38;5;45mNone\u001b[0m, \u001b[38;5;34m16\u001b[0m, \u001b[38;5;34m16\u001b[0m, \u001b[38;5;34m32\u001b[0m)     │              \u001b[38;5;34m0\u001b[0m │ max_pooling2d_1[\u001b[38;5;34m0\u001b[0m][\u001b[38;5;34m0\u001b[0m], │\n",
       "│                           │                        │                │ conv2d_8[\u001b[38;5;34m0\u001b[0m][\u001b[38;5;34m0\u001b[0m]         │\n",
       "├───────────────────────────┼────────────────────────┼────────────────┼────────────────────────┤\n",
       "│ conv2d_9 (\u001b[38;5;33mConv2D\u001b[0m)         │ (\u001b[38;5;45mNone\u001b[0m, \u001b[38;5;34m16\u001b[0m, \u001b[38;5;34m16\u001b[0m, \u001b[38;5;34m64\u001b[0m)     │         \u001b[38;5;34m18,496\u001b[0m │ add_2[\u001b[38;5;34m0\u001b[0m][\u001b[38;5;34m0\u001b[0m]            │\n",
       "├───────────────────────────┼────────────────────────┼────────────────┼────────────────────────┤\n",
       "│ conv2d_10 (\u001b[38;5;33mConv2D\u001b[0m)        │ (\u001b[38;5;45mNone\u001b[0m, \u001b[38;5;34m16\u001b[0m, \u001b[38;5;34m16\u001b[0m, \u001b[38;5;34m64\u001b[0m)     │         \u001b[38;5;34m36,928\u001b[0m │ conv2d_9[\u001b[38;5;34m0\u001b[0m][\u001b[38;5;34m0\u001b[0m]         │\n",
       "├───────────────────────────┼────────────────────────┼────────────────┼────────────────────────┤\n",
       "│ max_pooling2d_2           │ (\u001b[38;5;45mNone\u001b[0m, \u001b[38;5;34m8\u001b[0m, \u001b[38;5;34m8\u001b[0m, \u001b[38;5;34m64\u001b[0m)       │              \u001b[38;5;34m0\u001b[0m │ conv2d_10[\u001b[38;5;34m0\u001b[0m][\u001b[38;5;34m0\u001b[0m]        │\n",
       "│ (\u001b[38;5;33mMaxPooling2D\u001b[0m)            │                        │                │                        │\n",
       "├───────────────────────────┼────────────────────────┼────────────────┼────────────────────────┤\n",
       "│ conv2d_11 (\u001b[38;5;33mConv2D\u001b[0m)        │ (\u001b[38;5;45mNone\u001b[0m, \u001b[38;5;34m8\u001b[0m, \u001b[38;5;34m8\u001b[0m, \u001b[38;5;34m64\u001b[0m)       │          \u001b[38;5;34m2,112\u001b[0m │ add_2[\u001b[38;5;34m0\u001b[0m][\u001b[38;5;34m0\u001b[0m]            │\n",
       "├───────────────────────────┼────────────────────────┼────────────────┼────────────────────────┤\n",
       "│ add_3 (\u001b[38;5;33mAdd\u001b[0m)               │ (\u001b[38;5;45mNone\u001b[0m, \u001b[38;5;34m8\u001b[0m, \u001b[38;5;34m8\u001b[0m, \u001b[38;5;34m64\u001b[0m)       │              \u001b[38;5;34m0\u001b[0m │ max_pooling2d_2[\u001b[38;5;34m0\u001b[0m][\u001b[38;5;34m0\u001b[0m], │\n",
       "│                           │                        │                │ conv2d_11[\u001b[38;5;34m0\u001b[0m][\u001b[38;5;34m0\u001b[0m]        │\n",
       "├───────────────────────────┼────────────────────────┼────────────────┼────────────────────────┤\n",
       "│ conv2d_12 (\u001b[38;5;33mConv2D\u001b[0m)        │ (\u001b[38;5;45mNone\u001b[0m, \u001b[38;5;34m8\u001b[0m, \u001b[38;5;34m8\u001b[0m, \u001b[38;5;34m128\u001b[0m)      │         \u001b[38;5;34m73,856\u001b[0m │ add_3[\u001b[38;5;34m0\u001b[0m][\u001b[38;5;34m0\u001b[0m]            │\n",
       "├───────────────────────────┼────────────────────────┼────────────────┼────────────────────────┤\n",
       "│ conv2d_13 (\u001b[38;5;33mConv2D\u001b[0m)        │ (\u001b[38;5;45mNone\u001b[0m, \u001b[38;5;34m8\u001b[0m, \u001b[38;5;34m8\u001b[0m, \u001b[38;5;34m128\u001b[0m)      │        \u001b[38;5;34m147,584\u001b[0m │ conv2d_12[\u001b[38;5;34m0\u001b[0m][\u001b[38;5;34m0\u001b[0m]        │\n",
       "├───────────────────────────┼────────────────────────┼────────────────┼────────────────────────┤\n",
       "│ conv2d_14 (\u001b[38;5;33mConv2D\u001b[0m)        │ (\u001b[38;5;45mNone\u001b[0m, \u001b[38;5;34m8\u001b[0m, \u001b[38;5;34m8\u001b[0m, \u001b[38;5;34m128\u001b[0m)      │          \u001b[38;5;34m8,320\u001b[0m │ add_3[\u001b[38;5;34m0\u001b[0m][\u001b[38;5;34m0\u001b[0m]            │\n",
       "├───────────────────────────┼────────────────────────┼────────────────┼────────────────────────┤\n",
       "│ add_4 (\u001b[38;5;33mAdd\u001b[0m)               │ (\u001b[38;5;45mNone\u001b[0m, \u001b[38;5;34m8\u001b[0m, \u001b[38;5;34m8\u001b[0m, \u001b[38;5;34m128\u001b[0m)      │              \u001b[38;5;34m0\u001b[0m │ conv2d_13[\u001b[38;5;34m0\u001b[0m][\u001b[38;5;34m0\u001b[0m],       │\n",
       "│                           │                        │                │ conv2d_14[\u001b[38;5;34m0\u001b[0m][\u001b[38;5;34m0\u001b[0m]        │\n",
       "├───────────────────────────┼────────────────────────┼────────────────┼────────────────────────┤\n",
       "│ global_average_pooling2d  │ (\u001b[38;5;45mNone\u001b[0m, \u001b[38;5;34m128\u001b[0m)            │              \u001b[38;5;34m0\u001b[0m │ add_4[\u001b[38;5;34m0\u001b[0m][\u001b[38;5;34m0\u001b[0m]            │\n",
       "│ (\u001b[38;5;33mGlobalAveragePooling2D\u001b[0m)  │                        │                │                        │\n",
       "├───────────────────────────┼────────────────────────┼────────────────┼────────────────────────┤\n",
       "│ dense (\u001b[38;5;33mDense\u001b[0m)             │ (\u001b[38;5;45mNone\u001b[0m, \u001b[38;5;34m1\u001b[0m)              │            \u001b[38;5;34m129\u001b[0m │ global_average_poolin… │\n",
       "└───────────────────────────┴────────────────────────┴────────────────┴────────────────────────┘\n"
      ]
     },
     "metadata": {},
     "output_type": "display_data"
    },
    {
     "data": {
      "text/html": [
       "<pre style=\"white-space:pre;overflow-x:auto;line-height:normal;font-family:Menlo,'DejaVu Sans Mono',consolas,'Courier New',monospace\"><span style=\"font-weight: bold\"> Total params: </span><span style=\"color: #00af00; text-decoration-color: #00af00\">297,697</span> (1.14 MB)\n",
       "</pre>\n"
      ],
      "text/plain": [
       "\u001b[1m Total params: \u001b[0m\u001b[38;5;34m297,697\u001b[0m (1.14 MB)\n"
      ]
     },
     "metadata": {},
     "output_type": "display_data"
    },
    {
     "data": {
      "text/html": [
       "<pre style=\"white-space:pre;overflow-x:auto;line-height:normal;font-family:Menlo,'DejaVu Sans Mono',consolas,'Courier New',monospace\"><span style=\"font-weight: bold\"> Trainable params: </span><span style=\"color: #00af00; text-decoration-color: #00af00\">297,697</span> (1.14 MB)\n",
       "</pre>\n"
      ],
      "text/plain": [
       "\u001b[1m Trainable params: \u001b[0m\u001b[38;5;34m297,697\u001b[0m (1.14 MB)\n"
      ]
     },
     "metadata": {},
     "output_type": "display_data"
    },
    {
     "data": {
      "text/html": [
       "<pre style=\"white-space:pre;overflow-x:auto;line-height:normal;font-family:Menlo,'DejaVu Sans Mono',consolas,'Courier New',monospace\"><span style=\"font-weight: bold\"> Non-trainable params: </span><span style=\"color: #00af00; text-decoration-color: #00af00\">0</span> (0.00 B)\n",
       "</pre>\n"
      ],
      "text/plain": [
       "\u001b[1m Non-trainable params: \u001b[0m\u001b[38;5;34m0\u001b[0m (0.00 B)\n"
      ]
     },
     "metadata": {},
     "output_type": "display_data"
    }
   ],
   "source": [
    "inputs = tf.keras.Input(shape=(32, 32, 3))\n",
    "x = tf.keras.layers.Rescaling(1./255)(inputs)\n",
    "\n",
    "def residual_block(x, filters, pooling=False):\n",
    "    residual = x                                                                 # ← SAVE\n",
    "    x = tf.keras.layers.Conv2D(filters, 3, activation=\"relu\", padding=\"same\")(x) #   branch 1\n",
    "    x = tf.keras.layers.Conv2D(filters, 3, activation=\"relu\", padding=\"same\")(x)\n",
    "    if pooling:\n",
    "        x = tf.keras.layers.MaxPooling2D(2, padding=\"same\")(x)\n",
    "        residual = tf.keras.layers.Conv2D(filters, 1, strides=2)(residual)       #   branch 2\n",
    "    elif filters != residual.shape[-1]:\n",
    "        residual = tf.keras.layers.Conv2D(filters, 1)(residual)                  #   branch 2\n",
    "    x = tf.keras.layers.add([x, residual])                                       # ← REINJECT\n",
    "    return x\n",
    "\n",
    "x = residual_block(x, filters=32, pooling=True)\n",
    "x = residual_block(x, filters=64, pooling=True)\n",
    "x = residual_block(x, filters=128, pooling=False)\n",
    "\n",
    "x = tf.keras.layers.GlobalAveragePooling2D()(x)\n",
    "outputs = tf.keras.layers.Dense(1, activation=\"sigmoid\")(x)\n",
    "model = tf.keras.Model(inputs=inputs, outputs=outputs)\n",
    "model.summary()"
   ]
  },
  {
   "cell_type": "markdown",
   "metadata": {
    "id": "n0ss-8c_b-TE"
   },
   "source": [
    "---\n",
    "\n",
    "## 9.3.3 Batch normalization"
   ]
  },
  {
   "cell_type": "markdown",
   "metadata": {
    "id": "n0ss-8c_b-TE"
   },
   "source": [
    "The output from a layer might have some large values – and these will dominate training.\n",
    "\n",
    "Batch normalisation is **like data preprocessing** at the level of a hidden layer.\n",
    "\n",
    "Normalise layer output to keep unusually high/low values under control."
   ]
  },
  {
   "cell_type": "markdown",
   "metadata": {
    "id": "xxornTlsteqa"
   },
   "source": [
    "It assists the optimiser and allows deeper networks (**stabilising** training).\n",
    "\n",
    "Some very deep networks would be impossible to train without batch normalisation."
   ]
  },
  {
   "cell_type": "markdown",
   "metadata": {
    "id": "xxornTlsteqa"
   },
   "source": [
    "**Note**\n",
    "\n",
    "Behaviour during inference (when *using* the trained model):\n",
    "\n",
    "*\"During training, it uses the **mean and variance of the current batch of data** to normalize samples, and during inference (when a big enough batch of representative data may not be available), it uses **an exponential moving average of the batch-wise mean and variance of the data** seen during training.\"* (DLWP, p.255, my emphasis)"
   ]
  },
  {
   "cell_type": "markdown",
   "metadata": {
    "id": "lSkmJDFBteqa"
   },
   "source": [
    "#### Note: `BatchNorm` before or after activations"
   ]
  },
  {
   "cell_type": "markdown",
   "metadata": {
    "id": "lSkmJDFBteqa"
   },
   "source": [
    "There is a debate around placing `BatchNorm` before or after activations (Chollet advocates: before).\n",
    "\n",
    "**How not to use batch normalization:**\n",
    "\n",
    "```python\n",
    "x = tf.keras.layers.Conv2D(32, 3, activation=\"relu\")(x)\n",
    "x = tf.keras.layers.BatchNormalization()(x)\n",
    "```\n",
    "\n",
    "**How to use batch normalization (the activation comes last):**\n",
    "\n",
    "```python\n",
    "x = tf.keras.layers.Conv2D(32, 3, use_bias=False)(x) # no activation\n",
    "x = tf.keras.layers.BatchNormalization()(x)\n",
    "x = tf.keras.layers.Activation(\"relu\")(x) # activation after normalisation\n",
    "```"
   ]
  },
  {
   "cell_type": "markdown",
   "metadata": {
    "id": "jHGDAL3Bteqa"
   },
   "source": [
    "<!-- ![Chollet batch norm](images/chollet.batch-norm-fine-tuning.p.257.png) -->\n",
    "<img src=\"https://github.com/jchwenger/AI/blob/main/7-advanced-DL-best-practices/images/chollet.batch-norm-fine-tuning.p.257.png?raw=true\">\n",
    "\n",
    "<small>DLWP, p.257</small>"
   ]
  },
  {
   "cell_type": "markdown",
   "metadata": {
    "id": "G20erF3fteqb"
   },
   "source": [
    "### Batch norm vs Layer norm"
   ]
  },
  {
   "cell_type": "markdown",
   "metadata": {
    "id": "G20erF3fteqb"
   },
   "source": [
    "Batch norm computes the statistics over a **batch of data**, which statisticians hate, and creates difficulties (train/inference).\n",
    "\n",
    "There have been several attempts to replace it. One of them is **layer norm** (used in the Transformer).\n",
    "\n",
    "The statistics are calculated on the *output of a layer*."
   ]
  },
  {
   "cell_type": "markdown",
   "metadata": {
    "id": "aEXQkk8tteqb"
   },
   "source": [
    "```python\n",
    "# input shape: (batch_size,sequence_length, embedding_dim)\n",
    "def layer_normalization(batch_of_sequences):\n",
    "                             # pool data over the last axis ↓--┐\n",
    "    mean = np.mean(batch_of_sequences, keepdims=True, axis=-1)#↓\n",
    "    std = np.std(batch_of_sequences, keepdims=True, axis=-1)\n",
    "    return (batch_of_sequences - mean) / std\n",
    "```\n",
    "\n",
    "```python\n",
    "# input shape: (batch_size, height, width, channels)\n",
    "def batch_normalization(batch_of_images):              # ↓ pool data over the\n",
    "    mean = np.mean(batch_of_images, keepdims=True, axis=(0, 1, 2))    \n",
    "    std = np.std(batch_of_images, keepdims=True, axis=(0, 1, 2))\n",
    "    # (that creates interactions between samples!)        # ↑ batch & w/h axes\n",
    "\n",
    "```"
   ]
  },
  {
   "cell_type": "markdown",
   "metadata": {
    "id": "o2wSbz0Oteqb"
   },
   "source": [
    "<!-- <img src=\"images/types-of-normalisations.png\"> -->\n",
    "<img src=\"https://github.com/jchwenger/AI/blob/main/7-advanced-DL-best-practices/images/types-of-normalisations.png?raw=true\">\n",
    "\n",
    "\n",
    "<small>[\"Batch normalization vs layer normalization\", Stack Overflow](https://stackoverflow.com/a/71397384)</small>  \n",
    "<small>[Yuxin Wu, Kaiming He, \"Group Normalization\", arxiv](https://arxiv.org/abs/1803.08494)</small>"
   ]
  },
  {
   "cell_type": "markdown",
   "metadata": {
    "id": "59p7C8ZNteqb"
   },
   "source": [
    "> Unlike batch normalization, Layer Normalization directly estimates the normalization statistics **from the summed inputs to the neurons within a hidden layer** so the normalization **does not introduce any new dependencies between training cases**. It works well for RNNs and improves both the training time and the generalization performance of several existing RNN models. More recently, it has been used with Transformer models. (My emphasis)\n",
    "\n",
    "[Ba et al., \"Layer Normalization\", Papers with Code](https://paperswithcode.com/method/layer-normalization)"
   ]
  },
  {
   "cell_type": "markdown",
   "metadata": {
    "id": "a58N4X7lteqb"
   },
   "source": [
    "This passage in the next video explains layer normalisation alongside batch and group normalisation:"
   ]
  },
  {
   "cell_type": "markdown",
   "metadata": {
    "id": "Oqy2hLRDb-TH"
   },
   "source": [
    "---\n",
    "\n",
    "## 9.3.4 Depthwise separable convolutions"
   ]
  },
  {
   "cell_type": "markdown",
   "metadata": {
    "id": "Oqy2hLRDb-TH"
   },
   "source": [
    "A replacement for `Conv2D` that is:\n",
    "\n",
    "- lighter (fewer trainable weights);\n",
    "- comparable in performance."
   ]
  },
  {
   "cell_type": "markdown",
   "metadata": {
    "id": "yab6a9ifteqb"
   },
   "source": [
    "The idea is to use a spatial convolution on each channel under the assumption that:\n",
    "\n",
    "- spatial locations are highly correlated;\n",
    "- different channels are fairly independent.\n",
    "\n",
    "The parallel convolutions are mixed via a pointwise (1D) convolution layer.\n",
    "\n",
    "Depthwise seperable convolutions are the basis of the high-performing **Xception** architecture."
   ]
  },
  {
   "cell_type": "markdown",
   "metadata": {
    "id": "4QElGrlcteqb",
    "jp-MarkdownHeadingCollapsed": true
   },
   "source": [
    "### Normal convolution"
   ]
  },
  {
   "cell_type": "markdown",
   "metadata": {
    "id": "4QElGrlcteqb"
   },
   "source": [
    "- **One filter**: the filter has the same depth as the feature map it is applied to (here: 3 channels).\n",
    "- **Multiple fitlers**: do the same operation several times, leading to numerous output feature maps.\n",
    "\n",
    "<!-- <img src=\"images/depthwise/other/depthwise.1.png\"> -->\n",
    "<img src=\"https://github.com/jchwenger/AI/blob/main/7-advanced-DL-best-practices/images/depthwise/other/depthwise.1.png?raw=true\">\n",
    "\n",
    "<small>Source: [Chi-Feng Wang, \"A Basic Introduction to Separable Convolutions\", Medium](https://towardsdatascience.com/a-basic-introduction-to-separable-convolutions-b99ec3102728)</small>"
   ]
  },
  {
   "cell_type": "markdown",
   "metadata": {
    "id": "WNl_t0bFteqc"
   },
   "source": [
    "(Same as one filter picture above, just vertically.)\n",
    "\n",
    "<!-- ![Normal Convolution](images/depthwise/normal-convolution.png) -->\n",
    "<img src=\"https://github.com/jchwenger/AI/blob/main/7-advanced-DL-best-practices/images/depthwise/normal-convolution.png?raw=true\">\n",
    "\n",
    "<small>Source: [Atul Pandey, \"Depth-wise Convolution and Depth-wise Separable Convolution\", Medium](https://medium.com/@zurister/depth-wise-convolution-and-depth-wise-separable-convolution-37346565d4ec)</small>"
   ]
  },
  {
   "cell_type": "markdown",
   "metadata": {
    "id": "WNl_t0bFteqc",
    "jp-MarkdownHeadingCollapsed": true
   },
   "source": [
    "### Depthwise separable convolution"
   ]
  },
  {
   "cell_type": "markdown",
   "metadata": {
    "id": "AVqIZwiRteqc"
   },
   "source": [
    "<!-- ![Normal Convolution](images/depthwise/depthwise.2.png) -->\n",
    "<img style=\"height:750px\" src=\"https://github.com/jchwenger/AI/blob/main/7-advanced-DL-best-practices/images/depthwise/depthwise.2.png?raw=true\">\n",
    "\n",
    "<small>Source: [Atul Pandey, \"Depth-wise Convolution and Depth-wise Separable Convolution\", Medium](https://medium.com/@zurister/depth-wise-convolution-and-depth-wise-separable-convolution-37346565d4ec)</small>"
   ]
  },
  {
   "cell_type": "markdown",
   "metadata": {
    "id": "CFJVN6nkb-TL"
   },
   "source": [
    "---\n",
    "\n",
    "## 9.3.5 Putting it together: A mini Xception-like model"
   ]
  },
  {
   "cell_type": "markdown",
   "metadata": {
    "id": "CFJVN6nkb-TL"
   },
   "source": [
    "An example of a model using these techniques: `BatchNormalization` and `SeparableConv2D`!"
   ]
  },
  {
   "cell_type": "markdown",
   "metadata": {
    "id": "ZzJqEL-uvBnZ",
    "jp-MarkdownHeadingCollapsed": true
   },
   "source": [
    "### Data download & processing"
   ]
  },
  {
   "cell_type": "markdown",
   "metadata": {
    "id": "RcAG6pw2vs4S"
   },
   "source": [
    "The dataset is available on [Kaggle](https://www.kaggle.com/c/dogs-vs-cats/data), and DLWP has a procedure to download it in Colab (pp.212-213):\n",
    "\n",
    "1. Create a Kaggle account (free)\n",
    "2. Go to [settings](https://www.kaggle.com/settings), create a token (`.json` file), download it locally and upload it to the main Colab folder. The code below expects that.\n"
   ]
  },
  {
   "cell_type": "code",
   "execution_count": 9,
   "metadata": {
    "id": "kZusnKOpmvSk"
   },
   "outputs": [],
   "source": [
    "DATASET_DIR = pathlib.Path(\"dogs-vs-cats\")\n",
    "ORIG_TRAIN_DIR = DATASET_DIR / \"train\"\n",
    "SMALL_DS_DIR = DATASET_DIR / pathlib.Path(\"dogs_vs_cats_small\")"
   ]
  },
  {
   "cell_type": "markdown",
   "metadata": {
    "id": "Ih5z5WwmvvMb",
    "jp-MarkdownHeadingCollapsed": true
   },
   "source": [
    "#### Integration with Google Colab\n"
   ]
  },
  {
   "cell_type": "markdown",
   "metadata": {
    "id": "rrwvxyEnvwuT"
   },
   "source": [
    "One additional possibility is to upload the `kaggle.json` file to your Google Drive, then connect this notebook to it and copy it from there."
   ]
  },
  {
   "cell_type": "code",
   "execution_count": 14,
   "metadata": {
    "colab": {
     "base_uri": "https://localhost:8080/"
    },
    "id": "SjL2mBkGv6Im",
    "outputId": "8b58e143-b74d-4aff-a9e3-b3818aca0f1e"
   },
   "outputs": [
    {
     "name": "stdout",
     "output_type": "stream",
     "text": [
      "Mounted at /content/drive\n"
     ]
    }
   ],
   "source": [
    "IMPORT = False\n",
    "if IMPORT:\n",
    "    from google.colab import drive\n",
    "    drive.mount('/content/drive')\n",
    "    # copy file from drive\n",
    "    !cp \"drive/MyDrive/IS53024B-Artificial-Intelligence/kaggle.json\" ."
   ]
  },
  {
   "cell_type": "code",
   "execution_count": 15,
   "metadata": {
    "colab": {
     "base_uri": "https://localhost:8080/"
    },
    "id": "hHhOdJQhx5Y8",
    "outputId": "7729cf22-6d2c-42fc-bfe6-6e78d19d14c1"
   },
   "outputs": [
    {
     "name": "stdout",
     "output_type": "stream",
     "text": [
      "Found token file `kaggle.json`\n"
     ]
    }
   ],
   "source": [
    "kaggle_auth = False\n",
    "if os.path.isfile(\"kaggle.json\"):\n",
    "    print(\"Found token file `kaggle.json`\")\n",
    "    !mkdir -p /root/.config/kaggle\n",
    "    !cp kaggle.json /root/.config/kaggle\n",
    "    !chmod 600 /root/.config/kaggle/kaggle.json\n",
    "    kaggle_auth = True\n",
    "else:\n",
    "    print(\"Could not token file `kaggle.json`, please see the steps above!\")"
   ]
  },
  {
   "cell_type": "code",
   "execution_count": 19,
   "metadata": {
    "colab": {
     "base_uri": "https://localhost:8080/"
    },
    "collapsed": true,
    "id": "UALCLnROrgLC",
    "jupyter": {
     "outputs_hidden": true
    },
    "outputId": "edbd4a25-93ea-4fba-886e-275653235b67"
   },
   "outputs": [
    {
     "name": "stdout",
     "output_type": "stream",
     "text": [
      "Downloading dogs-vs-cats.zip to /content\n",
      " 98% 798M/812M [00:03<00:00, 282MB/s]\n",
      "100% 812M/812M [00:03<00:00, 216MB/s]\n"
     ]
    }
   ],
   "source": [
    "if not DATASET_DIR.exists() and kaggle_auth:\n",
    "    !kaggle competitions download -c dogs-vs-cats\n",
    "    !unzip -q dogs-vs-cats -d dogs-vs-cats\n",
    "    !unzip -q dogs-vs-cats/train.zip -d dogs-vs-cats/"
   ]
  },
  {
   "cell_type": "markdown",
   "metadata": {
    "jp-MarkdownHeadingCollapsed": true
   },
   "source": [
    "#### Making directories"
   ]
  },
  {
   "cell_type": "code",
   "execution_count": 20,
   "metadata": {
    "colab": {
     "base_uri": "https://localhost:8080/"
    },
    "id": "TXJSwQP9b-TP",
    "outputId": "e2bf43ca-fc37-4168-fd42-edc7783a8ee7"
   },
   "outputs": [
    {
     "name": "stdout",
     "output_type": "stream",
     "text": [
      "found dogs-vs-cats/dogs_vs_cats_small/train/cat, done.\n",
      "found dogs-vs-cats/dogs_vs_cats_small/train/dog, done.\n",
      "found dogs-vs-cats/dogs_vs_cats_small/validation/cat, done.\n",
      "found dogs-vs-cats/dogs_vs_cats_small/validation/dog, done.\n",
      "found dogs-vs-cats/dogs_vs_cats_small/test/cat, done.\n",
      "found dogs-vs-cats/dogs_vs_cats_small/test/dog, done.\n",
      "Found 2000 files belonging to 2 classes.\n",
      "Found 1000 files belonging to 2 classes.\n",
      "Found 2000 files belonging to 2 classes.\n"
     ]
    }
   ],
   "source": [
    "TRAIN_DIR = DATASET_DIR / \"train\"\n",
    "\n",
    "def make_subset(subset_name, start_index, end_index):\n",
    "    for category in (\"cat\", \"dog\"):\n",
    "        small_dir = SMALL_DS_DIR / subset_name / category # sweet Pathlib syntax\n",
    "        if not os.path.isdir(small_dir):\n",
    "            os.makedirs(small_dir, exist_ok=True)\n",
    "        if len(os.listdir(small_dir)) == end_index - start_index:\n",
    "            # we reached the desired number of images\n",
    "            return\n",
    "        fnames = [f\"{category}.{i}.jpg\" for i in range(start_index, end_index)]\n",
    "        # print(fnames)\n",
    "        for fname in fnames:\n",
    "            shutil.copyfile(src=ORIG_TRAIN_DIR / fname,\n",
    "                            dst=small_dir / fname)\n",
    "        else:\n",
    "            print(f\"found {small_dir}, done.\")\n",
    "\n",
    "make_subset(\"train\", start_index=0, end_index=1000)\n",
    "make_subset(\"validation\", start_index=1000, end_index=1500)\n",
    "make_subset(\"test\", start_index=1500, end_index=2500)\n",
    "\n",
    "BATCH_SIZE = 32\n",
    "train_dataset = tf.keras.utils.image_dataset_from_directory(\n",
    "    SMALL_DS_DIR / \"train\",\n",
    "    image_size=(180, 180),\n",
    "    batch_size=BATCH_SIZE).prefetch(tf.data.AUTOTUNE)\n",
    "validation_dataset = tf.keras.utils.image_dataset_from_directory(\n",
    "    SMALL_DS_DIR / \"validation\",\n",
    "    image_size=(180, 180),\n",
    "    batch_size=BATCH_SIZE).prefetch(tf.data.AUTOTUNE)\n",
    "test_dataset = tf.keras.utils.image_dataset_from_directory(\n",
    "    SMALL_DS_DIR / \"test\",\n",
    "    image_size=(180, 180),\n",
    "    batch_size=BATCH_SIZE).prefetch(tf.data.AUTOTUNE)"
   ]
  },
  {
   "cell_type": "markdown",
   "metadata": {
    "id": "ZzJqEL-uvBnZ",
    "jp-MarkdownHeadingCollapsed": true
   },
   "source": [
    "### The model"
   ]
  },
  {
   "cell_type": "code",
   "execution_count": 21,
   "metadata": {
    "id": "v8VVWmlib-TS"
   },
   "outputs": [],
   "source": [
    "data_augmentation = tf.keras.Sequential(\n",
    "    [\n",
    "        tf.keras.layers.RandomFlip(\"horizontal\"),\n",
    "        tf.keras.layers.RandomRotation(0.1),\n",
    "        tf.keras.layers.RandomZoom(0.2),\n",
    "    ]\n",
    ")"
   ]
  },
  {
   "cell_type": "code",
   "execution_count": 22,
   "metadata": {
    "id": "KtxgZ9ZJb-TV"
   },
   "outputs": [],
   "source": [
    "inputs = tf.keras.Input(shape=(180, 180, 3))\n",
    "x = data_augmentation(inputs)\n",
    "\n",
    "x = tf.keras.layers.Rescaling(1./255)(x)\n",
    "x = tf.keras.layers.Conv2D(filters=32, kernel_size=5, use_bias=False)(x)\n",
    "\n",
    "for size in [32, 64, 128, 256, 512]:\n",
    "    residual = x                                                                    # ← RESIDUAL\n",
    "\n",
    "    x = tf.keras.layers.BatchNormalization()(x)\n",
    "    x = tf.keras.layers.Activation(\"relu\")(x)\n",
    "    x = tf.keras.layers.SeparableConv2D(size, 3, padding=\"same\", use_bias=False)(x) # ← SEPARABLE CONV\n",
    "\n",
    "    x = tf.keras.layers.BatchNormalization()(x)\n",
    "    x = tf.keras.layers.Activation(\"relu\")(x)\n",
    "    x = tf.keras.layers.SeparableConv2D(size, 3, padding=\"same\", use_bias=False)(x) # ← SEPARABLE CONV\n",
    "\n",
    "    x = tf.keras.layers.MaxPooling2D(3, strides=2, padding=\"same\")(x)\n",
    "\n",
    "    residual = tf.keras.layers.Conv2D(                                              # reshape the residual\n",
    "        size, 1, strides=2, padding=\"same\", use_bias=False\n",
    "    )(residual)\n",
    "    x = tf.keras.layers.add([x, residual])                                          # ← REINJECTED\n",
    "\n",
    "x = tf.keras.layers.GlobalAveragePooling2D()(x)\n",
    "x = tf.keras.layers.Dropout(0.5)(x)\n",
    "outputs = tf.keras.layers.Dense(1, activation=\"sigmoid\")(x)\n",
    "model = tf.keras.Model(inputs=inputs, outputs=outputs)\n",
    "model.compile(\n",
    "    loss=\"binary_crossentropy\",\n",
    "    optimizer=\"rmsprop\",\n",
    "    metrics=[\"accuracy\"]\n",
    ")"
   ]
  },
  {
   "cell_type": "markdown",
   "metadata": {
    "jp-MarkdownHeadingCollapsed": true
   },
   "source": [
    "### Training"
   ]
  },
  {
   "cell_type": "code",
   "execution_count": 23,
   "metadata": {
    "colab": {
     "base_uri": "https://localhost:8080/"
    },
    "id": "p3uuqvvAPsfY",
    "outputId": "230359ae-370a-47c5-b90c-25eea80c975d",
    "scrolled": true
   },
   "outputs": [
    {
     "name": "stdout",
     "output_type": "stream",
     "text": [
      "Epoch 1/100\n",
      "\u001b[1m63/63\u001b[0m \u001b[32m━━━━━━━━━━━━━━━━━━━━\u001b[0m\u001b[37m\u001b[0m \u001b[1m18s\u001b[0m 99ms/step - accuracy: 0.5344 - loss: 0.7562 - val_accuracy: 0.5000 - val_loss: 0.6931\n",
      "Epoch 2/100\n",
      "\u001b[1m63/63\u001b[0m \u001b[32m━━━━━━━━━━━━━━━━━━━━\u001b[0m\u001b[37m\u001b[0m \u001b[1m3s\u001b[0m 48ms/step - accuracy: 0.5988 - loss: 0.6694 - val_accuracy: 0.5000 - val_loss: 0.6943\n",
      "Epoch 3/100\n",
      "\u001b[1m63/63\u001b[0m \u001b[32m━━━━━━━━━━━━━━━━━━━━\u001b[0m\u001b[37m\u001b[0m \u001b[1m3s\u001b[0m 48ms/step - accuracy: 0.6262 - loss: 0.6473 - val_accuracy: 0.5000 - val_loss: 0.6954\n",
      "Epoch 4/100\n",
      "\u001b[1m63/63\u001b[0m \u001b[32m━━━━━━━━━━━━━━━━━━━━\u001b[0m\u001b[37m\u001b[0m \u001b[1m3s\u001b[0m 47ms/step - accuracy: 0.6358 - loss: 0.6283 - val_accuracy: 0.5000 - val_loss: 0.7009\n",
      "Epoch 5/100\n",
      "\u001b[1m63/63\u001b[0m \u001b[32m━━━━━━━━━━━━━━━━━━━━\u001b[0m\u001b[37m\u001b[0m \u001b[1m3s\u001b[0m 47ms/step - accuracy: 0.6593 - loss: 0.6233 - val_accuracy: 0.5000 - val_loss: 0.7471\n",
      "Epoch 6/100\n",
      "\u001b[1m63/63\u001b[0m \u001b[32m━━━━━━━━━━━━━━━━━━━━\u001b[0m\u001b[37m\u001b[0m \u001b[1m3s\u001b[0m 48ms/step - accuracy: 0.6817 - loss: 0.6013 - val_accuracy: 0.5000 - val_loss: 0.8269\n",
      "Epoch 7/100\n",
      "\u001b[1m63/63\u001b[0m \u001b[32m━━━━━━━━━━━━━━━━━━━━\u001b[0m\u001b[37m\u001b[0m \u001b[1m3s\u001b[0m 48ms/step - accuracy: 0.7058 - loss: 0.5792 - val_accuracy: 0.5000 - val_loss: 0.9904\n",
      "Epoch 8/100\n",
      "\u001b[1m63/63\u001b[0m \u001b[32m━━━━━━━━━━━━━━━━━━━━\u001b[0m\u001b[37m\u001b[0m \u001b[1m3s\u001b[0m 48ms/step - accuracy: 0.7264 - loss: 0.5535 - val_accuracy: 0.5340 - val_loss: 0.8036\n",
      "Epoch 9/100\n",
      "\u001b[1m63/63\u001b[0m \u001b[32m━━━━━━━━━━━━━━━━━━━━\u001b[0m\u001b[37m\u001b[0m \u001b[1m3s\u001b[0m 48ms/step - accuracy: 0.7209 - loss: 0.5565 - val_accuracy: 0.5410 - val_loss: 0.9840\n",
      "Epoch 10/100\n",
      "\u001b[1m63/63\u001b[0m \u001b[32m━━━━━━━━━━━━━━━━━━━━\u001b[0m\u001b[37m\u001b[0m \u001b[1m3s\u001b[0m 48ms/step - accuracy: 0.7565 - loss: 0.5347 - val_accuracy: 0.6750 - val_loss: 0.7112\n",
      "Epoch 11/100\n",
      "\u001b[1m63/63\u001b[0m \u001b[32m━━━━━━━━━━━━━━━━━━━━\u001b[0m\u001b[37m\u001b[0m \u001b[1m3s\u001b[0m 48ms/step - accuracy: 0.7658 - loss: 0.5005 - val_accuracy: 0.7260 - val_loss: 0.5447\n",
      "Epoch 12/100\n",
      "\u001b[1m63/63\u001b[0m \u001b[32m━━━━━━━━━━━━━━━━━━━━\u001b[0m\u001b[37m\u001b[0m \u001b[1m3s\u001b[0m 48ms/step - accuracy: 0.7473 - loss: 0.5103 - val_accuracy: 0.7070 - val_loss: 0.5705\n",
      "Epoch 13/100\n",
      "\u001b[1m63/63\u001b[0m \u001b[32m━━━━━━━━━━━━━━━━━━━━\u001b[0m\u001b[37m\u001b[0m \u001b[1m3s\u001b[0m 48ms/step - accuracy: 0.7482 - loss: 0.4856 - val_accuracy: 0.7200 - val_loss: 0.5598\n",
      "Epoch 14/100\n",
      "\u001b[1m63/63\u001b[0m \u001b[32m━━━━━━━━━━━━━━━━━━━━\u001b[0m\u001b[37m\u001b[0m \u001b[1m3s\u001b[0m 47ms/step - accuracy: 0.7759 - loss: 0.4713 - val_accuracy: 0.7120 - val_loss: 0.5557\n",
      "Epoch 15/100\n",
      "\u001b[1m63/63\u001b[0m \u001b[32m━━━━━━━━━━━━━━━━━━━━\u001b[0m\u001b[37m\u001b[0m \u001b[1m3s\u001b[0m 48ms/step - accuracy: 0.7828 - loss: 0.4651 - val_accuracy: 0.7260 - val_loss: 0.5454\n",
      "Epoch 16/100\n",
      "\u001b[1m63/63\u001b[0m \u001b[32m━━━━━━━━━━━━━━━━━━━━\u001b[0m\u001b[37m\u001b[0m \u001b[1m3s\u001b[0m 47ms/step - accuracy: 0.7949 - loss: 0.4422 - val_accuracy: 0.7780 - val_loss: 0.4819\n",
      "Epoch 17/100\n",
      "\u001b[1m63/63\u001b[0m \u001b[32m━━━━━━━━━━━━━━━━━━━━\u001b[0m\u001b[37m\u001b[0m \u001b[1m3s\u001b[0m 47ms/step - accuracy: 0.8068 - loss: 0.4389 - val_accuracy: 0.7760 - val_loss: 0.4869\n",
      "Epoch 18/100\n",
      "\u001b[1m63/63\u001b[0m \u001b[32m━━━━━━━━━━━━━━━━━━━━\u001b[0m\u001b[37m\u001b[0m \u001b[1m3s\u001b[0m 47ms/step - accuracy: 0.7893 - loss: 0.4258 - val_accuracy: 0.7450 - val_loss: 0.5340\n",
      "Epoch 19/100\n",
      "\u001b[1m63/63\u001b[0m \u001b[32m━━━━━━━━━━━━━━━━━━━━\u001b[0m\u001b[37m\u001b[0m \u001b[1m3s\u001b[0m 48ms/step - accuracy: 0.8223 - loss: 0.4006 - val_accuracy: 0.7770 - val_loss: 0.4930\n",
      "Epoch 20/100\n",
      "\u001b[1m63/63\u001b[0m \u001b[32m━━━━━━━━━━━━━━━━━━━━\u001b[0m\u001b[37m\u001b[0m \u001b[1m3s\u001b[0m 48ms/step - accuracy: 0.8264 - loss: 0.4070 - val_accuracy: 0.7060 - val_loss: 0.7446\n",
      "Epoch 21/100\n",
      "\u001b[1m63/63\u001b[0m \u001b[32m━━━━━━━━━━━━━━━━━━━━\u001b[0m\u001b[37m\u001b[0m \u001b[1m3s\u001b[0m 48ms/step - accuracy: 0.8351 - loss: 0.3900 - val_accuracy: 0.7650 - val_loss: 0.5125\n",
      "Epoch 22/100\n",
      "\u001b[1m63/63\u001b[0m \u001b[32m━━━━━━━━━━━━━━━━━━━━\u001b[0m\u001b[37m\u001b[0m \u001b[1m3s\u001b[0m 48ms/step - accuracy: 0.8299 - loss: 0.3854 - val_accuracy: 0.7440 - val_loss: 0.6012\n",
      "Epoch 23/100\n",
      "\u001b[1m63/63\u001b[0m \u001b[32m━━━━━━━━━━━━━━━━━━━━\u001b[0m\u001b[37m\u001b[0m \u001b[1m3s\u001b[0m 48ms/step - accuracy: 0.8377 - loss: 0.3628 - val_accuracy: 0.7480 - val_loss: 0.6007\n",
      "Epoch 24/100\n",
      "\u001b[1m63/63\u001b[0m \u001b[32m━━━━━━━━━━━━━━━━━━━━\u001b[0m\u001b[37m\u001b[0m \u001b[1m3s\u001b[0m 47ms/step - accuracy: 0.8434 - loss: 0.3558 - val_accuracy: 0.6810 - val_loss: 0.7868\n",
      "Epoch 25/100\n",
      "\u001b[1m63/63\u001b[0m \u001b[32m━━━━━━━━━━━━━━━━━━━━\u001b[0m\u001b[37m\u001b[0m \u001b[1m3s\u001b[0m 47ms/step - accuracy: 0.8573 - loss: 0.3345 - val_accuracy: 0.7700 - val_loss: 0.5003\n",
      "Epoch 26/100\n",
      "\u001b[1m63/63\u001b[0m \u001b[32m━━━━━━━━━━━━━━━━━━━━\u001b[0m\u001b[37m\u001b[0m \u001b[1m3s\u001b[0m 47ms/step - accuracy: 0.8463 - loss: 0.3401 - val_accuracy: 0.6450 - val_loss: 1.0600\n",
      "Epoch 27/100\n",
      "\u001b[1m63/63\u001b[0m \u001b[32m━━━━━━━━━━━━━━━━━━━━\u001b[0m\u001b[37m\u001b[0m \u001b[1m3s\u001b[0m 48ms/step - accuracy: 0.8681 - loss: 0.3118 - val_accuracy: 0.7120 - val_loss: 0.8669\n",
      "Epoch 28/100\n",
      "\u001b[1m63/63\u001b[0m \u001b[32m━━━━━━━━━━━━━━━━━━━━\u001b[0m\u001b[37m\u001b[0m \u001b[1m3s\u001b[0m 47ms/step - accuracy: 0.8635 - loss: 0.3201 - val_accuracy: 0.7440 - val_loss: 0.8001\n",
      "Epoch 29/100\n",
      "\u001b[1m63/63\u001b[0m \u001b[32m━━━━━━━━━━━━━━━━━━━━\u001b[0m\u001b[37m\u001b[0m \u001b[1m3s\u001b[0m 48ms/step - accuracy: 0.8515 - loss: 0.3331 - val_accuracy: 0.7990 - val_loss: 0.4778\n",
      "Epoch 30/100\n",
      "\u001b[1m63/63\u001b[0m \u001b[32m━━━━━━━━━━━━━━━━━━━━\u001b[0m\u001b[37m\u001b[0m \u001b[1m3s\u001b[0m 47ms/step - accuracy: 0.8609 - loss: 0.3258 - val_accuracy: 0.6830 - val_loss: 1.0284\n",
      "Epoch 31/100\n",
      "\u001b[1m63/63\u001b[0m \u001b[32m━━━━━━━━━━━━━━━━━━━━\u001b[0m\u001b[37m\u001b[0m \u001b[1m3s\u001b[0m 48ms/step - accuracy: 0.8746 - loss: 0.2838 - val_accuracy: 0.7760 - val_loss: 0.5263\n",
      "Epoch 32/100\n",
      "\u001b[1m63/63\u001b[0m \u001b[32m━━━━━━━━━━━━━━━━━━━━\u001b[0m\u001b[37m\u001b[0m \u001b[1m3s\u001b[0m 47ms/step - accuracy: 0.8651 - loss: 0.3055 - val_accuracy: 0.7820 - val_loss: 0.5519\n",
      "Epoch 33/100\n",
      "\u001b[1m63/63\u001b[0m \u001b[32m━━━━━━━━━━━━━━━━━━━━\u001b[0m\u001b[37m\u001b[0m \u001b[1m3s\u001b[0m 47ms/step - accuracy: 0.8931 - loss: 0.2584 - val_accuracy: 0.7570 - val_loss: 0.8312\n",
      "Epoch 34/100\n",
      "\u001b[1m63/63\u001b[0m \u001b[32m━━━━━━━━━━━━━━━━━━━━\u001b[0m\u001b[37m\u001b[0m \u001b[1m3s\u001b[0m 47ms/step - accuracy: 0.8893 - loss: 0.2779 - val_accuracy: 0.6320 - val_loss: 1.2367\n",
      "Epoch 35/100\n",
      "\u001b[1m63/63\u001b[0m \u001b[32m━━━━━━━━━━━━━━━━━━━━\u001b[0m\u001b[37m\u001b[0m \u001b[1m3s\u001b[0m 48ms/step - accuracy: 0.8824 - loss: 0.2714 - val_accuracy: 0.7770 - val_loss: 0.6090\n",
      "Epoch 36/100\n",
      "\u001b[1m63/63\u001b[0m \u001b[32m━━━━━━━━━━━━━━━━━━━━\u001b[0m\u001b[37m\u001b[0m \u001b[1m3s\u001b[0m 48ms/step - accuracy: 0.8978 - loss: 0.2484 - val_accuracy: 0.8070 - val_loss: 0.4970\n",
      "Epoch 37/100\n",
      "\u001b[1m63/63\u001b[0m \u001b[32m━━━━━━━━━━━━━━━━━━━━\u001b[0m\u001b[37m\u001b[0m \u001b[1m3s\u001b[0m 47ms/step - accuracy: 0.8841 - loss: 0.2538 - val_accuracy: 0.8350 - val_loss: 0.4111\n",
      "Epoch 38/100\n",
      "\u001b[1m63/63\u001b[0m \u001b[32m━━━━━━━━━━━━━━━━━━━━\u001b[0m\u001b[37m\u001b[0m \u001b[1m3s\u001b[0m 47ms/step - accuracy: 0.8915 - loss: 0.2598 - val_accuracy: 0.7480 - val_loss: 1.0220\n",
      "Epoch 39/100\n",
      "\u001b[1m63/63\u001b[0m \u001b[32m━━━━━━━━━━━━━━━━━━━━\u001b[0m\u001b[37m\u001b[0m \u001b[1m3s\u001b[0m 48ms/step - accuracy: 0.8937 - loss: 0.2498 - val_accuracy: 0.7880 - val_loss: 0.5990\n",
      "Epoch 40/100\n",
      "\u001b[1m63/63\u001b[0m \u001b[32m━━━━━━━━━━━━━━━━━━━━\u001b[0m\u001b[37m\u001b[0m \u001b[1m3s\u001b[0m 48ms/step - accuracy: 0.9098 - loss: 0.2494 - val_accuracy: 0.7890 - val_loss: 0.6087\n",
      "Epoch 41/100\n",
      "\u001b[1m63/63\u001b[0m \u001b[32m━━━━━━━━━━━━━━━━━━━━\u001b[0m\u001b[37m\u001b[0m \u001b[1m3s\u001b[0m 47ms/step - accuracy: 0.9103 - loss: 0.2247 - val_accuracy: 0.7610 - val_loss: 0.6519\n",
      "Epoch 42/100\n",
      "\u001b[1m63/63\u001b[0m \u001b[32m━━━━━━━━━━━━━━━━━━━━\u001b[0m\u001b[37m\u001b[0m \u001b[1m3s\u001b[0m 47ms/step - accuracy: 0.9096 - loss: 0.2285 - val_accuracy: 0.7930 - val_loss: 0.5848\n",
      "Epoch 43/100\n",
      "\u001b[1m63/63\u001b[0m \u001b[32m━━━━━━━━━━━━━━━━━━━━\u001b[0m\u001b[37m\u001b[0m \u001b[1m3s\u001b[0m 48ms/step - accuracy: 0.9019 - loss: 0.2365 - val_accuracy: 0.8300 - val_loss: 0.4347\n",
      "Epoch 44/100\n",
      "\u001b[1m63/63\u001b[0m \u001b[32m━━━━━━━━━━━━━━━━━━━━\u001b[0m\u001b[37m\u001b[0m \u001b[1m3s\u001b[0m 48ms/step - accuracy: 0.9099 - loss: 0.2217 - val_accuracy: 0.6850 - val_loss: 1.2700\n",
      "Epoch 45/100\n",
      "\u001b[1m63/63\u001b[0m \u001b[32m━━━━━━━━━━━━━━━━━━━━\u001b[0m\u001b[37m\u001b[0m \u001b[1m3s\u001b[0m 48ms/step - accuracy: 0.9077 - loss: 0.2291 - val_accuracy: 0.7970 - val_loss: 0.6187\n",
      "Epoch 46/100\n",
      "\u001b[1m63/63\u001b[0m \u001b[32m━━━━━━━━━━━━━━━━━━━━\u001b[0m\u001b[37m\u001b[0m \u001b[1m3s\u001b[0m 48ms/step - accuracy: 0.9299 - loss: 0.1992 - val_accuracy: 0.7880 - val_loss: 0.7297\n",
      "Epoch 47/100\n",
      "\u001b[1m63/63\u001b[0m \u001b[32m━━━━━━━━━━━━━━━━━━━━\u001b[0m\u001b[37m\u001b[0m \u001b[1m3s\u001b[0m 48ms/step - accuracy: 0.9158 - loss: 0.1915 - val_accuracy: 0.7600 - val_loss: 0.8571\n",
      "Epoch 48/100\n",
      "\u001b[1m63/63\u001b[0m \u001b[32m━━━━━━━━━━━━━━━━━━━━\u001b[0m\u001b[37m\u001b[0m \u001b[1m3s\u001b[0m 48ms/step - accuracy: 0.9094 - loss: 0.2115 - val_accuracy: 0.7450 - val_loss: 0.7462\n",
      "Epoch 49/100\n",
      "\u001b[1m63/63\u001b[0m \u001b[32m━━━━━━━━━━━━━━━━━━━━\u001b[0m\u001b[37m\u001b[0m \u001b[1m3s\u001b[0m 47ms/step - accuracy: 0.9170 - loss: 0.1952 - val_accuracy: 0.7850 - val_loss: 0.5804\n",
      "Epoch 50/100\n",
      "\u001b[1m63/63\u001b[0m \u001b[32m━━━━━━━━━━━━━━━━━━━━\u001b[0m\u001b[37m\u001b[0m \u001b[1m3s\u001b[0m 48ms/step - accuracy: 0.9288 - loss: 0.1917 - val_accuracy: 0.8190 - val_loss: 0.5394\n",
      "Epoch 51/100\n",
      "\u001b[1m63/63\u001b[0m \u001b[32m━━━━━━━━━━━━━━━━━━━━\u001b[0m\u001b[37m\u001b[0m \u001b[1m3s\u001b[0m 47ms/step - accuracy: 0.9230 - loss: 0.1954 - val_accuracy: 0.8360 - val_loss: 0.4780\n",
      "Epoch 52/100\n",
      "\u001b[1m63/63\u001b[0m \u001b[32m━━━━━━━━━━━━━━━━━━━━\u001b[0m\u001b[37m\u001b[0m \u001b[1m3s\u001b[0m 48ms/step - accuracy: 0.9242 - loss: 0.1838 - val_accuracy: 0.7950 - val_loss: 0.5559\n",
      "Epoch 53/100\n",
      "\u001b[1m63/63\u001b[0m \u001b[32m━━━━━━━━━━━━━━━━━━━━\u001b[0m\u001b[37m\u001b[0m \u001b[1m3s\u001b[0m 47ms/step - accuracy: 0.9237 - loss: 0.1906 - val_accuracy: 0.8380 - val_loss: 0.4523\n",
      "Epoch 54/100\n",
      "\u001b[1m63/63\u001b[0m \u001b[32m━━━━━━━━━━━━━━━━━━━━\u001b[0m\u001b[37m\u001b[0m \u001b[1m3s\u001b[0m 48ms/step - accuracy: 0.9331 - loss: 0.1687 - val_accuracy: 0.7160 - val_loss: 1.0644\n",
      "Epoch 55/100\n",
      "\u001b[1m63/63\u001b[0m \u001b[32m━━━━━━━━━━━━━━━━━━━━\u001b[0m\u001b[37m\u001b[0m \u001b[1m3s\u001b[0m 47ms/step - accuracy: 0.9336 - loss: 0.1570 - val_accuracy: 0.8320 - val_loss: 0.5075\n",
      "Epoch 56/100\n",
      "\u001b[1m63/63\u001b[0m \u001b[32m━━━━━━━━━━━━━━━━━━━━\u001b[0m\u001b[37m\u001b[0m \u001b[1m3s\u001b[0m 48ms/step - accuracy: 0.9379 - loss: 0.1714 - val_accuracy: 0.7770 - val_loss: 0.9157\n",
      "Epoch 57/100\n",
      "\u001b[1m63/63\u001b[0m \u001b[32m━━━━━━━━━━━━━━━━━━━━\u001b[0m\u001b[37m\u001b[0m \u001b[1m3s\u001b[0m 48ms/step - accuracy: 0.9360 - loss: 0.1806 - val_accuracy: 0.8360 - val_loss: 0.4459\n",
      "Epoch 58/100\n",
      "\u001b[1m63/63\u001b[0m \u001b[32m━━━━━━━━━━━━━━━━━━━━\u001b[0m\u001b[37m\u001b[0m \u001b[1m3s\u001b[0m 48ms/step - accuracy: 0.9323 - loss: 0.1596 - val_accuracy: 0.8530 - val_loss: 0.4420\n",
      "Epoch 59/100\n",
      "\u001b[1m63/63\u001b[0m \u001b[32m━━━━━━━━━━━━━━━━━━━━\u001b[0m\u001b[37m\u001b[0m \u001b[1m3s\u001b[0m 47ms/step - accuracy: 0.9332 - loss: 0.1513 - val_accuracy: 0.8370 - val_loss: 0.5646\n",
      "Epoch 60/100\n",
      "\u001b[1m63/63\u001b[0m \u001b[32m━━━━━━━━━━━━━━━━━━━━\u001b[0m\u001b[37m\u001b[0m \u001b[1m3s\u001b[0m 48ms/step - accuracy: 0.9351 - loss: 0.1482 - val_accuracy: 0.7740 - val_loss: 0.7847\n",
      "Epoch 61/100\n",
      "\u001b[1m63/63\u001b[0m \u001b[32m━━━━━━━━━━━━━━━━━━━━\u001b[0m\u001b[37m\u001b[0m \u001b[1m3s\u001b[0m 47ms/step - accuracy: 0.9401 - loss: 0.1529 - val_accuracy: 0.8230 - val_loss: 0.5257\n",
      "Epoch 62/100\n",
      "\u001b[1m63/63\u001b[0m \u001b[32m━━━━━━━━━━━━━━━━━━━━\u001b[0m\u001b[37m\u001b[0m \u001b[1m3s\u001b[0m 47ms/step - accuracy: 0.9310 - loss: 0.1580 - val_accuracy: 0.8270 - val_loss: 0.6656\n",
      "Epoch 63/100\n",
      "\u001b[1m63/63\u001b[0m \u001b[32m━━━━━━━━━━━━━━━━━━━━\u001b[0m\u001b[37m\u001b[0m \u001b[1m3s\u001b[0m 47ms/step - accuracy: 0.9437 - loss: 0.1349 - val_accuracy: 0.8340 - val_loss: 0.6318\n",
      "Epoch 64/100\n",
      "\u001b[1m63/63\u001b[0m \u001b[32m━━━━━━━━━━━━━━━━━━━━\u001b[0m\u001b[37m\u001b[0m \u001b[1m3s\u001b[0m 48ms/step - accuracy: 0.9462 - loss: 0.1398 - val_accuracy: 0.7680 - val_loss: 0.8232\n",
      "Epoch 65/100\n",
      "\u001b[1m63/63\u001b[0m \u001b[32m━━━━━━━━━━━━━━━━━━━━\u001b[0m\u001b[37m\u001b[0m \u001b[1m3s\u001b[0m 47ms/step - accuracy: 0.9481 - loss: 0.1527 - val_accuracy: 0.7030 - val_loss: 0.9931\n",
      "Epoch 66/100\n",
      "\u001b[1m63/63\u001b[0m \u001b[32m━━━━━━━━━━━━━━━━━━━━\u001b[0m\u001b[37m\u001b[0m \u001b[1m3s\u001b[0m 47ms/step - accuracy: 0.9443 - loss: 0.1396 - val_accuracy: 0.8380 - val_loss: 0.4777\n",
      "Epoch 67/100\n",
      "\u001b[1m63/63\u001b[0m \u001b[32m━━━━━━━━━━━━━━━━━━━━\u001b[0m\u001b[37m\u001b[0m \u001b[1m3s\u001b[0m 47ms/step - accuracy: 0.9519 - loss: 0.1427 - val_accuracy: 0.8120 - val_loss: 0.6484\n",
      "Epoch 68/100\n",
      "\u001b[1m63/63\u001b[0m \u001b[32m━━━━━━━━━━━━━━━━━━━━\u001b[0m\u001b[37m\u001b[0m \u001b[1m3s\u001b[0m 48ms/step - accuracy: 0.9513 - loss: 0.1255 - val_accuracy: 0.8380 - val_loss: 0.5064\n",
      "Epoch 69/100\n",
      "\u001b[1m63/63\u001b[0m \u001b[32m━━━━━━━━━━━━━━━━━━━━\u001b[0m\u001b[37m\u001b[0m \u001b[1m3s\u001b[0m 47ms/step - accuracy: 0.9500 - loss: 0.1202 - val_accuracy: 0.8250 - val_loss: 0.6375\n",
      "Epoch 70/100\n",
      "\u001b[1m63/63\u001b[0m \u001b[32m━━━━━━━━━━━━━━━━━━━━\u001b[0m\u001b[37m\u001b[0m \u001b[1m3s\u001b[0m 48ms/step - accuracy: 0.9657 - loss: 0.0974 - val_accuracy: 0.8360 - val_loss: 0.5418\n",
      "Epoch 71/100\n",
      "\u001b[1m63/63\u001b[0m \u001b[32m━━━━━━━━━━━━━━━━━━━━\u001b[0m\u001b[37m\u001b[0m \u001b[1m3s\u001b[0m 47ms/step - accuracy: 0.9410 - loss: 0.1400 - val_accuracy: 0.8040 - val_loss: 0.6649\n",
      "Epoch 72/100\n",
      "\u001b[1m63/63\u001b[0m \u001b[32m━━━━━━━━━━━━━━━━━━━━\u001b[0m\u001b[37m\u001b[0m \u001b[1m3s\u001b[0m 48ms/step - accuracy: 0.9520 - loss: 0.1310 - val_accuracy: 0.8320 - val_loss: 0.5401\n",
      "Epoch 73/100\n",
      "\u001b[1m63/63\u001b[0m \u001b[32m━━━━━━━━━━━━━━━━━━━━\u001b[0m\u001b[37m\u001b[0m \u001b[1m3s\u001b[0m 47ms/step - accuracy: 0.9591 - loss: 0.1009 - val_accuracy: 0.8610 - val_loss: 0.4779\n",
      "Epoch 74/100\n",
      "\u001b[1m63/63\u001b[0m \u001b[32m━━━━━━━━━━━━━━━━━━━━\u001b[0m\u001b[37m\u001b[0m \u001b[1m3s\u001b[0m 47ms/step - accuracy: 0.9607 - loss: 0.1104 - val_accuracy: 0.8120 - val_loss: 0.6151\n",
      "Epoch 75/100\n",
      "\u001b[1m63/63\u001b[0m \u001b[32m━━━━━━━━━━━━━━━━━━━━\u001b[0m\u001b[37m\u001b[0m \u001b[1m3s\u001b[0m 47ms/step - accuracy: 0.9436 - loss: 0.1607 - val_accuracy: 0.8080 - val_loss: 0.6382\n",
      "Epoch 76/100\n",
      "\u001b[1m63/63\u001b[0m \u001b[32m━━━━━━━━━━━━━━━━━━━━\u001b[0m\u001b[37m\u001b[0m \u001b[1m3s\u001b[0m 47ms/step - accuracy: 0.9488 - loss: 0.1203 - val_accuracy: 0.8100 - val_loss: 0.5757\n",
      "Epoch 77/100\n",
      "\u001b[1m63/63\u001b[0m \u001b[32m━━━━━━━━━━━━━━━━━━━━\u001b[0m\u001b[37m\u001b[0m \u001b[1m3s\u001b[0m 48ms/step - accuracy: 0.9534 - loss: 0.1204 - val_accuracy: 0.8010 - val_loss: 0.6850\n",
      "Epoch 78/100\n",
      "\u001b[1m63/63\u001b[0m \u001b[32m━━━━━━━━━━━━━━━━━━━━\u001b[0m\u001b[37m\u001b[0m \u001b[1m3s\u001b[0m 47ms/step - accuracy: 0.9542 - loss: 0.1289 - val_accuracy: 0.8360 - val_loss: 0.5093\n",
      "Epoch 79/100\n",
      "\u001b[1m63/63\u001b[0m \u001b[32m━━━━━━━━━━━━━━━━━━━━\u001b[0m\u001b[37m\u001b[0m \u001b[1m3s\u001b[0m 47ms/step - accuracy: 0.9546 - loss: 0.1229 - val_accuracy: 0.8510 - val_loss: 0.4677\n",
      "Epoch 80/100\n",
      "\u001b[1m63/63\u001b[0m \u001b[32m━━━━━━━━━━━━━━━━━━━━\u001b[0m\u001b[37m\u001b[0m \u001b[1m3s\u001b[0m 48ms/step - accuracy: 0.9595 - loss: 0.1064 - val_accuracy: 0.8450 - val_loss: 0.6063\n",
      "Epoch 81/100\n",
      "\u001b[1m63/63\u001b[0m \u001b[32m━━━━━━━━━━━━━━━━━━━━\u001b[0m\u001b[37m\u001b[0m \u001b[1m3s\u001b[0m 48ms/step - accuracy: 0.9592 - loss: 0.1028 - val_accuracy: 0.7970 - val_loss: 0.6118\n",
      "Epoch 82/100\n",
      "\u001b[1m63/63\u001b[0m \u001b[32m━━━━━━━━━━━━━━━━━━━━\u001b[0m\u001b[37m\u001b[0m \u001b[1m3s\u001b[0m 47ms/step - accuracy: 0.9446 - loss: 0.1272 - val_accuracy: 0.8400 - val_loss: 0.5244\n",
      "Epoch 83/100\n",
      "\u001b[1m63/63\u001b[0m \u001b[32m━━━━━━━━━━━━━━━━━━━━\u001b[0m\u001b[37m\u001b[0m \u001b[1m3s\u001b[0m 47ms/step - accuracy: 0.9637 - loss: 0.1091 - val_accuracy: 0.8140 - val_loss: 0.6599\n",
      "Epoch 84/100\n",
      "\u001b[1m63/63\u001b[0m \u001b[32m━━━━━━━━━━━━━━━━━━━━\u001b[0m\u001b[37m\u001b[0m \u001b[1m3s\u001b[0m 48ms/step - accuracy: 0.9577 - loss: 0.1038 - val_accuracy: 0.8050 - val_loss: 0.7015\n",
      "Epoch 85/100\n",
      "\u001b[1m63/63\u001b[0m \u001b[32m━━━━━━━━━━━━━━━━━━━━\u001b[0m\u001b[37m\u001b[0m \u001b[1m3s\u001b[0m 48ms/step - accuracy: 0.9668 - loss: 0.0961 - val_accuracy: 0.8370 - val_loss: 0.7192\n",
      "Epoch 86/100\n",
      "\u001b[1m63/63\u001b[0m \u001b[32m━━━━━━━━━━━━━━━━━━━━\u001b[0m\u001b[37m\u001b[0m \u001b[1m3s\u001b[0m 47ms/step - accuracy: 0.9606 - loss: 0.0974 - val_accuracy: 0.7750 - val_loss: 0.9089\n",
      "Epoch 87/100\n",
      "\u001b[1m63/63\u001b[0m \u001b[32m━━━━━━━━━━━━━━━━━━━━\u001b[0m\u001b[37m\u001b[0m \u001b[1m3s\u001b[0m 47ms/step - accuracy: 0.9582 - loss: 0.0973 - val_accuracy: 0.8220 - val_loss: 0.6189\n",
      "Epoch 88/100\n",
      "\u001b[1m63/63\u001b[0m \u001b[32m━━━━━━━━━━━━━━━━━━━━\u001b[0m\u001b[37m\u001b[0m \u001b[1m3s\u001b[0m 47ms/step - accuracy: 0.9589 - loss: 0.1088 - val_accuracy: 0.8190 - val_loss: 0.6475\n",
      "Epoch 89/100\n",
      "\u001b[1m63/63\u001b[0m \u001b[32m━━━━━━━━━━━━━━━━━━━━\u001b[0m\u001b[37m\u001b[0m \u001b[1m3s\u001b[0m 48ms/step - accuracy: 0.9540 - loss: 0.1106 - val_accuracy: 0.8010 - val_loss: 0.8860\n",
      "Epoch 90/100\n",
      "\u001b[1m63/63\u001b[0m \u001b[32m━━━━━━━━━━━━━━━━━━━━\u001b[0m\u001b[37m\u001b[0m \u001b[1m3s\u001b[0m 47ms/step - accuracy: 0.9652 - loss: 0.0919 - val_accuracy: 0.8300 - val_loss: 0.6963\n",
      "Epoch 91/100\n",
      "\u001b[1m63/63\u001b[0m \u001b[32m━━━━━━━━━━━━━━━━━━━━\u001b[0m\u001b[37m\u001b[0m \u001b[1m3s\u001b[0m 48ms/step - accuracy: 0.9699 - loss: 0.0907 - val_accuracy: 0.7630 - val_loss: 0.9428\n",
      "Epoch 92/100\n",
      "\u001b[1m63/63\u001b[0m \u001b[32m━━━━━━━━━━━━━━━━━━━━\u001b[0m\u001b[37m\u001b[0m \u001b[1m3s\u001b[0m 47ms/step - accuracy: 0.9738 - loss: 0.0855 - val_accuracy: 0.7900 - val_loss: 0.6133\n",
      "Epoch 93/100\n",
      "\u001b[1m63/63\u001b[0m \u001b[32m━━━━━━━━━━━━━━━━━━━━\u001b[0m\u001b[37m\u001b[0m \u001b[1m3s\u001b[0m 48ms/step - accuracy: 0.9523 - loss: 0.1148 - val_accuracy: 0.8320 - val_loss: 0.6977\n",
      "Epoch 94/100\n",
      "\u001b[1m63/63\u001b[0m \u001b[32m━━━━━━━━━━━━━━━━━━━━\u001b[0m\u001b[37m\u001b[0m \u001b[1m3s\u001b[0m 47ms/step - accuracy: 0.9755 - loss: 0.0788 - val_accuracy: 0.8510 - val_loss: 0.5077\n",
      "Epoch 95/100\n",
      "\u001b[1m63/63\u001b[0m \u001b[32m━━━━━━━━━━━━━━━━━━━━\u001b[0m\u001b[37m\u001b[0m \u001b[1m3s\u001b[0m 47ms/step - accuracy: 0.9585 - loss: 0.1032 - val_accuracy: 0.8090 - val_loss: 0.6126\n",
      "Epoch 96/100\n",
      "\u001b[1m63/63\u001b[0m \u001b[32m━━━━━━━━━━━━━━━━━━━━\u001b[0m\u001b[37m\u001b[0m \u001b[1m3s\u001b[0m 47ms/step - accuracy: 0.9648 - loss: 0.0977 - val_accuracy: 0.7910 - val_loss: 0.6791\n",
      "Epoch 97/100\n",
      "\u001b[1m63/63\u001b[0m \u001b[32m━━━━━━━━━━━━━━━━━━━━\u001b[0m\u001b[37m\u001b[0m \u001b[1m3s\u001b[0m 48ms/step - accuracy: 0.9731 - loss: 0.0757 - val_accuracy: 0.8200 - val_loss: 0.8956\n",
      "Epoch 98/100\n",
      "\u001b[1m63/63\u001b[0m \u001b[32m━━━━━━━━━━━━━━━━━━━━\u001b[0m\u001b[37m\u001b[0m \u001b[1m3s\u001b[0m 48ms/step - accuracy: 0.9650 - loss: 0.1054 - val_accuracy: 0.8390 - val_loss: 0.5428\n",
      "Epoch 99/100\n",
      "\u001b[1m63/63\u001b[0m \u001b[32m━━━━━━━━━━━━━━━━━━━━\u001b[0m\u001b[37m\u001b[0m \u001b[1m3s\u001b[0m 47ms/step - accuracy: 0.9675 - loss: 0.0894 - val_accuracy: 0.8140 - val_loss: 0.6091\n",
      "Epoch 100/100\n",
      "\u001b[1m63/63\u001b[0m \u001b[32m━━━━━━━━━━━━━━━━━━━━\u001b[0m\u001b[37m\u001b[0m \u001b[1m3s\u001b[0m 48ms/step - accuracy: 0.9719 - loss: 0.0851 - val_accuracy: 0.8440 - val_loss: 0.4951\n"
     ]
    }
   ],
   "source": [
    "history = model.fit(\n",
    "    train_dataset.cache(),\n",
    "    epochs=100,\n",
    "    validation_data=validation_dataset.cache()\n",
    ")"
   ]
  },
  {
   "cell_type": "markdown",
   "metadata": {
    "jp-MarkdownHeadingCollapsed": true
   },
   "source": [
    "### Plotting"
   ]
  },
  {
   "cell_type": "code",
   "execution_count": 24,
   "metadata": {
    "id": "Nus-zM43TSu9"
   },
   "outputs": [],
   "source": [
    "def plot_history(history):\n",
    "\n",
    "    accuracy = history.history[\"accuracy\"]\n",
    "    val_accuracy = history.history[\"val_accuracy\"]\n",
    "    loss = history.history[\"loss\"]\n",
    "    val_loss = history.history[\"val_loss\"]\n",
    "    epochs = range(1, len(accuracy) + 1)\n",
    "\n",
    "    fig, axs = plt.subplots(nrows=1,ncols=2, constrained_layout=True, figsize=(10,3))\n",
    "\n",
    "    axs[0].plot(epochs, accuracy, \"bo\", label=\"Training accuracy\")\n",
    "    axs[0].plot(epochs, val_accuracy, \"b\", label=\"Validation accuracy\")\n",
    "    axs[0].set_title(\"Training and validation accuracy\")\n",
    "    axs[0].legend()\n",
    "\n",
    "    axs[1].plot(epochs, loss, \"bo\", label=\"Training loss\")\n",
    "    axs[1].plot(epochs, val_loss, \"b\", label=\"Validation loss\")\n",
    "    axs[1].set_title(\"Training and validation loss\")\n",
    "    axs[1].legend()\n",
    "    plt.show()"
   ]
  },
  {
   "cell_type": "code",
   "execution_count": 25,
   "metadata": {
    "colab": {
     "base_uri": "https://localhost:8080/",
     "height": 328
    },
    "id": "IYOkmOC5TSvC",
    "outputId": "33d0ed85-c252-4d54-a568-4673801d8721"
   },
   "outputs": [
    {
     "data": {
      "image/png": "[encoded data removed]",
      "text/plain": [
       "<Figure size 1000x300 with 2 Axes>"
      ]
     },
     "metadata": {},
     "output_type": "display_data"
    }
   ],
   "source": [
    "plot_history(history)"
   ]
  },
  {
   "cell_type": "code",
   "execution_count": 26,
   "metadata": {
    "colab": {
     "base_uri": "https://localhost:8080/"
    },
    "id": "2wxuCno7TSvD",
    "outputId": "ed25c60c-2f7a-4134-93ec-0f7fe4c6db62"
   },
   "outputs": [
    {
     "name": "stdout",
     "output_type": "stream",
     "text": [
      "Test accuracy: 0.849\n"
     ]
    }
   ],
   "source": [
    "test_loss, test_acc = model.evaluate(test_dataset, verbose=0)\n",
    "print(f\"Test accuracy: {test_acc:.3f}\")"
   ]
  },
  {
   "cell_type": "markdown",
   "metadata": {
    "id": "DD-njORHteqe"
   },
   "source": [
    "### Summary"
   ]
  },
  {
   "cell_type": "markdown",
   "metadata": {
    "id": "DD-njORHteqe"
   },
   "source": [
    "- **Residual connections**: for stability;\n",
    "- **Batch / Layer normalisation**: for stability;\n",
    "- **Separable Depthwise Convolutions**: optimising convolutions;\n",
    "- **Xception**: a vision model including these elements."
   ]
  }
 ],
 "metadata": {
  "accelerator": "GPU",
  "celltoolbar": "Slideshow",
  "colab": {
   "gpuType": "T4",
   "provenance": []
  },
  "kernelspec": {
   "display_name": "Python 3 (ipykernel)",
   "language": "python",
   "name": "python3"
  },
  "language_info": {
   "codemirror_mode": {
    "name": "ipython",
    "version": 3
   },
   "file_extension": ".py",
   "mimetype": "text/x-python",
   "name": "python",
   "nbconvert_exporter": "python",
   "pygments_lexer": "ipython3",
   "version": "3.12.6"
  }
 },
 "nbformat": 4,
 "nbformat_minor": 4
}
