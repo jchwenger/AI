{
  "cells": [
    {
      "cell_type": "markdown",
      "id": "fa297344-a311-425e-ae3a-f5dbcda2a761",
      "metadata": {
        "id": "fa297344-a311-425e-ae3a-f5dbcda2a761"
      },
      "source": [
        "# 7 Working with Keras: A deep dive"
      ]
    },
    {
      "cell_type": "code",
      "execution_count": 20,
      "id": "e938a358-7875-48a6-8b87-5b403441582c",
      "metadata": {
        "id": "e938a358-7875-48a6-8b87-5b403441582c"
      },
      "outputs": [],
      "source": [
        "import time\n",
        "from tqdm import tqdm\n",
        "import tensorflow as tf"
      ]
    },
    {
      "cell_type": "markdown",
      "id": "d97bea97-f968-489e-90e6-ca324156eddc",
      "metadata": {
        "tags": [],
        "id": "d97bea97-f968-489e-90e6-ca324156eddc"
      },
      "source": [
        "## 7.3 Using built-in training and evaluation loops"
      ]
    },
    {
      "cell_type": "markdown",
      "id": "cf57217c-931d-4bbe-b0de-81eb8aee3bdf",
      "metadata": {
        "id": "cf57217c-931d-4bbe-b0de-81eb8aee3bdf"
      },
      "source": [
        "**The standard workflow: `compile()`, `fit()`, `evaluate()`, `predict()`**"
      ]
    },
    {
      "cell_type": "code",
      "execution_count": 3,
      "id": "cb03eb89-75fa-4f27-8143-02371ea494fb",
      "metadata": {
        "id": "cb03eb89-75fa-4f27-8143-02371ea494fb",
        "colab": {
          "base_uri": "https://localhost:8080/"
        },
        "outputId": "8f0f8b23-5933-494d-ddff-c296ddb9d160"
      },
      "outputs": [
        {
          "output_type": "stream",
          "name": "stdout",
          "text": [
            "Downloading data from https://storage.googleapis.com/tensorflow/tf-keras-datasets/mnist.npz\n",
            "\u001b[1m11490434/11490434\u001b[0m \u001b[32m━━━━━━━━━━━━━━━━━━━━\u001b[0m\u001b[37m\u001b[0m \u001b[1m0s\u001b[0m 0us/step\n"
          ]
        }
      ],
      "source": [
        "def get_mnist_model():\n",
        "    inputs = tf.keras.Input(shape=(28 * 28,))\n",
        "    features = tf.keras.layers.Dense(512, activation=\"relu\")(inputs)\n",
        "    features = tf.keras.layers.Dropout(0.5)(features)\n",
        "    outputs = tf.keras.layers.Dense(10, activation=\"softmax\")(features)\n",
        "    model = tf.keras.Model(inputs, outputs)\n",
        "    return model\n",
        "\n",
        "(images, labels), (test_images, test_labels) = tf.keras.datasets.mnist.load_data()\n",
        "images = images.reshape((60000, 28 * 28)).astype(\"float32\") / 255\n",
        "test_images = test_images.reshape((10000, 28 * 28)).astype(\"float32\") / 255\n",
        "train_images, val_images = images[10000:], images[:10000]\n",
        "train_labels, val_labels = labels[10000:], labels[:10000]"
      ]
    },
    {
      "cell_type": "code",
      "execution_count": 4,
      "id": "bfc231d9-f58e-4b6c-ac79-c8dbf017f23e",
      "metadata": {
        "colab": {
          "base_uri": "https://localhost:8080/"
        },
        "id": "bfc231d9-f58e-4b6c-ac79-c8dbf017f23e",
        "outputId": "5bdc3b84-95f5-4087-a2a0-edc2b4f3d9ab"
      },
      "outputs": [
        {
          "output_type": "stream",
          "name": "stdout",
          "text": [
            "Epoch 1/3\n",
            "\u001b[1m1563/1563\u001b[0m \u001b[32m━━━━━━━━━━━━━━━━━━━━\u001b[0m\u001b[37m\u001b[0m \u001b[1m14s\u001b[0m 5ms/step - accuracy: 0.8674 - loss: 0.4525 - val_accuracy: 0.9575 - val_loss: 0.1415\n",
            "Epoch 2/3\n",
            "\u001b[1m1563/1563\u001b[0m \u001b[32m━━━━━━━━━━━━━━━━━━━━\u001b[0m\u001b[37m\u001b[0m \u001b[1m3s\u001b[0m 2ms/step - accuracy: 0.9517 - loss: 0.1630 - val_accuracy: 0.9697 - val_loss: 0.1104\n",
            "Epoch 3/3\n",
            "\u001b[1m1563/1563\u001b[0m \u001b[32m━━━━━━━━━━━━━━━━━━━━\u001b[0m\u001b[37m\u001b[0m \u001b[1m8s\u001b[0m 4ms/step - accuracy: 0.9621 - loss: 0.1316 - val_accuracy: 0.9731 - val_loss: 0.1003\n",
            "\u001b[1m313/313\u001b[0m \u001b[32m━━━━━━━━━━━━━━━━━━━━\u001b[0m\u001b[37m\u001b[0m \u001b[1m1s\u001b[0m 3ms/step - accuracy: 0.9680 - loss: 0.1128\n",
            "\u001b[1m313/313\u001b[0m \u001b[32m━━━━━━━━━━━━━━━━━━━━\u001b[0m\u001b[37m\u001b[0m \u001b[1m1s\u001b[0m 3ms/step\n"
          ]
        }
      ],
      "source": [
        "model = get_mnist_model()\n",
        "model.compile(\n",
        "    optimizer=\"rmsprop\", loss=\"sparse_categorical_crossentropy\", metrics=[\"accuracy\"]\n",
        ")\n",
        "model.fit(\n",
        "    train_images, train_labels, epochs=3, validation_data=(val_images, val_labels)\n",
        ")\n",
        "test_metrics = model.evaluate(test_images, test_labels)\n",
        "predictions = model.predict(test_images)"
      ]
    },
    {
      "cell_type": "markdown",
      "id": "97b973bb-9f04-4528-8367-970f3ecf87af",
      "metadata": {
        "id": "97b973bb-9f04-4528-8367-970f3ecf87af"
      },
      "source": [
        "### 7.3.1 Writing your own metrics"
      ]
    },
    {
      "cell_type": "markdown",
      "id": "aa8a76ae-b74d-49ec-b7db-5b2bc50addec",
      "metadata": {
        "id": "aa8a76ae-b74d-49ec-b7db-5b2bc50addec"
      },
      "source": [
        "**Implementing a custom metric by subclassing the `Metric` class**"
      ]
    },
    {
      "cell_type": "code",
      "execution_count": 5,
      "id": "3649cbf6-b58e-47b0-85e6-9af5c2a48022",
      "metadata": {
        "id": "3649cbf6-b58e-47b0-85e6-9af5c2a48022"
      },
      "outputs": [],
      "source": [
        "class RootMeanSquaredError(tf.keras.metrics.Metric):\n",
        "    def __init__(self, name=\"rmse\", **kwargs):\n",
        "        super().__init__(name=name, **kwargs)\n",
        "        self.mse_sum = self.add_weight(name=\"mse_sum\", initializer=\"zeros\")\n",
        "        self.total_samples = self.add_weight(\n",
        "            name=\"total_samples\", initializer=\"zeros\", dtype=\"float32\"\n",
        "        )\n",
        "        # dtype=\"int32\" would have TF place it on the CPU automatically,\n",
        "        # see: https://github.com/keras-team/keras/issues/20250#issuecomment-2344087536\n",
        "\n",
        "    def update_state(self, y_true, y_pred, sample_weight=None):\n",
        "        y_true = tf.one_hot(y_true, depth=tf.shape(y_pred)[1])\n",
        "        mse = tf.reduce_sum(tf.square(y_true - y_pred))\n",
        "        self.mse_sum.assign_add(mse)\n",
        "        num_samples = tf.shape(y_pred)[0]\n",
        "        self.total_samples.assign_add(num_samples)\n",
        "\n",
        "    def result(self):\n",
        "        return tf.sqrt(self.mse_sum / tf.cast(self.total_samples, tf.float32))\n",
        "\n",
        "    def reset_state(self):\n",
        "        self.mse_sum.assign(0.0)\n",
        "        self.total_samples.assign(0)"
      ]
    },
    {
      "cell_type": "code",
      "execution_count": 6,
      "id": "28b3e91a-7db1-4249-b972-21e2321ea6d3",
      "metadata": {
        "colab": {
          "base_uri": "https://localhost:8080/"
        },
        "id": "28b3e91a-7db1-4249-b972-21e2321ea6d3",
        "outputId": "fc05be19-a9f9-4e2e-a0d6-6021e232b33e"
      },
      "outputs": [
        {
          "output_type": "stream",
          "name": "stdout",
          "text": [
            "Epoch 1/3\n",
            "\u001b[1m1563/1563\u001b[0m \u001b[32m━━━━━━━━━━━━━━━━━━━━\u001b[0m\u001b[37m\u001b[0m \u001b[1m13s\u001b[0m 7ms/step - accuracy: 0.8615 - loss: 0.4598 - rmse: 0.4441 - val_accuracy: 0.9598 - val_loss: 0.1464 - val_rmse: 0.2500\n",
            "Epoch 2/3\n",
            "\u001b[1m1563/1563\u001b[0m \u001b[32m━━━━━━━━━━━━━━━━━━━━\u001b[0m\u001b[37m\u001b[0m \u001b[1m4s\u001b[0m 3ms/step - accuracy: 0.9522 - loss: 0.1615 - rmse: 0.2694 - val_accuracy: 0.9685 - val_loss: 0.1071 - val_rmse: 0.2145\n",
            "Epoch 3/3\n",
            "\u001b[1m1563/1563\u001b[0m \u001b[32m━━━━━━━━━━━━━━━━━━━━\u001b[0m\u001b[37m\u001b[0m \u001b[1m3s\u001b[0m 2ms/step - accuracy: 0.9610 - loss: 0.1334 - rmse: 0.2445 - val_accuracy: 0.9711 - val_loss: 0.1048 - val_rmse: 0.2081\n",
            "\u001b[1m313/313\u001b[0m \u001b[32m━━━━━━━━━━━━━━━━━━━━\u001b[0m\u001b[37m\u001b[0m \u001b[1m0s\u001b[0m 2ms/step - accuracy: 0.9680 - loss: 0.1122 - rmse: 0.2229\n"
          ]
        }
      ],
      "source": [
        "model = get_mnist_model()\n",
        "model.compile(\n",
        "    optimizer=\"rmsprop\",\n",
        "    loss=\"sparse_categorical_crossentropy\",\n",
        "    metrics=[\"accuracy\", RootMeanSquaredError()],\n",
        ")\n",
        "model.fit(\n",
        "    train_images, train_labels, epochs=3, validation_data=(val_images, val_labels)\n",
        ")\n",
        "test_metrics = model.evaluate(test_images, test_labels)"
      ]
    },
    {
      "cell_type": "markdown",
      "id": "6354b3f8-98ed-42f1-8e1b-b0daadfbc416",
      "metadata": {
        "id": "6354b3f8-98ed-42f1-8e1b-b0daadfbc416"
      },
      "source": [
        "---\n",
        "\n",
        "## 7.4 Writing your own training and evaluation loops"
      ]
    },
    {
      "cell_type": "markdown",
      "id": "d15db0e1-b00c-4297-9caf-78726b69c56c",
      "metadata": {
        "id": "d15db0e1-b00c-4297-9caf-78726b69c56c"
      },
      "source": [
        "### 7.4.1 Training versus inference"
      ]
    },
    {
      "cell_type": "markdown",
      "id": "a8053734-4af4-471a-b1ea-fcf37444e39e",
      "metadata": {
        "id": "a8053734-4af4-471a-b1ea-fcf37444e39e"
      },
      "source": [
        "### 7.4.2 Low-level usage of metrics"
      ]
    },
    {
      "cell_type": "code",
      "execution_count": 7,
      "id": "59b06e6b-f0ef-4782-8130-02ed9b73e4e6",
      "metadata": {
        "colab": {
          "base_uri": "https://localhost:8080/"
        },
        "id": "59b06e6b-f0ef-4782-8130-02ed9b73e4e6",
        "outputId": "824faf89-04b8-4875-ae70-6a4ce86a2e13"
      },
      "outputs": [
        {
          "output_type": "stream",
          "name": "stdout",
          "text": [
            "result: 1.00\n"
          ]
        }
      ],
      "source": [
        "metric = tf.keras.metrics.SparseCategoricalAccuracy()\n",
        "targets = [0, 1, 2]\n",
        "predictions = [[1, 0, 0], [0, 1, 0], [0, 0, 1]]\n",
        "metric.update_state(targets, predictions)\n",
        "current_result = metric.result()\n",
        "print(f\"result: {current_result:.2f}\")"
      ]
    },
    {
      "cell_type": "code",
      "execution_count": 8,
      "id": "08040734-753c-4d9a-8c4e-59117378f3d0",
      "metadata": {
        "colab": {
          "base_uri": "https://localhost:8080/"
        },
        "id": "08040734-753c-4d9a-8c4e-59117378f3d0",
        "outputId": "9bdbbed2-5bb7-48a0-92e5-d2efb545885e"
      },
      "outputs": [
        {
          "output_type": "stream",
          "name": "stdout",
          "text": [
            "Mean of values: 2.00\n"
          ]
        }
      ],
      "source": [
        "values = [0, 1, 2, 3, 4]\n",
        "mean_tracker = tf.keras.metrics.Mean()\n",
        "for value in values:\n",
        "    mean_tracker.update_state(value)\n",
        "print(f\"Mean of values: {mean_tracker.result():.2f}\")"
      ]
    },
    {
      "cell_type": "markdown",
      "id": "43716e69-e181-43c7-9539-efded3f179da",
      "metadata": {
        "id": "43716e69-e181-43c7-9539-efded3f179da"
      },
      "source": [
        "### 7.4.3 A complete training and evaluation loop"
      ]
    },
    {
      "cell_type": "markdown",
      "id": "dfb29a16-eded-4dd2-b025-fb05425435f4",
      "metadata": {
        "id": "dfb29a16-eded-4dd2-b025-fb05425435f4"
      },
      "source": [
        "**Writing a step-by-step training loop: the training step function**"
      ]
    },
    {
      "cell_type": "code",
      "execution_count": 22,
      "id": "80553798-013c-41e3-b702-d513450d6bb4",
      "metadata": {
        "id": "80553798-013c-41e3-b702-d513450d6bb4"
      },
      "outputs": [],
      "source": [
        "model = get_mnist_model()\n",
        "\n",
        "loss_fn = tf.keras.losses.SparseCategoricalCrossentropy()\n",
        "optimizer = tf.keras.optimizers.RMSprop()\n",
        "metrics = [tf.keras.metrics.SparseCategoricalAccuracy()]\n",
        "loss_tracking_metric = tf.keras.metrics.Mean()\n",
        "\n",
        "def train_step(inputs, targets):\n",
        "    with tf.GradientTape() as tape:\n",
        "        predictions = model(inputs, training=True)\n",
        "        loss = loss_fn(targets, predictions)\n",
        "    gradients = tape.gradient(loss, model.trainable_weights)\n",
        "    optimizer.apply_gradients(zip(gradients, model.trainable_weights))\n",
        "\n",
        "    logs = {}\n",
        "    for metric in metrics:\n",
        "        metric.update_state(targets, predictions)\n",
        "        logs[metric.name] = metric.result()\n",
        "\n",
        "    loss_tracking_metric.update_state(loss)\n",
        "    logs[\"loss\"] = loss_tracking_metric.result()\n",
        "    return logs"
      ]
    },
    {
      "cell_type": "markdown",
      "id": "a3dc130e-e420-4470-8794-ed68e9c46f58",
      "metadata": {
        "id": "a3dc130e-e420-4470-8794-ed68e9c46f58"
      },
      "source": [
        "**Writing a step-by-step training loop: resetting the metrics**"
      ]
    },
    {
      "cell_type": "code",
      "execution_count": 23,
      "id": "e788218b-e4da-47a9-88cf-f39fe262d482",
      "metadata": {
        "id": "e788218b-e4da-47a9-88cf-f39fe262d482"
      },
      "outputs": [],
      "source": [
        "def reset_metrics():\n",
        "    for metric in metrics:\n",
        "        metric.reset_state()\n",
        "    loss_tracking_metric.reset_state()"
      ]
    },
    {
      "cell_type": "markdown",
      "id": "e01a9db5-2cc9-4bac-be38-0c2ceb371fb2",
      "metadata": {
        "id": "e01a9db5-2cc9-4bac-be38-0c2ceb371fb2"
      },
      "source": [
        "**Writing a step-by-step training loop: the loop itself**"
      ]
    },
    {
      "cell_type": "code",
      "execution_count": 24,
      "id": "2669014c-a238-49b4-a413-620a4aad149e",
      "metadata": {
        "colab": {
          "base_uri": "https://localhost:8080/"
        },
        "id": "2669014c-a238-49b4-a413-620a4aad149e",
        "outputId": "9cbcc482-27a8-4a2b-92df-46621d72c222"
      },
      "outputs": [
        {
          "output_type": "stream",
          "name": "stderr",
          "text": [
            "100%|██████████| 1563/1563 [01:22<00:00, 19.05it/s]\n"
          ]
        },
        {
          "output_type": "stream",
          "name": "stdout",
          "text": [
            "\n",
            "Results at the end of epoch 0\n",
            "...sparse_categorical_accuracy: 0.9152\n",
            "...loss: 0.2896\n",
            "---\n"
          ]
        },
        {
          "output_type": "stream",
          "name": "stderr",
          "text": [
            "100%|██████████| 1563/1563 [00:45<00:00, 34.18it/s]\n"
          ]
        },
        {
          "output_type": "stream",
          "name": "stdout",
          "text": [
            "\n",
            "Results at the end of epoch 1\n",
            "...sparse_categorical_accuracy: 0.9539\n",
            "...loss: 0.1599\n",
            "---\n"
          ]
        },
        {
          "output_type": "stream",
          "name": "stderr",
          "text": [
            "100%|██████████| 1563/1563 [00:45<00:00, 34.03it/s]"
          ]
        },
        {
          "output_type": "stream",
          "name": "stdout",
          "text": [
            "\n",
            "Results at the end of epoch 2\n",
            "...sparse_categorical_accuracy: 0.9640\n",
            "...loss: 0.1274\n",
            "---\n"
          ]
        },
        {
          "output_type": "stream",
          "name": "stderr",
          "text": [
            "\n"
          ]
        }
      ],
      "source": [
        "training_dataset = tf.data.Dataset.from_tensor_slices((train_images, train_labels))\n",
        "training_dataset = training_dataset.batch(32)\n",
        "epochs = 3\n",
        "for epoch in range(epochs):\n",
        "    reset_metrics()\n",
        "    for (inputs_batch, targets_batch) in tqdm(training_dataset):\n",
        "        logs = train_step(inputs_batch, targets_batch)\n",
        "    print()\n",
        "    print(f\"Results at the end of epoch {epoch}\")\n",
        "    for key, value in logs.items():\n",
        "        print(f\"...{key}: {value:.4f}\")\n",
        "    print(\"---\")"
      ]
    },
    {
      "cell_type": "markdown",
      "id": "140b80cc-2b82-422c-a9fa-af199d2eae94",
      "metadata": {
        "id": "140b80cc-2b82-422c-a9fa-af199d2eae94"
      },
      "source": [
        "**Writing a step-by-step evaluation loop**"
      ]
    },
    {
      "cell_type": "code",
      "execution_count": 25,
      "id": "3bb09fd2-3968-49f0-9cdc-d167244af30f",
      "metadata": {
        "colab": {
          "base_uri": "https://localhost:8080/"
        },
        "id": "3bb09fd2-3968-49f0-9cdc-d167244af30f",
        "outputId": "7efb1d30-a20e-4b3b-e693-4156c21cd6c7"
      },
      "outputs": [
        {
          "output_type": "stream",
          "name": "stdout",
          "text": [
            "Mean test_step time: 0.008391315563799094\n",
            "Evaluation results:\n",
            "...val_sparse_categorical_accuracy: 0.9680\n",
            "...val_loss: 0.1164\n"
          ]
        }
      ],
      "source": [
        "def test_step(inputs, targets):\n",
        "    predictions = model(inputs, training=False)\n",
        "    loss = loss_fn(targets, predictions)\n",
        "\n",
        "    logs = {}\n",
        "    for metric in metrics:\n",
        "        metric.update_state(targets, predictions)\n",
        "        logs[\"val_\" + metric.name] = metric.result()\n",
        "\n",
        "    loss_tracking_metric.update_state(loss)\n",
        "    logs[\"val_loss\"] = loss_tracking_metric.result()\n",
        "    return logs\n",
        "\n",
        "val_dataset = tf.data.Dataset.from_tensor_slices((val_images, val_labels))\n",
        "val_dataset = val_dataset.batch(32)\n",
        "reset_metrics()\n",
        "times = []\n",
        "for inputs_batch, targets_batch in val_dataset:\n",
        "    t = time.time()\n",
        "    logs = test_step(inputs_batch, targets_batch)\n",
        "    times.append(time.time() - t)\n",
        "print(\"Mean test_step time:\", sum(times)/len(times))\n",
        "print(\"Evaluation results:\")\n",
        "for key, value in logs.items():\n",
        "    print(f\"...{key}: {value:.4f}\")"
      ]
    },
    {
      "cell_type": "code",
      "execution_count": 26,
      "id": "1268cad2-aa8a-487c-85df-b5cfbf8c9bcb",
      "metadata": {
        "colab": {
          "base_uri": "https://localhost:8080/"
        },
        "id": "1268cad2-aa8a-487c-85df-b5cfbf8c9bcb",
        "outputId": "065f8aff-3386-41d1-fd49-ec0cf3620fc7"
      },
      "outputs": [
        {
          "output_type": "stream",
          "name": "stdout",
          "text": [
            "3.49 s ± 1.05 s per loop (mean ± std. dev. of 7 runs, 1 loop each)\n"
          ]
        }
      ],
      "source": [
        "%%timeit\n",
        "for inputs_batch, targets_batch in val_dataset:\n",
        "    logs = test_step(inputs_batch, targets_batch)"
      ]
    },
    {
      "cell_type": "markdown",
      "id": "e559b37b-74b6-47e4-9e37-61280095dd86",
      "metadata": {
        "id": "e559b37b-74b6-47e4-9e37-61280095dd86"
      },
      "source": [
        "### 7.4.4 Make it fast with tf.function"
      ]
    },
    {
      "cell_type": "markdown",
      "id": "8cf029e0-26eb-449b-9c9f-4c5c98099c63",
      "metadata": {
        "id": "8cf029e0-26eb-449b-9c9f-4c5c98099c63"
      },
      "source": [
        "**Adding a `tf.function` decorator to our evaluation-step function**"
      ]
    },
    {
      "cell_type": "code",
      "execution_count": 27,
      "id": "0f9215dc-5f34-4370-8892-6b61ab9aa66c",
      "metadata": {
        "colab": {
          "base_uri": "https://localhost:8080/"
        },
        "id": "0f9215dc-5f34-4370-8892-6b61ab9aa66c",
        "outputId": "b9465896-ff35-4b09-efc2-ddbfff9fbeae"
      },
      "outputs": [
        {
          "output_type": "stream",
          "name": "stdout",
          "text": [
            "Mean test_step time: 0.0017196583671691698\n",
            "Evaluation results:\n",
            "...val_sparse_categorical_accuracy: 0.9680\n",
            "...val_loss: 0.1164\n"
          ]
        }
      ],
      "source": [
        "@tf.function\n",
        "def test_step_compiled(inputs, targets):\n",
        "    predictions = model(inputs, training=False)\n",
        "    loss = loss_fn(targets, predictions)\n",
        "\n",
        "    logs = {}\n",
        "    for metric in metrics:\n",
        "        metric.update_state(targets, predictions)\n",
        "        logs[\"val_\" + metric.name] = metric.result()\n",
        "\n",
        "    loss_tracking_metric.update_state(loss)\n",
        "    logs[\"val_loss\"] = loss_tracking_metric.result()\n",
        "    return logs\n",
        "\n",
        "val_dataset = tf.data.Dataset.from_tensor_slices((val_images, val_labels))\n",
        "val_dataset = val_dataset.batch(32)\n",
        "reset_metrics()\n",
        "times = []\n",
        "for inputs_batch, targets_batch in val_dataset:\n",
        "    t = time.time()\n",
        "    logs = test_step_compiled(inputs_batch, targets_batch)\n",
        "    times.append(time.time() - t)\n",
        "print(\"Mean test_step time:\", sum(times)/len(times)) # an order of magnitude smaller\n",
        "print(\"Evaluation results:\")\n",
        "for key, value in logs.items():\n",
        "    print(f\"...{key}: {value:.4f}\")"
      ]
    },
    {
      "cell_type": "code",
      "execution_count": 28,
      "id": "791f808a-7227-48af-a339-e43a3eeface9",
      "metadata": {
        "colab": {
          "base_uri": "https://localhost:8080/"
        },
        "id": "791f808a-7227-48af-a339-e43a3eeface9",
        "outputId": "db546b07-14de-442c-c62e-3a4969f0669c"
      },
      "outputs": [
        {
          "output_type": "stream",
          "name": "stdout",
          "text": [
            "432 ms ± 8.82 ms per loop (mean ± std. dev. of 7 runs, 1 loop each)\n"
          ]
        }
      ],
      "source": [
        "%%timeit\n",
        "for inputs_batch, targets_batch in val_dataset:\n",
        "    logs = test_step_compiled(inputs_batch, targets_batch)"
      ]
    },
    {
      "cell_type": "markdown",
      "id": "78ff5a94-1bbe-45e6-b95f-945085bb4fad",
      "metadata": {
        "id": "78ff5a94-1bbe-45e6-b95f-945085bb4fad"
      },
      "source": [
        "### 7.4.5 Leveraging fit() with a custom training loop"
      ]
    },
    {
      "cell_type": "markdown",
      "id": "b98b7d26-6081-4d85-8303-5687cb4f2ab6",
      "metadata": {
        "id": "b98b7d26-6081-4d85-8303-5687cb4f2ab6"
      },
      "source": [
        "**Implementing a custom training step to use with `fit()`**"
      ]
    },
    {
      "cell_type": "code",
      "execution_count": 29,
      "id": "79c67412-11d6-48d0-adb6-82e5acbbd296",
      "metadata": {
        "id": "79c67412-11d6-48d0-adb6-82e5acbbd296"
      },
      "outputs": [],
      "source": [
        "loss_fn = tf.keras.losses.SparseCategoricalCrossentropy()\n",
        "loss_tracker = tf.keras.metrics.Mean(name=\"loss\")\n",
        "\n",
        "class CustomModel(tf.keras.Model):\n",
        "    def train_step(self, data): # ← `train_step` is what we need to rewrit\n",
        "        inputs, targets = data\n",
        "        with tf.GradientTape() as tape:\n",
        "            predictions = self(inputs, training=True)\n",
        "            loss = loss_fn(targets, predictions)\n",
        "        gradients = tape.gradient(loss, self.trainable_weights)\n",
        "        self.optimizer.apply_gradients(zip(gradients, self.trainable_weights))\n",
        "\n",
        "        loss_tracker.update_state(loss)\n",
        "        return {\"loss\": loss_tracker.result()}\n",
        "\n",
        "    @property\n",
        "    def metrics(self):\n",
        "        return [loss_tracker]"
      ]
    },
    {
      "cell_type": "code",
      "execution_count": 30,
      "id": "f84616da-c2a7-4a79-890c-f2a5d5471f93",
      "metadata": {
        "colab": {
          "base_uri": "https://localhost:8080/"
        },
        "id": "f84616da-c2a7-4a79-890c-f2a5d5471f93",
        "outputId": "b7291147-274c-4cfd-b252-049e0b418c14"
      },
      "outputs": [
        {
          "output_type": "stream",
          "name": "stdout",
          "text": [
            "Epoch 1/3\n",
            "\u001b[1m1563/1563\u001b[0m \u001b[32m━━━━━━━━━━━━━━━━━━━━\u001b[0m\u001b[37m\u001b[0m \u001b[1m6s\u001b[0m 2ms/step - loss: 0.4564\n",
            "Epoch 2/3\n",
            "\u001b[1m1563/1563\u001b[0m \u001b[32m━━━━━━━━━━━━━━━━━━━━\u001b[0m\u001b[37m\u001b[0m \u001b[1m2s\u001b[0m 2ms/step - loss: 0.1687\n",
            "Epoch 3/3\n",
            "\u001b[1m1563/1563\u001b[0m \u001b[32m━━━━━━━━━━━━━━━━━━━━\u001b[0m\u001b[37m\u001b[0m \u001b[1m2s\u001b[0m 2ms/step - loss: 0.1256\n"
          ]
        },
        {
          "output_type": "execute_result",
          "data": {
            "text/plain": [
              "<keras.src.callbacks.history.History at 0x7f5d0a019210>"
            ]
          },
          "metadata": {},
          "execution_count": 30
        }
      ],
      "source": [
        "inputs = tf.keras.Input(shape=(28 * 28,))\n",
        "features = tf.keras.layers.Dense(512, activation=\"relu\")(inputs)\n",
        "features = tf.keras.layers.Dropout(0.5)(features)\n",
        "outputs = tf.keras.layers.Dense(10, activation=\"softmax\")(features)\n",
        "model = CustomModel(inputs, outputs)\n",
        "\n",
        "model.compile(optimizer=tf.keras.optimizers.RMSprop())\n",
        "model.fit(train_images, train_labels, epochs=3)"
      ]
    },
    {
      "cell_type": "markdown",
      "source": [
        "Updated from DLWP, see [reference here](https://keras.io/guides/custom_train_step_in_tensorflow/#a-first-simple-example)."
      ],
      "metadata": {
        "id": "aIyTig8se77J"
      },
      "id": "aIyTig8se77J"
    },
    {
      "cell_type": "code",
      "execution_count": 31,
      "id": "fc5d059d-fc1b-4eba-b951-52657d8ed0e1",
      "metadata": {
        "id": "fc5d059d-fc1b-4eba-b951-52657d8ed0e1"
      },
      "outputs": [],
      "source": [
        "class CustomModel(tf.keras.Model):\n",
        "    def train_step(self, data):\n",
        "        inputs, targets = data\n",
        "        with tf.GradientTape() as tape:\n",
        "            predictions = self(inputs, training=True)\n",
        "            #           ↓ compute loss\n",
        "            loss = self.compute_loss(y=targets, y_pred=predictions)\n",
        "        gradients = tape.gradient(loss, self.trainable_weights)\n",
        "        self.optimizer.apply_gradients(zip(gradients, self.trainable_weights))\n",
        "        #    ↓ compiled metrics for updating\n",
        "        for metric in self.metrics:\n",
        "            if metric.name == \"loss\":\n",
        "                metric.update_state(loss)\n",
        "            else:\n",
        "                metric.update_state(targets, predictions)\n",
        "        return {m.name: m.result() for m in self.metrics} # ← metrics for reporting"
      ]
    },
    {
      "cell_type": "code",
      "execution_count": 32,
      "id": "54a29ec5-d167-4273-b40b-0d9d6bbab1dc",
      "metadata": {
        "colab": {
          "base_uri": "https://localhost:8080/"
        },
        "id": "54a29ec5-d167-4273-b40b-0d9d6bbab1dc",
        "outputId": "d19c617b-d1f0-44e3-f0f1-b9216390839e"
      },
      "outputs": [
        {
          "output_type": "stream",
          "name": "stdout",
          "text": [
            "Epoch 1/3\n",
            "\u001b[1m1563/1563\u001b[0m \u001b[32m━━━━━━━━━━━━━━━━━━━━\u001b[0m\u001b[37m\u001b[0m \u001b[1m6s\u001b[0m 3ms/step - sparse_categorical_accuracy: 0.8628 - loss: 0.4515\n",
            "Epoch 2/3\n",
            "\u001b[1m1563/1563\u001b[0m \u001b[32m━━━━━━━━━━━━━━━━━━━━\u001b[0m\u001b[37m\u001b[0m \u001b[1m7s\u001b[0m 2ms/step - sparse_categorical_accuracy: 0.9506 - loss: 0.1660\n",
            "Epoch 3/3\n",
            "\u001b[1m1563/1563\u001b[0m \u001b[32m━━━━━━━━━━━━━━━━━━━━\u001b[0m\u001b[37m\u001b[0m \u001b[1m3s\u001b[0m 2ms/step - sparse_categorical_accuracy: 0.9642 - loss: 0.1243\n"
          ]
        },
        {
          "output_type": "execute_result",
          "data": {
            "text/plain": [
              "<keras.src.callbacks.history.History at 0x7f5cfe6fe740>"
            ]
          },
          "metadata": {},
          "execution_count": 32
        }
      ],
      "source": [
        "inputs = tf.keras.Input(shape=(28 * 28,))\n",
        "features = tf.keras.layers.Dense(512, activation=\"relu\")(inputs)\n",
        "features = tf.keras.layers.Dropout(0.5)(features)\n",
        "outputs = tf.keras.layers.Dense(10, activation=\"softmax\")(features)\n",
        "model = CustomModel(inputs, outputs)\n",
        "\n",
        "model.compile(\n",
        "    optimizer=tf.keras.optimizers.RMSprop(),\n",
        "    loss=tf.keras.losses.SparseCategoricalCrossentropy(),\n",
        "    metrics=[tf.keras.metrics.SparseCategoricalAccuracy()],\n",
        ")\n",
        "model.fit(train_images, train_labels, epochs=3)"
      ]
    }
  ],
  "metadata": {
    "accelerator": "GPU",
    "colab": {
      "gpuType": "T4",
      "provenance": []
    },
    "kernelspec": {
      "display_name": "Python 3 (ipykernel)",
      "language": "python",
      "name": "python3"
    },
    "language_info": {
      "codemirror_mode": {
        "name": "ipython",
        "version": 3
      },
      "file_extension": ".py",
      "mimetype": "text/x-python",
      "name": "python",
      "nbconvert_exporter": "python",
      "pygments_lexer": "ipython3",
      "version": "3.9.18"
    }
  },
  "nbformat": 4,
  "nbformat_minor": 5
}