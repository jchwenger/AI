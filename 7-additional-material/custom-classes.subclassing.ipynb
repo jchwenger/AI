{
  "cells": [
    {
      "cell_type": "markdown",
      "id": "fa297344-a311-425e-ae3a-f5dbcda2a761",
      "metadata": {
        "id": "fa297344-a311-425e-ae3a-f5dbcda2a761"
      },
      "source": [
        "# 7 Working with Keras: A deep dive"
      ]
    },
    {
      "cell_type": "code",
      "source": [
        "import sys\n",
        "\n",
        "if \"google.colab\" in sys.modules:\n",
        "    print(\"Running in Colab\")\n",
        "    !pip install tf-nightly"
      ],
      "metadata": {
        "colab": {
          "base_uri": "https://localhost:8080/"
        },
        "id": "YdHe1gQkaS_3",
        "outputId": "8afc2319-3e73-4e21-bdcc-c52301825c99"
      },
      "id": "YdHe1gQkaS_3",
      "execution_count": 1,
      "outputs": [
        {
          "output_type": "stream",
          "name": "stdout",
          "text": [
            "Running in Colab\n",
            "Requirement already satisfied: tf-nightly in /usr/local/lib/python3.10/dist-packages (2.18.0.dev20240909)\n",
            "Requirement already satisfied: absl-py>=1.0.0 in /usr/local/lib/python3.10/dist-packages (from tf-nightly) (1.4.0)\n",
            "Requirement already satisfied: astunparse>=1.6.0 in /usr/local/lib/python3.10/dist-packages (from tf-nightly) (1.6.3)\n",
            "Requirement already satisfied: flatbuffers>=24.3.25 in /usr/local/lib/python3.10/dist-packages (from tf-nightly) (24.3.25)\n",
            "Requirement already satisfied: gast!=0.5.0,!=0.5.1,!=0.5.2,>=0.2.1 in /usr/local/lib/python3.10/dist-packages (from tf-nightly) (0.6.0)\n",
            "Requirement already satisfied: google-pasta>=0.1.1 in /usr/local/lib/python3.10/dist-packages (from tf-nightly) (0.2.0)\n",
            "Requirement already satisfied: libclang>=13.0.0 in /usr/local/lib/python3.10/dist-packages (from tf-nightly) (18.1.1)\n",
            "Requirement already satisfied: opt-einsum>=2.3.2 in /usr/local/lib/python3.10/dist-packages (from tf-nightly) (3.3.0)\n",
            "Requirement already satisfied: packaging in /usr/local/lib/python3.10/dist-packages (from tf-nightly) (24.1)\n",
            "Requirement already satisfied: protobuf!=4.21.0,!=4.21.1,!=4.21.2,!=4.21.3,!=4.21.4,!=4.21.5,<5.0.0dev,>=3.20.3 in /usr/local/lib/python3.10/dist-packages (from tf-nightly) (3.20.3)\n",
            "Requirement already satisfied: requests<3,>=2.21.0 in /usr/local/lib/python3.10/dist-packages (from tf-nightly) (2.32.3)\n",
            "Requirement already satisfied: setuptools in /usr/local/lib/python3.10/dist-packages (from tf-nightly) (71.0.4)\n",
            "Requirement already satisfied: six>=1.12.0 in /usr/local/lib/python3.10/dist-packages (from tf-nightly) (1.16.0)\n",
            "Requirement already satisfied: termcolor>=1.1.0 in /usr/local/lib/python3.10/dist-packages (from tf-nightly) (2.4.0)\n",
            "Requirement already satisfied: typing-extensions>=3.6.6 in /usr/local/lib/python3.10/dist-packages (from tf-nightly) (4.12.2)\n",
            "Requirement already satisfied: wrapt>=1.11.0 in /usr/local/lib/python3.10/dist-packages (from tf-nightly) (1.16.0)\n",
            "Requirement already satisfied: grpcio<2.0,>=1.24.3 in /usr/local/lib/python3.10/dist-packages (from tf-nightly) (1.64.1)\n",
            "Requirement already satisfied: tb-nightly~=2.18.0.a in /usr/local/lib/python3.10/dist-packages (from tf-nightly) (2.18.0a20240909)\n",
            "Requirement already satisfied: keras-nightly>=3.2.0.dev in /usr/local/lib/python3.10/dist-packages (from tf-nightly) (3.5.0.dev2024091003)\n",
            "Requirement already satisfied: h5py>=3.10.0 in /usr/local/lib/python3.10/dist-packages (from tf-nightly) (3.11.0)\n",
            "Requirement already satisfied: ml-dtypes<0.5.0,>=0.3.1 in /usr/local/lib/python3.10/dist-packages (from tf-nightly) (0.4.0)\n",
            "Requirement already satisfied: tensorflow-io-gcs-filesystem>=0.23.1 in /usr/local/lib/python3.10/dist-packages (from tf-nightly) (0.37.1)\n",
            "Requirement already satisfied: numpy<2.0.0,>=1.23.5 in /usr/local/lib/python3.10/dist-packages (from tf-nightly) (1.26.4)\n",
            "Requirement already satisfied: wheel<1.0,>=0.23.0 in /usr/local/lib/python3.10/dist-packages (from astunparse>=1.6.0->tf-nightly) (0.44.0)\n",
            "Requirement already satisfied: rich in /usr/local/lib/python3.10/dist-packages (from keras-nightly>=3.2.0.dev->tf-nightly) (13.8.0)\n",
            "Requirement already satisfied: namex in /usr/local/lib/python3.10/dist-packages (from keras-nightly>=3.2.0.dev->tf-nightly) (0.0.8)\n",
            "Requirement already satisfied: optree in /usr/local/lib/python3.10/dist-packages (from keras-nightly>=3.2.0.dev->tf-nightly) (0.12.1)\n",
            "Requirement already satisfied: charset-normalizer<4,>=2 in /usr/local/lib/python3.10/dist-packages (from requests<3,>=2.21.0->tf-nightly) (3.3.2)\n",
            "Requirement already satisfied: idna<4,>=2.5 in /usr/local/lib/python3.10/dist-packages (from requests<3,>=2.21.0->tf-nightly) (3.8)\n",
            "Requirement already satisfied: urllib3<3,>=1.21.1 in /usr/local/lib/python3.10/dist-packages (from requests<3,>=2.21.0->tf-nightly) (2.0.7)\n",
            "Requirement already satisfied: certifi>=2017.4.17 in /usr/local/lib/python3.10/dist-packages (from requests<3,>=2.21.0->tf-nightly) (2024.8.30)\n",
            "Requirement already satisfied: markdown>=2.6.8 in /usr/local/lib/python3.10/dist-packages (from tb-nightly~=2.18.0.a->tf-nightly) (3.7)\n",
            "Requirement already satisfied: tensorboard-data-server<0.8.0,>=0.7.0 in /usr/local/lib/python3.10/dist-packages (from tb-nightly~=2.18.0.a->tf-nightly) (0.7.2)\n",
            "Requirement already satisfied: werkzeug>=1.0.1 in /usr/local/lib/python3.10/dist-packages (from tb-nightly~=2.18.0.a->tf-nightly) (3.0.4)\n",
            "Requirement already satisfied: MarkupSafe>=2.1.1 in /usr/local/lib/python3.10/dist-packages (from werkzeug>=1.0.1->tb-nightly~=2.18.0.a->tf-nightly) (2.1.5)\n",
            "Requirement already satisfied: markdown-it-py>=2.2.0 in /usr/local/lib/python3.10/dist-packages (from rich->keras-nightly>=3.2.0.dev->tf-nightly) (3.0.0)\n",
            "Requirement already satisfied: pygments<3.0.0,>=2.13.0 in /usr/local/lib/python3.10/dist-packages (from rich->keras-nightly>=3.2.0.dev->tf-nightly) (2.16.1)\n",
            "Requirement already satisfied: mdurl~=0.1 in /usr/local/lib/python3.10/dist-packages (from markdown-it-py>=2.2.0->rich->keras-nightly>=3.2.0.dev->tf-nightly) (0.1.2)\n"
          ]
        }
      ]
    },
    {
      "cell_type": "code",
      "execution_count": 2,
      "id": "e938a358-7875-48a6-8b87-5b403441582c",
      "metadata": {
        "id": "e938a358-7875-48a6-8b87-5b403441582c"
      },
      "outputs": [],
      "source": [
        "import time\n",
        "\n",
        "import tensorflow as tf\n",
        "\n",
        "from IPython.display import clear_output"
      ]
    },
    {
      "cell_type": "markdown",
      "id": "d97bea97-f968-489e-90e6-ca324156eddc",
      "metadata": {
        "tags": [],
        "id": "d97bea97-f968-489e-90e6-ca324156eddc"
      },
      "source": [
        "## 7.3 Using built-in training and evaluation loops"
      ]
    },
    {
      "cell_type": "markdown",
      "id": "cf57217c-931d-4bbe-b0de-81eb8aee3bdf",
      "metadata": {
        "id": "cf57217c-931d-4bbe-b0de-81eb8aee3bdf"
      },
      "source": [
        "**The standard workflow: `compile()`, `fit()`, `evaluate()`, `predict()`**"
      ]
    },
    {
      "cell_type": "code",
      "execution_count": 3,
      "id": "cb03eb89-75fa-4f27-8143-02371ea494fb",
      "metadata": {
        "id": "cb03eb89-75fa-4f27-8143-02371ea494fb"
      },
      "outputs": [],
      "source": [
        "def get_mnist_model():\n",
        "    inputs = tf.keras.Input(shape=(28 * 28,))\n",
        "    features = tf.keras.layers.Dense(512, activation=\"relu\")(inputs)\n",
        "    features = tf.keras.layers.Dropout(0.5)(features)\n",
        "    outputs = tf.keras.layers.Dense(10, activation=\"softmax\")(features)\n",
        "    model = tf.keras.Model(inputs, outputs)\n",
        "    return model\n",
        "\n",
        "(images, labels), (test_images, test_labels) = tf.keras.datasets.mnist.load_data()\n",
        "images = images.reshape((60000, 28 * 28)).astype(\"float32\") / 255\n",
        "test_images = test_images.reshape((10000, 28 * 28)).astype(\"float32\") / 255\n",
        "train_images, val_images = images[10000:], images[:10000]\n",
        "train_labels, val_labels = labels[10000:], labels[:10000]"
      ]
    },
    {
      "cell_type": "code",
      "execution_count": 4,
      "id": "bfc231d9-f58e-4b6c-ac79-c8dbf017f23e",
      "metadata": {
        "colab": {
          "base_uri": "https://localhost:8080/"
        },
        "id": "bfc231d9-f58e-4b6c-ac79-c8dbf017f23e",
        "outputId": "fc74e131-2018-47e1-b5ba-8cb9a718f503"
      },
      "outputs": [
        {
          "output_type": "stream",
          "name": "stdout",
          "text": [
            "Epoch 1/3\n",
            "\u001b[1m1563/1563\u001b[0m \u001b[32m━━━━━━━━━━━━━━━━━━━━\u001b[0m\u001b[37m\u001b[0m \u001b[1m16s\u001b[0m 9ms/step - accuracy: 0.8639 - loss: 0.4432 - val_accuracy: 0.9597 - val_loss: 0.1394\n",
            "Epoch 2/3\n",
            "\u001b[1m1563/1563\u001b[0m \u001b[32m━━━━━━━━━━━━━━━━━━━━\u001b[0m\u001b[37m\u001b[0m \u001b[1m13s\u001b[0m 5ms/step - accuracy: 0.9515 - loss: 0.1637 - val_accuracy: 0.9689 - val_loss: 0.1107\n",
            "Epoch 3/3\n",
            "\u001b[1m1563/1563\u001b[0m \u001b[32m━━━━━━━━━━━━━━━━━━━━\u001b[0m\u001b[37m\u001b[0m \u001b[1m10s\u001b[0m 5ms/step - accuracy: 0.9635 - loss: 0.1241 - val_accuracy: 0.9719 - val_loss: 0.1026\n",
            "\u001b[1m313/313\u001b[0m \u001b[32m━━━━━━━━━━━━━━━━━━━━\u001b[0m\u001b[37m\u001b[0m \u001b[1m1s\u001b[0m 3ms/step - accuracy: 0.9690 - loss: 0.1151\n",
            "\u001b[1m313/313\u001b[0m \u001b[32m━━━━━━━━━━━━━━━━━━━━\u001b[0m\u001b[37m\u001b[0m \u001b[1m1s\u001b[0m 2ms/step\n"
          ]
        }
      ],
      "source": [
        "model = get_mnist_model()\n",
        "model.compile(\n",
        "    optimizer=\"rmsprop\", loss=\"sparse_categorical_crossentropy\", metrics=[\"accuracy\"]\n",
        ")\n",
        "model.fit(\n",
        "    train_images, train_labels, epochs=3, validation_data=(val_images, val_labels)\n",
        ")\n",
        "test_metrics = model.evaluate(test_images, test_labels)\n",
        "predictions = model.predict(test_images)"
      ]
    },
    {
      "cell_type": "markdown",
      "id": "97b973bb-9f04-4528-8367-970f3ecf87af",
      "metadata": {
        "id": "97b973bb-9f04-4528-8367-970f3ecf87af"
      },
      "source": [
        "### 7.3.1 Writing your own metrics"
      ]
    },
    {
      "cell_type": "markdown",
      "id": "aa8a76ae-b74d-49ec-b7db-5b2bc50addec",
      "metadata": {
        "id": "aa8a76ae-b74d-49ec-b7db-5b2bc50addec"
      },
      "source": [
        "**Implementing a custom metric by subclassing the `Metric` class**"
      ]
    },
    {
      "cell_type": "code",
      "execution_count": 5,
      "id": "3649cbf6-b58e-47b0-85e6-9af5c2a48022",
      "metadata": {
        "id": "3649cbf6-b58e-47b0-85e6-9af5c2a48022"
      },
      "outputs": [],
      "source": [
        "class RootMeanSquaredError(tf.keras.metrics.Metric):\n",
        "    def __init__(self, name=\"rmse\", **kwargs):\n",
        "        super().__init__(name=name, **kwargs)\n",
        "        self.mse_sum = self.add_weight(name=\"mse_sum\", initializer=\"zeros\")\n",
        "        self.total_samples = self.add_weight(\n",
        "            name=\"total_samples\", initializer=\"zeros\", dtype=\"int32\"\n",
        "        )\n",
        "\n",
        "    def update_state(self, y_true, y_pred, sample_weight=None):\n",
        "        y_true = tf.one_hot(y_true, depth=tf.shape(y_pred)[1])\n",
        "        mse = tf.reduce_sum(tf.square(y_true - y_pred))\n",
        "        self.mse_sum.assign_add(mse)\n",
        "        num_samples = tf.shape(y_pred)[0]\n",
        "        self.total_samples.assign_add(num_samples)\n",
        "\n",
        "    def result(self):\n",
        "        return tf.sqrt(self.mse_sum / tf.cast(self.total_samples, tf.float32))\n",
        "\n",
        "    def reset_state(self):\n",
        "        self.mse_sum.assign(0.0)\n",
        "        self.total_samples.assign(0)"
      ]
    },
    {
      "cell_type": "code",
      "execution_count": 6,
      "id": "28b3e91a-7db1-4249-b972-21e2321ea6d3",
      "metadata": {
        "colab": {
          "base_uri": "https://localhost:8080/"
        },
        "id": "28b3e91a-7db1-4249-b972-21e2321ea6d3",
        "outputId": "67f1c289-3626-4e9e-a8c3-be169ab03d3d"
      },
      "outputs": [
        {
          "output_type": "stream",
          "name": "stdout",
          "text": [
            "Epoch 1/3\n",
            "\u001b[1m1563/1563\u001b[0m \u001b[32m━━━━━━━━━━━━━━━━━━━━\u001b[0m\u001b[37m\u001b[0m \u001b[1m8s\u001b[0m 5ms/step - accuracy: 0.8640 - loss: 0.4518 - rmse: 0.4399 - val_accuracy: 0.9596 - val_loss: 0.1414 - val_rmse: 0.2485\n",
            "Epoch 2/3\n",
            "\u001b[1m1563/1563\u001b[0m \u001b[32m━━━━━━━━━━━━━━━━━━━━\u001b[0m\u001b[37m\u001b[0m \u001b[1m9s\u001b[0m 6ms/step - accuracy: 0.9529 - loss: 0.1610 - rmse: 0.2683 - val_accuracy: 0.9675 - val_loss: 0.1193 - val_rmse: 0.2226\n",
            "Epoch 3/3\n",
            "\u001b[1m1563/1563\u001b[0m \u001b[32m━━━━━━━━━━━━━━━━━━━━\u001b[0m\u001b[37m\u001b[0m \u001b[1m9s\u001b[0m 5ms/step - accuracy: 0.9645 - loss: 0.1294 - rmse: 0.2353 - val_accuracy: 0.9719 - val_loss: 0.1012 - val_rmse: 0.2058\n",
            "\u001b[1m313/313\u001b[0m \u001b[32m━━━━━━━━━━━━━━━━━━━━\u001b[0m\u001b[37m\u001b[0m \u001b[1m1s\u001b[0m 2ms/step - accuracy: 0.9693 - loss: 0.1161 - rmse: 0.2177\n"
          ]
        }
      ],
      "source": [
        "model = get_mnist_model()\n",
        "model.compile(\n",
        "    optimizer=\"rmsprop\",\n",
        "    loss=\"sparse_categorical_crossentropy\",\n",
        "    metrics=[\"accuracy\", RootMeanSquaredError()],\n",
        ")\n",
        "model.fit(\n",
        "    train_images, train_labels, epochs=3, validation_data=(val_images, val_labels)\n",
        ")\n",
        "test_metrics = model.evaluate(test_images, test_labels)"
      ]
    },
    {
      "cell_type": "markdown",
      "id": "6354b3f8-98ed-42f1-8e1b-b0daadfbc416",
      "metadata": {
        "id": "6354b3f8-98ed-42f1-8e1b-b0daadfbc416"
      },
      "source": [
        "---\n",
        "\n",
        "## 7.4 Writing your own training and evaluation loops"
      ]
    },
    {
      "cell_type": "markdown",
      "id": "d15db0e1-b00c-4297-9caf-78726b69c56c",
      "metadata": {
        "id": "d15db0e1-b00c-4297-9caf-78726b69c56c"
      },
      "source": [
        "### 7.4.1 Training versus inference"
      ]
    },
    {
      "cell_type": "markdown",
      "id": "a8053734-4af4-471a-b1ea-fcf37444e39e",
      "metadata": {
        "id": "a8053734-4af4-471a-b1ea-fcf37444e39e"
      },
      "source": [
        "### 7.4.2 Low-level usage of metrics"
      ]
    },
    {
      "cell_type": "code",
      "execution_count": 7,
      "id": "59b06e6b-f0ef-4782-8130-02ed9b73e4e6",
      "metadata": {
        "colab": {
          "base_uri": "https://localhost:8080/"
        },
        "id": "59b06e6b-f0ef-4782-8130-02ed9b73e4e6",
        "outputId": "be72d00b-f60c-406f-da0c-fef92f2118db"
      },
      "outputs": [
        {
          "output_type": "stream",
          "name": "stdout",
          "text": [
            "result: 1.00\n"
          ]
        }
      ],
      "source": [
        "metric = tf.keras.metrics.SparseCategoricalAccuracy()\n",
        "targets = [0, 1, 2]\n",
        "predictions = [[1, 0, 0], [0, 1, 0], [0, 0, 1]]\n",
        "metric.update_state(targets, predictions)\n",
        "current_result = metric.result()\n",
        "print(f\"result: {current_result:.2f}\")"
      ]
    },
    {
      "cell_type": "code",
      "execution_count": 8,
      "id": "08040734-753c-4d9a-8c4e-59117378f3d0",
      "metadata": {
        "colab": {
          "base_uri": "https://localhost:8080/"
        },
        "id": "08040734-753c-4d9a-8c4e-59117378f3d0",
        "outputId": "bc21022d-e37f-4219-8373-ac9af209ecd1"
      },
      "outputs": [
        {
          "output_type": "stream",
          "name": "stdout",
          "text": [
            "Mean of values: 2.00\n"
          ]
        }
      ],
      "source": [
        "values = [0, 1, 2, 3, 4]\n",
        "mean_tracker = tf.keras.metrics.Mean()\n",
        "for value in values:\n",
        "    mean_tracker.update_state(value)\n",
        "print(f\"Mean of values: {mean_tracker.result():.2f}\")"
      ]
    },
    {
      "cell_type": "markdown",
      "id": "43716e69-e181-43c7-9539-efded3f179da",
      "metadata": {
        "id": "43716e69-e181-43c7-9539-efded3f179da"
      },
      "source": [
        "### 7.4.3 A complete training and evaluation loop"
      ]
    },
    {
      "cell_type": "markdown",
      "id": "dfb29a16-eded-4dd2-b025-fb05425435f4",
      "metadata": {
        "id": "dfb29a16-eded-4dd2-b025-fb05425435f4"
      },
      "source": [
        "**Writing a step-by-step training loop: the training step function**"
      ]
    },
    {
      "cell_type": "code",
      "execution_count": 9,
      "id": "80553798-013c-41e3-b702-d513450d6bb4",
      "metadata": {
        "id": "80553798-013c-41e3-b702-d513450d6bb4"
      },
      "outputs": [],
      "source": [
        "model = get_mnist_model()\n",
        "\n",
        "loss_fn = tf.keras.losses.SparseCategoricalCrossentropy()\n",
        "optimizer = tf.keras.optimizers.RMSprop()\n",
        "metrics = [tf.keras.metrics.SparseCategoricalAccuracy()]\n",
        "loss_tracking_metric = tf.keras.metrics.Mean()\n",
        "\n",
        "def train_step(inputs, targets):\n",
        "    with tf.GradientTape() as tape:\n",
        "        predictions = model(inputs, training=True)\n",
        "        loss = loss_fn(targets, predictions)\n",
        "    gradients = tape.gradient(loss, model.trainable_weights)\n",
        "    optimizer.apply_gradients(zip(gradients, model.trainable_weights))\n",
        "\n",
        "    logs = {}\n",
        "    for metric in metrics:\n",
        "        metric.update_state(targets, predictions)\n",
        "        logs[metric.name] = metric.result()\n",
        "\n",
        "    loss_tracking_metric.update_state(loss)\n",
        "    logs[\"loss\"] = loss_tracking_metric.result()\n",
        "    return logs"
      ]
    },
    {
      "cell_type": "markdown",
      "id": "a3dc130e-e420-4470-8794-ed68e9c46f58",
      "metadata": {
        "id": "a3dc130e-e420-4470-8794-ed68e9c46f58"
      },
      "source": [
        "**Writing a step-by-step training loop: resetting the metrics**"
      ]
    },
    {
      "cell_type": "code",
      "execution_count": 10,
      "id": "e788218b-e4da-47a9-88cf-f39fe262d482",
      "metadata": {
        "id": "e788218b-e4da-47a9-88cf-f39fe262d482"
      },
      "outputs": [],
      "source": [
        "def reset_metrics():\n",
        "    for metric in metrics:\n",
        "        metric.reset_state()\n",
        "    loss_tracking_metric.reset_state()"
      ]
    },
    {
      "cell_type": "code",
      "source": [
        "!python --version"
      ],
      "metadata": {
        "colab": {
          "base_uri": "https://localhost:8080/"
        },
        "id": "HRoZkHKbVgC5",
        "outputId": "1eb1d4c5-f8d2-40fa-ea75-4e32f473edcd"
      },
      "id": "HRoZkHKbVgC5",
      "execution_count": 11,
      "outputs": [
        {
          "output_type": "stream",
          "name": "stdout",
          "text": [
            "Python 3.10.12\n"
          ]
        }
      ]
    },
    {
      "cell_type": "markdown",
      "id": "e01a9db5-2cc9-4bac-be38-0c2ceb371fb2",
      "metadata": {
        "id": "e01a9db5-2cc9-4bac-be38-0c2ceb371fb2"
      },
      "source": [
        "**Writing a step-by-step training loop: the loop itself**"
      ]
    },
    {
      "cell_type": "code",
      "execution_count": 12,
      "id": "2669014c-a238-49b4-a413-620a4aad149e",
      "metadata": {
        "colab": {
          "base_uri": "https://localhost:8080/"
        },
        "id": "2669014c-a238-49b4-a413-620a4aad149e",
        "outputId": "75c4a2fc-7ffc-4ca8-9f60-a48ebb689a95"
      },
      "outputs": [
        {
          "output_type": "stream",
          "name": "stdout",
          "text": [
            "1563/1562\n",
            "Results at the end of epoch 2\n",
            "...sparse_categorical_accuracy: 0.9641\n",
            "...loss: 0.1304\n"
          ]
        }
      ],
      "source": [
        "training_dataset = tf.data.Dataset.from_tensor_slices((train_images, train_labels))\n",
        "training_dataset = training_dataset.batch(32).enumerate()\n",
        "epochs = 3                                  # ↑ adds an index like Python enumerate\n",
        "for epoch in range(epochs):\n",
        "    reset_metrics()\n",
        "    #   ↓ an index allows us to keep count\n",
        "    for i, (inputs_batch, targets_batch) in training_dataset:\n",
        "        clear_output(wait=True)\n",
        "        print(f\"{i+1}/{len(train_images)//32}\")\n",
        "        logs = train_step(inputs_batch, targets_batch)\n",
        "    print(f\"Results at the end of epoch {epoch}\")\n",
        "    for key, value in logs.items():\n",
        "        print(f\"...{key}: {value:.4f}\")"
      ]
    },
    {
      "cell_type": "markdown",
      "id": "140b80cc-2b82-422c-a9fa-af199d2eae94",
      "metadata": {
        "id": "140b80cc-2b82-422c-a9fa-af199d2eae94"
      },
      "source": [
        "**Writing a step-by-step evaluation loop**"
      ]
    },
    {
      "cell_type": "code",
      "execution_count": 13,
      "id": "3bb09fd2-3968-49f0-9cdc-d167244af30f",
      "metadata": {
        "colab": {
          "base_uri": "https://localhost:8080/"
        },
        "id": "3bb09fd2-3968-49f0-9cdc-d167244af30f",
        "outputId": "ca21a010-08d8-4f67-ab50-db4328172f6c"
      },
      "outputs": [
        {
          "output_type": "stream",
          "name": "stdout",
          "text": [
            "Mean test_step time: 0.007750961346367297\n",
            "Evaluation results:\n",
            "...val_sparse_categorical_accuracy: 0.9675\n",
            "...val_loss: 0.1194\n"
          ]
        }
      ],
      "source": [
        "def test_step(inputs, targets):\n",
        "    predictions = model(inputs, training=False)\n",
        "    loss = loss_fn(targets, predictions)\n",
        "\n",
        "    logs = {}\n",
        "    for metric in metrics:\n",
        "        metric.update_state(targets, predictions)\n",
        "        logs[\"val_\" + metric.name] = metric.result()\n",
        "\n",
        "    loss_tracking_metric.update_state(loss)\n",
        "    logs[\"val_loss\"] = loss_tracking_metric.result()\n",
        "    return logs\n",
        "\n",
        "val_dataset = tf.data.Dataset.from_tensor_slices((val_images, val_labels))\n",
        "val_dataset = val_dataset.batch(32)\n",
        "reset_metrics()\n",
        "times = []\n",
        "for inputs_batch, targets_batch in val_dataset:\n",
        "    t = time.time()\n",
        "    logs = test_step(inputs_batch, targets_batch)\n",
        "    times.append(time.time() - t)\n",
        "print(\"Mean test_step time:\", sum(times)/len(times))\n",
        "print(\"Evaluation results:\")\n",
        "for key, value in logs.items():\n",
        "    print(f\"...{key}: {value:.4f}\")"
      ]
    },
    {
      "cell_type": "code",
      "execution_count": 14,
      "id": "1268cad2-aa8a-487c-85df-b5cfbf8c9bcb",
      "metadata": {
        "colab": {
          "base_uri": "https://localhost:8080/"
        },
        "id": "1268cad2-aa8a-487c-85df-b5cfbf8c9bcb",
        "outputId": "a8921f4f-e115-4064-acaa-484536600986"
      },
      "outputs": [
        {
          "output_type": "stream",
          "name": "stdout",
          "text": [
            "2.91 s ± 895 ms per loop (mean ± std. dev. of 7 runs, 1 loop each)\n"
          ]
        }
      ],
      "source": [
        "%%timeit\n",
        "for inputs_batch, targets_batch in val_dataset:\n",
        "    logs = test_step(inputs_batch, targets_batch)"
      ]
    },
    {
      "cell_type": "markdown",
      "id": "e559b37b-74b6-47e4-9e37-61280095dd86",
      "metadata": {
        "id": "e559b37b-74b6-47e4-9e37-61280095dd86"
      },
      "source": [
        "### 7.4.4 Make it fast with tf.function"
      ]
    },
    {
      "cell_type": "markdown",
      "id": "8cf029e0-26eb-449b-9c9f-4c5c98099c63",
      "metadata": {
        "id": "8cf029e0-26eb-449b-9c9f-4c5c98099c63"
      },
      "source": [
        "**Adding a `tf.function` decorator to our evaluation-step function**"
      ]
    },
    {
      "cell_type": "code",
      "execution_count": 15,
      "id": "0f9215dc-5f34-4370-8892-6b61ab9aa66c",
      "metadata": {
        "colab": {
          "base_uri": "https://localhost:8080/"
        },
        "id": "0f9215dc-5f34-4370-8892-6b61ab9aa66c",
        "outputId": "1612dbe3-57f8-4821-8a9a-09e3db54f9d9"
      },
      "outputs": [
        {
          "output_type": "stream",
          "name": "stdout",
          "text": [
            "Mean test_step time: 0.001947626138266664\n",
            "Evaluation results:\n",
            "...val_sparse_categorical_accuracy: 0.9675\n",
            "...val_loss: 0.1194\n"
          ]
        }
      ],
      "source": [
        "@tf.function\n",
        "def test_step_compiled(inputs, targets):\n",
        "    predictions = model(inputs, training=False)\n",
        "    loss = loss_fn(targets, predictions)\n",
        "\n",
        "    logs = {}\n",
        "    for metric in metrics:\n",
        "        metric.update_state(targets, predictions)\n",
        "        logs[\"val_\" + metric.name] = metric.result()\n",
        "\n",
        "    loss_tracking_metric.update_state(loss)\n",
        "    logs[\"val_loss\"] = loss_tracking_metric.result()\n",
        "    return logs\n",
        "\n",
        "val_dataset = tf.data.Dataset.from_tensor_slices((val_images, val_labels))\n",
        "val_dataset = val_dataset.batch(32)\n",
        "reset_metrics()\n",
        "times = []\n",
        "for inputs_batch, targets_batch in val_dataset:\n",
        "    t = time.time()\n",
        "    logs = test_step_compiled(inputs_batch, targets_batch)\n",
        "    times.append(time.time() - t)\n",
        "print(\"Mean test_step time:\", sum(times)/len(times)) # an order of magnitude smaller\n",
        "print(\"Evaluation results:\")\n",
        "for key, value in logs.items():\n",
        "    print(f\"...{key}: {value:.4f}\")"
      ]
    },
    {
      "cell_type": "code",
      "execution_count": 16,
      "id": "791f808a-7227-48af-a339-e43a3eeface9",
      "metadata": {
        "colab": {
          "base_uri": "https://localhost:8080/"
        },
        "id": "791f808a-7227-48af-a339-e43a3eeface9",
        "outputId": "caa77c0c-d1ed-4255-9ac4-e4fa1dc33dc5"
      },
      "outputs": [
        {
          "output_type": "stream",
          "name": "stdout",
          "text": [
            "642 ms ± 257 ms per loop (mean ± std. dev. of 7 runs, 1 loop each)\n"
          ]
        }
      ],
      "source": [
        "%%timeit\n",
        "for inputs_batch, targets_batch in val_dataset:\n",
        "    logs = test_step_compiled(inputs_batch, targets_batch)"
      ]
    },
    {
      "cell_type": "markdown",
      "id": "78ff5a94-1bbe-45e6-b95f-945085bb4fad",
      "metadata": {
        "id": "78ff5a94-1bbe-45e6-b95f-945085bb4fad"
      },
      "source": [
        "### 7.4.5 Leveraging fit() with a custom training loop"
      ]
    },
    {
      "cell_type": "markdown",
      "id": "b98b7d26-6081-4d85-8303-5687cb4f2ab6",
      "metadata": {
        "id": "b98b7d26-6081-4d85-8303-5687cb4f2ab6"
      },
      "source": [
        "**Implementing a custom training step to use with `fit()`**"
      ]
    },
    {
      "cell_type": "code",
      "execution_count": 17,
      "id": "79c67412-11d6-48d0-adb6-82e5acbbd296",
      "metadata": {
        "id": "79c67412-11d6-48d0-adb6-82e5acbbd296"
      },
      "outputs": [],
      "source": [
        "loss_fn = tf.keras.losses.SparseCategoricalCrossentropy()\n",
        "loss_tracker = tf.keras.metrics.Mean(name=\"loss\")\n",
        "\n",
        "class CustomModel(tf.keras.Model):\n",
        "    def train_step(self, data): # ← `train_step` is what we need to rewrit\n",
        "        inputs, targets = data\n",
        "        with tf.GradientTape() as tape:\n",
        "            predictions = self(inputs, training=True)\n",
        "            loss = loss_fn(targets, predictions)\n",
        "        gradients = tape.gradient(loss, self.trainable_weights)\n",
        "        self.optimizer.apply_gradients(zip(gradients, self.trainable_weights))\n",
        "\n",
        "        loss_tracker.update_state(loss)\n",
        "        return {\"loss\": loss_tracker.result()}\n",
        "\n",
        "    @property\n",
        "    def metrics(self):\n",
        "        return [loss_tracker]"
      ]
    },
    {
      "cell_type": "code",
      "execution_count": 18,
      "id": "f84616da-c2a7-4a79-890c-f2a5d5471f93",
      "metadata": {
        "colab": {
          "base_uri": "https://localhost:8080/"
        },
        "id": "f84616da-c2a7-4a79-890c-f2a5d5471f93",
        "outputId": "da7c5439-5c14-432a-898a-ff57da804cbe"
      },
      "outputs": [
        {
          "output_type": "stream",
          "name": "stdout",
          "text": [
            "Epoch 1/3\n",
            "\u001b[1m1563/1563\u001b[0m \u001b[32m━━━━━━━━━━━━━━━━━━━━\u001b[0m\u001b[37m\u001b[0m \u001b[1m7s\u001b[0m 4ms/step - loss: 0.4492\n",
            "Epoch 2/3\n",
            "\u001b[1m1563/1563\u001b[0m \u001b[32m━━━━━━━━━━━━━━━━━━━━\u001b[0m\u001b[37m\u001b[0m \u001b[1m10s\u001b[0m 4ms/step - loss: 0.1661\n",
            "Epoch 3/3\n",
            "\u001b[1m1563/1563\u001b[0m \u001b[32m━━━━━━━━━━━━━━━━━━━━\u001b[0m\u001b[37m\u001b[0m \u001b[1m8s\u001b[0m 5ms/step - loss: 0.1296\n"
          ]
        },
        {
          "output_type": "execute_result",
          "data": {
            "text/plain": [
              "<keras.src.callbacks.history.History at 0x7e878c747820>"
            ]
          },
          "metadata": {},
          "execution_count": 18
        }
      ],
      "source": [
        "inputs = tf.keras.Input(shape=(28 * 28,))\n",
        "features = tf.keras.layers.Dense(512, activation=\"relu\")(inputs)\n",
        "features = tf.keras.layers.Dropout(0.5)(features)\n",
        "outputs = tf.keras.layers.Dense(10, activation=\"softmax\")(features)\n",
        "model = CustomModel(inputs, outputs)\n",
        "\n",
        "model.compile(optimizer=tf.keras.optimizers.RMSprop())\n",
        "model.fit(train_images, train_labels, epochs=3)"
      ]
    },
    {
      "cell_type": "markdown",
      "source": [
        "Updated from DLWP, see [reference here](https://keras.io/guides/custom_train_step_in_tensorflow/#a-first-simple-example)."
      ],
      "metadata": {
        "id": "aIyTig8se77J"
      },
      "id": "aIyTig8se77J"
    },
    {
      "cell_type": "code",
      "execution_count": 19,
      "id": "fc5d059d-fc1b-4eba-b951-52657d8ed0e1",
      "metadata": {
        "id": "fc5d059d-fc1b-4eba-b951-52657d8ed0e1"
      },
      "outputs": [],
      "source": [
        "class CustomModel(tf.keras.Model):\n",
        "    def train_step(self, data):\n",
        "        inputs, targets = data\n",
        "        with tf.GradientTape() as tape:\n",
        "            predictions = self(inputs, training=True)\n",
        "            #           ↓ compute loss\n",
        "            loss = self.compute_loss(y=targets, y_pred=predictions)\n",
        "        gradients = tape.gradient(loss, self.trainable_weights)\n",
        "        self.optimizer.apply_gradients(zip(gradients, self.trainable_weights))\n",
        "        #    ↓ compiled metrics for updating\n",
        "        for metric in self.metrics:\n",
        "            if metric.name == \"loss\":\n",
        "                metric.update_state(loss)\n",
        "            else:\n",
        "                metric.update_state(targets, predictions)\n",
        "        return {m.name: m.result() for m in self.metrics} # ← metrics for reporting"
      ]
    },
    {
      "cell_type": "code",
      "execution_count": 20,
      "id": "54a29ec5-d167-4273-b40b-0d9d6bbab1dc",
      "metadata": {
        "colab": {
          "base_uri": "https://localhost:8080/"
        },
        "id": "54a29ec5-d167-4273-b40b-0d9d6bbab1dc",
        "outputId": "46634fc1-7cde-445e-ee92-9d87e00165fa"
      },
      "outputs": [
        {
          "output_type": "stream",
          "name": "stdout",
          "text": [
            "Epoch 1/3\n",
            "\u001b[1m1563/1563\u001b[0m \u001b[32m━━━━━━━━━━━━━━━━━━━━\u001b[0m\u001b[37m\u001b[0m \u001b[1m7s\u001b[0m 4ms/step - sparse_categorical_accuracy: 0.8698 - loss: 0.4427\n",
            "Epoch 2/3\n",
            "\u001b[1m1563/1563\u001b[0m \u001b[32m━━━━━━━━━━━━━━━━━━━━\u001b[0m\u001b[37m\u001b[0m \u001b[1m9s\u001b[0m 6ms/step - sparse_categorical_accuracy: 0.9542 - loss: 0.1653\n",
            "Epoch 3/3\n",
            "\u001b[1m1563/1563\u001b[0m \u001b[32m━━━━━━━━━━━━━━━━━━━━\u001b[0m\u001b[37m\u001b[0m \u001b[1m9s\u001b[0m 5ms/step - sparse_categorical_accuracy: 0.9624 - loss: 0.1290\n"
          ]
        },
        {
          "output_type": "execute_result",
          "data": {
            "text/plain": [
              "<keras.src.callbacks.history.History at 0x7e878c68b190>"
            ]
          },
          "metadata": {},
          "execution_count": 20
        }
      ],
      "source": [
        "inputs = tf.keras.Input(shape=(28 * 28,))\n",
        "features = tf.keras.layers.Dense(512, activation=\"relu\")(inputs)\n",
        "features = tf.keras.layers.Dropout(0.5)(features)\n",
        "outputs = tf.keras.layers.Dense(10, activation=\"softmax\")(features)\n",
        "model = CustomModel(inputs, outputs)\n",
        "\n",
        "model.compile(\n",
        "    optimizer=tf.keras.optimizers.RMSprop(),\n",
        "    loss=tf.keras.losses.SparseCategoricalCrossentropy(),\n",
        "    metrics=[tf.keras.metrics.SparseCategoricalAccuracy()],\n",
        ")\n",
        "model.fit(train_images, train_labels, epochs=3)"
      ]
    }
  ],
  "metadata": {
    "accelerator": "GPU",
    "colab": {
      "gpuType": "T4",
      "provenance": []
    },
    "kernelspec": {
      "display_name": "Python 3 (ipykernel)",
      "language": "python",
      "name": "python3"
    },
    "language_info": {
      "codemirror_mode": {
        "name": "ipython",
        "version": 3
      },
      "file_extension": ".py",
      "mimetype": "text/x-python",
      "name": "python",
      "nbconvert_exporter": "python",
      "pygments_lexer": "ipython3",
      "version": "3.9.18"
    }
  },
  "nbformat": 4,
  "nbformat_minor": 5
}