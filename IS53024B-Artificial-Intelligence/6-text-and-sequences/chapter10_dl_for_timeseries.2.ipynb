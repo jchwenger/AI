{
  "cells": [
    {
      "cell_type": "markdown",
      "metadata": {
        "id": "BWvfVOo3e_g7"
      },
      "source": [
        "# 10 Deep learning for timeseries"
      ]
    },
    {
      "cell_type": "code",
      "execution_count": 1,
      "metadata": {
        "id": "Ag7V9qlde_hD"
      },
      "outputs": [],
      "source": [
        "import os, sys, pathlib\n",
        "import numpy as np\n",
        "\n",
        "from matplotlib import pyplot as plt\n",
        "from IPython.display import YouTubeVideo\n",
        "\n",
        "import tensorflow as tf"
      ]
    },
    {
      "cell_type": "code",
      "execution_count": 2,
      "metadata": {
        "colab": {
          "base_uri": "https://localhost:8080/"
        },
        "id": "n3PuQBRBe_hG",
        "outputId": "cb6256ba-60e6-4da2-888d-9899d7165a00"
      },
      "outputs": [
        {
          "output_type": "stream",
          "name": "stdout",
          "text": [
            "Mounted at /content/drive\n"
          ]
        }
      ],
      "source": [
        "# reminder: Colab code to mount your drive\n",
        "if 'google.colab' in sys.modules:\n",
        "    from google.colab import drive\n",
        "    drive.mount('/content/drive') # 'My Drive' is the default name of Google Drives, change the rest accordingly!\n",
        "    os.chdir('drive/My Drive/IS53024B-Artificial-Intelligence/6-text-and-sequences') \n",
        "    os.listdir()"
      ]
    },
    {
      "cell_type": "markdown",
      "metadata": {
        "id": "BRkWNWTUe_hH"
      },
      "source": [
        "---\n",
        "\n",
        "## 10.2 A temperature-forecasting example"
      ]
    },
    {
      "cell_type": "markdown",
      "metadata": {
        "id": "G--XWhcCe_hJ"
      },
      "source": [
        "Download the data\n",
        "```bash\n",
        "!wget https://s3.amazonaws.com/keras-datasets/jena_climate_2009_2016.csv.zip\n",
        "!unzip jena_climate_2009_2016.csv.zip\n",
        "```"
      ]
    },
    {
      "cell_type": "markdown",
      "metadata": {
        "id": "NlVQyWKOe_hK"
      },
      "source": [
        "#### Inspecting the data of the Jena weather dataset"
      ]
    },
    {
      "cell_type": "code",
      "execution_count": null,
      "metadata": {
        "id": "sjkXCGRoe_hL"
      },
      "outputs": [],
      "source": [
        "base_dir = pathlib.Path(\"jena\")\n",
        "fname = base_dir / \"jena_climate_2009_2016.csv\"\n",
        "\n",
        "with open(fname) as f:\n",
        "    data = f.read()\n",
        "\n",
        "lines = data.split(\"\\n\")\n",
        "header = lines[0].split(\",\")\n",
        "lines = lines[1:]\n",
        "for i, feature in enumerate(header):\n",
        "    if feature == '\"T (degC)\"':\n",
        "        print(f\"{i:<2} | \\033[1;3m{feature} ← temperature in °C\\033[0m\")\n",
        "    else:\n",
        "        print(f\"{i:<2} | {feature}\")\n",
        "\n",
        "print()\n",
        "print(f\"{len(lines)} lines\")"
      ]
    },
    {
      "cell_type": "markdown",
      "metadata": {
        "id": "OMAo66Wre_hO"
      },
      "source": [
        "#### Parsing the data"
      ]
    },
    {
      "cell_type": "code",
      "execution_count": 4,
      "metadata": {
        "colab": {
          "base_uri": "https://localhost:8080/"
        },
        "id": "NCo2MCbpe_hP",
        "outputId": "5191200d-6a3a-45b7-ec21-c127a3f53396"
      },
      "outputs": [
        {
          "output_type": "stream",
          "name": "stdout",
          "text": [
            "loading numpy files\n"
          ]
        }
      ],
      "source": [
        "temperature = np.zeros((len(lines),))\n",
        "raw_data = np.zeros((len(lines), len(header) - 1))   # (len minus the date)\n",
        "\n",
        "if not os.path.isfile(base_dir / \"temperature.npy\") and not os.path.isfile(base_dir / \"raw_data.npz\"):\n",
        "    print(\"loading dataset\")\n",
        "    for i, line in enumerate(lines):\n",
        "        print(f\"line {i}/{len(lines)}\\r\", end=\"\")\n",
        "        values = [float(x) for x in line.split(\",\")[1:]] # (don't take the date)\n",
        "        temperature[i] = values[1]                       # temperature at index 1\n",
        "        raw_data[i, :] = values[:]\n",
        "    np.save(base_dir / \"temperature.npy\", temperature)\n",
        "    np.save(base_dir / \"raw_data.npy\", raw_data)\n",
        "else:\n",
        "    print(\"loading numpy files\")    \n",
        "    temperature = np.load(base_dir / \"temperature.npy\")\n",
        "    raw_data = np.load(base_dir / \"raw_data.npy\")"
      ]
    },
    {
      "cell_type": "markdown",
      "metadata": {
        "id": "fs8lzLwGe_hR"
      },
      "source": [
        "#### Plotting the temperature timeseries"
      ]
    },
    {
      "cell_type": "code",
      "execution_count": null,
      "metadata": {
        "colab": {
          "base_uri": "https://localhost:8080/",
          "height": 286
        },
        "id": "BqSaBVMve_hR",
        "outputId": "b8c66cbe-7132-4c2c-98d0-02641dcf9365"
      },
      "outputs": [
        {
          "output_type": "execute_result",
          "data": {
            "text/plain": [
              "[<matplotlib.lines.Line2D at 0x7f9bbd98ea10>]"
            ]
          },
          "metadata": {},
          "execution_count": 7
        },
        {
          "output_type": "display_data",
          "data": {
            "text/plain": [
              "<Figure size 432x288 with 1 Axes>"
            ],
            "image/png": "[encoded data removed]"
          },
          "metadata": {
            "needs_background": "light"
          }
        }
      ],
      "source": [
        "plt.plot(range(len(temperature)), temperature)"
      ]
    },
    {
      "cell_type": "markdown",
      "metadata": {
        "id": "V_w3hYrve_hS"
      },
      "source": [
        "#### Plotting the first 10 days of the temperature timeseries"
      ]
    },
    {
      "cell_type": "code",
      "execution_count": null,
      "metadata": {
        "colab": {
          "base_uri": "https://localhost:8080/",
          "height": 283
        },
        "id": "S-PYpE0Ne_hT",
        "outputId": "ca1476a3-59af-4e20-ab79-0f08b0fd9620"
      },
      "outputs": [
        {
          "output_type": "execute_result",
          "data": {
            "text/plain": [
              "[<matplotlib.lines.Line2D at 0x7f9b497deb10>]"
            ]
          },
          "metadata": {},
          "execution_count": 8
        },
        {
          "output_type": "display_data",
          "data": {
            "text/plain": [
              "<Figure size 432x288 with 1 Axes>"
            ],
            "image/png": "[encoded data removed]"
          },
          "metadata": {
            "needs_background": "light"
          }
        }
      ],
      "source": [
        "plt.plot(range(1440), temperature[:1440])"
      ]
    },
    {
      "cell_type": "markdown",
      "metadata": {
        "id": "CKyk2Ewce_hU"
      },
      "source": [
        "#### Computing the number of samples we'll use for each data split"
      ]
    },
    {
      "cell_type": "code",
      "execution_count": 5,
      "metadata": {
        "colab": {
          "base_uri": "https://localhost:8080/"
        },
        "id": "FHP-PxuUe_hV",
        "outputId": "a268b56e-cb47-483f-a2da-55ea0ee0bf65"
      },
      "outputs": [
        {
          "output_type": "stream",
          "name": "stdout",
          "text": [
            "num_train_samples: 210225\n",
            "num_val_samples: 105112\n",
            "num_test_samples: 105114\n"
          ]
        }
      ],
      "source": [
        "num_train_samples = int(0.5 * len(raw_data))\n",
        "num_val_samples = int(0.25 * len(raw_data))\n",
        "num_test_samples = len(raw_data) - num_train_samples - num_val_samples\n",
        "print(\"num_train_samples:\", num_train_samples)\n",
        "print(\"num_val_samples:\", num_val_samples)\n",
        "print(\"num_test_samples:\", num_test_samples)"
      ]
    },
    {
      "cell_type": "markdown",
      "metadata": {
        "id": "pu2uLqZze_hW"
      },
      "source": [
        "---\n",
        "\n",
        "### 10.2.1 Preparing the data"
      ]
    },
    {
      "cell_type": "markdown",
      "metadata": {
        "id": "4b7hCxGLe_hW"
      },
      "source": [
        "#### Normalizing the data"
      ]
    },
    {
      "cell_type": "code",
      "execution_count": 6,
      "metadata": {
        "id": "ei9grDgXe_hX"
      },
      "outputs": [],
      "source": [
        "mean = raw_data[:num_train_samples].mean(axis=0)\n",
        "raw_data -= mean\n",
        "std = raw_data[:num_train_samples].std(axis=0)\n",
        "raw_data /= std"
      ]
    },
    {
      "cell_type": "code",
      "execution_count": 7,
      "metadata": {
        "colab": {
          "base_uri": "https://localhost:8080/"
        },
        "id": "ZF3seFa8e_hY",
        "outputId": "d8b9e47b-e0b4-4b19-a47f-ca95f91f5571"
      },
      "outputs": [
        {
          "output_type": "stream",
          "name": "stdout",
          "text": [
            "[0, 1, 2] 3\n",
            "[1, 2, 3] 4\n",
            "[2, 3, 4] 5\n",
            "[3, 4, 5] 6\n",
            "[4, 5, 6] 7\n"
          ]
        }
      ],
      "source": [
        "int_sequence = np.arange(10)\n",
        "dummy_dataset = tf.keras.utils.timeseries_dataset_from_array(\n",
        "    data=int_sequence[:-3],   # given our length, stop 3 before the end\n",
        "    targets=int_sequence[3:], # the first target will be at the fourth element\n",
        "    sequence_length=3,\n",
        "    batch_size=2,\n",
        ")\n",
        "\n",
        "for inputs, targets in dummy_dataset:\n",
        "    for i in range(inputs.shape[0]):\n",
        "        print([int(x) for x in inputs[i]], int(targets[i]))"
      ]
    },
    {
      "cell_type": "markdown",
      "metadata": {
        "id": "la0D36Vae_hZ"
      },
      "source": [
        "#### Instantiating datasets for training, validation, and testing\n",
        "\n",
        "Documentation for [`tf.keras.utils.timeseries_dataset_from_array`](https://www.tensorflow.org/api_docs/python/tf/keras/utils/timeseries_dataset_from_array)."
      ]
    },
    {
      "cell_type": "code",
      "execution_count": 8,
      "metadata": {
        "id": "g6K9uRYLe_hZ"
      },
      "outputs": [],
      "source": [
        "sampling_rate = 6\n",
        "sequence_length = 120\n",
        "delay = sampling_rate * (sequence_length + 24 - 1)\n",
        "batch_size = 256\n",
        "\n",
        "train_dataset = tf.keras.utils.timeseries_dataset_from_array(\n",
        "    raw_data[:-delay],\n",
        "    targets=temperature[delay:],\n",
        "    sampling_rate=sampling_rate,\n",
        "    sequence_length=sequence_length,\n",
        "    shuffle=True,\n",
        "    batch_size=batch_size,\n",
        "    start_index=0,\n",
        "    end_index=num_train_samples\n",
        ")\n",
        "\n",
        "val_dataset = tf.keras.utils.timeseries_dataset_from_array(\n",
        "    raw_data[:-delay],\n",
        "    targets=temperature[delay:],\n",
        "    sampling_rate=sampling_rate,\n",
        "    sequence_length=sequence_length,\n",
        "    shuffle=True,\n",
        "    batch_size=batch_size,\n",
        "    start_index=num_train_samples,\n",
        "    end_index=num_train_samples + num_val_samples\n",
        ")\n",
        "\n",
        "test_dataset = tf.keras.utils.timeseries_dataset_from_array(\n",
        "    raw_data[:-delay],\n",
        "    targets=temperature[delay:],\n",
        "    sampling_rate=sampling_rate,\n",
        "    sequence_length=sequence_length,\n",
        "    shuffle=True,\n",
        "    batch_size=batch_size,\n",
        "    start_index=num_train_samples + num_val_samples\n",
        ")"
      ]
    },
    {
      "cell_type": "markdown",
      "metadata": {
        "id": "U-ngjYZKe_ha"
      },
      "source": [
        "#### Inspecting the output of one of our datasets"
      ]
    },
    {
      "cell_type": "code",
      "execution_count": 9,
      "metadata": {
        "colab": {
          "base_uri": "https://localhost:8080/"
        },
        "id": "mcVsxuhPe_ha",
        "outputId": "9322cc4c-b093-4e78-9e6e-87ac1c17fa23"
      },
      "outputs": [
        {
          "output_type": "stream",
          "name": "stdout",
          "text": [
            "samples shape: (256, 120, 14)\n",
            "targets shape: (256,)\n"
          ]
        }
      ],
      "source": [
        "for samples, targets in train_dataset:\n",
        "    print(\"samples shape:\", samples.shape)\n",
        "    print(\"targets shape:\", targets.shape)\n",
        "    break"
      ]
    },
    {
      "cell_type": "markdown",
      "metadata": {
        "id": "J5uAuYL3e_hb"
      },
      "source": [
        "---\n",
        "\n",
        "### 10.2.2 A common-sense, non-machine-learning baseline"
      ]
    },
    {
      "cell_type": "markdown",
      "metadata": {
        "id": "Wsqx5l3xe_hc"
      },
      "source": [
        "What would that look like for continuous data, like temperature?\n",
        "\n",
        "The assumption that Chollet makes is that there will be cycles of 24h (days!).\n",
        "\n",
        "The temperature 24 hours in the future is likely close to the temperature now.\n",
        "\n",
        "(Maybe a dubious assumption for UK weather?!)\n",
        "\n",
        "This is similar to the Boston Housing dataset example we had: calculate the Mean Absolute Error (MAE)."
      ]
    },
    {
      "cell_type": "markdown",
      "metadata": {
        "id": "i26HgkUpe_hc"
      },
      "source": [
        "#### Computing the common-sense baseline MAE"
      ]
    },
    {
      "cell_type": "code",
      "execution_count": null,
      "metadata": {
        "colab": {
          "base_uri": "https://localhost:8080/"
        },
        "id": "hoGYpy5Ee_hd",
        "outputId": "2a9ceb28-c486-4654-9dfe-c83abb8e74c9"
      },
      "outputs": [
        {
          "output_type": "stream",
          "name": "stdout",
          "text": [
            "Validation MAE: 2.44\n",
            "Test MAE: 2.62\n"
          ]
        }
      ],
      "source": [
        "def evaluate_naive_method(dataset):\n",
        "    \"\"\"Evaluation: the target is identical to the last temperature measurement\"\"\"\n",
        "    total_abs_err = 0.\n",
        "    samples_seen = 0\n",
        "    for samples, targets in dataset:\n",
        "        #        [samples, step, feature]  (feature at index 1: temperature) \n",
        "        #                   ↓\n",
        "        preds = samples[:, -1, 1] * std[1] + mean[1]     # unnormalize, same mean/std as in training\n",
        "        total_abs_err += np.sum(np.abs(preds - targets)) # absolute distance \n",
        "        samples_seen += samples.shape[0]\n",
        "    return total_abs_err / samples_seen\n",
        "\n",
        "print(f\"Validation MAE: {evaluate_naive_method(val_dataset):.2f}\")\n",
        "print(f\"Test MAE: {evaluate_naive_method(test_dataset):.2f}\")"
      ]
    },
    {
      "cell_type": "markdown",
      "metadata": {
        "id": "0VBbL9kYe_he"
      },
      "source": [
        "Can we beat this baseline? \n",
        "\n",
        "A common sense baseline is essential – otherwise we cannot calibrate the performance of any model.\n",
        "\n",
        "An ML baseline – a simple, cheap model – is also useful.\n",
        "\n",
        "Our focus is: **are sophisticated models worth the extra computational effort?**"
      ]
    },
    {
      "cell_type": "markdown",
      "metadata": {
        "id": "cbgqAHIQe_he"
      },
      "source": [
        "---\n",
        "### 10.2.3 Let's try a basic machine-learning model\n",
        "\n",
        "Our baseline model is a two layer (plus flattening layer) fully-connected feedforward network.\n",
        "\n",
        "#### Regression task\n",
        "\n",
        "The final layer has a single unit without activation.\n",
        "\n",
        "#### Loss\n",
        "Mean Squared Error (MSE)\n",
        "\n",
        "#### Metric\n",
        "\n",
        "Mean Average Error, so results are directly comparable to the common-sense baseline."
      ]
    },
    {
      "cell_type": "markdown",
      "metadata": {
        "id": "4dy-GWVUe_hf"
      },
      "source": [
        "#### Training and evaluating a densely connected model"
      ]
    },
    {
      "cell_type": "code",
      "execution_count": null,
      "metadata": {
        "id": "01VLwyzEe_hg"
      },
      "outputs": [],
      "source": [
        "inputs = tf.keras.Input(shape=(sequence_length, raw_data.shape[-1]))\n",
        "x = tf.keras.layers.Flatten()(inputs)\n",
        "x = tf.keras.layers.Dense(16, activation=\"relu\")(x)\n",
        "outputs = tf.keras.layers.Dense(1)(x)\n",
        "model = tf.keras.Model(inputs, outputs)"
      ]
    },
    {
      "cell_type": "code",
      "execution_count": null,
      "metadata": {
        "colab": {
          "base_uri": "https://localhost:8080/"
        },
        "id": "5IJJg3JMe_hg",
        "outputId": "322bbb39-6cde-498a-e8e0-76c2af5bb4d4"
      },
      "outputs": [
        {
          "output_type": "stream",
          "name": "stdout",
          "text": [
            "Epoch 1/10\n",
            "819/819 [==============================] - 42s 48ms/step - loss: 12.0712 - mae: 2.6895 - val_loss: 10.3978 - val_mae: 2.5438\n",
            "Epoch 2/10\n",
            "819/819 [==============================] - 39s 47ms/step - loss: 8.8102 - mae: 2.3316 - val_loss: 10.2421 - val_mae: 2.5492\n",
            "Epoch 3/10\n",
            "819/819 [==============================] - 38s 46ms/step - loss: 8.1456 - mae: 2.2453 - val_loss: 10.4523 - val_mae: 2.5603\n",
            "Epoch 4/10\n",
            "819/819 [==============================] - 38s 46ms/step - loss: 7.6837 - mae: 2.1845 - val_loss: 10.2367 - val_mae: 2.5387\n",
            "Epoch 5/10\n",
            "819/819 [==============================] - 38s 47ms/step - loss: 7.3787 - mae: 2.1426 - val_loss: 10.5182 - val_mae: 2.5792\n",
            "Epoch 6/10\n",
            "819/819 [==============================] - 37s 45ms/step - loss: 7.1409 - mae: 2.1080 - val_loss: 11.5153 - val_mae: 2.6806\n",
            "Epoch 7/10\n",
            "819/819 [==============================] - 39s 47ms/step - loss: 6.9679 - mae: 2.0835 - val_loss: 11.1034 - val_mae: 2.6368\n",
            "Epoch 8/10\n",
            "819/819 [==============================] - 38s 47ms/step - loss: 6.8196 - mae: 2.0614 - val_loss: 10.7025 - val_mae: 2.5999\n",
            "Epoch 9/10\n",
            "819/819 [==============================] - 42s 51ms/step - loss: 6.6932 - mae: 2.0414 - val_loss: 11.9000 - val_mae: 2.7304\n",
            "Epoch 10/10\n",
            "819/819 [==============================] - 39s 47ms/step - loss: 6.5888 - mae: 2.0260 - val_loss: 10.7000 - val_mae: 2.5948\n"
          ]
        }
      ],
      "source": [
        "callbacks = [\n",
        "    tf.keras.callbacks.ModelCheckpoint(\n",
        "        base_dir / \"jena_dense.keras\",\n",
        "        save_best_only=True\n",
        "    )\n",
        "]\n",
        "\n",
        "model.compile(\n",
        "    optimizer=\"rmsprop\",\n",
        "    loss=\"mse\",\n",
        "    metrics=[\"mae\"]\n",
        ")\n",
        "\n",
        "history = model.fit(\n",
        "    train_dataset,\n",
        "    epochs=10,\n",
        "    validation_data=val_dataset,\n",
        "    callbacks=callbacks\n",
        ")"
      ]
    },
    {
      "cell_type": "code",
      "execution_count": null,
      "metadata": {
        "colab": {
          "base_uri": "https://localhost:8080/"
        },
        "id": "meZWWN6se_hh",
        "outputId": "3d2e1b73-391c-489e-af23-c61424d1c742"
      },
      "outputs": [
        {
          "output_type": "stream",
          "name": "stdout",
          "text": [
            "405/405 [==============================] - 13s 31ms/step - loss: 10.9360 - mae: 2.6062\n",
            "Test MAE: 2.61\n"
          ]
        }
      ],
      "source": [
        "model = tf.keras.models.load_model(base_dir / \"jena_dense.keras\")\n",
        "print(f\"Test MAE: {model.evaluate(test_dataset)[1]:.2f}\")"
      ]
    },
    {
      "cell_type": "markdown",
      "metadata": {
        "id": "znV5rpawe_hi"
      },
      "source": [
        "We haven't beaten the common sense baseline!\n",
        "\n",
        "The model is worse than common sense.\n",
        "\n",
        "The machine is not privy to the wealth of human experiential evidence.\n",
        "\n",
        "But why hasn't the machine found our simple model: that tomorrow's temperature will be pretty similar to today's? \n"
      ]
    },
    {
      "cell_type": "markdown",
      "metadata": {
        "id": "pQLn_46Ce_hi"
      },
      "source": [
        "The hypothesis space is the space of all two layer networks.\n",
        "\n",
        "Already a very complicated space.\n",
        "\n",
        "The simple baseline might hidden in a tiny corner of this vast, intricate hypothesis space."
      ]
    },
    {
      "cell_type": "markdown",
      "metadata": {
        "id": "jsg5kLCDe_hj"
      },
      "source": [
        "ML limitation: parameter learning can fail to find a simple solution to a simple problem.\n",
        "\n",
        "Of course we could hard-code models to look for a specific kind of solution but we wish to avoid excessive feature engineering."
      ]
    },
    {
      "cell_type": "markdown",
      "metadata": {
        "id": "1HthGxF_e_hj"
      },
      "source": [
        "#### Plotting results"
      ]
    },
    {
      "cell_type": "code",
      "execution_count": 19,
      "metadata": {
        "id": "NL0_24yFe_hj"
      },
      "outputs": [],
      "source": [
        "def plot_history(history):\n",
        "    loss = history.history[\"mae\"]\n",
        "    val_loss = history.history[\"val_mae\"]\n",
        "    epochs = range(1, len(loss) + 1)\n",
        "    plt.figure()\n",
        "    plt.plot(epochs, loss, label=\"Training MAE\")\n",
        "    plt.plot(epochs, val_loss, label=\"Validation MAE\")\n",
        "    plt.title(\"Training and validation MAE\")\n",
        "    plt.legend()\n",
        "    plt.show()"
      ]
    },
    {
      "cell_type": "code",
      "execution_count": null,
      "metadata": {
        "colab": {
          "base_uri": "https://localhost:8080/",
          "height": 281
        },
        "id": "Buh-3kHpe_hk",
        "outputId": "11c5b377-f63c-4a1a-dc31-9fb414e65bce"
      },
      "outputs": [
        {
          "output_type": "display_data",
          "data": {
            "text/plain": [
              "<Figure size 432x288 with 1 Axes>"
            ],
            "image/png": "[encoded data removed]"
          },
          "metadata": {
            "needs_background": "light"
          }
        }
      ],
      "source": [
        "plot_history(history)"
      ]
    },
    {
      "cell_type": "markdown",
      "metadata": {
        "id": "oGtGgo7te_hl"
      },
      "source": [
        "---\n",
        "\n",
        "### 10.2.4 Let's try a 1D convolutional model"
      ]
    },
    {
      "cell_type": "markdown",
      "metadata": {
        "id": "vYV0Z0Ure_hl"
      },
      "source": [
        "Convnets extract and modularise salient 2D information from local patches.\n",
        "\n",
        "1D data – timeseries – might have similar local regularities.\n",
        "\n",
        "And then 1D convnets would provide a cheap alternative to RNNs."
      ]
    },
    {
      "cell_type": "markdown",
      "metadata": {
        "id": "CbPnWEIpe_hm"
      },
      "source": [
        "1D Pooling works just like 2D pooling – max (or average) pooling.\n",
        "\n",
        "Used for subsampling – reducing the length of 1D inputs."
      ]
    },
    {
      "cell_type": "markdown",
      "metadata": {
        "id": "qOjJaHAye_hm"
      },
      "source": [
        "<img src=\"images/convolutions/1d-conv.png\">\n",
        "\n",
        "<small>[Castro et al., \"STConvS2S: Spatiotemporal Convolutional Sequence to Sequence Network for weather forecasting\", ResearchGate](https://www.researchgate.net/figure/Causal-convolution-operation-in-a-1D-convolutional-layer-with-k-3-kernel-size-Input_fig1_337703712)</small>"
      ]
    },
    {
      "cell_type": "code",
      "execution_count": null,
      "metadata": {
        "id": "WztFW_RDe_hn"
      },
      "outputs": [],
      "source": [
        "tf.keras.backend.clear_session()\n",
        "\n",
        "inputs = tf.keras.Input(shape=(sequence_length, raw_data.shape[-1]))\n",
        "# note the larger convolution window: 24\n",
        "x = tf.keras.layers.Conv1D(8, 24, activation=\"relu\")(inputs)\n",
        "x = tf.keras.layers.MaxPooling1D(2)(x)\n",
        "x = tf.keras.layers.Conv1D(8, 12, activation=\"relu\")(x)\n",
        "x = tf.keras.layers.MaxPooling1D(2)(x)\n",
        "x = tf.keras.layers.Conv1D(8, 6, activation=\"relu\")(x)\n",
        "x = tf.keras.layers.GlobalAveragePooling1D()(x)\n",
        "outputs = tf.keras.layers.Dense(1)(x)\n",
        "model = tf.keras.Model(inputs, outputs)"
      ]
    },
    {
      "cell_type": "code",
      "execution_count": null,
      "metadata": {
        "colab": {
          "base_uri": "https://localhost:8080/"
        },
        "id": "znjYSsxDe_hn",
        "outputId": "c6333be4-fcc0-4270-e84b-7a1fb44dfc30"
      },
      "outputs": [
        {
          "output_type": "stream",
          "name": "stdout",
          "text": [
            "Epoch 1/10\n",
            "819/819 [==============================] - 44s 52ms/step - loss: 25.0286 - mae: 3.8419 - val_loss: 15.7432 - val_mae: 3.1049\n",
            "Epoch 2/10\n",
            "819/819 [==============================] - 40s 49ms/step - loss: 15.0828 - mae: 3.0868 - val_loss: 16.1965 - val_mae: 3.2171\n",
            "Epoch 3/10\n",
            "819/819 [==============================] - 39s 48ms/step - loss: 13.7644 - mae: 2.9404 - val_loss: 14.6928 - val_mae: 3.0090\n",
            "Epoch 4/10\n",
            "819/819 [==============================] - 40s 49ms/step - loss: 12.7430 - mae: 2.8209 - val_loss: 15.6562 - val_mae: 3.0778\n",
            "Epoch 5/10\n",
            "819/819 [==============================] - 39s 47ms/step - loss: 11.9841 - mae: 2.7309 - val_loss: 15.6971 - val_mae: 3.0951\n",
            "Epoch 6/10\n",
            "819/819 [==============================] - 40s 49ms/step - loss: 11.4053 - mae: 2.6645 - val_loss: 14.9549 - val_mae: 3.0302\n",
            "Epoch 7/10\n",
            "819/819 [==============================] - 40s 49ms/step - loss: 10.9098 - mae: 2.6054 - val_loss: 15.2280 - val_mae: 3.0986\n",
            "Epoch 8/10\n",
            "819/819 [==============================] - 39s 48ms/step - loss: 10.5731 - mae: 2.5685 - val_loss: 15.5105 - val_mae: 3.1273\n",
            "Epoch 9/10\n",
            "819/819 [==============================] - 41s 49ms/step - loss: 10.2500 - mae: 2.5296 - val_loss: 15.4189 - val_mae: 3.1047\n",
            "Epoch 10/10\n",
            "819/819 [==============================] - 39s 48ms/step - loss: 9.9988 - mae: 2.4999 - val_loss: 15.5766 - val_mae: 3.1075\n"
          ]
        }
      ],
      "source": [
        "callbacks = [\n",
        "    tf.keras.callbacks.ModelCheckpoint(\n",
        "        base_dir / \"jena_conv.keras\",\n",
        "        save_best_only=True\n",
        "    )\n",
        "]\n",
        "\n",
        "model.compile(\n",
        "    optimizer=\"rmsprop\",\n",
        "    loss=\"mse\",\n",
        "    metrics=[\"mae\"]\n",
        ")\n",
        "\n",
        "history = model.fit(\n",
        "    train_dataset,\n",
        "    epochs=10,\n",
        "    validation_data=val_dataset,\n",
        "    callbacks=callbacks\n",
        ")"
      ]
    },
    {
      "cell_type": "code",
      "execution_count": null,
      "metadata": {
        "colab": {
          "base_uri": "https://localhost:8080/",
          "height": 281
        },
        "id": "4C1TyXUCe_ho",
        "outputId": "635fd82a-5318-469b-f986-d81d57a4c888"
      },
      "outputs": [
        {
          "output_type": "display_data",
          "data": {
            "text/plain": [
              "<Figure size 432x288 with 1 Axes>"
            ],
            "image/png": "[encoded data removed]"
          },
          "metadata": {
            "needs_background": "light"
          }
        }
      ],
      "source": [
        "plot_history(history)"
      ]
    },
    {
      "cell_type": "code",
      "execution_count": null,
      "metadata": {
        "colab": {
          "base_uri": "https://localhost:8080/"
        },
        "id": "5P6addG7e_ho",
        "outputId": "8fd00f13-bf76-4332-8a22-de0f7931c8cf"
      },
      "outputs": [
        {
          "output_type": "stream",
          "name": "stdout",
          "text": [
            "405/405 [==============================] - 14s 34ms/step - loss: 16.3744 - mae: 3.1841\n",
            "Test MAE: 3.18\n"
          ]
        }
      ],
      "source": [
        "model = tf.keras.models.load_model(base_dir / \"jena_conv.keras\")\n",
        "print(f\"Test MAE: {model.evaluate(test_dataset)[1]:.2f}\")\n",
        "del model"
      ]
    },
    {
      "cell_type": "markdown",
      "metadata": {
        "id": "wOCIH9Ype_ho"
      },
      "source": [
        "Not as good performance as RNNs/LSTMs, but cheaper to run!\n",
        "\n",
        "Was an alleyway of research before Transformers came along.\n",
        "\n",
        "The convnet looks for patterns anywhere in the timeseries but has no knowledge of the temporal position of that pattern (at the beginning, the end, etc.).\n",
        "\n",
        "But we know recent weather datapoints are more salient than older datapoints.\n",
        "\n",
        "That's why this convnet fails to produce a meaningful result."
      ]
    },
    {
      "cell_type": "markdown",
      "metadata": {
        "id": "2-1-Rlcre_hp"
      },
      "source": [
        "---\n",
        "\n",
        "### 10.2.5 A first recurrent baseline"
      ]
    },
    {
      "cell_type": "markdown",
      "metadata": {
        "id": "Roe374tke_hq"
      },
      "source": [
        "The baseline model failed – but flattening removed time dependencies.\n",
        "\n",
        "Perhaps causality and order matter (weather is not actually random, but follows day-by-day patterns).\n",
        "\n",
        "We need an order-preserving model – an RNN."
      ]
    },
    {
      "cell_type": "markdown",
      "metadata": {
        "id": "9NvumevPe_hq"
      },
      "source": [
        "#### A simple LSTM-based model"
      ]
    },
    {
      "cell_type": "code",
      "execution_count": null,
      "metadata": {
        "id": "SDZBPAJve_hq"
      },
      "outputs": [],
      "source": [
        "tf.keras.backend.clear_session()\n",
        "\n",
        "inputs = tf.keras.Input(shape=(sequence_length, raw_data.shape[-1]))\n",
        "x = tf.keras.layers.LSTM(16)(inputs)\n",
        "outputs = tf.keras.layers.Dense(1)(x)\n",
        "model = tf.keras.Model(inputs, outputs)"
      ]
    },
    {
      "cell_type": "code",
      "execution_count": null,
      "metadata": {
        "colab": {
          "base_uri": "https://localhost:8080/"
        },
        "id": "OGP7CJgLe_hr",
        "outputId": "fb1ce0d2-96a8-4033-948e-6807ec1e4302"
      },
      "outputs": [
        {
          "output_type": "stream",
          "name": "stdout",
          "text": [
            "Epoch 1/10\n",
            "819/819 [==============================] - 46s 53ms/step - loss: 38.4663 - mae: 4.4976 - val_loss: 11.9803 - val_mae: 2.6527\n",
            "Epoch 2/10\n",
            "819/819 [==============================] - 44s 54ms/step - loss: 10.8622 - mae: 2.5607 - val_loss: 9.8543 - val_mae: 2.4353\n",
            "Epoch 3/10\n",
            "819/819 [==============================] - 42s 51ms/step - loss: 9.6222 - mae: 2.4199 - val_loss: 9.9119 - val_mae: 2.4347\n",
            "Epoch 4/10\n",
            "819/819 [==============================] - 44s 53ms/step - loss: 9.0498 - mae: 2.3531 - val_loss: 9.6705 - val_mae: 2.4139\n",
            "Epoch 5/10\n",
            "819/819 [==============================] - 42s 51ms/step - loss: 8.6412 - mae: 2.2989 - val_loss: 9.8682 - val_mae: 2.4280\n",
            "Epoch 6/10\n",
            "819/819 [==============================] - 44s 53ms/step - loss: 8.3659 - mae: 2.2611 - val_loss: 10.0728 - val_mae: 2.4549\n",
            "Epoch 7/10\n",
            "819/819 [==============================] - 42s 51ms/step - loss: 8.1284 - mae: 2.2263 - val_loss: 10.2101 - val_mae: 2.4690\n",
            "Epoch 8/10\n",
            "819/819 [==============================] - 44s 53ms/step - loss: 7.9509 - mae: 2.2016 - val_loss: 10.4502 - val_mae: 2.4986\n",
            "Epoch 9/10\n",
            "819/819 [==============================] - 43s 53ms/step - loss: 7.7336 - mae: 2.1712 - val_loss: 10.7133 - val_mae: 2.5295\n",
            "Epoch 10/10\n",
            "819/819 [==============================] - 44s 53ms/step - loss: 7.5677 - mae: 2.1492 - val_loss: 11.2858 - val_mae: 2.5873\n"
          ]
        }
      ],
      "source": [
        "callbacks = [\n",
        "    tf.keras.callbacks.ModelCheckpoint(\n",
        "        base_dir / \"jena_lstm.keras\",\n",
        "        save_best_only=True\n",
        "    )\n",
        "]\n",
        "model.compile(optimizer=\"rmsprop\", loss=\"mse\", metrics=[\"mae\"])\n",
        "history = model.fit(\n",
        "    train_dataset,\n",
        "    epochs=10,\n",
        "    validation_data=val_dataset,\n",
        "    callbacks=callbacks\n",
        ")"
      ]
    },
    {
      "cell_type": "code",
      "execution_count": null,
      "metadata": {
        "colab": {
          "base_uri": "https://localhost:8080/",
          "height": 281
        },
        "id": "DvNUbZtZe_hs",
        "outputId": "e9f5ab9b-271e-49e0-970a-37d05d8e015f"
      },
      "outputs": [
        {
          "output_type": "display_data",
          "data": {
            "text/plain": [
              "<Figure size 432x288 with 1 Axes>"
            ],
            "image/png": "[encoded data removed]"
          },
          "metadata": {
            "needs_background": "light"
          }
        }
      ],
      "source": [
        "plot_history(history)"
      ]
    },
    {
      "cell_type": "code",
      "execution_count": null,
      "metadata": {
        "colab": {
          "base_uri": "https://localhost:8080/"
        },
        "id": "1VmA8P3Ge_hs",
        "outputId": "308f8997-3652-49d7-dbaf-353a02c3a6fc"
      },
      "outputs": [
        {
          "output_type": "stream",
          "name": "stdout",
          "text": [
            "405/405 [==============================] - 15s 35ms/step - loss: 10.4833 - mae: 2.5377\n",
            "Test MAE: 2.54\n"
          ]
        }
      ],
      "source": [
        "model = tf.keras.models.load_model(base_dir / \"jena_lstm.keras\")\n",
        "print(f\"Test MAE: {model.evaluate(test_dataset)[1]:.2f}\")"
      ]
    },
    {
      "cell_type": "markdown",
      "metadata": {
        "id": "RCqmQTkKe_ht"
      },
      "source": [
        "---\n",
        "\n",
        "## 10.3 Understanding recurrent neural networks"
      ]
    },
    {
      "cell_type": "markdown",
      "metadata": {
        "id": "rQ45a_MVe_ht"
      },
      "source": [
        "The dense, fully connected layers and the convnet layers have no memory.\n",
        "\n",
        "These feedforward networks process each input in turn with no information transfer.\n",
        "\n",
        "A recurrent neural network (RNN) retains information of past inputs."
      ]
    },
    {
      "cell_type": "markdown",
      "metadata": {
        "id": "EznHuU5we_ht"
      },
      "source": [
        "<!-- ![RNN unrolled](images/rnn/RNN-unrolled.png) -->\n",
        "\n",
        "![RNN unrolled](https://drive.google.com/uc?id=1PquEvBt7rHv7I3XJxHTI8uV9YxvBa-B0)\n",
        "\n",
        "<small>[Olah, \"Understanding LSTM Networks\"](https://colah.github.io/posts/2015-08-Understanding-LSTMs/)</small>"
      ]
    },
    {
      "cell_type": "markdown",
      "metadata": {
        "id": "U-ly7h4Te_hu"
      },
      "source": [
        "The RNN has a **feedback loop**.\n",
        "\n",
        "The activation (layer output) $a(t - 1)$ at time $t - 1$ is fed back to the input where it joins the sequence term $x(t)$, at time $t$.\n",
        "\n",
        "DLWP: the previous activation is called the **state** of the unit."
      ]
    },
    {
      "cell_type": "markdown",
      "metadata": {
        "id": "1z3wTGrSe_hu"
      },
      "source": [
        "The previous activation is weighted and the network learns correlations with earlier inputs by adjusting these weights, in the usual manner.\n",
        "\n",
        "Here, we imagine that sequence terms $x(1), x(2), x(3), \\ldots$ etc. occur at successive times, even if the sequence is not chronological.\n",
        "\n",
        "For example, successive words $x(1), x(2), x(3), \\ldots$ of a single movie review."
      ]
    },
    {
      "cell_type": "markdown",
      "metadata": {
        "id": "puPp--oce_hu"
      },
      "source": [
        "The state is reset before a new sequence (new movie review) is processed.\n",
        "\n",
        "Previously, in a feed forward networks, the entire sequence (review) was treated as a single input vector."
      ]
    },
    {
      "cell_type": "markdown",
      "metadata": {
        "id": "TVc96xnGe_hv"
      },
      "source": [
        "##### The simple recurrent layer\n",
        "\n",
        "There are two inputs: the current input, $x(t)$, and the previous activation, $a(t - 1)$.\n",
        "\n",
        "The activation from the RNN layer is:\n",
        "\n",
        "$$\n",
        "\\bbox[5px,border:2px solid red]\n",
        "{\n",
        "a(t) = f(W \\cdot x(t) + U \\cdot a(t - 1) + b)\n",
        "}\n",
        "$$\n",
        "\n",
        "U is an $M \\times M$ matrix – a tensor with shape `(output_features, output_features)`.\n"
      ]
    },
    {
      "cell_type": "markdown",
      "metadata": {
        "id": "WfXt1kB5e_hv"
      },
      "source": [
        "The previous activation, $a(t - 1)$, can have more or less effect on the current activation.\n",
        "\n",
        "The influence of the previous activation and input is controlled by the weights."
      ]
    },
    {
      "cell_type": "markdown",
      "metadata": {
        "id": "_Wqsv-q5e_hw"
      },
      "source": [
        "The recursion\n",
        "\n",
        "$\n",
        "\\begin{align*}\n",
        "a(t) &= f(x(t), \\color{green}{a(t-1)}) \\\\\n",
        "     &= f(x(t), f( x(t - 1),  \\color{blue}{a(t-2)}) ) \\\\\n",
        "     &= f( x(t),   f( x(t - 1),   f(x(t-2), \\color{red}{a(t-3)}) ) ) \\\\ \n",
        "     &= \\ldots\n",
        "\\end{align*}\n",
        "$\n",
        "\n",
        "In principle, all previous activations, even those reaching back into the distant past, can influence the present."
      ]
    },
    {
      "cell_type": "markdown",
      "metadata": {
        "id": "d7602a7Ye_hw"
      },
      "source": [
        "The simple RNN layer in pseudocode is\n",
        "\n",
        "```python\n",
        "prev_output = 0\n",
        "for input_t in input_sequence:\n",
        "    output_t = activation(dot(W, input_t) + dot(U, prev_output) + b)\n",
        "    prev_output = output_t\n",
        "```"
      ]
    },
    {
      "cell_type": "markdown",
      "metadata": {
        "id": "LBmFabfhe_hw"
      },
      "source": [
        "Learnable parameters:\n",
        "\n",
        "\n",
        "\\begin{align*}\n",
        "RNNparams &= current + bias + previous\\\\\n",
        " &= (M \\times N + M) + (M \\times M)\\\\\n",
        " &= (M \\times N) + (M \\times M) + M\\\\ \n",
        " &= \\bbox[5px,border:2px solid red]{(N + M + 1) \\times M}\\\\\n",
        "\\end{align*}\n",
        "\n",
        "\n",
        "$N$: input features weights  \n",
        "$M$: previous output = number of units\n",
        "\n",
        "Each neuron has $N$ weights for the $N$ input features, $M$ weights for the previous output, and a bias, so $(N + M + 1)$ parameters, but there are $M$ units!"
      ]
    },
    {
      "cell_type": "code",
      "execution_count": null,
      "metadata": {
        "colab": {
          "base_uri": "https://localhost:8080/"
        },
        "id": "XxaiWr0Ne_hx",
        "outputId": "74680d3d-9d10-40e9-9619-e429c19bb3d9"
      },
      "outputs": [
        {
          "output_type": "stream",
          "name": "stdout",
          "text": [
            "Model: \"model_1\"\n",
            "_________________________________________________________________\n",
            " Layer (type)                Output Shape              Param #   \n",
            "=================================================================\n",
            " input_2 (InputLayer)        [(None, 120, 32)]         0         \n",
            "                                                                 \n",
            " simple_rnn (SimpleRNN)      (None, 16)                784       \n",
            "                                                                 \n",
            "=================================================================\n",
            "Total params: 784\n",
            "Trainable params: 784\n",
            "Non-trainable params: 0\n",
            "_________________________________________________________________\n",
            "\n",
            "Number of learnable RNN params, (N + M + 1) * M:   784\n",
            "Note: it's the same same as (M * N + M) + (M * M): 784\n"
          ]
        }
      ],
      "source": [
        "steps = 120\n",
        "num_features = 32\n",
        "num_units = 16\n",
        "inputs = tf.keras.Input(shape=(steps, num_features))\n",
        "                            # the default\n",
        "outputs = tf.keras.layers.SimpleRNN(num_units, return_sequences=False)(inputs)\n",
        "model = tf.keras.Model(inputs,outputs)\n",
        "model.summary()\n",
        "\n",
        "print()\n",
        "print(f\"Number of learnable RNN params, (N + M + 1) * M:   {(num_features + num_units  + 1) * num_units}\")\n",
        "print(f\"Note: it's the same same as (M * N + M) + (M * M): {(num_units * num_features + num_units) + (num_units * num_units)}\")"
      ]
    },
    {
      "cell_type": "markdown",
      "metadata": {
        "id": "xYLbRxmze_hy"
      },
      "source": [
        "The LSTM follows the same logic, but with *four* internal matrices:\n",
        "\n",
        "\n",
        "$$\n",
        "LSTMparams = \\bbox[5px,border:2px solid red]{((N + M + 1) \\times M) \\times 4}\n",
        "$$ \n",
        "\n",
        "$N$: input features weights  \n",
        "$M$: previous output = number of units"
      ]
    },
    {
      "cell_type": "code",
      "execution_count": null,
      "metadata": {
        "colab": {
          "base_uri": "https://localhost:8080/"
        },
        "id": "vvMbtw9xe_hy",
        "outputId": "2b934d5b-a90d-4d2d-eadd-cdc7b8c3040a"
      },
      "outputs": [
        {
          "output_type": "stream",
          "name": "stdout",
          "text": [
            "Model: \"model_2\"\n",
            "_________________________________________________________________\n",
            " Layer (type)                Output Shape              Param #   \n",
            "=================================================================\n",
            " input_3 (InputLayer)        [(None, 120, 16)]         0         \n",
            "                                                                 \n",
            " lstm_1 (LSTM)               (None, 8)                 800       \n",
            "                                                                 \n",
            "=================================================================\n",
            "Total params: 800\n",
            "Trainable params: 800\n",
            "Non-trainable params: 0\n",
            "_________________________________________________________________\n",
            "\n",
            "Number of learnable LSTM params: 800\n"
          ]
        }
      ],
      "source": [
        "steps = 120\n",
        "num_features = 16\n",
        "num_units = 8\n",
        "inputs = tf.keras.Input(shape=(steps, num_features))\n",
        "                            # the default\n",
        "outputs = tf.keras.layers.LSTM(num_units, return_sequences=False)(inputs)\n",
        "model = tf.keras.Model(inputs,outputs)\n",
        "model.summary()\n",
        "\n",
        "print()\n",
        "print(f\"Number of learnable LSTM params: { ((num_features + num_units + 1) * num_units) * 4}\")"
      ]
    },
    {
      "cell_type": "markdown",
      "metadata": {
        "id": "YmLWBNL4e_hy"
      },
      "source": [
        "### RNN\n",
        "\n",
        "'Vanilla' recurrent nets\n",
        "\n",
        "<!-- ![RNN](images/rnn/dprogrammer.RNN.png)\n",
        " -->\n",
        " \n",
        "![RNN](https://drive.google.com/uc?id=1D_fyVV0cw7K3AXTwFKhBCSp44q6wzjqh)\n",
        "\n",
        "<small>[\"RNN, LSTM & GRU\", dprogrammer.org](http://dprogrammer.org/rnn-lstm-gru)</small>"
      ]
    },
    {
      "cell_type": "markdown",
      "metadata": {
        "id": "vVyr9Q1le_hz"
      },
      "source": [
        "$x_t$ : input vector ($m \\times 1$).  \n",
        "$h_t$ : hidden layer vector ($n\\times 1$).  \n",
        "$o_t$ : output vector ($n\\times1$).  \n",
        "$b_h$ : bias vector ($n\\times1$).  \n",
        "$U,W$ : parameter matrices ($n\\times m$).  \n",
        "$V$ : parameter matrix ($n\\times n$).  \n",
        "$\\sigma_h$, $\\sigma_y$ : activation functions.  \n",
        "\n",
        "$$\n",
        "\\bbox[5px,border:2px solid red]\n",
        "{\n",
        "\\begin{align*}\n",
        "h_t = \\sigma_h(i_t) &= \\sigma_h(U_hx_t+V_hh_{t-1}+b_h)  \\\\\n",
        "y_t = \\sigma_y(a_t) &= \\sigma_y(W_yh_t+b_h) \n",
        "\\end{align*}\n",
        "}\n",
        "$$\n",
        "\n",
        "<small>[\"RNN, LSTM & GRU\", dprogrammer.org](http://dprogrammer.org/rnn-lstm-gru)</small>"
      ]
    },
    {
      "cell_type": "markdown",
      "metadata": {
        "id": "eQO7CcS7e_hz"
      },
      "source": [
        "### LSTM\n",
        "\n",
        "Fully-fledged recurrent nets\n",
        "\n",
        "<!-- ![LSTM](images/rnn/dprogrammer.LSTM.png) -->\n",
        " \n",
        "![LSTM](https://drive.google.com/uc?id=1GauSM-CxE0ERo_C2-EAl180MVHslATpu)\n",
        "\n",
        "<small>[\"RNN, LSTM & GRU\", dprogrammer.org](http://dprogrammer.org/rnn-lstm-gru)</small>\n",
        "\n",
        "More details in [this notebook](https://drive.google.com/file/d/1CFAld26ZxzR2k74FxIPrW0830o5Amv2A/view?usp=share_link)."
      ]
    },
    {
      "cell_type": "markdown",
      "metadata": {
        "id": "PCkx6UJUe_h0"
      },
      "source": [
        "LSTM's have a **memory** – a mechanism that carries information forward in time, like a conveyor belt.\n",
        "\n",
        "The conveyor belt sidesteps the vanishing gradients problem.\n",
        "\n",
        "But the LSTM is quite a complicated beast."
      ]
    },
    {
      "cell_type": "markdown",
      "metadata": {
        "id": "vpG4sPSse_h1"
      },
      "source": [
        "#### Gates\n",
        "\n",
        "Suppose we wish to turn an RNN off or on.\n",
        "\n",
        "Simple! Multiply by a binary switch: \n",
        "\n",
        "$\\delta \\times k(t)$ where $\\delta$ takes values $0, 1$ and $k(t)$ is the activation of a simple RNN."
      ]
    },
    {
      "cell_type": "markdown",
      "metadata": {
        "id": "YjerLQuZe_h1"
      },
      "source": [
        "The switch should have its own trainable parameters so that it can learn to be on/off for different inputs.\n",
        "\n",
        "Backpropagation requires differentiability."
      ]
    },
    {
      "cell_type": "markdown",
      "metadata": {
        "id": "4ttQawcne_h1"
      },
      "source": [
        "So the switch has to be a continuous function – it can't just instantaneously jump from 0 to 1.\n",
        "\n",
        "This is a gate – gates (unlike switches) can be half closed or quarter closed etc. – and degrees of closure might be advantageous."
      ]
    },
    {
      "cell_type": "markdown",
      "metadata": {
        "id": "Dg8KwgR7e_h2"
      },
      "source": [
        "The sigmoid function takes values in $[0, 1]$ with a smooth changeover for arguments around $0$.\n",
        "\n",
        "Gated RNN:\n",
        "\n",
        "$$\n",
        "\\bbox[5px,border:2px solid red]\n",
        "{\n",
        "\\sigma(z) \\times k(t)\n",
        "}\n",
        "$$\n",
        "\n",
        "\n",
        "But what is $z$?"
      ]
    },
    {
      "cell_type": "markdown",
      "metadata": {
        "id": "Pcibfgcie_h2"
      },
      "source": [
        "We might want (because we are processing sequences) the state of the gate – on, off or in between – to depend on the current input and past activations:\n",
        "\n",
        "$$\n",
        "\\bbox[5px,border:2px solid red]\n",
        "{\n",
        "z = W \\cdot x(t) + U \\cdot a(t – 1) + b\n",
        "}\n",
        "$$\n",
        "\n",
        "Our recurrently gated RNN is: \n",
        "\n",
        "$$\n",
        "\\bbox[5px,border:2px solid red]\n",
        "{\n",
        "\\sigma(W \\cdot x(t) + U \\cdot a(t-1) + b) \\times k(t)\n",
        "}\n",
        "$$ "
      ]
    },
    {
      "cell_type": "markdown",
      "metadata": {
        "id": "Cn-y62VYe_h3"
      },
      "source": [
        "##### Parameters\n",
        "\n",
        "All gates and simple RNN layers have their own parameters $(W, U, b)$.\n",
        "\n",
        "There are four $(W, U, b)$ units – 3 gates and the simple RNN, $k$.\n",
        "\n",
        "Each set of $(W, U, b)$ units has $M \\times (M + N + 1)$ trainable parameters.\n",
        "\n",
        "Hence an LTSM layer has $4M(M + N + 1)$ trainable parameters."
      ]
    },
    {
      "cell_type": "markdown",
      "metadata": {
        "id": "-1DdkWQde_h3"
      },
      "source": [
        "### GRU\n",
        "\n",
        "'Optimised' recurrent nets\n",
        "\n",
        "<!-- ![GRU](images/rnn/dprogrammer.GRU.png) -->\n",
        " \n",
        "![LSTM](https://drive.google.com/uc?id=1WzjBl76pPiFkZBmnNiEd_34aqs-ldqV0)\n",
        "\n",
        "<small>[\"RNN, LSTM & GRU\", dprogrammer.org](http://dprogrammer.org/rnn-lstm-gru)</small>\n",
        "\n",
        "More details in [this notebook](https://drive.google.com/file/d/1CFAld26ZxzR2k74FxIPrW0830o5Amv2A/view?usp=share_link)."
      ]
    },
    {
      "cell_type": "markdown",
      "source": [
        "#### Blog posts\n",
        "\n",
        "[Olah, \"Understanding LSTM Networks\"](https://colah.github.io/posts/2015-08-Understanding-LSTMs/)  \n",
        "[Madsen, \"Visualizing memorization in RNNs\", Distill](https://distill.pub/2019/memorization-in-rnns/)  \n",
        "[Wikipedia](https://en.wikipedia.org/wiki/Long_short-term_memory)"
      ],
      "metadata": {
        "id": "tv_scjEVwGBc"
      }
    },
    {
      "cell_type": "markdown",
      "metadata": {
        "id": "XOYGULfKe_h4"
      },
      "source": [
        "---\n",
        "\n",
        "### References\n",
        "\n",
        "More details in [this notebook](https://drive.google.com/file/d/1CFAld26ZxzR2k74FxIPrW0830o5Amv2A/view?usp=share_link).\n",
        "\n",
        "An [in-depth survey from CS230, Stanford University](https://stanford.edu/~shervine/teaching/cs-230/cheatsheet-recurrent-neural-networks)\n",
        "\n",
        "\n",
        "#### RNNs\n",
        "[Rumelhart, David E; Hinton, Geoffrey E, and Williams, Ronald J (Sept. 1985), \"Learning internal representations by error propagation\"](https://apps.dtic.mil/dtic/tr/fulltext/u2/a164453.pdf)  \n",
        "[Jordan, Michael I. (May 1986), \"Serial order: a parallel distributed processing approach\"](https://www.osti.gov/biblio/6910294)\n",
        "\n",
        "#### LSTMs\n",
        "[Sepp Hochreiter, Jürgen Schmidhuber, \"Long Short-Term Memory\"](https://arxiv.org/abs/2105.06756)\n",
        "\n",
        "#### GRUs\n",
        "[Kyunghyun Cho, Bart van Merrienboer, Dzmitry Bahdanau, Yoshua Bengio, \"On the Properties of Neural Machine Translation: Encoder-Decoder Approaches\"](https://arxiv.org/abs/1409.1259)  \n",
        "[Ralf C. Staudemeyer, Eric Rothstein Morris, \"Understanding LSTM -- a tutorial into Long Short-Term Memory Recurrent Neural Networks\", arXiv](https://arxiv.org/abs/1909.09586)  "
      ]
    },
    {
      "cell_type": "code",
      "execution_count": null,
      "metadata": {
        "colab": {
          "base_uri": "https://localhost:8080/",
          "height": 502
        },
        "id": "kqnyp674e_h4",
        "outputId": "b4bdf74b-08b7-48ab-d748-7632511e9739"
      },
      "outputs": [
        {
          "output_type": "execute_result",
          "data": {
            "text/plain": [
              "<IPython.lib.display.YouTubeVideo at 0x7f9ade6e8790>"
            ],
            "text/html": [
              "\n",
              "        <iframe\n",
              "            width=\"853\"\n",
              "            height=\"480\"\n",
              "            src=\"https://www.youtube.com/embed/qjrad0V0uJE\"\n",
              "            frameborder=\"0\"\n",
              "            allowfullscreen\n",
              "        ></iframe>\n",
              "        "
            ],
            "image/jpeg": "[encoded data removed]"
          },
          "metadata": {},
          "execution_count": 33
        }
      ],
      "source": [
        "YouTubeVideo('qjrad0V0uJE', width=853, height=480) #  MIT 6.S191 (2021): Recurrent Neural Networks "
      ]
    },
    {
      "cell_type": "markdown",
      "metadata": {
        "id": "Ag_Jt9E6e_h5"
      },
      "source": [
        "#### NumPy implementation of a simple RNN"
      ]
    },
    {
      "cell_type": "code",
      "execution_count": null,
      "metadata": {
        "id": "O0VUGKKde_h5"
      },
      "outputs": [],
      "source": [
        "timesteps = 100\n",
        "input_features = 32\n",
        "output_features = 64\n",
        "inputs = np.random.random((timesteps, input_features))\n",
        "state_t = np.zeros((output_features,))\n",
        "W = np.random.random((output_features, input_features))\n",
        "U = np.random.random((output_features, output_features))\n",
        "b = np.random.random((output_features,))\n",
        "successive_outputs = []\n",
        "for input_t in inputs:\n",
        "    output_t = np.tanh(np.dot(W, input_t) + np.dot(U, state_t) + b)\n",
        "    successive_outputs.append(output_t)\n",
        "    state_t = output_t\n",
        "final_output_sequence = np.stack(successive_outputs, axis=0)"
      ]
    },
    {
      "cell_type": "markdown",
      "metadata": {
        "id": "C1mE4BEEe_h5"
      },
      "source": [
        "### 10.3.1 A recurrent layer in Keras"
      ]
    },
    {
      "cell_type": "markdown",
      "metadata": {
        "id": "C06IC_Soe_h6"
      },
      "source": [
        "#### An RNN layer that can process sequences of any length"
      ]
    },
    {
      "cell_type": "markdown",
      "metadata": {
        "id": "h7rH1O0ne_h6"
      },
      "source": [
        "#### An RNN layer that returns only its last output step"
      ]
    },
    {
      "cell_type": "code",
      "execution_count": null,
      "metadata": {
        "colab": {
          "base_uri": "https://localhost:8080/"
        },
        "id": "kGg0cTv7e_h6",
        "outputId": "edd57806-9d10-4b9f-f162-7dd275823623"
      },
      "outputs": [
        {
          "output_type": "stream",
          "name": "stdout",
          "text": [
            "(None, 16)\n"
          ]
        }
      ],
      "source": [
        "num_features = 14\n",
        "steps = 120\n",
        "inputs = tf.keras.Input(shape=(steps, num_features))\n",
        "                            # the default\n",
        "outputs = tf.keras.layers.SimpleRNN(16, return_sequences=False)(inputs)\n",
        "print(outputs.shape)"
      ]
    },
    {
      "cell_type": "markdown",
      "metadata": {
        "id": "3aEu_ei6e_h7"
      },
      "source": [
        "By default RNN layers only return the **last state**.\n",
        "\n",
        "If you wish to stack layers of those, all intermediate layers should return their full sequence of outputs.\n",
        "\n",
        "For that, specify:\n",
        "\n",
        "```python\n",
        "return_sequences=True\n",
        "```"
      ]
    },
    {
      "cell_type": "markdown",
      "metadata": {
        "id": "DDo3oQkce_h7"
      },
      "source": [
        "#### An RNN layer that returns its full output sequence"
      ]
    },
    {
      "cell_type": "code",
      "execution_count": null,
      "metadata": {
        "colab": {
          "base_uri": "https://localhost:8080/"
        },
        "id": "imkI7DGse_h8",
        "outputId": "4d924b14-f0f4-4195-be90-d48feb7e19d0"
      },
      "outputs": [
        {
          "output_type": "stream",
          "name": "stdout",
          "text": [
            "(None, 120, 16)\n"
          ]
        }
      ],
      "source": [
        "num_features = 14\n",
        "steps = 120\n",
        "inputs = tf.keras.Input(shape=(steps, num_features))\n",
        "outputs = tf.keras.layers.SimpleRNN(16, return_sequences=True)(inputs)\n",
        "print(outputs.shape)"
      ]
    },
    {
      "cell_type": "markdown",
      "metadata": {
        "id": "GNp2dgsfe_h8"
      },
      "source": [
        "#### Stacking RNN layers"
      ]
    },
    {
      "cell_type": "code",
      "execution_count": null,
      "metadata": {
        "id": "54ME7ifAe_h9"
      },
      "outputs": [],
      "source": [
        "inputs = tf.keras.Input(shape=(steps, num_features))\n",
        "x = tf.keras.layers.SimpleRNN(16, return_sequences=True)(inputs)\n",
        "x = tf.keras.layers.SimpleRNN(16, return_sequences=True)(x)\n",
        "outputs = tf.keras.layers.SimpleRNN(16)(x)"
      ]
    },
    {
      "cell_type": "markdown",
      "metadata": {
        "id": "FgvZl1Ufe_h9"
      },
      "source": [
        "The simple RNN suffers from the **vanishing gradients problem**.\n",
        "\n",
        "Long term dependencies stretching back in time are almost impossible to learn – the backpropagated signal progressively weakens."
      ]
    },
    {
      "cell_type": "markdown",
      "metadata": {
        "id": "vQ6grBl6e_h-"
      },
      "source": [
        "---\n",
        "\n",
        "## 10.4 Advanced use of recurrent neural networks"
      ]
    },
    {
      "cell_type": "markdown",
      "metadata": {
        "id": "EoZ1CBZre_h-"
      },
      "source": [
        "### 10.4.1 Using recurrent dropout to fight overfitting\n",
        "\n",
        "> \"\\[T\\]he proper way to use dropout with a\n",
        "recurrent network: the same dropout mask (the same pattern of dropped units) should be applied at every timestep, instead of using a dropout mask that varies randomly from timestep to timestep.\" (DLWP, p.301)\n",
        "\n",
        "Implemented in Keras recurrent layers:\n",
        "\n",
        "```python\n",
        "recurrent_dropout=0.25\n",
        "```"
      ]
    },
    {
      "cell_type": "markdown",
      "metadata": {
        "id": "tyELuV6fe_h-"
      },
      "source": [
        "#### Training and evaluating a dropout-regularized LSTM"
      ]
    },
    {
      "cell_type": "code",
      "execution_count": 16,
      "metadata": {
        "colab": {
          "base_uri": "https://localhost:8080/"
        },
        "id": "6wCMEgoRe_h_",
        "outputId": "703b4dad-0caf-4af7-aa5d-f4ee34ba8b31"
      },
      "outputs": [
        {
          "output_type": "stream",
          "name": "stderr",
          "text": [
            "WARNING:tensorflow:Layer lstm will not use cuDNN kernels since it doesn't meet the criteria. It will use a generic GPU kernel as fallback when running on GPU.\n"
          ]
        }
      ],
      "source": [
        "tf.keras.backend.clear_session()\n",
        "\n",
        "inputs = tf.keras.Input(shape=(sequence_length, raw_data.shape[-1]))\n",
        "x = tf.keras.layers.LSTM(32, recurrent_dropout=0.25)(inputs) # recurrent dropout is not supported by cuDNN kernels\n",
        "x = tf.keras.layers.Dropout(0.5)(x)\n",
        "outputs = tf.keras.layers.Dense(1)(x)\n",
        "model = tf.keras.Model(inputs, outputs)"
      ]
    },
    {
      "cell_type": "code",
      "execution_count": 17,
      "metadata": {
        "id": "u07zgufhe_h_",
        "colab": {
          "base_uri": "https://localhost:8080/"
        },
        "outputId": "06450fd1-74f4-4a10-8683-11ec8e1fa313"
      },
      "outputs": [
        {
          "output_type": "stream",
          "name": "stdout",
          "text": [
            "Epoch 1/50\n",
            "819/819 [==============================] - 330s 401ms/step - loss: 28.5333 - mae: 3.9382 - val_loss: 9.8841 - val_mae: 2.4535\n",
            "Epoch 2/50\n",
            "819/819 [==============================] - 328s 401ms/step - loss: 14.8521 - mae: 2.9950 - val_loss: 9.1880 - val_mae: 2.3559\n",
            "Epoch 3/50\n",
            "819/819 [==============================] - 328s 400ms/step - loss: 13.8338 - mae: 2.8893 - val_loss: 9.1041 - val_mae: 2.3508\n",
            "Epoch 4/50\n",
            "819/819 [==============================] - 327s 399ms/step - loss: 13.1514 - mae: 2.8188 - val_loss: 8.9290 - val_mae: 2.3154\n",
            "Epoch 5/50\n",
            "819/819 [==============================] - 326s 398ms/step - loss: 12.6827 - mae: 2.7631 - val_loss: 9.2009 - val_mae: 2.3598\n",
            "Epoch 6/50\n",
            "819/819 [==============================] - 340s 416ms/step - loss: 12.3126 - mae: 2.7215 - val_loss: 9.3532 - val_mae: 2.3623\n",
            "Epoch 7/50\n",
            "819/819 [==============================] - 328s 400ms/step - loss: 11.8746 - mae: 2.6778 - val_loss: 9.2519 - val_mae: 2.3557\n",
            "Epoch 8/50\n",
            "819/819 [==============================] - 326s 398ms/step - loss: 11.5984 - mae: 2.6421 - val_loss: 9.6447 - val_mae: 2.4077\n",
            "Epoch 9/50\n",
            "819/819 [==============================] - 330s 402ms/step - loss: 11.3332 - mae: 2.6135 - val_loss: 9.5738 - val_mae: 2.3940\n",
            "Epoch 10/50\n",
            "819/819 [==============================] - 327s 399ms/step - loss: 11.0792 - mae: 2.5846 - val_loss: 9.6115 - val_mae: 2.3965\n",
            "Epoch 11/50\n",
            "819/819 [==============================] - 328s 400ms/step - loss: 10.9323 - mae: 2.5666 - val_loss: 9.6668 - val_mae: 2.4070\n",
            "Epoch 12/50\n",
            "819/819 [==============================] - 326s 398ms/step - loss: 10.7629 - mae: 2.5485 - val_loss: 10.1112 - val_mae: 2.4537\n",
            "Epoch 13/50\n",
            "819/819 [==============================] - 326s 398ms/step - loss: 10.5583 - mae: 2.5237 - val_loss: 10.3624 - val_mae: 2.4919\n",
            "Epoch 14/50\n",
            "819/819 [==============================] - 325s 397ms/step - loss: 10.5274 - mae: 2.5173 - val_loss: 9.7814 - val_mae: 2.4258\n",
            "Epoch 15/50\n",
            "819/819 [==============================] - 324s 395ms/step - loss: 10.2883 - mae: 2.4900 - val_loss: 10.0078 - val_mae: 2.4540\n",
            "Epoch 16/50\n",
            "819/819 [==============================] - 325s 396ms/step - loss: 10.1640 - mae: 2.4726 - val_loss: 10.4574 - val_mae: 2.5019\n",
            "Epoch 17/50\n",
            "819/819 [==============================] - 325s 397ms/step - loss: 10.0114 - mae: 2.4550 - val_loss: 10.2593 - val_mae: 2.4879\n",
            "Epoch 18/50\n",
            "819/819 [==============================] - 327s 399ms/step - loss: 9.9130 - mae: 2.4444 - val_loss: 10.4015 - val_mae: 2.4958\n",
            "Epoch 19/50\n",
            "819/819 [==============================] - 324s 395ms/step - loss: 9.8215 - mae: 2.4340 - val_loss: 10.3316 - val_mae: 2.4990\n",
            "Epoch 20/50\n",
            "819/819 [==============================] - 324s 395ms/step - loss: 9.7660 - mae: 2.4235 - val_loss: 10.5975 - val_mae: 2.5278\n",
            "Epoch 21/50\n",
            "819/819 [==============================] - 326s 398ms/step - loss: 9.6669 - mae: 2.4172 - val_loss: 10.5218 - val_mae: 2.5249\n",
            "Epoch 22/50\n",
            "819/819 [==============================] - 326s 398ms/step - loss: 9.5575 - mae: 2.3978 - val_loss: 10.5561 - val_mae: 2.5265\n",
            "Epoch 23/50\n",
            "819/819 [==============================] - 328s 400ms/step - loss: 9.5312 - mae: 2.3933 - val_loss: 11.2173 - val_mae: 2.6011\n",
            "Epoch 24/50\n",
            "819/819 [==============================] - 325s 397ms/step - loss: 9.4168 - mae: 2.3800 - val_loss: 11.1295 - val_mae: 2.6006\n",
            "Epoch 25/50\n",
            "819/819 [==============================] - 327s 399ms/step - loss: 9.3734 - mae: 2.3727 - val_loss: 10.9517 - val_mae: 2.5669\n",
            "Epoch 26/50\n",
            "819/819 [==============================] - 327s 399ms/step - loss: 9.3579 - mae: 2.3700 - val_loss: 11.3780 - val_mae: 2.6257\n",
            "Epoch 27/50\n",
            "819/819 [==============================] - 329s 401ms/step - loss: 9.3297 - mae: 2.3644 - val_loss: 11.1485 - val_mae: 2.6019\n",
            "Epoch 28/50\n",
            "819/819 [==============================] - 327s 399ms/step - loss: 9.1707 - mae: 2.3484 - val_loss: 11.0403 - val_mae: 2.5911\n",
            "Epoch 29/50\n",
            "819/819 [==============================] - 327s 399ms/step - loss: 9.1611 - mae: 2.3464 - val_loss: 11.0414 - val_mae: 2.5950\n",
            "Epoch 30/50\n",
            "819/819 [==============================] - 330s 403ms/step - loss: 9.1363 - mae: 2.3409 - val_loss: 11.1916 - val_mae: 2.6002\n",
            "Epoch 31/50\n",
            "819/819 [==============================] - 328s 400ms/step - loss: 9.0885 - mae: 2.3367 - val_loss: 11.5134 - val_mae: 2.6484\n",
            "Epoch 32/50\n",
            "819/819 [==============================] - 330s 402ms/step - loss: 9.0402 - mae: 2.3257 - val_loss: 11.2099 - val_mae: 2.6059\n",
            "Epoch 33/50\n",
            "819/819 [==============================] - 324s 395ms/step - loss: 9.0121 - mae: 2.3254 - val_loss: 11.2915 - val_mae: 2.6184\n",
            "Epoch 34/50\n",
            "819/819 [==============================] - 326s 398ms/step - loss: 8.9851 - mae: 2.3209 - val_loss: 11.6650 - val_mae: 2.6680\n",
            "Epoch 35/50\n",
            "819/819 [==============================] - 326s 398ms/step - loss: 8.9770 - mae: 2.3219 - val_loss: 12.0234 - val_mae: 2.7028\n",
            "Epoch 36/50\n",
            "819/819 [==============================] - 325s 397ms/step - loss: 8.8721 - mae: 2.3074 - val_loss: 11.5936 - val_mae: 2.6612\n",
            "Epoch 37/50\n",
            "819/819 [==============================] - 326s 398ms/step - loss: 8.8621 - mae: 2.3034 - val_loss: 11.7118 - val_mae: 2.6665\n",
            "Epoch 38/50\n",
            "819/819 [==============================] - 325s 397ms/step - loss: 8.8128 - mae: 2.2976 - val_loss: 11.9470 - val_mae: 2.6928\n",
            "Epoch 39/50\n",
            "819/819 [==============================] - 325s 396ms/step - loss: 8.8319 - mae: 2.2993 - val_loss: 12.1949 - val_mae: 2.7210\n",
            "Epoch 40/50\n",
            "819/819 [==============================] - 326s 398ms/step - loss: 8.7857 - mae: 2.2917 - val_loss: 12.0607 - val_mae: 2.7088\n",
            "Epoch 41/50\n",
            "819/819 [==============================] - 327s 399ms/step - loss: 8.7863 - mae: 2.2942 - val_loss: 11.8157 - val_mae: 2.6825\n",
            "Epoch 42/50\n",
            "819/819 [==============================] - 324s 396ms/step - loss: 8.7191 - mae: 2.2863 - val_loss: 12.2972 - val_mae: 2.7318\n",
            "Epoch 43/50\n",
            "819/819 [==============================] - 326s 397ms/step - loss: 8.7170 - mae: 2.2865 - val_loss: 11.6751 - val_mae: 2.6643\n",
            "Epoch 44/50\n",
            "819/819 [==============================] - 327s 399ms/step - loss: 8.7064 - mae: 2.2822 - val_loss: 12.0522 - val_mae: 2.7069\n",
            "Epoch 45/50\n",
            "819/819 [==============================] - 327s 399ms/step - loss: 8.7017 - mae: 2.2856 - val_loss: 12.3560 - val_mae: 2.7282\n",
            "Epoch 46/50\n",
            "819/819 [==============================] - 325s 397ms/step - loss: 8.6462 - mae: 2.2746 - val_loss: 11.9317 - val_mae: 2.6918\n",
            "Epoch 47/50\n",
            "819/819 [==============================] - 327s 399ms/step - loss: 8.6509 - mae: 2.2764 - val_loss: 11.8955 - val_mae: 2.6929\n",
            "Epoch 48/50\n",
            "819/819 [==============================] - 325s 396ms/step - loss: 8.5867 - mae: 2.2659 - val_loss: 12.7815 - val_mae: 2.7804\n",
            "Epoch 49/50\n",
            "819/819 [==============================] - 324s 395ms/step - loss: 8.5184 - mae: 2.2587 - val_loss: 11.8587 - val_mae: 2.6919\n",
            "Epoch 50/50\n",
            "819/819 [==============================] - 328s 400ms/step - loss: 8.5975 - mae: 2.2673 - val_loss: 12.2194 - val_mae: 2.7275\n"
          ]
        }
      ],
      "source": [
        "callbacks = [\n",
        "    tf.keras.callbacks.ModelCheckpoint(\n",
        "        base_dir / \"jena_lstm_dropout.keras\",\n",
        "        save_best_only=True\n",
        "    )\n",
        "]\n",
        "model.compile(optimizer=\"rmsprop\", loss=\"mse\", metrics=[\"mae\"])\n",
        "history = model.fit(\n",
        "    train_dataset,\n",
        "    epochs=50,\n",
        "    validation_data=val_dataset,\n",
        "    callbacks=callbacks\n",
        ")"
      ]
    },
    {
      "cell_type": "code",
      "execution_count": 20,
      "metadata": {
        "id": "bVLHhkg9e_h_",
        "colab": {
          "base_uri": "https://localhost:8080/",
          "height": 281
        },
        "outputId": "ebc056eb-0256-47ee-97df-69d261284822"
      },
      "outputs": [
        {
          "output_type": "display_data",
          "data": {
            "text/plain": [
              "<Figure size 432x288 with 1 Axes>"
            ],
            "image/png": "[encoded data removed]"
          },
          "metadata": {
            "needs_background": "light"
          }
        }
      ],
      "source": [
        "plot_history(history)"
      ]
    },
    {
      "cell_type": "code",
      "execution_count": 21,
      "metadata": {
        "id": "TTnUEsVJe_iA",
        "colab": {
          "base_uri": "https://localhost:8080/"
        },
        "outputId": "eb94fcd0-741b-4398-b7bb-72a22ba83745"
      },
      "outputs": [
        {
          "output_type": "stream",
          "name": "stderr",
          "text": [
            "WARNING:tensorflow:Layer lstm will not use cuDNN kernels since it doesn't meet the criteria. It will use a generic GPU kernel as fallback when running on GPU.\n"
          ]
        },
        {
          "output_type": "stream",
          "name": "stdout",
          "text": [
            "405/405 [==============================] - 24s 58ms/step - loss: 10.6964 - mae: 2.5786\n",
            "Test MAE: 2.58\n"
          ]
        }
      ],
      "source": [
        "model = tf.keras.models.load_model(base_dir / \"jena_lstm_dropout.keras\")\n",
        "print(f\"Test MAE: {model.evaluate(test_dataset)[1]:.2f}\")"
      ]
    },
    {
      "cell_type": "markdown",
      "metadata": {
        "id": "ENgID9Sde_iA"
      },
      "source": [
        "### RNN runtime performance\n",
        "\n",
        "```python\n",
        "inputs = tf.keras.Input(shape=(sequence_length, num_features))\n",
        "x = tf.keras.layers.LSTM(32, recurrent_dropout=0.2, unroll=True)(inputs)\n",
        "```"
      ]
    },
    {
      "cell_type": "markdown",
      "metadata": {
        "id": "PDfzrpnIe_iA"
      },
      "source": [
        "---\n",
        "\n",
        "### 10.4.2 Stacking recurrent layers"
      ]
    },
    {
      "cell_type": "markdown",
      "metadata": {
        "id": "8pEIZmFde_iB"
      },
      "source": [
        "#### Training and evaluating a dropout-regularized, stacked GRU model"
      ]
    },
    {
      "cell_type": "code",
      "execution_count": null,
      "metadata": {
        "id": "3U6GlzVOe_iB"
      },
      "outputs": [],
      "source": [
        "tf.keras.backend.clear_session()\n",
        "\n",
        "inputs = tf.keras.Input(shape=(sequence_length, raw_data.shape[-1]))\n",
        "                                                 # ↓ we return all inner states\n",
        "x = tf.keras.layers.GRU(32, recurrent_dropout=0.5, return_sequences=True)(inputs)\n",
        "x = tf.keras.layers.GRU(32, recurrent_dropout=0.5)(x)\n",
        "x = tf.keras.layers.Dropout(0.5)(x)\n",
        "outputs = tf.keras.layers.Dense(1)(x)\n",
        "model = tf.keras.Model(inputs, outputs)"
      ]
    },
    {
      "cell_type": "code",
      "execution_count": null,
      "metadata": {
        "id": "QFjtuuXMe_iB"
      },
      "outputs": [],
      "source": [
        "callbacks = [\n",
        "    tf.keras.callbacks.ModelCheckpoint(\n",
        "        base_dir / \"jena_stacked_gru_dropout.keras\",\n",
        "        save_best_only=True\n",
        "    )\n",
        "]\n",
        "model.compile(optimizer=\"rmsprop\", loss=\"mse\", metrics=[\"mae\"])\n",
        "history = model.fit(\n",
        "    train_dataset,\n",
        "    epochs=50,\n",
        "    validation_data=val_dataset,\n",
        "    callbacks=callbacks\n",
        ")"
      ]
    },
    {
      "cell_type": "code",
      "execution_count": null,
      "metadata": {
        "id": "2DT3_qIOe_iC"
      },
      "outputs": [],
      "source": [
        "plot_history(history)"
      ]
    },
    {
      "cell_type": "code",
      "execution_count": null,
      "metadata": {
        "id": "hecocQuKe_iD"
      },
      "outputs": [],
      "source": [
        "model = tf.keras.models.load_model(base_dir / \"jena_stacked_gru_dropout.keras\")\n",
        "print(f\"Test MAE: {model.evaluate(test_dataset)[1]:.2f}\")"
      ]
    },
    {
      "cell_type": "markdown",
      "metadata": {
        "id": "FVin8vuke_iD"
      },
      "source": [
        "---\n",
        "\n",
        "### 10.4.3 Using bidirectional RNNs"
      ]
    },
    {
      "cell_type": "markdown",
      "metadata": {
        "id": "bAUQdM1Ce_iE"
      },
      "source": [
        "RNNs exploit patterns in data that has a definite order (like weather readings).\n",
        "\n",
        "But the reverse of an ordered list is still ordered and might hold pertinent information.\n",
        "\n",
        "##### Experiment\n",
        "\n",
        "Try and train one net on sequential data, then a second net with the same hyperparameters on the same dataset but with the order *reversed*."
      ]
    },
    {
      "cell_type": "markdown",
      "metadata": {
        "id": "yujCroaSe_iE"
      },
      "source": [
        "The chronological-order LSTM also achieved about 88% validation accuracy.\n",
        "\n",
        "Reversed-order processing works just as well as chronological processing on the IMDB task.\n",
        "\n",
        "We hypothesise that word order *does* matter in understanding language but *which* order (forward or back)) isn't critical (on the basis if this single experiment)."
      ]
    },
    {
      "cell_type": "markdown",
      "metadata": {
        "id": "zNijmqtCe_iE"
      },
      "source": [
        "An RNN trained on a reversed sequence will learn different representations than one trained on the original sequence.\n",
        "\n",
        "Representations that are *different* yet *useful* are always worth exploiting.\n",
        "\n",
        "The more they differ the better!"
      ]
    },
    {
      "cell_type": "markdown",
      "metadata": {
        "id": "pE-V0GR1e_iF"
      },
      "source": [
        "Alternative representations can capture aspects of the data that were missed by other approaches.\n",
        "\n",
        "This is the intuition behind 'ensembling' (gathering predictions from several models).\n",
        "\n",
        "A bidirectional RNN exploits this idea."
      ]
    },
    {
      "cell_type": "markdown",
      "metadata": {
        "id": "B7S2CQMVe_iF"
      },
      "source": [
        "A bidirectional RNN is two regular RNNs.\n",
        "\n",
        "One processes chronologically, the other antichronologically.\n",
        "\n",
        "Representations are subsequently merged.\n",
        "\n",
        "A bidirectional RNN is able to catch patterns that may have been overlooked by a single direction RNN."
      ]
    },
    {
      "cell_type": "markdown",
      "metadata": {
        "id": "VMReErghe_iG"
      },
      "source": [
        "<!-- ![bidirectional rnn](images/rnn/chollet.bidirectional.png) -->\n",
        "![bidirectional rnn](https://drive.google.com/uc?id=1WbSMJNPjy2tCgHzXqZDCKuB8cvfjjqU2)\n",
        "\n",
        "<small>DLWP, p.306</small>"
      ]
    },
    {
      "cell_type": "markdown",
      "metadata": {
        "id": "iZbge_18e_iG"
      },
      "source": [
        "#### Training and evaluating a bidirectional LSTM"
      ]
    },
    {
      "cell_type": "code",
      "execution_count": null,
      "metadata": {
        "id": "RzhmRxQHe_iG"
      },
      "outputs": [],
      "source": [
        "inputs = tf.keras.Input(shape=(sequence_length, raw_data.shape[-1]))\n",
        "x = tf.keras.layers.Bidirectional(tf.keras.layers.LSTM(16))(inputs)\n",
        "outputs = tf.keras.layers.Dense(1)(x)\n",
        "model = tf.keras.Model(inputs, outputs)\n",
        "\n",
        "callbacks = [\n",
        "    tf.keras.callbacks.ModelCheckpoint(\n",
        "        base_dir / \"jena_lstm_bidirectional.keras\",\n",
        "        save_best_only=True\n",
        "    )\n",
        "]\n",
        "\n",
        "model.compile(optimizer=\"rmsprop\", loss=\"mse\", metrics=[\"mae\"])\n",
        "history = model.fit(\n",
        "    train_dataset,\n",
        "    epochs=10,\n",
        "    validation_data=val_dataset,\n",
        "    callbacks=callbacks,\n",
        ")"
      ]
    },
    {
      "cell_type": "code",
      "execution_count": null,
      "metadata": {
        "id": "4e0Bl3Poe_iH"
      },
      "outputs": [],
      "source": [
        "plot_history(history)"
      ]
    },
    {
      "cell_type": "code",
      "execution_count": null,
      "metadata": {
        "id": "3T_ictxxe_iH"
      },
      "outputs": [],
      "source": [
        "model = tf.keras.models.load_model(base_dir / \"jena_lstm_bidirectional.keras\")\n",
        "print(f\"Test MAE: {model.evaluate(test_dataset)[1]:.2f}\")"
      ]
    },
    {
      "cell_type": "markdown",
      "metadata": {
        "id": "4R8kTpmke_iH"
      },
      "source": [
        "---\n",
        "\n",
        "### 10.4.4 Going even further\n",
        "\n",
        "- Experiment with the number of units in recurrent layers, and with dropout;\n",
        "- Experiment with the optimizer and learning rate;\n",
        "- Try and have a stack of Dense layers instead of just one;\n",
        "- Vary the length of input sequences, try a different sampling rate, or think about feature engineering."
      ]
    },
    {
      "cell_type": "markdown",
      "metadata": {
        "id": "4DX157nJe_iI"
      },
      "source": [
        "## Summary\n",
        "\n",
        "- Always try and have a *baseline*;\n",
        "- Try simple models, then more complex ones;\n",
        "- Recurrent nets work well for data where **ordering** matters;\n",
        "- Two main layers:\n",
        "  - **LSTM**: most complex, most expensive;\n",
        "  - **GRU**: slightly less complex, faster;\n",
        "- For recurrent nets use the time-constant `recurrent_dropout`;\n",
        "- For more representational power, try **stacking** RNN layers, and, if you're not predicting future steps, **bidirectional** tf.keras.layers."
      ]
    }
  ],
  "metadata": {
    "celltoolbar": "Slideshow",
    "colab": {
      "provenance": []
    },
    "kernelspec": {
      "display_name": "Python 3 (ipykernel)",
      "language": "python",
      "name": "python3"
    },
    "language_info": {
      "codemirror_mode": {
        "name": "ipython",
        "version": 3
      },
      "file_extension": ".py",
      "mimetype": "text/x-python",
      "name": "python",
      "nbconvert_exporter": "python",
      "pygments_lexer": "ipython3",
      "version": "3.7.13"
    },
    "accelerator": "GPU",
    "gpuClass": "standard"
  },
  "nbformat": 4,
  "nbformat_minor": 0
}