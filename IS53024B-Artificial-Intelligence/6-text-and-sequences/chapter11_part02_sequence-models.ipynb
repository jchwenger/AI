{
 "cells": [
  {
   "cell_type": "markdown",
   "metadata": {
    "slideshow": {
     "slide_type": "slide"
    }
   },
   "source": [
    "---\n",
    "\n",
    "## 11.3.3 Processing words as a sequence: The sequence model approach"
   ]
  },
  {
   "cell_type": "code",
   "execution_count": 1,
   "metadata": {
    "slideshow": {
     "slide_type": "skip"
    }
   },
   "outputs": [],
   "source": [
    "import os, sys, pathlib, shutil, random\n",
    "import numpy as np\n",
    "\n",
    "from IPython.display import YouTubeVideo\n",
    "\n",
    "import tensorflow as tf"
   ]
  },
  {
   "cell_type": "code",
   "execution_count": 2,
   "metadata": {
    "slideshow": {
     "slide_type": "skip"
    }
   },
   "outputs": [],
   "source": [
    "# reminder: Colab code to mount your drive\n",
    "if 'google.colab' in sys.modules:\n",
    "    from google.colab import drive\n",
    "    drive.mount('/content/drive') # 'My Drive' is the default name of Google Drives, change the rest accordingly!\n",
    "    os.chdir('drive/My Drive/IS53024B-Artificial-Intelligence/6-text-and-sequences') \n",
    "    os.listdir() "
   ]
  },
  {
   "cell_type": "markdown",
   "metadata": {
    "slideshow": {
     "slide_type": "subslide"
    }
   },
   "source": [
    "---\n",
    "\n",
    "### Word embeddings\n",
    "\n",
    "A big revolution of this last decade: researchers discovered that we can get systems to **learn to project words** into a **vector space** that retain **semantic relationship**.\n",
    "\n",
    "The idea behind this discovery is that **similar words** (similar meanings) occur in **similar contexts**.\n",
    "\n",
    "*You shall know a word by the company it keeps.*  \n",
    "(J. R. Firth, \"A Synopsis of Linguistic Theory\", 1957, cf. also the late Wittgenstein)\n",
    "\n",
    "The algorithms will train on large text corpora, and:\n",
    "- count all the occurrences of words and contexts;  \n",
    "- try and predict either the word given the context;\n",
    "- or the context given the word."
   ]
  },
  {
   "cell_type": "markdown",
   "metadata": {
    "slideshow": {
     "slide_type": "subslide"
    }
   },
   "source": [
    "Word embeddings in the context of a large dictionary have typically 256, 512 or 1024 dimensions  \n",
    "(the dimension of a vector is its length i.e. the number of components).\n",
    "\n",
    "One-hot encoded vectors can exceed 20,000 dimensions!  \n",
    "Also, technically all one-hot encoded are **orthogonal**: no similarity between them.\n",
    "\n",
    "Word embeddings compress the information into fewer dimensions.  \n",
    "Two word vectors can be compared to each other!"
   ]
  },
  {
   "cell_type": "markdown",
   "metadata": {
    "slideshow": {
     "slide_type": "subslide"
    }
   },
   "source": [
    "<!-- <img style=\"height: 700px\" src=\"images/nlp/chollet.one-hot-embeddings.png\"> -->\n",
    "<img src=\"https://drive.google.com/uc?id=1wFVlsvlZMqoTcM_dDRnX3QKvL9nAmOJy\">\n",
    "\n",
    "<small>DLWP, p.330</small>"
   ]
  },
  {
   "cell_type": "markdown",
   "metadata": {
    "slideshow": {
     "slide_type": "subslide"
    }
   },
   "source": [
    "|One-hot|Word embeddings|\n",
    "|:---|:---|\n",
    "|binary (integers: 0/1)|floating point vectors|\n",
    "|sparse (most elements are zeros)|*dense*|\n",
    "|very high-dimensional|low-to-medium-dimensional|\n",
    "|hard-coded|learnt from data|\n"
   ]
  },
  {
   "cell_type": "markdown",
   "metadata": {
    "slideshow": {
     "slide_type": "subslide"
    }
   },
   "source": [
    "The results is that each token will be represented as a **coordinate** (aka a **vector**) in a high-dimensional space.\n",
    "\n",
    "The most striking features of these spaces is that they seem to encode **semantic relationships**!\n",
    "\n",
    "<!-- <img src=\"images/nlp/linear-relationships.svg\"> -->\n",
    "<img src=\"https://drive.google.com/uc?id=1qsmSHdJxMYmnapU0br6ESLc69deKedcj\">\n",
    "\n",
    "\n",
    "<small>[Embeddings: Translating to a Lower-Dimensional Space, Google Foundational Courses, Machine Learning, Embeddings](https://developers.google.com/machine-learning/crash-course/embeddings/translating-to-a-lower-dimensional-space)</small>"
   ]
  },
  {
   "cell_type": "markdown",
   "metadata": {
    "slideshow": {
     "slide_type": "subslide"
    }
   },
   "source": [
    "#### Note \n",
    "\n",
    "A universal embedding is unlikely, or very difficult to achieve.\n",
    "\n",
    "Semantic relationships depend on task – the text corpus and what we are learning.\n",
    "\n",
    "Expect different geometries for different tasks (e.g. sentiment analysis is very different from classification of legal documents).\n",
    "\n",
    "#### Also\n",
    "\n",
    "The biases of your dataset **will be encoded** in the space (for instance, gendered associations between professions)."
   ]
  },
  {
   "cell_type": "markdown",
   "metadata": {
    "slideshow": {
     "slide_type": "subslide"
    }
   },
   "source": [
    "### References\n",
    "\n",
    "#### Word2Vec\n",
    "\n",
    "Google, 2013, aka the Skip-Gram model, or Continuous Bag of Words (CBOW)\n",
    "\n",
    "<small>[Mikolov et al., \"Distributed Representations of Words and Phrases and their Compositionality\", arxiv](https://arxiv.org/abs/1310.4546)</small>  \n",
    "\n",
    "Perhaps the most famous word embedding scheme."
   ]
  },
  {
   "cell_type": "markdown",
   "metadata": {
    "slideshow": {
     "slide_type": "subslide"
    }
   },
   "source": [
    "#### GloVe: *Global Vectors for Word Representation*\n",
    "\n",
    "Stanford University, 2014\n",
    "\n",
    "<small>[Pennington et al., \"GloVe: Global Vectors for Word Representation\", arxiv](https://nlp.stanford.edu/pubs/glove.pdf)</small>  \n",
    "\n",
    "\n",
    "Based on factorizing a matrix of word co-occurrence statistics.\n",
    "\n",
    "Millions of English tokens harvested from Wikipedia and other sources. "
   ]
  },
  {
   "cell_type": "markdown",
   "metadata": {
    "slideshow": {
     "slide_type": "skip"
    }
   },
   "source": [
    "#### Tutorial\n",
    "\n",
    "[Word embeddings](https://www.tensorflow.org/text/guide/word_embeddings) (3D embeddings with TensorBoard!)"
   ]
  },
  {
   "cell_type": "code",
   "execution_count": 3,
   "metadata": {
    "slideshow": {
     "slide_type": "skip"
    }
   },
   "outputs": [
    {
     "data": {
      "image/jpeg": "[encoded data removed]",
      "text/html": [
       "\n",
       "        <iframe\n",
       "            width=\"853\"\n",
       "            height=\"480\"\n",
       "            src=\"https://www.youtube.com/embed/rmVRLeJRkl4\"\n",
       "            frameborder=\"0\"\n",
       "            allowfullscreen\n",
       "            \n",
       "        ></iframe>\n",
       "        "
      ],
      "text/plain": [
       "<IPython.lib.display.YouTubeVideo at 0x7f4d603b2880>"
      ]
     },
     "execution_count": 3,
     "metadata": {},
     "output_type": "execute_result"
    }
   ],
   "source": [
    "YouTubeVideo('rmVRLeJRkl4', width=853, height=480) #  Stanford CS224N: NLP with Deep Learning | Winter 2021 |\n",
    "                                                   #  Lecture 1 - Intro & Word Vectors "
   ]
  },
  {
   "cell_type": "markdown",
   "metadata": {
    "slideshow": {
     "slide_type": "subslide"
    }
   },
   "source": [
    "#### Learning word embeddings with the Embedding layer\n",
    "\n",
    "Later, researchers discovered that you can simply **learn** these vectors with your DL model using backprop like everything else!\n",
    "\n",
    "In current models, you just invoke a specific layer, and all the work is done for you.\n",
    "\n",
    "Note that you must specify in advance the **dimensionality** of the embedding space.\n",
    "\n",
    "As usual, more dimensions == more **resolution** (finer-grained), but more computationally expensive."
   ]
  },
  {
   "cell_type": "code",
   "execution_count": 4,
   "metadata": {
    "slideshow": {
     "slide_type": "subslide"
    }
   },
   "outputs": [
    {
     "name": "stdout",
     "output_type": "stream",
     "text": [
      "Model: \"model\"\n",
      "_________________________________________________________________\n",
      " Layer (type)                Output Shape              Param #   \n",
      "=================================================================\n",
      " input_1 (InputLayer)        [(None, 8000)]            0         \n",
      "                                                                 \n",
      " embedding (Embedding)       (None, 8000, 256)         2048000   \n",
      "                                                                 \n",
      "=================================================================\n",
      "Total params: 2048000 (7.81 MB)\n",
      "Trainable params: 2048000 (7.81 MB)\n",
      "Non-trainable params: 0 (0.00 Byte)\n",
      "_________________________________________________________________\n"
     ]
    }
   ],
   "source": [
    "max_tokens = 8000\n",
    "inputs = tf.keras.Input(shape=(max_tokens,))\n",
    "embedding_layer = tf.keras.layers.Embedding( # ← EMBEDDING LAYER\n",
    "    input_dim=max_tokens,                    # the size of the vocabulary (8000)\n",
    "    output_dim=256                           # the dimensionality of the embedding space\n",
    ")\n",
    "x = embedding_layer(inputs)\n",
    "model = tf.keras.Model(inputs, x)\n",
    "model.summary()"
   ]
  },
  {
   "cell_type": "markdown",
   "metadata": {
    "slideshow": {
     "slide_type": "skip"
    }
   },
   "source": [
    "The two arguments of the embedding layer code are:\n",
    "\n",
    "```python\n",
    "tf.keras.layers.Embedding(input_dim=max_tokens, output_dim=256)\n",
    "```\n",
    "\n",
    "- input_dim = 8000 (the size of our vocab)\n",
    "- output_dim = 256 (the dimension of the embedding space)"
   ]
  },
  {
   "cell_type": "markdown",
   "metadata": {
    "slideshow": {
     "slide_type": "subslide"
    }
   },
   "source": [
    "In Chollet's example (the IMDB sentiment task again), reviews have been reduced (or expanded) to a constant length of 600 words.\n",
    "\n",
    "E.g. `x_test[0] = [65, 16, 38, 1334, 88, 12, ..., 16, 5345, 19, 178, 32]`\n",
    "\n",
    "65, 16, 38... are dictionary entries – word 65, word 16, word 38... in the 8000-words dictionary.\n",
    "\n",
    "Then, each elements of `x_test[0]` is one-hot encoded => 600 one-hot vectors of length 8000.\n",
    "\n",
    "The embedding layer multiplies each one-hot vector by a matrix of dimensions $256 \\times 8'000$ => 600 floating point vectors of length 256."
   ]
  },
  {
   "cell_type": "markdown",
   "metadata": {
    "slideshow": {
     "slide_type": "subslide"
    }
   },
   "source": [
    "How many learnable parameters does the embedding weight matrix have?\n",
    "\n",
    "$$\n",
    "\\bbox[5px,border:2px solid red]\n",
    "{\n",
    "\\mathrm{input\\_dim} \\times \\mathrm{output\\_dim}\n",
    "}\n",
    "$$\n",
    "\n",
    "Example: \n",
    "\n",
    "$ 8 \\times 10'000 = 80'000$ elements.\n",
    "\n"
   ]
  },
  {
   "cell_type": "markdown",
   "metadata": {
    "slideshow": {
     "slide_type": "subslide"
    }
   },
   "source": [
    "The embedding layer takes as input tensors of shape `(batch_size, sequence_length)`.  \n",
    "The outputs tensors of shape `(bach_size, sequence_length, output_dim)`. \n",
    "\n",
    "As usual in Keras, the batch_size is represented as `None`: \n",
    "\n",
    "$$\n",
    "\\bbox[5px,border:2px solid red]\n",
    "{\n",
    "In: (None, sequence\\_length) \\to Out: (None, sequence\\_length, output\\_dim)\n",
    "}\n",
    "$$\n",
    "\n",
    "`output_dim` could be called `embed_dim`, the number of dimensions of our embedding space!\n",
    "\n"
   ]
  },
  {
   "cell_type": "markdown",
   "metadata": {
    "slideshow": {
     "slide_type": "subslide"
    }
   },
   "source": [
    "### A first practical example\n",
    "\n",
    "Sentimenta analysis on the IMDB dataset."
   ]
  },
  {
   "cell_type": "markdown",
   "metadata": {
    "slideshow": {
     "slide_type": "skip"
    }
   },
   "source": [
    "#### Downloading the data\n",
    "\n",
    "Commands to download and uncompress the imdb dataset:\n",
    "\n",
    "```bash\n",
    "!curl -O https://ai.stanford.edu/~amaas/data/sentiment/aclImdb_v1.tar.gz\n",
    "!tar -xf aclImdb_v1.tar.gz\n",
    "!rm -r aclImdb/train/unsup\n",
    "```\n",
    "\n",
    "#### Reminders\n",
    "\n",
    "- in Jupyter, use a bang (!) to run a bash command. You can also run them in a terminal (without the initial !);\n",
    "- in Colab, don't forget to mount your Google drive!\n",
    "\n",
    "#### Other reminders\n",
    "\n",
    "- You can use symlinks in Linux to avoid downloading things twice!\n",
    "\n",
    "    ```bash\n",
    "    # will create a folder called 'dataset' in the current dir, linked to the other one\n",
    "    !ln -s /path/to/already/downloaded/dataset \n",
    "    ```\n",
    "     \n",
    "- In Google drive, the same can be achieved by selecting the directory you want to link to, and pressing Shift+Z, then selecting the target directory."
   ]
  },
  {
   "cell_type": "code",
   "execution_count": 5,
   "metadata": {
    "slideshow": {
     "slide_type": "skip"
    }
   },
   "outputs": [],
   "source": [
    "# code to split the data into train/val folders\n",
    "base_dir = pathlib.Path(\"aclImdb\")\n",
    "train_dir = base_dir / \"train\"\n",
    "val_dir = base_dir / \"val\"\n",
    "test_dir = base_dir / \"test\"\n",
    "\n",
    "for category in (\"neg\", \"pos\"):\n",
    "    if not os.path.isdir(val_dir / category):    # do this only once\n",
    "        os.makedirs(val_dir / category)          # make 'neg'/'pos' dir in validation\n",
    "        files = os.listdir(train_dir / category) # list files in 'train'\n",
    "        random.Random(1337).shuffle(files)       # shuffle using a seed\n",
    "        num_val_samples = int(0.2 * len(files))  # 2% of our samples for validation\n",
    "        val_files = files[-num_val_samples:]\n",
    "        for fname in val_files:                  # move our files\n",
    "            shutil.move(train_dir / category / fname,\n",
    "                        val_dir / category / fname)"
   ]
  },
  {
   "cell_type": "markdown",
   "metadata": {
    "slideshow": {
     "slide_type": "fragment"
    }
   },
   "source": [
    "The [`tf.keras.utils.text_dataset_from_directory`](https://www.tensorflow.org/api_docs/python/tf/keras/utils/text_dataset_from_directory) layer, for a directory structure like so:\n",
    "```\n",
    "main_directory/\n",
    "...class_a/\n",
    "......a_text_1.txt\n",
    "......a_text_2.txt\n",
    "...class_b/\n",
    "......b_text_1.txt\n",
    "......b_text_2.txt\n",
    "```"
   ]
  },
  {
   "cell_type": "code",
   "execution_count": 6,
   "metadata": {
    "slideshow": {
     "slide_type": "subslide"
    }
   },
   "outputs": [
    {
     "name": "stdout",
     "output_type": "stream",
     "text": [
      "Found 20000 files belonging to 2 classes.\n",
      "Found 5000 files belonging to 2 classes.\n",
      "Found 25000 files belonging to 2 classes.\n"
     ]
    }
   ],
   "source": [
    "batch_size = 32\n",
    "\n",
    "# each of these iterables returns tuples containing two tensors:\n",
    "# samples, shape: (batch_size, sample_shape) ← our texts\n",
    "# targets, shape: (batch_size,)              ← 0 or 1\n",
    "train_ds = tf.keras.utils.text_dataset_from_directory(\n",
    "    train_dir, batch_size=batch_size\n",
    ")\n",
    "val_ds = tf.keras.utils.text_dataset_from_directory(\n",
    "    val_dir, batch_size=batch_size\n",
    ")\n",
    "test_ds = tf.keras.utils.text_dataset_from_directory(\n",
    "    test_dir, batch_size=batch_size\n",
    ")\n",
    "text_only_train_ds = train_ds.map(lambda x, y: x)"
   ]
  },
  {
   "cell_type": "code",
   "execution_count": 7,
   "metadata": {
    "slideshow": {
     "slide_type": "subslide"
    }
   },
   "outputs": [],
   "source": [
    "# Preparing integer sequence train/val/test datasets\n",
    "max_length = 600   # we cut our sequences to 600 words max! (For memory.) This will affect performance...\n",
    "max_tokens = 8000\n",
    "\n",
    "text_vectorization = tf.keras.layers.TextVectorization(\n",
    "    max_tokens=max_tokens,\n",
    "    output_mode=\"int\",\n",
    "    output_sequence_length=max_length,\n",
    ")\n",
    "text_vectorization.adapt(text_only_train_ds)\n",
    "\n",
    "int_train_ds = train_ds.map(\n",
    "    lambda x, y: (text_vectorization(x), y),\n",
    "    num_parallel_calls=4)\n",
    "int_val_ds = val_ds.map(\n",
    "    lambda x, y: (text_vectorization(x), y),\n",
    "    num_parallel_calls=4)\n",
    "int_test_ds = test_ds.map(\n",
    "    lambda x, y: (text_vectorization(x), y),\n",
    "    num_parallel_calls=4)"
   ]
  },
  {
   "cell_type": "code",
   "execution_count": 8,
   "metadata": {
    "slideshow": {
     "slide_type": "subslide"
    }
   },
   "outputs": [],
   "source": [
    "# A sequence model built on one-hot encoded vector sequences\n",
    "\n",
    "inputs = tf.keras.Input(shape=(None,), dtype=\"int64\")\n",
    "# ↓ our one-hot vectors --------------------------------------------\n",
    "embedded = tf.one_hot(\n",
    "    inputs,\n",
    "    depth=max_tokens  # we have a vocabulary size of `max_tokens`\n",
    ")\n",
    "# ---------------------------------------------------- passed here ↓ \n",
    "x = tf.keras.layers.Bidirectional(tf.keras.layers.LSTM(32))(embedded)\n",
    "x = tf.keras.layers.Dropout(0.5)(x)\n",
    "outputs = tf.keras.layers.Dense(1, activation=\"sigmoid\")(x)\n",
    "model = tf.keras.Model(inputs, outputs)\n",
    "model.compile(\n",
    "    optimizer=\"rmsprop\",\n",
    "    loss=\"binary_crossentropy\",\n",
    "    metrics=[\"accuracy\"]\n",
    ")"
   ]
  },
  {
   "cell_type": "code",
   "execution_count": 9,
   "metadata": {
    "slideshow": {
     "slide_type": "skip"
    }
   },
   "outputs": [
    {
     "name": "stdout",
     "output_type": "stream",
     "text": [
      "Model: \"model_1\"\n",
      "_________________________________________________________________\n",
      " Layer (type)                Output Shape              Param #   \n",
      "=================================================================\n",
      " input_2 (InputLayer)        [(None, None)]            0         \n",
      "                                                                 \n",
      " tf.one_hot (TFOpLambda)     (None, None, 8000)        0         \n",
      "                                                                 \n",
      " bidirectional (Bidirection  (None, 64)                2056448   \n",
      " al)                                                             \n",
      "                                                                 \n",
      " dropout (Dropout)           (None, 64)                0         \n",
      "                                                                 \n",
      " dense (Dense)               (None, 1)                 65        \n",
      "                                                                 \n",
      "=================================================================\n",
      "Total params: 2056513 (7.84 MB)\n",
      "Trainable params: 2056513 (7.84 MB)\n",
      "Non-trainable params: 0 (0.00 Byte)\n",
      "_________________________________________________________________\n"
     ]
    }
   ],
   "source": [
    "model.summary()"
   ]
  },
  {
   "cell_type": "code",
   "execution_count": 10,
   "metadata": {
    "slideshow": {
     "slide_type": "skip"
    },
    "tags": []
   },
   "outputs": [
    {
     "name": "stdout",
     "output_type": "stream",
     "text": [
      "Epoch 1/10\n",
      "625/625 [==============================] - 115s 166ms/step - loss: 0.5714 - accuracy: 0.6927 - val_loss: 0.4670 - val_accuracy: 0.7884\n",
      "Epoch 2/10\n"
     ]
    },
    {
     "name": "stderr",
     "output_type": "stream",
     "text": [
      "/home/jcw/anaconda3/envs/gold/lib/python3.9/site-packages/keras/src/engine/training.py:3000: UserWarning: You are saving your model as an HDF5 file via `model.save()`. This file format is considered legacy. We recommend using instead the native Keras format, e.g. `model.save('my_model.keras')`.\n",
      "  saving_api.save_model(\n"
     ]
    },
    {
     "name": "stdout",
     "output_type": "stream",
     "text": [
      "625/625 [==============================] - 105s 168ms/step - loss: 0.3716 - accuracy: 0.8576 - val_loss: 0.3055 - val_accuracy: 0.8766\n",
      "Epoch 3/10\n",
      "625/625 [==============================] - 106s 169ms/step - loss: 0.3104 - accuracy: 0.8875 - val_loss: 0.3912 - val_accuracy: 0.8174\n",
      "Epoch 4/10\n",
      "625/625 [==============================] - 106s 170ms/step - loss: 0.2791 - accuracy: 0.9006 - val_loss: 0.4427 - val_accuracy: 0.8140\n",
      "Epoch 5/10\n",
      "625/625 [==============================] - 108s 173ms/step - loss: 0.2548 - accuracy: 0.9101 - val_loss: 0.3583 - val_accuracy: 0.8840\n",
      "Epoch 6/10\n",
      "625/625 [==============================] - 109s 174ms/step - loss: 0.2383 - accuracy: 0.9183 - val_loss: 0.2793 - val_accuracy: 0.8914\n",
      "Epoch 7/10\n",
      "625/625 [==============================] - 110s 175ms/step - loss: 0.2216 - accuracy: 0.9247 - val_loss: 0.2895 - val_accuracy: 0.8868\n",
      "Epoch 8/10\n",
      "625/625 [==============================] - 111s 177ms/step - loss: 0.2010 - accuracy: 0.9314 - val_loss: 0.2918 - val_accuracy: 0.8844\n",
      "Epoch 9/10\n",
      "625/625 [==============================] - 110s 175ms/step - loss: 0.1891 - accuracy: 0.9373 - val_loss: 0.3393 - val_accuracy: 0.8862\n",
      "Epoch 10/10\n",
      "625/625 [==============================] - 110s 175ms/step - loss: 0.1717 - accuracy: 0.9436 - val_loss: 0.3814 - val_accuracy: 0.8772\n"
     ]
    },
    {
     "data": {
      "text/plain": [
       "<keras.src.callbacks.History at 0x7f4c85b76df0>"
      ]
     },
     "execution_count": 10,
     "metadata": {},
     "output_type": "execute_result"
    }
   ],
   "source": [
    "# Training a first basic sequence model\n",
    "callbacks = [\n",
    "    tf.keras.callbacks.ModelCheckpoint(\n",
    "        str(base_dir / \"one_hot_bidir_lstm.h5\"),  # NOTE: in DLWP, he uses the current `.keras` format, but ModelCheckpoint\n",
    "        save_best_only=True                       # in TF 2.13 now breaks when using it with `save_best_only`...\n",
    "    )                                             # see: https://github.com/keras-team/tf-keras/issues/151\n",
    "]\n",
    "model.fit(\n",
    "    int_train_ds,\n",
    "    validation_data=int_val_ds,\n",
    "    epochs=10,\n",
    "    callbacks=callbacks\n",
    ")"
   ]
  },
  {
   "cell_type": "code",
   "execution_count": 11,
   "metadata": {
    "slideshow": {
     "slide_type": "skip"
    },
    "tags": []
   },
   "outputs": [
    {
     "name": "stdout",
     "output_type": "stream",
     "text": [
      "Test acc: 0.880\n"
     ]
    }
   ],
   "source": [
    "model = tf.keras.models.load_model(base_dir / \"one_hot_bidir_lstm.h5\")\n",
    "print(f\"Test acc: {model.evaluate(int_test_ds, verbose=0)[1]:.3f}\")\n",
    "del model"
   ]
  },
  {
   "cell_type": "markdown",
   "metadata": {
    "slideshow": {
     "slide_type": "subslide"
    }
   },
   "source": [
    "#### Learning word embeddings with the Embedding layer"
   ]
  },
  {
   "cell_type": "code",
   "execution_count": 12,
   "metadata": {
    "slideshow": {
     "slide_type": "fragment"
    }
   },
   "outputs": [],
   "source": [
    "# A model that uses an `Embedding` layer trained from scratch\n",
    "\n",
    "tf.keras.backend.clear_session()\n",
    "\n",
    "inputs = tf.keras.Input(shape=(None,), dtype=\"int64\")\n",
    "# ↓ our embedding layer --------------------------------------------\n",
    "embedded = tf.keras.layers.Embedding(\n",
    "    input_dim=max_tokens, # our data comes in with a vocab size of `max_tokens`\n",
    "    output_dim=256        # and comes out as dense vectors of dim (\"vocab\") of 256\n",
    ")(inputs)\n",
    "# ---------------------------------------------------- passed here ↓ \n",
    "x = tf.keras.layers.Bidirectional(tf.keras.layers.LSTM(32))(embedded)\n",
    "x = tf.keras.layers.Dropout(0.5)(x)\n",
    "outputs = tf.keras.layers.Dense(1, activation=\"sigmoid\")(x)\n",
    "model = tf.keras.Model(inputs, outputs)\n",
    "model.compile(\n",
    "    optimizer=\"rmsprop\",\n",
    "    loss=\"binary_crossentropy\",\n",
    "    metrics=[\"accuracy\"]\n",
    ")"
   ]
  },
  {
   "cell_type": "markdown",
   "metadata": {
    "slideshow": {
     "slide_type": "subslide"
    }
   },
   "source": [
    "Note that given our vocabulary of $8'000$ tokens the embedding layer is **large**: $256 \\times 8'000 = 20'480'000$ elements."
   ]
  },
  {
   "cell_type": "code",
   "execution_count": 13,
   "metadata": {
    "slideshow": {
     "slide_type": "fragment"
    }
   },
   "outputs": [
    {
     "name": "stdout",
     "output_type": "stream",
     "text": [
      "Model: \"model\"\n",
      "_________________________________________________________________\n",
      " Layer (type)                Output Shape              Param #   \n",
      "=================================================================\n",
      " input_1 (InputLayer)        [(None, None)]            0         \n",
      "                                                                 \n",
      " embedding (Embedding)       (None, None, 256)         2048000   \n",
      "                                                                 \n",
      " bidirectional (Bidirection  (None, 64)                73984     \n",
      " al)                                                             \n",
      "                                                                 \n",
      " dropout (Dropout)           (None, 64)                0         \n",
      "                                                                 \n",
      " dense (Dense)               (None, 1)                 65        \n",
      "                                                                 \n",
      "=================================================================\n",
      "Total params: 2122049 (8.09 MB)\n",
      "Trainable params: 2122049 (8.09 MB)\n",
      "Non-trainable params: 0 (0.00 Byte)\n",
      "_________________________________________________________________\n"
     ]
    }
   ],
   "source": [
    "model.summary()"
   ]
  },
  {
   "cell_type": "code",
   "execution_count": 14,
   "metadata": {
    "slideshow": {
     "slide_type": "skip"
    }
   },
   "outputs": [
    {
     "name": "stdout",
     "output_type": "stream",
     "text": [
      "Epoch 1/10\n",
      "625/625 [==============================] - 209s 322ms/step - loss: 0.5316 - accuracy: 0.7318 - val_loss: 0.3738 - val_accuracy: 0.8436\n",
      "Epoch 2/10\n",
      "625/625 [==============================] - 106s 169ms/step - loss: 0.3750 - accuracy: 0.8528 - val_loss: 0.4598 - val_accuracy: 0.8414\n",
      "Epoch 3/10\n",
      "625/625 [==============================] - 79s 126ms/step - loss: 0.3094 - accuracy: 0.8859 - val_loss: 0.3245 - val_accuracy: 0.8750\n",
      "Epoch 4/10\n",
      "625/625 [==============================] - 72s 116ms/step - loss: 0.2748 - accuracy: 0.9007 - val_loss: 0.3408 - val_accuracy: 0.8594\n",
      "Epoch 5/10\n",
      "625/625 [==============================] - 66s 106ms/step - loss: 0.2424 - accuracy: 0.9144 - val_loss: 0.3234 - val_accuracy: 0.8668\n",
      "Epoch 6/10\n",
      "625/625 [==============================] - 70s 112ms/step - loss: 0.2228 - accuracy: 0.9222 - val_loss: 0.3746 - val_accuracy: 0.8740\n",
      "Epoch 7/10\n",
      "625/625 [==============================] - 67s 107ms/step - loss: 0.2047 - accuracy: 0.9297 - val_loss: 0.3650 - val_accuracy: 0.8774\n",
      "Epoch 8/10\n",
      "625/625 [==============================] - 68s 109ms/step - loss: 0.1873 - accuracy: 0.9369 - val_loss: 0.3560 - val_accuracy: 0.8810\n",
      "Epoch 9/10\n",
      "625/625 [==============================] - 64s 103ms/step - loss: 0.1719 - accuracy: 0.9416 - val_loss: 0.5043 - val_accuracy: 0.8696\n",
      "Epoch 10/10\n",
      "625/625 [==============================] - 62s 100ms/step - loss: 0.1580 - accuracy: 0.9478 - val_loss: 0.3852 - val_accuracy: 0.8798\n"
     ]
    },
    {
     "data": {
      "text/plain": [
       "<keras.src.callbacks.History at 0x7f4bf4232100>"
      ]
     },
     "execution_count": 14,
     "metadata": {},
     "output_type": "execute_result"
    }
   ],
   "source": [
    "callbacks = [\n",
    "    tf.keras.callbacks.ModelCheckpoint(\n",
    "        str(base_dir / \"embeddings_bidir_lstm.h5\"),\n",
    "        save_best_only=True\n",
    "    )\n",
    "]\n",
    "model.fit(\n",
    "    int_train_ds,\n",
    "    validation_data=int_val_ds,\n",
    "    epochs=10,\n",
    "    callbacks=callbacks\n",
    ")"
   ]
  },
  {
   "cell_type": "code",
   "execution_count": 15,
   "metadata": {
    "slideshow": {
     "slide_type": "skip"
    }
   },
   "outputs": [
    {
     "name": "stdout",
     "output_type": "stream",
     "text": [
      "Test acc: 0.856\n"
     ]
    }
   ],
   "source": [
    "model = tf.keras.models.load_model(base_dir / \"embeddings_bidir_lstm.h5\")\n",
    "print(f\"Test acc: {model.evaluate(int_test_ds, verbose=0)[1]:.3f}\") # in this case, roughly the same as one-hot\n",
    "del model"
   ]
  },
  {
   "cell_type": "markdown",
   "metadata": {
    "slideshow": {
     "slide_type": "subslide"
    }
   },
   "source": [
    "---\n",
    "\n",
    "### Using pretrained word embeddings\n",
    "\n",
    "Pretrained word embeddings are useful **when training data is limited** – just as with pretrained convnets.\n",
    "\n",
    "Very structured embeddings hopefully capture **generic structure** appropriate to diverse domains.\n",
    "\n",
    "(The more data you can train on, the more likely your task-specific embeddings will perform better.)"
   ]
  },
  {
   "cell_type": "markdown",
   "metadata": {
    "slideshow": {
     "slide_type": "subslide"
    }
   },
   "source": [
    "Let's see how we can use GloVe embeddings in `tensorflow.keras`.\n",
    "\n",
    "(The same method applies to Word2Vec or any other embedding technique.) "
   ]
  },
  {
   "cell_type": "markdown",
   "metadata": {
    "slideshow": {
     "slide_type": "skip"
    }
   },
   "source": [
    "Commands to download and uncompress the pretrained GloVe word vectors.\n",
    "\n",
    "```bash\n",
    "!wget http://nlp.stanford.edu/data/glove.6B.zip\n",
    "!unzip -q glove.6B.zip -d glove # unzip to a directory called \"glove\"\n",
    "!rm glove.6B.zip                # remove the zip file\n",
    "```"
   ]
  },
  {
   "cell_type": "code",
   "execution_count": 17,
   "metadata": {
    "slideshow": {
     "slide_type": "fragment"
    }
   },
   "outputs": [],
   "source": [
    "base_dir = pathlib.Path(\"glove\") # I have my file in a folder called 'glove'\n",
    "path_to_glove_file =  base_dir / \"glove.6B.100d.txt\""
   ]
  },
  {
   "cell_type": "code",
   "execution_count": 18,
   "metadata": {
    "scrolled": true,
    "slideshow": {
     "slide_type": "fragment"
    }
   },
   "outputs": [
    {
     "name": "stdout",
     "output_type": "stream",
     "text": [
      "the -0.038194 -0.24487 0.72812 -0.39961 0.083172 0.043953 -0.39141 0.3344 -0.57545 0.087459 0.28787 -0.06731 0.30906 -0.26384 -0.13231 -0.20757 0.33395 -0.33848 -0.31743 -0.48336 0.1464 -0.37304 0.34577 0.052041 0.44946 -0.46971 0.02628 -0.54155 -0.15518 -0.14107 -0.039722 0.28277 0.14393 0.23464 -0.31021 0.086173 0.20397 0.52624 0.17164 -0.082378 -0.71787 -0.41531 0.20335 -0.12763 0.41367 0.55187 0.57908 -0.33477 -0.36559 -0.54857 -0.062892 0.26584 0.30205 0.99775 -0.80481 -3.0243 0.01254 -0.36942 2.2167 0.72201 -0.24978 0.92136 0.034514 0.46745 1.1079 -0.19358 -0.074575 0.23353 -0.052062 -0.22044 0.057162 -0.15806 -0.30798 -0.41625 0.37972 0.15006 -0.53212 -0.2055 -1.2526 0.071624 0.70565 0.49744 -0.42063 0.26148 -1.538 -0.30223 -0.073438 -0.28312 0.37104 -0.25217 0.016215 -0.017099 -0.38984 0.87424 -0.72569 -0.51058 -0.52028 -0.1459 0.8278 0.27062\n"
     ]
    }
   ],
   "source": [
    "# another Jupyter magic: use $python_variable in bash commands\n",
    "!head -n 1 $path_to_glove_file\n",
    "# ↓ the word \"the\" followed by its coordinates in a 100-dimensional space"
   ]
  },
  {
   "cell_type": "code",
   "execution_count": 19,
   "metadata": {
    "slideshow": {
     "slide_type": "subslide"
    }
   },
   "outputs": [
    {
     "name": "stdout",
     "output_type": "stream",
     "text": [
      "Found 400,000 word vectors.\n"
     ]
    }
   ],
   "source": [
    "# parsing the GloVe word-embeddings file\n",
    "embeddings_index = {}                                   # our dictionary: {'word': np.array([...coordinates..])}\n",
    "with open(path_to_glove_file) as f:\n",
    "    for line in f:\n",
    "        word, coefs = line.split(maxsplit=1)            # split: word | coordinates\n",
    "        coefs = np.fromstring(coefs, \"float\", sep=\" \")  # load string floats into numpy, space-separated\n",
    "        embeddings_index[word] = coefs                  # save into dictionary\n",
    "\n",
    "print(f\"Found {len(embeddings_index):,} word vectors.\")"
   ]
  },
  {
   "cell_type": "code",
   "execution_count": 20,
   "metadata": {
    "slideshow": {
     "slide_type": "subslide"
    }
   },
   "outputs": [],
   "source": [
    "embedding_dim = 100\n",
    "\n",
    "# we reuse the same TextVectorization object as earlier, turning our sentences into integers\n",
    "# max_length: 600, max_tokens: 8000\n",
    "vocabulary = text_vectorization.get_vocabulary()\n",
    "word_index = dict(zip(vocabulary, range(len(vocabulary))))\n",
    "\n",
    "# preparing the GloVe word-embeddings matrix\n",
    "embedding_matrix = np.zeros((max_tokens, embedding_dim))     # create a matrix (max_tokens, embedding_dim)\n",
    "for word, i in word_index.items():                           # looping through our vocab\n",
    "    if i < max_tokens:                                       # don't try and retrieve beyond max_tokens\n",
    "        embedding_vector = embeddings_index.get(word)        # try and get the vector associated with the word\n",
    "    if embedding_vector is not None:                         # if the vector exists\n",
    "        embedding_matrix[i] = embedding_vector               # assign it to our matrix"
   ]
  },
  {
   "cell_type": "code",
   "execution_count": 21,
   "metadata": {
    "slideshow": {
     "slide_type": "subslide"
    }
   },
   "outputs": [],
   "source": [
    "embedding_layer = tf.keras.layers.Embedding(\n",
    "    max_tokens,\n",
    "    embedding_dim,        # using our embedding matrix through an initializer\n",
    "    embeddings_initializer=tf.keras.initializers.Constant(embedding_matrix),\n",
    "    trainable=False,      # WE DO NOT TRAIN IT! \n",
    "    mask_zero=True,\n",
    ") \n",
    "\n",
    "# Given that our network is initialized randomly, the massive changes it undergoes at the beginning\n",
    "# of training would certainly affect/damage the representations in our embedding matrix \n",
    "# (same scenario as with pretrained ConvNets)"
   ]
  },
  {
   "cell_type": "code",
   "execution_count": 22,
   "metadata": {
    "slideshow": {
     "slide_type": "subslide"
    }
   },
   "outputs": [],
   "source": [
    "# A model that uses a pretrained Embedding layer\n",
    "tf.keras.backend.clear_session()\n",
    "\n",
    "inputs = tf.keras.Input(shape=(None,), dtype=\"int64\")\n",
    "# ↓ our embedding layer --------------------------------------------\n",
    "embedded = embedding_layer(inputs)\n",
    "# ---------------------------------------------------- passed here ↓ \n",
    "x = tf.keras.layers.Bidirectional(tf.keras.layers.LSTM(32))(embedded)\n",
    "x = tf.keras.layers.Dropout(0.5)(x)\n",
    "outputs = tf.keras.layers.Dense(1, activation=\"sigmoid\")(x)\n",
    "model = tf.keras.Model(inputs, outputs)\n",
    "model.compile(\n",
    "    optimizer=\"rmsprop\",\n",
    "    loss=\"binary_crossentropy\",\n",
    "    metrics=[\"accuracy\"]\n",
    ")"
   ]
  },
  {
   "cell_type": "code",
   "execution_count": 23,
   "metadata": {
    "slideshow": {
     "slide_type": "skip"
    }
   },
   "outputs": [
    {
     "name": "stdout",
     "output_type": "stream",
     "text": [
      "Model: \"model\"\n",
      "_________________________________________________________________\n",
      " Layer (type)                Output Shape              Param #   \n",
      "=================================================================\n",
      " input_1 (InputLayer)        [(None, None)]            0         \n",
      "                                                                 \n",
      " embedding_1 (Embedding)     (None, None, 100)         800000    \n",
      "                                                                 \n",
      " bidirectional (Bidirection  (None, 64)                34048     \n",
      " al)                                                             \n",
      "                                                                 \n",
      " dropout (Dropout)           (None, 64)                0         \n",
      "                                                                 \n",
      " dense (Dense)               (None, 1)                 65        \n",
      "                                                                 \n",
      "=================================================================\n",
      "Total params: 834113 (3.18 MB)\n",
      "Trainable params: 34113 (133.25 KB)\n",
      "Non-trainable params: 800000 (3.05 MB)\n",
      "_________________________________________________________________\n"
     ]
    }
   ],
   "source": [
    "model.summary()"
   ]
  },
  {
   "cell_type": "code",
   "execution_count": 29,
   "metadata": {
    "slideshow": {
     "slide_type": "skip"
    }
   },
   "outputs": [
    {
     "name": "stdout",
     "output_type": "stream",
     "text": [
      "Epoch 1/10\n",
      "625/625 [==============================] - 86s 117ms/step - loss: 0.2822 - accuracy: 0.8831 - val_loss: 0.2914 - val_accuracy: 0.8744\n",
      "Epoch 2/10\n",
      "625/625 [==============================] - 64s 102ms/step - loss: 0.2677 - accuracy: 0.8893 - val_loss: 0.2969 - val_accuracy: 0.8760\n",
      "Epoch 3/10\n",
      "625/625 [==============================] - 69s 110ms/step - loss: 0.2589 - accuracy: 0.8949 - val_loss: 0.2858 - val_accuracy: 0.8820\n",
      "Epoch 4/10\n",
      "625/625 [==============================] - 63s 101ms/step - loss: 0.2453 - accuracy: 0.8999 - val_loss: 0.3004 - val_accuracy: 0.8720\n",
      "Epoch 5/10\n",
      "625/625 [==============================] - 63s 101ms/step - loss: 0.2338 - accuracy: 0.9061 - val_loss: 0.3166 - val_accuracy: 0.8700\n",
      "Epoch 6/10\n",
      "625/625 [==============================] - 64s 103ms/step - loss: 0.2212 - accuracy: 0.9118 - val_loss: 0.3040 - val_accuracy: 0.8742\n",
      "Epoch 7/10\n",
      "625/625 [==============================] - 63s 101ms/step - loss: 0.2110 - accuracy: 0.9179 - val_loss: 0.3061 - val_accuracy: 0.8776\n",
      "Epoch 8/10\n",
      "625/625 [==============================] - 64s 102ms/step - loss: 0.2001 - accuracy: 0.9215 - val_loss: 0.3033 - val_accuracy: 0.8766\n",
      "Epoch 9/10\n",
      "625/625 [==============================] - 64s 102ms/step - loss: 0.1896 - accuracy: 0.9234 - val_loss: 0.3275 - val_accuracy: 0.8710\n",
      "Epoch 10/10\n",
      "625/625 [==============================] - 64s 103ms/step - loss: 0.1797 - accuracy: 0.9306 - val_loss: 0.3673 - val_accuracy: 0.8686\n"
     ]
    },
    {
     "data": {
      "text/plain": [
       "<keras.src.callbacks.History at 0x7f49e80b61c0>"
      ]
     },
     "execution_count": 29,
     "metadata": {},
     "output_type": "execute_result"
    }
   ],
   "source": [
    "callbacks = [\n",
    "    tf.keras.callbacks.ModelCheckpoint(\n",
    "        str(base_dir / \"glove_embeddings_sequence_model.h5\"),\n",
    "        save_best_only=True\n",
    "    )\n",
    "]\n",
    "model.fit(\n",
    "    int_train_ds,\n",
    "    validation_data=int_val_ds,\n",
    "    epochs=10,\n",
    "    callbacks=callbacks\n",
    ")"
   ]
  },
  {
   "cell_type": "code",
   "execution_count": 30,
   "metadata": {
    "slideshow": {
     "slide_type": "skip"
    }
   },
   "outputs": [
    {
     "name": "stdout",
     "output_type": "stream",
     "text": [
      "Test acc: 0.867\n"
     ]
    }
   ],
   "source": [
    "# annoyance: in TF 2.13, this model fails to load in .h5 format, whilst it also fails to train when using\n",
    "# the ModelCheckpoint with `save_best_only`...\n",
    "# model = tf.keras.models.load_model(base_dir / \"glove_embeddings_sequence_model.h5\")\n",
    "print(f\"Test acc: {model.evaluate(int_test_ds, verbose=0)[1]:.3f}\")"
   ]
  },
  {
   "cell_type": "markdown",
   "metadata": {
    "slideshow": {
     "slide_type": "slide"
    }
   },
   "source": [
    "---\n",
    "\n",
    "### NLP libraries & tools in Python\n",
    "\n",
    "#### NLTK: the Natural Language Toolkit\n",
    "\n",
    "NLTK is a leading platform for building Python programs to work with human language data ([website](https://www.nltk.org/)).\n",
    "\n",
    "#### Gensim\n",
    "\n",
    "Perhaps the best dedicated library for word vectors & similar text processing tools ([website](https://radimrehurek.com/gensim/index.html)).\n",
    "\n",
    "#### spaCy\n",
    "\n",
    "A a free open-source library for Natural Language Processing in Python ([website](https://spacy.io/))."
   ]
  },
  {
   "cell_type": "markdown",
   "metadata": {
    "slideshow": {
     "slide_type": "slide"
    }
   },
   "source": [
    "## Summary\n",
    "\n",
    "### Word embbeddings\n",
    "\n",
    "- **Various kinds of word encodings**:\n",
    "  - **one-hot/multi-hot**: the presence of words is marked by a 1 (binary) → *sparse* & *hard-coded*\n",
    "  - **word embeddings**: project words/tokens into vector spaces where collocations between words (\"the company a word keeps\") are modeled as the distance between vectors. → *dense* & *learnt from data*\n",
    "- Two most important embedding models\n",
    "    - **Word2Vec** from Google\n",
    "    - **GloVe** from Stanford\n",
    "- **Embedding layers** can be trained end to end with your net!\n",
    "- **Pretrained embeddings** can also be used on top of your own models, like pretrained networks!\n",
    "  "
   ]
  }
 ],
 "metadata": {
  "celltoolbar": "Slideshow",
  "colab": {
   "collapsed_sections": [],
   "name": "chapter11_part02_sequence-models.i",
   "private_outputs": false,
   "provenance": [],
   "toc_visible": true
  },
  "kernelspec": {
   "display_name": "Python 3 (ipykernel)",
   "language": "python",
   "name": "python3"
  },
  "language_info": {
   "codemirror_mode": {
    "name": "ipython",
    "version": 3
   },
   "file_extension": ".py",
   "mimetype": "text/x-python",
   "name": "python",
   "nbconvert_exporter": "python",
   "pygments_lexer": "ipython3",
   "version": "3.9.15"
  }
 },
 "nbformat": 4,
 "nbformat_minor": 4
}
