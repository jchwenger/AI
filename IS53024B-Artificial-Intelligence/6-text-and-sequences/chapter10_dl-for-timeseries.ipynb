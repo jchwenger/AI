{
 "cells": [
  {
   "cell_type": "markdown",
   "metadata": {
    "slideshow": {
     "slide_type": "slide"
    }
   },
   "source": [
    "# Attendance\n",
    "\n",
    "[The link to SEAts](https://goldsmithscollege.sharepoint.com/sites/intranet-supporting-students/SitePages/SEAtS--QR-codes-for-check-in.aspx?utm_campaign=SEAtS%20reminder%2027.09.22&utm_source=emailCampaign&utm_content=&utm_medium=email)"
   ]
  },
  {
   "cell_type": "markdown",
   "metadata": {
    "slideshow": {
     "slide_type": "slide"
    }
   },
   "source": [
    "# Today\n",
    "\n",
    "- ## RNNs\n",
    "- ## NLP toolkit (text vectorisation, word embeddings)\n",
    "- ## Transformers"
   ]
  },
  {
   "cell_type": "markdown",
   "metadata": {
    "slideshow": {
     "slide_type": "slide"
    }
   },
   "source": [
    "# 10 Deep learning for timeseries"
   ]
  },
  {
   "cell_type": "code",
   "execution_count": 1,
   "metadata": {
    "slideshow": {
     "slide_type": "fragment"
    }
   },
   "outputs": [],
   "source": [
    "import os, sys, pathlib\n",
    "import numpy as np\n",
    "\n",
    "from matplotlib import pyplot as plt\n",
    "from IPython.display import YouTubeVideo\n",
    "\n",
    "import tensorflow as tf"
   ]
  },
  {
   "cell_type": "code",
   "execution_count": 6,
   "metadata": {
    "slideshow": {
     "slide_type": "skip"
    }
   },
   "outputs": [],
   "source": [
    "# reminder: Colab code to mount your drive\n",
    "if 'google.colab' in sys.modules:\n",
    "    from google.colab import drive\n",
    "    drive.mount('/content/drive') # 'My Drive' is the default name of Google Drives, change the rest accordingly!\n",
    "    os.chdir('drive/My Drive/IS53024B-Artificial-Intelligence/6-text-and-sequences') \n",
    "    os.listdir() "
   ]
  },
  {
   "cell_type": "markdown",
   "metadata": {
    "slideshow": {
     "slide_type": "slide"
    }
   },
   "source": [
    "---\n",
    "\n",
    "## 10.2 A temperature-forecasting example"
   ]
  },
  {
   "cell_type": "markdown",
   "metadata": {
    "slideshow": {
     "slide_type": "skip"
    }
   },
   "source": [
    "Download the data\n",
    "```bash\n",
    "!wget https://s3.amazonaws.com/keras-datasets/jena_climate_2009_2016.csv.zip\n",
    "!unzip jena_climate_2009_2016.csv.zip\n",
    "```"
   ]
  },
  {
   "cell_type": "markdown",
   "metadata": {
    "slideshow": {
     "slide_type": "slide"
    }
   },
   "source": [
    "#### Inspecting the data of the Jena weather dataset"
   ]
  },
  {
   "cell_type": "code",
   "execution_count": 16,
   "metadata": {
    "slideshow": {
     "slide_type": "fragment"
    }
   },
   "outputs": [
    {
     "name": "stdout",
     "output_type": "stream",
     "text": [
      "0  | \"Date Time\"\n",
      "1  | \"p (mbar)\"\n",
      "2  | \u001b[1;3m\"T (degC)\" ← temperature in °C\u001b[0m\n",
      "3  | \"Tpot (K)\"\n",
      "4  | \"Tdew (degC)\"\n",
      "5  | \"rh (%)\"\n",
      "6  | \"VPmax (mbar)\"\n",
      "7  | \"VPact (mbar)\"\n",
      "8  | \"VPdef (mbar)\"\n",
      "9  | \"sh (g/kg)\"\n",
      "10 | \"H2OC (mmol/mol)\"\n",
      "11 | \"rho (g/m**3)\"\n",
      "12 | \"wv (m/s)\"\n",
      "13 | \"max. wv (m/s)\"\n",
      "14 | \"wd (deg)\"\n",
      "\n",
      "420451 lines\n"
     ]
    }
   ],
   "source": [
    "base_dir = pathlib.Path(\"jena\")\n",
    "fname = base_dir / \"jena_climate_2009_2016.csv\"\n",
    "\n",
    "with open(fname) as f:\n",
    "    data = f.read()\n",
    "\n",
    "lines = data.split(\"\\n\")\n",
    "header = lines[0].split(\",\")\n",
    "lines = lines[1:]\n",
    "for i, feature in enumerate(header):\n",
    "    if feature == '\"T (degC)\"':\n",
    "        print(f\"{i:<2} | \\033[1;3m{feature} ← temperature in °C\\033[0m\")\n",
    "    else:\n",
    "        print(f\"{i:<2} | {feature}\")\n",
    "\n",
    "print()\n",
    "print(f\"{len(lines)} lines\")"
   ]
  },
  {
   "cell_type": "markdown",
   "metadata": {
    "slideshow": {
     "slide_type": "skip"
    }
   },
   "source": [
    "#### Parsing the data"
   ]
  },
  {
   "cell_type": "code",
   "execution_count": 17,
   "metadata": {
    "slideshow": {
     "slide_type": "skip"
    }
   },
   "outputs": [
    {
     "name": "stdout",
     "output_type": "stream",
     "text": [
      "loading numpy files\n"
     ]
    }
   ],
   "source": [
    "temperature = np.zeros((len(lines),))\n",
    "raw_data = np.zeros((len(lines), len(header) - 1))   # (len minus the date)\n",
    "\n",
    "if not os.path.isfile(base_dir / \"temperature.npy\") and not os.path.isfile(base_dir / \"raw_data.npz\"):\n",
    "    print(\"loading dataset\")\n",
    "    for i, line in enumerate(lines):\n",
    "        print(f\"line {i}/{len(lines)}\\r\", end=\"\")\n",
    "        values = [float(x) for x in line.split(\",\")[1:]] # (don't take the date)\n",
    "        temperature[i] = values[1]                       # temperature at index 1\n",
    "        raw_data[i, :] = values[:]\n",
    "    np.save(base_dir / \"temperature.npy\", temperature)   # save as binary data\n",
    "    np.save(base_dir / \"raw_data.npy\", raw_data)         # (much faster reloads)\n",
    "else:\n",
    "    print(\"loading numpy files\")    \n",
    "    temperature = np.load(base_dir / \"temperature.npy\")\n",
    "    raw_data = np.load(base_dir / \"raw_data.npy\")"
   ]
  },
  {
   "cell_type": "markdown",
   "metadata": {
    "slideshow": {
     "slide_type": "subslide"
    }
   },
   "source": [
    "#### Plotting the temperature timeseries"
   ]
  },
  {
   "cell_type": "code",
   "execution_count": 10,
   "metadata": {
    "slideshow": {
     "slide_type": "fragment"
    }
   },
   "outputs": [
    {
     "data": {
      "text/plain": [
       "[<matplotlib.lines.Line2D at 0x7f0307286190>]"
      ]
     },
     "execution_count": 10,
     "metadata": {},
     "output_type": "execute_result"
    },
    {
     "data": {
      "image/png": "[encoded data removed]",
      "text/plain": [
       "<Figure size 640x480 with 1 Axes>"
      ]
     },
     "metadata": {},
     "output_type": "display_data"
    }
   ],
   "source": [
    "plt.plot(range(len(temperature)), temperature) # globally cyclical"
   ]
  },
  {
   "cell_type": "markdown",
   "metadata": {
    "slideshow": {
     "slide_type": "subslide"
    }
   },
   "source": [
    "#### Plotting the first 10 days of the temperature timeseries"
   ]
  },
  {
   "cell_type": "code",
   "execution_count": 11,
   "metadata": {
    "slideshow": {
     "slide_type": "fragment"
    }
   },
   "outputs": [
    {
     "data": {
      "text/plain": [
       "[<matplotlib.lines.Line2D at 0x7f0306a4cc50>]"
      ]
     },
     "execution_count": 11,
     "metadata": {},
     "output_type": "execute_result"
    },
    {
     "data": {
      "image/png": "[encoded data removed]",
      "text/plain": [
       "<Figure size 640x480 with 1 Axes>"
      ]
     },
     "metadata": {},
     "output_type": "display_data"
    }
   ],
   "source": [
    "plt.plot(range(1440), temperature[:1440]) # locally much less so"
   ]
  },
  {
   "cell_type": "markdown",
   "metadata": {
    "slideshow": {
     "slide_type": "subslide"
    }
   },
   "source": [
    "#### Computing the number of samples we'll use for each data split"
   ]
  },
  {
   "cell_type": "code",
   "execution_count": 7,
   "metadata": {
    "slideshow": {
     "slide_type": "fragment"
    }
   },
   "outputs": [
    {
     "name": "stdout",
     "output_type": "stream",
     "text": [
      "num_train_samples: 210225\n",
      "num_val_samples: 105112\n",
      "num_test_samples: 105114\n"
     ]
    }
   ],
   "source": [
    "num_train_samples = int(0.5 * len(raw_data))\n",
    "num_val_samples = int(0.25 * len(raw_data))\n",
    "num_test_samples = len(raw_data) - num_train_samples - num_val_samples\n",
    "print(\"num_train_samples:\", num_train_samples)\n",
    "print(\"num_val_samples:\", num_val_samples)\n",
    "print(\"num_test_samples:\", num_test_samples)"
   ]
  },
  {
   "cell_type": "markdown",
   "metadata": {
    "slideshow": {
     "slide_type": "slide"
    }
   },
   "source": [
    "---\n",
    "\n",
    "### 10.2.1 Preparing the data"
   ]
  },
  {
   "cell_type": "markdown",
   "metadata": {
    "slideshow": {
     "slide_type": "fragment"
    }
   },
   "source": [
    "#### Normalizing the data"
   ]
  },
  {
   "cell_type": "code",
   "execution_count": 8,
   "metadata": {
    "slideshow": {
     "slide_type": "fragment"
    }
   },
   "outputs": [],
   "source": [
    "mean = raw_data[:num_train_samples].mean(axis=0) # we use the train data only to normalise\n",
    "raw_data -= mean\n",
    "std = raw_data[:num_train_samples].std(axis=0)\n",
    "raw_data /= std"
   ]
  },
  {
   "cell_type": "markdown",
   "metadata": {
    "slideshow": {
     "slide_type": "subslide"
    }
   },
   "source": [
    "What will our dataset look like? A sequence, and a next step.\n",
    "\n",
    "Documentation for [`tf.keras.utils.timeseries_dataset_from_array`](https://www.tensorflow.org/api_docs/python/tf/keras/utils/timeseries_dataset_from_array)."
   ]
  },
  {
   "cell_type": "code",
   "execution_count": 5,
   "metadata": {
    "slideshow": {
     "slide_type": "fragment"
    }
   },
   "outputs": [
    {
     "name": "stdout",
     "output_type": "stream",
     "text": [
      "----------------------------------------\n",
      "[0, 1, 2] 3\n",
      "[1, 2, 3] 4\n",
      "----------------------------------------\n",
      "[2, 3, 4] 5\n",
      "[3, 4, 5] 6\n",
      "----------------------------------------\n",
      "[4, 5, 6] 7\n"
     ]
    }
   ],
   "source": [
    "int_sequence = np.arange(10)\n",
    "dummy_dataset = tf.keras.utils.timeseries_dataset_from_array(\n",
    "    data=int_sequence[:-3],   # given our length, stop 3 before the end\n",
    "    targets=int_sequence[3:], # the first target will be at the fourth element\n",
    "    sequence_length=3,\n",
    "    batch_size=2,\n",
    ")\n",
    "\n",
    "for inputs, targets in dummy_dataset:\n",
    "    print(\"-\"*40)\n",
    "    for i in range(inputs.shape[0]):\n",
    "        print([int(x) for x in inputs[i]], int(targets[i]))"
   ]
  },
  {
   "cell_type": "markdown",
   "metadata": {
    "slideshow": {
     "slide_type": "subslide"
    }
   },
   "source": [
    "#### Instantiating datasets for training, validation, and testing"
   ]
  },
  {
   "cell_type": "code",
   "execution_count": 9,
   "metadata": {
    "slideshow": {
     "slide_type": "fragment"
    }
   },
   "outputs": [],
   "source": [
    "sampling_rate = 6                                  # in the data, one sample every 10 mins: x 6 → one per hour\n",
    "sequence_length = 120                              # the length of our sequence is 5 days (120 hours)\n",
    "delay = sampling_rate * (sequence_length + 24 - 1) # target is 24h after the end of the sequence (one day after)\n",
    "batch_size = 256\n",
    "\n",
    "train_dataset = tf.keras.utils.timeseries_dataset_from_array(\n",
    "    raw_data[:-delay],           # not beyond `delay` steps before the end (that's our targets)\n",
    "    targets=temperature[delay:], # first traget will start at `delay` step after the start\n",
    "    sampling_rate=sampling_rate,\n",
    "    sequence_length=sequence_length,\n",
    "    shuffle=True,\n",
    "    batch_size=batch_size,\n",
    "    start_index=0,\n",
    "    end_index=num_train_samples\n",
    ")\n",
    "\n",
    "val_dataset = tf.keras.utils.timeseries_dataset_from_array(\n",
    "    raw_data[:-delay],\n",
    "    targets=temperature[delay:],\n",
    "    sampling_rate=sampling_rate,\n",
    "    sequence_length=sequence_length,\n",
    "    shuffle=True,\n",
    "    batch_size=batch_size,\n",
    "    start_index=num_train_samples,                           # start after train\n",
    "    end_index=num_train_samples + num_val_samples\n",
    ")\n",
    "\n",
    "test_dataset = tf.keras.utils.timeseries_dataset_from_array(\n",
    "    raw_data[:-delay],\n",
    "    targets=temperature[delay:],\n",
    "    sampling_rate=sampling_rate,\n",
    "    sequence_length=sequence_length,\n",
    "    shuffle=True,\n",
    "    batch_size=batch_size,\n",
    "    start_index=num_train_samples + num_val_samples         # start after train & val\n",
    ")"
   ]
  },
  {
   "cell_type": "markdown",
   "metadata": {
    "slideshow": {
     "slide_type": "subslide"
    }
   },
   "source": [
    "#### Inspecting the output of one of our datasets"
   ]
  },
  {
   "cell_type": "code",
   "execution_count": 32,
   "metadata": {
    "slideshow": {
     "slide_type": "fragment"
    }
   },
   "outputs": [
    {
     "name": "stdout",
     "output_type": "stream",
     "text": [
      "samples shape: (256, 120, 14)\n",
      "targets shape: (256,)\n"
     ]
    }
   ],
   "source": [
    "for samples, targets in train_dataset:\n",
    "    print(\"samples shape:\", samples.shape)\n",
    "    print(\"targets shape:\", targets.shape)\n",
    "    break"
   ]
  },
  {
   "cell_type": "markdown",
   "metadata": {
    "slideshow": {
     "slide_type": "slide"
    }
   },
   "source": [
    "---\n",
    "\n",
    "### 10.2.2 A common-sense, non-machine-learning baseline\n",
    "\n",
    "What would that look like for continuous data, like temperature?\n",
    "\n",
    "The assumption that Chollet makes is that there will be cycles of 24h (days!).\n",
    "\n",
    "The temperature 24 hours in the future is likely close to the temperature now.\n",
    "\n",
    "(Maybe a dubious assumption for UK weather?!)\n",
    "\n",
    "This is similar to the Boston Housing dataset example we had: calculate the Mean Absolute Error (MAE)."
   ]
  },
  {
   "cell_type": "markdown",
   "metadata": {
    "slideshow": {
     "slide_type": "subslide"
    }
   },
   "source": [
    "#### Computing the common-sense baseline MAE"
   ]
  },
  {
   "cell_type": "code",
   "execution_count": 33,
   "metadata": {
    "slideshow": {
     "slide_type": "fragment"
    }
   },
   "outputs": [
    {
     "name": "stdout",
     "output_type": "stream",
     "text": [
      "Validation MAE: 2.44\n",
      "Test MAE: 2.62\n"
     ]
    }
   ],
   "source": [
    "def evaluate_naive_method(dataset):\n",
    "    \"\"\"Evaluation: the target (in 24h) is identical to the last temperature measurement\"\"\"\n",
    "    total_abs_err = 0.\n",
    "    samples_seen = 0\n",
    "    for samples, targets in dataset:\n",
    "        #                   ┌ (the last sample, as our shape is: [samples, step, feature])\n",
    "        #                   ↓ (↓ feature at index 1: temperature) \n",
    "        preds = samples[:, -1, 1] * std[1] + mean[1]     # unnormalize, same mean/std as in training\n",
    "        total_abs_err += np.sum(np.abs(preds - targets)) # absolute distance between current & in 24h\n",
    "        samples_seen += samples.shape[0]\n",
    "    return total_abs_err / samples_seen\n",
    "\n",
    "print(f\"Validation MAE: {evaluate_naive_method(val_dataset):.2f}\")\n",
    "print(f\"Test MAE: {evaluate_naive_method(test_dataset):.2f}\")"
   ]
  },
  {
   "cell_type": "markdown",
   "metadata": {
    "slideshow": {
     "slide_type": "subslide"
    }
   },
   "source": [
    "Can we beat this baseline? \n",
    "\n",
    "A common sense baseline is essential – otherwise we cannot calibrate the performance of any model.\n",
    "\n",
    "An ML baseline – a simple, cheap model – is also useful.\n",
    "\n",
    "Our focus is: **are sophisticated models worth the extra computational effort?**"
   ]
  },
  {
   "cell_type": "markdown",
   "metadata": {
    "slideshow": {
     "slide_type": "slide"
    }
   },
   "source": [
    "---\n",
    "### 10.2.3 Let's try a basic machine-learning model\n",
    "\n",
    "Our baseline model is a two layer (plus flattening layer) fully-connected feedforward network.\n",
    "\n",
    "#### Regression task\n",
    "\n",
    "The final layer has a single unit without activation.\n",
    "\n",
    "#### Loss\n",
    "Mean Squared Error (MSE)\n",
    "\n",
    "#### Metric\n",
    "\n",
    "Mean Average Error, so results are directly comparable to the common-sense baseline."
   ]
  },
  {
   "cell_type": "markdown",
   "metadata": {
    "slideshow": {
     "slide_type": "subslide"
    }
   },
   "source": [
    "#### Training and evaluating a densely connected model"
   ]
  },
  {
   "cell_type": "code",
   "execution_count": 14,
   "metadata": {
    "slideshow": {
     "slide_type": "fragment"
    }
   },
   "outputs": [],
   "source": [
    "inputs = tf.keras.Input(shape=(sequence_length, raw_data.shape[-1]))\n",
    "x = tf.keras.layers.Flatten()(inputs)\n",
    "x = tf.keras.layers.Dense(16, activation=\"relu\")(x)\n",
    "outputs = tf.keras.layers.Dense(1)(x)\n",
    "model = tf.keras.Model(inputs, outputs)"
   ]
  },
  {
   "cell_type": "code",
   "execution_count": 15,
   "metadata": {
    "slideshow": {
     "slide_type": "subslide"
    }
   },
   "outputs": [
    {
     "name": "stdout",
     "output_type": "stream",
     "text": [
      "Epoch 1/10\n",
      "819/819 [==============================] - 32s 36ms/step - loss: 14.2468 - mae: 2.9106 - val_loss: 11.7265 - val_mae: 2.7297\n",
      "Epoch 2/10\n",
      "819/819 [==============================] - 30s 37ms/step - loss: 9.9664 - mae: 2.4799 - val_loss: 10.4011 - val_mae: 2.5661\n",
      "Epoch 3/10\n",
      "819/819 [==============================] - 29s 36ms/step - loss: 9.1302 - mae: 2.3762 - val_loss: 11.1691 - val_mae: 2.6599\n",
      "Epoch 4/10\n",
      "819/819 [==============================] - 30s 37ms/step - loss: 8.5962 - mae: 2.3059 - val_loss: 10.6564 - val_mae: 2.5854\n",
      "Epoch 5/10\n",
      "819/819 [==============================] - 27s 33ms/step - loss: 8.2119 - mae: 2.2572 - val_loss: 13.5933 - val_mae: 2.9318\n",
      "Epoch 6/10\n",
      "819/819 [==============================] - 28s 34ms/step - loss: 7.9283 - mae: 2.2196 - val_loss: 10.4336 - val_mae: 2.5704\n",
      "Epoch 7/10\n",
      "819/819 [==============================] - 28s 34ms/step - loss: 7.7084 - mae: 2.1909 - val_loss: 10.6691 - val_mae: 2.5969\n",
      "Epoch 8/10\n",
      "819/819 [==============================] - 27s 33ms/step - loss: 7.5466 - mae: 2.1674 - val_loss: 10.6241 - val_mae: 2.5839\n",
      "Epoch 9/10\n",
      "819/819 [==============================] - 28s 33ms/step - loss: 7.3811 - mae: 2.1429 - val_loss: 12.8364 - val_mae: 2.8608\n",
      "Epoch 10/10\n",
      "819/819 [==============================] - 29s 35ms/step - loss: 7.2372 - mae: 2.1245 - val_loss: 11.0515 - val_mae: 2.6448\n"
     ]
    }
   ],
   "source": [
    "callbacks = [\n",
    "    tf.keras.callbacks.ModelCheckpoint(\n",
    "        base_dir / \"jena_dense.keras\",\n",
    "        save_best_only=True\n",
    "    )\n",
    "]\n",
    "\n",
    "model.compile(\n",
    "    optimizer=\"rmsprop\",\n",
    "    loss=\"mse\",\n",
    "    metrics=[\"mae\"]\n",
    ")\n",
    "\n",
    "history = model.fit(\n",
    "    train_dataset,\n",
    "    epochs=10,\n",
    "    validation_data=val_dataset,\n",
    "    callbacks=callbacks\n",
    ")"
   ]
  },
  {
   "cell_type": "code",
   "execution_count": 20,
   "metadata": {
    "slideshow": {
     "slide_type": "subslide"
    }
   },
   "outputs": [
    {
     "name": "stdout",
     "output_type": "stream",
     "text": [
      "405/405 [==============================] - 12s 28ms/step - loss: 11.7926 - mae: 2.6947\n",
      "Test MAE: 2.69\n"
     ]
    }
   ],
   "source": [
    "model = tf.keras.models.load_model(base_dir / \"jena_dense.keras\")\n",
    "print(f\"Test MAE: {model.evaluate(test_dataset)[1]:.2f}\")"
   ]
  },
  {
   "cell_type": "markdown",
   "metadata": {
    "slideshow": {
     "slide_type": "subslide"
    }
   },
   "source": [
    "We haven't beaten the common sense baseline!\n",
    "\n",
    "The model is worse than common sense.\n",
    "\n",
    "The machine is not privy to the wealth of human experiential evidence.\n",
    "\n",
    "But why hasn't the machine found our simple model: that tomorrow's temperature will be pretty similar to today's? \n"
   ]
  },
  {
   "cell_type": "markdown",
   "metadata": {
    "slideshow": {
     "slide_type": "subslide"
    }
   },
   "source": [
    "The hypothesis space is the space of all two layer networks.\n",
    "\n",
    "Already a very complicated space.\n",
    "\n",
    "The simple baseline might hidden in a tiny corner of this vast, intricate hypothesis space."
   ]
  },
  {
   "cell_type": "markdown",
   "metadata": {
    "slideshow": {
     "slide_type": "subslide"
    }
   },
   "source": [
    "ML limitation: parameter learning can fail to find a simple solution to a simple problem.\n",
    "\n",
    "Of course we could hard-code models to look for a specific kind of solution but we wish to avoid excessive feature engineering."
   ]
  },
  {
   "cell_type": "markdown",
   "metadata": {
    "slideshow": {
     "slide_type": "skip"
    }
   },
   "source": [
    "#### Plotting results"
   ]
  },
  {
   "cell_type": "code",
   "execution_count": 10,
   "metadata": {
    "slideshow": {
     "slide_type": "skip"
    }
   },
   "outputs": [],
   "source": [
    "def plot_history(history):\n",
    "    loss = history.history[\"mae\"]\n",
    "    val_loss = history.history[\"val_mae\"]\n",
    "    epochs = range(1, len(loss) + 1)\n",
    "    plt.figure()\n",
    "    plt.plot(epochs, loss, label=\"Training MAE\")\n",
    "    plt.plot(epochs, val_loss, label=\"Validation MAE\")\n",
    "    plt.title(\"Training and validation MAE\")\n",
    "    plt.legend()\n",
    "    plt.show()"
   ]
  },
  {
   "cell_type": "code",
   "execution_count": 22,
   "metadata": {
    "slideshow": {
     "slide_type": "skip"
    }
   },
   "outputs": [
    {
     "data": {
      "image/png": "[encoded data removed]",
      "text/plain": [
       "<Figure size 640x480 with 1 Axes>"
      ]
     },
     "metadata": {},
     "output_type": "display_data"
    }
   ],
   "source": [
    "plot_history(history)"
   ]
  },
  {
   "cell_type": "markdown",
   "metadata": {
    "slideshow": {
     "slide_type": "slide"
    }
   },
   "source": [
    "---\n",
    "\n",
    "### 10.2.4 Let's try a 1D convolutional model"
   ]
  },
  {
   "cell_type": "markdown",
   "metadata": {
    "slideshow": {
     "slide_type": "subslide"
    }
   },
   "source": [
    "Convnets extract and modularise salient 2D information from local patches.\n",
    "\n",
    "1D data – timeseries – might have similar local regularities.\n",
    "\n",
    "And then 1D convnets would provide a cheap alternative to RNNs."
   ]
  },
  {
   "cell_type": "markdown",
   "metadata": {
    "slideshow": {
     "slide_type": "subslide"
    }
   },
   "source": [
    "1D Pooling works just like 2D pooling – max (or average) pooling.\n",
    "\n",
    "Used for subsampling – reducing the length of 1D inputs."
   ]
  },
  {
   "cell_type": "markdown",
   "metadata": {
    "slideshow": {
     "slide_type": "subslide"
    }
   },
   "source": [
    "<!-- <img src=\"images/convolutions/1d-conv.png\"> -->\n",
    "<img src=\"https://drive.google.com/uc?id=15UzU-Vs6DsrNJokaXAoQJnIKAXukG4Le\">\n",
    "\n",
    "<small>[Castro et al., \"STConvS2S: Spatiotemporal Convolutional Sequence to Sequence Network for weather forecasting\", ResearchGate](https://www.researchgate.net/figure/Causal-convolution-operation-in-a-1D-convolutional-layer-with-k-3-kernel-size-Input_fig1_337703712)</small>"
   ]
  },
  {
   "cell_type": "code",
   "execution_count": 25,
   "metadata": {
    "slideshow": {
     "slide_type": "subslide"
    }
   },
   "outputs": [],
   "source": [
    "tf.keras.backend.clear_session()\n",
    "\n",
    "inputs = tf.keras.Input(shape=(sequence_length, raw_data.shape[-1]))\n",
    "# note the larger convolution window: 24\n",
    "x = tf.keras.layers.Conv1D(8, 24, activation=\"relu\")(inputs)\n",
    "x = tf.keras.layers.MaxPooling1D(2)(x)\n",
    "x = tf.keras.layers.Conv1D(8, 12, activation=\"relu\")(x)\n",
    "x = tf.keras.layers.MaxPooling1D(2)(x)\n",
    "x = tf.keras.layers.Conv1D(8, 6, activation=\"relu\")(x)\n",
    "x = tf.keras.layers.GlobalAveragePooling1D()(x)\n",
    "outputs = tf.keras.layers.Dense(1)(x)\n",
    "model = tf.keras.Model(inputs, outputs)"
   ]
  },
  {
   "cell_type": "code",
   "execution_count": 26,
   "metadata": {
    "slideshow": {
     "slide_type": "subslide"
    }
   },
   "outputs": [
    {
     "name": "stdout",
     "output_type": "stream",
     "text": [
      "Epoch 1/10\n",
      "819/819 [==============================] - 37s 42ms/step - loss: 22.6764 - mae: 3.7402 - val_loss: 17.2227 - val_mae: 3.3239\n",
      "Epoch 2/10\n",
      "819/819 [==============================] - 30s 37ms/step - loss: 15.8596 - mae: 3.1847 - val_loss: 17.1841 - val_mae: 3.2985\n",
      "Epoch 3/10\n",
      "819/819 [==============================] - 33s 40ms/step - loss: 14.5838 - mae: 3.0461 - val_loss: 14.8074 - val_mae: 3.0218\n",
      "Epoch 4/10\n",
      "819/819 [==============================] - 32s 38ms/step - loss: 13.6190 - mae: 2.9363 - val_loss: 19.1734 - val_mae: 3.4623\n",
      "Epoch 5/10\n",
      "819/819 [==============================] - 28s 33ms/step - loss: 12.9764 - mae: 2.8631 - val_loss: 14.3195 - val_mae: 2.9808\n",
      "Epoch 6/10\n",
      "819/819 [==============================] - 31s 38ms/step - loss: 12.4982 - mae: 2.8070 - val_loss: 19.2121 - val_mae: 3.4513\n",
      "Epoch 7/10\n",
      "819/819 [==============================] - 31s 38ms/step - loss: 12.1809 - mae: 2.7697 - val_loss: 15.7789 - val_mae: 3.1094\n",
      "Epoch 8/10\n",
      "819/819 [==============================] - 30s 36ms/step - loss: 11.8297 - mae: 2.7270 - val_loss: 14.5724 - val_mae: 2.9841\n",
      "Epoch 9/10\n",
      "819/819 [==============================] - 30s 36ms/step - loss: 11.5054 - mae: 2.6890 - val_loss: 15.5491 - val_mae: 3.1048\n",
      "Epoch 10/10\n",
      "819/819 [==============================] - 29s 35ms/step - loss: 11.2578 - mae: 2.6617 - val_loss: 13.9782 - val_mae: 2.9344\n"
     ]
    }
   ],
   "source": [
    "callbacks = [\n",
    "    tf.keras.callbacks.ModelCheckpoint(\n",
    "        base_dir / \"jena_conv.keras\",\n",
    "        save_best_only=True\n",
    "    )\n",
    "]\n",
    "\n",
    "model.compile(\n",
    "    optimizer=\"rmsprop\",\n",
    "    loss=\"mse\",\n",
    "    metrics=[\"mae\"]\n",
    ")\n",
    "\n",
    "history = model.fit(\n",
    "    train_dataset,\n",
    "    epochs=10,\n",
    "    validation_data=val_dataset,\n",
    "    callbacks=callbacks\n",
    ")"
   ]
  },
  {
   "cell_type": "code",
   "execution_count": 27,
   "metadata": {
    "slideshow": {
     "slide_type": "skip"
    }
   },
   "outputs": [
    {
     "data": {
      "image/png": "[encoded data removed]",
      "text/plain": [
       "<Figure size 640x480 with 1 Axes>"
      ]
     },
     "metadata": {},
     "output_type": "display_data"
    }
   ],
   "source": [
    "plot_history(history)"
   ]
  },
  {
   "cell_type": "code",
   "execution_count": 24,
   "metadata": {
    "scrolled": true,
    "slideshow": {
     "slide_type": "subslide"
    }
   },
   "outputs": [
    {
     "name": "stdout",
     "output_type": "stream",
     "text": [
      "405/405 [==============================] - 14s 25ms/step - loss: 14.8517 - mae: 3.0467\n",
      "Test MAE: 3.05\n"
     ]
    }
   ],
   "source": [
    "model = tf.keras.models.load_model(base_dir / \"jena_conv.keras\")\n",
    "print(f\"Test MAE: {model.evaluate(test_dataset)[1]:.2f}\")\n",
    "del model # Not as good performance as the baseline or RNNs/LSTMs, but cheaper to run!"
   ]
  },
  {
   "cell_type": "markdown",
   "metadata": {
    "slideshow": {
     "slide_type": "slide"
    }
   },
   "source": [
    "---\n",
    "\n",
    "### 10.2.5 A first recurrent baseline\n",
    "\n",
    "Perhaps causality and order matter (weather is not actually random, but follows day-by-day patterns).\n",
    "\n",
    "We need an order-preserving model – an RNN."
   ]
  },
  {
   "cell_type": "markdown",
   "metadata": {
    "slideshow": {
     "slide_type": "subslide"
    }
   },
   "source": [
    "#### A simple LSTM-based model"
   ]
  },
  {
   "cell_type": "code",
   "execution_count": 28,
   "metadata": {
    "slideshow": {
     "slide_type": "fragment"
    }
   },
   "outputs": [],
   "source": [
    "tf.keras.backend.clear_session()\n",
    "\n",
    "inputs = tf.keras.Input(shape=(sequence_length, raw_data.shape[-1]))\n",
    "x = tf.keras.layers.LSTM(16)(inputs) # ← our LSTM\n",
    "outputs = tf.keras.layers.Dense(1)(x)\n",
    "model = tf.keras.Model(inputs, outputs)"
   ]
  },
  {
   "cell_type": "code",
   "execution_count": 29,
   "metadata": {
    "slideshow": {
     "slide_type": "subslide"
    }
   },
   "outputs": [
    {
     "name": "stdout",
     "output_type": "stream",
     "text": [
      "Epoch 1/10\n",
      "819/819 [==============================] - 38s 39ms/step - loss: 37.2632 - mae: 4.4338 - val_loss: 11.6923 - val_mae: 2.6286\n",
      "Epoch 2/10\n",
      "819/819 [==============================] - 34s 41ms/step - loss: 10.9944 - mae: 2.5781 - val_loss: 9.6755 - val_mae: 2.4259\n",
      "Epoch 3/10\n",
      "819/819 [==============================] - 32s 39ms/step - loss: 9.9950 - mae: 2.4591 - val_loss: 9.8242 - val_mae: 2.4123\n",
      "Epoch 4/10\n",
      "819/819 [==============================] - 30s 36ms/step - loss: 9.6236 - mae: 2.4104 - val_loss: 9.2215 - val_mae: 2.3570\n",
      "Epoch 5/10\n",
      "819/819 [==============================] - 32s 39ms/step - loss: 9.3747 - mae: 2.3749 - val_loss: 9.2315 - val_mae: 2.3612\n",
      "Epoch 6/10\n",
      "819/819 [==============================] - 33s 39ms/step - loss: 9.1929 - mae: 2.3506 - val_loss: 9.3484 - val_mae: 2.3779\n",
      "Epoch 7/10\n",
      "819/819 [==============================] - 32s 39ms/step - loss: 9.0145 - mae: 2.3268 - val_loss: 9.4529 - val_mae: 2.3904\n",
      "Epoch 8/10\n",
      "819/819 [==============================] - 32s 39ms/step - loss: 8.8537 - mae: 2.3037 - val_loss: 9.8329 - val_mae: 2.4416\n",
      "Epoch 9/10\n",
      "819/819 [==============================] - 33s 40ms/step - loss: 8.7064 - mae: 2.2883 - val_loss: 9.7270 - val_mae: 2.4251\n",
      "Epoch 10/10\n",
      "819/819 [==============================] - 33s 40ms/step - loss: 8.5762 - mae: 2.2726 - val_loss: 10.0316 - val_mae: 2.4710\n"
     ]
    }
   ],
   "source": [
    "callbacks = [\n",
    "    tf.keras.callbacks.ModelCheckpoint(\n",
    "        base_dir / \"jena_lstm.keras\",\n",
    "        save_best_only=True\n",
    "    )\n",
    "]\n",
    "model.compile(optimizer=\"rmsprop\", loss=\"mse\", metrics=[\"mae\"])\n",
    "history = model.fit(\n",
    "    train_dataset,\n",
    "    epochs=10,\n",
    "    validation_data=val_dataset,\n",
    "    callbacks=callbacks\n",
    ")"
   ]
  },
  {
   "cell_type": "code",
   "execution_count": 30,
   "metadata": {
    "slideshow": {
     "slide_type": "subslide"
    }
   },
   "outputs": [
    {
     "data": {
      "image/png": "[encoded data removed]",
      "text/plain": [
       "<Figure size 640x480 with 1 Axes>"
      ]
     },
     "metadata": {},
     "output_type": "display_data"
    }
   ],
   "source": [
    "plot_history(history)"
   ]
  },
  {
   "cell_type": "code",
   "execution_count": 28,
   "metadata": {
    "scrolled": true,
    "slideshow": {
     "slide_type": "subslide"
    }
   },
   "outputs": [
    {
     "name": "stdout",
     "output_type": "stream",
     "text": [
      "405/405 [==============================] - 13s 29ms/step - loss: 10.7969 - mae: 2.5951\n",
      "Test MAE: 2.60\n"
     ]
    }
   ],
   "source": [
    "model = tf.keras.models.load_model(base_dir / \"jena_lstm.keras\")\n",
    "print(f\"Test MAE: {model.evaluate(test_dataset)[1]:.2f}\")"
   ]
  },
  {
   "cell_type": "markdown",
   "metadata": {
    "slideshow": {
     "slide_type": "slide"
    }
   },
   "source": [
    "---\n",
    "\n",
    "## 10.3 Understanding recurrent neural networks\n",
    "\n",
    "The dense, fully connected layers and the convnet layers have no memory.\n",
    "\n",
    "These feedforward networks process each input in turn with no information transfer.\n",
    "\n",
    "A recurrent neural network (RNN) retains information of past inputs."
   ]
  },
  {
   "cell_type": "markdown",
   "metadata": {
    "slideshow": {
     "slide_type": "subslide"
    }
   },
   "source": [
    "The RNN has a **feedback loop**, and the **parameters are shared** (the same at each iteration).\n",
    "\n",
    "(Saves a lot of parameters, like in CNNs.)\n",
    "\n",
    "<!-- ![RNN unrolled](images/rnn/RNN-unrolled.png) -->\n",
    "![RNN unrolled](https://drive.google.com/uc?id=1PquEvBt7rHv7I3XJxHTI8uV9YxvBa-B0)\n",
    "\n",
    "<small>[Olah, \"Understanding LSTM Networks\"](https://colah.github.io/posts/2015-08-Understanding-LSTMs/)</small>"
   ]
  },
  {
   "cell_type": "markdown",
   "metadata": {
    "slideshow": {
     "slide_type": "subslide"
    }
   },
   "source": [
    "\n",
    "The activation $h_{t-1}$ at time $t-1$ is fed back to the input and combined with the new input $x_t$, at time $t$.\n",
    "\n",
    "The previous activation (layer output) is called the **state** of the unit."
   ]
  },
  {
   "cell_type": "markdown",
   "metadata": {
    "slideshow": {
     "slide_type": "subslide"
    }
   },
   "source": [
    "The previous activation/state is weighted and the network learns correlations with earlier inputs by adjusting these weights, in the usual manner.\n",
    "\n",
    "Here, we imagine that sequence terms $x_1, x_2, x_3, \\ldots$ etc. occur at successive times, (even if the sequence is not chronological).\n",
    "\n",
    "Previously, in a feed forward networks, the entire sequence (review) was treated as a single input vector!\n",
    "\n",
    "#### Note\n",
    "\n",
    "The state is reset before a new sequence is processed (if don't do that your RNN is called **stateful**).\n"
   ]
  },
  {
   "cell_type": "markdown",
   "metadata": {
    "slideshow": {
     "slide_type": "subslide"
    }
   },
   "source": [
    "<!-- <img style=\"height:750px\" src=\"images/rnn/mit.rnn.png\"> -->\n",
    "<img style=\"height:750px\" src=\"https://drive.google.com/uc?id=1Sd1CD6t25ME7EWHla4SoCHBUDQQ7P4La\">\n",
    "\n",
    "<small>[Ava Soleimany, MIT 6.S191 (2021): Recurrent Neural Networks](https://www.youtube.com/watch?v=qjrad0V0uJE)</small>"
   ]
  },
  {
   "cell_type": "markdown",
   "metadata": {
    "slideshow": {
     "slide_type": "subslide"
    }
   },
   "source": [
    "##### The standard recurrent layer\n",
    "\n",
    "There are two inputs: the **current input**, $x_t$, and the **previous state**, $h_{t-1}$.\n",
    "\n",
    "The state (= activation) of the RNN layer is:\n",
    "\n",
    "$$\n",
    "\\bbox[5px,border:2px solid red]\n",
    "{\n",
    "\\begin{align*}\n",
    "h_t &= f(W \\cdot x_t + U \\cdot \\color{green}{h_{t-1}} + b_h)  \\\\\n",
    "\\end{align*}\n",
    "}\n",
    "$$\n",
    "\n",
    "$f$: typically: $\\color{red}{tanh}$, also sometimes $relu$.  \n",
    "W is an $M \\times N$ matrix – a tensor with shape `(output_features, input_features)`.  \n",
    "U is an $M \\times M$ matrix – a tensor with shape `(output_features, output_features)`.  \n",
    "\n",
    "$N$: number of input features  \n",
    "$M$: number of output features = number of units  \n"
   ]
  },
  {
   "cell_type": "markdown",
   "metadata": {
    "slideshow": {
     "slide_type": "subslide"
    }
   },
   "source": [
    "##### Note\n",
    "\n",
    "That was the **internal mechanism** for the state. To *use* this state and turn it into a prediction, you apply yet another typical operation like so:\n",
    "\n",
    "$$\n",
    "\\bbox[5px,border:2px solid red]\n",
    "{\n",
    "\\begin{align*}\n",
    "y_t &= \\sigma(V \\cdot h_t + b_y) \n",
    "\\end{align*}\n",
    "}\n",
    "$$\n",
    "\n",
    "$\\sigma$: $softmax$, $sigmoid$, depending on your needs.  \n",
    "V is an $O \\times M$ matrix – a tensor with shape `(task_features, output_features)`.  \n"
   ]
  },
  {
   "cell_type": "markdown",
   "metadata": {
    "slideshow": {
     "slide_type": "subslide"
    }
   },
   "source": [
    "The previous activation, $h_{t-1}$, can have more or less effect on the current activation.\n",
    "\n",
    "The influence of the previous activation and input is controlled by the weights."
   ]
  },
  {
   "cell_type": "markdown",
   "metadata": {
    "slideshow": {
     "slide_type": "fragment"
    }
   },
   "source": [
    "$\n",
    "\\begin{align*}\n",
    "The\\ recursion: \\quad h_t &= f(x_t, \\color{blue}{h_{t-1}}) \\\\\n",
    "      &= f(x_t, \\color{blue}{f( x_{t-1},  \\color{green}{h_{t-2}})} ) \\\\\n",
    "      &= f( x_t,  \\color{blue}{ f( x_{t-1},   \\color{green}{f(x(t-2), \\color{red}{h_{t-3}}) } ) } ) \\\\ \n",
    "      &= \\ldots\n",
    "\\end{align*}\n",
    "$\n",
    "\n",
    "In principle, all previous activations, even those reaching far back into the past, can influence the present.\n",
    "\n",
    "\n",
    "**However**, because of the repeated multiplications involved in the gradient calculation, we quickly get either very large or very small numbers. This is known as the **exploding/vanishing gradient problem**."
   ]
  },
  {
   "cell_type": "markdown",
   "metadata": {
    "slideshow": {
     "slide_type": "subslide"
    }
   },
   "source": [
    "The simple RNN layer in pseudocode is:\n",
    "\n",
    "```python\n",
    "prev_output = 0\n",
    "for input_t in input_sequence:\n",
    "                        # ↓ current input | ↓ previous state\n",
    "    output_t = activation(dot(W, input_t) + dot(U, prev_output) + b)\n",
    "    prev_output = output_t\n",
    "```"
   ]
  },
  {
   "cell_type": "markdown",
   "metadata": {
    "slideshow": {
     "slide_type": "skip"
    }
   },
   "source": [
    "#### NumPy implementation of a simple RNN"
   ]
  },
  {
   "cell_type": "code",
   "execution_count": 32,
   "metadata": {
    "slideshow": {
     "slide_type": "skip"
    }
   },
   "outputs": [],
   "source": [
    "timesteps = 100\n",
    "input_features = 32\n",
    "output_features = 64\n",
    "inputs = np.random.random((timesteps, input_features))\n",
    "state_t = np.zeros((output_features,))\n",
    "W = np.random.random((output_features, input_features))\n",
    "U = np.random.random((output_features, output_features))\n",
    "b = np.random.random((output_features,))\n",
    "successive_outputs = []\n",
    "for input_t in inputs:\n",
    "    output_t = np.tanh(np.dot(W, input_t) + np.dot(U, state_t) + b)\n",
    "    successive_outputs.append(output_t)\n",
    "    state_t = output_t\n",
    "final_output_sequence = np.stack(successive_outputs, axis=0)"
   ]
  },
  {
   "cell_type": "markdown",
   "metadata": {
    "slideshow": {
     "slide_type": "skip"
    }
   },
   "source": [
    "More details in [this notebook](https://drive.google.com/file/d/1CFAld26ZxzR2k74FxIPrW0830o5Amv2A/view?usp=share_link)."
   ]
  },
  {
   "cell_type": "markdown",
   "metadata": {
    "slideshow": {
     "slide_type": "subslide"
    }
   },
   "source": [
    "#### \\# Learnable parameters\n",
    "\n",
    "\n",
    "\\begin{align*}\n",
    "RNNparams &= current + bias + previous\\\\\n",
    " &= (M \\times N + M) + (M \\times M)\\\\\n",
    " &= (M \\times N) + (M \\times M) + M\\\\ \n",
    " &= \\bbox[5px,border:2px solid red]{(N + M + 1) \\times M}\\\\\n",
    "\\end{align*}\n",
    "\n",
    "\n",
    "$N$: number of input features  \n",
    "$M$: previous output = number of units\n",
    "\n",
    "Each neuron has $N$ weights for the $N$ input features, $M$ weights for the previous output, and a bias, so $(N + M + 1)$ parameters, but there are $M$ units!"
   ]
  },
  {
   "cell_type": "code",
   "execution_count": 30,
   "metadata": {
    "slideshow": {
     "slide_type": "subslide"
    }
   },
   "outputs": [
    {
     "name": "stdout",
     "output_type": "stream",
     "text": [
      "Model: \"model_2\"\n",
      "_________________________________________________________________\n",
      " Layer (type)                Output Shape              Param #   \n",
      "=================================================================\n",
      " input_3 (InputLayer)        [(None, 120, 32)]         0         \n",
      "                                                                 \n",
      " simple_rnn_1 (SimpleRNN)    (None, 16)                784       \n",
      "                                                                 \n",
      "=================================================================\n",
      "Total params: 784\n",
      "Trainable params: 784\n",
      "Non-trainable params: 0\n",
      "_________________________________________________________________\n",
      "\n",
      "Number of learnable RNN params, (N + M + 1) * M:   784\n",
      "Note: it's the same same as (M * N + M) + (M * M): 784\n"
     ]
    }
   ],
   "source": [
    "steps = 120\n",
    "num_features = 32\n",
    "num_units = 16\n",
    "inputs = tf.keras.Input(shape=(steps, num_features))\n",
    "                            # the default\n",
    "outputs = tf.keras.layers.SimpleRNN(num_units, return_sequences=False)(inputs)\n",
    "model = tf.keras.Model(inputs,outputs)\n",
    "model.summary()\n",
    "\n",
    "print()\n",
    "print(f\"Number of learnable RNN params, (N + M + 1) * M:   {(num_features + num_units  + 1) * num_units}\")\n",
    "print(f\"Note: it's the same same as (M * N + M) + (M * M): {(num_units * num_features + num_units) + (num_units * num_units)}\")"
   ]
  },
  {
   "cell_type": "markdown",
   "metadata": {
    "slideshow": {
     "slide_type": "subslide"
    }
   },
   "source": [
    "### LSTM: Long Short Term Memory\n",
    "\n",
    "Fully-fledged recurrent nets: LSTMs have a **memory** or **carry** ($C_t$) – passing information forward in time, like a conveyor belt, with potentially no modification – and **gates** ($\\sigma$) acting as smooth on/off switches.\n",
    "\n",
    "The conveyor belt was developed to solve the **exploding/vanishing gradients problem**!\n",
    "\n",
    "<!-- ![LSTM](images/rnn/dprogrammer.LSTM.png) -->\n",
    " \n",
    "![LSTM](https://drive.google.com/uc?id=1GauSM-CxE0ERo_C2-EAl180MVHslATpu)\n",
    "\n",
    "<small>[\"RNN, LSTM & GRU\", dprogrammer.org](http://dprogrammer.org/rnn-lstm-gru)</small>"
   ]
  },
  {
   "cell_type": "markdown",
   "metadata": {
    "slideshow": {
     "slide_type": "skip"
    }
   },
   "source": [
    "More details in [this notebook](https://drive.google.com/file/d/1CFAld26ZxzR2k74FxIPrW0830o5Amv2A/view?usp=share_link)."
   ]
  },
  {
   "cell_type": "markdown",
   "metadata": {
    "slideshow": {
     "slide_type": "subslide"
    }
   },
   "source": [
    "<!-- <img src=\"images/rnn/mit.lstm.2.png\"> -->\n",
    "<img src=\"https://drive.google.com/uc?id=1ucHGDyUkS8MH8YuAgOpU0uzzV_YVeOEE\">\n",
    "\n",
    "<small>[Ava Soleimany, MIT 6.S191 (2021): Recurrent Neural Networks](https://www.youtube.com/watch?v=qjrad0V0uJE)</small>"
   ]
  },
  {
   "cell_type": "markdown",
   "metadata": {
    "slideshow": {
     "slide_type": "subslide"
    }
   },
   "source": [
    "### Gates\n",
    "\n",
    "Suppose we wish to turn an RNN off or on.\n",
    "\n",
    "Simple! Multiply by a binary switch: \n",
    "\n",
    "$$\\delta \\times f(t)$$\n",
    "\n",
    "$\\delta$: smooth values between $0, 1$  \n",
    "$f(t)$: the activation of a simple RNN"
   ]
  },
  {
   "cell_type": "markdown",
   "metadata": {
    "slideshow": {
     "slide_type": "subslide"
    }
   },
   "source": [
    "What we want:\n",
    "- the parameters of the switch should be **learnable**;\n",
    "- because of backpropagation, the process must be **differentiable**: the switch has to be a continuous function – smoothly going from 0 to 1.\n",
    "  \n",
    "The smooth activation function that takes values in $[0, 1]$?  \n",
    "$sigmoid\\ (\\sigma)$!"
   ]
  },
  {
   "cell_type": "markdown",
   "metadata": {
    "slideshow": {
     "slide_type": "subslide"
    }
   },
   "source": [
    "#### A learnable gate\n",
    "\n",
    "$$\n",
    "\\bbox[5px,border:2px solid red]\n",
    "{\n",
    "\\sigma(z) \\odot f(t)\n",
    "}\n",
    "$$\n",
    "\n",
    "$\\odot$ : the Hadamard (element-wise) product.\n",
    "\n",
    "\n",
    "But what is $z$?"
   ]
  },
  {
   "cell_type": "markdown",
   "metadata": {
    "slideshow": {
     "slide_type": "subslide"
    }
   },
   "source": [
    "We might want (because we are processing sequences) the state of the gate – on, off or in between – to depend on the current input and past activations:\n",
    "\n",
    "$$\n",
    "\\bbox[5px,border:2px solid red]\n",
    "{\n",
    "z = W \\cdot x_t + U \\cdot h_{t-1} + b\n",
    "}\n",
    "$$\n",
    "\n",
    "Our recurrently gated RNN is: \n",
    "\n",
    "$$\n",
    "\\bbox[5px,border:2px solid red]\n",
    "{\n",
    "\\sigma(W \\cdot x_t + U \\cdot h_{t-1} + b) \\odot f(t)\n",
    "}\n",
    "$$ \n",
    "\n",
    "$\\odot$ : the Hadamard (element-wise) product.\n"
   ]
  },
  {
   "cell_type": "markdown",
   "metadata": {
    "slideshow": {
     "slide_type": "subslide"
    }
   },
   "source": [
    "#### \\# Learnable parameters\n",
    "\n",
    "\n",
    "The LSTM follows the same logic as the vanilla RNN, all gates and simple RNN layers have their own parameters $(W, U, b)$, but with **four** internal matrices.\n",
    "\n",
    "There are four $(W, U, b)$ units – 3 gates and the simple RNN, $f$. Each set of $(W, U, b)$ units has $(N + M + 1) \\times M$ trainable parameters\n",
    "\n",
    "Therefore: \n",
    "\n",
    "$$\n",
    "LSTMparams = \\bbox[5px,border:2px solid red]{((N + M + 1) \\times M) \\times 4}\n",
    "$$ \n",
    "\n",
    "$N$: input features weights  \n",
    "$M$: previous output = number of units"
   ]
  },
  {
   "cell_type": "code",
   "execution_count": 31,
   "metadata": {
    "slideshow": {
     "slide_type": "subslide"
    }
   },
   "outputs": [
    {
     "name": "stdout",
     "output_type": "stream",
     "text": [
      "Model: \"model_3\"\n",
      "_________________________________________________________________\n",
      " Layer (type)                Output Shape              Param #   \n",
      "=================================================================\n",
      " input_4 (InputLayer)        [(None, 120, 16)]         0         \n",
      "                                                                 \n",
      " lstm_1 (LSTM)               (None, 8)                 800       \n",
      "                                                                 \n",
      "=================================================================\n",
      "Total params: 800\n",
      "Trainable params: 800\n",
      "Non-trainable params: 0\n",
      "_________________________________________________________________\n",
      "\n",
      "Number of learnable LSTM params: 800\n"
     ]
    }
   ],
   "source": [
    "steps = 120\n",
    "num_features = 16\n",
    "num_units = 8\n",
    "inputs = tf.keras.Input(shape=(steps, num_features))\n",
    "                            # the default\n",
    "outputs = tf.keras.layers.LSTM(num_units, return_sequences=False)(inputs)\n",
    "model = tf.keras.Model(inputs,outputs)\n",
    "model.summary()\n",
    "\n",
    "print()\n",
    "print(f\"Number of learnable LSTM params: { ((num_features + num_units + 1) * num_units) * 4}\")"
   ]
  },
  {
   "cell_type": "markdown",
   "metadata": {
    "slideshow": {
     "slide_type": "subslide"
    }
   },
   "source": [
    "<!-- <img src=\"images/rnn/mit.lstm.8.png\"> -->\n",
    "<img style=\"height:750px\" src=\"https://drive.google.com/uc?id=1WMf1r4fEapO1kTZLgCGBWzrGq3zcIsvS\">\n",
    "\n",
    "<small>[Ava Soleimany, MIT 6.S191 (2021): Recurrent Neural Networks](https://www.youtube.com/watch?v=qjrad0V0uJE)</small>"
   ]
  },
  {
   "cell_type": "markdown",
   "metadata": {
    "slideshow": {
     "slide_type": "subslide"
    }
   },
   "source": [
    "### GRU Gated Recurrent Unit\n",
    "\n",
    "'Optimised' recurrent nets: same logic as LSTM, but with less connections/parameters!\n",
    "\n",
    "<!-- ![GRU](images/rnn/dprogrammer.GRU.png) -->\n",
    " \n",
    "![LSTM](https://drive.google.com/uc?id=1WzjBl76pPiFkZBmnNiEd_34aqs-ldqV0)\n",
    "\n",
    "<small>[\"RNN, LSTM & GRU\", dprogrammer.org](http://dprogrammer.org/rnn-lstm-gru)</small>"
   ]
  },
  {
   "cell_type": "markdown",
   "metadata": {
    "slideshow": {
     "slide_type": "subslide"
    }
   },
   "source": [
    "#### Blog posts\n",
    "\n",
    "[Olah, \"Understanding LSTM Networks\"](https://colah.github.io/posts/2015-08-Understanding-LSTMs/)  \n",
    "[Madsen, \"Visualizing memorization in RNNs\", Distill](https://distill.pub/2019/memorization-in-rnns/)  \n",
    "[Wikipedia](https://en.wikipedia.org/wiki/Long_short-term_memory)\n",
    "\n",
    "\n",
    "### Tutorials\n",
    "\n",
    "[Text generation with an RNN](https://www.tensorflow.org/text/tutorials/text_generation)  \n",
    "[TensorFlow Addons Networks : Sequence-to-Sequence NMT with Attention Mechanism](https://www.tensorflow.org/addons/tutorials/networks_seq2seq_nmt)\n"
   ]
  },
  {
   "cell_type": "markdown",
   "metadata": {
    "slideshow": {
     "slide_type": "skip"
    }
   },
   "source": [
    "More details in [this notebook](https://drive.google.com/file/d/1CFAld26ZxzR2k74FxIPrW0830o5Amv2A/view?usp=share_link)."
   ]
  },
  {
   "cell_type": "markdown",
   "metadata": {
    "slideshow": {
     "slide_type": "skip"
    }
   },
   "source": [
    "---\n",
    "\n",
    "### References\n",
    "\n",
    "More details in [this notebook](https://drive.google.com/file/d/1CFAld26ZxzR2k74FxIPrW0830o5Amv2A/view?usp=share_link).\n",
    "\n",
    "An [in-depth survey from CS230, Stanford University](https://stanford.edu/~shervine/teaching/cs-230/cheatsheet-recurrent-neural-networks)\n",
    "\n",
    "\n",
    "#### RNNs\n",
    "[Rumelhart, David E; Hinton, Geoffrey E, and Williams, Ronald J (Sept. 1985), \"Learning internal representations by error propagation\"](https://apps.dtic.mil/dtic/tr/fulltext/u2/a164453.pdf)  \n",
    "[Jordan, Michael I. (May 1986), \"Serial order: a parallel distributed processing approach\"](https://www.osti.gov/biblio/6910294)\n",
    "\n",
    "#### LSTMs\n",
    "[Sepp Hochreiter, Jürgen Schmidhuber, \"Long Short-Term Memory\"](https://arxiv.org/abs/2105.06756)\n",
    "\n",
    "#### GRUs\n",
    "[Kyunghyun Cho, Bart van Merrienboer, Dzmitry Bahdanau, Yoshua Bengio, \"On the Properties of Neural Machine Translation: Encoder-Decoder Approaches\"](https://arxiv.org/abs/1409.1259)  \n",
    "[Ralf C. Staudemeyer, Eric Rothstein Morris, \"Understanding LSTM -- a tutorial into Long Short-Term Memory Recurrent Neural Networks\", arXiv](https://arxiv.org/abs/1909.09586)  "
   ]
  },
  {
   "cell_type": "code",
   "execution_count": null,
   "metadata": {
    "slideshow": {
     "slide_type": "skip"
    }
   },
   "outputs": [],
   "source": [
    "YouTubeVideo('qjrad0V0uJE', width=853, height=480) #  MIT 6.S191 (2021): Recurrent Neural Networks "
   ]
  },
  {
   "cell_type": "markdown",
   "metadata": {
    "slideshow": {
     "slide_type": "slide"
    }
   },
   "source": [
    "---\n",
    "\n",
    "### 10.3.1 A recurrent layer in Keras"
   ]
  },
  {
   "cell_type": "markdown",
   "metadata": {
    "slideshow": {
     "slide_type": "fragment"
    }
   },
   "source": [
    "#### An RNN layer that can process sequences of any length"
   ]
  },
  {
   "cell_type": "code",
   "execution_count": 13,
   "metadata": {
    "slideshow": {
     "slide_type": "fragment"
    }
   },
   "outputs": [
    {
     "name": "stdout",
     "output_type": "stream",
     "text": [
      "(None, 16)\n"
     ]
    }
   ],
   "source": [
    "num_features = 14            # ↓ we don't need specify the length!\n",
    "inputs = tf.keras.Input(shape=(None, num_features))\n",
    "outputs = tf.keras.layers.SimpleRNN(16)(inputs)\n",
    "print(outputs.shape)"
   ]
  },
  {
   "cell_type": "markdown",
   "metadata": {
    "slideshow": {
     "slide_type": "subslide"
    }
   },
   "source": [
    "#### An RNN layer that returns only its last output step\n",
    "\n",
    "By default RNN layers only return the **last state**."
   ]
  },
  {
   "cell_type": "code",
   "execution_count": 14,
   "metadata": {
    "slideshow": {
     "slide_type": "fragment"
    }
   },
   "outputs": [
    {
     "name": "stdout",
     "output_type": "stream",
     "text": [
      "(None, 16)\n"
     ]
    }
   ],
   "source": [
    "num_features = 14\n",
    "steps = 120                  # ↓ but we can also do it\n",
    "inputs = tf.keras.Input(shape=(steps, num_features))\n",
    "                                      # ↓ the default!\n",
    "outputs = tf.keras.layers.SimpleRNN(16, return_sequences=False)(inputs)\n",
    "print(outputs.shape)"
   ]
  },
  {
   "cell_type": "markdown",
   "metadata": {
    "slideshow": {
     "slide_type": "subslide"
    }
   },
   "source": [
    "#### An RNN layer that returns its full output sequence\n",
    "\n",
    "If you wish to stack layers of those, all intermediate layers should return their full sequence of outputs.\n",
    "\n",
    "<img style=\"float:right;height:400px\" src=\"images/rnn/stanford.stacked-rnns.png\">\n",
    "\n",
    "<small style=\"position:absolute;bottom:0;right:0\">[John Lambert, \"Stacked RNNs for Encoder-Decoder Networks: Accurate Machine Understanding of Images\", Stanford CS224d, figure 2, p.3](https://cs224d.stanford.edu/reports/Lambert.pdf)</small>"
   ]
  },
  {
   "cell_type": "markdown",
   "metadata": {
    "slideshow": {
     "slide_type": "subslide"
    }
   },
   "source": [
    "For that,we  specify: \n",
    "\n",
    "```python\n",
    "return_sequences=True\n",
    "```"
   ]
  },
  {
   "cell_type": "code",
   "execution_count": 34,
   "metadata": {
    "slideshow": {
     "slide_type": "fragment"
    }
   },
   "outputs": [
    {
     "name": "stdout",
     "output_type": "stream",
     "text": [
      "(None, 120, 16)\n"
     ]
    }
   ],
   "source": [
    "num_features = 14\n",
    "steps = 120\n",
    "inputs = tf.keras.Input(shape=(steps, num_features))\n",
    "outputs = tf.keras.layers.SimpleRNN(16, return_sequences=True)(inputs)\n",
    "print(outputs.shape)"
   ]
  },
  {
   "cell_type": "markdown",
   "metadata": {
    "slideshow": {
     "slide_type": "subslide"
    }
   },
   "source": [
    "#### Stacking RNN layers"
   ]
  },
  {
   "cell_type": "code",
   "execution_count": 35,
   "metadata": {
    "slideshow": {
     "slide_type": "fragment"
    }
   },
   "outputs": [],
   "source": [
    "inputs = tf.keras.Input(shape=(steps, num_features))\n",
    "x = tf.keras.layers.SimpleRNN(16, return_sequences=True)(inputs) # return sequences\n",
    "x = tf.keras.layers.SimpleRNN(16, return_sequences=True)(x)      # return sequences\n",
    "outputs = tf.keras.layers.SimpleRNN(16)(x)                       # no need in the last layer"
   ]
  },
  {
   "cell_type": "markdown",
   "metadata": {
    "slideshow": {
     "slide_type": "slide"
    }
   },
   "source": [
    "---\n",
    "\n",
    "## 10.4 Advanced use of recurrent neural networks"
   ]
  },
  {
   "cell_type": "markdown",
   "metadata": {
    "slideshow": {
     "slide_type": "fragment"
    }
   },
   "source": [
    "### 10.4.1 Using recurrent dropout to fight overfitting\n",
    "\n",
    "> \"\\[T\\]he proper way to use dropout with a\n",
    "recurrent network: the same dropout mask (the same pattern of dropped units) should be applied at every timestep, instead of using a dropout mask that varies randomly from timestep to timestep.\" (DLWP, p.301)\n",
    "\n",
    "Implemented in Keras recurrent layers:\n",
    "\n",
    "```python\n",
    "recurrent_dropout=0.25\n",
    "```\n",
    "\n",
    "Don't use regular dropout layers in a stack of RNNs (except at the very end)!"
   ]
  },
  {
   "cell_type": "markdown",
   "metadata": {
    "slideshow": {
     "slide_type": "subslide"
    }
   },
   "source": [
    "### RNN runtime performance\n",
    "\n",
    "`recurrent_dropout` is not supported by optimized cuDNN kernels, meaning you do not benefit from the best GPU acceleration. **SLOW!**\n",
    "\n",
    "If your sequences are **not too long** (~100 steps) – this will increase memory consumption a lot –, and if **your sequence length is known in advance**, you can **unroll** your RNN to have it as one full graph on the GPU.(You still can't use cuDNN kernels, but the graph will optimise things a bit.)\n",
    "\n",
    "\n",
    "```python\n",
    "inputs = tf.keras.Input(shape=(sequence_length, num_features))\n",
    "                                                  # ↓ unroll (memory-greedy!)\n",
    "x = tf.keras.layers.LSTM(32, recurrent_dropout=0.2, unroll=True)(inputs)\n",
    "```"
   ]
  },
  {
   "cell_type": "markdown",
   "metadata": {
    "id": "tyELuV6fe_h-",
    "slideshow": {
     "slide_type": "subslide"
    }
   },
   "source": [
    "#### Training and evaluating a dropout-regularized LSTM (0.25)"
   ]
  },
  {
   "cell_type": "code",
   "execution_count": 15,
   "metadata": {
    "colab": {
     "base_uri": "https://localhost:8080/"
    },
    "id": "6wCMEgoRe_h_",
    "outputId": "703b4dad-0caf-4af7-aa5d-f4ee34ba8b31",
    "slideshow": {
     "slide_type": "fragment"
    },
    "tags": []
   },
   "outputs": [
    {
     "name": "stdout",
     "output_type": "stream",
     "text": [
      "WARNING:tensorflow:Layer lstm will not use cuDNN kernels since it doesn't meet the criteria. It will use a generic GPU kernel as fallback when running on GPU.\n"
     ]
    }
   ],
   "source": [
    "tf.keras.backend.clear_session()\n",
    "\n",
    "inputs = tf.keras.Input(shape=(sequence_length, raw_data.shape[-1]))\n",
    "                           # ↓ recurrent dropout\n",
    "x = tf.keras.layers.LSTM(32, recurrent_dropout=0.25)(inputs) # Note: recurrent_dropout is INSANELY slow!!\n",
    "x = tf.keras.layers.Dropout(0.5)(x) # adding dropout at the very end only\n",
    "outputs = tf.keras.layers.Dense(1)(x)\n",
    "model = tf.keras.Model(inputs, outputs)"
   ]
  },
  {
   "cell_type": "code",
   "execution_count": 17,
   "metadata": {
    "colab": {
     "base_uri": "https://localhost:8080/"
    },
    "collapsed": true,
    "id": "u07zgufhe_h_",
    "jupyter": {
     "outputs_hidden": true
    },
    "outputId": "06450fd1-74f4-4a10-8683-11ec8e1fa313",
    "slideshow": {
     "slide_type": "skip"
    },
    "tags": []
   },
   "outputs": [
    {
     "name": "stdout",
     "output_type": "stream",
     "text": [
      "Epoch 1/50\n",
      "819/819 [==============================] - 330s 401ms/step - loss: 28.5333 - mae: 3.9382 - val_loss: 9.8841 - val_mae: 2.4535\n",
      "Epoch 2/50\n",
      "819/819 [==============================] - 328s 401ms/step - loss: 14.8521 - mae: 2.9950 - val_loss: 9.1880 - val_mae: 2.3559\n",
      "Epoch 3/50\n",
      "819/819 [==============================] - 328s 400ms/step - loss: 13.8338 - mae: 2.8893 - val_loss: 9.1041 - val_mae: 2.3508\n",
      "Epoch 4/50\n",
      "819/819 [==============================] - 327s 399ms/step - loss: 13.1514 - mae: 2.8188 - val_loss: 8.9290 - val_mae: 2.3154\n",
      "Epoch 5/50\n",
      "819/819 [==============================] - 326s 398ms/step - loss: 12.6827 - mae: 2.7631 - val_loss: 9.2009 - val_mae: 2.3598\n",
      "Epoch 6/50\n",
      "819/819 [==============================] - 340s 416ms/step - loss: 12.3126 - mae: 2.7215 - val_loss: 9.3532 - val_mae: 2.3623\n",
      "Epoch 7/50\n",
      "819/819 [==============================] - 328s 400ms/step - loss: 11.8746 - mae: 2.6778 - val_loss: 9.2519 - val_mae: 2.3557\n",
      "Epoch 8/50\n",
      "819/819 [==============================] - 326s 398ms/step - loss: 11.5984 - mae: 2.6421 - val_loss: 9.6447 - val_mae: 2.4077\n",
      "Epoch 9/50\n",
      "819/819 [==============================] - 330s 402ms/step - loss: 11.3332 - mae: 2.6135 - val_loss: 9.5738 - val_mae: 2.3940\n",
      "Epoch 10/50\n",
      "819/819 [==============================] - 327s 399ms/step - loss: 11.0792 - mae: 2.5846 - val_loss: 9.6115 - val_mae: 2.3965\n",
      "Epoch 11/50\n",
      "819/819 [==============================] - 328s 400ms/step - loss: 10.9323 - mae: 2.5666 - val_loss: 9.6668 - val_mae: 2.4070\n",
      "Epoch 12/50\n",
      "819/819 [==============================] - 326s 398ms/step - loss: 10.7629 - mae: 2.5485 - val_loss: 10.1112 - val_mae: 2.4537\n",
      "Epoch 13/50\n",
      "819/819 [==============================] - 326s 398ms/step - loss: 10.5583 - mae: 2.5237 - val_loss: 10.3624 - val_mae: 2.4919\n",
      "Epoch 14/50\n",
      "819/819 [==============================] - 325s 397ms/step - loss: 10.5274 - mae: 2.5173 - val_loss: 9.7814 - val_mae: 2.4258\n",
      "Epoch 15/50\n",
      "819/819 [==============================] - 324s 395ms/step - loss: 10.2883 - mae: 2.4900 - val_loss: 10.0078 - val_mae: 2.4540\n",
      "Epoch 16/50\n",
      "819/819 [==============================] - 325s 396ms/step - loss: 10.1640 - mae: 2.4726 - val_loss: 10.4574 - val_mae: 2.5019\n",
      "Epoch 17/50\n",
      "819/819 [==============================] - 325s 397ms/step - loss: 10.0114 - mae: 2.4550 - val_loss: 10.2593 - val_mae: 2.4879\n",
      "Epoch 18/50\n",
      "819/819 [==============================] - 327s 399ms/step - loss: 9.9130 - mae: 2.4444 - val_loss: 10.4015 - val_mae: 2.4958\n",
      "Epoch 19/50\n",
      "819/819 [==============================] - 324s 395ms/step - loss: 9.8215 - mae: 2.4340 - val_loss: 10.3316 - val_mae: 2.4990\n",
      "Epoch 20/50\n",
      "819/819 [==============================] - 324s 395ms/step - loss: 9.7660 - mae: 2.4235 - val_loss: 10.5975 - val_mae: 2.5278\n",
      "Epoch 21/50\n",
      "819/819 [==============================] - 326s 398ms/step - loss: 9.6669 - mae: 2.4172 - val_loss: 10.5218 - val_mae: 2.5249\n",
      "Epoch 22/50\n",
      "819/819 [==============================] - 326s 398ms/step - loss: 9.5575 - mae: 2.3978 - val_loss: 10.5561 - val_mae: 2.5265\n",
      "Epoch 23/50\n",
      "819/819 [==============================] - 328s 400ms/step - loss: 9.5312 - mae: 2.3933 - val_loss: 11.2173 - val_mae: 2.6011\n",
      "Epoch 24/50\n",
      "819/819 [==============================] - 325s 397ms/step - loss: 9.4168 - mae: 2.3800 - val_loss: 11.1295 - val_mae: 2.6006\n",
      "Epoch 25/50\n",
      "819/819 [==============================] - 327s 399ms/step - loss: 9.3734 - mae: 2.3727 - val_loss: 10.9517 - val_mae: 2.5669\n",
      "Epoch 26/50\n",
      "819/819 [==============================] - 327s 399ms/step - loss: 9.3579 - mae: 2.3700 - val_loss: 11.3780 - val_mae: 2.6257\n",
      "Epoch 27/50\n",
      "819/819 [==============================] - 329s 401ms/step - loss: 9.3297 - mae: 2.3644 - val_loss: 11.1485 - val_mae: 2.6019\n",
      "Epoch 28/50\n",
      "819/819 [==============================] - 327s 399ms/step - loss: 9.1707 - mae: 2.3484 - val_loss: 11.0403 - val_mae: 2.5911\n",
      "Epoch 29/50\n",
      "819/819 [==============================] - 327s 399ms/step - loss: 9.1611 - mae: 2.3464 - val_loss: 11.0414 - val_mae: 2.5950\n",
      "Epoch 30/50\n",
      "819/819 [==============================] - 330s 403ms/step - loss: 9.1363 - mae: 2.3409 - val_loss: 11.1916 - val_mae: 2.6002\n",
      "Epoch 31/50\n",
      "819/819 [==============================] - 328s 400ms/step - loss: 9.0885 - mae: 2.3367 - val_loss: 11.5134 - val_mae: 2.6484\n",
      "Epoch 32/50\n",
      "819/819 [==============================] - 330s 402ms/step - loss: 9.0402 - mae: 2.3257 - val_loss: 11.2099 - val_mae: 2.6059\n",
      "Epoch 33/50\n",
      "819/819 [==============================] - 324s 395ms/step - loss: 9.0121 - mae: 2.3254 - val_loss: 11.2915 - val_mae: 2.6184\n",
      "Epoch 34/50\n",
      "819/819 [==============================] - 326s 398ms/step - loss: 8.9851 - mae: 2.3209 - val_loss: 11.6650 - val_mae: 2.6680\n",
      "Epoch 35/50\n",
      "819/819 [==============================] - 326s 398ms/step - loss: 8.9770 - mae: 2.3219 - val_loss: 12.0234 - val_mae: 2.7028\n",
      "Epoch 36/50\n",
      "819/819 [==============================] - 325s 397ms/step - loss: 8.8721 - mae: 2.3074 - val_loss: 11.5936 - val_mae: 2.6612\n",
      "Epoch 37/50\n",
      "819/819 [==============================] - 326s 398ms/step - loss: 8.8621 - mae: 2.3034 - val_loss: 11.7118 - val_mae: 2.6665\n",
      "Epoch 38/50\n",
      "819/819 [==============================] - 325s 397ms/step - loss: 8.8128 - mae: 2.2976 - val_loss: 11.9470 - val_mae: 2.6928\n",
      "Epoch 39/50\n",
      "819/819 [==============================] - 325s 396ms/step - loss: 8.8319 - mae: 2.2993 - val_loss: 12.1949 - val_mae: 2.7210\n",
      "Epoch 40/50\n",
      "819/819 [==============================] - 326s 398ms/step - loss: 8.7857 - mae: 2.2917 - val_loss: 12.0607 - val_mae: 2.7088\n",
      "Epoch 41/50\n",
      "819/819 [==============================] - 327s 399ms/step - loss: 8.7863 - mae: 2.2942 - val_loss: 11.8157 - val_mae: 2.6825\n",
      "Epoch 42/50\n",
      "819/819 [==============================] - 324s 396ms/step - loss: 8.7191 - mae: 2.2863 - val_loss: 12.2972 - val_mae: 2.7318\n",
      "Epoch 43/50\n",
      "819/819 [==============================] - 326s 397ms/step - loss: 8.7170 - mae: 2.2865 - val_loss: 11.6751 - val_mae: 2.6643\n",
      "Epoch 44/50\n",
      "819/819 [==============================] - 327s 399ms/step - loss: 8.7064 - mae: 2.2822 - val_loss: 12.0522 - val_mae: 2.7069\n",
      "Epoch 45/50\n",
      "819/819 [==============================] - 327s 399ms/step - loss: 8.7017 - mae: 2.2856 - val_loss: 12.3560 - val_mae: 2.7282\n",
      "Epoch 46/50\n",
      "819/819 [==============================] - 325s 397ms/step - loss: 8.6462 - mae: 2.2746 - val_loss: 11.9317 - val_mae: 2.6918\n",
      "Epoch 47/50\n",
      "819/819 [==============================] - 327s 399ms/step - loss: 8.6509 - mae: 2.2764 - val_loss: 11.8955 - val_mae: 2.6929\n",
      "Epoch 48/50\n",
      "819/819 [==============================] - 325s 396ms/step - loss: 8.5867 - mae: 2.2659 - val_loss: 12.7815 - val_mae: 2.7804\n",
      "Epoch 49/50\n",
      "819/819 [==============================] - 324s 395ms/step - loss: 8.5184 - mae: 2.2587 - val_loss: 11.8587 - val_mae: 2.6919\n",
      "Epoch 50/50\n",
      "819/819 [==============================] - 328s 400ms/step - loss: 8.5975 - mae: 2.2673 - val_loss: 12.2194 - val_mae: 2.7275\n"
     ]
    }
   ],
   "source": [
    "callbacks = [\n",
    "    tf.keras.callbacks.ModelCheckpoint(\n",
    "        base_dir / \"jena_lstm_dropout.keras\",\n",
    "        save_best_only=True\n",
    "    )\n",
    "]\n",
    "model.compile(optimizer=\"rmsprop\", loss=\"mse\", metrics=[\"mae\"])\n",
    "history = model.fit(\n",
    "    train_dataset,\n",
    "    epochs=50,\n",
    "    validation_data=val_dataset,\n",
    "    callbacks=callbacks\n",
    ")"
   ]
  },
  {
   "cell_type": "code",
   "execution_count": 20,
   "metadata": {
    "colab": {
     "base_uri": "https://localhost:8080/",
     "height": 281
    },
    "id": "bVLHhkg9e_h_",
    "outputId": "ebc056eb-0256-47ee-97df-69d261284822",
    "slideshow": {
     "slide_type": "skip"
    }
   },
   "outputs": [
    {
     "data": {
      "image/png": "[encoded data removed]",
      "text/plain": [
       "<Figure size 432x288 with 1 Axes>"
      ]
     },
     "metadata": {
      "needs_background": "light"
     },
     "output_type": "display_data"
    }
   ],
   "source": [
    "plot_history(history)"
   ]
  },
  {
   "cell_type": "code",
   "execution_count": 21,
   "metadata": {
    "colab": {
     "base_uri": "https://localhost:8080/"
    },
    "id": "TTnUEsVJe_iA",
    "outputId": "eb94fcd0-741b-4398-b7bb-72a22ba83745",
    "slideshow": {
     "slide_type": "skip"
    }
   },
   "outputs": [
    {
     "name": "stderr",
     "output_type": "stream",
     "text": [
      "WARNING:tensorflow:Layer lstm will not use cuDNN kernels since it doesn't meet the criteria. It will use a generic GPU kernel as fallback when running on GPU.\n"
     ]
    },
    {
     "name": "stdout",
     "output_type": "stream",
     "text": [
      "405/405 [==============================] - 24s 58ms/step - loss: 10.6964 - mae: 2.5786\n",
      "Test MAE: 2.58\n"
     ]
    }
   ],
   "source": [
    "model = tf.keras.models.load_model(base_dir / \"jena_lstm_dropout.keras\")\n",
    "print(f\"Test MAE: {model.evaluate(test_dataset)[1]:.2f}\")"
   ]
  },
  {
   "cell_type": "markdown",
   "metadata": {
    "id": "tyELuV6fe_h-",
    "slideshow": {
     "slide_type": "skip"
    }
   },
   "source": [
    "#### Training and evaluating a dropout-regularized LSTM (0.3)"
   ]
  },
  {
   "cell_type": "code",
   "execution_count": 11,
   "metadata": {
    "colab": {
     "base_uri": "https://localhost:8080/"
    },
    "id": "6wCMEgoRe_h_",
    "outputId": "703b4dad-0caf-4af7-aa5d-f4ee34ba8b31",
    "slideshow": {
     "slide_type": "skip"
    },
    "tags": []
   },
   "outputs": [
    {
     "name": "stdout",
     "output_type": "stream",
     "text": [
      "WARNING:tensorflow:Layer lstm will not use cuDNN kernels since it doesn't meet the criteria. It will use a generic GPU kernel as fallback when running on GPU.\n"
     ]
    }
   ],
   "source": [
    "tf.keras.backend.clear_session()\n",
    "\n",
    "inputs = tf.keras.Input(shape=(sequence_length, raw_data.shape[-1]))\n",
    "                           # recurrent dropout is not supported by cuDNN kernels on its own, you can\n",
    "                           # try add: unroll=True (beware, this is memory-greedy!)    \n",
    "x = tf.keras.layers.LSTM(32, recurrent_dropout=0.3)(inputs)\n",
    "x = tf.keras.layers.Dropout(0.5)(x)\n",
    "outputs = tf.keras.layers.Dense(1)(x)\n",
    "model = tf.keras.Model(inputs, outputs)"
   ]
  },
  {
   "cell_type": "code",
   "execution_count": 12,
   "metadata": {
    "colab": {
     "base_uri": "https://localhost:8080/"
    },
    "collapsed": true,
    "id": "u07zgufhe_h_",
    "jupyter": {
     "outputs_hidden": true
    },
    "outputId": "06450fd1-74f4-4a10-8683-11ec8e1fa313",
    "slideshow": {
     "slide_type": "skip"
    },
    "tags": []
   },
   "outputs": [
    {
     "name": "stdout",
     "output_type": "stream",
     "text": [
      "Epoch 1/50\n",
      "819/819 [==============================] - 538s 649ms/step - loss: 27.2959 - mae: 3.8580 - val_loss: 9.8704 - val_mae: 2.4392\n",
      "Epoch 2/50\n",
      "819/819 [==============================] - 532s 649ms/step - loss: 14.8927 - mae: 2.9939 - val_loss: 9.2503 - val_mae: 2.3619\n",
      "Epoch 3/50\n",
      "819/819 [==============================] - 533s 650ms/step - loss: 14.1190 - mae: 2.9137 - val_loss: 9.1531 - val_mae: 2.3579\n",
      "Epoch 4/50\n",
      "819/819 [==============================] - 571s 697ms/step - loss: 13.5838 - mae: 2.8541 - val_loss: 9.2043 - val_mae: 2.3627\n",
      "Epoch 5/50\n",
      "819/819 [==============================] - 485s 591ms/step - loss: 13.1103 - mae: 2.8031 - val_loss: 9.2886 - val_mae: 2.3833\n",
      "Epoch 6/50\n",
      "819/819 [==============================] - 484s 591ms/step - loss: 12.8117 - mae: 2.7668 - val_loss: 9.3372 - val_mae: 2.3815\n",
      "Epoch 7/50\n",
      "819/819 [==============================] - 488s 595ms/step - loss: 12.4259 - mae: 2.7232 - val_loss: 9.3503 - val_mae: 2.3782\n",
      "Epoch 8/50\n",
      "819/819 [==============================] - 485s 591ms/step - loss: 12.1676 - mae: 2.6978 - val_loss: 9.3405 - val_mae: 2.3768\n",
      "Epoch 9/50\n",
      "819/819 [==============================] - 485s 592ms/step - loss: 11.9360 - mae: 2.6701 - val_loss: 9.2728 - val_mae: 2.3691\n",
      "Epoch 10/50\n",
      "819/819 [==============================] - 484s 591ms/step - loss: 11.7248 - mae: 2.6451 - val_loss: 9.5436 - val_mae: 2.3997\n",
      "Epoch 11/50\n",
      "819/819 [==============================] - 486s 593ms/step - loss: 11.5984 - mae: 2.6347 - val_loss: 9.4668 - val_mae: 2.3869\n",
      "Epoch 12/50\n",
      "819/819 [==============================] - 486s 593ms/step - loss: 11.3932 - mae: 2.6078 - val_loss: 9.5141 - val_mae: 2.3889\n",
      "Epoch 13/50\n",
      "819/819 [==============================] - 485s 592ms/step - loss: 11.2662 - mae: 2.5916 - val_loss: 9.4565 - val_mae: 2.3877\n",
      "Epoch 14/50\n",
      "819/819 [==============================] - 485s 592ms/step - loss: 11.0602 - mae: 2.5695 - val_loss: 9.5813 - val_mae: 2.4100\n",
      "Epoch 15/50\n",
      "819/819 [==============================] - 485s 593ms/step - loss: 10.9694 - mae: 2.5602 - val_loss: 9.6701 - val_mae: 2.4238\n",
      "Epoch 16/50\n",
      "819/819 [==============================] - 486s 593ms/step - loss: 10.8201 - mae: 2.5458 - val_loss: 9.7664 - val_mae: 2.4301\n",
      "Epoch 17/50\n",
      "819/819 [==============================] - 487s 594ms/step - loss: 10.7272 - mae: 2.5292 - val_loss: 9.5031 - val_mae: 2.3982\n",
      "Epoch 18/50\n",
      "819/819 [==============================] - 487s 595ms/step - loss: 10.6388 - mae: 2.5195 - val_loss: 9.4978 - val_mae: 2.4050\n",
      "Epoch 19/50\n",
      "819/819 [==============================] - 492s 600ms/step - loss: 10.5537 - mae: 2.5134 - val_loss: 9.5311 - val_mae: 2.4030\n",
      "Epoch 20/50\n",
      "819/819 [==============================] - 486s 594ms/step - loss: 10.4749 - mae: 2.5035 - val_loss: 9.6149 - val_mae: 2.4268\n",
      "Epoch 21/50\n",
      "819/819 [==============================] - 487s 594ms/step - loss: 10.3555 - mae: 2.4919 - val_loss: 9.8950 - val_mae: 2.4533\n",
      "Epoch 22/50\n",
      "819/819 [==============================] - 488s 595ms/step - loss: 10.2926 - mae: 2.4835 - val_loss: 9.7842 - val_mae: 2.4365\n",
      "Epoch 23/50\n",
      "819/819 [==============================] - 488s 595ms/step - loss: 10.2111 - mae: 2.4758 - val_loss: 10.3336 - val_mae: 2.5181\n",
      "Epoch 24/50\n",
      "819/819 [==============================] - 488s 595ms/step - loss: 10.1655 - mae: 2.4675 - val_loss: 10.3590 - val_mae: 2.5034\n",
      "Epoch 25/50\n",
      "819/819 [==============================] - 487s 595ms/step - loss: 10.0849 - mae: 2.4609 - val_loss: 9.8897 - val_mae: 2.4629\n",
      "Epoch 26/50\n",
      "819/819 [==============================] - 487s 595ms/step - loss: 10.0148 - mae: 2.4525 - val_loss: 10.2871 - val_mae: 2.5026\n",
      "Epoch 27/50\n",
      "819/819 [==============================] - 487s 594ms/step - loss: 10.0276 - mae: 2.4533 - val_loss: 10.2485 - val_mae: 2.4931\n",
      "Epoch 28/50\n",
      "819/819 [==============================] - 495s 604ms/step - loss: 9.8850 - mae: 2.4381 - val_loss: 10.5272 - val_mae: 2.5265\n",
      "Epoch 29/50\n",
      "819/819 [==============================] - 487s 594ms/step - loss: 9.7953 - mae: 2.4253 - val_loss: 10.4539 - val_mae: 2.5208\n",
      "Epoch 30/50\n",
      "819/819 [==============================] - 487s 595ms/step - loss: 9.8018 - mae: 2.4255 - val_loss: 10.0470 - val_mae: 2.4766\n",
      "Epoch 31/50\n",
      "819/819 [==============================] - 487s 595ms/step - loss: 9.7268 - mae: 2.4164 - val_loss: 9.9808 - val_mae: 2.4670\n",
      "Epoch 32/50\n",
      "819/819 [==============================] - 487s 594ms/step - loss: 9.7124 - mae: 2.4160 - val_loss: 10.4716 - val_mae: 2.5125\n",
      "Epoch 33/50\n",
      "819/819 [==============================] - 487s 595ms/step - loss: 9.6934 - mae: 2.4100 - val_loss: 10.0707 - val_mae: 2.4759\n",
      "Epoch 34/50\n",
      "819/819 [==============================] - 487s 594ms/step - loss: 9.5902 - mae: 2.3999 - val_loss: 10.4418 - val_mae: 2.5086\n",
      "Epoch 35/50\n",
      "819/819 [==============================] - 487s 595ms/step - loss: 9.5947 - mae: 2.3990 - val_loss: 10.3278 - val_mae: 2.4952\n",
      "Epoch 36/50\n",
      "819/819 [==============================] - 488s 596ms/step - loss: 9.5333 - mae: 2.3951 - val_loss: 10.4480 - val_mae: 2.5140\n",
      "Epoch 37/50\n",
      "819/819 [==============================] - 487s 595ms/step - loss: 9.5421 - mae: 2.3964 - val_loss: 10.4370 - val_mae: 2.5118\n",
      "Epoch 38/50\n",
      "819/819 [==============================] - 488s 595ms/step - loss: 9.4831 - mae: 2.3860 - val_loss: 10.9633 - val_mae: 2.5851\n",
      "Epoch 39/50\n",
      "819/819 [==============================] - 488s 595ms/step - loss: 9.4240 - mae: 2.3796 - val_loss: 10.3484 - val_mae: 2.4946\n",
      "Epoch 40/50\n",
      "819/819 [==============================] - 488s 596ms/step - loss: 9.4362 - mae: 2.3817 - val_loss: 10.4040 - val_mae: 2.5192\n",
      "Epoch 41/50\n",
      "819/819 [==============================] - 488s 595ms/step - loss: 9.3277 - mae: 2.3672 - val_loss: 10.5874 - val_mae: 2.5367\n",
      "Epoch 42/50\n",
      "819/819 [==============================] - 488s 596ms/step - loss: 9.3051 - mae: 2.3652 - val_loss: 10.8008 - val_mae: 2.5518\n",
      "Epoch 43/50\n",
      "819/819 [==============================] - 488s 595ms/step - loss: 9.2715 - mae: 2.3605 - val_loss: 10.5960 - val_mae: 2.5341\n",
      "Epoch 44/50\n",
      "819/819 [==============================] - 488s 595ms/step - loss: 9.2866 - mae: 2.3617 - val_loss: 10.4152 - val_mae: 2.5151\n",
      "Epoch 45/50\n",
      "819/819 [==============================] - 488s 596ms/step - loss: 9.2517 - mae: 2.3570 - val_loss: 10.7101 - val_mae: 2.5524\n",
      "Epoch 46/50\n",
      "819/819 [==============================] - 489s 597ms/step - loss: 9.2736 - mae: 2.3613 - val_loss: 10.4560 - val_mae: 2.5313\n",
      "Epoch 47/50\n",
      "819/819 [==============================] - 488s 595ms/step - loss: 9.1945 - mae: 2.3529 - val_loss: 10.7021 - val_mae: 2.5568\n",
      "Epoch 48/50\n",
      "819/819 [==============================] - 488s 596ms/step - loss: 9.1649 - mae: 2.3446 - val_loss: 10.6789 - val_mae: 2.5427\n",
      "Epoch 49/50\n",
      "819/819 [==============================] - 488s 595ms/step - loss: 9.1434 - mae: 2.3429 - val_loss: 10.6812 - val_mae: 2.5455\n",
      "Epoch 50/50\n",
      "819/819 [==============================] - 488s 595ms/step - loss: 9.0828 - mae: 2.3376 - val_loss: 10.8458 - val_mae: 2.5596\n"
     ]
    }
   ],
   "source": [
    "callbacks = [\n",
    "    tf.keras.callbacks.ModelCheckpoint(\n",
    "        base_dir / \"jena_lstm_dropout.keras\",\n",
    "        save_best_only=True\n",
    "    )\n",
    "]\n",
    "model.compile(optimizer=\"rmsprop\", loss=\"mse\", metrics=[\"mae\"])\n",
    "history = model.fit(\n",
    "    train_dataset,\n",
    "    epochs=50,\n",
    "    validation_data=val_dataset,\n",
    "    callbacks=callbacks\n",
    ")"
   ]
  },
  {
   "cell_type": "code",
   "execution_count": 13,
   "metadata": {
    "colab": {
     "base_uri": "https://localhost:8080/",
     "height": 281
    },
    "id": "bVLHhkg9e_h_",
    "outputId": "ebc056eb-0256-47ee-97df-69d261284822",
    "slideshow": {
     "slide_type": "skip"
    }
   },
   "outputs": [
    {
     "data": {
      "image/png": "[encoded data removed]",
      "text/plain": [
       "<Figure size 640x480 with 1 Axes>"
      ]
     },
     "metadata": {},
     "output_type": "display_data"
    }
   ],
   "source": [
    "plot_history(history)"
   ]
  },
  {
   "cell_type": "code",
   "execution_count": 14,
   "metadata": {
    "colab": {
     "base_uri": "https://localhost:8080/"
    },
    "id": "TTnUEsVJe_iA",
    "outputId": "eb94fcd0-741b-4398-b7bb-72a22ba83745",
    "slideshow": {
     "slide_type": "skip"
    }
   },
   "outputs": [
    {
     "name": "stdout",
     "output_type": "stream",
     "text": [
      "WARNING:tensorflow:Layer lstm will not use cuDNN kernels since it doesn't meet the criteria. It will use a generic GPU kernel as fallback when running on GPU.\n",
      "405/405 [==============================] - 35s 86ms/step - loss: 10.5548 - mae: 2.5673\n",
      "Test MAE: 2.57\n"
     ]
    }
   ],
   "source": [
    "model = tf.keras.models.load_model(base_dir / \"jena_lstm_dropout.keras\")\n",
    "print(f\"Test MAE: {model.evaluate(test_dataset)[1]:.2f}\")"
   ]
  },
  {
   "cell_type": "markdown",
   "metadata": {
    "id": "tyELuV6fe_h-",
    "slideshow": {
     "slide_type": "skip"
    }
   },
   "source": [
    "#### Training and evaluating a dropout-regularized LSTM (0.5)"
   ]
  },
  {
   "cell_type": "code",
   "execution_count": 15,
   "metadata": {
    "colab": {
     "base_uri": "https://localhost:8080/"
    },
    "id": "6wCMEgoRe_h_",
    "outputId": "703b4dad-0caf-4af7-aa5d-f4ee34ba8b31",
    "slideshow": {
     "slide_type": "skip"
    },
    "tags": []
   },
   "outputs": [
    {
     "name": "stdout",
     "output_type": "stream",
     "text": [
      "WARNING:tensorflow:Layer lstm will not use cuDNN kernels since it doesn't meet the criteria. It will use a generic GPU kernel as fallback when running on GPU.\n"
     ]
    }
   ],
   "source": [
    "tf.keras.backend.clear_session()\n",
    "\n",
    "inputs = tf.keras.Input(shape=(sequence_length, raw_data.shape[-1]))\n",
    "x = tf.keras.layers.LSTM(32, recurrent_dropout=0.5)(inputs)\n",
    "x = tf.keras.layers.Dropout(0.5)(x)\n",
    "outputs = tf.keras.layers.Dense(1)(x)\n",
    "model = tf.keras.Model(inputs, outputs)"
   ]
  },
  {
   "cell_type": "code",
   "execution_count": 16,
   "metadata": {
    "colab": {
     "base_uri": "https://localhost:8080/"
    },
    "id": "u07zgufhe_h_",
    "outputId": "06450fd1-74f4-4a10-8683-11ec8e1fa313",
    "slideshow": {
     "slide_type": "skip"
    }
   },
   "outputs": [
    {
     "name": "stdout",
     "output_type": "stream",
     "text": [
      "Epoch 1/50\n",
      "819/819 [==============================] - 491s 594ms/step - loss: 30.8981 - mae: 4.0752 - val_loss: 9.8708 - val_mae: 2.4346\n",
      "Epoch 2/50\n",
      "819/819 [==============================] - 486s 593ms/step - loss: 15.2343 - mae: 3.0288 - val_loss: 9.4229 - val_mae: 2.3901\n",
      "Epoch 3/50\n",
      "819/819 [==============================] - 486s 594ms/step - loss: 14.1941 - mae: 2.9232 - val_loss: 9.3416 - val_mae: 2.3787\n",
      "Epoch 4/50\n",
      "819/819 [==============================] - 486s 593ms/step - loss: 13.5473 - mae: 2.8527 - val_loss: 9.1527 - val_mae: 2.3503\n",
      "Epoch 5/50\n",
      "819/819 [==============================] - 487s 594ms/step - loss: 13.0330 - mae: 2.8020 - val_loss: 9.3055 - val_mae: 2.3655\n",
      "Epoch 6/50\n",
      "819/819 [==============================] - 486s 594ms/step - loss: 12.7337 - mae: 2.7667 - val_loss: 9.3366 - val_mae: 2.3721\n",
      "Epoch 7/50\n",
      "819/819 [==============================] - 487s 594ms/step - loss: 12.4665 - mae: 2.7386 - val_loss: 9.3970 - val_mae: 2.3801\n",
      "Epoch 8/50\n",
      "819/819 [==============================] - 487s 595ms/step - loss: 12.2576 - mae: 2.7162 - val_loss: 9.4213 - val_mae: 2.3869\n",
      "Epoch 9/50\n",
      "819/819 [==============================] - 487s 594ms/step - loss: 12.0159 - mae: 2.6902 - val_loss: 9.3894 - val_mae: 2.3712\n",
      "Epoch 10/50\n",
      "819/819 [==============================] - 487s 594ms/step - loss: 11.8758 - mae: 2.6734 - val_loss: 9.4828 - val_mae: 2.3891\n",
      "Epoch 11/50\n",
      "819/819 [==============================] - 486s 593ms/step - loss: 11.7101 - mae: 2.6549 - val_loss: 9.3750 - val_mae: 2.3872\n",
      "Epoch 12/50\n",
      "819/819 [==============================] - 487s 594ms/step - loss: 11.5885 - mae: 2.6423 - val_loss: 9.5443 - val_mae: 2.3966\n",
      "Epoch 13/50\n",
      "819/819 [==============================] - 486s 594ms/step - loss: 11.5118 - mae: 2.6316 - val_loss: 9.5954 - val_mae: 2.4014\n",
      "Epoch 14/50\n",
      "819/819 [==============================] - 487s 594ms/step - loss: 11.3089 - mae: 2.6099 - val_loss: 9.6667 - val_mae: 2.4093\n",
      "Epoch 15/50\n",
      "819/819 [==============================] - 487s 594ms/step - loss: 11.2926 - mae: 2.6106 - val_loss: 9.7189 - val_mae: 2.4142\n",
      "Epoch 16/50\n",
      "819/819 [==============================] - 486s 594ms/step - loss: 11.2037 - mae: 2.5959 - val_loss: 9.8354 - val_mae: 2.4234\n",
      "Epoch 17/50\n",
      "819/819 [==============================] - 492s 600ms/step - loss: 11.0529 - mae: 2.5819 - val_loss: 9.8661 - val_mae: 2.4403\n",
      "Epoch 18/50\n",
      "819/819 [==============================] - 487s 594ms/step - loss: 10.9718 - mae: 2.5706 - val_loss: 9.7750 - val_mae: 2.4278\n",
      "Epoch 19/50\n",
      "819/819 [==============================] - 488s 595ms/step - loss: 10.9584 - mae: 2.5707 - val_loss: 9.7953 - val_mae: 2.4249\n",
      "Epoch 20/50\n",
      "819/819 [==============================] - 487s 594ms/step - loss: 10.8734 - mae: 2.5588 - val_loss: 9.9925 - val_mae: 2.4481\n",
      "Epoch 21/50\n",
      "819/819 [==============================] - 487s 594ms/step - loss: 10.8494 - mae: 2.5558 - val_loss: 10.1303 - val_mae: 2.4601\n",
      "Epoch 22/50\n",
      "819/819 [==============================] - 487s 595ms/step - loss: 10.7681 - mae: 2.5461 - val_loss: 10.0818 - val_mae: 2.4545\n",
      "Epoch 23/50\n",
      "819/819 [==============================] - 487s 595ms/step - loss: 10.6994 - mae: 2.5398 - val_loss: 10.1098 - val_mae: 2.4651\n",
      "Epoch 24/50\n",
      "819/819 [==============================] - 487s 595ms/step - loss: 10.6871 - mae: 2.5381 - val_loss: 10.2629 - val_mae: 2.4771\n",
      "Epoch 25/50\n",
      "819/819 [==============================] - 487s 595ms/step - loss: 10.5990 - mae: 2.5280 - val_loss: 10.1319 - val_mae: 2.4647\n",
      "Epoch 26/50\n",
      "819/819 [==============================] - 487s 595ms/step - loss: 10.5512 - mae: 2.5247 - val_loss: 10.4120 - val_mae: 2.4899\n",
      "Epoch 27/50\n",
      "819/819 [==============================] - 487s 595ms/step - loss: 10.5236 - mae: 2.5178 - val_loss: 10.1772 - val_mae: 2.4661\n",
      "Epoch 28/50\n",
      "819/819 [==============================] - 487s 595ms/step - loss: 10.4490 - mae: 2.5132 - val_loss: 10.2501 - val_mae: 2.4773\n",
      "Epoch 29/50\n",
      "819/819 [==============================] - 501s 612ms/step - loss: 10.3969 - mae: 2.5030 - val_loss: 10.2014 - val_mae: 2.4699\n",
      "Epoch 30/50\n",
      "819/819 [==============================] - 572s 698ms/step - loss: 10.3516 - mae: 2.5006 - val_loss: 10.4337 - val_mae: 2.5044\n",
      "Epoch 31/50\n",
      "819/819 [==============================] - 497s 606ms/step - loss: 10.3083 - mae: 2.4946 - val_loss: 10.4832 - val_mae: 2.4988\n",
      "Epoch 32/50\n",
      "819/819 [==============================] - 598s 730ms/step - loss: 10.2627 - mae: 2.4883 - val_loss: 10.6749 - val_mae: 2.5224\n",
      "Epoch 33/50\n",
      "819/819 [==============================] - 572s 698ms/step - loss: 10.2743 - mae: 2.4913 - val_loss: 10.5705 - val_mae: 2.5154\n",
      "Epoch 34/50\n",
      "819/819 [==============================] - 508s 620ms/step - loss: 10.1964 - mae: 2.4795 - val_loss: 10.5433 - val_mae: 2.5219\n",
      "Epoch 35/50\n",
      "819/819 [==============================] - 640s 782ms/step - loss: 10.2149 - mae: 2.4827 - val_loss: 10.4991 - val_mae: 2.5133\n",
      "Epoch 36/50\n",
      "819/819 [==============================] - 625s 763ms/step - loss: 10.1077 - mae: 2.4707 - val_loss: 10.2351 - val_mae: 2.4858\n",
      "Epoch 37/50\n",
      "819/819 [==============================] - 624s 761ms/step - loss: 10.1546 - mae: 2.4778 - val_loss: 10.2690 - val_mae: 2.4896\n",
      "Epoch 38/50\n",
      "819/819 [==============================] - 575s 701ms/step - loss: 10.0836 - mae: 2.4664 - val_loss: 10.5164 - val_mae: 2.5104\n",
      "Epoch 39/50\n",
      "819/819 [==============================] - 575s 701ms/step - loss: 9.9872 - mae: 2.4579 - val_loss: 10.7619 - val_mae: 2.5422\n",
      "Epoch 40/50\n",
      "819/819 [==============================] - 582s 711ms/step - loss: 10.0101 - mae: 2.4592 - val_loss: 10.7429 - val_mae: 2.5371\n",
      "Epoch 41/50\n",
      "819/819 [==============================] - 567s 692ms/step - loss: 9.9546 - mae: 2.4540 - val_loss: 10.5048 - val_mae: 2.5152\n",
      "Epoch 42/50\n",
      "819/819 [==============================] - 592s 722ms/step - loss: 10.0121 - mae: 2.4565 - val_loss: 10.7225 - val_mae: 2.5341\n",
      "Epoch 43/50\n",
      "819/819 [==============================] - 551s 672ms/step - loss: 9.9425 - mae: 2.4508 - val_loss: 10.7924 - val_mae: 2.5417\n",
      "Epoch 44/50\n",
      "819/819 [==============================] - 559s 682ms/step - loss: 9.8558 - mae: 2.4414 - val_loss: 10.6268 - val_mae: 2.5282\n",
      "Epoch 45/50\n",
      "819/819 [==============================] - 497s 606ms/step - loss: 9.8525 - mae: 2.4416 - val_loss: 10.7811 - val_mae: 2.5493\n",
      "Epoch 46/50\n",
      "819/819 [==============================] - 483s 590ms/step - loss: 9.8526 - mae: 2.4418 - val_loss: 11.1391 - val_mae: 2.5991\n",
      "Epoch 47/50\n",
      "819/819 [==============================] - 483s 590ms/step - loss: 9.7915 - mae: 2.4357 - val_loss: 10.6029 - val_mae: 2.5266\n",
      "Epoch 48/50\n",
      "819/819 [==============================] - 483s 590ms/step - loss: 9.8064 - mae: 2.4361 - val_loss: 10.5887 - val_mae: 2.5354\n",
      "Epoch 49/50\n",
      "819/819 [==============================] - 483s 590ms/step - loss: 9.7915 - mae: 2.4348 - val_loss: 10.7643 - val_mae: 2.5447\n",
      "Epoch 50/50\n",
      "819/819 [==============================] - 483s 589ms/step - loss: 9.7686 - mae: 2.4304 - val_loss: 10.7086 - val_mae: 2.5424\n"
     ]
    }
   ],
   "source": [
    "callbacks = [\n",
    "    tf.keras.callbacks.ModelCheckpoint(\n",
    "        base_dir / \"jena_lstm_dropout.keras\",\n",
    "        save_best_only=True\n",
    "    )\n",
    "]\n",
    "model.compile(optimizer=\"rmsprop\", loss=\"mse\", metrics=[\"mae\"])\n",
    "history = model.fit(\n",
    "    train_dataset,\n",
    "    epochs=50,\n",
    "    validation_data=val_dataset,\n",
    "    callbacks=callbacks\n",
    ")"
   ]
  },
  {
   "cell_type": "code",
   "execution_count": 17,
   "metadata": {
    "colab": {
     "base_uri": "https://localhost:8080/",
     "height": 281
    },
    "id": "bVLHhkg9e_h_",
    "outputId": "ebc056eb-0256-47ee-97df-69d261284822",
    "slideshow": {
     "slide_type": "skip"
    }
   },
   "outputs": [
    {
     "data": {
      "image/png": "[encoded data removed]",
      "text/plain": [
       "<Figure size 640x480 with 1 Axes>"
      ]
     },
     "metadata": {},
     "output_type": "display_data"
    }
   ],
   "source": [
    "plot_history(history)"
   ]
  },
  {
   "cell_type": "code",
   "execution_count": 23,
   "metadata": {
    "colab": {
     "base_uri": "https://localhost:8080/"
    },
    "id": "TTnUEsVJe_iA",
    "outputId": "eb94fcd0-741b-4398-b7bb-72a22ba83745",
    "slideshow": {
     "slide_type": "skip"
    }
   },
   "outputs": [
    {
     "name": "stdout",
     "output_type": "stream",
     "text": [
      "WARNING:tensorflow:Layer lstm will not use cuDNN kernels since it doesn't meet the criteria. It will use a generic GPU kernel as fallback when running on GPU.\n",
      "405/405 [==============================] - 40s 96ms/step - loss: 12.6225 - mae: 2.8318\n",
      "Test MAE: 2.83\n"
     ]
    }
   ],
   "source": [
    "model = tf.keras.models.load_model(base_dir / \"jena_lstm_dropout.keras\")\n",
    "print(f\"Test MAE: {model.evaluate(test_dataset)[1]:.2f}\")"
   ]
  },
  {
   "cell_type": "markdown",
   "metadata": {
    "slideshow": {
     "slide_type": "skip"
    }
   },
   "source": [
    "#### Training and evaluating an LSTM without dropout"
   ]
  },
  {
   "cell_type": "code",
   "execution_count": 47,
   "metadata": {
    "slideshow": {
     "slide_type": "skip"
    }
   },
   "outputs": [],
   "source": [
    "tf.keras.backend.clear_session()\n",
    "\n",
    "inputs = tf.keras.Input(shape=(sequence_length, raw_data.shape[-1]))\n",
    "x = tf.keras.layers.LSTM(32)(inputs)\n",
    "x = tf.keras.layers.Dropout(0.5)(x)\n",
    "outputs = tf.keras.layers.Dense(1)(x)\n",
    "model = tf.keras.Model(inputs, outputs)"
   ]
  },
  {
   "cell_type": "code",
   "execution_count": 48,
   "metadata": {
    "collapsed": true,
    "jupyter": {
     "outputs_hidden": true
    },
    "slideshow": {
     "slide_type": "skip"
    },
    "tags": []
   },
   "outputs": [
    {
     "name": "stdout",
     "output_type": "stream",
     "text": [
      "Epoch 1/50\n",
      "819/819 [==============================] - 44s 48ms/step - loss: 26.7083 - mae: 3.8154 - val_loss: 9.7099 - val_mae: 2.4157\n",
      "Epoch 2/50\n",
      "819/819 [==============================] - 37s 45ms/step - loss: 14.5428 - mae: 2.9643 - val_loss: 9.7203 - val_mae: 2.4169\n",
      "Epoch 3/50\n",
      "819/819 [==============================] - 37s 45ms/step - loss: 13.7138 - mae: 2.8719 - val_loss: 10.0920 - val_mae: 2.4647\n",
      "Epoch 4/50\n",
      "819/819 [==============================] - 37s 45ms/step - loss: 13.0375 - mae: 2.7995 - val_loss: 9.4536 - val_mae: 2.3768\n",
      "Epoch 5/50\n",
      "819/819 [==============================] - 37s 45ms/step - loss: 12.4251 - mae: 2.7290 - val_loss: 9.9472 - val_mae: 2.4384\n",
      "Epoch 6/50\n",
      "819/819 [==============================] - 37s 45ms/step - loss: 11.8576 - mae: 2.6652 - val_loss: 9.7328 - val_mae: 2.4212\n",
      "Epoch 7/50\n",
      "819/819 [==============================] - 37s 45ms/step - loss: 11.5404 - mae: 2.6298 - val_loss: 10.0430 - val_mae: 2.4521\n",
      "Epoch 8/50\n",
      "819/819 [==============================] - 38s 46ms/step - loss: 11.2927 - mae: 2.6002 - val_loss: 10.4057 - val_mae: 2.4909\n",
      "Epoch 9/50\n",
      "819/819 [==============================] - 37s 45ms/step - loss: 10.9547 - mae: 2.5610 - val_loss: 10.2127 - val_mae: 2.4769\n",
      "Epoch 10/50\n",
      "819/819 [==============================] - 37s 44ms/step - loss: 10.7073 - mae: 2.5327 - val_loss: 10.1970 - val_mae: 2.4751\n",
      "Epoch 11/50\n",
      "819/819 [==============================] - 37s 45ms/step - loss: 10.3817 - mae: 2.4943 - val_loss: 10.2255 - val_mae: 2.4793\n",
      "Epoch 12/50\n",
      "819/819 [==============================] - 37s 45ms/step - loss: 10.1327 - mae: 2.4631 - val_loss: 10.0946 - val_mae: 2.4654\n",
      "Epoch 13/50\n",
      "819/819 [==============================] - 37s 45ms/step - loss: 9.9489 - mae: 2.4457 - val_loss: 10.1260 - val_mae: 2.4717\n",
      "Epoch 14/50\n",
      "819/819 [==============================] - 37s 45ms/step - loss: 9.7713 - mae: 2.4211 - val_loss: 10.3669 - val_mae: 2.4883\n",
      "Epoch 15/50\n",
      "819/819 [==============================] - 37s 45ms/step - loss: 9.5394 - mae: 2.3922 - val_loss: 10.4928 - val_mae: 2.5109\n",
      "Epoch 16/50\n",
      "819/819 [==============================] - 37s 45ms/step - loss: 9.4071 - mae: 2.3741 - val_loss: 10.5734 - val_mae: 2.5450\n",
      "Epoch 17/50\n",
      "819/819 [==============================] - 37s 45ms/step - loss: 9.2541 - mae: 2.3554 - val_loss: 10.5896 - val_mae: 2.5395\n",
      "Epoch 18/50\n",
      "819/819 [==============================] - 37s 45ms/step - loss: 9.1237 - mae: 2.3368 - val_loss: 10.6599 - val_mae: 2.5422\n",
      "Epoch 19/50\n",
      "819/819 [==============================] - 35s 42ms/step - loss: 8.9940 - mae: 2.3232 - val_loss: 10.9217 - val_mae: 2.5869\n",
      "Epoch 20/50\n",
      "819/819 [==============================] - 34s 41ms/step - loss: 8.8536 - mae: 2.3046 - val_loss: 10.7392 - val_mae: 2.5473\n",
      "Epoch 21/50\n",
      "819/819 [==============================] - 44s 53ms/step - loss: 8.7574 - mae: 2.2910 - val_loss: 11.8236 - val_mae: 2.6703\n",
      "Epoch 22/50\n",
      "819/819 [==============================] - 42s 51ms/step - loss: 8.6833 - mae: 2.2831 - val_loss: 11.2098 - val_mae: 2.6017\n",
      "Epoch 23/50\n",
      "819/819 [==============================] - 38s 46ms/step - loss: 8.5802 - mae: 2.2681 - val_loss: 10.8805 - val_mae: 2.5666\n",
      "Epoch 24/50\n",
      "819/819 [==============================] - 37s 45ms/step - loss: 8.5002 - mae: 2.2559 - val_loss: 11.0887 - val_mae: 2.5835\n",
      "Epoch 25/50\n",
      "819/819 [==============================] - 37s 45ms/step - loss: 8.4247 - mae: 2.2461 - val_loss: 10.8044 - val_mae: 2.5463\n",
      "Epoch 26/50\n",
      "819/819 [==============================] - 37s 44ms/step - loss: 8.3352 - mae: 2.2358 - val_loss: 12.1802 - val_mae: 2.6920\n",
      "Epoch 27/50\n",
      "819/819 [==============================] - 37s 45ms/step - loss: 8.2558 - mae: 2.2239 - val_loss: 12.4034 - val_mae: 2.7329\n",
      "Epoch 28/50\n",
      "819/819 [==============================] - 35s 43ms/step - loss: 8.1896 - mae: 2.2110 - val_loss: 11.4036 - val_mae: 2.6126\n",
      "Epoch 29/50\n",
      "819/819 [==============================] - 36s 43ms/step - loss: 8.1490 - mae: 2.2083 - val_loss: 12.1784 - val_mae: 2.6846\n",
      "Epoch 30/50\n",
      "819/819 [==============================] - 37s 44ms/step - loss: 8.0597 - mae: 2.1964 - val_loss: 11.4027 - val_mae: 2.6184\n",
      "Epoch 31/50\n",
      "819/819 [==============================] - 37s 45ms/step - loss: 8.0654 - mae: 2.1956 - val_loss: 11.9143 - val_mae: 2.6690\n",
      "Epoch 32/50\n",
      "819/819 [==============================] - 37s 45ms/step - loss: 7.8913 - mae: 2.1725 - val_loss: 11.7018 - val_mae: 2.6505\n",
      "Epoch 33/50\n",
      "819/819 [==============================] - 36s 44ms/step - loss: 7.9013 - mae: 2.1741 - val_loss: 11.8247 - val_mae: 2.6613\n",
      "Epoch 34/50\n",
      "819/819 [==============================] - 37s 45ms/step - loss: 7.8590 - mae: 2.1648 - val_loss: 12.1849 - val_mae: 2.7046\n",
      "Epoch 35/50\n",
      "819/819 [==============================] - 36s 44ms/step - loss: 7.7431 - mae: 2.1502 - val_loss: 11.5234 - val_mae: 2.6349\n",
      "Epoch 36/50\n",
      "819/819 [==============================] - 37s 45ms/step - loss: 7.7453 - mae: 2.1497 - val_loss: 11.7727 - val_mae: 2.6714\n",
      "Epoch 37/50\n",
      "819/819 [==============================] - 37s 45ms/step - loss: 7.6532 - mae: 2.1370 - val_loss: 11.6235 - val_mae: 2.6436\n",
      "Epoch 38/50\n",
      "819/819 [==============================] - 36s 44ms/step - loss: 7.6195 - mae: 2.1336 - val_loss: 11.8991 - val_mae: 2.6742\n",
      "Epoch 39/50\n",
      "819/819 [==============================] - 39s 48ms/step - loss: 7.7030 - mae: 2.1409 - val_loss: 12.0482 - val_mae: 2.6958\n",
      "Epoch 40/50\n",
      "819/819 [==============================] - 41s 50ms/step - loss: 7.5492 - mae: 2.1225 - val_loss: 11.9446 - val_mae: 2.6762\n",
      "Epoch 41/50\n",
      "819/819 [==============================] - 45s 55ms/step - loss: 7.5437 - mae: 2.1216 - val_loss: 12.0005 - val_mae: 2.6854\n",
      "Epoch 42/50\n",
      "819/819 [==============================] - 43s 52ms/step - loss: 7.4767 - mae: 2.1106 - val_loss: 12.1137 - val_mae: 2.6974\n",
      "Epoch 43/50\n",
      "819/819 [==============================] - 39s 48ms/step - loss: 7.4584 - mae: 2.1085 - val_loss: 11.6893 - val_mae: 2.6431\n",
      "Epoch 44/50\n",
      "819/819 [==============================] - 37s 44ms/step - loss: 7.4321 - mae: 2.1055 - val_loss: 11.6967 - val_mae: 2.6597\n",
      "Epoch 45/50\n",
      "819/819 [==============================] - 37s 44ms/step - loss: 7.4037 - mae: 2.1015 - val_loss: 11.9128 - val_mae: 2.6769\n",
      "Epoch 46/50\n",
      "819/819 [==============================] - 37s 45ms/step - loss: 7.3470 - mae: 2.0902 - val_loss: 12.2131 - val_mae: 2.7172\n",
      "Epoch 47/50\n",
      "819/819 [==============================] - 37s 45ms/step - loss: 7.2309 - mae: 2.0764 - val_loss: 12.1576 - val_mae: 2.7055\n",
      "Epoch 48/50\n",
      "819/819 [==============================] - 36s 44ms/step - loss: 7.3033 - mae: 2.0852 - val_loss: 12.1388 - val_mae: 2.6890\n",
      "Epoch 49/50\n",
      "819/819 [==============================] - 36s 44ms/step - loss: 7.2482 - mae: 2.0790 - val_loss: 12.3308 - val_mae: 2.7184\n",
      "Epoch 50/50\n",
      "819/819 [==============================] - 37s 45ms/step - loss: 7.2399 - mae: 2.0738 - val_loss: 11.9299 - val_mae: 2.6727\n"
     ]
    }
   ],
   "source": [
    "callbacks = [\n",
    "    tf.keras.callbacks.ModelCheckpoint(\n",
    "        base_dir / \"jena_lstm_no_dropout.keras\",\n",
    "        save_best_only=True\n",
    "    )\n",
    "]\n",
    "model.compile(\n",
    "    optimizer=\"rmsprop\",\n",
    "    loss=\"mse\",\n",
    "    metrics=[\"mae\"]\n",
    ")\n",
    "\n",
    "history = model.fit(\n",
    "    train_dataset,\n",
    "    epochs=50,\n",
    "    validation_data=val_dataset,\n",
    "    callbacks=callbacks\n",
    ")"
   ]
  },
  {
   "cell_type": "code",
   "execution_count": 50,
   "metadata": {
    "slideshow": {
     "slide_type": "skip"
    }
   },
   "outputs": [
    {
     "data": {
      "image/png": "[encoded data removed]",
      "text/plain": [
       "<Figure size 640x480 with 1 Axes>"
      ]
     },
     "metadata": {},
     "output_type": "display_data"
    }
   ],
   "source": [
    "plot_history(history)"
   ]
  },
  {
   "cell_type": "code",
   "execution_count": 51,
   "metadata": {
    "slideshow": {
     "slide_type": "skip"
    }
   },
   "outputs": [
    {
     "name": "stdout",
     "output_type": "stream",
     "text": [
      "405/405 [==============================] - 15s 33ms/step - loss: 11.3424 - mae: 2.6750\n",
      "Test MAE: 2.68\n"
     ]
    }
   ],
   "source": [
    "model = tf.keras.models.load_model(base_dir / \"jena_lstm_no_dropout.keras\")\n",
    "print(f\"Test MAE: {model.evaluate(test_dataset)[1]:.2f}\")"
   ]
  },
  {
   "cell_type": "markdown",
   "metadata": {
    "slideshow": {
     "slide_type": "subslide"
    }
   },
   "source": [
    "#### Training and evaluating an L2-regularized LSTM\n",
    "\n",
    "There is also such a thing as a `recurrent_regularizer`! (Works as usual.)"
   ]
  },
  {
   "cell_type": "code",
   "execution_count": 66,
   "metadata": {
    "slideshow": {
     "slide_type": "fragment"
    }
   },
   "outputs": [],
   "source": [
    "inputs = tf.keras.Input(shape=(sequence_length, raw_data.shape[-1]))\n",
    "                           # ↓ recurrent regularizer\n",
    "x = tf.keras.layers.LSTM(32, recurrent_regularizer=tf.keras.regularizers.L2(0.3))(inputs)\n",
    "x = tf.keras.layers.Dropout(0.5)(x)\n",
    "outputs = tf.keras.layers.Dense(1)(x)\n",
    "model = tf.keras.Model(inputs, outputs)"
   ]
  },
  {
   "cell_type": "code",
   "execution_count": 67,
   "metadata": {
    "collapsed": true,
    "jupyter": {
     "outputs_hidden": true
    },
    "slideshow": {
     "slide_type": "skip"
    },
    "tags": []
   },
   "outputs": [
    {
     "name": "stdout",
     "output_type": "stream",
     "text": [
      "Epoch 1/50\n",
      "819/819 [==============================] - 55s 61ms/step - loss: 26.8447 - mae: 3.7322 - val_loss: 10.7634 - val_mae: 2.5036\n",
      "Epoch 2/50\n",
      "819/819 [==============================] - 58s 70ms/step - loss: 15.3377 - mae: 3.0156 - val_loss: 10.1983 - val_mae: 2.4559\n",
      "Epoch 3/50\n",
      "819/819 [==============================] - 52s 63ms/step - loss: 14.6213 - mae: 2.9436 - val_loss: 9.4174 - val_mae: 2.3669\n",
      "Epoch 4/50\n",
      "819/819 [==============================] - 43s 52ms/step - loss: 14.1971 - mae: 2.8984 - val_loss: 9.9144 - val_mae: 2.4293\n",
      "Epoch 5/50\n",
      "819/819 [==============================] - 48s 59ms/step - loss: 13.8581 - mae: 2.8606 - val_loss: 9.4468 - val_mae: 2.3789\n",
      "Epoch 6/50\n",
      "819/819 [==============================] - 41s 50ms/step - loss: 13.5553 - mae: 2.8302 - val_loss: 9.3779 - val_mae: 2.3688\n",
      "Epoch 7/50\n",
      "819/819 [==============================] - 45s 55ms/step - loss: 13.3202 - mae: 2.8003 - val_loss: 12.0196 - val_mae: 2.6448\n",
      "Epoch 8/50\n",
      "819/819 [==============================] - 43s 52ms/step - loss: 13.1072 - mae: 2.7785 - val_loss: 9.6204 - val_mae: 2.3915\n",
      "Epoch 9/50\n",
      "819/819 [==============================] - 46s 55ms/step - loss: 12.8397 - mae: 2.7487 - val_loss: 9.6728 - val_mae: 2.3983\n",
      "Epoch 10/50\n",
      "819/819 [==============================] - 48s 58ms/step - loss: 12.7717 - mae: 2.7413 - val_loss: 9.8369 - val_mae: 2.4111\n",
      "Epoch 11/50\n",
      "819/819 [==============================] - 47s 56ms/step - loss: 12.5958 - mae: 2.7220 - val_loss: 10.0076 - val_mae: 2.4299\n",
      "Epoch 12/50\n",
      "819/819 [==============================] - 53s 65ms/step - loss: 12.4006 - mae: 2.6977 - val_loss: 9.5905 - val_mae: 2.3725\n",
      "Epoch 13/50\n",
      "819/819 [==============================] - 50s 60ms/step - loss: 12.2347 - mae: 2.6755 - val_loss: 9.8163 - val_mae: 2.4063\n",
      "Epoch 14/50\n",
      "819/819 [==============================] - 55s 66ms/step - loss: 12.0275 - mae: 2.6501 - val_loss: 9.6475 - val_mae: 2.3732\n",
      "Epoch 15/50\n",
      "819/819 [==============================] - 48s 59ms/step - loss: 11.9202 - mae: 2.6348 - val_loss: 9.8862 - val_mae: 2.4022\n",
      "Epoch 16/50\n",
      "819/819 [==============================] - 49s 59ms/step - loss: 11.7537 - mae: 2.6130 - val_loss: 10.1679 - val_mae: 2.4353\n",
      "Epoch 17/50\n",
      "819/819 [==============================] - 54s 65ms/step - loss: 11.5190 - mae: 2.5811 - val_loss: 10.2184 - val_mae: 2.4352\n",
      "Epoch 18/50\n",
      "819/819 [==============================] - 47s 56ms/step - loss: 11.4086 - mae: 2.5681 - val_loss: 10.1192 - val_mae: 2.4157\n",
      "Epoch 19/50\n",
      "819/819 [==============================] - 40s 49ms/step - loss: 11.2304 - mae: 2.5451 - val_loss: 11.0655 - val_mae: 2.5447\n",
      "Epoch 20/50\n",
      "819/819 [==============================] - 40s 49ms/step - loss: 11.1775 - mae: 2.5395 - val_loss: 10.7267 - val_mae: 2.5015\n",
      "Epoch 21/50\n",
      "819/819 [==============================] - 40s 48ms/step - loss: 11.0953 - mae: 2.5268 - val_loss: 10.1625 - val_mae: 2.4169\n",
      "Epoch 22/50\n",
      "819/819 [==============================] - 40s 48ms/step - loss: 11.0368 - mae: 2.5215 - val_loss: 10.7460 - val_mae: 2.4970\n",
      "Epoch 23/50\n",
      "819/819 [==============================] - 38s 47ms/step - loss: 10.9134 - mae: 2.5084 - val_loss: 10.9140 - val_mae: 2.5199\n",
      "Epoch 24/50\n",
      "819/819 [==============================] - 39s 47ms/step - loss: 10.8744 - mae: 2.4996 - val_loss: 10.7375 - val_mae: 2.4885\n",
      "Epoch 25/50\n",
      "819/819 [==============================] - 45s 54ms/step - loss: 10.8190 - mae: 2.4931 - val_loss: 10.8817 - val_mae: 2.5188\n",
      "Epoch 26/50\n",
      "819/819 [==============================] - 42s 51ms/step - loss: 10.7476 - mae: 2.4856 - val_loss: 10.6427 - val_mae: 2.4658\n",
      "Epoch 27/50\n",
      "819/819 [==============================] - 39s 48ms/step - loss: 10.6389 - mae: 2.4719 - val_loss: 11.2875 - val_mae: 2.5684\n",
      "Epoch 28/50\n",
      "819/819 [==============================] - 40s 48ms/step - loss: 10.5972 - mae: 2.4668 - val_loss: 11.8092 - val_mae: 2.5980\n",
      "Epoch 29/50\n",
      "819/819 [==============================] - 39s 48ms/step - loss: 10.5307 - mae: 2.4603 - val_loss: 11.1890 - val_mae: 2.5314\n",
      "Epoch 30/50\n",
      "819/819 [==============================] - 41s 49ms/step - loss: 10.4464 - mae: 2.4487 - val_loss: 10.5719 - val_mae: 2.4685\n",
      "Epoch 31/50\n",
      "819/819 [==============================] - 39s 47ms/step - loss: 10.4117 - mae: 2.4460 - val_loss: 11.4462 - val_mae: 2.5229\n",
      "Epoch 32/50\n",
      "819/819 [==============================] - 38s 47ms/step - loss: 10.4503 - mae: 2.4472 - val_loss: 10.8016 - val_mae: 2.4749\n",
      "Epoch 33/50\n",
      "819/819 [==============================] - 39s 47ms/step - loss: 10.3302 - mae: 2.4333 - val_loss: 11.2475 - val_mae: 2.5421\n",
      "Epoch 34/50\n",
      "819/819 [==============================] - 54s 65ms/step - loss: 10.3867 - mae: 2.4416 - val_loss: 12.3700 - val_mae: 2.6792\n",
      "Epoch 35/50\n",
      "819/819 [==============================] - 63s 76ms/step - loss: 10.3504 - mae: 2.4316 - val_loss: 11.8193 - val_mae: 2.5933\n",
      "Epoch 36/50\n",
      "819/819 [==============================] - 45s 55ms/step - loss: 10.2730 - mae: 2.4230 - val_loss: 10.9420 - val_mae: 2.5174\n",
      "Epoch 37/50\n",
      "819/819 [==============================] - 46s 56ms/step - loss: 10.2088 - mae: 2.4161 - val_loss: 12.5398 - val_mae: 2.7029\n",
      "Epoch 38/50\n",
      "819/819 [==============================] - 43s 52ms/step - loss: 10.2130 - mae: 2.4161 - val_loss: 10.9092 - val_mae: 2.5048\n",
      "Epoch 39/50\n",
      "819/819 [==============================] - 41s 50ms/step - loss: 10.2107 - mae: 2.4133 - val_loss: 10.9146 - val_mae: 2.4982\n",
      "Epoch 40/50\n",
      "819/819 [==============================] - 49s 60ms/step - loss: 10.1405 - mae: 2.4030 - val_loss: 11.3077 - val_mae: 2.5608\n",
      "Epoch 41/50\n",
      "819/819 [==============================] - 44s 53ms/step - loss: 10.0970 - mae: 2.3979 - val_loss: 11.5332 - val_mae: 2.5603\n",
      "Epoch 42/50\n",
      "819/819 [==============================] - 45s 55ms/step - loss: 10.0869 - mae: 2.3969 - val_loss: 12.4292 - val_mae: 2.6749\n",
      "Epoch 43/50\n",
      "819/819 [==============================] - 47s 56ms/step - loss: 10.0790 - mae: 2.3944 - val_loss: 12.5906 - val_mae: 2.6934\n",
      "Epoch 44/50\n",
      "819/819 [==============================] - 42s 51ms/step - loss: 10.0394 - mae: 2.3899 - val_loss: 11.4537 - val_mae: 2.5841\n",
      "Epoch 45/50\n",
      "819/819 [==============================] - 42s 51ms/step - loss: 10.0339 - mae: 2.3884 - val_loss: 12.4300 - val_mae: 2.6878\n",
      "Epoch 46/50\n",
      "819/819 [==============================] - 42s 50ms/step - loss: 9.9682 - mae: 2.3812 - val_loss: 12.8600 - val_mae: 2.7420\n",
      "Epoch 47/50\n",
      "819/819 [==============================] - 48s 58ms/step - loss: 9.9975 - mae: 2.3824 - val_loss: 12.6371 - val_mae: 2.6988\n",
      "Epoch 48/50\n",
      "819/819 [==============================] - 49s 60ms/step - loss: 9.9072 - mae: 2.3762 - val_loss: 13.8590 - val_mae: 2.8245\n",
      "Epoch 49/50\n",
      "819/819 [==============================] - 45s 54ms/step - loss: 9.9409 - mae: 2.3780 - val_loss: 11.8648 - val_mae: 2.6174\n",
      "Epoch 50/50\n",
      "819/819 [==============================] - 46s 56ms/step - loss: 9.9091 - mae: 2.3729 - val_loss: 12.0899 - val_mae: 2.6508\n"
     ]
    }
   ],
   "source": [
    "callbacks = [\n",
    "    tf.keras.callbacks.ModelCheckpoint(\n",
    "        base_dir / \"jena_lstm_l2.keras\",\n",
    "        save_best_only=True\n",
    "    )\n",
    "]\n",
    "model.compile(\n",
    "    optimizer=\"rmsprop\",\n",
    "    loss=\"mse\",\n",
    "    metrics=[\"mae\"]\n",
    ")\n",
    "\n",
    "history = model.fit(\n",
    "    train_dataset,\n",
    "    epochs=50,\n",
    "    validation_data=val_dataset,\n",
    "    callbacks=callbacks\n",
    ")"
   ]
  },
  {
   "cell_type": "code",
   "execution_count": 68,
   "metadata": {
    "slideshow": {
     "slide_type": "skip"
    }
   },
   "outputs": [
    {
     "data": {
      "image/png": "[encoded data removed]",
      "text/plain": [
       "<Figure size 640x480 with 1 Axes>"
      ]
     },
     "metadata": {},
     "output_type": "display_data"
    }
   ],
   "source": [
    "plot_history(history)"
   ]
  },
  {
   "cell_type": "code",
   "execution_count": 69,
   "metadata": {
    "slideshow": {
     "slide_type": "skip"
    }
   },
   "outputs": [
    {
     "name": "stdout",
     "output_type": "stream",
     "text": [
      "405/405 [==============================] - 15s 31ms/step - loss: 10.2702 - mae: 2.4884\n",
      "Test MAE: 2.49\n"
     ]
    }
   ],
   "source": [
    "model = tf.keras.models.load_model(base_dir / \"jena_lstm_l2.keras\")\n",
    "print(f\"Test MAE: {model.evaluate(test_dataset)[1]:.2f}\")"
   ]
  },
  {
   "cell_type": "markdown",
   "metadata": {
    "slideshow": {
     "slide_type": "slide"
    }
   },
   "source": [
    "---\n",
    "\n",
    "### 10.4.2 Stacking recurrent layers"
   ]
  },
  {
   "cell_type": "markdown",
   "metadata": {
    "slideshow": {
     "slide_type": "subslide"
    }
   },
   "source": [
    "#### Training and evaluating a dropout-regularized, stacked GRU model"
   ]
  },
  {
   "cell_type": "code",
   "execution_count": null,
   "metadata": {
    "slideshow": {
     "slide_type": "fragment"
    }
   },
   "outputs": [],
   "source": [
    "tf.keras.backend.clear_session()\n",
    "\n",
    "inputs = tf.keras.Input(shape=(sequence_length, raw_data.shape[-1]))\n",
    "                                                #  we return all inner states\n",
    "x = tf.keras.layers.GRU(32, recurrent_dropout=0.5, return_sequences=True)(inputs) \n",
    "x = tf.keras.layers.GRU(32, recurrent_dropout=0.5)(x) # Note: recurrent_dropout is INSANELY slow!!\n",
    "x = tf.keras.layers.Dropout(0.5)(x)\n",
    "outputs = tf.keras.layers.Dense(1)(x)\n",
    "model = tf.keras.Model(inputs, outputs)"
   ]
  },
  {
   "cell_type": "code",
   "execution_count": 82,
   "metadata": {
    "slideshow": {
     "slide_type": "skip"
    },
    "tags": []
   },
   "outputs": [
    {
     "name": "stdout",
     "output_type": "stream",
     "text": [
      "Epoch 1/50\n",
      "819/819 [==============================] - 63s 67ms/step - loss: 23.7877 - mae: 3.5989 - val_loss: 9.6007 - val_mae: 2.4036\n",
      "Epoch 2/50\n",
      "819/819 [==============================] - 48s 58ms/step - loss: 13.5259 - mae: 2.8480 - val_loss: 8.7607 - val_mae: 2.3002\n",
      "Epoch 3/50\n",
      "819/819 [==============================] - 52s 63ms/step - loss: 12.6162 - mae: 2.7534 - val_loss: 9.0290 - val_mae: 2.3423\n",
      "Epoch 4/50\n",
      "819/819 [==============================] - 51s 62ms/step - loss: 11.8460 - mae: 2.6671 - val_loss: 9.0395 - val_mae: 2.3351\n",
      "Epoch 5/50\n",
      "819/819 [==============================] - 52s 63ms/step - loss: 11.1696 - mae: 2.5920 - val_loss: 9.0035 - val_mae: 2.3326\n",
      "Epoch 6/50\n",
      "819/819 [==============================] - 50s 61ms/step - loss: 10.5718 - mae: 2.5176 - val_loss: 9.9742 - val_mae: 2.4454\n",
      "Epoch 7/50\n",
      "819/819 [==============================] - 50s 61ms/step - loss: 9.9833 - mae: 2.4449 - val_loss: 10.1086 - val_mae: 2.4748\n",
      "Epoch 8/50\n",
      "819/819 [==============================] - 48s 58ms/step - loss: 9.3712 - mae: 2.3684 - val_loss: 10.6151 - val_mae: 2.5352\n",
      "Epoch 9/50\n",
      "819/819 [==============================] - 45s 55ms/step - loss: 8.8526 - mae: 2.3006 - val_loss: 10.9461 - val_mae: 2.5653\n",
      "Epoch 10/50\n",
      "819/819 [==============================] - 51s 62ms/step - loss: 8.4391 - mae: 2.2406 - val_loss: 12.0970 - val_mae: 2.7330\n",
      "Epoch 11/50\n",
      "819/819 [==============================] - 55s 67ms/step - loss: 7.9437 - mae: 2.1773 - val_loss: 10.9774 - val_mae: 2.5657\n",
      "Epoch 12/50\n",
      "819/819 [==============================] - 44s 54ms/step - loss: 7.6026 - mae: 2.1247 - val_loss: 12.2314 - val_mae: 2.7401\n",
      "Epoch 13/50\n",
      "819/819 [==============================] - 42s 51ms/step - loss: 7.2764 - mae: 2.0785 - val_loss: 11.7316 - val_mae: 2.6924\n",
      "Epoch 14/50\n",
      "819/819 [==============================] - 43s 53ms/step - loss: 6.9120 - mae: 2.0258 - val_loss: 11.9078 - val_mae: 2.6906\n",
      "Epoch 15/50\n",
      "819/819 [==============================] - 43s 52ms/step - loss: 6.6471 - mae: 1.9817 - val_loss: 12.1723 - val_mae: 2.7119\n",
      "Epoch 16/50\n",
      "819/819 [==============================] - 43s 52ms/step - loss: 6.4071 - mae: 1.9476 - val_loss: 12.6041 - val_mae: 2.7448\n",
      "Epoch 17/50\n",
      "819/819 [==============================] - 43s 53ms/step - loss: 6.1912 - mae: 1.9131 - val_loss: 12.7359 - val_mae: 2.7630\n",
      "Epoch 18/50\n",
      "819/819 [==============================] - 43s 52ms/step - loss: 6.0738 - mae: 1.8903 - val_loss: 12.6682 - val_mae: 2.7598\n",
      "Epoch 19/50\n",
      "819/819 [==============================] - 44s 53ms/step - loss: 5.8987 - mae: 1.8631 - val_loss: 12.5673 - val_mae: 2.7472\n",
      "Epoch 20/50\n",
      "819/819 [==============================] - 43s 53ms/step - loss: 5.7638 - mae: 1.8411 - val_loss: 12.3469 - val_mae: 2.7331\n",
      "Epoch 21/50\n",
      "819/819 [==============================] - 44s 54ms/step - loss: 5.6266 - mae: 1.8185 - val_loss: 13.2280 - val_mae: 2.8303\n",
      "Epoch 22/50\n",
      "819/819 [==============================] - 44s 53ms/step - loss: 5.5019 - mae: 1.7965 - val_loss: 13.0980 - val_mae: 2.8118\n",
      "Epoch 23/50\n",
      "819/819 [==============================] - 44s 53ms/step - loss: 5.4224 - mae: 1.7811 - val_loss: 13.3396 - val_mae: 2.8354\n",
      "Epoch 24/50\n",
      "819/819 [==============================] - 44s 53ms/step - loss: 5.3322 - mae: 1.7650 - val_loss: 12.9908 - val_mae: 2.8062\n",
      "Epoch 25/50\n",
      "819/819 [==============================] - 44s 53ms/step - loss: 5.2432 - mae: 1.7482 - val_loss: 13.3040 - val_mae: 2.8232\n",
      "Epoch 26/50\n",
      "819/819 [==============================] - 43s 52ms/step - loss: 5.1560 - mae: 1.7324 - val_loss: 13.4812 - val_mae: 2.8430\n",
      "Epoch 27/50\n",
      "819/819 [==============================] - 39s 47ms/step - loss: 5.0612 - mae: 1.7163 - val_loss: 13.2140 - val_mae: 2.8192\n",
      "Epoch 28/50\n",
      "819/819 [==============================] - 39s 47ms/step - loss: 5.0232 - mae: 1.7057 - val_loss: 13.0377 - val_mae: 2.8080\n",
      "Epoch 29/50\n",
      "819/819 [==============================] - 39s 48ms/step - loss: 4.9352 - mae: 1.6921 - val_loss: 13.4532 - val_mae: 2.8437\n",
      "Epoch 30/50\n",
      "819/819 [==============================] - 39s 47ms/step - loss: 4.8812 - mae: 1.6813 - val_loss: 13.0441 - val_mae: 2.8187\n",
      "Epoch 31/50\n",
      "819/819 [==============================] - 40s 48ms/step - loss: 4.8233 - mae: 1.6698 - val_loss: 13.2903 - val_mae: 2.8368\n",
      "Epoch 32/50\n",
      "819/819 [==============================] - 40s 49ms/step - loss: 4.7705 - mae: 1.6574 - val_loss: 13.3930 - val_mae: 2.8383\n",
      "Epoch 33/50\n",
      "819/819 [==============================] - 39s 47ms/step - loss: 4.7306 - mae: 1.6525 - val_loss: 13.3943 - val_mae: 2.8395\n",
      "Epoch 34/50\n",
      "819/819 [==============================] - 39s 47ms/step - loss: 4.6963 - mae: 1.6417 - val_loss: 13.0566 - val_mae: 2.8150\n",
      "Epoch 35/50\n",
      "819/819 [==============================] - 40s 48ms/step - loss: 4.6508 - mae: 1.6317 - val_loss: 13.5343 - val_mae: 2.8834\n",
      "Epoch 36/50\n",
      "819/819 [==============================] - 39s 47ms/step - loss: 4.6409 - mae: 1.6301 - val_loss: 13.5733 - val_mae: 2.8739\n",
      "Epoch 37/50\n",
      "819/819 [==============================] - 39s 47ms/step - loss: 4.5550 - mae: 1.6157 - val_loss: 13.1858 - val_mae: 2.8186\n",
      "Epoch 38/50\n",
      "819/819 [==============================] - 39s 48ms/step - loss: 4.5298 - mae: 1.6103 - val_loss: 13.3730 - val_mae: 2.8482\n",
      "Epoch 39/50\n",
      "819/819 [==============================] - 40s 48ms/step - loss: 4.5100 - mae: 1.6039 - val_loss: 13.7171 - val_mae: 2.8689\n",
      "Epoch 40/50\n",
      "819/819 [==============================] - 39s 48ms/step - loss: 4.4229 - mae: 1.5904 - val_loss: 13.4064 - val_mae: 2.8626\n",
      "Epoch 41/50\n",
      "819/819 [==============================] - 39s 47ms/step - loss: 4.4224 - mae: 1.5882 - val_loss: 13.9044 - val_mae: 2.9182\n",
      "Epoch 42/50\n",
      "819/819 [==============================] - 39s 47ms/step - loss: 4.4203 - mae: 1.5841 - val_loss: 13.3285 - val_mae: 2.8533\n",
      "Epoch 43/50\n",
      "819/819 [==============================] - 38s 46ms/step - loss: 4.3906 - mae: 1.5785 - val_loss: 13.8293 - val_mae: 2.8873\n",
      "Epoch 44/50\n",
      "819/819 [==============================] - 39s 47ms/step - loss: 4.3689 - mae: 1.5736 - val_loss: 13.2921 - val_mae: 2.8293\n",
      "Epoch 45/50\n",
      "819/819 [==============================] - 38s 47ms/step - loss: 4.3331 - mae: 1.5694 - val_loss: 13.5051 - val_mae: 2.8558\n",
      "Epoch 46/50\n",
      "819/819 [==============================] - 39s 47ms/step - loss: 4.3272 - mae: 1.5639 - val_loss: 13.7088 - val_mae: 2.8883\n",
      "Epoch 47/50\n",
      "819/819 [==============================] - 39s 47ms/step - loss: 4.2831 - mae: 1.5549 - val_loss: 13.6740 - val_mae: 2.8915\n",
      "Epoch 48/50\n",
      "819/819 [==============================] - 39s 47ms/step - loss: 4.2475 - mae: 1.5481 - val_loss: 12.9839 - val_mae: 2.8063\n",
      "Epoch 49/50\n",
      "819/819 [==============================] - 39s 47ms/step - loss: 4.2683 - mae: 1.5537 - val_loss: 13.4646 - val_mae: 2.8675\n",
      "Epoch 50/50\n",
      "819/819 [==============================] - 39s 47ms/step - loss: 4.2365 - mae: 1.5457 - val_loss: 13.7018 - val_mae: 2.8859\n"
     ]
    }
   ],
   "source": [
    "callbacks = [\n",
    "    tf.keras.callbacks.ModelCheckpoint(\n",
    "        base_dir / \"jena_stacked_gru_dropout.keras\",\n",
    "        save_best_only=True\n",
    "    )\n",
    "]\n",
    "model.compile(optimizer=\"rmsprop\", loss=\"mse\", metrics=[\"mae\"])\n",
    "history = model.fit(\n",
    "    train_dataset,\n",
    "    epochs=50,\n",
    "    validation_data=val_dataset,\n",
    "    callbacks=callbacks\n",
    ")"
   ]
  },
  {
   "cell_type": "code",
   "execution_count": 83,
   "metadata": {
    "slideshow": {
     "slide_type": "skip"
    }
   },
   "outputs": [
    {
     "data": {
      "image/png": "[encoded data removed]",
      "text/plain": [
       "<Figure size 640x480 with 1 Axes>"
      ]
     },
     "metadata": {},
     "output_type": "display_data"
    }
   ],
   "source": [
    "plot_history(history)"
   ]
  },
  {
   "cell_type": "code",
   "execution_count": null,
   "metadata": {
    "slideshow": {
     "slide_type": "skip"
    }
   },
   "outputs": [
    {
     "name": "stdout",
     "output_type": "stream",
     "text": [
      "405/405 [==============================] - 16s 33ms/step - loss: 10.0481 - mae: 2.4831\n",
      "Test MAE: 2.48\n"
     ]
    }
   ],
   "source": [
    "model = tf.keras.models.load_model(base_dir / \"jena_stacked_gru_dropout.keras\")\n",
    "print(f\"Test MAE: {model.evaluate(test_dataset)[1]:.2f}\")"
   ]
  },
  {
   "cell_type": "markdown",
   "metadata": {
    "slideshow": {
     "slide_type": "skip"
    }
   },
   "source": [
    "#### Training and evaluating an L2-regularized, stacked GRU model"
   ]
  },
  {
   "cell_type": "code",
   "execution_count": 122,
   "metadata": {
    "slideshow": {
     "slide_type": "skip"
    }
   },
   "outputs": [],
   "source": [
    "tf.keras.backend.clear_session()\n",
    "\n",
    "inputs = tf.keras.Input(shape=(sequence_length, raw_data.shape[-1]))           # we return all inner states\n",
    "x = tf.keras.layers.GRU(32, recurrent_regularizer=tf.keras.regularizers.l2(0.8), return_sequences=True)(inputs)\n",
    "x = tf.keras.layers.GRU(32, recurrent_regularizer=tf.keras.regularizers.l2(0.8))(x)\n",
    "x = tf.keras.layers.Dropout(0.5)(x) # ↑ the L2 regularizer works with cuDNN\n",
    "outputs = tf.keras.layers.Dense(1)(x)\n",
    "model = tf.keras.Model(inputs, outputs)"
   ]
  },
  {
   "cell_type": "code",
   "execution_count": 123,
   "metadata": {
    "collapsed": true,
    "jupyter": {
     "outputs_hidden": true
    },
    "slideshow": {
     "slide_type": "skip"
    },
    "tags": []
   },
   "outputs": [
    {
     "name": "stdout",
     "output_type": "stream",
     "text": [
      "Epoch 1/50\n",
      "819/819 [==============================] - 54s 51ms/step - loss: 29.5583 - mae: 3.6853 - val_loss: 9.4801 - val_mae: 2.3585\n",
      "Epoch 2/50\n",
      "819/819 [==============================] - 39s 48ms/step - loss: 14.2595 - mae: 2.9172 - val_loss: 9.2738 - val_mae: 2.3555\n",
      "Epoch 3/50\n",
      "819/819 [==============================] - 44s 54ms/step - loss: 13.7008 - mae: 2.8577 - val_loss: 10.2424 - val_mae: 2.4953\n",
      "Epoch 4/50\n",
      "819/819 [==============================] - 45s 55ms/step - loss: 13.1864 - mae: 2.8032 - val_loss: 9.2510 - val_mae: 2.3657\n",
      "Epoch 5/50\n",
      "819/819 [==============================] - 45s 54ms/step - loss: 12.8375 - mae: 2.7694 - val_loss: 9.0631 - val_mae: 2.3338\n",
      "Epoch 6/50\n",
      "819/819 [==============================] - 45s 54ms/step - loss: 12.5329 - mae: 2.7369 - val_loss: 8.9297 - val_mae: 2.3268\n",
      "Epoch 7/50\n",
      "819/819 [==============================] - 45s 55ms/step - loss: 12.2470 - mae: 2.7091 - val_loss: 9.0576 - val_mae: 2.3468\n",
      "Epoch 8/50\n",
      "819/819 [==============================] - 46s 56ms/step - loss: 11.9520 - mae: 2.6745 - val_loss: 8.7651 - val_mae: 2.2901\n",
      "Epoch 9/50\n",
      "819/819 [==============================] - 44s 54ms/step - loss: 11.7169 - mae: 2.6500 - val_loss: 9.0436 - val_mae: 2.3424\n",
      "Epoch 10/50\n",
      "819/819 [==============================] - 48s 59ms/step - loss: 11.5368 - mae: 2.6293 - val_loss: 8.8621 - val_mae: 2.3120\n",
      "Epoch 11/50\n",
      "819/819 [==============================] - 51s 62ms/step - loss: 11.3583 - mae: 2.6095 - val_loss: 8.7758 - val_mae: 2.2959\n",
      "Epoch 12/50\n",
      "819/819 [==============================] - 50s 60ms/step - loss: 11.1540 - mae: 2.5867 - val_loss: 9.3109 - val_mae: 2.3782\n",
      "Epoch 13/50\n",
      "819/819 [==============================] - 53s 65ms/step - loss: 11.0489 - mae: 2.5738 - val_loss: 8.9606 - val_mae: 2.3194\n",
      "Epoch 14/50\n",
      "819/819 [==============================] - 55s 66ms/step - loss: 10.9321 - mae: 2.5604 - val_loss: 8.8279 - val_mae: 2.3012\n",
      "Epoch 15/50\n",
      "819/819 [==============================] - 57s 69ms/step - loss: 10.8426 - mae: 2.5479 - val_loss: 8.5685 - val_mae: 2.2678\n",
      "Epoch 16/50\n",
      "819/819 [==============================] - 47s 57ms/step - loss: 10.7133 - mae: 2.5345 - val_loss: 9.9672 - val_mae: 2.4586\n",
      "Epoch 17/50\n",
      "819/819 [==============================] - 51s 61ms/step - loss: 10.6447 - mae: 2.5254 - val_loss: 9.6461 - val_mae: 2.4163\n",
      "Epoch 18/50\n",
      "819/819 [==============================] - 46s 56ms/step - loss: 10.5559 - mae: 2.5181 - val_loss: 8.6858 - val_mae: 2.2841\n",
      "Epoch 19/50\n",
      "819/819 [==============================] - 42s 51ms/step - loss: 10.5159 - mae: 2.5124 - val_loss: 8.8603 - val_mae: 2.3114\n",
      "Epoch 20/50\n",
      "819/819 [==============================] - 45s 54ms/step - loss: 10.4593 - mae: 2.5039 - val_loss: 9.3107 - val_mae: 2.3756\n",
      "Epoch 21/50\n",
      "819/819 [==============================] - 44s 53ms/step - loss: 10.3529 - mae: 2.4948 - val_loss: 9.4386 - val_mae: 2.3839\n",
      "Epoch 22/50\n",
      "819/819 [==============================] - 51s 62ms/step - loss: 10.3228 - mae: 2.4907 - val_loss: 9.1090 - val_mae: 2.3384\n",
      "Epoch 23/50\n",
      "819/819 [==============================] - 42s 51ms/step - loss: 10.2854 - mae: 2.4854 - val_loss: 10.3621 - val_mae: 2.5257\n",
      "Epoch 24/50\n",
      "819/819 [==============================] - 52s 63ms/step - loss: 10.2599 - mae: 2.4835 - val_loss: 9.5636 - val_mae: 2.4063\n",
      "Epoch 25/50\n",
      "819/819 [==============================] - 46s 55ms/step - loss: 10.1919 - mae: 2.4759 - val_loss: 8.9771 - val_mae: 2.3211\n",
      "Epoch 26/50\n",
      "819/819 [==============================] - 38s 47ms/step - loss: 10.0981 - mae: 2.4656 - val_loss: 8.7326 - val_mae: 2.2866\n",
      "Epoch 27/50\n",
      "819/819 [==============================] - 42s 51ms/step - loss: 10.0803 - mae: 2.4592 - val_loss: 9.0043 - val_mae: 2.3189\n",
      "Epoch 28/50\n",
      "819/819 [==============================] - 51s 62ms/step - loss: 10.0844 - mae: 2.4609 - val_loss: 12.3275 - val_mae: 2.7836\n",
      "Epoch 29/50\n",
      "819/819 [==============================] - 55s 67ms/step - loss: 10.0030 - mae: 2.4525 - val_loss: 9.6612 - val_mae: 2.4210\n",
      "Epoch 30/50\n",
      "819/819 [==============================] - 42s 51ms/step - loss: 9.9932 - mae: 2.4520 - val_loss: 9.2643 - val_mae: 2.3608\n",
      "Epoch 31/50\n",
      "819/819 [==============================] - 49s 59ms/step - loss: 9.9081 - mae: 2.4444 - val_loss: 8.9013 - val_mae: 2.3001\n",
      "Epoch 32/50\n",
      "819/819 [==============================] - 45s 55ms/step - loss: 9.8470 - mae: 2.4340 - val_loss: 10.1024 - val_mae: 2.4733\n",
      "Epoch 33/50\n",
      "819/819 [==============================] - 45s 55ms/step - loss: 9.8507 - mae: 2.4345 - val_loss: 9.6131 - val_mae: 2.4068\n",
      "Epoch 34/50\n",
      "819/819 [==============================] - 47s 57ms/step - loss: 9.8379 - mae: 2.4353 - val_loss: 9.1172 - val_mae: 2.3307\n",
      "Epoch 35/50\n",
      "819/819 [==============================] - 45s 55ms/step - loss: 9.7801 - mae: 2.4248 - val_loss: 9.3651 - val_mae: 2.3787\n",
      "Epoch 36/50\n",
      "819/819 [==============================] - 45s 55ms/step - loss: 9.7480 - mae: 2.4228 - val_loss: 10.0821 - val_mae: 2.4652\n",
      "Epoch 37/50\n",
      "819/819 [==============================] - 45s 54ms/step - loss: 9.6706 - mae: 2.4112 - val_loss: 9.2045 - val_mae: 2.3449\n",
      "Epoch 38/50\n",
      "819/819 [==============================] - 44s 54ms/step - loss: 9.6352 - mae: 2.4122 - val_loss: 9.6522 - val_mae: 2.4108\n",
      "Epoch 39/50\n",
      "819/819 [==============================] - 40s 48ms/step - loss: 9.6029 - mae: 2.4035 - val_loss: 9.4539 - val_mae: 2.3830\n",
      "Epoch 40/50\n",
      "819/819 [==============================] - 40s 49ms/step - loss: 9.5983 - mae: 2.4027 - val_loss: 9.6437 - val_mae: 2.4221\n",
      "Epoch 41/50\n",
      "819/819 [==============================] - 41s 50ms/step - loss: 9.5732 - mae: 2.3994 - val_loss: 10.2904 - val_mae: 2.5059\n",
      "Epoch 42/50\n",
      "819/819 [==============================] - 42s 51ms/step - loss: 9.5261 - mae: 2.3932 - val_loss: 10.2352 - val_mae: 2.4913\n",
      "Epoch 43/50\n",
      "819/819 [==============================] - 46s 56ms/step - loss: 9.4665 - mae: 2.3880 - val_loss: 10.2707 - val_mae: 2.4991\n",
      "Epoch 44/50\n",
      "819/819 [==============================] - 45s 55ms/step - loss: 9.4471 - mae: 2.3834 - val_loss: 9.5294 - val_mae: 2.4010\n",
      "Epoch 45/50\n",
      "819/819 [==============================] - 43s 52ms/step - loss: 9.4322 - mae: 2.3831 - val_loss: 10.6233 - val_mae: 2.5428\n",
      "Epoch 46/50\n",
      "819/819 [==============================] - 42s 50ms/step - loss: 9.3887 - mae: 2.3783 - val_loss: 9.4143 - val_mae: 2.3790\n",
      "Epoch 47/50\n",
      "819/819 [==============================] - 43s 52ms/step - loss: 9.3878 - mae: 2.3779 - val_loss: 9.8877 - val_mae: 2.4400\n",
      "Epoch 48/50\n",
      "819/819 [==============================] - 46s 56ms/step - loss: 9.3422 - mae: 2.3721 - val_loss: 9.7949 - val_mae: 2.4315\n",
      "Epoch 49/50\n",
      "819/819 [==============================] - 45s 55ms/step - loss: 9.3104 - mae: 2.3677 - val_loss: 9.5269 - val_mae: 2.3982\n",
      "Epoch 50/50\n",
      "819/819 [==============================] - 45s 55ms/step - loss: 9.3063 - mae: 2.3686 - val_loss: 9.5561 - val_mae: 2.3941\n"
     ]
    }
   ],
   "source": [
    "callbacks = [\n",
    "    tf.keras.callbacks.ModelCheckpoint(\n",
    "        base_dir / \"jena_stacked_gru_l2.keras\",\n",
    "        save_best_only=True\n",
    "    )\n",
    "]\n",
    "model.compile(optimizer=\"rmsprop\", loss=\"mse\", metrics=[\"mae\"])\n",
    "history = model.fit(\n",
    "    train_dataset,\n",
    "    epochs=50,\n",
    "    validation_data=val_dataset,\n",
    "    callbacks=callbacks\n",
    ")"
   ]
  },
  {
   "cell_type": "code",
   "execution_count": 124,
   "metadata": {
    "slideshow": {
     "slide_type": "skip"
    }
   },
   "outputs": [
    {
     "data": {
      "image/png": "[encoded data removed]",
      "text/plain": [
       "<Figure size 640x480 with 1 Axes>"
      ]
     },
     "metadata": {},
     "output_type": "display_data"
    }
   ],
   "source": [
    "plot_history(history)"
   ]
  },
  {
   "cell_type": "code",
   "execution_count": 125,
   "metadata": {
    "slideshow": {
     "slide_type": "skip"
    }
   },
   "outputs": [
    {
     "name": "stdout",
     "output_type": "stream",
     "text": [
      "405/405 [==============================] - 16s 32ms/step - loss: 9.7227 - mae: 2.4296\n",
      "Test MAE: 2.43\n"
     ]
    }
   ],
   "source": [
    "model = tf.keras.models.load_model(base_dir / \"jena_stacked_gru_l2.keras\")\n",
    "print(f\"Test MAE: {model.evaluate(test_dataset)[1]:.2f}\")"
   ]
  },
  {
   "cell_type": "markdown",
   "metadata": {
    "slideshow": {
     "slide_type": "slide"
    }
   },
   "source": [
    "---\n",
    "\n",
    "### 10.4.3 Using bidirectional RNNs\n",
    "\n",
    "RNNs exploit patterns in data that has a definite order (like weather readings).\n",
    "\n",
    "But the **reverse** of an ordered list is still ordered and might hold pertinent information.\n",
    "\n",
    "The idea is to train one net on sequential data, then another one with **the same hyperparameters** on the same dataset but with the order *reversed*.\n",
    "\n",
    "The hypothesis is that word order *does* matter in understanding language but *which* order (forward or back) isn't critical (on the basis if this single experiment)."
   ]
  },
  {
   "cell_type": "markdown",
   "metadata": {
    "slideshow": {
     "slide_type": "subslide"
    }
   },
   "source": [
    "An RNN trained on a reversed sequence will learn different representations than one trained on the original sequence.\n",
    "\n",
    "Representations that are *different* yet *useful* are always worth exploiting. The more they differ the better!\n",
    "\n",
    "Alternative representations can capture aspects of the data that were missed by other approaches.\n",
    "\n",
    "#### Note \n",
    "\n",
    "This is the intuition behind *ensembling* (gathering predictions from several models)."
   ]
  },
  {
   "cell_type": "markdown",
   "metadata": {
    "slideshow": {
     "slide_type": "subslide"
    }
   },
   "source": [
    "A bidirectional RNN is two regular RNNs: one chronological, the other antichronological. Representations are merged at the end.\n",
    "\n",
    "Strong suit: create representations for the whole sentence (e.g. for sentiment).  \n",
    "However: cannot be used to predict the next token!\n",
    "\n",
    "<!-- ![bidirectional rnn](images/rnn/chollet.bidirectional.png) -->\n",
    "![bidirectional rnn](https://drive.google.com/uc?id=1WbSMJNPjy2tCgHzXqZDCKuB8cvfjjqU2)\n",
    "\n",
    "<small>DLWP, p.306</small>"
   ]
  },
  {
   "cell_type": "markdown",
   "metadata": {
    "slideshow": {
     "slide_type": "subslide"
    }
   },
   "source": [
    "#### Training and evaluating a bidirectional LSTM"
   ]
  },
  {
   "cell_type": "code",
   "execution_count": null,
   "metadata": {
    "slideshow": {
     "slide_type": "fragment"
    }
   },
   "outputs": [],
   "source": [
    "inputs = tf.keras.Input(shape=(sequence_length, raw_data.shape[-1]))\n",
    "                  # ↓ BIDIRECTIONAL -------------------------------\n",
    "x = tf.keras.layers.Bidirectional(tf.keras.layers.LSTM(16))(inputs) \n",
    "                  # ------------- ↑ wrapping an RNN layer ---------\n",
    "outputs = tf.keras.layers.Dense(1)(x)\n",
    "model = tf.keras.Model(inputs, outputs)"
   ]
  },
  {
   "cell_type": "code",
   "execution_count": 126,
   "metadata": {
    "slideshow": {
     "slide_type": "skip"
    }
   },
   "outputs": [
    {
     "name": "stdout",
     "output_type": "stream",
     "text": [
      "Epoch 1/10\n",
      "819/819 [==============================] - 60s 61ms/step - loss: 26.4216 - mae: 3.6921 - val_loss: 11.4313 - val_mae: 2.6293\n",
      "Epoch 2/10\n",
      "819/819 [==============================] - 46s 56ms/step - loss: 9.5115 - mae: 2.4129 - val_loss: 10.4757 - val_mae: 2.5242\n",
      "Epoch 3/10\n",
      "819/819 [==============================] - 47s 57ms/step - loss: 8.4618 - mae: 2.2687 - val_loss: 9.8176 - val_mae: 2.4496\n",
      "Epoch 4/10\n",
      "819/819 [==============================] - 46s 56ms/step - loss: 7.9159 - mae: 2.1893 - val_loss: 9.9030 - val_mae: 2.4602\n",
      "Epoch 5/10\n",
      "819/819 [==============================] - 49s 59ms/step - loss: 7.4896 - mae: 2.1289 - val_loss: 10.2907 - val_mae: 2.5108\n",
      "Epoch 6/10\n",
      "819/819 [==============================] - 46s 56ms/step - loss: 7.1696 - mae: 2.0835 - val_loss: 10.7141 - val_mae: 2.5476\n",
      "Epoch 7/10\n",
      "819/819 [==============================] - 47s 57ms/step - loss: 6.9118 - mae: 2.0426 - val_loss: 10.7991 - val_mae: 2.5762\n",
      "Epoch 8/10\n",
      "819/819 [==============================] - 45s 55ms/step - loss: 6.6370 - mae: 2.0030 - val_loss: 10.8970 - val_mae: 2.5904\n",
      "Epoch 9/10\n",
      "819/819 [==============================] - 44s 53ms/step - loss: 6.4353 - mae: 1.9714 - val_loss: 11.3692 - val_mae: 2.6362\n",
      "Epoch 10/10\n",
      "819/819 [==============================] - 44s 53ms/step - loss: 6.2758 - mae: 1.9471 - val_loss: 11.5527 - val_mae: 2.6571\n"
     ]
    }
   ],
   "source": [
    "callbacks = [\n",
    "    tf.keras.callbacks.ModelCheckpoint(\n",
    "        base_dir / \"jena_lstm_bidirectional.keras\",\n",
    "        save_best_only=True\n",
    "    )\n",
    "]\n",
    "\n",
    "model.compile(optimizer=\"rmsprop\", loss=\"mse\", metrics=[\"mae\"])\n",
    "history = model.fit(\n",
    "    train_dataset,\n",
    "    epochs=10,\n",
    "    validation_data=val_dataset,\n",
    "    callbacks=callbacks,\n",
    ")"
   ]
  },
  {
   "cell_type": "code",
   "execution_count": 127,
   "metadata": {
    "slideshow": {
     "slide_type": "skip"
    }
   },
   "outputs": [
    {
     "data": {
      "image/png": "[encoded data removed]",
      "text/plain": [
       "<Figure size 640x480 with 1 Axes>"
      ]
     },
     "metadata": {},
     "output_type": "display_data"
    }
   ],
   "source": [
    "plot_history(history)"
   ]
  },
  {
   "cell_type": "code",
   "execution_count": 128,
   "metadata": {
    "slideshow": {
     "slide_type": "skip"
    }
   },
   "outputs": [
    {
     "name": "stdout",
     "output_type": "stream",
     "text": [
      "405/405 [==============================] - 13s 28ms/step - loss: 10.8978 - mae: 2.6199\n",
      "Test MAE: 2.62\n"
     ]
    }
   ],
   "source": [
    "model = tf.keras.models.load_model(base_dir / \"jena_lstm_bidirectional.keras\")\n",
    "print(f\"Test MAE: {model.evaluate(test_dataset)[1]:.2f}\") "
   ]
  },
  {
   "cell_type": "markdown",
   "metadata": {
    "slideshow": {
     "slide_type": "slide"
    }
   },
   "source": [
    "---\n",
    "\n",
    "### 10.4.4 Going even further\n",
    "\n",
    "- Experiment with the number of units in recurrent layers, and with dropout;\n",
    "- Experiment with the optimizer and learning rate;\n",
    "- Try and have a stack of Dense layers instead of just one;\n",
    "- Vary the length of input sequences, try a different sampling rate, or think about feature engineering."
   ]
  },
  {
   "cell_type": "markdown",
   "metadata": {
    "slideshow": {
     "slide_type": "slide"
    }
   },
   "source": [
    "## Summary\n",
    "\n",
    "### As always\n",
    "\n",
    "- *Baselines, baselines, baselines*;\n",
    "- Try simple models, then more complex ones;"
   ]
  },
  {
   "cell_type": "markdown",
   "metadata": {
    "slideshow": {
     "slide_type": "slide"
    }
   },
   "source": [
    "### RNNs\n",
    "\n",
    "- Recurrent nets work well for data where **ordering** matters;\n",
    "- Two main layers:\n",
    "  - **LSTM**: most complex, most expensive;\n",
    "  - **GRU**: slightly less complex, faster;\n",
    "- For recurrent nets use the time-constant `recurrent_dropout` (slow!) or the `recurrent_regularizer`;\n",
    "- For more representational power, try **stacking** RNN layers\n",
    "- if you're not predicting future steps, **bidirectional** layers."
   ]
  }
 ],
 "metadata": {
  "celltoolbar": "Slideshow",
  "colab": {
   "collapsed_sections": [],
   "name": "chapter10_dl-for-timeseries.i",
   "private_outputs": false,
   "provenance": [],
   "toc_visible": true
  },
  "kernelspec": {
   "display_name": "Python 3 (ipykernel)",
   "language": "python",
   "name": "python3"
  },
  "language_info": {
   "codemirror_mode": {
    "name": "ipython",
    "version": 3
   },
   "file_extension": ".py",
   "mimetype": "text/x-python",
   "name": "python",
   "nbconvert_exporter": "python",
   "pygments_lexer": "ipython3",
   "version": "3.9.15"
  }
 },
 "nbformat": 4,
 "nbformat_minor": 4
}
