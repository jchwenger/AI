{
 "cells": [
  {
   "cell_type": "markdown",
   "metadata": {},
   "source": [
    "# ConvNets\n",
    "\n",
    "---\n",
    "\n",
    "## 1. Practice on MNIST\n",
    "\n",
    "1. Copy DLWP Listings 8.1-8.3 in a notebook.\n",
    "2. Experiment with moving/adding convolutional layers, and the number of filters and the size of the local receptive field."
   ]
  },
  {
   "cell_type": "markdown",
   "metadata": {},
   "source": [
    "---\n",
    "\n",
    "## 2. Practice on Fashion MNIST"
   ]
  },
  {
   "cell_type": "markdown",
   "metadata": {
    "tags": []
   },
   "source": [
    "#### Note\n",
    "\n",
    "If you worked on that dataset for your coursework, and are interested in working with images, you can of course also work on another one like [Cats & Dogs](https://www.kaggle.com/c/dogs-vs-cats/data) or on [celebA](https://mmlab.ie.cuhk.edu.hk/projects/CelebA.html) (also on [Kaggle](https://www.kaggle.com/jessicali9530/celeba-dataset)), if you prefer.\n",
    "\n",
    "1. The [Fashion MNIST dataset](https://www.tensorflow.org/api_docs/python/tf/keras/datasets/fashion_mnist/load_data) is a multiclass image classification task. Follow the MNIST pattern and load the dataset directly from Tensorflow:\n",
    "  ```python\n",
    "  (x_train, y_train), (x_test, y_test) = tf.keras.datasets. ...\n",
    "  ```\n",
    "2. Explore the data: what is the shape and size of the training and test data? Take one of the training images and display it with `matplotlib.pyplot`.\n",
    "3. Split the training set into a partial training set and a validation set. Reshape the partial training, validation and test sets and convert to floats in the range [0, 1].\n",
    "4. Build a model similar to Listings 8.1 and 8.2. Print a summary of the model.\n",
    "5. Compile and run the model for 20 epochs. Plot graphs, find the optimum epochs, retrain a newly initialised model on the whole training set and then evaluate the model on the test test. Regularise your model if you see overfitting. What accuracy does your model achieve? \n",
    "6. Have a look at the model's prediction (`y_hat = model.predict...`) on some test images by running this matplotlib code:"
   ]
  },
  {
   "cell_type": "code",
   "execution_count": null,
   "metadata": {},
   "outputs": [],
   "source": [
    "# Define the text labels\n",
    "fashion_mnist_labels = [\"T-shirt/top\",  # index 0\n",
    "                        \"Trouser\",      # index 1\n",
    "                        \"Pullover\",     # index 2 \n",
    "                        \"Dress\",        # index 3 \n",
    "                        \"Coat\",         # index 4\n",
    "                        \"Sandal\",       # index 5\n",
    "                        \"Shirt\",        # index 6 \n",
    "                        \"Sneaker\",      # index 7 \n",
    "                        \"Bag\",          # index 8 \n",
    "                        \"Ankle boot\"]   # index 9\n",
    "\n",
    "y_hat = model.predict(x_test)               # x_test: our test data\n",
    "\n",
    "# Plot a random sample of 10 test images, their predicted labels and ground truth\n",
    "figure = plt.figure(figsize=(20, 8))\n",
    "for i, index in enumerate(np.random.choice(x_test.shape[0], size=15, replace=False)):\n",
    "    ax = figure.add_subplot(3, 5, i + 1, xticks=[], yticks=[])\n",
    "    # Display each image\n",
    "    ax.imshow(np.squeeze(x_test[index]))    # x_test: our test data\n",
    "    predict_index = np.argmax(y_hat[index])\n",
    "    true_index = np.argmax(y_test[index])   # y_test: our test labels\n",
    "    # Set the title for each image\n",
    "    ax.set_title(\"{} ({})\".format(\n",
    "                    fashion_mnist_labels[predict_index],\n",
    "                    fashion_mnist_labels[true_index]),\n",
    "                    color=(\"green\" if predict_index == true_index else \"red\")\n",
    "                )\n",
    "# Reference:\n",
    "# https://colab.research.google.com/github/margaretmz/deep-learning/blob/master/fashion_mnist_keras.ipynb#scrollTo=oJv7XEk10bOv"
   ]
  },
  {
   "cell_type": "markdown",
   "metadata": {},
   "source": [
    "7. Experiment with different convolutional bases. For example, remove pooling, add more convolutional layers, resize the layers, etc. "
   ]
  }
 ],
 "metadata": {
  "kernelspec": {
   "display_name": "Python 3 (ipykernel)",
   "language": "python",
   "name": "python3"
  },
  "language_info": {
   "codemirror_mode": {
    "name": "ipython",
    "version": 3
   },
   "file_extension": ".py",
   "mimetype": "text/x-python",
   "name": "python",
   "nbconvert_exporter": "python",
   "pygments_lexer": "ipython3",
   "version": "3.7.13"
  }
 },
 "nbformat": 4,
 "nbformat_minor": 4
}
