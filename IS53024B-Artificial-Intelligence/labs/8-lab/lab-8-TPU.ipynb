{
 "cells": [
  {
   "cell_type": "markdown",
   "id": "8a275d44",
   "metadata": {},
   "source": [
    "# 13.2.3 TPU Training\n",
    "\n",
    "TPUs are available in Colab. Here is a template to get you started.\n",
    "\n",
    "#### Note\n",
    "\n",
    "Sadly, given the huge popularity of the service, Google has introduced paid tiers and reduce (eliminated?) free TPU access. I do remember being able to experiment with this, but of late I have not been able to connect to a TPU runtime any longer... It might be that the free version of Colab no longer offers TPUs, even if the option is there. Let me know if you are able to connect!"
   ]
  },
  {
   "cell_type": "code",
   "execution_count": null,
   "id": "c2bc2c7c",
   "metadata": {},
   "outputs": [],
   "source": [
    "import tensorflow as tf\n",
    "\n",
    "# connect to the TPU cluster\n",
    "tpu = tf.distribute.cluster_resolver.TPUClusterResolver.connect()\n",
    "print(\"Device:\", tpu.master())"
   ]
  },
  {
   "cell_type": "code",
   "execution_count": null,
   "id": "7f6ea0d8",
   "metadata": {},
   "outputs": [],
   "source": [
    "# we need to tell TensorFlow to use the hardware, using a 'strategy'\n",
    "strategy = tf.distribute.TPUStrategy(tpu)\n",
    "print(f\"Number of replicas: {strategy.num_replicas_in_sync}\") # a TPU has 8 cores"
   ]
  },
  {
   "cell_type": "markdown",
   "id": "ff111978",
   "metadata": {},
   "source": [
    "(Listing 13.4)"
   ]
  },
  {
   "cell_type": "code",
   "execution_count": null,
   "id": "9fc00e54",
   "metadata": {},
   "outputs": [],
   "source": [
    "from tensorflow import keras\n",
    "from tensorflow.keras import layers\n",
    "\n",
    "# functional encapsulation: everything inside the function\n",
    "# will be created following the strategy\n",
    "def build_model(input_size):\n",
    "    inputs = keras.Input((input_size, input_size, 3))\n",
    "    x = keras.applications.resnet.preprocess_input(inputs)\n",
    "    x = keras.applications.resnet.ResNet50(\n",
    "        weights=None, include_top=False, pooling=\"max\"\n",
    "    )(x)\n",
    "    outputs = layers.Dense(10, activation=\"softmax\")(x)\n",
    "    model = keras.Model(inputs, outputs)\n",
    "    model.compile(\n",
    "        optimizer=\"rmsprop\",\n",
    "        loss=\"sparse_categorical_crossentropy\",\n",
    "        metrics=[\"accuracy\"]\n",
    "    )\n",
    "    return model\n",
    "\n",
    "# we create our model in the 'scope' of the strategy\n",
    "with strategy.scope():\n",
    "    model = build_model(input_size=32)  \n",
    "\n",
    "(x_train, y_train), (x_test, y_test) = keras.datasets.cifar10.load_data()\n",
    "\n",
    "model.fit(\n",
    "    x_train,\n",
    "    y_train, \n",
    "    epochs=10,\n",
    "    batch_size=1024 # notice the large batch size, TPUs have a large capacity!\n",
    ")"
   ]
  }
 ],
 "metadata": {
  "kernelspec": {
   "display_name": "Python 3 (ipykernel)",
   "language": "python",
   "name": "python3"
  },
  "language_info": {
   "codemirror_mode": {
    "name": "ipython",
    "version": 3
   },
   "file_extension": ".py",
   "mimetype": "text/x-python",
   "name": "python",
   "nbconvert_exporter": "python",
   "pygments_lexer": "ipython3",
   "version": "3.7.13"
  }
 },
 "nbformat": 4,
 "nbformat_minor": 5
}
