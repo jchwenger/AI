{
 "cells": [
  {
   "cell_type": "markdown",
   "id": "78fae3cb-c681-48cc-add8-f60db3a92c11",
   "metadata": {
    "id": "78fae3cb-c681-48cc-add8-f60db3a92c11"
   },
   "source": [
    "# Introduction to TensorFlow (2.2-2.3, 3.5)"
   ]
  },
  {
   "cell_type": "code",
   "execution_count": null,
   "id": "24c658cd-b33a-4fc9-b381-f588e8985529",
   "metadata": {
    "id": "24c658cd-b33a-4fc9-b381-f588e8985529"
   },
   "outputs": [],
   "source": [
    "import tensorflow as tf\n",
    "import numpy as np"
   ]
  },
  {
   "cell_type": "markdown",
   "id": "8f6ed645",
   "metadata": {
    "id": "8f6ed645"
   },
   "source": [
    "## TensorFlow Dojo!"
   ]
  },
  {
   "cell_type": "markdown",
   "id": "5b3c33a3-c2f3-413c-8250-521a55af13a3",
   "metadata": {
    "id": "5b3c33a3-c2f3-413c-8250-521a55af13a3"
   },
   "source": [
    "---\n",
    "\n",
    "### First: NumPy recap\n",
    "\n",
    "First things first, let's do a superfast NumPy recap.\n",
    "\n",
    "What is the problem? We need to manipulate a lot of numbers easily and efficiently.\n",
    "\n",
    "Note: in this course, as well as in the book, we will often switch between NumPy and TensorFlow, which have very similar, but not identical, APIs."
   ]
  },
  {
   "cell_type": "markdown",
   "id": "04fe2271",
   "metadata": {
    "id": "04fe2271"
   },
   "source": [
    "Consider the raw Python example:"
   ]
  },
  {
   "cell_type": "code",
   "execution_count": null,
   "id": "4914f035",
   "metadata": {
    "id": "4914f035"
   },
   "outputs": [],
   "source": [
    "arr = [0,1,2,3,4]\n",
    "print(arr[1])   # select second element\n",
    "print(arr[-2])  # works from the end as well, -1 is the last element\n",
    "print(arr[1:3]) # 1 inclusive, 3 exclusive\n",
    "print(arr[:])   # everything"
   ]
  },
  {
   "cell_type": "markdown",
   "id": "2cb7e9e1",
   "metadata": {
    "id": "2cb7e9e1"
   },
   "source": [
    "Things get more complex with matrices:"
   ]
  },
  {
   "cell_type": "code",
   "execution_count": null,
   "id": "80a29ee7-a9e9-4868-ad45-f6d4a66be2c0",
   "metadata": {
    "id": "80a29ee7-a9e9-4868-ad45-f6d4a66be2c0"
   },
   "outputs": [],
   "source": [
    "matrix = [\n",
    "            [1,2,3],\n",
    "            [4,5,6],\n",
    "            [7,8,9]\n",
    "         ]\n",
    "\n",
    "print(matrix[0])               # selecting a row is easy\n",
    "print(matrix[0][0])            # selecting 'deeper' requires more brackets\n",
    "print([r[0] for r in matrix])  # but a column? You need a loop\n",
    "print()\n",
    "print(\"matrix * 2:\")           # and a double loop to multiply all the numbers by a scalar\n",
    "print([[el * 2 for el in row] for row in matrix]) # Python list comprehension syntax"
   ]
  },
  {
   "cell_type": "markdown",
   "id": "30b5e65b-0c61-4255-ba12-a3da3630cb87",
   "metadata": {
    "id": "30b5e65b-0c61-4255-ba12-a3da3630cb87"
   },
   "source": [
    "For dot products or matrix mutliplications, it's even more complicated!\n",
    "\n",
    "NumPy allows you to do that very elegantly."
   ]
  },
  {
   "cell_type": "code",
   "execution_count": null,
   "id": "1dd8744d-2342-4819-acbf-6c6f35ee4d6a",
   "metadata": {
    "id": "1dd8744d-2342-4819-acbf-6c6f35ee4d6a"
   },
   "outputs": [],
   "source": [
    "matrix = np.arange(1, 10).reshape((3,3)) # you could also convert the Python list: np.array(matrix)\n",
    "print(matrix)\n",
    "print(matrix[0])\n",
    "print(matrix[:, 0]) # slicing\n",
    "print(matrix[1, 2:])"
   ]
  },
  {
   "cell_type": "markdown",
   "id": "dd46b2a1-790e-4b70-ba41-28af2c86c085",
   "metadata": {
    "id": "dd46b2a1-790e-4b70-ba41-28af2c86c085"
   },
   "source": [
    "Math."
   ]
  },
  {
   "cell_type": "code",
   "execution_count": null,
   "id": "aa8610f8-95b8-48a4-8ba0-40e3948500ef",
   "metadata": {
    "id": "aa8610f8-95b8-48a4-8ba0-40e3948500ef"
   },
   "outputs": [],
   "source": [
    "print(matrix)  \n",
    "print(matrix * 2) # all those are broadcast!\n",
    "print(matrix + 3)\n",
    "print(matrix ** 2)"
   ]
  },
  {
   "cell_type": "markdown",
   "id": "e5b547ba",
   "metadata": {
    "id": "e5b547ba"
   },
   "source": [
    "Transposition."
   ]
  },
  {
   "cell_type": "code",
   "execution_count": null,
   "id": "e1cfa259-5f7a-4733-9ca3-a4cb204fce5a",
   "metadata": {
    "id": "e1cfa259-5f7a-4733-9ca3-a4cb204fce5a"
   },
   "outputs": [],
   "source": [
    "print(matrix)\n",
    "print(matrix.T) # also: matrix.transpose()"
   ]
  },
  {
   "cell_type": "markdown",
   "id": "f1037c8c",
   "metadata": {
    "id": "f1037c8c"
   },
   "source": [
    "Adding an axis with `None` or `np.newaxis`."
   ]
  },
  {
   "cell_type": "code",
   "execution_count": null,
   "id": "05375019-0e9b-4894-88b9-49794aa2ec62",
   "metadata": {
    "id": "05375019-0e9b-4894-88b9-49794aa2ec62"
   },
   "outputs": [],
   "source": [
    "array = np.array([1,2,3])\n",
    "print(array)\n",
    "print(array[None, ...])       # adding a new axis (np.newaxis works the same as None)\n",
    "print(array[..., np.newaxis]) # the ... mean: \"fill in the rest automatically\""
   ]
  },
  {
   "cell_type": "markdown",
   "id": "d8eb56e0-a469-45e7-ab2a-87ad05c43174",
   "metadata": {
    "id": "d8eb56e0-a469-45e7-ab2a-87ad05c43174"
   },
   "source": [
    "Broadcasting! (More of that later)"
   ]
  },
  {
   "cell_type": "code",
   "execution_count": null,
   "id": "92915151-af0d-4d39-b724-697c3fa4e4d0",
   "metadata": {
    "id": "92915151-af0d-4d39-b724-697c3fa4e4d0"
   },
   "outputs": [],
   "source": [
    "print(matrix)\n",
    "print(matrix + array)             # [1,2,3] added horizontally to each row\n",
    "print(matrix + array[..., None])  # [1,2,3] added vertically to each column"
   ]
  },
  {
   "cell_type": "markdown",
   "id": "b131703b-658b-41ff-ae22-01f962ae0c0f",
   "metadata": {
    "id": "b131703b-658b-41ff-ae22-01f962ae0c0f"
   },
   "source": [
    "More functions:"
   ]
  },
  {
   "cell_type": "code",
   "execution_count": null,
   "id": "d7b6d59e-fc45-4feb-a717-f1c4f100d8dc",
   "metadata": {
    "id": "d7b6d59e-fc45-4feb-a717-f1c4f100d8dc"
   },
   "outputs": [],
   "source": [
    "print(matrix)\n",
    "print(matrix.sum()) # overall sum\n",
    "print(matrix.sum(axis=0)) # sum of each column\n",
    "print(matrix.sum(axis=1)) # sum of each row\n",
    "# same logic with .min() .max() .mean() .std()"
   ]
  },
  {
   "cell_type": "markdown",
   "id": "20316452-1c6f-401b-84bb-315f2daa29b3",
   "metadata": {
    "id": "20316452-1c6f-401b-84bb-315f2daa29b3"
   },
   "source": [
    "Linear algebra operations, for example: dot product."
   ]
  },
  {
   "cell_type": "code",
   "execution_count": null,
   "id": "448f9b77-9824-4db6-aa5e-41b5797d22f4",
   "metadata": {
    "id": "448f9b77-9824-4db6-aa5e-41b5797d22f4"
   },
   "outputs": [],
   "source": [
    "arr1 = np.array([1,2,3])\n",
    "arr2 = np.array([4,5,6])\n",
    "print(arr1.dot(arr2)) # dot product"
   ]
  },
  {
   "cell_type": "code",
   "execution_count": null,
   "id": "9a0cd14a-67c3-4b66-bdf8-a8738b5044e5",
   "metadata": {
    "id": "9a0cd14a-67c3-4b66-bdf8-a8738b5044e5"
   },
   "outputs": [],
   "source": [
    "second_matrix = np.random.randint(0,10, size=(3,3))\n",
    "print(second_matrix)\n",
    "print(matrix @ second_matrix) # same as np.matmul(matrix, second_matrix)"
   ]
  },
  {
   "cell_type": "markdown",
   "id": "b4c01c36",
   "metadata": {
    "id": "b4c01c36"
   },
   "source": [
    "Huge amounts of functions available...\n",
    "\n",
    "Many  tutorials and refreshers available from the [NumPy docs](https://numpy.org/doc/stable/user/index.html):\n",
    "\n",
    "  - [NumPy quickstart](https://numpy.org/doc/stable/user/quickstart.html)\n",
    "  - [NumPy absolute basics for beginners](https://numpy.org/doc/stable/user/absolute_beginners.html)\n",
    "  - [Numpy broadcasting tutorial](https://numpy.org/doc/stable/user/basics.broadcasting.html)  \n",
    "\n",
    "*(For futher reference: [Numpy fundamentals](https://numpy.org/doc/stable/user/basics.html).)*\n",
    "\n",
    "---"
   ]
  },
  {
   "cell_type": "markdown",
   "id": "754b81a7-175f-42b2-bd35-d28119b2a430",
   "metadata": {
    "id": "7da5fe81"
   },
   "source": [
    "## Now to TensorFlow: plan\n",
    "\n",
    "- Constants/Variables, shape, type\n",
    "- Reshaping\n",
    "- Slicing\n",
    "- Tensor creation (zeros, ones, random)\n",
    "- Broadcasting\n",
    "- Maths & other ops"
   ]
  },
  {
   "cell_type": "markdown",
   "id": "f626cb1c-0fd8-41b6-9b03-3ce8d4050866",
   "metadata": {
    "id": "f626cb1c-0fd8-41b6-9b03-3ce8d4050866"
   },
   "source": [
    "---\n",
    "\n",
    "### 3.5.1 The basics of TensorFlow objects\n",
    "\n",
    "`Tensors` are the generalisation of matrices (and vectors) in higher dimensions!"
   ]
  },
  {
   "cell_type": "code",
   "execution_count": null,
   "id": "ff15e09e-ce22-4b53-86bb-087cbad75bc7",
   "metadata": {
    "id": "ff15e09e-ce22-4b53-86bb-087cbad75bc7"
   },
   "outputs": [],
   "source": [
    "x = tf.constant([1]) # creating a simple array with one element\n",
    "                     # (this is actually not a constant, by the way, but it's\n",
    "                     # not *assignable*, see below)\n",
    "                     # Explanation here for the curious:\n",
    "                     # https://www.tensorflow.org/api_docs/python/tf/constant"
   ]
  },
  {
   "cell_type": "code",
   "execution_count": null,
   "id": "0fbaa26f-2984-4876-908d-3dfb15190980",
   "metadata": {
    "id": "0fbaa26f-2984-4876-908d-3dfb15190980"
   },
   "outputs": [],
   "source": [
    "x.shape \n",
    "# x.shape.as_list() # will give it to you as a list"
   ]
  },
  {
   "cell_type": "code",
   "execution_count": null,
   "id": "f8442728-168a-4bc6-ba93-44f521a93d75",
   "metadata": {
    "id": "f8442728-168a-4bc6-ba93-44f521a93d75"
   },
   "outputs": [],
   "source": [
    "x.dtype"
   ]
  },
  {
   "cell_type": "code",
   "execution_count": null,
   "id": "d222debc-354e-4760-9b61-899ad0b39543",
   "metadata": {
    "id": "d222debc-354e-4760-9b61-899ad0b39543"
   },
   "outputs": [],
   "source": [
    "x.numpy()"
   ]
  },
  {
   "cell_type": "code",
   "execution_count": null,
   "id": "608670f2-4cb4-46b7-ab2d-0bf808c46e65",
   "metadata": {
    "id": "608670f2-4cb4-46b7-ab2d-0bf808c46e65"
   },
   "outputs": [],
   "source": [
    "x.numpy().item() # only works for scalars"
   ]
  },
  {
   "cell_type": "code",
   "execution_count": null,
   "id": "98f604f3-05a2-4b99-998f-8e409a24408e",
   "metadata": {
    "id": "98f604f3-05a2-4b99-998f-8e409a24408e"
   },
   "outputs": [],
   "source": [
    "x = tf.range(12) # same as tf.constant(range(12)) or tf.constant([0,1,2,3,4,5,6,7,8,9,10,11])\n",
    "print(x)"
   ]
  },
  {
   "cell_type": "code",
   "execution_count": null,
   "id": "f48a1386-d8ce-4244-875f-4bd4bfa77981",
   "metadata": {
    "id": "f48a1386-d8ce-4244-875f-4bd4bfa77981"
   },
   "outputs": [],
   "source": [
    "x.shape"
   ]
  },
  {
   "cell_type": "markdown",
   "id": "8caf00d3-a16d-4d79-86ca-40a6c9a6f71e",
   "metadata": {
    "id": "8caf00d3-a16d-4d79-86ca-40a6c9a6f71e"
   },
   "source": [
    "The tuple notation convention: (n_elements,) for 1D tensors."
   ]
  },
  {
   "cell_type": "code",
   "execution_count": null,
   "id": "fe459de0-9869-4d14-81b4-4656dd71fb96",
   "metadata": {
    "id": "fe459de0-9869-4d14-81b4-4656dd71fb96"
   },
   "outputs": [],
   "source": [
    "print(\"Note the shape of a 1D array:\", np.array([1,2,3]).shape)\n",
    "print()\n",
    "print(\"The `(n_elements,)` tuple notation is used when defining tensor!\")\n",
    "print(tf.reshape(tf.range(3), (3,)))  # ← (3,), row vector\n",
    "print(tf.reshape(tf.range(3), 3))     # the same\n",
    "print(tf.reshape(tf.range(3), (3,1))) # not the same: a column vector"
   ]
  },
  {
   "cell_type": "markdown",
   "id": "39c353ba",
   "metadata": {
    "id": "39c353ba"
   },
   "source": [
    "---\n",
    "\n",
    "### Creating tensors: all-ones, all-zeros, random tensors"
   ]
  },
  {
   "cell_type": "code",
   "execution_count": null,
   "id": "c646f6b7",
   "metadata": {
    "id": "c646f6b7"
   },
   "outputs": [],
   "source": [
    "x = tf.ones(shape=(2, 1))\n",
    "x"
   ]
  },
  {
   "cell_type": "code",
   "execution_count": null,
   "id": "7882f1bc",
   "metadata": {
    "id": "7882f1bc"
   },
   "outputs": [],
   "source": [
    "y = tf.zeros(shape=(2, 1))\n",
    "y"
   ]
  },
  {
   "cell_type": "code",
   "execution_count": null,
   "id": "065e97dd",
   "metadata": {
    "id": "065e97dd"
   },
   "outputs": [],
   "source": [
    "z = tf.eye(2) \n",
    "# z = tf.eye(2, num_columns=3) # you can specify num_columns if you want another shape\n",
    "z"
   ]
  },
  {
   "cell_type": "code",
   "execution_count": null,
   "id": "5448f0d5",
   "metadata": {
    "id": "5448f0d5"
   },
   "outputs": [],
   "source": [
    "x = tf.random.normal(shape=(3, 1), mean=0., stddev=1.)\n",
    "x"
   ]
  },
  {
   "cell_type": "code",
   "execution_count": null,
   "id": "98b345cc",
   "metadata": {
    "id": "98b345cc"
   },
   "outputs": [],
   "source": [
    "x = tf.random.uniform(shape=(3, 1), minval=0., maxval=1.)\n",
    "x"
   ]
  },
  {
   "cell_type": "markdown",
   "id": "c53fe8fd",
   "metadata": {
    "id": "c53fe8fd"
   },
   "source": [
    "For random ints, just use `tf.random.uniform` and specify the dtype."
   ]
  },
  {
   "cell_type": "code",
   "execution_count": null,
   "id": "ac825d10",
   "metadata": {
    "id": "ac825d10"
   },
   "outputs": [],
   "source": [
    "x = tf.random.uniform(shape=(3, 1), minval=1, maxval=15, dtype=tf.int32)\n",
    "x"
   ]
  },
  {
   "cell_type": "markdown",
   "id": "05596bb4-b6d0-4f76-bd61-d3b5e321d314",
   "metadata": {
    "id": "05596bb4-b6d0-4f76-bd61-d3b5e321d314"
   },
   "source": [
    "---\n",
    "\n",
    "### Reshaping"
   ]
  },
  {
   "cell_type": "code",
   "execution_count": null,
   "id": "1b2337c0-21b7-430e-973f-48b445ce6664",
   "metadata": {
    "id": "1b2337c0-21b7-430e-973f-48b445ce6664",
    "tags": []
   },
   "outputs": [],
   "source": [
    "x = tf.range(12) # of course the shapes specified must divide the total without remainder!\n",
    "print(tf.reshape(x, (4,3)))\n",
    "print()\n",
    "print(tf.reshape(x, (3, 4)))\n",
    "print()\n",
    "print(tf.reshape(x, (2, 2, 3)))\n",
    "print()\n",
    "print(tf.reshape(x, (2, 3, 2)))"
   ]
  },
  {
   "cell_type": "markdown",
   "id": "67e0815a",
   "metadata": {
    "id": "67e0815a"
   },
   "source": [
    "<!-- ![tf shapes 1](images/tf/tf-shape-1.png)\n",
    "![tf shapes 2](images/tf/tf-shape-2.png)\n",
    "![tf shapes 3](images/tf/tf-shape-3.png) -->\n",
    "![tf shapes 1](https://drive.google.com/uc?id=1bbxNZK7vWj2LhEojUp-AaPdE5UdI3QvX)\n",
    "![tf shapes 2](https://drive.google.com/uc?id=1RqkEJGwSNONsuo6q0X3Sex-kgvqFw3Ny)\n",
    "![tf shapes 3](https://drive.google.com/uc?id=1iGRHY2cMsjkXP8VN4ThclOqglIdaqRhh)\n",
    "\n",
    "<small>Source: [TensorFlow Introduction to Tensors](https://www.tensorflow.org/guide/tensor)</small>"
   ]
  },
  {
   "cell_type": "markdown",
   "id": "1787d134-17a1-4a7f-b440-c5de5a0449f7",
   "metadata": {
    "id": "1787d134-17a1-4a7f-b440-c5de5a0449f7"
   },
   "source": [
    "---\n",
    "\n",
    "### Slicing"
   ]
  },
  {
   "cell_type": "code",
   "execution_count": null,
   "id": "036344d5-d4ab-477f-967d-41123870eecf",
   "metadata": {
    "id": "036344d5-d4ab-477f-967d-41123870eecf"
   },
   "outputs": [],
   "source": [
    "x = tf.reshape(tf.range(2*3*4), shape=(2,3,4))\n",
    "x"
   ]
  },
  {
   "cell_type": "code",
   "execution_count": null,
   "id": "ea2adcaa-b4be-467f-86d3-95fab90b5de4",
   "metadata": {
    "id": "ea2adcaa-b4be-467f-86d3-95fab90b5de4"
   },
   "outputs": [],
   "source": [
    "print(x)\n",
    "x[1]     # first dim, second element\n",
    "         # x[outer dimension, ..., inner dimension]"
   ]
  },
  {
   "cell_type": "code",
   "execution_count": null,
   "id": "79719090-9d4b-4c9d-ae39-0267026387f0",
   "metadata": {
    "id": "79719090-9d4b-4c9d-ae39-0267026387f0"
   },
   "outputs": [],
   "source": [
    "print(x)\n",
    "x[1, 0] # first dim, second element\n",
    "        # second dim, first element"
   ]
  },
  {
   "cell_type": "code",
   "execution_count": null,
   "id": "fad88d93-01bc-4e9b-b07b-67318b8eba28",
   "metadata": {
    "id": "fad88d93-01bc-4e9b-b07b-67318b8eba28"
   },
   "outputs": [],
   "source": [
    "print(x)\n",
    "x[1, 0, 2] # first dim, second element\n",
    "           # second dim, first element\n",
    "           # third dim, third element"
   ]
  },
  {
   "cell_type": "code",
   "execution_count": null,
   "id": "ea205fca",
   "metadata": {
    "id": "ea205fca"
   },
   "outputs": [],
   "source": [
    "print(x)\n",
    "x[1, 0, 1:3] # first dim, second element\n",
    "             # second dim, first element\n",
    "             # third dim, from second (incl) till fourth (excl) element"
   ]
  },
  {
   "cell_type": "code",
   "execution_count": null,
   "id": "88e8c456-25ac-4568-989f-c6240e3dfd58",
   "metadata": {
    "id": "88e8c456-25ac-4568-989f-c6240e3dfd58"
   },
   "outputs": [],
   "source": [
    "print(x)\n",
    "x[1, 0, :] # first dim, second element\n",
    "           # second dim, first element\n",
    "           # third dim, all elements"
   ]
  },
  {
   "cell_type": "code",
   "execution_count": null,
   "id": "3dfc08d1-a428-45e6-ae4c-f0338c20025f",
   "metadata": {
    "id": "3dfc08d1-a428-45e6-ae4c-f0338c20025f"
   },
   "outputs": [],
   "source": [
    "selection = [0,0,0] # use an array!\n",
    "x[selection]"
   ]
  },
  {
   "cell_type": "markdown",
   "id": "f2e8bedf-3473-41a8-9f74-63fdb85a81db",
   "metadata": {
    "id": "f2e8bedf-3473-41a8-9f74-63fdb85a81db"
   },
   "source": [
    "More in this [Tensorflow tutorial](https://www.tensorflow.org/guide/tensor_slicing)."
   ]
  },
  {
   "cell_type": "markdown",
   "id": "7ebf8a94-0c4a-4f07-85aa-ff4dd05ce80c",
   "metadata": {
    "id": "a72a6dab"
   },
   "source": [
    "---\n",
    "\n",
    "**Broadcasting**\n",
    "\n",
    "Broadcasting is the automatic updating of shapes to make operations between tensors possible (and streamlined/faster). \n",
    "\n",
    "Knowing this is important and will **help you a lot**.\n",
    "\n",
    "This goes back to Numpy, [here is the tutorial](https://numpy.org/doc/stable/user/basics.broadcasting.html).\n",
    "\n",
    "From this, we get the following diagrams:\n",
    "\n",
    "<!-- ![Numpy broadcasting 1](images/tf/np_broadcasting_1.png) -->\n",
    "![Numpy broadcasting 1](https://drive.google.com/uc?id=1gPX4REfzmjisvEoCb-XxCEXqj4nPiMLo)\n",
    "\n",
    "Source: [NumPy Broadcasting](https://numpy.org/doc/stable/user/basics.broadcasting.html)\n",
    "\n",
    "<!-- ![Numpy broadcasting 2](images/tf/np_broadcasting_2.png) -->\n",
    "![Numpy broadcasting 2](https://drive.google.com/uc?id=1yKYlEqTW2_4EfAwHQNviBDZ5onJpTZes)\n",
    "\n",
    "Source: [NumPy Broadcasting](https://numpy.org/doc/stable/user/basics.broadcasting.html)\n",
    "\n",
    "<!-- ![Numpy broadcasting 3](images/tf/np_broadcasting_3.png) -->\n",
    "![Numpy broadcasting 3](https://drive.google.com/uc?id=1oawFy6B5Pe8Yrg1DQnXXFPwQPtN8yZoq)\n",
    "\n",
    "Source: [NumPy Broadcasting](https://numpy.org/doc/stable/user/basics.broadcasting.html)\n",
    "\n",
    "<!-- ![Numpy broadcasting 4](images/tf/np_broadcasting_4.png) -->\n",
    "![Numpy broadcasting 4](https://drive.google.com/uc?id=17epzuPOcCvaJ_lqq2jjKpFu5yBUzgpxf)\n",
    "\n",
    "Source: [NumPy Broadcasting](https://numpy.org/doc/stable/user/basics.broadcasting.html)\n",
    "\n",
    "<!-- ![Sasha Rush broadcasting rules](images/tf/srush-broadcasting.png) -->\n",
    "![Sasha Rush broadcasting rules](https://drive.google.com/uc?id=1_9kY-rpKyTu-mHDQm4LgNRTVZLYKRp4x)\n",
    "\n",
    "Source: [Sasha Rush, Twitter](https://twitter.com/srush_nlp/status/1516781757596680194?t=RwVp5kUWPvHG-e42wo0ryw&s=19)\n"
   ]
  },
  {
   "cell_type": "code",
   "execution_count": null,
   "id": "364cccec",
   "metadata": {
    "id": "364cccec"
   },
   "outputs": [],
   "source": [
    "x = tf.ones(shape=(2, 1)) # a column vector\n",
    "x"
   ]
  },
  {
   "cell_type": "code",
   "execution_count": null,
   "id": "1265bf6c-451a-4d9e-a9b9-4dd48d66b9b3",
   "metadata": {
    "id": "1265bf6c-451a-4d9e-a9b9-4dd48d66b9b3"
   },
   "outputs": [],
   "source": [
    "y = x + tf.constant([2.]) # broadcasting [2.] to [[2.],\n",
    "                          #                       [2.]]\n",
    "y"
   ]
  },
  {
   "cell_type": "code",
   "execution_count": null,
   "id": "08fed02b-32ff-4329-a44e-84d802d38831",
   "metadata": {
    "id": "08fed02b-32ff-4329-a44e-84d802d38831"
   },
   "outputs": [],
   "source": [
    "x + 2 # works as well, just saying"
   ]
  },
  {
   "cell_type": "code",
   "execution_count": null,
   "id": "d04987d5-51af-45b3-8771-2e885e6df9d6",
   "metadata": {
    "id": "d04987d5-51af-45b3-8771-2e885e6df9d6"
   },
   "outputs": [],
   "source": [
    "z = tf.ones(shape=(2,2)) * 2\n",
    "print(z)"
   ]
  },
  {
   "cell_type": "code",
   "execution_count": null,
   "id": "a94ecd37-a95a-4e47-9a66-c53f5af3f45e",
   "metadata": {
    "id": "a94ecd37-a95a-4e47-9a66-c53f5af3f45e"
   },
   "outputs": [],
   "source": [
    "print(y)\n",
    "print(z)\n",
    "z + y # broadcasting y = [[3.],\n",
    "      #                   [3.]] \n",
    "      #              to   [[3., 3.],\n",
    "      #                   [3., 3.]]"
   ]
  },
  {
   "cell_type": "code",
   "execution_count": null,
   "id": "dec6e01c",
   "metadata": {
    "id": "dec6e01c"
   },
   "outputs": [],
   "source": [
    "x + tf.transpose(y) # double broadcasting:\n",
    "                    #\n",
    "                    # x = [[1.]       →  [[1., 1.],\n",
    "                    #      [1.]]          [1., 1.]]\n",
    "                    #\n",
    "                    # y = [[3., 3.]]  →  [[3., 3.],\n",
    "                    #                     [3., 3.]]"
   ]
  },
  {
   "cell_type": "markdown",
   "id": "1a896597-39a6-4450-9d9f-9616788fb97c",
   "metadata": {
    "id": "1a896597-39a6-4450-9d9f-9616788fb97c"
   },
   "source": [
    "---\n",
    "\n",
    "### Reminder, NumPy arrays are assignable (like lists in Python)"
   ]
  },
  {
   "cell_type": "code",
   "execution_count": null,
   "id": "fe0bc1e2-76a6-4578-8e6b-426b3802c15d",
   "metadata": {
    "id": "fe0bc1e2-76a6-4578-8e6b-426b3802c15d"
   },
   "outputs": [],
   "source": [
    "x = np.ones(shape=(2, 2))\n",
    "print(x)\n",
    "x[0, 0] = 0.\n",
    "print(x)"
   ]
  },
  {
   "cell_type": "markdown",
   "id": "4b80459e-723b-4644-9286-aa4d8f97c901",
   "metadata": {
    "id": "4b80459e-723b-4644-9286-aa4d8f97c901"
   },
   "source": [
    "### But TensorFlow variables resist usual assignment!"
   ]
  },
  {
   "cell_type": "code",
   "execution_count": null,
   "id": "f2810d49-cc6c-47ce-8cce-69761875deac",
   "metadata": {
    "id": "f2810d49-cc6c-47ce-8cce-69761875deac"
   },
   "outputs": [],
   "source": [
    "v = tf.Variable(initial_value=tf.zeros(shape=(2,2)))\n",
    "print(v)\n",
    "try:\n",
    "    v[0,0] = 1\n",
    "except Exception as e:\n",
    "    print(\"-\"*40)\n",
    "    print(e)\n",
    "    print(\"tensors are not assignable the regular way...\")"
   ]
  },
  {
   "cell_type": "markdown",
   "id": "781b03fd-6d27-455a-8dba-831e4d5427a1",
   "metadata": {
    "id": "781b03fd-6d27-455a-8dba-831e4d5427a1"
   },
   "source": [
    "### Assigning a value to a TensorFlow variable"
   ]
  },
  {
   "cell_type": "code",
   "execution_count": null,
   "id": "46dc6b17-3faf-4d11-9a9d-243f3b1c1dbf",
   "metadata": {
    "id": "46dc6b17-3faf-4d11-9a9d-243f3b1c1dbf"
   },
   "outputs": [],
   "source": [
    "print(v)\n",
    "v.assign(tf.ones((2,2)))\n",
    "print()\n",
    "print(v)"
   ]
  },
  {
   "cell_type": "markdown",
   "id": "5b9e773a-cb01-4159-9815-c3fc93522285",
   "metadata": {
    "id": "5b9e773a-cb01-4159-9815-c3fc93522285"
   },
   "source": [
    "### Assigning a value to a subset of a TensorFlow variable"
   ]
  },
  {
   "cell_type": "code",
   "execution_count": null,
   "id": "72747ce2-60bb-4a67-b015-752aeaf2db2c",
   "metadata": {
    "id": "72747ce2-60bb-4a67-b015-752aeaf2db2c"
   },
   "outputs": [],
   "source": [
    "print(v)\n",
    "v[0, 0].assign(3.)\n",
    "print()\n",
    "print(v)"
   ]
  },
  {
   "cell_type": "markdown",
   "id": "c1391a27-dd3e-4c5b-baa8-c363800ae113",
   "metadata": {
    "id": "c1391a27-dd3e-4c5b-baa8-c363800ae113"
   },
   "source": [
    "### Using `assign_add`"
   ]
  },
  {
   "cell_type": "code",
   "execution_count": null,
   "id": "e5955882-61aa-4b54-96d0-5a89659cb689",
   "metadata": {
    "id": "e5955882-61aa-4b54-96d0-5a89659cb689"
   },
   "outputs": [],
   "source": [
    "print(v)\n",
    "v.assign_add(tf.ones((2,2)))\n",
    "print()\n",
    "print(v)"
   ]
  },
  {
   "cell_type": "code",
   "execution_count": null,
   "id": "3f0297af-d4e5-4a9d-bcc0-25c5689076cf",
   "metadata": {
    "id": "3f0297af-d4e5-4a9d-bcc0-25c5689076cf"
   },
   "outputs": [],
   "source": [
    "print(v)\n",
    "v.assign_sub(tf.ones(v.shape))\n",
    "print()\n",
    "print(v)"
   ]
  },
  {
   "cell_type": "markdown",
   "id": "bc36ade9-da87-4c20-9f59-cc5ef66b1922",
   "metadata": {
    "id": "82371176-f377-4afe-a17b-6b2c37793d34"
   },
   "source": [
    "---\n",
    "\n",
    "### 3.5.2. Tensor operations: Doing math in TensorFlow\n",
    "\n",
    "### Important!\n",
    "\n",
    "**Element-wise**: apply the operation to each element! \n",
    "\n",
    "If you apply an element-wise op to two tensors of different dimensions, tf will try to **broadcast** the values.\n",
    "\n",
    "What is **not** element-wise? The dot product / matrix multiplication / tensor multiplication."
   ]
  },
  {
   "cell_type": "code",
   "execution_count": null,
   "id": "a96bacee",
   "metadata": {
    "id": "a96bacee",
    "scrolled": true
   },
   "outputs": [],
   "source": [
    "a = tf.ones((2, 2))\n",
    "print(a)\n",
    "a = a * 2\n",
    "print()\n",
    "print(a) # these are broadcast then performered element-wise!"
   ]
  },
  {
   "cell_type": "code",
   "execution_count": null,
   "id": "d5ec3a14",
   "metadata": {
    "id": "d5ec3a14"
   },
   "outputs": [],
   "source": [
    "b = tf.square(a) # same as a ** 2, element-wise\n",
    "b"
   ]
  },
  {
   "cell_type": "code",
   "execution_count": null,
   "id": "eeb96ef2",
   "metadata": {
    "id": "eeb96ef2"
   },
   "outputs": [],
   "source": [
    "c = tf.sqrt(a) # same as a ** (1/2), element-wise\n",
    "c"
   ]
  },
  {
   "cell_type": "code",
   "execution_count": null,
   "id": "96c904f1",
   "metadata": {
    "id": "96c904f1"
   },
   "outputs": [],
   "source": [
    "d = b + c # also element-wise\n",
    "d"
   ]
  },
  {
   "cell_type": "markdown",
   "id": "b1adb7fa",
   "metadata": {
    "id": "b1adb7fa"
   },
   "source": [
    "TensorFlow is more restrictive than NumPy: only `@` and `tf.matmul`, rather than `.dot()`."
   ]
  },
  {
   "cell_type": "code",
   "execution_count": null,
   "id": "35e1485a",
   "metadata": {
    "id": "35e1485a"
   },
   "outputs": [],
   "source": [
    "e = a @ b # same as tf.matmul(a, b)\n",
    "e         "
   ]
  },
  {
   "cell_type": "code",
   "execution_count": null,
   "id": "f9e0ab0e-78f6-4180-8082-222ca0a8577a",
   "metadata": {
    "id": "f9e0ab0e-78f6-4180-8082-222ca0a8577a"
   },
   "outputs": [],
   "source": [
    "e *= d # and, lastly, element-wise\n",
    "e"
   ]
  },
  {
   "cell_type": "markdown",
   "id": "18dfa78c-3645-4625-bbe6-7adc0bb904f7",
   "metadata": {
    "id": "18dfa78c-3645-4625-bbe6-7adc0bb904f7"
   },
   "source": [
    "---\n",
    "\n",
    "### Finally, `reduce` operations"
   ]
  },
  {
   "cell_type": "code",
   "execution_count": null,
   "id": "e6265a40-718a-49ea-aba8-14909d33c08f",
   "metadata": {
    "id": "e6265a40-718a-49ea-aba8-14909d33c08f"
   },
   "outputs": [],
   "source": [
    "x = tf.random.uniform(shape=(3, 2), minval=1, maxval=16, dtype=tf.int32)\n",
    "print(x)\n",
    "print()\n",
    "print(tf.reduce_min(x))\n",
    "print()\n",
    "print(tf.reduce_min(x, axis=0))\n",
    "print()\n",
    "print(tf.reduce_min(x, axis=1))"
   ]
  },
  {
   "cell_type": "code",
   "execution_count": null,
   "id": "80326201-1934-4bf0-b571-deecd06daffe",
   "metadata": {
    "id": "80326201-1934-4bf0-b571-deecd06daffe"
   },
   "outputs": [],
   "source": [
    "x = tf.random.uniform(shape=(3, 2), minval=1, maxval=16, dtype=tf.int32)\n",
    "print(x)\n",
    "print()\n",
    "print(tf.reduce_max(x))\n",
    "print()\n",
    "print(tf.reduce_max(x, axis=0))\n",
    "print()\n",
    "print(tf.reduce_max(x, axis=1))"
   ]
  },
  {
   "cell_type": "code",
   "execution_count": null,
   "id": "b95299f5-d6af-4300-803f-78136256667e",
   "metadata": {
    "id": "b95299f5-d6af-4300-803f-78136256667e"
   },
   "outputs": [],
   "source": [
    "x = tf.random.uniform(shape=(3, 2), minval=1, maxval=6, dtype=tf.int32)\n",
    "print(x)\n",
    "print()\n",
    "print(tf.reduce_mean(x))\n",
    "print()\n",
    "print(tf.reduce_mean(x, axis=0))\n",
    "print()\n",
    "print(tf.reduce_mean(x, axis=1))"
   ]
  },
  {
   "cell_type": "code",
   "execution_count": null,
   "id": "132c48a2-9b25-47d8-8dcd-4f170fadcfc7",
   "metadata": {
    "id": "132c48a2-9b25-47d8-8dcd-4f170fadcfc7"
   },
   "outputs": [],
   "source": [
    "x = tf.random.uniform(shape=(3, 2), minval=1, maxval=6, dtype=tf.int32)\n",
    "print(x)\n",
    "print()\n",
    "print(tf.reduce_sum(x))\n",
    "print()\n",
    "print(tf.reduce_sum(x, axis=0))\n",
    "print()\n",
    "print(tf.reduce_sum(x, axis=1))"
   ]
  },
  {
   "cell_type": "markdown",
   "id": "d2dcf80b-5116-4368-a00a-59f6057e4521",
   "metadata": {
    "id": "d2dcf80b-5116-4368-a00a-59f6057e4521"
   },
   "source": [
    "More in the [documentation](https://www.tensorflow.org/api_docs/python/tf/math/)."
   ]
  },
  {
   "cell_type": "markdown",
   "id": "4f2373ad-48f6-479f-85bb-fbeb6c1ce70d",
   "metadata": {
    "id": "f31d6830"
   },
   "source": [
    "## Recap\n",
    "\n",
    "- Constants/Variables, shape, type\n",
    "- Reshaping\n",
    "- Slicing\n",
    "- Tensor creation (zeros, ones, random)\n",
    "- Broadcasting\n",
    "- Maths & other ops\n"
   ]
  },
  {
   "cell_type": "markdown",
   "id": "400c4782",
   "metadata": {
    "id": "400c4782"
   },
   "source": [
    "---\n",
    "\n",
    "## More practice!\n",
    "\n",
    "- [TensorFlow Introduction to Tensors](https://www.tensorflow.org/guide/tensor)  \n",
    "- [TensorFlow Introduction to Variables](https://www.tensorflow.org/guide/variable)  \n",
    "- [TensorFlow Introduction to tensor slicing](https://www.tensorflow.org/guide/tensor_slicing)\n",
    "\n",
    "And for something which is actually *less* basic: [TensorFlow Basics](https://www.tensorflow.org/guide/basics).  "
   ]
  },
  {
   "cell_type": "markdown",
   "id": "18d63758",
   "metadata": {
    "id": "18d63758"
   },
   "source": [
    "---\n",
    "\n",
    "## Note: Matmul with more dimensions"
   ]
  },
  {
   "cell_type": "code",
   "execution_count": null,
   "id": "72c85b25",
   "metadata": {
    "id": "72c85b25"
   },
   "outputs": [],
   "source": [
    "x = tf.random.uniform(shape=(5,2,4), minval=1, maxval=5, dtype=tf.int32)\n",
    "# would also work with shape=(1,2,4) thanks to broadcasting\n",
    "print(x)\n",
    "print()\n",
    "y = tf.random.uniform(shape=(5,4,2), minval=1, maxval=5, dtype=tf.int32)\n",
    "print(y)\n",
    "print()"
   ]
  },
  {
   "cell_type": "code",
   "execution_count": null,
   "id": "71ee0e2f",
   "metadata": {
    "id": "71ee0e2f"
   },
   "outputs": [],
   "source": [
    "x @ y"
   ]
  },
  {
   "cell_type": "markdown",
   "id": "4260ccc1",
   "metadata": {
    "id": "4260ccc1"
   },
   "source": [
    "The last two dimensions must match, the rest must either match or one of them must be one (→ broadcast)."
   ]
  },
  {
   "cell_type": "code",
   "execution_count": null,
   "id": "f974775c",
   "metadata": {
    "id": "f974775c"
   },
   "outputs": [],
   "source": [
    "x[0] @ y[0] # the same result as the first matrix in the tensor above"
   ]
  },
  {
   "cell_type": "markdown",
   "id": "3845d083",
   "metadata": {
    "id": "3845d083"
   },
   "source": [
    "---\n",
    "\n",
    "### A note on `np.dot` in higher dimensions\n",
    "\n",
    "TL:DR: **don't use `.dot` in higher dimensions, just switch to matmul, as this is what you'll be using.**"
   ]
  },
  {
   "cell_type": "code",
   "execution_count": null,
   "id": "6f709a30",
   "metadata": {
    "id": "6f709a30"
   },
   "outputs": [],
   "source": [
    "a = np.ones((4,4))\n",
    "a"
   ]
  },
  {
   "cell_type": "code",
   "execution_count": null,
   "id": "a4d78d03",
   "metadata": {
    "id": "a4d78d03"
   },
   "outputs": [],
   "source": [
    "b = np.arange(3*4*2).reshape(3,4,2)\n",
    "b"
   ]
  },
  {
   "cell_type": "code",
   "execution_count": null,
   "id": "f2de293f",
   "metadata": {
    "id": "f2de293f"
   },
   "outputs": [],
   "source": [
    "print(a.shape)\n",
    "print(b.shape)"
   ]
  },
  {
   "cell_type": "markdown",
   "id": "03ef58dd",
   "metadata": {
    "id": "03ef58dd"
   },
   "source": [
    "The `dot` in higher dimension will do the following operation:\n",
    "\n",
    "> For 2-D arrays it is equivalent to matrix multiplication, and for 1-D arrays to inner product of vectors (without complex conjugation). For N dimensions it is a sum product over the last axis of a and the second-to-last of b. ([NumPy documentation](https://numpy.org/doc/stable/reference/generated/numpy.dot.html).\n",
    "\n",
    "So, in our case:\n",
    "\n",
    "```\n",
    "a.shape: (4,  4)   ← the last and\n",
    "b.shape:   (3,4,2) ← next-to-last dims are multiplied & summed\n",
    "          ↓ ↓   ↓\n",
    "result:  (4,3,  2)\n",
    "          ↑ ↑      ← the leading dims of each array are just stacked in order\n",
    "```\n",
    "Multiply/Sum `4` with `4`."
   ]
  },
  {
   "cell_type": "code",
   "execution_count": null,
   "id": "176b78f9",
   "metadata": {
    "id": "176b78f9"
   },
   "outputs": [],
   "source": [
    "adotb = a.dot(b)\n",
    "print(adotb)\n",
    "print()\n",
    "print(f\"shape: {adotb.shape}\")"
   ]
  },
  {
   "cell_type": "markdown",
   "id": "3523c0ea",
   "metadata": {
    "id": "3523c0ea"
   },
   "source": [
    "It's possible to think about this as \"take slices of `a`\", dot them with `b`."
   ]
  },
  {
   "cell_type": "code",
   "execution_count": null,
   "id": "cafee6ae",
   "metadata": {
    "id": "cafee6ae"
   },
   "outputs": [],
   "source": [
    "a[0].dot(b) # we end up with such matrices"
   ]
  },
  {
   "cell_type": "markdown",
   "id": "93215a76",
   "metadata": {
    "id": "93215a76"
   },
   "source": [
    "The `matmul` operation (aka `@`, it's the same), will **broadcast** the shapes so that:\n",
    "\n",
    "```\n",
    "a.shape: (4,4) → (1,4,4) → (3,4,4)\n",
    "b.shape:                   (3,  4,2)\n",
    "                              ↓   ↓  # the matmul thing\n",
    "result:                    (3,4,  2)\n",
    "```\n",
    "    \n",
    "Then it treats the last dimensions as matrices (stacks of `(4,2)` and `(4,4)`, does matmul on them."
   ]
  },
  {
   "cell_type": "code",
   "execution_count": null,
   "id": "af5546db",
   "metadata": {
    "id": "af5546db",
    "scrolled": true
   },
   "outputs": [],
   "source": [
    "amatmulb = a @ b\n",
    "print(amatmulb)\n",
    "print()\n",
    "print(f\"shape: {amatmulb.shape}\")"
   ]
  },
  {
   "cell_type": "markdown",
   "id": "6a97187d",
   "metadata": {
    "id": "6a97187d"
   },
   "source": [
    "In this case, it's doing the opposite: taking `a`, doing matmul on slices of `b`."
   ]
  },
  {
   "cell_type": "code",
   "execution_count": null,
   "id": "39810640",
   "metadata": {
    "id": "39810640"
   },
   "outputs": [],
   "source": [
    "a @ b[0] # we will get three such matrices"
   ]
  },
  {
   "cell_type": "markdown",
   "id": "9c8e2321",
   "metadata": {
    "id": "9c8e2321"
   },
   "source": [
    "The logic is extended to larger dimensions."
   ]
  },
  {
   "cell_type": "code",
   "execution_count": null,
   "id": "a55424f8",
   "metadata": {
    "id": "a55424f8"
   },
   "outputs": [],
   "source": [
    "c = np.arange(3*4*5).reshape((1,3,4,5))\n",
    "d = np.ones(2*3*4*5).reshape((4,3,5,2))\n",
    "                                           # (1,3,4,     5)   ← last with\n",
    "                                           #       (4,3, 5,2) ← next-to last \n",
    "print(f\"c.dot(d) shape: {c.dot(d).shape}\") # (1,3,4,4,3,   2)\n",
    "\n",
    "                                           # (1,3,4,5) → (4,3,4,5)   ← c: broadcasting!\n",
    "print()                                    #             (4,3,  5,2) ← last two dims: matmul\n",
    "print(f\"c @ d shape: {(c @ d).shape}\")     #             (4,3,4,  2)"
   ]
  },
  {
   "cell_type": "markdown",
   "id": "57b584d2",
   "metadata": {
    "id": "57b584d2"
   },
   "source": [
    "Final note: \n",
    "- for `dot`: the **last dim** of a and the **next-to-last dim** of b must be the same. The rest is freefall.  \n",
    "- for `matmul` in higher dimensions, the **last two dims** must follow matrix multiplication rules: `(a,b) (b,c) → (a,c)`. **The rest must be broadcastable.**"
   ]
  }
 ],
 "metadata": {
  "accelerator": "GPU",
  "celltoolbar": "Slideshow",
  "colab": {
   "collapsed_sections": [],
   "provenance": []
  },
  "kernelspec": {
   "display_name": "Python 3 (ipykernel)",
   "language": "python",
   "name": "python3"
  },
  "language_info": {
   "codemirror_mode": {
    "name": "ipython",
    "version": 3
   },
   "file_extension": ".py",
   "mimetype": "text/x-python",
   "name": "python",
   "nbconvert_exporter": "python",
   "pygments_lexer": "ipython3",
   "version": "3.9.15"
  }
 },
 "nbformat": 4,
 "nbformat_minor": 5
}
