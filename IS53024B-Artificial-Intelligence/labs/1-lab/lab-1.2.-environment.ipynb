{
  "cells": [
    {
      "cell_type": "markdown",
      "metadata": {
        "id": "Qe8sdi-4u3XW"
      },
      "source": [
        "# Using lab desktops\n",
        "\n",
        "(3.2-setting-up-a-workstation has advice for installing Jupyter, tensorflow and depedencies on your own machine.)\n",
        "\n",
        "Anaconda currently fails to launch Jupyter notebooks from Home on the lab machines. Use Terminal:\n",
        "\n",
        "1. Launch Terminal\n",
        "2. Type `source activate AI2022` - our Python environment on lab machines is `AI2022`, then `jupyter notebook`. This will launch the Jupyter directory as a Safari page. Note that our Python environment on lab machines is `AI`.\n",
        "3. From the Jupyter directory: Navigate to your AI folder (or, select New >> Folder (top right) and create a new folder) \n",
        "4. Select New >> Python 3\n",
        "5. A notebook will launch in a new Safari tab. \n",
        "\n",
        "## More useful commands\n",
        "\n",
        "To exit an environment: `conda deactivate`.\n",
        "\n",
        "To list available environments.\n",
        "\n",
        "```bash\n",
        "$ conda env list\n",
        "```\n",
        "\n",
        "To check that something is installed (you must be within an environment):\n",
        "\n",
        "```bash\n",
        "(AI2022) $ conda list | grep tensorflow\n",
        "```\n",
        "\n",
        "(Replace `tensorflow` by any package name, or part of a name.)\n",
        "\n",
        "A [Conda cheatsheet](https://docs.conda.io/projects/conda/en/4.6.0/_downloads/52a95608c49671267e40c689e0bc00ca/conda-cheatsheet.pdf)."
      ]
    },
    {
      "cell_type": "markdown",
      "metadata": {
        "id": "HZSkuH0cu3Xe"
      },
      "source": [
        "---\n",
        "\n",
        "# Using Colaboratory (online, recommended!)\n",
        "\n",
        "### Note: you must be signed in to Google/Gmail in order to be able to use this service.\n",
        "\n",
        "Colaboratory (aka Colab) is a way to use Jupyter Notebooks online (with *free* GPU/TPU acceleration!).\n",
        "\n",
        "As soon as you have a `.ipynb` file, you can open it in Colab. If you have one on your personal computer, upload it to your Google Drive, and from Google Drive, you can right-click / ctrl-click and select `Open with` → `Google Colaboratory`.\n",
        "\n",
        "Many websites now offer a direct Colab integration. See the [Tensorflow tutorials](https://www.tensorflow.org/tutorials) for instance, each of them has a 'Run in Google Colab' button.\n",
        "\n",
        "Tensorflow is installed by default in Colaboratory.\n",
        "\n",
        "Check out:\n",
        "\n",
        "- [Welcome to Colab!](https://colab.research.google.com/?utm_source=scs-index#scrollTo=Nma_JWh-W-IF) Colab, with many links, for instance:\n",
        "- [Overview of Colaboratory Features](https://colab.research.google.com/notebooks/basic_features_overview.ipynb)."
      ]
    },
    {
      "cell_type": "markdown",
      "metadata": {
        "id": "D5suTNAAu3Xk"
      },
      "source": [
        "## Runtime\n",
        "\n",
        "In Colab, you can have access to GPU or TPU accelerators (called the 'runtime' of the environment, the default being just CPU or None).\n",
        "\n",
        "`Runtime` → `Change runtime type` → `Hardware accelerator` (None/GPU/TPU)\n",
        "\n",
        "(This is then saved for when you reuse the notebook)."
      ]
    },
    {
      "cell_type": "markdown",
      "metadata": {
        "id": "HoyZzaynu3Xn"
      },
      "source": [
        "## Save your work\n",
        "\n",
        "`File` → `Make a copy` (to save to your own Google drive)"
      ]
    },
    {
      "cell_type": "markdown",
      "metadata": {
        "id": "UDa0fYtcu3Xq"
      },
      "source": [
        "## Integration with Google Drive\n",
        "\n",
        "Thanks to this easy link, it is possible for you to upload models and datasets to your drive, and save your results there for the next time you want to work on them.\n",
        "\n",
        "\n",
        "See the [External data: Local Files, Drive, Sheets and Cloud Storage](https://colab.research.google.com/notebooks/io.ipynb) colab.\n",
        "\n",
        "The following code will prompt you to validate the connection to your Google account.\n",
        "\n",
        "```python\n",
        "from google.colab import drive\n",
        "drive.mount('/content/drive')\n",
        "```\n",
        "\n",
        "Then you can interact with the file system & move folders using standard [Python tools](https://python101.pythonlibrary.org/chapter16_os.html).\n",
        "\n",
        "```python\n",
        "import os\n",
        "os.chdir('drive/My Drive/') # 'My Drive' is the default name of Google Drives\n",
        "os.listdir()\n",
        "```"
      ]
    },
    {
      "cell_type": "markdown",
      "metadata": {
        "id": "0gBfXvHNu3Xs"
      },
      "source": [
        "---\n",
        "\n",
        "# Getting started with Jupyter\n",
        "\n",
        "However you manage to launch a Jupyter Notebook, a cursor will be flashing inside a code cell. Type\n",
        "```python\n",
        "import sys\n",
        "print(sys.version)\n",
        "import tensorflow as tf\n",
        "print(tf.__version__,'\\t', tf.keras.__version__)\n",
        "```\n",
        "and hit shift-return.\n",
        "\n",
        "Something like \n",
        "```\n",
        "3.7.4 (default, Aug 13 2019, 15:17:50) \n",
        "[Clang 4.0.1 (tags/RELEASE_401/final)]\n",
        "2.0.0-rc0 \t 2.2.4-tf\n",
        "```\n",
        "will appear below the cell and a new code cell will appear below that.\n",
        "1. Click in the new code cell and select Markdown from the dropdown box in the middle of thetoolbar.\n",
        "2. Enter some text and hit shift-return to run the cell.\n",
        "3. Practise entering code and markdown. Cells are edited by moving the cursor to the cell and pressing return. \n",
        "4. You are now ready for Lab 2. "
      ]
    },
    {
      "cell_type": "code",
      "execution_count": null,
      "metadata": {
        "id": "Pj7tngcOu3Xv",
        "outputId": "67622948-e5c6-4df6-c60f-e39427db080f"
      },
      "outputs": [
        {
          "name": "stdout",
          "output_type": "stream",
          "text": [
            "3.7.4 (default, Aug 13 2019, 15:17:50) \n",
            "[Clang 4.0.1 (tags/RELEASE_401/final)]\n",
            "2.0.0-rc0 \t 2.2.4-tf\n"
          ]
        }
      ],
      "source": [
        "import sys\n",
        "print(sys.version)\n",
        "import tensorflow as tf\n",
        "print(tf.__version__,'\\t', tf.keras.__version__)"
      ]
    },
    {
      "cell_type": "markdown",
      "source": [
        "A [Jupyter Notebook cheatsheet](https://www.edureka.co/blog/wp-content/uploads/2018/10/Jupyter_Notebook_CheatSheet_Edureka.pdf)."
      ],
      "metadata": {
        "id": "yhy-dWTOwEk6"
      }
    },
    {
      "cell_type": "markdown",
      "metadata": {
        "id": "PqqQJGtju3Xx"
      },
      "source": [
        "---\n",
        "\n",
        "# Install on your local machine\n",
        "\n",
        "This is by far the hardest path, you **do not need to do this** in this course. This also varies from operating system to operating system. We will only give an outline of the steps, and refer you to existing tutorials.\n",
        "\n",
        "1. Make sure Python is installed. A highly recommended method is to install it through [Anaconda](https://docs.anaconda.com/anaconda/install/) (full) or [Miniconda](https://docs.conda.io/en/latest/miniconda.html) (minimal) and **always** use [an environment](https://conda.io/projects/conda/en/latest/user-guide/tasks/manage-environments.html).\n",
        "2. [Install Tensorflow (with GPU support)](https://www.tensorflow.org/install/pip), this is the tricky part.\n",
        "3. Install [Jupyter Lab](https://jupyter.org/) (that comes with `Jupyter Notebook` as well): `conda install -c conda-forge jupyterlab` \n",
        "\n",
        "A more elaborate version of this is available as a pdf in the **Resource** section on the VLE!"
      ]
    }
  ],
  "metadata": {
    "kernelspec": {
      "display_name": "Python 3 (ipykernel)",
      "language": "python",
      "name": "python3"
    },
    "language_info": {
      "codemirror_mode": {
        "name": "ipython",
        "version": 3
      },
      "file_extension": ".py",
      "mimetype": "text/x-python",
      "name": "python",
      "nbconvert_exporter": "python",
      "pygments_lexer": "ipython3",
      "version": "3.7.13"
    },
    "colab": {
      "provenance": []
    }
  },
  "nbformat": 4,
  "nbformat_minor": 0
}