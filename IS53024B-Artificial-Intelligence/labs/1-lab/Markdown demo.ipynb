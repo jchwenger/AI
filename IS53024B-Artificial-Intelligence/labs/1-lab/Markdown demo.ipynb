{
 "cells": [
  {
   "cell_type": "markdown",
   "metadata": {},
   "source": [
    "This is a markdown cell. Double click or `Enter` to edit."
   ]
  },
  {
   "cell_type": "code",
   "execution_count": 1,
   "metadata": {},
   "outputs": [
    {
     "name": "stdout",
     "output_type": "stream",
     "text": [
      "42\n"
     ]
    }
   ],
   "source": [
    "# This is a Python cell\n",
    "print(42)"
   ]
  },
  {
   "cell_type": "markdown",
   "metadata": {},
   "source": [
    "\\* *italics* \\*  \n",
    "or  \n",
    "\\_ _italics_ \\_\n",
    "\n",
    "\\*\\* **bold** \\*\\*  \n",
    "or  \n",
    "\\__ __bold__ \\__  "
   ]
  },
  {
   "cell_type": "markdown",
   "metadata": {},
   "source": [
    "Separator: \\---\n",
    "\n",
    "---"
   ]
  },
  {
   "cell_type": "markdown",
   "metadata": {},
   "source": [
    "You need\n",
    "two spaces\n",
    "at the end\n",
    "of a line\n",
    "to add a\n",
    "newline.\n",
    "\n",
    "You need  \n",
    "two spaces  \n",
    "at the end  \n",
    "of a line  \n",
    "to add a  \n",
    "newline."
   ]
  },
  {
   "cell_type": "markdown",
   "metadata": {},
   "source": [
    "This is inline `code`.\n",
    "\n",
    "```\n",
    "This is\n",
    "multiline code.\n",
    "```\n",
    "\n",
    "```python\n",
    "syntax = True\n",
    "if syntax:\n",
    "    print(\"One can specify the syntax language like so: ```python\")\n",
    "```\n",
    "\n",
    "```sh\n",
    "echo \"this works for the shell as well: ```sh\"\n",
    "```"
   ]
  },
  {
   "cell_type": "markdown",
   "metadata": {},
   "source": [
    "# Main Heading\n",
    "\n",
    "## Section\n",
    "\n",
    "### Subsection\n",
    "\n",
    "#### Subsubsection\n",
    "\n"
   ]
  },
  {
   "cell_type": "markdown",
   "metadata": {},
   "source": [
    "##### Unordered lists\n",
    "\n",
    "- Item\n",
    "- Item\n",
    "- Item"
   ]
  },
  {
   "cell_type": "markdown",
   "metadata": {},
   "source": [
    "##### Ordered list\n",
    "\n",
    "1. Item\n",
    "2. Item\n",
    "3. Item"
   ]
  },
  {
   "cell_type": "markdown",
   "metadata": {},
   "source": [
    "##### Tables\n",
    "\n",
    "| Expt     | Loss     | Accuracy |\n",
    "|----------|----------|----------|\n",
    "| 32-16    | 0.03     | 96%      |\n",
    "| 64-16    | 0.01     | 99%     |"
   ]
  },
  {
   "cell_type": "markdown",
   "metadata": {},
   "source": [
    "A very useful [Markdown cheatsheet](https://github.com/adam-p/markdown-here/wiki/Markdown-Cheatsheet)!"
   ]
  }
 ],
 "metadata": {
  "kernelspec": {
   "display_name": "Python 3 (ipykernel)",
   "language": "python",
   "name": "python3"
  },
  "language_info": {
   "codemirror_mode": {
    "name": "ipython",
    "version": 3
   },
   "file_extension": ".py",
   "mimetype": "text/x-python",
   "name": "python",
   "nbconvert_exporter": "python",
   "pygments_lexer": "ipython3",
   "version": "3.7.13"
  }
 },
 "nbformat": 4,
 "nbformat_minor": 4
}
