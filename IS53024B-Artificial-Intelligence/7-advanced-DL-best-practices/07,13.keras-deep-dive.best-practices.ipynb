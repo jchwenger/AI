{
 "cells": [
  {
   "cell_type": "markdown",
   "metadata": {
    "slideshow": {
     "slide_type": "slide"
    }
   },
   "source": [
    "# Attendance\n",
    "\n",
    "[The link to SEAts](https://goldsmithscollege.sharepoint.com/sites/intranet-supporting-students/SitePages/SEAtS--QR-codes-for-check-in.aspx?utm_campaign=SEAtS%20reminder%2027.09.22&utm_source=emailCampaign&utm_content=&utm_medium=email)\n",
    "\n",
    "[Evaluations!](http://www.doc.gold.ac.uk/evaluation) 🙏"
   ]
  },
  {
   "cell_type": "markdown",
   "metadata": {
    "slideshow": {
     "slide_type": "slide"
    }
   },
   "source": [
    "---\n",
    "\n",
    "# 7 Working with Keras: A deep dive"
   ]
  },
  {
   "cell_type": "code",
   "execution_count": 42,
   "metadata": {
    "slideshow": {
     "slide_type": "skip"
    }
   },
   "outputs": [],
   "source": [
    "import time\n",
    "import pathlib\n",
    "basedir = pathlib.Path(\"images\")\n",
    "\n",
    "import numpy as np\n",
    "from matplotlib import pyplot as plt\n",
    "\n",
    "from IPython.display import YouTubeVideo\n",
    "\n",
    "import tensorflow as tf"
   ]
  },
  {
   "cell_type": "markdown",
   "metadata": {
    "slideshow": {
     "slide_type": "slide"
    }
   },
   "source": [
    "## 7.1 A spectrum of workflows\n",
    "\n",
    "The principle of *progressive disclosure of complexity*:\n",
    "\n",
    "<!-- ![Chollet spectrum](images/chollet.spectrum.p.173.png) -->\n",
    "![Chollet spectrum](https://drive.google.com/uc?id=12dZG80B0px_l75zhXbF9e3PEKy8bv1ec)\n",
    "\n",
    "<small>DLWP, p.173</small>"
   ]
  },
  {
   "cell_type": "markdown",
   "metadata": {
    "slideshow": {
     "slide_type": "slide"
    }
   },
   "source": [
    "---\n",
    "\n",
    "## 7.2 Different ways to build Keras models"
   ]
  },
  {
   "cell_type": "markdown",
   "metadata": {
    "slideshow": {
     "slide_type": "subslide"
    }
   },
   "source": [
    "### 7.2.1 The Sequential model\n",
    "\n",
    "We started this module with the `Sequential` class:"
   ]
  },
  {
   "cell_type": "code",
   "execution_count": 2,
   "metadata": {
    "slideshow": {
     "slide_type": "fragment"
    }
   },
   "outputs": [],
   "source": [
    "model = tf.keras.Sequential([\n",
    "    tf.keras.layers.Dense(64, activation=\"relu\"),\n",
    "    tf.keras.layers.Dense(10, activation=\"softmax\")\n",
    "])"
   ]
  },
  {
   "cell_type": "markdown",
   "metadata": {
    "slideshow": {
     "slide_type": "subslide"
    }
   },
   "source": [
    "With this, we saw that we could build a Sequential model incrementally:"
   ]
  },
  {
   "cell_type": "code",
   "execution_count": 3,
   "metadata": {
    "slideshow": {
     "slide_type": "fragment"
    }
   },
   "outputs": [],
   "source": [
    "model = tf.keras.Sequential()\n",
    "model.add(tf.keras.layers.Dense(64, activation=\"relu\"))\n",
    "model.add(tf.keras.layers.Dense(10, activation=\"softmax\"))"
   ]
  },
  {
   "cell_type": "markdown",
   "metadata": {
    "slideshow": {
     "slide_type": "subslide"
    }
   },
   "source": [
    "**Calling a model for the first time to build it**\n",
    "\n",
    "The weights of the model are not initialised yet! Trying to access them will raise an error."
   ]
  },
  {
   "cell_type": "code",
   "execution_count": 4,
   "metadata": {
    "slideshow": {
     "slide_type": "fragment"
    }
   },
   "outputs": [
    {
     "name": "stdout",
     "output_type": "stream",
     "text": [
      "Weights for model sequential_1 have not yet been created. Weights are created when the Model is first called on inputs or `build()` is called with an `input_shape`.\n"
     ]
    }
   ],
   "source": [
    "try:\n",
    "    print(model.weights)\n",
    "except ValueError as e:\n",
    "    print(e)"
   ]
  },
  {
   "cell_type": "markdown",
   "metadata": {
    "slideshow": {
     "slide_type": "subslide"
    }
   },
   "source": [
    "The building happens either when the model is used on data, or if `build()` is called *with the `Input` shape specified.*"
   ]
  },
  {
   "cell_type": "code",
   "execution_count": 5,
   "metadata": {
    "scrolled": true,
    "slideshow": {
     "slide_type": "fragment"
    }
   },
   "outputs": [
    {
     "name": "stdout",
     "output_type": "stream",
     "text": [
      "You must provide an `input_shape` argument.\n"
     ]
    }
   ],
   "source": [
    "try:\n",
    "    model.build()         # also an error\n",
    "except ValueError as e:\n",
    "    print(e)"
   ]
  },
  {
   "cell_type": "code",
   "execution_count": 6,
   "metadata": {
    "jupyter": {
     "outputs_hidden": true
    },
    "scrolled": false,
    "slideshow": {
     "slide_type": "fragment"
    },
    "tags": []
   },
   "outputs": [
    {
     "data": {
      "text/plain": [
       "[<tf.Variable 'dense_2/kernel:0' shape=(3, 64) dtype=float32, numpy=\n",
       " array([[ 0.21810102, -0.08289872, -0.27786726,  0.01676601, -0.13119544,\n",
       "         -0.03205091,  0.18944168, -0.25737637, -0.05004545,  0.1885893 ,\n",
       "          0.26342273,  0.0317359 , -0.28020084,  0.03120151, -0.09100308,\n",
       "          0.05420843, -0.10549681,  0.22898865, -0.22694875, -0.23016845,\n",
       "          0.1019547 , -0.24876529,  0.23335397, -0.06257269, -0.12661928,\n",
       "         -0.07357532,  0.2729032 ,  0.2224012 , -0.28196684,  0.04119644,\n",
       "          0.29022938,  0.14932045, -0.24656752,  0.16520783, -0.06194049,\n",
       "         -0.23367596, -0.06503154,  0.04026464,  0.09631369,  0.26066875,\n",
       "         -0.07125989,  0.2865606 ,  0.1195088 , -0.05888632, -0.05562624,\n",
       "         -0.11891562, -0.1407042 , -0.04285625, -0.02786031,  0.0526427 ,\n",
       "         -0.2339744 , -0.20447302,  0.07019517, -0.06579417, -0.03910744,\n",
       "         -0.19614613,  0.10223308, -0.04833752,  0.09437239, -0.22525239,\n",
       "         -0.10584605, -0.19032148,  0.22705704, -0.09574197],\n",
       "        [-0.24038896,  0.17463446, -0.24522154,  0.17166632, -0.26203072,\n",
       "          0.2034862 , -0.10718274, -0.16521254,  0.187148  ,  0.29351026,\n",
       "          0.0306142 , -0.26990026,  0.17052543, -0.22335877,  0.14890993,\n",
       "         -0.24017935, -0.25849023,  0.10291624, -0.11725551, -0.18369317,\n",
       "         -0.14836976,  0.19722527, -0.02619427,  0.26450628,  0.04626316,\n",
       "          0.25554508,  0.04186219, -0.2668025 , -0.19375443,  0.2981137 ,\n",
       "          0.10884342,  0.04409122, -0.06983058, -0.2481953 ,  0.13407737,\n",
       "         -0.27085033,  0.09891337,  0.25362885, -0.07617722, -0.15172273,\n",
       "          0.10821763,  0.28246218, -0.2009987 , -0.12400818, -0.01325008,\n",
       "         -0.2215364 ,  0.14496857,  0.04296535,  0.15881339,  0.017643  ,\n",
       "          0.08432803,  0.20759916, -0.13261154, -0.03330725,  0.24907804,\n",
       "         -0.29582143, -0.09677857,  0.27787906,  0.18697599,  0.19189298,\n",
       "         -0.28704426,  0.04075202,  0.10972071,  0.28776485],\n",
       "        [-0.16449592,  0.23859197, -0.17481455, -0.07077701,  0.27474594,\n",
       "         -0.02868202,  0.14255744,  0.05654818, -0.02644184, -0.20322281,\n",
       "         -0.27950913,  0.11221617, -0.01507398, -0.29701036,  0.10297075,\n",
       "          0.1450178 , -0.14637111,  0.24041486, -0.16630065, -0.16868374,\n",
       "          0.08453435, -0.2483517 ,  0.06827942,  0.25403857,  0.05940351,\n",
       "          0.2944792 ,  0.18117231, -0.29852584, -0.28932995, -0.06661168,\n",
       "          0.11411101, -0.241043  ,  0.20048964, -0.00984931,  0.16709468,\n",
       "         -0.05487666,  0.03867781, -0.09775817, -0.2935067 , -0.08154033,\n",
       "          0.29234523, -0.15066223,  0.14210695,  0.07446516, -0.29303458,\n",
       "          0.01071566,  0.08761472,  0.24511981,  0.2622577 , -0.02451932,\n",
       "         -0.2241747 , -0.22534001, -0.07268597,  0.01449978,  0.05654228,\n",
       "         -0.28938338, -0.19359162, -0.02176219,  0.06591055,  0.13896632,\n",
       "         -0.25072557, -0.11104792, -0.19008389,  0.25642514]],\n",
       "       dtype=float32)>,\n",
       " <tf.Variable 'dense_2/bias:0' shape=(64,) dtype=float32, numpy=\n",
       " array([0., 0., 0., 0., 0., 0., 0., 0., 0., 0., 0., 0., 0., 0., 0., 0., 0.,\n",
       "        0., 0., 0., 0., 0., 0., 0., 0., 0., 0., 0., 0., 0., 0., 0., 0., 0.,\n",
       "        0., 0., 0., 0., 0., 0., 0., 0., 0., 0., 0., 0., 0., 0., 0., 0., 0.,\n",
       "        0., 0., 0., 0., 0., 0., 0., 0., 0., 0., 0., 0., 0.], dtype=float32)>,\n",
       " <tf.Variable 'dense_3/kernel:0' shape=(64, 10) dtype=float32, numpy=\n",
       " array([[-1.42305195e-01, -1.21317297e-01,  3.76695395e-02,\n",
       "         -4.28257138e-02,  1.48079097e-02,  2.63788402e-02,\n",
       "         -1.04996562e-01,  2.43803352e-01,  1.63887620e-01,\n",
       "          2.09668249e-01],\n",
       "        [-2.08024383e-02,  5.22244871e-02, -1.66894004e-01,\n",
       "          1.57123685e-01, -1.59325466e-01,  1.62869543e-01,\n",
       "         -2.37196460e-01,  2.84367502e-02,  3.95677090e-02,\n",
       "          2.79321373e-02],\n",
       "        [ 1.03261977e-01,  2.58185059e-01,  9.29376781e-02,\n",
       "          2.19821721e-01, -2.26315334e-01, -1.22483760e-01,\n",
       "          2.63059765e-01, -1.82343319e-01, -8.24110806e-02,\n",
       "         -8.94948989e-02],\n",
       "        [-2.51739323e-01,  5.45215011e-02, -5.01593649e-02,\n",
       "          1.96960390e-01,  4.76805866e-02, -5.23813665e-02,\n",
       "         -2.71002293e-01, -8.05350393e-02, -2.35632643e-01,\n",
       "          1.34554833e-01],\n",
       "        [-2.69986063e-01, -1.61247343e-01, -2.49682069e-01,\n",
       "         -1.65673167e-01,  2.23473161e-01, -2.35757142e-01,\n",
       "         -1.17577687e-01,  1.14371091e-01, -1.98102534e-01,\n",
       "         -2.95234621e-02],\n",
       "        [ 2.03483641e-01,  2.53652006e-01, -3.40819955e-02,\n",
       "         -1.15873873e-01,  2.07006127e-01, -2.76501179e-02,\n",
       "         -1.26283437e-01, -1.94069862e-01, -1.54497400e-01,\n",
       "          1.86544359e-01],\n",
       "        [ 4.13356125e-02,  2.56921083e-01, -2.47560740e-02,\n",
       "         -1.98123783e-01, -8.42614621e-02,  2.68003643e-02,\n",
       "          4.74654436e-02,  1.55021012e-01,  1.86998069e-01,\n",
       "          5.70504367e-02],\n",
       "        [ 2.75138170e-01,  1.89294875e-01,  1.38012856e-01,\n",
       "         -1.00184038e-01, -9.45736170e-02, -1.02210045e-01,\n",
       "          9.32977200e-02,  5.22650778e-02, -2.46536642e-01,\n",
       "          6.79141879e-02],\n",
       "        [ 1.98005408e-01,  9.39461589e-03, -1.86065063e-01,\n",
       "          5.66378832e-02,  1.19251221e-01,  4.17836905e-02,\n",
       "         -2.31422842e-01,  1.43151492e-01,  9.05546546e-03,\n",
       "         -1.50347263e-01],\n",
       "        [ 2.47839183e-01, -2.33865410e-01, -1.57421172e-01,\n",
       "          6.03229702e-02,  1.69537753e-01, -2.39132658e-01,\n",
       "         -5.89573085e-02,  1.98259562e-01, -1.91286549e-01,\n",
       "          1.05125666e-01],\n",
       "        [-3.93735617e-02, -7.06725270e-02, -2.47024417e-01,\n",
       "          1.17443144e-01, -7.03087747e-02, -1.49861589e-01,\n",
       "          1.50661319e-01, -1.38702661e-01, -2.52840012e-01,\n",
       "          1.68630213e-01],\n",
       "        [ 7.18224943e-02, -1.32324144e-01,  6.13844693e-02,\n",
       "          1.54718757e-03,  1.72106594e-01,  1.26090288e-01,\n",
       "          7.59129524e-02, -2.18364775e-01,  9.62437391e-02,\n",
       "          2.77033657e-01],\n",
       "        [ 2.69253820e-01,  1.04415625e-01,  1.40121579e-02,\n",
       "          3.46108675e-02, -5.58974147e-02,  2.68568486e-01,\n",
       "         -1.22431964e-01,  1.24880254e-01, -8.57216120e-03,\n",
       "         -6.95708841e-02],\n",
       "        [ 1.68928921e-01,  2.67531186e-01, -2.56205678e-01,\n",
       "          2.48425096e-01,  2.07193166e-01, -1.25744402e-01,\n",
       "         -2.77864456e-01, -2.64307857e-02, -1.31561756e-01,\n",
       "          1.83165461e-01],\n",
       "        [ 2.47532874e-01,  1.24581069e-01, -1.29713133e-01,\n",
       "          2.53162116e-01, -9.63016599e-02, -1.69865847e-01,\n",
       "          1.56513005e-01,  2.65414506e-01,  2.75177687e-01,\n",
       "          2.57516831e-01],\n",
       "        [ 2.45740116e-02,  1.40156180e-01, -2.31143683e-01,\n",
       "          8.93154740e-03,  4.02907431e-02, -1.85656786e-01,\n",
       "          6.08217418e-02,  2.64450312e-02, -2.31500641e-01,\n",
       "          2.51671880e-01],\n",
       "        [-1.93515122e-02, -1.34454370e-01, -1.57679692e-01,\n",
       "         -1.32607237e-01, -1.17106736e-01, -1.87011242e-01,\n",
       "         -8.79941434e-02, -2.02560812e-01,  1.43318236e-01,\n",
       "          8.18885267e-02],\n",
       "        [ 8.20392370e-03, -1.39725208e-01, -2.94701159e-02,\n",
       "         -7.91068524e-02,  1.75196528e-02,  1.84935331e-03,\n",
       "         -1.60710663e-01, -2.27432996e-01,  4.32712138e-02,\n",
       "         -1.33779556e-01],\n",
       "        [ 9.25434530e-02,  2.52615660e-01,  2.67387003e-01,\n",
       "         -2.32474849e-01,  2.21394628e-01,  1.44862026e-01,\n",
       "          1.59295261e-01,  1.28897369e-01, -2.90108323e-02,\n",
       "         -2.43853390e-01],\n",
       "        [-9.16585326e-03,  2.79217631e-01,  7.54389167e-03,\n",
       "          2.50936538e-01,  1.76869899e-01, -1.43950969e-01,\n",
       "          2.10786670e-01, -2.43796408e-02,  1.63542449e-01,\n",
       "         -2.11890042e-02],\n",
       "        [-2.23198146e-01, -1.31474376e-01, -1.10914305e-01,\n",
       "         -6.01239800e-02,  3.51495743e-02, -1.20193660e-02,\n",
       "          1.30385846e-01,  3.23942900e-02,  1.97313607e-01,\n",
       "          1.30810291e-01],\n",
       "        [ 1.63371861e-01,  5.04441559e-02,  1.56866103e-01,\n",
       "         -2.29265392e-02, -1.47322401e-01,  1.97994858e-01,\n",
       "          2.59923369e-01,  1.36228919e-01, -6.47347420e-02,\n",
       "         -7.73155689e-03],\n",
       "        [-4.19756770e-02, -1.14159197e-01,  2.02277184e-01,\n",
       "          2.83711702e-01,  1.20206833e-01,  1.38881952e-01,\n",
       "          1.37846589e-01, -1.54661283e-01,  4.59975004e-03,\n",
       "         -1.73014402e-01],\n",
       "        [-1.87733710e-01,  1.71744347e-01, -2.50362337e-01,\n",
       "          1.65726036e-01, -1.28684744e-01,  1.83027178e-01,\n",
       "          2.61778682e-01,  1.99750215e-01, -1.68646768e-01,\n",
       "          2.46101648e-01],\n",
       "        [ 1.76924139e-01,  2.13527411e-01,  5.32671809e-02,\n",
       "         -1.25293419e-01, -4.71679717e-02, -3.76899093e-02,\n",
       "          1.16591871e-01, -6.13138825e-02,  1.27106875e-01,\n",
       "         -2.08234787e-03],\n",
       "        [ 6.61665797e-02, -1.66539893e-01, -8.53318721e-02,\n",
       "         -2.62607604e-01,  2.30905026e-01,  2.72366196e-01,\n",
       "          1.92336053e-01, -7.17532486e-02,  2.72499323e-02,\n",
       "          3.73210609e-02],\n",
       "        [ 2.26846367e-01, -2.20794261e-01, -2.39888132e-02,\n",
       "          1.87427729e-01, -2.47786552e-01,  2.83433765e-01,\n",
       "         -1.48880661e-01, -3.82502675e-02, -7.95563459e-02,\n",
       "         -7.62753338e-02],\n",
       "        [-2.19757736e-01,  2.19396442e-01, -8.65345299e-02,\n",
       "          1.44854307e-01, -1.67176425e-01, -2.27387786e-01,\n",
       "          2.01031744e-01, -1.53794736e-01, -1.87365472e-01,\n",
       "          4.29583788e-02],\n",
       "        [ 9.63227749e-02,  9.13162827e-02,  2.46391922e-01,\n",
       "         -9.59942639e-02, -1.31892160e-01, -2.28105038e-01,\n",
       "          2.08910018e-01, -1.02460429e-01, -1.06921822e-01,\n",
       "          2.30211914e-02],\n",
       "        [-8.62833411e-02, -2.40413383e-01,  1.50259018e-01,\n",
       "          1.98111713e-01, -2.36457586e-03, -2.30285347e-01,\n",
       "          4.43826020e-02,  7.14355707e-03,  1.45101219e-01,\n",
       "          2.61687338e-02],\n",
       "        [ 1.78413004e-01,  4.04147804e-02,  8.30942392e-02,\n",
       "         -2.48782679e-01,  1.80764139e-01,  2.14507312e-01,\n",
       "          8.74599814e-03, -1.51240557e-01, -1.73776120e-01,\n",
       "         -2.23141253e-01],\n",
       "        [-1.11144453e-01,  1.48802102e-01, -1.64850816e-01,\n",
       "         -2.46067345e-02,  1.48999602e-01,  1.62938714e-01,\n",
       "          1.38213992e-01, -1.08070433e-01, -2.18131989e-01,\n",
       "         -1.38197973e-01],\n",
       "        [ 2.80427724e-01,  1.62448436e-01,  2.63749093e-01,\n",
       "          2.57626146e-01, -8.48296285e-02, -2.20690459e-01,\n",
       "          1.36228859e-01,  8.99418890e-02,  2.34277815e-01,\n",
       "         -2.01288462e-02],\n",
       "        [ 1.60310000e-01, -6.61196113e-02, -2.57687420e-01,\n",
       "         -2.78153807e-01, -6.54602647e-02,  2.65036494e-01,\n",
       "         -1.32829443e-01,  1.15174353e-02,  8.83914232e-02,\n",
       "         -2.31094927e-01],\n",
       "        [ 4.91577983e-02,  2.74377793e-01,  2.67119437e-01,\n",
       "          1.98993117e-01,  7.87259340e-02, -6.34746552e-02,\n",
       "          5.05438745e-02,  2.31942683e-01,  2.48754293e-01,\n",
       "          9.55493152e-02],\n",
       "        [ 1.30725235e-01,  2.26860076e-01,  9.65454578e-02,\n",
       "          4.38790023e-02, -2.24541128e-01, -2.59949684e-01,\n",
       "          2.47781783e-01, -2.51655281e-01,  5.24522364e-02,\n",
       "          1.69742912e-01],\n",
       "        [ 2.60072947e-02,  1.73397720e-01, -2.25105897e-01,\n",
       "          7.47176111e-02, -2.81390876e-01, -4.46301699e-03,\n",
       "         -4.26027626e-02, -1.91109687e-01,  2.80051976e-01,\n",
       "          2.50419527e-01],\n",
       "        [-2.35608876e-01,  1.86294854e-01,  5.87944984e-02,\n",
       "          2.22212642e-01, -1.94970757e-01, -9.10867006e-02,\n",
       "         -1.44264996e-02,  1.68517500e-01, -1.01716220e-01,\n",
       "         -2.62267083e-01],\n",
       "        [-1.35322809e-01,  1.80937618e-01, -1.93414539e-01,\n",
       "         -2.48471200e-01, -1.85281828e-01,  1.60692334e-01,\n",
       "          9.60047841e-02, -2.02358916e-01,  1.81766748e-01,\n",
       "          3.22067142e-02],\n",
       "        [ 1.86764449e-01, -7.97223300e-02,  1.69594020e-01,\n",
       "          1.02500141e-01,  4.36463654e-02, -2.71879435e-01,\n",
       "         -1.68442011e-01, -5.13675213e-02,  2.28836149e-01,\n",
       "         -1.30327120e-01],\n",
       "        [ 9.52893794e-02, -4.13817167e-02,  3.45714986e-02,\n",
       "         -2.11956665e-01, -5.00370264e-02, -2.33128369e-02,\n",
       "          1.85823232e-01,  1.27418965e-01,  2.83993691e-01,\n",
       "          2.69199580e-01],\n",
       "        [ 2.28702039e-01, -2.70759463e-01, -1.92780524e-01,\n",
       "         -2.40557656e-01,  1.63352370e-01, -1.20750353e-01,\n",
       "         -1.75221354e-01, -1.29485980e-01, -9.15300101e-02,\n",
       "         -7.88904876e-02],\n",
       "        [-2.20424950e-01, -1.06670558e-01,  6.87000751e-02,\n",
       "         -9.63109583e-02, -1.40440077e-01, -9.74372029e-03,\n",
       "          1.09478712e-01,  9.50033665e-02,  2.16075182e-02,\n",
       "         -2.72066742e-01],\n",
       "        [ 8.93852711e-02, -2.04978690e-01,  8.94167721e-02,\n",
       "          2.52232105e-01,  2.49371439e-01,  8.48431289e-02,\n",
       "         -2.58073717e-01, -1.13428235e-01, -2.41397977e-01,\n",
       "         -2.07173735e-01],\n",
       "        [-1.26988336e-01, -2.04492271e-01, -2.84170002e-01,\n",
       "         -1.63161740e-01, -1.73211157e-01,  2.61463493e-01,\n",
       "         -2.00021148e-01,  1.09622598e-01, -2.34903842e-01,\n",
       "          2.03720689e-01],\n",
       "        [-4.78168577e-02, -7.46393204e-03, -2.52652019e-01,\n",
       "         -9.08261538e-03,  1.32334799e-01, -2.08623379e-01,\n",
       "         -1.03159890e-01, -1.53890133e-01,  5.84746897e-02,\n",
       "          5.88122010e-03],\n",
       "        [-1.84752837e-01,  1.71321243e-01,  2.54232794e-01,\n",
       "         -1.86161399e-02, -1.87707156e-01,  2.35230923e-02,\n",
       "         -4.49448079e-02,  7.40968585e-02,  1.34398550e-01,\n",
       "          2.83147722e-01],\n",
       "        [ 1.96752369e-01, -1.78892314e-02,  2.17833847e-01,\n",
       "          2.72828668e-01,  2.15095460e-01, -9.68098044e-02,\n",
       "          1.03864640e-01, -1.43393993e-01, -2.71231771e-01,\n",
       "         -1.23545066e-01],\n",
       "        [-2.25828707e-01, -2.07309455e-01, -2.46137530e-01,\n",
       "          2.18001574e-01,  2.11696386e-01,  7.65669346e-02,\n",
       "         -2.81644315e-01, -1.10307455e-01, -6.78640157e-02,\n",
       "         -1.88989311e-01],\n",
       "        [-1.58857092e-01,  1.39545918e-01,  7.29683936e-02,\n",
       "          6.68742061e-02, -1.38163567e-04,  2.79351503e-01,\n",
       "         -2.06835926e-01,  2.53492147e-01, -2.18025148e-02,\n",
       "          2.79690772e-01],\n",
       "        [-2.10428149e-01, -4.55348939e-02,  1.85872883e-01,\n",
       "         -1.62092745e-02, -1.32921934e-02,  1.76006198e-01,\n",
       "          2.34689116e-02,  1.87666565e-01,  2.07565248e-01,\n",
       "          1.81826144e-01],\n",
       "        [-1.61142170e-01,  2.39772707e-01,  1.16957039e-01,\n",
       "          2.24845260e-01,  1.91435218e-01, -2.41402537e-01,\n",
       "          2.32425004e-01,  1.82564437e-01,  6.27003014e-02,\n",
       "         -1.32958561e-01],\n",
       "        [-2.27412969e-01,  3.56473923e-02, -1.35660276e-01,\n",
       "         -1.72879100e-01, -5.31571358e-02, -1.76858217e-01,\n",
       "         -1.93595856e-01,  7.34122396e-02,  7.43204653e-02,\n",
       "         -2.97504961e-02],\n",
       "        [ 1.88445121e-01,  7.71399140e-02, -2.50672102e-01,\n",
       "          1.78991169e-01, -1.84104428e-01, -2.34250963e-01,\n",
       "         -7.56665766e-02, -1.63456440e-01,  2.16506153e-01,\n",
       "         -6.58182502e-02],\n",
       "        [ 4.29818034e-03,  1.54278189e-01,  1.17813200e-01,\n",
       "         -1.01258859e-01,  1.68602467e-02, -2.04588115e-01,\n",
       "          2.74666220e-01, -6.81513846e-02, -2.68962771e-01,\n",
       "          8.61930549e-02],\n",
       "        [ 1.13400757e-01, -5.05006462e-02, -1.24478206e-01,\n",
       "          2.69400448e-01, -2.23328620e-01, -2.52987325e-01,\n",
       "         -1.49210051e-01, -2.44924277e-01,  3.39303315e-02,\n",
       "         -5.28553724e-02],\n",
       "        [-1.19133100e-01, -2.10552111e-01,  2.00293452e-01,\n",
       "         -5.21990210e-02,  8.71204734e-02,  2.23953635e-01,\n",
       "          2.03459680e-01,  1.40306264e-01,  2.83408493e-01,\n",
       "         -1.16617948e-01],\n",
       "        [-2.17308015e-01, -2.68939972e-01, -1.36119008e-01,\n",
       "          1.32198751e-01, -2.33322784e-01, -1.59863278e-01,\n",
       "         -2.16604620e-01,  1.86507702e-01, -2.00959176e-01,\n",
       "         -1.71119004e-01],\n",
       "        [ 8.89489055e-03, -2.97650099e-02,  5.62683642e-02,\n",
       "          2.49737173e-01, -4.80965525e-02, -1.12601891e-01,\n",
       "          1.20316535e-01, -1.23530611e-01,  6.41213059e-02,\n",
       "          1.98119789e-01],\n",
       "        [ 6.66055679e-02,  1.74789369e-01,  1.76348239e-01,\n",
       "          1.80538476e-01,  1.14006370e-01, -2.42319033e-01,\n",
       "          2.56283194e-01, -2.18945980e-01, -1.08603835e-01,\n",
       "         -1.10418454e-01],\n",
       "        [-7.66442418e-02, -1.66515186e-01, -6.44842237e-02,\n",
       "          8.93284380e-02,  1.39349699e-03, -1.09440103e-01,\n",
       "          1.71115279e-01,  5.84523380e-02, -7.64751434e-03,\n",
       "         -8.53425264e-03],\n",
       "        [-1.77061141e-01, -1.81593746e-01, -1.48602113e-01,\n",
       "         -1.96553171e-02,  1.77755505e-01, -2.50200748e-01,\n",
       "          1.48334026e-01,  5.49686253e-02,  1.27162337e-02,\n",
       "         -1.11523539e-01],\n",
       "        [ 2.21903592e-01,  2.61356324e-01,  1.48883641e-01,\n",
       "         -1.89285383e-01,  3.44862938e-02,  5.11056781e-02,\n",
       "          9.96473730e-02, -1.31863996e-01,  1.20214164e-01,\n",
       "         -1.05763078e-02],\n",
       "        [ 7.46132135e-02,  4.23148572e-02,  1.67690963e-01,\n",
       "          6.03550076e-02,  1.56116486e-02, -9.29489583e-02,\n",
       "         -1.49476245e-01,  2.42524058e-01, -2.04830021e-01,\n",
       "         -1.68032348e-02]], dtype=float32)>,\n",
       " <tf.Variable 'dense_3/bias:0' shape=(10,) dtype=float32, numpy=array([0., 0., 0., 0., 0., 0., 0., 0., 0., 0.], dtype=float32)>]"
      ]
     },
     "execution_count": 6,
     "metadata": {},
     "output_type": "execute_result"
    }
   ],
   "source": [
    "model.build(input_shape=(None, 3)) # you must specify the input shape!\n",
    "model.weights                      # (this also happens automatically if you run data through the model!)"
   ]
  },
  {
   "cell_type": "markdown",
   "metadata": {
    "slideshow": {
     "slide_type": "subslide"
    }
   },
   "source": [
    "**Naming models and layers with the `name` argument**\n",
    "\n",
    "The default behaviour will give automatic names to layers."
   ]
  },
  {
   "cell_type": "code",
   "execution_count": 7,
   "metadata": {
    "slideshow": {
     "slide_type": "fragment"
    }
   },
   "outputs": [
    {
     "name": "stdout",
     "output_type": "stream",
     "text": [
      "Model: \"sequential_1\"\n",
      "_________________________________________________________________\n",
      " Layer (type)                Output Shape              Param #   \n",
      "=================================================================\n",
      " dense_2 (Dense)             (None, 64)                256       \n",
      "                                                                 \n",
      " dense_3 (Dense)             (None, 10)                650       \n",
      "                                                                 \n",
      "=================================================================\n",
      "Total params: 906\n",
      "Trainable params: 906\n",
      "Non-trainable params: 0\n",
      "_________________________________________________________________\n"
     ]
    }
   ],
   "source": [
    "model.summary() # note the default names under Layer"
   ]
  },
  {
   "cell_type": "markdown",
   "metadata": {
    "slideshow": {
     "slide_type": "subslide"
    }
   },
   "source": [
    "However, we can name our layers ourselves."
   ]
  },
  {
   "cell_type": "code",
   "execution_count": 8,
   "metadata": {
    "slideshow": {
     "slide_type": "fragment"
    }
   },
   "outputs": [
    {
     "name": "stdout",
     "output_type": "stream",
     "text": [
      "Model: \"my_example_model\"\n",
      "_________________________________________________________________\n",
      " Layer (type)                Output Shape              Param #   \n",
      "=================================================================\n",
      " my_first_layer (Dense)      (None, 64)                256       \n",
      "                                                                 \n",
      " my_last_layer (Dense)       (None, 10)                650       \n",
      "                                                                 \n",
      "=================================================================\n",
      "Total params: 906\n",
      "Trainable params: 906\n",
      "Non-trainable params: 0\n",
      "_________________________________________________________________\n"
     ]
    }
   ],
   "source": [
    "model = tf.keras.Sequential(name=\"my_example_model\")\n",
    "model.add(tf.keras.layers.Dense(64, activation=\"relu\", name=\"my_first_layer\"))\n",
    "model.add(tf.keras.layers.Dense(10, activation=\"softmax\", name=\"my_last_layer\"))\n",
    "model.build((None, 3))\n",
    "model.summary() # now summary reflects our name choices"
   ]
  },
  {
   "cell_type": "markdown",
   "metadata": {
    "slideshow": {
     "slide_type": "subslide"
    }
   },
   "source": [
    "**Specifying the input shape of your model in advance**\n",
    "\n",
    "That allows us to call `build()` without argument."
   ]
  },
  {
   "cell_type": "code",
   "execution_count": 9,
   "metadata": {
    "slideshow": {
     "slide_type": "fragment"
    }
   },
   "outputs": [],
   "source": [
    "model = tf.keras.Sequential()\n",
    "model.add(tf.keras.Input(shape=(3,)))                   # our input shape is specified (not including batch size)\n",
    "model.add(tf.keras.layers.Dense(64, activation=\"relu\"))\n",
    "model.build()                                           # no error, the input shape was defined"
   ]
  },
  {
   "cell_type": "markdown",
   "metadata": {
    "slideshow": {
     "slide_type": "subslide"
    }
   },
   "source": [
    "**Summary can be called while you are building your model**\n",
    "\n",
    "That allows you to track your progress."
   ]
  },
  {
   "cell_type": "code",
   "execution_count": 10,
   "metadata": {
    "scrolled": true,
    "slideshow": {
     "slide_type": "fragment"
    }
   },
   "outputs": [
    {
     "name": "stdout",
     "output_type": "stream",
     "text": [
      "Model: \"sequential_2\"\n",
      "_________________________________________________________________\n",
      " Layer (type)                Output Shape              Param #   \n",
      "=================================================================\n",
      " dense_4 (Dense)             (None, 64)                256       \n",
      "                                                                 \n",
      "=================================================================\n",
      "Total params: 256\n",
      "Trainable params: 256\n",
      "Non-trainable params: 0\n",
      "_________________________________________________________________\n"
     ]
    }
   ],
   "source": [
    "model.summary()"
   ]
  },
  {
   "cell_type": "code",
   "execution_count": 11,
   "metadata": {
    "slideshow": {
     "slide_type": "fragment"
    }
   },
   "outputs": [
    {
     "name": "stdout",
     "output_type": "stream",
     "text": [
      "Model: \"sequential_2\"\n",
      "_________________________________________________________________\n",
      " Layer (type)                Output Shape              Param #   \n",
      "=================================================================\n",
      " dense_4 (Dense)             (None, 64)                256       \n",
      "                                                                 \n",
      " dense_5 (Dense)             (None, 10)                650       \n",
      "                                                                 \n",
      "=================================================================\n",
      "Total params: 906\n",
      "Trainable params: 906\n",
      "Non-trainable params: 0\n",
      "_________________________________________________________________\n"
     ]
    }
   ],
   "source": [
    "model.add(tf.keras.layers.Dense(10, activation=\"softmax\"))\n",
    "model.summary()"
   ]
  },
  {
   "cell_type": "markdown",
   "metadata": {
    "slideshow": {
     "slide_type": "slide"
    }
   },
   "source": [
    "---\n",
    "\n",
    "### 7.2.2 The Functional API\n",
    "\n",
    "This is the more involved, and more flexible way to define models in `Keras`. The [official tutorial](https://www.tensorflow.org/guide/keras/functional).\n",
    "\n",
    "**A simple Functional model with two `Dense` layers**"
   ]
  },
  {
   "cell_type": "code",
   "execution_count": 12,
   "metadata": {
    "slideshow": {
     "slide_type": "fragment"
    }
   },
   "outputs": [],
   "source": [
    "inputs = tf.keras.Input(shape=(3,), name=\"my_input\")\n",
    "features = tf.keras.layers.Dense(64, activation=\"relu\")(inputs)\n",
    "outputs = tf.keras.layers.Dense(10, activation=\"softmax\")(features)\n",
    "model = tf.keras.Model(inputs=inputs, outputs=outputs)"
   ]
  },
  {
   "cell_type": "markdown",
   "metadata": {
    "slideshow": {
     "slide_type": "subslide"
    }
   },
   "source": [
    "Building the model step-by-step:"
   ]
  },
  {
   "cell_type": "code",
   "execution_count": 13,
   "metadata": {
    "slideshow": {
     "slide_type": "fragment"
    }
   },
   "outputs": [],
   "source": [
    "inputs = tf.keras.Input(shape=(3,), name=\"my_input\") # this is a *symbolic tensor*, without data in it yet"
   ]
  },
  {
   "cell_type": "code",
   "execution_count": 14,
   "metadata": {
    "slideshow": {
     "slide_type": "fragment"
    }
   },
   "outputs": [
    {
     "data": {
      "text/plain": [
       "TensorShape([None, 3])"
      ]
     },
     "execution_count": 14,
     "metadata": {},
     "output_type": "execute_result"
    }
   ],
   "source": [
    "inputs.shape # will include the batch size as 'None'"
   ]
  },
  {
   "cell_type": "code",
   "execution_count": 15,
   "metadata": {
    "scrolled": true,
    "slideshow": {
     "slide_type": "fragment"
    }
   },
   "outputs": [
    {
     "data": {
      "text/plain": [
       "tf.float32"
      ]
     },
     "execution_count": 15,
     "metadata": {},
     "output_type": "execute_result"
    }
   ],
   "source": [
    "inputs.dtype # the default dtype"
   ]
  },
  {
   "cell_type": "code",
   "execution_count": 16,
   "metadata": {
    "slideshow": {
     "slide_type": "fragment"
    }
   },
   "outputs": [],
   "source": [
    "features = tf.keras.layers.Dense(64, activation=\"relu\")(inputs)"
   ]
  },
  {
   "cell_type": "code",
   "execution_count": 17,
   "metadata": {
    "scrolled": true,
    "slideshow": {
     "slide_type": "fragment"
    }
   },
   "outputs": [
    {
     "data": {
      "text/plain": [
       "TensorShape([None, 64])"
      ]
     },
     "execution_count": 17,
     "metadata": {},
     "output_type": "execute_result"
    }
   ],
   "source": [
    "features.shape # we can check the shape dynamically"
   ]
  },
  {
   "cell_type": "code",
   "execution_count": 18,
   "metadata": {
    "slideshow": {
     "slide_type": "fragment"
    }
   },
   "outputs": [],
   "source": [
    "outputs = tf.keras.layers.Dense(10, activation=\"softmax\")(features)\n",
    "model = tf.keras.Model(inputs=inputs, outputs=outputs) # ← specify inputs & outputs"
   ]
  },
  {
   "cell_type": "markdown",
   "metadata": {
    "slideshow": {
     "slide_type": "subslide"
    }
   },
   "source": [
    "Result:"
   ]
  },
  {
   "cell_type": "code",
   "execution_count": 19,
   "metadata": {
    "slideshow": {
     "slide_type": "fragment"
    }
   },
   "outputs": [
    {
     "name": "stdout",
     "output_type": "stream",
     "text": [
      "Model: \"model_1\"\n",
      "_________________________________________________________________\n",
      " Layer (type)                Output Shape              Param #   \n",
      "=================================================================\n",
      " my_input (InputLayer)       [(None, 3)]               0         \n",
      "                                                                 \n",
      " dense_8 (Dense)             (None, 64)                256       \n",
      "                                                                 \n",
      " dense_9 (Dense)             (None, 10)                650       \n",
      "                                                                 \n",
      "=================================================================\n",
      "Total params: 906\n",
      "Trainable params: 906\n",
      "Non-trainable params: 0\n",
      "_________________________________________________________________\n"
     ]
    }
   ],
   "source": [
    "model.summary()"
   ]
  },
  {
   "cell_type": "markdown",
   "metadata": {
    "slideshow": {
     "slide_type": "slide"
    }
   },
   "source": [
    "### An example of a multi-input, multi-output model\n",
    "\n",
    "The example involves ranking tickets by priority.\n",
    "\n",
    "Inputs:\n",
    "- The **title** of the ticket (text input)\n",
    "- The **text body** of the ticket (text input)\n",
    "- Any **tags** added by the user (categorical input, assumed here to be one-hot)\n",
    "\n",
    "Outputs:\n",
    "- The **priority** score of the ticket, a scalar between 0 and 1 (sigmoid output);\n",
    "- The **department** that should handle the ticket (a softmax over the set of departments)\n",
    "\n",
    "\n",
    "Note the use of the [`Concatenate`](https://www.tensorflow.org/api_docs/python/tf/keras/layers/Concatenate) layer!"
   ]
  },
  {
   "cell_type": "code",
   "execution_count": 20,
   "metadata": {
    "slideshow": {
     "slide_type": "subslide"
    }
   },
   "outputs": [],
   "source": [
    "vocabulary_size = 10000\n",
    "num_tags = 100\n",
    "num_departments = 4\n",
    "                                               # ↓ NAMES (useful later)\n",
    "title = tf.keras.Input(shape=(vocabulary_size,), name=\"title\")          # 1. THREE INPUTS\n",
    "text_body = tf.keras.Input(shape=(vocabulary_size,), name=\"text_body\")\n",
    "tags = tf.keras.Input(shape=(num_tags,), name=\"tags\")\n",
    "\n",
    "features = tf.keras.layers.Concatenate()([title, text_body, tags])      # 2. GRAPH: - concatenate\n",
    "features = tf.keras.layers.Dense(64, activation=\"relu\")(features)       #           - dense\n",
    "\n",
    "priority = tf.keras.layers.Dense(                                       #           - OUTPUT 1: processing `features`\n",
    "    1, activation=\"sigmoid\", name=\"priority\"\n",
    ")(features)\n",
    "\n",
    "department = tf.keras.layers.Dense(                                     #           - OUTPUT 2: also processing `features`\n",
    "    num_departments, activation=\"softmax\", name=\"department\"\n",
    ")(features)\n",
    "\n",
    "model = tf.keras.Model(                                                 # 3. MODEL DEFINITION\n",
    "    inputs=[title, text_body, tags],                                    #            - inputs \n",
    "    outputs=[priority, department]                                      #            - outputs\n",
    ")"
   ]
  },
  {
   "cell_type": "markdown",
   "metadata": {
    "slideshow": {
     "slide_type": "subslide"
    }
   },
   "source": [
    "#### Training a multi-input, multi-output model\n",
    "\n",
    "We provide lists:\n",
    " - of losses;\n",
    " - of metrics;\n",
    " - of inputs & targets.\n",
    " \n",
    "**All in the same order/format as in the model definition**."
   ]
  },
  {
   "cell_type": "code",
   "execution_count": 21,
   "metadata": {
    "slideshow": {
     "slide_type": "subslide"
    }
   },
   "outputs": [
    {
     "name": "stdout",
     "output_type": "stream",
     "text": [
      "40/40 [==============================] - 3s 8ms/step - loss: 25.2428 - priority_loss: 0.3096 - department_loss: 24.9332 - priority_mean_absolute_error: 0.4799 - department_accuracy: 0.2500\n"
     ]
    },
    {
     "data": {
      "text/plain": [
       "<keras.callbacks.History at 0x7f4a1ca74310>"
      ]
     },
     "execution_count": 21,
     "metadata": {},
     "output_type": "execute_result"
    }
   ],
   "source": [
    "num_samples = 1280\n",
    "\n",
    "title_data = np.random.randint(0, 2, size=(num_samples, vocabulary_size))      # INPUTS \n",
    "text_body_data = np.random.randint(0, 2, size=(num_samples, vocabulary_size))\n",
    "tags_data = np.random.randint(0, 2, size=(num_samples, num_tags))\n",
    "\n",
    "priority_data = np.random.random(size=(num_samples, 1))                        # OUTPUTS\n",
    "department_data = np.random.randint(0, 2, size=(num_samples, num_departments))\n",
    "\n",
    "model.compile(\n",
    "    optimizer=\"rmsprop\",\n",
    "    loss=[\n",
    "        \"mean_squared_error\",       # loss for output 1\n",
    "        \"categorical_crossentropy\"  # loss for output 2\n",
    "    ],\n",
    "    metrics=[\n",
    "        [\"mean_absolute_error\"],    # metrics for output 1\n",
    "        [\"accuracy\"]                # metrics for output 2\n",
    "    ],\n",
    ")\n",
    "model.fit(\n",
    "    [title_data, text_body_data, tags_data], # input data and target data\n",
    "    [priority_data, department_data],        # as specified in model definition\n",
    "    epochs=1\n",
    ")"
   ]
  },
  {
   "cell_type": "code",
   "execution_count": 22,
   "metadata": {
    "slideshow": {
     "slide_type": "subslide"
    }
   },
   "outputs": [
    {
     "name": "stdout",
     "output_type": "stream",
     "text": [
      "evaluating:\n",
      "40/40 [==============================] - 1s 7ms/step - loss: 14.9438 - priority_loss: 0.3108 - department_loss: 14.6330 - priority_mean_absolute_error: 0.4818 - department_accuracy: 0.2562\n",
      "\n",
      "predicting:\n",
      "40/40 [==============================] - 0s 6ms/step\n"
     ]
    }
   ],
   "source": [
    "print(\"evaluating:\")\n",
    "model.evaluate(                                    # EVALUATE: the *same* as training, but without changing the net\n",
    "    [title_data, text_body_data, tags_data],       #           used to test the network e.g. on the test set\n",
    "    [priority_data, department_data]\n",
    ")\n",
    "print()\n",
    "print(\"predicting:\")\n",
    "priority_preds, department_preds = model.predict(  # PREDICT: just use the model as is (given some inputs, what\n",
    "    [title_data, text_body_data, tags_data]        #          are the model's predictions?)\n",
    ")"
   ]
  },
  {
   "cell_type": "markdown",
   "metadata": {
    "slideshow": {
     "slide_type": "subslide"
    }
   },
   "source": [
    "**Training a model by providing dicts of input & target arrays**\n",
    "\n",
    "The same as above. This is only possible because we **named** our layers!\n",
    "\n",
    "```python\n",
    "                                               # ↓ naming the layer\n",
    "title = tf.keras.Input(shape=(vocabulary_size,), name=\"title\")\n",
    "```"
   ]
  },
  {
   "cell_type": "code",
   "execution_count": 23,
   "metadata": {
    "slideshow": {
     "slide_type": "subslide"
    }
   },
   "outputs": [
    {
     "name": "stdout",
     "output_type": "stream",
     "text": [
      "40/40 [==============================] - 2s 8ms/step - loss: 29.9323 - priority_loss: 0.3108 - department_loss: 29.6215 - priority_mean_absolute_error: 0.4818 - department_accuracy: 0.2766\n"
     ]
    },
    {
     "data": {
      "text/plain": [
       "<keras.callbacks.History at 0x7f4a10249f40>"
      ]
     },
     "execution_count": 23,
     "metadata": {},
     "output_type": "execute_result"
    }
   ],
   "source": [
    "model.compile(\n",
    "    optimizer=\"rmsprop\",\n",
    "    loss={\n",
    "        \"priority\": \"mean_squared_error\",         # loss for output 1\n",
    "        \"department\": \"categorical_crossentropy\"  # loss for output 2\n",
    "    },\n",
    "    metrics={\n",
    "        \"priority\": [\"mean_absolute_error\"],      # metrics for output 1\n",
    "        \"department\": [\"accuracy\"]                # metrics for output 2\n",
    "    },\n",
    ")\n",
    "\n",
    "model.fit(\n",
    "    {                                             # input data\n",
    "        \"title\": title_data,\n",
    "        \"text_body\": text_body_data,\n",
    "        \"tags\": tags_data\n",
    "    },\n",
    "    {                                             # target data\n",
    "        \"priority\": priority_data,\n",
    "        \"department\": department_data\n",
    "    },\n",
    "    epochs=1,\n",
    ")"
   ]
  },
  {
   "cell_type": "code",
   "execution_count": 24,
   "metadata": {
    "slideshow": {
     "slide_type": "skip"
    }
   },
   "outputs": [
    {
     "name": "stdout",
     "output_type": "stream",
     "text": [
      "evaluatiing:\n",
      "40/40 [==============================] - 1s 7ms/step - loss: 34.0236 - priority_loss: 0.3108 - department_loss: 33.7127 - priority_mean_absolute_error: 0.4818 - department_accuracy: 0.0508\n",
      "\n",
      "predicting:\n",
      "40/40 [==============================] - 0s 5ms/step\n"
     ]
    }
   ],
   "source": [
    "print(\"evaluatiing:\")\n",
    "model.evaluate(\n",
    "    {                                             # input data\n",
    "        \"title\": title_data,\n",
    "        \"text_body\": text_body_data,\n",
    "        \"tags\": tags_data\n",
    "    },\n",
    "    {                                             # target data\n",
    "        \"priority\": priority_data,\n",
    "        \"department\": department_data\n",
    "    },\n",
    ")\n",
    "\n",
    "print()\n",
    "print(\"predicting:\")\n",
    "priority_preds, department_preds = model.predict(\n",
    "    {\n",
    "        \"title\": title_data,\n",
    "        \"text_body\": text_body_data,\n",
    "        \"tags\": tags_data\n",
    "    }\n",
    ")"
   ]
  },
  {
   "cell_type": "markdown",
   "metadata": {
    "slideshow": {
     "slide_type": "subslide"
    }
   },
   "source": [
    "#### Want one or more of your model's outputs to be ignored during training?\n",
    "\n",
    "Use `None` in the loss like so:\n",
    "\n",
    "```python\n",
    "model.compile(\n",
    "    optimizer=\"rmsprop\",\n",
    "    loss=[\"categorical_crossentropy\", None], # second output without loss\n",
    "    metrics=[\"accuracy\"]\n",
    ")\n",
    "```\n",
    "\n",
    "Useful if you want to be able to inspect the insides of your model. Other option: train your model, then use the functional syntax to build another model that outputs the inner layers you are interested in..."
   ]
  },
  {
   "cell_type": "markdown",
   "metadata": {
    "slideshow": {
     "slide_type": "subslide"
    }
   },
   "source": [
    "#### The power of the Functional API: Access to layer connectivity\n",
    "\n",
    "Thanks to it, we could create a more complex **graph** than the `Sequential` model.\n",
    "\n",
    "Using [`tf.keras.utils.plot_model`](https://www.tensorflow.org/api_docs/python/tf/keras/utils/plot_model) we can create a summary of the model.\n",
    "\n",
    "Default setup:"
   ]
  },
  {
   "cell_type": "code",
   "execution_count": 25,
   "metadata": {
    "slideshow": {
     "slide_type": "fragment"
    }
   },
   "outputs": [
    {
     "data": {
      "image/png": "[encoded data removed]",
      "text/plain": [
       "<IPython.core.display.Image object>"
      ]
     },
     "execution_count": 25,
     "metadata": {},
     "output_type": "execute_result"
    }
   ],
   "source": [
    "tf.keras.utils.plot_model(model, basedir / \"ticket_classifier.png\")"
   ]
  },
  {
   "cell_type": "markdown",
   "metadata": {
    "slideshow": {
     "slide_type": "subslide"
    }
   },
   "source": [
    "Displaying the shapes:"
   ]
  },
  {
   "cell_type": "code",
   "execution_count": 26,
   "metadata": {
    "slideshow": {
     "slide_type": "fragment"
    }
   },
   "outputs": [
    {
     "data": {
      "image/png": "[encoded data removed]",
      "text/plain": [
       "<IPython.core.display.Image object>"
      ]
     },
     "execution_count": 26,
     "metadata": {},
     "output_type": "execute_result"
    }
   ],
   "source": [
    "tf.keras.utils.plot_model(model, basedir / \"ticket_classifier_with_shape_info.png\", show_shapes=True)"
   ]
  },
  {
   "cell_type": "markdown",
   "metadata": {
    "slideshow": {
     "slide_type": "subslide"
    }
   },
   "source": [
    "**Retrieving the inputs or outputs of a layer in a Functional model**"
   ]
  },
  {
   "cell_type": "code",
   "execution_count": 27,
   "metadata": {
    "slideshow": {
     "slide_type": "fragment"
    }
   },
   "outputs": [
    {
     "data": {
      "text/plain": [
       "[<keras.engine.input_layer.InputLayer at 0x7f4a105ce070>,\n",
       " <keras.engine.input_layer.InputLayer at 0x7f4a105ce0d0>,\n",
       " <keras.engine.input_layer.InputLayer at 0x7f4a105d63a0>,\n",
       " <keras.layers.merging.concatenate.Concatenate at 0x7f4a105d6bb0>,\n",
       " <keras.layers.core.dense.Dense at 0x7f4a105d6e80>,\n",
       " <keras.layers.core.dense.Dense at 0x7f4a105d6130>,\n",
       " <keras.layers.core.dense.Dense at 0x7f4a1062c880>]"
      ]
     },
     "execution_count": 27,
     "metadata": {},
     "output_type": "execute_result"
    }
   ],
   "source": [
    "model.layers # concatenate is the 4th layer, last common dense layer is 5th"
   ]
  },
  {
   "cell_type": "code",
   "execution_count": 28,
   "metadata": {
    "slideshow": {
     "slide_type": "subslide"
    }
   },
   "outputs": [
    {
     "name": "stdout",
     "output_type": "stream",
     "text": [
      "Our concatenation layer\n",
      "=======================\n",
      "\n",
      "inputs:\n",
      "-------\n",
      "KerasTensor(type_spec=TensorSpec(shape=(None, 10000), dtype=tf.float32, name='title'), name='title', description=\"created by layer 'title'\")\n",
      "\n",
      "KerasTensor(type_spec=TensorSpec(shape=(None, 10000), dtype=tf.float32, name='text_body'), name='text_body', description=\"created by layer 'text_body'\")\n",
      "\n",
      "KerasTensor(type_spec=TensorSpec(shape=(None, 100), dtype=tf.float32, name='tags'), name='tags', description=\"created by layer 'tags'\")\n",
      "\n",
      "outputs:\n",
      "--------\n",
      "KerasTensor(type_spec=TensorSpec(shape=(None, 20100), dtype=tf.float32, name=None), name='concatenate/concat:0', description=\"created by layer 'concatenate'\")\n"
     ]
    }
   ],
   "source": [
    "msg = \"Our concatenation layer\"\n",
    "print(f\"{msg}\\n{'='*len(msg)}\")\n",
    "print()\n",
    "msg = \"inputs:\"\n",
    "print(f\"{msg}\\n{'-'*len(msg)}\")\n",
    "for i in model.layers[3].input:   # DISSECTING LAYER 4: inputs\n",
    "    print(i)\n",
    "    print()\n",
    "msg = \"outputs:\"\n",
    "print(f\"{msg}\\n{'-'*len(msg)}\")\n",
    "print(model.layers[3].output)     # DISSECTING LAYER 4: only one output"
   ]
  },
  {
   "cell_type": "markdown",
   "metadata": {
    "slideshow": {
     "slide_type": "subslide"
    }
   },
   "source": [
    "**Creating a new model by reusing intermediate layer outputs**\n",
    "\n",
    "#### Workflow \n",
    "\n",
    "1. Extract intermediate features;\n",
    "2. Add a new layer / create a new output;\n",
    "3. Define a new model specifying that new output."
   ]
  },
  {
   "cell_type": "code",
   "execution_count": 29,
   "metadata": {
    "slideshow": {
     "slide_type": "fragment"
    }
   },
   "outputs": [],
   "source": [
    "                                               # 1. Extract & reuse the features of our intermediate Dense\n",
    "features = model.layers[4].output              #    5th layer (after concatenate)\n",
    "\n",
    "                                               # 2. Create a new output\n",
    "difficulty = tf.keras.layers.Dense(3, activation=\"softmax\", name=\"difficulty\")(features)\n",
    "\n",
    "new_model = tf.keras.Model(\n",
    "    inputs=[title, text_body, tags],\n",
    "    outputs=[priority, department, difficulty] # same as before, with an additional output!\n",
    ")"
   ]
  },
  {
   "cell_type": "markdown",
   "metadata": {
    "slideshow": {
     "slide_type": "subslide"
    }
   },
   "source": [
    "Displaying the new topology:"
   ]
  },
  {
   "cell_type": "code",
   "execution_count": 30,
   "metadata": {
    "slideshow": {
     "slide_type": "fragment"
    }
   },
   "outputs": [
    {
     "data": {
      "image/png": "[encoded data removed]",
      "text/plain": [
       "<IPython.core.display.Image object>"
      ]
     },
     "execution_count": 30,
     "metadata": {},
     "output_type": "execute_result"
    }
   ],
   "source": [
    "tf.keras.utils.plot_model(new_model, basedir / \"updated_ticket_classifier.png\", show_shapes=True)"
   ]
  },
  {
   "cell_type": "markdown",
   "metadata": {
    "slideshow": {
     "slide_type": "slide"
    }
   },
   "source": [
    "---\n",
    "\n",
    "### Example of layer sharing/reuse\n",
    "\n",
    "#### Note\n",
    "\n",
    "Convolutional filters and RNNs are both examples of layer reuse!"
   ]
  },
  {
   "cell_type": "markdown",
   "metadata": {
    "slideshow": {
     "slide_type": "subslide"
    }
   },
   "source": [
    "Imagine you would like to process two different sentences for semantic similarity.  \n",
    "You could use the same network to process each of them!\n",
    "\n",
    "```python\n",
    "reusable_LSTM = tf.keras.layers.LSTM(32)         # define our reusable layer\n",
    "\n",
    "left_input = tf.keras.Input(shape=(None, 128))   # 1. first input\n",
    "left_ouput = reusable_LSTM(left_input)           #    → reusable layer\n",
    "\n",
    "right_input = tf.keras.Input(shape=(None, 128))  # 2. second input\n",
    "right_output = reusable_LSTM(right_input)        #    → reusable layer\n",
    "```\n",
    "```python\n",
    "merged = tf.keras.layers.concatenate(            # 3. concatenate\n",
    "    [left_ouput, right_output], axis=-1\n",
    ")\n",
    "predictions = tf.keras.layers.Dense(1, activation='sigmoid')(merged)\n",
    "\n",
    "model = tf.keras.Model([left_input, right_input], predictions)\n",
    "```\n"
   ]
  },
  {
   "cell_type": "markdown",
   "metadata": {
    "slideshow": {
     "slide_type": "slide"
    }
   },
   "source": [
    "---\n",
    "\n",
    "### Example of multiple branches: the *Inception* network\n",
    "\n",
    "The popular *Inception* architecture has several parallel branches, doing multiple different operations on the data."
   ]
  },
  {
   "cell_type": "markdown",
   "metadata": {
    "slideshow": {
     "slide_type": "subslide"
    }
   },
   "source": [
    "<!-- <img src=\"images/chollet.inception.png\"> -->\n",
    "<img src=\"https://drive.google.com/uc?id=13qMnLR57YBLs0YBABIrC-J-qHBe-fC1e\">\n",
    "\n",
    "DLWP, 1<sup>st</sup> edition, p.236."
   ]
  },
  {
   "cell_type": "markdown",
   "metadata": {
    "slideshow": {
     "slide_type": "skip"
    }
   },
   "source": [
    "### Inception pseudocode\n",
    "\n",
    "```python\n",
    "x = tf.zeros([10, 128, 128, 3])                              # ← INPUT x defined\n",
    "\n",
    "branch_a = tf.keras.layers.Conv2D(                           # BRANCH A\n",
    "    128, 1, activation=\"relu\", strides=2, padding=\"same\")(x) # ← x\n",
    "```\n",
    "\n",
    "```python\n",
    "branch_b = tf.keras.layers.Conv2D(                           # BRANCH B\n",
    "    128, 1, activation=\"relu\", padding=\"same\")(x)            # ← x\n",
    "branch_b = tf.keras.layers.Conv2D(\n",
    "    128, 3, activation=\"relu\", strides=2, padding=\"same\")(branch_b)\n",
    "```\n",
    "\n",
    "```python\n",
    "branch_c = tf.keras.layers.AveragePooling2D(                 # BRANCH C\n",
    "                # ↓ rare case of pooling with padding\n",
    "    3, strides=2, padding=\"same\")(x)                         # ← x\n",
    "branch_c = tf.keras.layers.Conv2D(\n",
    "    128, 3, activation=\"relu\", padding=\"same\")(branch_c)\n",
    "```\n",
    "\n",
    "```python\n",
    "branch_d = tf.keras.layers.Conv2D(                           # BRANCH D\n",
    "    128, 1, activation=\"relu\", padding=\"same\")(x)            # ← x\n",
    "branch_d = tf.keras.layers.Conv2D(\n",
    "    128, 3, activation=\"relu\", padding=\"same\")(branch_d)\n",
    "branch_d = tf.keras.layers.Conv2D(\n",
    "    128, 3, activation=\"relu\", strides=2, padding=\"same\")(branch_d)\n",
    "```\n",
    "\n",
    "```python\n",
    "output = tf.keras.layers.concatenate(\n",
    "    [branch_a, branch_b, branch_c, branch_d], axis=-1)\n",
    "```\n",
    "\n",
    "The [actual code](https://github.com/keras-team/keras-applications/blob/master/keras_applications/inception_v3.py#L169) is somewhat more extended... (*/_＼)"
   ]
  },
  {
   "cell_type": "code",
   "execution_count": 31,
   "metadata": {
    "slideshow": {
     "slide_type": "skip"
    }
   },
   "outputs": [
    {
     "data": {
      "image/jpeg": "[encoded data removed]",
      "text/html": [
       "\n",
       "        <iframe\n",
       "            width=\"853\"\n",
       "            height=\"480\"\n",
       "            src=\"https://www.youtube.com/embed/C86ZXvgpejM?start=2592\"\n",
       "            frameborder=\"0\"\n",
       "            allowfullscreen\n",
       "            \n",
       "        ></iframe>\n",
       "        "
      ],
      "text/plain": [
       "<IPython.lib.display.YouTubeVideo at 0x7f4a901edb20>"
      ]
     },
     "execution_count": 31,
     "metadata": {},
     "output_type": "execute_result"
    }
   ],
   "source": [
    "YouTubeVideo('C86ZXvgpejM', width=853, height=480, start=2592) # C4W2L06 Inception Network Motivation"
   ]
  },
  {
   "cell_type": "code",
   "execution_count": 32,
   "metadata": {
    "slideshow": {
     "slide_type": "skip"
    }
   },
   "outputs": [
    {
     "data": {
      "image/jpeg": "[encoded data removed]",
      "text/html": [
       "\n",
       "        <iframe\n",
       "            width=\"853\"\n",
       "            height=\"480\"\n",
       "            src=\"https://www.youtube.com/embed/KfV8CJh7hE0?start=2592\"\n",
       "            frameborder=\"0\"\n",
       "            allowfullscreen\n",
       "            \n",
       "        ></iframe>\n",
       "        "
      ],
      "text/plain": [
       "<IPython.lib.display.YouTubeVideo at 0x7f49fc7ef4c0>"
      ]
     },
     "execution_count": 32,
     "metadata": {},
     "output_type": "execute_result"
    }
   ],
   "source": [
    "YouTubeVideo('KfV8CJh7hE0', width=853, height=480, start=2592) # Andrew Ng, C4W2L07 Inception Network "
   ]
  },
  {
   "cell_type": "markdown",
   "metadata": {
    "slideshow": {
     "slide_type": "slide"
    }
   },
   "source": [
    "---\n",
    "\n",
    "### 7.2.3 Subclassing the Model class\n",
    "\n",
    "#### Rewriting our previous example as a subclassed model\n"
   ]
  },
  {
   "cell_type": "code",
   "execution_count": 33,
   "metadata": {
    "slideshow": {
     "slide_type": "subslide"
    }
   },
   "outputs": [],
   "source": [
    "class CustomerTicketModel(tf.keras.Model):                               # ← define a SUBCLASSED MODEL\n",
    "\n",
    "    def __init__(self, num_departments):\n",
    "        super().__init__()\n",
    "        self.concat_layer = tf.keras.layers.Concatenate()                # the layers are now linked to\n",
    "        self.mixing_layer = tf.keras.layers.Dense(64, activation=\"relu\") # this object\n",
    "        self.priority_scorer = tf.keras.layers.Dense(1, activation=\"sigmoid\")\n",
    "        self.department_classifier = tf.keras.layers.Dense(\n",
    "            num_departments, activation=\"softmax\"\n",
    "        )\n",
    "\n",
    "    def call(self, inputs):                                              # CALL: what all Keras models must implement!\n",
    "        title = inputs[\"title\"]                                          # (note: we assume 'inputs' is a dictionary)\n",
    "        text_body = inputs[\"text_body\"]\n",
    "        tags = inputs[\"tags\"]\n",
    "\n",
    "        features = self.concat_layer([title, text_body, tags])           # where the computation actually happens\n",
    "        features = self.mixing_layer(features)\n",
    "        priority = self.priority_scorer(features)\n",
    "        department = self.department_classifier(features)\n",
    "        return priority, department"
   ]
  },
  {
   "cell_type": "code",
   "execution_count": 34,
   "metadata": {
    "slideshow": {
     "slide_type": "fragment"
    }
   },
   "outputs": [],
   "source": [
    "model = CustomerTicketModel(num_departments=4)                           # ← instantiate the model object\n",
    "\n",
    "priority, department = model(\n",
    "    {\"title\": title_data, \"text_body\": text_body_data, \"tags\": tags_data}\n",
    ")"
   ]
  },
  {
   "cell_type": "markdown",
   "metadata": {
    "slideshow": {
     "slide_type": "subslide"
    }
   },
   "source": [
    "The rest of the code is the same as before:"
   ]
  },
  {
   "cell_type": "code",
   "execution_count": 35,
   "metadata": {
    "slideshow": {
     "slide_type": "fragment"
    }
   },
   "outputs": [
    {
     "name": "stdout",
     "output_type": "stream",
     "text": [
      "40/40 [==============================] - 2s 8ms/step - loss: 31.7251 - output_1_loss: 0.2978 - output_2_loss: 31.4273 - output_1_mean_absolute_error: 0.4677 - output_2_accuracy: 0.2102\n",
      "40/40 [==============================] - 1s 7ms/step - loss: 41.0904 - output_1_loss: 0.3108 - output_2_loss: 40.7796 - output_1_mean_absolute_error: 0.4818 - output_2_accuracy: 0.2508\n",
      "40/40 [==============================] - 0s 6ms/step\n"
     ]
    }
   ],
   "source": [
    "model.compile(\n",
    "    optimizer=\"rmsprop\",\n",
    "    loss=[\"mean_squared_error\", \"categorical_crossentropy\"],\n",
    "    metrics=[[\"mean_absolute_error\"], [\"accuracy\"]],\n",
    ")\n",
    "model.fit(\n",
    "    {\"title\": title_data, \"text_body\": text_body_data, \"tags\": tags_data},\n",
    "    [priority_data, department_data],\n",
    "    epochs=1,\n",
    ")\n",
    "model.evaluate(\n",
    "    {\"title\": title_data, \"text_body\": text_body_data, \"tags\": tags_data},\n",
    "    [priority_data, department_data],\n",
    ")\n",
    "priority_preds, department_preds = model.predict(\n",
    "    {\"title\": title_data, \"text_body\": text_body_data, \"tags\": tags_data}\n",
    ")"
   ]
  },
  {
   "cell_type": "markdown",
   "metadata": {
    "slideshow": {
     "slide_type": "skip"
    }
   },
   "source": [
    "#### Beware: What subclassed models don't support\n",
    "\n",
    "The `summary()` method will work with the **functional** syntax but not with **subclassed models**!"
   ]
  },
  {
   "cell_type": "markdown",
   "metadata": {
    "slideshow": {
     "slide_type": "subslide"
    }
   },
   "source": [
    "#### Multiple losses\n",
    "\n",
    "Multiple losses are *summed* to get one final number. \n",
    "\n",
    "You can modulate the importance of each element using `loss_weights`.\n",
    "\n",
    "```python\n",
    "model.compile(\n",
    "    optimizer=\"rmsprop\",\n",
    "    loss=[\"mean_squared_error\", \"categorical_crossentropy\"],\n",
    "    # ↓ the final loss will be :\n",
    "    loss_weights=[2,1]\n",
    "               # ↑ (2 * `mean_squared_error` + 1 * `categorical_crossentropy`) \n",
    "    metrics=[[\"mean_absolute_error\"], [\"accuracy\"]],\n",
    ")\n",
    "```\n",
    "\n",
    "[Keras Model documentation](https://www.tensorflow.org/api_docs/python/tf/keras/Model)"
   ]
  },
  {
   "cell_type": "markdown",
   "metadata": {
    "slideshow": {
     "slide_type": "slide"
    }
   },
   "source": [
    "---\n",
    "\n",
    "### 7.2.4 Mixing and matching different components\n",
    "\n",
    "**Creating a Functional model that includes a subclassed model**"
   ]
  },
  {
   "cell_type": "code",
   "execution_count": 36,
   "metadata": {
    "slideshow": {
     "slide_type": "fragment"
    }
   },
   "outputs": [],
   "source": [
    "class Classifier(tf.keras.Model):                               # ← define a SUBCLASSED MODEL\n",
    "    \"\"\"A basic subclassed model\"\"\"\n",
    "    def __init__(self, num_classes=2):\n",
    "        super().__init__()\n",
    "        if num_classes == 2:\n",
    "            num_units = 1\n",
    "            activation = \"sigmoid\"\n",
    "        else:\n",
    "            num_units = num_classes\n",
    "            activation = \"softmax\"\n",
    "        self.dense = tf.keras.layers.Dense(num_units, activation=activation)\n",
    "    def call(self, inputs):                                     # CALL: what all Keras models must implement!\n",
    "        return self.dense(inputs)\n",
    "\n",
    "inputs = tf.keras.Input(shape=(3,))                             # ← FUNCTIONAL SYNTAX\n",
    "features = tf.keras.layers.Dense(64, activation=\"relu\")(inputs) # ← ..., then\n",
    "outputs = Classifier(num_classes=10)(features)                  # ← our SUBCLASSED MODEL in the middle\n",
    "model = tf.keras.Model(inputs=inputs, outputs=outputs)          # ← back to functional syntax\n"
   ]
  },
  {
   "cell_type": "markdown",
   "metadata": {
    "slideshow": {
     "slide_type": "subslide"
    }
   },
   "source": [
    "**Creating a subclassed model that includes a Functional model**"
   ]
  },
  {
   "cell_type": "code",
   "execution_count": 37,
   "metadata": {
    "slideshow": {
     "slide_type": "fragment"
    }
   },
   "outputs": [],
   "source": [
    "inputs = tf.keras.Input(shape=(64,))\n",
    "outputs = tf.keras.layers.Dense(1, activation=\"sigmoid\")(inputs)\n",
    "binary_classifier = tf.keras.Model(inputs=inputs, outputs=outputs) # ← FUNCTIONAL MODEL definition\n",
    "\n",
    "class MyModel(tf.keras.Model):                                     # ← SUBCLASSED MODEL\n",
    "    \"\"\"Another basic subclassed model\"\"\"\n",
    "    def __init__(self, num_classes=2):\n",
    "        super().__init__()\n",
    "        self.dense = tf.keras.layers.Dense(64, activation=\"relu\")\n",
    "        self.classifier = binary_classifier                        # ← included INTO OUR SUBCLASSED ONE\n",
    "\n",
    "    def call(self, inputs):                                        # CALL: what all Keras models must implement!\n",
    "        features = self.dense(inputs)\n",
    "        return self.classifier(features)                           # ← used here\n",
    "\n",
    "model = MyModel()"
   ]
  },
  {
   "cell_type": "markdown",
   "metadata": {
    "slideshow": {
     "slide_type": "slide"
    }
   },
   "source": [
    "---\n",
    "\n",
    "## 7.3 Using built-in training and evaluation loops"
   ]
  },
  {
   "cell_type": "markdown",
   "metadata": {
    "slideshow": {
     "slide_type": "subslide"
    }
   },
   "source": [
    "### 7.3.2 Using callbacks\n",
    "\n",
    "You add one or more callbacks through the `callbacks` argument to `fit/evaluate/predict` in a list:\n",
    "\n",
    "```python\n",
    "model.(fit|evaluate|predict)(\n",
    "    ...\n",
    "    callbacks=[MyCustomCallback(), MyOtherCustomCallback()]\n",
    ")\n",
    "```\n",
    "\n",
    "The [documentation](https://www.tensorflow.org/api_docs/python/tf/keras/callbacks/Callback), [list](https://www.tensorflow.org/api_docs/python/tf/keras/callbacks) and a [tutorial](https://www.tensorflow.org/guide/keras/custom_callback)."
   ]
  },
  {
   "cell_type": "markdown",
   "metadata": {
    "slideshow": {
     "slide_type": "subslide"
    }
   },
   "source": [
    "### Early Stopping\n",
    "\n",
    "```python\n",
    "tf.keras.callbacks.EarlyStopping\n",
    "```\n",
    "\n",
    "Stops training as soon as the tracked metric stops improving. ([docs](https://www.tensorflow.org/api_docs/python/tf/keras/callbacks/EarlyStopping))"
   ]
  },
  {
   "cell_type": "markdown",
   "metadata": {
    "slideshow": {
     "slide_type": "subslide"
    },
    "tags": []
   },
   "source": [
    "### Checkpoints\n",
    "\n",
    "```python\n",
    "tf.keras.callbacks.ModelCheckpoint\n",
    "```\n",
    "\n",
    "Saves your network automatically. ([docs](https://www.tensorflow.org/api_docs/python/tf/keras/callbacks/ModelCheckpoint))"
   ]
  },
  {
   "cell_type": "markdown",
   "metadata": {
    "slideshow": {
     "slide_type": "subslide"
    }
   },
   "source": [
    "### Learning rate schedules\n",
    "\n",
    "While it is recommended to use `RMSprop` and `Adam` to start with (they adapt the learning rate for you)), the state of the art is usually achieved with tweaked variants of `SGD` with momentum (where you need to search for the right parameters). \n",
    "\n",
    "In this context, you usually want your learning rate to go down as you get nearer to your optimisation goal.\n",
    "\n",
    "\n",
    "```python\n",
    "tf.keras.callbacks.LearningRateScheduler\n",
    "tf.keras.callbacks.ReduceLROnPlateau\n",
    "```\n",
    "\n",
    "Changes your learning rate during training. ([Scheduler docs](https://www.tensorflow.org/api_docs/python/tf/keras/callbacks/LearningRateScheduler))  \n",
    "Reduces the learning rate during training as soon as the tracked metrick stops improving. ([Plateau docs](https://www.tensorflow.org/api_docs/python/tf/keras/callbacks/ReduceLROnPlateau))\n"
   ]
  },
  {
   "cell_type": "markdown",
   "metadata": {
    "slideshow": {
     "slide_type": "subslide"
    }
   },
   "source": [
    "#### Note on Adaptive Methods\n",
    "\n",
    "`RMSProp`, `Adam` and other adaptive methods do not need this so much as the size of the updates are already dynamically changed during the training process.\n",
    "\n",
    "All these fancy learning rate techniques are usually implemented to make SGD outperform those! In which case you'd search for optimal performance with SGD + Momentum + Schedule + Nesterov!"
   ]
  },
  {
   "cell_type": "markdown",
   "metadata": {
    "slideshow": {
     "slide_type": "skip"
    }
   },
   "source": [
    "More references and examples in the notebook [`callbacks.learning-rate-schedules.ipynb`](https://drive.google.com/file/d/1FjrnQonW_DhHdQXxc0gFj48WTzLzRHv-/view?usp=share_link)."
   ]
  },
  {
   "cell_type": "markdown",
   "metadata": {
    "slideshow": {
     "slide_type": "subslide"
    }
   },
   "source": [
    "### 7.3.4 Monitoring and visualization with TensorBoard\n",
    "\n",
    "```python\n",
    "tf.keras.callbacks.TensorBoard\n",
    "```\n",
    "\n",
    "Checkout [this notebook](https://colab.research.google.com/drive/1AWienDOZQuHiJ2mFFXNpqnoZLI1aZ1Fi#scrollTo=NkTyhz9a8SNw)! Also on the VLE. ([docs](https://www.tensorflow.org/api_docs/python/tf/keras/callbacks/TensorBoard)) (Topic 4: Fundamentals)."
   ]
  },
  {
   "cell_type": "markdown",
   "metadata": {
    "slideshow": {
     "slide_type": "skip"
    }
   },
   "source": [
    "---\n",
    "\n",
    "## 7.4 Writing your own training and evaluation loops\n",
    "\n",
    "And also: **7.3.1 Writing your own metrics**\n",
    "\n",
    "Please refer to the notebook [`custom-classes.subclassing.ipynb`](https://drive.google.com/file/d/1wudcUc2dwD8WXBdRZLirY0r150O7wjtQ/view?usp=share_link).\n",
    "\n"
   ]
  },
  {
   "cell_type": "markdown",
   "metadata": {
    "slideshow": {
     "slide_type": "subslide"
    }
   },
   "source": [
    "### 7.4.4 Make it fast with `@tf.function`\n",
    "\n",
    "**Adding a `tf.function` decorator to our evaluation-step function**\n",
    "\n",
    "\n",
    "```python\n",
    "@tf.function # ← this decorator will compile and run the function faster\n",
    "def test_step_compiled(inputs, targets):\n",
    "    predictions = model(inputs, training=False)\n",
    "    loss = loss_fn(targets, predictions)\n",
    "\n",
    "    logs = {}\n",
    "    for metric in metrics:\n",
    "        metric.update_state(targets, predictions)\n",
    "        logs[\"val_\" + metric.name] = metric.result()\n",
    "\n",
    "    loss_tracking_metric.update_state(loss)\n",
    "    logs[\"val_loss\"] = loss_tracking_metric.result()\n",
    "    return logs\n",
    "```"
   ]
  },
  {
   "cell_type": "markdown",
   "metadata": {
    "slideshow": {
     "slide_type": "skip"
    }
   },
   "source": [
    "The same notebook [`custom-classes.subclassing.ipynb`](https://drive.google.com/file/d/1wudcUc2dwD8WXBdRZLirY0r150O7wjtQ/view?usp=share_link) has an example of this you can run."
   ]
  },
  {
   "cell_type": "markdown",
   "metadata": {
    "slideshow": {
     "slide_type": "slide"
    }
   },
   "source": [
    "---\n",
    "\n",
    "# 13 Best practices for the real world\n",
    "\n",
    "## 13.1 Getting the most out of your models"
   ]
  },
  {
   "cell_type": "markdown",
   "metadata": {
    "slideshow": {
     "slide_type": "skip"
    }
   },
   "source": [
    "### 13.1.1 Hyperparameter optimization\n",
    "\n",
    "Deep Learning engineers have many seemingly arbitrary decisions:\n",
    "\n",
    "- How many layers?\n",
    "- How many unites per layer?\n",
    "- What activation function(s)?\n",
    "- Batch/Layer normalise?\n",
    "- How much dropout/regularisation?\n",
    "- What optimizer or learning rate?\n",
    "- etc.."
   ]
  },
  {
   "cell_type": "markdown",
   "metadata": {
    "slideshow": {
     "slide_type": "skip"
    }
   },
   "source": [
    "### Hyperparameter optimisation workflow\n",
    "\n",
    "Throughout: **Document everything**.\n",
    "\n",
    "1. Think of a *baseline* (without a neural net & with an untrained net)\n",
    "2. Choose a set of hyperparameters;\n",
    "3. Build the model;\n",
    "4. Fit to training data and measure performance on validation data;\n",
    "5. If good enough:\n",
    "    - Stop & go to 7.;\n",
    "6. Go to 2;\n",
    "7. Retrain with the same hyperparameters as the best run on *your entire training set* (partial train + validation, no longer any validation split!), up until the epoch where your best model started overfitting, evaluate on test data."
   ]
  },
  {
   "cell_type": "markdown",
   "metadata": {
    "slideshow": {
     "slide_type": "skip"
    }
   },
   "source": [
    "### Remember the three ideas!\n",
    "\n",
    "Topic 3, [`04.1.classifying-movie-reviews-imdb.ipynb`](https://drive.google.com/file/d/1HbtuQx2bT5z9lQSK9e1MLjypHkH08vPu/view?usp=share_link).\n",
    "\n",
    "- **Grid search**: systematic covering of the space\n",
    "- **Random search**: random trials in the space\n",
    "- **Babysitting**: gradual progress with manual monitoring\n"
   ]
  },
  {
   "cell_type": "markdown",
   "metadata": {
    "slideshow": {
     "slide_type": "slide"
    }
   },
   "source": [
    "---\n",
    "\n",
    "### Keras Tuner\n",
    "\n",
    "Keras now comes with its own module for automated hyperparameter optimisation.\n",
    "\n",
    "If you go for the Data Science option in Coursework 2, please **do not use it**!!  \n",
    "We would like you to practice building this **yourself**.\n",
    "\n",
    "This could be used in projects with another focus.\n",
    "\n",
    "### References\n",
    "\n",
    "[Documentation](https://keras.io/keras_tuner/)  \n",
    "[TensorFlow tutorial](https://www.tensorflow.org/tutorials/keras/keras_tuner)\n"
   ]
  },
  {
   "cell_type": "markdown",
   "metadata": {
    "slideshow": {
     "slide_type": "skip"
    }
   },
   "source": [
    "#### The future of hyperparameter tuning: automated machine learning\n",
    "\n",
    "Automating Hyperparameter search is an active area of research, known as AutoML. Here is the [the Keras package trying to develop that](https://autokeras.com/)."
   ]
  },
  {
   "cell_type": "markdown",
   "metadata": {
    "slideshow": {
     "slide_type": "slide"
    }
   },
   "source": [
    "---\n",
    "\n",
    "### 13.1.2 Model ensembling\n",
    "\n",
    "Ensembling means pooling predictions from a number of **independent models**.\n",
    "\n",
    "The idea is based on the observation that any model can only grasp **part of the truth**.\n",
    "\n",
    "We hope that a *more diverse* set of models might access **more aspects of the truth**.\n",
    "\n",
    "Ensembling generally produces the most competitive models."
   ]
  },
  {
   "cell_type": "markdown",
   "metadata": {
    "slideshow": {
     "slide_type": "subslide"
    }
   },
   "source": [
    "Pooling can proceed by **averaging** model predictions.\n",
    "\n",
    "But there is a disadvantage – a poor model can worsen the average, even dragging it below the performace of the best model.\n",
    "\n",
    "The predictions can be weighted, with higher weights to better models.\n",
    "\n",
    "The weights can even be automatically optimised.  \n",
    "(Idea: give the best-performing model on the validation set the highest weight...)  "
   ]
  },
  {
   "cell_type": "markdown",
   "metadata": {
    "slideshow": {
     "slide_type": "skip"
    }
   },
   "source": [
    "### Note\n",
    "\n",
    "Possible algorithm for learning those: the [Nelder-Mead algorithm](https://en.wikipedia.org/wiki/Nelder%E2%80%93Mead_method) (a [video explanation](https://www.youtube.com/watch?v=vOYlVvT3W80))."
   ]
  },
  {
   "cell_type": "markdown",
   "metadata": {
    "slideshow": {
     "slide_type": "subslide"
    }
   },
   "source": [
    "#### Equal weight for all predictions\n",
    "\n",
    "```python\n",
    "preds_a = model_a.predict(x_val) # Use four different\n",
    "preds_b = model_b.predict(x_val) # models to compute\n",
    "preds_c = model_c.predict(x_val) # initial predictions.\n",
    "preds_d = model_d.predict(x_val) \n",
    "             # ↓ This new prediction array should be accurate than any of the initial ones.\n",
    "final_preds = 0.25 * (preds_a + preds_b + preds_c + preds_d)\n",
    "```\n",
    "\n",
    "DLWP, p.420"
   ]
  },
  {
   "cell_type": "markdown",
   "metadata": {
    "slideshow": {
     "slide_type": "subslide"
    }
   },
   "source": [
    "#### Different weights for predictions\n",
    "\n",
    "```python\n",
    "preds_a = model_a.predict(x_val)\n",
    "preds_b = model_b.predict(x_val)\n",
    "preds_c = model_c.predict(x_val)\n",
    "preds_d = model_d.predict(x_val)\n",
    "            # ↓ These weights (0.5, 0.25, 0.1, 0.15) are assumed to be learned empirically.\n",
    "final_preds = 0.5 * preds_a + 0.25 * preds_b + 0.1 * preds_c + 0.15 * preds_d\n",
    "```\n",
    "DLWP, p.420-1"
   ]
  },
  {
   "cell_type": "markdown",
   "metadata": {
    "slideshow": {
     "slide_type": "subslide"
    }
   },
   "source": [
    "### Diversity\n",
    "\n",
    "The models in the ensemble need to be **as diverse** as possible.\n",
    "\n",
    "A model in the ensemble might be comparatively poor and have low weight, but can nevertheless make a quantitative difference to the overall prediction because it was distant from the other models and may perform really well in specific situations.\n",
    "\n",
    "The concern is for a **diversity of models** rather than how well the best model performs.\n",
    "\n",
    "#### Note\n",
    "\n",
    "Avoid training the same model from different initialisations/order of exposure to data: this is not different enough!\n",
    "\n",
    "Better to have different architectures or approaches (neural and not neural, for instance)."
   ]
  },
  {
   "cell_type": "markdown",
   "metadata": {
    "slideshow": {
     "slide_type": "slide"
    }
   },
   "source": [
    "---\n",
    "\n",
    "## 13.2 Scaling-up model training"
   ]
  },
  {
   "cell_type": "markdown",
   "metadata": {
    "slideshow": {
     "slide_type": "subslide"
    }
   },
   "source": [
    "### 13.2.1 Speeding up training on GPU with mixed precision\n",
    "\n",
    "#### Understanding floating-point precision\n",
    "\n",
    "There are three of levels of precision you’d typically use:\n",
    "- Half precision, or `float16`, where numbers are stored on 16 bits;\n",
    "- Single precision, or `float32`, where numbers are stored on 32 bits;\n",
    "- Double precision, or `float64`, where numbers are stored on 64 bits.\n",
    "\n",
    "(DLWP, p.422)\n",
    "\n",
    "Tradeoff: for some operations, you want more **precision** (requires more compute), for others you want more **speed** (the precision matters less)."
   ]
  },
  {
   "cell_type": "markdown",
   "metadata": {
    "slideshow": {
     "slide_type": "skip"
    }
   },
   "source": [
    "#### Manual tensor conversion"
   ]
  },
  {
   "cell_type": "code",
   "execution_count": 43,
   "metadata": {
    "slideshow": {
     "slide_type": "skip"
    }
   },
   "outputs": [
    {
     "data": {
      "text/plain": [
       "tf.float64"
      ]
     },
     "execution_count": 43,
     "metadata": {},
     "output_type": "execute_result"
    }
   ],
   "source": [
    "np_array = np.zeros((2, 2))\n",
    "tf_tensor = tf.convert_to_tensor(np_array)\n",
    "tf_tensor.dtype"
   ]
  },
  {
   "cell_type": "code",
   "execution_count": 39,
   "metadata": {
    "slideshow": {
     "slide_type": "skip"
    }
   },
   "outputs": [
    {
     "data": {
      "text/plain": [
       "tf.float32"
      ]
     },
     "execution_count": 39,
     "metadata": {},
     "output_type": "execute_result"
    }
   ],
   "source": [
    "np_array = np.zeros((2, 2))\n",
    "tf_tensor = tf.convert_to_tensor(np_array, dtype=\"float32\")\n",
    "tf_tensor.dtype"
   ]
  },
  {
   "cell_type": "markdown",
   "metadata": {
    "slideshow": {
     "slide_type": "fragment"
    }
   },
   "source": [
    "#### Mixed-precision training in practice\n",
    "\n",
    "```python\n",
    "tf.keras.mixed_precision.set_global_policy(\"mixed_float16\")\n",
    "```"
   ]
  },
  {
   "cell_type": "markdown",
   "metadata": {
    "slideshow": {
     "slide_type": "subslide"
    }
   },
   "source": [
    "### 13.2.2 Multi-GPU training\n",
    "\n",
    "<!-- ![Chollet mirrored strategy](images/chollet.mirrored-strategy.p.427.png) -->\n",
    "\n",
    "![Chollet  mirrored strategy](https://drive.google.com/uc?id=1KM1IWvG1Pb1qNEhZrtv8S-2M-svLXRvj)\n",
    "\n",
    "<small>DLWP, p.427</small>"
   ]
  },
  {
   "cell_type": "markdown",
   "metadata": {
    "slideshow": {
     "slide_type": "subslide"
    }
   },
   "source": [
    "```python\n",
    "# Create a “distribution strategy” object. (go-to solution: `MirroredStrategy`)\n",
    "strategy = tf.distribute.MirroredStrategy()\n",
    "\n",
    "print(f\"Number of devices: {strategy.num_replicas_in_sync}\")\n",
    "\n",
    "with strategy.scope():           # Open scope: everything inside is distributed\n",
    "    model = get_compiled_model() # All variables must be under the scope!\n",
    "                                 # (Model construction and `compile()`)\n",
    "```\n",
    "```python\n",
    "model.fit(                       # The training will automatically be \n",
    "    train_dataset,               # distributed across devices!\n",
    "    epochs=100,\n",
    "    validation_data=val_dataset\n",
    ")\n",
    "\n",
    "```"
   ]
  },
  {
   "cell_type": "markdown",
   "metadata": {
    "slideshow": {
     "slide_type": "skip"
    }
   },
   "source": [
    "### Global batch size\n",
    "\n",
    "When using `datasets`, the batch size is then a **global** batch size, and gets split up on each device.\n",
    "\n",
    "Usually then you calculate it from the capacity of each GPU:\n",
    "\n",
    "```python\n",
    "batch_size = batch_size_per_device * n_devices\n",
    "```"
   ]
  },
  {
   "cell_type": "code",
   "execution_count": 40,
   "metadata": {
    "slideshow": {
     "slide_type": "skip"
    }
   },
   "outputs": [
    {
     "data": {
      "image/jpeg": "[encoded data removed]",
      "text/html": [
       "\n",
       "        <iframe\n",
       "            width=\"853\"\n",
       "            height=\"480\"\n",
       "            src=\"https://www.youtube.com/embed/ZnukSLKEw34\"\n",
       "            frameborder=\"0\"\n",
       "            allowfullscreen\n",
       "            \n",
       "        ></iframe>\n",
       "        "
      ],
      "text/plain": [
       "<IPython.lib.display.YouTubeVideo at 0x7f49ac3a6a00>"
      ]
     },
     "execution_count": 40,
     "metadata": {},
     "output_type": "execute_result"
    }
   ],
   "source": [
    "YouTubeVideo('ZnukSLKEw34', width=853, height=480) #  Inside TensorFlow: tf.data + tf.distribute "
   ]
  },
  {
   "cell_type": "code",
   "execution_count": 41,
   "metadata": {
    "slideshow": {
     "slide_type": "skip"
    }
   },
   "outputs": [
    {
     "data": {
      "image/jpeg": "[encoded data removed]",
      "text/html": [
       "\n",
       "        <iframe\n",
       "            width=\"853\"\n",
       "            height=\"480\"\n",
       "            src=\"https://www.youtube.com/embed/jKV53r9-H14\"\n",
       "            frameborder=\"0\"\n",
       "            allowfullscreen\n",
       "            \n",
       "        ></iframe>\n",
       "        "
      ],
      "text/plain": [
       "<IPython.lib.display.YouTubeVideo at 0x7f49ac3a63a0>"
      ]
     },
     "execution_count": 41,
     "metadata": {},
     "output_type": "execute_result"
    }
   ],
   "source": [
    "YouTubeVideo('jKV53r9-H14', width=853, height=480) #   Inside TensorFlow: tf.distribute.Strategy "
   ]
  },
  {
   "cell_type": "markdown",
   "metadata": {
    "slideshow": {
     "slide_type": "subslide"
    }
   },
   "source": [
    "### 13.2.3 TPU training\n",
    "\n",
    "#### Using a TPU via Google Colab\n",
    "\n",
    "They still sometimes have a few available for free, try it with the starter code in [`lab-8-TPU`](https://drive.google.com/file/d/1sQXVc4WmWZWRxWGy6yAzz2vrA-qIh0fP/view?usp=share_link)! (Change the Runtime to TPU.)\n",
    "\n",
    "This notebook also contains a link to another Colab notebook, which itself refers to **more** Colab notebooks!"
   ]
  },
  {
   "cell_type": "markdown",
   "metadata": {
    "slideshow": {
     "slide_type": "skip"
    }
   },
   "source": [
    "#### TPU checklist\n",
    "\n",
    "- TPUs have a lot of capacity: you can easily have larger batch sizes!\n",
    "- Loading data can be a big bottleneck in these contexts. TensorFlow recommends using their [binary format TFRecords](https://www.tensorflow.org/tutorials/load_data/tfrecord) (and the [Keras page](https://keras.io/examples/keras_recipes/creating_tfrecords/));\n",
    "- TPUs require that everything is compiled before it runs. You can even gain in speed by *compiling several steps of training in one* (called **step fusing**) to improve performance: specify `steps_per_execution=n` in the `compile()` method."
   ]
  },
  {
   "cell_type": "markdown",
   "metadata": {
    "slideshow": {
     "slide_type": "slide"
    }
   },
   "source": [
    "## Summary\n",
    "\n",
    "### Spectrum of Workflows\n",
    "\n",
    "- the `Sequential` syntax;\n",
    "- the `Functional` syntax;\n",
    "- `Model` or `Layer` subclassing\n",
    "- Losses must match outputs!\n",
    "- Various losses are **summed**, weighted average using `loss_weights`;\n",
    "- Retrieve inner layers from models → build new ones;\n",
    "- Mix & match: functional & subclassing can be combined;\n",
    "- No `summary()` method with subclassing!\n",
    "\n",
    "Personal advice: *when you reach subclassing, you may leave Keras behind and just use TF... :}*"
   ]
  },
  {
   "cell_type": "markdown",
   "metadata": {
    "slideshow": {
     "slide_type": "slide"
    }
   },
   "source": [
    "### Advanced practices for training stability\n",
    "\n",
    "- Residual connections;\n",
    "- Batch normalisation;\n",
    "- Layer normalisation.\n",
    "\n",
    "### CNN optimisation\n",
    "\n",
    "- Depthwise separable convolutions."
   ]
  },
  {
   "cell_type": "markdown",
   "metadata": {
    "slideshow": {
     "slide_type": "slide"
    }
   },
   "source": [
    "### Hyperparameter search\n",
    "\n",
    "- DL engineering requires exploration in hyperparameter space:\n",
    "    - currently guided by intuition/experience;\n",
    "    - automation is coming;\n",
    "    - human or automatic search should be as **systematic** as possible;\n",
    "    - three ideas:\n",
    "        - grid search;\n",
    "        - random search;\n",
    "        - babysitting"
   ]
  },
  {
   "cell_type": "markdown",
   "metadata": {
    "slideshow": {
     "slide_type": "slide"
    }
   },
   "source": [
    "### Ensembling\n",
    "\n",
    "- Ensembling with the appropriate weighted average of contributions is very powerful;\n",
    "- Component models should be as dissimilar as possible."
   ]
  }
 ],
 "metadata": {
  "celltoolbar": "Slideshow",
  "colab": {
   "collapsed_sections": [],
   "name": "chapter07_working-with-keras.i",
   "private_outputs": false,
   "provenance": [],
   "toc_visible": true
  },
  "kernelspec": {
   "display_name": "Python 3 (ipykernel)",
   "language": "python",
   "name": "python3"
  },
  "language_info": {
   "codemirror_mode": {
    "name": "ipython",
    "version": 3
   },
   "file_extension": ".py",
   "mimetype": "text/x-python",
   "name": "python",
   "nbconvert_exporter": "python",
   "pygments_lexer": "ipython3",
   "version": "3.9.15"
  }
 },
 "nbformat": 4,
 "nbformat_minor": 4
}
