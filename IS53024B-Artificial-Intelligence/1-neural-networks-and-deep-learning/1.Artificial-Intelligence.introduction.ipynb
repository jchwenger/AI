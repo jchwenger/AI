{
 "cells": [
  {
   "cell_type": "markdown",
   "id": "aaa76523",
   "metadata": {
    "slideshow": {
     "slide_type": "slide"
    }
   },
   "source": [
    "# Attendance\n",
    "\n",
    "[The link to SEAts](https://goldsmithscollege.sharepoint.com/sites/intranet-supporting-students/SitePages/SEAtS--QR-codes-for-check-in.aspx?utm_campaign=SEAtS%20reminder%2027.09.22&utm_source=emailCampaign&utm_content=&utm_medium=email)"
   ]
  },
  {
   "cell_type": "markdown",
   "id": "af323c7f",
   "metadata": {
    "slideshow": {
     "slide_type": "slide"
    }
   },
   "source": [
    "# IS53024B/IS53024S/IS71039A Artificial-Intelligence"
   ]
  },
  {
   "cell_type": "markdown",
   "id": "6e6957b5",
   "metadata": {
    "slideshow": {
     "slide_type": "fragment"
    }
   },
   "source": [
    "#### Jérémie Wenger  \n",
    "(he/him)  \n",
    "[jweng004@gold.ac.uk](mailto:jweng004@gold.ac.uk)  \n",
    "office hours: Thursdays 14h-15h\n",
    "\n",
    "#### Ben Whately\n",
    "\n",
    "(he/him)  \n",
    "[bwhat002@gold.ac.uk](mailto:bwhat002@gold.ac.uk)"
   ]
  },
  {
   "cell_type": "markdown",
   "id": "54c66047",
   "metadata": {
    "slideshow": {
     "slide_type": "slide"
    },
    "tags": []
   },
   "source": [
    "---\n",
    "\n",
    "## Before we start...\n",
    "\n",
    "## How will you be assessed?"
   ]
  },
  {
   "cell_type": "markdown",
   "id": "79845288",
   "metadata": {
    "slideshow": {
     "slide_type": "fragment"
    },
    "tags": []
   },
   "source": [
    "All the quizzes are formative!"
   ]
  },
  {
   "cell_type": "markdown",
   "id": "b7506506",
   "metadata": {
    "slideshow": {
     "slide_type": "subslide"
    },
    "tags": []
   },
   "source": [
    "### Undergraduate"
   ]
  },
  {
   "cell_type": "markdown",
   "id": "c8623780",
   "metadata": {
    "slideshow": {
     "slide_type": "fragment"
    },
    "tags": []
   },
   "source": [
    "- **Coursework 1**: 25%  \n",
    "  Due: 16/11/22  \n",
    "  Feedback: 6/12/22  \n",
    "  "
   ]
  },
  {
   "cell_type": "markdown",
   "id": "09e0df1e",
   "metadata": {
    "slideshow": {
     "slide_type": "fragment"
    },
    "tags": []
   },
   "source": [
    "- **Coursework 2**: 25%  \n",
    "  Due: 16/1/23  \n",
    "  Feedback: 14/2/23  \n",
    "  "
   ]
  },
  {
   "cell_type": "markdown",
   "id": "c9f5637f",
   "metadata": {
    "slideshow": {
     "slide_type": "fragment"
    },
    "tags": []
   },
   "source": [
    "- **Exam**: 50%  \n",
    "  Date: TBA"
   ]
  },
  {
   "cell_type": "markdown",
   "id": "cdf6e06d",
   "metadata": {
    "slideshow": {
     "slide_type": "subslide"
    },
    "tags": []
   },
   "source": [
    "### Postgraduate"
   ]
  },
  {
   "cell_type": "markdown",
   "id": "a8a8a37a",
   "metadata": {
    "slideshow": {
     "slide_type": "fragment"
    },
    "tags": []
   },
   "source": [
    "- **Coursework 1**: 50%  \n",
    "  Due: 16/11/22  \n",
    "  Feedback: 6/12/22  \n",
    "  "
   ]
  },
  {
   "cell_type": "markdown",
   "id": "502d5b59",
   "metadata": {
    "slideshow": {
     "slide_type": "fragment"
    },
    "tags": []
   },
   "source": [
    "- **Coursework 2**: 50%  \n",
    "  Due: 16/1/23  \n",
    "  Feedback: 14/2/23  "
   ]
  },
  {
   "cell_type": "markdown",
   "id": "f9becda0",
   "metadata": {
    "slideshow": {
     "slide_type": "subslide"
    }
   },
   "source": [
    "## January Exam 2022 (UG students only)"
   ]
  },
  {
   "cell_type": "markdown",
   "id": "564d148c",
   "metadata": {
    "slideshow": {
     "slide_type": "fragment"
    }
   },
   "source": [
    "This exam will take place online. It will be open for 36 hours. This allows for additional conditions which may be prevalent as a result of pandemic, isolation, caring responsibilities and other logistical issues that you may have."
   ]
  },
  {
   "cell_type": "markdown",
   "id": "57b8cc91",
   "metadata": {
    "slideshow": {
     "slide_type": "fragment"
    }
   },
   "source": [
    "For students with RASA: please note that we have taken an inclusive approach and included your requirements in the 36 hours. These exams function as a take home exam and allow you to take rest breaks when needed, have food/snacks, take medication, and work flexibly."
   ]
  },
  {
   "cell_type": "markdown",
   "id": "bcfada9d",
   "metadata": {
    "slideshow": {
     "slide_type": "fragment"
    }
   },
   "source": [
    "Please read Student Guidelines for Online Exams [here](https://learn.gold.ac.uk/mod/resource/view.php?id=947178)."
   ]
  },
  {
   "cell_type": "markdown",
   "id": "525a3afb",
   "metadata": {
    "slideshow": {
     "slide_type": "fragment"
    }
   },
   "source": [
    "There will be no deadline extensions."
   ]
  },
  {
   "cell_type": "markdown",
   "id": "897543c2",
   "metadata": {
    "slideshow": {
     "slide_type": "subslide"
    }
   },
   "source": [
    "If there is a technical problem during your exam, please use [this form](https://learn.gold.ac.uk/mod/questionnaire/view.php?id=780645) to report it as soon as possible."
   ]
  },
  {
   "cell_type": "markdown",
   "id": "ff575ad1",
   "metadata": {
    "slideshow": {
     "slide_type": "fragment"
    }
   },
   "source": [
    "The exam is comprised of four multiple choice quizzes. You must attempt each quiz and answer every question. Choose the best response to each question."
   ]
  },
  {
   "cell_type": "markdown",
   "id": "0065fb78",
   "metadata": {
    "slideshow": {
     "slide_type": "fragment"
    }
   },
   "source": [
    "Before opening each quiz, make sure you have a quiet place to take the test with a good internet connection and sufficient time."
   ]
  },
  {
   "cell_type": "markdown",
   "id": "67cf6b8a",
   "metadata": {
    "slideshow": {
     "slide_type": "fragment"
    }
   },
   "source": [
    "You will not be able to reattempt quizzes once they have been opened. Do not attempt to preview them!"
   ]
  },
  {
   "cell_type": "markdown",
   "id": "659dbe90",
   "metadata": {
    "slideshow": {
     "slide_type": "slide"
    }
   },
   "source": [
    "---\n",
    "\n",
    "# Action plan!"
   ]
  },
  {
   "cell_type": "markdown",
   "id": "22bf7ea2",
   "metadata": {
    "slideshow": {
     "slide_type": "fragment"
    }
   },
   "source": [
    "We will be studying François Chollet's book [Deep Learning With Python](https://www.manning.com/books/deep-learning-with-python-second-edition?a_aid=keras&a_bid=76564dff).\n",
    "\n",
    "The [accompanying GitHub repo](https://github.com/fchollet/deep-learning-with-python-notebooks).\n",
    "\n",
    "<img src=\"images/chollet-cover.png\" style=\"width: auto; height: 400px; float:right;\">\n",
    "\n",
    "<small style=\"position:absolute; bottom: 0; right:0;\">(Ideally the second edition of 2021, without the **Licensed to \\<null\\>** at the bottom of each page, come talk to me if you have a doubt.)</small>"
   ]
  },
  {
   "cell_type": "markdown",
   "id": "f60dc6da",
   "metadata": {
    "slideshow": {
     "slide_type": "subslide"
    }
   },
   "source": [
    "### To help me help you"
   ]
  },
  {
   "cell_type": "markdown",
   "id": "6af96ae0",
   "metadata": {
    "slideshow": {
     "slide_type": "fragment"
    }
   },
   "source": [
    "- How many of you are UG/PG?"
   ]
  },
  {
   "cell_type": "markdown",
   "id": "1d77297a",
   "metadata": {
    "slideshow": {
     "slide_type": "fragment"
    }
   },
   "source": [
    "- Interests/focus: Data Science? Job in ML? Research? Art?"
   ]
  },
  {
   "cell_type": "markdown",
   "id": "8c1c7c80",
   "metadata": {
    "slideshow": {
     "slide_type": "fragment"
    }
   },
   "source": [
    "- Who has NumPy/Python experience? Who has none?"
   ]
  },
  {
   "cell_type": "markdown",
   "id": "9da867ff",
   "metadata": {
    "slideshow": {
     "slide_type": "fragment"
    }
   },
   "source": [
    "- Who has DL experience?"
   ]
  },
  {
   "cell_type": "markdown",
   "id": "d5e19e81",
   "metadata": {
    "slideshow": {
     "slide_type": "fragment"
    }
   },
   "source": [
    "- Who fears maths? Who loves it?"
   ]
  },
  {
   "cell_type": "markdown",
   "id": "fededb7f",
   "metadata": {
    "slideshow": {
     "slide_type": "subslide"
    },
    "tags": []
   },
   "source": [
    "# Topics"
   ]
  },
  {
   "cell_type": "markdown",
   "id": "4fa8479a",
   "metadata": {
    "slideshow": {
     "slide_type": "fragment"
    }
   },
   "source": [
    "1. Introduction\n",
    "\n",
    "2. Neural networks: the building blocks\n",
    "\n",
    "3. Getting started with ML: classification & regression \n",
    "\n",
    "4. Fundamentals\n",
    "\n",
    "5. Computer Vision\n",
    "\n",
    "6. Text and sequences\n",
    "\n",
    "7. Best & advanced practices\n",
    "\n",
    "8. Generative models\n",
    "\n",
    "9. Conclusion"
   ]
  },
  {
   "cell_type": "markdown",
   "id": "33bd8640",
   "metadata": {
    "slideshow": {
     "slide_type": "slide"
    }
   },
   "source": [
    "---\n",
    "\n",
    "# Today!"
   ]
  },
  {
   "cell_type": "markdown",
   "id": "f758d127",
   "metadata": {
    "slideshow": {
     "slide_type": "fragment"
    }
   },
   "source": [
    "### 1.1-1.1.2. Artificial Intelligence, machine learning, and deep learning"
   ]
  },
  {
   "cell_type": "markdown",
   "id": "49a8641c",
   "metadata": {
    "slideshow": {
     "slide_type": "fragment"
    }
   },
   "source": [
    "### 1.1.3-1.1.4 Learning representations"
   ]
  },
  {
   "cell_type": "markdown",
   "id": "0c764d35",
   "metadata": {
    "slideshow": {
     "slide_type": "fragment"
    }
   },
   "source": [
    "### 1.1.4 The \"deep\" in \"deep learning\""
   ]
  },
  {
   "cell_type": "markdown",
   "id": "25faeb4a",
   "metadata": {
    "slideshow": {
     "slide_type": "fragment"
    }
   },
   "source": [
    "### 1.2-1.2.6 A brief history of machine learning"
   ]
  },
  {
   "cell_type": "markdown",
   "id": "f76138b1",
   "metadata": {
    "slideshow": {
     "slide_type": "fragment"
    }
   },
   "source": [
    "### 1.2.7 The modern landscape & 1.1.6-1.1.8 Achievements "
   ]
  },
  {
   "cell_type": "markdown",
   "id": "4b3f58fe",
   "metadata": {
    "slideshow": {
     "slide_type": "slide"
    }
   },
   "source": [
    "---\n",
    "\n",
    "#  1.1-1.1.2. Artificial Intelligence, machine learning, and deep learning\n"
   ]
  },
  {
   "cell_type": "markdown",
   "id": "9d61d80c-7e1c-4076-b5e1-0293640e9078",
   "metadata": {
    "slideshow": {
     "slide_type": "subslide"
    }
   },
   "source": [
    "Artificial Intelligence is the automation of thought."
   ]
  },
  {
   "cell_type": "markdown",
   "id": "ae463ca4",
   "metadata": {
    "slideshow": {
     "slide_type": "fragment"
    }
   },
   "source": [
    "Thinking machines, machines that do things that, until they did them, we thought only humans could do. "
   ]
  },
  {
   "cell_type": "markdown",
   "id": "051354a0",
   "metadata": {
    "slideshow": {
     "slide_type": "fragment"
    }
   },
   "source": [
    "However, as soon as machines accomplish a task we tend to move the goal post, and think the task was not so hard after all."
   ]
  },
  {
   "cell_type": "markdown",
   "id": "1fa61af7",
   "metadata": {
    "slideshow": {
     "slide_type": "subslide"
    }
   },
   "source": [
    "A terrible way to start..."
   ]
  },
  {
   "cell_type": "code",
   "execution_count": 12,
   "id": "4974f4c4",
   "metadata": {
    "slideshow": {
     "slide_type": "fragment"
    }
   },
   "outputs": [
    {
     "data": {
      "image/jpeg": "[encoded data removed]",
      "text/html": [
       "\n",
       "        <iframe\n",
       "            width=\"853\"\n",
       "            height=\"480\"\n",
       "            src=\"https://www.youtube.com/embed/-J_xL4IGhJA?start=20\"\n",
       "            frameborder=\"0\"\n",
       "            allowfullscreen\n",
       "            \n",
       "        ></iframe>\n",
       "        "
      ],
      "text/plain": [
       "<IPython.lib.display.YouTubeVideo at 0x7fcdc84fdbd0>"
      ]
     },
     "execution_count": 12,
     "metadata": {},
     "output_type": "execute_result"
    }
   ],
   "source": [
    "from IPython.display import YouTubeVideo                      # MIT 6.001 Structure and Interpretation\n",
    "YouTubeVideo('-J_xL4IGhJA', width=853, height=480, start=20)  # of Computer Programs (until 3'55.)"
   ]
  },
  {
   "cell_type": "markdown",
   "id": "42e0bf3b",
   "metadata": {
    "slideshow": {
     "slide_type": "fragment"
    }
   },
   "source": [
    "<small>Source: [MIT 6.001 Structure and Interpretation of Computer Programs, 1986](https://www.youtube.com/playlist?list=PLE18841CABEA24090)</small>"
   ]
  },
  {
   "cell_type": "markdown",
   "id": "5dfa5c84",
   "metadata": {
    "slideshow": {
     "slide_type": "subslide"
    }
   },
   "source": [
    "Artificial Intelligence: not *quite* a science (it's a work in progress...)."
   ]
  },
  {
   "cell_type": "markdown",
   "id": "9e7c4d49",
   "metadata": {
    "slideshow": {
     "slide_type": "fragment"
    }
   },
   "source": [
    "It is *certainly* engineering, and many view it as a **(dark) art or magic**. 🧙"
   ]
  },
  {
   "cell_type": "markdown",
   "id": "7fbb96b4",
   "metadata": {
    "slideshow": {
     "slide_type": "fragment"
    }
   },
   "source": [
    "It's not really about computers, or accelerators (GPUs, TPUs)."
   ]
  },
  {
   "cell_type": "markdown",
   "id": "79d52bf9",
   "metadata": {
    "slideshow": {
     "slide_type": "fragment"
    }
   },
   "source": [
    "*Programming*: formalising *processes* (how-to-s, methods, *recipes*)."
   ]
  },
  {
   "cell_type": "markdown",
   "id": "588df674",
   "metadata": {
    "slideshow": {
     "slide_type": "fragment"
    }
   },
   "source": [
    "*Artificial Intelligence*: formalises *learning*."
   ]
  },
  {
   "cell_type": "markdown",
   "id": "c2f3abcc",
   "metadata": {
    "slideshow": {
     "slide_type": "slide"
    }
   },
   "source": [
    "## A few puzzles just for fun"
   ]
  },
  {
   "cell_type": "markdown",
   "id": "dc35bc03",
   "metadata": {
    "slideshow": {
     "slide_type": "fragment"
    }
   },
   "source": [
    "Any mobile in this room can do calculations almost no human is capable of. Are they intelligent?"
   ]
  },
  {
   "cell_type": "markdown",
   "id": "634b6127",
   "metadata": {
    "slideshow": {
     "slide_type": "fragment"
    }
   },
   "source": [
    "For many years, games like chess or Go were thought to be unreachable, the pinnacle of *intelligence*. Now it's a done deal."
   ]
  },
  {
   "cell_type": "markdown",
   "id": "e48f7d5c",
   "metadata": {
    "slideshow": {
     "slide_type": "fragment"
    }
   },
   "source": [
    "*Does that make networks AlphaGo and AlphaZero, who beat humans at these games, intelligent*? Or is it the same thing as your calculator?"
   ]
  },
  {
   "cell_type": "markdown",
   "id": "5a448d65",
   "metadata": {
    "slideshow": {
     "slide_type": "subslide"
    }
   },
   "source": [
    "In fact, *search algorithms* (finding shortest paths for instance) were the focus of AI research, and are still a part of many courses on the subject."
   ]
  },
  {
   "cell_type": "markdown",
   "id": "bdadc6ed",
   "metadata": {
    "slideshow": {
     "slide_type": "fragment"
    }
   },
   "source": [
    "But if a computer, given fixed rules (the algorithm), can do it, is it intelligence? "
   ]
  },
  {
   "cell_type": "markdown",
   "id": "76529ee3",
   "metadata": {
    "slideshow": {
     "slide_type": "fragment"
    }
   },
   "source": [
    "If we discover that many of the functions of *our brains* are \"just\", say, search algorithms, does this make us *dumb* (like computers)?"
   ]
  },
  {
   "cell_type": "markdown",
   "id": "845b74f9",
   "metadata": {
    "slideshow": {
     "slide_type": "fragment"
    }
   },
   "source": [
    "What if a *living organism* can do it??"
   ]
  },
  {
   "cell_type": "code",
   "execution_count": 13,
   "id": "8aff474c",
   "metadata": {
    "slideshow": {
     "slide_type": "subslide"
    }
   },
   "outputs": [
    {
     "data": {
      "image/jpeg": "[encoded data removed]",
      "text/html": [
       "\n",
       "        <iframe\n",
       "            width=\"853\"\n",
       "            height=\"480\"\n",
       "            src=\"https://www.youtube.com/embed/HyzT5b0tNtk\"\n",
       "            frameborder=\"0\"\n",
       "            allowfullscreen\n",
       "            \n",
       "        ></iframe>\n",
       "        "
      ],
      "text/plain": [
       "<IPython.lib.display.YouTubeVideo at 0x7fcdc84fd690>"
      ]
     },
     "execution_count": 13,
     "metadata": {},
     "output_type": "execute_result"
    }
   ],
   "source": [
    "YouTubeVideo('HyzT5b0tNtk', width=853, height=480) # Slime mold BBC"
   ]
  },
  {
   "cell_type": "markdown",
   "id": "214a1481",
   "metadata": {
    "slideshow": {
     "slide_type": "fragment"
    }
   },
   "source": [
    "This organism seems to be able to solve path-finding problems very well. Is it intelligent?"
   ]
  },
  {
   "cell_type": "markdown",
   "id": "cc878534",
   "metadata": {
    "slideshow": {
     "slide_type": "subslide"
    }
   },
   "source": [
    "More on the slime mould, it's way too cool, you can watch this in your own time."
   ]
  },
  {
   "cell_type": "code",
   "execution_count": 14,
   "id": "db64ca2e",
   "metadata": {
    "slideshow": {
     "slide_type": "fragment"
    }
   },
   "outputs": [
    {
     "data": {
      "image/jpeg": "[encoded data removed]",
      "text/html": [
       "\n",
       "        <iframe\n",
       "            width=\"853\"\n",
       "            height=\"480\"\n",
       "            src=\"https://www.youtube.com/embed/7YWbY7kWesI\"\n",
       "            frameborder=\"0\"\n",
       "            allowfullscreen\n",
       "            \n",
       "        ></iframe>\n",
       "        "
      ],
      "text/plain": [
       "<IPython.lib.display.YouTubeVideo at 0x7fcdc8503dd0>"
      ]
     },
     "execution_count": 14,
     "metadata": {},
     "output_type": "execute_result"
    }
   ],
   "source": [
    "YouTubeVideo('7YWbY7kWesI', width=853, height=480) # Slime mould Wired"
   ]
  },
  {
   "cell_type": "markdown",
   "id": "e1305bc5",
   "metadata": {
    "slideshow": {
     "slide_type": "subslide"
    }
   },
   "source": [
    "Another thing: does a lizard or a fly's ability to *see things* (\"this is food\", \"this is a predator\") make them intelligent? "
   ]
  },
  {
   "cell_type": "markdown",
   "id": "9ed8ad33",
   "metadata": {
    "slideshow": {
     "slide_type": "fragment"
    }
   },
   "source": [
    "If not, is a neural network trained to label images (\"this is a cat\", \"this is a stop sign\") intelligent?"
   ]
  },
  {
   "cell_type": "markdown",
   "id": "6714c3ab",
   "metadata": {
    "slideshow": {
     "slide_type": "fragment"
    }
   },
   "source": [
    "(One could think about the idea of *Artificial Perception* as a better name for many of the breakthroughs of the past decade...)"
   ]
  },
  {
   "cell_type": "markdown",
   "id": "7c4eedbf",
   "metadata": {
    "slideshow": {
     "slide_type": "subslide"
    }
   },
   "source": [
    "Recall the famous Richard Feynman quote: *What I cannot create, I do not understand.*"
   ]
  },
  {
   "cell_type": "markdown",
   "id": "94c32964",
   "metadata": {
    "slideshow": {
     "slide_type": "fragment"
    }
   },
   "source": [
    "The same argument could apply to intelligence? Do we even know what *intelligence* means?"
   ]
  },
  {
   "cell_type": "markdown",
   "id": "3ab4feeb",
   "metadata": {
    "slideshow": {
     "slide_type": "fragment"
    }
   },
   "source": [
    "Then we, humans, as a species, are slowly working toward knowing what *learning*, and *intelligence*, are."
   ]
  },
  {
   "cell_type": "markdown",
   "id": "82313e50",
   "metadata": {
    "slideshow": {
     "slide_type": "fragment"
    }
   },
   "source": [
    "One thing for sure, *we* are learning a lot trying to build it all!"
   ]
  },
  {
   "cell_type": "markdown",
   "id": "a08e7904",
   "metadata": {
    "slideshow": {
     "slide_type": "slide"
    }
   },
   "source": [
    "## The paradigm shift of machine learning"
   ]
  },
  {
   "cell_type": "markdown",
   "id": "b62f2159",
   "metadata": {
    "slideshow": {
     "slide_type": "fragment"
    }
   },
   "source": [
    "1950s-1980s: *symbolic AI*, which is the manipulation of symbols – like rearranging equations, or writing a program!"
   ]
  },
  {
   "cell_type": "markdown",
   "id": "eaeb097a",
   "metadata": {
    "slideshow": {
     "slide_type": "fragment"
    }
   },
   "source": [
    "\"If it is raining I will get wet. It is raining. Therefore I will get wet.\""
   ]
  },
  {
   "cell_type": "markdown",
   "id": "331c8536",
   "metadata": {
    "slideshow": {
     "slide_type": "fragment"
    }
   },
   "source": [
    "The idea works for tightly defined tasks such as chess, but struggles with *looser* tasks."
   ]
  },
  {
   "cell_type": "markdown",
   "id": "a26c8a5a-1bd0-440f-bc8c-5eb1218ea4ac",
   "metadata": {
    "slideshow": {
     "slide_type": "fragment"
    }
   },
   "source": [
    "For example, image classification and speech recognition."
   ]
  },
  {
   "cell_type": "markdown",
   "id": "eb9602c5",
   "metadata": {
    "slideshow": {
     "slide_type": "subslide"
    }
   },
   "source": [
    "In the *symbolic* paradigm, the rules are codified as a program."
   ]
  },
  {
   "cell_type": "markdown",
   "id": "5a5c139a",
   "metadata": {
    "slideshow": {
     "slide_type": "fragment"
    }
   },
   "source": [
    "The answers are computed from data."
   ]
  },
  {
   "cell_type": "markdown",
   "id": "0aff4cff-c85b-4daf-a93a-5020a55df8b3",
   "metadata": {
    "slideshow": {
     "slide_type": "fragment"
    }
   },
   "source": [
    "For example: what is the best chess move?"
   ]
  },
  {
   "cell_type": "markdown",
   "id": "4c49d030",
   "metadata": {
    "slideshow": {
     "slide_type": "subslide"
    }
   },
   "source": [
    "1990s: Machine learning (\"Classical\" ML): Random Forests, Support Vector Machines"
   ]
  },
  {
   "cell_type": "markdown",
   "id": "7a86ca1a",
   "metadata": {
    "slideshow": {
     "slide_type": "fragment"
    }
   },
   "source": [
    "2010s: Deep learning"
   ]
  },
  {
   "cell_type": "markdown",
   "id": "8f8e0c8a-065d-4d7f-b390-6a707a4afb8b",
   "metadata": {
    "slideshow": {
     "slide_type": "fragment"
    }
   },
   "source": [
    "Hard coded rules are replaced with a *statistical model*."
   ]
  },
  {
   "cell_type": "markdown",
   "id": "49721cf3",
   "metadata": {
    "slideshow": {
     "slide_type": "fragment"
    }
   },
   "source": [
    "Rules are **learned**, by comparing our output with the desired response."
   ]
  },
  {
   "cell_type": "markdown",
   "id": "73727845",
   "metadata": {
    "slideshow": {
     "slide_type": "fragment"
    }
   },
   "source": [
    "The program is trying to find **map** between an input and a target, by creating **internal representations**."
   ]
  },
  {
   "cell_type": "markdown",
   "id": "badc5923",
   "metadata": {
    "slideshow": {
     "slide_type": "subslide"
    }
   },
   "source": [
    "![Classical ML shift](images/chollet.programming-ml-shift.png)\n",
    "\n",
    "<small>DLWP, p. 4</small>"
   ]
  },
  {
   "cell_type": "markdown",
   "id": "1c016e51",
   "metadata": {
    "slideshow": {
     "slide_type": "subslide"
    }
   },
   "source": [
    "The model is **trained** on  data."
   ]
  },
  {
   "cell_type": "markdown",
   "id": "48c1af33",
   "metadata": {
    "slideshow": {
     "slide_type": "fragment"
    }
   },
   "source": [
    "The rules are implicit instead of hardcoded."
   ]
  },
  {
   "cell_type": "markdown",
   "id": "3a41685d",
   "metadata": {
    "slideshow": {
     "slide_type": "fragment"
    }
   },
   "source": [
    "Or, better put, there is a level of rules that is *explicit*, which sets up a context in which the *implicit* rules are **learnt**, or **emerge**, from the training process."
   ]
  },
  {
   "cell_type": "markdown",
   "id": "fb296e44-db59-48a4-a5e6-3dea62ba687f",
   "metadata": {
    "slideshow": {
     "slide_type": "fragment"
    }
   },
   "source": [
    "For example: predict an image tag (feed an image, the program gives you \"cat\", or \"dog\", etc.)."
   ]
  },
  {
   "cell_type": "markdown",
   "id": "23650513",
   "metadata": {
    "slideshow": {
     "slide_type": "fragment"
    }
   },
   "source": [
    "This also means that the rules the algorithm comes up with are **unknown** (a bit like our brains)."
   ]
  },
  {
   "cell_type": "markdown",
   "id": "09229715",
   "metadata": {
    "slideshow": {
     "slide_type": "slide"
    }
   },
   "source": [
    "[![xkcd data](images/xkcd-data.png)](https://twitter.com/MIT_CSAIL/status/1571529480081850369?t=_YJZE31qe4MT0pTvWfQnig&s=03)"
   ]
  },
  {
   "cell_type": "markdown",
   "id": "0a50b312-d6d3-4d8d-9ea0-56ddde8ea219",
   "metadata": {
    "slideshow": {
     "slide_type": "subslide"
    }
   },
   "source": [
    "![Diagram](images/AI-ML-DL.png)"
   ]
  },
  {
   "cell_type": "markdown",
   "id": "5c6146b9",
   "metadata": {
    "slideshow": {
     "slide_type": "subslide"
    }
   },
   "source": [
    "<img  style=\"width: auto; height: 700px;\" src=\"images/MIT_DeepLearning_L1.pdf.png\"> \n",
    "<!-- <img  style=\"width: auto; height: 700px;\" src=\"https://drive.google.com/uc?id=1nUZNmDyek7RA0gEVWFGFyjgJUF2dFxxc\"> -->\n",
    "\n",
    "[MIT 6.S191 Introduction to Deep Learning](http://introtodeeplearning.com)"
   ]
  },
  {
   "cell_type": "markdown",
   "id": "afce7091",
   "metadata": {
    "slideshow": {
     "slide_type": "subslide"
    }
   },
   "source": [
    "Within the current Deep Learning landscape, *mostly* three categories:"
   ]
  },
  {
   "cell_type": "markdown",
   "id": "ad8df20b",
   "metadata": {
    "slideshow": {
     "slide_type": "fragment"
    }
   },
   "source": [
    "- **supervised learning**: the right answer for the task is available (like a test with right and wrong answers);"
   ]
  },
  {
   "cell_type": "markdown",
   "id": "3eae559e",
   "metadata": {
    "slideshow": {
     "slide_type": "fragment"
    }
   },
   "source": [
    "- **unsupervised/self-supervised learning**: the right answer is not available, but we can use the *data itself* as if it was the right answer;"
   ]
  },
  {
   "cell_type": "markdown",
   "id": "6293cd67",
   "metadata": {
    "slideshow": {
     "slide_type": "fragment"
    }
   },
   "source": [
    "- **reinforcement learning**: after a potentially long trajectory and many actions, we reach, or fail to reach, a goal, and get a reward."
   ]
  },
  {
   "cell_type": "markdown",
   "id": "7e5ba859",
   "metadata": {
    "slideshow": {
     "slide_type": "fragment"
    }
   },
   "source": [
    "We will be focussing on the first two categories."
   ]
  },
  {
   "cell_type": "markdown",
   "id": "c602f4ca",
   "metadata": {
    "slideshow": {
     "slide_type": "subslide"
    }
   },
   "source": [
    "<img src=\"images/lecake.png\" style=\"width: auto; height: 700px;\">\n",
    "\n",
    "[Predictive Learning, NIPS 2016 | Yann LeCun, Facebook Research](https://youtu.be/Ount2Y4qxQo?t=1154)"
   ]
  },
  {
   "cell_type": "markdown",
   "id": "c9bd9012",
   "metadata": {
    "slideshow": {
     "slide_type": "subslide"
    }
   },
   "source": [
    "For those of you who are curious, I included here the recording of when LeCun presents this slide for the first time, saying he got a lot of flak for it, and apologising."
   ]
  },
  {
   "cell_type": "code",
   "execution_count": 4,
   "id": "edb030e5",
   "metadata": {
    "slideshow": {
     "slide_type": "fragment"
    }
   },
   "outputs": [
    {
     "data": {
      "image/jpeg": "[encoded data removed]",
      "text/html": [
       "\n",
       "        <iframe\n",
       "            width=\"853\"\n",
       "            height=\"480\"\n",
       "            src=\"https://www.youtube.com/embed/Ount2Y4qxQo?start=1154\"\n",
       "            frameborder=\"0\"\n",
       "            allowfullscreen\n",
       "            \n",
       "        ></iframe>\n",
       "        "
      ],
      "text/plain": [
       "<IPython.lib.display.YouTubeVideo at 0x7fcdc84f7150>"
      ]
     },
     "execution_count": 4,
     "metadata": {},
     "output_type": "execute_result"
    }
   ],
   "source": [
    "YouTubeVideo('Ount2Y4qxQo', width=853, height=480, start=1154) # LeCun LeCake"
   ]
  },
  {
   "cell_type": "markdown",
   "id": "909a061f",
   "metadata": {
    "slideshow": {
     "slide_type": "fragment"
    }
   },
   "source": [
    " He did get a lot of flak for it, I think."
   ]
  },
  {
   "cell_type": "markdown",
   "id": "bfef6511",
   "metadata": {
    "slideshow": {
     "slide_type": "slide"
    }
   },
   "source": [
    "## Why the current boom?"
   ]
  },
  {
   "cell_type": "markdown",
   "id": "65efd2fc",
   "metadata": {
    "slideshow": {
     "slide_type": "fragment"
    }
   },
   "source": [
    "The success of deep learning – learning with neural networks – is very recent!"
   ]
  },
  {
   "cell_type": "markdown",
   "id": "4e1894c4",
   "metadata": {
    "slideshow": {
     "slide_type": "fragment"
    }
   },
   "source": [
    "> On **30 September 2012**, a convolutional neural network (CNN) called **AlexNet** achieved a top-5 error of 15.3% in the **ImageNet** 2012 Challenge, more than 10.8 percentage points lower than that of the runner up. This was made feasible due to the use of graphics processing units (GPUs) during training, an essential ingredient of the deep learning revolution. According to The Economist, \"Suddenly people started to pay attention, not just within the AI community but across the technology industry as a whole.\" ([Wikipedia](https://en.wikipedia.org/wiki/ImageNet#Significance_for_deep_learning), *my emphasis*)"
   ]
  },
  {
   "cell_type": "markdown",
   "id": "7ac4ec42",
   "metadata": {
    "slideshow": {
     "slide_type": "subslide"
    }
   },
   "source": [
    "Machine learning, and deep learning in particular, rely on huge data sets and enormous **compute power**."
   ]
  },
  {
   "cell_type": "markdown",
   "id": "b33ffd53",
   "metadata": {
    "slideshow": {
     "slide_type": "fragment"
    }
   },
   "source": [
    "The first neural networks were invented in the '50s, but even in the '80s and '90s the sheer computation required meant most people thought it was impossible."
   ]
  },
  {
   "cell_type": "markdown",
   "id": "cf29e61c-58cb-40b7-bb92-b83d1e522b94",
   "metadata": {
    "slideshow": {
     "slide_type": "fragment"
    }
   },
   "source": [
    "Fun fact: it is the rise of video games, that created a **huge** demande for graphics hardware (Graphics Processing Units, or GPU), that enabled the current Deep Learning boom. (Graphics also require large amounts of optimised matrix operations, like neural networks.)"
   ]
  },
  {
   "cell_type": "markdown",
   "id": "f0efc96a",
   "metadata": {
    "slideshow": {
     "slide_type": "subslide"
    }
   },
   "source": [
    "<img src=\"images/deep-learning-rise-scale.png\" style=\"width: auto; height: 700px;\">\n",
    "\n",
    "<small>[Andrew Ng, DeepLearning.ai, Stanford](https://cs230.stanford.edu/files/C1M1.pdf), [Stanford CS230, C1M1](https://cs230.stanford.edu/syllabus/)</small>\n"
   ]
  },
  {
   "cell_type": "markdown",
   "id": "6506ffd8",
   "metadata": {
    "slideshow": {
     "slide_type": "subslide"
    }
   },
   "source": [
    "The field **lacks a firm mathematical base**: engineers got there first, and now theorists are working to try and explain what is happening."
   ]
  },
  {
   "cell_type": "markdown",
   "id": "d3428867",
   "metadata": {
    "slideshow": {
     "slide_type": "fragment"
    }
   },
   "source": [
    "It is truly an engineering field: it is **hands-on**, **empirical**, based on **know-how**."
   ]
  },
  {
   "cell_type": "markdown",
   "id": "e1f54175",
   "metadata": {
    "slideshow": {
     "slide_type": "fragment"
    }
   },
   "source": [
    "Good math knowledge is essential, especially at a high level or for research, but so does intuition and a readiness to **tinker**."
   ]
  },
  {
   "cell_type": "markdown",
   "id": "f61d00f4",
   "metadata": {
    "slideshow": {
     "slide_type": "subslide"
    }
   },
   "source": [
    "Machine and deep learning are ultimately the search for **transformations** of data into something meaningful. "
   ]
  },
  {
   "cell_type": "markdown",
   "id": "3f34ec4e",
   "metadata": {
    "slideshow": {
     "slide_type": "fragment"
    }
   },
   "source": [
    "What is a 'data transformation' and what does 'something meaningful'?"
   ]
  },
  {
   "cell_type": "markdown",
   "id": "9caf6583-6e73-4ba4-b6eb-6b8ec81318f2",
   "metadata": {
    "slideshow": {
     "slide_type": "slide"
    }
   },
   "source": [
    "---\n",
    "\n",
    "# 1.1.3-1.1.4 Learning representations"
   ]
  },
  {
   "cell_type": "markdown",
   "id": "3ea02a3a",
   "metadata": {
    "slideshow": {
     "slide_type": "subslide"
    }
   },
   "source": [
    "Supervised machine learning requires:"
   ]
  },
  {
   "cell_type": "markdown",
   "id": "03402d27",
   "metadata": {
    "slideshow": {
     "slide_type": "fragment"
    }
   },
   "source": [
    "- **input data**, e.g. images of dogs and cats;"
   ]
  },
  {
   "cell_type": "markdown",
   "id": "c2959528",
   "metadata": {
    "slideshow": {
     "slide_type": "fragment"
    }
   },
   "source": [
    "- **output expectation**, e.g. image labels (which ones are cats or dogs); "
   ]
  },
  {
   "cell_type": "markdown",
   "id": "fd47f7a2",
   "metadata": {
    "slideshow": {
     "slide_type": "fragment"
    }
   },
   "source": [
    "- a **measure** of the difference between output and expectation, that we will call this **loss** or **cost**."
   ]
  },
  {
   "cell_type": "markdown",
   "id": "894d696d",
   "metadata": {
    "slideshow": {
     "slide_type": "subslide"
    }
   },
   "source": [
    "The model, as it were, plays a game: **guessing** what the right labels are. "
   ]
  },
  {
   "cell_type": "markdown",
   "id": "306c1236",
   "metadata": {
    "slideshow": {
     "slide_type": "fragment"
    }
   },
   "source": [
    "Then, the measure will tell it how right or wrong its prediction was."
   ]
  },
  {
   "cell_type": "markdown",
   "id": "f7a839e9",
   "metadata": {
    "slideshow": {
     "slide_type": "fragment"
    }
   },
   "source": [
    "After that, the model will **adjust** itself and try again, hoping to make better predictions."
   ]
  },
  {
   "cell_type": "markdown",
   "id": "cbd5c951-957c-40ea-a72d-08b584872cdb",
   "metadata": {
    "slideshow": {
     "slide_type": "fragment"
    }
   },
   "source": [
    "Because of the adjustment step, this whole process is called **learning**."
   ]
  },
  {
   "cell_type": "markdown",
   "id": "06f0cc44",
   "metadata": {
    "slideshow": {
     "slide_type": "subslide"
    }
   },
   "source": [
    "The main thing to realise here is that the **rules** for how to distinguish a dog from a cat are **not given to the system**. The system must figure them out!"
   ]
  },
  {
   "cell_type": "markdown",
   "id": "3caca97a",
   "metadata": {
    "slideshow": {
     "slide_type": "fragment"
    }
   },
   "source": [
    "Something like *f(\"photo of a cat\") = \"cat\"*"
   ]
  },
  {
   "cell_type": "markdown",
   "id": "892164e6",
   "metadata": {
    "slideshow": {
     "slide_type": "fragment"
    }
   },
   "source": [
    "In order to do that, data is progressively transformed into a series of **intermediate representations**."
   ]
  },
  {
   "cell_type": "markdown",
   "id": "d65d7325-a2a1-406d-adfc-f8a003beffa8",
   "metadata": {
    "slideshow": {
     "slide_type": "fragment"
    }
   },
   "source": [
    "A **statistical model** (a neural net) learns a combined transformation from input data (pixels) into a meaningful output (\"cat\")."
   ]
  },
  {
   "cell_type": "markdown",
   "id": "c906311a",
   "metadata": {
    "slideshow": {
     "slide_type": "subslide"
    }
   },
   "source": [
    "### A simple example"
   ]
  },
  {
   "cell_type": "markdown",
   "id": "527d1f66",
   "metadata": {
    "slideshow": {
     "slide_type": "fragment"
    }
   },
   "source": [
    "We have a bunch of 2D data points (x, y), and each point can be 'red' or 'black'."
   ]
  },
  {
   "cell_type": "markdown",
   "id": "e0bef58c-675b-41a3-a60f-a401304b8200",
   "metadata": {
    "slideshow": {
     "slide_type": "fragment"
    }
   },
   "source": [
    "Seek a transformation $(x, y) \\to \\{\\text{red}, \\text{black}\\}$."
   ]
  },
  {
   "cell_type": "code",
   "execution_count": 5,
   "id": "e0df29e2-41a0-438b-8f24-f246cfc10eac",
   "metadata": {
    "slideshow": {
     "slide_type": "skip"
    }
   },
   "outputs": [],
   "source": [
    "import numpy as np\n",
    "import matplotlib.pyplot as plt\n",
    "plt.rcParams['image.cmap'] = 'plasma' # nice colours\n",
    "plt.rcParams['lines.markersize'] = 3 # nice scatter point size\n",
    "\n",
    "num_points = 100\n",
    "\n",
    "# np.random.random generates floats from 0 to 1\n",
    "# multiply those by two and subtract one to get num_points points between -1 and 1\n",
    "x = -1 + 2 * np.random.random(num_points)\n",
    "\n",
    "# the Euclidean (L2) distance between our points and the limit (1 == 1**2)\n",
    "# the closer a point is to 1 or -1, the lower its corresponding value in L will be\n",
    "L = np.sqrt(1 - x * x)\n",
    "\n",
    "# use the distance measure when generating y (otherwise also using the same np.random.random)\n",
    "# if an x is close to 1 or -1 (larger), the y will be correspondingly smaller\n",
    "# the effect of this is to distribute the data on a disk of radius 1 (instead of uniformly → a square)\n",
    "y = L * (-1 + 2 * np.random.random(num_points))\n",
    "\n",
    "# for uniformly distributed data:\n",
    "# y = -1 + 2 * np.random.random(num_points)\n",
    "\n",
    "# we use a hypothetical line, y = -2x to split our data:\n",
    "# every point on or below it will be red, every point above black\n",
    "\n",
    "slope = -2 # we define a variable here as we need it later\n",
    "def f(x, slope=slope):\n",
    "    return slope*x\n",
    "\n",
    "x_black = x[y > f(x)] # if y is above f(x) == -2x, black\n",
    "y_black = y[y > f(x)]\n",
    "\n",
    "x_red = x[y <= f(x)] # if y is on or below f(x) == -2x, black\n",
    "y_red = y[y <= f(x)]"
   ]
  },
  {
   "cell_type": "code",
   "execution_count": 6,
   "id": "a2f217fa-f6f5-404a-978e-c40560c21a58",
   "metadata": {
    "slideshow": {
     "slide_type": "skip"
    }
   },
   "outputs": [],
   "source": [
    "def plot_data():\n",
    "    \n",
    "    plt.axes().set_aspect('equal')\n",
    "    plt.plot(x_black, y_black, 'ko')\n",
    "    plt.plot(x_red, y_red, 'ro')\n",
    "\n",
    "    u = np.linspace(-1, 1, 100)\n",
    "    v = np.zeros(100)\n",
    "    \n",
    "    plt.plot(u, v, 'b')\n",
    "    plt.plot(v, u, 'b')\n",
    "    plt.show()"
   ]
  },
  {
   "cell_type": "code",
   "execution_count": 7,
   "id": "cd1cf91c-0dd2-4b9b-ad3a-8f09f1558b89",
   "metadata": {
    "slideshow": {
     "slide_type": "skip"
    }
   },
   "outputs": [],
   "source": [
    "def print_data():\n",
    "    for i in range(len(x)):\n",
    "        label = 'black' if y[i] > f(x[i]) else 'red'\n",
    "        print(f'{x[i]: 12.10f}', ', ', f'{y[i]: 12.10f}', '\\t', label,  sep='')"
   ]
  },
  {
   "cell_type": "markdown",
   "id": "1272b077",
   "metadata": {
    "slideshow": {
     "slide_type": "subslide"
    }
   },
   "source": [
    "Here is the data set, as the machine 'sees' it. Is there a simple association between (x, y) and red/black?  "
   ]
  },
  {
   "cell_type": "code",
   "execution_count": 8,
   "id": "c1d45448-a8b3-4fd7-a486-f865e1bb2d2f",
   "metadata": {
    "slideshow": {
     "slide_type": "fragment"
    }
   },
   "outputs": [
    {
     "name": "stdout",
     "output_type": "stream",
     "text": [
      "-0.7142792073,  0.4870747010\tred\n",
      "-0.3002514645,  0.9408257392\tblack\n",
      " 0.1410348335, -0.8258069016\tred\n",
      " 0.1921617812,  0.9258076411\tblack\n",
      " 0.2155190658, -0.8990744202\tred\n",
      " 0.0172112883,  0.4936807121\tblack\n",
      "-0.1368242056,  0.6698019001\tblack\n",
      " 0.3526053266,  0.1350326066\tblack\n",
      " 0.0227260479,  0.3826275105\tblack\n",
      " 0.6904348471, -0.4825821272\tblack\n",
      "-0.5200176155, -0.0557160390\tred\n",
      " 0.9721455991, -0.1071617035\tblack\n",
      " 0.1698175961, -0.9041188941\tred\n",
      "-0.7975400901, -0.0785685277\tred\n",
      "-0.6844825813,  0.1184346430\tred\n",
      "-0.6122027256, -0.5978391371\tred\n",
      " 0.7059534291,  0.0679347420\tblack\n",
      " 0.4930770503,  0.4862920556\tblack\n",
      "-0.9315058741, -0.2839372873\tred\n",
      "-0.7315675405,  0.4392692420\tred\n",
      "-0.2755191159,  0.2691565168\tred\n",
      "-0.8518467378,  0.2170318721\tred\n",
      " 0.1008789898,  0.4192680260\tblack\n",
      " 0.7086962920,  0.0666663815\tblack\n",
      " 0.0354036801,  0.6864798747\tblack\n",
      " 0.8583015727,  0.1594474691\tblack\n",
      "-0.0173969976, -0.1401126284\tred\n",
      " 0.1647081649,  0.7119685527\tblack\n",
      "-0.6857790177, -0.3111339173\tred\n",
      " 0.3263564750, -0.1975744002\tblack\n",
      "-0.5613187443, -0.2249066848\tred\n",
      "-0.0024123101,  0.7554718576\tblack\n",
      " 0.2749249639, -0.0391253502\tblack\n",
      " 0.9811860908,  0.1167291260\tblack\n",
      "-0.2718084679, -0.8333025544\tred\n",
      " 0.6007869414,  0.6553811045\tblack\n",
      " 0.2688716972,  0.5670686829\tblack\n",
      "-0.9252520383,  0.2756748166\tred\n",
      "-0.2935574892,  0.4367943584\tred\n",
      " 0.8641208030, -0.3782669319\tblack\n",
      " 0.0129386311,  0.1638328362\tblack\n",
      " 0.0160646225,  0.9482381102\tblack\n",
      "-0.0865165104, -0.2613198140\tred\n",
      "-0.8244586591, -0.4878179419\tred\n",
      "-0.3468243764,  0.2719023826\tred\n",
      "-0.4036221957, -0.7373777104\tred\n",
      "-0.7389775871, -0.3460685359\tred\n",
      " 0.7759312241, -0.0469167225\tblack\n",
      "-0.9021746659,  0.2998948432\tred\n",
      " 0.2179852129, -0.9295266219\tred\n",
      "-0.2724040884,  0.9174774692\tblack\n",
      " 0.2915547949,  0.4628987920\tblack\n",
      " 0.5072989847, -0.4873328017\tblack\n",
      "-0.4795198094, -0.7472988266\tred\n",
      "-0.3428412053,  0.4783380409\tred\n",
      "-0.6063544059,  0.6044821495\tred\n",
      "-0.7041206725, -0.6985441595\tred\n",
      " 0.2079890327, -0.2255988590\tblack\n",
      " 0.1708073237,  0.3031597727\tblack\n",
      "-0.1963858204, -0.5002027857\tred\n",
      " 0.5520565493, -0.4240749052\tblack\n",
      " 0.1031930447, -0.8839496418\tred\n",
      " 0.9115768526, -0.0065430379\tblack\n",
      " 0.5237319589,  0.3336722700\tblack\n",
      " 0.6247042023, -0.4124065799\tblack\n",
      "-0.7579145797, -0.2887054125\tred\n",
      "-0.0831252865, -0.8517799815\tred\n",
      "-0.2490669103,  0.3144485574\tred\n",
      " 0.7901911151,  0.0930767368\tblack\n",
      " 0.8815299470, -0.4181847978\tblack\n",
      " 0.3251285912, -0.8192449618\tred\n",
      " 0.2519698948,  0.6324134645\tblack\n",
      "-0.0795165073, -0.9747348540\tred\n",
      " 0.0614379836, -0.2813676649\tred\n",
      "-0.9048733822, -0.2775578656\tred\n",
      "-0.6813450203,  0.0572033158\tred\n",
      "-0.6398599878,  0.3718618467\tred\n",
      " 0.3218627820,  0.0704793434\tblack\n",
      "-0.2423985749, -0.1009794937\tred\n",
      " 0.6375098725, -0.3855060711\tblack\n",
      " 0.8960431909,  0.0273300077\tblack\n",
      " 0.7607182547,  0.5727118417\tblack\n",
      " 0.9422247199,  0.3060141771\tblack\n",
      "-0.8693011597, -0.1659543325\tred\n",
      " 0.7023255280,  0.5681078749\tblack\n",
      "-0.2980068595,  0.9093300484\tblack\n",
      "-0.8994947854, -0.2391307632\tred\n",
      " 0.8760753941,  0.4208289126\tblack\n",
      " 0.7104987738,  0.4488709787\tblack\n",
      " 0.4233852329,  0.7370716190\tblack\n",
      " 0.9295909001, -0.1103290053\tblack\n",
      "-0.0363643912, -0.8505585465\tred\n",
      " 0.5406268208,  0.7541235596\tblack\n",
      "-0.5988443697,  0.5568618192\tred\n",
      " 0.1370496299, -0.9442978857\tred\n",
      " 0.0884615977, -0.2068061670\tred\n",
      " 0.2038827989, -0.9707814625\tred\n",
      " 0.3057399928, -0.4929572198\tblack\n",
      "-0.8998931360, -0.0977511709\tred\n",
      "-0.6325917426,  0.0834029007\tred\n"
     ]
    }
   ],
   "source": [
    "print_data()"
   ]
  },
  {
   "cell_type": "markdown",
   "id": "3c720216",
   "metadata": {
    "slideshow": {
     "slide_type": "subslide"
    }
   },
   "source": [
    "The machine seeks a transformation\n",
    "\n",
    "\\begin{align*}\n",
    "x' &= w_{11} x + w_{12} y \\\\\n",
    "y' &= w_{21} x + w_{22} y\n",
    "\\end{align*}\n",
    "\n",
    "such that\n",
    "\n",
    "\\begin{align*}\n",
    "x' > 0 &\\implies \\text{ 'black'} \\\\\n",
    "x' \\le 0 &\\implies \\text{ 'red'}\n",
    "\\end{align*}"
   ]
  },
  {
   "cell_type": "markdown",
   "id": "3b5ad9cd-8df7-4812-b7af-28ddd3ac48e8",
   "metadata": {
    "slideshow": {
     "slide_type": "fragment"
    }
   },
   "source": [
    "$w_{11}$, $w_{12}$, $w_{21}$, and $w_{22}$ are adjustable parameters. They specify a particular linear transformation. \n",
    "\n",
    "After that, all point with a positive x will be black, the rest red."
   ]
  },
  {
   "cell_type": "markdown",
   "id": "c80fe38c",
   "metadata": {
    "slideshow": {
     "slide_type": "subslide"
    }
   },
   "source": [
    "The machine starts with **random** parameter values."
   ]
  },
  {
   "cell_type": "markdown",
   "id": "e4cd8df0",
   "metadata": {
    "slideshow": {
     "slide_type": "fragment"
    }
   },
   "source": [
    "The machine makes attempts (**guesses**), and the parameters are tweaked iteratively."
   ]
  },
  {
   "cell_type": "markdown",
   "id": "692f3768-7732-45b2-8323-5e03112c9b74",
   "metadata": {
    "slideshow": {
     "slide_type": "fragment"
    }
   },
   "source": [
    "Trials are informed by the error (the **loss**)."
   ]
  },
  {
   "cell_type": "markdown",
   "id": "10d7cfbe-e303-44de-956c-18d2aa645f0c",
   "metadata": {
    "slideshow": {
     "slide_type": "subslide"
    }
   },
   "source": [
    "After much hunting, the machine discovers that\n",
    "\n",
    "\\begin{align*}\n",
    "w_{11} &= 0.8944271909999159 \\\\\n",
    "w_{12} &= 0.447213595499958 \\\\\n",
    "w_{21} &= -0.447213595499958 \\\\\n",
    "w_{22} &= 0.8944271909999159\n",
    "\\end{align*}\n",
    "\n",
    "enable a correct prediction $x' > 0 \\implies \\text{ 'black'}$, otherwise 'red'."
   ]
  },
  {
   "cell_type": "code",
   "execution_count": 9,
   "id": "a36312f0-1fe8-4f5a-af89-8150228ab573",
   "metadata": {
    "slideshow": {
     "slide_type": "skip"
    }
   },
   "outputs": [],
   "source": [
    "p_black = np.column_stack((x_black, y_black))\n",
    "p_red = np.column_stack((x_red, y_red))\n",
    "\n",
    "import math\n",
    "theta = math.atan(1/slope)\n",
    "\n",
    "A = np.array([[np.cos(theta), -np.sin(theta)], [np.sin(theta), np.cos(theta)]])\n",
    "p_black_rot = np.dot(p_black, A.T)\n",
    "p_red_rot = np.dot(p_red, A.T)"
   ]
  },
  {
   "cell_type": "code",
   "execution_count": 10,
   "id": "c73fad1b-8159-4c7c-ad18-48bf7cfab351",
   "metadata": {
    "slideshow": {
     "slide_type": "skip"
    }
   },
   "outputs": [],
   "source": [
    "def plot_rotated():\n",
    "    \n",
    "    plt.axes().set_aspect('equal')\n",
    "    plt.plot(p_black_rot[:, 0], p_black_rot[:, 1], 'ko')\n",
    "    plt.plot(p_red_rot[:, 0], p_red_rot[:, 1], 'ro')\n",
    "\n",
    "    u = np.linspace(-1, 1, 100)\n",
    "    v = np.zeros(100)\n",
    "\n",
    "    plt.plot(u, v, 'b')\n",
    "    plt.plot(v, u, 'b')\n",
    "    plt.show()"
   ]
  },
  {
   "cell_type": "markdown",
   "id": "45d630b5",
   "metadata": {
    "slideshow": {
     "slide_type": "subslide"
    }
   },
   "source": [
    "A visual representation of the data provides immediate human understanding. But machines do not have visual cortices (yet)!"
   ]
  },
  {
   "cell_type": "code",
   "execution_count": 11,
   "id": "66117113-7b26-4e49-af65-1406effc0c3d",
   "metadata": {
    "slideshow": {
     "slide_type": "fragment"
    }
   },
   "outputs": [
    {
     "data": {
      "image/png": "[encoded data removed]",
      "text/plain": [
       "<Figure size 640x480 with 1 Axes>"
      ]
     },
     "metadata": {},
     "output_type": "display_data"
    }
   ],
   "source": [
    "plot_data()"
   ]
  },
  {
   "cell_type": "markdown",
   "id": "dc846c02-f24e-42da-894e-abee4661431e",
   "metadata": {
    "slideshow": {
     "slide_type": "skip"
    }
   },
   "source": [
    "Rotate points about $O$\n",
    "\n",
    "\\begin{equation*}\n",
    "\\begin{bmatrix}\n",
    "x' \\\\\n",
    "y'\n",
    "\\end{bmatrix} = \\begin{bmatrix}\n",
    "\\cos \\theta & -\\sin \\theta \\\\\n",
    "\\sin \\theta & \\cos \\theta\n",
    "\\end{bmatrix}\n",
    "\\begin{bmatrix}\n",
    "x \\\\\n",
    "y\n",
    "\\end{bmatrix}\n",
    "\\end{equation*}"
   ]
  },
  {
   "cell_type": "code",
   "execution_count": 12,
   "id": "e538169d-5481-4e5f-81db-6cda711b7ca8",
   "metadata": {
    "slideshow": {
     "slide_type": "subslide"
    }
   },
   "outputs": [
    {
     "data": {
      "image/png": "[encoded data removed]",
      "text/plain": [
       "<Figure size 640x480 with 1 Axes>"
      ]
     },
     "metadata": {},
     "output_type": "display_data"
    }
   ],
   "source": [
    "plot_rotated() # after applying the transformation!"
   ]
  },
  {
   "cell_type": "markdown",
   "id": "affa7aba-2874-4c3f-a3f5-fc26e1d15fb7",
   "metadata": {
    "slideshow": {
     "slide_type": "fragment"
    }
   },
   "source": [
    "The machine has discovered that data merely needs to be rotated."
   ]
  },
  {
   "cell_type": "markdown",
   "id": "6d130439-4e7c-4855-9fd8-fbc4f41fb8b6",
   "metadata": {
    "slideshow": {
     "slide_type": "skip"
    }
   },
   "source": [
    "The data points are separated by a line\n",
    "\n",
    "\\begin{align*}\n",
    "2x + y \\ge 0 &\\implies \\text{ black} \\\\\n",
    "2x + y < 0 &\\implies \\text{ red}\n",
    "\\end{align*}"
   ]
  },
  {
   "cell_type": "code",
   "execution_count": 13,
   "id": "caff7c22-497d-4077-8d74-842741ed836b",
   "metadata": {
    "slideshow": {
     "slide_type": "skip"
    }
   },
   "outputs": [],
   "source": [
    "def plot_line():\n",
    "    \n",
    "    plt.axes().set_aspect('equal')\n",
    "    plt.plot(x_black, y_black, 'ko')\n",
    "    plt.plot(x_red, y_red, 'ro')\n",
    "\n",
    "    u = np.linspace(-1, 1, 100)\n",
    "    v = np.zeros(100)\n",
    "    w = np.linspace(-1/slope, 1/slope, 100)  \n",
    "    \n",
    "    plt.plot(u, v, 'b')\n",
    "    plt.plot(v, u, 'b')\n",
    "    plt.plot(w, f(w), 'g')\n",
    "    plt.show() "
   ]
  },
  {
   "cell_type": "code",
   "execution_count": 14,
   "id": "158e3894-3110-4e79-b807-c564429ef16c",
   "metadata": {
    "slideshow": {
     "slide_type": "skip"
    }
   },
   "outputs": [
    {
     "data": {
      "image/png": "[encoded data removed]",
      "text/plain": [
       "<Figure size 640x480 with 1 Axes>"
      ]
     },
     "metadata": {},
     "output_type": "display_data"
    }
   ],
   "source": [
    "plot_line()"
   ]
  },
  {
   "cell_type": "markdown",
   "id": "38b47bcc",
   "metadata": {
    "slideshow": {
     "slide_type": "subslide"
    }
   },
   "source": [
    "Learning is the automatic search for **meaningful representations**."
   ]
  },
  {
   "cell_type": "markdown",
   "id": "38b6be3d-1bef-427d-9059-5525af5f9560",
   "metadata": {
    "slideshow": {
     "slide_type": "fragment"
    }
   },
   "source": [
    "In our example, we start in the 2D space, and we end up in a space of two elements, 'red' and 'black', and we want our points to land on the right label!"
   ]
  },
  {
   "cell_type": "markdown",
   "id": "29d05fc0",
   "metadata": {
    "slideshow": {
     "slide_type": "fragment"
    }
   },
   "source": [
    "Possible transformations include:"
   ]
  },
  {
   "cell_type": "markdown",
   "id": "500d22d3",
   "metadata": {
    "slideshow": {
     "slide_type": "fragment"
    }
   },
   "source": [
    "- rotations,\n",
    "\n",
    "- translations,\n",
    "\n",
    "- linear projections,\n",
    "\n",
    "- and nonlinear operations such as select all points with $x > 0$..."
   ]
  },
  {
   "cell_type": "code",
   "execution_count": 15,
   "id": "6ead9dcf-b8d7-41e4-9b5c-ab47fa828269",
   "metadata": {
    "slideshow": {
     "slide_type": "skip"
    }
   },
   "outputs": [],
   "source": [
    "def print_transformed():\n",
    "    for i in range(len(x)):\n",
    "        x_trans = np.cos(theta) * x[i] - np.sin(theta) * y[i]\n",
    "        y_trans = np.sin(theta) * x[i] + np.cos(theta) * y[i]\n",
    "        label = 'black' if x_trans > 0 else 'red'\n",
    "        print(f'{x_trans: 12.10f}', ', ', f'{y_trans: 12.10f}', '\\t', label,  sep='')"
   ]
  },
  {
   "cell_type": "code",
   "execution_count": 16,
   "id": "2b2ce45b-c862-4c11-85e3-883ef25c0224",
   "metadata": {
    "slideshow": {
     "slide_type": "subslide"
    }
   },
   "outputs": [
    {
     "name": "stdout",
     "output_type": "stream",
     "text": [
      "-0.4210443167,  0.7550882291\tred\n",
      " 0.1521969875,  0.9757766601\tblack\n",
      "-0.2431666837, -0.8016968423\tred\n",
      " 0.5859084861,  0.7421301668\tblack\n",
      "-0.2093121915, -0.9005396644\tred\n",
      " 0.2361749705,  0.4338643305\tblack\n",
      " 0.1771652262,  0.6602786770\tblack\n",
      " 0.3757682093, -0.0369130609\tblack\n",
      " 0.1914430199,  0.3320690518\tblack\n",
      " 0.4017264127, -0.7404064269\tblack\n",
      "-0.4900348652,  0.1827250073\tred\n",
      " 0.8215892867, -0.5306050702\tblack\n",
      "-0.2524447860, -0.8846132605\tred\n",
      "-0.7484784563,  0.2863969437\tred\n",
      "-0.5592542499,  0.4120410813\tred\n",
      "-0.8149325543, -0.2609381980\tred\n",
      " 0.6618052828, -0.2549492908\tblack\n",
      " 0.6584979396,  0.2144420768\tblack\n",
      "-0.9601447976,  0.1626208609\tred\n",
      "-0.4578867231,  0.7200613043\tred\n",
      "-0.1260613352,  0.3639568017\tred\n",
      "-0.6648552809,  0.5750766502\tred\n",
      " 0.2777312729,  0.3298902670\tblack\n",
      " 0.6636913459, -0.2573103925\tblack\n",
      " 0.3386691471,  0.5981732589\tblack\n",
      " 0.8389953406, -0.2412299804\tblack\n",
      "-0.0782206200, -0.1175403708\tred\n",
      " 0.4657214776,  0.5631443021\tblack\n",
      "-0.7525227183,  0.0284030645\tred\n",
      " 0.2035441473, -0.3226669684\tblack\n",
      "-0.6026400749,  0.0498667196\tred\n",
      " 0.3356996500,  0.6767933894\tblack\n",
      " 0.2284029746, -0.1579449587\tblack\n",
      " 0.9298023711, -0.3343940552\tblack\n",
      "-0.6157771159, -0.6237720207\tred\n",
      " 0.8304555166,  0.3175105921\tblack\n",
      " 0.4940869815,  0.3869585707\tblack\n",
      "-0.7042850556,  0.6603563426\tred\n",
      "-0.0672254250,  0.5219636512\tred\n",
      " 0.6037270278, -0.7247788005\tblack\n",
      " 0.0848409352,  0.1407502117\tblack\n",
      " 0.4384336098,  0.8409456317\tblack\n",
      "-0.1942484930, -0.1950401875\tred\n",
      "-0.9555770583, -0.0676085102\tred\n",
      "-0.1886107106,  0.3983014607\tred\n",
      "-0.6907760039, -0.4790253408\tred\n",
      "-0.8157282016,  0.0209477152\tred\n",
      " 0.6730321890, -0.3889705849\tblack\n",
      "-0.6728125011,  0.6716988784\tred\n",
      "-0.2207250411, -0.9288798362\tred\n",
      " 0.1666627742,  0.9424396074\tblack\n",
      " 0.4677891694,  0.2836419981\tblack\n",
      " 0.2358001515, -0.6627547119\tblack\n",
      "-0.7630977513, -0.4539566122\tred\n",
      "-0.0927272211,  0.5811617984\tred\n",
      "-0.2720072326,  0.8118352050\tred\n",
      "-0.9421831204, -0.3099045528\tred\n",
      " 0.0851401694, -0.2947972769\tblack\n",
      " 0.2883518867,  0.1947669865\tblack\n",
      "-0.3993503039, -0.3595685637\tred\n",
      " 0.3041223256, -0.6261913206\tblack\n",
      "-0.3030156324, -0.8367779277\tred\n",
      " 0.8124129881, -0.4135218328\tblack\n",
      " 0.6176628804,  0.0642254988\tblack\n",
      " 0.3743185954, -0.6482438712\tblack\n",
      "-0.8070123941,  0.0807237332\tred\n",
      "-0.4552771046, -0.7246804179\tred\n",
      "-0.0821465470,  0.3926374484\tred\n",
      " 0.7483936015, -0.2701338455\tblack\n",
      " 0.6014464273, -0.7682680311\tblack\n",
      "-0.0755736324, -0.8781568962\tred\n",
      " 0.5081926245,  0.4529634360\tblack\n",
      "-0.5070364050, -0.8362684943\tred\n",
      "-0.0708796420, -0.2791387917\tred\n",
      "-0.9334710085,  0.1564163766\tred\n",
      "-0.5838314121,  0.3558709574\tred\n",
      "-0.4060064980,  0.6187574327\tred\n",
      " 0.3194021446, -0.0809027709\tblack\n",
      "-0.2619672789,  0.0180851333\tred\n",
      " 0.3978026084, -0.6299101945\tblack\n",
      " 0.8136677452, -0.3762779951\tblack\n",
      " 0.9365316136,  0.1720454979\tblack\n",
      " 0.9796051100, -0.1476683039\tblack\n",
      "-0.8517436281,  0.2403292297\tred\n",
      " 0.8822446145,  0.1940416061\tblack\n",
      " 0.1401193222,  0.9466022400\tblack\n",
      "-0.9114751227,  0.1883812404\tred\n",
      " 0.9717860650, -0.0153920047\tblack\n",
      " 0.8362306267,  0.0837376974\tblack\n",
      " 0.7083157135,  0.4699132654\tblack\n",
      " 0.7821107464, -0.5144069511\tblack\n",
      "-0.4129066460, -0.7445000414\tred\n",
      " 0.8208056373,  0.4327329527\tblack\n",
      "-0.2865865111,  0.7658836964\tred\n",
      "-0.2997219372, -0.9058961631\tred\n",
      "-0.0133640712, -0.2245342882\tred\n",
      "-0.2517883491, -0.9594724961\tred\n",
      " 0.0530049923, -0.5776454229\tblack\n",
      "-0.8486045425,  0.3150131397\tred\n",
      "-0.5285083443,  0.3575014499\tred\n"
     ]
    }
   ],
   "source": [
    "print_transformed() # now the first coordinate tells you what the label will be!"
   ]
  },
  {
   "cell_type": "markdown",
   "id": "0982778c",
   "metadata": {
    "slideshow": {
     "slide_type": "subslide"
    }
   },
   "source": [
    "The machine searches through a set of predefined operations (e.g. linear transformations)."
   ]
  },
  {
   "cell_type": "markdown",
   "id": "1f05ad74-d052-4552-98f9-6a378de71719",
   "metadata": {
    "slideshow": {
     "slide_type": "fragment"
    }
   },
   "source": [
    "It is guided by a feedback **signal** (information about our data, embedded in our **loss**) that depends on the mismatch between expectation and output."
   ]
  },
  {
   "cell_type": "markdown",
   "id": "2973dc9c",
   "metadata": {
    "slideshow": {
     "slide_type": "fragment"
    }
   },
   "source": [
    "This is machine learning."
   ]
  },
  {
   "cell_type": "markdown",
   "id": "a74277fa-23df-4e3f-8055-280ee3b56dbd",
   "metadata": {
    "slideshow": {
     "slide_type": "fragment"
    }
   },
   "source": [
    "But what is the deep in deep learning, and where are the neural networks?"
   ]
  },
  {
   "cell_type": "markdown",
   "id": "8f46abde-219c-4fe7-86bb-8e7afea0a11a",
   "metadata": {
    "slideshow": {
     "slide_type": "slide"
    }
   },
   "source": [
    "---\n",
    "\n",
    "# 1.1.4 The \"deep\" in \"deep learning\""
   ]
  },
  {
   "cell_type": "markdown",
   "id": "a0902c25-29f4-413a-b9d0-217d7fac91c4",
   "metadata": {
    "slideshow": {
     "slide_type": "subslide"
    }
   },
   "source": [
    "The previous data (red/black vectors) was processed with a linear transformation – a **rotation** – and then a **nonlinear projection** – select points with positive x."
   ]
  },
  {
   "cell_type": "markdown",
   "id": "d61474d2",
   "metadata": {
    "slideshow": {
     "slide_type": "fragment"
    }
   },
   "source": [
    "In more complex models, each transformation (input → function → output) is performed by a **layer**."
   ]
  },
  {
   "cell_type": "markdown",
   "id": "0d0541a0",
   "metadata": {
    "slideshow": {
     "slide_type": "fragment"
    }
   },
   "source": [
    "The model **depth** is simply the number of layers."
   ]
  },
  {
   "cell_type": "markdown",
   "id": "a2a8feef-dde4-4c53-ab07-e86de678c433",
   "metadata": {
    "slideshow": {
     "slide_type": "fragment"
    }
   },
   "source": [
    "Models with three or more layers are **deep** (otherwise they are **shallow**)."
   ]
  },
  {
   "cell_type": "markdown",
   "id": "166440cc-007c-45ad-82e4-91dd34ebf8b6",
   "metadata": {
    "slideshow": {
     "slide_type": "subslide"
    }
   },
   "source": [
    "Deep models are almost invariably **neural networks**."
   ]
  },
  {
   "cell_type": "markdown",
   "id": "569603f2",
   "metadata": {
    "slideshow": {
     "slide_type": "fragment"
    }
   },
   "source": [
    "Although neural networks were developed by analogy to the function of the brain, they do not emulate brain function."
   ]
  },
  {
   "cell_type": "markdown",
   "id": "8c2bd518",
   "metadata": {
    "slideshow": {
     "slide_type": "fragment"
    }
   },
   "source": [
    "They do not *think* or *learn* like brains do."
   ]
  },
  {
   "cell_type": "markdown",
   "id": "c3779827",
   "metadata": {
    "slideshow": {
     "slide_type": "fragment"
    }
   },
   "source": [
    "A neural network is a stacked sequence of *computational layers*."
   ]
  },
  {
   "cell_type": "markdown",
   "id": "a4e20c39",
   "metadata": {
    "slideshow": {
     "slide_type": "subslide"
    }
   },
   "source": [
    "Example: mastering flight, imitating birds or building planes?\n",
    "\n",
    "<img src=\"images/Red-shouldered_hawk_taking_flight.jpg\" style=\"height: 330px; display: inline-block;\">\n",
    "\n",
    "<img src=\"images/biot-massia.jpg\" style=\"height: 330px; display: inline-block;\">\n",
    "\n",
    "<img src=\"images/ANA_777-300_Taking_off_from_JFK.jpeg\" style=\"height: 330px; display: inline-block;\">\n",
    "\n",
    "<small>A [Red-shouldered hawk taking flight at Green Cay Wetlands, Florida (Wikipedia)](https://en.wikipedia.org/wiki/Red-shouldered_hawk#/media/File:Red-shouldered_hawk_taking_flight.JPG)</small>  \n",
    "<small>The [Biot-Massia plane, 1883 (Aviation and Heritage)](https://aviationandheritage.weebly.com/biot-massia.html)</small>  \n",
    "<small>An [All Nippon Airways Boeing 777-300ER taking off from New York JFK Airport (Wikipedia)](https://en.wikipedia.org/wiki/Airplane#/media/File:ANA_777-300_Taking_off_from_JFK.jpg)</small>"
   ]
  },
  {
   "cell_type": "markdown",
   "id": "fcf7c3e2",
   "metadata": {
    "slideshow": {
     "slide_type": "subslide"
    }
   },
   "source": [
    "Note: a hundred years or so after the first planes we can fly faster and farther than most birds, but can we say we **mastered** flight?\n",
    "\n",
    "Are we anywhere near making artificial versions of these?\n",
    "\n",
    "<img src=\"images/hummingbird.gif\" style=\"height: 400px; display: inline-block;\">\n",
    "<img src=\"images/gannet.gif\" style=\"height: 400px; display: inline-block;\">\n",
    "<img src=\"images/kestrel.gif\" style=\"height: 400px; display: inline-block;\">\n",
    "\n",
    "<small><a href=\"https://fyfluiddynamics.com/2017/07/hummingbirds-are-incredible-acrobatic-fliers/\">Nicole Sharp, \"How Hummingbirds Drink\"</a></small>  \n",
    "<small><a href=\"https://giphy.com/gifs/bbcamerica-nature-bbc-america-natures-great-events-W5xAJGqkf8OokMIwFW\">Gannet dive, BBC America? (on Giphy)</a></small>  \n",
    "<small><a href=\"https://imgur.com/gallery/s04Oxcw\">Hovering kestrel (imgur)</a></small>"
   ]
  },
  {
   "cell_type": "markdown",
   "id": "bc3916ba",
   "metadata": {
    "slideshow": {
     "slide_type": "subslide"
    }
   },
   "source": [
    "![Stanford brain neuron](images/stanford.neuron.brain.png) \n",
    "<!-- <img  src=\"https://drive.google.com/uc?id=1j0qbpQclMhA2Wu13j40exP_tC9xcsApP\"> -->\n",
    "\n",
    "<small>Source: [CS231n: Convolutional Neural Networks for Visual Recognition](http://cs231n.stanford.edu/2017/syllabus.html), lecture 4</small>"
   ]
  },
  {
   "cell_type": "markdown",
   "id": "65590fd1",
   "metadata": {
    "slideshow": {
     "slide_type": "subslide"
    }
   },
   "source": [
    "The study of the similarities/differences between the two is a **booming** area of research!"
   ]
  },
  {
   "cell_type": "markdown",
   "id": "170ae43a-19b8-4dc6-923d-7f126e7dd85f",
   "metadata": {
    "slideshow": {
     "slide_type": "slide"
    }
   },
   "source": [
    "---\n",
    "\n",
    "# 1.1.5 Understanding how deep learning works, in three figures"
   ]
  },
  {
   "cell_type": "markdown",
   "id": "d125b311",
   "metadata": {
    "slideshow": {
     "slide_type": "subslide"
    }
   },
   "source": [
    "The layer transformation is governed by a number of adjustable parameters.\n",
    "\n",
    "The **weights** and **biases**.\n",
    "\n",
    "\n",
    "\\begin{align*}\n",
    "&\\bf{wx + b}\\\\\n",
    "&w:\\ weights\\\\\n",
    "&b:\\ bias\\\\\n",
    "&x:\\ input\n",
    "\\end{align*}"
   ]
  },
  {
   "cell_type": "markdown",
   "id": "32219df1",
   "metadata": {
    "slideshow": {
     "slide_type": "subslide"
    }
   },
   "source": [
    "Something like *knobs* you can tweak on a big machine.\n",
    "\n",
    "<img style=\"height: 400px; float:right\" src=\"images/marlyn-wescoff-and-ruth-lichterman-were-two-of-the-female-programmers-of-eniac.webp\">\n",
    "\n",
    "<small style=\"position:absolute; bottom:0; right:0\">Source: [Oscar Schwartz, *Untold History of AI: Invisible Women Programmed America's First Electronic Computer*, Wired](https://spectrum.ieee.org/untold-history-of-ai-invisible-woman-programmed-americas-first-electronic-computer)</small>"
   ]
  },
  {
   "cell_type": "markdown",
   "id": "8e863f26-9e20-4e67-9f97-016a11dc459a",
   "metadata": {
    "slideshow": {
     "slide_type": "subslide"
    }
   },
   "source": [
    "\\begin{align*}\n",
    "x' &= w_{11} x + w_{12} y \\\\\n",
    "y' &= w_{21} x + w_{22} y\n",
    "\\end{align*}"
   ]
  },
  {
   "cell_type": "markdown",
   "id": "948c238c-fb8b-4d53-8ad9-b781072c39e3",
   "metadata": {
    "slideshow": {
     "slide_type": "fragment"
    }
   },
   "source": [
    "Before, in the red/black example, the first layer had four parameters – four *knobs* – the $w$’s."
   ]
  },
  {
   "cell_type": "markdown",
   "id": "21ecfc8e",
   "metadata": {
    "slideshow": {
     "slide_type": "subslide"
    }
   },
   "source": [
    "Neural networks are a sequence of simple data transformations:\n",
    "\n",
    "- parameterised by **weights** and **biases**;\n",
    "\n",
    "$$wx + b$$\n",
    "\n",
    "- also, and that's important, a **nonlinearity**;\n",
    "\n",
    "$$\\sigma(w x + b)$$\n",
    "\n",
    "- the whole system maps inputs (**samples**) to outputs (**predictions**)."
   ]
  },
  {
   "cell_type": "markdown",
   "id": "ac8c4ccb",
   "metadata": {
    "slideshow": {
     "slide_type": "subslide"
    }
   },
   "source": [
    "In a first stage, we feed the network some data, and it makes predictions.\n",
    "\n",
    "It maps **inputs** (data) to **outputs** (predictions).\n",
    "\n",
    "The data is gradually transformed by the layers."
   ]
  },
  {
   "cell_type": "markdown",
   "id": "bf17c035",
   "metadata": {
    "slideshow": {
     "slide_type": "subslide"
    }
   },
   "source": [
    "#### Figure 1\n",
    "\n",
    "![Chollet, three figures 1](images/understanding/chollet.three-figures.1.png)\n",
    "\n",
    "DLWP, p.9"
   ]
  },
  {
   "cell_type": "markdown",
   "id": "39559bdf",
   "metadata": {
    "slideshow": {
     "slide_type": "subslide"
    }
   },
   "source": [
    "Network performance is evaluated with a **loss function** that compares prediction to target.\n",
    "\n",
    "The loss has to be **low** (ideally zero) for a perfect match (prediction = target) and otherwise **positive**.\n",
    "\n",
    "We'll talk about mathematical constraints later."
   ]
  },
  {
   "cell_type": "markdown",
   "id": "7bff3658",
   "metadata": {
    "slideshow": {
     "slide_type": "subslide"
    }
   },
   "source": [
    "#### Figure 2\n",
    "\n",
    "![Chollet, three figures 2](images/understanding/chollet.three-figures.2.png)\n",
    "\n",
    "<small>DLWP, p.9</small>"
   ]
  },
  {
   "cell_type": "markdown",
   "id": "1491cf59",
   "metadata": {
    "slideshow": {
     "slide_type": "subslide"
    }
   },
   "source": [
    "Weights and biases are initially set at **random values** and the loss is likely to be very high.\n",
    "\n",
    "An optimiser makes small changes in order to **minimise the loss**.\n",
    "\n",
    "The loss slowly drops over many training loops and the network becomes a better predictor.\n",
    "\n",
    "The optimiser advantageously implements a backwards layer by layer correction know as **backpropagation**."
   ]
  },
  {
   "cell_type": "markdown",
   "id": "7a6e2afd",
   "metadata": {
    "slideshow": {
     "slide_type": "subslide"
    }
   },
   "source": [
    "Samples are fed forward through the network, losses calculated, and parameter values are tweaked to **minimize the loss**.\n",
    "\n",
    "The entire data set is processed **over many training loops** until the loss is small and our network a good predictor.\n",
    "\n",
    "The network is then **tested on unseen data**."
   ]
  },
  {
   "cell_type": "markdown",
   "id": "04cddf1e",
   "metadata": {
    "slideshow": {
     "slide_type": "subslide"
    }
   },
   "source": [
    "#### Figure 3\n",
    "\n",
    "![Chollet, three figures 3](images/understanding/chollet.three-figures.3.png)\n",
    "\n",
    "<small>DLWP, p.10</small>"
   ]
  },
  {
   "cell_type": "markdown",
   "id": "8eaabb2b",
   "metadata": {
    "slideshow": {
     "slide_type": "subslide"
    }
   },
   "source": [
    "I personally find that the *best* intro to neural networks out there is by [Grant Sanderson](https://www.3blue1brown.com/about).\n",
    "\n",
    "I learnt this subject starting with this, and I think you'd really enjoy this too!"
   ]
  },
  {
   "cell_type": "code",
   "execution_count": 5,
   "id": "a7ed21a2",
   "metadata": {
    "slideshow": {
     "slide_type": "subslide"
    }
   },
   "outputs": [
    {
     "data": {
      "image/jpeg": "[encoded data removed]",
      "text/html": [
       "\n",
       "        <iframe\n",
       "            width=\"853\"\n",
       "            height=\"480\"\n",
       "            src=\"https://www.youtube.com/embed/aircAruvnKk\"\n",
       "            frameborder=\"0\"\n",
       "            allowfullscreen\n",
       "            \n",
       "        ></iframe>\n",
       "        "
      ],
      "text/plain": [
       "<IPython.lib.display.YouTubeVideo at 0x7fcdc8555890>"
      ]
     },
     "execution_count": 5,
     "metadata": {},
     "output_type": "execute_result"
    }
   ],
   "source": [
    "YouTubeVideo('aircAruvnKk', width=853, height=480) # 3Blue1Brown 1, until 16'"
   ]
  },
  {
   "cell_type": "markdown",
   "id": "4fa4002f",
   "metadata": {
    "slideshow": {
     "slide_type": "subslide"
    }
   },
   "source": [
    "[![TensorFlow Playground](images/tensorflow-playground.png)](https://playground.tensorflow.org/#activation=tanh&batchSize=10&dataset=circle&regDataset=reg-plane&learningRate=0.03&regularizationRate=0&noise=0&networkShape=4,2&seed=0.38531&showTestData=false&discretize=false&percTrainData=50&x=true&y=true&xTimesY=false&xSquared=false&ySquared=false&cosX=false&sinX=false&cosY=false&sinY=false&collectStats=false&problem=classification&initZero=false&hideText=false)"
   ]
  },
  {
   "cell_type": "markdown",
   "id": "8033e1d9",
   "metadata": {
    "slideshow": {
     "slide_type": "slide"
    }
   },
   "source": [
    "---\n",
    "\n",
    "# 1.2-1.2.6 A brief history of machine learning"
   ]
  },
  {
   "cell_type": "markdown",
   "id": "fedfe35d",
   "metadata": {
    "slideshow": {
     "slide_type": "subslide"
    }
   },
   "source": [
    "A short history of AI:"
   ]
  },
  {
   "cell_type": "markdown",
   "id": "f86d1c25",
   "metadata": {
    "slideshow": {
     "slide_type": "fragment"
    }
   },
   "source": [
    "- 1960s: symbolic AI"
   ]
  },
  {
   "cell_type": "markdown",
   "id": "8d179dc6",
   "metadata": {
    "slideshow": {
     "slide_type": "fragment"
    }
   },
   "source": [
    "- 1970s: AI winter (after the Lighthill report), people lost faith, funding dried up"
   ]
  },
  {
   "cell_type": "markdown",
   "id": "a7d175ea",
   "metadata": {
    "slideshow": {
     "slide_type": "fragment"
    }
   },
   "source": [
    "- 1980s: expert systems, a revival, but no deep learning"
   ]
  },
  {
   "cell_type": "markdown",
   "id": "7290b96a",
   "metadata": {
    "slideshow": {
     "slide_type": "fragment"
    }
   },
   "source": [
    "- 1990s: a second winter, kernel methods (Support Vector Machines)"
   ]
  },
  {
   "cell_type": "markdown",
   "id": "16230d13",
   "metadata": {
    "slideshow": {
     "slide_type": "fragment"
    }
   },
   "source": [
    "- 2010s: deep learning"
   ]
  },
  {
   "cell_type": "markdown",
   "id": "bceecfe1-5c45-4c9e-a39f-05a82058885f",
   "metadata": {
    "slideshow": {
     "slide_type": "fragment"
    }
   },
   "source": [
    "- 2020s: ?"
   ]
  },
  {
   "cell_type": "markdown",
   "id": "109ababe",
   "metadata": {
    "slideshow": {
     "slide_type": "subslide"
    }
   },
   "source": [
    "Reasons to doubt a third winter:"
   ]
  },
  {
   "cell_type": "markdown",
   "id": "00c8194f",
   "metadata": {
    "slideshow": {
     "slide_type": "fragment"
    }
   },
   "source": [
    "- many DL developments await deployment;"
   ]
  },
  {
   "cell_type": "markdown",
   "id": "5b25e4d0",
   "metadata": {
    "slideshow": {
     "slide_type": "fragment"
    }
   },
   "source": [
    "- continued diffusion into everyday life even if research stalls;"
   ]
  },
  {
   "cell_type": "markdown",
   "id": "e08dc492-83fa-49c4-a493-ba00036386ad",
   "metadata": {
    "slideshow": {
     "slide_type": "fragment"
    }
   },
   "source": [
    "- many new applications: assisting human scientists, climatology, drug discovery..."
   ]
  },
  {
   "cell_type": "markdown",
   "id": "70d168d0",
   "metadata": {
    "slideshow": {
     "slide_type": "fragment"
    }
   },
   "source": [
    "However, one thing that *could* lead to an AI winter would be if suddenly we reached a limit in performance improvement with bigger models, which has been the fuel of the current boom..."
   ]
  },
  {
   "cell_type": "markdown",
   "id": "60944b24",
   "metadata": {
    "slideshow": {
     "slide_type": "subslide"
    }
   },
   "source": [
    "<img src=\"images/chollet.oecd-2017-investment.png\" style=\"height:700px\">\n",
    "\n",
    "<small>DLWP, p.23</small>"
   ]
  },
  {
   "cell_type": "markdown",
   "id": "dbca5fa3",
   "metadata": {
    "slideshow": {
     "slide_type": "subslide"
    }
   },
   "source": [
    "<img src=\"images/oecd-2022-investment.png\" style=\"height:700px\">\n",
    "\n",
    "\n",
    "<small>Source: [OECD AI](https://oecd.ai/en/data?selectedArea=investments-in-ai&selectedVisualization=top-countries-in-vc-investments-in-ai-by-industry)</small>"
   ]
  },
  {
   "cell_type": "code",
   "execution_count": 15,
   "id": "00e6d8a7",
   "metadata": {
    "slideshow": {
     "slide_type": "subslide"
    }
   },
   "outputs": [
    {
     "data": {
      "image/jpeg": "[encoded data removed]",
      "text/html": [
       "\n",
       "        <iframe\n",
       "            width=\"853\"\n",
       "            height=\"480\"\n",
       "            src=\"https://www.youtube.com/embed/aygSMgK3BEM\"\n",
       "            frameborder=\"0\"\n",
       "            allowfullscreen\n",
       "            \n",
       "        ></iframe>\n",
       "        "
      ],
      "text/plain": [
       "<IPython.lib.display.YouTubeVideo at 0x7fcdc8503ed0>"
      ]
     },
     "execution_count": 15,
     "metadata": {},
     "output_type": "execute_result"
    }
   ],
   "source": [
    "YouTubeVideo('aygSMgK3BEM', width=853, height=480) # The Thinking Machine (Artificial Intelligence in the 1960s)"
   ]
  },
  {
   "cell_type": "code",
   "execution_count": 16,
   "id": "3d3b2ba1",
   "metadata": {
    "scrolled": true,
    "slideshow": {
     "slide_type": "subslide"
    }
   },
   "outputs": [
    {
     "data": {
      "image/jpeg": "[encoded data removed]",
      "text/html": [
       "\n",
       "        <iframe\n",
       "            width=\"853\"\n",
       "            height=\"480\"\n",
       "            src=\"https://www.youtube.com/embed/03p2CADwGF8\"\n",
       "            frameborder=\"0\"\n",
       "            allowfullscreen\n",
       "            \n",
       "        ></iframe>\n",
       "        "
      ],
      "text/plain": [
       "<IPython.lib.display.YouTubeVideo at 0x7fcdc8503d10>"
      ]
     },
     "execution_count": 16,
     "metadata": {},
     "output_type": "execute_result"
    }
   ],
   "source": [
    "YouTubeVideo('03p2CADwGF8', width=853, height=480) # The Lighthill debate on Artificial Intelligence (1973):\n",
    "                                                   # \"The general purpose robot is a mirage\""
   ]
  },
  {
   "cell_type": "code",
   "execution_count": 17,
   "id": "cf790e7e",
   "metadata": {
    "slideshow": {
     "slide_type": "subslide"
    }
   },
   "outputs": [
    {
     "data": {
      "image/jpeg": "[encoded data removed]",
      "text/html": [
       "\n",
       "        <iframe\n",
       "            width=\"853\"\n",
       "            height=\"480\"\n",
       "            src=\"https://www.youtube.com/embed/FwFduRA_L6Q\"\n",
       "            frameborder=\"0\"\n",
       "            allowfullscreen\n",
       "            \n",
       "        ></iframe>\n",
       "        "
      ],
      "text/plain": [
       "<IPython.lib.display.YouTubeVideo at 0x7fcdc8507c50>"
      ]
     },
     "execution_count": 17,
     "metadata": {},
     "output_type": "execute_result"
    }
   ],
   "source": [
    "YouTubeVideo('FwFduRA_L6Q', width=853, height=480) # Convolutional Network Demo from 1993"
   ]
  },
  {
   "cell_type": "code",
   "execution_count": 18,
   "id": "350c7dca",
   "metadata": {
    "scrolled": true,
    "slideshow": {
     "slide_type": "subslide"
    }
   },
   "outputs": [
    {
     "data": {
      "image/jpeg": "[encoded data removed]",
      "text/html": [
       "\n",
       "        <iframe\n",
       "            width=\"853\"\n",
       "            height=\"480\"\n",
       "            src=\"https://www.youtube.com/embed/NJarxpYyoFI\"\n",
       "            frameborder=\"0\"\n",
       "            allowfullscreen\n",
       "            \n",
       "        ></iframe>\n",
       "        "
      ],
      "text/plain": [
       "<IPython.lib.display.YouTubeVideo at 0x7fcdc8507e10>"
      ]
     },
     "execution_count": 18,
     "metadata": {},
     "output_type": "execute_result"
    }
   ],
   "source": [
    "YouTubeVideo('NJarxpYyoFI', width=853, height=480) # Deep Blue 1997"
   ]
  },
  {
   "cell_type": "code",
   "execution_count": 19,
   "id": "76666cd1",
   "metadata": {
    "slideshow": {
     "slide_type": "subslide"
    }
   },
   "outputs": [
    {
     "data": {
      "image/jpeg": "[encoded data removed]",
      "text/html": [
       "\n",
       "        <iframe\n",
       "            width=\"853\"\n",
       "            height=\"480\"\n",
       "            src=\"https://www.youtube.com/embed/8tq1C8spV_g\"\n",
       "            frameborder=\"0\"\n",
       "            allowfullscreen\n",
       "            \n",
       "        ></iframe>\n",
       "        "
      ],
      "text/plain": [
       "<IPython.lib.display.YouTubeVideo at 0x7fcdc8507390>"
      ]
     },
     "execution_count": 19,
     "metadata": {},
     "output_type": "execute_result"
    }
   ],
   "source": [
    "YouTubeVideo('8tq1C8spV_g', width=853, height=480) # AlphaGo Official Trailer 2017"
   ]
  },
  {
   "cell_type": "code",
   "execution_count": 20,
   "id": "47cccd7e-0495-4126-964b-6def5b9aafac",
   "metadata": {
    "scrolled": true,
    "slideshow": {
     "slide_type": "subslide"
    }
   },
   "outputs": [
    {
     "data": {
      "image/jpeg": "[encoded data removed]",
      "text/html": [
       "\n",
       "        <iframe\n",
       "            width=\"853\"\n",
       "            height=\"480\"\n",
       "            src=\"https://www.youtube.com/embed/8FHBh_OmdsM\"\n",
       "            frameborder=\"0\"\n",
       "            allowfullscreen\n",
       "            \n",
       "        ></iframe>\n",
       "        "
      ],
      "text/plain": [
       "<IPython.lib.display.YouTubeVideo at 0x7fcdc850d850>"
      ]
     },
     "execution_count": 20,
     "metadata": {},
     "output_type": "execute_result"
    }
   ],
   "source": [
    "YouTubeVideo('8FHBh_OmdsM', width=853, height=480) # Chris Bishop AI 2017"
   ]
  },
  {
   "cell_type": "markdown",
   "id": "2bf1daa6",
   "metadata": {
    "slideshow": {
     "slide_type": "slide"
    }
   },
   "source": [
    "---\n",
    "\n",
    "# 1.1.6-1.1.8 Achievements, hype, promise"
   ]
  },
  {
   "cell_type": "markdown",
   "id": "9630a515",
   "metadata": {
    "slideshow": {
     "slide_type": "subslide"
    }
   },
   "source": [
    "Deep learning has been in the ascendant since the early 2010s."
   ]
  },
  {
   "cell_type": "markdown",
   "id": "b50a2a83",
   "metadata": {
    "slideshow": {
     "slide_type": "fragment"
    }
   },
   "source": [
    "The breakthrough was driven by big data, GPU technology and improved algorithms."
   ]
  },
  {
   "cell_type": "markdown",
   "id": "b55d9a62",
   "metadata": {
    "slideshow": {
     "slide_type": "fragment"
    }
   },
   "source": [
    "It solves some problems that machines have previously found very difficult and out of reach."
   ]
  },
  {
   "cell_type": "markdown",
   "id": "84f6852d",
   "metadata": {
    "slideshow": {
     "slide_type": "fragment"
    }
   },
   "source": [
    "It also poses new problems as well, in terms of ethics and understanding its risks."
   ]
  },
  {
   "cell_type": "markdown",
   "id": "d24fce1d",
   "metadata": {
    "slideshow": {
     "slide_type": "subslide"
    }
   },
   "source": [
    "### Near human level (or above)"
   ]
  },
  {
   "cell_type": "markdown",
   "id": "6956d9ff",
   "metadata": {
    "slideshow": {
     "slide_type": "fragment"
    }
   },
   "source": [
    "- image classification;"
   ]
  },
  {
   "cell_type": "markdown",
   "id": "c3b4d833",
   "metadata": {
    "slideshow": {
     "slide_type": "fragment"
    }
   },
   "source": [
    "- speech recognition;"
   ]
  },
  {
   "cell_type": "markdown",
   "id": "92b082a6",
   "metadata": {
    "slideshow": {
     "slide_type": "fragment"
    }
   },
   "source": [
    "- handwriting transcription;"
   ]
  },
  {
   "cell_type": "markdown",
   "id": "a4318383",
   "metadata": {
    "slideshow": {
     "slide_type": "fragment"
    }
   },
   "source": [
    "- autonomous driving;"
   ]
  },
  {
   "cell_type": "markdown",
   "id": "18623328",
   "metadata": {
    "slideshow": {
     "slide_type": "fragment"
    }
   },
   "source": [
    "- playing games (chess, Go, Atari, StarCraft)."
   ]
  },
  {
   "cell_type": "markdown",
   "id": "299fc975",
   "metadata": {
    "slideshow": {
     "slide_type": "subslide"
    }
   },
   "source": [
    "### Improved"
   ]
  },
  {
   "cell_type": "markdown",
   "id": "ddc08514",
   "metadata": {
    "slideshow": {
     "slide_type": "fragment"
    }
   },
   "source": [
    "- writing text;"
   ]
  },
  {
   "cell_type": "markdown",
   "id": "03d6a17f",
   "metadata": {
    "slideshow": {
     "slide_type": "fragment"
    }
   },
   "source": [
    "- machine translation (still very difficult for less represented languages);"
   ]
  },
  {
   "cell_type": "markdown",
   "id": "f3920a60",
   "metadata": {
    "slideshow": {
     "slide_type": "fragment"
    }
   },
   "source": [
    "- text-to-speech and speech-to-text;"
   ]
  },
  {
   "cell_type": "markdown",
   "id": "6e85a7a2",
   "metadata": {
    "slideshow": {
     "slide_type": "fragment"
    }
   },
   "source": [
    "- ad targeting & recommendation systems (Facebook, Instagram, TikTok);"
   ]
  },
  {
   "cell_type": "markdown",
   "id": "bb04d695",
   "metadata": {
    "slideshow": {
     "slide_type": "fragment"
    }
   },
   "source": [
    "- search results;"
   ]
  },
  {
   "cell_type": "markdown",
   "id": "af7f0e02",
   "metadata": {
    "slideshow": {
     "slide_type": "fragment"
    }
   },
   "source": [
    "- digital assistants (Alexa, Siri, etc.);"
   ]
  },
  {
   "cell_type": "markdown",
   "id": "b83a131e",
   "metadata": {
    "slideshow": {
     "slide_type": "fragment"
    }
   },
   "source": [
    "- autonomous driving."
   ]
  },
  {
   "cell_type": "markdown",
   "id": "68dad6c6",
   "metadata": {
    "slideshow": {
     "slide_type": "subslide"
    }
   },
   "source": [
    "### Breakthroughs"
   ]
  },
  {
   "cell_type": "markdown",
   "id": "9fbcc92a",
   "metadata": {
    "slideshow": {
     "slide_type": "fragment"
    }
   },
   "source": [
    "- Go, chess and other games (Atari 2013, AlphaGo 2016, AlphaStar 2019, ...);"
   ]
  },
  {
   "cell_type": "markdown",
   "id": "17ad8397",
   "metadata": {
    "slideshow": {
     "slide_type": "fragment"
    }
   },
   "source": [
    "- medical diagnosis;"
   ]
  },
  {
   "cell_type": "markdown",
   "id": "d9ed95fe",
   "metadata": {
    "slideshow": {
     "slide_type": "fragment"
    }
   },
   "source": [
    "- protein folding (AlphaFold 2018);"
   ]
  },
  {
   "cell_type": "markdown",
   "id": "35eeb834",
   "metadata": {
    "slideshow": {
     "slide_type": "fragment"
    }
   },
   "source": [
    "- robotics;"
   ]
  },
  {
   "cell_type": "markdown",
   "id": "1133c483",
   "metadata": {
    "slideshow": {
     "slide_type": "fragment"
    }
   },
   "source": [
    "- writing text since GPT-2 in 2018, GPT-3 in 2020;"
   ]
  },
  {
   "cell_type": "markdown",
   "id": "09f20250",
   "metadata": {
    "slideshow": {
     "slide_type": "fragment"
    }
   },
   "source": [
    "- image, text-to-image generation (GANs 2014, VAE 2014, DALL-E & CLIP 2021, diffusion **now**);"
   ]
  },
  {
   "cell_type": "markdown",
   "id": "2bb87f02",
   "metadata": {
    "slideshow": {
     "slide_type": "subslide"
    }
   },
   "source": [
    "### Still out of reach"
   ]
  },
  {
   "cell_type": "markdown",
   "id": "d81d1ada",
   "metadata": {
    "slideshow": {
     "slide_type": "fragment"
    }
   },
   "source": [
    "- sustained, believable dialogue;"
   ]
  },
  {
   "cell_type": "markdown",
   "id": "5f4aeb0a",
   "metadata": {
    "slideshow": {
     "slide_type": "fragment"
    }
   },
   "source": [
    "- human-level translation across several languages, *especially* low-resource ones;"
   ]
  },
  {
   "cell_type": "markdown",
   "id": "7406cb4f",
   "metadata": {
    "slideshow": {
     "slide_type": "fragment"
    }
   },
   "source": [
    "- complete natural language understanding, reasoning and inference;"
   ]
  },
  {
   "cell_type": "markdown",
   "id": "26b59fcb",
   "metadata": {
    "slideshow": {
     "slide_type": "fragment"
    }
   },
   "source": [
    "- transfer learning, *general intelligence* (ability to learn and perform many different tasks);"
   ]
  },
  {
   "cell_type": "markdown",
   "id": "4a293270",
   "metadata": {
    "slideshow": {
     "slide_type": "slide"
    }
   },
   "source": [
    "---\n",
    "\n",
    "# 1.2.7 The modern landscape"
   ]
  },
  {
   "cell_type": "markdown",
   "id": "e221e8d7",
   "metadata": {
    "slideshow": {
     "slide_type": "subslide"
    }
   },
   "source": [
    "<a href=\"https://www.kaggle.com/\"><img src=\"images/landscape/kaggle-homepage.png\" style=\"width: auto; height: 700px;\"></a>\n",
    "\n",
    "<small>[kaggle.com](https://www.kaggle.com/)</small>"
   ]
  },
  {
   "cell_type": "markdown",
   "id": "da0d4205",
   "metadata": {
    "slideshow": {
     "slide_type": "subslide"
    }
   },
   "source": [
    "<a href=\"https://www.kaggle.com/kaggle-survey-2021\"><img src=\"images/landscape/kaggle-survey-algorithms.png\" style=\"width: auto; height: 700px;\"></a>\n",
    "\n",
    "<small>[Kaggle Survey 2021](https://www.kaggle.com/kaggle-survey-2021)</small>"
   ]
  },
  {
   "cell_type": "markdown",
   "id": "d92ed356",
   "metadata": {
    "slideshow": {
     "slide_type": "subslide"
    }
   },
   "source": [
    "<a href=\"https://www.kaggle.com/kaggle-survey-2021\"><img src=\"images/landscape/kaggle-survey-frameworks.png\" style=\"width: auto; height: 700px;\"></a>\n",
    "\n",
    "<small>[Kaggle Survey 2021](https://www.kaggle.com/kaggle-survey-2021)</small>"
   ]
  },
  {
   "cell_type": "markdown",
   "id": "c6006a9b",
   "metadata": {
    "slideshow": {
     "slide_type": "subslide"
    }
   },
   "source": [
    "# Frameworks\n",
    "\n",
    "<img src=\"images/landscape/tensorflow.svg\" style=\"width: auto; height: 100px; display: block; margin-left: auto;\">\n",
    "<img src=\"images/landscape/keras-logo.png\" style=\"width: auto; height: 100px; display: block; margin-left: auto;\">\n",
    "<img src=\"images/landscape/PyTorch_logo_black.svg\" style=\"width: auto; height: 100px; display: block; margin-left: auto;\">\n",
    "<img src=\"images/landscape/Google_JAX_logo.svg\" style=\"width: auto; height: 100px; display: block; margin-left: auto;\">"
   ]
  },
  {
   "cell_type": "markdown",
   "id": "00f8e816",
   "metadata": {
    "slideshow": {
     "slide_type": "subslide"
    }
   },
   "source": [
    "Note:\n",
    "- TensorFlow originally aimed to be a functional approach. This didn't go super well.\n",
    "- PyTorch is Object Oriented.\n",
    "- Since TF 2.0, they moved to Object Oriented (PyTorch won).\n",
    "- Keras was in fact meant to be an Object Oriented framework, and a higher-level API, to simplify TF.\n",
    "- The field keeps moving, and now JAX is the pure functional approach (and people are writing Keras/PyTorch OO libraries on top of it).\n",
    "\n",
    "There are other frameworks, like CNTK, Theano, but they are not as popular."
   ]
  },
  {
   "cell_type": "markdown",
   "id": "a85a2a4c",
   "metadata": {
    "slideshow": {
     "slide_type": "subslide"
    }
   },
   "source": [
    "# Companies\n",
    "\n",
    "<img src=\"images/landscape/Google_2015_logo.svg\" style=\"width: auto; height: 120px; display: block; margin-left: auto;\">\n",
    "<img src=\"images/landscape/Meta_Platforms_Inc._logo.svg\" style=\"width: auto; height: 80px; display: block; margin-left: auto;\">\n",
    "<img src=\"images/landscape/Microsoft_logo_(2012).svg\" style=\"width: auto; height: 90px; display: block; margin-left: auto;\">\n",
    "<img src=\"images/landscape/nvidia-logo.svg\" style=\"width: auto; height: 90px; display: block; margin-left: auto;\">\n",
    "<img src=\"images/landscape/DeepMind_logo.png\" style=\"width: auto; height: 120px; display: block; margin-left: auto;\">\n",
    "<img src=\"images/landscape/OpenAI_Logo.svg\" style=\"width: auto; height: 90px; display: block; margin-left: auto;\">"
   ]
  },
  {
   "cell_type": "markdown",
   "id": "0860f0bc",
   "metadata": {
    "slideshow": {
     "slide_type": "subslide"
    }
   },
   "source": [
    "The field is dominated by large *corporations*:\n",
    "- Google owns DeepMind. They code in TensorFlow and JAX.\n",
    "- Meta fully supports PyTorch, that's what they code in.\n",
    "- For low-level GPU programming and optimisation, Nvidia developed its own language: CUDA.\n",
    "- Microsoft invested heavily (almost owns) OpenAI. Microsoft has the CNTK framework, but OpenAI codes in PyTorch."
   ]
  },
  {
   "cell_type": "markdown",
   "id": "3876dd35",
   "metadata": {
    "slideshow": {
     "slide_type": "subslide"
    }
   },
   "source": [
    "# Also in China!\n",
    "\n",
    "<img src=\"images/landscape/Baidu.svg\" style=\"width: auto; height: 130px; display: block; margin-left: auto;\">\n",
    "<img src=\"images/landscape/Tencent_Logo.svg\" style=\"width: auto; height: 70px; display: block; margin-left: auto;\">\n",
    "<img src=\"images/landscape/SenseTime_(Dark_Background).jpeg\" style=\"width: auto; height: 100px; display: block; margin-left: auto;\">\n",
    "<img src=\"images/landscape/ByteDance_Logo_full.svg\" style=\"width: auto; height: 100px; display: block; margin-left: auto;\">"
   ]
  }
 ],
 "metadata": {
  "celltoolbar": "Slideshow",
  "kernelspec": {
   "display_name": "Python 3 (ipykernel)",
   "language": "python",
   "name": "python3"
  },
  "language_info": {
   "codemirror_mode": {
    "name": "ipython",
    "version": 3
   },
   "file_extension": ".py",
   "mimetype": "text/x-python",
   "name": "python",
   "nbconvert_exporter": "python",
   "pygments_lexer": "ipython3",
   "version": "3.9.15"
  }
 },
 "nbformat": 4,
 "nbformat_minor": 5
}
