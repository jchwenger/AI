{
 "cells": [
  {
   "cell_type": "markdown",
   "metadata": {
    "id": "1nkx7Qmk_-qz"
   },
   "source": [
    "---\n",
    "\n",
    "## 11.5 Beyond text classification: Sequence-to-sequence learning\n",
    "\n",
    "TensorFlow [tutorial](https://www.tensorflow.org/text/tutorials/nmt_with_attention)."
   ]
  },
  {
   "cell_type": "code",
   "execution_count": 1,
   "metadata": {
    "id": "VY-dJ5T__-q_"
   },
   "outputs": [],
   "source": [
    "import  sys, os\n",
    "import re, string, random, pathlib\n",
    "import numpy as np\n",
    "\n",
    "from IPython.display import YouTubeVideo\n",
    "\n",
    "import tensorflow as tf"
   ]
  },
  {
   "cell_type": "code",
   "execution_count": 2,
   "metadata": {
    "colab": {
     "base_uri": "https://localhost:8080/"
    },
    "id": "OpJXMzjPBFNP",
    "outputId": "f81e91e8-1fe7-4910-86c9-f42e0cd6c592"
   },
   "outputs": [],
   "source": [
    "# reminder: Colab code to mount your drive\n",
    "if 'google.colab' in sys.modules:\n",
    "    from google.colab import drive\n",
    "    drive.mount('/content/drive')\n",
    "    os.chdir('drive/My Drive/IS53024B-Artificial-Intelligence/6-additional-material')      # 'My Drive' is the default name of Google Drives,\n",
    "    os.listdir() "
   ]
  },
  {
   "cell_type": "markdown",
   "metadata": {
    "id": "uqh6bzrt_-q5"
   },
   "source": [
    "### 11.5.1 A machine translation example"
   ]
  },
  {
   "cell_type": "markdown",
   "metadata": {},
   "source": [
    "The attention mechanism originated in research in sequence to sequence with RNNs. The idea was to improve the hidden state of the generating RNN by allowing it to access (pay attention to) various parts of the source sequence at each step of the generation. Later on, the move was to remove the RNN mechanism altogether, and only use attention in both encoder and decoder."
   ]
  },
  {
   "cell_type": "markdown",
   "metadata": {
    "slideshow": {
     "slide_type": "subslide"
    }
   },
   "source": [
    "<!-- <img style=\"height:700px\" src=\"images/nlp/stanford.seq2seq.png\"> -->\n",
    "<img style=\"height:700px\" src=\"https://drive.google.com/uc?id=1_cSV5Qy1Ln_l75VhlOVialvNAX5zMu2Q\">\n",
    "\n",
    "<small>[Chris Manning, CS224N, Stanford](https://web.stanford.edu/class/cs224n/index.html), [lecture 7](https://web.stanford.edu/class/cs224n/slides/cs224n-2022-lecture07-nmt.pdf)  \n",
    "The original paper: [\"Sequence to Sequence Learning with Neural Networks\"](https://arxiv.org/abs/1409.3215)</small>"
   ]
  },
  {
   "cell_type": "markdown",
   "metadata": {},
   "source": [
    "<!-- <img src=\"images/nlp/seq2seq-nmt-model-fast.gif\"> -->\n",
    "<img src=\"https://drive.google.com/uc?id=11kGWdBJgrVbGGkXTMjAe74A5kZuNkpiP\">\n",
    "\n",
    "<small>[Google seq2seq documentation](https://google.github.io/seq2seq/)</small>"
   ]
  },
  {
   "cell_type": "markdown",
   "metadata": {
    "slideshow": {
     "slide_type": "subslide"
    }
   },
   "source": [
    "\n",
    "### The Transformer: who *needs* RNNs anyway??\n",
    "\n",
    "<!-- <img src=\"images/transformer/apply_the_transformer_to_machine_translation.gif\"> -->\n",
    "<img src=\"https://drive.google.com/uc?id=1oEGwdJPUFs7P1A5eE7Aow_A3RBt3kvIe\">\n",
    "\n",
    "<small>[\"Neural machine translation with a Transformer and Keras\", TensorFlow](https://www.tensorflow.org/text/tutorials/transformer)  \n",
    "The paper: [Vaswani et al, \"Attention Is All You Need\"](https://arxiv.org/abs/1706.03762)</small>"
   ]
  },
  {
   "cell_type": "code",
   "execution_count": 2,
   "metadata": {
    "slideshow": {
     "slide_type": "skip"
    }
   },
   "outputs": [
    {
     "data": {
      "image/jpeg": "[encoded data removed]",
      "text/html": [
       "\n",
       "        <iframe\n",
       "            width=\"853\"\n",
       "            height=\"480\"\n",
       "            src=\"https://www.youtube.com/embed/SysgYptB198?start=2592\"\n",
       "            frameborder=\"0\"\n",
       "            allowfullscreen\n",
       "            \n",
       "        ></iframe>\n",
       "        "
      ],
      "text/plain": [
       "<IPython.lib.display.YouTubeVideo at 0x7f2812dc3a00>"
      ]
     },
     "execution_count": 2,
     "metadata": {},
     "output_type": "execute_result"
    }
   ],
   "source": [
    "YouTubeVideo('SysgYptB198', width=853, height=480, start=2592) # C5W3L07 Attention Model Intuition "
   ]
  },
  {
   "cell_type": "code",
   "execution_count": 3,
   "metadata": {
    "slideshow": {
     "slide_type": "skip"
    }
   },
   "outputs": [
    {
     "data": {
      "image/jpeg": "[encoded data removed]",
      "text/html": [
       "\n",
       "        <iframe\n",
       "            width=\"853\"\n",
       "            height=\"480\"\n",
       "            src=\"https://www.youtube.com/embed/quoGRI-1l0A?start=2592\"\n",
       "            frameborder=\"0\"\n",
       "            allowfullscreen\n",
       "            \n",
       "        ></iframe>\n",
       "        "
      ],
      "text/plain": [
       "<IPython.lib.display.YouTubeVideo at 0x7f2884f4df70>"
      ]
     },
     "execution_count": 3,
     "metadata": {},
     "output_type": "execute_result"
    }
   ],
   "source": [
    "YouTubeVideo('quoGRI-1l0A', width=853, height=480, start=2592) # C5W3L08 Attention Model  "
   ]
  },
  {
   "cell_type": "markdown",
   "metadata": {
    "slideshow": {
     "slide_type": "subslide"
    }
   },
   "source": [
    "### The Transformer applied to translation\n",
    "\n",
    "\n",
    "<!-- <img src=\"images/transformer/apply_the_transformer_to_machine_translation.gif\"> -->\n",
    "<img src=\"https://drive.google.com/uc?id=1oEGwdJPUFs7P1A5eE7Aow_A3RBt3kvIe\">\n",
    "\n",
    "<small>[\"Neural machine translation with a Transformer and Keras\", TensorFlow](https://www.tensorflow.org/text/tutorials/transformer)</small>"
   ]
  },
  {
   "cell_type": "markdown",
   "metadata": {
    "id": "yHblx6uc_-q7"
   },
   "source": [
    "### Download the dataset\n",
    "\n",
    "```bash\n",
    "!wget http://storage.googleapis.com/download.tensorflow.org/data/spa-eng.zip\n",
    "!unzip -q spa-eng.zip\n",
    "```"
   ]
  },
  {
   "cell_type": "markdown",
   "metadata": {},
   "source": [
    "Other languages available [here](https://www.manythings.org/anki/)! "
   ]
  },
  {
   "cell_type": "code",
   "execution_count": 3,
   "metadata": {
    "colab": {
     "base_uri": "https://localhost:8080/"
    },
    "id": "5wGQedVc_-rC",
    "outputId": "9d7777fb-bb9d-42a5-b561-5a97ef4560b7"
   },
   "outputs": [
    {
     "name": "stdout",
     "output_type": "stream",
     "text": [
      "line: 118963/118964\r"
     ]
    }
   ],
   "source": [
    "base_dir = pathlib.Path(\"spa-eng\")\n",
    "text_file = base_dir / \"spa.txt\"\n",
    " \n",
    "with open(text_file) as f:\n",
    "    lines = f.read().strip().split(\"\\n\")\n",
    "\n",
    "text_pairs = []\n",
    "separator = \"\\t\" if \"\\t\" in lines[0] else \" \" # spa.txt is tab separated, but the other datasets use spaces\n",
    "\n",
    "for i, line in enumerate(lines):\n",
    "    print(f\"line: {i}/{len(lines)}\\r\", end=\"\")\n",
    "    english, spanish = line.split(separator)[:2] # for datasets other than the official one, only tak\n",
    "    spanish = \"[start] \" + spanish + \" [end]\"\n",
    "    text_pairs.append((english, spanish))"
   ]
  },
  {
   "cell_type": "code",
   "execution_count": 4,
   "metadata": {
    "colab": {
     "base_uri": "https://localhost:8080/"
    },
    "id": "P1punR8b_-rF",
    "outputId": "b3a2f687-4a92-4bb3-972e-490eb1d97d05"
   },
   "outputs": [
    {
     "name": "stdout",
     "output_type": "stream",
     "text": [
      "('It took them some time to get used to each other.', '[start] Les tomó algo de tiempo acostumbrarse el uno al otro. [end]')\n"
     ]
    }
   ],
   "source": [
    "print(random.choice(text_pairs))"
   ]
  },
  {
   "cell_type": "code",
   "execution_count": 5,
   "metadata": {
    "id": "O-1pdxOW_-rH"
   },
   "outputs": [],
   "source": [
    "random.shuffle(text_pairs)\n",
    "num_val_samples = int(0.15 * len(text_pairs))\n",
    "num_train_samples = len(text_pairs) - 2 * num_val_samples\n",
    "train_pairs = text_pairs[:num_train_samples]\n",
    "val_pairs = text_pairs[num_train_samples:num_train_samples + num_val_samples]\n",
    "test_pairs = text_pairs[num_train_samples + num_val_samples:]"
   ]
  },
  {
   "cell_type": "markdown",
   "metadata": {
    "id": "rHnC14bP_-rK"
   },
   "source": [
    "#### Vectorizing the English and Spanish text pairs"
   ]
  },
  {
   "cell_type": "code",
   "execution_count": 6,
   "metadata": {
    "id": "-uVEJ1Na_-rL"
   },
   "outputs": [],
   "source": [
    "strip_chars = string.punctuation + \"¿\"\n",
    "strip_chars = strip_chars.replace(\"[\", \"\")\n",
    "strip_chars = strip_chars.replace(\"]\", \"\")\n",
    "\n",
    "def custom_standardization(input_string):\n",
    "    lowercase = tf.strings.lower(input_string)\n",
    "    return tf.strings.regex_replace(\n",
    "        lowercase, f\"[{re.escape(strip_chars)}]\", \"\")\n",
    "\n",
    "vocab_size = 15000\n",
    "sequence_length = 20\n",
    "\n",
    "source_vectorization = tf.keras.layers.TextVectorization(\n",
    "    max_tokens=vocab_size,\n",
    "    output_mode=\"int\",\n",
    "    output_sequence_length=sequence_length,\n",
    ")\n",
    "target_vectorization = tf.keras.layers.TextVectorization(\n",
    "    max_tokens=vocab_size,\n",
    "    output_mode=\"int\",\n",
    "    output_sequence_length=sequence_length + 1,\n",
    "    standardize=custom_standardization,\n",
    ")\n",
    "train_english_texts = [pair[0] for pair in train_pairs]\n",
    "train_spanish_texts = [pair[1] for pair in train_pairs]\n",
    "source_vectorization.adapt(train_english_texts)\n",
    "target_vectorization.adapt(train_spanish_texts)"
   ]
  },
  {
   "cell_type": "markdown",
   "metadata": {
    "id": "OK4GQ9m1_-rQ"
   },
   "source": [
    "#### Preparing datasets for the translation task"
   ]
  },
  {
   "cell_type": "code",
   "execution_count": 28,
   "metadata": {
    "id": "_Bzz_hbi_-rS"
   },
   "outputs": [],
   "source": [
    "batch_size = 64 # my 6GB GPU can go up to 1560\n",
    "\n",
    "def format_dataset(eng, spa):\n",
    "    eng = source_vectorization(eng)\n",
    "    spa = target_vectorization(spa)\n",
    "    return ({\n",
    "        \"english\": eng,\n",
    "        \"spanish\": spa[:, :-1],\n",
    "    }, spa[:, 1:])\n",
    "\n",
    "def make_dataset(pairs):\n",
    "    eng_texts, spa_texts = zip(*pairs)\n",
    "    eng_texts = list(eng_texts)\n",
    "    spa_texts = list(spa_texts)\n",
    "    dataset = tf.data.Dataset.from_tensor_slices((eng_texts, spa_texts))\n",
    "    dataset = dataset.batch(batch_size)\n",
    "    dataset = dataset.map(format_dataset, num_parallel_calls=4)\n",
    "    return dataset.shuffle(2048).prefetch(16).cache()\n",
    "\n",
    "train_ds = make_dataset(train_pairs)\n",
    "val_ds = make_dataset(val_pairs)"
   ]
  },
  {
   "cell_type": "code",
   "execution_count": 29,
   "metadata": {
    "colab": {
     "base_uri": "https://localhost:8080/"
    },
    "id": "LL1oTABJ_-rV",
    "outputId": "9534e567-8d19-4cd0-fed0-eec6f073fdb8"
   },
   "outputs": [
    {
     "name": "stdout",
     "output_type": "stream",
     "text": [
      "inputs['english'].shape: (64, 20), dtype: <dtype: 'int64'>\n",
      "inputs['spanish'].shape: (64, 20), dtype: <dtype: 'int64'>\n",
      "targets.shape: (64, 20), dtype: <dtype: 'int64'>\n"
     ]
    },
    {
     "name": "stderr",
     "output_type": "stream",
     "text": [
      "2022-11-22 16:03:32.221087: W tensorflow/core/kernels/data/cache_dataset_ops.cc:856] The calling iterator did not fully read the dataset being cached. In order to avoid unexpected truncation of the dataset, the partially cached contents of the dataset  will be discarded. This can happen if you have an input pipeline similar to `dataset.cache().take(k).repeat()`. You should use `dataset.take(k).cache().repeat()` instead.\n"
     ]
    }
   ],
   "source": [
    "for inputs, targets in train_ds:\n",
    "    print(f\"inputs['english'].shape: {inputs['english'].shape}, dtype: {inputs['english'].dtype}\")\n",
    "    print(f\"inputs['spanish'].shape: {inputs['spanish'].shape}, dtype: {inputs['spanish'].dtype}\")\n",
    "    print(f\"targets.shape: {targets.shape}, dtype: {targets.dtype}\")\n",
    "    break"
   ]
  },
  {
   "cell_type": "markdown",
   "metadata": {
    "id": "b_fLq0Uo_-rX"
   },
   "source": [
    "---\n",
    "\n",
    "### 11.5.2 Sequence-to-sequence learning with RNNs"
   ]
  },
  {
   "cell_type": "markdown",
   "metadata": {
    "id": "qb87ZNyj_-rX"
   },
   "source": [
    "#### GRU-based encoder"
   ]
  },
  {
   "cell_type": "code",
   "execution_count": 9,
   "metadata": {
    "id": "JnDDTPgM_-rZ"
   },
   "outputs": [],
   "source": [
    "embed_dim = 256\n",
    "latent_dim = 1024\n",
    "\n",
    "source = tf.keras.Input(shape=(None,), dtype=\"int64\", name=\"english\")\n",
    "x = tf.keras.layers.Embedding(vocab_size, embed_dim, mask_zero=True)(source)\n",
    "encoded_source = tf.keras.layers.Bidirectional(\n",
    "    tf.keras.layers.GRU(latent_dim), merge_mode=\"sum\"\n",
    ")(x)"
   ]
  },
  {
   "cell_type": "markdown",
   "metadata": {
    "id": "1yPRe7pO_-rb"
   },
   "source": [
    "#### GRU-based decoder and the end-to-end model"
   ]
  },
  {
   "cell_type": "code",
   "execution_count": 10,
   "metadata": {
    "id": "qJ3-1wM1_-rc"
   },
   "outputs": [],
   "source": [
    "past_target = tf.keras.Input(shape=(None,), dtype=\"int64\", name=\"spanish\")\n",
    "x = tf.keras.layers.Embedding(vocab_size, embed_dim, mask_zero=True)(past_target)\n",
    "decoder_gru = tf.keras.layers.GRU(latent_dim, return_sequences=True)\n",
    "x = decoder_gru(x, initial_state=encoded_source)\n",
    "x = tf.keras.layers.Dropout(0.5)(x)\n",
    "target_next_step = tf.keras.layers.Dense(vocab_size, activation=\"softmax\")(x)\n",
    "seq2seq_rnn = tf.keras.Model([source, past_target], target_next_step)"
   ]
  },
  {
   "cell_type": "markdown",
   "metadata": {
    "id": "hVsP-y06_-re"
   },
   "source": [
    "#### Training our recurrent sequence-to-sequence model"
   ]
  },
  {
   "cell_type": "code",
   "execution_count": null,
   "metadata": {
    "id": "NKY4zb5h_-rf",
    "outputId": "4dae8ce4-8bf5-4097-956e-5538d9410cfd"
   },
   "outputs": [
    {
     "name": "stdout",
     "output_type": "stream",
     "text": [
      "Epoch 1/15\n"
     ]
    },
    {
     "name": "stderr",
     "output_type": "stream",
     "text": [
      "2022-11-01 16:13:41.924830: W tensorflow/core/common_runtime/forward_type_inference.cc:231] Type inference failed. This indicates an invalid graph that escaped type checking. Error message: INVALID_ARGUMENT: expected compatible input types, but input 1:\n",
      "type_id: TFT_OPTIONAL\n",
      "args {\n",
      "  type_id: TFT_PRODUCT\n",
      "  args {\n",
      "    type_id: TFT_TENSOR\n",
      "    args {\n",
      "      type_id: TFT_LEGACY_VARIANT\n",
      "    }\n",
      "  }\n",
      "}\n",
      " is neither a subtype nor a supertype of the combined inputs preceding it:\n",
      "type_id: TFT_OPTIONAL\n",
      "args {\n",
      "  type_id: TFT_PRODUCT\n",
      "  args {\n",
      "    type_id: TFT_TENSOR\n",
      "    args {\n",
      "      type_id: TFT_FLOAT\n",
      "    }\n",
      "  }\n",
      "}\n",
      "\n",
      "\twhile inferring type of node 'cond_41/output/_17'\n"
     ]
    },
    {
     "name": "stdout",
     "output_type": "stream",
     "text": [
      "1302/1302 [==============================] - 192s 125ms/step - loss: 1.6352 - accuracy: 0.4178 - val_loss: 1.3110 - val_accuracy: 0.5056\n",
      "Epoch 2/15\n",
      "1302/1302 [==============================] - 157s 121ms/step - loss: 1.3122 - accuracy: 0.5282 - val_loss: 1.1527 - val_accuracy: 0.5678\n",
      "Epoch 3/15\n",
      "1302/1302 [==============================] - 159s 122ms/step - loss: 1.1724 - accuracy: 0.5772 - val_loss: 1.0746 - val_accuracy: 0.5993\n",
      "Epoch 4/15\n",
      "1302/1302 [==============================] - 157s 120ms/step - loss: 1.0812 - accuracy: 0.6089 - val_loss: 1.0401 - val_accuracy: 0.6174\n",
      "Epoch 5/15\n",
      "1302/1302 [==============================] - 157s 121ms/step - loss: 1.0361 - accuracy: 0.6331 - val_loss: 1.0252 - val_accuracy: 0.6281\n",
      "Epoch 6/15\n",
      "1302/1302 [==============================] - 158s 121ms/step - loss: 1.0069 - accuracy: 0.6507 - val_loss: 1.0211 - val_accuracy: 0.6322\n",
      "Epoch 7/15\n",
      "1302/1302 [==============================] - 158s 121ms/step - loss: 0.9873 - accuracy: 0.6643 - val_loss: 1.0206 - val_accuracy: 0.6367\n",
      "Epoch 8/15\n",
      "1302/1302 [==============================] - 158s 121ms/step - loss: 0.9728 - accuracy: 0.6751 - val_loss: 1.0234 - val_accuracy: 0.6389\n",
      "Epoch 9/15\n",
      "1302/1302 [==============================] - 157s 121ms/step - loss: 0.9628 - accuracy: 0.6829 - val_loss: 1.0242 - val_accuracy: 0.6416\n",
      "Epoch 10/15\n",
      "1302/1302 [==============================] - 158s 121ms/step - loss: 0.9546 - accuracy: 0.6891 - val_loss: 1.0272 - val_accuracy: 0.6417\n",
      "Epoch 11/15\n",
      "1302/1302 [==============================] - 157s 120ms/step - loss: 0.9492 - accuracy: 0.6936 - val_loss: 1.0323 - val_accuracy: 0.6413\n",
      "Epoch 12/15\n",
      "1302/1302 [==============================] - 157s 121ms/step - loss: 0.9453 - accuracy: 0.6965 - val_loss: 1.0332 - val_accuracy: 0.6425\n",
      "Epoch 13/15\n",
      "1302/1302 [==============================] - 157s 121ms/step - loss: 0.9429 - accuracy: 0.6986 - val_loss: 1.0349 - val_accuracy: 0.6430\n",
      "Epoch 14/15\n",
      "1302/1302 [==============================] - 156s 120ms/step - loss: 0.9417 - accuracy: 0.6999 - val_loss: 1.0383 - val_accuracy: 0.6424\n",
      "Epoch 15/15\n",
      "1302/1302 [==============================] - 157s 121ms/step - loss: 0.9413 - accuracy: 0.6999 - val_loss: 1.0394 - val_accuracy: 0.6428\n"
     ]
    },
    {
     "data": {
      "text/plain": [
       "<keras.callbacks.History at 0x7ff19c777210>"
      ]
     },
     "execution_count": 15,
     "metadata": {},
     "output_type": "execute_result"
    }
   ],
   "source": [
    "seq2seq_rnn.compile(\n",
    "    optimizer=\"rmsprop\",\n",
    "    loss=\"sparse_categorical_crossentropy\",\n",
    "    metrics=[\"accuracy\"]\n",
    ")\n",
    "history = seq2seq_rnn.fit(train_ds, epochs=15, validation_data=val_ds)"
   ]
  },
  {
   "cell_type": "markdown",
   "metadata": {
    "id": "3L_QUV6Y_-rh"
   },
   "source": [
    "The [issue (warning)](https://github.com/keras-team/keras/issues/16978) doesn't seem to be resolved yet..."
   ]
  },
  {
   "cell_type": "markdown",
   "metadata": {
    "id": "iLo0IzRO_-rh"
   },
   "source": [
    "#### Translating new sentences with our RNN encoder and decoder"
   ]
  },
  {
   "cell_type": "code",
   "execution_count": 31,
   "metadata": {
    "id": "5LmRctMwlw_K"
   },
   "outputs": [],
   "source": [
    "def decode_sequence(input_sentence):\n",
    "    tokenized_input_sentence = source_vectorization([input_sentence])\n",
    "    decoded_sentence = \"[start]\"\n",
    "    for i in range(max_decoded_sentence_length):\n",
    "        tokenized_target_sentence = target_vectorization([decoded_sentence])\n",
    "        next_token_predictions = seq2seq_rnn.predict(\n",
    "            [tokenized_input_sentence, tokenized_target_sentence], verbose=0)\n",
    "        sampled_token_index = np.argmax(next_token_predictions[0, i, :])\n",
    "        sampled_token = spa_index_lookup[sampled_token_index]\n",
    "        decoded_sentence += \" \" + sampled_token\n",
    "        if sampled_token == \"[end]\":\n",
    "            break\n",
    "    return decoded_sentence"
   ]
  },
  {
   "cell_type": "code",
   "execution_count": 30,
   "metadata": {
    "id": "MYEsny7m_-ri"
   },
   "outputs": [],
   "source": [
    "spa_vocab = target_vectorization.get_vocabulary()\n",
    "spa_index_lookup = dict(zip(range(len(spa_vocab)), spa_vocab))\n",
    "max_decoded_sentence_length = 20\n",
    "test_eng_texts = [pair[0] for pair in test_pairs]"
   ]
  },
  {
   "cell_type": "code",
   "execution_count": null,
   "metadata": {
    "id": "gy_3EXyC_-rj",
    "outputId": "04b7113b-25c7-43cb-e015-c1324bdf2383"
   },
   "outputs": [
    {
     "name": "stdout",
     "output_type": "stream",
     "text": [
      "-\n",
      "It's up to you to decide.\n",
      "[start] es usted a [UNK] [end]\n",
      "-\n",
      "The jury has returned a verdict of guilty.\n",
      "[start] el [UNK] ha sido un [UNK] de lo que y el [UNK] [end]\n",
      "-\n",
      "Tom is devious, isn't he?\n",
      "[start] tom es [UNK] verdad [end]\n",
      "-\n",
      "I don't know her real name.\n",
      "[start] no sé su nombre de su nombre [end]\n",
      "-\n",
      "He shook hands with his friend.\n",
      "[start] Él [UNK] las manos con su amigo [end]\n",
      "-\n",
      "She is a wealthy woman.\n",
      "[start] ella es una mujer mujer [end]\n",
      "-\n",
      "Could you hand me the newspaper on the table?\n",
      "[start] me puedes el libro sobre la mesa [end]\n",
      "-\n",
      "The train leaves at six.\n",
      "[start] el tren las seis en punto [end]\n",
      "-\n",
      "Come again tomorrow.\n",
      "[start] ven mañana [end]\n",
      "-\n",
      "I tried to talk a friend of mine out of getting married.\n",
      "[start] intentó un amigo de las cosas que tom [end]\n",
      "-\n",
      "Can you see the difference?\n",
      "[start] puedes ver la guitarra [end]\n",
      "-\n",
      "Anybody home?\n",
      "[start] alguien está en casa [end]\n",
      "-\n",
      "Tom described how he was able to escape from the locked room.\n",
      "[start] tom sabía que él fue capaz de ver la habitación de los su habitación [end]\n",
      "-\n",
      "The system is rigged.\n",
      "[start] el [UNK] está [UNK] [end]\n",
      "-\n",
      "I fainted.\n",
      "[start] me [UNK] [end]\n",
      "-\n",
      "If you need to borrow some money, let me know.\n",
      "[start] si necesitas dinero tienes dinero [end]\n",
      "-\n",
      "There's a chance he won't play on Friday.\n",
      "[start] hay una no que el le gusta el que no se [UNK] al colegio [end]\n",
      "-\n",
      "We're going to see him right now.\n",
      "[start] nos vamos a salir [end]\n",
      "-\n",
      "I got what I asked for.\n",
      "[start] yo hice lo que le [UNK] [end]\n",
      "-\n",
      "First think, and then speak.\n",
      "[start] el y el tiempo y yo [UNK] hablar [end]\n"
     ]
    }
   ],
   "source": [
    "for _ in range(20):\n",
    "    input_sentence = random.choice(test_eng_texts)\n",
    "    print(\"-\")\n",
    "    print(input_sentence)\n",
    "    print(decode_sequence(input_sentence))"
   ]
  },
  {
   "cell_type": "markdown",
   "metadata": {
    "id": "UgaX2pz__-rl"
   },
   "source": [
    "---\n",
    "\n",
    "### 11.5.3 Sequence-to-sequence learning with Transformer"
   ]
  },
  {
   "cell_type": "markdown",
   "metadata": {
    "id": "Ldxfx1_G_-rm"
   },
   "source": [
    "#### Putting it all together: A Transformer for machine translation"
   ]
  },
  {
   "cell_type": "markdown",
   "metadata": {
    "id": "A9zh7clK_-rn"
   },
   "source": [
    "<!-- <img style=\"\" src=\"images/transformer/the-annotated-transformer_14_0.transformer-full.png\"> -->\n",
    "<img src=\"https://drive.google.com/uc?id=1q24jSyMvzKI160pR6VDmY30i7ulwHKIK\">\n",
    "\n",
    "\n",
    "<small>[Vaswani et al, \"Attention Is All You Need\"](https://arxiv.org/abs/1706.03762)</small>"
   ]
  },
  {
   "cell_type": "markdown",
   "metadata": {
    "id": "J4o2f_Wp_-rn"
   },
   "source": [
    "#### The Transformer encoder"
   ]
  },
  {
   "cell_type": "code",
   "execution_count": 12,
   "metadata": {
    "id": "8QuSCuu1CW3p"
   },
   "outputs": [],
   "source": [
    "class TransformerEncoder(tf.keras.layers.Layer):\n",
    "    def __init__(self, embed_dim, dense_dim, num_heads, **kwargs):\n",
    "        super().__init__(**kwargs)\n",
    "        self.embed_dim = embed_dim                               # parameters\n",
    "        self.dense_dim = dense_dim\n",
    "        self.num_heads = num_heads\n",
    "        self.attention = tf.keras.layers.MultiHeadAttention(     # multi-head attention layer\n",
    "            num_heads=num_heads, key_dim=embed_dim)\n",
    "        self.dense_proj = tf.keras.Sequential(                   # dense layer on top: like a nonlinearity\n",
    "            [tf.keras.layers.Dense(dense_dim, activation=\"relu\"),\n",
    "             tf.keras.layers.Dense(embed_dim),]\n",
    "        )\n",
    "        self.layernorm_1 = tf.keras.layers.LayerNormalization()  # layer norm\n",
    "        self.layernorm_2 = tf.keras.layers.LayerNormalization()\n",
    "\n",
    "    def call(self, inputs, mask=None):\n",
    "        if mask is not None:                                     # optional mask\n",
    "            mask = mask[:, tf.newaxis, :]\n",
    "        attention_output = self.attention(\n",
    "            inputs, inputs, attention_mask=mask                  # only two inputs! Value is used as key as well\n",
    "        )\n",
    "        proj_input = self.layernorm_1(inputs + attention_output) # inputs + attn: residual connection\n",
    "        proj_output = self.dense_proj(proj_input)                # dense layer on top: like a nonlinearity\n",
    "        return self.layernorm_2(proj_input + proj_output)\n",
    "\n",
    "    def get_config(self):\n",
    "        config = super().get_config()\n",
    "        config.update({\n",
    "            \"embed_dim\": self.embed_dim,\n",
    "            \"num_heads\": self.num_heads,\n",
    "            \"dense_dim\": self.dense_dim,\n",
    "        })\n",
    "        return config"
   ]
  },
  {
   "cell_type": "markdown",
   "metadata": {
    "id": "J4o2f_Wp_-rn"
   },
   "source": [
    "#### The Transformer decoder"
   ]
  },
  {
   "cell_type": "code",
   "execution_count": 13,
   "metadata": {
    "colab": {
     "base_uri": "https://localhost:8080/"
    },
    "id": "mntQSHWK_-ro",
    "outputId": "1293e0ba-e4d1-4d0d-a693-314440b967ae"
   },
   "outputs": [
    {
     "name": "stdout",
     "output_type": "stream",
     "text": [
      "Inputs:\n",
      "tf.Tensor(\n",
      "[[34 40 43 44  3 24 32 24 48  5]\n",
      " [11 19 46 14 26 19 43  6 44 11]], shape=(2, 10), dtype=int32)\n",
      "\n",
      "i:\n",
      "[[0]\n",
      " [1]\n",
      " [2]\n",
      " [3]\n",
      " [4]\n",
      " [5]\n",
      " [6]\n",
      " [7]\n",
      " [8]\n",
      " [9]]\n",
      "\n",
      "j:\n",
      "[0 1 2 3 4 5 6 7 8 9]\n",
      "\n",
      "Is i >= i? Boolean cast to ints. (Note the broadcasting)\n",
      "\n",
      "tf.Tensor(\n",
      "[[1 0 0 0 0 0 0 0 0 0]\n",
      " [1 1 0 0 0 0 0 0 0 0]\n",
      " [1 1 1 0 0 0 0 0 0 0]\n",
      " [1 1 1 1 0 0 0 0 0 0]\n",
      " [1 1 1 1 1 0 0 0 0 0]\n",
      " [1 1 1 1 1 1 0 0 0 0]\n",
      " [1 1 1 1 1 1 1 0 0 0]\n",
      " [1 1 1 1 1 1 1 1 0 0]\n",
      " [1 1 1 1 1 1 1 1 1 0]\n",
      " [1 1 1 1 1 1 1 1 1 1]], shape=(10, 10), dtype=int32)\n",
      "\n",
      "We want mask to have the same dims as input, using `tf.tile`.\n",
      "Creating the right multiplier for it:\n",
      "\n",
      "tf.Tensor([2 1 1], shape=(3,), dtype=int32)\n",
      "\n",
      "Final mask with batch dimensions:\n",
      "\n",
      "tf.Tensor(\n",
      "[[[1 0 0 0 0 0 0 0 0 0]\n",
      "  [1 1 0 0 0 0 0 0 0 0]\n",
      "  [1 1 1 0 0 0 0 0 0 0]\n",
      "  [1 1 1 1 0 0 0 0 0 0]\n",
      "  [1 1 1 1 1 0 0 0 0 0]\n",
      "  [1 1 1 1 1 1 0 0 0 0]\n",
      "  [1 1 1 1 1 1 1 0 0 0]\n",
      "  [1 1 1 1 1 1 1 1 0 0]\n",
      "  [1 1 1 1 1 1 1 1 1 0]\n",
      "  [1 1 1 1 1 1 1 1 1 1]]\n",
      "\n",
      " [[1 0 0 0 0 0 0 0 0 0]\n",
      "  [1 1 0 0 0 0 0 0 0 0]\n",
      "  [1 1 1 0 0 0 0 0 0 0]\n",
      "  [1 1 1 1 0 0 0 0 0 0]\n",
      "  [1 1 1 1 1 0 0 0 0 0]\n",
      "  [1 1 1 1 1 1 0 0 0 0]\n",
      "  [1 1 1 1 1 1 1 0 0 0]\n",
      "  [1 1 1 1 1 1 1 1 0 0]\n",
      "  [1 1 1 1 1 1 1 1 1 0]\n",
      "  [1 1 1 1 1 1 1 1 1 1]]], shape=(2, 10, 10), dtype=int32)\n"
     ]
    }
   ],
   "source": [
    "def get_causal_attention_mask(inputs):\n",
    "    print(\"Inputs:\")\n",
    "    print(inputs)\n",
    "    print()\n",
    "    input_shape = tf.shape(inputs)\n",
    "    batch_size, sequence_length = input_shape[0], input_shape[1]\n",
    "    i = tf.range(sequence_length)[:, tf.newaxis]\n",
    "    j = tf.range(sequence_length)\n",
    "    print(f\"i:\\n{i}\")\n",
    "    print()\n",
    "    print(f\"j:\\n{j}\")\n",
    "    print()\n",
    "    mask = tf.cast(i >= j, dtype=\"int32\")\n",
    "    print(\"Is i >= i? Boolean cast to ints. (Note the broadcasting)\")\n",
    "    print()\n",
    "    print(mask)\n",
    "    print()\n",
    "    mask = tf.reshape(mask, (1, input_shape[1], input_shape[1])) # adding a batch dimension\n",
    "    mult = tf.concat(\n",
    "        [tf.expand_dims(batch_size, -1),\n",
    "         tf.constant([1, 1], dtype=tf.int32)], axis=0)\n",
    "    print(\"We want mask to have the same dims as input, using `tf.tile`.\")\n",
    "    print(\"Creating the right multiplier for it:\")\n",
    "    print()\n",
    "    print(mult)\n",
    "    print()\n",
    "    tile = tf.tile(mask, mult)\n",
    "    print(\"Final mask with batch dimensions:\")\n",
    "    print()\n",
    "    print(tile)\n",
    "    return tile\n",
    "\n",
    "mask = get_causal_attention_mask(tf.random.uniform(shape=(2,10), maxval=50, dtype=tf.int32))"
   ]
  },
  {
   "cell_type": "code",
   "execution_count": 14,
   "metadata": {
    "id": "o0EgikJE_-rp"
   },
   "outputs": [],
   "source": [
    "class TransformerDecoder(tf.keras.layers.Layer):\n",
    "    def __init__(self, embed_dim, dense_dim, num_heads, **kwargs):\n",
    "        super().__init__(**kwargs)\n",
    "        self.embed_dim = embed_dim                              # parameters\n",
    "        self.dense_dim = dense_dim\n",
    "        self.num_heads = num_heads\n",
    "        self.attention_1 = tf.keras.layers.MultiHeadAttention(  # multi-head attention\n",
    "            num_heads=num_heads, key_dim=embed_dim\n",
    "        )\n",
    "        self.attention_2 = tf.keras.layers.MultiHeadAttention(\n",
    "            num_heads=num_heads, key_dim=embed_dim)\n",
    "        self.dense_proj = tf.keras.Sequential(                  # dense layer on top: like a nonlinearity\n",
    "            [tf.keras.layers.Dense(dense_dim, activation=\"relu\"),\n",
    "             tf.keras.layers.Dense(embed_dim),]\n",
    "        )\n",
    "        self.layernorm_1 = tf.keras.layers.LayerNormalization() # layer norm\n",
    "        self.layernorm_2 = tf.keras.layers.LayerNormalization()\n",
    "        self.layernorm_3 = tf.keras.layers.LayerNormalization()\n",
    "        self.supports_masking = True                            # MASK: enforcing causality\n",
    "\n",
    "    # retrieve config as a dict (necessary for custom Keras layers)\n",
    "    def get_config(self):\n",
    "        config = super().get_config()\n",
    "        config.update({\n",
    "            \"embed_dim\": self.embed_dim,\n",
    "            \"num_heads\": self.num_heads,\n",
    "            \"dense_dim\": self.dense_dim,\n",
    "        })\n",
    "        return config\n",
    "\n",
    "    def get_causal_attention_mask(self, inputs):\n",
    "        input_shape = tf.shape(inputs)\n",
    "        batch_size, sequence_length = input_shape[0], input_shape[1]\n",
    "        i = tf.range(sequence_length)[:, tf.newaxis]\n",
    "        j = tf.range(sequence_length)\n",
    "        mask = tf.cast(i >= j, dtype=\"int32\")\n",
    "        mask = tf.reshape(mask, (1, input_shape[1], input_shape[1]))\n",
    "        mult = tf.concat(\n",
    "            [tf.expand_dims(batch_size, -1),\n",
    "             tf.constant([1, 1], dtype=tf.int32)], axis=0)\n",
    "        return tf.tile(mask, mult)\n",
    "\n",
    "    def call(self, inputs, encoder_outputs, mask=None):\n",
    "        \n",
    "        causal_mask = self.get_causal_attention_mask(inputs)               # prepare the causal mask\n",
    "        if mask is not None:\n",
    "            padding_mask = tf.cast(\n",
    "                mask[:, tf.newaxis, :], dtype=\"int32\")\n",
    "            padding_mask = tf.minimum(padding_mask, causal_mask)\n",
    "            \n",
    "        attention_output_1 = self.attention_1(                             # REGULAR MASKED ATTENTION\n",
    "            query=inputs,\n",
    "            value=inputs,\n",
    "            key=inputs,\n",
    "            attention_mask=causal_mask)                                    # first layer: apply the causal mask\n",
    "        attention_output_1 = self.layernorm_1(inputs + attention_output_1) # layer norm\n",
    "        \n",
    "        attention_output_2 = self.attention_2(                             # CROSS-ATTENTION\n",
    "            query=attention_output_1,                                      # query: output of DECODER\n",
    "            value=encoder_outputs,                                         # key:   output of ENCODER\n",
    "            key=encoder_outputs,                                           # value: output of ENCODER\n",
    "            attention_mask=padding_mask,\n",
    "        )\n",
    "        attention_output_2 = self.layernorm_2(                             # layer norm: concatenate both attention matrices\n",
    "            attention_output_1 + attention_output_2)                       # cross-attention (encoder) + regular masked attention (decoder)\n",
    "        \n",
    "        proj_output = self.dense_proj(attention_output_2)                  # dense net / nonlinearity\n",
    "        return self.layernorm_3(attention_output_2 + proj_output)"
   ]
  },
  {
   "cell_type": "markdown",
   "metadata": {
    "id": "xdiOCciN_-rq"
   },
   "source": [
    "#### PositionalEmbedding layer"
   ]
  },
  {
   "cell_type": "code",
   "execution_count": 15,
   "metadata": {
    "id": "aMpWoOO6_-rq"
   },
   "outputs": [],
   "source": [
    "class PositionalEmbedding(tf.keras.layers.Layer):\n",
    "    def __init__(self, sequence_length, input_dim, output_dim, **kwargs):\n",
    "        super().__init__(**kwargs)\n",
    "         \n",
    "        self.token_embeddings = tf.keras.layers.Embedding(       # token embeddings: semantic information\n",
    "            input_dim=input_dim, output_dim=output_dim\n",
    "        )\n",
    "        self.position_embeddings = tf.keras.layers.Embedding(    # position embeddings: syntactic/spatial information\n",
    "            input_dim=sequence_length, output_dim=output_dim\n",
    "        )\n",
    "        self.sequence_length = sequence_length                   # more params\n",
    "        self.input_dim = input_dim\n",
    "        self.output_dim = output_dim\n",
    "\n",
    "    def call(self, inputs):\n",
    "        length = tf.shape(inputs)[-1]\n",
    "        embedded_tokens = self.token_embeddings(inputs)          # 1. create token embeddings\n",
    "                                                                 # 2. create pos embeddings\n",
    "        positions = tf.range(start=0, limit=length, delta=1)     #    (as many as our input length, delta: step size)\n",
    "        embedded_positions = self.position_embeddings(positions)\n",
    "        \n",
    "        return embedded_tokens + embedded_positions              # 3. Both embeddings are simply added together!\n",
    "\n",
    "    def compute_mask(self, inputs, mask=None):                   # Turns int sequences into a mask, example:\n",
    "        return tf.math.not_equal(inputs, 0)                      # [ 12   3    54   3    0     0     ]\n",
    "                                                                 # [ True True True True False False ]\n",
    "\n",
    "    def get_config(self):                                        # retrieve config as a dict\n",
    "        config = super().get_config()                            # (required for Keras layers)\n",
    "        config.update({\n",
    "            \"output_dim\": self.output_dim,\n",
    "            \"sequence_length\": self.sequence_length,\n",
    "            \"input_dim\": self.input_dim,\n",
    "        })\n",
    "        return config"
   ]
  },
  {
   "cell_type": "markdown",
   "metadata": {
    "id": "nx0_Kqft_-rs"
   },
   "source": [
    "#### End-to-end Transformer"
   ]
  },
  {
   "cell_type": "code",
   "execution_count": 16,
   "metadata": {
    "id": "bV3vlIOQ_-rt"
   },
   "outputs": [],
   "source": [
    "embed_dim = 256\n",
    "dense_dim = 2048\n",
    "num_heads = 8\n",
    "\n",
    "encoder_inputs = tf.keras.Input(shape=(None,), dtype=\"int64\", name=\"english\")\n",
    "x = PositionalEmbedding(sequence_length, vocab_size, embed_dim)(encoder_inputs)\n",
    "encoder_outputs = TransformerEncoder(embed_dim, dense_dim, num_heads)(x)\n",
    "\n",
    "decoder_inputs = tf.keras.Input(shape=(None,), dtype=\"int64\", name=\"spanish\")\n",
    "x = PositionalEmbedding(sequence_length, vocab_size, embed_dim)(decoder_inputs)\n",
    "x = TransformerDecoder(embed_dim, dense_dim, num_heads)(x, encoder_outputs)\n",
    "x = tf.keras.layers.Dropout(0.5)(x)\n",
    "decoder_outputs = tf.keras.layers.Dense(vocab_size, activation=\"softmax\")(x)\n",
    "transformer = tf.keras.Model([encoder_inputs, decoder_inputs], decoder_outputs)"
   ]
  },
  {
   "cell_type": "markdown",
   "metadata": {
    "id": "3CA7IVIh_-ru"
   },
   "source": [
    "#### Training the sequence-to-sequence Transformer"
   ]
  },
  {
   "cell_type": "code",
   "execution_count": 17,
   "metadata": {
    "colab": {
     "base_uri": "https://localhost:8080/"
    },
    "id": "hN0LibyckgTl",
    "outputId": "961f18f8-544d-407b-a74e-0e52c4bb52b5"
   },
   "outputs": [
    {
     "name": "stdout",
     "output_type": "stream",
     "text": [
      "Model: \"model_1\"\n",
      "__________________________________________________________________________________________________\n",
      " Layer (type)                   Output Shape         Param #     Connected to                     \n",
      "==================================================================================================\n",
      " english (InputLayer)           [(None, None)]       0           []                               \n",
      "                                                                                                  \n",
      " spanish (InputLayer)           [(None, None)]       0           []                               \n",
      "                                                                                                  \n",
      " positional_embedding (Position  (None, None, 256)   3845120     ['english[0][0]']                \n",
      " alEmbedding)                                                                                     \n",
      "                                                                                                  \n",
      " positional_embedding_1 (Positi  (None, None, 256)   3845120     ['spanish[0][0]']                \n",
      " onalEmbedding)                                                                                   \n",
      "                                                                                                  \n",
      " transformer_encoder (Transform  (None, None, 256)   3155456     ['positional_embedding[0][0]']   \n",
      " erEncoder)                                                                                       \n",
      "                                                                                                  \n",
      " transformer_decoder (Transform  (None, None, 256)   5259520     ['positional_embedding_1[0][0]', \n",
      " erDecoder)                                                       'transformer_encoder[0][0]']    \n",
      "                                                                                                  \n",
      " dropout_1 (Dropout)            (None, None, 256)    0           ['transformer_decoder[0][0]']    \n",
      "                                                                                                  \n",
      " dense_5 (Dense)                (None, None, 15000)  3855000     ['dropout_1[0][0]']              \n",
      "                                                                                                  \n",
      "==================================================================================================\n",
      "Total params: 19,960,216\n",
      "Trainable params: 19,960,216\n",
      "Non-trainable params: 0\n",
      "__________________________________________________________________________________________________\n"
     ]
    }
   ],
   "source": [
    "transformer.compile(\n",
    "    optimizer=\"rmsprop\",\n",
    "    loss=\"sparse_categorical_crossentropy\",\n",
    "    metrics=[\"accuracy\"]\n",
    ")\n",
    "transformer.summary()"
   ]
  },
  {
   "cell_type": "code",
   "execution_count": 24,
   "metadata": {
    "colab": {
     "base_uri": "https://localhost:8080/"
    },
    "id": "9Jyvm4QJc0hy",
    "outputId": "41b07777-32a1-4301-9723-9d42c8e297df"
   },
   "outputs": [
    {
     "name": "stdout",
     "output_type": "stream",
     "text": [
      "Epoch 1/30\n",
      "54/54 [==============================] - 65s 1s/step - loss: 1.5495 - accuracy: 0.4139 - val_loss: 1.3521 - val_accuracy: 0.4445\n",
      "Epoch 2/30\n",
      "54/54 [==============================] - 60s 1s/step - loss: 1.3139 - accuracy: 0.4766 - val_loss: 1.1480 - val_accuracy: 0.5164\n",
      "Epoch 3/30\n",
      "54/54 [==============================] - 60s 1s/step - loss: 1.1538 - accuracy: 0.5275 - val_loss: 1.0796 - val_accuracy: 0.5381\n",
      "Epoch 4/30\n",
      "54/54 [==============================] - 60s 1s/step - loss: 1.0309 - accuracy: 0.5706 - val_loss: 0.9525 - val_accuracy: 0.5922\n",
      "Epoch 5/30\n",
      "54/54 [==============================] - 60s 1s/step - loss: 0.9187 - accuracy: 0.6093 - val_loss: 0.8776 - val_accuracy: 0.6191\n",
      "Epoch 6/30\n",
      "54/54 [==============================] - 60s 1s/step - loss: 0.8293 - accuracy: 0.6414 - val_loss: 0.8200 - val_accuracy: 0.6437\n",
      "Epoch 7/30\n",
      "54/54 [==============================] - 60s 1s/step - loss: 0.7553 - accuracy: 0.6669 - val_loss: 0.7993 - val_accuracy: 0.6439\n",
      "Epoch 8/30\n",
      "54/54 [==============================] - 60s 1s/step - loss: 0.6939 - accuracy: 0.6873 - val_loss: 0.7343 - val_accuracy: 0.6680\n",
      "Epoch 9/30\n",
      "54/54 [==============================] - 60s 1s/step - loss: 0.6412 - accuracy: 0.7068 - val_loss: 0.7570 - val_accuracy: 0.6693\n",
      "Epoch 10/30\n",
      "54/54 [==============================] - 60s 1s/step - loss: 0.5943 - accuracy: 0.7227 - val_loss: 0.7140 - val_accuracy: 0.6845\n",
      "Epoch 11/30\n",
      "54/54 [==============================] - 60s 1s/step - loss: 0.5544 - accuracy: 0.7375 - val_loss: 0.6703 - val_accuracy: 0.6949\n",
      "Epoch 12/30\n",
      "54/54 [==============================] - 60s 1s/step - loss: 0.5183 - accuracy: 0.7507 - val_loss: 0.7087 - val_accuracy: 0.6895\n",
      "Epoch 13/30\n",
      "54/54 [==============================] - 60s 1s/step - loss: 0.4860 - accuracy: 0.7628 - val_loss: 0.6900 - val_accuracy: 0.7018\n",
      "Epoch 14/30\n",
      "54/54 [==============================] - 60s 1s/step - loss: 0.4598 - accuracy: 0.7731 - val_loss: 0.6902 - val_accuracy: 0.6993\n",
      "Epoch 15/30\n",
      "54/54 [==============================] - 60s 1s/step - loss: 0.4347 - accuracy: 0.7822 - val_loss: 0.6833 - val_accuracy: 0.7058\n",
      "Epoch 16/30\n",
      "54/54 [==============================] - 60s 1s/step - loss: 0.4057 - accuracy: 0.7939 - val_loss: 0.7290 - val_accuracy: 0.6759\n",
      "Epoch 17/30\n",
      "54/54 [==============================] - 60s 1s/step - loss: 0.3843 - accuracy: 0.8024 - val_loss: 0.6578 - val_accuracy: 0.7098\n",
      "Epoch 18/30\n",
      "54/54 [==============================] - 60s 1s/step - loss: 0.3651 - accuracy: 0.8107 - val_loss: 0.6746 - val_accuracy: 0.7115\n",
      "Epoch 19/30\n",
      "54/54 [==============================] - 60s 1s/step - loss: 0.3461 - accuracy: 0.8185 - val_loss: 0.6955 - val_accuracy: 0.7037\n",
      "Epoch 20/30\n",
      "54/54 [==============================] - 60s 1s/step - loss: 0.3308 - accuracy: 0.8255 - val_loss: 0.6865 - val_accuracy: 0.7054\n",
      "Epoch 21/30\n",
      "54/54 [==============================] - 60s 1s/step - loss: 0.3101 - accuracy: 0.8353 - val_loss: 0.7025 - val_accuracy: 0.7059\n",
      "Epoch 22/30\n",
      "54/54 [==============================] - 60s 1s/step - loss: 0.3012 - accuracy: 0.8383 - val_loss: 0.6544 - val_accuracy: 0.7186\n",
      "Epoch 23/30\n",
      "54/54 [==============================] - 60s 1s/step - loss: 0.2771 - accuracy: 0.8503 - val_loss: 0.7105 - val_accuracy: 0.7084\n",
      "Epoch 24/30\n",
      "54/54 [==============================] - 60s 1s/step - loss: 0.2702 - accuracy: 0.8528 - val_loss: 0.6887 - val_accuracy: 0.7153\n",
      "Epoch 25/30\n",
      "54/54 [==============================] - 60s 1s/step - loss: 0.2570 - accuracy: 0.8592 - val_loss: 0.7013 - val_accuracy: 0.7122\n",
      "Epoch 26/30\n",
      "54/54 [==============================] - 60s 1s/step - loss: 0.2439 - accuracy: 0.8655 - val_loss: 0.7153 - val_accuracy: 0.7108\n",
      "Epoch 27/30\n",
      "54/54 [==============================] - 60s 1s/step - loss: 0.2356 - accuracy: 0.8696 - val_loss: 0.6965 - val_accuracy: 0.7171\n",
      "Epoch 28/30\n",
      "54/54 [==============================] - 60s 1s/step - loss: 0.2276 - accuracy: 0.8744 - val_loss: 0.7187 - val_accuracy: 0.7130\n",
      "Epoch 29/30\n",
      "54/54 [==============================] - 60s 1s/step - loss: 0.2167 - accuracy: 0.8788 - val_loss: 0.7126 - val_accuracy: 0.7193\n",
      "Epoch 30/30\n",
      "54/54 [==============================] - 60s 1s/step - loss: 0.2105 - accuracy: 0.8821 - val_loss: 0.7058 - val_accuracy: 0.7203\n"
     ]
    },
    {
     "data": {
      "text/plain": [
       "<keras.callbacks.History at 0x7f39f7dc5850>"
      ]
     },
     "execution_count": 24,
     "metadata": {},
     "output_type": "execute_result"
    }
   ],
   "source": [
    "transformer.fit(train_ds, epochs=30, validation_data=val_ds)"
   ]
  },
  {
   "cell_type": "markdown",
   "metadata": {
    "id": "NBZyrX47_-rw"
   },
   "source": [
    "#### Translating new sentences with our Transformer model"
   ]
  },
  {
   "cell_type": "code",
   "execution_count": 33,
   "metadata": {
    "id": "oLMBgLNSmR2q"
   },
   "outputs": [],
   "source": [
    "def decode_sequence(input_sentence):\n",
    "    tokenized_input_sentence = source_vectorization([input_sentence])\n",
    "    decoded_sentence = \"[start]\"\n",
    "    for i in range(max_decoded_sentence_length):\n",
    "        tokenized_target_sentence = target_vectorization(\n",
    "            [decoded_sentence])[:, :-1]\n",
    "        predictions = transformer(\n",
    "            [tokenized_input_sentence, tokenized_target_sentence])\n",
    "        sampled_token_index = np.argmax(predictions[0, i, :])\n",
    "        sampled_token = spa_index_lookup[sampled_token_index]\n",
    "        decoded_sentence += \" \" + sampled_token\n",
    "        if sampled_token == \"[end]\":\n",
    "            break\n",
    "    return decoded_sentence"
   ]
  },
  {
   "cell_type": "code",
   "execution_count": 34,
   "metadata": {
    "id": "_h34FTG__-rx"
   },
   "outputs": [],
   "source": [
    "spa_vocab = target_vectorization.get_vocabulary()\n",
    "spa_index_lookup = dict(zip(range(len(spa_vocab)), spa_vocab))\n",
    "max_decoded_sentence_length = 20\n",
    "test_eng_texts = [pair[0] for pair in test_pairs]"
   ]
  },
  {
   "cell_type": "code",
   "execution_count": 36,
   "metadata": {
    "colab": {
     "base_uri": "https://localhost:8080/"
    },
    "id": "BlC2opUzl3dv",
    "outputId": "a1c4f35f-1142-4b0d-fc60-47f2c2e3940e"
   },
   "outputs": [
    {
     "name": "stdout",
     "output_type": "stream",
     "text": [
      "-\n",
      "How is it that you can speak this language?\n",
      "[start] cómo es que hablar en este idioma [end]\n",
      "-\n",
      "I just want to take a quick look.\n",
      "[start] solo quiero tomar una mirada [end]\n",
      "-\n",
      "You should read more.\n",
      "[start] deberías leer más [end]\n",
      "-\n",
      "Have you been told when to come?\n",
      "[start] te has dicho cuándo venga [end]\n",
      "-\n",
      "Are you for or against the war?\n",
      "[start] estás a favor o en la guerra [end]\n",
      "-\n",
      "You do not realize how important health is until you get sick.\n",
      "[start] no te das cuenta de lo que es importante que te das enfermo [end]\n",
      "-\n",
      "Crossing that desert is dangerous.\n",
      "[start] la gente que es peligroso el mundo sabe peligroso [end]\n",
      "-\n",
      "Do people ever accuse you of being snobbish?\n",
      "[start] la gente de la gente se hace a la gente que te [UNK] [end]\n",
      "-\n",
      "Tom tried to rescue Mary.\n",
      "[start] tom intentó salvar a mary [end]\n",
      "-\n",
      "I'll always remember you.\n",
      "[start] siempre te amaré [end]\n",
      "-\n",
      "I grabbed my little sister's hand and started running.\n",
      "[start] cogí mi hermana pequeña hermana y salió a correr [end]\n",
      "-\n",
      "Tom told us all a story.\n",
      "[start] tom nos contó toda una historia [end]\n",
      "-\n",
      "Exercise outdoors.\n",
      "[start] el ejercicio ejercicio [end]\n",
      "-\n",
      "He rose from his chair to welcome me.\n",
      "[start] se levantó de su silla a la bienvenida [end]\n",
      "-\n",
      "The parrot is dead.\n",
      "[start] el [UNK] está muerto [end]\n",
      "-\n",
      "This was a bad week. My train was late two days in a row.\n",
      "[start] esta fue una mala semana mi tren que me llegó tarde [end]\n",
      "-\n",
      "I'd like to believe we learn from our mistakes.\n",
      "[start] me gustaría creer que podamos vender de nuestros errores [end]\n",
      "-\n",
      "He is my brother.\n",
      "[start] Él es mi hermano [end]\n",
      "-\n",
      "Tom was framed.\n",
      "[start] tom fue enmarcado [end]\n",
      "-\n",
      "Tom doesn't talk to anyone.\n",
      "[start] tom no habla con nadie [end]\n"
     ]
    }
   ],
   "source": [
    "for _ in range(20):\n",
    "    input_sentence = random.choice(test_eng_texts)\n",
    "    print(\"-\")\n",
    "    print(input_sentence)\n",
    "    print(decode_sequence(input_sentence))"
   ]
  },
  {
   "cell_type": "markdown",
   "metadata": {
    "id": "LvUhhvtT_-ry"
   },
   "source": [
    "## Summary"
   ]
  },
  {
   "cell_type": "markdown",
   "metadata": {},
   "source": [
    "## References"
   ]
  },
  {
   "cell_type": "code",
   "execution_count": 2,
   "metadata": {
    "slideshow": {
     "slide_type": "skip"
    }
   },
   "outputs": [
    {
     "data": {
      "image/jpeg": "[encoded data removed]",
      "text/html": [
       "\n",
       "        <iframe\n",
       "            width=\"853\"\n",
       "            height=\"480\"\n",
       "            src=\"https://www.youtube.com/embed/EixI6t5oif0\"\n",
       "            frameborder=\"0\"\n",
       "            allowfullscreen\n",
       "            \n",
       "        ></iframe>\n",
       "        "
      ],
      "text/plain": [
       "<IPython.lib.display.YouTubeVideo at 0x7f9b8c4d0dd0>"
      ]
     },
     "execution_count": 2,
     "metadata": {},
     "output_type": "execute_result"
    }
   ],
   "source": [
    "YouTubeVideo('EixI6t5oif0', width=853, height=480) # Transformers with Lucas Beyer, Google Brain "
   ]
  },
  {
   "cell_type": "code",
   "execution_count": 3,
   "metadata": {
    "slideshow": {
     "slide_type": "skip"
    }
   },
   "outputs": [
    {
     "data": {
      "image/jpeg": "[encoded data removed]",
      "text/html": [
       "\n",
       "        <iframe\n",
       "            width=\"853\"\n",
       "            height=\"480\"\n",
       "            src=\"https://www.youtube.com/embed/ptuGllU5SQQ\"\n",
       "            frameborder=\"0\"\n",
       "            allowfullscreen\n",
       "            \n",
       "        ></iframe>\n",
       "        "
      ],
      "text/plain": [
       "<IPython.lib.display.YouTubeVideo at 0x7f9b159acfd0>"
      ]
     },
     "execution_count": 3,
     "metadata": {},
     "output_type": "execute_result"
    }
   ],
   "source": [
    "YouTubeVideo('ptuGllU5SQQ', width=853, height=480) # Stanford CS224N NLP with Deep Learning | Winter 2021 | Lecture 9 - Self- Attention and Transformers "
   ]
  },
  {
   "cell_type": "code",
   "execution_count": 7,
   "metadata": {
    "slideshow": {
     "slide_type": "skip"
    }
   },
   "outputs": [
    {
     "data": {
      "image/jpeg": "[encoded data removed]",
      "text/html": [
       "\n",
       "        <iframe\n",
       "            width=\"853\"\n",
       "            height=\"480\"\n",
       "            src=\"https://www.youtube.com/embed/j9AcEI98C0o\"\n",
       "            frameborder=\"0\"\n",
       "            allowfullscreen\n",
       "            \n",
       "        ></iframe>\n",
       "        "
      ],
      "text/plain": [
       "<IPython.lib.display.YouTubeVideo at 0x7f9b150fc050>"
      ]
     },
     "execution_count": 7,
     "metadata": {},
     "output_type": "execute_result"
    }
   ],
   "source": [
    "YouTubeVideo('j9AcEI98C0o', width=853, height=480) # Stanford CS224N NLP with Deep Learning | Winter 2021 | Lecture 10 - Transformers and Pretraining "
   ]
  },
  {
   "cell_type": "markdown",
   "metadata": {},
   "source": [
    "### Transformers from scratch\n",
    "\n",
    "[Blog post](https://peterbloem.nl/blog/transformers).\n",
    "\n",
    "Videos:"
   ]
  },
  {
   "cell_type": "code",
   "execution_count": 5,
   "metadata": {
    "slideshow": {
     "slide_type": "skip"
    }
   },
   "outputs": [
    {
     "data": {
      "image/jpeg": "[encoded data removed]",
      "text/html": [
       "\n",
       "        <iframe\n",
       "            width=\"853\"\n",
       "            height=\"480\"\n",
       "            src=\"https://www.youtube.com/embed/KmAISyVvE1Y\"\n",
       "            frameborder=\"0\"\n",
       "            allowfullscreen\n",
       "            \n",
       "        ></iframe>\n",
       "        "
      ],
      "text/plain": [
       "<IPython.lib.display.YouTubeVideo at 0x7f9b150f7890>"
      ]
     },
     "execution_count": 5,
     "metadata": {},
     "output_type": "execute_result"
    }
   ],
   "source": [
    "YouTubeVideo('KmAISyVvE1Y', width=853, height=480) #  Lecture 12.1 Self-attention\n",
    "# The whole playlist: https://www.youtube.com/watch?v=KmAISyVvE1Y&list=PLIXJ-Sacf8u60G1TwcznBmK6rEL3gmZmV"
   ]
  },
  {
   "cell_type": "markdown",
   "metadata": {},
   "source": [
    "### More\n",
    "\n",
    "An [entire YouTube playlist](https://www.youtube.com/playlist?list=PLoROMvodv4rNiJRchCzutFw5ItR_Z27CM) covering various research topics & transformers."
   ]
  }
 ],
 "metadata": {
  "accelerator": "GPU",
  "celltoolbar": "Slideshow",
  "colab": {
   "collapsed_sections": [],
   "provenance": []
  },
  "gpuClass": "standard",
  "kernelspec": {
   "display_name": "Python 3 (ipykernel)",
   "language": "python",
   "name": "python3"
  },
  "language_info": {
   "codemirror_mode": {
    "name": "ipython",
    "version": 3
   },
   "file_extension": ".py",
   "mimetype": "text/x-python",
   "name": "python",
   "nbconvert_exporter": "python",
   "pygments_lexer": "ipython3",
   "version": "3.9.15"
  }
 },
 "nbformat": 4,
 "nbformat_minor": 4
}
