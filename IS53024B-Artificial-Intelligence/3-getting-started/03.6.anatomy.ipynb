{
 "cells": [
  {
   "cell_type": "markdown",
   "id": "ceb48de3-12da-457d-97ea-40121bfad968",
   "metadata": {
    "slideshow": {
     "slide_type": "slide"
    }
   },
   "source": [
    "# 3. Introduction to Keras and TensorFlow"
   ]
  },
  {
   "cell_type": "markdown",
   "id": "a27a3be0-56f0-45c6-b57c-89c04d1f0264",
   "metadata": {
    "slideshow": {
     "slide_type": "subslide"
    }
   },
   "source": [
    "---\n",
    "## 3.6 (3.1) Anatomy of a neural network: Understanding core Keras APIs"
   ]
  },
  {
   "cell_type": "markdown",
   "id": "b53b1a36",
   "metadata": {
    "slideshow": {
     "slide_type": "fragment"
    }
   },
   "source": [
    "- Layers;"
   ]
  },
  {
   "cell_type": "markdown",
   "id": "52f24f76",
   "metadata": {
    "slideshow": {
     "slide_type": "fragment"
    }
   },
   "source": [
    "- Networks;"
   ]
  },
  {
   "cell_type": "markdown",
   "id": "c13ab5e5",
   "metadata": {
    "slideshow": {
     "slide_type": "fragment"
    }
   },
   "source": [
    "- Loss and optimisers;"
   ]
  },
  {
   "cell_type": "markdown",
   "id": "3aa31bf3-8b24-45fb-b8fb-ff6f9e277d16",
   "metadata": {
    "slideshow": {
     "slide_type": "fragment"
    }
   },
   "source": [
    "- Data: movie reviews, news reports and urban data."
   ]
  },
  {
   "cell_type": "markdown",
   "id": "e3ef43b0-da5a-4d48-9dfa-3f7786efa669",
   "metadata": {
    "slideshow": {
     "slide_type": "notes"
    }
   },
   "source": [
    "The three representative problems that we will be solving are: predicting if movie reviews are good or bad; classification of news reports into different classes and the prediction of house prices from neighbourhood data. But just before we start, let's review what we have learned so far. What layers are and what they do, how layers form networks and loss and optimisation.  "
   ]
  },
  {
   "cell_type": "markdown",
   "id": "a281b768",
   "metadata": {
    "slideshow": {
     "slide_type": "subslide"
    }
   },
   "source": [
    "Neural network training requires:"
   ]
  },
  {
   "cell_type": "markdown",
   "id": "95e0f8cc",
   "metadata": {
    "slideshow": {
     "slide_type": "fragment"
    }
   },
   "source": [
    "- a layered network;"
   ]
  },
  {
   "cell_type": "markdown",
   "id": "a55ee475",
   "metadata": {
    "slideshow": {
     "slide_type": "fragment"
    }
   },
   "source": [
    "- input data and **targets** (desired mappings);"
   ]
  },
  {
   "cell_type": "markdown",
   "id": "5c69d492",
   "metadata": {
    "slideshow": {
     "slide_type": "fragment"
    }
   },
   "source": [
    "- a loss function that quantifies performance;"
   ]
  },
  {
   "cell_type": "markdown",
   "id": "ebb05b42-8e79-41a6-bcf5-106bb59ff7d0",
   "metadata": {
    "slideshow": {
     "slide_type": "fragment"
    }
   },
   "source": [
    "- an optimiser to adjust layer parameters;"
   ]
  },
  {
   "cell_type": "markdown",
   "id": "5f56dab1-1904-44e3-8920-670204352ab0",
   "metadata": {
    "slideshow": {
     "slide_type": "notes"
    }
   },
   "source": [
    "Neural network training requires: a layered network, input data and 'targets' (desired mappings), a loss function that quantifies performance and an optimiser to adjust layer parameters."
   ]
  },
  {
   "cell_type": "markdown",
   "id": "201d9f28-5200-4c2a-a55f-d48aa1d3664b",
   "metadata": {
    "slideshow": {
     "slide_type": "subslide"
    }
   },
   "source": [
    "![understanding-2.png](images/understanding-2.png)"
   ]
  },
  {
   "cell_type": "markdown",
   "id": "d8e60e40-077f-43de-9ec8-4578f2efa817",
   "metadata": {
    "slideshow": {
     "slide_type": "notes"
    }
   },
   "source": [
    "A two layer network. A sample - or, properly,  mini-batch of samples - is fed into the network and the output, or prediction, is compared to the desired target. The loss quantifies any discrepancy and the optimiser tweaks layer parameters in a backwards pass. The optimiser implements the stochastic gradient descent algorithm. SGD moves points in parameter space in the direction of the negative gradient and momentum helps the negotiation of barriers between minima.  "
   ]
  },
  {
   "cell_type": "markdown",
   "id": "ec7c11ba-d265-4f7c-be5b-d22a2cf31650",
   "metadata": {
    "slideshow": {
     "slide_type": "slide"
    }
   },
   "source": [
    "---\n",
    "## 3.6.1 (3.1.1) Layers: The building blocks of deep learning"
   ]
  },
  {
   "cell_type": "markdown",
   "id": "8624f807",
   "metadata": {
    "slideshow": {
     "slide_type": "subslide"
    }
   },
   "source": [
    "The **layer** is the fundamental neural network building block:"
   ]
  },
  {
   "cell_type": "markdown",
   "id": "91477111",
   "metadata": {
    "slideshow": {
     "slide_type": "fragment"
    }
   },
   "source": [
    "- layers map tensors to tensors;"
   ]
  },
  {
   "cell_type": "markdown",
   "id": "733eec54",
   "metadata": {
    "slideshow": {
     "slide_type": "fragment"
    }
   },
   "source": [
    "- parameterised by weights and biases;"
   ]
  },
  {
   "cell_type": "markdown",
   "id": "4a602217-e461-465b-bc5a-cb31af1fdcee",
   "metadata": {
    "slideshow": {
     "slide_type": "fragment"
    }
   },
   "source": [
    "- weights and biases update in the SGD feedback loop."
   ]
  },
  {
   "cell_type": "markdown",
   "id": "21167b04-7f7b-4e3f-ad5b-9136bdf69c57",
   "metadata": {
    "slideshow": {
     "slide_type": "notes"
    }
   },
   "source": [
    "The layer is the fundamental neural network building block. Layers map tensors to tensors and are parameterised by weights and biases. Layer parameters update in the SGD feedback loop. "
   ]
  },
  {
   "cell_type": "markdown",
   "id": "68dc0882",
   "metadata": {
    "slideshow": {
     "slide_type": "subslide"
    }
   },
   "source": [
    "**Feedforward** networks:"
   ]
  },
  {
   "cell_type": "markdown",
   "id": "440348bb",
   "metadata": {
    "slideshow": {
     "slide_type": "fragment"
    }
   },
   "source": [
    "- the sample is fed into the network;"
   ]
  },
  {
   "cell_type": "markdown",
   "id": "17e50c04",
   "metadata": {
    "slideshow": {
     "slide_type": "fragment"
    }
   },
   "source": [
    "- data is transformed by successive layers;"
   ]
  },
  {
   "cell_type": "markdown",
   "id": "248aef9f-8087-4e3e-9ce4-7ae200101760",
   "metadata": {
    "slideshow": {
     "slide_type": "fragment"
    }
   },
   "source": [
    "- an output emerges."
   ]
  },
  {
   "cell_type": "markdown",
   "id": "e49fcbf6-432f-449a-9780-77cf148acd5f",
   "metadata": {
    "slideshow": {
     "slide_type": "notes"
    }
   },
   "source": [
    "A sample, in a 'feedforward' network, is fed into the network; data is transformed by successive layers and an output emerges."
   ]
  },
  {
   "cell_type": "markdown",
   "id": "61377017",
   "metadata": {
    "slideshow": {
     "slide_type": "subslide"
    }
   },
   "source": [
    "**Dense/fully connected** layer:"
   ]
  },
  {
   "cell_type": "markdown",
   "id": "1738c189",
   "metadata": {
    "slideshow": {
     "slide_type": "fragment"
    }
   },
   "source": [
    "- the layer weight matrix has size $n \\times m$;"
   ]
  },
  {
   "cell_type": "markdown",
   "id": "ac810e4e",
   "metadata": {
    "slideshow": {
     "slide_type": "fragment"
    }
   },
   "source": [
    "- the incoming vector has length $m$;"
   ]
  },
  {
   "cell_type": "markdown",
   "id": "63c5c681-5442-4028-8284-31422f5dacb2",
   "metadata": {
    "slideshow": {
     "slide_type": "fragment"
    }
   },
   "source": [
    "- the output vector has length $n$."
   ]
  },
  {
   "cell_type": "markdown",
   "id": "0e2ce62b",
   "metadata": {
    "slideshow": {
     "slide_type": "notes"
    }
   },
   "source": [
    "A dense or fully connected layer has an n x m weight matrix; the incoming vector has length m and the outgoing tramsformed vector has length n. The bias tensor is an n component vector."
   ]
  },
  {
   "cell_type": "markdown",
   "id": "9da8ec4a",
   "metadata": {
    "slideshow": {
     "slide_type": "subslide"
    }
   },
   "source": [
    "<img src=\"images/layers/tikz12.png\" style=\"width: auto;\">"
   ]
  },
  {
   "cell_type": "markdown",
   "id": "a9cc6aa6",
   "metadata": {
    "slideshow": {
     "slide_type": "subslide"
    }
   },
   "source": [
    "**Recurrent** layer:"
   ]
  },
  {
   "cell_type": "markdown",
   "id": "f3711056",
   "metadata": {
    "slideshow": {
     "slide_type": "fragment"
    }
   },
   "source": [
    "- a recurrent neural network contains internal loops;"
   ]
  },
  {
   "cell_type": "markdown",
   "id": "8d327efa-c923-4bbe-958c-186f0eb75857",
   "metadata": {
    "slideshow": {
     "slide_type": "fragment"
    }
   },
   "source": [
    "- data is processed by iterating through the sequence of elements."
   ]
  },
  {
   "cell_type": "markdown",
   "id": "c8983998",
   "metadata": {
    "slideshow": {
     "slide_type": "notes"
    }
   },
   "source": [
    "A 'recurrent' neural network contains internal loops: ordered data is processed by iterating through the sequence of constituent elements. We will cover them in week 7. Recurrent layers are particularly useful when the samples have a time ordering, for example weather measurements. "
   ]
  },
  {
   "cell_type": "markdown",
   "id": "eddba881",
   "metadata": {
    "slideshow": {
     "slide_type": "subslide"
    }
   },
   "source": [
    "<img src=\"images/layers/RNN-unrolled.png\" style=\"width: auto;\">\n",
    "\n",
    "Source: [Chris Olah, Understanding LSTM Networks](https://colah.github.io/posts/2015-08-Understanding-LSTMs/)"
   ]
  },
  {
   "cell_type": "markdown",
   "id": "23a6b122",
   "metadata": {
    "slideshow": {
     "slide_type": "subslide"
    }
   },
   "source": [
    "**Convolutional** layer:"
   ]
  },
  {
   "cell_type": "markdown",
   "id": "ddab4bc3",
   "metadata": {
    "slideshow": {
     "slide_type": "fragment"
    }
   },
   "source": [
    "- a small window (\"kernel\" or \"filter\": a matrix) moves across a 2D image;"
   ]
  },
  {
   "cell_type": "markdown",
   "id": "c4e56d78",
   "metadata": {
    "slideshow": {
     "slide_type": "fragment"
    }
   },
   "source": [
    "- applies a matrix mutliplication at each step;"
   ]
  },
  {
   "cell_type": "markdown",
   "id": "b772d0ae",
   "metadata": {
    "slideshow": {
     "slide_type": "fragment"
    }
   },
   "source": [
    "- the response is mapped to layer weights;"
   ]
  },
  {
   "cell_type": "markdown",
   "id": "375c87f0-a93b-4f45-9d26-479d103da8ff",
   "metadata": {
    "slideshow": {
     "slide_type": "fragment"
    }
   },
   "source": [
    "- this is called convolution."
   ]
  },
  {
   "cell_type": "markdown",
   "id": "99354b9d",
   "metadata": {
    "slideshow": {
     "slide_type": "notes"
    }
   },
   "source": [
    "Convolutional layers are the first choice for computer vision applications of deep learning. Convnets move a small window across a 2D image and the response, or convolution, is mapped to layer weights. We will cover ConvNets in week 6."
   ]
  },
  {
   "cell_type": "markdown",
   "id": "2329953f",
   "metadata": {
    "slideshow": {
     "slide_type": "subslide"
    }
   },
   "source": [
    "<img src=\"images/layers/conv-1.gif\" style=\"width: auto;\">\n",
    "\n",
    "Source: [Irhum Shafkat, Intuitively Understanding Convolutions for Deep Learning](https://towardsdatascience.com/intuitively-understanding-convolutions-for-deep-learning-1f6f42faee1)"
   ]
  },
  {
   "cell_type": "markdown",
   "id": "7f1edabe",
   "metadata": {
    "slideshow": {
     "slide_type": "subslide"
    }
   },
   "source": [
    "**Attention** layer:"
   ]
  },
  {
   "cell_type": "markdown",
   "id": "dc42b109",
   "metadata": {
    "slideshow": {
     "slide_type": "fragment"
    }
   },
   "source": [
    "- performs a look-up in the data for relevant information, as if it was a hash table (finding relevant values using keys);"
   ]
  },
  {
   "cell_type": "markdown",
   "id": "6ea52177",
   "metadata": {
    "slideshow": {
     "slide_type": "fragment"
    }
   },
   "source": [
    "- the attention mechanism determins *where* to look and *what* to select;"
   ]
  },
  {
   "cell_type": "markdown",
   "id": "0d7a704f",
   "metadata": {
    "slideshow": {
     "slide_type": "fragment"
    }
   },
   "source": [
    "- given where you are in the data (query), you compare that with entries (keys), and for compatible keys, you retrieve the relevant information (value);"
   ]
  },
  {
   "cell_type": "markdown",
   "id": "f5510071",
   "metadata": {
    "slideshow": {
     "slide_type": "fragment"
    }
   },
   "source": [
    "- ultimately, this look-up mechanism is again... a matrix multiplication!"
   ]
  },
  {
   "cell_type": "markdown",
   "id": "edcd06da",
   "metadata": {
    "slideshow": {
     "slide_type": "fragment"
    }
   },
   "source": [
    "- several look-ups can happen in parallel (several \"heads\") to retrieve different things."
   ]
  },
  {
   "cell_type": "markdown",
   "id": "1860a50c",
   "metadata": {
    "slideshow": {
     "slide_type": "notes"
    }
   },
   "source": [
    "Attention layers quickly became the first choice for text and sequence applications of deep learning, then moved on to take over the world! They are now winning the SOTA pretty much everywhere, including in vision, possibly displacing the Convents entirely. We cover them in week 7."
   ]
  },
  {
   "cell_type": "markdown",
   "id": "2e90b218",
   "metadata": {
    "slideshow": {
     "slide_type": "subslide"
    }
   },
   "source": [
    "<img src=\"images/layers/attention.png\" style=\"width: auto;\">\n",
    "\n",
    "Source: [Google AI Blog, \"Transformer: A Novel Neural Network Architecture for Language Understanding ](https://ai.googleblog.com/2017/08/transformer-novel-neural-network.html)"
   ]
  },
  {
   "cell_type": "markdown",
   "id": "c6f60777-2a64-4787-b042-29dfb16eaaae",
   "metadata": {
    "slideshow": {
     "slide_type": "subslide"
    }
   },
   "source": [
    "|Network|Data|Note|\n",
    "|:---|:---|:---|\n",
    "|Dense|Vector|Rarely the only type in a net, used as a final layer|\n",
    "|Recurrent|Sequence|Now displaced by attention, still in use in RL|\n",
    "|Convolutional|Image|Being displaced by attention|\n",
    "|Attention|Vector, Sequence, Image|**Everything!**, basically ruling the field now|"
   ]
  },
  {
   "cell_type": "markdown",
   "id": "a27c99bb-8a02-4cf4-b358-79dfdfdbe5ce",
   "metadata": {
    "slideshow": {
     "slide_type": "subslide"
    }
   },
   "source": [
    "A layer performs a tensor operation on the input $x$ – an affine transformation followed by element-wise function application"
   ]
  },
  {
   "cell_type": "markdown",
   "id": "1bdd2969-a46c-43cb-8a5f-5545965a0007",
   "metadata": {
    "slideshow": {
     "slide_type": "notes"
    }
   },
   "source": [
    "We return to dense layers and feedforward networks. The dense layer performs a tensor operation on an input $x$. Namely, an affine transformation followed by element-wise function application."
   ]
  },
  {
   "cell_type": "markdown",
   "id": "cf12e0a6",
   "metadata": {
    "slideshow": {
     "slide_type": "subslide"
    }
   },
   "source": [
    "Affine transformation:"
   ]
  },
  {
   "cell_type": "markdown",
   "id": "fcf47ee3",
   "metadata": {
    "slideshow": {
     "slide_type": "subslide"
    }
   },
   "source": [
    "\\begin{align*}\n",
    "z = \\begin{pmatrix}w_{11} & w_{12} \\\\ w_{21} & w_{22} \\end{pmatrix} \\cdot \\begin{pmatrix}x_1 \\\\ x_2 \\end{pmatrix} + \\begin{pmatrix}b_1 \\\\ b_2 \\end{pmatrix}\n",
    "\\end{align*}"
   ]
  },
  {
   "cell_type": "markdown",
   "id": "b3b4e313",
   "metadata": {
    "slideshow": {
     "slide_type": "fragment"
    }
   },
   "source": [
    "- rotations, reflections, shears, dilations;"
   ]
  },
  {
   "cell_type": "markdown",
   "id": "ab03a32c",
   "metadata": {
    "slideshow": {
     "slide_type": "fragment"
    }
   },
   "source": [
    "- affine transformation preserve straight lines and parallel lines remain parallel;"
   ]
  },
  {
   "cell_type": "markdown",
   "id": "6bfc10be-e2cc-4865-9171-61e17f6bbda9",
   "metadata": {
    "slideshow": {
     "slide_type": "fragment"
    }
   },
   "source": [
    "- distances and angles may change."
   ]
  },
  {
   "cell_type": "markdown",
   "id": "1b02b54e-62de-44b2-bad8-1f8ed10cb5b9",
   "metadata": {
    "slideshow": {
     "slide_type": "notes"
    }
   },
   "source": [
    "An affine transformation is a 2D matrix transformation such as a rotation, a reflection or a shear, followed by a translation. w dot x plus b. Straight lines remain straight and parallel lines remain parallel – although distances and angles may change."
   ]
  },
  {
   "cell_type": "markdown",
   "id": "fdc69526",
   "metadata": {
    "slideshow": {
     "slide_type": "subslide"
    }
   },
   "source": [
    "Affine transformations alone are insufficient for data uncrumpling: compositions of linear transformations remain linear!"
   ]
  },
  {
   "cell_type": "markdown",
   "id": "016641cc",
   "metadata": {
    "slideshow": {
     "slide_type": "fragment"
    }
   },
   "source": [
    "We require a **non-linear** part – the activation."
   ]
  },
  {
   "cell_type": "markdown",
   "id": "e48e9b69",
   "metadata": {
    "slideshow": {
     "slide_type": "fragment"
    }
   },
   "source": [
    "$f(z) = f\\begin{pmatrix} z_1 \\\\ z_2 \\end{pmatrix}\\ =\\begin{pmatrix} f(z_1) \\\\ f(z_2) \\end{pmatrix}$"
   ]
  },
  {
   "cell_type": "markdown",
   "id": "02655b45-d1e5-42ac-b509-3d8f403497c7",
   "metadata": {
    "slideshow": {
     "slide_type": "fragment"
    }
   },
   "source": [
    "The **sigmoid**, **rectified linear unit (ReLU)** and **tanh** are common activation functions."
   ]
  },
  {
   "cell_type": "markdown",
   "id": "e1da555c-0c7d-483e-af13-3295c2bc259a",
   "metadata": {
    "slideshow": {
     "slide_type": "notes"
    }
   },
   "source": [
    "Affine transformations alone are insufficient for data uncrumpling. We require a non-linear part –  the element-wise activation. 'Sigmoid', 'rectified linear' and 'tanh' are common activation functions."
   ]
  },
  {
   "cell_type": "markdown",
   "id": "f182650f-a31c-4736-9c72-4a5ba96b6031",
   "metadata": {
    "slideshow": {
     "slide_type": "subslide"
    }
   },
   "source": [
    "\\begin{align*}\n",
    "\\text{relu}(x) &= \\max(0, x) \\\\\n",
    "\\\\\n",
    "\\tanh(x)&= \\frac{e^x - e^{-x}}{e^x + e^{-x}} = \\frac{e^{2x} - 1}{e^{2x} +1} \\\\\n",
    "\\\\\n",
    "\\text{sigmoid}(x) &= \\frac{1}{1 + e^{-x}}\n",
    "\\end{align*}"
   ]
  },
  {
   "cell_type": "markdown",
   "id": "181dbe6b-0cf0-4e27-a455-311ff731e475",
   "metadata": {
    "slideshow": {
     "slide_type": "notes"
    }
   },
   "source": [
    "The definitions of relu (recified linear), tanh and sigmoid."
   ]
  },
  {
   "cell_type": "code",
   "execution_count": 56,
   "id": "65b0c0ea-56f6-4f36-afa4-e1787cba8dfc",
   "metadata": {
    "slideshow": {
     "slide_type": "skip"
    }
   },
   "outputs": [],
   "source": [
    "import numpy as np\n",
    "def relu(z):\n",
    "    return np.maximum(z, 0)\n",
    "\n",
    "def plot_relu():\n",
    "    import matplotlib.pyplot as plt\n",
    "    x = np.arange(-2, 2, 0.1)\n",
    "    plt.plot(x, relu(x), 'b', label='relu')\n",
    "    plt.xlim([-2,2])\n",
    "    plt.ylim([-2,2])\n",
    "    plt.axhline(y=0, color='k', linestyle=':')\n",
    "    plt.axvline(x=0, color='k', linestyle=':')\n",
    "    plt.legend()\n",
    "    plt.grid()\n",
    "    plt.show()"
   ]
  },
  {
   "cell_type": "code",
   "execution_count": 57,
   "id": "3538e5bf-520c-491f-a8d2-027cd9f856d8",
   "metadata": {
    "slideshow": {
     "slide_type": "subslide"
    }
   },
   "outputs": [
    {
     "data": {
      "image/png": "[encoded data removed]",
      "text/plain": [
       "<Figure size 640x480 with 1 Axes>"
      ]
     },
     "metadata": {},
     "output_type": "display_data"
    }
   ],
   "source": [
    "plot_relu()"
   ]
  },
  {
   "cell_type": "markdown",
   "id": "42fd5151",
   "metadata": {
    "slideshow": {
     "slide_type": "notes"
    }
   },
   "source": [
    "Here is the shape of the ReLu activation function, that is called positive part in mathemathics, and you can see why: if the input is negative, return zero, otherwise just act linearly. It is very efficient from a computational point of view! There are many variants of this function, like Elu or Gelu, the purpose of which is to stop having just zero in the negative domain, which kills off all signal."
   ]
  },
  {
   "cell_type": "code",
   "execution_count": 2,
   "id": "cd631998-0a88-42e5-be14-6b0f8d8c7f43",
   "metadata": {
    "slideshow": {
     "slide_type": "skip"
    }
   },
   "outputs": [],
   "source": [
    "import numpy as np\n",
    "def sigmoid(z):\n",
    "    return 1.0 / (1 + np.exp(-z))\n",
    "\n",
    "def plot_sigmoid():\n",
    "    import matplotlib.pyplot as plt\n",
    "    x = np.arange(-5, 5, 0.1)\n",
    "    plt.plot(x, sigmoid(x), 'b', label='sigmoid')\n",
    "    plt.xlim([-5,5])\n",
    "    plt.ylim([-2,2])\n",
    "    plt.axhline(y=0, color='k', linestyle=':')\n",
    "    plt.axvline(x=0, color='k', linestyle=':')    \n",
    "    plt.legend()\n",
    "    plt.grid()\n",
    "    plt.show()"
   ]
  },
  {
   "cell_type": "code",
   "execution_count": 55,
   "id": "4541dc4c-46b3-4bfe-886e-bbffa4366426",
   "metadata": {
    "scrolled": false,
    "slideshow": {
     "slide_type": "subslide"
    }
   },
   "outputs": [
    {
     "data": {
      "image/png": "[encoded data removed]",
      "text/plain": [
       "<Figure size 640x480 with 1 Axes>"
      ]
     },
     "metadata": {},
     "output_type": "display_data"
    }
   ],
   "source": [
    "plot_sigmoid()"
   ]
  },
  {
   "cell_type": "markdown",
   "id": "5d8ca66d",
   "metadata": {
    "slideshow": {
     "slide_type": "notes"
    }
   },
   "source": [
    "Here is the shape of the sigmoid function... It is like a a smoothed out (and therefore differentiable) step function. Large positive inputs are mapped to 1, large negative inputs are mapped to zero and there is smooth transition around 0."
   ]
  },
  {
   "cell_type": "code",
   "execution_count": 52,
   "id": "76ee82f4-6797-43c1-95ce-30f22dce0d6b",
   "metadata": {
    "slideshow": {
     "slide_type": "skip"
    }
   },
   "outputs": [],
   "source": [
    "import numpy as np\n",
    "def tanh(z):\n",
    "    e = np.exp(2*z)\n",
    "    return (e - 1)/(e + 1)\n",
    "\n",
    "def plot_tanh():\n",
    "    import matplotlib.pyplot as plt\n",
    "    x = np.arange(-5, 5, 0.1)\n",
    "    plt.plot(x, tanh(x), 'b', label='tanh')\n",
    "    plt.xlim([-5,5])\n",
    "    plt.ylim([-2,2])\n",
    "    plt.axhline(y=0, color='k', linestyle=':')\n",
    "    plt.axvline(x=0, color='k', linestyle=':')      \n",
    "    plt.legend()\n",
    "    plt.grid()\n",
    "    plt.show()"
   ]
  },
  {
   "cell_type": "code",
   "execution_count": 53,
   "id": "0e449fc1-03ce-453c-add7-8e4af3faf6e0",
   "metadata": {
    "scrolled": false,
    "slideshow": {
     "slide_type": "subslide"
    }
   },
   "outputs": [
    {
     "data": {
      "image/png": "[encoded data removed]",
      "text/plain": [
       "<Figure size 640x480 with 1 Axes>"
      ]
     },
     "metadata": {},
     "output_type": "display_data"
    }
   ],
   "source": [
    "plot_tanh()"
   ]
  },
  {
   "cell_type": "markdown",
   "id": "05411468",
   "metadata": {
    "slideshow": {
     "slide_type": "notes"
    }
   },
   "source": [
    "Here is the shape of the tanh function... It is also a smoothed out (and therefore differentiable) step function, but this time large positive inputs are mapped to 1,  and large negative inputs are mapped to -1, with the same smooth transition around 0."
   ]
  },
  {
   "cell_type": "markdown",
   "id": "84abb7cf-f238-4ba6-9855-45a6ca6423c8",
   "metadata": {
    "slideshow": {
     "slide_type": "subslide"
    }
   },
   "source": [
    "<img src=\"images/activation-functions-stanford-cs231n.png\" style=\"width: auto; height: 700px;\">"
   ]
  },
  {
   "cell_type": "code",
   "execution_count": 4,
   "id": "7c525c9d-03c4-4c0c-aada-83c856ef8d69",
   "metadata": {
    "slideshow": {
     "slide_type": "subslide"
    }
   },
   "outputs": [
    {
     "data": {
      "image/jpeg": "[encoded data removed]",
      "text/html": [
       "\n",
       "        <iframe\n",
       "            width=\"853\"\n",
       "            height=\"480\"\n",
       "            src=\"https://www.youtube.com/embed/wEoyxE0GP2M?start=289\"\n",
       "            frameborder=\"0\"\n",
       "            allowfullscreen\n",
       "            \n",
       "        ></iframe>\n",
       "        "
      ],
      "text/plain": [
       "<IPython.lib.display.YouTubeVideo at 0x7f139056c350>"
      ]
     },
     "execution_count": 4,
     "metadata": {},
     "output_type": "execute_result"
    }
   ],
   "source": [
    "from IPython.display import YouTubeVideo\n",
    "YouTubeVideo('wEoyxE0GP2M', width=853, height=480, start=289) # Stanford cs231n Activation Functions"
   ]
  },
  {
   "cell_type": "markdown",
   "id": "8ed404de-9b83-41d6-9a7e-e92f395b5520",
   "metadata": {
    "slideshow": {
     "slide_type": "subslide"
    }
   },
   "source": [
    "Suppose a layer performs a rotation, $R(x)$, with no translation ($b = 0$), and then sigmoids each element of the rotated vector\n",
    "\n",
    "- a rotation \n",
    "\n",
    "\\begin{align*}\n",
    "z =  \\begin{pmatrix} \n",
    "\\cos\\theta & -\\sin\\theta \\\\\n",
    "\\sin\\theta & \\cos\\theta \n",
    "\\end{pmatrix} \\cdot\\begin{pmatrix} x_1 \\\\ x_2 \\end{pmatrix}\n",
    "\\end{align*}\n",
    "\n",
    "- element wise sigmoid application \n",
    "\n",
    "\\begin{align*}\n",
    "\\begin{pmatrix} y_1 \\\\ y_2 \\end{pmatrix} = \\begin{pmatrix}\\sigma(z_1) \\\\ \\sigma(z_2)\\end{pmatrix}\n",
    "\\end{align*}"
   ]
  },
  {
   "cell_type": "markdown",
   "id": "fc298699-ff54-417f-8b2c-ba0d908f0a12",
   "metadata": {
    "slideshow": {
     "slide_type": "notes"
    }
   },
   "source": [
    "Suppose a layer performs a rotation, $R(x)$, with no translation ($b = 0$), and then sigmoids each element of the rotated vector."
   ]
  },
  {
   "cell_type": "code",
   "execution_count": 17,
   "id": "1406854f-aa76-4100-a44d-55b4aa88bbd8",
   "metadata": {
    "slideshow": {
     "slide_type": "skip"
    }
   },
   "outputs": [],
   "source": [
    "import numpy as np\n",
    "\n",
    "# our rotation\n",
    "theta = 3 * np.pi / 4\n",
    "w = np.array([\n",
    "    [np.cos(theta), -np.sin(theta)],\n",
    "    [np.sin(theta), np.cos(theta)]\n",
    "])\n",
    "\n",
    "# original square\n",
    "o = np.array([0, 0])\n",
    "a = np.array([1, 0])\n",
    "b = np.array([1, 1])\n",
    "c = np.array([0, 1])\n",
    "\n",
    "points = np.array([o, a, b, c, o])\n",
    "x, y = points.T\n",
    "\n",
    "# rotated square\n",
    "points_p = points @ w.T\n",
    "x_p, y_p = points_p.T\n",
    "\n",
    "# sigmoid square\n",
    "points_pp = sigmoid(points_p)\n",
    "x_pp, y_pp = points_pp.T\n",
    "\n",
    "def transform_square():\n",
    "    import matplotlib.pyplot as plt\n",
    "    plt.plot(x, y, 'b-', label=\"1. original\")\n",
    "    plt.plot(x_p, y_p, 'r-', label=\"2. rotated\")\n",
    "    plt.plot(x_pp, y_pp, 'g-', label=\"3. sigmoid\")\n",
    "    plt.text(-0.01, -.11, \"↑ Sigmoid will squeeze inputs\")\n",
    "    plt.text(0, -.22, \"inside our blue unit square\")\n",
    "    plt.axis('equal')\n",
    "    plt.legend()\n",
    "    plt.grid()\n",
    "    plt.show()"
   ]
  },
  {
   "cell_type": "code",
   "execution_count": 18,
   "id": "668703fb-85fd-482f-b763-f6e0af222953",
   "metadata": {
    "slideshow": {
     "slide_type": "subslide"
    }
   },
   "outputs": [
    {
     "data": {
      "image/png": "[encoded data removed]",
      "text/plain": [
       "<Figure size 640x480 with 1 Axes>"
      ]
     },
     "metadata": {},
     "output_type": "display_data"
    }
   ],
   "source": [
    "transform_square()"
   ]
  },
  {
   "cell_type": "markdown",
   "id": "95513dd8-ae68-4416-a912-29b68bb4c83c",
   "metadata": {
    "slideshow": {
     "slide_type": "notes"
    }
   },
   "source": [
    "...the blue unit square has been rotated by $\\frac{3\\pi}{4}$. The vertices of the red square are then sigmoided - the green quadrilateral."
   ]
  },
  {
   "cell_type": "markdown",
   "id": "48057e9b-7269-49a0-b7a8-70eeb63ce501",
   "metadata": {
    "slideshow": {
     "slide_type": "subslide"
    }
   },
   "source": [
    "The input and output tensor shapes of a TensorFlow Keras layer are fixed when the layer is created."
   ]
  },
  {
   "cell_type": "code",
   "execution_count": 5,
   "id": "3b32f7fd-b065-4f0f-aa75-6dbb9528d25f",
   "metadata": {
    "slideshow": {
     "slide_type": "fragment"
    }
   },
   "outputs": [],
   "source": [
    "from tensorflow.keras import layers\n",
    "\n",
    "layer = layers.Dense(32, input_shape = (784, ))"
   ]
  },
  {
   "cell_type": "markdown",
   "id": "a0d0e866",
   "metadata": {
    "slideshow": {
     "slide_type": "notes"
    }
   },
   "source": [
    "The input and output tensor shapes of a TensorFlow Keras layer are fixed when the layer is created. Axis 1 of the input shape has dimension 784. The zero axis - the batch dimension - is unspecified and arbitrary. This layer outputs a vector of length 32."
   ]
  },
  {
   "cell_type": "code",
   "execution_count": 6,
   "id": "ab466815-62ec-4e1f-9e05-fc408de05e70",
   "metadata": {
    "slideshow": {
     "slide_type": "subslide"
    }
   },
   "outputs": [],
   "source": [
    "from tensorflow.keras import models\n",
    "from tensorflow.keras import layers\n",
    "\n",
    "model = models.Sequential()\n",
    "model.add(layers.Dense(32, input_shape = (784, )))\n",
    "model.add(layers.Dense(16))"
   ]
  },
  {
   "cell_type": "markdown",
   "id": "b7644c40-108e-47b1-a8a6-18b96e2deada",
   "metadata": {
    "slideshow": {
     "slide_type": "notes"
    }
   },
   "source": [
    "...the connecting downstream layer must expect a compatible input vector – 32 elements along the first axis. In fact Tensorflow is clever enough to know this. If you wish the second layer to output a tensor with 16 elements along the first axis you need only write `layers.Dense(16)`."
   ]
  },
  {
   "cell_type": "code",
   "execution_count": 7,
   "id": "2c326bee-bdb9-4132-bd3b-c23ea5017b8e",
   "metadata": {
    "slideshow": {
     "slide_type": "subslide"
    }
   },
   "outputs": [
    {
     "name": "stdout",
     "output_type": "stream",
     "text": [
      "(None, 784) (None, 32)\n"
     ]
    }
   ],
   "source": [
    "# Axis zero has size 'None' - any value is accepted \n",
    "\n",
    "print(model.layers[0].input_shape, model.layers[0].output_shape)"
   ]
  },
  {
   "cell_type": "markdown",
   "id": "37bb06d6-3d38-40df-a5b3-2db0177bcc3f",
   "metadata": {
    "slideshow": {
     "slide_type": "notes"
    }
   },
   "source": [
    "The shapes of the input and output tensors of the first (index 0) layer... Axis  zero has size None, meaning that any value is accepted. "
   ]
  },
  {
   "cell_type": "code",
   "execution_count": 8,
   "id": "322ebd10-0576-46d8-919a-8b8faea3d728",
   "metadata": {
    "slideshow": {
     "slide_type": "subslide"
    }
   },
   "outputs": [
    {
     "name": "stdout",
     "output_type": "stream",
     "text": [
      "layer:  0 \tweight shape:  (784, 32) \tbias shape (32,)\n",
      "layer:  1 \tweight shape:  (32, 16) \tbias shape (16,)\n"
     ]
    }
   ],
   "source": [
    "# The weight and bias tensors\n",
    "def print_layer_tensor_shape(n):\n",
    "    weight_params = model.layers[n].get_weights()[0]\n",
    "    bias_params = model.layers[n].get_weights()[1]\n",
    "    print('layer: ', n, '\\tweight shape: ', weight_params.shape, '\\tbias shape', bias_params.shape)\n",
    "\n",
    "print_layer_tensor_shape(0)\n",
    "print_layer_tensor_shape(1)"
   ]
  },
  {
   "cell_type": "markdown",
   "id": "325d01c2-1b15-4209-b7b0-6ae36295125a",
   "metadata": {
    "slideshow": {
     "slide_type": "notes"
    }
   },
   "source": [
    "Code to print the shape of layer tensors... The weight shape is the reverse of the matrix size. I said earlier that the layer zero weight matrix has size $n \\times m$ where $m$ is the length of the input vector and $n$ is the length of the outgoing vector. The layer weight tensors have shape `(m, n)` - they are matrix transposes.  "
   ]
  },
  {
   "cell_type": "markdown",
   "id": "d54f02c3-0edf-46c8-a08c-2291f0658c3d",
   "metadata": {
    "slideshow": {
     "slide_type": "subslide"
    }
   },
   "source": [
    "\\begin{align*}\n",
    "(w\\cdot x\n",
    ")_i &= \\sum_j w_{ij}x_j \\\\\n",
    "    &= \\sum_j x_j w_{ij} \\\\\n",
    "    &= \\sum_j x_j w_{ji}^T \\\\\n",
    "    &= (x^T \\cdot w^T)_i\n",
    "\\end{align*}"
   ]
  },
  {
   "cell_type": "markdown",
   "id": "a8fab26b-efa2-4d17-81a0-4b628a1cf8e5",
   "metadata": {
    "slideshow": {
     "slide_type": "notes"
    }
   },
   "source": [
    "It turns out - and it doesn't matter at all - that TensorFlow organises its tensor operations using the transposes of the conventional matrix and vector representations. This slide shows the relationship between the two ways of performing matrix-vector multiplication. It doesn't matter at all because all computational quantities are arrays (not tensors or matrices) and operations are loops with appropriate counters and end conditions. And it certainly doesn't matter to us because TensorFlow ensures that everything matches. "
   ]
  },
  {
   "cell_type": "markdown",
   "id": "5a6505a1-bca0-43f6-b683-2b1bdefd8178",
   "metadata": {
    "slideshow": {
     "slide_type": "slide"
    }
   },
   "source": [
    "---\n",
    "## 3.6.2 From layers to models\n",
    "\n",
    "## (3.1.2 Models: networks of layers)"
   ]
  },
  {
   "cell_type": "markdown",
   "id": "144f3c1d-7539-4b65-a0e5-e7278f732246",
   "metadata": {
    "slideshow": {
     "slide_type": "subslide"
    }
   },
   "source": [
    "A feed forward network is a directed acyclic graph of layers\n",
    "\n",
    "A linear stack of layers is common but there are also two-branch layers, multihead layers, 'Inception' layers..."
   ]
  },
  {
   "cell_type": "markdown",
   "id": "7480b873-5eb3-4ff1-a34a-27ccad8c5377",
   "metadata": {
    "slideshow": {
     "slide_type": "notes"
    }
   },
   "source": [
    "A feed forward network is a directed acyclic graph of layers. A linear stack of layers is common but there are also two-branch layers, multihead layers, 'Inception' layers... again, these more advanced networks are covered in Part 2 of Deep Learning With Python."
   ]
  },
  {
   "cell_type": "markdown",
   "id": "911affdc-6c5e-4f03-ad42-5fbc7b0be899",
   "metadata": {
    "slideshow": {
     "slide_type": "subslide"
    }
   },
   "source": [
    "The topology of a network and the layer functions define a space of possible data transformations\n",
    "\n",
    "The layer transformation \n",
    "\\begin{align*}\n",
    "y_l = f_l(w_l \\cdot x_l + b_l) := L_l(x_l)\n",
    "\\end{align*}\n",
    "\n",
    "depends on the choice of activation, $f_l$, and the parameter values $(w_l, b_l)$"
   ]
  },
  {
   "cell_type": "markdown",
   "id": "96f2869f-4258-4645-964b-31e65a0432a1",
   "metadata": {
    "slideshow": {
     "slide_type": "notes"
    }
   },
   "source": [
    "The topology of a network and the layer functions define a space of possible data transformations. The layer transformation, written here as L sub l, depends on the choice of activation and the parameters w and b."
   ]
  },
  {
   "cell_type": "markdown",
   "id": "e80447ce-4c1d-4a31-b9a8-7d01322acdb3",
   "metadata": {
    "slideshow": {
     "slide_type": "subslide"
    }
   },
   "source": [
    "For example a three layer network transforms $x$ to $y$:\n",
    "\n",
    "\\begin{align*}\n",
    "y = L_3(L_2((L_1(x))))\n",
    "\\end{align*}\n",
    "\n",
    "Think of *one choice of* parameters $(w_1, b_1, w_2, b_2, w_3, b_3)$ as a *point* in a large multi-dimensional space – the **hypothesis space**.\n",
    "\n",
    "Each different setting of the parameters yields a different model → a different **hypothesis** (of how the data behaves)."
   ]
  },
  {
   "cell_type": "markdown",
   "id": "7ef4976f-94fb-462c-9ffb-b6581d6e5084",
   "metadata": {
    "slideshow": {
     "slide_type": "notes"
    }
   },
   "source": [
    "A three layer network chains $L_1$, $L_2$, and $L_3$. The layer parameters can be thought of as a point in a multi-dimensional 'hypothesis space'. Each point in the hypothesis space corresponds to a particular uncrumpling of the data.  \n"
   ]
  },
  {
   "cell_type": "markdown",
   "id": "5c9e9f67",
   "metadata": {
    "slideshow": {
     "slide_type": "subslide"
    }
   },
   "source": [
    "The hypothesis space is arbitrary."
   ]
  },
  {
   "cell_type": "markdown",
   "id": "29721f29",
   "metadata": {
    "slideshow": {
     "slide_type": "fragment"
    }
   },
   "source": [
    "For almost every aspect of the discipline, one must rely on best practices."
   ]
  },
  {
   "cell_type": "markdown",
   "id": "4edaa0e9-fe89-404e-a08e-a6b75b29c93c",
   "metadata": {
    "slideshow": {
     "slide_type": "fragment"
    }
   },
   "source": [
    "DL is *engineering* (although researchers are racing to make it a science!)."
   ]
  },
  {
   "cell_type": "markdown",
   "id": "c84d0a07",
   "metadata": {
    "slideshow": {
     "slide_type": "subslide"
    }
   },
   "source": [
    "[![xkcd data](images/xkcd-data.png)](https://twitter.com/MIT_CSAIL/status/1571529480081850369?t=_YJZE31qe4MT0pTvWfQnig&s=03)"
   ]
  },
  {
   "cell_type": "markdown",
   "id": "edaffde3-9104-4cf5-b9d9-6a7d9de3fe5c",
   "metadata": {
    "slideshow": {
     "slide_type": "notes"
    }
   },
   "source": [
    "The hypothesis space - defined by the depth of the network and the size and activation of each layer - is arbitrary. There is no formula. We have to rely on rules of thumb, best practices - deep learning is closer to engineering than it is to mathematics. "
   ]
  },
  {
   "cell_type": "markdown",
   "id": "f1de7c62-cd61-49c8-8c17-19e77df5cc83",
   "metadata": {
    "slideshow": {
     "slide_type": "slide"
    }
   },
   "source": [
    "---\n",
    "## 3.6.3 The \"compile\" step: Configuring the learning process\n",
    "\n",
    "## (3.1.3 Loss functions and optimizers: keys to configuring the learning process)"
   ]
  },
  {
   "cell_type": "markdown",
   "id": "ec8b4e09",
   "metadata": {
    "slideshow": {
     "slide_type": "fragment"
    }
   },
   "source": [
    "Neural networks have arbitrary model architecture (number of layers, size of each layer) and layer activation."
   ]
  },
  {
   "cell_type": "markdown",
   "id": "db9b2e1b",
   "metadata": {
    "slideshow": {
     "slide_type": "fragment"
    }
   },
   "source": [
    "The loss function and optimiser, specified at compilation is also arbitrary."
   ]
  },
  {
   "cell_type": "markdown",
   "id": "9a025f7d-3720-4b6f-a97a-436aad2aa5f4",
   "metadata": {
    "slideshow": {
     "slide_type": "fragment"
    }
   },
   "source": [
    "Hyperparmeters, such as the SGD learning rate, are not trained: they are tuned."
   ]
  },
  {
   "cell_type": "markdown",
   "id": "f4e058c5-09f9-44ab-9d1a-970f083092f3",
   "metadata": {
    "slideshow": {
     "slide_type": "notes"
    }
   },
   "source": [
    "Neural networks have arbitrary model architecture (depth, size of each layer) and layer activation, but the training scheme is also arbitrary. The loss function and optimiser are chosen rather than determined. The parameters that govern training such as the SGD learning rate and depth of the network are not trained: they are 'tuned' - by humans, although automatic tuning is a possibility. These arbitrary parameters - the ones that *we* choose - are called 'hyperparameters'."
   ]
  },
  {
   "cell_type": "markdown",
   "id": "6eb58025",
   "metadata": {
    "slideshow": {
     "slide_type": "subslide"
    }
   },
   "source": [
    "The choice of loss (objective/cost) function is very important!"
   ]
  },
  {
   "cell_type": "markdown",
   "id": "7944a900",
   "metadata": {
    "slideshow": {
     "slide_type": "fragment"
    }
   },
   "source": [
    "Luckily there are several standard loss functions for common problems:"
   ]
  },
  {
   "cell_type": "markdown",
   "id": "a882886d",
   "metadata": {
    "slideshow": {
     "slide_type": "fragment"
    }
   },
   "source": [
    "- for a binary choice: binary cross-entropy;"
   ]
  },
  {
   "cell_type": "markdown",
   "id": "eade8662",
   "metadata": {
    "slideshow": {
     "slide_type": "fragment"
    }
   },
   "source": [
    "- many-class classification: categorical cross-entropy;"
   ]
  },
  {
   "cell_type": "markdown",
   "id": "7798519e-35d6-4b27-bef1-84934c03e8b4",
   "metadata": {
    "slideshow": {
     "slide_type": "fragment"
    }
   },
   "source": [
    "- regression: mean squared error."
   ]
  },
  {
   "cell_type": "markdown",
   "id": "a15a44dc",
   "metadata": {
    "slideshow": {
     "slide_type": "notes"
    }
   },
   "source": [
    "Categorical cross-entropy is simply the generalisation of the binary version to multiple classes (or vice-versa: binary cross-entropy is just the specific case when there is just one class – and its negation...)."
   ]
  },
  {
   "cell_type": "markdown",
   "id": "cfb0dfab-20e4-49ca-8488-78f981215886",
   "metadata": {
    "slideshow": {
     "slide_type": "notes"
    }
   },
   "source": [
    "The choice of loss function is very important. Luckily there are some standard loss functions for common problems. \n",
    "Categorical cross-entropy is used for many-class classification and mean squared error is a common regression loss, We will explain the meaning of these terms later."
   ]
  },
  {
   "cell_type": "markdown",
   "id": "ae57a954",
   "metadata": {
    "slideshow": {
     "slide_type": "subslide"
    }
   },
   "source": [
    "The optimiser is always a variety of stochastic gradient descent (SGD)."
   ]
  },
  {
   "cell_type": "markdown",
   "id": "85110ab4",
   "metadata": {
    "slideshow": {
     "slide_type": "fragment"
    }
   },
   "source": [
    "`tensorflow.keras` offers several SGD variants."
   ]
  },
  {
   "cell_type": "markdown",
   "id": "506cae55-ad58-49f2-bf69-e95a79625704",
   "metadata": {
    "slideshow": {
     "slide_type": "fragment"
    }
   },
   "source": [
    "Bespoke gradient free methods are also possible."
   ]
  },
  {
   "cell_type": "markdown",
   "id": "b3437bc2-58f4-49b5-816f-2be787a8badd",
   "metadata": {
    "slideshow": {
     "slide_type": "notes"
    }
   },
   "source": [
    "Finally, although TensorFlow Keras provides a choice of optimiser, they are all SGD variants. The framework is versatile enough for non-gradient optimisation techniques such as genetic algorithms and swarm optimisation - as long as you are willing to write the code.   "
   ]
  }
 ],
 "metadata": {
  "celltoolbar": "Slideshow",
  "kernelspec": {
   "display_name": "Python 3 (ipykernel)",
   "language": "python",
   "name": "python3"
  },
  "language_info": {
   "codemirror_mode": {
    "name": "ipython",
    "version": 3
   },
   "file_extension": ".py",
   "mimetype": "text/x-python",
   "name": "python",
   "nbconvert_exporter": "python",
   "pygments_lexer": "ipython3",
   "version": "3.7.13"
  }
 },
 "nbformat": 4,
 "nbformat_minor": 5
}
