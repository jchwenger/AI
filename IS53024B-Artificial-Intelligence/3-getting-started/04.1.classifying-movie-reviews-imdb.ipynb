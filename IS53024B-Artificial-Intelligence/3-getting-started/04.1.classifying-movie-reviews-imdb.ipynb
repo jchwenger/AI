{
 "cells": [
  {
   "cell_type": "markdown",
   "id": "7bcf6188-684a-464c-bd97-29ec054c79f3",
   "metadata": {
    "slideshow": {
     "slide_type": "slide"
    }
   },
   "source": [
    "---\n",
    "\n",
    "# 4 Getting started with neural networks:\n",
    "\n",
    "# Classification and regression"
   ]
  },
  {
   "cell_type": "code",
   "execution_count": 1,
   "id": "657f86a4",
   "metadata": {
    "slideshow": {
     "slide_type": "fragment"
    }
   },
   "outputs": [],
   "source": [
    "import os\n",
    "import numpy as np\n",
    "import tensorflow as tf\n",
    "\n",
    "import matplotlib.pyplot as plt\n",
    "plt.rcParams['lines.markersize'] = 2  # nice scatter point size\n",
    "\n",
    "# matplotlib shenanigans\n",
    "import matplotlib\n",
    "plt_fontsize = matplotlib.rcParams[\"font.size\"]\n",
    "\n",
    "from IPython.display import YouTubeVideo\n",
    "\n",
    "os.environ['TF_CPP_MIN_LOG_LEVEL'] = '3' # mute some annoying warnings"
   ]
  },
  {
   "cell_type": "markdown",
   "id": "ef86b826",
   "metadata": {
    "slideshow": {
     "slide_type": "subslide"
    },
    "tags": []
   },
   "source": [
    "## * Binary classification: data → scalar (probability of *one* class)\n",
    "\n",
    "*\\\"Here is a photo, is it a cat or not?\" (Negative/Positive, detecting if something is there, etc.)*\n",
    "\n",
    "#### Multiclass classification: data → vector (distribution over *many classes*)\n",
    "\n",
    "*\\\"Here is a photo, multiple choice for you: is it a cat, a dog, an airplane, a flower, ... ?*\n",
    "\n",
    "#### Regression: data → scalar (a continuous value describing the data)\n",
    "\n",
    "*\\\"Here is a data about a house, what is its price)?* <small>☠️☠️☠️ *Logistic regression* (*classification problem*) ≠ *regression*!!</small>"
   ]
  },
  {
   "cell_type": "markdown",
   "id": "671566b7",
   "metadata": {
    "slideshow": {
     "slide_type": "subslide"
    }
   },
   "source": [
    "<!-- ![Classification vs regression](images/ml/Classification-vs-Regression.png) -->\n",
    "<img src=\"https://drive.google.com/uc?id=1S52SD-ArBxIvm-LoIyTdN9ZfZgzB4SGb\">\n",
    "\n",
    "<small>[Sami Belkacem, \"Machine learning approaches to rank news feed updates on social media\", ResearchGate](https://www.researchgate.net/figure/Classification-vs-Regression_fig2_350993856)</small>"
   ]
  },
  {
   "cell_type": "markdown",
   "id": "4ac38481",
   "metadata": {
    "slideshow": {
     "slide_type": "subslide"
    }
   },
   "source": [
    "<!-- ![Binary vs multiclass classification](images/ml/Binary-vs-Multiclass-classification.jpg) -->\n",
    "<img src=\"https://drive.google.com/uc?id=1jF7_UNZY6sBtEr-whc8pvkNxyYIHPTiD\">\n",
    "\n",
    "<small>[Nithiyaraj et al., \"FPGA Based Real Time Classification With Support Vector Machine\", ResearchGate](https://www.researchgate.net/figure/Binary-vs-Multiclass-classification_fig1_342987800)</small>"
   ]
  },
  {
   "cell_type": "markdown",
   "id": "f639357b-1288-4ac5-8484-3c71fe2e1ab3",
   "metadata": {
    "slideshow": {
     "slide_type": "slide"
    }
   },
   "source": [
    "---\n",
    "\n",
    "# 4.1 Classifying movie reviews: a binary classification example\n",
    "\n",
    "## 4.1.1 The IMDB dataset"
   ]
  },
  {
   "cell_type": "markdown",
   "id": "f90b873c",
   "metadata": {
    "slideshow": {
     "slide_type": "subslide"
    }
   },
   "source": [
    "Two-class, or binary, classification, is a common ML application.\n",
    "\n",
    "The [International Movie Data Base dataset](https://www.tensorflow.org/datasets/catalog/imdb_reviews) consists of 50000 highly polarised textual movie reviews.\n",
    "\n",
    "They are labelled **positive** or **negative**.\n",
    "\n",
    "Ships with TensorFlow! 25000 training, 25000 testing.\n",
    "\n",
    "Each set has 50% positive reviews, 50% negative."
   ]
  },
  {
   "cell_type": "code",
   "execution_count": 2,
   "id": "b2361266",
   "metadata": {
    "slideshow": {
     "slide_type": "fragment"
    }
   },
   "outputs": [
    {
     "name": "stdout",
     "output_type": "stream",
     "text": [
      "(25000,) (25000,)\n"
     ]
    }
   ],
   "source": [
    "# download data: top 10000 most frequent words only, discard rare words\n",
    "                                                                                                           # limit our vocab to 10k\n",
    "((train_data, train_labels), (test_data, test_labels)) = tf.keras.datasets.imdb.load_data(num_words=10000) # rarer words are out\n",
    "print(train_data.shape, test_data.shape)"
   ]
  },
  {
   "cell_type": "code",
   "execution_count": 3,
   "id": "8371e3a8-ea3c-4c09-a982-8e3481c5559a",
   "metadata": {
    "slideshow": {
     "slide_type": "subslide"
    }
   },
   "outputs": [
    {
     "name": "stdout",
     "output_type": "stream",
     "text": [
      "[1, 13, 244, 6, 87, 337, 7, 628, 2219, 5, 28, 285, 15, 240, 93, 23, 288, 549, 18, 1455, 673, 4, 241, 534, 3635, 8448, 20, 38, 54, 13, 258, 46, 44, 14, 13, 1241, 7258, 12, 5, 5, 51, 9, 14, 45, 6, 762, 7, 2, 1309, 328, 5, 428, 2473, 15, 26, 1292, 5, 3939, 6728, 5, 1960, 279, 13, 92, 124, 803, 52, 21, 279, 14, 9, 43, 6, 762, 7, 595, 15, 16, 2, 23, 4, 1071, 467, 4, 403, 7, 628, 2219, 8, 97, 6, 171, 3596, 99, 387, 72, 97, 12, 788, 15, 13, 161, 459, 44, 4, 3939, 1101, 173, 21, 69, 8, 401, 2, 4, 481, 88, 61, 4731, 238, 28, 32, 11, 32, 14, 9, 6, 545, 1332, 766, 5, 203, 73, 28, 43, 77, 317, 11, 4, 2, 953, 270, 17, 6, 3616, 13, 545, 386, 25, 92, 1142, 129, 278, 23, 14, 241, 46, 7, 158]\n"
     ]
    }
   ],
   "source": [
    "print(train_data[100]) # how a text looks like: a list of numbers! "
   ]
  },
  {
   "cell_type": "markdown",
   "id": "afbf7f1d",
   "metadata": {
    "slideshow": {
     "slide_type": "subslide"
    }
   },
   "source": [
    "#### A negative review"
   ]
  },
  {
   "cell_type": "code",
   "execution_count": 4,
   "id": "47cee6a9",
   "metadata": {
    "slideshow": {
     "slide_type": "fragment"
    }
   },
   "outputs": [],
   "source": [
    "word_index = tf.keras.datasets.imdb.get_word_index()                   # get words → index\n",
    "reverse_word_index = {value:key for key,value in word_index.items()}   # reverse: index → word (Python dict comprehension)\n",
    "decoded_review = ' '.join(\n",
    "    [                                      # get() works like [] but you can set a default\n",
    "        reverse_word_index.get(i - 3, '?') # value if the key isn't found -3 because the first \n",
    "        for i in train_data[100]           # three slots in the vocab are 0: \"padding\",\n",
    "    ]                                      #                              1: \"start of sequence\",\n",
    ")                                          #                              2: \"unknown\""
   ]
  },
  {
   "cell_type": "code",
   "execution_count": 5,
   "id": "dc910c76-b08f-4e63-b039-a5e7e7bf306e",
   "metadata": {
    "slideshow": {
     "slide_type": "fragment"
    }
   },
   "outputs": [
    {
     "name": "stdout",
     "output_type": "stream",
     "text": [
      "? i am a great fan of david lynch and have everything that he's made on dvd except for hotel room the 2 hour twin peaks movie so when i found out about this i immediately grabbed it and and what is this it's a bunch of ? drawn black and white cartoons that are loud and foul mouthed and unfunny maybe i don't know what's good but maybe this is just a bunch of crap that was ? on the public under the name of david lynch to make a few bucks too let me make it clear that i didn't care about the foul language part but had to keep ? the sound because my neighbors might have all in all this is a highly disappointing release and may well have just been left in the ? box set as a curiosity i highly recommend you don't spend your money on this 2 out of 10\n"
     ]
    }
   ],
   "source": [
    "print(decoded_review) "
   ]
  },
  {
   "cell_type": "code",
   "execution_count": 6,
   "id": "c7f3a2c5-db7c-4db9-8c8d-0f5f4327c17a",
   "metadata": {
    "slideshow": {
     "slide_type": "fragment"
    }
   },
   "outputs": [
    {
     "name": "stdout",
     "output_type": "stream",
     "text": [
      "0\n"
     ]
    }
   ],
   "source": [
    "print(train_labels[100]) # 0: negative"
   ]
  },
  {
   "cell_type": "markdown",
   "id": "389ce11b",
   "metadata": {
    "slideshow": {
     "slide_type": "subslide"
    }
   },
   "source": [
    "#### A positive review\n",
    "\n",
    "The question marks are in place of words outside the 10000 word dictionary."
   ]
  },
  {
   "cell_type": "code",
   "execution_count": 7,
   "id": "32591733-55e9-4b66-9deb-f3dc5fdafe6f",
   "metadata": {
    "slideshow": {
     "slide_type": "fragment"
    }
   },
   "outputs": [
    {
     "name": "stdout",
     "output_type": "stream",
     "text": [
      "? the biggest reason i had to see this movie was that it stars susan swift an outstanding and all too ? actress time travel movies usually don't interest me and neither do movies about witchcraft but this movie was fascinating and creepy it didn't rely on outrageous special effects and it didn't focus so heavily on the time travel that the viewer gets lost and confused this was a really creative movie kept simple and focused with great acting by all \n",
      "\n",
      "label:  1\n"
     ]
    }
   ],
   "source": [
    "# let's try another one\n",
    "decoded_review = ' '.join([reverse_word_index.get(i - 3, '?') for i in train_data[83]])\n",
    "print(decoded_review, '\\n\\nlabel: ', train_labels[83])"
   ]
  },
  {
   "cell_type": "markdown",
   "id": "22aae0d1",
   "metadata": {
    "slideshow": {
     "slide_type": "slide"
    }
   },
   "source": [
    "---\n",
    "\n",
    "## 4.1.2 Preparing the data"
   ]
  },
  {
   "cell_type": "markdown",
   "id": "9518645a-d353-4e9e-8a10-6c3a5c75e9f5",
   "metadata": {
    "slideshow": {
     "slide_type": "subslide"
    }
   },
   "source": [
    "The network requires tensor input, not lists!\n",
    "\n",
    "What we do:\n",
    "\n",
    "1.  Create integer tensors;\n",
    "2.  **Pad** lists so they have equal length;\n",
    "3.  Use **multi-hot** encode."
   ]
  },
  {
   "cell_type": "markdown",
   "id": "afc5704d",
   "metadata": {
    "slideshow": {
     "slide_type": "subslide"
    }
   },
   "source": [
    "### Padding\n",
    "\n",
    "It is very common for our systems only to accept tensors of a fixed length.\n",
    "\n",
    "Here, the length will be our vocabulary.\n",
    "\n",
    "In general, what does padding mean?\n",
    "\n",
    "- add a **filler** (often `0`) before, or after, shorter sequences;\n",
    "- **truncate** longer sequences."
   ]
  },
  {
   "cell_type": "markdown",
   "id": "0a224ba4",
   "metadata": {
    "slideshow": {
     "slide_type": "subslide"
    }
   },
   "source": [
    "```python\n",
    "x = [1,3]\n",
    "y = [8,5,9,4,6,7]\n",
    "# max sequence length: 5\n",
    "padded_before  = [  # all the same length\n",
    "    [0,0,0,1,3],    # zeros before\n",
    "    [5,9,4,6,7],\n",
    "]\n",
    "padded_after  = [   # all the same length\n",
    "    [1,3,0,0,0],    # zeros after\n",
    "    [8,5,9,4,6],\n",
    "]\n",
    "```"
   ]
  },
  {
   "cell_type": "markdown",
   "id": "b6192227",
   "metadata": {
    "slideshow": {
     "slide_type": "subslide"
    }
   },
   "source": [
    "### Multi-hot encoding\n",
    "\n",
    "Same as one-hot, but we allow for **more than a single hot index**.\n",
    "\n",
    "The total length of the list is the **size of our vocabulary** (10k words)."
   ]
  },
  {
   "cell_type": "code",
   "execution_count": 8,
   "id": "82658ded",
   "metadata": {
    "slideshow": {
     "slide_type": "fragment"
    }
   },
   "outputs": [],
   "source": [
    "# turn our texts into multi-hot encodings\n",
    "def vectorize_sequences(sequences, dimension=10000):\n",
    "    results = np.zeros((len(sequences), dimension))     # a matrix of shape len(seq) x vocab, full of zeros\n",
    "    for i, sequence in enumerate(sequences):            # for each sequence:\n",
    "        results[i, sequence] = 1.                       # fill the appropriate indices with 1\n",
    "    return results                                      # note the NumPy magic! `sequence` is an array!\n",
    "                                                        # acting as the list of all indices where we want 1s"
   ]
  },
  {
   "cell_type": "code",
   "execution_count": 9,
   "id": "e59ccbdb",
   "metadata": {
    "slideshow": {
     "slide_type": "fragment"
    }
   },
   "outputs": [
    {
     "name": "stdout",
     "output_type": "stream",
     "text": [
      "[[3 5]]\n",
      "[[0. 0. 0. 1. 0. 1. 0. 0. 0. 0.]]\n"
     ]
    }
   ],
   "source": [
    "my_sequences = np.array([[3, 5]])\n",
    "print(my_sequences)\n",
    "print(vectorize_sequences(my_sequences, dimension=10))"
   ]
  },
  {
   "cell_type": "code",
   "execution_count": 10,
   "id": "6cae30e5-3423-4cb9-8103-cd183c1825ec",
   "metadata": {
    "slideshow": {
     "slide_type": "subslide"
    }
   },
   "outputs": [],
   "source": [
    "x_train = vectorize_sequences(train_data)\n",
    "x_test = vectorize_sequences(test_data)\n",
    "\n",
    "y_train = np.asarray(train_labels).astype('float32') # convert to float32\n",
    "y_test = np.asarray(test_labels).astype('float32')"
   ]
  },
  {
   "cell_type": "markdown",
   "id": "51b498e3-01bc-448c-91fe-40f75bd07fbc",
   "metadata": {
    "slideshow": {
     "slide_type": "notes"
    }
   },
   "source": [
    "This code one-hot encodes samples and converts the labels to floating point valued tensors"
   ]
  },
  {
   "cell_type": "markdown",
   "id": "85085633-e5cc-459d-8092-db6dbec9fc2c",
   "metadata": {
    "slideshow": {
     "slide_type": "slide"
    }
   },
   "source": [
    "---\n",
    "\n",
    "## 4.1.3 Building your model"
   ]
  },
  {
   "cell_type": "markdown",
   "id": "fa4a4870-5e90-47b3-a7fb-4be39467531d",
   "metadata": {
    "slideshow": {
     "slide_type": "subslide"
    }
   },
   "source": [
    "What we have so far: vector samples, scalar labels.\n",
    "\n",
    "Let's build a small stack of fully connected `relu`-activated layers."
   ]
  },
  {
   "cell_type": "code",
   "execution_count": 11,
   "id": "18a91ac2",
   "metadata": {
    "slideshow": {
     "slide_type": "fragment"
    }
   },
   "outputs": [],
   "source": [
    "model = tf.keras.models.Sequential()\n",
    "model.add(tf.keras.layers.Dense(16, activation='relu', input_shape=(10000,)))\n",
    "model.add(tf.keras.layers.Dense(16, activation='relu'))\n",
    "model.add(tf.keras.layers.Dense(1, activation='sigmoid')) # outputs a single number between 0 & 1: a single probability"
   ]
  },
  {
   "cell_type": "markdown",
   "id": "00d3372e-5114-4df3-b062-bc8d244a18f6",
   "metadata": {
    "slideshow": {
     "slide_type": "subslide"
    }
   },
   "source": [
    "`Dense(16, activation='relu')` implements `output = relu(dot(w, input) + b)`.\n",
    "\n",
    "\n",
    "- This layer transforms an input tensor into a 1D tensor of shape (16,) – a 16-dimensional vector.\n",
    "\n",
    "- **Representational space** = **(hidden) units/neurons** = **spatial dimensions** = 16.\n",
    "\n",
    "- Performs a **geometric transformation** resulting in a **point in 16 dimensional space**. \n",
    "\n",
    "- Because we always process a **batch**, the dimension you'll see will be 2D: (batch_size, 16).\n",
    "\n",
    "Think: 16 units → 16-dimensional output."
   ]
  },
  {
   "cell_type": "markdown",
   "id": "a916903c",
   "metadata": {
    "slideshow": {
     "slide_type": "subslide"
    }
   },
   "source": [
    "##### For one sample\n",
    "\n",
    "| parameter |  shape | note |\n",
    "| --- |  :--- | :--- |\n",
    "| input| `(1,10000)`  ||\n",
    "| weights| `(10000, 16)`  ||\n",
    "| $Wx$| `(1,16)` | `(1,10000)`$\\times$`(10000,16)` → `(1,16)` |\n",
    "| bias|`(1,16)`  | added elementwise |\n",
    "| output| `(1,16)`  | activation also elementwise |\n"
   ]
  },
  {
   "cell_type": "markdown",
   "id": "caf6e60b",
   "metadata": {
    "slideshow": {
     "slide_type": "subslide"
    }
   },
   "source": [
    "##### For a mini-batch\n",
    "\n",
    "| parameter |  shape | note |\n",
    "| --- |  :--- | :--- |\n",
    "| input| `(batch_size,10000)`  ||\n",
    "| weights| `(10000, 16)`  ||\n",
    "| $Wx$| `(batch_size,16)` | `(batch_size,10000)`$\\times$`(10000,16)` → `(batch_size,16)` |\n",
    "| bias|`(batch_size,16)`  | added elementwise|\n",
    "| output| `(batch_size,16)`  |  activation also elementwise |\n"
   ]
  },
  {
   "cell_type": "markdown",
   "id": "9c042508-943c-4e68-ad71-862684a490b3",
   "metadata": {
    "slideshow": {
     "slide_type": "skip"
    }
   },
   "source": [
    "##### Note\n",
    "\n",
    "- Math: the number of elements in a vector is the **dimension** or **length** of the vector  \n",
    "- Programming: **dimension** of a tensor, which is the number of **axes** (or the *length* of the *shape*)!"
   ]
  },
  {
   "cell_type": "markdown",
   "id": "02176c53",
   "metadata": {
    "slideshow": {
     "slide_type": "skip"
    }
   },
   "source": [
    "##### Note \n",
    "\n",
    "A **unit** is a throwback to the days when artificial neural networks were based on biological neural networks.\n",
    "\n",
    "A unit is the computational analogue of the neuron.\n",
    "\n",
    "<!-- ![Stanford brain neuron](images/deep/stanford.neuron.brain.png) -->\n",
    "<img src=\"https://drive.google.com/uc?id=16t2aRpbgAnLIAXwdNpc3ziScepW25YuQ\">\n",
    "\n",
    "<small>Source: [CS231n: Convolutional Neural Networks for Visual Recognition](http://cs231n.stanford.edu/2017/syllabus.html), lecture 4</small>"
   ]
  },
  {
   "cell_type": "markdown",
   "id": "7307d282-67ed-4cbe-867b-775445fc95fb",
   "metadata": {
    "slideshow": {
     "slide_type": "subslide"
    }
   },
   "source": [
    "### How many hidden units?\n",
    "\n",
    "More hidden units means more complex representations can be learned but:\n",
    "\n",
    "- the network is computationally more expensive;\n",
    "- the network might fit the training data too tightly and performance on the test set degrades.  \n",
    "  (This is called **overfitting**, we are going to talk about that a lot.)"
   ]
  },
  {
   "cell_type": "markdown",
   "id": "91ed3430",
   "metadata": {
    "slideshow": {
     "slide_type": "subslide"
    }
   },
   "source": [
    "### Loss, optimiser\n",
    "\n",
    "This is a binary classification problem: positive or negative.\n",
    "\n",
    "Our network output could a probability, between 0 and 1, and we cut off at 0.5.\n",
    "\n",
    "The **binary cross-entropy** is the loss that will get you that result.\n",
    "\n",
    "Optimizer: `RMSprop`, for starters."
   ]
  },
  {
   "cell_type": "markdown",
   "id": "1f00c0db",
   "metadata": {
    "slideshow": {
     "slide_type": "subslide"
    }
   },
   "source": [
    "### Binary cross-entropy\n",
    "\n",
    "We have a label that can be 0 or 1.\n",
    "\n",
    "We have a network that outputs a probability between 0 and 1.\n",
    "\n",
    "We want a loss that penalises the network if it predicts 0 instead of 1, and 1 instead of 0."
   ]
  },
  {
   "cell_type": "markdown",
   "id": "202f6f5d",
   "metadata": {
    "slideshow": {
     "slide_type": "subslide"
    }
   },
   "source": [
    "### Binary cross-entropy\n",
    "\n",
    "The math (for reference):\n",
    "\n",
    "\\begin{align*}\n",
    "\\bbox[5px,border:2px solid red]\n",
    "{\n",
    "J_{sample} = \\color{purple}{- y \\log y_{pred}} \\color{navy}{- (1 - y) \\log (1 - y_{pred})} \n",
    "}\n",
    "\\end{align*}\n",
    "\n",
    "- $y$: our **label**, either 0 or 1.  \n",
    "- $y_{pred}$: our **predictions**: a probability between 0 and 1!  \n",
    "- smooth & differentiable for SGD. (◕‿◕)\n",
    "\n",
    "Notice the $y$ and $(1 - y)$?\n",
    "\n",
    "This means that if $y$ is 0, the left term goes away, and vice-versa if $y$ is 1."
   ]
  },
  {
   "cell_type": "markdown",
   "id": "60f74c29-89f9-4799-b7fe-a8dd6afbe660",
   "metadata": {
    "slideshow": {
     "slide_type": "skip"
    }
   },
   "source": [
    "\\begin{align*}\n",
    "& & J_{sample} &= \\color{blue}{- y \\log y_{pred}} \\color{red}{- (1 - y) \\log (1 - y_{pred})}\\\\\n",
    "\\text{case 1:}\\ \\color{fuchsia}{y = 0} \\Rightarrow&& J_{sample} &= \\color{red}{-\\log(1 - y_{pred})} \\\\\n",
    "\\text{minimize} J_{sample} \\Rightarrow&& &= 0\\\\\n",
    "& & & & y_{pred} \\rightarrow 0\n",
    "\\end{align*}\n"
   ]
  },
  {
   "cell_type": "markdown",
   "id": "563410ca-32eb-469a-ad01-3618e135d763",
   "metadata": {
    "slideshow": {
     "slide_type": "skip"
    }
   },
   "source": [
    "\\begin{align*}\n",
    "& & J_{sample} &= \\color{red}{- y \\log y_{pred}} \\color{blue}{- (1 - y) \\log (1 - y_{pred})} \\\\\n",
    "\\text{case 2:}\\ \\color{fuchsia}{y = 1} \\Rightarrow&& J_{sample} &= \\color{red}{-\\log y_{pred}} \\\\\n",
    "\\text{minimize} J_{sample} \\Rightarrow&& &= 0\\\\\n",
    "& & & & y_{pred} \\rightarrow 1\n",
    "\\end{align*}  \n"
   ]
  },
  {
   "cell_type": "code",
   "execution_count": 12,
   "id": "400efcfd",
   "metadata": {
    "slideshow": {
     "slide_type": "skip"
    }
   },
   "outputs": [],
   "source": [
    "def plot_binary_crossentropy(figsize=(10,8)):\n",
    "    preds = np.linspace(0.01, .99, 100)\n",
    "    matplotlib.rcParams.update({'font.size': plt_fontsize * 1.5}) # bigger font\n",
    "    f = plt.figure(figsize=figsize)                               # control figure size\n",
    "    plt.plot(preds, -np.log(preds), label=\"If truth is 1: -log(x)\")\n",
    "    plt.plot(preds, -np.log(1 - preds), label=\"If truth is 0: -log(1 - x)\")\n",
    "    plt.text(0.03, 4, \"← truth: 1\") # -log(x)\n",
    "    plt.text(0.065, 3.8, \"pred: 0\")\n",
    "    plt.text(0.065, 3.55, \"BAD!\")\n",
    "    plt.text(0.055, 0.7, \"truth: 0\")\n",
    "    plt.text(0.055, 0.5, \"pred: 0\")\n",
    "    plt.text(0.02, 0.3, \"↓ GOOD!\")\n",
    "    plt.text(0.82, 4, \"truth: 0 →\") # -log(1-x)\n",
    "    plt.text(0.82, 3.8, \"pred: 1\")\n",
    "    plt.text(0.82, 3.55, \"BAD!\")\n",
    "    plt.text(0.88, 0.7, \"truth: 1\")\n",
    "    plt.text(0.88, 0.5, \"pred: 1\")\n",
    "    plt.text(0.85, 0.3, \"↓ GOOD!\")\n",
    "    plt.title(\"Logistic regression loss\")\n",
    "    plt.xlabel(\"Predictions\")\n",
    "    plt.ylabel(\"Loss\")\n",
    "    plt.grid()\n",
    "    plt.legend()\n",
    "    plt.show()\n",
    "    matplotlib.rcParams.update({'font.size': plt_fontsize})"
   ]
  },
  {
   "cell_type": "code",
   "execution_count": 13,
   "id": "3802bcde",
   "metadata": {
    "slideshow": {
     "slide_type": "subslide"
    }
   },
   "outputs": [
    {
     "data": {
      "image/png": "[encoded data removed]",
      "text/plain": [
       "<Figure size 1000x800 with 1 Axes>"
      ]
     },
     "metadata": {},
     "output_type": "display_data"
    }
   ],
   "source": [
    "plot_binary_crossentropy()"
   ]
  },
  {
   "cell_type": "code",
   "execution_count": 14,
   "id": "804955cb-bb50-4f72-bf22-915491fda7e5",
   "metadata": {
    "slideshow": {
     "slide_type": "subslide"
    }
   },
   "outputs": [],
   "source": [
    "model.compile(\n",
    "    optimizer='rmsprop',\n",
    "    loss='binary_crossentropy',\n",
    "    metrics=['accuracy']\n",
    ")"
   ]
  },
  {
   "cell_type": "code",
   "execution_count": 15,
   "id": "5ff58ad9-5ba6-4902-a980-1810d8451062",
   "metadata": {
    "slideshow": {
     "slide_type": "fragment"
    }
   },
   "outputs": [],
   "source": [
    "model.compile(                                                   # for more control, we can pass \n",
    "    optimizer=tf.keras.optimizers.RMSprop(learning_rate=0.001),  # the optimizer as an object! (See: https://www.tensorflow.org/api_docs/python/tf/keras/optimizers)\n",
    "    loss=tf.keras.losses.binary_crossentropy,\n",
    "    metrics=['accuracy']\n",
    ")"
   ]
  },
  {
   "cell_type": "markdown",
   "id": "cd74c25d",
   "metadata": {
    "slideshow": {
     "slide_type": "subslide"
    }
   },
   "source": [
    "### Test untrained / commonsense baseline"
   ]
  },
  {
   "cell_type": "code",
   "execution_count": 16,
   "id": "ffc3b80e",
   "metadata": {
    "slideshow": {
     "slide_type": "fragment"
    }
   },
   "outputs": [
    {
     "name": "stderr",
     "output_type": "stream",
     "text": [
      "2023-10-18 17:09:30.512161: W tensorflow/tsl/framework/cpu_allocator_impl.cc:83] Allocation of 1000000000 exceeds 10% of free system memory.\n",
      "2023-10-18 17:09:31.596542: W tensorflow/tsl/framework/cpu_allocator_impl.cc:83] Allocation of 1000000000 exceeds 10% of free system memory.\n"
     ]
    },
    {
     "name": "stdout",
     "output_type": "stream",
     "text": [
      "loss: 0.6912882924079895, accuracy: 0.532480001449585\n"
     ]
    }
   ],
   "source": [
    "results = model.evaluate(x_test, y_test, verbose=0) # test our untrained net.\n",
    "\n",
    "print(f\"loss: {results[0]}, accuracy: {results[1]}\")"
   ]
  },
  {
   "cell_type": "markdown",
   "id": "0d634afc",
   "metadata": {
    "slideshow": {
     "slide_type": "fragment"
    }
   },
   "source": [
    "Each set has 50% positive reviews, 50% negative, remember? \n",
    "\n",
    "In this case, a **commonsense baseline** is just a **random guess**.\n",
    "\n",
    "A random guess would give you 50%, and we have around 0.5 accuracy."
   ]
  },
  {
   "cell_type": "code",
   "execution_count": 17,
   "id": "3311041d",
   "metadata": {
    "slideshow": {
     "slide_type": "fragment"
    }
   },
   "outputs": [
    {
     "name": "stdout",
     "output_type": "stream",
     "text": [
      "0.5 [False  True  True ... False False False]\n"
     ]
    }
   ],
   "source": [
    "random_guesses = y_test > 0 # an array of booleans ↔ can be interpreted as 0s and 1s\n",
    "print(random_guesses.mean(), random_guesses)"
   ]
  },
  {
   "cell_type": "markdown",
   "id": "1e424f38-a308-4508-b153-a4e2ad37a94d",
   "metadata": {
    "slideshow": {
     "slide_type": "slide"
    }
   },
   "source": [
    "---\n",
    "\n",
    "## 4.1.4 Validating your approach"
   ]
  },
  {
   "cell_type": "markdown",
   "id": "3fb4a099",
   "metadata": {
    "slideshow": {
     "slide_type": "subslide"
    }
   },
   "source": [
    "### The problem\n",
    "\n",
    "We want our model to do well on unseen data. (We use our test set for that.)\n",
    "\n",
    "To do that, we **tweak** hyperparameters.\n",
    "\n",
    "For example, experiment with different learning rates.\n",
    "\n",
    "\n",
    "##### Note\n",
    "\n",
    "Hyperparameters are all **non-trainable parameters**.  "
   ]
  },
  {
   "cell_type": "markdown",
   "id": "0ea748b3",
   "metadata": {
    "slideshow": {
     "slide_type": "subslide"
    }
   },
   "source": [
    "### However\n",
    "\n",
    "If we tweak our parameters and then check the results on our test set...\n",
    "\n",
    "It's **no longer unseen data**!\n",
    "\n",
    "**Information** about/from our test set has **leaked** into our training process.\n",
    "\n",
    "*It's as if we had trained on our test set (a little bit).*"
   ]
  },
  {
   "cell_type": "markdown",
   "id": "eca14cb4",
   "metadata": {
    "slideshow": {
     "slide_type": "subslide"
    }
   },
   "source": [
    "### A solution: validation\n",
    "\n",
    "We are going to replicate our train/test division **within the training set**.\n",
    "\n",
    "Training → partial train + validation"
   ]
  },
  {
   "cell_type": "markdown",
   "id": "6192e717",
   "metadata": {
    "slideshow": {
     "slide_type": "subslide"
    }
   },
   "source": [
    "<!-- ![training validation test](images/ml/training-validation-test.png) -->\n",
    "<img src=\"https://drive.google.com/uc?id=16JvGs6C3n_MXIgjkyawGfFHaDm7Wdz57\">\n",
    "\n",
    "<small>[\"Training, Validation and Test sets 차이 및 정확한 용도 (훈련, 검정, 테스트 데이터 차이)\"](https://modern-manual.tistory.com/m/19)</small>"
   ]
  },
  {
   "cell_type": "markdown",
   "id": "d236b01f",
   "metadata": {
    "slideshow": {
     "slide_type": "subslide"
    }
   },
   "source": [
    "### Workflow\n",
    "\n",
    "1. Train on the **partial training set**;\n",
    "2. Track performance on the **validation set**;\n",
    "3. Tweak hyperparameters to get the best result on the **validation set**;\n",
    "4. Retrain on with best hyperparams on the **whole training set**;\n",
    "5. Test on **test set**."
   ]
  },
  {
   "cell_type": "markdown",
   "id": "5a70c5c7",
   "metadata": {
    "slideshow": {
     "slide_type": "subslide"
    }
   },
   "source": [
    "<!-- ![training validation test](images/ml/select-best-model.png) -->\n",
    "<img src=\"https://drive.google.com/uc?id=1Pb_NCbfETi5KWyut5p4WPwHJnoqRmQdG\">\n",
    "\n",
    "<small>[\"Training, Validation and Test sets 차이 및 정확한 용도 (훈련, 검정, 테스트 데이터 차이)\"](https://modern-manual.tistory.com/m/19)</small>"
   ]
  },
  {
   "cell_type": "code",
   "execution_count": 18,
   "id": "5dd863c3-9651-452a-ac2a-eb0e6a399190",
   "metadata": {
    "slideshow": {
     "slide_type": "subslide"
    }
   },
   "outputs": [],
   "source": [
    "partial_x_train = x_train[10000:]\n",
    "partial_y_train = y_train[10000:]\n",
    "\n",
    "x_val = x_train[:10000]\n",
    "y_val = y_train[:10000]"
   ]
  },
  {
   "cell_type": "code",
   "execution_count": 19,
   "id": "b0d51f8a-4990-4f06-9f21-24229fa17dff",
   "metadata": {
    "slideshow": {
     "slide_type": "fragment"
    }
   },
   "outputs": [
    {
     "name": "stderr",
     "output_type": "stream",
     "text": [
      "2023-10-18 17:09:38.388809: W tensorflow/tsl/framework/cpu_allocator_impl.cc:83] Allocation of 600000000 exceeds 10% of free system memory.\n",
      "2023-10-18 17:09:39.001488: W tensorflow/tsl/framework/cpu_allocator_impl.cc:83] Allocation of 600000000 exceeds 10% of free system memory.\n"
     ]
    },
    {
     "name": "stdout",
     "output_type": "stream",
     "text": [
      "Epoch 1/20\n",
      "29/30 [============================>.] - ETA: 0s - loss: 0.5304 - accuracy: 0.7694"
     ]
    },
    {
     "name": "stderr",
     "output_type": "stream",
     "text": [
      "2023-10-18 17:09:43.602779: W tensorflow/tsl/framework/cpu_allocator_impl.cc:83] Allocation of 400000000 exceeds 10% of free system memory.\n"
     ]
    },
    {
     "name": "stdout",
     "output_type": "stream",
     "text": [
      "30/30 [==============================] - 5s 71ms/step - loss: 0.5290 - accuracy: 0.7707 - val_loss: 0.4057 - val_accuracy: 0.8440\n",
      "Epoch 2/20\n",
      "30/30 [==============================] - 1s 25ms/step - loss: 0.3155 - accuracy: 0.8957 - val_loss: 0.3045 - val_accuracy: 0.8857\n",
      "Epoch 3/20\n",
      "30/30 [==============================] - 1s 26ms/step - loss: 0.2358 - accuracy: 0.9206 - val_loss: 0.2836 - val_accuracy: 0.8870\n",
      "Epoch 4/20\n",
      "30/30 [==============================] - 1s 26ms/step - loss: 0.1906 - accuracy: 0.9349 - val_loss: 0.2819 - val_accuracy: 0.8867\n",
      "Epoch 5/20\n",
      "30/30 [==============================] - 1s 26ms/step - loss: 0.1520 - accuracy: 0.9509 - val_loss: 0.2880 - val_accuracy: 0.8852\n",
      "Epoch 6/20\n",
      "30/30 [==============================] - 1s 26ms/step - loss: 0.1300 - accuracy: 0.9587 - val_loss: 0.2973 - val_accuracy: 0.8820\n",
      "Epoch 7/20\n",
      "30/30 [==============================] - 1s 27ms/step - loss: 0.1122 - accuracy: 0.9643 - val_loss: 0.3310 - val_accuracy: 0.8790\n",
      "Epoch 8/20\n",
      "30/30 [==============================] - 1s 27ms/step - loss: 0.0962 - accuracy: 0.9718 - val_loss: 0.3284 - val_accuracy: 0.8786\n",
      "Epoch 9/20\n",
      "30/30 [==============================] - 1s 27ms/step - loss: 0.0821 - accuracy: 0.9776 - val_loss: 0.3563 - val_accuracy: 0.8714\n",
      "Epoch 10/20\n",
      "30/30 [==============================] - 1s 28ms/step - loss: 0.0719 - accuracy: 0.9789 - val_loss: 0.3530 - val_accuracy: 0.8828\n",
      "Epoch 11/20\n",
      "30/30 [==============================] - 1s 26ms/step - loss: 0.0573 - accuracy: 0.9855 - val_loss: 0.4086 - val_accuracy: 0.8736\n",
      "Epoch 12/20\n",
      "30/30 [==============================] - 1s 24ms/step - loss: 0.0516 - accuracy: 0.9871 - val_loss: 0.3968 - val_accuracy: 0.8736\n",
      "Epoch 13/20\n",
      "30/30 [==============================] - 1s 26ms/step - loss: 0.0418 - accuracy: 0.9905 - val_loss: 0.4170 - val_accuracy: 0.8777\n",
      "Epoch 14/20\n",
      "30/30 [==============================] - 1s 24ms/step - loss: 0.0330 - accuracy: 0.9941 - val_loss: 0.4427 - val_accuracy: 0.8763\n",
      "Epoch 15/20\n",
      "30/30 [==============================] - 1s 25ms/step - loss: 0.0303 - accuracy: 0.9943 - val_loss: 0.4847 - val_accuracy: 0.8732\n",
      "Epoch 16/20\n",
      "30/30 [==============================] - 1s 24ms/step - loss: 0.0246 - accuracy: 0.9953 - val_loss: 0.4863 - val_accuracy: 0.8748\n",
      "Epoch 17/20\n",
      "30/30 [==============================] - 1s 25ms/step - loss: 0.0225 - accuracy: 0.9954 - val_loss: 0.5117 - val_accuracy: 0.8723\n",
      "Epoch 18/20\n",
      "30/30 [==============================] - 1s 26ms/step - loss: 0.0148 - accuracy: 0.9990 - val_loss: 0.5596 - val_accuracy: 0.8651\n",
      "Epoch 19/20\n",
      "30/30 [==============================] - 1s 28ms/step - loss: 0.0182 - accuracy: 0.9965 - val_loss: 0.5596 - val_accuracy: 0.8687\n",
      "Epoch 20/20\n",
      "30/30 [==============================] - 1s 27ms/step - loss: 0.0176 - accuracy: 0.9959 - val_loss: 0.5853 - val_accuracy: 0.8708\n"
     ]
    }
   ],
   "source": [
    "history = model.fit( # note that a history object is returned by model.fit\n",
    "    partial_x_train, \n",
    "    partial_y_train,\n",
    "    epochs = 20,\n",
    "    batch_size = 512,\n",
    "    validation_data = (x_val, y_val)\n",
    ") "
   ]
  },
  {
   "cell_type": "markdown",
   "id": "c4eac03c",
   "metadata": {
    "slideshow": {
     "slide_type": "subslide"
    }
   },
   "source": [
    "### Something's going on here: let's plot!\n",
    "\n",
    "`model.fit()` returns a `history` object, as a dictionary.\n",
    "\n",
    "This contains all the data we asked `compile` to track for us:  "
   ]
  },
  {
   "cell_type": "code",
   "execution_count": 20,
   "id": "ea55679e-5b51-482e-a194-cd7e40ad1790",
   "metadata": {
    "slideshow": {
     "slide_type": "fragment"
    }
   },
   "outputs": [
    {
     "data": {
      "text/plain": [
       "dict_keys(['loss', 'accuracy', 'val_loss', 'val_accuracy'])"
      ]
     },
     "execution_count": 20,
     "metadata": {},
     "output_type": "execute_result"
    }
   ],
   "source": [
    "history_dict = history.history\n",
    "history_dict.keys() # the data gathered during training"
   ]
  },
  {
   "cell_type": "code",
   "execution_count": 21,
   "id": "789f51ef-7815-4553-8aaa-15b8c436f5ea",
   "metadata": {
    "scrolled": true,
    "slideshow": {
     "slide_type": "subslide"
    }
   },
   "outputs": [
    {
     "data": {
      "text/plain": [
       "[0.5290091633796692,\n",
       " 0.31553220748901367,\n",
       " 0.2358022928237915,\n",
       " 0.1906498372554779,\n",
       " 0.15199556946754456,\n",
       " 0.12997488677501678,\n",
       " 0.11220970004796982,\n",
       " 0.09617088735103607,\n",
       " 0.08206284791231155,\n",
       " 0.07192596048116684,\n",
       " 0.0573146753013134,\n",
       " 0.05161722004413605,\n",
       " 0.04180007055401802,\n",
       " 0.033040523529052734,\n",
       " 0.03028121590614319,\n",
       " 0.024647092446684837,\n",
       " 0.02254045009613037,\n",
       " 0.014809386804699898,\n",
       " 0.01824166439473629,\n",
       " 0.01755864918231964]"
      ]
     },
     "execution_count": 21,
     "metadata": {},
     "output_type": "execute_result"
    }
   ],
   "source": [
    "history_dict['loss'] # our loss"
   ]
  },
  {
   "cell_type": "code",
   "execution_count": 22,
   "id": "8b7af3a7-4b4c-4055-9fc7-22cee282678b",
   "metadata": {
    "slideshow": {
     "slide_type": "skip"
    }
   },
   "outputs": [],
   "source": [
    "def plot_loss():\n",
    "\n",
    "    history_dict = history.history\n",
    "    loss = history_dict['loss']\n",
    "    val_loss = history_dict['val_loss']\n",
    "\n",
    "    epochs = range(1, len(loss) + 1)\n",
    "\n",
    "    blue_dots = 'bo'\n",
    "    solid_blue_line = 'b'\n",
    "\n",
    "    plt.plot(epochs, loss, blue_dots, label = 'Training loss')\n",
    "    plt.plot(epochs, val_loss, solid_blue_line, label = 'Validation loss')\n",
    "    plt.title('Training and validation loss')\n",
    "    plt.xlabel('Epochs')\n",
    "    plt.ylabel('Loss')\n",
    "    plt.legend()\n",
    "    # plt.savefig('overfitting.png', format = 'png')\n",
    "    plt.show()"
   ]
  },
  {
   "cell_type": "code",
   "execution_count": 23,
   "id": "2111be05-64c7-477a-9be3-916b81bd54a2",
   "metadata": {
    "slideshow": {
     "slide_type": "subslide"
    }
   },
   "outputs": [
    {
     "data": {
      "image/png": "[encoded data removed]",
      "text/plain": [
       "<Figure size 640x480 with 1 Axes>"
      ]
     },
     "metadata": {},
     "output_type": "display_data"
    }
   ],
   "source": [
    "plot_loss() # overfitting!!"
   ]
  },
  {
   "cell_type": "code",
   "execution_count": 24,
   "id": "41564167-dd0b-42c1-aa7c-252ba44c91d5",
   "metadata": {
    "slideshow": {
     "slide_type": "skip"
    }
   },
   "outputs": [],
   "source": [
    "def plot_acc():\n",
    "    plt.clf()\n",
    "    acc = history_dict['accuracy']\n",
    "    val_acc = history_dict['val_accuracy']\n",
    "    epochs = range(1, len(acc) + 1)\n",
    "    plt.plot(epochs, acc, 'bo', label = 'Training acc')\n",
    "    plt.plot(epochs, val_acc, 'b', label = 'Validation acc')\n",
    "    plt.title('Training and validation acc')\n",
    "    plt.xlabel('Epochs')\n",
    "    plt.ylabel('Accuracy')\n",
    "    plt.legend()\n",
    "    plt.show()"
   ]
  },
  {
   "cell_type": "code",
   "execution_count": 25,
   "id": "31558df8-93e7-4f29-b45a-f527dbdba641",
   "metadata": {
    "slideshow": {
     "slide_type": "subslide"
    }
   },
   "outputs": [
    {
     "data": {
      "image/png": "[encoded data removed]",
      "text/plain": [
       "<Figure size 640x480 with 1 Axes>"
      ]
     },
     "metadata": {},
     "output_type": "display_data"
    }
   ],
   "source": [
    "plot_acc() # our model is *very* good on what it has seen, less so on the validation"
   ]
  },
  {
   "cell_type": "markdown",
   "id": "75eee406-4028-4d56-b511-3f69b256c568",
   "metadata": {
    "slideshow": {
     "slide_type": "subslide"
    }
   },
   "source": [
    "The model has been 'overtrained' – it fits the training set too closely and begins to fail on unseen data.\n",
    "\n",
    "The learned representations are too specific.\n",
    "\n",
    "This is an example of **overfitting**!"
   ]
  },
  {
   "cell_type": "markdown",
   "id": "0a416b24-3b1c-4d4e-b17a-f09bb49944ac",
   "metadata": {
    "slideshow": {
     "slide_type": "subslide"
    }
   },
   "source": [
    "### Overfitting\n",
    "\n",
    "<!-- <img style=\"height:400px\" src=\"images/overfitting/chollet.overfitting-1.p124.png\"> -->\n",
    "<img src=\"https://drive.google.com/uc?id=1IqSvUi1LZHhrWmkHR2Mk7B6VSDB2auIh\">\n",
    "\n",
    "<small>DLWP, p.124</small>"
   ]
  },
  {
   "cell_type": "markdown",
   "id": "8b3aae01",
   "metadata": {
    "slideshow": {
     "slide_type": "subslide"
    }
   },
   "source": [
    "<!-- <img style=\"height:700px\" src=\"images/overfitting/chollet.overfitting-3.p131.png\"> -->\n",
    "<img style=\"height:750px\" src=\"https://drive.google.com/uc?id=194GwUOYUtAjpndrtg0LAx7xpEksP6lIi\">\n",
    "\n",
    "<small>DLWP, p.131</small>"
   ]
  },
  {
   "cell_type": "markdown",
   "id": "da309db2-b872-405f-839f-1b5775dcffd4",
   "metadata": {
    "slideshow": {
     "slide_type": "subslide"
    }
   },
   "source": [
    "### Intuition 1\n",
    "\n",
    "If you see me today with different clothes or haircut than last week, you may still recognise me.\n",
    "\n",
    "Even if I change my hair, or perhaps grow a massive beard.\n",
    "\n",
    "If you **overfitted**, you would have a mental model of me **so precise** that the moment any detail changes you would classify me as an unknown person! \n",
    "\n",
    "_\"JW with this haircut, this jumper and these trousers hasn't been seen before → unknown person.\"_\n",
    "\n",
    "In order to recognise people and places we **forget most details** and work with a **model**."
   ]
  },
  {
   "cell_type": "markdown",
   "id": "6558d989-f88f-4753-97e0-ff35def421ba",
   "metadata": {
    "slideshow": {
     "slide_type": "subslide"
    }
   },
   "source": [
    "### Intuition 2\n",
    "\n",
    "$$\n",
    "\t\\underleftrightarrow{\\bf{\\text{overfitting} \\qquad \\qquad \\qquad \\text{model} \\qquad \\qquad \\text{underfitting}}}\\\\\n",
    "    \\begin{array}{lcr} \n",
    "    \\text{data point = category} \\qquad & \\text{data split into categories}  & \\qquad \\text{dataset = 1 category}\\\\\n",
    "    \\text{memorising the data} \\qquad  &  \\text{discriminating model}  &  \\qquad \\text{indiscriminate/random}\\\\\n",
    "    \\text{no prediction power} \\qquad  &  \\text{some predictive power}  &  \\qquad \\text{trivial predictive power}\\\\\n",
    "    \\end{array}\n",
    "$$\n"
   ]
  },
  {
   "cell_type": "markdown",
   "id": "4f83486b-e39a-4b59-8a2e-202b36a5f6f6",
   "metadata": {
    "slideshow": {
     "slide_type": "subslide"
    }
   },
   "source": [
    "### Intuition 2: personality type example\n",
    "\n",
    "$$\n",
    "\t\\underleftrightarrow{\\bf{\\text{overfitting} \\qquad \\qquad \\qquad \\text{model} \\qquad \\qquad \\text{underfitting}}}\\\\\n",
    "    \\begin{array}{lcr} \n",
    "    \\text{everyone is different} \\qquad & \\text{x personality types}  & \\qquad \\text{everyone is the same}\\\\\n",
    "    \\text{sb new? start from zero} \\qquad  &  \\text{sb new? guess which type}  &  \\qquad \\text{sb new? type A!}\\\\\n",
    "    \\end{array}\n",
    "$$\n",
    "\n",
    "(If this sounds dystopian, you're on the right track: that's roughly what [social media](https://www.youtube.com/watch?v=nfczi2cI6Cs) is doing.)"
   ]
  },
  {
   "cell_type": "markdown",
   "id": "869c0d2f-fd8c-432d-acac-d518797bc2d8",
   "metadata": {
    "slideshow": {
     "slide_type": "subslide"
    },
    "tags": []
   },
   "source": [
    "### Early stopping\n",
    "\n",
    "One solution to this is to stop training just as overfitting kicks in.\n",
    "\n",
    "### Workflow\n",
    "\n",
    "- We trained on the **partial training set**;\n",
    "- We **found the best cut-off epoch** (where overfitting starts);\n",
    "- We retrain a fresh net on **the full training set** until that number of epochs.\n",
    "\n",
    "##### Note\n",
    "\n",
    "We train on the complete training set to give our network as much data as possible for it to perform well."
   ]
  },
  {
   "cell_type": "markdown",
   "id": "fb053c73",
   "metadata": {
    "slideshow": {
     "slide_type": "subslide"
    }
   },
   "source": [
    "When did we reach our top `val_accuracy`?"
   ]
  },
  {
   "cell_type": "code",
   "execution_count": 26,
   "id": "4d39b852",
   "metadata": {
    "scrolled": true,
    "slideshow": {
     "slide_type": "fragment"
    }
   },
   "outputs": [
    {
     "name": "stdout",
     "output_type": "stream",
     "text": [
      "Reached best validation accuracy 0.8870000243186951 at epoch 2\n"
     ]
    }
   ],
   "source": [
    "early_stopping_epoch = np.argmax(history.history[\"val_accuracy\"])\n",
    "print(f\"Reached best validation accuracy {history.history['val_accuracy'][early_stopping_epoch]} at epoch {early_stopping_epoch}\")"
   ]
  },
  {
   "cell_type": "code",
   "execution_count": 27,
   "id": "fd6b75a4-5f89-4795-8cb4-85982e4a3b7d",
   "metadata": {
    "slideshow": {
     "slide_type": "skip"
    }
   },
   "outputs": [],
   "source": [
    "# Memory clean-up for Jupyter\n",
    "# Slightly modified from fast.ai utils: https://github.com/fastai/course22p2/blob/df9323235bc395b5c2f58a3d08b83761947b9b93/miniai/init.py#L31\n",
    "\n",
    "import gc\n",
    "import sys\n",
    "import time\n",
    "import traceback\n",
    "\n",
    "def clean_ipython_hist():\n",
    "    # Code in this function mainly copied from IPython source\n",
    "    if not 'get_ipython' in globals(): return\n",
    "    ip = get_ipython()\n",
    "    user_ns = ip.user_ns\n",
    "    ip.displayhook.flush()\n",
    "    pc = ip.displayhook.prompt_count + 1\n",
    "    for n in range(1, pc): user_ns.pop('_i'+repr(n),None)\n",
    "    user_ns.update(dict(_i='',_ii='',_iii=''))\n",
    "    hm = ip.history_manager\n",
    "    hm.input_hist_parsed[:] = [''] * pc\n",
    "    hm.input_hist_raw[:] = [''] * pc\n",
    "    hm._i = hm._ii = hm._iii = hm._i00 =  ''\n",
    "\n",
    "def clean_tb():\n",
    "    # h/t Piotr Czapla\n",
    "    if hasattr(sys, 'last_traceback'):\n",
    "        traceback.clear_frames(sys.last_traceback)\n",
    "        delattr(sys, 'last_traceback')\n",
    "    if hasattr(sys, 'last_type'): delattr(sys, 'last_type')\n",
    "    if hasattr(sys, 'last_value'): delattr(sys, 'last_value')\n",
    "\n",
    "def clean_mem():\n",
    "    clean_tb()\n",
    "    clean_ipython_hist()\n",
    "    gc.collect()\n",
    "    tf.keras.backend.clear_session()\n",
    "    time.sleep(2)"
   ]
  },
  {
   "cell_type": "markdown",
   "id": "323457f8",
   "metadata": {
    "slideshow": {
     "slide_type": "subslide"
    }
   },
   "source": [
    "### Note: Memory Use\n",
    "\n",
    "Unfortunately, memory management isn't super straightforward, and creating many models in Jupyter will make you run out of memory quite fast!\n",
    "\n",
    "I'm including code to clear the memory in Jupyter, but even this has some limitations. One thing to consider is to fashion your code so that you can easily restart the kernel and rerun parts of your notebook (while leaving the finished experiments untouched)!"
   ]
  },
  {
   "cell_type": "code",
   "execution_count": 28,
   "id": "860f6ef5-f841-4a7e-9edc-50f7ae26271a",
   "metadata": {
    "scrolled": true,
    "slideshow": {
     "slide_type": "fragment"
    }
   },
   "outputs": [],
   "source": [
    "clean_mem() # your friend whenever you train many models in a session, this should help with memory use"
   ]
  },
  {
   "cell_type": "code",
   "execution_count": 29,
   "id": "62d07bc7-4c9a-4310-a04e-28cdf380760b",
   "metadata": {
    "scrolled": true,
    "slideshow": {
     "slide_type": "subslide"
    }
   },
   "outputs": [
    {
     "name": "stdout",
     "output_type": "stream",
     "text": [
      "Epoch 1/2\n",
      "49/49 [==============================] - 3s 16ms/step - loss: 0.4654 - accuracy: 0.8138\n",
      "Epoch 2/2\n",
      "49/49 [==============================] - 1s 16ms/step - loss: 0.2750 - accuracy: 0.9028\n"
     ]
    },
    {
     "data": {
      "text/plain": [
       "<keras.src.callbacks.History at 0x7f4a48cd7e20>"
      ]
     },
     "execution_count": 29,
     "metadata": {},
     "output_type": "execute_result"
    }
   ],
   "source": [
    "model = tf.keras.models.Sequential()\n",
    "model.add(tf.keras.layers.Dense(16, activation='relu', input_shape=(10000,)))\n",
    "model.add(tf.keras.layers.Dense(16 ,activation='relu'))\n",
    "model.add(tf.keras.layers.Dense(1, activation='sigmoid'))\n",
    "\n",
    "model.compile(\n",
    "    optimizer='rmsprop',\n",
    "    loss='binary_crossentropy',\n",
    "    metrics=['accuracy']\n",
    ")\n",
    "\n",
    "model.fit(\n",
    "    x_train,                     # full training set\n",
    "    y_train,\n",
    "    epochs=early_stopping_epoch, # the epoch where overfitting starts\n",
    "    batch_size=512\n",
    ")"
   ]
  },
  {
   "cell_type": "code",
   "execution_count": 30,
   "id": "33f049b1-1cb5-4a2b-b321-8e37d42e2d41",
   "metadata": {
    "scrolled": true,
    "slideshow": {
     "slide_type": "subslide"
    }
   },
   "outputs": [
    {
     "name": "stdout",
     "output_type": "stream",
     "text": [
      "loss: 0.2884627878665924, accuracy: 0.8887199759483337\n"
     ]
    }
   ],
   "source": [
    "results = model.evaluate(x_test, y_test, verbose=0)\n",
    "\n",
    "print(f\"loss: {results[0]}, accuracy: {results[1]}\") # accuracy better than before!"
   ]
  },
  {
   "cell_type": "markdown",
   "id": "6e9d358c-5b6b-44b7-9111-f34fc9acd481",
   "metadata": {
    "slideshow": {
     "slide_type": "slide"
    }
   },
   "source": [
    "---\n",
    "\n",
    "## 4.1.5 Using a trained model to generate predictions on new data\n",
    "\n",
    "Our IMDB network has been trained, we can now use it.\n",
    "\n",
    "Use `predict` to generate predictions for data."
   ]
  },
  {
   "cell_type": "code",
   "execution_count": 31,
   "id": "5327574a-e827-4b58-b7ab-0c6912ffdbf5",
   "metadata": {
    "slideshow": {
     "slide_type": "fragment"
    }
   },
   "outputs": [
    {
     "data": {
      "text/plain": [
       "array([[0.33387217],\n",
       "       [0.9977677 ],\n",
       "       [0.7564142 ],\n",
       "       [0.7094206 ],\n",
       "       [0.90270644],\n",
       "       [0.6348795 ],\n",
       "       [0.99612266],\n",
       "       [0.05899675],\n",
       "       [0.93354505],\n",
       "       [0.9304169 ]], dtype=float32)"
      ]
     },
     "execution_count": 31,
     "metadata": {},
     "output_type": "execute_result"
    }
   ],
   "source": [
    "model.predict(x_test[:10], verbose=0) # this yields probabilities: negative (0) or positive (1) ?"
   ]
  },
  {
   "cell_type": "code",
   "execution_count": 32,
   "id": "57ecefc3",
   "metadata": {
    "slideshow": {
     "slide_type": "subslide"
    }
   },
   "outputs": [],
   "source": [
    "def print_predictions(preds, init=0):\n",
    "    labels = [\"negative\", \"positive\"]\n",
    "    for i, pred in enumerate(preds.ravel()): # ravel() makes the array flat (1D)\n",
    "        print(f\"Review n° {init+i} is {labels[int(pred > .5)]} | score: {pred:.5f}\")"
   ]
  },
  {
   "cell_type": "code",
   "execution_count": 33,
   "id": "a6890664",
   "metadata": {
    "slideshow": {
     "slide_type": "fragment"
    }
   },
   "outputs": [
    {
     "name": "stdout",
     "output_type": "stream",
     "text": [
      "Review n° 0 is negative | score: 0.33387\n",
      "Review n° 1 is positive | score: 0.99777\n",
      "Review n° 2 is positive | score: 0.75641\n",
      "Review n° 3 is positive | score: 0.70942\n",
      "Review n° 4 is positive | score: 0.90271\n",
      "Review n° 5 is positive | score: 0.63488\n",
      "Review n° 6 is positive | score: 0.99612\n",
      "Review n° 7 is negative | score: 0.05900\n",
      "Review n° 8 is positive | score: 0.93355\n",
      "Review n° 9 is positive | score: 0.93042\n"
     ]
    }
   ],
   "source": [
    "print_predictions(model.predict(x_test[:10], verbose=0))"
   ]
  },
  {
   "cell_type": "code",
   "execution_count": 34,
   "id": "ae5d7f21-331d-4247-89c5-a9b05cdb81a8",
   "metadata": {
    "slideshow": {
     "slide_type": "fragment"
    }
   },
   "outputs": [
    {
     "data": {
      "text/plain": [
       "array([0, 1, 1, 0, 1, 1, 1, 0, 0, 1])"
      ]
     },
     "execution_count": 34,
     "metadata": {},
     "output_type": "execute_result"
    }
   ],
   "source": [
    "test_labels[:10] # the first ten labels"
   ]
  },
  {
   "cell_type": "code",
   "execution_count": 35,
   "id": "9da04436-4865-4017-a56e-8c2f462c588d",
   "metadata": {
    "slideshow": {
     "slide_type": "subslide"
    }
   },
   "outputs": [
    {
     "name": "stdout",
     "output_type": "stream",
     "text": [
      "review \t prediction → rounded \t label \t correct?\n",
      "\n",
      "0 \t 0.33387223 \t 0 \t 0 \t True\n",
      "1 \t 0.9977677 \t 1 \t 1 \t True\n",
      "2 \t 0.7564143 \t 1 \t 1 \t True\n",
      "3 \t 0.70942056 \t 1 \t 0 \t False\n",
      "4 \t 0.90270644 \t 1 \t 1 \t True\n",
      "5 \t 0.6348796 \t 1 \t 1 \t True\n",
      "6 \t 0.99612266 \t 1 \t 1 \t True\n",
      "7 \t 0.058996737 \t 0 \t 0 \t True\n",
      "8 \t 0.93354505 \t 1 \t 0 \t False\n",
      "9 \t 0.9304169 \t 1 \t 1 \t True\n",
      "10 \t 0.8735405 \t 1 \t 1 \t True\n",
      "11 \t 0.028023737 \t 0 \t 0 \t True\n",
      "12 \t 0.005725133 \t 0 \t 0 \t True\n",
      "13 \t 0.04992923 \t 0 \t 0 \t True\n",
      "14 \t 0.9862153 \t 1 \t 1 \t True\n",
      "15 \t 0.0095879845 \t 0 \t 0 \t True\n",
      "16 \t 0.89671284 \t 1 \t 1 \t True\n",
      "17 \t 0.55281305 \t 1 \t 0 \t False\n",
      "18 \t 0.05779982 \t 0 \t 0 \t True\n",
      "19 \t 0.1376722 \t 0 \t 0 \t True\n"
     ]
    }
   ],
   "source": [
    "print('review', '\\t', 'prediction → rounded', '\\t', 'label', '\\t', 'correct?')\n",
    "print()\n",
    "for i in range(20):\n",
    "    y_pred = model.predict(x_test[i:i+1], verbose=0)[0][0]\n",
    "    print(i, '\\t', y_pred,'\\t', round(y_pred), '\\t', test_labels[i], '\\t', int(y_pred > .5) == test_labels[i])"
   ]
  },
  {
   "cell_type": "code",
   "execution_count": 36,
   "id": "7c6b41ee-3fb4-4d82-93ee-fe14ba28eb56",
   "metadata": {
    "slideshow": {
     "slide_type": "subslide"
    }
   },
   "outputs": [],
   "source": [
    "# How to use generators in Python: https://realpython.com/introduction-to-python-generators/\n",
    "def review_finder(prediction, label):\n",
    "    for i in range(len(x_test)):                                       # looping through our test set\n",
    "        y_pred = round(model.predict(x_test[i:i+1], verbose=0)[0, 0])  # get prediction\n",
    "        if y_pred == prediction and test_labels[i] == label:           # if the prediction and the label\n",
    "            yield i                                                    # are what we are after, yield the index"
   ]
  },
  {
   "cell_type": "code",
   "execution_count": 37,
   "id": "113e3ee9-ea03-4f00-b3c7-da809437026e",
   "metadata": {
    "slideshow": {
     "slide_type": "fragment"
    }
   },
   "outputs": [],
   "source": [
    "def print_review(n):\n",
    "    word_index = tf.keras.datasets.imdb.get_word_index()                                                  # decoding work\n",
    "    reverse_word_index = {value:key for key,value in word_index.items()} \n",
    "    decoded_review = ' '.join([reverse_word_index.get(i - 3, '?') for i in test_data[n]])\n",
    "\n",
    "    y_pred = model.predict(x_test[n:n+1], verbose=0)[0,0]                                                 # predict\n",
    "    print(f\"review: {n} | predicted: {y_pred:.6f} | rounded: {round(y_pred)} | label: {test_labels[n]}\")  # print\n",
    "    print()\n",
    "    print(decoded_review, '\\n')   "
   ]
  },
  {
   "cell_type": "markdown",
   "id": "5211e739",
   "metadata": {
    "slideshow": {
     "slide_type": "subslide"
    }
   },
   "source": [
    "The first successful prediction of a negative review. "
   ]
  },
  {
   "cell_type": "code",
   "execution_count": 38,
   "id": "293b1699",
   "metadata": {
    "slideshow": {
     "slide_type": "fragment"
    }
   },
   "outputs": [],
   "source": [
    "neg_neg = review_finder(prediction=0, label=0) # create a generator"
   ]
  },
  {
   "cell_type": "code",
   "execution_count": 39,
   "id": "f9a94ec9",
   "metadata": {
    "slideshow": {
     "slide_type": "fragment"
    }
   },
   "outputs": [
    {
     "name": "stdout",
     "output_type": "stream",
     "text": [
      "review: 0 | predicted: 0.333872 | rounded: 0 | label: 0\n",
      "\n",
      "? please give this one a miss br br ? ? and the rest of the cast rendered terrible performances the show is flat flat flat br br i don't know how michael madison could have allowed this one on his plate he almost seemed to know this wasn't going to work out and his performance was quite ? so all you madison fans give this a miss \n",
      "\n"
     ]
    }
   ],
   "source": [
    "print_review(next(neg_neg)) # run again for the next one"
   ]
  },
  {
   "cell_type": "markdown",
   "id": "0a4da745",
   "metadata": {
    "slideshow": {
     "slide_type": "subslide"
    }
   },
   "source": [
    "The first successful positive prediction."
   ]
  },
  {
   "cell_type": "code",
   "execution_count": 40,
   "id": "52969fa7",
   "metadata": {
    "slideshow": {
     "slide_type": "fragment"
    }
   },
   "outputs": [],
   "source": [
    "pos_pos = review_finder(prediction=1, label=1) # another generator "
   ]
  },
  {
   "cell_type": "code",
   "execution_count": 41,
   "id": "498afd8d-8c23-4437-8cff-95ff7d175235",
   "metadata": {
    "scrolled": true,
    "slideshow": {
     "slide_type": "fragment"
    }
   },
   "outputs": [
    {
     "name": "stdout",
     "output_type": "stream",
     "text": [
      "review: 1 | predicted: 0.997768 | rounded: 1 | label: 1\n",
      "\n",
      "? this film requires a lot of patience because it focuses on mood and character development the plot is very simple and many of the scenes take place on the same set in frances ? the sandy dennis character apartment but the film builds to a disturbing climax br br the characters create an atmosphere ? with sexual tension and psychological ? it's very interesting that robert altman directed this considering the style and structure of his other films still the trademark altman audio style is evident here and there i think what really makes this film work is the brilliant performance by sandy dennis it's definitely one of her darker characters but she plays it so perfectly and convincingly that it's scary michael burns does a good job as the mute young man regular altman player michael murphy has a small part the ? moody set fits the content of the story very well in short this movie is a powerful study of loneliness sexual ? and desperation be patient ? up the atmosphere and pay attention to the wonderfully written script br br i praise robert altman this is one of his many films that deals with unconventional fascinating subject matter this film is disturbing but it's sincere and it's sure to ? a strong emotional response from the viewer if you want to see an unusual film some might even say bizarre this is worth the time br br unfortunately it's very difficult to find in video stores you may have to buy it off the internet \n",
      "\n"
     ]
    }
   ],
   "source": [
    "print_review(next(pos_pos))"
   ]
  },
  {
   "cell_type": "markdown",
   "id": "49afc797",
   "metadata": {
    "slideshow": {
     "slide_type": "subslide"
    }
   },
   "source": [
    "The network predicted negative but the actual label is positive. What do you think?"
   ]
  },
  {
   "cell_type": "code",
   "execution_count": 42,
   "id": "48061c59",
   "metadata": {
    "slideshow": {
     "slide_type": "fragment"
    }
   },
   "outputs": [],
   "source": [
    "neg_pos = review_finder(prediction=0, label=1)"
   ]
  },
  {
   "cell_type": "code",
   "execution_count": 43,
   "id": "dd99c863",
   "metadata": {
    "scrolled": true,
    "slideshow": {
     "slide_type": "fragment"
    }
   },
   "outputs": [
    {
     "name": "stdout",
     "output_type": "stream",
     "text": [
      "review: 22 | predicted: 0.370111 | rounded: 0 | label: 1\n",
      "\n",
      "? how managed to avoid attention remains a mystery a potent mix of comedy and crime this one takes chances where tarantino plays it safe with the hollywood formula the risks don't always pay off one character in one sequence comes off ? silly and falls flat in the lead role thomas jane gives a wonderful and complex performance and two brief appearances by mickey rourke hint at the high potential of this much under and ? used actor here's a director one should keep one's eye on \n",
      "\n"
     ]
    }
   ],
   "source": [
    "print_review(next(neg_pos))"
   ]
  },
  {
   "cell_type": "markdown",
   "id": "a1939145",
   "metadata": {
    "slideshow": {
     "slide_type": "subslide"
    }
   },
   "source": [
    "And the reviews wronglyc classed as positive."
   ]
  },
  {
   "cell_type": "code",
   "execution_count": 44,
   "id": "df107829",
   "metadata": {
    "slideshow": {
     "slide_type": "fragment"
    }
   },
   "outputs": [],
   "source": [
    "pos_neg = review_finder(prediction=1, label=0) "
   ]
  },
  {
   "cell_type": "code",
   "execution_count": 45,
   "id": "b88b14a7",
   "metadata": {
    "scrolled": true,
    "slideshow": {
     "slide_type": "fragment"
    }
   },
   "outputs": [
    {
     "name": "stdout",
     "output_type": "stream",
     "text": [
      "review: 3 | predicted: 0.709421 | rounded: 1 | label: 0\n",
      "\n",
      "? i generally love this type of movie however this time i found myself wanting to kick the screen since i can't do that i will just complain about it this was absolutely idiotic the things that happen with the dead kids are very cool but the alive people are absolute idiots i am a grown man pretty big and i can defend myself well however i would not do half the stuff the little girl does in this movie also the mother in this movie is reckless with her children to the point of neglect i wish i wasn't so angry about her and her actions because i would have otherwise enjoyed the flick what a number she was take my advise and fast forward through everything you see her do until the end also is anyone else getting sick of watching movies that are filmed so dark anymore one can hardly see what is being filmed as an audience we are ? involved with the actions on the screen so then why the hell can't we have night vision \n",
      "\n"
     ]
    }
   ],
   "source": [
    "print_review(next(pos_neg))"
   ]
  },
  {
   "cell_type": "markdown",
   "id": "5c197551",
   "metadata": {
    "slideshow": {
     "slide_type": "slide"
    }
   },
   "source": [
    "---\n",
    "\n",
    "## Hyperparameter tuning: three ideas\n",
    "\n",
    "1. ###  Grid search\n",
    "2. ###  Random search\n",
    "3. ###  Babysitting"
   ]
  },
  {
   "cell_type": "markdown",
   "id": "16acb5e9",
   "metadata": {
    "slideshow": {
     "slide_type": "subslide"
    }
   },
   "source": [
    "### 1.  Grid search\n",
    "\n",
    "Systematically try the range of your parameter.\n",
    "\n",
    "Example: learning rate, best model in bold, we then search around the best parameter...\n",
    "\n",
    "| **first pass** | **second pass** | **third pass** |\n",
    "| ---            | ---             | ---            |\n",
    "| .001           | .0037           | .00377         |\n",
    "| .002           | **.0038**       | .00378         |\n",
    "| .003           | .0039           | .00379         |\n",
    "| **.004**       | .0040           | .00380         |\n",
    "| .005           | .0041           | .00381         |\n",
    "| .006           | .0042           | .00382         |\n",
    "| .007           | .0043           | **.00383**     |"
   ]
  },
  {
   "cell_type": "markdown",
   "id": "80879551",
   "metadata": {
    "slideshow": {
     "slide_type": "subslide"
    }
   },
   "source": [
    "### 2.  Random search\n",
    "\n",
    "Given that you want to optimize **many** hyperparmeters at the same time, it [has been argued](https://cs231n.github.io/neural-networks-3/#hyper) that grid search is not only infeasible with many params, but also less successful than random search!\n",
    "\n",
    "#### Workflow\n",
    "\n",
    "- Determine a range for each hyperparameter;\n",
    "- Use a random generator to create numbers within this range;\n",
    "- Try a number of different models, pick the best one.\n",
    "\n",
    "Document the methodology and list the hyperparameters that were tried!"
   ]
  },
  {
   "cell_type": "markdown",
   "id": "f4f16004",
   "metadata": {
    "slideshow": {
     "slide_type": "subslide"
    }
   },
   "source": [
    "Example: you want to try different momentums, between let's say between .9, and .999.\n",
    "\n",
    "```python\n",
    "momentum = 0.9 + np.random.uniform()/10 # a random number between 0. and 0.01\n",
    "```\n",
    "\n",
    "You would do the same for a few other hyperparameters.\n",
    "\n",
    "Make sure to document the process of randomisation and the parameters that have been tried!\n",
    "\n",
    "Also: you may want to start with this then try and go back to grid search and try further."
   ]
  },
  {
   "cell_type": "markdown",
   "id": "356d2f75",
   "metadata": {
    "slideshow": {
     "slide_type": "subslide"
    }
   },
   "source": [
    "### 3.  Babysitting\n",
    "\n",
    "This could seem clunky, but is what happens with [LARGE models](https://github.com/facebookresearch/metaseq/blob/main/projects/OPT/chronicles/) (← check the logbooks (╯✧▽✧)╯).\n",
    "\n",
    "#### Workflow\n",
    "\n",
    "1. Start training for some epochs, look at how your network is doing;\n",
    "2. Save your net, and **document** the parameters, epoch, etc.\n",
    "3. Think about what hyperparameters to change next, if any;\n",
    "4. Keep training;\n",
    "5. If the result is good, **document** & go back to 3 (save); if not, **document** & go back to 2 (retry)!\n",
    "\n",
    "\n",
    "Make sure to **document** every stage of the process of tuning!  \n",
    "\n",
    "Ideally, **someone else should be able to reproduce your results**."
   ]
  },
  {
   "cell_type": "markdown",
   "id": "156fe83e",
   "metadata": {
    "slideshow": {
     "slide_type": "subslide"
    }
   },
   "source": [
    "### For reproducible results\n",
    "\n",
    "```python\n",
    "import tensorflow as tf\n",
    "tf.random.set_seed(42) # can be any number\n",
    "```"
   ]
  },
  {
   "cell_type": "markdown",
   "id": "b813a4b7-d08b-4fd5-9aaf-15f11db01f3a",
   "metadata": {
    "slideshow": {
     "slide_type": "slide"
    }
   },
   "source": [
    "---\n",
    "\n",
    "## 4.1.6 Further experiments\n",
    "\n",
    "## 4.1.7 Wrapping up"
   ]
  },
  {
   "cell_type": "markdown",
   "id": "53ff42ba",
   "metadata": {
    "slideshow": {
     "slide_type": "subslide"
    }
   },
   "source": [
    "### Summary\n",
    "\n",
    "#### Inputs / labels\n",
    "\n",
    "- Sequences of words often encoded as *binary vectors*;\n",
    "- Processing inputs as *multi-hot* (similar to *one-hot*);\n",
    "- Our labels are just integers (0 or 1);\n",
    "\n",
    "#### Key ideas\n",
    "\n",
    "- Train/Validation/Test splits;\n",
    "- Overfitting;\n",
    "- Commonsense baselines;"
   ]
  },
  {
   "cell_type": "markdown",
   "id": "86877d7a",
   "metadata": {
    "slideshow": {
     "slide_type": "subslide"
    }
   },
   "source": [
    "### Binary classification\n",
    "  \n",
    "- Used for 0/1, true/false problems (two classes: **binary**);\n",
    "- The final layer is a single dense **sigmoid** unit;\n",
    "- The loss function is `binary_crossentropy`;\n",
    "- The model outputs a **one probability**."
   ]
  },
  {
   "cell_type": "markdown",
   "id": "7aab70d5",
   "metadata": {
    "slideshow": {
     "slide_type": "subslide"
    }
   },
   "source": [
    "### Workflow\n",
    "\n",
    "1. Prepare the data & split into Train/Validation/Test\n",
    "2. Define your model\n",
    "3. Evaluate your untrained model / a **commonsense baseline**\n",
    "4. Train using **Train/Validation**\n",
    "5. Tweak **hyperparameters** → pick best validation results\n",
    "6. Retrain on **whole train dataset**\n",
    "7. Evaluate on Test"
   ]
  },
  {
   "cell_type": "markdown",
   "id": "95e62441",
   "metadata": {
    "slideshow": {
     "slide_type": "subslide"
    }
   },
   "source": [
    "### Experiments\n",
    "\n",
    "- More or fewer hidden layers, with less/more units;\n",
    "- Try different learning rates and batch sizes;\n",
    "- Replace `relu` with an early neural network favourite, `tanh`;\n",
    "- Try the [`Adam` optimizer](https://www.tensorflow.org/api_docs/python/tf/keras/optimizers#classes_2): `optimizers.Adam(learning_rate=0.001)`, with various learning rates.\n",
    "- Try and think about how you would go about automating hyperparameter search (= making your life easier, so that the search is done by a system rather than manually)"
   ]
  }
 ],
 "metadata": {
  "accelerator": "GPU",
  "celltoolbar": "Slideshow",
  "colab": {
   "gpuType": "T4",
   "provenance": []
  },
  "kernelspec": {
   "display_name": "Python 3 (ipykernel)",
   "language": "python",
   "name": "python3"
  },
  "language_info": {
   "codemirror_mode": {
    "name": "ipython",
    "version": 3
   },
   "file_extension": ".py",
   "mimetype": "text/x-python",
   "name": "python",
   "nbconvert_exporter": "python",
   "pygments_lexer": "ipython3",
   "version": "3.9.15"
  }
 },
 "nbformat": 4,
 "nbformat_minor": 5
}
