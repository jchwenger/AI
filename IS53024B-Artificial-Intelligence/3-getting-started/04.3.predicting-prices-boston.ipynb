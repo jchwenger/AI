{
 "cells": [
  {
   "cell_type": "markdown",
   "id": "7bcf6188-684a-464c-bd97-29ec054c79f3",
   "metadata": {
    "slideshow": {
     "slide_type": "slide"
    }
   },
   "source": [
    "---\n",
    "\n",
    "# 4 Getting started with neural networks:\n",
    "\n",
    "# Classification and regression"
   ]
  },
  {
   "cell_type": "code",
   "execution_count": 1,
   "id": "7926b126",
   "metadata": {
    "slideshow": {
     "slide_type": "fragment"
    }
   },
   "outputs": [],
   "source": [
    "import os\n",
    "import numpy as np\n",
    "import matplotlib.pyplot as plt\n",
    "plt.rcParams['lines.markersize'] = 2  # nice scatter point size\n",
    "from IPython.display import YouTubeVideo\n",
    "\n",
    "import tensorflow as tf\n",
    "os.environ['TF_CPP_MIN_LOG_LEVEL'] = '3' # mute some annoying warnings\n",
    "\n",
    "from tensorflow import keras\n",
    "from tensorflow.keras import models\n",
    "from tensorflow.keras import layers"
   ]
  },
  {
   "cell_type": "markdown",
   "id": "263ee501-fa0a-415c-b26d-3d9e7df8565a",
   "metadata": {
    "slideshow": {
     "slide_type": "subslide"
    }
   },
   "source": [
    "#### Binary classification: data → scalar (probability of *one* class)\n",
    "\n",
    "*\\\"Here is a photo, is it a cat or not?\" (Negative/Positive, detecting if something is there, etc.)*\n",
    "\n",
    "#### Multiclass classification: data → vector (distribution over *many classes*)\n",
    "\n",
    "*\\\"Here is a photo, multiple choice for you: is it a cat, a dog, an airplane, a flower, ... ?*\n",
    "\n",
    "## * Regression: data → scalar (a continuous value describing the data)\n",
    "\n",
    "*\\\"Here is a data about a house, what is its price)?* <small>☠️☠️☠️ *Logistic regression* (*classification problem*) ≠ *regression*!!</small>"
   ]
  },
  {
   "cell_type": "markdown",
   "id": "671566b7",
   "metadata": {
    "slideshow": {
     "slide_type": "subslide"
    }
   },
   "source": [
    "<!-- ![Classification vs regression](images/ml/Classification-vs-Regression.png) -->\n",
    "<img src=\"https://drive.google.com/uc?id=1S52SD-ArBxIvm-LoIyTdN9ZfZgzB4SGb\">\n",
    "\n",
    "<small>[Sami Belkacem, \"Machine learning approaches to rank news feed updates on social media\", ResearchGate](https://www.researchgate.net/figure/Classification-vs-Regression_fig2_350993856)</small>"
   ]
  },
  {
   "cell_type": "markdown",
   "id": "94ce6919-3144-49a7-9d48-0a71ca7e78d0",
   "metadata": {
    "slideshow": {
     "slide_type": "slide"
    }
   },
   "source": [
    "---\n",
    "\n",
    "# 4.3 Predicting house prices: A regression example\n",
    "\n",
    "## 4.3.1 The Boston housing price dataset"
   ]
  },
  {
   "cell_type": "markdown",
   "id": "315609ef-5ebf-431c-b0df-a72cbbe30fe8",
   "metadata": {
    "slideshow": {
     "slide_type": "subslide"
    }
   },
   "source": [
    "The IMDB and Reuters (and MNIST) problems are examples of **classification**.\n",
    "\n",
    "Decide a particular **class** from a finite number of possibilities.\n",
    "\n",
    "They are **discrete** problems."
   ]
  },
  {
   "cell_type": "markdown",
   "id": "10c7ff15-b4c8-4ee1-858c-d98dcf3711c9",
   "metadata": {
    "slideshow": {
     "slide_type": "subslide"
    }
   },
   "source": [
    "**Regression** problems, on the other hand, are **continuous**.\n",
    "\n",
    "E.g. Predicting tomorrow's temperature, the time to run a marathon or... \n",
    "\n",
    "1970s house prices in a Boston suburb.\n",
    "\n",
    "Prices are continuous!"
   ]
  },
  {
   "cell_type": "markdown",
   "id": "10ae11b9",
   "metadata": {
    "slideshow": {
     "slide_type": "subslide"
    }
   },
   "source": [
    "The [Boston Housing dataset](https://www.cs.toronto.edu/~delve/data/boston/bostonDetail.html) (also on [Kaggle](https://www.kaggle.com/code/prasadperera/the-boston-housing-dataset)).\n",
    "\n",
    "The aim is the prediction of the median house price on the basis of knowledge of local property tax, crime rate, rooms per dwelling, accesibility to highways and nine other features.\n",
    "\n",
    "There are only 506 data samples, split into 404 training and 102 test.\n",
    "\n",
    "It is a good example of a **small** dataset."
   ]
  },
  {
   "cell_type": "markdown",
   "id": "62018fe0-ff80-4dce-9218-5b607965b3b4",
   "metadata": {
    "slideshow": {
     "slide_type": "subslide"
    }
   },
   "source": [
    "Furthermore, each feature has a **different scale**.\n",
    "\n",
    "Some features are values in $[0, 1]$, some in $[1, 12]$, some in $[0, 100]$."
   ]
  },
  {
   "cell_type": "markdown",
   "id": "69a81b43",
   "metadata": {
    "slideshow": {
     "slide_type": "subslide"
    }
   },
   "source": [
    "<!-- ![Boston boxplots](images/kaggle.boston.png) -->\n",
    "<img style=\"height:650px\" src=\"https://drive.google.com/uc?id=1PEmis8gCtgtisDTIUQPB6_aUJrDytkSJ\">\n",
    "\n",
    "<small>A **lot** of visualisations of this data: [Prasad Perera, \"The Boston Housing Dataset\", Kaggle](https://www.kaggle.com/code/prasadperera/the-boston-housing-dataset)</small>"
   ]
  },
  {
   "cell_type": "markdown",
   "id": "9beb0564",
   "metadata": {
    "slideshow": {
     "slide_type": "subslide"
    }
   },
   "source": [
    "### Note on ethics\n",
    "\n",
    "On the [Keras](https://keras.io/api/datasets/boston_housing/) website (also [Scikit-learn](https://scikit-learn.org/stable/modules/generated/sklearn.datasets.load_boston.html), however [TensorFlow](https://www.tensorflow.org/api_docs/python/tf/keras/datasets/boston_housing) says nothing!), you find:\n",
    "\n",
    "<!-- <img style=\"float:right\" src=\"images/boston/keras.boston.png\"> -->\n",
    "\n",
    "<img  style=\"float:right\" src=\"https://drive.google.com/uc?id=1PfsZkKvUl18y2DLa8tA8JAWv5vsoY7H9\">\n"
   ]
  },
  {
   "cell_type": "markdown",
   "id": "b6a7ce5f",
   "metadata": {
    "slideshow": {
     "slide_type": "subslide"
    }
   },
   "source": [
    "**B - 1000(Bk - 0.63)^2 where Bk is the proportion of blacks by town** \n",
    "\n",
    "The study was made in the 1970s. There is a **lot** to say about the history of housing and racial segregation in the United States, and the impact that this still has on the present.\n",
    "\n",
    "It is a disappointment to me to see that no mention of this is to be found in Chollet's book.\n",
    "\n",
    "Two alternative datasets are suggested on scikit-learn:\n",
    "- the [California Housing dataset](https://scikit-learn.org/stable/datasets/real_world.html#california-housing-dataset) (rather accessible)\n",
    "- the [Ames Housing dataset](https://www.openml.org/search?type=data&sort=runs&id=42165&status=active) (more complex)\n",
    "\n",
    "Unfortunately they are not readily available in TensorFlow."
   ]
  },
  {
   "cell_type": "markdown",
   "id": "ebb5e08a",
   "metadata": {
    "slideshow": {
     "slide_type": "subslide"
    }
   },
   "source": [
    "Two articles to know more:\n",
    "- [\"Revisiting the Boston Housing Dataset\", Fairlearn](https://fairlearn.org/main/user_guide/datasets/boston_housing_data.html)\n",
    "- [M Carlisle, \"racist data destruction?\", Medium](https://medium.com/@docintangible/racist-data-destruction-113e3eff54a8)\n",
    "\n",
    "This is a typical example of the risk of **abstraction** that Data Science: work on numbers only, and come up with models, while not necessarily reflecting on the content, and historical context, of the underlying reality.\n",
    "\n",
    "We are using the Boston housing dataset in the workshop next week, because it is a good example of a **regression** problem with a **small dataset**, requiring **standardisation**. Also, it's been a staple of data science for a while, and is directly available in TF. For those who would like to switch away from it right now, I would recommend the California Housing dataset."
   ]
  },
  {
   "cell_type": "code",
   "execution_count": 4,
   "id": "68901c7b-09c0-490a-b47e-b186d78254b2",
   "metadata": {
    "slideshow": {
     "slide_type": "subslide"
    }
   },
   "outputs": [
    {
     "name": "stdout",
     "output_type": "stream",
     "text": [
      "(404, 13) (102, 13)\n"
     ]
    }
   ],
   "source": [
    "from tensorflow.keras.datasets import boston_housing\n",
    "\n",
    "(train_data, train_targets), (test_data, test_targets) = boston_housing.load_data()\n",
    "print(train_data.shape, test_data.shape)"
   ]
  },
  {
   "cell_type": "markdown",
   "id": "dda52d74",
   "metadata": {
    "slideshow": {
     "slide_type": "fragment"
    }
   },
   "source": [
    "The first sample."
   ]
  },
  {
   "cell_type": "code",
   "execution_count": 3,
   "id": "7929754d-8d69-424f-a9b9-97b9e6d14a72",
   "metadata": {
    "scrolled": false,
    "slideshow": {
     "slide_type": "fragment"
    }
   },
   "outputs": [
    {
     "name": "stdout",
     "output_type": "stream",
     "text": [
      "[  1.23247   0.        8.14      0.        0.538     6.142    91.7\n",
      "   3.9769    4.      307.       21.      396.9      18.72   ]\n"
     ]
    }
   ],
   "source": [
    "print(train_data[0])"
   ]
  },
  {
   "cell_type": "markdown",
   "id": "9d032a75",
   "metadata": {
    "slideshow": {
     "slide_type": "fragment"
    }
   },
   "source": [
    "The targets of the first ten samples in thousands of dollars."
   ]
  },
  {
   "cell_type": "code",
   "execution_count": 4,
   "id": "42d87344-c982-4843-929f-a9b071972555",
   "metadata": {
    "slideshow": {
     "slide_type": "fragment"
    }
   },
   "outputs": [
    {
     "data": {
      "text/plain": [
       "array([15.2, 42.3, 50. , 21.1, 17.7, 18.5, 11.3, 15.6, 15.6, 14.4])"
      ]
     },
     "execution_count": 4,
     "metadata": {},
     "output_type": "execute_result"
    }
   ],
   "source": [
    "train_targets[:10] # multiply by 1000 to get the price in $"
   ]
  },
  {
   "cell_type": "code",
   "execution_count": 5,
   "id": "98f38847-ec97-4cce-9ed1-b0614e7db34b",
   "metadata": {
    "scrolled": true,
    "slideshow": {
     "slide_type": "subslide"
    }
   },
   "outputs": [
    {
     "name": "stdout",
     "output_type": "stream",
     "text": [
      "      CRIM        ZN     INDUS      CHAS       NOX        RM       AGE       DIS\n",
      "--------------------------------------------------------------------------------\n",
      "    1.2325    0.0000    8.1400    0.0000    0.5380    6.1420   91.7000    3.9769\n",
      "    0.0218   82.5000    2.0300    0.0000    0.4150    7.6100   15.7000    6.2700\n",
      "    4.8982    0.0000   18.1000    0.0000    0.6310    4.9700  100.0000    1.3325\n",
      "    0.0396    0.0000    5.1900    0.0000    0.5150    6.0370   34.5000    5.9853\n",
      "    3.6931    0.0000   18.1000    0.0000    0.7130    6.3760   88.4000    2.5671\n",
      "    0.2839    0.0000    7.3800    0.0000    0.4930    5.7080   74.3000    4.7211\n",
      "    9.1870    0.0000   18.1000    0.0000    0.7000    5.5360  100.0000    1.5804\n",
      "    4.0974    0.0000   19.5800    0.0000    0.8710    5.4680  100.0000    1.4118\n"
     ]
    }
   ],
   "source": [
    "column_names = [\n",
    "    'CRIM', 'ZN', 'INDUS', 'CHAS', 'NOX', 'RM', 'AGE', 'DIS', 'RAD', 'TAX', 'PTRATIO', 'B', 'LSTAT', 'MEDV'\n",
    "]\n",
    "for name in column_names[:8]:  # displaying the first 8 columns\n",
    "    print(f\"{name:>10}\", end=\"\")\n",
    "print()\n",
    "print(\"-\" * 80)\n",
    "for row in range(8):\n",
    "    for col in range(8):\n",
    "        x = train_data[row, col]        \n",
    "        print(f\"{x:10.4f}\", end=\"\")\n",
    "    print() "
   ]
  },
  {
   "cell_type": "markdown",
   "id": "e1602f08-1199-4630-97b1-ef373f349d3c",
   "metadata": {
    "slideshow": {
     "slide_type": "subslide"
    }
   },
   "source": [
    "### Standardisation / Normalisation\n",
    "\n",
    "These ranges present difficulties.\n",
    "\n",
    "Neural networks have difficulty adapting to heterogeneous data.\n",
    "\n",
    "The data will have to be **standardised** / **normalised**.\n",
    "\n",
    "Note: Chollet uses normalisation as an umbreall term, [as it often happens](https://en.wikipedia.org/wiki/Normalization_(statistics))."
   ]
  },
  {
   "cell_type": "markdown",
   "id": "54642d4e-50c2-4d7b-b364-2b3e4b775c01",
   "metadata": {
    "slideshow": {
     "slide_type": "slide"
    }
   },
   "source": [
    "---\n",
    "\n",
    "## 4.3.1 Preparing the data"
   ]
  },
  {
   "cell_type": "markdown",
   "id": "f1750df9",
   "metadata": {
    "slideshow": {
     "slide_type": "subslide"
    }
   },
   "source": [
    "### Standardisation\n",
    "\n",
    "- subtract the **mean** (= **average**);\n",
    "- divide by the **standard deviation**.\n",
    "\n",
    "What does this do?\n",
    "\n",
    "It makes any distribution **centred** at zero, with a **standard deviation** of one. "
   ]
  },
  {
   "cell_type": "markdown",
   "id": "eae37414",
   "metadata": {
    "slideshow": {
     "slide_type": "skip"
    }
   },
   "source": [
    "The math...\n",
    "\n",
    "$$\n",
    "\\bbox[5px,border:2px solid red]\n",
    "{\n",
    "{\\frac {X-\\mu }{\\sigma }}\n",
    "}\n",
    "$$\n",
    "\n",
    "$X$: our data  \n",
    "$\\mu$: the mean\n",
    "$\\sigma$: the standard deviation"
   ]
  },
  {
   "cell_type": "markdown",
   "id": "bd8c4a48",
   "metadata": {
    "slideshow": {
     "slide_type": "subslide"
    }
   },
   "source": [
    "### Normalisation\n",
    "\n",
    "- subtract the **min value**;\n",
    "- divide by the **range (max value - min value)**.\n",
    "\n",
    "What does this do?\n",
    "\n",
    "It squishes any distribution to a range of *\\[0, 1\\]*.\n",
    "\n",
    "(We are not using this now.)"
   ]
  },
  {
   "cell_type": "markdown",
   "id": "a4abb849",
   "metadata": {
    "slideshow": {
     "slide_type": "skip"
    }
   },
   "source": [
    "The math...\n",
    "\n",
    "$$\n",
    "\\bbox[5px,border:2px solid red]\n",
    "{\n",
    "X'={\\frac {X-X_{\\min }}{X_{\\max}-X_{\\min }}}}\n",
    "$$\n",
    "\n",
    "$X$: our data   \n",
    "$X_{\\min }$: the min value in our data  \n",
    "$X_{\\max}$: the max value in our data  "
   ]
  },
  {
   "cell_type": "markdown",
   "id": "3b624b1b",
   "metadata": {
    "slideshow": {
     "slide_type": "subslide"
    }
   },
   "source": [
    "Test data is normalised using the mean and standard deviation of the *training* set.\n",
    "\n",
    "In general, we want the **train** and **test** (and any further data) sets to come for the **same distribution**.\n",
    "\n",
    "But we also want to keep our **test** aside, not get any influence from it.\n",
    "\n",
    "Treat it as if was really data our net would encounter *in the wild*.\n",
    "\n",
    "<!-- <img style=\"height:300px;float:right\" src=\"images/ml/training-validation-test.png\"> -->\n",
    "<img style=\"height:300px;float:right\" src=\"https://drive.google.com/uc?id=16JvGs6C3n_MXIgjkyawGfFHaDm7Wdz57\">\n",
    "\n",
    "<small style=\"position:absolute;right:0;bottom:0\">[\"Training, Validation and Test sets 차이 및 정확한 용도 (훈련, 검정, 테스트 데이터 차이)\"](https://modern-manual.tistory.com/m/19)</small>"
   ]
  },
  {
   "cell_type": "code",
   "execution_count": 6,
   "id": "12073bfc-4772-4bd9-8c8c-741943a5cc64",
   "metadata": {
    "slideshow": {
     "slide_type": "subslide"
    }
   },
   "outputs": [],
   "source": [
    "mean = train_data.mean(axis=0) # axis 0: along each feature axis!\n",
    "train_data -= mean             # shift\n",
    "std = train_data.std(axis=0)\n",
    "train_data /= std              # rescale\n",
    "\n",
    "test_data -= mean              # use the mean & std\n",
    "test_data /= std               # of our training set"
   ]
  },
  {
   "cell_type": "markdown",
   "id": "6571c733",
   "metadata": {
    "slideshow": {
     "slide_type": "skip"
    }
   },
   "source": [
    "How you would do this manually."
   ]
  },
  {
   "cell_type": "code",
   "execution_count": 7,
   "id": "1c450889-baf1-427b-b0fc-115210e63a0e",
   "metadata": {
    "slideshow": {
     "slide_type": "skip"
    }
   },
   "outputs": [],
   "source": [
    "def stats(x):\n",
    "    mean = sum(x) / len(x)                          # compute the mean\n",
    "    deviations = x - mean                           # deviations can be positive or negative\n",
    "    avg_sq_deviations = sum(deviations**2) / len(x) # we square them and take the mean\n",
    "    std = np.sqrt(avg_sq_deviations)                # then we take the square root\n",
    "    return mean, std  "
   ]
  },
  {
   "cell_type": "code",
   "execution_count": 8,
   "id": "a9262d66-470a-406a-98ae-ac13e1365ba4",
   "metadata": {
    "slideshow": {
     "slide_type": "skip"
    }
   },
   "outputs": [],
   "source": [
    "def normalise(x):\n",
    "    mean, std = stats(x)\n",
    "    return (x - mean) / std, mean, std # subtract the mean, divide by the standard deviation"
   ]
  },
  {
   "cell_type": "markdown",
   "id": "0e7bb91f",
   "metadata": {
    "slideshow": {
     "slide_type": "skip"
    }
   },
   "source": [
    "\n",
    "\n",
    "```python\n",
    "                               # IRL you use built-in functions...\n",
    "mean = x.mean()                # NumPy\n",
    "std = x.std()\n",
    "\n",
    "mean = tf.reduce_mean(x)       # TF\n",
    "std = tf.math.reduce_std(x)\n",
    "```"
   ]
  },
  {
   "cell_type": "code",
   "execution_count": 9,
   "id": "0798c433",
   "metadata": {
    "slideshow": {
     "slide_type": "skip"
    }
   },
   "outputs": [],
   "source": [
    "def plot_mean_std(nums):\n",
    "    nums_norm, mean, std = normalise(nums)\n",
    "    \n",
    "    fig, (ax1, ax2) = plt.subplots(1,2, sharex=True, figsize=(16,3))\n",
    "    \n",
    "    ax1.bar([str(x) for x in range(nums.shape[0])], nums)                              # our numbers\n",
    "    ax1.set_title(f\"Original numbers | mean: {mean:.2f}, std: {std:.2f}\")\n",
    "    ax1.plot([mean] * nums.shape[0], linestyle='solid', color=\"r\", label=\"mean\")       # the mean\n",
    "    ax1.plot([mean + std] * nums.shape[0], linestyle='dotted', color=\"r\", label=\"std\") # mean + std\n",
    "    ax1.plot([mean - std] * nums.shape[0], linestyle='dotted', color=\"r\")              # mean - std\n",
    "    ax1.legend()\n",
    "    \n",
    "    ax2.bar([str(x) for x in range(nums_norm.shape[0])], nums_norm)                    # our numbers normalised\n",
    "    ax2.set_title(f\"Normalized | mean: {nums_norm.mean():.2f}, std: {nums_norm.std():.2f}\")\n",
    "    plt.show()"
   ]
  },
  {
   "cell_type": "markdown",
   "id": "5ee26785",
   "metadata": {
    "slideshow": {
     "slide_type": "subslide"
    }
   },
   "source": [
    "First example, 5 numbers. **Mean**: 30. **Standard deviation** : ~14."
   ]
  },
  {
   "cell_type": "code",
   "execution_count": 10,
   "id": "452a1e4c",
   "metadata": {
    "slideshow": {
     "slide_type": "fragment"
    }
   },
   "outputs": [
    {
     "data": {
      "image/png": "[encoded data removed]",
      "text/plain": [
       "<Figure size 1600x300 with 2 Axes>"
      ]
     },
     "metadata": {},
     "output_type": "display_data"
    }
   ],
   "source": [
    "plot_mean_std(np.array([10.0, 20.0, 30.0, 40.0, 50.0]))"
   ]
  },
  {
   "cell_type": "markdown",
   "id": "5e7d14d4",
   "metadata": {
    "slideshow": {
     "slide_type": "subslide"
    }
   },
   "source": [
    "Second example, 5 numbers. **Mean**: 30. **Standard deviation** : ~20."
   ]
  },
  {
   "cell_type": "code",
   "execution_count": 11,
   "id": "d9e43824-90d9-4cab-af01-67ed00f9b070",
   "metadata": {
    "slideshow": {
     "slide_type": "fragment"
    }
   },
   "outputs": [
    {
     "data": {
      "image/png": "[encoded data removed]",
      "text/plain": [
       "<Figure size 1600x300 with 2 Axes>"
      ]
     },
     "metadata": {},
     "output_type": "display_data"
    }
   ],
   "source": [
    "plot_mean_std(np.array([5.0, 10.0, 30.0, 50.0, 55.0]))"
   ]
  },
  {
   "cell_type": "markdown",
   "id": "11b3b78c-34c8-41d0-bd7b-33ca0275c005",
   "metadata": {
    "slideshow": {
     "slide_type": "slide"
    }
   },
   "source": [
    "---\n",
    "\n",
    "## 4.3.3 Building your model"
   ]
  },
  {
   "cell_type": "code",
   "execution_count": 8,
   "id": "da22d3ce-9ed9-45e3-8d7a-6a51a8839088",
   "metadata": {
    "slideshow": {
     "slide_type": "subslide"
    }
   },
   "outputs": [],
   "source": [
    "def build_model(clear=True): # modular programming!\n",
    "    if clear:\n",
    "        tf.keras.backend.clear_session()\n",
    "    model=models.Sequential()\n",
    "    model.add(layers.Dense(64, activation='relu', \n",
    "              input_shape=(train_data.shape[1],)))\n",
    "    model.add(layers.Dense(64, activation='relu'))\n",
    "            # ↓ NO ACTIVATION! We just predict (any) number\n",
    "    model.add(layers.Dense(1))\n",
    "            # ↑ -------------------------------------------\n",
    "    model.compile(\n",
    "        optimizer='rmsprop',\n",
    "        loss='mse',            # ← MSE: mean squared error\n",
    "        metrics=['mae']        # ← MAE: mean absolute error\n",
    "    ) \n",
    "    return model"
   ]
  },
  {
   "cell_type": "markdown",
   "id": "fe22a673-4e4d-4850-9826-184f0874c454",
   "metadata": {
    "slideshow": {
     "slide_type": "subslide"
    }
   },
   "source": [
    "### Mean squared error  (MSE)\n",
    "\n",
    "A common regression **loss**: \n",
    "\n",
    "$$\n",
    "\\bbox[5px,border:2px solid red]\n",
    "{\n",
    "\\text{MSE} = \\frac{1}{N} \\sum (y_{pred} - y)^2\n",
    "}\n",
    "$$\n",
    "\n",
    "$y$: target  \n",
    "$y_{pred}$: network output  \n",
    "$N$: mini-batch size\n",
    "\n",
    "- continuous and differentiable;\n",
    "- cost grows exponentially: outliers are penalised."
   ]
  },
  {
   "cell_type": "markdown",
   "id": "08388a8b-3adc-433e-9692-5cffe71afb36",
   "metadata": {
    "slideshow": {
     "slide_type": "subslide"
    }
   },
   "source": [
    "### Mean absolute error (MAE)\n",
    "\n",
    "Our **metric** will be:\n",
    "\n",
    "$$\n",
    "\\bbox[5px,border:2px solid red]\n",
    "{\n",
    "\\text{MAE} = \\frac{1}{N}\\sum |y_{pred} - y |\n",
    "}\n",
    "$$\n",
    "\n",
    "- nondifferentiable ([Keras will still allow you to use it as a loss...](https://stats.stackexchange.com/questions/312737/mean-absolute-error-mae-derivative));\n",
    "- grows linearly: outliers are not more penalised."
   ]
  },
  {
   "cell_type": "code",
   "execution_count": 13,
   "id": "f548c04b",
   "metadata": {
    "slideshow": {
     "slide_type": "skip"
    }
   },
   "outputs": [],
   "source": [
    "def plot_mse_mae():\n",
    "    nums = np.linspace(-1.5,1.5, 100) # one hundred numbers from -10 to 10\n",
    "    \n",
    "    fig, (ax1, ax2) = plt.subplots(1,2, sharey=True, sharex=True, figsize=(16,3))\n",
    "    \n",
    "    ax1.plot(nums, nums ** 2)                     # mean squared error (from zero)\n",
    "    ax1.set_title(\"Mean squared error (MSE)\")\n",
    "    ax1.set_xlabel(\"distance from the mean\")\n",
    "    ax1.set_ylabel(\"loss\")\n",
    "    ax2.plot(nums, np.abs(nums))                  # mean absolute error (from zero)\n",
    "    ax2.set_title(f\"Mean absolute error (MAE)\")\n",
    "    ax2.set_xlabel(\"distance from the mean\")  \n",
    "    ax2.set_ylabel(\"loss\")\n",
    "    plt.show()"
   ]
  },
  {
   "cell_type": "code",
   "execution_count": 14,
   "id": "7b207f9a",
   "metadata": {
    "slideshow": {
     "slide_type": "subslide"
    }
   },
   "outputs": [
    {
     "data": {
      "image/png": "[encoded data removed]",
      "text/plain": [
       "<Figure size 1600x300 with 2 Axes>"
      ]
     },
     "metadata": {},
     "output_type": "display_data"
    }
   ],
   "source": [
    "plot_mse_mae()"
   ]
  },
  {
   "cell_type": "markdown",
   "id": "7133d2c0-3d77-45c9-8932-e6552b928a25",
   "metadata": {
    "slideshow": {
     "slide_type": "slide"
    }
   },
   "source": [
    "---\n",
    "\n",
    "## 4.3.4 Validating your approach using K-fold validation"
   ]
  },
  {
   "cell_type": "markdown",
   "id": "896f62e4-6277-4d50-9a77-43aad97ad53c",
   "metadata": {
    "slideshow": {
     "slide_type": "subslide"
    }
   },
   "source": [
    "### Techniques for very small datasets\n",
    "\n",
    "The training set is **small** and if we split it to have a a validation set it will be even smaller.\n",
    "\n",
    "(The validation set would be tiny.)\n",
    "\n",
    "The validation scores – on a tiny validation set – would be very sensitive to the constitution of that set."
   ]
  },
  {
   "cell_type": "markdown",
   "id": "f4db0f41-b704-403b-9092-71b351ad23c9",
   "metadata": {
    "slideshow": {
     "slide_type": "subslide"
    }
   },
   "source": [
    "### $K$-fold cross-validation\n",
    "\n",
    "A common solution for small datasets.\n",
    "\n",
    "The data is spilt into $K$ partitions (usually 4 or 5).\n",
    "\n",
    "$K$ identical models are instantiated.\n",
    "\n",
    "One of the $K$s is validation, the rest is train."
   ]
  },
  {
   "cell_type": "markdown",
   "id": "8d3125e8",
   "metadata": {
    "slideshow": {
     "slide_type": "subslide"
    }
   },
   "source": [
    "We then rotate which partition is the validation.\n",
    "\n",
    "A new network is trained and validated on each of these *fold*.\n",
    " \n",
    "The validation score is the **average** of the $K$ validation scores.\n",
    "\n",
    "This technique mitigates **validation variance**."
   ]
  },
  {
   "cell_type": "markdown",
   "id": "1aba924c-7674-4b16-93e0-8d2a234e1655",
   "metadata": {
    "slideshow": {
     "slide_type": "subslide"
    }
   },
   "source": [
    "<!-- ![Chollet K-fold](images/ml/chollet.k-fold.png) -->\n",
    "<img style=\"height:600px\" src=\"https://drive.google.com/uc?id=1AWYyRT2iqNIZdDOJ8ILRYVfdxQ-xGlzw\">\n",
    "\n",
    "<small>DLWP, p. 116</small>"
   ]
  },
  {
   "cell_type": "code",
   "execution_count": 5,
   "id": "27654806-f091-4817-8242-f7b9ce0b5277",
   "metadata": {
    "slideshow": {
     "slide_type": "skip"
    }
   },
   "outputs": [],
   "source": [
    "(train_data, train_targets), (test_data, test_targets) = boston_housing.load_data()\n",
    "\n",
    "mean = train_data.mean(axis = 0)\n",
    "train_data -= mean # shift\n",
    "std = train_data.std(axis = 0)\n",
    "train_data /= std # rescale\n",
    "\n",
    "test_data -= mean\n",
    "test_data /= std "
   ]
  },
  {
   "cell_type": "markdown",
   "id": "0df30662",
   "metadata": {
    "slideshow": {
     "slide_type": "subslide"
    }
   },
   "source": [
    "### Commonsense baselines / Test our untrained model before training\n",
    "\n",
    "What are the max, min, mean and variance of our test targets?"
   ]
  },
  {
   "cell_type": "code",
   "execution_count": 4,
   "id": "63af99d8",
   "metadata": {
    "slideshow": {
     "slide_type": "fragment"
    }
   },
   "outputs": [
    {
     "name": "stdout",
     "output_type": "stream",
     "text": [
      "Test prices, min: 5.6000 (~5,000$) | max:  50.0000 (~50,000$)\n",
      "Mean of our test prices: 23.0784 (~23,000$)\n",
      "STD of our test prices:  9.1238 (~9,000$)\n"
     ]
    }
   ],
   "source": [
    "test_targets_min, test_targets_max = test_targets.min(), test_targets.max()\n",
    "test_targets_mean, test_targets_std = test_targets.mean(), test_targets.std() \n",
    "print(f\"Test prices, min: {test_targets_min:.4f} (~{int(test_targets_min)*1000:,}$) | max:  {test_targets_max:.4f} (~{int(test_targets_max)*1000:,}$)\")\n",
    "print(f\"Mean of our test prices: {test_targets_mean:.4f} (~{int(test_targets_mean)*1000:,}$)\")\n",
    "print(f\"STD of our test prices:  {test_targets_std:.4f} (~{int(test_targets_std)*1000:,}$)\")"
   ]
  },
  {
   "cell_type": "markdown",
   "id": "5c6f0616",
   "metadata": {
    "slideshow": {
     "slide_type": "subslide"
    }
   },
   "source": [
    "What score do we get if we just predict the mean?"
   ]
  },
  {
   "cell_type": "code",
   "execution_count": 63,
   "id": "29595a9b",
   "metadata": {
    "slideshow": {
     "slide_type": "fragment"
    }
   },
   "outputs": [
    {
     "name": "stdout",
     "output_type": "stream",
     "text": [
      "Predicting the mean of our test_set: 23.07843 (~23,000$)\n",
      "MAE: 6.5990 (~6,000$)\n"
     ]
    }
   ],
   "source": [
    "mean_prediction = []\n",
    "test_targets_mean = test_targets.mean()\n",
    "for test in test_targets:                                     # a very plain loop!\n",
    "    mean_prediction.append(np.abs(test - test_targets_mean))  # MAE using the mean of our test dataset\n",
    "mean_prediction_mae = np.array(mean_prediction).mean()\n",
    "print(f\"Predicting the mean of our test_set: {test_targets_mean:.5f} (~{int(test_targets_mean)*1000:,}$)\")\n",
    "print(f\"MAE: {mean_prediction_mae:.4f} (~{int(mean_prediction_mae)*1000:,}$)\")"
   ]
  },
  {
   "cell_type": "markdown",
   "id": "d4e9f2f5",
   "metadata": {
    "slideshow": {
     "slide_type": "subslide"
    }
   },
   "source": [
    "Testing an untrained model."
   ]
  },
  {
   "cell_type": "code",
   "execution_count": 27,
   "id": "2c340a69",
   "metadata": {
    "slideshow": {
     "slide_type": "fragment"
    }
   },
   "outputs": [
    {
     "name": "stdout",
     "output_type": "stream",
     "text": [
      "MSE: 610.7128, sqrt: 24.7126 (~24,713$) | MAE: 22.9731 (~22,973$)\n"
     ]
    }
   ],
   "source": [
    "test_mse_score, test_mae_score = build_model().evaluate(test_data, test_targets, verbose=0)\n",
    "test_mse_score_sqrt = np.sqrt(test_mse_score)\n",
    "msg =  f\"MSE: {test_mse_score:.4f}, sqrt: {test_mse_score_sqrt:.4f} \"\n",
    "msg += f\"(~{round(test_mse_score_sqrt*1000):,}$) | \"\n",
    "msg += f\"MAE: {test_mae_score:.4f} (~{int(test_mae_score*1000):,}$)\"\n",
    "print(msg)"
   ]
  },
  {
   "cell_type": "code",
   "execution_count": 41,
   "id": "7ee8e541-5681-4c0a-858c-2160289a33e9",
   "metadata": {
    "slideshow": {
     "slide_type": "subslide"
    }
   },
   "outputs": [
    {
     "name": "stdout",
     "output_type": "stream",
     "text": [
      "Processing fold 1\n",
      "Processing fold 2\n",
      "Processing fold 3\n",
      "Processing fold 4\n"
     ]
    }
   ],
   "source": [
    "K = 4\n",
    "num_val_samples = len(train_data) // K\n",
    "num_epochs = 100\n",
    "all_scores = []\n",
    "\n",
    "for i in range(K):\n",
    "    print(f\"Processing fold {i+1}\")\n",
    "                                                          # 1. Validation data: data from partition i                      \n",
    "    a, b = i * num_val_samples, (i + 1) * num_val_samples\n",
    "    val_data, val_targets = train_data[a : b], train_targets[a : b]\n",
    "\n",
    "                                                          # 2. Training data: data from all other partitions\n",
    "    partial_train_data = np.concatenate([train_data[:a], train_data[b:]], axis=0)\n",
    "    partial_train_targets = np.concatenate([train_targets[:a], train_targets[b:]], axis=0)\n",
    "\n",
    "    model = build_model()                                 # 3. Build the Keras model (already compiled)\n",
    "\n",
    "    model.fit(partial_train_data, partial_train_targets,  # 4. Train the model (in silent mode, verbose=0)\n",
    "              epochs=num_epochs, batch_size=16, verbose=0)\n",
    "\n",
    "                                                          # 5. Evaluate the model on the validation data\n",
    "    val_mse, val_mae = model.evaluate(val_data, val_targets, verbose=0)\n",
    "    all_scores.append(val_mae)\n"
   ]
  },
  {
   "cell_type": "markdown",
   "id": "353e3bb3",
   "metadata": {
    "slideshow": {
     "slide_type": "subslide"
    }
   },
   "source": [
    "The fold MAE scores, and their range."
   ]
  },
  {
   "cell_type": "code",
   "execution_count": 64,
   "id": "28904f78-2255-40cd-8b79-3680bd71dc1a",
   "metadata": {
    "slideshow": {
     "slide_type": "fragment"
    }
   },
   "outputs": [
    {
     "name": "stdout",
     "output_type": "stream",
     "text": [
      "Validation MAE scores for each fold:\n",
      "2.0201 (~2,020$)\n",
      "2.4889 (~2,488$)\n",
      "2.3424 (~2,342$)\n",
      "2.2669 (~2,266$)\n"
     ]
    }
   ],
   "source": [
    "print(f\"Validation MAE scores for each fold:\")\n",
    "for score in all_scores:\n",
    "      print(f\"{score:.4f} (~{int(score * 1000):,}$)\")"
   ]
  },
  {
   "cell_type": "code",
   "execution_count": 65,
   "id": "62f3086b-5b8b-42e6-be29-921bf95124fe",
   "metadata": {
    "slideshow": {
     "slide_type": "fragment"
    }
   },
   "outputs": [
    {
     "name": "stdout",
     "output_type": "stream",
     "text": [
      "Validation MAE scores range from:\n",
      "2.0201 (~2,020$) to\n",
      "2.4889 (~2,488$)\n"
     ]
    }
   ],
   "source": [
    "min_score, max_score = min(all_scores), max(all_scores)\n",
    "print(f\"Validation MAE scores range from:\")\n",
    "print(f\"{min_score:.4f} (~{int(min_score * 1000):,}$) to\")\n",
    "print(f\"{max_score:.4f} (~{int(max_score * 1000):,}$)\")"
   ]
  },
  {
   "cell_type": "markdown",
   "id": "f9ffd9e3",
   "metadata": {
    "slideshow": {
     "slide_type": "subslide"
    }
   },
   "source": [
    "The fold MAE scores mean."
   ]
  },
  {
   "cell_type": "code",
   "execution_count": 66,
   "id": "692c43c3",
   "metadata": {
    "slideshow": {
     "slide_type": "fragment"
    }
   },
   "outputs": [
    {
     "name": "stdout",
     "output_type": "stream",
     "text": [
      "Validation MAE mean:\n",
      "2.2796 (~2,279$)\n"
     ]
    }
   ],
   "source": [
    "val_mae_mean = np.mean(all_scores)\n",
    "print(f\"Validation MAE mean:\")\n",
    "print(f\"{val_mae_mean:.4f} (~{int(val_mae_mean * 1000):,}$)\")"
   ]
  },
  {
   "cell_type": "markdown",
   "id": "1c5801ae",
   "metadata": {
    "slideshow": {
     "slide_type": "fragment"
    }
   },
   "source": [
    "The average MAE is significant since the prices range from \\\\$5,000 to \\\\$50,000"
   ]
  },
  {
   "cell_type": "markdown",
   "id": "4090e2ea-1101-4795-befd-a7f51051df30",
   "metadata": {
    "slideshow": {
     "slide_type": "slide"
    }
   },
   "source": [
    "---\n",
    "\n",
    "## More epochs & smoothing\n",
    "\n",
    "We will now extend the run to 500 epochs and use a `history` object to record validation MAE at each epoch.\n",
    "\n",
    "#### Callbacks\n",
    "\n",
    "The `Model.fit()` has a parameter, `callbacks`, allowing us to add functionalities to be run at various points in our training. This is highly customizable.\n",
    "\n",
    "See this [tutorial](https://www.tensorflow.org/guide/keras/custom_callback)."
   ]
  },
  {
   "cell_type": "code",
   "execution_count": 6,
   "id": "c13af073-a3dd-413b-8a84-fdcba0a71362",
   "metadata": {
    "slideshow": {
     "slide_type": "subslide"
    }
   },
   "outputs": [],
   "source": [
    "class CustomCallback(tf.keras.callbacks.Callback):\n",
    "    def __init__(self, epochs):                                            # by passing epochs at initialization\n",
    "        super(tf.keras.callbacks.Callback, self).__init__()                # I can use this as our total in on_epoch_begin\n",
    "        self.epochs = epochs\n",
    "    def on_epoch_begin(self, epoch, logs=None):                            # run at the start of each epoch\n",
    "        c = ['|', '/', '-', '\\\\'] \n",
    "        print(f\"\\r{c[epoch % 4]} epoch: {epoch+1}/{self.epochs}\", end=\"\")  # run at the very end of training\n",
    "    def on_train_end(self, logs=None):\n",
    "        print()"
   ]
  },
  {
   "cell_type": "code",
   "execution_count": 9,
   "id": "41d1cca8-b7b2-4953-8eca-d27295762e1e",
   "metadata": {
    "slideshow": {
     "slide_type": "subslide"
    }
   },
   "outputs": [
    {
     "name": "stdout",
     "output_type": "stream",
     "text": [
      "Processing fold 1\n",
      "\\ epoch: 500/500\n",
      "Processing fold 2\n",
      "\\ epoch: 500/500\n",
      "Processing fold 3\n",
      "\\ epoch: 500/500\n",
      "Processing fold 4\n",
      "\\ epoch: 500/500\n"
     ]
    }
   ],
   "source": [
    "K = 4\n",
    "num_val_samples = len(train_data) // K\n",
    "num_epochs = 500\n",
    "all_mae_histories = []\n",
    "\n",
    "for i in range(K):\n",
    "    print(f\"Processing fold {i+1}\")\n",
    "\n",
    "    a, b = i * num_val_samples, (i + 1) * num_val_samples          # 1. Validation data: data from partition i\n",
    "    val_data, val_targets = train_data[a : b], train_targets[a : b]\n",
    "\n",
    "                                                                   # 2. Training data: data from all other partitions\n",
    "    partial_train_data = np.concatenate([train_data[:a], train_data[b:]], axis=0)\n",
    "    partial_train_targets = np.concatenate([train_targets[:a], train_targets[b:]], axis=0)\n",
    "\n",
    "    model = build_model()                                          # 3. Build the Keras model (already compiled)\n",
    "\n",
    "    history = model.fit(partial_train_data, partial_train_targets, # 4. Train the model (in silent mode, verbose=0)\n",
    "                        epochs=num_epochs, batch_size=16, verbose=0,\n",
    "                        validation_data=(val_data, val_targets),\n",
    "                        callbacks=[CustomCallback(num_epochs)])    # (← Callback object is passed to `Model.fit()`)\n",
    "    mae_history = history.history['val_mae']\n",
    "    all_mae_histories.append(mae_history)"
   ]
  },
  {
   "cell_type": "code",
   "execution_count": 10,
   "id": "a9063644",
   "metadata": {
    "slideshow": {
     "slide_type": "subslide"
    }
   },
   "outputs": [],
   "source": [
    "# take the mean of all four folds for each epoch\n",
    "average_mae_history = np.array(all_mae_histories).mean(axis=0)"
   ]
  },
  {
   "cell_type": "code",
   "execution_count": 11,
   "id": "2ee6fa66-00c8-4e8d-a61c-eaa672d373f7",
   "metadata": {
    "scrolled": false,
    "slideshow": {
     "slide_type": "subslide"
    }
   },
   "outputs": [
    {
     "data": {
      "image/png": "[encoded data removed]",
      "text/plain": [
       "<Figure size 640x480 with 1 Axes>"
      ]
     },
     "metadata": {},
     "output_type": "display_data"
    }
   ],
   "source": [
    "plt.plot(range(1, len(average_mae_history) + 1), average_mae_history)\n",
    "plt.xlabel(\"Epochs\")\n",
    "plt.ylabel(\"Validation MAE\")\n",
    "plt.title(\"Average MAE\")\n",
    "plt.show()"
   ]
  },
  {
   "cell_type": "code",
   "execution_count": 12,
   "id": "0e7babe1",
   "metadata": {
    "slideshow": {
     "slide_type": "subslide"
    }
   },
   "outputs": [
    {
     "data": {
      "image/png": "[encoded data removed]",
      "text/plain": [
       "<Figure size 640x480 with 1 Axes>"
      ]
     },
     "metadata": {},
     "output_type": "display_data"
    }
   ],
   "source": [
    "plt.plot(range(1, len(average_mae_history[10:]) + 1), average_mae_history[10:])\n",
    "plt.xlabel(\"Epochs\")\n",
    "plt.ylabel(\"Validation MAE\")\n",
    "plt.title(\"Average MAE, omitting the first 10 values\")\n",
    "\n",
    "plt.show()"
   ]
  },
  {
   "cell_type": "code",
   "execution_count": 13,
   "id": "bdc08ea2",
   "metadata": {
    "slideshow": {
     "slide_type": "subslide"
    }
   },
   "outputs": [
    {
     "data": {
      "image/png": "[encoded data removed]",
      "text/plain": [
       "<Figure size 640x480 with 1 Axes>"
      ]
     },
     "metadata": {},
     "output_type": "display_data"
    }
   ],
   "source": [
    "plt.plot(range(1, len(average_mae_history[30:]) + 1), average_mae_history[30:])\n",
    "plt.xlabel(\"Epochs\")\n",
    "plt.ylabel(\"Validation MAE\")\n",
    "plt.title(\"Average MAE, omitting the first 30 values\")\n",
    "plt.show()"
   ]
  },
  {
   "cell_type": "markdown",
   "id": "58d86067",
   "metadata": {
    "slideshow": {
     "slide_type": "subslide"
    }
   },
   "source": [
    "The code to smooth data by replacing each data point with a weighted sum of itself and the previous smoothed point."
   ]
  },
  {
   "cell_type": "code",
   "execution_count": 14,
   "id": "7b61b43f-1dc2-4576-b44d-c0d8e0e7a3cb",
   "metadata": {
    "slideshow": {
     "slide_type": "fragment"
    }
   },
   "outputs": [],
   "source": [
    "def smooth_curve(points, beta = 0.9):       # beta must be between 0 and 1!\n",
    "    smoothed_points = []\n",
    "    for current in points:\n",
    "        if smoothed_points:                 # (an nonempty list is 'True')\n",
    "            previous = smoothed_points[-1]  # the last appended point\n",
    "                                            # ↓ a weighted sum of previous & point, controlled by beta\n",
    "            smoothed_points.append(beta * previous + (1 - beta) * current)\n",
    "        else:\n",
    "            smoothed_points.append(current) # at the start, the list is empty, we just add the first point\n",
    "    return smoothed_points"
   ]
  },
  {
   "cell_type": "markdown",
   "id": "d3577962",
   "metadata": {
    "slideshow": {
     "slide_type": "subslide"
    }
   },
   "source": [
    "##### Note\n",
    "\n",
    "This is the same technique we briefly saw when we talked about *momentum*.\n",
    "\n",
    "<!-- <img style=\"height:550px;float:right\" src=\"images/andrew-ng-exponentially-weighted-averages.png\"> -->\n",
    "<img style=\"height:550px;float:right\" src=\"https://drive.google.com/uc?id=1aU0XTw6VJ9wx_VVxvKB_cE-PVeMljg0B\">\n",
    "\n",
    "\n",
    "<small style=\"position:absolute;bottom:0;right:0\">[Andrew Ng, Improving Deep Neural Networks: Hyperparameter Tuning, Regularization and Optimization (Course 2 of the Deep Learning Specialization)](https://www.youtube.com/watch?v=k8fTYJPd3_I&list=PLkDaE6sCZn6Hn0vK8co82zjQtt3T2Nkqc&index=20).</small>"
   ]
  },
  {
   "cell_type": "code",
   "execution_count": 15,
   "id": "29f4d532",
   "metadata": {
    "slideshow": {
     "slide_type": "skip"
    }
   },
   "outputs": [
    {
     "data": {
      "image/jpeg": "[encoded data removed]",
      "text/html": [
       "\n",
       "        <iframe\n",
       "            width=\"853\"\n",
       "            height=\"480\"\n",
       "            src=\"https://www.youtube.com/embed/NxTFlzBjS-4\"\n",
       "            frameborder=\"0\"\n",
       "            allowfullscreen\n",
       "            \n",
       "        ></iframe>\n",
       "        "
      ],
      "text/plain": [
       "<IPython.lib.display.YouTubeVideo at 0x7ff9ac250190>"
      ]
     },
     "execution_count": 15,
     "metadata": {},
     "output_type": "execute_result"
    }
   ],
   "source": [
    "YouTubeVideo('NxTFlzBjS-4', width=853, height=480) # Andrew Ng Exponential Averages"
   ]
  },
  {
   "cell_type": "markdown",
   "id": "b879379e",
   "metadata": {
    "slideshow": {
     "slide_type": "subslide"
    }
   },
   "source": [
    "The smoothed outcome, omitting the first 30 points"
   ]
  },
  {
   "cell_type": "code",
   "execution_count": 16,
   "id": "b8ad25af-687c-49d5-afa8-019e5b947331",
   "metadata": {
    "slideshow": {
     "slide_type": "fragment"
    }
   },
   "outputs": [
    {
     "data": {
      "image/png": "[encoded data removed]",
      "text/plain": [
       "<Figure size 640x480 with 1 Axes>"
      ]
     },
     "metadata": {},
     "output_type": "display_data"
    }
   ],
   "source": [
    "smooth_mae_history = smooth_curve(mae_history[30:]) # from 30 onward\n",
    "\n",
    "plt.plot(range(1, len(smooth_mae_history) + 1), smooth_mae_history)\n",
    "plt.xlabel('Epochs')\n",
    "plt.ylabel('Validation MAE')\n",
    "plt.title(\"Average MAE, smoothed, omitting the first 30 values\")\n",
    "plt.show()"
   ]
  },
  {
   "cell_type": "markdown",
   "id": "762f4b80",
   "metadata": {
    "slideshow": {
     "slide_type": "subslide"
    }
   },
   "source": [
    "Lowest MAE occurs at epoch..."
   ]
  },
  {
   "cell_type": "code",
   "execution_count": 17,
   "id": "d2504cfb-184a-4f48-9984-0ea8733dd176",
   "metadata": {
    "slideshow": {
     "slide_type": "fragment"
    }
   },
   "outputs": [
    {
     "name": "stdout",
     "output_type": "stream",
     "text": [
      "111\n"
     ]
    }
   ],
   "source": [
    "print(np.argmin(average_mae_history)) # compare with smooth_mae_history"
   ]
  },
  {
   "cell_type": "markdown",
   "id": "2fd857d0-b0ff-42aa-87c2-16989f60dac0",
   "metadata": {
    "slideshow": {
     "slide_type": "subslide"
    }
   },
   "source": [
    "---\n",
    "\n",
    "## Training the final model\n",
    "\n",
    "- on the whole training data\n",
    "- until the epoch with lowest MAE"
   ]
  },
  {
   "cell_type": "code",
   "execution_count": 23,
   "id": "289d2282-8589-4ba8-a5a1-3633ce4339fd",
   "metadata": {
    "scrolled": true,
    "slideshow": {
     "slide_type": "fragment"
    }
   },
   "outputs": [
    {
     "name": "stdout",
     "output_type": "stream",
     "text": [
      "Epoch 1/111\n",
      "26/26 [==============================] - 1s 7ms/step - loss: 504.9715 - mae: 20.5467\n",
      "Epoch 2/111\n",
      "26/26 [==============================] - 0s 6ms/step - loss: 346.1519 - mae: 16.4905\n",
      "Epoch 3/111\n",
      "26/26 [==============================] - 0s 7ms/step - loss: 171.6214 - mae: 10.7634\n",
      "Epoch 4/111\n",
      "26/26 [==============================] - 0s 7ms/step - loss: 73.0844 - mae: 6.5299\n",
      "Epoch 5/111\n",
      "26/26 [==============================] - 0s 6ms/step - loss: 41.4707 - mae: 4.8056\n",
      "Epoch 6/111\n",
      "26/26 [==============================] - 0s 6ms/step - loss: 30.6151 - mae: 3.9772\n",
      "Epoch 7/111\n",
      "26/26 [==============================] - 0s 7ms/step - loss: 26.0097 - mae: 3.5777\n",
      "Epoch 8/111\n",
      "26/26 [==============================] - 0s 7ms/step - loss: 23.5725 - mae: 3.3851\n",
      "Epoch 9/111\n",
      "26/26 [==============================] - 0s 6ms/step - loss: 21.6862 - mae: 3.2733\n",
      "Epoch 10/111\n",
      "26/26 [==============================] - 0s 6ms/step - loss: 19.9707 - mae: 3.1333\n",
      "Epoch 11/111\n",
      "26/26 [==============================] - 0s 6ms/step - loss: 18.1366 - mae: 2.9985\n",
      "Epoch 12/111\n",
      "26/26 [==============================] - 0s 6ms/step - loss: 16.8776 - mae: 2.9191\n",
      "Epoch 13/111\n",
      "26/26 [==============================] - 0s 6ms/step - loss: 15.5943 - mae: 2.7636\n",
      "Epoch 14/111\n",
      "26/26 [==============================] - 0s 6ms/step - loss: 14.5212 - mae: 2.6676\n",
      "Epoch 15/111\n",
      "26/26 [==============================] - 0s 7ms/step - loss: 13.8248 - mae: 2.6447\n",
      "Epoch 16/111\n",
      "26/26 [==============================] - 0s 6ms/step - loss: 13.2595 - mae: 2.5659\n",
      "Epoch 17/111\n",
      "26/26 [==============================] - 0s 6ms/step - loss: 12.4489 - mae: 2.4831\n",
      "Epoch 18/111\n",
      "26/26 [==============================] - 0s 6ms/step - loss: 12.0399 - mae: 2.4325\n",
      "Epoch 19/111\n",
      "26/26 [==============================] - 0s 6ms/step - loss: 11.6615 - mae: 2.3549\n",
      "Epoch 20/111\n",
      "26/26 [==============================] - 0s 6ms/step - loss: 11.1467 - mae: 2.3461\n",
      "Epoch 21/111\n",
      "26/26 [==============================] - 0s 6ms/step - loss: 10.8641 - mae: 2.3027\n",
      "Epoch 22/111\n",
      "26/26 [==============================] - 0s 6ms/step - loss: 10.7226 - mae: 2.2697\n",
      "Epoch 23/111\n",
      "26/26 [==============================] - 0s 6ms/step - loss: 10.5244 - mae: 2.2512\n",
      "Epoch 24/111\n",
      "26/26 [==============================] - 0s 6ms/step - loss: 9.9287 - mae: 2.2286\n",
      "Epoch 25/111\n",
      "26/26 [==============================] - 0s 6ms/step - loss: 9.8435 - mae: 2.2157\n",
      "Epoch 26/111\n",
      "26/26 [==============================] - 0s 7ms/step - loss: 9.6472 - mae: 2.2301\n",
      "Epoch 27/111\n",
      "26/26 [==============================] - 0s 7ms/step - loss: 9.6547 - mae: 2.1900\n",
      "Epoch 28/111\n",
      "26/26 [==============================] - 0s 6ms/step - loss: 9.4070 - mae: 2.1642\n",
      "Epoch 29/111\n",
      "26/26 [==============================] - 0s 6ms/step - loss: 9.2629 - mae: 2.1436\n",
      "Epoch 30/111\n",
      "26/26 [==============================] - 0s 6ms/step - loss: 9.2633 - mae: 2.1601\n",
      "Epoch 31/111\n",
      "26/26 [==============================] - 0s 6ms/step - loss: 9.0717 - mae: 2.1082\n",
      "Epoch 32/111\n",
      "26/26 [==============================] - 0s 6ms/step - loss: 8.8374 - mae: 2.0968\n",
      "Epoch 33/111\n",
      "26/26 [==============================] - 0s 6ms/step - loss: 8.8095 - mae: 2.1094\n",
      "Epoch 34/111\n",
      "26/26 [==============================] - 0s 6ms/step - loss: 8.7529 - mae: 2.0837\n",
      "Epoch 35/111\n",
      "26/26 [==============================] - 0s 6ms/step - loss: 8.6272 - mae: 2.0676\n",
      "Epoch 36/111\n",
      "26/26 [==============================] - 0s 6ms/step - loss: 8.4844 - mae: 2.0720\n",
      "Epoch 37/111\n",
      "26/26 [==============================] - 0s 6ms/step - loss: 8.4952 - mae: 2.0736\n",
      "Epoch 38/111\n",
      "26/26 [==============================] - 0s 7ms/step - loss: 8.3939 - mae: 2.0377\n",
      "Epoch 39/111\n",
      "26/26 [==============================] - 0s 6ms/step - loss: 8.2939 - mae: 2.0117\n",
      "Epoch 40/111\n",
      "26/26 [==============================] - 0s 6ms/step - loss: 8.0766 - mae: 2.0306\n",
      "Epoch 41/111\n",
      "26/26 [==============================] - 0s 6ms/step - loss: 7.9775 - mae: 1.9979\n",
      "Epoch 42/111\n",
      "26/26 [==============================] - 0s 7ms/step - loss: 8.0045 - mae: 1.9967\n",
      "Epoch 43/111\n",
      "26/26 [==============================] - 0s 7ms/step - loss: 7.9685 - mae: 1.9864\n",
      "Epoch 44/111\n",
      "26/26 [==============================] - 0s 6ms/step - loss: 7.9586 - mae: 1.9864\n",
      "Epoch 45/111\n",
      "26/26 [==============================] - 0s 7ms/step - loss: 7.6210 - mae: 1.9549\n",
      "Epoch 46/111\n",
      "26/26 [==============================] - 0s 7ms/step - loss: 7.5831 - mae: 1.9631\n",
      "Epoch 47/111\n",
      "26/26 [==============================] - 0s 6ms/step - loss: 7.7919 - mae: 1.9727\n",
      "Epoch 48/111\n",
      "26/26 [==============================] - 0s 6ms/step - loss: 7.5471 - mae: 1.9416\n",
      "Epoch 49/111\n",
      "26/26 [==============================] - 0s 6ms/step - loss: 7.5906 - mae: 1.9544\n",
      "Epoch 50/111\n",
      "26/26 [==============================] - 0s 6ms/step - loss: 7.4101 - mae: 1.9391\n",
      "Epoch 51/111\n",
      "26/26 [==============================] - 0s 6ms/step - loss: 7.6881 - mae: 1.9833\n",
      "Epoch 52/111\n",
      "26/26 [==============================] - 0s 6ms/step - loss: 7.2316 - mae: 1.8947\n",
      "Epoch 53/111\n",
      "26/26 [==============================] - 0s 6ms/step - loss: 7.3572 - mae: 1.9564\n",
      "Epoch 54/111\n",
      "26/26 [==============================] - 0s 6ms/step - loss: 7.1026 - mae: 1.9019\n",
      "Epoch 55/111\n",
      "26/26 [==============================] - 0s 6ms/step - loss: 7.2675 - mae: 1.8970\n",
      "Epoch 56/111\n",
      "26/26 [==============================] - 0s 6ms/step - loss: 7.1958 - mae: 1.9031\n",
      "Epoch 57/111\n",
      "26/26 [==============================] - 0s 6ms/step - loss: 7.1588 - mae: 1.8891\n",
      "Epoch 58/111\n",
      "26/26 [==============================] - 0s 6ms/step - loss: 6.9855 - mae: 1.8794\n",
      "Epoch 59/111\n",
      "26/26 [==============================] - 0s 6ms/step - loss: 6.9257 - mae: 1.8436\n",
      "Epoch 60/111\n",
      "26/26 [==============================] - 0s 6ms/step - loss: 6.8794 - mae: 1.8510\n",
      "Epoch 61/111\n",
      "26/26 [==============================] - 0s 6ms/step - loss: 6.7965 - mae: 1.8460\n",
      "Epoch 62/111\n",
      "26/26 [==============================] - 0s 7ms/step - loss: 6.7112 - mae: 1.8387\n",
      "Epoch 63/111\n",
      "26/26 [==============================] - 0s 6ms/step - loss: 6.7361 - mae: 1.8137\n",
      "Epoch 64/111\n",
      "26/26 [==============================] - 0s 6ms/step - loss: 6.8334 - mae: 1.8710\n",
      "Epoch 65/111\n",
      "26/26 [==============================] - 0s 6ms/step - loss: 6.7019 - mae: 1.8399\n",
      "Epoch 66/111\n",
      "26/26 [==============================] - 0s 6ms/step - loss: 6.5474 - mae: 1.8062\n",
      "Epoch 67/111\n",
      "26/26 [==============================] - 0s 6ms/step - loss: 6.5816 - mae: 1.8023\n",
      "Epoch 68/111\n",
      "26/26 [==============================] - 0s 7ms/step - loss: 6.5494 - mae: 1.7979\n",
      "Epoch 69/111\n",
      "26/26 [==============================] - 0s 6ms/step - loss: 6.6782 - mae: 1.8180\n",
      "Epoch 70/111\n",
      "26/26 [==============================] - 0s 7ms/step - loss: 6.4242 - mae: 1.7896\n",
      "Epoch 71/111\n",
      "26/26 [==============================] - 0s 6ms/step - loss: 6.4083 - mae: 1.8037\n",
      "Epoch 72/111\n",
      "26/26 [==============================] - 0s 6ms/step - loss: 6.3571 - mae: 1.7913\n",
      "Epoch 73/111\n",
      "26/26 [==============================] - 0s 6ms/step - loss: 6.3411 - mae: 1.8019\n",
      "Epoch 74/111\n",
      "26/26 [==============================] - 0s 8ms/step - loss: 6.1706 - mae: 1.7510\n",
      "Epoch 75/111\n",
      "26/26 [==============================] - 0s 7ms/step - loss: 5.9837 - mae: 1.7302\n",
      "Epoch 76/111\n",
      "26/26 [==============================] - 0s 7ms/step - loss: 6.1517 - mae: 1.7623\n",
      "Epoch 77/111\n",
      "26/26 [==============================] - 0s 6ms/step - loss: 6.1777 - mae: 1.7316\n",
      "Epoch 78/111\n",
      "26/26 [==============================] - 0s 7ms/step - loss: 6.1682 - mae: 1.7552\n",
      "Epoch 79/111\n",
      "26/26 [==============================] - 0s 6ms/step - loss: 5.9743 - mae: 1.7124\n",
      "Epoch 80/111\n",
      "26/26 [==============================] - 0s 7ms/step - loss: 5.9592 - mae: 1.7085\n",
      "Epoch 81/111\n",
      "26/26 [==============================] - 0s 6ms/step - loss: 6.0355 - mae: 1.7599\n",
      "Epoch 82/111\n",
      "26/26 [==============================] - 0s 6ms/step - loss: 5.8480 - mae: 1.7270\n",
      "Epoch 83/111\n",
      "26/26 [==============================] - 0s 6ms/step - loss: 5.7972 - mae: 1.7444\n",
      "Epoch 84/111\n",
      "26/26 [==============================] - 0s 6ms/step - loss: 5.8035 - mae: 1.7212\n",
      "Epoch 85/111\n",
      "26/26 [==============================] - 0s 8ms/step - loss: 5.7286 - mae: 1.6964\n",
      "Epoch 86/111\n",
      "26/26 [==============================] - 0s 7ms/step - loss: 5.7954 - mae: 1.7178\n",
      "Epoch 87/111\n"
     ]
    },
    {
     "name": "stdout",
     "output_type": "stream",
     "text": [
      "26/26 [==============================] - 0s 6ms/step - loss: 5.5747 - mae: 1.6886\n",
      "Epoch 88/111\n",
      "26/26 [==============================] - 0s 7ms/step - loss: 5.5843 - mae: 1.6981\n",
      "Epoch 89/111\n",
      "26/26 [==============================] - 0s 6ms/step - loss: 5.7372 - mae: 1.7092\n",
      "Epoch 90/111\n",
      "26/26 [==============================] - 0s 6ms/step - loss: 5.6975 - mae: 1.6699\n",
      "Epoch 91/111\n",
      "26/26 [==============================] - 0s 7ms/step - loss: 5.3768 - mae: 1.6850\n",
      "Epoch 92/111\n",
      "26/26 [==============================] - 0s 6ms/step - loss: 5.5871 - mae: 1.6770\n",
      "Epoch 93/111\n",
      "26/26 [==============================] - 0s 6ms/step - loss: 5.4750 - mae: 1.6605\n",
      "Epoch 94/111\n",
      "26/26 [==============================] - 0s 7ms/step - loss: 5.4019 - mae: 1.6574\n",
      "Epoch 95/111\n",
      "26/26 [==============================] - 0s 6ms/step - loss: 5.4410 - mae: 1.6575\n",
      "Epoch 96/111\n",
      "26/26 [==============================] - 0s 7ms/step - loss: 5.1576 - mae: 1.6223\n",
      "Epoch 97/111\n",
      "26/26 [==============================] - 0s 6ms/step - loss: 5.2268 - mae: 1.6214\n",
      "Epoch 98/111\n",
      "26/26 [==============================] - 0s 6ms/step - loss: 5.4871 - mae: 1.6528\n",
      "Epoch 99/111\n",
      "26/26 [==============================] - 0s 7ms/step - loss: 5.1471 - mae: 1.6355\n",
      "Epoch 100/111\n",
      "26/26 [==============================] - 0s 6ms/step - loss: 5.2203 - mae: 1.6446\n",
      "Epoch 101/111\n",
      "26/26 [==============================] - 0s 6ms/step - loss: 5.1408 - mae: 1.5898\n",
      "Epoch 102/111\n",
      "26/26 [==============================] - 0s 7ms/step - loss: 5.1461 - mae: 1.6036\n",
      "Epoch 103/111\n",
      "26/26 [==============================] - 0s 6ms/step - loss: 5.1568 - mae: 1.6563\n",
      "Epoch 104/111\n",
      "26/26 [==============================] - 0s 6ms/step - loss: 5.1571 - mae: 1.6377\n",
      "Epoch 105/111\n",
      "26/26 [==============================] - 0s 7ms/step - loss: 5.0878 - mae: 1.6303\n",
      "Epoch 106/111\n",
      "26/26 [==============================] - 0s 6ms/step - loss: 5.0983 - mae: 1.6190\n",
      "Epoch 107/111\n",
      "26/26 [==============================] - 0s 7ms/step - loss: 5.0071 - mae: 1.5726\n",
      "Epoch 108/111\n",
      "26/26 [==============================] - 0s 7ms/step - loss: 4.9025 - mae: 1.5948\n",
      "Epoch 109/111\n",
      "26/26 [==============================] - 0s 6ms/step - loss: 5.0159 - mae: 1.5926\n",
      "Epoch 110/111\n",
      "26/26 [==============================] - 0s 7ms/step - loss: 4.9669 - mae: 1.5564\n",
      "Epoch 111/111\n",
      "26/26 [==============================] - 0s 6ms/step - loss: 4.7595 - mae: 1.5328\n"
     ]
    },
    {
     "data": {
      "text/plain": [
       "<keras.callbacks.History at 0x7ffa284bb410>"
      ]
     },
     "execution_count": 23,
     "metadata": {},
     "output_type": "execute_result"
    }
   ],
   "source": [
    "model = build_model()\n",
    "model.fit(\n",
    "    train_data, # ← WHOLE TRAINING DATA\n",
    "    train_targets,\n",
    "           # ↓ EPOCH WITH LOWEST MAE ------\n",
    "    epochs = np.argmin(average_mae_history), # could do another run with smooth_mae_history as well\n",
    "           # ↑ ----------------------------\n",
    "    batch_size = 16\n",
    ")"
   ]
  },
  {
   "cell_type": "code",
   "execution_count": 24,
   "id": "86620f92",
   "metadata": {
    "slideshow": {
     "slide_type": "subslide"
    }
   },
   "outputs": [
    {
     "name": "stdout",
     "output_type": "stream",
     "text": [
      "MSE: 14.9719, sqrt: 3.8694 (~3,869$) | MAE: 2.4834 (~2,483$)\n"
     ]
    }
   ],
   "source": [
    "test_mse_score, test_mae_score = model.evaluate(test_data, test_targets, verbose=0)\n",
    "test_mse_score_sqrt = np.sqrt(test_mse_score)\n",
    "msg =  f\"MSE: {test_mse_score:.4f}, sqrt: {test_mse_score_sqrt:.4f} \"\n",
    "msg += f\"(~{round(test_mse_score_sqrt*1000):,}$) | \"\n",
    "msg += f\"MAE: {test_mae_score:.4f} (~{int(test_mae_score*1000):,}$)\"\n",
    "print(msg)"
   ]
  },
  {
   "cell_type": "markdown",
   "id": "edfc9e63-467a-473d-ab63-bef805a017bf",
   "metadata": {
    "slideshow": {
     "slide_type": "slide"
    }
   },
   "source": [
    "---\n",
    "\n",
    "## 4.3.6 Wrapping up"
   ]
  },
  {
   "cell_type": "markdown",
   "id": "e0b4604f",
   "metadata": {
    "slideshow": {
     "slide_type": "subslide"
    }
   },
   "source": [
    "### Workflow\n",
    "\n",
    "1. Prepare the data & split into Train/Validation/Test\n",
    "2. Define your model\n",
    "3. Evaluate your untrained model / a **commonsense baseline**\n",
    "4. Train using **Train/Validation**\n",
    "5. Tweak **hyperparameters** → pick best validation results\n",
    "5. Evaluate on Test"
   ]
  },
  {
   "cell_type": "markdown",
   "id": "87b1562a",
   "metadata": {
    "slideshow": {
     "slide_type": "subslide"
    }
   },
   "source": [
    "### Summary\n",
    "\n",
    "#### Inputs\n",
    "\n",
    "- **Standardise/normalise** if the features are in different ranges;\n",
    "\n",
    "##### Labels\n",
    "\n",
    "- Just a number, meaning **no activation** in the last layer;"
   ]
  },
  {
   "cell_type": "markdown",
   "id": "54767a2b-f0b2-4329-b505-c1639739d443",
   "metadata": {
    "slideshow": {
     "slide_type": "subslide"
    }
   },
   "source": [
    "#### Key ideas\n",
    "\n",
    "- **Do you know your data??**\n",
    "- Overfitting;\n",
    "- Commonsense baselines;\n",
    "- K-fold validation (for small datasets);"
   ]
  },
  {
   "cell_type": "markdown",
   "id": "86877d7a",
   "metadata": {
    "slideshow": {
     "slide_type": "subslide"
    }
   },
   "source": [
    "### Regression\n",
    "  \n",
    "- We predict a **continuous value** (the price of a house);\n",
    "- The final layer has **no activation**;\n",
    "- The loss function is the **mean squared error**: `mse`;\n",
    "- Instead of accuracy, use the **mean average error** `mae`;\n",
    "- The model outputs the **desired output** (scaled)."
   ]
  },
  {
   "cell_type": "markdown",
   "id": "0110d223",
   "metadata": {
    "slideshow": {
     "slide_type": "subslide"
    }
   },
   "source": [
    "### Experiments\n",
    "\n",
    "\n",
    "- More or fewer hidden layers – 32 units, 64 units etc.;\n",
    "- Try different learning rates;\n",
    "- Replace `relu` with an early neural network favourite, `tanh`;\n",
    "- Try the [`Adam` optimizer](https://www.tensorflow.org/api_docs/python/tf/keras/optimizers#classes_2): `optimizers.Adam(learning_rate=0.001)`"
   ]
  }
 ],
 "metadata": {
  "celltoolbar": "Slideshow",
  "kernelspec": {
   "display_name": "Python 3 (ipykernel)",
   "language": "python",
   "name": "python3"
  },
  "language_info": {
   "codemirror_mode": {
    "name": "ipython",
    "version": 3
   },
   "file_extension": ".py",
   "mimetype": "text/x-python",
   "name": "python",
   "nbconvert_exporter": "python",
   "pygments_lexer": "ipython3",
   "version": "3.7.13"
  }
 },
 "nbformat": 4,
 "nbformat_minor": 5
}
