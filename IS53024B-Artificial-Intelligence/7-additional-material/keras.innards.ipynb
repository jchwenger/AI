{
 "cells": [
  {
   "cell_type": "markdown",
   "id": "6994a31d-7631-46e6-91c8-841707c4e646",
   "metadata": {},
   "source": [
    "# 1. Second model reusing the layers through the functional syntax"
   ]
  },
  {
   "cell_type": "markdown",
   "id": "00668eb8-627a-47d6-a57b-80d510bcba8a",
   "metadata": {},
   "source": [
    "## Load the data"
   ]
  },
  {
   "cell_type": "code",
   "execution_count": 1,
   "id": "8315457d-338a-4661-9deb-2bce31803d18",
   "metadata": {},
   "outputs": [],
   "source": [
    "import numpy as np\n",
    "import tensorflow as tf"
   ]
  },
  {
   "cell_type": "code",
   "execution_count": 2,
   "id": "2752c03c-a438-4526-a0aa-af0b78ee2398",
   "metadata": {},
   "outputs": [],
   "source": [
    "(train_images, train_labels), (test_images, test_labels) = tf.keras.datasets.mnist.load_data()"
   ]
  },
  {
   "cell_type": "code",
   "execution_count": 3,
   "id": "f42ccbf0-952c-4dd1-999c-665e51bab62e",
   "metadata": {},
   "outputs": [],
   "source": [
    "train_images = train_images.reshape((60000, 28 * 28))\n",
    "train_images = train_images.astype('float32') / 255\n",
    "test_images = test_images.reshape((10000, 28 * 28))\n",
    "test_images = test_images.astype('float32') / 255\n",
    "\n",
    "train_labels = tf.keras.utils.to_categorical(train_labels)\n",
    "test_labels = tf.keras.utils.to_categorical(test_labels)"
   ]
  },
  {
   "cell_type": "markdown",
   "id": "dae4fbaf-9a38-4cf2-846c-5ea98005a9b2",
   "metadata": {},
   "source": [
    "## Le Model"
   ]
  },
  {
   "cell_type": "code",
   "execution_count": 4,
   "id": "b7175d8c-81f9-4e93-8e90-d20dcca160d4",
   "metadata": {},
   "outputs": [],
   "source": [
    "inputs = tf.keras.Input(shape=(784,))\n",
    "first_l = tf.keras.layers.Dense(128, activation='relu')(inputs)\n",
    "second_l = tf.keras.layers.Dense(10, activation='softmax')(first_l)\n",
    "model = tf.keras.Model(inputs, second_l)"
   ]
  },
  {
   "cell_type": "code",
   "execution_count": 5,
   "id": "7b0209bb-51a5-46c2-a104-67c069c5f8cd",
   "metadata": {},
   "outputs": [
    {
     "name": "stdout",
     "output_type": "stream",
     "text": [
      "Epoch 1/5\n",
      "938/938 [==============================] - 7s 6ms/step - loss: 0.2825 - accuracy: 0.9213\n",
      "Epoch 2/5\n",
      "938/938 [==============================] - 5s 5ms/step - loss: 0.1312 - accuracy: 0.9618\n",
      "Epoch 3/5\n",
      "938/938 [==============================] - 5s 5ms/step - loss: 0.0936 - accuracy: 0.9723\n",
      "Epoch 4/5\n",
      "938/938 [==============================] - 5s 5ms/step - loss: 0.0736 - accuracy: 0.9777\n",
      "Epoch 5/5\n",
      "938/938 [==============================] - 5s 5ms/step - loss: 0.0608 - accuracy: 0.9825\n"
     ]
    },
    {
     "data": {
      "text/plain": [
       "<keras.callbacks.History at 0x7fd11d7c3b50>"
      ]
     },
     "execution_count": 5,
     "metadata": {},
     "output_type": "execute_result"
    }
   ],
   "source": [
    "model.compile(\n",
    "    optimizer=\"rmsprop\",\n",
    "    loss=\"categorical_crossentropy\",\n",
    "    metrics=[\"accuracy\"]\n",
    ")\n",
    "model.fit(train_images, train_labels, epochs=5, batch_size=64)"
   ]
  },
  {
   "cell_type": "markdown",
   "id": "97029330-fae2-4e11-bca0-80eddb5da70a",
   "metadata": {},
   "source": [
    "## Le Second model"
   ]
  },
  {
   "cell_type": "code",
   "execution_count": 6,
   "id": "ddc2df9b-c545-4c8b-ae5e-cf4103aa4c94",
   "metadata": {},
   "outputs": [],
   "source": [
    "second_model = tf.keras.Model(inputs, first_l)"
   ]
  },
  {
   "cell_type": "markdown",
   "id": "8428d07c-8885-4a79-adce-0fffffe72cc6",
   "metadata": {},
   "source": [
    "Model 1's first layer output & model 2 are the same"
   ]
  },
  {
   "cell_type": "code",
   "execution_count": 7,
   "id": "c6eb89c1-2af3-422f-a1cc-2b214d3fb401",
   "metadata": {},
   "outputs": [
    {
     "data": {
      "text/plain": [
       "<tf.Tensor: shape=(1, 128), dtype=float32, numpy=\n",
       "array([[0.9694876 , 2.013655  , 2.5200915 , 0.        , 0.        ,\n",
       "        0.        , 0.17650075, 0.        , 0.        , 0.        ,\n",
       "        0.        , 0.5180968 , 0.        , 0.        , 2.1536422 ,\n",
       "        0.        , 0.18467633, 0.69022715, 0.        , 0.        ,\n",
       "        0.        , 1.1668979 , 0.        , 0.        , 2.412094  ,\n",
       "        0.        , 0.        , 2.1151462 , 2.1390893 , 0.7056808 ,\n",
       "        0.        , 1.3823683 , 1.6759933 , 2.24496   , 0.        ,\n",
       "        0.        , 2.5638027 , 3.0304947 , 0.7724538 , 0.        ,\n",
       "        0.        , 0.        , 0.        , 0.21234143, 0.        ,\n",
       "        0.976702  , 0.        , 0.        , 0.        , 3.329416  ,\n",
       "        0.        , 1.6250241 , 0.        , 0.        , 0.        ,\n",
       "        0.        , 0.        , 0.        , 0.4641406 , 0.        ,\n",
       "        0.        , 2.1400208 , 0.06968328, 0.        , 1.1336994 ,\n",
       "        2.3812757 , 2.8873024 , 0.        , 0.        , 0.        ,\n",
       "        2.6281419 , 0.        , 1.4839829 , 0.        , 0.6644145 ,\n",
       "        3.368311  , 3.499018  , 0.        , 4.372371  , 0.        ,\n",
       "        0.2808203 , 0.        , 0.        , 0.1778224 , 0.2947222 ,\n",
       "        0.        , 0.98228663, 0.        , 0.5645927 , 2.9281564 ,\n",
       "        0.        , 0.        , 0.        , 0.45840058, 0.10857318,\n",
       "        0.05981345, 0.6043423 , 0.98634964, 0.        , 0.57759106,\n",
       "        0.40824628, 0.        , 0.        , 0.        , 0.8664571 ,\n",
       "        0.84721315, 0.        , 2.1218283 , 4.2734327 , 0.9938497 ,\n",
       "        0.        , 1.5936366 , 0.        , 0.        , 1.3533548 ,\n",
       "        0.7862021 , 0.        , 0.32673022, 2.3659685 , 1.6997645 ,\n",
       "        0.7339981 , 1.3883933 , 2.0802937 , 1.58608   , 1.2036928 ,\n",
       "        2.0466573 , 0.        , 1.8692771 ]], dtype=float32)>"
      ]
     },
     "execution_count": 7,
     "metadata": {},
     "output_type": "execute_result"
    }
   ],
   "source": [
    "model.layers[1](test_images[:1])"
   ]
  },
  {
   "cell_type": "code",
   "execution_count": 8,
   "id": "5450c5fc-a57d-488e-a53c-18afba92bfea",
   "metadata": {},
   "outputs": [
    {
     "data": {
      "text/plain": [
       "TensorShape([1, 128])"
      ]
     },
     "execution_count": 8,
     "metadata": {},
     "output_type": "execute_result"
    }
   ],
   "source": [
    "second_model(test_images[:1]).shape"
   ]
  },
  {
   "cell_type": "markdown",
   "id": "0e80ad14-c9d1-445e-b804-989870c4c90f",
   "metadata": {},
   "source": [
    "The actual numbers are the same (assert_near would throw an error otherwise.)."
   ]
  },
  {
   "cell_type": "code",
   "execution_count": 9,
   "id": "1d665090-8441-448b-bd51-257c84f4eadd",
   "metadata": {},
   "outputs": [],
   "source": [
    "tf.debugging.assert_near(\n",
    "    model.layers[1](test_images[:1]),\n",
    "    second_model(test_images[:1])\n",
    ")"
   ]
  },
  {
   "cell_type": "code",
   "execution_count": 10,
   "id": "162e1657-b3e9-48e8-ac3b-ba7124dceed7",
   "metadata": {},
   "outputs": [
    {
     "data": {
      "text/plain": [
       "True"
      ]
     },
     "execution_count": 10,
     "metadata": {},
     "output_type": "execute_result"
    }
   ],
   "source": [
    "np.allclose(\n",
    "    model.layers[1](test_images[:1]).numpy(),\n",
    "    second_model(test_images[:1]).numpy()\n",
    ")"
   ]
  },
  {
   "cell_type": "markdown",
   "id": "4920954d-abbe-47ae-a787-506399e2d4b6",
   "metadata": {},
   "source": [
    "Note that this means that you can use `model.layers[]` to run data through the net only up to a certain point."
   ]
  },
  {
   "cell_type": "code",
   "execution_count": 11,
   "id": "6fc33166-770b-41cc-aa50-0d86af2277e0",
   "metadata": {},
   "outputs": [
    {
     "data": {
      "text/plain": [
       "[<keras.engine.input_layer.InputLayer at 0x7fd120ba6b50>,\n",
       " <keras.layers.core.dense.Dense at 0x7fd120ba6a50>,\n",
       " <keras.layers.core.dense.Dense at 0x7fd120ba60d0>]"
      ]
     },
     "execution_count": 11,
     "metadata": {},
     "output_type": "execute_result"
    }
   ],
   "source": [
    "model.layers"
   ]
  },
  {
   "cell_type": "code",
   "execution_count": 12,
   "id": "9faefc00-acaf-4da0-b0bd-4b1f71c9bca8",
   "metadata": {},
   "outputs": [
    {
     "name": "stdout",
     "output_type": "stream",
     "text": [
      "before: (1, 784)\n",
      "going through: input_1\n",
      "going through: dense\n",
      "after: (1, 128)\n"
     ]
    }
   ],
   "source": [
    "inputs = test_images[:1]\n",
    "x = inputs\n",
    "print('before:', x.shape)\n",
    "for layer in model.layers[:2]:\n",
    "    print('going through:', layer.name)\n",
    "    x = layer(x)\n",
    "print('after:', x.shape)"
   ]
  },
  {
   "cell_type": "markdown",
   "id": "194e9ae1-6f90-41ed-b00d-bfabea22376a",
   "metadata": {},
   "source": [
    "---\n",
    "\n",
    "# 2. Loss list with None"
   ]
  },
  {
   "cell_type": "code",
   "execution_count": 13,
   "id": "c9c00f49-a28e-4e16-a3c8-e0c2369f860c",
   "metadata": {},
   "outputs": [],
   "source": [
    "inputs = tf.keras.Input(shape=(784,))\n",
    "first_l = tf.keras.layers.Dense(128, activation='relu')(inputs)\n",
    "second_l = tf.keras.layers.Dense(10, activation='softmax')(first_l)\n",
    "model = tf.keras.Model(inputs, [second_l, first_l]) # LIST"
   ]
  },
  {
   "cell_type": "code",
   "execution_count": 14,
   "id": "9483554f-75dd-40cf-b333-fe936f02d702",
   "metadata": {},
   "outputs": [
    {
     "name": "stdout",
     "output_type": "stream",
     "text": [
      "Epoch 1/5\n",
      "938/938 [==============================] - 7s 6ms/step - loss: 0.2869 - dense_3_loss: 0.2869 - dense_3_accuracy: 0.9192 - dense_2_accuracy: 9.8333e-04\n",
      "Epoch 2/5\n",
      "938/938 [==============================] - 5s 6ms/step - loss: 0.1327 - dense_3_loss: 0.1327 - dense_3_accuracy: 0.9614 - dense_2_accuracy: 0.0032\n",
      "Epoch 3/5\n",
      "938/938 [==============================] - 6s 6ms/step - loss: 0.0956 - dense_3_loss: 0.0956 - dense_3_accuracy: 0.9717 - dense_2_accuracy: 0.0085\n",
      "Epoch 4/5\n",
      "938/938 [==============================] - 5s 6ms/step - loss: 0.0744 - dense_3_loss: 0.0744 - dense_3_accuracy: 0.9782 - dense_2_accuracy: 0.0037\n",
      "Epoch 5/5\n",
      "938/938 [==============================] - 5s 6ms/step - loss: 0.0620 - dense_3_loss: 0.0620 - dense_3_accuracy: 0.9817 - dense_2_accuracy: 0.0080\n"
     ]
    },
    {
     "data": {
      "text/plain": [
       "<keras.callbacks.History at 0x7fd120b68950>"
      ]
     },
     "execution_count": 14,
     "metadata": {},
     "output_type": "execute_result"
    }
   ],
   "source": [
    "model.compile(\n",
    "    optimizer=\"rmsprop\",\n",
    "    loss=[\"categorical_crossentropy\", None], # LIST\n",
    "    metrics=[\"accuracy\"]\n",
    ")\n",
    "model.fit(train_images, train_labels, epochs=5, batch_size=64)"
   ]
  },
  {
   "cell_type": "code",
   "execution_count": 15,
   "id": "0c363e57-0191-45ab-a6e8-ef3025a66a3e",
   "metadata": {},
   "outputs": [
    {
     "name": "stdout",
     "output_type": "stream",
     "text": [
      "313/313 [==============================] - 2s 5ms/step - loss: 0.0777 - dense_3_loss: 0.0777 - dense_3_accuracy: 0.9771 - dense_2_accuracy: 0.0091\n"
     ]
    },
    {
     "data": {
      "text/plain": [
       "[0.07774907350540161,\n",
       " 0.07774907350540161,\n",
       " 0.9771000146865845,\n",
       " 0.009100000374019146]"
      ]
     },
     "execution_count": 15,
     "metadata": {},
     "output_type": "execute_result"
    }
   ],
   "source": [
    "model.evaluate(test_images, test_labels) # even works on evaluate"
   ]
  },
  {
   "cell_type": "code",
   "execution_count": 19,
   "id": "fe6cdfed-27c5-48f9-a265-821d23196698",
   "metadata": {},
   "outputs": [
    {
     "name": "stdout",
     "output_type": "stream",
     "text": [
      "(1, 10)\n",
      "(1, 128)\n"
     ]
    }
   ],
   "source": [
    "probs, innards = model(test_images[:1])\n",
    "print(probs.shape) # probs of mnist digit\n",
    "print(innards.shape) # inner activations"
   ]
  }
 ],
 "metadata": {
  "kernelspec": {
   "display_name": "Python 3 (ipykernel)",
   "language": "python",
   "name": "python3"
  },
  "language_info": {
   "codemirror_mode": {
    "name": "ipython",
    "version": 3
   },
   "file_extension": ".py",
   "mimetype": "text/x-python",
   "name": "python",
   "nbconvert_exporter": "python",
   "pygments_lexer": "ipython3",
   "version": "3.9.15"
  }
 },
 "nbformat": 4,
 "nbformat_minor": 5
}
