{
 "cells": [
  {
   "cell_type": "markdown",
   "metadata": {
    "id": "TB0wBWfcVqHz"
   },
   "source": [
    "# Using TensorBoard in Notebooks / Colab\n",
    "\n",
    "This is a modified copy, see the original notebook here.\n",
    "\n",
    "<table class=\"tfo-notebook-buttons\" align=\"left\">\n",
    "  <td>\n",
    "    <a target=\"_blank\" href=\"https://www.tensorflow.org/tensorboard/tensorboard_in_notebooks\"><img src=\"https://www.tensorflow.org/images/tf_logo_32px.png\" />View on TensorFlow.org</a>\n",
    "  </td>\n",
    "</table>"
   ]
  },
  {
   "cell_type": "markdown",
   "metadata": {
    "id": "SRQsxmRU-sdI"
   },
   "source": [
    "# Tutorials\n",
    "\n",
    "[Get started with TensorBoard](https://www.tensorflow.org/tensorboard/get_started)\n",
    "\n",
    "The left-hand menu has loads more."
   ]
  },
  {
   "cell_type": "markdown",
   "metadata": {
    "id": "VszJNloY3ZU3"
   },
   "source": [
    "---\n",
    "\n",
    "# Setup"
   ]
  },
  {
   "cell_type": "markdown",
   "metadata": {
    "id": "E6QhA_dp3eRq"
   },
   "source": [
    "### Locally\n",
    "\n",
    "Tensorboard now ships with TensorFlow automatically. Everything should work fine as soon as you activate your conda environment.\n",
    "\n",
    "The procedure to follow is to add a `TensorBoard` callback to the `.fit` function, start training, then run TensorBoard from the terminal (with the environment activated):\n",
    "\n",
    "```bash\n",
    "tensorboard --logdir <the name of the log dir passed to the TB callback>\n",
    "```"
   ]
  },
  {
   "cell_type": "markdown",
   "metadata": {
    "id": "KMgdfysN8yxX"
   },
   "source": [
    "\n",
    "### Colab\n",
    "\n",
    "Everything just works..."
   ]
  },
  {
   "cell_type": "code",
   "execution_count": null,
   "metadata": {
    "id": "8p3Tbx8cWEFA"
   },
   "outputs": [],
   "source": [
    "# Load the TensorBoard notebook extension\n",
    "%load_ext tensorboard"
   ]
  },
  {
   "cell_type": "markdown",
   "metadata": {
    "id": "9GtR_cTTkf9G"
   },
   "source": [
    "---\n",
    "\n",
    "# Dataset & model\n",
    "\n",
    "Import TensorFlow, datetime, and os:"
   ]
  },
  {
   "cell_type": "code",
   "execution_count": null,
   "metadata": {
    "id": "mVtYvbbIWRkV"
   },
   "outputs": [],
   "source": [
    "import tensorflow as tf\n",
    "import datetime, os"
   ]
  },
  {
   "cell_type": "markdown",
   "metadata": {
    "id": "XfCa27_8kov6"
   },
   "source": [
    "Download the [FashionMNIST](https://github.com/zalandoresearch/fashion-mnist) dataset and scale it:"
   ]
  },
  {
   "cell_type": "code",
   "execution_count": null,
   "metadata": {
    "id": "z8b82G7YksOS"
   },
   "outputs": [],
   "source": [
    "                                    # COURSEWORK: this counts as a bonus, external dataset!\n",
    "(x_train, y_train),(x_test, y_test) = tf.keras.datasets.fashion_mnist.load_data()\n",
    "x_train, x_test = x_train / 255.0, x_test / 255.0"
   ]
  },
  {
   "cell_type": "markdown",
   "metadata": {
    "id": "lBk1BqAZKEKd"
   },
   "source": [
    "Create a very simple model:"
   ]
  },
  {
   "cell_type": "code",
   "execution_count": null,
   "metadata": {
    "id": "OS7qGYiMKGQl"
   },
   "outputs": [],
   "source": [
    "def create_model():\n",
    "    return tf.keras.models.Sequential([\n",
    "        tf.keras.layers.Flatten(input_shape=(28, 28)),\n",
    "        tf.keras.layers.Dense(512, activation='relu'),\n",
    "        tf.keras.layers.Dropout(0.2),\n",
    "        tf.keras.layers.Dense(10, activation='softmax')\n",
    "    ])"
   ]
  },
  {
   "cell_type": "markdown",
   "metadata": {
    "id": "RNaPPs5ZKNOV"
   },
   "source": [
    "Train the model using Keras and the TensorBoard callback:"
   ]
  },
  {
   "cell_type": "code",
   "execution_count": null,
   "metadata": {
    "id": "lpUO9HqUKP6z"
   },
   "outputs": [],
   "source": [
    "def train_model(epochs=5, initial_epoch=0):\n",
    "  \n",
    "    model = create_model()\n",
    "    model.compile(\n",
    "        optimizer='adam',\n",
    "        loss='sparse_categorical_crossentropy',\n",
    "        metrics=['accuracy']\n",
    "    )\n",
    "\n",
    "    logdir = os.path.join(\"logs\", datetime.datetime.now().strftime(\"%Y%m%d-%H%M%S\"))\n",
    "    tensorboard_callback = tf.keras.callbacks.TensorBoard(logdir, histogram_freq=1)\n",
    "\n",
    "    model.fit(\n",
    "        x=x_train, \n",
    "        y=y_train, \n",
    "        epochs=epochs,\n",
    "        initial_epoch=initial_epoch,\n",
    "        validation_data=(x_test, y_test), \n",
    "        callbacks=[tensorboard_callback]\n",
    "    )"
   ]
  },
  {
   "cell_type": "markdown",
   "metadata": {
    "id": "6b_QWJ1J-_Hh"
   },
   "source": [
    "# TensorBoard in Action"
   ]
  },
  {
   "cell_type": "markdown",
   "metadata": {
    "id": "NkTyhz9a8SNw"
   },
   "source": [
    "### Browser warning!\n",
    "\n",
    "This is **supposed** to work in Colab, but on the condition that Third-Party Cookies are allowed, etc. It hasn't in the past month for me, see [this](https://github.com/googlecolab/colabtools/issues/3990).\n",
    "\n",
    "Start TensorBoard within the notebook using [magics](https://ipython.readthedocs.io/en/stable/interactive/magics.html):"
   ]
  },
  {
   "cell_type": "code",
   "execution_count": null,
   "metadata": {
    "id": "BGodiWUd8AZ8"
   },
   "outputs": [],
   "source": [
    "%tensorboard --logdir logs"
   ]
  },
  {
   "cell_type": "markdown",
   "metadata": {
    "id": "SxvXc4hoKW7d"
   },
   "source": [
    "You can now view dashboards such as scalars, graphs, histograms, and others. Some dashboards are not available yet in Colab (such as the profile plugin).\n",
    "\n",
    "The %tensorboard magic has exactly the same format as the TensorBoard command line invocation, but with a %-sign in front of it.\n",
    "\n",
    "Starting TensorBoard before training allows you to monitor it in progress."
   ]
  },
  {
   "cell_type": "markdown",
   "metadata": {
    "id": "GUSM8yLrO2yZ"
   },
   "source": [
    "The same TensorBoard backend is reused by issuing the same command. If a different logs directory was chosen, a new instance of TensorBoard would be opened. Ports are managed automatically. \n",
    "\n",
    "In order to start afresh, you simply delete the directory:\n",
    "\n",
    "```bash\n",
    "!rm -rf logs\n",
    "```\n",
    "\n",
    "Start training a new model and watch TensorBoard update automatically every 30 seconds or refresh it with the button on the top right:"
   ]
  },
  {
   "cell_type": "code",
   "execution_count": null,
   "metadata": {
    "id": "ixZlmtWhMyr4",
    "scrolled": true
   },
   "outputs": [],
   "source": [
    "train_model(epochs=20)"
   ]
  },
  {
   "cell_type": "markdown",
   "metadata": {},
   "source": [
    "## Note\n",
    "\n",
    "If you wanted to train in various installments, there is an option to the `.fit()` method allowing you to define an `initial_epoch`. If you call `.fit()` on an existing model (not like here where the function recreates a model from scratch at each call, then you can call it like so:\n",
    "\n",
    "```python\n",
    " model.fit(\n",
    "    x=x_train, \n",
    "    y=y_train, \n",
    "    epochs=epochs,               # the number of training epochs will be `epochs - initial_epoch`!\n",
    "    initial_epoch=initial_epoch, # define where you start\n",
    "    validation_data=(x_test, y_test), \n",
    "    callbacks=[tensorboard_callback]\n",
    " )\n",
    "```\n",
    "\n",
    "TensorBoard will then correctly continue the graph from `initial_epoch` onward."
   ]
  },
  {
   "cell_type": "markdown",
   "metadata": {
    "id": "IlDz2oXBgnZ9"
   },
   "source": [
    "---\n",
    "\n",
    "# More options\n",
    "\n",
    "You can use the `tensorboard.notebook` APIs for a bit more control. The TB instance must already be running!"
   ]
  },
  {
   "cell_type": "code",
   "execution_count": null,
   "metadata": {
    "id": "ko9qeSQHLrEh"
   },
   "outputs": [],
   "source": [
    "from tensorboard import notebook\n",
    "notebook.list() # View open TensorBoard instances"
   ]
  },
  {
   "cell_type": "code",
   "execution_count": null,
   "metadata": {
    "id": "hzm9DNVILxJe"
   },
   "outputs": [],
   "source": [
    "# Control TensorBoard display. If no port is provided, \n",
    "# the most recently launched TensorBoard is used\n",
    "notebook.display(port=6006, height=1000) "
   ]
  },
  {
   "cell_type": "markdown",
   "metadata": {
    "id": "za2GqzKiWY-R"
   },
   "source": [
    "<!-- <img class=\"tfo-display-only-on-site\" src=\"https://github.com/tensorflow/tensorboard/blob/master/docs/images/notebook_tensorboard_tall.png?raw=1\"/> -->"
   ]
  }
 ],
 "metadata": {
  "accelerator": "GPU",
  "colab": {
   "collapsed_sections": [],
   "private_outputs": true,
   "provenance": [],
   "toc_visible": true
  },
  "gpuClass": "standard",
  "kernelspec": {
   "display_name": "Python 3 (ipykernel)",
   "language": "python",
   "name": "python3"
  },
  "language_info": {
   "codemirror_mode": {
    "name": "ipython",
    "version": 3
   },
   "file_extension": ".py",
   "mimetype": "text/x-python",
   "name": "python",
   "nbconvert_exporter": "python",
   "pygments_lexer": "ipython3",
   "version": "3.9.15"
  }
 },
 "nbformat": 4,
 "nbformat_minor": 4
}
